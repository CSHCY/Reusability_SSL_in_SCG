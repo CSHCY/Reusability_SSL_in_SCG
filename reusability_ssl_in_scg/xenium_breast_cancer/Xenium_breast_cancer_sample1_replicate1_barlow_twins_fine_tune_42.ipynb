{
 "cells": [
  {
   "cell_type": "code",
   "execution_count": 1,
   "metadata": {
    "execution": {
     "iopub.execute_input": "2024-11-03T14:17:46.571377Z",
     "iopub.status.busy": "2024-11-03T14:17:46.570921Z",
     "iopub.status.idle": "2024-11-03T14:17:50.668272Z",
     "shell.execute_reply": "2024-11-03T14:17:50.667514Z"
    }
   },
   "outputs": [
    {
     "name": "stderr",
     "output_type": "stream",
     "text": [
      "/home/hanchuangyi/miniconda3/envs/ssl/lib/python3.10/site-packages/scanpy/preprocessing/_normalization.py:234: UserWarning: Some cells have zero counts\n",
      "  warn(UserWarning(\"Some cells have zero counts\"))\n"
     ]
    }
   ],
   "source": [
    "import scanpy as sc\n",
    "data_dir = '../../dataset/Xenium_breast_cancer_sample1_replicate1.h5ad'\n",
    "adata = sc.read_h5ad(data_dir)\n",
    "sc.pp.normalize_total(adata)\n",
    "sc.pp.log1p(adata)"
   ]
  },
  {
   "cell_type": "code",
   "execution_count": 2,
   "metadata": {
    "execution": {
     "iopub.execute_input": "2024-11-03T14:17:50.698956Z",
     "iopub.status.busy": "2024-11-03T14:17:50.698321Z",
     "iopub.status.idle": "2024-11-03T14:17:52.866720Z",
     "shell.execute_reply": "2024-11-03T14:17:52.866033Z"
    }
   },
   "outputs": [
    {
     "name": "stderr",
     "output_type": "stream",
     "text": [
      "/home/hanchuangyi/miniconda3/envs/ssl/lib/python3.10/site-packages/merlin/dtypes/mappings/tf.py:52: UserWarning: Tensorflow dtype mappings did not load successfully due to an error: No module named 'tensorflow'\n",
      "  warn(f\"Tensorflow dtype mappings did not load successfully due to an error: {exc.msg}\")\n",
      "/home/hanchuangyi/miniconda3/envs/ssl/lib/python3.10/site-packages/merlin/dtypes/mappings/triton.py:53: UserWarning: Triton dtype mappings did not load successfully due to an error: No module named 'tritonclient'\n",
      "  warn(f\"Triton dtype mappings did not load successfully due to an error: {exc.msg}\")\n"
     ]
    },
    {
     "name": "stderr",
     "output_type": "stream",
     "text": [
      "GPU available: True (cuda), used: True\n"
     ]
    },
    {
     "name": "stderr",
     "output_type": "stream",
     "text": [
      "TPU available: False, using: 0 TPU cores\n"
     ]
    },
    {
     "name": "stderr",
     "output_type": "stream",
     "text": [
      "HPU available: False, using: 0 HPUs\n"
     ]
    },
    {
     "data": {
      "text/plain": [
       "MLPBarlowTwins(\n",
       "  (train_metrics): MetricCollection(\n",
       "    (explained_var_uniform): ExplainedVariance()\n",
       "    (explained_var_weighted): ExplainedVariance()\n",
       "    (mse): MeanSquaredError(),\n",
       "    prefix=train_\n",
       "  )\n",
       "  (val_metrics): MetricCollection(\n",
       "    (explained_var_uniform): ExplainedVariance()\n",
       "    (explained_var_weighted): ExplainedVariance()\n",
       "    (mse): MeanSquaredError(),\n",
       "    prefix=val_\n",
       "  )\n",
       "  (test_metrics): MetricCollection(\n",
       "    (explained_var_uniform): ExplainedVariance()\n",
       "    (explained_var_weighted): ExplainedVariance()\n",
       "    (mse): MeanSquaredError(),\n",
       "    prefix=test_\n",
       "  )\n",
       "  (inner_model): MLP(\n",
       "    (0): Linear(in_features=19331, out_features=512, bias=True)\n",
       "    (1): SELU()\n",
       "    (2): Dropout(p=0.0, inplace=False)\n",
       "    (3): Linear(in_features=512, out_features=512, bias=True)\n",
       "    (4): SELU()\n",
       "    (5): Dropout(p=0.0, inplace=False)\n",
       "    (6): Linear(in_features=512, out_features=256, bias=True)\n",
       "    (7): SELU()\n",
       "    (8): Dropout(p=0.0, inplace=False)\n",
       "    (9): Linear(in_features=256, out_features=256, bias=True)\n",
       "    (10): SELU()\n",
       "    (11): Dropout(p=0.0, inplace=False)\n",
       "    (12): Linear(in_features=256, out_features=64, bias=True)\n",
       "  )\n",
       "  (barlow_twins): BarlowTwins(\n",
       "    (backbone): MLP(\n",
       "      (0): Linear(in_features=19331, out_features=512, bias=True)\n",
       "      (1): SELU()\n",
       "      (2): Dropout(p=0.0, inplace=False)\n",
       "      (3): Linear(in_features=512, out_features=512, bias=True)\n",
       "      (4): SELU()\n",
       "      (5): Dropout(p=0.0, inplace=False)\n",
       "      (6): Linear(in_features=512, out_features=256, bias=True)\n",
       "      (7): SELU()\n",
       "      (8): Dropout(p=0.0, inplace=False)\n",
       "      (9): Linear(in_features=256, out_features=256, bias=True)\n",
       "      (10): SELU()\n",
       "      (11): Dropout(p=0.0, inplace=False)\n",
       "      (12): Linear(in_features=256, out_features=64, bias=True)\n",
       "    )\n",
       "    (projector): Sequential(\n",
       "      (0): Linear(in_features=64, out_features=256, bias=False)\n",
       "      (1): BatchNorm1d(256, eps=1e-05, momentum=0.1, affine=True, track_running_stats=True)\n",
       "      (2): ReLU(inplace=True)\n",
       "      (3): Linear(in_features=256, out_features=256, bias=False)\n",
       "      (4): BatchNorm1d(256, eps=1e-05, momentum=0.1, affine=True, track_running_stats=True)\n",
       "      (5): ReLU(inplace=True)\n",
       "      (6): Linear(in_features=256, out_features=512, bias=False)\n",
       "      (7): BatchNorm1d(512, eps=1e-05, momentum=0.1, affine=True, track_running_stats=True)\n",
       "      (8): ReLU(inplace=True)\n",
       "      (9): Linear(in_features=512, out_features=512, bias=False)\n",
       "    )\n",
       "    (bn): BatchNorm1d(512, eps=1e-05, momentum=0.1, affine=False, track_running_stats=True)\n",
       "  )\n",
       ")"
      ]
     },
     "execution_count": 2,
     "metadata": {},
     "output_type": "execute_result"
    }
   ],
   "source": [
    "%load_ext autoreload\n",
    "%autoreload 2\n",
    "import torch\n",
    "from torch import nn\n",
    "from torch.optim import AdamW\n",
    "import lightning.pytorch as pl\n",
    "from sklearn.model_selection import train_test_split\n",
    "from sklearn.preprocessing import LabelEncoder\n",
    "from self_supervision.models.lightning_modules.cellnet_autoencoder import MLPBarlowTwins\n",
    "from self_supervision.estimator.cellnet import EstimatorAutoEncoder\n",
    "\n",
    "# 设置你的 .ckpt 文件路径\n",
    "ckpt_path = \"../../sc_pretrained/Pretrained Models/BarlowTwins.ckpt\"\n",
    "\n",
    "# 模型参数\n",
    "units_encoder = [512, 512, 256, 256, 64]\n",
    "\n",
    "# 初始化 EstimatorAutoEncoder 实例\n",
    "estim = EstimatorAutoEncoder(data_path=None)  # 如果没有实际数据路径，可以设置为None\n",
    "\n",
    "# 加载预训练模型\n",
    "estim.model = MLPBarlowTwins(\n",
    "        gene_dim=19331,  # 根据你的数据调整\n",
    "        batch_size=128,  # 根据你的需要调整\n",
    "        units_encoder=units_encoder,\n",
    "        CHECKPOINT_PATH=ckpt_path\n",
    "    )\n",
    "\n",
    "\n",
    "estim.trainer = pl.Trainer(accelerator=\"gpu\", devices=1 if torch.cuda.is_available() else None)\n",
    "estim.model"
   ]
  },
  {
   "cell_type": "code",
   "execution_count": 3,
   "metadata": {
    "execution": {
     "iopub.execute_input": "2024-11-03T14:17:52.868841Z",
     "iopub.status.busy": "2024-11-03T14:17:52.868130Z",
     "iopub.status.idle": "2024-11-03T14:17:54.164523Z",
     "shell.execute_reply": "2024-11-03T14:17:54.163443Z"
    }
   },
   "outputs": [],
   "source": [
    "# 加载 checkpoint\n",
    "checkpoint = torch.load(ckpt_path)\n",
    "estim.model.inner_model.load_state_dict({k.replace('backbone.', ''): v for k, v in checkpoint.items() if 'backbone' in k})\n",
    "\n",
    "# 5. 添加分类层 (FC 层)\n",
    "n_classes = len(adata.obs['cell_type'].unique())\n",
    "estim.model.fc = nn.Linear(units_encoder[-1], n_classes)"
   ]
  },
  {
   "cell_type": "code",
   "execution_count": 4,
   "metadata": {
    "execution": {
     "iopub.execute_input": "2024-11-03T14:17:54.166610Z",
     "iopub.status.busy": "2024-11-03T14:17:54.166261Z",
     "iopub.status.idle": "2024-11-03T14:17:54.204926Z",
     "shell.execute_reply": "2024-11-03T14:17:54.204287Z"
    }
   },
   "outputs": [],
   "source": [
    "# 6. 冻结 encoder 的大部分参数，解冻所有层\n",
    "for param in estim.model.inner_model.parameters():\n",
    "    param.requires_grad = False  # 冻结所有层\n",
    "\n",
    "# 解冻最后两层\n",
    "for param in list(estim.model.inner_model.parameters())[-5:]:\n",
    "    param.requires_grad = True"
   ]
  },
  {
   "cell_type": "code",
   "execution_count": 5,
   "metadata": {
    "execution": {
     "iopub.execute_input": "2024-11-03T14:17:54.206682Z",
     "iopub.status.busy": "2024-11-03T14:17:54.206306Z",
     "iopub.status.idle": "2024-11-03T14:17:54.253073Z",
     "shell.execute_reply": "2024-11-03T14:17:54.252335Z"
    }
   },
   "outputs": [],
   "source": [
    "# 7. 定义损失函数和优化器\n",
    "device = torch.device(\"cuda\" if torch.cuda.is_available() else \"cpu\")\n",
    "estim.model.to(device)\n",
    "loss_fn = nn.CrossEntropyLoss()\n",
    "optimizer = AdamW(filter(lambda p: p.requires_grad, estim.model.parameters()), lr=9e-4, weight_decay=0.05)"
   ]
  },
  {
   "cell_type": "code",
   "execution_count": 6,
   "metadata": {
    "execution": {
     "iopub.execute_input": "2024-11-03T14:17:54.254545Z",
     "iopub.status.busy": "2024-11-03T14:17:54.254357Z",
     "iopub.status.idle": "2024-11-03T14:17:54.313595Z",
     "shell.execute_reply": "2024-11-03T14:17:54.312727Z"
    }
   },
   "outputs": [],
   "source": [
    "import pandas as pd\n",
    "import numpy as np\n",
    "\n",
    "var_df = pd.read_parquet('../../sc_pretrained/var.parquet')\n",
    "all_genes = var_df['feature_name'].tolist()\n",
    "\n",
    "new_data = np.zeros((adata.X.shape[0], len(all_genes)), dtype=np.float32)\n",
    "\n",
    "adata.var['gene_name']=adata.var.index\n",
    "existing_genes = adata.var['gene_name']"
   ]
  },
  {
   "cell_type": "code",
   "execution_count": 7,
   "metadata": {
    "execution": {
     "iopub.execute_input": "2024-11-03T14:17:54.315165Z",
     "iopub.status.busy": "2024-11-03T14:17:54.314876Z",
     "iopub.status.idle": "2024-11-03T14:17:54.359139Z",
     "shell.execute_reply": "2024-11-03T14:17:54.358461Z"
    }
   },
   "outputs": [
    {
     "name": "stdout",
     "output_type": "stream",
     "text": [
      "匹配的基因数量: 305\n",
      "匹配的基因列表: {'lum', 'sox17', 'cavin2', 'lep', 'mmp1', 'tacstd2', 'dnaaf1', 'ramp2', 'slc5a6', 'clecl1', 'klrf1', 'aqp1', 'pigr', 'adgre5', 'serpinb9', 'rorc', 'aldh1a3', 'egfr', 'pecam1', 'tceal7', 'c5orf46', 'hoxd9', 'dsp', 'tyrobp', 'spib', 'ccl5', 'map3k8', 'slc25a37', 'sqle', 'pgr', 'usp53', 'clic6', 'il2ra', 'ucp1', 'ccl20', 'acta2', 'medag', 'eif4ebp1', 'gzma', 'cenpf', 'mlph', 'adipoq', 'lpl', 'tomm7', 'ptn', 'klrb1', 'cdh1', 'ccdc80', 'vwf', 'gnly', 'mylk', 'muc6', 'hoxd8', 'pparg', 'ccdc6', 'nostrin', 'cd8a', 'smap2', 'clca2', 'rhoh', 'oxtr', 'elf3', 'cxcl12', 'c2orf42', 'pde4a', 'ccpg1', 'snai1', 'ncam1', 'cyp1a1', 'cldn5', 'ociad2', 'gjb2', 'il7r', 'gpr183', 'cxcl5', 'akr1c1', 'cav1', 'pdcd1', 'cd79b', 'fcer1a', 'lgalsl', 'glipr1', 'krt8', 'cd4', 'ceacam6', 'apoc1', 'thap2', 'myo5b', 'sdc4', 'trappc3', 'gzmk', 'apobec3b', 'tubb2b', 'dnttip1', 'znf562', 'jup', 'cldn4', 'serhl2', 'pim1', 'epcam', 'klrd1', 'cd69', 'kit', 'ndufa4l2', 'tac1', 'timp4', 'btnl9', 'cxcl16', 'pdgfra', 'sec24a', 'cd19', 'igsf6', 'krt23', 'klrc1', 'cttn', 'postn', 'c6orf132', 'cd86', 'il3ra', 'tcf15', 'pclaf', 'ar', 'mrc1', 'zeb2', 'rtkn2', 'aif1', 'mmp2', 'tuba4a', 'hpx', 'rab30', 'top2a', 'tigit', 'cytip', 'tent5c', 'cd3e', 'ccl8', 'cd27', 'itm2c', 'tpd52', 'adh1b', 'srpk1', 'dpt', 'enah', 'fcer1g', 'cd3g', 'pdcd1lg2', 'derl3', 'dapk3', 'fcgr3a', 'stc1', 'cxcr4', 'svil', 'fam107b', 'tcim', 'ldhb', 'ceacam8', 's100a8', 'ptprc', 'fgl2', 'avpr1a', 'prf1', 'fstl3', 'akr1c3', 'krt7', 'pcolce', 'foxc2', 'nkg7', 'krt5', 'tpsab1', 'ctsg', 'vopp1', 'elf5', 'foxp3', 'lypd3', 'dsc2', 'rexo4', 'krt6b', 'basp1', 'mnda', 'flnb', 'hmga1', 'cd79a', 'abcc11', 'clec9a', 'cd1c', 'hdc', 'pld4', 'lpxn', 'trib1', 'gzmb', 'dmkn', 'tcf4', 'cd80', 'sstr2', 'krt15', 'oprpn', 'prdm1', 'fblim1', 'mki67', 'traf4', 'agr3', 'cd83', 'mmrn2', 'foxa1', 'scd', 'sox18', 'ahsp', 'pdk4', 'pdgfrb', 'sec11c', 'mpo', 'cd9', 'actg2', 'tnfrsf17', 'sms', 'cpa3', 'cd14', 'krt14', 'runx1', 'angpt2', 's100a14', 'havcr2', 'slamf7', 'dusp2', 'cd163', 'cd247', 'cdc42ep1', 'fasn', 'cx3cr1', 'egfl7', 'ptrhd1', 'serpina3', 'bank1', 'tifa', 'bace2', 'ltb', 'igf1', 'ern1', 'erbb2', 'tmem147', 'itgam', 'ankrd29', 'cd68', 'lrrc15', 'sell', 'scgb2a1', 'rapgef3', 'cth', 'myh11', 'ly86', 'fbln1', 'npm3', 'sh3yl1', 'c1qc', 'ccnd1', 'ankrd30a', 'dusp5', 'cd274', 'esr1', 'adam9', 'ccr7', 'cd3d', 'tcf7', 'ptgds', 'lag3', 'crhbp', 'itgax', 'krt16', 'ankrd28', 'il2rg', 'zeb1', 'ednrb', 's100a4', 'lilra4', 'crispld2', 'gata3', 'lif', 'apobec3a', 'ctla4', 'mdm2', 'c15orf48', 'tfap2a', 'sfrp1', 'mybpc1', 'slamf1', 'c1qa', 'mzb1', 'peli1', 'dst', 'edn1', 'kdr', 'ms4a1', 'esm1', 'lyz', 'aqp3', 'cd8b', 'sfrp4', 'mmp12', 'csf3', 'klf5', 'hook2', 'cd93', 'slc4a1', 'clec14a', 'tcl1a'}\n"
     ]
    },
    {
     "data": {
      "text/plain": [
       "{'fam49a', 'kars', 'lars', 'nars', 'polr2j3', 'qars', 'trac', 'wars'}"
      ]
     },
     "execution_count": 7,
     "metadata": {},
     "output_type": "execute_result"
    }
   ],
   "source": [
    "# 将所有基因名称转换为小写\n",
    "all_genes_lower = [gene.lower() for gene in all_genes]\n",
    "adata_genes_lower = [gene.lower() for gene in existing_genes]\n",
    "\n",
    "# 将两个列表转换为集合\n",
    "all_genes_set = set(all_genes_lower)\n",
    "adata_genes_set = set(adata_genes_lower)\n",
    "\n",
    "# 计算交集\n",
    "matching_genes = all_genes_set.intersection(adata_genes_set)\n",
    "matching_count = len(matching_genes)\n",
    "# 计算不匹配的基因\n",
    "non_matching_genes = adata_genes_set - matching_genes\n",
    "non_matching_count = len(non_matching_genes)\n",
    "\n",
    "\n",
    "# 输出结果\n",
    "print(f\"匹配的基因数量: {matching_count}\")\n",
    "print(f\"匹配的基因列表: {matching_genes}\")\n",
    "non_matching_genes"
   ]
  },
  {
   "cell_type": "code",
   "execution_count": 8,
   "metadata": {
    "execution": {
     "iopub.execute_input": "2024-11-03T14:17:54.360881Z",
     "iopub.status.busy": "2024-11-03T14:17:54.360473Z",
     "iopub.status.idle": "2024-11-03T14:18:00.269621Z",
     "shell.execute_reply": "2024-11-03T14:18:00.268676Z"
    }
   },
   "outputs": [
    {
     "name": "stdout",
     "output_type": "stream",
     "text": [
      "Gene fam49a not found in all_genes list\n",
      "Gene kars not found in all_genes list\n"
     ]
    },
    {
     "name": "stdout",
     "output_type": "stream",
     "text": [
      "Gene lars not found in all_genes list\n",
      "Gene nars not found in all_genes list\n"
     ]
    },
    {
     "name": "stdout",
     "output_type": "stream",
     "text": [
      "Gene polr2j3 not found in all_genes list\n",
      "Gene qars not found in all_genes list\n"
     ]
    },
    {
     "name": "stdout",
     "output_type": "stream",
     "text": [
      "Gene trac not found in all_genes list\n",
      "Gene wars not found in all_genes list\n"
     ]
    }
   ],
   "source": [
    "gene_to_index = {gene: idx for idx, gene in enumerate(all_genes_lower)}\n",
    "dense_adata_X = adata.X.toarray()\n",
    "for i, gene in enumerate(adata_genes_lower):\n",
    "    if gene in gene_to_index:\n",
    "        new_data[:, gene_to_index[gene]] = dense_adata_X[:, i]\n",
    "    else:\n",
    "        print(f'Gene {gene} not found in all_genes list')"
   ]
  },
  {
   "cell_type": "code",
   "execution_count": 9,
   "metadata": {
    "execution": {
     "iopub.execute_input": "2024-11-03T14:18:00.271328Z",
     "iopub.status.busy": "2024-11-03T14:18:00.271062Z",
     "iopub.status.idle": "2024-11-03T14:18:05.868209Z",
     "shell.execute_reply": "2024-11-03T14:18:05.867441Z"
    }
   },
   "outputs": [
    {
     "name": "stderr",
     "output_type": "stream",
     "text": [
      "GPU available: True (cuda), used: True\n"
     ]
    },
    {
     "name": "stderr",
     "output_type": "stream",
     "text": [
      "TPU available: False, using: 0 TPU cores\n"
     ]
    },
    {
     "name": "stderr",
     "output_type": "stream",
     "text": [
      "HPU available: False, using: 0 HPUs\n"
     ]
    }
   ],
   "source": [
    "estim.trainer = pl.Trainer(accelerator=\"gpu\", devices=1 if torch.cuda.is_available() else None)\n",
    "# 5. 数据集划分（70% 训练，15% 验证，15% 测试）\n",
    "label_encoder = LabelEncoder()\n",
    "labels_encoded = label_encoder.fit_transform(adata.obs['cell_type'])  # 预先编码标签\n",
    "\n",
    "\n",
    "random_seed = 42\n",
    "\n",
    "X_train_val, X_test, y_train_val, y_test = train_test_split(\n",
    "    new_data, labels_encoded, test_size=0.15, random_state=random_seed)\n",
    "\n",
    "X_train, X_val, y_train, y_val = train_test_split(\n",
    "    X_train_val, y_train_val, test_size=0.1765, random_state=random_seed)  # 0.1765 是为了让验证集占 15%"
   ]
  },
  {
   "cell_type": "code",
   "execution_count": 10,
   "metadata": {
    "execution": {
     "iopub.execute_input": "2024-11-03T14:18:05.870198Z",
     "iopub.status.busy": "2024-11-03T14:18:05.869808Z",
     "iopub.status.idle": "2024-11-03T14:18:08.249240Z",
     "shell.execute_reply": "2024-11-03T14:18:08.248537Z"
    }
   },
   "outputs": [],
   "source": [
    "X_train_tensor = torch.tensor(X_train).float().to(device)\n",
    "y_train_tensor = torch.tensor(y_train).long().to(device)\n",
    "X_val_tensor = torch.tensor(X_val).float().to(device)\n",
    "y_val_tensor = torch.tensor(y_val).long().to(device)"
   ]
  },
  {
   "cell_type": "code",
   "execution_count": 11,
   "metadata": {
    "execution": {
     "iopub.execute_input": "2024-11-03T14:18:08.251306Z",
     "iopub.status.busy": "2024-11-03T14:18:08.251136Z",
     "iopub.status.idle": "2024-11-03T14:18:08.288644Z",
     "shell.execute_reply": "2024-11-03T14:18:08.287801Z"
    }
   },
   "outputs": [],
   "source": [
    "from torch.utils.data import DataLoader, TensorDataset\n",
    "\n",
    "# 设置 batch size\n",
    "batch_size = 128  # 根据实际需求调整 batch size\n",
    "\n",
    "# 使用 TensorDataset 将训练数据和标签打包\n",
    "train_dataset = TensorDataset(X_train_tensor, y_train_tensor)\n",
    "val_dataset = TensorDataset(X_val_tensor, y_val_tensor)\n",
    "\n",
    "# 使用 DataLoader 来创建批次\n",
    "train_loader = DataLoader(train_dataset, batch_size=batch_size, shuffle=True)\n",
    "val_loader = DataLoader(val_dataset, batch_size=batch_size, shuffle=False)\n",
    "\n",
    "\n",
    "# 7. 微调模型\n",
    "def train_epoch(model, optimizer, loss_fn, train_loader, val_loader):\n",
    "    model.train()\n",
    "    total_train_loss = 0\n",
    "    \n",
    "    # 训练集批次训练\n",
    "    for X_batch, y_batch in train_loader:\n",
    "        optimizer.zero_grad()\n",
    "        \n",
    "        # 前向传播\n",
    "        outputs = model.inner_model(X_batch)\n",
    "        logits = model.fc(outputs)\n",
    "        \n",
    "        # 计算损失\n",
    "        loss = loss_fn(logits, y_batch)\n",
    "        loss.backward()\n",
    "        optimizer.step()\n",
    "        \n",
    "        total_train_loss += loss.item()\n",
    "    \n",
    "    # 验证集\n",
    "    model.eval()\n",
    "    total_val_loss = 0\n",
    "    with torch.no_grad():\n",
    "        for X_val_batch, y_val_batch in val_loader:\n",
    "            val_outputs = model.inner_model(X_val_batch)\n",
    "            val_logits = model.fc(val_outputs)\n",
    "            val_loss = loss_fn(val_logits, y_val_batch)\n",
    "            total_val_loss += val_loss.item()\n",
    "\n",
    "    # 返回平均损失\n",
    "    return total_train_loss / len(train_loader), total_val_loss / len(val_loader)"
   ]
  },
  {
   "cell_type": "code",
   "execution_count": 12,
   "metadata": {
    "execution": {
     "iopub.execute_input": "2024-11-03T14:18:08.290205Z",
     "iopub.status.busy": "2024-11-03T14:18:08.289846Z",
     "iopub.status.idle": "2024-11-03T14:18:08.324383Z",
     "shell.execute_reply": "2024-11-03T14:18:08.323701Z"
    }
   },
   "outputs": [],
   "source": [
    "torch.cuda.empty_cache()"
   ]
  },
  {
   "cell_type": "code",
   "execution_count": 13,
   "metadata": {
    "execution": {
     "iopub.execute_input": "2024-11-03T14:18:08.326105Z",
     "iopub.status.busy": "2024-11-03T14:18:08.325639Z",
     "iopub.status.idle": "2024-11-03T14:20:17.375577Z",
     "shell.execute_reply": "2024-11-03T14:20:17.374667Z"
    }
   },
   "outputs": [
    {
     "name": "stdout",
     "output_type": "stream",
     "text": [
      "Epoch 1, Train Loss: 0.5759692994760013, Validation Loss: 0.4227222274553957\n"
     ]
    },
    {
     "name": "stdout",
     "output_type": "stream",
     "text": [
      "Validation loss improved to 0.4227222274553957, resetting patience.\n"
     ]
    },
    {
     "name": "stdout",
     "output_type": "stream",
     "text": [
      "Epoch 2, Train Loss: 0.4149970187113695, Validation Loss: 0.39441895220182877\n",
      "Validation loss improved to 0.39441895220182877, resetting patience.\n"
     ]
    },
    {
     "name": "stdout",
     "output_type": "stream",
     "text": [
      "Epoch 3, Train Loss: 0.38734839228438395, Validation Loss: 0.3530434879100867\n",
      "Validation loss improved to 0.3530434879100867, resetting patience.\n"
     ]
    },
    {
     "name": "stdout",
     "output_type": "stream",
     "text": [
      "Epoch 4, Train Loss: 0.37099776907229476, Validation Loss: 0.38394243758039426\n",
      "No improvement in validation loss. Patience counter: 1/20\n"
     ]
    },
    {
     "name": "stdout",
     "output_type": "stream",
     "text": [
      "Epoch 5, Train Loss: 0.3573476911272878, Validation Loss: 0.3437518762604234\n",
      "Validation loss improved to 0.3437518762604234, resetting patience.\n"
     ]
    },
    {
     "name": "stdout",
     "output_type": "stream",
     "text": [
      "Epoch 6, Train Loss: 0.34855335145734234, Validation Loss: 0.32352081001712585\n",
      "Validation loss improved to 0.32352081001712585, resetting patience.\n"
     ]
    },
    {
     "name": "stdout",
     "output_type": "stream",
     "text": [
      "Epoch 7, Train Loss: 0.34254150954531687, Validation Loss: 0.3778070626676385\n",
      "No improvement in validation loss. Patience counter: 1/20\n"
     ]
    },
    {
     "name": "stdout",
     "output_type": "stream",
     "text": [
      "Epoch 8, Train Loss: 0.3353996982144634, Validation Loss: 0.357929033525099\n",
      "No improvement in validation loss. Patience counter: 2/20\n"
     ]
    },
    {
     "name": "stdout",
     "output_type": "stream",
     "text": [
      "Epoch 9, Train Loss: 0.3304104938259052, Validation Loss: 0.3172870797251687\n",
      "Validation loss improved to 0.3172870797251687, resetting patience.\n"
     ]
    },
    {
     "name": "stdout",
     "output_type": "stream",
     "text": [
      "Epoch 10, Train Loss: 0.3283351430576092, Validation Loss: 0.39824561192299507\n",
      "No improvement in validation loss. Patience counter: 1/20\n"
     ]
    },
    {
     "name": "stdout",
     "output_type": "stream",
     "text": [
      "Epoch 11, Train Loss: 0.3236961121263068, Validation Loss: 0.3266176885457208\n",
      "No improvement in validation loss. Patience counter: 2/20\n"
     ]
    },
    {
     "name": "stdout",
     "output_type": "stream",
     "text": [
      "Epoch 12, Train Loss: 0.32201991322772955, Validation Loss: 0.31863011631566257\n",
      "No improvement in validation loss. Patience counter: 3/20\n"
     ]
    },
    {
     "name": "stdout",
     "output_type": "stream",
     "text": [
      "Epoch 13, Train Loss: 0.31721932278674153, Validation Loss: 0.3231147285645383\n",
      "No improvement in validation loss. Patience counter: 4/20\n"
     ]
    },
    {
     "name": "stdout",
     "output_type": "stream",
     "text": [
      "Epoch 14, Train Loss: 0.3165689976256917, Validation Loss: 0.32755117897454855\n",
      "No improvement in validation loss. Patience counter: 5/20\n"
     ]
    },
    {
     "name": "stdout",
     "output_type": "stream",
     "text": [
      "Epoch 15, Train Loss: 0.31255849265779545, Validation Loss: 0.30659657504957943\n",
      "Validation loss improved to 0.30659657504957943, resetting patience.\n"
     ]
    },
    {
     "name": "stdout",
     "output_type": "stream",
     "text": [
      "Epoch 16, Train Loss: 0.3124338966796341, Validation Loss: 0.3039498498597121\n",
      "Validation loss improved to 0.3039498498597121, resetting patience.\n"
     ]
    },
    {
     "name": "stdout",
     "output_type": "stream",
     "text": [
      "Epoch 17, Train Loss: 0.31011877369646934, Validation Loss: 0.29233270671767025\n",
      "Validation loss improved to 0.29233270671767025, resetting patience.\n"
     ]
    },
    {
     "name": "stdout",
     "output_type": "stream",
     "text": [
      "Epoch 18, Train Loss: 0.3071248661199167, Validation Loss: 0.30478509247000446\n",
      "No improvement in validation loss. Patience counter: 1/20\n"
     ]
    },
    {
     "name": "stdout",
     "output_type": "stream",
     "text": [
      "Epoch 19, Train Loss: 0.3031229107013715, Validation Loss: 0.3050491394579108\n",
      "No improvement in validation loss. Patience counter: 2/20\n"
     ]
    },
    {
     "name": "stdout",
     "output_type": "stream",
     "text": [
      "Epoch 20, Train Loss: 0.30229267528309023, Validation Loss: 0.3019115724388113\n",
      "No improvement in validation loss. Patience counter: 3/20\n"
     ]
    },
    {
     "name": "stdout",
     "output_type": "stream",
     "text": [
      "Epoch 21, Train Loss: 0.30290907597035366, Validation Loss: 0.35094245383279576\n",
      "No improvement in validation loss. Patience counter: 4/20\n"
     ]
    },
    {
     "name": "stdout",
     "output_type": "stream",
     "text": [
      "Epoch 22, Train Loss: 0.29949775151502595, Validation Loss: 0.3151655522397327\n",
      "No improvement in validation loss. Patience counter: 5/20\n"
     ]
    },
    {
     "name": "stdout",
     "output_type": "stream",
     "text": [
      "Epoch 23, Train Loss: 0.2977463645710405, Validation Loss: 0.32315665922189124\n",
      "No improvement in validation loss. Patience counter: 6/20\n"
     ]
    },
    {
     "name": "stdout",
     "output_type": "stream",
     "text": [
      "Epoch 24, Train Loss: 0.2993490778737598, Validation Loss: 0.309044157414872\n",
      "No improvement in validation loss. Patience counter: 7/20\n"
     ]
    },
    {
     "name": "stdout",
     "output_type": "stream",
     "text": [
      "Epoch 25, Train Loss: 0.29715913780893893, Validation Loss: 0.2918733013462899\n",
      "Validation loss improved to 0.2918733013462899, resetting patience.\n"
     ]
    },
    {
     "name": "stdout",
     "output_type": "stream",
     "text": [
      "Epoch 26, Train Loss: 0.2961721504208569, Validation Loss: 0.3019777834415436\n",
      "No improvement in validation loss. Patience counter: 1/20\n"
     ]
    },
    {
     "name": "stdout",
     "output_type": "stream",
     "text": [
      "Epoch 27, Train Loss: 0.29808862448907364, Validation Loss: 0.29710202773815486\n",
      "No improvement in validation loss. Patience counter: 2/20\n"
     ]
    },
    {
     "name": "stdout",
     "output_type": "stream",
     "text": [
      "Epoch 28, Train Loss: 0.294718096539995, Validation Loss: 0.29504718612595865\n",
      "No improvement in validation loss. Patience counter: 3/20\n"
     ]
    },
    {
     "name": "stdout",
     "output_type": "stream",
     "text": [
      "Epoch 29, Train Loss: 0.29266659251550187, Validation Loss: 0.31600695462698863\n",
      "No improvement in validation loss. Patience counter: 4/20\n"
     ]
    },
    {
     "name": "stdout",
     "output_type": "stream",
     "text": [
      "Epoch 30, Train Loss: 0.29222832691565576, Validation Loss: 0.30677242266950266\n",
      "No improvement in validation loss. Patience counter: 5/20\n"
     ]
    },
    {
     "name": "stdout",
     "output_type": "stream",
     "text": [
      "Epoch 31, Train Loss: 0.29300386573883963, Validation Loss: 0.3103094626653013\n",
      "No improvement in validation loss. Patience counter: 6/20\n"
     ]
    },
    {
     "name": "stdout",
     "output_type": "stream",
     "text": [
      "Epoch 32, Train Loss: 0.29204022428244025, Validation Loss: 0.29012747804828104\n",
      "Validation loss improved to 0.29012747804828104, resetting patience.\n"
     ]
    },
    {
     "name": "stdout",
     "output_type": "stream",
     "text": [
      "Epoch 33, Train Loss: 0.2897015207798133, Validation Loss: 0.2907006096870161\n",
      "No improvement in validation loss. Patience counter: 1/20\n"
     ]
    },
    {
     "name": "stdout",
     "output_type": "stream",
     "text": [
      "Epoch 34, Train Loss: 0.2935126260377483, Validation Loss: 0.3025694763297357\n",
      "No improvement in validation loss. Patience counter: 2/20\n"
     ]
    },
    {
     "name": "stdout",
     "output_type": "stream",
     "text": [
      "Epoch 35, Train Loss: 0.2910657207723017, Validation Loss: 0.2842584221344914\n",
      "Validation loss improved to 0.2842584221344914, resetting patience.\n"
     ]
    },
    {
     "name": "stdout",
     "output_type": "stream",
     "text": [
      "Epoch 36, Train Loss: 0.2919097605094411, Validation Loss: 0.3246681407320923\n",
      "No improvement in validation loss. Patience counter: 1/20\n"
     ]
    },
    {
     "name": "stdout",
     "output_type": "stream",
     "text": [
      "Epoch 37, Train Loss: 0.28841903870661534, Validation Loss: 0.2966428370342642\n",
      "No improvement in validation loss. Patience counter: 2/20\n"
     ]
    },
    {
     "name": "stdout",
     "output_type": "stream",
     "text": [
      "Epoch 38, Train Loss: 0.28912392377950785, Validation Loss: 0.2873710672262356\n",
      "No improvement in validation loss. Patience counter: 3/20\n"
     ]
    },
    {
     "name": "stdout",
     "output_type": "stream",
     "text": [
      "Epoch 39, Train Loss: 0.2906608518480865, Validation Loss: 0.3180784117903201\n",
      "No improvement in validation loss. Patience counter: 4/20\n"
     ]
    },
    {
     "name": "stdout",
     "output_type": "stream",
     "text": [
      "Epoch 40, Train Loss: 0.2886188200681038, Validation Loss: 0.28451721877010944\n",
      "No improvement in validation loss. Patience counter: 5/20\n"
     ]
    },
    {
     "name": "stdout",
     "output_type": "stream",
     "text": [
      "Epoch 41, Train Loss: 0.2872213622096577, Validation Loss: 0.30819246142648804\n",
      "No improvement in validation loss. Patience counter: 6/20\n"
     ]
    },
    {
     "name": "stdout",
     "output_type": "stream",
     "text": [
      "Epoch 42, Train Loss: 0.28853453010775165, Validation Loss: 0.30876793375777717\n",
      "No improvement in validation loss. Patience counter: 7/20\n"
     ]
    },
    {
     "name": "stdout",
     "output_type": "stream",
     "text": [
      "Epoch 43, Train Loss: 0.2868565421040152, Validation Loss: 0.3010040670633316\n",
      "No improvement in validation loss. Patience counter: 8/20\n"
     ]
    },
    {
     "name": "stdout",
     "output_type": "stream",
     "text": [
      "Epoch 44, Train Loss: 0.28797749066339856, Validation Loss: 0.30283998989211725\n",
      "No improvement in validation loss. Patience counter: 9/20\n"
     ]
    },
    {
     "name": "stdout",
     "output_type": "stream",
     "text": [
      "Epoch 45, Train Loss: 0.2885036127954267, Validation Loss: 0.2883941827691751\n",
      "No improvement in validation loss. Patience counter: 10/20\n"
     ]
    },
    {
     "name": "stdout",
     "output_type": "stream",
     "text": [
      "Epoch 46, Train Loss: 0.28825552173949015, Validation Loss: 0.29832731974003884\n",
      "No improvement in validation loss. Patience counter: 11/20\n"
     ]
    },
    {
     "name": "stdout",
     "output_type": "stream",
     "text": [
      "Epoch 47, Train Loss: 0.286697487831765, Validation Loss: 0.297553877691327\n",
      "No improvement in validation loss. Patience counter: 12/20\n"
     ]
    },
    {
     "name": "stdout",
     "output_type": "stream",
     "text": [
      "Epoch 48, Train Loss: 0.28692325202987606, Validation Loss: 0.28573194849612144\n",
      "No improvement in validation loss. Patience counter: 13/20\n"
     ]
    },
    {
     "name": "stdout",
     "output_type": "stream",
     "text": [
      "Epoch 49, Train Loss: 0.28678397512903403, Validation Loss: 0.2926554744164956\n",
      "No improvement in validation loss. Patience counter: 14/20\n"
     ]
    },
    {
     "name": "stdout",
     "output_type": "stream",
     "text": [
      "Epoch 50, Train Loss: 0.28413585728452356, Validation Loss: 0.29929944282860926\n",
      "No improvement in validation loss. Patience counter: 15/20\n"
     ]
    },
    {
     "name": "stdout",
     "output_type": "stream",
     "text": [
      "Epoch 51, Train Loss: 0.28648241916123557, Validation Loss: 0.29018403332548093\n",
      "No improvement in validation loss. Patience counter: 16/20\n"
     ]
    },
    {
     "name": "stdout",
     "output_type": "stream",
     "text": [
      "Epoch 52, Train Loss: 0.2851407381103319, Validation Loss: 0.27627427172539804\n",
      "Validation loss improved to 0.27627427172539804, resetting patience.\n"
     ]
    },
    {
     "name": "stdout",
     "output_type": "stream",
     "text": [
      "Epoch 53, Train Loss: 0.2833998483283068, Validation Loss: 0.2921973817088277\n",
      "No improvement in validation loss. Patience counter: 1/20\n"
     ]
    },
    {
     "name": "stdout",
     "output_type": "stream",
     "text": [
      "Epoch 54, Train Loss: 0.2859838939229258, Validation Loss: 0.3113569087788538\n",
      "No improvement in validation loss. Patience counter: 2/20\n"
     ]
    },
    {
     "name": "stdout",
     "output_type": "stream",
     "text": [
      "Epoch 55, Train Loss: 0.28495758510557917, Validation Loss: 0.28439043696761734\n",
      "No improvement in validation loss. Patience counter: 3/20\n"
     ]
    },
    {
     "name": "stdout",
     "output_type": "stream",
     "text": [
      "Epoch 56, Train Loss: 0.28370310158381534, Validation Loss: 0.28775481183819357\n",
      "No improvement in validation loss. Patience counter: 4/20\n"
     ]
    },
    {
     "name": "stdout",
     "output_type": "stream",
     "text": [
      "Epoch 57, Train Loss: 0.2870885302639345, Validation Loss: 0.28444907553304877\n",
      "No improvement in validation loss. Patience counter: 5/20\n"
     ]
    },
    {
     "name": "stdout",
     "output_type": "stream",
     "text": [
      "Epoch 58, Train Loss: 0.28413868613524895, Validation Loss: 0.2903218977342402\n",
      "No improvement in validation loss. Patience counter: 6/20\n"
     ]
    },
    {
     "name": "stdout",
     "output_type": "stream",
     "text": [
      "Epoch 59, Train Loss: 0.28414350353619633, Validation Loss: 0.3006412446650152\n",
      "No improvement in validation loss. Patience counter: 7/20\n"
     ]
    },
    {
     "name": "stdout",
     "output_type": "stream",
     "text": [
      "Epoch 60, Train Loss: 0.28478013005002134, Validation Loss: 0.2928030472721545\n",
      "No improvement in validation loss. Patience counter: 8/20\n"
     ]
    },
    {
     "name": "stdout",
     "output_type": "stream",
     "text": [
      "Epoch 61, Train Loss: 0.28334037794007194, Validation Loss: 0.32487464556234136\n",
      "No improvement in validation loss. Patience counter: 9/20\n"
     ]
    },
    {
     "name": "stdout",
     "output_type": "stream",
     "text": [
      "Epoch 62, Train Loss: 0.28275495154016156, Validation Loss: 0.3062402399512112\n",
      "No improvement in validation loss. Patience counter: 10/20\n"
     ]
    },
    {
     "name": "stdout",
     "output_type": "stream",
     "text": [
      "Epoch 63, Train Loss: 0.2829136524130316, Validation Loss: 0.33582793932578286\n",
      "No improvement in validation loss. Patience counter: 11/20\n"
     ]
    },
    {
     "name": "stdout",
     "output_type": "stream",
     "text": [
      "Epoch 64, Train Loss: 0.28082014108989756, Validation Loss: 0.28893616311441217\n",
      "No improvement in validation loss. Patience counter: 12/20\n"
     ]
    },
    {
     "name": "stdout",
     "output_type": "stream",
     "text": [
      "Epoch 65, Train Loss: 0.28454497141645885, Validation Loss: 0.30819897678902913\n",
      "No improvement in validation loss. Patience counter: 13/20\n"
     ]
    },
    {
     "name": "stdout",
     "output_type": "stream",
     "text": [
      "Epoch 66, Train Loss: 0.28192675732124867, Validation Loss: 0.3031960746207213\n",
      "No improvement in validation loss. Patience counter: 14/20\n"
     ]
    },
    {
     "name": "stdout",
     "output_type": "stream",
     "text": [
      "Epoch 67, Train Loss: 0.28479386418083913, Validation Loss: 0.28452134223153747\n",
      "No improvement in validation loss. Patience counter: 15/20\n"
     ]
    },
    {
     "name": "stdout",
     "output_type": "stream",
     "text": [
      "Epoch 68, Train Loss: 0.28266832380188317, Validation Loss: 0.3138497133696745\n",
      "No improvement in validation loss. Patience counter: 16/20\n"
     ]
    },
    {
     "name": "stdout",
     "output_type": "stream",
     "text": [
      "Epoch 69, Train Loss: 0.28258366994803247, Validation Loss: 0.28970179211367203\n",
      "No improvement in validation loss. Patience counter: 17/20\n"
     ]
    },
    {
     "name": "stdout",
     "output_type": "stream",
     "text": [
      "Epoch 70, Train Loss: 0.28263638839774924, Validation Loss: 0.31663730006835183\n",
      "No improvement in validation loss. Patience counter: 18/20\n"
     ]
    },
    {
     "name": "stdout",
     "output_type": "stream",
     "text": [
      "Epoch 71, Train Loss: 0.2815662748738312, Validation Loss: 0.29559480758185314\n",
      "No improvement in validation loss. Patience counter: 19/20\n"
     ]
    },
    {
     "name": "stdout",
     "output_type": "stream",
     "text": [
      "Epoch 72, Train Loss: 0.2836996332005738, Validation Loss: 0.28608004665616804\n",
      "No improvement in validation loss. Patience counter: 20/20\n",
      "Early stopping triggered. Stopping training at epoch 72.\n",
      "Loaded best model weights based on validation loss.\n"
     ]
    }
   ],
   "source": [
    "import copy  # 用于保存模型的最佳状态\n",
    "\n",
    "# Early Stopping 参数\n",
    "patience = 20  # 如果验证损失在 10 个 epoch 中没有改善，停止训练\n",
    "min_delta = 1e-4  # 最小改善幅度\n",
    "patience_counter = 0\n",
    "best_val_loss = float('inf')  # 初始设置为正无穷大\n",
    "best_model_weights = copy.deepcopy(estim.model.state_dict())  # 保存最佳模型权重\n",
    "train_losses = []\n",
    "val_losses = []\n",
    "\n",
    "# 训练 500 个 epoch\n",
    "for epoch in range(500):\n",
    "    train_loss, val_loss = train_epoch(estim.model, optimizer, loss_fn, train_loader, val_loader)\n",
    "    print(f'Epoch {epoch+1}, Train Loss: {train_loss}, Validation Loss: {val_loss}')\n",
    "    train_losses.append(train_loss)\n",
    "    val_losses.append(val_loss)\n",
    "    \n",
    "    # Early Stopping 检查\n",
    "    if val_loss < best_val_loss - min_delta:\n",
    "        best_val_loss = val_loss  # 更新最佳验证损失\n",
    "        patience_counter = 0  # 重置 patience 计数器\n",
    "        best_model_weights = copy.deepcopy(estim.model.state_dict())  # 保存当前最佳模型\n",
    "        print(f\"Validation loss improved to {best_val_loss}, resetting patience.\")\n",
    "    else:\n",
    "        patience_counter += 1\n",
    "        print(f\"No improvement in validation loss. Patience counter: {patience_counter}/{patience}\")\n",
    "    \n",
    "    # 如果 patience_counter 超过设置的 patience，停止训练\n",
    "    if patience_counter >= patience:\n",
    "        print(f\"Early stopping triggered. Stopping training at epoch {epoch+1}.\")\n",
    "        break\n",
    "\n",
    "# 恢复到训练中性能最好的模型权重\n",
    "estim.model.load_state_dict(best_model_weights)\n",
    "print(\"Loaded best model weights based on validation loss.\")"
   ]
  },
  {
   "cell_type": "code",
   "execution_count": 14,
   "metadata": {
    "execution": {
     "iopub.execute_input": "2024-11-03T14:20:17.377806Z",
     "iopub.status.busy": "2024-11-03T14:20:17.377409Z",
     "iopub.status.idle": "2024-11-03T14:20:17.493410Z",
     "shell.execute_reply": "2024-11-03T14:20:17.492713Z"
    }
   },
   "outputs": [],
   "source": [
    "import os\n",
    "\n",
    "# 定义保存路径\n",
    "save_dir = './xenium_best_model_ckpt'\n",
    "save_path = os.path.join(save_dir, f'BT_FT_Xenium_breast_cancer_sample1_replicate1_best_model_{random_seed}.ckpt')\n",
    "\n",
    "# 如果目录不存在，则创建\n",
    "if not os.path.exists(save_dir):\n",
    "    os.makedirs(save_dir)\n",
    "\n",
    "# 保存模型\n",
    "torch.save(best_model_weights, save_path)"
   ]
  },
  {
   "cell_type": "code",
   "execution_count": 15,
   "metadata": {
    "execution": {
     "iopub.execute_input": "2024-11-03T14:20:17.495026Z",
     "iopub.status.busy": "2024-11-03T14:20:17.494746Z",
     "iopub.status.idle": "2024-11-03T14:20:18.264646Z",
     "shell.execute_reply": "2024-11-03T14:20:18.263884Z"
    }
   },
   "outputs": [
    {
     "name": "stderr",
     "output_type": "stream",
     "text": [
      "The PostScript backend does not support transparency; partially transparent artists will be rendered opaque.\n"
     ]
    },
    {
     "data": {
      "image/png": "[encoded data removed]",
      "text/plain": [
       "<Figure size 1000x600 with 1 Axes>"
      ]
     },
     "metadata": {},
     "output_type": "display_data"
    }
   ],
   "source": [
    "import matplotlib.pyplot as plt\n",
    "plt.figure(figsize=(10,6))\n",
    "plt.plot(train_losses, label='Training Loss')\n",
    "plt.plot(val_losses, label='Validation Loss')\n",
    "plt.xlabel('Epoch')\n",
    "plt.ylabel('Loss')\n",
    "plt.title('Training and Validation Loss over Epochs')\n",
    "plt.legend()\n",
    "plt.savefig(f'../loss_curve_fig/Xenium_breast_cancer_barlow_twins_finetune_full_loss_curve{random_seed}.png', dpi=400)  # 保存图像为png格式，300 dpi\n",
    "plt.savefig(f'../loss_curve_fig/Xenium_breast_cancer_barlow_twins_finetune_full_loss_curve{random_seed}.eps', format='eps', dpi=400)  # 保存图像为png格式，300 dpi\n",
    "\n",
    "plt.show()\n"
   ]
  },
  {
   "cell_type": "code",
   "execution_count": 16,
   "metadata": {
    "execution": {
     "iopub.execute_input": "2024-11-03T14:20:18.266483Z",
     "iopub.status.busy": "2024-11-03T14:20:18.266159Z",
     "iopub.status.idle": "2024-11-03T14:20:21.032430Z",
     "shell.execute_reply": "2024-11-03T14:20:21.031626Z"
    }
   },
   "outputs": [],
   "source": [
    "# 8. 使用 KNN 替代测试阶段的 FC 分类层\n",
    "# 使用 encoder 提取训练集和测试集的 embedding\n",
    "estim.model.eval()\n",
    "with torch.no_grad():\n",
    "    train_embeddings = estim.model.inner_model(torch.tensor(X_train).float().to(device)).cpu().numpy()\n",
    "    test_embeddings = estim.model.inner_model(torch.tensor(X_test).float().to(device)).cpu().numpy()"
   ]
  },
  {
   "cell_type": "code",
   "execution_count": 17,
   "metadata": {
    "execution": {
     "iopub.execute_input": "2024-11-03T14:20:21.035015Z",
     "iopub.status.busy": "2024-11-03T14:20:21.034674Z",
     "iopub.status.idle": "2024-11-03T14:20:21.936159Z",
     "shell.execute_reply": "2024-11-03T14:20:21.935427Z"
    }
   },
   "outputs": [
    {
     "name": "stdout",
     "output_type": "stream",
     "text": [
      "KNN Accuracy on Test Data: 0.8887034608813128\n",
      "Weighted F1 Score: 0.886804376550463\n",
      "Macro F1 Score: 0.802801180501716\n",
      "Random Guess Accuracy: 0.1320247177116093\n",
      "                         precision    recall  f1-score   support\n",
      "\n",
      "                B_Cells       0.90      0.94      0.92       772\n",
      "           CD4+_T_Cells       0.77      0.86      0.81      1286\n",
      "           CD8+_T_Cells       0.80      0.78      0.79      1026\n",
      "                 DCIS_1       0.88      0.94      0.91      1937\n",
      "                 DCIS_2       0.86      0.80      0.83      1746\n",
      "            Endothelial       0.93      0.95      0.94      1348\n",
      "              IRF7+_DCs       0.96      0.88      0.92        74\n",
      "         Invasive_Tumor       0.93      0.94      0.93      5230\n",
      "             LAMP3+_DCs       0.82      0.82      0.82        49\n",
      "          Macrophages_1       0.88      0.90      0.89      1692\n",
      "          Macrophages_2       0.75      0.78      0.77       223\n",
      "             Mast_Cells       0.80      0.71      0.75        28\n",
      "          Myoepi_ACTA2+       0.91      0.91      0.91      1043\n",
      "          Myoepi_KRT15+       0.91      0.92      0.92       426\n",
      "      Perivascular-Like       0.71      0.78      0.74       125\n",
      "  Prolif_Invasive_Tumor       0.82      0.82      0.82       533\n",
      "                Stromal       0.94      0.94      0.94      6184\n",
      "Stromal_&_T_Cell_Hybrid       0.29      0.11      0.16        93\n",
      "  T_Cell_&_Tumor_Hybrid       0.62      0.64      0.63        87\n",
      "              Unlabeled       0.75      0.61      0.67      1265\n",
      "\n",
      "               accuracy                           0.89     25167\n",
      "              macro avg       0.81      0.80      0.80     25167\n",
      "           weighted avg       0.89      0.89      0.89     25167\n",
      "\n"
     ]
    }
   ],
   "source": [
    "import pandas as pd\n",
    "from sklearn.neighbors import KNeighborsClassifier\n",
    "from sklearn.metrics import accuracy_score, f1_score, classification_report\n",
    "\n",
    "    \n",
    "\n",
    "    # 初始化和训练KNN分类器\n",
    "knn = KNeighborsClassifier(n_neighbors=5)\n",
    "knn.fit(train_embeddings, y_train)\n",
    "    \n",
    "    # 模型预测\n",
    "predictions = knn.predict(test_embeddings)\n",
    "\n",
    "    # 计算准确率和 F1 分数\n",
    "accuracy = accuracy_score(y_test, predictions)\n",
    "print(f\"KNN Accuracy on Test Data: {accuracy}\")\n",
    "f1 = f1_score(y_test, predictions, average='weighted')\n",
    "print(f\"Weighted F1 Score: {f1}\")\n",
    "    \n",
    "macro_f1 = f1_score(y_test, predictions, average='macro')\n",
    "print(f'Macro F1 Score: {macro_f1}')\n",
    "\n",
    "    # 计算随机猜测的准确率\n",
    "class_probabilities = np.bincount(y_test) / len(y_test)\n",
    "random_accuracy = np.sum(class_probabilities ** 2)\n",
    "print(f\"Random Guess Accuracy: {random_accuracy}\")\n",
    "\n",
    "    # 生成分类报告\n",
    "report = classification_report(y_test, predictions, target_names=label_encoder.classes_)\n",
    "print(report)"
   ]
  },
  {
   "cell_type": "code",
   "execution_count": 18,
   "metadata": {
    "execution": {
     "iopub.execute_input": "2024-11-03T14:20:21.938240Z",
     "iopub.status.busy": "2024-11-03T14:20:21.937859Z",
     "iopub.status.idle": "2024-11-03T14:20:28.803877Z",
     "shell.execute_reply": "2024-11-03T14:20:28.802986Z"
    }
   },
   "outputs": [],
   "source": [
    "with torch.no_grad():\n",
    "    new_data_tensor = torch.tensor(new_data).float().to(device)\n",
    "    SSL_embeddings = estim.model.inner_model(new_data_tensor).detach().cpu().numpy()\n",
    "new_adata = sc.read_h5ad(data_dir)\n",
    "new_adata.obsm[f'SSL_BT_FT_{random_seed}'] = SSL_embeddings\n",
    "new_adata.uns[f'BT_FT_y_test_{random_seed}'] = y_test\n",
    "new_adata.uns[f'BT_FT_predictions_{random_seed}'] = predictions\n",
    "new_adata.uns[f'BT_FT_target_names_{random_seed}'] = label_encoder.classes_\n",
    "new_adata.uns[f'BT_FT_train_loss_{random_seed}'] = train_losses\n",
    "new_adata.uns[f'BT_FT_val_loss_{random_seed}'] = val_losses\n",
    "new_adata.write_h5ad(data_dir)"
   ]
  },
  {
   "cell_type": "code",
   "execution_count": 19,
   "metadata": {
    "execution": {
     "iopub.execute_input": "2024-11-03T14:20:28.806480Z",
     "iopub.status.busy": "2024-11-03T14:20:28.806120Z",
     "iopub.status.idle": "2024-11-03T14:20:28.860208Z",
     "shell.execute_reply": "2024-11-03T14:20:28.859542Z"
    }
   },
   "outputs": [
    {
     "name": "stdout",
     "output_type": "stream",
     "text": [
      "Metrics Summary:\n",
      "init_train_loss\tinit_val_loss\tconverged_epoch\tconverged_val_loss\tmacro_f1\tweighted_f1\tmicor_f1\n",
      "0.576\t0.423\t52\t0.276\t0.803\t0.887\t0.889\n"
     ]
    }
   ],
   "source": [
    "\n",
    "import pandas as pd\n",
    "import os\n",
    "import re\n",
    "\n",
    "# 当前 Notebook 文件名\n",
    "notebook_name = \"Xenium_breast_cancer_sample1_replicate1_barlow_twins_fine_tune_42.ipynb\"\n",
    "\n",
    "# 初始化需要打印的值\n",
    "init_train_loss = train_losses[0] if 'train_losses' in globals() else None\n",
    "init_val_loss = val_losses[0] if 'val_losses' in globals() else None\n",
    "converged_epoch = len(train_losses) - patience if 'train_losses' in globals() else None\n",
    "converged_val_loss = best_val_loss if 'best_val_loss' in globals() else None\n",
    "\n",
    "# 打印所有所需的指标\n",
    "print(\"Metrics Summary:\")\n",
    "if 'train_losses' in globals():\n",
    "    print(f\"init_train_loss\\tinit_val_loss\\tconverged_epoch\\tconverged_val_loss\\tmacro_f1\\tweighted_f1\\tmicor_f1\")\n",
    "    print(f\"{init_train_loss:.3f}\\t{init_val_loss:.3f}\\t{converged_epoch}\\t{converged_val_loss:.3f}\\t{macro_f1:.3f}\\t{f1:.3f}\\t{accuracy:.3f}\")\n",
    "else:\n",
    "    print(f\"macro_f1\\tweighted_f1\\tmicor_f1\")\n",
    "    print(f\"{macro_f1:.3f}\\t{f1:.3f}\\t{accuracy:.3f}\")\n",
    "\n",
    "# 保存结果到 CSV 文件\n",
    "output_data = {\n",
    "    'dataset_split_random_seed': [int(random_seed)],\n",
    "    'dataset': ['xenium_breast_cancer_sample1_replicate1'],\n",
    "    'method': [re.search(r'replicate1_(.*?)_\\d+', notebook_name).group(1)],\n",
    "    'init_train_loss': [init_train_loss if init_train_loss is not None else ''],\n",
    "    'init_val_loss': [init_val_loss if init_val_loss is not None else ''],\n",
    "    'converged_epoch': [converged_epoch if converged_epoch is not None else ''],\n",
    "    'converged_val_loss': [converged_val_loss if converged_val_loss is not None else ''],\n",
    "    'macro_f1': [macro_f1],\n",
    "    'weighted_f1': [f1],\n",
    "    'micor_f1': [accuracy]\n",
    "}\n",
    "output_df = pd.DataFrame(output_data)\n",
    "\n",
    "# 保存到当前目录下名为 results 的文件夹中\n",
    "if not os.path.exists('results'):\n",
    "    os.makedirs('results')\n",
    "\n",
    "csv_filename = f\"results/{os.path.splitext(notebook_name)[0]}_results.csv\"\n",
    "output_df.to_csv(csv_filename, index=False)\n"
   ]
  }
 ],
 "metadata": {
  "kernelspec": {
   "display_name": "ssl",
   "language": "python",
   "name": "python3"
  },
  "language_info": {
   "codemirror_mode": {
    "name": "ipython",
    "version": 3
   },
   "file_extension": ".py",
   "mimetype": "text/x-python",
   "name": "python",
   "nbconvert_exporter": "python",
   "pygments_lexer": "ipython3",
   "version": "3.10.13"
  }
 },
 "nbformat": 4,
 "nbformat_minor": 2
}
