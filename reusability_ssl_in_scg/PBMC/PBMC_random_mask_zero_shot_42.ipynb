{
 "cells": [
  {
   "cell_type": "code",
   "execution_count": 1,
   "metadata": {
    "execution": {
     "iopub.execute_input": "2025-01-22T06:49:27.102531Z",
     "iopub.status.busy": "2025-01-22T06:49:27.102388Z",
     "iopub.status.idle": "2025-01-22T06:49:40.052362Z",
     "shell.execute_reply": "2025-01-22T06:49:40.051674Z"
    }
   },
   "outputs": [
    {
     "name": "stderr",
     "output_type": "stream",
     "text": [
      "/home/hanchuangyi/miniconda3/envs/ssl/lib/python3.10/site-packages/merlin/dtypes/mappings/tf.py:52: UserWarning: Tensorflow dtype mappings did not load successfully due to an error: No module named 'tensorflow'\n",
      "  warn(f\"Tensorflow dtype mappings did not load successfully due to an error: {exc.msg}\")\n",
      "/home/hanchuangyi/miniconda3/envs/ssl/lib/python3.10/site-packages/merlin/dtypes/mappings/triton.py:53: UserWarning: Triton dtype mappings did not load successfully due to an error: No module named 'tritonclient'\n",
      "  warn(f\"Triton dtype mappings did not load successfully due to an error: {exc.msg}\")\n"
     ]
    }
   ],
   "source": [
    "import scanpy as sc\n",
    "import torch\n",
    "import lightning.pytorch as pl\n",
    "from torch import nn\n",
    "from torch.optim import AdamW\n",
    "from torch.utils.data import DataLoader, TensorDataset\n",
    "from self_supervision.models.lightning_modules.cellnet_autoencoder import MLPAutoEncoder\n",
    "from self_supervision.estimator.cellnet import EstimatorAutoEncoder\n",
    "from sklearn.model_selection import train_test_split\n",
    "from sklearn.preprocessing import LabelEncoder\n",
    "from sklearn.metrics import accuracy_score, f1_score, classification_report\n",
    "import numpy as np\n",
    "import pandas as pd\n",
    "\n",
    "train_data_dir = '../../dataset/PBMC_train_set_mapped.h5ad'\n",
    "val_data_dir = '../../dataset/PBMC_val_set_mapped.h5ad'\n",
    "test_data_dir = '../../dataset/PBMC_test_set_mapped.h5ad'\n",
    "\n",
    "# Load the datasets (no change in loading)\n",
    "adata_train = sc.read_h5ad(train_data_dir)\n",
    "adata_val = sc.read_h5ad(val_data_dir)\n",
    "adata_test = sc.read_h5ad(test_data_dir)\n"
   ]
  },
  {
   "cell_type": "code",
   "execution_count": 2,
   "metadata": {
    "execution": {
     "iopub.execute_input": "2025-01-22T06:49:40.055452Z",
     "iopub.status.busy": "2025-01-22T06:49:40.054899Z",
     "iopub.status.idle": "2025-01-22T06:49:48.259720Z",
     "shell.execute_reply": "2025-01-22T06:49:48.259049Z"
    }
   },
   "outputs": [],
   "source": [
    "sc.pp.normalize_total(adata_train, target_sum=1e4)\n",
    "sc.pp.log1p(adata_train)\n",
    "\n",
    "sc.pp.normalize_total(adata_val, target_sum=1e4)\n",
    "sc.pp.log1p(adata_val)\n",
    "\n",
    "sc.pp.normalize_total(adata_test, target_sum=1e4)\n",
    "sc.pp.log1p(adata_test)\n"
   ]
  },
  {
   "cell_type": "code",
   "execution_count": 3,
   "metadata": {
    "execution": {
     "iopub.execute_input": "2025-01-22T06:49:48.261711Z",
     "iopub.status.busy": "2025-01-22T06:49:48.261466Z",
     "iopub.status.idle": "2025-01-22T06:49:50.179566Z",
     "shell.execute_reply": "2025-01-22T06:49:50.179008Z"
    }
   },
   "outputs": [],
   "source": [
    "# 2. 设置 checkpoint 路径\n",
    "ckpt_path = \"../../sc_pretrained/Pretrained Models/RandomMask.ckpt\"\n",
    "\n",
    "# 3. 模型参数\n",
    "units_encoder = [512, 512, 256, 256, 64]\n",
    "units_decoder = [256, 256, 512, 512]\n",
    "\n",
    "# 初始化 EstimatorAutoEncoder 实例\n",
    "estim = EstimatorAutoEncoder(data_path=None)  # 没有实际数据路径，可以设置为None\n",
    "\n",
    "# 4. 加载预训练模型\n",
    "estim.model = MLPAutoEncoder.load_from_checkpoint(\n",
    "    ckpt_path,\n",
    "    gene_dim=19331,  # 根据你的数据调整\n",
    "    batch_size=128,  # 根据你的需要调整\n",
    "    units_encoder=units_encoder, \n",
    "    units_decoder=units_decoder,\n",
    "    masking_strategy=\"random\",  # 假设模型使用了随机掩码\n",
    "    masking_rate=0.5,  # 根据需要调整\n",
    ")"
   ]
  },
  {
   "cell_type": "code",
   "execution_count": 4,
   "metadata": {
    "execution": {
     "iopub.execute_input": "2025-01-22T06:49:50.181574Z",
     "iopub.status.busy": "2025-01-22T06:49:50.181340Z",
     "iopub.status.idle": "2025-01-22T06:49:57.900836Z",
     "shell.execute_reply": "2025-01-22T06:49:57.900203Z"
    }
   },
   "outputs": [],
   "source": [
    "# Access Anndata.X and transform to tensors\n",
    "device = torch.device(\"cuda\" if torch.cuda.is_available() else \"cpu\")\n",
    "\n",
    "\n",
    "\n",
    "# Step 1: Take the union of all unique labels across the three datasets\n",
    "all_labels = np.concatenate([\n",
    "    adata_train.obs['cell_type'].values, \n",
    "    adata_val.obs['cell_type'].values, \n",
    "    adata_test.obs['cell_type'].values\n",
    "])\n",
    "\n",
    "# Step 2: Fit LabelEncoder on the combined labels\n",
    "label_encoder = LabelEncoder()\n",
    "label_encoder.fit(all_labels)\n",
    "\n",
    "# Directly use the 'cell_type' column, assuming it is already encoded as int64\n",
    "X_train = torch.tensor(adata_train.X.toarray()).float().to(device)\n",
    "y_train = torch.tensor(label_encoder.transform(adata_train.obs['cell_type'])).long().to(device)\n",
    "\n",
    "X_val = torch.tensor(adata_val.X).float().to(device)\n",
    "y_val = torch.tensor(label_encoder.transform(adata_val.obs['cell_type'])).long().to(device)\n",
    "\n",
    "X_test = torch.tensor(adata_test.X).float().to(device)\n",
    "y_test = torch.tensor(label_encoder.transform(adata_test.obs['cell_type'])).long().to(device)\n",
    "\n",
    "# The rest of the code remains the same\n"
   ]
  },
  {
   "cell_type": "code",
   "execution_count": 5,
   "metadata": {
    "execution": {
     "iopub.execute_input": "2025-01-22T06:49:57.903115Z",
     "iopub.status.busy": "2025-01-22T06:49:57.902867Z",
     "iopub.status.idle": "2025-01-22T06:50:00.559932Z",
     "shell.execute_reply": "2025-01-22T06:50:00.559253Z"
    }
   },
   "outputs": [
    {
     "name": "stdout",
     "output_type": "stream",
     "text": [
      "KNN Accuracy: 0.4005143447374523\n",
      "Weighted F1 Score: 0.37085067291787327\n",
      "Macro F1 Score: 0.24442938542626746\n"
     ]
    },
    {
     "name": "stdout",
     "output_type": "stream",
     "text": [
      "                                                      precision    recall  f1-score   support\n",
      "\n",
      "                                              B cell       0.57      0.49      0.53     11338\n",
      "                CD1c-positive myeloid dendritic cell       0.00      0.00      0.00        95\n",
      "                          CD4-positive helper T cell       0.00      0.00      0.00      7784\n",
      "                     CD4-positive, alpha-beta T cell       0.16      0.20      0.18     11008\n",
      "              CD4-positive, alpha-beta memory T cell       0.00      0.00      0.00      2866\n",
      "                     CD8-positive, alpha-beta T cell       0.24      0.15      0.18      8505\n",
      "           CD8-positive, alpha-beta cytotoxic T cell       0.00      0.00      0.00       543\n",
      "              CD8-positive, alpha-beta memory T cell       0.00      0.00      0.00      4408\n",
      "                                        Schwann cell       0.00      0.00      0.00        10\n",
      "                                              T cell       0.15      0.77      0.25      7486\n",
      "                            T follicular helper cell       0.00      0.00      0.00       398\n",
      "                                          basal cell       0.91      0.43      0.59      7466\n",
      "                       blood vessel endothelial cell       0.00      0.00      0.00        47\n",
      "                          capillary endothelial cell       0.59      0.82      0.69      3787\n",
      "                                  classical monocyte       0.36      0.43      0.39      6900\n",
      "                                           club cell       0.48      0.38      0.42      1765\n",
      "                                      dendritic cell       0.08      0.34      0.12        73\n",
      "            effector CD8-positive, alpha-beta T cell       0.00      0.00      0.00      5148\n",
      "                                    endothelial cell       0.37      0.27      0.31      4815\n",
      "                          endothelial cell of artery       0.55      0.51      0.53       885\n",
      "                endothelial cell of lymphatic vessel       0.54      0.52      0.53       684\n",
      "                                          enterocyte       0.00      0.00      0.00      1669\n",
      "                                         erythrocyte       1.00      0.89      0.94      2443\n",
      "                                         goblet cell       0.00      0.00      0.00       192\n",
      "                                         granulocyte       0.00      0.00      0.00       723\n",
      "                             hematopoietic stem cell       0.33      0.00      0.00       466\n",
      "                                innate lymphoid cell       0.00      0.00      0.00      4261\n",
      "                               intermediate monocyte       0.00      0.00      0.00       506\n",
      "                                        keratinocyte       0.00      0.00      0.00      3647\n",
      "                                           leukocyte       0.00      0.00      0.00       497\n",
      "            luminal epithelial cell of mammary gland       0.00      0.00      0.00         0\n",
      "                                          macrophage       0.73      0.86      0.79     17081\n",
      "                                           mast cell       0.91      0.85      0.88       675\n",
      "                                    mature NK T cell       0.80      0.47      0.59      4625\n",
      "                                       memory B cell       0.48      0.58      0.53      9648\n",
      "                                    mesothelial cell       0.33      0.04      0.06        28\n",
      "                                            monocyte       0.17      0.40      0.24      9029\n",
      "                                        naive B cell       0.90      0.60      0.72      3244\n",
      "naive thymus-derived CD4-positive, alpha-beta T cell       0.00      0.00      0.00      2181\n",
      "naive thymus-derived CD8-positive, alpha-beta T cell       0.00      0.00      0.00       469\n",
      "                                          neutrophil       0.00      0.00      0.00     13103\n",
      "                              non-classical monocyte       0.21      0.14      0.16       866\n",
      "                                            pericyte       0.32      0.81      0.46      2989\n",
      "                                         plasma cell       0.81      0.76      0.78      8551\n",
      "                                         plasmablast       0.00      0.00      0.00         3\n",
      "                         plasmacytoid dendritic cell       0.00      0.00      0.00        40\n",
      "                                            platelet       0.00      0.00      0.00        92\n",
      "                                   regulatory T cell       0.00      0.00      0.00       939\n",
      "                                  smooth muscle cell       0.93      0.12      0.21      3340\n",
      "                                   type I pneumocyte       0.17      0.31      0.22        62\n",
      "                                  type II pneumocyte       0.85      0.91      0.88      7717\n",
      "              vascular associated smooth muscle cell       0.27      0.12      0.17      2020\n",
      "                               vein endothelial cell       0.56      0.67      0.61      2639\n",
      "\n",
      "                                            accuracy                           0.40    189756\n",
      "                                           macro avg       0.28      0.26      0.24    189756\n",
      "                                        weighted avg       0.39      0.40      0.37    189756\n",
      "\n",
      "\n",
      "Missing class indices: {39, 14, 18, 52, 53, 55, 25}\n",
      "Missing class names: ['microglial cell', 'cardiac muscle cell', 'double-positive, alpha-beta thymocyte', 'retina horizontal cell', 'retinal ganglion cell', 'tracheal goblet cell', 'fibroblast of cardiac tissue']\n",
      "Saved embeddings, predictions and label mapping to ./prediction_results/random_mask_zero_shot_seed_42\n"
     ]
    },
    {
     "name": "stderr",
     "output_type": "stream",
     "text": [
      "/home/hanchuangyi/miniconda3/envs/ssl/lib/python3.10/site-packages/sklearn/metrics/_classification.py:1531: UndefinedMetricWarning: Precision is ill-defined and being set to 0.0 in labels with no predicted samples. Use `zero_division` parameter to control this behavior.\n",
      "  _warn_prf(average, modifier, f\"{metric.capitalize()} is\", len(result))\n",
      "/home/hanchuangyi/miniconda3/envs/ssl/lib/python3.10/site-packages/sklearn/metrics/_classification.py:1531: UndefinedMetricWarning: Recall is ill-defined and being set to 0.0 in labels with no true samples. Use `zero_division` parameter to control this behavior.\n",
      "  _warn_prf(average, modifier, f\"{metric.capitalize()} is\", len(result))\n",
      "/home/hanchuangyi/miniconda3/envs/ssl/lib/python3.10/site-packages/sklearn/metrics/_classification.py:1531: UndefinedMetricWarning: Precision is ill-defined and being set to 0.0 in labels with no predicted samples. Use `zero_division` parameter to control this behavior.\n",
      "  _warn_prf(average, modifier, f\"{metric.capitalize()} is\", len(result))\n",
      "/home/hanchuangyi/miniconda3/envs/ssl/lib/python3.10/site-packages/sklearn/metrics/_classification.py:1531: UndefinedMetricWarning: Recall is ill-defined and being set to 0.0 in labels with no true samples. Use `zero_division` parameter to control this behavior.\n",
      "  _warn_prf(average, modifier, f\"{metric.capitalize()} is\", len(result))\n",
      "/home/hanchuangyi/miniconda3/envs/ssl/lib/python3.10/site-packages/sklearn/metrics/_classification.py:1531: UndefinedMetricWarning: Precision is ill-defined and being set to 0.0 in labels with no predicted samples. Use `zero_division` parameter to control this behavior.\n",
      "  _warn_prf(average, modifier, f\"{metric.capitalize()} is\", len(result))\n",
      "/home/hanchuangyi/miniconda3/envs/ssl/lib/python3.10/site-packages/sklearn/metrics/_classification.py:1531: UndefinedMetricWarning: Recall is ill-defined and being set to 0.0 in labels with no true samples. Use `zero_division` parameter to control this behavior.\n",
      "  _warn_prf(average, modifier, f\"{metric.capitalize()} is\", len(result))\n"
     ]
    }
   ],
   "source": [
    "from sklearn.neighbors import KNeighborsClassifier\n",
    "\n",
    "# Evaluate on Test Set  \n",
    "estim.model.eval()  \n",
    "with torch.no_grad():  \n",
    "    test_embeddings = estim.model.encoder(X_test).detach().cpu().numpy()  \n",
    "    val_embeddings = estim.model.encoder(X_val).detach().cpu().numpy()  \n",
    "    train_embeddings = estim.model.encoder(X_train).detach().cpu().numpy()  \n",
    "\n",
    "# KNN Classification  \n",
    "knn = KNeighborsClassifier(n_neighbors=5)  \n",
    "knn.fit(val_embeddings, y_val.cpu().numpy())  \n",
    "predictions = knn.predict(test_embeddings)  \n",
    "\n",
    "# First, let's get the actual unique classes present in both y_test and predictions  \n",
    "unique_classes = np.unique(np.concatenate([y_test.cpu().numpy(), predictions]))\n",
    "\n",
    "\n",
    "accuracy = accuracy_score(y_test.cpu().numpy(), predictions)  \n",
    "f1 = f1_score(y_test.cpu().numpy(), predictions, average='weighted')  \n",
    "macro_f1 = f1_score(y_test.cpu().numpy(), predictions, average='macro')  \n",
    "\n",
    "print(f\"KNN Accuracy: {accuracy}\")  \n",
    "print(f\"Weighted F1 Score: {f1}\")  \n",
    "print(f\"Macro F1 Score: {macro_f1}\")  \n",
    "\n",
    "# Get the class names for only the classes present in the data  \n",
    "present_classes = [label_encoder.classes_[i] for i in unique_classes]  \n",
    "report = classification_report(y_test.cpu().numpy(), predictions,   \n",
    "                             labels=unique_classes,  # specify which labels to include  \n",
    "                             target_names=present_classes)  # their corresponding names  \n",
    "print(report)  \n",
    "\n",
    "# Optionally, print which class is missing  \n",
    "all_classes_set = set(range(len(label_encoder.classes_)))  \n",
    "present_classes_set = set(unique_classes)  \n",
    "missing_classes = all_classes_set - present_classes_set  \n",
    "if missing_classes:  \n",
    "    print(\"\\nMissing class indices:\", missing_classes)  \n",
    "    print(\"Missing class names:\", [label_encoder.classes_[i] for i in missing_classes])\n",
    "    \n",
    "random_seed = 42\n",
    "\n",
    "import numpy as np\n",
    "import os\n",
    "import json\n",
    "\n",
    "# Create directory to store embeddings and predictions\n",
    "output_dir = os.path.join('./prediction_results', f'random_mask_zero_shot_seed_{random_seed}')\n",
    "os.makedirs(output_dir, exist_ok=True)\n",
    "\n",
    "# Save embeddings\n",
    "np.save(os.path.join(output_dir, 'train_embeddings.npy'), train_embeddings)\n",
    "np.save(os.path.join(output_dir, 'val_embeddings.npy'), val_embeddings) \n",
    "np.save(os.path.join(output_dir, 'test_embeddings.npy'), test_embeddings)\n",
    "\n",
    "# Save predictions and ground truth\n",
    "np.save(os.path.join(output_dir, 'test_predictions.npy'), predictions)\n",
    "np.save(os.path.join(output_dir, 'test_ground_truth.npy'), y_test.cpu().numpy())\n",
    "np.save(os.path.join(output_dir, 'train_ground_truth.npy'), y_train.cpu().numpy())\n",
    "np.save(os.path.join(output_dir, 'val_ground_truth.npy'), y_val.cpu().numpy())\n",
    "\n",
    "# Save training history if exists\n",
    "if 'train_losses' in globals() and 'val_losses' in globals():\n",
    "    np.save(os.path.join(output_dir, 'train_losses.npy'), np.array(train_losses))\n",
    "    np.save(os.path.join(output_dir, 'val_losses.npy'), np.array(val_losses))\n",
    "\n",
    "# Save label encoder classes (target names)\n",
    "label_mapping = {i: label_name for i, label_name in enumerate(label_encoder.classes_)}\n",
    "with open(os.path.join(output_dir, 'label_mapping.json'), 'w') as f:\n",
    "    json.dump(label_mapping, f, indent=4)\n",
    "\n",
    "print(f\"Saved embeddings, predictions and label mapping to {output_dir}\")\n"
   ]
  },
  {
   "cell_type": "code",
   "execution_count": 6,
   "metadata": {
    "execution": {
     "iopub.execute_input": "2025-01-22T06:50:00.561628Z",
     "iopub.status.busy": "2025-01-22T06:50:00.561446Z",
     "iopub.status.idle": "2025-01-22T06:50:00.571031Z",
     "shell.execute_reply": "2025-01-22T06:50:00.570578Z"
    }
   },
   "outputs": [
    {
     "name": "stdout",
     "output_type": "stream",
     "text": [
      "Metrics Summary:\n",
      "macro_f1\tweighted_f1\tmicro_f1\n",
      "0.244\t0.371\t0.401\n"
     ]
    }
   ],
   "source": [
    "\n",
    "import pandas as pd\n",
    "import os\n",
    "import re\n",
    "\n",
    "# 当前 Notebook 文件名\n",
    "notebook_name = \"PBMC_random_mask_zero_shot_42.ipynb\"\n",
    "\n",
    "# 初始化需要打印的值\n",
    "init_train_loss = train_losses[0] if 'train_losses' in globals() else None\n",
    "init_val_loss = val_losses[0] if 'val_losses' in globals() else None\n",
    "converged_epoch = len(train_losses) - patience if 'train_losses' in globals() else None\n",
    "converged_val_loss = best_val_loss if 'best_val_loss' in globals() else None\n",
    "\n",
    "# 打印所有所需的指标\n",
    "print(\"Metrics Summary:\")\n",
    "if 'train_losses' in globals():\n",
    "    print(f\"init_train_loss\\tinit_val_loss\\tconverged_epoch\\tconverged_val_loss\\tmacro_f1\\tweighted_f1\\tmicro_f1\")\n",
    "    print(f\"{init_train_loss:.3f}\\t{init_val_loss:.3f}\\t{converged_epoch}\\t{converged_val_loss:.3f}\\t{macro_f1:.3f}\\t{f1:.3f}\\t{accuracy:.3f}\")\n",
    "else:\n",
    "    print(f\"macro_f1\\tweighted_f1\\tmicro_f1\")\n",
    "    print(f\"{macro_f1:.3f}\\t{f1:.3f}\\t{accuracy:.3f}\")\n",
    "\n",
    "# 保存结果到 CSV 文件\n",
    "output_data = {\n",
    "    'dataset_split_random_seed': [int(random_seed)],\n",
    "    'dataset': ['PBMC'],\n",
    "    'method': [re.search(r'PBMC_(.*?)_\\d+', notebook_name).group(1)],\n",
    "    'init_train_loss': [init_train_loss if init_train_loss is not None else ''],\n",
    "    'init_val_loss': [init_val_loss if init_val_loss is not None else ''],\n",
    "    'converged_epoch': [converged_epoch if converged_epoch is not None else ''],\n",
    "    'converged_val_loss': [converged_val_loss if converged_val_loss is not None else ''],\n",
    "    'macro_f1': [macro_f1],\n",
    "    'weighted_f1': [f1],\n",
    "    'micro_f1': [accuracy]\n",
    "}\n",
    "output_df = pd.DataFrame(output_data)\n",
    "\n",
    "# 保存到当前目录下名为 results 的文件夹中\n",
    "if not os.path.exists('results'):\n",
    "    os.makedirs('results')\n",
    "\n",
    "csv_filename = f\"results/{os.path.splitext(notebook_name)[0]}_results.csv\"\n",
    "output_df.to_csv(csv_filename, index=False)\n"
   ]
  }
 ],
 "metadata": {
  "kernelspec": {
   "display_name": "ssl",
   "language": "python",
   "name": "python3"
  },
  "language_info": {
   "codemirror_mode": {
    "name": "ipython",
    "version": 3
   },
   "file_extension": ".py",
   "mimetype": "text/x-python",
   "name": "python",
   "nbconvert_exporter": "python",
   "pygments_lexer": "ipython3",
   "version": "3.10.13"
  }
 },
 "nbformat": 4,
 "nbformat_minor": 2
}
