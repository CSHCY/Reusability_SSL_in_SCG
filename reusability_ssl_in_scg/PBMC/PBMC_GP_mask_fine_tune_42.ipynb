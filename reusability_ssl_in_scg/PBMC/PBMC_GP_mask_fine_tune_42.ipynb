{
 "cells": [
  {
   "cell_type": "code",
   "execution_count": 1,
   "metadata": {
    "execution": {
     "iopub.execute_input": "2025-01-22T06:44:41.769560Z",
     "iopub.status.busy": "2025-01-22T06:44:41.769428Z",
     "iopub.status.idle": "2025-01-22T06:45:17.894172Z",
     "shell.execute_reply": "2025-01-22T06:45:17.893236Z"
    }
   },
   "outputs": [
    {
     "name": "stderr",
     "output_type": "stream",
     "text": [
      "/home/hanchuangyi/miniconda3/envs/ssl/lib/python3.10/site-packages/merlin/dtypes/mappings/tf.py:52: UserWarning: Tensorflow dtype mappings did not load successfully due to an error: No module named 'tensorflow'\n",
      "  warn(f\"Tensorflow dtype mappings did not load successfully due to an error: {exc.msg}\")\n",
      "/home/hanchuangyi/miniconda3/envs/ssl/lib/python3.10/site-packages/merlin/dtypes/mappings/triton.py:53: UserWarning: Triton dtype mappings did not load successfully due to an error: No module named 'tritonclient'\n",
      "  warn(f\"Triton dtype mappings did not load successfully due to an error: {exc.msg}\")\n"
     ]
    }
   ],
   "source": [
    "import scanpy as sc\n",
    "import torch\n",
    "import lightning.pytorch as pl\n",
    "from torch import nn\n",
    "from torch.optim import AdamW\n",
    "from torch.utils.data import DataLoader, TensorDataset\n",
    "from self_supervision.models.lightning_modules.cellnet_autoencoder import MLPAutoEncoder\n",
    "from self_supervision.estimator.cellnet import EstimatorAutoEncoder\n",
    "from sklearn.model_selection import train_test_split\n",
    "from sklearn.preprocessing import LabelEncoder\n",
    "from sklearn.metrics import accuracy_score, f1_score, classification_report\n",
    "import numpy as np\n",
    "import pandas as pd\n",
    "\n",
    "train_data_dir = '../../dataset/PBMC_train_set_mapped.h5ad'\n",
    "val_data_dir = '../../dataset/PBMC_val_set_mapped.h5ad'\n",
    "test_data_dir = '../../dataset/PBMC_test_set_mapped.h5ad'\n",
    "\n",
    "# Load the datasets (no change in loading)\n",
    "adata_train = sc.read_h5ad(train_data_dir)\n",
    "adata_val = sc.read_h5ad(val_data_dir)\n",
    "adata_test = sc.read_h5ad(test_data_dir)\n"
   ]
  },
  {
   "cell_type": "code",
   "execution_count": 2,
   "metadata": {
    "execution": {
     "iopub.execute_input": "2025-01-22T06:45:17.896983Z",
     "iopub.status.busy": "2025-01-22T06:45:17.896371Z",
     "iopub.status.idle": "2025-01-22T06:45:24.908163Z",
     "shell.execute_reply": "2025-01-22T06:45:24.907048Z"
    }
   },
   "outputs": [],
   "source": [
    "sc.pp.normalize_total(adata_train, target_sum=1e4)\n",
    "sc.pp.log1p(adata_train)\n",
    "\n",
    "sc.pp.normalize_total(adata_val, target_sum=1e4)\n",
    "sc.pp.log1p(adata_val)\n",
    "\n",
    "sc.pp.normalize_total(adata_test, target_sum=1e4)\n",
    "sc.pp.log1p(adata_test)\n"
   ]
  },
  {
   "cell_type": "code",
   "execution_count": 3,
   "metadata": {
    "execution": {
     "iopub.execute_input": "2025-01-22T06:45:24.910572Z",
     "iopub.status.busy": "2025-01-22T06:45:24.910371Z",
     "iopub.status.idle": "2025-01-22T06:45:26.769248Z",
     "shell.execute_reply": "2025-01-22T06:45:26.768527Z"
    }
   },
   "outputs": [],
   "source": [
    "# 2. 设置 checkpoint 路径\n",
    "ckpt_path = \"../../sc_pretrained/Pretrained Models/GPMask.ckpt\"\n",
    "\n",
    "# 3. 模型参数\n",
    "units_encoder = [512, 512, 256, 256, 64]\n",
    "units_decoder = [256, 256, 512, 512]\n",
    "\n",
    "# 初始化 EstimatorAutoEncoder 实例\n",
    "estim = EstimatorAutoEncoder(data_path=None)  # 没有实际数据路径，可以设置为None\n",
    "\n",
    "# 4. 加载预训练模型\n",
    "estim.model = MLPAutoEncoder.load_from_checkpoint(\n",
    "    ckpt_path,\n",
    "    gene_dim=19331,  \n",
    "    batch_size=128,  \n",
    "    units_encoder=units_encoder, \n",
    "    units_decoder=units_decoder,\n",
    "    masking_strategy=\"random\",  # 假设模型使用了随机掩码\n",
    "    masking_rate=0.5,  # 根据需要调整\n",
    ")"
   ]
  },
  {
   "cell_type": "code",
   "execution_count": 4,
   "metadata": {
    "execution": {
     "iopub.execute_input": "2025-01-22T06:45:26.771181Z",
     "iopub.status.busy": "2025-01-22T06:45:26.771001Z",
     "iopub.status.idle": "2025-01-22T06:45:34.585746Z",
     "shell.execute_reply": "2025-01-22T06:45:34.585045Z"
    }
   },
   "outputs": [],
   "source": [
    "# Access Anndata.X and transform to tensors\n",
    "device = torch.device(\"cuda\" if torch.cuda.is_available() else \"cpu\")\n",
    "\n",
    "\n",
    "\n",
    "# Step 1: Take the union of all unique labels across the three datasets\n",
    "all_labels = np.concatenate([\n",
    "    adata_train.obs['cell_type'].values, \n",
    "    adata_val.obs['cell_type'].values, \n",
    "    adata_test.obs['cell_type'].values\n",
    "])\n",
    "\n",
    "# Step 2: Fit LabelEncoder on the combined labels\n",
    "label_encoder = LabelEncoder()\n",
    "label_encoder.fit(all_labels)\n",
    "\n",
    "# Directly use the 'cell_type' column, assuming it is already encoded as int64\n",
    "X_train = torch.tensor(adata_train.X.toarray()).float().to(device)\n",
    "y_train = torch.tensor(label_encoder.transform(adata_train.obs['cell_type'])).long().to(device)\n",
    "\n",
    "X_val = torch.tensor(adata_val.X).float().to(device)\n",
    "y_val = torch.tensor(label_encoder.transform(adata_val.obs['cell_type'])).long().to(device)\n",
    "\n",
    "X_test = torch.tensor(adata_test.X).float().to(device)\n",
    "y_test = torch.tensor(label_encoder.transform(adata_test.obs['cell_type'])).long().to(device)\n",
    "\n",
    "# The rest of the code remains the same\n",
    "\n",
    "\n",
    "# Create TensorDataset and DataLoader for train, val, test\n",
    "batch_size = 256\n",
    "train_dataset = TensorDataset(X_train, y_train)\n",
    "val_dataset = TensorDataset(X_val, y_val)\n",
    "test_dataset = TensorDataset(X_test, y_test)\n",
    "\n",
    "train_loader = DataLoader(train_dataset, batch_size=batch_size, shuffle=True)\n",
    "val_loader = DataLoader(val_dataset, batch_size=batch_size, shuffle=False)\n",
    "test_loader = DataLoader(test_dataset, batch_size=batch_size, shuffle=False)"
   ]
  },
  {
   "cell_type": "code",
   "execution_count": 5,
   "metadata": {
    "execution": {
     "iopub.execute_input": "2025-01-22T06:45:34.587859Z",
     "iopub.status.busy": "2025-01-22T06:45:34.587672Z",
     "iopub.status.idle": "2025-01-22T06:45:34.593487Z",
     "shell.execute_reply": "2025-01-22T06:45:34.592934Z"
    }
   },
   "outputs": [],
   "source": [
    "# Add classification layer\n",
    "n_classes = len(label_encoder.classes_)\n",
    "estim.model.fc = nn.Linear(units_encoder[-1], n_classes)\n",
    "\n",
    "# Fine-tuning: Enable gradient updates for the inner model\n",
    "for param in list(estim.model.encoder.parameters()):\n",
    "    param.requires_grad = True\n",
    "\n",
    "estim.model.to(device)\n",
    "loss_fn = nn.CrossEntropyLoss()\n",
    "optimizer = AdamW(filter(lambda p: p.requires_grad, estim.model.parameters()), lr=9e-4, weight_decay=0.05)\n",
    "scheduler = torch.optim.lr_scheduler.StepLR(optimizer, step_size=2, gamma=0.9)\n"
   ]
  },
  {
   "cell_type": "code",
   "execution_count": 6,
   "metadata": {
    "execution": {
     "iopub.execute_input": "2025-01-22T06:45:34.594830Z",
     "iopub.status.busy": "2025-01-22T06:45:34.594669Z",
     "iopub.status.idle": "2025-01-22T06:45:34.598872Z",
     "shell.execute_reply": "2025-01-22T06:45:34.598360Z"
    }
   },
   "outputs": [],
   "source": [
    "def train_epoch(model, optimizer, loss_fn, train_loader, val_loader):\n",
    "    model.train()\n",
    "    total_train_loss = 0\n",
    "    \n",
    "    # 训练集批次训练\n",
    "    for X_batch, y_batch in train_loader:\n",
    "        optimizer.zero_grad()\n",
    "        \n",
    "        # 前向传播\n",
    "        outputs = model.encoder(X_batch)\n",
    "        logits = model.fc(outputs)\n",
    "        \n",
    "        # 计算损失\n",
    "        loss = loss_fn(logits, y_batch)\n",
    "        loss.backward()\n",
    "        optimizer.step()\n",
    "        \n",
    "        total_train_loss += loss.item()\n",
    "    \n",
    "    # 验证集\n",
    "    model.eval()\n",
    "    total_val_loss = 0\n",
    "    with torch.no_grad():\n",
    "        for X_val_batch, y_val_batch in val_loader:\n",
    "            val_outputs = model.encoder(X_val_batch)\n",
    "            val_logits = model.fc(val_outputs)\n",
    "            val_loss = loss_fn(val_logits, y_val_batch)\n",
    "            total_val_loss += val_loss.item()\n",
    "\n",
    "    # 返回平均损失\n",
    "    return total_train_loss / len(train_loader), total_val_loss / len(val_loader)"
   ]
  },
  {
   "cell_type": "code",
   "execution_count": 7,
   "metadata": {
    "execution": {
     "iopub.execute_input": "2025-01-22T06:45:34.600174Z",
     "iopub.status.busy": "2025-01-22T06:45:34.600015Z",
     "iopub.status.idle": "2025-01-22T06:46:00.807785Z",
     "shell.execute_reply": "2025-01-22T06:46:00.807194Z"
    }
   },
   "outputs": [
    {
     "name": "stdout",
     "output_type": "stream",
     "text": [
      "Epoch 1, Train Loss: 0.5952249283656623, Validation Loss: 3.7269207257213015\n",
      "Validation loss improved to 3.7269207257213015, resetting patience.\n"
     ]
    },
    {
     "name": "stdout",
     "output_type": "stream",
     "text": [
      "Epoch 2, Train Loss: 0.23102404732948795, Validation Loss: 3.7844744595614346\n",
      "No improvement in validation loss. Patience counter: 1/20\n"
     ]
    },
    {
     "name": "stdout",
     "output_type": "stream",
     "text": [
      "Epoch 3, Train Loss: 0.15517819488378612, Validation Loss: 4.371565851298246\n",
      "No improvement in validation loss. Patience counter: 2/20\n"
     ]
    },
    {
     "name": "stdout",
     "output_type": "stream",
     "text": [
      "Epoch 4, Train Loss: 0.10933016774950682, Validation Loss: 5.2204855969457915\n",
      "No improvement in validation loss. Patience counter: 3/20\n"
     ]
    },
    {
     "name": "stdout",
     "output_type": "stream",
     "text": [
      "Epoch 5, Train Loss: 0.07670493386321814, Validation Loss: 4.942798329122139\n",
      "No improvement in validation loss. Patience counter: 4/20\n"
     ]
    },
    {
     "name": "stdout",
     "output_type": "stream",
     "text": [
      "Epoch 6, Train Loss: 0.05435169129162202, Validation Loss: 5.530504707134131\n",
      "No improvement in validation loss. Patience counter: 5/20\n"
     ]
    },
    {
     "name": "stdout",
     "output_type": "stream",
     "text": [
      "Epoch 7, Train Loss: 0.043007080491741435, Validation Loss: 5.674379121173512\n",
      "No improvement in validation loss. Patience counter: 6/20\n"
     ]
    },
    {
     "name": "stdout",
     "output_type": "stream",
     "text": [
      "Epoch 8, Train Loss: 0.034413929126932245, Validation Loss: 5.529855970180396\n",
      "No improvement in validation loss. Patience counter: 7/20\n"
     ]
    },
    {
     "name": "stdout",
     "output_type": "stream",
     "text": [
      "Epoch 9, Train Loss: 0.027659065218764458, Validation Loss: 5.867149739554434\n",
      "No improvement in validation loss. Patience counter: 8/20\n"
     ]
    },
    {
     "name": "stdout",
     "output_type": "stream",
     "text": [
      "Epoch 10, Train Loss: 0.02933732785416482, Validation Loss: 5.452914411371404\n",
      "No improvement in validation loss. Patience counter: 9/20\n"
     ]
    },
    {
     "name": "stdout",
     "output_type": "stream",
     "text": [
      "Epoch 11, Train Loss: 0.01713581519248419, Validation Loss: 5.759479367371761\n",
      "No improvement in validation loss. Patience counter: 10/20\n"
     ]
    },
    {
     "name": "stdout",
     "output_type": "stream",
     "text": [
      "Epoch 12, Train Loss: 0.018937552391577222, Validation Loss: 6.2268166722673355\n",
      "No improvement in validation loss. Patience counter: 11/20\n"
     ]
    },
    {
     "name": "stdout",
     "output_type": "stream",
     "text": [
      "Epoch 13, Train Loss: 0.02007195018643304, Validation Loss: 6.588129534865871\n",
      "No improvement in validation loss. Patience counter: 12/20\n"
     ]
    },
    {
     "name": "stdout",
     "output_type": "stream",
     "text": [
      "Epoch 14, Train Loss: 0.03293966824918415, Validation Loss: 5.677758397478046\n",
      "No improvement in validation loss. Patience counter: 13/20\n"
     ]
    },
    {
     "name": "stdout",
     "output_type": "stream",
     "text": [
      "Epoch 15, Train Loss: 0.017730805359846013, Validation Loss: 6.520015366149671\n",
      "No improvement in validation loss. Patience counter: 14/20\n"
     ]
    },
    {
     "name": "stdout",
     "output_type": "stream",
     "text": [
      "Epoch 16, Train Loss: 0.018439357903014705, Validation Loss: 6.556045535838965\n",
      "No improvement in validation loss. Patience counter: 15/20\n"
     ]
    },
    {
     "name": "stdout",
     "output_type": "stream",
     "text": [
      "Epoch 17, Train Loss: 0.015887243488663865, Validation Loss: 5.893736853744045\n",
      "No improvement in validation loss. Patience counter: 16/20\n"
     ]
    },
    {
     "name": "stdout",
     "output_type": "stream",
     "text": [
      "Epoch 18, Train Loss: 0.017090056291102593, Validation Loss: 5.592822631200154\n",
      "No improvement in validation loss. Patience counter: 17/20\n"
     ]
    },
    {
     "name": "stdout",
     "output_type": "stream",
     "text": [
      "Epoch 19, Train Loss: 0.0277594433282739, Validation Loss: 5.66216702894731\n",
      "No improvement in validation loss. Patience counter: 18/20\n"
     ]
    },
    {
     "name": "stdout",
     "output_type": "stream",
     "text": [
      "Epoch 20, Train Loss: 0.01320582971037268, Validation Loss: 5.581631526802525\n",
      "No improvement in validation loss. Patience counter: 19/20\n"
     ]
    },
    {
     "name": "stdout",
     "output_type": "stream",
     "text": [
      "Epoch 21, Train Loss: 0.018528300511026195, Validation Loss: 5.463535178791393\n",
      "No improvement in validation loss. Patience counter: 20/20\n",
      "Early stopping triggered. Stopping training at epoch 21.\n",
      "Loaded best model weights based on validation loss.\n"
     ]
    }
   ],
   "source": [
    "import copy  # 用于保存模型的最佳状态\n",
    "\n",
    "# Early Stopping 参数\n",
    "patience = 20  # 如果验证损失在 10 个 epoch 中没有改善，停止训练\n",
    "min_delta = 1e-4  # 最小改善幅度\n",
    "patience_counter = 0\n",
    "best_val_loss = float('inf')  # 初始设置为正无穷大\n",
    "best_model_weights = copy.deepcopy(estim.model.state_dict())  # 保存最佳模型权重\n",
    "train_losses = []\n",
    "val_losses = []\n",
    "\n",
    "# 训练 500 个 epoch\n",
    "for epoch in range(500):\n",
    "    train_loss, val_loss = train_epoch(estim.model, optimizer, loss_fn, train_loader, val_loader)\n",
    "    print(f'Epoch {epoch+1}, Train Loss: {train_loss}, Validation Loss: {val_loss}')\n",
    "    train_losses.append(train_loss)\n",
    "    val_losses.append(val_loss)\n",
    "    \n",
    "    # Early Stopping 检查\n",
    "    if val_loss < best_val_loss - min_delta:\n",
    "        best_val_loss = val_loss  # 更新最佳验证损失\n",
    "        patience_counter = 0  # 重置 patience 计数器\n",
    "        best_model_weights = copy.deepcopy(estim.model.state_dict())  # 保存当前最佳模型\n",
    "        print(f\"Validation loss improved to {best_val_loss}, resetting patience.\")\n",
    "    else:\n",
    "        patience_counter += 1\n",
    "        print(f\"No improvement in validation loss. Patience counter: {patience_counter}/{patience}\")\n",
    "    \n",
    "    # 如果 patience_counter 超过设置的 patience，停止训练\n",
    "    if patience_counter >= patience:\n",
    "        print(f\"Early stopping triggered. Stopping training at epoch {epoch+1}.\")\n",
    "        break\n",
    "\n",
    "# 恢复到训练中性能最好的模型权重\n",
    "estim.model.load_state_dict(best_model_weights)\n",
    "print(\"Loaded best model weights based on validation loss.\")"
   ]
  },
  {
   "cell_type": "code",
   "execution_count": 8,
   "metadata": {
    "execution": {
     "iopub.execute_input": "2025-01-22T06:46:00.809560Z",
     "iopub.status.busy": "2025-01-22T06:46:00.809393Z",
     "iopub.status.idle": "2025-01-22T06:46:03.011203Z",
     "shell.execute_reply": "2025-01-22T06:46:03.010664Z"
    }
   },
   "outputs": [
    {
     "name": "stdout",
     "output_type": "stream",
     "text": [
      "KNN Accuracy: 0.41781551044499254\n",
      "Weighted F1 Score: 0.386143524420991\n",
      "Macro F1 Score: 0.2729916408541471\n"
     ]
    },
    {
     "name": "stdout",
     "output_type": "stream",
     "text": [
      "                                                      precision    recall  f1-score   support\n",
      "\n",
      "                                              B cell       0.43      0.55      0.48     11338\n",
      "                CD1c-positive myeloid dendritic cell       0.00      0.00      0.00        95\n",
      "                          CD4-positive helper T cell       0.00      0.00      0.00      7784\n",
      "                     CD4-positive, alpha-beta T cell       0.15      0.20      0.17     11008\n",
      "              CD4-positive, alpha-beta memory T cell       0.00      0.00      0.00      2866\n",
      "                     CD8-positive, alpha-beta T cell       0.22      0.14      0.17      8505\n",
      "           CD8-positive, alpha-beta cytotoxic T cell       0.00      0.00      0.00       543\n",
      "              CD8-positive, alpha-beta memory T cell       0.00      0.00      0.00      4408\n",
      "                                        Schwann cell       0.00      0.00      0.00        10\n",
      "                                              T cell       0.15      0.72      0.24      7486\n",
      "                            T follicular helper cell       0.00      0.00      0.00       398\n",
      "                                          basal cell       0.56      0.59      0.58      7466\n",
      "                       blood vessel endothelial cell       0.00      0.00      0.00        47\n",
      "                          capillary endothelial cell       0.61      0.81      0.70      3787\n",
      "                                  classical monocyte       0.49      0.51      0.50      6900\n",
      "                                           club cell       0.72      0.47      0.57      1765\n",
      "                                      dendritic cell       0.15      0.47      0.23        73\n",
      "            effector CD8-positive, alpha-beta T cell       0.00      0.00      0.00      5148\n",
      "                                    endothelial cell       0.41      0.29      0.34      4815\n",
      "                          endothelial cell of artery       0.54      0.30      0.39       885\n",
      "                endothelial cell of lymphatic vessel       0.69      0.66      0.67       684\n",
      "                                          enterocyte       0.00      0.00      0.00      1669\n",
      "                                         erythrocyte       0.99      0.96      0.97      2443\n",
      "                                         goblet cell       0.00      0.00      0.00       192\n",
      "                                         granulocyte       0.00      0.00      0.00       723\n",
      "                             hematopoietic stem cell       0.75      0.64      0.69       466\n",
      "                                innate lymphoid cell       0.00      0.00      0.00      4261\n",
      "                               intermediate monocyte       0.00      0.00      0.00       506\n",
      "                                        keratinocyte       0.00      0.00      0.00      3647\n",
      "                                           leukocyte       0.25      0.00      0.00       497\n",
      "            luminal epithelial cell of mammary gland       0.00      0.00      0.00         0\n",
      "                                          macrophage       0.87      0.91      0.89     17081\n",
      "                                           mast cell       0.87      0.90      0.88       675\n",
      "                                    mature NK T cell       0.78      0.64      0.70      4625\n",
      "                                       memory B cell       0.45      0.42      0.43      9648\n",
      "                                    mesothelial cell       0.40      0.68      0.50        28\n",
      "                                            monocyte       0.25      0.63      0.36      9029\n",
      "                                        naive B cell       0.87      0.38      0.53      3244\n",
      "naive thymus-derived CD4-positive, alpha-beta T cell       0.00      0.00      0.00      2181\n",
      "naive thymus-derived CD8-positive, alpha-beta T cell       0.00      0.00      0.00       469\n",
      "                                          neutrophil       0.00      0.00      0.00     13103\n",
      "                              non-classical monocyte       0.16      0.09      0.12       866\n",
      "                                            pericyte       0.35      0.83      0.49      2989\n",
      "                                         plasma cell       0.91      0.60      0.72      8551\n",
      "                                         plasmablast       0.00      0.33      0.00         3\n",
      "                         plasmacytoid dendritic cell       0.00      0.00      0.00        40\n",
      "                                            platelet       0.00      0.00      0.00        92\n",
      "                                   regulatory T cell       0.00      0.00      0.00       939\n",
      "                                  smooth muscle cell       0.83      0.27      0.41      3340\n",
      "                                   type I pneumocyte       0.04      0.68      0.08        62\n",
      "                                  type II pneumocyte       0.87      0.92      0.90      7717\n",
      "              vascular associated smooth muscle cell       0.26      0.13      0.17      2020\n",
      "                               vein endothelial cell       0.54      0.60      0.57      2639\n",
      "\n",
      "                                            accuracy                           0.42    189756\n",
      "                                           macro avg       0.29      0.31      0.27    189756\n",
      "                                        weighted avg       0.40      0.42      0.39    189756\n",
      "\n",
      "\n",
      "Missing class indices: {39, 14, 18, 52, 53, 55, 25}\n",
      "Missing class names: ['microglial cell', 'cardiac muscle cell', 'double-positive, alpha-beta thymocyte', 'retina horizontal cell', 'retinal ganglion cell', 'tracheal goblet cell', 'fibroblast of cardiac tissue']\n",
      "Saved embeddings, predictions and label mapping to ./prediction_results/GP_mask_fine_tune_seed_42\n"
     ]
    },
    {
     "name": "stderr",
     "output_type": "stream",
     "text": [
      "/home/hanchuangyi/miniconda3/envs/ssl/lib/python3.10/site-packages/sklearn/metrics/_classification.py:1531: UndefinedMetricWarning: Precision is ill-defined and being set to 0.0 in labels with no predicted samples. Use `zero_division` parameter to control this behavior.\n",
      "  _warn_prf(average, modifier, f\"{metric.capitalize()} is\", len(result))\n",
      "/home/hanchuangyi/miniconda3/envs/ssl/lib/python3.10/site-packages/sklearn/metrics/_classification.py:1531: UndefinedMetricWarning: Recall is ill-defined and being set to 0.0 in labels with no true samples. Use `zero_division` parameter to control this behavior.\n",
      "  _warn_prf(average, modifier, f\"{metric.capitalize()} is\", len(result))\n",
      "/home/hanchuangyi/miniconda3/envs/ssl/lib/python3.10/site-packages/sklearn/metrics/_classification.py:1531: UndefinedMetricWarning: Precision is ill-defined and being set to 0.0 in labels with no predicted samples. Use `zero_division` parameter to control this behavior.\n",
      "  _warn_prf(average, modifier, f\"{metric.capitalize()} is\", len(result))\n",
      "/home/hanchuangyi/miniconda3/envs/ssl/lib/python3.10/site-packages/sklearn/metrics/_classification.py:1531: UndefinedMetricWarning: Recall is ill-defined and being set to 0.0 in labels with no true samples. Use `zero_division` parameter to control this behavior.\n",
      "  _warn_prf(average, modifier, f\"{metric.capitalize()} is\", len(result))\n",
      "/home/hanchuangyi/miniconda3/envs/ssl/lib/python3.10/site-packages/sklearn/metrics/_classification.py:1531: UndefinedMetricWarning: Precision is ill-defined and being set to 0.0 in labels with no predicted samples. Use `zero_division` parameter to control this behavior.\n",
      "  _warn_prf(average, modifier, f\"{metric.capitalize()} is\", len(result))\n",
      "/home/hanchuangyi/miniconda3/envs/ssl/lib/python3.10/site-packages/sklearn/metrics/_classification.py:1531: UndefinedMetricWarning: Recall is ill-defined and being set to 0.0 in labels with no true samples. Use `zero_division` parameter to control this behavior.\n",
      "  _warn_prf(average, modifier, f\"{metric.capitalize()} is\", len(result))\n"
     ]
    }
   ],
   "source": [
    "from sklearn.neighbors import KNeighborsClassifier\n",
    "\n",
    "# Evaluate on Test Set  \n",
    "estim.model.eval()  \n",
    "with torch.no_grad():  \n",
    "    test_embeddings = estim.model.encoder(X_test).detach().cpu().numpy()  \n",
    "    val_embeddings = estim.model.encoder(X_val).detach().cpu().numpy()  \n",
    "    train_embeddings = estim.model.encoder(X_train).detach().cpu().numpy()  \n",
    "\n",
    "# KNN Classification  \n",
    "knn = KNeighborsClassifier(n_neighbors=5)  \n",
    "knn.fit(val_embeddings, y_val.cpu().numpy())  \n",
    "predictions = knn.predict(test_embeddings)  \n",
    "\n",
    "# First, let's get the actual unique classes present in both y_test and predictions  \n",
    "unique_classes = np.unique(np.concatenate([y_test.cpu().numpy(), predictions]))\n",
    "\n",
    "\n",
    "accuracy = accuracy_score(y_test.cpu().numpy(), predictions)  \n",
    "f1 = f1_score(y_test.cpu().numpy(), predictions, average='weighted')  \n",
    "macro_f1 = f1_score(y_test.cpu().numpy(), predictions, average='macro')  \n",
    "\n",
    "print(f\"KNN Accuracy: {accuracy}\")  \n",
    "print(f\"Weighted F1 Score: {f1}\")  \n",
    "print(f\"Macro F1 Score: {macro_f1}\")  \n",
    "\n",
    "# Get the class names for only the classes present in the data  \n",
    "present_classes = [label_encoder.classes_[i] for i in unique_classes]  \n",
    "report = classification_report(y_test.cpu().numpy(), predictions,   \n",
    "                             labels=unique_classes,  # specify which labels to include  \n",
    "                             target_names=present_classes)  # their corresponding names  \n",
    "print(report)  \n",
    "\n",
    "# Optionally, print which class is missing  \n",
    "all_classes_set = set(range(len(label_encoder.classes_)))  \n",
    "present_classes_set = set(unique_classes)  \n",
    "missing_classes = all_classes_set - present_classes_set  \n",
    "if missing_classes:  \n",
    "    print(\"\\nMissing class indices:\", missing_classes)  \n",
    "    print(\"Missing class names:\", [label_encoder.classes_[i] for i in missing_classes])\n",
    "    \n",
    "random_seed = 42\n",
    "\n",
    "import numpy as np\n",
    "import os\n",
    "import json\n",
    "\n",
    "# Create directory to store embeddings and predictions\n",
    "output_dir = os.path.join('./prediction_results', f'GP_mask_fine_tune_seed_{random_seed}')\n",
    "os.makedirs(output_dir, exist_ok=True)\n",
    "\n",
    "# Save embeddings\n",
    "np.save(os.path.join(output_dir, 'train_embeddings.npy'), train_embeddings)\n",
    "np.save(os.path.join(output_dir, 'val_embeddings.npy'), val_embeddings) \n",
    "np.save(os.path.join(output_dir, 'test_embeddings.npy'), test_embeddings)\n",
    "\n",
    "# Save predictions and ground truth\n",
    "np.save(os.path.join(output_dir, 'test_predictions.npy'), predictions)\n",
    "np.save(os.path.join(output_dir, 'test_ground_truth.npy'), y_test.cpu().numpy())\n",
    "np.save(os.path.join(output_dir, 'train_ground_truth.npy'), y_train.cpu().numpy())\n",
    "np.save(os.path.join(output_dir, 'val_ground_truth.npy'), y_val.cpu().numpy())\n",
    "\n",
    "# Save training history if exists\n",
    "if 'train_losses' in globals() and 'val_losses' in globals():\n",
    "    np.save(os.path.join(output_dir, 'train_losses.npy'), np.array(train_losses))\n",
    "    np.save(os.path.join(output_dir, 'val_losses.npy'), np.array(val_losses))\n",
    "\n",
    "# Save label encoder classes (target names)\n",
    "label_mapping = {i: label_name for i, label_name in enumerate(label_encoder.classes_)}\n",
    "with open(os.path.join(output_dir, 'label_mapping.json'), 'w') as f:\n",
    "    json.dump(label_mapping, f, indent=4)\n",
    "\n",
    "print(f\"Saved embeddings, predictions and label mapping to {output_dir}\")\n"
   ]
  },
  {
   "cell_type": "code",
   "execution_count": 9,
   "metadata": {
    "execution": {
     "iopub.execute_input": "2025-01-22T06:46:03.012929Z",
     "iopub.status.busy": "2025-01-22T06:46:03.012761Z",
     "iopub.status.idle": "2025-01-22T06:46:03.033680Z",
     "shell.execute_reply": "2025-01-22T06:46:03.033211Z"
    }
   },
   "outputs": [
    {
     "name": "stdout",
     "output_type": "stream",
     "text": [
      "Metrics Summary:\n",
      "init_train_loss\tinit_val_loss\tconverged_epoch\tconverged_val_loss\tmacro_f1\tweighted_f1\tmicro_f1\n",
      "0.595\t3.727\t1\t3.727\t0.273\t0.386\t0.418\n"
     ]
    }
   ],
   "source": [
    "\n",
    "import pandas as pd\n",
    "import os\n",
    "import re\n",
    "\n",
    "# 当前 Notebook 文件名\n",
    "notebook_name = \"PBMC_GP_mask_fine_tune_42.ipynb\"\n",
    "\n",
    "# 初始化需要打印的值\n",
    "init_train_loss = train_losses[0] if 'train_losses' in globals() else None\n",
    "init_val_loss = val_losses[0] if 'val_losses' in globals() else None\n",
    "converged_epoch = len(train_losses) - patience if 'train_losses' in globals() else None\n",
    "converged_val_loss = best_val_loss if 'best_val_loss' in globals() else None\n",
    "\n",
    "# 打印所有所需的指标\n",
    "print(\"Metrics Summary:\")\n",
    "if 'train_losses' in globals():\n",
    "    print(f\"init_train_loss\\tinit_val_loss\\tconverged_epoch\\tconverged_val_loss\\tmacro_f1\\tweighted_f1\\tmicro_f1\")\n",
    "    print(f\"{init_train_loss:.3f}\\t{init_val_loss:.3f}\\t{converged_epoch}\\t{converged_val_loss:.3f}\\t{macro_f1:.3f}\\t{f1:.3f}\\t{accuracy:.3f}\")\n",
    "else:\n",
    "    print(f\"macro_f1\\tweighted_f1\\tmicro_f1\")\n",
    "    print(f\"{macro_f1:.3f}\\t{f1:.3f}\\t{accuracy:.3f}\")\n",
    "\n",
    "# 保存结果到 CSV 文件\n",
    "output_data = {\n",
    "    'dataset_split_random_seed': [int(random_seed)],\n",
    "    'dataset': ['PBMC'],\n",
    "    'method': [re.search(r'PBMC_(.*?)_\\d+', notebook_name).group(1)],\n",
    "    'init_train_loss': [init_train_loss if init_train_loss is not None else ''],\n",
    "    'init_val_loss': [init_val_loss if init_val_loss is not None else ''],\n",
    "    'converged_epoch': [converged_epoch if converged_epoch is not None else ''],\n",
    "    'converged_val_loss': [converged_val_loss if converged_val_loss is not None else ''],\n",
    "    'macro_f1': [macro_f1],\n",
    "    'weighted_f1': [f1],\n",
    "    'micro_f1': [accuracy]\n",
    "}\n",
    "output_df = pd.DataFrame(output_data)\n",
    "\n",
    "# 保存到当前目录下名为 results 的文件夹中\n",
    "if not os.path.exists('results'):\n",
    "    os.makedirs('results')\n",
    "\n",
    "csv_filename = f\"results/{os.path.splitext(notebook_name)[0]}_results.csv\"\n",
    "output_df.to_csv(csv_filename, index=False)\n"
   ]
  }
 ],
 "metadata": {
  "kernelspec": {
   "display_name": "ssl",
   "language": "python",
   "name": "python3"
  },
  "language_info": {
   "codemirror_mode": {
    "name": "ipython",
    "version": 3
   },
   "file_extension": ".py",
   "mimetype": "text/x-python",
   "name": "python",
   "nbconvert_exporter": "python",
   "pygments_lexer": "ipython3",
   "version": "3.10.13"
  }
 },
 "nbformat": 4,
 "nbformat_minor": 2
}
