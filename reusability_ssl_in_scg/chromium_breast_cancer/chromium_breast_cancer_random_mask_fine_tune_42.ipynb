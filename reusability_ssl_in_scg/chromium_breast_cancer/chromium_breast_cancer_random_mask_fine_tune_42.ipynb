{
 "cells": [
  {
   "cell_type": "code",
   "execution_count": 1,
   "metadata": {
    "execution": {
     "iopub.execute_input": "2025-01-07T06:03:52.076447Z",
     "iopub.status.busy": "2025-01-07T06:03:52.076214Z",
     "iopub.status.idle": "2025-01-07T06:04:03.509742Z",
     "shell.execute_reply": "2025-01-07T06:04:03.507048Z"
    }
   },
   "outputs": [
    {
     "name": "stderr",
     "output_type": "stream",
     "text": [
      "/home/hanchuangyi/miniconda3/envs/ssl/lib/python3.10/site-packages/merlin/dtypes/mappings/tf.py:52: UserWarning: Tensorflow dtype mappings did not load successfully due to an error: No module named 'tensorflow'\n",
      "  warn(f\"Tensorflow dtype mappings did not load successfully due to an error: {exc.msg}\")\n",
      "/home/hanchuangyi/miniconda3/envs/ssl/lib/python3.10/site-packages/merlin/dtypes/mappings/triton.py:53: UserWarning: Triton dtype mappings did not load successfully due to an error: No module named 'tritonclient'\n",
      "  warn(f\"Triton dtype mappings did not load successfully due to an error: {exc.msg}\")\n"
     ]
    },
    {
     "name": "stderr",
     "output_type": "stream",
     "text": [
      "/home/hanchuangyi/miniconda3/envs/ssl/lib/python3.10/site-packages/anndata/_core/anndata.py:1756: UserWarning: Variable names are not unique. To make them unique, call `.var_names_make_unique`.\n",
      "  utils.warn_names_duplicates(\"var\")\n"
     ]
    },
    {
     "name": "stdout",
     "output_type": "stream",
     "text": [
      "<Compressed Sparse Row sparse matrix of dtype 'float32'\n",
      "\twith 71173076 stored elements and shape (27460, 18082)>\n",
      "  Coords\tValues\n",
      "  (0, 13)\t1.0\n",
      "  (0, 40)\t1.0\n",
      "  (0, 48)\t1.0\n",
      "  (0, 108)\t1.0\n",
      "  (0, 114)\t1.0\n",
      "  (0, 146)\t1.0\n",
      "  (0, 171)\t1.0\n",
      "  (0, 225)\t1.0\n",
      "  (0, 235)\t3.0\n",
      "  (0, 261)\t1.0\n",
      "  (0, 262)\t3.0\n",
      "  (0, 263)\t2.0\n",
      "  (0, 276)\t1.0\n",
      "  (0, 280)\t5.0\n",
      "  (0, 366)\t1.0\n",
      "  (0, 369)\t1.0\n",
      "  (0, 378)\t2.0\n",
      "  (0, 391)\t1.0\n",
      "  (0, 402)\t1.0\n",
      "  (0, 438)\t1.0\n",
      "  (0, 439)\t1.0\n",
      "  (0, 452)\t1.0\n",
      "  (0, 471)\t1.0\n",
      "  (0, 478)\t1.0\n",
      "  (0, 516)\t1.0\n",
      "  :\t:\n",
      "  (27459, 17744)\t2.0\n",
      "  (27459, 17747)\t2.0\n",
      "  (27459, 17764)\t1.0\n",
      "  (27459, 17769)\t1.0\n",
      "  (27459, 17780)\t1.0\n",
      "  (27459, 17812)\t1.0\n",
      "  (27459, 17820)\t1.0\n",
      "  (27459, 17843)\t1.0\n",
      "  (27459, 17867)\t2.0\n",
      "  (27459, 17899)\t1.0\n",
      "  (27459, 17901)\t1.0\n",
      "  (27459, 17911)\t1.0\n",
      "  (27459, 17915)\t2.0\n",
      "  (27459, 17919)\t1.0\n",
      "  (27459, 17960)\t1.0\n",
      "  (27459, 17961)\t1.0\n",
      "  (27459, 17964)\t1.0\n",
      "  (27459, 17969)\t1.0\n",
      "  (27459, 17971)\t1.0\n",
      "  (27459, 18008)\t1.0\n",
      "  (27459, 18027)\t2.0\n",
      "  (27459, 18030)\t1.0\n",
      "  (27459, 18035)\t2.0\n",
      "  (27459, 18077)\t3.0\n",
      "  (27459, 18080)\t1.0\n"
     ]
    }
   ],
   "source": [
    "import scanpy as sc\n",
    "import torch\n",
    "import lightning.pytorch as pl\n",
    "from torch import nn\n",
    "from torch.optim import AdamW\n",
    "from self_supervision.models.lightning_modules.cellnet_autoencoder import MLPAutoEncoder\n",
    "from self_supervision.estimator.cellnet import EstimatorAutoEncoder\n",
    "from sklearn.model_selection import train_test_split\n",
    "from sklearn.preprocessing import LabelEncoder\n",
    "from sklearn.metrics import accuracy_score, f1_score, classification_report\n",
    "import numpy as np\n",
    "import pandas as pd\n",
    "\n",
    "data_dir = '../../dataset/annotated_Chromium_FFPE_Human_Breast_Cancer_Chromium_FFPE_Human_Breast_Cancer_count_sample_filtered_feature_bc_matrix.h5ad'\n",
    "adata = sc.read_h5ad(data_dir)\n",
    "print(adata.X)\n",
    "sc.pp.normalize_total(adata,target_sum=1e4)\n",
    "sc.pp.log1p(adata)\n",
    "\n",
    "\n",
    "# 2. 设置 checkpoint 路径\n",
    "ckpt_path = \"../../sc_pretrained/Pretrained Models/RandomMask.ckpt\"\n",
    "\n",
    "# 3. 模型参数\n",
    "units_encoder = [512, 512, 256, 256, 64]\n",
    "units_decoder = [256, 256, 512, 512]\n",
    "\n",
    "# 初始化 EstimatorAutoEncoder 实例\n",
    "estim = EstimatorAutoEncoder(data_path=None)  # 没有实际数据路径，可以设置为None\n",
    "\n",
    "# 4. 加载预训练模型\n",
    "estim.model = MLPAutoEncoder.load_from_checkpoint(\n",
    "    ckpt_path,\n",
    "    gene_dim=19331,  # 根据你的数据调整\n",
    "    batch_size=8192,  # 根据你的需要调整\n",
    "    units_encoder=units_encoder, \n",
    "    units_decoder=units_decoder,\n",
    "    masking_strategy=\"random\",  # 假设模型使用了随机掩码\n",
    "    masking_rate=0.5,  # 根据需要调整\n",
    ")"
   ]
  },
  {
   "cell_type": "code",
   "execution_count": 2,
   "metadata": {
    "execution": {
     "iopub.execute_input": "2025-01-07T06:04:03.519557Z",
     "iopub.status.busy": "2025-01-07T06:04:03.512659Z",
     "iopub.status.idle": "2025-01-07T06:04:03.535447Z",
     "shell.execute_reply": "2025-01-07T06:04:03.535054Z"
    }
   },
   "outputs": [
    {
     "data": {
      "text/plain": [
       "19"
      ]
     },
     "execution_count": 2,
     "metadata": {},
     "output_type": "execute_result"
    }
   ],
   "source": [
    "# 添加分类层 (FC)\n",
    "n_classes = len(adata.obs['cell_type'].unique())\n",
    "estim.model.fc = nn.Linear(units_encoder[-1], n_classes)\n",
    "n_classes"
   ]
  },
  {
   "cell_type": "code",
   "execution_count": 3,
   "metadata": {
    "execution": {
     "iopub.execute_input": "2025-01-07T06:04:03.537214Z",
     "iopub.status.busy": "2025-01-07T06:04:03.536947Z",
     "iopub.status.idle": "2025-01-07T06:04:03.599926Z",
     "shell.execute_reply": "2025-01-07T06:04:03.599373Z"
    }
   },
   "outputs": [],
   "source": [
    "var_df = pd.read_parquet('../../sc_pretrained/var.parquet')\n",
    "all_genes = var_df['feature_name'].tolist()\n",
    "\n",
    "new_data = np.zeros((adata.X.shape[0], len(all_genes)), dtype=np.float32)\n",
    "\n",
    "adata.var['gene_name']=adata.var.index\n",
    "existing_genes = adata.var['gene_name']"
   ]
  },
  {
   "cell_type": "code",
   "execution_count": 4,
   "metadata": {
    "execution": {
     "iopub.execute_input": "2025-01-07T06:04:03.602235Z",
     "iopub.status.busy": "2025-01-07T06:04:03.601919Z",
     "iopub.status.idle": "2025-01-07T06:04:03.632862Z",
     "shell.execute_reply": "2025-01-07T06:04:03.632248Z"
    }
   },
   "outputs": [
    {
     "name": "stdout",
     "output_type": "stream",
     "text": [
      "匹配的基因数量: 17768\n",
      "匹配的基因列表: {'atad3b', 'cipc', 'naa40', 'eif2ak4', 'cep89', 'ryr2', 'tfap2e', 'anapc13', 'lilrb4', 'eef1e1', 'cln8', 'klhl34', 'plekha3', 'mri1', 'nfix', 'chchd5', 'ttc17', 'gigyf2', 'itprid2', 'dpysl4', 'ubxn1', 'pmepa1', 'znf285', 'rhcg', 'fut9', 'sfrp4', 'lrrc26', 'or13h1', 'kif26a', 'smim10l1', 'hgf', 'sarm1', 'abl2', 'slc39a8', 'ptprn2', 'wfdc5', 'clk4', 'prlhr', 'xcl2', 'luzp1', 'gpr37l1', 'tbc1d28', 'cab39', 's100a1', 'cd48', 'lemd2', 'arfgap3', 'klhl29', 'cish', 'pheta2', 'adgrb3', 'umad1', 'zhx2', 'tspan3', 'polr2a', 'tp53inp1', 'or51g1', 'xpo6', 'ifitm2', 'ppp4r1', 'rag1', 'adal', 'rnft1', 'or11h4', 'carnmt1', 'invs', 'ston2', 'znf71', 'mxra5', 'prr20g', 'kif5b', 'glce', 'efemp1', 'hecw1', 'chd4', 'antkmt', 'cnmd', 'slc16a11', 'grik2', 'ccna2', 'macrod2', 'gskip', 'pmfbp1', 'meaf6', 'golm1', 'rock1', 'arhgap35', 'cand2', 'msmp', 'ctnnal1', 'ccdc65', 'arhgap44', 'colec12', 'krtap12-4', 'pcsk1', 'acsm2b', 'tmod4', 'spata5', 'plch1', 'crygb', 'tmem169', 'slc39a2', 'ifi35', 'nmbr', 'smc5', 'unc5b', 'entpd3', 'tnik', 'lrrc23', 'ackr1', 'fgf1', 'camlg', 'slc25a35', 'kiaa1328', 'igdcc3', 'cpd', 'ly9', 'tgfb1i1', 'cpa3', 'or10k2', 'rsph4a', 'znf384', 'npl', 'mmp14', 'elovl7', 'znf350', 'tsnax', 'or51a2', 'upp1', 'ddx27', 'zbtb12', 'or5h6', 'ceacam3', 'ndufa4', 'ubqlnl', 'ssbp4', 'pms2', 'fancm', 'cdk12', 'smcp', 'pum1', 'fbn3', 'scn3b', 'fcho2', 'phpt1', 'hdhd2', 'mtif3', 'lepr', 'sgsm3', 'cntfr', 'glrx3', 'fam160b1', 'fam160a1', 'pik3cg', 'nadk2', 'gramd1c', 'asph', 'rida', 'pate1', 'cage1', 'mzt1', 'tmem235', 'pmch', 'tab1', 'jmjd1c', 'znf585a', 'ccdc124', 'cldnd2', 'cfap410', 'c2orf80', 'slc2a3', 'znfx1', 'f2rl2', 'cdr1', 'tac1', 'wfdc6', 'atp5mg', 'eif4e3', 'selenom', 'cyp4b1', 'pa2g4', 'tti2', 'cox15', 'cela1', 'rbbp7', 'ankef1', 'calb1', 'cxcr6', 'tpra1', 'fthl17', 'rnft2', 'pbdc1', 'dmrt3', 'tmem245', 'clptm1l', 'phf19', 'stxbp5l', 'cryab', 'atad3a', 'hoxa7', 'bri3', 'tbcb', 'tro', 'tmco1', 'pam16', 'ppp1r13b', 'spata6', 'shisal2a', 'rnh1', 'mkrn3', 'amer1', 'synpo2', 'elac2', 'lonrf2', 'znf662', 'wbp2', 'fmod', 'gabrr1', 'psmb7', 'krtap9-7', 'mettl4', 'dop1b', 'faim2', 'pgam5', 'ndufc2', 'upk3b', 'polr2f', 'rrm1', 'cnppd1', 'stard3nl', 'nxpe4', 'tacc1', 'kctd19', 'appl1', 'pxylp1', 'gpr141', 'map3k12', 'agfg1', 'krtap10-11', 'apol6', 'serpina7', 'fcrl6', 'cyp2c18', 'tnn', 'taz', 'tmem240', 'dnajb9', 'snx17', 'ddx59', 'syne1', 'lrrn3', 'prb3', 'ppm1a', 'phldb2', 'tagap', 'gprc5d', 'pcgf1', 'ntf4', 'dydc2', 'clstn3', 'hpse2', 'ppial4a', 'or5k1', 'lrrc10b', 'mgme1', 'frzb', 'adcy2', 'znf335', 'tgfbi', 'mmp24', 'grip1', 'gas6', 'spcs1', 'tstd2', 'krt16', 'nfat5', 'col1a1', 'chmp4c', 'pex19', 'pcdh10', 'chd2', 'birc5', 'znf540', 'hnf4a', 'vamp8', 'wwc2', 'pcyt1a', 'tmem63a', 'ermap', 'akr1e2', 'poldip3', 'lrp1', 'ndufs8', 'pld4', 'raver2', 'knop1', 'ufsp2', 'itgb1', 'c2orf50', 'plbd2', 'abcd4', 'fam186a', 'src', 'gyg2', 'c3orf56', 'tslp', 'acap3', 'sstr5', 'vrk3', 'map2k4', 'kbtbd13', 'hk3', 'btg3', 'mmp28', 'slitrk6', 'mtap', 'oosp4b', 'nlrp5', 'kctd8', 'or4k2', 'drosha', 'spaar', 'ptprh', 'txlna', 'dclre1a', 'nnat', 'grm6', 'rhbdd2', 'drd1', 'nek3', 'rin2', 'oma1', 'c4orf45', 'znf366', 'zbtb25', 'tssk1b', 'jag1', 'sh2d3c', 'vxn', 'dennd11', 'mfsd14a', 'pdik1l', 'abce1', 'tll1', 'fgfr1op2', 'clip1', 'sstr4', 'dusp19', 'znf251', 'gtpbp1', 'orc1', 'ak4', 'setdb2', 'tmem272', 'mab21l1', 'jpt1', 'vcp', 'pkp4', 'uxt', 'or6f1', 'kctd7', 'c11orf54', 'msgn1', 'lima1', 'mospd3', 'dagla', 'hnmt', 'ralgapa2', 'rab6b', 'rbm22', 'sugct', 'cstf2t', 'tmem63c', 'klk1', 'tmem174', 'tmem262', 'spem1', 'tbx3', 'csad', 'ugcg', 'mepce', 'folr3', 'ttl', 'prob1', 'nfil3', 'tfap2c', 'ece2', 'sox8', 'neurog3', 'syap1', 'itih5', 'tmem138', 'cspg5', 'or5b12', 'prr35', 'ttc30b', 'itpripl2', 'banf1', 'sec62', 'ctxn2', 'or9g1', 'cfap61', 'slc15a1', 'borcs6', 'dkk1', 'abhd10', 'rbm19', 'grk1', 'ifng', 'cpne3', 'foxe3', 'gnpda2', 'vav3', 'tsen2', 'mybphl', 'erc2', 'nudt9', 'ccdc9b', 'marveld1', 'nufip2', 'col20a1', 'nutf2', 'c3orf49', 'galnt4', 'idi1', 'rad9b', 'ccdc96', 'pomgnt1', 'ppm1e', 'il37', 'coa4', 'crtc2', 'med15', 'p4ha3', 'ndufc1', 'lce5a', 'neu4', 'usp48', 'spef2', 'gjd3', 'rufy4', 'hoga1', 'rcn1', 'tmem101', 'tmem130', 'ifna8', 'ttc38', 'supt5h', 'xkr7', 'pfdn6', 'lcmt2', 'sephs2', 'wsb2', 'fam76b', 'gabra5', 'cplx1', 'spr', 'ranbp17', 'cfap45', 'slc33a1', 'rpel1', 'slc43a1', 'nid2', 'trim31', 'slc35d2', 'klf18', 'sde2', 'gdnf', 'page3', 'htra2', 'fbxo27', 'cdkn1a', 'znf404', 'fam229b', 'hcn2', 'chrm3', 'dpm3', 'brd9', 'tpk1', 'garem1', 'plekhm3', 'bcar1', 'aldoc', 'eral1', 'hmgn1', 'aldh16a1', 'crk', 'gtf2h3', 'serpina11', 'slc22a23', 'lrig3', 'tpte2', 'ap5z1', 'peak3', 'smim22', 'cfb', 'ppp1r36', 'grb10', 'ctps1', 'mgll', 'nudt15', 'hdac2', 'nexmif', 'cnot6l', 'slc23a3', 'tprn', 'mak', 'ptprs', 'krtap20-3', 'tspyl4', 'ube2d3', 'aipl1', 'gramd1b', 'arl6ip5', 'map2k5', 'lgr6', 'scimp', 'pafah1b3', 'psors1c2', 'pkhd1', 'rnf19b', 'bad', 'ccdc69', 'kif3a', 'col16a1', 'dcaf11', 'tas2r4', 'tmprss2', 'spindoc', 'ccdc88a', 'tyk2', 'csf3r', 'nat1', 'cd81', 'cd8b2', 'tesc', 'cryba4', 'gucy2c', 'ugt2a3', 'fam160b2', 'egr2', 'cplx3', 'nop58', 'cklf', 'tp53i3', 'cemp1', 'or4b1', 'c10orf53', 'slc5a12', 'hpgd', 'gimap1', 'me1', 'stau1', 'eys', 'clec2l', 'gdi2', 'guca2b', 'smim13', 'plekhs1', 'fam50b', 'ecm2', 'uhrf1bp1l', 'cyp4f3', 'mapk9', 'gpatch4', 'ralbp1', 'zcchc4', 'ccdc40', 'trmu', 'sctr', 'c6orf226', 'tmod1', 'myh2', 'nacc1', 'capn1', 'zdhhc3', 'ctcfl', 'znf263', 'gmppa', 'asb14', 'slc22a12', 'tbkbp1', 'tsen54', 'klk14', 'mia', 'znf549', 'sat1', 'ndufs4', 'crb2', 'c2cd5', 'clec20a', 'ing3', 'fzr1', 'emc3', 'lemd3', 'znf493', 'znf732', 'bcl6', 'tufm', 'spred3', 'mthfr', 'prr15', 'cbr3', 'klhdc2', 'stat2', 'tm2d2', 'defb116', 'itgax', 'aspdh', 'prrg3', 'fbxl2', 'gle1', 'pappa', 'gys2', 'dhx15', 'gjd4', 'tnfrsf13c', 'pax8', 'adgra2', 'grk5', 'b3gat3', 'ppat', 'reep2', 'pcdha13', 'prr15l', 'slurp2', 'chrna5', 'apol3', 'asrgl1', 'serpinb9', 'rufy1', 'sbf1', 'htr2b', 'znf780b', 'prtg', 'mettl26', 'got2', 'hapln3', 'rbms3', 'cebpd', 'lpgat1', 'hes2', 'pxt1', 'fat2', 'asb15', 'med28', 'mef2a', 'krtap19-2', 'klhl1', 'tesmin', 'egln2', 'asb13', 'cdc42se2', 'osr1', 'lhx6', 'spint2', 'sh3bp5', 'gbf1', 'orc4', 'iqcg', 'fcer2', 'parp3', 'gatad2b', 'tert', 'man1b1', 'eloc', 'pramef27', 'dcbld2', 'rab3d', 'otol1', 'nkain3', 'grid2', 'ddx24', 'fam183a', 'zfhx3', 'znf451', 'hoxa11', 'ifnl1', 'ssbp3', 'vbp1', 'odf3b', 'mmp8', 'rab34', 'hsd17b8', 'c20orf96', 'bckdha', 'smco4', 'tnfrsf6b', 'klf14', 'c12orf66', 'or51f1', 'gata6', 'grin2c', 'wdr59', 'gart', 'mphosph10', 'sufu', 'rnf103', 'adgrl4', 'plekho1', 'mpp3', 'prps1l1', 'c17orf113', 'pdia3', 'pyurf', 'nbas', 'osbpl11', 'or11l1', 'edn1', 'vwa5b1', 'ppp1r17', 'ca9', 'nccrp1', 'gtf2f2', 'slc25a18', 'hhipl1', 'acot1', 'ier5l', 'rtl10', 'hephl1', 'rhoxf1', 'xiap', 'rnf144b', 'rec8', 'cldn11', 'actrt3', 'oosp3', 'ca6', 'zbtb4', 'csgalnact1', 'atp9b', 'fabp7', 'meis1', 'dnajc22', 'amn', 'dnajc11', 'otp', 'acsl6', 'tyw1b', 'tmem98', 'krtap1-1', 'gdf15', 'znf460', 'dcps', 'polk', 'pold3', 'tmem231', 'c15orf61', 'dzip1l', 'cep192', 'atp5f1a', 'srl', 'or5ap2', 'slc7a13', 'taldo1', 'plppr3', 'sphk1', 'morc1', 'htr6', 'bmp5', 'mark3', 'rnf139', 'arhgap20', 'yy1', 'tchh', 'sstr3', 'fbxl15', 'strip2', 'sin3a', 'clec17a', 'or6c74', 'cbx7', 'slc51a', 'spopl', 'pdzd7', 'spag8', 'cyfip1', 'ccdc93', 'hsp90ab1', 'tsga10', 'c3orf85', 'lipj', 'znf768', 'or14i1', 'ddi2', 'itgav', 'znf831', 'uvssa', 'lhfpl6', 'ccdc6', 'ghrh', 'apoc1', 'fez1', 'dcaf4l2', 'smim32', 'tex37', 'lypd8', 'spsb4', 'clnk', 'septin6', 'stx1b', 'zbed2', 'or5v1', 'ern2', 'hnrnpul1', 'spry4', 'plet1', 'apex1', 'lipi', 'sec14l3', 'tcf19', 'steap1b', 'ccdc160', 'rnf207', 'vcl', 'daam1', 'adig', 'tnni1', 'c1orf68', 'il5', 'tmem52', 'cdk6', 'abl1', 'thoc7', 'c9orf24', 'ca5a', 'rcc2', 'gas8', 'map3k8', 'or1b1', 'neil3', 'tmem145', 'c8orf37', 'rab4a', 'pcdhga3', 'idi2', 'mrfap1', 'serpine2', 'coil', 'rasl10a', 'gldc', 'cry2', 'cacng8', 'eif5a2', 'plekha2', 'bcl2l13', 'tmem167b', 'cdhr4', 'dctn6', 'srm', 'bcas2', 'lacc1', 'fgfr3', 'cdh11', 'suz12', 'rbp7', 'izumo2', 'trpc5', 'havcr1', 'dcaf10', 'map7d1', 'pdia4', 'tesk2', 'kif2c', 'btg2', 'gldn', 'il12a', 'olr1', 'ddx4', 'hspa6', 'lrsam1', 'taar8', 'fa2h', 'myo1a', 'rbpjl', 'tmem168', 'rgma', 'ms4a1', 'slfn11', 'samd9', 'fktn', 'fasn', 'mfng', 'sfxn4', 'oxgr1', 'dcaf8', 'znf92', 'pold1', 'st7l', 'nipal1', 'gfpt2', 'znf736', 'trpc3', 'thap2', 'tsc1', 'elmod3', 'ints4', 'scnn1b', 'sowahd', 'mcm6', 'acyp2', 'dcp1b', 'nipa2', 'tmed9', 'uso1', 'anxa7', 'clk3', 'mcm7', 'fcrl1', 'tfip11', 'exd2', 'slc26a11', 'p2ry14', 'adcyap1r1', 'nkx6-2', 'epo', 'tm6sf2', 'sult4a1', 'adgrf5', 'spop', 'ikzf5', 'tcerg1l', 'tec', 'fhit', 'daxx', 'sybu', 'thrap3', 'tanc1', 'tyw1', 'pou3f3', 'six4', 'trabd2b', 'atp2a1', 'lztr1', 'cenpl', 'kpna5', 'cdk2', 'bend6', 'fpr1', 'med12l', 'camkv', 'vegfa', 'lats1', 'kctd5', 'fcho1', 'ahsg', 'psme2', 'apoc2', 'nup210', 'fgfbp3', 'tinf2', 'tab2', 'crlf2', 'impg1', 'cep85', 'pkn2', 'eid3', 'poglut1', 'ildr1', 'pcgf6', 'lrit3', 'rogdi', 'bend5', 'ccdc138', 'sycp2', 'klhl4', 'inafm1', 'ankfy1', 'tfpi', 'pcdh7', 'phactr2', 'prh2', 'trim27', 'mesd', 'vhl', 'plekha4', 'or4d5', 'il9r', 'trpc7', 'nectin3', 'ndst3', 'msi2', 'efcab7', 'tmem132e', 'map3k21', 'slc51b', 'ccdc77', 'med6', 'c6orf15', 'acsm6', 'usp32', 'pip5kl1', 'capn12', 'znf541', 'fam131b', 'tpte', 'vps51', 'polr1b', 'fign', 'rgs14', 'col28a1', 'rsad2', 'luc7l', 'pipox', 'sema6c', 'ddah2', 'cdh20', 'prmt6', 'ccdc82', 'tex30', 'pheta1', 'ss18l2', 'ltc4s', 'slc25a34', 'mt1a', 'srarp', 'ldlrad1', 'znf660', 'lnpep', 'arhgap24', 'gfra2', 'ttf2', 'mat1a', 'znf781', 'angptl7', 'cldn4', 'kif14', 'eif5', 'fam90a1', 'zfp36l1', 'edc3', 'tbc1d10b', 'znf284', 'mlxipl', 'gna15', 'fbxo21', 'ldlrap1', 'pcnx3', 'serbp1', 'bbip1', 'tra2b', 'rnase3', 'spata24', 'gmps', 'ngf', 'nrgn', 'slc2a8', 'mtch1', 'ca10', 'hnrnpa2b1', 'zc3h10', 'itsn1', 'lypd4', 'etv3', 'faap20', 'pnpla2', 'hrc', 'phrf1', 'olfm2', 'map3k11', 'efcab10', 'klk3', 'or2h2', 'cse1l', 'tbc1d23', 'sfxn5', 'lsm8', 'ltb', 'clu', 'klhdc1', 'dnase1', 'wnt2', 'rxra', 'card6', 'or2g2', 'abhd16b', 'tox', 'spock1', 'slc29a2', 'il1b', 'aagab', 'usp17l2', 'zfyve1', 'xrcc3', 'rab20', 'psg9', 'syt5', 'hdhd5', 'mmp21', 'noxred1', 'mrtfa', 'fam83g', 'nudt3', 'septin2', 'hoxc11', 'ndufaf1', 'igsf9b', 'larp1b', 'fzd7', 'pgr', 'chga', 'polr2b', 'rp9', 'uba6', 'yjefn3', 'pcdha1', 'slc15a3', 'f2rl3', 'zdhhc9', 'pclo', 'tmprss3', 'mmp16', 'lsm7', 'tatdn2', 'mfsd1', 'gnb5', 'mfap4', 'znf8', 'evx1', 'dync2h1', 'pias4', 'id1', 'znf473', 'u2af2', 'rgs21', 'gclc', 'smarcd1', 'shcbp1l', 'ccdc141', 'zar1l', 'rnf151', 'dmtf1', 'acan', 'tmem210', 'tom1', 'ssx2ip', 'bicral', 'gspt2', 'dgkh', 'atp8a2', 'clybl', 'prss58', 'neu3', 'spanxd', 'skiv2l', 'tsku', 'zmynd10', 'enpp3', 'pdzd8', 'agbl5', 'ccdc185', 'kcp', 'dscam', 'calml6', 'setd6', 'khdrbs3', 'tulp4', 'eny2', 'dgki', 'znf23', 'stmp1', 'fam222a', 'or51c1p', 'tmtc3', 'foxe1', 'armc6', 'ntsr1', 'tssk2', 'ms4a4a', 'ccdc126', 'ints13', 'them6', 'rbx1', 'slc18b1', 'ireb2', 'map3k3', 'akap17a', 'pttg2', 'smg9', 'acat1', 'sh3bp4', 'creg1', 'tmem135', 'phlpp1', 'ddtl', 'rfc1', 'frmpd1', 'cd68', 'atxn3l', 'dennd6a', 'or4c15', 'stil', 'akr1b1', 'lcmt1', 'slc18a2', 'zc2hc1c', 'tmc7', 'rnf135', 'arl6ip4', 'defb127', 'hecw2', 'vti1a', 'ca3', 'tonsl', 'sh3kbp1', 'or2m4', 'dtnb', 'carhsp1', 'il3', 'ncapg', 'c21orf58', 'c1qtnf4', 'mdn1', 'mep1a', 'arnt', 'zscan25', 'vps28', 'troap', 'dclre1c', 'cfap47', 'nop53', 'crhr2', 'c19orf18', 'baalc', 'plcb4', 'atp1b3', 'net1', 'elf5', 'tcp11l1', 'arf3', 'znf568', 'ciz1', 'slc35e1', 'ca11', 'gnai3', 'arl8b', 'trim2', 'frg1', 'lrrtm2', 'or4d2', 'cldn22', 'slco3a1', 'dcun1d2', 'rab15', 'eif4a3', 'kctd15', 'zc2hc1a', 'spata5l1', 'fpr3', 'lefty1', 'uba3', 'trim59', 'tas2r40', 'c9orf135', 'tlk2', 'znf345', 'pabpc3', 'cd300lg', 'osbpl10', 'tspan13', 'lipf', 'dedd2', 'krtap13-4', 'selenot', 'rbm5', 'tmem121b', 'srsf8', 'irx4', 'tef', 'itga2', 'grem1', 'tfec', 'bmp6', 'sox10', 'adcy4', 'slc25a28', 'pacrg', 'helz', 'majin', 'lrrc74b', 'pbrm1', 'tmx3', 'bcor', 'zdhhc20', 'prim1', 'spata31a1', 'brinp1', 'pex11a', 'znf708', 'znf292', 'cpn1', 'lrch2', 'adora2b', 'pym1', 'ccr4', 'bag1', 'tyro3', 'ackr2', 'oxnad1', 'mfsd6', 'hadhb', 'znf354c', 'akap8', 'qpctl', 'egr4', 'romo1', 'fndc4', 'tas2r9', 'arl6ip6', 'zgrf1', 'terf1', 'bspry', 'abhd12b', 'alox12b', 'znf341', 'znf710', 'adgra3', 'srms', 'cutc', 'arsa', 'kif4b', 'cyp2c9', 'vps13b', 'ptgr2', 'csk', 'tmem9b', 'polg2', 'coq5', 'col18a1', 'n4bp2', 'tespa1', 'lin54', 'rab30', 'mprip', 'ccm2l', 'nlrp2b', 'ankrd26', 'ube2f', 'ascl5', 'nkx1-1', 'eif2b3', 'kiaa1614', 'kif19', 'snapc3', 'clec19a', 'fbxo33', 'ocrl', 'ap1m2', 'znf41', 'hnrnpc', 'arhgap11a', 'magea4', 'nrg4', 'gpr143', 'epb41l1', 'dnah17', 'bcl11b', 'fam120a', 'lrpap1', 'kifc2', 'mid1ip1', 'cenpvl3', 'mindy4b', 'bpifb3', 'bard1', 'c19orf25', 'dnph1', 'or10a2', 'cdc25b', 'emc1', 'larp1', 'rgs13', 'slc3a1', 'il17b', 'gvqw3', 'tsen15', 'tex9', 'acta1', 'smco2', 'cd160', 'pramef14', 'msrb3', 'comt', 'papolb', 'vapa', 'acot9', 'e2f1', 'reg4', 'mau2', 'primpol', 'nlrp11', 'cyp20a1', 'cfap300', 'gpr25', 'ppp1r14a', 'tbl1xr1', 'ppib', 'slc22a13', 'trim67', 'znf30', 'bcas4', 'or9g4', 'bpifb2', 'susd1', 'synm', 'txnl1', 'mmaa', 'habp2', 'efcc1', 'ccn5', 'bcat1', 'or12d3', 'cdrt1', 'pfkfb4', 'ehf', 'nlgn1', 'kdm4b', 'or4d9', 'tex43', 'arntl', 'dennd6b', 'tmem40', 'tmem249', 'creld2', 'cxcl16', 'pcdhb10', 'mymx', 'znf598', 'slamf7', 'adgrg4', 'nfasc', 'nifk', 'jun', 'plac8', 'mpzl1', 'nmi', 'thsd8', 'bcl2l12', 'krtap6-1', 'kifc3', 'ugp2', 'samd5', 'timeless', 'b2m', 'prdm6', 'fam172a', 'hs3st5', 'gpc2', 'zyg11a', 'a3galt2', 'cd44', 'jph2', 'impg2', 'tpr', 'madd', 'puf60', 'dmrt1', 'prac2', 'glmp', 'psmb10', 'dnaaf5', 'rbks', 'ptpn23', 'kcnk1', 'terf2ip', 'pum3', 'itgb4', 'sts', 'smim21', 'ddx49', 'blacat1', 'sestd1', 'poc1a', 'rnf32', 'dab2ip', 'fgg', 'capza2', 'rorc', 'pnma6a', 'ccl20', 'krt10', 'fnip2', 'frem3', 'l2hgdh', 'tmem243', 'cda', 'pgap1', 'cox6a1', 'nfatc4', 'plb1', 'kiaa1755', 'ackr4', 'tpm4', 'flacc1', 'lrch4', 'onecut2', 'btn1a1', 'magec1', 'dhrs1', 'yeats2', 'ccnq', 'aspn', 'mgat5', 'sin3b', 'kcnv1', 'ankrd45', 'fgf9', 'polq', 'pyhin1', 'gbp2', 'c9orf57', 'sec31a', 'tmem275', 'impdh2', 'peli2', 'mlxip', 'ppp1r3c', 'xdh', 'otud1', 'sp1', 'slc22a8', 'anapc10', 'srpk2', 'cpxm1', 'tmem159', 'gpr87', 'rufy2', 'iqsec2', 'kiaa0408', 'vps50', 'gpatch8', 'glis1', 'lce1d', 'cd38', 'prb4', 'eif3a', 'tmprss13', 'actl7b', 'xkr3', 'olfml3', 'tap1', 'pdgfd', 'krt36', 'timm50', 'ncapg2', 'cspg4', 'mpc2', 'il11', 'epha3', 'arg2', 'ube2e3', 'gabrg1', 'mtx3', 'kiaa0040', 'wrnip1', 'nxf1', 'tfap4', 'tenm3', 'mknk2', 'ceacam7', 'rtca', 'plcg1', 'znf730', 'ccdc9', 'tlr5', 'sod2', 'dchs1', 'znf764', 'cd101', 'chdh', 'cenpv', 'fam210a', 'snx14', 'tex14', 'tmem59', 'mtmr14', 'usp42', 'tab3', 'best1', 'adam11', 'mmp12', 'pip4k2b', 'pnma8a', 'dennd2a', 'ccne1', 'erich6b', 'guca2a', 'arpc4', 'cap1', 'tmem59l', 'shld1', 'nampt', 'zbtb32', 'akr1b15', 'traf7', 'tubb8', 'marveld3', 'ramp3', 'tbpl1', 'mtfr1', 'sfmbt2', 'tigd3', 'cfap161', 'isoc1', 'cope', 'doc2b', 'lamtor5', 'abca3', 'magel2', 'eml4', 'phip', 'cd164l2', 'nkd2', 'asic4', 'tpmt', 'tmem170a', 'clic6', 'c8orf34', 'stn1', 'gh2', 'crkl', 'gyg1', 'galnt8', 'phlda1', 'wnt1', 'ucn', 'wdr87', 'mtmr4', 'chsy3', 'eipr1', 'gja1', 'zdhhc2', 'ints5', 'epha10', 'rabep2', 'pnliprp1', 'pgap3', 'itga3', 'plaa', 'tmem254', 'gata1', 'tspyl2', 'edn2', 'gls2', 'or2a5', 'c12orf73', 'atg4d', 'afm', 'prss12', 'kdm6a', 'c5orf24', 'bend7', 'or4a5', 'slc7a4', 'adh4', 'wdr17', 'tsfm', 'umps', 'gramd2b', 'utp6', 'fam110c', 'npas1', 'fam169a', 'gapt', 'lysmd3', 'sh2d6', 'klhl17', 'mapkapk3', 'pom121l12', 'med9', 'krtap22-1', 'ell2', 'ppp4c', 'znf230', 'smtnl1', 'grap2', 'exoc1l', 'sec61g', 'ifne', 'erlin1', 'cyp17a1', 'sntg1', 'rom1', 'ttc33', 'mindy4', 'slc10a2', 'tbc1d2b', 'cog6', 'grm3', 'mfsd2a', 'hdac1', 'matn3', 'fgfrl1', 'ing2', 'ctr9', 'mmp26', 'gemin7', 'c6orf132', 'supt3h', 'hebp2', 'galntl5', 'phldb1', 'mlph', 'atp1a4', 'or4c6', 'pip4p2', 'dcstamp', 'klhl32', 'krr1', 'pitx2', 'mageb17', 'naa80', 'il20ra', 'itprid1', 'lipt1', 'slc44a5', 'calcr', 'wdfy4', 'clock', 'fam107a', 'cers3', 'fam104b', 'polrmt', 'tp73', 'hoxc9', 'pacsin2', 'ltbp2', 'pwwp3a', 'or5d18', 'ddit4', 'psmb9', 'pfkp', 'dennd5a', 'htr3a', 'actr1b', 'dipk1a', 'igsf6', 'slc25a17', 'slc25a15', 'epgn', 'pawr', 'mpeg1', 'zbp1', 'dera', 'entpd8', 'cwh43', 'sp7', 'mettl1', 'znf670', 'sult1c2', 'iqcb1', 'th', 'umod', 'klhl15', 'e2f6', 'stx10', 'rinl', 'pjvk', 'sntg2', 'mfn1', 'cltc', 'mcrip2', 'or5a2', 'lman1l', 'cnih1', 'p2ry10', 'smad7', 'dlgap2', 'heph', 'tyw5', 'tmub2', 'cd226', 'lgals4', 'smim20', 'smc4', 'ift20', 'ghrl', 'fbxl13', 'tut4', 'per3', 'znf784', 'c14orf28', 'pcdhga6', 'rrp12', 'ninl', 'wls', 'kcne2', 'alas2', 'prss23', 'fuca1', 'kcnh7', 'sacm1l', 'glt8d1', 'ptchd4', 'cyth4', 'pygo1', 'cdk11b', 'abhd16a', 'ptprn', 'gimap2', 'eif4g3', 'btg1', 'prkd1', 'uchl5', 'lpin1', 'c9orf153', 'tfb2m', 'agxt2', 'hao2', 'frrs1l', 'cggbp1', 'ncr3lg1', 'zfp91', 'p4ha2', 'pate3', 'cenpj', 'kcnk7', 'rnf40', 'kcnn3', 'fbln2', 'copz2', 'myh10', 'kbtbd7', 'castor1', 'fezf2', 'ssx5', 'insyn2a', 'hmces', 'rpgrip1', 'ssh1', 'cd40', 'ptpn3', 'psma8', 's100a5', 'por', 'chat', 'mrgprx3', 'rhot1', 'retreg2', 'kazn', 'ndst2', 'lysmd4', 'tmem215', 'myo16', 'ppm1h', 'snx22', 'lgals2', 'aldh1l2', 'ambn', 'rbp4', 'fam204a', 'elf2', 'sf3b2', 'gsg1l2', 'nek1', 'pigr', 'camsap3', 'sox14', 'gtpbp6', 'arrdc1', 'lamp5', 'pvalef', 'tepsin', 'dgkb', 'anapc11', 'map3k20', 'tns1', 'mmp3', 'tmsb4x', 'surf6', 'otulin', 'klhdc9', 'col2a1', 'adamts4', 'tmem160', 'gpr161', 'pafah1b1', 'mt-nd1', 'taok1', 'acsm5', 'pld2', 'sumf1', 'nell1', 'slf1', 'fcrla', 'wipf3', 'cass4', 'rprd1b', 'slc39a7', 'slc35g5', 'camk2n1', 'ccr2', 'or4f6', 'gnb4', 'ptpn13', 'pcdhb8', 'znf704', 'spc24', 'lig3', 'pifo', 'slc1a3', 'lcn12', 'lrrc58', 'alcam', 'ppan', 'or52e5', 'spata22', 'fam133b', 'spata1', 'gtpbp8', 'znf679', 'scygr4', 'lfng', 'rfc2', 'tmem178b', 'nrip3', 'fem1b', 'fam81a', 'septin12', 'c22orf42', 'itgb7', 'irx2', 'snx33', 'ccdc85c', 'asic5', 'sall3', 'sra1', 'spink4', 'eml1', 'ubiad1', 'spint1', 'bhlha9', 'mpo', 'brms1', 'gng2', 'ddx53', 'kdm1a', 'tdrd3', 'lhfpl2', 'plcb3', 'wdr41', 'nlrp12', 'mroh2b', 'dgkk', 'cog5', 'or6j1', 'maoa', 'ajm1', 'als2', 'adam32', 'ccdc97', 'cacnb4', 'cks1b', 'tbc1d21', 'fubp3', 'dars2', 'prkce', 'lck', 'tex49', 'rad18', 'dut', 'tcf7l2', 'srrm2', 'erfl', 'paqr4', 'pcdh1', 'tfdp1', 'cdk1', 'ezr', 'arnt2', 'hspbp1', 'atp5po', 'iqank1', 'c7orf26', 'or52d1', 'larp6', 'lrit1', 'clca2', 'kcnh8', 'pitpnm1', 'ewsr1', 'ckmt2', 'prss48', 'rgs7bp', 'crygn', 'gsx2', 'crispld1', 'aifm2', 'bcl7c', 'uts2', 'lrfn3', 'aarsd1', 'spns2', 'tprg1', 'antxr1', 'sgsh', 'gmfb', 'cpa4', 'tmem8b', 'gpr27', 'glb1l2', 'bcs1l', 'glipr1l1', 'brpf1', 'trim3', 'pdzk1ip1', 'slc9c2', 'phgr1', 'hfe', 'eif4ebp3', 'ggtlc1', 'ddx17', 'acad11', 'filip1', 'spink14', 'use1', 'caps2', 'msh6', 'wdr46', 'rev3l', 'znf471', 'znf135', 'tgif2ly', 'ankrd10', 'cdx2', 'rlf', 'isoc2', 'pm20d2', 'pom121c', 'syn1', 'znf114', 'ct55', 'tubb2b', 'gmeb1', 'ago4', 'gfy', 'elmo3', 'actl6a', 'arfgef1', 'pou6f1', 'plekhg1', 'colec11', 'srsf4', 'mical2', 'anp32a', 'daw1', 'slc17a1', 'ltv1', 'mthfd2l', 'bcl2l2', 'dctn5', 'hip1', 'stpg1', 'ubr4', 'tmem119', 'fndc3a', 'mtss2', 'manbal', 'wdr35', 'kin', 'or4x2', 'krtap8-1', 'vsnl1', 'fkbpl', 'frmpd4', 'lamb2', 'rdh13', 'ubxn11', 'samd8', 'ptger3', 'mfap5', 'catspere', 'myo5c', 'gatad2a', 'ceacam19', 'foxb2', 'epha1', 'c3orf80', 'ppial4g', 'stambpl1', 'vcpkmt', 'tm4sf20', 'pate4', 'ifna6', 'klhl18', 'sh2d3a', 'coro2b', 'homer3', 'bpifc', 'aspa', 'pcdhga9', 'pigb', 'hoxb8', 'kdm5b', 'cxcl11', 'igdcc4', 'ticam2', 'pde5a', 'nop14', 'depp1', 'msmb', 'gnb2', 'fen1', 'scamp1', 'mgat4a', 'krt82', 'pdpn', 'sucnr1', 'mapk1ip1l', 'top3a', 'scd', 'guca1b', 'steap2', 'usp17l3', 'sh3gl2', 'plekhb1', 'ccl18', 'tmx4', 'myl9', 'lrfn1', 'alox15', 'or10c1', 'cox10', 'tmem74b', 'gp5', 'rnase10', 'zhx3', 'frmd4b', 'man2b2', 'katnb1', 'irak1bp1', 'tbrg1', 'fbxo32', 'gpr37', 'brd3os', 'atxn3', 'thra', 'slc12a3', 'ergic1', 'kif18b', 'pcdhga10', 'srp54', 'hrnr', 'pecam1', 'relb', 'eif1ax', 'dner', 'ttc31', 'mdm4', 'spock3', 'prrt1b', 'secisbp2l', 'has1', 'sumf2', 'znf649', 'lpar1', 'nap1l3', 'ric8b', 'ftcdnl1', 'wrap53', 'ndufaf5', 'cacul1', 'mctp2', 'or13c9', 'smg7', 'or51t1', 'brf1', 'pou3f2', 'pigw', 'tvp23a', 'smim12', 'taf11l13', 'dcaf16', 'nanos1', 'cyren', 'smarcc2', 'or8d2', 'hcfc1r1', 'trnau1ap', 'lcor', 'myh11', 'herpud1', 'ap1g2', 'oaz1', 'ube2n', 'rasa2', 'dgat2', 'trim51', 'pnma8b', 'fut6', 'nmur2', 'srek1ip1', 'bbs9', 'usp30', 'gins3', 'bloc1s3', 'gpc6', 'meioc', 'chic2', 'rnf212b', 'cd58', 'stk17a', 'fndc11', 'or52r1', 'ccdc17', 'catip', 'adamts19', 'cabp7', 'rrp8', 'wfs1', 'mob3c', 'zbtb34', 'gpr26', 'trip4', 'mycbp', 'pcsk5', 'arl13a', 'eif4h', 'myl10', 'nkpd1', 'them5', 'foxc2', 'zic5', 'jtb', 'bfsp2', 'smim4', 'chrnb4', 'maged2', 'marf1', 'aunip', 'gabpb2', 'tf', 'bmf', 'tcf12', 'pdcd11', 'ccnk', 'tmem115', 'cst9l', 'stum', 'dstyk', 'or5m9', 'arhgap31', 'mcf2l', 'or10r2', 'or6c6', 'abcb6', 'gnl3l', 'nsmce3', 'znf628', 'zscan2', 'tjap1', 'dnah12', 'cdh17', 'cd209', 'lilrb2', 'alkbh2', 'cpox', 'plekhh1', 'mageb3', 'gchfr', 'sms', 'coch', 'gzmm', 'fgf13', 'stmn2', 'znf880', 'odf2', 'nip7', 'trim17', 'syce1l', 'lrrc61', 'gpr63', 'mta1', 'rasd2', 'slc23a2', 'zbtb21', 'rab24', 'hes6', 'bsdc1', 'xcl1', 'phf11', 'zbtb5', 'mgam', 'cyp7b1', 'napa', 'cyp21a2', 'znf629', 'ndufs3', 'aamp', 'araf', 'gprc5c', 'phf20', 'pdia6', 'parp12', 'ttc14', 'rpa1', 'grm8', 'cdip1', 'gnb1l', 'snx9', 'sftpa1', 'cox7a2', 'usp39', 'abcc5', 'rsf1', 'ahsp', 'ell', 'sbf2', 'naa35', 'serpinb6', 'ercc3', 'pign', 'cd300lf', 'slc25a41', 'slc29a4', 'trmt1', 'lmbrd2', 'bcar3', 'barhl2', 'prl', 'cep112', 'cyp4f11', 'pigo', 'znf273', 'chmp1a', 'otop2', 'nkx2-2', 'actr5', 'trak1', 'srpx2', 'cblb', 'grhl3', 'gnaq', 'ubxn10', 'slc22a16', 'ifit2', 'mgat2', 'rdm1', 'lypd5', 'pcdhb3', 'atg14', 'arhgef26', 'krtap20-4', 'klhl33', 'zfand3', 'zmynd12', 'cxcr2', 'insrr', 'gps1', 'muc16', 'thap9', 'skida1', 'slx4', 'ppp1r32', 'fryl', 'ginm1', 'herc3', 'prss21', 'ppp1r21', 'spats1', 'unc119', 'ttc21b', 'ltbp4', 'errfi1', 'ssr2', 'fbxo25', 'ifna21', 'clec7a', 'exo5', 'rab39b', 'zscan18', 's100a12', 'ffar4', 'tnfrsf19', 'nsmce4a', 'nsf', 'xpc', 'cacng4', 'vstm4', 'asic3', 'or10d3', 'pcp4l1', 'csf2rb', 'frmd1', 'or13c4', 'scn1b', 'znf454', 'gcm2', 'wdr11', 'slc25a30', 'slc17a4', 'ppef2', 'slc20a2', 'pias2', 'kptn', 'cadps2', 'atp2b1', 'chst7', 'tmem106a', 'siglec12', 'msr1', 'atp6ap1', 'lipn', 'tada3', 'dbn1', 'jagn1', 'col9a1', 'fcgr2a', 'ptrh2', 'hcn1', 'ptx4', 'cbln4', 'il10ra', 'znf624', 'krtap7-1', 'igsf23', 'or4d11', 'ccm2', 'trim69', 'narf', 'zdhhc6', 'prmt7', 'cnot7', 'pde3b', 'hnf4g', 'chtop', 'zdhhc13', 'b4galt5', 'b3galnt1', 'tada2b', 'ky', 'ralgps1', 'c17orf50', 'nhlrc4', 'st8sia3', 'rpe65', 'abca6', 'kbtbd6', 'nsa2', 'hsd17b14', 'or14j1', 'n4bp2l2', 'arhgef7', 'rnf186', 'fiz1', 'bbs10', 'defa6', 'plod3', 'banp', 'il31ra', 'alkal1', 'slc6a11', 'ccdc91', 'gadd45b', 'rtl6', 'ankrd46', 'nln', 'idh3b', 'tac4', 'ggh', 'otud3', 'pgbd1', 'pole3', 'abca10', 'mucl3', 'dlgap3', 'slc9a3r1', 'tecr', 'or5t3', 'wdr12', 'fndc10', 'tsga13', 'krt72', 'mylk4', 'or13c5', 'lgals3', 'syde2', 'gnrh2', 'ppil4', 'c22orf15', 'ide', 'fam71f1', 'comtd1', 'thyn1', 'ccdc87', 'syngap1', 'mphosph6', 'plat', 'gps2', 'inmt', 'trim8', 'adgrb2', 'msra', 'barx1', 'sall2', 'paox', 'tub', 'defb123', 'mnda', 'prnd', 'prdm16', 'mlh1', 'lsm11', 'znf785', 'cisd2', 'nfam1', 'thoc6', 'flt3', 'spc25', 'hlcs', 'tp53tg5', 'reep6', 'tmem167a', 'rnf111', 'smndc1', 'slc7a9', 'tspyl6', 'evc', 'mcidas', 'stk11', 'xylb', 'baat', 'stmnd1', 'ccng1', 'eef2', 'nasp', 'cdkl1', 'cand1', 'stra8', 'kcnc1', 'glis2', 'syngr3', 'phykpl', 'pkd1l1', 'cbfa2t2', 'sh2d7', 'myeov', 'xage2', 'opalin', 'loxl4', 'chrna9', 'pcdhga1', 'pskh2', 'rdh16', 'mtss1', 'phf2', 'lca5l', 'cox11', 'zc3h13', 'supt6h', 'gpkow', 'klhl3', 'nutm2a', 'rptn', 'nkain2', 'dcun1d5', 'pak4', 'trim15', 'frem1', 'nr4a3', 'adgrf1', 'mfap2', 'lrrc24', 'tcp10l', 'prr36', 'adam20', 'dffa', 'pcdhb7', 'cnn3', 'lama4', 'erich1', 'abcc2', 'aff1', 'c2orf68', 'batf', 'clcn2', 'poglut3', 'gabrb1', 'eif1ay', 'magi3', 'reps2', 'gata3', 'ttc30a', 'gpr84', 'map4', 'dnm1l', 'rsl1d1', 'ppfia3', 'ankrd13c', 'dlx1', 'col12a1', 'drc1', 'lgals13', 'best3', 'krtap4-2', 'rasa4b', 'ptrh1', 'dhrs7b', 'cenpu', 'stambp', 'fmr1', 'shisal1', 'c1orf131', 'wrap73', 'casp4', 'trhde', 'acap2', 'p3r3urf', 'ttc21a', 'stard13', 'znf57', 'ankrd18a', 'or56b1', 'alkbh7', 'trpm4', 'map7d3', 'fam216a', 'as3mt', 'ccdc89', 'wdr45b', 'itpkb', 'crmp1', 'pde4d', 'smc2', 'cdkn2aipnl', 'ctsk', 'ap5s1', 'tmem214', 'muc3a', 'enkur', 'rnf214', 'strbp', 'cd2bp2', 'c17orf58', 'lrrc1', 'sharpin', 'slc19a2', 'znf311', 'tent5a', 'b3gat2', 'dtd1', 'qtrt2', 'papln', 'il10', 'ankrd35', 'sp6', 'st6galnac6', 'glra2', 'igf2bp3', 'bhlhe22', 'syt6', 'galr1', 'qdpr', 'slc4a5', 'krt4', 'znf518b', 'cbll1', 'or5m10', 'ciao1', 'or11g2', 'tigd4', 'pard6b', 'gpc4', 'atp5pb', 'p2ry11', 'paxbp1', 'nup42', 'pram1', 'rnf31', 'fxr1', 'wdr53', 'helt', 'hsph1', 'rac1', 'alkbh4', 'gem', 'clec2d', 'cstf3', 'lama3', 'azin1', 'cox6b1', 'ccl2', 'txnl4a', 'yif1b', 'sf3b3', 'derl3', 'strada', 'timm8a', 'pnpla1', 'otx1', 'btbd6', 'bpifb4', 'slc35e3', 'mylpf', 'krt33a', 'rab7b', 'tlcd4', 'amdhd2', 'kif18a', 'rb1', 'agtpbp1', 'fhl2', 'krt15', 'exoc6b', 'spsb2', 'brpf3', 'mpp2', 'tdp1', 'ssna1', 'picalm', 'or8j1', 'fam71e1', 'mcrs1', 'pcbp4', 'cox6b2', 'f2rl1', 'ankrd24', 'lrrc4b', 'gpihbp1', 'dcaf12l1', 'tubg2', 'phkg2', 'tmem117', 'znf274', 'nme8', 'c16orf74', 'zdbf2', 'enho', 'ubl3', 'pitpnm2', 'uba1', 'npr2', 'gpld1', 'gon4l', 'steap1', 'col6a6', 'mfsd10', 'smim36', 'csmd2', 'krt79', 'phospho1', 'rax2', 'fkbp9', 'fam199x', 'fkbp1c', 'susd4', 'rnf185', 'clec18c', 'fbxl3', 'c16orf78', 'chpt1', 'cd99l2', 'nobox', 'rpp25l', 'mus81', 'tbl1y', 'hyls1', 'tcf4', 'or1d2', 'znf805', 'ccl14', 'c1qtnf3', 'tmem132b', 'brcc3', 'rxrb', 'plekhg3', 's100a10', 'brinp3', 'spsb1', 'plg', 'pycr3', 'rasip1', 'farsb', 'gpd2', 'pydc1', 'cnpy3', 'pde6d', 'or2t34', 'plekhf2', 'dcst2', 'styx', 'znf2', 'nt5dc4', 'c3orf14', 'tra2a', 'smg1', 'znf330', 'tulp1', 'stab2', 'b3gntl1', 'klk2', 'haus3', 'bnipl', 'col4a6', 'anks6', 'b3galnt2', 'or5t2', 'smco3', 'eif2a', 'usp19', 'pglyrp3', 'vangl2', 'dzip3', 'zmym6', 'vdac1', 'traf3ip3', 'c8orf58', 'fkbp1b', 'zbtb20', 'rtbdn', 'tktl1', 'rabepk', 'alpk2', 'n4bp1', 'pik3cb', 'prpf4b', 'brwd3', 'or7a17', 'taf10', 'tnxb', 'gtf2h4', 'vps52', 'pcdh9', 'c1qtnf1', 'gga1', 'tgif2lx', 'alg11', 'sh3gl3', 'atp13a3', 'adi1', 'diaph2', 'carmil2', 'ifit3', 'rab37', 'lingo1', 'hnrnpm', 'zglp1', 'pbx3', 'rdh10', 'bod1l1', 'traf5', 'pcdha2', 'ap3d1', 'ddx10', 'cat', 'fibp', 'wtip', 'zc4h2', 'c12orf40', 'mreg', 'opn1sw', 'thsd7b', 'pik3ip1', 'ippk', 'tfam', 'nkx2-6', 'acsf3', 'hmmr', 'edem1', 'acy1', 'ccdc153', 'elp5', 'bbox1', 'pnkd', 'nomo1', 'or1i1', 'ndufaf4', 'unc119b', 'clcn6', 'eftud2', 'bcl3', 'or4n5', 'tmem123', 'edc4', 'arl6', 'spire1', 'best2', 'l1cam', 'tgfbr3', 'shox', 'trpm7', 'tmem198', 'lrrc25', 'pigk', 'hpn', 'tmem70', 'znf385d', 'cabp4', 'gdf10', 'aatf', 'rln3', 'cped1', 'nt5dc3', 'smug1', 'or6b1', 'srgn', 'c1ql1', 'lyrm4', 'mat2a', 'calu', 'fez2', 'kyat3', 'wt1', 'pgls', 'vax1', 'adam18', 'shisal2b', 'pum2', 'macf1', 'smim29', 'adcy9', 'cyp11b1', 'grwd1', 'pnrc2', 'lsm2', 'cdh3', 'tcl1b', 'cldn16', 'ccdc152', 'adad1', 'gaa', 'ptger1', 'iqcf2', 'mbd5', 'tlx3', 'spata48', 'snrnp200', 'rsbn1l', 'nell2', 'gnao1', 'icam4', 'atp2b3', 'pmpcb', 'nlrc3', 'c16orf87', 'rars2', 'ttll5', 'g0s2', 'kif6', 'znf570', 'pik3r4', 'zdhhc19', 'irs4', 'slc43a2', 'dusp2', 'pde8b', 'or8k1', 'ppp1cc', 'ttll11', 'ccr8', 'lrrc55', 'scamp5', 'adat1', 'zcchc17', 'desi2', 'il7r', 'tmsb10', 'krt20', 'rhot2', 'prss55', 'tmco3', 'pced1a', 'cebpa', 'rell1', 'abhd11', 'tada1', 'pdcd4', 'acd', 'kmt5a', 'seh1l', 'c19orf53', 'shoc2', 'cic', 'rbm38', 'gmfg', 'smap2', 'hcn3', 'c3orf38', 'fabp3', 'ep400', 'tnip3', 'rsu1', 'bag3', 'zxdc', 'nalcn', 'sppl2c', 'selenov', 'rnasel', 'shank1', 'elp4', 'klrg1', 'nrros', 'znf25', 'cfhr4', 'slamf6', 'aak1', 'pdzd3', 'znf567', 'cpo', 'b4galt6', 'eef1akmt3', 'ophn1', 'ikbkb', 'dennd10', 'tbx1', 'csf2', 'elp3', 'prpf38a', 'mettl27', 'nle1', 'mfsd8', 'nucks1', 'kcnk5', 'znf728', 'lbx2', 'rbfa', 'chrna6', 'ankrd42', 'znf638', 'penk', 'cfi', 'sycp3', 'samd7', 'gli3', 'pih1d1', 'resp18', 'nim1k', 'page1', 'elavl2', 'defb4a', 'rab28', 'cep78', 'fzd4', 'scfd1', 'nox5', 'ppp5c', 'cyp2u1', 'tmem68', 'kdm4c', 'atp1a2', 'b4galnt3', 'rnase7', 'dtx4', 'ssuh2', 'mx2', 'elavl4', 'luc7l2', 'mettl24', 'ntm', 'c9orf72', 'cdca7', 'pola2', 'coq8a', 'or5i1', 'morf4l1', 'prm2', 'wdr45', 'col4a5', 'cox5b', 'degs1', 'sp4', 'cilp2', 'mpv17l', 'prop1', 'myof', 'cyp7a1', 'kdm4a', 'snrpg', 'mblac2', 'nrf1', 'suv39h2', 'specc1', 'cntn5', 'trnp1', 'cdk7', 'casp10', 'cog1', 'spata3', 'ctnnbip1', 'vps37d', 'rtl3', 'pabpc4', 'grxcr2', 'cfap100', 'bcl2', 'ccndbp1', 'gata5', 'ube2q1', 'rrp7a', 'polr3a', 'scml4', 'dapk3', 'znf281', 'npsr1', 'fyb1', 'meltf', 'c8a', 'dhx16', 'dennd4a', 'plscr1', 'fcgr3a', 'iws1', 'tmem165', 'ubxn7', 'mitf', 'arih2', 'c11orf49', 'slc22a14', 'ndufa12', 'thegl', 'krtap4-12', 'megf11', 'st6galnac3', 'tecrl', 'moxd1', 'fam219a', 'kcnj5', 'ankhd1', 'cphxl', 'rhbdd3', 'ubxn2b', 'hmox2', 'ikzf3', 'hrg', 'pex3', 'pex5', 'znf16', 'tie1', 'jakmip2', 'fam76a', 'rad52', 'htt', 'msh4', 'kctd6', 'pla2g10', 'uba52', 'fosb', 'ccl16', 'jaml', 'sirpb1', 'kcnj11', 'vil1', 'sdc2', 'dsel', 'gsdme', 'ubl7', 'tnfrsf1a', 'or1m1', 'gorasp2', 'catsper3', 'psmg4', 'or52a5', 'napsa', 'idh3g', 'fgfbp2', 'bach2', 'dpy19l1', 'slc24a3', 'calhm5', 'tpd52l2', 'mrto4', 'foxp2', 'pla2g4f', 'vpreb1', 'chi3l2', 'samd4a', 'smim10', 'ccr6', 'gtpbp2', 'kbtbd11', 'mfsd6l', 'prph', 'pkdcc', 'recql4', 'hdhd3', 'tatdn1', 'idnk', 'ablim2', 'ubqln3', 'zw10', 'golga8b', 'lrrc14b', 'or3a3', 'asmt', 'drc7', 'ulbp1', 'capzb', 'treml2', 'aff2', 'b3galt4', 'aig1', 'f2r', 'jdp2', 'c1orf87', 'pkd1', 'zdhhc14', 'naaladl1', 'tspan14', 'pard6a', 'neurod2', 'lman1', 'muc5b', 'stk25', 'slc25a43', 'dcp2', 'tpsd1', 'oxtr', 'prr5l', 'timm9', 'iqcn', 'ccsap', 'phf10', 'rab1b', 'znf202', 'grhl1', 'slit2', 'or2l2', 'c3orf62', 'ube2l5', 'saal1', 'alkbh5', 'pdxp', 'higd1b', 'agr3', 'foxn3', 'pnma8c', 'adck5', 'purb', 'p2rx5', 'pik3ca', 'rttn', 'prss35', 'rtn4', 'dnajc28', 'atpsckmt', 'met', 'hirip3', 'scaf4', 'ptx3', 'c1orf158', 'scrt2', 'carf', 'tipin', 'ddx43', 'spin1', 'usp9y', 'epg5', 'slc4a7', 'hmx1', 'cfap97d1', 'dync1li2', 'cst7', 'cenpi', 'vps13d', 'coq10b', 'sdr42e1', 'sfxn2', 'nectin4', 'neurod1', 'manea', 'zbtb46', 'xrcc2', 'lgals9', 'pdcd6', 'zbtb3', 'znf429', 'abcf1', 'serinc5', 'mrs2', 'kctd17', 'tas1r3', 'fetub', 'selenon', 'il13ra2', 'ramac', 'slc12a9', 'csn2', 'znf80', 'fzd9', 'dctn3', 'herc1', 'apcdd1l', 'etf1', 'dntt', 'myf6', 'rpn1', 'dgke', 'ccdc200', 'ccdc81', 'clip2', 'fgl1', 'ttn', 'morn2', 'hdac5', 'sugt1', 'l1td1', 'dmrtc2', 'sash1', 'akr1c2', 'setd7', 'pou2f3', 'parp11', 'doc2a', 'btf3', 'ethe1', 'atp1b1', 'syvn1', 'hmgcs2', 'mtmr3', 'zfp92', 'chst5', 'tinagl1', 'rab3c', 'tsc22d3', 'cercam', 'ap3b2', 'lasp1', 'znf432', 'b4galt7', 'acta2', 'or2t2', 'mcmdc2', 'stk11ip', 'cfap126', 'rcsd1', 'tma7', 'il1rn', 'ndufa4l2', 'pygl', 'tom1l1', 'arid5b', 'slc22a31', 'lcp2', 'cdkn2aip', 'fam237b', 'ppp1r16a', 'zmat5', 'nt5c3b', 'fam209b', 'kmt2c', 'taf6', 'txnl4b', 'hsd3b2', 'necab2', 'arl11', 'rsph6a', 'atg16l2', 'spout1', 'znf696', 'ube2l3', 'bmp2', 'deptor', 'accsl', 'ptf1a', 'cadm1', 'ltn1', 'traf4', 'ccl26', 'plcxd3', 'krt28', 'ccdc146', 'lrrc72', 'lto1', 'c17orf75', 'adamts1', 'syt4', 'slc1a5', 'polr3h', 'chi3l1', 'chchd1', 'cd84', 'ndufab1', 'mitd1', 'lca5', 'ctsl', 'trex2', 'nlgn4x', 'cib2', 'rbbp9', 'ccn1', 'ttc7a', 's100a2', 'pcyox1l', 'spata31a6', 'coa7', 'eef1g', 'pnma2', 'golga7', 'rab11fip4', 'or2t12', 'sertad2', 'frat1', 'uncx', 'pou3f1', 'uvrag', 'mt-nd5', 'tmem156', 'tep1', 'ngfr', 'lgr5', 'hey1', 'trmt12', 'zbtb44', 'neurod4', 'tctn3', 'slc16a8', 'fndc9', 'akr1b10', 'arvcf', 'fam9b', 'c6orf47', 'wasl', 'ctsw', 'spata31d3', 'evi2a', 'pgs1', 'rbm45', 'nup85', 'tmem151b', 'enc1', 'rnf212', 'csnk2a2', 'arl14', 'rapgef6', 'clcn1', 'commd6', 'coro1b', 'fchsd2', 'ubr2', 'zfr2', 'msx2', 'cdc7', 'fam89b', 'nme4', 'prdx5', 'lrp6', 'sox30', 'emp3', 'tmem205', 'tbc1d10a', 'ppp1r1c', 'dhx34', 'sox9', 'fpgs', 'qser1', 'coro6', 'dusp8', 'znf580', 'twf1', 'adgre1', 'dok5', 'nudt5', 'gbx2', 'tpbgl', 'pgk1', 'cct4', 'or4f15', 'hydin', 'wwc1', 'krtap16-1', 'ube2r2', 'ppp1r9b', 'fgfr2', 'swsap1', 'spin3', 'ccdc28a', 'tmc3', 'kif1b', 'drgx', 'gid4', 'samsn1', 'sptbn5', 'mfsd4b', 'dlk1', 'slc39a11', 'serinc1', 'tmem212', 'enox2', 'dppa4', 'zdhhc21', 'sult2a1', 'pdha2', 'rora', 'cldn6', 'tsr3', 'eif1b', 'ephx1', 'c16orf92', 'shc2', 'tdrd7', 'clcf1', 'rfxank', 'b9d2', 'slc25a26', 'etdc', 'tm6sf1', 'znf518a', 'sh3glb2', 'mtcl1', 'ap3m2', 'c1orf35', 'ppm1m', 'minar1', 'ppp1r1b', 'mbd4', 'zcwpw2', 'mmd2', 'kansl3', 'sprr1b', 'myl5', 'ldoc1', 'tnc', 'erlec1', 'cd180', 'tomm20l', 'gnat2', 'ext1', 'tmem217', 'anapc7', 'or51b5', 'hus1', 'haghl', 'kif13a', 'mc4r', 'cd6', 'rfpl4b', 'pon2', 'ddx6', 'pop5', 'rnf11', 'irf2bpl', 'slc9a4', 'ush2a', 'tpsg1', 'micos13', 'wdr54', 'herc5', 'acp7', 'bbs7', 'ppm1j', 'nsmce2', 'stx7', 'capns2', 'igfl3', 'mydgf', 'brd8', 'prkar1b', 'colec10', 'prdx2', 'mansc4', 'dusp3', 'kcnma1', 'znf697', 'fhdc1', 'adam7', 'znf705g', 'vcx2', 'znf470', 'vwa3b', 'trappc4', 'gsr', 'lrrc3', 'otub1', 'pias3', 'sec11a', 'ogt', 'rab11a', 'mbip', 'zc3h15', 'mkx', 'ccdc83', 'adamts5', 'rnf227', 'slitrk1', 'neto1', 'abtb2', 'c2orf16', 'notch2', 'oaz2', 'fmc1', 'st6galnac1', 'znf830', 'arhgap18', 'abca13', 'rnase13', 'hmg20b', 'ddx42', 'prx', 'cars2', 'ctse', 'dnajc18', 'cnot3', 'pex13', 'slc37a1', 'pnma3', 'ankrd39', 'gata2', 'gtf3c6', 'or1n1', 'cttnbp2', 'srsf7', 'mboat7', 'zbtb39', 'oaf', 'hmbs', 'tssk3', 'taf8', 'or6c76', 'atp6v1c2', 'sytl3', 'panx2', 'pomp', 'foxd4l5', 'eef1akmt1', 'echdc3', 'gnptab', 'mns1', 'cdyl2', 'cog8', 'ranbp6', 'aqp8', 'gpr142', 'wdr24', 'ceacam4', 'rad54l', 'kcna5', 'galnt1', 'pmp22', 'carmil1', 'pax4', 'chac2', 'dld', 'mbd6', 'tmem203', 'bckdk', 'hcn4', 'hao1', 'rtel1', 'isg20', 'gemin4', 'atp6v0e2', 'svil', 'srd5a1', 'cyp3a43', 'tradd', 'c9orf40', 'brwd1', 'mbtd1', 'nodal', 'ercc4', 'supt20h', 'sv2a', 'btn2a2', 'gas7', 'phtf1', 'golga2', 'usp15', 'zscan4', 'pkd2l2', 'wee2', 'ret', 'orai3', 'arhgdig', 'f13b', 'aimp1', 'prpf18', 'kif3b', 'znf578', 'znf385a', 'ubl4a', 'kcng4', 'smim5', 'ltbr', 'znf181', 'cst9', 'rap2a', 'utp20', 'eef1akmt4', 'ndufb2', 'slc9a3r2', 'tbcc', 'loxl3', 'tmprss11e', 'setd1a', 'umodl1', 'utf1', 'grp', 'or4c12', 'padi2', 'angptl2', 'fip1l1', 'tmem107', 'aqp1', 'eif4g1', 'sv2b', 'ubald2', 'crlf1', 'mocs2', 'rev1', 'plekha1', 'syne4', 'rmnd5a', 'pzp', 'tax1bp3', 'slc47a1', 'krtap4-16', 'dsg4', 'procr', 'ccl11', 'decr1', 'kcnn4', 'lrrc37a3', 'paqr3', 'hoxc10', 'or4k13', 'znf223', 'ca1', 'smo', 'mafa', 'hdac8', 'nol11', 'slc41a3', 'smurf1', 'klf3', 'ly6k', 'dnajc14', 'cct6a', 'epyc', 'fgf17', 'atl2', 'atad2b', 'phox2b', 'lst1', 'ervv-1', 'agap1', 'ercc8', 'or2a4', 'myo18a', 'traf2', 'dclk3', 'pin1', 'phka2', 'capsl', 'ceacam5', 'gsk3b', 'mex3c', 'nrbp1', 'rtn4rl1', 'ndufb3', 'capn13', 'krt17', 'map3k15', 'fyttd1', 'mib1', 'armcx4', 'fkbp14', 'selplg', 'myef2', 'gprin3', 'dnajc27', 'snw1', 'or8s1', 'gja8', 'rapgef4', 'cct6b', 'clmp', 'ints7', 'klf15', 'toe1', 'etv1', 'peg3', 'leo1', 'bin3', 'muc19', 'rhbdl3', 'chmp1b', 'mfsd3', 'atp8a1', 'chst3', 'saraf', 'fam214b', 'pex16', 'wdr70', 'ttc1', 'adh6', 'lox', 'ruvbl2', 'ano8', 'mrm3', 'eif4a1', 'emsy', 'foxp4', 'il10rb', 'ufsp1', 'ccdc157', 'ebf2', 'kdr', 'npm2', 'scn3a', 'rab3ip', 'cylc1', 'l3mbtl3', 'pbx1', 'zranb1', 'nprl2', 'chst14', 'rasgrf1', 'mfge8', 'arhgap33', 'mc2r', 'wdr44', 'wapl', 'wnt8b', 'tmem126a', 'frat2', 'arhgef25', 'fam149b1', 'emc9', 'znf224', 'mesp2', 'rab4b', 'f11', 'phlda2', 'chd8', 'pcnx1', 'rangap1', 'ap1ar', 'tspan7', 'klhl13', 'pradc1', 'slk', 'trip10', 'gja3', 'ccl25', 'tnfrsf17', 'mycbp2', 'fer', 'tmem244', 'ppp6r2', 'kif22', 'il23a', 'polr1c', 'tex11', 'znf655', 'fdft1', 'kcnh1', 'rbfox3', 'rnf125', 'aif1', 'zfpm2', 'dohh', 'fbln1', 'ddx50', 'ajuba', 'osbpl9', 'efcab14', 'nkain4', 'fars2', 'nusap1', 'hbz', 'prkaa1', 'emp2', 'slc25a52', 'iffo2', 'rabggtb', 'slc18a1', 'wnt3a', 'en1', 'des', 'casp8ap2', 'mllt10', 'ccdc195', 'phc3', 'flywch2', 'fbxo45', 'trim60', 'maml2', 'znf555', 'col15a1', 'atp6v1e1', 'usp12', 'ptafr', 'fam98b', 'nr2f2', 'cst4', 'nfkb2', 'cdx4', 'pigv', 'ctu2', 'or12d2', 'c8orf74', 'unc93b1', 'znf358', 'pik3cd', 'ska3', 'upb1', 'sdf2', 'frk', 'idh3a', 'gucy1a2', 'leng9', 'ptpn1', 'rnpepl1', 'ulbp3', 'mettl5', 'slc12a5', 'nppb', 'cln3', 'scn5a', 'iqcf5', 'stard4', 'spata32', 'c17orf80', 'rnf180', 'slc35d1', 'parl', 'fam104a', 'six6', 'bri3bp', 'pgpep1', 'gabpa', 'wnt5b', 'fgf12', 'eras', 'tnfrsf1b', 'arhgef15', 'csrp1', 'pi4kb', 'ssbp1', 'tex12', 'ccdc63', 'cyp1a2', 'mid2', 'tuba3d', 'ptprq', 'polr3k', 'bmp8a', 'lbr', 'tnfsf8', 'ckap2l', 'ppfia2', 'higd2b', 'c19orf47', 'znf582', 'oxt', 'pigbos1', 'zbtb47', 'mast4', 'zfyve16', 'rrnad1', 'atp5me', 'ucn2', 'fbxw2', 'opn4', 'ctbp2', 'terb2', 'sytl2', 'wnk4', 'dse', 'cxorf65', 'cmtm5', 'tp53rk', 'dvl1', 'or10w1', 'higd1c', 'ndfip2', 'prnp', 'luzp4', 'trim23', 'foxi3', 'hbm', 'kcnk2', 'gpx4', 'kl', 'aven', 'dnah11', 'kcnd2', 'insig2', 'spdye6', 'hpgds', 'hps1', 'tex55', 'itpr3', 'tmem38b', 'irs2', 'npc1l1', 'hilpda', 'nudt16', 'znf527', 'ilf2', 'crybb2', 'znf398', 'trmt61b', 'asphd1', 'tars2', 'dcaf8l2', 'tmem88b', 'fth1', 'prrg2', 'stk38', 'tln2', 'chodl', 'gpr155', 'fn3k', 'radx', 'nrn1', 'kansl1', 'espnl', 'mboat4', 'b4galnt4', 'sds', 'spata19', 'tfap2b', 'clec2b', 'scp2', 'ins', 'smim8', 'kirrel3', 'clpx', 'nars2', 'col4a3', 'wdr97', 'mtmr6', 'lrrc56', 'actn3', 'actr2', 'vipr2', 'pus10', 'pi4ka', 'agps', 'fgfbp1', 'or52e4', 'blmh', 'exosc8', 'dync2li1', 'nt5m', 'pigf', 'farsa', 'creld1', 'cdca8', 'cfh', 'zfp36l2', 'znf419', 'med10', 'sirpd', 'cthrc1', 'fcsk', 'rmnd5b', 'tfrc', 'tchhl1', 'sh3bp1', 'znf699', 'fyb2', 'abcb1', 'kpna6', 'usf3', 'ern1', 'prkar1a', 'magec2', 'tigd1', 'ctnna3', 'sprr4', 'ccdc170', 'mnat1', 'tpd52', 'slc16a14', 'uchl1', 'lmo2', 'zmynd8', 'gdpgp1', 'gje1', 'tas2r42', 'tmem154', 'akain1', 'emp1', 'eif4e1b', 'gpr176', 'ccnd3', 'vgll2', 'sri', 'pgm2', 'ndufb7', 'trim36', 'tbcd', 'csnk1d', 'cysltr1', 'galnt12', 'srebf1', 'rubcnl', 'ociad2', 'gpt2', 'rnf44', 'sirt7', 'nps', 'arhgap28', 'arhgap19', 'atg9a', 'catsperd', 'slc49a3', 'sst', 'snx16', 'atxn1', 'xrra1', 'mybpc2', 'hgfac', 'gdpd1', 'rtkn', 'mbd3', 'prkar2b', 'gsta4', 'peak1', 'trim42', 'creb5', 'hsdl2', 'b3gnt9', 'grm2', 'wfdc10a', 'c1orf185', 'actr3b', 'sccpdh', 'mettl15', 'arhgap29', 'ugt8', 'ftmt', 'cd63', 'pcdh17', 'slc7a6', 'map4k2', 'kcns1', 'sumo3', 'ppic', 'ccdc107', 'tm9sf2', 'wdr88', 'snrpa', 'ptn', 'parp4', 'dcn', 'slc2a7', 'ache', 'wasf2', 'znf837', 'septin4', 'fam120aos', 'tmem185a', 'lamb3', 'znf860', 'cdc42ep4', 'cstf1', 'nipal2', 'appbp2', 'saa4', 'rrp1b', 'tgoln2', 'or4l1', 'il5ra', 'smim24', 'icam1', 'pdyn', 'grik4', 'or10a7', 'top1', 'cyp26b1', 'ervv-2', 'vgf', 'odf3l2', 'slc6a9', 'pxk', 'il22ra1', 'slc16a9', 'mei1', 'elf1', 'abcg8', 'tlr7', 'ufd1', 'itih3', 'mmrn1', 'elmod2', 'ttll13p', 'krt14', 'gp6', 'znf583', 'ccdc190', 'oga', 'ctsb', 'dixdc1', 'taf11l11', 'zc3h3', 'tmem121', 'wdr82', 'dhrs7', 'c4orf48', 'neu1', 'neurl4', 'set', 'card11', 'mc3r', 'ndel1', 'mks1', 'scamp4', 'znf626', 'cnst', 'rnf26', 'rwdd2b', 'arhgdia', 'rbmxl3', 'strn', 'sema3g', 'gask1b', 'foxr1', 'erc1', 'copg1', 'rwdd2a', 'tssc4', 'tmem134', 'oscp1', 'mtif2', 'pemt', 'lpo', 'znf225', 'pik3c2g', 'csn3', 'gprc5b', 'ube2d2', 'stx11', 'rhog', 'morn5', 'fpr2', 'ppp2r1a', 'fgf3', 'cpne5', 'r3hdm1', 'mgam2', 'c11orf21', 'coa5', 'ctnna2', 'gtf3c4', 'scg3', 'neurod6', 'adamdec1', 'dnajc1', 'cnih3', 'fam189b', 'grem2', 'lrrc45', 'spint3', 'bicra', 'ralyl', 'serpinb8', 'iqcj', 'zfand1', 'or51e2', 'pcbd1', 'niban1', 'pigm', 'atn1', 'agtr2', 'anks3', 'zscan20', 'dbr1', 'scyl3', 'rxfp4', 'lrriq3', 'oscar', 'rgs22', 'icmt', 'hebp1', 'rph3a', 'klf12', 'adgrg6', 'chst9', 'avil', 'armt1', 'rarb', 'steap4', 'gkn1', 'sos1', 'spz1', 'adgrg2', 'myo1g', 'aldh5a1', 'ccne2', 'saxo1', 'tmem65', 'minar2', 'col9a2', 'ptdss1', 'wdr75', 'vps72', 'c12orf54', 'znf524', 'tubgcp6', 'tmppe', 'krtap19-3', 'zfp2', 'wee1', 'xrn2', 'tubal3', 'olfm3', 'reeld1', 'pgbd2', 'smc3', 'mapk7', 'rdh12', 'tmem143', 'pik3r3', 'serping1', 'man2b1', 'pcdh18', 'ino80b', 'ca14', 'lrrc70', 'micu1', 'ccnt1', 'pnisr', 'krtap2-4', 'arpp19', 'zbtb37', 'drap1', 'rhbdl1', 'kcnq3', 'srprb', 'adk', 'brsk2', 'krtap19-1', 'cst6', 'znf574', 'ivl', 'shroom3', 'atp6v0a4', 'myo3a', 'tacr3', 'il21', 'mmp20', 'kansl2', 'c14orf180', 'nudt14', 'prcd', 'spryd4', 'noct', 'pelo', 'ccdc57', 'fxyd6', 'unc45b', 'lmnb1', 'thrsp', 'ddx5', 'ccdc130', 'snx30', 'prpf31', 'nelfcd', 'cds1', 'tent5d', 'mamstr', 'igsf3', 'irx6', 'kir3dl3', 'lgals14', 'tmc8', 'znf264', 'lin37', 'chrna1', 'nit1', 'selenoo', 'rictor', 'rcc1', 'slc2a5', 'dhx37', 'trmt10a', 'slc39a13', 'mgst2', 'slc38a4', 'aacs', 'c9orf64', 'swt1', 'trdmt1', 'kcnh2', 'ccar1', 'iqcm', 'btg4', 'sprtn', 'hoxc8', 'clec18a', 'ndufb1', 'trim46', 'csnka2ip', 'tcf25', 'pitpnb', 'fcgr1b', 'macrod1', 'serpinb10', 'gpn2', 'zbed6cl', 'gcnt4', 'ttpa', 'exoc8', 'gjb7', 'tex29', 'spg21', 'rax', 'gpr31', 'gcn1', 'cfap74', 'espl1', 'ssrp1', 'akirin2', 'bbs5', 'ndufaf6', 'med22', 'shbg', 'polr2g', 'gas2l1', 'efnb1', 'nfatc1', 'mdk', 'erf', 'naaa', 'il36b', 'hs1bp3', 'ttll1', 'rabl6', 'parp2', 'chit1', 'slc66a3', 'cdk5rap2', 'kera', 'trarg1', 'pimreg', 'abcc11', 'rbm28', 'dynll2', 'lmx1a', 'emx1', 'spx', 'lef1', 'rsph14', 'dsc2', 'tspo2', 'arrdc3', 'lalba', 'immp2l', 'krtap27-1', 'pigz', 'hsf4', 'trpm2', 'nlgn4y', 'rbm42', 'znf750', 'ap2s1', 'c3orf70', 'fam155a', 'p2rx2', 'atm', 'cpne2', 'pot1', 'necab3', 'tmed10', 'vdr', 'smyd5', 'znf253', 'lrrtm3', 'syt9', 'crebbp', 'il9', 'ror1', 'lemd1', 'krba2', 'wdr92', 'kctd13', 'rac2', 'bnip3l', 'mfsd13a', 'stx1a', 'trip6', 'setx', 'or2ak2', 'col14a1', 'fzd8', 'vip', 'hbd', 'hdc', 'mmp2', 'znf211', 'insm1', 'bcl2l10', 'tarm1', 'htatsf1', 'vamp4', 'gfm1', 'irak1', 'parp9', 'plaat1', 'tnrc6a', 'socs7', 'cdt1', 'lrrc28', 'abcf2', 'pard3', 'pan3', 'nfs1', 'paip2b', 'emd', 'adgrg3', 'pcdh11x', 'traf3ip2', 'cmtm6', 'acsbg1', 'cys1', 'slc6a18', 'necap2', 'akap13', 'wfdc11', 'diras2', 'spidr', 'mst1r', 'ubn2', 'ropn1b', 'defb128', 'tsc22d1', 'dmwd', 'krt76', 'sytl1', 'ift80', 'snrpd2', 'ctrl', 'def8', 'tceal8', 'dnah5', 'myo1d', 'psd', 'soga1', 'or2i1p', 'lrrc17', 'cd244', 'sphkap', 'chad', 'kidins220', 'cytl1', 'tmem140', 'rabl3', 'noxa1', 'cd200', 'msh3', 'cpne7', 'slc25a10', 'bco1', 'ssc5d', 'inpp5a', 'cdk18', 'nupr1', 'pphln1', 'rabggta', 'copa', 'btbd1', 'pctp', 'ecsit', 'trpm3', 'tff1', 'smpx', 'znf205', 'lhpp', 'cmtm8', 'rfx5', 'or10ag1', 'ipo5', 'rgs19', 'znf672', 'klhl22', 'mafk', 'galp', 'gal3st4', 'mt3', 'epb41l2', 'slc23a1', 'znf771', 'slc44a3', 'tk1', 'fkbp15', 'lpar5', 'gad2', 'cfap77', 'wdfy2', 'slc46a1', 'jade3', 'trub1', 'mdfi', 'shroom4', 'cdh22', 'slc25a39', 'c3orf18', 'clec10a', 'dock11', 'icam5', 'ccpg1', 'lrp2', 'slc35f1', 'dot1l', 'znf382', 'sco1', 'usp14', 'or10q1', 'or4k17', 'ism2', 'sertad3', 'tbx19', 'trim37', 'lilra2', 'rpp30', 'mustn1', 'krtap9-3', 'mrc2', 'foxl2nb', 'ano9', 'arl2', 'or10j5', 'cuta', 'xylt1', 'znf576', 'echdc1', 'rbmxl2', 'eif3e', 'cgn', 'arhgap30', 'znf391', 'myo18b', 'dnali1', 'fxyd5', 'nup210l', 'p4hb', 'scrt1', 'sparcl1', 'clip3', 'megf8', 'dipk2a', 'ccnl2', 'or1a2', 'mcts1', 'rer1', 'muc15', 'map1lc3b', 'fam83b', 'taf1', 'snrpe', 'vgll1', 'trim33', 'gon7', 'prac1', 'gbe1', 'atpaf1', 'rhbdl2', 'fam110a', 'bmpr1b', 'dgat1', 'tnfrsf10d', 'kcne5', 'mapk13', 'cdc25c', 'rad54b', 'ankra2', 'c5ar2', 'fbxo42', 'med31', 'dcakd', 'ftl', 'slc30a10', 'znf33b', 'sftpc', 'fbxw10', 'fra10ac1', 'fkbp5', 'nfkbil1', 'gfra1', 'serpinb11', 'klk7', 'ano10', 'crisp1', 'camkk1', 'uqcrfs1', 'cdc42ep5', 'ascl4', 'rpa3', 'f10', 'e2f8', 'or6n2', 'mcmbp', 'fgf2', 'id3', 'mettl23', 'nbr1', 'lce1a', 'naa11', 'npdc1', 'hprt1', 'cdc14b', 'mybl2', 'slc15a4', 'krtap5-2', 'lclat1', 'pgam1', 'rbbp8', 'acrv1', 'znf428', 'pnp', 'nckap1l', 'rab19', 'nlrc5', 'ankrd31', 'pcbd2', 'adat3', 'abcc1', 'tmem132a', 'pax3', 'slc24a4', 'grik1', 'ermn', 'rita1', 'myog', 'c19orf44', 'rcc1l', 'irf2', 'arid5a', 'or2m3', 'gsdmc', 'ipmk', 'znf561', 'krtap25-1', 'ankub1', 'hltf', 'parp8', 'tmem213', 'ecscr', 'art4', 'vps29', 'kdm5c', 'znf513', 'aqp7', 'znf3', 'srpra', 'nlrx1', 'rhod', 'fcrl3', 'glipr1', 'chd1', 'fhl5', 'sap130', 'ccdc13', 'rae1', 'angptl6', 'plek', 'rab8a', 'fam221a', 'znf546', 'atl3', 'rasgrp2', 'rit2', 'fuca2', 'fam114a2', 'ncaph2', 'ces4a', 'sdhaf3', 'znf496', 'tex52', 'sdk2', 'ccdc105', 'xxylt1', 'or5h14', 'prr33', 'mmp13', 'tnfrsf21', 'pars2', 'patl1', 'abcb8', 'dusp26', 'nrbp2', 'ppp2r2d', 'dcd', 'pcmtd2', 'znf200', 'ttc9', 'hagh', 'kdm3a', 'braf', 'cavin3', 'zbed3', 'snrpf', 'ust', 'ptpmt1', 'coq9', 'pja2', 'pxdc1', 'clrn1', 'nfe2l2', 'cc2d1a', 'slc36a1', 'tnks2', 'pcdhgb2', 'usp29', 'ypel3', 'limk2', 'virma', 'nfrkb', 'dpf1', 'tcaim', 'letm2', 'lmln', 'serhl2', 'amer2', 'axdnd1', 'pygo2', 'gp9', 'znf572', 'nhsl1', 'kcnab1', 'zmiz1', 'krtap29-1', 'sfi1', 'odf4', 'psma4', 'ccl5', 'pcare', 'tlcd3b', 'sel1l2', 'vstm1', 'gpsm1', 'itln1', 'chmp2a', 'spp2', 'ucn3', 'fam180a', 'slc6a16', 'glul', 'kiaa1522', 'adamts17', 'afg3l2', 'atraid', 'znf823', 'rbm34', 'cops7b', 'hrh1', 'dapp1', 'fsd1', 'ndn', 'nup133', 'jak2', 'ap3b1', 'dnajc24', 'nfyc', 'slc7a8', 'ulbp2', 'mycn', 'kiaa0319', 'rnf38', 'cd53', 'btbd16', 'hhla1', 'naa15', 'znf276', 'fbxo6', 'mbd1', 'bclaf3', 'xpnpep3', 'ciita', 'ndfip1', 'tc2n', 'znf614', 'hacl1', 'nox1', 'chadl', 'znf607', 'cry1', 'cntn1', 'gnat1', 'ica1l', 'il17a', 'znf592', 'lin9', 'hectd2', 'rdh5', 'adgre5', 'cd96', 'agt', 'svep1', 'upk1a', 'cds2', 'wdr13', 'pkig', 'c3orf22', 'fam102b', 'matn2', 'cd177', 'atp2b2', 'utp14a', 'nqo1', 'eps8l1', 'fgd1', 'or2v1', 'c20orf85', 'pura', 'magea11', 'spp1', 'hook3', 'krtap1-5', 'tgfb2', 'or8d1', 'vps36', 'kcna7', 'cd93', 'smtn', 'cfap99', 'sprr2b', 'usp13', 'c6orf89', 'ifrd1', 'itpr2', 'kncn', 'cirbp', 'slco1c1', 'txn2', 'dbx1', 'cdc26', 'slc17a2', 'zscan29', 'tyms', 'cxcr3', 'pramef6', 'coq2', 'foxf2', 'nlgn3', 'guf1', 'or2z1', 'prcc', 'ddx55', 'pvalb', 'snx6', 'kiaa0513', 'scpep1', 'sel1l', 'c2orf42', 'atp5pf', 'golph3', 'dact3', 'dhfr', 'cnp', 'arl4d', 'aire', 'prss37', 'pcdha9', 'atp10b', 'ct47b1', 'znf680', 'hes7', 'ensa', 'atoh8', 'rarres1', 'akt1', 'naprt', 'metrn', 'wnt9a', 'ntrk3', 'akap14', 'kri1', 'echdc2', 'zup1', 'klk15', 'taf11l8', 'aaas', 'pla2g12b', 'daoa', 'kcnh3', 'dcx', 'krt80', 'col17a1', 'col3a1', 'mief2', 'prag1', 'nsun3', 'kif13b', 'kcnj13', 'mlnr', 'or8b4', 'cep120', 'gpr101', 'grip2', 'frmd5', 'cetp', 'pcdh11y', 'tnfaip8l3', 'hspb7', 'acvr1b', 'fam117b', 'zfand4', 'nbpf1', 'bhmt', 'slc1a2', 'vegfb', 'zmym5', 'gabra3', 'mucl1', 'fbf1', 'a4gnt', 'ankrd27', 'trmt2b', 'pxdn', 'or10s1', 'tpcn1', 'leutx', 'cenpo', 'fads1', 'mien1', 'mtbp', 'clec5a', 'st3gal2', 'kcnj2', 'sgk1', 'cwf19l2', 'cdsn', 'hdgfl2', 'gpr4', 'pgam2', 'krtap5-3', 'dnah10', 'cyp4f8', 'cd2', 'nlrp2', 'znf217', 'ubap1', 'cntnap1', 'prrx2', 'mesp1', 'fgf23', 'krtap5-7', 'notum', 'mcm4', 'btrc', 'lrrc8c', 'ncaph', 'znf35', 'sowahb', 'dnajc3', 'anxa2', 'tmem164', 'tmem72', 's100z', 'cep350', 'tmem250', 'prph2', 'klhdc10', 'tnfrsf13b', 'trim29', 'septin9', 'gpm6b', 'ddost', 'scap', 'or2b11', 'agmo', 'xkr5', 'txndc8', 'srf', 'pvrig', 'ppp1r3a', 'ccdc117', 'ptcd2', 'nefm', 'celsr3', 'fam227b', 'mad2l1bp', 'ltbp3', 'plk1', 'usp34', 'pbov1', 'eloa', 'vat1l', 'bfsp1', 'wdcp', 'ulk3', 'pex10', 'myoz2', 'chrnb1', 'trappc1', 'pip5k1c', 's100a7a', 'rassf3', 'trim72', 'eif4ebp1', 'kdelr3', 'cenph', 'adm', 'wdr81', 'dlg2', 'krtap3-3', 'ervk3-1', 'pmel', 'mro', 'cpeb1', 'znf420', 'stat4', 'hsf1', 'esf1', 'zbtb7c', 'slc13a1', 'phf12', 'rem1', 'dipk1c', 'casp3', 'zfand2b', 'suox', 'cisd3', 'cenps', 'coa1', 'myadml2', 'apba1', 'fam228a', 'nxph1', 'serpine1', 'sqor', 'smarce1', 'cdk14', 'atxn7l1', 'mpp1', 'arid3a', 'zfp57', 'uqcr10', 'fabp12', 'tspoap1', 'klhl5', 'hp', 'sec16a', 'mfsd12', 'ccnb1', 'plcxd1', 'dock8', 'pcdhga2', 'jph1', 'wdr25', 'bpi', 'tomm70', 'erap1', 'amfr', 'lix1l', 'zbtb17', 'trmt6', 'traf1', 'tmem151a', 'caly', 'ddx23', 'dctd', 'tgm4', 'ryk', 'mt-nd6', 'kcmf1', 'arl14epl', 'bnc1', 'impa1', 'dnal4', 'sprr2g', 'oser1', 'il20', 'nedd1', 's100a7l2', 'elof1', 'crabp1', 'sspn', 'cd99', 'slc35d3', 'nop10', 'arhgef2', 'xrcc6', 'cntn2', 'thbs1', 'rgs3', 'spatc1', 'il15ra', 'marcks', 'snn', 'smim19', 'cacfd1', 'mapkapk5', 'ehmt2', 'pax2', 'itih6', 'znf852', 'nptx2', 'scaper', 'ybx3', 'cyp2a7', 'pln', 'gys1', 'snx5', 'zrsr2', 'ren', 'cep57', 'arhgap11b', 'ms4a8', 'mogat2', 'gnpnat1', 'sult1c3', 'pamr1', 'nbeal2', 'ms4a7', 'cnnm4', 'zcchc13', 'armcx3', 'slc2a1', 'nme9', 'hopx', 'znf695', 'tbcel', 'ptpn21', 'pmp2', 'prap1', 'dcun1d3', 'atp13a2', 'c18orf63', 'uba5', 'ptk2b', 'znf584', 's100pbp', 'fbll1', 'dexi', 'cd3d', 'ankfn1', 'cul7', 'or10g7', 'siglec6', 'c16orf96', 'or51q1', 'c1orf54', 'dhrs12', 'tigd2', 'usp16', 'casp9', 'micu2', 'iglon5', 'dap3', 'or5p2', 'rnaseh2c', 'setdb1', 'nf1', 'scnn1a', 'spic', 'kiaa2013', 'anxa11', 'phtf2', 'ddias', 'tm9sf1', 'kmt2b', 'mia2', 'tbck', 'c2cd4b', 'fbxw8', 'trappc3', 'atrn', 'vezt', 'rpia', 'syne3', 'lpp', 'prdm11', 'ptprt', 'ahsa1', 'pla2g4b', 'ripk2', 'atp13a4', 'aplp1', 'mtmr2', 'znf664', 'fam71d', 'mapre1', 'csrnp3', 'ervmer34-1', 'znf322', 'xrcc1', 'opn5', 'pafah1b2', 'abcd1', 'or52n5', 'usp49', 'sox21', 'upf1', 'spink5', 'osbpl6', 'btf3l4', 'efna4', 'exoc4', 'gbp5', 'cdrt15', 'ddx58', 'krtap10-10', 'fahd2a', 'sphk2', 'nicn1', 'sft2d2', 'smim15', 'fbn2', 'osm', 'tob1', 'mymk', 'coq8b', 'mageh1', 'qpct', 'vdac2', 'dkkl1', 'cdk17', 'islr', 'cdk5rap1', 'cntn3', 'mmrn2', 'smim18', 'nyap1', 'gpr33', 'cabp1', 'actg1', 'mcm5', 'adh1a', 'il27ra', 'tlcd5', 'hcst', 'cmpk1', 'spanxb1', 'blcap', 'rab40a', 'rhob', 'ccdc62', 'gpr137b', 'ncoa7', 'dnajc4', 'ik', 'st3gal3', 'rnf141', 'slc7a10', 'smox', 'alpi', 'ctif', 'c18orf32', 'cxcl6', 'pasd1', 'nr4a2', 'kras', 'thbd', 'rab5c', 'rilp', 'cfap157', 'foxo6', 'syce1', 'pla2g4d', 'mt1x', 'mplkip', 'acin1', 'pid1', 'rpa2', 'ank3', 'slc35g1', 'krt37', 'tex44', 'or11h6', 'myo6', 'jph4', 'cdkn2d', 'mcoln2', 'npm3', 'il4r', 'nfkbie', 'klhl12', 'zc3hav1', 'cd82', 'or1d5', 'drd3', 'tceal2', 'prelp', 'csnk1g3', 'ada2', 'cplane1', 'aoc1', 'pou2f1', 'spata4', 'gga2', 'chpf', 'nr1i3', 'vps54', 'wdr77', 'tspan10', 'tat', 'kif5c', 'fgr', 'aldh1b1', 'tmprss6', 'maged1', 'muc21', 'nup214', 'samd13', 'pglyrp2', 'ccdc173', 'usp53', 'lnx2', 'isg15', 'adpgk', 'hsd3b7', 'adamtsl5', 'sel1l3', 'flg', 'higd2a', 'alpl', 'c1orf105', 'grifin', 'tmem258', 'mga', 'hacd1', 'znrd2', 'snrnp70', 'tmigd2', 'scn2a', 'sf3a2', 'cenpf', 'limch1', 'prpf19', 'vav2', 'nudt22', 'foxa1', 'ubtd2', 'cdc42ep3', 'ptbp1', 'diaph1', 'bicdl2', 'dhx35', 'ppp1r9a', 'ankrd12', 'calm2', 'pcdhb5', 'esr1', 'mlst8', 'tgif1', 'hus1b', 'rap1gds1', 'ubqln4', 'smpdl3b', 'erbin', 'exog', 'hbg1', 'wdr86', 'mocs3', 'mmachc', 'xpo4', 'fubp1', 'star', 'arl1', 'slc22a18', 'nexn', 'sirt1', 'atf2', 'sgms1', 'lgi2', 'tprx1', 'tnrc6b', 'sema4a', 'cyfip2', 'psmd14', 'tnfsf13b', 'lactbl1', 'duxa', 'cldn1', 'pcdha3', 'ccl3', 'mllt1', 'pde9a', 'chid1', 'tmbim6', 'degs2', 'arl9', 'rbm15', 'spats2l', 'slc6a1', 'fgfr1', 'or2t10', 'camk1d', 'tril', 'pitpnc1', 'phf21a', 'apod', 'psat1', 'tti1', 'znf189', 'tnfrsf8', 'dusp21', 'hoxc12', 'fxyd3', 'cabs1', 'hexb', 'prr11', 'aurka', 'smad9', 'pnliprp3', 'stard3', 'greb1l', 'litaf', 'mrm1', 'tmc2', 'st8sia6', 'nfic', 'ankzf1', 'kcnv2', 'znf500', 'kif2b', 'slc17a3', 'dab2', 'klhl38', 'cpne6', 'tceal6', 'ubqln2', 'ccdc174', 'lpcat4', 'camp', 'ucp1', 'crybg2', 'mt-nd3', 'usp50', 'wdr61', 'ndufb9', 'map7', 'vps25', 'sirt3', 'ripk4', 'irf1', 'tmprss12', 'tgfbr2', 'slc17a6', 'orm2', 'ldhb', 'cyp4f2', 'med30', 'dennd3', 'abi2', 'ntrk2', 'ddn', 'tyw3', 'myo1b', 'pitrm1', 'prlr', 'ugt3a2', 'scaf11', 'map2k6', 'atr', 'rnf182', 'bmpr2', 'sh2d5', 'rhebl1', 'gpat3', 'chrna7', 'foxn1', 'fzd1', 'sec14l6', 'qsox2', 'nckap5', 'myoc', 'aif1l', 'btbd2', 'glp2r', 'foxj3', 'il1rl2', 'ctsv', 'cracr2b', 'lama5', 'p2rx1', 'syn2', 'socs5', 'mpp7', 'pyy', 'rbm44', 'znf248', 'tacr1', 'tbx2', 'plpp2', 'spink1', 'alg6', 'ephb6', 'krtap5-8', 'vwf', 'c5orf58', 'lgals8', 'camsap2', 'anxa1', 'hdac6', 'ctsz', 'or1l1', 'cd80', 'chrna4', 'usp18', 'acvr2b', 'ncbp2as2', 'zp3', 'defa5', 'cmtm1', 'ssbp2', 'igf2bp1', 'minpp1', 'nr1h4', 'hivep3', 'tacstd2', 'spaca4', 'tnpo3', 'nme5', 'pla2g2e', 'sf3b1', 'nlrp10', 'col24a1', 'smu1', 'c4orf54', 'cskmt', 'c15orf48', 'znf146', 'avl9', 'gpr162', 'atxn7l3b', 'spag4', 'gdap1l1', 'cdc37l1', 'tenm4', 'b9d1', 'wdr83', 'aifm1', 'ccdc134', 'hnrnpk', 'ccl24', 'mettl22', 'dok6', 'dhdh', 'ppp1r14b', 'fam187b', 'pofut2', 'ifna5', 'twf2', 'gns', 'sec14l5', 'gfral', 'ube2m', 'rnf114', 'nol9', 'cyp1b1', 'zfp3', 'pold2', 'taf11l6', 'znf331', 'pbxip1', 'c1orf112', 'inha', 'serpinb12', 'trio', 'tbc1d32', 'zkscan7', 'dchs2', 'fbxl16', 'cyp1a1', 'selenop', 'lrrc74a', 'tubgcp3', 'synj1', 'slc22a6', 'slc4a10', 'lactb2', 'ap4s1', 'cadps', 'dlec1', 'gimap8', 'tnfsf11', 'nol10', 'dnajb11', 'ano4', 'nudt19', 'map3k1', 'arhgef35', 'maea', 'tacc3', 'adgrv1', 'hspa12a', 'tnfrsf4', 'ablim3', 'gjc3', 'pja1', 'echs1', 'ndufa9', 'cadm2', 'skp2', 'mmp10', 'c6orf120', 'atp2a2', 'znf557', 'ccdc50', 'cyb5a', 'hap1', 'vsig10l2', 'spty2d1', 'tekt3', 'apobec1', 'babam2', 'ooep', 'nlgn2', 'spty2d1os', 'kdm2b', 'sult2b1', 'cebpb', 'elf3', 'zkscan5', 'rapsn', 'slco4c1', 'dad1', 'tbc1d12', 'dcdc2b', 'ncbp2l', 'btd', 'vnn1', 'npbwr1', 'pcdh15', 'ctrb2', 'fam229a', 'klhl36', 'bsx', 'klc2', 'casr', 'prkra', 'mta2', 'srcin1', 'huwe1', 'il18bp', 'amy2a', 'mafg', 'ccdc125', 'tmem132c', 'nprl3', 'sh3d21', 'pnma5', 'ubp1', 'p4ha1', 'ccdc149', 'trhr', 'coq7', 'gabra1', 'bach1', 'cldn12', 'rragb', 'cxcl10', 'cavin2', 'tpgs1', 'dpy30', 'fam171a1', 'adcy7', 'dph1', 'hmox1', 'paics', 'spata45', 'adgrd1', 'ugt3a1', 'srd5a3', 'lrrtm1', 'ago3', 'vcpip1', 'cep55', 'slit3', 'pde3a', 'tns3', 'epc1', 'psap', 'sdsl', 'rnf6', 'enox1', 'znf280c', 'gimap7', 'gpalpp1', 'eif4e', 'lcn6', 'dao', 'capn14', 'itfg2', 'trpv1', 'nanognb', 'zmynd15', 'fdx2', 'nlrp4', 'c16orf70', 'kif9', 'gpat2', 'pir', 'tmem183a', 'macc1', 'hmga2', 'kif17', 'stxbp2', 'tgm1', 'znf43', 'ifrd2', 'znf791', 'glp1r', 'celf2', 'olfm1', 'zfyve19', 'sh3tc1', 'rufy3', 'c2orf92', 'pomgnt2', 'plk4', 'c2orf78', 'noa1', 'sptlc1', 'prkd2', 'wdr5b', 'lypd6b', 'cox7c', 'josd1', 'lce2c', 'hdgfl1', 'tmprss15', 'smoc1', 'lbh', 'srsf9', 'adgrg1', 'tbx21', 'plekhg2', 'pcdha5', 'otoa', 'havcr2', 'sigmar1', 'zfand2a', 'krtap9-8', 'tex26', 'ttc7b', 'themis', 'disp3', 'hook2', 'fam83c', 'foxq1', 'cpq', 'rab29', 'adgrl1', 'slc1a6', 'zbtb38', 'c6orf52', 'tmem38a', 'eif2b1', 'c19orf12', 'gamt', 'bin2', 'adcy1', 'c20orf141', 'mt-co2', 'pnpla3', 'trps1', 'stk3', 'ly6d', 'cpeb4', 'gtf2h1', 'gltp', 'defb110', 'plin4', 'kctd12', 'tubb2a', 'aldh1a2', 'ahcyl1', 'sirpa', 'gabrb2', 'tsbp1', 'nup160', 'agmat', 'stard10', 'bet1l', 'ogfr', 'slc5a1', 'fancf', 'amdhd1', 'zmynd19', 'crcp', 'bnc2', 'trpv6', 'alox5', 'lin28b', 'sbk1', 'hsp90aa1', 'tent5b', 'fam78b', 'grin2a', 'cyp26c1', 'or2m5', 'grk7', 'vstm5', 'rdh11', 'il21r', 'gabrq', 'myl4', 'golt1b', 'ptprb', 'gtf3c2', 'parpbp', 'anxa9', 'swi5', 'ogn', 'dusp5', 'st8sia4', 'c10orf62', 'parp14', 'nlrp3', 'vsir', 'tcta', 'angel2', 'slc7a14', 'galntl6', 'abi3bp', 'arhgef39', 'tspan2', 'hic2', 'rab3il1', 'tceal7', 'myo1h', 'gtf3c5', 'shkbp1', 'kcnq2', 'fastkd3', 'abca1', 'loxl2', 'gnpat', 'myrf', 'samd11', 'khdc3l', 'vill', 'oxsr1', 'uckl1', 'tbc1d22b', 'elmo2', 'c22orf39', 'gss', 'pcdhb1', 'or2ag1', 'pced1b', 'kbtbd8', 'bloc1s5', 'klf13', 'mad1l1', 'ccl3l1', 'sertm2', 'ube2z', 'ddx3y', 'mtus2', 'sele', 'isca2', 'plcd4', 'chmp7', 'a2ml1', 'mog', 'znf318', 'stk39', 'pnma1', 'mertk', 'satb1', 'tnfsf14', 'cnbp', 'acsm3', 'pebp4', 'gng7', 'adam30', 'pde6g', 'stac', 'cenpq', 'porcn', 'sc5d', 'epha7', 'ifnlr1', 'ubd', 'syt3', 'tpp1', 'col8a1', 'hand1', 'vstm2b', 'riiad1', 'pdzd9', 'crlf3', 'pappa2', 'plxnb1', 'ccdc24', 'sh2d2a', 'eif4ebp2', 'khnyn', 'pkdrej', 'cndp2', 'pld3', 'snca', 'pdzk1', 'yju2', 'dct', 'mapk10', 'dmap1', 'pdgfrl', 'ifi27', 'spart', 'efr3b', 'arsi', 'psmc6', 'kcnj4', 'ugt1a4', 'plxnb2', 'fundc1', 'znf74', 'dpf2', 'kxd1', 'krtap9-6', 'mei4', 'sdhaf4', 'f7', 'clint1', 'htr3e', 'slc40a1', 'ddrgk1', 'snap91', 'pex2', 'acsm4', 'klrc4', 'sat2', 'tle5', 'slco2b1', 'actl10', 'nap1l4', 'hs2st1', 'katna1', 'rasl11a', 'fsd2', 'aatk', 'nrap', 'or6b3', 'neurl1b', 'senp6', 'hormad2', 'nectin1', 'fstl3', 'znf711', 'kcnj9', 'sltm', 'tmem178a', 'gcc1', 'trim11', 'sec24d', 'sem1', 'lrrfip2', 'mogat3', 'frmd6', 'kcng2', 'igfbp1', 'tspan9', 'tspan33', 'mylk', 'erich2', 'prr3', 'cald1', 'lipk', 'bmp4', 'otx2', 'stx8', 'chrdl1', 'lmtk2', 'mafb', 'tango2', 'znf644', 'pycr2', 'kcnrg', 'kiaa0100', 'arhgap25', 'shc1', 'slc35c2', 'eml2', 'or14k1', 'tnni3', 'kcne3', 'atp7a', 'gdpd2', 'acod1', 'nup50', 'sorcs3', 'arpc5l', 'zbtb45', 'p3h2', 'hkdc1', 'nucb1', 'acadvl', 'wnt8a', 'smg6', 'polr3g', 'zic4', 'sorcs2', 'srfbp1', 'scube2', 'exosc10', 'stradb', 'fdx1', 'gpr15', 'uqcrh', 'or56a1', 'jam3', 'or4c5', 'lrrc34', 'snx18', 'trim22', 'pom121', 'cer1', 'whrn', 'zfyve26', 'tfg', 'glb1l3', 'poli', 'ang', 'tigar', 'anxa6', 'tmem92', 'crtc1', 'defb115', 'adam10', 'golgb1', 'gja10', 'rarres2', 'hip1r', 'tns2', 'ptrhd1', 'asb3', 'cotl1', 'ankle1', 'klhl6', 'or11a1', 'rnase9', 'ggn', 'st3gal6', 'fam189a1', 'gip', 'nosip', 'pak3', 'ccdc88b', 'mslnl', 'apol5', 'sub1', 'fev', 'col6a3', 'fam136a', 'slc39a6', 'ankrd53', 'oplah', 'arih1', 'phactr4', 'galnt14', 'ufl1', 'il2rb', 'brd1', 'tnf', 'asf1a', 'retnlb', 'rimklb', 'tmcc2', 'ppa2', 'mmab', 'bmp7', 'rnf175', 'casp6', 'galnt10', 'kcnd3', 'reep4', 'tbc1d25', 'prdm13', 'mrgprx1', 'rap2c', 'rapgef2', 'acot6', 'kiaa1671', 'clpsl1', 'slc22a9', 'prkcb', 'anpep', 'clec11a', 'parp16', 'fam78a', 'il1r2', 'tp53aip1', 'nr6a1', 'glyctk', 'pwwp2a', 'folr2', 'ppp2r5b', 'slc35f5', 'wnt7b', 'txk', 'osgin1', 'znf169', 'klk4', 'sp5', 'phf24', 'iqub', 'grm1', 'ubtd1', 'ina', 'mcemp1', 'pcdhb6', 'bricd5', 'unc13a', 'tmem41b', 'prss56', 'snph', 'rgr', 'gc', 'c2', 'cinp', 'ifi44l', 'eid1', 'ddx52', 'nucb2', 'epb42', 'prrc2a', 'ppp2r5d', 'ss18', 'or1l4', 'flvcr2', 'igsf5', 'c11orf24', 'eif2d', 'nab2', 'triml2', 'usp17l7', 'lrrc3c', 'cebpg', 'irf2bp2', 'galnt17', 'zcchc8', 'polr2c', 'abhd17c', 'mllt6', 'bcl10', 'cpb1', 'zmym2', 'lax1', 'psg5', 'ppef1', 'hinfp', 'hemk1', 'cubn', 'adarb2', 'polr1e', 'htr1d', 'cycs', 'fos', 'gbp7', 's100a4', 'alg9', 'tprg1l', 'c1qtnf7', 's100a9', 'cldn34', 'cdk16', 'fgf7', 'slc25a36', 'opn1lw', 'slc27a6', 'gfra3', 'bpifa3', 'mtres1', 'kansl1l', 'cflar', 'xirp1', 'spata31a7', 'tsc22d2', 'trim32', 'mnx1', 'ranbp10', 'enpp4', 'eif2s2', 'ttc39a', 'dyrk1a', 'crisp3', 'ankrd18b', 'ush1c', 'rnf39', 'hbp1', 'cysrt1', 'dok7', 'kit', 'snrnp48', 'pdlim2', 'nkg7', 'trappc6a', 'krbox4', 'laptm5', 'hdac7', 'znf492', 'vcan', 'malt1', 'rabac1', 'arfip1', 'stxbp5', 'znf548', 'fgd4', 'nfx1', 'tdrd10', 'cnksr1', 'slc38a9', 'b3gnt6', 'pisd', 'pwwp3b', 'galnt15', 'raf1', 'dnajb4', 'kpna4', 'hoxd10', 'mmp24os', 'znf763', 'serpini1', 'micall2', 'gabbr2', 'snrpa1', 'sf3b4', 'prom2', 'cxcl2', 'rrp36', 'mapk8ip1', 'krtap4-6', 'semg2', 'sema5b', 'pcsk9', 'retsat', 'col1a2', 'rnaset2', 'rsl24d1', 'apela', 'psmc1', 'mterf1', 'eme1', 'tmc6', 'mocos', 'gpx7', 'vwce', 'tas2r50', 'prrc1', 'tubb', 'znf516', 'edem3', 'taar6', 'gjd2', 'ralgapa1', 'kiaa0895', 'neurl1', 'dis3l', 'sost', 'chrd', 'mapkapk2', 'nkx3-2', 'fxyd4', 'ucp3', 'tbc1d4', 'cdk11a', 'tmem190', 'mavs', 'or52e2', 'mllt11', 'fahd1', 'rims3', 'fzd2', 'rnf41', 'adrb2', 'mfsd4a', 'ap1s2', 'rwdd4', 'slc25a2', 'duox2', 'tmem271', 's1pr4', 'or7d2', 'eif4b', 'c11orf68', 'cyp2s1', 'crnkl1', 'znf799', 'taok2', 'usp41', 'trpv4', 'clspn', 'cadm3', 'cyp2d6', 'hif3a', 'col5a2', 'lgals12', 'plch2', 'mapre3', 'gkap1', 'krt2', 'gli4', 'scn8a', 'cd1c', 'ppm1g', 'cpn2', 'slc38a2', 'mxra7', 'daz2', 'npvf', 'mettl3', 'klkb1', 'dda1', 'krtcap3', 'rasgrp3', 'jph3', 'mtfr1l', 'aqp6', 'phox2a', 'ifnar2', 'blzf1', 'shh', 'serpina9', 'borcs7', 'znf18', 'cbln3', 'bcr', 'ccdc189', 'mras', 'ube2d4', 'slc6a6', 'ucma', 'top2a', 'uggt1', 'klc3', 'aqp11', 'gpbp1', 'garnl3', 'slc25a20', 'clic3', 'serpinf1', 'rnf126', 'tnfsf9', 'avp', 'znf622', 'hexim2', 'znf140', 'nphs1', 'mcu', 'egr1', 'fam111a', 'ndufaf3', 'acss1', 'phkg1', 'plxna3', 'twist2', 'elovl5', 'tmem177', 'mcm2', 'ino80d', 'aadat', 'nipsnap2', 'wwp1', 'tbxa2r', 'nmu', 'capn15', 'il18', 'glyatl1b', 'srsf5', 'chtf18', 'adipoq', 'uhrf1bp1', 'asb12', 'arms2', 'sry', 'inhbb', 'gal3st3', 'nlrp8', 'bag5', 'ube2j2', 'anxa8', 'septin3', 'mageb2', 'cxorf38', 'cyp2b6', 'znf793', 'hjv', 'abhd1', 'mob1a', 'ttpal', 'kremen1', 'sh2d1b', 'iba57', 'sgms2', 'slc25a16', 'ttc24', 'mogat1', 'ap4m1', 'cul5', 'abca9', 'serpinb2', 'prr16', 'acox2', 'clic2', 'extl3', 'or9k2', 'proca1', 'c1qb', 'vamp3', 'creb1', 'ankrd34c', 'or4q3', 'zswim1', 'nubp1', 'fut10', 'fzd6', 'prkcsh', 'asmtl', 'sfrp5', 'arsh', 'gpr179', 'scml2', 'naa25', 'tmem35a', 'ublcp1', 'ccl28', 'emc7', 'depdc1', 'bicdl1', 'birc7', 'copg2', 'crybb3', 'znf397', 'rasgef1a', 'sf3a3', 'rgl4', 'meox1', 'oip5', 'otud4', 'rfpl1', 'arsj', 'pter', 'tmprss11a', 'pgbd5', 'tnfaip2', 'crygc', 'ttc19', 'lrrc59', 'asb5', 'pramef15', 'acp5', 'cst2', 'fmnl2', 'alyref', 'dram2', 'znf786', 'mcf2', 'ptges2', 'cd3e', 'dbx2', 'psg7', 'vps35l', 'cd8a', 'rassf4', 'ccl21', 'polr3b', 'kremen2', 'dctpp1', 'hspbap1', 'znf563', 'ugt2b11', 'mtch2', 'wsb1', 'tsks', 'hbegf', 'rgp1', 'cygb', 'cast', 'ppp2r2b', 'triobp', 'npas2', 'aloxe3', 'exo1', 'chrna2', 'rad21l1', 'lzic', 'apoa1', 'stc2', 'ddx39b', 'gcfc2', 'adhfe1', 'add2', 'ppp2r3c', 'ier3ip1', 'or2b3', 'scgb1d1', 'cnga1', 'nxph4', 'kcnu1', 'plglb2', 'fam155b', 'pcbp1', 'or13c8', 'actr1a', 'esrrb', 'axin2', 'cr1l', 'bbof1', 'fbxl20', 'defb131b', 'ankrd17', 'tanc2', 'prex1', 'ghdc', 'ndufs6', 'or56a4', 'pih1d2', 'bbs12', 'edn3', 'ptgfrn', 'st14', 'exosc4', 'or6v1', 'sucla2', 'abca8', 'pcp2', 'ttr', 'tmem260', 'ubash3a', 'vtcn1', 'hps4', 'tex13c', 'lrp2bp', 'txndc11', 'rd3l', 'nrep', 'nup188', 'zmym4', 'ccdc73', 'pkd2', 'scn9a', 'nat16', 'cep128', 'scyl1', 'mapk8ip3', 'jmjd6', 'ric3', 'med11', 'rpp21', 'ahnak2', 'coro7', 'jchain', 'inip', 'magohb', 'slc25a47', 'sln', 'hcar3', 'zranb2', 'mettl8', 'allc', 'f8a1', 'tnpo2', 'cep295', 'dcdc2c', 'cxxc5', 'nptn', 'jrk', 'recql', 'c11orf42', 'las1l', 'tal1', 'kctd3', 'rims2', 'acads', 'ppl', 'fhl1', 'tmem26', 'fdps', 'gale', 'ankrd49', 'col8a2', 'vps39', 'tldc2', 'st6gal1', 'mon2', 'pet100', 'slc22a5', 'znf559', 'meis3', 'or1l6', 'krt85', 'cmbl', 'cdh2', 'tubgcp5', 'adat2', 'slirp', 'c2orf88', 'crat', 'efs', 'zfp28', 'hoxd3', 'htra3', 'drp2', 'tcf20', 'tom1l2', 'incenp', 'plekhd1', 'syndig1', 'cyp3a5', 'tmem131l', 'or6k6', 'uck1', 'a2m', 'ftsj1', 'scnn1d', 'septin5', 'gbx1', 'tceal1', 'cacna1e', 'cops9', 'zscan16', 'cep76', 's100a8', 'golt1a', 'zscan5c', 'znf630', 'mamld1', 'tlk1', 'sdr9c7', 'znf648', 'gucy1b1', 'fstl4', 'morn4', 'pkp3', 'pacsin3', 'phkb', 'acly', 'eloa2', 'scarf2', 'ccdc120', 'tshz1', 'fam20c', 'mfsd14b', 'dennd1c', 'rundc3b', 'gpbp1l1', 'n4bp2l1', 'gpr34', 'magee2', 'intu', 'vps37b', 'prpf4', 'cp', 'rab27b', 'acp2', 'adra2c', 'shld3', 'hoxd9', 'cep164', 'esam', 'ctsh', 'tmem61', 'odf2l', 'arrb1', 'cmtm3', 'slc9a3', 'znf12', 'izumo1', 'inava', 'dand5', 'dyrk4', 'ubxn6', 'znf385b', 'hoxa1', 'adcy6', 'cfap54', 'drd2', 'otc', 'psen1', 'nr2c1', 'chchd7', 'plppr4', 'bdnf', 'tmem216', 'sdcbp', 'mapk15', 'rnf113b', 'ripor1', 'mroh1', 'nmt1', 'flna', 'tomm34', 'cox6a2', 'ndufaf8', 'lancl3', 'pi16', 'ilrun', 'ankrd30bl', 'tmem211', 'rfx6', 'dbndd1', 'spanxn1', 'l3mbtl2', 'bphl', 'gbp4', 'capns1', 'meiob', 'aco1', 'stath', 'cartpt', 'znf691', 'hmbox1', 'snai2', 'ctsf', 'hoxc5', 'mvd', 'dnmt1', 'stk35', 'tiam1', 'frrs1', 'cfap52', 'naif1', 'gemin2', 'nsun4', 'ttc16', 'or52i1', 'p3h3', 'rtp2', 'znf682', 'acot8', 'zfp36', 'ttc39b', 'eif3d', 'c16orf54', 'map3k6', 'calml5', 'fam205c', 'aldh1a3', 'cib4', 'ptch1', 'c16orf71', 'tsnaxip1', 'prdx1', 'xkr4', 'ms4a18', 'zpr1', 'cyb5r2', 'blid', 'selenoi', 'mypop', 'gtpbp3', 'tsr2', 'senp2', 'nutm1', 'rbis', 'sulf2', 'dusp15', 'trim21', 'ugt2b17', 'ndufb6', 'kiaa0930', 'cdk2ap2', 'dlgap1', 'xab2', 'tp63', 'slc5a7', 'map4k3', 'mars2', 'msc', 'nsmce1', 'gstm3', 'kcnk13', 'gnb3', 'sbk2', 'cmas', 'klf8', 'eya4', 'gpatch2', 'col5a1', 'reep3', 'stat5b', 'prkar2a', 'camk2g', 'ppp2r3a', 'pip4p1', 'exd1', 'samd1', 'gpatch1', 'fam207a', 'spata31e1', 'morc4', 'or9a4', 'slc38a7', 'sypl1', 'znf280b', 'pygm', 'copb2', 'mpi', 'rft1', 'p2ry6', 'ankrd62', 'lsm14a', 'amotl2', 'akap8l', 'ifi16', 'cyb5d1', 'letm1', 'irf5', 'mdga1', 'znhit1', 'or4f21', 'krtap5-10', 'muc2', 'cyp11a1', 'cdrt4', 'setbp1', 'sncg', 'lcn2', 'lonp1', 'fosl2', 'scgn', 'fam171b', 'nrcam', 'relt', 'id2', 'nr2c2', 'fabp9', 'angptl1', 'sema4g', 'or5k2', 'htatip2', 'tnfsf13', 'ugt2b28', 'znf449', 'rbm3', 'plekha8', 'sco2', 'gzma', 'ogfod3', 'ppfibp1', 'clcn7', 'nppa', 'ptch2', 'gde1', 'ces2', 'mettl16', 'rbp1', 'etnppl', 'birc6', 'lrp10', 'cnpy4', 'dhx57', 'cyp2e1', 'serinc3', 'arid1b', 'cntnap5', 'ank2', 'slc26a9', 'crip1', 'prkag3', 'aqp9', 'ppp1r1a', 'tp53i13', 'znf544', 'cpamd8', 'podxl', 'depdc7', 'ift172', 'rgs2', 'zim3', 'idua', 'tead2', 'igfbp6', 'tm9sf3', 'btbd8', 'btbd19', 'pole2', 'kdsr', 'igsf1', 'kctd20', 'epm2a', 'krtap10-8', 'ceacam8', 'lrrc2', 'hif1an', 'vps37a', 'sgta', 'nxpe3', 'e2f7', 'cd274', 'nav2', 'cdh26', 'aasdh', 'cybc1', 'ercc2', 'hnrnpr', 'rasd1', 'znf469', 'rnf112', 'bgn', 'tmem47', 'cenpp', 'gba2', 'selenok', 'thsd4', 'rad51', 'pcf11', 'stt3a', 'vash2', 'kcng3', 'topaz1', 'akna', 'cfap20', 'tmem39b', 'ankrd52', 'ythdf1', 'cldn20', 'cyp26a1', 'pou3f4', 'znf627', 'esyt3', 'hmgb2', 'bglap', 'dpp6', 'cnih4', 'lmntd1', 'asap3', 'gda', 'pthlh', 'tecpr2', 'ckap4', 'hoxb9', 'krtdap', 'cav2', 'cyp27b1', 'top3b', 'fcn2', 'armh1', 'gatc', 'lin52', 'zscan21', 'rnpep', 'heatr3', 'c2orf15', 'kirrel2', 'eng', 'rsph10b2', 'csgalnact2', 'col4a2', 'nr0b1', 'slmap', 'tmem79', 'tbc1d17', 'nadk', 'arhgdib', 'acaa2', 'fancl', 'flt4', 'spag1', 'or10g3', 'akr1c4', 'epdr1', 'znf436', 'fsd1l', 'clec14a', 'chn1', 'gsto1', 'psapl1', 'skor1', 'dpp9', 'rpp14', 'fgf21', 'slc9b1', 'plekhg4b', 'apln', 'fgd6', 'tusc2', 'lin28a', 'fzd3', 'cfap53', 's100a6', 'tnfaip1', 'c1galt1', 'srpk1', 'xirp2', 'mcm3', 'c5orf46', 'slc6a13', 'hoxb4', 'obp2a', 'erfe', 'strn3', 'sbspon', 'myo7b', 'mcub', 'znf396', 'rad50', 'isx', 'ndc1', 'sptbn1', 'naa30', 'c8orf89', 'ces1', 'ism1', 'fstl1', 'pan2', 'znf277', 'bcap31', 'nelfb', 'ube2g2', 'ppara', 'cpsf1', 'n6amt1', 'piwil3', 'cyp19a1', 'psmc2', 'ppard', 'wif1', 'apaf1', 'gpr20', 'snapc5', 'clec3a', 'lpin2', 'inpp5d', 'znf467', 'mpv17l2', 'tmem147', 'ccdc61', 'zkscan8', 'dnttip2', 'mif4gd', 'pla2g4c', 'ech1', 'agpat5', 'lcn10', 'akr1a1', 'camk1g', 'arhgap6', 'ddx18', 'armc8', 'mdp1', 'slc29a3', 'asnsd1', 'csf2ra', 'pank3', 'bmx', 'sync', 'uqcrc1', 'gorab', 'alkbh6', 'hrh2', 'il18r1', 'eppk1', 'akap6', 'znf727', 'dpep2nb', 'rbm15b', 'dusp9', 'rpusd2', 'nmb', 'lmbr1l', 'mt-co3', 'myom3', 'rnf2', 'gatb', 'ankrd63', 'rnf20', 'arfgap1', 'pou4f2', 'siglec7', 'dsn1', 'atp6ap2', 'myl2', 'elp6', 'commd3', 'tmed2', 'kank2', 'brip1', 'arpc3', 'ccdc106', 'zfat', 'thnsl2', 'lrrc19', 'six1', 'nsg1', 'usp17l1', 'hnrnpf', 'kcnj16', 'slc35a2', 'clic4', 'rnf144a', 'eif2b5', 'mansc1', 'hipk3', 'fam180b', 'klhl9', 'znf606', 'dennd4c', 'nrp2', 'btnl3', 'bop1', 'calhm2', 'nnmt', 'atmin', 'ttc39c', 'lrrc43', 'smarcb1', 'cebpz', 'eda', 'rcan2', 'lrwd1', 'snx10', 'pspn', 'esrra', 'stim2', 'l3hypdh', 'sorbs3', 'hdac11', 'nmnat3', 'ptpn22', 'lrrc42', 'hes1', 'rap1gap', 'tmem200b', 'dhrs4', 'ccp110', 'kcnt2', 'tmem219', 'klhl42', 'crip3', 'fitm1', 'tmed3', 'clrn3', 'c11orf71', 'disp1', 'mc5r', 'sesn3', 'dhx36', 'pik3c2b', 'ppp1r35', 'mgat1', 'cdc42bpa', 'tmem63b', 'cdkl4', 'perp', 'vmac', 'or5k4', 'ing4', 'stk32a', 'qki', 'p2rx4', 'ccdc88c', 'bche', 'zc2hc1b', 'gzmh', 'e2f4', 'cbx6', 'shisa5', 'apmap', 'mtpn', 'spem2', 'dpt', 'map6d1', 'lpcat3', 'pms1', 'rab39a', 'igsf21', 'zeb1', 'kcnc3', 'pp2d1', 'lhfpl4', 'mmd', 'taf6l', 'pak1', 'wbp1', 'taf1a', 'arhgef5', 'asb16', 'dtx2', 'plcz1', 'pip5k1a', 'tnpo1', 'efcab9', 'krtap5-6', 'rab14', 'syt13', 'sgsm2', 'cfap36', 'mlec', 'galk1', 'capn9', 'creb3l4', 'znf69', 'prr14', 'nthl1', 'znf33a', 'znf280a', 'nemf', 'prkn', 'znf503', 'kel', 'luc7l3', 'tlr1', 'ktn1', 'rab1a', 'gipc3', 'srrm1', 'or8b2', 'mxd3', 'pex1', 'btbd9', 'mn1', 'ereg', 'ikzf4', 'foxl1', 'rfx1', 'plpbp', 'eno4', 'akr1c3', 'rangrf', 'extl2', 'trmt5', 'znf507', 'cep63', 'zwilch', 'gimap6', 'bub1b', 'flii', 'actrt1', 'ythdf3', 'med8', 'rab13', 'serpinc1', 'fam168b', 'or5d16', 'nrxn3', 'chd3', 'atp10d', 'snx24', 'sowaha', 'tlcd2', 'hoxb6', 'vsig1', 'zp4', 'hif1a', 'mia3', 'aftph', 'fkbp10', 'psmd4', 'slc10a5', 'dpagt1', 'robo4', 'flt1', 'naa38', 'znf530', 'arsb', 'ndrg3', 'psd3', 'klhl7', 'psme4', 'aldh8a1', 'clca1', 'timp1', 'hnrnph2', 'ubl4b', 'hmg20a', 'gclm', 'znf235', 'prdm15', 'fam151a', 'comp', 'wfdc9', 'hoxb5', 'nkx2-1', 'sp2', 'ms4a3', 'c19orf33', 'ppfia4', 'snd1', 'gnat3', 'pcp4', 'micall1', 'clcn4', 'uba2', 'ctsd', 'zgpat', 'st3gal5', 'rpusd4', 'klhl23', 'tram2', 'hspa5', 'grb7', 'dsg2', 'tex45', 'map3k13', 'ddx19a', 'slc17a9', 'rhou', 'mest', 'mctp1', 'vnn2', 'klhl30', 'grm7', 'wdfy1', 'dph6', 'ampd3', 'atp13a1', 'prss8', 'unc5cl', 'hspd1', 'gpt', 'cnot2', 'znf713', 'nxt2', 'c2cd6', 'mlkl', 'senp3', 'oas1', 'pcyt2', 'muc5ac', 'chgb', 'uri1', 'eif4a2', 'trim4', 'or2at4', 'chchd2', 'ankrd9', 'pik3r6', 'bnip5', 'med20', 'cir1', 'nlrp7', 'bod1l2', 'clasrp', 'ntng1', 'tfeb', 'lrtomt', 'iqcc', 'znf562', 'xg', 'aspm', 'kiaa0753', 'serpinb1', 'lbhd1', 'git1', 'dkk3', 'fut8', 'fam13c', 'etv6', 'ift81', 'dnajc13', 'ergic2', 'il6', 'tusc1', 'manf', 'b4gat1', 'txndc12', 'or4c11', 'alkbh8', 'or4c46', 'miga2', 'krtap21-2', 'taf11', 'zyg11b', 'optc', 'dnlz', 'nop9', 'timp2', 'myo5b', 'rbfox2', 'or10h3', 'washc3', 'nmnat2', 'gpx2', 'ssr1', 'cyp3a7', 'sycn', 'ctns', 'cd248', 'parvb', 'akirin1', 'dbi', 'unc50', 'olfm4', 'cckbr', 'atf4', 'card18', 'lonrf1', 'utp23', 'ggt1', 'atpaf2', 'slc30a9', 'hic1', 'nphp4', 'pax7', 'prkx', 'f12', 'flnc', 'gng12', 'immt', 'serpinh1', 'lce3c', 'triqk', 'shisa4', 'tagln', 'nbl1', 'epb41l3', 'tspear', 'slc2a12', 'pgm2l1', 'kbtbd3', 'tyr', 'trim63', 'fmn1', 'fgf5', 'slc25a46', 'nhlrc1', 'hlf', 'pck1', 'khsrp', 'hipk2', 'dap', 'or2f1', 'ostm1', 'tmem176a', 'pmpca', 'kcnk12', 'nfyb', 'cenpc', 'ddb2', 'mier3', 'syk', 'zc3h12d', 'st18', 'c17orf98', 'iqcd', 'msi1', 'c12orf60', 'mapk4', 'cxcl13', 'bud31', 'grhl2', 'rtl8a', 'myzap', 'tmigd1', 'fgf14', 'snrpc', 'ptger2', 'gcm1', 'eif2s3', 'gkn2', 'ciao2b', 'dock6', 'gtf2e2', 'amigo1', 'gmcl2', 'ikzf2', 'gype', 'nwd2', 'itgb3bp', 'pcdha8', 'pde2a', 'cnbd1', 'gab1', 'txnrd1', 'pyroxd2', 'ero1a', 'kcna1', 'hck', 'piezo1', 'c11orf97', 'rhobtb1', 'dync1h1', 'myorg', 'cd200r1', 'krtap10-3', 'ilkap', 'myo9a', 'znf85', 'olah', 'igfn1', 'btn3a3', 'tmem74', 'mfap3l', 'mlip', 'slc9a7', 'mrap', 'znf717', 'cops5', 'lect2', 'tspan5', 'znf652', 'stam2', 'ccdc47', 'scube3', 'stap2', 'snx21', 'setd1b', 'gulp1', 'gabra6', 'clec4c', 'znf577', 'fxyd7', 'adap1', 'rpusd1', 'vwa3a', 'agtrap', 'acad9', 'tmem125', 'pskh1', 'ube2g1', 'vopp1', 'mtx1', 'apobec2', 'ryr3', 'c16orf46', 'vax2', 'gpsm3', 'ovch1', 'ebpl', 'apoh', 'hsh2d', 'ints6l', 'tfap2d', 'nkx6-3', 'mvb12b', 'serpina12', 'npw', 'lias', 'sumo4', 'coro2a', 'trmt9b', 'loxl1', 'c11orf96', 'tm4sf1', 'iapp', 'endod1', 'tedc1', 'ppcs', 'znf385c', 'cbr1', 'ccdc150', 'trim62', 'mageb18', 'ncr2', 'nhlh2', 'dnai2', 'nr1d1', 'ifih1', 'tor4a', 'myo15b', 'banf2', 'or8h3', 'gla', 'sirpg', 'fam217b', 'bin1', 'ddx41', 'sema3a', 'dmgdh', 'cxcl12', 'meig1', 'taf1l', 'ier3', 'dlg4', 'vmp1', 'vwa2', 'c19orf71', 'taf5', 'calm3', 'glod5', 'bora', 'itga6', 'znf296', 'sfrp1', 'ifi27l1', 'abi1', 'trim75p', 'leprotl1', 'shf', 'ferd3l', 'krtap10-5', 'naxe', 'tmem95', 'znf77', 'hyi', 'arhgap40', 'or2h1', 'cyhr1', 'casp7', 'cdr2l', 'bid', 'sesn2', 'paqr7', 'znf227', 'plcl2', 'sall4', 'ap2b1', 'hrh4', 'ppp1r3b', 'afdn', 'unc13c', 'smyd3', 'slc35g2', 'uaca', 'siglec14', 'or56a5', 'yes1', 'cystm1', 'prg2', 'fam222b', 'smchd1', 'adamts8', 'map3k7cl', 'cyp3a4', 'cyc1', 'npffr1', 'gsx1', 'notch1', 'or6y1', 'polr2k', 'prrt1', 'nav3', 'crx', 'nkx6-1', 'mex3b', 'prrt2', 'znf608', 'eml5', 'flcn', 'spa17', 'defb126', 'ano1', 'pcyt1b', 'acot12', 'pim1', 'clvs2', 'map3k9', 'synpo', 'cfap44', 'fbxo16', 'hmga1', 'nxnl2', 'prrc2c', 'brdt', 'sema3f', 'cc2d2a', 'pramef20', 'ergic3', 'nt5c1b', 'rad1', 'pck2', 'agl', 'poln', 'pold4', 'stxbp6', 'jund', 'ttc28', 'tbc1d8b', 'metap1d', 'fbl', 'slc22a25', 'sap25', 'slc46a3', 'hoxa2', 'tsacc', 'tshr', 'gen1', 'shisa3', 'dolk', 'slc25a14', 'gypa', 'tbx6', 'ppp4r3a', 'mgarp', 'cdk13', 'or14a16', 'miga1', 'c1orf21', 'glud1', 'pth1r', 'smlr1', 'ucp2', 'pcdhb16', 'or2c1', 'fcgbp', 'mael', 'atp6v0d2', 'scgb2b2', 'arl4a', 'tnfaip6', 'sema6d', 'rhoj', 'sdhaf1', 'foxred2', 'igsf9', 'kiaa1841', 'pcdhb14', 'ankk1', 'spg11', 'naga', 'fam9c', 'fam135b', 'brms1l', 'ptpro', 'xkr6', 'tsga10ip', 'slc5a11', 'cldn2', 'wdr64', 'pla2g4e', 'faxdc2', 'slc49a4', 'mefv', 'gja5', 'izumo4', 'mageb6b', 'rbm12', 'wdsub1', 'trnt1', 'tas2r38', 'hoxd11', 'tmem37', 'stat6', 'jcad', 'znf688', 'ppid', 'trim16', 'flvcr1', 'ikbke', 'amt', 'abcd3', 'sec61a1', 'hmgxb3', 'ulk2', 'ncdn', 'ptgdr', 'ca5b', 'or10ad1', 'cmklr1', 'tnfrsf14', 'lrrc9', 'matn1', 'themis2', 'rassf5', 'znf723', 'or51s1', 'zc3h12c', 'aars2', 'rtn4ip1', 'phb2', 'ushbp1', 'ch25h', 'myrip', 'azgp1', 'ddc', 'znf416', 'ctdsp2', 'lig4', 'trim55', 'foxa3', 'sec14l2', 'thbs4', 'miip', 'ssh2', 'tcp1', 'sh3bgrl', 'golga6l6', 'znf79', 'ripor3', 'ctxnd2', 'znf343', 'adamtsl2', 'pi15', 'tas2r7', 'cuzd1', 'or6m1', 'lama2', 'mppe1', 'bmp8b', 'ctrc', 'prep', 'znf14', 'ccdc184', 'hyal1', 'gcnt1', 'fxn', 'ttc9c', 'igfbp3', 'serpina10', 'znf283', 'chaf1b', 'or5k3', 'chrm1', 'spryd3', 'kpnb1', 'siglec8', 'rnf113a', 'sdk1', 'fmo1', 'mroh9', 'ybx2', 'glis3', 'igf2bp2', 'msh2', 'ptcra', 'pnpla5', 'or2a14', 'ufm1', 'kmt2a', 'eml6', 'znf37a', 'ccnyl1', 'tedc2', 'map3k10', 'tcfl5', 'vsig2', 'slc17a8', 'gpbar1', 'glmn', 'adgrg5', 'bpnt1', 'aspscr1', 'hapln1', 'ppt2', 'ncs1', 'kcnt1', 'atxn10', 'hs6st2', 'serpinb13', 'mettl25', 'polr2e', 'sinhcaf', 'cables1', 'mageb16', 'cldn24', 'parp6', 'kcnj3', 'bank1', 'magix', 'gask1a', 'rpp38', 'neto2', 'mal2', 'tpd52l3', 'spem3', 'slc50a1', 'lrp1b', 'cacnb3', 'ormdl1', 'mrgprg', 'msl1', 'selenow', 'unc5c', 'ffar3', 'slc39a10', 'tdg', 'plaat3', 'dimt1', 'sema5a', 'slc27a5', 'hmgn3', 'fcgr2b', 'gosr1', 'ubash3b', 'apoc4', 'pdss1', 'odf3', 'tmem35b', 'ramp1', 'sgcz', 'mterf3', 'klhl28', 'lmcd1', 'insc', 'tmem97', 'c18orf54', 'st13', 'actb', 'egr3', 'stbd1', 'mcm9', 'spred1', 'stox2', 'c6orf141', 'bhmt2', 'adamtsl4', 'tmtc2', 'med7', 'raet1g', 'chac1', 'ino80c', 'calr3', 'cpt1b', 'hk2', 'cpsf4', 'tuft1', 'duoxa2', 'ncbp2', 'ttc36', 'erg28', 'fam205a', 'lrrc39', 'scp2d1', 'bicd2', 'magea9b', 'krtap20-2', 'bivm', 'mpc1l', 'npbwr2', 'kpna3', 'tm2d3', 'vsx2', 'hr', 'znf706', 'or56b4', 'chchd6', 'ubb', 'hoxa10', 'cited4', 'trim58', 'bhlhe23', 'ankrd36', 'lmna', 'msrb1', 'ino80', 'c19orf54', 'ifitm5', 'hspb2', 'nlrp6', 'etfbkmt', 'c2orf69', 'ube2a', 'pde7b', 'or52e8', 'trappc12', 'slc27a2', 'pdpk1', 'cx3cl1', 'camk2b', 'mtor', 'nup155', 'spdl1', 'fbp1', 'eif3g', 'maob', 'zdhhc16', 'bcan', 'epha4', 'tcerg1', 'wbp11', 'sh3d19', 'hmgn5', 'cfhr3', 'glb1l', 'rftn2', 'adamts12', 'lgalsl', 'znf829', 'polr3e', 'pde12', 'pcdhb4', 'nfkbid', 'gse1', 'epn3', 'tmem51', 'sft2d3', 'mycbpap', 'ttc26', 'mettl21a', 'dio1', 'ca8', 'nutm2e', 'tex47', 'sars2', 'kaag1', 'gnly', 'ptgir', 'tmem256', 'cacna1d', 'snai3', 'aasdhppt', 'tirap', 'synpr', 'stat3', 'or51b6', 'scin', 'rgs18', 'fam9a', 'gngt1', 'cct3', 'znf587b', 'c19orf81', 'cttnbp2nl', 'stom', 'irs1', 'znf707', 'tut7', 'fsip1', 'prf1', 'pdrg1', 'lhb', 'ndufa2', 'etv3l', 'znf808', 'ift140', 'hsdl1', 'tmem184c', 'klrb1', 'galnt3', 'or5bs1p', 'pgf', 'alk', 'naxd', 'znf600', 'yipf4', 'snx2', 'pmm1', 'srsf1', 'basp1', 'pcdh19', 'asip', 'crtc3', 'jpt2', 'tekt2', 'fbxl4', 'atg2a', 'ttll8', 'alms1', 'mos', 'asap1', 'siae', 'cdkn2c', 'nudcd3', 'asic1', 'slc25a23', 'ldhal6a', 'l3mbtl4', 'slc6a5', 'abhd14a', 'trmt10b', 'nudt1', 'prkcz', 'serpinb3', 'pcgf3', 'spint4', 'diras3', 'tmem179b', 'lyve1', 'fbxl22', 'gpr171', 'clic1', 'il1rl1', 'nol4l', 'kcnh4', 'spink13', 'mt-nd4l', 'git2', 'lyplal1', 'papolg', 'cxcl1', 'adra1a', 'or8b8', 'nptx1', 'c12orf43', 'itga5', 'mcur1', 'efhb', 'grm5', 'cfl2', 'dnaja4', 'tle6', 'lilrb1', 'cpne8', 'il1rapl2', 'lcorl', 'atp4a', 'adamts10', 'ehd2', 'xpo7', 'hspa13', 'trim52', 'hoxa3', 'prdx6', 'or1l8', 'arrdc2', 'krtap19-5', 'simc1', 'cox4i1', 'prdm1', 'ets1', 'tmem179', 'slc7a7', 'fmnl3', 'stag2', 'got1', 'acot4', 'spag6', 'cxcr4', 'slc26a6', 'zfp82', 'ctsa', 'stx6', 'ubr3', 'nop16', 'tmsb15a', 'serpine3', 'fam240c', 'or51g2', 'lce3d', 'pdgfc', 'crim1', 'phospho2', 'defb108b', 'pxn', 'or4k15', 'matk', 'chchd4', 'upk1b', 'eaf1', 'adamts13', 'clec4d', 'mcoln3', 'hrh3', 'mxi1', 'krt25', 'plcd3', 'piga', 'zbtb41', 'bcl9l', 'olfml2a', 'lsp1', 'dmrta1', 'or4c16', 'znf844', 'aph1b', 'ppp2ca', 'nagk', 'cldn17', 'clns1a', 'wnt3', 'mcm10', 'lcnl1', 'znf143', 'ivns1abp', 'enah', 'pcnx2', 'anxa10', 'aoc3', 'greb1', 'plac1', 'mcc', 'muc4', 'ttbk2', 'rsad1', 'csde1', 'mrm2', 'pcdh8', 'avpr2', 'ubac1', 'pef1', 'tns4', 'htr3d', 'dpysl5', 'psma2', 'fam171a2', 'bcap29', 'fbxo28', 'slc25a22', 'spib', 'hapln4', 'baz1a', 'hoxb3', 'znf836', 'zfp42', 'ripor2', 'amelx', 'usp17l15', 'tmem248', 'cacng2', 'elp1', 'abcb10', 'lrrtm4', 'frs3', 'pask', 'dhx58', 'nop2', 'ncoa1', 'evi5', 'ly6e', 'tas1r2', 'scly', 'prss57', 'inpp5f', 'gpr1', 'defb136', 'anapc5', 'mtmr1', 'mettl6', 'dapk1', 'ldhd', 'hjurp', 'gpr61', 'scd5', 'hnrnpl', 'gipr', 'ankrd6', 'tbc1d5', 'spaca7', 'arrdc4', 'rnls', 'chrdl2', 'tcf15', 'dcaf6', 'klhl40', 'numbl', 'tomm22', 'ppp1r2c', 'enam', 'fry', 'ppbp', 'yae1', 'cwc27', 'si', 'nop56', 'yy2', 'synrg', 'ctsc', 'znf45', 'sgpp2', 'cul3', 'erich6', 'lyrm7', 'rsph3', 'ccdc183', 'snrnp25', 'pdilt', 'samd4b', 'ccdc181', 'or52n1', 'htr1f', 'foxs1', 'vkorc1l1', 'wfdc8', 'entpd5', 'prxl2a', 'tppp3', 'gins2', 'znf609', 'traip', 'msx1', 'cntnap3b', 'zpbp2', 'rhpn2', 'zbed1', 'tigit', 'muc1', 'gli2', 'slc14a2', 'lmnb2', 'or6c3', 'tmed1', 'ceacam16', 'sult1b1', 'stk19', 'kif15', 'cdk4', 'rgcc', 'hspb6', 'shroom2', 'riok1', 'cnksr3', 'tigd7', 'zbbx', 'cldn7', 'blvrb', 'lce2a', 'ppia', 'spata20', 'ormdl2', 'psme1', 'abcb5', 'vps33b', 'catsper2', 'scygr8', 'glo1', 'c16orf89', 'xkrx', 'galm', 'kiaa1143', 'gtf2e1', 'sapcd1', 'ebf3', 'slpi', 'icos', 'dppa3', 'tceal5', 'mlx', 'zbtb9', 'atp11a', 'gpank1', 'prok1', 's100a16', 'aspg', 'adipor1', 'arrb2', 'mob1b', 'arhgef28', 'pdcl2', 'slc25a6', 'lamtor3', 'bzw1', 'efcab11', 'cdipt', 'cpz', 'tgm7', 'dnajc30', 'pramef18', 'lyzl1', 'or1e1', 'gmppb', 'cyp2a6', 'pknox2', 'samd15', 'esyt1', 'tff2', 'pten', 'ankmy1', 'cdk5', 'or2l13', 'dph7', 'snx25', 'zswim9', 'ecd', 'znf564', 'ppm1f', 'tmem114', 'alg5', 'ssx7', 'spegnb', 'nkiras1', 'cdc16', 'tmem127', 'alb', 'svop', 'arhgap10', 'spryd7', 'chp2', 'plcb2', 'pla2g7', 'msantd4', 'enkd1', 'c11orf65', 'myom1', 'shq1', 'lrrc18', 'pnlip', 'edf1', 'ca7', 'ccdc92', 'c11orf1', 'arhgap1', 'gcna', 'ghsr', 'spdye5', 'thsd1', 'nek8', 'ccdc71l', 'itgb1bp1', 'epha5', 'sirt5', 'znf317', 'vrk2', 'enpp5', 'cby3', 'gabarap', 'spag5', 'krt77', 'hibadh', 'dbf4', 'bud13', 'tet2', 'cdhr1', 'nae1', 'rcl1', 'furin', 'ctrb1', 'tead4', 'spry2', 'uxs1', 'ankrd29', 'abca7', 'phf1', 'vhll', 'pllp', 'me3', 'krtap4-5', 'cep162', 'rbm48', 'pou1f1', 'nostrin', 'c5orf47', 'slc37a2', 'atxn1l', 'ptpa', 'f9', 'ctss', 'cdkl2', 'naa50', 'atat1', 'rassf9', 'plekhj1', 'znf526', 'klhdc3', 'zscan31', 'amtn', 'pgm3', 'art3', 'syt1', 'maneal', 'hpx', 'r3hdml', 'tmem81', 'abracl', 'blvra', 'idh2', 'suds3', 'myh4', 'ptprm', 'mapk11', 'nek10', 'magi2', 'panx3', 'gemin8', 'trappc3l', 'mt-cyb', 'colq', 'smarcd2', 'lactb', 'apcs', 'sh3tc2', 'mtm1', 'cpne9', 'mif', 'mb21d2', 'pycr1', 'rassf6', 'ecm1', 'bak1', 'smcr8', 'ceacam20', 'dhtkd1', 'clps', 'rtn2', 'letmd1', 'robo1', 'zyx', 'alpg', 'pnoc', 'nmrk1', 'ifi27l2', 'cxorf58', 'irx3', 'hint1', 'tmem176b', 'tcn1', 'alas1', 'celf5', 'tnfsf10', 'numb', 'cnnm2', 'or13f1', 'znf148', 'znf439', 'hadha', 'abra', 'osgin2', 'il17ra', 'mageb4', 'chrnd', 'strip1', 'gpr139', 'heatr6', 'henmt1', 'onecut3', 'espn', 'cyth1', 'vwa5a', 'zdhhc23', 'zscan1', 'nktr', 'trim14', 'slc7a6os', 'extl1', 'tmem41a', 'aass', 'caps', 'shank2', 'phf3', 'cth', 'aurkaip1', 'tmem128', 'rnf187', 'limd1', 'lcn1', 'tph2', 'rnase2', 'nxnl1', 'adm2', 'znf692', 'adam23', 'zmym1', 'fbxw12', 'pcdhb9', 'hyal4', 'foxd4', 'c9orf16', 'crhbp', 'tmem120b', 'xrn1', 'dyrk1b', 'pard3b', 'slc25a45', 'zswim8', 'ppp1r26', 'astn2', 'map2k1', 'ppp1r12b', 'mdm2', 'hspb8', 'kctd2', 'gnpda1', 'slc7a2', 'lgi3', 'cyba', 'cwc25', 'osbpl7', 'cacng5', 'hfm1', 'pgm1', 'fbxo41', 'nebl', 'ndc80', 'cfap298', 'kif21a', 'or2t4', 'gng11', 'znf773', 'cd74', 'pex11g', 'atp12a', 'hacd2', 'spice1', 'gpnmb', 'c17orf67', 'il26', 'uqcrb', 'gramd1a', 'clcn3', 'dcbld1', 'pstk', 'tubg1', 'znf800', 'h6pd', 'cdca5', 'hunk', 'vstm2l', 'lkaaear1', 'atp5f1c', 'maf', 'cyth2', 'cylc2', 'tm4sf18', 'fbxw11', 'znf26', 'tmem204', 'pcca', 'pcdhga11', 'eea1', 'lmf1', 'drd5', 'efhc1', 'kctd4', 'uqcr11', 'armc7', 'nudt17', 'pycard', 'mt-nd4', 'tesk1', 'col7a1', 'pdzd2', 'tmem91', 'pcna', 'trmt13', 'scg2', 'ccdc54', 'rptor', 'rfpl2', 'ctbs', 'phldb3', 'atp5f1d', 'oprl1', 'wdpcp', 'fam102a', 'nup37', 'commd10', 'fam241a', 'slc35a1', 'c12orf75', 'uroc1', 'arsd', 'rab35', 'ifna16', 'dmxl2', 'myo9b', 'grb14', 'clic5', 'dnal1', 'bean1', 'chst11', 'ankrd2', 'hcfc1', 'gcgr', 'rnaseh1', 'stk10', 'c6orf62', 'wdr62', 'trerf1', 'slc9a1', 'lrrc71', 'dcun1d4', 'tpst1', 'fcf1', 'tcea2', 'defb112', 'smim7', 'gsg1', 'nanogp8', 'grin2d', 'gpr160', 'serpind1', 'ambp', 'or51e1', 'fbxo46', 'fcrlb', 'gabbr1', 'ptprg', 'cox14', 'sohlh2', 'colgalt1', 'gtf3c3', 'znf782', 'morf4l2', 'ankrd44', 'mthfd2', 'tm4sf5', 'fech', 'kif4a', 'cep85l', 'fut7', 'znf621', 'lipm', 'c2orf72', 'mettl18', 'clcc1', 'reep1', 'gsg1l', 'fhad1', 'rassf7', 'ube3c', 'ilvbl', 'bcl9', 'slc3a2', 'nxph3', 'pudp', 'vnn3', 'hikeshi', 'dock7', 'znf778', 'txnrd3', 'eogt', 'zbtb24', 'ephx3', 'lin7b', 'gdpd5', 'fibcd1', 'scrn2', 'bcl7a', 'prxl2c', 'mas1l', 'scaf8', 'or7g1', 'gstt4', 'rmdn3', 'cfap221', 'dipk2b', 'zswim2', 'syde1', 'heatr9', 'cldn19', 'tex38', 'spo11', 'samm50', 'brinp2', 'klhl41', 'kcnj15', 'herc6', 'slc1a7', 'clec1b', 'dctn2', 'or2ag2', 'il12rb2', 'cmpk2', 'pomc', 'champ1', 'znf48', 'zadh2', 'tmem238', 'utp11', 'spata31a5', 'ros1', 'ccno', 'sh3glb1', 'sptbn2', 'rab40b', 'tceanc2', 'rnf121', 'htr1e', 'tex2', 'prr19', 'rxrg', 'lrrc37b', 'ssc4d', 'scgb1c2', 'gpr149', 'sh3bp2', 'dazl', 'stard5', 'hspa1a', 'mccc1', 'slc6a7', 'itgb1bp2', 'or10g4', 'ube3a', 'coprs', 'myl12b', 'ppp3cc', 'stmn1', 'atp6v1b2', 'ing1', 'neb', 'muc6', 'magee1', 'pim2', 'surf2', 'stk31', 'smad6', 'xpo1', 'pon1', 'fam167a', 'fbxl5', 'rhoc', 'npy', 'zbtb42', 'dclk2', 'cdhr5', 'adgre3', 'znf667', 'dhh', 'herc4', 'med29', 'or2l3', 'caap1', 'cbx2', 'tmc5', 'spata9', 'cdh6', 'slc16a6', 'gmpr', 'rgs10', 'lat', 'cacna2d4', 'spesp1', 'coa3', 'rnf213', 'cd5', 'taf9b', 'hsbp1l1', 'ptpn14', 'wipf2', 'runx1', 'exoc3', 'acmsd', 'sptlc2', 'phf23', 'enosf1', 'dynlt3', 'ibsp', 'znf326', 'ldb2', 'mki67', 'b4galnt2', 'pcdhac1', 'psmd12', 'nipsnap3a', 'dtx3', 'c1galt1c1l', 'pigg', 'rfpl4al1', 'cables2', 'dusp28', 'lyn', 'krtap11-1', 'rbmxl1', 'mkrn2', 'tdrd9', 'ric8a', 'trmt44', 'rd3', 'sec24b', 'tmem161b', 'taar1', 'gsap', 'nbeal1', 'tbc1d31', 'psma1', 'aida', 'lrit2', 'st6gal2', 'flrt2', 'bend3', 'ms4a2', 'fam181a', 'abcb4', 'tagln3', 'rab26', 'gadl1', 'sik3', 'bnip2', 'znf517', 'nrxn1', 'snx19', 'rbm39', 'adra1d', 'rrbp1', 'gfap', 'taf7l', 'ndufv3', 'rnpc3', 'pttg1ip', 'cxxc4', 'bckdhb', 'preb', 'ifnar1', 'hcls1', 'id4', 'sez6l', 'pafah2', 'med13l', 'aldh1a1', 'tmem43', 'irf2bp1', 'stc1', 'kntc1', 'klk11', 'cdh16', 'ints3', 'faap24', 'capn8', 's100a3', 'hnrnpdl', 'tdrp', 'mzb1', 'inafm2', 'spata17', 'rprml', 'exoc7', 'or10a6', 'med25', 'gpr182', 'sohlh1', 'jade1', 'znf589', 'tpm2', 'ahr', 'utp15', 'rorb', 'vipr1', 'gmds', 'med21', 'rasl11b', 'slc25a29', 'plod1', 'vegfc', 'slc13a2', 'nat9', 'cyb5r3', 'lrrc10', 'wdr6', 'acp4', 'gusb', 'nek9', 'dbf4b', 'dio2', 'spanxn5', 'pglyrp4', 'ube2h', 'zxdb', 'actn1', 'bdh1', 'slco1b1', 'hexim1', 'ovol1', 'msto1', 'wnt10a', 'pcdhb13', 'cgnl1', 'cc2d1b', 'cela2b', 'nipbl', 'cul1', 'itgbl1', 'rundc3a', 'klrc1', 'lrig2', 'aurkb', 'fli1', 'abcf3', 'kcnf1', 'dynlrb1', 'ppp2r2c', 'ly6g6c', 'gphb5', 'stat1', 'rnf25', 'clk1', 'smpd1', 'ppme1', 'oc90', 'fam98a', 'stard7', 'tlr6', 'fabp2', 'kdm4d', 'znf646', 'amely', 'pparg', 'vwc2', 'ncor1', 'calhm1', 'men1', 'pcsk6', 'dact2', 'pdc', 'ints8', 'eya1', 'poll', 'inf2', 'slc9a6', 'cfhr5', 'mep1b', 'unc93a', 'zbtb18', 'gpr17', 'ccdc3', 'bco2', 'surf1', 'dcaf12l2', 'scn11a', 'eef1aknmt', 'ecel1', 'usp33', 'cilp', 'or10z1', 'bik', 'supt16h', 'foxn2', 'aup1', 'nr3c1', 'dnajb2', 'tnks1bp1', 'vsig10', 'spock2', 'rnd3', 'magoh', 'cst3', 'pou4f1', 'naa20', 'tmem100', 'c3orf52', 'trpv5', 'yme1l1', 'ptgds', 'senp5', 'grtp1', 'psmg2', 'prkg2', 'tcf21', 'pigc', 'kctd1', 'tnip2', 'plekhg6', 'tnfaip8l2', 'catsper4', 'nrp1', 'lrp3', 'klln', 'tnrc18', 'rgl2', 'dedd', 'znf605', 'usp6nl', 'or5l1', 'rfk', 'prkacb', 'lurap1l', 'qrfp', 'dnmt3b', 'mdh1', 'fam216b', 'prss33', 'kdf1', 'slc22a1', 'kiaa1217', 'herpud2', 'prdm4', 'frmd4a', 'siglec15', 'psg3', 'napb', 'bace2', 'fndc8', 'eddm13', 'fnbp1', 'tspan31', 'fank1', 'tmem230', 'cpa1', 'znf747', 'mthfd1l', 'gdf9', 'wnt16', 'mterf2', 'brs3', 'arcn1', 'hspa4', 'cacna1g', 'napg', 'znf804b', 'wdr5', 'paep', 'slc4a1ap', 'homer2', 'adprhl1', 'prtn3', 'cachd1', 'rerg', 'coq10a', 'ccn4', 'hoxd12', 'sgtb', 'nabp2', 'tango6', 'eda2r', 'anxa3', 'slc35b2', 'izumo1r', 'ifngr1', 'kdm4e', 'scn7a', 'pik3ap1', 'ints12', 'ndufb8', 'znf236', 'lmbr1', 'yy1ap1', 'c2orf73', 'znf879', 'numa1', 'asic2', 'cd40lg', 'fkrp', 'c9orf85', 'igip', 'mtf1', 'clip4', 'vit', 'tex48', 'glt6d1', 'aen', 'klhl24', 'ythdc1', 'mink1', 'ccbe1', 'lrrk2', 'gtf3c1', 'ccdc115', 'muc17', 'ccdc154', 'bcl2l15', 'rnf133', 'c3', 'csnk1g1', 'iffo1', 'cul9', 'akap7', 'fnta', 'dnai1', 'rab12', 'polr3d', 'defb134', 'rad54l2', 'slc16a13', 'cabcoco1', 'pcbp2', 'epn2', 'u2af1l4', 'c4orf46', 'nr2c2ap', 'yrdc', 'or2d3', 'nsl1', 'prkg1', 'sipa1', 'rsph1', 'erp27', 'slc13a5', 'or6c1', 'cramp1', 'tle7', 'tmem202', 'trim5', 'upf3a', 'capn2', 'vasp', 'spdya', 'dhrsx', 'eif2b4', 'cd1d', 'rnaseh2a', 'asah2', 'abraxas2', 'igf1r', 'ddt', 'tppp', 'ezh1', 'nek2', 'rasa3', 'pcdhb11', 'pcdha4', 'il1rap', 'snapc1', 'lrrc30', 'lce1b', 'foxg1', 'klhl2', 'cryba2', 'myh3', 'mpdz', 'pcdha6', 'lhfpl3', 'fam177a1', 'nova2', 'mast2', 'chrng', 'phactr1', 'amigo2', 'plekhh2', 'efna5', 'slco5a1', 'ccdc197', 'eif4enif1', 'cd200r1l', 'ythdc2', 'nhp2', 'parg', 'hmgxb4', 'dph3', 'fbxo38', 'gcnt7', 'klf10', 'fmo3', 'cdh12', 'wdr18', 'map4k1', 'ggact', 'ppp4r3b', 'nr5a1', 'slc22a11', 'taf15', 'fxyd2', 'dcaf4', 'ptbp3', 'mzf1', 'znf131', 'hrk', 'tmem184b', 'zbtb16', 'nbpf19', 'tada2a', 'fancg', 'eci2', 'apeh', 'lhx2', 'osr2', 'rc3h1', 'irx5', 'pacc1', 'magea1', 'fga', 'or5d14', 'purg', 'aebp2', 'or4a47', 'cyp4a11', 'crebl2', 'tmprss4', 'pyroxd1', 'krtap10-2', 'pnma6f', 'tmem207', 'usp38', 'tpgs2', 'nek7', 'ccdc70', 'cdh19', 'tyrobp', 'card14', 'kcnk15', 'smpd4', 'myf5', 'plac9', 'aoah', 'chd9', 'opa3', 'sh3gl1', 'fdcsp', 'sec22c', 'pabpc4l', 'slc22a3', 'abcg5', 'pithd1', 'corin', 'cend1', 'hacd4', 'prdm5', 'usb1', 'tspan18', 'slc16a5', 'cep170', 'cdk5r1', 'gpatch11', 'cdan1', 'has3', 'bbs1', 'tet3', 'sipa1l3', 'treml4', 'eif1', 'csnk1e', 'mybpc1', 'tmem69', 'fam133a', 'acss3', 'tnmd', 'popdc2', 'exoc3l2', 'rnase11', 'tgm5', 'ube2q2', 'podxl2', 'aph1a', 'ldb1', 'exph5', 'sbk3', 'pde6c', 'fam81b', 'cdc23', 'nlrp1', 'krtap5-9', 'map2k3', 'htr5a', 'gtsf1l', 'fam124a', 'pcdhb12', 'atf3', 'fyn', 'pus7l', 'slc5a2', 'slc30a3', 'sim1', 'slc35a4', 'c2cd3', 'setd4', 'aard', 'surf4', 'cwc15', 'dpp4', 'sfr1', 'alpp', 'erbb2', 'klhl25', 'smc1b', 'rep15', 'rbm23', 'ggt7', 'cxcl9', 'grin1', 'kcnq1', 'dennd5b', 'gpr85', 'nfatc2', 'avpr1b', 'bahd1', 'mfsd5', 'arhgap9', 'inpp5j', 'prxl2b', 'mkrn2os', 'cfap299', 'pex7', 'or13c3', 'hint2', 'rnf208', 'dleu7', 'abcd2', 'znf488', 'ubr7', 'ncstn', 'trib2', 'setmar', 'bmi1', 'st8sia1', 'tapt1', 'gprin1', 'serpinb7', 'nck1', 'lamp1', 'hnf1b', 'psg6', 'foxa2', 'cdo1', 'uggt2', 'ttll7', 'fstl5', 'esm1', 'pex11b', 'smim3', 'kdelr2', 'gng5', 'htr3c', 'usp31', 'cox7b2', 'ddx60', 'gsto2', 'tacc2', 'slc36a2', 'lcp1', 'aadacl4', 'psen2', 'galr3', 'zdhhc22', 'foxj1', 'crybb1', 'cul2', 'stpg3', 'thbs3', 'igfbp4', 'myl7', 'pes1', 'pick1', 'nup153', 'grik3', 'chek1', 'klf11', 'col6a2', 'grpel1', 'ccdc196', 'hmgb4', 'exosc2', 'plrg1', 'thumpd3', 'znf107', 'shpk', 'abhd5', 'rtn4rl2', 'cln5', 'fam214a', 'plekhg4', 'c20orf194', 'ep300', 'zdhhc12', 'grk2', 'gmcl1', 'c10orf90', 'cd1e', 'ak6', 'efhc2', 'lrrn4cl', 'sit1', 'stx3', 'fbxo7', 'otud6b', 'birc2', 'stoml1', 'atp6v0d1', 'cdkal1', 'etfb', 'nt5dc1', 'aldh3a2', 'krt27', 'pou2f2', 'cabp5', 'f2', 'map4k5', 'ints10', 'nt5c2', 'chrfam7a', 'grpr', 'psma3', 'myct1', 'ifi30', 'or5b2', 'vapb', 'sike1', 'csn1s1', 'asb9', 'fgd2', 'erich5', 'sult1e1', 'prima1', 'zxda', 'zdhhc24', 'eed', 'haus1', 'slc9a9', 'zcchc12', 'lrrn4', 'crybg1', 'itgb2', 'cyp11b2', 'farp1', 'dnajc5', 'il2', 'anxa4', 'slc36a3', 'pcm1', 'hnrnph3', 'tmem270', 'cnpy2', 'gstk1', 'sdad1', 'fam53b', 'slc10a7', 'pgap2', 'fem1a', 'ift22', 'rbak', 'erlin2', 'vps26a', 'klf4', 'togaram2', 'mturn', 'sec24c', 'gap43', 'fut1', 'zfx', 'znf367', 'cltrn', 'or1s1', 'ppp1r8', 'fermt1', 'c1orf159', 'cpne1', 'trib3', 'fam13b', 'tmem185b', 'epha6', 'slc39a5', 'nck2', 'yars2', 'itm2a', 'sidt2', 'zg16', 'arhgap23', 'rad23a', 'chst12', 'slc16a3', 'ccin', 'adamts6', 'mvp', 'zfp41', 'krtap4-4', 'camta2', 'tmx2', 'bcl2a1', 'frmd7', 'prmt5', 'lyzl6', 'igfl1', 'nono', 'ccnt2', 'anks1a', 'tgfb3', 'hccs', 'dpy19l3', 'oosp2', 'stra6', 'sar1b', 'psip1', 'rgs4', 'prkdc', 'rnf224', 'ccl13', 'nup62cl', 'gabrp', 'znf714', 'or8k3', 'arfrp1', 'sord', 'dnase2', 'or1q1', 'il25', 'nfxl1', 'col23a1', 'kif23', 'ddx51', 'znf735', 'znf729', 'dhx38', 'thumpd2', 'irak2', 'tor1b', 'slc6a4', 'nova1', 'nr2e1', 'elovl3', 'asb4', 'slc19a3', 'eif3b', 'c5orf22', 'iqca1l', 'slc38a10', 'hcrtr1', 'ube2e2', 'zbtb22', 'efr3a', 'nedd9', 'bfar', 'tnfrsf11a', 'or1n2', 'gab3', 'tlr10', 'btbd10', 'begain', 'hbq1', 'sez6l2', 'arid3c', 'rasl12', 'nin', 'vsig8', 'or8u1', 'islr2', 'aoc2', 'rnd2', 'ndufaf2', 'lrmda', 'tmprss5', 'slc36a4', 'cks2', 'tnfrsf9', 'exosc1', 'rfx7', 'ly6g6f', 'pax9', 'urb2', 'plpp5', 's1pr2', 'ccdc191', 'hspg2', 'zswim6', 'c7orf57', 'ifit5', 'krit1', 'krtap5-5', 'slc8a3', 'cd79a', 'mip', 'lpin3', 'c12orf29', 'derl2', 'tbc1d3b', 'uqcrhl', 'smarca2', 'hps5', 'epb41l4b', 'rilpl1', 'ms4a13', 'p2ry2', 'cox7b', 'atad2', 'ptgr1', 'lefty2', 'crym', 'ifna14', 'relch', 'prr7', 'fut11', 'fam83e', 'serac1', 'txnrd2', 'lmtk3', 'dtna', 'vps13c', 'cpvl', 'vav1', 'gpatch2l', 'cd1b', 'gsdmd', 'oxsm', 'dnaaf2', 'slc38a3', 'lsmem2', 'dhx40', 'spen', 'acsl1', 'evi2b', 'smim6', 'dhps', 'npr3', 'tfap2a', 'ido1', 'angpt1', 'nrbf2', 'pigs', 'tex101', 'vsig10l', 'znf703', 'dmxl1', 'fam189a2', 'tmem199', 'tulp2', 'adcyap1', 'slc45a1', 'shisa2', 'myl6', 'lrch1', 'efemp2', 'scnn1g', 'sh2d4b', 'tvp23c', 'cd72', 'erh', 'aste1', 'cox16', 'kif24', 'robo3', 'cdh5', 'asz1', 'pdha1', 'pdcd1lg2', 'tinag', 'spata2', 'cdv3', 'nudt13', 'znf442', 'dhrs3', 'dnah8', 'mpl', 'prokr1', 'ncl', 'cdk19', 'lnp1', 'veph1', 'c22orf31', 'or4a15', 'rab8b', 'znf720', 'kifap3', 'prom1', 'mroh6', 'timp4', 'znrf2', 'rasl10b', 'ankrd34b', 'trmt10c', 'krtap12-3', 'aamdc', 'calhm4', 'sf3b6', 'vstm2a', 'znf700', 'dip2a', 'ring1', 'tbx10', 'hoxb1', 'ppil6', 'znf483', 'foxd1', 'vta1', 'btc', 'nts', 'opcml', 'b3gnt3', 'lsm12', 'cst5', 'snx4', 'fnbp1l', 'tox2', 'ywhab', 'rhoh', 'togaram1', 'epb41l5', 'lair1', 'fcamr', 'slc26a4', 'wipi1', 'dprx', 'rflnb', 'or4s2', 'sptb', 'slc25a12', 'spcs3', 'syngr1', 'c7orf50', 'cckar', 'rtp1', 'or13d1', 'hcar1', 'rmi2', 'marco', 'ctc1', 'cog3', 'tsr1', 'strn4', 'syngr4', 'il2rg', 'reg1b', 'slc25a19', 'ndufa5', 'ntan1', 'muc22', 'agfg2', 'spdef', 'pcdhga7', 'fat3', 'rgmb', 'wfdc1', 'col19a1', 'mto1', 'polr2h', 'ptgs2', 'fah', 'prrg4', 'hal', 'spns3', 'imp4', 'dennd2d', 'sec23ip', 'npas4', 'ccdc33', 'tmprss11d', 'dgat2l6', 'ddit3', 'prickle1', 'vegfd', 'dus1l', 'baiap2l2', 'slc16a10', 'spon2', 'gpa33', 'rnf183', 'icam2', 'nrde2', 'glod4', 'ak7', 'gapdhs', 'cdkl5', 'lrp8', 'ncapd2', 'or2c3', 'lipa', 'srsf10', 'krtap19-8', 'sh2d4a', 'gadd45g', 'nudcd1', 'tnfrsf10b', 'rara', 'tgm2', 'spn', 'sik2', 'ppp1r18', 'st6galnac4', 'nrg2', 'spon1', 'mettl9', 'hint3', 'lipt2', 'tubb4b', 'adnp2', 'eif2s1', 'gpr107', 'prpf3', 'mgmt', 'cnr2', 'pnpla8', 'timm23', 'tor1aip1', 'or51l1', 'fibin', 'lrr1', 'rbp2', 'c16orf72', 'adcy5', 'zfp64', 'sprr2f', 'ccni2', 'fam110d', 'opa1', 'plp2', 'cdc27', 'tmem192', 'or9i1', 'soga3', 'actr8', 'prrg1', 'adprh', 'fam32a', 'pacs2', 'ndufa7', 'dcaf12', 'edaradd', 'supt7l', 'spata31d1', 'tshb', 'emb', 'gnal', 'myo1f', 'or52w1', 'lpcat1', 'ube2b', 'mtmr12', 'arl2bp', 'azu1', 'col6a5', 'scyl2', 'hs3st6', 'slc10a4', 'zranb3', 'stard6', 'gpx3', 'ccdc192', 'tbl2', 'erbb3', 'nob1', 'or10a3', 'bmp10', 'yipf5', 'znf414', 'dhfr2', 'b4galt1', 'cbx3', 'ap3m1', 'ms4a6a', 'ccdc34', 'lilra5', 'dnm2', 'map1lc3a', 'fam185a', 'frmd3', 'esrp1', 'htra1', 'ghitm', 'akt3', 'ddx3x', 'tent5c', 'wars2', 'tnfsf12', 'tmem54', 'rmdn2', 'snip1', 'ccl15', 'rsbn1', 'fam90a26', 'znf552', 'pth', 'npipb15', 'ttll2', 'or1k1', 'dhrs9', 'fam170b', 'atp5mc3', 'mybpc3', 'fam131a', 'oard1', 'kazald1', 'rc3h2', 'aebp1', 'znf639', 'soat2', 'tmem18', 'ncoa2', 'rbm27', 'itpk1', 'znf66', 'atf5', 'emilin3', 'ppp4r2', 'fn3krp', 'snap23', 'cdc123', 'gabrg3', 'tle2', 'son', 'rhov', 'aplnr', 'kiaa2026', 'cemip2', 'ccs', 'slc6a15', 'uap1l1', 'apobr', 'col6a1', 'or7c1', 'gng8', 'dhcr7', 'cox6c', 'pla2g4a', 'znf430', 'brsk1', 'glrx2', 'ttc22', 'msln', 'mcrip1', 'slc27a3', 'xpo5', 'ilk', 'tcap', 'znf426', 'acoxl', 'angptl4', 'ppp3r1', 'galnt7', 'eapp', 'ahrr', 'fam167b', 'kiaa1191', 'gsc', 'tmem88', 'c19orf84', 'lif', 'or6c4', 'gpsm2', 'gemin6', 'odc1', 'dnah1', 'jakmip3', 'sav1', 'ofd1', 'apobec3h', 'tbc1d10c', 'gria2', 'asb11', 'mpc1', 'c1orf232', 'lyst', 'sod3', 'ccdc122', 'crocc', 'plcb1', 'trim34', 'ppp2r3b', 'marcksl1', 'myh8', 'fbxo2', 'mdfic2', 'ahi1', 'cdc6', 'mib2', 'anapc4', 'spata7', 'il20rb', 'mob3b', 'trim77', 'dus2', 'mtrf1l', 'tctn2', 'il12rb1', 'top1mt', 'gbp1', 'ro60', 'ldlrad4', 'irf3', 'acbd4', 'tnfrsf25', 'srsf11', 'nhlrc2', 'fam237a', 'gsta5', 'vma21', 'swap70', 'slc4a4', 'sec22b', 'glrb', 'sergef', 'lonrf3', 'uqcrq', 'ermard', 'stk40', 'nfe2l3', 'ankrd13d', 'emilin2', 'lsm1', 'csdc2', 'slc25a21', 'klc1', 'cog4', 'fat1', 'pdk1', 'os9', 'bet1', 'ankdd1a', 'ly96', 'c8orf33', 'taco1', 'pop4', 'dhx32', 'lrrc4c', 'fcrl2', 'tp53bp2', 'or52i2', 'nelfa', 'mylip', 'c21orf91', 'ccdc148', 'lct', 'card9', 'shmt1', 'pgbd4', 'linc00672', 'or13j1', 'kcna2', 'fut3', 'slu7', 'tppp2', 'cyp4a22', 'pde10a', 'cetn2', 'c17orf78', 'sorl1', 'sprn', 'anxa13', 'gper1', 'chuk', 'bccip', 'map3k2', 'arf1', 'myoz1', 'stap1', 'ccdc186', 'ano3', 'or6c75', 'snorc', 'ssu72', 'fzd10', 'ptk2', 'znf486', 'padi4', 'sema4d', 'gpr152', 'col21a1', 'trim64c', 'nbdy', 'igfbp5', 'elovl2', 'calcoco2', 'slc34a2', 'acbd5', 'usp6', 'marveld2', 'plgrkt', 'il1a', 'ciao3', 'vash1', 'pcid2', 'nfatc3', 'chfr', 'mtg2', 'mpst', 'shprh', 'ngrn', 'tlr3', 'kif25', 'fam124b', 'cnn1', 'sec22a', 'tgfbrap1', 'kif2a', 'midn', 'mageb6', 'mrgprx4', 'isyna1', 'znf565', 'tgs1', 'stk33', 'scel', 'orc3', 'tectb', 'mtpap', 'il1rapl1', 'il17rb', 'lta', 'ngdn', 'c9orf116', 'pwwp2b', 'tube1', 'dmbt1', 'asl', 'gng14', 'ovgp1', 'rnase6', 'ulk4', 'nrip1', 'tceal9', 'sp140l', 'inca1', 'ctage1', 'postn', 'smad4', 'lamtor1', 'slc7a5', 'gpr183', 'znf32', 'fam83d', 'ly86', 'znf184', 'trim6', 'rhno1', 'cxcl5', 'snx12', 'arfip2', 'obscn', 'ntf3', 'prorp', 'ovol2', 'gstp1', 'rbbp4', 'cd3g', 'rcor2', 'defb124', 'rfx2', 'flot2', 'snx7', 'scai', 'c16orf95', 'or10g2', 'atf1', 'ccdc172', 'proc', 'slc30a6', 'ebln2', 'cdc5l', 'atxn7l2', 'tph1', 'arr3', 'prpf38b', 'f3', 'crot', 'nacc2', 'slfn13', 'anxa5', 'tex46', 'or14c36', 'nemp2', 'golga3', 'dnaja2', 'cyb561d1', 'skil', 'trim44', 'angptl5', 'asxl3', 'cck', 'd2hgdh', 'mark4', 'larp4', 'atp6v1h', 'gxylt1', 'tnnt2', 'zfyve27', 'pitpna', 'kcnb1', 'trak2', 'gli1', 'snap29', 'c4orf17', 'myo1c', 'or2b6', 'creb3', 'api5', 'rpap2', 'hnrnpul2', 'gas2l3', 'slc12a4', 'mbp', 'mkks', 'mindy1', 'znf573', 'map2k7', 'znf215', 'acer1', 'tut1', 'ttc3', 'eif3h', 'scand1', 'adamts3', 'gdpd4', 'tex13b', 'zmat2', 'tecta', 'ptpn20', 'tifa', 'tbata', 'spire2', 'cdh15', 'trappc9', 'alx1', 'kantr', 'nipsnap1', 'gfi1b', 'dcaf1', 'snap25', 'htr7', 'slc25a53', 'csf1r', 'dbnl', 'iqsec3', 'ten1', 'kiaa0895l', 'wbp2nl', 'osbpl2', 'gna13', 'cybrd1', 'c1r', 'c1ql3', 'shtn1', 'aldh2', 'prr22', 'igfbpl1', 'fosl1', 'ranbp3l', 'rnf122', 'morn3', 'lrrc49', 'sumo2', 'zswim5', 'senp7', 'adam21', 'dhrs13', 'ccng2', 'kat6b', 'or5as1', 'bloc1s1', 'slc18a3', 'hmsd', 'mpz', 'ifna4', 'hmhb1', 'slc15a5', 'znf585b', 'emc10', 'vps26c', 'unc80', 'kiaa0232', 'tbk1', 'ankrd60', 'dip2b', 'leng8', 'zc3h7b', 'apool', 'kiss1', 'pou4f3', 'zc3h18', 'sgcg', 'sypl2', 'slc29a1', 'arl13b', 'mcee', 'cluap1', 'kcnk3', 'folr1', 'brix1', 'ube2e1', 'cap2', 'proser3', 'rnf167', 'get3', 'snf8', 'fbxl7', 'cxcr5', 'mbd3l1', 'med12', 'tbr1', 'gas2', 'dynlrb2', 'znf195', 'or4k14', 'rab5a', 'tmed4', 'or7c2', 'ttc4', 'znf669', 'fut4', 'carmil3', 'gcat', 'zkscan2', 'vdac3', 'tnnt3', 'dis3', 'itpa', 'zfp30', 'ccdc167', 'ess2', 'sap18', 'pla2g2f', 'slc6a8', 'klhdc8b', 'psd4', 'tiam2', 'topors', 'cnksr2', 'prdm8', 'usp45', 'whamm', 'theg', 'egln1', 'rhbdf2', 'casc3', 'or52k1', 's100a11', 'tek', 'nploc4', 'wfikkn2', 'dido1', 'elmo1', 'trim40', 'odaph', 'hsd17b11', 'txndc15', 'mxra8', 'atrnl1', 'cstl1', 'sdc4', 'esx1', 'pcif1', 'lratd1', 'tex33', 'pdf', 'dnaaf1', 'tuba1a', 'kcna3', 'hmgcr', 'cdc42se1', 'rfc5', 'mpdu1', 'mov10l1', 'draxin', 'rab7a', 'gdf5', 'setd9', 'fbxo34', 'adnp', 'hectd1', 'klhdc7a', 'dgkg', 'ccdc28b', 'sass6', 'c10orf105', 'abcc3', 'crem', 'lce4a', 'nrsn2', 'wdr33', 'or4s1', 'wfdc3', 'sfswap', 'clec12a', 'bpifa2', 'tmem30a', 'atp8b1', 'cdyl', 'baiap3', 'adam9', 'lamc2', 'mcm8', 'pla2g12a', 'fam47c', 'dll4', 'kiaa1586', 'camkmt', 'gpr148', 'ogg1', 'pls1', 'urm1', 'isl2', 'tlr8', 'mast1', 'gdi1', 'apoa4', 'arl15', 'zcwpw1', 'wnk1', 'slc45a3', 'inka1', 'drg2', 'igfl2', 'npipb2', 'znf547', 'dck', 'or5b21', 'srrm4', 'fancd2', 'sostdc1', 'znf354b', 'dcaf13', 'krt9', 'znf853', 'tal2', 'arl5c', 'rbm47', 'styk1', 'mtr', 'cd36', 'fancb', 'or10j1', 'or10k1', 'galk2', 'scgb3a1', 'pon3', 'fbxo24', 'ccdc30', 'actl8', 'mef2b', 'ado', 'reln', 'grsf1', 'atp6v1g1', 'tpcn2', 'cyp4f12', 'msantd3', 'il22', 'elovl4', 'ptgis', 'rbbp8nl', 'tmie', 'fcrl5', 'prpf8', 'ifi6', 'cnga3', 'mcm3ap', 'tank', 'zar1', 'galnt9', 'prmt9', 'med23', 'pgrmc2', 'mrln', 'eef1akmt2', 'irgq', 'snrnp27', 'fmr1nb', 'agrp', 'or4e1', 'lzts1', 'lsr', 'capn6', 'adra2a', 'or4k5', 'csrnp1', 'map4k4', 'or14a2', 'iqcf6', 'ermp1', 'apc', 'ly6g6e', 'ldah', 'slc39a12', 'tmed6', 'cnot11', 'psmg3', 'rusc2', 'lrig1', 'entpd6', 'xk', 'atp6v1a', 'josd2', 'herc2', 'lbhd2', 'clpsl2', 'ccdc116', 'bola1', 'rnf168', 'malrd1', 'cr1', 'rap1gap2', 'zzef1', 'nap1l2', 'noc3l', 'atp6v1g3', 'mob2', 'c12orf45', 'chek2', 'fmn2', 'slc16a2', 'ube2t', 'cps1', 'znf653', 'tnfaip8l1', 'gucd1', 'npy1r', 'edrf1', 'capn3', 'cad', 'atg12', 'fam174b', 'tmem141', 'znf462', 'cdc42bpg', 'rassf10', 'spag9', 'rab9a', 'potem', 'iyd', 'phka1', 'irf4', 'sos2', 'slc45a2', 'tmem17', 'entr1', 'arhgef12', 'cdon', 'rmi1', 'pus3', 'b3galt2', 'socs2', 'tsn', 'il16', 'gdpd3', 'zfp1', 'zswim7', 'isy1', 'oas2', 'trim9', 'apobec3g', 'bmerb1', 'rimbp3b', 'asb18', 'twnk', 'pgc', 'npc2', 'cox19', 'rcor1', 'or10g6', 'hhla2', 'liph', 'bag4', 'lmo4', 'zkscan4', 'tlr4', 'eya3', 'btnl8', 'zc3h7a', 'dkc1', 'tecpr1', 'riox1', 'ttc23', 'rwdd3', 'znf677', 'raph1', 'nhlrc3', 'gtf2h5', 'vamp1', 'pias1', 'defb1', 'atf6', 'tox4', 'wasf3', 'prr14l', 'atg3', 'kalrn', 'znf160', 'rest', 'ppp1r3d', 'slc35f4', 'pcmtd1', 'podnl1', 'cyp39a1', 'ppil2', 'ptprk', 'ephx2', 'dnmt3l', 'smim27', 'terf2', 'runx3', 'hand2', 'vtn', 'fcgr1a', 'tp53bp1', 'faah', 'gpr174', 'gtpbp4', 'krtap13-3', 'lyar', 'selenof', 'kiaa0825', 'pdlim7', 'mios', 'fam47e', 'cdca3', 'znf586', 'ppp1r3f', 'or5l2', 'bcorl1', 'exoc6', 'fuom', 'trpc4', 'pak1ip1', 'gdf11', 'pif1', 'rprd2', 'fam53c', 'c17orf49', 'trappc5', 'pqbp1', 'atp2b4', 'dppa5', 'oxer1', 'them4', 'fndc5', 'ficd', 'rnf17', 'psg11', 'kif16b', 'actc1', 'rspo1', 'rbm14', 'exoc3l1', 'rnf43', 'exoc2', 'acadm', 'thbs2', 'lat2', 'eri3', 'plekhb2', 'slc12a2', 'ubald1', 'mtrf1', 'mark2', 'hnrnpcl2', 'bsg', 'c1orf146', 'alx3', 'sult1c4', 'ddit4l', 'nefh', 'fancd2os', 'csta', 'bod1', 'wfdc12', 'gas2l2', 'hnrnpu', 'fezf1', 'pigx', 'ifnb1', 'timm10b', 'pdcd1', 'nemp1', 'kiaa1958', 'hoxc6', 'rimbp2', 'tfpt', 'csrp3', 'ccny', 'duoxa1', 'rnf165', 'dok3', 'capn5', 'cdc20b', 'inpp5e', 'grm4', 'nudt16l1', 'lrrc63', 'nsmaf', 'hspb11', 'spata21', 'lhx4', 'kctd9', 'madcam1', 'sart1', 'smim14', 'qrfpr', 'uchl3', 'fads6', 'c20orf144', 'nos1ap', 'efnb2', 'lpar3', 'lhx5', 'neo1', 'paxip1', 'ms4a6e', 'wipi2', 'snrpb2', 'mid1', 'pex5l', 'slc66a2', 'boll', 'glra3', 'azi2', 'prtfdc1', 'art5', 'lurap1', 'aimp2', 'nfkb1', 'grina', 'or8k5', 'ndufa3', 'atp9a', 'or7a5', 'uspl1', 'galnt16', 'sdf4', 'mageb1', 'ccdc127', 'nbpf3', 'atp2c1', 'lenep', 'ranbp9', 'neil2', 'syt12', 'arhgap27', 'prickle3', 'znf222', 'adh1c', 'cbln1', 'elk1', 'anapc1', 'or4a16', 'fbp2', 'zkscan3', 'triap1', 'hpr', 'calcb', 'pccb', 'cib1', 'angptl3', 'clca4', 'dok4', 'arhgap15', 'hoxd8', 'plscr2', 'hyal3', 'tfcp2l1', 'ndp', 'hmcn1', 'znf24', 'c4orf51', 'slc37a3', 'prox1', 'fastkd2', 'p4htm', 'dus3l', 'wnt11', 'atp6v1b1', 'arl10', 'gatd1', 'inpp4a', 'syngr2', 'or8i2', 'myod1', 'bscl2', 'spatc1l', 'nppc', 'rab33b', 'clk2', 'slc10a3', 'sgo1', 'lrrc38', 'prelid3a', 'faim', 'kmt5c', 'mt1e', 'rtp3', 'adrb3', 'pank2', 'fdxacb1', 'cd69', 'znf888', 'pde6h', 'brk1', 'fyco1', 'znf197', 'lrrc20', 'prkag1', 'mapk6', 'ciapin1', 'wfdc2', 'mbnl3', 'ambra1', 'ncr3', 'sage1', 'maml3', 'gja9', 'cavin1', 'cep83', 'actl9', 'usp3', 'ccdc137', 'adrb1', 'klrd1', 'tamm41', 'aldh3a1', 'znf835', 'cstf2', 'cntnap4', 'rnf130', 'enoph1', 'c4bpa', 'vwa8', 'atp6v1fnb', 'lyzl4', 'pla2r1', 'gramd2a', 'pgpep1l', 'cacng3', 'slc35a3', 'defb113', 'mecr', 'rnmt', 'fndc1', 'znf446', 'septin14', 'clec9a', 'prkci', 'gpr6', 'nom1', 'nek4', 'cpa5', 'mtus1', 'me2', 'fbxl12', 'rnf148', 'pltp', 'gprin2', 'msrb2', 'gpr45', 'znf654', 'plec', 'srgap1', 'mknk1', 'il1r1', 'dcun1d1', 'cryga', 'tiparp', 'gucy1a1', 'wwp2', 'pxmp4', 'pgd', 'pianp', 'tmem108', 'mpped2', 'hes4', 'wdr26', 'or5m3', 'b3gnt7', 'fmo5', 'krbox1', 'smg8', 'dnase1l1', 'tspan1', 'cenpw', 'myh15', 'pusl1', 'syt8', 'mln', 'thap6', 'fscn1', 'gtsf1', 'mmp17', 'patl2', 'ift43', 'tnk1', 'plin5', 'hsd17b4', 'dip2c', 'trim48', 'psg4', 'fer1l5', 'syt11', 'got1l1', 'celf4', 'cst8', 'sap30', 'znf738', 'cep250', 'krtap21-1', 'arhgef38', 'dcaf5', 'rcn2', 'taf11l14', 'cdc20', 'urod', 'ppp3cb', 'lamb1', 'fbxo44', 'oaz3', 'thpo', 'nup54', 'lrriq1', 'galc', 'fam83h', 'bysl', 'nubp2', 'med26', 'znf440', 'siglec1', 'rras', 'sfta2', 'ccnb3', 'zc3h12b', 'nisch', 'nhs', 'elk4', 'nuggc', 'sgf29', 'myo5a', 'znf878', 'gpx6', 'oxa1l', 'gch1', 'ugt1a5', 'lins1', 'bsn', 'or8h1', 'slc2a10', 'siva1', 'thap5', 'tacr2', 'scg5', 'cyp4v2', 'ikzf1', 'or5f1', 'slc32a1', 'krt40', 'smyd4', 'g6pc2', 'apom', 'auts2', 'dgkq', 'coq6', 'ankrd33', 'rnf10', 'kdm7a', 'pde1c', 'ap1s3', 'itgal', 'plxna2', 'ash2l', 'tm7sf2', 'tnfrsf10c', 'eif5b', 'syp', 'zfp62', 'ube2ql1', 'llcfc1', 'etnk1', 'pink1', 'pole', 'c11orf91', 'c2orf49', 'dsp', 'grpel2', 'akap9', 'znf407', 'ppargc1a', 'niban2', 'ccdc80', 'iqck', 'arhgef40', 'rbms1', 'gria1', 'ago2', 'c19orf38', 'trpc1', 'znf543', 'znf433', 'tmem45a', 'polr2l', 'phf14', 'armc3', 'cpxm2', 'trmt61a', 'lrrc57', 'atp5if1', 'clgn', 'shmt2', 'retreg3', 'plekhn1', 'gnai1', 'ascl2', 'mbd2', 'pla2g6', 'pkd1l3', 'rbm17', 'rad23b', 'tlcd3a', 'znf226', 'gpr146', 'ptgfr', 'frem2', 'eddm3b', 'txndc16', 'myadm', 'sec31b', 'slc38a5', 'rgs12', 'krtap6-2', 'hnrnpcl3', 'atp1a1', 'emg1', 'znf689', 'znf709', 'ttc12', 'chst8', 'rnf181', 'barx2', 'arl8a', 'pogk', 'pabpc1l2a', 'sell', 'rnf149', 'c1orf43', 'arid1a', 'rs1', 'emc2', 'nkain1', 'yipf3', 'tex261', 'c12orf65', 'ift122', 'vps8', 'rpap3', 'lyrm1', 'cldn18', 'tmem255b', 'slc31a1', 'lrp12', 'sct', 'pdgfb', 'c2orf74', 'runx1t1', 'rhoq', 'ier5', 'c10orf95', 'chrnb2', 'l3mbtl1', 'cct2', 'mtmr8', 'rtp4', 'kcnmb2', 'arl5b', 'vamp5', 'phyhipl', 'nsd3', 'zcchc24', 'or5m11', 'tifab', 'c3orf84', 'pdlim3', 'arpc1a', 'chst6', 'acbd6', 'cbx4', 'col11a2', 'agpat4', 'prkcd', 'krt73', 'psmb2', 'panx1', 'rcbtb2', 'hira', 'xage5', 'nedd4', 'lrg1', 'ctcf', 'clec4f', 'timm44', 'gage10', 'celsr2', 'atg2b', 'qprt', 'wwox', 'xaf1', 'pmaip1', 'vwde', 'klf2', 'asb1', 'mterf4', 'ip6k1', 'pnldc1', 'uqcc3', 'ncan', 'efcab2', 'camta1', 'trim43', 'med4', 'prpf6', 'ttll4', 'pts', 'ppp4r4', 'fam166b', 'rb1cc1', 'cyp8b1', 'fam131c', 'armh2', 'synj2', 'apbb2', 'ankrd50', 'tnnc1', 'ulk1', 'rgs8', 'ppp2r2a', 'krtap3-1', 'kif11', 'haus6', 'npepl1', 'rnf170', 'slc30a1', 'epcam', 'taf3', 'fn1', 'csf1', 'pak2', 'pi4k2b', 'atp6v1f', 'lysmd2', 'thap11', 'or10h5', 'psors1c1', 'tnk2', 'commd4', 'c9orf43', 'ltk', 'mt1m', 'tgm6', 'ndufb4', 'mbd3l2b', 'slc27a4', 'mrgprd', 'pdcd7', 'rnf220', 'gabrr2', 'hspa8', 'gage1', 'peli1', 'mphosph9', 'hcrtr2', 'itpka', 'maco1', 'taar2', 'foxk2', 'tdrd12', 'ifit1b', 'nms', 'ccl1', 'c10orf71', 'slain1', 'vps18', 'baz2b', 'cyb561', 'slx4ip', 'pik3r1', 'cnep1r1', 'crnn', 'btbd7', 'tmem163', 'rnf146', 'krt12', 'ipo4', 'becn1', 'accs', 'ccl4', 'dusp18', 'slc44a1', 'kcnj1', 'ptgs1', 'kcnk6', 'rfpl4a', 'rtkn2', 'iqch', 'tgm3', 'dmtn', 'pclaf', 'smim26', 'jrkl', 'smr3b', 'zpbp', 'thap1', 'tpd52l1', 'tmed5', 'zcchc2', 'tpp2', 'calhm3', 'nkap', 'znf461', 'trim39', 'ezh2', 'nkapl', 'prrt4', 'kdm3b', 'ankrd7', 'chm', 'sptlc3', 'sox15', 'dynap', 'itsn2', 'bcl2l11', 'adamts16', 'parp15', 'ogdh', 'c14orf132', 'mipol1', 'rnase1', 'ccr9', 'pak6', 'prkab2', 'wdr48', 'gab4', 'tmtc1', 'znf521', 'dus4l', 'ttc29', 'p3h1', 'lratd2', 'ddhd1', 'ankrd40', 'wdr37', 'tmem129', 'rarg', 'rpgr', 'tbc1d9', 'tmsb4y', 'akt2', 'itpkc', 'spam1', 'insm2', 'p3h4', 'serp2', 'a1cf', 'or1a1', 'dnah7', 'cntn6', 'ntsr2', 'ptpn11', 'dsc3', 'thap7', 'c1ql2', 'itch', 'bloc1s6', 'lamtor2', 'atg10', 'abt1', 'dym', 'ssmem1', 'cldn5', 'abcb7', 'bms1', 'wdr19', 'ppip5k1', 'pdzrn4', 'znf790', 'itga4', 'mtcp1', 'nfe2l1', 'trim38', 'nacad', 'slc28a2', 'ccl4l2', 'vps41', 'mal', 'rai1', 'leng1', 'rac3', 'wdr90', 'jmjd8', 'marcol', 'cela2a', 'ctdp1', 'usp51', 'slc10a6', 'trim35', 'plin3', 'psmb3', 'gpr32', 'apobec3a', 'uprt', 'sort1', 'arhgap39', 'tspan12', 'lrtm2', 'rhoxf2b', 'kmt2d', 'dhx30', 'lpar2', 'cript', 'pigl', 'napepld', 'snx15', 'krtap2-3', 'odf1', 'wscd2', 'cops8', 'ppp4r3c', 'fmo2', 'm1ap', 'krt23', 'adgra1', 'pax6', 'tmem196', 'kmt5b', 'pcdhgb6', 'lrrc53', 'abcg2', 'fto', 'gopc', 'or6a2', 'hmgcl', 'tchp', 'or2t8', 'zfpl1', 'ankrd54', 'aff4', 'amz1', 'smim17', 'upk2', 'arntl2', 'arhgap17', 'sox13', 'tsc2', 'dpep1', 'c15orf39', 'ssr4', 'trim45', 'golga5', 'ap1m1', 'clmn', 'pagr1', 'stk16', 'cmtm4', 'naalad2', 'dach1', 'cecr2', 'oprk1', 'ifnk', 'inhba', 'znf17', 'tspy1', 'c7orf31', 'lrrc75b', 'nek6', 'akr7a2', 'rhbdf1', 'styxl1', 'srrd', 'ankrd13b', 'ift27', 'proser1', 'dram1', 'tmem218', 'gcnt2', 'stab1', 'prr23c', 'rbm4b', 'znf266', 'znf839', 'knstrn', 'dhrs7c', 'lrrcc1', 'nsdhl', 'eepd1', 'snapc4', 'il11ra', 'sil1', 'uck2', 'scgb1a1', 'abhd18', 'lrrc6', 'etfa', 'cs', 'plekhm1', 'zscan22', 'cenpa', 'cysltr2', 'efcab3', 'ppp1r14c', 'eno1', 'dkk4', 'adora3', 'erap2', 'nlrp14', 'ercc6l', 'armcx1', 'krt33b', 'tcf7', 'sult6b1', 'c13orf46', 'perm1', 'fam162b', 'itgad', 'igsf11', 'c16orf91', 'psmg1', 'ift57', 'angel1', 'plk2', 'cdc40', 'or52a1', 'cpne4', 'slc22a15', 'smim35', 'polr1d', 'glyatl2', 'znf575', 'b3galt5', 'naaladl2', 'mcam', 'chpf2', 'orai1', 'calcrl', 'myocd', 'myo1e', 'pex26', 'krt13', 'unc45a', 'pigh', 'nup93', 'pgp', 'septin10', 'map9', 'focad', 'nt5e', 'zmynd11', 'actr6', 'fhod1', 'ppp1r37', 'znf431', 'fam3a', 'dock5', 'krt83', 'wdr89', 'nol3', 'ilf3', 'vps16', 'cd46', 'otud6a', 'efna3', 'or2f2', 'pde4c', 'nme3', 'ccdc175', 'srr', 'zdhhc11b', 'arhgap36', 'hsfx3', 'plekha6', 'agk', 'nrn1l', 'znf157', 'dbt', 'bok', 'trim24', 'med19', 'tcte1', 'nol12', 'slamf8', 'nkd1', 'or52b2', 'traf6', 'fnbp4', 'prkcg', 'dlx3', 'oosp4a', 'dlx5', 'cyp2r1', 'apc2', 'pdgfa', 'c12orf57', 'mex3d', 'prss3', 'dstn', 'fastkd5', 'sys1', 'nefl', 'lman2', 'hsd3b1', 'zic1', 'psmd2', 'dusp22', 'acat2', 'abhd3', 'fat4', 'tmem181', 'kcnk18', 'rgs11', 'ttll10', 'nme7', 'pfkfb2', 'znf716', 'supt4h1', 'adprm', 'dnajc10', 'ager', 'asgr2', 'sema3c', 'arid2', 'ttc8', 'ccdc78', 'actbl2', 'fxyd1', 'cert1', 'trpt1', 'eef1a2', 'ttc6', 'cybb', 'eqtn', 'tnfrsf12a', 'glyr1', 'arx', 'znf98', 'pdzd4', 'tmem186', 'ikbip', 'dtd2', 'nipsnap3b', 'cidea', 'hs6st3', 'fadd', 'ago1', 'eif3i', 'ptgdr2', 'alg14', 'c1orf167', 'sema6a', 'mb', 'igf1', 'cacnb1', 'ptk6', 'rnf169', 'hoxa5', 'ccnc', 'fst', 'anapc16', 'znf174', 'alg13', 'adsl', 'c1orf141', 'rfx4', 'tbc1d13', 'sp140', 'nudc', 'stac3', 'nanos2', 'aco2', 'ndst4', 'itfg1', 'sla', 'ubfd1', 'mcoln1', 'polg', 'slc47a2', 'hs3st1', 'cd33', 'syce3', 'pf4', 'ltb4r2', 'ctnna1', 'tmem126b', 'spanxn3', 'or2ap1', 'dag1', 'ccl22', 'robo2', 'etnk2', 'nudt10', 'fam43a', 'obi1', 'nckap5l', 'klhdc4', 'pstpip2', 'szt2', 'yaf2', 'rab42', 'mlf1', 'ush1g', 'p2rx6', 'srrm5', 'pdlim5', 'dpep3', 'c18orf21', 'ak5', 'wdr47', 'pno1', 'or51v1', 'krtap9-9', 'rad9a', 'calcoco1', 'bcl6b', 'adh1b', 'krt39', 'c6orf136', 'cdc25a', 'znf324', 'ptpra', 'zc3h4', 'nanp', 'cytip', 'or10v1', 'sash3', 'casd1', 'c20orf204', 'or52h1', 'gmnc', 'anln', 'ube4b', 'ocln', 'siah3', 'bex2', 'skap1', 'zg16b', 'lad1', 'eif2ak2', 'hsbp1', 'calml4', 'krtap13-1', 'ggps1', 'nanos3', 'znf185', 'fkbp3', 'entpd2', 'crb1', 'hspa1l', 'rreb1', 'taf1b', 'drich1', 'zic3', 'dbh', 'or4p4', 'usp40', 'hmx3', 'c1qtnf8', 'smtnl2', 'pcolce2', 'ksr1', 'tm9sf4', 'eif1ad', 'dnah6', 'sh3bgr', 'gast', 'p2ry1', 'glyatl3', 'socs6', 'alpk1', 'atp5mc1', 'lum', 'per1', 'creb3l1', 'litafd', 'akap10', 'ecpas', 'lce1c', 'c8orf82', 'szrd1', 'znf445', 'armcx6', 'adgrl3', 'tefm', 'tmem42', 'repin1', 'med24', 'tas2r16', 'adamts18', 'papss1', 'pik3c3', 'smyd1', 'nkapd1', 'foxo4', 'rpap1', 'dguok', 'tmem60', 'ttc9b', 'cerkl', 'oprm1', 'etv7', 'fancc', 'rnf14', 'wnt9b', 'cyb561a3', 'haao', 'mtg1', 'asap2', 'abhd14b', 'etfdh', 'c5orf34', 'avpi1', 'dytn', 'ehd4', 'tnfaip8', 'septin7', 'tcp10l2', 'drd4', 'mas1', 'harbi1', 'cxcl17', 'rrp1', 'rab6a', 'ncoa6', 'traf3', 'psmf1', 'esyt2', 'pah', 'npffr2', 'mettl7b', 'ptov1', 'xage3', 'ctso', 'slain2', 'slco6a1', 'adirf', 'hapln2', 'socs4', 'engase', 'spsb3', 'cmtm2', 'iqca1', 'fgfr4', 'tmem242', 'fam114a1', 'abcb11', 'luzp2', 'natd1', 'tunar', 'cltcl1', 'ankrd65', 'ryr1', 'ccdc188', 'slc6a2', 'apobec3d', 'cdc42ep2', 'abcc12', 'tmco5a', 'mdfic', 'ca13', 'ncoa5', 'ggcx', 'ripk1', 'tst', 'prss1', 'znf668', 'nes', 'il13', 'znf610', 'cdh9', 'tsnare1', 'sun1', 'or2y1', 'znf239', 'ubtf', 'zfhx2', 'fam166c', 'ak8', 'elfn1', 'figla', 'capza1', 'orai2', 'ntpcr', 'fam163b', 'cndp1', 'wdr74', 'arpp21', 'xpnpep2', 'klhl10', 'ank1', 'msl2', 'ankrd33b', 'znf75a', 'gpcpd1', 'dnajc25', 'map2k2', 'tg', 'ptpn18', 'il1f10', 'dazap2', 'bcl11a', 'ppm1l', 'dnajc8', 'fuz', 'txlng', 'spag7', 'ugt1a1', 'unc5d', 'brca2', 'syne2', 'gpr55', 'nwd1', 'or6p1', 'dspp', 'ubl5', 'mtnr1a', 'znf593', 'c4b', 'prss54', 'slc25a11', 'llgl1', 'atp6v0a1', 'scgb1d4', 'mttp', 'bend4', 'hmx2', 'slc26a8', 'wwtr1', 'borcs5', 'dicer1', 'slfn5', 'slc25a13', 'cnot8', 'cpsf2', 'plbd1', 'or9q2', 'klhl11', 'znf99', 'ap3s2', 'tspo', 'mpg', 'slc25a33', 'thap4', 'znf501', 'zkscan1', 'spin4', 'nudt18', 'rspo3', 'foxred1', 'rhpn1', 'rbck1', 'aldh9a1', 'sardh', 'pdlim1', 'ccdc59', 'sgca', 'zmpste24', 'trip11', 'myl3', 'ppm1d', 'kcnip2', 'pbk', 'pcdh20', 'col4a1', 'gnrhr', 'rimkla', 'emilin1', 'sptssa', 'ibtk', 'lilra1', 'dph5', 'ncbp1', 'dbp', 'ect2l', 'tcirg1', 'acsl3', 'pacs1', 'or6c2', 'armcx2', 'pou5f1b', 'cep295nl', 'abcc8', 'kcnab2', 'or5b3', 'abhd2', 'cd79b', 'bax', 'atp1b2', 'agtr1', 'nav1', 'srp19', 'eif2ak1', 'kpna2', 'fnip1', 'cyb5rl', 'rtcb', 'mpp6', 'wnt10b', 'cep68', 'agxt', 'eaf2', 'rdh14', 'ubap2', 'nipa1', 'triml1', 'rsrp1', 'aga', 'klk9', 'max', 'pofut1', 'c1orf74', 'eif2ak3', 'mvk', 'idh1', 'ccdc18', 'rrp9', 'fam24a', 'znf394', 'plaat2', 'dcaf8l1', 'dnaaf4', 'shd', 'usp43', 'emx2', 'inhbc', 'sfmbt1', 'htr1a', 'fam200a', 'rnf217', 'ms4a14', 'sla2', 'rlbp1', 'fam178b', 'mc1r', 'or4x1', 'gpr65', 'tmem266', 'mchr1', 'ccdc14', 'xpnpep1', 'znf479', 'mbtps2', 'adamts14', 'vsig4', 'gpr151', 'boc', 'mmel1', 'stox1', 'hhat', 'cd52', 'psmb5', 'or51a7', 'zmat1', 'st6galnac5', 'jag2', 'fbxo39', 'rexo1', 'trim65', 'casp8', 'zdhhc15', 'frg2c', 'dhdds', 'npnt', 'nepro', 'slc7a1', 'ctag2', 'lce3e', 'nrtn', 'apbb3', 'paxx', 'fam91a1', 'anapc2', 'nfkbiz', 'phf20l1', 'crb3', 'castor2', 'rnf34', 'wnt7a', 'sod1', 'ptger4', 'lgi4', 'scart1', 'arsg', 'ufc1', 'sh3pxd2b', 'snrpd3', 'ndufa13', 'r3hcc1', 'bahcc1', 'lsm3', 'vars2', 'kif12', 'slc39a3', 'tlr9', 'mastl', 'phyhd1', 'ccdc7', 'cplane2', 'rbm8a', 'rab11fip5', 'tdrd5', 'rnf128', 'mkln1', 'areg', 'ajap1', 'proser2', 'pcgf5', 'syncrip', 'ccdc159', 'creb3l3', 'rad51b', 'slc12a6', 'cntrob', 'smad3', 'tex51', 'ercc6l2', 'il23r', 'dlg3', 'or4m1', 'il17rd', 'slc12a7', 'fam83a', 'cdk9', 'cacna1c', 'eri2', 'ccl17', 'mettl11b', 'slc16a12', 'bptf', 'krt6c', 'ubqln1', 'tmem171', 'six2', 'zbtb49', 'cxadr', 'c7orf25', 'dalrd3', 'laptm4a', 'sprr5', 'plcxd2', 'lrrc66', 'ccser1', 'gabrg2', 'cdx1', 'slc16a1', 'psph', 'dnajc12', 'sh3pxd2a', 'hnrnpa0', 'tbx5', 'cpt1a', 'kiaa0586', 'kif5a', 'hesx1', 'tmem259', 'pag1', 'cherp', 'gar1', 'cib3', 'pcnx4', 'hook1', 'hsp90b1', 'slc52a1', 'pam', 'btla', 'defb135', 'mark1', 'kcnc4', 'ccdc187', 'hras', 'or4d10', 'prpf40a', 'fam240a', 'tmprss11b', 'smkr1', 'metap2', 'lingo3', 'tnnt1', 'ephb2', 'zbtb2', 'ms4a12', 'epc2', 'bbx', 'znf597', 'cep70', 'rmdn1', 'trem2', 'pcdha10', 'heatr1', 'nphp3', 'oprpn', 'cngb3', 'aptx', 'grik5', 'tbc1d8', 'apoa5', 'cradd', 'dpp7', 'amhr2', 'igll1', 'pomt2', 'tspan6', 'cracr2a', 'ube2u', 'ervfrd-1', 'etv2', 'myo19', 'tubd1', 'supv3l1', 'gtf2b', 'c5orf51', 'pcdha12', 'zscan30', 'chl1', 'odam', 'or52j3', 'mmut', 'itgb3', 'vsx1', 'plagl1', 'stmn4', 'csnk2b', 'fabp5', 'rab11fip2', 'osgep', 'slc19a1', 'znf534', 'trim28', 'trafd1', 'klc4', 'dnajb13', 'sdc1', 'cntd1', 'rgl1', 'pramef1', 'nuak2', 'taf12', 'trpm1', 'rims1', 'spata6l', 'or52k2', 'tcp11x1', 'ppy', 'cdk5r2', 'cdkl3', 'pcsk4', 'dnajc7', 'mt1h', 'ssr3', 'pdcl', 'usp28', 'cacna1i', 'tor3a', 'otop1', 'tbx15', 'wdtc1', 'dlg1', 'psmd5', 'acsl4', 'trmt112', 'shc4', 'tubb6', 'cyb5r1', 'sun5', 'tspyl5', 'apob', 'abhd6', 'mov10', 'srrt', 'hhex', 'mrgpre', 'glt8d2', 'hspa1b', 'tmtc4', 'senp8', 'siglec11', 'fbxl6', 'znf354a', 'c6', 'nphp1', 'pdia2', 'eef2kmt', 'hectd3', 'zfp69', 'mapk8', 'cited1', 'fam160a2', 'nr4a1', 'rxfp2', 'dtx3l', 'hps6', 'klrc3', 'ei24', 'atp8b4', 'fgf22', 'gpr137c', 'rexo4', 'esco1', 'chst4', 'slc22a18as', 'tnp2', 'krtap17-1', 'limd2', 'syt14', 'smad5', 'ttc23l', 'c17orf107', 'bpifb1', 'sycp2l', 'brap', 'ppm1b', 'fhod3', 'tmem14c', 'or6t1', 'tulp3', 'xcr1', 'klhl21', 'aldh1l1', 'actl6b', 'c3orf33', 'pla2g1b', 'or4e2', 'rbbp5', 'kir2dl4', 'atp6v0e1', 'jak3', 'dna2', 'tmem150b', 'plaat4', 'lrrc32', 'ahdc1', 'far1', 'hacd3', 'adm5', 'cfap97d2', 'prss51', 'ak9', 'rell2', 'kcnb2', 'hoxb7', 'mt4', 'vwa5b2', 'rai14', 'prkag2', 'rnf216', 'aqp12a', 'chka', 'ano2', 'nynrin', 'dock4', 'bcl7b', 'iscu', 'ass1', 'cideb', 'bmp2k', 'polr3f', 'acvr1', 'mllt3', 'tmem234', 'gpr78', 'ddx39a', 'caskin1', 'atg9b', 'abcb9', 'slc4a11', 'arel1', 'taok3', 'nmd3', 'mfap1', 'srd5a2', 'znf44', 'siglec9', 'spanxn2', 'stx16', 'ctu1', 'tmbim1', 'ppif', 'coasy', 'gnl3', 'c8orf48', 'axl', 'scara3', 'gpam', 'hsd17b1', 'azin2', 'adam28', 'rln2', 'ift46', 'mobp', 'fam71c', 'trim68', 'inpp5k', 'iars2', 'lmntd2', 'dhrs2', 'sgpl1', 'dscc1', 'ddhd2', 'usp46', 'mfap3', 'nol8', 'slc22a7', 'zscan26', 'eif3j', 'nr2f6', 'fgf16', 'spaca1', 'cdkn1b', 'smim10l2a', 'sox12', 'serpini2', 'scgb1d2', 'speg', 'tnp1', 'slc35b3', 'cgref1', 'clec4m', 'tshz2', 'siah1', 'reps1', 'heg1', 'asb10', 'aqp10', 'fjx1', 'ehmt1', 'slc17a5', 'clrn2', 'dpm2', 'ahnak', 'ncapd3', 'fbxo15', 'nudt2', 'dusp7', 'afp', 'vps9d1', 'agbl2', 'krt71', 'aqp3', 'disp2', 'c14orf93', 'tmigd3', 'ccdc112', 'efcab12', 'shc3', 'anxa2r', 'tpx2', 'ndufs5', 'gpx5', 'dnase1l3', 'tes', 'nbpf11', 'lcn8', 'mis18bp1', 'arhgap5', 'rere', 'rab31', 'c8orf76', 'elavl1', 'c11orf87', 'ccdc102a', 'lyl1', 'sf3a1', 'naf1', 'cyb5b', 'pate2', 'mvb12a', 'lacrt', 'bdkrb2', 'medag', 'prr32', 'fam177b', 'tmco6', 'tnfaip3', 'tex19', 'tmem94', 'pde1a', 'ptprz1', 'tmem50a', 'zfyve21', 'csh2', 'trim61', 'gcsam', 'mrap2', 'prm3', 'cpsf4l', 'gpr132', 'cd2ap', 'dnajb6', 'shb', 'ankrd40cl', 'eef2k', 'rad51c', 'app', 'polb', 'or6k2', 'tp53', 'znf681', 'celsr1', 'cd1a', 'prpsap1', 'il4', 'plcd1', 'slc25a37', 'ptpru', 'fbxo31', 'atp8b2', 'lingo2', 'ccdc171', 'kiaa2012', 'znf772', 'lsm5', 'prmt3', 'fam50a', 'fam13a', 'hpf1', 'urb1', 'slitrk4', 'exosc7', 'rmc1', 'klk8', 'fabp6', 'asah1', 'lrif1', 'clta', 'taf4', 'dlg5', 'abcc9', 'hnf1a', 'fbxo40', 'tuba3c', 'arhgap26', 'samd12', 'c15orf40', 'arpin', 'taf1c', 'znf232', 'rcn3', 'pdzrn3', 'vasn', 'rnasek', 'gipc1', 'stk4', 'alox5ap', 'heca', 'ckm', 'rprd1a', 'samhd1', 'vmo1', 'rhof', 'il7', 'phf8', 'znf595', 'cd34', 'mageb5', 'mosmo', 'cers5', 'snx29', 'evi5l', 'catsperg', 'c1galt1c1', 'slc7a11', 'pdgfrb', 'tmem170b', 'rgs7', 'tiaf1', 'znrf4', 'rhbg', 'rho', 'tmem255a', 'hepacam2', 'magea10', 'znf687', 'ccdc182', 'ppp1r15a', 'snx3', 'foxd4l6', 'galns', 'mlc1', 'c16orf86', 'znf415', 'vezf1', 'pkp2', 'atp6v0b', 'aox1', 'dnajc2', 'lrp4', 'rnf152', 'mpped1', 'foxn4', 'c12orf42', 'col27a1', 'cd163l1', 'eddm3a', 'slc25a27', 'wdr27', 'gna11', 'cshl1', 'lamc3', 'zfp69b', 'znf491', 'rfesd', 'pfn1', 'lim2', 'capn11', 'mt1g', 'clstn1', 'fam193a', 'odf3l1', 'ptpdc1', 'scmh1', 'rgpd3', 'tspan8', 'ankrd66', 'zmym3', 'nfkbib', 'trmt1l', 'btbd18', 'hormad1', 'gosr2', 'ppp1r16b', 'wasf1', 'layn', 'nxpe2', 'terb1', 'il34', 'znf665', 'cenpt', 'mxd1', 'kiaa1210', 'pcbp3', 'pramef33', 'rcan3', 'tmem89', 'fbxw9', 'kat5', 'fbxw7', 'mtfmt', 'cmc4', 'rragd', 'sec23a', 'cfap57', 'fkbp11', 'zfyve9', 'tor1aip2', 'or8g5', 'dnaaf3', 'or5ak2', 'cep19', 'rgs16', 'laptm4b', 'lama1', 'smim23', 'frmpd2', 'ppdpfl', 'or52b6', 'plekhf1', 'ankrd37', 'ect2', 'immp1l', 'cyld', 'heatr4', 'uap1', 'tmem221', 'mex3a', 'muc12', 'serf2', 'slc25a24', 'bmp1', 'lrrk1', 'samd3', 'otud5', 'zbtb8b', 'prb1', 'mier1', 'krtap19-7', 'pramef2', 'apobec3b', 'gprasp1', 'psmd13', 'map1lc3c', 'crct1', 'acbd7', 'ddx21', 'tktl2', 'ubr5', 'cfdp1', 'mff', 'or10h1', 'hdlbp', 'znf138', 'hdac9', 'eya2', 'scube1', 's1pr1', 'mccc2', 'synpo2l', 'atf7ip2', 'tmem220', 'palm', 'nfya', 'hpd', 'aar2', 'gfod2', 'exosc6', 'sdhb', 'mapkbp1', 'dync1li1', 'c18orf25', 'lpcat2', 'osbp2', 'fam184a', 'znf141', 'adipor2', 'gpat4', 'cyp4z1', 'g6pc3', 'prodh2', 'ipcef1', 'csmd1', 'ganc', 'c12orf50', 'smpd3', 'ctnnb1', 'usp36', 'col22a1', 'slamf9', 'wdr4', 'dusp16', 'gpr88', 'nmur1', 'or5m8', 'kcnk4', 'znf112', 'fmo4', 'filip1l', 'ankrd11', 'tymp', 'clpp', 'siglecl1', 'chst13', 'psma7', 'milr1', 'gpr68', 'pla2g2c', 'wdr73', 'paip1', 'or5t1', 'fam234b', 'ccdc90b', 'acacb', 'ybey', 'fcrl4', 'or13a1', 'bace1', 'ano5', 'krcc1', 'znf789', 'pxmp2', 'sap30bp', 'commd8', 'cd37', 'tollip', 'atrx', 'nrarp', 'krt19', 'tbc1d16', 'tas1r1', 'prdm7', 'aldh7a1', 'sqle', 'sbno2', 'phf6', 'bst1', 'hsd11b1', 'trdn', 'glg1', 'acer3', 'ctps2', 'dhx29', 'ints2', 'asprv1', 'brca1', 'taf11l12', 'dnaja1', 'fam120c', 'hepacam', 'or2v2', 'dlst', 'fam20b', 'snx13', 'snx31', 'defa3', 'psmb1', 'pde4a', 'arap3', 'tmem223', 'rchy1', 'pigq', 'pdhb', 'pfn4', 'ncoa4', 'ctnnd1', 'or2b2', 'cdk3', 'sh3rf1', 'trmt11', 'il31', 'srpk3', 'pramef8', 'scn10a', 'adamts2', 'znf675', 'rbm33', 'c4orf36', 'raver1', 'irx1', 'six5', 'exoc3l4', 'asgr1', 'lifr', 'npy5r', 'cd247', 'znf34', 'nr0b2', 'fam163a', 'chchd10', 'ttyh2', 'hpca', 'lgals7', 'rhoa', 'deup1', 'eid2', 'sppl2a', 'hdgfl3', 'sp9', 'ugt1a8', 'cip2a', 'calca', 'frmd8', 'gtf2i', 'znf334', 'esd', 'dpyd', 'trmo', 'actrt2', 'fam43b', 'zc3hav1l', 'dcc', 'syn3', 'c10orf82', 'itgb5', 'arf4', 'pus7', 'dnajc21', 'ccnh', 'fbxl8', 'taf1d', 'bola3', 'lrfn5', 'mast3', 'fcgrt', 'stxbp4', 'thap8', 'telo2', 'slc5a3', 'c1orf100', 'rbp3', 'znf175', 'emcn', 'dpys', 'fhl3', 'sth', 'abcc4', 'dnajb14', 'c12orf71', 'ccdc8', 'phyhip', 'fmnl1', 'foxc1', 'ndufs2', 'ngly1', 'septin11', 'rflna', 'apold1', 'rnf138', 'tomm40l', 'pbx2', 'ptpre', 'pfn3', 'polr1a', 'serpina3', 'dcaf4l1', 'lbx1', 'gnptg', 'mrgprx2', 'cdh8', 'shisa7', 'nrsn1', 'plpp7', 'dhodh', 'cdh1', 'mical1', 'tigd5', 'tprkb', 'ube2k', 'agrn', 'edil3', 'pfas', 'znf304', 'stx4', 'nedd4l', 'phactr3', 'csf3', 'aadacl2', 'akap12', 'ptk7', 'rfx3', 'c11orf52', 'rnaseh2b', 'smpdl3a', 'adam15', 'depdc1b', 'scgb3a2', 'chmp4a', 'rin3', 'oca2', 'irf8', 'mgst3', 'ppp1r13l', 'nab1', 'xkr9', 'rtf2', 'dok1', 'kbtbd12', 'or1l3', 'fsip2', 'prdm2', 'srp68', 'or4c13', 'slc39a9', 'msmo1', 'c6orf163', 'urad', 'ifnw1', 'crip2', 'rnf4', 'yif1a', 'hddc3', 'duxb', 'insr', 'tmem150c', 'gpr18', 'cd276', 'b3glct', 'uqcrc2', 'kcnab3', 'sult1a2', 'kcnj10', 'dnm1', 'emc6', 'col9a3', 'mad2l1', 'ccdc42', 'npepps', 'nkx1-2', 'gna12', 'slc35f2', 'gpatch3', 'plagl2', 'tmem31', 'lmx1b', 'dolpp1', 'lzts3', 'cactin', 'myl12a', 'rpp25', 'tcaf1', 'pdgfra', 'rbm24', 'ildr2', 'f11r', 'ecrg4', 'ccr5', 'cd19', 'maip1', 'c4orf33', 'syce2', 'tbxt', 'il17rel', 'znf579', 'crls1', 'stac2', 'ube2j1', 'lingo4', 'ocm2', 'lrrc14', 'rasgrp4', 'trappc8', 'gprasp2', 'gp2', 'rtl8c', 'piezo2', 'clec3b', 'scgb2a2', 'ugt2a1', 'poc1b', 'ino80e', 'sfrp2', 'xylt2', 'dapk2', 'daam2', 'ets2', 'znf678', 'znf569', 'pfdn5', 'gtf2a1', 'hace1', 'hdac10', 'uhrf2', 'c17orf64', 'kdm4f', 'trmt2a', 'mmp9', 'ggt2', 'chic1', 'aqp5', 'znf233', 'aggf1', 'cyp24a1', 'sdr16c5', 'cdr2', 'nsun2', 'pnck', 'irgm', 'tfr2', 'msantd1', 'zic2', 'hlx', 'adamts9', 'c22orf23', 'or2a12', 'nsun5', 'arf6', 'lrrd1', 'ffar2', 'maz', 'clec4a', 'il17d', 'selenos', 'sdccag8', 'prex2', 'mecom', 'tnfsf4', 'znf212', 'ddx60l', 'lmbrd1', 'arhgef17', 'omp', 'tap2', 'ly6g5c', 'mob3a', 'fam227a', 'slc13a4', 'fam234a', 'rasal2', 'gabrb3', 'pla2g5', 'atg5', 'catsperb', 'celf6', 'irak4', 'bpifb6', 'bpgm', 'coro1a', 'lmod2', 'znf550', 'astn1', 'pkd2l1', 'wfdc10b', 'serinc4', 'flrt1', 'gtdc1', 'grid1', 'lrrc69', 'znf891', 'mapre2', 'tmco2', 'znf287', 'rbbp6', 'klhl8', 'or5w2', 'sstr1', 'nhlh1', 'polm', 'rab36', 'rab41', 'dlx2', 'utrn', 'dtymk', 'trabd2a', 'trpc5os', 'mixl1', 'rtraf', 'pnpo', 'cdh24', 'znf718', 'slc38a6', 'mmp11', 'gtse1', 'ccnjl', 'lmod1', 'fcmr', 'ahcyl2', 'defb132', 'gripap1', 'ifna7', 'map3k4', 'apof', 'rtf1', 'ap2m1', 'c9orf50', 'c9orf78', 'pklr', 'f13a1', 'adck2', 'washc4', 'jkamp', 'p2rx7', 'npas3', 'ldhal6b', 'ccn6', 'znf219', 'znf268', 'hoxd4', 'arid4b', 'med27', 'gpc1', 'prps2', 'tcf7l1', 'snx20', 'tp53i11', 'arhgef10', 'npat', 'cd9', 'tbl3', 'znrf1', 'snx8', 'spdye4', 'krt78', 'fermt3', 'znf221', 'rbm25', 'thrb', 'aldob', 'stimate', 'dnah9', 'uhmk1', 'treh', 'nup205', 'pus1', 'slitrk2', 'mfn2', 's1pr3', 'znf7', 'vim', 'ppp2r5c', 'slc22a17', 'dpp10', 'linc02218', 'smc1a', 'chchd3', 'ptprd', 'plscr3', 'foxp3', 'f8', 'gk2', 'brox', 'cbr4', 'glrx', 'vps53', 'brd4', 'csnk2a1', 'tlx1', 'cep152', 'prox2', 'sema4c', 'rif1', 'slc2a9', 'dlx4', 'acyp1', 'wbp4', 'enpep', 'gckr', 'tmem80', 'slc25a40', 'hpse', 'pip4k2c', 'kif26b', 'cpsf6', 'irf7', 'foxk1', 'stk36', 'keap1', 'arpc1b', 'lrfn2', 'mt1f', 'krtap12-2', 'adgrl2', 'c1orf216', 'ccdc136', 'acvr2a', 'ripply3', 'slc28a3', 'clasp1', 'rbl1', 'aim2', 'tex50', 'mcfd2', 'nkx2-8', 'tmem269', 'acy3', 'papola', 'igfbp7', 'or2l5', 'per2', 'arhgap4', 'amh', 'lix1', 'or2a2', 'myocos', 'bap1', 'hgsnat', 'upf2', 'vpreb3', 'rab27a', 'tnnc2', 'elmod1', 'cep131', 'erp44', 'tomm20', 'tcp11', 'thg1l', 'dpp8', 'klhl14', 'znf780a', 'c12orf76', 'eno3', 'krtap1-3', 'foxd2', 'fam135a', 'zfp14', 'six3', 'ccdc177', 'adap2', 'aqp4', 'pigt', 'fbln7', 'xpot', 'srsf2', 'znf536', 'ddx46', 'trpa1', 'cit', 'orc2', 'pdk3', 'atp10a', 'eif4e2', 'mccd1', 'pcdha11', 'fscb', 'pde4b', 'ctnnbl1', 'tmem252', 'ccdc142', 'c2cd4c', 'cfap58', 'crtam', 'tm4sf4', 'fndc3b', 'lrrc8a', 'asf1b', 'omd', 'sowahc', 'acsf2', 'sec61a2', 'znf132', 'cgas', 'zcrb1', 'hes5', 'ndufa8', 'uts2b', 'dgkz', 'lsm14b', 'cr2', 'casq2', 'or6n1', 'sec13', 'gk3p', 'tlnrd1', 'mtx2', 'znf792', 'arhgef3', 'galnt11', 'vps13a', 'septin1', 'alg2', 'pelp1', 'cfhr2', 'trim51gp', 'or10h4', 'nup43', 'tma16', 'ncln', 'znf441', 'camsap1', 'amot', 'sephs1', 'fam117a', 'sacs', 'hells', 'rp2', 'il33', 'patz1', 'fbxo22', 'nyx', 'magef1', 'dnttip1', 'gpr89b', 'cyb5r4', 'trim13', 'hexa', 'smim10l2b', 'phf5a', 'adam12', 'mboat1', 'capn7', 'dyrk2', 'rhobtb2', 'dydc1', 'znf774', 'zdhhc7', 'fer1l6', 'smarcad1', 'nrm', 'abo', 'msantd2', 'cspp1', 'kcnh6', 'sidt1', 'or10x1', 'clecl1', 'tmem104', 'ptpn12', 'sez6', 'ubox5', 'ndufa1', 'psmc4', 'fance', 'adcy3', 'batf2', 'haspin', 'arf5', 'rexo5', 'c3orf20', 'foxj2', 'c20orf202', 'inka2', 'clvs1', 'pnma6e', 'ribc1', 'selenbp1', 'ccdc60', 'klf5', 'rrs1', 'zcchc3', 'atp5pd', 'rassf1', 'fblim1', 'katnal2', 'rab5if', 'insl5', 'tmub1', 'ticam1', 'pear1', 'ppp1r14d', 'stam', 'adgrf4', 'elovl6', 'pramef12', 'lmo1', 'bex5', 'pdpr', 'ccz1', 'dnase1l2', 'rhce', 'cerk', 'ctsg', 'cdc42ep1', 'bbc3', 'alg12', 'rbm43', 'megf10', 'gck', 'aldh3b1', 'atp4b', 'zmiz2', 'fbxo11', 'atp5f1e', 'tceal3', 'c1rl', 'tfdp3', 'itih1', 'rint1', 'actn4', 'itga9', 'fbxl17', 'uqcc1', 'scnm1', 'bpifa1', 'prmt8', 'skap2', 'or3a2', 'ccdc22', 'ttc27', 'znf286a', 'cdpf1', 'tmem102', 'oprd1', 'cabp2', 'or13g1', 'ntn4', 'rfc4', 'dnase2b', 'cdkn2b', 'sh2b3', 'lrrc36', 'gins1', 'muc7', 'prpf39', 'slc44a2', 'piwil2', 'il19', 'mt2a', 'rims4', 'nqo2', 'senp1', 'lancl2', 'cacna2d3', 'spdyc', 'lcat', 'fscn3', 'zmat3', 'sema3e', 'spata2l', 'smyd2', 'krt1', 'dek', 'trir', 'il36a', 'faxc', 'sgcd', 'klk13', 'znf256', 'znf22', 'ttf1', 'defb125', 'thoc2', 'pgm5', 'ada', 'ywhaz', 'gcc2', 'tmem175', 'scrn3', 'pml', 'dab1', 'dusp11', 'tor1a', 'gnl2', 'ndufs1', 'sox4', 'piwil1', 'paqr5', 'cryz', 'mrfap1l1', 'tomm6', 'nckap1', 'paaf1', 'or51d1', 'guk1', 'lce2d', 'ywhaq', 'wnt4', 'tbc1d19', 'sh3rf2', 'znf560', 'ypel1', 'gk5', 'sncaip', 'zp2', 'iqgap3', 'stag3', 'dgkd', 'tas2r39', 'krtap23-1', 'rab2a', 'ceacam1', 'fshb', 'ms4a4e', 'dtwd1', 'nedd8', 'znf512b', 'gpd1l', 'ube2l6', 'btaf1', 'abat', 'hgh1', 'cdc37', 'znf383', 'ccnb1ip1', 'frg2', 'znf474', 'rngtt', 'ascc3', 'st3gal1', 'shcbp1', 'fam118b', 'fshr', 'c9orf152', 'trim50', 'lamp2', 'dmp1', 'mthfsd', 'slc34a3', 'insl4', 'noto', 'rab6c', 'ccdc27', 'trabd', 'mab21l3', 'cntnap2', 'alkal2', 'or6k3', 'trappc11', 'nod2', 'nbea', 'prr23b', 'sox7', 'pbx4', 'cep95', 'calml3', 'myo15a', 'auh', 'osbp', 'ggct', 'eif6', 'gm2a', 'fdxr', 'rheb', 'ccl27', 'ankrd55', 'habp4', 'vps11', 'krt32', 'krtap13-2', 'acad8', 'mbtps1', 'casz1', 's100g', 'fas', 'slc4a9', 'mms22l', 'eid2b', 'gga3', 'sepsecs', 'pcgf2', 'rnf13', 'prr29', 'c3ar1', 'hdgf', 'c4orf3', 'tln1', 'il17f', 'znf676', 'utp3', 'maml1', 'hoxa9', 'pabpn1l', 'ptprj', 'e2f3', 'vac14', 'aqr', 'nos3', 'glipr1l2', 'dqx1', 'adh7', 'pou5f2', 'ddx54', 'ly6l', 'gpc5', 'atp11c', 'insl6', 'cstb', 'hsd17b10', 'ccdc169', 'tmem225b', 'snrnp40', 'cnga2', 'kcnk17', 'lnx1', 'fam221b', 'phlpp2', 'iqcf1', 'ptprc', 'rtl9', 'serpinf2', 'cln6', 'myrfl', 'lrrc27', 'kif7', 'adad2', 'slc2a4rg', 'bud23', 'rgs17', 'ubxn8', 'tshz3', 'atic', 'gabpb1', 'ptpn9', 'tac3', 'chp1', 'dennd2c', 'rab3a', 'dnajb12', 'pdss2', 'tgif2', 'gnl1', 'phgdh', 'homez', 'znf229', 'flot1', 'c9', 'ubxn4', 'gphn', 'b3gnt4', 'mief1', 'or5c1', 'hpcal4', 'cbfa2t3', 'tm4sf19', 'gabrr3', 'ptdss2', 'or5b17', 'serp1', 'defb129', 'zik1', 'ywhag', 'nlk', 'argfx', 'mycl', 'wdr20', 'arhgef19', 'mdm1', 'rnf5', 'dnajc16', 'atp2a3', 'smc6', 'usp10', 'morc3', 'psmc3ip', 'b4galt4', 'junb', 'znf581', 'usp44', 'sox18', 'arhgap42', 'higd1a', 'nsmf', 'cox7a2l', 'cox17', 'stub1', 'pola1', 'olfml2b', 'arhgef6', 'gjc1', 'dock1', 'plekhg5', 'arhgef11', 'atp6v1e2', 'myb', 'kifc1', 'plekha5', 'pgrmc1', 'fgf20', 'snrnp35', 'atf6b', 'rnase8', 'adgrf3', 'znf180', 'sptan1', 'fermt2', 'hpdl', 'itk', 'hoxa4', 'slc38a11', 'bmp3', 'c1orf52', 'tapbpl', 'nkx2-4', 'dnhd1', 'rapgef3', 'atg7', 'dnajc5g', 'tigd6', 'defb114', 'c2orf76', 'fzd5', 'nr3c2', 'vps45', 'tbx4', 'kiaa1109', 'itln2', 'ribc2', 'adam17', 'lhx9', 'sncb', 'rln1', 'pitpnm3', 'krtap19-6', 'il32', 'arsf', 'stk32b', 'psg2', 'ppa1', 'mlh3', 'lig1', 'nr5a2', 'tmem253', 'tfcp2', 'il36g', 'edar', 'epha2', 'or4d6', 'lman2l', 'rbm26', 'dvl2', 'rapgefl1', 'sprr2d', 'pald1', 'galnt6', 'cyth3', 'kat2a', 'gjb4', 'agpat3', 'clcn5', 'cobll1', 'chrna3', 'ptpn7', 'nxt1', 'mst1', 'ehd1', 'akt1s1', 'rnf115', 'copb1', 'ccnj', 'atg4a', 'oxct2', 'lmo3', 'trim64b', 'casp14', 'gmnn', 'psmc5', 'tekt1', 'rprm', 'foxp1', 'pcmt1', 'psca', 'nudt7', 'slc30a7', 'znf512', 'tbc1d30', 'aadacl3', 'psmb8', 'apbb1', 'znf511', 'oosp1', 'c8g', 'aktip', 'rundc1', 'tbc1d7', 'jade2', 'znf566', 'fbxo5', 'pi3', 'pknox1', 'b3gnt2', 'ip6k3', 'dtwd2', 'cpped1', 'slitrk5', 'tdrd6', 'prkaca', 'vps37c', 'megf9', 'igf2r', 'pnn', 'znf101', 'or5ac2', 'b3galt1', 'hsf5', 'c1orf116', 'rbm20', 'arhgef9', 'smim31', 'cd47', 'tmem33', 'ak1', 'utp4', 'mapt', 'cdadc1', 'slc26a7', 'gdf6', 'slf2', 'tex15', 'znf133', 'cdcp1', 'fbxo9', 'tmem236', 'itga7', 'reg3g', 'ankrd13a', 'foxl2', 'tmem265', 'mpnd', 'cxorf66', 'ces3', 'c4orf50', 'ppargc1b', 'eci1', 'pdcd2l', 'armc2', 'kyat1', 'atp5mf', 'dnajb8', 'adra1b', 'atxn7', 'c11orf94', 'tp53inp2', 'ca2', 'oit3', 'sec14l1', 'hemgn', 'nras', 'ptges3', 'or1g1', 'znf766', 'zbtb48', 'znf510', 'lrrc15', 'map3k5', 'ypel4', 'pglyrp1', 'mlf2', 'crebzf', 'rasgef1b', 'trim47', 'scarb2', 'steap3', 'akr1d1', 'adar', 'tmem87b', 'tmem225', 'srp9', 'dpysl2', 'pramef4', 'gca', 'znf740', 'lipc', 'lamc1', 'htra4', 'hsd17b2', 'slc5a9', 'tasor2', 'acot11', 'ptges3l', 'raly', 'ocstamp', 'leap2', 'or6x1', 'mier2', 'crh', 'cd300ld', 'fam149a', 'stxbp3', 'afap1l1', 'slc2a14', 'slc9a8', 'gpr158', 'chordc1', 'c1orf115', 'pfkfb1', 'rras2', 'atp23', 'ralgapb', 'mgrn1', 'chrne', 'grin3a', 'or4d1', 'mapk8ip2', 'kcnk16', 'sema6b', 'nlrp13', 'plekhm2', 'nr2f1', 'musk', 'znf410', 'c1orf198', 'cd83', 'or8h2', 'ywhae', 'nme2', 'c16orf90', 'csrnp2', 'ifna1', 'slc12a8', 'inppl1', 'ubxn2a', 'add1', 'tead3', 'snrpn', 'arhgef18', 'meox2', 'ankib1', 'gnrh1', 'nup98', 'tenm2', 'znf485', 'dusp6', 'or6b2', 'vps4b', 'esco2', 'sugp1', 'dlk2', 'b4galt2', 'fgl2', 'nde1', 'pik3r2', 'trim10', 'sgsm1', 'kcnk10', 'cntrl', 'gabre', 'ppp1r15b', 'sytl5', 'inpp1', 'nckipsd', 'heatr5a', 'trim7', 'anp32b', 'kpna1', 'antxr2', 'nox3', 'lamb4', 'c1orf109', 'wipf1', 'ski', 'pga5', 'glra1', 'slfn12', 'smg5', 'fam71f2', 'lag3', 'dynll1', 'clstn2', 'utp25', 'ddx31', 'tle3', 'cd164', 'rbfox1', 'timm17b', 'kiaa1549l', 'ppp6c', 'znf324b', 'otos', 'pds5b', 'susd5', 'krt24', 'itga2b', 'nenf', 'ndufv2', 'slc25a44', 'palm3', 'nid1', 'mgat4c', 'tob2', 'arhgap32', 'blm', 'prr30', 'ugt1a9', 'htn1', 'tmem187', 'znf705a', 'cul4a', 'pdzd11', 'adra2b', 'znf142', 'nme6', 'llph', 'helz2', 'bex4', 'sgcb', 'abhd4', 'mynn', 'htr4', 'prdm14', 'chaf1a', 'kcng1', 'cep135', 'rbm46', 'lrrc52', 'znf182', 'treml1', 'c6orf118', 'mepe', 'smim33', 'krt8', 'was', 'cldn9', 'fam118a', 'serpinb4', 'pcdhga12', 'prkab1', 'hspa4l', 'stk26', 'man2a2', 'tbx22', 'tmem64', 'usp54', 'zdhhc4', 'rbpms', 'camk4', 'gpr19', 'angptl8', 'cblc', 'znf124', 'med14', 'nudt11', 'fgf6', 'fam161a', 'slc26a3', 'mms19', 'lrguk', 'shroom1', 'smarcc1', 'ntn3', 'ccdc85a', 'sntb2', 'taar5', 'atrip', 'haus4', 'gimap4', 'il13ra1', 'snapc2', 'map3k7', 'kif20b', 'spocd1', 'pds5a', 'churc1', 'gzmb', 'irak3', 'agpat2', 'ammecr1', 'casp2', 'cela3a', 'fchsd1', 'or7e24', 'sectm1', 'bicc1', 'lhx1', 'ccdc110', 'scfd2', 'myc', 'hmgcll1', 'ccdc85b', 'mpzl3', 'nsun6', 'jak1', 'ppwd1', 'ogfod2', 'gadd45gip1', 'atp6v1c1', 'ralgds', 'parva', 'hps3', 'snta1', 'epx', 'man1c1', 'abca12', 'flnb', 'ropn1l', 'rab32', 'chd7', 'prr18', 'khdrbs2', 'ptges', 'cenpb', 'semg1', 'p2ry8', 'smarcd3', 'mmgt1', 'cep170b', 'larp4b', 'svbp', 'tmcc1', 'fbrs', 'itm2c', 'rasgrp1', 'bmper', 'gas1', 'melk', 'znf787', 'mgat3', 'iqgap2', 'paqr6', 'wdr1', 'slc26a2', 'crtac1', 'ezhip', 'lrrc73', 'agr2', 'dazap1', 'cnnm3', 'mapkap1', 'pomt1', 'sh2d1a', 'clec1a', 'hspa12b', 'tex54', 'nsun7', 'smco1', 'ccdc198', 'spink7', 'ccdc66', 'mamdc2', 'slco1a2', 'efcab6', 'dnajb1', 'zc3hc1', 'col4a4', 'ttk', 'taf9', 'hsf2', 'pcsk2', 'top2b', 'fam126b', 'lexm', 'znf90', 'en2', 'apol4', 'dmc1', 'prr9', 'cdkn2a', 'tmprss11f', 'tmem237', 'sf1', 'apbb1ip', 'rad51ap2', 'retn', 'masp1', 'map10', 'ssx3', 'tpst2', 'gdap1', 'ptpn2', 'clec4e', 'aurkc', 'mylk2', 'dtnbp1', 'zer1', 'riok3', 'c19orf85', 'gatad1', 'cyp51a1', 'fkbp8', 'egf', 'pacsin1', 'csrp2', 'ldlrad3', 'cdc34', 'znf438', 'creg2', 'lhfpl1', 'rbpms2', 'polr3gl', 'phex', 'prm1', 'tcl1a', 'ranbp3', 'ypel2', 'nkx2-5', 'cdkn1c', 'c1orf162', 'scaf1', 'usp25', 'ap1g1', 'elovl1', 'c5orf49', 'cttn', 'rai2', 'ids', 'abca2', 'smap1', 'lpar4', 'kank3', 'myh14', 'ube2c', 'kcnc2', 'fcgr3b', 'hectd4', 'sbds', 'micu3', 'pkib', 'samd9l', 'fam166a', 'acsm1', 'parm1', 'dlc1', 'vn1r1', 'coq4', 'ppp1r42', 'spata46', 'rsrc1', 'khdc4', 'ankar', 'asxl1', 'zfr', 'hk1', 'efcab1', 'cpb2', 'slc25a32', 'map3k14', 'aff3', 'itih2', 'rtn3', 'hhatl', 'rhobtb3', 'g2e3', 'spink6', 'acap1', 'paf1', 'hars2', 'abraxas1', 'cask', 'dctn1', 'cfap70', 'def6', 'ptcd1', 'krt75', 'ppp2r1b', 'usp21', 'tafa4', 'cep97', 'tent2', 'crppa', 'tfpi2', 'rbm11', 'hsd11b2', 'slc35a5', 'galt', 'c9orf131', 'ntng2', 'camk2d', 'ubap1l', 'ctdspl', 'mis18a', 'mab21l4', 'lypd2', 'znf302', 'snai1', 'als2cl', 'gpx8', 'asb2', 'ormdl3', 'unc79', 'cept1', 'cops3', 'irf6', 'slc35b1', 'anhx', 'rcan1', 'osmr', 'lrrc40', 'dusp1', 'st3gal4', 'plau', 'ppih', 'eps8l3', 'sympk', 'cldn14', 'mre11', 'hid1', 'plin1', 'atxn2', 'actr3', 'parvg', 'egfl8', 'atxn2l', 'meis2', 'ccni', 'actg2', 'tbrg4', 'tkfc', 'ugt2b7', 'stoml3', 'mon1b', 'recql5', 'smarca4', 'trpv2', 'yap1', 'klk6', 'wdfy3', 'zbtb40', 'sulf1', 'rabgap1l', 'prkaa2', 'cbln2', 'trib1', 'cbx5', 'xpr1', 'chmp3', 'lta4h', 'tmem267', 'orm1', 'krt6b', 'tdrd15', 'cacna2d2', 'entpd1', 'hoxb2', 'jmy', 'naa10', 'hp1bp3', 'fcer1a', 'rab21', 'rilpl2', 'ebi3', 'slc5a5', 'kat8', 'sim2', 'tdo2', 'glcci1', 'dock9', 'cyp46a1', 'twsg1', 'xrcc4', 'ar', 'dpysl3', 'asb8', 'kiaa0319l', 'rtp5', 'mylk3', 'tmco4', 'nat8l', 'c4bpb', 'ica1', 'myh13', 'mmp23b', 'gltpd2', 'rgl3', 'fbxl18', 'rab11fip3', 'casp5', 'ift52', 'khdrbs1', 'pbld', 'suclg1', 'camkk2', 'ascl3', 'kctd10', 'znf770', 'tmem263', 'tmeff2', 'niban3', 'rab3b', 'znf519', 'yipf1', 'abhd13', 'mbnl2', 'ggt6', 'uhrf1', 'cfap43', 's1pr5', 'ttyh1', 'tubb1', 'hepn1', 'uqcc2', 'septin8', 'parp1', 'fam71b', 'ttyh3', 'nfe2', 'ppp1r27', 'slc5a6', 'il4i1', 'kmo', 'taf13', 'lrrc75a', 'dhcr24', 'ganab', 'ccser2', 'hspa14', 'itm2b', 'bsph1', 'alox15b', 'arhgef16', 'lrrc3b', 'dnajc6', 'micos10', 'adgrd2', 'znf484', 'ap2a2', 'thada', 'bicd1', 'magi1', 'trappc6b', 'saysd1', 'cenpn', 'syt2', 'rala', 'cenpx', 'eefsec', 'pard6g', 'tjp3', 'lbp', 'hykk', 'mmp1', 'pcnt', 'kdm6b', 'znf674', 'usp35', 'pcdhga5', 'pop7', 'apex2', 'setd3', 'acvr1c', 'mgat4d', 'akap1', 'slc39a14', 'slc39a1', 'znf684', 'atg16l1', 'srgap3', 'scgb2a1', 'aldh4a1', 'ddx56', 'bmpr1a', 'mettl21c', 'btn3a2', 'akap5', 'zbtb7a', 'slc9a5', 'ndufb10', 'borcs8', 'baz1b', 'cd300lb', 'or2m2', 'mx1', 'znf641', 'olig2', 'tspan17', 'sntb1', 'ggnbp2', 'spast', 'pole4', 'zbed9', 'pinlyp', 'lipg', 'ash1l', 'tgfbr1', 'gjb3', 'ifna2', 'spg7', 'nags', 'grin3b', 'sebox', 'kirrel1', 'tmem86b', 'znf613', 'nkiras2', 'bloc1s4', 'ripply2', 'tmcc3', 'gimd1', 'gml', 'smim30', 'klrf1', 'slc35c1', 'crybg3', 'sytl4', 'plppr2', 'osgepl1', 'caprin1', 'tgfb1', 'tmem14a', 'tmem116', 'tcf23', 'gpm6a', 'cldn23', 'plxna4', 'evc2', 'nipal4', 'cgrrf1', 'zcchc14', 'metrnl', 'cmtm7', 'cers4', 'cenpe', 'lce3b', 'slc45a4', 'pde1b', 'mrnip', 'tmprss9', 'rpp40', 'gstz1', 'ccdc68', 'znf20', 'cd7', 'hyou1', 'flg2', 'tmem144', 'xpa', 'sema7a', 'grn', 'otud7b', 'lime1', 'armc12', 'kat6a', 'oxr1', 'gabra2', 'phc2', 'cux1', 'sox2', 'cmtr2', 'gan', 'tmbim4', 'llgl2', 'znf783', 'pip', 'prr5', 'mical3', 'hdac4', 'slc22a4', 'znf234', 'timm29', 'arhgef1', 'cd28', 'adgb', 'clec4g', 'krtap24-1', 'pmf1', 'pank4', 'donson', 'ct83', 'zc3h14', 'dbndd2', 'c2cd4a', 'pnmt', 'fus', 'csnk1a1', 'tmem184a', 'ripk3', 'lrrc4', 'gpn1', 'khk', 'dglucy', 'slc44a4', 'plppr1', 'gid8', 'usp9x', 'ankmy2', 'rccd1', 'znf444', 'rpa4', 'trpc4ap', 'fam151b', 'znf777', 'or2t27', 'colca2', 'dnm3', 'cnot10', 'slc14a1', 'prcp', 'grin2b', 'krtap20-1', 'golga8r', 'c1orf94', 'pramef13', 'hmgb3', 'fbxo8', 'ccnd1', 'lypd1', 'dpf3', 'nnt', 'lgals16', 'zswim4', 'hibch', 'nos1', 'dnmt3a', 'sun3', 'cyp2f1', 'tex36', 'cdh4', 'ppp1r11', 'elk3', 'wdr72', 'kdm8', 'gfer', 'znf571', 'nr2e3', 'carm1', 'hbs1l', 'pex6', 'or6c65', 'ptprr', 'gpr150', 'cebpe', 'apba2', 'hm13', 'znf83', 'cdca2', 'ube2v2', 'gpr83', 'rasal1', 'rasal3', 'adora1', 'pnrc1', 'krt26', 'sertm1', 'klf16', 'phyh', 'mospd1', 'ceacam6', 'tnfrsf10a', 'b4galnt1', 'plxdc1', 'gpc3', 'trrap', 'rusc1', 'pilra', 'ldlr', 'gadd45a', 'hba2', 'tmem67', 'crocc2', 'vgll3', 'smr3a', 'lsamp', 'wac', 'gatm', 'nudt21', 'tram1l1', 'cdnf', 'kbtbd4', 'carns1', 'anapc15', 'pdx1', 'cdc73', 'dio3', 'akap3', 'palb2', 'mtfr2', 'asphd2', 'osbpl3', 'afap1l2', 'armcx5', 'sirpb2', 'nufip1', 'slc52a3', 'mta3', 'depdc5', 'runx2', 'lekr1', 'rgsl1', 'fgf11', 'gcdh', 'prune2', 'nhsl2', 'zdhhc17', 'zfyve28', 'nfkbia', 'c17orf99', 'foxr2', 'tex13a', 'ogdhl', 'trit1', 'znf765', 'ccr1', 'dtx1', 'qsox1', 'atp7b', 'lgals3bp', 'c7', 'ptpn5', 'stard8', 'tmem200a', 'znf346', 'ifitm1', 'slfnl1', 'acp6', 'mfsd2b', 'tmem25', 'rfng', 'ube3d', 'trub2', 'klf7', 'tas2r14', 'ggt5', 'ndufa10', 'cdhr2', 'rack1', 'arap2', 'znf337', 'csag1', 'hnrnpa3', 'irf9', 'sec61b', 'sntn', 'kdelr1', 'itgam', 'cwf19l1', 'serpina5', 'sec23b', 'poldip2', 'krtap10-7', 'c11orf45', 'znf827', 'zscan12', 'zdhhc5', 'ndst1', 'pttg1', 'rbm7', 'prkca', 'rab22a', 'sun2', 'kmt2e', 'cd24', 'ovol3', 'tuba4a', 'gbp6', 'dpcd', 'ms4a5', 'yipf2', 'shisa6', 'or2m7', 'dennd1b', 'calhm6', 'ap4b1', 'adam8', 'rhbdd1', 'serpina6', 'pirt', 'tmpo', 'kcnmb3', 'slc25a25', 'praf2', 'spanxn4', 'dclk1', 'nlrc4', 'slc2a11', 'trappc10', 'mettl17', 'slc26a1', 'pex14', 'lzts2', 'hadh', 'caskin2', 'itga10', 'mapk1', 'gp1bb', 'eri1', 'krtap12-1', 'lmln2', 'sorcs1', 'cfap206', 'mcf2l2', 'cyp2j2', 'arhgef33', 'stat5a', 'dhrs11', 'pi4k2a', 'zpld1', 'tnfrsf18', 'prss53', 'hs3st4', 'tmem50b', 'tm7sf3', 'upp2', 'pla2g15', 'plscr5', 'mmp7', 'ddx25', 'cuedc1', 'cd300c', 'nkx3-1', 'znf84', 'rit1', 'timp3', 'pde7a', 'or8j3', 'lars2', 'bcas3', 'nbpf20', 'far2', 'slc4a8', 'tstd1', 'e2f2', 'snx11', 'rasef', 'or2g6', 'wdr31', 'prpf40b', 'chrm5', 'hoxa6', 'cd70', 'zc3h6', 'strit1', 'sec63', 'mtnr1b', 'tmeff1', 'ap2a1', 'snrpb', 'rnf145', 'qtrt1', 'trim56', 'asb6', 'kcnn1', 'krt5', 'apip', 'trim71', 'tmem158', 'cabyr', 'rffl', 'cel', 'utp18', 'il36rn', 'esrp2', 'klrg2', 'camk1', 'mrrf', 'apoc3', 'cux2', 'zcchc9', 'insyn2b', 'omg', 'ccdc178', 'or7a10', 'cpt1c', 'sfxn1', 'zbtb10', 'stk17b', 'prss38', 'pibf1', 'atp13a5', 'upk3a', 'wdr43', 'rnf8', 'dok2', 'rtl1', 'popdc3', 'slurp1', 'ms4a15', 'clec12b', 'rtn4r', 'dmrtb1', 'mpzl2', 'znf683', 'btnl2', 'ccr10', 'zcchc7', 'she', 'ctdsp1', 'mica', 'aldh18a1', 'gipc2', 'tcf3', 'cbarp', 'pkn1', 'abca5', 'trim25', 'frmpd3', 'hspb9', 'ttc32', 'ankdd1b', 'soat1', 'smim38', 'slc38a1', 'slc43a3', 'rybp', 'pidd1', 'gpr39', 'tpm1', 'mtmr11', 'sprr2a', 'fig4', 'pfkm', 'atp1a3', 'slc35f3', 'cldnd1', 'rxfp3', 'shank3', 'copz1', 'nceh1', 'slc9b2', 'cacng7', 'fkbp7', 'lrrc8b', 'akip1', 'pik3c2a', 'slc6a17', 'krtap15-1', 'thoc5', 'fis1', 'scx', 'alg8', 'timmdc1', 'manba', 'mme', 'pkmyt1', 'lvrn', 'eme2', 'padi3', 'kcnip3', 'gpr173', 'zscan32', 'pof1b', 'nfia', 'pdcl3', 'otof', 'nfu1', 'fbxo3', 'ccdc32', 'cox4i2', 'tnip1', 'cul4b', 'trh', 'mlana', 'igbp1', 'ftcd', 'fundc2', 'pet117', 'ihh', 'znf300', 'chrm2', 'slc22a24', 'nek11', 'ncf2', 'agbl3', 'cfap46', 'emc4', 'arv1', 'zdhhc8', 'alg3', 'itgb8', 'chmp6', 'ints6', 'ngef', 'agbl4', 'egfr', 's100p', 'arhgap45', 'lhx8', 'cd109', 'thap3', 'fam24b', 'slc25a31', 'dock10', 'clasp2', 'znf776', 'moap1', 'wiz', 'znf502', 'ube3b', 'usp5', 'hsd17b6', 'wdr38', 'lrcol1', 'shfl', 'pkm', 'isl1', 'foxh1', 'fitm2', 'pramef11', 'apol2', 'ing5', 'gna14', 'asb7', 'ceacam21', 'gpi', 'gfm2', 'wdr91', 'retreg1', 'ehbp1', 'c2cd2l', 'cldn8', 'naa16', 'cops2', 'mapk14', 'nsd1', 'fam98c', 'prmt2', 'or5au1', 'stk32c', 'tbc1d2', 'obp2b', 'glt1d1', 'mthfd1', 'enpp6', 'fahd2b', 'deaf1', 'nme1', 'pstpip1', 'cryba1', 'znf554', 'or1j1', 'med1', 'spag16', 'trem1', 'dclre1b', 'slc5a10', 'atxn7l3', 'btn2a1', 'nxn', 'hoxc13', 'c11orf58', 'crtap', 'ccdc113', 'b3galt6', 'psmb4', 'ywhah', 'katnbl1', 'otop3', 'usp11', 'large1', 'c11orf53', 'apobec3f', 'mpp5', 'gfpt1', 'noc4l', 'eif2b2', 'plaat5', 'onecut1', 'socs3', 'kcna4', 'angpt4', 'gstt2b', 'ston1', 'bag6', 'chst1', 'morc2', 'tk2', 'cct8', 'rasgrf2', 'wdr55', 'nrxn2', 'dffb', 'ppp1cb', 'pla2g2a', 'amph', 'fbh1', 'uba7', 'snupn', 'krt74', 'crygs', 'mrtfb', 'pfdn2', 'znf319', 'exd3', 'tgds', 'cyb5d2', 'rdx', 'plppr5', 'gal3st1', 'smim2', 'cbl', 'ablim1', 'c11orf16', 'cobl', 'neu2', 'usp2', 'znf587', 'lce2b', 'eps8', 'paip2', 'dcxr', 'acot7', 'il2ra', 'klk12', 'phf21b', 'ddr2', 'rgs20', 'unc5a', 'cmya5', 'drc3', 'riox2', 'jhy', 'ticrr', 'emid1', 'dnmbp', 'frs2', 'fam228b', 'aprt', 'lce6a', 'rbm12b', 'sdr39u1', 'slc13a3', 'anp32d', 'arsk', 'cd86', 'syt10', 'malsu1', 'gfi1', 'sema3b', 'hgd', 'commd2', 'cnih2', 'ipo11', 'rock2', 'dgcr2', 'tbc1d9b', 'mettl14', 'or5ar1', 'dxo', 'saxo2', 'mboat2', 'nectin2', 'cntln', 'kprp', 'tdrd1', 'fam210b', 'txnip', 'aifm3', 'cd5l', 'bves', 'sgo2', 'dmac1', 'trat1', 'bcat2', 'tmem182', 'tmem120a', 'cmss1', 'aanat', 'cdcp2', 'p2ry13', 'tent4b', 'plcl1', 'rtl8b', 'klhl31', 'il12b', 'osbpl5', 'negr1', 'gng3', 'awat1', 'bdkrb1', 'ptms', 'kcnmb4', 'pm20d1', 'plxnc1', 'slc25a42', 'ece1', 'mfrp', 'tbpl2', 'exosc3', 'gtf3a', 'fgf18', 'polh', 'zbed8', 'glb1', 'insig1', 'rbpj', 'brd3', 'znf514', 'r3hdm2', 'ripply1', 'nabp1', 'prickle2', 'ip6k2', 'nod1', 'cdc14a', 'gng4', 'fbrsl1', 'babam1', 'lair2', 'prkacg', 'bhlhe40', 'lgmn', 'cisd1', 'otog', 'mdc1', 'fntb', 'naglu', 'nyap2', 'tfb1m', 'myh7b', 'trip12', 'slc20a1', 'cldn3', 'endog', 'cacna1s', 'mon1a', 'cops4', 'adamts7', 'ephb3', 'dhx33', 'mgat5b', 'vldlr', 'st8sia5', 'rnf150', 'krtap22-2', 'lyg1', 'ppcdc', 'or51a4', 'dnajc9', 'endou', 'slc4a1', 'chrna10', 'atp1b4', 'snx27', 'ppdpf', 'best4', 'pcdh12', 'golga1', 'abca4', 'ttll12', 'oas3', 'axin1', 'spns1', 'zfp90', 'hhipl2', 'rela', 'glrx5', 'sgk3', 'cmip', 'rbp5', 'tspan16', 'atg13', 'hspb3', 'tcof1', 'zscan23', 'sdc3', 'tasor', 'otub2', 'olig1', 'rab5b', 'vps4a', 'pdcd10', 'krtap4-11', 'armc5', 'sertad1', 'ndnf', 'gprc6a', 'serinc2', 'znhit2', 'gigyf1', 'diras1', 'commd9', 'armh4', 'tmem45b', 'pld5', 'twist1', 'efhd2', 'shox2', 'pth2', 'dmkn', 'dpm1', 'polr3c', 'amz2', 'barhl1', 'znf596', 'fignl2', 'adam33', 'suclg2', 'cdca7l', 'naa60', 'usp20', 'gpr3', 'prmt1', 'ube4a', 'aicda', 'tmem201', 'znf282', 'amotl1', 'slc2a13', 'efnb3', 'arhgap8', 'cfap97', 'klf6', 'pcdhgb7', 'siglec10', 'arfgef3', 'sema4b', 'renbp', 'spata18', 'ncam2', 'ctxn3', 'smpd2', 'ogfod1', 'wfdc13', 'page4', 'spink8', 'ska2', 'poglut2', 'kif3c', 'ikbkg', 'lims2', 'lilra4', 'cdc45', 'mul1', 'secisbp2', 'slc10a1', 'gne', 'pnpla7', 'nmt2', 'jmjd4', 'ubc', 'tmem86a', 'ttc37', 'sorbs2', 'fbxo30', 'znf117', 'adamtsl1', 'fam186b', 'c1qtnf12', 'sfpq', 'pigp', 'tarbp2', 'cdk20', 'atp6v0c', 'grb2', 'lrrc31', 'phlda3', 'erich3', 'erp29', 'map3k19', 'nup88', 'gak', 'htr2c', 'mysm1', 'nlrp9', 'vangl1', 'c7orf61', 'vrk1', 'wnt5a', 'vcam1', 'nat2', 'ncam1', 'cdh7', 'slc37a4', 'raet1e', 'zwint', 'hnrnpll', 'cacna1b', 'fam71e2', 'hspa2', 'kif20a', 'dusp13', 'podn', 'faf2', 'c5', 'apobec4', 'piwil4', 'cwc22', 'grid2ip', 'rassf8', 'plek2', 'mrgprf', 'imp3', 'slc30a5', 'timm21', 'tmem161a', 'thop1', 'scn4a', 'or2k2', 'agap3', 'oxld1', 'ap4e1', 'cidec', 'rpf1', 'lrrc46', 'thap10', 'fabp4', 'ice2', 'prc1', 'fam47b', 'cuedc2', 'unk', 'tex35', 'csnk1a1l', 'lhx3', 'lrrn2', 'prepl', 'polr2d', 'cltb', 'rap1a', 'gnmt', 'ube2d1', 'tuba3e', 'or2w1', 'sult1a1', 'cchcr1', 'mgat4b', 'arl5a', 'abhd15', 'iqce', 'foxi1', 'b4galt3', 'gsn', 'gsta2', 'ankrd30a', 'tmem109', 'vamp2', 'znf625', 'pabpc5', 'zfc3h1', 'gmip', 'depdc4', 'ddx28', 'insyn1', 'znf558', 'rad51d', 'wdr7', 'hdx', 'pecr', 'qrich1', 'tdp2', 'lynx1', 'cnrip1', 'ccdc38', 'large2', 'dlgap4', 'khdc1', 'znf347', 'cebpzos', 'cav1', 'cd14', 'mtmr10', 'c5orf52', 'rrp15', 'dll1', 'pdp2', 'sec16b', 'sox5', 'hgs', 'slc15a2', 'igfbp2', 'svip', 'fam174c', 'evx2', 'uimc1', 'coq3', 'hs6st1', 'pcsk1n', 'trim26', 'tyrp1', 'cep41', 'tmem251', 'chd6', 'ocel1', 'pdk4', 'cd320', 'lats2', 'derl1', 'med13', 'cers2', 'rsrc2', 'tmem131', 'nog', 'atox1', 'mipep', 'mtmr9', 'wdr93', 'dcaf7', 'nol4', 'inpp5b', 'usp1', 'bend2', 'tspan11', 'ppfibp2', 'neurl3', 'lxn', 'ifit1', 'krt6a', 'erg', 's100b', 'ftsj3', 'iqgap1', 'ptchd1', 'scarb1', 'ift88', 'fgf4', 'arap1', 'tjp1', 'tas2r1', 'lsmem1', 'tincr', 'erich4', 'ube2o', 'timm17a', 'tuba4b', 'grk6', 'pacrgl', 'rbsn', 'pcsk7', 'cplx4', 'c20orf27', 'cryl1', 'commd5', 'ankrd28', 'diaph3', 'plaur', 'sftpd', 'nos2', 'rasgef1c', 'dpy19l4', 'klf1', 'stag1', 'slc27a1', 'krt31', 'tuba1c', 'mmp27', 'nsfl1c', 'eln', 'fam3d', 'mat2b', 'cd22', 'ercc1', 'dscaml1', 'ccdc71', 'igflr1', 'rab33a', 'opn3', 'tsc22d4', 'strap', 'taf4b', 'ebf4', 'nelfe', 'ugt2a2', 'znf106', 'clc', 'tbp', 'rab25', 'ipo13', 'nr1h3', 'cd55', 'eif4g2', 'hnrnpd', 'slc6a3', 'st8sia2', 'masp2', 'artn', 'ehd3', 'sv2c', 'ppp3r2', 'bambi', 'sclt1', 'vkorc1', 'poc5', 'rrad', 'g6pd', 'strc', 'btbd17', 'bub1', 'rnf7', 'il22ra2', 'sdcbp2', 'atg101', 'atoh7', 'ext2', 'gtf2a2', 'chsy1', 'gbgt1', 'ppm1k', 'emc8', 'dmac2l', 'fanca', 'scrib', 'spdye1', 'fam71a', 'dnajb5', 'ankrd16', 'arrdc5', 'klhl26', 'nt5c', 'itprip', 'or9q1', 'dysf', 'sobp', 'baiap2l1', 'tspyl1', 'fate1', 'gab2', 'calm1', 'coro1c', 'ca12', 'rgs9bp', 'ccdc163', 'rfx8', 'rraga', 'dnd1', 'zbtb14', 'c14orf39', 'mss51', 'trpc6', 'dync1i1', 'nolc1', 'igfl4', 'tubgcp2', 'bnip1', 'mnd1', 'aldh3b2', 'sh2b1', 'sh3yl1', 'slc35g3', 'txndc2', 'gapvd1', 'pank1', 'mpig6b', 'pde6a', 'c2orf81', 'dmpk', 'leprot', 'or2t1', 'il6r', 'syt16', 'tex53', 'muc13', 'ido2', 'clec6a', 'hivep2', 'atf7', 'or4k1', 'c19orf67', 'scamp2', 'qrich2', 'golga6l7', 'psrc1', 'med18', 'ninj2', 'stk24', 'tox3', 'tmc4', 'armh3', 'or51f2', 'polr2i', 'kitlg', 'vn1r4', 'znf775', 'or2t11', 'c10orf67', 'pik3r5', 'cnot6', 'sh2b2', 'akr1c8p', 'lhcgr', 'spi1', 'ppp1ca', 'gzf1', 'ifngr2', 'slamf1', 'tax1bp1', 'gpr157', 'ltf', 'ctdspl2', 'znf134', 'arhgap12', 'slc6a14', 'acsbg2', 'otulinl', 'sstr2', 'gdf3', 'tbc1d24', 'slco4a1', 'otor', 'dlgap5', 'nrl', 'ntrk1', 'tepp', 'gpr137', 'wdr36', 'ankrd34a', 'lsm4', 'apoo', 'zbtb33', 'fbn1', 'acbd3', 'ndufb5', 'ipo8', 'krtap4-1', 'dnpep', 'rpgrip1l', 'add3', 'rgn', 'cyp2c8', 'rbmx2', 'cdk5rap3', 'tmed7', 'wnk3', 'cmtr1', 'ercc5', 'ap1s1', 'tlcd1', 'znf532', 'trpm6', 'c1orf194', 'dph2', 'lysmd1', 'chrnb3', 'mmadhc', 'rnf157', 'plvap', 'kif1a', 'slc41a2', 'plk3', 'man1a2', 'gjb1', 'stx19', 'epas1', 'plac8l1', 'ror2', 'map6', 'abhd8', 'irgc', 'cyp2w1', 'kat2b', 'egln3', 'ruvbl1', 'lmo7', 'pvr', 'pdxk', 'tusc3', 'stpg2', 'tnfrsf11b', 'pmis2', 'sned1', 'ramacl', 'tex264', 'c10orf99', 'dcdc1', 'arpc5', 'cpa2', 'ciart', 'nfib', 'adam29', 'txlnb', 'zim2', 'gpr135', 'or3a1', 'mroh7', 'c7orf33', 'kat7', 'cd163', 'c1qtnf6', 'golim4', 'mt-atp6', 'csnk1g2', 'amacr', 'amd1', 'prdm10', 'msn', 'acvrl1', 'cetn3', 'adarb1', 'ccdc12', 'ppp1r3e', 'tnni2', 'gmpr2', 'stx12', 'nptxr', 'trip13', 'or10g8', 'rubcn', 'fam8a1', 'arid4a', 'myoz3', 'ace2', 'pmm2', 'proz', 'nubpl', 'mt-nd2', 'mfsd9', 'faap100', 'urgcp', 'aip', 'lce3a', 'sprr2e', 'grhpr', 'slc25a5', 'rxfp1', 'znf821', 'jup', 'rexo2', 'tmlhe', 'chd5', 'kdm5a', 'acox1', 'prg4', 'kank1', 'pptc7', 'bex1', 'txndc9', 'cers6', 'spata12', 'siah2', 'uros', 'hipk4', 'wnk2', 'smurf2', 'hoxa13', 'nxph2', 'parn', 'tmod2', 'ccnb2', 'psma5', 'prune1', 'ednra', 'znf425', 'appl2', 'cdk8', 'haus8', 'tff3', 'ctf1', 'sycp1', 'slc41a1', 'slitrk3', 'wdr83os', 'thoc1', 'prelid3b', 'slc25a48', 'or10a5', 'tram1', 'txndc5', 'dppa2', 'cpeb2', 'cpe', 'necap1', 'or6s1', 'pdcd5', 'yipf6', 'brd7', 'map1b', 'stau2', 'srsf12', 'hexd', 'gsta1', 'pwp1', 'gls', 'tomm7', 'tomm5', 'pla2g2d', 'scn2b', 'fbxo17', 'ddx20', 'or2t6', 'heatr5b', 'dennd4b', 'nuf2', 'vwc2l', 'mcph1', 'svopl', 'asb17', 'krba1', 'arhgap22', 'or5j2', 'atl1', 'gpr12', 'pdcd6ip', 'c2cd2', 'mrc1', 'or5m1', 'ascl1', 'lgi1', 'bag2', 'ostc', 'c1orf226', 'gtf2ird1', 'etaa1', 'foxo3', 'dzank1', 'fes', 'bst2', 'hspa9', 'or8d4', 'lss', 'abhd12', 'epm2aip1', 'slc31a2', 'spats2', 'nfatc2ip', 'gpr62', 'tspan4', 'uty', 'pilrb', 'sipa1l2', 'ndor1', 'sbno1', 'vti1b', 'wwc3', 'vwa7', 'tfe3', 'ace', 'foxo1', 'palld', 'znf254', 'rpe', 'usp47', 'srp72', 'spred2', 'exoc1', 'hdac3', 'trim66', 'srxn1', 'fxr2', 'ifi44', 'smad1', 'fem1c', 'c1orf56', 'ramp2', 'lilrb5', 'chmp4b', 'cdhr3', 'psme3', 'palmd', 'gnai2', 'ost4', 'tubgcp4', 'stx5', 'pak5', 'clhc1', 'adrm1', 'mob4', 'rab38', 'tiprl', 'tcn2', 'slc6a12', 'nxf3', 'washc5', 'spry1', 'crp', 'disc1', 'sar1a', 'ppt1', 'gfod1', 'caprin2', 'golga8o', 'vipas39', 'slc8b1', 'rxylt1', 'htn3', 'eps8l2', 'nup62', 'lgals9c', 'or6c68', 'bcl2l1', 'ugdh', 'antxrl', 'flt3lg', 'arfgap2', 'pfdn1', 'nrg1', 'ugt1a10', 'sgce', 'muc20', 'krtap3-2', 'gtf2f1', 'ier2', 'ccdc51', 'fbxo36', 'ankrd22', 'ckap2', 'ebf1', 'sox1', 'tnfsf15', 'smdt1', 'reep5', 'gsk3a', 'bbs4', 'fam168a', 'tial1', 'gstm1', 'enpp7', 'pla2g3', 'ccdc43', 'slc16a7', 'iah1', 'maff', 'cnnm1', 'klhdc8a', 'slc26a5', 'krt38', 'spry3', 'acadl', 'smarca5', 'fpgt', 'enpp1', 'serpina1', 'gpr119', 'stmn3', 'rnf223', 'pggt1b', 'kctd21', 'bub3', 'entpd4', 'hoxc4', 'vat1', 'gja4', 'sirt6', 'pepd', 'unc13b', 'galnt18', 'elavl3', 'thap12', 'slc9a2', 'zbtb11', 'tmod3', 'bbs2', 'hoxb13', 'myh1', 'syf2', 'slc8a2', 'rftn1', 'bdp1', 'sox6', 'bcdin3d', 'scrn1', 'tmem53', 'arpc2', 'lrrc41', 'znf658', 'ccer1', 'slc34a1', 'rabgef1', 'med16', 'pfkfb3', 'ampd1', 'pydc2', 'or52n2', 'ttll9', 'znf136', 'mecp2', 'or2aj1', 'kcnmb1', 'ociad1', 'cfap69', 'gata4', 'gxylt2', 'dcp1a', 'rab40c', 'atad1', 'map2', 'c6orf58', 'sdha', 'nagpa', 'rpain', 'ubac2', 'trap1', 'nmnat1', 'kctd16', 'cacng1', 'gad1', 'rec114', 'dzip1', 'hs3st3b1', 'calr', 'mybph', 'vn1r2', 'ly6g5b', 'armc9', 'flrt3', 'tlx2', 'myo3b', 'ccdc166', 'paqr9', 'c1orf174', 'chrac1', 'ndufv1', 'or56a3', 'usp8', 'gin1', 'rabif', 'or5h15', 'gstcd', 'r3hcc1l', 'cd4', 'syndig1l', 'c8orf88', 'tpbg', 'rassf2', 'hspb1', 'cxcr1', 'hpcal1', 'klf17', 'zscan10', 'bloc1s2', 'or5h2', 'tbccd1', 'slc4a2', 'arhgap21', 'tmem52b', 'endov', 'fras1', 'kpna7', 'hoxd13', 'rab11fip1', 'znf19', 'krtap10-1', 'foxb1', 'or8a1', 'fbln5', 'zdhhc1', 'tspan19', 'znf10', 'sp3', 'sirt2', 'pxdnl', 'cldn15', 'mageb10', 'sesn1', 'srpx', 'ppp2r5e', 'znf724', 'padi6', 'c4orf47', 'psenen', 'efl1', 'defb121', 'nus1', 'olig3', 'efhd1', 'trpm5', 'col11a1', 'ebag9', 'stx17', 'plce1', 'ssh3', 'resf1', 'or8b12', 'pdk2', 'denr', 'rab9b', 'kdm5d', 'crispld2', 'ca4', 'cbfb', 'orc6', 'colgalt2', 'smagp', 'pip4k2a', 'ttbk1', 'rlim', 'tm2d1', 'lrrn1', 'anks1b', 'myh7', 'socs1', 'rapgef5', 'ccrl2', 'zbtb6', 'snap47', 'tmem229a', 'znf843', 'cpsf3', 'krtap26-1', 'ndrg4', 'ldhc', 'cox8a', 'eomes', 'mogs', 'sap30l', 'ppil1', 'mdh2', 'ccdc180', 'nup58', 'nsd2', 'plk5', 'znf275', 'map7d2', 'ppig', 'rab17', 'mpv17', 'tapbp', 'cx3cr1', 'smim28', 'ric1', 'ppp1r7', 'tmem238l', 'vrtn', 'lamp3', 'cep72', 'astl', 'pitx1', 'fam193b', 'dipk1b', 'prss36', 'znf594', 'prpsap2', 'fam53a', 'camk2a', 'fam217a', 'zscan9', 'fcar', 'ncr1', 'cct8l2', 'slc38a8', 'r3hdm4', 'dyrk3', 'dock3', 'timd4', 'trank1', 'map1a', 'elane', 'med17', 'epb41l4a', 'znf556', 'mospd2', 'ncbp3', 'usp4', 'tle4', 'iqsec1', 'safb2', 'fcer1g', 'tgfbr3l', 'acss2', 'mcat', 'znhit6', 'znf623', 'kcns3', 'slc30a8', 'rab2b', 'apcdd1', 'or5d3p', 'klrk1', 'or10p1', 'ifnl2', 'dmrta2', 'pnpla4', 'mtln', 'ntn1', 'tmem273', 'npc1', 'zfhx4', 'ckap5', 'atp5f1b', 'lrrc37a2', 'hat1', 'ubn1', 'pcdhgc5', 'jazf1', 'katnal1', 'foxd3', 'sarnp', 'krt35', 'cops7a', 'ccdc158', 'rragc', 'zc3h12a', 'coa6', 'riok2', 'dop1a', 'sec11c', 'ttll3', 'gcsaml', 'ascc2', 'tbl1x', 'birc3', 'tmem247', 'fanci', 'ccdc102b', 'rce1', 'setd5', 'page2', 'atp5mgl', 'kynu', 'fabp1', 'tex22', 'c15orf65', 'smarca1', 'pcdhga8', 'myl1', 'cxxc1', 'mpp4', 'plpp6', 'kif1c', 'gramd4', 'dkk2', 'arl4c', 'lamtor4', 'mtfp1', 'scml1', 'wscd1', 'adam2', 'gypc', 'kcnj14', 'atp11b', 'meikin', 'topbp1', 'sp8', 'ndrg2', 'ints1', 'arid3b', 'or4c3', 'pls3', 'prlh', 'ankrd1', 'adcy8', 'syt7', 'lsm10', 'tctn1', 'rcbtb1', 'ces5a', 'kcnj6', 'tead1', 'garem2', 'bsnd', 'znf619', 'atp6v1g2', 'apol1', 'faf1', 'timm8b', 'farp2', 'slc24a2', 'tspan32', 'vwa1', 'cntnap3', 'dcdc2', 'znf408', 'tatdn3', 'erbb4', 'trpm8', 'slc52a2', 'nupr2', 'epsti1', 'becn2', 'nr1d2', 'stoml2', 'tagln2', 'g3bp2', 'fbxw4', 'hsfx4', 'ms4a10', 'tafa3', 'lyz', 'psd2', 'kcnip1', 'fbxw5', 'mindy2', 'zswim3', 'chmp2b', 'arfgef2', 'acp1', 'micb', 'dmac2', 'wdhd1', 'pcdhb15', 'usp37', 'myo10', 'cdh13', 'ppil3', 'akap11', 'fam111b', 'btbd3', 'bmp15', 'rp1l1', 'slc66a1', 'cmc2', 'snu13', 'sptssb', 'kdm1b', 'lap3', 'patj', 'fcn3', 'mall', 'tmem82', 'nol7', 'rsph9', 'ngb', 'foxf1', 'enthd1', 'usp27x', 'misp', 'mok', 'pkn3', 'rspo4', 'btbd11', 'kank4', 'dock2', 'serpina4', 'magea8', 'defb119', 'nat8', 'helb', 'il18rap', 'znf875', 'ffar1', 'col13a1', 'atp6v0a2', 'gal', 'icam3', 'cby1', 'agap2', 'larp7', 'rspry1', 'pom121l2', 'rabgap1', 'dlx6', 'rdh8', 'ugt2b4', 'ttc13', 'actr10', 'c17orf97', 'jsrp1', 'lin7a', 'capza3', 'zmat4', 'nol6', 'dthd1', 'fkbp6', 'c15orf62', 'lcn15', 'ccer2', 'rab3gap1', 'or2j2', 'cpt2', 'ipo9', 'plp1', 'nvl', 'tmem106c', 'neurl2', 'c12orf4', 'eps15l1', 'cep290', 'mdh1b', 'nt5c1a', 'ovch2', 'kcnj8', 'fam170a', 'sox17', 'znf100', 'rin1', 'fbxo4', 'ttll6', 'ifitm10', 'c5orf15', 'tysnd1', 'znf490', 'apoe', 'mtrex', 'mybbp1a', 'olfml1', 'psmd11', 'rab3gap2', 'ears2', 'nap1l5', 'ppp1r12a', 'nit2', 'brd2', 'fgf10', 'c10orf143', 'fbxo47', 'peg10', 'cldn25', 'gng13', 'zp1', 'ythdf2', 'chst10', 'pou2af1', 'tmem11', 'spag17', 'tnni3k', 'acsl5', 'tmem132d', 'evpl', 'tnrc6c', 'notch3', 'wrn', 'gpaa1', 'rgpd4', 'rcvrn', 'tceanc', 'dynlt1', 'bhlhe41', 'rbmx', 'eva1a', 'plpp3', 'lyzl2', 'unc13d', 'kdm2a', 'osbpl1a', 'gpn3', 'mindy3', 'otogl', 'usp26', 'nub1', 'lrrc8e', 'eif3l', 'hyal2', 'adgrg7', 'hsf2bp', 'cbll2', 'c1qa', 'gucy2f', 'sh3bgrl2', 'elac1', 'sec14l4', 'slc22a2', 'cog2', 'prelid2', 'det1', 'ccdc86', 'u2surp', 'spata16', 'ccdc179', 'ldb3', 'psmd9', 'taf2', 'rab18', 'c1qtnf2', 'plxna1', 'upf3b', 'lep', 'pim3', 'trim49b', 'cdh10', 'dsc1', 'b3gnt8', 'inhbe', 'etv4', 'efcab8', 'lrat', 'il15', 'znf154', 'cntn4', 'fads2', 'or4f4', 'cemip', 'or7d4', 'c1orf127', 'ly75', 'gpr108', 'trappc2l', 'tspan15', 'lrriq4', 'rnf19a', 'jam2', 'f5', 'plpp1', 'fam120b', 'spata33', 'zacn', 'tdrkh', 'cd302', 'mef2d', 'tuba1b', 'creb3l2', 'sfxn3', 'cc2d2b', 'hs3st2', 'mfsd11', 'hsd17b13', 'phax', 'sfn', 'tmem9', 'izumo3', 'rnf166', 'kat14', 'gsdma', 'xbp1', 'rab23', 'dgka', 'tssk4', 'cavin4', 'taar9', 'etv5', 'knl1', 'ppm1n', 'rel', 'kctd14', 'lage3', 'pcolce', 'rapgef1', 'gria4', 'galnt5', 'aqp2', 'prrc2b', 'hmgn4', 'nt5dc2', 'rfwd3', 'gimap5', 'cblif', 'odr4', 'slc2a4', 'cdh23', 'slc28a1', 'cdk15', 'cldn10', 'znf599', 'kcnh5', 'psmd6', 'csmd3', 'dis3l2', 'ifitm3', 'mfhas1', 'myot', 'tsg101', 'ostf1', 'nudt8', 'ubap2l', 'fh', 'gorasp1', 'kctd11', 'tmem200c', 'dsg1', 'tmem44', 'cyp2a13', 'blnk', 'kcnq4', 'gcg', 'fastkd1', 'stim1', 'slc17a7', 'klhl35', 's100a13', 'pgk2', 'sp110', 'spaca6', 'c1orf210', 'afap1', 'znf165', 'znf76', 'megf6', 'usp22', 'akap4', 'mad2l2', 'lrrfip1', 'actl7a', 'nudcd2', 'slc1a1', 'fam47a', 'cpa6', 'fam219b', 'ndufb11', 'slc7a3', 'alkbh1', 'eno2', 'ankrd61', 'cmc1', 'orc5', 'dhx9', 'cnn2', 'dnah3', 'zfp37', 'epop', 'ykt6', 'radil', 'zbed5', 'cfd', 'fam3b', 'fam240b', 'klhl20', 'kctd18', 'prss45p', 'ehbp1l1', 'slc8a1', 'hoxd1', 'sbsn', 'ncor2', 'clul1', 'wnt2b', 'isg20l2', 'atoh1', 'cep104', 'cnot1', 'exoc5', 'igfals', 'hspe1', 'cited2', 'hamp', 'sptbn4', 'tmem71', 'ckb', 'acox3', 'teddm1', 'phb', 'epn1', 'krtap1-4', 'tia1', 'nsg2', 'rhd', 'edem2', 'lancl1', 'ppp6r1', 'or52n4', 'celf3', 'msh5', 'tmem241', 'st7', 'b3gat1', 'lelp1', 'dcst1', 'ung', 'dhx8', 'rab11b', 'guca1c', 'fam107b', 'vps26b', 'prss22', 'avpr1a', 'itga1', 'ddx1', 'cyp4f22', 'enpp2', 'cst11', 'smarcal1', 'kcna10', 'fgd5', 'srbd1', 'gba', 'eppin', 'ap1b1', 'mlycd', 'pkia', 'kndc1', 'afg1l', 'dll3', 'sirt4', 'e2f5', 'brf2', 'magt1', 'camk2n2', 'mbl2', 'znf365', 'arl6ip1', 'mab21l2', 'ccn3', 'card19', 'optn', 'or7g2', 'raet1l', 'ctla4', 'alox12', 'cfap73', 'pygb', 'gpr156', 'znf213', 'dact1', 'plag1', 'c1s', 'zbtb8a', 'scamp3', 'scn4b', 'fbxo48', 'sec24a', 'rfc3', 'atp6v1d', 'armc10', 'e4f1', 'oasl', 'pebp1', 'fan1', 'commd7', 'daglb', 'golph3l', 'psmc3', 'ugt1a3', 'gria3', 'rpusd3', 'prps1', 'c13orf42', 'satb2', 'pfn2', 'ctxn1', 'ero1b', 'mocs1', 'dlat', 'cenpm', 'c10orf88', 'npb', 'susd6', 'ddb1', 'rbm18', 'ebp', 'sertad4', 'prdm9', 'c12orf56', 'calb2', 'acaca', 'ppp1r3g', 'klf9', 'krtcap2', 'spin2b', 'snx1', 'dmrt2', 'haus2', 'tcim', 'defa4', 'rfpl3', 'rnps1', 'arl3', 'pax1', 'c1qbp', 'c1qtnf9', 'yipf7', 'cox18', 'ints9', 'clptm1', 'qrsl1', 'plxdc2', 'ube2i', 'hrct1', 'ppox', 'cacng6', 'bex3', 'ddr1', 'atp5mc2', 'psmb11', 'mrgbp', 'prdx4', 'snrpd1', 'zbtb43', 'thy1', 'ccdc15', 'nuak1', 'or7g3', 'pramef19', 'tbc1d22a', 'fam110b', 'ppip5k2', 'il24', 'znrf3', 'pld1', 'evl', 'cbx8', 'insl3', 'hmcn2', 'sp100', 'clpb', 'ppp2cb', 'rpn2', 'arhgef37', 'col10a1', 'homer1', 'mdga2', 'vamp7', 'zan', 'cacna2d1', 'rnd1', 'znf207', 'slbp', 'ndufaf7', 'nmral1', 'cetn1', 'zbed4', 'noc2l', 'znf70', 'miox', 'gngt2', 'smim41', 'cant1', 'dele1', 'ccnf', 'c1qc', 'heyl', 'agpat1', 'pspc1', 'tbx18', 'batf3', 'rhex', 'psmd10', 'tsen34', 'cfp', 'tbc1d20', 'tcf24', 'sdf2l1', 'plekhh3', 'fut5', 'ammecr1l', 'rab44', 'mutyh', 'or52b4', 'ephx4', 'pcdhb2', 'znf214', 'ltbp1', 'tmem229b', 'sppl2b', 'adgre2', 'cryzl1', 'col25a1', 'tmem268', 'nf2', 'pde6b', 'sag', 'pogz', 'c2cd4d', 'tmem30b', 'abr', 'vgll4', 'stt3b', 'fgb', 'srsf3', 'chmp5', 'nrk', 'sae1', 'kti12', 'ankle2', 'tomm40', 'myh9', 'lypd3', 'ppp3ca', 'zscan5b', 'hsd17b12', 'hmgcs1', 'prrx1', 'sorbs1', 'smim1', 's100a14', 'dtl', 'golga6l2', 'usf1', 'taf5l', 'slc4a3', 'ctxnd1', 'pramef10', 'pigu', 'ddah1', 'or6q1', 'magea6', 'tarbp1', 'lrp5', 'prss41', 'znf250', 'galnt2', 'gsdmb', 'ptpn4', 'clcnkb', 'adcy10', 'n4bp3', 'ctnnd2', 'klk5', 'dpp3', 'ebna1bp2', 'ralb', 'has2', 'rnase12', 'papss2', 'tex10', 'prr12', 'or2ae1', 'adh5', 'synj2bp', 'mgp', 'spaca3', 'pcyox1', 'rbl2', 'clec2a', 'itgb6', 'scara5', 'alg1', 'znf816', 'cela3b', 'znf862', 'fam89a', 'c8b', 'cort', 'slit1', 'arg1', 'pdp1', 'pprc1', 'sox3', 'mettl2a', 'chkb', 'ascc1', 'ephb1', 'or8g1', 'il3ra', 'lnpk', 'dr1', 'slc22a10', 'safb', 'armc1', 'elf4', 'ncmap', 'cadm4', 'psmd3', 'slc16a4', 'fbxo43', 'rap2b', 'gsta3', 'pdhx', 'ttc5', 'gzmk', 'elp2', 'spef1', 'zap70', 'aldh6a1', 'ksr2', 'traf3ip1', 'entpd7', 'otud7a', 'amn1', 'c14orf119', 'ccnd2', 'npr1', 'amer3', 'arhgef4', 'nans', 'acadsb', 'tas2r30', 'fam181b', 'snapin', 'cab39l', 'ahctf1', 'gnb1', 'htr2a', 'm6pr', 'uevld', 'c5ar1', 'igsf22', 'pkp1', 'stk38l', 'kcnq5', 'pcdha7', 'arl16', 'sipa1l1', 'klb', 'samd10', 'cfl1', 'mt1hl1', 'cxcl8', 'mtmr7', 'ppp1r10', 'pop1', 'wdr3', 'catsperz', 'gspt1', 'or2a25', 'pde8a', 'ciao2a', 'nudt12', 'serpinb5', 'padi1', 'spink9', 'reck', 'crisp2', 'hhip', 'dcaf17', 'xrcc5', 'or2s2', 'slc6a19', 'prss16', 'adamts15', 'ccar2', 'dusp12', 'dvl3', 'kbtbd2', 'c11orf95', 'dusp14', 'nkx2-3', 'p2rx3', 'cga', 'tor2a', 'plekho2', 'rnf24', 'prdx3', 'trpv3', 'sapcd2', 'lmf2', 'hscb', 'nr1i2', 'mgst1', 'magec3', 'smim9', 'tafa5', 'fam174a', 'maf1', 'or10t2', 'gmeb2', 'foxi2', 'ddo', 'rad17', 'adam19', 'pgghg', 'c1orf53', 'ptprf', 'ssu72p8', 'rad21', 'egfl7', 'acsm2a', 'znf329', 'znf257', 'cacna1f', 'egflam', 'ydjc', 'susd2', 'brat1', 'sema3d', 'kcne4', 'cxcl14', 'nphs2', 'rtl4', 'nrg3', 'faslg', 'tfdp2', 'fbxo10', 'pabpc1l', 'adamts20', 'gsc2', 'ell3', 'spink2', 'srcap', 'rab10', 'fam126a', 'krt84', 'znf121', 'znf618', 'clba1', 'znf75d', 'ints11', 'pdlim4', 'zbtb1', 'znf850', 'foxm1', 'mypn', 'yeats4', 'gpr35', 'efna2', 'mchr2', 'usf2', 'eif3m', 'sigirr', 'adam22', 'wnt6', 'or52m1', 'c19orf73', 'kiz', 'nkrf', 'ccdc194', 'znf497', 'cep44', 'lgr4', 'nt5c3a', 'ints14', 'krt3', 'chst2', 'ccna1', 'ccnl1', 'lcn9', 'psmd1', 'or2g3', 'cma1', 'yod1', 'ap5m1', 'atad3c', 'cnot4', 'gcnt3', 'dmbx1', 'chtf8', 'lyrm9', 'fap', 'efcab13', 'ampd2', 'cacnb2', 'rmnd1', 'peli3', 'grk3', 'thumpd1', 'itga8', 'fam241b', 'ncald', 'ddx11', 'eps15', 'lrrc47', 'mmp15', 'suco', 'pou6f2', 'chml', 'txndc17', 'cyyr1', 'eva1b', 'rwdd1', 'hddc2', 'acaa1', 'fam162a', 'fbxl19', 'cftr', 'sac3d1', 'tmem208', 'phc1', 'ugt2b10', 'rad51ap1', 'st6galnac2', 'tmem106b', 'ninj1', 'osbpl8', 'cdca4', 'ndufs7', 'spta1', 'nmrk2', 'canx', 'agbl1', 'snx32', 'rhag', 'zc3h8', 'ptpn6', 'znf620', 'c11orf80', 'tnfsf18', 'npy2r', 'tbc1d15', 'ankrd30b', 'prok2', 'asxl2', 'fam83f', 'cptp', 'baiap2', 'sft2d1', 'art1', 'alx4', 'sprr3', 'reg3a', 'slc25a4', 'prr27', 'col26a1', 'tmed8', 'mthfs', 'igsf8', 'lrba', 'tmem209', 'lztfl1', 'meak7', 'fgf19', 'nr1h2', 'czib', 'pex12', 'slc25a51', 'sgk2', 'tgfa', 'znf423', 'fam200b', 'prame', 'trappc13', 'nipal3', 'fndc7', 'myt1', 'selenoh', 'krtap19-4', 'dctn4', 'col5a3', 'epb41', 'fam3c', 'lrfn4', 'itpripl1', 'pea15', 'crabp2', 'mtrr', 'thsd7a', 'mtf2', 'cdrt15l2', 'ppp1r12c', 'ube2w', 'ccdc121', 'myom2', 'ly6h', 'c10orf120', 'lrrc8d', 'commd1', 'glyatl1', 'zscan5a', 'rcor3', 'ss18l1', 'alpk3', 'rph3al', 'mis12', 'prr23a', 'rrh', 'slc25a1', 'znf316', 'cdkn3', 'tmem232', 'bmt2', 'kcnj18', 'bcam', 'prkch', 'cpsf7', 'tafa2', 'znf362', 'pth2r', 'tasp1', 'cpm', 'tmem39a', 'slc30a2', 'oxct1', 'fads3', 'kiaa1549', 'arhgef10l', 'slc35b4', 'tssk6', 'stxbp1', 'kcns2', 'rbm41', 'pf4v1', 'jarid2', 'nrdc', 'golga7b', 'plekha7', 'celf1', 'il27', 'lrp11', 'rasa1', 'eva1c', 'sftpb', 'abtb1', 'pcdhgc3', 'bdh2', 'slc35f6', 'tbc1d1', 'pax5', 'lrpprc', 'pc', 'abhd17b', 'ercc6', 'adgrf2', 'kiss1r', 'gpha2', 'rem2', 'ccr7', 'chia', 'znf155', 'rabep1', 'paqr8', 'gjc2', 'or2j3', 'ehhadh', 'gtpbp10', 'lilra6', 'neil1', 'cxcl3', 'kng1', 'rspo2', 'znf480', 'nif3l1', 'smoc2', 'tmem150a', 'itga11', 'cdc14c', 'kif27', 'tekt5', 'npap1', 'kcnd1', 'sh3bp5l', 'phf13', 'adgrb1', 'tmf1', 'c1orf122', 'gnaz', 'hipk1', 'slc25a38', 'esrrg', 'impa2', 'fgd3', 'ccn2', 'egfl6', 'gjb2', 'ventx', 'zbtb7b', 'ddx19b', 'dmd', 'loxhd1', 'slc12a1', 'sgip1', 'kif21b', 'pld6', 'anos1', 'chst15', 'mt1b', 'ptbp2', 'lin7c', 'hcfc2', 'ska1', 'srebf2', 'elspbp1', 'gng10', 'ntmt1', 'abi3', 'p2ry12', 'mef2c', 'mybl1', 'shoc1', 'shisa8', 'klrf2', 'prkcq', 'slc9c1', 'c4orf19', 'tnks', 'fam20a', 'hax1', 'lpl', 'scarf1', 'gpr153', 'noxo1', 'isca1', 'limk1', 'cd27', 'ndufa6', 'il17rc', 'specc1l', 'tenm1', 'ptar1', 'rtl5', 'prss27', 'anks4b', 'rbm10', 'cd300a', 'btn3a1', 'ankh', 'cd300e', 'tas2r8', 'mtdh', 'ddi1', 'suv39h1', 'slc11a1', 'rgs1', 'zbtb26', 'susd3', 'rfxap', 'tmem62', 'zhx1', 'sall1', 'helq', 'mapk12', 'slc2a6', 'c11orf86', 'ccdc168', 'or1c1', 'exosc9', 'epha8', 'ncf4', 'tet1', 'or10a4', 'tmem87a', 'dnajc15', 'dnah14', 'pitx3', 'stard9', 'pnpla6', 'or2t33', 'samd14', 'cdc42bpb', 'cnfn', 'tafa1', 'pmvk', 'cep126', 'lypd6', 'dst', 'baz2a', 'lpar6', 'c20orf173', 'ctdnep1', 'tnr', 'galnt13', 'krt86', 'gjb5', 'gpr180', 'nat14', 'cpxcr1', 'ndrg1', 'klhdc7b', 'lpxn', 'psmd7', 'gdap2', 'slc5a4', 'fggy', 'rag2', 'tmprss7', 'tlr2', 'or5d13', 'trim54', 'nbn', 'nup35', 'wfikkn1', 'prkd3', 'crhr1', 'derpc', 'tmem239', 'znf529', 'dach2', 'or5an1', 'znf267', 'nup107', 'ppie', 'cyp27a1', 'snrk', 'slc46a2', 'pikfyve', 'nhej1', 'scn1a', 'mroh2a', 'pdia5', 'mea1', 'gins4', 'znf280d', 'atg4b', 'stkld1', 'nox4', 'znf671', 'plxnd1', 'znf841', 'cpeb3', 'lsm6', 'galr2', 'cluh', 'crygd', 'slc35e4', 'reg1a', 'awat2', 'plod2', 'caln1', 'atg4c', 'rrm2', 'ppp2r5a', 'cyp4x1', 'zeb2', 'gabra4', 'tbc1d3e', 'ralgps2', 'gjb6', 'dsg3', 'usp24', 'tcea3', 'plpp4', 'c1orf189', 'inpp4b', 'b3gnt5', 'usp17l10', 'clec16a', 'ghr', 'cnga4', 'sqstm1', 'tmem19', 'pla1a', 'sart3', 'rrm2b', 'oat', 'krt7', 'mmp25', 'map1s', 'hvcn1', 'coa8', 'ccl23', 'ivd', 'shld2', 'rpf2', 'klk10', 'rnf215', 'xkr8', 'grxcr1', 'taf7', 'hbb', 'gbp3', 'rbm6', 'sgpp1', 'itpr1', 'or52l1', 'cop1', 'sf3b5', 'rnase4', 'stx2', 'obsl1', 'ltb4r', 'tle1', 'dync1i2', 'or6c70', 'ipp', 'neurog2', 'prg3', 'dgcr8', 'ednrb', 'ppp6r3', 'znf260', 'adora2a', 'plcg2', 'gabrd', 'man2a1', 'cops6', 'cox7a1', 'apoa2', 'lipe', 'slc5a8', 'glipr2', 'mak16', 'cox20', 'cabin1', 'sh3rf3', 'dnajc5b', 'arl14ep', 'tbc1d14', 'timm10', 'slco1b3', 'tmx1', 'cacna1h', 'ephb4', 'znf813', 'dpep2', 'sparc', 'ccl7', 'atcay', 'vps33a', 'zcchc18', 'haus5', 'lsg1', 'znf177', 'or10h2', 'krt34', 'cd207', 'btk', 'a4galt', 'ybx1', 'zdhhc18', 'aadac', 'cplx2', 'or1s2', 'acad10', 'ndufa11', 'exosc5', 'slc11a2', 'get1', 'zfy', 'aplp2', 'parp10', 'cd151', 'atf7ip', 'fam161b', 'apobec3c', 'capg', 'mettl7a', 'krtap4-3', 'pros1', 'sugp2', 'ahcy', 'gfra4', 'efna1', 'tcp11l2', 'faah2', 'clcnka', 'ackr3', 'arc', 'ccl19', 'dennd1a', 'wdr49', 'impact', 'sema4f', 'myd88', 'taf11l4', 'mphosph8', 'magea12', 'gh1', 'kcnn2', 'alkbh3', 'krtap5-1', 'syt17', 'acot13', 'skor2', 'slc1a4', 'arglu1', 'cox8c', 'tmem222', 'mapk3', 'ly6g6d', 'usp7', 'ano6', 'psmb6', 'smad2', 'ogfrl1', 'slc48a1', 'plscr4', 'il17c', 'slc6a20', 'lgsn', 'rgs6', 'atp2c2', 'or5a1', 'flad1', 'mbnl1', 'wbp1l', 'dnaja3', 'slc2a2', 'ate1', 'rtn1', 'sppl3', 'gdf2', 'slc30a4', 'shisa9', 'atp8b3', 'lrch3', 'gpd1', 'anp32e', 'ostn', 'adtrp', 'actn2', 'grk4', 'abcg4', 'folh1', 'c2orf66', 'alad', 'timm22', 'desi1', 'nat10', 'mxd4', 'wdr76', 'cnr1', 'dusp10', 'bzw2', 'glyat', 'crebrf', 'ypel5', 'cdk2ap1', 'mmp19', 'tent4a', 'gdf7', 'slfn14', 'cnot9', 'sh3bgrl3', 'lyrm2', 'lrrc7', 'plin2', 'pfdn4', 'cdh18', 'man1a1', 'ube2v1', 'tceal4', 'prim2', 'fastk', 'blk', 'nxpe1', 'c17orf100', 'ptp4a3', 'c1ql4', 'eef1b2', 'lgals1', 'gprc5a', 'tex13d', 'cenpk', 'cog7', 'atad5', 'mcl1', 'ccl8', 'tmem14b', 'dusp23', 'spaca9', 'cyp27c1', 'fignl1', 'timm13', 'adamtsl3', 'selp', 'krtap6-3', 'defb118', 'or13c2', 'znf804a', 'mstn', 'crbn', 'slco2a1', 'ccr3', 'neurog1', 'trim41', 'dusp4', 'thnsl1', 'ccdc201', 'fgf8', 'znf333', 'casq1', 'tbxas1', 'hey2', 'card10', 'rergl', 'lonp2', 'krt222', 'dcaf15', 'ncoa3', 'abcg1', 'gemin5', 'myl6b'}\n"
     ]
    },
    {
     "data": {
      "text/plain": [
       "{'aars',\n",
       " 'ac004593.3',\n",
       " 'ac005551.1',\n",
       " 'ac007244.1',\n",
       " 'ac007906.2',\n",
       " 'ac008397.1',\n",
       " 'ac008687.4',\n",
       " 'ac010255.3',\n",
       " 'ac010325.1',\n",
       " 'ac011005.1',\n",
       " 'ac011195.2',\n",
       " 'ac013470.2',\n",
       " 'ac015871.1',\n",
       " 'ac021072.1',\n",
       " 'ac021097.2',\n",
       " 'ac025283.2',\n",
       " 'ac025287.4',\n",
       " 'ac067752.1',\n",
       " 'ac072022.2',\n",
       " 'ac073111.4',\n",
       " 'ac087498.1',\n",
       " 'ac090360.1',\n",
       " 'ac091057.6',\n",
       " 'ac092835.1',\n",
       " 'ac093323.1',\n",
       " 'ac099489.1',\n",
       " 'ac104389.5',\n",
       " 'ac106774.4',\n",
       " 'ac113348.1',\n",
       " 'ac115220.1',\n",
       " 'ac118549.1',\n",
       " 'ac119396.1',\n",
       " 'ac132217.2',\n",
       " 'ac134684.8',\n",
       " 'ac135068.1',\n",
       " 'ac138647.1',\n",
       " 'ac187653.1',\n",
       " 'ac233723.1',\n",
       " 'ac236972.4',\n",
       " 'acpp',\n",
       " 'adprhl2',\n",
       " 'adss',\n",
       " 'adssl1',\n",
       " 'al032819.3',\n",
       " 'al109810.2',\n",
       " 'al121578.2',\n",
       " 'al135905.2',\n",
       " 'al160269.1',\n",
       " 'al162231.1',\n",
       " 'al162596.1',\n",
       " 'al353572.3',\n",
       " 'al354761.1',\n",
       " 'al391650.1',\n",
       " 'al445238.1',\n",
       " 'al451007.3',\n",
       " 'al590560.2',\n",
       " 'al603764.2',\n",
       " 'al772284.2',\n",
       " 'al845331.2',\n",
       " 'alg1l',\n",
       " 'ap000552.4',\n",
       " 'ap002495.1',\n",
       " 'arih2os',\n",
       " 'armc4',\n",
       " 'arse',\n",
       " 'atp5md',\n",
       " 'atp5mpl',\n",
       " 'atp6ap1l',\n",
       " 'b3gnt10',\n",
       " 'bhmg1',\n",
       " 'bx255925.3',\n",
       " 'bx276092.9',\n",
       " 'c10orf142',\n",
       " 'c10orf55',\n",
       " 'c11orf40',\n",
       " 'c11orf74',\n",
       " 'c11orf88',\n",
       " 'c12orf10',\n",
       " 'c12orf49',\n",
       " 'c12orf74',\n",
       " 'c12orf81',\n",
       " 'c14orf177',\n",
       " 'c15orf41',\n",
       " 'c16orf58',\n",
       " 'c17orf53',\n",
       " 'c19orf48',\n",
       " 'c19orf57',\n",
       " 'c1orf61',\n",
       " 'c2orf83',\n",
       " 'c2orf91',\n",
       " 'c3orf67',\n",
       " 'c5orf30',\n",
       " 'c5orf60',\n",
       " 'c5orf67',\n",
       " 'c6orf201',\n",
       " 'c6orf223',\n",
       " 'c7orf77',\n",
       " 'c9orf129',\n",
       " 'c9orf92',\n",
       " 'card16',\n",
       " 'card17',\n",
       " 'cars',\n",
       " 'casc1',\n",
       " 'casc4',\n",
       " 'castor3',\n",
       " 'ccdc114',\n",
       " 'ccdc140',\n",
       " 'ccdc151',\n",
       " 'ccdc155',\n",
       " 'ccdc36',\n",
       " 'ccdc39',\n",
       " 'ccdc84',\n",
       " 'cd3eap',\n",
       " 'cenpbd1',\n",
       " 'cllu1os',\n",
       " 'cntd2',\n",
       " 'ct62',\n",
       " 'cxorf21',\n",
       " 'cxorf40a',\n",
       " 'cxorf56',\n",
       " 'cyb561d2',\n",
       " 'dars',\n",
       " 'dec1',\n",
       " 'defb133',\n",
       " 'dirc1',\n",
       " 'dock8-as1',\n",
       " 'dupd1',\n",
       " 'dusp27',\n",
       " 'elfn2',\n",
       " 'elmsan1',\n",
       " 'eloa3',\n",
       " 'eprs',\n",
       " 'fam122a',\n",
       " 'fam122b',\n",
       " 'fam122c',\n",
       " 'fam169b',\n",
       " 'fam192a',\n",
       " 'fam218a',\n",
       " 'fam30a',\n",
       " 'fam49a',\n",
       " 'fam49b',\n",
       " 'fam92b',\n",
       " 'fgfr1op',\n",
       " 'fopnl',\n",
       " 'fp565260.1',\n",
       " 'g6pc',\n",
       " 'gars',\n",
       " 'gcsaml-as1',\n",
       " 'gdf5os',\n",
       " 'glra4',\n",
       " 'golga8m',\n",
       " 'grasp',\n",
       " 'h1f0',\n",
       " 'h1fnt',\n",
       " 'h1foo',\n",
       " 'h1fx',\n",
       " 'h2afj',\n",
       " 'h2afx',\n",
       " 'h2afy',\n",
       " 'h2afy2',\n",
       " 'h2afz',\n",
       " 'h2bfm',\n",
       " 'h2bfwt',\n",
       " 'h3.y',\n",
       " 'h3f3a',\n",
       " 'h3f3b',\n",
       " 'h3f3c',\n",
       " 'hars',\n",
       " 'hhla3',\n",
       " 'hist1h1a',\n",
       " 'hist1h1b',\n",
       " 'hist1h1c',\n",
       " 'hist1h1d',\n",
       " 'hist1h1e',\n",
       " 'hist1h2aa',\n",
       " 'hist1h2ac',\n",
       " 'hist1h2ae',\n",
       " 'hist1h2ag',\n",
       " 'hist1h2ai',\n",
       " 'hist1h2ak',\n",
       " 'hist1h2ba',\n",
       " 'hist1h2bb',\n",
       " 'hist1h2bg',\n",
       " 'hist1h2bh',\n",
       " 'hist1h2bn',\n",
       " 'hist1h3e',\n",
       " 'hist1h3g',\n",
       " 'hist1h3h',\n",
       " 'hist1h4b',\n",
       " 'hist1h4c',\n",
       " 'hist1h4e',\n",
       " 'hist1h4g',\n",
       " 'hist1h4i',\n",
       " 'hist1h4j',\n",
       " 'hist2h2be',\n",
       " 'hist3h2a',\n",
       " 'hist3h2bb',\n",
       " 'hist3h3',\n",
       " 'hist4h4',\n",
       " 'hypm',\n",
       " 'iars',\n",
       " 'ick',\n",
       " 'igha1',\n",
       " 'igha2',\n",
       " 'ighd',\n",
       " 'ighe',\n",
       " 'ighg1',\n",
       " 'ighg3',\n",
       " 'ighm',\n",
       " 'igkc',\n",
       " 'iglc1',\n",
       " 'iglc7',\n",
       " 'impad1',\n",
       " 'kars',\n",
       " 'kiaa0355',\n",
       " 'kiaa0556',\n",
       " 'kiaa1211',\n",
       " 'kiaa1211l',\n",
       " 'kiaa1257',\n",
       " 'kiaa1324',\n",
       " 'kiaa1324l',\n",
       " 'kif1bp',\n",
       " 'lars',\n",
       " 'linc02693',\n",
       " 'linc02694',\n",
       " 'lor',\n",
       " 'lrmp',\n",
       " 'lrp5l',\n",
       " 'lrrc29',\n",
       " 'maats1',\n",
       " 'marc1',\n",
       " 'marc2',\n",
       " 'march1',\n",
       " 'march10',\n",
       " 'march11',\n",
       " 'march2',\n",
       " 'march3',\n",
       " 'march4',\n",
       " 'march5',\n",
       " 'march6',\n",
       " 'march7',\n",
       " 'march8',\n",
       " 'march9',\n",
       " 'mars',\n",
       " 'mir1915hg',\n",
       " 'mrvi1',\n",
       " 'mycnos',\n",
       " 'nars',\n",
       " 'nxf5',\n",
       " 'or5r1',\n",
       " 'palm2-akap2',\n",
       " 'pano1',\n",
       " 'pde11a',\n",
       " 'pih1d3',\n",
       " 'pinx1',\n",
       " 'ppp5d1',\n",
       " 'prky',\n",
       " 'qars',\n",
       " 'rars',\n",
       " 'rgs5',\n",
       " 'sars',\n",
       " 'sfta3',\n",
       " 'siglec5',\n",
       " 'slc26a10',\n",
       " 'slc66a1l',\n",
       " 'slfn12l',\n",
       " 'snhg32',\n",
       " 'spata13',\n",
       " 'spata8',\n",
       " 'spert',\n",
       " 'sspo',\n",
       " 'st5',\n",
       " 'tars',\n",
       " 'tarsl2',\n",
       " 'tbce',\n",
       " 'tcte3',\n",
       " 'tctex1d1',\n",
       " 'tctex1d2',\n",
       " 'tctex1d4',\n",
       " 'terc',\n",
       " 'tmem155',\n",
       " 'tmem173',\n",
       " 'tmem189',\n",
       " 'tmem246',\n",
       " 'tmem8a',\n",
       " 'tmem99',\n",
       " 'tmsb15b',\n",
       " 'trac',\n",
       " 'trbc1',\n",
       " 'trbc2',\n",
       " 'trdc',\n",
       " 'trgc1',\n",
       " 'trgc2',\n",
       " 'trgjp1',\n",
       " 'trgjp2',\n",
       " 'trim16l',\n",
       " 'tsta3',\n",
       " 'ttc25',\n",
       " 'twistnb',\n",
       " 'vars',\n",
       " 'wars',\n",
       " 'wdr34',\n",
       " 'wdr60',\n",
       " 'wdr63',\n",
       " 'wdr66',\n",
       " 'wdr78',\n",
       " 'wdyhv1',\n",
       " 'yars',\n",
       " 'z82206.1',\n",
       " 'znf883',\n",
       " 'znrd1'}"
      ]
     },
     "execution_count": 4,
     "metadata": {},
     "output_type": "execute_result"
    }
   ],
   "source": [
    "# 将所有基因名称转换为小写\n",
    "all_genes_lower = [gene.lower() for gene in all_genes]\n",
    "adata_genes_lower = [gene.lower() for gene in existing_genes]\n",
    "\n",
    "# 将两个列表转换为集合\n",
    "all_genes_set = set(all_genes_lower)\n",
    "adata_genes_set = set(adata_genes_lower)\n",
    "\n",
    "# 计算交集\n",
    "matching_genes = all_genes_set.intersection(adata_genes_set)\n",
    "matching_count = len(matching_genes)\n",
    "# 计算不匹配的基因\n",
    "non_matching_genes = adata_genes_set - matching_genes\n",
    "non_matching_count = len(non_matching_genes)\n",
    "\n",
    "\n",
    "# 输出结果\n",
    "print(f\"匹配的基因数量: {matching_count}\")\n",
    "print(f\"匹配的基因列表: {matching_genes}\")\n",
    "non_matching_genes"
   ]
  },
  {
   "cell_type": "code",
   "execution_count": 5,
   "metadata": {
    "execution": {
     "iopub.execute_input": "2025-01-07T06:04:03.637015Z",
     "iopub.status.busy": "2025-01-07T06:04:03.636156Z",
     "iopub.status.idle": "2025-01-07T06:04:16.529302Z",
     "shell.execute_reply": "2025-01-07T06:04:16.528302Z"
    }
   },
   "outputs": [
    {
     "name": "stdout",
     "output_type": "stream",
     "text": [
      "Gene al391650.1 not found in all_genes list\n",
      "Gene yars not found in all_genes list\n",
      "Gene adprhl2 not found in all_genes list\n",
      "Gene tctex1d4 not found in all_genes list\n"
     ]
    },
    {
     "name": "stdout",
     "output_type": "stream",
     "text": [
      "Gene tctex1d1 not found in all_genes list\n",
      "Gene wdr78 not found in all_genes list\n",
      "Gene hhla3 not found in all_genes list\n",
      "Gene ac118549.1 not found in all_genes list\n",
      "Gene wdr63 not found in all_genes list\n",
      "Gene kiaa1324 not found in all_genes list\n",
      "Gene sars not found in all_genes list\n",
      "Gene hist2h2be not found in all_genes list\n"
     ]
    },
    {
     "name": "stdout",
     "output_type": "stream",
     "text": [
      "Gene al162596.1 not found in all_genes list\n",
      "Gene lor not found in all_genes list\n",
      "Gene c1orf61 not found in all_genes list\n",
      "Gene al590560.2 not found in all_genes list\n",
      "Gene rgs5 not found in all_genes list\n",
      "Gene dusp27 not found in all_genes list\n"
     ]
    },
    {
     "name": "stdout",
     "output_type": "stream",
     "text": [
      "Gene eprs not found in all_genes list\n",
      "Gene marc2 not found in all_genes list\n",
      "Gene marc1 not found in all_genes list\n",
      "Gene h3f3a not found in all_genes list\n",
      "Gene hist3h3 not found in all_genes list\n",
      "Gene hist3h2a not found in all_genes list\n",
      "Gene hist3h2bb not found in all_genes list\n",
      "Gene al109810.2 not found in all_genes list\n",
      "Gene tbce not found in all_genes list\n",
      "Gene tbce not found in all_genes list\n",
      "Gene adss not found in all_genes list\n",
      "Gene al451007.3 not found in all_genes list\n",
      "Gene gcsaml-as1 not found in all_genes list\n",
      "Gene mycnos not found in all_genes list\n",
      "Gene fam49a not found in all_genes list\n"
     ]
    },
    {
     "name": "stdout",
     "output_type": "stream",
     "text": [
      "Gene c2orf91 not found in all_genes list\n",
      "Gene igkc not found in all_genes list\n",
      "Gene al845331.2 not found in all_genes list\n",
      "Gene ac092835.1 not found in all_genes list\n",
      "Gene kiaa1211l not found in all_genes list\n"
     ]
    },
    {
     "name": "stdout",
     "output_type": "stream",
     "text": [
      "Gene dars not found in all_genes list\n",
      "Gene march7 not found in all_genes list\n",
      "Gene pde11a not found in all_genes list\n",
      "Gene dirc1 not found in all_genes list\n"
     ]
    },
    {
     "name": "stdout",
     "output_type": "stream",
     "text": [
      "Gene march4 not found in all_genes list\n",
      "Gene ccdc140 not found in all_genes list\n",
      "Gene c2orf83 not found in all_genes list\n"
     ]
    },
    {
     "name": "stdout",
     "output_type": "stream",
     "text": [
      "Gene arih2os not found in all_genes list\n",
      "Gene qars not found in all_genes list\n",
      "Gene ccdc36 not found in all_genes list\n",
      "Gene cyb561d2 not found in all_genes list\n",
      "Gene c3orf67 not found in all_genes list\n"
     ]
    },
    {
     "name": "stdout",
     "output_type": "stream",
     "text": [
      "Gene maats1 not found in all_genes list\n",
      "Gene alg1l not found in all_genes list\n",
      "Gene kiaa1257 not found in all_genes list\n",
      "Gene h1fx not found in all_genes list\n",
      "Gene h1foo not found in all_genes list\n",
      "Gene acpp not found in all_genes list\n",
      "Gene slc66a1l not found in all_genes list\n",
      "Gene terc not found in all_genes list\n",
      "Gene ccdc39 not found in all_genes list\n"
     ]
    },
    {
     "name": "stdout",
     "output_type": "stream",
     "text": [
      "Gene ac072022.2 not found in all_genes list\n",
      "Gene tctex1d2 not found in all_genes list\n",
      "Gene ac093323.1 not found in all_genes list\n",
      "Gene kiaa1211 not found in all_genes list\n"
     ]
    },
    {
     "name": "stdout",
     "output_type": "stream",
     "text": [
      "Gene h2afz not found in all_genes list\n",
      "Gene tmem155 not found in all_genes list\n",
      "Gene march1 not found in all_genes list\n",
      "Gene fam218a not found in all_genes list\n",
      "Gene march6 not found in all_genes list\n",
      "Gene march11 not found in all_genes list\n",
      "Gene ac106774.4 not found in all_genes list\n"
     ]
    },
    {
     "name": "stdout",
     "output_type": "stream",
     "text": [
      "Gene h3.y not found in all_genes list\n",
      "Gene tars not found in all_genes list\n",
      "Gene c5orf67 not found in all_genes list\n",
      "Gene atp6ap1l not found in all_genes list\n",
      "Gene c5orf30 not found in all_genes list\n",
      "Gene ac010255.3 not found in all_genes list\n",
      "Gene march3 not found in all_genes list\n"
     ]
    },
    {
     "name": "stdout",
     "output_type": "stream",
     "text": [
      "Gene h2afy not found in all_genes list\n",
      "Gene tmem173 not found in all_genes list\n",
      "Gene hars not found in all_genes list\n",
      "Gene lars not found in all_genes list\n",
      "Gene rars not found in all_genes list\n",
      "Gene ac113348.1 not found in all_genes list\n",
      "Gene c5orf60 not found in all_genes list\n"
     ]
    },
    {
     "name": "stdout",
     "output_type": "stream",
     "text": [
      "Gene c6orf201 not found in all_genes list\n",
      "Gene hist1h2aa not found in all_genes list\n",
      "Gene hist1h2ba not found in all_genes list\n",
      "Gene hist1h1a not found in all_genes list\n",
      "Gene hist1h4b not found in all_genes list\n",
      "Gene hist1h2bb not found in all_genes list\n",
      "Gene hist1h1c not found in all_genes list\n",
      "Gene hist1h4c not found in all_genes list\n",
      "Gene hist1h2ac not found in all_genes list\n",
      "Gene hist1h1e not found in all_genes list\n",
      "Gene hist1h4e not found in all_genes list\n",
      "Gene hist1h2bg not found in all_genes list\n",
      "Gene hist1h2ae not found in all_genes list\n",
      "Gene hist1h3e not found in all_genes list\n",
      "Gene hist1h1d not found in all_genes list\n",
      "Gene hist1h4g not found in all_genes list\n",
      "Gene hist1h2bh not found in all_genes list\n",
      "Gene hist1h3g not found in all_genes list\n",
      "Gene hist1h2ag not found in all_genes list\n",
      "Gene hist1h4i not found in all_genes list\n",
      "Gene hist1h2ai not found in all_genes list\n",
      "Gene hist1h3h not found in all_genes list\n",
      "Gene hist1h4j not found in all_genes list\n",
      "Gene hist1h2bn not found in all_genes list\n",
      "Gene hist1h2ak not found in all_genes list\n",
      "Gene hist1h1b not found in all_genes list\n",
      "Gene znrd1 not found in all_genes list\n",
      "Gene vars not found in all_genes list\n",
      "Gene snhg32 not found in all_genes list\n"
     ]
    },
    {
     "name": "stdout",
     "output_type": "stream",
     "text": [
      "Gene c6orf223 not found in all_genes list\n",
      "Gene defb133 not found in all_genes list\n",
      "Gene ick not found in all_genes list\n",
      "Gene al135905.2 not found in all_genes list\n"
     ]
    },
    {
     "name": "stdout",
     "output_type": "stream",
     "text": [
      "Gene fgfr1op not found in all_genes list\n",
      "Gene tcte3 not found in all_genes list\n",
      "Gene ac187653.1 not found in all_genes list\n",
      "Gene ac013470.2 not found in all_genes list\n",
      "Gene twistnb not found in all_genes list\n",
      "Gene ac004593.3 not found in all_genes list\n",
      "Gene gars not found in all_genes list\n",
      "Gene trgc2 not found in all_genes list\n",
      "Gene trgjp2 not found in all_genes list\n",
      "Gene trgc1 not found in all_genes list\n",
      "Gene trgjp1 not found in all_genes list\n",
      "Gene ac115220.1 not found in all_genes list\n"
     ]
    },
    {
     "name": "stdout",
     "output_type": "stream",
     "text": [
      "Gene kiaa1324l not found in all_genes list\n",
      "Gene castor3 not found in all_genes list\n",
      "Gene c7orf77 not found in all_genes list\n",
      "Gene ac011005.1 not found in all_genes list\n"
     ]
    },
    {
     "name": "stdout",
     "output_type": "stream",
     "text": [
      "Gene trbc1 not found in all_genes list\n",
      "Gene trbc2 not found in all_genes list\n",
      "Gene sspo not found in all_genes list\n",
      "Gene ac073111.4 not found in all_genes list\n",
      "Gene ac021097.2 not found in all_genes list\n",
      "Gene wdr60 not found in all_genes list\n",
      "Gene ac134684.8 not found in all_genes list\n",
      "Gene pinx1 not found in all_genes list\n"
     ]
    },
    {
     "name": "stdout",
     "output_type": "stream",
     "text": [
      "Gene impad1 not found in all_genes list\n",
      "Gene wdyhv1 not found in all_genes list\n",
      "Gene fam49b not found in all_genes list\n",
      "Gene ac138647.1 not found in all_genes list\n",
      "Gene tsta3 not found in all_genes list\n"
     ]
    },
    {
     "name": "stdout",
     "output_type": "stream",
     "text": [
      "Gene dock8-as1 not found in all_genes list\n",
      "Gene c9orf92 not found in all_genes list\n",
      "Gene al162231.1 not found in all_genes list\n",
      "Gene fam122a not found in all_genes list\n",
      "Gene al353572.3 not found in all_genes list\n",
      "Gene iars not found in all_genes list\n",
      "Gene c9orf129 not found in all_genes list\n",
      "Gene al160269.1 not found in all_genes list\n"
     ]
    },
    {
     "name": "stdout",
     "output_type": "stream",
     "text": [
      "Gene tmem246 not found in all_genes list\n",
      "Gene palm2-akap2 not found in all_genes list\n",
      "Gene znf883 not found in all_genes list\n",
      "Gene dec1 not found in all_genes list\n",
      "Gene b3gnt10 not found in all_genes list\n",
      "Gene wdr34 not found in all_genes list\n",
      "Gene al354761.1 not found in all_genes list\n"
     ]
    },
    {
     "name": "stdout",
     "output_type": "stream",
     "text": [
      "Gene bx255925.3 not found in all_genes list\n",
      "Gene mir1915hg not found in all_genes list\n",
      "Gene armc4 not found in all_genes list\n",
      "Gene c10orf142 not found in all_genes list\n",
      "Gene march8 not found in all_genes list\n",
      "Gene ac067752.1 not found in all_genes list\n",
      "Gene kif1bp not found in all_genes list\n",
      "Gene h2afy2 not found in all_genes list\n"
     ]
    },
    {
     "name": "stdout",
     "output_type": "stream",
     "text": [
      "Gene c10orf55 not found in all_genes list\n",
      "Gene dupd1 not found in all_genes list\n",
      "Gene march5 not found in all_genes list\n",
      "Gene atp5md not found in all_genes list\n",
      "Gene al603764.2 not found in all_genes list\n"
     ]
    },
    {
     "name": "stdout",
     "output_type": "stream",
     "text": [
      "Gene pano1 not found in all_genes list\n",
      "Gene ac132217.2 not found in all_genes list\n",
      "Gene cars not found in all_genes list\n",
      "Gene c11orf40 not found in all_genes list\n",
      "Gene ac104389.5 not found in all_genes list\n",
      "Gene st5 not found in all_genes list\n",
      "Gene mrvi1 not found in all_genes list\n",
      "Gene c11orf74 not found in all_genes list\n"
     ]
    },
    {
     "name": "stdout",
     "output_type": "stream",
     "text": [
      "Gene or5r1 not found in all_genes list\n"
     ]
    },
    {
     "name": "stdout",
     "output_type": "stream",
     "text": [
      "Gene ap002495.1 not found in all_genes list\n",
      "Gene card16 not found in all_genes list\n",
      "Gene card17 not found in all_genes list\n",
      "Gene c11orf88 not found in all_genes list\n",
      "Gene ccdc84 not found in all_genes list\n",
      "Gene h2afx not found in all_genes list\n"
     ]
    },
    {
     "name": "stdout",
     "output_type": "stream",
     "text": [
      "Gene hist4h4 not found in all_genes list\n",
      "Gene h2afj not found in all_genes list\n",
      "Gene lrmp not found in all_genes list\n",
      "Gene casc1 not found in all_genes list\n",
      "Gene h3f3c not found in all_genes list\n",
      "Gene h1fnt not found in all_genes list\n",
      "Gene c12orf81 not found in all_genes list\n",
      "Gene grasp not found in all_genes list\n",
      "Gene ac021072.1 not found in all_genes list\n",
      "Gene c12orf10 not found in all_genes list\n"
     ]
    },
    {
     "name": "stdout",
     "output_type": "stream",
     "text": [
      "Gene mars not found in all_genes list\n",
      "Gene slc26a10 not found in all_genes list\n",
      "Gene march9 not found in all_genes list\n",
      "Gene cllu1os not found in all_genes list\n",
      "Gene c12orf74 not found in all_genes list\n",
      "Gene c12orf49 not found in all_genes list\n"
     ]
    },
    {
     "name": "stdout",
     "output_type": "stream",
     "text": [
      "Gene wdr66 not found in all_genes list\n",
      "Gene spata13 not found in all_genes list\n",
      "Gene spert not found in all_genes list\n",
      "Gene al445238.1 not found in all_genes list\n"
     ]
    },
    {
     "name": "stdout",
     "output_type": "stream",
     "text": [
      "Gene trdc not found in all_genes list\n",
      "Gene trac not found in all_genes list\n",
      "Gene sfta3 not found in all_genes list\n",
      "Gene elmsan1 not found in all_genes list\n"
     ]
    },
    {
     "name": "stdout",
     "output_type": "stream",
     "text": [
      "Gene c14orf177 not found in all_genes list\n",
      "Gene wars not found in all_genes list\n",
      "Gene atp5mpl not found in all_genes list\n",
      "Gene adssl1 not found in all_genes list\n",
      "Gene igha2 not found in all_genes list\n",
      "Gene ighe not found in all_genes list\n",
      "Gene igha1 not found in all_genes list\n",
      "Gene ighg1 not found in all_genes list\n",
      "Gene ighg3 not found in all_genes list\n",
      "Gene ighd not found in all_genes list\n",
      "Gene ighm not found in all_genes list\n",
      "Gene fam30a not found in all_genes list\n",
      "Gene ac135068.1 not found in all_genes list\n",
      "Gene golga8m not found in all_genes list\n",
      "Gene ac091057.6 not found in all_genes list\n",
      "Gene c15orf41 not found in all_genes list\n",
      "Gene linc02694 not found in all_genes list\n",
      "Gene casc4 not found in all_genes list\n"
     ]
    },
    {
     "name": "stdout",
     "output_type": "stream",
     "text": [
      "Gene ct62 not found in all_genes list\n",
      "Gene ac015871.1 not found in all_genes list\n",
      "Gene spata8 not found in all_genes list\n",
      "Gene fam169b not found in all_genes list\n",
      "Gene tarsl2 not found in all_genes list\n",
      "Gene tmem8a not found in all_genes list\n",
      "Gene al032819.3 not found in all_genes list\n"
     ]
    },
    {
     "name": "stdout",
     "output_type": "stream",
     "text": [
      "Gene ac025283.2 not found in all_genes list\n",
      "Gene ac099489.1 not found in all_genes list\n",
      "Gene fopnl not found in all_genes list\n",
      "Gene kiaa0556 not found in all_genes list\n",
      "Gene c16orf58 not found in all_genes list\n",
      "Gene ac007906.2 not found in all_genes list\n",
      "Gene fam192a not found in all_genes list\n"
     ]
    },
    {
     "name": "stdout",
     "output_type": "stream",
     "text": [
      "Gene lrrc29 not found in all_genes list\n",
      "Gene aars not found in all_genes list\n",
      "Gene kars not found in all_genes list\n",
      "Gene ac025287.4 not found in all_genes list\n",
      "Gene fam92b not found in all_genes list\n",
      "Gene cenpbd1 not found in all_genes list\n",
      "Gene ac087498.1 not found in all_genes list\n",
      "Gene ac233723.1 not found in all_genes list\n"
     ]
    },
    {
     "name": "stdout",
     "output_type": "stream",
     "text": [
      "Gene trim16l not found in all_genes list\n",
      "Gene linc02693 not found in all_genes list\n",
      "Gene slfn12l not found in all_genes list\n",
      "Gene tmem99 not found in all_genes list\n",
      "Gene ttc25 not found in all_genes list\n"
     ]
    },
    {
     "name": "stdout",
     "output_type": "stream",
     "text": [
      "Gene g6pc not found in all_genes list\n",
      "Gene c17orf53 not found in all_genes list\n",
      "Gene ac011195.2 not found in all_genes list\n",
      "Gene march10 not found in all_genes list\n"
     ]
    },
    {
     "name": "stdout",
     "output_type": "stream",
     "text": [
      "Gene h3f3b not found in all_genes list\n",
      "Gene eloa3 not found in all_genes list\n"
     ]
    },
    {
     "name": "stdout",
     "output_type": "stream",
     "text": [
      "Gene nars not found in all_genes list\n",
      "Gene ac090360.1 not found in all_genes list\n",
      "Gene ac005551.1 not found in all_genes list\n",
      "Gene ac119396.1 not found in all_genes list\n",
      "Gene march2 not found in all_genes list\n"
     ]
    },
    {
     "name": "stdout",
     "output_type": "stream",
     "text": [
      "Gene ccdc151 not found in all_genes list\n",
      "Gene c19orf57 not found in all_genes list\n",
      "Gene ac008397.1 not found in all_genes list\n",
      "Gene kiaa0355 not found in all_genes list\n"
     ]
    },
    {
     "name": "stdout",
     "output_type": "stream",
     "text": [
      "Gene cntd2 not found in all_genes list\n",
      "Gene cd3eap not found in all_genes list\n",
      "Gene bhmg1 not found in all_genes list\n",
      "Gene ppp5d1 not found in all_genes list\n",
      "Gene ccdc114 not found in all_genes list\n",
      "Gene ac008687.4 not found in all_genes list\n",
      "Gene ccdc155 not found in all_genes list\n",
      "Gene ac010325.1 not found in all_genes list\n",
      "Gene c19orf48 not found in all_genes list\n"
     ]
    },
    {
     "name": "stdout",
     "output_type": "stream",
     "text": [
      "Gene siglec5 not found in all_genes list\n"
     ]
    },
    {
     "name": "stdout",
     "output_type": "stream",
     "text": [
      "Gene gdf5os not found in all_genes list\n",
      "Gene tmem189 not found in all_genes list\n",
      "Gene fp565260.1 not found in all_genes list\n"
     ]
    },
    {
     "name": "stdout",
     "output_type": "stream",
     "text": [
      "Gene ap000552.4 not found in all_genes list\n",
      "Gene iglc1 not found in all_genes list\n",
      "Gene iglc7 not found in all_genes list\n",
      "Gene lrp5l not found in all_genes list\n",
      "Gene elfn2 not found in all_genes list\n",
      "Gene h1f0 not found in all_genes list\n",
      "Gene z82206.1 not found in all_genes list\n"
     ]
    },
    {
     "name": "stdout",
     "output_type": "stream",
     "text": [
      "Gene arse not found in all_genes list\n",
      "Gene cxorf21 not found in all_genes list\n",
      "Gene hypm not found in all_genes list\n",
      "Gene al121578.2 not found in all_genes list\n",
      "Gene bx276092.9 not found in all_genes list\n"
     ]
    },
    {
     "name": "stdout",
     "output_type": "stream",
     "text": [
      "Gene nxf5 not found in all_genes list\n",
      "Gene glra4 not found in all_genes list\n",
      "Gene tmsb15b not found in all_genes list\n",
      "Gene h2bfwt not found in all_genes list\n",
      "Gene h2bfm not found in all_genes list\n",
      "Gene tmsb15b not found in all_genes list\n",
      "Gene pih1d3 not found in all_genes list\n",
      "Gene al772284.2 not found in all_genes list\n",
      "Gene cxorf56 not found in all_genes list\n",
      "Gene fam122b not found in all_genes list\n",
      "Gene fam122c not found in all_genes list\n",
      "Gene cxorf40a not found in all_genes list\n",
      "Gene ac236972.4 not found in all_genes list\n",
      "Gene prky not found in all_genes list\n",
      "Gene ac007244.1 not found in all_genes list\n"
     ]
    }
   ],
   "source": [
    "gene_to_index = {gene: idx for idx, gene in enumerate(all_genes_lower)}\n",
    "dense_adata_X = adata.X.toarray()\n",
    "for i, gene in enumerate(adata_genes_lower):\n",
    "    if gene in gene_to_index:\n",
    "        new_data[:, gene_to_index[gene]] = dense_adata_X[:, i]\n",
    "    else:\n",
    "        print(f'Gene {gene} not found in all_genes list')"
   ]
  },
  {
   "cell_type": "code",
   "execution_count": 6,
   "metadata": {
    "execution": {
     "iopub.execute_input": "2025-01-07T06:04:16.533825Z",
     "iopub.status.busy": "2025-01-07T06:04:16.532772Z",
     "iopub.status.idle": "2025-01-07T06:04:18.273608Z",
     "shell.execute_reply": "2025-01-07T06:04:18.272540Z"
    }
   },
   "outputs": [
    {
     "name": "stderr",
     "output_type": "stream",
     "text": [
      "GPU available: True (cuda), used: True\n"
     ]
    },
    {
     "name": "stderr",
     "output_type": "stream",
     "text": [
      "TPU available: False, using: 0 TPU cores\n"
     ]
    },
    {
     "name": "stderr",
     "output_type": "stream",
     "text": [
      "HPU available: False, using: 0 HPUs\n"
     ]
    }
   ],
   "source": [
    "# 使用 GPU 进行评估（如果可用）\n",
    "estim.trainer = pl.Trainer(accelerator=\"gpu\", devices=1 if torch.cuda.is_available() else None)\n",
    "\n",
    "# 5. 数据集划分（70% 训练，15% 验证，15% 测试）\n",
    "label_encoder = LabelEncoder()\n",
    "labels_encoded = label_encoder.fit_transform(adata.obs['cell_type'])  # 预先编码标签\n",
    "\n",
    "\n",
    "random_seed = 42\n",
    "\n",
    "X_train_val, X_test, y_train_val, y_test = train_test_split(\n",
    "    new_data, labels_encoded, test_size=0.15, random_state=random_seed)\n",
    "\n",
    "X_train, X_val, y_train, y_val = train_test_split(\n",
    "    X_train_val, y_train_val, test_size=0.1765, random_state=random_seed)  # 0.1765 是为了让验证集占 15%"
   ]
  },
  {
   "cell_type": "code",
   "execution_count": 7,
   "metadata": {
    "execution": {
     "iopub.execute_input": "2025-01-07T06:04:18.279055Z",
     "iopub.status.busy": "2025-01-07T06:04:18.278606Z",
     "iopub.status.idle": "2025-01-07T06:04:18.982255Z",
     "shell.execute_reply": "2025-01-07T06:04:18.981381Z"
    }
   },
   "outputs": [
    {
     "data": {
      "text/plain": [
       "MLPAutoEncoder(\n",
       "  (train_metrics): MetricCollection(\n",
       "    (explained_var_uniform): ExplainedVariance()\n",
       "    (explained_var_weighted): ExplainedVariance()\n",
       "    (mse): MeanSquaredError(),\n",
       "    prefix=train_\n",
       "  )\n",
       "  (val_metrics): MetricCollection(\n",
       "    (explained_var_uniform): ExplainedVariance()\n",
       "    (explained_var_weighted): ExplainedVariance()\n",
       "    (mse): MeanSquaredError(),\n",
       "    prefix=val_\n",
       "  )\n",
       "  (test_metrics): MetricCollection(\n",
       "    (explained_var_uniform): ExplainedVariance()\n",
       "    (explained_var_weighted): ExplainedVariance()\n",
       "    (mse): MeanSquaredError(),\n",
       "    prefix=test_\n",
       "  )\n",
       "  (encoder): MLP(\n",
       "    (0): Linear(in_features=19331, out_features=512, bias=True)\n",
       "    (1): SELU()\n",
       "    (2): Dropout(p=0.1, inplace=False)\n",
       "    (3): Linear(in_features=512, out_features=512, bias=True)\n",
       "    (4): SELU()\n",
       "    (5): Dropout(p=0.1, inplace=False)\n",
       "    (6): Linear(in_features=512, out_features=256, bias=True)\n",
       "    (7): SELU()\n",
       "    (8): Dropout(p=0.1, inplace=False)\n",
       "    (9): Linear(in_features=256, out_features=256, bias=True)\n",
       "    (10): SELU()\n",
       "    (11): Dropout(p=0.1, inplace=False)\n",
       "    (12): Linear(in_features=256, out_features=64, bias=True)\n",
       "  )\n",
       "  (decoder): Sequential(\n",
       "    (0): MLP(\n",
       "      (0): Linear(in_features=64, out_features=256, bias=True)\n",
       "      (1): SELU()\n",
       "      (2): Dropout(p=0.1, inplace=False)\n",
       "      (3): Linear(in_features=256, out_features=256, bias=True)\n",
       "      (4): SELU()\n",
       "      (5): Dropout(p=0.1, inplace=False)\n",
       "      (6): Linear(in_features=256, out_features=512, bias=True)\n",
       "      (7): SELU()\n",
       "      (8): Dropout(p=0.1, inplace=False)\n",
       "      (9): Linear(in_features=512, out_features=512, bias=True)\n",
       "      (10): SELU()\n",
       "      (11): Dropout(p=0.1, inplace=False)\n",
       "      (12): Linear(in_features=512, out_features=19331, bias=True)\n",
       "    )\n",
       "    (1): Sigmoid()\n",
       "  )\n",
       "  (fc): Linear(in_features=64, out_features=19, bias=True)\n",
       ")"
      ]
     },
     "execution_count": 7,
     "metadata": {},
     "output_type": "execute_result"
    }
   ],
   "source": [
    "# 将训练数据转换为张量\n",
    "device = torch.device(\"cuda\" if torch.cuda.is_available() else \"cpu\")\n",
    "X_train_tensor = torch.tensor(X_train).float().to(device)\n",
    "y_train_tensor = torch.tensor(y_train).long().to(device)\n",
    "X_val_tensor = torch.tensor(X_val).float().to(device)\n",
    "y_val_tensor = torch.tensor(y_val).long().to(device)\n",
    "estim.model.to(device)"
   ]
  },
  {
   "cell_type": "code",
   "execution_count": 8,
   "metadata": {
    "execution": {
     "iopub.execute_input": "2025-01-07T06:04:18.986788Z",
     "iopub.status.busy": "2025-01-07T06:04:18.985660Z",
     "iopub.status.idle": "2025-01-07T06:04:18.997587Z",
     "shell.execute_reply": "2025-01-07T06:04:18.996948Z"
    }
   },
   "outputs": [],
   "source": [
    "# 6. 微调模型，仅微调 encoder 的最后两层，其他层参数冻结\n",
    "for param in estim.model.encoder.parameters():\n",
    "    param.requires_grad = False  # 冻结所有层\n",
    "\n",
    "# 解冻所有层\n",
    "for param in list(estim.model.encoder.parameters())[-5:]:\n",
    "    param.requires_grad = True"
   ]
  },
  {
   "cell_type": "code",
   "execution_count": 9,
   "metadata": {
    "execution": {
     "iopub.execute_input": "2025-01-07T06:04:19.011161Z",
     "iopub.status.busy": "2025-01-07T06:04:19.010320Z",
     "iopub.status.idle": "2025-01-07T06:04:19.018124Z",
     "shell.execute_reply": "2025-01-07T06:04:19.017527Z"
    }
   },
   "outputs": [],
   "source": [
    "# 定义损失函数和优化器\n",
    "loss_fn = nn.CrossEntropyLoss()\n",
    "optimizer = AdamW(filter(lambda p: p.requires_grad, estim.model.parameters()), lr=9e-4, weight_decay=0.05)\n",
    "scheduler = torch.optim.lr_scheduler.StepLR(optimizer, step_size=2, gamma=0.9)"
   ]
  },
  {
   "cell_type": "code",
   "execution_count": 10,
   "metadata": {
    "execution": {
     "iopub.execute_input": "2025-01-07T06:04:19.020459Z",
     "iopub.status.busy": "2025-01-07T06:04:19.020139Z",
     "iopub.status.idle": "2025-01-07T06:04:19.027458Z",
     "shell.execute_reply": "2025-01-07T06:04:19.026979Z"
    }
   },
   "outputs": [],
   "source": [
    "from torch.utils.data import DataLoader, TensorDataset\n",
    "\n",
    "# 设置 batch size\n",
    "batch_size = 128  # 根据实际需求调整 batch size\n",
    "\n",
    "# 使用 TensorDataset 将训练数据和标签打包\n",
    "train_dataset = TensorDataset(X_train_tensor, y_train_tensor)\n",
    "val_dataset = TensorDataset(X_val_tensor, y_val_tensor)\n",
    "\n",
    "# 使用 DataLoader 来创建批次\n",
    "train_loader = DataLoader(train_dataset, batch_size=batch_size, shuffle=True)\n",
    "val_loader = DataLoader(val_dataset, batch_size=batch_size, shuffle=False)\n",
    "\n",
    "# 7. 微调模型\n",
    "def train_epoch(model, optimizer, loss_fn, train_loader, val_loader):\n",
    "    model.train()\n",
    "    total_train_loss = 0\n",
    "    \n",
    "    # 训练集批次训练\n",
    "    for X_batch, y_batch in train_loader:\n",
    "        optimizer.zero_grad()\n",
    "        \n",
    "        # 前向传播\n",
    "        outputs = model.encoder(X_batch)\n",
    "        logits = model.fc(outputs)\n",
    "        \n",
    "        # 计算损失\n",
    "        loss = loss_fn(logits, y_batch)\n",
    "        loss.backward()\n",
    "        optimizer.step()\n",
    "        \n",
    "        total_train_loss += loss.item()\n",
    "    \n",
    "    # 验证集\n",
    "    model.eval()\n",
    "    total_val_loss = 0\n",
    "    with torch.no_grad():\n",
    "        for X_val_batch, y_val_batch in val_loader:\n",
    "            val_outputs = model.encoder(X_val_batch)\n",
    "            val_logits = model.fc(val_outputs)\n",
    "            val_loss = loss_fn(val_logits, y_val_batch)\n",
    "            total_val_loss += val_loss.item()\n",
    "\n",
    "    # 返回平均损失\n",
    "    return total_train_loss / len(train_loader), total_val_loss / len(val_loader)"
   ]
  },
  {
   "cell_type": "code",
   "execution_count": 11,
   "metadata": {
    "execution": {
     "iopub.execute_input": "2025-01-07T06:04:19.032569Z",
     "iopub.status.busy": "2025-01-07T06:04:19.029411Z",
     "iopub.status.idle": "2025-01-07T06:04:48.937730Z",
     "shell.execute_reply": "2025-01-07T06:04:48.936538Z"
    }
   },
   "outputs": [
    {
     "name": "stdout",
     "output_type": "stream",
     "text": [
      "Epoch 1, Train Loss: 2.2000778652974313, Validation Loss: 0.7228646206133293\n",
      "Validation loss improved to 0.7228646206133293, resetting patience.\n"
     ]
    },
    {
     "name": "stdout",
     "output_type": "stream",
     "text": [
      "Epoch 2, Train Loss: 0.8151767816369897, Validation Loss: 0.5685983056371863\n",
      "Validation loss improved to 0.5685983056371863, resetting patience.\n"
     ]
    },
    {
     "name": "stdout",
     "output_type": "stream",
     "text": [
      "Epoch 3, Train Loss: 0.738788141122717, Validation Loss: 0.5488612552483877\n",
      "Validation loss improved to 0.5488612552483877, resetting patience.\n"
     ]
    },
    {
     "name": "stdout",
     "output_type": "stream",
     "text": [
      "Epoch 4, Train Loss: 0.6846891525170661, Validation Loss: 0.5297733039566965\n",
      "Validation loss improved to 0.5297733039566965, resetting patience.\n"
     ]
    },
    {
     "name": "stdout",
     "output_type": "stream",
     "text": [
      "Epoch 5, Train Loss: 0.6433059046205306, Validation Loss: 0.5354600142348896\n",
      "No improvement in validation loss. Patience counter: 1/20\n"
     ]
    },
    {
     "name": "stdout",
     "output_type": "stream",
     "text": [
      "Epoch 6, Train Loss: 0.6069064142293488, Validation Loss: 0.4897252384460334\n",
      "Validation loss improved to 0.4897252384460334, resetting patience.\n"
     ]
    },
    {
     "name": "stdout",
     "output_type": "stream",
     "text": [
      "Epoch 7, Train Loss: 0.6055674987123502, Validation Loss: 0.4985509252909458\n",
      "No improvement in validation loss. Patience counter: 1/20\n"
     ]
    },
    {
     "name": "stdout",
     "output_type": "stream",
     "text": [
      "Epoch 8, Train Loss: 0.5923929398028266, Validation Loss: 0.48048052643284656\n",
      "Validation loss improved to 0.48048052643284656, resetting patience.\n"
     ]
    },
    {
     "name": "stdout",
     "output_type": "stream",
     "text": [
      "Epoch 9, Train Loss: 0.5788596179706371, Validation Loss: 0.4959530541391084\n",
      "No improvement in validation loss. Patience counter: 1/20\n"
     ]
    },
    {
     "name": "stdout",
     "output_type": "stream",
     "text": [
      "Epoch 10, Train Loss: 0.5593768267442059, Validation Loss: 0.45618791833068384\n",
      "Validation loss improved to 0.45618791833068384, resetting patience.\n"
     ]
    },
    {
     "name": "stdout",
     "output_type": "stream",
     "text": [
      "Epoch 11, Train Loss: 0.5494461752326283, Validation Loss: 0.48080610596772394\n",
      "No improvement in validation loss. Patience counter: 1/20\n"
     ]
    },
    {
     "name": "stdout",
     "output_type": "stream",
     "text": [
      "Epoch 12, Train Loss: 0.5499187692111691, Validation Loss: 0.469463766524286\n",
      "No improvement in validation loss. Patience counter: 2/20\n"
     ]
    },
    {
     "name": "stdout",
     "output_type": "stream",
     "text": [
      "Epoch 13, Train Loss: 0.5478311929086975, Validation Loss: 0.4604322991587899\n",
      "No improvement in validation loss. Patience counter: 3/20\n"
     ]
    },
    {
     "name": "stdout",
     "output_type": "stream",
     "text": [
      "Epoch 14, Train Loss: 0.5461955248125342, Validation Loss: 0.433791231025349\n",
      "Validation loss improved to 0.433791231025349, resetting patience.\n"
     ]
    },
    {
     "name": "stdout",
     "output_type": "stream",
     "text": [
      "Epoch 15, Train Loss: 0.5415048905161043, Validation Loss: 0.4734917373368234\n",
      "No improvement in validation loss. Patience counter: 1/20\n"
     ]
    },
    {
     "name": "stdout",
     "output_type": "stream",
     "text": [
      "Epoch 16, Train Loss: 0.5354541117781835, Validation Loss: 0.4585059709621198\n",
      "No improvement in validation loss. Patience counter: 2/20\n"
     ]
    },
    {
     "name": "stdout",
     "output_type": "stream",
     "text": [
      "Epoch 17, Train Loss: 0.531229699881661, Validation Loss: 0.4489068298628836\n",
      "No improvement in validation loss. Patience counter: 3/20\n"
     ]
    },
    {
     "name": "stdout",
     "output_type": "stream",
     "text": [
      "Epoch 18, Train Loss: 0.5215049612995805, Validation Loss: 0.45940566966027924\n",
      "No improvement in validation loss. Patience counter: 4/20\n"
     ]
    },
    {
     "name": "stdout",
     "output_type": "stream",
     "text": [
      "Epoch 19, Train Loss: 0.5213370863965016, Validation Loss: 0.43918490319541004\n",
      "No improvement in validation loss. Patience counter: 5/20\n"
     ]
    },
    {
     "name": "stdout",
     "output_type": "stream",
     "text": [
      "Epoch 20, Train Loss: 0.5155599614642313, Validation Loss: 0.4493871078346715\n",
      "No improvement in validation loss. Patience counter: 6/20\n"
     ]
    },
    {
     "name": "stdout",
     "output_type": "stream",
     "text": [
      "Epoch 21, Train Loss: 0.5241087223125609, Validation Loss: 0.443256572340474\n",
      "No improvement in validation loss. Patience counter: 7/20\n"
     ]
    },
    {
     "name": "stdout",
     "output_type": "stream",
     "text": [
      "Epoch 22, Train Loss: 0.5078029478622588, Validation Loss: 0.4670568677512082\n",
      "No improvement in validation loss. Patience counter: 8/20\n"
     ]
    },
    {
     "name": "stdout",
     "output_type": "stream",
     "text": [
      "Epoch 23, Train Loss: 0.5216381178786423, Validation Loss: 0.4453662092035467\n",
      "No improvement in validation loss. Patience counter: 9/20\n"
     ]
    },
    {
     "name": "stdout",
     "output_type": "stream",
     "text": [
      "Epoch 24, Train Loss: 0.5143205424807719, Validation Loss: 0.4706178605556488\n",
      "No improvement in validation loss. Patience counter: 10/20\n"
     ]
    },
    {
     "name": "stdout",
     "output_type": "stream",
     "text": [
      "Epoch 25, Train Loss: 0.5010462389481778, Validation Loss: 0.43304438121391065\n",
      "Validation loss improved to 0.43304438121391065, resetting patience.\n"
     ]
    },
    {
     "name": "stdout",
     "output_type": "stream",
     "text": [
      "Epoch 26, Train Loss: 0.510207983239597, Validation Loss: 0.45319046486507764\n",
      "No improvement in validation loss. Patience counter: 1/20\n"
     ]
    },
    {
     "name": "stdout",
     "output_type": "stream",
     "text": [
      "Epoch 27, Train Loss: 0.5045309463478872, Validation Loss: 0.4367575528043689\n",
      "No improvement in validation loss. Patience counter: 2/20\n"
     ]
    },
    {
     "name": "stdout",
     "output_type": "stream",
     "text": [
      "Epoch 28, Train Loss: 0.5079378130420155, Validation Loss: 0.4276645508679477\n",
      "Validation loss improved to 0.4276645508679477, resetting patience.\n"
     ]
    },
    {
     "name": "stdout",
     "output_type": "stream",
     "text": [
      "Epoch 29, Train Loss: 0.5045703771888026, Validation Loss: 0.4101346397038662\n",
      "Validation loss improved to 0.4101346397038662, resetting patience.\n"
     ]
    },
    {
     "name": "stdout",
     "output_type": "stream",
     "text": [
      "Epoch 30, Train Loss: 0.5051156927812968, Validation Loss: 0.44263847036795184\n",
      "No improvement in validation loss. Patience counter: 1/20\n"
     ]
    },
    {
     "name": "stdout",
     "output_type": "stream",
     "text": [
      "Epoch 31, Train Loss: 0.4993267177745996, Validation Loss: 0.4520339008533593\n",
      "No improvement in validation loss. Patience counter: 2/20\n"
     ]
    },
    {
     "name": "stdout",
     "output_type": "stream",
     "text": [
      "Epoch 32, Train Loss: 0.49590976250092716, Validation Loss: 0.4373360447811358\n",
      "No improvement in validation loss. Patience counter: 3/20\n"
     ]
    },
    {
     "name": "stdout",
     "output_type": "stream",
     "text": [
      "Epoch 33, Train Loss: 0.49805682621254826, Validation Loss: 0.4472124847498807\n",
      "No improvement in validation loss. Patience counter: 4/20\n"
     ]
    },
    {
     "name": "stdout",
     "output_type": "stream",
     "text": [
      "Epoch 34, Train Loss: 0.4940779432160965, Validation Loss: 0.42086428945714777\n",
      "No improvement in validation loss. Patience counter: 5/20\n"
     ]
    },
    {
     "name": "stdout",
     "output_type": "stream",
     "text": [
      "Epoch 35, Train Loss: 0.49126497739987657, Validation Loss: 0.43884217739105225\n",
      "No improvement in validation loss. Patience counter: 6/20\n"
     ]
    },
    {
     "name": "stdout",
     "output_type": "stream",
     "text": [
      "Epoch 36, Train Loss: 0.49667740677366196, Validation Loss: 0.45015835039543384\n",
      "No improvement in validation loss. Patience counter: 7/20\n"
     ]
    },
    {
     "name": "stdout",
     "output_type": "stream",
     "text": [
      "Epoch 37, Train Loss: 0.4844192292121862, Validation Loss: 0.4297996669104605\n",
      "No improvement in validation loss. Patience counter: 8/20\n"
     ]
    },
    {
     "name": "stdout",
     "output_type": "stream",
     "text": [
      "Epoch 38, Train Loss: 0.48001643699526, Validation Loss: 0.43966755180647876\n",
      "No improvement in validation loss. Patience counter: 9/20\n"
     ]
    },
    {
     "name": "stdout",
     "output_type": "stream",
     "text": [
      "Epoch 39, Train Loss: 0.4881411126709932, Validation Loss: 0.44445026191798126\n",
      "No improvement in validation loss. Patience counter: 10/20\n"
     ]
    },
    {
     "name": "stdout",
     "output_type": "stream",
     "text": [
      "Epoch 40, Train Loss: 0.4875105986531997, Validation Loss: 0.4228321079051856\n",
      "No improvement in validation loss. Patience counter: 11/20\n"
     ]
    },
    {
     "name": "stdout",
     "output_type": "stream",
     "text": [
      "Epoch 41, Train Loss: 0.4829892283243849, Validation Loss: 0.4536365640885902\n",
      "No improvement in validation loss. Patience counter: 12/20\n"
     ]
    },
    {
     "name": "stdout",
     "output_type": "stream",
     "text": [
      "Epoch 42, Train Loss: 0.491597446976908, Validation Loss: 0.4671852534467524\n",
      "No improvement in validation loss. Patience counter: 13/20\n"
     ]
    },
    {
     "name": "stdout",
     "output_type": "stream",
     "text": [
      "Epoch 43, Train Loss: 0.48751089312382884, Validation Loss: 0.4612095672072786\n",
      "No improvement in validation loss. Patience counter: 14/20\n"
     ]
    },
    {
     "name": "stdout",
     "output_type": "stream",
     "text": [
      "Epoch 44, Train Loss: 0.4936279786738339, Validation Loss: 0.41835418343544006\n",
      "No improvement in validation loss. Patience counter: 15/20\n"
     ]
    },
    {
     "name": "stdout",
     "output_type": "stream",
     "text": [
      "Epoch 45, Train Loss: 0.48637651232694157, Validation Loss: 0.45002119288300024\n",
      "No improvement in validation loss. Patience counter: 16/20\n"
     ]
    },
    {
     "name": "stdout",
     "output_type": "stream",
     "text": [
      "Epoch 46, Train Loss: 0.4863643883079882, Validation Loss: 0.4339979426427321\n",
      "No improvement in validation loss. Patience counter: 17/20\n"
     ]
    },
    {
     "name": "stdout",
     "output_type": "stream",
     "text": [
      "Epoch 47, Train Loss: 0.4847524765114121, Validation Loss: 0.4566702364069043\n",
      "No improvement in validation loss. Patience counter: 18/20\n"
     ]
    },
    {
     "name": "stdout",
     "output_type": "stream",
     "text": [
      "Epoch 48, Train Loss: 0.47838311479581114, Validation Loss: 0.42720279729727545\n",
      "No improvement in validation loss. Patience counter: 19/20\n"
     ]
    },
    {
     "name": "stdout",
     "output_type": "stream",
     "text": [
      "Epoch 49, Train Loss: 0.48007383784710966, Validation Loss: 0.4421782818707553\n",
      "No improvement in validation loss. Patience counter: 20/20\n",
      "Early stopping triggered. Stopping training at epoch 49.\n",
      "Loaded best model weights based on validation loss.\n"
     ]
    }
   ],
   "source": [
    "import copy  # 用于保存模型的最佳状态\n",
    "\n",
    "# Early Stopping 参数\n",
    "patience = 20  # 如果验证损失在 10 个 epoch 中没有改善，停止训练\n",
    "min_delta = 1e-4  # 最小改善幅度\n",
    "patience_counter = 0\n",
    "best_val_loss = float('inf')  # 初始设置为正无穷大\n",
    "best_model_weights = copy.deepcopy(estim.model.state_dict())  # 保存最佳模型权重\n",
    "train_losses = []\n",
    "val_losses = []\n",
    "\n",
    "# 训练 500 个 epoch\n",
    "for epoch in range(500):\n",
    "    train_loss, val_loss = train_epoch(estim.model, optimizer, loss_fn, train_loader, val_loader)\n",
    "    print(f'Epoch {epoch+1}, Train Loss: {train_loss}, Validation Loss: {val_loss}')\n",
    "    train_losses.append(train_loss)\n",
    "    val_losses.append(val_loss)\n",
    "    \n",
    "    # Early Stopping 检查\n",
    "    if val_loss < best_val_loss - min_delta:\n",
    "        best_val_loss = val_loss  # 更新最佳验证损失\n",
    "        patience_counter = 0  # 重置 patience 计数器\n",
    "        best_model_weights = copy.deepcopy(estim.model.state_dict())  # 保存当前最佳模型\n",
    "        print(f\"Validation loss improved to {best_val_loss}, resetting patience.\")\n",
    "    else:\n",
    "        patience_counter += 1\n",
    "        print(f\"No improvement in validation loss. Patience counter: {patience_counter}/{patience}\")\n",
    "    \n",
    "    # 如果 patience_counter 超过设置的 patience，停止训练\n",
    "    if patience_counter >= patience:\n",
    "        print(f\"Early stopping triggered. Stopping training at epoch {epoch+1}.\")\n",
    "        break\n",
    "\n",
    "# 恢复到训练中性能最好的模型权重\n",
    "estim.model.load_state_dict(best_model_weights)\n",
    "print(\"Loaded best model weights based on validation loss.\")\n"
   ]
  },
  {
   "cell_type": "code",
   "execution_count": 12,
   "metadata": {
    "execution": {
     "iopub.execute_input": "2025-01-07T06:04:48.941192Z",
     "iopub.status.busy": "2025-01-07T06:04:48.940563Z",
     "iopub.status.idle": "2025-01-07T06:04:49.882964Z",
     "shell.execute_reply": "2025-01-07T06:04:49.882238Z"
    }
   },
   "outputs": [
    {
     "name": "stderr",
     "output_type": "stream",
     "text": [
      "The PostScript backend does not support transparency; partially transparent artists will be rendered opaque.\n"
     ]
    },
    {
     "data": {
      "image/png": "[encoded data removed]",
      "text/plain": [
       "<Figure size 1000x600 with 1 Axes>"
      ]
     },
     "metadata": {},
     "output_type": "display_data"
    }
   ],
   "source": [
    "import matplotlib.pyplot as plt  # 导入 matplotlib.pyplot，而不是 matplotlib\n",
    "\n",
    "plt.figure(figsize=(10, 6))\n",
    "plt.plot(train_losses, label='Training Loss')\n",
    "plt.plot(val_losses, label='Validation Loss')\n",
    "plt.xlabel('Epoch')\n",
    "plt.ylabel('Loss')\n",
    "plt.title('Training and Validation Loss over Epochs')\n",
    "plt.legend()\n",
    "plt.savefig('../loss_curve_fig/merfish_human_neocortex_random_mask_finetune_full_loss_curve.png', dpi=400)  # 保存图像为png格式，400 dpi\n",
    "plt.savefig('../loss_curve_fig/merfish_human_neocortex_random_mask_finetune_full_loss_curve.eps', format='eps', dpi=400)  # 保存图像为png格式，400 dpi\n",
    "\n",
    "plt.show()\n"
   ]
  },
  {
   "cell_type": "code",
   "execution_count": 13,
   "metadata": {
    "execution": {
     "iopub.execute_input": "2025-01-07T06:04:49.885900Z",
     "iopub.status.busy": "2025-01-07T06:04:49.885398Z",
     "iopub.status.idle": "2025-01-07T06:04:50.368022Z",
     "shell.execute_reply": "2025-01-07T06:04:50.361654Z"
    }
   },
   "outputs": [],
   "source": [
    "# 8. 使用 KNN 替代测试阶段的 FC 分类层\n",
    "# 使用 encoder 提取训练集和测试集的 embedding\n",
    "estim.model.eval()\n",
    "with torch.no_grad():\n",
    "    train_embeddings = estim.model.encoder(torch.tensor(X_train).float().to(device)).cpu().numpy()\n",
    "    test_embeddings = estim.model.encoder(torch.tensor(X_test).float().to(device)).cpu().numpy()"
   ]
  },
  {
   "cell_type": "code",
   "execution_count": 14,
   "metadata": {
    "execution": {
     "iopub.execute_input": "2025-01-07T06:04:50.371819Z",
     "iopub.status.busy": "2025-01-07T06:04:50.370776Z",
     "iopub.status.idle": "2025-01-07T06:04:52.311408Z",
     "shell.execute_reply": "2025-01-07T06:04:52.310775Z"
    }
   },
   "outputs": [
    {
     "name": "stdout",
     "output_type": "stream",
     "text": [
      "KNN Accuracy on Test Data: 0.8584607914542365\n",
      "Weighted F1 Score: 0.8576903978310553\n",
      "Macro F1 Score: 0.8667549931793787\n",
      "Random Guess Accuracy: 0.08554398369790313\n",
      "                         precision    recall  f1-score   support\n",
      "\n",
      "                B Cells       0.87      0.92      0.90       219\n",
      "           CD4+ T Cells       0.90      0.92      0.91       392\n",
      "           CD8+ T Cells       0.90      0.86      0.88       281\n",
      "                 DCIS 1       0.67      0.65      0.66       293\n",
      "                 DCIS 2       0.75      0.71      0.73       326\n",
      "            Endothelial       0.99      0.94      0.96       154\n",
      "              IRF7+ DCs       0.97      0.85      0.90        33\n",
      "         Invasive Tumor       0.84      0.91      0.88       701\n",
      "             LAMP3+ DCs       0.90      0.95      0.92        19\n",
      "          Macrophages 1       0.92      0.91      0.91       425\n",
      "          Macrophages 2       0.89      0.92      0.90       106\n",
      "             Mast Cells       1.00      1.00      1.00        13\n",
      "          Myoepi ACTA2+       0.87      0.80      0.84       219\n",
      "          Myoepi KRT15+       0.95      0.83      0.89       112\n",
      "      Perivascular-Like       1.00      0.86      0.93        36\n",
      "  Prolif Invasive Tumor       0.86      0.85      0.86       212\n",
      "                Stromal       0.91      0.94      0.92       372\n",
      "Stromal & T Cell Hybrid       0.78      0.70      0.74        60\n",
      "  T Cell & Tumor Hybrid       0.75      0.75      0.75       146\n",
      "\n",
      "               accuracy                           0.86      4119\n",
      "              macro avg       0.88      0.86      0.87      4119\n",
      "           weighted avg       0.86      0.86      0.86      4119\n",
      "\n"
     ]
    }
   ],
   "source": [
    "import pandas as pd\n",
    "from sklearn.neighbors import KNeighborsClassifier\n",
    "from sklearn.metrics import accuracy_score, f1_score, classification_report\n",
    "\n",
    "    \n",
    "\n",
    "    # 初始化和训练KNN分类器\n",
    "knn = KNeighborsClassifier(n_neighbors=5)\n",
    "knn.fit(train_embeddings, y_train)\n",
    "    \n",
    "    # 模型预测\n",
    "predictions = knn.predict(test_embeddings)\n",
    "\n",
    "    # 计算准确率和 F1 分数\n",
    "accuracy = accuracy_score(y_test, predictions)\n",
    "print(f\"KNN Accuracy on Test Data: {accuracy}\")\n",
    "f1 = f1_score(y_test, predictions, average='weighted')\n",
    "print(f\"Weighted F1 Score: {f1}\")\n",
    "    \n",
    "macro_f1 = f1_score(y_test, predictions, average='macro')\n",
    "print(f'Macro F1 Score: {macro_f1}')\n",
    "\n",
    "    # 计算随机猜测的准确率\n",
    "class_probabilities = np.bincount(y_test) / len(y_test)\n",
    "random_accuracy = np.sum(class_probabilities ** 2)\n",
    "print(f\"Random Guess Accuracy: {random_accuracy}\")\n",
    "\n",
    "    # 生成分类报告\n",
    "report = classification_report(y_test, predictions, target_names=label_encoder.classes_)\n",
    "print(report)"
   ]
  },
  {
   "cell_type": "code",
   "execution_count": 15,
   "metadata": {
    "execution": {
     "iopub.execute_input": "2025-01-07T06:04:52.326370Z",
     "iopub.status.busy": "2025-01-07T06:04:52.326070Z",
     "iopub.status.idle": "2025-01-07T06:04:54.776112Z",
     "shell.execute_reply": "2025-01-07T06:04:54.775525Z"
    }
   },
   "outputs": [
    {
     "name": "stderr",
     "output_type": "stream",
     "text": [
      "/home/hanchuangyi/miniconda3/envs/ssl/lib/python3.10/site-packages/anndata/_core/anndata.py:1756: UserWarning: Variable names are not unique. To make them unique, call `.var_names_make_unique`.\n",
      "  utils.warn_names_duplicates(\"var\")\n"
     ]
    }
   ],
   "source": [
    "with torch.no_grad():\n",
    "    new_data_tensor = torch.tensor(new_data).float().to(device)\n",
    "    SSL_embeddings = estim.model.encoder(new_data_tensor).detach().cpu().numpy()\n",
    "new_adata = sc.read_h5ad(data_dir)\n",
    "new_adata.obsm[f'SSL_RM_FT_{random_seed}'] = SSL_embeddings\n",
    "new_adata.uns[f'RM_FT_y_test_{random_seed}'] = y_test\n",
    "new_adata.uns[f'RM_FT_predictions_{random_seed}'] = predictions\n",
    "new_adata.uns[f'RM_FT_target_names_{random_seed}'] = label_encoder.classes_\n",
    "new_adata.uns[f'RM_FT_train_loss_{random_seed}'] = train_losses\n",
    "new_adata.uns[f'RM_FT_val_loss_{random_seed}'] = val_losses\n",
    "new_adata.write_h5ad(data_dir)"
   ]
  },
  {
   "cell_type": "code",
   "execution_count": 16,
   "metadata": {
    "execution": {
     "iopub.execute_input": "2025-01-07T06:04:54.778606Z",
     "iopub.status.busy": "2025-01-07T06:04:54.778268Z",
     "iopub.status.idle": "2025-01-07T06:04:54.793879Z",
     "shell.execute_reply": "2025-01-07T06:04:54.793387Z"
    }
   },
   "outputs": [
    {
     "name": "stdout",
     "output_type": "stream",
     "text": [
      "Metrics Summary:\n",
      "init_train_loss\tinit_val_loss\tconverged_epoch\tconverged_val_loss\tmacro_f1\tweighted_f1\tmicro_f1\n",
      "2.200\t0.723\t29\t0.410\t0.867\t0.858\t0.858\n"
     ]
    }
   ],
   "source": [
    "\n",
    "import pandas as pd\n",
    "import os\n",
    "import re\n",
    "\n",
    "# 当前 Notebook 文件名\n",
    "notebook_name = \"chromium_breast_cancer_random_mask_fine_tune_42.ipynb\"\n",
    "\n",
    "# 初始化需要打印的值\n",
    "init_train_loss = train_losses[0] if 'train_losses' in globals() else None\n",
    "init_val_loss = val_losses[0] if 'val_losses' in globals() else None\n",
    "converged_epoch = len(train_losses) - patience if 'train_losses' in globals() else None\n",
    "converged_val_loss = best_val_loss if 'best_val_loss' in globals() else None\n",
    "\n",
    "# 打印所有所需的指标\n",
    "print(\"Metrics Summary:\")\n",
    "if 'train_losses' in globals():\n",
    "    print(f\"init_train_loss\\tinit_val_loss\\tconverged_epoch\\tconverged_val_loss\\tmacro_f1\\tweighted_f1\\tmicro_f1\")\n",
    "    print(f\"{init_train_loss:.3f}\\t{init_val_loss:.3f}\\t{converged_epoch}\\t{converged_val_loss:.3f}\\t{macro_f1:.3f}\\t{f1:.3f}\\t{accuracy:.3f}\")\n",
    "else:\n",
    "    print(f\"macro_f1\\tweighted_f1\\tmicor_f1\")\n",
    "    print(f\"{macro_f1:.3f}\\t{f1:.3f}\\t{accuracy:.3f}\")\n",
    "\n",
    "# 保存结果到 CSV 文件\n",
    "output_data = {\n",
    "    'dataset_split_random_seed': [int(random_seed)],\n",
    "    'dataset': ['chromium_breast_cancer'],\n",
    "    'method': [re.search(r'breast_cancer_(.*?)_\\d+', notebook_name).group(1)],\n",
    "    'init_train_loss': [init_train_loss if init_train_loss is not None else ''],\n",
    "    'init_val_loss': [init_val_loss if init_val_loss is not None else ''],\n",
    "    'converged_epoch': [converged_epoch if converged_epoch is not None else ''],\n",
    "    'converged_val_loss': [converged_val_loss if converged_val_loss is not None else ''],\n",
    "    'macro_f1': [macro_f1],\n",
    "    'weighted_f1': [f1],\n",
    "    'micor_f1': [accuracy]\n",
    "}\n",
    "output_df = pd.DataFrame(output_data)\n",
    "\n",
    "# 保存到当前目录下名为 results 的文件夹中\n",
    "if not os.path.exists('results'):\n",
    "    os.makedirs('results')\n",
    "\n",
    "csv_filename = f\"results/{os.path.splitext(notebook_name)[0]}_results.csv\"\n",
    "output_df.to_csv(csv_filename, index=False)\n"
   ]
  }
 ],
 "metadata": {
  "kernelspec": {
   "display_name": "ssl",
   "language": "python",
   "name": "python3"
  },
  "language_info": {
   "codemirror_mode": {
    "name": "ipython",
    "version": 3
   },
   "file_extension": ".py",
   "mimetype": "text/x-python",
   "name": "python",
   "nbconvert_exporter": "python",
   "pygments_lexer": "ipython3",
   "version": "3.10.13"
  }
 },
 "nbformat": 4,
 "nbformat_minor": 2
}
