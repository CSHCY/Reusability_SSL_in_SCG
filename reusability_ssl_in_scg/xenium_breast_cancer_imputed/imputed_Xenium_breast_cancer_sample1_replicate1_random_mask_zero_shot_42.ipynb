{
 "cells": [
  {
   "cell_type": "code",
   "execution_count": 1,
   "metadata": {
    "execution": {
     "iopub.execute_input": "2024-11-03T13:38:15.092308Z",
     "iopub.status.busy": "2024-11-03T13:38:15.091865Z",
     "iopub.status.idle": "2024-11-03T13:38:33.615126Z",
     "shell.execute_reply": "2024-11-03T13:38:33.613861Z"
    }
   },
   "outputs": [],
   "source": [
    "import scanpy as sc\n",
    "data_dir = '../../dataset/ad_ge_imputed_Xenium_breast_cancer_sample1_replicate1.h5ad'\n",
    "adata = sc.read_h5ad(data_dir)\n",
    "sc.pp.normalize_total(adata)\n",
    "sc.pp.log1p(adata)"
   ]
  },
  {
   "cell_type": "code",
   "execution_count": 2,
   "metadata": {
    "execution": {
     "iopub.execute_input": "2024-11-03T13:38:33.619954Z",
     "iopub.status.busy": "2024-11-03T13:38:33.618813Z",
     "iopub.status.idle": "2024-11-03T13:38:39.190758Z",
     "shell.execute_reply": "2024-11-03T13:38:39.189940Z"
    }
   },
   "outputs": [
    {
     "name": "stderr",
     "output_type": "stream",
     "text": [
      "/home/hanchuangyi/miniconda3/envs/ssl/lib/python3.10/site-packages/merlin/dtypes/mappings/tf.py:52: UserWarning: Tensorflow dtype mappings did not load successfully due to an error: No module named 'tensorflow'\n",
      "  warn(f\"Tensorflow dtype mappings did not load successfully due to an error: {exc.msg}\")\n",
      "/home/hanchuangyi/miniconda3/envs/ssl/lib/python3.10/site-packages/merlin/dtypes/mappings/triton.py:53: UserWarning: Triton dtype mappings did not load successfully due to an error: No module named 'tritonclient'\n",
      "  warn(f\"Triton dtype mappings did not load successfully due to an error: {exc.msg}\")\n"
     ]
    },
    {
     "name": "stderr",
     "output_type": "stream",
     "text": [
      "GPU available: True (cuda), used: True\n"
     ]
    },
    {
     "name": "stderr",
     "output_type": "stream",
     "text": [
      "TPU available: False, using: 0 TPU cores\n"
     ]
    },
    {
     "name": "stderr",
     "output_type": "stream",
     "text": [
      "HPU available: False, using: 0 HPUs\n"
     ]
    },
    {
     "data": {
      "text/plain": [
       "MLPAutoEncoder(\n",
       "  (train_metrics): MetricCollection(\n",
       "    (explained_var_uniform): ExplainedVariance()\n",
       "    (explained_var_weighted): ExplainedVariance()\n",
       "    (mse): MeanSquaredError(),\n",
       "    prefix=train_\n",
       "  )\n",
       "  (val_metrics): MetricCollection(\n",
       "    (explained_var_uniform): ExplainedVariance()\n",
       "    (explained_var_weighted): ExplainedVariance()\n",
       "    (mse): MeanSquaredError(),\n",
       "    prefix=val_\n",
       "  )\n",
       "  (test_metrics): MetricCollection(\n",
       "    (explained_var_uniform): ExplainedVariance()\n",
       "    (explained_var_weighted): ExplainedVariance()\n",
       "    (mse): MeanSquaredError(),\n",
       "    prefix=test_\n",
       "  )\n",
       "  (encoder): MLP(\n",
       "    (0): Linear(in_features=19331, out_features=512, bias=True)\n",
       "    (1): SELU()\n",
       "    (2): Dropout(p=0.1, inplace=False)\n",
       "    (3): Linear(in_features=512, out_features=512, bias=True)\n",
       "    (4): SELU()\n",
       "    (5): Dropout(p=0.1, inplace=False)\n",
       "    (6): Linear(in_features=512, out_features=256, bias=True)\n",
       "    (7): SELU()\n",
       "    (8): Dropout(p=0.1, inplace=False)\n",
       "    (9): Linear(in_features=256, out_features=256, bias=True)\n",
       "    (10): SELU()\n",
       "    (11): Dropout(p=0.1, inplace=False)\n",
       "    (12): Linear(in_features=256, out_features=64, bias=True)\n",
       "  )\n",
       "  (decoder): Sequential(\n",
       "    (0): MLP(\n",
       "      (0): Linear(in_features=64, out_features=256, bias=True)\n",
       "      (1): SELU()\n",
       "      (2): Dropout(p=0.1, inplace=False)\n",
       "      (3): Linear(in_features=256, out_features=256, bias=True)\n",
       "      (4): SELU()\n",
       "      (5): Dropout(p=0.1, inplace=False)\n",
       "      (6): Linear(in_features=256, out_features=512, bias=True)\n",
       "      (7): SELU()\n",
       "      (8): Dropout(p=0.1, inplace=False)\n",
       "      (9): Linear(in_features=512, out_features=512, bias=True)\n",
       "      (10): SELU()\n",
       "      (11): Dropout(p=0.1, inplace=False)\n",
       "      (12): Linear(in_features=512, out_features=19331, bias=True)\n",
       "    )\n",
       "    (1): Sigmoid()\n",
       "  )\n",
       ")"
      ]
     },
     "execution_count": 2,
     "metadata": {},
     "output_type": "execute_result"
    }
   ],
   "source": [
    "import torch\n",
    "import lightning.pytorch as pl\n",
    "from self_supervision.models.lightning_modules.cellnet_autoencoder import MLPAutoEncoder\n",
    "from self_supervision.estimator.cellnet import EstimatorAutoEncoder\n",
    "\n",
    "# 设置你的 .ckpt 文件路径\n",
    "ckpt_path = \"../../sc_pretrained/Pretrained Models/RandomMask.ckpt\"\n",
    "\n",
    "# 模型参数\n",
    "units_encoder = [512, 512, 256, 256, 64]\n",
    "units_decoder = [256, 256, 512, 512]\n",
    "\n",
    "# 初始化 EstimatorAutoEncoder 实例\n",
    "estim = EstimatorAutoEncoder(data_path=None)  # 如果没有实际数据路径，可以设置为None\n",
    "\n",
    "# 加载预训练模型\n",
    "estim.model = MLPAutoEncoder.load_from_checkpoint(\n",
    "    ckpt_path,\n",
    "    gene_dim=19331,  # 根据你的数据调整\n",
    "    batch_size=128,  # 根据你的需要调整\n",
    "    units_encoder=units_encoder, \n",
    "    units_decoder=units_decoder,\n",
    "    masking_strategy=\"random\",  # 假设模型使用了随机掩码\n",
    "    masking_rate=0.5,  # 根据需要调整\n",
    ")\n",
    "\n",
    "# 使用 GPU 进行评估（如果可用）\n",
    "estim.trainer = pl.Trainer(accelerator=\"gpu\", devices=1 if torch.cuda.is_available() else None)\n",
    "estim.model"
   ]
  },
  {
   "cell_type": "code",
   "execution_count": 3,
   "metadata": {
    "execution": {
     "iopub.execute_input": "2024-11-03T13:38:39.193806Z",
     "iopub.status.busy": "2024-11-03T13:38:39.192813Z",
     "iopub.status.idle": "2024-11-03T13:38:39.225759Z",
     "shell.execute_reply": "2024-11-03T13:38:39.225139Z"
    }
   },
   "outputs": [
    {
     "data": {
      "text/html": [
       "<div>\n",
       "<style scoped>\n",
       "    .dataframe tbody tr th:only-of-type {\n",
       "        vertical-align: middle;\n",
       "    }\n",
       "\n",
       "    .dataframe tbody tr th {\n",
       "        vertical-align: top;\n",
       "    }\n",
       "\n",
       "    .dataframe thead th {\n",
       "        text-align: right;\n",
       "    }\n",
       "</style>\n",
       "<table border=\"1\" class=\"dataframe\">\n",
       "  <thead>\n",
       "    <tr style=\"text-align: right;\">\n",
       "      <th></th>\n",
       "      <th>feature_id</th>\n",
       "      <th>feature_name</th>\n",
       "    </tr>\n",
       "  </thead>\n",
       "  <tbody>\n",
       "    <tr>\n",
       "      <th>0</th>\n",
       "      <td>ENSG00000186092</td>\n",
       "      <td>OR4F5</td>\n",
       "    </tr>\n",
       "    <tr>\n",
       "      <th>1</th>\n",
       "      <td>ENSG00000284733</td>\n",
       "      <td>OR4F29</td>\n",
       "    </tr>\n",
       "    <tr>\n",
       "      <th>2</th>\n",
       "      <td>ENSG00000284662</td>\n",
       "      <td>OR4F16</td>\n",
       "    </tr>\n",
       "    <tr>\n",
       "      <th>3</th>\n",
       "      <td>ENSG00000187634</td>\n",
       "      <td>SAMD11</td>\n",
       "    </tr>\n",
       "    <tr>\n",
       "      <th>4</th>\n",
       "      <td>ENSG00000188976</td>\n",
       "      <td>NOC2L</td>\n",
       "    </tr>\n",
       "    <tr>\n",
       "      <th>...</th>\n",
       "      <td>...</td>\n",
       "      <td>...</td>\n",
       "    </tr>\n",
       "    <tr>\n",
       "      <th>19326</th>\n",
       "      <td>ENSG00000288702</td>\n",
       "      <td>UGT1A3</td>\n",
       "    </tr>\n",
       "    <tr>\n",
       "      <th>19327</th>\n",
       "      <td>ENSG00000288705</td>\n",
       "      <td>UGT1A5</td>\n",
       "    </tr>\n",
       "    <tr>\n",
       "      <th>19328</th>\n",
       "      <td>ENSG00000182484</td>\n",
       "      <td>WASH6P</td>\n",
       "    </tr>\n",
       "    <tr>\n",
       "      <th>19329</th>\n",
       "      <td>ENSG00000288622</td>\n",
       "      <td>PDCD6-AHRR</td>\n",
       "    </tr>\n",
       "    <tr>\n",
       "      <th>19330</th>\n",
       "      <td>ENSG00000285815</td>\n",
       "      <td>GET1-SH3BGR</td>\n",
       "    </tr>\n",
       "  </tbody>\n",
       "</table>\n",
       "<p>19331 rows × 2 columns</p>\n",
       "</div>"
      ],
      "text/plain": [
       "            feature_id feature_name\n",
       "0      ENSG00000186092        OR4F5\n",
       "1      ENSG00000284733       OR4F29\n",
       "2      ENSG00000284662       OR4F16\n",
       "3      ENSG00000187634       SAMD11\n",
       "4      ENSG00000188976        NOC2L\n",
       "...                ...          ...\n",
       "19326  ENSG00000288702       UGT1A3\n",
       "19327  ENSG00000288705       UGT1A5\n",
       "19328  ENSG00000182484       WASH6P\n",
       "19329  ENSG00000288622   PDCD6-AHRR\n",
       "19330  ENSG00000285815  GET1-SH3BGR\n",
       "\n",
       "[19331 rows x 2 columns]"
      ]
     },
     "execution_count": 3,
     "metadata": {},
     "output_type": "execute_result"
    }
   ],
   "source": [
    "import pandas as pd\n",
    "var_df = pd.read_parquet('../../sc_pretrained/var.parquet')\n",
    "var_df"
   ]
  },
  {
   "cell_type": "code",
   "execution_count": 4,
   "metadata": {
    "execution": {
     "iopub.execute_input": "2024-11-03T13:38:39.227832Z",
     "iopub.status.busy": "2024-11-03T13:38:39.227435Z",
     "iopub.status.idle": "2024-11-03T13:38:39.239977Z",
     "shell.execute_reply": "2024-11-03T13:38:39.239245Z"
    }
   },
   "outputs": [
    {
     "data": {
      "text/plain": [
       "['OR4F5',\n",
       " 'OR4F29',\n",
       " 'OR4F16',\n",
       " 'SAMD11',\n",
       " 'NOC2L',\n",
       " 'KLHL17',\n",
       " 'PLEKHN1',\n",
       " 'PERM1',\n",
       " 'HES4',\n",
       " 'ISG15',\n",
       " 'AGRN',\n",
       " 'RNF223',\n",
       " 'C1orf159',\n",
       " 'TTLL10',\n",
       " 'TNFRSF18',\n",
       " 'TNFRSF4',\n",
       " 'SDF4',\n",
       " 'B3GALT6',\n",
       " 'C1QTNF12',\n",
       " 'UBE2J2',\n",
       " 'SCNN1D',\n",
       " 'ACAP3',\n",
       " 'PUSL1',\n",
       " 'INTS11',\n",
       " 'CPTP',\n",
       " 'TAS1R3',\n",
       " 'DVL1',\n",
       " 'MXRA8',\n",
       " 'AURKAIP1',\n",
       " 'CCNL2',\n",
       " 'MRPL20',\n",
       " 'ANKRD65',\n",
       " 'TMEM88B',\n",
       " 'VWA1',\n",
       " 'ATAD3C',\n",
       " 'ATAD3B',\n",
       " 'ATAD3A',\n",
       " 'TMEM240',\n",
       " 'SSU72',\n",
       " 'FNDC10',\n",
       " 'MIB2',\n",
       " 'MMP23B',\n",
       " 'CDK11B',\n",
       " 'SLC35E2B',\n",
       " 'CDK11A',\n",
       " 'NADK',\n",
       " 'GNB1',\n",
       " 'CALML6',\n",
       " 'TMEM52',\n",
       " 'CFAP74',\n",
       " 'GABRD',\n",
       " 'PRKCZ',\n",
       " 'FAAP20',\n",
       " 'SKI',\n",
       " 'MORN1',\n",
       " 'RER1',\n",
       " 'PEX10',\n",
       " 'PLCH2',\n",
       " 'PANK4',\n",
       " 'HES5',\n",
       " 'TNFRSF14',\n",
       " 'PRXL2B',\n",
       " 'MMEL1',\n",
       " 'TTC34',\n",
       " 'ACTRT2',\n",
       " 'PRDM16',\n",
       " 'ARHGEF16',\n",
       " 'MEGF6',\n",
       " 'TPRG1L',\n",
       " 'WRAP73',\n",
       " 'TP73',\n",
       " 'CCDC27',\n",
       " 'SMIM1',\n",
       " 'LRRC47',\n",
       " 'CEP104',\n",
       " 'DFFB',\n",
       " 'C1orf174',\n",
       " 'AJAP1',\n",
       " 'NPHP4',\n",
       " 'KCNAB2',\n",
       " 'CHD5',\n",
       " 'RPL22',\n",
       " 'RNF207',\n",
       " 'ICMT',\n",
       " 'HES3',\n",
       " 'GPR153',\n",
       " 'ACOT7',\n",
       " 'HES2',\n",
       " 'ESPN',\n",
       " 'TNFRSF25',\n",
       " 'PLEKHG5',\n",
       " 'NOL9',\n",
       " 'TAS1R1',\n",
       " 'ZBTB48',\n",
       " 'KLHL21',\n",
       " 'PHF13',\n",
       " 'THAP3',\n",
       " 'DNAJC11',\n",
       " 'CAMTA1',\n",
       " 'VAMP3',\n",
       " 'PER3',\n",
       " 'UTS2',\n",
       " 'TNFRSF9',\n",
       " 'PARK7',\n",
       " 'ERRFI1',\n",
       " 'SLC45A1',\n",
       " 'RERE',\n",
       " 'ENO1',\n",
       " 'CA6',\n",
       " 'SLC2A7',\n",
       " 'SLC2A5',\n",
       " 'GPR157',\n",
       " 'H6PD',\n",
       " 'SPSB1',\n",
       " 'SLC25A33',\n",
       " 'TMEM201',\n",
       " 'PIK3CD',\n",
       " 'CLSTN1',\n",
       " 'CTNNBIP1',\n",
       " 'LZIC',\n",
       " 'NMNAT1',\n",
       " 'RBP7',\n",
       " 'UBE4B',\n",
       " 'KIF1B',\n",
       " 'PGD',\n",
       " 'CENPS',\n",
       " 'CORT',\n",
       " 'DFFA',\n",
       " 'PEX14',\n",
       " 'CASZ1',\n",
       " 'C1orf127',\n",
       " 'TARDBP',\n",
       " 'MASP2',\n",
       " 'SRM',\n",
       " 'EXOSC10',\n",
       " 'MTOR',\n",
       " 'ANGPTL7',\n",
       " 'UBIAD1',\n",
       " 'DISP3',\n",
       " 'FBXO2',\n",
       " 'FBXO44',\n",
       " 'FBXO6',\n",
       " 'MAD2L2',\n",
       " 'DRAXIN',\n",
       " 'AGTRAP',\n",
       " 'C1orf167',\n",
       " 'MTHFR',\n",
       " 'CLCN6',\n",
       " 'NPPA',\n",
       " 'NPPB',\n",
       " 'KIAA2013',\n",
       " 'PLOD1',\n",
       " 'MFN2',\n",
       " 'MIIP',\n",
       " 'TNFRSF8',\n",
       " 'TNFRSF1B',\n",
       " 'VPS13D',\n",
       " 'DHRS3',\n",
       " 'AADACL4',\n",
       " 'AADACL3',\n",
       " 'C1orf158',\n",
       " 'PRAMEF12',\n",
       " 'PRAMEF1',\n",
       " 'PRAMEF11',\n",
       " 'HNRNPCL1',\n",
       " 'PRAMEF2',\n",
       " 'PRAMEF4',\n",
       " 'PRAMEF10',\n",
       " 'PRAMEF7',\n",
       " 'PRAMEF6',\n",
       " 'PRAMEF27',\n",
       " 'HNRNPCL3',\n",
       " 'PRAMEF25',\n",
       " 'HNRNPCL2',\n",
       " 'PRAMEF26',\n",
       " 'HNRNPCL4',\n",
       " 'PRAMEF9',\n",
       " 'PRAMEF13',\n",
       " 'PRAMEF18',\n",
       " 'PRAMEF5',\n",
       " 'PRAMEF8',\n",
       " 'PRAMEF33',\n",
       " 'PRAMEF15',\n",
       " 'PRAMEF14',\n",
       " 'PRAMEF19',\n",
       " 'PRAMEF17',\n",
       " 'PRAMEF20',\n",
       " 'LRRC38',\n",
       " 'PDPN',\n",
       " 'PRDM2',\n",
       " 'KAZN',\n",
       " 'TMEM51',\n",
       " 'FHAD1',\n",
       " 'EFHD2',\n",
       " 'CTRC',\n",
       " 'CELA2A',\n",
       " 'CELA2B',\n",
       " 'CASP9',\n",
       " 'DNAJC16',\n",
       " 'AGMAT',\n",
       " 'DDI2',\n",
       " 'RSC1A1',\n",
       " 'PLEKHM2',\n",
       " 'SLC25A34',\n",
       " 'TMEM82',\n",
       " 'FBLIM1',\n",
       " 'UQCRHL',\n",
       " 'SPEN',\n",
       " 'ZBTB17',\n",
       " 'SRARP',\n",
       " 'HSPB7',\n",
       " 'CLCNKA',\n",
       " 'CLCNKB',\n",
       " 'FAM131C',\n",
       " 'EPHA2',\n",
       " 'ARHGEF19',\n",
       " 'CPLANE2',\n",
       " 'FBXO42',\n",
       " 'SZRD1',\n",
       " 'SPATA21',\n",
       " 'NECAP2',\n",
       " 'NBPF1',\n",
       " 'CROCC',\n",
       " 'MFAP2',\n",
       " 'ATP13A2',\n",
       " 'SDHB',\n",
       " 'PADI2',\n",
       " 'PADI1',\n",
       " 'PADI3',\n",
       " 'PADI4',\n",
       " 'PADI6',\n",
       " 'RCC2',\n",
       " 'ARHGEF10L',\n",
       " 'ACTL8',\n",
       " 'IGSF21',\n",
       " 'KLHDC7A',\n",
       " 'PAX7',\n",
       " 'TAS1R2',\n",
       " 'ALDH4A1',\n",
       " 'IFFO2',\n",
       " 'UBR4',\n",
       " 'EMC1',\n",
       " 'MRTO4',\n",
       " 'AKR7A3',\n",
       " 'AKR7A2',\n",
       " 'SLC66A1',\n",
       " 'CAPZB',\n",
       " 'MICOS10',\n",
       " 'NBL1',\n",
       " 'HTR6',\n",
       " 'TMCO4',\n",
       " 'RNF186',\n",
       " 'OTUD3',\n",
       " 'PLA2G2E',\n",
       " 'PLA2G2A',\n",
       " 'PLA2G5',\n",
       " 'PLA2G2D',\n",
       " 'PLA2G2F',\n",
       " 'PLA2G2C',\n",
       " 'UBXN10',\n",
       " 'VWA5B1',\n",
       " 'CAMK2N1',\n",
       " 'MUL1',\n",
       " 'FAM43B',\n",
       " 'CDA',\n",
       " 'PINK1',\n",
       " 'DDOST',\n",
       " 'KIF17',\n",
       " 'SH2D5',\n",
       " 'HP1BP3',\n",
       " 'EIF4G3',\n",
       " 'ECE1',\n",
       " 'NBPF3',\n",
       " 'ALPL',\n",
       " 'RAP1GAP',\n",
       " 'USP48',\n",
       " 'LDLRAD2',\n",
       " 'HSPG2',\n",
       " 'CELA3B',\n",
       " 'CELA3A',\n",
       " 'CDC42',\n",
       " 'WNT4',\n",
       " 'ZBTB40',\n",
       " 'EPHA8',\n",
       " 'C1QA',\n",
       " 'C1QC',\n",
       " 'C1QB',\n",
       " 'EPHB2',\n",
       " 'LACTBL1',\n",
       " 'TEX46',\n",
       " 'KDM1A',\n",
       " 'LUZP1',\n",
       " 'HTR1D',\n",
       " 'HNRNPR',\n",
       " 'ZNF436',\n",
       " 'TCEA3',\n",
       " 'ASAP3',\n",
       " 'E2F2',\n",
       " 'ID3',\n",
       " 'RPL11',\n",
       " 'ELOA',\n",
       " 'PITHD1',\n",
       " 'LYPLA2',\n",
       " 'GALE',\n",
       " 'HMGCL',\n",
       " 'FUCA1',\n",
       " 'CNR2',\n",
       " 'PNRC2',\n",
       " 'SRSF10',\n",
       " 'MYOM3',\n",
       " 'IL22RA1',\n",
       " 'IFNLR1',\n",
       " 'GRHL3',\n",
       " 'STPG1',\n",
       " 'NIPAL3',\n",
       " 'RCAN3',\n",
       " 'NCMAP',\n",
       " 'SRRM1',\n",
       " 'CLIC4',\n",
       " 'RUNX3',\n",
       " 'SYF2',\n",
       " 'RSRP1',\n",
       " 'RHD',\n",
       " 'TMEM50A',\n",
       " 'RHCE',\n",
       " 'MACO1',\n",
       " 'LDLRAP1',\n",
       " 'MAN1C1',\n",
       " 'SELENON',\n",
       " 'MTFR1L',\n",
       " 'AUNIP',\n",
       " 'PAQR7',\n",
       " 'STMN1',\n",
       " 'PAFAH2',\n",
       " 'EXTL1',\n",
       " 'SLC30A2',\n",
       " 'TRIM63',\n",
       " 'PDIK1L',\n",
       " 'FAM110D',\n",
       " 'C1orf232',\n",
       " 'ZNF593OS',\n",
       " 'ZNF593',\n",
       " 'CNKSR1',\n",
       " 'CATSPER4',\n",
       " 'CEP85',\n",
       " 'SH3BGRL3',\n",
       " 'UBXN11',\n",
       " 'CD52',\n",
       " 'CRYBG2',\n",
       " 'ZNF683',\n",
       " 'LIN28A',\n",
       " 'DHDDS',\n",
       " 'HMGN2',\n",
       " 'RPS6KA1',\n",
       " 'ARID1A',\n",
       " 'PIGV',\n",
       " 'ZDHHC18',\n",
       " 'SFN',\n",
       " 'GPN2',\n",
       " 'GPATCH3',\n",
       " 'NUDC',\n",
       " 'NR0B2',\n",
       " 'KDF1',\n",
       " 'TRNP1',\n",
       " 'TENT5B',\n",
       " 'SLC9A1',\n",
       " 'WDTC1',\n",
       " 'TMEM222',\n",
       " 'SYTL1',\n",
       " 'MAP3K6',\n",
       " 'FCN3',\n",
       " 'CD164L2',\n",
       " 'GPR3',\n",
       " 'WASF2',\n",
       " 'AHDC1',\n",
       " 'FGR',\n",
       " 'IFI6',\n",
       " 'FAM76A',\n",
       " 'STX12',\n",
       " 'PPP1R8',\n",
       " 'THEMIS2',\n",
       " 'RPA2',\n",
       " 'SMPDL3B',\n",
       " 'XKR8',\n",
       " 'EYA3',\n",
       " 'PTAFR',\n",
       " 'DNAJC8',\n",
       " 'ATP5IF1',\n",
       " 'SESN2',\n",
       " 'MED18',\n",
       " 'PHACTR4',\n",
       " 'RCC1',\n",
       " 'TRNAU1AP',\n",
       " 'TAF12',\n",
       " 'RAB42',\n",
       " 'GMEB1',\n",
       " 'YTHDF2',\n",
       " 'OPRD1',\n",
       " 'EPB41',\n",
       " 'TMEM200B',\n",
       " 'SRSF4',\n",
       " 'MECR',\n",
       " 'PTPRU',\n",
       " 'MATN1',\n",
       " 'LAPTM5',\n",
       " 'SDC3',\n",
       " 'PUM1',\n",
       " 'NKAIN1',\n",
       " 'SNRNP40',\n",
       " 'ZCCHC17',\n",
       " 'FABP3',\n",
       " 'SERINC2',\n",
       " 'TINAGL1',\n",
       " 'HCRTR1',\n",
       " 'PEF1',\n",
       " 'COL16A1',\n",
       " 'ADGRB2',\n",
       " 'SPOCD1',\n",
       " 'PTP4A2',\n",
       " 'KHDRBS1',\n",
       " 'TMEM39B',\n",
       " 'KPNA6',\n",
       " 'TXLNA',\n",
       " 'CCDC28B',\n",
       " 'IQCC',\n",
       " 'DCDC2B',\n",
       " 'TMEM234',\n",
       " 'EIF3I',\n",
       " 'FAM167B',\n",
       " 'LCK',\n",
       " 'HDAC1',\n",
       " 'MARCKSL1',\n",
       " 'TSSK3',\n",
       " 'FAM229A',\n",
       " 'BSDC1',\n",
       " 'ZBTB8B',\n",
       " 'ZBTB8A',\n",
       " 'ZBTB8OS',\n",
       " 'RBBP4',\n",
       " 'SYNC',\n",
       " 'KIAA1522',\n",
       " 'YARS1',\n",
       " 'S100PBP',\n",
       " 'FNDC5',\n",
       " 'HPCA',\n",
       " 'TMEM54',\n",
       " 'RNF19B',\n",
       " 'AK2',\n",
       " 'AZIN2',\n",
       " 'TRIM62',\n",
       " 'ZNF362',\n",
       " 'A3GALT2',\n",
       " 'PHC2',\n",
       " 'ZSCAN20',\n",
       " 'CSMD2',\n",
       " 'HMGB4',\n",
       " 'C1orf94',\n",
       " 'SMIM12',\n",
       " 'GJB5',\n",
       " 'GJB4',\n",
       " 'GJB3',\n",
       " 'GJA4',\n",
       " 'DLGAP3',\n",
       " 'TMEM35B',\n",
       " 'ZMYM6',\n",
       " 'ZMYM1',\n",
       " 'SFPQ',\n",
       " 'ZMYM4',\n",
       " 'KIAA0319L',\n",
       " 'NCDN',\n",
       " 'TFAP2E',\n",
       " 'PSMB2',\n",
       " 'C1orf216',\n",
       " 'CLSPN',\n",
       " 'AGO4',\n",
       " 'AGO1',\n",
       " 'AGO3',\n",
       " 'TEKT2',\n",
       " 'ADPRS',\n",
       " 'COL8A2',\n",
       " 'TRAPPC3',\n",
       " 'MAP7D1',\n",
       " 'THRAP3',\n",
       " 'SH3D21',\n",
       " 'EVA1B',\n",
       " 'STK40',\n",
       " 'LSM10',\n",
       " 'OSCP1',\n",
       " 'MRPS15',\n",
       " 'CSF3R',\n",
       " 'GRIK3',\n",
       " 'ZC3H12A',\n",
       " 'MEAF6',\n",
       " 'SNIP1',\n",
       " 'DNALI1',\n",
       " 'GNL2',\n",
       " 'RSPO1',\n",
       " 'C1orf109',\n",
       " 'CDCA8',\n",
       " 'EPHA10',\n",
       " 'MANEAL',\n",
       " 'YRDC',\n",
       " 'C1orf122',\n",
       " 'MTF1',\n",
       " 'INPP5B',\n",
       " 'SF3A3',\n",
       " 'FHL3',\n",
       " 'UTP11',\n",
       " 'POU3F1',\n",
       " 'RRAGC',\n",
       " 'MYCBP',\n",
       " 'GJA9',\n",
       " 'RHBDL2',\n",
       " 'AKIRIN1',\n",
       " 'NDUFS5',\n",
       " 'MACF1',\n",
       " 'BMP8A',\n",
       " 'PABPC4',\n",
       " 'HEYL',\n",
       " 'NT5C1A',\n",
       " 'HPCAL4',\n",
       " 'PPIE',\n",
       " 'BMP8B',\n",
       " 'OXCT2',\n",
       " 'TRIT1',\n",
       " 'MYCL',\n",
       " 'MFSD2A',\n",
       " 'CAP1',\n",
       " 'PPT1',\n",
       " 'RLF',\n",
       " 'TMCO2',\n",
       " 'ZMPSTE24',\n",
       " 'COL9A2',\n",
       " 'SMAP2',\n",
       " 'ZFP69B',\n",
       " 'ZFP69',\n",
       " 'EXO5',\n",
       " 'ZNF684',\n",
       " 'RIMS3',\n",
       " 'NFYC',\n",
       " 'KCNQ4',\n",
       " 'CITED4',\n",
       " 'CTPS1',\n",
       " 'SLFNL1',\n",
       " 'SCMH1',\n",
       " 'FOXO6',\n",
       " 'EDN2',\n",
       " 'HIVEP3',\n",
       " 'GUCA2B',\n",
       " 'GUCA2A',\n",
       " 'FOXJ3',\n",
       " 'RIMKLA',\n",
       " 'ZMYND12',\n",
       " 'PPCS',\n",
       " 'CCDC30',\n",
       " 'PPIH',\n",
       " 'YBX1',\n",
       " 'CLDN19',\n",
       " 'P3H1',\n",
       " 'C1orf50',\n",
       " 'TMEM269',\n",
       " 'SVBP',\n",
       " 'ERMAP',\n",
       " 'ZNF691',\n",
       " 'SLC2A1',\n",
       " 'FAM183A',\n",
       " 'EBNA1BP2',\n",
       " 'CFAP57',\n",
       " 'TMEM125',\n",
       " 'C1orf210',\n",
       " 'TIE1',\n",
       " 'MPL',\n",
       " 'CDC20',\n",
       " 'ELOVL1',\n",
       " 'MED8',\n",
       " 'SZT2',\n",
       " 'HYI',\n",
       " 'PTPRF',\n",
       " 'KDM4A',\n",
       " 'ST3GAL3',\n",
       " 'ARTN',\n",
       " 'IPO13',\n",
       " 'DPH2',\n",
       " 'ATP6V0B',\n",
       " 'B4GALT2',\n",
       " 'CCDC24',\n",
       " 'SLC6A9',\n",
       " 'KLF17',\n",
       " 'KLF18',\n",
       " 'DMAP1',\n",
       " 'ERI3',\n",
       " 'RNF220',\n",
       " 'TMEM53',\n",
       " 'ARMH1',\n",
       " 'KIF2C',\n",
       " 'RPS8',\n",
       " 'BEST4',\n",
       " 'PLK3',\n",
       " 'DYNLT4',\n",
       " 'BTBD19',\n",
       " 'PTCH2',\n",
       " 'EIF2B3',\n",
       " 'HECTD3',\n",
       " 'UROD',\n",
       " 'ZSWIM5',\n",
       " 'HPDL',\n",
       " 'MUTYH',\n",
       " 'TOE1',\n",
       " 'TESK2',\n",
       " 'CCDC163',\n",
       " 'MMACHC',\n",
       " 'PRDX1',\n",
       " 'AKR1A1',\n",
       " 'NASP',\n",
       " 'CCDC17',\n",
       " 'GPBP1L1',\n",
       " 'TMEM69',\n",
       " 'IPP',\n",
       " 'MAST2',\n",
       " 'PIK3R3',\n",
       " 'TSPAN1',\n",
       " 'P3R3URF',\n",
       " 'POMGNT1',\n",
       " 'LURAP1',\n",
       " 'RAD54L',\n",
       " 'LRRC41',\n",
       " 'UQCRH',\n",
       " 'NSUN4',\n",
       " 'FAAH',\n",
       " 'DMBX1',\n",
       " 'TMEM275',\n",
       " 'KNCN',\n",
       " 'MKNK1',\n",
       " 'MOB3C',\n",
       " 'ATPAF1',\n",
       " 'TEX38',\n",
       " 'EFCAB14',\n",
       " 'CYP4B1',\n",
       " 'CYP4A11',\n",
       " 'CYP4X1',\n",
       " 'CYP4Z1',\n",
       " 'CYP4A22',\n",
       " 'PDZK1IP1',\n",
       " 'TAL1',\n",
       " 'STIL',\n",
       " 'CMPK1',\n",
       " 'FOXE3',\n",
       " 'FOXD2',\n",
       " 'TRABD2B',\n",
       " 'SLC5A9',\n",
       " 'SPATA6',\n",
       " 'AGBL4',\n",
       " 'BEND5',\n",
       " 'ELAVL4',\n",
       " 'DMRTA2',\n",
       " 'FAF1',\n",
       " 'CDKN2C',\n",
       " 'C1orf185',\n",
       " 'RNF11',\n",
       " 'TTC39A',\n",
       " 'EPS15',\n",
       " 'OSBPL9',\n",
       " 'NRDC',\n",
       " 'RAB3B',\n",
       " 'TXNDC12',\n",
       " 'KTI12',\n",
       " 'BTF3L4',\n",
       " 'ZFYVE9',\n",
       " 'CC2D1B',\n",
       " 'ORC1',\n",
       " 'PRPF38A',\n",
       " 'TUT4',\n",
       " 'GPX7',\n",
       " 'SHISAL2A',\n",
       " 'COA7',\n",
       " 'ZYG11B',\n",
       " 'ZYG11A',\n",
       " 'ECHDC2',\n",
       " 'SCP2',\n",
       " 'PODN',\n",
       " 'SLC1A7',\n",
       " 'CPT2',\n",
       " 'CZIB',\n",
       " 'MAGOH',\n",
       " 'LRP8',\n",
       " 'DMRTB1',\n",
       " 'GLIS1',\n",
       " 'NDC1',\n",
       " 'YIPF1',\n",
       " 'DIO1',\n",
       " 'HSPB11',\n",
       " 'LRRC42',\n",
       " 'LDLRAD1',\n",
       " 'TMEM59',\n",
       " 'TCEANC2',\n",
       " 'CDCP2',\n",
       " 'CYB5RL',\n",
       " 'MRPL37',\n",
       " 'SSBP3',\n",
       " 'ACOT11',\n",
       " 'FAM151A',\n",
       " 'MROH7',\n",
       " 'TTC4',\n",
       " 'PARS2',\n",
       " 'TTC22',\n",
       " 'LEXM',\n",
       " 'DHCR24',\n",
       " 'TMEM61',\n",
       " 'BSND',\n",
       " 'PCSK9',\n",
       " 'USP24',\n",
       " 'PLPP3',\n",
       " 'PRKAA2',\n",
       " 'FYB2',\n",
       " 'C8A',\n",
       " 'C8B',\n",
       " 'DAB1',\n",
       " 'OMA1',\n",
       " 'TACSTD2',\n",
       " 'MYSM1',\n",
       " 'JUN',\n",
       " 'FGGY',\n",
       " 'HOOK1',\n",
       " 'CYP2J2',\n",
       " 'C1orf87',\n",
       " 'NFIA',\n",
       " 'TM2D1',\n",
       " 'PATJ',\n",
       " 'L1TD1',\n",
       " 'KANK4',\n",
       " 'USP1',\n",
       " 'DOCK7',\n",
       " 'ANGPTL3',\n",
       " 'ATG4C',\n",
       " 'FOXD3',\n",
       " 'ALG6',\n",
       " 'ITGB3BP',\n",
       " 'EFCAB7',\n",
       " 'PGM1',\n",
       " 'ROR1',\n",
       " 'UBE2U',\n",
       " 'CACHD1',\n",
       " 'RAVER2',\n",
       " 'JAK1',\n",
       " 'AK4',\n",
       " 'DNAJC6',\n",
       " 'LEPROT',\n",
       " 'LEPR',\n",
       " 'PDE4B',\n",
       " 'SGIP1',\n",
       " 'DYNLT5',\n",
       " 'INSL5',\n",
       " 'DNAI4',\n",
       " 'MIER1',\n",
       " 'SLC35D1',\n",
       " 'C1orf141',\n",
       " 'IL23R',\n",
       " 'IL12RB2',\n",
       " 'SERBP1',\n",
       " 'GADD45A',\n",
       " 'GNG12',\n",
       " 'DIRAS3',\n",
       " 'WLS',\n",
       " 'RPE65',\n",
       " 'DEPDC1',\n",
       " 'LRRC7',\n",
       " 'LRRC40',\n",
       " 'SRSF11',\n",
       " 'ANKRD13C',\n",
       " 'CTH',\n",
       " 'PTGER3',\n",
       " 'ZRANB2',\n",
       " 'NEGR1',\n",
       " 'LRRIQ3',\n",
       " 'FPGT',\n",
       " 'TNNI3K',\n",
       " 'LRRC53',\n",
       " 'ERICH3',\n",
       " 'CRYZ',\n",
       " 'TYW3',\n",
       " 'LHX8',\n",
       " 'SLC44A5',\n",
       " 'ACADM',\n",
       " 'RABGGTB',\n",
       " 'MSH4',\n",
       " 'ASB17',\n",
       " 'ST6GALNAC3',\n",
       " 'ST6GALNAC5',\n",
       " 'PIGK',\n",
       " 'AK5',\n",
       " 'ZZZ3',\n",
       " 'USP33',\n",
       " 'MIGA1',\n",
       " 'NEXN',\n",
       " 'FUBP1',\n",
       " 'DNAJB4',\n",
       " 'GIPC2',\n",
       " 'PTGFR',\n",
       " 'IFI44L',\n",
       " 'IFI44',\n",
       " 'ADGRL4',\n",
       " 'ADGRL2',\n",
       " 'TTLL7',\n",
       " 'PRKACB',\n",
       " 'SAMD13',\n",
       " 'DNASE2B',\n",
       " 'RPF1',\n",
       " 'GNG5',\n",
       " 'SPATA1',\n",
       " 'CTBS',\n",
       " 'SSX2IP',\n",
       " 'LPAR3',\n",
       " 'MCOLN2',\n",
       " 'DNAI3',\n",
       " 'MCOLN3',\n",
       " 'SYDE2',\n",
       " 'C1orf52',\n",
       " 'BCL10',\n",
       " 'DDAH1',\n",
       " 'CCN1',\n",
       " 'ZNHIT6',\n",
       " 'COL24A1',\n",
       " 'ODF2L',\n",
       " 'CLCA2',\n",
       " 'CLCA1',\n",
       " 'CLCA4',\n",
       " 'SH3GLB1',\n",
       " 'SELENOF',\n",
       " 'HS2ST1',\n",
       " 'LMO4',\n",
       " 'PKN2',\n",
       " 'GTF2B',\n",
       " 'KYAT3',\n",
       " 'RBMXL1',\n",
       " 'GBP3',\n",
       " 'GBP1',\n",
       " 'GBP2',\n",
       " 'GBP7',\n",
       " 'GBP4',\n",
       " 'GBP5',\n",
       " 'GBP6',\n",
       " 'LRRC8B',\n",
       " 'LRRC8C',\n",
       " 'LRRC8D',\n",
       " 'ZNF326',\n",
       " 'BARHL2',\n",
       " 'ZNF644',\n",
       " 'HFM1',\n",
       " 'CDC7',\n",
       " 'TGFBR3',\n",
       " 'BRDT',\n",
       " 'EPHX4',\n",
       " 'SETSIP',\n",
       " 'BTBD8',\n",
       " 'C1orf146',\n",
       " 'GLMN',\n",
       " 'RPAP2',\n",
       " 'GFI1',\n",
       " 'EVI5',\n",
       " 'RPL5',\n",
       " 'DIPK1A',\n",
       " 'MTF2',\n",
       " 'TMED5',\n",
       " 'CCDC18',\n",
       " 'DR1',\n",
       " 'FNBP1L',\n",
       " 'BCAR3',\n",
       " 'DNTTIP2',\n",
       " 'GCLM',\n",
       " 'ABCA4',\n",
       " 'ARHGAP29',\n",
       " 'ABCD3',\n",
       " 'F3',\n",
       " 'SLC44A3',\n",
       " 'CNN3',\n",
       " 'ALG14',\n",
       " 'TLCD4',\n",
       " 'RWDD3',\n",
       " 'PTBP2',\n",
       " 'DPYD',\n",
       " 'SNX7',\n",
       " 'PLPPR5',\n",
       " 'PLPPR4',\n",
       " 'PALMD',\n",
       " 'FRRS1',\n",
       " 'AGL',\n",
       " 'SLC35A3',\n",
       " 'MFSD14A',\n",
       " 'SASS6',\n",
       " 'TRMT13',\n",
       " 'LRRC39',\n",
       " 'DBT',\n",
       " 'RTCA',\n",
       " 'CDC14A',\n",
       " 'GPR88',\n",
       " 'VCAM1',\n",
       " 'EXTL2',\n",
       " 'SLC30A7',\n",
       " 'DPH5',\n",
       " 'S1PR1',\n",
       " 'OLFM3',\n",
       " 'COL11A1',\n",
       " 'RNPC3',\n",
       " 'AMY2B',\n",
       " 'AMY2A',\n",
       " 'AMY1A',\n",
       " 'AMY1B',\n",
       " 'AMY1C',\n",
       " 'PRMT6',\n",
       " 'NTNG1',\n",
       " 'VAV3',\n",
       " 'SLC25A24',\n",
       " 'NBPF4',\n",
       " 'NBPF6',\n",
       " 'FAM102B',\n",
       " 'HENMT1',\n",
       " 'PRPF38B',\n",
       " 'FNDC7',\n",
       " 'STXBP3',\n",
       " 'AKNAD1',\n",
       " 'GPSM2',\n",
       " 'CLCC1',\n",
       " 'WDR47',\n",
       " 'TAF13',\n",
       " 'TMEM167B',\n",
       " 'C1orf194',\n",
       " 'ELAPOR1',\n",
       " 'SARS1',\n",
       " 'CELSR2',\n",
       " 'PSRC1',\n",
       " 'MYBPHL',\n",
       " 'SORT1',\n",
       " 'PSMA5',\n",
       " 'SYPL2',\n",
       " 'ATXN7L2',\n",
       " 'CYB561D1',\n",
       " 'AMIGO1',\n",
       " 'GPR61',\n",
       " 'GNAI3',\n",
       " 'GNAT2',\n",
       " 'AMPD2',\n",
       " 'GSTM4',\n",
       " 'GSTM2',\n",
       " 'GSTM1',\n",
       " 'GSTM5',\n",
       " 'GSTM3',\n",
       " 'EPS8L3',\n",
       " 'CSF1',\n",
       " 'AHCYL1',\n",
       " 'STRIP1',\n",
       " 'ALX3',\n",
       " 'UBL4B',\n",
       " 'SLC6A17',\n",
       " 'KCNC4',\n",
       " 'RBM15',\n",
       " 'SLC16A4',\n",
       " 'LAMTOR5',\n",
       " 'PROK1',\n",
       " 'KCNA10',\n",
       " 'KCNA2',\n",
       " 'KCNA3',\n",
       " 'CD53',\n",
       " 'LRIF1',\n",
       " 'DRAM2',\n",
       " 'CEPT1',\n",
       " 'DENND2D',\n",
       " 'CHI3L2',\n",
       " 'CHIA',\n",
       " 'PIFO',\n",
       " 'OVGP1',\n",
       " 'WDR77',\n",
       " 'ATP5PB',\n",
       " 'C1orf162',\n",
       " 'TMIGD3',\n",
       " 'ADORA3',\n",
       " 'RAP1A',\n",
       " 'INKA2',\n",
       " 'DDX20',\n",
       " 'KCND3',\n",
       " 'CTTNBP2NL',\n",
       " 'WNT2B',\n",
       " 'ST7L',\n",
       " 'CAPZA1',\n",
       " 'MOV10',\n",
       " 'RHOC',\n",
       " 'PPM1J',\n",
       " 'TAFA3',\n",
       " 'SLC16A1',\n",
       " 'LRIG2',\n",
       " 'MAGI3',\n",
       " 'PHTF1',\n",
       " 'RSBN1',\n",
       " 'PTPN22',\n",
       " 'BCL2L15',\n",
       " 'AP4B1',\n",
       " 'DCLRE1B',\n",
       " 'HIPK1',\n",
       " 'OLFML3',\n",
       " 'SYT6',\n",
       " 'TRIM33',\n",
       " ...]"
      ]
     },
     "execution_count": 4,
     "metadata": {},
     "output_type": "execute_result"
    }
   ],
   "source": [
    "all_genes = var_df['feature_name'].tolist()\n",
    "all_genes"
   ]
  },
  {
   "cell_type": "code",
   "execution_count": 5,
   "metadata": {
    "execution": {
     "iopub.execute_input": "2024-11-03T13:38:39.242160Z",
     "iopub.status.busy": "2024-11-03T13:38:39.241686Z",
     "iopub.status.idle": "2024-11-03T13:38:39.249311Z",
     "shell.execute_reply": "2024-11-03T13:38:39.248709Z"
    }
   },
   "outputs": [
    {
     "data": {
      "text/plain": [
       "samd11      samd11\n",
       "noc2l        noc2l\n",
       "klhl17      klhl17\n",
       "plekhn1    plekhn1\n",
       "perm1        perm1\n",
       "            ...   \n",
       "mt-nd4l    mt-nd4l\n",
       "mt-nd4      mt-nd4\n",
       "mt-nd5      mt-nd5\n",
       "mt-nd6      mt-nd6\n",
       "mt-cyb      mt-cyb\n",
       "Name: gene_name, Length: 17693, dtype: object"
      ]
     },
     "execution_count": 5,
     "metadata": {},
     "output_type": "execute_result"
    }
   ],
   "source": [
    "adata.var['gene_name']=adata.var.index\n",
    "adata.var['gene_name']"
   ]
  },
  {
   "cell_type": "code",
   "execution_count": 6,
   "metadata": {
    "execution": {
     "iopub.execute_input": "2024-11-03T13:38:39.251415Z",
     "iopub.status.busy": "2024-11-03T13:38:39.250861Z",
     "iopub.status.idle": "2024-11-03T13:38:39.254437Z",
     "shell.execute_reply": "2024-11-03T13:38:39.253805Z"
    }
   },
   "outputs": [],
   "source": [
    "import numpy as np\n",
    "# 初始化一个新的数据矩阵，形状为 (adata.X.shape[0], len(all_genes))，填充为零\n",
    "new_data = np.zeros((adata.X.shape[0], len(all_genes)), dtype=np.float32)\n"
   ]
  },
  {
   "cell_type": "code",
   "execution_count": 7,
   "metadata": {
    "execution": {
     "iopub.execute_input": "2024-11-03T13:38:39.256335Z",
     "iopub.status.busy": "2024-11-03T13:38:39.255895Z",
     "iopub.status.idle": "2024-11-03T13:38:39.261801Z",
     "shell.execute_reply": "2024-11-03T13:38:39.261132Z"
    }
   },
   "outputs": [
    {
     "data": {
      "text/plain": [
       "samd11      samd11\n",
       "noc2l        noc2l\n",
       "klhl17      klhl17\n",
       "plekhn1    plekhn1\n",
       "perm1        perm1\n",
       "            ...   \n",
       "mt-nd4l    mt-nd4l\n",
       "mt-nd4      mt-nd4\n",
       "mt-nd5      mt-nd5\n",
       "mt-nd6      mt-nd6\n",
       "mt-cyb      mt-cyb\n",
       "Name: gene_name, Length: 17693, dtype: object"
      ]
     },
     "execution_count": 7,
     "metadata": {},
     "output_type": "execute_result"
    }
   ],
   "source": [
    "existing_genes = adata.var['gene_name']\n",
    "existing_genes"
   ]
  },
  {
   "cell_type": "code",
   "execution_count": 8,
   "metadata": {
    "execution": {
     "iopub.execute_input": "2024-11-03T13:38:39.264005Z",
     "iopub.status.busy": "2024-11-03T13:38:39.263435Z",
     "iopub.status.idle": "2024-11-03T13:38:39.285057Z",
     "shell.execute_reply": "2024-11-03T13:38:39.284258Z"
    }
   },
   "outputs": [
    {
     "name": "stdout",
     "output_type": "stream",
     "text": [
      "匹配的基因数量: 17392\n",
      "匹配的基因列表: {'pygo1', 'mucl3', 'adamts9', 'nufip2', 'pla1a', 'or2ak2', 'upf3a', 'hlf', 'tmbim6', 'gys1', 'pspn', 'nudt16l1', 'or11g2', 'atp8a1', 'hnrnpc', 'dcun1d4', 'znf324', 'zp4', 'ddx60', 'dclk1', 'znf333', 'mpi', 'cpxm1', 'sec16b', 'txlnb', 'cdcp1', 'ldb2', 'znf141', 'morn5', 'acbd5', 'slc4a11', 'mef2b', 'romo1', 'phpt1', 'kif5c', 'nup62', 'optc', 'cage1', 'tex38', 'grm2', 'cenph', 'dmtf1', 'zp1', 'rassf2', 'hsd17b10', 'tbx1', 'rtkn2', 'cd3g', 'dpep3', 'asphd2', 'sacs', 'tmem35a', 'pank3', 'pdha1', 'popdc3', 'kctd16', 'btg4', 'abhd10', 'agr3', 'clcnka', 'afap1', 'rgs22', 'znf250', 'stt3a', 'gja3', 'krtap3-1', 'bmx', 'snapc4', 'tmem243', 'prdx5', 'coa8', 'efcab14', 'apeh', 'dock2', 'gpr179', 'eppk1', 'rnf13', 'bin2', 'nr2c1', 'iqch', 'znf706', 'tmem225', 'akirin1', 'mapre2', 'krt19', 'aamp', 'bace1', 'acap3', 'fam118b', 'dthd1', 'sohlh2', 'gna11', 'znf562', 'dpysl5', 'trappc11', 'il16', 'rtca', 'rab11fip3', 'cpeb2', 'senp6', 'hnrnpf', 'fam124a', 'slirp', 'znf415', 'pnma8b', 'glis1', 'abi3', 'rbm5', 'hemgn', 'znf77', 'tex47', 'opa1', 'tgm3', 'cd74', 'cd209', 'znf696', 'tbccd1', 'cyp24a1', 'thap12', 'mt-co2', 'dpysl3', 'dixdc1', 'orm1', 'b4galt4', 'mto1', 'alkbh5', 'spink13', 'pcdhga5', 'phkg1', 'krt36', 'kcnn2', 'ube2g1', 'znf584', 'gngt1', 'jmjd4', 'dcaf17', 'sfmbt2', 'msr1', 'abi1', 'tyw3', 'nek3', 'ap3m2', 'c3orf33', 'zbtb5', 'otx2', 'dnaja3', 'cysltr2', 'armc3', 'parp2', 'btla', 'noxo1', 'ankrd16', 'gadd45b', 'actn3', 'ddx39a', 'thap8', 'wrn', 'tpk1', 'mapk1ip1l', 'ptpn14', 'majin', 'eme1', 'c19orf53', 'ankrd2', 'smim10l1', 'pdp1', 'itpr1', 'pim1', 'ccdc88a', 'snx9', 'hrh2', 'cabp4', 'muc20', 'nfkbil1', 'pcdha9', 'ccdc110', 'ctsh', 'cebpg', 'nop9', 'cep164', 'amt', 'trpm4', 'pebp1', 'trmt2b', 'rab17', 'ebna1bp2', 'ncapd2', 'ubap2', 'tmed1', 'ift88', 'mypop', 'b4galnt3', 'fsip1', 'odf2', 'zbtb41', 'mt-nd6', 'synpo', 's100a14', 'mcm6', 'fam178b', 'slc1a5', 'c1orf232', 'selenot', 'adcy2', 'fbxo3', 'srfbp1', 'asic3', 'irak1', 'serpina1', 'odf2l', 'stk26', 'rgpd3', 'dram1', 'znf492', 'eva1b', 'prmt1', 'taar8', 'n4bp2', 'cul4b', 'adcy8', 'ftmt', 'grk7', 'dctn2', 'gab4', 'gsc2', 'yeats4', 'srrd', 'rtl5', 'fam217a', 'rab3a', 'dmrt3', 'tmsb15a', 'frmd4a', 'nol8', 'ubald1', 'csrnp1', 'tmf1', 'elmod1', 'znf396', 'cd276', 'cdca4', 'or5b3', 'defb110', 'pdp2', 'mt-atp6', 'znf639', 'swi5', 'mms22l', 'fbxo34', 'cdc42se1', 'slc36a3', 'prr19', 'acap1', 'znf821', 'c5orf47', 'dnpep', 'gin1', 'vgll4', 'nmu', 'tbx15', 'tubb6', 'tlcd5', 'gbp1', 'kdm3a', 'ptpru', 's100a7a', 'vps54', 'sestd1', 'ctbp2', 'gzmb', 'parp1', 'lelp1', 'zdhhc6', 'kpna6', 'hmmr', 'galnt16', 'abhd14b', 'aifm3', 'znf48', 'tmco4', 'avpi1', 'znf131', 'rabgap1l', 'agfg1', 'troap', 'clcnkb', 'cd2', 'c9orf135', 'tmem67', 'cwh43', 'vip', 'tff1', 'ubac1', 'sp6', 'anp32e', 'mog', 'filip1', 'nkap', 'ptprj', 'med18', 'abhd16a', 'slc10a6', 'tigit', 'trim37', 'cdk5', 'eif2s2', 'cygb', 'dcun1d1', 'armc1', 'cyp2f1', 'emc9', 'repin1', 'snrpd3', 'elf1', 'cd163', 'clptm1', 'dpp6', 'or7d2', 'edem3', 'ptar1', 'larp1', 'gng11', 'npy5r', 'tfap2d', 'slc7a5', 'cdc42bpb', 'dusp9', 'agl', 'sema4d', 'acbd6', 'amigo2', 'arv1', 'tap2', 'ppip5k1', 'aldh16a1', 'wfdc11', 'tmem101', 'nek4', 'fate1', 'clstn1', 'fezf2', 'prkaca', 'nlrp2b', 'wdr54', 'grid2ip', 'lyl1', 'fgl1', 'gipr', 'slf2', 'ankrd35', 'letm1', 'slc30a6', 'ndufs5', 'tmem53', 'gmfg', 'il19', 'pm20d1', 'fhl5', 'nol12', 'traip', 'arl15', 'cacna1b', 'opalin', 'pigc', 'trim64c', 'hmgn5', 'sel1l2', 'kyat3', 'pcsk4', 'dph6', 'rtp2', 'epb41l3', 'mtss2', 'dyrk3', 'nrsn2', 'npc2', 'f2', 'dkk3', 'ceacam8', 'tirap', 'elf3', 'vsig10l2', 'wdr37', 'sntn', 'hdhd3', 'hprt1', 'ms4a2', 'pdcd1', 'ccdc160', 'abi3bp', 'nsd3', 'c1qtnf1', 'wdr7', 'mroh2b', 'suv39h1', 'grik3', 'znf90', 'ifna7', 'fbxl8', 'ubb', 'mob1a', 'znf594', 'abcc9', 'acaca', 'smyd5', 'fam120c', 'mxra7', 'dnajb14', 'arsf', 'gtf2a1', 'akap8', 'hp1bp3', 'rnf224', 'olr1', 'slc22a6', 'myt1', 'ltn1', 'ahsp', 'riok2', 'pi3', 'bex1', 'nbl1', 'tgoln2', 'jazf1', 'ms4a6e', 'phox2a', 'vnn1', 'caprin2', 'tgif1', 'cited1', 'ank3', 'lrg1', 'gpr162', 'spg21', 'gopc', 'capns2', 'cyb5b', 'serpinb5', 'znf660', 'plpp5', 'bola3', 'emcn', 'trib3', 'cnpy4', 'sprr2e', 'ccnt2', 'c8orf76', 'trnp1', 'lzic', 'arhgdia', 'znf804a', 'stx17', 'slc41a3', 'atp1a3', 'atp13a2', 'wfdc12', 'rgs9bp', 'cse1l', 'thumpd3', 'seh1l', 'ppm1k', 'tmx2', 'krtap13-2', 'gtf3c2', 'znf619', 'prkag2', 'krt74', 'nfe2l3', 'nup133', 'rdh12', 'jag2', 'slc30a5', 'ormdl3', 'zcchc9', 'farp1', 'slc26a6', 'nudt13', 'c19orf81', 'lyve1', 'lcn10', 'htr2c', 'klhl14', 'tmem63b', 'ctdsp1', 'ralgps1', 'pcdha10', 'wapl', 'map1lc3a', 'znf532', 'bnip3l', 'tmem211', 'znf117', 'bin3', 'csta', 'rem2', 'gys2', 'amn1', 'samd1', 'nkx6-3', 'matn1', 'lysmd1', 'piezo1', 'c2orf73', 'med25', 'rtl8a', 'sowahc', 'bco1', 'or7g1', 'spin1', 'jagn1', 'pole4', 'paqr8', 'saal1', 'tram1', 'parp4', 'snapc3', 'ntan1', 'rnase3', 'chac1', 'ncbp3', 'adamts1', 'ipp', 'znf613', 'c8orf48', 'pus3', 'map3k12', 'prrc1', 'cachd1', 'sbk3', 'nme7', 'hps5', 'slc25a21', 'znf544', 'mllt3', 'stx10', 'c21orf58', 'spdl1', 'map3k13', 'ggtlc1', 'p2ry2', 'ganab', 'trak2', 'adamts6', 'gprc5b', 'kiaa0930', 'oprd1', 'hook3', 'prrg3', 'mfap3l', 'lrfn3', 'arl2bp', 'znf471', 'gabrb2', 'slc25a33', 'prpf40a', 'ap1ar', 'kif1c', 'znf14', 'kcnj10', 'c3orf38', 'tbck', 'spink1', 'sycp3', 'dhcr7', 'serpinc1', 'c19orf44', 'lmtk3', 'tmem14a', 'larp4b', 'lpar1', 'klhdc4', 'znf843', 'wdr4', 'snx14', 'mettl25', 'camk2b', 'asb14', 'nme4', 'il9r', 'sgcg', 'nolc1', 'ncln', 'unc93a', 'mgst1', 'e2f7', 'mafa', 'taf4', 'prcc', 'uap1', 'npas2', 'cyp3a4', 'usp37', 'krt7', 'zmynd12', 'hint2', 'nob1', 'ap2a2', 'scamp4', 'neurod1', 'ldah', 'fbxl12', 'mgat5', 'csf3r', 'rfpl4b', 'adamts14', 'nucb2', 'spsb4', 'aldh1a3', 'meis2', 'wdr70', 'chd3', 'slc22a15', 'prkch', 'rnasek', 'wdr72', 'tex55', 'mtdh', 'plaa', 'chfr', 'dcaf12l2', 'atxn3l', 'cd68', 'camlg', 'dmrt1', 'tfcp2l1', 'card6', 'pttg2', 'tmprss13', 'optn', 'rab20', 'glrb', 'csnk2b', 'map3k3', 'pou2f2', 'vash2', 'fam13c', 'spata6l', 'wdr44', 'neil2', 'ccdc172', 'tp53rk', 'jmy', 'tbl1x', 'tmc8', 'prph', 'catip', 'noxa1', 'bex4', 'pxdnl', 'celsr1', 'llph', 'btbd18', 'ndufs2', 'tmem18', 'ms4a18', 'spata22', 'trpm1', 'serpinf1', 'ptprf', 'nckap1', 'cmpk1', 'tsen2', 'tgm4', 'zscan26', 'gtf2ird1', 'slco1a2', 'xcl2', 'abcd2', 'ankrd45', 'tcf7l1', 'mettl22', 'hexd', 'ythdf1', 'rcan1', 'ftcd', 'med13', 'reps1', 'stk33', 'myh2', 'unc13c', 'nav2', 'ero1b', 'fbxo4', 'trmt10a', 'bmpr1b', 'nr3c2', 'mmd2', 'as3mt', 'mmp15', 'coil', 'thsd8', 'tsc22d3', 'oosp4b', 'copg2', 'srl', 'ankh', 'yif1b', 'oas1', 'r3hdm2', 'stard8', 'slc12a2', 'msrb2', 'mettl7a', 'fam234a', 'tgif2', 'akr1c3', 'avpr1a', 'znf720', 'btbd3', 'ly96', 'arhgap23', 'lifr', 'en2', 'prpf38a', 'rhoa', 'ush1c', 'znf597', 'txn2', 'st6gal1', 'hadha', 'hcn3', 'gsta3', 'pde12', 'decr1', 'slc27a5', 'nfasc', 'chordc1', 'pigo', 'cpne6', 'usp17l2', 'myo15b', 'cntn1', 'pfkfb4', 'utf1', 'dip2b', 'znf852', 'znf669', 'exosc2', 'ghdc', 'kiaa0040', 'pcsk2', 'tmem185a', 'tbc1d23', 'gnl1', 'apba1', 'lipn', 'pak4', 'irx1', 'mb', 'cyp2d6', 'myo5a', 'sod2', 'tasp1', 'usp7', 'ptbp1', 'ss18l2', 'ca13', 'lsm4', 'hmcn1', 'scgb2b2', 'cdh5', 'btbd2', 'ubr3', 'ttc9', 'cdh2', 'gcdh', 'sox9', 'znf461', 'ifih1', 'acss1', 'p2ry12', 'dus4l', 'ercc5', 'spdye6', 'krtap10-1', 'sgce', 'nifk', 'golgb1', 'cltrn', 'tfap2b', 'znf713', 'ptgfrn', 'msn', 'ciao3', 'surf6', 'ldoc1', 'micos10', 'ildr1', 'ifrd2', 'ttc16', 'gipc3', 'tm4sf4', 'myo6', 'nsl1', 'phtf2', 'recql5', 'rnf208', 'pcsk6', 'c12orf29', 'hrh3', 'szrd1', 'lman2', 'sp1', 'snx32', 'rnf126', 'lrba', 'efna5', 'ppp2r3b', 'sap30l', 'ramp3', 'catsperz', 'fgg', 'map7d2', 'elavl3', 'vav1', 'nktr', 'apom', 'mlf2', 'il4r', 'nudt19', 'rin2', 'cyp39a1', 'traf7', 'c1orf74', 'pqbp1', 'nfkbie', 'ankrd53', 'mpeg1', 'gsta4', 'arhgef17', 'leng1', 'apol5', 'lrrc8a', 'hs6st1', 'atp5mg', 'ube2q1', 'tagln3', 'rpp40', 'atf7ip', 'shc1', 'rrh', 'atp6v1a', 'prmt9', 'dek', 'bcl2l1', 'kazald1', 'znf671', 'fgf20', 'gypc', 'atl1', 'herc3', 'elp5', 'cog5', 'fbxo25', 'pfkfb3', 'lrrc58', 'pygl', 'agap1', 'rnf183', 'ythdc1', 'mapkap1', 'bst2', 'hectd4', 'rprml', 'tmem9b', 'rgs4', 'prkcd', 'gpihbp1', 'rasl11a', 'ndufa3', 'rasgef1c', 'rgs7bp', 'prmt2', 'echdc3', 'nae1', 'lin9', 'anapc16', 'gns', 'znf777', 'slc9a7', 'cetn2', 'ube2ql1', 'nelfb', 'snx6', 'uba2', 'ngef', 'caln1', 'lrrc73', 'tmem109', 'fam228b', 'oat', 'hmox2', 'cilp2', 'zxdb', 'mmp17', 'dap3', 'gpatch2l', 'ino80c', 'lyn', 'ccdc130', 'pet117', 'wnt5a', 'krtap20-1', 'chrdl2', 'dhtkd1', 'gmfb', 'c10orf71', 'lims2', 'lrrc9', 'tmem231', 'snapin', 'adgrb3', 'uros', 'pitpnc1', 'znf607', 'bfsp1', 'ube2l3', 'fam83a', 'fbxo9', 'cd69', 'mipol1', 'ttll2', 'znf576', 'ipo9', 'csf1', 'stub1', 'fam83b', 'scnn1b', 'urad', 'ube4b', 'ttc27', 'flvcr2', 'spin4', 'fut4', 'tgds', 'fbxo32', 'lrrc10b', 'kcne2', 'pex13', 'edf1', 'ttc1', 'rab23', 'dglucy', 'stard5', 'lsm6', 'wsb2', 'cnppd1', 'cstf2t', 'hrh1', 'hal', 'shroom1', 'taf10', 'krtcap2', 'capza2', 'ppwd1', 'chrfam7a', 'parvb', 'polr2e', 'irx3', 'drc1', 'myo1a', 'galp', 'dclk2', 'nkapd1', 'itm2a', 'nkx6-2', 'syt4', 'c14orf93', 'prcd', 'ippk', 'tspan4', 'fra10ac1', 'bicd1', 'fancd2os', 'c4orf51', 'nat16', 'p3h4', 'pfdn1', 'arhgef18', 'rbm18', 'c11orf1', 'anp32a', 'lin54', 'impa2', 'dhfr2', 'bak1', 'pbk', 'or5k3', 'usf3', 'kcna7', 'ier3', 'prpf4b', 'btf3', 'c1qtnf8', 'clpp', 'dll1', 'gnat3', 'osbpl11', 'clip2', 'haghl', 'tle2', 'mettl2a', 'stat6', 'znf708', 'akt1s1', 'pcdhac1', 'kcne5', 'ct55', 'cenpf', 'nova2', 'rbm41', 'tmbim4', 'nadk2', 'mcrip1', 'ap1m2', 'dnajc10', 'bbc3', 'or2t8', 'mylpf', 'tmem74b', 'tomm20', 'p4ha1', 'c4bpa', 'myo3b', 'fam172a', 'tut7', 'slc4a1', 'dus1l', 'pla2g4c', 'epb41l1', 'phactr1', 'ndp', 'arr3', 'exd2', 'tcirg1', 'col25a1', 'shisal1', 'itga7', 'cplx2', 'cldn7', 'nt5c2', 'cdc42ep4', 'psme4', 'nrg2', 'gid4', 'znf784', 'spag1', 'fgd4', 'isoc1', 'dusp19', 'sec14l2', 'ak4', 'pycard', 'cdh4', 'cdc25b', 'tmem54', 'nicn1', 'fam107a', 'peak1', 'bche', 'gli4', 'mlana', 'pdzd7', 'ntmt1', 'paqr5', 'phf23', 'akr1d1', 'nudcd3', 'clu', 'tas2r8', 'fxyd4', 'celf1', 'znf470', 'ms4a4e', 'lrrc61', 'crip1', 'slamf6', 'otx1', 'c1qbp', 'gab3', 'dmd', 'st6galnac5', 'tmem38b', 'zmym3', 'lrrc28', 'rab11fip4', 'slc25a45', 'sall4', 'fzd7', 'nat8l', 'cited4', 'tspyl1', 'lss', 'rap1gds1', 'plg', 'wdr73', 'unc13b', 'cplane2', 'tmem39b', 'pnpla7', 'pmf1', 'rbm15', 'rchy1', 'coq7', 'gpr183', 'sox10', 'slc33a1', 'wipf2', 'tex33', 'sh2d4b', 'adcyap1', 'zdhhc20', 'upk3a', 'nme6', 'mrs2', 'specc1', 'lars2', 'arhgef10', 'adprm', 'sfrp2', 'ttc22', 'cnbd1', 'zbtb10', 'ppa2', 'cfb', 'rangap1', 'eloc', 'smtn', 'sgcb', 'gbx2', 'cul1', 'mcoln3', 'plscr2', 'nkg7', 'ctnnbl1', 'gpr137b', 'cnga2', 'kri1', 'pias4', 'slc20a2', 'znf460', 'hmgcll1', 'cldn20', 'ventx', 'etv1', 'rpusd2', 'cysltr1', 'tsen54', 'spon2', 'foxn3', 'khdc1', 'fam189a2', 'odf3', 'znf75a', 'map3k10', 'mycbp2', 'rbms3', 'spata4', 'rida', 'fmod', 'arhgef1', 'or2t10', 'ptprb', 'anxa7', 'npsr1', 'yae1', 'ifi16', 'rrp36', 'ramp1', 'shox2', 'anp32b', 'ccdc3', 'cdhr1', 'rhobtb1', 'polr3g', 'prr16', 'champ1', 'krtap26-1', 'bop1', 'cd63', 'ankrd50', 'ginm1', 'mtss1', 'c5orf15', 'lhpp', 'ogdhl', 'tox2', 'pex16', 'rhod', 'dcaf12', 'krr1', 'osbpl7', 'cyp1a1', 'tmem220', 'selenoh', 'atg4c', 'tac3', 'znf572', 'runx1t1', 'prcp', 'smarcd2', 'sall1', 'thbs1', 'syn2', 'drosha', 'amacr', 'pabpc1l2a', 'ndufb4', 'ric8a', 'nans', 'nectin4', 'pcyt1b', 'spryd4', 'xdh', 'erlec1', 'rnf6', 'edn2', 'dctn1', 'znf681', 'tmem163', 'trim64b', 'znf740', 'rptn', 'cby1', 'efcab11', 'thoc1', 'slco5a1', 'hs1bp3', 'pdia5', 'med27', 'or51a4', 'fancb', 'ppp2r5a', 'wif1', 'sntb1', 'pcdh11x', 'olfm4', 'flg', 'bicdl2', 'tmem145', 'acat2', 'gyg2', 'kdm5b', 'smim6', 'camk1', 'mon1a', 'inpp5b', 'tsc2', 'swsap1', 'cox6a2', 'enpp2', 'smr3a', 'ccdc82', 'itpkc', 'arhgef6', 'myl7', 'mtmr9', 'mt-nd4l', 'pip4p1', 'mapk11', 'linc02218', 'brms1', 'znf431', 'znf234', 'slc35b3', 'adam30', 'hnrnpr', 'sec31a', 'fam20b', 'tpd52', 'dusp13', 'adh1c', 'tmprss5', 'fam237b', 'pgap1', 'cggbp1', 'mtx1', 'tubb', 'tep1', 'rab26', 'or5l1', 'scaf11', 'camp', 'tmem270', 'fli1', 'cap2', 'arl11', 'or13c2', 'zbtb7c', 'dlc1', 'scgb2a1', 'znf781', 'arhgap24', 'chd1', 'tlcd2', 'pik3r6', 'cyp7b1', 'tmem127', 'pgf', 'usb1', 'fam83g', 'med29', 'znf347', 'nomo1', 'ube2m', 'il18r1', 'atg9a', 'cd33', 'hnrnpd', 'atp6v0e2', 'hook1', 'ces1', 'pprc1', 'or8k3', 'ano5', 'katnal2', 'prss57', 'adh5', 'ppp1r26', 'gxylt2', 'cnih1', 'fam161b', 'mef2a', 'tnfrsf1a', 'ndst2', 'spata31a6', 'arl6ip5', 'sectm1', 'lce4a', 'snx1', 'cmss1', 'c17orf64', 'magec1', 'ror1', 'ccdc38', 'stab2', 'ddtl', 'azi2', 'cs', 'dscam', 'procr', 'cxcl14', 'znf195', 'sec22a', 'd2hgdh', 'slc39a2', 'sgca', 'rab3il1', 'kctd13', 'or52r1', 'gpr173', 'qrsl1', 'rpgrip1', 'cpne7', 'btf3l4', 'znf85', 'pcp4l1', 'itprip', 'shisal2b', 'fam216a', 'borcs6', 'eloa2', 'arfrp1', 'gnptg', 'mgst2', 'mpc1l', 'med21', 'c1galt1c1l', 'map3k20', 'lgals3bp', 'atpaf1', 'c3orf52', 'c2orf68', 'spag8', 'sart3', 'pdcd1lg2', 'polr3e', 'phlpp1', 'acd', 'prpf31', 'srarp', 'dok6', 'atp5f1a', 'tmem251', 'usp19', 'pmvk', 'slc25a37', 'defb131b', 'cenpj', 'elavl1', 'znf429', 'capza3', 'c4orf17', 'yipf3', 'sv2c', 'atp6v0d1', 'tenm3', 'baiap3', 'fetub', 'mri1', 'slc14a1', 'dnajc11', 'uprt', 'itgb1bp1', 'stmn1', 'lrrc8c', 'sp5', 'slc19a3', 'ncstn', 'serpine2', 'smim8', 'fgd5', 'sat2', 'rab28', 'b4galt7', 'cyp27a1', 'fam162a', 'cfap77', 'meig1', 'fam168b', 'gpm6a', 'ugcg', 'mis12', 'eps8l1', 'gcsam', 'casp10', 'ubqln2', 'hmg20b', 'or4f21', 'pycr1', 'ror2', 'skiv2l', 'lrp10', 'shroom4', 'mstn', 'slc25a12', 'spegnb', 'mcur1', 'zscan29', 'efl1', 'ccdc191', 'b3gnt8', 'tle5', 'il1r2', 'kcnd2', 'mpped1', 'drc7', 'fgf22', 'or10a6', 'slc2a6', 'hacd4', 'vps53', 'mphosph8', 'rcbtb2', 'bloc1s1', 'mfsd10', 'dab2ip', 'tceal3', 'wdr64', 'popdc2', 'nmt1', 'syn3', 'slc25a5', 'faah', 'psmd7', 'focad', 'cox17', 'itga10', 'cep19', 'plpbp', 'fhdc1', 'btd', 'mogs', 'exoc3l2', 'pdx1', 'ppp1r3f', 'mmp1', 's100a8', 'ss18', 'exosc7', 'znf514', 'hdc', 'cdc5l', 'tent5a', 'akap14', 'tat', 'dhps', 'a2m', 'catsper3', 'gyg1', 'slc16a6', 'cetn3', 'efhc2', 'krtap13-1', 'lingo2', 'fancd2', 'cyp2w1', 'myocos', 'trat1', 'saysd1', 'cox6c', 'aldh2', 'klhl4', 'tlx2', 'ttc21b', 'gria1', 'bsnd', 'efcab2', 'sp100', 'sim1', 'cox8a', 'spsb2', 'nsun6', 'msrb1', 'tmem45b', 'dsg3', 'camk2a', 'spon1', 'abcg5', 'stkld1', 'rest', 'fabp7', 'nfxl1', 'myom2', 'stx4', 'neurl2', 'sgcd', 'phf3', 'caps2', 'slc28a2', 'elf4', 'cdc37l1', 'fchsd2', 'tmem9', 'or2a12', 'rfpl2', 'hebp1', 'tmem267', 'rnft2', 'sgk2', 'vps33b', 'chrna5', 'kcnab1', 'ulbp3', 'lrig1', 'stim1', 'rbm14', 'rims1', 'znf180', 'mtor', 'nmi', 'pald1', 'mpv17l', 'abcc11', 'amer1', 'wbp1l', 'psme1', 'il17rel', 'gfpt2', 'znf302', 'c8a', 'washc4', 'tyro3', 'cyth3', 'pck2', 'uxs1', 'tmem50b', 'dlx3', 'ephb6', 'znf778', 'ubl4a', 'm1ap', 'obsl1', 'fut10', 'kcne3', 'bace2', 'gtpbp6', 'mtmr1', 'rabl6', 'cdcp2', 'tcf25', 'clps', 'clstn2', 'ndel1', 'tex35', 'cep295', 'slc25a42', 'sbsn', 'tbcb', 'ceacam5', 'cxcl17', 'pabpc1l', 'mageb2', 'ivns1abp', 'ostm1', 'cenpv', 'got1', 'efhd1', 'krbox1', 'glul', 'snrpe', 'dnase2', 'tas1r3', 'rorc', 'tmem141', 'nt5e', 'cstf3', 'oga', 'ptpdc1', 'rassf7', 'kcnh4', 'klhl28', 'apoa2', 'tmem253', 'cpsf1', 'glb1', 'kcnj18', 'ndufa7', 'spns3', 'junb', 'tceanc2', 'or2f2', 'sage1', 'entpd4', 'insig1', 'spag17', 'abcb5', 'ffar4', 'fpr1', 'tnnt3', 'pimreg', 'znf510', 'f9', 'ahsg', 'ubl3', 'bid', 'klhl41', 'mgam', 'rbm7', 'lyz', 'rbpms2', 'pigw', 'wnt9a', 'coch', 'myh3', 'actg1', 'c6orf47', 'isl1', 'znf554', 'rims3', 'neurl3', 'znf175', 'znf623', 'bpifb6', 'fbxo33', 'adam15', 'ddah1', 'psma7', 'mbd6', 'grm6', 'tm2d1', 'grb7', 'gas1', 'adamdec1', 'pcdh17', 'arglu1', 'cftr', 'tmem106a', 'soat1', 'slc6a13', 'lrrtm2', 'aif1l', 'coro1c', 'slc25a10', 'ppie', 'klhl32', 'lgals14', 'nhlrc3', 'oc90', 'hsd17b14', 'sec24c', 'espl1', 'arrdc2', 'plcz1', 'c1orf56', 'farp2', 'plaur', 'spata18', 'fkbp5', 'slc16a12', 'pa2g4', 'oma1', 'kntc1', 'ssrp1', 'chp1', 'ribc1', 'sh3pxd2a', 'cpne2', 'tbl1y', 'ints8', 'lmf1', 'trim23', 'fut1', 'pdlim3', 'tsn', 'stard6', 'gpr149', 'plekhg4b', 'vsnl1', 'tbl2', 'tmem138', 'grm5', 'lax1', 'gje1', 'exoc5', 'nfkbib', 'hpse', 'muc17', 'prr14', 'erh', 'eaf2', 'tspan6', 'nkain4', 'rap1gap2', 'prkg2', 'ggps1', 'dctn5', 'cryba2', 'fam120a', 'dvl2', 'slc17a9', 'snrpa1', 'tub', 'fbh1', 'zpbp', 'tunar', 'spata33', 'cpxm2', 'smco1', 'acp4', 'thap11', 'isca2', 'zdbf2', 'rad18', 'syt10', 'ism2', 'or2b2', 'psmg1', 'prrc2c', 'rbsn', 'dmxl2', 'mettl3', 'pilra', 'dpyd', 'tdrd15', 'pfkm', 'acsl1', 'fzd3', 'pnma8a', 'otud7b', 'mpp3', 'gpr143', 'pwwp2a', 'rasgef1a', 'defb113', 'musk', 'adck2', 'plekha4', 'tpcn2', 'med20', 'cfap57', 'hcn1', 'slc46a2', 'ces2', 'rrm2', 'utp11', 'ebf1', 'paaf1', 'mta1', 'pknox1', 'or5k4', 'mef2c', 'mtres1', 'chrna2', 'ubxn2a', 'arhgef15', 'sptlc2', 'lta', 'mmel1', 'itga6', 'tmem98', 'rdh14', 'tp63', 'dpy30', 'mdga1', 'spty2d1', 'nalcn', 'plcg1', 'il13ra1', 'or4c5', 'znf274', 'sike1', 'nsun4', 'slc9b2', 'wdr97', 'dusp12', 'cyth1', 'or7a17', 'larp7', 'stk36', 'tor4a', 'apoc1', 'wfdc13', 'cdk5rap1', 'nus1', 'zbtb3', 'gpd1l', 'fndc9', 'pitx3', 'gdap1', 'moap1', 'pigh', 'cadm2', 'znf335', 'efhb', 'or56b4', 'med12', 'miga2', 'ppib', 'rab3b', 'trim67', 'trim60', 'tpd52l1', 'lypd1', 'hormad2', 'slc2a9', 'lrrn3', 'degs1', 'or4e1', 'tk2', 'dpep2nb', 'fam9c', 'grhl1', 'gmnn', 'tenm2', 'klhl42', 'ttpal', 'yjefn3', 'ugt8', 'ier5l', 'tmem45a', 'med9', 'trarg1', 'haus5', 'ctbs', 'pcna', 'pigf', 'pdzd8', 'lrrc42', 'tmem82', 'ccdc24', 'tet3', 'ppip5k2', 'cbx5', 'rab36', 'akain1', 'ccl20', 'ppp3cb', 'angptl3', 'tmco6', 'arhgef40', 'slx4', 'srpx', 'lct', 'zfp41', 'ccl15', 'or8b12', 'nol4l', 'ints5', 'tmprss2', 'figla', 'znf136', 'lalba', 'osgepl1', 'ppp3r2', 'c5orf51', 'uts2', 'rnd1', 'banf2', 'tns1', 'sparc', 'mmp19', 'ttc8', 'evpl', 'lyzl6', 'sec11c', 'znf2', 'krtap13-4', 'armcx2', 'taz', 'f13a1', 'zbed8', 'znf732', 'hapln1', 'tmem167b', 'chl1', 'znf699', 'dbr1', 'asic5', 'c18orf63', 'hnrnpm', 'trpm5', 'rassf9', 'rab35', 'cdkl4', 'prg3', 'lamp5', 'acoxl', 'pdlim7', 'trim27', 'gar1', 'gal3st4', 'tjap1', 'spdyc', 'arl5c', 'crtap', 'fgfr1', 'ptk6', 'map2k1', 'nap1l5', 'phf11', 'twist2', 'mroh2a', 'atg16l2', 'ffar2', 'bola1', 'timm8a', 'gfm1', 'sdad1', 'tsg101', 'gjb5', 'dcaf7', 'gpr153', 'ddhd1', 'jph2', 'psenen', 'b4gat1', 'asb4', 'myo1d', 'hbp1', 'slc6a11', 'tmtc4', 'znf653', 'arf1', 'slc39a7', 'atp6v0b', 'htr3a', 'elovl6', 'cdkn1b', 'flcn', 'hsdl2', 'rac1', 'kcnrg', 'oaz1', 'bpifc', 'cxcr2', 'exoc7', 'lama5', 'abhd16b', 'sf3b2', 'snrpc', 'tmem30b', 'gramd4', 'znf813', 'mtmr14', 'nmrk1', 'mfge8', 'bmpr1a', 'galnt4', 'fstl4', 'znf799', 'sbno1', 'abcb4', 'nxnl1', 'nrarp', 'znf224', 'plppr4', 'kcnj5', 'carmil3', 'snrpd1', 'slx4ip', 'arhgap20', 'col9a1', 'rala', 'or51b5', 'kcnh2', 'mtf2', 'treml1', 'pitpnb', 'vcpkmt', 'abce1', 'sox14', 'slc35f2', 'olig1', 'tcl1b', 'wbp2nl', 'sms', 'mob3a', 'stk35', 'ifitm1', 'elac1', 'serinc2', 'gcc2', 'iqck', 'ccz1', 'pawr', 'jph1', 'c8b', 'dab2', 'slc7a1', 'ivd', 'lgi3', 'gal', 'csf2ra', 'znf583', 'cidec', 'btg3', 'wdr27', 'sart1', 'tctn1', 'ccr7', 'scarf2', 'cep290', 'prss23', 'hoxc6', 'exd1', 'pigbos1', 'cst4', 'lipj', 'ccnc', 'abcb6', 'ak8', 'tp53aip1', 'hpgds', 'ppat', 'eri3', 'krt9', 'gsg1', 'plekhb1', 'heatr6', 'ndufb7', 'sorbs3', 'tfdp1', 'or13d1', 'ca2', 'znf789', 'pdss1', 'tmem182', 'or6s1', 'tnnt1', 'hlcs', 'mis18a', 'kif18a', 'cmtm6', 'cacng1', 'lsmem1', 'copz1', 'ropn1b', 'crx', 'kcnj14', 'taar5', 'adcy4', 'slc39a8', 'tjp1', 'actr6', 'eid1', 'rab3c', 'rttn', 'med14', 'pmel', 'cd96', 'icmt', 'emc10', 'scd', 'cd99', 'creb3l2', 'znf182', 'gtf2h1', 'il1rn', 'tafa2', 'lin28a', 'znf462', 'ccdc14', 'jcad', 'pip', 'nkiras1', 'snupn', 'ssbp4', 'efcab1', 'sox21', 'rtel1', 'arhgef12', 'stat3', 'mrrf', 'or10ag1', 'ddr1', 'derl2', 'kcnmb3', 'tex43', 'klhl24', 'syce2', 'mcm7', 'bsdc1', 'cdrt1', 'znf724', 'pcnx2', 'psg6', 'pfkfb2', 'rbm33', 'rhbdf2', 'rab1a', 'il17rd', 'iqcj', 'neil1', 'galnt8', 'magef1', 'kif11', 'znf496', 'trim16', 'cenpe', 'or8j1', 'cdh3', 'kiaa2026', 'pdcd7', 'tnc', 'vegfb', 'siglec8', 'trim47', 'gpr4', 'ppil2', 'dnajc5g', 'cntn2', 'bmp7', 'polk', 'polr2b', 'cskmt', 'arhgap17', 'ddx49', 'socs4', 'nxf1', 'fgf11', 'golga6l7', 'ybx3', 'ptprh', 'isyna1', 'smco3', 'cysrt1', 'mpp7', 'zranb1', 'lsg1', 'gli1', 'tsc22d2', 'ankrd61', 'rab44', 'svil', 'spint1', 'alpk2', 'inpp5d', 'glt8d2', 'rnpc3', 'phtf1', 'cbx8', 'csf2', 'spire1', 'ly6h', 'saxo1', 'sftpc', 'mad2l1', 'amdhd2', 'ciita', 'sf3b5', 'usp29', 'ugt2b10', 'wdr24', 'hddc2', 'znf235', 'krtap8-1', 'sh2d1a', 'serpinh1', 'cacng4', 'loxl1', 'cd200', 'prr23c', 'taok3', 'ppp1r15a', 'cyb5d2', 'cdr2', 'rassf10', 'chst4', 'notch1', 'tmcc1', 'golph3l', 'lrp2bp', 'cap1', 'prph2', 'suclg2', 'adra2c', 'nfs1', 'dyrk1a', 'tlcd4', 'tmem210', 'or9q1', 'utp20', 'rpap1', 'or9a4', 'tmc5', 'ccr1', 'mmp25', 'pnma5', 'tcim', 'depdc5', 'spg7', 'ccr6', 'or1i1', 'cldnd2', 'atm', 'ap4e1', 'scgb3a1', 'prss22', 'ddx18', 'plscr3', 'scin', 'r3hdml', 'nop16', 'rxrb', 'abat', 'col6a6', 'arhgef37', 'glra2', 'phf6', 'prss1', 'nhej1', 'alkbh7', 'iqca1', 'znf425', 'rin1', 'mx1', 'kif5a', 'pcdhb2', 'hebp2', 'scgb2a2', 'prlh', 'thrb', 'uck1', 'scn1b', 'flrt1', 'nop56', 'polr1c', 'mybpc3', 'wdr43', 'atp5f1b', 'lgals8', 'klhl25', 'mat2a', 'gpr17', 'pitpnm2', 'pcgf3', 'tsku', 'slc49a3', 'chst1', 'nr2e3', 'sftpd', 'fermt3', 'fktn', 'cep57', 'crb1', 'ppp1r14c', 'prkab2', 'nod1', 'plekha3', 'flii', 'gcm2', 'atp2b1', 'ech1', 'fadd', 'flrt3', 'cfap45', 'nos1ap', 'tent5c', 'srgn', 'tmem259', 'dhrs11', 'ccpg1', 'cox18', 'ccnd2', 'asprv1', 'tal2', 'tmc3', 'fastk', 'sox17', 'siglec1', 'kcnj9', 'pom121', 'gnrh1', 'jakmip3', 'slc50a1', 'or4x2', 'eif2s1', 'plac8', 'rab15', 'rab8b', 'c10orf143', 'tti1', 'cdk14', 'ca12', 'dkk4', 'ncf4', 'nts', 'sash1', 'adamts10', 'pheta1', 'p2ry8', 'thumpd2', 'or10z1', 'srp72', 'ppia', 'gng12', 'nova1', 'arhgap15', 'klhl6', 'mkrn3', 'or1d2', 'axin2', 'rer1', 'dnaaf1', 'abcc1', 'icam4', 'paxx', 'atp7a', 'znf430', 'psd4', 'ncr3', 'lxn', 'catsper2', 'rassf3', 'adam33', 'acaa1', 'dnah17', 'atg16l1', 'ppm1b', 'capn7', 'clmn', 'cherp', 'map1lc3c', 'atp5mgl', 'mars2', 'lrrc37a2', 'son', 'cwc22', 'slc17a2', 'mrap2', 'mpg', 'mfsd6l', 'znf524', 'mei1', 'cfl2', 'stom', 'mesd', 'kcnq4', 'tf', 'pon2', 'sft2d2', 'slco1b1', 'znf451', 'usp40', 'znf384', 'yipf2', 'znf578', 'gapdhs', 'spz1', 'ehf', 'ocm2', 'tnfrsf11a', 'fez2', 'cc2d2b', 'lce1b', 'kiaa2013', 'nfu1', 'sqle', 'tfpt', 'dsg2', 'trim71', 'rbm38', 'gpr15', 'ryr2', 'ifne', 'snu13', 'abhd13', 'pih1d1', 'myadm', 'nlrp6', 'fnbp4', 'aadac', 'pdia3', 'tmem230', 'slamf9', 'resp18', 'trim58', 'itgb7', 'znf143', 'tmub1', 'rrm2b', 'tmem184c', 'ezr', 'spdye4', 'acin1', 'ogfod3', 'gnal', 'cmbl', 'ankrd62', 'triqk', 'pax2', 'sln', 'gdf7', 'ptpro', 'tas2r1', 'dcn', 'or5m1', 'abhd2', 'pgpep1l', 'exog', 'abcb1', 'srrt', 'aldh3b2', 'gemin8', 'tbcel', 'tomm22', 'nlrc4', 'tmem151b', 'vstm2b', 'luzp1', 'cir1', 'wdr5b', 'taf15', 'znf326', 'pate3', 'or1l3', 'glyatl2', 'spef2', 'tpst1', 'dlk1', 'ttll6', 'or6c4', 'dcp1b', 'alg11', 'or3a2', 'ddx3x', 'shroom3', 'or1e1', 'mettl24', 'irak4', 'aqr', 'ethe1', 'dusp15', 'sumf1', 'best4', 'slc39a10', 'amz1', 'gnat1', 'nipal4', 'tbc1d2b', 'tbc1d10b', 'apbb3', 'dennd5b', 'cnfn', 'ccs', 'smpd1', 'snx27', 'utp3', 'cog4', 'medag', 'fyb2', 'sh3d19', 'st3gal6', 'pum1', 'pwwp3b', 'rd3l', 'epo', 'gas2l2', 'tmem14c', 'shoc1', 'bloc1s6', 'c19orf38', 'gmppa', 'hibadh', 'dprx', 'eif2b2', 'cebpb', 'cabyr', 'hspb8', 'il2rb', 'aak1', 'crygd', 'pramef14', 'jchain', 'btbd11', 'gphn', 'nlgn4x', 'mta3', 'ccl3', 'krt28', 'ppid', 'padi3', 'ankrd6', 'ldhd', 'rtn4ip1', 'rapgef3', 'malrd1', 'rnf5', 'alg13', 'hrnr', 'bhmt2', 'myo5b', 'kremen1', 'prkg1', 'chmp4b', 'cbfa2t3', 'cnrip1', 'tmem221', 'prox1', 'aldh5a1', 's100g', 'adap2', 'rbp4', 'pilrb', 'rngtt', 'has3', 'mtmr7', 'trim62', 'kifc1', 'dpp9', 'spink6', 'oplah', 'lrfn4', 'adk', 'znf776', 'gpr88', 'septin10', 'fhad1', 'ripk2', 'dpm2', 'sh2d3c', 'pld6', 'pgbd5', 'derl1', 'phactr4', 'slc38a11', 'sftpb', 'noxred1', 'znf217', 'senp8', 'nagpa', 'sirpb1', 'hectd3', 'lhx4', 'nedd1', 'c8orf74', 'foxp1', 'pacs2', 'ackr2', 'slc25a52', 'znf677', 'c8g', 'mypn', 'dlgap3', 'usp1', 'pex14', 'rgp1', 'wdfy1', 'mgme1', 'brms1l', 'usp54', 'atp8a2', 'slc5a1', 'gcsaml', 'mras', 'foxa1', 'snx16', 'myo19', 'dcaf6', 'or4c6', 'cactin', 'bex2', 'psmd10', 'tmem88', 'grin2c', 'megf10', 'stn1', 'or4k14', 'krtap1-3', 'dhx29', 'ccnl1', 'pdk2', 'hadh', 'ttyh3', 'gp6', 'cenpvl3', 'ndufaf4', 'tox', 'rbm8a', 'hspa12a', 'bpifb1', 'fam104b', 'argfx', 'aco2', 'lat2', 'cxcl11', 'adamtsl2', 'sh3d21', 'mid1', 'grm4', 'otogl', 'e2f3', 'pdf', 'nedd8', 'dennd3', 'atp5if1', 'wdr19', 'sytl2', 'ccdc54', 'znf565', 'apol3', 'stimate', 'sdk1', 'tmem126b', 'dync1li1', 'irs1', 'zmym6', 'ubqln1', 'frmd6', 'icos', 'kcnj15', 'krt16', 'lancl3', 'rubcn', 'fitm2', 'enthd1', 'sfi1', 'cfp', 'znf280c', 'kansl3', 'kazn', 'kifap3', 'rbm46', 'mt-nd3', 'tceal2', 'hmg20a', 'mtif3', 'hoxb8', 'maged1', 'emc6', 'mfsd9', 'klhdc8b', 'psors1c1', 'nup98', 'sfpq', 'arhgap21', 'glra1', 'neo1', 'lilra1', 'faim2', 'sf3a2', 'smurf2', 'bspry', 'akap17a', 'tnfaip8l3', 'ska2', 'igsf5', 'atp1b4', 'gtf3c4', 'slc52a2', 'klf16', 'slc38a3', 'dnajc22', 'ppcs', 'ankrd42', 'hmox1', 'c10orf88', 'tmem218', 'clpb', 'ccdc178', 'huwe1', 'selenoo', 'cyp4f12', 'aebp2', 'bglap', 'tab1', 'znf580', 'utp23', 'hcn4', 'cpne5', 'ubap1', 'slc38a8', 'or2m5', 'cxorf65', 'lmntd2', 'polr3gl', 'zbtb11', 'dnhd1', 'pear1', 'mefv', 'med4', 'plagl2', 'usp25', 'mamld1', 'tmsb10', 'atrn', 'gp1bb', 'calb1', 'ecscr', 'pde8a', 'ccdc28a', 'prr22', 'or2j3', 'nlrp13', 'sh3bp1', 'mybphl', 'adamts4', 'phldb3', 'prom2', 'mak16', 'cbr1', 'mageb10', 'aif1', 'ctu2', 'gspt2', 'ccr2', 'ksr1', 'znf664', 'rtkn', 'ube2z', 'prap1', 'scpep1', 'or5ak2', 'iqgap1', 'ccdc86', 'tead3', 'ehd1', 'arid4a', 'atp2b2', 'nek2', 'wdr6', 'c1orf87', 'aldh4a1', 'c3orf62', 'emd', 'tipin', 'atp2a1', 'slco1c1', 'nkx2-2', 'mturn', 'crnn', 'c12orf40', 'mettl1', 'arhgap45', 'slc39a3', 'ttf2', 'stambp', 'adh6', 'dhrs1', 'fntb', 'zswim3', 'klrg2', 'cass4', 'ggct', 'serpini2', 'mcl1', 'dpy19l4', 'crem', 'sirt4', 'defb4a', 'coq3', 'krtap5-3', 'il17f', 'rad23b', 'inhbc', 'lrrc75b', 'znf454', 'zc3hc1', 'wfdc10b', 'tbc1d10a', 'defa3', 'aatk', 'ervv-1', 'defb119', 'fam78b', 'syndig1l', 'clec18a', 'peg3', 'nanos2', 'appbp2', 'slc25a26', 'gimd1', 'rap2a', 'c2orf74', 'lnx1', 'senp7', 'cnot8', 'ovol2', 'nhp2', 'gemin7', 'ift27', 'fbxw4', 'pdilt', 'zhx3', 'gfra2', 'c9', 'lyrm4', 'camk2n2', 'panx1', 'tsen34', 'fbxl15', 'polr3d', 'npas1', 'micb', 'atf1', 'mpc2', 'kdm4c', 'eya3', 'rita1', 'sh2d3a', 'tas2r39', 'irf3', 'tek', 'ppp2r1a', 's100a13', 'sult1c3', 'pidd1', 'nlrp7', 'defb123', 'slc22a11', 'wdr12', 'nfkbia', 'plk2', 'capza1', 'tmed9', 'stxbp6', 'gzma', 'rab39a', 'ppp1r16b', 'odf4', 'znf836', 'trappc4', 'page3', 'slc16a2', 'crybg1', 'tmem216', 'ppp1r13b', 'sorl1', 'baat', 'hapln3', 'ptov1', 'sag', 'mst1', 'cd3e', 'rreb1', 'kcnk15', 'kif9', 'ccdc107', 'syk', 'foxn1', 'nup210l', 'cttnbp2', 'styk1', 'imp3', 'klhl1', 'alg9', 'prss41', 'hectd2', 'trim8', 'rnf181', 'fam221a', 'nr2f6', 'siah3', 'phlpp2', 'pan3', 'znf69', 'cenpq', 'zbtb32', 'crygn', 'nlrp11', 'npipb15', 'lilra5', 'taf7', 'mbd1', 'fgfbp2', 'ccdc12', 'arhgef28', 'or52e8', 'kxd1', 'kcng3', 'mphosph9', 'abca13', 'sik3', 'pvalb', 'nek8', 'vapa', 'prelid3b', 'pcdhb4', 'cyp2e1', 'lmo2', 'treml4', 'parp6', 'crkl', 'cecr2', 'serpinb8', 'pde1a', 'shank3', 'mfsd14a', 'foxn2', 'mif', 'gmps', 'fbxw2', 'itih3', 'plbd1', 'rec114', 'mt3', 'cradd', 'ogn', 'apln', 'mfsd2b', 'chmp6', 'cc2d1a', 'epsti1', 'pyy', 'rnf14', 'cryab', 'pomc', 'npr3', 'scn3a', 'eef1akmt4', 'aspg', 'mcrip2', 'slc6a16', 'wdr92', 'lrrc10', 'znf423', 'ano6', 'apool', 'rnf169', 'cryga', 'cpvl', 'erlin2', 'smarcd1', 'camkk1', 'fcrlb', 'ntn4', 'tagln2', 'sec61g', 'gipc1', 'capn13', 'zdhhc11b', 'ankrd13c', 'art5', 'haus3', 'prr23b', 'spop', 'ccdc80', 'tsbp1', 'loxl2', 'ift140', 'b4galt5', 'iars2', 'aqp12a', 'invs', 'bok', 'togaram2', 'lrat', 'agmo', 'txnl1', 'pms1', 'cdk6', 'lrrc18', 'selenbp1', 'iqcd', 'cdh24', 'dr1', 'rbks', 'birc6', 'zer1', 'slc51b', 'vapb', 'tspan33', 'tpp1', 'nudt7', 'dppa5', 'got1l1', 'map1a', 'eef2', 'fam210b', 'wfikkn1', 'necab2', 'pcdhb14', 'elfn1', 'dcun1d2', 'plce1', 'ogfr', 'rarb', 'c1orf54', 'cd55', 'c9orf85', 'sumo2', 'mapk8ip2', 'gja8', 'ccn6', 'ovol3', 'rfx2', 'spink4', 'nuak1', 'lix1l', 'ankrd39', 'stox2', 'nudt5', 'ndufb1', 'tmprss6', 'cavin3', 'nrde2', 'ddx51', 'art4', 'cfap161', 'csf3', 'lmbr1', 'xkr5', 'aqp3', 'fam166b', 'ahsa1', 'c11orf71', 'cdca8', 'wbp1', 'dennd11', 'znf329', 'znf598', 'nexn', 'amigo1', 'rhoq', 'brk1', 'atp2c1', 'cisd3', 'galnt3', 'armcx6', 'or14k1', 'zc3hav1l', 'smarca4', 'acsbg2', 'rnf168', 'cdkal1', 'gabrr1', 'sos1', 'adh4', 'slc48a1', 'aldh3a2', 'igf2r', 'tex26', 'psme3', 'tom1l1', 'zzef1', 'catsperb', 'cstf1', 'poln', 'ube2j2', 'xkrx', 'zfp92', 'fabp9', 'lemd1', 'znf79', 'cdk1', 'oit3', 'islr2', 'cirbp', 'mzf1', 'rnf121', 'klhl13', 'znf30', 'cdkn2aipnl', 'ripk4', 'krtap19-3', 'myo9b', 'dipk1a', 'mllt11', 'dnajc2', 'pou4f1', 'nlgn2', 'cacna1f', 'xpnpep2', 'vamp3', 'chpf', 'ajm1', 'tacc2', 'acot7', 'crebrf', 'picalm', 'nectin1', 'acot13', 'soga3', 'rab2b', 'cep104', 'sh2d5', 'necap2', 'cul7', 'cog6', 'znf283', 'or7g3', 'rbm42', 'or1s1', 'snrnp70', 'adamts15', 'tigar', 'gabrr3', 'bend3', 'clec4d', 'hoxb9', 'sdr39u1', 'pum3', 'baiap2l2', 'map2k3', 'atl2', 'cyp4f3', 'aadat', 'lmod1', 'fer', 'gldc', 'dis3', 'defb118', 'tmsb4x', 'c8orf33', 'papola', 'pisd', 'slc35b2', 'myom1', 'morc4', 'tmem255a', 'grpel1', 'pkd2l1', 'vps13c', 'man2a2', 'pgam1', 'lhx2', 'adra2a', 'lin7a', 'lamtor1', 'nutf2', 'usp38', 'dohh', 'zmat1', 'tsnax', 'gemin5', 'gal3st1', 'ruvbl1', 'hhla2', 'fam83d', 'rbp7', 'tnfaip8l2', 'gabra6', 'zscan31', 'l3mbtl4', 'ica1', 'lcn15', 'heatr1', 'foxi2', 'cyp21a2', 'vcl', 'tspan14', 'apobec3a', 'adamts2', 'pp2d1', 'rnf215', 'gstcd', 'dnajc13', 'pus7', 'hexb', 'adora2b', 'gtf3c1', 'gusb', 'pnmt', 'mllt1', 'foxa2', 'dtymk', 'fscn1', 'urm1', 'abra', 'agtrap', 'ipo11', 'bmp3', 'oxr1', 'msantd3', 'mgat4c', 'coro6', 'ddias', 'lect2', 'nags', 'lim2', 'gadd45g', 'rell1', 'pamr1', 'sts', 'reg1b', 'rbpj', 'spire2', 'c11orf97', 'or6b1', 'armh4', 'sbk1', 'cnep1r1', 'map2k2', 'tm6sf2', 'znf530', 'ncbp2l', 'atad2b', 'clec2l', 'ercc2', 'sae1', 'hopx', 'cbfb', 'naxe', 'c7orf50', 'aff1', 'fkbp11', 'rabep1', 'klk8', 'lcn6', 'shmt2', 'cyp3a5', 'trpm8', 'tp73', 'znf70', 'me3', 'egr3', 'sh3glb1', 'stxbp5', 'stx8', 'rimbp3b', 'wipf1', 'cd86', 'ap2s1', 'sidt1', 'virma', 'slc34a3', 'camkv', 'ccdc126', 'klf10', 'lsm11', 'adgra2', 'cfd', 'plekhs1', 'cphxl', 'krtap16-1', 'arhgap5', 'pigl', 'slc25a32', 'slc25a25', 'vsir', 'hint3', 'cep89', 'srpk3', 'cxorf66', 'cbln2', 'prr27', 'il1rap', 'shcbp1', 'scn10a', 'mettl21c', 'hivep2', 'zcwpw1', 'prrc2b', 'lce2a', 'atp2c2', 'mdfic', 'spata2', 'c11orf96', 'znf358', 'dqx1', 'lrrc43', 'tceal9', 'gh1', 'klc1', 'oscp1', 'lilra6', 'wdtc1', 'rrp1', 'camk2n1', 'prkdc', 'tmx4', 'zfp28', 'cda', 'mmp7', 'cdr1', 'scube2', 'ftsj1', 'ttc14', 'ptgds', 'taf11l4', 'or51v1', 'cars2', 'nog', 'slc5a3', 'tagln', 'zfp42', 'chrm3', 'fgf17', 'tcerg1l', 'tfg', 'ccer1', 'ubtd1', 'kcnk12', 'kcna10', 'cxcr6', 'kiaa2012', 'sstr1', 'rnf26', 'ap2m1', 'phip', 'nlrp8', 'rad9b', 'prune1', 'c1orf21', 'hsf5', 'dstyk', 'lhfpl3', 'usp5', 'or9g1', 'chrnd', 'slamf7', 'rlf', 'tspan18', 'rapgef6', 'pcdhga12', 'ubxn8', 'ube3b', 'tab3', 'taf11l11', 'trpc4ap', 'ocel1', 'sbf2', 'med26', 'klrc3', 'actl7b', 'adcyap1r1', 'trip12', 'adam8', 'trpc4', 'jak2', 'gpd1', 'prop1', 'slc15a3', 'tnfrsf1b', 'rell2', 'ten1', 'dnase1l3', 'adcy10', 'nkiras2', 'znf823', 'kbtbd4', 'or6n2', 'pea15', 'zc3h10', 'pias1', 'myof', 'col18a1', 'nat9', 'mtfp1', 'mms19', 'ptn', 'cct8', 'scn4b', 'cmtm7', 'tnfsf8', 'spag4', 'gnat2', 'prss51', 'otof', 'ugt1a4', 'aim2', 'c4orf46', 'st8sia4', 'tonsl', 'trim5', 'zfyve26', 'cebpzos', 'cavin1', 'lmo7', 'smyd3', 'dapk1', 'psma8', 'il7', 'mindy3', 'mpp5', 'usp39', 'aste1', 'commd1', 'marveld3', 'tmem275', 'fam163b', 'tob1', 'slc27a1', 'tuba1b', 'atp1a2', 'klf18', 'eif3i', 'ppp1r9a', 'dntt', 'fbll1', 'mfap1', 'anos1', 'cdc14b', 'sgcz', 'tbxa2r', 'cox5b', 'cfap53', 'or51e1', 'gpr12', 'babam1', 'lingo1', 'tmem247', 'pdcd2l', 'cgas', 'eif2a', 'ust', 'eml6', 'armc12', 'abhd17b', 'znf501', 'tmcc3', 'tmem184b', 'rnf115', 'lsmem2', 'tas2r4', 'etaa1', 'nyap1', 'p2ry13', 'scaf4', 'nub1', 'psmd3', 'gatad2b', 'slc6a9', 'mief2', 'fsd1', 'gdpd5', 'cmtm2', 'hdgf', 'clcn1', 'cyba', 'unc119', 'slc12a5', 'dram2', 'edar', 'mdfi', 'ppp4r1', 'notch3', 'tada2a', 'txnl4a', 'magohb', 'ccdc186', 'lrch4', 'spart', 'gldn', 'gpr176', 'prom1', 'spin3', 'crygb', 'evc2', 'fbxo41', 'atp6v1g3', 'iffo1', 'axl', 'dusp14', 'itln2', 'dcaf16', 'mvp', 'fosb', 'dbh', 'atp5f1e', 'or6b3', 'or52w1', 'etv3', 'or10g8', 'gcgr', 'star', 'slc36a1', 'nmt2', 'llgl1', 'cwc25', 'avp', 'wac', 'zc3h6', 'meikin', 'mkln1', 'txndc2', 'tent5b', 'asxl2', 'elovl2', 'golga3', 'fam47e', 'ccdc57', 'abr', 'cga', 'lrrcc1', 'ikbip', 'sox5', 'fam76b', 'or6f1', 'spag16', 'hspa9', 'fndc3a', 'enosf1', 'msh4', 'znf621', 'fgfbp3', 'dipk1c', 'zar1', 'map2k4', 'ttc39c', 'kctd7', 'sprr5', 'rbm45', 'utp18', 'fgd2', 'chst11', 'or10a3', 'bub1b', 'ccdc71l', 'kank1', 'mocs3', 'pxdn', 'mtmr3', 'rai2', 'dct', 'upk3b', 'tnfsf13', 'smim17', 'pth', 'alcam', 'myl3', 'ttll12', 'muc1', 'nckap5', 'mccc2', 'ascc2', 'nbeal2', 'fam214a', 'c15orf65', 'catsperd', 'aagab', 'ervv-2', 'gcnt2', 'csrp2', 'spta1', 'adra1a', 'slc9a5', 'ubfd1', 'echdc2', 'amn', 'tigd1', 'themis2', 'six1', 'scarb2', 'tfap4', 'atn1', 'prim1', 'rad17', 'dmac2', 'tef', 'tymp', 'spc25', 'krt40', 'zik1', 'slc34a2', 'dusp28', 'slc1a6', 'cpxcr1', 'arhgap6', 'tlr9', 'eif4enif1', 'dnajc9', 'arl8b', 'znf428', 'ube2o', 'rfc1', 'prrx1', 'bnip5', 'tatdn3', 'gata3', 'tefm', 'tsr2', 'mslnl', 'htr2a', 'lcorl', 'garem2', 'six2', 'sft2d1', 'dyrk2', 'susd6', 'ppp1r2c', 'mettl5', 'blvra', 'traf1', 'smco4', 'rbm12', 'glud1', 'sirpa', 'ykt6', 'add1', 'ccdc102b', 'slc25a46', 'chd5', 'tas2r40', 'pcdhb10', 'uqcrhl', 'mas1', 'lancl1', 'zpbp2', 'mfsd1', 'paip2', 'pcdhgc3', 'rel', 'snx12', 'c1ql4', 'yipf6', 'dlst', 'ebag9', 'esx1', 'tuba1a', 'caskin1', 'tbc1d8b', 'aasdhppt', 'napepld', 'rhpn1', 'sac3d1', 'amdhd1', 'aurka', 'lmf2', 'apobec4', 'mgrn1', 'irf6', 'gapvd1', 'thap9', 'lrrc8b', 'c1qtnf7', 'sorcs3', 'slc41a2', 'usp10', 'rnf227', 'cebpa', 'abca4', 'fam9a', 'magt1', 'exosc9', 'c1orf35', 'ppp2r3a', 'mgam2', 'r3hcc1', 'or52i2', 'znf875', 'noc4l', 'zc3h4', 'c7orf31', 'zswim6', 'arhgap12', 'hnrnpk', 'pde3a', 'rexo2', 'amz2', 'cpne3', 'slc35g1', 'haus8', 'ric1', 'c17orf98', 'lrp12', 'krtap3-3', 'gpn2', 'chrna10', 'chic2', 'golt1a', 'ctsa', 'mcm2', 'ddx5', 'septin8', 'sphk2', 'setd7', 'orai1', 'piwil3', 'jund', 'tceanc', 'clcn3', 'cdh10', 'tmtc2', 'tyms', 'coro2b', 'scn2b', 'lix1', 'tpp2', 'nup42', 'mybl1', 'serpina9', 'trpc5os', 'zfp91', 'zim2', 'thap7', 'kcnk6', 'chmp3', 'ncoa1', 'kiaa0753', 'btbd8', 'rnf19b', 'psmf1', 'max', 'zic3', 'cyyr1', 'zbtb40', 'dnph1', 'rheb', 'mapre1', 'foxp3', 'tm4sf1', 'parn', 'epha3', 'psmg4', 'egr2', 'mepe', 'tmem106c', 'cntn5', 'prkd1', 'pcdhgb2', 'pithd1', 'ccdc167', 'zfp36l1', 'atox1', 'sh3bgrl', 'or1k1', 'c20orf27', 'sympk', 'card19', 'kcnab2', 'znf280b', 'tmem219', 'rab29', 'cript', 'eif3e', 'lpar6', 'glb1l2', 'zg16b', 'c12orf42', 'il36b', 'selenof', 'flnb', 'acsf2', 'dnah6', 'gpbp1', 'adamts5', 'dennd2d', 'ilk', 'ccdc96', 'cep112', 'rad54l2', 'eomes', 'ccdc30', 'evx2', 'znf292', 'fbxo44', 'st14', 'pomp', 'l3hypdh', 'xrcc5', 'usp17l1', 'or1s2', 'srp54', 'twist1', 'dlgap2', 'snx30', 'txndc5', 'tmem205', 'rptor', 'chmp1b', 'gabrg2', 'slc2a11', 'pgs1', 'acot9', 'slc25a4', 'ecpas', 'mpdu1', 'dmc1', 'nbeal1', 'flg2', 'slc25a16', 'calcrl', 'msc', 'e2f6', 'pnck', 'khk', 'trnt1', 'cela2b', 'st6galnac3', 'krtap6-1', 'stx11', 'aard', 'c11orf16', 'abcc3', 'zswim8', 'eif4e1b', 'cep120', 'hpcal1', 'prrx2', 'slc38a2', 'mthfd2', 'lpgat1', 'znf404', 'ubr4', 'chi3l2', 'twf2', 'gpr63', 'bhlha9', 'hhatl', 'dna2', 'pdzk1', 'gpr157', 'shld1', 'tceal8', 'rbmxl2', 'krt24', 'sdc4', 'usp6nl', 'ctu1', 'madcam1', 'pdzd4', 'psca', 'dact3', 'kcnh7', 'cct8l2', 'col9a3', 'tnxb', 'tbc1d31', 'clec6a', 'hoxd11', 'chst2', 'pcdha11', 'abcf1', 'slc38a10', 'rrnad1', 'nampt', 'rundc1', 'trim28', 'lif', 'edn3', 'wwc2', 's100a2', 'crlf3', 'fmo1', 'tfr2', 'tmem248', 'fchsd1', 'rcvrn', 'znf644', 'afm', 'utrn', 'cpn2', 'or4k2', 'spdya', 'smpd4', 'tpte2', 'scart1', 'tubd1', 'abcb10', 'defb134', 'rom1', 'vps37b', 'or10g2', 'lypd5', 'nebl', 'ddx60l', 'kiaa1671', 'senp1', 'chrnb1', 'ehbp1l1', 'hgsnat', 'tmem59l', 'prc1', 'adi1', 'cic', 'siva1', 'rhot1', 'or51a2', 'rpgrip1l', 'tcp10l', 'lgals3', 'pklr', 'ercc4', 'gucd1', 'klkb1', 'snx33', 'spryd3', 'hpf1', 'usp2', 'wars2', 'epb41', 'cdc16', 'tnfsf18', 'scfd2', 'scfd1', 'timm10', 'sav1', 'opa3', 'mdp1', 'kcnc3', 'rbm44', 'cd40', 'gpr37l1', 'prkar1b', 'mtmr4', 'gdf9', 'cfap43', 'kcnk13', 'hkdc1', 'or4k15', 'znf688', 'capn6', 'nipa2', 'nes', 'ngrn', 'ube2d1', 'cyb5d1', 'emilin2', 'adprhl1', 'hspa13', 'tlr2', 'igfbp3', 'e2f2', 'srcap', 'parp12', 'tshz1', 'trappc9', 'lcmt2', 'chchd4', 'grpel2', 'upp2', 'pth2r', 'rad1', 'perp', 'arfip2', 'parp10', 'rhpn2', 'apmap', 'smim14', 'gpsm3', 'chat', 'fzd1', 'bmper', 'morf4l1', 'asb11', 'tex36', 'cacna2d2', 'ubr5', 'olah', 'spidr', 'lmx1a', 'evi5l', 'abhd18', 'prkcg', 'pwwp2b', 'hcfc1', 'gsta2', 'rnf122', 'fam180b', 'il15', 'gpr3', 'prdm13', 'il5ra', 'cul2', 'lrrc7', 'mmp21', 'slc7a10', 'psph', 'prss16', 'krtap2-3', 'c20orf141', 'slc8a2', 'fbxo42', 'ndufb9', 'folr2', 'mlxip', 'mcrs1', 'rxra', 'spem3', 'syp', 'cpt2', 'arid3c', 'tbc1d5', 'tmprss11a', 'iqcf2', 'trim14', 'c1qtnf6', 'ube2d2', 'wdcp', 'col6a1', 'oser1', 'dusp1', 'tldc2', 'fscn3', 'gchfr', 'tmem30a', 'septin5', 'iscu', 'c1galt1c1', 'gpatch8', 'nt5c1a', 'mmachc', 'fes', 'mei4', 'ca14', 'c3orf56', 'tph1', 'wrap73', 'bsg', 'fbf1', 'tas2r7', 'znf627', 'fmr1', 'hps1', 'cdh9', 'higd1a', 'chrne', 'rad51c', 'pdgfrb', 'rad21', 'setd3', 'foxb1', 'adm5', 'stx2', 'cpeb1', 'krt6c', 'pramef11', 'tmem150a', 'arl14', 'tbc1d15', 'tmem100', 'lzts3', 'a4gnt', 'khdrbs3', 'akr1c8p', 'erich1', 'man2b1', 'tiprl', 'hdac11', 'psg7', 'pnliprp3', 'nop53', 'mcat', 'ppp1r1a', 'glipr2', 'amfr', 'mrap', 'epha4', 'adamts12', 'klf3', 'aaas', 'zdhhc16', 'sdc1', 'ccr10', 'or4c16', 'impdh2', 'cbx4', 'nup37', 'dnah7', 'ube3c', 'kif14', 'nrxn1', 'ano2', 'fermt1', 'grap2', 'drd1', 'yipf1', 'peli1', 'cemip2', 'rufy4', 'katnb1', 'hoxa7', 'id4', 'orc3', 'colgalt2', 'mcm3ap', 'irf2bp2', 'rab3gap1', 'tpm1', 'ttbk2', 'srsf9', 'arhgap39', 'm6pr', 'entpd2', 'znf414', 'lgr4', 'arid5a', 'snx19', 'gprc5a', 'rfx4', 'tex53', 'rai14', 'st8sia3', 'col8a2', 'nfkbiz', 'mki67', 'magel2', 'il1b', 'c3ar1', 'pcdh10', 'vps13d', 'nt5c1b', 'uqcc1', 'sox15', 'gpr55', 'stk11ip', 'gpc5', 'fam237a', 'ghr', 'adgre1', 'prima1', 'znf106', 'gstz1', 'ptpn7', 'ifrd1', 'galnt18', 'sptbn1', 'fbxw9', 'ttll8', 'trpv3', 'klb', 'tinag', 'smarcc2', 'aff3', 'zfx', 'cd22', 'p2rx7', 'tyrp1', 'fzd9', 'plekhd1', 'tmed10', 'tmem31', 'pi15', 'dgkb', 'cdca3', 'scnn1a', 'abhd4', 'c15orf39', 'afap1l2', 'crybb3', 'ccdc196', 'cyren', 'dusp10', 'fras1', 'raet1g', 'muc5b', 'cnnm3', 'cmtm8', 'ankzf1', 'ahr', 'lrp2', 'mettl4', 'akap11', 'nip7', 'ccl4l2', 'masp1', 'cyp4z1', 'kif4b', 'mia3', 'pacrg', 'ankrd13d', 'kif3b', 'sepsecs', 'tmem115', 'pcdha3', 'ifit5', 'rsad1', 'plac1', 'fastkd1', 'naaa', 'ogdh', 'etv2', 'il17a', 'tnfrsf21', 'kif1a', 'nsun5', 'grik4', 'pax1', 'trim2', 'scly', 'itgal', 'nsun7', 'fcrl2', 'spata31a7', 'snai2', 'dpagt1', 'fto', 'foxd2', 'shmt1', 'hmga1', 'gemin2', 'ago2', 'rrs1', 'rbm11', 'trem1', 'vtcn1', 'cfhr2', 'acp5', 'ccdc142', 'lonrf2', 'tcf7l2', 'prex2', 'zbtb12', 'tiam1', 'ccdc92', 'bcl2', 'utp4', 'slfnl1', 'snap29', 'ahcyl2', 'mmab', 'slc22a4', 'ccdc138', 'sfxn3', 'pla2g12a', 'ppp1r27', 'sez6l2', 'znf280d', 'or52a5', 'krt3', 'sgsm1', 'znf438', 'snx13', 'pydc1', 'rtn1', 'tmem269', 'cit', 'rgmb', 'c6orf136', 'chst10', 'hoxd1', 'nwd2', 'zbtb7b', 'rerg', 'tprn', 'trim25', 'myoc', 'bmt2', 'otop2', 'sphk1', 'lce2c', 'pcnx4', 'iqgap3', 'khsrp', 'steap4', 'krtap20-3', 'gpr68', 'ciart', 'rgcc', 'il18', 'pou2f3', 'oip5', 'tor1aip2', 'rbfox2', 'hps4', 'c1qtnf2', 'zc3h3', 'ncan', 'scamp3', 'dnase2b', 'ccdc185', 'sema5a', 'qrfp', 'runx3', 'cd82', 'tp53i3', 'nif3l1', 'agap2', 'clip3', 'get1', 'becn2', 'otc', 'cep152', 'sfrp5', 'slc35e4', 'bcl7b', 'ptgfr', 'u2af1l4', 'sp3', 'shc2', 'magi2', 'atoh1', 'arid5b', 'gna13', 'apip', 'trappc1', 'celsr2', 'tnip3', 'c11orf52', 'cpe', 'sp4', 'foxo4', 'tnmd', 'apobec3h', 'zbtb25', 'adamtsl3', 'ankrd30bl', 'pdk1', 'akt2', 'epas1', 'cd79b', 'col11a2', 'znf266', 'leprotl1', 'agpat3', 'pgap3', 'cdk16', 'rab4b', 'htra2', 'ryr3', 'g6pc3', 'il20', 'fam13a', 'pnrc1', 'ttll11', 'sebox', 'krtap3-2', 'pomgnt1', 'ano8', 'sec14l3', 'gls', 'nupr1', 'cacng8', 'ddx11', 'kcnf1', 'nxph1', 'pard6b', 'fndc4', 'stradb', 'nr2c2', 'rnf32', 'alk', 'cdh18', 'tor1b', 'samd4a', 'gbx1', 'ccdc88c', 'p4ha3', 'mapt', 'lemd3', 'uqcr11', 'slfn14', 'ifnl1', 'c4orf19', 'muc13', 'ctag2', 'tubg1', 'ptch2', 'prrg1', 'gnptab', 'tdrd12', 'dsc2', 'c18orf21', 'cd247', 'kif22', 'ulk4', 'or3a3', 'prss58', 'pacsin3', 'ergic2', 'sult1e1', 'or2m3', 'egfl8', 'fam114a1', 'nmnat2', 'qpct', 'cobll1', 'b3galnt1', 'tspan5', 'ets1', 'unc79', 'kcnt1', 'pcsk5', 'bcl3', 'gng14', 'lypd3', 'cybrd1', 'spout1', 'c19orf71', 'plcd3', 'nap1l3', 'dydc1', 'il17rb', 'tnfrsf14', 'xcl1', 'senp3', 'gnrhr', 'tmco1', 'rhebl1', 'olig3', 'zdhhc2', 'vmac', 'tmtc3', 'znf174', 'nqo1', 'kirrel1', 'cfap54', 'znf791', 'tgfbr2', 'atxn1', 'ankrd33', 'gle1', 'dexi', 'fam160b1', 'pdzrn4', 'mreg', 'cmtr1', 'cyp4f11', 'trim35', 'inava', 'diaph3', 'pcif1', 'crb2', 'mmp3', 'gsk3a', 'banf1', 'nudt3', 'ece1', 'ankfn1', 'sox18', 'ccrl2', 'vnn2', 'atxn7l1', 'pid1', 'dhx40', 'vav3', 'klhl23', 'rab5c', 'vps50', 'naglu', 'cyp4f22', 'znf37a', 'mageb17', 'cldn11', 'tssk4', 'selp', 'ccdc183', 'kcnh1', 'papss2', 'actbl2', 'ndufa1', 'ube2a', 'myct1', 'ptrh1', 'cep192', 'gcnt4', 'tpbgl', 'cyp7a1', 'fndc1', 'pcyox1', 'slc23a3', 'tpgs1', 'miga1', 'usp26', 'or4f15', 'nexmif', 'aprt', 'ino80d', 'stt3b', 'rap1gap', 'hmx2', 'spatc1l', 'map4k5', 'gfer', 'nmnat1', 'lancl2', 'znf213', 'cant1', 'phlda3', 'ltbr', 'gbgt1', 'cat', 'ston2', 'znf71', 'chsy3', 'tmem239', 'arhgdig', 'nrip3', 'rbm20', 'rac2', 'lhcgr', 'plaat1', 'narf', 'c22orf42', 'eftud2', 'pik3c2a', 'ahctf1', 'glrx5', 'micall1', 'snd1', 'mastl', 'pcyt2', 'kirrel2', 'apcdd1', 'mbtps1', 'mmp24os', 'clec18c', 'ifna1', 'psmb11', 'slc2a3', 'togaram1', 'col5a3', 'hspa4', 'svep1', 'dll3', 'cdh26', 'nme1', 'naa25', 'lrrc27', 'atp4a', 'bex5', 'pdgfa', 'rhov', 'epha10', 'lratd2', 'ndufb10', 'rev1', 'cxcr4', 'papolg', 'plscr4', 'faxdc2', 'spry4', 'dld', 'adam32', 'actn2', 'g0s2', 'dock5', 'stpg3', 'mcm3', 'wnt3', 'aipl1', 'mfrp', 'ncr1', 'pnliprp1', 'mln', 'prps2', 'minar1', 'calr3', 'rrbp1', 'spata7', 'fbxo16', 'mkrn2os', 'prokr1', 'sema6a', 'chst13', 'socs1', 'gfod2', 'casp5', 'tsc1', 'znf101', 'trank1', 'casc3', 'clca2', 'unc13d', 'ankrd18b', 'cela2a', 'katnal1', 'tmem255b', 'vkorc1', 'ccdc116', 'gprc5c', 'sstr3', 'spdye5', 'zcchc12', 'nme2', 'or7c1', 'kcna1', 'usp17l15', 'oxct2', 'fgl2', 'vwa3b', 'trip13', 'fuca2', 'kcnn4', 'gzmm', 'snrnp200', 'uvssa', 'bhlhe40', 'wdhd1', 'nsg1', 'mroh1', 'treh', 'cndp2', 'pip5kl1', 'mrgprx2', 'csk', 'syn1', 'homer1', 'vti1b', 'cgnl1', 'hus1', 'znf319', 'aspdh', 'ythdf3', 'arf5', 'ncapd3', 'polr3a', 'mipep', 'cdk5rap3', 'hs3st4', 'tnrc6b', 'prox2', 'pnma6f', 'fgf10', 'kpnb1', 'bhlhe41', 'brcc3', 'tnfsf10', 'lgals4', 'c5orf49', 'kcnk10', 'znf222', 'eif2b4', 'fam3d', 'zbed9', 'b3gat2', 'tenm4', 'lrp6', 'pinlyp', 'bclaf3', 'krtap25-1', 'faap24', 'golm1', 'cd7', 'ppargc1b', 'znf727', 'znf585b', 'mcoln2', 'anxa6', 'zc3h12c', 'sla', 'tmem119', 'cdhr3', 'mrc1', 'lrriq3', 'dmap1', 'rxrg', 'gpha2', 'slc28a1', 'cab39', 'znf793', 'ndrg3', 'znf251', 'scube3', 'vdac3', 'tnrc18', 'znf134', 'st13', 'tsc22d1', 'enox1', 'c16orf72', 'znf439', 'rbp5', 'clpsl2', 'ankdd1a', 'lrrc37b', 'il17b', 'tfeb', 'tarbp2', 'trpm3', 'cnot3', 'bcan', 'pzp', 'six4', 'saa4', 'tbc1d17', 'aga', 'aldh3b1', 'znf469', 'srm', 'plch2', 'sec61a1', 'btn3a3', 'has2', 'krtap13-3', 'nucb1', 'mboat4', 'gata1', 'tmem88b', 'odaph', 'map3k9', 'rtn2', 'qprt', 'g6pc2', 'trip10', 'tmem266', 'plekhn1', 'angptl8', 'tceal1', 'lrig3', 'kpna7', 'znf831', 'pde7b', 'ocrl', 'gstt4', 'ccdc174', 'ndufs1', 'nceh1', 'igf1', 'ovgp1', 'duxb', 'bri3bp', 'rpe65', 'plekhh2', 'lrriq1', 'galnt13', 'ccdc148', 'rftn1', 'tepsin', 'vwa3a', 'ncoa2', 'aplp2', 'timm9', 'npipb2', 'trim68', 'aldh1l2', 'hspa1b', 'or8b8', 'chek1', 'fcamr', 'stoml3', 'cep76', 'kdr', 'daw1', 'thpo', 'aggf1', 'creld1', 'ticam2', 'pwwp3a', 'ctdspl', 'tpx2', 'c20orf85', 'was', 'or6k3', 'scg2', 'map3k4', 'myo16', 'rnf138', 'psma4', 'ccl26', 'sppl3', 'chrd', 'znf518b', 'cntd1', 'maml1', 'crbn', 'crym', 'nr3c1', 'or4k5', 'slc8a1', 'lce1d', 'ada2', 'pitpnm1', 'sertad1', 'fbln5', 'jph3', 'or56a5', 'ccar2', 'fam166c', 'fbxl3', 'vps45', 'mlf1', 'acer1', 'ajuba', 'krtap9-9', 'znf419', 'osbpl9', 'lman1l', 'ifitm3', 'osm', 'ampd3', 'pdpn', 'nphs2', 'cmklr1', 'cerk', 'znf703', 'slc25a51', 'muc5ac', 'epm2aip1', 'hes2', 'pax8', 'irf5', 'arl8a', 'cndp1', 'cntln', 'ptcd1', 'znf124', 'pcdhb12', 'ap3b1', 'cdkl3', 'adrm1', 'krtap4-16', 'sugp2', 'srsf3', 'dpy19l1', 'ido2', 'tjp3', 'liph', 'insig2', 'cep170', 'pdlim4', 'armh2', 'jrkl', 'sptb', 'tmem209', 'bcl2l15', 'ppp1r35', 'nppb', 'znf841', 'luzp2', 'tnks', 'cox11', 'ntng2', 'plcb4', 'myrfl', 'cdk2ap2', 'upk2', 'ntn3', 'tmem213', 'ap5s1', 'herc2', 'mageb16', 'ndufaf7', 'metap2', 'itfg1', 'commd7', 'cd1b', 'cldnd1', 'il10', 'cxcl2', 'zmat5', 'acbd4', 'tgfb1', 'gskip', 'lactb2', 'krtap4-11', 'nol10', 'dnajc24', 'mex3c', 'srd5a1', 'wnt7b', 'pgghg', 'thsd7a', 'bbs5', 'apbb1ip', 'arhgap30', 'acot11', 'fam43a', 'ube2t', 'b3gnt5', 'serpind1', 'gcg', 'slc1a4', 'alkbh6', 'trim54', 'osbp2', 'tulp2', 'lamc3', 'clic3', 'mogat2', 'pcbp2', 'chmp7', 'tssk1b', 'c16orf46', 'xrn1', 'znf500', 'prickle2', 'ubap2l', 'arnt2', 'magi1', 'gnaq', 'fbp2', 'elf5', 'ints6l', 'rfx1', 'syt2', 'edem1', 'larp6', 'ptpn18', 'atg4a', 'stac3', 'pax5', 'st7l', 'kcnip3', 'atp5mc3', 'six5', 'echs1', 'dhh', 'serpina7', 'n4bp2l1', 'bivm', 'fn1', 'sec23a', 'oxsr1', 'zkscan4', 'tomm5', 'med17', 'cops4', 'angpt4', 'nid1', 'tinf2', 'med11', 's1pr5', 'thrap3', 'csn2', 'rnls', 'gpc4', 'rims4', 'fbxo5', 'selplg', 'txndc17', 'acy1', 'pdrg1', 'hic2', 'prkab1', 'znf8', 'cd48', 'ppp2r2b', 'ttl', 'fbxl6', 'mlst8', 'trim38', 'or6p1', 'znf839', 'dll4', 'c6orf62', 'iqcg', 'ube2l6', 'znf614', 'lgr6', 'btbd9', 'aldh1a1', 'hsd3b7', 'ptger3', 'dtd1', 'rc3h2', 'tmprss3', 'ddx6', 'gpr182', 'acsm1', 'fzd6', 'kcnu1', 'stk38', 'or4d6', 'or10g6', 'ubn1', 'fgf13', 'nudt17', 'or2m2', 'snrpf', 'c6', 'sppl2c', 'mindy4b', 'dync2h1', 'dxo', 'morc3', 'cryz', 'or2t4', 'tmem131l', 'ca4', 'nkx1-1', 'grxcr2', 'znf555', 'cdkl5', 'ret', 'chrng', 'gen1', 'ccdc88b', 'csrnp2', 'nxn', 'nxpe1', 'eif3l', 'amotl2', 'sf3b6', 'bud31', 'rxfp1', 'skida1', 'paxbp1', 'myoz2', 'tslp', 'rtp4', 'gfap', 'ppfia4', 'tcf19', 'pym1', 'mep1b', 'fam205a', 'ifna14', 'ulbp2', 'aftph', 'ammecr1l', 'hsf2bp', 'bsn', 'mip', 'calhm4', 'c1ql3', 'hs3st3b1', 'trpt1', 'pfn1', 'pgls', 'cdc27', 'calm2', 'ptdss2', 'znf215', 'wdr90', 'galnt9', 'tnik', 'kcnk18', 'dhx38', 'gfi1', 'rars2', 'tfam', 'hjurp', 'hrc', 'calcr', 'mical2', 'zic5', 'abcg4', 'vsx1', 'psmc3ip', 'dmrtb1', 'ttc29', 'bcas3', 'mt-cyb', 'mlh1', 'rpp38', 'c5ar2', 'blid', 'ncoa5', 'rbmxl3', 'bcl2l12', 'msi1', 'mageh1', 'snx21', 'c12orf4', 'rab34', 'brinp1', 'pla2g15', 'polb', 'hunk', 'fam110b', 'cc2d1b', 'arl5b', 'setdb2', 'clec14a', 'abhd12b', 'ik', 'or4x1', 'mixl1', 'dnajc1', 'pla2g1b', 'guk1', 'hyal3', 'cep78', 'mt1hl1', 'zfp90', 'cdhr4', 'cdkn2d', 'pde4b', 'hexim1', 'pdgfd', 'baz2b', 'wdr1', 'znf697', 'cdsn', 'aff2', 'spcs1', 'atrnl1', 'crmp1', 'akap6', 'abhd3', 'snrnp27', 'nr1i2', 'dtx2', 'wdr88', 'c2cd4d', 'rsph14', 'ly75', 'f2r', 'inip', 'cdk12', 'cpsf7', 'hmx3', 'cdc37', 'trmt12', 'ndufa10', 'gpm6b', 'spcs3', 'defa5', 'bsx', 'sarm1', 'dtx3l', 'lrrc15', 'maf', 'or6a2', 'tnk1', 'apbb2', 'sec63', 'prdm15', 'rbm24', 'odr4', 'map3k6', 'ciao2b', 'msra', 'gpr89b', 'dgkq', 'ntn1', 'slamf1', 'gtf3a', 'xkr8', 'nbea', 'crtc1', 'pars2', 'dpp3', 'pgm5', 'mchr2', 'epb42', 'ca6', 'tnfrsf18', 'atp1a1', 'c1orf189', 'morc2', 'or8k5', 'smim3', 'osbpl5', 'cenpw', 'dlx5', 'c16orf71', 'lcat', 'slc16a14', 'tnfrsf10d', 'tnfaip1', 'slc4a10', 'cacnb1', 'lpar3', 'wtip', 'nudt16', 'trio', 'pnrc2', 'tln1', 'trappc10', 'ankrd30a', 'epgn', 'lyst', 'clec4e', 'il33', 'cttnbp2nl', 'sccpdh', 'usp20', 'znf728', 'steap1', 'map7d1', 'neurod4', 'cblb', 'brdt', 'capn15', 'mrgprx3', 'psmc4', 'ash2l', 'mpig6b', 'sybu', 'ppt1', 'taf9', 'mdm1', 'nlrp3', 'nme9', 'zswim5', 'slc7a8', 'cntrl', 'dkkl1', 'znf440', 'arfgap3', 'sema6c', 'exph5', 'tmem184a', 'tdp2', 'p3h3', 'pus1', 'sost', 'dcaf8', 'c17orf67', 'or2z1', 'sv2a', 'a1cf', 'cdk13', 'nr1h2', 'vn1r2', 'tmem250', 'cr2', 'ush2a', 'lrrc14b', 'taf11', 'bptf', 'adprh', 'smurf1', 'enpp5', 'lamc1', 'p3r3urf', 'znf879', 'cnot4', 'adam7', 'cntnap3b', 'tsr3', 'dhrs7b', 'mbtd1', 'cd200r1', 'idh3a', 'ldb1', 'kif18b', 'errfi1', 'cyfip1', 'tomm6', 'c9orf43', 'rgr', 'dnajc4', 'or4k13', 'nubpl', 'tacr1', 'akip1', 'fam81a', 'stap1', 'or52j3', 'klf12', 'smim33', 'fam185a', 'zkscan1', 'gabrq', 'znf550', 'ppp1r11', 'upf1', 'jpt2', 'ly6k', 'hspb7', 'acaa2', 'ddhd2', 'snx3', 'sorbs1', 'bbof1', 'srgap1', 'zbtb22', 'pld1', 'nlrc3', 'galr3', 'krtap4-3', 'usp35', 'tbc1d13', 'cep95', 'ggnbp2', 'cyc1', 'tmco3', 'il1r1', 'xkr3', 'adpgk', 'twf1', 'rpf1', 'bccip', 'tmem176b', 'plaat2', 'tcfl5', 'spata1', 'chchd6', 'ddx21', 'frg2', 'hdhd2', 'ankrd28', 'efemp1', 'styxl1', 'relt', 'kcnq1', 'mdm2', 'acta2', 'traf3ip3', 'sh3yl1', 'slc22a2', 'nipsnap1', 'tchh', 'slc22a31', 'c1orf198', 'krtap12-4', 'cxcl8', 'frmpd1', 'cd70', 'slc5a11', 'marcks', 'map4k3', 'wwtr1', 'znf577', 'slco6a1', 'nox4', 'ulbp1', 'setx', 'nr2f1', 'nelfcd', 'uqcrb', 'smim2', 'cd207', 'theg', 'phf24', 'tm4sf20', 'camk4', 'kif15', 'aip', 'crebl2', 'ccdc157', 'mt-nd2', 'kbtbd12', 'atp11a', 'slc17a8', 'gsdmc', 'golim4', 'bmp15', 'phlda2', 'or5m11', 'dcdc2c', 'acp2', 'cldn19', 'rab11fip5', 'lrit1', 'cetp', 'zbtb7a', 'emp3', 'gpr83', 'c1orf105', 'mpp4', 'mpo', 'psors1c2', 'gpx8', 'bcap31', 'syt1', 'c2orf66', 'rnaseh1', 'mettl16', 'jarid2', 'trmt10b', 'ranbp10', 'spaca4', 'extl1', 'tgm2', 'or5b21', 'dcaf4l2', 'polh', 'eif1ad', 'or4d5', 'itgb2', 'kiaa1328', 'znf804b', 'fam102a', 'cops8', 'sfswap', 'hibch', 'zp2', 'zc3h12b', 'slitrk2', 'pla2g12b', 'trpc5', 'sphkap', 'espn', 'hvcn1', 'prr14l', 'ehbp1', 'bcl10', 'tlr5', 'znf618', 'vps18', 'nudt9', 'ppp2r2a', 'coprs', 'ifit1', 'izumo4', 'rai1', 'itga9', 'pbld', 'usp21', 'mamdc2', 'casz1', 'asip', 'nefh', 'agtpbp1', 'arel1', 'tmem125', 'fkbp1b', 'grin3b', 'sirt6', 'erlin1', 'foxf2', 'pvrig', 'rbpms', 'ca10', 'gdpd1', 'actr10', 'anxa2r', 'dnah3', 'eef1aknmt', 'ttc24', 'cpa5', 'dner', 'rnase1', 'phkg2', 'apol1', 'ofd1', 'il18rap', 'il1f10', 'cep70', 'abt1', 'ugt1a1', 'lsm5', 'serpinb7', 'faf1', 'slc39a5', 'ggact', 'vsig2', 'sco1', 'arhgef33', 'vsig10', 'hipk2', 'parp14', 'ttc28', 'kdm2a', 'clec2d', 'trim15', 'rgs12', 'nsmce4a', 'psmd5', 'tra2a', 'bicra', 'fev', 'ttc30b', 'lrrc19', 'mynn', 'mindy2', 'ltc4s', 'pik3cd', 'clec17a', 'kif26b', 'tpsg1', 'znf221', 'c7orf26', 'gtf3c6', 'cast', 'efr3b', 'pnn', 'etv5', 'rcl1', 'pth1r', 'c2orf69', 'znf426', 'tmem164', 'c4orf45', 'tuba4b', 'klrd1', 'dsc1', 'dusp16', 'lrrc37a3', 'arhgef9', 'man1c1', 'krtdap', 'cldn10', 'gtf2h5', 'wfdc2', 'ppard', 'niban3', 'rere', 'mid2', 'upk1b', 'ltf', 'ncaph2', 'insm1', 'mcub', 'gpr101', 'fam107b', 'kcna4', 'stk3', 'bend6', 'rab3d', 'hps3', 'ski', 'zc3h14', 'rasef', 'slc35f6', 'itga1', 'depdc1', 'ccdc115', 'rpusd3', 'fcrl1', 'oas2', 'znf519', 'dzip3', 'rhou', 'vps35l', 'camk1g', 'c3orf85', 'csf1r', 'usp47', 'ccl14', 'drp2', 'anks1a', 'slc35e3', 'cenpn', 's100a3', 'ar', 'c11orf65', 'gpx3', 'nfkbid', 'slc25a1', 'col10a1', 'or51t1', 'nxt2', 'rrp12', 'aebp1', 'xab2', 'scarf1', 'slc18a1', 'esrra', 'larp4', 'dlx6', 'lin28b', 'rogdi', 'pitrm1', 'kdelr2', 'st7', 'gramd1a', 'hsdl1', 'ergic3', 'ncoa3', 'tagap', 'nrtn', 'sipa1', 'nostrin', 'klrf1', 'lin52', 'ccnb2', 'ctrc', 'acvr1b', 'prdx4', 'pcdhgc5', 'kif2a', 'pced1a', 'nlgn1', 'foxd4l5', 'tex54', 'krt5', 'il10ra', 'crnkl1', 'hilpda', 'btk', 'boll', 'nacc2', 'camkk2', 'dhrs13', 'dcaf12l1', 'acot12', 'steap2', 'dhrs7', 'selenok', 'chmp2b', 'atp2b4', 'clasrp', 'tcp11', 'rnf31', 'st3gal3', 'tbc1d9b', 'cpb1', 'papln', 'znf391', 'tvp23a', 'slc7a7', 'znf830', 'naa40', 'esf1', 'hoxd12', 'coro7', 'prmt3', 'crh', 'lcmt1', 'dach2', 'hhex', 'kcnma1', 'whrn', 'lrrc74b', 'klf1', 'tm4sf19', 'hacd1', 'lrrtm4', 'kiaa1614', 'itga8', 'mob2', 'znf267', 'nenf', 'fam50b', 'lgr5', 'cacna2d4', 'pdha2', 'lrit3', 'lrfn2', 'polrmt', 'caap1', 'ncaph', 'lilrb5', 'smarcb1', 'tcp11l1', 'prkca', 'ptpn5', 'c12orf65', 'arhgef2', 'scgb1d2', 'arntl2', 'ctdp1', 'arhgef19', 'c2cd4c', 'kti12', 'edil3', 'ints6', 'rsl24d1', 'hesx1', 'asic1', 'phf20l1', 'lrfn1', 'hsd17b8', 'usp27x', 'or2ag1', 'clecl1', 'asic4', 'agrn', 'ttc39a', 'eif4ebp1', 'znrd2', 'fbl', 'plp1', 'anapc2', 'tm9sf1', 'slc25a53', 'hspb1', 'gon4l', 'arhgap27', 'mast1', 'fam114a2', 'il12rb2', 'trem2', 'tmprss7', 'ttc7b', 'frmd7', 'pnma8c', 'rbx1', 'col3a1', 'sec13', 'fdps', 'camsap3', 'pak2', 'ldlrad1', 'slc7a11', 'anln', 'ess2', 'col26a1', 'lhx9', 'znf513', 'rhobtb3', 'retsat', 'rbm17', 'sdr42e1', 'dlgap1', 'tmie', 'slc45a1', 'thsd7b', 'wnt5b', 'psd3', 'cep250', 'ildr2', 'dmp1', 'vwf', 'dnajb2', 'tsc22d4', 'il12rb1', 'ube2f', 'slc25a23', 'naa15', 'snx29', 'nfib', 'uvrag', 'plin1', 'egln2', 'dtd2', 'rusc2', 'trappc3l', 'ptger1', 'arrb1', 'entpd3', 'cyp2s1', 'pak3', 'phf19', 'atxn2', 'slc2a14', 'shcbp1l', 'crlf1', 'shtn1', 'dtwd2', 'milr1', 'adora3', 'rarres2', 'tbx21', 'ecrg4', 'adamts7', 'fbxo46', 'smc1a', 'nutm1', 'rundc3b', 'nup210', 'prpf8', 'mfsd2a', 'gtsf1', 'smad1', 'bfar', 'prpf3', 'sipa1l2', 'trim52', 'abca6', 'rgl1', 'lyrm1', 'aoc1', 'hsf2', 'metrn', 'epb41l5', 'apoc3', 'tmem42', 'tp53i11', 'pglyrp4', 'cd84', 'gabarap', 'avil', 'muc4', 'spred2', 'ccr3', 'rabl3', 'afap1l1', 'slc26a3', 'ano3', 'dlg4', 'atg5', 'nepro', 'ndrg2', 'c2cd2', 'kmt2b', 'npc1l1', 'cldn34', 'trpa1', 'tmem107', 'tmem177', 'lmnb2', 'or51b6', 'cyb561a3', 'hnrnph3', 'insyn1', 'mesp1', 'nptx2', 'stpg1', 'fbxl13', 'retnlb', 'hsd11b1', 'scara5', 'tmem192', 'lrrc38', 'msh5', 'shisal2a', 'jpt1', 'nrdc', 'hpgd', 'taar6', 'amy2a', 'rit1', 'lsm2', 'fcrl6', 'sgpp1', 'atg4d', 'npffr1', 'cep83', 'ccdc159', 'or10ad1', 'mpl', 'micu2', 'rnf175', 'plekhh1', 'bcat1', 'l3mbtl2', 'agbl1', 'pola1', 'nemp2', 'or1l6', 'lrrc14', 'mocs1', 'eef1akmt3', 'rab9b', 'pla2g2e', 'ap5z1', 'sertm2', 'hip1r', 'usp45', 'ccdc189', 'loxl3', 'taf6l', 'gap43', 'golga8o', 'mtrr', 'zdhhc23', 'dcaf10', 's100a12', 'slc10a1', 'gid8', 'wbp4', 'pld5', 'adgrl4', 'slc30a9', 'ilrun', 'camk2g', 'hcst', 'btrc', 'apobec2', 'tars2', 'mtfr1l', 'smim32', 'myef2', 'oxgr1', 'prss12', 'lamp3', 'polr3k', 'rnf216', 'prkn', 'col20a1', 'zdhhc15', 'tmc6', 'or2ap1', 'nps', 'cct4', 'scd5', 'slc9a9', 'leprot', 'map6d1', 'afdn', 'abhd6', 'fez1', 'snrpa', 'mcf2', 'sox1', 'prkar1a', 'spc24', 'aldh1b1', 'exoc1', 'atp6v1h', 'ankrd60', 'adgrg1', 'n4bp3', 'tdrp', 'oxa1l', 'tcn1', 'pdhx', 'nudt8', 'gatd1', 'ercc6', 'znf705a', 'golga8b', 'eno1', 'satb2', 'lpar5', 'wdr75', 'ms4a15', 'tmtc1', 'stac', 'abo', 'coasy', 'prb3', 'znf608', 'lgals2', 'pla2g7', 'sec24d', 'ppic', 'dysf', 'c5orf22', 'ankrd26', 'kcnh3', 'mlnr', 'adamts13', 'sall2', 'foxj2', 'timm29', 'card9', 'gpn1', 'klhdc1', 'smg8', 'nudt18', 'c6orf15', 'fbxl17', 'manea', 'lrrc74a', 'ngf', 'myd88', 'trerf1', 'aldh7a1', 'vta1', 'depp1', 'cdc42ep2', 'lrrc47', 'ptgir', 'mast2', 'qtrt1', 'atp13a1', 'znf880', 'acot8', 'agrp', 'cldn3', 'plaat3', 'slc12a1', 'rnf7', 'scp2d1', 'or5d16', 'adcy3', 'znf341', 'neil3', 'rsrc1', 'gjd3', 'or5bs1p', 'rtn4r', 'wdr49', 'ptpn2', 'pcp2', 'sar1b', 'ift57', 'eif4h', 'uhmk1', 'ccno', 'ncs1', 'cpa6', 'mzb1', 'ppp3ca', 'pou5f1b', 'shld2', 'slc9b1', 'ccsap', 'scn11a', 'lipt2', 'hk2', 'cgref1', 'best3', 'bpifa2', 'glmp', 'gins1', 'gckr', 'gigyf2', 'dnajc25', 'psme2', 'erc2', 'pfn3', 'mcmdc2', 'srcin1', 'ssbp3', 'dnah9', 'adgrb2', 'treml2', 'c8orf58', 'fam89a', 'chst6', 'hdac9', 'htra4', 'nr1d2', 'polr2h', 'tubgcp5', 'pdc', 'faim', 'dennd4b', 'sncaip', 'syce1', 'fam219b', 'gdf5', 'espnl', 'ctss', 'fkbp7', 'lrrc6', 'tfap2c', 'stat5b', 'rprm', 'barhl1', 'reln', 'lmbr1l', 'tsacc', 'nectin2', 'apobec3c', 'cry2', 'ugt2b28', 'vamp8', 'cyb5r4', 'smim12', 'mutyh', 'syne2', 'zscan20', 'or6m1', 'pkmyt1', 'sufu', 'jaml', 'arl16', 'slc13a2', 'sobp', 'znf66', 'selenom', 'c1orf43', 'ctc1', 'znf484', 'znf263', 'exoc3l1', 'ceacam1', 'il12b', 'pkd1l1', 'cuzd1', 'lrrfip1', 'clca4', 'rpa4', 'casd1', 'taar2', 'ube2e2', 'nphs1', 'otud3', 'btnl2', 'wnt11', 'znf442', 'znf596', 'uspl1', 'kaag1', 'snph', 'ccdc85a', 'adamts8', 'kif19', 'tmem183a', 'ebf4', 'ccdc192', 'lman1', 'sgo1', 'glo1', 'serinc4', 'b4galnt2', 'bicc1', 'tmprss11b', 'wdr35', 'mrc2', 'maff', 'ece2', 'synpo2', 'rb1cc1', 'dgkh', 'hook2', 'slc22a24', 'ankrd30b', 'crispld1', 'topaz1', 'cables2', 'fam210a', 'lce3d', 'rspo2', 'pde8b', 'shisa8', 'mtnr1a', 'fggy', 'slc7a14', 'zbtb38', 'znf436', 'znf628', 'crispld2', 'tmem37', 'hap1', 'serhl2', 'pfn4', 'ubp1', 'angptl6', 'pkdcc', 'tbc1d9', 'dctd', 'slc12a7', 'pigu', 'bnipl', 'st8sia2', 'fam111b', 'rln2', 'dnal1', 'scai', 'pkp4', 'mbtps2', 'hgh1', 'disp2', 'tmem265', 'dcbld1', 'srsf10', 'kif24', 'spty2d1os', 'rabggta', 'kcnj11', 'nfe2l1', 'sgo2', 'amotl1', 'fkbp14', 'kiz', 'gnb5', 'flrt2', 'ccl7', 'st3gal2', 'mettl27', 'clk1', 'pgm1', 'gas2', 'eml2', 'mex3b', 'golga6l6', 'trpv6', 'eno2', 'zfc3h1', 'syt17', 'ism1', 'lrp5', 'ppfia3', 'anxa1', 'mettl8', 'slc26a11', 'adhfe1', 'c10orf90', 'itpripl1', 'rnf130', 'xpnpep3', 'srprb', 'kcnq3', 'plaat5', 'ypel5', 'mroh7', 'zc3h18', 'gaa', 'c3orf22', 'nipa1', 'eppin', 'impg2', 'cpsf3', 'shkbp1', 'slc35d2', 'ing5', 'wwc3', 'gnao1', 'cd1c', 'zscan23', 'tut4', 'ptpn4', 'fus', 'rwdd1', 'igsf22', 'trappc2l', 'c4orf50', 'pxmp4', 'msrb3', 'tbl3', 'snx7', 'slc6a19', 'hey1', 'garem1', 'irf1', 'epyc', 'or10w1', 'sowahd', 'ubqlnl', 'mettl11b', 'ssbp1', 'usp8', 'npl', 'c11orf49', 'prkaa1', 'terf2', 'lmbrd1', 'adgrf5', 'dppa2', 'tmem186', 'gucy1a1', 'glp1r', 'ercc6l', 'mcts1', 'klk13', 'eif3m', 'tcea3', 'zbtb2', 'krtap27-1', 'nat14', 'phf20', 'pepd', 'alkbh8', 'ufm1', 'cd163l1', 'kctd12', 'crhr1', 'lmbrd2', 'slitrk5', 'cabs1', 'ndufaf5', 'arsa', 'rnf170', 'ctsg', 'fancl', 'dcc', 'tmem47', 'gria2', 'slc52a3', 'arhgap18', 'hoxd3', 'tnfrsf19', 'tubg2', 'zscan30', 'col6a3', 'tmppe', 'cul4a', 'mitf', 'xcr1', 'rela', 'ccdc27', 's1pr4', 'gca', 'spatc1', 'trpm6', 'ifi44', 'smpd2', 'cwf19l2', 'slc47a1', 'ccdc85b', 'eid2', 'dmpk', 'gage1', 'ndufb2', 'pikfyve', 'gpr25', 'dusp7', 'pcdha7', 'crip3', 'znf773', 'atp10d', 'fem1b', 'tbx6', 'c16orf92', 'slc25a17', 'plscr1', 'tbc1d30', 'adamts16', 'fcer2', 'slc30a3', 'snn', 'exoc1l', 'tprg1l', 'stc1', 'dele1', 'mospd2', 'jakmip2', 'pdgfrl', 'sirpb2', 'them5', 'brinp3', 'ctla4', 'ctnnb1', 'acsl4', 'pex10', 'prr12', 'swt1', 'ccdc8', 'dnaaf3', 'pdk3', 'wipi1', 'plppr2', 'habp2', 'fxyd6', 'plcb1', 'sprr2g', 'stx12', 'trnau1ap', 'flna', 'dop1b', 'yrdc', 'hif1a', 'zfp30', 'lingo3', 'znf575', 'spaca6', 'cenpk', 'magoh', 'srebf2', 'vstm2l', 'wdr36', 'aig1', 'vrtn', 'xrcc3', 'znf718', 'prr9', 'trpc6', 'ceacam16', 'znf763', 'rtl10', 'pdzd3', 'gml', 'mfsd5', 'ccdc51', 'thsd4', 'hmcn2', 'gart', 'zcchc8', 'nono', 'kcnip2', 'plet1', 'rnf165', 'pcbp3', 'far2', 'aven', 'tgm7', 'znf497', 'msto1', 'ghsr', 'chpt1', 'fgf8', 'cavin4', 'nap1l2', 'ncbp2', 'ap4s1', 'aqp7', 'atic', 'snrnp25', 'slc6a2', 'speg', 'thbs3', 'galr1', 'pdxp', 'tdrd1', 'bpgm', 'pcsk1', 'ahdc1', 'znhit6', 'strip1', 'ascc3', 'dnm1l', 'polr1d', 'kif2b', 'tyk2', 'tshz3', 'apoo', 'c9orf72', 'ireb2', 'gask1b', 'col13a1', 'myo1c', 'smim10l2b', 'clasp1', 'fbln1', 'wt1', 'rfpl1', 'snap47', 'plxna1', 'golph3', 'hs3st5', 'zcchc2', 'oscar', 'reg3a', 'ang', 'pcdhb5', 'psmb3', 'fam181a', 'tmem190', 'cckar', 'uri1', 'tincr', 'tmigd1', 'ssx5', 'chmp2a', 'dpcd', 'galnt15', 'plcxd1', 'kat8', 'nfatc1', 'or10t2', 'pik3r3', 'kiaa1143', 'foxa3', 'c12orf66', 'ctnnd1', 'cyp1b1', 'kif20a', 'dpm3', 'tshz2', 'slc39a14', 'ints13', 'reep1', 'spam1', 'fam221b', 'rprd2', 'eif5a2', 'cfap52', 'dynlt3', 'ccng1', 'hspbap1', 'trim39', 'ttc23l', 'aoc2', 'dtl', 'sox30', 'mical1', 'grin2d', 'rgs13', 'acta1', 'fnip1', 'mgat4b', 'bmp5', 'dmac1', 'nlrp10', 'trafd1', 'tal1', 'abl2', 'arg2', 'srsf4', 'chmp1a', 'mdn1', 'cbl', 'cox20', 'ebp', 'eras', 'tpd52l3', 'cdhr2', 'prg4', 'tmeff1', 'gstp1', 'metrnl', 'zfp36', 'mrfap1l1', 'psg9', 'mucl1', 'frk', 'actn4', 'slc25a27', 'gngt2', 'klf2', 'cfap74', 'hes1', 'fkrp', 'dad1', 'snrk', 'mbd3l2b', 'tle4', 'emc4', 'enkur', 'apobec1', 'pbov1', 'ablim2', 'acsl5', 'ptpn23', 'c16orf95', 'ifit1b', 'mb21d2', 'mre11', 'mettl9', 'gdf3', 'ndufaf2', 'kmt2e', 'trim61', 'clic6', 'ugt2b17', 'elmo2', 'prkacb', 'traf2', 'fry', 'natd1', 'hk1', 'rfwd3', 'tm4sf18', 'alkbh2', 'sgsh', 'tgfbi', 'myh7b', 'oprpn', 'avpr1b', 'mcoln1', 'rapsn', 'rfxank', 'acad11', 'mnda', 'veph1', 'ffar1', 'fgf5', 'camta2', 'clcf1', 'pate4', 'ankrd10', 'dennd1a', 'trim48', 'srsf5', 'slc26a1', 'pex6', 'mc2r', 'krtap22-1', 'vil1', 'pibf1', 'celf3', 'elac2', 'chchd10', 'asmtl', 'cbx6', 'ephb3', 'slc44a1', 'neu1', 'mrgprd', 'klhdc9', 'znf667', 'snx4', 'asb6', 'krt1', 'lair1', 'tppp3', 'nfyb', 'farsb', 'mfn1', 'calhm6', 'pitpna', 'pag1', 'zfyve9', 'naga', 'slc5a6', 'ddit4l', 'llgl2', 'map3k7', 'syne1', 'pcgf5', 'haspin', 'gmpr2', 'tfdp3', 'cyp4b1', 'bloc1s5', 'slc2a4', 'mal', 'pam', 'idua', 'znf655', 'megf8', 'dctn6', 'pnpla4', 'map3k5', 'slc27a4', 'rock1', 'ttc13', 'mmp9', 'riox1', 'vamp7', 'sh2d7', 'serpinf2', 'rtf1', 'zbtb45', 'ddx23', 'ppp6c', 'znf92', 'kansl1', 'socs3', 'ccl25', 'ttyh1', 'cyp8b1', 'epcam', 'rybp', 'grin3a', 'pln', 'or1b1', 'pcdh11y', 'rab33a', 'cyp11a1', 'taf1c', 'gng7', 'abcg2', 'mageb6b', 'ggh', 'magea4', 'orc6', 'znf334', 'frat2', 'sec61a2', 'brd9', 'tmem200c', 'mapk4', 'lkaaear1', 'kdm1b', 'pom121l2', 'pcmtd1', 'mt1h', 'tifa', 'tm2d2', 'syt7', 'gpc2', 'csn3', 'sbf1', 'gjc3', 'fbxo10', 'xpo6', 'cd8b2', 'krba2', 'ovch1', 'ankfy1', 'pias2', 'snap23', 'nppa', 'tmem121', 'or51d1', 'eif4e', 'gsg1l2', 'znf331', 'psmc6', 'rab11a', 'elof1', 'ubd', 'c17orf80', 'tac4', 'ptgdr2', 'b3gnt6', 'sstr5', 'cuedc2', 'cracr2b', 'gnly', 'toe1', 'tex37', 'pou5f2', 'git1', 'alox12b', 'wdr76', 'nppc', 'or6j1', 'hsd17b1', 'b3gnt4', 'znf420', 'fam133b', 'hdac6', 'syt13', 'gcat', 'ptpmt1', 'adgrf1', 'psg5', 'fcmr', 'f7', 'glipr1l2', 'slc25a19', 'ccl1', 'sult1a1', 'atp6v0d2', 'nccrp1', 'tlr8', 'cks1b', 'top1mt', 's100a5', 'fzd2', 'slc25a2', 'ubl7', 'l1cam', 'evi5', 'krt72', 'pcdhga3', 'ptpn3', 'cd38', 'fstl5', 'ptges3l', 'egln1', 'arfgap1', 'uqcc2', 'spata19', 'eif4g2', 'scn5a', 'slc2a12', 'cxcr5', 'c4b', 'c2orf78', 'eif1ax', 'ldlr', 'misp', 'or2c1', 'mas1l', 'arfgef2', 'lpxn', 'ipo13', 'rtcb', 'dennd2c', 'timp1', 'slc35b4', 'dcun1d3', 'smc2', 'akr7a2', 'trmt61a', 'pnpo', 'cplx3', 'atraid', 'mov10', 'iqcc', 'krt85', 's100a11', 'aldh8a1', 'asb13', 'pan2', 'pex11g', 'akt3', 'ldb3', 'kdelr3', 'hlx', 'myo1e', 'ammecr1', 'radil', 'or4f4', 'krtap19-5', 'erich2', 'arl1', 'phf14', 'fabp3', 'cldn22', 'nabp1', 'frmd1', 'map3k8', 'stx3', 'pkig', 'ercc3', 'spata31a1', 'pde4c', 'tbc1d2', 'ccdc6', 'nt5c3b', 'iqgap2', 'capn3', 'mtf1', 'furin', 'ndufa13', 'rpa1', 'prpf19', 'ing4', 'kif16b', 'sult1c2', 'or5j2', 'rpusd4', 'f2rl2', 'plekha6', 'reep4', 'serpina3', 'or4c12', 'elk3', 'pdia6', 'galnt14', 'fap', 'clint1', 'neu3', 'ntrk2', 'nup93', 'plxdc2', 'ptprr', 'ssh3', 'klk1', 'egf', 'hoxa3', 'tmem260', 'evc', 'emx2', 'rbm15b', 'hspa14', 'erp29', 'krtap29-1', 'gsx2', 'lins1', 'stk11', 'raver1', 'catsperg', 'atxn7', 'zbtb44', 'dnmbp', 'cabp1', 'prune2', 'epha5', 'ca3', 'or8d4', 'jup', 'naxd', 'pgrmc1', 'tbc1d19', 'hgf', 'znf599', 'cd302', 'eddm3b', 'ptges3', 'slc22a1', 'plppr3', 'rph3a', 'alpk3', 'mad2l1bp', 'shisa5', 'pik3r4', 'dnaja1', 'odf3l1', 'sim2', 'dnajb12', 'unc45a', 'plek', 'mro', 'spns1', 'col2a1', 'capsl', 'rab11fip2', 'spp2', 'cfap73', 'mov10l1', 'tlcd3b', 'pla2g2f', 'tdrd10', 'ankrd52', 'plekha8', 'dusp3', 'spata20', 'ophn1', 'bcl9', 'fhit', 'spib', 'tlr10', 'slco4a1', 'igflr1', 'ntm', 'hnrnpa2b1', 'ly6g6e', 'slc25a31', 'nmur2', 'pcdha13', 'rcc2', 'trappc6b', 'oxt', 'srxn1', 'pkhd1', 'plxna3', 'mesp2', 'rccd1', 'ddx52', 'hs2st1', 'scamp2', 'ywhaq', 'gimap1', 'rhbdf1', 'cshl1', 'lrrc45', 'znf225', 'sf3a3', 'sod1', 'colec12', 'adam2', 'trpm2', 'ccdc17', 'aspm', 'wnt10b', 'gfi1b', 'lrrc71', 'slc36a2', 'cdc40', 'cyhr1', 'c1orf185', 'ifi35', 'cdh23', 'lrrc46', 'loxhd1', 'arhgap8', 'fosl1', 'acan', 'rmi1', 'dmbt1', 'pask', 'btnl3', 'ralgds', 'slc7a6', 'ppm1h', 'tuft1', 'sema7a', 'nbr1', 'lamb2', 'fastkd3', 'gatb', 'trim40', 'pcdhga8', 'bdnf', 'or4a16', 'znf561', 'dnajc8', 'or10h1', 'smad5', 'ankib1', 'sprtn', 'tinagl1', 'or8i2', 'znf638', 'cox16', 'retn', 'ces5a', 'f8', 'tango6', 'fam227b', 'psg2', 'rsph9', 'spanxn2', 'cyb5r2', 'rnf144b', 'ltb4r2', 'grk6', 'vps28', 'odf1', 'znf239', 'p2ry10', 'surf1', 'znf284', 'kcnj4', 'fam131c', 'terb2', 'uevld', 'znf367', 'ptx4', 'sucnr1', 'igfbp5', 'itpripl2', 'stat5a', 'vkorc1l1', 'fam71f1', 'gjc1', 'nacad', 'fundc2', 'mat2b', 'asl', 'ppp2r5e', 'ankar', 'pgc', 'rabac1', 'rgs17', 'umad1', 'anxa5', 'ppp1r3a', 'usp14', 'zmat3', 'borcs8', 'gnl3', 'dmrt2', 'plcb2', 'cmtm1', 'sh3kbp1', 'relb', 'ifit2', 'rsad2', 'slc35a2', 'ipcef1', 'dact2', 'or13f1', 'nf2', 'ttc7a', 'trak1', 'gnpnat1', 'ccdc184', 'stag3', 'ca11', 'vwa2', 'kbtbd7', 'rgsl1', 'mpv17l2', 'kcns3', 'calml5', 'eddm13', 'pygo2', 'usp13', 'ctr9', 's100a10', 'fbxw10', 'usp48', 'osbpl8', 'actr2', 'actl10', 'tk1', 'cspg5', 'phactr2', 'ubc', 'golga2', 'ecel1', 'otol1', 'xbp1', 'znf19', 'stpg2', 'tmem161b', 'mterf1', 'usp24', 'sele', 'maea', 'il7r', 'rapgef1', 'wnt4', 'galnt2', 'gpr27', 'hras', 'pigm', 'angptl1', 'frem3', 'trrap', 'ccdc188', 'sptssb', 'lox', 'gpr39', 'plekha1', 'abcf3', 'atmin', 'pard6g', 'rhbdd3', 'clc', 'klhl15', 'lamtor5', 'tpsd1', 'gype', 'ubn2', 'exoc6', 'scaf1', 'mettl21a', 'rabepk', 'dapp1', 'donson', 'susd5', 'arpp19', 'cnn3', 'krtap5-2', 'cbln4', 'ahrr', 'cd81', 'tmem41a', 'socs6', 'oas3', 'kiaa0895l', 'sf3b1', 'nupr2', 'clec7a', 'azin1', 'tcf20', 'phka2', 'alpp', 'parp9', 'znf624', 'smim20', 'rcn1', 'caprin1', 'bcl9l', 'ptbp3', 'polr2g', 'fmnl1', 'mcm4', 'fbxo2', 'oaz3', 'znf502', 'pip4k2c', 'or4k17', 'nek9', 'rmdn1', 'pla2g2d', 'pcf11', 'ptpn12', 'rubcnl', 'mfn2', 'bckdk', 'znf483', 'tmprss11f', 'krtap5-9', 'znf382', 'akr1b15', 'bcl11b', 'slc7a9', 'thumpd1', 'cdc42ep5', 'ubxn7', 'malsu1', 'ambp', 'p2rx4', 'acyp2', 'cdc123', 'meaf6', 'zdhhc4', 'vit', 'egfl7', 'fnta', 'dhx15', 'slc29a4', 'acy3', 'tnfrsf11b', 'pcdhb8', 'thap10', 'tnpo1', 'or10a7', 'rap1a', 'rbm28', 'slc2a5', 'otud7a', 'zadh2', 'znf641', 'atg12', 'or2g3', 'gpx7', 'c8orf37', 'c11orf94', 'tm7sf2', 'ppcdc', 'cog1', 'maco1', 'tcerg1', 'ceacam6', 'sema4g', 'znf589', 'cdkn3', 'atp12a', 'gpt', 'nsd2', 'lat', 'reg4', 'sidt2', 'ankrd9', 'znf142', 'sdcbp2', 'abcg1', 'trim21', 'tmx1', 'c8orf82', 'smad3', 'dytn', 'dcaf4', 'bpnt1', 'evx1', 'kcnv2', 'slc35d1', 'mboat1', 'ydjc', 'ttpa', 'tpbg', 'znf32', 'gorasp1', 'tnfaip3', 'klk15', 'pfdn6', 'tbx19', 'cnn2', 'kcng2', 'cebpe', 'tspan2', 'dnlz', 'eci2', 'or10a4', 'egr1', 'nprl3', 'maml3', 'pja2', 'wnt2', 'camkmt', 'gper1', 'tet2', 'ficd', 'ccdc197', 'hoxb1', 'sc5d', 'c14orf28', 'sys1', 'ace2', 'cxcl12', 'pdcd5', 'aspscr1', 'apc', 'asah2', 'tmed7', 'eif4a2', 'herc4', 'znf574', 'chrna9', 'ociad2', 'camsap1', 'tmem116', 'itpr3', 'kctd8', 'usp53', 'shpk', 'fam126a', 'hnrnpa3', 'fcer1g', 'agr2', 'shd', 'znf486', 'slc25a38', 'mphosph6', 'c19orf67', 'slc25a18', 'col6a5', 'grm8', 'pex12', 'glis3', 'supv3l1', 'gabbr2', 'ptpn22', 'wnk1', 'dnajc7', 'cd300ld', 'hs6st2', 'hacd2', 'mccc1', 'wdr31', 'hoxc11', 'morc1', 'creb1', 'xkr6', 'lamb3', 'taf3', 'c1qc', 'slc18a2', 'tle7', 'ccdc73', 'slc35c1', 'sez6', 'dtna', 'zfp2', 'osbpl1a', 'sumo3', 'dhrs7c', 'dusp26', 'ccl13', 'c2orf76', 'parp15', 'f11r', 'sgms2', 'skor2', 'znf148', 'akap9', 'paics', 'itm2b', 'hikeshi', 'srrm4', 'zfpl1', 'bdp1', 'tnfrsf10b', 'mtcl1', 'kcnj16', 'ppp5c', 'ripor2', 'or4d1', 'fshb', 'chn1', 'lrrc75a', 'sigmar1', 'znf878', 'ssr2', 'hbb', 'lrrc17', 'adam22', 'gmppb', 'ing2', 'ifna5', 'imp4', 'hoxa11', 'timm10b', 'tmprss12', 'kat14', 'gdpd4', 'tmem252', 'krt222', 'rbis', 'lpcat1', 'tspan17', 'foxi1', 'znf322', 'tulp1', 'pde7a', 'c8orf89', 'slc39a12', 'krtap7-1', 'lamb4', 'ncr3lg1', 'mc3r', 'shq1', 'znf343', 'cnnm4', 'or8b2', 'itln1', 'en1', 'cks2', 'c16orf74', 'wnt8a', 'krtap5-1', 'pcdha4', 'tnfaip2', 'large2', 'alyref', 'zbtb24', 'sarnp', 'faap100', 'btaf1', 'eml1', 'nedd4', 'dlgap4', 'agpat4', 'hhla1', 'pcdhb6', 'supt7l', 'iqsec1', 'or1q1', 'srr', 'adam9', 'trib2', 'ca1', 'atg2b', 'plxnb1', 'fhl2', 'myh11', 'krt34', 'babam2', 'dusp21', 'abcb7', 'spata9', 'sap30', 'nbpf1', 'rnf4', 'pde6c', 'c10orf95', 'isg20', 'gss', 'si', 'colca2', 'dhx34', 'slc25a35', 'polm', 'ccr9', 'col4a1', 'spice1', 'triap1', 'gsx1', 'tes', 'snx15', 'cc2d2a', 'snx18', 'mageb4', 'c2cd5', 'selenon', 'tmx3', 'sumf2', 'prdx2', 'sh3bp5l', 'dcbld2', 'egr4', 'tgfbrap1', 'gpr148', 'elovl4', 'insc', 'gpr78', 'ssc4d', 'uso1', 'ncor2', 'ednrb', 'gosr1', 'mllt10', 'il3ra', 'zar1l', 'grip1', 'rbm22', 'suox', 'poc5', 'ascl3', 'ccl23', 'tcf23', 'napg', 'angptl7', 'pyhin1', 'wdr87', 'pycr2', 'psmd13', 'kmt2a', 'slfn13', 'znf800', 'nsun3', 'fzr1', 'chodl', 'psmb9', 'hspa1l', 'znf157', 'mcf2l', 'rgs16', 'pdzk1ip1', 'tex19', 'rab40b', 'cfh', 'hnrnpa0', 'col24a1', 'irx6', 'kcnmb2', 'mtmr10', 'gdf2', 'grem1', 'ahcyl1', 'glyatl1', 'kiaa1217', 'nt5c', 'tspyl2', 'slc1a2', 'c11orf80', 'fam133a', 'alg3', 'mia', 'vps16', 'or2t11', 'tgfa', 'lrrn4cl', 'cdan1', 'trim45', 'trh', 'pthlh', 'aqp2', 'qdpr', 'dhx16', 'uts2b', 'myh10', 'mapk13', 'irf7', 'pard3b', 'lipa', 'tsga10ip', 'zmym2', 'il36a', 'oxtr', 'crabp1', 'asb7', 'tubb1', 'ehd2', 'gls2', 'lck', 'ccdc18', 'tmem68', 'rasip1', 'ct83', 'smarcad1', 'tom1l2', 'or52b4', 'lrrc66', 'notch2', 'bckdhb', 'immp2l', 'stard9', 'hoxb4', 'ceacam21', 'ppm1m', 'hcls1', 'acsm3', 'sppl2b', 'ubr7', 'gabpa', 'cep44', 'mtpn', 'ppp1r14a', 'prnd', 'zmynd8', 'klhdc8a', 'tubb2a', 'c20orf204', 'myl9', 'cntnap5', 'asb12', 'tcp11l2', 'cluh', 'cxxc4', 'cracr2a', 'fanci', 'rbbp7', 'ceacam3', 'vps36', 'arhgef5', 'rab8a', 'samd13', 'pank4', 'polg', 'alms1', 'iqank1', 'aqp10', 'vps9d1', 'plcd4', 'ddx46', 'mllt6', 'gba', 'znf507', 'sqstm1', 'atp2a2', 'tmem150c', 'pigs', 'klhl10', 'ift22', 'calcb', 'asrgl1', 'tbc1d24', 'rnf220', 'taf4b', 'nfkb1', 'snx2', 'trir', 'cyp4f2', 'krtap10-11', 'obi1', 'copg1', 'crabp2', 'cspp1', 'glipr1', 'aph1b', 'prss21', 'ptgr2', 'wdr25', 'bloc1s3', 'tgfb1i1', 'or52n1', 'znf256', 'polr3h', 'napsa', 'nsg2', 'slc30a10', 'faah2', 'las1l', 'nkx2-6', 'ccnyl1', 'gmeb2', 'cxorf58', 'plgrkt', 'ttc12', 'spag9', 'mfsd3', 'tnni1', 'chst15', 'ccnd3', 'pop5', 'plekhh3', 'spem1', 'kit', 'usp15', 'slit3', 'ldhc', 'pik3c3', 'slc25a13', 'ddx54', 'psd2', 'ing3', 'znf785', 'ccdc15', 'sde2', 'mtln', 'pgbd2', 'peak3', 'cpn1', 'emc1', 'or52l1', 'dbx2', 'insl3', 'znf674', 'or5an1', 'wdpcp', 'letmd1', 'ccdc40', 'sytl4', 'atp6v1fnb', 'skap2', 'cmas', 'chp2', 'mtmr8', 'akap5', 'best1', 'utp14a', 'txk', 'cpsf2', 'ambra1', 'ddt', 'slc9c2', 'prx', 'tnr', 'znf282', 'lmln2', 'znf622', 'klk14', 'ptpn1', 'tp53inp1', 'pls1', 'smu1', 'cfap410', 'snx31', 'pnisr', 'ch25h', 'heatr5b', 'esco1', 'c1orf158', 'kcnv1', 'calhm1', 'slc5a12', 'dcaf4l1', 'hrh4', 'snf8', 'il2', 'strn', 'znf620', 'ppp1r13l', 'krt17', 'ascl4', 'pcdhga1', 'acox1', 'crim1', 'acot1', 'znf766', 'nim1k', 'masp2', 'siah1', 'prf1', 'cdc7', 'akr1c2', 'ak5', 'col7a1', 'pcdhga11', 'slc35g5', 'gpatch3', 'nfkb2', 'cdk2', 'isl2', 'dsg1', 'eno3', 'ngb', 'lyrm9', 'tead2', 'plac8l1', 'or2b3', 'igsf21', 'vgll2', 'cldn4', 'nat2', 'arhgap26', 'dhx36', 'tmem143', 'frzb', 'zfyve16', 'csad', 'znf75d', 'znf275', 'ccdc149', 'rft1', 'fancm', 'oard1', 'il25', 'eef2kmt', 'fam43b', 'atg7', 'pdpr', 'nmnat3', 'kcnj1', 'srek1ip1', 'ltb4r', 'mdh1', 'htr3c', 'rab5if', 'tent4b', 'ccdc117', 'cdyl2', 'kif13a', 'metap1d', 'slc4a8', 'gk3p', 'trmt11', 'siglec12', 'ilkap', 'scn4a', 'cfap20', 'ctcfl', 'foxp4', 'kdm7a', 'fcf1', 'cav2', 'znf276', 'rad51ap1', 'pagr1', 'tpgs2', 'or2y1', 'ehmt2', 'fam20a', 'spock3', 'vn1r4', 'stath', 'epdr1', 'dchs2', 'osgin2', 'dis3l', 'best2', 'cela1', 'tex10', 'mterf2', 'cyp4f8', 'scml4', 'slc12a8', 'anpep', 'st8sia6', 'cdc23', 'krtap5-7', 'msh2', 'pcdhb7', 'ccdc121', 'c1orf141', 'slc5a4', 'smg6', 'abhd12', 'slc23a2', 'trpv2', 'lrrc52', 'rrp7a', 'fam167a', 'tctn2', 'mff', 'smkr1', 'nup214', 'ppan', 'tmem159', 'rflnb', 'fam126b', 'srp9', 'taf6', 'tnfsf11', 'tnn', 'cables1', 'or6b2', 'ptger4', 'tex30', 'miip', 'slc52a1', 'ccm2', 'ptx3', 'htatsf1', 'gp9', 'fam32a', 'slc22a3', 'igf2bp2', 'neurod6', 'nhlrc1', 'gpr34', 'nsmce2', 'kcnj8', 'prelid3a', 'mpnd', 'c9orf152', 'cst7', 'slc13a3', 'cyp2c8', 'smug1', 'ramp2', 'atf7', 'cdh7', 'tbc1d25', 'ecsit', 'rab3ip', 'tex101', 'hnrnpul2', 'bcl11a', 'enam', 'alg14', 'prdm5', 'il17rc', 'rimklb', 'gpr19', 'serpinb2', 'c1orf100', 'sp110', 'ddx19b', 'unc80', 'msh6', 'hs3st2', 'stk17a', 'trim41', 'zbtb21', 'pum2', 'ngly1', 'znf354c', 'fignl1', 'stmn3', 'polr2f', 'siglec15', 'il3', 'trpv4', 'pramef6', 'ahi1', 'lrrc4', 'usp17l3', 'plpp4', 'mtg2', 'unc5b', 'pcdhb16', 'rrp9', 'fbxo40', 'stam', 'kcnh6', 'cldn14', 'dnajc16', 'mkx', 'slc27a3', 'slc8b1', 'aarsd1', 'slc35g2', 'tmem104', 'krtap9-8', 'pim3', 'gdf15', 'trhde', 'zfand2b', 'uaca', 'xylb', 'cdrt15', 'lilrb4', 'camsap2', 'themis', 'rxfp4', 'c9orf78', 'krtap9-3', 'pter', 'iqcb1', 'nlrc5', 'kng1', 'synj2', 'hsd11b2', 'vangl1', 'mapk12', 'rab42', 'fech', 'rnd2', 'tarbp1', 'srms', 'mfap4', 'celf5', 'ddah2', 'rbm4b', 'birc7', 'cd160', 'fat2', 'satb1', 'kcnip1', 'prrg4', 'ntpcr', 'tfdp2', 'klhl31', 'cyp11b1', 'pggt1b', 'snrpg', 'sap25', 'prxl2b', 'zdhhc22', 'samd15', 'sfrp4', 'sin3b', 'cers4', 'rnf148', 'ankrd40cl', 'agmat', 'gbp4', 'ereg', 'clip4', 'gamt', 'magec2', 'hdac3', 'zscan9', 'vps11', 'trmt5', 'wdr83', 'adgrl1', 'tktl1', 'znf569', 'mcm9', 'c1qtnf9', 'etnppl', 'man2a1', 'slfn12', 'leutx', 'col4a3', 'aanat', 'scn2a', 'mapkapk2', 'kcnb2', 'ets2', 'fam81b', 'ddx19a', 'exoc6b', 'slc22a18', 'c18orf32', 'axdnd1', 'or13c3', 'ndufaf6', 'ccdc113', 'krt6b', 'pole3', 'hmgxb4', 'ccdc125', 'stxbp1', 'fcgr2a', 'ccdc141', 'fbln2', 'ms4a3', 'txnrd1', 'acsm6', 'tmem38a', 'chrdl1', 'tyw1b', 'tbata', 'nrm', 'crlf2', 'lpin2', 'or4s1', 'peg10', 'ptprs', 'coro2a', 'otud1', 'ppp1r3d', 'cib4', 'pcdha6', 'gpr45', 'slc6a1', 'pura', 'casp8', 'otulin', 'slc10a2', 'tmed8', 'tmem235', 'rab41', 'tasor2', 'heca', 'ccdc93', 'mfng', 'cpamd8', 'idh3g', 'pdcd10', 'hdlbp', 'krtap5-10', 'il17c', 'znf350', 'gng8', 'hnrnpll', 'il32', 'csmd2', 'dlg5', 'limd2', 'gsdmd', 'znf707', 'ccdc85c', 'ephx1', 'tigd4', 'calml4', 'coq8a', 'sec24b', 'efcab9', 'nudt2', 'jmjd8', 'fkbp6', 'nploc4', 'c9orf16', 'mafg', 'slc4a3', 'thyn1', 'wasf3', 'ms4a4a', 'pusl1', 'pom121c', 'smox', 'podxl', 'rcn2', 'npap1', 'prpsap1', 'mylip', 'slc35c2', 'map7d3', 'hamp', 'ubqln4', 'rab11b', 'rep15', 'cfap44', 'surf4', 'gng5', 'a2ml1', 'neurog2', 'slc6a15', 'fxyd1', 'tff2', 'gga3', 'nxpe4', 'sfn', 'wdr46', 'pias3', 'lztfl1', 'myl6', 'mdh1b', 'zbtb39', 'alkal2', 'slc16a10', 'fancg', 'fem1a', 'tspear', 'gdf10', 'dnajc21', 'pcm1', 'ndufa6', 'fat4', 'erbb3', 'henmt1', 'rnase4', 'fen1', 'atg9b', 'glrx2', 'col17a1', 'hpx', 'nkd1', 'hhipl2', 'tuba4a', 'slc44a2', 'bahd1', 'ctsz', 'sstr4', 'stc2', 'znf57', 'eif3b', 'cnot9', 'rbm39', 'enpp1', 'rhog', 'st3gal4', 'zbtb26', 'knstrn', 'cdipt', 'ugt2b4', 'rab31', 'cyp2a6', 'slc15a5', 'mpped2', 'poldip3', 'adgrf3', 'lcn9', 'tex14', 'ranbp17', 'fam135b', 'fem1c', 'sycp2l', 'or2t34', 'bmp8b', 'usp43', 'eif4e2', 'rfpl4al1', 'pcdha1', 'fcar', 'jrk', 'tmem200b', 'scarb1', 'clec3b', 'cd3d', 'lipc', 'slc49a4', 'limk2', 'padi1', 'gzf1', 'plxdc1', 'abca12', 'naaladl2', 'brix1', 'acvr1', 'lpo', 'acsbg1', 'krtap15-1', 'endod1', 'ucp1', 'serpine1', 'aadacl2', 'cyb561d1', 'ndufb5', 'lipf', 'gsk3b', 'calhm3', 'foxred1', 'tmem62', 'ehd3', 'c7', 'msmb', 'rfpl4a', 'cnst', 'nr1i3', 'myo1b', 'xrn2', 'ube2n', 'mgll', 'uimc1', 'pstk', 'padi4', 'mettl15', 'kpna1', 'cdc20b', 'emilin3', 'ropn1l', 'itm2c', 'vps29', 'cldn24', 'gnb2', 'gja4', 'pcnx3', 'unc13a', 'mt1b', 'cacna1c', 'tmem120b', 'cog3', 'col4a4', 'cdk11a', 'cdca7l', 'znf227', 'borcs5', 'myeov', 'zwint', 'nfatc3', 'sdr16c5', 'scrn3', 'dynlrb1', 'plbd2', 'sirt7', 'arms2', 'cotl1', 'ifnb1', 'ero1a', 'or2w1', 'cthrc1', 'spag6', 'awat2', 'fst', 'cdkl1', 'mrm1', 'grem2', 'fbxo47', 'fam160b2', 'cops7a', 'dhdh', 'csnk1e', 'capn5', 'hsd17b6', 'robo3', 'rragb', 'znf362', 'smndc1', 'hbd', 'gpx4', 'mt-nd5', 'c1ql2', 'c20orf194', 'pabpc5', 'mab21l4', 'ermard', 'ddx17', 'cd58', 'pigr', 'atg13', 'krtap6-3', 'ddx55', 'calm3', 'dock9', 'krt73', 'myl5', 'ace', 'acox2', 'smad6', 'top3b', 'ern1', 'frmd4b', 'fhl1', 'ttc3', 'c2cd4b', 'herpud2', 'colq', 'immt', 'eef1akmt2', 'arhgap33', 'lysmd3', 'strada', 'tmem198', 'ankmy2', 'strn3', 'dpp7', 'kir2dl4', 'gtpbp8', 'hsp90aa1', 'dmrta1', 'cldn1', 'fer1l5', 'txndc9', 'alpi', 'rnf180', 'cul9', 'prpf39', 'csnk1a1', 'ccdc28b', 'arhgef38', 'st6galnac6', 'tshr', 'gclm', 'usp50', 'reps2', 'stard4', 'avpr2', 'hint1', 'etfa', 'calca', 'fbxl20', 'pcsk9', 'mindy4', 'igfals', 'ccn2', 'tanc2', 'ppp6r2', 'anxa9', 'unc5d', 'sh2d6', 'skor1', 'hsd17b13', 'rad52', 'cacnb3', 'gpr26', 'scgb3a2', 'abraxas2', 'lhfpl2', 'irgq', 'rnf145', 'kiaa1841', 'kremen2', 'znf286a', 'rgpd4', 'mt-co3', 'alx1', 'pdcl', 'tmem50a', 'spopl', 'znf581', 'atf4', 'ttbk1', 'lamtor4', 'emp2', 'cyth2', 'hapln4', 'znf835', 'bik', 'etdc', 'kcp', 'prkag1', 'tmem134', 'stam2', 'ptp4a3', 'tradd', 'trabd', 'pus7l', 'atp8b4', 'syngap1', 'mybph', 'kin', 'brsk2', 'ufsp2', 'stk25', 'ppp3cc', 'muc19', 'cst8', 'alg5', 'lgals1', 'olfm1', 'fmr1nb', 'pax3', 'dync1li2', 'kdm5c', 'zkscan5', 'apoc4', 'obp2b', 'eddm3a', 'cyp2a7', 'tnfsf14', 'actrt3', 'vwde', 'steap1b', 'ogfod2', 'lpar2', 'kcnmb1', 'ints11', 'serf2', 'plcxd3', 'apoa1', 'pdpk1', 'ak7', 'ppil6', 'mob4', 'lpp', 'kifc2', 'znf570', 'cenpm', 'fam193b', 'cep85l', 'arhgap44', 'lhfpl6', 'cdk11b', 'sil1', 'pdgfra', 'ndufs6', 'saxo2', 'itga2b', 'znf260', 'il17ra', 'rdh11', 'znf490', 'slc22a7', 'aspn', 'zmym1', 'sorcs2', 'krt83', 'galc', 'p2rx5', 'spindoc', 'stk40', 'tekt5', 'vdr', 'r3hdm1', 'gpr132', 'tgs1', 'oaf', 'ift122', 'arap2', 'rad51', 'kctd15', 'timm50', 'ywhag', 'fam98b', 'tspan3', 'erich3', 'c11orf58', 'anapc7', 'fgf12', 'igsf9', 'zbtb16', 'qsox2', 'cntrob', 'fam71f2', 'nck1', 'znf705g', 'sun2', 'nrxn2', 'mdm4', 'myl12a', 'rnaseh2a', 'pcdhga10', 'kif13b', 'cblif', 'dnajb4', 'akr1a1', 'timm17a', 'wdr74', 'riox2', 'atp7b', 'pdia4', 'or4d2', 'cd2bp2', 'inhbe', 'pigx', 'bbs9', 'ctxnd1', 'map4k1', 'fam186b', 'foxp2', 'zswim4', 'fabp6', 'bri3', 'ranbp6', 'ins', 'znf787', 'jag1', 'dbn1', 'arhgap10', 'ppp2r2c', 'prdm6', 'camta1', 'serping1', 'apoe', 'tgfbr3l', 'dhcr24', 'cobl', 'syt9', 'lrch1', 'slc8a3', 'hscb', 'slc11a1', 'nabp2', 'adgb', 'sync', 'clul1', 'copz2', 'trim22', 'rwdd3', 'gpc6', 'pmepa1', 'plin2', 'cst2', 'myl4', 'med23', 'fis1', 'ndufa12', 'fos', 'slc31a1', 'kiss1', 'cdc45', 'bcat2', 'or10g7', 'pkd1', 'myo15a', 'rdx', 'krt80', 'pex5l', 'fam110d', 'rab10', 'rbak', 'pphln1', 'znf20', 'rbm23', 'cfap97d1', 'bfsp2', 'sort1', 'nde1', 'rpia', 'fyn', 'dazl', 'dync1h1', 'hoxa10', 'c6orf120', 'or6c2', 'onecut1', 'kcnh8', 'trim13', 'src', 'bbip1', 'impa1', 'il15ra', 'pdcd11', 'fads2', 'ccdc122', 'dapk3', 'mapk15', 'csnk1g1', 'dph3', 'cinp', 'pskh2', 'c17orf78', 'plch1', 'mettl18', 'senp5', 'gng4', 'tmem170a', 'cfap300', 'bod1l2', 'ubl5', 'lypd4', 'cyp4a11', 'suco', 'nasp', 'mapkbp1', 'tada2b', 'galk1', 'ccdc173', 'sds', 'ppbp', 'ntsr1', 'znf563', 'mn1', 'sdsl', 'gtpbp2', 'chmp4a', 'gramd2a', 'znf783', 'dbi', 'rgs20', 'kdm4d', 'grb14', 'nr4a1', 'or4f6', 'hspb2', 'ccl4', 'b3gnt2', 'ctsw', 'scn1a', 'crtc3', 'krt15', 'znf121', 'lbhd2', 'sptbn4', 'atrx', 'ccdc97', 'pou2f1', 'jade1', 'ppara', 'slco2a1', 'tank', 'dcaf1', 'adipoq', 'cenpc', 'foxo3', 'reck', 'pof1b', 'parl', 'gbp5', 'zrsr2', 'cox6a1', 'tacr3', 'zbtb4', 'itprid2', 'dmbx1', 'igf1r', 'isy1', 'pip4k2a', 'scimp', 'slc16a13', 'tekt3', 'cst3', 'rara', 'wdr59', 'kcnj6', 'sf3b4', 'tmem35b', 'rnd3', 'enpep', 'luc7l2', 'slco2b1', 'mtus2', 'cd2ap', 'pts', 'hus1b', 'fgr', 'ncmap', 'pigz', 'baiap2l1', 'gtpbp4', 'fam71c', 'sult4a1', 'gripap1', 'wdr3', 'primpol', 'or2j2', 'ccdc34', 'xpo4', 'cers6', 'nab1', 'fam216b', 'glp2r', 'nr2e1', 'lig1', 'usp51', 'pcdhgb7', 'ca8', 'pcdh8', 'pydc2', 'sdhaf1', 'wdr26', 'rnasel', 'gas2l3', 'ankrd31', 'gprasp1', 'keap1', 'sec61b', 'lrrc26', 'laptm4a', 'rbm19', 'klhl17', 'slc4a4', 'fgf7', 'tead1', 'camk1d', 'dhx32', 'cplx4', 'fam199x', 'ackr1', 'bod1l1', 'cd109', 'meioc', 'cntnap1', 'slc22a5', 'vps26a', 'hoga1', 'cavin2', 'slc9a2', 'fam240c', 'or4m1', 'lrrc4b', 'abca3', 'kctd14', 'tcf24', 'c17orf100', 'cabin1', 'slc10a3', 'or2l3', 'lratd1', 'katnbl1', 'znf668', 'ufl1', 'mtfr1', 'parva', 'cdca7', 'nrp2', 'csrp3', 'slc12a4', 'nr2c2ap', 'gpr1', 'lnpep', 'setd5', 'yju2', 'rdh13', 'znf558', 'fah', 'clptm1l', 'cfap206', 'sycp2', 'grsf1', 'cd1e', 'fut6', 'gal3st3', 'mtmr6', 'ccni', 'nup160', 'pdcd4', 'htr4', 'nrgn', 'c4bpb', 'ift43', 'comtd1', 'sst', 'c16orf70', 'nfic', 'cst6', 'or10c1', 'zfand1', 'ms4a8', 'efcab13', 'tprx1', 'atp8b3', 'or10k1', 'amtn', 'pram1', 'aqp11', 'txndc16', 'vopp1', 'thegl', 'gja5', 'or2ae1', 'or11a1', 'ankrd66', 'taf11l8', 'gprin2', 'folr1', 'celf6', 'ube3a', 'smpx', 'dock10', 'slc43a3', 'hdgfl2', 'ric8b', 'f12', 'lto1', 'syngr4', 'pclaf', 'gage10', 'ankrd65', 'hpcal4', 'tmem181', 'cnga4', 'thap2', 'baz2a', 'nemp1', 'cntn6', 'mettl7b', 'pmch', 'ckb', 'kcng1', 'rtl1', 'arl4d', 'ranbp3l', 'agbl3', 'tril', 'mtm1', 'samd9l', 'adgrv1', 'agpat1', 'ripk1', 'plod2', 'sh3bgrl3', 'akap13', 'hspbp1', 'actn1', 'kif3a', 'fbxo48', 'ppp1r3c', 'atp5f1d', 'mobp', 'kctd5', 'asphd1', 'yeats2', 'folr3', 'znf223', 'ctnnbip1', 'dsg4', 'corin', 'rhoh', 'colec11', 'smim24', 'pde4a', 'kif12', 'plekhg3', 'spag7', 'fbn2', 'jam3', 'eif3d', 'kdm3b', 'cdc42bpa', 'erf', 'golga1', 'tdp1', 'tgfbr3', 'dnajc5', 'nqo2', 'mex3d', 'paqr6', 'col19a1', 'map3k21', 'arhgap29', 'fbxo7', 'egflam', 'tspan8', 'spred3', 'brd3', 'sncg', 'phyh', 'p2ry6', 'arhgap42', 'znf474', 'nptx1', 'ubtf', 'dnajc12', 'lrrc56', 'pcdha8', 'riiad1', 'chad', 'znf765', 'uggt2', 'mymx', 'mthfd1l', 'fam76a', 'enho', 'cpm', 'slc5a8', 'tada1', 'osbpl3', 'tlr1', 'fmc1', 'ubxn6', 'tmem95', 'ppil3', 'sycp1', 'chaf1a', 'ddr2', 'nup54', 'frg1', 'arfgef1', 'spaar', 'wipf3', 'c22orf23', 'layn', 'tmem263', 'gemin6', 'erp27', 'tacc3', 'dhx57', 'cplane1', 'kiaa0408', 'ric3', 'pdlim1', 'csnk1g2', 'aimp1', 'fbp1', 'slc6a12', 'klf17', 'mapk10', 'med30', 'fcgr1a', 'emg1', 'qsox1', 'yaf2', 'camk2d', 'rad51b', 'b4galnt1', 'pnma6a', 'ctps1', 'cytip', 'slc39a11', 'sult6b1', 'supt3h', 'penk', 'c10orf67', 'col28a1', 'pon1', 'or8a1', 'znf285', 'lce5a', 'ube2d4', 'spats1', 'akr1b10', 'pkia', 'cdx4', 'prr32', 'xirp1', 'gimap6', 'cd180', 'pla2g5', 'asb3', 'syngr3', 'fmn1', 'nhsl1', 'cd36', 'ttc21a', 'c1orf159', 'osbp', 'dmkn', 'krtap10-7', 'osgin1', 'septin12', 'tusc2', 'krt32', 'dspp', 'sel1l3', 'cadm3', 'rnaset2', 'cdk20', 'rras', 'zfp3', 'pcdh12', 'znf43', 'trappc13', 'marco', 'art1', 'bub3', 'ugt2b7', 'sec62', 'acss3', 'tbr1', 'cntfr', 'bcl2l2', 'herpud1', 'grk5', 'ccdc168', 'mrgprg', 'btn3a2', 'gtdc1', 'smim38', 'tcap', 'rnase11', 'zw10', 'herc1', 'cd37', 'lair2', 'pcgf6', 'shprh', 'grid2', 'kiaa1549l', 'arpc3', 'ell', 'dnm2', 'or52n2', 'tppp', 'stk31', 'colgalt1', 'tomm40', 'fabp1', 'lrrc70', 'insrr', 'znf337', 'tmem65', 'pvalef', 'ccr4', 'phf5a', 'cnot2', 'polr2d', 'slc18b1', 'osbpl10', 'tdrkh', 'tiam2', 'pianp', 'pappa', 'micu1', 'cntn3', 'ep400', 'slc19a1', 'tlr7', 'mvb12b', 'efcab12', 'fbxl19', 'oaz2', 'alkbh4', 'ly6g5c', 'cited2', 'cd28', 'lrrfip2', 'etv7', 'prame', 'havcr2', 'galntl6', 'efna1', 'armh1', 'znf107', 'noto', 'adora1', 'scn7a', 'ttll13p', 'tmem256', 'synj1', 'taf7l', 'dnase1l1', 'idi1', 'sdccag8', 'nudt12', 'slc22a25', 'commd3', 'znf17', 'mapre3', 'samd10', 'rad54b', 'ddb1', 'rpn1', 'tiaf1', 'dzip1', 'hgfac', 'ccdc66', 'tlr3', 'fam104a', 'faap20', 'efcab6', 'or5h2', 'abcb11', 'creb5', 'atp6v1b2', 'noc3l', 'dlg3', 'brpf1', 'eif2ak2', 'rab4a', 'ndufb8', 'or5d3p', 'chrna3', 'pla2g2c', 'prl', 'calml6', 'il23r', 'rnf39', 'uncx', 'zdhhc12', 'trim44', 'defb1', 'mier1', 'dach1', 'magee1', 'sema6d', 'eif4b', 'rpp25l', 'zmat4', 'irf2bp1', 'nadk', 'lrrc40', 'scaper', 'lrrtm3', 'depdc7', 'chpf2', 'lama1', 'ints4', 'gab1', 'susd3', 'rbmx', 'rraga', 'ino80b', 'cxcl5', 'znf410', 'tmem237', 'fkbp3', 'ttc36', 'nckap5l', 'dmgdh', 'smim19', 'pigt', 'pou1f1', 'dnal4', 'gtf2h3', 'adar', 'cdk3', 'dennd10', 'slc40a1', 'eps8l3', 'cep162', 'kif25', 'sprn', 'gpr35', 'hirip3', 'itgb3bp', 'mc5r', 'stab1', 'prr35', 'npy2r', 'ddrgk1', 'ifnar1', 'puf60', 'dera', 'dffb', 'smpdl3a', 'gpd2', 'foxn4', 'ccne2', 'nrros', 'myo1g', 'slc29a2', 'hnrnph2', 'scygr4', 'adcy6', 'slc27a6', 'atp6v1c2', 'neurl4', 'svbp', 'cops5', 'clec2a', 'cbll2', 'pmpcb', 'dot1l', 'pbx2', 'timp4', 'habp4', 'esrrb', 'iyd', 'tm6sf1', 'xg', 'samd11', 'drd3', 'aasdh', 'mbd3', 'usp42', 'chi3l1', 'eif4g3', 'minpp1', 'c13orf46', 'actg2', 'gla', 'pus10', 'c1orf115', 'ina', 'muc15', 'yy2', 'efhd2', 'lvrn', 'kcns1', 'higd2b', 'ccdc171', 'chrm5', 'lrrc36', 'ppp1r16a', 'serac1', 'pi4kb', 'dazap2', 'znf385d', 'gjd4', 'aldoc', 'ccnb3', 'slc35f1', 'rmnd5a', 'epx', 'spink2', 'slc7a6os', 'kdm6a', 'fgf23', 'commd4', 'nfx1', 'mical3', 'cops6', 'tmem97', 'ifitm2', 'dip2c', 'prac1', 'nelfa', 'cth', 'renbp', 'pebp4', 'arl6ip4', 'zmynd11', 'srpk1', 'trmt61b', 'mmp10', 'os9', 'rad50', 'nudt21', 'praf2', 'patj', 'crtac1', 'fam71e2', 'psmb8', 'fzd10', 'clvs1', 'gsap', 'coa4', 'cln3', 'tuba1c', 'gramd1c', 'prdm4', 'nrg1', 'inpp5e', 'ccdc201', 'map1b', 'znf790', 'grin2a', 'slc38a5', 'dcp1a', 'nisch', 'pyroxd1', 'slurp2', 'slc22a16', 'cryzl1', 'sec16a', 'cped1', 'c16orf89', 'megf9', 'cerkl', 'lrrc2', 'pi4k2b', 'epg5', 'nr0b1', 'fnbp1', 'exoc2', 'megf11', 'dicer1', 'bub1', 'dyrk1b', 'tprg1', 'eri1', 'muc2', 'brd8', 'dusp5', 'ppp1r3g', 'or10g3', 'vps4b', 'ccl16', 'naa11', 'cbarp', 'flvcr1', 'olfml3', 'hyls1', 'c12orf43', 'pramef10', 'ggt7', 'gypa', 'znf518a', 'ripk3', 'tln2', 'aatf', 'klk11', 'slc28a3', 'samd14', 'helb', 'mad2l2', 'gcc1', 'smim27', 'ptpn21', 'ralyl', 'pstpip1', 'ninl', 'ptk2b', 'acer3', 'dph7', 'ackr3', 'pced1b', 'sox3', 'atp6v1g2', 'fblim1', 'pgm3', 'atad2', 'hoxc13', 'dnajc18', 'carns1', 'fam155a', 'nck2', 'gpat3', 'nop14', 'lclat1', 'pctp', 'gpr87', 'trappc5', 'klf6', 'lpcat3', 'ppp1r10', 'srrm2', 'myl12b', 'ccdc124', 'cramp1', 'tmem25', 'adgre2', 'slc25a24', 'inka1', 'cyp51a1', 'pbdc1', 'ccin', 'rbms1', 'tpr', 'hacl1', 'cd248', 'zkscan2', 'ulk2', 'gsr', 'grn', 'col6a2', 'apof', 'znf566', 'vgll1', 'krt25', 'snrnp35', 'ramac', 'gpatch1', 'bckdha', 'wdr33', 'ccdc22', 'adra2b', 'pcdhb1', 'ctxn2', 'pls3', 'tnpo2', 'rgs14', 'tpst2', 'znf626', 'foxd4l6', 'pde5a', 'ssx3', 'igdcc3', 'lap3', 'alox5ap', 'dhdds', 'lrrc8d', 'zbbx', 'mast4', 'il4', 'muc21', 'llcfc1', 'gkap1', 'ascl5', 'pnpla2', 'page4', 'setd6', 'ttc4', 'ifna16', 'clcn4', 'spata46', 'shbg', 'sbspon', 'dcaf11', 'rasgrf1', 'znf723', 'phospho2', 'piga', 'cpa4', 'znf780a', 'cdk19', 'hspa8', 'gpr84', 'pnpla6', 'gpr161', 'intu', 'fndc5', 'erbin', 'igll1', 'capn12', 'batf2', 'adam12', 'lsm14a', 'mob1b', 'vstm2a', 'cab39l', 'ltbp2', 'hspb9', 'rsl1d1', 'c9orf116', 'uhrf1bp1', 'bnip1', 'recql', 'erbb2', 'hoxb5', 'csnk1d', 'serpina5', 'hdac5', 'antxrl', 'homer2', 'alx3', 'nup107', 'fuca1', 'fam193a', 'lad1', 'azgp1', 'rbm6', 'rp1l1', 'cybb', 'mrgprx4', 'igf2bp1', 'bag2', 'c19orf12', 'tmprss11d', 'atf5', 'gvqw3', 'znf850', 'atxn10', 'tstd2', 'chst8', 'tfec', 'umod', 'kctd4', 'armcx1', 'magea6', 'pxt1', 'atp9a', 'hoxc5', 'mroh9', 'npm2', 'znf74', 'ctsk', 'prss38', 'dusp4', 'c5orf46', 'glce', 'litafd', 'tufm', 'siglec9', 'coa3', 'braf', 'ttc9c', 'or8h1', 'raet1l', 'slitrk1', 'slc37a3', 'pkp1', 'vegfa', 'cd24', 'lama2', 'hax1', 'pxylp1', 'wasf2', 'cdc42bpg', 'cfdp1', 'fmo2', 'il1rl2', 'pfdn5', 'wdr81', 'acyp1', 'sptssa', 'esam', 'cd44', 'c11orf21', 'znf541', 'stk19', 'shisa2', 'ms4a6a', 'mkks', 'chst14', 'trmt1', 'atp13a5', 'prmt5', 'ubl4b', 'znf609', 'tgif2lx', 'lepr', 'dhfr', 'or52e5', 'plglb2', 'phgdh', 'mpz', 'tnp2', 'triml2', 'cdh12', 'rhof', 'med31', 'cep41', 'stag1', 'slc16a3', 'ciao1', 'pck1', 'tmed6', 'yod1', 'rsbn1l', 'zbed6cl', 'dnah8', 'arsh', 'pifo', 'sharpin', 'ift52', 'ddn', 'c1orf226', 'gli3', 'det1', 'ing1', 'mchr1', 'tsfm', 'or10r2', 'drd4', 'pcdha2', 'mtnr1b', 'kras', 'krtap4-5', 'nkrf', 'uchl3', 'gjb1', 'krt2', 'axin1', 'rnf166', 'or5d18', 'gpc3', 'clec10a', 'pim2', 'dlec1', 'ms4a5', 'myo3a', 'foxm1', 'dhrs3', 'atp6v0a4', 'pecr', 'trappc12', 'eif2ak1', 'hmhb1', 'rbm27', 'timm23', 'zbed2', 'sftpa1', 'mindy1', 'adam18', 'or52b2', 'ralbp1', 'znf185', 'kiaa0232', 'trabd2a', 'tmem147', 'csrp1', 'cntnap3', 'lcor', 'rhobtb2', 'prr5', 'c2orf15', 'rfx5', 'ttll7', 'atp13a3', 'gprc5d', 'ninj2', 'nfia', 'oosp1', 'setbp1', 'pdcd6', 'krtap6-2', 'p2rx2', 'ell2', 'muc22', 'tcp1', 'pllp', 'kiaa0100', 'cd300lb', 'slc35f5', 'pxdc1', 'nutm2a', 'znf747', 'sptlc3', 'pak1', 'ccp110', 'adamtsl1', 'poldip2', 'setd9', 'ep300', 'dnajc15', 'foxs1', 'kcnk16', 'defb132', 'plekhm2', 'pcyox1l', 'rpn2', 'gnb1', 'adgrf2', 'aco1', 'tmem207', 'adm', 'krt27', 'znf792', 'kcna3', 'siglec10', 'coq4', 'tnfaip8', 'klc4', 'tas2r38', 'prodh2', 'rsph4a', 'defb114', 'slc26a2', 'tfe3', 'cadm4', 'capn8', 'golga7b', 'dnajb11', 'rorb', 'stx1b', 'pmfbp1', 'phb', 'c5', 'tmem79', 'sfxn5', 'snx11', 'srrm5', 'svip', 'exo5', 'id1', 'znf768', 'slc2a10', 'atp5pb', 'xkr7', 'igsf1', 'tox3', 'tbc1d22a', 'alox15b', 'dsn1', 'smarcc1', 'trip11', 'ncoa4', 'frem2', 'lonp2', 'abcd1', 'fastkd5', 'plk1', 'stard7', 'sh2b3', 'dclre1b', 'atg2a', 'zc3h13', 'sbno2', 'c19orf73', 'nell1', 'med1', 'znf560', 'slitrk4', 'lhfpl4', 'marveld1', 'tor1aip1', 'il37', 'chst7', 'marcksl1', 'ankrd44', 'c6orf52', 'hsph1', 'unc50', 'eqtn', 'tfap2a', 'gpc1', 'adamts20', 'gpa33', 'eme2', 'arrdc5', 'plekhj1', 'vps25', 'itgav', 'tmem176a', 'izumo1', 'hat1', 'slc5a10', 'hes7', 'hmgb2', 'dagla', 'stk32a', 'pnma2', 'sec22b', 'eif1b', 'fank1', 's1pr2', 'zhx2', 'bcl2l10', 'pkib', 'lekr1', 'shf', 'c8orf34', 'ppfibp1', 'hykk', 'pgk2', 'zxdc', 'adgrl3', 'mmp8', 'atad3b', 'pdcd6ip', 'smyd1', 'secisbp2', 'zbtb14', 'pik3c2g', 'acad10', 'kbtbd6', 'p2ry11', 'agxt', 'osgep', 'ssuh2', 'pabpn1l', 'tnfrsf12a', 'bcorl1', 'krtap20-4', 'mmp20', 'p2ry14', 'mprip', 'rfx8', 'derpc', 'rufy1', 'fcgbp', 'tsen15', 'mef2d', 'rnpepl1', 'daxx', 'sgsm3', 'card10', 's100p', 'phldb1', 'gkn1', 'klhdc2', 'mst1r', 'tst', 'als2', 'irf8', 'c1rl', 'slc25a48', 'chtf8', 'ppp1r1b', 'cdkn1a', 'tmem19', 'bpifb2', 'trmo', 'calhm2', 'robo4', 'vbp1', 'rgs8', 'clspn', 'card11', 'mme', 'kitlg', 'phyhd1', 'eys', 'sp9', 'erich5', 'tent5d', 'rabif', 'gan', 'c2', 'ccdc90b', 'zdhhc17', 'paip1', 'arl5a', 'ipmk', 'septin14', 'otp', 'sytl1', 'helz', 'bag4', 'ppil1', 'krba1', 'rspo4', 'gpr62', 'csmd3', 'copb2', 'apold1', 'aen', 'r3hdm4', 'pvr', 'spanxb1', 'dtnbp1', 'emsy', 'aars2', 'esrp1', 'acadvl', 'leo1', 'nipbl', 'adamts3', 'slc2a8', 'spink8', 'mettl26', 'dgat2', 'sult1b1', 'diaph1', 'oprk1', 'gps2', 'rab5a', 'lrrc55', 'tex50', 'pfas', 'manbal', 'ptdss1', 'kif27', 'slc12a9', 'c2orf72', 'itgb8', 'maneal', 'arih2', 'smim4', 'or10h2', 'dck', 'rfc5', 'ccnb1ip1', 'gfy', 'wdr47', 'tmem61', 'gpaa1', 'khdrbs2', 'spata5l1', 'psmd2', 'rgl2', 'ak9', 'rlim', 'ensa', 'sco2', 'ebf2', 'efcab3', 'ssc5d', 'ncald', 'cbln1', 'mknk1', 'galnt11', 'rtp3', 'dusp23', 'klhl21', 'anxa2', 'plekhm1', 'syt8', 'mmp12', 'drg2', 'slfn11', 'smim26', 'sh2d1b', 'rnf25', 'fbxl22', 'slamf8', 'or10q1', 'unk', 'nyx', 'sfxn2', 'morn2', 'fam170b', 'man2b2', 'cgn', 'itga3', 'clhc1', 'cpox', 'or2b6', 'trim10', 'nxnl2', 'upk1a', 'pofut1', 'nkx6-1', 'tmem238l', 'prr36', 'ceacam4', 'bhlhe22', 'lpar4', 'apc2', 'ckap2', 'rnaseh2b', 'gadd45a', 'ndnf', 'xpo7', 'trim6', 'eif4g1', 's100a16', 'ctse', 'syt16', 'plxnd1', 'pick1', 'trim11', 'ern2', 'chaf1b', 'spin2b', 'trim7', 'st6galnac2', 'map3k7cl', 'znf317', 'ube2e3', 'pcdhb13', 'anp32d', 'pfkfb1', 'rag2', 'khdrbs1', 'dnaja2', 'prkcq', 'vac14', 'baalc', 'macrod1', 'socs2', 'selenoi', 'fam227a', 'bzw2', 'tecrl', 'ipo8', 'mospd3', 'ddo', 'maoa', 'mecom', 'atg14', 'smim22', 'adcy9', 'ccser2', 'erich4', 'srbd1', 'hoxd4', 'slc5a5', 'ilf3', 'gata2', 'ephb1', 'krtcap3', 'eif2ak4', 'pgp', 'tbc1d28', 'krt13', 'klhl26', 'fbln7', 'nsa2', 'ptrh2', 'ccdc68', 'spint2', 'fam183a', 'rnh1', 'serpina4', 'shfl', 'ndufs4', 'lrrn1', 'clrn3', 'kcnb1', 'wls', 'or2l13', 'far1', 'cpped1', 'wdr18', 'fkbp8', 'cd46', 'zyg11b', 'nhlh1', 'blzf1', 'gadl1', 'mapkapk3', 'fam71d', 'tmem249', 'fam222b', 'ccnf', 'asxl3', 'tmem168', 'iws1', 'uap1l1', 'mpdz', 'dgcr8', 'wscd2', 'tdrd7', 'she', 'cdc42ep3', 'kat5', 'mt1f', 'strbp', 'isoc2', 'emp1', 'mlx', 'zswim1', 'nrip1', 'tmem69', 'mrgpre', 'denr', 'whamm', 'znf268', 'c4orf48', 'itgb1', 'brpf3', 'dlk2', 'or52n5', 'sox12', 'impact', 'riok3', 'ntf4', 'srpra', 'meiob', 'kdm4b', 'fam229a', 'ddx39b', 'xxylt1', 'clba1', 'hsf4', 'il21', 'tmem200a', 'gria4', 'wsb1', 'soga1', 'cox7a1', 'prlr', 'syt14', 'mdfic2', 'mak', 'tmem217', 'bag1', 'cfap69', 'pkd1l3', 'knl1', 'pheta2', 'mall', 'agtr2', 'exosc3', 'cyfip2', 'srsf7', 'dio2', 'fgd6', 'gbp3', 'zglp1', 'ldhb', 'crhr2', 'grtp1', 'rcor1', 'lrp8', 'pkn3', 'cpeb3', 's1pr1', 'fam151b', 'plekhf2', 'lrrc1', 'slit1', 'dnah5', 'pycr3', 'vipr2', 'tcof1', 'fcgrt', 'vdac1', 'trim32', 'klrc4', 'or1a2', 'snrnp40', 'laptm4b', 'znf316', 'sorcs1', 'agbl2', 'capn1', 'psapl1', 'mt1g', 'cep295nl', 'b3gat1', 'dcdc2', 'eva1c', 'them4', 'cercam', 'ube2v1', 'il1rl1', 'or56b1', 'lgi2', 'mapk14', 'arg1', 'igip', 'or5m3', 'gnb3', 'fpr2', 'tmed2', 'cldn8', 'clec4f', 'simc1', 'slc13a1', 'rabep2', 'or6c6', 'bcl6b', 'vcan', 'acod1', 'slc30a8', 'cstl1', 'mafk', 'minar2', 'batf3', 'scamp5', 'mgat1', 'znf654', 'znf281', 'ccl11', 'pcdh20', 'pex11b', 'cox14', 'cxxc5', 'nr1h3', 'fam161a', 'znrf1', 'ccdc134', 'trpc1', 'gtf2i', 'or6c74', 'fbxl5', 'slit2', 'timm22', 'ppp2r5d', 'ankdd1b', 'etfb', 'fam209b', 'znf84', 'ppp3r1', 'lef1', 'ldhal6a', 'sel1l', 'zbtb20', 'mettl6', 'pde6g', 'blcap', 'ocstamp', 'rsrp1', 'klhl5', 'stmn2', 'gabrg1', 'cyb5r1', 'dnajb6', 'hemk1', 'naa30', 'timm8b', 'gpr108', 'tmem72', 'tmprss11e', 'lgals9c', 'mtmr2', 'ky', 'adam20', 'fth1', 'cox10', 'bmp6', 'tap1', 'ugdh', 'or2s2', 'znf816', 'crybg2', 'dync2li1', 'foxe3', 'fut7', 'myc', 'gmnc', 'fam160a2', 'urb1', 'chtop', 'adnp', 'tafa4', 'fam83h', 'snca', 'syce1l', 'csgalnact2', 'nhlrc4', 'nrep', 'ciao2a', 'mgat3', 'stoml2', 'nol7', 'cx3cr1', 'nipsnap3a', 'manf', 'mt1a', 'cd164l2', 'begain', 'ctxn3', 'vsig4', 'dnah10', 'dzip1l', 'nr4a3', 'cxcl13', 'dclre1c', 'gsto2', 'inca1', 'cd300lg', 'nrn1l', 'il1a', 'fam204a', 'snapc2', 'pofut2', 'znf280a', 'cd99l2', 'fcrl5', 'mmrn1', 'kat6b', 'sulf2', 'capn14', 'angptl5', 'cfl1', 'map4k4', 'ttc6', 'tbc1d3b', 'ephx2', 'hspa4l', 'pcbd2', 'tbl1xr1', 'reeld1', 'rprd1a', 'prkce', 'rbbp9', 'cds1', 'cfap97', 'znf774', 'cnga3', 'ccdc181', 'ervk3-1', 'ankle2', 'rbl2', 'dbndd1', 'fyb1', 'znf485', 'traf3', 'tmem199', 'nrbf2', 'enkd1', 'edc4', 'gprin1', 'pomt2', 'kcnj13', 'rnase6', 'tomm34', 'nrap', 'plin5', 'lrch3', 'adgrd2', 'vav2', 'trub2', 'or5p2', 'trmt112', 'spag5', 'znf433', 'atp5pf', 'pcdh7', 'bbs1', 'rims2', 'elovl7', 'kcnc4', 'ppp1r12b', 'pglyrp2', 'ttr', 'tmod4', 'fam200b', 'stra8', 'rab27b', 'clpsl1', 'tob2', 'c1ql1', 'zdhhc8', 'ubxn10', 'nudcd2', 'or13c5', 'fabp2', 'thop1', 'proc', 'prkacg', 'l3mbtl3', 'ywhae', 'inhba', 'cltc', 'dock6', 'hsd17b4', 'pgam2', 'rab12', 'tigd6', 'or6c68', 'isg15', 'hsf1', 'pafah1b1', 'ap3d1', 'erfe', 'fam174a', 'evl', 'nprl2', 'nfatc2ip', 'me1', 'brca1', 'ctnnd2', 'krtap1-1', 'aldh9a1', 'atp5me', 'calcoco1', 'cfap221', 'hao1', 'rgs2', 'arid1b', 'npw', 'abhd14a', 'gnai1', 'swap70', 'coa7', 'tnfrsf25', 'gpx2', 'anks3', 'npb', 'ino80e', 'tpm4', 'macc1', 'atp6v1c1', 'eif1', 'rnase2', 'aicda', 'gnmt', 'gtf2e2', 'map3k11', 'tbc1d20', 'ccdc89', 'leap2', 'or8d1', 'or4q3', 'lst1', 'maip1', 'tctn3', 'muc6', 'or4a15', 'ids', 'cfap126', 'pank1', 'pfkp', 'nlrp12', 'ceacam7', 'kiaa0319l', 'b4galt3', 'tmem154', 'map3k14', 'mitd1', 'cd79a', 'calu', 'uba3', 'naif1', 'psmg3', 'lonrf1', 'nt5dc3', 'doc2b', 'pkd2l2', 'dscc1', 'bcr', 'gch1', 'atad3a', 'rmc1', 'podnl1', 'fars2', 'ecd', 'tepp', 'eif5b', 'ap3m1', 'ncapg', 'slc9a3r1', 'gcnt7', 'hes5', 'guca2a', 'atpaf2', 'dkc1', 'chchd1', 'mpp2', 'usp33', 'hrg', 'dnd1', 'golga5', 'sytl3', 'mrm3', 'lama4', 'tacr2', 'tfpi', 'tram2', 'rrp8', 'lrrk2', 'chchd5', 'gnpda1', 'klf13', 'prss53', 'gdap2', 'lilrb2', 'wdr48', 'tfrc', 'cklf', 'myzap', 'eps15', 'mtrex', 'cntnap2', 'cpa2', 'myrf', 'hcar3', 'cdv3', 'ryk', 'ccdc169', 'tox4', 'mlec', 'comt', 'chic1', 'cog2', 'c1orf210', 'txlng', 'spock2', 'slc19a2', 'hmx1', 'rnf146', 'sgf29', 'gipc2', 'homer3', 'krt75', 'epm2a', 'dmxl1', 'mcm10', 'immp1l', 'epha6', 'sprr2f', 'c6orf226', 'oasl', 'vamp5', 'eci1', 'drich1', 'casp7', 'hpca', 'slc16a11', 'ogfod1', 'nrf1', 'nsmaf', 'rsu1', 'gpr37', 'mmgt1', 'slc2a4rg', 'efemp2', 'coq2', 'rmi2', 'ppp4c', 'zfyve1', 'cacna1s', 'nmrk2', 'tmem123', 'fyco1', 'khnyn', 'lsm8', 'abca1', 'ube2k', 'dscaml1', 'ipo5', 'pla2g4f', 'filip1l', 'ccnt1', 'kcnab3', 'bcar3', 'znf672', 'cdk18', 'emx1', 'eif3a', 'cyp27b1', 'cct6b', 'htr3e', 'or4a5', 'ccdc106', 'stim2', 'fhl3', 'sprr4', 'vax2', 'sipa1l3', 'app', 'atp5mc2', 'msln', 'hoxb2', 'mmadhc', 'lcn8', 'depdc4', 'lilra2', 'sema3e', 'fam98a', 'serpinb11', 'mdh2', 'zfr2', 'dbndd2', 'tysnd1', 'ttc31', 'nme8', 'msantd2', 'rnf185', 'fdx1', 'sugp1', 'pskh1', 'rtn4rl1', 'bpifb4', 'fam117a', 'samm50', 'adcy1', 'dnmt3l', 'acad8', 'ap3b2', 'arpc2', 'pafah1b2', 'galnt1', 'sptbn2', 'ccdc137', 'ccdc194', 'padi6', 'raet1e', 'oxer1', 'cdk17', 'rtbdn', 'prrt4', 'fcgr3b', 'atp6v0c', 'patz1', 'tmcc2', 'fabp4', 'slc30a1', 'stx19', 'shb', 'wdr38', 'smim31', 'lrrk1', 'med24', 'timm21', 'krt77', 'bnc2', 'zfhx3', 'hmga2', 'foxl1', 'clec11a', 'ccdc50', 'tspo', 'pramef2', 'rab1b', 'tac1', 'gxylt1', 'pfdn2', 'fgf3', 'ifng', 'faslg', 'bzw1', 'bet1l', 'usp6', 'krt8', 'slc16a8', 'cfap100', 'cldn9', 'znf629', 'rspry1', 'c16orf86', 'casp14', 'syndig1', 'brs3', 'usp17l7', 'adgre5', 'prpf40b', 'inha', 'stoml1', 'map3k15', 'or13h1', 'plcl2', 'ythdf2', 'mapkapk5', 'tex2', 'rhoj', 'cdh22', 'klhl7', 'havcr1', 'cdk5rap2', 'muc16', 'kiaa1191', 'cers5', 'zfp62', 'adck5', 'arap1', 'or2v2', 'sdhaf4', 'heatr5a', 'lrrc41', 'galnt7', 'vhl', 'rab13', 'mtrf1l', 'ptchd1', 'rfesd', 'tmem33', 'eef1e1', 'ppfibp2', 'creld2', 'tex52', 'pemt', 'cchcr1', 'c17orf50', 'msi2', 'kif4a', 'sat1', 'col27a1', 'hrk', 'pold1', 'epn3', 'eef2k', 'mthfsd', 'dis3l2', 'bmi1', 'vps39', 'srd5a3', 'sfxn1', 'rcan2', 'defb112', 'trit1', 'qpctl', 'ankmy1', 'ice2', 'spesp1', 'fam174b', 'mycbpap', 'cldn12', 'hgs', 'prxl2c', 'c14orf180', 'ruvbl2', 'wfs1', 'or6y1', 'fcho2', 'nfrkb', 'ext1', 'cox4i2', 'itgb4', 'sf3b3', 'carm1', 'uchl5', 'trabd2b', 'srp19', 'kcnd1', 'golga6l2', 'ipo4', 'odc1', 'ckm', 'zbed3', 'arnt', 'msl1', 'sfta2', 'fam171b', 'or12d2', 'mlph', 'pms2', 'sstr2', 'hoxa9', 'gimap8', 'csrnp3', 'ankrd46', 'omp', 'lrcol1', 'gnaz', 'dock7', 'lrrc32', 'neurod2', 'fhod1', 'ssx2ip', 'ankrd63', 'cnp', 'ccdc198', 'c1orf116', 'rcor2', 'or6q1', 'plxna2', 'smad9', 'trim69', 'higd1b', 'tlx3', 'cyp4v2', 'klf9', 'samd9', 'znf782', 'tchp', 'prr30', 'slc15a4', 'raf1', 'pacrgl', 'trappc8', 'klk9', 'ccl28', 'heph', 'or2c3', 'gstt2b', 'wdr20', 'kank3', 'map3k2', 'crygs', 'kank4', 's100a4', 'eed', 'ccdc112', 'trmt6', 'sem1', 'tbxt', 'spns2', 'ints1', 'polq', 'mblac2', 'tmem87b', 'cntn4', 'or2a14', 'znf366', 'smtnl2', 'anapc11', 'prtn3', 'znf606', 'mycbp', 'fbxo6', 'rif1', 'prkag3', 'vim', 'pcyt1a', 'arl4a', 'arhgdib', 'heatr3', 'mcm5', 'scrib', 'vcp', 'scgb1a1', 'rnaseh2c', 'aqp5', 'erg28', 'znf25', 'myadml2', 'zg16', 'ceacam20', 'ripor3', 'ctif', 'cryba4', 'vsig8', 'tmem151a', 'cox7b2', 'tnks1bp1', 'adcy7', 'znf700', 'slc25a20', 'pold2', 'vamp1', 'znf98', 'thnsl1', 'mbnl1', 'mta2', 'sdf4', 'hs3st6', 'dhrs9', 'jak1', 'pold4', 'dnajc28', 'cdc25a', 'hp', 'nup35', 'prb4', 'glipr1l1', 'nkain1', 'fndc3b', 'tollip', 'zdhhc3', 'abhd17c', 'rnf157', 'c18orf25', 'bdh2', 'scml1', 'kctd6', 'pipox', 'c12orf56', 'txnrd2', 'nucks1', 'acsm4', 'kif23', 'uqcrfs1', 'gk5', 'kel', 'or14a2', 'psen1', 'znf304', 'dcstamp', 'or52e4', 'mansc1', 'lmcd1', 'polr2k', 'lsm12', 'dnajb1', 'frmd3', 'adamtsl5', 'dnase1', 'ros1', 'gpt2', 'gorab', 'vash1', 'cfap58', 'bbs12', 'tcf4', 'dzank1', 'senp2', 'col11a1', 'rsph10b2', 'poglut2', 'ap4b1', 'cfi', 'dctn3', 'ung', 'rora', 'srsf2', 'dedd2', 'klhl3', 'lce2b', 'secisbp2l', 'slc9a4', 'mon1b', 'zcchc14', 'dnah11', 'dnai1', 'commd10', 'asic2', 'gcnt3', 'znf236', 'yipf4', 'uqcrc1', 'sh3rf2', 'tbcd', 'kalrn', 'cacna1g', 'kbtbd8', 'pcbp4', 'alg8', 'tas2r14', 'antxr1', 'hoxd10', 'itgbl1', 'dbnl', 'alox15', 'sdk2', 'aurkc', 'ttll4', 'rab19', 'atxn7l3', 'c6orf163', 'asxl1', 'tlr6', 'znf730', 'mycl', 'fam131b', 'fsd2', 'fam110a', 'parm1', 'enoph1', 'cyp2c9', 'znf717', 'dhx33', 'ppm1f', 'zcchc18', 'krt31', 'eogt', 'pcdhb3', 'mier3', 'pde1c', 'prtfdc1', 'dlx4', 'esd', 'mul1', 'dclk3', 'kctd9', 'phf10', 'akr1b1', 'ppp1r12c', 'syt6', 'znf202', 'scn8a', 'fbxo28', 'ecm2', 'washc5', 'c10orf82', 'tmem223', 'tmem160', 'pdyn', 'ppp1r32', 'brd1', 'gpr137c', 'atp5mc1', 'fmo5', 'tnfrsf4', 'psmd9', 'trim31', 'fibcd1', 'nxph4', 'crip2', 'znf26', 'nrg3', 'abcc2', 'mageb1', 'ap4m1', 'glis2', 'znf503', 'orc2', 'itih6', 'sohlh1', 'ift172', 'spata16', 'klc3', 'gnb1l', 'epn2', 'fam71e1', 'galm', 'thap4', 'lgmn', 'ap1m1', 'palmd', 'zbtb48', 'ccdc180', 'gabrb3', 'prkcsh', 'paxip1', 'c19orf47', 'klhl8', 'lypd8', 'upp1', 'pgpep1', 'col14a1', 'josd2', 'asb8', 'slc4a7', 'pradc1', 'anxa11', 'lpcat2', 'ckap4', 'fam171a2', 'ccn5', 'abcb8', 'dnttip1', 'hfm1', 'myog', 'taar9', 'rbm34', 'ahcy', 'nosip', 'gpcpd1', 'lrrn4', 'ost4', 'pip5k1a', 'endov', 'alkal1', 'siae', 'utp25', 'gpr65', 'e2f1', 'nat1', 'chmp4c', 'mpzl3', 'kif17', 'plod1', 'atoh7', 'tbc1d8', 'btn2a2', 'brsk1', 'pla2g10', 'eps8l2', 'tmem225b', 'elavl4', 'tmem232', 'ccl3l1', 'defb125', 'arsd', 'rad51ap2', 'calhm5', 'fat1', 'eno4', 'pcp4', 'tusc3', 'clec20a', 'brat1', 'fubp1', 'erp44', 'stx7', 'cisd1', 'ankrd13a', 'mt1x', 'pak5', 'tmem130', 'dpf3', 'mrto4', 'mthfd1', 'ttc39b', 'arl14ep', 'sema3f', 'bbs2', 'dhx8', 'or14c36', 'prss55', 'tlx1', 'or9q2', 'ager', 'erg', 'ccdc87', 'tlr4', 'ndufs3', 'kif21a', 'calcoco2', 'nipal1', 'zc3h12d', 'slc31a2', 'mepce', 'taf1l', 'pop4', 'icam2', 'fbxo27', 'kat7', 'tas2r30', 'mppe1', 'med16', 'atp8b2', 'cyp19a1', 'c10orf105', 'kcnk7', 'itpkb', 'pogz', 'hdac2', 'nodal', 'acss2', 'tmem41b', 'mterf4', 'chdh', 'or2k2', 'ccna1', 'rufy3', 'dennd5a', 'c14orf119', 'clic2', 'rnmt', 'bcar1', 'nagk', 'atp5po', 'znf287', 'exoc3', 'c2cd4a', 'mfsd4b', 'c4orf36', 'ndufv1', 'tmigd3', 'slc3a2', 'c7orf33', 'pir', 'fndc7', 'nt5dc1', 'pdgfc', 'gpr146', 'znf888', 'npy1r', 'serpine3', 'gstk1', 'exoc4', 'gnai3', 'hinfp', 'tma16', 'chrna7', 'rtf2', 'fbxl18', 'adarb1', 'cep350', 'gadd45gip1', 'ptch1', 'znf76', 'eif4a1', 'obscn', 'ormdl1', 'map4k2', 'bpi', 'prps1', 'thap3', 'phrf1', 'htr5a', 'pdss2', 'chst12', 'ralgapa1', 'tfpi2', 'shoc2', 'or14a16', 'cyb5r3', 'duox2', 'bgn', 'serpinb9', 'cnpy3', 'hecw2', 'bmp4', 'klhl29', 'zfr', 'mgat5b', 'c4orf54', 'etnk1', 'tesmin', 'iqcm', 'fmo3', 'clic5', 'prdm16', 'tet1', 'ripply3', 'mtx2', 'srsf12', 'ovch2', 'kat2a', 'glod5', 'tfb1m', 'tespa1', 'bend7', 'uhrf2', 'pgbd4', 'pdik1l', 'or6n1', 'sycn', 'nr1d1', 'irak3', 'abca8', 'dok3', 'cxxc1', 'pex7', 'znf536', 'cox7b', 'duoxa1', 'slc9c1', 'znf491', 'clcn5', 'lmo4', 'pou3f3', 'grin1', 'thg1l', 'slc7a4', 'dynll1', 'myh9', 'rbm25', 'nutm2e', 'pak1ip1', 'gnrh2', 'iqub', 'tnip2', 'fam131a', 'trub1', 'hyal2', 'arntl', 'crebzf', 'hmgn1', 'znf112', 'plekha7', 'evi2b', 'nit1', 'rpusd1', 'dcx', 'nsdhl', 'irgc', 'nos1', 'nox5', 'cd274', 'dolk', 'polr3c', 'rhob', 'znf254', 'znf827', 'arhgef25', 'ntng1', 'znf99', 'aida', 'zbtb46', 'fam149a', 'znrf3', 'fam162b', 'tnfrsf8', 'actl8', 'znf675', 'lrrc69', 'tff3', 'sec22c', 'lrpap1', 'ccdc71', 'nras', 'tssc4', 'ptprd', 'lsm3', 'ikbkg', 'morf4l2', 'fam13b', 'gtf2f2', 'cenpo', 'cep97', 'pex2', 'dbf4b', 'dipk2b', 'ptbp2', 'hmces', 'atp5pd', 'septin6', 'phb2', 'idh3b', 'cisd2', 'gon7', 'ushbp1', 'acadl', 'wnt7a', 'dmac2l', 'c3orf49', 'pde3b', 'hddc3', 'fcsk', 'mib2', 'clk4', 'nxpe2', 'atp10a', 'xrcc4', 'brwd1', 'panx2', 'foxl2', 'slc25a40', 'angptl2', 'or3a1', 'gpat4', 'esrp2', 'pecam1', 'tyr', 'arhgef11', 'or2a4', 'prr20g', 'dop1a', 'hmgn3', 'slc24a2', 'znf83', 'cldn17', 'nipal2', 'phgr1', 'tenm1', 'scn3b', 'dcaf15', 'kbtbd2', 'tnfrsf10a', 'ints12', 'cldn15', 'defb116', 'usp11', 'tmem60', 'rnft1', 'rec8', 'lactb', 'has1', 'nbpf20', 'gpr107', 'slc25a28', 'commd9', 'hs6st3', 'tnfaip8l1', 'id3', 'idh2', 'elspbp1', 'galr2', 'mcmbp', 'plcd1', 'pelo', 'lmna', 'psmd1', 'mib1', 'dnali1', 'tnfaip6', 'vps52', 'ints10', 'gramd2b', 'phf2', 'abca9', 'mt-nd1', 'crat', 'tmem114', 'tkfc', 'sowaha', 'psmd14', 'fga', 'ugt2b11', 'pik3r1', 'or5b17', 'grk1', 'smg5', 'rab2a', 'yif1a', 'cbln3', 'otub2', 'armt1', 'c11orf91', 'alg1', 'pde6b', 'sp140l', 'cyp2r1', 'strap', 'sptlc1', 'fgf2', 'dand5', 'dok5', 'c7orf25', 'kcnn1', 'sparcl1', 'timp3', 'canx', 'armh3', 'trim59', 'slc30a2', 'nos3', 'kyat1', 'ms4a14', 'ppp1r14b', 'prss45p', 'anapc10', 'rsph3', 'sf1', 'gatad2a', 'znf735', 'psma3', 'atoh8', 'asb16', 'cacfd1', 'alox5', 'eif3j', 'muc7', 'znf226', 'vrk2', 'gorasp2', 'pik3cb', 'zbtb8a', 'or52h1', 'tedc2', 'ccdc47', 'top2a', 'gak', 'flnc', 'cldn2', 'ppp4r4', 'or11l1', 'csf2rb', 'eif2d', 'parp8', 'caly', 'pax6', 'plekhg5', 'cnga1', 'calm1', 'fan1', 'bnc1', 'chek2', 'nme3', 'ldlrad4', 'znf610', 'f5', 'pkp2', 'cacna2d1', 'slco1b3', 'usp16', 'uba7', 'slc9a6', 'aldh1l1', 'ndufaf1', 'ganc', 'asgr1', 'ccng2', 'paqr7', 'slc25a36', 'ache', 'nrp1', 'ppp1r12a', 'zpr1', 'ugp2', 'htr1a', 'myh14', 'pcdh15', 'gdpgp1', 'prdm11', 'copa', 'riok1', 'sh3bgrl2', 'sema4c', 'morn4', 'cbx3', 'loxl4', 'pdgfb', 'cux1', 'nf1', 'ppt2', 'cdkn2aip', 'cuta', 'efnb1', 'ankrd36', 'ppial4g', 'mapk8', 'znf853', 'pou6f1', 'slc22a17', 'higd2a', 'peli2', 'kbtbd13', 'bcas4', 'zswim7', 'taf11l14', 'nr5a1', 'ppp2r1b', 'fam50a', 'tmem52b', 'tas2r42', 'ghitm', 'inpp5a', 'zfhx2', 'kdm6b', 'lrp1b', 'ip6k1', 'mbnl2', 'flot1', 'lgsn', 'ccdc158', 'samd3', 'srpk2', 'pola2', 'arcn1', 'ska3', 'prdm7', 'idnk', 'ada', 'birc2', 'e2f5', 'ilvbl', 'mcf2l2', 'dab1', 'tom1', 'smpdl3b', 'gimap5', 'fgf16', 'tmem63a', 'ncf2', 'birc3', 'serpinb3', 'taco1', 'qtrt2', 'sdha', 'sh2d2a', 'wnk4', 'raph1', 'hnrnpul1', 'c22orf39', 'igfbp6', 'sema3g', 'fkbpl', 'il23a', 'zkscan7', 'fam24a', 'dda1', 'nudt11', 'tbc1d32', 'hyi', 'chrnb4', 'wdr41', 'ercc1', 'srsf11', 'hspa1a', 'gpr135', 'rnf43', 'lamp2', 'septin2', 'flad1', 'rrp15', 'defa6', 'pink1', 'hagh', 'hepacam', 'sla2', 'ppp1r36', 'c1r', 'rragd', 'prickle3', 'mpp1', 'aph1a', 'wdr93', 'tnks2', 'fam234b', 'slc12a3', 'hdac10', 'noc2l', 'cert1', 'rnf217', 'hdhd5', 'enpp4', 'tnnt2', 'myf5', 'itpr2', 'bcor', 'znf230', 'tigd5', 'cyp17a1', 'cox6b2', 'ddb2', 'slc47a2', 'uhrf1', 'mrtfa', 'dpy19l3', 'tnfrsf17', 'znf683', 'tapbp', 'rhd', 'fat3', 'c2cd2l', 'slc6a4', 'cpt1b', 'clec9a', 'diras3', 'tmc7', 'ikzf5', 'shisa7', 'fam120aos', 'dmtn', 'itih5', 'sun1', 'grwd1', 'fasn', 'fxr1', 'tacstd2', 'slc38a6', 'basp1', 'znf709', 'kat2b', 'pbrm1', 'hyal4', 'prmt8', 'dhx37', 'foxo1', 'bmf', 'brd3os', 'itgb5', 'nuak2', 'igdcc4', 's1pr3', 'timm44', 'thap5', 'acox3', 'arfgef3', 'hmsd', 'lrmda', 'dhrs2', 'bcl7c', 'c2orf16', 'gps1', 'alox12', 'c1orf127', 'rfng', 'gtpbp3', 'l1td1', 'atr', 'afp', 'emb', 'slc38a4', 'zbtb43', 'kif21b', 'sez6l', 'suclg1', 'map6', 'zbtb42', 'tmem59', 'arf4', 'retreg1', 'tmem179b', 'ttk', 'zmpste24', 'tdo2', 'fstl3', 'col5a2', 'tcl1a', 'enpp7', 'bend5', 'lca5', 'ap3s2', 'lrrd1', 'hmbs', 'col22a1', 'dnaaf4', 'rnf182', 'rfc2', 'pxn', 'fam166a', 'phf13', 'fuz', 'fam90a26', 'clvs2', 'uck2', 'nckipsd', 'faxc', 'atp1b1', 'c16orf96', 'rnf40', 'sh3gl1', 'ggcx', 'trim56', 'lefty1', 'ppig', 'mfap5', 'grk2', 'znf540', 'glt1d1', 'nedd4l', 'prps1l1', 'dnajc27', 'cox4i1', 'ppp1r3b', 'dpt', 'nmur1', 'tmem234', 'cyp2c18', 'naa20', 'phax', 'amph', 'neto1', 'sephs2', 'zc3h12a', 'ppox', 'polr2c', 'pbx4', 'cnih4', 'adap1', 'ackr4', 'nubp1', 'armc8', 'bmpr2', 'tcf15', 'nav1', 'c15orf48', 'tmem135', 'szt2', 'gsto1', 'sult1a2', 'tbc1d7', 'rtl9', 'nhlrc2', 'slf1', 'ankrd24', 'prkci', 'htr1d', 'rasa4b', 'mtbp', 'izumo1r', 'rhex', 'samd7', 'ankrd7', 'mea1', 'stambpl1', 'arc', 'lbr', 'gltpd2', 'asb2', 'ifngr1', 'dhrs12', 'b3galt2', 'blk', 'sec23ip', 'pcmt1', 'fbxl7', 'reep2', 'rbm26', 'zcchc17', 'adarb2', 'lrp3', 'or2ag2', 'steap3', 'or12d3', 'ppfia2', 'fsd1l', 'sntg2', 'vipr1', 'mkrn2', 'hsh2d', 'ubac2', 'mtfmt', 'or13c9', 'cad', 'runx1', 'pex26', 'mosmo', 'serpinb4', 'stat2', 'or5ar1', 'lefty2', 'pde4d', 'rcc1l', 'fermt2', 'tmem64', 'il11ra', 'rpp25', 'naa35', 'celsr3', 'chtf18', 'hoxc4', 'smad7', 'bmp8a', 'smc6', 'gapt', 'gpatch4', 'hnf4g', 'gjb4', 'fig4', 'cdkl2', 'pnpla8', 'rln1', 'def6', 'ehmt1', 'cabcoco1', 'unc5a', 'dcaf13', 'rbm43', 'gabra1', 'borcs7', 'znf132', 'tceal7', 'rabgef1', 'fgfr4', 'serpinb6', 'prpf4', 'eipr1', 'fndc10', 'pdzrn3', 'man1a2', 'znf695', 'mga', 'sult2a1', 'psmc5', 'krtap19-4', 'zscan2', 'fip1l1', 'cdh19', 'rflna', 'or4c13', 'unc119b', 'tbkbp1', 'ints3', 'ccl17', 'tubgcp4', 'pde10a', 'nfyc', 'slk', 'supt4h1', 'dars2', 'dnajc14', 'usp18', 'insm2', 'rcn3', 'foxc1', 'mmaa', 'hecw1', 'tubgcp3', 'fam135a', 'phc1', 'pacsin2', 'cd47', 'lmo3', 'sfrp1', 'icam3', 'jam2', 'pdk4', 'bad', 'hyal1', 'scg5', 'arl13a', 'cacng2', 'klhl22', 'sri', 'acvr2a', 'apba2', 'gpr160', 'c12orf57', 'rexo1', 'rassf5', 'greb1', 'neurog1', 'acad9', 'rad54l', 'yars2', 'fbxo17', 'hpdl', 'med22', 'smim18', 'cx3cl1', 'dgki', 'pcdha12', 'orc5', 'kcmf1', 'ppp2r5c', 'slc12a6', 'tcf3', 'dnah12', 'sprr3', 'pspc1', 'dhx35', 'tmem17', 'ctdspl2', 'chrnb2', 'c9orf40', 'apbb1', 'adgrg4', 'znf549', 'rasgrf2', 'htr1e', 'cmc2', 'eif4ebp3', 'spink14', 'exosc8', 'smg9', 'tmc2', 'kmt5c', 'xpo1', 'clec12b', 'smim41', 'hnf1a', 'gtsf1l', 'kifc3', 'fam217b', 'ints9', 'zdhhc19', 'ifi6', 'cxcl6', 'cbr3', 'spn', 'zbtb6', 'klf4', 'mmp23b', 'gabrp', 'apol2', 'ccni2', 'ccdc81', 'hnf4a', 'hmbox1', 'gzmh', 'nrg4', 'lemd2', 'pmm1', 'rassf1', 'csnk1g3', 'bicdl1', 'klf14', 'lamp1', 'aldh18a1', 'cmtm5', 'kynu', 'cystm1', 'hspa2', 'ifi27', 'clock', 'eif5', 'dvl1', 'poglut3', 'txnip', 'il27', 'c10orf62', 'scube1', 'appl2', 'galk2', 'znf346', 'zc3h7b', 'rbfox3', 'cdc25c', 'sntg1', 'psap', 'arl6ip1', 'manba', 'snrpd2', 'usp44', 'slc6a7', 'ube4a', 'foxo6', 's100z', 'c1orf162', 'ramacl', 'zranb2', 'znf678', 'rln3', 'bmp2k', 'pi16', 'plekhm3', 'nup153', 'rassf8', 'psmb4', 'ppef2', 'ddost', 'pnoc', 'abcc8', 'znf330', 'cdr2l', 'syf2', 'ap1s3', 'gnl3l', 'rassf4', 'stk10', 'rhoxf1', 'dnaaf5', 'klrg1', 'grin2b', 'c17orf107', 'dnajc3', 'lpcat4', 'prg2', 'cytl1', 'tecpr1', 'kctd3', 'b3galnt2', 'dnmt1', 'prss35', 'tead4', 'guca1b', 'poli', 'znf441', 'znf711', 'acadm', 'pcdhga6', 'cxcl16', 'synpo2l', 'clec19a', 'znf808', 'skp2', 'twsg1', 'ca9', 'gab2', 'uqcr10', 'ptprg', 'orm2', 'ptges2', 'pf4v1', 'alpg', 'mob3b', 'kcnk3', 'chchd2', 'synpr', 'isca1', 'hnrnpl', 'tekt1', 'pjvk', 'xirp2', 'tbx10', 'clk3', 'eng', 'cdt1', 'pip5k1c', 'sertad3', 'dgcr2', 'rtl6', 'akap8l', 'csag1', 'epb41l2', 'abca7', 'eif2b5', 'phf8', 'lurap1', 'orc4', 'parp16', 'trip6', 'tmem262', 'c5orf24', 'mamstr', 'tmub2', 'myo1h', 'aqp8', 'iglon5', 'lhx5', 'prorp', 'tlk2', 'or8h2', 'slc15a2', 'them6', 'ms4a13', 'sox4', 'nol6', 'psma5', 'ncor1', 'hipk1', 'or5k2', 'msl2', 'adgre3', 'klrc1', 'nup85', 'fut3', 'tbpl2', 'erap2', 'kcnj2', 'abraxas1', 'krt39', 'csgalnact1', 'ift20', 'hmgn4', 'ube2j1', 'commd2', 'eva1a', 'rhbg', 'adgra3', 'or52k2', 'astn1', 'stmnd1', 'slc17a3', 'tcaf1', 'dpp8', 'clcn7', 'polr2l', 'trmt9b', 'fam102b', 'rcsd1', 'fut11', 'ahnak', 'eapp', 'bhmt', 'hfe', 'nt5c3a', 'pafah1b3', 'sh2d4a', 'capn9', 'trim33', 'glyctk', 'onecut2', 'pcdh1', 'ugt1a10', 'adrb1', 'galnt12', 'atxn2l', 'doc2a', 'creb3l3', 'page2', 'krit1', 'zdhhc5', 'kbtbd3', 'galnt17', 'efcab7', 'phf12', 'lipe', 'nphp3', 'tsks', 'acsl6', 'ube2h', 'znf547', 'rmdn3', 'plekhg1', 'cst5', 'znf587', 'mob3c', 'vtn', 'abcd4', 'anks6', 'or2t27', 'hepn1', 'pin1', 'nrcam', 'aurkb', 'polr1a', 'gpatch2', 'casp4', 'dnajc5b', 'pomt1', 'ephb2', 'fbxw8', 'kmt5a', 'dmwd', 'tyrobp', 'ccdc102a', 'kcnh5', 'hoxa4', 'ccdc166', 'spink7', 'slitrk6', 'dynlt1', 'rnase10', 'zc3h7a', 'prdm1', 'hoxc10', 'cox6b1', 'slmap', 'c12orf50', 'atg3', 'cxcl9', 'vstm4', 'htatip2', 'spryd7', 'ltbp4', 'c10orf99', 'endou', 'slc25a22', 'incenp', 'cep128', 'dlg2', 'cdk8', 'cacng5', 'rapgef5', 'fryl', 'arhgef7', 'kctd1', 'itga5', 'thnsl2', 'arhgap11b', 'tspan9', 'sdhaf3', 'or10a5', 'pou4f2', 'brca2', 'ppm1g', 'il20ra', 'lrrc25', 'siglec6', 'hepacam2', 'mettl14', 'dynll2', 'exosc10', 'poll', 'prkx', 'ano1', 'msgn1', 'rev3l', 'bag5', 'clta', 'cdadc1', 'pstpip2', 'c1orf122', 'esyt2', 'lmo1', 'snrpn', 'gas2l1', 'c9orf50', 'zic2', 'npr1', 'agps', 'med8', 'znhit1', 'trim43', 'esrrg', 'smlr1', 'tusc1', 'or5c1', 'ankrd18a', 'znf219', 'homez', 'lrfn5', 'prmt7', 'nbpf3', 'nanos3', 'vps8', 'entpd7', 'adgrg7', 'fgfrl1', 'hand2', 'terf1', 'mboat2', 'rph3al', 'fam177b', 'pdcl2', 'c6orf118', 'sh2b1', 'dcst1', 'znf543', 'rbm10', 'ankrd12', 'zranb3', 'jhy', 'slurp1', 'tmem129', 'pla2g4a', 'c12orf73', 'tm9sf2', 'smarcal1', 'itfg2', 'lrig2', 'josd1', 'pgr', 'slitrk3', 'slc17a1', 'btbd6', 'itih1', 'ffar3', 'sars2', 'igf2bp3', 'znf383', 'fam180a', 'btn2a1', 'traf3ip2', 'otud5', 'mx2', 'ascl1', 'mark1', 'dpp10', 'kcng4', 'yipf7', 'lrrc39', 'ugt2a1', 'acat1', 'madd', 'krtap19-8', 'smarca1', 'cnpy2', 'klk3', 'znf552', 'taldo1', 'bst1', 'cspg4', 'gjb6', 'dap', 'six3', 'rd3', 'slc10a4', 'commd5', 'proz', 'zdhhc24', 'adad2', 'ftsj3', 'chm', 'sinhcaf', 'creg1', 'psmb2', 'adam23', 'extl3', 'psmb7', 'tdrd3', 'armc7', 'mrgprf', 'card14', 'rbfa', 'arvcf', 'znf385c', 'exosc5', 'egln3', 'ogfrl1', 'ccdc163', 'snta1', 'mecr', 'ckmt2', 'klhl20', 'ccnh', 'dmrtc2', 'zmynd10', 'niban1', 'uxt', 'adsl', 'fam117b', 'foxred2', 'tyw5', 'c18orf54', 'znf211', 'pramef15', 'cpq', 'rwdd4', 'sf3a1', 'fam187b', 'kiaa0825', 'pld3', 'mettl17', 'foxk1', 'igfbp4', 'zfyve27', 'c20orf202', 'nkx2-5', 'ubash3a', 'eef1akmt1', 'rae1', 'asap1', 'rnf114', 'tmem132c', 'rgma', 'xpa', 'phospho1', 'crygc', 'ddx24', 'agbl4', 'eif3g', 'ptgr1', 'slc25a11', 'rnf186', 'iba57', 'pde6a', 'slc35a3', 'cish', 'svopl', 'yes1', 'iah1', 'des', 'mylk3', 'hcfc1r1', 'draxin', 'creg2', 'dock4', 'stk17b', 'ap2b1', 'stox1', 'plk3', 'ncr2', 'zmiz1', 'mgarp', 'cdpf1', 'trps1', 'slpi', 'xkr9', 'asap3', 'numbl', 'pyurf', 'kiaa1586', 'enpp3', 'krtap10-2', 'pds5a', 'npffr2', 'fut5', 'cacna1e', 'cfap157', 'dync1i1', 'fzd8', 'gba2', 'ccn1', 'mansc4', 'p2ry1', 'pigp', 'slc37a4', 'ptprm', 'btbd16', 'tomm20l', 'gpnmb', 'linc00672', 'prr11', 'gnpat', 'kmt5b', 'dcp2', 'ctsb', 'zmiz2', 'dppa3', 'ywhah', 'tmem108', 'herc5', 'lias', 'mxra5', 'areg', 'psmb5', 'igbp1', 'snx5', 'b3galt5', 'fbxo30', 'disp3', 'podxl2', 'kctd17', 'pah', 'tmigd2', 'f2rl3', 'tmem254', 'tmeff2', 'tns2', 'plxnc1', 'prrg2', 'syt5', 'clip1', 'fam3a', 'ndufaf3', 'krt10', 'stx16', 'mbd5', 'otud6b', 'mknk2', 'mgmt', 'casq2', 'timeless', 'ndufa4l2', 'cmpk2', 'c13orf42', 'c1orf194', 'sclt1', 'uhrf1bp1l', 'dctpp1', 'mfsd11', 'znf516', 'hdac4', 'slc45a4', 'vat1l', 'or2l5', 'tbx4', 'uba52', 'ucn3', 'rtraf', 'fgf21', 'cdk7', 'c17orf58', 'atf2', 'dpep2', 'glyatl1b', 'tceal6', 'igsf9b', 'igfbpl1', 'prep', 'xylt1', 'dao', 'gpr119', 'rnf214', 'bank1', 'gpr31', 'fut9', 'psma2', 'epb41l4b', 'cuedc1', 'tec', 'fubp3', 'ssbp2', 'znf750', 'ttc17', 'mycn', 'pold3', 'fignl2', 'glmn', 'efcab10', 'slc24a4', 'or5t1', 'hapln2', 'ankub1', 'olfml2b', 'tex261', 'rpap3', 'lgi1', 'cdc26', 'tmpo', 'ephx4', 'tex22', 'znf710', 'krtap4-6', 'mbp', 'serinc3', 'emc2', 'ccdc9', 'nkx3-1', 'klf8', 'anks4b', 'alas1', 'exo1', 'ptgdr', 'prr5l', 'znf844', 'prob1', 'tmprss9', 'acp7', 'siglecl1', 'nfatc2', 'cdk9', 'jade3', 'ccl22', 'prkaa2', 'dusp11', 'tgfb2', 'ppp1cb', 'c3orf18', 'atp8b1', 'fthl17', 'cenpt', 'rbck1', 'armcx3', 'elmod3', 'fnip2', 'pmpca', 'col21a1', 'nfam1', 'eln', 'spata6', 'atg4b', 'nlrp14', 'gabbr1', 'rilpl1', 'cryl1', 'c17orf97', 'wdfy3', 'psmc2', 'myo18a', 'celf4', 'phykpl', 'tubgcp6', 'krtap11-1', 'sash3', 'slc45a2', 'ostn', 'fer1l6', 'atp6ap2', 'znf232', 'c3orf84', 'apaf1', 'rftn2', 'pmm2', 'zscan1', 'nup43', 'cnksr1', 'gjb7', 'nectin3', 'rbp2', 'ndst4', 'clic1', 'naprt', 'prex1', 'znf205', 'gpr155', 'bmp10', 'smim1', 'fbxw11', 'ring1', 'tubb8', 'cenpl', 'nfat5', 'dennd1b', 'chka', 'snx17', 'rnf207', 'copb1', 'or6c75', 'pgap2', 'vldlr', 'psmd11', 'por', 'c11orf53', 'adipor1', 'ervmer34-1', 'nanos1', 'palld', 'kmt2d', 'nhs', 'ap1s1', 'prdx1', 'cpne8', 'fam214b', 'efnb3', 'apoa4', 'kdm8', 'ankrd33b', 'b4galt1', 'ly6e', 'kif7', 'mmp11', 'c11orf86', 'znf658', 'sdr9c7', 'paip2b', 'lcn1', 'plxna4', 'carmil1', 'spata17', 'rgs1', 'mybbp1a', 'ube2c', 'thbs4', 'zc2hc1b', 'shisa3', 'msx2', 'zbtb17', 'leng9', 'slc26a9', 'kcnj3', 'c19orf85', 'kcnk1', 'fancc', 'mecp2', 'lfng', 'aar2', 'vcpip1', 'aqp6', 'oxsm', 'aoah', 'dcdc2b', 'tmem201', 'nr5a2', 'rangrf', 'znf397', 'ppef1', 'gpr6', 'inmt', 'tas1r2', 'ppp1r3e', 'dennd4a', 'mcee', 'ttc38', 'dpp4', 'itsn2', 'rapgef2', 'gprin3', 'tmed4', 'inpp5f', 'stk38l', 'cib2', 'znf860', 'erfl', 'cyp26b1', 'actr3', 'gspt1', 'jmjd6', 'ndufb3', 'abhd15', 'znf296', 'rap2b', 'bicral', 'tex9', 'itga11', 'slc13a5', 'c11orf87', 'alb', 'slc43a1', 'csde1', 'ppp6r3', 'slc1a1', 'flt3', 'morn3', 'plek2', 'ccna2', 'serpina6', 'apobec3g', 'acmsd', 'nanogp8', 'napb', 'aass', 'unc5c', 'ttc26', 'spg11', 'brip1', 'fbxo45', 'atp6v1g1', 'nt5dc4', 'rasgrp1', 'scap', 'pole2', 'dhx30', 'wfdc6', 'pogk', 'arid3b', 'rnf167', 'fam111a', 'antxr2', 'acap2', 'gfra1', 'c15orf61', 'rnf144a', 'prkcz', 'smarca5', 'fam47c', 'trappc6a', 'rtl3', 'potem', 'znf770', 'bora', 'ehd4', 'lmx1b', 'aspa', 'rab14', 'palm3', 'crocc', 'dtwd1', 'ccdc70', 'c15orf62', 'agpat5', 'sgk3', 'antkmt', 'znf253', 'ulk1', 'prrt1', 'aifm1', 'gng10', 'trhr', 'tstd1', 'parp11', 'nxf3', 'fam240a', 'kcna2', 'daam1', 'tmem140', 'cxcl3', 'anhx', 'nwd1', 'set', 'zscan12', 'arpc1b', 'pcolce', 'rtn4rl2', 'klk7', 'leng8', 'tsga13', 'pltp', 'pak6', 'ncam2', 'enpp6', 'trim9', 'zfyve21', 'ppp1r8', 'trim17', 'dok1', 'hspb3', 'znf444', 'spanxn5', 'trpc7', 'pde2a', 'sgta', 'or51a7', 'mtif2', 'atad3c', 'padi2', 'kndc1', 'vwa8', 'znf593', 'rce1', 'slc16a7', 'prm2', 's100pbp', 'cpne4', 'depdc1b', 'limch1', 'zfp69', 'barx2', 'rnf152', 'fam163a', 'znf257', 'bcam', 'med15', 'samd4b', 'gclc', 'apoh', 'znf692', 'muc12', 'ddx41', 'inpp5j', 'gtf3c5', 'mpzl2', 'rnf113a', 'ly6l', 'cdhr5', 'slc46a3', 'acot4', 'prmt6', 'dpf2', 'ankef1', 'tigd3', 'ifnlr1', 'rarres1', 'uba1', 'tp53bp1', 'ripor1', 'fgb', 'il31ra', 'foxi3', 'slc22a10', 'cd53', 'pccb', 'plb1', 'tmem178a', 'fbxo8', 'xaf1', 'ccm2l', 'rac3', 'wfdc8', 'smg7', 'cyld', 'rhbdd2', 'lrch2', 'rpa2', 'tmem94', 'erich6', 'smim10', 'chid1', 'brap', 'atg101', 'fam168a', 'gprasp2', 'pex5', 'slc41a1', 'gna14', 'nt5m', 'laptm5', 'kcnk4', 'zmynd19', 'or52i1', 'nfya', 'lman2l', 'lyrm2', 'f13b', 'emc7', 'tbrg1', 'slc25a39', 'crls1', 'poc1b', 'gdpd3', 'ptgis', 'plk4', 'akap7', 'eif3h', 'bbs7', 'ppp1r37', 'ulk3', 'psmd12', 'or2m7', 'nit2', 'vwce', 'klk5', 'gpatch11', 'med12l', 'cstf2', 'il34', 'deup1', 'atp6v1e1', 'mfsd13a', 'got2', 'fam149b1', 'zcrb1', 'sumo4', 'cd300a', 'rspo1', 'pnp', 'prss3', 'wdr77', 'krtap12-2', 'opn4', 'bdh1', 'chd8', 'sorbs2', 'vwc2l', 'itgam', 'il13', 'lrrc34', 'serp2', 'magec3', 'ppp4r2', 'atp6v0e1', 'cog7', 'kidins220', 'znf416', 'znf585a', 'mos', 'abhd1', 'colec10', 'rbbp8', 'serpinb1', 'aptx', 'ibtk', 'fam91a1', 'fahd2a', 'rsph6a', 'itga2', 'armc10', 'ubash3b', 'wdfy2', 'samsn1', 'tm7sf3', 'gna15', 'glg1', 'lyar', 'pf4', 'tomm7', 'cideb', 'usp31', 'cenpu', 'nin', 'specc1l', 'ctnna1', 'mylk4', 'lum', 'pth2', 'dipk1b', 'angel1', 'erap1', 'resf1', 'pttg1', 'rbbp4', 'cr1', 'c11orf24', 'nckap1l', 'foxd3', 'ndufa4', 'emid1', 'smco2', 'ndufs8', 'cep72', 'arpc5', 'lage3', 'shisa9', 'parg', 'cfap46', 'ercc6l2', 'gng2', 'znf3', 'rimbp2', 'fabp12', 'mageb5', 'gucy1b1', 'gja9', 'bves', 'slc38a1', 'thsd1', 'zc3h8', 'top3a', 'gast', 'rcor3', 'ggn', 'coq6', 'clec16a', 'or56a3', 'ermn', 'rnf187', 'c9orf24', 'spata21', 'mark4', 'actb', 'plekhb2', 'gtf2b', 'eaf1', 'slc26a8', 'ybx2', 'g6pd', 'jade2', 'sephs1', 'snx24', 'gatad1', 'adrb3', 'cep55', 'znf214', 'dsel', 'cxorf38', 'tspyl6', 'spry2', 'fzd4', 'blm', 'stau1', 'ppp2r3c', 'amot', 'gas6', 'dusp2', 'ptpn6', 'soat2', 'znf300', 'nusap1', 'sirpg', 'p2rx6', 'snx25', 'urod', 'zfp57', 'phf1', 'brwd3', 'cacna2d3', 'yy1ap1', 'plcg2', 'brinp2', 'ndrg4', 'ebln2', 'angpt1', 'znf212', 'lbx2', 'slc25a44', 'map2k7', 'nr2f2', 'nhlh2', 'znf829', 'cdc42se2', 'trpv1', 'tmem272', 'tpcn1', 'cip2a', 'kansl2', 'tph2', 'krtap23-1', 'ewsr1', 'bcas2', 'plod3', 'rhno1', 'hic1', 'limk1', 'b9d1', 'gbf1', 'pde6d', 'edrf1', 'exosc6', 'lexm', 'grid1', 'semg1', 'ptger2', 'tmem158', 'krtap20-2', 'hao2', 'wdr11', 'or8g5', 'gpr139', 'mterf3', 'tssk6', 'lca5l', 'wrnip1', 'lrrtm1', 'pacs1', 'mfsd14b', 'mzt1', 'tecpr2', 'znf567', 'ms4a1', 'mtch1', 'tcaim', 'myorg', 'slc66a1', 'or2l2', 'or5w2', 'erbb4', 'txndc8', 'tapbpl', 'ltb', 'unc45b', 'tprkb', 'setd1b', 'necab3', 'c1s', 'tmem175', 'serpina10', 'rmnd1', 'slc25a34', 'gabpb2', 'cenpi', 'abcc5', 'tma7', 'sos2', 'ninj1', 'or9i1', 'cntnap4', 'slc25a29', 'rasgrp2', 'gja10', 'lrpprc', 'eif4e3', 'zbed1', 'catsper4', 'c6orf141', 'upf3b', 'ier5', 'dync1i2', 'meox2', 'chmp5', 'usf2', 'cep126', 'btbd19', 'or5as1', 'klhl36', 'pgam5', 'il31', 'ly86', 'mcam', 'mrfap1', 'crppa', 'fcn2', 'mccd1', 'mtfr2', 'txndc12', 'ccdc182', 'prlhr', 'mab21l2', 'or5b12', 'ppp1r18', 'churc1', 'paqr4', 'paox', 'tor1a', 'asap2', 'p3h2', 'nudt1', 'rab9a', 'b9d2', 'hspd1', 'ccdc136', 'fcho1', 'c7orf61', 'sec31b', 'klf11', 'pla2g6', 'or5l2', 'znf155', 'acsf3', 'msmp', 'wfdc3', 'spx', 'znf837', 'zc3hav1', 'pxk', 'spred1', 'snapc5', 'gpr20', 'krtap1-5', 'ubr2', 'rmnd5b', 'sdc2', 'ifitm10', 'smap1', 'ccl21', 'ccar1', 'psmc3', 'tmem187', 'c5orf34', 'cacnb4', 'kiaa1549', 'emilin1', 'desi2', 'poc1a', 'ddx56', 'scara3', 'hnf1b', 'micu3', 'prss36', 'znf534', 'tmem106b', 'tedc1', 'adora2a', 'syngr1', 'alg2', 'prrt2', 'tcp10l2', 'st3gal1', 'abcc4', 'pex19', 'etfdh', 'pdlim2', 'htr7', 'phlda1', 'unc93b1', 'or13c8', 'plekhg2', 'gpr141', 'ypel1', 'dio1', 'znf526', 'ccnq', 'papss1', 'zscan4', 'ttc19', 'slc38a9', 'fam170a', 'pfdn4', 'stat4', 'sema3b', 'or52n4', 'flt3lg', 'polr3b', 'cbr4', 'ccdc60', 'ccdc9b', 'usp36', 'fsip2', 'tspan19', 'lrrc59', 'ywhaz', 'blnk', 'znf488', 'sec24a', 'xpnpep1', 'bphl', 'znf662', 'castor2', 'mid1ip1', 'letm2', 'fundc1', 'c12orf54', 'mapk8ip3', 'plk5', 'hsfx4', 'kctd18', 'sar1a', 'gimap7', 'chd2', 'or1l1', 'myl2', 'stac2', 'mlycd', 'shroom2', 'ccdc187', 'maf1', 'glyat', 'cacng3', 'galt', 'akap4', 'hnrnpdl', 'sqor', 'ugt3a2', 'adrb2', 'acsm5', 'arl6', 'npbwr1', 'tdg', 'nthl1', 'necap1', 'tnfsf9', 'ddx1', 'nab2', 'pard6a', 'or8s1', 'rgs7', 'ttll5', 'msx1', 'tmem71', 'foxr1', 'pex11a', 'oprl1', 'poglut1', 'chrm2', 'sgpl1', 'ube2e1', 'atp2b3', 'mplkip', 'ndufc2', 'irf2', 'gpr180', 'gabra5', 'c3orf70', 'rpa3', 'lin7c', 'psmb6', 'cyb561', 'smim23', 'shc4', 'ryr1', 'znf493', 'frmpd2', 'fam53c', 'psd', 'scamp1', 'lamc2', 'hbq1', 'tdrd9', 'blacat1', 'adgrd1', 'atf3', 'slc51a', 'ddx4', 'stx6', 'tatdn1', 'f3', 'atp13a4', 'exosc4', 'telo2', 'znf177', 'adam29', 'trib1', 'fam83e', 'mybl2', 'acot6', 'pcdh18', 'adh7', 'arid2', 'sntb2', 'ctrb2', 'ikzf3', 'nrsn1', 'tesc', 'mcemp1', 'harbi1', 'cckbr', 'mthfr', 'avl9', 'suds3', 'eid3', 'ttc9b', 'ttll10', 'arhgef16', 'frmpd4', 'adgrg6', 'uqcrq', 'ift46', 'lzts1', 'ankk1', 'slc36a4', 'mrtfb', 'znf582', 'prdx3', 'mcm8', 'btg1', 'impg1', 'ifi44l', 'mysm1', 'ctnnal1', 'ei24', 'cdh13', 'opn3', 'azu1', 'tmem215', 'cnmd', 'znf559', 'armc2', 'c12orf75', 'irak2', 'znf473', 'atg10', 'or6c70', 'rgs11', 'ccdc146', 'ak1', 'sgms1', 'klhl9', 'plppr1', 'rbm48', 'c2orf88', 'sgtb', 'carmil2', 'midn', 'obp2a', 'gjd2', 'melk', 'prr15l', 'tmem26', 'dnmt3b', 'wasf1', 'mybpc1', 'krt14', 'or5d13', 'tmem132a', 'grpr', 'tmem86b', 'slc9a8', 'elovl1', 'zbtb49', 'drc3', 'vps13b', 'surf2', 'kif5b', 'dynap', 'hpd', 'npbwr2', 'elk1', 'ddi2', 'slc35a4', 'or51e2', 'ass1', 'c22orf31', 'il1rapl1', 'catspere', 'htr1f', 'ube2b', 'lgals9', 'ddx50', 'cd80', 'prr15', 'rack1', 'fance', 'disc1', 'tle3', 'abi2', 'samhd1', 'yme1l1', 'mmrn2', 'tnni3k', 'cfap36', 'arhgap1', 'fam241b', 'cox8c', 'pgm2', 'xpr1', 'hdac7', 'hr', 'agbl5', 'npas3', 'fgf4', 'rab38', 'efcc1', 'med28', 'syap1', 'il2rg', 'lce1c', 'nsmf', 'ifitm5', 'akap12', 'ppp1r17', 'trim75p', 'cpne9', 'apobec3f', 'cd52', 'cd8a', 'tmem179', 'zup1', 'tmem92', 'ucn', 'retreg2', 'ttc33', 'rpp14', 'ptges', 'naaladl1', 'rhoc', 'trim63', 'igfn1', 'afg1l', 'kiaa0319', 'otoa', 'glb1l', 'tex44', 'irx5', 'adnp2', 'sirpd', 'stard13', 'twnk', 'pou4f3', 'rragc', 'slc30a4', 'psmb10', 'aldh3a1', 'lig3', 'hsp90ab1', 'c20orf96', 'ndufs7', 'ranbp3', 'hes6', 'eefsec', 'galnt10', 'gstm3', 'gins2', 'ckap5', 'vpreb3', 'cfhr4', 'znf512', 'tmem169', 'tada3', 'sirt5', 'kcnk17', 'itih2', 'eps8', 'rnase7', 'grik1', 'cfap70', 'hsp90b1', 'npdc1', 'slc25a14', 'fas', 'fgf19', 'ank1', 'disp1', 'gpr156', 'pkdrej', 'pnkd', 'barx1', 'vhll', 'znhit2', 'cwc15', 'tmem258', 'gas7', 'arsg', 'wnk3', 'gdpd2', 'thoc5', 'cxcr3', 'adgrg5', 'cd177', 'taf1d', 'c9orf131', 'zbtb8b', 'gdf11', 'st18', 'cflar', 'vps37c', 'aimp2', 'asb1', 'tktl2', 'gja1', 'usp34', 'fcrl3', 'ca5a', 'deaf1', 'me2', 'eml5', 'pole', 'atad1', 'trmt13', 'ankrd29', 'ubap1l', 'fkbp15', 'mageb18', 'dkk1', 'agk', 'ppp1ca', 'rab11fip1', 'nsfl1c', 'rabggtb', 'gem', 'pde6h', 'cpsf4l', 'nipsnap2', 'gnpda2', 'fgfr3', 'efcab8', 'spata48', 'apobr', 'smim35', 'bahcc1', 'spef1', 'desi1', 'ints7', 'bud23', 'nudt15', 'zbed4', 'ttc5', 'tex11', 'tspan12', 'timm17b', 'porcn', 'relch', 'lhx6', 'mis18bp1', 'fosl2', 'znf146', 'arsk', 'hdgfl3', 'tmem204', 'krtap24-1', 'cbx2', 'tecr', 'tmem89', 'tapt1', 'apex2', 'rasgef1b', 'c6orf89', 'zscan5a', 'pxmp2', 'tcea2', 'ldhal6b', 'mad1l1', 'spaca3', 'lnpk', 'prdm10', 'tcn2', 'ubtd2', 'defb136', 'sipa1l1', 'arid4b', 'fam171a1', 'cyth4', 'sulf1', 'haus2', 'dok4', 'slc3a1', 'hoxa1', 'gjc2', 'rundc3a', 'rfpl3', 'hcar1', 'tsnaxip1', 'sgip1', 'def8', 'vps26b', 'npm3', 'rbl1', 'myrip', 'c11orf54', 'nmb', 'apob', 'rab18', 'lhx8', 'fcgr3a', 'krt4', 'p4ha2', 'med7', 'pam16', 'rhag', 'arpc4', 'tex13b', 'scnn1g', 'coro1b', 'rnf34', 'mpst', 'dock3', 'mogat1', 'znf592', 'xylt2', 'sbds', 'tp53tg5', 'c6orf58', 'endog', 'lrrc49', 'znf34', 'nsf', 'tmem51', 'g3bp2', 'gpr18', 'zeb2', 'otop1', 'ssr1', 'coq9', 'styx', 'lcn2', 'zmym4', 'exosc1', 'spata31d1', 'fanca', 'cd1a', 'dlg1', 'nol4', 'aplnr', 'nr4a2', 'fzd5', 'sema5b', 'hmgcs1', 'maml2', 'adtrp', 'peli3', 'rnps1', 'foxc2', 'stxbp4', 'st8sia5', 'tle6', 'prm3', 'sacm1l', 'ampd1', 'clec4g', 'syce3', 'heg1', 'rgn', 'klhdc10', 'glod4', 'frmpd3', 'hspa6', 'hsfx3', 'bend4', 'phactr3', 'npepl1', 'or2i1p', 'znf23', 'cln5', 'itpk1', 'or56a4', 'tas2r50', 'hoxb7', 'or10x1', 'trex2', 'snx8', 'jak3', 'ggt1', 'vsig1', 'lacrt', 'dph2', 'taar1', 'psma1', 'pc', 'cpb2', 'sgsm2', 'c19orf54', 'ndn', 'ppp4r3c', 'taf8', 'smc3', 'fkbp10', 'amd1', 'prpf18', 'txlna', 'kiaa1958', 'znf772', 'tnfrsf13b', 'zfp82', 'zp3', 'pitx2', 'ppl', 'setd4', 'pros1', 'mfsd6', 'isg20l2', 'fam169a', 'ccdc152', 'dgat2l6', 'tafa3', 'hadhb', 'inpp4a', 'zdhhc1', 'tmem91', 'cltcl1', 'cct3', 'tmod2', 'dennd6a', 'aqp1', 'selenos', 'ntrk3', 'ucp3', 'ogg1', 'spen', 'ctnna2', 'tnni2', 'usp4', 'spic', 'wnt6', 'wee2', 'vegfc', 'slco3a1', 'kiaa1755', 'haus6', 'rpe', 'sox2', 'plagl1', 'slc25a43', 'yipf5', 'carnmt1', 'gabrd', 'tlk1', 'hspe1', 'ptprn', 'lrp11', 'fuom', 'lrrc4c', 'mok', 'stk39', 'slc10a7', 'barhl2', 'tspyl5', 'cartpt', 'map2k5', 'vrk3', 'rgl4', 'perm1', 'or4l1', 'ebpl', 'dhodh', 'tuba3d', 'pparg', 'arhgap31', 'caskin2', 'hsd17b11', 'map3k1', 'sptan1', 'c10orf120', 'spata24', 'crisp2', 'bloc1s4', 'cpa3', 'lacc1', 'kif20b', 'gcm1', 'glra3', 'cyp2u1', 'usp32', 'eya4', 'atad5', 'vrk1', 'prss8', 'gabrg3', 'or7a5', 'ankrd54', 'itgax', 'magea9b', 'or2g6', 'fam160a1', 'gucy2c', 'or2a5', 'elavl2', 'smchd1', 'iqcf6', 'man1b1', 'vmo1', 'akap1', 'cemp1', 'wdr83os', 'znf138', 'cend1', 'qrich1', 'tmem150b', 'mrm2', 'tex264', 'kcnq2', 'gtf3c3', 'ggt5', 'alas2', 'c3orf14', 'nat8', 'pex3', 'fign', 'omd', 'c12orf60', 'vxn', 'shisa4', 'cenpa', 'cycs', 'foxe1', 'dpysl2', 'rgs10', 'anxa3', 'mapk3', 'nuggc', 'mybpc2', 'map3k19', 'cdkn1c', 'rad51d', 'chchd3', 'krtap10-5', 'calb2', 'wwp2', 'zxda', 'arrdc1', 'arl6ip6', 'dcps', 'arhgef39', 'lhb', 'traf6', 'scaf8', 'fam155b', 'ssu72', 'nedd9', 'kncn', 'syt12', 'icam5', 'rwdd2a', 'dvl3', 'mospd1', 'itpa', 'myh8', 'cpt1c', 'krbox4', 'acads', 'fut8', 'lyg1', 'hm13', 'adh1b', 'niban2', 's100a6', 'armc9', 'micos13', 'cacnb2', 'plcb3', 'thy1', 'smoc1', 'grhpr', 'pla2g3', 'rnf212b', 'trmt44', 'pld4', 'sigirr', 'zfyve19', 'mettl23', 'sirt2', 'srp68', 'fastkd2', 'dnajb9', 'spint4', 'ddx59', 'nefm', 'cacna1h', 'thra', 'slc26a5', 'ivl', 'bbs4', 'kif6', 'ctsf', 'neto2', 'rab7b', 'gne', 'pmis2', 'c1qtnf3', 'map2k6', 'piwil1', 'purb', 'nle1', 'ppp1r14d', 'mmp2', 'or4d9', 'dsc3', 'ndst3', 'cnksr2', 'atf7ip2', 'armcx4', 'pappa2', 'mfsd8', 'kcns2', 'jsrp1', 'phex', 'cstb', 'f2rl1', 'ednra', 'rasl10b', 'fbxo43', 'ift80', 'tnfrsf10c', 'casp8ap2', 'lonp1', 'arl13b', 'nuf2', 'rnpep', 'pcnx1', 'znf432', 'luc7l', 'cox15', 'dffa', 'fgf18', 'ppp1cc', 'cluap1', 'btbd10', 'esm1', 'lrsam1', 'commd8', 'tnpo3', 'zfhx4', 'snx20', 'ca7', 'uqcrh', 'klrf2', 'gse1', 'hace1', 'cdh8', 'spata3', 'rnf223', 'slc23a1', 'nsd1', 'thoc7', 'vax1', 'fdcsp', 'defb135', 'nlrp9', 'trip4', 'timmdc1', 'taf1', 'hspa5', 'acvr1c', 'adh1a', 'fancf', 'hjv', 'pcdha5', 'scel', 'vn1r1', 'prelid2', 'stxbp2', 'cd6', 'pja1', 'ccdc190', 'rimkla', 'mcc', 'czib', 'cd72', 'comp', 'casp2', 'rnf141', 'or2t2', 'sra1', 'tbc1d12', 'sult1c4', 'coa6', 'rras2', 'cln6', 'anks1b', 'kmo', 'tp53inp2', 'maob', 'cby3', 'acsl3', 'il36g', 'npvf', 'usp49', 'cngb3', 'adam10', 'slc43a2', 'ccdc127', 'krt71', 'otos', 'znf786', 'ccdc83', 'triobp', 'ptk7', 'chkb', 'pop7', 'farsa', 'mab21l3', 'tgfb3', 'abtb1', 'ccdc69', 'lrrc3c', 'eif2b3', 'ccny', 'dimt1', 'gpsm1', 'or13a1', 'tas2r9', 'nrk', 'fam241a', 'fcn3', 'folh1', 'usp30', 'lrguk', 'mbip', 'stk32b', 'tmem202', 'selenow', 'ctnna3', 'pigg', 'ubald2', 'dnah14', 'ppif', 'otulinl', 'aplp1', 'znf324b', 'rab33b', 'garnl3', 'arpp21', 'dnm3', 'sec23b', 'lsamp', 'ubxn4', 'psg4', 'arrdc3', 'diras2', 'septin9', 'gpat2', 'smad2', 'tmem167a', 'abtb2', 'ptgs1', 'ddi1', 'fdxr', 'numb', 'nnmt', 'ccdc7', 'chd7', 'supt5h', 'tlnrd1', 'magea11', 'slc5a2', 'ccdc175', 'rc3h1', 'pdlim5', 'zbtb1', 'znf365', 'lcn12', 'dph5', 'rfc4', 'prpsap2', 'fxn', 'znf775', 'pif1', 'dgkd', 'plat', 'slc2a1', 'ccn4', 'negr1', 'cdo1', 'slc14a2', 'tigd7', 'bag3', 'hoxa13', 'znf764', 'irs4', 'dpep1', 'rnase13', 'crybb1', 'sdhb', 'vps37d', 'actr5', 'nufip1', 'ado', 'fahd1', 'pom121l12', 'arpin', 'sp2', 'bach1', 'diaph2', 'coq10a', 'smad4', 'snrnp48', 'ren', 'capns1', 'klhl12', 'sema3d', 'klf15', 'hccs', 'usp12', 'pcgf2', 'ap1g2', 'slc4a9', 'znf318', 'zbp1', 'vipas39', 'ncapg2', 'taf5l', 'castor1', 'hbm', 'mgst3', 'prss37', 'gm2a', 'zscan22', 'thbs2', 'aurkaip1', 'or5i1', 'kank2', 'atp11c', 'matk', 'hephl1', 'tns4', 'cgrrf1', 'shank2', 'acrv1', 'eny2', 'cand2', 'iffo2', 'or2at4', 'pi4k2a', 'znf625', 'ppp1r21', 'gpank1', 'fbxl2', 'septin11', 'vps26c', 'asf1a', 'nek7', 'fbn1', 'pudp', 'gpkow', 'mctp1', 'fpgt', 'mustn1', 'kcnmb4', 'dhx9', 'macrod2', 'dppa4', 'znf862', 'ccser1', 'c11orf95', 'gale', 'hoxa2', 'mmp13', 'nxph3', 'nkpd1', 'nid2', 'gnai2', 'hdx', 'vps37a', 'baiap2', 'megf6', 'znf517', 'foxf1', 'anxa10', 'bbox1', 'gdi2', 'naa60', 'pdia2', 'zeb1', 'cops3', 'gpr158', 'sin3a', 'vsx2', 'stmn4', 'igfl4', 'or2t33', 'c1orf216', 'gfod1', 'ddx25', 'agtr1', 'synm', 'tspan16', 'ilf2', 'vangl2', 'wdr89', 'gpn3', 'c5orf58', 'nup188', 'tigd2', 'slc22a23', 'ccdc62', 'fxr2', 'sesn1', 'wrap53', 'or1g1', 'ptpra', 'or6c1', 'rhcg', 'ide', 'znf684', 'smim13', 'nynrin', 'tmsb4y', 'hsd17b2', 'zscan10', 'prkra', 'otor', 'lig4', 'tsr1', 'cyp20a1', 'sall3', 'sema6b', 'adcy5', 'kif3c', 'sfmbt1', 'ctsd', 'naa10', 'ctns', 'st6galnac1', 'oxld1', 'tubal3', 'serpinb13', 'fam24b', 'glb1l3', 'smap2', 'tm9sf3', 'or14i1', 'shank1', 'lrr1', 'rapgef4', 'zgpat', 'cacng7', 'ifi30', 'ano10', 'dpf1', 'aup1', 'cd200r1l', 'znf354b', 'rnf149', 'scygr8', 'snip1', 'ptprk', 'mios', 'fdft1', 'kif26a', 'cxadr', 'tbxas1', 'orc1', 'mrnip', 'ciz1', 'cmc4', 'aoc3', 'srf', 'arhgef26', 'ndst1', 'znf670', 'csmd1', 'zmym5', 'amh', 'ptprc', 'tspan7', 'sema3a', 'clcc1', 'ddx42', 'smim7', 'adra1b', 'atp10b', 'gdf6', 'pou3f4', 'nudcd1', 'rint1', 'cenpb', 'kcnk5', 'inppl1', 'krtap22-2', 'mfap2', 'inka2', 'il12a', 'vwa1', 'usp28', 'ktn1', 'ppp1r1c', 'acvrl1', 'atp6v0a2', 'gpbp1l1', 'rbmxl1', 'smr3b', 'thbd', 'b3galt1', 'cltb', 'tbrg4', 'blvrb', 'raver2', 'pcdhga9', 'micall2', 'frat1', 'znf408', 'cds2', 'gp2', 'bbs10', 'myo9a', 'bcs1l', 'artn', 'lyzl2', 'sirt1', 'esyt3', 'dkk2', 'helq', 'znf771', 'hhat', 'chml', 'ccdc13', 'ihh', 'fam53a', 'znf165', 'akirin2', 'magi3', 'polr2i', 'cfap61', 'cpd', 'adirf', 'nkain3', 'ank2', 'bdkrb1', 'zswim9', 'idi2', 'lipg', 'adm2', 'lmln', 'nmbr', 'rgs21', 'glt8d1', 'ikzf4', 'ogt', 'arsi', 'slc9a3r2', 'ro60', 'c1qb', 'cnksr3', 'pga5', 'dnah1', 'ypel3', 'asf1b', 'entpd1', 'epn1', 'rnf133', 'defb121', 'crybb2', 'oosp3', 'tatdn2', 'chsy1', 'nop2', 'gsta5', 'tubgcp2', 'fam98c', 'tmed3', 'runx2', 'edn1', 'mdc1', 'tbpl1', 'creb3', 'adipor2', 'atf6b', 'ppil4', 'spdef', 'rab7a', 'serpini1', 'akna', 'tfb2m', 'cldn25', 'cpsf6', 'pcbd1', 'ttf1', 'ptprn2', 'prr33', 'rilpl2', 'ttc23', 'prim2', 'thoc6', 'taf13', 'gsdmb', 'stap2', 'rtn4', 'hacd3', 'c12orf45', 'gins3', 'tnrc6c', 'itgad', 'polr1e', 'rnf17', 'cpsf4', 'lypd6b', 'anapc5', 'ifngr2', 'cdnf', 'nars2', 'sp140', 'tex45', 'entr1', 'dlx1', 'mapk9', 'kcnd3', 'trmt1l', 'arhgap32', 'ptgs2', 'strip2', 'apex1', 'naf1', 'znf385a', 'pik3ap1', 'pik3r5', 'dennd1c', 'ap1s2', 'mtcp1', 'ppp4r3b', 'agap3', 'olig2', 'ncl', 'znf738', 'trmt2a', 'large1', 'dipk2a', 'bysl', 'rufy2', 'cpt1a', 'fcrl4', 'taok1', 'sdcbp', 'tfip11', 'aunip', 'osr2', 'ebi3', 'znf714', 'zpld1', 'ndufb11', 'suv39h2', 'asgr2', 'cdip1', 'ciapin1', 'c19orf33', 'c2orf92', 'c19orf84', 'slc35g3', 'apol4', 'c1qtnf12', 'c1orf174', 'ttc32', 'spata45', 'smc5', 'auts2', 'atp1a4', 'rbfox1', 'adgra1', 'rab40c', 'fam71a', 's100a9', 'myoz1', 'znf564', 'cadps', 'klhl34', 'cd40lg', 'trim55', 'sytl5', 'dnajb13', 'mau2', 'lysmd2', 'or4b1', 'oxnad1', 'tfcp2', 'sirt3', 'ptafr', 'or2aj1', 'mcfd2', 'nek11', 'tie1', 'rag1', 'drd2', 'p2rx1', 'utp15', 'reep6', 'tafa5', 'cyb5rl', 'ect2', 'pou3f1', 'tmem170b', 'slc35d3', 'or1n1', 'bend2', 'inpp4b', 'timd4', 'nmd3', 'cct6a', 'fgfbp1', 'krt23', 'spp1', 'sdc3', 'socs5', 'ctsv', 'maz', 'rab21', 'fshr', 'samd5', 'orai3', 'zfp14', 'ndufv3', 'med19', 'alg12', 'rhbdl2', 'stmp1', 'adgrf4', 'spi1', 'sap30bp', 'casp9', 'tmem268', 'mthfd2l', 'boc', 'casr', 'ehhadh', 'ifna6', 'cptp', 'spast', 'igsf6', 'nbpf19', 'rbpjl', 'myf6', 'htra1', 'dact1', 'nr6a1', 'plpp2', 'tmem39a', 'rnf20', 'etv4', 'nbn', 'pigv', 'xrcc2', 'nphp4', 'pik3c2b', 'znf467', 'ctxn1', 'zbtb37', 'tsga10', 'accsl', 'dcun1d5', 'fbxw12', 'acadsb', 'tert', 'cbx7', 'mc1r', 'krt35', 'syt3', 'zdhhc13', 'ppp4r3a', 'znf12', 'bbx', 'or5a1', 'alpk1', 'add3', 'lyrm7', 'c2orf42', 'cd83', 'zdhhc14', 'fcrla', 'ccdc43', 'hars2', 'egfr', 'septin1', 'susd1', 'lrrc72', 'rlbp1', 'bdkrb2', 'ybey', 'ralgps2', 'ccnk', 'hdac8', 'dnm1', 'dctn4', 'a4galt', 'msantd1', 'ndufa11', 'il5', 'mtus1', 'trim36', 'rfk', 'usp46', 'lsm1', 'atp1b3', 'xrcc1', 'meis1', 'lrriq4', 'kctd10', 'gsn', 'spocd1', 'chst5', 'rnf112', 'zbtb33', 'sh3rf3', 'hspa12b', 'id2', 'lce1a', 'spaca9', 'lce2d', 'nme5', 'npnt', 'atxn1l', 'supt6h', 'tmem81', 'gabpb1', 'csh2', 'patl1', 'nav3', 'mlkl', 'vcam1', 'stbd1', 'marveld2', 'tdrd6', 'arx', 'hoxd8', 'f11', 'elp3', 'pramef19', 'ate1', 'napa', 'pnma3', 'plpp3', 'il6r', 'cbfa2t2', 'fam189b', 'glcci1', 'sox8', 'eral1', 'eea1', 'znf345', 'znf398', 'xiap', 'b4galnt4', 'coq5', 'clic4', 'cabp7', 'tax1bp3', 'rbm47', 'urb2', 'bcl2a1', 'or2a25', 'pdzd9', 'pml', 'dnai2', 'marf1', 'h6pd', 'tor2a', 'cyp27c1', 'cdc20', 'znf33a', 'cd5', 'gimap4', 'carf', 'numa1', 'znf197', 'slco4c1', 'slc32a1', 'ndfip1', 'drd5', 'men1', 'serp1', 'cd226', 'pbx1', 'b3galt6', 'scml2', 'dnajc6', 'tmem241', 'cdc42ep1', 'cd34', 'tmbim1', 'smim29', 'arfip1', 'slc16a1', 'gins4', 'phyhipl', 'ppp2cb', 'adam11', 'tmem132b', 'mocos', 'aldob', 'ces4a', 'brox', 'mdga2', 'slc6a17', 'thrsp', 'dph1', 'znf135', 'adam21', 'kcna5', 'kctd19', 'slc2a7', 'preb', 'znf676', 'bcl7a', 'hmgxb3', 'tomm70', 'tnfrsf9', 'rb1', 'pcca', 'fstl1', 'ncdn', 'cdon', 'syne3', 'rhot2', 'zbtb9', 'elf2', 'gck', 'hira', 'met', 'cttn', 'lmntd1', 'abcf2', 'fgfr2', 'krtap19-7', 'guf1', 'cabp5', 'smpd3', 'teddm1', 'plvap', 'lpin3', 'dgkz', 'eef1g', 'znf189', 'cyp26c1', 'col23a1', 'eef1a2', 'ppme1', 'cib1', 'ppdpf', 'ndrg1', 'tmem117', 'c3orf20', 'rfxap', 'cldn23', 'nod2', 'ambn', 'cdc14a', 'foxg1', 'tceal4', 'entpd5', 'ugt2a2', 'rnf139', 'clpx', 'vasn', 'eepd1', 'rarg', 'c17orf99', 'prr23a', 'znf264', 'dusp6', 'ndc1', 'heyl', 'b4galt6', 'hps6', 'nobox', 'il22', 'ccdc33', 'fahd2b', 'ptms', 'dgkg', 'sfxn4', 'zc2hc1c', 'cebpz', 'cd19', 'psmd4', 'fam136a', 'ncbp1', 'cblc', 'nup58', 'jmjd1c', 'pcdh19', 'igsf11', 'gli2', 'ube2r2', 'rnf103', 'tmem236', 'gpr61', 'ssna1', 'fcgr2b', 'klk4', 'or5m8', 'bambi', 'sfr1', 'rwdd2b', 'adamts18', 'znf691', 'fyttd1', 'vpreb1', 'glyatl3', 'tmem120a', 'mief1', 'smc1b', 'cnot6l', 'nrl', 'hoxb6', 'tnip1', 'ribc2', 'kiaa1210', 'nol9', 'supt20h', 'cnot6', 'ksr2', 'cmc1', 'fam222a', 'ppm1a', 'grk3', 'wwox', 'sugt1', 'rbbp5', 'tc2n', 'rasl12', 'elmo1', 'znf207', 'crybg3', 'or51g2', 'wwc1', 'snai1', 'atp5f1c', 'cfap298', 'anapc1', 'fbxl4', 'crct1', 'mmp24', 'ap1b1', 'rap2c', 'vwa5a', 'enox2', 'smyd4', 'chgb', 'tnfrsf13c', 'spata12', 'rab39b', 'dag1', 'srsf1', 'znf45', 'crcp', 'plekho1', 'pirt', 'slc30a7', 'fam207a', 'tia1', 'ano9', 'dtx4', 'ankrd49', 'pik3cg', 'proser2', 'banp', 'armc6', 'itga4', 'sell', 'dyrk4', 'anapc13', 'ctrb1', 'ripply2', 'plpp6', 'gpalpp1', 'slc37a1', 'ms4a7', 'ermap', 'col4a5', 'net1', 'reep5', 'ccr5', 'l2hgdh', 'hpr', 'amer3', 'grk4', 'zcchc7', 'ica1l', 'trim29', 'hormad1', 'slain2', 'epc2', 'b3galt4', 'bin1', 'msmo1', 'chit1', 'zscan18', 'ssmem1', 'nos2', 'smim28', 'rnf19a', 'litaf', 'ndufab1', 'klhl30', 'stau2', 'sec14l6', 'cdh17', 'lonrf3', 'chd9', 'arl3', 'lrtomt', 'gltp', 'gtf2a2', 'chuk', 'fgfr1op2', 'krt37', 'smagp', 'efr3a', 'ssu72p8', 'nom1', 'ints14', 'c3orf80', 'dcxr', 'chrna6', 'hltf', 'clca1', 'magix', 'rprd1b', 'abcb9', 'slc2a2', 'pex1', 'etnk2', 'wwp1', 'golt1b', 'cask', 'c1orf109', 'b3gat3', 'rax', 'sord', 'pih1d2', 'psmd6', 'ptrhd1', 'ankhd1', 'ly6g5b', 'zcchc24', 'pigk', 'ibsp', 'map9', 'rnf150', 'lta4h', 'nphp1', 'ctdsp2', 'iqce', 'kdsr', 'lsm7', 'nell2', 'proser1', 'wnt3a', 'cd1d', 'bcl2l13', 'bricd5', 'gjb2', 'sgpp2', 'eif4ebp2', 'vegfd', 'sostdc1', 'pygb', 'il21r', 'ift81', 'sertad4', 'actl6b', 'il4i1', 'vwa5b2', 'htr2b', 'cldn18', 'tmem196', 'trap1', 'zc2hc1a', 'chrna1', 'zfp1', 'wdr17', 'pet100', 'pcdhb9', 'akr1e2', 'tram1l1', 'spa17', 'cdrt15l2', 'gdnf', 'plxnb2', 'ano4', 'wasl', 'ppp1r9b', 'magee2', 'tmem44', 'nfe2l2', 'rtp1', 'dym', 'coq8b', 'tmem40', 'sucla2', 'mroh6', 'ankle1', 'ppm1l', 'rin3', 'tssk3', 'clasp2', 'wdsub1', 'foxh1', 'apoa5', 'slc9a1', 'terb1', 'tbc1d3e', 'phldb2', 'dhx58', 'kprp', 'mxd4', 'vgll3', 'arhgap11a', 'bach2', 'bmerb1', 'slc16a9', 'capn11', 'mnat1', 'pnpla1', 'smoc2', 'actr3b', 'ccdc32', 'fgd1', 'nvl', 'brd7', 'ccnl2', 'htr6', 'scrn2', 'sap130', 'galnt5', 'slc35a1', 'ypel2', 'lilrb1', 'krtap12-1', 'mt1m', 'tekt2', 'cps1', 'tacc1', 'c9orf64', 'crtam', 'tmod1', 'ppy', 'limd1', 'robo1', 'cdca5', 'eif2b1', 'ifi27l1', 'ier2', 'nyap2', 'vgf', 'fndc8', 'pdxk', 'lipi', 'smc4', 'hells', 'pcdhb11', 'hba2', 'pld2', 'art3', 'rgs18', 'cmtm4', 'rspo3', 'tbc1d10c', 'snap91', 'c11orf45', 'mboat7', 'nsmce1', 'fxyd5', 'rgs19', 'znf311', 'mns1', 'itgb6', 'engase', 'fam110c', 'ndufc1', 'prelp', 'pcdhb15', 'herc6', 'ifit3', 'itgb1bp2', 'znf229', 'tspan1', 'alkbh3', 'lnx2', 'znfx1', 'tceal5', 'mgp', 'vti1a', 'gsdme', 'chrm1', 'fam78a', 'znf273', 'slc4a5', 'rilp', 'ankrd34a', 'nrbp1', 'vmp1', 'hipk4', 'cfap47', 'plpp7', 'nol11', 'opcml', 'foxj1', 'stard10', 'lypd6', 'slc5a9', 'dusp22', 'luc7l3', 'ddx31', 'jph4', 'hexa', 'znf571', 'or10k2', 'foxb2', 'kpna2', 'ankrd13b', 'arap3', 'mep1a', 'acp1', 'mrgprx1', 'ppm1n', 'snai3', 'pla2r1', 'gabrr2', 'tmem132e', 'nnt', 'fam53b', 'klk12', 'cdc73', 'drgx', 'krtap17-1', 'allc', 'ints2', 'cdh6', 'sp7', 'znf80', 'mvk', 'cacna1d', 'lgals12', 'spo11', 'tspoap1', 'gnb4', 'ucn2', 'cdkn2c', 'rbp1', 'purg', 'sox6', 'nup62cl', 'ckap2l', 'uqcc3', 'ddit3', 'adat3', 'itch', 'ccnjl', 'kpna5', 'cma1', 'syngr2', 'tbc1d1', 'acacb', 'gtpbp10', 'atat1', 'atxn7l3b', 'astl', 'rasgrp3', 'tpmt', 'zscan16', 'ly6d', 'rnf135', 'mbnl3', 'tmem229b', 'setd1a', 'clnk', 'ca5b', 'mfsd12', 'cwf19l1', 'myot', 'ccnd1', 'nr1h4', 'sptbn5', 'lce3a', 'hoxb3', 'glrx', 'rnf44', 'muc3a', 'cd9', 'znf630', 'slc7a3', 'pglyrp1', 'smim9', 'cux2', 'cplx1', 'ccdc61', 'tpd52l2', 'hcfc2', 'tmem144', 'brf1', 'frs3', 'cpa1', 'stat1', 'tex13c', 'abca2', 'pcdhgb6', 'rdh5', 'ube2w', 'fam181b', 'nlrp1', 'ndfip2', 'rgl3', 'hcrtr1', 'mcph1', 'becn1', 'arl10', 'gsc', 'grina', 'pgm2l1', 'map10', 'znf200', 'ip6k3', 'znf445', 'sncb', 'clec12a', 'col9a2', 'nfix', 'cpne1', 'tcta', 'plekha2', 'kdm4a', 'mest', 'gcna', 'tmem244', 'septin7', 'rasl11b', 'dgka', 'bms1', 'ggt6', 'slbp', 'fbxw7', 'il18bp', 'tlcd1', 'kdm5a', 'arfgap2', 'krtap19-6', 'mgat4a', 'slc37a2', 'ncoa7', 'ppp1r42', 'spink5', 'ccdc120', 'agxt2', 'nanognb', 'klhl33', 'dedd', 'nsmce3', 'fbxo39', 'mpzl1', 'chrac1', 'tmem208', 'gpr85', 'kif1b', 'vwa5b1', 'accs', 'cd300c', 'abca5', 'mat1a', 'rbmx2', 'frrs1l', 'ezhip', 'hsd3b2', 'rcbtb1', 'slc24a3', 'rdh16', 'klhdc7a', 'snapc1', 'sh2b2', 'ccndbp1', 'tgm5', 'naa38', 'znf446', 'wdr53', 'ndufa2', 'smcp', 'prkar2a', 'c5ar1', 'stxbp3', 'pgrmc2', 'semg2', 'insr', 'c1qa', 'pank2', 'anapc4', 'esyt1', 'iqsec3', 'c1orf167', 'sult2b1', 'tm2d3', 'ip6k2', 'lrrc63', 'samd12', 'snrpb', 'mylk2', 'atrip', 'zic1', 'mtx3', 'islr', 'ccne1', 'rasd2', 'or1l8', 'gmip', 'znf805', 'neb', 'baz1a', 'tgm1', 'scgb1c2', 'znf687', 'tmem245', 'btn3a1', 'stard3nl', 'gatm', 'prss27', 'znf605', 'psmc1', 'chst3', 'bscl2', 'cetn1', 'lats2', 'or5h15', 'pmp22', 'gcfc2', 'vps33a', 'tent4a', 'clec4a', 'arsb', 'fkbp9', 'tmem238', 'cmtr2', 'sprr1b', 'reep3', 'cdh20', 'myocd', 'csdc2', 'sass6', 'wdr61', 'msantd4', 'slc5a7', 'ppp2ca', 'epha7', 'fbxl16', 'ndufa9', 'dnaja4', 'atf6', 'tbx18', 'lenep', 'ugt1a9', 'stk16', 'eef1b2', 'trmt10c', 'lsm14b', 'lgalsl', 'rab6b', 'hpse2', 'lbhd1', 'myo1f', 'gzmk', 'olfm2', 'cept1', 'znf35', 'dapk2', 'ablim3', 'meak7', 'zbed5', 'myo7b', 'tnrc6a', 'dtnb', 'akap10', 'tmco2', 'pabpc4', 'elane', 'hgd', 'cst9l', 'nr0b2', 'npepps', 'dcaf8l2', 'stk4', 'ell3', 'strit1', 'ggt2', 'tmem240', 'plp2', 'mmp27', 'ncbp2as2', 'pten', 'serbp1', 'caps', 'pyroxd2', 'rasal1', 'bag6', 'mapk8ip1', 'pou3f2', 'scn9a', 'fscb', 'dcdc1', 'adgrg3', 'cnih3', 'fabp5', 'tmem242', 'vamp4', 'gda', 'tmem102', 'dcakd', 'taf12', 'rdh10', 'ccdc153', 'pfn2', 'wdfy4', 'znf41', 'dydc2', 'cd320', 'chd4', 'spr', 'tmem212', 'hk3', 'rnf213', 'lrif1', 'tifab', 'mink1', 'il22ra1', 'cep68', 'arl9', 'nek6', 'fpgs', 'ska1', 'ppih', 'ybx1', 'siglec11', 'mtr', 'mnx1', 'b3gnt7', 'apol6', 'rtl8b', 'katna1', 'b3gnt9', 'oprm1', 'efhc1', 'tmem80', 'c10orf53', 'nanp', 'ferd3l', 'ago3', 'ltbp1', 'krt79', 'pdhb', 'gpr150', 'dennd4c', 'pwp1', 'hif3a', 'dlat', 'tnf', 'cd164', 'smim10l2a', 'parpbp', 'hmgcs2', 'oca2', 'ppp1r7', 'znf169', 'mtch2', 'grik2', 'znf16', 'pkm', 'il17d', 'rbm12b', 'wdr82', 'phc3', 's100a1', 'appl1', 'arhgef35', 'mark3', 'cdh15', 'extl2', 'cyp2j2', 'fam200a', 'olfml1', 'map7', 'dlgap5', 'emc8', 'znf114', 'nelfe', 'atp6v1e2', 'slc7a2', 'coro1a', 'derl3', 'sik2', 'il26', 'znf527', 'palb2', 'zdhhc9', 'rtl8c', 'bloc1s2', 'smim21', 'or2t12', 'cyp46a1', 'arhgap25', 'inpp1', 'helz2', 'sapcd1', 'c2orf50', 'snx10', 'rab6a', 'klf5', 'sypl1', 'insl4', 'ndufa5', 'ctsl', 'smarca2', 'stil', 'rsbn1', 'vps51', 'pard3', 'cyp4x1', 'enah', 'umps', 'uchl1', 'prkar2b', 'cav1', 'rad9a', 'kptn', 'fam8a1', 'tpm2', 'trdmt1', 'tmem126a', 'cyp1a2', 'spry3', 'il2ra', 'tmem14b', 'batf', 'smarce1', 'svop', 'gga1', 'ubxn2b', 'cdk4', 'tmed5', 'tmem161a', 'umodl1', 'klrb1', 'flt1', 'stx1a', 'kiaa0586', 'sh3bp5', 'clec1a', 'rhbdl1', 'wnk2', 'nptn', 'atl3', 'pabpc4l', 'c19orf18', 'serpina11', 'lmnb1', 'wnt9b', 'mttp', 'noa1', 'dse', 'osmr', 'lynx1', 'esr1', 'fcgr1b', 'slc17a5', 'add2', 'gtf2e1', 'ugt3a1', 'exoc3l4', 'pitpnm3', 'anxa8', 'vamp2', 'ago1', 'lamb1', 'odf3b', 'fcer1a', 'rasgrp4', 'rsrc2', 'prok1', 'eloa', 'vnn3', 'krt84', 'rnf10', 'cops2', 'krt33a', 'arhgef3', 'tbp', 'aff4', 'nacc1', 'srsf8', 'serinc5', 'nkain2', 'dtx3', 'jkamp', 'calml3', 'znf449', 'mks1', 'stum', 'pcdhga2', 'sardh', 'msh3', 'znf891', 'pabpc3', 'actr8', 'b3gntl1', 'c21orf91', 'noct', 'lin37', 'grhl2', 'ptpa', 'rock2', 'ddx20', 'abl1', 'samd8', 'cdyl', 'znf736', 'ucma', 'arid3a', 'mafb', 'cyp3a43', 'ccl5', 'fam118a', 'use1', 'man1a1', 'hspg2', 'asb10', 'c4orf47', 'ubqln3', 'kbtbd11', 'nxpe3', 'dclre1a', 'dusp8', 'pptc7', 'mydgf', 'btbd1', 'wdr55', 'ftcdnl1', 'gfra3', 'polr3f', 'mfsd4a', 'tspan11', 'psip1', 'ccdc77', 'scnm1', 'neu4', 'hydin', 'nipsnap3b', 'miox', 'cdkn2a', 'sct', 'ctps2', 'fjx1', 'fbxo36', 'eda', 'znf716', 'moxd1', 'robo2', 'gbe1', 'sod3', 'ranbp9', 'ctrl', 'psat1', 'nup50', 'pnma1', 'lurap1l', 'plin4', 'gmcl2', 'zfpm2', 'gata5', 'nup88', 'ptchd4', 'ext2', 'arl2', 'atxn3', 'elk4', 'fhod3', 'eya2', 'wdr45', 'kpna4', 'f10', 'ubiad1', 'gbp7', 'cck', 'p2rx3', 'eif2s3', 'pgk1', 'gpld1', 'cebpd', 'washc3', 'ptcd2', 'zkscan3', 'cilp', 'rbm3', 'cst9', 'xpc', 'thap6', 'exd3', 'arrb2', 'cd4', 'klk6', 'spem2', 'slc35e1', 'apcdd1l', 'ago4', 'ppm1j', 'rhbdd1', 'qser1', 'meox1', 'gpi', 'znf18', 'ndufb6', 'dchs1', 'lrrc23', 'slc44a4', 'kiaa1522', 'flywch2', 'fbn3', 'rasal3', 'hsd17b12', 'clcn6', 'igfbp2', 'ooep', 'sh3glb2', 'klhdc7b', 'ahnak2', 'per1', 'ash1l', 'ftl', 'nemf', 'ube2d3', 'qrfpr', 'ankra2', 'hey2', 'ablim1', 'psen2', 'timp2', 'lrrc8e', 'ociad1', 'ermp1', 'actr1b', 'slfn5', 'prr29', 'nhsl2', 'asb9', 'znf7', 'slc6a8', 'tuba3e', 'elp4', 'c3', 'prkd3', 'kctd20', 'hoxc9', 'tp53', 'nnat', 'kansl1l', 'ttc37', 'astn2', 'ly9', 'phyhip', 'wee1', 'lrp1', 'c8orf88', 'clns1a', 'kera', 'snw1', 'a3galt2', 'sft2d3', 'arhgap28', 'gemin4', 'p4hb', 'utp6', 'ttll3', 'fbxo15', 'icam1', 'ralgapb', 'ifi27l2', 'znf689', 'cela3b', 'c4orf3', 'tmem128', 'dcst2', 'lnp1', 'azin2', 'fads3', 'tex49', 'fmo4', 'eif6', 'naalad2', 'pkd2', 'cdca2', 'zyx', 'slc1a3', 'lama3', 'lrrc24', 'enc1', 'pla2g4e', 'ufc1', 'ccdc78', 'gsdma', 'klhdc3', 'trim66', 'kirrel3', 'tspan13', 'trim24', 'cyp3a7', 'fam89b', 'mdk', 'ccdc91', 'slc35f4', 'c14orf39', 'ap2a1', 'ctf1', 'aacs', 'ssr3', 'ccl19', 'lrrc20', 'mtpap', 'clec4c', 'lhfpl1', 'lrrc31', 'vps41', 'gpbar1', 'col5a1', 'nop58', 'tubb2b', 'inafm2', 'rxfp3', 'pgbd1', 'fam177a1', 'tbc1d16', 'or2g2', 'adam17', 'ptpre', 'aqp4', 'mt-nd4', 'zdhhc18', 'vat1', 'sowahb', 'mt2a', 'foxd4', 'or1n2', 'khdc4', 'vdac2', 'spata31d3', 'igsf23', 'cers2', 'zscan5b', 'epha2', 'dynlrb2', 'drap1', 'pbxip1', 'gjb3', 'adamts19', 'cadm1', 'dus3l', 'scx', 'znf600', 'pcmtd2', 'aldh6a1', 'sh3gl3', 'e2f8', 'kmt2c', 'polr1b', 'rab30', 'tulp4', 'chac2', 'aamdc', 'sema3c', 'vezt', 'hsd3b1', 'esco2', 'nudt22', 'cyb5a', 'wfdc1', 'tmem203', 'g2e3', 'arf6', 'myom3', 'c1galt1', 'cep131', 'fam124b', 'cmya5', 'defb128', 'ankrd34c', 'cep135', 'c1orf52', 'acly', 'cbll1', 'scg3', 'nup155', 'topors', 'gabre', 'mmut', 'adam28', 'sema4b', 'taok2', 'tmem185b', 'klk2', 'abcd3', 'rictor', 'klk10', 'iqca1l', 'meis3', 'tspan15', 'ube2l5', 'mt1e', 'c1orf53', 'arl14epl', 'znf595', 'naa50', 'elovl3', 'clec4m', 'insl5', 'ceacam19', 'rbbp8nl', 'znf586', 'iqsec2', 'pou6f2', 'iqcf5', 'golga8r', 'elmod2', 'mnd1', 'ldlrap1', 'ergic1', 'cd244', 'flt4', 'trpv5', 'greb1l', 'or5k1', 'ttc30a', 'kiaa1109', 'psmb1', 'rfx3', 'efs', 'krtap19-1', 'tmem121b', 'gpr174', 'insl6', 'inpp5k', 'tafa1', 'klhl11', 'gp5', 'ppa1', 'cers3', 'znf556', 'gsg1l', 'slc35b1', 'mpv17', 'aldh1a2', 'slc22a14', 'p3h1', 'irx2', 'hbegf', 'sp8', 'or8b4', 'nt5dc2', 'htt', 'nln', 'mmp14', 'ccdc59', 'emc3', 'tax1bp1', 'med13l', 'snx22', 'map4', 'paf1', 'grik5', 'yap1', 'foxd1', 'atp11b', 'dolpp1', 'clec2b', 'pnpla3', 'zc4h2', 'frmd5', 'tubb4b', 'znf529', 'il9', 'or2t6', 'casp3', 'bet1', 'plac9', 'th', 'srebf1', 'bmp2', 'lime1', 'prepl', 'galntl5', 'arhgap4', 'cpo', 'irx4', 'pno1', 'tcf7', 'tle1', 'wfikkn2', 'slc44a5', 'gpr142', 'pkn1', 'lbh', 'bod1', 'inafm1', 'plin3', 'hoxa5', 'notum', 'dennd2a', 'stx5', 'lamtor3', 'tspan31', 'scyl2', 'fbxw5', 'zwilch', 'prss33', 'gcn1', 'tspan32', 'ppial4a', 'c17orf75', 'rpp30', 'ugt2a3', 'wdr5', 'kcnc2', 'nfatc4', 'higd1c', 'pes1', 'tp53bp2', 'plpp1', 'nek1', 'nlrp2', 'rpp21', 'syde2', 'rab27a', 'zmynd15', 'slc4a1ap', 'st8sia1', 'fam189a1', 'rpap2', 'daglb', 'syde1', 'sit1', 'ap1g1', 'get3', 'c2cd3', 'tbk1', 'gfm2', 'cadps2', 'mtrf1', 'septin4', 'ifnl2', 'cnbp', 'ccdc170', 'pcsk1n', 'vps4a', 'cib3', 'slc25a30', 'stra6', 'lingo4', 'taf11l6', 'fgf9', 'c16orf87', 'npr2', 'sertad2', 'sesn3', 'cdk5r2', 'znf154', 'ifnar2', 'ghrl', 'trim34', 'pglyrp3', 'celf2', 'dlx2', 'socs7', 'hsbp1', 'lrrn2', 'or2t1', 'cd5l', 'arf3', 'crtc2', 'srd5a2', 'cdkn2b', 'fam174c', 'cnr1', 'fam20c', 'tg', 'txndc15', 'alkbh1', 'dus2', 'sh3tc1', 'palm', 'cop1', 'sema4a', 'grifin', 'slain1', 'e2f4', 'uba6', 'tex12', 'wiz', 'dgke', 'znf277', 'plekhg6', 'btnl8', 'sctr', 'rhbdl3', 'terf2ip', 'mapk1', 'ccnb1', 'patl2', 'dock11', 'grm7', 'hck', 'hoxd9', 'cdh11', 'slc29a1', 'syncrip', 'cipc', 'thada', 'slc22a18as', 'nxt1', 'alg6', 'jdp2', 'cldn16', 'c2cd6', 'znf140', 'mlxipl', 'ypel4', 'dtx1', 'tnfsf13b', 'zscan32', 'btc', 'rem1', 'myoz3', 'sergef', 'npas4', 'zcchc3', 'flot2', 'fam83f', 'hspb11', 'phkb', 'tyw1', 'znf652', 'pm20d2', 'ppm1d', 'rnf24', 'gosr2', 'vars2', 'coa5', 'serinc1', 'wscd1', 'mavs', 'ces3', 'ect2l', 'pnldc1', 'dstn', 'gnl2', 'tmem52', 'spata32', 'tomm40l', 'rp2', 'rab40a', 'gmpr', 'podn', 'nrxn3', 'ldlrad3', 'cxcl10', 'mpc1', 'zscan21', 'atp6v1b1', 'fbxo38', 'ccl2', 'ddx27', 'izumo2', 'itgb3', 'c2orf81', 'marcol', 'hip1', 'epc1', 'foxl2nb', 'dock1', 'wdr45b', 'mlh3', 'tecta', 'mcu', 'fam3b', 'trpm7', 'ankrd22', 'atxn7l2', 'myh15', 'slc11a2', 'hmgcr', 'il11', 'znf133', 'defb124', 'rrp1b', 'prkcb', 'ccl27', 'nubp2', 'map2', 'cdx2', 'lrrc3b', 'krt6a', 'il1rapl2', 'paep', 'nsun2', 'fam219a', 'skap1', 'bcl2l11', 'adgrl2', 'nap1l4', 'elmo3', 'ddx28', 'cox7a2l', 'hnmt', 'rnf38', 'evi2a', 'kctd11', 'atp9b', 'gkn2', 'tmprss4', 'ppp2r2d', 'adat2', 'ajap1', 'phf21a', 'hyou1', 'rasa1', 'maged2', 'btbd17', 'rfc3', 'mpp6', 'kif2c', 'nlrx1', 'ccl18', 'cybc1', 'atp2a3', 'scand1', 'nkapl', 'erc1', 'or1m1', 'selenov', 'znf394', 'mier2', 'slc4a2', 'dhrsx', 'nbas', 'smarcd3', 'mmp16', 'slu7', 'orai2', 'npy', 'znf160', 'zgrf1', 'ndufaf8', 'scnn1d', 'lbp', 'rasal2', 'slc2a13', 'ankrd11', 'rab37', 'fibin', 'trim4', 'sox7', 'hif1an', 'ube2g2', 'znf22', 'actr1a', 'cd27', 'tns3', 'ddx43', 'clec5a', 'lyplal1', 'deptor', 'rgs6', 'nudt10', 'atp23', 'pmaip1', 'htra3', 'auh', 'zbtb34', 'lzts2', 'slc16a5', 'igfbp7', 'tmem43', 'znf648', 'c5orf52', 'polg2', 'zdhhc21', 'cyp2b6', 'znf646', 'cp', 'ocln', 'gmeb1', 'edem2', 'znf512b', 'r3hcc1l', 'cnnm2', 'znf587b', 'hivep3', 'slc39a1', 'ripply1', 'sapcd2', 'lsm10', 'smyd2', 'cfap97d2', 'aloxe3', 'c7orf57', 'cacng6', 'il10rb', 'jun', 'fam151a', 'bcdin3d', 'tro', 'tab2', 'dcaf5', 'fam205c', 'znf44', 'selenop', 'cope', 'dock8', 'hes4', 'cxcr1', 'rab22a', 'gpr137', 'vps13a', 'kiss1r', 'vma21', 'neurog3', 'sap18', 'cenpp', 'zfand4', 'cr1l', 'smim5', 'f8a1', 'lamtor2', 'gng3', 'tspyl4', 'ly6g6f', 'kctd2', 'clstn3', 'gsta1', 'smim30', 'odf3l2', 'mus81', 'mylk', 'c4orf33', 'adamtsl4', 'setmar', 'tm4sf5', 'eif4a3', 'acbd3', 'pdzd2', 'amhr2', 'sec14l5', 'matn3', 'fam167b', 'dleu7', 'dnase1l2', 'pkn2', 'taf5', 'tlcd3a', 'tbc1d22b', 'n4bp1', 'coa1', 'ptpn9', 'lrwd1', 'cln8', 'dnajb8', 'otub1', 'eya1', 'siglec14', 'hnrnpu', 'rab32', 'nbdy', 'fn3krp', 'oosp4a', 'fgf14', 'rad23a', 'il27ra', 'mrgbp', 'plekhf1', 'trmu', 'safb', 'dalrd3', 'opn5', 'pelp1', 'tmem8b', 'adig', 'slc17a4', 'or52k1', 'wnt16', 'strn4', 'ptprq', 'spata5', 'smg1', 'gabrb1', 'siah2', 'bcl6', 'tmem156', 'rcc1', 'daam2', 'inhbb', 'cenps', 'fmnl3', 'spry1', 'ufd1', 'top2b', 'cd151', 'znf649', 'gabra2', 'kcnc1', 'pde9a', 's100a7l2', 'birc5', 'qki', 'tgfbr1', 'mocs2', 'trim51gp', 'ccl24', 'ptk2', 'foxj3', 'gmds', 'txndc11', 'agfg2', 'afg3l2', 'cubn', 'ssr4', 'iqcn', 'rab5b', 'crb3', 'slc66a3', 'sltm', 'cald1', 'ly6g6d', 'znf548', 'c20orf144', 'usf1', 'hrct1', 'elp1', 'trappc3', 'ccl8', 'gpr171', 'ikzf1', 'rnf8', 'mss51', 'knop1', 'slc20a1', 'prrt1b', 'tssk2', 'abracl', 'krcc1', 'unc5cl', 'mapk6', 'fbxo22', 'galns', 'gpx5', 'gpsm2', 'lgi4', 'pclo', 'c1orf131', 'paqr3', 'tcf21', 'myo5c', 'grhl3', 'rnf212', 'prickle1', 'btbd7', 'grb10', 'pla2g4d', 'gulp1', 'ublcp1', 'synrg', 'ankrd55', 'uckl1', 'atp5mf', 'pik3ip1', 'nox1', 'golga7', 'sh3pxd2b', 'ccr8', 'mtmr11', 'il24', 'bcap29', 'tp53i13', 'apobec3d', 'tmod3', 'b3gnt3', 'hmgb3', 'coq10b', 'pop1', 'usp9x', 'sppl2a', 'wnt2b', 'trim46', 'p4htm', 'lasp1', 'ervfrd-1', 'ptpn11', 'slc39a6', 'gdi1', 'gpr32', 'shh', 'ppp1r15b', 'rho', 'fam90a1', 'gga2', 'cenpx', 'znf546', 'or10j5', 'lmtk2', 'ier3ip1', 'npat', 'bean1', 'or10h3', 'plekhg4', 'prok2', 'klc2', 'ndufv2', 'mvb12a', 'apoc2', 'csnk2a1', 'sgk1', 'uroc1', 'lyzl4', 'prr7', 'sec14l1', 'gbp6', 'cyp26a1', 'nfil3', 'cutc', 'capzb', 'kctd21', 'supt16h', 'c16orf90', 'bex3', 'irak1bp1', 'zap70', 'cox7c', 'mageb6', 'pcgf1', 'agt', 'rassf6', 'kat6a', 'tbx3', 'txnrd3', 'safb2', 'or7g2', 'gdap1l1', 'ncam1', 'macf1', 'ufsp1', 'ube2i', 'plcxd2', 'rab25', 'rxylt1', 'serpinb12', 'commd6', 'proca1', 'lag3', 'epha8', 'tnnc1', 'plrg1', 'araf', 'dnajc30', 'sec14l4', 'insyn2b', 'scmh1', 'pate1', 'cox19', 'igfl1', 'nlgn3', 'cd14', 'or6k6', 'ly6g6c', 'pcbp1', 'nudc', 'rhce', 'ak6', 'il13ra2', 'mtg1', 'npc1', 'per3', 'pou2af1', 'postn', 'u2af2', 'tmem74', 'sspn', 'nkx2-8', 'crk', 'etf1', 'tsnare1', 'pip4k2b', 'st6galnac4', 'ppargc1a', 'hoxa6', 'ifna8', 'hipk3', 'ltbp3', 'hdac1', 'chchd7', 'fam120b', 'rinl', 'ntf3', 'u2surp', 'cep85', 'zscan25', 'ikbkb', 'mark2', 'myl6b', 'zkscan8', 'rgs3', 'wdr91', 'c14orf132', 'sec11a', 'taf11l13', 'tppp2', 'bnip2', 'septin3', 'saraf', 'kdm1a', 'zyg11a', 'ube2v2', 'slc39a9', 'adgrb1', 'krtap5-6', 'cfhr3', 'skil', 'slc39a13', 'hhipl1', 'txnl4b', 'nfe2', 'nop10', 'fbxo31', 'defb108b', 'sdf2', 'fam3c', 'vsig10l', 'sypl2', 'actc1', 'igsf3', 'prkd2', 'pate2', 'uggt1', 'omg', 'st6gal2', 'klrk1', 'asmt', 'fam228a', 'col1a2', 'fxyd2', 'heatr4', 'tamm41', 'zbtb47', 'fam186a', 'uqcrc2', 'kl', 'grip2', 'znrf2', 'chst9', 'slc22a9', 'klhl2', 'spdye1', 'col16a1', 'tra2b', 'fbxo24', 'tmem273', 'eda2r', 'taf1a', 'sh3tc2', 'prdm2', 'aqp9', 'kcnq5', 'nlk', 'dbp', 'fdx2', 'nkx3-2', 'snorc', 'pcid2', 'lep', 'bud13', 'pttg1ip', 'prdx6', 'ticrr', 'vstm1', 'ovol1', 'pcdhga7', 'irf4', 'card18', 'akap3', 'nmral1', 'ralgapa2', 'atp6ap1', 'nkx1-2', 'rasa3', 'myo18b', 'kdm2b', 'plec', 'znf181', 'naa16', 'onecut3', 'zfand2a', 'slc6a3', 'c12orf76', 'arl4c', 'galnt6', 'adal', 'zfp37', 'ino80', 'egfl6', 'atp6v1f', 'slc15a1', 'piwil2', 'prnp', 'ntrk1', 'c11orf68', 'tti2', 'tectb', 'ptprz1', 'syt11', 'tial1', 'hectd1', 'myl1', 'cldn6', 'malt1', 'arhgap40', 'itk', 'krt78', 'spsb3', 'angptl4', 'ercc8', 'dennd6b', 'mfhas1', 'cops9', 'mxi1', 'gucy1a2', 'krtap21-1', 'fads1', 'spata31a5', 'rusc1', 'sh3rf1', 'tiparp', 'rasd1', 'taf1b', 'znf704', 'spats2', 'znf568', 'adgrg2', 'ccbe1', 'otud4', 'zswim2', 'ascc1', 'syne4', 'slc27a2', 'tas1r1', 'zmat2', 'pot1', 'bicd2', 'per2', 'abhd5', 'cep63', 'krtap10-10', 'lima1', 'vwc2', 'plppr5', 'b4galt2', 'hmgcl', 'capn2', 'cnot11', 'slc25a15', 'insyn2a', 'crebbp', 'clgn', 'psrc1', 'zcchc4', 'spock1', 'anapc15', 'gata6', 'wnt8b', 'tvp23c', 'ccdc65', 'phc2', 'tbcc', 'cnn1', 'ppp2r5b', 'brd4', 'igfl3', 'fgf1', 'n4bp2l2', 'arhgef10l', 'inf2', 'dst', 'fpr3', 'tmem171', 'efna4', 'mertk', 'sox13', 'pigb', 'mia2', 'tmem178b', 'proser3', 'brf2', 'lhx3', 'fbxo11', 'mlip', 'prdm14', 'plaat4', 'anxa13', 'fibp', 'gpr33', 'dip2a', 'slc16a4', 'pcnt', 'cnot1', 'calr', 'srpx2', 'hspb6', 'cdc6', 'chadl', 'or10j1', 'rasl10a', 'fnbp1l', 'slc25a6', 'cry1', 'epop', 'strc', 'slc25a47', 'hdgfl1', 'trim3', 'cpz', 'tm9sf4', 'cops7b', 'rnf11', 'dnajb5', 'ssh1', 'klln', 'il36rn', 'znf184', 'lrrc57', 'ssh2', 'ctcf', 'eri2', 'lcp1', 'mxd1', 'crocc2', 'pcsk7', 'sema4f', 'ndufa8', 'usp41', 'zfat', 'lpl', 'thoc2', 'haao', 'or10v1', 'mxra8', 'tnk2', 'dnaaf2', 'wbp11', 'rbbp6', 'pla2g4b', 'usp3', 'slc6a6', 'fgf6', 'mmp28', 'psmg2', 'osbpl6', 'atpsckmt', 'ltk', 'olfml2a', 'nbpf11', 'wnt10a', 'or13c4', 'scgb1d1', 'parvg', 'armcx5', 'rab3gap2', 'pdcl3', 'heatr9', 'ezh2', 'cd300e', 'api5', 'ptpn13', 'nrbp2', 'snrpb2', 'myb', 'pknox2', 'rpf2', 'naa80', 'rnase12', 'fmn2', 'c1qtnf4', 'slc44a3', 'rnf125', 'asph', 'bax', 'tfap2e', 'e4f1', 'dbf4', 'cdk5r1', 'tasor', 'myo10', 'prr18', 'c9orf153', 'zc3h15', 'etfbkmt', 'cfhr5', 'frs2', 'abcc12', 'arsj', 'crhbp', 'rtn3', 'gcnt1', 'mymk', 'rsph1', 'stk24', 'or4n5', 'rbp3', 'trim26', 'slc22a13', 'cand1', 'lztr1', 'tango2', 'tmem87a', 'cdx1', 'ngfr', 'armc5', 'mien1', 'git2', 'hs3st1', 'arpc5l', 'st3gal5', 'exoc8', 'kiaa0895', 'ephb4', 'tnfsf15', 'cacna1i', 'carhsp1', 'setdb1', 'tgm6', 'mc4r', 'znf10', 'fbrs', 'dsp', 'mphosph10', 'mab21l1', 'ythdc2', 'xrra1', 'hid1', 'shisa6', 'cog8', 'hsbp1l1', 'mfap3', 'prtg', 'slc26a4', 'col15a1', 'pigq', 'fxyd7', 'actl6a', 'abhd11', 'pkp3', 'or10d3', 'ankrd27', 'ss18l1', 'phox2b', 'apela', 'suz12', 'casq1', 'ttll9', 'wfdc5', 'pomgnt2', 'dpys', 'gtse1', 'susd4', 'cfap299', 'trim42', 'ccdc177', 'phka1', 'krt86', 'tmem131', 'myl10', 'ddx10', 'fam9b', 'cmip', 'piwil4', 'adra1d', 'gmcl1', 'rdm1', 'apod', 'kcnn3', 'smo', 'slc45a3', 'aox1', 'col1a1', 'gpr152', 'vwa7', 'rnf2', 'baz1b', 'c6orf132', 'neurl1b', 'ascl2', 'lrp4', 'sertm1', 'tut1', 'usp22', 'otop3', 'nefl', 'wdr86', 'mthfs', 'rabgap1', 'pax9', 'l3mbtl1', 'cnot10', 'papolb', 'vill', 'cidea', 'vstm5', 'bard1', 'tspan10', 'krtap21-2', 'creb3l1', 'ccdc154', 'stard3', 'mex3a', 'pign', 'hcn2', 'dpm1', 'efnb2', 'crp', 'upf2', 'uba5', 'zfand3', 'prag1', 'cd93', 'crisp3', 'tulp3', 'znf521', 'amelx', 'dcaf8l1', 'alad', 'foxq1', 'ptf1a', 'ttll1', 'neurl1', 'nkd2', 'arid1a', 'ccdc42', 'scyl1', 'timm13', 'kantr', 'hoxc12', 'pi4ka', 'sv2b', 'susd2', 'tmem165', 'lats1', 'mbl2', 'znf24', 'echdc1', 'entpd6', 'b3glct', 'znf780b', 'ormdl2', 'crot', 'traf3ip1', 'ptpn20', 'map1lc3b', 'or5au1', 'plekho2', 'smcr8', 'grp', 'adamts17', 'smdt1', 'cdk15', 'tdrd5', 'matn2', 'mtmr12', 'snap25', 'dio3', 'ctxnd2', 'zfp64', 'faf2', 'tnfrsf6b', 'zfp69b', 'yy1', 'rmdn2', 'ghrh', 'klhl35', 'arhgap36', 'fxyd3', 'ankrd17', 'plag1', 'zbtb18', 'pitx1', 'rnase8', 'upb1', 'nrn1', 'larp1b', 'xkr4', 'kpna3', 'cdh1', 'page1', 'chd6', 'dnttip2', 'cd101', 'lipt1', 'tbx22', 'zhx1', 'hexim2', 'slc66a2', 'cdc34', 'slc35a5', 'ears2', 'lpin1', 'rtp5', 'or56a1', 'fn3k', 'tmem214', 'cacul1', 'cdk2ap1', 'atp6v1d', 'wipi2', 'or5m10', 'il6', 'fmnl2', 'ngdn', 'psg3', 'rnf128', 'mtap', 'fgd3', 'rasa2', 'ttn', 'gfpt1', 'arhgef4', 'arih1', 'mif4gd', 'znf579', 'kcne4', 'sugct', 'polr2a', 'qrich2', 'cxcl1', 'khdc3l', 'prr3', 'itprid1', 'c17orf49', 'c19orf25', 'ecm1', 'krtap5-8', 'igfl2', 'cd300lf', 'prdm9', 'entpd8', 'znf233', 'mgat4d', 'stk32c', 'tbx2', 'cpeb4', 'klhl38', 'plekha5', 'glyr1', 'or4c3', 'ncoa6', 'sdf2l1', 'cel', 'efna2', 'prxl2a', 'med6', 'tor3a', 'frg2c', 'slc13a4', 'apcs', 'ston1', 'atp1b2', 'znf665', 'c15orf40', 'haus1', 'tmc4', 'ikbke', 'tnfsf4', 'irf2bpl', 'cnih2', 'vezf1', 'tesk2', 'mapk7', 'casp6', 'elovl5', 'fbxo21', 'fndc11', 'lsp1', 'duoxa2', 'sub1', 'znf100', 'krtap10-3', 'scyl3', 'fam229b', 'rnf151', 'clcn2', 'znf573', 'ywhab', 'ikzf2', 'slc10a5', 'znf557', 'gng13', 'zfp36l2', 'tnni3', 'taf9b', 'lsr', 'or4d10', 'tmem222', 'rnf111', 'gbp2', 'nipal3', 'aktip', 'pef1', 'ccdc200', 'cldn5', 'ppm1e', 'kdf1', 'gtf2h4', 'frem1', 'pde1b', 'ctdnep1', 'edaradd', 'ostc', 'rpel1', 'igsf8', 'c17orf113', 'dnmt3a', 'gpam', 'rrm1', 'bmp1', 'znf33b', 'c16orf54', 'ccnj', 'atp6v0a1', 'ube3d', 'cort', 'c2orf49', 'recql4', 'alpl', 'lipk', 'ndc80', 'ephx3', 'diras1', 'tmem11', 'rad21l1', 'mctp2', 'prrc2a', 'epha1', 'or52b6', 'tnnc2', 'abcg8', 'syvn1', 'gata4', 'fitm1', 'slc17a7', 'arhgap22', 'med10', 'clybl', 'adat1', 'sth', 'ubxn11', 'asnsd1', 'edc3', 'cdrt4', 'nptxr', 'tex46', 'rergl', 'ap5m1', 'asb15', 'tbc1d4', 'wnt1', 'ebf3', 'mlc1', 'ptcra', 'etv6', 'ankrd40', 'etv3l', 'tube1', 'ltv1', 'fdxacb1', 'znf729', 'or9k2', 'grm1', 'prpf6', 'pla2g2a', 'haus4', 'itpka', 'c22orf15', 'spsb1', 'grb2', 'top1', 'or1a1', 'als2cl', 'asb5', 'tanc1', 'ezh1', 'cul3', 'radx', 'agpat2', 'eml4', 'or2f1', 'ostf1', 'slc38a7', 'ankrd1', 'trim72', 'sned1', 'tnfsf12', 'clk2', 'triml1', 'tpra1', 'map1s', 'mbd4', 'nol3', 'mbd2', 'dgat1', 'ctso', 'odam', 'fam83c', 'ticam1', 'fh', 'pacsin1', 'osr1', 'nat10', 'mgat2', 'gtf2f1', 'cox7a2', 'srrm1', 'nek10', 'acp6', 'irgm', 'cwc27', 'pon3', 'znf511', 'ctsc', 'cfap99', 'retreg3', 'znf480', 'eif2ak3', 'dok2', 'arhgap9', 'nup205', 'cys1', 'eid2b', 'adam19', 'mxd3', 'abca10', 'dguok', 'gtpbp1', 'efna3', 'zcwpw2', 'siglec7', 'xpot', 'scp2', 'slc29a3', 'ccer2', 'jtb', 'clmp', 'rexo5', 'rfx6', 'lrtm2', 'b2m', 'elp2', 'lrrc3', 'arrdc4', 'znf680', 'ankrd34b', 'col12a1', 'fiz1', 'dazap1', 'angel2', 'aifm2', 'slc6a14', 'ndor1', 'sesn2', 'rcan3', 'synj2bp', 'gabra4', 'mael', 'shc3', 'aire', 'pmp2', 'ucp2', 'lysmd4', 'topbp1', 'acvr2b', 'wdr62', 'flacc1', 'c1orf112', 'zic4', 'ankrd37', 'ido1', 'parp3', 'ifna21', 'serpina12', 'zcchc13', 'lbx1', 'amer2', 'pcdh9', 'tent2', 'nudt14', 'cemip', 'abhd8', 'plcl1', 'sh3bp2', 'mast3', 'mal2', 'elp6', 'tcte1', 'pbx3', 'cer1', 'prdm8', 'ppp6r1', 'smim15', 'mica', 'frmd8', 'nlrp4', 'mvd', 'btg2', 'ddx58', 'mon2', 'meltf', 'akt1', 'irf9', 'pygm', 'klf7', 'ush1g', 'tbx5', 'wdr13', 'cnot7', 'ampd2', 'mrln', 'gucy2f', 'phf21b', 'pik3ca', 'shld3', 'dbt', 'rfx7', 'eps15l1', 'cul5', 'csnk2a2', 'trim65', 'anxa4', 'gas8', 'taf2', 'znf385b', 'slc9a3', 'ccn3', 'or5b2', 'gad1', 'fbrsl1', 'ifna4', 'bap1', 'clec3a', 'zdhhc7', 'rab24', 'klhl18', 'acbd7', 'xpo5', 'scrt1', 'kcnt2', 'dhrs4', 'oxct1', 'iqcf1', 'gria3', 'or1c1', 'trdn', 'pcolce2', 'slc35f3', 'il20rb', 'hhip', 'il22ra2', 'fezf1', 'spata2l', 'mcidas', 'rapgefl1', 'znf407', 'ubox5', 'dido1', 'lcp2', 'dmrta2', 'scrn1', 'arpc1a', 'hbs1l', 'znf682', 'rsf1', 'brd2', 'dpysl4', 'urgcp', 'gde1', 'lcnl1', 'wbp2', 'epb41l4a', 'pgd', 'idh1', 'creb3l4', 'pip4p2', 'trim50', 'pafah2', 'sh3gl2', 'or4k1', 'blmh', 'xrcc6', 's100b', 'zacn', 'pik3r2', 'tmem63c', 'tmem86a', 'pacc1', 'tesk1', 'degs2', 'cmtm3', 'gimap2', 'vasp', 'rpgr', 'asah1', 'scgn', 'lilra4', 'rp9', 'pdzd11', 'tex13d', 'bco2', 'fam184a', 'igfbp1', 'ubxn1', 'osbpl2', 'traf4', 'frrs1', 'ttyh2', 'sh3bgr', 'slc6a20', 'c16orf91', 'piezo2', 'itsn1', 'sh3bp4', 'alx4', 'cnr2', 'trpc3', 'cnnm1', 'fa2h', 'ctage1', 'raly', 'or2m4', 'tll1', 'rnf41', 'ralb', 'zim3', 'capg', 'hcrtr2', 'vps72', 'arhgap19', 'cep170b', 'ube2q2', 'gramd1b', 'rrad', 'tbc1d14', 'dusp18', 'tex29', 'n6amt1', 'hpn', 'xk', 'irs2', 'traf5', 'kiaa0513', 'zfyve28', 'col8a1', 'tmem70', 'pds5b', 'col4a2', 'slc7a13', 'cct2', 'hoxc8', 'slc26a7', 'znf248', 'thap1', 'or5ap2', 'foxk2', 'ptprt', 'kcnk2', 'gatc', 'btn1a1', 'gask1a', 'spats2l', 'gigyf1', 'arhgap35', 'dok7', 'znf354a', 'plau', 'ddit4', 'glrx3', 'rffl', 'ccdc150', 'tcf12', 'slc25a41', 'gna12', 'rexo4', 'rpain', 'lin7b', 'stag2', 'slc46a1', 'mmd', 'tmlhe', 'prpf38b', 'dut', 'srgap3', 'kdelr1', 'col4a6'}\n"
     ]
    },
    {
     "data": {
      "text/plain": [
       "{'aars',\n",
       " 'ac004593.3',\n",
       " 'ac005551.1',\n",
       " 'ac007906.2',\n",
       " 'ac008397.1',\n",
       " 'ac008687.4',\n",
       " 'ac010255.3',\n",
       " 'ac010325.1',\n",
       " 'ac011005.1',\n",
       " 'ac011195.2',\n",
       " 'ac013470.2',\n",
       " 'ac015871.1',\n",
       " 'ac021072.1',\n",
       " 'ac021097.2',\n",
       " 'ac025283.2',\n",
       " 'ac025287.4',\n",
       " 'ac067752.1',\n",
       " 'ac072022.2',\n",
       " 'ac073111.4',\n",
       " 'ac087498.1',\n",
       " 'ac090360.1',\n",
       " 'ac091057.6',\n",
       " 'ac092835.1',\n",
       " 'ac093323.1',\n",
       " 'ac099489.1',\n",
       " 'ac104389.5',\n",
       " 'ac113348.1',\n",
       " 'ac115220.1',\n",
       " 'ac118549.1',\n",
       " 'ac119396.1',\n",
       " 'ac132217.2',\n",
       " 'ac134684.8',\n",
       " 'ac138647.1',\n",
       " 'ac187653.1',\n",
       " 'ac233723.1',\n",
       " 'ac236972.4',\n",
       " 'acpp',\n",
       " 'adprhl2',\n",
       " 'adss',\n",
       " 'adssl1',\n",
       " 'al032819.3',\n",
       " 'al109810.2',\n",
       " 'al121578.2',\n",
       " 'al135905.2',\n",
       " 'al160269.1',\n",
       " 'al162231.1',\n",
       " 'al162596.1',\n",
       " 'al353572.3',\n",
       " 'al354761.1',\n",
       " 'al391650.1',\n",
       " 'al445238.1',\n",
       " 'al451007.3',\n",
       " 'al590560.2',\n",
       " 'al603764.2',\n",
       " 'al845331.2',\n",
       " 'alg1l',\n",
       " 'ap002495.1',\n",
       " 'arih2os',\n",
       " 'armc4',\n",
       " 'arse',\n",
       " 'atp5md',\n",
       " 'atp5mpl',\n",
       " 'atp6ap1l',\n",
       " 'b3gnt10',\n",
       " 'bhmg1',\n",
       " 'bx255925.3',\n",
       " 'bx276092.9',\n",
       " 'c10orf142',\n",
       " 'c10orf55',\n",
       " 'c11orf40',\n",
       " 'c11orf74',\n",
       " 'c11orf88',\n",
       " 'c12orf10',\n",
       " 'c12orf49',\n",
       " 'c12orf74',\n",
       " 'c12orf81',\n",
       " 'c14orf177',\n",
       " 'c15orf41',\n",
       " 'c16orf58',\n",
       " 'c17orf53',\n",
       " 'c19orf48',\n",
       " 'c19orf57',\n",
       " 'c1orf61',\n",
       " 'c2orf83',\n",
       " 'c2orf91',\n",
       " 'c3orf67',\n",
       " 'c5orf30',\n",
       " 'c5orf60',\n",
       " 'c5orf67',\n",
       " 'c6orf201',\n",
       " 'c6orf223',\n",
       " 'c7orf77',\n",
       " 'c9orf129',\n",
       " 'c9orf92',\n",
       " 'card16',\n",
       " 'card17',\n",
       " 'cars',\n",
       " 'casc1',\n",
       " 'casc4',\n",
       " 'castor3',\n",
       " 'ccdc114',\n",
       " 'ccdc151',\n",
       " 'ccdc155',\n",
       " 'ccdc36',\n",
       " 'ccdc39',\n",
       " 'ccdc84',\n",
       " 'cd3eap',\n",
       " 'cenpbd1',\n",
       " 'cllu1os',\n",
       " 'cntd2',\n",
       " 'ct62',\n",
       " 'cxorf21',\n",
       " 'cxorf40a',\n",
       " 'cxorf56',\n",
       " 'cyb561d2',\n",
       " 'dars',\n",
       " 'dec1',\n",
       " 'defb133',\n",
       " 'dirc1',\n",
       " 'dock8-as1',\n",
       " 'dupd1',\n",
       " 'dusp27',\n",
       " 'elfn2',\n",
       " 'elmsan1',\n",
       " 'eloa3',\n",
       " 'eprs',\n",
       " 'fam122a',\n",
       " 'fam122b',\n",
       " 'fam122c',\n",
       " 'fam169b',\n",
       " 'fam192a',\n",
       " 'fam218a',\n",
       " 'fam30a',\n",
       " 'fam49a',\n",
       " 'fam49b',\n",
       " 'fam92b',\n",
       " 'fgfr1op',\n",
       " 'fopnl',\n",
       " 'fp565260.1',\n",
       " 'gars',\n",
       " 'gcsaml-as1',\n",
       " 'gdf5os',\n",
       " 'glra4',\n",
       " 'golga8m',\n",
       " 'grasp',\n",
       " 'h1f0',\n",
       " 'h1fnt',\n",
       " 'h1foo',\n",
       " 'h1fx',\n",
       " 'h2afj',\n",
       " 'h2afx',\n",
       " 'h2afy',\n",
       " 'h2afy2',\n",
       " 'h2afz',\n",
       " 'h2bfm',\n",
       " 'h2bfwt',\n",
       " 'h3.y',\n",
       " 'h3f3a',\n",
       " 'h3f3b',\n",
       " 'h3f3c',\n",
       " 'hars',\n",
       " 'hhla3',\n",
       " 'hist1h1a',\n",
       " 'hist1h1b',\n",
       " 'hist1h1c',\n",
       " 'hist1h1d',\n",
       " 'hist1h1e',\n",
       " 'hist1h2ac',\n",
       " 'hist1h2ae',\n",
       " 'hist1h2ag',\n",
       " 'hist1h2ai',\n",
       " 'hist1h2ak',\n",
       " 'hist1h2bb',\n",
       " 'hist1h2bg',\n",
       " 'hist1h2bh',\n",
       " 'hist1h2bn',\n",
       " 'hist1h3e',\n",
       " 'hist1h3g',\n",
       " 'hist1h3h',\n",
       " 'hist1h4b',\n",
       " 'hist1h4c',\n",
       " 'hist1h4e',\n",
       " 'hist1h4g',\n",
       " 'hist1h4i',\n",
       " 'hist1h4j',\n",
       " 'hist2h2be',\n",
       " 'hist3h2a',\n",
       " 'hist3h2bb',\n",
       " 'hist3h3',\n",
       " 'hist4h4',\n",
       " 'hypm',\n",
       " 'iars',\n",
       " 'ick',\n",
       " 'igha1',\n",
       " 'igha2',\n",
       " 'ighd',\n",
       " 'ighe',\n",
       " 'ighg1',\n",
       " 'ighg3',\n",
       " 'ighm',\n",
       " 'igkc',\n",
       " 'iglc1',\n",
       " 'iglc7',\n",
       " 'impad1',\n",
       " 'kars',\n",
       " 'kiaa0355',\n",
       " 'kiaa0556',\n",
       " 'kiaa1211',\n",
       " 'kiaa1211l',\n",
       " 'kiaa1257',\n",
       " 'kiaa1324',\n",
       " 'kiaa1324l',\n",
       " 'kif1bp',\n",
       " 'lars',\n",
       " 'linc02693',\n",
       " 'linc02694',\n",
       " 'lor',\n",
       " 'lrmp',\n",
       " 'lrp5l',\n",
       " 'lrrc29',\n",
       " 'maats1',\n",
       " 'marc1',\n",
       " 'marc2',\n",
       " 'march1',\n",
       " 'march10',\n",
       " 'march11',\n",
       " 'march2',\n",
       " 'march3',\n",
       " 'march4',\n",
       " 'march5',\n",
       " 'march6',\n",
       " 'march7',\n",
       " 'march8',\n",
       " 'march9',\n",
       " 'mars',\n",
       " 'mir1915hg',\n",
       " 'mrvi1',\n",
       " 'mycnos',\n",
       " 'nars',\n",
       " 'nxf5',\n",
       " 'or5r1',\n",
       " 'palm2-akap2',\n",
       " 'pano1',\n",
       " 'pde11a',\n",
       " 'pih1d3',\n",
       " 'pinx1',\n",
       " 'ppp5d1',\n",
       " 'prky',\n",
       " 'qars',\n",
       " 'rars',\n",
       " 'rgs5',\n",
       " 'sars',\n",
       " 'siglec5',\n",
       " 'slc26a10',\n",
       " 'slc66a1l',\n",
       " 'slfn12l',\n",
       " 'snhg32',\n",
       " 'spata13',\n",
       " 'spata8',\n",
       " 'spert',\n",
       " 'sspo',\n",
       " 'st5',\n",
       " 'tars',\n",
       " 'tarsl2',\n",
       " 'tbce',\n",
       " 'tcte3',\n",
       " 'tctex1d1',\n",
       " 'tctex1d2',\n",
       " 'tctex1d4',\n",
       " 'terc',\n",
       " 'tmem155',\n",
       " 'tmem173',\n",
       " 'tmem189',\n",
       " 'tmem246',\n",
       " 'tmem8a',\n",
       " 'tmem99',\n",
       " 'tmsb15b',\n",
       " 'trac',\n",
       " 'trbc1',\n",
       " 'trbc2',\n",
       " 'trdc',\n",
       " 'trgc1',\n",
       " 'trgc2',\n",
       " 'trgjp1',\n",
       " 'trgjp2',\n",
       " 'trim16l',\n",
       " 'tsta3',\n",
       " 'ttc25',\n",
       " 'twistnb',\n",
       " 'vars',\n",
       " 'wars',\n",
       " 'wdr34',\n",
       " 'wdr60',\n",
       " 'wdr63',\n",
       " 'wdr66',\n",
       " 'wdr78',\n",
       " 'wdyhv1',\n",
       " 'yars',\n",
       " 'z82206.1',\n",
       " 'znf883',\n",
       " 'znrd1'}"
      ]
     },
     "execution_count": 8,
     "metadata": {},
     "output_type": "execute_result"
    }
   ],
   "source": [
    "# 将所有基因名称转换为小写\n",
    "all_genes_lower = [gene.lower() for gene in all_genes]\n",
    "adata_genes_lower = [gene.lower() for gene in existing_genes]\n",
    "\n",
    "# 将两个列表转换为集合\n",
    "all_genes_set = set(all_genes_lower)\n",
    "adata_genes_set = set(adata_genes_lower)\n",
    "\n",
    "# 计算交集\n",
    "matching_genes = all_genes_set.intersection(adata_genes_set)\n",
    "matching_count = len(matching_genes)\n",
    "# 计算不匹配的基因\n",
    "non_matching_genes = adata_genes_set - matching_genes\n",
    "non_matching_count = len(non_matching_genes)\n",
    "\n",
    "\n",
    "# 输出结果\n",
    "print(f\"匹配的基因数量: {matching_count}\")\n",
    "print(f\"匹配的基因列表: {matching_genes}\")\n",
    "non_matching_genes\n"
   ]
  },
  {
   "cell_type": "code",
   "execution_count": 9,
   "metadata": {
    "execution": {
     "iopub.execute_input": "2024-11-03T13:38:39.287147Z",
     "iopub.status.busy": "2024-11-03T13:38:39.286826Z",
     "iopub.status.idle": "2024-11-03T13:38:39.305950Z",
     "shell.execute_reply": "2024-11-03T13:38:39.305256Z"
    }
   },
   "outputs": [
    {
     "data": {
      "text/plain": [
       "{'or4f5': 0,\n",
       " 'or4f29': 1,\n",
       " 'or4f16': 2,\n",
       " 'samd11': 3,\n",
       " 'noc2l': 4,\n",
       " 'klhl17': 5,\n",
       " 'plekhn1': 6,\n",
       " 'perm1': 7,\n",
       " 'hes4': 8,\n",
       " 'isg15': 9,\n",
       " 'agrn': 10,\n",
       " 'rnf223': 11,\n",
       " 'c1orf159': 12,\n",
       " 'ttll10': 13,\n",
       " 'tnfrsf18': 14,\n",
       " 'tnfrsf4': 15,\n",
       " 'sdf4': 16,\n",
       " 'b3galt6': 17,\n",
       " 'c1qtnf12': 18,\n",
       " 'ube2j2': 19,\n",
       " 'scnn1d': 20,\n",
       " 'acap3': 21,\n",
       " 'pusl1': 22,\n",
       " 'ints11': 23,\n",
       " 'cptp': 24,\n",
       " 'tas1r3': 25,\n",
       " 'dvl1': 26,\n",
       " 'mxra8': 27,\n",
       " 'aurkaip1': 28,\n",
       " 'ccnl2': 29,\n",
       " 'mrpl20': 30,\n",
       " 'ankrd65': 31,\n",
       " 'tmem88b': 32,\n",
       " 'vwa1': 33,\n",
       " 'atad3c': 34,\n",
       " 'atad3b': 35,\n",
       " 'atad3a': 36,\n",
       " 'tmem240': 37,\n",
       " 'ssu72': 38,\n",
       " 'fndc10': 39,\n",
       " 'mib2': 40,\n",
       " 'mmp23b': 41,\n",
       " 'cdk11b': 42,\n",
       " 'slc35e2b': 43,\n",
       " 'cdk11a': 44,\n",
       " 'nadk': 45,\n",
       " 'gnb1': 46,\n",
       " 'calml6': 47,\n",
       " 'tmem52': 48,\n",
       " 'cfap74': 49,\n",
       " 'gabrd': 50,\n",
       " 'prkcz': 51,\n",
       " 'faap20': 52,\n",
       " 'ski': 53,\n",
       " 'morn1': 54,\n",
       " 'rer1': 55,\n",
       " 'pex10': 56,\n",
       " 'plch2': 57,\n",
       " 'pank4': 58,\n",
       " 'hes5': 59,\n",
       " 'tnfrsf14': 60,\n",
       " 'prxl2b': 61,\n",
       " 'mmel1': 62,\n",
       " 'ttc34': 63,\n",
       " 'actrt2': 64,\n",
       " 'prdm16': 65,\n",
       " 'arhgef16': 66,\n",
       " 'megf6': 67,\n",
       " 'tprg1l': 68,\n",
       " 'wrap73': 69,\n",
       " 'tp73': 70,\n",
       " 'ccdc27': 71,\n",
       " 'smim1': 72,\n",
       " 'lrrc47': 73,\n",
       " 'cep104': 74,\n",
       " 'dffb': 75,\n",
       " 'c1orf174': 76,\n",
       " 'ajap1': 77,\n",
       " 'nphp4': 78,\n",
       " 'kcnab2': 79,\n",
       " 'chd5': 80,\n",
       " 'rpl22': 81,\n",
       " 'rnf207': 82,\n",
       " 'icmt': 83,\n",
       " 'hes3': 84,\n",
       " 'gpr153': 85,\n",
       " 'acot7': 86,\n",
       " 'hes2': 87,\n",
       " 'espn': 88,\n",
       " 'tnfrsf25': 89,\n",
       " 'plekhg5': 90,\n",
       " 'nol9': 91,\n",
       " 'tas1r1': 92,\n",
       " 'zbtb48': 93,\n",
       " 'klhl21': 94,\n",
       " 'phf13': 95,\n",
       " 'thap3': 96,\n",
       " 'dnajc11': 97,\n",
       " 'camta1': 98,\n",
       " 'vamp3': 99,\n",
       " 'per3': 100,\n",
       " 'uts2': 101,\n",
       " 'tnfrsf9': 102,\n",
       " 'park7': 103,\n",
       " 'errfi1': 104,\n",
       " 'slc45a1': 105,\n",
       " 'rere': 106,\n",
       " 'eno1': 107,\n",
       " 'ca6': 108,\n",
       " 'slc2a7': 109,\n",
       " 'slc2a5': 110,\n",
       " 'gpr157': 111,\n",
       " 'h6pd': 112,\n",
       " 'spsb1': 113,\n",
       " 'slc25a33': 114,\n",
       " 'tmem201': 115,\n",
       " 'pik3cd': 116,\n",
       " 'clstn1': 117,\n",
       " 'ctnnbip1': 118,\n",
       " 'lzic': 119,\n",
       " 'nmnat1': 120,\n",
       " 'rbp7': 121,\n",
       " 'ube4b': 122,\n",
       " 'kif1b': 123,\n",
       " 'pgd': 124,\n",
       " 'cenps': 125,\n",
       " 'cort': 126,\n",
       " 'dffa': 127,\n",
       " 'pex14': 128,\n",
       " 'casz1': 129,\n",
       " 'c1orf127': 130,\n",
       " 'tardbp': 131,\n",
       " 'masp2': 132,\n",
       " 'srm': 133,\n",
       " 'exosc10': 134,\n",
       " 'mtor': 135,\n",
       " 'angptl7': 136,\n",
       " 'ubiad1': 137,\n",
       " 'disp3': 138,\n",
       " 'fbxo2': 139,\n",
       " 'fbxo44': 140,\n",
       " 'fbxo6': 141,\n",
       " 'mad2l2': 142,\n",
       " 'draxin': 143,\n",
       " 'agtrap': 144,\n",
       " 'c1orf167': 145,\n",
       " 'mthfr': 146,\n",
       " 'clcn6': 147,\n",
       " 'nppa': 148,\n",
       " 'nppb': 149,\n",
       " 'kiaa2013': 150,\n",
       " 'plod1': 151,\n",
       " 'mfn2': 152,\n",
       " 'miip': 153,\n",
       " 'tnfrsf8': 154,\n",
       " 'tnfrsf1b': 155,\n",
       " 'vps13d': 156,\n",
       " 'dhrs3': 157,\n",
       " 'aadacl4': 158,\n",
       " 'aadacl3': 159,\n",
       " 'c1orf158': 160,\n",
       " 'pramef12': 161,\n",
       " 'pramef1': 162,\n",
       " 'pramef11': 163,\n",
       " 'hnrnpcl1': 164,\n",
       " 'pramef2': 165,\n",
       " 'pramef4': 166,\n",
       " 'pramef10': 167,\n",
       " 'pramef7': 168,\n",
       " 'pramef6': 169,\n",
       " 'pramef27': 170,\n",
       " 'hnrnpcl3': 171,\n",
       " 'pramef25': 172,\n",
       " 'hnrnpcl2': 173,\n",
       " 'pramef26': 174,\n",
       " 'hnrnpcl4': 175,\n",
       " 'pramef9': 176,\n",
       " 'pramef13': 177,\n",
       " 'pramef18': 178,\n",
       " 'pramef5': 179,\n",
       " 'pramef8': 180,\n",
       " 'pramef33': 181,\n",
       " 'pramef15': 182,\n",
       " 'pramef14': 183,\n",
       " 'pramef19': 184,\n",
       " 'pramef17': 185,\n",
       " 'pramef20': 186,\n",
       " 'lrrc38': 187,\n",
       " 'pdpn': 188,\n",
       " 'prdm2': 189,\n",
       " 'kazn': 190,\n",
       " 'tmem51': 191,\n",
       " 'fhad1': 192,\n",
       " 'efhd2': 193,\n",
       " 'ctrc': 194,\n",
       " 'cela2a': 195,\n",
       " 'cela2b': 196,\n",
       " 'casp9': 197,\n",
       " 'dnajc16': 198,\n",
       " 'agmat': 199,\n",
       " 'ddi2': 200,\n",
       " 'rsc1a1': 201,\n",
       " 'plekhm2': 202,\n",
       " 'slc25a34': 203,\n",
       " 'tmem82': 204,\n",
       " 'fblim1': 205,\n",
       " 'uqcrhl': 206,\n",
       " 'spen': 207,\n",
       " 'zbtb17': 208,\n",
       " 'srarp': 209,\n",
       " 'hspb7': 210,\n",
       " 'clcnka': 211,\n",
       " 'clcnkb': 212,\n",
       " 'fam131c': 213,\n",
       " 'epha2': 214,\n",
       " 'arhgef19': 215,\n",
       " 'cplane2': 216,\n",
       " 'fbxo42': 217,\n",
       " 'szrd1': 218,\n",
       " 'spata21': 219,\n",
       " 'necap2': 220,\n",
       " 'nbpf1': 221,\n",
       " 'crocc': 222,\n",
       " 'mfap2': 223,\n",
       " 'atp13a2': 224,\n",
       " 'sdhb': 225,\n",
       " 'padi2': 226,\n",
       " 'padi1': 227,\n",
       " 'padi3': 228,\n",
       " 'padi4': 229,\n",
       " 'padi6': 230,\n",
       " 'rcc2': 231,\n",
       " 'arhgef10l': 232,\n",
       " 'actl8': 233,\n",
       " 'igsf21': 234,\n",
       " 'klhdc7a': 235,\n",
       " 'pax7': 236,\n",
       " 'tas1r2': 237,\n",
       " 'aldh4a1': 238,\n",
       " 'iffo2': 239,\n",
       " 'ubr4': 240,\n",
       " 'emc1': 241,\n",
       " 'mrto4': 242,\n",
       " 'akr7a3': 243,\n",
       " 'akr7a2': 244,\n",
       " 'slc66a1': 245,\n",
       " 'capzb': 246,\n",
       " 'micos10': 247,\n",
       " 'nbl1': 248,\n",
       " 'htr6': 249,\n",
       " 'tmco4': 250,\n",
       " 'rnf186': 251,\n",
       " 'otud3': 252,\n",
       " 'pla2g2e': 253,\n",
       " 'pla2g2a': 254,\n",
       " 'pla2g5': 255,\n",
       " 'pla2g2d': 256,\n",
       " 'pla2g2f': 257,\n",
       " 'pla2g2c': 258,\n",
       " 'ubxn10': 259,\n",
       " 'vwa5b1': 260,\n",
       " 'camk2n1': 261,\n",
       " 'mul1': 262,\n",
       " 'fam43b': 263,\n",
       " 'cda': 264,\n",
       " 'pink1': 265,\n",
       " 'ddost': 266,\n",
       " 'kif17': 267,\n",
       " 'sh2d5': 268,\n",
       " 'hp1bp3': 269,\n",
       " 'eif4g3': 270,\n",
       " 'ece1': 271,\n",
       " 'nbpf3': 272,\n",
       " 'alpl': 273,\n",
       " 'rap1gap': 274,\n",
       " 'usp48': 275,\n",
       " 'ldlrad2': 276,\n",
       " 'hspg2': 277,\n",
       " 'cela3b': 278,\n",
       " 'cela3a': 279,\n",
       " 'cdc42': 280,\n",
       " 'wnt4': 281,\n",
       " 'zbtb40': 282,\n",
       " 'epha8': 283,\n",
       " 'c1qa': 284,\n",
       " 'c1qc': 285,\n",
       " 'c1qb': 286,\n",
       " 'ephb2': 287,\n",
       " 'lactbl1': 288,\n",
       " 'tex46': 289,\n",
       " 'kdm1a': 290,\n",
       " 'luzp1': 291,\n",
       " 'htr1d': 292,\n",
       " 'hnrnpr': 293,\n",
       " 'znf436': 294,\n",
       " 'tcea3': 295,\n",
       " 'asap3': 296,\n",
       " 'e2f2': 297,\n",
       " 'id3': 298,\n",
       " 'rpl11': 299,\n",
       " 'eloa': 300,\n",
       " 'pithd1': 301,\n",
       " 'lypla2': 302,\n",
       " 'gale': 303,\n",
       " 'hmgcl': 304,\n",
       " 'fuca1': 305,\n",
       " 'cnr2': 306,\n",
       " 'pnrc2': 307,\n",
       " 'srsf10': 308,\n",
       " 'myom3': 309,\n",
       " 'il22ra1': 310,\n",
       " 'ifnlr1': 311,\n",
       " 'grhl3': 312,\n",
       " 'stpg1': 313,\n",
       " 'nipal3': 314,\n",
       " 'rcan3': 315,\n",
       " 'ncmap': 316,\n",
       " 'srrm1': 317,\n",
       " 'clic4': 318,\n",
       " 'runx3': 319,\n",
       " 'syf2': 320,\n",
       " 'rsrp1': 321,\n",
       " 'rhd': 322,\n",
       " 'tmem50a': 323,\n",
       " 'rhce': 324,\n",
       " 'maco1': 325,\n",
       " 'ldlrap1': 326,\n",
       " 'man1c1': 327,\n",
       " 'selenon': 328,\n",
       " 'mtfr1l': 329,\n",
       " 'aunip': 330,\n",
       " 'paqr7': 331,\n",
       " 'stmn1': 332,\n",
       " 'pafah2': 333,\n",
       " 'extl1': 334,\n",
       " 'slc30a2': 335,\n",
       " 'trim63': 336,\n",
       " 'pdik1l': 337,\n",
       " 'fam110d': 338,\n",
       " 'c1orf232': 339,\n",
       " 'znf593os': 340,\n",
       " 'znf593': 341,\n",
       " 'cnksr1': 342,\n",
       " 'catsper4': 343,\n",
       " 'cep85': 344,\n",
       " 'sh3bgrl3': 345,\n",
       " 'ubxn11': 346,\n",
       " 'cd52': 347,\n",
       " 'crybg2': 348,\n",
       " 'znf683': 349,\n",
       " 'lin28a': 350,\n",
       " 'dhdds': 351,\n",
       " 'hmgn2': 352,\n",
       " 'rps6ka1': 353,\n",
       " 'arid1a': 354,\n",
       " 'pigv': 355,\n",
       " 'zdhhc18': 356,\n",
       " 'sfn': 357,\n",
       " 'gpn2': 358,\n",
       " 'gpatch3': 359,\n",
       " 'nudc': 360,\n",
       " 'nr0b2': 361,\n",
       " 'kdf1': 362,\n",
       " 'trnp1': 363,\n",
       " 'tent5b': 364,\n",
       " 'slc9a1': 365,\n",
       " 'wdtc1': 366,\n",
       " 'tmem222': 367,\n",
       " 'sytl1': 368,\n",
       " 'map3k6': 369,\n",
       " 'fcn3': 370,\n",
       " 'cd164l2': 371,\n",
       " 'gpr3': 372,\n",
       " 'wasf2': 373,\n",
       " 'ahdc1': 374,\n",
       " 'fgr': 375,\n",
       " 'ifi6': 376,\n",
       " 'fam76a': 377,\n",
       " 'stx12': 378,\n",
       " 'ppp1r8': 379,\n",
       " 'themis2': 380,\n",
       " 'rpa2': 381,\n",
       " 'smpdl3b': 382,\n",
       " 'xkr8': 383,\n",
       " 'eya3': 384,\n",
       " 'ptafr': 385,\n",
       " 'dnajc8': 386,\n",
       " 'atp5if1': 387,\n",
       " 'sesn2': 388,\n",
       " 'med18': 389,\n",
       " 'phactr4': 390,\n",
       " 'rcc1': 391,\n",
       " 'trnau1ap': 392,\n",
       " 'taf12': 393,\n",
       " 'rab42': 394,\n",
       " 'gmeb1': 395,\n",
       " 'ythdf2': 396,\n",
       " 'oprd1': 397,\n",
       " 'epb41': 398,\n",
       " 'tmem200b': 399,\n",
       " 'srsf4': 400,\n",
       " 'mecr': 401,\n",
       " 'ptpru': 402,\n",
       " 'matn1': 403,\n",
       " 'laptm5': 404,\n",
       " 'sdc3': 405,\n",
       " 'pum1': 406,\n",
       " 'nkain1': 407,\n",
       " 'snrnp40': 408,\n",
       " 'zcchc17': 409,\n",
       " 'fabp3': 410,\n",
       " 'serinc2': 411,\n",
       " 'tinagl1': 412,\n",
       " 'hcrtr1': 413,\n",
       " 'pef1': 414,\n",
       " 'col16a1': 415,\n",
       " 'adgrb2': 416,\n",
       " 'spocd1': 417,\n",
       " 'ptp4a2': 418,\n",
       " 'khdrbs1': 419,\n",
       " 'tmem39b': 420,\n",
       " 'kpna6': 421,\n",
       " 'txlna': 422,\n",
       " 'ccdc28b': 423,\n",
       " 'iqcc': 424,\n",
       " 'dcdc2b': 425,\n",
       " 'tmem234': 426,\n",
       " 'eif3i': 427,\n",
       " 'fam167b': 428,\n",
       " 'lck': 429,\n",
       " 'hdac1': 430,\n",
       " 'marcksl1': 431,\n",
       " 'tssk3': 432,\n",
       " 'fam229a': 433,\n",
       " 'bsdc1': 434,\n",
       " 'zbtb8b': 435,\n",
       " 'zbtb8a': 436,\n",
       " 'zbtb8os': 437,\n",
       " 'rbbp4': 438,\n",
       " 'sync': 439,\n",
       " 'kiaa1522': 440,\n",
       " 'yars1': 441,\n",
       " 's100pbp': 442,\n",
       " 'fndc5': 443,\n",
       " 'hpca': 444,\n",
       " 'tmem54': 445,\n",
       " 'rnf19b': 446,\n",
       " 'ak2': 447,\n",
       " 'azin2': 448,\n",
       " 'trim62': 449,\n",
       " 'znf362': 450,\n",
       " 'a3galt2': 451,\n",
       " 'phc2': 452,\n",
       " 'zscan20': 453,\n",
       " 'csmd2': 454,\n",
       " 'hmgb4': 455,\n",
       " 'c1orf94': 456,\n",
       " 'smim12': 457,\n",
       " 'gjb5': 458,\n",
       " 'gjb4': 459,\n",
       " 'gjb3': 460,\n",
       " 'gja4': 461,\n",
       " 'dlgap3': 462,\n",
       " 'tmem35b': 463,\n",
       " 'zmym6': 464,\n",
       " 'zmym1': 465,\n",
       " 'sfpq': 466,\n",
       " 'zmym4': 467,\n",
       " 'kiaa0319l': 468,\n",
       " 'ncdn': 469,\n",
       " 'tfap2e': 470,\n",
       " 'psmb2': 471,\n",
       " 'c1orf216': 472,\n",
       " 'clspn': 473,\n",
       " 'ago4': 474,\n",
       " 'ago1': 475,\n",
       " 'ago3': 476,\n",
       " 'tekt2': 477,\n",
       " 'adprs': 478,\n",
       " 'col8a2': 479,\n",
       " 'trappc3': 480,\n",
       " 'map7d1': 481,\n",
       " 'thrap3': 482,\n",
       " 'sh3d21': 483,\n",
       " 'eva1b': 484,\n",
       " 'stk40': 485,\n",
       " 'lsm10': 486,\n",
       " 'oscp1': 487,\n",
       " 'mrps15': 488,\n",
       " 'csf3r': 489,\n",
       " 'grik3': 490,\n",
       " 'zc3h12a': 491,\n",
       " 'meaf6': 492,\n",
       " 'snip1': 493,\n",
       " 'dnali1': 494,\n",
       " 'gnl2': 495,\n",
       " 'rspo1': 496,\n",
       " 'c1orf109': 497,\n",
       " 'cdca8': 498,\n",
       " 'epha10': 499,\n",
       " 'maneal': 500,\n",
       " 'yrdc': 501,\n",
       " 'c1orf122': 502,\n",
       " 'mtf1': 503,\n",
       " 'inpp5b': 504,\n",
       " 'sf3a3': 505,\n",
       " 'fhl3': 506,\n",
       " 'utp11': 507,\n",
       " 'pou3f1': 508,\n",
       " 'rragc': 509,\n",
       " 'mycbp': 510,\n",
       " 'gja9': 511,\n",
       " 'rhbdl2': 512,\n",
       " 'akirin1': 513,\n",
       " 'ndufs5': 514,\n",
       " 'macf1': 515,\n",
       " 'bmp8a': 516,\n",
       " 'pabpc4': 517,\n",
       " 'heyl': 518,\n",
       " 'nt5c1a': 519,\n",
       " 'hpcal4': 520,\n",
       " 'ppie': 521,\n",
       " 'bmp8b': 522,\n",
       " 'oxct2': 523,\n",
       " 'trit1': 524,\n",
       " 'mycl': 525,\n",
       " 'mfsd2a': 526,\n",
       " 'cap1': 527,\n",
       " 'ppt1': 528,\n",
       " 'rlf': 529,\n",
       " 'tmco2': 530,\n",
       " 'zmpste24': 531,\n",
       " 'col9a2': 532,\n",
       " 'smap2': 533,\n",
       " 'zfp69b': 534,\n",
       " 'zfp69': 535,\n",
       " 'exo5': 536,\n",
       " 'znf684': 537,\n",
       " 'rims3': 538,\n",
       " 'nfyc': 539,\n",
       " 'kcnq4': 540,\n",
       " 'cited4': 541,\n",
       " 'ctps1': 542,\n",
       " 'slfnl1': 543,\n",
       " 'scmh1': 544,\n",
       " 'foxo6': 545,\n",
       " 'edn2': 546,\n",
       " 'hivep3': 547,\n",
       " 'guca2b': 548,\n",
       " 'guca2a': 549,\n",
       " 'foxj3': 550,\n",
       " 'rimkla': 551,\n",
       " 'zmynd12': 552,\n",
       " 'ppcs': 553,\n",
       " 'ccdc30': 554,\n",
       " 'ppih': 555,\n",
       " 'ybx1': 556,\n",
       " 'cldn19': 557,\n",
       " 'p3h1': 558,\n",
       " 'c1orf50': 559,\n",
       " 'tmem269': 560,\n",
       " 'svbp': 561,\n",
       " 'ermap': 562,\n",
       " 'znf691': 563,\n",
       " 'slc2a1': 564,\n",
       " 'fam183a': 565,\n",
       " 'ebna1bp2': 566,\n",
       " 'cfap57': 567,\n",
       " 'tmem125': 568,\n",
       " 'c1orf210': 569,\n",
       " 'tie1': 570,\n",
       " 'mpl': 571,\n",
       " 'cdc20': 572,\n",
       " 'elovl1': 573,\n",
       " 'med8': 574,\n",
       " 'szt2': 575,\n",
       " 'hyi': 576,\n",
       " 'ptprf': 577,\n",
       " 'kdm4a': 578,\n",
       " 'st3gal3': 579,\n",
       " 'artn': 580,\n",
       " 'ipo13': 581,\n",
       " 'dph2': 582,\n",
       " 'atp6v0b': 583,\n",
       " 'b4galt2': 584,\n",
       " 'ccdc24': 585,\n",
       " 'slc6a9': 586,\n",
       " 'klf17': 587,\n",
       " 'klf18': 588,\n",
       " 'dmap1': 589,\n",
       " 'eri3': 590,\n",
       " 'rnf220': 591,\n",
       " 'tmem53': 592,\n",
       " 'armh1': 593,\n",
       " 'kif2c': 594,\n",
       " 'rps8': 595,\n",
       " 'best4': 596,\n",
       " 'plk3': 597,\n",
       " 'dynlt4': 598,\n",
       " 'btbd19': 599,\n",
       " 'ptch2': 600,\n",
       " 'eif2b3': 601,\n",
       " 'hectd3': 602,\n",
       " 'urod': 603,\n",
       " 'zswim5': 604,\n",
       " 'hpdl': 605,\n",
       " 'mutyh': 606,\n",
       " 'toe1': 607,\n",
       " 'tesk2': 608,\n",
       " 'ccdc163': 609,\n",
       " 'mmachc': 610,\n",
       " 'prdx1': 611,\n",
       " 'akr1a1': 612,\n",
       " 'nasp': 613,\n",
       " 'ccdc17': 614,\n",
       " 'gpbp1l1': 615,\n",
       " 'tmem69': 616,\n",
       " 'ipp': 617,\n",
       " 'mast2': 618,\n",
       " 'pik3r3': 619,\n",
       " 'tspan1': 620,\n",
       " 'p3r3urf': 621,\n",
       " 'pomgnt1': 622,\n",
       " 'lurap1': 623,\n",
       " 'rad54l': 624,\n",
       " 'lrrc41': 625,\n",
       " 'uqcrh': 626,\n",
       " 'nsun4': 627,\n",
       " 'faah': 628,\n",
       " 'dmbx1': 629,\n",
       " 'tmem275': 630,\n",
       " 'kncn': 631,\n",
       " 'mknk1': 632,\n",
       " 'mob3c': 633,\n",
       " 'atpaf1': 634,\n",
       " 'tex38': 635,\n",
       " 'efcab14': 636,\n",
       " 'cyp4b1': 637,\n",
       " 'cyp4a11': 638,\n",
       " 'cyp4x1': 639,\n",
       " 'cyp4z1': 640,\n",
       " 'cyp4a22': 641,\n",
       " 'pdzk1ip1': 642,\n",
       " 'tal1': 643,\n",
       " 'stil': 644,\n",
       " 'cmpk1': 645,\n",
       " 'foxe3': 646,\n",
       " 'foxd2': 647,\n",
       " 'trabd2b': 648,\n",
       " 'slc5a9': 649,\n",
       " 'spata6': 650,\n",
       " 'agbl4': 651,\n",
       " 'bend5': 652,\n",
       " 'elavl4': 653,\n",
       " 'dmrta2': 654,\n",
       " 'faf1': 655,\n",
       " 'cdkn2c': 656,\n",
       " 'c1orf185': 657,\n",
       " 'rnf11': 658,\n",
       " 'ttc39a': 659,\n",
       " 'eps15': 660,\n",
       " 'osbpl9': 661,\n",
       " 'nrdc': 662,\n",
       " 'rab3b': 663,\n",
       " 'txndc12': 664,\n",
       " 'kti12': 665,\n",
       " 'btf3l4': 666,\n",
       " 'zfyve9': 667,\n",
       " 'cc2d1b': 668,\n",
       " 'orc1': 669,\n",
       " 'prpf38a': 670,\n",
       " 'tut4': 671,\n",
       " 'gpx7': 672,\n",
       " 'shisal2a': 673,\n",
       " 'coa7': 674,\n",
       " 'zyg11b': 675,\n",
       " 'zyg11a': 676,\n",
       " 'echdc2': 677,\n",
       " 'scp2': 678,\n",
       " 'podn': 679,\n",
       " 'slc1a7': 680,\n",
       " 'cpt2': 681,\n",
       " 'czib': 682,\n",
       " 'magoh': 683,\n",
       " 'lrp8': 684,\n",
       " 'dmrtb1': 685,\n",
       " 'glis1': 686,\n",
       " 'ndc1': 687,\n",
       " 'yipf1': 688,\n",
       " 'dio1': 689,\n",
       " 'hspb11': 690,\n",
       " 'lrrc42': 691,\n",
       " 'ldlrad1': 692,\n",
       " 'tmem59': 693,\n",
       " 'tceanc2': 694,\n",
       " 'cdcp2': 695,\n",
       " 'cyb5rl': 696,\n",
       " 'mrpl37': 697,\n",
       " 'ssbp3': 698,\n",
       " 'acot11': 699,\n",
       " 'fam151a': 700,\n",
       " 'mroh7': 701,\n",
       " 'ttc4': 702,\n",
       " 'pars2': 703,\n",
       " 'ttc22': 704,\n",
       " 'lexm': 705,\n",
       " 'dhcr24': 706,\n",
       " 'tmem61': 707,\n",
       " 'bsnd': 708,\n",
       " 'pcsk9': 709,\n",
       " 'usp24': 710,\n",
       " 'plpp3': 711,\n",
       " 'prkaa2': 712,\n",
       " 'fyb2': 713,\n",
       " 'c8a': 714,\n",
       " 'c8b': 715,\n",
       " 'dab1': 716,\n",
       " 'oma1': 717,\n",
       " 'tacstd2': 718,\n",
       " 'mysm1': 719,\n",
       " 'jun': 720,\n",
       " 'fggy': 721,\n",
       " 'hook1': 722,\n",
       " 'cyp2j2': 723,\n",
       " 'c1orf87': 724,\n",
       " 'nfia': 725,\n",
       " 'tm2d1': 726,\n",
       " 'patj': 727,\n",
       " 'l1td1': 728,\n",
       " 'kank4': 729,\n",
       " 'usp1': 730,\n",
       " 'dock7': 731,\n",
       " 'angptl3': 732,\n",
       " 'atg4c': 733,\n",
       " 'foxd3': 734,\n",
       " 'alg6': 735,\n",
       " 'itgb3bp': 736,\n",
       " 'efcab7': 737,\n",
       " 'pgm1': 738,\n",
       " 'ror1': 739,\n",
       " 'ube2u': 740,\n",
       " 'cachd1': 741,\n",
       " 'raver2': 742,\n",
       " 'jak1': 743,\n",
       " 'ak4': 744,\n",
       " 'dnajc6': 745,\n",
       " 'leprot': 746,\n",
       " 'lepr': 747,\n",
       " 'pde4b': 748,\n",
       " 'sgip1': 749,\n",
       " 'dynlt5': 750,\n",
       " 'insl5': 751,\n",
       " 'dnai4': 752,\n",
       " 'mier1': 753,\n",
       " 'slc35d1': 754,\n",
       " 'c1orf141': 755,\n",
       " 'il23r': 756,\n",
       " 'il12rb2': 757,\n",
       " 'serbp1': 758,\n",
       " 'gadd45a': 759,\n",
       " 'gng12': 760,\n",
       " 'diras3': 761,\n",
       " 'wls': 762,\n",
       " 'rpe65': 763,\n",
       " 'depdc1': 764,\n",
       " 'lrrc7': 765,\n",
       " 'lrrc40': 766,\n",
       " 'srsf11': 767,\n",
       " 'ankrd13c': 768,\n",
       " 'cth': 769,\n",
       " 'ptger3': 770,\n",
       " 'zranb2': 771,\n",
       " 'negr1': 772,\n",
       " 'lrriq3': 773,\n",
       " 'fpgt': 774,\n",
       " 'tnni3k': 775,\n",
       " 'lrrc53': 776,\n",
       " 'erich3': 777,\n",
       " 'cryz': 778,\n",
       " 'tyw3': 779,\n",
       " 'lhx8': 780,\n",
       " 'slc44a5': 781,\n",
       " 'acadm': 782,\n",
       " 'rabggtb': 783,\n",
       " 'msh4': 784,\n",
       " 'asb17': 785,\n",
       " 'st6galnac3': 786,\n",
       " 'st6galnac5': 787,\n",
       " 'pigk': 788,\n",
       " 'ak5': 789,\n",
       " 'zzz3': 790,\n",
       " 'usp33': 791,\n",
       " 'miga1': 792,\n",
       " 'nexn': 793,\n",
       " 'fubp1': 794,\n",
       " 'dnajb4': 795,\n",
       " 'gipc2': 796,\n",
       " 'ptgfr': 797,\n",
       " 'ifi44l': 798,\n",
       " 'ifi44': 799,\n",
       " 'adgrl4': 800,\n",
       " 'adgrl2': 801,\n",
       " 'ttll7': 802,\n",
       " 'prkacb': 803,\n",
       " 'samd13': 804,\n",
       " 'dnase2b': 805,\n",
       " 'rpf1': 806,\n",
       " 'gng5': 807,\n",
       " 'spata1': 808,\n",
       " 'ctbs': 809,\n",
       " 'ssx2ip': 810,\n",
       " 'lpar3': 811,\n",
       " 'mcoln2': 812,\n",
       " 'dnai3': 813,\n",
       " 'mcoln3': 814,\n",
       " 'syde2': 815,\n",
       " 'c1orf52': 816,\n",
       " 'bcl10': 817,\n",
       " 'ddah1': 818,\n",
       " 'ccn1': 819,\n",
       " 'znhit6': 820,\n",
       " 'col24a1': 821,\n",
       " 'odf2l': 822,\n",
       " 'clca2': 823,\n",
       " 'clca1': 824,\n",
       " 'clca4': 825,\n",
       " 'sh3glb1': 826,\n",
       " 'selenof': 827,\n",
       " 'hs2st1': 828,\n",
       " 'lmo4': 829,\n",
       " 'pkn2': 830,\n",
       " 'gtf2b': 831,\n",
       " 'kyat3': 832,\n",
       " 'rbmxl1': 833,\n",
       " 'gbp3': 834,\n",
       " 'gbp1': 835,\n",
       " 'gbp2': 836,\n",
       " 'gbp7': 837,\n",
       " 'gbp4': 838,\n",
       " 'gbp5': 839,\n",
       " 'gbp6': 840,\n",
       " 'lrrc8b': 841,\n",
       " 'lrrc8c': 842,\n",
       " 'lrrc8d': 843,\n",
       " 'znf326': 844,\n",
       " 'barhl2': 845,\n",
       " 'znf644': 846,\n",
       " 'hfm1': 847,\n",
       " 'cdc7': 848,\n",
       " 'tgfbr3': 849,\n",
       " 'brdt': 850,\n",
       " 'ephx4': 851,\n",
       " 'setsip': 852,\n",
       " 'btbd8': 853,\n",
       " 'c1orf146': 854,\n",
       " 'glmn': 855,\n",
       " 'rpap2': 856,\n",
       " 'gfi1': 857,\n",
       " 'evi5': 858,\n",
       " 'rpl5': 859,\n",
       " 'dipk1a': 860,\n",
       " 'mtf2': 861,\n",
       " 'tmed5': 862,\n",
       " 'ccdc18': 863,\n",
       " 'dr1': 864,\n",
       " 'fnbp1l': 865,\n",
       " 'bcar3': 866,\n",
       " 'dnttip2': 867,\n",
       " 'gclm': 868,\n",
       " 'abca4': 869,\n",
       " 'arhgap29': 870,\n",
       " 'abcd3': 871,\n",
       " 'f3': 872,\n",
       " 'slc44a3': 873,\n",
       " 'cnn3': 874,\n",
       " 'alg14': 875,\n",
       " 'tlcd4': 876,\n",
       " 'rwdd3': 877,\n",
       " 'ptbp2': 878,\n",
       " 'dpyd': 879,\n",
       " 'snx7': 880,\n",
       " 'plppr5': 881,\n",
       " 'plppr4': 882,\n",
       " 'palmd': 883,\n",
       " 'frrs1': 884,\n",
       " 'agl': 885,\n",
       " 'slc35a3': 886,\n",
       " 'mfsd14a': 887,\n",
       " 'sass6': 888,\n",
       " 'trmt13': 889,\n",
       " 'lrrc39': 890,\n",
       " 'dbt': 891,\n",
       " 'rtca': 892,\n",
       " 'cdc14a': 893,\n",
       " 'gpr88': 894,\n",
       " 'vcam1': 895,\n",
       " 'extl2': 896,\n",
       " 'slc30a7': 897,\n",
       " 'dph5': 898,\n",
       " 's1pr1': 899,\n",
       " 'olfm3': 900,\n",
       " 'col11a1': 901,\n",
       " 'rnpc3': 902,\n",
       " 'amy2b': 903,\n",
       " 'amy2a': 904,\n",
       " 'amy1a': 905,\n",
       " 'amy1b': 906,\n",
       " 'amy1c': 907,\n",
       " 'prmt6': 908,\n",
       " 'ntng1': 909,\n",
       " 'vav3': 910,\n",
       " 'slc25a24': 911,\n",
       " 'nbpf4': 912,\n",
       " 'nbpf6': 913,\n",
       " 'fam102b': 914,\n",
       " 'henmt1': 915,\n",
       " 'prpf38b': 916,\n",
       " 'fndc7': 917,\n",
       " 'stxbp3': 918,\n",
       " 'aknad1': 919,\n",
       " 'gpsm2': 920,\n",
       " 'clcc1': 921,\n",
       " 'wdr47': 922,\n",
       " 'taf13': 923,\n",
       " 'tmem167b': 924,\n",
       " 'c1orf194': 925,\n",
       " 'elapor1': 926,\n",
       " 'sars1': 927,\n",
       " 'celsr2': 928,\n",
       " 'psrc1': 929,\n",
       " 'mybphl': 930,\n",
       " 'sort1': 931,\n",
       " 'psma5': 932,\n",
       " 'sypl2': 933,\n",
       " 'atxn7l2': 934,\n",
       " 'cyb561d1': 935,\n",
       " 'amigo1': 936,\n",
       " 'gpr61': 937,\n",
       " 'gnai3': 938,\n",
       " 'gnat2': 939,\n",
       " 'ampd2': 940,\n",
       " 'gstm4': 941,\n",
       " 'gstm2': 942,\n",
       " 'gstm1': 943,\n",
       " 'gstm5': 944,\n",
       " 'gstm3': 945,\n",
       " 'eps8l3': 946,\n",
       " 'csf1': 947,\n",
       " 'ahcyl1': 948,\n",
       " 'strip1': 949,\n",
       " 'alx3': 950,\n",
       " 'ubl4b': 951,\n",
       " 'slc6a17': 952,\n",
       " 'kcnc4': 953,\n",
       " 'rbm15': 954,\n",
       " 'slc16a4': 955,\n",
       " 'lamtor5': 956,\n",
       " 'prok1': 957,\n",
       " 'kcna10': 958,\n",
       " 'kcna2': 959,\n",
       " 'kcna3': 960,\n",
       " 'cd53': 961,\n",
       " 'lrif1': 962,\n",
       " 'dram2': 963,\n",
       " 'cept1': 964,\n",
       " 'dennd2d': 965,\n",
       " 'chi3l2': 966,\n",
       " 'chia': 967,\n",
       " 'pifo': 968,\n",
       " 'ovgp1': 969,\n",
       " 'wdr77': 970,\n",
       " 'atp5pb': 971,\n",
       " 'c1orf162': 972,\n",
       " 'tmigd3': 973,\n",
       " 'adora3': 974,\n",
       " 'rap1a': 975,\n",
       " 'inka2': 976,\n",
       " 'ddx20': 977,\n",
       " 'kcnd3': 978,\n",
       " 'cttnbp2nl': 979,\n",
       " 'wnt2b': 980,\n",
       " 'st7l': 981,\n",
       " 'capza1': 982,\n",
       " 'mov10': 983,\n",
       " 'rhoc': 984,\n",
       " 'ppm1j': 985,\n",
       " 'tafa3': 986,\n",
       " 'slc16a1': 987,\n",
       " 'lrig2': 988,\n",
       " 'magi3': 989,\n",
       " 'phtf1': 990,\n",
       " 'rsbn1': 991,\n",
       " 'ptpn22': 992,\n",
       " 'bcl2l15': 993,\n",
       " 'ap4b1': 994,\n",
       " 'dclre1b': 995,\n",
       " 'hipk1': 996,\n",
       " 'olfml3': 997,\n",
       " 'syt6': 998,\n",
       " 'trim33': 999,\n",
       " ...}"
      ]
     },
     "execution_count": 9,
     "metadata": {},
     "output_type": "execute_result"
    }
   ],
   "source": [
    "gene_to_index = {gene: idx for idx, gene in enumerate(all_genes_lower)}\n",
    "gene_to_index"
   ]
  },
  {
   "cell_type": "code",
   "execution_count": 10,
   "metadata": {
    "execution": {
     "iopub.execute_input": "2024-11-03T13:38:39.308194Z",
     "iopub.status.busy": "2024-11-03T13:38:39.307628Z",
     "iopub.status.idle": "2024-11-03T13:38:39.314879Z",
     "shell.execute_reply": "2024-11-03T13:38:39.314053Z"
    }
   },
   "outputs": [
    {
     "name": "stdout",
     "output_type": "stream",
     "text": [
      "仅在 all_genes 中存在的基因数量: 1939\n",
      "仅在 all_genes 中存在的基因: {'h2bc18', 'mrpl43', 'ola1', 'alg10b', 'rbmy1d', 'hsd17b7', 'rsc1a1', 'tmem132d', 'cbwd3', 'ifna2', 'rplp2', 'lyg2', 'specc1l-adora2a', 'rps3', 'fam25g', 'tll2', 'h2bc12', 'krtap4-4', 'commd3-bmi1', 'gpr50', 'mrpl1', 'krtap9-4', 'ano7', 'rps10-nudt3', 'c1qtnf5', 'fam47e-stbd1', 'micos10-nbl1', 'h3c10', 'krt33b', 'adss1', 'csnka2ip', 'kifbp', 'pnlip', 'znf705e', 'usp17l18', 'hsfy1', 'slx1a', 'eef1a1', 'rpl35a', 'gage12j', 'or51i2', 'nap1l1', 'znf722p', 'znf593os', 'opn1mw2', 'fut2', 'saa2', 'spdye9', 'ccl15-ccl14', 'c12orf71', 'gstm5', 'tas2r43', 'htr1b', 'h2bc5', 'sprr2a', 'hnrnpul2-bscl2', 'smim34b', 'msl3', 'smim11a', 'nkx2-3', 'bhlhb9', 'hla-e', 'gars1', 'gpx6', 'rbmy1e', 'hypk', 'rplp0', 'mrpl49', 'slc17a6', 'cenatac', 'atf7-npff', 'plekhg7', 'ppfia1', 'or1r1p', 'macroh2a1', 'cbwd2', 'necab1', 'adss2', 'diablo', 'c1orf146', 'znf701', 'lce6a', 'ube2s', 'mrps9', 'cdy2a', 'or2a7', 'znf846', 'mogat3', 'tnp1', 'clec18b', 'fam25a', 'mtrnr2l13', 'ebln1', 'bpy2', 'fkbp1a', 'lypd2', 'or2b11', 'sult1a4', 'golga6l9', 'kcnk9', 'mtrnr2l1', 'smim39', 'meiosin', 'pdcd2', 'csn1s1', 'or2a42', 'hla-b', 'mrpl37', 'rps17', 'tas2r5', 'tpt1', 'cntf', 'pwwp4', 'foxo3b', 'htr3b', 'ap5b1', 'tbc1d3l', 'eola1', 'tp53tg3b', 'cct5', 'defb103a', 'gage12h', 'ddx47', 'usp17l11', 'or1l4', 'ifnl3', 'fam86b2', 'tmem271', 'ntsr2', 'fam90a10p', 'rps8', 'h3-2', 'hla-dma', 'pnkp', 'tvp23b', 'sprr2d', 'or4f3', 'f8a3', 'or2t5', 'spdye17', 'prb1', 'prr20a', 'gage12d', 'hla-dpa1', 'gcsh', 'h4c7', 'cxorf51a', 'hes3', 'tmem139', 'znf814', 'mrpl12', 'gatd3a', 'tuba3c', 'sun5', 'tsnax-disc1', 'znf551', 'or5ac2', 'jmjd7', 'cenpvl2', 'amy2b', 'cntnap3c', 'rgpd2', 'khdc1l', 'hla-doa', 'pcdhgb4', 'mrpl20', 'lynx1-slurp2', 'gc', 'mrps33', 'cgb5', 'plscr5', 'h3c1', 'notch2nla', 'gypb', 'rps29', 'rps6ka1', 'c2orf80', 'golga8s', 'fam90a23p', 'ckmt1a', 'rpl21', 'or10p1', 'misp3', 'mbd3l5', 'cryba1', 'rps27', 'h3c15', 'fam236b', 'bpifa3', 'h2ac19', 'h3c2', 'pax7', 'psme3ip1', 'hla-a', 'h3-5', 'tpte', 'garre1', 'h4c11', 'dynlt5', 'or1f1', 'h3-4', 'dynlt2b', 'tlcd4-rwdd3', 'churc1-fntb', 'mrps5', 'fmc1-luc7l2', 'ct47a8', 'fam240b', 'dnajc19', 'gtf2h2c', 'tpsab1', 'rnasek-c17orf49', 'fam25c', 'tubb3', 'ctage4', 'gp1ba', 'eef1e1-bloc1s5', 'spaca1', 'rnf225', 'matn4', 'aopep', 'tarm1', 'ugt1a7', 'bcl2l2-pabpn1', 'fam236c', 'myh1', 'tp53tg3c', 'dnai3', 'npipa3', 'mtrnr2l4', 'or4f17', 'c16orf78', 'rps6', 'rpl22l1', 'mzt2b', 'efcab5', 'krt18', 'or51g1', 'hnrnph1', 'mrpl48', 'il17re', 'ran', 'tp53tg3f', 'ppp1r2', 'nxph2', 'tbc1d3f', 'golga6c', 'tbx20', 'sult1a3', 'rbak-rbakdn', 'h2az1', 'pax4', 'rpl30', 'frg2b', 'ubr1', 'dnaaf6', 'tex15', 'ptprcap', 'slc22a12', 'rpl17-c18orf32', 'marchf8', 'inmt-mindy4', 'znf749', 'dnajc25-gng10', 'hnrnpcl1', 'h2ax', 'c11orf42', 'taf11l10', 'daoa', 'h4c13', 'cryaa', 'cep57l1', 'c8orf44-sgk3', 'rgpd1', 'serf1a', 'helt', 'cep20', 'pabpn1', 'or10g9', 'rpl26l1', 'defb131a', 'arpin-ap3s2', 'ddx53', 'htn3', 'fbxl14', 'hla-c', 'bclaf1', 'or52e2', 'gphb5', 'b3galt9', 'golga4', 'rtel1-tnfrsf6b', 'agap6', 'pramef4', 'asah2b', 'or1d5', 'h2bc9', 'chd1l', 'trim51', 'cd59', 'rps25', 'ct47a2', 'saa1', 'gprc6a', 'tmem256-plscr3', 'ct47a3', 'npipb12', 'gpx1', 'h3c14', 'opn1lw', 'adck1', 'mrps16', 'arpc4-ttll3', 'h2aj', 'tex48', 'rpl29', 'notch2nlb', 'pgap4', 'znf761', 'ptma', 'znf91', 'h4c3', 'gapdh', 'ccdc105', 'krtap4-7', 'palm2akap2', 'usp17l10', 'st20', 'usp17l4', 'pcnp', 'ccdc103', 'h4c2', 'mmp26', 'gpr151', 'mzt2a', 'dusp29', 'rnf103-chmp3', 'nbpf15', 'pld5p1', 'or4f29', 'pramef25', 'lypla2', 'ifnk', 'h3-3a', 'ap3s1', 'trim39-rpp21', 'nbpf6', 'ggta1', 'tspy2', 'smim42', 'hnrnpa1l2', 'ppial4f', 'isx', 'hla-dqb1', 'nme1-nme2', 'gage2e', 'mbd3l2', 'npipa8', 'lgals7b', 'or14j1', 'cyrib', 'rpl18', 'stx16-npepl1', 'tex13a', 'hsd17b3', 'znrf4', 'cbsl', 'tas2r60', 'h3c12', 'csag2', 'ct45a5', 'c1orf94', 'hnrnpcl2', 'loricrin', 'acer2', 'rpl27', 'nbpf14', 'dync2i1', 's100a7', 'rplp1', 'marchf2', 'pry2', 'xage2', 'guca1c', 'ptp4a2', 'spdye3', 'sumo1', 'zzz3', 'or1j1', 'snurf', 'spata31d4', 'lpa', 'ct47a5', 'or4m2b', 'cdc42', 'rps14', 'btnl9', 'agap4', 'h2bc1', 'cgb2', 'mrps6', 'pramef17', 'cracd', 'or4n4c', 'lrtm1', 'rpl14', 'racgap1', 'hbz', 'macroh2a2', 'smim43', 'eef1akmt4-ece2', 'memo1', 'rps28', 'npipb3', 'atp5mj', 'gfra4', 'h2bc13', 'golga6l22', 'six6', 'rpl13', 'scgb1d4', 'mrps34', 'naip', 'rpl3l', 'mrpl52', 'mroh7-ttc4', 'mrps7', 'or5p3', 'ctage9', 'mrpl51', 'rpl36a', 'magea2b', 'usp17l26', 'poteg', 'prr5-arhgap8', 'u2af1', 'chrnb3', 'hba1', 'rps21', 'rpl35', 'ovca2', 'mix23', 'ift74', 'wtap', 'mrps21', 'aqp12b', 'tas2r3', 'scgb1c1', 'acsm2a', 'tchhl1', 'or6c3', 'znf443', 'golga8a', 'rpl27a', 'tubb4a', 'pcare', 'cct7', 'or6v1', 'marchf1', 'kir2dl1', 'h2bc15', 'bhlha15', 'slc35g4', 'cav3', 'macir', 'ppt2-egfl8', 'ddc', 'rpl4', 'qars1', 'amigo3', 'sys1-dbndd2', 'lce3e', 'znf615', 'or2v1', 'kdm4e', 'mrps15', 'h2bc11', 'or5h6', 'prr20b', 'c16orf82', 'pnpla5', 'naca', 'rpl36al', 'h2ac17', 'krtap2-2', 'hla-dpb1', 'wfdc9', 'cdy1b', 'atp5mk', 'h2bu1', 'or5a2', 'tbc1d3g', 'mrps27', 'tex28', 'mrps26', 'rabl2a', 'ino80b-wbp1', 'acsm2b', 'rpl15', 'rps23', 'kash5', 'eloa3cp', 'spin2a', 'cdy1', 'foxd4l1', 'h2az2', 'xage1a', 'c20orf203', 'c4a', 'rex1bd', 'tmed7-ticam2', 'akr1c1', 'krt20', 'smtnl1', 'krt38', 'spanxc', 'dars1', 'pcdhga4', 'guca1a', 'mrpl4', 'abcc10', 'ct47a7', 'ccdc144a', 'mettl2b', 'h1-1', 'defb105b', 'h2ac8', 'mrpl44', 'h4c14', 'polr2j', 'mtarc2', 'defb104a', 'h2bs1', 'bpifa1', 'rpl9', 'rhoxf2', 'eola2', 'vcx', 'klrc4-klrk1', 'mrps18b', 'hnrnpa1p48', 'u2af1l5', 'chia', 'or8u3', 'cxorf49b', 'hspb2-c11orf52', 'ttc34', 'gnas', 'rpl31', 'chga', 'gpr52', 'stimate-mustn1', 'cngb1', 'slc22a8', 'fam72c', 'hcar2', 'pramef5', 'h3c11', 'bpy2b', 'eprs1', 'h1-5', 'pramef13', 'zan', 'nphp3-acad11', 'ppial4c', 'itgae', 'gpr21', 'pramef12', 'mblac1', 'usp17l24', 'h4-16', 'spanxa2', 'krt82', 'eif3cl', 'pkhd1l1', 'cela3a', 'tspy1', 'ptges3l-aarsd1', 'zc3h11b', 'pga3', 'ankrd20a1', 'evpll', 'znf721', 'marchf5', 'msantd3-tmeff1', 'gpr22', 'lactbl1', 'cenpvl1', 'zscan5c', 'pmf1-bglap', 'npipb4', 'csnk2a3', 'page5', 'golga6l1', 'rpl10l', 'or10a2', 'cnpy1', 'lgals13', 'polr1f', 'card8', 'or11h2', 'rhoxf2b', 'usp17l17', 'or52m1', 'pramef1', 'htd2', 'aknad1', 'nbpf9', 'polr2j2', 'decr2', 'mr1', 'lhfpl5', 'atp6v1g2-ddx39b', 'tex51', 'mrps35', 'h4c8', 'gage2a', 'washc2a', 'ist1', 'gng5p2', 'mrpl27', 'or51f1', 'defb105a', 'rbmy1b', 'pramef9', 'lilrb3', 'or11h12', 'usp17l25', 'srgap2c', 'prr20c', 'stx18', 'rps20', 'tmdd1', 'fam47b', 'magea12', 'ct47a4', 'vcy1b', 'hsfx2', 'gstm2', 'gfral', 'gpr42', 'g6pc1', 'mia-rab4b', 'or6t1', 'cfhr1', 'tspy3', 'or56b2p', 'fam243a', 'zhx1-c8orf76', 'atcay', 'mbd3l1', 'myh13', 'fam236d', 'or4f5', 'znf506', 'tardbp', 'steep1', 'p2ry4', 'dnajb7', 'rps4y2', 'bhlhe23', 'naca2', 'or11h1', 'polr1g', 'magea8', 'dennd2b', 'rps11', 'krt26', 'glud2', 'lce3c', 'cnbd2', 'rgpd6', 'mrps12', 'linc02210-crhr1', 'znf28', 'ccdc179', 'mt-atp8', 'haus7', 'abcf2-h2be1', 'krtap10-12', 'mrpl34', 'rpl7', 'iapp', 'kdm4f', 'scygr5', 'h3-3b', 'rpl26', 'eppin-wfdc6', 'setd2', 'dux4', 'h2aw', 'cyp3a7-cyp3a51p', 'saa2-saa4', 'rps15', 'or14l1p', 'h2ac1', 'h4c1', 'h3c6', 'zfpm1', 'nbpf4', 'or10s1', 'krtap10-9', 'krtap10-4', 'rps2', 'abhd17a', 'or10h5', 'fpgt-tnni3k', 'defb130b', 'psmd8', 'tpo', 'rps13', 'upk3bl1', 'srek1', 'tug1', 'ugt1a3', 'rpl28', 'tpi1', 'angpt2', 'ggtlc3', 'mars1', 'tas2r41', 'spag11b', 'aadacl4', 'pigy', 'igbp1p2', 'foxd4l3', 'trim49', 'taf11l3', 'h2ap', 'golm2', 'epor', 'iqcf3', 'rabl2b', 'tars1', 'c21orf62', 'or4s2', 'npipa9', 'prh2', 'cgb8', 'percc1', 'ccdc74a', 'znf705b', 'tekt4', 'gdf1', 'h2bc3', 'fam71b', 'rpl7l1', 'fau', 'fam72a', 'cep43', 'pasd1', 'h2ac13', 'rap1b', 'cfap65', 'or51i1', 'spdye11', 'cbs', 'prh1', 'fam90a16p', 'fcn1', 'h3y2', 'map1lc3b2', 'h2bc8', 'atp4b', 'bnip3', 'ubtfl1', 'cbx1', 'spdye16', 'znf320', 'ifna10', 'prr20d', 'mrpl21', 'asb18', 'tpm3', 'scygr6', 'slc18a3', 'kdm5d', 'actl9', 'hand1', 'ldha', 'p3r3urf-pik3r3', 'znf865', 'spaca5', 'pdap1', 'sik1b', 'usp17l28', 'cfap92', 'mtrnr2l3', 'c1d', 'glt6d1', 'potef', 'mrpl36', 'igll5', 'mrpl14', 'rpl38', 'mrpl30', 'or2d2', 'ctag1a', 'gucy2d', 'or2d3', 'rbmy1j', 'bcas1', 'mrpl57', 'clec1b', 'cyp11b2', 'prb2', 'polr2m', 'foxl3', 'rimbp3c', 'or51c1p', 'hars1', 'kars1', 'dgcr6', 'ctage8', 'sdhaf2', 'klhl40', 'rab43', 'prr4', 'potee', 'defb106b', 'lims3', 'hmgn2', 'mrpl55', 'vps35', 'pabir2', 'cdy2b', 'syt15', 'h3c4', 'lrrc30', 'magea3', 'or7a10', 'ct47a12', 'rnf222', 'ankrd20a4p', 'golga8n', 'nbpf26', 'maged4b', 'or5v1', 'or51f2', 'cdk10', 'fam72d', 'ppial4e', 'trim49c', 'or8g1', 'ct45a9', 'ssx7', 'or6x1', 'etda', 'pde4dip', 'or52a1', 'fam47a', 'prss48', 'vars1', 'myh7', 'peds1-ube2v1', 'bsph1', 'jakmip1', 'spdye14', 'isy1-rab43', 'tmprss15', 'ct47b1', 'lce1e', 'ms4a10', 'lrrc53', 'senp3-eif4a1', 'smn1', 'xage3', 'tcaf2', 'h3c13', 'fam246a', 'ct45a10', 'rps6kc1', 'tasl', 'cfap251', 'rgpd8', 'tmem233', 'rimbp3', 'or13g1', 'a1bg', 'abcc6', 'kir2dl3', 'upk3bl2', 'lmod3', 'pttg1ip2', 'spata31e1', 'c1orf68', 'fam156a', 'ct45a1', 'ct47a1', 'golga8k', 'tmem229a', 'rab40al', 'npipa2', 'or2w3', 'ct47a10', 'mamdc4', 'mroh8', 'lims4', 'defb103b', 'cryaa2', 'rpl7a', 'rnf123', 'bpnt2', 'pcdhgb1', 'ighv3or16-17', 'npipb5', 'mageb3', 'or9a2', 'cfap94', 'krtap9-2', 'znf670-znf695', 'chrm4', 'bivm-ercc5', 'g3bp1', 'taf11l9', 'gstm1', 'spdye21', 'golga6b', 'nudt4', 'myg1', 'or5h1', 'rps4x', 'znf417', 'ldlrad2', 'rpl10a', 'hla-dob', 'scrt2', 'h2ac4', 'c1qtnf3-amacr', 'golga8q', 'slc6a18', 'alg10', 'ccdc195', 'dapl1', 'psg8', 'linc00514', 'potej', 'or51b2', 'dnajc17', 'trappc2b', 'nfilz', 'hla-dmb', 'odad2', 'c1qtnf9b', 'vcx3a', 'dmrtc1', 'defb107b', 'izumo3', 'ifna13', 'pin4', 'marchf7', 'tas2r31', 'cyria', 'trim74', 'or5t3', 'spdye8', 'irag2', 'defb107a', 'mrps23', 'znf528', 'srgap2b', 'mrpl54', 'lypla1', 'rdh8', 'pou5f1', 'or2t29', 'or52d1', 'ankrd36c', 'rps18', 'scygr2', 'crisp1', 'nudt6', 'skp1', 'tas2r10', 'mrps24', 'h2ac14', 'notch4', 'ssx2', 'prrt3', 'ppial4h', 'or2a1', 'pcdhgb5', 'morn1', 'pomk', 'mrpl40', 'eif5al1', 'kir3dl3', 'nlgn4y', 'rab4b-egln2', 'cracdl', 'rps19', 'dynlt2', 'potec', 'xage1b', 'rpl3', 'prm1', 'h4c4', 'rpl12', 'hla-dqa1', 'ncf1', 'gpr82', 'or4n4', 'tcp11x1', 'rars1', 'poteh', 'marchf3', 'krtap1-4', 'smim34a', 'krtap12-3', 'marchf9', 'rskr', 'or2l8', 'ct45a3', 'or1j4', 'apba3', 'mtrnr2l12', 'opn1mw3', 'ssx1', 'pdcd6-ahrr', 'nox3', 'fam184b', 'ankhd1-eif4ebp3', 'panx3', 'scygr7', 'ssx2b', 'mrpl2', 'or2t3', 'rps5', 'fxyd6-fxyd2', 'mnt', 'srsf6', 'etdb', 'actrt2', 'h3c7', 'or51s1', 'or10g4', 'fam90a7p', 'arl2-snx15', 'ddx3y', 'zfp91-cntf', 'nkx2-1', 'mrpl58', 'sftpa2', 'myh6', 'ntn5', 'cd8b', 'msantd5', 'catsper1', 'or51m1', 'or4m2', 'rpl39l', 'or2a2', 'fads6', 'rpl37', 'c20orf173', 'pdxdc1', 'borcs7-asmt', 'il6st', 'iftap', 'usp17l8', 'cabp2', 'cxorf49', 'znf746', 'rpl36a-hnrnph2', 'st20-mthfs', 'rpl5', 'tmem191c', 'gip', 'smim40', 'mrpl41', 'rrn3', 'h1-6', 'pramef27', 'gimap1-gimap5', 'ten1-cdk3', 'spdye13', 'klrc2', 'myod1', 'mrpl32', 'npipa7', 'guca2b', 'tp53tg3', 'tbcel-tecta', 'ctage6', 'fam90a17p', 'mideas', 'prss56', 'amy1c', 'pgap6', 'rps27a', 'trim49b', 'tas2r16', 'fam72b', 'rpl34', 'nanog', 'or5t2', 'chkb-cpt1b', 'mrpl42', 'rps9', 'iqcj-schip1', 'ctbp1', 'spata31a3', 'mrpl17', 'poted', 'h2bc6', 'pip5k1b', 'fam156b', 'pabir1', 'gtf2a1l', 'trim73', 'amy1a', 'or7e24', 'tbca', 'marchf6', 'atp5mf-ptcd1', 'mrpl28', 'rbmy1f', 'esr2', 'pramef18', 'gage12g', 'gabra3', 'cst11', 'lims1', 'mrpl45', 'cars1', 'krt12', 'magea10', 'or13j1', 'arl17a', 'npipa5', 'dhrs4l2', 'rpl41', 'itih4', 'hmgb1', 'h1-7', 'urgcp-mrps24', 'srp14', 'dynlt4', 'fam86b1', 'krtap21-3', 'or10h4', 'erich6b', 'ct45a6', 'ccdc25', 'rgpd5', 'ccz1b', 'c9orf57', 'ly75-cd302', 'rps7', 'tbc1d3d', 'trim49d1', 'magea9', 'ssb', 'mtrnr2l5', 'fam209a', 'f8a2', 'lars1', 'flywch1', 'rps6ka5', 'mrpl9', 'spdye2b', 'serpinb10', 'h2ac15', 'fam90a9p', 'pcdhgb3', 'styxl2', 'tshb', 'ankrd23', 'amely', 'eml3', 'golga6l4', 'odad4', 'poteb', 'golga6a', 'tars3', 'chrna4', 'ms4a12', 'tstd3', 'zbtb8os', 'chn2', 'prss54', 'iars1', 'krtap9-1', 'tbc1d3h', 'h2bw2', 'mrpl50', 'bola2b', 'tbc1d21', 'ervw-1', 'cyp2c19', 'npff', 'jmjd7-pla2g4b', 'znf468', 'spink9', 'zbed6', 'mt4', 'h2bc21', 'znf208', 'ube2f-scly', 'mtrnr2l10', 'hla-drb1', 'csag3', 'ipo7', 'neu2', 'npm1', 'slc39a4', 'hsfy2', 'lgals9b', 'fscn2', 'h1-8', 'or5m9', 'gad2', 'sik1', 'rtl4', 'pga4', 'defb115', 'cacybp', 'rpl36', 'rsph10b', 'lce3b', 'or11h6', 'rax2', 'lgals7', 'ceacam18', 'rpl37a', 'tmem191b', 'bola2', 'mrpl18', 'defb104b', 'pabpc1', 'h1-0', 'h2bc17', 'defb106a', 'asns', 'rbm14-rbm4', 'afmid', 'cylc2', 'rps24', 'golga8g', 'mrpl19', 'krtap4-1', 'actr3c', 'rps27l', 'mrps31', 'arhgap19-slit1', 'cgb3', 'shox', 'scrg1', 'fam90a18p', 'usp17l29', 'csh1', 'rps12', 'pabpc1l2b', 'tcea1', 'defb130a', 'spag11a', 'npipb7', 'odad1', 'znf726', 'gage12e', 'gh2', 'satl1', 'eif3k', 'mrpl22', 'rps3a', 'tas2r20', 'ctag1b', 'pnpt1', 'cox5a', 'mtrnr2l7', 'mrps18c', 'cilk1', 'smn2', 'gtf2h2', 'cdc14c', 'sdhc', 'cibar2', 'dync2i2', 'h2bc4', 'gk2', 'tmco5a', 'acp3', 'cby2', 'rxfp2', 'timm23b', 'cers1', 'clrn2', 'cbwd5', 'rpl13a', 'krtap9-6', 'gage12b', 'trex1', 'rgs9', 'wfdc10a', 'mrpl24', 'sry', 'rab6c', 'acrbp', 'get1-sh3bgr', 'lce1f', 'znf737', 'or2t35', 'gatd3b', 'or8u1', 'dus4l-bcap29', 'krtap4-9', 'usp17l20', 'spdye2', 'znf625-znf20', 'grxcr1', 'spanxd', 'krt81', 'h3y1', 'ston1-gtf2a1l', 'hla-f', 'amy1b', 'mrpl3', 'iho1', 'lyzl1', 'sdr42e2', 'tgif2-rab5if', 'golga6l10', 'cgb1', 'pfkl', 'rps27ap5', 'gpr75', 'unkl', 'nutm2b', 'rpl11', 'or4d11', 'h3c8', 'ugt1a8', 'fam90a8p', 'hnrnpcl3', 'thtpa', 'h2ab3', 'drg1', 'rps6ka4', 'cfap20dc', 'nbpf10', 'nadsyn1', 'hla-drb5', 'c1orf50', 'mrpl23', 'reg3g', 'npy4r2', 'or9g4', 'ugt1a6', 'gage12f', 'txn', 'phf7', 'grap', 'ssu72p3', 'taf11l12', 'hbg1', 'cdin1', 'mrps10', 'htr3d', 'rpl32', 'pramef20', 'or6k2', 'h2ac6', 'fkbp4', 'plxnb3', 'hivep1', 'trim64', 'or2h2', 'taf11l2', 'psg1', 'or51b4', 'anxa8l1', 'or6c65', 'ghrhr', 'ppan-p2ry11', 'or7c2', 'daz2', 'apoc4-apoc2', 'magea2', 'elob', 'pcdhac2', 'ankrd36b', 'spanxn3', 'etfrf1', 'mrpl38', 'asz1', 'tas2r13', 'kcna6', 'peds1', 'rps15a', 'wars1', 'usp17l23', 'ugt1a5', 'nedd8-mdp1', 'metap1', 'ube2u', 'tspy8', 'akr7a3', 'golga8j', 'h4c5', 'usp17l12', 'mrps17', 'golga8f', 'elapor2', 'fam243b', 'or2j1', 'erv3-1', 'rp1', 'or1j2', 'timm23b-agap6', 'h2ac18', 'ppdpfl', 'actrt1', 'ndufc2-kctd14', 'agap5', 'ankrd20a2p', 'krtap4-8', 'cdh16', 'hcrt', 'reg1a', 'ntaq1', 'utp14c', 'tas2r46', 'znf705d', 'kcne1b', 'myt1l', 'c11orf98', 'ugt2b15', 'rbm4', 'h1-10', 'pramef33', 'rps16', 'pramef26', 'tmc1', 'scygr3', 'mrps22', 'trim77', 'ckmt1b', 'defb4b', 'ak2', 'fkbp1c', 'acr', 'dcd', 'mtrnr2l6', 'ranbp2', 'plglb1', 'dbx1', 'nsrp1', 'cacna1a', 'park7', 'otud6a', 'ccdc169-sohlh2', 'washc2c', 'h2be1', 'rps6ka2', 'rps6kl1', 'hsfx1', 'golga8t', 'magea1', 'ins-igf2', 'ice1', 'dgkk', 'zfand5', 'igsf10', 'ct45a7', 'vcx2', 'or51q1', 'rps4y1', 'znf93', 'poc1b-galnt4', 'adad1', 'tamalin', 'ylpm1', 'rps6kb2', 'znhit3', 'mbd3l4', 'opn1sw', 'tspy9p', 'rbmy1a1', 'bola2-smg1p6', 'stip1', 'slc1a7', 'rps10', 'spring1', 'ccdc74b', 'daz4', 'ervh48-1', 'or8k1', 'znf845', 'rps6ka3', 'gtf2ird2b', 'h2ac7', 'npipb8', 'rpl39', 'rpl17', 'rpl10', 'rpl8', 'or8b3', 'nkx2-4', 'apobec3b', 'sdhd', 'prss50', 'fam95c', 'tbc1d3c', 'hnrnpa1', 'tcaf2c', 'krt76', 'tjp2', 'hspe1-mob4', 'prdm12', 'pramef7', 'slc34a1', 'gabarapl2', 'rps26', 'or4c11', 'stpg4', 'lrit2', 'scoc', 'psma6', 'potei', 'polr1h', 'xage5', 'sars1', 'nutm2g', 'rab6d', 'cfap91', 'alg1l2', 'hla-dqa2', 'npipb9', 'vcy', 'h2bc10', 'zc3h11a', 'h2al1rp', 'slx1b', 'eif3c', 'rbms2', 'or5f1', 'rit2', 'olfm3', 'spanxa1', 'nt5c1b-rdh14', 'tkt', 'p2rx5-tax1bp3', 'bloc1s5-txndc5', 'ccdc63', 'aplf', 'marchf11', 'ifnw1', 'npipb6', 'washc1', 'lgals16', 'cgb7', 'h2ac21', 'synj2bp-cox16', 'npipb11', 'trim6-trim34', 'notch2nlr', 'tptep2-csnk1e', 'thoc3', 'slc6a5', 'dgcr6l', 'nars1', 'sun3', 'or2h1', 'tspy10', 'mrpl35', 'rasa4', 'mrps30', 'usp17l21', 'usp17l27', 'h1-4', 'tgif2ly', 'or7d4', 'lhx1', 'h2ac20', 'wash6p', 'lctl', 'irag1', 'elapor1', 'mrpl16', 'or11h4', 'fam90a19p', 'foxr2', 'ighmbp2', 'or4p4', 'supt20hl2', 'ppial4d', 'foxd4l4', 'ssx4', 'oosp2', 'slc24a1', 'defb127', 'tvp23c-cdrt4', 'krtap10-8', 'guca1anb', 'grapl', 'or8h3', 'tspy4', 'trappc14', 'sprr2b', 'or5d14', 'or4c46', 'hla-dra', 'kir3dl1', 'poteb2', 'bub1b-pak6', 'hnrnpab', 'usp9y', 'mrps2', 'znf81', 'hnrnpcl4', 'npipb13', 'rnase9', 'c5orf63', 'pabir3', 'tas2r19', 'spaca5b', 'cyp2a13', 'borcs8-mef2b', 'prickle4', 'h4c6', 'actl7a', 'mag', 'hbe1', 'mrpl11', 'h3c3', 'dpy19l2', 'tbc1d26', 'krtap4-2', 'or52e6', 'dcanp1', 'page2b', 'tpsb2', 'gfus', 'abitram', 'nlrp5', 'ocm', 'bpifb3', 'npy4r', 'trim49d2', 'or51l1', 'mrps25', 'maged4', 'krtap5-11', 'rpl19', 'cylc1', 'znf418', 'rs1', 'or4c15', 'spanxn1', 'tuba8', 'h4c9', 'fam90a22p', 'opn1mw', 'stxbp5l', 'prac2', 'spata25', 'spanxn4', 'mrpl46', 'smim11b', 'znf559-znf177', 'h4c15', 'eif1ay', 'rpl18a', 'rpsa', 'gabarapl1', 'myh4', 'ct45a2', 'hs3st3a1', 'usp17l30', 'htn1', 'krtap9-7', 'rpl23a', 'h2bc14', 'mrps14', 'linc00634', 'hmgb4', 'or8d2', 'aldoa', 'pwp2', 'aars1', 'tubb8b', 'hoatz', 'krtap19-2', 'fam153a', 'clrn1', 'asdurf', 'clp1', 'or4e2', 'ccnp', 'znf479', 'defb126', 'h2ac12', 'lipm', 'pomzp3', 'myo7a', 'katnip', 'nbpf12', 'h2ac11', 'rpl23', 'slc35e2b', 'bcl2l14', 'mrps11', 'uty', 'bpy2c', 'golga8h', 'or4f16', 'golga6d', 'slc24a5', 'h2ab2', 'serf1b', 'ppp1r2b', 'rnf113b', 'pramef8', 'trim43b', 'tnfsf12-tnfsf13', 'tbc1d3', 'tspo2', 'or1e2', 'fam187a', 'h2bw1', 'duox1', 'tbc1d3k', 'tdgf1', 'krtap2-1', 'grm3', 'zcchc10', 'rpl22', 'krtap10-6', 'tp53tg3e', 'vcx3b', 'zfand6', 'srgap2', 'pcdhgc4', 'rpl6', 'scygr1', 'nudt4b', 'slc25a3', 'mcts2p', 'sox11', 'ctage15', 'mrpl39', 'h2ac16', 'rps19bp1', 'mt-co1', 'krtap4-12', 'hla-g', 'ssu72p2', 'fam220a', 'paqr9', 'usp17l22', 'mrpl47', 'tmem174', 'slc35g6', 'h1-2', 'sbk2', 'cfc1', 'gcom1', 'znf611', 'nek5', 'gtf2ird2', 'rpl24', 'daz1', 'cxorf51b', 'cfap298-tcp10l', 'h1-3', 'kcnj12', 'tdgf1p3', 'rps6kb1', 'nomo2', 'znf511-prap1', 'ssu72p5', 'or4a47', 'fkbp2', 'prr13', 'zdhhc11', 'or8j3', 'ssu72p7', 'akr1c4', 'nutm2d', 'fam236a', 'rps6ka6', 'tcp11x2', 'marchf4', 'dmrtc1b', 'npipa1', 'notch2nlc', 'gage12c', 'mrps36', 'daz3', 'gpr89a', 'brme1', 'ifna17', 'pryp3', 'nutm2f', 'mtrnr2l11', 'prokr2', 'taf11l5', 'defa1b', 'taf11l7', 'znf395', 'mtarc1', 'cyp4a22', 'kcne1', 'prr23d2', 'arl17b', 'tm4sf19-dynlt2b', 'sprr1a', 'casp1', 'pnma6e', 'usp17l5', 'zfy', 'spaca7', 'asb17', 'gal3st2', 'defb129', 'c17orf114', 'ankrd20a3p', 'nomo3', 'or5h14', 'prelid1', 'impdh1', 'srrm3', 'eif3f', 'nxf2b', 'cenps-cort', 'ssu72p4', 'mkrn1', 'ly6g6f-ly6g6d', 'psg11', 'spcs2', 'znf616', 'smim36', 'ropn1', 'nms', 'spint3', 'cbwd1', 'prss2', 'h2ab1', 'otog', 'h2bc7', 'hoxd13', 'tbc1d3i', 'cibar1', 'mrps28', 'znf816-znf321p', 'usp17l19', 'krtap5-5', 'uts2r', 'capn10', 'hrob', 'gage13', 'cst1', 'ak3', 'agap9', 'cbwd6', 'rusf1', 'mbd3l3', 'defa1', 'get4', 'cklf-cmtm1', 'poteb3', 'trappc2', 'mtrnr2l8', 'marchf10', 'schip1', 'man2c1', 'slco1b3-slco1b7', 'znf679', 'hla-dqb2', 'prr20e', 'ct47a9', 'mrps18a', 'abhd14a-acy1', 'prr23d1', 'znf487', 'prkrip1', 'mrpl10', 'krtap5-4', 'znf525', 'ssx4b', 'mrpl53', 'ct47a11', 'ct47a6', 'hsd11b1l', 'hoxb13', 'eef1d', 'mrpl15', 'igf2', 'mrpl13', 'msh5-sapcd1', 'adprs', 'sting1', 'lmod2', 'coro7-pam16', 'gk', 'dnah2', 'krtap2-4', 'pgam4', 'csnk1a1l', 'nrip2', 'or4n2', 'h4c12', 'dnai4', 'eif5a', 'lrrc37a', 'eif2s3b', 'usp17l13', 'fam90a14p', 'fsbp', 'setsip', 'ptp4a1', 'mrpl33', 'kcnip4', 'ranbp1', 'icoslg', 'duxa', 'fam246b', 'kir3dl2', 'ptcd3', 'ggtlc2', 'odad3', 'aadacl3', 'spdye15', 'ct45a8', 'prodh', 'awat1', 'pry', 'defa4', 'acot2', 'arsl', 'or6c76', 'luzp4', 'hbg2', 'cfc1b', 'nxf2', 'tp53tg3d', 'gstm4', 'yars1', 'supt20hl1'}\n",
      "仅在 adata_genes 中存在的基因数量: 301\n",
      "仅在 adata_genes 中存在的基因: {'spata8', 'acpp', 'c11orf74', 'spata13', 'pano1', 'ac025287.4', 'hist1h1b', 'marc1', 'lrp5l', 'c15orf41', 'pde11a', 'al162596.1', 'wdr60', 'tmem8a', 'kiaa1324l', 'al121578.2', 'fam49b', 'trgjp2', 'elmsan1', 'h1f0', 'tars', 'c11orf88', 'mars', 'ac004593.3', 'slc26a10', 'hhla3', 'dars', 'c3orf67', 'tsta3', 'card17', 'ac138647.1', 'hist1h2bb', 'dusp27', 'al451007.3', 'adprhl2', 'hist1h4j', 'st5', 'dupd1', 'ac067752.1', 'wars', 'znf883', 'kiaa1211l', 'fam169b', 'kif1bp', 'iars', 'fam92b', 'fam192a', 'marc2', 'sars', 'tbce', 'igha1', 'c12orf74', 'ighd', 'dock8-as1', 'c9orf129', 'atp5md', 'tmem99', 'cars', 'prky', 'mir1915hg', 'march4', 'ac113348.1', 'hist1h1e', 'march1', 'casc1', 'glra4', 'yars', 'kars', 'al109810.2', 'or5r1', 'ap002495.1', 'hist1h3g', 'ac072022.2', 'castor3', 'ac013470.2', 'elfn2', 'eprs', 'ac090360.1', 'iglc7', 'al160269.1', 'fgfr1op', 'cd3eap', 'hist3h2a', 'h2afy2', 'hist1h4c', 'kiaa0556', 'kiaa1211', 'snhg32', 'al391650.1', 'dirc1', 'wdyhv1', 'pinx1', 'fam122a', 'c5orf60', 'wdr63', 'hist1h1d', 'h2bfm', 'hist1h2bh', 'linc02694', 'twistnb', 'vars', 'tmsb15b', 'kiaa1257', 'c10orf142', 'ac104389.5', 'tmem189', 'ac187653.1', 'ac011195.2', 'slc66a1l', 'h2afj', 'bhmg1', 'trbc2', 'c2orf83', 'cxorf56', 'card16', 'hypm', 'eloa3', 'fopnl', 'c11orf40', 'maats1', 'fam30a', 'h1fnt', 'z82206.1', 'ac087498.1', 'bx276092.9', 'h2afy', 'fp565260.1', 'ac233723.1', 'c1orf61', 'ighe', 'tctex1d4', 'hist1h4g', 'march7', 'hist1h2ac', 'ccdc36', 'trbc1', 'march2', 'tmem173', 'pih1d3', 'hist3h2bb', 'tarsl2', 'ac119396.1', 'fam218a', 'hist1h4i', 'nxf5', 'gdf5os', 'c2orf91', 'ick', 'al162231.1', 'trac', 'hist1h3e', 'ac005551.1', 'hist2h2be', 'ac010325.1', 'cxorf21', 'qars', 'trgjp1', 'tmem155', 'lrrc29', 'rars', 'al590560.2', 'arse', 'ac118549.1', 'ccdc114', 'trgc2', 'spert', 'atp5mpl', 'c12orf81', 'march11', 'ighg3', 'march3', 'tcte3', 'hist1h4e', 'c12orf49', 'al445238.1', 'igkc', 'c9orf92', 'ac025283.2', 'golga8m', 'impad1', 'hist1h1c', 'hist1h2ak', 'c19orf48', 'rgs5', 'casc4', 'lars', 'palm2-akap2', 'c14orf177', 'cllu1os', 'aars', 'al845331.2', 'kiaa1324', 'ac092835.1', 'arih2os', 'trdc', 'h2afx', 'al135905.2', 'dec1', 'ac007906.2', 'ighm', 'al603764.2', 'atp6ap1l', 'hist4h4', 'hist1h2ae', 'siglec5', 'c17orf53', 'ac008687.4', 'tctex1d1', 'hist1h1a', 'znrd1', 'march8', 'ac134684.8', 'igha2', 'hist1h2bn', 'nars', 'linc02693', 'tctex1d2', 'defb133', 'lrmp', 'c6orf201', 'c12orf10', 'grasp', 'wdr34', 'ac011005.1', 'c7orf77', 'al032819.3', 'fam122c', 'hist1h3h', 'c10orf55', 'b3gnt10', 'h3f3a', 'ppp5d1', 'cenpbd1', 'al353572.3', 'gcsaml-as1', 'mycnos', 'ac073111.4', 'ac021072.1', 'lor', 'c16orf58', 'h3.y', 'ac115220.1', 'ccdc151', 'ac236972.4', 'h3f3b', 'cxorf40a', 'iglc1', 'hist1h2ag', 'adssl1', 'tmem246', 'c5orf67', 'hist3h3', 'ac093323.1', 'ac099489.1', 'h3f3c', 'ttc25', 'al354761.1', 'sspo', 'mrvi1', 'march6', 'ac132217.2', 'slfn12l', 'armc4', 'hist1h2bg', 'c19orf57', 'hars', 'cyb561d2', 'adss', 'march10', 'alg1l', 'fam122b', 'h1foo', 'hist1h4b', 'march9', 'cntd2', 'ac008397.1', 'ac010255.3', 'ac091057.6', 'fam49a', 'march5', 'ccdc39', 'ct62', 'trim16l', 'h2afz', 'h1fx', 'c6orf223', 'gars', 'ighg1', 'ccdc84', 'ac021097.2', 'trgc1', 'wdr66', 'c5orf30', 'wdr78', 'terc', 'h2bfwt', 'ac015871.1', 'bx255925.3', 'kiaa0355', 'ccdc155', 'hist1h2ai'}\n"
     ]
    }
   ],
   "source": [
    "only_in_all_genes = all_genes_set - adata_genes_set\n",
    "\n",
    "only_in_adata_genes = adata_genes_set - all_genes_set\n",
    "\n",
    "# 输出结果\n",
    "print(f\"仅在 all_genes 中存在的基因数量: {len(only_in_all_genes)}\")\n",
    "print(f\"仅在 all_genes 中存在的基因: {only_in_all_genes}\")\n",
    "\n",
    "print(f\"仅在 adata_genes 中存在的基因数量: {len(only_in_adata_genes)}\")\n",
    "print(f\"仅在 adata_genes 中存在的基因: {only_in_adata_genes}\")\n"
   ]
  },
  {
   "cell_type": "code",
   "execution_count": 11,
   "metadata": {
    "execution": {
     "iopub.execute_input": "2024-11-03T13:38:39.317252Z",
     "iopub.status.busy": "2024-11-03T13:38:39.316654Z",
     "iopub.status.idle": "2024-11-03T13:41:03.235654Z",
     "shell.execute_reply": "2024-11-03T13:41:03.234347Z"
    }
   },
   "outputs": [
    {
     "name": "stdout",
     "output_type": "stream",
     "text": [
      "Gene al391650.1 not found in all_genes list\n"
     ]
    },
    {
     "name": "stdout",
     "output_type": "stream",
     "text": [
      "Gene yars not found in all_genes list\n"
     ]
    },
    {
     "name": "stdout",
     "output_type": "stream",
     "text": [
      "Gene adprhl2 not found in all_genes list\n"
     ]
    },
    {
     "name": "stdout",
     "output_type": "stream",
     "text": [
      "Gene tctex1d4 not found in all_genes list\n"
     ]
    },
    {
     "name": "stdout",
     "output_type": "stream",
     "text": [
      "Gene tctex1d1 not found in all_genes list\n",
      "Gene wdr78 not found in all_genes list\n",
      "Gene hhla3 not found in all_genes list\n"
     ]
    },
    {
     "name": "stdout",
     "output_type": "stream",
     "text": [
      "Gene ac118549.1 not found in all_genes list\n"
     ]
    },
    {
     "name": "stdout",
     "output_type": "stream",
     "text": [
      "Gene wdr63 not found in all_genes list\n"
     ]
    },
    {
     "name": "stdout",
     "output_type": "stream",
     "text": [
      "Gene kiaa1324 not found in all_genes list\n",
      "Gene sars not found in all_genes list\n"
     ]
    },
    {
     "name": "stdout",
     "output_type": "stream",
     "text": [
      "Gene hist2h2be not found in all_genes list\n"
     ]
    },
    {
     "name": "stdout",
     "output_type": "stream",
     "text": [
      "Gene al162596.1 not found in all_genes list\n",
      "Gene lor not found in all_genes list\n"
     ]
    },
    {
     "name": "stdout",
     "output_type": "stream",
     "text": [
      "Gene c1orf61 not found in all_genes list\n"
     ]
    },
    {
     "name": "stdout",
     "output_type": "stream",
     "text": [
      "Gene al590560.2 not found in all_genes list\n"
     ]
    },
    {
     "name": "stdout",
     "output_type": "stream",
     "text": [
      "Gene rgs5 not found in all_genes list\n",
      "Gene dusp27 not found in all_genes list\n"
     ]
    },
    {
     "name": "stdout",
     "output_type": "stream",
     "text": [
      "Gene eprs not found in all_genes list\n",
      "Gene marc2 not found in all_genes list\n",
      "Gene marc1 not found in all_genes list\n"
     ]
    },
    {
     "name": "stdout",
     "output_type": "stream",
     "text": [
      "Gene h3f3a not found in all_genes list\n",
      "Gene hist3h3 not found in all_genes list\n",
      "Gene hist3h2a not found in all_genes list\n",
      "Gene hist3h2bb not found in all_genes list\n"
     ]
    },
    {
     "name": "stdout",
     "output_type": "stream",
     "text": [
      "Gene al109810.2 not found in all_genes list\n",
      "Gene tbce not found in all_genes list\n"
     ]
    },
    {
     "name": "stdout",
     "output_type": "stream",
     "text": [
      "Gene adss not found in all_genes list\n",
      "Gene al451007.3 not found in all_genes list\n",
      "Gene gcsaml-as1 not found in all_genes list\n"
     ]
    },
    {
     "name": "stdout",
     "output_type": "stream",
     "text": [
      "Gene mycnos not found in all_genes list\n",
      "Gene fam49a not found in all_genes list\n"
     ]
    },
    {
     "name": "stdout",
     "output_type": "stream",
     "text": [
      "Gene c2orf91 not found in all_genes list\n"
     ]
    },
    {
     "name": "stdout",
     "output_type": "stream",
     "text": [
      "Gene igkc not found in all_genes list\n",
      "Gene al845331.2 not found in all_genes list\n",
      "Gene ac092835.1 not found in all_genes list\n"
     ]
    },
    {
     "name": "stdout",
     "output_type": "stream",
     "text": [
      "Gene kiaa1211l not found in all_genes list\n"
     ]
    },
    {
     "name": "stdout",
     "output_type": "stream",
     "text": [
      "Gene dars not found in all_genes list\n"
     ]
    },
    {
     "name": "stdout",
     "output_type": "stream",
     "text": [
      "Gene march7 not found in all_genes list\n"
     ]
    },
    {
     "name": "stdout",
     "output_type": "stream",
     "text": [
      "Gene pde11a not found in all_genes list\n"
     ]
    },
    {
     "name": "stdout",
     "output_type": "stream",
     "text": [
      "Gene dirc1 not found in all_genes list\n"
     ]
    },
    {
     "name": "stdout",
     "output_type": "stream",
     "text": [
      "Gene march4 not found in all_genes list\n"
     ]
    },
    {
     "name": "stdout",
     "output_type": "stream",
     "text": [
      "Gene c2orf83 not found in all_genes list\n"
     ]
    },
    {
     "name": "stdout",
     "output_type": "stream",
     "text": [
      "Gene arih2os not found in all_genes list\n",
      "Gene qars not found in all_genes list\n",
      "Gene ccdc36 not found in all_genes list\n"
     ]
    },
    {
     "name": "stdout",
     "output_type": "stream",
     "text": [
      "Gene cyb561d2 not found in all_genes list\n"
     ]
    },
    {
     "name": "stdout",
     "output_type": "stream",
     "text": [
      "Gene c3orf67 not found in all_genes list\n"
     ]
    },
    {
     "name": "stdout",
     "output_type": "stream",
     "text": [
      "Gene maats1 not found in all_genes list\n"
     ]
    },
    {
     "name": "stdout",
     "output_type": "stream",
     "text": [
      "Gene alg1l not found in all_genes list\n"
     ]
    },
    {
     "name": "stdout",
     "output_type": "stream",
     "text": [
      "Gene kiaa1257 not found in all_genes list\n",
      "Gene h1fx not found in all_genes list\n",
      "Gene h1foo not found in all_genes list\n",
      "Gene acpp not found in all_genes list\n"
     ]
    },
    {
     "name": "stdout",
     "output_type": "stream",
     "text": [
      "Gene slc66a1l not found in all_genes list\n"
     ]
    },
    {
     "name": "stdout",
     "output_type": "stream",
     "text": [
      "Gene terc not found in all_genes list\n"
     ]
    },
    {
     "name": "stdout",
     "output_type": "stream",
     "text": [
      "Gene ccdc39 not found in all_genes list\n"
     ]
    },
    {
     "name": "stdout",
     "output_type": "stream",
     "text": [
      "Gene ac072022.2 not found in all_genes list\n"
     ]
    },
    {
     "name": "stdout",
     "output_type": "stream",
     "text": [
      "Gene tctex1d2 not found in all_genes list\n"
     ]
    },
    {
     "name": "stdout",
     "output_type": "stream",
     "text": [
      "Gene ac093323.1 not found in all_genes list\n"
     ]
    },
    {
     "name": "stdout",
     "output_type": "stream",
     "text": [
      "Gene kiaa1211 not found in all_genes list\n"
     ]
    },
    {
     "name": "stdout",
     "output_type": "stream",
     "text": [
      "Gene h2afz not found in all_genes list\n"
     ]
    },
    {
     "name": "stdout",
     "output_type": "stream",
     "text": [
      "Gene tmem155 not found in all_genes list\n"
     ]
    },
    {
     "name": "stdout",
     "output_type": "stream",
     "text": [
      "Gene march1 not found in all_genes list\n",
      "Gene fam218a not found in all_genes list\n"
     ]
    },
    {
     "name": "stdout",
     "output_type": "stream",
     "text": [
      "Gene march6 not found in all_genes list\n",
      "Gene march11 not found in all_genes list\n",
      "Gene h3.y not found in all_genes list\n"
     ]
    },
    {
     "name": "stdout",
     "output_type": "stream",
     "text": [
      "Gene tars not found in all_genes list\n"
     ]
    },
    {
     "name": "stdout",
     "output_type": "stream",
     "text": [
      "Gene c5orf67 not found in all_genes list\n"
     ]
    },
    {
     "name": "stdout",
     "output_type": "stream",
     "text": [
      "Gene atp6ap1l not found in all_genes list\n"
     ]
    },
    {
     "name": "stdout",
     "output_type": "stream",
     "text": [
      "Gene c5orf30 not found in all_genes list\n"
     ]
    },
    {
     "name": "stdout",
     "output_type": "stream",
     "text": [
      "Gene ac010255.3 not found in all_genes list\n",
      "Gene march3 not found in all_genes list\n"
     ]
    },
    {
     "name": "stdout",
     "output_type": "stream",
     "text": [
      "Gene h2afy not found in all_genes list\n"
     ]
    },
    {
     "name": "stdout",
     "output_type": "stream",
     "text": [
      "Gene tmem173 not found in all_genes list\n",
      "Gene hars not found in all_genes list\n"
     ]
    },
    {
     "name": "stdout",
     "output_type": "stream",
     "text": [
      "Gene lars not found in all_genes list\n"
     ]
    },
    {
     "name": "stdout",
     "output_type": "stream",
     "text": [
      "Gene rars not found in all_genes list\n"
     ]
    },
    {
     "name": "stdout",
     "output_type": "stream",
     "text": [
      "Gene ac113348.1 not found in all_genes list\n",
      "Gene c5orf60 not found in all_genes list\n"
     ]
    },
    {
     "name": "stdout",
     "output_type": "stream",
     "text": [
      "Gene c6orf201 not found in all_genes list\n"
     ]
    },
    {
     "name": "stdout",
     "output_type": "stream",
     "text": [
      "Gene hist1h1a not found in all_genes list\n",
      "Gene hist1h4b not found in all_genes list\n",
      "Gene hist1h2bb not found in all_genes list\n",
      "Gene hist1h1c not found in all_genes list\n",
      "Gene hist1h4c not found in all_genes list\n",
      "Gene hist1h2ac not found in all_genes list\n",
      "Gene hist1h1e not found in all_genes list\n",
      "Gene hist1h4e not found in all_genes list\n",
      "Gene hist1h2bg not found in all_genes list\n",
      "Gene hist1h2ae not found in all_genes list\n",
      "Gene hist1h3e not found in all_genes list\n",
      "Gene hist1h1d not found in all_genes list\n",
      "Gene hist1h4g not found in all_genes list\n",
      "Gene hist1h2bh not found in all_genes list\n",
      "Gene hist1h3g not found in all_genes list\n",
      "Gene hist1h2ag not found in all_genes list\n",
      "Gene hist1h4i not found in all_genes list\n",
      "Gene hist1h2ai not found in all_genes list\n",
      "Gene hist1h3h not found in all_genes list\n",
      "Gene hist1h4j not found in all_genes list\n",
      "Gene hist1h2bn not found in all_genes list\n",
      "Gene hist1h2ak not found in all_genes list\n",
      "Gene hist1h1b not found in all_genes list\n"
     ]
    },
    {
     "name": "stdout",
     "output_type": "stream",
     "text": [
      "Gene znrd1 not found in all_genes list\n"
     ]
    },
    {
     "name": "stdout",
     "output_type": "stream",
     "text": [
      "Gene vars not found in all_genes list\n",
      "Gene snhg32 not found in all_genes list\n"
     ]
    },
    {
     "name": "stdout",
     "output_type": "stream",
     "text": [
      "Gene c6orf223 not found in all_genes list\n"
     ]
    },
    {
     "name": "stdout",
     "output_type": "stream",
     "text": [
      "Gene defb133 not found in all_genes list\n",
      "Gene ick not found in all_genes list\n"
     ]
    },
    {
     "name": "stdout",
     "output_type": "stream",
     "text": [
      "Gene al135905.2 not found in all_genes list\n"
     ]
    },
    {
     "name": "stdout",
     "output_type": "stream",
     "text": [
      "Gene fgfr1op not found in all_genes list\n",
      "Gene tcte3 not found in all_genes list\n",
      "Gene ac187653.1 not found in all_genes list\n"
     ]
    },
    {
     "name": "stdout",
     "output_type": "stream",
     "text": [
      "Gene ac013470.2 not found in all_genes list\n",
      "Gene twistnb not found in all_genes list\n"
     ]
    },
    {
     "name": "stdout",
     "output_type": "stream",
     "text": [
      "Gene ac004593.3 not found in all_genes list\n",
      "Gene gars not found in all_genes list\n"
     ]
    },
    {
     "name": "stdout",
     "output_type": "stream",
     "text": [
      "Gene trgc2 not found in all_genes list\n",
      "Gene trgjp2 not found in all_genes list\n",
      "Gene trgc1 not found in all_genes list\n",
      "Gene trgjp1 not found in all_genes list\n"
     ]
    },
    {
     "name": "stdout",
     "output_type": "stream",
     "text": [
      "Gene ac115220.1 not found in all_genes list\n"
     ]
    },
    {
     "name": "stdout",
     "output_type": "stream",
     "text": [
      "Gene kiaa1324l not found in all_genes list\n"
     ]
    },
    {
     "name": "stdout",
     "output_type": "stream",
     "text": [
      "Gene castor3 not found in all_genes list\n"
     ]
    },
    {
     "name": "stdout",
     "output_type": "stream",
     "text": [
      "Gene c7orf77 not found in all_genes list\n",
      "Gene ac011005.1 not found in all_genes list\n"
     ]
    },
    {
     "name": "stdout",
     "output_type": "stream",
     "text": [
      "Gene trbc1 not found in all_genes list\n",
      "Gene trbc2 not found in all_genes list\n"
     ]
    },
    {
     "name": "stdout",
     "output_type": "stream",
     "text": [
      "Gene sspo not found in all_genes list\n",
      "Gene ac073111.4 not found in all_genes list\n"
     ]
    },
    {
     "name": "stdout",
     "output_type": "stream",
     "text": [
      "Gene ac021097.2 not found in all_genes list\n"
     ]
    },
    {
     "name": "stdout",
     "output_type": "stream",
     "text": [
      "Gene wdr60 not found in all_genes list\n",
      "Gene ac134684.8 not found in all_genes list\n"
     ]
    },
    {
     "name": "stdout",
     "output_type": "stream",
     "text": [
      "Gene pinx1 not found in all_genes list\n"
     ]
    },
    {
     "name": "stdout",
     "output_type": "stream",
     "text": [
      "Gene impad1 not found in all_genes list\n"
     ]
    },
    {
     "name": "stdout",
     "output_type": "stream",
     "text": [
      "Gene wdyhv1 not found in all_genes list\n",
      "Gene fam49b not found in all_genes list\n"
     ]
    },
    {
     "name": "stdout",
     "output_type": "stream",
     "text": [
      "Gene ac138647.1 not found in all_genes list\n"
     ]
    },
    {
     "name": "stdout",
     "output_type": "stream",
     "text": [
      "Gene tsta3 not found in all_genes list\n"
     ]
    },
    {
     "name": "stdout",
     "output_type": "stream",
     "text": [
      "Gene dock8-as1 not found in all_genes list\n"
     ]
    },
    {
     "name": "stdout",
     "output_type": "stream",
     "text": [
      "Gene c9orf92 not found in all_genes list\n"
     ]
    },
    {
     "name": "stdout",
     "output_type": "stream",
     "text": [
      "Gene al162231.1 not found in all_genes list\n"
     ]
    },
    {
     "name": "stdout",
     "output_type": "stream",
     "text": [
      "Gene fam122a not found in all_genes list\n"
     ]
    },
    {
     "name": "stdout",
     "output_type": "stream",
     "text": [
      "Gene al353572.3 not found in all_genes list\n",
      "Gene iars not found in all_genes list\n"
     ]
    },
    {
     "name": "stdout",
     "output_type": "stream",
     "text": [
      "Gene c9orf129 not found in all_genes list\n",
      "Gene al160269.1 not found in all_genes list\n"
     ]
    },
    {
     "name": "stdout",
     "output_type": "stream",
     "text": [
      "Gene tmem246 not found in all_genes list\n"
     ]
    },
    {
     "name": "stdout",
     "output_type": "stream",
     "text": [
      "Gene palm2-akap2 not found in all_genes list\n",
      "Gene znf883 not found in all_genes list\n"
     ]
    },
    {
     "name": "stdout",
     "output_type": "stream",
     "text": [
      "Gene dec1 not found in all_genes list\n",
      "Gene b3gnt10 not found in all_genes list\n"
     ]
    },
    {
     "name": "stdout",
     "output_type": "stream",
     "text": [
      "Gene wdr34 not found in all_genes list\n"
     ]
    },
    {
     "name": "stdout",
     "output_type": "stream",
     "text": [
      "Gene al354761.1 not found in all_genes list\n"
     ]
    },
    {
     "name": "stdout",
     "output_type": "stream",
     "text": [
      "Gene bx255925.3 not found in all_genes list\n"
     ]
    },
    {
     "name": "stdout",
     "output_type": "stream",
     "text": [
      "Gene mir1915hg not found in all_genes list\n"
     ]
    },
    {
     "name": "stdout",
     "output_type": "stream",
     "text": [
      "Gene armc4 not found in all_genes list\n"
     ]
    },
    {
     "name": "stdout",
     "output_type": "stream",
     "text": [
      "Gene c10orf142 not found in all_genes list\n",
      "Gene march8 not found in all_genes list\n"
     ]
    },
    {
     "name": "stdout",
     "output_type": "stream",
     "text": [
      "Gene ac067752.1 not found in all_genes list\n",
      "Gene kif1bp not found in all_genes list\n"
     ]
    },
    {
     "name": "stdout",
     "output_type": "stream",
     "text": [
      "Gene h2afy2 not found in all_genes list\n"
     ]
    },
    {
     "name": "stdout",
     "output_type": "stream",
     "text": [
      "Gene c10orf55 not found in all_genes list\n",
      "Gene dupd1 not found in all_genes list\n"
     ]
    },
    {
     "name": "stdout",
     "output_type": "stream",
     "text": [
      "Gene march5 not found in all_genes list\n"
     ]
    },
    {
     "name": "stdout",
     "output_type": "stream",
     "text": [
      "Gene atp5md not found in all_genes list\n"
     ]
    },
    {
     "name": "stdout",
     "output_type": "stream",
     "text": [
      "Gene al603764.2 not found in all_genes list\n"
     ]
    },
    {
     "name": "stdout",
     "output_type": "stream",
     "text": [
      "Gene pano1 not found in all_genes list\n"
     ]
    },
    {
     "name": "stdout",
     "output_type": "stream",
     "text": [
      "Gene ac132217.2 not found in all_genes list\n",
      "Gene cars not found in all_genes list\n"
     ]
    },
    {
     "name": "stdout",
     "output_type": "stream",
     "text": [
      "Gene c11orf40 not found in all_genes list\n",
      "Gene ac104389.5 not found in all_genes list\n"
     ]
    },
    {
     "name": "stdout",
     "output_type": "stream",
     "text": [
      "Gene st5 not found in all_genes list\n",
      "Gene mrvi1 not found in all_genes list\n"
     ]
    },
    {
     "name": "stdout",
     "output_type": "stream",
     "text": [
      "Gene c11orf74 not found in all_genes list\n"
     ]
    },
    {
     "name": "stdout",
     "output_type": "stream",
     "text": [
      "Gene or5r1 not found in all_genes list\n"
     ]
    },
    {
     "name": "stdout",
     "output_type": "stream",
     "text": [
      "Gene ap002495.1 not found in all_genes list\n"
     ]
    },
    {
     "name": "stdout",
     "output_type": "stream",
     "text": [
      "Gene card16 not found in all_genes list\n",
      "Gene card17 not found in all_genes list\n"
     ]
    },
    {
     "name": "stdout",
     "output_type": "stream",
     "text": [
      "Gene c11orf88 not found in all_genes list\n"
     ]
    },
    {
     "name": "stdout",
     "output_type": "stream",
     "text": [
      "Gene ccdc84 not found in all_genes list\n",
      "Gene h2afx not found in all_genes list\n"
     ]
    },
    {
     "name": "stdout",
     "output_type": "stream",
     "text": [
      "Gene hist4h4 not found in all_genes list\n",
      "Gene h2afj not found in all_genes list\n"
     ]
    },
    {
     "name": "stdout",
     "output_type": "stream",
     "text": [
      "Gene lrmp not found in all_genes list\n",
      "Gene casc1 not found in all_genes list\n"
     ]
    },
    {
     "name": "stdout",
     "output_type": "stream",
     "text": [
      "Gene h3f3c not found in all_genes list\n"
     ]
    },
    {
     "name": "stdout",
     "output_type": "stream",
     "text": [
      "Gene h1fnt not found in all_genes list\n"
     ]
    },
    {
     "name": "stdout",
     "output_type": "stream",
     "text": [
      "Gene c12orf81 not found in all_genes list\n",
      "Gene grasp not found in all_genes list\n"
     ]
    },
    {
     "name": "stdout",
     "output_type": "stream",
     "text": [
      "Gene ac021072.1 not found in all_genes list\n",
      "Gene c12orf10 not found in all_genes list\n"
     ]
    },
    {
     "name": "stdout",
     "output_type": "stream",
     "text": [
      "Gene mars not found in all_genes list\n",
      "Gene slc26a10 not found in all_genes list\n",
      "Gene march9 not found in all_genes list\n"
     ]
    },
    {
     "name": "stdout",
     "output_type": "stream",
     "text": [
      "Gene cllu1os not found in all_genes list\n",
      "Gene c12orf74 not found in all_genes list\n"
     ]
    },
    {
     "name": "stdout",
     "output_type": "stream",
     "text": [
      "Gene c12orf49 not found in all_genes list\n"
     ]
    },
    {
     "name": "stdout",
     "output_type": "stream",
     "text": [
      "Gene wdr66 not found in all_genes list\n"
     ]
    },
    {
     "name": "stdout",
     "output_type": "stream",
     "text": [
      "Gene spata13 not found in all_genes list\n"
     ]
    },
    {
     "name": "stdout",
     "output_type": "stream",
     "text": [
      "Gene spert not found in all_genes list\n"
     ]
    },
    {
     "name": "stdout",
     "output_type": "stream",
     "text": [
      "Gene al445238.1 not found in all_genes list\n"
     ]
    },
    {
     "name": "stdout",
     "output_type": "stream",
     "text": [
      "Gene trdc not found in all_genes list\n",
      "Gene trac not found in all_genes list\n"
     ]
    },
    {
     "name": "stdout",
     "output_type": "stream",
     "text": [
      "Gene elmsan1 not found in all_genes list\n"
     ]
    },
    {
     "name": "stdout",
     "output_type": "stream",
     "text": [
      "Gene c14orf177 not found in all_genes list\n",
      "Gene wars not found in all_genes list\n"
     ]
    },
    {
     "name": "stdout",
     "output_type": "stream",
     "text": [
      "Gene atp5mpl not found in all_genes list\n",
      "Gene adssl1 not found in all_genes list\n",
      "Gene igha2 not found in all_genes list\n",
      "Gene ighe not found in all_genes list\n",
      "Gene igha1 not found in all_genes list\n",
      "Gene ighg1 not found in all_genes list\n",
      "Gene ighg3 not found in all_genes list\n",
      "Gene ighd not found in all_genes list\n",
      "Gene ighm not found in all_genes list\n",
      "Gene fam30a not found in all_genes list\n"
     ]
    },
    {
     "name": "stdout",
     "output_type": "stream",
     "text": [
      "Gene golga8m not found in all_genes list\n",
      "Gene ac091057.6 not found in all_genes list\n"
     ]
    },
    {
     "name": "stdout",
     "output_type": "stream",
     "text": [
      "Gene c15orf41 not found in all_genes list\n",
      "Gene linc02694 not found in all_genes list\n"
     ]
    },
    {
     "name": "stdout",
     "output_type": "stream",
     "text": [
      "Gene casc4 not found in all_genes list\n"
     ]
    },
    {
     "name": "stdout",
     "output_type": "stream",
     "text": [
      "Gene ct62 not found in all_genes list\n"
     ]
    },
    {
     "name": "stdout",
     "output_type": "stream",
     "text": [
      "Gene ac015871.1 not found in all_genes list\n"
     ]
    },
    {
     "name": "stdout",
     "output_type": "stream",
     "text": [
      "Gene spata8 not found in all_genes list\n",
      "Gene fam169b not found in all_genes list\n",
      "Gene tarsl2 not found in all_genes list\n"
     ]
    },
    {
     "name": "stdout",
     "output_type": "stream",
     "text": [
      "Gene tmem8a not found in all_genes list\n"
     ]
    },
    {
     "name": "stdout",
     "output_type": "stream",
     "text": [
      "Gene al032819.3 not found in all_genes list\n"
     ]
    },
    {
     "name": "stdout",
     "output_type": "stream",
     "text": [
      "Gene ac025283.2 not found in all_genes list\n"
     ]
    },
    {
     "name": "stdout",
     "output_type": "stream",
     "text": [
      "Gene ac099489.1 not found in all_genes list\n",
      "Gene fopnl not found in all_genes list\n"
     ]
    },
    {
     "name": "stdout",
     "output_type": "stream",
     "text": [
      "Gene kiaa0556 not found in all_genes list\n"
     ]
    },
    {
     "name": "stdout",
     "output_type": "stream",
     "text": [
      "Gene c16orf58 not found in all_genes list\n",
      "Gene ac007906.2 not found in all_genes list\n"
     ]
    },
    {
     "name": "stdout",
     "output_type": "stream",
     "text": [
      "Gene fam192a not found in all_genes list\n"
     ]
    },
    {
     "name": "stdout",
     "output_type": "stream",
     "text": [
      "Gene lrrc29 not found in all_genes list\n"
     ]
    },
    {
     "name": "stdout",
     "output_type": "stream",
     "text": [
      "Gene aars not found in all_genes list\n"
     ]
    },
    {
     "name": "stdout",
     "output_type": "stream",
     "text": [
      "Gene kars not found in all_genes list\n",
      "Gene ac025287.4 not found in all_genes list\n"
     ]
    },
    {
     "name": "stdout",
     "output_type": "stream",
     "text": [
      "Gene fam92b not found in all_genes list\n"
     ]
    },
    {
     "name": "stdout",
     "output_type": "stream",
     "text": [
      "Gene cenpbd1 not found in all_genes list\n"
     ]
    },
    {
     "name": "stdout",
     "output_type": "stream",
     "text": [
      "Gene ac087498.1 not found in all_genes list\n",
      "Gene ac233723.1 not found in all_genes list\n"
     ]
    },
    {
     "name": "stdout",
     "output_type": "stream",
     "text": [
      "Gene trim16l not found in all_genes list\n"
     ]
    },
    {
     "name": "stdout",
     "output_type": "stream",
     "text": [
      "Gene linc02693 not found in all_genes list\n"
     ]
    },
    {
     "name": "stdout",
     "output_type": "stream",
     "text": [
      "Gene slfn12l not found in all_genes list\n"
     ]
    },
    {
     "name": "stdout",
     "output_type": "stream",
     "text": [
      "Gene tmem99 not found in all_genes list\n"
     ]
    },
    {
     "name": "stdout",
     "output_type": "stream",
     "text": [
      "Gene ttc25 not found in all_genes list\n"
     ]
    },
    {
     "name": "stdout",
     "output_type": "stream",
     "text": [
      "Gene c17orf53 not found in all_genes list\n"
     ]
    },
    {
     "name": "stdout",
     "output_type": "stream",
     "text": [
      "Gene ac011195.2 not found in all_genes list\n"
     ]
    },
    {
     "name": "stdout",
     "output_type": "stream",
     "text": [
      "Gene march10 not found in all_genes list\n"
     ]
    },
    {
     "name": "stdout",
     "output_type": "stream",
     "text": [
      "Gene h3f3b not found in all_genes list\n"
     ]
    },
    {
     "name": "stdout",
     "output_type": "stream",
     "text": [
      "Gene eloa3 not found in all_genes list\n"
     ]
    },
    {
     "name": "stdout",
     "output_type": "stream",
     "text": [
      "Gene nars not found in all_genes list\n"
     ]
    },
    {
     "name": "stdout",
     "output_type": "stream",
     "text": [
      "Gene ac090360.1 not found in all_genes list\n"
     ]
    },
    {
     "name": "stdout",
     "output_type": "stream",
     "text": [
      "Gene ac005551.1 not found in all_genes list\n"
     ]
    },
    {
     "name": "stdout",
     "output_type": "stream",
     "text": [
      "Gene ac119396.1 not found in all_genes list\n"
     ]
    },
    {
     "name": "stdout",
     "output_type": "stream",
     "text": [
      "Gene march2 not found in all_genes list\n"
     ]
    },
    {
     "name": "stdout",
     "output_type": "stream",
     "text": [
      "Gene ccdc151 not found in all_genes list\n"
     ]
    },
    {
     "name": "stdout",
     "output_type": "stream",
     "text": [
      "Gene c19orf57 not found in all_genes list\n"
     ]
    },
    {
     "name": "stdout",
     "output_type": "stream",
     "text": [
      "Gene ac008397.1 not found in all_genes list\n"
     ]
    },
    {
     "name": "stdout",
     "output_type": "stream",
     "text": [
      "Gene kiaa0355 not found in all_genes list\n"
     ]
    },
    {
     "name": "stdout",
     "output_type": "stream",
     "text": [
      "Gene cntd2 not found in all_genes list\n"
     ]
    },
    {
     "name": "stdout",
     "output_type": "stream",
     "text": [
      "Gene cd3eap not found in all_genes list\n",
      "Gene bhmg1 not found in all_genes list\n"
     ]
    },
    {
     "name": "stdout",
     "output_type": "stream",
     "text": [
      "Gene ppp5d1 not found in all_genes list\n"
     ]
    },
    {
     "name": "stdout",
     "output_type": "stream",
     "text": [
      "Gene ccdc114 not found in all_genes list\n"
     ]
    },
    {
     "name": "stdout",
     "output_type": "stream",
     "text": [
      "Gene ac008687.4 not found in all_genes list\n",
      "Gene ccdc155 not found in all_genes list\n"
     ]
    },
    {
     "name": "stdout",
     "output_type": "stream",
     "text": [
      "Gene ac010325.1 not found in all_genes list\n",
      "Gene c19orf48 not found in all_genes list\n"
     ]
    },
    {
     "name": "stdout",
     "output_type": "stream",
     "text": [
      "Gene siglec5 not found in all_genes list\n"
     ]
    },
    {
     "name": "stdout",
     "output_type": "stream",
     "text": [
      "Gene gdf5os not found in all_genes list\n"
     ]
    },
    {
     "name": "stdout",
     "output_type": "stream",
     "text": [
      "Gene tmem189 not found in all_genes list\n"
     ]
    },
    {
     "name": "stdout",
     "output_type": "stream",
     "text": [
      "Gene fp565260.1 not found in all_genes list\n"
     ]
    },
    {
     "name": "stdout",
     "output_type": "stream",
     "text": [
      "Gene iglc1 not found in all_genes list\n",
      "Gene iglc7 not found in all_genes list\n"
     ]
    },
    {
     "name": "stdout",
     "output_type": "stream",
     "text": [
      "Gene lrp5l not found in all_genes list\n"
     ]
    },
    {
     "name": "stdout",
     "output_type": "stream",
     "text": [
      "Gene elfn2 not found in all_genes list\n",
      "Gene h1f0 not found in all_genes list\n"
     ]
    },
    {
     "name": "stdout",
     "output_type": "stream",
     "text": [
      "Gene z82206.1 not found in all_genes list\n"
     ]
    },
    {
     "name": "stdout",
     "output_type": "stream",
     "text": [
      "Gene arse not found in all_genes list\n"
     ]
    },
    {
     "name": "stdout",
     "output_type": "stream",
     "text": [
      "Gene cxorf21 not found in all_genes list\n",
      "Gene hypm not found in all_genes list\n",
      "Gene al121578.2 not found in all_genes list\n"
     ]
    },
    {
     "name": "stdout",
     "output_type": "stream",
     "text": [
      "Gene bx276092.9 not found in all_genes list\n"
     ]
    },
    {
     "name": "stdout",
     "output_type": "stream",
     "text": [
      "Gene nxf5 not found in all_genes list\n"
     ]
    },
    {
     "name": "stdout",
     "output_type": "stream",
     "text": [
      "Gene glra4 not found in all_genes list\n",
      "Gene tmsb15b not found in all_genes list\n",
      "Gene h2bfwt not found in all_genes list\n",
      "Gene h2bfm not found in all_genes list\n"
     ]
    },
    {
     "name": "stdout",
     "output_type": "stream",
     "text": [
      "Gene pih1d3 not found in all_genes list\n"
     ]
    },
    {
     "name": "stdout",
     "output_type": "stream",
     "text": [
      "Gene cxorf56 not found in all_genes list\n"
     ]
    },
    {
     "name": "stdout",
     "output_type": "stream",
     "text": [
      "Gene fam122b not found in all_genes list\n",
      "Gene fam122c not found in all_genes list\n"
     ]
    },
    {
     "name": "stdout",
     "output_type": "stream",
     "text": [
      "Gene cxorf40a not found in all_genes list\n"
     ]
    },
    {
     "name": "stdout",
     "output_type": "stream",
     "text": [
      "Gene ac236972.4 not found in all_genes list\n"
     ]
    },
    {
     "name": "stdout",
     "output_type": "stream",
     "text": [
      "Gene prky not found in all_genes list\n"
     ]
    }
   ],
   "source": [
    "dense_adata_X = adata.X\n",
    "for i, gene in enumerate(adata_genes_lower):\n",
    "    if gene in gene_to_index:\n",
    "        new_data[:, gene_to_index[gene]] = dense_adata_X[:, i]\n",
    "    else:\n",
    "        print(f'Gene {gene} not found in all_genes list')\n"
   ]
  },
  {
   "cell_type": "code",
   "execution_count": 12,
   "metadata": {
    "execution": {
     "iopub.execute_input": "2024-11-03T13:41:03.240510Z",
     "iopub.status.busy": "2024-11-03T13:41:03.239968Z",
     "iopub.status.idle": "2024-11-03T13:41:22.378558Z",
     "shell.execute_reply": "2024-11-03T13:41:22.376877Z"
    }
   },
   "outputs": [
    {
     "name": "stdout",
     "output_type": "stream",
     "text": [
      "cuda\n"
     ]
    }
   ],
   "source": [
    "from sklearn.metrics import accuracy_score, f1_score\n",
    "from sklearn.preprocessing import LabelEncoder\n",
    "import numpy as np\n",
    "from sklearn.model_selection import train_test_split\n",
    "\n",
    "\n",
    "label_encoder = LabelEncoder()\n",
    "labels_encoded = label_encoder.fit_transform(adata.obs['cell_type'])  # 预先编码标签\n",
    "\n",
    "\n",
    "random_seed = 42\n",
    "X_train_val, X_test, y_train_val, y_test = train_test_split(\n",
    "    new_data, labels_encoded, test_size=0.15, random_state=random_seed)\n",
    "\n",
    "\n",
    "X_train, X_val, y_train, y_val = train_test_split(\n",
    "    X_train_val, y_train_val, test_size=0.1765, random_state=random_seed)  # 0.1765 是为了让验证集占 15%\n",
    "\n",
    "device = torch.device(\"cuda\" if torch.cuda.is_available() else \"cpu\")\n",
    "print(device)\n",
    "\n",
    "estim.model.eval()\n",
    "with torch.no_grad():\n",
    "    X_train_tensor = torch.tensor(X_train).float().to(device)\n",
    "    X_test_tensor = torch.tensor(X_test).float().to(device)\n",
    "    train_embeddings = estim.model.encoder(X_train_tensor).detach().cpu().numpy()\n",
    "    test_embeddings = estim.model.encoder(X_test_tensor).detach().cpu().numpy()\n"
   ]
  },
  {
   "cell_type": "code",
   "execution_count": 13,
   "metadata": {
    "execution": {
     "iopub.execute_input": "2024-11-03T13:41:22.382684Z",
     "iopub.status.busy": "2024-11-03T13:41:22.382418Z",
     "iopub.status.idle": "2024-11-03T13:41:23.260954Z",
     "shell.execute_reply": "2024-11-03T13:41:23.260022Z"
    }
   },
   "outputs": [
    {
     "name": "stdout",
     "output_type": "stream",
     "text": [
      "KNN Accuracy on Test Data: 0.6936861763420352\n",
      "Weighted F1 Score: 0.6898448498317492\n",
      "Macro F1 Score: 0.5642799981688399\n",
      "Random Guess Accuracy: 0.1320247177116093\n",
      "                         precision    recall  f1-score   support\n",
      "\n",
      "                B_Cells       0.69      0.82      0.75       772\n",
      "           CD4+_T_Cells       0.46      0.50      0.48      1286\n",
      "           CD8+_T_Cells       0.50      0.54      0.52      1026\n",
      "                 DCIS_1       0.68      0.69      0.69      1937\n",
      "                 DCIS_2       0.57      0.51      0.54      1746\n",
      "            Endothelial       0.84      0.81      0.82      1348\n",
      "              IRF7+_DCs       0.82      0.69      0.75        74\n",
      "         Invasive_Tumor       0.78      0.84      0.81      5230\n",
      "             LAMP3+_DCs       0.57      0.61      0.59        49\n",
      "          Macrophages_1       0.66      0.71      0.69      1692\n",
      "          Macrophages_2       0.48      0.42      0.45       223\n",
      "             Mast_Cells       0.58      0.39      0.47        28\n",
      "          Myoepi_ACTA2+       0.73      0.73      0.73      1043\n",
      "          Myoepi_KRT15+       0.81      0.82      0.82       426\n",
      "      Perivascular-Like       0.44      0.14      0.22       125\n",
      "  Prolif_Invasive_Tumor       0.60      0.62      0.61       533\n",
      "                Stromal       0.75      0.73      0.74      6184\n",
      "Stromal_&_T_Cell_Hybrid       0.14      0.01      0.02        93\n",
      "  T_Cell_&_Tumor_Hybrid       0.19      0.08      0.11        87\n",
      "              Unlabeled       0.55      0.47      0.51      1265\n",
      "\n",
      "               accuracy                           0.69     25167\n",
      "              macro avg       0.59      0.56      0.56     25167\n",
      "           weighted avg       0.69      0.69      0.69     25167\n",
      "\n"
     ]
    }
   ],
   "source": [
    "import pandas as pd\n",
    "from sklearn.neighbors import KNeighborsClassifier\n",
    "from sklearn.metrics import accuracy_score, f1_score, classification_report\n",
    "\n",
    "    \n",
    "\n",
    "    # 初始化和训练KNN分类器\n",
    "knn = KNeighborsClassifier(n_neighbors=5)\n",
    "knn.fit(train_embeddings, y_train)\n",
    "    \n",
    "    # 模型预测\n",
    "predictions = knn.predict(test_embeddings)\n",
    "\n",
    "    # 计算准确率和 F1 分数\n",
    "accuracy = accuracy_score(y_test, predictions)\n",
    "print(f\"KNN Accuracy on Test Data: {accuracy}\")\n",
    "f1 = f1_score(y_test, predictions, average='weighted')\n",
    "print(f\"Weighted F1 Score: {f1}\")\n",
    "    \n",
    "macro_f1 = f1_score(y_test, predictions, average='macro')\n",
    "print(f'Macro F1 Score: {macro_f1}')\n",
    "\n",
    "    # 计算随机猜测的准确率\n",
    "class_probabilities = np.bincount(y_test) / len(y_test)\n",
    "random_accuracy = np.sum(class_probabilities ** 2)\n",
    "print(f\"Random Guess Accuracy: {random_accuracy}\")\n",
    "\n",
    "    # 生成分类报告\n",
    "report = classification_report(y_test, predictions, target_names=label_encoder.classes_)\n",
    "print(report)"
   ]
  },
  {
   "cell_type": "code",
   "execution_count": 14,
   "metadata": {
    "execution": {
     "iopub.execute_input": "2024-11-03T13:41:23.264394Z",
     "iopub.status.busy": "2024-11-03T13:41:23.263921Z",
     "iopub.status.idle": "2024-11-03T13:41:49.001425Z",
     "shell.execute_reply": "2024-11-03T13:41:48.999167Z"
    }
   },
   "outputs": [],
   "source": [
    "with torch.no_grad():\n",
    "    new_data_tensor = torch.tensor(new_data).float().to(device)\n",
    "    SSL_embeddings = estim.model.encoder(new_data_tensor).detach().cpu().numpy()\n",
    "new_adata = sc.read_h5ad(data_dir)\n",
    "new_adata.obsm[f'SSL_RM_ZS_{random_seed}'] = SSL_embeddings\n",
    "new_adata.uns[f'RM_ZS_y_test_{random_seed}'] = y_test\n",
    "new_adata.uns[f'RM_ZS_predictions_{random_seed}'] = predictions\n",
    "new_adata.uns[f'RM_ZS_target_names_{random_seed}'] = label_encoder.classes_\n",
    "new_adata.write_h5ad(data_dir)"
   ]
  },
  {
   "cell_type": "code",
   "execution_count": 15,
   "metadata": {
    "execution": {
     "iopub.execute_input": "2024-11-03T13:41:49.008219Z",
     "iopub.status.busy": "2024-11-03T13:41:49.007195Z",
     "iopub.status.idle": "2024-11-03T13:41:49.052474Z",
     "shell.execute_reply": "2024-11-03T13:41:49.050847Z"
    }
   },
   "outputs": [
    {
     "name": "stdout",
     "output_type": "stream",
     "text": [
      "Metrics Summary:\n",
      "macro_f1\tweighted_f1\tmicor_f1\n",
      "0.564\t0.690\t0.694\n"
     ]
    }
   ],
   "source": [
    "\n",
    "import pandas as pd\n",
    "import os\n",
    "import re\n",
    "\n",
    "# 当前 Notebook 文件名\n",
    "notebook_name = \"imputed_Xenium_breast_cancer_sample1_replicate1_random_mask_zero_shot_42.ipynb\"\n",
    "\n",
    "# 初始化需要打印的值\n",
    "init_train_loss = train_losses[0] if 'train_losses' in globals() else None\n",
    "init_val_loss = val_losses[0] if 'val_losses' in globals() else None\n",
    "converged_epoch = len(train_losses) - patience if 'train_losses' in globals() else None\n",
    "converged_val_loss = best_val_loss if 'best_val_loss' in globals() else None\n",
    "\n",
    "# 打印所有所需的指标\n",
    "print(\"Metrics Summary:\")\n",
    "if 'train_losses' in globals():\n",
    "    print(f\"init_train_loss\\tinit_val_loss\\tconverged_epoch\\tconverged_val_loss\\tmacro_f1\\tweighted_f1\\tmicor_f1\")\n",
    "    print(f\"{init_train_loss:.3f}\\t{init_val_loss:.3f}\\t{converged_epoch}\\t{converged_val_loss:.3f}\\t{macro_f1:.3f}\\t{f1:.3f}\\t{accuracy:.3f}\")\n",
    "else:\n",
    "    print(f\"macro_f1\\tweighted_f1\\tmicor_f1\")\n",
    "    print(f\"{macro_f1:.3f}\\t{f1:.3f}\\t{accuracy:.3f}\")\n",
    "\n",
    "# 保存结果到 CSV 文件\n",
    "output_data = {\n",
    "    'dataset_split_random_seed': [int(random_seed)],\n",
    "    'dataset': ['imputed_xenium_breast_cancer_sample1_replicate1'],\n",
    "    'method': [re.search(r'replicate1_(.*?)_\\d+', notebook_name).group(1)],\n",
    "    'init_train_loss': [init_train_loss if init_train_loss is not None else ''],\n",
    "    'init_val_loss': [init_val_loss if init_val_loss is not None else ''],\n",
    "    'converged_epoch': [converged_epoch if converged_epoch is not None else ''],\n",
    "    'converged_val_loss': [converged_val_loss if converged_val_loss is not None else ''],\n",
    "    'macro_f1': [macro_f1],\n",
    "    'weighted_f1': [f1],\n",
    "    'micor_f1': [accuracy]\n",
    "}\n",
    "output_df = pd.DataFrame(output_data)\n",
    "\n",
    "# 保存到当前目录下名为 results 的文件夹中\n",
    "if not os.path.exists('results'):\n",
    "    os.makedirs('results')\n",
    "\n",
    "csv_filename = f\"results/{os.path.splitext(notebook_name)[0]}_results.csv\"\n",
    "output_df.to_csv(csv_filename, index=False)\n"
   ]
  }
 ],
 "metadata": {
  "kernelspec": {
   "display_name": "ssl",
   "language": "python",
   "name": "python3"
  },
  "language_info": {
   "codemirror_mode": {
    "name": "ipython",
    "version": 3
   },
   "file_extension": ".py",
   "mimetype": "text/x-python",
   "name": "python",
   "nbconvert_exporter": "python",
   "pygments_lexer": "ipython3",
   "version": "3.10.13"
  }
 },
 "nbformat": 4,
 "nbformat_minor": 2
}
