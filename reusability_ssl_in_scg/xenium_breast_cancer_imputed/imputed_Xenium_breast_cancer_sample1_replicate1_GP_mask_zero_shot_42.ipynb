{
 "cells": [
  {
   "cell_type": "code",
   "execution_count": 1,
   "metadata": {
    "execution": {
     "iopub.execute_input": "2024-11-03T15:20:10.997609Z",
     "iopub.status.busy": "2024-11-03T15:20:10.997197Z",
     "iopub.status.idle": "2024-11-03T15:20:25.557604Z",
     "shell.execute_reply": "2024-11-03T15:20:25.556589Z"
    }
   },
   "outputs": [],
   "source": [
    "import scanpy as sc\n",
    "data_dir = '../../dataset/ad_ge_imputed_Xenium_breast_cancer_sample1_replicate1.h5ad'\n",
    "adata = sc.read_h5ad(data_dir)\n",
    "sc.pp.normalize_total(adata)\n",
    "sc.pp.log1p(adata)"
   ]
  },
  {
   "cell_type": "code",
   "execution_count": 2,
   "metadata": {
    "execution": {
     "iopub.execute_input": "2024-11-03T15:20:25.560776Z",
     "iopub.status.busy": "2024-11-03T15:20:25.560224Z",
     "iopub.status.idle": "2024-11-03T15:20:29.537465Z",
     "shell.execute_reply": "2024-11-03T15:20:29.536952Z"
    }
   },
   "outputs": [
    {
     "name": "stderr",
     "output_type": "stream",
     "text": [
      "/home/hanchuangyi/miniconda3/envs/ssl/lib/python3.10/site-packages/merlin/dtypes/mappings/tf.py:52: UserWarning: Tensorflow dtype mappings did not load successfully due to an error: No module named 'tensorflow'\n",
      "  warn(f\"Tensorflow dtype mappings did not load successfully due to an error: {exc.msg}\")\n",
      "/home/hanchuangyi/miniconda3/envs/ssl/lib/python3.10/site-packages/merlin/dtypes/mappings/triton.py:53: UserWarning: Triton dtype mappings did not load successfully due to an error: No module named 'tritonclient'\n",
      "  warn(f\"Triton dtype mappings did not load successfully due to an error: {exc.msg}\")\n"
     ]
    },
    {
     "name": "stderr",
     "output_type": "stream",
     "text": [
      "GPU available: True (cuda), used: True\n"
     ]
    },
    {
     "name": "stderr",
     "output_type": "stream",
     "text": [
      "TPU available: False, using: 0 TPU cores\n"
     ]
    },
    {
     "name": "stderr",
     "output_type": "stream",
     "text": [
      "HPU available: False, using: 0 HPUs\n"
     ]
    },
    {
     "data": {
      "text/plain": [
       "MLPAutoEncoder(\n",
       "  (train_metrics): MetricCollection(\n",
       "    (explained_var_uniform): ExplainedVariance()\n",
       "    (explained_var_weighted): ExplainedVariance()\n",
       "    (mse): MeanSquaredError(),\n",
       "    prefix=train_\n",
       "  )\n",
       "  (val_metrics): MetricCollection(\n",
       "    (explained_var_uniform): ExplainedVariance()\n",
       "    (explained_var_weighted): ExplainedVariance()\n",
       "    (mse): MeanSquaredError(),\n",
       "    prefix=val_\n",
       "  )\n",
       "  (test_metrics): MetricCollection(\n",
       "    (explained_var_uniform): ExplainedVariance()\n",
       "    (explained_var_weighted): ExplainedVariance()\n",
       "    (mse): MeanSquaredError(),\n",
       "    prefix=test_\n",
       "  )\n",
       "  (encoder): MLP(\n",
       "    (0): Linear(in_features=19331, out_features=512, bias=True)\n",
       "    (1): SELU()\n",
       "    (2): Dropout(p=0.1, inplace=False)\n",
       "    (3): Linear(in_features=512, out_features=512, bias=True)\n",
       "    (4): SELU()\n",
       "    (5): Dropout(p=0.1, inplace=False)\n",
       "    (6): Linear(in_features=512, out_features=256, bias=True)\n",
       "    (7): SELU()\n",
       "    (8): Dropout(p=0.1, inplace=False)\n",
       "    (9): Linear(in_features=256, out_features=256, bias=True)\n",
       "    (10): SELU()\n",
       "    (11): Dropout(p=0.1, inplace=False)\n",
       "    (12): Linear(in_features=256, out_features=64, bias=True)\n",
       "  )\n",
       "  (decoder): Sequential(\n",
       "    (0): MLP(\n",
       "      (0): Linear(in_features=64, out_features=256, bias=True)\n",
       "      (1): SELU()\n",
       "      (2): Dropout(p=0.1, inplace=False)\n",
       "      (3): Linear(in_features=256, out_features=256, bias=True)\n",
       "      (4): SELU()\n",
       "      (5): Dropout(p=0.1, inplace=False)\n",
       "      (6): Linear(in_features=256, out_features=512, bias=True)\n",
       "      (7): SELU()\n",
       "      (8): Dropout(p=0.1, inplace=False)\n",
       "      (9): Linear(in_features=512, out_features=512, bias=True)\n",
       "      (10): SELU()\n",
       "      (11): Dropout(p=0.1, inplace=False)\n",
       "      (12): Linear(in_features=512, out_features=19331, bias=True)\n",
       "    )\n",
       "    (1): Sigmoid()\n",
       "  )\n",
       ")"
      ]
     },
     "execution_count": 2,
     "metadata": {},
     "output_type": "execute_result"
    }
   ],
   "source": [
    "import torch\n",
    "import lightning.pytorch as pl\n",
    "from self_supervision.models.lightning_modules.cellnet_autoencoder import MLPAutoEncoder\n",
    "from self_supervision.estimator.cellnet import EstimatorAutoEncoder\n",
    "\n",
    "# 设置你的 .ckpt 文件路径\n",
    "ckpt_path = \"../../sc_pretrained/Pretrained Models/GPMask.ckpt\"\n",
    "\n",
    "# 模型参数\n",
    "units_encoder = [512, 512, 256, 256, 64]\n",
    "units_decoder = [256, 256, 512, 512]\n",
    "\n",
    "# 初始化 EstimatorAutoEncoder 实例\n",
    "estim = EstimatorAutoEncoder(data_path=None)  # 如果没有实际数据路径，可以设置为None\n",
    "\n",
    "# 加载预训练模型\n",
    "estim.model = MLPAutoEncoder.load_from_checkpoint(\n",
    "    ckpt_path,\n",
    "    gene_dim=19331,  # 根据你的数据调整\n",
    "    batch_size=2048,  # 根据你的需要调整\n",
    "    units_encoder=units_encoder, \n",
    "    units_decoder=units_decoder,\n",
    "    masking_strategy=\"random\",  # 假设模型使用了随机掩码\n",
    "    masking_rate=0.5,  # 根据需要调整\n",
    ")\n",
    "\n",
    "# 使用 GPU 进行评估（如果可用）\n",
    "estim.trainer = pl.Trainer(accelerator=\"gpu\", devices=1 if torch.cuda.is_available() else None)\n",
    "estim.model"
   ]
  },
  {
   "cell_type": "code",
   "execution_count": 3,
   "metadata": {
    "execution": {
     "iopub.execute_input": "2024-11-03T15:20:29.539491Z",
     "iopub.status.busy": "2024-11-03T15:20:29.538935Z",
     "iopub.status.idle": "2024-11-03T15:20:29.565869Z",
     "shell.execute_reply": "2024-11-03T15:20:29.565355Z"
    }
   },
   "outputs": [
    {
     "data": {
      "text/html": [
       "<div>\n",
       "<style scoped>\n",
       "    .dataframe tbody tr th:only-of-type {\n",
       "        vertical-align: middle;\n",
       "    }\n",
       "\n",
       "    .dataframe tbody tr th {\n",
       "        vertical-align: top;\n",
       "    }\n",
       "\n",
       "    .dataframe thead th {\n",
       "        text-align: right;\n",
       "    }\n",
       "</style>\n",
       "<table border=\"1\" class=\"dataframe\">\n",
       "  <thead>\n",
       "    <tr style=\"text-align: right;\">\n",
       "      <th></th>\n",
       "      <th>feature_id</th>\n",
       "      <th>feature_name</th>\n",
       "    </tr>\n",
       "  </thead>\n",
       "  <tbody>\n",
       "    <tr>\n",
       "      <th>0</th>\n",
       "      <td>ENSG00000186092</td>\n",
       "      <td>OR4F5</td>\n",
       "    </tr>\n",
       "    <tr>\n",
       "      <th>1</th>\n",
       "      <td>ENSG00000284733</td>\n",
       "      <td>OR4F29</td>\n",
       "    </tr>\n",
       "    <tr>\n",
       "      <th>2</th>\n",
       "      <td>ENSG00000284662</td>\n",
       "      <td>OR4F16</td>\n",
       "    </tr>\n",
       "    <tr>\n",
       "      <th>3</th>\n",
       "      <td>ENSG00000187634</td>\n",
       "      <td>SAMD11</td>\n",
       "    </tr>\n",
       "    <tr>\n",
       "      <th>4</th>\n",
       "      <td>ENSG00000188976</td>\n",
       "      <td>NOC2L</td>\n",
       "    </tr>\n",
       "    <tr>\n",
       "      <th>...</th>\n",
       "      <td>...</td>\n",
       "      <td>...</td>\n",
       "    </tr>\n",
       "    <tr>\n",
       "      <th>19326</th>\n",
       "      <td>ENSG00000288702</td>\n",
       "      <td>UGT1A3</td>\n",
       "    </tr>\n",
       "    <tr>\n",
       "      <th>19327</th>\n",
       "      <td>ENSG00000288705</td>\n",
       "      <td>UGT1A5</td>\n",
       "    </tr>\n",
       "    <tr>\n",
       "      <th>19328</th>\n",
       "      <td>ENSG00000182484</td>\n",
       "      <td>WASH6P</td>\n",
       "    </tr>\n",
       "    <tr>\n",
       "      <th>19329</th>\n",
       "      <td>ENSG00000288622</td>\n",
       "      <td>PDCD6-AHRR</td>\n",
       "    </tr>\n",
       "    <tr>\n",
       "      <th>19330</th>\n",
       "      <td>ENSG00000285815</td>\n",
       "      <td>GET1-SH3BGR</td>\n",
       "    </tr>\n",
       "  </tbody>\n",
       "</table>\n",
       "<p>19331 rows × 2 columns</p>\n",
       "</div>"
      ],
      "text/plain": [
       "            feature_id feature_name\n",
       "0      ENSG00000186092        OR4F5\n",
       "1      ENSG00000284733       OR4F29\n",
       "2      ENSG00000284662       OR4F16\n",
       "3      ENSG00000187634       SAMD11\n",
       "4      ENSG00000188976        NOC2L\n",
       "...                ...          ...\n",
       "19326  ENSG00000288702       UGT1A3\n",
       "19327  ENSG00000288705       UGT1A5\n",
       "19328  ENSG00000182484       WASH6P\n",
       "19329  ENSG00000288622   PDCD6-AHRR\n",
       "19330  ENSG00000285815  GET1-SH3BGR\n",
       "\n",
       "[19331 rows x 2 columns]"
      ]
     },
     "execution_count": 3,
     "metadata": {},
     "output_type": "execute_result"
    }
   ],
   "source": [
    "import pandas as pd\n",
    "var_df = pd.read_parquet('../../sc_pretrained/var.parquet')\n",
    "var_df"
   ]
  },
  {
   "cell_type": "code",
   "execution_count": 4,
   "metadata": {
    "execution": {
     "iopub.execute_input": "2024-11-03T15:20:29.567608Z",
     "iopub.status.busy": "2024-11-03T15:20:29.567181Z",
     "iopub.status.idle": "2024-11-03T15:20:29.578290Z",
     "shell.execute_reply": "2024-11-03T15:20:29.577738Z"
    }
   },
   "outputs": [
    {
     "data": {
      "text/plain": [
       "['OR4F5',\n",
       " 'OR4F29',\n",
       " 'OR4F16',\n",
       " 'SAMD11',\n",
       " 'NOC2L',\n",
       " 'KLHL17',\n",
       " 'PLEKHN1',\n",
       " 'PERM1',\n",
       " 'HES4',\n",
       " 'ISG15',\n",
       " 'AGRN',\n",
       " 'RNF223',\n",
       " 'C1orf159',\n",
       " 'TTLL10',\n",
       " 'TNFRSF18',\n",
       " 'TNFRSF4',\n",
       " 'SDF4',\n",
       " 'B3GALT6',\n",
       " 'C1QTNF12',\n",
       " 'UBE2J2',\n",
       " 'SCNN1D',\n",
       " 'ACAP3',\n",
       " 'PUSL1',\n",
       " 'INTS11',\n",
       " 'CPTP',\n",
       " 'TAS1R3',\n",
       " 'DVL1',\n",
       " 'MXRA8',\n",
       " 'AURKAIP1',\n",
       " 'CCNL2',\n",
       " 'MRPL20',\n",
       " 'ANKRD65',\n",
       " 'TMEM88B',\n",
       " 'VWA1',\n",
       " 'ATAD3C',\n",
       " 'ATAD3B',\n",
       " 'ATAD3A',\n",
       " 'TMEM240',\n",
       " 'SSU72',\n",
       " 'FNDC10',\n",
       " 'MIB2',\n",
       " 'MMP23B',\n",
       " 'CDK11B',\n",
       " 'SLC35E2B',\n",
       " 'CDK11A',\n",
       " 'NADK',\n",
       " 'GNB1',\n",
       " 'CALML6',\n",
       " 'TMEM52',\n",
       " 'CFAP74',\n",
       " 'GABRD',\n",
       " 'PRKCZ',\n",
       " 'FAAP20',\n",
       " 'SKI',\n",
       " 'MORN1',\n",
       " 'RER1',\n",
       " 'PEX10',\n",
       " 'PLCH2',\n",
       " 'PANK4',\n",
       " 'HES5',\n",
       " 'TNFRSF14',\n",
       " 'PRXL2B',\n",
       " 'MMEL1',\n",
       " 'TTC34',\n",
       " 'ACTRT2',\n",
       " 'PRDM16',\n",
       " 'ARHGEF16',\n",
       " 'MEGF6',\n",
       " 'TPRG1L',\n",
       " 'WRAP73',\n",
       " 'TP73',\n",
       " 'CCDC27',\n",
       " 'SMIM1',\n",
       " 'LRRC47',\n",
       " 'CEP104',\n",
       " 'DFFB',\n",
       " 'C1orf174',\n",
       " 'AJAP1',\n",
       " 'NPHP4',\n",
       " 'KCNAB2',\n",
       " 'CHD5',\n",
       " 'RPL22',\n",
       " 'RNF207',\n",
       " 'ICMT',\n",
       " 'HES3',\n",
       " 'GPR153',\n",
       " 'ACOT7',\n",
       " 'HES2',\n",
       " 'ESPN',\n",
       " 'TNFRSF25',\n",
       " 'PLEKHG5',\n",
       " 'NOL9',\n",
       " 'TAS1R1',\n",
       " 'ZBTB48',\n",
       " 'KLHL21',\n",
       " 'PHF13',\n",
       " 'THAP3',\n",
       " 'DNAJC11',\n",
       " 'CAMTA1',\n",
       " 'VAMP3',\n",
       " 'PER3',\n",
       " 'UTS2',\n",
       " 'TNFRSF9',\n",
       " 'PARK7',\n",
       " 'ERRFI1',\n",
       " 'SLC45A1',\n",
       " 'RERE',\n",
       " 'ENO1',\n",
       " 'CA6',\n",
       " 'SLC2A7',\n",
       " 'SLC2A5',\n",
       " 'GPR157',\n",
       " 'H6PD',\n",
       " 'SPSB1',\n",
       " 'SLC25A33',\n",
       " 'TMEM201',\n",
       " 'PIK3CD',\n",
       " 'CLSTN1',\n",
       " 'CTNNBIP1',\n",
       " 'LZIC',\n",
       " 'NMNAT1',\n",
       " 'RBP7',\n",
       " 'UBE4B',\n",
       " 'KIF1B',\n",
       " 'PGD',\n",
       " 'CENPS',\n",
       " 'CORT',\n",
       " 'DFFA',\n",
       " 'PEX14',\n",
       " 'CASZ1',\n",
       " 'C1orf127',\n",
       " 'TARDBP',\n",
       " 'MASP2',\n",
       " 'SRM',\n",
       " 'EXOSC10',\n",
       " 'MTOR',\n",
       " 'ANGPTL7',\n",
       " 'UBIAD1',\n",
       " 'DISP3',\n",
       " 'FBXO2',\n",
       " 'FBXO44',\n",
       " 'FBXO6',\n",
       " 'MAD2L2',\n",
       " 'DRAXIN',\n",
       " 'AGTRAP',\n",
       " 'C1orf167',\n",
       " 'MTHFR',\n",
       " 'CLCN6',\n",
       " 'NPPA',\n",
       " 'NPPB',\n",
       " 'KIAA2013',\n",
       " 'PLOD1',\n",
       " 'MFN2',\n",
       " 'MIIP',\n",
       " 'TNFRSF8',\n",
       " 'TNFRSF1B',\n",
       " 'VPS13D',\n",
       " 'DHRS3',\n",
       " 'AADACL4',\n",
       " 'AADACL3',\n",
       " 'C1orf158',\n",
       " 'PRAMEF12',\n",
       " 'PRAMEF1',\n",
       " 'PRAMEF11',\n",
       " 'HNRNPCL1',\n",
       " 'PRAMEF2',\n",
       " 'PRAMEF4',\n",
       " 'PRAMEF10',\n",
       " 'PRAMEF7',\n",
       " 'PRAMEF6',\n",
       " 'PRAMEF27',\n",
       " 'HNRNPCL3',\n",
       " 'PRAMEF25',\n",
       " 'HNRNPCL2',\n",
       " 'PRAMEF26',\n",
       " 'HNRNPCL4',\n",
       " 'PRAMEF9',\n",
       " 'PRAMEF13',\n",
       " 'PRAMEF18',\n",
       " 'PRAMEF5',\n",
       " 'PRAMEF8',\n",
       " 'PRAMEF33',\n",
       " 'PRAMEF15',\n",
       " 'PRAMEF14',\n",
       " 'PRAMEF19',\n",
       " 'PRAMEF17',\n",
       " 'PRAMEF20',\n",
       " 'LRRC38',\n",
       " 'PDPN',\n",
       " 'PRDM2',\n",
       " 'KAZN',\n",
       " 'TMEM51',\n",
       " 'FHAD1',\n",
       " 'EFHD2',\n",
       " 'CTRC',\n",
       " 'CELA2A',\n",
       " 'CELA2B',\n",
       " 'CASP9',\n",
       " 'DNAJC16',\n",
       " 'AGMAT',\n",
       " 'DDI2',\n",
       " 'RSC1A1',\n",
       " 'PLEKHM2',\n",
       " 'SLC25A34',\n",
       " 'TMEM82',\n",
       " 'FBLIM1',\n",
       " 'UQCRHL',\n",
       " 'SPEN',\n",
       " 'ZBTB17',\n",
       " 'SRARP',\n",
       " 'HSPB7',\n",
       " 'CLCNKA',\n",
       " 'CLCNKB',\n",
       " 'FAM131C',\n",
       " 'EPHA2',\n",
       " 'ARHGEF19',\n",
       " 'CPLANE2',\n",
       " 'FBXO42',\n",
       " 'SZRD1',\n",
       " 'SPATA21',\n",
       " 'NECAP2',\n",
       " 'NBPF1',\n",
       " 'CROCC',\n",
       " 'MFAP2',\n",
       " 'ATP13A2',\n",
       " 'SDHB',\n",
       " 'PADI2',\n",
       " 'PADI1',\n",
       " 'PADI3',\n",
       " 'PADI4',\n",
       " 'PADI6',\n",
       " 'RCC2',\n",
       " 'ARHGEF10L',\n",
       " 'ACTL8',\n",
       " 'IGSF21',\n",
       " 'KLHDC7A',\n",
       " 'PAX7',\n",
       " 'TAS1R2',\n",
       " 'ALDH4A1',\n",
       " 'IFFO2',\n",
       " 'UBR4',\n",
       " 'EMC1',\n",
       " 'MRTO4',\n",
       " 'AKR7A3',\n",
       " 'AKR7A2',\n",
       " 'SLC66A1',\n",
       " 'CAPZB',\n",
       " 'MICOS10',\n",
       " 'NBL1',\n",
       " 'HTR6',\n",
       " 'TMCO4',\n",
       " 'RNF186',\n",
       " 'OTUD3',\n",
       " 'PLA2G2E',\n",
       " 'PLA2G2A',\n",
       " 'PLA2G5',\n",
       " 'PLA2G2D',\n",
       " 'PLA2G2F',\n",
       " 'PLA2G2C',\n",
       " 'UBXN10',\n",
       " 'VWA5B1',\n",
       " 'CAMK2N1',\n",
       " 'MUL1',\n",
       " 'FAM43B',\n",
       " 'CDA',\n",
       " 'PINK1',\n",
       " 'DDOST',\n",
       " 'KIF17',\n",
       " 'SH2D5',\n",
       " 'HP1BP3',\n",
       " 'EIF4G3',\n",
       " 'ECE1',\n",
       " 'NBPF3',\n",
       " 'ALPL',\n",
       " 'RAP1GAP',\n",
       " 'USP48',\n",
       " 'LDLRAD2',\n",
       " 'HSPG2',\n",
       " 'CELA3B',\n",
       " 'CELA3A',\n",
       " 'CDC42',\n",
       " 'WNT4',\n",
       " 'ZBTB40',\n",
       " 'EPHA8',\n",
       " 'C1QA',\n",
       " 'C1QC',\n",
       " 'C1QB',\n",
       " 'EPHB2',\n",
       " 'LACTBL1',\n",
       " 'TEX46',\n",
       " 'KDM1A',\n",
       " 'LUZP1',\n",
       " 'HTR1D',\n",
       " 'HNRNPR',\n",
       " 'ZNF436',\n",
       " 'TCEA3',\n",
       " 'ASAP3',\n",
       " 'E2F2',\n",
       " 'ID3',\n",
       " 'RPL11',\n",
       " 'ELOA',\n",
       " 'PITHD1',\n",
       " 'LYPLA2',\n",
       " 'GALE',\n",
       " 'HMGCL',\n",
       " 'FUCA1',\n",
       " 'CNR2',\n",
       " 'PNRC2',\n",
       " 'SRSF10',\n",
       " 'MYOM3',\n",
       " 'IL22RA1',\n",
       " 'IFNLR1',\n",
       " 'GRHL3',\n",
       " 'STPG1',\n",
       " 'NIPAL3',\n",
       " 'RCAN3',\n",
       " 'NCMAP',\n",
       " 'SRRM1',\n",
       " 'CLIC4',\n",
       " 'RUNX3',\n",
       " 'SYF2',\n",
       " 'RSRP1',\n",
       " 'RHD',\n",
       " 'TMEM50A',\n",
       " 'RHCE',\n",
       " 'MACO1',\n",
       " 'LDLRAP1',\n",
       " 'MAN1C1',\n",
       " 'SELENON',\n",
       " 'MTFR1L',\n",
       " 'AUNIP',\n",
       " 'PAQR7',\n",
       " 'STMN1',\n",
       " 'PAFAH2',\n",
       " 'EXTL1',\n",
       " 'SLC30A2',\n",
       " 'TRIM63',\n",
       " 'PDIK1L',\n",
       " 'FAM110D',\n",
       " 'C1orf232',\n",
       " 'ZNF593OS',\n",
       " 'ZNF593',\n",
       " 'CNKSR1',\n",
       " 'CATSPER4',\n",
       " 'CEP85',\n",
       " 'SH3BGRL3',\n",
       " 'UBXN11',\n",
       " 'CD52',\n",
       " 'CRYBG2',\n",
       " 'ZNF683',\n",
       " 'LIN28A',\n",
       " 'DHDDS',\n",
       " 'HMGN2',\n",
       " 'RPS6KA1',\n",
       " 'ARID1A',\n",
       " 'PIGV',\n",
       " 'ZDHHC18',\n",
       " 'SFN',\n",
       " 'GPN2',\n",
       " 'GPATCH3',\n",
       " 'NUDC',\n",
       " 'NR0B2',\n",
       " 'KDF1',\n",
       " 'TRNP1',\n",
       " 'TENT5B',\n",
       " 'SLC9A1',\n",
       " 'WDTC1',\n",
       " 'TMEM222',\n",
       " 'SYTL1',\n",
       " 'MAP3K6',\n",
       " 'FCN3',\n",
       " 'CD164L2',\n",
       " 'GPR3',\n",
       " 'WASF2',\n",
       " 'AHDC1',\n",
       " 'FGR',\n",
       " 'IFI6',\n",
       " 'FAM76A',\n",
       " 'STX12',\n",
       " 'PPP1R8',\n",
       " 'THEMIS2',\n",
       " 'RPA2',\n",
       " 'SMPDL3B',\n",
       " 'XKR8',\n",
       " 'EYA3',\n",
       " 'PTAFR',\n",
       " 'DNAJC8',\n",
       " 'ATP5IF1',\n",
       " 'SESN2',\n",
       " 'MED18',\n",
       " 'PHACTR4',\n",
       " 'RCC1',\n",
       " 'TRNAU1AP',\n",
       " 'TAF12',\n",
       " 'RAB42',\n",
       " 'GMEB1',\n",
       " 'YTHDF2',\n",
       " 'OPRD1',\n",
       " 'EPB41',\n",
       " 'TMEM200B',\n",
       " 'SRSF4',\n",
       " 'MECR',\n",
       " 'PTPRU',\n",
       " 'MATN1',\n",
       " 'LAPTM5',\n",
       " 'SDC3',\n",
       " 'PUM1',\n",
       " 'NKAIN1',\n",
       " 'SNRNP40',\n",
       " 'ZCCHC17',\n",
       " 'FABP3',\n",
       " 'SERINC2',\n",
       " 'TINAGL1',\n",
       " 'HCRTR1',\n",
       " 'PEF1',\n",
       " 'COL16A1',\n",
       " 'ADGRB2',\n",
       " 'SPOCD1',\n",
       " 'PTP4A2',\n",
       " 'KHDRBS1',\n",
       " 'TMEM39B',\n",
       " 'KPNA6',\n",
       " 'TXLNA',\n",
       " 'CCDC28B',\n",
       " 'IQCC',\n",
       " 'DCDC2B',\n",
       " 'TMEM234',\n",
       " 'EIF3I',\n",
       " 'FAM167B',\n",
       " 'LCK',\n",
       " 'HDAC1',\n",
       " 'MARCKSL1',\n",
       " 'TSSK3',\n",
       " 'FAM229A',\n",
       " 'BSDC1',\n",
       " 'ZBTB8B',\n",
       " 'ZBTB8A',\n",
       " 'ZBTB8OS',\n",
       " 'RBBP4',\n",
       " 'SYNC',\n",
       " 'KIAA1522',\n",
       " 'YARS1',\n",
       " 'S100PBP',\n",
       " 'FNDC5',\n",
       " 'HPCA',\n",
       " 'TMEM54',\n",
       " 'RNF19B',\n",
       " 'AK2',\n",
       " 'AZIN2',\n",
       " 'TRIM62',\n",
       " 'ZNF362',\n",
       " 'A3GALT2',\n",
       " 'PHC2',\n",
       " 'ZSCAN20',\n",
       " 'CSMD2',\n",
       " 'HMGB4',\n",
       " 'C1orf94',\n",
       " 'SMIM12',\n",
       " 'GJB5',\n",
       " 'GJB4',\n",
       " 'GJB3',\n",
       " 'GJA4',\n",
       " 'DLGAP3',\n",
       " 'TMEM35B',\n",
       " 'ZMYM6',\n",
       " 'ZMYM1',\n",
       " 'SFPQ',\n",
       " 'ZMYM4',\n",
       " 'KIAA0319L',\n",
       " 'NCDN',\n",
       " 'TFAP2E',\n",
       " 'PSMB2',\n",
       " 'C1orf216',\n",
       " 'CLSPN',\n",
       " 'AGO4',\n",
       " 'AGO1',\n",
       " 'AGO3',\n",
       " 'TEKT2',\n",
       " 'ADPRS',\n",
       " 'COL8A2',\n",
       " 'TRAPPC3',\n",
       " 'MAP7D1',\n",
       " 'THRAP3',\n",
       " 'SH3D21',\n",
       " 'EVA1B',\n",
       " 'STK40',\n",
       " 'LSM10',\n",
       " 'OSCP1',\n",
       " 'MRPS15',\n",
       " 'CSF3R',\n",
       " 'GRIK3',\n",
       " 'ZC3H12A',\n",
       " 'MEAF6',\n",
       " 'SNIP1',\n",
       " 'DNALI1',\n",
       " 'GNL2',\n",
       " 'RSPO1',\n",
       " 'C1orf109',\n",
       " 'CDCA8',\n",
       " 'EPHA10',\n",
       " 'MANEAL',\n",
       " 'YRDC',\n",
       " 'C1orf122',\n",
       " 'MTF1',\n",
       " 'INPP5B',\n",
       " 'SF3A3',\n",
       " 'FHL3',\n",
       " 'UTP11',\n",
       " 'POU3F1',\n",
       " 'RRAGC',\n",
       " 'MYCBP',\n",
       " 'GJA9',\n",
       " 'RHBDL2',\n",
       " 'AKIRIN1',\n",
       " 'NDUFS5',\n",
       " 'MACF1',\n",
       " 'BMP8A',\n",
       " 'PABPC4',\n",
       " 'HEYL',\n",
       " 'NT5C1A',\n",
       " 'HPCAL4',\n",
       " 'PPIE',\n",
       " 'BMP8B',\n",
       " 'OXCT2',\n",
       " 'TRIT1',\n",
       " 'MYCL',\n",
       " 'MFSD2A',\n",
       " 'CAP1',\n",
       " 'PPT1',\n",
       " 'RLF',\n",
       " 'TMCO2',\n",
       " 'ZMPSTE24',\n",
       " 'COL9A2',\n",
       " 'SMAP2',\n",
       " 'ZFP69B',\n",
       " 'ZFP69',\n",
       " 'EXO5',\n",
       " 'ZNF684',\n",
       " 'RIMS3',\n",
       " 'NFYC',\n",
       " 'KCNQ4',\n",
       " 'CITED4',\n",
       " 'CTPS1',\n",
       " 'SLFNL1',\n",
       " 'SCMH1',\n",
       " 'FOXO6',\n",
       " 'EDN2',\n",
       " 'HIVEP3',\n",
       " 'GUCA2B',\n",
       " 'GUCA2A',\n",
       " 'FOXJ3',\n",
       " 'RIMKLA',\n",
       " 'ZMYND12',\n",
       " 'PPCS',\n",
       " 'CCDC30',\n",
       " 'PPIH',\n",
       " 'YBX1',\n",
       " 'CLDN19',\n",
       " 'P3H1',\n",
       " 'C1orf50',\n",
       " 'TMEM269',\n",
       " 'SVBP',\n",
       " 'ERMAP',\n",
       " 'ZNF691',\n",
       " 'SLC2A1',\n",
       " 'FAM183A',\n",
       " 'EBNA1BP2',\n",
       " 'CFAP57',\n",
       " 'TMEM125',\n",
       " 'C1orf210',\n",
       " 'TIE1',\n",
       " 'MPL',\n",
       " 'CDC20',\n",
       " 'ELOVL1',\n",
       " 'MED8',\n",
       " 'SZT2',\n",
       " 'HYI',\n",
       " 'PTPRF',\n",
       " 'KDM4A',\n",
       " 'ST3GAL3',\n",
       " 'ARTN',\n",
       " 'IPO13',\n",
       " 'DPH2',\n",
       " 'ATP6V0B',\n",
       " 'B4GALT2',\n",
       " 'CCDC24',\n",
       " 'SLC6A9',\n",
       " 'KLF17',\n",
       " 'KLF18',\n",
       " 'DMAP1',\n",
       " 'ERI3',\n",
       " 'RNF220',\n",
       " 'TMEM53',\n",
       " 'ARMH1',\n",
       " 'KIF2C',\n",
       " 'RPS8',\n",
       " 'BEST4',\n",
       " 'PLK3',\n",
       " 'DYNLT4',\n",
       " 'BTBD19',\n",
       " 'PTCH2',\n",
       " 'EIF2B3',\n",
       " 'HECTD3',\n",
       " 'UROD',\n",
       " 'ZSWIM5',\n",
       " 'HPDL',\n",
       " 'MUTYH',\n",
       " 'TOE1',\n",
       " 'TESK2',\n",
       " 'CCDC163',\n",
       " 'MMACHC',\n",
       " 'PRDX1',\n",
       " 'AKR1A1',\n",
       " 'NASP',\n",
       " 'CCDC17',\n",
       " 'GPBP1L1',\n",
       " 'TMEM69',\n",
       " 'IPP',\n",
       " 'MAST2',\n",
       " 'PIK3R3',\n",
       " 'TSPAN1',\n",
       " 'P3R3URF',\n",
       " 'POMGNT1',\n",
       " 'LURAP1',\n",
       " 'RAD54L',\n",
       " 'LRRC41',\n",
       " 'UQCRH',\n",
       " 'NSUN4',\n",
       " 'FAAH',\n",
       " 'DMBX1',\n",
       " 'TMEM275',\n",
       " 'KNCN',\n",
       " 'MKNK1',\n",
       " 'MOB3C',\n",
       " 'ATPAF1',\n",
       " 'TEX38',\n",
       " 'EFCAB14',\n",
       " 'CYP4B1',\n",
       " 'CYP4A11',\n",
       " 'CYP4X1',\n",
       " 'CYP4Z1',\n",
       " 'CYP4A22',\n",
       " 'PDZK1IP1',\n",
       " 'TAL1',\n",
       " 'STIL',\n",
       " 'CMPK1',\n",
       " 'FOXE3',\n",
       " 'FOXD2',\n",
       " 'TRABD2B',\n",
       " 'SLC5A9',\n",
       " 'SPATA6',\n",
       " 'AGBL4',\n",
       " 'BEND5',\n",
       " 'ELAVL4',\n",
       " 'DMRTA2',\n",
       " 'FAF1',\n",
       " 'CDKN2C',\n",
       " 'C1orf185',\n",
       " 'RNF11',\n",
       " 'TTC39A',\n",
       " 'EPS15',\n",
       " 'OSBPL9',\n",
       " 'NRDC',\n",
       " 'RAB3B',\n",
       " 'TXNDC12',\n",
       " 'KTI12',\n",
       " 'BTF3L4',\n",
       " 'ZFYVE9',\n",
       " 'CC2D1B',\n",
       " 'ORC1',\n",
       " 'PRPF38A',\n",
       " 'TUT4',\n",
       " 'GPX7',\n",
       " 'SHISAL2A',\n",
       " 'COA7',\n",
       " 'ZYG11B',\n",
       " 'ZYG11A',\n",
       " 'ECHDC2',\n",
       " 'SCP2',\n",
       " 'PODN',\n",
       " 'SLC1A7',\n",
       " 'CPT2',\n",
       " 'CZIB',\n",
       " 'MAGOH',\n",
       " 'LRP8',\n",
       " 'DMRTB1',\n",
       " 'GLIS1',\n",
       " 'NDC1',\n",
       " 'YIPF1',\n",
       " 'DIO1',\n",
       " 'HSPB11',\n",
       " 'LRRC42',\n",
       " 'LDLRAD1',\n",
       " 'TMEM59',\n",
       " 'TCEANC2',\n",
       " 'CDCP2',\n",
       " 'CYB5RL',\n",
       " 'MRPL37',\n",
       " 'SSBP3',\n",
       " 'ACOT11',\n",
       " 'FAM151A',\n",
       " 'MROH7',\n",
       " 'TTC4',\n",
       " 'PARS2',\n",
       " 'TTC22',\n",
       " 'LEXM',\n",
       " 'DHCR24',\n",
       " 'TMEM61',\n",
       " 'BSND',\n",
       " 'PCSK9',\n",
       " 'USP24',\n",
       " 'PLPP3',\n",
       " 'PRKAA2',\n",
       " 'FYB2',\n",
       " 'C8A',\n",
       " 'C8B',\n",
       " 'DAB1',\n",
       " 'OMA1',\n",
       " 'TACSTD2',\n",
       " 'MYSM1',\n",
       " 'JUN',\n",
       " 'FGGY',\n",
       " 'HOOK1',\n",
       " 'CYP2J2',\n",
       " 'C1orf87',\n",
       " 'NFIA',\n",
       " 'TM2D1',\n",
       " 'PATJ',\n",
       " 'L1TD1',\n",
       " 'KANK4',\n",
       " 'USP1',\n",
       " 'DOCK7',\n",
       " 'ANGPTL3',\n",
       " 'ATG4C',\n",
       " 'FOXD3',\n",
       " 'ALG6',\n",
       " 'ITGB3BP',\n",
       " 'EFCAB7',\n",
       " 'PGM1',\n",
       " 'ROR1',\n",
       " 'UBE2U',\n",
       " 'CACHD1',\n",
       " 'RAVER2',\n",
       " 'JAK1',\n",
       " 'AK4',\n",
       " 'DNAJC6',\n",
       " 'LEPROT',\n",
       " 'LEPR',\n",
       " 'PDE4B',\n",
       " 'SGIP1',\n",
       " 'DYNLT5',\n",
       " 'INSL5',\n",
       " 'DNAI4',\n",
       " 'MIER1',\n",
       " 'SLC35D1',\n",
       " 'C1orf141',\n",
       " 'IL23R',\n",
       " 'IL12RB2',\n",
       " 'SERBP1',\n",
       " 'GADD45A',\n",
       " 'GNG12',\n",
       " 'DIRAS3',\n",
       " 'WLS',\n",
       " 'RPE65',\n",
       " 'DEPDC1',\n",
       " 'LRRC7',\n",
       " 'LRRC40',\n",
       " 'SRSF11',\n",
       " 'ANKRD13C',\n",
       " 'CTH',\n",
       " 'PTGER3',\n",
       " 'ZRANB2',\n",
       " 'NEGR1',\n",
       " 'LRRIQ3',\n",
       " 'FPGT',\n",
       " 'TNNI3K',\n",
       " 'LRRC53',\n",
       " 'ERICH3',\n",
       " 'CRYZ',\n",
       " 'TYW3',\n",
       " 'LHX8',\n",
       " 'SLC44A5',\n",
       " 'ACADM',\n",
       " 'RABGGTB',\n",
       " 'MSH4',\n",
       " 'ASB17',\n",
       " 'ST6GALNAC3',\n",
       " 'ST6GALNAC5',\n",
       " 'PIGK',\n",
       " 'AK5',\n",
       " 'ZZZ3',\n",
       " 'USP33',\n",
       " 'MIGA1',\n",
       " 'NEXN',\n",
       " 'FUBP1',\n",
       " 'DNAJB4',\n",
       " 'GIPC2',\n",
       " 'PTGFR',\n",
       " 'IFI44L',\n",
       " 'IFI44',\n",
       " 'ADGRL4',\n",
       " 'ADGRL2',\n",
       " 'TTLL7',\n",
       " 'PRKACB',\n",
       " 'SAMD13',\n",
       " 'DNASE2B',\n",
       " 'RPF1',\n",
       " 'GNG5',\n",
       " 'SPATA1',\n",
       " 'CTBS',\n",
       " 'SSX2IP',\n",
       " 'LPAR3',\n",
       " 'MCOLN2',\n",
       " 'DNAI3',\n",
       " 'MCOLN3',\n",
       " 'SYDE2',\n",
       " 'C1orf52',\n",
       " 'BCL10',\n",
       " 'DDAH1',\n",
       " 'CCN1',\n",
       " 'ZNHIT6',\n",
       " 'COL24A1',\n",
       " 'ODF2L',\n",
       " 'CLCA2',\n",
       " 'CLCA1',\n",
       " 'CLCA4',\n",
       " 'SH3GLB1',\n",
       " 'SELENOF',\n",
       " 'HS2ST1',\n",
       " 'LMO4',\n",
       " 'PKN2',\n",
       " 'GTF2B',\n",
       " 'KYAT3',\n",
       " 'RBMXL1',\n",
       " 'GBP3',\n",
       " 'GBP1',\n",
       " 'GBP2',\n",
       " 'GBP7',\n",
       " 'GBP4',\n",
       " 'GBP5',\n",
       " 'GBP6',\n",
       " 'LRRC8B',\n",
       " 'LRRC8C',\n",
       " 'LRRC8D',\n",
       " 'ZNF326',\n",
       " 'BARHL2',\n",
       " 'ZNF644',\n",
       " 'HFM1',\n",
       " 'CDC7',\n",
       " 'TGFBR3',\n",
       " 'BRDT',\n",
       " 'EPHX4',\n",
       " 'SETSIP',\n",
       " 'BTBD8',\n",
       " 'C1orf146',\n",
       " 'GLMN',\n",
       " 'RPAP2',\n",
       " 'GFI1',\n",
       " 'EVI5',\n",
       " 'RPL5',\n",
       " 'DIPK1A',\n",
       " 'MTF2',\n",
       " 'TMED5',\n",
       " 'CCDC18',\n",
       " 'DR1',\n",
       " 'FNBP1L',\n",
       " 'BCAR3',\n",
       " 'DNTTIP2',\n",
       " 'GCLM',\n",
       " 'ABCA4',\n",
       " 'ARHGAP29',\n",
       " 'ABCD3',\n",
       " 'F3',\n",
       " 'SLC44A3',\n",
       " 'CNN3',\n",
       " 'ALG14',\n",
       " 'TLCD4',\n",
       " 'RWDD3',\n",
       " 'PTBP2',\n",
       " 'DPYD',\n",
       " 'SNX7',\n",
       " 'PLPPR5',\n",
       " 'PLPPR4',\n",
       " 'PALMD',\n",
       " 'FRRS1',\n",
       " 'AGL',\n",
       " 'SLC35A3',\n",
       " 'MFSD14A',\n",
       " 'SASS6',\n",
       " 'TRMT13',\n",
       " 'LRRC39',\n",
       " 'DBT',\n",
       " 'RTCA',\n",
       " 'CDC14A',\n",
       " 'GPR88',\n",
       " 'VCAM1',\n",
       " 'EXTL2',\n",
       " 'SLC30A7',\n",
       " 'DPH5',\n",
       " 'S1PR1',\n",
       " 'OLFM3',\n",
       " 'COL11A1',\n",
       " 'RNPC3',\n",
       " 'AMY2B',\n",
       " 'AMY2A',\n",
       " 'AMY1A',\n",
       " 'AMY1B',\n",
       " 'AMY1C',\n",
       " 'PRMT6',\n",
       " 'NTNG1',\n",
       " 'VAV3',\n",
       " 'SLC25A24',\n",
       " 'NBPF4',\n",
       " 'NBPF6',\n",
       " 'FAM102B',\n",
       " 'HENMT1',\n",
       " 'PRPF38B',\n",
       " 'FNDC7',\n",
       " 'STXBP3',\n",
       " 'AKNAD1',\n",
       " 'GPSM2',\n",
       " 'CLCC1',\n",
       " 'WDR47',\n",
       " 'TAF13',\n",
       " 'TMEM167B',\n",
       " 'C1orf194',\n",
       " 'ELAPOR1',\n",
       " 'SARS1',\n",
       " 'CELSR2',\n",
       " 'PSRC1',\n",
       " 'MYBPHL',\n",
       " 'SORT1',\n",
       " 'PSMA5',\n",
       " 'SYPL2',\n",
       " 'ATXN7L2',\n",
       " 'CYB561D1',\n",
       " 'AMIGO1',\n",
       " 'GPR61',\n",
       " 'GNAI3',\n",
       " 'GNAT2',\n",
       " 'AMPD2',\n",
       " 'GSTM4',\n",
       " 'GSTM2',\n",
       " 'GSTM1',\n",
       " 'GSTM5',\n",
       " 'GSTM3',\n",
       " 'EPS8L3',\n",
       " 'CSF1',\n",
       " 'AHCYL1',\n",
       " 'STRIP1',\n",
       " 'ALX3',\n",
       " 'UBL4B',\n",
       " 'SLC6A17',\n",
       " 'KCNC4',\n",
       " 'RBM15',\n",
       " 'SLC16A4',\n",
       " 'LAMTOR5',\n",
       " 'PROK1',\n",
       " 'KCNA10',\n",
       " 'KCNA2',\n",
       " 'KCNA3',\n",
       " 'CD53',\n",
       " 'LRIF1',\n",
       " 'DRAM2',\n",
       " 'CEPT1',\n",
       " 'DENND2D',\n",
       " 'CHI3L2',\n",
       " 'CHIA',\n",
       " 'PIFO',\n",
       " 'OVGP1',\n",
       " 'WDR77',\n",
       " 'ATP5PB',\n",
       " 'C1orf162',\n",
       " 'TMIGD3',\n",
       " 'ADORA3',\n",
       " 'RAP1A',\n",
       " 'INKA2',\n",
       " 'DDX20',\n",
       " 'KCND3',\n",
       " 'CTTNBP2NL',\n",
       " 'WNT2B',\n",
       " 'ST7L',\n",
       " 'CAPZA1',\n",
       " 'MOV10',\n",
       " 'RHOC',\n",
       " 'PPM1J',\n",
       " 'TAFA3',\n",
       " 'SLC16A1',\n",
       " 'LRIG2',\n",
       " 'MAGI3',\n",
       " 'PHTF1',\n",
       " 'RSBN1',\n",
       " 'PTPN22',\n",
       " 'BCL2L15',\n",
       " 'AP4B1',\n",
       " 'DCLRE1B',\n",
       " 'HIPK1',\n",
       " 'OLFML3',\n",
       " 'SYT6',\n",
       " 'TRIM33',\n",
       " ...]"
      ]
     },
     "execution_count": 4,
     "metadata": {},
     "output_type": "execute_result"
    }
   ],
   "source": [
    "all_genes = var_df['feature_name'].tolist()\n",
    "all_genes"
   ]
  },
  {
   "cell_type": "code",
   "execution_count": 5,
   "metadata": {
    "execution": {
     "iopub.execute_input": "2024-11-03T15:20:29.580014Z",
     "iopub.status.busy": "2024-11-03T15:20:29.579639Z",
     "iopub.status.idle": "2024-11-03T15:20:29.586179Z",
     "shell.execute_reply": "2024-11-03T15:20:29.585583Z"
    }
   },
   "outputs": [
    {
     "data": {
      "text/plain": [
       "samd11      samd11\n",
       "noc2l        noc2l\n",
       "klhl17      klhl17\n",
       "plekhn1    plekhn1\n",
       "perm1        perm1\n",
       "            ...   \n",
       "mt-nd4l    mt-nd4l\n",
       "mt-nd4      mt-nd4\n",
       "mt-nd5      mt-nd5\n",
       "mt-nd6      mt-nd6\n",
       "mt-cyb      mt-cyb\n",
       "Name: gene_name, Length: 17693, dtype: object"
      ]
     },
     "execution_count": 5,
     "metadata": {},
     "output_type": "execute_result"
    }
   ],
   "source": [
    "adata.var['gene_name']=adata.var.index\n",
    "adata.var['gene_name']"
   ]
  },
  {
   "cell_type": "code",
   "execution_count": 6,
   "metadata": {
    "execution": {
     "iopub.execute_input": "2024-11-03T15:20:29.588103Z",
     "iopub.status.busy": "2024-11-03T15:20:29.587674Z",
     "iopub.status.idle": "2024-11-03T15:20:29.590647Z",
     "shell.execute_reply": "2024-11-03T15:20:29.590192Z"
    }
   },
   "outputs": [],
   "source": [
    "import numpy as np\n",
    "# 初始化一个新的数据矩阵，形状为 (adata.X.shape[0], len(all_genes))，填充为零\n",
    "new_data = np.zeros((adata.X.shape[0], len(all_genes)), dtype=np.float32)\n"
   ]
  },
  {
   "cell_type": "code",
   "execution_count": 7,
   "metadata": {
    "execution": {
     "iopub.execute_input": "2024-11-03T15:20:29.592124Z",
     "iopub.status.busy": "2024-11-03T15:20:29.591844Z",
     "iopub.status.idle": "2024-11-03T15:20:29.596234Z",
     "shell.execute_reply": "2024-11-03T15:20:29.595796Z"
    }
   },
   "outputs": [
    {
     "data": {
      "text/plain": [
       "samd11      samd11\n",
       "noc2l        noc2l\n",
       "klhl17      klhl17\n",
       "plekhn1    plekhn1\n",
       "perm1        perm1\n",
       "            ...   \n",
       "mt-nd4l    mt-nd4l\n",
       "mt-nd4      mt-nd4\n",
       "mt-nd5      mt-nd5\n",
       "mt-nd6      mt-nd6\n",
       "mt-cyb      mt-cyb\n",
       "Name: gene_name, Length: 17693, dtype: object"
      ]
     },
     "execution_count": 7,
     "metadata": {},
     "output_type": "execute_result"
    }
   ],
   "source": [
    "existing_genes = adata.var['gene_name']\n",
    "existing_genes"
   ]
  },
  {
   "cell_type": "code",
   "execution_count": 8,
   "metadata": {
    "execution": {
     "iopub.execute_input": "2024-11-03T15:20:29.597669Z",
     "iopub.status.busy": "2024-11-03T15:20:29.597507Z",
     "iopub.status.idle": "2024-11-03T15:20:29.616002Z",
     "shell.execute_reply": "2024-11-03T15:20:29.615434Z"
    }
   },
   "outputs": [
    {
     "name": "stdout",
     "output_type": "stream",
     "text": [
      "匹配的基因数量: 17392\n",
      "匹配的基因列表: {'cngb3', 'adgrd1', 'esco2', 'ubxn2b', 'abcf3', 'or4e1', 'kansl3', 'aadat', 'hjv', 'upk3b', 'mat2a', 'bicd2', 'cers3', 'pign', 'tes', 'vwa5b1', 'cttn', 'ppp2r3c', 'pcyt2', 'fgf21', 'tmem272', 'map7d1', 'or56b1', 'purb', 'tmcc1', 'lrfn1', 'runx1t1', 'tunar', 'hao1', 'ush1g', 'usp45', 'igf2bp1', 'mtx2', 'il36rn', 'snn', 'gdap2', 'arpc3', 'pi4ka', 'ikzf2', 'naa16', 'or51a7', 'kmt2d', 'pdilt', 'myh3', 'iffo1', 'muc4', 'ksr1', 'rhex', 'cdca7', 'arid2', 'mrap', 'alx1', 'pid1', 'spopl', 'nelfe', 'siglec8', 'qprt', 'sem1', 'ptch1', 'tnfrsf12a', 'kti12', 'pdx1', 'tmem54', 'ppp1r3g', 'itln2', 'pram1', 'ppig', 'znf792', 'tmem219', 'opn3', 'enoph1', 'upk1b', 'trappc3', 'ncor1', 'ggnbp2', 'znrd2', 'or5au1', 'cstf1', 'wbp1l', 'baz1b', 'ncr1', 'plekhg1', 'fscb', 'ctsh', 'dpcd', 'cdc42bpb', 'plcd3', 'aqr', 'mamstr', 'krt2', 'atp1a4', 'gtf2i', 'gpr156', 'evpl', 'vat1', 'bod1', 'adar', 'map4', 'id1', 'itgb7', 'lcn1', 'slc25a48', 'mpc1', 'cfap52', 'wrap73', 'art5', 'sema4a', 'znf213', 'cbx6', 'psma5', 'dus2', 'got1', 'twsg1', 'amer2', 'cog8', 'magi3', 'chmp4a', 'gldn', 'taok1', 'ceacam8', 'atp5f1d', 'fam222a', 'rnase2', 'slc17a1', 'slc29a4', 'fech', 'sox7', 'cd24', 'pom121c', 'itgb4', 'lipj', 'parp3', 'arl15', 'ulbp1', 's100pbp', 'csnk2a1', 'kcnn3', 'coprs', 'hsf4', 'mapkap1', 'arhgef35', 'or10k1', 'lsm4', 'ebf1', 'dolk', 'tas2r4', 'lrrc42', 'ddx39b', 'bhlhe22', 'shld2', 'camk2n1', 'wbp2', 'gpr87', 'nol3', 'c7orf31', 'gcdh', 'elane', 'tubg1', 'parpbp', 'fam184a', 'ralgps1', 'cds2', 'tgds', 'tesk1', 'npipb15', 'man2b2', 'krt7', 'cst2', 'tmprss7', 'nhsl1', 'plekha3', 'pcsk5', 'sfmbt2', 'tmem200a', 'nt5m', 'tmem97', 'igfl1', 'dctn5', 'eif4g1', 'kynu', 'atp9b', 'or10h3', 'or4c13', 'p2ry11', 'ecsit', 'mcm4', 'pomc', 'neurod2', 'atp13a4', 'sac3d1', 'plekhs1', 'sft2d3', 'wdr89', 'fam133b', 'cyp4f3', 'srsf12', 'p3h2', 'slc7a9', 'yipf4', 'stc1', 'ccnq', 'cxcr3', 'ankrd45', 'mmp27', 'dennd4c', 'snrpn', 'ube2e3', 'msi2', 'nr3c2', 'hectd4', 'dynll2', 'tagln2', 'grm6', 'c8b', 'nucks1', 'hspb11', 'camk2b', 'prps1l1', 'cmya5', 'fhl1', 'shcbp1l', 'ube2e2', 'cd300c', 'exoc1l', 'rbx1', 'asxl1', 'cnrip1', 'mogat2', 'chadl', 'myocd', 'krtap11-1', 'znf718', 'znf730', 'esrra', 'clec9a', 'krtap4-11', 'ntsr1', 'psg7', 'tnfrsf6b', 'scly', 'adam33', 'gata1', 'ptf1a', 'mre11', 's1pr2', 'tmem52', 'znf662', 'ssc4d', 'cfap100', 'znf19', 'chrnb1', 'hsd17b12', 'vps52', 'galnt14', 'oosp4b', 'rassf6', 'znf148', 'pnliprp1', 'm6pr', 'ttll5', 'mymk', 'fam162b', 'sdr9c7', 'frmpd1', 'secisbp2', 'grpr', 'sgip1', 'znf225', 'kiaa1328', 'man2a2', 'gpbar1', 'ubqln4', 'mocs3', 'cxcl10', 'rab29', 'nipsnap3a', 'klhl26', 'ewsr1', 'efcab6', 'grid2', 'trim65', 'klhl31', 'pum1', 'ccl11', 'or3a3', 'jaml', 'fam186b', 'pigf', 'mmd2', 'mak16', 'gmps', 'ssbp3', 'zkscan1', 'ntrk3', 'adcy7', 'phf20', 'samd14', 'trmt10a', 'krt34', 'pnisr', 'ccm2', 'tmem140', 'eif2b2', 'slc13a4', 'muc5b', 'immp1l', 'ahsa1', 'otop3', 'traf6', 'vhll', 'sde2', 'kiaa1958', 'dntt', 'c12orf54', 'smim21', 'psg3', 'mycn', 'srfbp1', 'pla1a', 'idi1', 'ero1a', 'mrgprg', 'plcl1', 'calml3', 'gfpt2', 'il21', 'dct', 'f9', 'chst3', 'sord', 'mcm5', 'col3a1', 'isoc2', 'fam217a', 'fam50b', 'cdc5l', 'cdnf', 'creb3l4', 'serpinf1', 'dppa2', 'clecl1', 'gabpb2', 'bmper', 'nudt15', 'atp5pd', 'rab40a', 'vangl1', 's1pr1', 'grb14', 'polr1c', 'mapk8ip2', 'vnn2', 'anks4b', 'ivns1abp', 'fgf20', 'yipf5', 'atp5f1c', 'prb4', 'znf589', 'ccdc197', 'map1s', 'otos', 'dusp1', 'gjd2', 'kcnk4', 'npap1', 'lair2', 'znf248', 'hus1', 'cd82', 'nfkbid', 'phkb', 'smim41', 'cldn15', 'nbeal2', 'ubp1', 'padi3', 'galnt2', 'fbxo3', 'or5b21', 'fam131a', 'znf322', 'ndn', 'cyp3a43', 'tuba1c', 'fanca', 'arl5c', 'dhrs12', 'tbc1d25', 'cabp1', 'trim41', 'pxk', 'pus10', 'ddx51', 'lig3', 'slc46a3', 'mvb12b', 'rab9a', 'sp1', 'inpp1', 'eif2s1', 'optc', 'fbxl5', 'vps53', 'nap1l2', 'fastkd2', 'mtus2', 'npc2', 'inha', 'maip1', 'stimate', 'tmem190', 'arhgef33', 'rac1', 'xkr9', 'ahsg', 'hsd3b1', 'apbb3', 'snrpd2', 'slc9a8', 'trim3', 'ripor2', 'glyctk', 'ltc4s', 'fdcsp', 'adm5', 'haghl', 'hpx', 'trim47', 'btbd6', 'pcdhga3', 'nup88', 'pms1', 'ankub1', 'hs3st1', 'c8orf48', 'lrrc59', 'znf260', 'ltb4r', 'ppp1cb', 'coa8', 'borcs7', 'tmod3', 'igdcc4', 'fbxo39', 'or10h2', 'fndc7', 'myl1', 'ano4', 'gpr83', 'arl13b', 'lrp2bp', 'spata2', 'frem3', 'rcvrn', 'slc35g2', 'add1', 'amph', 'serpina3', 'entr1', 'ubox5', 'ppat', 'rab25', 'phf19', 'rab11fip5', 'swi5', 'aqp10', 'lpin2', 'mepce', 'znf333', 'defb134', 'itprid2', 'cd276', 'sccpdh', 'tnfsf15', 'trappc1', 'slc25a47', 'tuba3d', 'mxd4', 'cdyl', 'trmo', 'ccin', 'aloxe3', 'timd4', 'c4orf36', 'rcan3', 'nme7', 'atp7b', 'ube2e1', 'tprg1', 'lamb1', 'vps37a', 'rnf2', 'ak8', 'stk38l', 'eif4a2', 'nrm', 'nipsnap1', 'fmo4', 'slamf7', 'taf5', 'tmtc4', 'unc13b', 'tbp', 'rchy1', 'mapkbp1', 'spata46', 'eif2b5', 'sfxn1', 'stag3', 'ripor1', 'insl3', 'irf6', 'knop1', 'ca10', 'hlf', 'ets1', 'sgk1', 'tle3', 'tmem179b', 'gab4', 'mgam2', 'slc30a8', 'arrdc3', 'trim13', 'spg21', 'bag5', 'kat7', 'slc30a5', 'gmfg', 'gjb6', 'klk6', 'cnih4', 'ddb2', 'or52j3', 'sptb', 'atp5f1b', 'pcdhga10', 'rgs21', 'gxylt1', 'cartpt', 'nop2', 'c1orf52', 'bex3', 'ildr2', 'atp8b2', 'mlh3', 'arid5b', 'arhgef1', 'c7orf57', 'dpysl4', 'gna14', 'trarg1', 'tgoln2', 'map3k6', 'prdm10', 'polr2c', 'en1', 'camk1', 'foxj3', 'exog', 'serinc5', 'mycl', 'timmdc1', 'rrnad1', 'phf24', 'snx21', 'mt3', 'cfdp1', 'znf329', 'nmi', 'poglut1', 'mov10l1', 'crb1', 'medag', 'ndufaf1', 'efna5', 'rabgap1', 'rad9a', 'tcn2', 'hecw2', 'ace', 'szt2', 'fam124b', 'chuk', 'r3hdm2', 'krtap22-2', 'arpc1b', 'enkd1', 'znf816', 'fmr1nb', 'ube2l6', 'prmt5', 'mylk4', 'cntnap4', 'fam180b', 'ltv1', 'sucnr1', 'serac1', 'plcb3', 'apbb1ip', 'amotl1', 'mlh1', 'senp8', 'nfe2l1', 'get1', 'usp53', 'zkscan3', 'kiaa0513', 'epha8', 'prss55', 'nrgn', 'sla', 'ces3', 'dnajc12', 'nt5e', 'fibp', 'gnai1', 'cog7', 'disc1', 'sohlh2', 'nsmce4a', 'tor1aip1', 'malt1', 'ptchd4', 'scaf1', 'vwa3a', 'acot8', 'naa15', 'sfmbt1', 'skiv2l', 'rad52', 'foxn3', 'map3k3', 'prxl2c', 'hexim2', 'stat4', 'smim4', 'c1qtnf2', 'b4galt7', 'cd151', 'kcnk16', 'vps18', 'ptgis', 'pde1c', 'nsf', 'crybg2', 'plekha8', 'ccdc107', 'cnih1', 'edf1', 'ago3', 'nsun4', 'lrmda', 'clspn', 'znf510', 'or7c1', 'kidins220', 'znf843', 'ccm2l', 'ap3b2', 'prss33', 'mia2', 'mucl3', 'gucy1a2', 'lacrt', 'scamp3', 'fam50a', 'wdr25', 'kif3a', 'coq8a', 'krtap24-1', 'apoa5', 'spc25', 'dcun1d4', 'rb1cc1', 'tgif2', 'apcs', 'krtdap', 'tubg2', 'kcne5', 'phf6', 'krt80', 'slc34a3', 'fmr1', 'spns3', 'npl', 'dnase2b', 'mbp', 'ntng1', 'ap1g1', 'elmod2', 'paics', 'nr2f2', 'smg6', 'cog4', 'wnt9b', 'rnf10', 'med20', 'pla2g12a', 'ubr5', 'tob2', 'clk3', 'cnot8', 'ap3d1', 'or1n2', 'nlrp9', 'poldip3', 'adh6', 'stx1b', 'coa6', 'slc7a6', 'tmem63a', 'myoz3', 'boc', 'enpp6', 'bet1', 'nsd3', 'actr6', 'unc119', 'nt5c1a', 'g6pc3', 'rnf157', 'c9orf64', 'ctbp2', 'kif5a', 'sall4', 'ticrr', 'aifm3', 'exd1', 'emid1', 'znf211', 'il11ra', 'rgs11', 'tctn1', 'brf1', 'glrx3', 'jkamp', 'rhd', 'prrc2c', 'ralgapa1', 'wdr35', 'vps13a', 'abcb7', 'aph1b', 'khsrp', 'mt-nd2', 'lnx2', 'zscan23', 'mmel1', 'or52h1', 'pld2', 'smim6', 'rtp3', 'csnk1a1', 'fndc4', 'slc25a28', 'e2f8', 'scg5', 'ramacl', 'zdhhc24', 'clasp1', 'lox', 'nfib', 'pgm2l1', 'krtap13-3', 'cenpo', 'serpina4', 'sp6', 'rassf1', 'mpc2', 'kctd2', 'il2rg', 'atg4a', 'ca3', 'page2', 'myocos', 'rab23', 'atf7ip', 'il21r', 'eloa2', 'cnr1', 'tmc8', 'eif4a1', 'tcf7l2', 'dgcr8', 'tex33', 'tysnd1', 'pga5', 'pianp', 'znf669', 'c10orf105', 'smim22', 'zfr2', 'cyp2u1', 'cdc123', 'pax6', 'or5m10', 'crybb3', 'ddn', 'c19orf71', 'vwc2l', 'ncln', 'tgfb2', 'git2', 'mt1a', 'esrrb', 'dhx36', 'adamts3', 'dennd11', 'tub', 'synpo2l', 'kcp', 'slc35f6', 'orc4', 'olfm4', 'lbx2', 'txndc2', 'trmu', 'alx4', 'rundc3b', 'cttnbp2nl', 'ccdc78', 'elac1', 'pim2', 'letmd1', 'cped1', 'washc5', 'sod2', 'arl13a', 'fbp1', 'cdk1', 'vipas39', 'tnfsf9', 'pibf1', 'htr1d', 'pafah1b2', 'nsg1', 'zacn', 'dnai2', 'ajap1', 'tpm2', 'epn3', 'icam5', 'eppk1', 'homer2', 'fis1', 'rims4', 'cnksr1', 'znf2', 'jade2', 'smim1', 'p3r3urf', 'ackr2', 'mras', 'zbtb10', 'cfap54', 'rab11b', 'rbm8a', 'mb21d2', 'dpysl3', 'tgfbr1', 'psme1', 'zbtb7b', 'paaf1', 'rgl4', 'foxl2', 'ubl7', 'serpinb7', 'enox2', 'fbxw11', 'ush2a', 'rab6b', 'dync1li1', 'tcp11', 'slc41a2', 'mllt1', 'pou5f1b', 'vasp', 'cacna1e', 'prdm16', 'shoc1', 'ifit3', 'egr4', 'sec14l3', 'arfip1', 'zc3h13', 'fam89a', 'znf619', 'fam219a', 'lonp2', 'or5ar1', 'kcnj16', 'fam234b', 'znf614', 'or10h1', 'fam71e1', 'scnn1a', 'praf2', 'tfrc', 'tnks2', 'ppie', 'nup107', 'ap3b1', 'il5ra', 'psmc3', 'c12orf66', 'mpped1', 'dhrs1', 'thap3', 'pcdhb15', 'rock2', 'cyp27a1', 'ttc4', 'fer1l5', 'gal3st4', 'trip11', 'hebp1', 'znf461', 'htra3', 'bcl7c', 'cyp2b6', 'cep78', 'efnb2', 'c16orf72', 'canx', 'dtna', 'vps26a', 'trim16', 'hyls1', 'wfdc1', 'psmc3ip', 'macf1', 'rassf5', 'or2l5', 'fam161a', 'flad1', 'nlrp2', 'kiaa2012', 'fam174a', 'nsun2', 'usp54', 'mgat2', 'ccdc106', 'tas1r2', 'mapre3', 'lce2d', 'tbck', 'dnajb4', 'katna1', 'adgre2', 'fam149a', 'acss1', 'ercc2', 'ptpn22', 'tmem106c', 'rpe', 'pomt1', 'prmt1', 'timm17b', 'hapln1', 'camsap2', 'trim58', 'casp8ap2', 'nacc2', 'serp2', 'tonsl', 'rbks', 'c16orf95', 'cbll1', 'dpp6', 'eif3m', 'slc1a5', 'gprasp1', 'zfp36', 'ift81', 'pacs1', 'c11orf52', 'lix1', 'zfp62', 'rhog', 'or10a4', 'galntl5', 'slc25a34', 'or52e5', 'tlcd2', 'znf580', 'nat8', 'ooep', 'nkain3', 'rgcc', 'fscn1', 'surf1', 'dynlrb2', 'ssbp2', 'or14k1', 'lrrc19', 'lhfpl6', 'pum2', 'gemin8', 'mrln', 'col5a2', 'rtp1', 'trim35', 'zmiz1', 'gba2', 'lacc1', 'sycn', 'cbarp', 'dlx2', 'arl6ip1', 'tmem45a', 'tma16', 'timm22', 'mst1', 'il12b', 'uba52', 'slc9a7', 'c16orf91', 'pgk2', 'ahdc1', 'gdf6', 'mipep', 'clcn2', 'orai3', 'lnpk', 'ffar4', 'ucma', 'ears2', 'cnppd1', 'znf337', 'snip1', 'slc15a4', 'znf85', 'rnd3', 'rnf32', 'or13c5', 'col14a1', 'cdh10', 'tacr2', 'dynlrb1', 'kif5b', 'cep170b', 'immt', 'znf805', 'calml4', 'irak2', 'snrnp27', 'palld', 'ttc27', 'rasl12', 'znf236', 'slc9a4', 'hoxb4', 'pygo1', 'or2t2', 'or5p2', 'magea9b', 'myo18b', 'fam204a', 'rasa1', 'rspo4', 'serpini1', 'kel', 'hs2st1', 'ccdc65', 'vsnl1', 'sphkap', 'rtn2', 'rhoh', 'egln2', 'tmem176a', 'mageb6', 'b3gnt5', 'ecm1', 'arhgef28', 'nt5c', 'adgrf1', 'sln', 'nrbp1', 'znf251', 'prr27', 'bsx', 'rab37', 'znf557', 'mrgprx3', 'dnase1', 'insr', 'bcl2l1', 'snapc3', 'igsf3', 'plekhh2', 'polr2l', 'srebf2', 'grin1', 'rab11fip1', 'arhgef5', 'pcdhb12', 'osbpl9', 'pak1ip1', 'sorbs1', 'cndp2', 'tmco3', 'efcab14', 'cacng5', 'mtmr2', 'slc12a7', 'pabpc5', 'c9orf153', 'nup155', 'nap1l4', 'spegnb', 'ripply3', 'stxbp2', 'cfap46', 'znrf1', 'prr33', 'pax1', 'snx14', 'slc13a1', 'ncapd3', 'klrc1', 'pgpep1l', 'akap17a', 'trpt1', 'gnai3', 'nanos2', 'pkdcc', 'camk2d', 'mob2', 'ankrd30bl', 'tff2', 'edem1', 'c10orf71', 'prkca', 'tmed2', 'pimreg', 'fcn3', 'prxl2b', 'prr3', 'or1k1', 'cd226', 'flvcr2', 'smlr1', 'wnt10b', 'txlnb', 'best2', 'lrg1', 'ccdc90b', 'farp1', 'c11orf16', 'dcaf4', 'hmox1', 'chmp3', 'tnni1', 'akap6', 'fam229a', 'cenpp', 'abraxas2', 'znf177', 'tmem268', 'ldhd', 'pla2g10', 'npvf', 'becn1', 'agap3', 'ccdc85b', 'ankrd36', 'adgrl3', 'brd8', 'tcta', 'srpk3', 'gpihbp1', 'nupr1', 'mmp20', 'znf408', 'fam171a1', 'mapkapk2', 'coro6', 'krba1', 'plscr1', 'itln1', 'fcgr1a', 'psmb5', 'ap1s3', 'il37', 'tbc1d5', 'adgrg2', 'abt1', 'mapk8', 'ankrd37', 'hdac5', 'crygn', 'mmp24os', 'cys1', 'atp2a1', 'dnajc30', 'nabp1', 'mreg', 'borcs8', 'hspa6', 'mtnr1a', 'fam90a1', 'znf593', 'brca2', 'slc26a6', 'igfl2', 'bicral', 'nmnat3', 'gabbr1', 'slc5a7', 'sema3e', 'krtap12-2', 'znf222', 'nicn1', 'ghr', 'znf433', 'shisa8', 'adh5', 'c9orf40', 'dcstamp', 'pak3', 'cdk17', 'slc6a19', 'or8s1', 'mertk', 'nucb1', 'lta4h', 'c12orf75', 'myo9b', 'bdp1', 'eps8', 'f11r', 'rel', 'nudt3', 'hif3a', 'or2ak2', 'gfi1b', 'f2r', 'gdi2', 'prim1', 'znf268', 'fam114a1', 'cmss1', 'abcb11', 'bod1l1', 'tlcd5', 'zcchc13', 'elmo2', 'uts2', 'pla2g3', 'plscr2', 'snx31', 'ndufb4', 'unc5b', 'pnma6a', 'bpifa2', 'brd1', 'gpr89b', 'dazl', 'hgd', 'ubr7', 'bche', 'sirt3', 'krtap5-2', 'phkg2', 'tcf24', 'hrg', 'nlrc4', 'zfand2b', 'ccnl1', 'ddx60', 'map3k19', 'utp15', 'kdm3b', 'otor', 'oxa1l', 'rfpl4b', 'filip1', 'smc2', 'fbxw2', 'rnf170', 'alb', 'scg3', 'pknox2', 'foxh1', 'u2af1l4', 'frmpd3', 'ttn', 'tent4a', 'tor1a', 'ripk4', 'or1l8', 'man1b1', 'maml2', 'vdac1', 'rap2a', 'tubb1', 'znf501', 'mutyh', 'c8a', 'syt8', 'kdm7a', 'alkbh2', 'zswim5', 'paxip1', 'phf10', 'ddx19a', 'cdkn1a', 'golga2', 'fan1', 'nemf', 'or8j1', 'oprm1', 'card11', 'gabrp', 'eng', 'mks1', 'tex26', 'lgi2', 'zcchc17', 'thap9', 'arid3b', 'apoc4', 'ercc5', 'cacul1', 'lamc1', 'znf595', 'nkx1-1', 'cpq', 'plec', 'plekhh1', 'slc22a9', 'clasp2', 'exosc6', 'rsf1', 'b3galt2', 'micu2', 'traip', 'nfkb1', 'tmem161b', 'cd72', 'scara5', 'smg9', 'trappc4', 'znf71', 'tceal2', 'myot', 'ei24', 'isy1', 'exosc8', 'eid2b', 'adam15', 'p2ry12', 'slc36a3', 'slamf9', 'diras1', 'lhfpl4', 'map3k20', 'leng8', 'ppp1r26', 'trim2', 'dcxr', 'dnmt3l', 'rtl8b', 'slc16a1', 'snrpe', 'dlc1', 'slurp1', 'tle1', 'rnf187', 'slc5a12', 'lgr4', 'pik3r6', 'cdc42ep4', 'uba2', 'cinp', 'tpp1', 'tmem63b', 'scgb1d2', 'nup62', 'nnt', 'prr23b', 'eif2ak1', 'dok7', 'xrcc4', 'atp2b2', 'fam117b', 'dync1i2', 'or2t11', 'nyx', 'or10j5', 'pde10a', 'csnk1g2', 'dzank1', 'itpkb', 'bpifb2', 'orc3', 'fam171b', 'folr1', 'pabpc1l', 'timp1', 'or5i1', 'ganc', 'lrrc23', 'ccp110', 'crybb1', 'mgst2', 'fam110b', 'nanognb', 'or5bs1p', 'ccdc138', 'psen1', 'nat1', 'n4bp2', 'rbm46', 'mrap2', 'klf17', 'epb41l5', 'b4galnt3', 'aldh3a1', 'eif2b1', 'nrg4', 'lce3d', 'dld', 'msl1', 'prr12', 'shisa6', 'fgf22', 'ca11', 'ca7', 'or5w2', 'piwil2', 'irs4', 'tmem19', 'pls1', 'smco4', 'ube2j2', 'nit1', 'myc', 'rhot1', 'krtap1-1', 'cox16', 'apol5', 'serpine3', 'lbhd2', 'supt16h', 'grip2', 'pbxip1', 'mesd', 'hck', 'terf2', 'serinc1', 'defb1', 'agxt', 'cyp2w1', 'siah2', 'npas4', 'mxd3', 'lypd3', 'yes1', 'znf391', 'chrna1', 'znf775', 'prpsap2', 'ebf4', 'pglyrp1', 'loxl1', 'errfi1', 'pate4', 'pax8', 'jazf1', 'cdc42bpa', 'ptprm', 'pvr', 'golga3', 'ada2', 'carmil2', 'rasef', 'lifr', 'gp6', 'iglon5', 'phlpp2', 'aldh18a1', 'c17orf99', 'smarcb1', 'srbd1', 'emc3', 'dtx3', 'or1s2', 'lyve1', 'c3', 'asf1b', 'prkaca', 'ctnna3', 'atp6v1b1', 'msr1', 'stambpl1', 'dtnb', 'strip1', 'odf4', 'sh2b2', 'tmem154', 'spink14', 'sf3b2', 'kng1', 'clip1', 'vdac3', 'enpp5', 'sec11c', 'galnt1', 'itgbl1', 'pacsin3', 'dcst1', 'or2a5', 'camkk2', 'kctd12', 'csgalnact1', 'entpd6', 'tex36', 'rhou', 'stk32c', 'snx6', 'atp13a5', 'g6pc2', 'pcdh17', 'b3gat3', 'cxorf58', 'tagap', 'sult2a1', 'adipor2', 'or14a16', 'znf92', 'disp3', 'myo3b', 'ulbp3', 'lynx1', 'rgs13', 'setx', 'clcn7', 'prss57', 'tbk1', 'syk', 'vamp7', 'serpinb9', 'rasal3', 'foxk1', 'tnpo3', 'tnfrsf8', 'vps33a', 'zp2', 'zdhhc7', 'fam120a', 'ccrl2', 'slc6a3', 'paqr3', 'astn1', 'or2l3', 'arhgef26', 'tbc1d10c', 'rbm27', 'cyp7a1', 'znf442', 'zfp64', 'thegl', 'ccnb2', 'pfkfb2', 'znf143', 'ovol3', 'kiaa1755', 'lnp1', 'trappc11', 'mageb6b', 'ube2d4', 'gprc5b', 'whrn', 'gjb3', 'tspan17', 'hectd2', 'cd47', 'ulbp2', 'pilrb', 'trank1', 'igf2bp2', 'igsf22', 'gab2', 'krt1', 'dnajc14', 'aasdhppt', 'gnptg', 'ogfod3', 'tnnc2', 'proser1', 'rec114', 'il17a', 'cd207', 'ncr3lg1', 'klf7', 'ppp1r17', 'xirp2', 'cenpc', 'lrrc20', 'rinl', 'fgfbp2', 'chd2', 'plekhd1', 'psmd10', 'spock3', 'or2f2', 'arntl2', 'cx3cl1', 'tp53i13', 'dcx', 'adap1', 'nectin2', 'ncoa5', 'or10c1', 'dhrs3', 'or6c70', 'syde1', 'cnpy3', 'boll', 'bloc1s2', 'p3h3', 'chrna9', 'ube2t', 'c11orf24', 'arhgap18', 'spats1', 'nsdhl', 'nmu', 'ptgr2', 'col4a5', 'myof', 'mctp2', 'arsh', 'jund', 'nprl3', 'hivep3', 'tecpr1', 'hif1an', 'st6galnac5', 'ccnc', 'tacr3', 'gata4', 'twnk', 'gabrb3', 'syne3', 'c16orf54', 'sf3b1', 'efcab10', 'psmc6', 'scamp5', 'tm2d3', 'tmem235', 'narf', 'arf5', 'ccdc149', 'gclm', 'prkar1b', 'ifnb1', 'ms4a6a', 'acta2', 'clint1', 'ptprb', 'rlbp1', 'icam1', 'hmhb1', 'clcn1', 'sympk', 'grap2', 'taar8', 'brf2', 'ptpn14', 'arrb2', 'dnah12', 'atxn10', 'mob3c', 'a1cf', 'kntc1', 'zcchc14', 'ppp1r13b', 'scn11a', 'catip', 'ppp2r2b', 'c5orf49', 'znf180', 'fut8', 'rad23b', 'znf124', 'gabpb1', 'iscu', 'erf', 'brsk1', 'e2f1', 'tymp', 'nfkbie', 'etnk1', 'tmem205', 'gsk3b', 'upk1a', 'cand2', 'eipr1', 'ccn3', 'cd28', 'epb41l2', 'lrrc49', 'hamp', 'rprm', 'zic3', 'inip', 'wdr20', 'srrm2', 'mid1', 'ap1s1', 'rad51c', 'ftl', 'lilrb1', 'sel1l', 'pofut2', 'dhtkd1', 'rara', 'il31ra', 'snapc5', 'eef1akmt3', 'ros1', 'mcts1', 'golga8r', 'ecm2', 'lipn', 'tyrobp', 'vegfc', 'slc27a4', 'slc6a20', 'cdc14b', 'pdlim4', 'or1e1', 'cdca8', 'sppl2a', 'krtap29-1', 'klk7', 'pbk', 'myo18a', 'sertad3', 'kcnh8', 'tac3', 'lad1', 'ythdf2', 'bccip', 'trpv4', 'hsh2d', 'med24', 'rnf34', 'mcoln1', 'piwil3', 'ascl3', 'c12orf57', 'dph2', 'shc1', 'kif26b', 'pank3', 'blnk', 'cfap58', 'ccdc142', 'tgm7', 'atxn2', 'socs1', 'tbc1d17', 'trpv6', 'retnlb', 'pstpip1', 'gpm6a', 'oit3', 'rubcnl', 'ssr4', 'oxgr1', 'dmrtb1', 'wdr45', 'tns4', 'raly', 'mcph1', 'prg4', 'lef1', 'fbxw7', 'pkd2l2', 'pcolce', 'stmn4', 'ethe1', 'npffr2', 'zbp1', 'lcmt1', 'rufy1', 'treml2', 'bst2', 'tmem201', 'cisd3', 'pex6', 'spdye5', 'lurap1', 'alox5ap', 'bsg', 'pstk', 'zfyve16', 'clca4', 'cplx2', 'cd6', 'adra1a', 'sema4b', 'ppp4c', 'ltn1', 'c2orf66', 'cdkn3', 'kcnip2', 'cep350', 'hoxb7', 'nlrx1', 'tbc1d8b', 'nfyb', 'sh2d7', 'mbnl1', 'hint1', 'ext2', 'wdr93', 'hddc2', 'atxn2l', 'pkd1', 'ano8', 'wdr83os', 'msh2', 'lrrc9', 'tk2', 'cdc45', 'gja5', 'znf570', 'gjd4', 'foxl1', 'meioc', 'gpr63', 'mab21l3', 'cpsf1', 'atp5mc3', 'them6', 'ovol2', 'lamb2', 'cox6c', 'ndufa13', 'mitf', 'lyl1', 'ywhaq', 'mcoln2', 'foxi3', 'kiaa0930', 'c9orf131', 'zup1', 'pdgfrl', 'cbln3', 'mon1b', 'metrn', 'alg3', 'ccl13', 'lca5', 'lig4', 'cntln', 'plcd1', 'ppp2r5c', 'ccdc81', 'gpr88', 'grid1', 'ltk', 'dydc2', 'jsrp1', 'sltm', 'gpr19', 'qrfpr', 'cdc42se2', 'ccdc198', 'paqr5', 'svop', 'fndc10', 'mrgprx2', 'prmt9', 'med13l', 'efl1', 'abhd5', 'trhr', 'larp6', 'acvr1', 'rapgef2', 'taf11l8', 'atp6v1g3', 'rpusd3', 'zxda', 'echs1', 'klf18', 'nr1h3', 'c10orf120', 'tmem239', 'lrrc63', 'lars2', 'ggct', 'c13orf46', 'rab7a', 'erlec1', 'fundc1', 'pla2g2e', 'hbs1l', 'tbl3', 'sgpp1', 'rnpepl1', 'wdr46', 'ppp6c', 'spty2d1os', 'ube3a', 'sag', 'slc27a2', 'dbf4b', 'wdhd1', 'spred3', 'ctsa', 'rngtt', 'c6', 'znf671', 'nr4a3', 'rsrp1', 'foxg1', 'cgref1', 'csrnp2', 'wdr47', 'spry1', 'tomm20l', 'ccdc43', 'dact3', 'gpatch11', 'cmtm2', 'megf8', 'pcbd2', 'acp2', 'tafa2', 'lin54', 'naa11', 'znf492', 'rnf112', 'or6s1', 'chsy3', 'met', 'lrrc4c', 'fgfrl1', 'lmf1', 'cygb', 'crx', 'yipf3', 'flrt3', 'fam168b', 'sh2d2a', 'cyb5r4', 'uvrag', 'hepn1', 'or5d13', 'rbm18', 'cacng1', 'p4hb', 'igsf5', 'sv2b', 'ube2g2', 'snx10', 'ms4a1', 'tmem185a', 'cyb5d1', 'znf681', 'dpy30', 'nfe2l3', 'tm6sf2', 'art4', 'trpm7', 'prg2', 'dynlt3', 'pnrc1', 'rspo3', 'kbtbd11', 'znf114', 'carmil1', 'slc35g3', 'fbxl13', 'dnali1', 'serpinb3', 'gpank1', 'hs3st2', 'kcnn4', 'mex3c', 'arhgap40', 'izumo4', 'slc44a3', 'adarb1', 'c17orf64', 'dsc3', 'cdh22', 'zdhhc18', 'slc7a14', 'c15orf39', 'paqr4', 'cyp27b1', 'usp2', 'cyp4f8', 'neurog3', 'tbc1d1', 'pnma1', 'maml1', 'gtf2f1', 'map10', 'slc35c2', 'thap7', 'lrch3', 'dvl1', 'gsdme', 'glrx2', 'ddx42', 'zdhhc14', 'tmem74', 'manf', 'cd34', 'dvl3', 'adk', 'bcap29', 'lgalsl', 'acer1', 'use1', 'crtap', 'procr', 'nfam1', 'tmem266', 'or6y1', 'ube2d3', 'tmem126b', 'mknk1', 'mpp5', 'tmem182', 'fam98b', 'tpsg1', 'arfgap1', 'ppm1f', 'aff4', 'aco1', 'kcnab3', 'slc25a31', 'stk10', 'ubald2', 'gfm2', 'bmp4', 'znf426', 'nrtn', 'slamf6', 'skap2', 'grk6', 'dnase1l3', 'fbn2', 'vill', 'syn2', 'epas1', 'hhip', 'tlx1', 'peg10', 'suox', 'rnf4', 'tnip1', 'hip1', 'higd1c', 'ndrg2', 'prkx', 'rtl3', 'c1ql3', 'med26', 'msx2', 'krtap19-4', 'triqk', 'slit3', 'fabp12', 'sptbn2', 'usp28', 'chrna7', 'dnah5', 'atp6v1b2', 'znf573', 'itih6', 'leap2', 'ch25h', 'prdx1', 'caln1', 'rab33b', 'pla2g2d', 'pard6a', 'tmem9', 'sfxn5', 'gabbr2', 'edn1', 'or2b3', 'ppp2r5e', 'ckm', 'pgc', 'mt-nd3', 'prox2', 'dlg1', 'tmem106b', 'brms1l', 'ogdh', 'ly86', 'bcar3', 'pax3', 'tmem119', 'chac1', 'gpc1', 'wnt16', 'vgf', 'slc25a14', 'tsnax', 'txndc12', 'rag2', 'zmym1', 'mucl1', 'myzap', 'fndc3b', 'or4k1', 'exoc1', 'maff', 'or4q3', 'or4k5', 'ergic3', 'spdye6', 'cdh1', 'fbxl4', 'crip1', 'foxo3', 'eef1b2', 'ckap5', 'dll4', 'znf738', 'nhlrc2', 'celf4', 'bsdc1', 'cct3', 'mettl26', 'ascl4', 'fnbp1', 'mageb5', 'alg2', 'gigyf1', 'wwp2', 'cln8', 'gigyf2', 'nphp1', 'pi4k2b', 'nmnat2', 'ahrr', 'muc7', 'msantd1', 'lhx5', 'slc26a11', 'fbxl17', 'znf578', 'fam32a', 'mtx1', 'znf704', 'asap1', 'smo', 'klf16', 'pmm1', 'dock2', 'pc', 'ccdc15', 'znf100', 'tox2', 'apbb2', 'zwilch', 'limd2', 'gpn3', 'upb1', 'itih3', 'kcnj14', 'smarca1', 'asic2', 'bbs12', 'rhebl1', 'commd1', 'fcrl5', 'vcpkmt', 'gpx7', 's100a2', 'spock2', 'cnih2', 'lrrc43', 'rbm14', 'krt14', 'jakmip3', 'knl1', 'depp1', 'ctnnd2', 'tmprss12', 'cdh19', 'pparg', 'rmdn1', 'ankrd34a', 'pias4', 'uchl3', 'gpr78', 'zim3', 'tmem115', 'cdc73', 'limd1', 'fyb2', 'tulp4', 'fam166a', 'eaf1', 'fmo3', 'pycr3', 'rab13', 'hars2', 'cdk9', 'itprid1', 'mt-nd1', 'scx', 'krtap19-5', 'pgd', 'cox5b', 'pola1', 'mt1f', 'lpar4', 'katnbl1', 'slc35e1', 'rnf8', 'tyrp1', 'sf1', 'tbcd', 'c22orf23', 'cpxcr1', 'lrp4', 'il18r1', 'prkag2', 'havcr2', 'mmp1', 'tmed6', 'nog', 'pnpla2', 'pcdhga9', 'cbfa2t3', 'tmem67', 'prmt8', 'pif1', 'skor1', 'lrrc8a', 'pik3c2a', 'fto', 'mlf1', 'poglut3', 'ppp2cb', 'dock8', 'exosc3', 'nrip1', 'draxin', 'mcoln3', 'atl3', 'cnga4', 'fbxl22', 'ptpn9', 'epb41', 'ccno', 'ranbp17', 'or4x1', 'cyp11a1', 'sema4g', 'rspry1', 'topors', 'nolc1', 'upp2', 'ss18l1', 'med10', 'pola2', 'pllp', 'slc25a11', 'plcxd2', 'dhx33', 'c3orf56', 'tmcc3', 'ebi3', 'znf446', 'mab21l2', 'dpf1', 'ccdc158', 'gtf2e2', 'gspt2', 'spast', 'slc5a4', 'hrct1', 'atp5mg', 'elmod1', 'gabrd', 'spryd7', 'kcnk15', 'snx24', 'nyap1', 'cacng8', 'robo3', 'pcdha3', 'sp140l', 'igsf1', 'elovl6', 'gpr148', 'got1l1', 'sdhaf1', 'ackr1', 'cyp39a1', 'unc79', 'atp6v0c', 'lyrm1', 'znf563', 'syt16', 'bax', 'csf2rb', 'lratd2', 'or6b2', 'cdc34', 'sult1c4', 'slc10a2', 'spa17', 'spata6l', 'tvp23a', 'iffo2', 'lsm5', 'zkscan7', 'mamld1', 'thap1', 'cxxc5', 'hook3', 'prac1', 'ppp6r3', 'slc35d3', 'slc5a2', 'tmc6', 'efna4', 'fblim1', 'timm9', 'cldn5', 'rgl3', 'zgpat', 'or2y1', 'mgll', 'dlgap2', 'tspan32', 'eef2', 'fam151a', 'syt14', 'sowahb', 'phyhip', 'ccdc168', 'heca', 'calhm2', 'emd', 'phf5a', 'fgf3', 'tmem267', 'traf7', 'cuta', 'krtap4-6', 'ccr5', 'nanos1', 'kif6', 'golgb1', 'hfe', 'pgap2', 'champ1', 'rmc1', 'aptx', 'znf277', 'bloc1s6', 'pigp', 'slfnl1', 'ccdc192', 'ccbe1', 'pgbd2', 'myo10', 'chrac1', 'wnt7b', 'heatr1', 'gdnf', 'cend1', 'mbnl3', 'acss2', 'evi2a', 'ostf1', 'senp2', 'sgsm1', 'cd81', 'rbp7', 'syngr4', 'tmem269', 'arap3', 'cldn25', 'hpdl', 'scel', 'gpc5', 'gsc2', 'cenph', 'fbxo38', 'sqor', 'ndufa5', 'upf1', 'chd4', 'cnksr2', 'stk26', 'crisp2', 'nprl2', 'ntrk2', 'dennd5a', 'psmg3', 'tnks1bp1', 'btd', 'abi3bp', 'eri1', 'lrrc1', 'nkiras2', 'thoc1', 'fbln5', 'frmd5', 'grm7', 'paxbp1', 'c2orf49', 'setmar', 'myf6', 's100z', 'stbd1', 'thap10', 'rexo5', 'arc', 'znf729', 'sertm1', 'bag1', 'cela3b', 'aftph', 'taar2', 'usp6nl', 'fam9a', 'cadm2', 'saal1', 'ctse', 'eif1', 'sftpc', 'gtpbp10', 'mvk', 'nkiras1', 'pla2g4d', 'pcsk9', 'ubqln3', 'slc30a7', 'mmp11', 'ccdc28b', 'nalcn', 'oma1', 'srarp', 'tusc2', 'uqcr10', 'il33', 'rnase8', 'mea1', 'camk2a', 'gstcd', 'ctrc', 'ftmt', 'bud13', 'camta2', 'adcyap1', 'rapsn', 'akap4', 'bcl2l13', 'polr3g', 'pik3r2', 'ankrd18a', 'rtl10', 'dqx1', 'ifi27l1', 'olig1', 'golt1b', 'znf841', 'taf7l', 'ovol1', 'cacna1g', 'phgdh', 'c2orf88', 'epc1', 'pcp4l1', 'ptcd1', 'lamp1', 'epop', 'eqtn', 'rnaseh2a', 'meig1', 'romo1', 'utp11', 'ostn', 'galt', 'pxn', 'defb113', 'exosc4', 'tex29', 'tnfsf18', 'gpr62', 'cks1b', 'fam166c', 'hagh', 'chst4', 'abcb5', 'pex5', 'ccdc59', 'fbln2', 'pou3f1', 'cnep1r1', 'klhl2', 'usp48', 'wdr6', 'ttc8', 'dmac1', 'ceacam6', 'eml2', 'tceanc', 'hs6st2', 'pcdhb4', 'cstb', 'rbm47', 'osr1', 'uchl5', 'pom121l12', 'dyrk2', 'mov10', 'ttc32', 'cdh18', 'gin1', 'olfml2a', 'ddx23', 'vkorc1', 'ghsr', 'gpr143', 'myo15a', 'mpzl1', 'mettl18', 'tanc1', 'stk32b', 'myadml2', 'slc4a2', 'flvcr1', 'ttll4', 'c3orf22', 'tmprss11d', 'rlf', 'thap6', 'sos2', 'oaz2', 'stx16', 'reep4', 'herc6', 'stk38', 'nphs2', 'trim69', 'slc19a3', 'mtrex', 'ccna2', 'col11a1', 'bpnt1', 'cd14', 'mip', 'neurod6', 'pirt', 'rnaseh2c', 'stk11ip', 'psmc5', 'tmem212', 'tpbg', 'nanogp8', 'zbtb21', 'sybu', 'fam155b', 'stx17', 'bckdhb', 'lonrf2', 'mymx', 'iqgap2', 'kmt2e', 'h6pd', 'ralbp1', 'znf266', 'znf37a', 'ticam2', 'emp2', 'gmnc', 'mterf3', 'casp6', 'cdkn2a', 'oosp1', 'l3mbtl1', 'herpud2', 'glul', 'noto', 'eif3a', 'ednra', 'fam200a', 'hsp90ab1', 'dph6', 'rsl1d1', 'ciao3', 'pard6g', 'rin2', 'mybpc2', 'sohlh1', 'rnh1', 'ypel3', 'usp19', 'tdo2', 'flrt1', 'lrrc40', 'naglu', 'eif2b4', 'vps25', 'mthfd2l', 'polr2k', 'sall1', 'lmbr1', 'lst1', 'srd5a3', 'epb41l4b', 'rexo2', 'znf75d', 'prr23a', 'setd3', 'il10ra', 'ptms', 'mpp3', 'snrpd1', 'ly9', 'phpt1', 'thnsl2', 'dvl2', 'fndc8', 'c1orf185', 'tekt2', 'epo', 'c2orf78', 'atp6v0d2', 'begain', 'ncam2', 'rtl8a', 'alkal1', 'lag3', 'tssk2', 'klhl14', 'cbll2', 'chsy1', 'chmp7', 'unc45a', 'gab3', 'dyrk4', 'trim4', 'grk2', 'col6a6', 'srsf5', 'dusp10', 'sapcd2', 'pfkm', 'zkscan2', 'ccl23', 'semg2', 'erc2', 'kdm4a', 'lrp12', 'cplx4', 'hic2', 'mapk11', 'ints6', 'dchs2', 'foxe3', 'nlk', 'c1qtnf12', 'hadhb', 'senp3', 'znf22', 'pcgf6', 'xkr5', 'tuba3e', 'cenpw', 'tmem72', 'tlcd1', 'pglyrp2', 'gabrg2', 'zyg11b', 'inafm2', 'slc22a5', 'dguok', 'rnf38', 'tubb', 'cacna2d4', 'krt25', 'sdc3', 'or56a5', 'fat2', 'vstm2l', 'focad', 'dnajc10', 'epm2a', 'lxn', 'thrap3', 'fcn2', 'stac3', 'rab30', 'rgs1', 'cdkal1', 'cdk20', 'capza3', 'omp', 'slc44a5', 'sgce', 'ppp1r2c', 'znf707', 'zfp14', 'mapk1', 'ube2q2', 'copa', 'tjap1', 'st8sia6', 'creb5', 'ccdc83', 'pyy', 'pnmt', 'irx2', 'radil', 'cwc25', 'vsig1', 'tsen15', 'sf3b6', 'tmem150a', 'c7orf33', 'uap1l1', 'xkrx', 'aqp7', 'sox12', 'cdt1', 'slc35f1', 'adam10', 'iqcc', 'capn13', 'trps1', 'hoxa9', 'ldlrad3', 'tvp23c', 'kcnc3', 'chst9', 'agl', 'ssu72p8', 'itgam', 'morc1', 'znf250', 'ddx31', 'gpatch3', 'zfp57', 'eef1akmt1', 'znf831', 'il1r1', 'dgka', 'map1a', 'cdh8', 'cox8c', 'hoxd8', 'flt1', 'cpo', 'e2f3', 'myo5c', 'c3orf52', 'hace1', 'tyr', 'atoh1', 'uevld', 'sycp2l', 'fpr3', 'ica1', 'rnf31', 'ervv-1', 'prr9', 'gsta4', 'ercc4', 'rfx7', 'gabrg3', 'cenpl', 'lrrc4', 'hk1', 'oprk1', 'zdhhc23', 'usp8', 'ascc2', 'znf362', 'shmt2', 'spns2', 'tas2r7', 'esyt2', 'tpd52', 'arhgap24', 'hhex', 'mrgprx4', 'shc4', 'glipr1l1', 'trmt10c', 'depdc1b', 'phax', 'gapvd1', 'kyat1', 'hps6', 'fxr1', 'htr1e', 'brinp2', 'atg101', 'syt11', 'med23', 'slc30a4', 'pigl', 'tnni2', 'ddx52', 'znf582', 'spp1', 'hmg20b', 'rarres2', 'brms1', 'cmklr1', 'ifitm1', 'or13c2', 'polr2g', 'dffb', 'ppbp', 'prap1', 'pcnx1', 'isyna1', 'slc27a6', 'tspan33', 'prrg3', 'dnajb14', 'aard', 'sema6a', 'rmdn3', 'mybpc3', 'kcnab2', 'ireb2', 'kxd1', 'gja9', 'znf623', 'sh2d6', 'prkn', 'dcun1d5', 'ccdc150', 'polr2f', 'psma8', 'znf444', 'fcer1g', 'pigb', 'fam126a', 'ror2', 'mxd1', 'fst', 'spaar', 'or8d4', 'pdcd10', 'prmt2', 'yap1', 'c12orf43', 'adcy5', 'tslp', 'bhmt', 'or10g3', 'ccdc136', 'or1l6', 'wwc3', 'tnnt2', 'or4m1', 'vav1', 'cxxc4', 'defb110', 'blcap', 'ric3', 'agbl1', 'trim55', 'noxo1', 'rab27b', 'stradb', 'efhd1', 'cldn16', 'ccdc30', 'ift172', 'gxylt2', 'bend3', 'gng7', 'fcrl2', 'adcy10', 'slfn11', 'taf11l14', 'znf527', 'ugcg', 'kcnk1', 'angel1', 'pecr', 'gse1', 'marco', 'gnat2', 'cradd', 'mylk2', 'pdcl2', 'glcci1', 'spint1', 'c14orf119', 'rbbp4', 'lama1', 'map1b', 'golt1a', 'rack1', 'srsf4', 'irf5', 'znf559', 'znf766', 'mmut', 'apoa2', 'cfap206', 'ccr10', 'rnf213', 'gli2', 'psmc4', 'klk12', 'taf13', 'ism1', 'fut6', 'lrrc34', 'trappc10', 'cldn3', 'dnajb5', 'tmem64', 'trim38', 'prss21', 'cnot10', 'pip4k2a', 'tpp2', 'st13', 'pigt', 'clec5a', 'gad1', 'fscn3', 'npm2', 'ucn2', 'cntnap3b', 'hsp90aa1', 'jade1', 'cyp2j2', 'braf', 'col12a1', 'plcl2', 'adamtsl2', 'mtmr6', 'nagpa', 'slc25a1', 'slc7a6os', 'il13ra2', 'pon3', 'tle4', 'wdr77', 'ifngr1', 'zbtb22', 'rhbdl2', 'krtap20-4', 'rnf145', 'crlf3', 'ada', 'laptm5', 'ftcd', 'slurp2', 'tbc1d13', 'tm6sf1', 'pcdha11', 'cbln1', 'slc45a3', 'gba', 'taok2', 'sec63', 'sgca', 'usf2', 'caly', 'klhl34', 'rom1', 'rab5b', 'atf1', 'hbq1', 'eef1aknmt', 'scube3', 'themis2', 'noxred1', 'stard5', 'pskh1', 'pde1a', 'znf823', 'strit1', 'qtrt2', 'sptlc1', 'prag1', 'rassf4', 'slc51b', 'det1', 'stard3nl', 'fbxl20', 'basp1', 'zbtb6', 'tmem121b', 'ywhaz', 'app', 'shisa4', 'trem1', 'cpne4', 'msl2', 'nid1', 'sytl2', 'krt6a', 'rtl8c', 'arl5a', 'mt1b', 'sin3b', 'sfrp4', 'naxe', 'rnf227', 'pcgf1', 'smdt1', 'itga5', 'zdhhc12', 'sall2', 'dsp', 'cd8b2', 'agt', 'clpsl1', 'pgap1', 'dnajc7', 'magec1', 'fancf', 'trim23', 'lcn8', 'dgki', 'uap1', 'tasor2', 'hormad2', 'mex3a', 'zfat', 'crls1', 'atg12', 'tram2', 'fbxo27', 'znf276', 'susd5', 'penk', 'vsig10', 'serping1', 'col27a1', 'c2orf74', 'sp8', 'tmem186', 'bdkrb2', 'znf764', 'luc7l3', 'kdm2b', 'slc27a3', 'rapgef4', 'miox', 'efemp1', 'mak', 'metap1d', 'prdm13', 'cables2', 'cpa2', 'srxn1', 'spsb1', 'cmip', 'akap13', 'dennd1c', 'atp23', 'peak3', 'lancl1', 'erap2', 'malrd1', 'sp3', 'cdsn', 'fmc1', 'sts', 'acvr1b', 'spns1', 'asphd2', 'recql5', 'nfxl1', 'erich1', 'afap1l2', 'clec2d', 'nenf', 'or4d10', 'caps', 'slc41a3', 'fam83g', 'gpr4', 'hoxa11', 'nudt7', 'slc10a1', 'spata31d1', 'gja1', 'herc4', 'mcmdc2', 'dram2', 'hal', 'trim21', 'vash2', 'kcnmb1', 'ctrl', 'ninj2', 'dtd1', 'hoxb6', 'oser1', 'ptges2', 'sap130', 'dap', 'ankfy1', 'kit', 'rabepk', 'c20orf194', 'itgb2', 'taar5', 'c17orf80', 'srrt', 'fundc2', 'nop9', 'fgg', 'or6c4', 'slc35g5', 'fra10ac1', 'she', 'wnk1', 'atp11c', 'asl', 'pmpca', 'spaca9', 'cryba4', 'prph', 'cxcl9', 'zxdc', 'copg1', 'ubap1l', 'znf233', 'rpn2', 'eif2a', 'fat3', 'znf185', 'naxd', 'lpgat1', 'oxer1', 'b4galt5', 'rwdd3', 'p2ry8', 'akirin1', 'scube2', 'col22a1', 'or9q1', 'znf280d', 'mmp7', 'ogdhl', 'myo1h', 'perm1', 'grpel1', 'uimc1', 'ddtl', 'bik', 'ptcra', 'rcbtb1', 'or56a4', 'mfsd13a', 'atrx', 'cntfr', 'fen1', 'vac14', 'zmat5', 'or2t33', 'phip', 'adamts5', 'ppial4g', 'atp11a', 'tbc1d2', 'plxnd1', 'clpb', 'galns', 'mdga1', 'alkbh1', 'mettl23', 'tle7', 'hopx', 'lrrcc1', 'golga6l6', 'tlcd3b', 'znf773', 'rad9b', 'c17orf75', 'fam83c', 'gpsm2', 'amigo2', 'dhh', 'pabpc4', 'tppp', 'plaat1', 'csnk1e', 'ppfibp2', 'spin4', 'fgf6', 'c2cd3', 'cda', 'rgp1', 'mroh2a', 'atg9a', 'nphs1', 'cct8l2', 'syncrip', 'pm20d2', 'mta3', 'fmnl3', 'taf3', 'gpc6', 'efcab3', 'nek8', 'smim7', 'rassf9', 'il15', 'ereg', 'nostrin', 'kif3c', 'epc2', 'pax2', 'fgf8', 'asgr2', 'fam110c', 'eif3i', 'col4a6', 'mtmr4', 'creb3l3', 'duoxa2', 'gadd45gip1', 'cep41', 'znf8', 'bmp5', 'lyn', 'klhl15', 'lrpprc', 'pskh2', 'qki', 'vwde', 'bend5', 'krtap10-5', 'coro1a', 'cdh6', 'dffa', 'ghitm', 'gpr137b', 'tmem109', 'nxpe2', 'kank2', 'pclaf', 'bcl10', 'ttc30a', 'cap2', 'zp3', 'rhod', 'cdkl1', 'ttc5', 'lrrc4b', 'snx9', 'bhmt2', 'entpd8', 'ints4', 'mast2', 'fas', 'lilra5', 'sstr4', 'crocc2', 'ralgapa2', 'afm', 'il36g', 'hook1', 'celsr2', 'slco4a1', 'rph3a', 'ptgs2', 'map1lc3b', 'ccdc17', 'or2ag2', 'denr', 'lfng', 'map3k13', 'dock10', 'phox2b', 'arhgap11b', 'lmcd1', 'cpa4', 'epha2', 'pcdh11y', 'ccdc18', 'gpatch2', 'bco1', 'fam133a', 'fbxo17', 'sncaip', 'acot13', 'slc12a8', 'gnmt', 'rhoxf1', 'tp53tg5', 'neto2', 'slc25a44', 'dus3l', 'kbtbd3', 'six1', 'twf2', 'klhl25', 'mindy3', 'tnfsf8', 'fam120c', 'prr29', 'dnajc16', 'usp17l7', 'alad', 'map4k2', 'dcdc2b', 'fam183a', 'krtap8-1', 'lct', 'grm1', 'pkib', 'nutm1', 'disp1', 'pcdha1', 'rnf212b', 'pygb', 'f7', 'padi2', 'dhrs7c', 'slc38a8', 'pyhin1', 'mroh6', 'gnao1', 'rdm1', 'gpaa1', 'nbpf3', 'c12orf45', 'slc25a15', 'kcnh4', 'aimp1', 'med29', 'znf12', 'lrch2', 'chrna3', 'ech1', 'fbxo2', 'dtwd1', 'ifi6', 'znf782', 'zim2', 'farsa', 'smim10l2b', 'usp25', 'sema5a', 'rasl11a', 'nhs', 'gnai2', 'hes4', 'ube2w', 'or4d5', 'ctdnep1', 'slc22a16', 'elk4', 'ccl20', 'gap43', 'trabd2b', 'mtch1', 'psca', 'xaf1', 'klhl10', 'cpsf3', 'frmd7', 'pnma2', 'dram1', 'ranbp9', 'gfer', 'nono', 'gpr37', 'ppfia3', 'nudt14', 'ddr1', 'wnt5a', 'avil', 'enpp3', 'spdyc', 'pip4p2', 'znf821', 'tmem222', 'gprc5a', 'catsperd', 'ctdsp1', 'rfx2', 'rnf128', 'syt1', 'spaca3', 'rasgrp2', 'pex11g', 'cdc42bpg', 'gcnt2', 'tbc1d15', 'prune1', 'tfip11', 'micu1', 'serpine2', 'pcna', 'tacr1', 'bpi', 'fam205c', 'nipbl', 'mbtps1', 'ephb2', 'theg', 'mon1a', 'ddit4l', 'rbp5', 'fkbp14', 'amn', 'lins1', 'znf469', 'sez6l', 'galr3', 'zscan30', 'wnt6', 'cdk5rap2', 'vegfb', 'myadm', 'cfap157', 'pramef14', 'slc43a1', 'zc3h4', 'krtap19-8', 'xpo1', 'c22orf39', 'ttll1', 'bnc2', 'capn6', 'stard4', 'uri1', 'or2m2', 'slc25a26', 'pcdh7', 'ccnd1', 'tspan9', 'atp6v0a4', 'crygb', 'ddo', 'grsf1', 'snrnp70', 'p2rx4', 'fzd3', 'znf385b', 'tceal9', 'crnn', 'rad54l', 'mcfd2', 'adnp2', 'kcnip1', 'cdv3', 'vamp4', 'fbh1', 'tmem151b', 'dipk2a', 'fbxo45', 'dpp10', 'mastl', 'zmynd11', 'inppl1', 'cd1e', 'pxdn', 'cwh43', 'pde4a', 'myo1b', 'ywhah', 'thap4', 'igsf21', 'slitrk5', 'dpep2nb', 'dock6', 'c1orf131', 'vegfa', 'cmtm8', 'sec23b', 'tlnrd1', 'rad23a', 'trappc12', 'hmcn1', 'znf431', 'arl6ip6', 'hpse2', 'pdlim7', 'slc4a1', 'pet100', 'ppt1', 'gkn1', 'qrsl1', 'plekha2', 'pkn3', 'prpsap1', 'mbip', 'tmem184b', 'micall2', 'cmtr1', 'rrm1', 'ube2g1', 'or10k2', 'mapt', 'nodal', 'pip5k1a', 'col6a3', 'irf7', 'glmp', 'ift43', 'psmd1', 'azin1', 'tube1', 'ngly1', 'nefl', 'or52r1', 'znf432', 'adnp', 'spin2b', 'gabre', 'bop1', 'krt32', 'tmx2', 'rnf19a', 'ubxn6', 'vtn', 'ngef', 'gatd1', 'ece1', 'tat', 'or2w1', 'prss51', 'timm8b', 'taf2', 'alox15b', 'rida', 'tmem150b', 'batf3', 'me3', 'trim44', 'wdr33', 'acot1', 'dlgap4', 'plat', 'slc26a9', 'actr5', 'agap1', 'lrrc27', 'znf7', 'or4c6', 'zscan12', 'crygs', 'neil2', 'adamts13', 'dcakd', 'niban2', 'soga3', 'cxcl16', 'ppp1r9b', 'slc26a2', 'pced1a', 'eps15', 'abl2', 'samd9', 'ctsw', 'fbxo21', 'lmbrd1', 'hsbp1l1', 'rnase11', 'esam', 'ttll12', 'znf182', 'gpr161', 'wdr26', 'bhlhe40', 'cfap44', 'bcl7b', 'gkap1', 'ogt', 'phlpp1', 'irf2', 'cnksr3', 'rtl1', 'amdhd1', 'slc25a40', 'tnfrsf14', 'rfpl2', 'tbccd1', 'epyc', 'mef2a', 'ssh1', 'cpvl', 'cd247', 'kcnd2', 'ptger2', 'klhdc8b', 'fam170b', 'slc22a18as', 'sult1c3', 'crebbp', 'scn3a', 'cnnm4', 'shh', 'sec16a', 'lrrc8d', 'npy1r', 'kctd19', 'nr5a1', 'slc9a1', 'slc38a10', 'tex37', 'spry3', 'hoxa13', 'hrc', 'aak1', 'agtrap', 'ccl21', 'ervk3-1', 'bora', 'ppm1b', 'abi2', 'rspo1', 'pla2g4a', 'rab26', 'il27ra', 'arx', 'brox', 'exosc10', 'lrrc72', 'snx13', 'glod4', 'vpreb1', 'tmem35a', 'tcf21', 'bag3', 'chchd5', 'cluh', 'awat2', 'gpatch2l', 'kif25', 'zbed1', 'homer1', 'ikbke', 'tomm20', 'tef', 'alg13', 'ceacam7', 'dmp1', 'kcnb2', 'col2a1', 'gp1bb', 'cxcr4', 'krt17', 'tmem244', 'rhoa', 'c11orf80', 'pcm1', 'map7', 'zscan31', 's100p', 'hipk3', 'prkdc', 'kctd5', 'spats2l', 'asb10', 'or56a1', 'bbs10', 'foxc2', 'pear1', 'gng3', 'angptl4', 'prkcz', 'ssx5', 'tmem35b', 'zdhhc8', 'cnnm3', 'ttc24', 'lcn2', 'pls3', 'dgat2l6', 'slc39a1', 'atp8a2', 'srpx2', 'enpp1', 'chi3l2', 'nkx3-1', 'cckbr', 'sgms1', 'septin6', 'ldlrad1', 'crebl2', 'slc5a9', 'lrrc32', 'unc5c', 'gpr150', 'arhgap15', 'faf1', 'ankh', 'asb4', 'ablim3', 'pitpnm2', 'kcnd1', 'tiam2', 'mob1b', 'gli4', 'znf658', 'jagn1', 'ubap1', 'trdmt1', 'pard3', 'ybx2', 'ripk2', 'ucp1', 'st3gal1', 'bcat1', 'adap2', 'ambn', 'vwc2', 'clec4f', 'nrp2', 'parp11', 'irx5', 'rab4a', 'rap1gap2', 'ndufa7', 'znf121', 'manbal', 'rrh', 'hoxc9', 'krtap10-2', 'ddx50', 'tpra1', 'utp18', 'or2m3', 'znf808', 'dapk3', 'tspan3', 'rims2', 'tmbim6', 'cog3', 'c17orf100', 'ptbp2', 'lilra1', 'gas2l2', 'plscr3', 'or1a2', 'tspyl1', 'parp9', 'krt39', 'tpgs2', 'znf536', 'ccdc88a', 'piezo1', 'insyn2b', 'chka', 'c10orf90', 'igf2r', 'tril', 'niban1', 'c5orf46', 'chrna6', 'ddx58', 'tbkbp1', 'slc19a2', 'rdh13', 'nova2', 'atp2b1', 'znf691', 'tubgcp4', 'unc13c', 'fam71a', 'fzd8', 'ntm', 'rab12', 'peg3', 'ehd4', 'clvs2', 'e2f2', 'mdk', 'slc38a3', 'ncbp2as2', 'nt5dc2', 'commd6', 'slc52a2', 'fgf7', 'zxdb', 'btbd16', 'il1r2', 'ap1m2', 'selenot', 'foxn2', 'htr7', 'zmym4', 'bsn', 'zbtb25', 'npy', 'ramp3', 'spata16', 'tmem43', 'arhgap26', 'or5t1', 'znf830', 'nlrc5', 'znf541', 'akap5', 'klf3', 'ppp3ca', 'acad9', 'rbm33', 'nupr2', 'susd3', 'bmp2', 'mlph', 'cenpb', 'atxn3l', 'znf275', 'gpa33', 'pofut1', 'ranbp6', 'amy2a', 'kif2b', 'coasy', 'derpc', 'znf784', 'klc1', 'prr35', 'abca12', 'rita1', 'smc1b', 'fdx2', 'efna1', 'reg1b', 'nmd3', 'rev3l', 'ube2f', 'syne2', 'scarf1', 'mast1', 'mtap', 'sptbn4', 'fancc', 'specc1', 'wdr55', 'or10a6', 'serpina1', 'kiaa1671', 'vcp', 'usp10', 's100a1', 'hbm', 'dhps', 'zc3h12c', 'ppil2', 'dnajc11', 'fbxo11', 'mtif2', 'ripk1', 'inmt', 'cdk5rap3', 'or51a4', 'ect2l', 'snx20', 'sall3', 'znf460', 'ctcf', 'p4ha2', 'inpp5d', 'apcdd1', 'mageb2', 'angptl1', 'slc13a2', 'proser2', 'gdpd4', 'znf519', 'nudc', 'abcb8', 'tfap4', 'ppp2r2d', 'nfil3', 'nans', 'rasip1', 'sorcs1', 'or6c2', 'dhx37', 'emc7', 'cldn6', 'ctrb1', 'sumf1', 'plac9', 'mrgbp', 'ino80d', 'alkbh3', 'thsd8', 'sucla2', 'cdc14a', 'armt1', 'gemin6', 'kctd7', 'sin3a', 'ccl7', 'mtg2', 'gstt2b', 'znf496', 'c11orf58', 'glce', 'cyp4a11', 'ube2j1', 'dpp4', 'thsd7b', 'id3', 'adrb3', 'cdca4', 'c17orf50', 'poc1a', 'abcg8', 'naa50', 'trim39', 'tdrd9', 'neurl4', 'asb9', 'glyatl2', 'tgif1', 'or51b6', 'kcnj18', 'krtap9-8', 'lactb2', 'krtap4-3', 'sf3a1', 'ar', 'tcf20', 'fnip2', 'smim15', 'smad4', 'gper1', 'ltb4r2', 'ttbk1', 'synpo2', 'ntn4', 'iqch', 'ccdc113', 'usp3', 'rfc1', 'cert1', 'cdrt15', 'nectin4', 'c3orf84', 'prpf19', 'wdr92', 'wrnip1', 'ubr4', 'znf517', 'gpr108', 'fdps', 'fut10', 'phlda1', 'ralb', 'bex4', 'pdik1l', 'wdr12', 'pdia5', 'adh1a', 'zdhhc16', 'rprml', 'epha7', 'supt5h', 'phactr2', 'sox18', 'znf335', 'scn1a', 'gpr179', 'maged1', 'psors1c2', 'churc1', 'prrt1b', 'zfp36l1', 'tanc2', 'otol1', 'ctage1', 'chfr', 'nat10', 'pvalb', 'ctps1', 'krt72', 'cc2d2a', 'mpp1', 'znf665', 'dennd6b', 'ago2', 'erbb3', 'thyn1', 'ncoa3', 'nr0b1', 'znf449', 'znf45', 'capn3', 'fnbp4', 'xkr3', 'klb', 'cfap74', 'prmt3', 'pnldc1', 'ampd1', 'or5m11', 'sipa1', 'sirpa', 'rnf139', 'snap91', 'hibch', 'cd68', 'clec20a', 'scamp2', 'tmem200b', 'nasp', 'or6a2', 'znf296', 'b9d2', 'apmap', 'gatad2b', 'tmem135', 'cd1d', 'dhx57', 'ly6g6e', 'rbm42', 'zfyve1', 'enah', 'hid1', 'wars2', 'iqcj', 'erp27', 'prdx2', 'insm1', 'eml6', 'lrrc71', 'tead2', 'nrsn2', 'serpinf2', 'c12orf56', 'dhrs2', 'or8k5', 'mef2d', 'anapc2', 'tmod2', 'vwa1', 'stx2', 'st3gal2', 'cep131', 'rasal2', 'gzf1', 'hoxa1', 'rab11fip2', 'ypel2', 'cops4', 'rcl1', 'atg13', 'ccdc66', 'nlrp14', 'ccnt2', 'uck1', 'psmd4', 'rtl9', 'znf451', 'mdm2', 'cfap221', 'spink7', 'rcn3', 'nhsl2', 'prkd2', 'kif4b', 'iqcn', 'zmynd12', 'dazap2', 'rai1', 'tulp1', 'thap11', 'spata19', 'odf3l1', 'gfap', 'iqcf5', 'nox5', 'agpat3', 'rfpl4a', 'nmrk1', 'tsen54', 'mamdc2', 'znf598', 'ube2l3', 'fam43a', 'atm', 'sdf4', 'nin', 'clca1', 'fbxo41', 'prorp', 'nploc4', 'adgrf2', 'c17orf49', 'auts2', 'ndufs3', 'st8sia5', 'mfsd14b', 'acsl3', 'ramp2', 'cep97', 'psme4', 'dcaf15', 'cnga2', 'phospho2', 'csrp3', 'znf592', 'ms4a4a', 'c12orf65', 'sesn2', 'clgn', 'acp1', 'med22', 'chp1', 'trip10', 'nadk2', 'grin2d', 'bcas4', 'mchr2', 'atp5pf', 'pcp4', 'cd86', 'gipr', 'mplkip', 'rab11a', 'pms2', 'pf4', 'tbrg1', 'pcdhb6', 'wdr31', 'ccnj', 'ccna1', 'mms22l', 'hmgn5', 'tlk1', 'lyrm7', 'fam120b', 'dop1a', 'page4', 'brpf3', 'soat1', 'tecta', 'pmm2', 'stmn2', 'ccnd2', 'dnmt1', 'mical3', 'zscan29', 'ube2b', 'avp', 'rab33a', 'alms1', 'pth', 'lrrc73', 'rhbdf1', 'slc23a3', 'spink8', 'bcl2l15', 'il20ra', 'selp', 'aplnr', 'rab7b', 'cabcoco1', 'gk3p', 'asb1', 'herc5', 'pi15', 'chrm2', 'exosc2', 'rfpl3', 'rnf41', 'rictor', 'wfdc6', 'armc2', 'znf195', 'prkaa1', 'luc7l', 'ascl1', 'wdr82', 'ces4a', 'cyb5r3', 'zcchc18', 'prim2', 'cyhr1', 'uros', 'ptpn6', 'cetn3', 'map3k8', 'cidec', 'zfp36l2', 'epm2aip1', 'ankrd44', 'actn4', 'lage3', 'crtc3', 'melk', 'pmel', 'ncbp1', 'usp17l2', 'maneal', 'maf', 'apoh', 'prickle1', 'egr3', 'proz', 'akr1a1', 'gpr84', 'bri3bp', 'derl3', 'znf620', 'tor1aip2', 'pdpk1', 'nanos3', 'slc10a6', 'npr3', 'rabif', 'cldn9', 'pip', 'fcgr3b', 'hint3', 'pcf11', 'galnt13', 'tp53i11', 'fras1', 'hdac3', 'pcdhga5', 'hnrnpa0', 'fitm2', 'alg8', 'gfy', 'nbpf20', 'fbxl15', 'prrg4', 'tgfb3', 'wdr62', 'dennd4a', 'nefh', 'hexd', 'ripply2', 'acox1', 'tigar', 'ptger1', 'spag17', 'sh3rf3', 'abat', 'zbtb2', 'rbp1', 'polq', 'endov', 'rufy4', 'usp30', 'tktl1', 'oasl', 'peli3', 'tulp2', 'psip1', 'mbd3', 'cldn18', 'arl4c', 'trpc4', 'blacat1', 'tmsb15a', 'wdr97', 'blk', 'hnrnph3', 'cacna1h', 'znf569', 'tlr4', 'rsph6a', 'shld3', 'nr6a1', 'slit1', 'ush1c', 'tmx3', 'abcf2', 'stx3', 'arid4b', 'sugp1', 'lrrn1', 'lrrc47', 'sike1', 'mef2c', 'cxcl12', 'adgrb1', 'abcb4', 'pyroxd1', 'pdf', 'popdc2', 'hnrnpul1', 'trim34', 'slc44a1', 'aatf', 'mfsd9', 'pwwp3b', 'actn3', 'znf287', 'prkcd', 'crkl', 'zbtb20', 'prpf39', 'trim15', 'fdxr', 'slc23a1', 'orc1', 'c3ar1', 'tsc22d3', 'tmem200c', 'ppm1j', 'ifnl1', 'znf138', 'rcan1', 'vps11', 'ubqln2', 'mtcp1', 'pfkfb4', 'p4htm', 'spata31a5', 'osgin1', 'ube4a', 'myrfl', 'pold2', 'stmnd1', 'nudt5', 'rapgef1', 'ptpn1', 'ccl19', 'muc5ac', 'spata17', 'kif5c', 'fam13a', 'mocs1', 'popdc3', 'abhd12b', 'stx12', 'parm1', 'vps39', 'sdhaf4', 'sh3bgrl', 'actg2', 'chad', 'eif2b3', 'cops9', 'reep3', 'emp1', 'terb1', 'agap2', 'mrc2', 'dprx', 'ppan', 'capn5', 'dab2ip', 'nosip', 'vgll2', 'limk1', 'gli1', 'n6amt1', 'entpd7', 'pcdhac1', 'or7g3', 'relch', 'tm2d2', 'nav3', 'dmkn', 'reck', 'nkx2-2', 'ankrd34b', 'mprip', 'c1orf100', 'arhgef17', 'klhl24', 'ugp2', 'sptssb', 'loxl3', 'or52i2', 'ccdc196', 'tedc2', 'frzb', 'cbx4', 'tyms', 'znf781', 'vamp1', 'ccdc7', 'rasgrp1', 'fgfr1op2', 'znf695', 'spryd4', 'yars2', 'arhgef25', 'ier3ip1', 'hilpda', 'gripap1', 'uaca', 'tead1', 'best4', 'glb1', 'zcchc7', 'nxpe4', 'bmp10', 'efcc1', 'icos', 'ttll11', 'abcb6', 'snx4', 'cops8', 'tnip3', 'mlx', 'wasf1', 'mosmo', 'klrc3', 'oprpn', 'mtus1', 'tctn3', 'znf292', 'dnajc27', 'rnf39', 'tmem171', 'srm', 'hnrnpul2', 'fgf13', 'cdh17', 'ptpn13', 'ppfibp1', 'btbd7', 'fahd2b', 'phactr3', 'ssr2', 'alpp', 'bmpr2', 'cyp26b1', 'mrtfb', 'kera', 'pigr', 'selenoo', 'zfhx3', 'elspbp1', 'cbr1', 'isg20l2', 'arpin', 'klhl23', 'rit1', 'luzp2', 'dad1', 'ucp3', 'nkpd1', 'blid', 'fktn', 'cpped1', 'tmem150c', 'ret', 'higd1b', 'artn', 'calhm1', 'usp14', 'foxred2', 'hap1', 'virma', 'tubal3', 'pcdhgb7', 'enpp4', 'tssk3', 'postn', 'slc12a4', 'anxa8', 'myo1a', 'slco4c1', 'eef1akmt4', 'ca1', 'cadm3', 'lgals2', 'rala', 'gkn2', 'anapc10', 'tbc1d14', 'oxct2', 'bri3', 'tcte1', 'cldn4', 'alpl', 'scrn3', 'sytl5', 'nsmce1', 'fxyd1', 'fry', 'thsd4', 'cggbp1', 'fgfr1', 'arrb1', 'eml1', 'sox1', 'nob1', 'snx16', 'atg9b', 'hspb9', 'pdp1', 'fcgr1b', 'kpna5', 'igbp1', 'pdcl', 'arid3a', 'enpp2', 'syne4', 'fam149b1', 'serpinb12', 'cabin1', 'slmap', 'rpp25', 'chd5', 'ccr7', 'fam162a', 'akap9', 'tbc1d3b', 'sdc4', 'mafb', 'tm7sf2', 'ehmt1', 'slc7a8', 'fbxl16', 'znf239', 'haus4', 'slc1a4', 'adra1b', 'aqp1', 'mob1a', 'cers6', 'akr1b15', 'mpp4', 'ldhc', 'mecp2', 'caprin2', 'sf3b4', 'rwdd4', 'arcn1', 'serpina11', 'apof', 'scyl3', 'krtap5-9', 'hgfac', 'slc30a1', 'eif4ebp2', 'tbxas1', 'tspear', 'htr3e', 'grid2ip', 'hoxc12', 'or52b6', 'tent5b', 'ssbp4', 'litafd', 'grm8', 'lmtk3', 'maml3', 'lipt2', 'tas2r1', 'cdh2', 'slc6a1', 'tgm2', 'med27', 'ncbp2', 'myef2', 'ccdc141', 'ndufa9', 'ubn1', 'prr32', 'uckl1', 'stab1', 'hexa', 'dnm1l', 'ubxn1', 'ryr3', 'dnm2', 'zfand1', 'mlc1', 'csf1', 'krt73', 'rbmx2', 'fam98a', 'znf549', 'inafm1', 'strn3', 'sae1', 'aff2', 'ppp1r1b', 'extl1', 'ndst3', 'aacs', 'ephb6', 'mob3b', 'traf1', 'atg16l2', 'rccd1', 'tubb6', 'rab11fip4', 'lrrtm1', 'plin5', 'ffar3', 'pex19', 'plglb2', 'palm3', 'ak6', 'lix1l', 'or5m8', 'dag1', 'zfhx4', 'secisbp2l', 'slc29a1', 'scgn', 'ccdc122', 'c6orf163', 'eif3l', 'pcdhga12', 'ypel5', 'tp73', 'slc7a11', 'actl6b', 'dennd2a', 'tmem231', 'cbx7', 'ptger4', 'or2a14', 'eif4e', 'taf11l6', 'tmem238l', 'tnk2', 'or4b1', 'sirpd', 'wasf3', 'kcnh6', 'rtca', 'ska2', 'glt1d1', 'gcg', 'eif3j', 'dip2a', 'or8d1', 'mrs2', 'susd6', 'erich4', 'acsf3', 'wnt9a', 'nqo2', 'ccdc33', 'akr1b10', 'otc', 'zcchc2', 'hbegf', 'kpna2', 'tmem74b', 'crlf2', 'kncn', 'c11orf87', 'scap', 'prok2', 'tmem243', 'prepl', 'dmpk', 'sntb2', 'nkain2', 'plk3', 'duox2', 'fam177a1', 'drc7', 'nat9', 'hat1', 'krtap12-1', 'zfx', 'inka1', 'hspa8', 'pithd1', 'rnf20', 'sar1b', 'por', 'rwdd2b', 'rab28', 'zcchc24', 'c21orf58', 'coq9', 'rbfa', 'mpc1l', 'fam71c', 'znf30', 'rdh16', 'abracl', 'galnt11', 'nup35', 'hectd3', 'mei1', 'clu', 'sephs2', 'ly75', 'eno4', 'nle1', 'rnf151', 'lrrc7', 'kat6a', 'fbxo30', 'snrnp25', 'pnck', 'atp10b', 'shisa3', 'sf3a2', 'atf7', 'pou3f4', 'rmdn2', 'xcr1', 'il16', 'irf9', 'znf441', 'chaf1b', 'sp9', 'sulf1', 'srrm4', 'cpa1', 'pidd1', 'ctsg', 'acsbg2', 'acsm1', 'klrg2', 'faslg', 'usp39', 'cul3', 'hmgcr', 'wdr90', 'abhd11', 'drich1', 'sirpb1', 'saysd1', 'ccdc188', 'steap1b', 'oxtr', 'mtfr2', 'nme2', 'fasn', 'il23r', 'lepr', 'prss22', 'actr2', 'nudt2', 'ahcy', 'angptl3', 'nf1', 'c6orf226', 'uhmk1', 'tll1', 'cd36', 'aldh3b2', 'atp8b1', 'fars2', 'ppp6r1', 'gsdma', 'ncmap', 'p3h4', 'tex55', 'trib1', 'setdb2', 'znf317', 'rab8a', 'inhbc', 'pde12', 'ppfia4', 'dmrt2', 'muc6', 'c19orf47', 'snrpa1', 'pipox', 'dusp16', 'ccdc189', 'ntan1', 'cobl', 'sntg1', 'tns1', 'dynll1', 'tac4', 'cmtm7', 'hacd2', 'pcdha4', 'mok', 'atp1a1', 'zswim1', 'psmf1', 'pgp', 'znf836', 'deaf1', 'or10x1', 'tssc4', 'rpap1', 'noc2l', 'lrrc39', 'foxf2', 'ldoc1', 'epb41l1', 'sstr2', 'mast4', 'c1orf162', 'cnot6', 'hcls1', 'foxo6', 'ocel1', 'slc18a1', 'mc5r', 'pced1b', 'styk1', 'semg1', 'cpn2', 'phactr1', 'kctd13', 'gpr142', 'bmerb1', 'dnajb9', 'scgb1a1', 'kiaa1217', 'calu', 'vnn1', 'pon2', 'aldh1b1', 'pip4p1', 'znf709', 'fam110d', 'c1orf216', 'spout1', 'itgb1bp1', 'col1a2', 'riok2', 'fmo1', 'krtap9-3', 'mfsd2b', 'mylk3', 'cdh4', 'asic5', 'prelid3a', 'srrm5', 'cyp2c9', 'oard1', 'ptpro', 'psmd9', 'odc1', 'fes', 'sez6l2', 'mageb18', 'bcorl1', 'vrtn', 'psen2', 'yeats2', 'atrnl1', 'c11orf49', 'gne', 'cyp4f22', 'mpv17l', 'adora1', 'tas1r1', 'gnptab', 'zbtb4', 'tmem192', 'cma1', 'or6f1', 'pank1', 'trim67', 'epha3', 'iqgap1', 'birc3', 'tmprss11f', 'zc3hav1', 'aqp11', 'eps15l1', 'tmem37', 'lbr', 'tmtc3', 'tcf12', 'prkg1', 'ddr2', 'klk11', 'ssr1', 'brat1', 'toe1', 'n4bp2l1', 'lrrc14', 'abhd16b', 'ssr3', 'suz12', 'gopc', 'crabp1', 'arnt', 'lemd3', 'ubash3a', 'pkp1', 'slc9a3', 'mis18a', 'serinc4', 'ccl27', 'itpr3', 'polr3b', 'pcdhga6', 'msantd3', 'bend7', 'tle6', 'fbrs', 'parp10', 'golga6l2', 'hook2', 'spag4', 'sox3', 'il36b', 'gcc1', 'med15', 'atp6v1d', 'plk4', 'znf264', 'fam240c', 'ms4a4e', 'exd3', 'cers4', 'slc4a11', 'matn3', 'sf3b3', 'tasp1', 'ppp4r2', 'ier5', 'urb2', 'ly6h', 'mical2', 'dmrta2', 'nhp2', 'syt4', 'ccl3', 'capn8', 'klhl6', 'homez', 'b3gntl1', 'eogt', 'kansl2', 'ncl', 'ppp1r12c', 'stk33', 'ctnna2', 'c3orf62', 'hmx3', 'zswim4', 'c16orf89', 'nudt16', 'dnah7', 'c17orf107', 'si', 'hip1r', 'srp54', 'znf770', 'csf3', 'nucb2', 'cpsf7', 'spanxn5', 'zfp91', 'ndufs2', 'rxrg', 'acad10', 'gpr15', 'gprin1', 'adgrg1', 'ulk2', 'tank', 'adat1', 'rassf2', 'rbbp8', 'gosr1', 'prdx3', 'pou1f1', 'evi2b', 'tatdn3', 'tigd3', 'arhgef37', 'slco1b1', 'adcyap1r1', 'dnai1', 'ankle1', 'tmppe', 'fam219b', 'smpdl3a', 'ctxnd1', 'wrn', 'prr7', 'dnajc2', 'tpr', 'f13a1', 'ano1', 'ntf3', 'c1orf189', 'trh', 'tmem98', 'ldlrad4', 'paf1', 'taf9', 'utp6', 'igf1r', 'gabrg1', 'atp6v1a', 'tmem44', 'fyttd1', 'ints12', 'folr2', 'rnf13', 'ngdn', 'sptan1', 'tmem169', 'ufl1', 'osbpl6', 'tmem134', 'usf1', 'ddx1', 'pask', 'scml2', 'smurf2', 'bad', 'kremen2', 'rtn4r', 'muc20', 'il1rn', 'chchd6', 'trim64b', 'c11orf54', 'spata21', 'fstl4', 'mfsd14a', 'spef1', 'emc2', 'arhgef12', 'mphosph10', 'tnpo2', 'gnat3', 'degs1', 'ctf1', 'cog6', 'nr2f6', 'znf875', 'tns2', 'elovl1', 'c11orf65', 'kcnq4', 'htr2a', 'foxa1', 'lif', 'rad21', 'prkab1', 'tagln3', 'sync', 'clcnka', 'zic2', 'clmp', 'sec23a', 'lrrc26', 'or6c6', 'c12orf42', 'ino80e', 'apoc1', 'cacna1i', 'rufy3', 'tpmt', 'fam216a', 'idh3g', 'pkd2l1', 'mlst8', 'rnf216', 'tmem254', 'has1', 'or6m1', 'dlgap3', 'ints3', 'pla2g4c', 'cnga1', 'tmco1', 'krtap21-1', 'ifi35', 'tab1', 'kcna2', 'ambp', 'sorbs3', 'nr2c2ap', 'ptges3l', 'edem3', 'ppp2ca', 'emx1', 'necap1', 'orc5', 'efcab12', 'cst9l', 'asb14', 'ip6k1', 'map6d1', 'trim52', 'hdhd2', 'krtap1-3', 'lmo2', 'neu3', 'tnfsf11', 'flii', 'adcy3', 'hectd1', 'oaz3', 'pacs2', 'map2k6', 'tm9sf2', 'rgs7', 'raph1', 'sdsl', 'pnpla4', 'dctn1', 'sh3yl1', 'nhej1', 'cmtm6', 'cdk2', 'ficd', 'ddb1', 'srrd', 'plekhf2', 'ctso', 'pcdhb16', 'ms4a6e', 'tmlhe', 'chst6', 'furin', 'eno2', 'mta2', 'kcns3', 'sbk3', 'ndufaf4', 'dusp4', 'ccdc148', 'c4orf54', 'bcas2', 'sparc', 'slc20a2', 'rhobtb1', 'cit', 'igfl3', 'ccdc191', 'spry4', 'celsr3', 'gid4', 'aldh16a1', 'kmt2a', 'or52w1', 'heatr9', 'pigh', 'islr2', 'fignl1', 'ppm1h', 'atg14', 'wif1', 'tmem209', 'drd1', 'thoc2', 'mroh2b', 'nipal1', 'leng9', 'asgr1', 'klhl7', 'aip', 'pwwp3a', 'timm10b', 'nrxn2', 'smarcal1', 'krtap3-3', 'pex1', 'slc15a5', 'mt1m', 'bbs4', 'prkab2', 'synrg', 'pla2g6', 'htt', 'pinlyp', 'stau1', 'acot9', 'habp4', 'ppid', 'ndufb2', 'shank2', 'alpg', 'cdhr1', 'xrcc3', 'dr1', 'ctu1', 'gdf3', 'tff3', 'znf789', 'insc', 'cep250', 'gype', 'cacnb2', 'fxyd5', 'smap2', 'polr3k', 'prss58', 'cct6a', 'rep15', 'tspyl5', 'slc14a1', 'dxo', 'flcn', 'ppp1r7', 'irf4', 'sh3rf2', 'slc15a2', 'hsf5', 'slc35d1', 'dhrs7', 'ago1', 'cd40', 'cfap43', 'rrp15', 'selenom', 'znf850', 'sult4a1', 'zswim6', 'sez6', 'med16', 'trim22', 'cst5', 'znf157', 'tnfrsf25', 'asxl2', 'lgals3', 'frrs1l', 'ube2d2', 'ndufb1', 'dnajb8', 'actl10', 'papolb', 'c10orf82', 'znf44', 'cep55', 'capn11', 'slc52a3', 'angptl6', 'rph3al', 'robo1', 'cmpk1', 'septin12', 'f13b', 'wdr48', 'nrarp', 'gtf3c3', 'cul4a', 'marveld3', 'dus1l', 'ndufs7', 'atl2', 'retreg2', 'aig1', 'riox1', 'ct83', 'dtl', 'znf787', 'flrt2', 'cope', 'gsta1', 'col9a3', 'zbtb46', 'sec31a', 'krtap19-6', 'kpna7', 'c3orf70', 'st8sia2', 'mkks', 'gbp1', 'eral1', 'map1lc3a', 'zmpste24', 'elf2', 'or4a15', 'tamm41', 'or2c3', 'hibadh', 'nup160', 'fgf19', 'hmg20a', 'cd53', 'bcl7a', 'cubn', 'bpifb1', 'klhl9', 'psmb8', 'txlng', 'fbxo10', 'fam53b', 'ctla4', 'lclat1', 'nlrp13', 'serpine1', 'rad51b', 'hba2', 'anpep', 'ajuba', 'ilvbl', 'spryd3', 'apex2', 'dnah17', 'znf585a', 'neu4', 'mia', 'rsph10b2', 'yrdc', 'fhit', 'enkur', 'cfap73', 'ly96', 'tubgcp6', 'znf420', 'eaf2', 'c9orf78', 'parg', 'sprtn', 'casq1', 'hpse', 'prss37', 'cdc26', 'col19a1', 'nup93', 'znrf3', 'aebp2', 'ccdc190', 'slc10a5', 'rce1', 'ncr2', 'hsd17b4', 'meis2', 'rpgr', 'pycr1', 'col6a5', 'lrig3', 'lmbr1l', 'zbtb8a', 'siglec12', 'glipr2', 'oxsr1', 'rtl6', 'foxk2', 'palmd', 'kiaa0825', 'rpusd1', 'ehd2', 'ccdc40', 'cnot2', 'nup50', 'flnc', 'slc66a2', 'septin10', 'tnnc1', 'galr2', 'dnah8', 'ganab', 'tuba4a', 'cd248', 'trmt11', 'cpb2', 'arhgap27', 'krtap7-1', 'ybx1', 'rtp5', 'dlk1', 'usp18', 'rabgap1l', 'pex26', 'siglec11', 'slc25a43', 'cdh7', 'eef1a2', 'map3k2', 'tlr8', 'pex10', 'plod3', 'bmp1', 'dach2', 'rad51ap2', 'il17rc', 'mmp8', 'znf35', 'cgnl1', 'cbx5', 'ccdc57', 'ndufa1', 'nutm2e', 'apaf1', 'rpe65', 'ppdpf', 'mst1r', 'adarb2', 'tial1', 'mfn1', 'slc22a7', 'sorl1', 'ciao2b', 'ngrn', 'c4orf48', 'arfgef3', 'ubtd1', 'arl14ep', 'hoga1', 'atp6v1e2', 'brap', 'fam107b', 'wsb2', 'ccn1', 'txk', 'cln6', 'cd1b', 'ppp4r3b', 'meak7', 'ifi30', 'ncapd2', 'plekhm1', 'lhx4', 'muc22', 'ly6g6c', 'anp32b', 'wdfy2', 'apoe', 'nod1', 'chgb', 'kctd6', 'fbln7', 'tmed4', 'med8', 'sri', 'nsmf', 'fkbp11', 'flywch2', 'asb11', 'mad2l2', 'tmem144', 'dcp1a', 'c1orf53', 'morc4', 'nav2', 'mcm10', 'cep68', 'spock1', 'dnajc3', 'fem1a', 'gtsf1l', 'arhgap22', 'thsd1', 'myt1', 'tex44', 'dpp3', 'thsd7a', 'nhlh2', 'fkbp6', 'rab3ip', 'trabd2a', 'slc37a4', 'trnt1', 'helq', 'tdrd6', 'ms4a5', 'tmprss5', 'rsl24d1', 'smpd2', 'ribc2', 'lama2', 'klhl8', 'lztr1', 'ppp1r18', 'adamtsl4', 'klhdc9', 'pip5kl1', 'nsd1', 'ndfip1', 'il18rap', 'tpk1', 'srcin1', 'f2rl2', 'nlrp11', 'fkbp5', 'clip2', 'c2orf73', 'irf1', 'c15orf48', 'asb13', 'tor3a', 'pdcd2l', 'ephx3', 'foxl2nb', 'pcdh12', 'vn1r4', 'stk17a', 'sh3bp2', 'gosr2', 'amtn', 'mybpc1', 'paqr6', 'cga', 'ablim1', 'acvrl1', 'nptx1', 'pde4c', 'nmur1', 'lpxn', 'dact1', 'jdp2', 'rlim', 'kcna7', 'adra2c', 'klhdc2', 'ranbp3', 'tspan15', 'rbm24', 'mpv17', 'dhx8', 'ptgdr', 'eri3', 'efr3a', 'cdk15', 'arntl', 'ddias', 'mgst1', 'rpp25l', 'znf493', 'c10orf53', 'cybb', 'siglec10', 'smarca2', 'hsd17b10', 'cep85', 'col9a2', 'smim19', 'defb128', 'nlrp3', 'ppp1r13l', 'rnf44', 'adam30', 'klrb1', 'smim38', 'abca3', 'dpf2', 'il26', 'ric8a', 'grk7', 'wrap53', 'smad2', 'c1orf141', 'gnat1', 'zdhhc20', 'gucy1a1', 'slc41a1', 'agpat1', 'vps8', 'ttc16', 'tas2r8', 'olfm2', 'srebf1', 'slc48a1', 'colgalt1', 'itpa', 'krtap15-1', 'tmem128', 'dthd1', 'taf8', 'madcam1', 'rpap2', 'fcf1', 'apol3', 'tatdn1', 'hfm1', 'epx', 'unc119b', 'ppm1a', 'sipa1l1', 'myh7b', 'ccdc121', 'lmntd2', 'dach1', 'zcwpw1', 'grp', 'mier2', 'itk', 'hacd3', 'znf735', 'sult1a1', 'crhr1', 'nfkbiz', 'gp2', 'pmch', 'atp7a', 'ccdc9', 'spata12', 'rabep2', 'zcwpw2', 'dydc1', 'rassf10', 'ceacam1', 'rbbp7', 'ttr', 'c17orf113', 'cdkn2d', 'ddit3', 'hsfx3', 'jmjd4', 'b3gnt9', 'acaa1', 'arih1', 'ism2', 'nfkb2', 'en2', 'trim50', 'macrod1', 'tm4sf18', 'kcnt2', 'or2t6', 'cnr2', 'mon2', 'lrrn4', 'supt4h1', 'cyb5d2', 'nr4a2', 'pepd', 'cish', 'rpa4', 'iqsec1', 'tpcn1', 'znf99', 'foxp1', 'syne1', 'npr2', 'sec61b', 'thbd', 'hnf4a', 'fcrl4', 'styx', 'atp1b1', 'gtf2h5', 'lrrc74b', 'znf140', 'ssu72', 'commd5', 'erlin1', 'nptxr', 'edc3', 'odf3l2', 'sphk2', 'znf136', 'c19orf12', 'mttp', 'c1ql1', 'dennd1b', 'sumf2', 'wdr59', 'il20', 'plcd4', 'nit2', 'pdcd7', 'atp6v0a1', 'sncg', 'spatc1l', 'anxa3', 'lemd1', 'slc12a9', 'pdzd8', 'ppa2', 'itgb1bp2', 'akr1b1', 'exosc7', 'trpc6', 'amacr', 'npat', 'flg', 'chst12', 'cdx2', 'il9r', 'mctp1', 'safb', 'ankhd1', 'myd88', 'rbl1', 'slc35a1', 'man2a1', 'tp53aip1', 'mmrn2', 'trerf1', 'znf385d', 'atp8a1', 'mboat7', 'ccdc170', 'myl6', 'ift52', 'cpsf6', 'bcl3', 'aldob', 'pigz', 'fam172a', 'steap1', 'gen1', 'grem2', 'carns1', 'ppp1r35', 'abcc4', 'ptpn21', 'thbs1', 'pitx1', 'kpna4', 'armc6', 'adrb1', 'commd8', 'hadh', 'sorcs3', 'acsf2', 'ptpra', 'arhgef7', 'ccdc116', 'podnl1', 'rnasek', 'kiss1', 'nckap5', 'pdyn', 'trpc5', 'slc38a11', 'scn2a', 'hemgn', 'kdm2a', 'stxbp5', 'arg2', 'kdm8', 'gabrq', 'smc6', 'cdkl4', 'ppp2r1a', 'abo', 'slc39a3', 'panx1', 'krtap10-3', 'pik3cb', 'znf131', 'gpld1', 'bpifb4', 'sec11a', 'apobec3c', 'lrrc28', 'or52n2', 'tsks', 'pcyt1b', 'prmt6', 'st3gal6', 'or7a17', 'dcp2', 'c2cd6', 'uso1', 'ppp3r2', 'lmod1', 'sp2', 'cysltr2', 'zscan9', 'znf736', 'slc1a2', 'rab3c', 'gh1', 'syt3', 'otof', 'fabp7', 'znf135', 'etv2', 'atg2b', 'zbtb18', 'cds1', 'kif18b', 'snrpb2', 'tead4', 'rtn4', 'abcg1', 'ms4a2', 'c1orf109', 'arfgef2', 'lenep', 'bahd1', 'gnpda1', 'yjefn3', 'fbxo7', 'nrg3', 'ina', 'tent4b', 'tbx21', 'iqcb1', 'znf106', 'sh2d1b', 'hcrtr1', 'emc4', 'rad54b', 'slc7a3', 'fabp5', 'ptbp3', 'krtap5-3', 'anxa2r', 'akap7', 'sppl2c', 'mstn', 'vn1r1', 'slc17a7', 'or8h2', 'ctag2', 'acat1', 'tdg', 'cep104', 'aqp4', 'ddx39a', 'c1orf21', 'isca2', 'sim2', 'smim9', 'rxra', 'fut1', 'ndufa6', 'sptbn1', 'ubfd1', 'enho', 'phf23', 'ilf3', 'idi2', 'blzf1', 'c8orf58', 'fam227a', 'slc16a14', 'ptk2b', 'efnb1', 'lonrf3', 'mybbp1a', 'bag4', 'cmpk2', 'tuba1a', 'lcmt2', 'or56b4', 's100a12', 'gsk3a', 'slc6a9', 'znf253', 'impg1', 'rrp12', 'pfn2', 'hpcal1', 'sema7a', 'c19orf73', 'ccdc166', 'gria4', 'lyz', 'pyurf', 'def6', 'wac', 'cpxm1', 'ppia', 'gask1b', 'ephx1', 'erich6', 'csf2', 'shb', 'ndufa11', 'mid2', 'abcd1', 'dmc1', 'clec3b', 'lmbrd2', 'hoxb8', 'scimp', 'katnb1', 'cyb5b', 'ccdc153', 'homer3', 'triap1', 'mcm6', 'ehmt2', 'ahcyl1', 'chst10', 'fzd10', 'atp1b2', 'nyap2', 'fam24a', 'ago4', 'ints14', 'znf518b', 'dlg2', 'znf609', 'abca2', 'slc12a5', 'klhdc7b', 'ciz1', 'nefm', 'cops2', 'arap2', 'tigd1', 'camkk1', 'or2s2', 'or6n2', 'psme3', 'znf414', 'actr1a', 'rpap3', 'caskin1', 'armcx1', 'lrrc25', 'cd58', 'fancd2os', 'pof1b', 'hoxa4', 'pgrmc1', 'cavin4', 'klrg1', 'selenow', 'fer', 'stard3', 'clcn3', 'chchd2', 'ankrd18b', 'taf12', 'magoh', 'irak1bp1', 'slc27a5', 'kif16b', 'lgi4', 'jam2', 'or10a3', 'gpr119', 'glyatl3', 'bpifb6', 'nek2', 'socs7', 'poldip2', 'recql4', 'gtpbp1', 'adam17', 'akr1c8p', 'dnah14', 'tsbp1', 'mettl17', 'orai1', 'akap8l', 'sclt1', 'rnf185', 'nrg2', 'znf774', 'elp4', 'dennd5b', 'tmem71', 'kctd9', 'mpzl3', 'fgd4', 'thap12', 'rundc3a', 'znf507', 'lin7c', 'lman1', 'tifa', 'galr1', 'epha10', 'gpr39', 'mdfi', 'c2cd4b', 'rrp36', 'cluap1', 'slco1a2', 'psmg1', 'smyd2', 'ndufa8', 'cdk8', 'ifng', 'acadl', 'trim54', 'mapk8ip1', 'pnma8a', 'pknox1', 'abhd1', 'rac2', 'sardh', 'dlat', 'gypa', 'mylip', 'foxb2', 'pcdhb7', 'parp8', 'adamts4', 'ntmt1', 'nadk', 'cntn6', 'exosc9', 'ccnl2', 'washc4', 'rnf180', 'adcy9', 'igsf6', 'cfap20', 'ank3', 'slc22a3', 'hsd17b2', 'mapkapk3', 'mt1h', 'dipk1b', 'il12a', 'usp15', 'aldh1a3', 'mroh1', 'fgfbp3', 'nkd1', 'gmppa', 'pkd1l1', 'nuak2', 'riok1', 'jup', 'c14orf28', 'nckap1', 'rbm12b', 'tmem69', 'pdcd6ip', 'ptdss1', 'aph1a', 'eif4ebp1', 'golga7', 'znf16', 'exoc5', 'nedd1', 'smad7', 'rasd2', 'trmt12', 'tmeff2', 'oxnad1', 'usf3', 'ufsp2', 'entpd5', 'mpl', 'csad', 'aqp5', 'pygm', 'gmcl1', 'ndufc2', 'trpv1', 'csf3r', 'znf70', 'omg', 'brinp3', 'fam193a', 'fam81b', 'znf655', 'mroh7', 'mtdh', 'col21a1', 'vcpip1', 'arl11', 'map3k9', 'arhgap28', 'znf565', 'lamtor3', 'c8orf37', 'hells', 'cfp', 'plekha6', 'pym1', 'acap1', 'dazap1', 'dcaf13', 'gnl2', 'ccpg1', 'rad51d', 'trim46', 'tnfrsf10d', 'znf267', 'lhx8', 'cenpx', 'bspry', 'golga5', 'snupn', 'syf2', 'kif1a', 'tmed5', 'tex52', 'rab21', 'cenpm', 'znf688', 'mlycd', 'tmem249', 'ntf4', 'adgrg4', 'fam114a2', 'rbm48', 'setbp1', 'axdnd1', 'skil', 'gpr176', 'aprt', 'lgr5', 'cst9', 'kcnj9', 'lax1', 'znf341', 'gpr35', 'hpn', 'rnaseh2b', 'ankra2', 'atic', 'galnt15', 'gk5', 'pfdn5', 'plek2', 'smim10', 'c1orf115', 'bnip5', 'csmd2', 'xg', 'wnt2', 'ryr1', 'glis2', 'lce5a', 'exoc3l1', 'axin2', 'tceal8', 'azu1', 'cps1', 'arf4', 'znf281', 'aass', 'hpgds', 'slc14a2', 'abca4', 'ptx3', 'napb', 'ccdc73', 'fate1', 'septin3', 'cmas', 'nkg7', 'tigd5', 'c20orf85', 'pramef6', 'camk4', 'tusc3', 'mad1l1', 'ppm1d', 'sertm2', 'dlg4', 'epha5', 'mzb1', 'stra8', 'znf66', 'zswim9', 'tex13d', 'cfap47', 'znf254', 'sash3', 'nme6', 'tox4', 'gimd1', 'mff', 'proca1', 'nck2', 'phka2', 'exo1', 'arf1', 'bloc1s1', 'tmem116', 'med6', 'stac2', 'cdx4', 'kansl1l', 'tcim', 'usp6', 'eva1c', 'rbm10', 'dtwd2', 'cyb561d1', 'kbtbd4', 'krt74', 'filip1l', 'cd300lg', 'gria1', 'tfap2b', 'taar6', 'fabp4', 'slfn12', 'xylt1', 'trim37', 'pdgfb', 'zpld1', 'dhcr24', 'tyw1b', 'mapk15', 'hacd4', 'krt36', 'b3gat2', 'lrrc58', 'cfhr3', 'cep162', 'phf14', 'cenpe', 'phkg1', 'cenpt', 'prdm6', 'tnfrsf4', 'mettl8', 'zbtb1', 'znf540', 'angpt4', 'ntn1', 'ogg1', 'wdr75', 'adprhl1', 'msmp', 'tmem38a', 'ldhal6a', 'npepl1', 'nedd9', 'znf827', 'scygr4', 'ccnjl', 'znf207', 'defb131b', 'tmem11', 'ankrd34c', 'acin1', 'spatc1', 'cdh5', 'mpzl2', 'gnb1', 'arhgef11', 'slc6a6', 'b2m', 'tmigd2', 'xrcc6', 'npsr1', 'epcam', 'ankrd55', 'bub1b', 'nifk', 'sema3c', 'capn2', 'cldn10', 'tmem108', 'nfic', 'selenos', 'tmem131', 'znf772', 'ubiad1', 'cebpa', 'eif1ad', 'zfp92', 'otop2', 'dock5', 'fli1', 'prlh', 'msmo1', 'klk2', 'aqp3', 'tmem52b', 'strn4', 'card10', 'kcnj2', 'sppl3', 'pcdhb14', 'gml', 'slc10a7', 'csgalnact2', 'tmem14a', 'pabpn1l', 'rac3', 'timm13', 'cecr2', 'crim1', 'mocs2', 'ndufb9', 'morn2', 'dpep3', 'dph1', 'rcn2', 'chm', 'abcg2', 'thoc7', 'sugt1', 'itpr1', 'znf90', 'clns1a', 'dennd6a', 'dpyd', 'lysmd1', 'oas1', 'znf776', 'kcnk7', 'coq7', 'gabrr1', 'rdx', 'gtf2b', 'dclre1b', 'kcnj1', 'fbxw8', 'rhbdl1', 'krbox4', 'rdh5', 'mboat1', 'ttc29', 'llph', 'plpp2', 'obscn', 'impg2', 'lamtor4', 'zscan18', 'lce3a', 'or5d18', 'dixdc1', 'tom1l2', 'txndc9', 'ddx18', 'hs6st1', 'col23a1', 'vwf', 'nsun3', 'pdia2', 'nags', 'r3hdm4', 'slc25a41', 'dcdc2c', 'ift46', 'wnk3', 'nrn1l', 'znf646', 'echdc2', 'eefsec', 'mga', 'tmem178a', 'znf558', 'st8sia4', 'maco1', 'pfdn2', 'or2g2', 'slc15a1', 'art3', 'tmem230', 'avpr2', 'prdx5', 'ceacam20', 'abcf1', 'coq4', 'scn8a', 'rasd1', 'krt24', 'cry1', 'fbxw4', 'or52b4', 'plekhg3', 'cxcl5', 'atp12a', 'cyp4z1', 'rhobtb3', 'or10g8', 'e2f7', 'rhbdf2', 'entpd4', 'kiaa0319l', 'aipl1', 'rela', 'mzt1', 'rgs16', 'slc25a32', 'greb1', 'slc6a15', 'atp2c2', 'fbxl18', 'igfbpl1', 'rnf175', 'hdac6', 'phf1', 'ehhadh', 'klhl22', 'rabgef1', 'ciita', 'slc26a7', 'plekhj1', 'gpr31', 'fyco1', 'camkv', 'col16a1', 'habp2', 'inava', 'piwil4', 'utp4', 'znf304', 'shroom1', 'arhgap42', 'bace1', 'fam174b', 'rcor3', 'gfod2', 'znf490', 'fxyd7', 'lims2', 'bicra', 'usp33', 'prima1', 'znf98', 'snapc2', 'psmd11', 'gjb2', 'ccer2', 'insrr', 'or2t10', 'wdr81', 'scn10a', 'hoxd9', 'cmc1', 'pklr', 'dcdc1', 'agbl2', 'leng1', 'zbtb11', 'cd180', 'sema4c', 'zmiz2', 'igsf8', 'nlgn3', 'kdelr2', 'lgmn', 'taf1c', 'os9', 'tor4a', 'casp9', 'ubtd2', 'rtn4rl1', 'nr2e3', 'cdo1', 'med11', 'gnal', 'lhcgr', 'bmpr1a', 'acsl4', 'tmem238', 'b3gat1', 'adgrd2', 'nln', 'znf41', 'rapgef3', 'ndufb3', 'gnb3', 'srrm1', 'cblc', 'pxmp2', 'tars2', 'adipoq', 'socs4', 'ano9', 'sec22a', 'ggt1', 'tomm34', 'srcap', 'znf550', 'ddah2', 'mfsd4b', 'pop4', 'tgm3', 'cd300lb', 'slc2a2', 'fuca1', 'ccn4', 'vldlr', 'cep152', 'fstl5', 'znf530', 'ankrd17', 'myb', 'ajm1', 'tcof1', 'shroom2', 'dmwd', 'unc5cl', 'slc2a14', 'stx6', 'rgs9bp', 'ifna4', 'nusap1', 'znf80', 'glud1', 'casd1', 'tuba4b', 'kctd17', 'syp', 'hapln3', 'ache', 'map2', 'tctn2', 'rnase3', 'ccdc88c', 'spib', 'acox3', 'hpf1', 'patl1', 'frs3', 'eef1e1', 'slc31a1', 'eea1', 'taz', 'apol6', 'ptprt', 'nim1k', 'adcy4', 'dhx9', 'cdk2ap1', 'arrdc2', 'pdcd6', 'amer3', 'sumo2', 'inka2', 'prr18', 'aebp1', 'or10g2', 'atp6v1fnb', 'rab4b', 'znf600', 'xpr1', 'dip2c', 'lyar', 'slc45a1', 'irf2bp1', 'hyou1', 'ibtk', 'atf2', 'znf720', 'slc34a2', 'chmp4c', 'plekho2', 'defb136', 'stam', 'vezt', 'rftn2', 'gcfc2', 'znf547', 'adam28', 'hes6', 'magix', 'fam124a', 'znf713', 'pou6f2', 'notch1', 'ccdc130', 'c11orf97', 'ankrd26', 'gsdmc', 'lrrc75b', 'c12orf40', 'tph2', 'gstt4', 'ydjc', 'kif3b', 'prickle3', 'osmr', 'il10', 'rab44', 'slc28a2', 'alyref', 'bub1', 'nfe2l2', 'pold1', 'zbtb34', 'usp31', 'acer3', 'c6orf62', 'uprt', 'gckr', 'kcna5', 'smagp', 'hsd11b1', 'edn3', 'fuom', 'clstn1', 'eif4e1b', 'clec16a', 'atoh8', 'c10orf95', 'ice2', 'ccdc50', 'znf560', 'fam151b', 'tbc1d9b', 'armh2', 'obp2a', 'slc25a21', 'thada', 'cnbd1', 'prr23c', 'trim45', 's100a14', 'lztfl1', 'cxcr1', 'rasa2', 'or12d2', 'tmem87a', 'phospho1', 'serpinb2', 'ftsj1', 'akap11', 'usp50', 'asb16', 'xcl2', 'enpp7', 'map9', 'angptl2', 'cript', 'phc1', 'tsc2', 'krcc1', 'paip2', 'rln3', 'or2c1', 'siglecl1', 'hyal2', 'mt-cyb', 'cenpa', 'clec1a', 'pank2', 'ttc38', 'thbs4', 'gja4', 'znf398', 'fpgt', 'ccdc91', 'atp13a3', 'sav1', 'gbgt1', 'ppif', 'cdcp1', 'ap2m1', 'ms4a8', 'ostc', 'tmem145', 'astl', 'meis1', 'tshr', 'irak4', 'dnajc8', 'gtpbp8', 'prg3', 'adam20', 'tmem30a', 'vamp8', 'mlf2', 'cdkn1b', 'abhd3', 'mogat1', 'fam76b', 'snw1', 'col15a1', 'or8b4', 'ubxn2a', 'vbp1', 'ubb', 'adra1d', 'rnf167', 'foxn1', 'pth2r', 'sparcl1', 'ppp5c', 'stkld1', 'tmem127', 'arpc5l', 'acot6', 'colq', 'pcdha10', 'ash1l', 'spink1', 'pou4f2', 'cspg5', 'vsx2', 'actc1', 'hs1bp3', 'ccdc126', 'mmp9', 'odf2', 'fgf11', 'pafah2', 'ghrl', 'sftpa1', 'spata24', 'cyld', 'qrich1', 'nkd2', 'wnt1', 'hmmr', 'nudt18', 'srf', 'gtf3c4', 'rras2', 'ankrd6', 'maf1', 'itgb8', 'pdgfc', 'gsc', 'fndc1', 'mdga2', 'mln', 'pdzk1', 'tmc2', 'meikin', 'c1orf43', 'espl1', 'ccdc201', 'mark3', 'epdr1', 'fam178b', 'atp5me', 'chrna2', 'adam9', 'ano10', 'neurl3', 'pxdc1', 'kat2b', 'dok4', 'pcdhb9', 'klhl4', 'rsph4a', 'gspt1', 'aldh8a1', 'thbs2', 'mlxipl', 'stk3', 'lonp1', 'inpp4a', 'dnajc13', 'ube3d', 'znf234', 'tpst1', 'cdh13', 'znf365', 'ahcyl2', 'hkdc1', 'psmd2', 'scarb2', 'snrnp48', 'usb1', 'il7', 'tigit', 'fbxo33', 'grin2a', 'brip1', 'dcaf5', 'gprin3', 'hk2', 'pmepa1', 'eif3h', 'c18orf32', 'tmprss6', 'rsbn1', 'rbm12', 'adi1', 'crygd', 'acbd5', 'hspa4', 'ccsap', 'tcerg1l', 'entpd3', 'wdr70', 'slc35g1', 'e4f1', 'c16orf70', 'krtap3-1', 'tti1', 'dleu7', 'bmi1', 'tm2d1', 'wdr91', 'clic2', 'card9', 'fam189b', 'mrgprd', 'kcnk10', 'neurod4', 'daw1', 'kcna4', 'ash2l', 'tmed8', 'tmem159', 'rpusd4', 'tirap', 'slc25a39', 'ceacam19', 'acvr1c', 'gaa', 'rmnd5b', 'dusp22', 'rnf17', 'madd', 'erfl', 'snx27', 'rad54l2', 'tbpl1', 'impa1', 'or11g2', 'ano2', 'parp2', 'lzts2', 'clec18a', 'btg4', 'adm', 'coq8b', 'cisd1', 'naa30', 'slco3a1', 'rhoj', 'haus8', 'rtf1', 'lrig2', 'cyth4', 'hapln4', 'psph', 'mfsd8', 'zswim8', 'txnl4a', 'wdr53', 'nr2c1', 'glyatl1b', 'sth', 'ccdc102b', 'rbms1', 'oxr1', 'anapc1', 'slc43a2', 'ccser2', 'gpr65', 'qsox2', 'pebp4', 'orai2', 'b4galnt2', 'csag1', 'scn2b', 'ptrhd1', 'ppp1r3a', 'nsl1', 'esm1', 'c6orf47', 'nat2', 'kdm5a', 'mefv', 'ugt1a1', 'dusp21', 'folr3', 'dsc2', 'map3k12', 'cep112', 'cyp24a1', 'mt1e', 'bahcc1', 'nxpe3', 'slc22a1', 'clk2', 'mmp17', 'atp5f1e', 'cpne3', 'klk1', 'mybphl', 'prb3', 'strn', 'pa2g4', 'or4f21', 'ivd', 'gdpgp1', 'rgl1', 'ncoa1', 'prkce', 'pth1r', 'atp2a2', 'prr20g', 'znhit1', 'tecrl', 'daglb', 'zdhhc22', 'ptrh1', 'mest', 'laptm4a', 'allc', 'nbl1', 'camta1', 'wwc2', 'nfe2', 'c2orf50', 'ptpn7', 'or4k14', 'hlx', 'serpina12', 'kctd1', 'tshz1', 'plagl2', 'sh2b1', 'khdc1', 'znf18', 'fbll1', 'btn2a1', 'nell2', 'tra2b', 'bbof1', 'xkr6', 'sestd1', 'cldn34', 'elf5', 'tex46', 'psmb11', 'ces1', 'cib1', 'tmem237', 'ubac2', 'tnmd', 'etv7', 'gmpr2', 'brd9', 'c11orf53', 'aste1', 'spin3', 'tmsb10', 'stim2', 'cib4', 'umodl1', 'acot7', 'spocd1', 'egln1', 'hey2', 'strada', 'or9k2', 'lama5', 'tgm1', 'idh2', 'fhod3', 'podxl2', 'xkr4', 'poc5', 'pcdha13', 'kcnk18', 'ell', 'nbpf19', 'c9orf116', 'hoxa10', 'ccl15', 'or5an1', 'tmem102', 'b4galt4', 'wwp1', 'mknk2', 'nap1l3', 'tnfsf4', 'znf567', 'gpalpp1', 'vwa5b2', 's100a5', 'npbwr1', 'arap1', 'frs2', 'syn3', 'twist2', 'reep6', 'tprg1l', 'hp1bp3', 'ndufc1', 'lama4', 'or1b1', 'hoxb9', 'gpatch1', 'tab3', 'st8sia3', 'acp4', 'znf285', 'tradd', 'arsd', 'hgsnat', 'camk2g', 'slc30a2', 'gabra4', 'cnn3', 'mfap3', 'ndufa10', 'pias3', 'letm2', 'grik2', 'oc90', 'tgfbrap1', 'grem1', 'odam', 'gjb5', 'tmcc2', 'faim', 'tmem255b', 'armc9', 'tmbim4', 'snx11', 'tspan18', 'cplane1', 'fus', 'nbea', 'appbp2', 'map3k7', 'znf354a', 'apol1', 'tgs1', 'znf880', 'clasrp', 'foxo4', 'uck2', 'cracr2a', 'ddah1', 'hsd17b13', 'il4i1', 'tal1', 'sh3glb1', 'heatr5b', 'elp3', 'smkr1', 'pbld', 'or51e1', 'mettl4', 'klrf2', 'ankrd13c', 'bpifc', 'zbtb37', 'b4galnt4', 'hephl1', 'bmp15', 'abcb1', 'pno1', 'ctsv', 'samd7', 'qtrt1', 'rasa3', 'vsx1', 'gnb1l', 'ccdc87', 'smarcc2', 'scart1', 'or2at4', 'inf2', 'saraf', 'taar1', 'ankzf1', 'zbtb16', 'baiap3', 'ackr3', 'slc6a4', 'pkdrej', 'ctif', 'fzd2', 'hdac8', 'pcp2', 'mxra5', 'spty2d1', 'smc5', 'slc39a5', 'stim1', 'rnf166', 'hbb', 'top3a', 'cd177', 'heatr4', 'lyst', 'rrp1b', 'plekhg4b', 'dcaf8l1', 'vmp1', 'myo1g', 'casz1', 'rxylt1', 'il13ra1', 'zbtb7c', 'sycp2', 'cd38', 'plin3', 'cyb5rl', 'hrh1', 'p2rx3', 'tagln', 'stat5b', 'prex1', 'phox2a', 'klf2', 'prss38', 'taf9b', 'armcx5', 'snai1', 'apeh', 'piwil1', 'nap1l5', 'ppp1r9a', 'cideb', 'cyth3', 'zbed4', 'cip2a', 'ints10', 'dhx38', 'c1galt1c1', 'id2', 'krt78', 'pars2', 'tmem202', 'csf2ra', 'slc12a1', 'or5k2', 'kcng2', 'pla2g2a', 'slc22a15', 'aldh1a2', 'adamtsl5', 'cdh26', 'or11a1', 'tmem252', 'glipr1l2', 'efna3', 'rtbdn', 'nipsnap2', 'sctr', 'pex11a', 'zcchc3', 'cblif', 'tmem259', 'or2t4', 'glp2r', 'ttc14', 'rbm23', 'bves', 'celf1', 'pcdhb8', 'tnfrsf19', 'svip', 'cops7b', 'srpra', 'rbm26', 'sh2d3c', 'itgb3', 'prr22', 'kank1', 'hoxc13', 'eya2', 'bclaf3', 'angptl5', 'fam205a', 'cox19', 'jade3', 'oprl1', 'xxylt1', 'usp35', 'slc30a3', 'nck1', 'foxi2', 'ezhip', 'tcf19', 'adam12', 'dbn1', 'c2cd5', 'stx8', 'clybl', 'efhd2', 'or2ag1', 'or6c68', 'tex2', 'atf5', 'dgkz', 'cdca3', 'stx5', 'ube2q1', 'clec7a', 'prkaa2', 'kif17', 'hyal3', 'cbl', 'znf101', 'pla2g5', 'mfsd10', 'dnajc28', 'znf350', 'ltbp2', 'unc50', 'olfml3', 'thumpd2', 'slc45a2', 'hoxc4', 'rarg', 'polr1e', 'spin1', 'dsg4', 'zc4h2', 'bst1', 'naa80', 'ltbp4', 'ubl4b', 'snrpg', 'kri1', 'pou4f3', 'dipk1a', 'glra3', 'nlrp2b', 'ccdc89', 'crtam', 'cand1', 'gnaq', 'znf587', 'kcmf1', 'rwdd2a', 'lmln', 'cdk2ap2', 'gga1', 'tmem183a', 'notch3', 'f5', 'prdm2', 'rufy2', 'hlcs', 'nectin3', 'pus7', 'rgs6', 'znf326', 'alx3', 'aim2', 'trip6', 'pcdha6', 'tas2r42', 'dsg1', 'saxo2', 'wdr87', 'znf878', 'arfgef1', 'chchd3', 'kif11', 'septin7', 'agpat5', 'camlg', 'znf425', 'gas6', 'fitm1', 'sergef', 'dhx35', 'ubap2l', 'dcp1b', 'sacs', 'krt83', 'elfn1', 'daxx', 'lypd5', 'grin2b', 'spag8', 'rhof', 'mtcl1', 'st7', 'sh3kbp1', 'sfxn2', 'usp5', 'or4d6', 'fam13c', 'ang', 'oxt', 'gpr3', 'cd84', 'clec2l', 'znf571', 'mtm1', 'btg2', 'tmem167a', 'cxcr6', 'wdr5b', 'lrch4', 'krbox1', 'siae', 'dohh', 'c8orf88', 'tyw5', 'ypel1', 'leo1', 'pde8a', 'klhl3', 'fam9c', 'setd1a', 'usp22', 'pemt', 'cebpzos', 'bcl6', 'adamts19', 'nkx2-6', 'kbtbd13', 'kif12', 'gal3st3', 'cyp4v2', 'efemp2', 'barx2', 'cxcl3', 'mettl16', 'lman2', 'caskin2', 'cmc4', 'galnt18', 'tp63', 'hacl1', 'nup43', 'atp6v1c1', 'gns', 'xpo4', 'tp53inp2', 'fbxl8', 'klk15', 'rfpl1', 'ehbp1l1', 'fkbp8', 'etnppl', 'pla2g7', 'zfp3', 'edaradd', 'scand1', 'pigg', 'tmem262', 'col25a1', 'znf358', 'slc39a8', 'pias1', 'tmprss11a', 'klc2', 'oca2', 'cyp1a1', 'lrrc41', 'ren', 'gask1a', 'fam199x', 'tmem225', 'ap1g2', 'ppp2r2a', 'bmp7', 'npy2r', 'stc2', 'gpkow', 'bcl2l11', 'rgs12', 'otop1', 'hpcal4', 'dok1', 'miga1', 'tnf', 'bckdk', 'igfbp5', 'nmt1', 'zc3h7a', 'sage1', 'pik3r5', 'tspyl2', 'kcne3', 'dusp14', 'ldb2', 'dync1h1', 'foxd4l6', 'myo16', 'sh3bp5l', 'krt6b', 'hoxc10', 'arhgef4', 'mtrr', 'or10q1', 'ogfr', 'flacc1', 'rnf183', 'ctr9', 'zc3h7b', 'syngr1', 'slc35f2', 'ppargc1a', 'reps1', 'b3gnt6', 'ces2', 'yipf6', 'mzf1', 'coch', 'comtd1', 'pfn1', 'fam83f', 'nfu1', 'or2m4', 'c11orf95', 'bcl2l12', 'tmem210', 'ppcs', 'rab40c', 'kiaa1143', 'dnaaf5', 'nsun6', 'gpr68', 'ncald', 'tro', 'rho', 'emcn', 'dok6', 'krtap25-1', 'cybc1', 'cdkn2b', 'rpp21', 'itpr2', 'vegfd', 'pdgfd', 'mdc1', 'slc37a2', 'socs3', 'bex1', 'il24', 'cmtm4', 'zbtb32', 'erg28', 'cobll1', 'tmem167b', 'chordc1', 'mapk12', 'rai2', 'plcb1', 'hormad1', 'il6r', 'tpd52l2', 'col5a3', 'zfand3', 'casp5', 'lratd1', 'pik3r3', 'dmrtc2', 'emb', 'atp11b', 'tomm6', 'gale', 'acyp1', 'ugt2b11', 'mpg', 'znf142', 'fabp1', 'chst14', 'ca5a', 'oaf', 'clnk', 'ythdf1', 'aadac', 'mageb16', 'isl1', 'znf672', 'srprb', 'henmt1', 'ckap2l', 'terf2ip', 'dusp28', 'ppp1r10', 'dstn', 'ccdc61', 'pigu', 'lamb3', 'miip', 'nfx1', 'or5l2', 'ogn', 'samsn1', 'ntrk1', 'cpsf4l', 'sdhb', 'adamts14', 'hdac2', 'kiaa1549', 'efcab11', 'tnrc6c', 'ccnb1', 'cxorf65', 'itfg1', 'hspa12b', 'tob1', 'ccdc117', 'btbd17', 'arsb', 'pkia', 'or4k15', 'cap1', 'tspan5', 'gsta2', 'mark2', 'l3mbtl2', 'mettl7b', 'or2t8', 'pcmtd1', 'gdf15', 'syde2', 'aspa', 'fzr1', 'lyzl6', 'prickle2', 'prdm9', 'slco2b1', 'usp44', 'f2rl1', 'rell2', 'dnaaf4', 'pcdhb1', 'ppp1r32', 'krt27', 'prpf40b', 'cyp2s1', 'gusb', 'snx33', 'dapp1', 'sod1', 'cpm', 'ikzf5', 'agr2', 'tmem179', 'ppox', 'abcg4', 'stk36', 'them4', 'gtf3c6', 'med28', 'plcz1', 'bcl6b', 'raet1g', 'upf2', 'mapk3', 'pdp2', 'cd52', 'otud3', 'terf1', 'gsto1', 'znf747', 'socs6', 'il11', 'sat1', 'c9orf50', 'sema4d', 'cfb', 'ska1', 'ttyh1', 'hps3', 'ankrd9', 'nipal2', 'prss8', 'trmt112', 'ankrd28', 'tshz2', 'shmt1', 'tfap2a', 'rarb', 'shcbp1', 'hhatl', 'esrp1', 'itgb5', 'spx', 'marf1', 'papss1', 'mfhas1', 'fam104b', 'phykpl', 'larp1b', 'mto1', 'mllt3', 'supt20h', 'hhla1', 'c1qtnf3', 'rhov', 'gfod1', 'radx', 'tmed7', 'inpp5a', 'slc25a52', 'flot2', 'tmem45b', 'htr1a', 'sdf2', 'znf24', 'tbc1d12', 'bmp8b', 'prdm11', 'c16orf96', 'isl2', 'cry2', 'hgs', 'cfap57', 'frmd6', 'tspyl6', 'gpr107', 'dab1', 'gngt1', 'fmo2', 'igsf11', 'magea4', 'cdkn1c', 'rae1', 'kcnc2', 'tgfa', 'mtln', 'trim32', 'pigbos1', 'telo2', 'cryab', 'tmc4', 'stox2', 'kif14', 'lgals3bp', 'tmigd1', 'rhbdd2', 'mmp21', 'sec24a', 'c5orf47', 'rpp40', 'wdr5', 'kiaa0586', 'akap14', 'c1orf226', 'cd22', 'pm20d1', 'mybl1', 'aspn', 'prss12', 'dek', 'arhgap39', 'ccl16', 'ppp2r3b', 'tmem9b', 'zadh2', 'specc1l', 'zbtb8b', 'd2hgdh', 'bfsp2', 'adrb2', 'adh4', 'xpot', 'fam200b', 'gtpbp3', 'tnik', 'nufip1', 'hspa13', 'tmem120a', 'tbc1d16', 'psg9', 'pstpip2', 'arms2', 'yod1', 'pex16', 'sigmar1', 'slamf1', 'fcgr3a', 'c7orf26', 'ccl4l2', 'npnt', 'cntn4', 'med1', 'cdkn2c', 'mast3', 'ift80', 'smad5', 'ankrd1', 'a4gnt', 'psmd14', 'pcif1', 'gnb4', 'ralyl', 'muc12', 'tmprss13', 'or1n1', 'znf302', 'thg1l', 'btg3', 'plau', 'arl16', 'abcd2', 'kcng1', 'chid1', 'grik1', 'dync2li1', 'sec14l2', 'tmem131l', 'wdr36', 'zfand2a', 'tmem163', 'rcsd1', 'nr3c1', 'cox17', 'mgat4a', 'hoxa5', 'e2f4', 'upp1', 'pigs', 'crmp1', 'lcn10', 'znf205', 'slc33a1', 'spink5', 'cald1', 'drgx', 'gzmm', 'map3k10', 'rp2', 'zbtb43', 'rnase1', 'trim56', 'alox12b', 'nup133', 'atp6v1h', 'accs', 'cthrc1', 'gjc2', 'ntpcr', 'zc3h15', 'ormdl1', 'ptcd2', 'mss51', 'c1s', 'slc2a13', 'rln2', 'zdhhc5', 'sap18', 'spon2', 'abhd18', 'psrc1', 'ammecr1l', 'mapk8ip3', 'shc2', 'n4bp2l2', 'tesk2', 'krtap16-1', 'spdef', 'slc52a1', 'zdhhc19', 'znf800', 'slc5a1', 'ambra1', 'dbndd1', 'ttc33', 'rab17', 'map3k11', 'shc3', 'dhrs4', 'sirt5', 'znrf2', 'c5orf22', 'ube2ql1', 'fam234a', 'l3mbtl4', 'zbtb5', 'trmt44', 'apobec2', 'slc2a4rg', 'actr1b', 'col18a1', 'med4', 'kpna1', 'krt8', 'mageb4', 'apoc3', 'cfap97', 'ccdc159', 'fut9', 'exoc6', 'spindoc', 'ube2v1', 'myorg', 'poglut2', 'eif4e3', 'chek1', 'mad2l1', 'cdkn2aipnl', 'elf3', 'snapin', 'rgpd4', 'plekho1', 'cep70', 'polr2h', 'atg2a', 'slc25a30', 'fam24b', 'ank2', 'acot4', 'ppp4r3a', 'diaph1', 'or9g1', 'top2a', 'igfbp3', 'inca1', 'decr1', 'znf14', 'higd2a', 'rsu1', 'mcam', 'neurl1', 'rbpj', 'dimt1', 'c19orf53', 'ptpru', 'gpr85', 'ptpmt1', 'btnl2', 'ndst1', 'hsf2bp', 'plpp1', 'ankrd12', 'cfap97d2', 'treml1', 'wee2', 'gramd1a', 'yae1', 'lsm12', 'ammecr1', 'gpr45', 'gjc3', 'arl8a', 'rbm34', 'ms4a14', 'arhgdib', 'poc1b', 'ano6', 'slc2a11', 'tcp1', 'nlrp6', 'ticam1', 'ogfod2', 'fcgbp', 'emc8', 'il3ra', 'trappc2l', 'tsnaxip1', 'm1ap', 'hnrnpd', 'ccer1', 'tpm1', 'dhdh', 'tmem123', 'atg4c', 'plag1', 'fbln1', 'dscam', 'opn4', 'bcor', 'abhd12', 'htr3c', 'runx2', 'upf3b', 'wdr17', 'grk5', 'naa60', 'ica1l', 'ap5m1', 'grxcr2', 'pdzd4', 'galntl6', 'raver2', 'rbm41', 'pggt1b', 'strap', 'nr2c2', 'abcc1', 'dnaaf2', 'taok3', 'cebpd', 'cct4', 'tdrkh', 'zc3h8', 'sppl2b', 'rheb', 'fryl', 'nbn', 'fam166b', 'epsti1', 'ddx10', 'rcor1', 'tspan11', 'slc25a6', 'tmem260', 'pcmt1', 'iqub', 'fhod1', 'hmx1', 's100a4', 'hmgb2', 'gata2', 'zfr', 'mcl1', 'far1', 'cnpy2', 'hsp90b1', 'gstz1', 'xkr7', 'rasa4b', 'pus1', 'mtmr1', 'glb1l', 'tmub1', 'cntnap3', 'fam81a', 'cpn1', 'gstp1', 'cbx3', 'or5d16', 'galp', 'lsg1', 'nox4', 'npbwr2', 'osbp', 'atp6v1c2', 'evc', 'spdye4', 'clpp', 'taf1', 'smox', 'avpi1', 'ttc23', 'top1mt', 'plk1', 'dhx40', 'gpr25', 'klkb1', 'dpt', 'plk2', 'cdca2', 'c4b', 'c15orf62', 'rasgef1c', 'lrrc56', 'tmem47', 'ctnnal1', 'znf346', 'impdh2', 'gprin2', 'ralgps2', 's1pr3', 'pawr', 'cwf19l1', 'ankrd52', 'nceh1', 'prrc2a', 'coa5', 'rasal1', 'yipf2', 'capzb', 'cdc42ep1', 'tmeff1', 'tacc1', 'c2orf68', 'cfap70', 'lsm1', 'ube2h', 'adipor1', 'scgb2a1', 'tfpi', 'gna12', 'hpgd', 'pag1', 'trnp1', 'l2hgdh', 'inpp5b', 'myl12a', 'prom1', 'mboat4', 'lrrtm3', 'fbxo28', 'stam2', 'rassf3', 'lsm2', 'mib1', 'usp24', 'umad1', 'smco1', 'arhgef2', 'osbpl11', 'tbc1d7', 'nat16', 'scnn1b', 'gp5', 'klhl33', 'znf404', 'pltp', 'znf727', 'lelp1', 'mns1', 'tmem158', 'avl9', 'taf1d', 'elp2', 'zbtb45', 'gpr182', 'mfap2', 'purg', 'mt-nd5', 'syt9', 'sap30', 'gamt', 'jmy', 'nnmt', 'ttll6', 'znf32', 'klf13', 'sox5', 'als2cl', 'zpr1', 'ankrd62', 'coil', 'ocln', 'tmem161a', 'slc17a8', 'or7g2', 'plekha4', 'pck1', 'dusp7', 'ppp1r36', 'ifi44', 'hmsd', 'vps41', 'rsph3', 'slco1b3', 'cycs', 'gpr12', 'chmp1a', 'cyp4f12', 'cul5', 'msgn1', 'lin9', 'tnpo1', 'dyrk3', 'cep95', 'gpsm3', 'reep5', 'dpys', 'plac1', 'chst5', 'fahd2a', 'mmp2', 'lrrfip2', 'wfs1', 'impa2', 'mthfsd', 'hoxd10', 'commd3', 'borcs6', 'kbtbd7', 'ifi44l', 'ccnf', 'rerg', 'blm', 'ripply1', 'vrk2', 'zer1', 'slc25a10', 'capn7', 'adrm1', 'togaram2', 'krt86', 'pou2f2', 'rilpl1', 'naaa', 'myo1f', 'kirrel2', 'azi2', 'slc12a2', 'grik3', 'hoxa2', 'trim72', 'cwc22', 'pappa', 'znf134', 'otud4', 'ldlr', 'btc', 'pgm3', 'tspan8', 'zfp37', 'ins', 'asb8', 'lrrc15', 'lmntd1', 'sv2c', 'cep128', 'nell1', 'cltcl1', 'or2ap1', 'mpeg1', 'top2b', 'col17a1', 'znf585b', 'gramd1c', 'ly6e', 'dstyk', 'ints7', 'gls', 'fev', 'c12orf60', 'tbc1d10b', 'cd37', 'adamts1', 'ints13', 'cdk6', 'c19orf38', 'atf4', 'samd12', 'pla2g2c', 'gsta3', 'ergic1', 'fabp9', 'ssuh2', 'ube3b', 'pard6b', 'nlrp8', 'vpreb3', 'snrpf', 'mboat2', 'sh3gl2', 'sik2', 'slc35a2', 'dgkd', 'lamc3', 'ccz1', 'fgd1', 'tlk2', 'atat1', 'tgfbr3l', 'manea', 'c1qtnf1', 'eml4', 'slc2a12', 'abhd17b', 'cd2ap', 'fchsd1', 'rgmb', 'slc17a2', 'sertad2', 'stil', 'ier3', 'lrba', 'olig3', 'itga2b', 'cops3', 'mtmr14', 'lancl3', 'kcnc1', 'tapt1', 'nsun7', 'max', 'btn3a2', 'znf556', 'arl6ip4', 'plekhm3', 'bank1', 'smndc1', 'kmt5b', 'ndufaf8', 'txlna', 'pbx4', 'gm2a', 'or5d3p', 'cmtr2', 'c12orf73', 'plcxd1', 'lzts1', 'rtkn', 'fthl17', 'sdccag8', 'plcg2', 'tbxa2r', 'carf', 'nrbp2', 'ankrd66', 'znf608', 'dnhd1', 'psma3', 'mcm7', 'rfwd3', 'krtap5-6', 'stat3', 'nabp2', 'ppp1cc', 'cdh15', 'zfp28', 'frmd3', 'smtn', 'paqr8', 'dio1', 'ccdc28a', 'kbtbd12', 'nthl1', 'plekhg2', 'ndufb5', 'dtx2', 'barhl2', 'defb108b', 'aff3', 'vsig8', 'tas2r14', 'fam9b', 'ankdd1a', 'pex13', 'vps16', 'rgl2', 'cyp2a7', 'pdk1', 'arsj', 'otud7b', 'tut7', 'ubn2', 'alg9', 'rnps1', 'kptn', 'ctsb', 'dhfr2', 'aifm2', 'iars2', 'grk3', 'dbnl', 'pbx1', 'slc25a2', 'corin', 'nbpf11', 'serpinh1', 'xylt2', 'hps4', 'dhrs11', 'prrc1', 'myo1e', 'cd70', 'tprx1', 'lsmem1', 'tst', 'plaat4', 'scamp4', 'nab1', 'acap2', 'nedd8', 'lysmd4', 'matk', 'pum3', 'farp2', 'obi1', 'ces5a', 'eddm13', 'efhc2', 'c7orf61', 'ythdc1', 'tnfrsf17', 'hdgfl3', 'ncoa7', 'hint2', 'prl', 'tnfaip2', 'crym', 'sell', 's100a11', 'znf226', 'atad3a', 'gdi1', 'snx2', 'ctrb2', 'tifab', 'c1qtnf4', 'timeless', 'lrr1', 'psmg4', 'nectin1', 'ndufb10', 'bin1', 'kmt2c', 'ddit4', 'cdadc1', 'slc7a5', 'gmeb2', 'ext1', 'tmem26', 'slc18a2', 'hmgn4', 'rnf40', 'ddx21', 'fbxw9', 'rcor2', 'lrrc69', 'myrf', 'man1c1', 'znf583', 'hltf', 'ube2o', 'tgfbi', 'atoh7', 'lrrc31', 'casp10', 'myo15b', 'tom1l1', 'tbx5', 'hmcn2', 'pdzd11', 'aldh7a1', 'klf12', 'dnah9', 'galnt5', 'or1s1', 'spta1', 'acsm5', 'tex22', 'eddm3a', 'cnot1', 'ndel1', 'dnttip2', 'ptprn2', 'or56a3', 'clec3a', 'wnt2b', 'dedd', 'idua', 'capza1', 'ing3', 'syce1l', 'msh4', 'parva', 'ppcdc', 'prkd1', 'nr1i3', 'akt3', 'mas1l', 'phrf1', 'ankrd7', 'gins1', 'bcr', 'olfml2b', 'ndufb6', 'smim10l1', 'usp12', 'mettl21c', 'timp3', 'mcrip2', 'ssx3', 'cntrl', 'fzd7', 'znf670', 'cd302', 'ttll13p', 'snrk', 'arpc1a', 'pgr', 'cept1', 'mcf2', 'adamtsl1', 'siglec6', 'pxmp4', 'ercc6l', 'tmem59', 'psenen', 'rmnd1', 'plppr4', 'rgs20', 'asap2', 'c8orf33', 'cd300e', 'slc37a1', 'or5l1', 'muc3a', 'coro1b', 'gpc2', 'tgfb1i1', 'c20orf144', 'per3', 'creb3l1', 'ksr2', 'fmod', 'sp140', 'lpin3', 'cdrt1', 'or2i1p', 'crp', 'znf470', 'sft2d2', 'eci2', 'b3galt4', 'fbf1', 'tmem203', 'stk17b', 'tf', 'spem2', 'sp100', 'galk1', 'atp6v1g2', 'vps72', 'gapdhs', 'nek10', 'u2af2', 'ufd1', 'exo5', 'dhx16', 'cemip', 'guf1', 'exoc7', 'arhgap21', 'ppm1e', 'inpp5k', 'rtcb', 'nkx3-2', 'rbms3', 'c8g', 'c9', 'wdr54', 'fam91a1', 'ptgir', 'lgals9c', 'tcf3', 'emc10', 'inpp4b', 'pi4kb', 'smarca5', 'hes5', 'gmip', 'csnk1g3', 'masp1', 'lekr1', 'fcrl1', 'foxd2', 'spam1', 'zfyve27', 'spata1', 'gstm3', 'lss', 'exoc3l2', 'map7d3', 'ilkap', 'znf664', 'eif1b', 'uchl1', 'catsperz', 'apba2', 'crtc1', 'syvn1', 'c22orf42', 'pou5f2', 'or5h2', 'cldnd1', 'il34', 'znf763', 'plcb4', 'gcat', 'catsper2', 'setd4', 'rnf115', 'xpo7', 'ulk3', 'fam222b', 'eef2kmt', 'mettl1', 'stxbp4', 'asah1', 'tmem53', 'macc1', 'psmc2', 'wdfy1', 'cdk7', 'kat6b', 'krtap27-1', 'tet3', 'vps4a', 'klhl29', 'rfxap', 'ankrd35', 'npas1', 'ripk3', 'dhx34', 'colgalt2', 'cnfn', 'tfdp3', 'asrgl1', 'trmt61b', 'mcat', 'abcc5', 'bpgm', 'kcnip3', 'glis3', 'znf586', 'znf415', 'krtap5-1', 'cabp7', 'svil', 'chrfam7a', 'nlgn1', 'hdgfl1', 'gpr26', 'def8', 'eva1b', 'pde6g', 'pik3r1', 'slc25a22', 'aldh3a2', 'znf416', 'dscc1', 'pacsin2', 'c6orf15', 'psat1', 'ppih', 'sigirr', 'tmem50b', 'tatdn2', 'synpo', 'smarcd2', 'pdc', 'cd44', 'ankef1', 'adhfe1', 'dcn', 'sun1', 'tceal1', 'pcdh10', 'frat1', 'endog', 'fcgr2b', 'polm', 'fam181a', 'sgcz', 'ssx2ip', 'eloa', 'eif4h', 'nom1', 'clec2a', 'cdc6', 'ggps1', 'fhl2', 'dck', 'sh3bp1', 'plxnb2', 'qrich2', 'topaz1', 'bdh1', 'unk', 'lipg', 'cmtm5', 'dpysl5', 'pkp3', 'c12orf29', 'adamts9', 'lyg1', 'cox4i2', 'ceacam16', 'kpna6', 'gpx5', 'kiaa0232', 'vps13c', 'pmp22', 'cav2', 'ermard', 'mn1', 'etv3', 'lbp', 'gria3', 'itsn2', 'tex47', 'bach1', 'tefm', 'znf618', 'ror1', 'cd5l', 'pex3', 'dnase1l2', 'rnf135', 'aven', 'fez2', 'argfx', 'cdkn2aip', 'baat', 'acod1', 'acadm', 'scfd1', 'klk8', 'pole4', 'klhl21', 'rasgrp4', 'dmrt1', 'sp7', 'atad3c', 'zmynd10', 'bdh2', 'pabpc4l', 'sprr2g', 'znf212', 'ttll7', 'insl5', 'clvs1', 'mpdz', 'pcdh8', 'qser1', 'cnot7', 'kcnk3', 'fbp2', 'alcam', 'atrip', 'tmem41b', 'grk1', 'abhd4', 'emp3', 'fcer1a', 'lce4a', 'thap8', 'ptpn12', 'tmem30b', 'c6orf52', 'dcaf16', 'serpinb11', 'ly6l', 'p2rx2', 'tmem181', 'znf343', 'mkln1', 'wbp2nl', 'cela1', 'myh14', 'scaper', 'cebpz', 'epg5', 'mesp2', 'nrxn1', 'muc21', 'napa', 'vwa3b', 'rnf150', 'klhl1', 'tmem100', 'krt15', 'ddost', 'arf6', 'znf48', 'kank3', 'slc37a3', 'polr3h', 'mib2', 'smug1', 'dym', 'unc5d', 'phyhd1', 'fkbp7', 'hnrnpdl', 'kcns2', 'dcaf10', 'mtbp', 'stx4', 'cuedc1', 'ercc6', 'rragb', 'baiap2l1', 'sec31b', 'edrf1', 'kif9', 'b3gnt4', 'tnfrsf10a', 'mbd1', 'xbp1', 'foxe1', 'cxcl1', 'c16orf46', 'ankrd42', 'cd27', 'acp5', 'cdh23', 'nek9', 'sh2d1a', 'lgi3', 'sertad1', 'sh3bp5', 'gjb4', 'gimap4', 'ap2a2', 'or51t1', 'cipc', 'mettl14', 'kcnh5', 'ptgfrn', 'adgre5', 'gdf5', 'hvcn1', 'grn', 'tepp', 'xcl1', 'malsu1', 'znf780b', 'lysmd2', 'scgb1d1', 'rgs19', 'ubqln1', 'zranb3', 'or2b2', 'zscan1', 'znf189', 'or51d1', 'tomm40l', 'spag16', 'atxn1', 'slc2a9', 'jchain', 'il13', 'fkbp9', 'or5c1', 'ccdc47', 'uba3', 'ankrd30a', 'polr2b', 'mesp1', 'eps8l3', 'faf2', 'tmem86a', 'rangap1', 'brinp1', 'krtap20-3', 'hspb3', 'cftr', 'exph5', 'fign', 'rnf212', 'oprd1', 'appl2', 'smarcc1', 'eid1', 'lrrn2', 'ccdc182', 'pcsk6', 'znf480', 'uqcc2', 'pgbd5', 'ramac', 'nmb', 'mccc1', 'ccl22', 'b4galt6', 'prm3', 'neurl1b', 'kcne4', 'rap1gap', 'vma21', 'syngap1', 'nop16', 'il10rb', 'col24a1', 'metrnl', 'fam193b', 'tpd52l3', 'fabp3', 'marcksl1', 'sidt1', 'alg11', 'aspscr1', 'clec4a', 'hsd3b2', 'foxj2', 'kif15', 'fbxo5', 'kpna3', 'c1qb', 'lmo7', 'c2orf81', 'efcab13', 'lrfn3', 'eapp', 'plin1', 'ifnar1', 'ndp', 'sec16b', 'glyatl1', 'apobec4', 'csnk2b', 'mme', 'akirin2', 'mthfd1l', 'adam22', 'chml', 'vit', 'crat', 'tdp2', 'setd5', 'ddx56', 'f8a1', 'stat6', 'retn', 'prelp', 'opalin', 'dpm3', 'pwwp2a', 'gng2', 'btbd8', 'sirt2', 'chic2', 'clec4g', 'invs', 'marcol', 'cd200', 'ankrd13a', 'stambp', 'sec61a2', 'chtf18', 'eri2', 'fam237b', 'adad2', 'lat', 'ift27', 'iqsec2', 'slc25a16', 'srp19', 'nfatc1', 'zyg11a', 'cntnap1', 'cenpu', 'pcdha9', 'or12d3', 'chpf', 'ppl', 'hsd3b7', 'egfl7', 'slc51a', 'lcn9', 'hepacam2', 'cdk12', 'tex13c', 'snai3', 'znf717', 'ccnyl1', 'tnni3', 'snx25', 'txnrd1', 'alpi', 'prrt2', 'znf263', 'kcnj5', 'adm2', 'amot', 'clic3', 'mios', 'swap70', 'cln3', 'mtpn', 'kif19', 'chrna10', 'or2ae1', 'kctd4', 'slc22a14', 'ubr3', 'afdn', 'c19orf81', 'ryk', 'edem2', 'zkscan5', 'cfap299', 'rnase12', 'trim75p', 'tssk1b', 'dkk3', 'znf385c', 'ngf', 'chrd', 'cldn22', 'lmna', 'nup214', 'prpf31', 'pdzd7', 'chst13', 'usp26', 'usp43', 'lrrc10', 'b3glct', 'pde3a', 'sec14l5', 'aqp8', 'efnb3', 'nuf2', 'glra1', 'mlxip', 'lhx9', 'mthfd1', 'plbd2', 'irgc', 's100b', 'c8orf89', 'nudt21', 'bmp8a', 'wnt5b', 'tigd6', 'pik3ca', 'derl1', 'tpbgl', 'znf473', 'nrap', 'tmprss3', 'prr36', 'ccdc154', 'zfp90', 'khnyn', 'hspbp1', 'nipa2', 'myl3', 'wdr88', 'cbx8', 'pacsin1', 'sdcbp2', 'smg7', 'or4f6', 'cpd', 'znf181', 'kantr', 'znf423', 'dhx29', 'abcc2', 'chd1', 'tnfaip8l3', 'c1orf159', 'slf1', 'thbs3', 'grik4', 'gck', 'ap4s1', 'opn5', 'mtif3', 'mageb17', 'ruvbl2', 'zap70', 'calcoco1', 'jak2', 'ski', 'dbf4', 'sfxn3', 'rem1', 'znf20', 'ro60', 'ptrh2', 'sult1a2', 'adam32', 'naa40', 'cib2', 'rab11fip3', 'wnk2', 'znf584', 'znf860', 'tdrp', 'gpr34', 'tfap2e', 'c20orf202', 'foxj1', 'c1orf116', 'spata20', 'tcn1', 'pop7', 'tnfaip8l2', 'ppme1', 'plpp4', 'krtap6-1', 'dpf3', 'rad17', 'phka1', 'rab5a', 'or9i1', 'cphxl', 'cldn7', 'il17rd', 'csnk2a2', 'hes7', 'adck5', 'flot1', 'fam240a', 'nme8', 'fshb', 'gon4l', 'lap3', 'havcr1', 'rasl11b', 'atp6v1g1', 'gtf3a', 'gtdc1', 'znf780a', 'rgs3', 'fam135b', 'pip4k2b', 'erbin', 'egfl6', 'zdhhc15', 'arhgap36', 'alg6', 'tyk2', 'chmp2b', 'tex13b', 'kndc1', 'gjc1', 'mobp', 'znf574', 'cyp3a7', 'qdpr', 'hk3', 'tnfaip8l1', 'gbp6', 'fxyd4', 'or13c8', 'hoxb2', 'znf512', 'slc20a1', 'ifitm3', 'fuca2', 'lpar2', 'znf514', 'lin28a', 'calr3', 'dzip1', 'far2', 'tp53i3', 'ccdc186', 'bcdin3d', 'nxt2', 'nktr', 'hoxb3', 'gtf3c1', 'ninl', 'serpinb8', 'trmt6', 'kifc2', 'trim11', 'clcnkb', 'xylb', 'shisa9', 'nuak1', 'scyl2', 'psmb6', 'zmym6', 'wbp11', 'rbm4b', 'rundc1', 'pnma5', 'nrbf2', 'dio3', 'msrb1', 'spire1', 'sprr4', 'tmem251', 'tlr6', 'krtap23-1', 'olfm1', 'bicd1', 'il6', 'znf771', 'znf345', 'aspdh', 'sectm1', 'a4galt', 'pih1d2', 'dok3', 'pramef15', 'c19orf44', 'dusp18', 'speg', 'rbpms', 'atp10a', 'ephb3', 'septin4', 'socs5', 'spop', 'celf2', 'rnase10', 'nxph3', 'cst8', 'dll3', 'cops6', 'vars2', 'mxra7', 'znf223', 'nkx2-5', 'bmt2', 'cyp2c8', 'psmb10', 'cdk16', 'slc16a2', 'tmem221', 'c1galt1', 'zranb1', 'anapc4', 'tmem165', 'gnrh1', 'uhrf1bp1l', 'shbg', 'rere', 'smc4', 'muc17', 'cyp4x1', 'or6k3', 'hdlbp', 'gdf9', 'ptpn5', 'aurka', 'lsm11', 'clpx', 'asxl3', 'pdcd5', 'itga7', 'slc22a17', 'ncbp2l', 'amt', 'eif4a3', 'arvcf', 'pdgfrb', 'gtf2a1', 'trmt10b', 'bbs5', 'arfip2', 'fam214a', 'pnkd', 'efcab8', 'cav1', 'actrt3', 'zik1', 'arpc4', 'ppp1r3f', 'sbds', 'zc2hc1a', 'fastkd5', 'kir2dl4', 'pigc', 'agpat2', 'trip13', 'dctn4', 'ccl5', 'nubpl', 'klhl18', 'zc2hc1c', 'stmn3', 'erbb4', 'cyyr1', 'lamtor2', 'cstf2', 'sgo1', 'ccdc88b', 'atg5', 'usp1', 'slc39a12', 'tmtc2', 'grtp1', 'slc9a2', 'tap2', 'catsper3', 'tmem132b', 'herc3', 'lrrc45', 'znf629', 'fpr1', 'tmem94', 'vmac', 'acot11', 'lypd1', 'itgax', 'srpk1', 'hmgcll1', 'ms4a3', 'acoxl', 'slc22a23', 'dtd2', 'ccdc13', 'urad', 'plcg1', 'rnaseh1', 'znf513', 'sh3bgrl3', 'klc3', 'pgghg', 'or2v2', 'snx32', 'trpc1', 'dcaf4l1', 'actr3b', 'arhgef10', 'dynap', 'gcm1', 'tpcn2', 'rbm43', 'cilp2', 'a3galt2', 'tmed9', 'krt222', 'megf9', 'cd46', 'mapk4', 'gpr174', 'myo7b', 'cytl1', 'prph2', 'bbs9', 'clta', 'calcr', 'tectb', 'nlrp4', 'dnal1', 'bivm', 'dlx1', 'tbc1d20', 'med7', 'lipc', 'cacna1s', 'krtap19-7', 'sdc2', 'kbtbd6', 'fam161b', 's100a13', 'ampd3', 'slc17a4', 'npas2', 'ly6g6f', 'ppef1', 'mkrn2', 'cd274', 'ribc1', 'smarca4', 'hcfc1r1', 'ugt1a9', 'dapk2', 'grb2', 'donson', 'sugp2', 'hps5', 'sgf29', 'tbrg4', 'arel1', 'spg7', 'usp51', 'kcnk2', 'oaz1', 'soga1', 'atp1a2', 'anxa6', 'prdm5', 'kif4a', 'arhgef38', 'rhoq', 'trim27', 'cpt1b', 'slc31a2', 'rmi2', 'mfap1', 'tcf7l1', 'ipo9', 'fbxo16', 'lmnb2', 'dmac2l', 'llcfc1', 'pnliprp3', 'anapc5', 'mien1', 'rnft1', 'jmjd6', 'c1orf105', 'znf676', 'sapcd1', 'brpf1', 'mcmbp', 'tubb4b', 'bub3', 'tigd7', 'ppp6r2', 'myoc', 'inhba', 'tas2r50', 'fth1', 'c2orf76', 'cdrt15l2', 'srsf3', 'lysmd3', 'rbak', 'pdk3', 'vipr2', 'steap4', 'hyi', 'rbfox1', 'lilra2', 'mtmr11', 'troap', 'erh', 'cdk5r2', 'smim35', 'gatm', 'krt16', 'aire', 'med12', 'bcl11b', 'c7', 'prkra', 'znf687', 'pappa2', 'mab21l4', 'slc9c2', 'klk14', 'nvl', 'fam163b', 'ly6g5b', 'c11orf71', 'islr', 'dmd', 'xrcc5', 'or52n4', 'siglec1', 'cplx1', 'ibsp', 'dmgdh', 'gnly', 'or4x2', 'tchh', 'atrn', 'supt6h', 'bend6', 'acat2', 'fastkd1', 'fam207a', 'lrp8', 'rab27a', 'tmem151a', 'arhgef40', 'jam3', 'spice1', 'pbov1', 'kif20b', 'tincr', 'cyp2a6', 'kif13a', 'usp41', 'rhobtb2', 'mgat3', 'tfb1m', 'p2rx1', 'odr4', 'aaas', 'spag6', 'pttg1', 'znf581', 'sh2d4a', 'kaag1', 'marveld1', 'btg1', 'c1orf54', 'sh2d3a', 'skida1', 'st14', 'tceanc2', 'ak5', 'nckipsd', 'map4k5', 'stpg3', 'pde6c', 'or2m5', 'mcrs1', 'tbxt', 'mtrf1l', 'hps1', 'gtpbp6', 'elp6', 'fam181b', 'dtx3l', 'med13', 'ttc39a', 'ephb1', 'scn4b', 'ufsp1', 'mif', 'phtf1', 'arv1', 'il17f', 'nipa1', 'ptprf', 'vps28', 'dnaja3', 'znf526', 'ccndbp1', 'ccdc68', 'znf680', 'c16orf92', 'junb', 'abca7', 'zmat2', 'kcnk13', 'ankmy2', 'col4a1', 'esr1', 'cpa5', 'svep1', 'slc29a2', 'acadvl', 'was', 'vps37d', 'glt8d2', 'foxd1', 'acot12', 'ccser1', 'slc13a5', 'ido2', 'thoc5', 'gpr61', 'slc6a17', 'ccdc93', 'chst15', 'stk40', 'c5ar1', 'cdkl3', 'dusp12', 'mcub', 'slc17a3', 'itga11', 'znf454', 'slc22a18', 'nop53', 'tent5a', 'tle5', 'psmb1', 'tmem199', 'gramd4', 'chpf2', 'fcrl3', 'hccs', 'tekt5', 'mettl9', 'selenon', 'znf257', 'them5', 'btbd3', 'cpne6', 'pebp1', 'chl1', 'ptgds', 'btaf1', 'tgfbr3', 'ltf', 'ccl18', 'evi5l', 'tmem80', 'snapc4', 'ccdc194', 'srgap1', 'mageh1', 'hmgxb4', 'or4d9', 'cyp4f11', 'fam83e', 'nemp2', 'creg2', 'prrx2', 'smim5', 'rassf7', 'lyzl2', 'myoz2', 'dynlt1', 'pdzrn3', 'aoc3', 'crispld2', 'ankrd22', 'lrrc38', 'nfyc', 'lrriq1', 'kdsr', 'acsl5', 'miga2', 'gnb5', 'znf813', 'acvr2b', 'rgs2', 'bean1', 'cox7a2', 'slc39a2', 'suclg1', 'zcchc4', 'nsmce2', 'slc30a10', 'ddt', 'pef1', 'tex264', 'ccdc175', 'ddx24', 'nxpe1', 'nacc1', 'tmsb4y', 'gp9', 'mysm1', 'adsl', 'b3galnt2', 'apobec3h', 'pdhx', 'pcdh20', 'rax', 'epha4', 'st6galnac3', 'maea', 'ky', 'chrm1', 'pgam1', 'naa38', 'scygr8', 'smg8', 'slc5a5', 'mc3r', 'pde9a', 'trpc5os', 'tacstd2', 'c2orf72', 'csrnp1', 'hcfc2', 'esd', 'c1orf232', 'celf5', 'kcnj13', 'otud6b', 'fbxw5', 'tcf23', 'cdc20', 'c11orf1', 'samd5', 'c5orf52', 'or9q2', 'lrrc8e', 'snap23', 'pdxp', 'lingo1', 'spint2', 'ankrd39', 'fer1l6', 'p2ry14', 'ihh', 'fignl2', 'acaa2', 'ndor1', 'rnf214', 'kcnrg', 'sdcbp', 'irak3', 'rapgefl1', 'asb12', 'magee1', 'spcs1', 'isca1', 'zfhx2', 'klf15', 'shd', 'lmln2', 'natd1', 'sec14l6', 'gja10', 'ccdc160', 'six3', 'tmem240', 'cskmt', 'akr1d1', 'znf256', 'grm5', 'or8b8', 'arhgap1', 'ifit5', 'adgre3', 'zscan26', 'p2rx7', 'b4galt1', 'otp', 'kif27', 'cd83', 'golga6l7', 'lancl2', 'mcm2', 'mtmr9', 'agpat4', 'gng10', 'syt10', 'sema6c', 'prrx1', 'slc25a33', 'tsr1', 'tmem38b', 'hspa12a', 'erich2', 'e2f6', 'raf1', 'tmem245', 'ndufaf7', 'slc36a2', 'or52k2', 'bnip3l', 'akap1', 'p2ry10', 'itih5', 'slc10a3', 'tbata', 'gpr155', 'cox14', 'sfn', 'tmub2', 'rttn', 'ninj1', 'mgmt', 'depdc4', 'nek3', 'arhgef18', 'ccdc85c', 'ctdspl2', 'bricd5', 'zfp69b', 'bok', 'frmd4b', 'trrap', 'sar1a', 'ufm1', 'ffar1', 'sash1', 'polrmt', 'ggact', 'sprr3', 'rasgef1b', 'ccn2', 'mnx1', 'mtfmt', 'trip12', 'fpgs', 'tsga10', 'clec11a', 'txndc15', 'rcc1', 'ccdc69', 'map4k1', 'traf2', 'otub2', 'exoc6b', 'slc2a7', 'retsat', 'plcb2', 'slc38a5', 'ervfrd-1', 'tnfrsf11b', 'il1rap', 'scube1', 'dcdc2', 'cetp', 'zfyve9', 'oxsm', 'cnot11', 'ugt2b10', 'tmem120b', 'relt', 'cebpb', 'tmem50a', 'c4orf47', 'mtf1', 'casc3', 'lcn12', 'rnf208', 'c5orf58', 'zswim3', 'csrnp3', 'or7g1', 'slc35b4', 'galk2', 'mcemp1', 'yipf1', 'akr1e2', 'gramd2a', 'rnd2', 'trex2', 'ephb4', 'itga4', 'loxl2', 'kif2c', 'gdf10', 'c11orf96', 'spag1', 'fads1', 'cs', 'kdr', 'tmem258', 'spata2l', 'ifna1', 'ervmer34-1', 'foxn4', 'mettl15', 'ugt2a3', 'lnpep', 'ect2', 'ankrd61', 'trappc8', 'katnal1', 'garem1', 'bptf', 'sec13', 'aarsd1', 'inpp5j', 'jrkl', 'znf175', 'krt9', 'sfrp2', 'cnot4', 'barx1', 'pccb', 'c11orf21', 'drd5', 'plaat3', 'atp6v0b', 'tada2b', 'alpk3', 'txndc11', 'mvd', 'arsf', 'gimap1', 'rab15', 'rd3l', 'pros1', 'tmco2', 'kcnj3', 'or13c4', 'lrp5', 'ttc13', 'smtnl2', 'parp16', 'kif22', 'gja8', 'foxp3', 'gpt', 'mavs', 'megf11', 'uqcrfs1', 'znf837', 'agxt2', 'c1qbp', 'mettl3', 'lsmem2', 'add2', 'pcdhgc5', 'vamp2', 'ergic2', 'neil3', 'adig', 'caps2', 'nkx2-8', 'dsc1', 'hs3st5', 'prom2', 'mxra8', 'wdsub1', 'kcnmb4', 'ccnk', 'pds5b', 'slf2', 'mgat4c', 'dnajb11', 'guca1b', 'map2k5', 'slc9a9', 'stac', 'pdlim5', 'eif3g', 'or2a25', 'snrpd3', 'c3orf85', 'c3orf20', 'tomm5', 'mtmr8', 'tmem89', 'mief1', 'plb1', 'snx3', 'mapk6', 'faxc', 'brdt', 'adgre1', 'selenov', 'prob1', 'kdm4b', 'fem1b', 'slc35a5', 'hes2', 'traf4', 'banf2', 'commd4', 'eif2d', 'polr1d', 'or6b3', 'ung', 'arhgap45', 'or6c1', 'mrm1', 'ubxn10', 'cep76', 'ikzf4', 'taf11l4', 'oosp4a', 'lrrc61', 'lrp6', 'cfap298', 'rrp7a', 'smco2', 'tas2r40', 'mdm1', 'rassf8', 'sh3d21', 'neu1', 'arhgef19', 'odf3b', 'snx29', 'znf791', 'gpx2', 'crlf1', 'ptdss2', 'cd163', 'phgr1', 'b3gnt7', 'hm13', 'ciao2a', 'ldlrap1', 'atp1b4', 'pp2d1', 'il17ra', 'taf4b', 'stard9', 'map7d2', 'abraxas1', 'arhgap10', 'samd9l', 'slc30a6', 'hemk1', 'nlrp12', 'b3galt5', 'shkbp1', 'pgk1', 'cldn12', 'elmod3', 'thap5', 'il25', 'fgfr2', 'rragc', 'itgb6', 'suclg2', 'vip', 'prelid2', 'prdm15', 'trappc6a', 'tmsb4x', 'atp4a', 'pak1', 'hipk1', 'cxcl6', 'tbc1d8', 'ccdc167', 'tlr5', 'il17c', 'cracr2b', 'ube2r2', 'pde4d', 'rbm25', 'nr1h4', 'zar1l', 'gnb2', 'kdm6a', 'clcn5', 'znf436', 'acap3', 'ttc21a', 'trim7', 'cenps', 'cd109', 'ttc39c', 'taar9', 'psg2', 'txnrd3', 'tmem176b', 'spc24', 'nup153', 'tacc3', 'gnrh2', 'tpsd1', 'nfs1', 'pla2g2f', 'lep', 'efcab1', 'cldn1', 'bcap31', 'ipo8', 'znf282', 'bbs7', 'lamb4', 'dnah6', 'nudt12', 'zfyve19', 'cass4', 'snap29', 'plp1', 'qpct', 'brd2', 'sirt1', 'c1qtnf8', 'prnp', 'hoxa6', 'abcb10', 'prss36', 'mex3b', 'hoxb1', 'znf750', 'slitrk6', 'il1rapl2', 'serpina9', 'nr5a2', 'plxdc1', 'ctss', 'c15orf65', 'tsfm', 'il22ra2', 'rabl6', 'rln1', 'hgf', 'mtres1', 'fbxl6', 'mos', 'tnr', 'clca2', 'kprp', 'xpc', 'slc9b2', 'zc3h10', 'col4a2', 'tmco6', 'adck2', 'krt40', 'nup210', 'tfap2c', 'tmem95', 'cotl1', 'utp25', 'fbxo32', 'pcyt1a', 'rbm15', 'ankk1', 'lrfn4', 'zfp42', 'snx30', 'tmem104', 'nes', 'cox6a1', 'hnrnpr', 'adgrf5', 'defb114', 'agtpbp1', 'fam168a', 'itgav', 'znf610', 'sntg2', 'plxna1', 'dync1i1', 'incenp', 'znf382', 'gpm6b', 'swt1', 'eya4', 'scmh1', 'sptssa', 'c11orf94', 'abcd3', 'defb125', 'rtn3', 'ms4a15', 'lrguk', 'slc25a19', 'ezh1', 'tcf25', 'or1m1', 'cysltr1', 'pcdhga11', 'lhfpl2', 'pus3', 'zbtb42', 'nudt19', 'fam217b', 'piezo2', 'or2g6', 'or52e4', 'nckap1l', 'adamts7', 'slco1c1', 'atp1a3', 'scrn1', 'tgfb1', 'dnpep', 'znf410', 'cacng4', 'chic1', 'spanxn2', 'abca9', 'ebf3', 'fggy', 's100a16', 'uspl1', 'ctps2', 'ppp4r1', 'mbtd1', 'fancg', 'kazn', 'gpr153', 'larp1', 'nova1', 'n4bp1', 'ccl1', 'dnah3', 'olah', 'osbp2', 'cckar', 'ppargc1b', 'oplah', 'rpf1', 'fcsk', 'rd3', 'amdhd2', 'ppp3r1', 'ngfr', 'grwd1', 'rab2b', 'slfn14', 'mt-co2', 'klhdc10', 'zdhhc1', 'slc4a9', 'insig2', 'zfp2', 'hsd11b2', 'spata3', 'cfap161', 'ndufb7', 'cpox', 'slc26a4', 'spata31a1', 'smim30', 'srsf8', 'herc2', 'vezf1', 'spink13', 'abca1', 'tsc1', 'tsga13', 'desi1', 'pik3cd', 'sowaha', 'cntnap5', 'spo11', 'lca5l', 'nrp1', 'siva1', 'enosf1', 'ctdsp2', 'gpr6', 'ralgds', 'stard8', 'tex54', 'rpa2', 'sub1', 'dnlz', 'cstl1', 'dst', 'adgrg6', 'or5b17', 'pold4', 'p2rx6', 'or4a16', 'stt3b', 'synj2bp', 'znf445', 'rp9', 'ltbp1', 'cfap36', 'muc19', 'mapk14', 'psmb7', 'scyl1', 'taf11l11', 'ccdc22', 'golph3', 'abcc3', 'psapl1', 'tstd1', 'ppp1r1a', 'rpa1', 'fcgr2a', 'uba7', 'rbm28', 'adirf', 'ep400', 'sipa1l2', 'fam209b', 'pramef2', 'b4galt3', 'ube2i', 'abhd2', 'nubp1', 'kiaa0040', 'cdk5rap1', 'alg5', 'fam136a', 'txndc17', 'vipr1', 'tcap', 'ddi2', 'selenok', 'kras', 'cd63', 'nme5', 'galnt10', 'gcsam', 'tmx4', 'mt1hl1', 'noct', 'tmem170b', 'lefty2', 'cryz', 'abhd14b', 'linc02218', 'fmn1', 'ankrd40', 'mbd2', 'sec23ip', 'rbl2', 'c1qtnf6', 'bcl2', 'aida', 'lrig1', 'mt-atp6', 'aqp9', 'aanat', 'ttf1', 'rgs10', 'ciao1', 'sema3d', 'ust', 'dgkb', 'pcbp1', 'ldhal6b', 'heph', 'tlr3', 'sf3a3', 'wfdc12', 'ccdc157', 'slco5a1', 'tgm5', 'prpf4', 'cryl1', 'scgb2a2', 'pld6', 'pitx2', 'fbxo15', 'snx15', 'pik3c2g', 'gmnn', 'ccl28', 'tnxb', 'ccni', 'trub2', 'npm3', 'lipa', 'trappc6b', 'mpdu1', 'urb1', 'cdc37', 'dis3l', 'dcaf12l1', 'vstm2b', 'myeov', 'pogk', 'phf13', 'fkbp15', 'hcar3', 'hykk', 'mief2', 'hcn2', 'pkig', 'six5', 'lima1', 'etfbkmt', 'jag2', 'lpo', 'smpx', 'rtn4ip1', 'ppp4r3c', 'shisal2b', 'fgf2', 'st8sia1', 'akt1s1', 'mica', 'tmem91', 'or5k1', 'entpd2', 'frem2', 'metap2', 'thap2', 'pcsk4', 'septin5', 'fbxo34', 'cnot9', 'acta1', 'p2ry6', 'insig1', 'tbc1d9', 'usp17l1', 'glrb', 'krt71', 'znf280a', 'trim42', 'cant1', 'ecel1', 'foxd4', 'zscan16', 'spdye1', 'mydgf', 'nkx6-3', 'clip3', 'hnrnph2', 'ints9', 'akr7a2', 'bhlha9', 'fam228a', 'faap24', 'pcdhgb6', 'klhl12', 'cep89', 'ndufb11', 'hesx1', 'lat2', 'mycbp', 'sort1', 'enpep', 'lyrm4', 'mrgprf', 'tnrc6a', 'serinc2', 'tstd2', 'tmem147', 'arhgap17', 'sycp1', 'ccar2', 'stk32a', 'tmem59l', 'brcc3', 'tmem79', 'fancb', 'slc4a8', 'ptges3', 'eddm3b', 'pcnx2', 'mospd2', 'or13a1', 'tmem130', 'birc7', 'or7a5', 'nwd1', 'lrp1', 'lbhd1', 'zc3hav1l', 'cd5', 'men1', 'r3hcc1', 'tmem107', 'znf839', 'yme1l1', 'hus1b', 'gdpd1', 'ybey', 'cdh12', 'bsnd', 'sstr3', 'gca', 'podxl', 'zfyve21', 'trpm5', 'pnma8b', 'trim31', 'cux1', 'apobec3a', 'ugt2b17', 'c1ql4', 'rnf141', 'hcn3', 'rab39a', 'vgll3', 'or9a4', 'arhgap44', 'wfdc3', 'nsfl1c', 'itpripl1', 'selplg', 'hif1a', 'or4a5', 'pheta2', 'tax1bp1', 'ankrd29', 'uhrf1bp1', 'rpp30', 'dcps', 'gtf2f2', 'golga8o', 'pdzd9', 'rnpc3', 'psd4', 'strc', 'eif2s2', 'spef2', 'c2cd4a', 'c13orf42', 'copg2', 'onecut3', 'pgm1', 'wipi2', 'b4galt2', 'rexo1', 'lcnl1', 'uhrf1', 'znf700', 'irx1', 'ceacam3', 'aspg', 'rag1', 'crb3', 'mdn1', 'prokr1', 'dnajc9', 'gpr173', 'znf625', 'card19', 'syce2', 'alkbh4', 'cdrt4', 'mtfr1l', 'syt12', 'dab2', 'atp6v0e2', 'tchp', 'chi3l1', 'tmem234', 'wnt8b', 'gcnt3', 'mlnr', 'arl10', 'prr5l', 'or1g1', 'serpind1', 'gps2', 'dennd2d', 'mfsd6l', 'fam102a', 'cntn5', 'ppp2r5b', 'ring1', 'hnmt', 'tsnare1', 'rspo2', 'abca10', 'rbfox3', 'cer1', 'pop5', 'rtn1', 'snta1', 'fam53a', 'cidea', 'kdm5c', 'dglucy', 'fgf23', 'hhipl1', 'palb2', 'myf5', 'rnmt', 'prkacg', 'rexo4', 'smc1a', 'muc15', 'cmc2', 'srsf2', 'lmo1', 'enox1', 'ddx4', 'ifne', 'ube2d1', 'ak7', 'smr3a', 'nlrc3', 'vsig4', 'dpm2', 'plpp7', 'pop1', 'rnf5', 'idnk', 'spata32', 'slc22a25', 'prdm7', 'wnt7a', 'celf3', 'mpp7', 'slc25a35', 'clec4c', 'prcp', 'tnfaip1', 'ugdh', 'cpz', 'ppp1r15b', 'gjb7', 'gsap', 'ca9', 'cep126', 'atn1', 'tln2', 'klf9', 'ndufa3', 'jak3', 'napepld', 'c10orf99', 'cep290', 'mtmr3', 'spink4', 'dnajc22', 'asb7', 'r3hcc1l', 'grip1', 'apela', 'sh3pxd2b', 'ndufa12', 'cic', 'gng4', 'fdx1', 'pdk2', 'sycp3', 'pctp', 'cdk13', 'reg3a', 'fam47c', 'clc', 'tmem275', 'slc40a1', 'stx7', 'ccnb3', 'jtb', 'znf273', 'ppara', 'pabpc3', 'heg1', 'mmp3', 'farsb', 'trim29', 'znf319', 'pttg1ip', 'dhodh', 'erc1', 'drp2', 'polk', 'fgd6', 'gsx2', 'ccdc181', 'gcnt7', 'vwa2', 'srpk2', 'lrrc70', 'tbc1d22b', 'asb6', 'nudt8', 'st6gal2', 'rpn1', 'ventx', 'dgkh', 'rsad1', 'lhfpl3', 'klf5', 'rgs8', 'araf', 'rsbn1l', 'gramd1b', 'syndig1', 'capns2', 'gyg1', 'nudcd2', 'wdr49', 'coa3', 'rif1', 'serpinc1', 'rusc1', 'gcgr', 'fuz', 'cdh9', 'dtx4', 'map2k3', 'rprd1a', 'coa1', 'c6orf132', 'slc26a3', 'rab35', 'ccdc137', 'bmpr1b', 'itga1', 'lgi1', 'ager', 'shf', 'gng8', 'actl6a', 'auh', 'afg3l2', 'kcnj8', 'cela2b', 'sst', 'il17d', 'st3gal5', 'nkx6-2', 'eif4enif1', 'naa35', 'thumpd1', 'socs2', 'fgfbp1', 'zdhhc2', 'abtb2', 'sdha', 'plaat5', 'fstl3', 'dctd', 'rsad2', 'iqcm', 'igsf9', 'tmem39b', 'rptor', 'spata45', 's100a9', 'fmnl2', 'myh9', 'or13d1', 'trit1', 'cabp4', 'fmn2', 'chdh', 'tfpi2', 'samd1', 'gnpda2', 'man1a1', 'alox5', 'chek2', 'tceal6', 'nutm2a', 'cd300lf', 'tarbp1', 'ccdc174', 'hnf4g', 'pde6h', 'cpeb1', 'cep120', 'eme2', 'cd79b', 'col26a1', 'lamp5', 'polb', 'slc3a2', 'rcc2', 'or6c75', 'pgam5', 'c2orf92', 'c1orf35', 'tm7sf3', 'atg4d', 'nfia', 'sfxn4', 'bard1', 'egflam', 'slc35e4', 'cgrrf1', 'eif3d', 'mterf2', 'trmt61a', 'mindy1', 'spag7', 'stk19', 'net1', 'tarbp2', 'kif20a', 'nrn1', 'gfra1', 'cd74', 'crybb2', 'c19orf33', 'stag2', 'gphn', 'sun2', 'rptn', 'wnt3a', 'becn2', 'fam104a', 'dand5', 'ffar2', 'cep19', 'dmtf1', 'or10g7', 'htr3a', 'trim9', 'pou2af1', 'ramp1', 'runx1', 'adra2a', 'sox9', 'parvg', 'imp3', 'trim51gp', 'cox8a', 'sptlc3', 'mal2', 'lipk', 'ckap2', 'nrdc', 'c1galt1c1l', 'ugt3a2', 'wnk4', 'ankrd65', 'slc25a45', 'pelp1', 'erg', 'lce1a', 'adcy6', 'eif1ax', 'lalba', 'wdr11', 'st6galnac2', 'foxm1', 'tex30', 'c1orf87', 'prss35', 'slc39a9', 'resf1', 'ahi1', 'il1rl2', 'tmem184c', 'sel1l3', 'aldh4a1', 'stum', 'prc1', 'sowahc', 'lpar1', 'klrc4', 'hoxc11', 'nrl', 'cnn1', 'tsr2', 'vwa7', 'lamtor5', 'myl7', 'ankle2', 'mapk1ip1l', 'itga6', 'c6orf89', 'znf708', 'tedc1', 'sec14l4', 'rtp2', 'kcnq5', 'lpar3', 'rhbg', 'arrdc5', 'dsg3', 'nfatc3', 'notum', 'cldn24', 'zmynd15', 'birc6', 'sepsecs', 'fgl1', 'drap1', 'ppp2r1b', 'acacb', 'pole2', 'fzd9', 'srd5a2', 'igfbp4', 'mettl25', 'kdf1', 'tmem213', 'tm4sf19', 'ift57', 'slc9a5', 'spsb3', 'ccdc3', 'bcar1', 'rabac1', 'tbc1d31', 'tnfsf12', 'stn1', 'srsf10', 'c1orf174', 'chst1', 'rnf133', 'endou', 'zc3hc1', 'fsip2', 'shank1', 'ccnd3', 'tgm6', 'slc24a3', 'lamp2', 'vamp3', 'znf331', 'rimbp3b', 'pes1', 'lrrfip1', 'atp2c1', 'yif1b', 'ids', 'hepacam', 'nos2', 'ccdc120', 'u2surp', 'prlr', 'adgrl4', 'wdr3', 'hs3st6', 'mmp23b', 'ccdc54', 'oscar', 'kmo', 'tfg', 'baiap2l2', 'arpc5', 'ceacam21', 'crcp', 'grhl2', 'plxna4', 'dll1', 'rfc2', 'srsf9', 'asb2', 'dcun1d3', 'myct1', 'heatr3', 'psd3', 'myl4', 'neurl2', 'ccl2', 'th', 'dclk1', 'fsip1', 'ceacam5', 'pramef19', 'gas2l3', 'ndc80', 'disp2', 'trmt5', 'adgra3', 'mgam', 'panx2', 'limk2', 'page1', 'sox21', 'tmem132e', 'pate1', 'tnfrsf11a', 'ano3', 'hrh2', 'lsamp', 'myo1d', 'gbp3', 'ccdc86', 'dscaml1', 'cherp', 'tdrd5', 'ptch2', 'abhd15', 'slc17a9', 'rbpms2', 'dcaf12', 'dyrk1b', 'dyrk1a', 'lpl', 'smr3b', 'taldo1', 'clec4d', 'dph7', 'nfasc', 'cpt1a', 'ttll2', 'clic1', 'lkaaear1', 'meis3', 'llgl1', 'upk3a', 'urm1', 'gpr18', 'col7a1', 'dcc', 'znf624', 'bicc1', 'tmem129', 'pptc7', 'prss3', 'p2ry13', 'tas2r30', 'ift140', 'or2f1', 'dmxl1', 'gata6', 'dnajb2', 'trim71', 'kctd21', 'bnipl', 'znf69', 'sult2b1', 'thop1', 'stpg2', 'pitx3', 'acly', 'zzef1', 'magt1', 'mtfp1', 'wdr72', 'fmo5', 'nme1', 'sprr2e', 'grhpr', 'spic', 'clstn2', 'diras3', 'smcp', 'cask', 'sod3', 'acox2', 'pcdh18', 'c3orf18', 'perp', 'cnih3', 'rgs22', 'rab3il1', 'fndc5', 'fkbpl', 'chrna5', 'klhdc4', 'gzmh', 'fn3k', 'nos1', 'aldh1l2', 'khdc3l', 'tbx19', 'c1orf198', 'c9orf43', 'trmt2a', 'cklf', 'atp8b4', 'gmeb1', 'znf682', 'ncoa4', 'castor2', 'znf280b', 'mgme1', 'msc', 'znf705a', 'znf804a', 'morn4', 'lbx1', 'padi4', 'oosp3', 'rxfp4', 'pgm2', 'ccdc34', 'lyrm9', 'znf724', 'pcdh19', 'ercc3', 'zhx1', 'mdh1', 'rubcn', 'sv2a', 'spint4', 'zmym3', 'ccdc82', 'cntrob', 'g6pd', 'smyd1', 'pogz', 'adam2', 'pcbp4', 'nudt1', 'ino80', 'kcnab1', 'il1b', 'atf6b', 'pradc1', 'rbm15b', 'glyat', 'ern1', 'gas2', 'ube2v2', 'lgr6', 'adpgk', 'pex7', 'hacd1', 'map3k14', 'klf4', 'afg1l', 'ccdc14', 'ndufb8', 'spp2', 'zbed5', 'nhlrc3', 'mettl11b', 'smchd1', 'dkc1', 'fzd6', 'itm2b', 'apold1', 'nop56', 'ctxn3', 'peli2', 'polr1a', 'pura', 'afp', 'vim', 'pcdha8', 'chrm3', 'ndrg3', 'vhl', 'slitrk1', 'dis3l2', 'tmem61', 'scn4a', 'iba57', 'ppp4r4', 'cdc25c', 'dnm3', 'aars2', 'ppp1r8', 'rbpjl', 'ugt2b28', 'rfx6', 'dock9', 'numbl', 'ptgfr', 'il19', 'zdhhc3', 'glt8d1', 'cxorf66', 'cth', 'scd', 'ccdc32', 'tfap2d', 'smim29', 'calb2', 'odf1', 'arhgap19', 'adam29', 'mitd1', 'traf3ip1', 'hcrtr2', 'riiad1', 'or52e8', 'xpa', 'znf366', 'cdk5', 'prkag1', 'tp53', 'slc39a14', 'ip6k3', 'znf394', 'atp2b3', 'rad50', 'prtn3', 'ssc5d', 'lsm14a', 'lhx6', 'ccdc62', 'kctd11', 'timm10', 'or4c3', 'or1l1', 'pdrg1', 'smpd4', 'scgb3a1', 'agr3', 'gpam', 'rbmxl2', 'znf284', 'smap1', 'zscan2', 'rffl', 'npw', 'hmgcs1', 'slx4', 'nsg2', 'csn3', 'lamtor1', 'insyn1', 'pou2f3', 'tex101', 'cxcl2', 'cdc27', 'znf77', 'plcxd3', 'aagab', 'cox4i1', 'c4orf17', 'stox1', 'znf627', 'lsr', 'bmf', 'stmp1', 'luc7l2', 'nrg1', 'inpp5f', 'slc2a10', 'grhl3', 'itga10', 'znf397', 'arhgef15', 'c2cd2', 'heyl', 'fermt3', 'znf732', 'wapl', 'gage10', 'cop1', 'or13c9', 'mark4', 'psmg2', 'b3galt6', 'cdhr2', 'angpt1', 'pim3', 'etfa', 'or10a7', 'il2rb', 'mustn1', 'efcab2', 'kcnc4', 'dars2', 'dhrs7b', 'ell2', 'or2aj1', 'ebna1bp2', 'sfrp1', 'hmx2', 'pfdn1', 'kcnmb3', 'pcdhb11', 'zbed8', 'abhd10', 'daam2', 'aurkaip1', 'kifap3', 'stat5a', 'il15ra', 'wnt11', 'znf652', 'znf224', 'znf17', 'atad2', 'hpd', 'ptprg', 'mcee', 'lias', 'pld5', 'taf7', 'btn3a3', 'golph3l', 'lingo2', 'trim61', 'ctcfl', 'znf428', 'sh2d4b', 'herpud1', 'bcs1l', 'cdc25b', 'ssh3', 'c9orf16', 'pim1', 'gls2', 'ilf2', 'eif4ebp3', 'helb', 'znf521', 'gpc4', 'slc35e3', 'myo9a', 'dpy19l3', 'ugt2a2', 'ccdc9b', 'mdh2', 'hmbox1', 'cage1', 'gfpt1', 'cat', 'adgrg5', 'rbm38', 'trim62', 'afap1', 'mindy4', 'eif4g2', 'rsph9', 'rpgrip1l', 'amh', 'cnpy4', 'cox7b', 'tnnt3', 'ttc7a', 'ypel4', 'chmp5', 'prtfdc1', 'amfr', 'stard7', 'cfap97d1', 'als2', 'spesp1', 'haspin', 'arhgap25', 'atp2a3', 'tmem220', 'spsb4', 'sftpb', 'slc39a7', 'zg16', 'znf197', 'bmp3', 'minar2', 'wbp1', 'ppa1', 'chpt1', 'abhd13', 'ets2', 'eid2', 'cacng2', 'arfgap3', 'lmf2', 'egfl8', 'derl2', 'hhipl2', 'xrcc2', 'cdk4', 'ttc28', 'arnt2', 'klf10', 'paip2b', 'tenm1', 'il23a', 'pdlim1', 'scarb1', 'lcat', 'tmem170a', 'lrrc37a2', 'slc8b1', 'nol4l', 'acsm4', 'slc6a2', 'rock1', 'efr3b', 'dbh', 'plxnb1', 'pan2', 'nr1i2', 'kmt5c', 'tmod1', 'ca8', 'ints1', 'slc49a4', 'shisa5', 'rab31', 'kctd8', 'kcnj4', 'klf14', 'fip1l1', 'numb', 'ralgapb', 'krtap22-1', 'zbtb44', 'sass6', 'anapc16', 'smim24', 'vsig10l', 'chd3', 'cacng3', 'znf354b', 'zbed3', 'zdhhc21', 'smad1', 'c17orf98', 'fbrsl1', 'shq1', 'nop10', 'baz2b', 'smpdl3b', 'anp32e', 'bbx', 'polg', 'depdc5', 'spata5', 'mx1', 'prss41', 'ndfip2', 'timp4', 'dact2', 'pick1', 'ccn5', 'plppr5', 'usp16', 'pfkfb1', 'ube2c', 'kif21a', 'asip', 'fam78b', 'matn1', 'rbbp5', 'tspan16', 'tppp3', 'ttll10', 'oat', 'c6orf120', 'porcn', 'slc47a1', 'ino80b', 'agbl3', 'ccdc171', 'cyb5r2', 'med31', 'pvrig', 'phlda2', 'mef2b', 'kitlg', 'gemin2', 'ggn', 'psd2', 'obsl1', 'frg1', 'tmem229b', 'slc22a10', 'sra1', 'cyp3a4', 'snx1', 'frrs1', 'stab2', 'tap1', 'il32', 'trpv2', 'ecscr', 'cdhr4', 'ccdc92', 'aco2', 'vta1', 'or4k2', 'klk5', 'lbh', 'ldhb', 'kyat3', 'rab3a', 'sidt2', 'larp4', 'thnsl1', 'aoah', 'cacfd1', 'gys2', 'dpep1', 'znf835', 'cdc7', 'trpm2', 'lonrf1', 'il18bp', 'scgb3a2', 'tsc22d4', 'creg1', 'b3gnt8', 'mpped2', 'yy1ap1', 'snrpa', 'tsacc', 'fgf14', 'gsg1', 'stom', 'pttg2', 'usp7', 'kcnk6', 'dcun1d2', 'cacna2d2', 'arl2bp', 'acyp2', 'cntn3', 'dhrs13', 'tnfrsf21', 'leutx', 'blmh', 'sned1', 'ints2', 'aldh2', 'tfcp2', 'tnk1', 'lair1', 'marveld2', 'wdr18', 'cfl2', 'cog5', 'maob', 'pak6', 'psap', 'trim66', 'sec24b', 'plppr3', 'naf1', 'hexim1', 'frk', 'trim33', 'mbd3l2b', 'or8g5', 'spata31a7', 'caprin1', 'triml2', 'dennd10', 'hoxc8', 'per1', 'pdlim2', 'slbp', 'hand2', 'tbcc', 'b3gnt3', 'r3hdml', 'cldn14', 'sgpl1', 'pla2g12b', 'pkm', 'sema3f', 'mterf4', 'taf10', 'cyp2d6', 'mmp14', 'acd', 'muc1', 'cysrt1', 'btbd18', 'sh2b3', 'cdk11a', 'cttnbp2', 'mtf2', 'nbeal1', 'paip1', 'il5', 'lamc2', 'znf561', 'rims3', 'uhrf2', 'espnl', 'chaf1a', 'lin37', 'cd79a', 'tango2', 'pnma3', 'teddm1', 'bco2', 'ell3', 'nemp1', 'ocrl', 'scrt1', 'ppp1r1c', 'sbf1', 'olr1', 'iqank1', 'atxn7l3b', 'bach2', 'otx2', 'cfap77', 'zcchc12', 'ptprd', 'acy1', 'cul1', 'tmco4', 'mageb10', 'prrg2', 'otud5', 'gata3', 'calhm6', 'tubb2a', 'cd209', 'tex49', 'dusp19', 'ip6k2', 'id4', 'pla2g15', 'zscan4', 'gna13', 'ints11', 'phldb1', 'ap3m1', 'nras', 'ppp2r5d', 'gzmb', 'ankdd1b', 'aqp2', 'rmnd5a', 'znf488', 'pin1', 'fam110a', 'or52k1', 'gadl1', 'ythdf3', 'ankrd24', 'coq6', 'ptk2', 'znf534', 'dock1', 'ndc1', 'morf4l1', 'ugt1a10', 'faah', 'fam177b', 'set', 'gprc5d', 'nlgn2', 'tnn', 'ppic', 'spata18', 'cabs1', 'rtkn2', 'pdia4', 'eed', 'clstn3', 'prkcg', 'msn', 'usp9x', 'coq3', 'vxn', 'fkrp', 'mapre1', 'wls', 'efcab7', 'gchfr', 'acsm6', 'ddx41', 'gnrhr', 'prrt4', 'potem', 'lrit3', 'izumo1r', 'slc35b3', 'htr6', 'nccrp1', 'znf728', 'sbf2', 'spag9', 'dipk1c', 'senp6', 'gpatch4', 'akt1', 'atad5', 'or4d2', 'crispld1', 'tnfrsf18', 'spdl1', 'prx', 'ubxn7', 'rhbdd3', 'bms1', 'cavin3', 'psmb2', 'arf3', 'rrp1', 'ttk', 'fdxacb1', 'krtap12-4', 'stk31', 'itpkc', 'arhgef10l', 'znf697', 'adamts17', 'zpbp', 'cerk', 'otogl', 'gng12', 'tgm4', 'lrpap1', 'cpne2', 'c5ar2', 'man1a2', 'rrad', 'dppa5', 'tbx3', 'spem3', 'klk13', 'pydc1', 'or2g3', 'slc4a7', 'puf60', 'elp1', 'ten1', 'med17', 'znf491', 'rhno1', 'itch', 'ezr', 'pax5', 'hoxd1', 'nrip3', 'pmaip1', 'syce3', 'slc26a1', 'clmn', 'zc3h12a', 'tbl1y', 'hsd17b6', 'edc4', 'crebrf', 'apobec3f', 'anxa2', 'glipr1', 'gss', 'camk1d', 'znf628', 'morn3', 'esco1', 'iqcd', 'ccne1', 'bcam', 'fnta', 'uqcrc1', 'per2', 'c9orf85', 'cyba', 'meox1', 'amelx', 'khdc4', 'rergl', 'sec22c', 'ggcx', 'insl6', 'mmp25', 'c1qc', 'tmem8b', 'brwd3', 'gla', 'abhd17c', 'or1q1', 'tmem196', 'dicer1', 'brsk2', 'cnn2', 'mcf2l2', 'synj1', 'astn2', 'dlg5', 'tmem132c', 'actbl2', 'or1a1', 'sgsh', 'tcp11l1', 'fcamr', 'wdpcp', 'map3k4', 'smg5', 'vil1', 'fancl', 'hyal1', 'foxr1', 'tecr', 'pde5a', 'dis3', 'umod', 'nudt22', 'il17rel', 'pcnx4', 'cp', 'ldb1', 'alkal2', 'dysf', 'arhgap23', 'il22ra1', 'tnfsf13b', 'trmt1l', 'ocm2', 'or14i1', 'oip5', 'rbmxl3', 'dnttip1', 'tnfaip6', 'pld1', 'padi6', 'thpo', 'arsi', 'cebpe', 'pml', 'nobox', 'rrbp1', 'dock4', 'aif1l', 'kcna1', 'ca2', 'tulp3', 'slc19a1', 'csmd3', 'irf3', 'ppib', 'arsa', 'or7d2', 'gria2', 'casp4', 'sesn1', 'klhl42', 'timm50', 'iqcg', 'defb121', 'smad6', 'plrg1', 'fos', 'gnl1', 'hmgn3', 'sgk3', 'pglyrp4', 'capn9', 'otulinl', 'hp', 'tbx1', 'cyp8b1', 'ncam1', 'gipc1', 'znf485', 'zcchc8', 'serpinb4', 'sgms2', 'traf3', 'rbmx', 'or2t12', 'scn5a', 'antkmt', 'adgrb2', 'rnf103', 'zeb2', 'lcorl', 'pfdn4', 'znf804b', 'cpt2', 'pdcd1', 'mapk13', 'parp15', 'actr8', 'chat', 'mroh9', 'slc16a8', 'smoc1', 'orm2', 'anapc13', 'cdca5', 'sdr39u1', 'col8a1', 'selenop', 'nek11', 'esrrg', 'utrn', 'sprn', 'kmt2b', 'znf689', 'ptar1', 'rbsn', 'fhl5', 'pom121', 'ifna21', 'ndufab1', 'cul2', 'bcas3', 'vps54', 'cacna1d', 'crisp3', 'pcbp2', 'vav3', 'fosl2', 'cenpk', 'vnn3', 'pcdhb3', 'gins3', 'mylpf', 'ppm1m', 'mospd3', 'capn12', 'rfxank', 'cdk11b', 'exoc2', 'ddx27', 'itsn1', 'vwce', 'ap1m1', 'rbm5', 'ggt6', 'gpbp1l1', 'osbpl2', 'mphosph6', 'phf12', 'zbtb12', 'ptprz1', 'wdr41', 'abtb1', 'glrx', 'trim6', 'ppp1r14c', 'sfta2', 'dlk2', 'kirrel3', 'cdr2', 'c20orf204', 'phf21b', 'dppa3', 'mt-co3', 'sec14l1', 'pde7b', 'hecw1', 'lpar5', 'g2e3', 'casp8', 'tbx2', 'cacna1c', 'hspd1', 'tmem236', 'wdr38', 'tut1', 'uqcrh', 'adamts10', 'calml5', 'or5b2', 'ttc19', 'chn1', 'pcdha2', 'caap1', 'fads2', 'adora2b', 'zkscan4', 'znf202', 'pkp4', 'tmem60', 'gbx2', 'mturn', 'rab19', 'trim25', 'rras', 'rhoc', 'shroom3', 'gpr180', 'otulin', 'mpig6b', 'a2ml1', 'fn3krp', 'znf579', 'c17orf58', 'otub1', 'top1', 'cryzl1', 'st6gal1', 'yif1a', 'c14orf180', 'creb3l2', 'mcm8', 'nudt13', 'c11orf91', 'noxa1', 'krtap10-10', 'pdhb', 'ankar', 'tmem126a', 'rasgrf2', 'bin3', 'slc6a11', 'brix1', 'ston2', 'haus2', 'adamtsl3', 'serpinb13', 'cox6b2', 'ptgdr2', 'josd1', 'lvrn', 'slc47a2', 'gabrr2', 'tex43', 'stx1a', 'lrrc17', 'csnk1d', 'mdm4', 'wdr74', 'ing2', 'nedd4l', 'btnl3', 'arhgap20', 'armc8', 'twf1', 'bcl11a', 'morf4l2', 'usp46', 'kctd20', 'saxo1', 'spdya', 'cct6b', 'bphl', 'tsga10ip', 'tbc1d23', 'copb1', 'idh3b', 'irf2bpl', 'wdr44', 'selenof', 'as3mt', 'dhx15', 'hoxb5', 'dbndd2', 'epb41l3', 'abcg5', 'ccdc51', 'catsperb', 'psmb4', 'raet1e', 'sbk1', 'kif1c', 'ms4a7', 'apba1', 'btla', 'fam83h', 'armc1', 'pla2g4e', 'smarcad1', 'ccdc102a', 'prkg2', 'igf2bp3', 'efcab9', 'rnf149', 'sostdc1', 'smim23', 'actl7b', 'pip5k1c', 'tsn', 'lin28b', 'slc7a1', 'col1a1', 'rad51', 'agmo', 'myog', 'smim3', 'prkcb', 'got2', 'rusc2', 'mpst', 'gdpd3', 'atmin', 'ociad1', 'igfbp7', 'fig4', 'il17b', 'vkorc1l1', 'smarcd3', 'arhgap32', 'znf740', 'sptlc2', 'ppm1g', 'arhgef6', 'sorcs2', 'nkap', 'krtap2-3', 'kl', 'dcaf1', 'slc2a5', 'rab18', 'bambi', 'ascc1', 'tmtc1', 'mmp28', 'rab2a', 'lrp1b', 'prr15', 'cux2', 'sgcg', 'btbd1', 'ccdc200', 'ugt8', 'dpysl2', 'etv3l', 'gtpbp4', 'sdc1', 'sema3g', 'klrk1', 'plekhh3', 'smim17', 'gbp7', 'abca8', 'pja2', 'dkk4', 'klhl38', 'znf467', 'atp6v1e1', 'azin2', 'sec24d', 'slc5a11', 'scai', 'tmem223', 'ranbp10', 'krtap21-2', 'cgas', 'zbtb38', 'sntb1', 'reep1', 'fam171a2', 'msrb3', 'kiaa0100', 'cenpf', 'pigw', 'cyp4f2', 'adamts12', 'pheta1', 'nedd4', 'psmd12', 'g0s2', 'rragd', 'fsd1l', 'fiz1', 'eif5b', 'ifi27l2', 'carm1', 'ankrd13d', 'nol9', 'nrros', 'impact', 'ivl', 'sgta', 'st6galnac4', 'mab21l1', 'insm2', 'kdm1a', 'znf274', 'fam131b', 'tomm22', 'cd3e', 'magef1', 'pygl', 'gata5', 'ehd3', 'arhgap9', 'chchd10', 'cirbp', 'wdr83', 'chtop', 'st7l', 'diaph3', 'ifi27', 'or2t34', 'fem1c', 'has2', 'idh3a', 'cxcl11', 'arhgap31', 'tinagl1', 'kifc3', 'hikeshi', 'slc35c1', 'g3bp2', 'has3', 'anos1', 'ap1ar', 'npdc1', 'dot1l', 'exoc3l4', 'morn5', 'spr', 'foxs1', 'parp12', 'mkrn3', 'pou3f3', 'gpx3', 'anxa11', 'pink1', 'sft2d1', 'kcnn2', 'mtss2', 'lrit1', 'zc3h12d', 'scaf11', 'rpel1', 'pkn1', 'ccl8', 'trdn', 'terb2', 'fshr', 'dsg2', 'rnf207', 'ric8b', 'lhx2', 'stard10', 'frem1', 'slc35f3', 'calml6', 'akna', 'hspa5', 'psma1', 'pfn3', 'rogdi', 'krt85', 'arhgap6', 'gpd1', 'cenpi', 'chrnd', 'tmprss11b', 'rab34', 'arhgdia', 'rprd1b', 'anxa10', 'rnf125', 'zscan5b', 'emilin2', 'stk25', 'htra1', 'emilin1', 'raver1', 'mfng', 'klhl17', 'grina', 'gpr27', 'jakmip2', 'or8h1', 'deup1', 'slc22a6', 'plekhg4', 'or8i2', 'tespa1', 'pamr1', 'ddx19b', 'dppa4', 'sytl4', 'fam71f1', 'sox13', 'dpy19l4', 'phf11', 'gpr171', 'dmxl2', 'psme2', 'cd1a', 'lzic', 'cenpv', 'ttpal', 'taf4', 'cystm1', 'ssbp1', 'arhgef16', 'krtap13-4', 'fnip1', 'nme9', 'krt75', 'ankrd49', 'klhl32', 'nol12', 'cox6a2', 'susd4', 'pnpla7', 'jun', 'atf3', 'rrm2b', 'foxred1', 'fcar', 'src', 'slc9c1', 'slc22a2', 'sypl1', 'pole', 'ankrd27', 'znf76', 'akr1c3', 'cd164l2', 'sfr1', 'drc3', 'cir1', 'lnx1', 'elovl4', 'mgp', 'wdr61', 'myo5a', 'arr3', 'sntn', 'lgals4', 'tph1', 'anks1b', 'cse1l', 'znf546', 'leprot', 'cdc20b', 'c10orf67', 'p2rx5', 'cpne9', 'zscan22', 'nudt11', 'tp53bp2', 'onecut2', 'klrf1', 'triml1', 'stat2', 'brwd1', 'cst6', 'plscr4', 'drd3', 'hsd17b14', 'kif7', 'c1orf127', 'repin1', 'map2k7', 'tbx22', 'rnf217', 'tbr1', 'tdp1', 'klhl30', 'prss1', 'nid2', 'glrx5', 'tomm70', 'stap1', 'ercc1', 'ucn', 'tnc', 'il12rb2', 'usp4', 'kcnh3', 'krba2', 'rabep1', 'osbpl8', 'ndufa2', 'ddx54', 'etfdh', 'ddx3x', 'cntn2', 'api5', 'khdrbs2', 'rfk', 'prok1', 'cd2', 'uqcrq', 'znf768', 'helz', 'dsn1', 'echdc1', 'nop58', 'ankrd16', 'clcc1', 'tlr10', 'ulk1', 'ttc9', 'polg2', 'ostm1', 'niban3', 'arhgef39', 'stat1', 'celf6', 'ap4e1', 'bglap', 'sharpin', 'or6b1', 'meox2', 'ubash3b', 'cadm4', 'eif2ak2', 'ttc12', 'c7orf25', 'slc1a1', 'tm4sf5', 'gorab', 'pdk4', 'ndrg4', 'cenpn', 'tmprss2', 'sdf2l1', 'krt77', 'zbtb48', 'kif13b', 'rrs1', 'ly6k', 'etv4', 'slc38a9', 'spidr', 'znf407', 'map3k5', 'trappc5', 'zc3h18', 'or5k3', 'tprkb', 'sec62', 'ubl3', 'nup210l', 'magel2', 'drd4', 'ormdl3', 'fndc9', 'pphln1', 'mal', 'arl4a', 'lmx1b', 'mapre2', 'tm9sf4', 'cox18', 'plekhn1', 'gprc5c', 'ppwd1', 'susd1', 'laptm4b', 'tfam', 'galc', 'dchs1', 'cln5', 'sla2', 'mbd6', 'tprn', 'mbnl2', 'zc3h6', 'hrh4', 'fancd2', 'barhl1', 'gucy2c', 'emx2', 'tmpo', 'ankrd10', 'nip7', 'pitpnc1', 'ankrd54', 'hspb6', 'erlin2', 'batf', 'carhsp1', 'milr1', 'rnf152', 'znf334', 'rtp4', 'dnd1', 'fntb', 'gpsm1', 'acvr2a', 'synpr', 'syt7', 'washc3', 'ltbr', 'fam185a', 'ifna16', 'c1qtnf9', 'ncapg2', 'sec24c', 'ifit2', 'spi1', 'hnrnpf', 'ccne2', 'ccar1', 'or51a2', 'slc12a6', 'adtrp', 'ptk7', 'cramp1', 'krtap10-7', 'asic3', 'larp4b', 'nlgn4x', 'eif4b', 'snf8', 'agtr2', 'edil3', 'lmo3', 'apoa1', 'znf716', 'st3gal4', 'b4galnt1', 'tecpr2', 'asap3', 'ggt7', 'dalrd3', 'stt3a', 'srr', 'keap1', 'serpinb6', 'ccng2', 'c8orf74', 'pthlh', 'neil1', 'fam53c', 'rad18', 'nkapd1', 'slain2', 'vps36', 'negr1', 'pfn4', 'ftcdnl1', 'zbed2', 'znf626', 'ascl2', 'sox17', 'c1ql2', 'pcid2', 'sele', 'smim31', 'znf497', 'cep85l', 'szrd1', 'opa1', 'cntd1', 'mt-nd4', 'ubl4a', 'dcbld1', 'slc16a9', 'pnma8c', 'ppp1r37', 'ccdc127', 'aamdc', 'glo1', 'hsfx4', 'ppp1ca', 'fam118a', 'mfap3l', 'lck', 'fam241b', 'tinag', 'smg1', 'duxb', 'naa20', 'mink1', 'znf649', 'ifna5', 'dusp9', 'relb', 'fgl2', 'ptges', 'smco3', 'tex53', 'trim60', 'pank4', 'zdhhc11b', 'pi4k2a', 'c2orf15', 'rgs18', 'spata7', 'cd33', 'znf552', 'lyrm2', 'pgs1', 'vti1a', 'lce2a', 'dkk2', 'gcc2', 'palm', 'tmem17', 'lipt1', 'znf354c', 'tlx2', 'upk2', 'or1l3', 'chmp4b', 'esyt3', 'pir', 'tmem187', 'rnf11', 'ppp1r3d', 'ermap', 'epgn', 'spaca6', 'ppp1r14d', 'tex35', 'sirt4', 'tia1', 'yy1', 'lrrc2', 'sit1', 'runx3', 'mepe', 'bmx', 'tep1', 'lman2l', 'atad2b', 'rimbp2', 'dusp2', 'setd7', 'tmem70', 'znf544', 'rcan2', 'ncaph', 'ehd1', 'cab39', 'mfsd12', 'hoxa3', 'wwox', 'tmem256', 'gltpd2', 'tubgcp2', 'ryr2', 'or4k13', 'cox10', 'smim13', 'stra6', 'csn2', 'dpagt1', 'or5m3', 'dmac2', 'tie1', 'pomgnt1', 'birc5', 'tff1', 'ankrd11', 'gpr158', 'fkbp10', 'hao2', 'fam13b', 'slc16a12', 'wfikkn2', 'slc16a6', 'igfn1', 'ebag9', 'iah1', 'plxna2', 'chst11', 'slc6a7', 'ak1', 'ascc3', 'surf4', 'snx19', 'gsr', 'pspn', 'trim10', 'xpnpep2', 'pramef10', 'ccdc183', 'ddx20', 'itfg2', 'cdc16', 'mgrn1', 'pmis2', 'znf667', 'rxfp3', 'dync2h1', 's100a7l2', 'znf43', 'wdr24', 'fgf17', 'pmp2', 'znf283', 'catspere', 'hhla2', 'hsbp1', 'gpx4', 'emc9', 'matn2', 'znf548', 'ifrd1', 'cpsf2', 'mx2', 'gimap6', 'fam90a26', 'slc4a4', 'samd13', 'acsbg1', 'osbpl7', 'znf675', 'shank3', 'dnmt3b', 'mecom', 'znf564', 'zscan32', 'mpo', 'exosc1', 'il3', 'trim64c', 'hnrnpl', 'znf34', 'ufc1', 'ccl17', 'ctdp1', 'slc5a10', 'myom3', 'prox1', 'dusp6', 'eras', 'pf4v1', 'scd5', 'fgfr4', 'ccdc70', 'slc25a42', 'pnp', 'ctsz', 'pmvk', 'l1td1', 'tmprss9', 'znf891', 'klhdc1', 'ankrd31', 'wdr19', 'ptafr', 'epha6', 'fbxo24', 'spanxb1', 'kiaa1841', 'mipol1', 'tomm40', 'tnnt1', 'amer1', 'znf25', 'adat2', 'parvb', 'atpsckmt', 'scfd2', 'aldh5a1', 'rfx5', 'clec12b', 'cnnm1', 'mafk', 'txnl1', 'or10a5', 'tspan31', 'unc5a', 'cox7a2l', 'snapc1', 'tex12', 'abcc11', 'dlst', 'slc16a13', 'mt1x', 'snrnp200', 'map2k4', 'sdk1', 'ppm1n', 'osbpl3', 'lemd2', 'dmrta1', 'mrrf', 'esf1', 'tas2r38', 'ints6l', 'csrp1', 'muc13', 'acbd6', 'akap12', 'fam189a2', 'psmb3', 'cshl1', 'chac2', 'fancm', 'prpf3', 'syndig1l', 'or8b2', 'pacrgl', 'clec18c', 'fbxl2', 'paxx', 'pald1', 'gje1', 'myom2', 'pmf1', 'c1orf158', 'spn', 'kcnu1', 'adh1b', 'poll', 'crh', 'c3orf38', 'gpatch8', 'krt3', 'evc2', 'figla', 'tert', 'foxc1', 'kcnk5', 'atl1', 'aurkc', 'lhpp', 'gpr146', 'zmym5', 'clk4', 'c16orf74', 'synm', 'slc2a1', 'arid3c', 'cwf19l2', 'prrg1', 'pdss1', 'mau2', 'mus81', 'or5h15', 'arsg', 'gast', 'tssk4', 'rgsl1', 'syt2', 'unc13d', 'eno1', 'tbcb', 'alg14', 'tdrd3', 'nxnl1', 'amhr2', 'tm9sf1', 'trhde', 'micos13', 'pprc1', 'gramd2b', 'urgcp', 'ppp1r3b', 'clic4', 'pgm5', 'actr3', 'slc9a3r2', 'cuedc2', 'faxdc2', 'znf607', 'pxylp1', 'clec10a', 'cd99l2', 'ncs1', 'eif3e', 'mnat1', 'fam160b2', 'fsd2', 'fgb', 'rars2', 'taf1l', 'scgb2b2', 'cacna1b', 'nol4', 'hspb2', 'tp53rk', 'nts', 'lingo4', 'ptpa', 'gtf3c5', 'prkacb', 'dock3', 'bnc1', 'pigq', 'rab3d', 'pitpnm1', 'c19orf67', 'rnf181', 'slco2a1', 'lingo3', 'hrh3', 'icam4', 'nipal4', 'hcn4', 'neto1', 'capza2', 'shroom4', 'fgd2', 'ube4b', 'crem', 'fanci', 'or4f15', 'trim17', 'cx3cr1', 'zfyve28', 'cblb', 'snx5', 'cytip', 'arl8b', 'slc7a7', 'gimap5', 'pla2g4b', 'fosb', 'trpc7', 'prxl2a', 'wdr37', 'sik3', 'lmo4', 'fam229b', 'eif3b', 'gpr141', 'dbx2', 'nrsn1', 'zpbp2', 'cetn1', 'axl', 'mchr1', 'pou2f1', 'dph3', 'eys', 'a2m', 'znf566', 'c19orf84', 'znf723', 'togaram1', 'map2k1', 'ttc37', 'btbd11', 'pcdhga2', 'cd19', 'sh3tc2', 'tmem177', 'nanp', 'entpd1', 'mlec', 'nmur2', 'plet1', 'eda2r', 'lypd4', 'castor1', 'rnf186', 'crtac1', 'or13f1', 'tcfl5', 'psors1c1', 'or2a4', 'serpina6', 'lyzl4', 'or8k3', 'cyb5a', 'samd15', 'znf562', 'c1qa', 'ccnt1', 'dgat2', 'scnn1g', 'slc39a6', 'fam187b', 'mid1ip1', 'tsku', 'ogfod1', 'emc6', 'ca5b', 'lrp2', 'qrfp', 'abcc8', 'fgf10', 'robo4', 'pacc1', 'msto1', 'mat1a', 'tada2a', 'arg1', 'rab3b', 'siah1', 'slc25a12', 'polr3d', 'nt5dc3', 'lmnb1', 'elavl2', 'mep1a', 'clba1', 'ppial4a', 'ca12', 'nfkbia', 'srsf7', 'adgrf3', 'vps29', 'syap1', 'vgll1', 'vopp1', 'ebpl', 'ndufv3', 'scn7a', 'cops7a', 'xkr8', 'or10v1', 'slitrk4', 'xrra1', 'iyd', 'cep295', 'dtx1', 'setdb1', 'or8b12', 'kat8', 'slc44a2', 'gpat2', 'slc4a3', 'cptp', 'stxbp1', 'ddx17', 'or4k17', 'tcea3', 'usp40', 'gdpd5', 'stk35', 'ckmt2', 'golga8b', 'rnf169', 'or2j2', 'rc3h1', 'cdh11', 'hscb', 'tmem101', 'fam135a', 'fn1', 'mlana', 'brd7', 'herc1', 'ccr3', 'fabp6', 'emc1', 'zgrf1', 'znf79', 'card18', 'crk', 'pzp', 'tesc', 'rab42', 'ccdc42', 'kiaa0408', 'synj2', 'recql', 'angptl8', 'cemp1', 'hcfc1', 'sdhaf3', 'eomes', 'orc6', 'tlx3', 'selenoi', 'naprt', 'rcbtb2', 'ankrd2', 'mrgpre', 'hsph1', 'ppm1l', 'septin2', 'gemin5', 'stoml1', 'nars2', 'ctnnb1', 'cldn19', 'ppil3', 'cd55', 'rnf182', 'clec4e', 'calhm3', 'ccl25', 'tas2r9', 'elovl7', 'exosc5', 'aldh1l1', 'pts', 'sytl1', 'mphosph8', 'chchd1', 'hnrnpm', 'meltf', 'tbl2', 'ophn1', 'klhl28', 'prcc', 'defb112', 'nfix', 'pbdc1', 'sgpp2', 'tgif2lx', 'xk', 'cchcr1', 'znf511', 'ppil4', 'pdha2', 'slc22a31', 'commd7', 'rpp14', 'nr2e1', 'pik3c3', 'vcam1', 'tlr1', 'ccn6', 'resp18', 'frmd8', 'kdm3a', 'smim32', 'slc35a3', 'lce1c', 'lrrc8b', 'c12orf76', 'cdip1', 'dagla', 'znf383', 'actg1', 'galnt3', 'capsl', 'or2j3', 'rpain', 'creb1', 'zbtb47', 'igsf23', 'grin3a', 'lcn15', 'hcar1', 'lmx1a', 'hey1', 'ehbp1', 'or10ad1', 'map1lc3c', 'ptprk', 'tead3', 'sema5b', 'phb2', 'doc2a', 'katnal2', 'ppp1r16b', 'mfsd4a', 'eps8l2', 'or5b12', 'col9a1', 'masp2', 'nup42', 'sat2', 'casp14', 'atad1', 'slc35a4', 'pomgnt2', 'msh3', 'krt33a', 'slc13a3', 'nphp4', 'pnpla3', 'mri1', 'znf117', 'clhc1', 'slc23a2', 'stard6', 'hspa4l', 'tcf7', 'hyal4', 'osr2', 'dda1', 'znf154', 'wasl', 'itih2', 'jak1', 'slc25a25', 'six2', 'tspan2', 'znf599', 'qpctl', 'c15orf40', 'ctxnd2', 'ndufaf6', 'nup58', 'phex', 'vstm1', 'map6', 'znf710', 'vangl2', 'cog2', 'qsox1', 'krt6c', 'krtap13-2', 'chrnb2', 'rdh10', 'ttc36', 'snrpc', 'nhlrc4', 'lsp1', 'atg4b', 'tshz3', 'plekhg5', 'guk1', 'tasor', 'dhcr7', 'coa4', 'spata9', 'spen', 'fbxo36', 'cpne7', 'agfg2', 'rhpn1', 'rhce', 'mall', 'ndufv1', 'sh3pxd2a', 'hmbs', 'gorasp1', 'necab2', 'ldah', 'pdzd3', 'smad9', 'rbbp6', 'prkch', 'cfhr2', 'ranbp3l', 'intu', 'eif5a2', 'c19orf54', 'n4bp3', 'pudp', 'sh3gl1', 'nfatc2ip', 'unc80', 'nnat', 'cpeb3', 'rab24', 'zbtb14', 'rgpd3', 'marcks', 'slc12a3', 'prex2', 'retreg3', 'pnpo', 'ptchd1', 'wdr76', 'clec19a', 'atp6v0e1', 'dsel', 'armh1', 'ric1', 'srl', 'tmem242', 'ndnf', 'arl3', 'cul4b', 'cpb1', 'tex38', 'pifo', 'arhgef3', 'acbd4', 'apcdd1l', 'plppr1', 'tceal4', 'naga', 'znf235', 'or10d3', 'myh2', 'rb1', 'utp20', 'tent5d', 'vps50', 'znf367', 'padi1', 'ldb3', 'tubd1', 'slc1a6', 'dgcr2', 'lats2', 'tapbp', 'usp11', 'rbmxl1', 'mrnip', 'micall1', 'med21', 'gipc2', 'znf711', 'magohb', 'ctsd', 'mmrn1', 'tango6', 'slc25a17', 'scn9a', 'myo3a', 'vps9d1', 'ephx4', 'veph1', 'gbf1', 'mkx', 'cldn8', 'rab1a', 'or10r2', 'ugt2a1', 'htr1f', 'plekha7', 'or6c74', 'sox10', 'gli3', 'mansc1', 'tmem241', 'pcsk2', 'il1rapl1', 'tceal5', 'loxhd1', 'nr2f1', 'zic1', 'chchd7', 'emsy', 'tekt3', 'prf1', 'mbd5', 'prss45p', 'paox', 'reep2', 'znf316', 'dkkl1', 'ube2m', 'bend4', 'il20rb', 'art1', 'polr2i', 'lgals8', 'birc2', 'lin7a', 'gskip', 'actl8', 'or5k4', 'tkfc', 'ece2', 'soat2', 'pmpcb', 'med12l', 'znf83', 'exoc3', 'slc35d2', 'cul9', 'ucp2', 'prpf38a', 'mettl7a', 'ifitm5', 'slc24a2', 'znf484', 'tp53bp1', 'vps35l', 'ptpre', 'plxna3', 'zdhhc13', 'pde4b', 'slc26a8', 'utp14a', 'znf703', 'cd200r1', 'crtc2', 'brd3os', 'slc66a3', 'fcmr', 'csnk1g1', 'nat14', 'chd6', 'casp3', 'psg4', 'ebp', 'msantd4', 'tsen34', 'usp49', 'ferd3l', 'pnoc', 'zbed9', 'fyb1', 'or52n5', 'lum', 'mrfap1', 'colec10', 'spry2', 'magec3', 'zbtb41', 'tmem87b', 'trim48', 'cdc25a', 'gyg2', 'syt17', 'mafa', 'ccdc97', 'yju2', 'sds', 'ifi16', 'or4c16', 'iqca1l', 'pnpla1', 'magi2', 'slc25a13', 'arid4a', 'baz1a', 'ptpn18', 'klhl13', 'adam23', 'tnfaip3', 'odaph', 'elf1', 'clcn4', 'ca6', 'csrp2', 'uggt1', 'sowahd', 'shisa7', 'gnpat', 'rnf25', 'trio', 'dlx5', 'rtraf', 'samhd1', 'cfap410', 'eme1', 'wdr7', 'cyp2c18', 'esx1', 'slc22a4', 'cenpq', 'zeb1', 'znf439', 'fbl', 'znf654', 'ugt2b4', 'fubp3', 'macrod2', 'apc', 'pkmyt1', 'slitrk2', 'smyd5', 'tmem248', 'rnf220', 'zp1', 'plekhb1', 'hspa2', 'gpr32', 'serpinb1', 'rab5c', 'atraid', 'ubap2', 'c5orf15', 'dnajb12', 'tpte2', 'tnip2', 'znf440', 'eps8l1', 'ilk', 'rbm17', 'tktl2', 'znf324b', 'krtap13-1', 'prdm14', 'rbm45', 'defa3', 'cadps', 'hpca', 'chit1', 'bzw1', 'slc5a8', 'tbc1d2b', 'sms', 'hmgb3', 'csdc2', 'pnrc2', 'suv39h2', 'stk39', 'cdyl2', 'slx4ip', 'gulp1', 'smpd3', 'tti2', 'c11orf68', 'vat1l', 'galm', 'bid', 'pgpep1', 'asb3', 'l3hypdh', 'mier1', 'nek6', 'lcor', 'myh11', 'trnau1ap', 'sos1', 'hspe1', 'c2orf42', 'ly6g6d', 'ankrd46', 'tnfrsf13b', 'cntnap2', 'pea15', 'nubp2', 'ccny', 'coq10a', 'agtr1', 'or4d1', 'lilra6', 'foxo1', 'prr15l', 'obp2b', 'crebzf', 'tuba1b', 'cars2', 'cpa3', 'drd2', 'kcnh7', 'tnni3k', 'htr2b', 'dele1', 'map3k21', 'sgtb', 'ct55', 'bckdha', 'acad11', 'smim28', 'tmem217', 'vmo1', 'gal', 'cerkl', 'zfp82', 'papola', 'gga2', 'mtmr12', 'rad21l1', 'or11l1', 'kcnma1', 'frmd1', 'nup54', 'spem1', 'slc16a10', 'xab2', 'znf630', 'kctd14', 'sptbn5', 'scarf2', 'iqck', 'arhgef9', 'lrat', 'prr14l', 'plod1', 'slc50a1', 'scrib', 'csk', 'mdp1', 'l1cam', 'orc2', 'otoa', 'gvqw3', 'dcaf4l2', 'slc8a2', 'ikbkg', 'phc2', 'cdk3', 'rnf122', 'snu13', 'glis1', 'sbno2', 'hcst', 'plpp3', 'rbm22', 'krtap3-2', 'glg1', 'mgat5b', 'znf714', 'sbspon', 'znf347', 'tinf2', 'prrt1', 'fgf5', 'gucd1', 'rdh14', 'frmpd4', 'hnrnpc', 'foxa3', 'arglu1', 'prkci', 'ywhab', 'mafg', 'ttll8', 'prdm8', 'actn1', 'page3', 'arl2', 'nr1h2', 'ttc17', 'xpo6', 'insyn2a', 'dnah10', 's1pr5', 'cyp3a5', 'ube2z', 'garem2', 'asnsd1', 'cep164', 'ahnak2', 'trmt2b', 'maoa', 'dnah11', 'rgr', 'ankfn1', 'gadd45b', 'mas1', 'gtf2e1', 'nudt10', 'agps', 'ttyh3', 'rnf19b', 'casq2', 'plppr2', 'or52n1', 'tmem65', 'snrnp35', 'slc6a16', 'slc6a14', 'aktip', 'faap100', 'vps45', 'wiz', 'top3b', 'hdac4', 'ecrg4', 'ncr3', 'med18', 'treh', 'ublcp1', 'fabp2', 'rtl5', 'banf1', 'tigd4', 'cyp51a1', 'cd3d', 'bfsp1', 'tnfrsf13c', 'ehf', 'abca6', 'jph3', 'phf20l1', 'lsm14b', 'cd244', 'zfp30', 'ttc23l', 'rprd2', 'abr', 'agk', 'pcbd1', 'znf516', 'nxph1', 'dusp23', 'nsun5', 'nol6', 'cd80', 'srgn', 'slc39a13', 'pard3b', 'plpp6', 'tmem253', 'arhgdig', 'vdr', 'khdrbs1', 'c4orf50', 'micb', 'pde7a', 'exoc4', 'ss18l2', 'pcyox1', 'cst4', 'prnd', 'scgb1c2', 'cct8', 'coq5', 'fcho2', 'gatad1', 'snrpb', 'kcnj6', 'kcne2', 'apol2', 'gpcpd1', 'mbd4', 'cox11', 'lrrk1', 'rnaset2', 'ngb', 'pcdhgb2', 'slc16a3', 'tjp3', 'thra', 'anxa1', 'or14a2', 'maged2', 'slu7', 'irak1', 'sfpq', 'fbxo43', 'chp2', 'cplx3', 'anxa9', 'pex14', 'omd', 'znf280c', 'icmt', 'ube2a', 'fam160a1', 'cxcl13', 'mtrf1', 'cab39l', 'kcnh1', 'shtn1', 'tmem247', 'cxcl17', 'or2t27', 'pla2g1b', 'noa1', 'ppef2', 'pi16', 'myl9', 'bzw2', 'stath', 'cep83', 'diaph2', 'kctd3', 'gzmk', 'map4k4', 'znf3', 'akap3', 'znf605', 'zfp41', 'frg2c', 'neurog2', 'atp1b3', 'fam189a1', 'tmc5', 'cbr4', 'plxnc1', 'pomt2', 'znf311', 'uqcrc2', 'cdk5r1', 'ccdc187', 'ctsc', 'calr', 'ift22', 'czib', 'znf699', 'cgn', 'elk1', 'serbp1', 'rbm3', 'pdgfa', 'or1c1', 'hdhd5', 'sdr16c5', 'dusp15', 'kat5', 'mtor', 'nipsnap3b', 'ttyh2', 'cltb', 'spred1', 'me2', 'pspc1', 'trim63', 'plgrkt', 'dbt', 'cfap69', 'avpr1a', 'rcn1', 'hsf2', 'preb', 'stx10', 'znf529', 'znf112', 'rarres1', 'nox1', 'sp110', 'cd101', 'rxfp1', 'wnt10a', 'grik5', 'gtf2h4', 'syngr3', 'abra', 'mtnr1b', 'atp5mc1', 'znf174', 'rsph1', 'rmi1', 'zbtb39', 'hapln2', 'f10', 'slc8a1', 'krtap9-9', 'megf6', 'krtcap3', 'znf33a', 'ap3m2', 'opcml', 'krtap17-1', 'b3gnt2', 'lhx3', 'tbc1d32', 'lefty1', 'polr2e', 'hsd17b11', 'ap5s1', 'abca13', 'izumo1', 'eef1akmt2', 'fbxw12', 'scp2d1', 'c14orf132', 'ttf2', 'nr1d2', 'csde1', 'scg2', 'snap47', 'polr2d', 'nudt9', 'itprip', 'apom', 'pak5', 'dnajc5b', 'cfap53', 'rdh12', 'c8orf82', 'tmem121', 'slc22a11', 'ak9', 'gpr1', 'copb2', 'slc2a8', 'dmbt1', 'rtn4rl2', 'znf706', 'wnt8a', 'gjb1', 'chrne', 'hivep2', 'timm29', 'rnf121', 'lrrn3', 'scaf4', 'faap20', 'sh3glb2', 'ccdc172', 'wscd1', 'mtch2', 'abhd8', 'arl1', 'ptpn23', 'glyr1', 'nlrp1', 'osbpl1a', 'wfdc13', 'pitpnb', 'uba1', 'or4l1', 'gadd45a', 'wbp4', 'extl3', 'cnp', 'ptp4a3', 'chst7', 'rasgrp3', 'anapc15', 'chchd4', 'majin', 'cyp19a1', 'bbs2', 'znf532', 'pdgfra', 'txn2', 'cyth2', 'ggt5', 'brs3', 'cox7c', 'prkcq', 'musk', 'fam111a', 'slc2a6', 'rab6a', 'aldoc', 'supv3l1', 'vwa5a', 'pdzk1ip1', 'ier2', 'bap1', 'bmp6', 'lrrc3', 'tmem81', 'sema3b', 'nhlrc1', 'c1r', 'ca14', 'znf26', 'rgma', 'galnt8', 'plxdc2', 'pdpn', 'reps2', 'tbx6', 'tas1r3', 'armcx4', 'bex5', 'pkd2', 'dera', 'smim33', 'kcng4', 'snx7', 'epb41l4a', 'msra', 'ddx55', 'rab8b', 'pfkp', 'il36a', 'znf215', 'riox2', 'mthfd2', 'kiaa1522', 'adcy8', 'znf474', 'dpy19l1', 'ifit1b', 'cldn23', 'fpr2', 'glmn', 'ubr2', 'casp7', 'ccdc38', 'primpol', 'itga2', 'apool', 'copz1', 'glra2', 'c1qtnf7', 'or4n5', 'fetub', 'tiam1', 'cltrn', 'ddx49', 'ap2a1', 'rhob', 'slc6a13', 'lilrb2', 'daam1', 'kalrn', 'cplane2', 'tomm7', 'psmd5', 'jrk', 'hnrnpll', 'grk4', 'cep72', 'acan', 'cstf2t', 'suds3', 'nae1', 'hjurp', 'plaur', 'samm50', 'gtf2a2', 'wipf3', 'il1rl1', 'fance', 'gcsaml', 'cort', 'ttc39b', 'lsm7', 'cc2d1a', 'fut7', 'ak4', 'itpripl2', 'aicda', 'pi3', 'pycr2', 'plekhb2', 'stx11', 'mapkapk5', 'glp1r', 'tmprss4', 'kdm4c', 'ube2l5', 'rasl10b', 'fcer2', 'fbxo9', 'hdac1', 'ankrd33', 'samd11', 'cep57', 'stoml3', 'c1orf122', 'stard13', 'htra2', 'gins2', 'zfand4', 'epn2', 'msh5', 'gle1', 'cyp11b1', 'zswim2', 'coro1c', 'jhy', 'cox20', 'vgll4', 'atp6v1f', 'ezh2', 'ubc', 'hspa1l', 'arhgap11a', 'rer1', 'lin52', 'c16orf87', 'gtf2h3', 'cd300a', 'aadacl2', 'ost4', 'mtr', 'nbpf1', 'tent5c', 'rint1', 'amn1', 'rnf146', 'copz2', 'bcat2', 'or2b6', 'apobec3g', 'fez1', 'nxph4', 'fermt1', 'c2cd2l', 'kcnv1', 'isoc1', 'nbdy', 'cd40lg', 'garnl3', 'ifitm10', 'p4ha1', 'gsx1', 'cc2d1b', 'tmem31', 'anks6', 'gdpd2', 'lrrc66', 'ulk4', 'xirp1', 'strip2', 'pacrg', 'zfpl1', 'msmb', 'zwint', 'txnl4b', 'ccl14', 'ptgr1', 'trir', 'mcidas', 'fxyd6', 'ddhd1', 'pik3r4', 'angptl7', 'hic1', 'ca4', 'shisal1', 'fzd1', 'med19', 'cst7', 'gprasp2', 'psmd3', 'znf57', 'gclc', 'flna', 'mta1', 'cilp', 'vamp5', 'c19orf85', 'pate3', 'crabp2', 'serp1', 'cndp1', 'tmem263', 'tspan10', 'sqle', 'cxcr2', 'znf471', 'ttll9', 'krtap20-2', 'trim28', 'otud1', 'lime1', 'defb124', 'cdhr5', 'cyc1', 'ggt2', 'rhbdl3', 'hdac11', 'cep44', 'or2a12', 'cxadr', 'dna2', 'psd', 'zic5', 'cks2', 'mixl1', 'smim10l2a', 'ankrd63', 'gbp5', 'dnaja2', 'cyp2r1', 'drosha', 'pcdh11x', 'armc10', 'aldh6a1', 'tmem125', 'adal', 'ssh2', 'pgap3', 'nr0b2', 'trak1', 'adcy1', 'cactin', 'r3hdm1', 'ccr2', 'gabra1', 'asf1a', 'atpaf2', 'hdgfl2', 'cfap61', 'c2cd4c', 'il7r', 'mageb1', 'oscp1', 'fchsd2', 'c4orf33', 'mblac2', 'adgra1', 'znf75a', 'adgrl2', 'git1', 'mvb12a', 'cdc42ep5', 'c1orf167', 'cers2', 'pten', 'calm1', 'nde1', 'gsdmb', 'chst8', 'fgd5', 'snca', 'tp53inp1', 'sprr5', 'kirrel1', 'c4orf19', 'mrto4', 'cpsf4', 'pcgf3', 'kank4', 'crppa', 'dzip3', 'adam18', 'or52a5', 'znf132', 'znf622', 'kiaa1549l', 'c12orf50', 'pax9', 'pygo2', 'slain1', 'eif6', 'harbi1', 'arrdc4', 'sulf2', 'c9orf135', 'cnmd', 'cmtm3', 'fgf9', 'or10z1', 'etnk2', 'pbrm1', 'ermn', 'bod1l2', 'edar', 'evx1', 'kiaa0895', 'ttc21b', 'btnl8', 'syn1', 'eva1a', 'nop14', 'etfb', 'dnase1l1', 'dync1li2', 'cxcl8', 'slc46a2', 'egfr', 'slc9a6', 'mmab', 'dclre1a', 'ide', 'cwc27', 'evx2', 'st3gal3', 'ubtf', 'snx12', 'vasn', 'ipo11', 'antxr2', 'kif21b', 'clec4m', 'slc36a1', 'tmem225b', 'f3', 'aimp2', 'fam83d', 'cyp21a2', 'lrsam1', 'txndc16', 'ppp1r12a', 'ms4a18', 'slc35f5', 'egf', 'ntng2', 'rrp8', 'smarcd1', 'hoxa7', 'sprr1b', 'kansl1', 'prame', 'spaca4', 'sco2', 'celsr1', 'tbl1x', 'c9orf24', 'ctu2', 'neurog1', 'pcdh1', 'gdf11', 'cldnd2', 'foxq1', 'mep1b', 'grhl1', 'rapgef5', 'large2', 'slirp', 'cdc37l1', 'znf324', 'nkain1', 'tex50', 'rhot2', 'jmjd8', 'mfap4', 'or1i1', 'slc39a11', 'senp5', 'pdxk', 'tmem250', 'xpnpep3', 'spred2', 'ncoa6', 'znf155', 'cr1', 'etdc', 'meaf6', 'cyb561a3', 'mslnl', 'cdkl5', 'osbpl10', 'tnfrsf1a', 'lto1', 'patl2', 'dgke', 'kcnq1', 'siah3', 'rgs14', 'septin1', 'rnase4', 'adora3', 'tfeb', 'elovl2', 'kctd10', 'tafa5', 'minpp1', 'or4c12', 'naaladl1', 'kifc1', 'smim26', 'nfya', 'znf184', 'pnma6f', 'inhbe', 'pou3f2', 'tmem184a', 'vcl', 'micos10', 'osbpl5', 'iqca1', 'arl9', 'paqr7', 'fam210a', 'krtap26-1', 'znf230', 'parn', 'fam3d', 'ncbp3', 'gpr183', 'kdm5b', 'rfng', 'fbxo42', 'crct1', 'irf8', 'myom1', 'snx8', 'phldb3', 'znf638', 'abcc9', 'antxrl', 'loxl4', 'hipk2', 'itpka', 'gucy1b1', 'adamts18', 'tcirg1', 'catsperg', 'syt5', 'drg2', 'klf8', 'igfl4', 'rnf14', 'fut5', 'sh3tc1', 'cpamd8', 'atp6ap2', 'apobec1', 'gas7', 'ccdc80', 'agbl4', 'klf11', 'krt23', 'stau2', 'lypd8', 'limch1', 'sufu', 'ptger3', 'rnase6', 'doc2b', 'ptx4', 'rab22a', 'mgat1', 'dbi', 'gabrb1', 'fahd1', 'unc45b', 'igf1', 'tspyl4', 'cd160', 'erp44', 'alkbh8', 'p3h1', 'tmem132a', 'kif2a', 'ace2', 'dclre1c', 'bcl9', 'zfc3h1', 'ybx3', 'atp8b3', 'f2', 'sgk2', 'ercc6l2', 'polr3f', 'nt5c1b', 's1pr4', 'cuzd1', 'ddx11', 'moap1', 'sil1', 'vwa8', 'stub1', 'pglyrp3', 'papolg', 'rbck1', 'fam76a', 'tnfsf14', 'arl6', 'vax2', 'prm2', 'ccr6', 'spink6', 'mmp16', 'tma7', 'ddx28', 'med9', 'iqcf1', 'pdlim3', 'defb4a', 'nfrkb', 'sesn3', 'lpcat2', 'atxn7l1', 'vps26c', 'fadd', 'c4orf46', 'clptm1', 'pde6a', 'gpr132', 'ciapin1', 'ap4b1', 'numa1', 'dmap1', 'ptprc', 'bend2', 'tnfrsf9', 'asb5', 'ndufs1', 'sirt6', 'crip2', 'c2orf16', 'mmp15', 'asmt', 'nt5dc4', 'faah2', 'mt2a', 'coa7', 'hmgcs2', 'edn2', 'gpr101', 'bola1', 'atp5pb', 'ebf2', 'patj', 'nudcd3', 'fam167a', 'mdfic2', 'rnf168', 'rasgef1a', 'rilp', 'tm9sf3', 'atp6v0d1', 'myl6b', 'mocos', 'gngt2', 'krtap1-5', 'cryga', 'eif2ak3', 'ipo4', 'gpr162', 'mxi1', 'mcf2l', 'higd1a', 'acrv1', 'ptpn2', 'tmem185b', 'prelid3b', 'sumo4', 'myh10', 'mro', 'gabpa', 'igip', 'phf3', 'wfdc5', 'slc43a3', 'adora2a', 'adam19', 'sct', 'parl', 'tmem204', 'mrm2', 'sebox', 'wt1', 'ushbp1', 'grm2', 'fstl1', 'grifin', 'gbx1', 'rnf7', 'bloc1s4', 'mki67', 'aen', 'cfl1', 'usp17l3', 'tbc1d28', 'prkar2b', 'snd1', 'znf692', 'crhr2', 'rims1', 'pitpna', 'poln', 'nkapl', 'slfn5', 'htr2c', 'acsl6', 'tdrd7', 'setd6', 'spata31d3', 'calm2', 'igsf9b', 'ttc30b', 'mgarp', 'diras2', 'slc8a3', 'lrrc52', 'ndufaf5', 'zscan10', 'wdfy3', 'pramef11', 'tfb2m', 'carnmt1', 'wipf2', 'npffr1', 'card14', 'brd4', 'znf555', 'dusp11', 'arhgap33', 'tssk6', 'cast', 'suv39h1', 'gart', 'galnt9', 'krt79', 'flt4', 'pgls', 'xrn2', 'dytn', 'c5orf24', 'rsrc2', 'nutf2', 'stk16', 'frg2', 'ipo13', 'znf502', 'thrsp', 'abhd16a', 'mul1', 'fam43b', 'gsdmd', 'ska3', 'pfdn6', 'mpi', 'cbln2', 'vash1', 'rnf144a', 'arsk', 'gorasp2', 'dpp7', 'ywhag', 'parp4', 'mrc1', 'fam118b', 'hnrnpa2b1', 'btn3a1', 'vstm2a', 'gab1', 'c7orf50', 'nup37', 'fam71e2', 'tada1', 'fbxo8', 'mycbp2', 'tspan4', 'smim12', 'krtcap2', 'lcn6', 'rgn', 'mrgprx1', 'cib3', 'fgd3', 'lgals9', 'gys1', 'rnf24', 'dmbx1', 'plch1', 'arhgap30', 'cpne1', 'pcdhga1', 'tbx10', 'nme3', 'mcc', 'mphosph9', 'fam170a', 'ncaph2', 'lrp10', 'snap25', 'tspan19', 'fxyd3', 'ampd2', 'wsb1', 'tnfrsf10c', 'hinfp', 'mrm3', 'ubxn8', 'pxdnl', 'olfml1', 'wwtr1', 'ildr1', 'efna2', 'serpina5', 'pdia6', 'dhx30', 'erap1', 'gpr152', 'wipf1', 'gpr139', 'c21orf91', 'tfe3', 'stmn1', 'mnda', 'rfx3', 'hes1', 'trib3', 'irf2bp2', 'cdr1', 'c16orf90', 'irx3', 'mppe1', 'nsmce3', 'proser3', 'rhag', 'tmem25', 'ift88', 'fam102b', 'usp42', 'aoc2', 'trpm1', 'slamf8', 'wdr27', 'apoc2', 'ndufv2', 'pcbp3', 'usp34', 'slc25a20', 'lrrc57', 'znf577', 'sys1', 'cdcp2', 'akip1', 'scrn2', 'siglec9', 'spata33', 'fgr', 'tox', 'frmpd2', 'ppfia2', 'dbr1', 'dio2', 'tmem62', 'ghdc', 'ccdc180', 'kin', 'slc25a4', 'eno3', 'ttpa', 'slc25a5', 'btbd10', 'pcdha5', 'urod', 'echdc3', 'gng14', 'pcsk1', 'aif1', 'fbxo44', 'amigo1', 'tex261', 'or51g2', 'tfec', 'iqcf2', 'flg2', 'snorc', 'krt84', 'or5j2', 'pnpla8', 'epn1', 'dcaf8l2', 'mfsd1', 'osgin2', 'cdkl2', 'tbc1d4', 'znf778', 'ccdc163', 'fsd1', 'ap1s2', 'kcnmb2', 'cdh3', 'jpt1', 'nagk', 'hebp2', 'eif2ak4', 'hrnr', 'gng5', 'phc3', 'zyx', 'prune2', 'lgals14', 'ucn3', 'crnkl1', 'mogs', 'dapk1', 'cd300ld', 'alkbh5', 'pilra', 'apod', 'get3', 'trim24', 'syt6', 'ccdc173', 'slc17a5', 'hnrnpk', 'gon7', 'ccl4', 'yipf7', 'c2orf69', 'calcb', 'spg11', 'ppp1r14a', 'btn1a1', 'trim40', 'nepro', 'casr', 'dph5', 'ankrd53', 'slc25a36', 'clic5', 'sirt7', 'zbtb17', 'gabra2', 'or10t2', 'gnl3', 'chmp6', 'pkd1l3', 'shfl', 'nek1', 'ikzf1', 'cc2d2b', 'vps26b', 'defb118', 'clock', 'treml4', 'mterf1', 'ca13', 'idh1', 'dut', 'erbb2', 'tmem211', 'ccni2', 'c1orf112', 'mycbpap', 'pcdhb10', 'trmt9b', 'tmem215', 'rbm7', 'myl2', 'gatc', 'apobec3d', 'pdha1', 'nmrk2', 'igflr1', 'fzd4', 'hspb7', 'atad3b', 'cdr2l', 'st6galnac6', 'pdss2', 'znf587b', 'adgra2', 'haus5', 'hcn1', 'ppp1r11', 'apbb1', 'tcp11l2', 'heatr6', 'ubald1', 'ciart', 'camsap3', 'rab38', 'cavin1', 'defb132', 'cd200r1l', 'gltp', 'parp1', 'nsd2', 'slc15a3', 'spata22', 'dido1', 'or51e2', 'dlec1', 'raet1l', 'or2m7', 'dhx58', 'dexi', 'col11a2', 'mmd', 'babam2', 'uroc1', 'lmtk2', 'hrk', 'cr1l', 'nynrin', 'cep295nl', 'tepsin', 'znf221', 'cyp17a1', 'utf1', 'prrc2b', 'septin14', 'tmem143', 'c4orf3', 'plin2', 'defb116', 'foxd4l5', 'mmadhc', 'znf660', 'ppp2r3a', 'hspb8', 'dcst2', 'vn1r2', 'dgat1', 'zbtb40', 'sox2', 'tspan7', 'kcnj11', 'fgf12', 'btn2a2', 'gpn2', 'ikzf3', 'il2ra', 'zc3h12b', 'nif3l1', 'stoml2', 'vps51', 'nav1', 'strbp', 'spats2', 'fxn', 'lrrc75a', 'znf648', 'col28a1', 'blvra', 'necab3', 'igll1', 'rad51ap1', 'plvap', 'hmox2', 'utp23', 'ptpn3', 'timp2', 'atox1', 'gpi', 'llgl2', 'naaladl2', 'tmem265', 'defa6', 'lipe', 'znf169', 'znf683', 'crygc', 'pth2', 'kiaa2013', 'muc16', 'osm', 'krr1', 'tspoap1', 'rtf2', 'pias2', 'dgkq', 'ppp3cc', 'sost', 'nek7', 'nhlh1', 'serinc3', 'cox7b2', 'sdad1', 'vps13d', 'vstm5', 'nfatc4', 'mcrip1', 'cacnb4', 'acbd3', 'pate2', 'smc3', 'ptprj', 'fhl3', 'pole3', 'cyfip2', 'adgb', 'rpp38', 'tc2n', 'znf862', 'thrb', 'tpst2', 'tnrc6b', 'cdh24', 'ccr4', 'txnip', 'kiaa2026', 'plac8l1', 'btk', 'arpp19', 'etv1', 'mllt11', 'rnf111', 'hs3st3b1', 'gpx8', 'nf2', 'oas3', 'rasgrf1', 'krt37', 'tspan6', 'cxxc1', 'cyp27c1', 'gpr33', 'fnbp1l', 'atp5if1', 'ccdc112', 'khdrbs3', 'asic4', 'or3a2', 'tmem175', 'gsg1l', 'fndc11', 'cyp1a2', 'cacng7', 'lrrc6', 'mmp12', 'cep135', 'vrk3', 'ahr', 'crbn', 'fgf18', 'il1a', 'il1f10', 'kiaa1109', 'gna15', 'wdr13', 'foxp2', 'depdc7', 'tspan1', 'ccdc6', 'zkscan8', 'myrip', 'fam160a2', 'flt3', 'septin9', 'cdc23', 'crocc', 'adamts8', 'lrfn5', 'ly6g5c', 'lrrc37b', 'iws1', 'nt5c2', 'eny2', 'sh3bgrl2', 'trappc3l', 'gins4', 'calb1', 'degs2', 'kcnn1', 'comp', 'znf575', 'ccr1', 'atp5mf', 'hdac9', 'dcaf6', 'prkcsh', 'pik3ip1', 's100g', 'or2t1', 'capn1', 'kif26a', 'fank1', 'med25', 'erfe', 'ctdspl', 'linc00672', 'cd163l1', 'pan3', 'znf438', 'prkar2a', 'kazald1', 'scml4', 'dedd2', 'ppp1r3e', 'pip4k2c', 'irs2', 'napg', 'wtip', 'gtf2h1', 'plce1', 'slc7a10', 'gatad2a', 'hmgcl', 'atg3', 'rab40b', 'rnf114', 'zhx2', 'sh3rf1', 'extl2', 'gpd2', 'ctnna1', 'ccng1', 'nup98', 'tex10', 'znf219', 'neo1', 'tex14', 'dok5', 'hoxd4', 'gstk1', 'hprt1', 'plpp5', 'dop1b', 'traf3ip2', 'prlhr', 'cryba2', 'ifit1', 'vrk1', 'tigd2', 'ap5z1', 'abl1', 'kdelr1', 'ido1', 'tlr9', 'bnip1', 'mapk9', 'gsto2', 'rfx1', 'pja1', 'dcaf8', 'baz2a', 'mif4gd', 'actn2', 'zscan25', 'lats1', 'gga3', 'rhbdd1', 'plp2', 'whamm', 'tada3', 'ccnh', 'sgcd', 'acp7', 'npy5r', 'gng13', 'hirip3', 'amotl2', 'atp13a1', 'aifm1', 'dse', 'lamp3', 'add3', 'avpr1b', 'irx6', 'defa5', 'kiaa1191', 'nps', 'upf3a', 'pih1d1', 'wdtc1', 'baalc', 'timm44', 'hdgf', 'jarid2', 'pcgf5', 'c20orf141', 'mmp24', 'krtap6-2', 'ctsl', 'vps13b', 'ippk', 'trat1', 'cdh20', 'adgrl1', 'dnajc15', 'mael', 'sema3a', 'kiaa0753', 'tk1', 'nelfa', 'tbc1d10a', 'lilra4', 'zbtb24', 'nppa', 'klk9', 'bcl9l', 'ccdc8', 'znf677', 'snph', 'sim1', 'chtf8', 'znf300', 'zmym2', 'znf486', 'ncstn', 'dtymk', 'acp6', 'cspp1', 'hsdl2', 'lsm6', 'lama3', 'agfg1', 'etv5', 'rab32', 'scaf8', 'haus6', 'cited1', 'slc9a3r1', 'fam111b', 'xrn1', 'adamts6', 'tex9', 'epha1', 'znf33b', 'mrtfa', 'ints8', 'batf2', 'pon1', 'ppard', 'rc3h2', 'alk', 'c9orf152', 'ggtlc1', 'ccdc110', 'efs', 'gpat4', 'dcaf11', 'jmjd1c', 'aldh9a1', 'ttc22', 'zmat1', 'rnf138', 'akap8', 'iqce', 'asmtl', 'tbcel', 'nxt1', 'camp', 'etf1', 'cyth1', 'gmcl2', 'ckb', 'csf1r', 'arhgap12', 'bcl2l2', 'cby3', 'nuggc', 'or52i1', 'sult1e1', 'cnot3', 'ubqlnl', 'kiz', 'ttc6', 'traf3ip3', 'kcnb1', 'pisd', 'msrb2', 'alox15', 'krt13', 'frat2', 'sirpb2', 'plekhm2', 'klk10', 'gdap1l1', 'isg15', 'pde8b', 'ttll3', 'hmces', 'lta', 'pdcl3', 'ttc7b', 'megf10', 'siglec15', 'noc3l', 'dnaaf3', 'pcdhb2', 'mypn', 'rorc', 'sema6d', 'cyp2e1', 'depdc1', 'znf639', 'taf6l', 'sstr5', 's100a6', 'igfbp2', 'epb42', 'commd9', 'ccdc185', 'prkd3', 'dlgap1', 'aunip', 'creld2', 'c18orf54', 'neurod1', 'pde6b', 'pom121l2', 'fbxw10', 'hspa1a', 'tom1', 'aamp', 'pcgf2', 'znf888', 'ncf2', 'itpk1', 'znf597', 'nr1d1', 'phyh', 'poli', 'hdc', 'aggf1', 'rimkla', 'slc22a24', 'il18', 'tspan13', 'c14orf93', 'snx22', 'odf3', 'gpt2', 'sgo2', 'smim27', 'elac2', 'tbc1d22a', 'gcnt4', 'zbtb3', 'fosl1', 'renbp', 'kbtbd2', 'adprh', 'simc1', 'timm23', 'cnnm2', 'ly6d', 'pigx', 'dmrt3', 'kcnq3', 'rbm19', 'dusp13', 'maz', 'tmem92', 'tubb8', 'fyn', 'atf6', 'armcx3', 'gpr17', 'dnase2', 'rrm2', 'wnt4', 'ttc9c', 'aplp1', 'rnf113a', 'tyro3', 'hira', 'atp6ap1', 'ifnl2', 'znf232', 'gfra3', 'dmtn', 'gldc', 'cdk14', 'elavl3', 'pou4f1', 'tubb2b', 'golm1', 'tfr2', 'rraga', 'slc38a4', 'itm2a', 'pigo', 'pex2', 'hipk4', 'mcm9', 'chd7', 'cpeb4', 'dolpp1', 'c17orf78', 'rab36', 'nup62cl', 'ndrg1', 'mettl21a', 'heatr5a', 'cacna2d3', 'sprr2f', 'tet2', 'col6a1', 'npc1l1', 'evi5', 'ncor2', 'smim18', 'gpr149', 'cfi', 'spsb2', 'cebpg', 'slc44a4', 'lasp1', 'rbis', 'ggh', 'kctd16', 'p2ry1', 'col5a1', 'clrn3', 'fam160b1', 'foxb1', 'tas2r39', 'kiaa1586', 'c6orf136', 'cited2', 'nub1', 'znf852', 'rin3', 'cbr3', 'dipk2b', 'anxa5', 'zglp1', 'ptov1', 'elavl4', 'adam7', 'gbe1', 'cdk18', 'nsa2', 'plekha1', 'galnt6', 'uggt2', 'tcaim', 'ino80c', 'pdcd1lg2', 'fam131c', 'ccl3l1', 'pcnt', 'sqstm1', 'stap2', 'or10j1', 'papln', 'bcl2a1', 'adh7', 'fam237a', 'mlkl', 'exd2', 'mpv17l2', 'cpne5', 'clec6a', 'mfsd5', 'mis12', 'krtap4-16', 'uqcc1', 'wfdc8', 'kdelr3', 'vsig2', 'foxp4', 'rdh11', 'dennd4b', 'map4k3', 'onecut1', 'amz1', 'sirpg', 'robo2', 'tollip', 'rec8', 'dnajc5g', 'slc38a1', 'eif2s3', 'usp38', 'rflna', 'plod2', 'vcan', 'gpn1', 'cd164', 'lrrc18', 'rest', 'atxn1l', 'timm8a', 'spata4', 'hspb1', 'srsf11', 'rybp', 'ccr8', 'fam169a', 'tex19', 'fam89b', 'cfap99', 'oxld1', 'rorb', 'ctxn1', 'ppp1r14b', 'blvrb', 'htr4', 'acsm3', 'gabrb2', 'slc16a7', 'higd2b', 'josd2', 'pold3', 'slc30a9', 'ttc26', 's100a10', 'aqp12a', 'scp2', 'mcur1', 'aoc1', 'dnajb6', 'or8a1', 'npas3', 'plekha5', 'fbxl7', 'mad2l1bp', 'fam167b', 'prps2', 'c3orf14', 'nkain4', 'tppp2', 'hmga2', 'armc12', 'nppc', 'ikbkb', 'znf74', 'eci1', 'fdft1', 'slc28a3', 'psmc1', 'cpe', 'hdx', 'lrrc74a', 'sgsm2', 'notch2', 'armh3', 'fam8a1', 'akap10', 'ywhae', 'zfp69', 'kctd18', 'fibcd1', 'ecd', 'atf7ip2', 'mier3', 'abhd14a', 'mccc2', 'kif24', 'gpha2', 'krt10', 'septin11', 'slc39a10', 'sbsn', 'myl10', 'ogfrl1', 'glb1l3', 'ormdl2', 'fcrlb', 'c5', 'rp1l1', 'ndufs8', 'hspg2', 'cpne8', 'rbm11', 'irgq', 'znf543', 'elf4', 'mtg1', 'znf518a', 'babam1', 'eya1', 'mllt6', 'fam214b', 'ndufaf2', 'igfbp6', 'lgals1', 'lilrb4', 'plek', 'klhdc3', 'nol10', 'cadps2', 'cep170', 'npc1', 'slc25a23', 'cyp2f1', 'zp4', 'unc93a', 'rtel1', 'trpm6', 'adcy2', 'crb2', 'necap2', 'ctnnbl1', 'lrp3', 'rap2b', 'clcn6', 'fgf1', 'pam16', 'parp6', 'lrrc46', 'kcna10', 'lipi', 'znfx1', 'ncapg', 'gtf3c2', 'zscan20', 'abhd6', 'prep', 'znf318', 'slc35b2', 'cemip2', 'vav2', 'ubl5', 'rnf224', 'magi1', 'tafa1', 'arhgap4', 'mccd1', 'tax1bp3', 'kiaa0319', 'asprv1', 'micu3', 'znf668', 'asph', 'f11', 'areg', 'capg', 'mt1g', 'pgbd1', 'golga1', 'cfhr4', 'nfatc2', 'drc1', 'b3galnt1', 'kctd15', 'twist1', 'asah2', 'brd3', 'atp5po', 'grb10', 'slc7a2', 'adgrg3', 'dus4l', 'cd7', 'tipin', 'magee2', 'mfsd6', 'dhrs9', 'uba6', 'spire2', 'scin', 'c1orf74', 'tdrd12', 'igfals', 'itgal', 'krt28', 'dpm1', 'mfsd11', 'fcgrt', 'prr5', 'uts2b', 'amz2', 'igdcc3', 'elof1', 'stx19', 'mmgt1', 'c12orf4', 'hbp1', 'snai2', 'nrcam', 'arfgap2', 'hdhd3', 'tcf15', 'cep192', 'pydc2', 'lce2c', 'glod5', 'dspp', 'rilpl2', 'arl14', 'atp2b4', 'or2l13', 'elmo1', 'slc22a13', 'ndst2', 'prkag3', 'ppil1', 'kiaa1210', 'ddi1', 'gch1', 'spart', 'fah', 'atxn7l3', 'dhrsx', 'ncdn', 'ocstamp', 'mob4', 'trim68', 'ftsj3', 'zbtb49', 'nus1', 'picalm', 'slc5a6', 'cxcr5', 'crybg3', 'tek', 'znf613', 'nfkbil1', 'gem', 'or5ak2', 'jpt2', 'tcaf1', 'scamp1', 'paep', 'slc38a7', 'tjp1', 'ccdc24', 'tcl1a', 'fam3a', 'trib2', 'sox30', 'pjvk', 'gfra2', 'stk24', 'ccdc27', 'mtpap', 'lrtomt', 'rft1', 'sephs1', 'srms', 'or4c5', 'best1', 'znf783', 'senp7', 'supt7l', 'c18orf25', 'slc26a5', 'ier5l', 'gsta5', 'arid5a', 'c16orf71', 'ttc9b', 'usp36', 'cavin2', 'trim26', 'znf653', 'dcaf17', 'dao', 'tekt1', 'mettl2a', 'tusc1', 'tmem40', 'prpf38b', 'galnt7', 'npepps', 'znf227', 'kdm6b', 'alpk1', 'cyfip1', 'slc36a4', 'trem2', 'lhb', 'plaat2', 'ceacam4', 'pcnx3', 'anapc7', 'gmds', 'fat4', 'c15orf61', 'nudcd1', 'hoxc6', 'prss27', 'zranb2', 'c8orf76', 'ncf4', 'oas2', 'htr5a', 'pak2', 'gja3', 'pdzrn4', 'znf674', 'sult1b1', 'nphp3', 'klc4', 'atp5mc2', 'mynn', 'nptx2', 'sc5d', 'slc25a18', 'nexmif', 'samd3', 'cyb561', 'cacna2d1', 'aasdh', 'prkar1a', 'saa4', 'sinhcaf', 'dock11', 'phactr4', 'kcnq2', 'sh3bp4', 'prss16', 'thoc6', 'alg1', 'nkx6-1', 'cited4', 'eftud2', 'rev1', 'ginm1', 'adgrg7', 'sart1', 'prr30', 'srgap3', 'trappc9', 'fam210b', 'xiap', 'dnm1', 'liph', 'capns1', 'colca2', 'l3mbtl3', 'npipb2', 'kcnk17', 'magea11', 'prr11', 'znf568', 'trim36', 'crot', 'fam71f2', 'tyw3', 'slc7a13', 'msx1', 'mpp2', 'dnah1', 'fbxl12', 'gnl3l', 'luzp1', 'tbx4', 'gpr55', 'pla2r1', 'lipf', 'aar2', 'anxa4', 'gypc', 'clk1', 'snx18', 'mical1', 'ern2', 'c17orf97', 'man2b1', 'atp9a', 'kcnf1', 'msh6', 'trpm3', 'ubac1', 'fbxo47', 'esyt1', 'hbd', 'ddhd2', 'arl14epl', 'iqgap3', 'bag2', 'pla2g4f', 'nod2', 'helz2', 'fga', 'trim43', 'me1', 'mybph', 'arhgap35', 'morc2', 'acbd7', 'hsd17b8', 'itgad', 'acadsb', 'col10a1', 'thumpd3', 'vti1b', 'dnajc5', 'ppp2r2c', 'krtap19-1', 'gfi1', 'fut11', 'actb', 'dnajb13', 'irgm', 'vtcn1', 'dnajc4', 'gpr137', 'lrrc3c', 'lrp11', 'otx1', 'ppp1r12b', 'csmd1', 'chrng', 'c5orf34', 'acy3', 'c1orf194', 'ddx6', 'pafah1b3', 'scml1', 'ccdc60', 'haus3', 'samd4a', 'mars2', 'psma2', 'polr3a', 'fam117a', 'pusl1', 'cacna1f', 'lrrc14b', 'trmt13', 'defb123', 'prr16', 'txndc5', 'fbxo31', 'ltbp3', 'ubxn4', 'mthfs', 'cpa6', 'naa25', 'ilrun', 'ttc31', 'cyp26a1', 'adprm', 'dnal4', 'slc35b1', 'ankrd30b', 'znf705g', 'itgb1', 'akain1', 'ppp1r27', 'btbd9', 'letm1', 'ccdc125', 'gng11', 'tpx2', 'phf2', 'oga', 'tnfaip8', 'afap1l1', 'lrtm2', 'map2k2', 'ap3s2', 'rap1gds1', 'sema4f', 'gsn', 'frmd4a', 'engase', 'tpd52l1', 'scara3', 'peak1', 'slc29a3', 'ephx2', 'smim14', 'vps33b', 'cog1', 'sars2', 'prpf6', 'bag6', 'cct2', 'pgbd4', 'gpbp1', 'piga', 'rnft2', 'senp1', 'tmem14b', 'ccdc184', 'mvp', 'arl4d', 'hnrnpa3', 'hspa9', 'plin4', 'eepd1', 'fam227b', 'erp29', 'chodl', 'aup1', 'fndc3a', 'krtap10-11', 'calm3', 'klhdc8a', 'gmppb', 'hexb', 'il31', 'fermt2', 'itga9', 'znf84', 'znf572', 'slitrk3', 'abcd4', 'gemin7', 'tnfrsf10b', 'sco1', 'c6orf118', 'dcaf12l2', 'gps1', 'clic6', 'mms19', 'cdpf1', 'supt3h', 'ift122', 'nup85', 'sstr1', 'antxr1', 'tpm4', 'zdhhc17', 'rbm20', 'or1d2', 'rell1', 'c4orf51', 'ctxn2', 'fkbp1b', 'neb', 'trpa1', 'dnajc21', 'gpr137c', 'ptk6', 'znf10', 'cyp7b1', 'magea6', 'gcna', 'foxd3', 'ssrp1', 'accsl', 'syt13', 'larp7', 'chrnb4', 'pet117', 'ascl5', 'camsap1', 'nqo1', 'gnaz', 'fbxo6', 'hmgxb3', 'znf385a', 'znf200', 'ikbip', 'tpgs1', 'triobp', 'srd5a1', 'coq2', 'ank1', 'slc25a37', 'taco1', 'slc4a10', 'armc7', 'pbx2', 'nppb', 'ube3c', 'nelfcd', 'guca2a', 'tsg101', 'zscan5a', 'tsc22d2', 'slc24a4', 'rbm6', 'or4f4', 'wnt3', 'pwwp2b', 'ccdc85a', 'stxbp3', 'trpm8', 'nrde2', 'nacad', 'dctpp1', 'chd9', 'pex12', 'c20orf27', 'rasl10a', 'skap1', 'klln', 'taf5l', 'tmem42', 'myl12b', 'slc9b1', 'lect2', 'gabra6', 'sbno1', 'nlrp7', 'cd8a', 'ess2', 'tm4sf20', 'appl1', 'cntn1', 'or13c3', 'sap30l', 'mgat4b', 'cbx2', 'aatk', 'kiss1r', 'krtap10-1', 'clcf1', 'ndufs5', 'aldh1a1', 'sh2d5', 'dnaja4', 'ripor3', 'znf483', 'spata48', 'magec2', 'bloc1s3', 'nxf3', 'rbm39', 'patz1', 'ndufa4l2', 'clip4', 'hgh1', 'pds5a', 'cltc', 'gabarap', 'phf21a', 'tfdp2', 'ugt3a1', 'slc25a27', 'rxrb', 'dusp8', 'calca', 'ttbk2', 'fkbp3', 'rnf148', 'tbl1xr1', 'nmt2', 'nudt16l1', 'cops5', 'folh1', 'abcc12', 'ovgp1', 'lman1l', 'dap3', 'fbxo40', 'dgkg', 'utp3', 'rgs17', 'tdrd1', 'syce1', 'wdr73', 'grin3b', 'mog', 'smad3', 'hsd17b1', 'eef1g', 'tor1b', 'colec11', 'or5as1', 'plagl1', 'serpina10', 'rem2', 'tmem214', 'myh15', 'c3orf80', 'lrrtm2', 'adgrv1', 'hadha', 'b4gat1', 'vsig10l2', 'son', 'mansc4', 'tnp2', 'atxn3', 'cachd1', 'trpv5', 'bicdl1', 'col4a4', 'mfn2', 'tmem51', 'enam', 'crybg1', 'zfpm2', 'pyroxd2', 'trip4', 'etv6', 'fam216b', 'pigk', 'ensa', 'zmat4', 'mc2r', 'gpr157', 'cd48', 'trim14', 'ctns', 'sart3', 'cfap45', 'ccdc124', 'eif4e2', 'slc4a1ap', 'sipa1l3', 'tdrd15', 'txndc8', 'apol4', 'susd2', 'dhdds', 'pcdhga8', 'ubxn11', 'dip2b', 'slc32a1', 'cldn17', 'fam98c', 'sobp', 'siglec14', 'znf429', 'tut4', 'arid1b', 'tfcp2l1', 'jph2', 'fhad1', 'c22orf31', 'tmem63c', 'ipp', 'azgp1', 'bhlhe41', 'selenbp1', 'fam126b', 'rfc3', 'coro7', 'cpt1c', 'ovch2', 'cenpvl3', 'kif23', 'zic4', 'pitpnm3', 'slc25a51', 'ccdc115', 'atg7', 's100a8', 'eya3', 'fezf2', 'nkrf', 'mex3d', 'cercam', 'itgb3bp', 'clec2b', 'arpp21', 'znf644', 'mark1', 'clps', 'yeats4', 'ccdc177', 'tmem88b', 'zfp1', 'unc13a', 'ube2n', 'tmem117', 'znf217', 'fut4', 'parp14', 'pabpc1l2a', 'lactb', 'polr1b', 'ccdc152', 'zscan21', 'dhfr', 'adamts15', 'usp47', 'tmem273', 'plg', 'vdac2', 'aox1', 'zmat3', 'ifih1', 'rfc4', 'anp32d', 'spata31a6', 'tmem39a', 'btbd19', 'ntn3', 'lin7b', 'gdap1', 'kcnj10', 'gbp2', 'dusp26', 'ccnb1ip1', 'styxl1', 'fam78a', 'immp2l', 'stk11', 'suco', 'ndufs6', 'tmigd3', 'lrfn2', 'or2z1', 'smim20', 'trim5', 'mb', 'krt19', 'kcns1', 'cadm1', 'nxf1', 'hras', 'fgf16', 'znf23', 'nelfb', 'gcnt1', 'lce1d', 'cul7', 'cfh', 'serpini2', 'ptpn20', 'btrc', 'il22', 'creb3', 'plbd1', 'pgrmc2', 'or10w1', 'sult1c2', 'ubd', 'akt2', 'cers5', 'tubgcp5', 'zfyve26', 'tuft1', 'pafah1b1', 'rpgrip1', 'surf6', 'znf384', 'carmil3', 'gan', 'unc93b1', 'tmem88', 'fbxl19', 'ddx59', 'actr10', 'mrfap1l1', 'kif18a', 'vapa', 'or14c36', 'card6', 'adgrb3', 'pvalef', 'znf133', 'vstm4', 'nrk', 'skp2', 'lhfpl1', 'lpar6', 'fezf1', 'or6n1', 'mbl2', 'smoc2', 'slpi', 'bdnf', 'phf8', 'usp21', 'pkn2', 'znf829', 'lrch1', 'wee1', 'sh3bgr', 'atp5mgl', 'ctc1', 'pcdhga7', 'bmp2k', 'prps1', 'tiaf1', 'pecam1', 'pex5l', 'psmb9', 'slc25a24', 'gmpr', 'tcp10l2', 'c1orf210', 'hnrnpu', 'tlcd3a', 'slc16a4', 'trappc13', 'ppip5k2', 'tmx1', 'dzip1l', 'fam47e', 'cdk19', 'muc2', 'trpv3', 'lypd6b', 'arfrp1', 'ttc3', 'fam155a', 'slc25a29', 'polr3e', 'znf594', 'ift20', 'nol11', 'or4s1', 'apc2', 'sp4', 'mkrn2os', 'sertad4', 'ifna7', 'tspan14', 'lce2b', 'wdr45b', 'srek1ip1', 'dpp8', 'lexm', 'taf11', 'lpcat3', 'znf524', 'elp5', 'sec22b', 'pcyox1l', 'rora', 'coro2b', 'mmachc', 'bbc3', 'mpp6', 'satb2', 'uqcc3', 'fam120aos', 'ppp1r16a', 'rab20', 'ints5', 'spz1', 'fastk', 'plekhg6', 'clec12a', 'lrrc8c', 'defb135', 'armc5', 'atp6v0a2', 'pcdhb13', 'steap2', 'atpaf1', 'ccdc77', 'pcdhb5', 'osgep', 'anapc11', 'krtap6-3', 'ptpdc1', 'mgat5', 'ropn1b', 'gtpbp2', 'pcdha12', 'sfswap', 'cdca7l', 'znf141', 'tufm', 'gas8', 'ctnnd1', 'slc10a4', 'rsrc1', 'trim59', 'mapk7', 'fam163a', 'cnst', 'cd9', 'trafd1', 'pck2', 'znf419', 'gpc3', 'proc', 'dnajc24', 'pqbp1', 'e2f5', 'pgf', 'or6p1', 'atg16l1', 'usp17l15', 'tet1', 'tbc1d3e', 'gpnmb', 'elovl3', 'lrrtm4', 'hoxd3', 'il12rb1', 'col6a2', 'or51b5', 'armc3', 'tmem207', 'icam2', 'ociad2', 'aldh3b1', 'camk1g', 'gtf2ird1', 'znhit6', 'ankrd33b', 'midn', 'cby1', 'arhgap8', 'lce1b', 'commd10', 'znf554', 'itih1', 'napsa', 'lgsn', 'pde3b', 'arrdc1', 'bcan', 'gid8', 'fam20b', 'reeld1', 'ppil6', 'pigm', 'col13a1', 'enthd1', 'selenoh', 'tln1', 'tiparp', 'gapt', 'il17rb', 'dnajc25', 'ecpas', 'cdhr3', 'asb15', 'sftpd', 'il4r', 'kcnh2', 'slc11a1', 'ppp3cb', 'cbln4', 'rnf215', 'ddx25', 'rpusd2', 'tnfsf13', 'rnf130', 'cnga3', 'rfx4', 'hs3st4', 'lrcol1', 'znf799', 'wfdc11', 'tmem164', 'sp5', 'anp32a', 'st6galnac1', 'tmem114', 'cdan1', 'stag1', 'gatb', 'gpr20', 'c8orf34', 'samd8', 'rfc5', 'eda', 'atp13a2', 'mypop', 'lrrc55', 'tmem33', 'ccr9', 'sfi1', 'c19orf25', 'ofd1', 'ddx46', 'ccdc71', 'tapbpl', 'c4bpa', 'mgst3', 'fgfr3', 'col4a3', 'ap2b1', 'ifrd2', 'srpx', 'cpeb2', 'gipc3', 'greb1l', 'shox2', 'sncb', 'ifnlr1', 'dctn2', 'espn', 'tfpt', 'mat2b', 'tox3', 'rimklb', 'rnf43', 'rbm44', 'ccdc12', 'ston1', 'ppy', 'hydin', 'tdrd10', 'acss3', 'slc38a6', 'rab3gap2', 'timm21', 'gabra5', 'calhm5', 'or5a1', 'mindy2', 'calhm4', 'tmc3', 'rgs4', 'rab1b', 'klk4', 'c19orf18', 'nmbr', 'steap3', 'cdc40', 'gcm2', 'mmp19', 'hoxc5', 'sspn', 'rnf6', 'gak', 'lrrc3b', 'nos3', 'layn', 'znf678', 'klhl11', 'dnmbp', 'peli1', 'cdc42ep2', 'alpk2', 'rbp4', 'tmem68', 'sdr42e1', 'tent2', 'minar1', 'or51v1', 'dcaf7', 'dennd1a', 'evl', 'msi1', 'tceal7', 'cfap126', 'tmem218', 'knstrn', 'slc2a3', 'prpf40a', 'tmem41a', 'fjx1', 'brca1', 'b3galt1', 'coro2a', 'dlx3', 'ankmy1', 'lyplal1', 'abca5', 'ptprn', 'tmod4', 'trpc3', 'lrwd1', 'tal2', 'pdzd2', 'morc3', 'wasf2', 'siglec7', 'polr3c', 'sh3d19', 'sec61g', 'bnip2', 'aplp2', 'znf777', 'nufip2', 'atg10', 'tesmin', 'safb2', 'kcnk12', 'gimap2', 'tmed10', 'znf286a', 'ap2s1', 'hdac7', 'pln', 'flt3lg', 'alox12', 'ptpn11', 'lcp1', 'yy2', 'tmem156', 'rsph14', 'klhdc7a', 'mpnd', 'znf853', 'xrcc1', 'gda', 'lpin1', 'tmem82', 'znf785', 'zcchc9', 'foxi1', 'or5ap2', 'fbxo48', 'apip', 'htatsf1', 'naalad2', 'atr', 'anhx', 'bicdl2', 'klhl35', 'rnase7', 'cacng6', 'armcx2', 'pgam2', 'jph1', 'grin2c', 'znf606', 'cd93', 'pagr1', 'pcmtd2', 'tfdp1', 'zdhhc4', 'tle2', 'eif4g3', 'borcs5', 'tlr2', 'hs6st3', 'smarce1', 'gtsf1', 'pde1b', 'zar1', 'wscd2', 'fam20c', 'tmc7', 'znf107', 'rnf126', 'rnpep', 'kdm4d', 'wdr4', 'uxt', 'naa10', 'dnaaf1', 'cfd', 'hnf1b', 'polr3gl', 'angel2', 'taf1a', 'sgcb', 'mlip', 'zswim7', 'wdr43', 'rpa3', 'ykt6', 'znf596', 'cd4', 'slc16a11', 'c1orf56', 'arhgap29', 'catsper4', 'mecr', 'ndufaf3', 'armcx6', 'uvssa', 'slit2', 'ppp2r5a', 'efhb', 'akr1c2', 'sox6', 'kat14', 'tldc2', 'bace2', 'chrm5', 'cutc', 'pxt1', 'myo1c', 'fastkd3', 'nexn', 'cyp46a1', 'smcr8', 'tmed3', 'litaf', 'gpd1l', 'btf3l4', 'pnpla6', 'sphk1', 'cxorf38', 'vps37b', 'smyd3', 'or2l2', 'polh', 'htatip2', 'cd3g', 'slc28a1', 'mc4r', 'tg', 'chrdl2', 'ptgs1', 'hpr', 'eloc', 'tcf4', 'tbx15', 'slc4a5', 'kdm1b', 'sf3b5', 'bfar', 'surf2', 'cbfb', 'cspg4', 'mc1r', 'ckap4', 'csta', 'pycard', 'pkp2', 'f12', 'mnd1', 'znf879', 'or5b3', 'anxa7', 'creld1', 'c3orf49', 'cd96', 'znf462', 'cnbp', 'bysl', 'hspa1b', 'ugt2b7', 'ap1b1', 'mmp10', 'skor2', 'kbtbd8', 'uqcr11', 'chst2', 'zw10', 'znf500', 'slc11a2', 'fxr2', 'slc45a4', 'ndufa4', 'slc7a4', 'crhbp', 'gimap8', 'gsg1l2', 'kremen1', 'c4orf45', 'prdx4', 'ms4a13', 'cnot6l', 'ttc1', 'slc6a12', 'noc4l', 'gpr160', 'adam8', 'wwc1', 'c16orf86', 'alkbh6', 'camkmt', 'casp2', 'yaf2', 'bgn', 'tmem106a', 'nme4', 'srp9', 'grm4', 'gna11', 'sema6b', 'calcoco2', 'nrxn3', 'pld3', 'ifna14', 'pik3ap1', 'prodh2', 'jag1', 'lgals12', 'gtse1', 'cd69', 'hmgn1', 'nrep', 'moxd1', 'rnase13', 'kiaa0895l', 'inhbb', 'lcp2', 'pah', 'gas2l1', 'cmbl', 'tlcd4', 'cflar', 'c10orf88', 'ahsp', 'ppp1r3c', 'il2', 'pwp1', 'mgat4d', 'fam221b', 'cd320', 'smurf1', 'nrf1', 'cd99', 'swsap1', 'znf214', 'gpr135', 'kat2a', 'phb', 'tmem216', 'mtmr7', 'ccdc146', 'ccdc178', 'rabggta', 'rab10', 'pcdhgc3', 'cabp5', 'apobr', 'mmp13', 'c17orf67', 'seh1l', 'plaa', 'aurkb', 'pdcd4', 'lig1', 'comt', 's100a7a', 'krtap4-5', 'prss53', 'pcolce2', 'krt5', 'fzd5', 'cd2bp2', 'snx17', 'pak4', 'ankrd40cl', 'prr19', 'smu1', 'tmf1', 'sarm1', 'adamdec1', 'opa3', 'pot1', 'tenm2', 'bud23', 'med14', 'tmprss11e', 'tex45', 'anks1a', 'sap25', 'nckap5l', 'pomp', 'dnajc1', 'kmt5a', 'pcsk7', 'ddx60l', 'rflnb', 'usp29', 'anln', 'serf2', 'gdf2', 'znf503', 'ing5', 'mthfr', 'znhit2', 'setd1b', 'satb1', 'spcs3', 'arl5b', 'hoxd12', 'clec17a', 'or5m1', 'eppin', 'elovl5', 'bbip1', 'fcrla', 'ccl24', 'pmfbp1', 'cst3', 'rbfox2', 'cfhr5', 'commd2', 'ythdc2', 'arid1a', 'adra2b', 'ncoa2', 'prdm1', 'zrsr2', 'mtfr1', 'tsen2', 'acmsd', 'zc3h3', 'bak1', 'ptprh', 'itga3', 'chkb', 'msantd2', 'ptprq', 'dlx6', 'apob', 'emilin3', 'fam3c', 'tac1', 'kif1b', 'tcea2', 'btbd2', 'ube2k', 'pkhd1', 'cox15', 'ktn1', 'hdac10', 'plac8', 'tram1l1', 'gbp4', 'ppm1k', 'egr2', 'vsir', 'pelo', 'tmem141', 'sfrp5', 'nipal3', 'pdcd11', 'usp32', 'dlg3', 'atxn7l2', 'emg1', 'mtmr10', 'mis18bp1', 'mettl27', 'nxnl2', 'trpc4ap', 'nmral1', 'alg12', 'cbfa2t2', 'fa2h', 'lsm3', 'cyp1b1', 'vax1', 'nt5dc1', 'ppp1r42', 'c6orf141', 'apoa4', 'krt31', 'klf6', 'nwd2', 'elk3', 'gmfb', 'pde6d', 'tbc1d24', 'cpxm2', 'tra2a', 'fads3', 'tmem14c', 'rin1', 'prcd', 'pcsk1n', 'tmem198', 'hspbap1', 'syngr2', 'gal3st1', 'kcna3', 'egr1', 'stk4', 'tacc2', 'c11orf86', 'rabggtb', 'tnfsf10', 'scpep1', 'uncx', 'abce1', 'itm2c', 'sox8', 'zmynd19', 'large1', 'tbx18', 'ndst4', 'desi2', 'phtf2', 'ero1b', 'fbn1', 'smim8', 'fbxo4', 'glb1l2', 'nr4a1', 'map3k15', 'spag5', 'pik3c2b', 'kiaa1614', 'rreb1', 'zcrb1', 'p4ha3', 'nxn', 'dnajb1', 'rbp2', 'mdh1b', 'dnph1', 'bud31', 'ncan', 'rbbp9', 'arpc2', 'bscl2', 'alas2', 'ppp1r21', 'septin8', 'imp4', 'nsmaf', 'trim8', 'tcl1b', 'adat3', 'rnf223', 'bex2', 'rap2c', 'il9', 'timm17a', 'hsf1', 'exoc8', 'tmed1', 'ipo5', 'ate1', 'capn15', 'tcerg1', 'ssmem1', 'cenpj', 'tiprl', 'ugt1a4', 'rnf144b', 'smyd4', 'nt5c3b', 'slc38a2', 'fut3', 'ifnar2', 'gzma', 'mospd1', 'or3a1', 'calcrl', 'mmaa', 'myo19', 'ptprr', 'dctn3', 'eid3', 'c10orf62', 'scnn1d', 'pnn', 'abcb9', 'dpp9', 'trmt1', 'deptor', 'dock7', 'npb', 'slc25a38', 'zbbx', 'tubgcp3', 'eef2k', 'fhdc1', 'dclk2', 'znf641', 'zdhhc9', 'clptm1l', 'btf3', 'acad8', 'ing4', 'rangrf', 'mob3a', 'scnm1', 'fibin', 'fam174c', 'tgfbr2', 'tnks', 'coq10b', 'dclk3', 'krtap19-3', 'tbc1d30', 'ik', 'dennd2c', 'grpel2', 'fam107a', 'ovch1', 'fh', 'ss18', 'txnrd2', 'f2rl3', 'tmem255a', 'sdk2', 'tmem208', 'mylk', 'mcu', 'myoz1', 'armh4', 'pcdh15', 'zbtb9', 'hsdl1', 'pfkfb3', 'zbtb7a', 'klf1', 'traf5', 'slc3a1', 'rap1a', 'uqcrhl', 'rab41', 'c6orf58', 'fam186a', 'adam21', 'inpp5e', 'prss23', 'c4bpb', 'irx4', 'ctsk', 'ccs', 'rnf26', 'nol7', 'podn', 'taf11l13', 'pikfyve', 'ifna6', 'rad1', 'il27', 'serhl2', 'slc6a8', 'papss2', 'slc66a1', 'pcdh9', 'sel1l2', 'tsc22d1', 'ttl', 'osgepl1', 'tafa4', 'etaa1', 'or10ag1', 'cwc15', 'ropn1l', 'elavl1', 'rnls', 'dtnbp1', 'tmem18', 'hddc3', 'dnajc18', 'csh2', 'tmbim1', 'dpep2', 'mettl6', 'slc1a3', 'jph4', 'fubp1', 'nol8', 'mllt10', 'phldb2', 'trub1', 'gcn1', 'chmp2a', 'agmat', 'psma4', 'serpinb5', 'c1rl', 'lim2', 'krtap5-10', 'hax1', 'c9orf72', 'tor2a', 'wdr86', 'ano5', 'elmo3', 'slc46a1', 'tec', 'eln', 'ankrd60', 'wfikkn1', 'meiob', 'cyren', 'adgrf4', 'pex11b', 'fam83b', 'slc35f4', 'mtss1', 'rhcg', 'ccdc96', 'tmem270', 'agrn', 'tmem86b', 'icam3', 'ipmk', 'bin2', 'ablim2', 'fbxl3', 'atp5f1a', 'nmnat1', 'spata6', 'rnasel', 'rcc1l', 'lsm8', 'kcnt1', 'prpf8', 'psmd13', 'chd8', 'baiap2', 'or6k6', 'xdh', 'plekhf1', 'mt-nd4l', 'pam', 'naif1', 'gage1', 'gar1', 'uqcrb', 'slc16a5', 'lrrc24', 'nup205', 'f8', 'nudt17', 'cyp20a1', 'rab14', 'ercc8', 'ccdc71l', 'tsr3', 'zmynd8', 'c10orf143', 'lrrc37a3', 'nisch', 'nfat5', 'lrriq4', 'zbtb26', 'pde2a', 'fbxo46', 'mapk10', 'npr1', 'fam221a', 'gnpnat1', 'dusp5', 'scn3b', 'taf1b', 'mybl2', 'znf512b', 'dok2', 'ifna8', 'brk1', 'or52b2', 'crip3', 'or6q1', 'sypl2', 'nt5c3a', 'ifitm2', 'krtap5-8', 'trpm4', 'samd4b', 'abi1', 'tafa3', 'psmd6', 'ap4m1', 'ep300', 'pter', 'tns3', 'nfkbib', 'fam3b', 'lypd6', 'nebl', 'tm4sf1', 'manba', 'zdhhc6', 'nos1ap', 'c11orf45', 'adh1c', 'map3k1', 'c2', 'hunk', 'tex11', 'endod1', 'slc2a4', 'mtx3', 'ctnnbip1', 'cad', 'vapb', 'apex1', 'med30', 'anks3', 'tmem178b', 'agrp', 'cables1', 'duoxa1', 'grb7', 'tspan12', 'gimap7', 'riok3', 'clec14a', 'znf396', 'kcng3', 'umps', 'myo6', 'lurap1l', 'znf844', 'znf576', 'hmga1', 'jcad', 'srp68', 'shisa2', 'mfge8', 'scn1b', 'psg5', 'gabrr3', 'iqcf6', 'ackr4', 'wfdc2', 'rhpn2', 'chmp1b', 'uba5', 'bbs1', 'klrd1', 'sumo3', 'ipcef1', 'ado', 'ptbp1', 'mdfic', 'col8a2', 'sult6b1', 'ctbs', 'zbtb33', 'pdia3', 'fam71d', 'gpat3', 'lrriq3', 'srp72', 'ednrb', 'huwe1', 'znf165', 'srsf1', 'sox14', 'sox15', 'slc27a1', 'znf621', 'stxbp6', 'mcm3', 'mfsd3', 'fgf4', 'lpcat4', 'lrrd1', 'trap1', 'arl6ip5', 'cmtm1', 'cdon', 'flnb', 'reg4', 'fcrl6', 'dctn6', 'adam11', 'wdfy4', 'isg20', 'aff1', 'fap', 'xpnpep1', 'mfrp', 'cacnb3', 'dennd3', 'tbpl2', 'taf6', 'zc3h14', 'usp27x', 'ssna1', 'tspo', 'nat8l', 'haus1', 'erich3', 'rrp9', 'hoxd11', 'lrrc10b', 'cfap300', 'abi3', 'xpo5', 'reln', 'pik3cg', 'apoo', 'sytl3', 'gucy2f', 'klhl5', 'wfdc10b', 'atxn7', 'ccdc169', 'pbx3', 'mettl22', 'tmem168', 'ahnak', 'lrrk2', 'rbbp8nl', 'lrrn4cl', 'rbp3', 'golga7b', 'c2cd4d', 'cep63', 'shprh', 'izumo2', 'c3orf33', 'rgs7bp', 'odf2l', 'wdcp', 'acads', 'p2ry2', 'plk5', 'bloc1s5', 'clul1', 'enc1', 'taf15', 'asphd1', 'st18', 'cetn2', 'slk', 'znf229', 'plch2', 'hnf1a', 'spink2', 'dlx4', 'dcun1d1', 'vps4b', 'shld1', 'rab5if', 'fxyd2', 'lilrb5', 'acsl1', 'gdf7', 'svopl', 'stpg1', 'sox4', 'uxs1', 'mcm3ap', 'egln3', 'ppip5k1', 'prpf4b', 'phyhipl', 'iqsec3', 'apln', 'dcbld2', 'cdx1', 'trabd', 'tnrc18', 'cdc42se1', 'ptn', 'slc49a3', 'plpbp', 'lzts3', 'tmem138', 'b9d1', 'rfesd', 'shoc2', 'c22orf15', 'rfx8', 'camk2n2', 'cyp26c1', 'las1l', 'banp', 'rai14', 'eml5', 'sorbs2', 'wdr1', 'map3k7cl', 'tenm4', 'prpf18', 'rab9b', 'ddx43', 'galnt16', 'rftn1', 'golim4', 'dbp', 'bcl2l10', 'c20orf96', 'smpd1', 'alkbh7', 'tm4sf4', 'gadd45g', 'nab2', 'bet1l', 'otud7a', 'spata5l1', 'zbed6cl', 'znf790', 'dnaja1', 'dhx32', 'samd10', 'rabl3', 'znf793', 'hspa14', 'nek4', 'eif5', 'sacm1l', 'mbtps2', 'fat1', 'capn14', 'fmnl1', 'nptn', 'cox6b1', 'rab39b', 'klhl20', 'mindy4b', 'tab2', 'smim2', 'slfn13', 'cck', 'cacnb1', 'cox7a1', 'usp20', 'atp10d', 'pitrm1', 'misp', 'lrif1', 'vps37c', 'galnt12', 'klk3', 'igfbp1', 'ermp1', 'sap30bp', 'insl4', 'rab3gap1', 'psg6', 'ankib1', 'dkk1', 'mia3', 'gemin4', 'myl5', 'ass1', 'themis', 'amd1', 'ankrd13b', 'hr', 'thy1', 'psma7', 'haao', 'or13h1', 'arih2', 'or10g6', 'optn', 'znf160', 'tmem160', 'pcca', 'mpz', 'lpcat1', 'rwdd1', 'znf430', 'ccl26', 'bola3', 'fam241a', 'cisd2', 'ahctf1', 'faim2', 'cel', 'cldn2', 'slc18b1', 'htra4', 'lpp', 'tbc1d19', 'colec12', 'chrdl1', 'esrp2', 'gpr37l1', 'fam83a', 'tenm3', 'wdr64', 'polr2a', 'pou6f1', 'rnf165', 'ebln2', 'adamts2', 'prop1', 'oxct1', 'prdx6', 'shpk', 'ctsf', 'sarnp', 'svbp', 'ankrd50', 'slc25a46', 'klhl41', 'mettl5', 'arhgap5', 'aspm', 'rnd1', 'orm1', 'zg16b', 'or52l1', 'prr14', 'cdipt', 'slco6a1', 'ltb', 'dnmt3a', 'irs1', 'dner', 'serpina7', 'pfas', 'prtg', 'znf146', 'ptpn4', 'rapgef6', 'cdc42ep3', 'prmt7', 'zhx3', 'nbas', 'kpnb1', 'efhc1', 'sugct', 'mt-nd6', 'cstf3', 'tceal3', 'fcho1', 'cyp4b1', 'mfsd2a', 'six4', 'fam180a', 'tmem232', 'dusp3', 'krt4', 'nkx1-2', 'klhl36', 'pld4', 'spon1', 'gjd3', 'foxa2', 'acaca', 'retreg1', 'nbr1', 'myh8', 'cd1c', 'agbl5', 'ndufs4', 'star', 'myo5b', 'topbp1', 'trak2', 'col20a1', 'pigv', 'znf696', 'ruvbl1', 'ptprs', 'pclo', 'or6j1', 'clpsl2', 'foxf1', 'ccdc134', 'znf330', 'ing1', 's100a3', 'c14orf39', 'cxcl14', 'cyb5r1', 'dlgap5', 'kcnv2', 'znf765', 'bdkrb1', 'krtap20-1', 'slc25a53', 'best3', 'aga', 'hhat', 'ppt2', 'itga8', 'fbxo22', 'axin1', 'tram1', 'cybrd1', 'shisal2a', 'mfap5', 'adamts20', 'tnfrsf1b', 'nlrp10', 'defb119', 'krtap5-7', 'adamts16', 'fam228b', 'znf684', 'nampt', 'usp37', 'des', 'bbox1', 'kcnd3', 'nomo1', 'setd9', 'tmie', 'aqp6', 'pus7l', 'psmd7', 'ddrgk1', 'ifngr2', 'mei4', 'fbn3', 'tcp10l', 'sec61a1', 'usp13', 'tyw1', 'phlda3', 'galnt17', 'ervv-2', 'wipi1', 'ddx5', 'il4', 'cldn20', 'olig2', 'ghrh', 'or2k2', 'krt35', 'lrrc36', 'zdbf2', 'ppp1r15a', 'gas1', 'zc2hc1b', 'khk', 'rpia', 'znf786', 'mettl24', 'asic1', 'lsm10', 'erich5', 'snrnp40', 'c5orf51', 'nup188', 'gfm1', 'fbxo25', 'galnt4', 'rfpl4al1', 'kcnj15', 'tlr7', 'cldn11', 'leprotl1', 'sgsm3', 'alas1', 'cr2', 'gde1', 'rpf2', 'dnajc6', 'anxa13', 'prdm4', 'pcdha7', 'krit1', 'cabyr', 'slc5a3', 'sh3gl3', 'msln', 'pdpr', 'cela2a', 'fam20a', 'c18orf21', 'c18orf63'}\n"
     ]
    },
    {
     "data": {
      "text/plain": [
       "{'aars',\n",
       " 'ac004593.3',\n",
       " 'ac005551.1',\n",
       " 'ac007906.2',\n",
       " 'ac008397.1',\n",
       " 'ac008687.4',\n",
       " 'ac010255.3',\n",
       " 'ac010325.1',\n",
       " 'ac011005.1',\n",
       " 'ac011195.2',\n",
       " 'ac013470.2',\n",
       " 'ac015871.1',\n",
       " 'ac021072.1',\n",
       " 'ac021097.2',\n",
       " 'ac025283.2',\n",
       " 'ac025287.4',\n",
       " 'ac067752.1',\n",
       " 'ac072022.2',\n",
       " 'ac073111.4',\n",
       " 'ac087498.1',\n",
       " 'ac090360.1',\n",
       " 'ac091057.6',\n",
       " 'ac092835.1',\n",
       " 'ac093323.1',\n",
       " 'ac099489.1',\n",
       " 'ac104389.5',\n",
       " 'ac113348.1',\n",
       " 'ac115220.1',\n",
       " 'ac118549.1',\n",
       " 'ac119396.1',\n",
       " 'ac132217.2',\n",
       " 'ac134684.8',\n",
       " 'ac138647.1',\n",
       " 'ac187653.1',\n",
       " 'ac233723.1',\n",
       " 'ac236972.4',\n",
       " 'acpp',\n",
       " 'adprhl2',\n",
       " 'adss',\n",
       " 'adssl1',\n",
       " 'al032819.3',\n",
       " 'al109810.2',\n",
       " 'al121578.2',\n",
       " 'al135905.2',\n",
       " 'al160269.1',\n",
       " 'al162231.1',\n",
       " 'al162596.1',\n",
       " 'al353572.3',\n",
       " 'al354761.1',\n",
       " 'al391650.1',\n",
       " 'al445238.1',\n",
       " 'al451007.3',\n",
       " 'al590560.2',\n",
       " 'al603764.2',\n",
       " 'al845331.2',\n",
       " 'alg1l',\n",
       " 'ap002495.1',\n",
       " 'arih2os',\n",
       " 'armc4',\n",
       " 'arse',\n",
       " 'atp5md',\n",
       " 'atp5mpl',\n",
       " 'atp6ap1l',\n",
       " 'b3gnt10',\n",
       " 'bhmg1',\n",
       " 'bx255925.3',\n",
       " 'bx276092.9',\n",
       " 'c10orf142',\n",
       " 'c10orf55',\n",
       " 'c11orf40',\n",
       " 'c11orf74',\n",
       " 'c11orf88',\n",
       " 'c12orf10',\n",
       " 'c12orf49',\n",
       " 'c12orf74',\n",
       " 'c12orf81',\n",
       " 'c14orf177',\n",
       " 'c15orf41',\n",
       " 'c16orf58',\n",
       " 'c17orf53',\n",
       " 'c19orf48',\n",
       " 'c19orf57',\n",
       " 'c1orf61',\n",
       " 'c2orf83',\n",
       " 'c2orf91',\n",
       " 'c3orf67',\n",
       " 'c5orf30',\n",
       " 'c5orf60',\n",
       " 'c5orf67',\n",
       " 'c6orf201',\n",
       " 'c6orf223',\n",
       " 'c7orf77',\n",
       " 'c9orf129',\n",
       " 'c9orf92',\n",
       " 'card16',\n",
       " 'card17',\n",
       " 'cars',\n",
       " 'casc1',\n",
       " 'casc4',\n",
       " 'castor3',\n",
       " 'ccdc114',\n",
       " 'ccdc151',\n",
       " 'ccdc155',\n",
       " 'ccdc36',\n",
       " 'ccdc39',\n",
       " 'ccdc84',\n",
       " 'cd3eap',\n",
       " 'cenpbd1',\n",
       " 'cllu1os',\n",
       " 'cntd2',\n",
       " 'ct62',\n",
       " 'cxorf21',\n",
       " 'cxorf40a',\n",
       " 'cxorf56',\n",
       " 'cyb561d2',\n",
       " 'dars',\n",
       " 'dec1',\n",
       " 'defb133',\n",
       " 'dirc1',\n",
       " 'dock8-as1',\n",
       " 'dupd1',\n",
       " 'dusp27',\n",
       " 'elfn2',\n",
       " 'elmsan1',\n",
       " 'eloa3',\n",
       " 'eprs',\n",
       " 'fam122a',\n",
       " 'fam122b',\n",
       " 'fam122c',\n",
       " 'fam169b',\n",
       " 'fam192a',\n",
       " 'fam218a',\n",
       " 'fam30a',\n",
       " 'fam49a',\n",
       " 'fam49b',\n",
       " 'fam92b',\n",
       " 'fgfr1op',\n",
       " 'fopnl',\n",
       " 'fp565260.1',\n",
       " 'gars',\n",
       " 'gcsaml-as1',\n",
       " 'gdf5os',\n",
       " 'glra4',\n",
       " 'golga8m',\n",
       " 'grasp',\n",
       " 'h1f0',\n",
       " 'h1fnt',\n",
       " 'h1foo',\n",
       " 'h1fx',\n",
       " 'h2afj',\n",
       " 'h2afx',\n",
       " 'h2afy',\n",
       " 'h2afy2',\n",
       " 'h2afz',\n",
       " 'h2bfm',\n",
       " 'h2bfwt',\n",
       " 'h3.y',\n",
       " 'h3f3a',\n",
       " 'h3f3b',\n",
       " 'h3f3c',\n",
       " 'hars',\n",
       " 'hhla3',\n",
       " 'hist1h1a',\n",
       " 'hist1h1b',\n",
       " 'hist1h1c',\n",
       " 'hist1h1d',\n",
       " 'hist1h1e',\n",
       " 'hist1h2ac',\n",
       " 'hist1h2ae',\n",
       " 'hist1h2ag',\n",
       " 'hist1h2ai',\n",
       " 'hist1h2ak',\n",
       " 'hist1h2bb',\n",
       " 'hist1h2bg',\n",
       " 'hist1h2bh',\n",
       " 'hist1h2bn',\n",
       " 'hist1h3e',\n",
       " 'hist1h3g',\n",
       " 'hist1h3h',\n",
       " 'hist1h4b',\n",
       " 'hist1h4c',\n",
       " 'hist1h4e',\n",
       " 'hist1h4g',\n",
       " 'hist1h4i',\n",
       " 'hist1h4j',\n",
       " 'hist2h2be',\n",
       " 'hist3h2a',\n",
       " 'hist3h2bb',\n",
       " 'hist3h3',\n",
       " 'hist4h4',\n",
       " 'hypm',\n",
       " 'iars',\n",
       " 'ick',\n",
       " 'igha1',\n",
       " 'igha2',\n",
       " 'ighd',\n",
       " 'ighe',\n",
       " 'ighg1',\n",
       " 'ighg3',\n",
       " 'ighm',\n",
       " 'igkc',\n",
       " 'iglc1',\n",
       " 'iglc7',\n",
       " 'impad1',\n",
       " 'kars',\n",
       " 'kiaa0355',\n",
       " 'kiaa0556',\n",
       " 'kiaa1211',\n",
       " 'kiaa1211l',\n",
       " 'kiaa1257',\n",
       " 'kiaa1324',\n",
       " 'kiaa1324l',\n",
       " 'kif1bp',\n",
       " 'lars',\n",
       " 'linc02693',\n",
       " 'linc02694',\n",
       " 'lor',\n",
       " 'lrmp',\n",
       " 'lrp5l',\n",
       " 'lrrc29',\n",
       " 'maats1',\n",
       " 'marc1',\n",
       " 'marc2',\n",
       " 'march1',\n",
       " 'march10',\n",
       " 'march11',\n",
       " 'march2',\n",
       " 'march3',\n",
       " 'march4',\n",
       " 'march5',\n",
       " 'march6',\n",
       " 'march7',\n",
       " 'march8',\n",
       " 'march9',\n",
       " 'mars',\n",
       " 'mir1915hg',\n",
       " 'mrvi1',\n",
       " 'mycnos',\n",
       " 'nars',\n",
       " 'nxf5',\n",
       " 'or5r1',\n",
       " 'palm2-akap2',\n",
       " 'pano1',\n",
       " 'pde11a',\n",
       " 'pih1d3',\n",
       " 'pinx1',\n",
       " 'ppp5d1',\n",
       " 'prky',\n",
       " 'qars',\n",
       " 'rars',\n",
       " 'rgs5',\n",
       " 'sars',\n",
       " 'siglec5',\n",
       " 'slc26a10',\n",
       " 'slc66a1l',\n",
       " 'slfn12l',\n",
       " 'snhg32',\n",
       " 'spata13',\n",
       " 'spata8',\n",
       " 'spert',\n",
       " 'sspo',\n",
       " 'st5',\n",
       " 'tars',\n",
       " 'tarsl2',\n",
       " 'tbce',\n",
       " 'tcte3',\n",
       " 'tctex1d1',\n",
       " 'tctex1d2',\n",
       " 'tctex1d4',\n",
       " 'terc',\n",
       " 'tmem155',\n",
       " 'tmem173',\n",
       " 'tmem189',\n",
       " 'tmem246',\n",
       " 'tmem8a',\n",
       " 'tmem99',\n",
       " 'tmsb15b',\n",
       " 'trac',\n",
       " 'trbc1',\n",
       " 'trbc2',\n",
       " 'trdc',\n",
       " 'trgc1',\n",
       " 'trgc2',\n",
       " 'trgjp1',\n",
       " 'trgjp2',\n",
       " 'trim16l',\n",
       " 'tsta3',\n",
       " 'ttc25',\n",
       " 'twistnb',\n",
       " 'vars',\n",
       " 'wars',\n",
       " 'wdr34',\n",
       " 'wdr60',\n",
       " 'wdr63',\n",
       " 'wdr66',\n",
       " 'wdr78',\n",
       " 'wdyhv1',\n",
       " 'yars',\n",
       " 'z82206.1',\n",
       " 'znf883',\n",
       " 'znrd1'}"
      ]
     },
     "execution_count": 8,
     "metadata": {},
     "output_type": "execute_result"
    }
   ],
   "source": [
    "# 将所有基因名称转换为小写\n",
    "all_genes_lower = [gene.lower() for gene in all_genes]\n",
    "adata_genes_lower = [gene.lower() for gene in existing_genes]\n",
    "\n",
    "# 将两个列表转换为集合\n",
    "all_genes_set = set(all_genes_lower)\n",
    "adata_genes_set = set(adata_genes_lower)\n",
    "\n",
    "# 计算交集\n",
    "matching_genes = all_genes_set.intersection(adata_genes_set)\n",
    "matching_count = len(matching_genes)\n",
    "# 计算不匹配的基因\n",
    "non_matching_genes = adata_genes_set - matching_genes\n",
    "non_matching_count = len(non_matching_genes)\n",
    "\n",
    "\n",
    "# 输出结果\n",
    "print(f\"匹配的基因数量: {matching_count}\")\n",
    "print(f\"匹配的基因列表: {matching_genes}\")\n",
    "non_matching_genes\n"
   ]
  },
  {
   "cell_type": "code",
   "execution_count": 9,
   "metadata": {
    "execution": {
     "iopub.execute_input": "2024-11-03T15:20:29.618282Z",
     "iopub.status.busy": "2024-11-03T15:20:29.617812Z",
     "iopub.status.idle": "2024-11-03T15:20:29.635164Z",
     "shell.execute_reply": "2024-11-03T15:20:29.634643Z"
    }
   },
   "outputs": [
    {
     "data": {
      "text/plain": [
       "{'or4f5': 0,\n",
       " 'or4f29': 1,\n",
       " 'or4f16': 2,\n",
       " 'samd11': 3,\n",
       " 'noc2l': 4,\n",
       " 'klhl17': 5,\n",
       " 'plekhn1': 6,\n",
       " 'perm1': 7,\n",
       " 'hes4': 8,\n",
       " 'isg15': 9,\n",
       " 'agrn': 10,\n",
       " 'rnf223': 11,\n",
       " 'c1orf159': 12,\n",
       " 'ttll10': 13,\n",
       " 'tnfrsf18': 14,\n",
       " 'tnfrsf4': 15,\n",
       " 'sdf4': 16,\n",
       " 'b3galt6': 17,\n",
       " 'c1qtnf12': 18,\n",
       " 'ube2j2': 19,\n",
       " 'scnn1d': 20,\n",
       " 'acap3': 21,\n",
       " 'pusl1': 22,\n",
       " 'ints11': 23,\n",
       " 'cptp': 24,\n",
       " 'tas1r3': 25,\n",
       " 'dvl1': 26,\n",
       " 'mxra8': 27,\n",
       " 'aurkaip1': 28,\n",
       " 'ccnl2': 29,\n",
       " 'mrpl20': 30,\n",
       " 'ankrd65': 31,\n",
       " 'tmem88b': 32,\n",
       " 'vwa1': 33,\n",
       " 'atad3c': 34,\n",
       " 'atad3b': 35,\n",
       " 'atad3a': 36,\n",
       " 'tmem240': 37,\n",
       " 'ssu72': 38,\n",
       " 'fndc10': 39,\n",
       " 'mib2': 40,\n",
       " 'mmp23b': 41,\n",
       " 'cdk11b': 42,\n",
       " 'slc35e2b': 43,\n",
       " 'cdk11a': 44,\n",
       " 'nadk': 45,\n",
       " 'gnb1': 46,\n",
       " 'calml6': 47,\n",
       " 'tmem52': 48,\n",
       " 'cfap74': 49,\n",
       " 'gabrd': 50,\n",
       " 'prkcz': 51,\n",
       " 'faap20': 52,\n",
       " 'ski': 53,\n",
       " 'morn1': 54,\n",
       " 'rer1': 55,\n",
       " 'pex10': 56,\n",
       " 'plch2': 57,\n",
       " 'pank4': 58,\n",
       " 'hes5': 59,\n",
       " 'tnfrsf14': 60,\n",
       " 'prxl2b': 61,\n",
       " 'mmel1': 62,\n",
       " 'ttc34': 63,\n",
       " 'actrt2': 64,\n",
       " 'prdm16': 65,\n",
       " 'arhgef16': 66,\n",
       " 'megf6': 67,\n",
       " 'tprg1l': 68,\n",
       " 'wrap73': 69,\n",
       " 'tp73': 70,\n",
       " 'ccdc27': 71,\n",
       " 'smim1': 72,\n",
       " 'lrrc47': 73,\n",
       " 'cep104': 74,\n",
       " 'dffb': 75,\n",
       " 'c1orf174': 76,\n",
       " 'ajap1': 77,\n",
       " 'nphp4': 78,\n",
       " 'kcnab2': 79,\n",
       " 'chd5': 80,\n",
       " 'rpl22': 81,\n",
       " 'rnf207': 82,\n",
       " 'icmt': 83,\n",
       " 'hes3': 84,\n",
       " 'gpr153': 85,\n",
       " 'acot7': 86,\n",
       " 'hes2': 87,\n",
       " 'espn': 88,\n",
       " 'tnfrsf25': 89,\n",
       " 'plekhg5': 90,\n",
       " 'nol9': 91,\n",
       " 'tas1r1': 92,\n",
       " 'zbtb48': 93,\n",
       " 'klhl21': 94,\n",
       " 'phf13': 95,\n",
       " 'thap3': 96,\n",
       " 'dnajc11': 97,\n",
       " 'camta1': 98,\n",
       " 'vamp3': 99,\n",
       " 'per3': 100,\n",
       " 'uts2': 101,\n",
       " 'tnfrsf9': 102,\n",
       " 'park7': 103,\n",
       " 'errfi1': 104,\n",
       " 'slc45a1': 105,\n",
       " 'rere': 106,\n",
       " 'eno1': 107,\n",
       " 'ca6': 108,\n",
       " 'slc2a7': 109,\n",
       " 'slc2a5': 110,\n",
       " 'gpr157': 111,\n",
       " 'h6pd': 112,\n",
       " 'spsb1': 113,\n",
       " 'slc25a33': 114,\n",
       " 'tmem201': 115,\n",
       " 'pik3cd': 116,\n",
       " 'clstn1': 117,\n",
       " 'ctnnbip1': 118,\n",
       " 'lzic': 119,\n",
       " 'nmnat1': 120,\n",
       " 'rbp7': 121,\n",
       " 'ube4b': 122,\n",
       " 'kif1b': 123,\n",
       " 'pgd': 124,\n",
       " 'cenps': 125,\n",
       " 'cort': 126,\n",
       " 'dffa': 127,\n",
       " 'pex14': 128,\n",
       " 'casz1': 129,\n",
       " 'c1orf127': 130,\n",
       " 'tardbp': 131,\n",
       " 'masp2': 132,\n",
       " 'srm': 133,\n",
       " 'exosc10': 134,\n",
       " 'mtor': 135,\n",
       " 'angptl7': 136,\n",
       " 'ubiad1': 137,\n",
       " 'disp3': 138,\n",
       " 'fbxo2': 139,\n",
       " 'fbxo44': 140,\n",
       " 'fbxo6': 141,\n",
       " 'mad2l2': 142,\n",
       " 'draxin': 143,\n",
       " 'agtrap': 144,\n",
       " 'c1orf167': 145,\n",
       " 'mthfr': 146,\n",
       " 'clcn6': 147,\n",
       " 'nppa': 148,\n",
       " 'nppb': 149,\n",
       " 'kiaa2013': 150,\n",
       " 'plod1': 151,\n",
       " 'mfn2': 152,\n",
       " 'miip': 153,\n",
       " 'tnfrsf8': 154,\n",
       " 'tnfrsf1b': 155,\n",
       " 'vps13d': 156,\n",
       " 'dhrs3': 157,\n",
       " 'aadacl4': 158,\n",
       " 'aadacl3': 159,\n",
       " 'c1orf158': 160,\n",
       " 'pramef12': 161,\n",
       " 'pramef1': 162,\n",
       " 'pramef11': 163,\n",
       " 'hnrnpcl1': 164,\n",
       " 'pramef2': 165,\n",
       " 'pramef4': 166,\n",
       " 'pramef10': 167,\n",
       " 'pramef7': 168,\n",
       " 'pramef6': 169,\n",
       " 'pramef27': 170,\n",
       " 'hnrnpcl3': 171,\n",
       " 'pramef25': 172,\n",
       " 'hnrnpcl2': 173,\n",
       " 'pramef26': 174,\n",
       " 'hnrnpcl4': 175,\n",
       " 'pramef9': 176,\n",
       " 'pramef13': 177,\n",
       " 'pramef18': 178,\n",
       " 'pramef5': 179,\n",
       " 'pramef8': 180,\n",
       " 'pramef33': 181,\n",
       " 'pramef15': 182,\n",
       " 'pramef14': 183,\n",
       " 'pramef19': 184,\n",
       " 'pramef17': 185,\n",
       " 'pramef20': 186,\n",
       " 'lrrc38': 187,\n",
       " 'pdpn': 188,\n",
       " 'prdm2': 189,\n",
       " 'kazn': 190,\n",
       " 'tmem51': 191,\n",
       " 'fhad1': 192,\n",
       " 'efhd2': 193,\n",
       " 'ctrc': 194,\n",
       " 'cela2a': 195,\n",
       " 'cela2b': 196,\n",
       " 'casp9': 197,\n",
       " 'dnajc16': 198,\n",
       " 'agmat': 199,\n",
       " 'ddi2': 200,\n",
       " 'rsc1a1': 201,\n",
       " 'plekhm2': 202,\n",
       " 'slc25a34': 203,\n",
       " 'tmem82': 204,\n",
       " 'fblim1': 205,\n",
       " 'uqcrhl': 206,\n",
       " 'spen': 207,\n",
       " 'zbtb17': 208,\n",
       " 'srarp': 209,\n",
       " 'hspb7': 210,\n",
       " 'clcnka': 211,\n",
       " 'clcnkb': 212,\n",
       " 'fam131c': 213,\n",
       " 'epha2': 214,\n",
       " 'arhgef19': 215,\n",
       " 'cplane2': 216,\n",
       " 'fbxo42': 217,\n",
       " 'szrd1': 218,\n",
       " 'spata21': 219,\n",
       " 'necap2': 220,\n",
       " 'nbpf1': 221,\n",
       " 'crocc': 222,\n",
       " 'mfap2': 223,\n",
       " 'atp13a2': 224,\n",
       " 'sdhb': 225,\n",
       " 'padi2': 226,\n",
       " 'padi1': 227,\n",
       " 'padi3': 228,\n",
       " 'padi4': 229,\n",
       " 'padi6': 230,\n",
       " 'rcc2': 231,\n",
       " 'arhgef10l': 232,\n",
       " 'actl8': 233,\n",
       " 'igsf21': 234,\n",
       " 'klhdc7a': 235,\n",
       " 'pax7': 236,\n",
       " 'tas1r2': 237,\n",
       " 'aldh4a1': 238,\n",
       " 'iffo2': 239,\n",
       " 'ubr4': 240,\n",
       " 'emc1': 241,\n",
       " 'mrto4': 242,\n",
       " 'akr7a3': 243,\n",
       " 'akr7a2': 244,\n",
       " 'slc66a1': 245,\n",
       " 'capzb': 246,\n",
       " 'micos10': 247,\n",
       " 'nbl1': 248,\n",
       " 'htr6': 249,\n",
       " 'tmco4': 250,\n",
       " 'rnf186': 251,\n",
       " 'otud3': 252,\n",
       " 'pla2g2e': 253,\n",
       " 'pla2g2a': 254,\n",
       " 'pla2g5': 255,\n",
       " 'pla2g2d': 256,\n",
       " 'pla2g2f': 257,\n",
       " 'pla2g2c': 258,\n",
       " 'ubxn10': 259,\n",
       " 'vwa5b1': 260,\n",
       " 'camk2n1': 261,\n",
       " 'mul1': 262,\n",
       " 'fam43b': 263,\n",
       " 'cda': 264,\n",
       " 'pink1': 265,\n",
       " 'ddost': 266,\n",
       " 'kif17': 267,\n",
       " 'sh2d5': 268,\n",
       " 'hp1bp3': 269,\n",
       " 'eif4g3': 270,\n",
       " 'ece1': 271,\n",
       " 'nbpf3': 272,\n",
       " 'alpl': 273,\n",
       " 'rap1gap': 274,\n",
       " 'usp48': 275,\n",
       " 'ldlrad2': 276,\n",
       " 'hspg2': 277,\n",
       " 'cela3b': 278,\n",
       " 'cela3a': 279,\n",
       " 'cdc42': 280,\n",
       " 'wnt4': 281,\n",
       " 'zbtb40': 282,\n",
       " 'epha8': 283,\n",
       " 'c1qa': 284,\n",
       " 'c1qc': 285,\n",
       " 'c1qb': 286,\n",
       " 'ephb2': 287,\n",
       " 'lactbl1': 288,\n",
       " 'tex46': 289,\n",
       " 'kdm1a': 290,\n",
       " 'luzp1': 291,\n",
       " 'htr1d': 292,\n",
       " 'hnrnpr': 293,\n",
       " 'znf436': 294,\n",
       " 'tcea3': 295,\n",
       " 'asap3': 296,\n",
       " 'e2f2': 297,\n",
       " 'id3': 298,\n",
       " 'rpl11': 299,\n",
       " 'eloa': 300,\n",
       " 'pithd1': 301,\n",
       " 'lypla2': 302,\n",
       " 'gale': 303,\n",
       " 'hmgcl': 304,\n",
       " 'fuca1': 305,\n",
       " 'cnr2': 306,\n",
       " 'pnrc2': 307,\n",
       " 'srsf10': 308,\n",
       " 'myom3': 309,\n",
       " 'il22ra1': 310,\n",
       " 'ifnlr1': 311,\n",
       " 'grhl3': 312,\n",
       " 'stpg1': 313,\n",
       " 'nipal3': 314,\n",
       " 'rcan3': 315,\n",
       " 'ncmap': 316,\n",
       " 'srrm1': 317,\n",
       " 'clic4': 318,\n",
       " 'runx3': 319,\n",
       " 'syf2': 320,\n",
       " 'rsrp1': 321,\n",
       " 'rhd': 322,\n",
       " 'tmem50a': 323,\n",
       " 'rhce': 324,\n",
       " 'maco1': 325,\n",
       " 'ldlrap1': 326,\n",
       " 'man1c1': 327,\n",
       " 'selenon': 328,\n",
       " 'mtfr1l': 329,\n",
       " 'aunip': 330,\n",
       " 'paqr7': 331,\n",
       " 'stmn1': 332,\n",
       " 'pafah2': 333,\n",
       " 'extl1': 334,\n",
       " 'slc30a2': 335,\n",
       " 'trim63': 336,\n",
       " 'pdik1l': 337,\n",
       " 'fam110d': 338,\n",
       " 'c1orf232': 339,\n",
       " 'znf593os': 340,\n",
       " 'znf593': 341,\n",
       " 'cnksr1': 342,\n",
       " 'catsper4': 343,\n",
       " 'cep85': 344,\n",
       " 'sh3bgrl3': 345,\n",
       " 'ubxn11': 346,\n",
       " 'cd52': 347,\n",
       " 'crybg2': 348,\n",
       " 'znf683': 349,\n",
       " 'lin28a': 350,\n",
       " 'dhdds': 351,\n",
       " 'hmgn2': 352,\n",
       " 'rps6ka1': 353,\n",
       " 'arid1a': 354,\n",
       " 'pigv': 355,\n",
       " 'zdhhc18': 356,\n",
       " 'sfn': 357,\n",
       " 'gpn2': 358,\n",
       " 'gpatch3': 359,\n",
       " 'nudc': 360,\n",
       " 'nr0b2': 361,\n",
       " 'kdf1': 362,\n",
       " 'trnp1': 363,\n",
       " 'tent5b': 364,\n",
       " 'slc9a1': 365,\n",
       " 'wdtc1': 366,\n",
       " 'tmem222': 367,\n",
       " 'sytl1': 368,\n",
       " 'map3k6': 369,\n",
       " 'fcn3': 370,\n",
       " 'cd164l2': 371,\n",
       " 'gpr3': 372,\n",
       " 'wasf2': 373,\n",
       " 'ahdc1': 374,\n",
       " 'fgr': 375,\n",
       " 'ifi6': 376,\n",
       " 'fam76a': 377,\n",
       " 'stx12': 378,\n",
       " 'ppp1r8': 379,\n",
       " 'themis2': 380,\n",
       " 'rpa2': 381,\n",
       " 'smpdl3b': 382,\n",
       " 'xkr8': 383,\n",
       " 'eya3': 384,\n",
       " 'ptafr': 385,\n",
       " 'dnajc8': 386,\n",
       " 'atp5if1': 387,\n",
       " 'sesn2': 388,\n",
       " 'med18': 389,\n",
       " 'phactr4': 390,\n",
       " 'rcc1': 391,\n",
       " 'trnau1ap': 392,\n",
       " 'taf12': 393,\n",
       " 'rab42': 394,\n",
       " 'gmeb1': 395,\n",
       " 'ythdf2': 396,\n",
       " 'oprd1': 397,\n",
       " 'epb41': 398,\n",
       " 'tmem200b': 399,\n",
       " 'srsf4': 400,\n",
       " 'mecr': 401,\n",
       " 'ptpru': 402,\n",
       " 'matn1': 403,\n",
       " 'laptm5': 404,\n",
       " 'sdc3': 405,\n",
       " 'pum1': 406,\n",
       " 'nkain1': 407,\n",
       " 'snrnp40': 408,\n",
       " 'zcchc17': 409,\n",
       " 'fabp3': 410,\n",
       " 'serinc2': 411,\n",
       " 'tinagl1': 412,\n",
       " 'hcrtr1': 413,\n",
       " 'pef1': 414,\n",
       " 'col16a1': 415,\n",
       " 'adgrb2': 416,\n",
       " 'spocd1': 417,\n",
       " 'ptp4a2': 418,\n",
       " 'khdrbs1': 419,\n",
       " 'tmem39b': 420,\n",
       " 'kpna6': 421,\n",
       " 'txlna': 422,\n",
       " 'ccdc28b': 423,\n",
       " 'iqcc': 424,\n",
       " 'dcdc2b': 425,\n",
       " 'tmem234': 426,\n",
       " 'eif3i': 427,\n",
       " 'fam167b': 428,\n",
       " 'lck': 429,\n",
       " 'hdac1': 430,\n",
       " 'marcksl1': 431,\n",
       " 'tssk3': 432,\n",
       " 'fam229a': 433,\n",
       " 'bsdc1': 434,\n",
       " 'zbtb8b': 435,\n",
       " 'zbtb8a': 436,\n",
       " 'zbtb8os': 437,\n",
       " 'rbbp4': 438,\n",
       " 'sync': 439,\n",
       " 'kiaa1522': 440,\n",
       " 'yars1': 441,\n",
       " 's100pbp': 442,\n",
       " 'fndc5': 443,\n",
       " 'hpca': 444,\n",
       " 'tmem54': 445,\n",
       " 'rnf19b': 446,\n",
       " 'ak2': 447,\n",
       " 'azin2': 448,\n",
       " 'trim62': 449,\n",
       " 'znf362': 450,\n",
       " 'a3galt2': 451,\n",
       " 'phc2': 452,\n",
       " 'zscan20': 453,\n",
       " 'csmd2': 454,\n",
       " 'hmgb4': 455,\n",
       " 'c1orf94': 456,\n",
       " 'smim12': 457,\n",
       " 'gjb5': 458,\n",
       " 'gjb4': 459,\n",
       " 'gjb3': 460,\n",
       " 'gja4': 461,\n",
       " 'dlgap3': 462,\n",
       " 'tmem35b': 463,\n",
       " 'zmym6': 464,\n",
       " 'zmym1': 465,\n",
       " 'sfpq': 466,\n",
       " 'zmym4': 467,\n",
       " 'kiaa0319l': 468,\n",
       " 'ncdn': 469,\n",
       " 'tfap2e': 470,\n",
       " 'psmb2': 471,\n",
       " 'c1orf216': 472,\n",
       " 'clspn': 473,\n",
       " 'ago4': 474,\n",
       " 'ago1': 475,\n",
       " 'ago3': 476,\n",
       " 'tekt2': 477,\n",
       " 'adprs': 478,\n",
       " 'col8a2': 479,\n",
       " 'trappc3': 480,\n",
       " 'map7d1': 481,\n",
       " 'thrap3': 482,\n",
       " 'sh3d21': 483,\n",
       " 'eva1b': 484,\n",
       " 'stk40': 485,\n",
       " 'lsm10': 486,\n",
       " 'oscp1': 487,\n",
       " 'mrps15': 488,\n",
       " 'csf3r': 489,\n",
       " 'grik3': 490,\n",
       " 'zc3h12a': 491,\n",
       " 'meaf6': 492,\n",
       " 'snip1': 493,\n",
       " 'dnali1': 494,\n",
       " 'gnl2': 495,\n",
       " 'rspo1': 496,\n",
       " 'c1orf109': 497,\n",
       " 'cdca8': 498,\n",
       " 'epha10': 499,\n",
       " 'maneal': 500,\n",
       " 'yrdc': 501,\n",
       " 'c1orf122': 502,\n",
       " 'mtf1': 503,\n",
       " 'inpp5b': 504,\n",
       " 'sf3a3': 505,\n",
       " 'fhl3': 506,\n",
       " 'utp11': 507,\n",
       " 'pou3f1': 508,\n",
       " 'rragc': 509,\n",
       " 'mycbp': 510,\n",
       " 'gja9': 511,\n",
       " 'rhbdl2': 512,\n",
       " 'akirin1': 513,\n",
       " 'ndufs5': 514,\n",
       " 'macf1': 515,\n",
       " 'bmp8a': 516,\n",
       " 'pabpc4': 517,\n",
       " 'heyl': 518,\n",
       " 'nt5c1a': 519,\n",
       " 'hpcal4': 520,\n",
       " 'ppie': 521,\n",
       " 'bmp8b': 522,\n",
       " 'oxct2': 523,\n",
       " 'trit1': 524,\n",
       " 'mycl': 525,\n",
       " 'mfsd2a': 526,\n",
       " 'cap1': 527,\n",
       " 'ppt1': 528,\n",
       " 'rlf': 529,\n",
       " 'tmco2': 530,\n",
       " 'zmpste24': 531,\n",
       " 'col9a2': 532,\n",
       " 'smap2': 533,\n",
       " 'zfp69b': 534,\n",
       " 'zfp69': 535,\n",
       " 'exo5': 536,\n",
       " 'znf684': 537,\n",
       " 'rims3': 538,\n",
       " 'nfyc': 539,\n",
       " 'kcnq4': 540,\n",
       " 'cited4': 541,\n",
       " 'ctps1': 542,\n",
       " 'slfnl1': 543,\n",
       " 'scmh1': 544,\n",
       " 'foxo6': 545,\n",
       " 'edn2': 546,\n",
       " 'hivep3': 547,\n",
       " 'guca2b': 548,\n",
       " 'guca2a': 549,\n",
       " 'foxj3': 550,\n",
       " 'rimkla': 551,\n",
       " 'zmynd12': 552,\n",
       " 'ppcs': 553,\n",
       " 'ccdc30': 554,\n",
       " 'ppih': 555,\n",
       " 'ybx1': 556,\n",
       " 'cldn19': 557,\n",
       " 'p3h1': 558,\n",
       " 'c1orf50': 559,\n",
       " 'tmem269': 560,\n",
       " 'svbp': 561,\n",
       " 'ermap': 562,\n",
       " 'znf691': 563,\n",
       " 'slc2a1': 564,\n",
       " 'fam183a': 565,\n",
       " 'ebna1bp2': 566,\n",
       " 'cfap57': 567,\n",
       " 'tmem125': 568,\n",
       " 'c1orf210': 569,\n",
       " 'tie1': 570,\n",
       " 'mpl': 571,\n",
       " 'cdc20': 572,\n",
       " 'elovl1': 573,\n",
       " 'med8': 574,\n",
       " 'szt2': 575,\n",
       " 'hyi': 576,\n",
       " 'ptprf': 577,\n",
       " 'kdm4a': 578,\n",
       " 'st3gal3': 579,\n",
       " 'artn': 580,\n",
       " 'ipo13': 581,\n",
       " 'dph2': 582,\n",
       " 'atp6v0b': 583,\n",
       " 'b4galt2': 584,\n",
       " 'ccdc24': 585,\n",
       " 'slc6a9': 586,\n",
       " 'klf17': 587,\n",
       " 'klf18': 588,\n",
       " 'dmap1': 589,\n",
       " 'eri3': 590,\n",
       " 'rnf220': 591,\n",
       " 'tmem53': 592,\n",
       " 'armh1': 593,\n",
       " 'kif2c': 594,\n",
       " 'rps8': 595,\n",
       " 'best4': 596,\n",
       " 'plk3': 597,\n",
       " 'dynlt4': 598,\n",
       " 'btbd19': 599,\n",
       " 'ptch2': 600,\n",
       " 'eif2b3': 601,\n",
       " 'hectd3': 602,\n",
       " 'urod': 603,\n",
       " 'zswim5': 604,\n",
       " 'hpdl': 605,\n",
       " 'mutyh': 606,\n",
       " 'toe1': 607,\n",
       " 'tesk2': 608,\n",
       " 'ccdc163': 609,\n",
       " 'mmachc': 610,\n",
       " 'prdx1': 611,\n",
       " 'akr1a1': 612,\n",
       " 'nasp': 613,\n",
       " 'ccdc17': 614,\n",
       " 'gpbp1l1': 615,\n",
       " 'tmem69': 616,\n",
       " 'ipp': 617,\n",
       " 'mast2': 618,\n",
       " 'pik3r3': 619,\n",
       " 'tspan1': 620,\n",
       " 'p3r3urf': 621,\n",
       " 'pomgnt1': 622,\n",
       " 'lurap1': 623,\n",
       " 'rad54l': 624,\n",
       " 'lrrc41': 625,\n",
       " 'uqcrh': 626,\n",
       " 'nsun4': 627,\n",
       " 'faah': 628,\n",
       " 'dmbx1': 629,\n",
       " 'tmem275': 630,\n",
       " 'kncn': 631,\n",
       " 'mknk1': 632,\n",
       " 'mob3c': 633,\n",
       " 'atpaf1': 634,\n",
       " 'tex38': 635,\n",
       " 'efcab14': 636,\n",
       " 'cyp4b1': 637,\n",
       " 'cyp4a11': 638,\n",
       " 'cyp4x1': 639,\n",
       " 'cyp4z1': 640,\n",
       " 'cyp4a22': 641,\n",
       " 'pdzk1ip1': 642,\n",
       " 'tal1': 643,\n",
       " 'stil': 644,\n",
       " 'cmpk1': 645,\n",
       " 'foxe3': 646,\n",
       " 'foxd2': 647,\n",
       " 'trabd2b': 648,\n",
       " 'slc5a9': 649,\n",
       " 'spata6': 650,\n",
       " 'agbl4': 651,\n",
       " 'bend5': 652,\n",
       " 'elavl4': 653,\n",
       " 'dmrta2': 654,\n",
       " 'faf1': 655,\n",
       " 'cdkn2c': 656,\n",
       " 'c1orf185': 657,\n",
       " 'rnf11': 658,\n",
       " 'ttc39a': 659,\n",
       " 'eps15': 660,\n",
       " 'osbpl9': 661,\n",
       " 'nrdc': 662,\n",
       " 'rab3b': 663,\n",
       " 'txndc12': 664,\n",
       " 'kti12': 665,\n",
       " 'btf3l4': 666,\n",
       " 'zfyve9': 667,\n",
       " 'cc2d1b': 668,\n",
       " 'orc1': 669,\n",
       " 'prpf38a': 670,\n",
       " 'tut4': 671,\n",
       " 'gpx7': 672,\n",
       " 'shisal2a': 673,\n",
       " 'coa7': 674,\n",
       " 'zyg11b': 675,\n",
       " 'zyg11a': 676,\n",
       " 'echdc2': 677,\n",
       " 'scp2': 678,\n",
       " 'podn': 679,\n",
       " 'slc1a7': 680,\n",
       " 'cpt2': 681,\n",
       " 'czib': 682,\n",
       " 'magoh': 683,\n",
       " 'lrp8': 684,\n",
       " 'dmrtb1': 685,\n",
       " 'glis1': 686,\n",
       " 'ndc1': 687,\n",
       " 'yipf1': 688,\n",
       " 'dio1': 689,\n",
       " 'hspb11': 690,\n",
       " 'lrrc42': 691,\n",
       " 'ldlrad1': 692,\n",
       " 'tmem59': 693,\n",
       " 'tceanc2': 694,\n",
       " 'cdcp2': 695,\n",
       " 'cyb5rl': 696,\n",
       " 'mrpl37': 697,\n",
       " 'ssbp3': 698,\n",
       " 'acot11': 699,\n",
       " 'fam151a': 700,\n",
       " 'mroh7': 701,\n",
       " 'ttc4': 702,\n",
       " 'pars2': 703,\n",
       " 'ttc22': 704,\n",
       " 'lexm': 705,\n",
       " 'dhcr24': 706,\n",
       " 'tmem61': 707,\n",
       " 'bsnd': 708,\n",
       " 'pcsk9': 709,\n",
       " 'usp24': 710,\n",
       " 'plpp3': 711,\n",
       " 'prkaa2': 712,\n",
       " 'fyb2': 713,\n",
       " 'c8a': 714,\n",
       " 'c8b': 715,\n",
       " 'dab1': 716,\n",
       " 'oma1': 717,\n",
       " 'tacstd2': 718,\n",
       " 'mysm1': 719,\n",
       " 'jun': 720,\n",
       " 'fggy': 721,\n",
       " 'hook1': 722,\n",
       " 'cyp2j2': 723,\n",
       " 'c1orf87': 724,\n",
       " 'nfia': 725,\n",
       " 'tm2d1': 726,\n",
       " 'patj': 727,\n",
       " 'l1td1': 728,\n",
       " 'kank4': 729,\n",
       " 'usp1': 730,\n",
       " 'dock7': 731,\n",
       " 'angptl3': 732,\n",
       " 'atg4c': 733,\n",
       " 'foxd3': 734,\n",
       " 'alg6': 735,\n",
       " 'itgb3bp': 736,\n",
       " 'efcab7': 737,\n",
       " 'pgm1': 738,\n",
       " 'ror1': 739,\n",
       " 'ube2u': 740,\n",
       " 'cachd1': 741,\n",
       " 'raver2': 742,\n",
       " 'jak1': 743,\n",
       " 'ak4': 744,\n",
       " 'dnajc6': 745,\n",
       " 'leprot': 746,\n",
       " 'lepr': 747,\n",
       " 'pde4b': 748,\n",
       " 'sgip1': 749,\n",
       " 'dynlt5': 750,\n",
       " 'insl5': 751,\n",
       " 'dnai4': 752,\n",
       " 'mier1': 753,\n",
       " 'slc35d1': 754,\n",
       " 'c1orf141': 755,\n",
       " 'il23r': 756,\n",
       " 'il12rb2': 757,\n",
       " 'serbp1': 758,\n",
       " 'gadd45a': 759,\n",
       " 'gng12': 760,\n",
       " 'diras3': 761,\n",
       " 'wls': 762,\n",
       " 'rpe65': 763,\n",
       " 'depdc1': 764,\n",
       " 'lrrc7': 765,\n",
       " 'lrrc40': 766,\n",
       " 'srsf11': 767,\n",
       " 'ankrd13c': 768,\n",
       " 'cth': 769,\n",
       " 'ptger3': 770,\n",
       " 'zranb2': 771,\n",
       " 'negr1': 772,\n",
       " 'lrriq3': 773,\n",
       " 'fpgt': 774,\n",
       " 'tnni3k': 775,\n",
       " 'lrrc53': 776,\n",
       " 'erich3': 777,\n",
       " 'cryz': 778,\n",
       " 'tyw3': 779,\n",
       " 'lhx8': 780,\n",
       " 'slc44a5': 781,\n",
       " 'acadm': 782,\n",
       " 'rabggtb': 783,\n",
       " 'msh4': 784,\n",
       " 'asb17': 785,\n",
       " 'st6galnac3': 786,\n",
       " 'st6galnac5': 787,\n",
       " 'pigk': 788,\n",
       " 'ak5': 789,\n",
       " 'zzz3': 790,\n",
       " 'usp33': 791,\n",
       " 'miga1': 792,\n",
       " 'nexn': 793,\n",
       " 'fubp1': 794,\n",
       " 'dnajb4': 795,\n",
       " 'gipc2': 796,\n",
       " 'ptgfr': 797,\n",
       " 'ifi44l': 798,\n",
       " 'ifi44': 799,\n",
       " 'adgrl4': 800,\n",
       " 'adgrl2': 801,\n",
       " 'ttll7': 802,\n",
       " 'prkacb': 803,\n",
       " 'samd13': 804,\n",
       " 'dnase2b': 805,\n",
       " 'rpf1': 806,\n",
       " 'gng5': 807,\n",
       " 'spata1': 808,\n",
       " 'ctbs': 809,\n",
       " 'ssx2ip': 810,\n",
       " 'lpar3': 811,\n",
       " 'mcoln2': 812,\n",
       " 'dnai3': 813,\n",
       " 'mcoln3': 814,\n",
       " 'syde2': 815,\n",
       " 'c1orf52': 816,\n",
       " 'bcl10': 817,\n",
       " 'ddah1': 818,\n",
       " 'ccn1': 819,\n",
       " 'znhit6': 820,\n",
       " 'col24a1': 821,\n",
       " 'odf2l': 822,\n",
       " 'clca2': 823,\n",
       " 'clca1': 824,\n",
       " 'clca4': 825,\n",
       " 'sh3glb1': 826,\n",
       " 'selenof': 827,\n",
       " 'hs2st1': 828,\n",
       " 'lmo4': 829,\n",
       " 'pkn2': 830,\n",
       " 'gtf2b': 831,\n",
       " 'kyat3': 832,\n",
       " 'rbmxl1': 833,\n",
       " 'gbp3': 834,\n",
       " 'gbp1': 835,\n",
       " 'gbp2': 836,\n",
       " 'gbp7': 837,\n",
       " 'gbp4': 838,\n",
       " 'gbp5': 839,\n",
       " 'gbp6': 840,\n",
       " 'lrrc8b': 841,\n",
       " 'lrrc8c': 842,\n",
       " 'lrrc8d': 843,\n",
       " 'znf326': 844,\n",
       " 'barhl2': 845,\n",
       " 'znf644': 846,\n",
       " 'hfm1': 847,\n",
       " 'cdc7': 848,\n",
       " 'tgfbr3': 849,\n",
       " 'brdt': 850,\n",
       " 'ephx4': 851,\n",
       " 'setsip': 852,\n",
       " 'btbd8': 853,\n",
       " 'c1orf146': 854,\n",
       " 'glmn': 855,\n",
       " 'rpap2': 856,\n",
       " 'gfi1': 857,\n",
       " 'evi5': 858,\n",
       " 'rpl5': 859,\n",
       " 'dipk1a': 860,\n",
       " 'mtf2': 861,\n",
       " 'tmed5': 862,\n",
       " 'ccdc18': 863,\n",
       " 'dr1': 864,\n",
       " 'fnbp1l': 865,\n",
       " 'bcar3': 866,\n",
       " 'dnttip2': 867,\n",
       " 'gclm': 868,\n",
       " 'abca4': 869,\n",
       " 'arhgap29': 870,\n",
       " 'abcd3': 871,\n",
       " 'f3': 872,\n",
       " 'slc44a3': 873,\n",
       " 'cnn3': 874,\n",
       " 'alg14': 875,\n",
       " 'tlcd4': 876,\n",
       " 'rwdd3': 877,\n",
       " 'ptbp2': 878,\n",
       " 'dpyd': 879,\n",
       " 'snx7': 880,\n",
       " 'plppr5': 881,\n",
       " 'plppr4': 882,\n",
       " 'palmd': 883,\n",
       " 'frrs1': 884,\n",
       " 'agl': 885,\n",
       " 'slc35a3': 886,\n",
       " 'mfsd14a': 887,\n",
       " 'sass6': 888,\n",
       " 'trmt13': 889,\n",
       " 'lrrc39': 890,\n",
       " 'dbt': 891,\n",
       " 'rtca': 892,\n",
       " 'cdc14a': 893,\n",
       " 'gpr88': 894,\n",
       " 'vcam1': 895,\n",
       " 'extl2': 896,\n",
       " 'slc30a7': 897,\n",
       " 'dph5': 898,\n",
       " 's1pr1': 899,\n",
       " 'olfm3': 900,\n",
       " 'col11a1': 901,\n",
       " 'rnpc3': 902,\n",
       " 'amy2b': 903,\n",
       " 'amy2a': 904,\n",
       " 'amy1a': 905,\n",
       " 'amy1b': 906,\n",
       " 'amy1c': 907,\n",
       " 'prmt6': 908,\n",
       " 'ntng1': 909,\n",
       " 'vav3': 910,\n",
       " 'slc25a24': 911,\n",
       " 'nbpf4': 912,\n",
       " 'nbpf6': 913,\n",
       " 'fam102b': 914,\n",
       " 'henmt1': 915,\n",
       " 'prpf38b': 916,\n",
       " 'fndc7': 917,\n",
       " 'stxbp3': 918,\n",
       " 'aknad1': 919,\n",
       " 'gpsm2': 920,\n",
       " 'clcc1': 921,\n",
       " 'wdr47': 922,\n",
       " 'taf13': 923,\n",
       " 'tmem167b': 924,\n",
       " 'c1orf194': 925,\n",
       " 'elapor1': 926,\n",
       " 'sars1': 927,\n",
       " 'celsr2': 928,\n",
       " 'psrc1': 929,\n",
       " 'mybphl': 930,\n",
       " 'sort1': 931,\n",
       " 'psma5': 932,\n",
       " 'sypl2': 933,\n",
       " 'atxn7l2': 934,\n",
       " 'cyb561d1': 935,\n",
       " 'amigo1': 936,\n",
       " 'gpr61': 937,\n",
       " 'gnai3': 938,\n",
       " 'gnat2': 939,\n",
       " 'ampd2': 940,\n",
       " 'gstm4': 941,\n",
       " 'gstm2': 942,\n",
       " 'gstm1': 943,\n",
       " 'gstm5': 944,\n",
       " 'gstm3': 945,\n",
       " 'eps8l3': 946,\n",
       " 'csf1': 947,\n",
       " 'ahcyl1': 948,\n",
       " 'strip1': 949,\n",
       " 'alx3': 950,\n",
       " 'ubl4b': 951,\n",
       " 'slc6a17': 952,\n",
       " 'kcnc4': 953,\n",
       " 'rbm15': 954,\n",
       " 'slc16a4': 955,\n",
       " 'lamtor5': 956,\n",
       " 'prok1': 957,\n",
       " 'kcna10': 958,\n",
       " 'kcna2': 959,\n",
       " 'kcna3': 960,\n",
       " 'cd53': 961,\n",
       " 'lrif1': 962,\n",
       " 'dram2': 963,\n",
       " 'cept1': 964,\n",
       " 'dennd2d': 965,\n",
       " 'chi3l2': 966,\n",
       " 'chia': 967,\n",
       " 'pifo': 968,\n",
       " 'ovgp1': 969,\n",
       " 'wdr77': 970,\n",
       " 'atp5pb': 971,\n",
       " 'c1orf162': 972,\n",
       " 'tmigd3': 973,\n",
       " 'adora3': 974,\n",
       " 'rap1a': 975,\n",
       " 'inka2': 976,\n",
       " 'ddx20': 977,\n",
       " 'kcnd3': 978,\n",
       " 'cttnbp2nl': 979,\n",
       " 'wnt2b': 980,\n",
       " 'st7l': 981,\n",
       " 'capza1': 982,\n",
       " 'mov10': 983,\n",
       " 'rhoc': 984,\n",
       " 'ppm1j': 985,\n",
       " 'tafa3': 986,\n",
       " 'slc16a1': 987,\n",
       " 'lrig2': 988,\n",
       " 'magi3': 989,\n",
       " 'phtf1': 990,\n",
       " 'rsbn1': 991,\n",
       " 'ptpn22': 992,\n",
       " 'bcl2l15': 993,\n",
       " 'ap4b1': 994,\n",
       " 'dclre1b': 995,\n",
       " 'hipk1': 996,\n",
       " 'olfml3': 997,\n",
       " 'syt6': 998,\n",
       " 'trim33': 999,\n",
       " ...}"
      ]
     },
     "execution_count": 9,
     "metadata": {},
     "output_type": "execute_result"
    }
   ],
   "source": [
    "gene_to_index = {gene: idx for idx, gene in enumerate(all_genes_lower)}\n",
    "gene_to_index"
   ]
  },
  {
   "cell_type": "code",
   "execution_count": 10,
   "metadata": {
    "execution": {
     "iopub.execute_input": "2024-11-03T15:20:29.636628Z",
     "iopub.status.busy": "2024-11-03T15:20:29.636463Z",
     "iopub.status.idle": "2024-11-03T15:20:29.642073Z",
     "shell.execute_reply": "2024-11-03T15:20:29.641476Z"
    }
   },
   "outputs": [
    {
     "name": "stdout",
     "output_type": "stream",
     "text": [
      "仅在 all_genes 中存在的基因数量: 1939\n",
      "仅在 all_genes 中存在的基因: {'rps27l', 'hla-dra', 'znf511-prap1', 'fam90a10p', 'marchf10', 'rax2', 'or11h4', 'psg8', 'rps28', 'cfap91', 'h2bc3', 'ptp4a1', 'cxorf49b', 'metap1', 'hnrnpa1l2', 'cylc1', 'fam156a', 'macir', 'urgcp-mrps24', 'kcne1', 'supt20hl1', 'p2rx5-tax1bp3', 'nkx2-3', 'nbpf10', 'tbc1d21', 'serf1b', 'h3-5', 'rpl34', 'flywch1', 'h2bc4', 'agap5', 'pnlip', 'haus7', 'ct47a10', 'aqp12b', 'u2af1l5', 'kdm4e', 'rpl19', 'rpl14', 'ptcd3', 'lgals16', 'znf705e', 'spaca5b', 'gad2', 'foxr2', 'notch2nlc', 'tspy3', 'cdin1', 'pcdhga4', 'znf749', 'wtap', 'fam25a', 'tbc1d3g', 'guca1a', 'srrm3', 'srgap2c', 'hla-dmb', 'krtap10-9', 'npipb11', 'prodh', 'opn1mw3', 'rpl30', 'hsd17b3', 'or1r1p', 'mrpl22', 'tgif2-rab5if', 'potee', 'golga6a', 'rrn3', 'spag11b', 'npipa9', 'mrpl32', 'nbpf6', 'krtap10-4', 'or51i2', 'agap6', 'cers1', 'golga6d', 'sdhc', 'npipa5', 'lhfpl5', 'ppp1r2b', 'ap3s1', 'h2ac8', 'lctl', 'h2ac19', 'znf615', 'golga8s', 'krtap10-8', 'ube2s', 'p3r3urf-pik3r3', 'nox3', 'znf701', 'alg1l2', 'linc02210-crhr1', 'p2ry4', 'mrpl27', 'ugt1a8', 'tardbp', 'znf320', 'page5', 'golga8f', 'meiosin', 'lims3', 'hsfx2', 'ct45a2', 'bclaf1', 'c5orf63', 'bpy2', 'akr7a3', 'rab6c', 'mrpl34', 'mrpl45', 'eif2s3b', 'olfm3', 'tcp11x2', 'kdm4f', 'tmprss15', 'rs1', 'kifbp', 'mtrnr2l6', 'ppial4f', 'ube2f-scly', 'or52e6', 'usp17l28', 'tbcel-tecta', 'tspy2', 'ct47a1', 'bub1b-pak6', 'snurf', 'gapdh', 'cgb3', 'c1orf146', 'decr2', 'h1-3', 'or10p1', 'naip', 'chrm4', 'tas2r31', 'rpl13', 'golga8g', 'hnrnpa1p48', 'sdhd', 'ct47a7', 'bola2b', 'cibar2', 'or4f17', 'tpsb2', 'cav3', 'cbwd6', 'rpl7', 'ppial4d', 'rps11', 'prss50', 'ct47a11', 'magea12', 'rps2', 'cyp11b2', 'tbc1d3k', 'dgcr6l', 'pramef27', 'mkrn1', 'or2h2', 'potec', 'pmf1-bglap', 'cxorf51b', 'tuba3c', 'lmod3', 'h2bc11', 'dynlt2', 'efcab5', 'hla-drb5', 'gstm2', 'rhoxf2b', 'igsf10', 'smn2', 'polr2m', 'poteb3', 'asah2b', 'rpl6', 'cngb1', 'or5h14', 'washc2c', 'or1f1', 'nudt6', 'npipb12', 'ct47a9', 'h3c11', 'abcc6', 'slc22a12', 'rab43', 'ceacam18', 'usp17l18', 'ssu72p5', 'fam25g', 'linc00514', 'actl9', 'cars1', 'h3y1', 'bhlha15', 'mroh7-ttc4', 'cklf-cmtm1', 'gnas', 'mettl2b', 'etfrf1', 'bsph1', 'nbpf12', 'h3c8', 'pde4dip', 'tspy10', 'mrps11', 'tubb8b', 'spdye21', 'abcf2-h2be1', 'or4c46', 'mrpl42', 'h4c11', 'timm23b', 'dynlt2b', 'cacna1a', 'rpl23a', 'htd2', 'tmc1', 'c11orf42', 'wfdc10a', 'hnrnph1', 'hla-dqb1', 'grapl', 'dennd2b', 'dars1', 'h1-1', 'ppial4e', 'or51b2', 'lypd2', 'gal3st2', 'or4m2b', 'eef1d', 'akr1c1', 'gtf2h2', 'luzp4', 'eif3cl', 'ptges3l-aarsd1', 'saa1', 'rars1', 'rsc1a1', 'ifna10', 'tmem191b', 'znf726', 'tas2r3', 'mbd3l3', 'rps13', 'myt1l', 'mrpl30', 'znf487', 'nudt4b', 'lce3c', 'psmd8', 'fxyd6-fxyd2', 'rps19', 'defb126', 'pabir1', 'h2ac18', 'or5t3', 'usp17l23', 'h2ab3', 'znf593os', 'or4p4', 'cyp2c19', 'eola2', 'fam243b', 'c1qtnf3-amacr', 'h4c1', 'tp53tg3e', 'krt76', 'marchf7', 'schip1', 'maged4b', 'rpl35', 'ldlrad2', 'h2ab1', 'ct45a6', 'setsip', 'mrps24', 'gtf2a1l', 'gage12b', 'dhrs4l2', 'spdye8', 'trim49b', 'or6k2', 'rps17', 'sprr1a', 'pip5k1b', 'spdye17', 'psme3ip1', 'tas2r16', 'h3-2', 'cfap20dc', 'taf11l10', 'hspb2-c11orf52', 'pcdhac2', 'tpsab1', 'rps6', 'gpr22', 'amy1b', 'tchhl1', 'defb105b', 'znf28', 'ovca2', 'rps21', 'or1j1', 'magea3', 'defb115', 'usp17l24', 'ssu72p2', 'ugt1a3', 'angpt2', 'shox', 'mideas', 'bnip3', 'nutm2f', 'cgb5', 'defb104b', 'h3c3', 'vcx', 'gp1ba', 'ankrd20a3p', 'fam90a16p', 'gatd3a', 'slc24a1', 'tekt4', 'tbc1d3l', 'upk3bl1', 'tmco5a', 'ctage8', 'wars1', 'peds1', 'stpg4', 'tnfsf12-tnfsf13', 'mogat3', 'or7d4', 'krtap10-6', 'reg3g', 'or6t1', 'cbx1', 'spanxd', 'h1-5', 'gfra4', 'h3-3b', 'notch2nlr', 'g3bp1', 'get1-sh3bgr', 'cct5', 'krtap2-4', 'bpifa3', 'krt20', 'h2aw', 'fam90a8p', 'ppial4h', 'igbp1p2', 'smim11a', 'ghrhr', 'myod1', 'rpl10a', 'gage12g', 'usp17l29', 'daz1', 'tpm3', 'h2bc14', 'capn10', 'rpl18', 'mzt2a', 'ylpm1', 'usp17l12', 'hnrnpul2-bscl2', 'golga6l1', 'stimate-mustn1', 'tspy9p', 'scygr5', 'sprr2b', 'mrpl3', 'or51c1p', 'hivep1', 'poteb', 'hla-dqa2', 'nphp3-acad11', 'asb17', 'trim49d1', 'tsnax-disc1', 'or8g1', 'nrip2', 'rps15a', 'or2v1', 'fam236b', 'rpl24', 'pcare', 'ubtfl1', 'zzz3', 'rtl4', 'tshb', 'hnrnpcl3', 'esr2', 'mtrnr2l1', 'znf737', 'mrpl13', 'gc', 'nedd8-mdp1', 'mrpl19', 'gfus', 'slc24a5', 'tas2r5', 'dnajc19', 'bola2', 'prb2', 'ddc', 'or6v1', 'loricrin', 'ggtlc2', 'rnf225', 'tpo', 'trim49d2', 'slx1b', 'st20-mthfs', 'defb130b', 'tcp11x1', 'zan', 'csnk1a1l', 'znf551', 'fam90a19p', 'npipb7', 'ctage15', 'csag2', 'ccz1b', 'odad2', 'txn', 'or51f2', 'or2d3', 'mrps6', 'znf679', 'or7a10', 'commd3-bmi1', 'myo7a', 'defb107a', 'actrt2', 'mrps21', 'h2bu1', 'cryaa2', 'c8orf44-sgk3', 'h2al1rp', 'ctag1a', 'mageb3', 'gage13', 'dnah2', 'atp6v1g2-ddx39b', 'or5d14', 'ct45a1', 'vcx3b', 'krtap4-1', 'rpl39l', 'otud6a', 'ranbp1', 'golga6l9', 'tbc1d3h', 'h3c4', 'spata31d4', 'ct45a7', 'rpl7a', 'evpll', 'spink9', 'clec18b', 'a1bg', 'tpi1', 'rpl22l1', 'ssx4', 'rpl31', 'pramef8', 'setd2', 'cdy1b', 'macroh2a2', 'rgpd5', 'or1d5', 'srgap2b', 'znf559-znf177', 'erich6b', 'rpl23', 'npipb3', 'cntf', 'hoxb13', 'nomo3', 'defb105a', 'h2ac17', 'golm2', 'npipa3', 'lgals9b', 'cdy2a', 'vcx3a', 'c2orf80', 'h3c14', 'krtap4-8', 'ankrd23', 'rtel1-tnfrsf6b', 'slc17a6', 'tex51', 'or5f1', 'rps15', 'or14l1p', 'thtpa', 'tspy8', 'cdk10', 'pnpt1', 'kir3dl2', 'apobec3b', 'mrps17', 'rps25', 'prr20d', 'spdye3', 'rpl37a', 'mroh8', 'dync2i1', 'h4c2', 'fam156b', 'ssu72p7', 'st20', 'c16orf82', 'trim49', 'h2ac11', 'golga8q', 'daoa', 'fam90a23p', 'poteg', 'ebln1', 'fam236d', 'kcnip4', 'foxo3b', 'gage12e', 'mrps22', 'ugt1a5', 'lce3e', 'ct45a10', 'bpy2c', 'linc00634', 'ppan-p2ry11', 'tll2', 'frg2b', 'ccdc195', 'lrit2', 'marchf3', 'or2a1', 'srsf6', 'ct47a12', 'scrt2', 'spcs2', 'gatd3b', 'mrps36', 'mrps12', 'prdm12', 'polr2j', 'msantd5', 'hla-dpa1', 'taf11l12', 'h2bc6', 'pramef1', 'or8h3', 'magea1', 'tgif2ly', 'rps10-nudt3', 'slc1a7', 'pramef20', 'amely', 'cenps-cort', 'h1-0', 'poc1b-galnt4', 'rusf1', 'hmgn2', 'cbwd2', 'bloc1s5-txndc5', 'stx18', 'or11h1', 'rpl41', 'ervw-1', 'defa4', 'magea2b', 'spaca1', 'rpl17', 'map1lc3b2', 'h2ac21', 'or8u1', 'mtarc2', 'polr2j2', 'vcy1b', 'mrps34', 'krtap5-5', 'zdhhc11', 'rps9', 'defb4b', 'anxa8l1', 'rbm4', 'prss54', 'hla-drb1', 'krtap4-2', 'kash5', 'cracd', 'h2ac7', 'pcdhgb1', 'bola2-smg1p6', 'hla-a', 'prkrip1', 'amy1c', 'npipb9', 'usp17l21', 'trappc14', 'rpl10l', 'plxnb3', 'zhx1-c8orf76', 'izumo3', 'golga8k', 'bhlhe23', 'or8j3', 'bhlhb9', 'pramef4', 'gh2', 'tmem132d', 'rpl9', 'chd1l', 'smim43', 'hs3st3a1', 'ugt2b15', 'or2a7', 'h2ac1', 'kcne1b', 'defb106a', 'cryaa', 'tbc1d3c', 'or13j1', 'arl17b', 'naca2', 'mag', 'cfap251', 'sik1', 'nbpf4', 'nutm2g', 'eif3k', 'spdye11', 'card8', 'percc1', 'krtap9-7', 'gstm4', 'gars1', 'hbg2', 'or10h4', 'marchf11', 'atp5mk', 'rps6ka6', 'f8a2', 'acer2', 'rap1b', 'gtf2ird2b', 'h2ac6', 'krtap10-12', 'krtap9-2', 'rps4x', 'h2bc10', 'matn4', 'krt26', 'senp3-eif4a1', 'tpt1', 'gtf2ird2', 'actr3c', 'ccdc103', 'h2ax', 'or10g4', 'magea2', 'rpl8', 'rpl5', 'pasd1', 'mrps2', 'pomzp3', 'znf705d', 'prokr2', 'pramef9', 'churc1-fntb', 'npipb13', 'sting1', 'mrps30', 'poteh', 'psg11', 'trappc2', 'h4c3', 'krt81', 'znf208', 'fkbp1c', 'cgb2', 'krt38', 'rbmy1b', 'or2w3', 'qars1', 'rpl38', 'borcs7-asmt', 'trim49c', 'c1orf68', 'rps14', 'acp3', 'pga4', 'klrc4-klrk1', 'mrps33', 'cgb8', 'prss56', 'prickle4', 'rasa4', 'marchf6', 'znf865', 'lgals7', 'arpc4-ttll3', 'or4n4c', 'chga', 'sik1b', 'ist1', 'cxorf51a', 'csnka2ip', 'spdye2', 'golga8h', 'kcnk9', 'rpl36a-hnrnph2', 'mrpl16', 'opn1mw', 'page2b', 'ston1-gtf2a1l', 'golga8a', 'tpte', 'mrps9', 'icoslg', 'kir3dl1', 'serpinb10', 'mt-atp8', 'lce3b', 'rimbp3', 'fam220a', 'hla-dqa1', 'skp1', 'bcl2l14', 'rbmy1a1', 'h4c8', 'lypla1', 'gip', 'brme1', 'pax7', 'ccdc169-sohlh2', 'agap4', 'asz1', 'asdurf', 'pga3', 'bivm-ercc5', 'pnkp', 'rgpd1', 'ddx47', 'h2bc9', 'krtap9-1', 'prr20b', 'chn2', 'gpr50', 'tubb4a', 'spring1', 'tspy1', 'ctage6', 'lynx1-slurp2', 'pwp2', 'ppdpfl', 'bpy2b', 'rgpd8', 'taf11l9', 'lrrc37a', 'kir2dl3', 'rpl29', 'or2b11', 'kdm5d', 'rpl7l1', 'ntsr2', 'phf7', 'mrps31', 'smim34a', 'znf93', 'pabir3', 'cnbd2', 'rpl18a', 'ano7', 'rps3a', 'grm3', 'or8b3', 'dmrtc1', 'htr3d', 'or11h12', 'ppt2-egfl8', 'peds1-ube2v1', 'get4', 'tnp1', 'srek1', 'mtrnr2l4', 'lactbl1', 'apba3', 'scygr6', 'mblac1', 'fau', 'ms4a12', 'pnma6e', 'tp53tg3c', 'h2aj', 'spag11a', 'trim73', 'prss48', 'tcea1', 'defb129', 'saa2', 'or5ac2', 'or8k1', 'ptma', 'pdap1', 'pgap6', 'h1-7', 'znf746', 'gk2', 'polr1g', 'hla-dob', 'rgs9', 'krtap9-4', 'cfc1b', 'mrps7', 'h2ap', 'krtap4-12', 'h4c13', 'utp14c', 'scrg1', 'cfc1', 'mbd3l5', 'sult1a4', 'c1d', 'rnf113b', 'rbm14-rbm4', 'rnasek-c17orf49', 'tmem229a', 'dapl1', 'inmt-mindy4', 'sprr2a', 'mmp26', 'rnf222', 'poteb2', 'lce1e', 'h1-10', 'znf91', 'isx', 'hoatz', 'chrna4', 'h2ac14', 'lims4', 'hla-g', 'ckmt1a', 'tmem256-plscr3', 'htr1b', 'slc18a3', 'rpl3', 'cenatac', 'krtap4-4', 'znhit3', 'or4c11', 'rabl2b', 'prr23d2', 'or4s2', 'or1l4', 'ct47b1', 'tjp2', 'xage3', 'ntn5', 'opn1sw', 'npipb6', 'znf611', 'ubr1', 'znf705b', 'steep1', 'coro7-pam16', 'or51b4', 'rbmy1d', 'pryp3', 'h4c9', 'rps10', 'h3c13', 'nbpf9', 'mcts2p', 'pcdhgb3', 'ran', 'prb1', 'zbed6', 'or2t5', 'h2bc17', 'hmgb4', 'opn1mw2', 'agap9', 'spanxn4', 'pomk', 'afmid', 'bcl2l2-pabpn1', 'lypla2', 'rskr', 'or8u3', 'h2bc8', 'ccdc179', 'spint3', 'eef1akmt4-ece2', 'adprs', 'pdcd6-ahrr', 'taf11l3', 'smn1', 'ct47a4', 'slc34a1', 'gabarapl1', 'lhx1', 'clec1b', 'hba1', 'ssb', 'rpl26', 'tas2r19', 'nxf2b', 'h2bc1', 'or6c76', 'palm2akap2', 'adss1', 'or51f1', 'cdh16', 'il6st', 'cenpvl2', 'sys1-dbndd2', 'usp17l8', 'itih4', 'sprr2d', 'nbpf26', 'usp17l19', 'fkbp4', 'drg1', 'or52d1', 'defb130a', 'arl17a', 'nutm2b', 'rps6ka1', 'ldha', 'gpr21', 'fut2', 'h4c6', 'hmgb1', 'or9a2', 'nbpf14', 'h2bc12', 'znf814', 'abitram', 'smim42', 'or7e24', 'tas2r41', 'ssx1', 'dnai4', 'zfand5', 'iho1', 'slc39a4', 'or2d2', 'ifna2', 'spdye13', 'unkl', 'xage2', 'ift74', 'eppin-wfdc6', 'daz3', 'defb106b', 'cyp3a7-cyp3a51p', 'pry', 'defb103b', 'spaca7', 'or4m2', 'trim43b', 'zfand6', 'pnpla5', 'znf525', 'mtrnr2l3', 'daz4', 'csag3', 'amy1a', 'znf468', 'notch4', 'fam47b', 'hsfy1', 'tamalin', 'foxd4l3', 'ct45a3', 'gucy2d', 'cct7', 'mrps25', 'adss2', 'tcaf2', 'marchf1', 'alg10', 'fam72a', 'gstm5', 'prr20c', 'cibar1', 'rps6ka4', 'npipb8', 'c1orf50', 'msh5-sapcd1', 'npy4r2', 'rpl3l', 'wfdc9', 'rps4y1', 'nadsyn1', 'ct47a2', 'rpl35a', 'h3c12', 'myh4', 'sdr42e2', 'or2t29', 'spata31e1', 'glud2', 'foxd4l1', 'ice1', 'or2l8', 'rpl4', 'rps6ka2', 'prr13', 'mrpl4', 'ins-igf2', 'or6c3', 'usp17l17', 'pry2', 'lilrb3', 'prh1', 'h2ac4', 'mrps18b', 'stx16-npepl1', 'tstd3', 'dynlt4', 'reg1a', 'or4f16', 'rbms2', 'rxfp2', 'alg10b', 'gphb5', 'gabarapl2', 'ggtlc3', 'zc3h11b', 'hars1', 'ighmbp2', 'or2h1', 'chia', 'btnl9', 'usp17l20', 'slc35e2b', 'ssx7', 'prac2', 'chrnb3', 'odad4', 'ncf1', 'pcdhgb5', 'gage12f', 'lce1f', 'ssu72p3', 'scgb1d4', 'ct45a9', 'pabpn1', 'mtrnr2l12', 'zfpm1', 'nme1-nme2', 'mrpl23', 'or4f5', 'ankrd20a1', 'tbc1d3i', 'atcay', 'fam72d', 'pgam4', 'c21orf62', 'mrpl24', 'arsl', 'dnajc17', 'tm4sf19-dynlt2b', 'cep20', 'slx1a', 'pld5p1', 'pabpc1', 'cxorf49', 'hsfy2', 'foxd4l4', 'duxa', 'tspo2', 'trim74', 'h4-16', 'jakmip1', 'rps19bp1', 'dgkk', 'znf417', 'iars1', 'thoc3', 'ugt1a7', 'eif5al1', 'ifna17', 'or5p3', 'kars1', 'h2bc21', 'golga6c', 'chkb-cpt1b', 'mrpl17', 'sult1a3', 'eml3', 'fam90a17p', 'fam153a', 'zfy', 'prr5-arhgap8', 'h4c7', 'defb127', 'cbs', 'dync2i2', 'ms4a10', 'cfhr1', 'asb18', 'ten1-cdk3', 'helt', 'krtap1-4', 'h4c15', 'ly6g6f-ly6g6d', 'awat1', 'tbc1d3f', 'hbz', 'pdcd2', 'pou5f1', 'golga8n', 'etdb', 'pax4', 'guca1anb', 'fam95c', 'h3-4', 'znf761', 'rpl11', 'krtap21-3', 'hla-c', 'xage5', 'rbak-rbakdn', 'c16orf78', 'pramef12', 'ddx3y', 'trim51', 'spanxa2', 'h4c4', 'myh13', 'lrtm1', 'dgcr6', 'c9orf57', 'or51q1', 'marchf4', 'mars1', 'gimap1-gimap5', 'or52m1', 'c1qtnf9b', 'xage1b', 'hcar2', 'ly75-cd302', 'acsm2a', 'hoxd13', 'sars1', 'or2t35', 'tp53tg3b', 'krtap4-7', 'acrbp', 'tas2r60', 'clp1', 'upk3bl2', 'smtnl1', 'fam25c', 'npipa2', 'pramef7', 'ankrd36c', 'or6x1', 'trappc2b', 'mrpl51', 'mrpl12', 'fam90a18p', 'zcchc10', 'h1-4', 'rpsa', 'ccl15-ccl14', 'tubb3', 'scoc', 'or11h6', 'mrpl49', 'tex28', 'iqcf3', 'znf418', 'tbx20', 'trim77', 'tex15', 'zscan5c', 'dnai3', 'krtap12-3', 'h3-3a', 'fam243a', 'fkbp2', 'prrt3', 'nkx2-1', 'g6pc1', 'gpr82', 'adck1', 'marchf9', 'usp17l4', 'aadacl3', 'jmjd7-pla2g4b', 'aldoa', 'rpl22', 'fam86b1', 'ankrd36b', 'tspy4', 'h2ac15', 'plglb1', 'catsper1', 'krt82', 'vps35', 'prm1', 'tars3', 'pramef17', 'gpr89a', 'krtap2-1', 'ndufc2-kctd14', 'erv3-1', 'isy1-rab43', 'il17re', 'spdye9', 'rbmy1f', 'asns', 'rps6ka5', 'ct45a5', 'elob', 'hspe1-mob4', 'mrpl50', 'khdc1l', 'gpx6', 'myh7', 'tuba8', 'usp17l26', 'hes3', 'daz2', 'mtrnr2l11', 'igll5', 'ankhd1-eif4ebp3', 'nfilz', 'mtrnr2l5', 'rimbp3c', 'fam246b', 'ifna13', 'rps26', 'dmrtc1b', 'otog', 'znf479', 'golga6l4', 'tas2r10', 'cela3a', 'gpr151', 'mrpl52', 'notch2nla', 'nkx2-4', 'c1qtnf5', 'magea9', 'rps7', 'aopep', 'eif3f', 'notch2nlb', 'prr20e', 'actrt1', 'sdhaf2', 'rnase9', 'prr4', 'fam71b', 'cgb7', 'cdc42', 'pabpc1l2b', 'mrpl48', 'opn1lw', 'six6', 'h3c6', 'eif5a', 'tdgf1', 'ccnp', 'rps27ap5', 'tbca', 'lrrc53', 'mtrnr2l8', 'spin2a', 'h2az1', 'rpl17-c18orf32', 'ighv3or16-17', 'klrc2', 'tas2r43', 'hla-dpb1', 'mrpl46', 'abhd14a-acy1', 'trim64', 'ocm', 'naca', 'dnaaf6', 'ppp1r2', 'scygr1', 'cnpy1', 'znf528', 'tug1', 'cenpvl1', 'gage2a', 'lce6a', 'mamdc4', 'rplp1', 'paqr9', 'f8a3', 'cfap298-tcp10l', 'or2j1', 'sox11', 'hcrt', 'slc6a5', 'adad1', 'mrps18c', 'iapp', 'cox5a', 'pramef13', 'rhoxf2', 'h3c7', 'cyria', 'krtap9-6', 'lrrc30', 'katnip', 'or4f29', 'uts2r', 'kir2dl1', 'cfap92', 'hand1', 'znf721', 'h2ac16', 'pgap4', 'znf722p', 'cby2', 'fbxl14', 'cdy2b', 'mrpl55', 'nsrp1', 'h2bs1', 'ct47a8', 'fsbp', 'eloa3cp', 'mrpl33', 'ccdc144a', 'akr1c4', 'sbk2', 'slc25a3', 'h2bw1', 'mrps5', 'arl2-snx15', 'sftpa2', 'stip1', 'tp53tg3f', 'rbmy1j', 'cst11', 'stxbp5l', 'or10h5', 'zc3h11a', 'npipa1', 'golga8t', 'mix23', 'tmem233', 'spanxn1', 'or4a47', 'cyrib', 'krtap19-2', 'ccdc63', 'serf1a', 'cdy1', 'spdye15', 'prh2', 'epor', 'cfap94', 'mrpl57', 'vcy', 'cntnap3c', 'pramef5', 'gcsh', 'h2bc5', 'micos10-nbl1', 'mrpl36', 'npipb4', 'cbwd1', 'odad3', 'pramef25', 'racgap1', 'ntaq1', 'gprc6a', 'acsm2b', 'h1-6', 'smim39', 'fam209a', 'znf670-znf695', 'or10g9', 'diablo', 'or1j2', 'htn3', 'rex1bd', 'park7', 'rps18', 'rpl36', 'ctbp1', 'rpl27a', 'or56b2p', 'tmed7-ticam2', 'cbwd3', 'dnajc25-gng10', 'h2bc13', 'znf616', 'or4d11', 'ctag1b', 'bpifa1', 'polr1f', 'or13g1', 'tvp23b', 'hla-dma', 'pttg1ip2', 'washc2a', 'mrpl21', 'duox1', 'ifnl3', 'rpl28', 'foxl3', 'rpl26l1', 'myg1', 'spanxa1', 'rps6kb1', 'or4f3', 'prss2', 'or10a2', 'mrps16', 'or51l1', 'mrps18a', 'mrps26', 'h4c14', 'mrpl35', 'mrpl14', 'h1-2', 'ervh48-1', 'rnf123', 'gpr75', 'mrps35', 'fam72b', 'ccdc74b', 'rpl12', 'c20orf173', 'mzt2b', 'iftap', 'spdye14', 'dcanp1', 'or5m9', 'kcna6', 'msl3', 'gage12c', 'neu2', 'ino80b-wbp1', 'h4c12', 'or9g4', 'potei', 'cyp2a13', 'trim6-trim34', 'rplp2', 'plekhg7', 'ccdc25', 'gk', 'igf2', 'fcn1', 'cst1', 'znf845', 'cilk1', 'npipa8', 'ak3', 'h2bc18', 'rpl15', 'or2a42', 'or4n2', 'actl7a', 'trex1', 'vars1', 'clrn2', 'lyzl1', 'man2c1', 'csn1s1', 'usp17l13', 'dnajb7', 'usp17l10', 'or1j4', 'scygr3', 'hsfx1', 'mnt', 'h2ac12', 'ranbp2', 'ugt1a6', 'hbg1', 'mrps14', 'znf81', 'tas2r20', 'defa1b', 'hnrnpcl1', 'or51g1', 'aars1', 'fam240b', 'mrpl38', 'mrpl58', 'rsph10b', 'npy4r', 'mrpl44', 'or2t3', 'hnrnpcl4', 'mrps28', 'h1-8', 'rpl27', 'mrpl28', 'rab4b-egln2', 'krtap2-2', 'h2az2', 'syt15', 'h2be1', 'mrpl39', 'slc6a18', 'c4a', 'saa2-saa4', 'h2bw2', 'c20orf203', 'cryba1', 'ankrd20a4p', 'golga6l10', 'fmc1-luc7l2', 'acot2', 'ssu72p4', 'rps12', 'gpr42', 'spata25', 'hla-f', 'nars1', 'h2ab2', 'atf7-npff', 'rab6d', 'spanxc', 'rps5', 'cbsl', 'pfkl', 'spdye16', 'cfap65', 'csnk2a3', 'tas2r13', 'tptep2-csnk1e', 'c11orf98', 'poted', 'gpr52', 'fam47a', 'h3c1', 'fkbp1a', 'hla-doa', 'rps20', 'nudt4', 'dus4l-bcap29', 'cylc2', 'marchf8', 'krtap5-11', 'fam246a', 'rps23', 'npipa7', 'pramef26', 'bpnt2', 'vcx2', 'gpx1', 'taf11l5', 'gabra3', 'tp53tg3', 'arpin-ap3s2', 'sumo1', 'h3c15', 'mrpl47', 'smim40', 'rps29', 'apoc4-apoc2', 'rps3', 'rpl39', 'mrpl10', 'potej', 'tkt', 'slco1b3-slco1b7', 'smim36', 'or4n4', 'or2a2', 'slc22a8', 'ifnw1', 'mrpl37', 'tlcd4-rwdd3', 'supt20hl2', 'cyp4a22', 'kir3dl3', 'rpl21', 'marchf2', 'jmjd7', 'mrpl9', 'znf506', 'htn1', 'or5t2', 'fam187a', 'aknad1', 'golga6b', 'c17orf114', 'or10s1', 'garre1', 'tmem271', 'fam90a9p', 'myh6', 'tasl', 'npff', 'eef1e1-bloc1s5', 'magea10', 'mrps10', 'dcd', 'prr23d1', 'necab1', 'dusp29', 'tas2r46', 'h2bc15', 'or6c65', 'cgb1', 'lyg2', 'pwwp4', 'gdf1', 'rgpd2', 'tmem174', 'rdh8', 'fam236a', 'hla-b', 'kcnj12', 'gcom1', 'spdye2b', 'rpl36al', 'or52e2', 'polr1h', 'glt6d1', 'fam86b2', 'odad1', 'htr3b', 'defb103a', 'rps6ka3', 'zbtb8os', 'panx3', 'nutm2d', 'psg1', 'gfral', 'myh1', 'krt18', 'usp17l27', 'synj2bp-cox16', 'fscn2', 'fam236c', 'impdh1', 'memo1', 'timm23b-agap6', 'hla-dqb2', 'c12orf71', 'znf395', 'lipm', 'krt12', 'pramef18', 'usp17l5', 'hbe1', 'or5a2', 'gypb', 'rpl36a', 'rnf103-chmp3', 'rpl32', 'aadacl4', 'gstm1', 'nxph2', 'ct47a5', 'abcc10', 'golga6l22', 'itgae', 'spata31a3', 'srgap2', 'mbd3l1', 'defb104a', 'taf11l2', 'hrob', 'ssx2', 'krtap5-4', 'abhd17a', 'iqcj-schip1', 'or52a1', 'rit2', 'npipb5', 'cbwd5', 'c1orf94', 'specc1l-adora2a', 'cd59', 'eif1ay', 'mtrnr2l13', 'pabir2', 'dux4', 'krt33b', 'nt5c1b-rdh14', 'lmod2', 'morn1', 'znrf4', 'or51m1', 'mrpl11', 's100a7', 'mtrnr2l10', 'rps6kc1', 'or51s1', 'ctage4', 'usp17l11', 'scygr7', 'marchf5', 'amigo3', 'smim11b', 'b3galt9', 'scgb1c1', 'spanxn3', 'or7c2', 'h3y2', 'ipo7', 'cd8b', 'taf11l7', 'klhl40', 'pkhd1l1', 'gage2e', 'hsd17b7', 'defb107b', 'fam90a14p', 'ckmt1b', 'prr20a', 'ttc34', 'irag2', 'casp1', 'rpl10', 'msantd3-tmeff1', 'ct47a3', 'etda', 'h3c10', 'hnrnpcl2', 'rplp0', 'atp5mj', 'borcs8-mef2b', 'or5h1', 'gng5p2', 'dynlt5', 'cabp2', 'ropn1', 'nanog', 'tex13a', 'hsd11b1l', 'golga4', 'rpl13a', 'cacybp', 'cep57l1', 'atp4b', 'eola1', 'nek5', 'elapor2', 'ct47a6', 'or4c15', 'ssx4b', 'or11h2', 'satl1', 'slc35g4', 'rabl2a', 'pcnp', 'fam72c', 'irag1', 'tbc1d3', 'rp1', 'pramef33', 'tmem191c', 'lpa', 'sun5', 'ccdc105', 'pin4', 'or5v1', 'rps27a', 'krtap4-9', 'zfp91-cntf', 'slc35g6', 'rps24', 'rpl37', 'mrpl41', 'ptprcap', 'eif3c', 'clrn1', 'rbmy1e', 'mbd3l2', 'mia-rab4b', 'pdxdc1', 'elapor1', 'or51i1', 'tmem139', 'znf816-znf321p', 'arhgap19-slit1', 'acr', 'hla-e', 'mtarc1', 'ola1', 'spaca5', 'tbc1d26', 'mrpl1', 'gage12h', 'dpy19l2', 'uty', 'ggta1', 'tars1', 'cdc14c', 'magea8', 'nlrp5', 'guca1c', 'mrpl2', 'macroh2a1', 'rps6kl1', 'lgals13', 'potef', 'tvp23c-cdrt4', 'mrpl43', 'npm1', 'mrps15', 'ssx2b', 'ankrd20a2p', 'misp3', 'pcdhgb4', 'tcaf2c', 'crisp1', 'atp5mf-ptcd1', 'wash6p', 'ct45a8', 'mr1', 'usp17l30', 'lars1', 'ctage9', 'usp17l25', 'or14j1', 'rps6kb2', 'smim34b', 'defa1', 'eef1a1', 'dbx1', 'ap5b1', 'trim39-rpp21', 'mt4', 'nms', 'ak2', 'golga8j', 'hnrnpab', 'u2af1', 'prelid1', 'ptp4a2', 'mrpl15', 'csh1', 'oosp2', 'mrpl20', 'znf443', 'nomo2', 'h3c2', 'nbpf15', 'styxl2', 'rps27', 'cep43', 'znf625-znf20', 'mrps27', 'nlgn4y', 'mrpl40', 'mtrnr2l7', 'bpifb3', 'tdgf1p3', 'ifnk', 'sry', 'usp17l22', 'tbc1d3d', 'fads6', 'tmdd1', 'yars1', 'rps16', 'fam184b', 'pcdhgc4', 'mrpl53', 'gage12j', 'tex48', 'h2ac13', 'gage12d', 'maged4', 'fam90a22p', 'or8d2', 'h2ac20', 'ppfia1', 'nap1l1', 'fpgt-tnni3k', 'guca2b', 'defb131a', 'psma6', 'bcas1', 'tarm1', 'lims1', 'eprs1', 'ddx53', 'hypk', 'mt-co1', 'lgals7b', 'h2bc7', 'mrpl54', 'scygr2', 'washc1', 'pigy', 'ppial4c', 'znf846', 'usp9y', 'cracdl', 'fam47e-stbd1', 'rps4y2', 'tp53tg3d', 'sun3', 'aplf', 'gtf2h2c', 'ccdc74a', 'ube2u', 'or5h6', 'or4e2', 'or1e2', 'hnrnpa1', 'nxf2', 'mbd3l4', 'srp14', 'amy2b', 'xage1a', 'mrps23', 'grap', 'rps8', 'h4c5', 'rgpd6', 'grxcr1', 'plscr5', 'mrpl18', 'fam90a7p', 'rab40al'}\n",
      "仅在 adata_genes 中存在的基因数量: 301\n",
      "仅在 adata_genes 中存在的基因: {'arih2os', 'card17', 'hist1h2ac', 'tbce', 'march3', 'eprs', 'tarsl2', 'grasp', 'mars', 'c16orf58', 'trac', 'ac010325.1', 'cyb561d2', 'pano1', 'march4', 'linc02694', 'spata13', 'c11orf40', 'c12orf10', 'pde11a', 'c5orf60', 'c7orf77', 'snhg32', 'marc1', 'mir1915hg', 'b3gnt10', 'lor', 'igkc', 'igha1', 'h1fnt', 'kars', 'wdyhv1', 'kiaa1211l', 'hist1h2bg', 'mycnos', 'al354761.1', 'al032819.3', 'igha2', 'march2', 'qars', 'c6orf201', 'trdc', 'cntd2', 'or5r1', 'iglc7', 'lrmp', 'ac073111.4', 'hist1h1d', 'trbc2', 'hist2h2be', 'z82206.1', 'ac233723.1', 'lars', 'kiaa0556', 'ac113348.1', 'kiaa1211', 'bhmg1', 'cd3eap', 'kif1bp', 'tsta3', 'c19orf57', 'golga8m', 'rgs5', 'c3orf67', 'trgc2', 'march8', 'hypm', 'trgc1', 'lrrc29', 'wdr78', 'ac132217.2', 'sspo', 'ighg3', 'linc02693', 'ac004593.3', 'c5orf30', 'hhla3', 'spata8', 'c6orf223', 'fp565260.1', 'c5orf67', 'slfn12l', 'fam49b', 'bx255925.3', 'ap002495.1', 'al845331.2', 'ccdc155', 'ac134684.8', 'elfn2', 'dupd1', 'wdr66', 'gdf5os', 'hist1h4i', 'ac011005.1', 'h2afz', 'al391650.1', 'sars', 'ac118549.1', 'dusp27', 'ac007906.2', 'c10orf142', 'tmsb15b', 'h2afj', 'aars', 'ac115220.1', 'tars', 'al590560.2', 'ct62', 'tmem99', 'glra4', 'adss', 'castor3', 'al451007.3', 'vars', 'al160269.1', 'slc26a10', 'c1orf61', 'slc66a1l', 'h2afx', 'atp5mpl', 'prky', 'dars', 'nars', 'bx276092.9', 'defb133', 'cenpbd1', 'ac021097.2', 'al445238.1', 'acpp', 'ccdc151', 'tmem155', 'elmsan1', 'hist1h4j', 'wars', 'fam122b', 'c19orf48', 'fam49a', 'tmem246', 'c14orf177', 'hist1h1a', 'ac091057.6', 'dock8-as1', 'fam122a', 'armc4', 'hist4h4', 'h2bfwt', 'c12orf74', 'fam92b', 'wdr63', 'lrp5l', 'ac008397.1', 'hist1h1c', 'tmem8a', 'ac011195.2', 'st5', 'al109810.2', 'card16', 'march5', 'trgjp1', 'h3.y', 'ccdc36', 'nxf5', 'fopnl', 'c10orf55', 'c9orf129', 'gcsaml-as1', 'h2afy', 'c12orf81', 'hist1h2bn', 'march11', 'al162231.1', 'h1f0', 'ac092835.1', 'hist1h2ae', 'rars', 'kiaa1257', 'c17orf53', 'cxorf21', 'al353572.3', 'wdr60', 'c11orf74', 'hist3h2a', 'cars', 'hist1h3h', 'hist1h4e', 'tctex1d2', 'c11orf88', 'gars', 'ac008687.4', 'h3f3c', 'march10', 'cllu1os', 'c15orf41', 'marc2', 'hist3h2bb', 'adssl1', 'al121578.2', 'cxorf56', 'wdr34', 'c2orf91', 'cxorf40a', 'hist1h2ak', 'trbc1', 'hist1h3e', 'tmem189', 'kiaa1324l', 'ttc25', 'pinx1', 'ccdc114', 'yars', 'march1', 'ac104389.5', 'ac025287.4', 'palm2-akap2', 'ac013470.2', 'fam192a', 'march9', 'adprhl2', 'iglc1', 'ac025283.2', 'h2bfm', 'iars', 'twistnb', 'fam30a', 'c12orf49', 'ac087498.1', 'hist1h2bb', 'ick', 'al162596.1', 'znrd1', 'al603764.2', 'eloa3', 'dirc1', 'kiaa0355', 'ighd', 'ighm', 'hist1h4g', 'atp6ap1l', 'hist1h1b', 'march6', 'kiaa1324', 'ighg1', 'pih1d3', 'ac236972.4', 'hars', 'terc', 'hist1h4c', 'c9orf92', 'al135905.2', 'trim16l', 'h3f3a', 'hist3h3', 'tcte3', 'ighe', 'hist1h3g', 'ccdc39', 'casc4', 'hist1h2ag', 'h2afy2', 'ac010255.3', 'ac093323.1', 'tmem173', 'hist1h1e', 'fam169b', 'mrvi1', 'ac067752.1', 'atp5md', 'march7', 'hist1h2ai', 'arse', 'ccdc84', 'tctex1d1', 'ac021072.1', 'ac099489.1', 'spert', 'ac072022.2', 'h1foo', 'ac187653.1', 'hist1h4b', 'ac090360.1', 'znf883', 'ppp5d1', 'alg1l', 'dec1', 'ac138647.1', 'h3f3b', 'c2orf83', 'tctex1d4', 'siglec5', 'hist1h2bh', 'ac015871.1', 'ac119396.1', 'fgfr1op', 'trgjp2', 'h1fx', 'maats1', 'fam122c', 'ac005551.1', 'impad1', 'casc1', 'fam218a'}\n"
     ]
    }
   ],
   "source": [
    "only_in_all_genes = all_genes_set - adata_genes_set\n",
    "\n",
    "only_in_adata_genes = adata_genes_set - all_genes_set\n",
    "\n",
    "# 输出结果\n",
    "print(f\"仅在 all_genes 中存在的基因数量: {len(only_in_all_genes)}\")\n",
    "print(f\"仅在 all_genes 中存在的基因: {only_in_all_genes}\")\n",
    "\n",
    "print(f\"仅在 adata_genes 中存在的基因数量: {len(only_in_adata_genes)}\")\n",
    "print(f\"仅在 adata_genes 中存在的基因: {only_in_adata_genes}\")\n"
   ]
  },
  {
   "cell_type": "code",
   "execution_count": 11,
   "metadata": {
    "execution": {
     "iopub.execute_input": "2024-11-03T15:20:29.643827Z",
     "iopub.status.busy": "2024-11-03T15:20:29.643444Z",
     "iopub.status.idle": "2024-11-03T15:22:31.218039Z",
     "shell.execute_reply": "2024-11-03T15:22:31.216959Z"
    }
   },
   "outputs": [
    {
     "name": "stdout",
     "output_type": "stream",
     "text": [
      "Gene al391650.1 not found in all_genes list\n"
     ]
    },
    {
     "name": "stdout",
     "output_type": "stream",
     "text": [
      "Gene yars not found in all_genes list\n"
     ]
    },
    {
     "name": "stdout",
     "output_type": "stream",
     "text": [
      "Gene adprhl2 not found in all_genes list\n"
     ]
    },
    {
     "name": "stdout",
     "output_type": "stream",
     "text": [
      "Gene tctex1d4 not found in all_genes list\n"
     ]
    },
    {
     "name": "stdout",
     "output_type": "stream",
     "text": [
      "Gene tctex1d1 not found in all_genes list\n",
      "Gene wdr78 not found in all_genes list\n",
      "Gene hhla3 not found in all_genes list\n"
     ]
    },
    {
     "name": "stdout",
     "output_type": "stream",
     "text": [
      "Gene ac118549.1 not found in all_genes list\n",
      "Gene wdr63 not found in all_genes list\n"
     ]
    },
    {
     "name": "stdout",
     "output_type": "stream",
     "text": [
      "Gene kiaa1324 not found in all_genes list\n",
      "Gene sars not found in all_genes list\n"
     ]
    },
    {
     "name": "stdout",
     "output_type": "stream",
     "text": [
      "Gene hist2h2be not found in all_genes list\n"
     ]
    },
    {
     "name": "stdout",
     "output_type": "stream",
     "text": [
      "Gene al162596.1 not found in all_genes list\n",
      "Gene lor not found in all_genes list\n"
     ]
    },
    {
     "name": "stdout",
     "output_type": "stream",
     "text": [
      "Gene c1orf61 not found in all_genes list\n"
     ]
    },
    {
     "name": "stdout",
     "output_type": "stream",
     "text": [
      "Gene al590560.2 not found in all_genes list\n"
     ]
    },
    {
     "name": "stdout",
     "output_type": "stream",
     "text": [
      "Gene rgs5 not found in all_genes list\n",
      "Gene dusp27 not found in all_genes list\n"
     ]
    },
    {
     "name": "stdout",
     "output_type": "stream",
     "text": [
      "Gene eprs not found in all_genes list\n",
      "Gene marc2 not found in all_genes list\n",
      "Gene marc1 not found in all_genes list\n"
     ]
    },
    {
     "name": "stdout",
     "output_type": "stream",
     "text": [
      "Gene h3f3a not found in all_genes list\n",
      "Gene hist3h3 not found in all_genes list\n",
      "Gene hist3h2a not found in all_genes list\n",
      "Gene hist3h2bb not found in all_genes list\n"
     ]
    },
    {
     "name": "stdout",
     "output_type": "stream",
     "text": [
      "Gene al109810.2 not found in all_genes list\n",
      "Gene tbce not found in all_genes list\n"
     ]
    },
    {
     "name": "stdout",
     "output_type": "stream",
     "text": [
      "Gene adss not found in all_genes list\n",
      "Gene al451007.3 not found in all_genes list\n",
      "Gene gcsaml-as1 not found in all_genes list\n"
     ]
    },
    {
     "name": "stdout",
     "output_type": "stream",
     "text": [
      "Gene mycnos not found in all_genes list\n",
      "Gene fam49a not found in all_genes list\n"
     ]
    },
    {
     "name": "stdout",
     "output_type": "stream",
     "text": [
      "Gene c2orf91 not found in all_genes list\n"
     ]
    },
    {
     "name": "stdout",
     "output_type": "stream",
     "text": [
      "Gene igkc not found in all_genes list\n",
      "Gene al845331.2 not found in all_genes list\n",
      "Gene ac092835.1 not found in all_genes list\n"
     ]
    },
    {
     "name": "stdout",
     "output_type": "stream",
     "text": [
      "Gene kiaa1211l not found in all_genes list\n"
     ]
    },
    {
     "name": "stdout",
     "output_type": "stream",
     "text": [
      "Gene dars not found in all_genes list\n"
     ]
    },
    {
     "name": "stdout",
     "output_type": "stream",
     "text": [
      "Gene march7 not found in all_genes list\n"
     ]
    },
    {
     "name": "stdout",
     "output_type": "stream",
     "text": [
      "Gene pde11a not found in all_genes list\n"
     ]
    },
    {
     "name": "stdout",
     "output_type": "stream",
     "text": [
      "Gene dirc1 not found in all_genes list\n"
     ]
    },
    {
     "name": "stdout",
     "output_type": "stream",
     "text": [
      "Gene march4 not found in all_genes list\n"
     ]
    },
    {
     "name": "stdout",
     "output_type": "stream",
     "text": [
      "Gene c2orf83 not found in all_genes list\n"
     ]
    },
    {
     "name": "stdout",
     "output_type": "stream",
     "text": [
      "Gene arih2os not found in all_genes list\n",
      "Gene qars not found in all_genes list\n",
      "Gene ccdc36 not found in all_genes list\n"
     ]
    },
    {
     "name": "stdout",
     "output_type": "stream",
     "text": [
      "Gene cyb561d2 not found in all_genes list\n"
     ]
    },
    {
     "name": "stdout",
     "output_type": "stream",
     "text": [
      "Gene c3orf67 not found in all_genes list\n"
     ]
    },
    {
     "name": "stdout",
     "output_type": "stream",
     "text": [
      "Gene maats1 not found in all_genes list\n"
     ]
    },
    {
     "name": "stdout",
     "output_type": "stream",
     "text": [
      "Gene alg1l not found in all_genes list\n",
      "Gene kiaa1257 not found in all_genes list\n"
     ]
    },
    {
     "name": "stdout",
     "output_type": "stream",
     "text": [
      "Gene h1fx not found in all_genes list\n",
      "Gene h1foo not found in all_genes list\n",
      "Gene acpp not found in all_genes list\n"
     ]
    },
    {
     "name": "stdout",
     "output_type": "stream",
     "text": [
      "Gene slc66a1l not found in all_genes list\n"
     ]
    },
    {
     "name": "stdout",
     "output_type": "stream",
     "text": [
      "Gene terc not found in all_genes list\n"
     ]
    },
    {
     "name": "stdout",
     "output_type": "stream",
     "text": [
      "Gene ccdc39 not found in all_genes list\n"
     ]
    },
    {
     "name": "stdout",
     "output_type": "stream",
     "text": [
      "Gene ac072022.2 not found in all_genes list\n"
     ]
    },
    {
     "name": "stdout",
     "output_type": "stream",
     "text": [
      "Gene tctex1d2 not found in all_genes list\n"
     ]
    },
    {
     "name": "stdout",
     "output_type": "stream",
     "text": [
      "Gene ac093323.1 not found in all_genes list\n"
     ]
    },
    {
     "name": "stdout",
     "output_type": "stream",
     "text": [
      "Gene kiaa1211 not found in all_genes list\n"
     ]
    },
    {
     "name": "stdout",
     "output_type": "stream",
     "text": [
      "Gene h2afz not found in all_genes list\n"
     ]
    },
    {
     "name": "stdout",
     "output_type": "stream",
     "text": [
      "Gene tmem155 not found in all_genes list\n"
     ]
    },
    {
     "name": "stdout",
     "output_type": "stream",
     "text": [
      "Gene march1 not found in all_genes list\n",
      "Gene fam218a not found in all_genes list\n"
     ]
    },
    {
     "name": "stdout",
     "output_type": "stream",
     "text": [
      "Gene march6 not found in all_genes list\n",
      "Gene march11 not found in all_genes list\n",
      "Gene h3.y not found in all_genes list\n"
     ]
    },
    {
     "name": "stdout",
     "output_type": "stream",
     "text": [
      "Gene tars not found in all_genes list\n"
     ]
    },
    {
     "name": "stdout",
     "output_type": "stream",
     "text": [
      "Gene c5orf67 not found in all_genes list\n"
     ]
    },
    {
     "name": "stdout",
     "output_type": "stream",
     "text": [
      "Gene atp6ap1l not found in all_genes list\n"
     ]
    },
    {
     "name": "stdout",
     "output_type": "stream",
     "text": [
      "Gene c5orf30 not found in all_genes list\n"
     ]
    },
    {
     "name": "stdout",
     "output_type": "stream",
     "text": [
      "Gene ac010255.3 not found in all_genes list\n",
      "Gene march3 not found in all_genes list\n"
     ]
    },
    {
     "name": "stdout",
     "output_type": "stream",
     "text": [
      "Gene h2afy not found in all_genes list\n"
     ]
    },
    {
     "name": "stdout",
     "output_type": "stream",
     "text": [
      "Gene tmem173 not found in all_genes list\n",
      "Gene hars not found in all_genes list\n"
     ]
    },
    {
     "name": "stdout",
     "output_type": "stream",
     "text": [
      "Gene lars not found in all_genes list\n"
     ]
    },
    {
     "name": "stdout",
     "output_type": "stream",
     "text": [
      "Gene rars not found in all_genes list\n"
     ]
    },
    {
     "name": "stdout",
     "output_type": "stream",
     "text": [
      "Gene ac113348.1 not found in all_genes list\n",
      "Gene c5orf60 not found in all_genes list\n"
     ]
    },
    {
     "name": "stdout",
     "output_type": "stream",
     "text": [
      "Gene c6orf201 not found in all_genes list\n"
     ]
    },
    {
     "name": "stdout",
     "output_type": "stream",
     "text": [
      "Gene hist1h1a not found in all_genes list\n",
      "Gene hist1h4b not found in all_genes list\n",
      "Gene hist1h2bb not found in all_genes list\n",
      "Gene hist1h1c not found in all_genes list\n",
      "Gene hist1h4c not found in all_genes list\n",
      "Gene hist1h2ac not found in all_genes list\n",
      "Gene hist1h1e not found in all_genes list\n",
      "Gene hist1h4e not found in all_genes list\n",
      "Gene hist1h2bg not found in all_genes list\n",
      "Gene hist1h2ae not found in all_genes list\n",
      "Gene hist1h3e not found in all_genes list\n",
      "Gene hist1h1d not found in all_genes list\n",
      "Gene hist1h4g not found in all_genes list\n",
      "Gene hist1h2bh not found in all_genes list\n",
      "Gene hist1h3g not found in all_genes list\n",
      "Gene hist1h2ag not found in all_genes list\n",
      "Gene hist1h4i not found in all_genes list\n",
      "Gene hist1h2ai not found in all_genes list\n",
      "Gene hist1h3h not found in all_genes list\n",
      "Gene hist1h4j not found in all_genes list\n",
      "Gene hist1h2bn not found in all_genes list\n",
      "Gene hist1h2ak not found in all_genes list\n",
      "Gene hist1h1b not found in all_genes list\n"
     ]
    },
    {
     "name": "stdout",
     "output_type": "stream",
     "text": [
      "Gene znrd1 not found in all_genes list\n"
     ]
    },
    {
     "name": "stdout",
     "output_type": "stream",
     "text": [
      "Gene vars not found in all_genes list\n",
      "Gene snhg32 not found in all_genes list\n"
     ]
    },
    {
     "name": "stdout",
     "output_type": "stream",
     "text": [
      "Gene c6orf223 not found in all_genes list\n"
     ]
    },
    {
     "name": "stdout",
     "output_type": "stream",
     "text": [
      "Gene defb133 not found in all_genes list\n",
      "Gene ick not found in all_genes list\n"
     ]
    },
    {
     "name": "stdout",
     "output_type": "stream",
     "text": [
      "Gene al135905.2 not found in all_genes list\n"
     ]
    },
    {
     "name": "stdout",
     "output_type": "stream",
     "text": [
      "Gene fgfr1op not found in all_genes list\n",
      "Gene tcte3 not found in all_genes list\n",
      "Gene ac187653.1 not found in all_genes list\n"
     ]
    },
    {
     "name": "stdout",
     "output_type": "stream",
     "text": [
      "Gene ac013470.2 not found in all_genes list\n",
      "Gene twistnb not found in all_genes list\n"
     ]
    },
    {
     "name": "stdout",
     "output_type": "stream",
     "text": [
      "Gene ac004593.3 not found in all_genes list\n",
      "Gene gars not found in all_genes list\n"
     ]
    },
    {
     "name": "stdout",
     "output_type": "stream",
     "text": [
      "Gene trgc2 not found in all_genes list\n",
      "Gene trgjp2 not found in all_genes list\n",
      "Gene trgc1 not found in all_genes list\n",
      "Gene trgjp1 not found in all_genes list\n"
     ]
    },
    {
     "name": "stdout",
     "output_type": "stream",
     "text": [
      "Gene ac115220.1 not found in all_genes list\n"
     ]
    },
    {
     "name": "stdout",
     "output_type": "stream",
     "text": [
      "Gene kiaa1324l not found in all_genes list\n"
     ]
    },
    {
     "name": "stdout",
     "output_type": "stream",
     "text": [
      "Gene castor3 not found in all_genes list\n"
     ]
    },
    {
     "name": "stdout",
     "output_type": "stream",
     "text": [
      "Gene c7orf77 not found in all_genes list\n",
      "Gene ac011005.1 not found in all_genes list\n"
     ]
    },
    {
     "name": "stdout",
     "output_type": "stream",
     "text": [
      "Gene trbc1 not found in all_genes list\n",
      "Gene trbc2 not found in all_genes list\n"
     ]
    },
    {
     "name": "stdout",
     "output_type": "stream",
     "text": [
      "Gene sspo not found in all_genes list\n",
      "Gene ac073111.4 not found in all_genes list\n"
     ]
    },
    {
     "name": "stdout",
     "output_type": "stream",
     "text": [
      "Gene ac021097.2 not found in all_genes list\n"
     ]
    },
    {
     "name": "stdout",
     "output_type": "stream",
     "text": [
      "Gene wdr60 not found in all_genes list\n",
      "Gene ac134684.8 not found in all_genes list\n"
     ]
    },
    {
     "name": "stdout",
     "output_type": "stream",
     "text": [
      "Gene pinx1 not found in all_genes list\n"
     ]
    },
    {
     "name": "stdout",
     "output_type": "stream",
     "text": [
      "Gene impad1 not found in all_genes list\n"
     ]
    },
    {
     "name": "stdout",
     "output_type": "stream",
     "text": [
      "Gene wdyhv1 not found in all_genes list\n",
      "Gene fam49b not found in all_genes list\n"
     ]
    },
    {
     "name": "stdout",
     "output_type": "stream",
     "text": [
      "Gene ac138647.1 not found in all_genes list\n"
     ]
    },
    {
     "name": "stdout",
     "output_type": "stream",
     "text": [
      "Gene tsta3 not found in all_genes list\n"
     ]
    },
    {
     "name": "stdout",
     "output_type": "stream",
     "text": [
      "Gene dock8-as1 not found in all_genes list\n"
     ]
    },
    {
     "name": "stdout",
     "output_type": "stream",
     "text": [
      "Gene c9orf92 not found in all_genes list\n"
     ]
    },
    {
     "name": "stdout",
     "output_type": "stream",
     "text": [
      "Gene al162231.1 not found in all_genes list\n"
     ]
    },
    {
     "name": "stdout",
     "output_type": "stream",
     "text": [
      "Gene fam122a not found in all_genes list\n"
     ]
    },
    {
     "name": "stdout",
     "output_type": "stream",
     "text": [
      "Gene al353572.3 not found in all_genes list\n",
      "Gene iars not found in all_genes list\n",
      "Gene c9orf129 not found in all_genes list\n"
     ]
    },
    {
     "name": "stdout",
     "output_type": "stream",
     "text": [
      "Gene al160269.1 not found in all_genes list\n"
     ]
    },
    {
     "name": "stdout",
     "output_type": "stream",
     "text": [
      "Gene tmem246 not found in all_genes list\n"
     ]
    },
    {
     "name": "stdout",
     "output_type": "stream",
     "text": [
      "Gene palm2-akap2 not found in all_genes list\n",
      "Gene znf883 not found in all_genes list\n"
     ]
    },
    {
     "name": "stdout",
     "output_type": "stream",
     "text": [
      "Gene dec1 not found in all_genes list\n",
      "Gene b3gnt10 not found in all_genes list\n"
     ]
    },
    {
     "name": "stdout",
     "output_type": "stream",
     "text": [
      "Gene wdr34 not found in all_genes list\n"
     ]
    },
    {
     "name": "stdout",
     "output_type": "stream",
     "text": [
      "Gene al354761.1 not found in all_genes list\n"
     ]
    },
    {
     "name": "stdout",
     "output_type": "stream",
     "text": [
      "Gene bx255925.3 not found in all_genes list\n"
     ]
    },
    {
     "name": "stdout",
     "output_type": "stream",
     "text": [
      "Gene mir1915hg not found in all_genes list\n",
      "Gene armc4 not found in all_genes list\n"
     ]
    },
    {
     "name": "stdout",
     "output_type": "stream",
     "text": [
      "Gene c10orf142 not found in all_genes list\n",
      "Gene march8 not found in all_genes list\n"
     ]
    },
    {
     "name": "stdout",
     "output_type": "stream",
     "text": [
      "Gene ac067752.1 not found in all_genes list\n",
      "Gene kif1bp not found in all_genes list\n"
     ]
    },
    {
     "name": "stdout",
     "output_type": "stream",
     "text": [
      "Gene h2afy2 not found in all_genes list\n"
     ]
    },
    {
     "name": "stdout",
     "output_type": "stream",
     "text": [
      "Gene c10orf55 not found in all_genes list\n",
      "Gene dupd1 not found in all_genes list\n"
     ]
    },
    {
     "name": "stdout",
     "output_type": "stream",
     "text": [
      "Gene march5 not found in all_genes list\n"
     ]
    },
    {
     "name": "stdout",
     "output_type": "stream",
     "text": [
      "Gene atp5md not found in all_genes list\n"
     ]
    },
    {
     "name": "stdout",
     "output_type": "stream",
     "text": [
      "Gene al603764.2 not found in all_genes list\n"
     ]
    },
    {
     "name": "stdout",
     "output_type": "stream",
     "text": [
      "Gene pano1 not found in all_genes list\n",
      "Gene ac132217.2 not found in all_genes list\n"
     ]
    },
    {
     "name": "stdout",
     "output_type": "stream",
     "text": [
      "Gene cars not found in all_genes list\n",
      "Gene c11orf40 not found in all_genes list\n"
     ]
    },
    {
     "name": "stdout",
     "output_type": "stream",
     "text": [
      "Gene ac104389.5 not found in all_genes list\n"
     ]
    },
    {
     "name": "stdout",
     "output_type": "stream",
     "text": [
      "Gene st5 not found in all_genes list\n",
      "Gene mrvi1 not found in all_genes list\n"
     ]
    },
    {
     "name": "stdout",
     "output_type": "stream",
     "text": [
      "Gene c11orf74 not found in all_genes list\n"
     ]
    },
    {
     "name": "stdout",
     "output_type": "stream",
     "text": [
      "Gene or5r1 not found in all_genes list\n"
     ]
    },
    {
     "name": "stdout",
     "output_type": "stream",
     "text": [
      "Gene ap002495.1 not found in all_genes list\n"
     ]
    },
    {
     "name": "stdout",
     "output_type": "stream",
     "text": [
      "Gene card16 not found in all_genes list\n",
      "Gene card17 not found in all_genes list\n",
      "Gene c11orf88 not found in all_genes list\n"
     ]
    },
    {
     "name": "stdout",
     "output_type": "stream",
     "text": [
      "Gene ccdc84 not found in all_genes list\n",
      "Gene h2afx not found in all_genes list\n"
     ]
    },
    {
     "name": "stdout",
     "output_type": "stream",
     "text": [
      "Gene hist4h4 not found in all_genes list\n",
      "Gene h2afj not found in all_genes list\n"
     ]
    },
    {
     "name": "stdout",
     "output_type": "stream",
     "text": [
      "Gene lrmp not found in all_genes list\n",
      "Gene casc1 not found in all_genes list\n"
     ]
    },
    {
     "name": "stdout",
     "output_type": "stream",
     "text": [
      "Gene h3f3c not found in all_genes list\n"
     ]
    },
    {
     "name": "stdout",
     "output_type": "stream",
     "text": [
      "Gene h1fnt not found in all_genes list\n"
     ]
    },
    {
     "name": "stdout",
     "output_type": "stream",
     "text": [
      "Gene c12orf81 not found in all_genes list\n",
      "Gene grasp not found in all_genes list\n"
     ]
    },
    {
     "name": "stdout",
     "output_type": "stream",
     "text": [
      "Gene ac021072.1 not found in all_genes list\n",
      "Gene c12orf10 not found in all_genes list\n"
     ]
    },
    {
     "name": "stdout",
     "output_type": "stream",
     "text": [
      "Gene mars not found in all_genes list\n",
      "Gene slc26a10 not found in all_genes list\n",
      "Gene march9 not found in all_genes list\n"
     ]
    },
    {
     "name": "stdout",
     "output_type": "stream",
     "text": [
      "Gene cllu1os not found in all_genes list\n",
      "Gene c12orf74 not found in all_genes list\n"
     ]
    },
    {
     "name": "stdout",
     "output_type": "stream",
     "text": [
      "Gene c12orf49 not found in all_genes list\n"
     ]
    },
    {
     "name": "stdout",
     "output_type": "stream",
     "text": [
      "Gene wdr66 not found in all_genes list\n"
     ]
    },
    {
     "name": "stdout",
     "output_type": "stream",
     "text": [
      "Gene spata13 not found in all_genes list\n"
     ]
    },
    {
     "name": "stdout",
     "output_type": "stream",
     "text": [
      "Gene spert not found in all_genes list\n"
     ]
    },
    {
     "name": "stdout",
     "output_type": "stream",
     "text": [
      "Gene al445238.1 not found in all_genes list\n"
     ]
    },
    {
     "name": "stdout",
     "output_type": "stream",
     "text": [
      "Gene trdc not found in all_genes list\n",
      "Gene trac not found in all_genes list\n"
     ]
    },
    {
     "name": "stdout",
     "output_type": "stream",
     "text": [
      "Gene elmsan1 not found in all_genes list\n"
     ]
    },
    {
     "name": "stdout",
     "output_type": "stream",
     "text": [
      "Gene c14orf177 not found in all_genes list\n",
      "Gene wars not found in all_genes list\n",
      "Gene atp5mpl not found in all_genes list\n"
     ]
    },
    {
     "name": "stdout",
     "output_type": "stream",
     "text": [
      "Gene adssl1 not found in all_genes list\n",
      "Gene igha2 not found in all_genes list\n",
      "Gene ighe not found in all_genes list\n",
      "Gene igha1 not found in all_genes list\n",
      "Gene ighg1 not found in all_genes list\n",
      "Gene ighg3 not found in all_genes list\n",
      "Gene ighd not found in all_genes list\n",
      "Gene ighm not found in all_genes list\n",
      "Gene fam30a not found in all_genes list\n",
      "Gene golga8m not found in all_genes list\n",
      "Gene ac091057.6 not found in all_genes list\n"
     ]
    },
    {
     "name": "stdout",
     "output_type": "stream",
     "text": [
      "Gene c15orf41 not found in all_genes list\n",
      "Gene linc02694 not found in all_genes list\n"
     ]
    },
    {
     "name": "stdout",
     "output_type": "stream",
     "text": [
      "Gene casc4 not found in all_genes list\n"
     ]
    },
    {
     "name": "stdout",
     "output_type": "stream",
     "text": [
      "Gene ct62 not found in all_genes list\n"
     ]
    },
    {
     "name": "stdout",
     "output_type": "stream",
     "text": [
      "Gene ac015871.1 not found in all_genes list\n"
     ]
    },
    {
     "name": "stdout",
     "output_type": "stream",
     "text": [
      "Gene spata8 not found in all_genes list\n",
      "Gene fam169b not found in all_genes list\n",
      "Gene tarsl2 not found in all_genes list\n"
     ]
    },
    {
     "name": "stdout",
     "output_type": "stream",
     "text": [
      "Gene tmem8a not found in all_genes list\n"
     ]
    },
    {
     "name": "stdout",
     "output_type": "stream",
     "text": [
      "Gene al032819.3 not found in all_genes list\n"
     ]
    },
    {
     "name": "stdout",
     "output_type": "stream",
     "text": [
      "Gene ac025283.2 not found in all_genes list\n"
     ]
    },
    {
     "name": "stdout",
     "output_type": "stream",
     "text": [
      "Gene ac099489.1 not found in all_genes list\n",
      "Gene fopnl not found in all_genes list\n"
     ]
    },
    {
     "name": "stdout",
     "output_type": "stream",
     "text": [
      "Gene kiaa0556 not found in all_genes list\n"
     ]
    },
    {
     "name": "stdout",
     "output_type": "stream",
     "text": [
      "Gene c16orf58 not found in all_genes list\n"
     ]
    },
    {
     "name": "stdout",
     "output_type": "stream",
     "text": [
      "Gene ac007906.2 not found in all_genes list\n"
     ]
    },
    {
     "name": "stdout",
     "output_type": "stream",
     "text": [
      "Gene fam192a not found in all_genes list\n"
     ]
    },
    {
     "name": "stdout",
     "output_type": "stream",
     "text": [
      "Gene lrrc29 not found in all_genes list\n"
     ]
    },
    {
     "name": "stdout",
     "output_type": "stream",
     "text": [
      "Gene aars not found in all_genes list\n"
     ]
    },
    {
     "name": "stdout",
     "output_type": "stream",
     "text": [
      "Gene kars not found in all_genes list\n",
      "Gene ac025287.4 not found in all_genes list\n"
     ]
    },
    {
     "name": "stdout",
     "output_type": "stream",
     "text": [
      "Gene fam92b not found in all_genes list\n"
     ]
    },
    {
     "name": "stdout",
     "output_type": "stream",
     "text": [
      "Gene cenpbd1 not found in all_genes list\n"
     ]
    },
    {
     "name": "stdout",
     "output_type": "stream",
     "text": [
      "Gene ac087498.1 not found in all_genes list\n"
     ]
    },
    {
     "name": "stdout",
     "output_type": "stream",
     "text": [
      "Gene ac233723.1 not found in all_genes list\n"
     ]
    },
    {
     "name": "stdout",
     "output_type": "stream",
     "text": [
      "Gene trim16l not found in all_genes list\n",
      "Gene linc02693 not found in all_genes list\n"
     ]
    },
    {
     "name": "stdout",
     "output_type": "stream",
     "text": [
      "Gene slfn12l not found in all_genes list\n"
     ]
    },
    {
     "name": "stdout",
     "output_type": "stream",
     "text": [
      "Gene tmem99 not found in all_genes list\n"
     ]
    },
    {
     "name": "stdout",
     "output_type": "stream",
     "text": [
      "Gene ttc25 not found in all_genes list\n"
     ]
    },
    {
     "name": "stdout",
     "output_type": "stream",
     "text": [
      "Gene c17orf53 not found in all_genes list\n"
     ]
    },
    {
     "name": "stdout",
     "output_type": "stream",
     "text": [
      "Gene ac011195.2 not found in all_genes list\n"
     ]
    },
    {
     "name": "stdout",
     "output_type": "stream",
     "text": [
      "Gene march10 not found in all_genes list\n"
     ]
    },
    {
     "name": "stdout",
     "output_type": "stream",
     "text": [
      "Gene h3f3b not found in all_genes list\n"
     ]
    },
    {
     "name": "stdout",
     "output_type": "stream",
     "text": [
      "Gene eloa3 not found in all_genes list\n"
     ]
    },
    {
     "name": "stdout",
     "output_type": "stream",
     "text": [
      "Gene nars not found in all_genes list\n"
     ]
    },
    {
     "name": "stdout",
     "output_type": "stream",
     "text": [
      "Gene ac090360.1 not found in all_genes list\n"
     ]
    },
    {
     "name": "stdout",
     "output_type": "stream",
     "text": [
      "Gene ac005551.1 not found in all_genes list\n"
     ]
    },
    {
     "name": "stdout",
     "output_type": "stream",
     "text": [
      "Gene ac119396.1 not found in all_genes list\n"
     ]
    },
    {
     "name": "stdout",
     "output_type": "stream",
     "text": [
      "Gene march2 not found in all_genes list\n"
     ]
    },
    {
     "name": "stdout",
     "output_type": "stream",
     "text": [
      "Gene ccdc151 not found in all_genes list\n"
     ]
    },
    {
     "name": "stdout",
     "output_type": "stream",
     "text": [
      "Gene c19orf57 not found in all_genes list\n"
     ]
    },
    {
     "name": "stdout",
     "output_type": "stream",
     "text": [
      "Gene ac008397.1 not found in all_genes list\n"
     ]
    },
    {
     "name": "stdout",
     "output_type": "stream",
     "text": [
      "Gene kiaa0355 not found in all_genes list\n"
     ]
    },
    {
     "name": "stdout",
     "output_type": "stream",
     "text": [
      "Gene cntd2 not found in all_genes list\n"
     ]
    },
    {
     "name": "stdout",
     "output_type": "stream",
     "text": [
      "Gene cd3eap not found in all_genes list\n",
      "Gene bhmg1 not found in all_genes list\n"
     ]
    },
    {
     "name": "stdout",
     "output_type": "stream",
     "text": [
      "Gene ppp5d1 not found in all_genes list\n"
     ]
    },
    {
     "name": "stdout",
     "output_type": "stream",
     "text": [
      "Gene ccdc114 not found in all_genes list\n"
     ]
    },
    {
     "name": "stdout",
     "output_type": "stream",
     "text": [
      "Gene ac008687.4 not found in all_genes list\n",
      "Gene ccdc155 not found in all_genes list\n"
     ]
    },
    {
     "name": "stdout",
     "output_type": "stream",
     "text": [
      "Gene ac010325.1 not found in all_genes list\n",
      "Gene c19orf48 not found in all_genes list\n"
     ]
    },
    {
     "name": "stdout",
     "output_type": "stream",
     "text": [
      "Gene siglec5 not found in all_genes list\n"
     ]
    },
    {
     "name": "stdout",
     "output_type": "stream",
     "text": [
      "Gene gdf5os not found in all_genes list\n"
     ]
    },
    {
     "name": "stdout",
     "output_type": "stream",
     "text": [
      "Gene tmem189 not found in all_genes list\n"
     ]
    },
    {
     "name": "stdout",
     "output_type": "stream",
     "text": [
      "Gene fp565260.1 not found in all_genes list\n"
     ]
    },
    {
     "name": "stdout",
     "output_type": "stream",
     "text": [
      "Gene iglc1 not found in all_genes list\n",
      "Gene iglc7 not found in all_genes list\n"
     ]
    },
    {
     "name": "stdout",
     "output_type": "stream",
     "text": [
      "Gene lrp5l not found in all_genes list\n"
     ]
    },
    {
     "name": "stdout",
     "output_type": "stream",
     "text": [
      "Gene elfn2 not found in all_genes list\n",
      "Gene h1f0 not found in all_genes list\n"
     ]
    },
    {
     "name": "stdout",
     "output_type": "stream",
     "text": [
      "Gene z82206.1 not found in all_genes list\n"
     ]
    },
    {
     "name": "stdout",
     "output_type": "stream",
     "text": [
      "Gene arse not found in all_genes list\n"
     ]
    },
    {
     "name": "stdout",
     "output_type": "stream",
     "text": [
      "Gene cxorf21 not found in all_genes list\n",
      "Gene hypm not found in all_genes list\n",
      "Gene al121578.2 not found in all_genes list\n"
     ]
    },
    {
     "name": "stdout",
     "output_type": "stream",
     "text": [
      "Gene bx276092.9 not found in all_genes list\n"
     ]
    },
    {
     "name": "stdout",
     "output_type": "stream",
     "text": [
      "Gene nxf5 not found in all_genes list\n",
      "Gene glra4 not found in all_genes list\n",
      "Gene tmsb15b not found in all_genes list\n",
      "Gene h2bfwt not found in all_genes list\n",
      "Gene h2bfm not found in all_genes list\n"
     ]
    },
    {
     "name": "stdout",
     "output_type": "stream",
     "text": [
      "Gene pih1d3 not found in all_genes list\n"
     ]
    },
    {
     "name": "stdout",
     "output_type": "stream",
     "text": [
      "Gene cxorf56 not found in all_genes list\n"
     ]
    },
    {
     "name": "stdout",
     "output_type": "stream",
     "text": [
      "Gene fam122b not found in all_genes list\n",
      "Gene fam122c not found in all_genes list\n"
     ]
    },
    {
     "name": "stdout",
     "output_type": "stream",
     "text": [
      "Gene cxorf40a not found in all_genes list\n",
      "Gene ac236972.4 not found in all_genes list\n"
     ]
    },
    {
     "name": "stdout",
     "output_type": "stream",
     "text": [
      "Gene prky not found in all_genes list\n"
     ]
    }
   ],
   "source": [
    "dense_adata_X = adata.X\n",
    "for i, gene in enumerate(adata_genes_lower):\n",
    "    if gene in gene_to_index:\n",
    "        new_data[:, gene_to_index[gene]] = dense_adata_X[:, i]\n",
    "    else:\n",
    "        print(f'Gene {gene} not found in all_genes list')\n"
   ]
  },
  {
   "cell_type": "code",
   "execution_count": 12,
   "metadata": {
    "execution": {
     "iopub.execute_input": "2024-11-03T15:22:31.220721Z",
     "iopub.status.busy": "2024-11-03T15:22:31.220314Z",
     "iopub.status.idle": "2024-11-03T15:22:44.433970Z",
     "shell.execute_reply": "2024-11-03T15:22:44.433067Z"
    }
   },
   "outputs": [
    {
     "name": "stdout",
     "output_type": "stream",
     "text": [
      "cuda\n"
     ]
    }
   ],
   "source": [
    "from sklearn.metrics import accuracy_score, f1_score\n",
    "from sklearn.preprocessing import LabelEncoder\n",
    "import numpy as np\n",
    "from sklearn.model_selection import train_test_split\n",
    "\n",
    "\n",
    "label_encoder = LabelEncoder()\n",
    "labels_encoded = label_encoder.fit_transform(adata.obs['cell_type'])  # 预先编码标签\n",
    "\n",
    "\n",
    "random_seed = 42\n",
    "X_train_val, X_test, y_train_val, y_test = train_test_split(\n",
    "    new_data, labels_encoded, test_size=0.15, random_state=random_seed)\n",
    "\n",
    "\n",
    "X_train, X_val, y_train, y_val = train_test_split(\n",
    "    X_train_val, y_train_val, test_size=0.1765, random_state=random_seed)  # 0.1765 是为了让验证集占 15%\n",
    "\n",
    "device = torch.device(\"cuda\" if torch.cuda.is_available() else \"cpu\")\n",
    "print(device)\n",
    "\n",
    "estim.model.eval()\n",
    "with torch.no_grad():\n",
    "    X_train_tensor = torch.tensor(X_train).float().to(device)\n",
    "    X_test_tensor = torch.tensor(X_test).float().to(device)\n",
    "    train_embeddings = estim.model.encoder(X_train_tensor).detach().cpu().numpy()\n",
    "    test_embeddings = estim.model.encoder(X_test_tensor).detach().cpu().numpy()\n"
   ]
  },
  {
   "cell_type": "code",
   "execution_count": 13,
   "metadata": {
    "execution": {
     "iopub.execute_input": "2024-11-03T15:22:44.436565Z",
     "iopub.status.busy": "2024-11-03T15:22:44.436331Z",
     "iopub.status.idle": "2024-11-03T15:22:45.271865Z",
     "shell.execute_reply": "2024-11-03T15:22:45.271013Z"
    }
   },
   "outputs": [
    {
     "name": "stdout",
     "output_type": "stream",
     "text": [
      "KNN Accuracy on Test Data: 0.6737394206699249\n",
      "Weighted F1 Score: 0.6693221848572634\n",
      "Macro F1 Score: 0.5274890371295353\n",
      "Random Guess Accuracy: 0.1320247177116093\n",
      "                         precision    recall  f1-score   support\n",
      "\n",
      "                B_Cells       0.69      0.80      0.74       772\n",
      "           CD4+_T_Cells       0.43      0.45      0.44      1286\n",
      "           CD8+_T_Cells       0.44      0.50      0.47      1026\n",
      "                 DCIS_1       0.64      0.69      0.66      1937\n",
      "                 DCIS_2       0.56      0.50      0.53      1746\n",
      "            Endothelial       0.81      0.79      0.80      1348\n",
      "              IRF7+_DCs       0.86      0.49      0.62        74\n",
      "         Invasive_Tumor       0.77      0.83      0.80      5230\n",
      "             LAMP3+_DCs       0.59      0.47      0.52        49\n",
      "          Macrophages_1       0.68      0.64      0.66      1692\n",
      "          Macrophages_2       0.53      0.41      0.46       223\n",
      "             Mast_Cells       0.60      0.21      0.32        28\n",
      "          Myoepi_ACTA2+       0.70      0.71      0.71      1043\n",
      "          Myoepi_KRT15+       0.76      0.76      0.76       426\n",
      "      Perivascular-Like       0.46      0.13      0.20       125\n",
      "  Prolif_Invasive_Tumor       0.59      0.53      0.56       533\n",
      "                Stromal       0.72      0.73      0.72      6184\n",
      "Stromal_&_T_Cell_Hybrid       0.00      0.00      0.00        93\n",
      "  T_Cell_&_Tumor_Hybrid       0.16      0.08      0.11        87\n",
      "              Unlabeled       0.53      0.45      0.48      1265\n",
      "\n",
      "               accuracy                           0.67     25167\n",
      "              macro avg       0.58      0.51      0.53     25167\n",
      "           weighted avg       0.67      0.67      0.67     25167\n",
      "\n"
     ]
    }
   ],
   "source": [
    "import pandas as pd\n",
    "from sklearn.neighbors import KNeighborsClassifier\n",
    "from sklearn.metrics import accuracy_score, f1_score, classification_report\n",
    "\n",
    "    \n",
    "\n",
    "    # 初始化和训练KNN分类器\n",
    "knn = KNeighborsClassifier(n_neighbors=5)\n",
    "knn.fit(train_embeddings, y_train)\n",
    "    \n",
    "    # 模型预测\n",
    "predictions = knn.predict(test_embeddings)\n",
    "\n",
    "    # 计算准确率和 F1 分数\n",
    "accuracy = accuracy_score(y_test, predictions)\n",
    "print(f\"KNN Accuracy on Test Data: {accuracy}\")\n",
    "f1 = f1_score(y_test, predictions, average='weighted')\n",
    "print(f\"Weighted F1 Score: {f1}\")\n",
    "    \n",
    "macro_f1 = f1_score(y_test, predictions, average='macro')\n",
    "print(f'Macro F1 Score: {macro_f1}')\n",
    "\n",
    "    # 计算随机猜测的准确率\n",
    "class_probabilities = np.bincount(y_test) / len(y_test)\n",
    "random_accuracy = np.sum(class_probabilities ** 2)\n",
    "print(f\"Random Guess Accuracy: {random_accuracy}\")\n",
    "\n",
    "    # 生成分类报告\n",
    "report = classification_report(y_test, predictions, target_names=label_encoder.classes_)\n",
    "print(report)"
   ]
  },
  {
   "cell_type": "code",
   "execution_count": 14,
   "metadata": {
    "execution": {
     "iopub.execute_input": "2024-11-03T15:22:45.274061Z",
     "iopub.status.busy": "2024-11-03T15:22:45.273818Z",
     "iopub.status.idle": "2024-11-03T15:23:04.496547Z",
     "shell.execute_reply": "2024-11-03T15:23:04.495491Z"
    }
   },
   "outputs": [],
   "source": [
    "with torch.no_grad():\n",
    "    new_data_tensor = torch.tensor(new_data).float().to(device)\n",
    "    SSL_embeddings = estim.model.encoder(new_data_tensor).detach().cpu().numpy()\n",
    "new_adata = sc.read_h5ad(data_dir)\n",
    "new_adata.obsm[f'SSL_GP_ZS_{random_seed}'] = SSL_embeddings\n",
    "new_adata.uns[f'GP_ZS_y_test_{random_seed}'] = y_test\n",
    "new_adata.uns[f'GP_ZS_predictions_{random_seed}'] = predictions\n",
    "new_adata.uns[f'GP_ZS_target_names_{random_seed}'] = label_encoder.classes_\n",
    "new_adata.write_h5ad(data_dir)"
   ]
  },
  {
   "cell_type": "code",
   "execution_count": 15,
   "metadata": {
    "execution": {
     "iopub.execute_input": "2024-11-03T15:23:04.499455Z",
     "iopub.status.busy": "2024-11-03T15:23:04.499118Z",
     "iopub.status.idle": "2024-11-03T15:23:04.511326Z",
     "shell.execute_reply": "2024-11-03T15:23:04.510320Z"
    }
   },
   "outputs": [
    {
     "name": "stdout",
     "output_type": "stream",
     "text": [
      "Metrics Summary:\n",
      "macro_f1\tweighted_f1\tmicor_f1\n",
      "0.527\t0.669\t0.674\n"
     ]
    }
   ],
   "source": [
    "\n",
    "import pandas as pd\n",
    "import os\n",
    "import re\n",
    "\n",
    "# 当前 Notebook 文件名\n",
    "notebook_name = \"imputed_Xenium_breast_cancer_sample1_replicate1_GP_mask_zero_shot_42.ipynb\"\n",
    "\n",
    "# 初始化需要打印的值\n",
    "init_train_loss = train_losses[0] if 'train_losses' in globals() else None\n",
    "init_val_loss = val_losses[0] if 'val_losses' in globals() else None\n",
    "converged_epoch = len(train_losses) - patience if 'train_losses' in globals() else None\n",
    "converged_val_loss = best_val_loss if 'best_val_loss' in globals() else None\n",
    "\n",
    "# 打印所有所需的指标\n",
    "print(\"Metrics Summary:\")\n",
    "if 'train_losses' in globals():\n",
    "    print(f\"init_train_loss\\tinit_val_loss\\tconverged_epoch\\tconverged_val_loss\\tmacro_f1\\tweighted_f1\\tmicor_f1\")\n",
    "    print(f\"{init_train_loss:.3f}\\t{init_val_loss:.3f}\\t{converged_epoch}\\t{converged_val_loss:.3f}\\t{macro_f1:.3f}\\t{f1:.3f}\\t{accuracy:.3f}\")\n",
    "else:\n",
    "    print(f\"macro_f1\\tweighted_f1\\tmicor_f1\")\n",
    "    print(f\"{macro_f1:.3f}\\t{f1:.3f}\\t{accuracy:.3f}\")\n",
    "\n",
    "# 保存结果到 CSV 文件\n",
    "output_data = {\n",
    "    'dataset_split_random_seed': [int(random_seed)],\n",
    "    'dataset': ['imputed_xenium_breast_cancer_sample1_replicate1'],\n",
    "    'method': [re.search(r'replicate1_(.*?)_\\d+', notebook_name).group(1)],\n",
    "    'init_train_loss': [init_train_loss if init_train_loss is not None else ''],\n",
    "    'init_val_loss': [init_val_loss if init_val_loss is not None else ''],\n",
    "    'converged_epoch': [converged_epoch if converged_epoch is not None else ''],\n",
    "    'converged_val_loss': [converged_val_loss if converged_val_loss is not None else ''],\n",
    "    'macro_f1': [macro_f1],\n",
    "    'weighted_f1': [f1],\n",
    "    'micor_f1': [accuracy]\n",
    "}\n",
    "output_df = pd.DataFrame(output_data)\n",
    "\n",
    "# 保存到当前目录下名为 results 的文件夹中\n",
    "if not os.path.exists('results'):\n",
    "    os.makedirs('results')\n",
    "\n",
    "csv_filename = f\"results/{os.path.splitext(notebook_name)[0]}_results.csv\"\n",
    "output_df.to_csv(csv_filename, index=False)\n"
   ]
  }
 ],
 "metadata": {
  "kernelspec": {
   "display_name": "ssl",
   "language": "python",
   "name": "python3"
  },
  "language_info": {
   "codemirror_mode": {
    "name": "ipython",
    "version": 3
   },
   "file_extension": ".py",
   "mimetype": "text/x-python",
   "name": "python",
   "nbconvert_exporter": "python",
   "pygments_lexer": "ipython3",
   "version": "3.10.13"
  }
 },
 "nbformat": 4,
 "nbformat_minor": 2
}
