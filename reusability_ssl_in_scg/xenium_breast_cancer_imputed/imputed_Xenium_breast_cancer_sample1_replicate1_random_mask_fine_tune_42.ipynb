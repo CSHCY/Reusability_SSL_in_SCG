{
 "cells": [
  {
   "cell_type": "code",
   "execution_count": 1,
   "metadata": {
    "execution": {
     "iopub.execute_input": "2024-11-03T15:02:36.803919Z",
     "iopub.status.busy": "2024-11-03T15:02:36.803581Z",
     "iopub.status.idle": "2024-11-03T15:02:53.223705Z",
     "shell.execute_reply": "2024-11-03T15:02:53.223003Z"
    }
   },
   "outputs": [
    {
     "name": "stderr",
     "output_type": "stream",
     "text": [
      "/home/hanchuangyi/miniconda3/envs/ssl/lib/python3.10/site-packages/merlin/dtypes/mappings/tf.py:52: UserWarning: Tensorflow dtype mappings did not load successfully due to an error: No module named 'tensorflow'\n",
      "  warn(f\"Tensorflow dtype mappings did not load successfully due to an error: {exc.msg}\")\n",
      "/home/hanchuangyi/miniconda3/envs/ssl/lib/python3.10/site-packages/merlin/dtypes/mappings/triton.py:53: UserWarning: Triton dtype mappings did not load successfully due to an error: No module named 'tritonclient'\n",
      "  warn(f\"Triton dtype mappings did not load successfully due to an error: {exc.msg}\")\n"
     ]
    }
   ],
   "source": [
    "import scanpy as sc\n",
    "import torch\n",
    "import lightning.pytorch as pl\n",
    "from torch import nn\n",
    "from torch.optim import AdamW\n",
    "from self_supervision.models.lightning_modules.cellnet_autoencoder import MLPAutoEncoder\n",
    "from self_supervision.estimator.cellnet import EstimatorAutoEncoder\n",
    "from sklearn.model_selection import train_test_split\n",
    "from sklearn.preprocessing import LabelEncoder\n",
    "from sklearn.metrics import accuracy_score, f1_score, classification_report\n",
    "import numpy as np\n",
    "import pandas as pd\n",
    "\n",
    "# 1. 加载数据集\n",
    "data_dir = '../../dataset/ad_ge_imputed_Xenium_breast_cancer_sample1_replicate1.h5ad'\n",
    "adata = sc.read_h5ad(data_dir)\n",
    "\n",
    "\n",
    "#data preprocessing\n",
    "sc.pp.normalize_total(adata)\n",
    "sc.pp.log1p(adata)\n",
    "\n",
    "\n",
    "# 2. 设置 checkpoint 路径\n",
    "ckpt_path = \"../../sc_pretrained/Pretrained Models/RandomMask.ckpt\"\n",
    "\n",
    "# 3. 模型参数\n",
    "units_encoder = [512, 512, 256, 256, 64]\n",
    "units_decoder = [256, 256, 512, 512]\n",
    "\n",
    "# 初始化 EstimatorAutoEncoder 实例\n",
    "estim = EstimatorAutoEncoder(data_path=None)  # 没有实际数据路径，可以设置为None\n",
    "\n",
    "# 4. 加载预训练模型\n",
    "estim.model = MLPAutoEncoder.load_from_checkpoint(\n",
    "    ckpt_path,\n",
    "    gene_dim=19331,  # 根据你的数据调整\n",
    "    batch_size=128,  # 根据你的需要调整\n",
    "    units_encoder=units_encoder, \n",
    "    units_decoder=units_decoder,\n",
    "    masking_strategy=\"random\",  # 假设模型使用了随机掩码\n",
    "    masking_rate=0.5,  # 根据需要调整\n",
    ")"
   ]
  },
  {
   "cell_type": "code",
   "execution_count": 2,
   "metadata": {
    "execution": {
     "iopub.execute_input": "2024-11-03T15:02:53.226198Z",
     "iopub.status.busy": "2024-11-03T15:02:53.225530Z",
     "iopub.status.idle": "2024-11-03T15:02:53.232448Z",
     "shell.execute_reply": "2024-11-03T15:02:53.232043Z"
    }
   },
   "outputs": [
    {
     "data": {
      "text/plain": [
       "20"
      ]
     },
     "execution_count": 2,
     "metadata": {},
     "output_type": "execute_result"
    }
   ],
   "source": [
    "# 添加分类层 (FC)\n",
    "n_classes = len(adata.obs['cell_type'].unique())\n",
    "estim.model.fc = nn.Linear(units_encoder[-1], n_classes)\n",
    "n_classes"
   ]
  },
  {
   "cell_type": "code",
   "execution_count": 3,
   "metadata": {
    "execution": {
     "iopub.execute_input": "2024-11-03T15:02:53.233739Z",
     "iopub.status.busy": "2024-11-03T15:02:53.233593Z",
     "iopub.status.idle": "2024-11-03T15:02:53.255561Z",
     "shell.execute_reply": "2024-11-03T15:02:53.255100Z"
    }
   },
   "outputs": [],
   "source": [
    "var_df = pd.read_parquet('../../sc_pretrained/var.parquet')\n",
    "all_genes = var_df['feature_name'].tolist()\n",
    "\n",
    "new_data = np.zeros((adata.X.shape[0], len(all_genes)), dtype=np.float32)\n",
    "\n",
    "adata.var['gene_name']=adata.var.index\n",
    "existing_genes = adata.var['gene_name']"
   ]
  },
  {
   "cell_type": "code",
   "execution_count": 4,
   "metadata": {
    "execution": {
     "iopub.execute_input": "2024-11-03T15:02:53.256932Z",
     "iopub.status.busy": "2024-11-03T15:02:53.256781Z",
     "iopub.status.idle": "2024-11-03T15:02:53.275492Z",
     "shell.execute_reply": "2024-11-03T15:02:53.275076Z"
    }
   },
   "outputs": [
    {
     "name": "stdout",
     "output_type": "stream",
     "text": [
      "匹配的基因数量: 17392\n",
      "匹配的基因列表: {'slc35b4', 'kank1', 'gzmb', 'pgap3', 'cks1b', 'ttc26', 'boc', 'serpini1', 'ggnbp2', 'baiap3', 'defb124', 'tmem176b', 'klln', 'utp18', 'igflr1', 'pola2', 'lrfn5', 'adcyap1r1', 'uimc1', 'znf862', 'azin1', 'lipg', 'c8orf48', 'scml1', 'prkd1', 'xkr9', 'paf1', 'slc22a31', 'hps6', 'tmem221', 'fads2', 'cldn5', 'cinp', 'spata32', 'zup1', 'cyp3a5', 'slc10a2', 'cul4a', 'nog', 'atg4c', 'znf786', 'tpte2', 'prss8', 'dsg4', 'psmc3', 'adat3', 'fcrl5', 'pde3a', 'sfxn4', 'lmo7', 'nsd3', 'tmtc1', 'plekhd1', 'mef2b', 'rbbp8nl', 'ism1', 'matn1', 'adam9', 'ptrhd1', 'nrcam', 'ciao3', 'kng1', 'ncam1', 'polg2', 'eif2s1', 'ttpal', 'atp2b4', 'colq', 'cd1b', 'hsh2d', 'rfng', 'slc33a1', 'ulbp2', 's100a8', 'emd', 'batf', 'rhpn2', 'lcn10', 'sh3rf2', 'vash2', 'ms4a15', 'rbp5', 'ttc21a', 'chic1', 'cdk2ap1', 'ccnc', 'atp6v1e2', 'pcdhb14', 'fcn3', 'catsper2', 'spryd3', 'rasa2', 'hacd1', 'gpr32', 'ndufaf4', 'clec1a', 'higd1c', 'elp5', 'tmem132b', 'abo', 'oprk1', 'zbtb18', 'sptssa', 'esyt2', 'c13orf42', 'fbxo9', 'vps36', 'sh2b1', 'kiaa1522', 'adgrb2', 'anxa4', 'spatc1', 'ccdc40', 'znf614', 'grap2', 'vbp1', 'arrdc1', 'kidins220', 'aadat', 'nedd4', 'trim37', 'gsc', 'osbp2', 'tmem9', 'inpp5d', 'prdx6', 'amz1', 'trim5', 'rnf212b', 'fosl2', 'oprpn', 'elspbp1', 'zc3h12a', 'leutx', 'adck2', 'clu', 'wars2', 'or13f1', 'izumo1', 'kitlg', 'ttc38', 'arhgap30', 'slc7a7', 'dbn1', 'otud6b', 'pik3r4', 'itga2b', 'asb4', 'gpatch3', 'isca1', 'kcnq3', 'krtap1-5', 'rbm24', 'gtpbp1', 'bckdhb', 'khdrbs1', 'castor1', 'rpgr', 'card11', 'plxna3', 'rac2', 'uxt', 'c11orf52', 'cul3', 'sf1', 'rab12', 'ccne1', 'gbx2', 'znf280b', 'insrr', 'zbed4', 'lrit1', 'mypn', 'sit1', 'arsh', 'adam17', 'c1galt1c1', 'mctp2', 'mfsd1', 'unc45b', 'krtap2-3', 'chrna1', 'lim2', 'or2v2', 'slc46a3', 'ppp4r3b', 'snrnp40', 'ykt6', 'terf1', 'pilrb', 'ttc31', 'plb1', 'casp8ap2', 'atg7', 'rictor', 'zmym3', 'obi1', 'anos1', 'sirt1', 'pole3', 'rhcg', 'ggn', 'fmo1', 'sytl2', 'maged1', 'mcm9', 'atxn7', 'or8g5', 'farp2', 'tubb6', 'brpf3', 'mydgf', 'pvalb', 'pnma5', 'slc1a3', 'dmkn', 'ehd2', 'il21', 'igfbp4', 'zdhhc11b', 'abca8', 'thap8', 'bckdha', 'fcer2', 'mkx', 'cckbr', 'kiaa0513', 'nrk', 'eif3i', 'atp5f1a', 'brd3os', 'pef1', 'unc93b1', 'ca9', 'krt19', 'gltpd2', 'epb41l4b', 'tmeff1', 'map3k9', 'bcl3', 'srpx2', 'mrc1', 'or5b17', 'znf606', 'arih1', 'c20orf202', 'shd', 'dgkh', 'krt28', 'crlf1', 'rad18', 'znf34', 'ippk', 'cfap58', 'mfrp', 'znf497', 'fam71e1', 'kctd15', 'mamstr', 'znf41', 'znf597', 'neurog3', 'zswim4', 'gramd1c', 'lias', 'slc1a6', 'glis1', 'nde1', 'hnrnpl', 'nutm2a', 'ammecr1', 'rxfp1', 'fpgs', 'csgalnact2', 'dcdc2', 'heyl', 'ddx27', 'hcar1', 'golgb1', 'cdk5r2', 'cobll1', 'mpp3', 'ndufb10', 'noct', 'slc6a15', 'tinag', 'cfap45', 'fstl4', 'c19orf81', 'ankfy1', 'arl2', 'cpeb1', 'tmem214', 'rbm33', 'srarp', 'gpr161', 'isca2', 'topaz1', 'ptcra', 'ly6d', 'rad52', 'lrrn2', 'eif1ad', 'eid1', 'timm10', 'smdt1', 'ube2ql1', 'mpc1', 'cfap61', 'agmo', 'cenpq', 'cenpf', 'pcdhb15', 'sft2d3', 'smc4', 'plxna4', 'mis18a', 'krbox1', 'cds1', 'kdm1a', 'il19', 'rbp2', 'kif14', 'cldn16', 'cyhr1', 'fam228a', 'snn', 'nup133', 'hsd11b2', 'tmem175', 'snrnp70', 'tnfsf4', 'wt1', 'shisa6', 'mageh1', 'hoxd8', 'ago4', 'mecom', 'trpv6', 'ecm1', 'znf235', 'ksr1', 'faim', 'dera', 'bbs5', 'or1a1', 'c9orf72', 'elf5', 'ubc', 'il17f', 'cdkl2', 'tgs1', 'nudt11', 'hoxc5', 'wdr83os', 'dmgdh', 'cd300e', 'slc27a5', 'zc2hc1a', 'kiaa1586', 'mex3a', 'neurl3', 'prelid3a', 'syngr1', 'cnst', 'krtap12-4', 'igsf11', 'pold3', 'asb7', 'msi2', 'parp6', 'hoxb8', 'rab27a', 'eif5b', 'smim32', 'msh6', 'nalcn', 'pga5', 'or2g3', 'allc', 'entpd1', 'prg3', 'trpm7', 'rnase13', 'zranb1', 'hoxd9', 'fam151a', 'kctd7', 'cux2', 'celf5', 'med29', 'chp2', 'sf3b4', 'pcdh1', 'ssu72p8', 'znf578', 'dnah3', 'or8b2', 'tmem184b', 'akap8', 'agap1', 'spo11', 'cfp', 'hsd17b11', 'dppa5', 'tuba1b', 'puf60', 'gcnt4', 'fam162b', 'vwde', 'mmp16', 'erp29', 'ankdd1a', 'slc35c2', 'krbox4', 'slc5a6', 'sar1b', 'btn3a3', 'rnf5', 'ibtk', 'pcbp2', 'adm', 'cox6b1', 'ptprd', 'pdcd1', 'dmpk', 'itgb6', 'ccdc42', 'taf11l6', 'map4', 'gfpt1', 'smu1', 'ccdc141', 'nuf2', 'lcmt1', 'atxn1l', 'abt1', 'snx5', 'dtd2', 'sgsh', 'taf5l', 'vsig10l2', 'xrn1', 'serinc2', 'nat8', 'brms1', 'cfap157', 'kcnt1', 'selenon', 'zbtb49', 'fancd2os', 'mt1h', 'rprm', 'iws1', 'c1galt1', 'krt85', 'stx7', 'znf200', 'nipsnap3b', 'prpf19', 'pot1', 'elovl1', 'als2', 'eps8l2', 'galnt1', 'hspa13', 'or5a1', 'syt2', 'znf8', 'cd72', 'iffo1', 'spink7', 'gins1', 'incenp', 'tmem98', 'pigz', 'hid1', 'cxcr2', 'chrnb4', 'atp9a', 'gtf3c6', 'trpc6', 'brd9', 'kcnd3', 'tnfaip3', 'angptl5', 'arglu1', 'dvl2', 'slc25a22', 'fuom', 'rab38', 'gpr85', 'pag1', 'rnf126', 'pask', 'fam131a', 'krtap5-7', 'usp36', 'prkra', 'kcnq1', 'irx3', 'krtap10-2', 'ptpn18', 'dmtn', 'tssk1b', 'nudc', 'gdf10', 'arpc4', 'mastl', 'stx1b', 'lifr', 'lrp11', 'washc5', 'astn2', 'cdrt15', 'prmt7', 'trat1', 'wdr54', 'hes1', 'il5', 'col9a1', 'fzd4', 'des', 'gnptab', 'pcsk9', 'trmt1l', 'c6orf89', 'tmem269', 'hacd4', 'rnaseh2c', 'rpa1', 'olfm2', 'nabp1', 'zfp2', 'rev3l', 'rsph1', 'vsnl1', 'stxbp5', 'anapc15', 'elmod2', 'pcdhb10', 'tmem88', 'galnt3', 'pate1', 'spred3', 'glp1r', 'xpo5', 'cbx7', 'spata1', 'spdye5', 'sgip1', 'erg28', 'eras', 'hrg', 'ccl21', 'pdxp', 'wdr53', 'clic2', 'sema7a', 'impg2', 'usp49', 'cdh19', 'lrguk', 'ak8', 'agbl5', 'sec24c', 'ppp2r5c', 'nat9', 'sprr2e', 'apbb3', 'sestd1', 'foxd1', 'scn4b', 'taf8', 'itpka', 'lipf', 'arap3', 'pmfbp1', 'dock7', 'cd200', 'unc5d', 'apcs', 'rcsd1', 'nab1', 'g2e3', 'rora', 'ube2b', 'gimd1', 'capza3', 'slc25a33', 'tmem163', 'cxcl10', 'sprr3', 'dhrs11', 'uso1', 'arl14', 'sult4a1', 'tmem130', 'rras2', 'krtap4-16', 'hdac8', 'eef1akmt4', 'eml6', 'prepl', 'trim52', 'zcchc9', 'fbh1', 'fam160a1', 'ugt2b11', 'klf8', 'chmp7', 'c7orf31', 'acoxl', 'tmtc3', 'mthfd2', 'taf15', 'c16orf87', 'gsdmb', 'vps33b', 'tmtc2', 'znf180', 'ush2a', 'st6gal1', 'bcl11b', 'asb2', 'sec14l3', 'katnal2', 'cdrt4', 'fam169a', 'tns4', 'ccdc175', 'ifit5', 'rpa2', 'triap1', 'rcor3', 'dph7', 'gpn2', 'cep250', 'olfm1', 'dnajb9', 'znf425', 'teddm1', 'grb2', 'mospd2', 'fabp3', 'grik2', 'fam205c', 'kctd4', 'lrp1', 'rer1', 'dusp1', 'srpk2', 'prps1', 'bex5', 'emg1', 'enah', 'gabra6', 'mlip', 'bcl2l1', 'bbs1', 'pusl1', 'lst1', 'ms4a6a', 'mypop', 'selenow', 'rasgef1b', 'adamts6', 'gpm6b', 'heca', 'cd1a', 'atp5mg', 'scp2d1', 'grina', 'naf1', 'ankrd61', 'phykpl', 'c6', 'ccdc121', 'kdm8', 'mybbp1a', 'mdp1', 'rfc4', 'ewsr1', 'dcp2', 'tmem132e', 'masp2', 'pla2g2f', 'iqank1', 'znf384', 'grid2ip', 'hddc3', 'st8sia1', 'peg10', 'dhodh', 'slfn14', 'ebf4', 'pik3c2b', 'fgf1', 'otop3', 'f11r', 'krt71', 'arhgap22', 'arhgap19', 'c12orf73', 'tmem251', 'rph3a', 'selenoi', 'dgkb', 'znf772', 'rab42', 'arhgef18', 'paxbp1', 'fkbp3', 'ebi3', 'ngdn', 'plppr3', 'ilrun', 'atad1', 'ppp2r1b', 'tulp2', 'rnf40', 'nup42', 'smap2', 'gpr179', 'naa10', 'cth', 'tmem59l', 'ssbp1', 'dcaf13', 'tas2r14', 'pwp1', 'p2ry1', 'znf841', 'oard1', 'brca1', 'slc25a19', 'rfx7', 'nectin4', 'cetp', 'ccdc88a', 'uba1', 'fbxo43', 'ciao2b', 'abcb5', 'cmc2', 'gpc3', 'ghsr', 'sla2', 'suv39h2', 'slc22a10', 'smad5', 'itga11', 'usp8', 'eif4ebp3', 'tdrd15', 'sigirr', 'pdk2', 'erich6', 'il34', 'ctdsp1', 'pdha2', 'znf33a', 'rsrc2', 'ints4', 'krtap27-1', 'scygr4', 'znf816', 'c10orf95', 'spib', 'c12orf29', 'lrrc61', 'znf569', 'znf341', 'mettl16', 'tmem141', 'fbxo47', 'cyyr1', 'tor1aip1', 'magea9b', 'thsd8', 'atad5', 'brsk2', 'tbcb', 'ap3b1', 'ndnf', 'prap1', 'dync1li1', 'tmem241', 'znf454', 'oxer1', 'rnd1', 'nt5dc3', 'metrnl', 'sdr39u1', 'klf6', 'znf675', 'spam1', 'cdkn2aipnl', 'fcar', 'znf460', 'srebf1', 'rnf187', 'pde10a', 'acbd5', 'tmub1', 'mlana', 'synm', 'chic2', 'chmp1a', 'dlgap1', 'meis3', 'necab3', 'nkain3', 'gemin6', 'ccdc148', 'usp11', 'slc30a10', 'xkr4', 'plppr4', 'ctxnd1', 'znf136', 'spata21', 'lhfpl2', 'pitpnm1', 'mgme1', 'gcdh', 'cyb5rl', 'srfbp1', 'cox7c', 'opn5', 'zacn', 'gpr156', 'ccdc80', 'ninj1', 'ceacam1', 'lrrtm3', 'dcx', 'nrm', 'taf11l4', 'znf793', 'gstcd', 'pop5', 'gtpbp2', 'c16orf95', 'apobec3d', 'tm4sf5', 'eif3l', 'slc39a2', 'cnga2', 'pacrgl', 'tmem87b', 'rsad2', 'khdc3l', 'znf625', 'ripk2', 'phgr1', 'mybphl', 'b4galt1', 'upf2', 'tgm5', 'gpatch2', 'fgf2', 'mfn2', 'slc29a1', 'wdr90', 'tceal4', 'tpd52l1', 'c22orf39', 'ccl13', 'fnip2', 'elp6', 'pianp', 'ocm2', 'kcnj6', 'cops7b', 'mmp14', 'cenpvl3', 'trhr', 'klhl14', 'il6', 'fam91a1', 'cfap47', 'rnf115', 'usp7', 'tapt1', 'spata9', 'ndufa8', 'rdx', 'mtnr1b', 'ndel1', 'slitrk2', 'emc2', 'zbtb34', 'cpsf4l', 'spata4', 'plekhg4b', 'akt3', 'adam15', 'znf780a', 'sp100', 'vps53', 'dlec1', 'clec3a', 'psca', 'kel', 'slc25a36', 'galt', 'psmb1', 'atp13a4', 'tmem250', 'aprt', 'topbp1', 'cfap97', 'nrn1l', 'polk', 'stard6', 'znrf1', 'misp', 'nup43', 'sgpl1', 'cyp11b1', 'tmem268', 'alx1', 'rbp1', 'paqr8', 'lmo4', 'dok7', 'siah1', 'heatr9', 'hoxb2', 'ankrd45', 'zc3hc1', 'adk', 'gapdhs', 'zbtb8b', 'ncr1', 'znf26', 'git2', 'pi3', 'znf568', 'fubp3', 'hspa12a', 'ccn2', 'phf21b', 'bcl7a', 'or10x1', 'smurf1', 'reg4', 'mboat4', 'nup107', 'smchd1', 'rnf114', 'mettl4', 'uprt', 'zbed8', 'stx17', 'zbed3', 'ccr5', 'irgq', 'slc51a', 'nat14', 'timm8b', 'smarcc2', 'atp10b', 'mroh6', 'ube2v1', 'recql', 'cyp1a2', 'klk3', 'cap1', 'or10h2', 'mark4', 'fkbp6', 'nkiras2', 'zscan5a', 'calcoco2', 'kcnf1', 'copz2', 's100a1', 'mogat1', 'znf662', 'eda2r', 'lrrc4b', 'fa2h', 'rgsl1', 'prlh', 'gps1', 'aip', 'c18orf25', 'cstf2', 'utp15', 'psma1', 'stra8', 'zhx2', 'map7', 'tram1', 'rxylt1', 'gucy2f', 'ccdc61', 'ube2t', 'trmt2a', 'sgcb', 'morc1', 'nop58', 'znf518b', 'rax', 'or4m1', 'pias1', 'gucy1a2', 'ankrd18b', 'slc25a15', 'herc1', 'creb3l3', 'ccdc201', 'enthd1', 'slc30a1', 'retreg1', 'srrm1', 'fdcsp', 'tmem200a', 'lalba', 'dync1li2', 'fam114a1', 'ehd4', 'tmem262', 'rnf41', 'adamtsl1', 'cpne9', 'tprg1', 'nqo2', 'cavin4', 'ehd1', 'vstm5', 'cldn25', 'ano1', 'ccnd2', 'scfd1', 'srp68', 'slc22a7', 'megf8', 'sh2d4b', 'fbxo22', 'eif2b5', 'grhl3', 'cyp39a1', 'atxn10', 'npc1l1', 'b3gnt8', 'bbs2', 'gsto1', 'cwf19l1', 'rhoa', 'sox10', 'rprml', 'smim18', 'cfap74', 'si', 'nudt12', 'znf669', 'fpgt', 'ankrd44', 'chst10', 'prg2', 'nenf', 'pan3', 'rimbp3b', 'grk5', 'ppm1f', 'lrrc39', 'syt6', 'ly86', 'fmr1', 'fbxw4', 'ifna21', 'pikfyve', 'sprr2g', 'or4d5', 'tmem82', 'dmrt3', 'dnah1', 'mras', 'tmem237', 'nop16', 'col11a1', 'serpinb3', 'znf324b', 'ino80e', 'azu1', 'dgki', 'pla2g4c', 'cacna2d4', 'arhgap21', 'foxd4l6', 'abhd2', 'agbl4', 'slc7a10', 'crtc1', 'ugt2b17', 'cry1', 'vwa3b', 'wdr89', 'ubtd1', 'bpifb2', 'il23r', 'tekt5', 'styxl1', 'ntpcr', 'med20', 'ca6', 'nemp1', 'znf565', 'eif2b4', 'thumpd1', 'plk5', 'chgb', 'prpf4', 'axdnd1', 'sertad2', 'tmem39a', 'mat1a', 'trim67', 'b3gnt7', 'naxe', 'gapvd1', 'rab41', 'pgbd2', 'cbx4', 'rfxank', 'c21orf91', 'haus4', 'c11orf97', 'pgrmc1', 'lrrc56', 'slc20a1', 'ccdc71l', 'fut10', 'or4x2', 'sez6l', 'dlx1', 'jade2', 'trappc3', 'cnnm4', 'gap43', 'sgcg', 'mta2', 'slc25a34', 'ctsh', 'ado', 'mmgt1', 'ptprz1', 'mxra7', 'lurap1', 'ptprn', 'or51b5', 'magi3', 'ctnna1', 'lilrb1', 'peli3', 'or13c4', 'kif2b', 'tcl1b', 'fabp2', 'ring1', 'cav2', 'washc4', 'gngt2', 'ehf', 'ankrd13a', 'sorcs3', 'mlh1', 'rnase2', 'etnk2', 'nt5c3a', 'chmp4c', 'eif4h', 'btnl3', 'fam181a', 'cd34', 'fgr', 'heph', 'rab26', 'atg13', 'rfx4', 'clic4', 'slco1c1', 'top1', 'itga6', 'camk2a', 'scyl2', 'ifnl1', 'pabpc4', 'chd8', 'hspb6', 'rassf5', 'disc1', 'tcf23', 'ccdc152', 'gprasp1', 'adgrg3', 'ndufa11', 'nell1', 'usp17l2', 'ctcf', 'lzts3', 'tcn1', 'fam204a', 'tex22', 'lnp1', 'tubb1', 'art4', 'ankrd18a', 'dbf4', 'tnfaip8l3', 'dnajc5', 'chaf1b', 'csnk1g3', 'galnt12', 'ptprs', 'trmt61a', 'gk3p', 'harbi1', 'son', 'cldn3', 'echdc2', 'ptdss1', 'tmem167b', 'kcnn1', 'pramef19', 'haus5', 'tmem107', 'slc8a2', 'clnk', 'zc3h12b', 'vsig4', 'znf16', 'gm2a', 'htr2c', 'hrh3', 'dnal4', 'slc35e4', 'nlrp12', 'msh4', 'ric8a', 'tstd1', 'trim28', 'afp', 'drd2', 'cfap46', 'csnk2a1', 'tdo2', 'vps37b', 'hint2', 'mtfmt', 'tfpt', 'p4hb', 'map3k6', 'psmf1', 'usp1', 'wdr27', 'lysmd2', 'znf267', 'tmem38b', 'ccdc34', 'cd2ap', 'n4bp2l2', 'skil', 'lct', 'kbtbd13', 'muc19', 'arl10', 'hyal1', 'apaf1', 'calm1', 'dsc3', 'pou3f3', 'wdr35', 'jak1', 'b3gntl1', 'serping1', 'rasip1', 'il17c', 'slc35b2', 'nisch', 'mgmt', 'clybl', 'stx11', 'ncor1', 'loxl3', 'cd99', 'glce', 'mgam', 'spred2', 'lrrc69', 'kctd1', 'tns3', 'stk38l', 'deaf1', 'vwa3a', 'sdf2l1', 'hspa6', 'orai2', 'nsmce1', 'anapc11', 'exo1', 'atp5mc3', 'mapk1ip1l', 'ppfibp2', 'itih2', 'tdrd7', 'znf74', 'c12orf65', 'bnc1', 'c4orf17', 'mettl21c', 'ahnak2', 'cercam', 'znf79', 'znf541', 'c4b', 'pnpo', 'orc1', 'crhbp', 'col19a1', 'csgalnact1', 'mex3c', 'neurog2', 'colca2', 'nt5dc1', 'prac1', 'kif13a', 'ablim3', 'vstm2a', 'znf80', 'wwc2', 'ampd3', 'krtap5-8', 'ube2m', 'ttc1', 'jun', 'tom1l1', 'tmem19', 'nsun7', 'sult1b1', 'f13b', 'peli1', 'atf2', 'cdhr3', 'sbf1', 'adal', 'dok4', 'tgif1', 'gipr', 'camlg', 'cep97', 'tmem170a', 'anxa5', 'grtp1', 'nav3', 'znf385b', 'enpp2', 'znf548', 'kmt2a', 'donson', 'zgrf1', 'tcf20', 'rtn4rl2', 'nes', 'xpo7', 'ofd1', 'kif1b', 'itgb3bp', 'gsg1l2', 'fem1c', 'porcn', 'plekhm3', 'capn11', 'znf154', 'nceh1', 'nosip', 'gmps', 'skiv2l', 'ccdc196', 'etnk1', 'npc1', 'asip', 'pde8b', 'ptprn2', 'sun1', 'rnf111', 'ndufb8', 'or13a1', 'lpin2', 'zkscan7', 'hapln1', 'dennd6a', 'clspn', 'ccdc174', 'tmem106b', 'trappc1', 'tmem121b', 'pcsk5', 'syt5', 'pcgf1', 'stub1', 'prrt1', 'nova2', 'cln5', 'cox16', 'foxp1', 'mfap3', 'or5d13', 'srsf8', 'c1orf158', 'amn1', 'pjvk', 'lipe', 'krt83', 'fbn2', 'nptx1', 'ptger3', 'mt-co3', 'arsk', 'abcc1', 'pdilt', 'tnmd', 'myo15b', 'kctd18', 'gmnc', 'slc26a2', 'orai3', 'plec', 'rc3h1', 'cpne4', 'mindy4', 'atp6v0a4', 'tmem236', 'nox4', 'ryr1', 'or56a1', 'praf2', 'pdpn', 'dyrk3', 'commd5', 'utp14a', 'fam214b', 'cnnm1', 'or4f4', 'hoxb3', 'htr5a', 'gng12', 'oaz3', 'wasf2', 'ak9', 'tmem255a', 'syt7', 'nsl1', 'svopl', 'pomt1', 'c1qtnf9', 'polr1e', 'dpf3', 'taf10', 'irx6', 'ppp4r4', 'kif27', 'rab40a', 'alg9', 'ttc3', 'glb1', 'ube4a', 'rwdd1', 'il21r', 'cnpy3', 'klhl3', 'copg1', 'mpp5', 'rpgrip1l', 'spry1', 'spast', 'st8sia2', 'serpina3', 'stard5', 'tmem41a', 'atp6v1g1', 'sbk3', 'znf316', 'hck', 'vpreb1', 'nsd2', 'tmem186', 'dlx5', 'sympk', 'fuz', 'cct8l2', 'add2', 'masp1', 'phf10', 'gipc3', 'camk2b', 'slc35f1', 'lce3d', 'srpk3', 'or1a2', 'col5a3', 'meltf', 'dach2', 'znf777', 'csnk2b', 'alkal2', 'fam133b', 'col21a1', 'pou3f2', 'hmhb1', 'crygd', 'gapt', 'mtbp', 'arl6ip6', 'prpsap2', 'olfml3', 'gata5', 'fam117a', 'mapk13', 'xpr1', 'lpar1', 'cldn24', 'fam200a', 'mycbpap', 'siglec12', 'ndc1', 'st3gal5', 'hfe', 'tmem217', 'armc9', 'igfn1', 'gemin4', 'zim3', 'lfng', 'znf3', 'aanat', 'asic5', 'cfb', 'adgre1', 'mtfr2', 'lrba', 'znf619', 'gpr65', 'cox6b2', 'ppp1r21', 'myl4', 'pdk3', 'tpd52', 'pmm1', 'armcx4', 'ica1', 'spef2', 'alyref', 'lrrc46', 'wipi2', 'lce3a', 'parp10', 'alg13', 'syt9', 'gimap4', 'napb', 'slc35f6', 'mettl11b', 'nrp1', 'plxdc1', 'tmem50a', 'c11orf58', 'catsperd', 'ankrd13b', 'dok3', 'tmem135', 'eif3b', 'rhex', 'ecd', 'agr3', 'tmed10', 'znf441', 'psrc1', 'isoc1', 'dusp23', 'ambn', 'znf837', 'rnf215', 'cdhr4', 'stat6', 'vill', 'naa16', 'gpatch2l', 'vangl2', 'cstb', 'arhgef26', 'bcl2l13', 'cacfd1', 'myo1h', 'pcdhb5', 'muc16', 'htr4', 'phc3', 'or2z1', 'krba2', 'slc10a3', 'eral1', 'pbx4', 'tmem145', 'tars2', 'wnt7a', 'lamp5', 'tmem254', 'lhx3', 'pik3ap1', 'hsph1', 'chkb', 'sec22a', 'arhgef33', 'cd248', 'krt1', 'otub2', 'evl', 'tubg2', 'muc21', 'rundc1', 'kremen2', 'mtcl1', 'ctage1', 'pcsk2', 'fam205a', 'hgs', 'aldh18a1', 'efna5', 'tlx2', 'ogfod2', 'ogg1', 'scfd2', 'pkdcc', 'ltb', 'znf189', 'prkdc', 'pde7a', 'rassf4', 'adamtsl2', 'hat1', 'pyroxd2', 'caps2', 'rad23b', 'tfap4', 'uhmk1', 'txnl4b', 'smarca4', 'rnft2', 'nanp', 'rapgef3', 'shfl', 'gtsf1', 'chmp6', 'krtap13-4', 'ubxn7', 'phf5a', 'gnpda1', 'cfap57', 'lcn6', 'clrn3', 'tbc1d14', 'pcdhb3', 'mak', 'gsta5', 'enkur', 'prrg1', 'nudcd2', 'il9', 'f8', 'srgap1', 'pgap1', 'crebzf', 'sdk2', 'otud5', 'p4ha1', 'c2orf73', 'tex30', 'or5d16', 'plaa', 'nipsnap3a', 'znf784', 'amhr2', 'kcnk17', 'synj1', 'gas8', 'ezh2', 'ulbp1', 'vamp7', 'zfhx2', 'vsig1', 'kcnmb3', 'atp5f1c', 'sdr9c7', 'ceacam5', 'tbc1d24', 'elf1', 'mtg1', 'rtl10', 'l1cam', 'rab28', 'pdlim3', 'musk', 'sv2c', 'oc90', 'dmrt1', 'drosha', 'tbcel', 'nek1', 'rasd1', 'npbwr2', 'lhx2', 'c22orf23', 'cc2d1a', 'capg', 'armt1', 'sac3d1', 'cyp3a4', 'podxl2', 'ggcx', 'krt15', 'nphp3', 'zbtb41', 'ccl8', 'mynn', 'sertad3', 'wbp1', 'msx2', 'hs3st5', 'trpv2', 'dhfr2', 'tmsb4y', 'celf3', 'sord', 'id1', 'gimap5', 'crbn', 'tomm20', 'bco1', 'ralgps1', 'rabl3', 'cdc25b', 'bcar3', 'muc4', 'sohlh2', 'slc35f5', 'lats1', 'sod1', 'ptger4', 'cnpy2', 'c12orf40', 'wdr24', 'tincr', 'tmem229b', 'egr3', 'yaf2', 'rgs17', 'dbt', 'znf804a', 'wfdc8', 'fbln2', 'lrfn1', 'tnfsf14', 'prr33', 'hpcal1', 'hs3st4', 'cfap53', 'nrxn2', 'evc', 'or10z1', 'notch3', 'cldn8', 'alg12', 'lrif1', 'igfals', 'dhrs9', 'brd4', 'wipf2', 'mdfic2', 'alk', 'caly', 'lpxn', 'acp2', 'ffar1', 'arhgap36', 'med10', 'rnf149', 'ccdc24', 'eif4g1', 'espnl', 'myo1a', 'pkd1l1', 'sash1', 'apbb1ip', 'tectb', 'ptpn6', 'ccdc27', 'pnrc1', 'rab3il1', 'smim10l1', 'irs2', 'gpihbp1', 'onecut1', 'dnajc27', 'timeless', 'zdhhc7', 'rrnad1', 'eef1akmt3', 'lrrc8b', 'dnajc6', 'ovol1', 'mzb1', 'ccn3', 'lamp1', 'tasor', 'chrm1', 'slc35e1', 'rnase10', 'pggt1b', 'znf605', 'cenpt', 'plscr3', 'dido1', 'gpat2', 'smarcal1', 'lrrc47', 'espn', 'ccdc12', 'pacsin1', 'cped1', 'fitm1', 'ccdc57', 'slc18a1', 'sdf4', 'prss22', 'htr6', 'cd28', 'trmt10c', 'rela', 'npy5r', 'ang', 'prpf39', 'epm2aip1', 'exosc10', 'tprn', 'sh2d2a', 'znf799', 'rxrg', 'aadac', 'cdkl3', 'acy1', 'il17b', 'rhou', 'agpat1', 'homer3', 'nme7', 'pex1', 'mapk15', 'entr1', 'atp10a', 'dhrs7', 'tgfbr2', 'opa1', 'vnn1', 'nxph4', 'slc9a5', 'prr22', 'haspin', 'usp47', 'c12orf4', 'cit', 'col2a1', 'smug1', 'alpk3', 'cebpb', 'cmc4', 'fut9', 'tada1', 'abl2', 'f2r', 'prrt2', 'znf185', 'ttc5', 'pdzd2', 'kcnab3', 'phf6', 'lair2', 'rbbp7', 'usp43', 'kif25', 'ppfibp1', 'slc10a5', 'tmem249', 'cox11', 'or6c70', 'atrnl1', 'igdcc4', 'gnao1', 'sdhb', 'ppp1r3c', 'spic', 'cdc123', 'ap1s2', 'aard', 'plpp4', 'dok6', 'slfnl1', 'get3', 'tcp11', 'map4k2', 'sgtb', 'pmp22', 'zfp91', 'tacstd2', 'znf512b', 'rrm1', 'lamtor4', 'tagap', 'card14', 'anapc4', 'ncmap', 'ift52', 'akr1b10', 'prss51', 'tbc1d10b', 'nxph1', 'c1orf162', 'lrig3', 'akr1b15', 'grk2', 'c3orf14', 'sergef', 'ndrg4', 'inpp5j', 'pacsin2', 'ren', 'gask1a', 'cel', 'esrrb', 'gdpd2', 'fgf4', 'morf4l2', 'ino80', 'tceal5', 'megf10', 'lypd8', 'slc25a38', 'lingo2', 'hhla1', 'nup214', 'cdpf1', 'faah2', 'jade1', 'mterf3', 'mysm1', 'fbxl22', 'isl2', 'znf730', 'numbl', 'pxmp4', 'cntn6', 'mif4gd', 'csag1', 'pglyrp3', 'ceacam16', 'zcwpw1', 'il17ra', 'ugdh', 'znf365', 'calm2', 'apobec3g', 'or9a4', 'rilp', 'rpf2', 'wfdc5', 'ifitm1', 'fbxo17', 'fhit', 'scarb2', 'nudt18', 'atp2a1', 'nhlh2', 'flot1', 'hsd17b8', 'dnaaf1', 'yme1l1', 'denr', 'inha', 'mad2l1bp', 'rnf216', 'ildr1', 'taf1b', 'ly6k', 'or6q1', 'susd1', 'acod1', 'agfg1', 'cftr', 'mt1f', 'ncbp3', 'matk', 'ppp4c', 'otud7a', 'rpusd1', 'prelid2', 'cluh', 'mat2b', 'irf5', 'capns1', 'actr3', 'gpr132', 'vps51', 'pecam1', 'krtdap', 'padi6', 'slc2a9', 'slc22a25', 'a4galt', 'gfra3', 'cacng7', 'klk12', 'tceal7', 'tlr9', 'siglec9', 'phpt1', 'uros', 'hspbap1', 'phactr2', 'znf747', 'hlcs', 'calhm5', 'crcp', 'cdr2l', 'ncoa2', 'ermap', 'pkd1', 'ech1', 'ergic3', 'lman2', 'c3', 'rnf128', 'sult6b1', 'wdpcp', 'galr1', 'ephx2', 'nt5c1a', 'col11a2', 'cd163l1', 'foxred2', 'acmsd', 'zbtb24', 'pank4', 'nol8', 'trdmt1', 'potem', 'trip4', 'sf3b3', 'znf419', 'psmd10', 'fndc1', 'ppp2r2c', 'tnni3', 'tlr5', 'dcaf1', 'sub1', 'znf709', 'tm7sf3', 'tbc1d22a', 'il18r1', 'cd14', 'rab5a', 'fcrl1', 'foxp4', 'zxdc', 'sfmbt2', 'ihh', 'eef1g', 'ccl1', 'dele1', 'c1orf141', 'hoxa2', 'fam160a2', 'rab14', 'f3', 'gpr137c', 'pamr1', 'srr', 'glmn', 'kyat3', 'fam111b', 'arhgap20', 'fgf3', 'slc19a3', 'filip1l', 'acsf2', 'coil', 'cldn6', 'naxd', 'exoc6', 'morc4', 'macrod2', 'aup1', 'nab2', 'dclre1c', 'cemip', 'ddx3x', 'supt20h', 'tm6sf1', 'neurod4', 'slc22a1', 'dpep2', 'sf3a2', 'zfyve9', 'ppp1r7', 'bank1', 'sox5', 'cryga', 'spag1', 'dnajc12', 'rpain', 'm1ap', 'cadm4', 'phospho1', 'runx1t1', 'csrp1', 'gbp5', 'tmem120a', 'znf329', 'cfd', 'stmnd1', 'sema6b', 'cenpa', 'dcun1d5', 'ash1l', 'trim36', 'sfxn1', 'crispld1', 'ifna16', 'erich1', 'smc2', 'slc36a4', 'entpd7', 'stk32a', 'fosb', 'znf77', 'pigc', 'tfap2b', 'smg1', 'rbpms2', 'hoxb4', 'smim31', 'gpx8', 'ptbp3', 'sgce', 'ddit4', 'lrrc18', 'ms4a13', 'samd13', 'sesn2', 'sbf2', 'atl3', 'cyb5d1', 'f9', 'enpp3', 'chtop', 'atpsckmt', 'nudt5', 'krtap10-5', 'gpr119', 'btg1', 'prkaa1', 'gtf2b', 'nup210l', 'znf296', 'dad1', 'slc22a15', 'lyzl2', 'pde5a', 'arhgef9', 'spata24', 'prkacb', 'tyrp1', 'ndfip1', 'slc2a3', 'tgm4', 'pgm2l1', 'il1rn', 'lamp3', 'gorasp2', 'atg3', 'mcidas', 'kcnh4', 'or51e1', 'leng1', 'snrnp35', 'krt40', 'pirt', 'znf514', 'creg1', 'olig3', 'kif3a', 'znf48', 'lhfpl4', 'tubb', 'neurod1', 'jakmip3', 'derl3', 'amacr', 'upk3a', 'diaph2', 'or5j2', 'poln', 'borcs7', 'g6pc3', 'meox1', 'mc5r', 'tspyl6', 'tlcd5', 'rasl10a', 'slc22a18', 'exosc9', 'nr3c1', 'esrp2', 'fer1l6', 'adam2', 'vwa5a', 'ahcyl2', 'abhd17b', 'znf546', 'c8orf82', 'arf6', 'myoz1', 'fam166a', 'prm2', 'snx12', 'lilrb4', 'ciart', 'mt-nd1', 'slc25a17', 'or6c68', 'alkbh8', 'nipsnap1', 'adamts4', 'pcyt1a', 'mcee', 'card9', 'nckap1', 'cdk5rap2', 'pik3ca', 'bptf', 'chpt1', 'vsig10', 'perm1', 'arl14epl', 'kctd20', 'dpysl5', 'tmem108', 'insm2', 'rab9b', 'ap1s3', 'tusc1', 'adgrv1', 'thoc1', 'tie1', 'fez1', 'sh3bp5l', 'flnb', 'dusp21', 'ikbkg', 'rbm48', 'adirf', 'c11orf80', 'arhgap10', 'pcdha9', 'nudt2', 'arhgap4', 'c1orf127', 'mcm2', 'hesx1', 'cdk5r1', 'pafah2', 'rdh11', 'xkr7', 'supt7l', 'bbs4', 'epb41l3', 'pabpc4l', 'ctif', 'prss36', 'aff1', 'nampt', 'zbtb7c', 'or4a15', 'rad1', 'zscan18', 'cps1', 'cyp7a1', 'tph1', 'gpr148', 'npsr1', 'hacd3', 'slc16a11', 'nup54', 'st6galnac6', 'pdha1', 'myl12b', 'mt-nd4l', 'ctr9', 'tbcc', 'ajm1', 'snapc3', 'stim2', 'gng7', 'nkap', 'abi1', 'foxred1', 'eya1', 'tmem215', 'cd3d', 'inpp5a', 'ldhal6a', 'slc26a5', 'tesc', 'hmx2', 'arpc3', 'prdm10', 'polq', 'tnfrsf10d', 'arih2', 'prop1', 'nfu1', 'jagn1', 'dynll1', 'siah3', 'proser1', 'tmem208', 'pip5k1a', 'hps3', 'tert', 'abcc11', 'ttc16', 'trim6', 'fuca1', 'ranbp3', 'aqp12a', 'ptchd1', 'hoxa9', 'tcte1', 'tunar', 'setd6', 'muc5ac', 'dlgap4', 'c16orf91', 'ubn2', 'nudt21', 'amy2a', 'ell3', 'rnf165', 'sh2d1b', 'cnot11', 'cdrt1', 'mettl24', 'abcc8', 'ervfrd-1', 'smr3a', 'echs1', 'slc24a3', 'tmem164', 'mib1', 'lrfn4', 'spsb2', 'rnf157', 'lnpep', 'ftcd', 'tor4a', 'pc', 'creb5', 'fbxw2', 'rspo2', 'aida', 'runx1', 'ccdc113', 'amelx', 'ubqln2', 'arfgef1', 'anks3', 'rnf19b', 'eif2b2', 'rgs18', 'c9orf85', 'ankrd49', 'spata5', 'abraxas2', 'col15a1', 'rad51ap2', 'mip', 'etv6', 'fam209b', 'lratd1', 'or4k2', 'abhd12', 'tnnc1', 'fam47e', 'mas1', 'ephb2', 'sorcs2', 'zfpm2', 'galnt15', 'sprtn', 'gje1', 'fap', 'tbc1d31', 'magea4', 'sned1', 'fdxacb1', 'or4c16', 'atp1a3', 'slc38a5', 'znf470', 'ncln', 'neurl4', 'fzd10', 'vrk2', 'immt', 'snrpb2', 'c15orf39', 'gpr152', 'prkcq', 'pkig', 'snrpd2', 'ect2l', 'pttg1', 'capn8', 'gmppa', 'rnf169', 'hrk', 'cdk5', 'znf623', 'fat1', 'gchfr', 'pimreg', 'zbtb16', 'nqo1', 'tmem37', 'kif5b', 'tmprss12', 'cyp4f22', 'meis2', 'epb41l1', 'pnrc2', 'iqcj', 'magohb', 'gripap1', 'rfx5', 'tbl2', 'vrk1', 'sema5a', 'repin1', 'brdt', 'snd1', 'cep164', 'cygb', 'trappc8', 'rgpd3', 'rtn4ip1', 'klhl41', 'fmo2', 'ism2', 'gdf15', 'or4a5', 'krba1', 'bud23', 'tpm4', 'slf1', 'tyro3', 'myocd', 'baz1b', 'sap30', 'socs1', 'cyp2a6', 'abcb1', 'map6', 'islr', 'utf1', 'tmem178b', 'gjc1', 'c1qtnf6', 'nfia', 'ccdc50', 'cadps2', 'prlhr', 'prrc2b', 'rgs7bp', 'or14a16', 'blid', 'or6c4', 'slc30a4', 'rufy4', 'aplnr', 'c6orf52', 'myl3', 'becn2', 'c1s', 'slc17a5', 'pcdhb9', 'tyw1b', 'eloa', 'lcn12', 'c8orf74', 'hyls1', 'stoml3', 'slamf9', 'bmpr1b', 'prox1', 'det1', 'nt5c1b', 'eri3', 'tubb2b', 'pptc7', 'nacad', 'tmc5', 'tmem11', 'pcolce', 'borcs5', 'magec1', 'nnt', 'sh3yl1', 'nhlh1', 'mdm4', 'hadhb', 'lrrc23', 'chd4', 'sphk2', 'trim26', 'rxfp3', 'gal', 'tph2', 'prex2', 'ptpn7', 'prg4', 'sec14l5', 'atp6v0a1', 'c5orf51', 'gp2', 'dbf4b', 'prok1', 'cd164l2', 'mfsd13a', 'plekhs1', 'flt1', 'tmem35a', 'kiss1', 'tmem204', 'nf2', 'rnf139', 'fpr1', 'pnma6a', 'cnot9', 'hcst', 'gk5', 'mfsd14a', 'ugt2a1', 'cdh5', 'tle6', 'scamp2', 'cpe', 'yipf1', 'dmac1', 'mt1g', 'ca8', 'znf813', 'krt14', 'mtmr8', 'c2cd2l', 'srrd', 'znf165', 'engase', 'zfand2a', 'mthfr', 'dgkg', 'tgds', 'thy1', 'apip', 'sbspon', 'pkn2', 'greb1l', 'psmb11', 'or5m11', 'chid1', 'taok3', 'gpbar1', 'wnk3', 'trpc5os', 'rmnd5b', 'mgat3', 'nfasc', 'top3b', 'nutm2e', 'fzd1', 'exoc4', 'mcm7', 'ucma', 'linc00672', 'celf6', 'ppp1r3a', 'lbx2', 'inpp4a', 'gprc5c', 'znf560', 'cables1', 'crb1', 'serpinf2', 'cmtm1', 'crtc3', 'banf2', 'galnt5', 'dcaf16', 'hspb1', 'nfil3', 'tmem50b', 'pml', 'rbm3', 'ifngr2', 'slc44a4', 'gtdc1', 'tnfrsf1a', 'pnkd', 'cystm1', 'efnb1', 'dhrs3', 'tcea2', 'trpc4', 'rnf11', 'slc49a4', 'lyg1', 'duxb', 'sparcl1', 'kcnip3', 'slc51b', 'ccdc38', 'arl5a', 'ccdc198', 'or5l1', 'dydc1', 'setd1b', 'nek4', 'ccdc117', 'stac3', 'myh3', 'spata31a1', 'snx7', 'ky', 'adcy4', 'zhx1', 'tbr1', 'pfdn6', 'cep95', 'dnah8', 'tmem202', 'znf101', 'fam3b', 'rell2', 'atp6v1g2', 'nphs2', 'c4orf3', 'rab4b', 'gbp1', 'med15', 'eapp', 'kalrn', 'ankrd13c', 'smyd1', 'znf30', 'fundc2', 'tmem140', 'cdk5rap3', 'tmem147', 'fmnl3', 'fancb', 'grk4', 'cdhr5', 'snx24', 'lrrc1', 'vsx2', 'kcnk1', 'kcnn3', 'rad54l2', 'znf655', 'unc79', 'ppt2', 'cdan1', 'syt16', 'aipl1', 'ocrl', 'tnpo2', 'nr2e1', 'aoc1', 'znf488', 'edn2', 'pigl', 'nsun4', 'fshr', 'camsap1', 'krtap23-1', 'vmo1', 'dedd', 'pmp2', 'lgals3', 'znf471', 'tfap2c', 'arf1', 'atp6v0e2', 'gys2', 'gpatch8', 'tgfb1', 'npw', 'manba', 'iqgap1', 'melk', 'haghl', 'pcdh11y', 'ddx31', 'gprc5a', 'or5b2', 'mon2', 'osbpl8', 'tspan1', 'ttll8', 'ace2', 'klhl33', 'pola1', 'eif3a', 'cgn', 'sync', 'atp6v0a2', 'znf891', 'nr1i3', 'or52r1', 'zc2hc1c', 'gde1', 'ndufb11', 'coq6', 'page1', 'clic6', 'ybey', 'map2k4', 'srp9', 'drg2', 'cd96', 'plod1', 'bora', 'vhll', 'mmp24os', 'rack1', 'il20rb', 'hes4', 'krtap15-1', 'ppp6r2', 'ampd1', 'snx33', 'pfdn4', 'rbl2', 'liph', 'amigo1', 'uck2', 'ears2', 'arhgef35', 'zbtb6', 'alg5', 'sox2', 'ndufa2', 'bbs9', 'dnpep', 'mmp20', 'lefty1', 'ppp1r10', 'tmem258', 'lat', 'srm', 'ndufaf1', 'pla2g4f', 'gna12', 'dixdc1', 'iqcf1', 'eef2', 'smco1', 'lrrn1', 'sct', 'mt1m', 'ralgps2', 'erbb4', 'aldob', 'mbtd1', 'eif4b', 'plekha4', 'cyp24a1', 'tsga10', 'cyp4f8', 'wls', 'lpar4', 'efl1', 'gps2', 'kcnj2', 'dhx57', 'asb1', 'slc22a9', 'srsf10', 'crybg2', 'dguok', 'ubash3a', 'soga1', 'hmgxb3', 'ifnar1', 'sart3', 'syt1', 'wdr77', 'asmtl', 'kmt5b', 'trim40', 'ank2', 'krtap10-11', 'lman1', 'slc16a8', 'apln', 'pepd', 'kmt5c', 'qrfp', 'cd3g', 'znf763', 'patl1', 'efna2', 'dcaf7', 'ilkap', 'tnpo1', 'erfl', 'idi2', 'itpr2', 'rbpj', 'dennd1a', 'bean1', 'tmem63a', 'gad1', 'pcf11', 'c16orf72', 'mcu', 'tlk2', 'or51a4', 'tfdp2', 'brat1', 'etfb', 'gls2', 'chm', 'limd1', 'mefv', 'rhoc', 'or1l8', 'rbak', 'mkln1', 'tdrd9', 'edc4', 'c11orf65', 'clec2l', 'mrrf', 'ubac2', 'pld4', 'tmem230', 'c8orf88', 'fgf7', 'fxyd2', 'myzap', 'ttll5', 'slc16a6', 'ugt2b7', 'pifo', 'timm9', 'pomt2', 'arpp19', 'tril', 'guca1b', 'znf195', 'tubd1', 'tmem179b', 'ctxn1', 'uqcrfs1', 'stxbp1', 'fars2', 'atpaf2', 'plp1', 'coq3', 'selenop', 'cul7', 'ncaph', 'ammecr1l', 'or4c5', 'lbx1', 'diras3', 'znf567', 'traip', 'bmp10', 'adh1c', 'ssbp3', 'ddhd2', 'dpagt1', 'spata31d1', 'meioc', 'ica1l', 'dppa3', 'srrm5', 'plekhf1', 'slc32a1', 'cdc6', 'zranb2', 'rhbdf1', 'septin10', 'zscan31', 'blk', 'znf555', 'zc3h8', 'mis18bp1', 'golga8b', 'wac', 'suv39h1', 'cthrc1', 'ly6g6c', 'dgkq', 'or51e2', 'ddx4', 'kcna10', 'luzp1', 'st13', 'olfml1', 'acot11', 'cnn1', 'fchsd1', 'ccdc14', 'rgs19', 'thpo', 'rnf166', 'magt1', 'podxl', 'acin1', 'col18a1', 'kcna3', 'pla2g3', 'uap1l1', 'hsfx4', 'atp6v1a', 'pmepa1', 'slc6a6', 'mmp11', 'ube2e1', 'opa3', 'elac1', 'cgrrf1', 'ntrk2', 'ctso', 'evc2', 'clstn3', 'rufy3', 'cflar', 'plbd2', 'znf607', 'znf860', 'atg101', 'irgc', 'josd1', 'b4galt2', 'dctn2', 'smim7', 'gzmk', 'znf720', 'c17orf100', 'lmbr1l', 'asb11', 'ctse', 'cacnb4', 'odaph', 'caln1', 'as3mt', 'serpinb4', 'lrrc26', 'map1lc3a', 'mcur1', 'dnm3', 'dsg1', 'mtif2', 'pcdhga3', 'nkx6-3', 'slc31a1', 'fam120c', 'ccl4l2', 'aldh4a1', 's100a6', 'capza1', 'supt4h1', 'b3gnt3', 's1pr1', 'polr3c', 'clec3b', 'ndufb5', 'tgm1', 'ccl26', 'zswim6', 'lce2d', 'tcf15', 'ndufb4', 'heatr4', 'c2orf68', 'acad10', 'stbd1', 'tmem121', 'apobec3c', 'aggf1', 'crybb3', 'pcyox1l', 'aldh1l2', 'vamp3', 'pex26', 'dot1l', 'cd302', 'nt5m', 'mcoln2', 'tox4', 'stum', 'eid3', 'pard6g', 'ppp3cc', 'chit1', 'nkx3-1', 'tada3', 'wdtc1', 'ppp1r3e', 'cdc42ep5', 'tac1', 'nphs1', 'rasl12', 'cnga1', 'fam229b', 'spata31a5', 'paip2', 'abcc9', 'znhit6', 'pygl', 'pld2', 'ppip5k2', 'pkhd1', 'mapre2', 'itln1', 'snap29', 'ppp1r42', 'klhdc4', 'sh2d7', 'ddx11', 'kcne2', 'reps1', 'csnk1a1', 'ormdl2', 'hsd17b2', 'cited4', 'sirpb2', 'smim5', 'hrnr', 'faslg', 'osbpl11', 'znf226', 'tjp1', 'pmaip1', 'mybl2', 'ece2', 'dhx38', 'cul4b', 'selenov', 'mrgprx3', 'gjc3', 'pgls', 'gpr87', 'tmed6', 'rabgef1', 'wee1', 'rtn2', 'snu13', 'snx27', 'poll', 'nsun3', 'dpp7', 'cutc', 'bmper', 'ankrd39', 'znf184', 'lingo1', 'samd8', 'mybpc2', 'st6galnac4', 'c2orf69', 'ostm1', 's100g', 'eif4g2', 'sftpb', 'spp2', 'atp6v1fnb', 'evi5l', 'hpn', 'grpel1', 'pnma8c', 'znf407', 'rsph6a', 'etaa1', 'pard6b', 'klhl10', 'als2cl', 'rhog', 'slc6a12', 'mt-cyb', 'trpc1', 'tex54', 'hsd11b1', 'cd80', 'por', 'emc10', 'tmed4', 'cpeb2', 'dck', 'or2y1', 'ttk', 'hopx', 'znf234', 'spag4', 'boll', 'lmntd2', 'gab1', 'pccb', 'zfp37', 'pls3', 'naaladl2', 'znf480', 'col6a6', 'strbp', 'mta1', 'acer3', 'gdf7', 'c12orf76', 'd2hgdh', 'sec14l6', 'frem3', 'uncx', 'hdac1', 'arhgef5', 'pklr', 'mtpap', 'fgfr2', 'tlcd2', 'paqr6', 'or52j3', 'fthl17', 'pcsk1', 'taldo1', 'zc3h15', 'ptpn2', 'ushbp1', 'mpv17l2', 'dlat', 'sars2', 'pi15', 'pid1', 'camk4', 'gabrb2', 'plag1', 'gpbp1l1', 'tubb4b', 'epsti1', 'fus', 'ddt', 'kiaa0586', 'znf385c', 'taf3', 'zscan5b', 'angpt1', 'itgbl1', 'carmil3', 'pnp', 'camk1d', 'kcnk10', 'zfp30', 'arhgap11a', 'agt', 'polr3b', 'npdc1', 'magi2', 'cdon', 'znf264', 'cd160', 'foxi1', 'g6pd', 'hnrnpm', 'rap1a', 'myct1', 'myrip', 'npipb15', 'apol3', 'polr2h', 'tmc3', 'ppm1a', 'znf75d', 'ulbp3', 'lto1', 'scn1a', 'wsb1', 'poc5', 'ebna1bp2', 'ube3b', 'znf672', 'dus3l', 'vstm2l', 'slc38a4', 'panx2', 'dennd4c', 'fbxo42', 'fbxo8', 'mmrn2', 'c1orf159', 'prag1', 'pcid2', 'apba2', 'c1orf185', 'trub2', 'parm1', 'dcxr', 'znf585b', 'c22orf15', 'lamb4', 'sppl2c', 'clec4c', 'cbr3', 'ntn4', 'gpr180', 'znf44', 'cfhr3', 'zswim9', 'tbx2', 'gpr12', 'fbxo38', 'adra1a', 'prpf3', 'dhx16', 'bdh1', 'ccdc126', 'rexo5', 'prrx2', 'ctsl', 'krtap22-2', 'gsr', 'cyfip1', 'bcar1', 'c18orf63', 'dusp16', 'hpx', 'pm20d2', 'fbp1', 'ddx42', 'znf823', 'lrrc25', 'habp2', 'znf613', 'fam13a', 'cdk2', 'drc3', 'atpaf1', 'ftmt', 'unc93a', 'spice1', 'suco', 'dnlz', 'pigbos1', 'pgc', 'prm3', 'med1', 'ppil2', 'ddx52', 'arhgap31', 'sh3bgr', 'hspbp1', 'wdr1', 'c7orf61', 'ctsa', 'tmem116', 'cldn11', 'slc44a5', 'crebbp', 'tenm2', 'nub1', 'loxl2', 'tmem44', 'actl6b', 'gpx2', 'angptl6', 'lrcol1', 'rnf4', 'lama3', 'cspp1', 'mab21l3', 'tmem232', 'lmo1', 'nek9', 'bcr', 'rai1', 'usp33', 'znf223', 'ap5s1', 'faxdc2', 'ripply1', 'ndufb3', 'arl6ip5', 'umodl1', 'cyp21a2', 'smim29', 'znf410', 'ccl18', 'camk1g', 'abcf1', 'brd2', 'steap3', 'spindoc', 'snap23', 'krt25', 'pdcd5', 'defb110', 'fgf20', 'ccdc60', 'nos3', 'tlx3', 'spag5', 'cand2', 'fbxw9', 'gtf2e1', 'mchr1', 'med8', 'rcc1l', 'rasl11a', 'ndufv2', 'insl3', 'c1qa', 'col23a1', 'kiaa0319', 'chordc1', 'cst6', 'ywhah', 'flg2', 'svip', 'myf5', 'ccn6', 'dnajc4', 'chst14', 'nip7', 'cmbl', 'sertm1', 'rbfox2', 'nmt1', 'gda', 'fam184a', 'adgrl1', 'mdc1', 'rfpl1', 'arhgef3', 'gen1', 'chdh', 'fastk', 'p2rx3', 'scg2', 'ms4a6e', 'c4bpb', 'spink1', 'svil', 'glud1', 'adam21', 'malt1', 'ern1', 'ttc28', 'a4gnt', 'dusp6', 'c5orf49', 'hbp1', 'ctsg', 'slc22a6', 'mc4r', 'dmrtb1', 'zbtb3', 'ccl4', 'elovl6', 'spink5', 'mgam2', 'prf1', 'pdia4', 'sptbn2', 'adgrg5', 'slc1a4', 'irf7', 'ubap1', 'slc5a7', 'znf451', 'il22', 'dusp15', 'dctn3', 'ints5', 'qtrt2', 'pak2', 'ccnl2', 'higd2a', 'adamts13', 'ythdf3', 'rnf38', 'slc39a13', 'mcub', 'dact1', 'arhgdia', 'xpo6', 'myl6b', 'tigd3', 'pik3r2', 'st8sia4', 'apob', 'mfsd2b', 'st8sia5', 'acsf3', 'odf2l', 'dglucy', 'comp', 'ing2', 'pmvk', 'cyp2u1', 'serpine1', 'or52b4', 'znf462', 'zswim7', 'rad54b', 'amz2', 'sirpa', 'mlf1', 'simc1', 'eps15l1', 'syp', 'map3k15', 'ceacam6', 'lilra5', 'nxt1', 'padi1', 'tmigd1', 'arl13a', 'clip2', 'ccl24', 'wnk2', 'nkiras1', 'cops8', 'zbtb26', 'hhex', 'or52b2', 'prcp', 'fam118b', 'dcdc2c', 'snapc2', 'qki', 'ift46', 'gabrb1', 'kcnq5', 'gnat1', 'tnks', 'mrgprx2', 'znf853', 'tdrd10', 'stard9', 'tchh', 'crybb2', 'trpc7', 'gper1', 'irx5', 'znf708', 'mt-nd3', 'nme4', 'spata31a7', 'bloc1s3', 'pnma8a', 'uchl5', 'cpox', 'abcb10', 'mturn', 'ankle2', 'c1orf189', 'scart1', 'gng14', 'tmem120b', 'il22ra1', 'znf440', 'iqgap2', 'bricd5', 'ranbp10', 'znf207', 'ifi44', 'dvl3', 'slc9a9', 'marveld1', 'trpm2', 'fam71c', 'srsf4', 'slc15a3', 'sntb1', 'tacr2', 'ins', 'znf687', 'aqp3', 'fdx2', 'stx2', 'rflna', 'pla2g4e', 'paep', 'nfe2', 'slc52a1', 'hnrnph3', 'wdcp', 'cacna2d2', 'steap2', 'rbfox3', 'ubxn4', 'krtap22-1', 'gpc6', 'ripk3', 'siglec8', 'cplane2', 'sptbn5', 'nts', 'aatf', 'eef1akmt1', 's1pr4', 'clec4m', 'bgn', 'tigd5', 'col13a1', 'nlrp2b', 'rasgef1a', 'ckb', 'golga6l7', 'bsg', 'ccdc115', 'or2a5', 'slc39a6', 'fcgr3a', 'pxylp1', 'cep290', 'wdr73', 'defb128', 'spint1', 'pitx3', 'nlrp3', 'znf227', 'f2rl2', 'rbm47', 'med19', 'gpatch1', 'tmem240', 'rfpl4a', 'armcx1', 'nudt16l1', 'col1a2', 'srsf11', 'cpn2', 'tec', 'ptprj', 'bex3', 'mcc', 'ttpa', 'ankrd37', 'pvalef', 'tubg1', 'zfand3', 'pdgfrb', 'trim46', 'ncaph2', 'rab9a', 'kmt5a', 'ddx46', 'spsb4', 'papola', 'epc1', 'umad1', 'znf117', 'hcn4', 'il20ra', 'tp53aip1', 'pde8a', 'clps', 'cfap97d1', 'l3mbtl2', 'plekha6', 'id2', 'ppp2cb', 'ciao1', 'dusp26', 'kiaa1191', 'eri2', 'pde4c', 'irx4', 'sec22c', 'ilvbl', 'btn2a2', 'tmem156', 'clmp', 'gng2', 'dlk2', 'cep295nl', 'mapk9', 'doc2b', 'or51g2', 'mpnd', 'fam167b', 'pkd2l2', 'ttr', 'mgat5', 'fam126b', 'pex16', 'asic2', 'rnf144b', 'carns1', 'gjb7', 'inafm2', 'tysnd1', 'jade3', 'lce2c', 'ghr', 'rspo4', 'spink2', 'apol5', 'apobec3a', 'mdga2', 'guf1', 'sys1', 'stard8', 'rnls', 'shank3', 'adgrl4', 'pou2af1', 'rptor', 'zfp82', 'rnaseh2b', 'tiaf1', 'atg4a', 'arl14ep', 'erbb3', 'rbm5', 'cul1', 'gadd45g', 'esco2', 'trim14', 'miga2', 'armc7', 'znf222', 'cacng8', 'miox', 'kdm5a', 'sytl1', 'map2k6', 'gtf3c3', 'mterf4', 'hbb', 'gsg1l', 'gusb', 'il16', 'tnn', 'tagln2', 'utp3', 'usp25', 'cort', 'ret', 'dsn1', 'sarnp', 'psmb9', 'riok1', 'adnp', 'ctnnal1', 'nppa', 'tns2', 'morn3', 'dnah11', 'hdgfl2', 'tnfaip8l1', 'mb', 'sh3bp2', 'bcas4', 'fkbp11', 'prkaca', 'esf1', 'trim2', 'b4galt4', 'gmeb2', 'slc7a13', 'gins4', 'prelp', 'akap12', 'ankrd10', 'naga', 'snip1', 'coa1', 'or5t1', 'rgcc', 'snrpc', 'batf3', 'kin', 'rmc1', 'map3k14', 'mc1r', 'rsad1', 'zfp1', 'hdac6', 'deptor', 'adarb1', 'ldlrap1', 'coq2', 'ttc23', 'psmd1', 'rcc1', 'upf3b', 'gabrb3', 'pex11b', 'tuba4b', 'or5l2', 'c6orf47', 'rgs22', 'nfkb2', 'krt5', 'pfkfb2', 'cryz', 'defb135', 'snx6', 'prrt4', 'lin7c', 'mtfp1', 'oaz2', 'muc3a', 'yipf7', 'ccdc183', 'adat2', 'pdp2', 'cspg4', 'accs', 'sbk1', 'adgrg2', 'cplx1', 'fam199x', 'cd2bp2', 'csde1', 'hnrnpd', 'spem3', 'derl1', 'polr3a', 'prkcg', 'metap1d', 'c1ql4', 'slc45a1', 'aldh9a1', 'rtp3', 'cdk11b', 'dok2', 'dhrs7c', 'syngr2', 'chchd5', 'draxin', 'slc4a11', 'scg5', 'anxa10', 'csta', 'cep89', 'rnf39', 'taf6', 'cp', 'srsf12', 'mab21l1', 'rin2', 'krtap10-7', 'vegfb', 'dzank1', 'fbxo2', 'retsat', 'psen1', 'gins2', 'c10orf88', 'chchd10', 'rras', 'adam19', 'slc39a5', 'cdk17', 'supt6h', 'tex13b', 'rbmx2', 'scml2', 'timp3', 'ccser2', 'tarbp2', 'tet3', 'phlda2', 'spef1', 'phactr4', 'pla2g12b', 'cops2', 'tbc1d9', 'tac3', 'ccdc138', 'eif5a2', 'c13orf46', 'dpp6', 'fbxo21', 'prkca', 'noc2l', 'star', 'txk', 'ube2i', 'znf287', 'stpg1', 'cpeb4', 'apmap', 'plpp5', 'cd69', 'cers4', 'trio', 'hmga1', 'c2orf81', 'sri', 'slc6a11', 'znf283', 'dmp1', 'capn2', 'srcin1', 'eme1', 'atp1b1', 'znf534', 'desi1', 'fam171a2', 'necap2', 'retreg2', 'cep170', 'or2l2', 'pigv', 'ccnb2', 'bcas2', 'usp4', 'ccno', 's100a7l2', 'chrnb2', 'csf3r', 'c1orf35', 'tlr1', 'snx17', 'cfap36', 'stk31', 'brinp1', 'nt5c2', 'itpa', 'pttg1ip', 'znf135', 'nsa2', 'col6a1', 'utp4', 'lrg1', 'spag16', 'ppp1r12c', 'pou6f1', 'lrrc70', 'fam135b', 'znf442', 'ddx24', 'exoc5', 'or56a3', 'tuba4a', 'chd3', 'acp4', 'znf549', 'cask', 'f8a1', 'or2a25', 'sorl1', 'nme1', 'znf490', 'wdr76', 'ankrd63', 'krtcap2', 'cyp20a1', 'mogat2', 'pik3cb', 'spta1', 'snw1', 'pip5k1c', 'erg', 'prdm16', 'alx3', 'cxorf65', 'cebpd', 'cabp7', 'sall1', 'tsnax', 'pparg', 'slc8b1', 'znf12', 'ankrd66', 'ikbip', 'akirin1', 'prim2', 'or2ap1', 'ifi27l1', 'znf600', 'il1rapl1', 'tbc1d32', 'fndc9', 'zbtb33', 'nol6', 'trmt10b', 'ypel5', 'dpyd', 'ptprh', 'mtf1', 'map3k10', 'ncbp2', 'trim39', 'taf7l', 'mapkapk5', 'dcun1d2', 'igsf8', 'rfesd', 'grxcr2', 'c1r', 'myh9', 'adh4', 'pcdhac1', 'best2', 'macrod1', 'dolpp1', 'rhbdl3', 'trim17', 'gp5', 'or6p1', 'cyp3a7', 'fkbp8', 'ldhal6b', 'map3k4', 'mmp24', 'kpna1', 'rac3', 'slc25a41', 'bak1', 'itih3', 'galnt14', 'slamf7', 'znf594', 'gzf1', 'camsap2', 'fam200b', 'hoxa6', 'eaf1', 'prr11', 'kcnj14', 'sds', 'stx6', 'ccl15', 'ifit1', 'vdr', 'cdcp2', 'she', 'tktl2', 'yjefn3', 'kdm2b', 'zcchc18', 'grik5', 'gpr1', 'znf280d', 'hspb9', 'tspan2', 'c10orf82', 'ptov1', 'tln1', 'cpvl', 'acp1', 'cldn12', 'gjd2', 'cdc42bpb', 'inpp5b', 'exoc8', 'bcat2', 'steap1', 'lcp1', 'mbtps1', 'ints6l', 'arl1', 'akr1e2', 'ankrd65', 'slc38a7', 'adgrg7', 'adamts15', 'mecp2', 'cnksr1', 'dusp11', 'clec5a', 'xrcc3', 'cd40lg', 'tiparp', 'ldoc1', 'c1ql2', 'man2a2', 'ankrd2', 'ptges', 'xab2', 'mrtfa', 'dus1l', 'tpsg1', 'or13c5', 'chrna3', 'nol12', 'psmd7', 'eif1b', 'nynrin', 'znf212', 'spidr', 'pde1b', 'gabpb1', 'fxyd3', 'serinc4', 'wnt16', 'ncr3', 'katna1', 'c8g', 'asgr1', 'b3galt5', 'ascc2', 'sfr1', 'psph', 'znf445', 'ocln', 'angptl4', 'smim14', 'slc22a3', 'slc8a3', 'hspb11', 'zscan26', 'ftsj3', 'cxcr3', 'cuta', 'hmx1', 'ndrg2', 'tnfrsf13c', 'def6', 'tf', 'cfap99', 'actl8', 'armc12', 'abca9', 'rbm23', 'syt4', 'rprd1b', 'tmem33', 'hnf4g', 'c4orf45', 'ms4a18', 'tmed9', 'osbpl9', 'slc35c1', 'mcm8', 'rab33a', 'ifngr1', 'wasf3', 'glyat', 'zic2', 'jph1', 'fate1', 'rxrb', 'usp28', 'mettl27', 'znf768', 'per2', 'polr2a', 'c12orf66', 'ccnt1', 'spata20', 'pcdhga5', 'vldlr', 'glipr2', 'ntf4', 'oxgr1', 'lamtor5', 'septin3', 'prdm2', 'nubpl', 'b4galnt3', 'depdc4', 'sbno1', 'nlrc5', 'ugt1a9', 'c3orf62', 'mmd2', 'zfc3h1', 'asb12', 'adgra1', 'nrsn2', 'tprg1l', 'ap4e1', 'nefh', 'rnpepl1', 'or6a2', 'upk1a', 'tsc2', 'kat2a', 'nkx6-2', 'smarcd2', 'tymp', 'cdca7', 'or10c1', 'or9q2', 'kiz', 'cnot6', 'tmem89', 'adgre3', 'steap1b', 'pdss1', 'cntn5', 'dedd2', 'olr1', 'tcap', 'cpne6', 'tdrd5', 'syf2', 'septin6', 'rxfp4', 'tmem182', 'lars2', 'rab3d', 'smarcd3', 'ctf1', 'efemp1', 'ninj2', 'il4r', 'ctdnep1', 'tlr4', 'krtap5-2', 'spock2', 'rtl8b', 'lcn1', 'kndc1', 'klhl25', 'znf7', 'itgb3', 'erap2', 's100pbp', 'ubap2l', 'micall2', 'gpsm3', 'etdc', 'cys1', 'braf', 'spty2d1os', 'pja2', 'kansl1l', 'klhdc3', 'stard4', 'znf554', 'czib', 'pnpla7', 'chrdl2', 'gata4', 'urad', 'dynap', 'becn1', 'dpep2nb', 'fabp1', 'mnd1', 'pappa2', 'vcl', 'glyatl2', 'psmb3', 'gnal', 'lingo3', 'phex', 'tmem273', 'bmf', 'mapk8ip3', 'siglec15', 'samd9', 'ptk7', 'mob3c', 'rtl8a', 'tgfbi', 'ms4a3', 'gnl1', 'pla2g2c', 'usp39', 'l3hypdh', 'dcaf11', 'tacr1', 'hdgfl1', 'eef1e1', 'ccdc146', 'defb113', 'cep152', 'tbc1d3e', 'ager', 'adamts2', 'ttc7a', 'zer1', 'tmem87a', 'pcdh17', 'tbx10', 'zcchc7', 'atp2b1', 'chchd3', 'atp6v1b2', 'tmem168', 'nudcd1', 'kcnb1', 'ahrr', 'noa1', 'adra2b', 'derpc', 'phf1', 'zbed6cl', 'znf608', 'gng13', 'ttc9b', 'elovl5', 'dnajb13', 'golm1', 'rspo1', 'epas1', 'aga', 'lacc1', 'bivm', 'cd22', 'sh3pxd2a', 'tmem40', 'tti1', 'ccdc150', 'cxcl11', 'znf141', 'cd55', 'c19orf53', 'ipo9', 'or5p2', 'spc25', 'lama4', 'iqca1l', 'rbm14', 'oxnad1', 'cstl1', 'slc52a3', 'slc7a2', 'dhx37', 'ssc4d', 'armh4', 'polr2f', 'nono', 'snap47', 'map6d1', 'or10a7', 'erp27', 'wnt10a', 'zfand4', 'slc35e3', 'eln', 'prss41', 'fermt2', 'tada2a', 'msra', 'nsun2', 'enoph1', 'slc6a16', 'tle3', 'nrip1', 'uba2', 'cyp17a1', 'imp3', 'isg20l2', 'gpat3', 'arhgef39', 'rufy2', 'ppfia2', 'ctxnd2', 'hoxb9', 'defa5', 'xpc', 'cbx5', 'znf557', 'akap4', 'agrn', 'c11orf68', 'nhlrc2', 'tefm', 'osgepl1', 'pnpla2', 'rnf17', 'jaml', 'uqcr11', 'scaf1', 'tspan4', 'efcab3', 'erf', 'nr1d1', 'tas1r3', 'cartpt', 'htra2', 'fbxw7', 'exoc3l2', 'cxorf66', 'kcnq2', 'gipc2', 'mthfsd', 'atad3a', 'eno4', 'nlk', 'ubr5', 'col7a1', 'parp12', 'amdhd2', 'ankib1', 'arhgef38', 'lgsn', 'siae', 'adgrg6', 'gfap', 'adam22', 'tmem159', 'rusc1', 'rpa4', 'hoxd12', 'btf3l4', 'phf20l1', 'pacs2', 'ccdc7', 'zbtb46', 'rab6a', 'med14', 'pfn4', 'eva1c', 'mybph', 'slc25a24', 'mtmr6', 'ugt2b10', 'elac2', 'ubash3b', 'cpne7', 'cenpk', 'syce1', 'borcs6', 'carhsp1', 'wdfy4', 'tmem238l', 'znf628', 'zmynd12', 'lgi3', 'ttc30b', 'zfp90', 'aloxe3', 'bad', 'slc41a1', 'ndufaf5', 'faxc', 'eef1akmt2', 'brinp2', 'kcng3', 'znf501', 'kmt2e', 'vps9d1', 'zw10', 'znf688', 'cnga3', 'cyp7b1', 'lrrk1', 'ppp4r3c', 'pros1', 'abhd17c', 'gcm1', 'map3k5', 'gpr68', 'polr3gl', 'prkar2a', 'stath', 'prpf38b', 'alkbh4', 'appbp2', 'arl3', 'ada2', 'ramp2', 'pofut2', 'fancc', 'ppp3ca', 'tango2', 'ipp', 'atp13a1', 'tp53i3', 'lcn8', 'pate3', 'parp1', 'edil3', 'trappc10', 'acan', 'arhgap35', 'atp6v1f', 'zfhx3', 'lmnb1', 'fndc4', 'spdef', 'themis', 'shmt2', 'tfg', 'rragb', 'slc6a19', 'mmp25', 'prkag3', 'pzp', 'katnbl1', 'mmp13', 'cers5', 'mocs2', 'adamts3', 'tnni3k', 'chrm2', 'slc28a3', 'rbfa', 'kcnh3', 'foxg1', 'dnajb11', 'phactr1', 'usp45', 'llcfc1', 'ccdc166', 'tmbim1', 'necap1', 'trit1', 'nusap1', 'srcap', 'mc2r', 'nsmce3', 'gpr162', 'eddm13', 'plekha1', 'txnrd3', 'taar1', 'zmynd19', 'spag8', 'emilin1', 'pgf', 'ddx59', 'taf11l14', 'pik3r5', 'dpf1', 'rars2', 'tex47', 'ccdc102b', 'cdk13', 'tnfrsf6b', 'tcim', 'grb14', 'tcof1', 'znf148', 'tpbgl', 'c16orf71', 'crybb1', 'wdr45', 'tsg101', 'atxn3', 'gtf3c5', 'taf13', 'tctn1', 'nipa2', 'pias3', 'cenpe', 'fh', 'dcaf10', 'st6galnac5', 'mvk', 'rsbn1l', 'rnf13', 'dnph1', 'myo3a', 'eif2s3', 'plekhg2', 'rgs4', 'plaat2', 'pex11g', 'ccdc159', 'cnbd1', 'ripk4', 'mpdz', 'picalm', 'zfp36l1', 'exoc1', 'pcdh19', 'cpped1', 'ppat', 'cerkl', 'psmd5', 'iscu', 'prelid3b', 'ddx56', 'hoxa1', 'tsnaxip1', 'tial1', 'sema3a', 'spin4', 'bdkrb1', 'atp6v1g3', 'sim2', 'c2orf74', 'znf25', 'acot9', 'gramd1b', 'fbxl7', 'pik3r3', 'acad11', 'bend3', 'mapk6', 'tlcd3a', 'pus3', 'wdr38', 'msx1', 'znf787', 'gnb4', 'tmem253', 'ube2f', 'slc10a6', 'hmgb2', 'lurap1l', 'mtx1', 'klk14', 'p2rx2', 'extl2', 'map10', 'bend4', 'trpm1', 'polb', 'sst', 'siva1', 'foxr1', 'tiam2', 'tatdn2', 'saa4', 'eif2b3', 'slc45a2', 'ptpn12', 'carf', 'orai1', 'canx', 'nbdy', 'gpam', 'cskmt', 'ltn1', 'colec11', 'insm1', 'ktn1', 'adamtsl5', 'trim65', 'ptpn9', 'znf114', 'serpina1', 'mlst8', 'tmem125', 'krt37', 'ccdc70', 'tmem201', 'ephx3', 'hey1', 'stox2', 'frmpd1', 'fxyd1', 'kbtbd11', 'ppp1r16b', 'atp5po', 'rgs6', 'homez', 'xpo1', 'irx2', 'loxl4', 'smlr1', 'pgpep1l', 'txnl4a', 'man1a2', 'tnfaip2', 'rab30', 'fam174a', 'btbd8', 'foxf1', 'mccd1', 'kank2', 'tmc4', 'entpd2', 'tmprss5', 'rai14', 'cmc1', 'frmd3', 'rbks', 'theg', 'fcho1', 'cyp4v2', 'lpl', 'p3h3', 'or1m1', 'kcnh1', 'spink6', 'trim33', 'znf438', 'smg6', 'mfng', 'pear1', 'rhof', 'pfn1', 'mob1a', 'flrt1', 'amd1', 'st7', 'rest', 'znf699', 'znf789', 'napsa', 'dclk1', 'cdh23', 'galnt13', 'kcnip2', 'rims4', 'cep104', 'tbc1d22b', 'krt73', 'krt16', 'gabrg2', 'tmprss3', 'hsbp1', 'pla2g4a', 'sobp', 'sftpc', 'creb3l1', 'cmas', 'gpx4', 'clec7a', 'prcc', 'slc8a1', 'nit1', 'mob3a', 'aph1a', 'itga9', 'otop2', 'znf683', 'bmp5', 'celf1', 'snx30', 'rapgefl1', 'rasgef1c', 'tcf19', 'thnsl1', 'fancl', 'tsfm', 'zcchc13', 'wfdc2', 'fam155a', 'pdlim2', 'map3k11', 'samd14', 'kif2c', 'igsf1', 'brinp3', 'mroh1', 'sprr2f', 'nle1', 'nmbr', 'carmil1', 'btbd9', 'ro60', 'ache', 'myom1', 'e2f3', 'fam149b1', 'glcci1', 'slc25a51', 'gtf3c4', 'tmem143', 'alox15b', 'gpr146', 'nkx1-2', 'pwwp2a', 'per1', 'sox21', 'lrrc40', 'nanogp8', 'dennd3', 'pom121c', 'lrrc9', 'syt17', 'cyld', 'crygb', 'mkrn3', 'mmrn1', 'calcb', 'zmiz1', 'bbx', 'chac1', 'cwc25', 'zc3h4', 'maneal', 'abl1', 'rimklb', 'sag', 'ppih', 'taf11', 'slc35a4', 'dpysl3', 'b3galt6', 'syt8', 'tmprss7', 'cdadc1', 'rassf2', 'iqcc', 'ap4b1', 'cbx8', 'ms4a5', 'bcl2l11', 'dph3', 'tcta', 'poglut2', 'unc80', 'amt', 'klhdc2', 'herc5', 'znf2', 'ctdspl', 'tnks2', 'pramef15', 'tcf21', 'bst1', 'pdcd7', 'cdh20', 'apobec1', 'zbtb43', 'slc2a10', 'asb15', 'thsd4', 'smpd2', 'zcchc24', 'pgk2', 'igfbpl1', 'adgrb1', 'arrb1', 'ralgapb', 'actn2', 'e2f8', 'fgfbp3', 'urgcp', 'cdca4', 'oscar', 'rabep1', 'odf3l1', 'naa60', 'sbno2', 'ap3b2', 'mff', 'rp2', 'pnliprp1', 'per3', 'rtp2', 'bicc1', 'sdccag8', 'dnal1', 'entpd5', 'ppp5c', 'trim11', 'arhgap5', 'ccdc73', 'btn3a2', 'duox2', 'xkr6', 'fam189a2', 'clec4e', 'bsdc1', 'znf84', 'ms4a4e', 'nfkbia', 'chd9', 'pole2', 'tmeff2', 'usf3', 'tspan33', 'pax6', 'smpd1', 'pars2', 'trh', 'lyrm7', 'or4k5', 'plxnb2', 'spn', 'clcnka', 'psmc1', 'tomm40', 'slc26a7', 'caskin1', 'lonp2', 'dbx2', 'coq8a', 'wdr55', 'sgca', 'krcc1', 'usp31', 'synj2', 'cenpo', 'timm10b', 'mapkap1', 'caprin2', 'ube2d4', 'susd6', 'sp2', 'gtf2h1', 'slc45a4', 'znf69', 'lyrm2', 'rhoxf1', 'ttc39a', 'dhcr24', 'npffr1', 'brs3', 'atp6ap1', 'tmem160', 'rergl', 'mrgprx1', 'eloa2', 'hpgd', 'camkv', 'msantd1', 'kctd16', 'api5', 'hcn2', 'ccz1', 'vxn', 'cytip', 'akap14', 'tnfrsf10a', 'ano3', 'ppp2r5e', 'relb', 'tmem223', 'slc26a1', 'agpat4', 'ndrg3', 'tmem74', 'chp1', 'adpgk', 'cd1c', 'nsmce2', 'scube3', 'mica', 'a2ml1', 'ccdc169', 'slc7a6os', 'ppp2r2a', 'dlg2', 'abr', 'sdhaf3', 'lrrc3', 'c19orf85', 'pclo', 'krtap6-3', 'bcorl1', 'slurp2', 'ift80', 'spata12', 'eif4e', 'psapl1', 'znf716', 'c12orf42', 'nmur1', 'stra6', 'col25a1', 'prss1', 'mtmr7', 'nmu', 'rev1', 'tst', 'cbx3', 'slc35a5', 'lrrc37a2', 'zdhhc8', 'maf', 'fsd1l', 'cnnm2', 'dnajc9', 'znf691', 'or6f1', 'paics', 'rdh5', 'apcdd1l', 'fam83f', 'pth2', 'arhgap25', 'mgarp', 'plce1', 'atf7', 'hspa9', 'ccdc112', 'zfp69', 'grin1', 'rsph3', 'adcy8', 'vipr2', 'rab32', 'cox6c', 'prmt8', 'c14orf39', 'npipb2', 'mesd', 'cpsf1', 'st8sia6', 'spem2', 'bend2', 's100a16', 'nfix', 'cpt2', 'thap6', 'foxa3', 'slc39a7', 'or2at4', 'dyrk1a', 'thrsp', 'dlgap5', 'fig4', 'znf774', 'slc39a1', 'yeats4', 'itpripl1', 'emid1', 'rtl9', 'tor1a', 'tox', 'nccrp1', 'aak1', 'atp8b1', 'hsdl1', 'slamf1', 'kbtbd4', 'cdh3', 'capns2', 'ptn', 'nop56', 'slc25a30', 'ttll9', 'pkmyt1', 'slc16a1', 'dcaf4l1', 'tmem60', 'hsbp1l1', 'fgf21', 'tle4', 'slco2a1', 'ddi2', 'sbds', 'samd4b', 'znf510', 'mdga1', 'ggact', 'kctd11', 'plppr1', 'rims3', 'midn', 'mageb5', 'krt9', 'eva1b', 'mier3', 'col17a1', 'guk1', 'rnase8', 'foxb1', 'znf484', 'lpcat2', 'dst', 'klrc1', 'frmd7', 'c5orf22', 'akap5', 'pa2g4', 'mthfd1l', 'itpkb', 'fhad1', 'vwc2', 'pick1', 'tjap1', 'kiss1r', 'fam89a', 'nars2', 'ubl7', 'kirrel3', 'thbd', 'atad2b', 'atp6ap2', 'dgkz', 'slain2', 'gja3', 'vta1', 'twist2', 'sla', 'col8a2', 'tspan11', 'amn', 'aif1l', 'rtp4', 'scamp1', 'galnt8', 'smox', 'coch', 'rpp21', 'aig1', 'znf143', 'cdk20', 'txndc11', 'mymk', 'msh2', 'tbxas1', 'plekha5', 'klk2', 'flvcr1', 'sdhaf4', 'tmub2', 'dap3', 'lrp8', 'c2orf76', 'dpm2', 'sike1', 'hic2', 'serpina10', 'ric3', 'slc17a1', 'mog', 'bmpr1a', 'tcp11l1', 'fbxo6', 'il17rd', 'sidt1', 'flacc1', 'mia3', 'mfsd4b', 'or2w1', 'setbp1', 'egfl8', 'lyl1', 'nol10', 'mageb1', 'ifna4', 'serpinb6', 'fam120b', 'met', 'abca7', 'dtx4', 'slc39a12', 'treh', 'sult1a1', 'znf99', 'ghrh', 'tut7', 'lmna', 'ddhd1', 'brix1', 'pdhx', 'c2orf50', 'map9', 'herpud2', 'mx1', 'zyx', 'entpd8', 'ophn1', 'polr3g', 'tbc1d4', 'sdc1', 'speg', 'ciita', 'chrm3', 'ncbp2as2', 'ppic', 'jpt2', 'stk40', 'egr1', 'lpin3', 'dbndd2', 'btg3', 'dgat2l6', 'orc5', 'fbxo7', 'mapk10', 'tfpi2', 'mpp6', 'cabcoco1', 'rasl11b', 'strit1', 'gdf11', 'znf224', 'clasp1', 'aldh8a1', 'tex2', 'nanos1', 'ndc80', 'scrn2', 'trim7', 'zp1', 'sulf1', 'pdpr', 'mms22l', 'tspyl1', 'kcnj11', 'or2g2', 'tbc1d13', 'anxa11', 'gmpr', 'tfec', 'zxda', 'miga1', 'zmym4', 'fam71f1', 'pawr', 'atp1a4', 'cchcr1', 'ppp3cb', 'plpp3', 'ankdd1b', 'eif4a2', 'iqce', 'ap2a1', 'ehmt1', 'atf7ip2', 'arhgef4', 'sp5', 'ca14', 'cpne2', 'lrrk2', 'klk1', 'amotl1', 'tmem138', 'eys', 'plod2', 'ppp1r3g', 'otol1', 'btbd7', 'dyrk1b', 'spata5l1', 'or2m4', 'pex14', 'htr1f', 'qdpr', 'aldh1a3', 'gng11', 'slc14a2', 'unc13a', 'tead2', 'r3hcc1', 'popdc3', 'dars2', 'ndufab1', 'tmed7', 'fancg', 'vps8', 'ptk2b', 'ing4', 'thoc7', 'dlgap2', 'cdc20', 'tgfbr3', 'camkk2', 'thap12', 'inf2', 'sgpp2', 'pank1', 'aqp2', 'ezhip', 'doc2a', 'kif5c', 'daam2', 'c11orf16', 'ca2', 'esd', 'sugt1', 'mien1', 'dnajc2', 'neurl1b', 'rgl4', 'cyp1b1', 'dpp4', 'sgk1', 'dhtkd1', 'igf1', 'pi4kb', 'neu3', 'adsl', 'ttll2', 'epb42', 'znf423', 'xpo4', 'fndc7', 'ceacam3', 'gldc', 'bco2', 'sco1', 'zap70', 'apof', 'faah', 'ggt1', 'trappc6a', 'c17orf50', 'krtap9-8', 'lrrc8c', 'mgat1', 'ttc24', 'cyth3', 'trafd1', 'cd274', 'gpr3', 'cybc1', 'c20orf144', 'atxn3l', 'ptrh2', 'tspan5', 'panx1', 'tdp1', 'spsb1', 'usp26', 'c1orf232', 'psmd2', 'ifna6', 'pip4k2b', 'parp15', 'dusp13', 'znf550', 'enpep', 'lin28b', 'hsd17b14', 'bms1', 'stk11ip', 'meox2', 'dnmbp', 'lrrc49', 'sipa1l2', 'agr2', 'obp2b', 'cald1', 'ttc30a', 'or1n1', 'arid3b', 'dab2ip', 'sec24a', 'gcgr', 'rfx3', 'prickle3', 'akap7', 'lrrc20', 'art3', 'calhm2', 'srms', 'plin3', 'med12', 'agbl1', 'litaf', 'nfkbil1', 'btn2a1', 'pkp3', 'itch', 'sat1', 'or4e1', 'dlx2', 'ocel1', 'ptgfrn', 'alcam', 'pds5a', 'lum', 'gas2l3', 'zim2', 'sstr2', 'slc7a6', 'iba57', 'catsper4', 'eml4', 'lypd3', 'fgfr1', 'sema6d', 'psmd6', 'rnd2', 'dscc1', 'stard3', 'znf700', 'msi1', 'wnt4', 'tomm34', 'lep', 'gpr101', 'arl9', 'smim41', 'ndufb2', 'gna11', 'ppp1r15a', 'actl10', 'wdr5', 'or5ar1', 'rinl', 'capsl', 'rhno1', 'htatsf1', 'nlgn3', 'or6b3', 'catsperg', 'omg', 'znf281', 'fam24b', 'fgfbp2', 'casq1', 'aadacl2', 'klf5', 'klhl4', 'sox17', 'raf1', 'mcoln1', 'grm4', 'acsbg2', 'apex2', 'tmem86b', 'spint2', 'pydc1', 'niban3', 'izumo4', 'armcx5', 'wbp11', 'tox3', 'kpna4', 'vmp1', 'sh2d4a', 'senp2', 'ccl3l1', 'pak1', 'aspa', 'c18orf54', 'nrg2', 'rsu1', 'fgf9', 'ak1', 'pdx1', 'pyurf', 'rad51c', 'crnn', 'gpatch4', 'ptprr', 'rpgrip1', 'mapk8', 'cyp4a11', 'cd63', 'isg15', 'arrdc2', 'ugt8', 'maco1', 'evx1', 'csrnp2', 'llgl2', 'akap8l', 'klf7', 'angptl1', 'scn3a', 'gjb2', 'batf2', 'glb1l2', 'gla', 'rbm10', 'plekhb1', 'postn', 'fanca', 'azi2', 'hrh2', 'endov', 'ift57', 'ufsp1', 'smc1a', 'shc1', 'dpy19l4', 'vps13c', 'arpc5', 'defb112', 'fam166c', 'prc1', 'nfatc3', 'smc3', 'ttc39b', 'taf9b', 'trpc4ap', 'acox2', 'gnrhr', 'lmbr1', 'rgs10', 'adam10', 'adat1', 'pde6g', 'asb9', 'tbc1d25', 'col6a3', 'znf268', 'zbtb1', 'rhce', 'commd1', 'or14i1', 'znf282', 'znf432', 'ramp3', 'ginm1', 'sh3tc1', 'efhd1', 'znf354a', 'vps13a', 'epyc', 'rbbp9', 'fastkd1', 'riox2', 'smim10', 'arhgef37', 'ncoa5', 'klhl29', 'pxdc1', 'flot2', 'c1qc', 'ppp1r27', 'pip4k2c', 'man1a1', 'eif2ak1', 'paqr3', 'cadm1', 'sod2', 'fgd5', 'vcam1', 'anapc2', 'sec14l1', 'gtf2h5', 'or9q1', 'dipk1b', 'bcl6b', 'trmt44', 'neb', 'pbx1', 'cdh17', 'kiaa0895l', 'aimp2', 'heatr5a', 'c17orf64', 'slamf8', 'gja4', 'wnt5b', 'fam111a', 'tyrobp', 'smarca1', 'mcm3', 'gsto2', 'sorbs3', 'crip2', 'ovol3', 'fcn2', 'arid3a', 'khdc1', 'c10orf71', 'frs3', 'fam83a', 'vkorc1l1', 'tg', 'pmm2', 'abi3bp', 'taok2', 'ppp1r12b', 'nkapl', 'abcc5', 'defb108b', 'mbip', 'hspa1b', 'spg7', 'kpnb1', 'fbxo34', 'zfp36l2', 'cfdp1', 'tacc1', 'gabre', 'rnf112', 'sez6', 'btn1a1', 'tceal1', 'mgat4c', 'acvrl1', 'efnb3', 'nrap', 'srd5a3', 'gsdma', 'snrpn', 'cadm2', 'hmga2', 'ankrd31', 'ndufv1', 'gp6', 'tatdn3', 'zbtb37', 'adh1a', 'c1qtnf12', 'adamts9', 'arrdc3', 'atp5if1', 'btrc', 'psg9', 'cptp', 'arsa', 'dusp14', 'frat2', 'prr29', 'pld5', 'crebrf', 'fgl1', 'carmil2', 'myl7', 'tgfbr1', 'arl5b', 'ddx20', 'derl2', 'coasy', 'snap91', 'hspa1a', 'prkch', 'c1ql3', 'kcnj4', 'pde1a', 'galnt7', 'btk', 'pex2', 'minpp1', 'nlrp10', 'nelfe', 'alox12b', 'or5m3', 'ldb1', 'acap2', 'insl4', 'rnf2', 'arl4a', 'klhl32', 'tcaf1', 'cenpn', 'map2', 'fzd6', 'tmem88b', 'spg11', 'fgf11', 'cep120', 'clcn6', 'polr1d', 'pla2g2e', 'chrna10', 'nuggc', 'pkd2l1', 'nfe2l2', 'ets1', 'erich2', 'or5m1', 'klf17', 'acvr1', 'aldh3a1', 'inpp1', 'acaa1', 'adra2a', 'elane', 'defb132', 'bambi', 'adh7', 'serpinb13', 'fut3', 'bpi', 'prkg1', 'cracr2a', 'fam186a', 'cct2', 'ms4a2', 'kbtbd7', 'lyz', 'skap1', 'chi3l2', 'tor3a', 'pom121l12', 'ctu1', 'aldh3b1', 'cdh26', 'phtf2', 'cd244', 's100a5', 'agmat', 'rhebl1', 'dmxl2', 'znf843', 'sdr42e1', 'ppy', 'tex33', 'nr4a2', 'megf6', 'tlr8', 'taf7', 'tmem14c', 'chst3', 'phf24', 'nmur2', 'pfkp', 'gstt4', 'clcn7', 'rbbp5', 'herc3', 'clpsl1', 'tppp3', 'znf469', 'ttc33', 'ctc1', 'tra2a', 'casp8', 'ceacam7', 'igfl3', 'c19orf44', 'mtrex', 'slc2a4rg', 'bst2', 'mboat7', 'ctsw', 'pan2', 'timm17a', 'smc5', 'rpp38', 'nuak2', 'hepn1', 'cysrt1', 'c1qb', 'cdh18', 'usp54', 'ptger2', 'pof1b', 'fmnl2', 'nhp2', 'aldh1a2', 'hormad2', 'atg16l2', 'hs6st3', 'ddx39a', 'fkrp', 'zdhhc9', 'ly6g6e', 'znf330', 'tmem181', 'c1qtnf1', 'nobox', 'ncf4', 'mall', 'c1orf53', 'med11', 'c19orf25', 'cfap20', 'ltb4r2', 'rbp3', 'mxra8', 'sntg2', 'gorasp1', 'rnf34', 'neurl1', 'padi4', 'nexn', 'asrgl1', 'patj', 'usp10', 'znf24', 'ribc1', 'slc38a8', 'tbx18', 'apoa1', 'mst1', 'prkci', 'fam102a', 'sdf2', 'catsperb', 'dennd2c', 'bin2', 'sox30', 'slc66a2', 'prkce', 'klhdc7b', 'klf18', 'cdc37l1', 'slitrk6', 'sln', 'plin1', 'gbgt1', 'slc6a4', 'cyp2j2', 'samd9l', 'ifi27l2', 'c17orf98', 'ube2o', 'grhl2', 'fam174c', 'pelp1', 'ar', 'samd3', 'il12rb2', 'ndfip2', 'paqr5', 'clasp2', 'ccr4', 'xrcc1', 'il4', 'drp2', 'tob2', 'faf2', 'mgll', 'fbxo24', 'serpinb8', 'ptpn3', 'osr2', 'lynx1', 'frat1', 'ikzf5', 'jpt1', 'cfap299', 'cox14', 'u2af1l4', 'neu4', 'slc4a2', 'krt75', 'znf436', 'klhl1', 'rab19', 'fgf18', 'spdye6', 'cst9', 'gtsf1l', 'synpo2', 'ptcd1', 'ldlrad4', 'htr3c', 'rybp', 'cct6a', 'adarb2', 'cfap161', 'mtpn', 'ilk', 'luc7l3', 'il1rap', 'lingo4', 'efna3', 'smim1', 'pou2f1', 'mtrf1l', 'ipo4', 'fam219b', 'atxn7l2', 'shisa8', 'usp38', 'slfn5', 'cadm3', 'tcp1', 'gpr89b', 'dhx30', 'kdm6a', 'cd68', 'cldn22', 'rap1gap2', 'med25', 'slc30a3', 'chadl', 'mettl21a', 'cyp2c9', 'fyn', 'ugt2b4', 'styx', 'tmigd2', 'fabp6', 'gnaz', 'prune1', 'dkk2', 'klhl30', 'ppp1r13b', 'gpr143', 'cuedc2', 'zcrb1', 'cmpk2', 'gmfb', 'diras2', 'lrrc10b', 's1pr5', 'tmem67', 'castor2', 'tmem225', 'shroom4', 'prr23c', 'ptk2', 'fra10ac1', 'stab2', 'col27a1', 'plek2', 'kirrel2', 'ust', 'lgals2', 'bod1', 'or1q1', 'ubtf', 'mcm4', 'crabp1', 'ppp1r11', 'bmpr2', 'lrrc59', 'osm', 'tacr3', 'arntl', 'asb3', 'dtnb', 'mettl1', 'spanxn2', 'dhdds', 'sema4c', 'pemt', 'dusp4', 'ces4a', 'tctn2', 'cops3', 'dclre1b', 'lrp10', 'ugt2a2', 'hoxb5', 'dnase2b', 'gtf2h4', 'trmt13', 'slc2a8', 'or5ak2', 'csf3', 'was', 'fgfr1op2', 'rab4a', 'clns1a', 'gmnn', 'otud1', 'tm9sf3', 'dcaf5', 'mink1', 'treml2', 'txndc2', 'gab3', 'tulp1', 'cacng6', 'cd164', 'fan1', 'bloc1s1', 'kiaa1328', 'gata1', 'abcg4', 'stambp', 'en2', 'lhcgr', 'nus1', 'lhb', 'galnt10', 'cplx4', 'tbx22', 'cep131', 'slc12a5', 'arl6', 'fdxr', 'znf718', 'gjb5', 'zc3hav1', 'ermp1', 'pum2', 'slc4a4', 'osbpl3', 'hddc2', 'spns3', 'taf1a', 'mbd1', 'znf20', 'msr1', 'rasd2', 'dsg3', 'ppm1e', 'soat1', 'cd177', 'smim9', 'pld3', 'ppp1r18', 'gpr139', 'inca1', 'pgd', 'snapin', 'tsen2', 'tmem71', 'ppm1d', 'arhgap40', 'syn1', 'rflnb', 'arc', 'recql4', 'wnt2b', 'gja9', 'fam71a', 'tcf3', 'csf1', 'bcs1l', 'tmcc1', 'lcmt2', 'il13ra1', 'acd', 'urb1', 'znf773', 'atf7ip', 'cwc15', 'adcy1', 'c19orf54', 'skor2', 'muc6', 'nras', 'hfm1', 'lce4a', 'anxa2r', 'tex14', 'tbc1d28', 'vwa7', 'gatd1', 'gramd2a', 'slc4a1', 'tmc8', 'arsf', 'sh3glb2', 'dut', 'znf765', 'fgd2', 'dnajb12', 'ppp1ca', 'slc38a10', 'adam18', 'hao2', 'rit1', 'cacna2d1', 'ubald1', 'fam155b', 'acrv1', 'sox1', 'kprp', 'glb1l3', 'slco1b1', 'golga3', 'extl3', 'ly6l', 'mettl15', 'rabgap1', 'c16orf54', 'marveld3', 'cd180', 'ccdc170', 'tle7', 'dusp18', 'trpm8', 'trim24', 'fads3', 'pim3', 'dbh', 'eya2', 'ntng2', 'or8s1', 'tmx2', 'alox5', 'gosr2', 'spats2', 'slx4', 'tsc22d4', 'gamt', 'ncf2', 'poli', 'scamp4', 'gpr160', 'erp44', 'wdr61', 'aifm3', 'itpr1', 'fgfbp1', 'ccnl1', 'prr3', 'cdh13', 'tspan12', 'ankrd12', 'vcan', 'cachd1', 'krt10', 'ppm1h', 'etv3', 'adamts17', 'abcc12', 'trim47', 'tns1', 'tex13d', 'phc1', 'spats1', 'prrt1b', 'alox12', 'ccnk', 'nop10', 'krtap19-4', 'kantr', 'pkp4', 'slc6a3', 'ddx43', 'gale', 'defb1', 'atg2a', 'shank2', 'cfap300', 'b4galt7', 'gfm2', 'scin', 'slc16a9', 'klhdc8b', 'hsd3b1', 'ctnnd2', 'slc35d1', 'nuak1', 'tnfsf11', 'tas2r50', 'surf1', 'vps26a', 'kif26a', 'kdm4a', 'zswim1', 'crocc2', 'shbg', 'slc46a2', 'c1orf109', 'ccdc124', 'ankrd33b', 'gpr176', 'adh6', 'cr2', 'chst4', 'dll4', 'hnf1b', 'or7g2', 'sp8', 'mphosph8', 'tp53i13', 'papss2', 'rassf10', 'htr1e', 'ldb3', 'scnn1a', 'erbb2', 'mfsd10', 'tspear', 'ndufaf7', 'gcc2', 'vgll3', 'tnfrsf8', 'gpr78', 'plcb1', 'c5orf47', 'fsd2', 'tut4', 'cic', 'galnt16', 'fxyd4', 'tnik', 'slc13a3', 'slc7a4', 'raver1', 'rhot1', 'pgm1', 'myo1g', 'b4galnt4', 'spopl', 'wnt10b', 'tgfa', 'traf3ip1', 'stat1', 'cbln4', 'ndufa12', 'smim10l2a', 'grb10', 'c1orf87', 'tbl1y', 'xpnpep3', 'c3orf70', 'lin7a', 'zc3h3', 'zbed2', 'fabp12', 'ecel1', 'znf782', 'dph5', 'uba7', 'klf12', 'eif1', 'tepsin', 'or13h1', 'cd33', 'sh3bgrl', 'ecsit', 'psmg1', 'baiap2l1', 'mrs2', 'plpp7', 'tmem25', 'gpr141', 'tom1', 'klk13', 'lpo', 'lyst', 'foxn1', 'clk3', 'erich5', 'nrg3', 'rab23', 'nectin1', 'rnf212', 'otx2', 'nmnat3', 'irf2', 'cryzl1', 'ahdc1', 'ptprm', 'il1r1', 'pappa', 'commd10', 'ip6k1', 'gne', 'dhps', 'asb14', 'lmf2', 'fras1', 'colec12', 'ppm1j', 'asb6', 'ppara', 'c19orf18', 'tas2r38', 'eif4enif1', 'mef2d', 'opalin', 'ppil1', 'focad', 'ccdc82', 'slc7a9', 'jrkl', 'ppp1r37', 'uxs1', 'smim21', 'myadml2', 'thbs2', 'krtap13-1', 'fbxo36', 'sumf2', 'fam98a', 'klkb1', 'has1', 'arhgap32', 'plcd4', 'map3k2', 'ccdc190', 'c5orf58', 'rspry1', 'mpp1', 'ly9', 'leng8', 'gnat3', 'gemin7', 'pced1b', 'pyhin1', 'rapgef1', 'ctxn3', 'nadk', 'ccdc92', 'syde2', 'birc6', 'cmtm5', 'commd4', 'cd320', 'uqcrb', 'ca7', 'c16orf92', 'rnaset2', 'adap1', 'cdrt15l2', 'tap1', 'ctrb1', 'sost', 'nfyb', 'zdhhc14', 'prss37', 'pcdhgb6', 'cyp2w1', 'nomo1', 'kiaa2026', 'ccdc28b', 'glrx5', 'ppfia3', 'pum3', 'or6b2', 'cldn34', 'or51a7', 'bag3', 'tmem218', 'kiaa0040', 'msrb3', 'slc20a2', 'uvrag', 'c7orf33', 'znf563', 'eif4a3', 'adap2', 'abra', 'prr30', 'artn', 'spin3', 'tmem52b', 'spata6', 'ankrd34b', 'chuk', 'znf415', 'c2cd2', 'bicra', 'glod4', 'ndufa3', 'inpp5k', 'reep6', 'synpo', 'ets2', 'higd2b', 'gabra1', 'gatc', 'stard3nl', 'casp4', 'fam219a', 'avl9', 'rfx6', 'fndc5', 'pgbd1', 'lgals12', 'tbcd', 's100z', 'dctpp1', 'myh7b', 'sowahb', 'elmo3', 'mmut', 'rnf213', 'ess2', 'znf182', 'ptprb', 'galp', 'kdelr1', 'mtmr4', 'slc35b1', 'rhoj', 'wdr59', 'fam186b', 'emb', 'zmynd15', 'cd99l2', 'sos1', 'gnat2', 'hmbox1', 'fabp9', 'tmem185a', 'b3galnt1', 'taf4b', 'chd1', 'dhrs2', 'osgin1', 'paaf1', 'sebox', 'iqcm', 'c3orf56', 'ankra2', 'thsd1', 'ampd2', 'ppargc1a', 'znf302', 'tagln3', 'rae1', 'csn3', 'cpa3', 'fnip1', 'myt1', 'klhl15', 'znf831', 'lrpap1', 'c2orf66', 'pgam2', 'timmdc1', 'prrc1', 'nrg4', 'capn7', 's100a7a', 'cd5l', 'c1orf54', 'tshz2', 'zfp42', 'ccdc172', 'pdk1', 'tnfsf13', 'pik3c2g', 'znf644', 'ptpn22', 'ccnyl1', 'itga2', 'nf1', 'rnpep', 'cnn3', 'grem2', 'mlx', 'lrrc4', 'c1orf52', 'pter', 'kat6b', 'rimkla', 'lmln2', 'zmynd10', 'efcab2', 'jak3', 'brk1', 'rgs14', 'adamtsl3', 'ccl17', 'apoc3', 'fn3k', 'lmtk2', 'slc5a3', 'rell1', 'rapgef4', 'radx', 'mdh1b', 'nup88', 'grp', 'pcdha7', 'pgm3', 'hilpda', 'ca1', 'rrp12', 'ldlr', 'tspan18', 'itga7', 'nhlrc4', 'ssmem1', 'ctrl', 'lrr1', 'ppp2r3b', 'lrrc52', 'znf621', 'kdm1b', 'sft2d2', 'slc41a2', 'fam177b', 'lrp1b', 'casr', 'cstf2t', 'emp3', 'slc35g5', 'tcea3', 'slc36a1', 'fjx1', 'rbm20', 'pigu', 'smpd4', 'lrrc55', 'gpd2', 'nr4a3', 'or51a2', 'znf808', 'alg6', 'ybx1', 'tob1', 'dnaja1', 'unc5c', 'raph1', 'ptprc', 'apoa2', 'hr', 'gins3', 'srp72', 'tsc22d2', 'paqr4', 'c9orf152', 'ldlrad1', 'slc50a1', 'lamtor3', 'ngly1', 'havcr1', 'clecl1', 'tssc4', 'llph', 'rec114', 'slc5a11', 'pabpn1l', 'tceal3', 'ctdp1', 'c5orf46', 'znf239', 'fn1', 'chmp3', 'parp8', 'rep15', 'f2rl3', 'tfcp2l1', 'irf2bp2', 'ssr3', 'magef1', 'cckar', 'neurod6', 'ahnak', 'cox7b', 'xrcc6', 'tafa5', 'klhl28', 'apoh', 'rtl8c', 'acsl6', 'znf346', 'bche', 'fuca2', 'vnn3', 'fam43a', 'aldh7a1', 'golga7', 'zeb2', 'lrriq4', 'ptgdr2', 'vstm2b', 'kcna2', 'eva1a', 'vsig10l', 'dqx1', 'cipc', 'ncapg2', 'stat3', 'gdf6', 'hcar3', 'defb116', 'or1s2', 'nyx', 'dnmt3b', 'egfl7', 'kctd12', 'ankrd30bl', 'idh1', 'dspp', 'itm2b', 'renbp', 'ghitm', 'kdsr', 'rabepk', 'ccdc81', 'msmb', 'cep83', 'tead4', 'sdad1', 'armh3', 'pms2', 'cdhr1', 'pygo1', 'hspb3', 'rabac1', 'fcamr', 'tex43', 'shh', 'ifnl2', 'pcdh15', 'nkx2-2', 'dennd4a', 'il10', 'adar', 'fundc1', 'parp3', 'arpc2', 'dcst1', 'pygb', 'txlna', 'fam193b', 'tex38', 'adam23', 'ripply2', 'arhgap42', 'ly75', 'sik3', 'asprv1', 'nkx6-1', 'cyp2b6', 'cenpu', 'ssh1', 'tex264', 'jakmip2', 'dpysl2', 'senp8', 'kxd1', 'eme2', 'csmd2', 'coa6', 'chrnb1', 'tbc1d8b', 'cma1', 'sult2b1', 'capn15', 'odc1', 'kif3c', 'znf639', 'chchd2', 'dpp3', 'lipt2', 'znf544', 'srrt', 'tmem243', 'pth', 'znf260', 'irf2bpl', 'myef2', 'tcfl5', 'clec4a', 'pik3cg', 'vps26b', 'ces2', 'arhgap15', 'acy3', 'lipi', 'znf107', 'c9orf116', 'socs4', 'ltbp1', 'map3k12', 'krtap29-1', 'clcn3', 'myo1c', 'pex12', 'ncr2', 'xrcc2', 'edem1', 'slc25a11', 'grk1', 'ror1', 'ttc12', 'irf8', 'klk6', 'pou5f1b', 'znf350', 'tnfaip8l2', 'c9', 'zswim5', 'lrrn4', 'ikzf1', 'brcc3', 'phf13', 'supt3h', 'slc12a4', 'atf4', 'adgrd1', 'nkg7', 'spaca9', 'faap100', 'msmo1', 'zwint', 'c3orf85', 'mapkapk3', 'ing3', 'zdhhc17', 'arcn1', 'frzb', 'slc2a7', 'gpr63', 'mark3', 'l1td1', 'erc2', 'pcbp3', 'tmprss2', 's100a12', 'ppp2r5d', 'ap1s1', 'ccdc88c', 'znf85', 'arfgef2', 'acot4', 'jam3', 'nfkbiz', 'dip2b', 'mettl8', 'csrnp1', 'col4a2', 'znf785', 'zdhhc3', 'cox17', 'aebp1', 'gemin8', 'abhd12b', 'ccdc127', 'ropn1l', 'atp5mgl', 'foxp2', 'slc9a3r2', 'spata18', 'fut5', 'kif1c', 'arpc5l', 'clec18c', 'mtus2', 'prkag1', 'pitx1', 'il1rl2', 'naa50', 'ufc1', 'hpse', 'slc35b3', 'prep', 'raver2', 'nedd8', 'c17orf80', 'magee1', 'man2a1', 'dlx6', 'abhd14b', 'elmod1', 'reep5', 'slco5a1', 'wipf3', 'ndst2', 'nkrf', 'wwp2', 'sowahd', 'ptpn14', 'klrf1', 'klk4', 'cyth2', 'tmem239', 'pald1', 'dprx', 'celsr1', 'kcnk5', 'slc2a6', 'eif5', 'egln2', 'znf280a', 'slc35d3', 'enpp1', 'kif13b', 'klhl11', 'hs3st3b1', 'mcm3ap', 'plin5', 'pde7b', 'tuba3e', 'nfyc', 'eif4a1', 'inpp5f', 'mt-nd5', 'sh3d19', 'cir1', 'oprm1', 'fryl', 'ttc37', 'znf713', 'eppk1', 'mtmr1', 'plekhg3', 'aicda', 'hsd17b4', 'c5orf52', 'st8sia3', 'espl1', 'cbll1', 'kdf1', 'has2', 'ric1', 'thap2', 'fank1', 'daam1', 'atp9b', 'ptpn1', 'or8a1', 'las1l', 'psme3', 'gbp6', 'b3galt2', 'tasor2', 'adprh', 'or7a5', 'syt13', 'ppox', 'zrsr2', 'myo1b', 'pbx3', 'rapsn', 'ppig', 'pir', 'pou3f4', 'prickle2', 'plcd3', 'slc37a3', 'serpinb2', 'cbx6', 'awat2', 'serp2', 'itga8', 'hmgn1', 'gigyf2', 'clstn2', 'foxe3', 'slc35f2', 'magel2', 'oprd1', 'rbm6', 'fut11', 'ddah1', 'usp17l3', 'ints10', 'slc16a12', 'shcbp1', 'mpp7', 'stat5b', 'tmem104', 'htr2b', 'mapk11', 'foxi3', 'c1orf167', 'kcnj5', 'creld1', 'cyp1a1', 'pum1', 'fbxl2', 'slc22a13', 'rab3ip', 'dcc', 'rnf133', 'bri3bp', 'hnrnpul2', 'trim16', 'tma16', 'sema3e', 'rcbtb1', 'hivep2', 'dock9', 'foxl1', 'cd58', 'sec31a', 'or13c9', 'mycl', 'maea', 'kntc1', 'znf433', 'marcksl1', 'cxorf38', 'tex45', 'lpar3', 'kbtbd12', 'nsg1', 'ccdc197', 'cyb5r1', 'cadps', 'cdk15', 'zmym5', 'znf540', 'thap5', 'tcp10l', 'slc26a8', 'defb119', 'p2ry10', 'rnf185', 'mmp28', 'aftph', 'rtca', 'c8orf89', 'tasp1', 'ppfia4', 'or6j1', 'extl1', 'bhlhe40', 'nr2f2', 'polr2e', 'zfyve27', 'nfkb1', 'arhgdib', 'gpr20', 'p4ha2', 'ntmt1', 'nbpf19', 'trip12', 'znf284', 'znf492', 'gmcl1', 'cacna1e', 'krtap5-10', 'calb2', 'raet1e', 'qtrt1', 'krtap19-5', 'b4galt3', 'asah2', 'tnr', 'rab11fip1', 'eipr1', 'gfi1', 'prdx5', 'sphkap', 'myoz2', 'rhbdl2', 'plau', 'nanos2', 'zfr', 'orm1', 'rrp7a', 'sh3pxd2b', 'mid1', 'fah', 'raly', 'nod1', 'itprip', 'ankar', 'fcho2', 'slc36a3', 'lgr4', 'hs3st6', 'krt78', 'clul1', 'svbp', 'pkp1', 'zscan22', 'kif1a', 'znf326', 'sh3d21', 'hif1an', 'gpr135', 'slco3a1', 'psmb2', 'uba5', 'sema6a', 'pi16', 'tmem109', 'spsb3', 'etfdh', 'magoh', 'lrrc6', 'luc7l', 'fpr2', 'cc2d2a', 'manf', 'sqle', 'ccdc33', 'egf', 'ephb6', 'tnfsf9', 'ccdc77', 'znf583', 'vwa5b1', 'prdx1', 'or10t2', 'tex52', 'lpar5', 'slc5a5', 'znf14', 'f11', 'cmtm2', 'wwp1', 'rhobtb1', 'p2ry12', 'or6n2', 'or52l1', 'gpr137b', 'dnd1', 'ptpdc1', 'scg3', 'pak5', 'st3gal6', 'myorg', 'mex3b', 'ankmy2', 'adgrd2', 'hsd3b7', 'vstm4', 'dapk3', 'adgrf1', 'pnma3', 'tekt3', 'cdh24', 'sim1', 'slc47a1', 'dstyk', 'fcgr1b', 'mmp19', 'tamm41', 'nufip1', 'tnks1bp1', 'riiad1', 'amdhd1', 'kdm3b', 'slc4a1ap', 'or8k3', 'birc2', 'mga', 'ubr7', 'dusp7', 'epx', 'lrrc2', 'atp5me', 'ucp1', 'adrb2', 'arfgap3', 'serpina4', 'slc30a6', 'tent4b', 'ankrd36', 'acox1', 'cdyl', 'rab2a', 'bmx', 'jmjd8', 'alkbh7', 'plk4', 'vrk3', 'slc22a4', 'tbc1d15', 'hspd1', 'gpr6', 'cdc73', 'nup210', 'ghdc', 'cyp26a1', 'n4bp3', 'rbm38', 'eef1b2', 'ovgp1', 'plet1', 'bbs12', 'zfat', 'slit2', 'mtln', 'mycbp2', 'creb3l4', 'cyb561d1', 'enox1', 'psmc5', 'gsc2', 'edem3', 'mettl6', 'c9orf24', 'scamp3', 'cdh6', 'zic5', 'tm4sf19', 'shprh', 'pou6f2', 'dbnl', 'ptpa', 'ift20', 'agk', 'cntnap1', 'nup188', 'tbc1d7', 'scyl3', 'nyap1', 'slc25a20', 'tsen54', 'or4f6', 'or5k2', 'rab25', 'itprid2', 'pcyox1', 'pgap2', 'clmn', 'parp4', 'tshz3', 'taar9', 'ptgis', 'fam174b', 'znf532', 'fbxo11', 'c17orf78', 'stac', 'tfeb', 'epdr1', 'or4b1', 'clock', 'ppp1r17', 'golga8o', 'znf562', 'syce3', 'fam24a', 'il13ra2', 'actc1', 'tbx1', 'erap1', 'ccdc120', 'layn', 'rad51ap1', 'nlrp13', 'gfi1b', 'igsf22', 'psg5', 'letm1', 'lce1a', 'grem1', 'abcc3', 'znf586', 'bpifb1', 'neurl2', 'spaca4', 'npepl1', 'ankrd30b', 'mylk2', 'dffa', 'rfc3', 'dnah10', 'smagp', 'otp', 'kcnip1', 'ubr2', 'cgnl1', 'il1rapl2', 'cbfa2t3', 'ehd3', 'tbpl1', 'lonp1', 'serpina7', 'pcgf3', 'txndc5', 'rnf146', 'hdhd3', 'upk2', 'nedd4l', 'siglec14', 'dnajc3', 'znf138', 'ifi35', 'cd207', 'plekhj1', 'ercc6', 'smpd3', 'chtf8', 'hunk', 'gstz1', 'ccr6', 'plppr5', 'gem', 'gab4', 'kif16b', 'arhgap27', 'siglec1', 'septin11', 'desi2', 'erh', 'gpat4', 'prr15l', 'plxnd1', 'cbr4', 'sc5d', 'cntn1', 'znf273', 'prdm1', 'slc16a4', 'fgf17', 'oprl1', 'znf106', 'znf322', 'crb2', 'tox2', 'ptbp2', 'wdsub1', 'tor1b', 'efnb2', 'tmem209', 'fndc10', 'thada', 'poc1a', 'cep44', 'cox7a2', 'kcnh2', 'scand1', 'hnrnpr', 'ankrd60', 'hmces', 'mief2', 'pax8', 'acot12', 'pkp2', 'cela3b', 'ube3a', 'tmem231', 'akap9', 'cep76', 'haus3', 'crygn', 'sardh', 'ascc1', 'snrpg', 'dnah17', 'serbp1', 'chmp1b', 'b2m', 'ptf1a', 'parg', 'apol6', 'tshz1', 'sqor', 'znf416', 'vcpip1', 'tnfrsf11b', 'rab17', 'stx16', 'ncstn', 'znf75a', 'ppp1r14b', 'dytn', 'znf385d', 'dap', 'nop9', 'ctdspl2', 'cdh7', 'ube2a', 'prpf40b', 'cdc16', 'acaca', 'btn3a1', 'znf729', 'trim58', 'dnajc22', 'rasgrp2', 'rufy1', 'usp48', 'flywch2', 'cd52', 'osbpl7', 'cyp4f3', 'rundc3a', 'id4', 'asb16', 'ugp2', 'zdhhc20', 'ogfrl1', 'rdh10', 'slc39a10', 'znf324', 'orc3', 'sftpd', 'sostdc1', 'c14orf180', 'fem1b', 'chchd7', 'myoz3', 'dnm1l', 'elmo1', 'semg2', 'efcab14', 'hnrnpdl', 'srp19', 'or56a5', 'tle2', 'ros1', 'piga', 'f7', 'plxnb1', 'plekho1', 'glra1', 'zscan16', 'snorc', 'sass6', 'eogt', 'rnase7', 'sertm2', 'aimp1', 'rbbp6', 'rec8', 'naa40', 'prdm11', 'tex10', 'rab34', 'tmem177', 'coro2a', 'itgad', 'cd48', 'tmem225b', 'alg2', 'lca5l', 'arhgap8', 'bicdl2', 'slc6a14', 'mcmdc2', 'prph2', 'aagab', 'thbs1', 'lancl3', 'zc3hav1l', 'appl2', 'rtraf', 'cd47', 'plac8', 'catsper3', 'csnk1e', 'cetn1', 'stk32c', 'or3a1', 'nbpf11', 'tomm5', 'bahd1', 'lin37', 'igfl2', 'egfl6', 'card19', 'zscan4', 'sec62', 'tmem196', 'cerk', 'oplah', 'tubb2a', 'spag7', 'pllp', 'pcdhga2', 'c10orf143', 'naglu', 'rfx1', 'slc16a3', 'ovol2', 'erich3', 'commd7', 'klk10', 'prpf31', 'slc25a4', 'wdr43', 'tm4sf1', 's100a13', 'abracl', 'rnf138', 'nolc1', 'nol4l', 'il2ra', 'saxo2', 'akt2', 'kiaa1958', 'cela2b', 'nfx1', 'tspan32', 'vgll4', 'sirt7', 'spats2l', 'st6galnac2', 'eif2ak2', 'il5ra', 'phip', 'ccs', 'adgrf5', 'hhip', 'phf12', 'prss21', 'gcat', 'qrsl1', 'tceal6', 'fam189a1', 'hmgcr', 'hps5', 'slc35g3', 'iars2', 'ugt1a4', 'ifitm10', 'c1qtnf4', 'cyb5r3', 'clec2d', 'nudt15', 'snrnp27', 'ppp1r1a', 'lin52', 'mmachc', 'abhd15', 'slc25a25', 'mgat4b', 'lgals4', 'cntn2', 'zbtb9', 'runx3', 'actg2', 'rgpd4', 'olah', 'dmd', 'map7d3', 'rbm7', 'prr27', 'washc3', 'cat', 'ankrd40', 'ccdc9', 'rad54l', 'phlpp1', 'ppp1r8', 'clec20a', 'chaf1a', 'fbxo31', 'vdac1', 'dcaf8l2', 'ca12', 'ube3d', 'stkld1', 'tmem270', 'zkscan1', 'pbdc1', 'galntl6', 'c4orf33', 'trim32', 'ankrd53', 'dydc2', 'vsx1', 'fbxo33', 'man2b1', 'tceal9', 'sumo2', 'ficd', 'gpalpp1', 'lama2', 'synrg', 'clgn', 'pdzrn3', 'fhdc1', 'hpdl', 'yipf4', 'nbpf20', 'c8orf34', 'apobec4', 'rbsn', 'marf1', 'arpin', 'znf629', 'cd46', 'hes5', 'e2f6', 'toe1', 'unc5a', 'erlin2', 'dnajb5', 'c5ar1', 'krtap19-6', 'tmem59', 'ccpg1', 'scrn3', 'ppil3', 'nr2f6', 'c10orf67', 'thumpd2', 'tbc1d12', 'phldb2', 'sufu', 'dio3', 'nudt19', 'pcif1', 'tafa2', 'rgs1', 'htr2a', 'atp1b4', 'timd4', 'sall3', 'klf9', 'dusp5', 'epgn', 'trim44', 'med13', 'rorb', 'cebpzos', 'capn12', 'rubcn', 'shisal2b', 'hrct1', 'il1b', 'nptx2', 'zcchc3', 'pudp', 'itgb1bp2', 'rnft1', 'taz', 'gfy', 'cyb5r4', 'tmlhe', 'wapl', 'gabrr1', 'cd8a', 'mafa', 'dnaaf2', 'apobec2', 'sv2b', 'fndc11', 'epb41l2', 'wnk1', 'zfand2b', 'c16orf90', 'ftl', 'wwc3', 'znrf2', 'tnfsf10', 'bex4', 'ercc4', 'efcab7', 'lcorl', 'crtc2', 'baalc', 'fgfrl1', 'zc3h6', 'glis3', 'crybg3', 'arl15', 'rfc1', 'rad17', 'capza2', 'nyap2', 'c4orf54', 'zfp28', 'pex5l', 'bmp8b', 'mphosph9', 'cnksr2', 'krt80', 'or8h2', 'rnf224', 'lmf1', 'birc7', 'pcgf2', 'znf214', 'ubald2', 'zbtb7a', 'nid2', 'ucp2', 'tedc2', 'pbk', 'tpcn2', 'cplane1', 'dnm1', 'ubxn2a', 'ntrk3', 'map3k7', 'junb', 'gpr39', 'mnda', 'mief1', 'slc25a40', 'atp6v0e1', 'mt2a', 'trrap', 'rtf2', 'znf775', 'hspb2', 'vps18', 'znf790', 'b9d1', 'adam29', 'fam241a', 'ablim1', 'plat', 'ndufa6', 'zmat3', 'tmem54', 'znf582', 'apc', 'aurka', 'tnnt2', 'kcnrg', 'ppcs', 'grhl1', 'lig4', 'gcnt7', 'limk2', 'wdr6', 'tpgs2', 'snx31', 'sh2d6', 'c1orf226', 'pmel', 'eno2', 'rnf44', 'trim69', 'znf511', 'ppp1r36', 'utp6', 'disp2', 'mfsd14b', 'c1orf43', 'gsg1', 'adora2b', 'znf587b', 'krtap6-1', 'znf664', 'endod1', 'ifitm2', 'tas2r42', 'tmem52', 'nwd1', 'myo5b', 'agxt2', 'atp4a', 'stard10', 'spdl1', 'hoxc8', 'ifrd2', 'ccdc107', 'chd7', 'calb1', 'tecrl', 'mlycd', 'dapk1', 'usp2', 'pde6h', 'ttc17', 'birc5', 'col26a1', 'fads1', 'arfgef3', 'apcdd1', 'sarm1', 'micu1', 'otc', 'idh3g', 'tmigd3', 'blmh', 'znf704', 'frrs1l', 'mrm1', 'ier2', 'taar6', 'rmnd5a', 'map1s', 'rmdn2', 'scrn1', 'hccs', 'sema3f', 'ppp1r1b', 'tex35', 'tll1', 'supv3l1', 'sox3', 'ccdc62', 'nr1h2', 'alkal1', 'art5', 'zglp1', 'ankrd9', 'ddb1', 'mroh2a', 'stard13', 'pnpla1', 'plvap', 'serpind1', 'aunip', 'or4c6', 'scgb3a1', 'cmip', 'ahi1', 'srd5a1', 'arhgef17', 'nkx2-8', 'mmp17', 'sgo2', 'tapbpl', 'kctd19', 'bpifa2', 'col5a2', 'scrib', 'slc6a13', 'htr1a', 'ppip5k1', 'angptl3', 'dusp28', 'itga4', 'gng10', 'dipk2b', 'tesk1', 'fam83d', 'pmpca', 'prmt2', 'mfge8', 'tp73', 'ubxn8', 'itgal', 'ppm1l', 'klc4', 'serpinf1', 'trim25', 'galr2', 'sacs', 'kif23', 'tssk2', 'or13c2', 'ids', 'atxn7l3b', 'rab10', 'cd109', 'cnbp', 'ncoa3', 'strn', 'wfikkn1', 'p3h4', 'lilra6', 'znf100', 'r3hdm4', 'prss3', 'znf155', 'uckl1', 'zmpste24', 'usf2', 'znf404', 'ca3', 'gpr15', 'rcor1', 'c19orf33', 'akirin2', 'osgep', 'zfyve1', 'fam210b', 'morn2', 'glyctk', 'alpk1', 'fam20a', 'pcdha5', 'armcx6', 'tent2', 'ddo', 'smtnl2', 'pigf', 'pbov1', 'yeats2', 'pkia', 'pfdn1', 'ppbp', 'mep1a', 'rhob', 'ccdc142', 'ccng2', 'armc10', 'pdcd10', 'zbtb39', 'znf516', 'atrn', 'eif2d', 'nek3', 'or4q3', 'morn4', 'hpse2', 'gja10', 'ermard', 'trim23', 'pus7l', 'plekho2', 'ifitm3', 'cars2', 'plxnc1', 'hoxc10', 'notch1', 'bach2', 'glg1', 'pdgfd', 'max', 'nek6', 'abca5', 'gadd45a', 'nmnat2', 'ncam2', 'rgs13', 'foxd2', 'spr', 'slc44a3', 'ddx55', 'rrp1b', 'tcerg1', 'nup50', 'tmprss13', 'itprid1', 'znf707', 'nsun6', 'vwa2', 'nrn1', 'ahcyl1', 'cip2a', 'tex44', 'pycr2', 'gpatch11', 'snrnp48', 'fam241b', 'maml2', 'map3k7cl', 'cyp4b1', 'shq1', 'c12orf57', 'igsf5', 'ttbk1', 'gpc2', 'or3a2', 'lexm', 'aurkc', 'gmcl2', 'rnf130', 'tlcd1', 'lmo2', 'klhdc1', 'gabra2', 'tnxb', 'pigg', 'or5d3p', 'triml1', 'dhh', 'nr2e3', 'or52n4', 'herpud1', 'tbxa2r', 'cblc', 'nup85', 'npy2r', 'tlr6', 'cnp', 'gdpd3', 'coro6', 'nxf1', 'cmtr2', 'ift81', 'c14orf119', 'hsd17b12', 'prr5', 'ccl20', 'cd86', 'il10ra', 'znf778', 'chac2', 'ap4m1', 'heatr3', 'acer1', 'wfdc10b', 'b3gnt4', 'naif1', 'pmis2', 'ccp110', 'eda', 'lmbrd1', 'krtap5-1', 'ddx49', 'lypd5', 'ccdc158', 'pcdhga12', 'pcolce2', 'spop', 'krt34', 'dazap1', 'rap2b', 'trdn', 'ppm1m', 'kif20b', 'spock3', 'or2l13', 'slc9a1', 'scgb1a1', 'tmem154', 'c16orf74', 'hlx', 'fbxo45', 'smim15', 'pcdhb2', 'dpep3', 'slc43a2', 'nr2c2ap', 'tm2d3', 'ppp1r14a', 'c2cd6', 'gast', 'klhl18', 'dusp12', 'cox20', 'sfpq', 'avil', 'ramac', 'narf', 'iqch', 'med21', 'asnsd1', 'aldh1b1', 'apool', 'taar5', 'uroc1', 'vps37c', 'crocc', 'mbd4', 'tyw1', 'uap1', 'zscan21', 'ckmt2', 'or1c1', 'ifna14', 'setd9', 'pcca', 'krt27', 'cysltr1', 'tigd4', 'b3galt1', 'arntl2', 'ccnf', 'rprd2', 'ccr8', 'cd9', 'smtn', 'ikzf2', 'plch1', 'selenos', 'exoc3l4', 'mt-nd2', 'prr18', 'nsun5', 'hgf', 'gga1', 'smurf2', 'apobec3f', 'plcb4', 'ccdc168', 'shoc2', 'itgam', 'tmc6', 'siglecl1', 'tp53i11', 'etfbkmt', 'rerg', 'nnmt', 'ttc23l', 'c1orf112', 'atp11a', 'vangl1', 'pclaf', 'c2orf42', 'serpinb11', 'uba52', 'otx1', 'c9orf43', 'snrpb', 'zscan30', 'cst9l', 'psmc6', 'exosc6', 'tmx3', 'ppan', 'prom1', 'slc25a18', 'cox8a', 'npb', 'flrt2', 'abca1', 'adrb3', 'cdyl2', 'kcna7', 'phf2', 'cyp2d6', 'lsp1', 'lysmd4', 'dhrs4', 'smim22', 'esco1', 'rel', 'adm5', 'klk9', 'tmem184c', 'slc37a1', 'dcaf8l1', 'tmprss11d', 'proz', 'cdip1', 'nck1', 'mstn', 'mmp12', 'tnfrsf11a', 'hsd17b13', 'adrb1', 'itpkc', 'znfx1', 'ska3', 'pigq', 'usp35', 'nrbf2', 'glt1d1', 'alkbh6', 'magec3', 'ski', 'cela1', 'myo10', 'rab11fip5', 'gabbr1', 'mtnr1a', 'nat16', 'zbtb45', 'wnt3a', 'lgr6', 'mapk3', 'myo18a', 'pex10', 'sox15', 'gtf2ird1', 'orc2', 'rab6b', 'sall2', 'rpusd3', 'mios', 's1pr2', 'bspry', 'sdc4', 'sema4a', 'acsl4', 'fam118a', 'ptx4', 'nat8l', 'pld1', 'pheta2', 'eif3m', 'rimbp2', 'snx11', 'st6galnac3', 'txndc15', 'dact3', 'loxl1', 'tas2r40', 'kcnab1', 'tmem80', 'usp24', 'eif2ak3', 'sntn', 'ermn', 'pnn', 'or6c2', 'adcy5', 'med26', 'bsnd', 'gsta3', 'ccl23', 'ube2g1', 'naa35', 'nfrkb', 'pex19', 'sth', 'poglut1', 'vti1b', 'dtna', 'esx1', 'phox2b', 'ttyh2', 'rcan1', 'pgs1', 'fam170a', 'cltc', 'nid1', 'adgrb3', 'ehmt2', 'atp12a', 'spata2l', 'serac1', 'zscan9', 'vil1', 'atxn7l1', 'lrrn4cl', 'or2b2', 'ubfd1', 'fam227a', 'urb2', 'ccl19', 'rxra', 'chmp4b', 'or10ag1', 'lrrc58', 'gzma', 'bicral', 'pf4', 'lrrc73', 'kcnk4', 'usp44', 'col4a1', 'ndufc2', 'krt36', 'ssbp4', 'mageb17', 'qrich2', 'itfg2', 'meig1', 'uri1', 'prss57', 'nmb', 'ppp1r15b', 'icos', 'calml4', 'tprx1', 'slit3', 'eif4e2', 'kif7', 'slc35g2', 'nhlrc1', 'or5an1', 'gbp4', 'mtif3', 'gramd1a', 'phldb3', 'polr2l', 'kcnc4', 'etv1', 'gigyf1', 'c6orf141', 'asic1', 'krt6c', 'romo1', 'dmap1', 'ddrgk1', 'fbxl19', 'aim2', 'scaf8', 'rsf1', 'tspyl4', 'tmem26', 'atr', 'cisd3', 'tgm6', 'usp40', 'dock4', 'cstf1', 'septin7', 'copa', 'trim61', 'srpx', 'cep170b', 'trim42', 'il36g', 'gsdmc', 'tram1l1', 'smim12', 'rabl6', 'cep85', 'fxr2', 'pttg2', 'il18bp', 'cxcl9', 'rpp25l', 'pom121', 'mef2a', 'glul', 'tmem14b', 'plekhm2', 'or8b12', 'eef1a2', 'cib4', 'hspb7', 'atp6v1c2', 'gimap8', 'spata31d3', 'ca10', 'ndufv3', 'th', 'plaur', 'snx20', 'tlr3', 'rbm41', 'scaper', 'lef1', 'prss58', 'pcdhb13', 'ercc5', 'irak1bp1', 'majin', 'thap1', 'lmx1a', 'slc25a31', 'frmd1', 'galnt11', 'rftn2', 'shroom2', 'jcad', 'pde6d', 'taf11l11', 'nxf3', 'rpf1', 'ift140', 'mecr', 'nipal4', 'bbip1', 'ccdc71', 'abhd10', 'ezr', 'klhl21', 'ctdsp2', 'eef2kmt', 'hdgfl3', 'comt', 'gpaa1', 'tmem190', 'bdh2', 'rab40c', 'selenok', 'ncoa6', 'ccni2', 'tbp', 'plekhf2', 'fam98c', 'uqcrhl', 'smim23', 'scnn1b', 'sil1', 'cela2a', 'or6k6', 'glod5', 'shisal2a', 'igsf21', 'rad51d', 'me1', 'utp23', 'npm2', 'kcns2', 'gucd1', 'rab3a', 'ahsp', 'nr5a1', 'shisa9', 'cpa6', 'arhgap23', 'golga7b', 'nvl', 'gns', 'znf439', 'sec23b', 'mchr2', 'cept1', 'phf21a', 'setd5', 'klf3', 'ngrn', 'pidd1', 'terb1', 'scn4a', 'mgat4d', 'or4l1', 'slc13a5', 'tnk2', 'trmt112', 'rsl24d1', 'pde6b', 'znf543', 'igsf6', 'scara5', 'frem1', 'lrmda', 'map4k5', 'polr2c', 'mllt11', 'hexb', 'znf10', 'grb7', 'mrgprx4', 'accsl', 'srsf3', 'vmac', 'ptges3l', 'gzmh', 'znf232', 'fiz1', 'henmt1', 'ntn3', 'lancl2', 'cilp2', 'rdh16', 'znf202', 'dmrta1', 'znf285', 'u2surp', 'cyba', 'znf738', 'muc13', 'nol3', 'ccar2', 'dync2li1', 'anks1b', 'pgrmc2', 'ptar1', 'dpysl4', 'nos1ap', 'lyplal1', 'ccl3', 'cacnb1', 'tex13c', 'cntln', 'klhl31', 'baz2b', 'niban2', 'cdk4', 'rbmxl3', 'c11orf45', 'ankrd13d', 'fgd4', 'pabpc3', 'sp4', 'atp5f1b', 'fam214a', 'ces3', 'gjd3', 'wdr45b', 'znf599', 'kctd3', 'muc20', 'znf121', 'znf750', 'deup1', 'iqcg', 'znf519', 'lims2', 'asgr2', 'ifi6', 'rpel1', 'znf142', 'znf735', 'fhod3', 'or13c3', 'araf', 'slc7a14', 'ticam2', 'pcdhga6', 'il1r2', 'ezh1', 'klf10', 'c1orf56', 'tmtc4', 'zfyve19', 'tmsb10', 'shisa7', 'nprl2', 'daglb', 'muc17', 'gemin2', 'crebl2', 'itpk1', 'jam2', 'r3hdm1', 'ly96', 'fam53a', 'cdc40', 'msmp', 'dlg4', 'lysmd1', 'immp1l', 'elovl4', 'cdk3', 'actb', 'myrf', 'tpgs1', 'tsnare1', 'f13a1', 'asb8', 'aars2', 'ddit4l', 'chad', 'znf776', 'hira', 'ccr3', 'skida1', 'gdf5', 'itsn1', 'ube2j2', 'pja1', 'spegnb', 'ep300', 'e2f1', 'stx8', 'sort1', 'rab20', 'fkbp9', 'cdh4', 'tspan16', 'sec31b', 'amot', 'scrt1', 'ccdc181', 'srgap3', 'actbl2', 'zdhhc13', 'arl16', 'e2f2', 'esrrg', 'cnppd1', 'bmp2k', 'rnf145', 'lgals14', 'gpr182', 'ppwd1', 'tas1r2', 'znf804b', 'tmem38a', 'tex261', 'or4k1', 'gpbp1', 'rbm11', 'cdv3', 'eif2a', 'fgf22', 'gzmm', 'osbpl10', 'sod3', 'adra1b', 'trappc3l', 'cebpg', 'llgl1', 'nap1l4', 'eps8l1', 'spata46', 'fam126a', 'or8j1', 'slc4a7', 'cdc42se2', 'gria1', 'gfod1', 'sgk3', 'foxd4l5', 'zhx3', 'p3h1', 'ifnlr1', 'fbln5', 'mta3', 'wdr49', 'sfn', 'prokr1', 'dhrs12', 'card10', 'bmp15', 'arsg', 'bin3', 'lzic', 'myl1', 'dnttip2', 'or2a4', 'parpbp', 'or52b6', 'degs2', 'pglyrp1', 'lsmem1', 'krtap10-3', 'gkap1', 'diaph3', 'abhd8', 'nfam1', 'fahd2a', 'rai2', 'smarce1', 'nt5dc4', 'ccdc136', 'minar2', 'ly6e', 'dis3', 'znf624', 'scn11a', 'c7orf25', 'eomes', 'nxpe1', 'nudt8', 'lasp1', 'exog', 'cope', 'ralyl', 'ppp1r3f', 'atp6v0c', 'bet1', 'cpne5', 'fam83h', 'mms19', 'serpinb1', 'defb4a', 'chst8', 'hs2st1', 'dnah6', 'slu7', 'nxpe3', 'mettl26', 'pdia6', 'hepacam', 'smim26', 'gimap6', 'usp19', 'ung', 'scn2b', 'lama1', 'kcne5', 'tigar', 'fgf8', 'lrig2', 'rab40b', 'cebpz', 'rtn1', 'smim27', 'phospho2', 'krtap21-1', 'tnrc6c', 'rbm12b', 'fam216a', 'znf229', 'crtam', 'rnase3', 'fcgr2a', 'slc9b1', 'crot', 'sox14', 'dclre1a', 'barhl2', 'churc1', 'maz', 'mst1r', 'virma', 'pigt', 'arfrp1', 'impa1', 'lad1', 'sptbn4', 'ccdc182', 'tbc1d23', 'or56b4', 'or8b8', 'meaf6', 'rarb', 'hectd4', 'itgax', 'nktr', 'cdca2', 'or9k2', 'setmar', 'htra4', 'dlg5', 'smoc2', 'slc27a6', 'luzp2', 'prr7', 'tstd2', 'dsc2', 'chek2', 'znf692', 'cdh10', 'barx2', 'hoxa7', 'ddx18', 'zic1', 'or6s1', 'paxip1', 'glis2', 'exoc1l', 'appl1', 'vash1', 'ffar3', 'c16orf86', 'cklf', 'pramef14', 'dtymk', 'prl', 'ptp4a3', 'slc37a4', 'rcvrn', 'hpca', 'ppargc1b', 'uaca', 'myo9b', 'gpn1', 'c2cd4d', 'grk3', 'znf362', 'rft1', 'ier5', 'aif1', 'myh10', 'hsdl2', 'dnajb1', 'wdr11', 'pitpnm3', 'samd11', 'megf9', 'snai3', 'znf766', 'sh3glb1', 'gypa', 'tmem247', 'cnih1', 'ltbr', 'tecr', 'cdr1', 'wdr47', 'egln1', 'abcf3', 'foxo3', 'trib1', 'zfpl1', 'rnase11', 'prdm5', 'wdr7', 'plscr2', 'acads', 'znf518a', 'trim9', 'sparc', 'wdr46', 'ttc22', 'rala', 'vhl', 'hvcn1', 'akr1c8p', 'foxa1', 'ly6g5b', 'ucn3', 'mapt', 'ppcdc', 'nlrp8', 'xkrx', 's100a4', 'bet1l', 'gsta2', 'slc22a24', 'hs6st2', 'ydjc', 'ccl28', 'smarca2', 'ncor2', 'il15ra', 'tango6', 'cxcl6', 'abhd13', 'cnot6l', 'gspt2', 'gcn1', 'nsg2', 'sult1c4', 'enc1', 'cox4i2', 'chst7', 'cox19', 'ncapd3', 'alms1', 'mcph1', 'ccdc96', 'lrriq1', 'abca13', 'apol1', 'c4orf46', 'btnl2', 'optn', 'sema4b', 'grpr', 'nudt10', 'acox3', 'fam171a1', 'zc3h10', 'lix1', 'snx3', 'syngr3', 'iqcd', 'asxl3', 'fcgr2b', 'aco2', 'fxn', 'bckdk', 'abtb1', 'or4d9', 'snx16', 'smco2', 'hjv', 'tomm22', 'kcnh7', 'znf263', 'gng4', 'atp8b3', 'noc4l', 'got1', 'nfatc2ip', 'krtap6-2', 'ncoa1', 'ufd1', 'or5d18', 'shtn1', 'ptprf', 'ovch2', 'cfap100', 'fam71e2', 'far1', 'cdhr2', 'zbtb47', 'c1qtnf7', 'rexo2', 'abca3', 'ct83', 'ccnd3', 'wasl', 'col14a1', 'acbd6', 'tuba1a', 'spaca3', 'fam131b', 'fam3d', 'exosc1', 'atp13a2', 'itga5', 'ankrd16', 'tifa', 'pax2', 'ntng1', 'tcirg1', 'wbp2', 'arhgap18', 'fip1l1', 'grin2a', 'napa', 'odr4', 'gsn', 'tas2r39', 'or52i1', 'dctn1', 'ppp2r1a', 'bok', 'tma7', 'resf1', 'timm8a', 'irak2', 'pde6a', 'dock1', 'mrgprg', 'ifne', 'mocs1', 'pdc', 'il23a', 'map3k13', 'dnm2', 'smcp', 'cldn7', 'arl8a', 'znf703', 'gcsaml', 'znf552', 'psg7', 'arsi', 'purg', 'dcun1d1', 'ramp1', 'fam107b', 'srsf2', 'arhgef1', 'sf3b6', 'spag6', 'cln8', 'rnf150', 'tlcd3b', 'wasf1', 'slc66a3', 'c1qtnf3', 'kdm4b', 'tmem203', 'znf827', 'ube2d1', 'btbd16', 'scyl1', 'dazl', 'stn1', 'cenpj', 'med9', 'ctbs', 'ndufs4', 'mslnl', 'qsox1', 'nudt22', 'st6gal2', 'myo3b', 'kat2b', 'plekhh1', 'tnfsf8', 'bscl2', 'spire2', 'olfml2a', 'dhx8', 'snf8', 'tp53tg5', 'rem2', 'ttc13', 'ccr2', 'rrh', 'carm1', 'zc3h12c', 'fes', 'p2ry14', 'klrg1', 'slc38a2', 'krt31', 'trpm6', 'josd2', 'alpg', 'gclm', 'pln', 'tmed5', 'abcd3', 'or56a4', 'ccdc43', 'sart1', 'thrb', 'grin3a', 'cd44', 'xrra1', 'pstk', 'tmem183a', 'senp3', 'fam160b2', 'or2t8', 'ctla4', 'kctd21', 'dgcr2', 'slc25a10', 'igfl4', 'or52e5', 'esyt3', 'nhej1', 'tpra1', 'cep41', 'znf596', 'rtp5', 'ankrd50', 'lrrfip2', 'fahd1', 'smim20', 'znf677', 'zbtb17', 'col28a1', 'hras', 'or6c1', 'c6orf136', 'mtor', 'ceacam8', 'c20orf85', 'xpot', 'mgst2', 'pde4b', 'pkn1', 'trmo', 'selp', 'glb1l', 'haus2', 'slc1a5', 'znf444', 'stag3', 'atf6b', 'ldah', 'rad9a', 'soga3', 'oosp1', 'retreg3', 'krtap19-8', 'scn3b', 'strc', 'rwdd2b', 'ralb', 'rph3al', 'cbln2', 'cbll2', 'scml4', 'pcbp1', 'znf57', 'penk', 'anxa1', 'grin2b', 'atoh8', 'ero1b', 'bicd1', 'afap1l1', 'prdm8', 'slc37a2', 'trim27', 'kazald1', 'cish', 'clec12a', 'lonrf3', 'ebf3', 'lrrc3c', 'ppme1', 'acot13', 'cpxm1', 'znf431', 'plagl2', 'slc25a43', 'fut6', 'lrat', 'otud7b', 'tyr', 'rad21', 'fbxl8', 'dact2', 'cntnap3b', 'katnal1', 'acat2', 'slc2a4', 'gage1', 'c10orf120', 'ska2', 'astn1', 'ttc39c', 'hivep3', 'znf575', 'tmem244', 'acvr1b', 'bhmt', 'rpe65', 'cops6', 'cib2', 'tom1l2', 'sec14l4', 'tmem170b', 'timm23', 'lilrb5', 'plxna2', 'syne1', 'dao', 'tiprl', 'tpk1', 'alkbh2', 'mrto4', 's100a3', 'c20orf204', 'mxi1', 'plbd1', 'zscan32', 'gtf2f1', 'rrm2b', 'rem1', 'ier5l', 'nkapd1', 'rnaseh2a', 'slc15a1', 'gbp2', 'hmgcl', 'mtx3', 'asap1', 'tpcn1', 'gpr183', 'rhod', 'rad51b', 'scnn1g', 'spata31a6', 'slc66a1', 'or2f2', 'aoc2', 'ppt1', 'znf134', 'rab3gap2', 'otulinl', 'cbln3', 'entpd3', 'cend1', 'tfr2', 'kif21a', 'ipo13', 'kif12', 'klhl20', 'usp34', 'dop1a', 'ntm', 'tspan31', 'dync1i2', 'ormdl1', 'tmem63c', 'zdhhc21', 'ccnq', 'sfi1', 'gal3st1', 'tnni2', 'arhgef25', 'wdr36', 'hspb8', 'gnai2', 'marveld2', 'epha1', 'or2a14', 'znf835', 'dchs2', 'ldhd', 'slc29a3', 'mfsd6', 'pdcd2l', 'rho', 'ccdc184', 'mcrs1', 'cox18', 'prss38', 'or51t1', 'prox2', 'camkk1', 'kiaa1210', 'znf658', 'abhd18', 'scaf4', 'col6a2', 'mterf2', 'tbc1d2', 'adh1b', 'mpped1', 'sec14l2', 'pole', 'c17orf75', 'hyal2', 'rbm22', 'mapre1', 'pcdh11x', 'aptx', 'ccdc91', 'cxcl12', 'pibf1', 'nox1', 'habp4', 'adgra3', 'slc27a2', 'hspa14', 'lsr', 'ccdc83', 'kcnk12', 'slain1', 'usp15', 'lefty2', 'ptprk', 'mboat1', 'vstm1', 'c20orf96', 'insl6', 'plcg1', 'amer1', 'aldh1l1', 'trappc13', 'tas2r8', 'actn1', 'znf689', 'prkab2', 'cltcl1', 'gtf2a2', 'fcgbp', 'atp2b2', 'dcst2', 'ankub1', 'dgkd', 'c5orf34', 'frmpd3', 'ndufa10', 'rab31', 'phkg1', 'elmo2', 'nln', 'atn1', 'ehbp1', 'tex55', 'cfhr5', 'ccdc93', 'psd', 'sohlh1', 'lilra1', 'six5', 'hmox2', 'znf678', 'fam53b', 'ell2', 'peak1', 'klrc4', 'rnf43', 'fcgr1a', 'hspe1', 'ush1c', 'psma2', 'ferd3l', 'kansl2', 'lrch1', 'chchd4', 'zbtb32', 'nol7', 'znhit1', 'cbl', 'slc16a14', 'osbpl2', 'b3gnt5', 'gucy1b1', 'lrp4', 'lpgat1', 'cep85l', 'tppp2', 'kcnk13', 'unc13d', 'letm2', 'palmd', 'akr1c2', 'ypel1', 'btbd19', 'fam178b', 'cd7', 'lpcat3', 'foxj2', 'arl6ip4', 'gulp1', 'ppp2r3a', 'cox6a1', 'map2k7', 'dand5', 'stmn4', 'cers3', 'rhbg', 'coro2b', 'pnma6f', 'syndig1l', 'insig1', 'aff2', 'fen1', 'uggt1', 'lzts2', 'plpp1', 'usp6', 'unc119', 'coq10a', 'c20orf194', 'kiaa0895', 'fam135a', 'usp17l7', 'mxra5', 'paxx', 'pcdhga7', 'cyp4f12', 'adam7', 'slc23a3', 'tgoln2', 'scn9a', 'rfxap', 'baz1a', 'depdc1b', 'atp5mc1', 'nhs', 'taf1', 'nufip2', 'slc19a2', 'mbd6', 'cpb2', 'slc25a27', 'bdnf', 'sh2d3a', 'noto', 'armh1', 'aph1b', 'zeb1', 'apol2', 'fetub', 'scel', 'znf146', 'hmcn1', 'amigo2', 'hes2', 'hgh1', 'lime1', 'zbtb11', 'or2t12', 'avpi1', 'cd79b', 'etnppl', 'or6c75', 'plxna1', 'gstk1', 'ndufb9', 'wfdc11', 'six3', 'epn1', 'anapc7', 'cabyr', 'dctd', 'bnc2', 'mvb12b', 'rbm17', 'cul5', 'rfwd3', 'mars2', 'dph2', 'lrrc66', 'alox5ap', 'fhl3', 'ascl5', 'or1g1', 'znf878', 'mtch2', 'tro', 'morc2', 'or2m2', 'mylpf', 'plcd1', 'rgl3', 'ppp1r13l', 'surf6', 'ggps1', 'erbin', 'dll1', 'kdelr2', 'frem2', 'pde4a', 'aoc3', 'c9orf78', 'c10orf99', 'nos1', 'ppp1r14c', 'fos', 'etv7', 'prdm7', 'dazap2', 'tnfrsf17', 'c11orf54', 'eif2s2', 'satb2', 'fgg', 'or10d3', 'litafd', 'gabrg1', 'fam189b', 'pcsk7', 'c17orf67', 'rab11b', 'slc4a3', 'gpd1', 'grip1', 'gdap1', 'amer3', 'exosc4', 'cep126', 'tut1', 'ell', 'kcmf1', 'enpp6', 'ercc1', 'c3orf20', 'stk3', 'heatr1', 'kif15', 'nasp', 'c4orf19', 'ext1', 'wdr97', 'gldn', 'cyp11a1', 'khsrp', 'pnma8b', 'rsbn1', 'cyp2c18', 'nthl1', 'prkd2', 'naa15', 'cfap221', 'hmgn5', 'asxl2', 'aqp5', 'ndst1', 'wnt3', 'mctp1', 'dlx3', 'pcdh9', 'pla2g12a', 'pigh', 'ngf', 'lrrc37a3', 'malrd1', 'drgx', 'or10q1', 'znf638', 'map4k3', 'gbx1', 'ak7', 'prtg', 'anapc10', 'baiap2', 'fbrs', 'coro7', 'dhx58', 'them4', 'tyms', 'rrad', 'ltk', 'elof1', 'cyp19a1', 'socs7', 'hoxa3', 'tsen15', 'enpp4', 'cd83', 'shcbp1l', 'slc25a46', 'sult2a1', 'gar1', 'bid', 'mafk', 'mllt6', 'anapc1', 'zpld1', 'npr2', 'dpp9', 'fbxo10', 'map4k4', 'tab2', 'ak5', 'ceacam21', 'sts', 'abcb11', 'mucl3', 'fst', 'bcl2', 'gpx5', 'mknk2', 'ak4', 'itgb1', 'mpped2', 'cfap73', 'pou3f1', 'kifc1', 'cd70', 'fbxw12', 'ssx3', 'dsel', 'krtap11-1', 'stk39', 'snx29', 'clvs1', 'clip4', 'odf2', 'kif4a', 'sipa1l1', 'peli2', 'tradd', 'snai2', 'dag1', 'trnau1ap', 'med22', 'akap13', 'actr6', 'pim1', 'aven', 'znf570', 'hnrnpk', 'gnb5', 'rp1l1', 'akna', 'bloc1s2', 'prr15', 'eed', 'pfas', 'klc1', 'sec22b', 'pak6', 'selenot', 'pcdhb4', 'cnot1', 'or10j1', 'adora1', 'cdca7l', 'tomm7', 'micu2', 'npas3', 'farsa', 'gjb6', 'mindy3', 'ska1', 'ak6', 'dcaf12l1', 'lss', 'plin2', 'papln', 'hmcn2', 'prkcd', 'klf15', 'c15orf65', 'xkr3', 'lcat', 'frrs1', 'thumpd3', 'arfip2', 'avp', 'gng8', 'grik4', 'gadd45b', 'arg2', 'capn13', 'rasa1', 'stmp1', 'fntb', 'odf3l2', 'onecut3', 'usp21', 'slc49a3', 'depp1', 'upb1', 'or4c12', 'bcl10', 'dctn6', 'nme6', 'pdss2', 'tas2r30', 'pnmt', 'mitf', 'hmgn3', 'zmym2', 'p2rx6', 'ccdc90b', 'tmod3', 'hmbs', 'rnf141', 'ctsv', 'smad2', 'kcnc3', 'chek1', 'vopp1', 'zmat1', 'emilin3', 'arms2', 'asic4', 'ankrd17', 'mlxip', 'cobl', 'odam', 'mapkapk2', 'nfat5', 'nectin2', 'rasal1', 'pon3', 'thegl', 'dusp8', 'flt3lg', 'arnt2', 'tmem41b', 'sfrp5', 'zbtb21', 'fam76a', 'pigs', 'pik3c3', 'acbd7', 'gkn2', 'znf696', 'actr8', 'slc25a16', 'prkg2', 'or6b1', 'serf2', 'akr1d1', 'mvd', 'tsga10ip', 'ccnd1', 'rhbdd1', 'map7d1', 'slitrk1', 'exosc2', 'c11orf53', 'hps4', 'emc4', 'fyttd1', 'cysltr2', 'epop', 'bola1', 'ppl', 'hip1', 'sorbs1', 'znf394', 'gatm', 'ssr2', 'mdfic', 'slc2a1', 'lsm14a', 'tmem211', 'dgat1', 'cabin1', 'cacng2', 'ttll3', 'pogz', 'tbkbp1', 'alas2', 'pla2r1', 'mfap2', 'znf428', 'cyp4f11', 'pebp4', 'gtf2i', 'lrrc14', 'rnf168', 'supt5h', 'btg4', 'bmp1', 'wdr44', 'id3', 'nme5', 'wnt5a', 'lamc1', 'nkx2-6', 'farp1', 'timm29', 'sec63', 'cisd1', 'pcdhb1', 'dnali1', 'sfxn2', 'hgfac', 'zdhhc2', 'mettl25', 'clk2', 'samd7', 'trps1', 'arpp21', 'usp53', 'or5ap2', 'psmd9', 'c11orf87', 'b9d2', 'preb', 'csf2ra', 'fam3a', 'tvp23a', 'zgpat', 'larp6', 'vezt', 'ints11', 'usf1', 'itih1', 'wdr37', 'fam240c', 'kctd2', 'pram1', 'tmem216', 'snap25', 'vsig8', 'sgk2', 'cdkn2b', 'oxsr1', 'cspg5', 'ankrd34c', 'pdpk1', 'gatad2b', 'ccdc194', 'ttll10', 'plekha2', 'asf1a', 'cacng5', 'cdc42ep4', 'znf334', 'pdzk1', 'ppa1', 'hmg20a', 'plekhm1', 'c9orf64', 'tbc1d10a', 'ppp1r12a', 'ccdc163', 'jmy', 'spink13', 'prph', 'gnptg', 'myh11', 'reck', 'wdr75', 'slc18b1', 'rasgrp1', 'hhla2', 'terf2ip', 'itgb8', 'pltp', 'fzd3', 'il32', 'eif4e1b', 'rtn4rl1', 'mettl7a', 'tspan14', 'eaf2', 'asph', 'crnkl1', 'pik3cd', 'rnps1', 'c4orf36', 'xpa', 'ubl4a', 'prss33', 'cpz', 'exoc2', 'hecw1', 'txndc16', 'nkx3-2', 'eea1', 'zpbp2', 'emp1', 'gadd45gip1', 'stam2', 'tfap2a', 'vps29', 'mgat4a', 'stag1', 'mt1x', 'mpp2', 'mdm1', 'or51v1', 'zfx', 'smyd4', 'kif24', 'fgf13', 'atp5mf', 'krtap16-1', 'slc12a3', 'armcx3', 'sgms1', 'rragc', 'serpinb9', 'atp11b', 'vps4a', 'gfpt2', 'vav2', 'csh2', 'aqr', 'cpt1a', 'bzw1', 'gsta4', 'phgdh', 'caskin2', 'nrp2', 'fam78a', 'fem1a', 'trank1', 'slc12a1', 'ercc3', 'nudt3', 'tmcc3', 'nudt7', 'cplx2', 'arrb2', 'grhpr', 'kcnc1', 'pcsk6', 'chchd1', 'thoc2', 'mroh9', 'ywhaq', 'clcnkb', 'abcc4', 'phactr3', 'srpra', 'lgr5', 'tchp', 'pno1', 'crabp2', 'sfrp4', 'dlg1', 'ccni', 'c6orf132', 'znf695', 'cdkl4', 'socs5', 'smim4', 'zkscan3', 'mtmr14', 'prkar1b', 'tarbp1', 'ccdc189', 'slco4c1', 'cpsf4', 'hnrnpf', 'gprc5d', 'apoc2', 'ntsr1', 'rmdn3', 'echdc3', 'tbx19', 'ttf1', 'stat5a', 'znf668', 'mroh7', 'hmgcs1', 'pou2f3', 'phax', 'ctrc', 'ptpre', 'atp11c', 'krtap19-7', 'stil', 'lilra4', 'smarcd1', 'wnt9a', 'dennd4b', 'hgd', 'lix1l', 'clk1', 'ptges3', 'tnfsf13b', 'tmem161a', 'znf43', 'ercc2', 'zfp62', 'c2', 'mdh1', 'syce2', 'khk', 'ubxn11', 'slc17a2', 'gype', 'tmc2', 'taf12', 'tatdn1', 'pax9', 'trip6', 'gskip', 'heatr6', 'ston1', 'pkm', 'gnpat', 'naa38', 'thrap3', 'ankrd26', 'hoxb1', 'snx4', 'znf710', 'eno3', 'gls', 'cops9', 'nckap5l', 'tomm20l', 'marcks', 'vwa5b2', 'cdk12', 'rnf7', 'higd1b', 'cnksr3', 'emc9', 'pramef2', 'pafah1b2', 'dnajc5g', 'or8b4', 'pde9a', 'oxsm', 'pmch', 'cblb', 'ccnb1ip1', 'anapc16', 'ptpmt1', 'opcml', 'pecr', 'slc38a9', 'itln2', 'ip6k3', 'pskh1', 'slc40a1', 'fezf1', 'satb1', 'zg16', 'atg9b', 'fancm', 'oxt', 'utp11', 'mad1l1', 'apom', 'fktn', 'gli3', 'coq8b', 'sin3a', 'pcgf5', 'rabgap1l', 'rapgef5', 'treml4', 'aen', 'cenpl', 'vn1r2', 'mepe', 'srxn1', 'cdc42bpa', 'adamts20', 'ndp', 'dtwd2', 'znf705a', 'ipmk', 'arl5c', 'klhl5', 'bphl', 'pcnx3', 'tm2d1', 'cmss1', 'morc3', 'sfswap', 'gpr158', 'zfp36', 'cyp51a1', 'matn2', 'sec61b', 'akt1', 'pde4d', 'mad2l1', 'ccdc102a', 'slc5a12', 'ninl', 'prrg2', 'cd1e', 'wee2', 'gcfc2', 'iqub', 'znf280c', 'vps35l', 'lsm12', 'stk4', 'tsr3', 'ttc27', 'cxcl3', 'rmdn1', 'nfkbib', 'eefsec', 'arid2', 'hcfc1r1', 'lacrt', 'anln', 'mcmbp', 'ifit3', 'dpcd', 'defb114', 'tat', 'zfp69b', 'frmpd4', 'alox15', 'slc30a5', 'kiaa1143', 'abcb8', 'ddx19b', 'nol4', 'tmem115', 'eppin', 'apoa5', 'mtcp1', 'or2t33', 'mtmr2', 'cnr2', 'sall4', 'nemp2', 'bcl6', 'ckap2l', 'zar1', 'gxylt1', 'maml1', 'pcdhgb2', 'jrk', 'ncdn', 'armc2', 'zpr1', 'tubal3', 'rnf135', 'armc3', 'lyrm4', 'mosmo', 'rprd1a', 'fhl2', 'fam168a', 'med24', 'prpsap1', 'fut4', 'mus81', 'ppil6', 'fam133a', 'akr1a1', 'fam124b', 'ahsg', 'kcnu1', 'gal3st3', 'tmem134', 'ccm2', 'cdca8', 'znf276', 'ctcfl', 'kcna4', 'htr3a', 'aebp2', 'hdac5', 'cox7a2l', 'ccrl2', 'skp2', 'evi2a', 'cfap206', 'ppp2r3c', 'or4c3', 'znf461', 'atp8b4', 'znf132', 'smco3', 'or2t6', 'dio2', 'sox4', 'ehhadh', 'dcaf17', 'adamts7', 'lancl1', 'or4x1', 'uhrf1bp1l', 'atp13a5', 'lin54', 'hgsnat', 'kyat1', 'pwwp2b', 'cyb5b', 'ubl5', 'a3galt2', 'lman2l', 'pip4p1', 'znf383', 'c2orf49', 'tmem150c', 'vps37d', 'zg16b', 'gna14', 'rb1', 'fzd7', 'wdr87', 'ramacl', 'rhoh', 'acta1', 'trim64c', 'ndufa7', 'sf3a3', 'tmcc2', 'krt77', 'insr', 'lyrm9', 'pgpep1', 'stmn3', 'amotl2', 'dek', 'piwil4', 'lsm7', 'ppm1k', 'kifc2', 'wdfy2', 'otud3', 'plaat3', 'myd88', 'ccnb1', 'ccdc171', 'nin', 'gdf9', 'atp2b3', 'rbm15b', 'sumf1', 'cacng4', 'tbc1d3b', 'cltb', 'fam171b', 'mxd4', 'rgs12', 'cacna1h', 'fgd6', 'mboat2', 'fam71f2', 'dcun1d3', 'znf358', 'relch', 'kiaa1217', 'prss16', 'slc9c1', 'smim33', 'cramp1', 'sel1l3', 'traf2', 'ube2l6', 'tbccd1', 'selenoh', 'efcab12', 'or5b21', 'znf174', 'dtx1', 'cntd1', 'ppdpf', 'rexo4', 'urod', 'ppp3r2', 'kcnab2', 'myeov', 'naa80', 'adam28', 'fam163a', 'prps1l1', 'hepacam2', 'ankrd35', 'mcrip2', 'gas7', 'eif4ebp2', 'selenof', 'lemd1', 'arl6ip1', 'trim64b', 'pafah1b1', 'rpa3', 'ercc6l2', 'septin2', 'hhatl', 'or7g3', 'ankrd7', 'zbtb12', 'camk1', 'ccdc116', 'coq5', 'ephb1', 'lrsam1', 'rnf208', 'crls1', 'pabpc1l2a', 'rom1', 'tsn', 'keap1', 'cln3', 'atg2b', 'papolg', 'fam20b', 'rassf1', 'anp32d', 'bloc1s6', 'hint3', 'ulk3', 'nt5c3b', 'chmp2a', 'terf2', 'fibp', 'apod', 'pdf', 'cpt1c', 'neurod2', 'fmo4', 'e4f1', 'huwe1', 'ier3ip1', 'srek1ip1', 'gfra2', 'pcdhgb7', 'whrn', 'larp1b', 'zfhx4', 'gcnt3', 'spin2b', 'ccnj', 'sema3b', 'dnajb8', 'dcun1d4', 'foxm1', 'gabrq', 'exoc6b', 'frmd8', 'psmd14', 'mex3d', 'clec2a', 'cecr2', 'mmp27', 'ereg', 'pck2', 'grpel2', 'prrg3', 'mcfd2', 'pfn3', 'ppp2r2d', 'stk33', 'qpct', 'akap6', 'ryr3', 'krtap3-3', 'afg1l', 'ttll11', 'tmem45b', 'npepps', 'osr1', 'evx2', 'wnt7b', 'ndufs3', 'nxt2', 'taf1c', 'slc4a9', 'defa6', 'helq', 'dmac2l', 'rlbp1', 'cpb1', 'nppb', 'slc43a3', 'patl2', 'pm20d1', 'cog2', 'gpd1l', 'helz2', 'tnk1', 'adck5', 'ctnnb1', 'msh5', 'c11orf21', 'dcaf12', 'lbhd1', 'fcrl4', 'lhx4', 'adtrp', 'myo6', 'zdhhc19', 'fam185a', 'pygm', 'clec16a', 'podnl1', 'plcb3', 'slc26a11', 'mcat', 'cldn23', 'znf875', 'xk', 'fam162a', 'gngt1', 'tekt1', 'gas2', 'dnaja2', 'cntnap3', 'dkk4', 'pnpla6', 'pafah1b3', 'triqk', 'errfi1', 'dnhd1', 'rag1', 'thyn1', 'fam98b', 'moxd1', 'agtpbp1', 'csnk2a2', 'dicer1', 'slc30a9', 'rangap1', 'acsl3', 'c11orf49', 'anhx', 'klhl34', 'rabep2', 'thap9', 'col9a2', 'best4', 'lhfpl3', 'uhrf2', 'gsdmd', 'hephl1', 'fndc3a', 'slc9a6', 'klf4', 'rccd1', 'btla', 'mdfi', 'brf2', 'slc31a2', 'psmg4', 'ywhaz', 'ccdc200', 'tlr7', 'klk11', 'kcnj10', 'smarcad1', 'nova1', 'twnk', 'tmem94', 'gart', 'faap20', 'trmt1', 'pigr', 'zbed5', 'znf571', 'scnn1d', 'csrnp3', 'pcyt2', 'card18', 'spock1', 'spaar', 'b3gat2', 'chrne', 'abcg2', 'rbbp4', 'tmem95', 'zc3h18', 'rsph4a', 'pias2', 'or14k1', 'agpat5', 'myrfl', 'sncaip', 'nectin3', 'rims1', 'csdc2', 'rnf19a', 'kazn', 'cep72', 'shld3', 'antxr1', 'ankrd42', 'seh1l', 'kif26b', 'olfm4', 'dnajc24', 'dmrta2', 'or10j5', 'mitd1', 'scgb1d2', 'tcf24', 'prdm4', 'psmd12', 'naa20', 'htt', 'cbfb', 'palld', 'pskh2', 'c7orf26', 'mob3b', 'usp51', 'npas4', 'sap18', 'coq4', 'gabrp', 'lrrc3b', 'ndufa4', 'asb10', 'troap', 'snrnp200', 'znf589', 'stc2', 'slc9c2', 'catsperz', 'fbxl18', 'vamp4', 'gnly', 'or1s1', 'npr1', 'yipf5', 'kank3', 'chmp2b', 'fam20c', 'ccnb3', 'adig', 'pramef10', 'tafa3', 'psmc3ip', 'bach1', 'sirt6', 'psip1', 'dennd2a', 'brwd1', 'clcn4', 'trerf1', 'usp50', 'tgm3', 'gemin5', 'pard6a', 'gsk3a', 'map4k1', 'galr3', 'rpn1', 'auts2', 'fis1', 'hkdc1', 'klk7', 'trpt1', 'znf92', 'elk4', 'tbpl2', 'sgta', 'zfp57', 'orm2', 'has3', 'poldip2', 'pnck', 'bicd2', 'mbnl3', 'gipc1', 'tesmin', 'cnot7', 'eif1ax', 'ubp1', 'frmd4a', 'defa3', 'odf3', 'lrch4', 'baz2a', 'galnt4', 'actr2', 'pcdha2', 'bag5', 'or52k2', 'crk', 'fbxl12', 'slc9a8', 'ribc2', 'rbm15', 'rb1cc1', 'nemf', 'cdk7', 'greb1', 'rin3', 'mif', 'znf670', 'plaat5', 'c20orf27', 'sdsl', 'ppp1r14d', 'ifit2', 'stambpl1', 'ifnar2', 'ythdc1', 'fam180b', 'cxcl13', 'dnah12', 'scamp5', 'or7d2', 'rab33b', 'dnmt1', 'rnf6', 'tyw5', 'entpd4', 'atf3', 'wdr12', 'mto1', 'alkbh5', 'trim10', 'nsdhl', 'stk25', 'nek2', 'slc25a28', 'prok2', 'slc17a3', 'mplkip', 'thap11', 'golim4', 'tgm7', 'itm2c', 'plg', 'kpna7', 'rgs9bp', 'or52n1', 'ptx3', 'gspt1', 'pex13', 'adrm1', 'rarg', 'rptn', 'ripply3', 'sorcs1', 'spryd7', 'lrrc38', 'c9orf40', 'hook1', 'bglap', 'prlr', 'tmem245', 'tet1', 'snapc5', 'dohh', 'fxyd7', 'prr36', 'lepr', 'zc3h7a', 'il17d', 'znf219', 'bysl', 'lrrc17', 'cenps', 'clec17a', 'znf197', 'eya3', 'taf11l13', 'cd74', 'vcp', 'ctnnd1', 'znf35', 'ffar4', 'mkrn2os', 'nfxl1', 'sybu', 'c19orf12', 'c6orf226', 'plscr4', 'clec4d', 'mpc2', 'dennd5a', 'prkaa2', 'kat6a', 'angpt4', 'gsx2', 'cul9', 'kansl3', 'timp4', 'gpr61', 'b3gat3', 'trmt61b', 'cyp4z1', 'ptpn4', 'gpr83', 'slc25a45', 'rubcnl', 'spc24', 'golga6l2', 'smim10l2b', 'snx8', 'faim2', 'grin2c', 'znf850', 'dhrs13', 'rasal3', 'inhbb', 'cox15', 'lcp2', 'mtfr1l', 'vps54', 'lta', 'fam83b', 'atp5mc2', 'ccdc85b', 'naa30', 'or52w1', 'nucks1', 'pigp', 'ccdc186', 'idh3a', 'snx15', 'sox9', 'fance', 'znf211', 'enpp5', 'ryr2', 'poc1b', 'psg4', 'itga10', 'abcf2', 'pitpnb', 'nt5c', 'trim41', 'hsp90ab1', 'mroh2b', 'numa1', 'lrrd1', 'rin1', 'papss1', 'mrgbp', 'maged2', 'marco', 'lmln', 'rbm28', 'snapc4', 'pdyn', 'rab11fip2', 'cers2', 'csmd3', 'ppial4g', 'inka1', 'b3gnt6', 'cfi', 'elp3', 'il17rel', 'pradc1', 'ddx60l', 'art1', 'apela', 'stk17a', 'ssrp1', 'plekhg6', 'tgm2', 'znf676', 'znf266', 'wdfy3', 'dbi', 'tal2', 'sel1l', 'acsl1', 'smc6', 'fbxl13', 'rln3', 'tmem235', 'fndc8', 'ankrd11', 'stoml1', 'ddx41', 'hibch', 'pacsin3', 'zfr2', 'smpdl3b', 'cbr1', 'snca', 'nudt17', 'ppard', 'ppp1r1c', 'stat4', 'arhgef40', 'c4orf51', 'rusc2', 'cd5', 'nckap5', 'enkd1', 'plekhb2', 'znf728', 'syce1l', 'lig1', 'sacm1l', 'ankfn1', 'laptm4b', 'kctd5', 'timp1', 'nat1', 'cldn18', 'rnd3', 'fermt3', 'pnma2', 'eef1aknmt', 'tmem150b', 'riok2', 'mro', 'ltbp4', 'prpf38a', 'c3orf80', 'cxcr1', 'spesp1', 'ptgr1', 'cldn19', 'tnfaip6', 'n4bp2', 'lmcd1', 'grk7', 'ift122', 'nxpe2', 'tpm1', 'helb', 'rsph9', 'rasal2', 'anks1a', 'rpn2', 'arid4b', 'fbn1', 'fam9b', 'ifi44l', 'padi3', 'vgll2', 'krtap4-6', 'rtel1', 'stk10', 'cdh1', 'coa5', 'adgre5', 'ctnna2', 'pnliprp3', 'sucla2', 'pign', 'krtap12-1', 'dync1i1', 'camk2g', 'fzd2', 'gatad1', 'psmd11', 'ogfod3', 'tmem70', 'palm3', 'akr1c3', 'etv2', 'syk', 'clec9a', 'clvs2', 'wrnip1', 'plgrkt', 'klk8', 'dner', 'gabpa', 'creb3l2', 'chfr', 'tmem178a', 'mgat5b', 'pnpla8', 'ltv1', 'chrng', 'rab24', 'elavl2', 'nme3', 'kif18a', 'trim63', 'ube3c', 'trim50', 'mrc2', 'cd93', 'nrbp1', 'edn1', 'casp6', 'thsd7a', 'copg2', 'top2b', 'sos2', 'cass4', 'nfya', 'serpinb7', 'smg7', 'helz', 'nr1d2', 'krt222', 'gimap1', 'ganab', 'ubr3', 'lamp2', 'mybl1', 'aldh3b2', 'slc22a17', 'rnf31', 'meiob', 'tmed3', 'swsap1', 'pla2g6', 'aspn', 'mageb10', 'pgam1', 'plekhh3', 'strip2', 'kl', 'agtrap', 'tk1', 'ddr2', 'znf717', 'zyg11a', 'dalrd3', 'znf526', 'znf517', 'dnajc25', 'cdk5rap1', 'b4galnt1', 'cab39l', 'p2ry13', 'sgo1', 'bop1', 'syne4', 'tmem161b', 'zfyve16', 'cnot8', 'cavin3', 'cnga4', 'rnf217', 'fastkd3', 'pcdha4', 'clec19a', 'ikbke', 'mxd1', 'psmc2', 'hcn3', 'cd8b2', 'adipor2', 'upf3a', 'mau2', 'dynlt3', 'tex9', 'txndc17', 'abhd5', 'pdzd3', 'bmp4', 'abcg1', 'zbed1', 'tmem210', 'slc5a1', 'hap1', 'mab21l4', 'cyb561a3', 'kif19', 'hoxd4', 'upp2', 'slc25a37', 'irx1', 'cwf19l2', 'pigx', 'sp7', 'xirp2', 'hdc', 'bcl11a', 'sctr', 'emp2', 'slc25a42', 'coro1b', 'blacat1', 'osbpl1a', 'chst12', 'tax1bp3', 'mmp15', 'med4', 'mast2', 'gnl2', 'zcchc17', 'page4', 'cox5b', 'kpna5', 'mrm2', 'or12d2', 'lats2', 'scgb1c2', 'wdr4', 'git1', 'galnt17', 'ryk', 'rab3c', 'cst8', 'znf836', 'foxk1', 'vwa1', 'tnip3', 'arfgap1', 'dkc1', 'nmt2', 'cep162', 'mpv17', 'traf3', 'klf1', 'dhx35', 'tgfb1i1', 'crct1', 'cxadr', 'hpcal4', 'page3', 'onecut2', 'uqcrh', 'fcsk', 'amh', 'hoxd3', 'ca13', 'gnai1', 'slc47a2', 'dkk1', 'fam222a', 'znf566', 'txnrd1', 'cfh', 'pdhb', 'or10v1', 'tfpi', 'arfip1', 'csf1r', 'cracr2b', 'p2ry2', 'sypl1', 'kcnd1', 'coa4', 'ndufa1', 'cx3cr1', 'pop4', 'mepce', 'acsm4', 'mprip', 'icam2', 'pkd1l3', 'prpf40a', 'gnpnat1', 'dmac2', 'rbx1', 'galns', 'klc2', 'fcgrt', 'ddx25', 'gckr', 'apeh', 'wdr19', 'nt5e', 'fcmr', 'msh3', 'egln3', 'bbs10', 'znf585a', 'manbal', 'parva', 'reg3a', 'znf215', 'stx4', 'grin2d', 'golga8r', 'pax1', 'psmg3', 'kremen1', 'znf275', 'atoh1', 'parvg', 'or2t11', 'pgm5', 'krtap8-1', 'c22orf31', 'apol4', 'bcas3', 'prx', 'fam110a', 'ncan', 'ctrb2', 'dlk1', 'kmt2b', 'cldn1', 'ckap5', 'ptk6', 'sult1e1', 'dhrsx', 'fez2', 'golt1b', 'en1', 'fut8', 'kiaa0232', 'parp11', 'tmsb15a', 'fcrlb', 'lrrc15', 'icam1', 'fsip2', 'sema5b', 'dchs1', 'anxa9', 'chst1', 'arhgef12', 'dyrk4', 'ganc', 'cfhr4', 'elf2', 'phf14', 'banp', 'bax', 'hipk1', 'hormad1', 'tmppe', 'hif1a', 'fam47c', 'hnmt', 'btbd11', 'tfe3', 'ifih1', 'or1k1', 'ccdc17', 'arhgef7', 'gse1', 'calca', 'hecw2', 'pfkfb3', 'avpr1b', 'mucl1', 'sez6l2', 'a2m', 'rpp14', 'mlec', 'aldh5a1', 'ttyh3', 'wfdc1', 'igfbp7', 'gtf3c1', 'tmem200c', 'crygs', 'fhl5', 'homer2', 'uvssa', 'crym', 'r3hdm2', 'dtx3', 'rfpl2', 'mt-nd6', 'tnc', 'ttc9', 'hbegf', 'lgals9', 'rnf122', 'akr1b1', 'cck', 'syvn1', 'usp22', 'prpf8', 'add3', 'dmc1', 'acap3', 'parp14', 'ago1', 'map3k19', 'pcdha13', 'znf556', 'gjb1', 'slc17a4', 'adamts1', 'heg1', 'dapp1', 'znf449', 'plk3', 'smim2', 'islr2', 'sulf2', 'clk4', 'mtx2', 'cd3e', 'itm2a', 'noxa1', 'sh2b2', 'traf1', 'traf7', 'mageb6b', 'gpa33', 'lmx1b', 'cnrip1', 'zfp41', 'aurkb', 'tmem65', 'atmin', 'grm8', 'ripk1', 'gdap1l1', 'mmp10', 'fbxw8', 'gbp3', 'znf573', 'larp1', 'ap3s2', 'ambra1', 'mdn1', 'gtf2h3', 'hdac3', 'il4i1', 'ccdc167', 'tusc2', 'coq10b', 'coq9', 'c18orf32', 'cd6', 'asmt', 'znf367', 'elk3', 'fcrl2', 'ctsf', 'eif2b1', 'unc13c', 'tcf12', 'krtap5-3', 'fasn', 'foxd3', 'gmds', 'gnb2', 'zbed9', 'kcnv1', 'znf653', 'dnajc5b', 'mtmr3', 'hipk4', 'nkain1', 'nbn', 'glt8d2', 'hnrnpa0', 'or10g6', 'cpsf7', 'yae1', 'folr3', 'rnpc3', 'vipas39', 'mzt1', 'pcyt1b', 'kif4b', 'cops4', 'tnfrsf4', 'stx19', 'otof', 'cdc5l', 'agbl3', 'rab2b', 'polr3e', 'pitpnc1', 'esyt1', 'tldc2', 'pou4f1', 'lsm6', 'rbfox1', 'adcy3', 'rnf24', 'abhd16a', 'ccn4', 'ppif', 'edem2', 'eya4', 'tecpr1', 'tep1', 'zbtb20', 'rasef', 'emx2', 'slc2a11', 'fam50b', 'mocs3', 'cwc22', 'ifna5', 'fermt1', 'sytl4', 'lxn', 'kpna3', 'tifab', 'psma3', 'azgp1', 'zbtb38', 'gas2l2', 'ssh2', 'mob2', 'znf254', 'unc50', 'znf740', 'nfe2l3', 'txnrd2', 'twf1', 'sf3b5', 'mettl2a', 'ptgs1', 'fam234a', 'tp53bp1', 'psme2', 'tenm1', 'slit1', 'celsr3', 'znf764', 'sema3g', 'ptpru', 'oxa1l', 'ghrl', 'lhpp', 'negr1', 'ooep', 'rmnd1', 'or4f15', 'rgl2', 'shisa5', 'bhmt2', 'susd2', 'slc6a8', 'cpeb3', 'trim71', 'arhgap45', 'atp5f1e', 'brms1l', 'or4k14', 'eps8l3', 'gpld1', 'cyp26b1', 'pax3', 'yipf3', 'c3orf52', 'golga2', 'nup160', 'slc2a13', 'snx19', 'fhod1', 'npr3', 'pfdn2', 'fbxo3', 'axin2', 'lrrcc1', 'nptxr', 'xg', 'egflam', 'lrrc42', 'galnt18', 'enosf1', 'myo9a', 'kcna1', 'adgb', 'adgre2', 'erich4', 'hamp', 'dnase1', 'etv4', 'nkpd1', 'cpt1b', 'sec61g', 'reeld1', 'b3gat1', 'mlxipl', 'c15orf40', 'nudt16', 'fam83g', 'nexmif', 'fbxw10', 'ano4', 'folh1', 'alb', 'cyp46a1', 'or14c36', 'tecta', 'il10rb', 'ulk1', 'or10a5', 'pms1', 'togaram2', 'pmpcb', 'arpc1b', 'xylt2', 'tpbg', 'znf714', 'rnh1', 'ervk3-1', 'duoxa1', 'c4orf50', 'manea', 'slc25a6', 'mansc4', 'msantd3', 'chst6', 'chi3l1', 'avpr1a', 'psmd3', 'dgcr8', 'hoxa13', 'sel1l2', 'msrb2', 'spag9', 'rtf1', 'dhx15', 'igfbp1', 'cacnb3', 'gabra5', 'tbk1', 'slco1a2', 'tmem131l', 'abhd4', 'ap4s1', 'ccdc32', 'pfkm', 'apoo', 'evi2b', 'sox18', 'lyve1', 'hnf1a', 'epo', 'chst15', 'mipep', 'fdps', 'fam83e', 'mcam', 'adgrl2', 'tubgcp6', 'g6pc2', 'med27', 'specc1l', 'znf592', 'nfs1', 'pknox1', 'tmpo', 'mcf2l', 'zc3h7b', 'atp5pb', 'ube2d2', 'tnfsf15', 'dcaf6', 'znf598', 'mllt3', 'spocd1', 'sema4g', 'arhgdig', 'aplp2', 'cd163', 'dok1', 'ajap1', 'tigd7', 'pdlim1', 'or2c1', 'tbc1d9b', 'drc1', 'bcl2a1', 'nlrp7', 'tnfrsf10c', 'rad51', 'khdc4', 'flna', 'suclg1', 'cse1l', 'rcbtb2', 'ephx4', 'ndst3', 'calhm3', 'tmco3', 'os9', 'wwc1', 'mtus1', 'vasp', 'ss18l2', 'cd300lf', 'spink8', 'caap1', 'tmco4', 'slc25a39', 'scpep1', 'srrm4', 'mtf2', 'apbb2', 'phyhip', 'or10ad1', 'pcnx4', 'rarres2', 'nr4a1', 'icmt', 'cpa4', 'zic4', 'plrg1', 'slc25a23', 'plcb2', 'dsp', 'pih1d2', 'ywhab', 'chst11', 'siah2', 'rbm26', 'magi1', 'rnf26', 'rnase12', 'krtcap3', 'cpm', 'kpna2', 'polr2i', 'hagh', 'sptssb', 'hspg2', 'mfhas1', 'znf529', 'prr12', 'inhba', 'arl4d', 'uqcc1', 'gdi2', 'rbmxl2', 'osbpl6', 'zbp1', 'shisal1', 'krtap25-1', 'ctxn2', 'myb', 'glipr1l1', 'nme9', 'dock3', 'trmt12', 'c8b', 'crx', 'kcnk15', 'aox1', 'c8orf76', 'xkr5', 'idh2', 'cct6b', 'pigb', 'sirt4', 'mlh3', 'lclat1', 'trappc9', 'dcdc2b', 'eif6', 'krtap13-3', 'calhm1', 'hao1', 'serhl2', 'foxd4', 'pla2g7', 'ldb2', 'tkfc', 'cnot2', 'cemp1', 'kirrel1', 'nbas', 'znf527', 'lilrb2', 'tmem256', 'themis2', 'znf70', 'use1', 'taco1', 'znf620', 'hook2', 'tab1', 'klk15', 'pdzd7', 'ipo8', 'serpine2', 'plcxd2', 'krtap13-2', 'psd4', 'trpm5', 'dis3l2', 'nodal', 'plekhh2', 'ctnnbip1', 'itgav', 'znf576', 'tcl1a', 'tbrg1', 'pcp2', 'six1', 'tfb1m', 'polr2d', 'ms4a4a', 'znf521', 'fbxo25', 'sap130', 'tmem79', 'clec2b', 'ppp2r2b', 'clasrp', 'smg8', 'tp53inp1', 'zmiz2', 'psma4', 'trpc5', 'gpcpd1', 'sele', 'bbs7', 'ddb2', 'nrf1', 'tmem266', 'sec24d', 'resp18', 'kdm2a', 'nme2', 'prkar1a', 'tigd2', 'fam114a2', 'phlda1', 'ascl1', 'muc12', 'cct8', 'vax1', 'rab5c', 'rnf152', 'znf317', 'ipo5', 'fcgr3b', 'fam8a1', 'rnf175', 'psg3', 'slc35a2', 'ttll12', 'krtap4-3', 'or2b3', 'hcfc2', 'tmprss11f', 'rreb1', 'natd1', 'atox1', 'hirip3', 'znf821', 'cox10', 'cab39', 'stau1', 'atp6v1b1', 'pold4', 'foxo4', 'cirbp', 'znf491', 'pim2', 'lbh', 'tssk3', 'pde3b', 'tmem260', 'ergic1', 'fzd5', 'ccdc9b', 'sstr4', 'rfpl4b', 'c19orf38', 'rasgrf1', 'syde1', 'hprt1', 'or2m5', 'nepro', 'dbr1', 'ada', 'retn', 'mt1a', 'insyn2b', 'pnisr', 'zkscan2', 'zc2hc1b', 'c10orf90', 'ndufs7', 'capn5', 'rexo1', 'dipk2a', 'c9orf50', 'mapk8ip2', 'c2orf88', 'rint1', 'krt72', 'tle1', 'dnah9', 'tmem200b', 'mov10', 'vat1', 'ap1b1', 'ifitm5', 'mpeg1', 'idnk', 'arpc1a', 'rwdd3', 'hoxd10', 'trib2', 'tmem207', 'znf391', 'mgat2', 'csnk1d', 'garem1', 'bin1', 'sft2d1', 'aqp8', 'myo15a', 'fat2', 'ngb', 'dtnbp1', 'yrdc', 'ogn', 'il1f10', 'svep1', 'or5w2', 'smc1b', 'c1qbp', 'stam', 'garnl3', 'oosp4b', 'rgs16', 'kiaa2012', 'chtf18', 'mei4', 'nob1', 'mindy1', 'coa8', 'vps13b', 'mast4', 'or10g2', 'n4bp1', 'irak1', 'nlrp9', 'foxe1', 'ucn', 'vpreb3', 'mre11', 'iqgap3', 'unc5cl', 'tsr1', 'net1', 'kdelr3', 'foxc1', 'tspan10', 'atad3c', 'tmem219', 'prima1', 'scarf2', 'sowahc', 'otos', 'or4n5', 'fcf1', 'dpm1', 'sstr3', 'agap2', 'mei1', 'rassf7', 'mapre3', 'glipr1', 'fam124a', 'f2rl1', 'cacng1', 'vars2', 'stk32b', 'brf1', 'epha8', 'fam131c', 'cacna1i', 'pofut1', 'otub1', 'cblif', 'ccdc30', 'pvrig', 'bicdl1', 'aktip', 'pet100', 'polr3f', 'btg2', 'mical3', 'emilin2', 'shb', 'megf11', 'sertad1', 'bag1', 'mettl23', 'cebpa', 'ccr9', 'slc30a7', 'uts2', 'hcfc1', 'uba3', 'zmat4', 'mesp2', 'snrpd1', 'sstr1', 'dnajc13', 'trim4', 'syne2', 'ackr1', 'comtd1', 'dynlrb2', 'lrtomt', 'pmf1', 'hm13', 'rab13', 'dzip1l', 'mapk1', 'piezo2', 'or4a16', 'ankrd6', 'spp1', 'fam3c', 'loxhd1', 'rab7a', 'vtcn1', 'or13d1', 'hsf2', 'syt14', 'cxcr4', 'il22ra2', 'or2s2', 'r3hcc1l', 'tent5c', 'dusp10', 'pias4', 'ern2', 'zscan10', 'smyd3', 'sem1', 'selenbp1', 'anxa7', 'hoxd1', 'nmi', 'asah1', 'aspscr1', 'ptges2', 'ankrd62', 'ednrb', 'ino80d', 'elovl3', 'ajuba', 'tmem132a', 'pard3b', 'fgf5', 'rnf121', 'thbs3', 'apoa4', 'stt3a', 'mov10l1', 'gpr137', 'znf584', 'sirt5', 'nxpe4', 'gpr35', 'gatb', 'cmtm4', 'cited1', 'etv5', 'crip3', 'rcan2', 'lcn15', 'tmem39b', 'mageb16', 'naalad2', 'cog7', 'prb4', 'vcpkmt', 'kcnk2', 'zdhhc23', 'tnfrsf18', 'edf1', 'proca1', 'krtap3-2', 'ccdc18', 'xrcc5', 'il7', 'clhc1', 'pcdha6', 'angel1', 'trim13', 'prcd', 'krtap7-1', 'krt23', 'slc35a3', 'znf485', 'hbs1l', 'ubqlnl', 'stk19', 'palb2', 'fitm2', 'lhfpl1', 'magea6', 'mvb12a', 'rhbdd2', 'micu3', 'purb', 'tbata', 'rcor2', 'c1orf216', 'oxld1', 'il3ra', 'c11orf96', 'st14', 'syndig1', 'rhag', 'ttc19', 'iqcf6', 'ikzf3', 'sgsm1', 'gid4', 'tada2b', 'trim66', 'ints2', 'cc2d2b', 'cop1', 'evi5', 'gpn3', 'smap1', 'jag1', 'scimp', 'mmp7', 'or10k1', 'lamtor1', 'ap2b1', 'kri1', 'wdr88', 'krtap12-2', 'c16orf70', 'trappc5', 'esrra', 'ubiad1', 'cc2d1b', 'zbtb14', 's100a10', 'b3galnt2', 'fam13b', 'pon2', 'nr1h3', 'mks1', 'guca2a', 'mfap3l', 'mmel1', 'slc26a6', 'ccdc28a', 'timm50', 'srf', 'lypd1', 'ccdc134', 'myc', 'camkmt', 'qsox2', 'slbp', 'kctd13', 'sh3bgrl3', 'pomgnt1', 'or52n5', 'rnf181', 'camsap3', 'inka2', 'fndc3b', 'thap4', 'prim1', 'foxp3', 'igfbp3', 'med28', 'hmmr', 'vnn2', 'gon7', 'atp7b', 'plekha3', 'itgb7', 'mri1', 'or1i1', 'chd5', 'fpr3', 'hp', 'hip1r', 'tonsl', 'abi3', 'gja1', 'wnt1', 'fam161b', 'bbc3', 'inpp4b', 'ostc', 'orc4', 'krt2', 'usp12', 'senp7', 'eng', 'dmrt2', 'znf333', 'auh', 'slc25a12', 'galntl5', 'hoxc9', 'nagk', 'gpr55', 'unc119b', 'efs', 'riok3', 'pex6', 'ciao2a', 'sppl2a', 'dct', 'ap2m1', 'dcp1a', 'pdcd6ip', 'maf1', 'grifin', 'npat', 'kcnj16', 'cnpy4', 'fam183a', 'atp8a1', 'brap', 'mid2', 'rnase4', 'medag', 'pgp', 'rab5if', 'ube2z', 'arhgef6', 'gdpd1', 'slc1a2', 'best3', 'myl10', 'tmem68', 'slfn13', 'mbd3', 'cby1', 'znf446', 'mknk1', 'rwdd2a', 'lrrc28', 'kcnk18', 'rhbdl1', 'dvl1', 'sdhaf1', 'efna1', 'txndc12', 'cdc42ep3', 'tgfb2', 'psat1', 'or5k4', 'pts', 'acsl5', 'blzf1', 'tmem248', 'c2cd4a', 'lrp6', 'gata6', 'crb3', 'prr20g', 'igll1', 'klhl9', 'vps11', 'yy1ap1', 'foxi2', 'lce5a', 'xiap', 'vps45', 'ahsa1', 'znf888', 'tfdp1', 'pcdh12', 'actrt3', 'a1cf', 'clcn5', 'tsga13', 'ncbp1', 'krit1', 'zxdb', 'nkain2', 'hadha', 'senp5', 'znf169', 'hacd2', 'cdnf', 'vsir', 'tmem86a', 'ccdc153', 'ppial4a', 'suds3', 'dtwd1', 'rrp9', 'zfp3', 'jhy', 'gosr1', 'ppef1', 'mos', 'copz1', 'ube2q2', 'abhd3', 'nup98', 'pcdhga11', 'ccer1', 'pet117', 'sesn1', 'znf19', 'znf667', 'lamtor2', 'fbf1', 'clpp', 'znf420', 'thoc5', 'igbp1', 'tcf7', 'cux1', 'psg6', 'tyk2', 'krtap4-11', 'pfdn5', 'pold2', 'gprin1', 'acss3', 'nedd9', 'nudt13', 'rnf125', 'dzip3', 'or12d3', 'ppp2ca', 'efhd2', 'fam102b', 'pbx2', 'snx9', 'lrrc32', 'mbnl2', 'cep295', 'smarcc1', 'spon1', 'ubqln4', 'txndc8', 'dda1', 'spty2d1', 'fmnl1', 'cd200r1l', 'amfr', 'hells', 'ccdc85a', 'ackr3', 'msantd4', 'krt84', 'tmco6', 'or2k2', 'sv2a', 'cops5', 'katnb1', 'tbc1d1', 'c12orf60', 'gas2l1', 'inmt', 'pla2g4b', 'bhlhe22', 'btaf1', 'myoc', 'or2m7', 'nsmf', 'gpr84', 'rmi2', 'piezo1', 'cib3', 'trpv4', 'dexi', 'znf574', 'slc30a8', 'lmntd1', 'ifna7', 'lrrc72', 'gpr62', 'farsb', 'itpr3', 'aatk', 'lgmn', 'adcy7', 'cyp2f1', 'znf217', 'med23', 'tmem176a', 'il18', 'arl13b', 'npffr2', 'pou2f2', 'cntrob', 'usp6nl', 'nckap1l', 'rbms3', 'dnajb14', 'zfyve28', 'plcz1', 'slc15a4', 'fhl1', 'susd3', 'fmod', 'sh3bgrl2', 'slc34a2', 'acsm5', 'rogdi', 'inppl1', 'spire1', 'il12a', 'tlcd4', 'map2k5', 'ikbkb', 'foxn4', 'hsf4', 'cpxm2', 'plac8l1', 'naaladl1', 'herc2', 'nelfcd', 'inhbe', 'wwtr1', 'pcdhb6', 'wrap53', 'dcbld2', 'lyn', 'cmklr1', 'axin1', 'eif2ak4', 'il17rc', 'mmp2', 'znf474', 'shroom1', 'lrrc43', 'lrrtm1', 'rasa4b', 'kcng2', 'pus1', 'slc5a10', 'slc45a3', 'spink4', 'ago3', 'vim', 'aff3', 'hoxa11', 'zc4h2', 'c1orf116', 'iqcf5', 'nmnat1', 'sfrp2', 'rcc2', 'slc25a32', 'pitx2', 'pip4k2a', 'oas1', 'cep135', 'serpinc1', 'cda', 'cpn1', 'pkdrej', 'fbxo16', 'atxn7l3', 'oxct1', 'oas3', 'slc7a8', 'bex1', 'rtkn2', 'pygo2', 'ppp1cb', 'tank', 'ppib', 'pin1', 'elovl7', 'ei24', 'casz1', 'ulk2', 'hspa2', 'fut1', 'jarid2', 'lin7b', 'dpp8', 'pdzd8', 'gabrr2', 'cdkn2d', 'h6pd', 'prr19', 'tecpr2', 'commd6', 'camta2', 'pdxk', 'mid1ip1', 'casp10', 'morn5', 'dnajc18', 'efhc2', 'dnmt3a', 'ckap4', 'fkbp1b', 'clc', 'fxyd6', 'tbc1d17', 'tmem63b', 'ints14', 'rcn2', 'bfsp1', 'ccdc137', 'myocos', 'lce2b', 'prss27', 'c1orf131', 'gcm2', 'cycs', 'prss53', 'dhx40', 'aamp', 'or2ag2', 'garem2', 'hdac9', 'rtl1', 'radil', 'klf16', 'apoc4', 'gpha2', 'tbx6', 'far2', 'creb1', 'tceanc', 'rasgrp4', 'foxo6', 'cox6a2', 'rgn', 'cdkn1b', 'gga3', 'foxn2', 'kcne3', 'il17a', 'cdipt', 'nbl1', 'ssc5d', 'hk1', 'pacrg', 'phlpp2', 'slc34a3', 'krtap5-6', 'cfap298', 'tmem252', 'dusp3', 'ecscr', 'pitpna', 'plscr1', 'spon2', 'prtn3', 'cdkn2aip', 'adgrl3', 'tm9sf2', 'itk', 'igf2bp2', 'acacb', 'or9g1', 'tmem100', 'map1lc3c', 'shc2', 'smad4', 'znf579', 'glrx', 'acadsb', 'gabrg3', 'enox2', 'slc4a10', 'nrxn1', 'fyb1', 'wdr41', 'hk3', 'znf791', 'phf20', 'mc3r', 'vegfd', 'mfsd6l', 'asap3', 'pik3ip1', 'fign', 'pcbd1', 'znf467', 'asxl1', 'dnaja3', 'ube4b', 'tulp3', 'iqck', 'rgmb', 'nap1l3', 'utrn', 'stx10', 'eid2b', 'proser2', 'il17rb', 'chrna5', 'jag2', 'procr', 'atrx', 'cdkl1', 'slc26a4', 'dagla', 'mlnr', 'tpst2', 'ctnnbl1', 'mrgprd', 'arhgef11', 'fyb2', 'reep3', 'slc7a3', 's100a2', 'or3a3', 'rapgef2', 'fam120aos', 'dapk2', 'tgif2', 'kmt2d', 'itgb4', 'nav2', 'or8d1', 'znf844', 'prpf18', 'ero1a', 'phyh', 'ccl25', 'exosc5', 'tmem69', 'nedd1', 'prmt3', 'hoxc6', 'cwc27', 'kaag1', 'pheta1', 'efcab8', 'plekha8', 'flt3', 'fam170b', 'gpc4', 'akap11', 'hipk2', 'znf564', 'mob1b', 'surf4', 'mtr', 'qser1', 'lratd2', 'clptm1l', 'dnajc15', 'ankrd54', 'neil2', 'hba2', 'sptan1', 'arhgap44', 'ubl3', 'prkcsh', 'il27', 'syt3', 'ssr4', 'znf852', 'lhx5', 'thoc6', 'slfn11', 'spata6l', 'tnfaip8', 'c6orf163', 'ubxn2b', 'snph', 'lyrm1', 'cby3', 'klhl8', 'slc35d2', 'sec61a2', 'gjd4', 'rbm43', 'htra1', 'fignl1', 'rgs11', 'slc9a3', 'gprin2', 'lrrc75a', 'zswim3', 'dcp1b', 'phf23', 'gstp1', 'mipol1', 'zcchc4', 'dbp', 'plagl1', 'rab1b', 'zdhhc16', 'rif1', 'cwh43', 'vwa8', 'stk17b', 'chrna2', 'bcl2l10', 'sugp1', 'tmem31', 'rad50', 'plekhg5', 'ifna8', 'stap1', 'znf331', 'gjb4', 'kcnh8', 'izumo2', 'or5bs1p', 'pabpc5', 'tp53', 'wipf1', 'psmb8', 'cybrd1', 'cap2', 'lrrc19', 'cyp8b1', 'tcaim', 'nlrc3', 'wfikkn2', 'taf11l8', 'aspdh', 'bves', 'lta4h', 'samd4a', 'iqsec1', 'cep128', 'milr1', 'lhfpl6', 'spata45', 'ifrd1', 'fstl5', 'app', 'cxcl17', 'sirpg', 'calml5', 'gca', 'grid2', 'cldn20', 'got1l1', 'cytl1', 'cdc26', 'ap5z1', 'elp1', 'c11orf71', 'rpe', 'ncapd2', 'myh14', 'olig1', 'lage3', 'hemgn', 'kcnn4', 'clptm1', 'ccne2', 'znf257', 'spns2', 'ankef1', 'hcls1', 'atp10d', 'rtp1', 'rspo3', 'cfap52', 'wdr33', 'adipor1', 'pcdha10', 'uqcc3', 'nbr1', 'ccer2', 'mcm10', 'irs1', 'sh2b3', 'c12orf43', 'slc16a13', 'ndufaf6', 'foxj1', 'smo', 'kiaa0100', 'mlf2', 'cxcl16', 'chpf', 'mmp3', 'plcxd1', 'hsd17b10', 'hand2', 'btbd10', 'otor', 'dus2', 'ufl1', 'fbp2', 'argfx', 'ap3m1', 'csad', 'cdkl5', 'spata2', 'pck1', 'itgb1bp1', 'prss45p', 'stab1', 'unc5b', 'esm1', 'cbfa2t2', 'pdlim5', 'slc46a1', 'zbtb42', 'znf880', 'riox1', 'slc39a8', 'cfap126', 'rnf170', 'fshb', 'sltm', 'sntb2', 'kat7', 'aasdhppt', 'csnk1g2', 'rtl6', 'plpp2', 'gage10', 'irak3', 'casp14', 'ccdc3', 'runx2', 'smad1', 'cd300c', 'dnah14', 'uqcrc2', 'oma1', 'fcer1a', 'rab1a', 'sap30l', 'c7orf57', 'tex19', 'znf732', 's100a14', 'tmco1', 'wdr92', 'raet1l', 'tmem61', 'rnf8', 'psmd13', 'bnipl', 'krt6a', 'pdzk1ip1', 'arhgap11b', 'tmod2', 'hmox1', 'ndufb6', 'aldh1a1', 'mpig6b', 'tmco2', 'mccc1', 'tdrd1', 'arhgef28', 'ucp3', 'sidt2', 'nek8', 'pard3', 'calm3', 'patz1', 'cnep1r1', 'hes6', 'ypel3', 'thap3', 'eri1', 'igfbp6', 'krtap20-2', 'vit', 'or2m3', 'slc19a1', 'mnat1', 'spag17', 'hdlbp', 'nrros', 'phox2a', 'tbc1d2b', 'ccdc68', 'rpusd4', 'tmem179', 'hspa4l', 'ythdf2', 'trim22', 'mmp9', 'or5b12', 'asb13', 'tppp', 'dkkl1', 'mllt10', 'fgb', 'slc43a1', 'lrrc4c', 'slc7a1', 'timp2', 'nup155', 'qpctl', 'ms4a7', 'rsph14', 'stag2', 'rhpn1', 'nrdc', 'fbxo28', 'ttll13p', 'trim55', 'gss', 'tspan9', 'c14orf132', 'trip11', 'r3hdml', 'cidea', 'f5', 'ltf', 'pbld', 'nup37', 'tk2', 'atp6v0d1', 'pls1', 'rffl', 'gpx7', 'armc6', 'tmem62', 'glrx3', 'tpd52l2', 'acly', 'slc10a1', 'brd3', 'gtf2e2', 'hnrnpu', 'gna15', 'aspg', 'arhgap29', 'mln', 'zdhhc6', 'pcdha1', 'mpdu1', 'mtmr9', 'caprin1', 'dynll2', 'fbxo41', 'fev', 'ogfod1', 'fam234b', 'serp1', 'slc6a2', 'tbx15', 'sepsecs', 'samhd1', 'ssx5', 'cdc42ep1', 'nacc1', 'aqp10', 'havcr2', 'lrtm2', 'dhx32', 'lrrc57', 'nsf', 'mycbp', 'edn3', 'foxj3', 'col5a1', 'slc6a9', 'ap2s1', 'fcrla', 'pcmt1', 'atg9a', 'glmp', 'glipr1l2', 'znf236', 'kcnj13', 'hes7', 'qprt', 'emc8', 'rsph10b2', 'ifna1', 'gprasp2', 'irgm', 'znf609', 'foxb2', 'znf286a', 'creg2', 'or4k13', 'or10g7', 'c1qtnf8', 'sf3b1', 'sgcz', 'tex50', 'ftsj1', 'gkn1', 'kcnj3', 'cyb5d2', 'apoc1', 'aqp6', 'gtpbp4', 'gab2', 'impa2', 'acat1', 'ppp6r3', 'btbd2', 'c3orf22', 'lamb1', 'wtip', 'kdm7a', 'prmt6', 'klrf2', 'stx12', 'catspere', 'septin8', 'upk1b', 'elf3', 'krt24', 'b3galt4', 'actl6a', 'cubn', 'fxr1', 'hmsd', 'rgl1', 'chrnd', 'kdr', 'ube2k', 'edaradd', 'lrp12', 'adamts12', 'sephs1', 'rfx8', 'clca2', 'actn4', 'borcs8', 'tmem185b', 'dok5', 'or2ak2', 'bub1', 'fam104a', 'dmrtc2', 'dnase1l1', 'ripor3', 'bmp7', 'hemk1', 'nanognb', 'mbl2', 'muc1', 'rbm8a', 'spi1', 'mrfap1l1', 'scgb2a2', 'dtx3l', 'ventx', 'nfatc1', 'pak3', 'jph3', 'efcab9', 'sec24b', 'gpr17', 'sppl2b', 'nck2', 'pold1', 'pramef6', 'tgfbr3l', 'ap5m1', 'ccdc178', 'insl5', 'sh3gl2', 'vipr1', 'dhrs7b', 'ascc3', 'pus10', 'dld', 'actr10', 'lce1b', 'p2rx4', 'dipk1c', 'nhsl1', 'rab39b', 'fam166b', 'mgrn1', 'acadl', 'or5i1', 'fam181b', 'cldn17', 'rbmx', 'tmem30b', 'slc12a9', 'kdm4c', 'casp5', 'ccdc122', 'hnrnpc', 'psma7', 'trim75p', 'lactb2', 'abraxas1', 'fsip1', 'c1orf115', 'inafm1', 'cyb5r2', 'ckm', 'hoxb6', 'prkar2b', 'ntrk1', 'emcn', 'rab11fip3', 'trmt6', 'hexim2', 'xrn2', 'nxph3', 'decr1', 'ate1', 'zscan12', 'msgn1', 'gpr4', 'csrp3', 'sigmar1', 'hyal3', 'gch1', 'gjc2', 'rnf214', 'sdcbp2', 'igsf3', 'or2t1', 'prrc2a', 'lin28a', 'rlf', 'csrp2', 'prdx4', 'morf4l1', 'dnah5', 'pcdha8', 'vps26c', 'ddx28', 'reep1', 'atad3b', 'telo2', 'whamm', 'myo7b', 'or1d2', 'ankrd27', 'mageb6', 'rgs7', 'micall1', 'cpa5', 'hsp90aa1', 'snupn', 'bnip5', 'klf14', 'psg2', 'dennd6b', 'c4bpa', 'epb41l4a', 'zbtb48', 'cpq', 'pdrg1', 'grsf1', 'sstr5', 'znf225', 'lgi1', 'or6n1', 'clcn2', 'lair1', 'pramef11', 'zar1l', 'galnt9', 'igdcc3', 'slc23a1', 'inip', 'lrrc75b', 'cenpp', 'mbd2', 'ndufc1', 'vav3', 'tm4sf20', 'dffb', 'mmd', 'tent4a', 'dlgap3', 'recql5', 'znf595', 'saraf', 'enho', 'tnnt3', 'scn8a', 'tmem132c', 'fchsd2', 'slc5a9', 'ing5', 'anapc5', 'gpank1', 'cry2', 'aldh6a1', 'klrk1', 'lhx8', 'plglb2', 'eif4g3', 'exo5', 'mfn1', 'glyr1', 'sgsm2', 'fam110d', 'polr2b', 'tspan17', 'ppp1cc', 'slc2a14', 'dph6', 'bub1b', 'trmt2b', 'crhr1', 'cct3', 'man2b2', 'yap1', 'c12orf75', 'dnmt3l', 'rpp25', 'hcrtr1', 'cabp4', 'fgf6', 'usp14', 'chd2', 'gypc', 'mcm5', 'hectd3', 'znf652', 'or14a2', 'oxtr', 'cox7b2', 'rheb', 'xylb', 'cep63', 'mcf2l2', 'anks6', 'tespa1', 'rd3l', 'magix', 'srd5a2', 'nat10', 'slc30a2', 'mutyh', 'ncl', 'lpar2', 'fam193a', 'nipal2', 'nacc2', 'tmem106c', 'tomm6', 'znf177', 'znf649', 'ror2', 'hsd17b1', 'rassf9', 'eml2', 'vwc2l', 'hk2', 'mettl18', 'cops7a', 'wfs1', 'p2rx1', 'ppid', 'sesn3', 'atg4d', 'ube2g2', 'sncb', 'hmgxb4', 'usp37', 'cdh9', 'muc22', 'ascl3', 'slc4a8', 'sec11a', 'tmem91', 'baiap2l2', 'znf311', 'ttbk2', 'rfx2', 'pcdhb8', 'hdac7', 'tapbp', 'polr1b', 'hspa12b', 'map3k21', 'dnaja4', 'nbpf3', 'irak4', 'clic3', 'znf805', 'itih6', 'cfap43', 'c1rl', 'zcwpw2', 'phka1', 'lrpprc', 'gas1', 'idua', 'c16orf96', 'eif3e', 'znf530', 'c2cd4b', 'sh3kbp1', 'acsm6', 'psmb10', 'tcf25', 'pxt1', 'mycn', 'dyrk2', 'mbp', 'anp32a', 'spata16', 'akap17a', 'znf23', 'snrpa', 'blnk', 'cdc27', 'hsp90b1', 'htra3', 'serpinb12', 'gpi', 'set', 'clcn1', 'plxdc2', 'vn1r1', 'foxs1', 'fam32a', 'smim30', 'lce1c', 'usp42', 'znf398', 'prkcb', 'notch2', 'lbr', 'noxred1', 'tmem255b', 'ints6', 'smarcb1', 'ccbe1', 'dnajc16', 'capzb', 'hsd17b6', 'ccar1', 'rap1gap', 'c19orf73', 'dnajb4', 'or52n2', 'gfer', 'rhoq', 'abca6', 'scx', 'edrf1', 'cpsf6', 'maff', 'stk11', 'dram1', 'pip5kl1', 'fmn1', 'znf366', 'ptpro', 'idh3b', 'ppp1r3b', 'thnsl2', 'agbl2', 'bag4', 'or9i1', 'banf1', 'fstl3', 'akap1', 'znf626', 'ceacam4', 'f10', 'tia1', 'septin12', 'znf251', 'clca4', 'aaas', 'ptgds', 'm6pr', 'neil3', 'pus7', 'trpv5', 'grin3b', 'setdb1', 'hyal4', 'pigk', 'usp16', 'asic3', 'nkain4', 'znf22', 'gdi1', 'pglyrp4', 'znf500', 'limch1', 'or10a3', 'ccl11', 'samd15', 'bub3', 'man1c1', 'pou1f1', 'itga3', 'wdr74', 'znf347', 'pak1ip1', 'zkscan8', 'tmem151a', 'or4d1', 'znf408', 'ndufb7', 'mical1', 'arg1', 'fgf23', 'kcne4', 'depdc1', 'lekr1', 'il26', 'p3r3urf', 'or4d2', 'usp27x', 'specc1', 'kcnh5', 'tcf7l1', 'il18rap', 'c17orf49', 'dock2', 'rab3gap1', 'znf397', 'klhl12', 'apc2', 'xaf1', 'mfsd4a', 'blm', 'ywhae', 'pfkfb4', 'c2cd3', 'micb', 'l3mbtl4', 'kcns1', 'kdm5b', 'kcnk7', 'phtf1', 'znf473', 'phf3', 'elp4', 'sptlc3', 'rnf180', 'gtf2f2', 'tsc22d3', 'ambp', 'gmfg', 'stx1a', 'hal', 'ubb', 'pcm1', 'drap1', 'rrm2', 'csf2rb', 'bsx', 'ddx6', 'chat', 'txlnb', 'arf3', 'tmem64', 'usp41', 'slc44a1', 'nlrx1', 'ect2', 'prob1', 'or5c1', 'tmprss11b', 'kmt2c', 'acyp2', 'fbxl3', 'uqcc2', 'tmem126b', 'them5', 'ptgs2', 'ranbp6', 'tmem238', 'gata3', 'nek10', 'ptprt', 'nrgn', 'plcg2', 'cyp2e1', 'cacna1c', 'nicn1', 'gpr33', 'lgi4', 'st3gal4', 'atl1', 'spz1', 'prickle1', 'ccl5', 'cdk16', 'snx18', 'ddtl', 'rnf113a', 'efhb', 'atxn2', 'igfbp2', 'gpr171', 'pycr3', 'cabs1', 'mad2l2', 'lypd4', 'bbof1', 'osbp', 'l2hgdh', 'scai', 'rnf186', 'siglec7', 'dock8', 'lrfn3', 'nlrp11', 'sp3', 'nlgn4x', 'rnf227', 'ppp1r9a', 'jund', 'tsks', 'ccdc65', 'gmppb', 'spata22', 'meak7', 'tra2b', 'vrtn', 'tceanc2', 'hibadh', 'ddx21', 'il11ra', 'neto2', 'fam207a', 'tollip', 'il27ra', 'rgp1', 'rbmxl1', 'znf160', 'robo1', 'hnf4a', 'pcsk1n', 'cd53', 'mettl17', 'slc35f4', 'leo1', 'rbm39', 'gnb1l', 'csn2', 'igip', 'or52h1', 'sox6', 'flt4', 'atat1', 'odf1', 'zmynd11', 'il24', 'tac4', 'ppp1r3d', 'trmt10a', 'arfgap2', 'hspa8', 'clic5', 'sap30bp', 'slc4a5', 'lama5', 'arhgap6', 'or8k5', 'cpne8', 'krtap24-1', 'gja5', 'sp6', 'atp23', 'lilra2', 'hdx', 'apoe', 'stc1', 'rnf103', 'tbc1d20', 'bard1', 'shc4', 'ccdc177', 'krt17', 'tex37', 'polm', 'dhx9', 'luc7l2', 'galnt2', 'ufsp2', 'arhgap26', 'il36b', 'agap3', 'adgra2', 'robo3', 'efr3a', 'tbx5', 'zdhhc22', 'pcnx1', 'pdp1', 'efcab11', 'cenpx', 'znf304', 'c12orf50', 'exph5', 'gpsm1', 'lonrf1', 'antkmt', 'sec23ip', 'cacna2d3', 'intu', 'gtpbp3', 'mllt1', 'znf577', 'snrpd3', 'hs3st1', 'acp5', 'mmadhc', 'ddx50', 'ncr3lg1', 'znf593', 'gpr37l1', 'kifap3', 'ptms', 'ptprq', 'tent5a', 'secisbp2', 'lck', 'or5h15', 'calhm4', 'ranbp9', 'myom2', 'mat2a', 'ldhc', 'msantd2', 'cd1d', 'inava', 'mospd3', 'kcnk16', 'upf1', 'bmerb1', 'vkorc1', 'ap1m2', 'smim38', 'fscb', 'fcer1g', 'gstt2b', 'cpo', 'micos13', 'cnot3', 'hspa1l', 'dnai1', 'ccdc106', 'gnrh2', 'kiaa1841', 'mtdh', 'abca2', 'abcd4', 'elavl1', 'mettl5', 'abi2', 'ostf1', 'rbm19', 'ipcef1', 'ctps2', 'frmd4b', 'gja8', 'atp1a1', 'krtap20-1', 'fam149a', 'ypel2', 'bnip2', 'anxa2', 'smim6', 'tmem158', 'stim1', 'immp2l', 'lins1', 'sgcd', 'il15', 'igf2bp3', 'or10h3', 'fzr1', 'oga', 'znf230', 'or6y1', 'pilra', 'rtl3', 'egr4', 'il36a', 'lrig1', 'gck', 'gpr19', 'psd3', 'ssuh2', 'rpp30', 'pcdhgc3', 'itga1', 'pabpc1l', 'sec13', 'ankh', 'rbm27', 'gtf3a', 'kynu', 'gcc1', 'jdp2', 'wfdc13', 'magea11', 'cidec', 'abtb2', 'aass', 'smad7', 'mppe1', 'prss55', 'wsb2', 'htatip2', 'gid8', 'snrpa1', 'pdik1l', 'tead3', 'tmsb4x', 'znf654', 'map7d2', 'trhde', 'phf11', 'lcor', 'znhit2', 'glt8d1', 'slc29a4', 'gdf2', 'pcdh10', 'tbx4', 'adi1', 'hdhd5', 'magec2', 'brd8', 'gpr27', 'usp5', 'myl12a', 'faf1', 'vwf', 'znf792', 'wfdc12', 'p2ry6', 'nsd1', 'cttnbp2', 'stox1', 'trim29', 'ino80c', 'ntan1', 'asb5', 'top2a', 'tp53rk', 'calcrl', 'syt10', 'or52e8', 'chst5', 'eddm3b', 'hmgb3', 'unc45a', 'ccl22', 'cdkn3', 'napg', 'col12a1', 'snx13', 'slc17a8', 'mmp21', 'gphn', 'nlrp6', 'jmjd1c', 'tirap', 'ccl27', 'jup', 'cyp27c1', 'cd300ld', 'rbpms', 'lpin1', 'tmem213', 'pxdnl', 'mab21l2', 'ralbp1', 'cdc37', 'linc02218', 'rnaseh1', 'rttn', 'ch25h', 'plcl1', 'rbl1', 'kcnj8', 'snx1', 'ct55', 'cep70', 'tex11', 'tbc1d5', 'tmem150a', 'ccna2', 'ahr', 'ccdc180', 'clcf1', 'scube1', 'sirpd', 'parvb', 'fam221a', 'shoc1', 'dppa2', 'bfsp2', 'st3gal1', 'ctbp2', 'gna13', 'col9a3', 'st3gal2', 'paqr7', 'rfpl4al1', 'crlf3', 'crim1', 'cldn14', 'pi4ka', 'gnl3', 'kiaa2013', 'pycr1', 'ptpra', 'znf181', 'ecm2', 'il12rb1', 'pgk1', 'nphp1', 'cdc45', 'or4d10', 'cd38', 'clcc1', 'c19orf47', 'cyp27b1', 'angel2', 'mtres1', 'mreg', 'btnl8', 'fbln1', 'scgb1d1', 'acot6', 'fam9c', 'edar', 'nipbl', 'peak3', 'ivl', 'lsm8', 'lyar', 'cox7a1', 'pomp', 'iqcb1', 'cdk8', 'cd19', 'rab29', 'epha6', 'plek', 'spred1', 'ndufa5', 'or52e4', 'slc41a3', 'ibsp', 'stpg2', 'lnx1', 'hdac2', 'got2', 'camk2n2', 'fam78b', 'eftud2', 'dmtf1', 'slc38a11', 'tspoap1', 'taf2', 'atp1b3', 'pitrm1', 'snrpf', 'ssr1', 'ccin', 'polr2g', 'sectm1', 'c2cd4c', 'cyth4', 'sh2d1a', 'ndufaf8', 'fancd2', 'msln', 'c2orf92', 'hoxa5', 'klrg2', 'lrp5', 'tmem131', 'slc36a2', 'otop1', 'cntn4', 'fgf19', 'trmu', 'dthd1', 'shox2', 'ufm1', 'afap1', 'cdx2', 'tvp23c', 'serpinh1', 'lat2', 'hpf1', 'senp1', 'arhgap12', 'mn1', 'crp', 'mobp', 'nipal3', 'dzip1', 'brsk1', 'or2g6', 'pspc1', 'kcnb2', 'ebp', 'pcdh20', 'fmc1', 'plac9', 'ankrd52', 'dusp9', 'atp1a2', 'ankrd28', 'ints9', 'sf3b2', 'sox12', 'prex1', 'ogt', 'tfrc', 'or6k3', 'polr1c', 'bsn', 'spry4', 'myof', 'suclg2', 'mmp1', 'snrk', 'polr1a', 'vps37a', 'fam81a', 'znf711', 'anapc13', 'bmp8a', 'tslp', 'cstf3', 'pnpla3', 'herc6', 'atp8a2', 'csnk1g1', 'ap1m1', 'sirt2', 'abca12', 'obsl1', 'fry', 'hexa', 'smg9', 'mzf1', 'ssx2ip', 'hipk3', 'gpr34', 'tmem169', 'sprr5', 'adamts19', 'fbxo15', 'tex46', 'gadl1', 'kifc3', 'cxcl14', 'zzef1', 'fam210a', 'hif3a', 'ecpas', 'cast', 'ociad1', 'sfxn5', 'rab18', 'ttn', 'krt86', 'bcl7c', 'ptger1', 'fibcd1', 'ube2l5', 'myog', 'akain1', 'eci2', 'edc3', 'khdrbs3', 'fibin', 'bclaf3', 'alpk2', 'sfxn3', 'ina', 'rgs21', 'gabrd', 'pea15', 'cdk2ap2', 'lbhd2', 'gucy1a1', 'bcan', 'ppa2', 'uba6', 'kras', 'psmg2', 'spry2', 'dlst', 'blvrb', 'lgals8', 'saal1', 'gyg2', 'tnfrsf10b', 'nefm', 'ppp1r26', 'tmprss4', 'col24a1', 'or6c6', 'atp6v0d2', 'arid5a', 'zmym1', 'mfsd8', 'reln', 'grip2', 'ndufs8', 'depdc5', 'smim35', 'sar1a', 'rere', 'stard7', 'kbtbd6', 'figla', 'clec10a', 'siglec10', 'xcl1', 'ube2e3', 'rd3', 'shld2', 'gria4', 'mt3', 'mt-atp6', 'mrtfb', 'kctd8', 'poglut3', 'znf697', 'stxbp2', 'il12b', 'alg14', 'ccdc54', 'rfk', 'ugt2a3', 'ivd', 'sh3rf3', 'gucy2c', 'brip1', 'trappc12', 'tspan6', 'ly6g5c', 'bccip', 'selplg', 'dram2', 'tmed8', 'tpd52l3', 'izumo1r', 'fer', 'adcy6', 'insig2', 'nipal1', 'ifit1b', 'ms4a1', 'prorp', 'spem1', 'crhr2', 'rpp40', 'sgpp1', 'tas2r4', 'pdlim4', 'acsbg1', 'rhd', 'fkbp14', 'calml6', 'c3orf49', 'cd200r1', 'igf2bp1', 'cyp2r1', 'kiaa1109', 'limk1', 'slitrk3', 'ctsb', 'c1orf194', 'or2ae1', 'scmh1', 'wwox', 'tmem151b', 'laptm5', 'mamld1', 'ranbp17', 'mlc1', 'pnldc1', 'ucn2', 'muc15', 'dnaaf4', 'nr2c1', 'tnp2', 'slc24a4', 'dmbx1', 'pgbd5', 'or11l1', 'adprhl1', 'shkbp1', 'mea1', 'stradb', 'bcl2l2', 'p4ha3', 'fubp1', 'kctd10', 'snx22', 'c17orf97', 'slc27a1', 'c6orf15', 'pcmtd1', 'ubac1', 'gpr88', 'mrgpre', 'sprr1b', 'dnaaf5', 'lrrc36', 'ccsap', 'selenoo', 'sfta2', 'fbxl15', 'mtg2', 'sccpdh', 'atg12', 'cdh2', 'ruvbl1', 'mtrf1', 'cotl1', 'insyn2a', 'lgals1', 'mbtps2', 'tceal8', 'ggt7', 'primpol', 'casp7', 'znf581', 'plch2', 'nap1l5', 'lpar6', 'gclc', 'sh3bp1', 'nr5a2', 'mertk', 'b3gnt9', 'mylk', 'cbln1', 'naaa', 'ccl2', 'elf4', 'vgf', 'tbxt', 'fastkd5', 'zfyve26', 'atp6v1e1', 'dsg2', 'dab2', 'vwce', 'dll3', 'dock5', 'gbp7', 'shisa2', 'sycp2', 'rap1gds1', 'strn4', 'lmtk3', 'rabggta', 'krtap21-2', 'tent5b', 'setx', 'vti1a', 'cpd', 'cdc14a', 'mdh2', 'gnai3', 'zmym6', 'cd276', 'pde2a', 'rbck1', 'mylk3', 'rgs8', 'lsg1', 'gaa', 'dtl', 'lamb2', 'chrac1', 'foxk2', 'nppc', 'fadd', 'jak2', 'suz12', 'bend5', 'gpr142', 'ppp1r9b', 'smyd5', 'tmprss11a', 'cyp2a7', 'kiaa1549l', 'hapln4', 'large1', 'mfsd5', 'cyp27a1', 'actn3', 'tube1', 'degs1', 'tomm40l', 'dscam', 'ccdc154', 'htr1d', 'arl2bp', 'yipf6', 'adamts16', 'clec6a', 'nell2', 'fxyd5', 'aldh2', 'barx1', 'map3k3', 'kdm5c', 'hsf2bp', 'ccndbp1', 'tdp2', 'smim28', 'ncoa4', 'herc4', 'ttc36', 'nudt14', 'mindy2', 'hdhd2', 'lrrc74b', 'gpr37', 'nif3l1', 'nup58', 'pank2', 'hnrnpa3', 'thap10', 'wdr83', 'cst5', 'pou4f3', 'nefl', 'nxn', 'mtss1', 'pgghg', 'prpf6', 'abhd14a', 'ephb3', 'nlgn1', 'rassf6', 'arrdc4', 'tm6sf2', 'aldh16a1', 'hax1', 'mindy4b', 'sdcbp', 'pes1', 'ttll1', 'gli4', 'mal', 'barhl1', 'imp4', 'pfn2', 'tnfrsf19', 'trnt1', 'prr23a', 'slc3a1', 'epn3', 'lap3', 'trib3', 'slc12a7', 'acad9', 'spryd4', 'c9orf131', 'kcnj1', 'arap2', 'fkbp7', 'tm9sf1', 'pomc', 'slc39a14', 'nkx1-1', 'dus4l', 'gnmt', 'rabggtb', 'nupr2', 'isoc2', 'ube2q1', 'hjurp', 'neil1', 'nae1', 'plin4', 'sapcd2', 'mpi', 'col8a1', 'prkacg', 'lpcat1', 'or5as1', 'c8orf58', 'cd4', 'pphln1', 'c15orf48', 'nbpf1', 'mier2', 'znf727', 'dpy19l3', 'aoah', 'sugp2', 'rbp7', 'mrnip', 'adam11', 'slc13a4', 'ankrd1', 'crat', 'znf17', 'ttc32', 'cntnap5', 'defb125', 'anp32b', 'timm22', 'c11orf95', 'kif9', 'sik2', 'proser3', 'sap25', 'sptlc1', 'lamb3', 'nbeal2', 'adprm', 'notum', 'gpr157', 'epha3', 'dync2h1', 'polr2k', 'myh2', 'cxxc1', 'gabra4', 'ndor1', 's100a11', 'znf829', 'lztr1', 'tmem8b', 'maip1', 'gfm1', 'unc13b', 'fkbp10', 'cenpb', 'snai1', 'tdrkh', 'icam4', 'dmxl1', 'mylip', 'hic1', 'mlkl', 'vamp1', 'psmc4', 'pla2g1b', 'gria2', 'znf335', 'slc25a52', 'p2rx7', 'znf354c', 'naprt', 'mafb', 'ccl14', 'nkx2-5', 'gjb3', 'chrdl1', 'abcd2', 'trabd', 'abce1', 'pax5', 'cdc42ep2', 'slc7a11', 'or2t10', 'ptrh1', 'dcakd', 'snx2', 'ngef', 'rpap3', 'plpbp', 'pam16', 'c19orf71', 'kif3b', 'fam50a', 'naa25', 'traf6', 'chn1', 'cldn10', 'dcps', 'brca2', 'gtf2a1', 'mettl3', 'npc2', 'kcng1', 'hyi', 'cul2', 'adra2c', 'krt8', 'lrrc7', 'cfhr2', 'vamp8', 'fbxo30', 'upk3b', 'wnt8b', 'or5k3', 'znf385a', 'cdk11a', 'arhgap9', 'hoxb7', 'aurkaip1', 'eid2', 'slc25a13', 'c1orf210', 'heatr5b', 'or52k1', 'myo1e', 'nostrin', 'bend7', 'cdh22', 'tnfaip1', 'psmb7', 'cldnd2', 'depdc7', 'dusp22', 'tmem35b', 'nipa1', 'fmr1nb', 'psen2', 'pthlh', 'insc', 'vps25', 'rnf32', 'men1', 'abcg5', 'tmem187', 'pcna', 'tpsd1', 'safb2', 'trim56', 'klhl42', 'sgms2', 'fmn2', 'arnt', 'bmp6', 'ticam1', 'kcnh6', 'cdh11', 'cant1', 'tmem127', 'or5b3', 'rce1', 'atp6v1d', 'siglec6', 'atg16l1', 'ddx1', 'slc9b2', 'myh8', 'nudt1', 'znf684', 'zdhhc5', 'srbd1', 'pcmtd2', 'foxf2', 'rangrf', 'phf19', 'tnf', 'impdh2', 'ccdc89', 'fam9a', 'zp2', 'tnpo3', 'c15orf62', 'sertad4', 'pelo', 'trnp1', 'hey2', 'acta2', 'chsy3', 'rsrp1', 'snx14', 'wdr62', 'fn3krp', 'pxdn', 'krt3', 'adgrf3', 'arhgap17', 'apobec3h', 'wbp1l', 'abhd11', 'ggt6', 'zyg11b', 'vegfc', 'kiaa0753', 'cdkal1', 'ctnna3', 'wbp4', 'rhobtb3', 'mpzl3', 'zbtb44', 'c16orf89', 'grm6', 'casd1', 'rac1', 'nom1', 'pstpip1', 'ass1', 'znf572', 'ppm1g', 'ubtd2', 'npbwr1', 'plod3', 'cyp4x1', 'znf300', 'capn14', 'prr14l', 'fancf', 'ptcd2', 'il31', 'c1orf105', 'mvp', 'tnfrsf25', 'me3', 'angptl7', 'bcl9l', 'oat', 'add1', 'lrrc10', 'hmgcs2', 'arl11', 'adamts8', 'adad2', 'cd24', 'acadvl', 'tfb2m', 'or10k2', 'bod1l1', 'tigit', 'mark2', 'kat14', 'vat1l', 'kcnk6', 'kiaa0408', 'chrfam7a', 'tubgcp5', 'aacs', 'swt1', 'ppp3r1', 'cdc34', 'gpr25', 'nrep', 'bmp2', 'iah1', 'diaph1', 'cd27', 'socs3', 'pld6', 'wdr25', 'wfdc3', 'ppm1n', 'c9orf153', 'fam237a', 'hdgf', 'adh5', 'clec12b', 'cdc20b', 'cdkn2c', 'hexd', 'trim72', 'syt12', 'klhl13', 'kif22', 'mpo', 'oosp3', 'rabif', 'klc3', 'muc7', 'paip1', 'fosl1', 'vezf1', 'rab37', 'casc3', 'or2i1p', 'prss12', 'sharpin', 'krt33a', 'lcn9', 'ctns', 'sde2', 'tex53', 'c12orf54', 'ube2n', 'mpst', 'rpia', 'nps', 'wnt6', 'top3a', 'col4a6', 'adgrg4', 'fscn1', 'man1b1', 'smkr1', 'pcbp4', 'nop14', 'anpep', 'otulin', 'tnnc2', 'fgf16', 'larp4b', 'ddx39b', 'wscd2', 'adnp2', 'krtap5-9', 'tp53bp2', 'shc3', 'atrip', 'ptch1', 'mss51', 'cd247', 'tdg', 'ervmer34-1', 'tspan19', 'plaat4', 'cebpe', 'tuba1c', 'pcdha12', 'zic3', 'pdia5', 'nsmce4a', 'tmed2', 'ltbp3', 'isy1', 'ckap2', 'tspyl2', 'sh3bp5', 'nupr1', 'dnase1l2', 'ly6h', 'ssna1', 'gp9', 'ppp1r16a', 'mx2', 'gltp', 'smarca5', 'spata17', 'tnrc18', 'or2b6', 'il11', 'hbm', 'ropn1b', 'hinfp', 'msrb1', 'cldn9', 'bcam', 'kiaa0930', 'cep350', 'rcn1', 'eml5', 'kctd14', 'veph1', 'cxcr5', 'slco2b1', 'fbxl17', 'drd4', 'u2af2', 'mia', 'slc25a21', 'maob', 'zscan29', 'hmgn4', 'lmnb2', 'cmtm6', 'ccdc8', 'bik', 'n6amt1', 'ccdc86', 'apba1', 'pdia2', 'slc44a2', 'nr2c2', 'nos2', 'sipa1l3', 'zcchc2', 'rilpl2', 'etfa', 'ube2r2', 'invs', 'kti12', 'tanc2', 'reps2', 'hmg20b', 'c2orf16', 'pde1c', 'prrg4', 'krt7', 'lmo3', 'nup62', 'ccdc157', 'bex2', 'tmem220', 'spdya', 'pth1r', 'wiz', 'wdr18', 'smndc1', 'tff2', 'cilp', 'card6', 'slc5a2', 'rbm42', 'calml3', 'pycard', 'ca5a', 'tiam1', 'irf1', 'pkib', 'fnbp4', 'snx32', 'znf674', 'cript', 'tnfrsf9', 'gfra1', 'gpr45', 'gpr153', 'mia2', 'myom3', 'kiaa1755', 'krtap20-4', 'dnajc28', 'acp7', 'or7g1', 'arsb', 'rgs20', 'pip4p2', 'swap70', 'drc7', 'dennd1b', 'abcb9', 'slc38a1', 'syap1', 'smim8', 'ugt1a10', 'isyna1', 'atp2c1', 'mybpc3', 'fam104b', 'cpsf2', 'ndufs5', 'ndufa4l2', 'tax1bp1', 'sftpa1', 'chrna7', 'cd300lb', 'tubgcp2', 'scn2a', 'sypl2', 'ube2d3', 'cherp', 'abcb6', 'sucnr1', 'slc28a1', 'igsf23', 'mlph', 'mphosph10', 'wdr86', 'haus6', 'lig3', 'dlx4', 'fabp7', 'tpmt', 'armc5', 'cetn2', 'htr7', 'mpz', 'etf1', 'rag2', 'znf213', 'fat4', 'znf98', 'efcab6', 'taf4', 'rtl5', 'pithd1', 'or2f1', 'ccn5', 'uspl1', 'togaram1', 'ptpn21', 'slc25a53', 'bace1', 'zdhhc18', 'pdcd4', 'tas1r1', 'crisp2', 'c19orf67', 'znf671', 'cfap97d2', 'nim1k', 'acbd4', 'trim60', 'cggbp1', 'myo1f', 'aqp9', 'krtap1-1', 'lrrc14b', 'wscd1', 'rfc2', 'cdcp1', 'nek7', 'leng9', 'pi4k2a', 'trim21', 'trim3', 'msto1', 'tmem171', 'actr1b', 'il13', 'snx10', 'sptb', 'amph', 'c7orf50', 'cxcr6', 'idi1', 'tulp4', 'aqp1', 'vsig2', 'irf6', 'niban1', 'arsj', 'slc39a3', 'pnoc', 'fzd8', 'pik3c2a', 'fanci', 'dph1', 'swi5', 'cd226', 'dock6', 'ftcdnl1', 'twf2', 'ddx51', 'tti2', 'xcl2', 'lrp2', 'trarg1', 'tmprss9', 'znf512', 'pcgf6', 'wdr91', 'pih1d1', 'bri3', 'sms', 'acsm1', 'cntnap4', 'epb41l5', 'cemip2', 'lipa', 'b4gat1', 'kiaa0825', 'skap2', 'yy1', 'senp6', 'khnyn', 'hoxa10', 'sco2', 'pbrm1', 'pcdha3', 'lactb', 'mfsd3', 'mmab', 'rasgrp3', 'slc16a2', 'acyp1', 'ttc6', 'gmpr2', 'scn5a', 'rpusd2', 'trpm3', 'tmprss6', 'tmem30a', 'erfe', 'aplp1', 'kptn', 'nmrk1', 'trim59', 'ankrd24', 'rrs1', 'zdhhc12', 'efcc1', 'wdr72', 'mbd3l2b', 'ilf3', 'rbm4b', 's100a9', 'pdcl2', 'dmbt1', 'il2rg', 'mas1l', 'rab44', 'lhx9', 'mme', 'tfdp3', 'tbrg4', 'lipk', 'gpr26', 'znf502', 'slx4ip', 'emc1', 'defb134', 'mcts1', 'capn6', 'dcn', 'nfic', 'abca10', 'ddx17', 'zbtb25', 'knl1', 'glo1', 'znf771', 'nrbp2', 'map3k8', 'krt79', 'cdc14b', 'samd5', 'usp32', 'fbxo44', 'crtac1', 'fgd3', 'cd2', 'or4k15', 'slfn12', 'zfp14', 'umps', 'sema6c', 'clpb', 'c1orf21', 'acvr2a', 'atm', 'igsf9b', 'hnrnph2', 'relt', 'sox13', 'nmral1', 'tet2', 'taok1', 'klrc3', 'dlg3', 'atp2a2', 'esrp1', 'ranbp3l', 'birc3', 'serpina6', 'znf536', 'septin1', 'rfpl3', 'vn1r4', 'scgb3a2', 'gtse1', 'fam110c', 'sh3tc2', 'wbp2nl', 'yod1', 'cpa1', 'acvr1c', 'grm7', 'hcn1', 'bpnt1', 'znf547', 'mrm3', 'ubap2', 'adam20', 'lsm4', 'rbpjl', 'dop1b', 'msc', 'blvra', 'znf641', 'lsm10', 'smad6', 'osgin2', 'c17orf113', 'isg20', 'kif11', 'rab22a', 'tyw3', 'diras1', 'trappc11', 'ube2c', 'mcrip1', 'slf2', 'or2j3', 'dse', 'or2ag1', 'cdk6', 'pdcd1lg2', 'nmrk2', 'rnf14', 'otoa', 'pyroxd1', 'grm2', 'or2a12', 'tmem101', 'impg1', 'prdx3', 'adamtsl4', 'adgrg1', 'spdye4', 'polrmt', 'ugt2b28', 'ccng1', 'jmjd6', 'ubr4', 'scnm1', 'raet1g', 'stimate', 'rnf148', 'mamdc2', 'nek11', 'babam1', 'zfyve21', 'znf414', 'mon1b', 'mest', 'rarres1', 'folr1', 'dctn4', 'oca2', 'lyzl6', 'ephb4', 'pom121l2', 'trmt9b', 'eloc', 'dimt1', 'nrip3', 'bag6', 'trim54', 'hebp2', 'gle1', 'fam43b', 'samd1', 'metrn', 'minar1', 'cyc1', 'ccr10', 'ndufs1', 'ciz1', 'hapln2', 'slc12a2', 'syt11', 'ptgr2', 'sp9', 'klhl22', 'c1orf174', 'crispld2', 'tshr', 'dnase2', 'aamdc', 'slc10a4', 'gnrh1', 'znf382', 'lag3', 'cnfn', 'arhgef19', 'igfbp5', 'cgref1', 'spx', 'ctu2', 'neto1', 'lca5', 'dleu7', 'rtn3', 'scn7a', 'iqcn', 'tfap2e', 'ralgapa1', 'slc16a10', 'znf665', 'mymx', 'oaf', 'grwd1', 'ggtlc1', 'cenpw', 'tspyl5', 'abcc2', 'tcn2', 'insyn1', 'robo2', 'prmt5', 'tab3', 'vps39', 'znf343', 'leprot', 'tanc1', 'cand1', 'ngfr', 'zdhhc1', 'jchain', 'eny2', 'txn2', 'glyatl3', 'lect2', 'hoxa4', 'surf2', 'tor1aip2', 'ddx19a', 'znf587', 'zranb3', 'ripor1', 'acaa2', 'myadm', 'cd209', 'prdm15', 'smad9', 'tead1', 'wdr13', 'tpst1', 'elavl4', 'rln2', 'adgrf2', 'slco1b3', 'trak2', 'tbx21', 'arid3c', 'dnai2', 'ptpn13', 'mal2', 'ankrd46', 'c10orf53', 'tmem259', 'nebl', 'wdr17', 'med7', 'or2aj1', 'ebag9', 'kcnq4', 'mthfd2l', 'yars2', 'adora2a', 'dpt', 'adamts14', 'ccdc85c', 'akr7a2', 'rngtt', 'sult1c3', 'slc26a3', 'sycp3', 'ethe1', 'hdac10', 'tc2n', 'cog4', 'adra1d', 'fggy', 'pla2g5', 'baat', 'nlgn2', 'c11orf24', 'gan', 'pdgfra', 'spdye1', 'cln6', 'tbl3', 'adcyap1', 'tlk1', 'lysmd3', 'atp5pf', 'frmd5', 'c2orf78', 'pacc1', 'pcdh7', 'lox', 'hrh4', 'vps33a', 'mark1', 'fbxl5', 'acss2', 'gramd2b', 'shmt1', 'basp1', 'rab21', 'tmem9b', 'srsf5', 'gsx1', 'med13l', 'oip5', 'e2f5', 'mcf2', 'prkd3', 'slc25a1', 'or2t34', 'dpp10', 'saxo1', 'sumo3', 'plk2', 'aifm2', 'brd7', 'krtap1-3', 'ndst4', 'e2f7', 'nop53', 'sdc2', 'nploc4', 'nit2', 'spcs3', 'nlrp2', 'trem2', 'lzts1', 'tff1', 'lin9', 'ppp1r32', 'slc39a9', 'foxl2', 'ddx58', 'gpnmb', 'slco6a1', 'or2c3', 'ltb4r', 'mfap1', 'gnl3l', 'atp7a', 'mmp8', 'optc', 'triml2', 'tmem74b', 'yju2', 'znf648', 'cmpk1', 'rtkn', 'sema3c', 'dcaf15', 'coa7', 'cacul1', 'yipf2', 'col22a1', 'fam187b', 'ext2', 'ncapg', 'ephx1', 'prnp', 'mtap', 'gabarap', 'cacna1f', 'abhd16b', 'msl2', 'fam228b', 'rbm45', 'golga5', 'txndc9', 'pglyrp2', 'dnaaf3', 'usp17l15', 'klhl35', 'txlng', 'slc18a2', 'fam13c', 'adam12', 'sugct', 'gbf1', 'rnasel', 'obscn', 'scn10a', 'plaat1', 'znf175', 'dnajc21', 'or4f21', 'cldn2', 'klhl2', 'st18', 'c11orf91', 'cphxl', 'traf4', 'hscb', 'commd9', 'sav1', 'zpbp', 'tctn3', 'hpr', 'mon1a', 'septin14', 'hs3st2', 'daw1', 'crlf2', 'cd84', 'rwdd4', 'miip', 'ndufs6', 'ntn1', 'cenpv', 'cpxcr1', 'synpo2l', 'mospd1', 'enpp7', 'psap', 'disp1', 'ly6g6f', 'rhot2', 'shisa4', 'cnot10', 'gli2', 'otogl', 'abat', 'ank1', 'gon4l', 'rad23a', 'adam30', 'or6c74', 'tfcp2', 'sema4f', 'camp', 'slc2a5', 'kiaa0319l', 'rorc', 'mak16', 'coprs', 'p2ry11', 'rhbdf2', 'dhfr', 'ivns1abp', 'rgs2', 'trim45', 'dna2', 'plekhg1', 'cttnbp2nl', 'nelfa', 'foxh1', 'gdpd5', 'tsacc', 'pank3', 'styk1', 'prxl2c', 'wdr5b', 'ece1', 'ttl', 'fam136a', 'cxxc5', 'tram2', 'trappc6b', 'gnb1', 'phka2', 'klhdc10', 'yy2', 'mt-co2', 'mok', 'ervv-1', 'col20a1', 'smcr8', 'srrm2', 'dnajb2', 'timm13', 'map1b', 'exosc7', 'taf5', 'epc2', 'or52i2', 'sp110', 'fbxl6', 'fmo5', 'grik1', 'tmem222', 'lrfn2', 'ascl4', 'eno1', 'rara', 'psmd4', 'ano9', 'ppp1r35', 'ciapin1', 'rbbp8', 'slc6a1', 'larp7', 'scp2', 'cog6', 'usp18', 'cryba2', 'dcaf8', 'tspan3', 'lsm14b', 'fgd1', 'zdbf2', 'irf3', 'arl8b', 'szrd1', 'ptprg', 'ms4a8', 'tenm4', 'st7l', 'npvf', 'slc7a5', 'stk16', 'dnajc1', 'pdia3', 'ccdc78', 'ralgapa2', 'smpx', 'wnt2', 'pagr1', 'lrriq3', 'cyb561', 'tm7sf2', 'myf6', 'lrrc71', 'anxa6', 'pipox', 'ypel4', 'rtcb', 'chmp4a', 'wnt8a', 'tek', 'wfdc6', 'iffo2', 'krtap17-1', 'il6r', 'trir', 'hoxc12', 'nox5', 'bfar', 'tenm3', 'thbs4', 'nifk', 'pdcd6', 'nr1i2', 'znf524', 'clec4g', 'atf5', 'stt3b', 'bud13', 'palm', 'cenpm', 'mrap2', 'tbc1d8', 'cavin2', 'scube2', 'lipn', 'fat3', 'tmem92', 'slc16a5', 'fam90a26', 'iqca1', 'akip1', 'epha7', 'parp9', 'prr23b', 'dlc1', 'smad3', 'brpf1', 'lsmem2', 'zbtb40', 'ncbp2l', 'zbbx', 'ttc9c', 'gtf3c2', 'slirp', 'ttc8', 'znf580', 'ca11', 'rrbp1', 'cybb', 'fgfr3', 'areg', 'khdrbs2', 'ift22', 'fabp4', 'isl1', 'fgfr4', 'faap24', 'chl1', 'krt35', 'il3', 'scgb2b2', 'igf1r', 'ankle1', 'bcor', 'klk5', 'c10orf62', 'rnf183', 'nipsnap2', 'gvqw3', 'cog3', 'sat2', 'hpgds', 'gml', 'taf1l', 'icam3', 'rims2', 'nol11', 'nucb2', 'parp2', 'wdr93', 'aldh3a2', 'xylt1', 'erc1', 'ncs1', 'slc11a1', 'lrp3', 'pik3r1', 'xrcc4', 'zbtb22', 'piwil1', 'opn3', 'apex1', 'cdh15', 'grid1', 'tbc1d16', 'bend6', 'exd1', 'gcg', 'zscan25', 'klrb1', 'dach1', 'tmx1', 'capn3', 'secisbp2l', 'dync1h1', 'catip', 'dhdh', 'crh', 'cib1', 'mafg', 'flvcr2', 'smr3b', 'il37', 'elavl3', 'nptn', 'il1rl1', 'pdlim7', 'cep55', 'cdc25a', 'smim3', 'phldb1', 'ptgir', 'pdgfb', 'rgr', 'or2t2', 'map2k3', 'wdhd1', 'med6', 'ccdc6', 'nfib', 'cds2', 'ubxn1', 'ackr2', 'arv1', 'armc8', 'atp6v1h', 'adamts10', 'azin2', 'mgp', 'defb123', 'znf112', 'piwil3', 'ints8', 'utp20', 'rab39a', 'gpkow', 'rrp8', 'fnbp1', 'ido2', 'krtap19-1', 'psd2', 'usp20', 'cltrn', 'szt2', 'taf6l', 'ensa', 'alpi', 'c17orf107', 'foxc2', 'ppia', 'ide', 'spata48', 'krt13', 'tafa4', 'lrrn3', 'gcnt2', 'afap1l2', 'cited2', 'dock11', 'dynlt1', 'myl6', 'emc3', 'nmd3', 'znf736', 'dpys', 'ccdc187', 'bmi1', 'ddi1', 'tcerg1l', 'tmem198', 'hrh1', 'large2', 'pth2r', 'scarb1', 'rad9b', 'nr3c2', 'or8h1', 'cacna1g', 'gpr18', 'tacc2', 'wdr81', 'map3k1', 'zc3h12d', 'eif4ebp1', 'tcp11l2', 'gng5', 'c2orf15', 'ube2j1', 'mkrn2', 'muc5b', 'znf496', 'cdr2', 'slc27a3', 'page2', 'dusp2', 'chchd6', 'gtpbp10', 'stoml2', 'ccny', 'myo1d', 'c1qtnf2', 'c17orf58', 'crkl', 'elp2', 'rhbdd3', 'cyp4f2', 'gin1', 'dnajb6', 'snrnp25', 'etv3l', 'c8orf33', 'il1a', 'sec23a', 'fbxo40', 'tafa1', 'nfkbid', 'spart', 'dnah7', 'kcnmb1', 'dnajc30', 'akap3', 'dennd10', 'prps2', 'zkscan5', 'dcstamp', 'fam71d', 'fto', 'aasdh', 'fbxl16', 'olig2', 'eddm3a', 'krtap9-9', 'lmbrd2', 'ceacam20', 'arvcf', 'triobp', 'usp17l1', 'mcl1', 'ankrd22', 'acvr2b', 'golga6l6', 'tuba3d', 'phkg2', 'txnl1', 'tmem17', 'tmem126a', 'ccdc125', 'trip10', 'eif4e3', 'kcna5', 'fgl2', 'flrt3', 'ccdc160', 'fas', 'pp2d1', 'nlrp14', 'arid1a', 'bdkrb2', 'parp16', 'rsl1d1', 'aifm1', 'tpx2', 'pspn', 'chml', 'sh2d5', 'mblac2', 'mtmr10', 'mael', 'sh3bp4', 'colgalt2', 'serinc5', 'il2rb', 'slc17a9', 'tex101', 'tnfrsf14', 'tmem167a', 'ncald', 'ift27', 'ptch2', 'krtap10-1', 'tbck', 'e2f4', 'spink14', 'rbm34', 'setd7', 'znf83', 'cdk9', 'rap2a', 'tnfrsf21', 'pex3', 'znf18', 'cd300a', 'c11orf1', 'npas2', 'ccnjl', 'mast1', 'sp1', 'sell', 'pla2g2d', 'actr1a', 'hspa4', 'serpina12', 'capn9', 'krtap9-3', 'efcab13', 'chst9', 'mtrr', 'cdk1', 'arhgap24', 'tdrp', 'arel1', 'crybg1', 'vps16', 'letmd1', 'or7a17', 'ppp4r2', 'abhd1', 'glyatl1b', 'gng3', 'ndufb1', 'c16orf46', 'itsn2', 'pacs1', 'tm9sf4', 'fam227b', 'tlr2', 'rnf144a', 'sqstm1', 'hsd3b2', 'filip1', 'tmem265', 'nckipsd', 'cdsn', 'tap2', 'ccdc173', 'steap4', 'tmbim4', 'klb', 'uts2b', 'hadh', 'eps8', 'perp', 'serpina9', 'ptpn23', 'lgals3bp', 'stxbp4', 'dhx36', 'podn', 'ociad2', 'vdac3', 'c11orf86', 'ttll7', 'znf622', 'sytl3', 'hapln3', 'mfap5', 'scygr8', 'icam5', 'ltbp2', 'lrrc74a', 'ddost', 'fam120a', 'znf256', 'ahcy', 'neurog1', 'ppm1b', 'serpini2', 'sprr4', 'cgas', 'atp6v0b', 'mrfap1', 'znf354b', 'dcdc1', 'znf561', 'sumo4', 'zbtb5', 'casp9', 'sppl3', 'slc22a16', 'elmod3', 'lce1d', 'sec16a', 'rapgef6', 'reep2', 'ddx5', 'mast3', 'nubp2', 'zfp64', 'pstpip2', 'eqtn', 'rnf10', 'fam172a', 'gabrr3', 'cep78', 'cyb5a', 'slc13a2', 'efemp2', 'leprotl1', 'agrp', 'ing1', 'sycn', 'fer1l5', 'zdhhc24', 'tsc22d1', 'ormdl3', 'asap2', 'fut7', 'znf32', 'znf627', 'rlim', 'ap3d1', 'bmt2', 'bcl2l12', 'cacna1s', 'zmat2', 'cd79a', 'prmt1', 'traf5', 'ssbp2', 'mpp4', 'amer2', 'xirp1', 'cyp2s1', 'stap2', 'plp2', 'neo1', 'arhgap39', 'btbd18', 'adcy9', 'sbsn', 'disp3', 'pf4v1', 'nfkbie', 'cisd2', 'cldnd1', 'tm4sf18', 'hars2', 'mfsd2a', 'ston2', 'calcoco1', 'pogk', 'dgke', 'bod1l2', 'actl7b', 'iqcf2', 'ctsc', 'sh3gl1', 'fam229a', 'fcrl6', 'scly', 'nwd2', 'zscan20', 'ano2', 'chrd', 'sspn', 'psenen', 'tmem47', 'fzd9', 'cpamd8', 'fam89b', 'smoc1', 'cst2', 'rab36', 'nbeal1', 'jph2', 'frk', 'pole4', 'topors', 'coa3', 'znf706', 'fblim1', 'nhlrc3', 'noc3l', 'dennd5b', 'tmbim6', 'cd101', 'arl4c', 'ksr2', 'celsr2', 'lima1', 'polg', 'cdh12', 'cep19', 'tmem72', 'cmya5', 'pcdhga8', 'dpy30', 'fkbp15', 'clpx', 'prss23', 'esam', 'csmd1', 'cdc7', 'wipi1', 'mfsd12', 'tmem128', 'fkbpl', 'cst7', 'dgat2', 'dpep1', 'st6galnac1', 'nelfb', 'pcdha11', 'tmem129', 'cd300lg', 'bola3', 'f2', 'zcchc12', 'nav1', 'bnip1', 'znf233', 'rnf20', 'il7r', 'cst3', 'ints13', 'mb21d2', 'psmb4', 'malsu1', 'madd', 'ankrd55', 'rtn4', 'abcb7', 'tnrc6a', 'zcchc14', 'cabp5', 'hrc', 'grn', 'atg10', 'ssu72', 'psma5', 'popdc2', 'abcd1', 'bloc1s4', 'spout1', 'serpine3', 'agpat3', 'tnip1', 'srl', 'lbp', 'tmem165', 'trem1', 'sapcd1', 'matn3', 'defb131b', 'atg14', 'map1lc3b', 'pde12', 'znf45', 'tacc3', 'znf680', 'pknox2', 'serpina5', 'galk2', 'fbxo5', 'ttc14', 'pqbp1', 'kif21b', 'klhl23', 'colgalt1', 'nabp2', 'gak', 'nup35', 'sfrp1', 'cyren', 'wif1', 'trap1', 'ubl4b', 'kdm4d', 'ccm2l', 'cnot4', 'tas2r9', 'slc12a8', 'ush1g', 'noxo1', 'rmi1', 'cfap44', 'fmo3', 'slc27a4', 'mfsd9', 'krt74', 'dysf', 'klhdc8a', 'gpc1', 'scd5', 'armc1', 'syncrip', 'pctp', 'calu', 'sp140', 'srsf7', 'ppp6r1', 'klf2', 'tmem263', 'znf250', 'or51d1', 'mpv17l', 'ackr4', 'c6orf58', 'clec14a', 'kiaa1671', 'rab3b', 'cdc23', 'nop2', 'hdac11', 'cnmd', 'omd', 'acot8', 'calcr', 'c6orf118', 'or8d4', 'glra3', 'peg3', 'slc22a5', 'thop1', 'pfkfb1', 'ggct', 'plpp6', 'odf4', 'irs4', 'drd3', 'tcp10l2', 'lrrc41', 'slc48a1', 'tex12', 'tprkb', 'col3a1', 'tmem43', 'epm2a', 'ace', 'ddx10', 'ago2', 'corin', 'lrit3', 'ctsd', 'kcnt2', 'gh1', 'sirt3', 'tsku', 'tmem14a', 'cog1', 'dmwd', 'cenpc', 'arhgef10', 'cuzd1', 'ptdss2', 'gtpbp8', 'setdb2', 'spanxb1', 'tpr', 'tor2a', 'trim35', 'rbp4', 'asphd2', 'slc3a2', 'asl', 'asf1b', 'slurp1', 'cdk19', 'tmem18', 'taf1d', 'ulk4', 'inpp5e', 'scaf11', 'pgbd4', 'smim24', 'usb1', 'egfr', 'fbxl20', 'chmp5', 'pxn', 'spanxn5', 'acadm', 'hectd2', 'cd151', 'btbd6', 'sh3gl3', 'prxl2b', 'carnmt1', 'cactin', 'kcnj15', 'folr2', 'tfap2d', 'fcrl3', 'taf9', 'traf3ip3', 'gba2', 'tubgcp3', 'or11a1', 'psmb5', 'itfg1', 'cep192', 'znf483', 'ptpn5', 'or2l5', 'cst4', 'rnf167', 'gabpb2', 'ifnb1', 'kcng4', 'pcdhb12', 'mansc1', 'nutm1', 'ppp4r3a', 'ddit3', 'def8', 'ythdf1', 'clpsl2', 'ice2', 'trabd2b', 'il2', 'or5h2', 'uck1', 'sox7', 'epha10', 'brd1', 'trip13', 'zmynd8', 'pcp4l1', 'col10a1', 'six4', 'fastkd2', 'mrgprf', 'ido1', 'slc25a35', 'tex36', 'cd40', 'efcab1', 'npl', 'c6orf120', 'c5', 'ccdc192', 'rgs3', 'mccc2', 'slc11a2', 'kcnk3', 'uhrf1', 'c14orf93', 'tomm70', 'crmp1', 'shld1', 'or5au1', 'pitpnm2', 'pcdh8', 'adora3', 'prkx', 'pdzd11', 'lsm3', 'cxcl2', 'tpp2', 'trim15', 'xpnpep1', 'ttc29', 'rnf25', 'rita1', 's1pr3', 'gpt2', 'sipa1', 'znf486', 'ap3m2', 'galc', 'ccdc15', 'thap7', 'clec11a', 'pxk', 'ints12', 'ldlrad3', 'ltc4s', 'yif1a', 'or10g3', 'c1orf198', 'drd1', 'aldoc', 'setd4', 'prkn', 'agtr2', 'kank4', 'stx3', 'sp140l', 'sytl5', 'agxt', 'bpifc', 'pigw', 'pdzd9', 'kctd17', 'cad', 'otud4', 'hhipl2', 'stmn1', 'emsy', 'znf90', 'rc3h2', 'fam110b', 'emc6', 'bdp1', 'numb', 'clec4f', 'stx5', 'tigd6', 'myo16', 'rab35', 'rasl10b', 'creld2', 'il9r', 'oxct2', 'vax2', 'treml1', 'med31', 'lipt1', 'six2', 'eml1', 'ythdc2', 'sowaha', 'nrg1', 'fbxl4', 'klhl38', 'supt16h', 'mageb2', 'fam90a1', 'cxcl1', 'arhgef2', 'atic', 'oaz1', 'gsta1', 'ten1', 'gpr155', 'or1n2', 'pisd', 'ugt1a1', 'mtch1', 'dnajc8', 'uqcrq', 'ceacam19', 'exosc3', 'sdha', 'ap1g1', 'arhgef10l', 'slc22a2', 'sgf29', 'c1orf122', 'or1l6', 'znf724', 'c2orf72', 'c6orf62', 'znf783', 'hydin', 'clint1', 'jkamp', 'c5orf24', 'ugt3a1', 'wdr20', 'ash2l', 'thsd7b', 'antxr2', 'c21orf58', 'znf800', 'smim13', 'adgrf4', 'impact', 'prdm13', 'gmip', 'dpm3', 'hoxd11', 'wdr48', 'dctn5', 'med18', 'ap1ar', 'nfe2l1', 'c22orf42', 'mob4', 'tmem267', 'mt1b', 'copb2', 'eepd1', 'ppp1r2c', 'gpx3', 'znf705g', 'exd2', 'rap2c', 'syn2', 'gopc', 'cldn15', 'adamdec1', 'brwd3', 'pigm', 'clstn1', 'mt-nd4', 'sirpb1', 'egr2', 'mylk4', 'pkn3', 'pla2g2a', 'astl', 'vgll1', 'dip2a', 'ifi16', 'qrfpr', 'madcam1', 'bud31', 'adm2', 'slc9a3r1', 'proc', 'dock10', 'golga1', 'ccdc87', 'actr5', 'nprl3', 'smim17', 'erlec1', 'twsg1', 'ap1g2', 'dym', 'myl9', 'tlx1', 'rcl1', 'mdm2', 'slc25a48', 'adamts5', 'emc7', 'itih5', 'c7', 'usp29', 'ugt3a2', 'znf610', 'polr3k', 'il36rn', 'itpripl2', 'vav1', 'ces1', 'pcdhb16', 'c20orf141', 'znf76', 'vps41', 'lipj', 'cldn4', 'nudcd3', 'upp1', 'galk1', 'tspan13', 'ireb2', 'vps50', 'grik3', 'opn4', 'hoxc11', 'ino80b', 'nol9', 'ppp4r1', 'slc9a4', 'asphd1', 'znf157', 'cnih2', 'abca4', 'cdt1', 'mageb18', 'slc22a23', 'ankmy1', 'ffar2', 'itgb5', 'plac1', 'pnma1', 'rln1', 'mogs', 'fam167a', 'esr1', 'septin5', 'alg11', 'znf221', 'g0s2', 'gpc5', 'rab8b', 'pde6c', 'ift43', 'nnat', 'ddx60', 'psors1c1', 'spa17', 'tnfrsf1b', 'agl', 'gprin3', 'suox', 'zcchc8', 'gcnt1', 'agtr1', 'nr0b1', 'gdpd4', 'hacl1', 'stom', 'parn', 'ccdc69', 'kcnj9', 'prkab1', 'ubn1', 'me2', 'gatad2a', 'dnase1l3', 'furin', 'srebf2', 'uqcrc1', 'gcna', 'cxorf58', 'or2t4', 'mtmr12', 'usp9x', 'ubxn6', 'nme8', 'lonrf2', 'ptbp1', 'hhipl1', 'gmeb1', 'nr0b2', 'nrl', 'klhdc7a', 'cox4i1', 'clip3', 'znf781', 'ergic2', 'ost4', 'phlda3', 'rab15', 'gba', 'kiaa1614', 'ankrd33', 'dhx29', 'fam216b', 'xcr1', 'c8a', 'mier1', 'hsf5', 'siglec11', 'p2rx5', 'jtb', 'rrp1', 'tmem192', 'tinagl1', 'echdc1', 'thra', 'cxcl8', 'cage1', 'or4c13', 'sinhcaf', 's100p', 'ublcp1', 'slc52a2', 'blcap', 'zscan1', 'phrf1', 'trex2', 'ednra', 'fbrsl1', 'pcdhga9', 'prkcz', 'fbln7', 'ccnh', 'trim8', 'usp3', 'sdr16c5', 'ilf2', 'eps15', 'slc6a20', 'camk2d', 'eif3h', 'npm3', 'mphosph6', 'cfl1', 'or4d6', 'dpy19l1', 'cbx2', 'krtap26-1', 'ndn', 'lrrc34', 'kcnma1', 'fam83c', 'pbxip1', 'lrrc45', 'mrap', 'gnb3', 'tmem272', 'glra2', 'phb', 'babam2', 'hus1b', 'lypd6', 'stk24', 'znf292', 'dipk1a', 'iqsec3', 'ccr7', 'macc1', 'defb136', 'n4bp2l1', 'spata33', 'nlrc4', 'tcf4', 'znf770', 'cs', 'dusp19', 'stau2', 'prr9', 'spns1', 'olfml2b', 'cdh8', 'nlrp1', 'pak4', 'aqp11', 'ccser1', 'klf13', 'gdpgp1', 'casq2', 'tmed1', 'trpm4', 'vapa', 'pced1a', 'igsf9', 'ptgfr', 'tbl1xr1', 'znf503', 'haus1', 'nfatc2', 'or4s1', 'ifi27', 'cntrl', 'cndp2', 'rrp36', 'stk36', 'trabd2a', 'med17', 'mical2', 'pcnt', 'serpina11', 'nbea', 'tbc1d10c', 'ano6', 'ecrg4', 'laptm4a', 'prdm6', 'l3mbtl3', 'saysd1', 'lpcat4', 'fdx1', 'zscan23', 'fbxo48', 'txnip', 'anp32e', 'il33', 'lnpk', 'znf131', 'ttf2', 'psme4', 'mettl7b', 'zdhhc4', 'pex7', 'ptafr', 'commd2', 'chrm5', 'pds5b', 'flii', 'tdrd3', 'slc24a2', 'cdx4', 'prr35', 'uchl3', 'adipoq', 'ppie', 'c3orf18', 'copb1', 'phb2', 'timm17b', 'ptchd4', 'zik1', 'vdac2', 'pop1', 'sfmbt1', 'shank1', 'fam222b', 'tal1', 'sptbn1', 'lrrtm4', 'aarsd1', 'oxr1', 'champ1', 'tedc1', 'jsrp1', 'zdhhc15', 'cngb3', 'cav1', 'mttp', 'med16', 'rbms1', 'cntfr', 'ybx3', 'tmem81', 'cfap70', 'lmod1', 'cdca5', 'zwilch', 'tuft1', 'pdk4', 'tmod4', 'trappc2l', 'trpa1', 'f12', 'apobr', 'phc2', 'slc25a5', 'btc', 'samd12', 'tpp1', 'wdr82', 'tm4sf4', 'lman1l', 'efcab10', 'angptl2', 'trim62', 'tnip2', 'afdn', 'c3orf38', 'arrdc5', 'cenpi', 'tjp3', 'pura', 'cpa2', 'znf430', 'iyd', 'znf253', 'rsrc1', 'ccdc66', 'tp63', 'col16a1', 'ndufaf2', 'inhbc', 'lrp2bp', 'ndufaf3', 'tnfsf12', 'alg1', 'g3bp2', 'cfap54', 'dntt', 'znf830', 'tmem119', 'gria3', 'ankhd1', 'gsdme', 'tfam', 'robo4', 'caps', 'camta1', 'pcdhga10', 'ebf1', 'cfap77', 'atl2', 'igfl1', 'dppa4', 'krtap19-3', 'tmem45a', 'dcbld1', 'hykk', 'cuedc1', 'tigd1', 'semg1', 'map2k2', 'phyhipl', 'ptpn11', 'begain', 'fam151b', 'ccdc130', 'tmprss11e', 'pgr', 'ubqln3', 'krt32', 'cryba4', 'tmem234', 'ggh', 'metap2', 'dnajc7', 'stmn2', 'tmem205', 'tex26', 'cnn2', 'daxx', 'ube2v2', 'znf277', 'snta1', 'ctps1', 'or5m8', 'gabbr2', 'ap2a2', 'btf3', 'grm1', 'chsy1', 'safb', 'afg3l2', 'rab5b', 'thg1l', 'rasa3', 'ttyh1', 'bace2', 'ints3', 'slc25a2', 'gdnf', 'pla2g4d', 'pwwp3a', 'tle5', 'fam217b', 'ebln2', 'dbndd1', 'prdm9', 'xdh', 'aqp4', 'socs6', 'ttc21b', 'tesk2', 'prr32', 'srgn', 'ebpl', 'dkk3', 'scarf1', 'pcbd2', 'naa11', 'abcg8', 'sh3rf1', 'cpne1', 'mgst3', 'spata3', 'tmie', 'paox', 'map1a', 'csk', 'skor1', 'mettl22', 'vps13d', 'wnt9b', 'septin4', 'npas1', 'syngr4', 'cdo1', 'brox', 'alx4', 'dnttip1', 'fam177a1', 'smpdl3a', 'krtap20-3', 'slc35f3', 'cer1', 'tes', 'srpk1', 'acbd3', 'ip6k2', 'arhgap1', 'pcdh18', 'mns1', 'slc22a18as', 'pla1a', 'znrd2', 'hoxc13', 'slc38a6', 'gpr173', 'nagpa', 'fam53c', 'ifng', 'or10a6', 'slc15a5', 'slc25a29', 'coq7', 'spatc1l', 'ccdc13', 'cacnb2', 'meis1', 'lrrc8d', 'nsmaf', 'or10r2', 'scara3', 'c19orf84', 'orc6', 'rdh13', 'rnase1', 'cers6', 'tm2d2', 'or11g2', 'strn3', 'lgals9c', 'mapk4', 'msl1', 'foxq1', 'bpgm', 'phyhd1', 'klf11', 'defb118', 'dynlrb1', 'vasn', 'efhc1', 'pinlyp', 'gimap7', 'ttll6', 'or1e1', 'rab8a', 'ablim2', 'alkbh1', 'ervv-2', 'macf1', 'haus8', 'nrde2', 'cr1l', 'frs2', 'ybx2', 'pnpla4', 'slc23a2', 'atad2', 'lsm1', 'fam160b1', 'c3ar1', 'prss35', 'adam8', 'efr3b', 'stxbp6', 'ano10', 'gnaq', 'znf37a', 'ikzf4', 'paip2b', 'zfp92', 'zp4', 'pyy', 'spata7', 'tmem97', 'hlf', 'hbd', 'fga', 'jph4', 'homer1', 'vamp2', 'sec16b', 'iqsec2', 'hus1', 'exd3', 'cr1', 'tdrd6', 'tex49', 'adamts18', 'pgm2', 'atraid', 'mbnl1', 'arr3', 'acot7', 'ca5b', 'yif1b', 'maoa', 'fbxo32', 'chrna9', 'c2cd5', 'gorab', 'ccr1', 'dennd2d', 'fam237b', 'arhgap28', 'rnase6', 'pou4f2', 'wdr3', 'acap1', 'spaca6', 'nphp4', 'slk', 'slc25a14', 'tmem123', 'ercc8', 'spin1', 'lhx6', 'cfap69', 'prmt9', 'nadk2', 'acad8', 'src', 'rp9', 'bcap29', 'znf429', 'cep112', 'mmaa', 'tbx3', 'septin9', 'kif17', 'kbtbd2', 'kcnmb4', 'cndp1', 'tmem242', 'ccdc149', 'dhrs1', 'znf681', 'pam', 'tub', 'stk35', 'chpf2', 'larp4', 'dcaf4l2', 'pomgnt2', 'atp1b2', 'rab11fip4', 'neu1', 'kcnv2', 'ccdc188', 'strip1', 'kcnn2', 'agfg2', 'wnt11', 'pex5', 'exoc3', 'epha4', 'ahctf1', 'bnip3l', 'fam81b', 'epg5', 'znf879', 'angptl8', 'timm44', 'cntnap2', 'pydc2', 'or13c8', 'hps1', 'hpd', 'duoxa2', 'p4htm', 'slamf6', 'grk6', 'p3h2', 'golph3l', 'enam', 'kctd6', 'fli1', 'axl', 'moap1', 'sema4d', 'mnx1', 'dhcr7', 'b3gnt2', 'epn2', 'nsfl1c', 'lrch2', 'drd5', 'reg1b', 'ik', 'phkb', 'kdm3a', 'znf140', 'l3mbtl1', 'taar2', 'rraga', 'hyou1', 'cxxc4', 'golph3', 'rbm25', 'slc12a6', 'myo5c', 'znf558', 'ctsz', 'ppp6c', 'dolk', 'trpv3', 'tff3', 'cyp2c8', 'cacna1d', 'utp25', 'haao', 'clic1', 'rassf3', 'scn1b', 'or5m10', 'lif', 'crisp3', 'ifi30', 'adcy2', 'lenep', 'hoxc4', 'serpinb5', 'ebf2', 'tbc1d19', 'fbxw11', 'tmem212', 'slc25a44', 'myo18b', 'dclk3', 'lvrn', 'kif20a', 'ankk1', 'znf493', 'gfod2', 'slc22a11', 'wdr31', 'pwwp3b', 'smco4', 'ogfr', 'cmtm8', 'kcnj18', 'gas6', 'necab2', 'frg2c', 'tspo', 'alg8', 'map2k1', 'ccdc22', 'c5orf15', 'ints7', 'dsc1', 'tgif2lx', 'sntg1', 'rhov', 'znf124', 'myo19', 'zbtb8a', 'kat8', 'gdap2', 'atf6', 'fgf10', 'sphk1', 'myot', 'fdft1', 'zfand1', 'mdk', 'gyg1', 'adhfe1', 'cmtm3', 'tinf2', 'cog8', 'atp8b2', 'prtfdc1', 'parl', 'rpap2', 'stk38', 'gimap2', 'slc22a14', 'slc6a7', 'cog5', 'nrxn3', 'nup62cl', 'alpp', 'ubqln1', 'lztfl1', 'fbxw5', 'plppr2', 'tas2r1', 'cenph', 'rundc3b', 'ep400', 'syn3', 'rida', 'rilpl1', 'ubd', 'cep57', 'tmem102', 'nr1h4', 'tusc3', 'nutf2', 'prb3', 'pcdhb7', 'stxbp3', 'ankrd40cl', 'pvr', 'crtap', 'ccn1', 'nags', 'nap1l2', 'pdcl', 'svop', 'wnk4', 'sage1', 'tekt2', 'eif3j', 'sox8', 'agpat2', 'mtss2', 'cmtm7', 'chodl', 'hint1', 'magee2', 'endog', 'apold1', 'fbxo46', 'ddias', 'arid5b', 'tceal2', 'lrrc8e', 'znf133', 'pah', 'lrch3', 'prom2', 'efna4', 'aire', 'limd2', 'pdzd4', 'srp54', 'lipc', 'kbtbd8', 'unk', 'slc25a47', 'tgfbrap1', 'agps', 'samd10', 'dab1', 'sycp1', 'pla2g15', 'tdrd12', 'bloc1s5', 'msn', 'trim48', 'cacna1b', 'znf682', 'top1mt', 'pym1', 'xbp1', 'cdk18', 'higd1a', 'flcn', 'lypd6b', 'atp2a3', 'glrx2', 'klhl36', 'slc2a2', 'fscn3', 'bahcc1', 'oasl', 'epb41', 'golt1a', 'kir2dl4', 'rhobtb2', 'krtap3-1', 'lkaaear1', 'pdcl3', 'cx3cl1', 'uqcr10', 'sash3', 'camk2n1', 'slc16a7', 'rcn3', 'ggt5', 'colec10', 'gpr150', 'trmt5', 'clec18a', 'map3k20', 'trpc3', 'erlin1', 'chka', 'ptgdr', 'entpd6', 'kcnmb2', 'cnih3', 'adam32', 'tmem184a', 'cttn', 'nucb1', 'b3glct', 'ubap1l', 'nup93', 'zp3', 'tmem106a', 'bzw2', 'gal3st4', 'pex11a', 'ctag2', 'tbl1x', 'mapk8ip1', 'lcnl1', 'xpnpep2', 'mageb4', 'rab7b', 'jazf1', 'ccdc59', 'tsen34', 'cdkn1a', 'fabp5', 'wdr26', 'gpr108', 'anxa13', 'zc3h14', 'gys1', 'aff4', 'rnf223', 'bpifb4', 'sin3b', 'tmem144', 'gsap', 'tktl1', 'nr2f1', 'sec61a1', 'cradd', 'or52a5', 'il20', 'tef', 'oas2', 'sult1c2', 'tpm2', 'dpf2', 'pink1', 'ildr2', 'kcns3', 'lsm2', 'shisa3', 'tmod1', 'pgam5', 'btbd17', 'rragd', 'atg5', 'c1orf100', 'gask1b', 'hebp1', 'nup153', 'adam33', 'samm50', 'hhat', 'mettl14', 'klhl6', 'lrrfip1', 'sptlc2', 'tsr2', 'mybpc1', 'ss18l1', 'dscaml1', 'mep1b', 'tufm', 'glyatl1', 'pcsk4', 'hnrnpul1', 'cbarp', 'or2l3', 'qrich1', 'vapb', 'apbb1', 'fbn3', 'exoc7', 'mcoln3', 'dr1', 'med12l', 'grm5', 'rasgrf2', 'c3orf33', 'nup205', 'cdkn2a', 'cks2', 'uevld', 'tssk6', 'znf337', 'gbe1', 'setd3', 'kbtbd3', 'slc26a9', 'pla2g10', 'nkd2', 'kpna6', 'hltf', 'adcy10', 'mixl1', 'ccdc185', 'aqp7', 'lrwd1', 'cntn3', 'armh2', 'smim19', 'or6m1', 'or2t27', 'anxa8', 'ccl7', 'ccdc97', 'prkag2', 'actg1', 'arhgap33', 'rbm46', 'tmem53', 'ywhag', 'slc13a1', 'npy1r', 'dennd11', 'tlnrd1', 'sgsm3', 'kdm6b', 'ripor2', 'plekhn1', 'micos10', 'tmx4', 'rchy1', 'pdcd11', 'c10orf105', 'nlrp4', 'retnlb', 'tsbp1', 'mettl9', 'crem', 'rnf207', 'nanos3', 'rbm12', 'col4a3', 'aar2', 'strap', 'padi2', 'znf248', 'ccna1', 'sf3a1', 'ccdc88b', 'hcrtr2', 'ppil4', 'pi4k2b', 'myh15', 'st3gal3', 'lrrc27', 'gnpda2', 'or7c1', 'prrx1', 'tagln', 'prr14', 'znf618', 'fbl', 'ier3', 'cox8c', 'tas2r7', 'or5k1', 'yes1', 'mustn1', 'hmx3', 'slc25a26', 'ascl2', 'ticrr', 'snx21', 'tln2', 'ss18', 'twist1', 'ankrd34a', 'exoc3l1', 'c1orf74', 'fam76b', 'tmem51', 'nat2', 'irf9', 'mthfd1', 'fbxo39', 'c1ql1', 'rock1', 'dennd1c', 'prdx2', 'vip', 'nhsl2', 'slpi', 'pdzrn4', 'wdr64', 'hsf1', 'piwil2', 'fam221b', 'or10a4', 'ank3', 'pate4', 'vamp5', 'selenom', 'ccdc191', 'phf8', 'ttll4', 'tmem199', 'zswim8', 'ppef2', 'cryab', 'pprc1', 'snapc1', 'plekhg4', 'drich1', 'spen', 'vac14', 'pcp4', 'slc5a8', 'ric8b', 'cacng3', 'crygc', 'cdc25c', 'cyfip2', 'c11orf94', 'commd3', 'tnni1', 'ccnt2', 'znf345', 'lemd3', 'ogdhl', 'rtn4r', 'gata2', 'gpt', 'gxylt2', 'alpl', 'sprn', 'atp2c2', 'ruvbl2', 'c3orf84', 'mesp1', 'ano8', 'c1galt1c1l', 'ipo11', 'galnt6', 'nfatc4', 'kif18b', 'ift172', 'ube2l3', 'ccdc51', 'clta', 'coro1a', 'klhl26', 'polh', 'klhl7', 'ndufa9', 'hdac4', 'fam180a', 'bhlha9', 'or51b6', 'ostn', 'kif2a', 'socs2', 'kif6', 'gpr107', 'rfc5', 'tmem117', 'prame', 'commd8', 'lsamp', 'nr6a1', 'tnfsf18', 'soat2', 'mki67', 'klhdc9', 'mef2c', 'nkd1', 'mfsd11', 'znf780b', 'defb121', 'dclk2', 'polr3d', 'nans', 'meikin', 'klhl24', 'frg2', 'iglon5', 'elfn1', 'psors1c2', 'clip1', 'obp2a', 'znf426', 'mpc1l', 'ubxn10', 'znf630', 'mgst1', 'umod', 'znf396', 'tmem275', 'ogdh', 'pxmp2', 'scap', 'col1a1', 'slc29a2', 'tmem114', 's100b', 'mt1hl1', 'c12orf56', 'sec11c', 'abhd6', 'lgi2', 'kcnd2', 'eif3g', 'lce2a', 'bcdin3d', 'muc2', 'bcap31', 'snx25', 'wdr70', 'fam240a', 'exosc8', 'hexim1', 'foxl2nb', 'atp5f1d', 'cct4', 'taar8', 'urm1', 'oosp4a', 'cfap410', 'mcm6', 'zbtb7b', 'cdc42bpg', 'best1', 'spcs1', 'nxnl1', 'myo5a', 'dio1', 'ndufa13', 'kmo', 'galm', 'znf723', 'gramd4', 'bcl2l15', 'nt5dc2', 'ddah2', 'calr3', 'bap1', 'acot1', 'omp', 'irf2bp1', 'dstn', 'slitrk5', 'eif3d', 'mrln', 'prpf4b', 'ankzf1', 'slitrk4', 'c18orf21', 'cdc42se1', 'ssh3', 'coro1c', 'aspm', 'mib2', 'ctsk', 'mapkbp1', 'mavs', 'shroom3', 'ints1', 'krr1', 'slc5a4', 'lgalsl', 'vps4b', 'ggt2', 'mapk7', 'acss1', 'mpzl2', 'znf507', 'ndrg1', 'il31ra', 'gsk3b', 'dcaf4', 'rnf151', 'get1', 'timm21', 'sh2d3c', 'c9orf16', 'uhrf1bp1', 'papolb', 'c4orf48', 'dnajc14', 'or10w1', 'rnmt', 'gtpbp6', 'traf3ip2', 'calhm6', 'tmc7', 'alad', 'cd82', 'srprb', 'hectd1', 'rftn1', 'mapk14', 'usp13', 'krt4', 'gprc5b', 'lsm11', 'slc2a12', 'fgf12', 'slc17a7', 'fam168b', 'cd36', 'gpr174', 'cluap1', 'bcl9', 'tcf7l2', 'spry3', 'ndufs2', 'sephs2', 'reep4', 'znf646', 'ddr1', 'zadh2', 'flg', 'spg21', 'rab27b', 'vps72', 'fam217a', 'kcp', 'sdc3', 'lax1', 'mt1e', 'zkscan4', 'mmp23b', 'fbll1', 'syngap1', 'lsm5', 'tepp', 'znf559', 'stk26', 'pdgfc', 'klhl17', 'sema3d', 'psme1', 'lamc3', 'csf2', 'gdf3', 'ddx23', 'atp6v1c1', 'tbc1d30', 'frmd6', 'ehbp1l1', 'ttc4', 'ppp2r5b', 'stat2', 'znf71', 'arhgef16', 'c8orf37', 'antxrl', 'alkbh3', 'synj2bp', 'slc9a2', 'anxa3', 'foxo1', 'kcnc2', 'lrrc8a', 'rrp15', 'slc14a1', 'ocstamp', 'bbox1', 'jmjd4', 'susd4', 'pcdhb11', 'fam117b', 'dcaf12l2', 'vtn', 'akap10', 'tspan8', 'dhx34', 'nrtn', 'lrrc24', 'trappc4', 'kctd9', 'casp2', 'polr3h', 'mxd3', 'ncoa7', 'krtap10-10', 'slc35a1', 'rtbdn', 'frmpd2', 'susd5', 'ca4', 'lamc2', 'eef2k', 'sorbs2', 'dnajc11', 'c17orf99', 'gga2', 'fahd2b', 'napepld', 'fam163b', 'gstm3', 'col6a5', 'pcdhga1', 'usp46', 'atp13a3', 'trim68', 'srsf9', 'npap1', 'arsd', 'cideb', 'cyp3a43', 'setd1a', 'mtm1', 'c9orf135', 'mkks', 'gpm6a', 'c15orf61', 'zswim2', 'col4a4', 'casp3', 'rgma', 'cdca3', 'tnnt1', 'wrn', 'flnc', 'pkd2', 'pcnx2', 'mpzl1', 'bmp3', 'ovch1', 'ttc7b', 'acsm3', 'ankrd29', 'btbd1', 'fbxo27', 'slc10a7', 'crip1', 'gpr149', 'b4galt6', 'rnasek', 'cyth1', 'cpne3', 'plcxd3', 'hook3', 'or10h1', 'kit', 'lrrc31', 'bcl7b', 'emx1', 'c5ar2', 'evpl', 'mfap4', 'fkbp5', 'cga', 'slc9a7', 'lnx2', 'fam107a', 'fnbp1l', 'tnfrsf13b', 'eci1', 'dhx33', 'gpsm2', 'cfl2', 'p2ry8', 'tex29', 'creb3', 'zmat5', 'rassf8', 'ms4a14', 'krt39', 'arap1', 'cavin1', 'ptpn20', 'acp6', 'prr16', 'pigo', 'slc15a2', 'odf3b', 'scgn', 'arx', 'fam161a', 'arf4', 'trim51gp', 'capn1', 'tfip11', 'poldip3', 'epha5', 'arid4a', 'foxn3', 'prrc2c', 'trim34', 'bpifb6', 'cdk14', 'lrrc37b', 'tubgcp4', 'arid1b', 'b4galnt2', 'armcx2', 'c4orf47', 'syne3', 'sult1a2', 'arf5', 'ube2w', 'rcan3', 'plcl2', 'aste1', 'ube2h', 'hikeshi', 'tgfb3', 'shpk', 'elovl2', 'chst13', 'dgka', 'pik3r6', 'spata19', 'srsf1', 'ntf3', 'smg5', 'atg4b', 'kncn', 'zbtb2', 'tspan15', 'knop1', 'gcsam', 'cyp26c1', 'trub1', 'rdm1', 'oit3', 'lemd2', 'prnd', 'lyzl4', 'trim38', 'frg1', 'or10g8', 'myl5', 'fyco1', 'rbm18', 'actr3b', 'znf660', 'anks4b', 'mocos', 'znf319', 'tmf1', 'mis12', 'hs1bp3', 'ddn', 'klrd1', 'samsn1', 'them6', 'shf', 'sncg', 'mul1', 'rdh14', 'hmgcll1', 'or56b1', 'osmr', 'mbd5', 'med30', 'slc38a3', 'slc1a1', 'znf318', 'or1l1', 'ercc6l', 'tlr10', 'leap2', 'cxcl5', 'cep68', 'hspa5', 'rab11a', 'trim43', 'endou', 'tent5d', 'oser1', 'lrrc63', 'maml3', 'gp1bb', 'trmt11', 'rpap1', 'rnf220', 'atxn2l', 'foxa2', 'znf33b', 'cpsf3', 'pon1', 'cd81', 'cmtr1', 'trim31', 'elk1', 'ctss', 'hsfx3', 'akt1s1', 'sycp2l', 'vma21', 'itgb2', 'snrpe', 'synpr', 'xxylt1', 'ube2e2', 'npnt', 'ly6g6d', 'pop7', 'pten', 'plk1', 'hnrnpa2b1', 'vegfa', 'zbtb10', 'c14orf28', 'cd37', 'mpg', 'fth1', 'tspan7', 'lpp', 'fignl2', 'cabp1', 'ubox5', 'scgb2a1', 'wdfy1', 'dnajc10', 'dip2c', 'htr3e', 'tubb8', 'slc6a17', 'tsc1', 'celf4', 'or1l3', 'cplx3', 'pdgfa', 'rad21l1', 'aco1', 'ugcg', 'hbq1', 'fsd1', 'cshl1', 'cables2', 'slc35g1', 'chrna6', 'rbis', 'col4a5', 'rnf182', 'psmb6', 'hace1', 'glrb', 'chd6', 'nubp1', 'rbm44', 'znf513', 'vps52', 'marcol', 'krtap4-5', 'znf66', 'oscp1', 'kat5', 'abcb4', 'cdx1', 'gli1', 'mcemp1', 'plekha7', 'uchl1', 'il25', 'hnrnpll', 'calr', 'sae1', 'pif1', 'ldhb', 'tssk4', 'serinc3', 'vps28', 'glp2r', 'prxl2a', 'or1b1', 'or2j2', 'ces5a', 'sra1', 'celf2', 'slc28a2', 'kif5a', 'pcdhgc5', 'fnta', 'usp30', 'uggt2', 'hoga1', 'kera', 'myl2', 'clba1', 'osbpl5', 'arhgef15', 'zc3h13', 'krt6b', 'terb2', 'npy', 'ccdc47', 'bcat1', 'strada', 'fezf2', 'znf274', 'bhlhe41', 'btd', 'ano5', 'irf4', 'sclt1', 'btbd3', 'smyd2', 'pip', 'slc39a11', 'rdh12', 'chst2', 'atoh7', 'cnnm3', 'c12orf45', 'tnrc6b', 'kansl1', 'rock2', 'cetn3', 'prune2', 'fstl1', 'stpg3', 'trpv1', 'zbtb4', 'ddx54', 'slco4a1', 'xkr8', 'serinc1', 'mtmr11', 'lcn2', 'fgf14', 'flad1', 'nxnl2', 'nrarp', 'ift88', 'stac2', 'sun2', 'trak1', 'sdk1', 'alg3', 'nrsn1', 'cryl1', 'pou5f2', 'pebp1', 'lelp1', 'avpr2', 'nudt9', 'ccdc110', 'ppp2r5a', 'dxo', 'ccl16', 'slmap', 'atxn1', 'epcam', 'wrap73', 'kiaa1549', 'dis3l', 'igf2r', 'alas1', 'mpl', 'cert1', 'or8i2', 'spdyc', 'fbxo4', 'scd', 'bag2', 'psma8', 'b4galt5', 'atp5pd', 'crppa', 'atf1', 'dtx2', 'mterf1', 'prodh2', 'pdgfrl', 'tmem42', 'nod2', 'znrf3', 'hp1bp3', 'tp53inp2', 'znf205', 'spint4', 'cnr1', 'mthfs', 'ankrd30a', 'epha2', 'mtfr1', 'prr5l', 'tipin', 'hs6st1', 'ralgds', 'zscan2', 'tnfrsf12a', 'fech', 'amtn', 'pate2', 'gpr31', 'afm', 'cdkn1c', 'znf839', 'prdm14', 'lrrtm2', 'knstrn', 'dtd1', 'clca1', 'mapk12', 'or4k17', 'cnih4'}\n"
     ]
    },
    {
     "data": {
      "text/plain": [
       "{'aars',\n",
       " 'ac004593.3',\n",
       " 'ac005551.1',\n",
       " 'ac007906.2',\n",
       " 'ac008397.1',\n",
       " 'ac008687.4',\n",
       " 'ac010255.3',\n",
       " 'ac010325.1',\n",
       " 'ac011005.1',\n",
       " 'ac011195.2',\n",
       " 'ac013470.2',\n",
       " 'ac015871.1',\n",
       " 'ac021072.1',\n",
       " 'ac021097.2',\n",
       " 'ac025283.2',\n",
       " 'ac025287.4',\n",
       " 'ac067752.1',\n",
       " 'ac072022.2',\n",
       " 'ac073111.4',\n",
       " 'ac087498.1',\n",
       " 'ac090360.1',\n",
       " 'ac091057.6',\n",
       " 'ac092835.1',\n",
       " 'ac093323.1',\n",
       " 'ac099489.1',\n",
       " 'ac104389.5',\n",
       " 'ac113348.1',\n",
       " 'ac115220.1',\n",
       " 'ac118549.1',\n",
       " 'ac119396.1',\n",
       " 'ac132217.2',\n",
       " 'ac134684.8',\n",
       " 'ac138647.1',\n",
       " 'ac187653.1',\n",
       " 'ac233723.1',\n",
       " 'ac236972.4',\n",
       " 'acpp',\n",
       " 'adprhl2',\n",
       " 'adss',\n",
       " 'adssl1',\n",
       " 'al032819.3',\n",
       " 'al109810.2',\n",
       " 'al121578.2',\n",
       " 'al135905.2',\n",
       " 'al160269.1',\n",
       " 'al162231.1',\n",
       " 'al162596.1',\n",
       " 'al353572.3',\n",
       " 'al354761.1',\n",
       " 'al391650.1',\n",
       " 'al445238.1',\n",
       " 'al451007.3',\n",
       " 'al590560.2',\n",
       " 'al603764.2',\n",
       " 'al845331.2',\n",
       " 'alg1l',\n",
       " 'ap002495.1',\n",
       " 'arih2os',\n",
       " 'armc4',\n",
       " 'arse',\n",
       " 'atp5md',\n",
       " 'atp5mpl',\n",
       " 'atp6ap1l',\n",
       " 'b3gnt10',\n",
       " 'bhmg1',\n",
       " 'bx255925.3',\n",
       " 'bx276092.9',\n",
       " 'c10orf142',\n",
       " 'c10orf55',\n",
       " 'c11orf40',\n",
       " 'c11orf74',\n",
       " 'c11orf88',\n",
       " 'c12orf10',\n",
       " 'c12orf49',\n",
       " 'c12orf74',\n",
       " 'c12orf81',\n",
       " 'c14orf177',\n",
       " 'c15orf41',\n",
       " 'c16orf58',\n",
       " 'c17orf53',\n",
       " 'c19orf48',\n",
       " 'c19orf57',\n",
       " 'c1orf61',\n",
       " 'c2orf83',\n",
       " 'c2orf91',\n",
       " 'c3orf67',\n",
       " 'c5orf30',\n",
       " 'c5orf60',\n",
       " 'c5orf67',\n",
       " 'c6orf201',\n",
       " 'c6orf223',\n",
       " 'c7orf77',\n",
       " 'c9orf129',\n",
       " 'c9orf92',\n",
       " 'card16',\n",
       " 'card17',\n",
       " 'cars',\n",
       " 'casc1',\n",
       " 'casc4',\n",
       " 'castor3',\n",
       " 'ccdc114',\n",
       " 'ccdc151',\n",
       " 'ccdc155',\n",
       " 'ccdc36',\n",
       " 'ccdc39',\n",
       " 'ccdc84',\n",
       " 'cd3eap',\n",
       " 'cenpbd1',\n",
       " 'cllu1os',\n",
       " 'cntd2',\n",
       " 'ct62',\n",
       " 'cxorf21',\n",
       " 'cxorf40a',\n",
       " 'cxorf56',\n",
       " 'cyb561d2',\n",
       " 'dars',\n",
       " 'dec1',\n",
       " 'defb133',\n",
       " 'dirc1',\n",
       " 'dock8-as1',\n",
       " 'dupd1',\n",
       " 'dusp27',\n",
       " 'elfn2',\n",
       " 'elmsan1',\n",
       " 'eloa3',\n",
       " 'eprs',\n",
       " 'fam122a',\n",
       " 'fam122b',\n",
       " 'fam122c',\n",
       " 'fam169b',\n",
       " 'fam192a',\n",
       " 'fam218a',\n",
       " 'fam30a',\n",
       " 'fam49a',\n",
       " 'fam49b',\n",
       " 'fam92b',\n",
       " 'fgfr1op',\n",
       " 'fopnl',\n",
       " 'fp565260.1',\n",
       " 'gars',\n",
       " 'gcsaml-as1',\n",
       " 'gdf5os',\n",
       " 'glra4',\n",
       " 'golga8m',\n",
       " 'grasp',\n",
       " 'h1f0',\n",
       " 'h1fnt',\n",
       " 'h1foo',\n",
       " 'h1fx',\n",
       " 'h2afj',\n",
       " 'h2afx',\n",
       " 'h2afy',\n",
       " 'h2afy2',\n",
       " 'h2afz',\n",
       " 'h2bfm',\n",
       " 'h2bfwt',\n",
       " 'h3.y',\n",
       " 'h3f3a',\n",
       " 'h3f3b',\n",
       " 'h3f3c',\n",
       " 'hars',\n",
       " 'hhla3',\n",
       " 'hist1h1a',\n",
       " 'hist1h1b',\n",
       " 'hist1h1c',\n",
       " 'hist1h1d',\n",
       " 'hist1h1e',\n",
       " 'hist1h2ac',\n",
       " 'hist1h2ae',\n",
       " 'hist1h2ag',\n",
       " 'hist1h2ai',\n",
       " 'hist1h2ak',\n",
       " 'hist1h2bb',\n",
       " 'hist1h2bg',\n",
       " 'hist1h2bh',\n",
       " 'hist1h2bn',\n",
       " 'hist1h3e',\n",
       " 'hist1h3g',\n",
       " 'hist1h3h',\n",
       " 'hist1h4b',\n",
       " 'hist1h4c',\n",
       " 'hist1h4e',\n",
       " 'hist1h4g',\n",
       " 'hist1h4i',\n",
       " 'hist1h4j',\n",
       " 'hist2h2be',\n",
       " 'hist3h2a',\n",
       " 'hist3h2bb',\n",
       " 'hist3h3',\n",
       " 'hist4h4',\n",
       " 'hypm',\n",
       " 'iars',\n",
       " 'ick',\n",
       " 'igha1',\n",
       " 'igha2',\n",
       " 'ighd',\n",
       " 'ighe',\n",
       " 'ighg1',\n",
       " 'ighg3',\n",
       " 'ighm',\n",
       " 'igkc',\n",
       " 'iglc1',\n",
       " 'iglc7',\n",
       " 'impad1',\n",
       " 'kars',\n",
       " 'kiaa0355',\n",
       " 'kiaa0556',\n",
       " 'kiaa1211',\n",
       " 'kiaa1211l',\n",
       " 'kiaa1257',\n",
       " 'kiaa1324',\n",
       " 'kiaa1324l',\n",
       " 'kif1bp',\n",
       " 'lars',\n",
       " 'linc02693',\n",
       " 'linc02694',\n",
       " 'lor',\n",
       " 'lrmp',\n",
       " 'lrp5l',\n",
       " 'lrrc29',\n",
       " 'maats1',\n",
       " 'marc1',\n",
       " 'marc2',\n",
       " 'march1',\n",
       " 'march10',\n",
       " 'march11',\n",
       " 'march2',\n",
       " 'march3',\n",
       " 'march4',\n",
       " 'march5',\n",
       " 'march6',\n",
       " 'march7',\n",
       " 'march8',\n",
       " 'march9',\n",
       " 'mars',\n",
       " 'mir1915hg',\n",
       " 'mrvi1',\n",
       " 'mycnos',\n",
       " 'nars',\n",
       " 'nxf5',\n",
       " 'or5r1',\n",
       " 'palm2-akap2',\n",
       " 'pano1',\n",
       " 'pde11a',\n",
       " 'pih1d3',\n",
       " 'pinx1',\n",
       " 'ppp5d1',\n",
       " 'prky',\n",
       " 'qars',\n",
       " 'rars',\n",
       " 'rgs5',\n",
       " 'sars',\n",
       " 'siglec5',\n",
       " 'slc26a10',\n",
       " 'slc66a1l',\n",
       " 'slfn12l',\n",
       " 'snhg32',\n",
       " 'spata13',\n",
       " 'spata8',\n",
       " 'spert',\n",
       " 'sspo',\n",
       " 'st5',\n",
       " 'tars',\n",
       " 'tarsl2',\n",
       " 'tbce',\n",
       " 'tcte3',\n",
       " 'tctex1d1',\n",
       " 'tctex1d2',\n",
       " 'tctex1d4',\n",
       " 'terc',\n",
       " 'tmem155',\n",
       " 'tmem173',\n",
       " 'tmem189',\n",
       " 'tmem246',\n",
       " 'tmem8a',\n",
       " 'tmem99',\n",
       " 'tmsb15b',\n",
       " 'trac',\n",
       " 'trbc1',\n",
       " 'trbc2',\n",
       " 'trdc',\n",
       " 'trgc1',\n",
       " 'trgc2',\n",
       " 'trgjp1',\n",
       " 'trgjp2',\n",
       " 'trim16l',\n",
       " 'tsta3',\n",
       " 'ttc25',\n",
       " 'twistnb',\n",
       " 'vars',\n",
       " 'wars',\n",
       " 'wdr34',\n",
       " 'wdr60',\n",
       " 'wdr63',\n",
       " 'wdr66',\n",
       " 'wdr78',\n",
       " 'wdyhv1',\n",
       " 'yars',\n",
       " 'z82206.1',\n",
       " 'znf883',\n",
       " 'znrd1'}"
      ]
     },
     "execution_count": 4,
     "metadata": {},
     "output_type": "execute_result"
    }
   ],
   "source": [
    "# 将所有基因名称转换为小写\n",
    "all_genes_lower = [gene.lower() for gene in all_genes]\n",
    "adata_genes_lower = [gene.lower() for gene in existing_genes]\n",
    "\n",
    "# 将两个列表转换为集合\n",
    "all_genes_set = set(all_genes_lower)\n",
    "adata_genes_set = set(adata_genes_lower)\n",
    "\n",
    "# 计算交集\n",
    "matching_genes = all_genes_set.intersection(adata_genes_set)\n",
    "matching_count = len(matching_genes)\n",
    "# 计算不匹配的基因\n",
    "non_matching_genes = adata_genes_set - matching_genes\n",
    "non_matching_count = len(non_matching_genes)\n",
    "\n",
    "\n",
    "# 输出结果\n",
    "print(f\"匹配的基因数量: {matching_count}\")\n",
    "print(f\"匹配的基因列表: {matching_genes}\")\n",
    "non_matching_genes"
   ]
  },
  {
   "cell_type": "code",
   "execution_count": 5,
   "metadata": {
    "execution": {
     "iopub.execute_input": "2024-11-03T15:02:53.277503Z",
     "iopub.status.busy": "2024-11-03T15:02:53.277348Z",
     "iopub.status.idle": "2024-11-03T15:05:16.172184Z",
     "shell.execute_reply": "2024-11-03T15:05:16.171237Z"
    }
   },
   "outputs": [
    {
     "name": "stdout",
     "output_type": "stream",
     "text": [
      "Gene al391650.1 not found in all_genes list\n"
     ]
    },
    {
     "name": "stdout",
     "output_type": "stream",
     "text": [
      "Gene yars not found in all_genes list\n"
     ]
    },
    {
     "name": "stdout",
     "output_type": "stream",
     "text": [
      "Gene adprhl2 not found in all_genes list\n"
     ]
    },
    {
     "name": "stdout",
     "output_type": "stream",
     "text": [
      "Gene tctex1d4 not found in all_genes list\n"
     ]
    },
    {
     "name": "stdout",
     "output_type": "stream",
     "text": [
      "Gene tctex1d1 not found in all_genes list\n",
      "Gene wdr78 not found in all_genes list\n",
      "Gene hhla3 not found in all_genes list\n"
     ]
    },
    {
     "name": "stdout",
     "output_type": "stream",
     "text": [
      "Gene ac118549.1 not found in all_genes list\n"
     ]
    },
    {
     "name": "stdout",
     "output_type": "stream",
     "text": [
      "Gene wdr63 not found in all_genes list\n"
     ]
    },
    {
     "name": "stdout",
     "output_type": "stream",
     "text": [
      "Gene kiaa1324 not found in all_genes list\n",
      "Gene sars not found in all_genes list\n"
     ]
    },
    {
     "name": "stdout",
     "output_type": "stream",
     "text": [
      "Gene hist2h2be not found in all_genes list\n"
     ]
    },
    {
     "name": "stdout",
     "output_type": "stream",
     "text": [
      "Gene al162596.1 not found in all_genes list\n",
      "Gene lor not found in all_genes list\n"
     ]
    },
    {
     "name": "stdout",
     "output_type": "stream",
     "text": [
      "Gene c1orf61 not found in all_genes list\n"
     ]
    },
    {
     "name": "stdout",
     "output_type": "stream",
     "text": [
      "Gene al590560.2 not found in all_genes list\n"
     ]
    },
    {
     "name": "stdout",
     "output_type": "stream",
     "text": [
      "Gene rgs5 not found in all_genes list\n",
      "Gene dusp27 not found in all_genes list\n"
     ]
    },
    {
     "name": "stdout",
     "output_type": "stream",
     "text": [
      "Gene eprs not found in all_genes list\n",
      "Gene marc2 not found in all_genes list\n",
      "Gene marc1 not found in all_genes list\n"
     ]
    },
    {
     "name": "stdout",
     "output_type": "stream",
     "text": [
      "Gene h3f3a not found in all_genes list\n"
     ]
    },
    {
     "name": "stdout",
     "output_type": "stream",
     "text": [
      "Gene hist3h3 not found in all_genes list\n",
      "Gene hist3h2a not found in all_genes list\n",
      "Gene hist3h2bb not found in all_genes list\n"
     ]
    },
    {
     "name": "stdout",
     "output_type": "stream",
     "text": [
      "Gene al109810.2 not found in all_genes list\n"
     ]
    },
    {
     "name": "stdout",
     "output_type": "stream",
     "text": [
      "Gene tbce not found in all_genes list\n"
     ]
    },
    {
     "name": "stdout",
     "output_type": "stream",
     "text": [
      "Gene adss not found in all_genes list\n",
      "Gene al451007.3 not found in all_genes list\n"
     ]
    },
    {
     "name": "stdout",
     "output_type": "stream",
     "text": [
      "Gene gcsaml-as1 not found in all_genes list\n"
     ]
    },
    {
     "name": "stdout",
     "output_type": "stream",
     "text": [
      "Gene mycnos not found in all_genes list\n",
      "Gene fam49a not found in all_genes list\n"
     ]
    },
    {
     "name": "stdout",
     "output_type": "stream",
     "text": [
      "Gene c2orf91 not found in all_genes list\n"
     ]
    },
    {
     "name": "stdout",
     "output_type": "stream",
     "text": [
      "Gene igkc not found in all_genes list\n",
      "Gene al845331.2 not found in all_genes list\n",
      "Gene ac092835.1 not found in all_genes list\n"
     ]
    },
    {
     "name": "stdout",
     "output_type": "stream",
     "text": [
      "Gene kiaa1211l not found in all_genes list\n"
     ]
    },
    {
     "name": "stdout",
     "output_type": "stream",
     "text": [
      "Gene dars not found in all_genes list\n"
     ]
    },
    {
     "name": "stdout",
     "output_type": "stream",
     "text": [
      "Gene march7 not found in all_genes list\n"
     ]
    },
    {
     "name": "stdout",
     "output_type": "stream",
     "text": [
      "Gene pde11a not found in all_genes list\n"
     ]
    },
    {
     "name": "stdout",
     "output_type": "stream",
     "text": [
      "Gene dirc1 not found in all_genes list\n"
     ]
    },
    {
     "name": "stdout",
     "output_type": "stream",
     "text": [
      "Gene march4 not found in all_genes list\n"
     ]
    },
    {
     "name": "stdout",
     "output_type": "stream",
     "text": [
      "Gene c2orf83 not found in all_genes list\n"
     ]
    },
    {
     "name": "stdout",
     "output_type": "stream",
     "text": [
      "Gene arih2os not found in all_genes list\n",
      "Gene qars not found in all_genes list\n",
      "Gene ccdc36 not found in all_genes list\n"
     ]
    },
    {
     "name": "stdout",
     "output_type": "stream",
     "text": [
      "Gene cyb561d2 not found in all_genes list\n"
     ]
    },
    {
     "name": "stdout",
     "output_type": "stream",
     "text": [
      "Gene c3orf67 not found in all_genes list\n"
     ]
    },
    {
     "name": "stdout",
     "output_type": "stream",
     "text": [
      "Gene maats1 not found in all_genes list\n"
     ]
    },
    {
     "name": "stdout",
     "output_type": "stream",
     "text": [
      "Gene alg1l not found in all_genes list\n"
     ]
    },
    {
     "name": "stdout",
     "output_type": "stream",
     "text": [
      "Gene kiaa1257 not found in all_genes list\n",
      "Gene h1fx not found in all_genes list\n",
      "Gene h1foo not found in all_genes list\n"
     ]
    },
    {
     "name": "stdout",
     "output_type": "stream",
     "text": [
      "Gene acpp not found in all_genes list\n"
     ]
    },
    {
     "name": "stdout",
     "output_type": "stream",
     "text": [
      "Gene slc66a1l not found in all_genes list\n"
     ]
    },
    {
     "name": "stdout",
     "output_type": "stream",
     "text": [
      "Gene terc not found in all_genes list\n"
     ]
    },
    {
     "name": "stdout",
     "output_type": "stream",
     "text": [
      "Gene ccdc39 not found in all_genes list\n"
     ]
    },
    {
     "name": "stdout",
     "output_type": "stream",
     "text": [
      "Gene ac072022.2 not found in all_genes list\n"
     ]
    },
    {
     "name": "stdout",
     "output_type": "stream",
     "text": [
      "Gene tctex1d2 not found in all_genes list\n"
     ]
    },
    {
     "name": "stdout",
     "output_type": "stream",
     "text": [
      "Gene ac093323.1 not found in all_genes list\n"
     ]
    },
    {
     "name": "stdout",
     "output_type": "stream",
     "text": [
      "Gene kiaa1211 not found in all_genes list\n"
     ]
    },
    {
     "name": "stdout",
     "output_type": "stream",
     "text": [
      "Gene h2afz not found in all_genes list\n"
     ]
    },
    {
     "name": "stdout",
     "output_type": "stream",
     "text": [
      "Gene tmem155 not found in all_genes list\n"
     ]
    },
    {
     "name": "stdout",
     "output_type": "stream",
     "text": [
      "Gene march1 not found in all_genes list\n",
      "Gene fam218a not found in all_genes list\n"
     ]
    },
    {
     "name": "stdout",
     "output_type": "stream",
     "text": [
      "Gene march6 not found in all_genes list\n",
      "Gene march11 not found in all_genes list\n"
     ]
    },
    {
     "name": "stdout",
     "output_type": "stream",
     "text": [
      "Gene h3.y not found in all_genes list\n",
      "Gene tars not found in all_genes list\n"
     ]
    },
    {
     "name": "stdout",
     "output_type": "stream",
     "text": [
      "Gene c5orf67 not found in all_genes list\n"
     ]
    },
    {
     "name": "stdout",
     "output_type": "stream",
     "text": [
      "Gene atp6ap1l not found in all_genes list\n"
     ]
    },
    {
     "name": "stdout",
     "output_type": "stream",
     "text": [
      "Gene c5orf30 not found in all_genes list\n"
     ]
    },
    {
     "name": "stdout",
     "output_type": "stream",
     "text": [
      "Gene ac010255.3 not found in all_genes list\n",
      "Gene march3 not found in all_genes list\n"
     ]
    },
    {
     "name": "stdout",
     "output_type": "stream",
     "text": [
      "Gene h2afy not found in all_genes list\n"
     ]
    },
    {
     "name": "stdout",
     "output_type": "stream",
     "text": [
      "Gene tmem173 not found in all_genes list\n",
      "Gene hars not found in all_genes list\n"
     ]
    },
    {
     "name": "stdout",
     "output_type": "stream",
     "text": [
      "Gene lars not found in all_genes list\n"
     ]
    },
    {
     "name": "stdout",
     "output_type": "stream",
     "text": [
      "Gene rars not found in all_genes list\n"
     ]
    },
    {
     "name": "stdout",
     "output_type": "stream",
     "text": [
      "Gene ac113348.1 not found in all_genes list\n",
      "Gene c5orf60 not found in all_genes list\n"
     ]
    },
    {
     "name": "stdout",
     "output_type": "stream",
     "text": [
      "Gene c6orf201 not found in all_genes list\n"
     ]
    },
    {
     "name": "stdout",
     "output_type": "stream",
     "text": [
      "Gene hist1h1a not found in all_genes list\n",
      "Gene hist1h4b not found in all_genes list\n",
      "Gene hist1h2bb not found in all_genes list\n",
      "Gene hist1h1c not found in all_genes list\n",
      "Gene hist1h4c not found in all_genes list\n",
      "Gene hist1h2ac not found in all_genes list\n",
      "Gene hist1h1e not found in all_genes list\n",
      "Gene hist1h4e not found in all_genes list\n",
      "Gene hist1h2bg not found in all_genes list\n",
      "Gene hist1h2ae not found in all_genes list\n",
      "Gene hist1h3e not found in all_genes list\n",
      "Gene hist1h1d not found in all_genes list\n",
      "Gene hist1h4g not found in all_genes list\n",
      "Gene hist1h2bh not found in all_genes list\n",
      "Gene hist1h3g not found in all_genes list\n",
      "Gene hist1h2ag not found in all_genes list\n",
      "Gene hist1h4i not found in all_genes list\n",
      "Gene hist1h2ai not found in all_genes list\n",
      "Gene hist1h3h not found in all_genes list\n",
      "Gene hist1h4j not found in all_genes list\n",
      "Gene hist1h2bn not found in all_genes list\n",
      "Gene hist1h2ak not found in all_genes list\n",
      "Gene hist1h1b not found in all_genes list\n"
     ]
    },
    {
     "name": "stdout",
     "output_type": "stream",
     "text": [
      "Gene znrd1 not found in all_genes list\n"
     ]
    },
    {
     "name": "stdout",
     "output_type": "stream",
     "text": [
      "Gene vars not found in all_genes list\n",
      "Gene snhg32 not found in all_genes list\n"
     ]
    },
    {
     "name": "stdout",
     "output_type": "stream",
     "text": [
      "Gene c6orf223 not found in all_genes list\n"
     ]
    },
    {
     "name": "stdout",
     "output_type": "stream",
     "text": [
      "Gene defb133 not found in all_genes list\n",
      "Gene ick not found in all_genes list\n"
     ]
    },
    {
     "name": "stdout",
     "output_type": "stream",
     "text": [
      "Gene al135905.2 not found in all_genes list\n"
     ]
    },
    {
     "name": "stdout",
     "output_type": "stream",
     "text": [
      "Gene fgfr1op not found in all_genes list\n",
      "Gene tcte3 not found in all_genes list\n",
      "Gene ac187653.1 not found in all_genes list\n"
     ]
    },
    {
     "name": "stdout",
     "output_type": "stream",
     "text": [
      "Gene ac013470.2 not found in all_genes list\n",
      "Gene twistnb not found in all_genes list\n"
     ]
    },
    {
     "name": "stdout",
     "output_type": "stream",
     "text": [
      "Gene ac004593.3 not found in all_genes list\n",
      "Gene gars not found in all_genes list\n"
     ]
    },
    {
     "name": "stdout",
     "output_type": "stream",
     "text": [
      "Gene trgc2 not found in all_genes list\n",
      "Gene trgjp2 not found in all_genes list\n",
      "Gene trgc1 not found in all_genes list\n",
      "Gene trgjp1 not found in all_genes list\n"
     ]
    },
    {
     "name": "stdout",
     "output_type": "stream",
     "text": [
      "Gene ac115220.1 not found in all_genes list\n"
     ]
    },
    {
     "name": "stdout",
     "output_type": "stream",
     "text": [
      "Gene kiaa1324l not found in all_genes list\n"
     ]
    },
    {
     "name": "stdout",
     "output_type": "stream",
     "text": [
      "Gene castor3 not found in all_genes list\n"
     ]
    },
    {
     "name": "stdout",
     "output_type": "stream",
     "text": [
      "Gene c7orf77 not found in all_genes list\n"
     ]
    },
    {
     "name": "stdout",
     "output_type": "stream",
     "text": [
      "Gene ac011005.1 not found in all_genes list\n"
     ]
    },
    {
     "name": "stdout",
     "output_type": "stream",
     "text": [
      "Gene trbc1 not found in all_genes list\n",
      "Gene trbc2 not found in all_genes list\n"
     ]
    },
    {
     "name": "stdout",
     "output_type": "stream",
     "text": [
      "Gene sspo not found in all_genes list\n",
      "Gene ac073111.4 not found in all_genes list\n"
     ]
    },
    {
     "name": "stdout",
     "output_type": "stream",
     "text": [
      "Gene ac021097.2 not found in all_genes list\n"
     ]
    },
    {
     "name": "stdout",
     "output_type": "stream",
     "text": [
      "Gene wdr60 not found in all_genes list\n",
      "Gene ac134684.8 not found in all_genes list\n"
     ]
    },
    {
     "name": "stdout",
     "output_type": "stream",
     "text": [
      "Gene pinx1 not found in all_genes list\n"
     ]
    },
    {
     "name": "stdout",
     "output_type": "stream",
     "text": [
      "Gene impad1 not found in all_genes list\n"
     ]
    },
    {
     "name": "stdout",
     "output_type": "stream",
     "text": [
      "Gene wdyhv1 not found in all_genes list\n",
      "Gene fam49b not found in all_genes list\n"
     ]
    },
    {
     "name": "stdout",
     "output_type": "stream",
     "text": [
      "Gene ac138647.1 not found in all_genes list\n"
     ]
    },
    {
     "name": "stdout",
     "output_type": "stream",
     "text": [
      "Gene tsta3 not found in all_genes list\n"
     ]
    },
    {
     "name": "stdout",
     "output_type": "stream",
     "text": [
      "Gene dock8-as1 not found in all_genes list\n"
     ]
    },
    {
     "name": "stdout",
     "output_type": "stream",
     "text": [
      "Gene c9orf92 not found in all_genes list\n"
     ]
    },
    {
     "name": "stdout",
     "output_type": "stream",
     "text": [
      "Gene al162231.1 not found in all_genes list\n"
     ]
    },
    {
     "name": "stdout",
     "output_type": "stream",
     "text": [
      "Gene fam122a not found in all_genes list\n"
     ]
    },
    {
     "name": "stdout",
     "output_type": "stream",
     "text": [
      "Gene al353572.3 not found in all_genes list\n",
      "Gene iars not found in all_genes list\n"
     ]
    },
    {
     "name": "stdout",
     "output_type": "stream",
     "text": [
      "Gene c9orf129 not found in all_genes list\n",
      "Gene al160269.1 not found in all_genes list\n"
     ]
    },
    {
     "name": "stdout",
     "output_type": "stream",
     "text": [
      "Gene tmem246 not found in all_genes list\n"
     ]
    },
    {
     "name": "stdout",
     "output_type": "stream",
     "text": [
      "Gene palm2-akap2 not found in all_genes list\n",
      "Gene znf883 not found in all_genes list\n"
     ]
    },
    {
     "name": "stdout",
     "output_type": "stream",
     "text": [
      "Gene dec1 not found in all_genes list\n",
      "Gene b3gnt10 not found in all_genes list\n"
     ]
    },
    {
     "name": "stdout",
     "output_type": "stream",
     "text": [
      "Gene wdr34 not found in all_genes list\n"
     ]
    },
    {
     "name": "stdout",
     "output_type": "stream",
     "text": [
      "Gene al354761.1 not found in all_genes list\n"
     ]
    },
    {
     "name": "stdout",
     "output_type": "stream",
     "text": [
      "Gene bx255925.3 not found in all_genes list\n"
     ]
    },
    {
     "name": "stdout",
     "output_type": "stream",
     "text": [
      "Gene mir1915hg not found in all_genes list\n"
     ]
    },
    {
     "name": "stdout",
     "output_type": "stream",
     "text": [
      "Gene armc4 not found in all_genes list\n"
     ]
    },
    {
     "name": "stdout",
     "output_type": "stream",
     "text": [
      "Gene c10orf142 not found in all_genes list\n",
      "Gene march8 not found in all_genes list\n"
     ]
    },
    {
     "name": "stdout",
     "output_type": "stream",
     "text": [
      "Gene ac067752.1 not found in all_genes list\n",
      "Gene kif1bp not found in all_genes list\n"
     ]
    },
    {
     "name": "stdout",
     "output_type": "stream",
     "text": [
      "Gene h2afy2 not found in all_genes list\n"
     ]
    },
    {
     "name": "stdout",
     "output_type": "stream",
     "text": [
      "Gene c10orf55 not found in all_genes list\n",
      "Gene dupd1 not found in all_genes list\n"
     ]
    },
    {
     "name": "stdout",
     "output_type": "stream",
     "text": [
      "Gene march5 not found in all_genes list\n"
     ]
    },
    {
     "name": "stdout",
     "output_type": "stream",
     "text": [
      "Gene atp5md not found in all_genes list\n"
     ]
    },
    {
     "name": "stdout",
     "output_type": "stream",
     "text": [
      "Gene al603764.2 not found in all_genes list\n"
     ]
    },
    {
     "name": "stdout",
     "output_type": "stream",
     "text": [
      "Gene pano1 not found in all_genes list\n",
      "Gene ac132217.2 not found in all_genes list\n"
     ]
    },
    {
     "name": "stdout",
     "output_type": "stream",
     "text": [
      "Gene cars not found in all_genes list\n",
      "Gene c11orf40 not found in all_genes list\n"
     ]
    },
    {
     "name": "stdout",
     "output_type": "stream",
     "text": [
      "Gene ac104389.5 not found in all_genes list\n"
     ]
    },
    {
     "name": "stdout",
     "output_type": "stream",
     "text": [
      "Gene st5 not found in all_genes list\n",
      "Gene mrvi1 not found in all_genes list\n"
     ]
    },
    {
     "name": "stdout",
     "output_type": "stream",
     "text": [
      "Gene c11orf74 not found in all_genes list\n"
     ]
    },
    {
     "name": "stdout",
     "output_type": "stream",
     "text": [
      "Gene or5r1 not found in all_genes list\n"
     ]
    },
    {
     "name": "stdout",
     "output_type": "stream",
     "text": [
      "Gene ap002495.1 not found in all_genes list\n"
     ]
    },
    {
     "name": "stdout",
     "output_type": "stream",
     "text": [
      "Gene card16 not found in all_genes list\n",
      "Gene card17 not found in all_genes list\n"
     ]
    },
    {
     "name": "stdout",
     "output_type": "stream",
     "text": [
      "Gene c11orf88 not found in all_genes list\n"
     ]
    },
    {
     "name": "stdout",
     "output_type": "stream",
     "text": [
      "Gene ccdc84 not found in all_genes list\n",
      "Gene h2afx not found in all_genes list\n"
     ]
    },
    {
     "name": "stdout",
     "output_type": "stream",
     "text": [
      "Gene hist4h4 not found in all_genes list\n",
      "Gene h2afj not found in all_genes list\n"
     ]
    },
    {
     "name": "stdout",
     "output_type": "stream",
     "text": [
      "Gene lrmp not found in all_genes list\n",
      "Gene casc1 not found in all_genes list\n"
     ]
    },
    {
     "name": "stdout",
     "output_type": "stream",
     "text": [
      "Gene h3f3c not found in all_genes list\n"
     ]
    },
    {
     "name": "stdout",
     "output_type": "stream",
     "text": [
      "Gene h1fnt not found in all_genes list\n"
     ]
    },
    {
     "name": "stdout",
     "output_type": "stream",
     "text": [
      "Gene c12orf81 not found in all_genes list\n",
      "Gene grasp not found in all_genes list\n"
     ]
    },
    {
     "name": "stdout",
     "output_type": "stream",
     "text": [
      "Gene ac021072.1 not found in all_genes list\n",
      "Gene c12orf10 not found in all_genes list\n"
     ]
    },
    {
     "name": "stdout",
     "output_type": "stream",
     "text": [
      "Gene mars not found in all_genes list\n",
      "Gene slc26a10 not found in all_genes list\n",
      "Gene march9 not found in all_genes list\n"
     ]
    },
    {
     "name": "stdout",
     "output_type": "stream",
     "text": [
      "Gene cllu1os not found in all_genes list\n",
      "Gene c12orf74 not found in all_genes list\n"
     ]
    },
    {
     "name": "stdout",
     "output_type": "stream",
     "text": [
      "Gene c12orf49 not found in all_genes list\n"
     ]
    },
    {
     "name": "stdout",
     "output_type": "stream",
     "text": [
      "Gene wdr66 not found in all_genes list\n"
     ]
    },
    {
     "name": "stdout",
     "output_type": "stream",
     "text": [
      "Gene spata13 not found in all_genes list\n"
     ]
    },
    {
     "name": "stdout",
     "output_type": "stream",
     "text": [
      "Gene spert not found in all_genes list\n"
     ]
    },
    {
     "name": "stdout",
     "output_type": "stream",
     "text": [
      "Gene al445238.1 not found in all_genes list\n"
     ]
    },
    {
     "name": "stdout",
     "output_type": "stream",
     "text": [
      "Gene trdc not found in all_genes list\n",
      "Gene trac not found in all_genes list\n"
     ]
    },
    {
     "name": "stdout",
     "output_type": "stream",
     "text": [
      "Gene elmsan1 not found in all_genes list\n"
     ]
    },
    {
     "name": "stdout",
     "output_type": "stream",
     "text": [
      "Gene c14orf177 not found in all_genes list\n",
      "Gene wars not found in all_genes list\n"
     ]
    },
    {
     "name": "stdout",
     "output_type": "stream",
     "text": [
      "Gene atp5mpl not found in all_genes list\n",
      "Gene adssl1 not found in all_genes list\n"
     ]
    },
    {
     "name": "stdout",
     "output_type": "stream",
     "text": [
      "Gene igha2 not found in all_genes list\n",
      "Gene ighe not found in all_genes list\n",
      "Gene igha1 not found in all_genes list\n",
      "Gene ighg1 not found in all_genes list\n",
      "Gene ighg3 not found in all_genes list\n",
      "Gene ighd not found in all_genes list\n",
      "Gene ighm not found in all_genes list\n",
      "Gene fam30a not found in all_genes list\n",
      "Gene golga8m not found in all_genes list\n"
     ]
    },
    {
     "name": "stdout",
     "output_type": "stream",
     "text": [
      "Gene ac091057.6 not found in all_genes list\n"
     ]
    },
    {
     "name": "stdout",
     "output_type": "stream",
     "text": [
      "Gene c15orf41 not found in all_genes list\n",
      "Gene linc02694 not found in all_genes list\n"
     ]
    },
    {
     "name": "stdout",
     "output_type": "stream",
     "text": [
      "Gene casc4 not found in all_genes list\n"
     ]
    },
    {
     "name": "stdout",
     "output_type": "stream",
     "text": [
      "Gene ct62 not found in all_genes list\n"
     ]
    },
    {
     "name": "stdout",
     "output_type": "stream",
     "text": [
      "Gene ac015871.1 not found in all_genes list\n"
     ]
    },
    {
     "name": "stdout",
     "output_type": "stream",
     "text": [
      "Gene spata8 not found in all_genes list\n",
      "Gene fam169b not found in all_genes list\n",
      "Gene tarsl2 not found in all_genes list\n"
     ]
    },
    {
     "name": "stdout",
     "output_type": "stream",
     "text": [
      "Gene tmem8a not found in all_genes list\n"
     ]
    },
    {
     "name": "stdout",
     "output_type": "stream",
     "text": [
      "Gene al032819.3 not found in all_genes list\n"
     ]
    },
    {
     "name": "stdout",
     "output_type": "stream",
     "text": [
      "Gene ac025283.2 not found in all_genes list\n"
     ]
    },
    {
     "name": "stdout",
     "output_type": "stream",
     "text": [
      "Gene ac099489.1 not found in all_genes list\n",
      "Gene fopnl not found in all_genes list\n"
     ]
    },
    {
     "name": "stdout",
     "output_type": "stream",
     "text": [
      "Gene kiaa0556 not found in all_genes list\n"
     ]
    },
    {
     "name": "stdout",
     "output_type": "stream",
     "text": [
      "Gene c16orf58 not found in all_genes list\n"
     ]
    },
    {
     "name": "stdout",
     "output_type": "stream",
     "text": [
      "Gene ac007906.2 not found in all_genes list\n"
     ]
    },
    {
     "name": "stdout",
     "output_type": "stream",
     "text": [
      "Gene fam192a not found in all_genes list\n"
     ]
    },
    {
     "name": "stdout",
     "output_type": "stream",
     "text": [
      "Gene lrrc29 not found in all_genes list\n"
     ]
    },
    {
     "name": "stdout",
     "output_type": "stream",
     "text": [
      "Gene aars not found in all_genes list\n"
     ]
    },
    {
     "name": "stdout",
     "output_type": "stream",
     "text": [
      "Gene kars not found in all_genes list\n",
      "Gene ac025287.4 not found in all_genes list\n"
     ]
    },
    {
     "name": "stdout",
     "output_type": "stream",
     "text": [
      "Gene fam92b not found in all_genes list\n"
     ]
    },
    {
     "name": "stdout",
     "output_type": "stream",
     "text": [
      "Gene cenpbd1 not found in all_genes list\n"
     ]
    },
    {
     "name": "stdout",
     "output_type": "stream",
     "text": [
      "Gene ac087498.1 not found in all_genes list\n"
     ]
    },
    {
     "name": "stdout",
     "output_type": "stream",
     "text": [
      "Gene ac233723.1 not found in all_genes list\n"
     ]
    },
    {
     "name": "stdout",
     "output_type": "stream",
     "text": [
      "Gene trim16l not found in all_genes list\n",
      "Gene linc02693 not found in all_genes list\n"
     ]
    },
    {
     "name": "stdout",
     "output_type": "stream",
     "text": [
      "Gene slfn12l not found in all_genes list\n"
     ]
    },
    {
     "name": "stdout",
     "output_type": "stream",
     "text": [
      "Gene tmem99 not found in all_genes list\n"
     ]
    },
    {
     "name": "stdout",
     "output_type": "stream",
     "text": [
      "Gene ttc25 not found in all_genes list\n"
     ]
    },
    {
     "name": "stdout",
     "output_type": "stream",
     "text": [
      "Gene c17orf53 not found in all_genes list\n"
     ]
    },
    {
     "name": "stdout",
     "output_type": "stream",
     "text": [
      "Gene ac011195.2 not found in all_genes list\n"
     ]
    },
    {
     "name": "stdout",
     "output_type": "stream",
     "text": [
      "Gene march10 not found in all_genes list\n"
     ]
    },
    {
     "name": "stdout",
     "output_type": "stream",
     "text": [
      "Gene h3f3b not found in all_genes list\n"
     ]
    },
    {
     "name": "stdout",
     "output_type": "stream",
     "text": [
      "Gene eloa3 not found in all_genes list\n"
     ]
    },
    {
     "name": "stdout",
     "output_type": "stream",
     "text": [
      "Gene nars not found in all_genes list\n"
     ]
    },
    {
     "name": "stdout",
     "output_type": "stream",
     "text": [
      "Gene ac090360.1 not found in all_genes list\n"
     ]
    },
    {
     "name": "stdout",
     "output_type": "stream",
     "text": [
      "Gene ac005551.1 not found in all_genes list\n"
     ]
    },
    {
     "name": "stdout",
     "output_type": "stream",
     "text": [
      "Gene ac119396.1 not found in all_genes list\n"
     ]
    },
    {
     "name": "stdout",
     "output_type": "stream",
     "text": [
      "Gene march2 not found in all_genes list\n"
     ]
    },
    {
     "name": "stdout",
     "output_type": "stream",
     "text": [
      "Gene ccdc151 not found in all_genes list\n"
     ]
    },
    {
     "name": "stdout",
     "output_type": "stream",
     "text": [
      "Gene c19orf57 not found in all_genes list\n"
     ]
    },
    {
     "name": "stdout",
     "output_type": "stream",
     "text": [
      "Gene ac008397.1 not found in all_genes list\n"
     ]
    },
    {
     "name": "stdout",
     "output_type": "stream",
     "text": [
      "Gene kiaa0355 not found in all_genes list\n"
     ]
    },
    {
     "name": "stdout",
     "output_type": "stream",
     "text": [
      "Gene cntd2 not found in all_genes list\n"
     ]
    },
    {
     "name": "stdout",
     "output_type": "stream",
     "text": [
      "Gene cd3eap not found in all_genes list\n",
      "Gene bhmg1 not found in all_genes list\n"
     ]
    },
    {
     "name": "stdout",
     "output_type": "stream",
     "text": [
      "Gene ppp5d1 not found in all_genes list\n"
     ]
    },
    {
     "name": "stdout",
     "output_type": "stream",
     "text": [
      "Gene ccdc114 not found in all_genes list\n"
     ]
    },
    {
     "name": "stdout",
     "output_type": "stream",
     "text": [
      "Gene ac008687.4 not found in all_genes list\n",
      "Gene ccdc155 not found in all_genes list\n"
     ]
    },
    {
     "name": "stdout",
     "output_type": "stream",
     "text": [
      "Gene ac010325.1 not found in all_genes list\n",
      "Gene c19orf48 not found in all_genes list\n"
     ]
    },
    {
     "name": "stdout",
     "output_type": "stream",
     "text": [
      "Gene siglec5 not found in all_genes list\n"
     ]
    },
    {
     "name": "stdout",
     "output_type": "stream",
     "text": [
      "Gene gdf5os not found in all_genes list\n"
     ]
    },
    {
     "name": "stdout",
     "output_type": "stream",
     "text": [
      "Gene tmem189 not found in all_genes list\n"
     ]
    },
    {
     "name": "stdout",
     "output_type": "stream",
     "text": [
      "Gene fp565260.1 not found in all_genes list\n"
     ]
    },
    {
     "name": "stdout",
     "output_type": "stream",
     "text": [
      "Gene iglc1 not found in all_genes list\n",
      "Gene iglc7 not found in all_genes list\n"
     ]
    },
    {
     "name": "stdout",
     "output_type": "stream",
     "text": [
      "Gene lrp5l not found in all_genes list\n"
     ]
    },
    {
     "name": "stdout",
     "output_type": "stream",
     "text": [
      "Gene elfn2 not found in all_genes list\n",
      "Gene h1f0 not found in all_genes list\n"
     ]
    },
    {
     "name": "stdout",
     "output_type": "stream",
     "text": [
      "Gene z82206.1 not found in all_genes list\n"
     ]
    },
    {
     "name": "stdout",
     "output_type": "stream",
     "text": [
      "Gene arse not found in all_genes list\n"
     ]
    },
    {
     "name": "stdout",
     "output_type": "stream",
     "text": [
      "Gene cxorf21 not found in all_genes list\n",
      "Gene hypm not found in all_genes list\n",
      "Gene al121578.2 not found in all_genes list\n"
     ]
    },
    {
     "name": "stdout",
     "output_type": "stream",
     "text": [
      "Gene bx276092.9 not found in all_genes list\n"
     ]
    },
    {
     "name": "stdout",
     "output_type": "stream",
     "text": [
      "Gene nxf5 not found in all_genes list\n",
      "Gene glra4 not found in all_genes list\n",
      "Gene tmsb15b not found in all_genes list\n",
      "Gene h2bfwt not found in all_genes list\n",
      "Gene h2bfm not found in all_genes list\n"
     ]
    },
    {
     "name": "stdout",
     "output_type": "stream",
     "text": [
      "Gene pih1d3 not found in all_genes list\n"
     ]
    },
    {
     "name": "stdout",
     "output_type": "stream",
     "text": [
      "Gene cxorf56 not found in all_genes list\n"
     ]
    },
    {
     "name": "stdout",
     "output_type": "stream",
     "text": [
      "Gene fam122b not found in all_genes list\n",
      "Gene fam122c not found in all_genes list\n"
     ]
    },
    {
     "name": "stdout",
     "output_type": "stream",
     "text": [
      "Gene cxorf40a not found in all_genes list\n",
      "Gene ac236972.4 not found in all_genes list\n"
     ]
    },
    {
     "name": "stdout",
     "output_type": "stream",
     "text": [
      "Gene prky not found in all_genes list\n"
     ]
    }
   ],
   "source": [
    "gene_to_index = {gene: idx for idx, gene in enumerate(all_genes_lower)}\n",
    "dense_adata_X = adata.X\n",
    "for i, gene in enumerate(adata_genes_lower):\n",
    "    if gene in gene_to_index:\n",
    "        new_data[:, gene_to_index[gene]] = dense_adata_X[:, i]\n",
    "    else:\n",
    "        print(f'Gene {gene} not found in all_genes list')"
   ]
  },
  {
   "cell_type": "code",
   "execution_count": 6,
   "metadata": {
    "execution": {
     "iopub.execute_input": "2024-11-03T15:05:16.174787Z",
     "iopub.status.busy": "2024-11-03T15:05:16.174477Z",
     "iopub.status.idle": "2024-11-03T15:05:25.418844Z",
     "shell.execute_reply": "2024-11-03T15:05:25.418055Z"
    }
   },
   "outputs": [
    {
     "name": "stderr",
     "output_type": "stream",
     "text": [
      "GPU available: True (cuda), used: True\n"
     ]
    },
    {
     "name": "stderr",
     "output_type": "stream",
     "text": [
      "TPU available: False, using: 0 TPU cores\n"
     ]
    },
    {
     "name": "stderr",
     "output_type": "stream",
     "text": [
      "HPU available: False, using: 0 HPUs\n"
     ]
    }
   ],
   "source": [
    "# 使用 GPU 进行评估（如果可用）\n",
    "estim.trainer = pl.Trainer(accelerator=\"gpu\", devices=1 if torch.cuda.is_available() else None)\n",
    "\n",
    "# 5. 数据集划分（70% 训练，15% 验证，15% 测试）\n",
    "label_encoder = LabelEncoder()\n",
    "labels_encoded = label_encoder.fit_transform(adata.obs['cell_type'])  # 预先编码标签\n",
    "\n",
    "\n",
    "random_seed = 42\n",
    "\n",
    "X_train_val, X_test, y_train_val, y_test = train_test_split(\n",
    "    new_data, labels_encoded, test_size=0.15, random_state=random_seed)\n",
    "\n",
    "X_train, X_val, y_train, y_val = train_test_split(\n",
    "    X_train_val, y_train_val, test_size=0.1765, random_state=random_seed)  # 0.1765 是为了让验证集占 15%"
   ]
  },
  {
   "cell_type": "code",
   "execution_count": 7,
   "metadata": {
    "execution": {
     "iopub.execute_input": "2024-11-03T15:05:25.421550Z",
     "iopub.status.busy": "2024-11-03T15:05:25.421269Z",
     "iopub.status.idle": "2024-11-03T15:05:28.241018Z",
     "shell.execute_reply": "2024-11-03T15:05:28.240448Z"
    }
   },
   "outputs": [
    {
     "data": {
      "text/plain": [
       "MLPAutoEncoder(\n",
       "  (train_metrics): MetricCollection(\n",
       "    (explained_var_uniform): ExplainedVariance()\n",
       "    (explained_var_weighted): ExplainedVariance()\n",
       "    (mse): MeanSquaredError(),\n",
       "    prefix=train_\n",
       "  )\n",
       "  (val_metrics): MetricCollection(\n",
       "    (explained_var_uniform): ExplainedVariance()\n",
       "    (explained_var_weighted): ExplainedVariance()\n",
       "    (mse): MeanSquaredError(),\n",
       "    prefix=val_\n",
       "  )\n",
       "  (test_metrics): MetricCollection(\n",
       "    (explained_var_uniform): ExplainedVariance()\n",
       "    (explained_var_weighted): ExplainedVariance()\n",
       "    (mse): MeanSquaredError(),\n",
       "    prefix=test_\n",
       "  )\n",
       "  (encoder): MLP(\n",
       "    (0): Linear(in_features=19331, out_features=512, bias=True)\n",
       "    (1): SELU()\n",
       "    (2): Dropout(p=0.1, inplace=False)\n",
       "    (3): Linear(in_features=512, out_features=512, bias=True)\n",
       "    (4): SELU()\n",
       "    (5): Dropout(p=0.1, inplace=False)\n",
       "    (6): Linear(in_features=512, out_features=256, bias=True)\n",
       "    (7): SELU()\n",
       "    (8): Dropout(p=0.1, inplace=False)\n",
       "    (9): Linear(in_features=256, out_features=256, bias=True)\n",
       "    (10): SELU()\n",
       "    (11): Dropout(p=0.1, inplace=False)\n",
       "    (12): Linear(in_features=256, out_features=64, bias=True)\n",
       "  )\n",
       "  (decoder): Sequential(\n",
       "    (0): MLP(\n",
       "      (0): Linear(in_features=64, out_features=256, bias=True)\n",
       "      (1): SELU()\n",
       "      (2): Dropout(p=0.1, inplace=False)\n",
       "      (3): Linear(in_features=256, out_features=256, bias=True)\n",
       "      (4): SELU()\n",
       "      (5): Dropout(p=0.1, inplace=False)\n",
       "      (6): Linear(in_features=256, out_features=512, bias=True)\n",
       "      (7): SELU()\n",
       "      (8): Dropout(p=0.1, inplace=False)\n",
       "      (9): Linear(in_features=512, out_features=512, bias=True)\n",
       "      (10): SELU()\n",
       "      (11): Dropout(p=0.1, inplace=False)\n",
       "      (12): Linear(in_features=512, out_features=19331, bias=True)\n",
       "    )\n",
       "    (1): Sigmoid()\n",
       "  )\n",
       "  (fc): Linear(in_features=64, out_features=20, bias=True)\n",
       ")"
      ]
     },
     "execution_count": 7,
     "metadata": {},
     "output_type": "execute_result"
    }
   ],
   "source": [
    "# 将训练数据转换为张量\n",
    "device = torch.device(\"cuda\" if torch.cuda.is_available() else \"cpu\")\n",
    "X_train_tensor = torch.tensor(X_train).float().to(device)\n",
    "y_train_tensor = torch.tensor(y_train).long().to(device)\n",
    "X_val_tensor = torch.tensor(X_val).float().to(device)\n",
    "y_val_tensor = torch.tensor(y_val).long().to(device)\n",
    "estim.model.to(device)"
   ]
  },
  {
   "cell_type": "code",
   "execution_count": 8,
   "metadata": {
    "execution": {
     "iopub.execute_input": "2024-11-03T15:05:28.242880Z",
     "iopub.status.busy": "2024-11-03T15:05:28.242614Z",
     "iopub.status.idle": "2024-11-03T15:05:28.246157Z",
     "shell.execute_reply": "2024-11-03T15:05:28.245531Z"
    }
   },
   "outputs": [],
   "source": [
    "# 6. 微调模型，仅微调 encoder 的最后两层，其他层参数冻结\n",
    "for param in estim.model.encoder.parameters():\n",
    "    param.requires_grad = False  # 冻结所有层\n",
    "\n",
    "# 解冻最后两层\n",
    "for param in list(estim.model.encoder.parameters())[-5:]:\n",
    "    param.requires_grad = True"
   ]
  },
  {
   "cell_type": "code",
   "execution_count": 9,
   "metadata": {
    "execution": {
     "iopub.execute_input": "2024-11-03T15:05:28.248080Z",
     "iopub.status.busy": "2024-11-03T15:05:28.247629Z",
     "iopub.status.idle": "2024-11-03T15:05:28.251842Z",
     "shell.execute_reply": "2024-11-03T15:05:28.251298Z"
    }
   },
   "outputs": [],
   "source": [
    "# 定义损失函数和优化器\n",
    "loss_fn = nn.CrossEntropyLoss()\n",
    "optimizer = AdamW(filter(lambda p: p.requires_grad, estim.model.parameters()), lr=9e-4, weight_decay=0.05)\n",
    "scheduler = torch.optim.lr_scheduler.StepLR(optimizer, step_size=2, gamma=0.9)"
   ]
  },
  {
   "cell_type": "code",
   "execution_count": 10,
   "metadata": {
    "execution": {
     "iopub.execute_input": "2024-11-03T15:05:28.253642Z",
     "iopub.status.busy": "2024-11-03T15:05:28.253247Z",
     "iopub.status.idle": "2024-11-03T15:05:28.258958Z",
     "shell.execute_reply": "2024-11-03T15:05:28.258436Z"
    }
   },
   "outputs": [],
   "source": [
    "from torch.utils.data import DataLoader, TensorDataset\n",
    "\n",
    "# 设置 batch size\n",
    "batch_size = 128  # 根据实际需求调整 batch size\n",
    "\n",
    "# 使用 TensorDataset 将训练数据和标签打包\n",
    "train_dataset = TensorDataset(X_train_tensor, y_train_tensor)\n",
    "val_dataset = TensorDataset(X_val_tensor, y_val_tensor)\n",
    "\n",
    "# 使用 DataLoader 来创建批次\n",
    "train_loader = DataLoader(train_dataset, batch_size=batch_size, shuffle=True)\n",
    "val_loader = DataLoader(val_dataset, batch_size=batch_size, shuffle=False)\n",
    "\n",
    "# 7. 微调模型\n",
    "def train_epoch(model, optimizer, loss_fn, train_loader, val_loader):\n",
    "    model.train()\n",
    "    total_train_loss = 0\n",
    "    \n",
    "    # 训练集批次训练\n",
    "    for X_batch, y_batch in train_loader:\n",
    "        optimizer.zero_grad()\n",
    "        \n",
    "        # 前向传播\n",
    "        outputs = model.encoder(X_batch)\n",
    "        logits = model.fc(outputs)\n",
    "        \n",
    "        # 计算损失\n",
    "        loss = loss_fn(logits, y_batch)\n",
    "        loss.backward()\n",
    "        optimizer.step()\n",
    "        \n",
    "        total_train_loss += loss.item()\n",
    "    \n",
    "    # 验证集\n",
    "    model.eval()\n",
    "    total_val_loss = 0\n",
    "    with torch.no_grad():\n",
    "        for X_val_batch, y_val_batch in val_loader:\n",
    "            val_outputs = model.encoder(X_val_batch)\n",
    "            val_logits = model.fc(val_outputs)\n",
    "            val_loss = loss_fn(val_logits, y_val_batch)\n",
    "            total_val_loss += val_loss.item()\n",
    "\n",
    "    # 返回平均损失\n",
    "    return total_train_loss / len(train_loader), total_val_loss / len(val_loader)"
   ]
  },
  {
   "cell_type": "code",
   "execution_count": 11,
   "metadata": {
    "execution": {
     "iopub.execute_input": "2024-11-03T15:05:28.260949Z",
     "iopub.status.busy": "2024-11-03T15:05:28.260469Z",
     "iopub.status.idle": "2024-11-03T15:06:51.159204Z",
     "shell.execute_reply": "2024-11-03T15:06:51.157403Z"
    }
   },
   "outputs": [
    {
     "name": "stdout",
     "output_type": "stream",
     "text": [
      "Epoch 1, Train Loss: 1.3320036442840801, Validation Loss: 1.0280528325719882\n",
      "Validation loss improved to 1.0280528325719882, resetting patience.\n"
     ]
    },
    {
     "name": "stdout",
     "output_type": "stream",
     "text": [
      "Epoch 2, Train Loss: 1.1472580554958003, Validation Loss: 1.0006834562054745\n",
      "Validation loss improved to 1.0006834562054745, resetting patience.\n"
     ]
    },
    {
     "name": "stdout",
     "output_type": "stream",
     "text": [
      "Epoch 3, Train Loss: 1.12217790213026, Validation Loss: 0.9661399706971222\n",
      "Validation loss improved to 0.9661399706971222, resetting patience.\n"
     ]
    },
    {
     "name": "stdout",
     "output_type": "stream",
     "text": [
      "Epoch 4, Train Loss: 1.1085880179290937, Validation Loss: 0.9806044658428521\n",
      "No improvement in validation loss. Patience counter: 1/20\n"
     ]
    },
    {
     "name": "stdout",
     "output_type": "stream",
     "text": [
      "Epoch 5, Train Loss: 1.0997683380553924, Validation Loss: 0.9638457183305382\n",
      "Validation loss improved to 0.9638457183305382, resetting patience.\n"
     ]
    },
    {
     "name": "stdout",
     "output_type": "stream",
     "text": [
      "Epoch 6, Train Loss: 1.0979843409752275, Validation Loss: 0.9458965731756336\n",
      "Validation loss improved to 0.9458965731756336, resetting patience.\n"
     ]
    },
    {
     "name": "stdout",
     "output_type": "stream",
     "text": [
      "Epoch 7, Train Loss: 1.089465644299854, Validation Loss: 0.9416263890145394\n",
      "Validation loss improved to 0.9416263890145394, resetting patience.\n"
     ]
    },
    {
     "name": "stdout",
     "output_type": "stream",
     "text": [
      "Epoch 8, Train Loss: 1.0844064774985926, Validation Loss: 0.9497425078135456\n",
      "No improvement in validation loss. Patience counter: 1/20\n"
     ]
    },
    {
     "name": "stdout",
     "output_type": "stream",
     "text": [
      "Epoch 9, Train Loss: 1.0824617979832984, Validation Loss: 0.9351602375204793\n",
      "Validation loss improved to 0.9351602375204793, resetting patience.\n"
     ]
    },
    {
     "name": "stdout",
     "output_type": "stream",
     "text": [
      "Epoch 10, Train Loss: 1.0797119476306931, Validation Loss: 0.9457254367431408\n",
      "No improvement in validation loss. Patience counter: 1/20\n"
     ]
    },
    {
     "name": "stdout",
     "output_type": "stream",
     "text": [
      "Epoch 11, Train Loss: 1.0750543160246349, Validation Loss: 0.9544090477343138\n",
      "No improvement in validation loss. Patience counter: 2/20\n"
     ]
    },
    {
     "name": "stdout",
     "output_type": "stream",
     "text": [
      "Epoch 12, Train Loss: 1.074961111241696, Validation Loss: 0.948163333278017\n",
      "No improvement in validation loss. Patience counter: 3/20\n"
     ]
    },
    {
     "name": "stdout",
     "output_type": "stream",
     "text": [
      "Epoch 13, Train Loss: 1.071862945889076, Validation Loss: 0.9496841466971461\n",
      "No improvement in validation loss. Patience counter: 4/20\n"
     ]
    },
    {
     "name": "stdout",
     "output_type": "stream",
     "text": [
      "Epoch 14, Train Loss: 1.070013812229784, Validation Loss: 0.9630421484787453\n",
      "No improvement in validation loss. Patience counter: 5/20\n"
     ]
    },
    {
     "name": "stdout",
     "output_type": "stream",
     "text": [
      "Epoch 15, Train Loss: 1.065848970140507, Validation Loss: 0.9283027061956183\n",
      "Validation loss improved to 0.9283027061956183, resetting patience.\n"
     ]
    },
    {
     "name": "stdout",
     "output_type": "stream",
     "text": [
      "Epoch 16, Train Loss: 1.0645907704996387, Validation Loss: 0.9298249371160711\n",
      "No improvement in validation loss. Patience counter: 1/20\n"
     ]
    },
    {
     "name": "stdout",
     "output_type": "stream",
     "text": [
      "Epoch 17, Train Loss: 1.0624863319017788, Validation Loss: 0.9213288559526356\n",
      "Validation loss improved to 0.9213288559526356, resetting patience.\n"
     ]
    },
    {
     "name": "stdout",
     "output_type": "stream",
     "text": [
      "Epoch 18, Train Loss: 1.06263342389354, Validation Loss: 0.9285508802699559\n",
      "No improvement in validation loss. Patience counter: 1/20\n"
     ]
    },
    {
     "name": "stdout",
     "output_type": "stream",
     "text": [
      "Epoch 19, Train Loss: 1.0598756647577472, Validation Loss: 0.9190102724859557\n",
      "Validation loss improved to 0.9190102724859557, resetting patience.\n"
     ]
    },
    {
     "name": "stdout",
     "output_type": "stream",
     "text": [
      "Epoch 20, Train Loss: 1.0589208377602313, Validation Loss: 0.9430314396238569\n",
      "No improvement in validation loss. Patience counter: 1/20\n"
     ]
    },
    {
     "name": "stdout",
     "output_type": "stream",
     "text": [
      "Epoch 21, Train Loss: 1.0583284632312966, Validation Loss: 0.9460575976952683\n",
      "No improvement in validation loss. Patience counter: 2/20\n"
     ]
    },
    {
     "name": "stdout",
     "output_type": "stream",
     "text": [
      "Epoch 22, Train Loss: 1.0604439366097544, Validation Loss: 0.9316780337222337\n",
      "No improvement in validation loss. Patience counter: 3/20\n"
     ]
    },
    {
     "name": "stdout",
     "output_type": "stream",
     "text": [
      "Epoch 23, Train Loss: 1.058355977981958, Validation Loss: 0.9353125237571407\n",
      "No improvement in validation loss. Patience counter: 4/20\n"
     ]
    },
    {
     "name": "stdout",
     "output_type": "stream",
     "text": [
      "Epoch 24, Train Loss: 1.0544561832039445, Validation Loss: 0.925200590324886\n",
      "No improvement in validation loss. Patience counter: 5/20\n"
     ]
    },
    {
     "name": "stdout",
     "output_type": "stream",
     "text": [
      "Epoch 25, Train Loss: 1.0530154666090323, Validation Loss: 0.9247091660644803\n",
      "No improvement in validation loss. Patience counter: 6/20\n"
     ]
    },
    {
     "name": "stdout",
     "output_type": "stream",
     "text": [
      "Epoch 26, Train Loss: 1.0539788381076847, Validation Loss: 0.9378253091410332\n",
      "No improvement in validation loss. Patience counter: 7/20\n"
     ]
    },
    {
     "name": "stdout",
     "output_type": "stream",
     "text": [
      "Epoch 27, Train Loss: 1.0536817942050027, Validation Loss: 0.932277043458774\n",
      "No improvement in validation loss. Patience counter: 8/20\n"
     ]
    },
    {
     "name": "stdout",
     "output_type": "stream",
     "text": [
      "Epoch 28, Train Loss: 1.0538295767146257, Validation Loss: 0.9207171050425108\n",
      "No improvement in validation loss. Patience counter: 9/20\n"
     ]
    },
    {
     "name": "stdout",
     "output_type": "stream",
     "text": [
      "Epoch 29, Train Loss: 1.0494847460639762, Validation Loss: 0.9340151245823971\n",
      "No improvement in validation loss. Patience counter: 10/20\n"
     ]
    },
    {
     "name": "stdout",
     "output_type": "stream",
     "text": [
      "Epoch 30, Train Loss: 1.0499476439163316, Validation Loss: 0.9396244741333317\n",
      "No improvement in validation loss. Patience counter: 11/20\n"
     ]
    },
    {
     "name": "stdout",
     "output_type": "stream",
     "text": [
      "Epoch 31, Train Loss: 1.0478145721041818, Validation Loss: 0.922923446609284\n",
      "No improvement in validation loss. Patience counter: 12/20\n"
     ]
    },
    {
     "name": "stdout",
     "output_type": "stream",
     "text": [
      "Epoch 32, Train Loss: 1.0481123270422286, Validation Loss: 0.9190370854992552\n",
      "No improvement in validation loss. Patience counter: 13/20\n"
     ]
    },
    {
     "name": "stdout",
     "output_type": "stream",
     "text": [
      "Epoch 33, Train Loss: 1.0478592994815643, Validation Loss: 0.9338275169963159\n",
      "No improvement in validation loss. Patience counter: 14/20\n"
     ]
    },
    {
     "name": "stdout",
     "output_type": "stream",
     "text": [
      "Epoch 34, Train Loss: 1.0477284248877714, Validation Loss: 0.9285826147510315\n",
      "No improvement in validation loss. Patience counter: 15/20\n"
     ]
    },
    {
     "name": "stdout",
     "output_type": "stream",
     "text": [
      "Epoch 35, Train Loss: 1.0499275896803746, Validation Loss: 0.9228079818226964\n",
      "No improvement in validation loss. Patience counter: 16/20\n"
     ]
    },
    {
     "name": "stdout",
     "output_type": "stream",
     "text": [
      "Epoch 36, Train Loss: 1.0478977040917266, Validation Loss: 0.9198886609924626\n",
      "No improvement in validation loss. Patience counter: 17/20\n"
     ]
    },
    {
     "name": "stdout",
     "output_type": "stream",
     "text": [
      "Epoch 37, Train Loss: 1.0495376341483171, Validation Loss: 0.9220633264725584\n",
      "No improvement in validation loss. Patience counter: 18/20\n"
     ]
    },
    {
     "name": "stdout",
     "output_type": "stream",
     "text": [
      "Epoch 38, Train Loss: 1.0473403935209078, Validation Loss: 0.9354611311467166\n",
      "No improvement in validation loss. Patience counter: 19/20\n"
     ]
    },
    {
     "name": "stdout",
     "output_type": "stream",
     "text": [
      "Epoch 39, Train Loss: 1.047408786409561, Validation Loss: 0.9198079478317106\n",
      "No improvement in validation loss. Patience counter: 20/20\n",
      "Early stopping triggered. Stopping training at epoch 39.\n",
      "Loaded best model weights based on validation loss.\n"
     ]
    }
   ],
   "source": [
    "import copy  # 用于保存模型的最佳状态\n",
    "\n",
    "# Early Stopping 参数\n",
    "patience = 20  # 如果验证损失在 10 个 epoch 中没有改善，停止训练\n",
    "min_delta = 1e-4  # 最小改善幅度\n",
    "patience_counter = 0\n",
    "best_val_loss = float('inf')  # 初始设置为正无穷大\n",
    "best_model_weights = copy.deepcopy(estim.model.state_dict())  # 保存最佳模型权重\n",
    "train_losses = []\n",
    "val_losses = []\n",
    "\n",
    "# 训练 500 个 epoch\n",
    "for epoch in range(500):\n",
    "    train_loss, val_loss = train_epoch(estim.model, optimizer, loss_fn, train_loader, val_loader)\n",
    "    print(f'Epoch {epoch+1}, Train Loss: {train_loss}, Validation Loss: {val_loss}')\n",
    "    train_losses.append(train_loss)\n",
    "    val_losses.append(val_loss)\n",
    "    \n",
    "    # Early Stopping 检查\n",
    "    if val_loss < best_val_loss - min_delta:\n",
    "        best_val_loss = val_loss  # 更新最佳验证损失\n",
    "        patience_counter = 0  # 重置 patience 计数器\n",
    "        best_model_weights = copy.deepcopy(estim.model.state_dict())  # 保存当前最佳模型\n",
    "        print(f\"Validation loss improved to {best_val_loss}, resetting patience.\")\n",
    "    else:\n",
    "        patience_counter += 1\n",
    "        print(f\"No improvement in validation loss. Patience counter: {patience_counter}/{patience}\")\n",
    "    \n",
    "    # 如果 patience_counter 超过设置的 patience，停止训练\n",
    "    if patience_counter >= patience:\n",
    "        print(f\"Early stopping triggered. Stopping training at epoch {epoch+1}.\")\n",
    "        break\n",
    "\n",
    "# 恢复到训练中性能最好的模型权重\n",
    "estim.model.load_state_dict(best_model_weights)\n",
    "print(\"Loaded best model weights based on validation loss.\")"
   ]
  },
  {
   "cell_type": "code",
   "execution_count": 12,
   "metadata": {
    "execution": {
     "iopub.execute_input": "2024-11-03T15:06:51.163144Z",
     "iopub.status.busy": "2024-11-03T15:06:51.162574Z",
     "iopub.status.idle": "2024-11-03T15:06:51.315956Z",
     "shell.execute_reply": "2024-11-03T15:06:51.314986Z"
    }
   },
   "outputs": [],
   "source": [
    "import os\n",
    "\n",
    "# 定义保存路径\n",
    "save_dir = './imputed_xenium_best_model_ckpt'\n",
    "save_path = os.path.join(save_dir, f'RM_FT_Xenium_breast_cancer_sample1_replicate1_best_model_{random_seed}.ckpt')\n",
    "\n",
    "# 如果目录不存在，则创建\n",
    "if not os.path.exists(save_dir):\n",
    "    os.makedirs(save_dir)\n",
    "\n",
    "# 保存模型\n",
    "torch.save(best_model_weights, save_path)"
   ]
  },
  {
   "cell_type": "code",
   "execution_count": 13,
   "metadata": {
    "execution": {
     "iopub.execute_input": "2024-11-03T15:06:51.318076Z",
     "iopub.status.busy": "2024-11-03T15:06:51.317743Z",
     "iopub.status.idle": "2024-11-03T15:06:52.090639Z",
     "shell.execute_reply": "2024-11-03T15:06:52.089790Z"
    }
   },
   "outputs": [
    {
     "name": "stderr",
     "output_type": "stream",
     "text": [
      "The PostScript backend does not support transparency; partially transparent artists will be rendered opaque.\n"
     ]
    },
    {
     "data": {
      "image/png": "[encoded data removed]",
      "text/plain": [
       "<Figure size 1000x600 with 1 Axes>"
      ]
     },
     "metadata": {},
     "output_type": "display_data"
    }
   ],
   "source": [
    "import matplotlib.pyplot as plt  # 导入 matplotlib.pyplot，而不是 matplotlib\n",
    "\n",
    "plt.figure(figsize=(10, 6))\n",
    "plt.plot(train_losses, label='Training Loss')\n",
    "plt.plot(val_losses, label='Validation Loss')\n",
    "plt.xlabel('Epoch')\n",
    "plt.ylabel('Loss')\n",
    "plt.title('Training and Validation Loss over Epochs')\n",
    "plt.legend()\n",
    "plt.savefig(f'../loss_curve_fig/imputed_xenium_breast_cancer_random_mask_finetune_full_loss_curve{random_seed}.png', dpi=400)  # 保存图像为png格式，400 dpi\n",
    "plt.savefig(f'../loss_curve_fig/imputed_xenium_breast_cancer_random_mask_finetune_full_loss_curve{random_seed}.eps', format='eps', dpi=400)  # 保存图像为png格式，400 dpi\n",
    "\n",
    "plt.show()"
   ]
  },
  {
   "cell_type": "code",
   "execution_count": 14,
   "metadata": {
    "execution": {
     "iopub.execute_input": "2024-11-03T15:06:52.092754Z",
     "iopub.status.busy": "2024-11-03T15:06:52.092399Z",
     "iopub.status.idle": "2024-11-03T15:06:55.273174Z",
     "shell.execute_reply": "2024-11-03T15:06:55.272190Z"
    }
   },
   "outputs": [],
   "source": [
    "# 8. 使用 KNN 替代测试阶段的 FC 分类层\n",
    "# 使用 encoder 提取训练集和测试集的 embedding\n",
    "estim.model.eval()\n",
    "with torch.no_grad():\n",
    "    train_embeddings = estim.model.encoder(torch.tensor(X_train).float().to(device)).cpu().numpy()\n",
    "    test_embeddings = estim.model.encoder(torch.tensor(X_test).float().to(device)).cpu().numpy()"
   ]
  },
  {
   "cell_type": "code",
   "execution_count": 15,
   "metadata": {
    "execution": {
     "iopub.execute_input": "2024-11-03T15:06:55.276159Z",
     "iopub.status.busy": "2024-11-03T15:06:55.275774Z",
     "iopub.status.idle": "2024-11-03T15:06:56.155638Z",
     "shell.execute_reply": "2024-11-03T15:06:56.154360Z"
    }
   },
   "outputs": [
    {
     "name": "stdout",
     "output_type": "stream",
     "text": [
      "KNN Accuracy on Test Data: 0.7019907021099059\n",
      "Weighted F1 Score: 0.6990158378820707\n",
      "Macro F1 Score: 0.5747419057665927\n",
      "Random Guess Accuracy: 0.1320247177116093\n",
      "                         precision    recall  f1-score   support\n",
      "\n",
      "                B_Cells       0.70      0.81      0.75       772\n",
      "           CD4+_T_Cells       0.48      0.56      0.52      1286\n",
      "           CD8+_T_Cells       0.52      0.54      0.53      1026\n",
      "                 DCIS_1       0.68      0.69      0.68      1937\n",
      "                 DCIS_2       0.55      0.53      0.54      1746\n",
      "            Endothelial       0.84      0.85      0.84      1348\n",
      "              IRF7+_DCs       0.83      0.81      0.82        74\n",
      "         Invasive_Tumor       0.80      0.82      0.81      5230\n",
      "             LAMP3+_DCs       0.55      0.57      0.56        49\n",
      "          Macrophages_1       0.69      0.74      0.71      1692\n",
      "          Macrophages_2       0.50      0.46      0.48       223\n",
      "             Mast_Cells       0.55      0.39      0.46        28\n",
      "          Myoepi_ACTA2+       0.72      0.74      0.73      1043\n",
      "          Myoepi_KRT15+       0.81      0.82      0.81       426\n",
      "      Perivascular-Like       0.39      0.20      0.26       125\n",
      "  Prolif_Invasive_Tumor       0.60      0.60      0.60       533\n",
      "                Stromal       0.76      0.74      0.75      6184\n",
      "Stromal_&_T_Cell_Hybrid       0.00      0.00      0.00        93\n",
      "  T_Cell_&_Tumor_Hybrid       0.22      0.09      0.13        87\n",
      "              Unlabeled       0.56      0.46      0.50      1265\n",
      "\n",
      "               accuracy                           0.70     25167\n",
      "              macro avg       0.59      0.57      0.57     25167\n",
      "           weighted avg       0.70      0.70      0.70     25167\n",
      "\n"
     ]
    },
    {
     "name": "stderr",
     "output_type": "stream",
     "text": [
      "/home/hanchuangyi/miniconda3/envs/ssl/lib/python3.10/site-packages/sklearn/metrics/_classification.py:1531: UndefinedMetricWarning: Precision is ill-defined and being set to 0.0 in labels with no predicted samples. Use `zero_division` parameter to control this behavior.\n",
      "  _warn_prf(average, modifier, f\"{metric.capitalize()} is\", len(result))\n",
      "/home/hanchuangyi/miniconda3/envs/ssl/lib/python3.10/site-packages/sklearn/metrics/_classification.py:1531: UndefinedMetricWarning: Precision is ill-defined and being set to 0.0 in labels with no predicted samples. Use `zero_division` parameter to control this behavior.\n",
      "  _warn_prf(average, modifier, f\"{metric.capitalize()} is\", len(result))\n",
      "/home/hanchuangyi/miniconda3/envs/ssl/lib/python3.10/site-packages/sklearn/metrics/_classification.py:1531: UndefinedMetricWarning: Precision is ill-defined and being set to 0.0 in labels with no predicted samples. Use `zero_division` parameter to control this behavior.\n",
      "  _warn_prf(average, modifier, f\"{metric.capitalize()} is\", len(result))\n"
     ]
    }
   ],
   "source": [
    "import pandas as pd\n",
    "from sklearn.neighbors import KNeighborsClassifier\n",
    "from sklearn.metrics import accuracy_score, f1_score, classification_report\n",
    "\n",
    "    \n",
    "\n",
    "    # 初始化和训练KNN分类器\n",
    "knn = KNeighborsClassifier(n_neighbors=5)\n",
    "knn.fit(train_embeddings, y_train)\n",
    "    \n",
    "    # 模型预测\n",
    "predictions = knn.predict(test_embeddings)\n",
    "\n",
    "    # 计算准确率和 F1 分数\n",
    "accuracy = accuracy_score(y_test, predictions)\n",
    "print(f\"KNN Accuracy on Test Data: {accuracy}\")\n",
    "f1 = f1_score(y_test, predictions, average='weighted')\n",
    "print(f\"Weighted F1 Score: {f1}\")\n",
    "    \n",
    "macro_f1 = f1_score(y_test, predictions, average='macro')\n",
    "print(f'Macro F1 Score: {macro_f1}')\n",
    "\n",
    "    # 计算随机猜测的准确率\n",
    "class_probabilities = np.bincount(y_test) / len(y_test)\n",
    "random_accuracy = np.sum(class_probabilities ** 2)\n",
    "print(f\"Random Guess Accuracy: {random_accuracy}\")\n",
    "\n",
    "    # 生成分类报告\n",
    "report = classification_report(y_test, predictions, target_names=label_encoder.classes_)\n",
    "print(report)"
   ]
  },
  {
   "cell_type": "code",
   "execution_count": 16,
   "metadata": {
    "execution": {
     "iopub.execute_input": "2024-11-03T15:06:56.157901Z",
     "iopub.status.busy": "2024-11-03T15:06:56.157570Z",
     "iopub.status.idle": "2024-11-03T15:07:19.133800Z",
     "shell.execute_reply": "2024-11-03T15:07:19.132932Z"
    }
   },
   "outputs": [],
   "source": [
    "with torch.no_grad():\n",
    "    new_data_tensor = torch.tensor(new_data).float().to(device)\n",
    "    SSL_embeddings = estim.model.encoder(new_data_tensor).detach().cpu().numpy()\n",
    "new_adata = sc.read_h5ad(data_dir)\n",
    "new_adata.obsm[f'SSL_RM_FT_{random_seed}'] = SSL_embeddings\n",
    "new_adata.uns[f'RM_FT_y_test_{random_seed}'] = y_test\n",
    "new_adata.uns[f'RM_FT_predictions_{random_seed}'] = predictions\n",
    "new_adata.uns[f'RM_FT_target_names_{random_seed}'] = label_encoder.classes_\n",
    "new_adata.uns[f'RM_FT_train_loss_{random_seed}'] = train_losses\n",
    "new_adata.uns[f'RM_FT_val_loss_{random_seed}'] = val_losses\n",
    "new_adata.write_h5ad(data_dir)"
   ]
  },
  {
   "cell_type": "code",
   "execution_count": 17,
   "metadata": {
    "execution": {
     "iopub.execute_input": "2024-11-03T15:07:19.136589Z",
     "iopub.status.busy": "2024-11-03T15:07:19.136255Z",
     "iopub.status.idle": "2024-11-03T15:07:19.151047Z",
     "shell.execute_reply": "2024-11-03T15:07:19.150154Z"
    }
   },
   "outputs": [
    {
     "name": "stdout",
     "output_type": "stream",
     "text": [
      "Metrics Summary:\n",
      "init_train_loss\tinit_val_loss\tconverged_epoch\tconverged_val_loss\tmacro_f1\tweighted_f1\tmicor_f1\n",
      "1.332\t1.028\t19\t0.919\t0.575\t0.699\t0.702\n"
     ]
    }
   ],
   "source": [
    "\n",
    "import pandas as pd\n",
    "import os\n",
    "import re\n",
    "\n",
    "# 当前 Notebook 文件名\n",
    "notebook_name = \"imputed_Xenium_breast_cancer_sample1_replicate1_random_mask_fine_tune_42.ipynb\"\n",
    "\n",
    "# 初始化需要打印的值\n",
    "init_train_loss = train_losses[0] if 'train_losses' in globals() else None\n",
    "init_val_loss = val_losses[0] if 'val_losses' in globals() else None\n",
    "converged_epoch = len(train_losses) - patience if 'train_losses' in globals() else None\n",
    "converged_val_loss = best_val_loss if 'best_val_loss' in globals() else None\n",
    "\n",
    "# 打印所有所需的指标\n",
    "print(\"Metrics Summary:\")\n",
    "if 'train_losses' in globals():\n",
    "    print(f\"init_train_loss\\tinit_val_loss\\tconverged_epoch\\tconverged_val_loss\\tmacro_f1\\tweighted_f1\\tmicor_f1\")\n",
    "    print(f\"{init_train_loss:.3f}\\t{init_val_loss:.3f}\\t{converged_epoch}\\t{converged_val_loss:.3f}\\t{macro_f1:.3f}\\t{f1:.3f}\\t{accuracy:.3f}\")\n",
    "else:\n",
    "    print(f\"macro_f1\\tweighted_f1\\tmicor_f1\")\n",
    "    print(f\"{macro_f1:.3f}\\t{f1:.3f}\\t{accuracy:.3f}\")\n",
    "\n",
    "# 保存结果到 CSV 文件\n",
    "output_data = {\n",
    "    'dataset_split_random_seed': [int(random_seed)],\n",
    "    'dataset': ['imputed_xenium_breast_cancer_sample1_replicate1'],\n",
    "    'method': [re.search(r'replicate1_(.*?)_\\d+', notebook_name).group(1)],\n",
    "    'init_train_loss': [init_train_loss if init_train_loss is not None else ''],\n",
    "    'init_val_loss': [init_val_loss if init_val_loss is not None else ''],\n",
    "    'converged_epoch': [converged_epoch if converged_epoch is not None else ''],\n",
    "    'converged_val_loss': [converged_val_loss if converged_val_loss is not None else ''],\n",
    "    'macro_f1': [macro_f1],\n",
    "    'weighted_f1': [f1],\n",
    "    'micor_f1': [accuracy]\n",
    "}\n",
    "output_df = pd.DataFrame(output_data)\n",
    "\n",
    "# 保存到当前目录下名为 results 的文件夹中\n",
    "if not os.path.exists('results'):\n",
    "    os.makedirs('results')\n",
    "\n",
    "csv_filename = f\"results/{os.path.splitext(notebook_name)[0]}_results.csv\"\n",
    "output_df.to_csv(csv_filename, index=False)\n"
   ]
  }
 ],
 "metadata": {
  "kernelspec": {
   "display_name": "ssl",
   "language": "python",
   "name": "python3"
  },
  "language_info": {
   "codemirror_mode": {
    "name": "ipython",
    "version": 3
   },
   "file_extension": ".py",
   "mimetype": "text/x-python",
   "name": "python",
   "nbconvert_exporter": "python",
   "pygments_lexer": "ipython3",
   "version": "3.10.13"
  }
 },
 "nbformat": 4,
 "nbformat_minor": 2
}
