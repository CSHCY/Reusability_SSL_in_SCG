{
 "cells": [
  {
   "cell_type": "code",
   "execution_count": 1,
   "metadata": {
    "execution": {
     "iopub.execute_input": "2024-11-03T15:26:23.545240Z",
     "iopub.status.busy": "2024-11-03T15:26:23.545052Z",
     "iopub.status.idle": "2024-11-03T15:26:46.940395Z",
     "shell.execute_reply": "2024-11-03T15:26:46.939527Z"
    }
   },
   "outputs": [
    {
     "name": "stderr",
     "output_type": "stream",
     "text": [
      "/home/hanchuangyi/miniconda3/envs/ssl/lib/python3.10/site-packages/merlin/dtypes/mappings/tf.py:52: UserWarning: Tensorflow dtype mappings did not load successfully due to an error: No module named 'tensorflow'\n",
      "  warn(f\"Tensorflow dtype mappings did not load successfully due to an error: {exc.msg}\")\n",
      "/home/hanchuangyi/miniconda3/envs/ssl/lib/python3.10/site-packages/merlin/dtypes/mappings/triton.py:53: UserWarning: Triton dtype mappings did not load successfully due to an error: No module named 'tritonclient'\n",
      "  warn(f\"Triton dtype mappings did not load successfully due to an error: {exc.msg}\")\n"
     ]
    }
   ],
   "source": [
    "import scanpy as sc\n",
    "import torch\n",
    "import lightning.pytorch as pl\n",
    "from torch import nn\n",
    "from torch.optim import AdamW\n",
    "from self_supervision.models.lightning_modules.cellnet_autoencoder import MLPAutoEncoder\n",
    "from self_supervision.estimator.cellnet import EstimatorAutoEncoder\n",
    "from sklearn.model_selection import train_test_split\n",
    "from sklearn.preprocessing import LabelEncoder\n",
    "from sklearn.metrics import accuracy_score, f1_score, classification_report\n",
    "import numpy as np\n",
    "import pandas as pd\n",
    "\n",
    "# 1. 加载数据集\n",
    "data_dir = '../../dataset/ad_ge_imputed_Xenium_breast_cancer_sample1_replicate1.h5ad'\n",
    "adata = sc.read_h5ad(data_dir)\n",
    "\n",
    "\n",
    "#data preprocessing\n",
    "sc.pp.normalize_total(adata)\n",
    "sc.pp.log1p(adata)\n",
    "\n",
    "\n",
    "# 2. 设置 checkpoint 路径\n",
    "ckpt_path = \"../../sc_pretrained/Pretrained Models/GPMask.ckpt\"\n",
    "\n",
    "# 3. 模型参数\n",
    "units_encoder = [512, 512, 256, 256, 64]\n",
    "units_decoder = [256, 256, 512, 512]\n",
    "\n",
    "# 初始化 EstimatorAutoEncoder 实例\n",
    "estim = EstimatorAutoEncoder(data_path=None)  # 没有实际数据路径，可以设置为None\n",
    "\n",
    "# 4. 加载预训练模型\n",
    "estim.model = MLPAutoEncoder.load_from_checkpoint(\n",
    "    ckpt_path,\n",
    "    gene_dim=19331,  # 根据你的数据调整\n",
    "    batch_size=128,  # 根据你的需要调整\n",
    "    units_encoder=units_encoder, \n",
    "    units_decoder=units_decoder,\n",
    "    masking_strategy=\"random\",  # 假设模型使用了随机掩码\n",
    "    masking_rate=0.5,  # 根据需要调整\n",
    ")"
   ]
  },
  {
   "cell_type": "code",
   "execution_count": 2,
   "metadata": {
    "execution": {
     "iopub.execute_input": "2024-11-03T15:26:46.944100Z",
     "iopub.status.busy": "2024-11-03T15:26:46.943100Z",
     "iopub.status.idle": "2024-11-03T15:26:46.952526Z",
     "shell.execute_reply": "2024-11-03T15:26:46.951852Z"
    }
   },
   "outputs": [
    {
     "data": {
      "text/plain": [
       "20"
      ]
     },
     "execution_count": 2,
     "metadata": {},
     "output_type": "execute_result"
    }
   ],
   "source": [
    "# 添加分类层 (FC)\n",
    "n_classes = len(adata.obs['cell_type'].unique())\n",
    "estim.model.fc = nn.Linear(units_encoder[-1], n_classes)\n",
    "n_classes"
   ]
  },
  {
   "cell_type": "code",
   "execution_count": 3,
   "metadata": {
    "execution": {
     "iopub.execute_input": "2024-11-03T15:26:46.954663Z",
     "iopub.status.busy": "2024-11-03T15:26:46.954201Z",
     "iopub.status.idle": "2024-11-03T15:26:46.980843Z",
     "shell.execute_reply": "2024-11-03T15:26:46.979982Z"
    }
   },
   "outputs": [],
   "source": [
    "var_df = pd.read_parquet('../../sc_pretrained/var.parquet')\n",
    "all_genes = var_df['feature_name'].tolist()\n",
    "\n",
    "new_data = np.zeros((adata.X.shape[0], len(all_genes)), dtype=np.float32)\n",
    "\n",
    "adata.var['gene_name']=adata.var.index\n",
    "existing_genes = adata.var['gene_name']"
   ]
  },
  {
   "cell_type": "code",
   "execution_count": 4,
   "metadata": {
    "execution": {
     "iopub.execute_input": "2024-11-03T15:26:46.982863Z",
     "iopub.status.busy": "2024-11-03T15:26:46.982567Z",
     "iopub.status.idle": "2024-11-03T15:26:47.006982Z",
     "shell.execute_reply": "2024-11-03T15:26:47.006220Z"
    }
   },
   "outputs": [
    {
     "name": "stdout",
     "output_type": "stream",
     "text": [
      "匹配的基因数量: 17392\n",
      "匹配的基因列表: {'tnfrsf9', 'maff', 'sh2d4b', 'snrnp35', 'or14a16', 'tspan10', 'tll1', 'fchsd2', 'mitd1', 'daam1', 'prkd3', 'mmp15', 'arfip1', 'abcd3', 'prkab1', 'tac3', 'kif24', 'ptges2', 'myo1d', 'gtf2h5', 'gcat', 'tmpo', 'crym', 'il20rb', 'acly', 'oprl1', 'tnk1', 'cdh4', 'gprin1', 'sh2d4a', 'cdrt4', 'mien1', 'klhl20', 'cnfn', 'gnai3', 'stag1', 'fgl1', 'adgrf1', 'plpp2', 'sap30bp', 'atg2a', 'ufsp2', 'ccl19', 'jade3', 'mc1r', 'irs4', 'psmb2', 'azi2', 'hsh2d', 'cdca7l', 'prdx3', 'krt77', 'cdk2', 'edc3', 'ervk3-1', 'sbspon', 'dr1', 'or1l8', 'bud13', 'fank1', 'ddx39a', 'mettl7a', 'reln', 'acat1', 'tbc1d30', 'ppp1r37', 'rasgef1a', 'abca12', 'tnfsf4', 'rap1a', 'lrrk2', 'hspb3', 'slc35f1', 'sltm', 'c17orf75', 'clec2d', 'fam102b', 'trat1', 'igf1r', 'chpt1', 'acbd3', 'rnase7', 'ston2', 'ccdc8', 'casp6', 'sh3bp5l', 'krt13', 'cacna1s', 'stx6', 'znf10', 'tspan5', 'taf7l', 'rnf32', 'cyba', 'emc2', 'ciao2a', 'pilra', 'slc27a5', 'ptprf', 'or2t12', 'dop1b', 'prr12', 'fuom', 'gria2', 'vat1', 'slurp2', 'wwtr1', 'ccdc157', 'rock2', 'b4galt5', 'cir1', 'vim', 'trim14', 'krt37', 'gldc', 'klrb1', 'heatr4', 'bzw1', 'gas7', 'calcoco2', 'znf66', 'serpina6', 'xpnpep3', 'c13orf42', 'grk7', 'aven', 'cd3d', 'mt1f', 'tanc1', 'defa5', 'nudt2', 'isy1', 'tmem8b', 'zfr2', 'tat', 'fcrla', 'etv5', 'ints13', 'znf431', 'zc4h2', 'tas2r8', 'gon4l', 'hs3st1', 'cnot1', 'diaph1', 'mtmr3', 'ccdc115', 'catsperd', 'coq8b', 'mrfap1', 'dntt', 'xaf1', 'zfp82', 'abcb7', 'cptp', 'gabrb2', 'zbtb18', 'fam124a', 'astl', 'col5a2', 'ifi27l1', 'hmg20b', 'map7d2', 'krt36', 'rbbp8nl', 's1pr3', 'znf75a', 'ccdc28b', 'dync1i2', 'tnpo3', 'psma7', 'vash2', 'suclg2', 'skil', 'or2a14', 'rab3il1', 'srsf10', 'trim62', 'dlgap3', 'bicd2', 'wdsub1', 'otud1', 'slc46a2', 'phldb1', 'slc11a2', 'prmt6', 'plaat3', 'prkd1', 'anks6', 'hyal3', 'dpysl3', 'ccdc85a', 'npat', 'fhit', 'thbs3', 'mthfd1l', 'gemin2', 'septin3', 'msrb2', 'pde4b', 'slc27a6', 'ttll10', 'casq1', 'smad5', 'cd164l2', 'sh3d21', 's100a8', 'nr1h2', 'ubqln1', 'pld1', 'cnnm1', 'nckap5l', 'mob4', 'cacnb3', 'gsx2', 'cxcr2', 'nostrin', 'mkrn2os', 'wasl', 'atxn10', 'akna', 'il1rl2', 'zmynd15', 'pigs', 'hadha', 'hoxd10', 'mamld1', 'zdhhc15', 'c15orf65', 'pou3f2', 'palmd', 'aspdh', 'sfrp1', 'bend6', 'cdh23', 'prpf38b', 'brpf1', 'spred2', 'tbx18', 'or8b2', 'rgs18', 'auts2', 'rd3', 'arid2', 'ppp2ca', 'vezt', 'hoxd11', 'tmem26', 'wdr73', 'sdr42e1', 'arsb', 'nup88', 'ndufaf7', 'zcchc17', 'nipbl', 'mbtps2', 'fetub', 'dab2ip', 'wfikkn2', 'zranb3', 'cfap161', 'nipsnap3b', 'pde4d', 'mettl6', 'or2f2', 'igfn1', 'uts2', 'faxc', 'vwa8', 'smc1b', 'szt2', 'ptgdr2', 'best4', 'tmed9', 'znf394', 'cdan1', 'dpf2', 'akirin1', 'c1orf115', 'apoe', 'bmp5', 'cd69', 'pyy', 'fam210a', 'nudt11', 'b3gnt8', 'oxct2', 'kdm7a', 'or6y1', 'dse', 'sec14l1', 'nkx2-6', 'ift172', 'nfatc2', 'kin', 'lrrfip1', 'jkamp', 'dmbx1', 'cyp4f12', 'dguok', 'afg3l2', 'prg2', 'zfand3', 'serpinb11', 'eif2ak3', 'cdc42se2', 'gpatch2l', 'gspt2', 'wdr11', 'btbd19', 'cisd2', 'rgr', 'cd99', 'cd82', 'ankrd7', 'pnrc1', 'zdhhc3', 'ampd3', 'dthd1', 'psg9', 'fgb', 'zmiz2', 'mdh1b', 'dennd3', 'pdcd11', 'calhm2', 'cchcr1', 'ins', 'dnttip2', 'irf9', 'myo15b', 'rab3c', 'ctsg', 'fam217b', 'hp', 'vhl', 'vwa5b1', 'lct', 'znf300', 'tomm6', 'cldn23', 'usp38', 'slc39a11', 'tnxb', 'slc2a13', 'kdm3a', 'tceal6', 'scgb1a1', 'bdh1', 'satb2', 'cdkn2aip', 'slc18b1', 'crhr2', 'agr2', 'dhx40', 'neurl1', 'tmem53', 'fmo2', 'prr11', 'nudt12', 'znf680', 'caps2', 'pde5a', 'art4', 'slc6a1', 'slc36a3', 'slc4a10', 'ptprg', 'ttc8', 'col4a6', 'csrp1', 'hivep3', 'slc52a3', 'cnpy3', 'rpap1', 'tmc7', 'or10r2', 'gfm1', 'rundc1', 'a4gnt', 'cct6b', 'gpr78', 'htr5a', 'gnmt', 'gsk3b', 'ankrd11', 'trpv4', 'edem1', 'gadd45gip1', 'tmed7', 'hfm1', 'scara5', 'e2f8', 'lpar2', 'ccdc191', 'cyp27b1', 'brwd3', 'htt', 'kat6b', 'cr1', 'thrap3', 'sox14', 'clstn2', 'mapk9', 'sohlh2', 'nptxr', 'ngf', 'eogt', 'lrrc24', 'ccdc167', 'anxa11', 'ntf3', 'cnpy2', 'lekr1', 'arnt2', 'fam124b', 'gp9', 'stim2', 'cog6', 'page1', 'zdhhc24', 'efcab12', 'ubfd1', 'tcim', 'exoc6', 'adrb2', 'c16orf74', 'plekhh2', 'gatad1', 'prph2', 'cnga3', 'arhgef38', 'prpf39', 'lrrc4', 'smtnl2', 'trim56', 'kcnip1', 'cd163l1', 'sdr9c7', 'bora', 'znf226', 'or2ae1', 'tgfb2', 'bdh2', 'apoa5', 'rbpms', 'phlda3', 'nexmif', 'adamts14', 'pla1a', 'c4orf51', 'c6orf141', 'ncr3lg1', 'ctif', 'olfml2a', 'aqp5', 'zgpat', 'hsp90aa1', 'oprk1', 'avp', 'fstl3', 'nbl1', 'grin3b', 'cfap61', 'apmap', 'gab3', 'filip1l', 'srf', 'rnd3', 'spint1', 'eya1', 'znf669', 'mettl24', 'pim1', 'kank4', 'rabggta', 'wif1', 'slc27a2', 'dgcr2', 'znf718', 'igfals', 'pitpna', 'map7d3', 'cryz', 'ints11', 'vcan', 'mutyh', 'wnt5a', 'lnpep', 'stx11', 'znf268', 'pheta2', 'znf174', 'spon1', 'inpp5e', 'crisp2', 'stk25', 'tmsb15a', 'rrp1b', 'meioc', 'nagpa', 'ppp5c', 'napb', 'znf594', 'fam241a', 'slf1', 'hdlbp', 'fam118a', 'b3galt5', 'smyd4', 'trim2', 'pmpca', 'or10a4', 'samd4b', 'cd28', 'hspa8', 'aarsd1', 'cox6b1', 'rc3h1', 'hoxc12', 'irf2bpl', 'nefh', 'or2l5', 'ct83', 'diaph2', 'stard3nl', 'lgalsl', 'heatr5a', 'fam227b', 'mbd1', 'poc1a', 'c3orf85', 'yjefn3', 'arhgap29', 'socs5', 'klf18', 'slc6a11', 'polr3gl', 'mfap2', 'tp63', 'xkr8', 'dek', 'polr2c', 'rnf167', 'cenps', 'lypd3', 'pcbp2', 'lactb', 'tbc1d10c', 'specc1', 'zfp90', 'aldh1a3', 'cadm4', 'vamp3', 'znf507', 'e2f5', 'ago4', 'iqce', 'asb8', 'psma2', 'twf1', 'foxg1', 'eps8l2', 'slc25a36', 'rchy1', 'ccnf', 'slc37a1', 'cbfa2t2', 'c8orf58', 'thoc6', 'arhgap39', 'kcnma1', 'pds5b', 'or4d5', 'pm20d1', 'ctnna1', 'nt5dc3', 'mybphl', 'efemp2', 'fxn', 'scn5a', 'hmgcs1', 'gpr18', 'ugt1a1', 'peli2', 'acaca', 'tcf24', 'adat1', 'ovol2', 'foxf1', 'kdm3b', 'zbed6cl', 'nf2', 'ptges3', 'esrp2', 'mex3a', 'or2t10', 'cfap221', 'maea', 'ints6l', 'c11orf86', 'vpreb1', 'kcnh5', 'serpina11', 'or2t11', 'rsph4a', 'rsph3', 'igfbp2', 'grk5', 'nip7', 'syt3', 'retnlb', 'ccdc124', 'bmpr1a', 'sh3rf1', 'chat', 'gask1a', 'tle5', 'c20orf141', 'elf4', 'wnt8a', 'plcb4', 'znf107', 'zbtb16', 'relb', 'ndfip2', 'slc2a10', 'mapk11', 'mogat1', 'slc66a1', 'zp4', 'panx2', 'myoz3', 'pcdhgb7', 'lmntd1', 'f8', 'cdc73', 'uba5', 'gnb1', 'ddx59', 'tmem201', 'vpreb3', 'mavs', 'lzts1', 'mt-co2', 'or8g5', 'anxa13', 'tmem59', 'orai2', 'htr2a', 'zmym3', 'ccdc198', 'tas2r14', 'cebpzos', 'rgs6', 'fry', 'scrt1', 'tarbp1', 'slc38a6', 'ndc1', 'meis2', 'tbx4', 'slc52a2', 'slc37a4', 'myl12a', 'cacng7', 'cfi', 'cdh11', 'znf837', 'cipc', 'znf541', 'zc3h6', 'cap2', 'c11orf54', 'usp21', 'shfl', 'prrt1b', 'or2g3', 'arhgef15', 'nat8', 'il37', 'uba7', 'gabrq', 'nol3', 'ltbp3', 'isg20', 'or10ad1', 'grifin', 'sf3b5', 'akap13', 'smad6', 'wdr86', 'dennd1b', 'dcaf8', 'nipsnap2', 'pomc', 'dnajc2', 'recql4', 'ftl', 'apol2', 'akap5', 'cers4', 'dcp1a', 'calml6', 'rims1', 'gcnt1', 'cfap36', 'thyn1', 'mtm1', 'lrrc59', 'fbxo43', 'slc22a24', 'abhd2', 'foxl1', 'tinag', 'rhd', 'asb10', 'prrx1', 'pde6b', 'gba2', 'snta1', 'ascc1', 'med13l', 'znf285', 'pou1f1', 'usp28', 'cldn19', 'mid1', 'csnk1e', 'tex13c', 'ogg1', 'mob1b', 'rnf8', 'kcns2', 'tubgcp3', 'pom121c', 'sod1', 'mboat1', 'kiaa0100', 'vsig10l', 'slc23a1', 'spz1', 'tead3', 'il17a', 'polr1a', 'msmo1', 'uqcrh', 'tcte1', 'grsf1', 'echdc3', 'smyd3', 'bcl9l', 'selenow', 'zranb2', 'lrrc56', 'ada', 'ticrr', 'smim1', 'tcf7', 'ssbp2', 'mmp12', 'tas2r38', 'serf2', 'ddx1', 'ctnna2', 'carmil1', 'calhm1', 'map1lc3b', 'arl5c', 'mrgprd', 'mmut', 'ascc2', 'zfp41', 'ebna1bp2', 'txnrd3', 'jmy', 'xkr6', 'phc1', 'ppp1cc', 'rbm47', 'rad51', 'pola1', 'mcfd2', 'eps8l3', 'hjurp', 'nqo2', 'slc25a16', 'ttll8', 'antxrl', 'or2ag1', 's1pr4', 'tab1', 'znf683', 'znf587', 'hoxa9', 'adgrd1', 'ereg', 'slc2a9', 'padi3', 'pla2g2e', 'adamtsl4', 'ogfrl1', 'rcc1l', 'mtmr4', 'nphp4', 'csn2', 'trdn', 'copg2', 'mta2', 'cmtm5', 'pld3', 'rras', 'znf556', 'soga3', 'nedd4l', 'slc36a1', 'ifi6', 'hspb11', 'fstl4', 'pou4f3', 'sqstm1', 'tmprss6', 'tox', 'spag8', 'fgfbp3', 'acsl5', 'ap1g2', 'tpcn1', 'cyp4z1', 'krtap19-5', 'kcnb2', 'fam186a', 'sned1', 'coa3', 'b3galt1', 'ltf', 'tspan31', 'echdc1', 'csf3', 'tars2', 'mei4', 'ly6e', 'zscan32', 'cdh3', 'tent5c', 'slc43a3', 'nlrp6', 'c9orf43', 'ppil1', 'ca1', 'b3gnt6', 'nanognb', 'smim7', 'hira', 'unc5cl', 'ppm1l', 'amigo1', 'sbf2', 'rprml', 'casp4', 'prdm9', 'tbc1d3e', 's100a12', 'lipk', 'samd13', 'gdf2', 'heatr5b', 'ndufb4', 'slc28a3', 'madcam1', 'zcwpw2', 'rhoc', 'prdm5', 'slc44a4', 'dclk2', 'kidins220', 'sergef', 'or52r1', 'myf6', 'nup155', 'bcat2', 'wdr49', 'znf134', 'tp53inp2', 'cox7b', 'prnd', 'or4n5', 'c1qc', 'cps1', 'smyd5', 'rufy3', 'slc13a2', 'ly6g6c', 'islr2', 'cacng5', 'gtsf1', 'borcs8', 'phb', 'rtp2', 'znf664', 'p2rx7', 's100z', 'man1a1', 'cacna1b', 'nelfcd', 'angptl3', 'sertm2', 'pex2', 'c6orf226', 'sgpl1', 'slc25a52', 'tnni3', 'slc44a5', 'tbx19', 'zfpl1', 'tcaf1', 'hsph1', 'hmgn1', 'slc25a37', 'commd7', 'zbed4', 'kiaa2026', 'gtpbp4', 'exoc7', 'pik3r5', 'slc35c1', 'sv2b', 'mogs', 'med28', 'igsf9', 'zswim9', 'pip4k2c', 'cntn6', 'brf1', 'smpdl3b', 'scn10a', 'ints1', 'kiaa0319', 'znf346', 'cfap206', 'tmem88b', 'prkacb', 'mettl27', 'rad54l', 'abhd12b', 'blnk', 'prss27', 'cables2', 'stab1', 'zbed5', 'samd7', 'enpp3', 'tfb2m', 'bbs9', 'ppip5k1', 'zic5', 'tiam2', 'kcng1', 'wnt1', 'tmem131', 'nkx1-1', 'anks1a', 'fbrsl1', 'ccdc200', 'chst8', 'dnajc12', 'tpst2', 'mmachc', 'krtap20-3', 'trim15', 'rbm14', 'lama4', 'limk1', 'zbtb7c', 'lactb2', 'dnajc11', 'washc3', 'hmgcl', 'syde2', 'nop10', 'eif2s1', 'susd6', 'capn9', 'parp10', 'olig3', 'foxc1', 'bdp1', 'cep78', 'lrrc6', 'rassf3', 'tnfsf13', 'krit1', 'cd22', 'sipa1l3', 'cwc15', 'spock2', 'cenpl', 'scly', 'derl3', 'mageb10', 'rfc5', 'lamp5', 'arf6', 'mybbp1a', 'camk2a', 'nr2c2ap', 'celsr1', 'rttn', 'disp1', 'aplp2', 'pcsk6', 'arsk', 'muc1', 'msra', 'nop58', 'trafd1', 'ranbp10', 'pcdhb6', 'cldn3', 'bhmt2', 'znf675', 'col24a1', 'gnal', 'eef1aknmt', 'rnf141', 'klk15', 'hnrnpc', 'c6orf132', 'matn3', 'znf367', 'dao', 'pafah1b3', 'snrpd2', 'znf658', 'plbd1', 'cd38', 'cyyr1', 'bche', 'gyg1', 'c22orf39', 'spink8', 'eloc', 'tbc1d20', 'slc5a5', 'slc7a9', 'rab42', 'snx7', 'spdye1', 'insrr', 'g3bp2', 'ddb2', 'efcab6', 'c2orf72', 'fam189a2', 'kcne3', 'polr2e', 'psenen', 'nme8', 'mob1a', 'dkk2', 'bard1', 'atrip', 'or52e5', 'lvrn', 'c19orf54', 'heatr3', 'kcnj11', 'plekhg4', 'slc12a2', 'cdsn', 'shank2', 'tmem260', 'fam53a', 'rilp', 'magt1', 'cast', 'nfatc4', 'lefty2', 'il1r2', 'ncor2', 'mex3d', 'stambpl1', 'taok2', 'onecut3', 'fpr2', 'tsen2', 'fblim1', 'lsm14a', 'bex3', 'napepld', 'tmem211', 'rspo3', 'ssbp1', 'dock5', 'fmnl2', 'eif4ebp1', 'znf706', 'ttll2', 'edc4', 'krtap3-2', 'sfswap', 'dennd1a', 'nuf2', 'trpc4ap', 'cd1d', 'tmsb4y', 'cep131', 'spem1', 'clasp2', 'prcc', 'tmem217', 'tsga13', 'eno3', 'znf557', 'ccdc69', 'mfn1', 'tnfsf10', 'or52n2', 'insm1', 'ttll3', 'fut4', 'znf554', 'l3mbtl1', 'cxcl14', 'arfgap2', 'mospd1', 'tmco1', 'ppp6c', 'scaper', 'defb114', 'a4galt', 'mlip', 'tigd6', 'mapkapk5', 'znf14', 'hpse', 'artn', 'gaa', 'terb1', 'anxa6', 'oprm1', 'xrcc3', 'oma1', 'cfap58', 'ndufa7', 'cycs', 'znf808', 'gpr132', 'adap1', 'rhbdd2', 'jsrp1', 'anxa10', 'whrn', 'pcdhb3', 'tle2', 'loxl3', 'tm9sf3', 'wfdc8', 'hpd', 'thap11', 'ptger2', 'cdpf1', 'cbln3', 'arpc4', 'fbxo47', 'commd6', 'ppp1r36', 'sult2a1', 'melk', 'fitm1', 'hmgcr', 'dut', 'inip', 'ahnak2', 'c19orf81', 'fam3c', 'wfdc10b', 'fbn1', 'aloxe3', 'lats2', 'slc13a4', 'ppp1r10', 'or52a5', 'or2l2', 'gar1', 'mt1g', 'clca1', 'gstcd', 'letmd1', 'fga', 'aldh7a1', 'spata46', 'or7g1', 'syn3', 'zfyve19', 'ttc6', 'dpysl4', 'lrp4', 'btg4', 'atp6ap2', 'amer2', 'snx9', 'nodal', 'sostdc1', 'erg', 'cd34', 'zpld1', 'dip2b', 'ankrd13d', 'ppp2r5e', 'perm1', 'spats1', 'or52n5', 'cfdp1', 'cln3', 'cmtm3', 'tmigd1', 'dhodh', 'slc38a1', 'large1', 'slc46a3', 'plppr1', 'gabrr1', 'guk1', 'triobp', 'enosf1', 'cd19', 'rasd1', 'smim22', 'nlgn4x', 'dnah10', 'zbtb37', 'ugt1a4', 'znf407', 'iqcj', 'pafah1b1', 'slc9a9', 'laptm4a', 'arap1', 'znf605', 'mis18bp1', 'gnptab', 'chrd', 'gtpbp2', 'tp53rk', 'eln', 'golga5', 'inpp5a', 'trmt10c', 'ubr3', 'srgap1', 'nrcam', 'hmgxb4', 'fgf18', 'znf878', 'mphosph10', 'klhdc7a', 'ctcf', 'pcm1', 'dnm2', 'nsmce2', 'dspp', 'siah1', 'decr1', 'dnaja2', 'lims2', 'bak1', 'znf483', 'rnpepl1', 'stat4', 'col17a1', 'hydin', 'tnfsf18', 'nucb2', 'ttc16', 'shld1', 'casz1', 'rpel1', 'rhbdf1', 'slc16a3', 'brd9', 'rara', 'fbxl12', 'apeh', 'ccdc116', 'lpo', 'asic1', 'plp1', 'dnajb5', 'dydc1', 'erp29', 'c12orf75', 'pigo', 'mib1', 'txnl1', 'ppib', 'gltp', 'mylpf', 'dusp13', 'carf', 'hpse2', 'col22a1', 'dlg4', 'kpnb1', 'znrd2', 'plekhb1', 'icam5', 'cars2', 'dennd4b', 'serpinh1', 'plpbp', 'hsd17b1', 'il5', 'cdc123', 'ccnjl', 'sucnr1', 'padi1', 'znf441', 'prex1', 'serpinb8', 'cpxcr1', 'pibf1', 'ung', 'tac1', 'med31', 'uba3', 'cmpk1', 'fbxo32', 'ascl2', 'erich5', 'usp33', 'bfsp1', 'pla2g4d', 'timm9', 'klk6', 'plch2', 'slamf7', 'fam204a', 'tmem88', 'kansl1', 'ddx6', 'utp15', 'sash1', 'or1n1', 'efnb1', 'xrn1', 'asb14', 'csnk1g2', 'nfic', 'tcf20', 'cdkl4', 'hykk', 'en1', 'coil', 'wdr82', 'zranb1', 'trap1', 'tlr8', 'armh3', 'sgms2', 'rnase13', 'il19', 'ccser1', 'kif18a', 'yars2', 'adra2b', 'dnase1l2', 'cfl1', 'bok', 'znf518b', 'sh3tc2', 'appbp2', 'txnrd1', 'dnph1', 'mtif2', 'rabif', 'scart1', 'sall3', 'nsf', 'arhgap23', 'bmt2', 'ccnd1', 'fam47e', 'eif4e3', 'tex12', 'prkacg', 'or2c3', 'dppa2', 'irx5', 'inpp5k', 'cd1a', 'nt5m', 'cd7', 'adgrb2', 'mreg', 'eif5', 'fbxo28', 'or2g2', 'prkce', 'dynlt1', 'ubr5', 'slc25a15', 'pih1d1', 'samsn1', 'slc9a8', 'fgf3', 'parl', 'cela2b', 'sult1c2', 'naxd', 'ccr8', 'acad10', 'vdr', 'paqr4', 'stk17b', 'tmc5', 'dcaf13', 'mtrf1l', 'pard3', 'smc3', 'gucy1a1', 'ifit5', 'hs2st1', 'spg21', 'igsf6', 'ambra1', 'nsd3', 'slc7a6', 'gsx1', 'pdzd7', 'bambi', 'wwc2', 'uspl1', 'c1rl', 'cstf2', 'arl6', 'wdr92', 'trim39', 'zfp91', 'scyl1', 'fubp1', 'cd2bp2', 'cdh22', 'chrm2', 'ptcd2', 'ctsa', 'usp39', 'rsrc1', 'cubn', 'ehmt1', 'cdk19', 'krtap13-3', 'kpna5', 'tpd52l1', 'creld2', 'qtrt2', 'os9', 'tm4sf5', 'emc7', 'notch2', 'dlx4', 'rnf125', 'ifnl2', 'fzd3', 'fnip1', 'eif5a2', 'lmln2', 'r3hdml', 'krt73', 'nme4', 'fnbp4', 'b3gat2', 'tmx3', 'nav1', 'wdr3', 'tssk4', 'pgam1', 'or13d1', 'tymp', 'sdc3', 'fgd5', 'znf738', 'swt1', 'rnf214', 'unc119b', 'fgf21', 'per2', 'adam7', 'kcnmb1', 'ctsb', 'c9orf16', 'ncbp2l', 'hgf', 'pex14', 'cenpk', 'gcc2', 'adamts16', 'cxorf65', 'exd3', 'pgam5', 'cyp1b1', 'ldhd', 'ube2e1', 'tppp', 'fbxw4', 'ptpn22', 'pdcl2', 'znf34', 'fam78b', 'gnptg', 'tmem215', 'slc25a45', 'scmh1', 'col1a1', 'angptl2', 'ikzf4', 'myh11', 'pbx4', 'znf593', 'kremen1', 'phf1', 'gja8', 'spata4', 'trmt5', 'smarca1', 'stim1', 'cacna1c', 'tpmt', 'dok1', 'crcp', 'cckbr', 'entpd5', 'b4galnt2', 'hexa', 'gage1', 'ahdc1', 'tmem35b', 'chad', 'ssx5', 'gfi1b', 'asah1', 'fabp2', 'synpo2l', 'samhd1', 'tapt1', 'arfip2', 'lyrm4', 'strn4', 'adtrp', 'pdcd10', 'pcnx2', 'gal3st3', 'tcp11l2', 'prop1', 'znf660', 'rap1gap', 'gcnt3', 'tmem108', 'vwa2', 'ss18l2', 'ptprb', 'il17d', 'gss', 'bcl2l12', 'ppial4g', 'angptl6', 'cwh43', 'znf543', 'galnt9', 'pnma8b', 'reep3', 'tmem50a', 'cap1', 'psd2', 'borcs7', 'cdon', 'krt83', 'cutc', 'catsperg', 'chkb', 'rhob', 'tmprss9', 'adgrg7', 'cdnf', 'brms1l', 'tbx10', 'adamts9', 'trmt11', 'hsf4', 'chst4', 'cc2d1a', 'chac2', 'chrm5', 'igfbp5', 'pias1', 'hoxa4', 'pnpo', 'exosc7', 'lurap1', 'galnt17', 'gps1', 'piezo1', 'cmtm4', 'hpr', 'nfib', 'pfas', 'cbr4', 'unc80', 'nup42', 'st8sia6', 'ccdc196', 'slc23a2', 'ccndbp1', 'cyp11a1', 'pcdhb15', 'lrfn3', 'bfar', 'hoxc11', 'ramac', 'riox2', 'cdr2l', 'clcnkb', 'aunip', 'taf11l14', 'lgi2', 'xpnpep1', 'rflna', 'pigbos1', 'utp6', 'ncoa5', 'zbtb46', 'tmem107', 'znf445', 'cd74', 'krtap13-2', 'hand2', 'lax1', 'mmaa', 'hcar1', 'gps2', 'taldo1', 'vn1r4', 'cftr', 'plekhf1', 'nbeal1', 'sync', 'nrarp', 'sugp2', 'otx1', 'gmppb', 'irf1', 'coasy', 'sema3g', 'cops7b', 'ndufa2', 'tbrg1', 'akap3', 'tax1bp3', 'cd93', 'or2ak2', 'dnm1l', 'il12b', 'txndc12', 'nxt2', 'sparcl1', 'zrsr2', 'zdhhc9', 'ifi27l2', 'ss18', 'man1b1', 'gtpbp3', 'cep290', 'tmem199', 'sgsm2', 'mif', 'ppp1r14d', 'ocel1', 'znf765', 'trhr', 'erich6', 'aspm', 'mosmo', 'pappa2', 'atxn7l3b', 'coq10b', 'crebbp', 'usb1', 'tsr1', 'rab3b', 'golph3l', 'cyren', 'znf256', 'uchl1', 'ttll12', 'mcm8', 'sun2', 'tuft1', 'mapk3', 'c3orf38', 'fut10', 'prr27', 'dhx37', 'hint2', 'malt1', 'tmem185a', 'hp1bp3', 'znf687', 'myo10', 'dnase1', 'agrp', 'c4bpa', 'synj1', 'spred1', 'pomgnt1', 'eme2', 'dolk', 'tubb2a', 'abcb10', 'cdca3', 'tunar', 'snrnp25', 'znf23', 'hexim2', 'fzr1', 'or7a17', 'rnf13', 'ppp1ca', 'crip2', 'crlf2', 'polr1b', 'lipj', 'il23r', 'satb1', 'kif1a', 'xkr5', 'sult1c4', 'kif20b', 'itpripl2', 'cpz', 'gpm6a', 'card19', 'dcun1d3', 'phldb3', 'cnot6l', 'csf1', 'ly6g6d', 'angpt1', 'c1orf109', 'tac4', 'tmem117', 'pold1', 'psmd7', 'tmod4', 'adamts20', 'ap4m1', 'ptdss2', 'dhx15', 'arpc3', 'ralgapa1', 'spata24', 'dapk3', 'ncbp1', 'pllp', 'mboat2', 'prok2', 'pcdhb12', 'ptpn21', 'pjvk', 'hoxa7', 'lenep', 'pik3c3', 'cldn22', 'fubp3', 'taf4', 'adgrv1', 'fem1a', 'dennd2d', 'ak9', 'ssx3', 'krt222', 'rsph9', 'nop16', 'vstm2b', 'sap25', 'shisa8', 'fcer1g', 'tmem80', 'trappc6a', 'tmprss5', 'abhd17b', 'ano2', 'pard6b', 'ankrd42', 'slc26a3', 'pcp4l1', 'evc2', 'ppp1r12a', 'rfc2', 'rpp38', 'ppp4r3a', 'ap3b2', 'cpo', 'rab37', 'b4galnt4', 'pitx2', 'mt1m', 'farsb', 'cfhr2', 'lyg1', 'tmem128', 'ccdc43', 'stn1', 'or3a3', 'tmem175', 'nsg1', 'brf2', 'prkcb', 'tpra1', 'znf492', 'alg2', 'katnal2', 'znf563', 'nnt', 'art5', 'capn12', 'taar6', 'ranbp9', 'dxo', 'eif2ak1', 'atp6v0a4', 'slc12a6', 'ttc3', 'fabp6', 'stard4', 'rai14', 'hif1a', 'abcc11', 'slc8b1', 'cxcl9', 'ttc21a', 'uqcc3', 'upk2', 'fam50a', 'kcnk7', 'dbn1', 'tnfaip6', 'or1k1', 'osmr', 'urgcp', 'cldn8', 'nectin1', 'znf423', 'rrp15', 'uprt', 'grik2', 'znf559', 'pink1', 'pecr', 'styx', 'gabpa', 'pacsin3', 'plekhh1', 'frg2', 'pex1', 'cebpb', 'hmox1', 'serpine2', 'fbxo25', 'trim3', 'cpped1', 'ahsp', 'gna11', 'nlk', 'ca14', 'apold1', 'khsrp', 'tubb6', 'cope', 'map3k7cl', 'itprip', 'dnajc10', 'pear1', 'cnbp', 'larp1', 'spdef', 'ankib1', 'slc25a24', 'sftpc', 'nsfl1c', 'fam47c', 'trpm6', 'smdt1', 'ptx3', 'lpxn', 'elavl1', 'ankrd33b', 'golga6l7', 'ptch1', 'azgp1', 'cops4', 'ncapd2', 'heatr9', 'hddc3', 'chst11', 'tshz3', 'kif6', 'polr3c', 'fam228b', 'tmem92', 'or2t4', 'tbx6', 'mknk1', 'pfdn1', 'zbtb34', 'npas3', 'atoh7', 'neurog3', 'mgat5', 'dytn', 'ccl15', 'snrpf', 'fkbp15', 'rnd2', 'eml6', 'znf778', 'kpna1', 'cenpvl3', 'tmed6', 'rapsn', 'adcy6', 'lrrc38', 'krtap19-6', 'bud31', 'tgm3', 'rin2', 'ide', 'ten1', 'mid2', 'pa2g4', 'klhl24', 'slc25a47', 'nudc', 'sppl2a', 'ca2', 'parp16', 'aifm2', 'otub1', 'tnfrsf8', 'gid4', 'gal3st1', 'becn1', 'krtap1-1', 'tmem64', 'bicdl1', 'apoc4', 'tmed2', 'ifrd1', 'ankar', 'six4', 'snx16', 'dtnb', 'pdcd1', 'asap1', 'or5ar1', 'pcsk1n', 'slc17a1', 'il25', 'stard8', 'myo3a', 'anapc7', 'por', 'carnmt1', 'prss22', 'c19orf73', 'gns', 'ppp1r9a', 'fbxo27', 'wdr72', 'defb112', 'btg2', 'nlrp7', 'znf723', 'fech', 'fam111b', 'zbtb7b', 'stk36', 'or10w1', 'hmgn4', 'spr', 'psmb7', 'maml3', 'alkbh2', 'pmm2', 'ccdc146', 'nlrc5', 'ap2s1', 'whamm', 'smco1', 'sec61a1', 'aak1', 'ufl1', 'cldn18', 'znf775', 'stk32a', 'adamts8', 'zcchc8', 'krtap2-3', 'kcnb1', 'ecpas', 'fam114a2', 'rfx7', 'vps51', 'kank3', 'ifitm1', 'c15orf61', 'acbd6', 'baiap2l1', 'homer3', 'syt16', 'aire', 'krtap21-1', 'upk3a', 'ldhb', 'mks1', 'uchl3', 'knop1', 'or2t2', 'dkk1', 'siglec10', 'myo6', 'mtmr2', 'dnajc27', 'c3orf70', 'or10c1', 'psd', 'smarca2', 'ccdc186', 'cpne8', 'slc39a9', 'arid3b', 'slc25a31', 'gpatch11', 'rnf150', 'prpsap2', 'slc38a5', 'c12orf40', 'ankrd1', 'pacc1', 'krtap5-8', 'or4d10', 'pah', 'yy2', 'usp44', 'fam207a', 'hells', 'cdc27', 'htr2c', 'rap2b', 'gpr155', 'pkib', 'cnga4', 'tbx21', 'ehd2', 'c10orf82', 'tspan32', 'rexo5', 'znf580', 'ddx28', 'rbms1', 'or8h1', 'tub', 'rnf224', 'trmt6', 'lama2', 'taf5', 'copg1', 'pcgf3', 'fam240c', 'tpp1', 'zfp28', 'tmem170a', 'hdac7', 'lxn', 'ddx52', 'slc25a39', 'mkks', 'slc41a2', 'kif17', 'araf', 'cdc42ep1', 'cybb', 'lhx3', 'pdgfb', 'synj2', 'hsd17b13', 'urad', 'rbm28', 'pim3', 'ccrl2', 'mymk', 'epn3', 'limch1', 'rfng', 'sox13', 'gap43', 'sema3c', 'rtca', 'pon3', 'fndc4', 'topbp1', 'pde6c', 'tprn', 'psmc2', 'esd', 'ufc1', 'gtf2a1', 'slco4c1', 'gprc5d', 'tas2r30', 'samd8', 'pcdhb7', 'znf92', 'cuedc2', 'gpr108', 'dync1i1', 'psg7', 'iars2', 'ttc33', 'nphp1', 'ifitm5', 'c2cd4b', 'acot13', 'gpc4', 'defb124', 'rgs12', 'cdh9', 'acin1', 'mst1', 'serinc4', 'ankra2', 'nr1i3', 'mdh1', 'galnt14', 'tet2', 'arhgef39', 'bivm', 'adrb1', 'trappc3', 'cdyl', 'alms1', 'kctd19', 'gpr65', 'spaca6', 'zdhhc13', 'gemin6', 'prss35', 'or5as1', 'gdi2', 'etaa1', 'hdgfl1', 'chrna1', 'isca2', 'tc2n', 'dpm2', 'osbpl7', 'capn14', 'ccl16', 'sp140l', 'rnf207', 'tmem160', 'klhl15', 'lacc1', 'ndufs1', 'tbc1d1', 'ticam2', 'trim16', 'fcgr3a', 'prss21', 'amz2', 'sema3a', 'znf286a', 'polb', 'nol9', 'cd2ap', 'dcaf4l2', 'leo1', 'c2orf15', 'olr1', 'fos', 'pitpnm3', 'naa38', 'gabrg1', 'sesn3', 'rundc3a', 'chchd5', 'papss2', 'hjv', 'emc8', 'mamstr', 'gpr162', 'epn1', 'cecr2', 'dcaf12l2', 'wnt16', 'tnfaip3', 'rap1gap2', 'pak6', 'dmac1', 'rims4', 'irf2bp2', 'kyat1', 'zdhhc20', 'wdr1', 'amotl1', 'ms4a15', 'krtap9-3', 'abhd4', 'pde3b', 'polr2a', 'cntnap2', 'emc6', 'prb4', 'qki', 'znf135', 'dcun1d4', 'gbe1', 'evi2a', 'actl6a', 'adgrg6', 'snw1', 'ntan1', 'tle7', 'pign', 'casd1', 'prx', 'fgd1', 'lrrn2', 'or52l1', 'fam174a', 'tnk2', 'tex11', 'wdr74', 'lrrtm4', 'nanp', 'cc2d2a', 'zkscan5', 'ctnnal1', 'lrch3', 'acaa1', 'mccd1', 'ehmt2', 'fam237a', 'septin11', 'tbcd', 'kif1b', 'ckap2', 'ggps1', 'fis1', 'hsdl2', 'nipsnap1', 'omg', 'ndufb6', 'cfap126', 'gramd1b', 'slc2a5', 'tmco3', 'sncaip', 'col28a1', 'defb108b', 'fbxo6', 'dcps', 'ofd1', 'eri2', 'slc9a5', 'ilvbl', 'tmem243', 'brdt', 'rnf31', 'pet117', 'ttll1', 'rasgrp2', 'rad54l2', 'sar1a', 'nsmce1', 'nectin2', 'rnf148', 'apoa4', 'nlrx1', 'efcab2', 'sirt7', 'fbxo3', 'ppp1r17', 'hook2', 'brap', 'rtn1', 'ift122', 'p2ry12', 'gucy2f', 'slf2', 'fbxo5', 'otub2', 'nup62cl', 'tmem248', 'snrnp200', 'wbp1l', 'nt5c3b', 'st3gal1', 'slc16a9', 'tmem41a', 'tamm41', 'camk2n1', 'p2ry2', 'slc9b2', 'cdc45', 'dcaf10', 'znf621', 'yap1', 'gga2', 'c17orf50', 'wdr35', 'prss38', 'creg2', 'pfkp', 'ptp4a3', 'zfp36l1', 'c1orf210', 'pnma5', 'gtf3c2', 'stmp1', 'esrrb', 'tle6', 'txnip', 'lce3d', 'stk16', 'resf1', 'shld2', 'zbtb8a', 'usp47', 'lman2', 'rab6a', 'tapbpl', 'pcbp3', 'cpsf7', 'cdc37', 'ssu72', 'dach1', 'scyl3', 'ripk2', 'tcea3', 'fmo5', 'c16orf46', 'mylip', 'fam219a', 'tmem255a', 'cebpe', 'jak2', 'cdca8', 'gorab', 'pla2g4a', 'faim', 'sycp1', 'lrrc71', 'sdr16c5', 'endog', 'septin1', 'kcnt2', 'ctf1', 'wdr44', 'lrp12', 'klk3', 'gtf2a2', 'rab36', 'dmrt1', 'gatd1', 'cfap97', 'kiaa0895', 'gcnt4', 'sf1', 'cpn1', 'c16orf91', 'arrdc3', 'rab8b', 'scn4a', 'zik1', 'mageb4', 'c17orf99', 'cog2', 'rep15', 'ctsd', 'txndc8', 'prrc2c', 'xpot', 'xrcc2', 'c3orf18', 'wnk2', 'pvalef', 'dctpp1', 'adam17', 'ptprn2', 'ska2', 'kif22', 'rraga', 'mgll', 'pus7', 'usp30', 'usp11', 'spanxn2', 'map4k4', 'pigh', 'nfam1', 'cabyr', 'hnrnpk', 'tcf21', 'cdx1', 'herpud1', 'alg6', 'nr2c1', 'ubxn4', 'slc36a2', 'cpn2', 'zc3h4', 'nckap1', 'fam177b', 'tdrkh', 'dhh', 'pigt', 'flrt1', 'spink1', 'cops3', 'fam102a', 'wnk3', 'ppp1r16a', 'ccnk', 'rell2', 'or4d9', 'zkscan4', 'gpbp1', 'c19orf12', 'c22orf31', 'gpr15', 'dpp7', 'col6a5', 'atp6v0a2', 'flt3lg', 'stmn3', 'tmem132c', 'vps53', 'mettl25', 'ccdc141', 'cep97', 'ogdh', 'ndufab1', 'cisd1', 'mgst2', 'rtn4rl2', 'm1ap', 'tagap', 'fam219b', 'dhrs9', 'cdkn2c', 'myo1b', 'nxn', 'c3ar1', 'ccdc148', 'ccdc50', 'acacb', 'bbof1', 'hmgcll1', 'defb121', 'setd4', 'iqcg', 'tomm40l', 'mtfr1l', 'gnl3l', 'sprr4', 'vsx2', 'mapre3', 'rxfp3', 'pmch', 'rsbn1', 'alox12b', 'bco2', 'cyb5r2', 'pars2', 'c4orf33', 'nr3c1', 'itfg2', 'cand1', 'galp', 'impdh2', 'msrb3', 'btbd2', 'slc25a34', 'ppwd1', 'rgl3', 'tceal2', 'rnf5', 'iqck', 'tfrc', 'dpy19l4', 'fcrl1', 'slc36a4', 'fdps', 'dbnl', 'znf521', 'fam83h', 'stpg3', 'bag6', 'rbbp7', 'vsig1', 'flna', 'oard1', 'dcbld2', 'fam90a1', 'znf793', 'nop53', 'hilpda', 'ing1', 'prob1', 'pcdha2', 'cacng1', 'gramd1a', 'mpped1', 'psma3', 'amn', 'arhgap5', 'rbbp4', 'tmem60', 'ippk', 'ada2', 'pptc7', 'or56b4', 'plk5', 'znf432', 'catsper4', 'aqp12a', 'agl', 'veph1', 'pycr2', 'snai3', 'ltbp1', 'itga7', 'ccdc85b', 'apoc2', 'tmem151a', 'nynrin', 'renbp', 'usp34', 'etv1', 'cep41', 'grid2', 'c1qtnf2', 'ripply1', 'prdm10', 'sprtn', 'prr32', 'nrn1', 'znf485', 'aff2', 'rhbdd3', 'gjb3', 'rhpn2', 'map3k19', 'sds', 'srgn', 'accs', 'gfra1', 'fem1b', 'nlrp10', 'arhgap1', 'wdr17', 'ptpn3', 'itgal', 'nefm', 'tsga10ip', 'arhgef10', 'hspa12b', 'aqp3', 'ch25h', 'bcl7b', 'aspn', 'znf511', 'mknk2', 'rinl', 'dcaf1', 'abcc2', 'kcnj9', 'mios', 'usp40', 'txk', 'cep250', 'ndufa13', 'blcap', 'aldoc', 'dcun1d5', 'dnlz', 'il17c', 'ftcd', 'rabl6', 'c14orf93', 'akap8', 'wsb1', 'grpr', 'masp1', 'mtss2', 'cpq', 'scpep1', 'prrx2', 'kcng3', 's100b', 'aasdh', 'gucy1a2', 'itgb4', 'znf221', 'dst', 'krtap4-3', 'ankrd31', 'haus8', 'slc25a48', 'atp6v1g2', 'adamtsl2', 'rapgef3', 'ptk7', 'vezf1', 'meis3', 'lrrfip2', 'arl5b', 'hdac11', 'srsf5', 'cib3', 'tspan13', 'klhl18', 'sytl2', 'otop2', 'cyb5a', 'sbno2', 'npw', 'kank2', 'c16orf87', 'robo4', 'srcin1', 'sp7', 'tm4sf20', 'ctdsp1', 'slc18a2', 'lrrc42', 'nckipsd', 'cldn16', 'cdhr3', 'scn8a', 'psmd9', 'syt2', 'cnih2', 'nsmaf', 'znf654', 'fam172a', 'orc1', 'tex47', 'ascl3', 'mmp21', 'ccdc82', 'kctd11', 'coq7', 'cep162', 'eaf1', 'or6m1', 'serpinb12', 'cacul1', 'samd10', 'katna1', 'hnrnpr', 'pon1', 'pcdhgb2', 'atp1b3', 'tnfaip8l2', 'efemp1', 'gtpbp8', 'lrrn4', 'slc1a5', 'il10', 'cog5', 'agap1', 'dmkn', 'camlg', 'psca', 'znf79', 'sec61a2', 'rnase8', 'arid4b', 'dock6', 'gas6', 'cox16', 'vps37c', 'slc25a38', 'slc25a28', 'ccdc166', 'nup50', 'utp3', 'epha10', 'bphl', 'ero1b', 'dpp4', 'itpr2', 'slc35f4', 'mgrn1', 'kxd1', 'mmp11', 'or8b4', 'boc', 'mypop', 'znf831', 'emc4', 'rad52', 'aktip', 'rasa2', 'ddx20', 'fndc3b', 'nr0b2', 'ipp', 'c11orf45', 'pcyox1', 'poglut3', 'lemd1', 'znf267', 'znf273', 'spata32', 'fpgs', 'acp2', 'krtap22-2', 'mt-nd2', 'mterf3', 'ash1l', 'atpaf2', 'tmed3', 'lyrm1', 'plcg1', 'ptprm', 'rbm10', 'amdhd1', 'gpr63', 'ccr2', 'usp51', 'yipf3', 'cacng3', 'akr1c8p', 'mtnr1a', 'dok3', 'abl1', 'actr10', 'sod2', 'gjb4', 'agfg2', 'pkdcc', 'or10h3', 'pisd', 'helz', 'trabd', 'tgs1', 'nup153', 'synpo2', 'tbl1x', 'zfyve28', 'hmces', 'hhipl1', 'dop1a', 'npffr2', 'ctag2', 'clip2', 'pigb', 'napsa', 'gtf3c6', 'vstm1', 'kdm4a', 'tmem121b', 'lix1l', 'frrs1', 'arf1', 'fxyd5', 'ly6g6f', 'xrra1', 'r3hcc1', 'grid2ip', 'klc1', 'pcdha12', 'zfp62', 'lrrc8a', 'c8orf33', 'ssna1', 'icam4', 'ptgfr', 'nagk', 'cyp26c1', 'ficd', 'c9orf72', 'ccdc175', 'pcdhac1', 'capzb', 'agt', 'tor1b', 'tie1', 'dgkz', 'six1', 'igip', 'vav2', 'ccdc185', 'mgam', 'napa', 'kcnk10', 'rock1', 'znf341', 'gzf1', 'tnfsf11', 'lnx2', 'rdm1', 'kremen2', 'prrg1', 'akap8l', 'fam171b', 'crmp1', 'msc', 'mtmr1', 'hs3st4', 'slc10a7', 'tmem249', 'slc25a18', 'rad17', 'yes1', 'fasn', 'hadhb', 'dock9', 'atpaf1', 'pepd', 'cnot9', 'usp17l15', 'sftpa1', 'gas2l2', 'wdr64', 'fcho2', 'c17orf100', 'tesk1', 'abcb9', 'znf770', 'axdnd1', 'hsd17b14', 'clcn2', 'slc12a7', 'tmem14a', 'akr7a2', 'ifna7', 'adam29', 'slc19a2', 'tut1', 'man2b1', 'znf860', 'irak4', 'spag5', 'tmem33', 'arap2', 'dll1', 'slc6a13', 'or4q3', 'slc38a9', 'ccdc152', 'lmf2', 'kiaa0232', 'arv1', 'calml5', 'il4r', 'elp3', 'ubap2l', 'mboat7', 'tafa4', 'gm2a', 'smpd1', 'ffar2', 'vwa1', 'palm3', 'yaf2', 'mcemp1', 'atp1a2', 'ptbp2', 'pou6f2', 'meig1', 'gpr45', 'mgat4a', 'cox4i2', 'ccdc80', 'ccdc71', 'fndc8', 'rnaseh2a', 'tcaim', 'efcab10', 'hs3st2', 'npb', 'or5t1', 'nln', 'ptgs2', 'slc16a7', 'fshr', 'fam186b', 'gpr25', 'rcn1', 'tepp', 'dner', 'ephb3', 'gnpda1', 'rmi1', 'dusp11', 'wdr24', 'pkmyt1', 'nr1i2', 'rbm22', 'tmem176a', 'gins3', 'znf19', 'spry4', 'rab5if', 'peak3', 'fbxw9', 'fbxo24', 'rpusd4', 'gmeb2', 'ptk6', 'lrrc40', 'mab21l2', 'tcp10l2', 'prima1', 'gpr3', 'c8orf74', 'megf6', 'adk', 'nt5c', 'rrp1', 'trim13', 'mettl3', 'hcar3', 'ccdc28a', 'c11orf49', 'rap1gds1', 'acsf2', 'cbx7', 'ina', 'flrt3', 'clasp1', 'lypd1', 'vps13d', 'uba1', 'znf343', 'vhll', 'mplkip', 'akain1', 'insr', 'use1', 'bmp7', 'ctxn1', 'prdm11', 'traf1', 'cebpd', 'hbegf', 'dnah11', 'cdrt1', 'oxnad1', 'rhebl1', 'edn3', 'men1', 'cux1', 'lilra6', 'usp10', 'rhag', 'mfsd6', 'ccdc66', 'tia1', 'cyp8b1', 'rnase3', 'gpn1', 'pde4a', 'atpsckmt', 'glra1', 'tk2', 'srsf11', 'sh3bp4', 'slc35d2', 'c8orf89', 'mrnip', 'csad', 'kcnmb4', 'atp5if1', 'zbed1', 'c4orf36', 'dusp10', 'adam8', 'colec12', 'c1qb', 'bnip3l', 'naa40', 'aoc2', 'trex2', 'kmt2d', 'anos1', 'lclat1', 'kif4b', 'proc', 'chst1', 'dram2', 'kcnj6', 'il18rap', 'upp1', 'dazap1', 'slc16a5', 'brs3', 'tmem203', 'bcas2', 'slc30a9', 'dmrtb1', 's100a4', 'mmadhc', 'lgi3', 'aup1', 'tuba4b', 'efcab14', 'krt40', 'kiaa1958', 'kiaa1109', 'adam33', 'nxnl1', 'c10orf71', 'ap3m2', 'tas2r50', 'pld6', 'ppp2r3a', 'ift140', 'stc2', 'ptpn2', 'pramef2', 'vwa5a', 'irgq', 'ccdc181', 'znf200', 'znf425', 'gch1', 'chrac1', 'dydc2', 'tyr', 'slc35a3', 'ttl', 'ltbp4', 'kctd21', 'znf16', 'ecrg4', 'qpctl', 'tet3', 'cxcl5', 'gngt2', 'suco', 'pcdhb16', 'clic1', 'ugt2b10', 'rfx5', 'surf1', 'cox7c', 'odf3', 'inppl1', 'acads', 'zbtb14', 'bank1', 'guca2a', 'dmxl2', 'shbg', 'cdk13', 'klhl22', 'ddt', 'samd9l', 'adgrl4', 'lypd8', 'atg14', 'elovl5', 'acbd5', 'foxd3', 'epha7', 'ccni', 'lbh', 'mpzl2', 'gsr', 'rassf8', 'atp2c2', 'arl14epl', 'unc79', 'c20orf96', 'adipor2', 'znf195', 'pgc', 'chst13', 'slc39a14', 'zdhhc16', 'klhdc1', 'c1orf185', 'tex101', 'pygl', 'ocstamp', 'eif4e1b', 'parvg', 'or2w1', 'hsd11b2', 'sstr4', 'aqp4', 'cttnbp2nl', 'slc35b4', 'pkd1l3', 'rhno1', 'suv39h1', 'tspan1', 'c18orf25', 'znf207', 'slc20a1', 'oscp1', 'zc2hc1a', 'mcat', 'mcm6', 'dleu7', 'znf512', 'c1ql2', 'sptan1', 'grid1', 'rab26', 'fbxo30', 'c1orf56', 'stradb', 'c10orf120', 'atp12a', 'ddx21', 'rogdi', 'atp6v0a1', 'slc6a2', 'babam2', 'lrr1', 'aldh16a1', 'or2a25', 'dclre1c', 'ptn', 'snx21', 'mnd1', 'cntfr', 'cngb3', 'creb3l4', 'atp7a', 'rasl10b', 'lcorl', 'cul1', 'tctn1', 'cdx4', 'lrrc14', 'zbtb11', 'krtap1-3', 'tmtc2', 'omd', 'krt16', 'ccdc126', 'atp8a1', 'spp1', 'znf354b', 'rhog', 'mrgprf', 'ankrd30b', 'rbp4', 'nfatc1', 'pwwp2a', 'triqk', 'lmf1', 'smim6', 'arhgef1', 'adipor1', 'atxn3l', 'c10orf62', 'ino80', 'ints12', 'c18orf32', 'sharpin', 'slc16a6', 'klhl1', 'cd84', 'dixdc1', 'pltp', 'nat8l', 'aif1', 'or5d3p', 'tbc1d23', 'hyi', 'tcf12', 'pbld', 'mtrf1', 'lig3', 'vps26a', 'kndc1', 'igsf22', 'kmt2a', 'ankrd45', 'ndufa8', 'c8b', 'acp4', 'nhp2', 'plxna1', 'mrm3', 'psg4', 'lbx2', 'wee2', 'rpap3', 'ube2e3', 'vgll2', 'cd53', 'mdk', 'stx12', 'rpe65', 'pcgf1', 'atg4d', 'slain2', 'gypc', 'msrb1', 'map2k6', 'pfn3', 'slc2a4rg', 'lamc2', 'tril', 'phf5a', 'efcc1', 'tnfrsf10d', 'osbpl10', 'ccdc201', 'rasal2', 'hmgn3', 'arhgef33', 'actl7b', 'mprip', 'zscan18', 'ocrl', 'osr2', 'plin3', 'znf502', 'dock4', 'mfap5', 'pop5', 'gnpat', 'mphosph6', 'znf518a', 'epha5', 'cacna2d2', 'slc7a10', 'kcna7', 'map7d1', 'pheta1', 'ccr10', 'rbfox1', 'erfl', 'smim10', 'saxo1', 'spem2', 'prepl', 'uimc1', 'fbxw11', 'shox2', 'praf2', 'znf25', 'rtl1', 'cd9', 'cenpw', 'steap4', 'rbm7', 'retn', 'bbip1', 'pde2a', 'kiaa0408', 'fam3a', 'tmem9', 'ints5', 'ifi35', 'gng5', 'suds3', 'znf335', 'mtf1', 'c9orf64', 'ctso', 'pigq', 'adamts5', 'dio3', 'frmd8', 'znf225', 'fkrp', 'brox', 'mycbp', 'usp17l1', 'ntrk1', 'acap1', 'nlgn1', 'mterf1', 'nufip2', 'mapk4', 'grik5', 'irx4', 'pomp', 'znf474', 'derl2', 'arhgap44', 'rgcc', 'stxbp3', 'hdac4', 'cnr1', 'taf3', 'lhb', 'rarres2', 'hltf', 'gipc3', 'snx22', 'timp4', 'trim9', 'zfhx4', 'srfbp1', 'cd3e', 'pdk3', 'lrrc34', 'mcam', 'slc12a4', 'mettl9', 'rundc3b', 'atoh1', 'surf6', 'rdh5', 'pygo1', 'ahi1', 'tmem225b', 'pmepa1', 'pate1', 'icam2', 'id4', 'rccd1', 'tmc4', 'syt11', 'itga1', 'brinp3', 'atg7', 'c2', 'psmg1', 'map3k6', 'nqo1', 'spo11', 'rapgef1', 'mecp2', 'znf385d', 'smyd1', 'mzb1', 'sft2d1', 'tmem126a', 'myl2', 'pex11a', 'cenpt', 'dmpk', 'apobec3f', 'rtn2', 'blmh', 'hoxb1', 'csrnp1', 'gtf3c3', 'acsm4', 'fsd1', 'pabpc1l2a', 'klhl36', 'ddx18', 'proser2', 'bnip1', 'masp2', 'birc5', 'cfl2', 'arl6ip4', 'ptpn9', 'prickle1', 'ccnl2', 'crybb1', 'fbp2', 'pmf1', 'scrn3', 'foxp2', 'rdh11', 'tyw5', 'frmpd4', 'grp', 'dync1h1', 'insyn1', 'pgls', 'ptpra', 'proca1', 'slco2b1', 'sema3d', 'ccn3', 'ttc9', 'glp2r', 'slc38a10', 'cnot3', 'aqp9', 'dtymk', 'mmp10', 'lilra1', 'zbed3', 'p3h4', 'sbsn', 'gstp1', 'or5k2', 'armh2', 'llph', 'cxcl11', 'cbx3', 'psmd2', 'mrgprx4', 'ccn1', 'dhcr24', 'samd4a', 'lrrc63', 'akap9', 'ppp1r3a', 'rbmx', 'khdrbs3', 'plk1', 'fgf7', 'itga2b', 'agr3', 'abraxas1', 'oosp4b', 'pitpnb', 'muc13', 'slirp', 'rmdn3', 'trim11', 'or4f15', 'sycp2', 'shkbp1', 'znf613', 'fam205a', 'krt80', 'map1s', 'pdia5', 'tnpo2', 'ly6l', 'pnma8c', 'pbrm1', 'f13a1', 'ms4a18', 'psd3', 'celf2', 'tpte2', 'haus5', 'c1qtnf6', 'bpifc', 'sdf2l1', 'zbtb6', 'pim2', 'hdx', 'akt1', 'krtap4-16', 'fam120aos', 'kiaa1841', 'polr2b', 'c5orf24', 'plekhg4b', 'apbb1', 'arhgap20', 'or1e1', 'tgfbrap1', 'usf1', 'ctu2', 'cxorf66', 'syndig1l', 'frzb', 'mark3', 'slc25a23', 'ap1m2', 'fam131c', 'fam13c', 'ntf4', 'edar', 'chrna3', 'ccdc47', 'krtap12-4', 'tnfrsf21', 'adhfe1', 'col20a1', 'slc26a8', 'mfap3l', 'agbl2', 'cpeb1', 'mfsd2a', 'pglyrp2', 'clecl1', 'sox2', 'letm1', 'ednra', 'slc1a4', 'calb2', 'hipk4', 'polr2f', 'gfy', 'ube3a', 'nsun7', 'ramacl', 'cdk18', 'cyth3', 'nrf1', 'lancl2', 'prpf18', 'trim51gp', 'atg3', 'nxf1', 'wipf2', 'naaladl2', 'tcf7l2', 'phf20', 'chek2', 'mov10l1', 'ulbp2', 'snrnp27', 'pxdn', 'flt3', 'nelfe', 'cds1', 'tm4sf18', 'znf608', 'fxyd4', 'msantd3', 'pxn', 'eif2b1', 'znf428', 'tnfrsf6b', 'ccdc113', 'slc17a7', 'kbtbd4', 'cmbl', 'pqbp1', 'efnb3', 'dgcr8', 'eaf2', 'laptm4b', 'ubac1', 'ddrgk1', 'chst10', 'ppy', 'znf862', 'syce1', 'podnl1', 'zmym4', 'phactr4', 'slx4', 'b3gat1', 'eya4', 'gsta5', 'ubxn6', 'aass', 'lcn15', 'psmc3', 'stk31', 'mfap1', 'smarcd3', 'lamb4', 'fgf5', 'hsf2bp', 'tbx2', 'klhdc8a', 'nuak2', 'uap1l1', 'klhdc10', 'mroh2a', 'klf12', 'cck', 'wnt7b', 'tceal4', 'rpap2', 'mep1b', 'pkn2', 'ppcdc', 'jpt2', 'herc5', 'clec18a', 'ifrd2', 'abhd18', 'ifitm3', 'pus1', 'prac1', 'slfn13', 'sgpp2', 'midn', 'serpina7', 'gcsam', 'phf21a', 'smim41', 'bbs1', 'fbxo7', 'mef2d', 'aipl1', 'alpi', 'larp7', 'sertad4', 'sez6l', 'wrn', 'tmem204', 'mtrex', 'rbm45', 'batf2', 'tmub1', 'sectm1', 'rbm12', 'shroom1', 'nlrp1', 'zkscan2', 'tmem178a', 'nek10', 'nudcd2', 'nkain3', 'pate4', 'crispld2', 'c1orf122', 'dedd2', 'col4a3', 'tmem212', 'rnf112', 'lsm3', 'pck1', 'tti2', 'stath', 'znf662', 'snrpc', 'elf1', 'ceacam21', 'lta4h', 'gpr39', 'vps13c', 'rrp7a', 'elf3', 'ipo4', 'btc', 'spink5', 'morf4l2', 'qdpr', 'rfc1', 'pet100', 'tlk2', 'clpb', 'trim52', 'hipk3', 'mnda', 'b3gnt2', 'sumo4', 'rgs10', 'dennd6a', 'stra6', 'dusp16', 'tpm4', 'trim46', 'adam30', 'arhgef3', 'cep170b', 'umad1', 'slc7a1', 'msantd1', 'cer1', 'abracl', 'siae', 'pf4v1', 'sh3rf2', 'exoc4', 'nmral1', 'spink13', 'ccdc9b', 'c16orf71', 'ift88', 'fabp12', 'setd1b', 'atg4b', 'akirin2', 'cln5', 'drg2', 'mroh7', 'pde12', 'jdp2', 'semg1', 'rnf208', 'cd163', 'ap1b1', 'cdv3', 'thnsl2', 'aig1', 'cilp2', 'ccdc192', 'agpat2', 'cacna1e', 'maneal', 'f11', 'znf544', 'rab25', 'opn4', 'fbxl5', 'lgals3', 'neurod6', 'gabra4', 'dusp6', 'cela2a', 'paip1', 'lig1', 'rtkn', 'znf408', 'znf17', 'naa35', 'atad3a', 'myct1', 'shc1', 'daxx', 'impact', 'gbgt1', 'prkci', 'spata31d3', 'asic4', 'ubtd2', 'chrfam7a', 'npr1', 'cilp', 'dnaja4', 'crhr1', 'plek2', 'ubxn7', 'penk', 'ms4a4e', 'lrrc28', 'gabrr3', 'st8sia4', 'kiaa0319l', 'capn13', 'rnpc3', 'katnbl1', 'reg3a', 'alb', 'scfd2', 'bicral', 'phkb', 'kptn', 'rabggtb', 'kcnq1', 'znf404', 'smarcd1', 'ss18l1', 'il17rd', 'prps1', 'slc23a3', 'zbtb20', 'col5a3', 'atp5mg', 'derpc', 'armcx3', 'ddx39b', 'scgb1d2', 'ccdc60', 'unc5a', 'socs1', 'espnl', 'cela1', 'abca8', 'abi1', 'armc6', 'btf3l4', 'hbm', 'bmpr1b', 'mgarp', 'hoxd1', 'ttc21b', 'krt71', 'itpka', 'znf816', 'il32', 'edn2', 'borcs6', 'tmem104', 'psph', 'higd2b', 'ccm2l', 'arhgef40', 'ppp1r32', 'plcd3', 'nanos3', 'pcdh10', 'iqsec1', 'lrrtm2', 'rmnd5a', 'prr18', 'ifna16', 'zscan12', 'znf326', 'fam131b', 'ndrg2', 'cacna1d', 'fbh1', 'mettl22', 'neil1', 'fnip2', 'hecw2', 'ndufaf6', 'pcdha9', 'thg1l', 'glyatl3', 'fam184a', 'tmem223', 'pofut1', 'emid1', 'coq9', 'eda2r', 'ttf1', 'cldn2', 'mthfd2l', 'cip2a', 'kng1', 'med11', 'pnma8a', 'ythdc2', 'phf20l1', 'camk2g', 'rdh10', 'timm44', 'mss51', 'slc4a11', 'gpr107', 'rnf2', 'smg9', 'bcl9', 'calu', 'ndufb1', 'rab11b', 'nhsl1', 'tnfrsf1a', 'mogat2', 'evx1', 'recql', 'pdcd6ip', 'mtpn', 'btbd3', 'smpx', 'ptrhd1', 'dsel', 'setd9', 'rasgrp4', 'mroh6', 'ptch2', 'lce1b', 'bag4', 'nmnat1', 'ugt3a2', 'c6orf136', 'clta', 'fam50b', 'piwil1', 'acp5', 'dap', 'tuba1c', 'kdm6a', 'kdm4b', 'egr1', 'med8', 'dlk2', 'luc7l', 'metrn', 'znf239', 'or5l2', 'caly', 'c2cd6', 'slc6a20', 'rorc', 'prr23b', 'lyl1', 'plekha1', 'gosr1', 'iqcc', 'pilrb', 'hcn3', 'gpr150', 'ifit1', 'st6galnac1', 'cry1', 'trrap', 'pigk', 'fam136a', 'liph', 'gab1', 'spata31a1', 'ube2j1', 'hmx3', 'c1ql4', 'rmi2', 'iqgap1', 'c1orf131', 'serpinf2', 'krtap10-11', 'pi4ka', 'rnf41', 'tubal3', 'alas2', 'fmn1', 'slc22a17', 'prmt9', 'kif3a', 'terb2', 'c19orf71', 'sele', 'hoxd4', 'kazn', 'jade2', 'stil', 'ankrd13c', 'dock2', 'enpp2', 'kcnk12', 'brip1', 'pus7l', 'dpp10', 'iscu', 'palld', 'znf672', 'cemip', 'anapc16', 'ppp6r1', 'zscan26', 'pcgf2', 'st18', 'glipr1', 'mia', 'cdc42bpa', 'znf695', 'syce2', 'zdhhc22', 'ankmy2', 'top3b', 'supt6h', 'cherp', 'sars2', 'pdia2', 'apol4', 'trio', 'olfml1', 'usp7', 'sphk1', 'ramp2', 'ankrd12', 'slc28a1', 'klrc1', 'terf1', 'wnt3', 'hook3', 'c1qa', 'usp45', 'zc3hav1', 'znf385c', 'ap3b1', 'ube2b', 'ints14', 'prkcg', 'banp', 'ugt2b7', 'frmpd1', 'thbd', 'csk', 'cul9', 'dusp15', 'camk1g', 'sowahb', 'alox12', 'kcnk4', 'or1l6', 'map3k8', 'zc3h10', 'pigg', 'hoga1', 'fzd2', 'ppt2', 'ulbp1', 'notch3', 'zmat5', 'prnp', 'stk11ip', 'camk2b', 'ccdc197', 'c18orf21', 'map2k2', 'sim2', 'adcyap1r1', 'chst15', 'klk14', 'ppa2', 'pbov1', 'gas2l3', 'c21orf58', 'slc44a3', 'ddx27', 'or8h2', 'tada1', 'grpel2', 'slc37a2', 'rnase11', 'brca2', 'pter', 'ttyh1', 'hlf', 'rcan2', 'nup62', 'cskmt', 'xkr4', 'tmem50b', 'pcdh15', 'ms4a1', 'tox3', 'prag1', 'col4a2', 'gatb', 'uqcrfs1', 'foxh1', 'fundc1', 'dcaf5', 'ssh2', 'zfyve1', 'card14', 'gldn', 'smco4', 'c16orf96', 'wdr81', 'tprx1', 'pard6g', 'arl9', 'terf2', 'fcrl6', 'zfc3h1', 'pum2', 'znf366', 'kera', 'kprp', 'rnf115', 'tacc3', 'gyg2', 'tmem37', 'nrg2', 'enkd1', 'ptger4', 'txlnb', 'gtf2ird1', 'traf7', 'nrbp2', 'haao', 'tmem109', 'otor', 'chrng', 'ebi3', 'stbd1', 'itih3', 'znf689', 'ccl28', 'hcn1', 'colec11', 'pclo', 'cmpk2', 'ptk2', 'abcb6', 'c21orf91', 'slc9c2', 'ints9', 'scnn1g', 'csf2rb', 'calhm3', 'itpk1', 'mfsd6l', 'btbd6', 'rgn', 'prss51', 'cd6', 'igfl3', 'msh5', 'akr1b15', 'cd1b', 'themis2', 'nus1', 'tuba1b', 'rnf38', 'c10orf99', 'morn5', 'hint1', 'slc10a4', 'lcn10', 'ccdc106', 'chmp4c', 'sf3a1', 'bspry', 'add3', 'fnta', 'laptm5', 'jchain', 'mxd1', 'nab2', 'krt39', 'klf6', 'fancl', 'ppil2', 'cflar', 'c8orf34', 'trim10', 'rad9a', 'hnf1a', 'or5d13', 'glra3', 'cadps', 'rab30', 'dnmbp', 'csn3', 'cep126', 'fxyd3', 'lim2', 'tox2', 'nlrp2b', 'wdr12', 'kctd20', 'timm17a', 'efcab3', 'dus3l', 'lrrc52', 'il12rb1', 'tex45', 'ssbp3', 'taf5l', 'ikbkg', 'mica', 'ghrh', 'arg2', 'cad', 'trim48', 'rftn1', 'znf575', 'armcx4', 'nupr2', 'kcnj16', 'mtmr7', 'ccdc24', 'otoa', 'srrm1', 'robo3', 'mt-cyb', 'plxdc2', 'kifc2', 'ccdc107', 'plpp3', 'adamts13', 'lair1', 'clcn3', 'lbhd1', 'tbc1d10b', 'ca7', 'ackr3', 'atxn1l', 'poldip2', 'eno4', 'setx', 'gng14', 'snai1', 'mlycd', 'adgrg5', 'napg', 'ift20', 'ffar3', 'ggtlc1', 'adam12', 'rwdd4', 'ythdf1', 'znf568', 'ido2', 'noxa1', 'stard9', 'tigar', 'il17rb', 'dlat', 'tex19', 'map1a', 'rfpl1', 'krt74', 'tgif1', 'lrp2', 'ephb6', 'lpar4', 'ugp2', 'tfcp2l1', 'frem3', 'ctxn2', 'ecscr', 'ralb', 'plgrkt', 'jun', 'lefty1', 'alpg', 'ppp3r2', 'gramd2b', 'dab1', 'gmeb1', 'cenph', 'c11orf58', 'fjx1', 'chmp1b', 'pcdhga11', 'gpr149', 'cyp17a1', 'gpr152', 'ssr3', 'pogk', 'tmem54', 'gpbp1l1', 'osgin2', 'erbb3', 'dbx2', 'ca9', 'prep', 'swsap1', 'bbs7', 'med7', 'med1', 'sdha', 'acad9', 'cdkn1b', 'psmd6', 'shisal2a', 'cavin4', 'knl1', 'gca', 'tmcc1', 'minar1', 'ifnar1', 'ctu1', 'rnf113a', 'hhip', 'klk1', 'smad1', 'mipol1', 'eef2k', 'prps2', 'prelp', 'efcab8', 'lingo4', 'cpsf4', 'cfap157', 'inpp5j', 'saraf', 'brms1', 'foxn3', 'clcn1', 'itpr3', 'mis12', 'smap1', 'sox17', 'slc2a7', 'btrc', 'mapk6', 'il17f', 'atp8b1', 'pi15', 'sike1', 'snx11', 'med30', 'rras2', 'ubash3a', 'mettl17', 'gng2', 'rbmx2', 'riiad1', 'hbd', 'nrxn3', 'or5m11', 'magea9b', 'alpl', 'simc1', 'oxa1l', 'med29', 'eif2ak2', 'nfya', 'btn3a3', 'tle1', 'ribc2', 'vat1l', 'cul7', 'klhl3', 'piwil4', 'elovl6', 'spef2', 'zp3', 'lin52', 'mertk', 'habp4', 'plk3', 'nrde2', 'gnat1', 'p2ry11', 'tekt3', 'fxyd7', 'exo5', 'tmem62', 'slc35e4', 'olfm2', 'cyp26a1', 'atp6v1f', 'gfpt2', 'ovol1', 'icmt', 'srsf8', 'elspbp1', 'cd3g', 'tbc1d17', 'tnfrsf13c', 'armcx2', 'celf5', 'tubgcp4', 'znf184', 'foxo6', 'abcg4', 'nr5a1', 'arhgef7', 'kif3c', 'atxn2l', 'ctsz', 'scaf8', 'fam170b', 'trim44', 'nudt19', 'znf628', 'or52e4', 'pea15', 'piwil2', 'gng3', 'sec24d', 'mapkapk3', 'rnmt', 'mphosph8', 'srl', 'bscl2', 'phf14', 'ugt2a3', 'pip', 'ophn1', 'tmem18', 'en2', 'begain', 'pnck', 'rtn3', 'mx2', 'rxrb', 'il16', 'tcf25', 'pcdha10', 'baalc', 'myf5', 'usp13', 'krt35', 'grb14', 'clvs1', 'spryd4', 'per1', 'iqsec2', 'fam149b1', 'pc', 'pomt2', 'nutm1', 'or5j2', 'gfer', 'sugp1', 'lgals9', 'or2z1', 'cplx4', 'ap2b1', 'fntb', 'znf750', 'phyhipl', 'c1orf53', 'tjap1', 'apbb3', 'lca5', 'znf618', 'hdgfl3', 'tmem159', 'dnah14', 'st7', 'mllt11', 'aen', 'galnt1', 'tmem234', 'spata7', 'radil', 'foxj2', 'eps15l1', 'podxl2', 'dgat2', 'znf493', 'agtrap', 'mtmr14', 'ddx5', 'fmnl1', 'sox3', 'c2orf92', 'dusp1', 'krtap6-3', 'sorcs1', 'ndufs2', 'rai2', 'hapln3', 'p4ha2', 'tcof1', 'sat2', 'kif16b', 'kctd16', 'tp53tg5', 'xkr9', 'ikzf5', 'atf2', 'lcnl1', 'myh7b', 'raly', 'cfhr3', 'akap11', 'slc26a5', 'sp9', 'gtf2f1', 'prss1', 'rbm15b', 'mfsd12', 'mea1', 'ccl13', 'mcm3ap', 'srbd1', 'polr1c', 'csnk2b', 'pik3cd', 'dohh', 'shcbp1l', 'aox1', 'ankrd49', 'dusp5', 'c20orf204', 'g6pc3', 'znf727', 'c10orf95', 'ccdc127', 'fkbp11', 'znf45', 'foxred1', 'mageh1', 'tonsl', 'bpifa2', 'serpine1', 'mgat4b', 'negr1', 'or10g7', 'foxo4', 'esyt1', 'mad2l2', 'kcnc2', 'tmem120b', 'ehbp1', 'trim24', 'mafa', 'fam240a', 'hrh3', 'pacs2', 'prok1', 'slc38a4', 'dpy30', 's1pr1', 'acrv1', 'tmem198', 'srms', 'cst8', 'chchd6', 'egr3', 'zmym5', 'mapk8ip3', 'ogfod3', 'pold4', 'dscaml1', 'zswim5', 'lbx1', 'ehd4', 'mageb6b', 'col26a1', 'tmigd2', 'tns1', 'atp2a1', 'thap3', 'ncbp2as2', 'lpar1', 'dsg2', 'serpinb4', 'cyp21a2', 'acot11', 'spata31a5', 'lgals3bp', 'c4orf47', 'kiaa0930', 'camta1', 'tomm34', 'cops9', 'taf1l', 'lrp2bp', 'tbcc', 'acp1', 'dctd', 'oip5', 'sfxn2', 'ufsp1', 'casp7', 'ccer1', 'scn4b', 'adora3', 'suox', 'parm1', 's100a3', 'otos', 'trim64b', 'thrb', 'vta1', 'gp2', 'gins2', 'nipal2', 'foxl2', 'prelid3a', 'gpr161', 'mrgbp', 'cop1', 'znf182', 'proser3', 'aurkb', 'zc3h12a', 'arl10', 'pcif1', 'fam110a', 'gdf9', 'sap30', 'arntl', 'eri3', 'trim68', 'cacng8', 'rab11fip3', 'exd2', 'cdhr5', 'krt6a', 'anp32d', 'wwc3', 'sfxn1', 'c20orf85', 'rab6b', 'fbxo9', 'cyp11b1', 'krtap3-1', 'hoxa6', 'slc22a11', 'osbp2', 'parp14', 'ccdc178', 'mast1', 'nkx2-8', 'trmt61a', 'apbb1ip', 'fez2', 'cd209', 'kcnmb2', 'erbb4', 'fkbpl', 'lonp2', 'tank', 'dcdc2b', 'khnyn', 'acox3', 'lrtomt', 'ankfy1', 'trib2', 'pycard', 'lratd2', 'slc25a26', 'fndc1', 'tp53i13', 'ccr9', 'sec14l6', 'vps37a', 'pdhx', 'rabgap1l', 'rwdd2a', 'svop', 'rhce', 'tbl1xr1', 'synj2bp', 'nbpf11', 'coa8', 'arhgdia', 'cdc42ep4', 'chst3', 'rhof', 'apobec1', 'mepce', 'st6galnac4', 'thoc7', 'znf697', 'nsd2', 'rab33a', 'shoc1', 'cplx2', 'mpst', 'slc22a1', 'avl9', 'dgkd', 'ceacam7', 'rnaseh2b', 'pop1', 'ceacam3', 'dnai1', 'rbks', 'tnip3', 'ptgr1', 'itpr1', 'alg14', 'ankrd13b', 'sepsecs', 'arhgap26', 'bin3', 'ehhadh', 'mst1r', 'syvn1', 'plod1', 'pnrc2', 'tcf23', 'tlr4', 'fam183a', 'tert', 'coq3', 'cnot10', 'cdc26', 'wee1', 'thnsl1', 'ttc13', 'znf711', 'scnn1d', 'nav2', 'klhl21', 'treml2', 'or10q1', 'dipk1b', 'muc5ac', 'adgrd2', 'ctc1', 'krtap5-7', 'ly86', 'mat2a', 'add1', 'chic1', 'ttll9', 'or5k1', 'rhov', 'atp13a5', 'unc93b1', 'birc2', 'col6a2', 'fyb1', 'idh2', 'cpt1c', 'zbed8', 'lpar5', 'rpf1', 'znf121', 'psip1', 'rpp30', 'gimap7', 'atp8b2', 'hspe1', 'idh1', 'gtf3c4', 'pex26', 'kat2a', 'ranbp3', 'ubp1', 'pdzd3', 'ccr3', 'myoc', 'kif27', 'cdkl3', 'bloc1s5', 'adam20', 'efna2', 'prr30', 'tmem81', 'cadps2', 'slitrk2', 'paqr5', 'miga2', 'zfp69', 'trim4', 'dnai2', 'sccpdh', 'spin4', 'atad2b', 'plppr5', 'slc18a1', 'map6d1', 'defb136', 'lgals12', 'pcdhb5', 'ap2a2', 'znf488', 'cltcl1', 'slc33a1', 'ttc7a', 'ctla4', 'slc22a5', 'usp46', 'cyp3a7', 'znf566', 'gpr176', 'tceal9', 'kiaa1522', 'hoxa3', 'ambp', 'umps', 'ybx2', 'mpp5', 'psma1', 'henmt1', 'chmp4a', 'kansl3', 'arhgap40', 'cd200r1', 'mcmbp', 'mt1b', 'crybb3', 'or10a6', 'atp9b', 'osm', 'setd6', 'pou2f2', 'cenpb', 'rnf169', 'msantd2', 'klhl12', 'dnah7', 'oxld1', 'efhd2', 'tmem245', 'ppp1r15a', 'ackr1', 'auh', 'c2cd2', 'zfp36l2', 'ccnb1', 'znf570', 'lrrc3', 'rmdn2', 'sipa1l2', 'htr3c', 'capn11', 'tmem89', 'col4a5', 'dcun1d2', 'wdr5', 'znf781', 'urm1', 'sult4a1', 'arl6ip1', 'anp32e', 'reg1b', 'btla', 'sult1a1', 'znf627', 'ncaph', 'casp14', 'itih2', 'znf514', 'n4bp2l2', 'gpr179', 'tnfaip8', 'spice1', 'crtc1', 'rgs22', 'psme2', 'capza3', 'has3', 'slc37a3', 'pbx1', 'or10a3', 'dclre1b', 'lrrtm1', 'cxcl1', 'fut7', 'rnf187', 'zfp14', 'cpsf6', 'gad1', 'pax8', 'tram1l1', 'adipoq', 'clec17a', 'slc12a3', 'znf606', 'mpz', 'znf714', 'ecd', 'sgk1', 'ccnd3', 'bmp1', 'egln3', 'sh3bp1', 'fut8', 'evc', 'rbm25', 'tgm2', 'col10a1', 'ccne2', 'lrfn4', 'hid1', 'immp2l', 'camkk2', 'dtx3', 'fam98c', 'tfap4', 'akap14', 'map3k3', 'gpatch3', 'ilf3', 'zc3h18', 'pitpnm1', 'npdc1', 'sobp', 'ttc17', 'mc3r', 'btbd17', 'smim18', 'gml', 'serp2', 'atp1b1', 'nifk', 'agps', 'agtr1', 'elmo3', 'cyp3a5', 'rnf6', 'ska1', 'nim1k', 'otud5', 'cfap20', 'itgb3bp', 'wdr45', 'ggt1', 's100a7a', 'ube2q1', 'selenoh', 'figla', 'or2m5', 'pcnx1', 'gstk1', 'fam189a1', 'hexim1', 'gbx1', 'exosc6', 'adm5', 'haus6', 'neurod2', 'coro1b', 'arhgef12', 'rev3l', 'rhot1', 'irgc', 'eif1ax', 'lyar', 'epb41l2', 'klf17', 'shoc2', 'pde6a', 'eif3i', 'tmem59l', 'map10', 'drosha', 'gprasp2', 'kiaa0895l', 'rbm18', 'crim1', 'ppp4r1', 'cryba2', 'dph7', 'pcdhb4', 'per3', 'cpsf4l', 's100pbp', 'fam180b', 'lum', 'tcp11l1', 'cox8a', 'hsp90b1', 'hamp', 'gimap5', 'slc35b2', 'plac1', 'tmppe', 'tm9sf4', 'atxn1', 'mlph', 'cyp24a1', 'casp8', 'zhx2', 'lpin2', 'bbs12', 'guca1b', 'ca8', 'nsun6', 'slc25a46', 'naa11', 'pcdhga6', 'emp3', 'suclg1', 'ppargc1a', 'atox1', 'ubl4b', 'f8a1', 'cfap74', 'rrnad1', 'cnrip1', 'hgd', 'c17orf113', 'kcne2', 'ubr2', 'gsc', 'slx4ip', 'nemp2', 'cox7a2', 'myeov', 'neto1', 'tmx2', 'sox21', 'hspa1b', 'znf169', 'ganab', 'necab3', 'spata45', 'ak8', 'micu3', 'cyp1a1', 'g6pd', 'pex7', 'or10k1', 'tas2r1', 'ccsap', 'nop56', 'pik3c2b', 'or2m4', 'dcaf11', 'slc35g5', 'tcl1b', 'mlst8', 'nod1', 'fat2', 'mrap2', 'txndc15', 'tatdn1', 'hrk', 'ephb2', 'nt5c1b', 'ktn1', 'znf804b', 'st6galnac2', 'serp1', 'znf18', 'hsd3b1', 'stx16', 'mccc2', 'psors1c2', 'slc22a14', 'dio2', 'heph', 'kalrn', 'st3gal5', 'usp42', 'defb125', 'pcsk9', 'rgmb', 'aspa', 'znf783', 'hspg2', 'smagp', 'commd1', 'dlx2', 'ahcy', 'kcnk13', 'c1qtnf9', 'uros', 'tsfm', 'dnajc28', 'spaca4', 'ndufs7', 'ccpg1', 'rab40b', 'rasgrp1', 'tdrd10', 'asmtl', 'eng', 'igbp1', 'mpl', 'grb10', 'gdi1', 'erlec1', 'oxr1', 'rpgrip1', 'rreb1', 'prdm8', 'klrg2', 'tal1', 'iws1', 'stat5a', 'kcnk6', 'alg5', 'ccr7', 'gcnt7', 'fmr1', 'irf5', 'dmac2', 'baz1a', 'srd5a1', 'slc39a7', 'fezf1', 'uevld', 'e4f1', 'cd36', 'fdxr', 'c5orf22', 'jmjd6', 'c11orf24', 'ndp', 'pdf', 'mpo', 'comt', 'tceal3', 'kif26a', 'armh4', 'dapk1', 'eif2b4', 'taf11l13', 'clcn4', 'commd8', 'ptx4', 'rce1', 'kdm8', 'dsc2', 'defb118', 'spanxb1', 'ppp2r1b', 'atg9b', 'sh3gl3', 'lsm12', 'foxb2', 'il2rb', 'egfl8', 'sec22b', 'ecm1', 'clvs2', 'paip2b', 'spsb3', 'cox5b', 'dusp12', 'rad51c', 'marco', 'nrtn', 'tln1', 'spred3', 'bid', 'srsf9', 'phrf1', 'arpc5', 'galnt16', 'adgre1', 'syne3', 'rfpl4a', 'c10orf105', 'lipc', 'trip4', 'serpini1', 'uaca', 'pp2d1', 'rhbdf2', 'dusp18', 'sptbn1', 'wdr45b', 'galnt6', 'lair2', 'lmbrd1', 'pou2f3', 'slco1a2', 'ccl1', 'r3hcc1l', 'adcy3', 'otp', 'pikfyve', 'eloa2', 'zdhhc18', 'wdr77', 'hsp90ab1', 'ssu72p8', 'hlcs', 'ppm1h', 'rnf39', 'mpv17l2', 'znf154', 'cdk11a', 'ddi1', 'anks4b', 'rrad', 'mlf2', 'rnf126', 'anapc10', 'hoxb3', 'tnks1bp1', 'il22ra1', 'or5k4', 'cd300lg', 'gsk3a', 'tceal5', 'steap1b', 'tp53bp2', 'or52b2', 'ube2i', 'stard5', 'prap1', 'paaf1', 'clec12b', 'dnajb12', 'tp73', 'zscan10', 'clcnka', 'smg5', 'or52w1', 'aplnr', 'or10ag1', 'ank3', 'cryl1', 'znf37a', 'epo', 'coro1c', 'ciart', 'rhbdl3', 'tenm4', 'vip', 'spata5l1', 'fgf11', 'spata31a6', 'sapcd2', 'fkbp9', 'tbc1d22b', 'egln1', 'dclk3', 'znf519', 'abhd5', 'tgm5', 'trank1', 'eys', 'ano10', 'susd1', 'gimap8', 'ctdspl2', 'epas1', 'elovl3', 'dlec1', 'gamt', 'slc40a1', 'slc26a2', 'ints8', 'cblc', 'hnrnpa3', 'rab39b', 'havcr2', 'or2s2', 'gmcl1', 'tmem272', 'kif4a', 'dnajb9', 'ltv1', 'adat2', 'kif12', 'tex33', 'frmd4a', 'or6c70', 'cnot4', 'znf211', 'cyp2j2', 'cd300a', 'ccdc110', 'cd5l', 'trim59', 'fezf2', 'serac1', 'e2f1', 'orc6', 'znf227', 'apoa1', 'arhgef35', 'cox10', 'wdr25', 'tram2', 'dmp1', 'syt8', 'c5', 'ikbke', 'trim29', 'irgm', 'tagln3', 'alkbh1', 'septin5', 'bend5', 'c15orf40', 'ro60', 'slc20a2', 'chrna5', 'cfap43', 'srcap', 'or1d2', 'xpo7', 'blid', 'npc1', 'caprin1', 'nfix', 'krtap19-7', 'skap1', 'myo1c', 'sgsm1', 'pdyn', 'trim8', 'nova2', 'tipin', 'glmn', 'grip2', 'amdhd2', 'serinc1', 'adgrg1', 'prrt2', 'angpt4', 'znf558', 'spag7', 'ltn1', 'asphd2', 'kirrel2', 'dsg3', 'szrd1', 'nudt10', 'fmc1', 'kcnj14', 'or4k14', 'sgo1', 'psmb6', 'pdk4', 'igf2bp3', 'gdf6', 'slc1a3', 'chrna2', 'anp32a', 'frk', 'gpalpp1', 'trnp1', 'cldn7', 'chd9', 'plk2', 'deptor', 'jakmip3', 'lrp10', 'znf843', 'acad8', 'bysl', 'cox7a2l', 'phtf2', 'dlk1', 'ucp1', 'cxcl3', 'twist2', 'fahd1', 'page4', 'tbc1d4', 'rgs16', 'ttbk1', 'gpld1', 'bmp4', 'phf24', 'c11orf87', 'cxcr5', 'c19orf44', 'btbd10', 'smpdl3a', 'gramd4', 'mfsd10', 'plac9', 'foxk2', 'gtdc1', 'ghdc', 'pik3r4', 'amph', 'arsg', 'qser1', 'lrrc31', 'sh2d2a', 'trim36', 'slc35f2', 'snrk', 'gatm', 'parp6', 'alpp', 'arid1b', 'cyb561', 'spc24', 'znf175', 'mmp23b', 'ccdc77', 'ulk2', 'cpa1', 'psmg3', 'dlgap4', 'fam91a1', 'parva', 'asb13', 'top2a', 'dkc1', 'sdad1', 'tmem158', 'glis3', 'rab11a', 'bpnt1', 'dmrt2', 'znf205', 'smg7', 'xg', 'egflam', 'mxi1', 'ccdc187', 'socs2', 'dnajc22', 'rusc2', 'atp6v1b2', 'tprkb', 'slc6a6', 'mapk10', 'ublcp1', 'lce1c', 'zscan5a', 'hsfx3', 'atl3', 'lilrb2', 'sdcbp', 'rfx8', 'ttc39c', 'ttc36', 'cdh8', 'plcb1', 'mtus1', 'arid4a', 'smad3', 'sardh', 'znf362', 'cep164', 'anxa1', 'ralgps1', 'frmd6', 'epyc', 'tbc1d22a', 'axin1', 'ulk3', 'mro', 'eya3', 'rnf14', 'inafm1', 'micu1', 'rfwd3', 'kansl2', 'aimp2', 'rabl3', 'alkal1', 'psmd13', 'cytl1', 'ttc28', 'sst', 'gsto1', 'pgm3', 'lyrm9', 'ms4a14', 'chchd2', 'exosc1', 'n4bp1', 'cabs1', 'plekhf2', 'ptprd', 'ccdc130', 'eif2ak4', 'samd15', 'aldh1l1', 'arhgap12', 'ntng1', 'tab2', 'aebp2', 'denr', 'sec14l4', 'slc25a43', 'znf486', 'trarg1', 'prr14l', 'kynu', 'atf5', 'cdk17', 'il4i1', 'dad1', 'bpifb6', 'azu1', 'zfp42', 'cab39l', 'fastkd2', 'tnks2', 'opa3', 'xirp2', 'sycp3', 'c14orf39', 'mospd2', 'pkd2l2', 'sgca', 'bnip2', 'c1galt1c1', 'c12orf66', 'pacsin2', 'tfdp3', 'aifm3', 'tnrc18', 'zbtb45', 'nid2', 'ppp1r14b', 'emcn', 'map2k1', 'stx1b', 'mpp2', 'mapre1', 'ints3', 'fam160a1', 'atg4a', 'xiap', 'slc51a', 'znf365', 'znf787', 'ppp1r3b', 'mrap', 'rapgefl1', 'spty2d1', 'mt-nd1', 'stag2', 'rad21', 'stc1', 'slc25a53', 'c3orf80', 'dnase2b', 'ece1', 'znf197', 'frg2c', 'npnt', 'cpvl', 'rrp12', 'npc2', 'med25', 'pir', 'mical1', 'antxr2', 'tlx3', 'jph4', 'ndufa10', 'acta2', 'ifi27', 'nbpf19', 'snx19', 'cpd', 'scin', 'samd12', 'chn1', 'epg5', 'vsig4', 'znf622', 'klk5', 'gabra5', 'get1', 'b9d1', 'c6orf47', 'ift81', 'znf830', 'dprx', 'mak', 'tsn', 'cluap1', 'plekhh3', 'ubxn2a', 'trim5', 'tmod3', 'sorcs2', 'lage3', 'prr20g', 'mlh3', 'shc3', 'ero1a', 'myl5', 'kiaa0513', 'ube4b', 'sox12', 'dok7', 'cd207', 'fam171a2', 'mark1', 'plcxd2', 'cyp3a4', 'thumpd2', 'papss1', 'mdga1', 'naxe', 'trim60', 'c1orf189', 'rab11fip1', 'tmem265', 'nrdc', 'gdap2', 'ap1s3', 'amot', 'ccdc33', 'krt27', 'ptger3', 'fgfr1op2', 'chp2', 'avpr1b', 'kri1', 'tnc', 'slc5a12', 'mcub', 'tasp1', 'radx', 'hinfp', 'eva1b', 'isoc2', 'slc50a1', 'ocm2', 'atp5f1c', 'c2orf76', 'kdm5a', 'sdhb', 'glyat', 'kdm2b', 'bmerb1', 'nod2', 'dgkh', 'klk12', 'cga', 'acsl3', 'obscn', 'pard6a', 'noc4l', 'exosc5', 'krtap20-4', 'syce3', 'actl6b', 'plet1', 'lsr', 'znf532', 'znf426', 'npvf', 'relt', 'msl1', 'usp27x', 'chd7', 'ctr9', 'stt3b', 'or56a3', 'asxl3', 'sdcbp2', 'ppp1r13b', 'txndc9', 'traf3ip3', 'gast', 'phex', 'adam28', 'gipc1', 'sumo3', 'spata6', 'gja1', 'rab11fip2', 'cryab', 'spsb1', 'gpatch4', 'ctnnb1', 'ugdh', 'nr1h3', 'vps36', 'kiss1r', 'mmd2', 'htr1e', 'cnn1', 'hes4', 'eomes', 'myl1', 'nit2', 'ccnh', 'kdm5b', 'lipa', 'epm2a', 'c7', 'specc1l', 'poldip3', 'gna14', 'fstl1', 'ehbp1l1', 'ripor3', 'znf76', 'hmx2', 'znf577', 'trub1', 'fads2', 'nxf3', 'lgr5', 'rhou', 'hsd17b11', 'baat', 'taar5', 'prkra', 'dnah12', 'slc25a51', 'ddhd1', 'cxorf58', 'tex50', 'cdca4', 'spdya', 'arpc1a', 'crybg1', 'lrrc8d', 'mllt3', 'spata3', 'caps', 'bola3', 'nxnl2', 'c9orf85', 'mlnr', 'gck', 'aff3', 'camk2n2', 'nob1', 'arl14ep', 'ankrd17', 'spaca3', 'fras1', 'mllt1', 'fscn3', 'c2cd3', 'dnajc18', 'nepro', 'irf2', 'tmem134', 'smim24', 'phkg1', 'nme5', 'fads3', 'oxct1', 'tlcd4', 'cel', 'taf11l6', 'ccl22', 'slc7a6os', 'znf682', 'bcl7a', 'chm', 'slc22a15', 'znf384', 'or2m7', 'c11orf65', 'rasgef1b', 'invs', 'aqp1', 'crem', 'nmnat3', 'usp36', 'apoc1', 'insl5', 'chi3l1', 'spem3', 'fam133a', 'znf674', 'gna12', 'chst12', 'wdr75', 'c9orf116', 'ndfip1', 'plb1', 'bpi', 'tff1', 'gba', 'hic2', 'plekhg5', 'fyttd1', 'dmrtc2', 'clec7a', 'pnma3', 'zbtb4', 'ppp3cb', 'znf565', 'cog3', 'dlx6', 'smim27', 'lrrc20', 'trim66', 'ephx3', 'sf3a3', 'znf181', 'pnma2', 'mall', 'ppp6r2', 'pla2r1', 'tbc1d24', 'brd1', 'ccdc134', 'hspa9', 'ap4e1', 'psma5', 'capsl', 'anapc11', 'fxyd6', 'uhrf1', 'dhrs1', 'bmp15', 'atf7ip', 'slc2a6', 'myo5a', 'ppm1m', 'reep6', 'phldb2', 'rab33b', 'dcp1b', 'tlcd3b', 'osgepl1', 'snip1', 'tmcc2', 'tbc1d5', 'prl', 'gpr61', 'pebp4', 'muc2', 'atad3b', 'calhm5', 'cradd', 'med24', 'fbxo42', 'trhde', 'rasgrf1', 'mto1', 'lmnb1', 'khk', 'aadacl2', 'ebf1', 'ube2d1', 'lcmt1', 'cyp2a6', 'mkrn2', 'afp', 'fgf2', 'cabp7', 'zbtb8b', 'vgll3', 'rp9', 'npipb2', 'phf12', 'znf106', 'pms1', 'fosl1', 'ddx51', 'heatr1', 'cenpn', 'fam9c', 'mgat2', 'slpi', 'plce1', 'pxmp2', 'gzmm', 'mmrn1', 'ceacam8', 'myrfl', 'bcl2l1', 'polr1e', 'mtfr2', 'bahcc1', 'tgm6', 'nek1', 'mmel1', 'ticam1', 'ccng2', 'pde8a', 'znf33b', 'txndc2', 'thbs4', 'cdc6', 'serhl2', 'pdcd6', 'trim64c', 'capn5', 'lrg1', 'leng9', 'hgh1', 'cpeb4', 'mlxip', 'cyb561d1', 'znf549', 'cyp4v2', 'usp2', 'map4', 'mcoln3', 'lmna', 'map2k4', 'muc6', 'ttc24', 'ctxnd2', 'arl13b', 'cryba4', 'gpr142', 'adcy2', 'rax', 'dnah3', 'stau1', 'fam133b', 'ldlr', 'cs', 'ryr1', 'c4orf45', 'tmem209', 'olfml2b', 'numb', 'ncf4', 'kpna4', 'arhgap36', 'erich4', 'cyp2u1', 'clpx', 'c9', 'gmppa', 'or51b5', 'chchd10', 'prkaa2', 'c1orf54', 'nvl', 'map3k21', 'ints2', 'bpifb4', 'aplp1', 'fmn2', 'dysf', 'ccdc169', 'banf1', 'lrrc2', 'cpeb2', 'pde8b', 'sbds', 'c3orf33', 'c14orf28', 'tango6', 'znf677', 'ccdc88a', 'entpd8', 'hccs', 'pudp', 'wdr89', 'rhbg', 'spata48', 'eid2', 'nudt1', 'ogdhl', 'dhx58', 'trim7', 'rcl1', 'gigyf2', 'gpm6b', 'ccdc122', 'znf22', 'micos10', 'lto1', 'srr', 'cxxc5', 'dync1li1', 'itgb1', 'ptgdr', 'gh1', 'alx3', 'pwp1', 'timm8a', 'api5', 'cpsf3', 'neil3', 'kcnab1', 'atp13a4', 'sqle', 'nphs2', 'taf10', 'gli1', 'ctss', 'c2orf16', 'trmt44', 'tlcd5', 'mtg1', 'bola1', 'plscr1', 'tnip1', 'nudt22', 'pum3', 'pja1', 'mphosph9', 'gata6', 'krba1', 'znf823', 'adgrl1', 'frmd3', 'prpf4b', 'fsip1', 'klhdc3', 'rbp7', 'pld5', 'cdk5rap3', 'ubxn8', 'phlda1', 'tmem25', 'ppp2r5c', 'rbm4b', 'cd109', 'armc7', 'tex37', 'akr1c3', 'slc35f6', 'kcnk17', 'sema4d', 'zdhhc7', 'wdr83', 'ncbp3', 'tmem102', 'dcaf4l1', 'ptpn7', 'gpx2', 'uqcr11', 'coa1', 'slc15a3', 'nlrp8', 'znf625', 'tbc1d9b', 'lnpk', 'tnp2', 'twist1', 'krtap16-1', 'znf836', 'pnldc1', 'zcchc24', 'smc1a', 'znf497', 'magec3', 'p2rx2', 'pten', 'fpr1', 'znf524', 'atad5', 'pcf11', 'prr23a', 'cidea', 'sort1', 'smug1', 'pcp2', 'c20orf194', 'cdc14a', 'clpp', 'dtx3l', 'fmnl3', 'znf552', 'fam160a2', 'kif21b', 'fam149a', 'vipr2', 'efcab13', 'efnb2', 'nans', 'tmem200c', 'itga11', 'thbs1', 'cmss1', 'ecm2', 'amfr', 'dpep1', 'tchh', 'git1', 'krt5', 'six2', 'fanci', 'mrgprg', 'btbd1', 'c11orf68', 'ppp1r1a', 'timmdc1', 'zdhhc1', 'cers3', 'mbd3l2b', 'rbl1', 'tmem161b', 'tspan11', 'slc26a4', 'kiaa0753', 'crb2', 'slit1', 'insl3', 'mef2a', 'kif13a', 'galnt7', 'fam229a', 'smpd4', 'cnst', 'erh', 'msi2', 'rasal3', 'pex5', 'fcf1', 'dennd4a', 'cfap410', 'ca5b', 'rsph6a', 'brinp1', 'sez6l2', 'st8sia1', 'nr4a2', 'sec16b', 'scn2b', 'klrf1', 'fads1', 'bcar1', 'znf534', 'mapk7', 'bex1', 'stambp', 'znf852', 'bloc1s2', 'hkdc1', 'atp8b3', 'c7orf31', 'ap1ar', 'maged2', 'znf33a', 'best1', 'slc19a1', 'tdo2', 'lin28b', 'cdk12', 'elof1', 'kif18b', 'adgre3', 'gstt2b', 'klf3', 'tp53i3', 'slc4a4', 'aldh4a1', 'dtd2', 'sgta', 'fkbp8', 'znf827', 'dnajc7', 'plcb2', 'or1b1', 'rpp14', 'pik3cb', 's100p', 'btn2a1', 'gpkow', 'cby3', 'or13a1', 'mgam2', 'fuca2', 'plin1', 'pcca', 'duoxa2', 'fgf22', 'wbp1', 'cpne1', 'c22orf15', 'lrrc74b', 'klhl11', 'ndufb10', 'vsir', 'tmigd3', 'fam162b', 'snx13', 'tyw1b', 'znf250', 'or56a4', 'or4a16', 'pdik1l', 'mthfs', 'anxa3', 'cacnb1', 'tmem145', 'cp', 'slc4a8', 'sdsl', 'dennd5a', 'utf1', 'mllt10', 's100a5', 'fam83f', 'cerkl', 'sprn', 'map1b', 'rec114', 'gprc5b', 'bzw2', 'ntmt1', 'pnpla8', 'sf3b6', 'vsig10', 'rbms3', 'trappc6b', 'trim35', 'slc1a2', 'c5orf58', 'asxl1', 'gnb5', 'hagh', 'sprr2g', 'cryzl1', 'atoh8', 'fastk', 'sptbn5', 'or51e2', 'pbx2', 'idh3b', 'plbd2', 'erbin', 'asnsd1', 'golga7', 'spsb2', 'rpusd1', 'dnttip1', 'oosp3', 'c12orf57', 'clk1', 'trpt1', 'kcnk2', 'cybrd1', 'nudcd3', 'plcl1', 'zfp1', 'tbc1d2b', 'tent5d', 'ddit4l', 'ncoa7', 'tmem150a', 'sh2d7', 'nup58', 'cd52', 'ppip5k2', 'ccdc142', 'akr1b1', 'zbed2', 'tubb8', 'mt1e', 'corin', 'grk6', 'lrrc17', 'tm4sf4', 'cd276', 'adcy7', 'spata20', 'ap2m1', 'parg', 'yju2', 'dnmt3b', 'nr1d2', 'or10x1', 'nat9', 'cacng4', 'shc4', 'ly6d', 'apba2', 'gzmh', 'cstf2t', 'npy1r', 'wdr5b', 'trmt12', 'colgalt2', 'tmem39a', 'tbl3', 'exosc9', 'plekho2', 'xylt2', 'fam76a', 'adamtsl3', 'sirpd', 'arf5', 'tcn2', 'lman2l', 'wdtc1', 'pigc', 'eppk1', 'klk9', 'apom', 'ildr2', 'srsf1', 'leng1', 'dsg4', 'adra2c', 'gdf15', 'trappc8', 'nup107', 'apex2', 'carmil3', 'ppp4r2', 'ppp4r3b', 'tasor', 'tex10', 'pkig', 'bcap31', 'scygr4', 'or7a5', 'ccdc102a', 'ptgir', 'nkap', 'nfkbib', 'ventx', 'rfk', 'trim34', 'mad2l1bp', 'megf10', 'spib', 'bpifb2', 'aars2', 'adal', 'ace2', 'ccser2', 'tns3', 'actr3', 'or2m2', 'fbn2', 'mbd3', 'mtmr11', 'raver1', 'dok5', 'bmp10', 'cd300ld', 'msh3', 'c9orf131', 'dglucy', 'osbpl6', 'glp1r', 'dhx30', 'eid3', 'oc90', 'add2', 'lyplal1', 'htra2', 'npm2', 'lhfpl4', 'tor4a', 'nbdy', 'cldn4', 'noxo1', 'znf316', 'gzmb', 'sirt2', 'arsd', 'tfip11', 'cetn3', 'pdp1', 'ccdc3', 'mdn1', 'tmem87a', 'znf74', 'or5an1', 'wnt6', 'rbp1', 'vtn', 'gsdma', 'znf724', 'baiap2l2', 'zic4', 'eral1', 'mapkapk2', 'sf3b4', 'aoah', 'prr14', 'dnajb1', 'hacd2', 'polr3f', 'lhcgr', 'marveld3', 'sass6', 'slc2a14', 'gtf2h4', 'tbc1d12', 'ror2', 'nhlh1', 'ctdspl', 'ankrd63', 'slc22a3', 'stk11', 'bod1', 'tmem82', 'klf15', 'itgad', 'nhlh2', 'ccdc17', 'muc12', 'ube2o', 'pcdhga3', 'sp1', 'kcnn2', 'anxa8', 'ranbp17', 'epb41l4a', 'elmo1', 'prkag2', 'ndrg4', 'dimt1', 'naa60', 'eipr1', 'glt8d1', 'cd33', 'pld2', 'ksr1', 'rnaseh1', 'aard', 'avpr2', 'dhfr', 'nmd3', 'fndc5', 'stum', 'ccdc120', 'sar1b', 'c8a', 'rela', 'tmem44', 'adcy4', 'xbp1', 'magea11', 'taz', 'got1l1', 'mib2', 'vkorc1l1', 'or6b2', 'ptar1', 'mob3a', 'cmya5', 'smim14', 'pcdha11', 'kctd6', 'bud23', 'iqca1l', 'or8b12', 'ppcs', 'tacr2', 'epb41l3', 'klk10', 'erich1', 'glyatl1', 'tgoln2', 'prss45p', 'pex11g', 'tceanc', 'ralgapa2', 'galnt10', 'sulf1', 'pyhin1', 'igfbpl1', 'zadh2', 'cd8a', 'dcaf12', 'sybu', 'dpp6', 'teddm1', 'notch1', 'gpr85', 'vps37d', 'atg10', 'selenbp1', 'srsf3', 'rbm20', 'lamp1', 'nxph3', 'helq', 'catsperz', 'apcdd1l', 'trim50', 'znf771', 'eml4', 'gimd1', 'lrrc43', 'snu13', 'smim9', 'ctse', 'pla2g2c', 'ttc37', 'psmg4', 'chadl', 'zmynd10', 'ccna2', 'nktr', 'rexo4', 'lig4', 'purb', 'spink4', 'zc3h12c', 'ifna8', 'septin12', 'sox18', 'heg1', 'slc17a3', 'gstm3', 'klrk1', 'tusc2', 'st6galnac3', 'pdhb', 'junb', 'upk1a', 'loxl1', 'bpgm', 'dlc1', 'xpr1', 'hmsd', 'scgn', 'neurod1', 'or5au1', 'bcap29', 'plaat2', 'znf480', 'ranbp6', 'pla2g2d', 'dusp7', 'samd3', 'twsg1', 'jak1', 'il27ra', 'znf69', 'aasdhppt', 'ube2a', 'pak2', 'zc2hc1c', 'stx5', 'rspo4', 'plxnc1', 'ubash3b', 'dhx57', 'ribc1', 'grk4', 'tceal8', 'marf1', 'cfap47', 'tsen54', 'hps5', 'bcar3', 'mmp25', 'cux2', 'slc16a1', 'tmem120a', 'helb', 'elk4', 'tbccd1', 'hmga2', 'sgtb', 'snrpa1', 'dhx33', 'hoxb7', 'obp2a', 'fam89b', 'ahctf1', 'celsr3', 'stk10', 'oprpn', 'or2m3', 'kat5', 'axin2', 'usp26', 'znf732', 'toe1', 'kcna4', 'fbxw8', 'lman1l', 'aip', 'slc47a1', 'tap1', 'sys1', 'xab2', 'tmem177', 'gsta4', 'chd1', 'pla2g3', 'lsm1', 'sult2b1', 'usp49', 'depdc7', 'taf9b', 'vnn3', 'ano9', 'znf516', 'cep192', 'vnn2', 'riok1', 'il24', 'fuz', 'repin1', 'plcz1', 'alkbh5', 'hnrnpll', 'slc44a2', 'slc7a4', 'sgce', 'iqub', 'mybl2', 'rnf19a', 'pramef10', 'tdrd15', 'zscan9', 'ddias', 'chdh', 'nup210l', 'znf391', 'jhy', 'nfkbid', 'snx2', 'sox10', 'josd1', 'metap2', 'noct', 'setmar', 'churc1', 'fam155b', 'zscan21', 'slc35g2', 'slc17a2', 'znf140', 'clip3', 'gnaz', 'or56b1', 'cyb5r4', 'cyp27c1', 'kiaa0825', 'krtap1-5', 'rad23a', 'stac2', 'or52k2', 'cmtm6', 'stx19', 'cntnap4', 'crx', 'cdkl5', 'disp3', 'asb1', 'pgp', 'aga', 'sppl3', 'rsph14', 'lamp2', 'zbtb38', 'olfm1', 'znf462', 'rabgap1', 'ubc', 'agpat4', 'nin', 'ppard', 'c9orf40', 'gnpda2', 'pyroxd2', 'lhx2', 'gemin8', 'hs6st1', 'idua', 'tspan8', 'pradc1', 'coprs', 'clec6a', 'sh3bp2', 'septin7', 'b3galnt1', 'ripor2', 'angptl5', 'usp20', 'trmt10a', 'fam81b', 'znf780b', 'qtrt1', 'c1qtnf8', 'megf8', 'ttll6', 'rasa1', 'rpn1', 'nfe2l1', 'mei1', 'barhl1', 'rnf130', 'smim19', 'trps1', 'inafm2', 'znf578', 'slc16a8', 'il18bp', 'ldah', 'c14orf180', 'cwc27', 'tnni1', 'pcdh7', 'fbxw2', 'sln', 'cavin1', 'cyp46a1', 'tnn', 'naalad2', 'b3galt6', 'cthrc1', 'rasa3', 'rae1', 'il1rapl1', 'fsip2', 'krt10', 'fam228a', 'dhrs2', 'gtpbp6', 'duoxa1', 'entpd3', 'znf101', 'camp', 'atxn7l2', 'prdx1', 'etfa', 'dgke', 'awat2', 'pdcd7', 'exoc6b', 'blm', 'cpxm1', 'dpyd', 'dock10', 'sncg', 'ip6k3', 'shh', 'mapkbp1', 'tm4sf1', 'kcnn1', 'kctd17', 'odam', 'znf772', 'rcvrn', 'prkaca', 'c1galt1', 'hscb', 'rbm38', 'upb1', 'heyl', 'rimbp3b', 'fhdc1', 'wfikkn1', 'babam1', 'psrc1', 'fastkd3', 'c11orf91', 'c2orf73', 'gipc2', 'ryr3', 'or4d1', 'cdkl2', 'mab21l1', 'wnt2b', 'dock3', 'picalm', 'cdkl1', 'gsta3', 'tmem39b', 'f11r', 'lhfpl3', 'rcn3', 'c1s', 'atp2b2', 'rad21l1', 'plaat1', 'nrg1', 'ppat', 'timm29', 'brk1', 'lrrc10b', 'capns2', 'mfn2', 'uncx', 'fitm2', 'adirf', 'bfsp2', 'dpagt1', 'daam2', 'ppp1cb', 'zyg11a', 'ywhaq', 'atrnl1', 'trmt13', 'asap2', 'or51d1', 'capn8', 'tas2r9', 'ciapin1', 'dffb', 'ano1', 'tmem275', 'pcdhgc3', 'ucn3', 'keap1', 'krtap19-4', 'gnb4', 'mpc2', 'ercc6l2', 'rab27b', 'lyrm7', 'ywhab', 'surf2', 'bcl2l15', 'actr2', 'c6orf52', 'stk38', 'cnot2', 'crocc2', 'pxdnl', 'dpysl2', 'actn1', 'zfx', 'nek2', 'nyap2', 'kif21a', 'rprd1a', 'wdr4', 'c4orf3', 'pot1', 'sgk3', 's1pr5', 'mef2c', 'ankrd18a', 'mzf1', 'cc2d1b', 'uhrf2', 'cd37', 'vrk2', 'smoc1', 'galr2', 'cdc25c', 'fzd10', 'gucy2c', 'ddx23', 'rflnb', 'pgm5', 'lgi4', 'nbeal2', 'c8g', 'f12', 'pigu', 'dcdc2', 'pik3r3', 'kcnk3', 'cpne6', 'ankfn1', 'znf579', 'tmem97', 'mre11', 'htr1f', 'foxp4', 'ddx43', 'asah2', 'asprv1', 'hoxa5', 'or2l3', 'usp17l3', 'a1cf', 'pnliprp1', 'ncf2', 'clic6', 'stx3', 'polr3g', 'map3k9', 'safb2', 'treh', 'gnb1l', 'eef1akmt3', 'spg7', 'mesp2', 'grm2', 'lrif1', 'sox4', 'pou2af1', 'mtmr10', 'fbn3', 'kcnq4', 'cpsf2', 'znf791', 'tfpt', 'evpl', 'dym', 'or4f21', 'pagr1', 'col3a1', 'znf735', 'crb3', 'hps4', 'pla2g12b', 'p2rx5', 'nfkbiz', 'chrna10', 'or52j3', 'rspry1', 'slc48a1', 'slc30a10', 'art3', 'dynlrb2', 'syncrip', 'arrdc4', 'lemd3', 'pabpc4l', 'dennd5b', 'cemp1', 'taf1a', 'dgat2l6', 'dhx8', 'morn2', 'pdpr', 'sfxn3', 'zc3h7b', 'lrrc7', 'galm', 'znf333', 'spata22', 'homez', 'ankrd13a', 'lta', 'efcab11', 'zdhhc19', 'dstyk', 'mdfic2', 'poll', 'cysltr2', 'hspb2', 'tmco2', 'acsm6', 'nck2', 'cemip2', 'zim3', 'or13c5', 'cabcoco1', 'gpr17', 'rab5b', 'atp8b4', 'slc25a25', 'c12orf73', 'btnl3', 'prph', 'fcer1a', 'hipk1', 'c13orf46', 'cdcp1', 'fgf14', 'f2', 'ddx60', 'ptprs', 'thap7', 'dlg3', 'bag2', 'dld', 'dhrs7', 'klhl35', 'kdsr', 'them5', 'pik3cg', 'runx1t1', 'depdc1', 'sertad3', 'mapk13', 'cyp4x1', 'triml1', 'pcdhga12', 'atg16l2', 'sprr3', 'rapgef6', 'znf90', 'cplane2', 'mbnl1', 'tsc2', 'zap70', 'pigv', 'trpm8', 'rgs14', 'znf251', 'arl11', 'ctnnd1', 'nfs1', 'angel2', 'tmod2', 'stac', 'tmem130', 'clk3', 'tor1aip1', 'nedd8', 'tiprl', 'eapp', 'actr8', 'ankrd61', 'ramp3', 'loxl4', 'arf3', 'mex3b', 'epha3', 'lrrn4cl', 'mier3', 'pole4', 'cops8', 'ddb1', 'sgk2', 'rnf114', 'fam241b', 'or1g1', 'lcat', 'aco2', 'hes5', 'fam90a26', 'gclc', 'ywhag', 'atf7ip2', 'cphxl', 'slc66a2', 'cul4b', 'fastkd1', 'or8k5', 'gpr31', 'hao2', 'gpr173', 'tacstd2', 'edem3', 'ccdc180', 'saal1', 'rad50', 'fyb2', 'fam167b', 'cldn6', 'rnft1', 'myl9', 'adcy8', 'haus2', 'zbtb33', 'defb113', 'zfand4', 'znf345', 'cdkn2d', 'sf3b3', 'nol8', 'lgals14', 'cd177', 'b3gnt7', 'cdk9', 'fbxl20', 'nap1l4', 'foxe1', 'lrfn5', 'dsn1', 'gsg1l2', 'bst2', 'mt1h', 'prrt4', 'ndufa12', 'pfkfb1', 'pdlim3', 'bmf', 'lep', 'elmo2', 'prom2', 'jazf1', 'sftpd', 'fibin', 'cntn5', 'gdf5', 'gpat3', 'htatsf1', 'htr3e', 'dmxl1', 'dlgap5', 'gtf2e1', 'adh5', 'timeless', 'gpa33', 'ccnd2', 'farp1', 'dzip3', 'znf419', 'tom1l1', 'adgrg2', 'cnep1r1', 'acyp2', 'dhrs4', 'tecrl', 'nubpl', 'paip2', 'znf71', 'alkbh3', 'or5b21', 'hspbp1', 'syce1l', 'pex11b', 'gosr2', 'ucn2', 'scd5', 'mb', 'lhfpl2', 'selenot', 'ism2', 'ndufb2', 'arhgap45', 'ripply3', 'krt14', 'ccno', 'dhrs3', 'madd', 'nudt15', 'hivep2', 'slc26a9', 'slc29a2', 'lrriq3', 'fkbp10', 'tacc2', 'sh3bp5', 'pax6', 'adam10', 'npipb15', 'wls', 'galntl5', 'pifo', 'adam23', 'mmrn2', 'harbi1', 'medag', 'plac8l1', 'c5orf52', 'slc17a5', 'rtcb', 'col6a6', 'hoxc9', 'inhbb', 'arhgap10', 'tex43', 'abhd15', 'tmem14b', 'adig', 'gtf2e2', 'fat1', 'lgals8', 'pdgfc', 'pkp2', 'fam161a', 'mon2', 'ptprz1', 'igfl2', 'defa6', 'ubr7', 'maoa', 'dock11', 'eif3g', 'def6', 'ppp4r4', 'tagln', 'zscan16', 'abra', 'ccdc51', 'lrrc61', 'pced1b', 'ankrd6', 'rsad1', 'snrpb2', 'abhd8', 'ampd2', 'dph2', 'bsdc1', 'mtbp', 'c1orf167', 'ust', 'cklf', 'itln2', 'u2surp', 'bdkrb2', 'srrm5', 'ybey', 'cnih4', 'znf467', 'tbx22', 'mtmr6', 'asf1a', 'dhrs12', 'il36a', 'kif2b', 'eif2s3', 'btbd8', 'bub3', 'snx1', 'tmem164', 'dzip1l', 'cyth2', 'rab14', 'nudt21', 'gimap6', 'sorbs1', 'qrfpr', 'rapgef4', 'pip4p2', 'krt34', 'fcgr2b', 'pdzk1ip1', 'ddhd2', 'plcd4', 'daw1', 'cdh13', 'ccne1', 'khdc4', 'nipal1', 'ralgds', 'aoc1', 'tapbp', 'spesp1', 'irf2bp1', 'wdr70', 'ciao2b', 'atg16l1', 'urb1', 'faah', 'cox7b2', 'vwa3b', 'psmg2', 'tmem135', 'zbtb7a', 'slc25a1', 'hmx1', 'inpp5d', 'zbtb26', 'mtap', 'fam200a', 'pgghg', 'mesp1', 'gpr33', 'polr3e', 'b3gnt5', 'or6q1', 'clec4e', 'klrd1', 'avpr1a', 'bsx', 'calm3', 'or10g8', 'msh6', 'gnly', 'hoxd3', 'lrrcc1', 'slc22a6', 'phyhip', 'fance', 'selenos', 'thop1', 'hddc2', 'pla2g4c', 'rnaseh2c', 'c1orf74', 'aar2', 'selenom', 'efna3', 'fbxo21', 'tomm70', 'tedc1', 'dpcd', 'barx2', 'rpn2', 'golga6l2', 'grm5', 'mmp28', 'kantr', 'abca6', 'hnrnpa2b1', 'egr2', 'or4k17', 'acsbg1', 'clec16a', 'ruvbl2', 'or51a7', 'haghl', 'zbbx', 'col18a1', 'dnajb13', 'mettl21c', 'klhl7', 'trem2', 'lmo1', 'fam222b', 'galnt2', 'sema4f', 'hr', 'znf234', 'cenpx', 'fzd8', 'mapk1', 'moap1', 'stk40', 'dus1l', 'krtap29-1', 'ginm1', 'tlr7', 'gabrr2', 'plekha3', 'plrg1', 'colec10', 'pkd2l1', 'hdac8', 'gpr12', 'nid1', 'bmp2k', 'ahrr', 'ccdc163', 'polr2i', 'yipf6', 'tm9sf2', 'wfdc6', 'fam151a', 'trmt61b', 'tgm4', 'pi4kb', 'thbs2', 'vps4b', 'znf317', 'wdr62', 'bckdha', 'rasl10a', 'bex5', 'or6p1', 'ift27', 'dnase1l1', 'arfgef3', 'mnat1', 'stard7', 'znf275', 'fam104b', 'cdc23', 'actn3', 'fdx2', 'agtr2', 'samm50', 'mgat4c', 'ect2l', 'znf438', 'rora', 'ube2g1', 'limk2', 'lrit1', 'mettl2a', 'zcchc13', 'brd7', 'vps45', 'c10orf143', 'shq1', 'noc3l', 'dph6', 'ahsa1', 'aff4', 'zer1', 'cbx8', 'dhx29', 'kmt2b', 'faxdc2', 'card18', 'or4k1', 'ivd', 'wdr31', 'znf322', 'psmd4', 'mad1l1', 'fgf9', 'p2ry13', 'bcl2l10', 'magea4', 'tex35', 'smim13', 'timm23', 'cdadc1', 'gripap1', 'llgl2', 'c1orf174', 'ccdc184', 'itih5', 'gprasp1', 'ropn1l', 'mms22l', 'dnajc24', 'natd1', 'hpf1', 'zg16b', 'idi2', 'sapcd1', 'emp2', 'dnase1l3', 'lrrc69', 'fbp1', 'zswim1', 'gjb1', 'c5orf34', 'slc22a10', 'cgas', 'prdx5', 'znf581', 'abcg8', 'trim32', 'akip1', 'pick1', 'tspyl2', 'spam1', 'snapc1', 'pla2g10', 'cbarp', 'tppp3', 'drp2', 'ppef1', 'arhgap30', 'synrg', 'cdc42ep5', 'slc22a9', 'ess2', 'cep83', 'znf2', 'hyal1', 'cpb1', 'pidd1', 'plaa', 'klc4', 'fam160b2', 'grk2', 'map3k12', 'clip1', 'cxcr1', 'usp4', 'got1', 'ucp3', 'farp2', 'rsf1', 'mpp3', 'sycn', 'igsf8', 'c5ar2', 'znf160', 'map2k3', 'kcnj10', 'st6gal2', 'pgf', 'stx4', 'krtap13-1', 'atp2b1', 'siglec8', 'ier3ip1', 'mbp', 'zfp64', 'trpc4', 'wnt10b', 'fam13a', 'kcnh2', 'klhl26', 'acy1', 'net1', 'cant1', 'hsfx4', 'mlx', 'csnk2a2', 'fdft1', 'sorbs3', 'ndufaf4', 'klhl25', 'morc3', 'elmod2', 'nphp3', 'tgfbr1', 'pou2f1', 'lrrn3', 'dock1', 'fbxo16', 'stx8', 'arhgap25', 'sec31b', 'rnf145', 'ubb', 'iqcf1', 'gp1bb', 'ahsg', 'c7orf61', 'znf510', 'sfmbt2', 'lzts3', 'nae1', 'cdh26', 'map4k1', 'mdm1', 'stat5b', 'tubgcp5', 'amigo2', 'maf', 'bmp8a', 'vill', 'rapgef5', 'lamb2', 'parp8', 'fam81a', 'mcrs1', 'rack1', 'itpkc', 'cdipt', 'fam162a', 'spin2b', 'fam168b', 'or2j2', 'hsd17b6', 'tram1', 'adra2a', 'ankrd52', 'alpk2', 'ppp1r14a', 'phf19', 'sox9', 'slamf1', 'kifc3', 'arl6ip5', 'numa1', 'espn', 'engase', 'fhl2', 'nfasc', 'cd99l2', 'gkap1', 'supv3l1', 'atr', 'vcpip1', 'clic2', 'cryga', 'c5orf51', 'trnt1', 'p4ha3', 'znf512b', 'gadl1', 'cul3', 'pnpla2', 'or10z1', 'sirpb1', 'sptlc2', 'cic', 'ykt6', 'pex12', 'ece2', 'otx2', 'trappc3l', 'zp2', 'capns1', 'or5b2', 'abhd16b', 'lgals1', 'sfr1', 'sim1', 'shisa2', 'c16orf72', 'acan', 'ppp1r35', 'bloc1s1', 'ngb', 'gtf3a', 'or2i1p', 'tacc1', 'rab10', 'crh', 'sugct', 'acsl1', 'eef1e1', 'ido1', 'fanca', 'atp6v1a', 'otulin', 'tefm', 'pcdh17', 'rtl8a', 'hcfc2', 'vgll1', 'kctd2', 'tmem65', 'acsbg2', 'mt1a', 'tasor2', 'kmt2e', 'copz1', 'znf705a', 'pttg1', 'cep170', 'kif25', 'bend3', 'nipa1', 'il20', 'rbpms2', 'slc27a3', 'prr29', 'nedd1', 'tnks', 'cdkn1c', 'cxcl17', 'rims3', 'tagln2', 'calca', 'gdf3', 'hps3', 'slco6a1', 'pcyox1l', 'irak3', 'bcl2a1', 'asb12', 'znf610', 'igsf5', 'tuba1a', 'scamp3', 'ndufaf2', 'rnf44', 'bin2', 'syn2', 'sesn1', 'fam111a', 'or1s1', 'ncr3', 'ccnb2', 'folr2', 'magef1', 'vangl2', 'uqcrc1', 'lrrd1', 'nos2', 'nlgn2', 'fgfbp2', 'krtap17-1', 'psmb10', 'med10', 'hibadh', 'ciz1', 'bean1', 'ankrd40cl', 'evl', 'znf569', 'gdpd5', 'krt23', 'mfap4', 'mettl5', 'dck', 'gpha2', 'tfap2b', 'mllt6', 'cpox', 'eif4a1', 'wnt11', 'prg3', 'atp2c1', 'slc39a12', 'aldh6a1', 'znf780a', 'tcf15', 'ttc39a', 'ing5', 'parp15', 'pole3', 'm6pr', 'wnt9a', 'or5m10', 'fbrs', 'moxd1', 'dnajc21', 'npepps', 'pga5', 'epc2', 'cdh15', 'ccl7', 'acot9', 'snx30', 'phactr3', 'ankrd29', 'tyrobp', 'sipa1l1', 'commd3', 'dtx4', 'znf684', 'mbtd1', 'znf782', 'il11', 'utp20', 'chuk', 'slc12a1', 'bnipl', 'cox6a2', 'tomm7', 'or4c16', 'clybl', 'pdc', 'dusp2', 'ablim2', 'reck', 'ppfibp1', 'slc39a2', 'smad4', 'atf1', 'ankrd60', 'rpusd2', 'tmem98', 'ppt1', 'pirt', 'pcmtd2', 'ppp1r13l', 'tor1aip2', 'inhbe', 'limd1', 'fev', 'tspan14', 'map3k2', 'cabp5', 'znf117', 'senp7', 'kyat3', 'znf774', 'uba6', 'il26', 'ccl18', 'tmx1', 'ctps1', 'cirbp', 'prdm6', 'tnnc2', 'tmem244', 'aaas', 'golm1', 'adar', 'pabpc3', 'gne', 'nr2e3', 'klhl2', 'klhl4', 'arntl2', 'myh15', 'shprh', 'defa3', 'septin14', 'map2k5', 'lamtor1', 'rb1', 'lsm10', 'tpsg1', 'znf728', 'scn1b', 'znf652', 'amy2a', 'frmd5', 'lilrb4', 'znf217', 'pcsk1', 'or4k2', 'fam177a1', 'lemd2', 'naa80', 'mrrf', 'macrod2', 'nt5e', 'ubr4', 'nfrkb', 'otop3', 'gkn2', 'dync2li1', 'cert1', 'nxpe1', 'evi5l', 'pnoc', 'catsper2', 'mmp17', 'phc2', 'znf354c', 'amhr2', 'ift52', 'tnfaip8l1', 'tgfbi', 'c6', 'ly75', 'usp37', 'shisal2b', 'c3orf49', 'hdac6', 'hbs1l', 'dcaf16', 'prorp', 'tax1bp1', 'camsap1', 'ptpro', 'rab3ip', 'syt6', 'rnps1', 'b3glct', 'rnase1', 'slc8a1', 'lin7b', 'dennd6b', 'golgb1', 'znf347', 'or8d4', 'cdhr4', 'mov10', 'sumf1', 'slc22a18', 'enah', 'slc17a4', 'fzd5', 'efna1', 'serpinf1', 'arl16', 'nfat5', 'mtr', 'spire1', 'spsb4', 'sec23a', 'slc26a6', 'potem', 'igsf11', 'or7g2', 'sart3', 'adprh', 'ablim1', 'sdf2', 'mecr', 'rgs4', 'apobr', 'skap2', 'sema7a', 'cbx4', 'rbm39', 'lbr', 'slc5a7', 'top1', 'rnft2', 'errfi1', 'clock', 'kcnc4', 'klhl33', 'il1rapl2', 'nadk', 'ipo9', 'serinc5', 'aatf', 'sp4', 'pold2', 'cdc42bpb', 'grk3', 'lias', 'cpt1a', 'paf1', 'kctd14', 'rnf26', 'pfdn4', 'spata31d1', 'armcx6', 'ubxn10', 'cox18', 'doc2a', 'rbak', 'scnn1a', 'mettl15', 'tbc1d10a', 'rffl', 'kcnt1', 'aqp11', 'bag1', 'gpatch8', 'plod2', 'tmem259', 'rab35', 'ephb1', 'spag1', 's1pr2', 'ydjc', 'depdc4', 'mrtfb', 'dipk2a', 'lmo3', 'fbxo15', 'ccdc38', 'eps8', 'prdm16', 'nthl1', 'c1orf198', 'dnhd1', 'adra1d', 'prelid3b', 'ddx56', 'taf11l4', 'nfe2l3', 'dnah1', 'csrp2', 'rbfa', 'erp44', 'ak6', 'glipr2', 'tmem101', 'cog8', 'ghr', 'aqp7', 'fermt3', 'dis3l', 'or3a1', 'irf4', 'ipo8', 'bsg', 'acsm3', 'cpa5', 'cd200', 'pigf', 'larp1b', 'ndufa4', 'dhrs7c', 'apol6', 'tbl2', 'kiz', 'znf282', 'ulbp3', 'cdh6', 'rcbtb2', 'tmprss11d', 'cavin2', 'nova1', 'cntnap5', 'dhx32', 'ccdc71l', 'plekhn1', 'enox1', 'rrs1', 'sec23ip', 'syt7', 'ccdc154', 'mageb1', 'slc5a3', 'scgb3a2', 'ndc80', 'rpusd3', 'opn5', 'glyatl2', 'usp35', 'nek7', 'tgfb1i1', 'actr3b', 'kcnc1', 'manf', 'lamb1', 'krt86', 'zc3h14', 'pcdh9', 'ddx19a', 'krtap10-3', 'zic1', 'stap2', 'psg3', 'jag1', 'tbx3', 'shpk', 'ankrd55', 'mybl1', 'anpep', 'tlx2', 'sntb1', 'ppp2r2b', 'mcrip2', 'tpd52l2', 'meltf', 'knstrn', 'znf547', 'rfxank', 'or2aj1', 'lsamp', 'acss1', 'amacr', 'c2orf50', 'rarb', 'pla2g12a', 'slc22a18as', 'slc1a6', 'trpc5', 'slc9a6', 'fam71a', 'fgd4', 'dzank1', 'porcn', 'cidec', 'trpa1', 'ccnyl1', 'dlg2', 'slc25a21', 'ttc39b', 'il2ra', 'iffo2', 'snap91', 'tas2r42', 'golga8b', 'prrg2', 'agrn', 'znf337', 'clcc1', 'defb134', 'gfpt1', 'vkorc1', 'nemf', 'nckap1l', 'scg2', 'cacng2', 'nup133', 'smarcc1', 'ell2', 'scarf2', 'or2y1', 'pcdhga8', 'mob3c', 'shisa7', 'nmrk2', 'glrx', 'ankrd54', 'taf2', 'ptger1', 'slitrk5', 'rbp5', 'jph1', 'maml2', 'alpk1', 'bri3', 'mdga2', 'nell2', 'hoxd8', 'or8j1', 'pcp4', 'cited2', 'adh1a', 'fam166c', 'cntln', 'srm', 'n4bp2', 'p2ry10', 'kcnmb3', 'arf4', 'arr3', 'hus1b', 'smim30', 'st6galnac5', 'prss57', 'znf707', 'hip1r', 'c1orf216', 'cacna2d3', 'insl6', 'gng7', 'naa25', 'msln', 'vegfb', 'dnah9', 'nrep', 'fam32a', 'oit3', 'herc3', 'znf433', 'lsm14b', 'tsnare1', 'apba1', 'fmo1', 'vit', 'nkx3-2', 'srxn1', 'etv3l', 'appl2', 'fam78a', 'trim42', 'tpcn2', 'ttll4', 'klhl28', 'coro1a', 'naprt', 'gstz1', 'sord', 'gage10', 'atp5mf', 'abhd3', 'cela3b', 'rassf9', 'ppp1r12b', 'c11orf80', 'sgsm3', 'prickle3', 'dmbt1', 'dnal1', 'rarres1', 'cmtr1', 'trabd2b', 'paox', 'cyth4', 'wdr54', 'gskip', 'wdr41', 'prdm7', 'apoc3', 'adra1a', 'ankrd22', 'mad2l1', 'elf2', 'magoh', 'fam181a', 'snrpd1', 'znf629', 'tyms', 'or52i1', 'ntm', 'ogfr', 'dok6', 'ripply2', 'lratd1', 'ccdc6', 'pgap2', 'aurkc', 'pcdha4', 'vopp1', 'nkapd1', 'tbc1d7', 'tmem237', 'ptpn13', 'pth2r', 'cnot11', 'kdm1a', 'kcnj13', 'mical2', 'taf6', 'cep128', 'pigz', 'kti12', 'pcdhga7', 'bicd1', 'slc15a4', 'tmtc1', 'braf', 'gpat2', 'epop', 'eef2', 'or1c1', 'ccdc97', 'tatdn2', 'tssk2', 'sertad2', 'arfrp1', 'ly96', 'or8s1', 'krt75', 'ergic3', 'prm2', 'spag16', 'lexm', 'kdm4c', 'iqch', 'mlf1', 'mip', 'scarf1', 'itgb1bp2', 'ncmap', 'znf768', 'ndufv2', 'mcur1', 'crtac1', 'fdxacb1', 'cltrn', 'lpgat1', 'ier2', 'fbxl17', 'nipal4', 'clk4', 'hrct1', 'krt2', 'arhgap9', 'necap1', 'atad3c', 'sth', 'rspo1', 'bclaf3', 'kcnh4', 'adgre2', 'sptlc3', 'jam3', 'c1qbp', 'mc4r', 'vwc2', 'mt-nd4', 'myo18a', 'mapk15', 'adh7', 'il2', 'btn3a2', 'mcph1', 'nab1', 'chchd1', 'selenoi', 'c7orf57', 'znf891', 'tstd2', 'snx12', 'nwd2', 'tra2a', 'kiaa1143', 'isl2', 'ppfia4', 'mpzl3', 'mt1x', 'krt32', 'zdhhc5', 'ikzf2', 'dnaaf5', 'ppp2cb', 'cavin3', 'plekha7', 'apex1', 'rab38', 'snrpe', 'elp2', 'vrk3', 'ddx3x', 'cwc22', 'spaca9', 'il1r1', 'epha8', 'ripor1', 'slc32a1', 'htra3', 'fbxo22', 'gpatch2', 'slc38a11', 'card11', 'znf232', 'pklr', 'ubtf', 'hprt1', 'hhatl', 'arl3', 'mrgprx2', 'rwdd1', 'mfsd1', 'taf7', 'svip', 'mmp27', 'pgbd5', 'chtf18', 'plxnb2', 'cd164', 'alkal2', 'krba2', 'prtn3', 'mageb6', 'chrna9', 'ppp1r14c', 'mfrp', 'eno2', 'nmt2', 'znf582', 'tal2', 'lmcd1', 'sub1', 'c2orf42', 'mc5r', 'lamtor4', 'adamts6', 'crhbp', 'kcnh6', 'nrip1', 'pom121l2', 'or4f6', 'or5h2', 'timm10b', 'kiaa2012', 'josd2', 'tmem14c', 'itch', 'rasgef1c', 'ppp2r5b', 'nr2c2', 'syt1', 'hcfc1', 'naa15', 'clec4g', 'ptprt', 'spdye4', 'siglec7', 'naglu', 'vamp5', 'tp53', 'elmod1', 'foxr1', 'omp', 'trim63', 'cul5', 'oxsm', 'cadm1', 'eml5', 'asap3', 'trmt1l', 'rassf4', 'crabp1', 'gria3', 'mfhas1', 'ermp1', 'cyp2c18', 'pacs1', 'pnkd', 'wdfy3', 'syne1', 'me1', 'znf324b', 'tpp2', 'dnajc25', 'snx3', 'klf13', 'smpd3', 'cnksr2', 'ndufb9', 'eny2', 'npffr1', 'kiaa1191', 'clec4m', 'nlrp12', 'il10ra', 'tprg1l', 'znf383', 'polr3a', 'sbf1', 'r3hdm2', 'ceacam1', 'rnf223', 'klhl17', 'il31ra', 'rnf146', 'rbmxl1', 'ckm', 'apobec3g', 'tubgcp6', 'tecpr1', 'mgst3', 'emc9', 'c12orf4', 'riox1', 'pdzrn3', 'spart', 'chst2', 'stap1', 'sytl5', 'tigd7', 'gcg', 'adam18', 's100g', 'mturn', 'nudt18', 'chl1', 'slc3a1', 'ovch2', 'ttc1', 'mfsd4a', 'casc3', 'nol12', 'cfp', 'ppp1r15b', 'gna13', 'pik3r1', 'or1n2', 'ubac2', 'usp48', 'rassf2', 'sema3e', 'bcl2l11', 'lmx1a', 'trak2', 'etv7', 'ash2l', 'gng4', 'pmp2', 'krtap26-1', 'sidt2', 'echs1', 'tsnaxip1', 'nyap1', 'zzef1', 'znf773', 'slc29a3', 'ndrg3', 'znf202', 'ccdc88c', 'drd2', 'adrb3', 'plpp5', 'ctdnep1', 'ercc1', 'cct6a', 'gon7', 'trappc2l', 'tlnrd1', 'kcnip3', 'ciao1', 'lce5a', 'anp32b', 'yipf7', 'dip2a', 'kif5b', 'or10g3', 'tmeff1', 'atp5mc1', 'clmp', 'abca7', 'fam120a', 'nrl', 'lgr6', 'rasl12', 'cd1e', 'zdbf2', 'brpf3', 'klhl41', 'arhgef9', 'fus', 'jmjd4', 'mipep', 'mmp8', 'wdr26', 'cactin', 'gas1', 'gale', 'tomm5', 'wdr27', 'igfl1', 'bsn', 'pogz', 'fbxl22', 'eif6', 'glb1l2', 'bcl6b', 'tkfc', 'adgrf4', 'alg8', 'abcc4', 'ccs', 'scaf11', 'ccl26', 'c1orf105', 'slc9a1', 'slbp', 'duxb', 'tlcd3a', 'smim29', 'esrrg', 'pkd1', 'ffar1', 'unc5c', 'gzmk', 'sdc2', 'mettl26', 'tmem106a', 'trpv2', 'spocd1', 'kiaa1614', 'crp', 'psg5', 'dennd11', 'dcst2', 'tmem45b', 'rgs7bp', 'btk', 'ntrk3', 'prkaa1', 'med18', 'zfr', 'pak4', 'trim28', 'zfyve27', 'lacrt', 'tmem202', 'pde7a', 'arhgap35', 'prtfdc1', 'foxn2', 'duox2', 'asb2', 'pik3ca', 'tmed4', 'psmc5', 'polg2', 'celf4', 'nlrp11', 'magee2', 'cdk7', 'pcdha8', 'crb1', 'col11a2', 'gpt2', 'eea1', 'inca1', 'cybc1', 'usp17l2', 'klhl42', 'rem2', 'znf180', 'kncn', 'cables1', 'trerf1', 'prelid2', 'ppp2r2d', 'ap1g1', 'bcas4', 'slc22a31', 'dnajc1', 'arhgap17', 'ap5m1', 'spa17', 'htra4', 'galk2', 'gchfr', 'mta3', 'fam110d', 'tns2', 'rnf212b', 'pitx3', 'sin3b', 'syt4', 'or2t8', 'ccl5', 'upf1', 'nnat', 'tfap2e', 'npepl1', 'slc6a14', 'zfp37', 'slmap', 'rims2', 'ptprn', 'tm7sf2', 'adamts15', 'hal', 'kcp', 'mt2a', 'slc46a1', 'ptov1', 'lin9', 'usp29', 'khdrbs1', 'rptor', 'ino80d', 'tmem9b', 'snx27', 'capg', 'clasrp', 'xirp1', 'chst9', 'plaur', 'dnajc5g', 'tnik', 'creb3l2', 'cmc2', 'lce2a', 'treml1', 'peli1', 'znf276', 'gin1', 'mc2r', 'p3h1', 'spata1', 'isca1', 'mcm10', 'npas2', 'srrd', 'mansc4', 'yeats2', 'ap3s2', 'dnajc6', 'cdca2', 'stat1', 'cblif', 'ube2f', 'tecta', 'rab18', 'slit3', 'fam20b', 'rad18', 'mgat5b', 'znf324', 'lsm11', 'syt14', 'lmod1', 'vps41', 'cysrt1', 'gopc', 'tnfsf14', 'cfap54', 'or8d1', 'ccdc32', 'trappc13', 'sp8', 'tpsd1', 'nipa2', 'lrrn1', 'dnaaf3', 'trpc7', 'rab44', 'als2', 'itm2b', 'exoc3l1', 'tbpl1', 'dazap2', 'desi1', 'fgf17', 'or51b6', 'plekhm3', 'itgb5', 'rrp36', 'adarb1', 'b3gnt3', 'c1orf159', 'suv39h2', 'ncapd3', 'nppa', 'stmnd1', 'golga1', 'srpk3', 'hsd3b7', 'arl5a', 'stk19', 'ngdn', 'dcp2', 'txndc17', 'popdc3', 'ncr2', 'foxm1', 'pygb', 'cep120', 'etv3', 'coch', 'eif3b', 'mybpc1', 'ufd1', 'nabp1', 'cpxm2', 'xpnpep2', 'epb41l5', 'mfsd14a', 'qrsl1', 'vamp4', 'nudt16l1', 'mast3', 'adgra1', 'septin8', 'hsf2', 'cln8', 'fam3b', 'rfxap', 'st6gal1', 'ptbp1', 'mxra8', 'strap', 'xpc', 'taf8', 'aldh3b1', 'hoxc8', 'rnf40', 'pcyt1a', 'afap1l1', 'sp5', 'npy5r', 'dgat1', 'pgm1', 'ccdc172', 'abt1', 'wfdc1', 'hm13', 'tpm1', 'mettl21a', 'smim8', 'stox2', 'arrb1', 'pmfbp1', 'chsy3', 'vegfd', 'eci1', 'hectd1', 'nol4l', 'ptpn5', 'fam216b', 'nde1', 'cr1l', 'stk24', 'mocs1', 'gbx2', 'myo15a', 'lad1', 'rb1cc1', 'ahr', 'ddx31', 'cgref1', 'brsk1', 'cxorf38', 'vps16', 'tph1', 'aebp1', 'cdo1', 'cep76', 'ttyh3', 'or5m1', 'map1lc3c', 'zfp36', 'ttc4', 'zscan5b', 'nipsnap3a', 'txnl4a', 'apoa2', 'fn1', 'abcf1', 'agpat5', 'pld4', 'rsad2', 'cd8b2', 'ppp1r3c', 'lman1', 'ppil3', 'erc2', 'c1orf43', 'xxylt1', 'ankzf1', 'zbtb1', 'hsdl1', 'scaf4', 'vn1r2', 'tex261', 'gatc', 'clec1a', 'ly6g6e', 'ube2h', 'slfn5', 'gas8', 'chd8', 'atmin', 'f2rl2', 'luc7l2', 'c9orf153', 'or4k13', 'tnfsf13b', 'pelp1', 'rab8a', 'atp2b3', 'ifna4', 'c11orf94', 'ulk1', 'fbxl16', 'pdcl', 'ubap1l', 'spint2', 'prss55', 'znf189', 'fam24a', 'chst7', 'tcfl5', 'tm2d1', 'sclt1', 'mppe1', 'socs6', 'cks1b', 'tacr1', 'coa7', 'arx', 'srp54', 'dnajc30', 'col15a1', 'sp6', 'paxx', 'stx2', 'lama3', 'miox', 'il2rg', 'desi2', 'pmaip1', 'hsf1', 'phospho2', 'zic3', 'setbp1', 'hacd4', 'ern1', 'agap3', 'pou3f1', 'orc2', 'gzma', 'srp19', 'ankk1', 'prox1', 'clu', 'zmpste24', 'itgb2', 'tulp2', 'mx1', 'usp9x', 'pdgfrb', 'nup35', 'hoxb5', 'arnt', 'znf385b', 'tmem63a', 'cacna1h', 'tmub2', 'agtpbp1', 'vsig2', 'cldnd2', 'ikbip', 'wnt2', 'cyp7b1', 'ccdc73', 'ypel5', 'fscn1', 'tmem225', 'sos2', 'rhot2', 'fam169a', 'tmem167a', 'cab39', 'phax', 'lepr', 'sct', 'she', 'muc15', 'magec2', 'fbxo2', 'sptbn4', 'pik3ip1', 'tyw1', 'cst2', 'akap12', 'lima1', 'scarb1', 'ubxn11', 'eya2', 'maged1', 'kit', 'cyp2c8', 'znf567', 'lrp1', 'fars2', 'gli4', 'sntb2', 'cass4', 'acsl6', 'zdhhc14', 'vamp1', 'slc26a11', 'get3', 'tas1r3', 'dlx5', 'taar1', 'nox1', 'nlrc3', 'ninj2', 'sgsh', 'fam43a', 'nuggc', 'sla2', 'st3gal2', 'bbx', 'ccr5', 'or56a5', 'phka1', 'srp9', 'ubl4a', 'zbtb41', 'dmtn', 'zbtb47', 'areg', 'gpt', 'arl6ip6', 'pcdhb11', 'cntn2', 'gbp4', 'vcam1', 'golga8r', 'vps35l', 'arhgap28', 'c12orf50', 'mbd5', 'trpc6', 'gucd1', 'slc2a3', 'rbm34', 'mme', 'gltpd2', 'znf678', 'adgrf3', 'usp54', 'ckb', 'klhdc9', 'banf2', 'cdhr2', 'syt12', 'tspan6', 'tbk1', 'myl6b', 'gapt', 'zg16', 'rpf2', 'echdc2', 'c4orf19', 'myo9a', 'maml1', 'epc1', 'taf11', 'fbxl19', 'arhgap6', 'plxna3', 'ccn4', 'snx33', 'gpr143', 'bicra', 'tctn2', 'abca4', 'bhlha9', 'ttpal', 'il10rb', 'igll1', 'or6f1', 'foxe3', 'mettl16', 'rab40a', 'smad2', 'cenpi', 'meis1', 'nanos1', 'sertm1', 'agk', 'pros1', 'srebf1', 'rrbp1', 'rnf181', 'spock1', 'znf813', 'hmgcs2', 'smc6', 'cops7a', 'tra2b', 'rbbp6', 'slc35b1', 'greb1', 'sh2b3', 'tcirg1', 'tnni2', 'csmd1', 'csgalnact1', 'kmt5c', 'dsp', 'cd300c', 'ccdc68', 'tiparp', 'aste1', 'hif1an', 'pan3', 'hoxa1', 'slc13a3', 'bag5', 'pop7', 'fcho1', 'edrf1', 'exosc2', 'pnpla6', 'pabpc1l', 'rbm48', 'gpr83', 'lce2d', 'chrm3', 'il18', 'phlda2', 'retreg3', 'fhod3', 'fndc10', 'lipt1', 'osbpl9', 'nek8', 'slco5a1', 'tmem154', 'nkx2-5', 'rhod', 'abhd13', 'ccdc91', 'ube3c', 'polk', 'hoxb4', 'fbxw7', 'tor3a', 'magec1', 'atl1', 'serpina9', 'gypa', 'slc43a1', 'mpdz', 'gcna', 'mageb17', 'wac', 'nr6a1', 'spag6', 'dmap1', 'rbbp9', 'ccdc138', 'gsg1', 'sorcs3', 'odf3l2', 'myh8', 'slc38a8', 'slc11a1', 'eml1', 'pspn', 'sgip1', 'pank3', 'slc2a8', 'tspan15', 'p3h2', 'skor2', 'mcl1', 'agbl3', 'tas2r40', 'f3', 'ccdc121', 'mcm2', 'parn', 'tigd1', 'rasip1', 'thap9', 'dctn1', 'fam185a', 'ndufaf1', 'dagla', 'lgals2', 'mdm4', 'vps13a', 'dact2', 'ints6', 'tmprss11b', 'ush2a', 'atp6v1h', 'elavl2', 'alx1', 'ugt2b4', 'atp11c', 'zdhhc2', 'eif2s2', 'uck1', 'cep295', 'fsd2', 'stk32b', 'ccdc173', 'adamts12', 'lmtk2', 'klf7', 'mvb12b', 'atp13a1', 'fam71f1', 'aldh3b2', 'fignl1', 'hsd11b1', 'or6b1', 'itgax', 'phyhd1', 'hpca', 'p3r3urf', 'emb', 'zyg11b', 'scara3', 'pde3a', 'rnf10', 'lrpprc', 'txndc16', 'nat14', 'csnk2a1', 'sell', 'slc7a3', 'best3', 'fastkd5', 'pipox', 'psmd5', 'pcdhb13', 'oprd1', 'il17b', 'ptpa', 'ptrh1', 'trappc9', 'zbtb5', 'aqr', 'hspa6', 'igdcc3', 'znf513', 'angptl7', 'vps4a', 'slc27a1', 'bin1', 'rap2c', 'pcdha3', 'cotl1', 'tmprss3', 'acd', 'pgk2', 'fbxo36', 'eif5b', 'thumpd1', 'fam151b', 'rnase2', 'znf233', 'wbp11', 'pstpip2', 'amer3', 'rgs13', 'c17orf58', 'nudt3', 'myrf', 'rpp21', 'prcd', 'p2ry6', 'dnaaf4', 'fam83d', 'b3gntl1', 'nkx2-2', 'fam104a', 'gapvd1', 'rwdd3', 'aldh1l2', 'or5d18', 'zdhhc12', 'ttc32', 'jrk', 'chodl', 'znf503', 'rcan1', 'camk1', 'uroc1', 'f5', 'neurog1', 'msh4', 'trmo', 'ipo11', 'gde1', 'ccp110', 'or14i1', 'bach2', 'saxo2', 'gata1', 'ibsp', 'rpa3', 'mki67', 'slc15a5', 'iba57', 'znf620', 'camsap2', 'clgn', 'rpa4', 'ugt2a1', 'ttc19', 'ermard', 'adam32', 'khdc3l', 'espl1', 'cnnm4', 'fyco1', 'sp2', 'lrfn1', 'cdhr1', 'plagl1', 'ier5l', 'bglap', 'siglec9', 'gabre', 'myh2', 'ccdc158', 'trappc5', 'sec62', 'btd', 'nav3', 'b4galt4', 'ubxn1', 'trim47', 'cd44', 'slc4a3', 'arl1', 'siglec12', 'gpr34', 'dnajb4', 'pfn4', 'c3orf22', 'hectd2', 'map4k5', 'pknox1', 'pfdn6', 'dnah8', 'tbxt', 'adprm', 'hdgfl2', 'armc2', 'eif4b', 'pde10a', 'golga6l6', 'ext1', 'crlf3', 'bcam', 'or1l3', 'col23a1', 'ift22', 'znf555', 'krtap6-2', 'adora2a', 'fap', 'scgb1c2', 'fam107b', 'pcdh12', 'znf410', 'kif14', 'pdlim1', 'katnb1', 'apcs', 'pcdha7', 'lce1d', 'b3galt2', 'ino80b', 'hoxd9', 'ociad1', 'cabp1', 'klhl9', 'pla2g4f', 's100a9', 'tnrc6c', 'apbb2', 'ntn3', 'abcd1', 'tent4a', 'inmt', 'inava', 'fbln7', 'c3orf14', 'znf821', 'mcee', 'rusc1', 'rft1', 'shank1', 'huwe1', 'commd5', 'rtn4r', 'raph1', 'n4bp3', 'phyh', 'romo1', 'lats1', 'ankrd26', 'znf83', 'psmb5', 'mxd3', 'greb1l', 'fh', 'psmf1', 'olig1', 'g0s2', 'slc5a4', 'grhl3', 'tmem79', 'sage1', 'lrrc66', 'cript', 'mroh2b', 'gdf11', 'hnrnpf', 'or6n2', 'lrpap1', 'crot', 'rasd2', 'cfap99', 'abhd1', 'ascl4', 'fnbp1', 'tspan2', 'klhdc2', 'acer1', 'pkp1', 'pik3r6', 'tmem95', 'max', 'slc66a3', 'myo7b', 'klf8', 'ptprj', 'fcn2', 'pigr', 'ica1', 'inpp1', 'tarbp2', 'aqp2', 'rbl2', 'fam13b', 'git2', 'abcc5', 'prmt2', 'mettl14', 'grb2', 'hnrnph2', 'atp5pd', 'ldoc1', 'tas2r7', 'lrba', 'mfng', 'mlh1', 'znf496', 'serpina10', 'psme1', 'usp43', 'srd5a2', 'sesn2', 'nup37', 'dnali1', 'arfgap1', 'lsm7', 'adamts18', 'prkcsh', 'cd302', 'gbp6', 'fosl2', 'prss41', 'c1qtnf3', 'rngtt', 'gemin4', 'pcsk4', 'lhx5', 'sik3', 'ttc26', 'hsbp1', 'matn1', 'fam161b', 'cul4a', 'itk', 'cfap70', 'frat2', 'dnaja1', 'igsf9b', 'tmem184b', 'ca4', 'ppl', 'slc9a2', 'slc34a3', 'zdhhc17', 'tssk1b', 'nrn1l', 'gje1', 'myof', 'nmi', 'shroom4', 'tmem230', 'cyp7a1', 'fcgbp', 'nkain4', 'thap8', 'znf574', 'rxra', 'ms4a5', 'defb132', 'unc45a', 'eddm3a', 'sec13', 'mybph', 'klln', 'krtap9-9', 'fibp', 'arih2', 'gpr183', 'tbc1d14', 'c6orf58', 'celf6', 'adgrb1', 'crkl', 'mael', 'epn2', 'snapc5', 'ubl3', 'cib2', 'prdm2', 'defb123', 'ccdc117', 'hs1bp3', 'or5d16', 'hnrnpdl', 'zbtb12', 'calhm4', 'usp15', 'cdkn1a', 'tdrd9', 'chgb', 'samd9', 'tmed5', 'epha4', 'rab17', 'ercc3', 'phactr1', 'nol6', 'lpcat1', 'plpp4', 'tgm1', 'tubg2', 'xkr7', 'msr1', 'crip1', 'acox1', 'lrrc4c', 'luzp1', 'tmem86a', 'rab4b', 'eif4ebp3', 'ube2v1', 'impa1', 'tdrd12', 'scn2a', 'tex264', 'c11orf96', 'abhd12', 'il7', 'cdk2ap2', 'ube2j2', 'coa5', 'prdm1', 'chsy1', 'aurka', 'sympk', 'gpr156', 'ncln', 'znf414', 'ric8a', 'crygn', 'cdk16', 'ajm1', 'znf469', 'top3a', 'fbxl13', 'slc22a2', 'gcm1', 'cdkn2b', 'elk1', 'hvcn1', 'or2t34', 'trim23', 'odf2l', 'susd2', 'csag1', 'mlec', 'jcad', 'rasal1', 'zyx', 'msh2', 'ube2z', 'loxhd1', 'rasa4b', 'copb2', 'dnajc13', 'lin7c', 'nrp1', 'pla2g7', 'fam210b', 'cox6c', 'kiaa1217', 'ak7', 'znf681', 'dnajc16', 'lifr', 'c11orf53', 'ssuh2', 'syngr4', 'gpr37', 'plch1', 'slc9c1', 'lysmd2', 'snca', 'or2b2', 'tnfrsf17', 'ormdl3', 'dusp14', 'kiaa1328', 'sh3bgr', 'il34', 'mlc1', 'skor1', 'pank2', 'depdc5', 'vtcn1', 'miip', 'cenpa', 'map9', 'serpinb5', 'dqx1', 'ptcd1', 'chrnb1', 'czib', 'adam15', 'gmnc', 'septin2', 'znf354a', 'znf80', 'ppp2r5a', 'nrbp1', 'frs3', 'ddx54', 'ccl11', 'polg', 'incenp', 'c1qtnf12', 'slit2', 'fpr3', 'cd160', 'nek3', 'kcnd3', 'tle3', 'usp1', 'malrd1', 'eif3d', 'rab2a', 'pam16', 'sp100', 'krt19', 'misp', 'actrt3', 'wwox', 'kcnq2', 'tfcp2', 'padi2', 'gnao1', 'irak1', 'pcdh18', 'cldn20', 'has2', 'wwc1', 'snx20', 'rfx6', 'maf1', 'prmt8', 'ncor1', 'nos1ap', 'kbtbd8', 'ankef1', 'gpnmb', 'smim23', 'wdr20', 'ffar4', 'flad1', 'znf546', 'efna5', 'rexo1', 'xylb', 'rab20', 'ncan', 'tmem123', 'arhgef5', 'rgs9bp', 'lypd4', 'cfap73', 'cldn9', 'nomo1', 'arhgef25', 'ifna6', 'ggnbp2', 'notum', 'cblb', 'pik3ap1', 'lypd6', 'ak1', 'angptl8', 'tspan19', 'hnrnpul1', 'lmo4', 'rbfox3', 'lhpp', 'sec61b', 'lrp6', 'dhrsx', 'hhla2', 'amelx', 'sytl1', 'commd4', 'tmem178b', 'scrn1', 'znf799', 'cenpm', 'mtmr9', 'krbox1', 'exoc1', 'rad23b', 'tbck', 'mcf2l2', 'arhgef4', 'znf296', 'osbpl11', 'cbll2', 'ebpl', 'tmem252', 'gpr137b', 'serpina3', 'shisa9', 'zpbp2', 'snx8', 'psmd1', 'hey2', 'pigw', 'gas2', 'zswim4', 'tbc1d28', 'nat1', 'clstn3', 'ngef', 'arhgef17', 'ndufa3', 'trpm2', 'rilpl2', 'mfsd8', 'tnrc6b', 'flot1', 'nrxn2', 'pgam2', 'nup85', 'padi6', 'atp6v0b', 'hdgf', 'klb', 'krt6b', 'def8', 'or5c1', 'tubb2b', 'paep', 'kat2b', 'efs', 'slc17a9', 'nt5dc1', 'atp6v0d2', 'lrrc41', 'or51a2', 'ms4a8', 'adamts1', 'prodh2', 'cd40', 'slc25a12', 'hnrnpul2', 'mgst1', 'zbtb42', 'hpn', 'musk', 'cpt2', 'u2af2', 'ccbe1', 'znf624', 'mxd4', 'ppm1b', 'tef', 'slc27a4', 'neurl2', 'tmem70', 'trappc4', 'kcnj1', 'micu2', 'plppr2', 'krtap24-1', 'erlin2', 'ssh3', 'pak1', 'cd86', 'wdr53', 'aida', 'scap', 'srp72', 'col1a2', 'btg1', 'rhoxf1', 'irak2', 'pank1', 'esco2', 'nmur1', 'npr2', 'gpr88', 'or11g2', 'c2orf81', 'znf284', 'asb9', 'gabrg2', 'cabp4', 'znf57', 'or9q2', 'tceal1', 'arl4a', 'tmem262', 'upf2', 'gucy1b1', 'mis18a', 'map3k20', 'sh3bgrl2', 'shtn1', 'pramef11', 'zfp92', 'chit1', 'nipal3', 'trip11', 'raver2', 'tlcd1', 'sdhaf1', 'nbpf20', 'znf461', 'rimbp2', 'myzap', 'wipi1', 'il3ra', 'naaa', 'speg', 'opalin', 'wdr18', 'vdac2', 'cdr1', 'glod4', 'vnn1', 'zc3h12b', 'ndufs8', 'atraid', 'lcn6', 'tex29', 'unc5d', 'zeb1', 'ccdc168', 'gusb', 'tssc4', 'flywch2', 'aatk', 'vldlr', 'sparc', 'c11orf52', 'pxmp4', 'rxfp4', 'izumo2', 'nucks1', 'znf7', 'ric8b', 'adm', 'aqp8', 'pacrg', 'prune2', 'ppif', 'slitrk3', 'pate2', 'ncoa6', 'vsx1', 'lilra2', 'mafk', 'tbxas1', 'eif4g1', 'ccl24', 'lins1', 'pdgfrl', 'smg8', 'foxi2', 'crtap', 'gmcl2', 'alad', 'nf1', 'lingo3', 'ube2c', 'il11ra', 'znf287', 'tinagl1', 'exo1', 'mmp16', 'ipmk', 'thap10', 'pgd', 'urod', 'serpini2', 'mgat1', 'cspg5', 'srpk1', 'zcchc4', 'trim31', 'plcb3', 'ccn6', 'scgb1d1', 'frmd7', 'uso1', 'gpr180', 'dnmt1', 'pdzd11', 'runx1', 'elovl1', 'ifi16', 'sema6a', 'trim55', 'csh2', 'glb1l', 'ankrd66', 'znf416', 'znf446', 'luzp2', 'cyb561a3', 'dcbld1', 'atf7', 'mmab', 'plglb2', 'g2e3', 'sirpb2', 'fbln1', 'pip4k2b', 'aldh1a2', 'stat2', 'cdk14', 'sstr5', 'znf146', 'camk2d', 'atp11b', 'tgfb1', 'eme1', 'nr5a2', 'lpin3', 'zcchc7', 'galnt4', 'tgif2lx', 'il36b', 'vdac3', 'eef1g', 'cdk5r2', 'rbm5', 'donson', 'zcrb1', 'adamtsl1', 'dtnbp1', 'psmc4', 'cenpo', 'nts', 'gja10', 'tktl1', 'chml', 'rad51ap2', 'tnfrsf10c', 'anks3', 'uqcc1', 'abi3bp', 'bst1', 'znf264', 'unc13c', 'gprin3', 'itga6', 'frrs1l', 'pttg2', 'calm1', 'vwa5b2', 'c12orf42', 'coro2b', 'rab5c', 'atp11a', 'setd3', 'col21a1', 'mns1', 'camk1d', 'tmem132b', 'neto2', 'entpd2', 'il6r', 'diras3', 'iqcf5', 'nupr1', 'optc', 'cdc25a', 'grn', 'akap10', 'cfap300', 'clic4', 'pebp1', 'katnal1', 'or2a5', 'tbx15', 'atg12', 'trim17', 'ldlrad3', 'mpi', 'calhm6', 'nolc1', 'fzd4', 'ppp3cc', 'spcs1', 'fam214a', 'ube2g2', 'alkbh7', 'il1b', 'oser1', 'spx', 'arcn1', 'tinf2', 'kif2a', 'vdac1', 'cyp4b1', 'ripk4', 'paqr7', 'stx1a', 'fryl', 'elp4', 'zbtb44', 'borcs5', 'smim32', 'nrk', 'sema4a', 'cdh7', 'tomm20l', 'bach1', 'mtpap', 'pstpip1', 'gpx8', 'il22ra2', 'gmip', 'znf24', 'svep1', 'slc52a1', 'krtap10-7', 'dexi', 'tbl1y', 'kcnh3', 'pls1', 'orai3', 'gse1', 'plcg2', 'prcp', 'pnpla3', 'nif3l1', 'il9', 'man2a2', 'rab3gap2', 'krt85', 'tas2r4', 'lat', 'man2b2', 'zdhhc23', 'hspb6', 'itga4', 'usp3', 'naga', 'col8a1', 'cops2', 'rrm1', 'retsat', 'cldn15', 'arl4d', 'plekhm2', 'lpar3', 'fcgr3b', 'tmprss7', 'foxd4', 'lkaaear1', 'ptges', 'togaram2', 'siglec6', 'nr1h4', 'furin', 'dnajc3', 'elf5', 'slc4a5', 'rsu1', 'sec61g', 'znf470', 'znf700', 'tob1', 'pydc1', 'mocos', 'rab41', 'syne2', 'vmo1', 'arhgef2', 'folh1', 'ankrd24', 'ccdc27', 'ccr6', 'iqcm', 'clhc1', 'olfm4', 'fam234a', 'siglecl1', 'phlpp1', 'birc7', 'znf829', 'nup93', 'sra1', 'arhgap8', 'nlrc4', 'ints10', 'pskh2', 'thra', 'nr2f6', 'fcgr1b', 'ghrl', 'lgmn', 'znf671', 'ppm1d', 'esr1', 'rnf103', 'hk2', 'or9i1', 'pan2', 'exosc10', 'fam222a', 'poc5', 'mylk', 'dpp3', 'cst5', 'pxylp1', 'endov', 'baiap3', 'trit1', 'tent5b', 'ankrd36', 'ogfod2', 'tmem126b', 'oxtr', 'c3orf52', 'ush1c', 'kmt5a', 'sctr', 'kcnq5', 'hint3', 'atf3', 'degs1', 'gmfb', 'nptn', 'prpf38a', 'rnf186', 'prdx6', 'stk17a', 'pcgf5', 'znf43', 'or8a1', 'ppp1r11', 'atp6v1e1', 'smcp', 'mapk8', 'spdye6', 'plekhg3', 'fbxo44', 'znf747', 'ap2a1', 'znf667', 'slfnl1', 'a3galt2', 'letm2', 'calcr', 'chmp4b', 'strn', 'cldn14', 'spdye5', 'stx17', 'or52n1', 'mrc1', 'prr19', 'sec16a', 'pop4', 'acss2', 'brd3os', 'mmp20', 'cd274', 'gna15', 'ugcg', 'bcr', 'dcx', 'arg1', 'mocs3', 'nuak1', 'spock3', 'rab39a', 'l3mbtl4', 'ccdc93', 'fbxw12', 'cnpy4', 'sinhcaf', 'pfn1', 'ifit3', 'krtap7-1', 'slc6a4', 'clptm1', 'steap1', 'rnf128', 'ppp1r42', 'dcaf15', 'kdm6b', 'efr3b', 'stag3', 'pdcd4', 'cenpe', 'shf', 'trim43', 'nbea', 'shc2', 'acap3', 'tut7', 'marcksl1', 'ly6g5c', 'neurl3', 'dctn2', 'ccl4', 'fgf23', 'sft2d3', 'ugt2b17', 'camkv', 'hmgb2', 'kcnj18', 'grina', 'ms4a4a', 'egln2', 'cand2', 'atg101', 'zswim8', 'or4c3', 'jph3', 'pax3', 'mpp6', 'mcc', 'rasgrp3', 'h6pd', 'man1c1', 'pnpla1', 'acot12', 'cd72', 'slc25a42', 'ccl8', 'patl1', 'basp1', 'trmt10b', 'znf598', 'lynx1', 'u2af1l4', 'zscan23', 'samd5', 'prr15l', 'egr4', 'cep350', 'sirt5', 'siah3', 'ankrd10', 'col12a1', 'med6', 'trmu', 'gng10', 'fbll1', 'syt17', 'vars2', 'efcab9', 'ap3d1', 'chmp2b', 'hbq1', 'cnn2', 'c19orf25', 'atp6v1e2', 'mas1', 'smim21', 'fiz1', 'prkag1', 'or11a1', 'ttk', 'ptms', 'slc35a5', 'eva1a', 'sema5b', 'tf', 'drd5', 'ppp1r3g', 'drd4', 'cbx5', 'wnt9b', 'nol7', 'wwp1', 'sh3gl2', 'il15', 'lancl1', 'c7orf33', 'grtp1', 'iqcb1', 'bcl2l13', 'becn2', 'or1i1', 'eftud2', 'tln2', 'gtf3c5', 'mycl', 'arap3', 'lrrc55', 'stk38l', 'ndufa1', 'eif4a3', 'rfesd', 'slc39a13', 'c17orf67', 'ezhip', 'slc22a16', 'pip5k1c', 'nup54', 'erbb2', 'trip10', 'tnfrsf10a', 'vcl', 'mterf2', 'hdc', 'nkd2', 'ablim3', 'gsg1l', 'sftpb', 'ceacam19', 'znrf2', 'pkp3', 'dapp1', 'tmed1', 'idh3a', 'dhdh', 'naa10', 'rbm6', 'arhgdig', 'rad51ap1', 'kcnab3', 'eml2', 'snx31', 'ifitm2', 'prss12', 'tlr5', 'maip1', 'stk39', 'matk', 'entpd1', 'spns2', 'itgav', 'fkbp14', 'ccdc81', 'ddx19b', 'zkscan1', 'dok2', 'stk3', 'fcgr1a', 'scn11a', 'sgo2', 'eif3l', 'galk1', 'wscd1', 'acp7', 'meak7', 'fam168a', 'rtbdn', 'zdhhc8', 'stpg2', 'gpr35', 'lyzl4', 'snx14', 'dmtf1', 'fam76b', 'dram1', 'syt5', 'gjb2', 'znf839', 'ndufb7', 'zhx1', 's100a1', 'eef1akmt2', 'lrrtm3', 'gnat2', 'kcna2', 'mepe', 'or10t2', 'mvb12a', 'smo', 'sox7', 'grhpr', 'or7c1', 'cstb', 'tmem218', 'erich2', 'mras', 'hebp1', 'slc25a35', 'znf329', 'dgkb', 'usf2', 'c1orf226', 'fam174b', 'smim28', 'tedc2', 'plekhb2', 'slco1c1', 'fahd2a', 'chst6', 'fam8a1', 'rest', 'slc9a3r2', 'or5p2', 'tacr3', 'or11l1', 'tmem100', 'msgn1', 'clec2l', 'strit1', 'krt31', 'pcdhgc5', 'tmem51', 'ccar2', 'hormad1', 'smox', 'pawr', 'rtn4', 'creb1', 'gli3', 'cdh5', 'klhdc8b', 'smim35', 'ube2d2', 'dsg1', 'shd', 'arl4c', 'nmt1', 'slc9a3r1', 'pcdhga10', 'ssh1', 'rxylt1', 'pigm', 'tbcb', 'rnase4', 'ly6h', 'tmem184c', 'epha6', 'znf584', 'tmem129', 'adamts7', 'haus3', 'riok2', 'mapk8ip1', 'znf653', 'ccer2', 'b4galt7', 'dapk2', 'ttc30b', 'gsap', 'gtsf1l', 'ccdc188', 'slc16a12', 'prr9', 'chrm1', 'fthl17', 'elmod3', 'gpbar1', 'myo1e', 'tmem47', 'naa50', 'il1a', 'ptdss1', 'cd46', 'myoz2', 'oaz2', 'rspo2', 'scfd1', 'scn1a', 'hsd17b4', 'esyt3', 'ccdc65', 'tmc8', 'gjb6', 'tmem150b', 'lrig3', 'prkx', 'hectd3', 'c15orf39', 'ttr', 'slc19a3', 'or10j1', 'ankrd33', 'carm1', 'prkar2a', 'elp5', 'snx4', 'mt1hl1', 'dph5', 'rtp3', 'ugt8', 'odf2', 'abcb1', 'dffa', 'slc49a4', 'rexo2', 'srsf12', 'tceal7', 'c16orf54', 'tenm1', 'il1f10', 'fgf4', 'tmem91', 'mucl3', 'cxcl16', 'snph', 'nap1l2', 'kcnk5', 'nr3c2', 'inf2', 'kaag1', 'znf704', 'or51g2', 'prkg1', 'map3k7', 'polq', 'serpinb1', 'depp1', 'rnf4', 'fam221b', 'tcf4', 'slc12a9', 'fam229b', 'plat', 'iqgap3', 'c10orf67', 'snx5', 'elac1', 'igfbp1', 'eif3h', 'igfbp6', 'pla2g5', 'sh3glb1', 'ncr1', 'crct1', 'tas1r2', 'gnl2', 'ints7', 'znhit1', 'lrp11', 'disc1', 'ccnl1', 'nsun5', 'tulp4', 'diras2', 'tiam1', 'page2', 'mthfr', 'usp16', 'znf222', 'mcm5', 'ncoa4', 'aicda', 'bcat1', 'rnf215', 'akr1a1', 'snrpb', 'cct4', 'slc25a17', 'myocos', 'tut4', 'myo3b', 'lect2', 'dlgap1', 'spint4', 'bhlhe41', 'garem2', 'ccdc171', 'lcp1', 'des', 'trim6', 'nfe2l2', 'uhmk1', 'cd2', 'wiz', 'or1m1', 'tmem11', 'ssbp4', 'bcdin3d', 'efhc1', 'cracr2a', 'zscan20', 'tmem43', 'epgn', 'fbxo46', 'glcci1', 'pcnt', 'znf540', 'c1orf162', 'ccng1', 'cltc', 'tent2', 'cshl1', 'or12d3', 'mmp24os', 'yae1', 'ptpre', 'ccdc177', 'guf1', 'rhobtb1', 'ndufs4', 'elp1', 'scamp5', 'ces3', 'aggf1', 'map3k14', 'hebp2', 'hrh2', 'thada', 'vipr1', 'bod1l1', 'grin2b', 'polr2h', 'tcf19', 'gpr141', 'ptgds', 'pigp', 'serpinb2', 'itm2a', 'pnma1', 'zwilch', 'pdgfa', 'cst9l', 'asic3', 'atp9a', 'krtap12-1', 'lrrc19', 'aacs', 'ube2n', 'slc16a11', 'rbmxl2', 'map3k5', 'atp6v0c', 'trip12', 'kif19', 'ston1', 'timp1', 'tbc1d25', 'gtf2h1', 'wdr91', 'ccin', 'ak4', 'flacc1', 'entpd7', 'spindoc', 'glg1', 'ctdp1', 'ccn2', 'alkbh4', 'adamtsl5', 'krtap10-10', 'entr1', 'sap130', 'or4s1', 'gxylt1', 'grb7', 'usp22', 'acmsd', 'yipf5', 'chek1', 'gmpr', 'dmrt3', 'slc25a30', 'ahnak', 'chmp2a', 'tdrd3', 'ankrd16', 'hdac3', 'pou3f4', 'prtg', 'ago1', 'trpv1', 'arhgef16', 'gpr157', 'ptpn14', 'aifm1', 'otof', 'znf138', 'tmprss11e', 'morc1', 'mroh1', 'ttyh2', 'dmac2l', 'stra8', 'cmtr2', 'ankrd53', 'tek', 'or2v2', 'src', 'osr1', 'erp27', 'prame', 'spata21', 'galnt12', 'snapc3', 'ckmt2', 'dbndd1', 'prm3', 'sh3tc1', 'med19', 'fam200b', 'lrrc36', 'znf716', 'hnrnpl', 'chmp6', 'gprc5c', 'pydc2', 'ano8', 'amz1', 'nudcd1', 'stoml1', 'eloa', 'raf1', 'pi16', 'cyhr1', 'c17orf78', 'cndp1', 'pou4f2', 'itga2', 'ifna1', 'c12orf56', 'dync1li2', 'mon1b', 'pgr', 'pcdhb10', 'dcc', 'tmem200a', 'defb119', 'brsk2', 'syt13', 'atp4a', 'abo', 'prr5', 'efhd1', 'tifa', 'rcor2', 'tmem205', 'g6pc2', 'armc1', 'tmem19', 'rgpd3', 'stmn1', 'pla2g1b', 'fcrl5', 'tnfsf15', 'fer1l5', 'slc7a8', 'clec12a', 'dipk1a', 'ctrl', 'pou3f3', 'hspd1', 'aldh8a1', 'capn3', 'cyb5b', 'pcmtd1', 'kcns3', 'vasn', 'deup1', 'hmox2', 'apob', 'bdnf', 'tas1r1', 'myh14', 'tom1l2', 'snx6', 'znf219', 'stx10', 'fate1', 'gsto2', 'glyr1', 'prokr1', 'atp5mc3', 'amd1', 'slc6a15', 'dll3', 'tcea2', 'mos', 'ube2d3', 'coq5', 'sts', 'myd88', 'plcd1', 'zar1', 'lcp2', 'scgb3a1', 'prss53', 'ggt2', 'bms1', 'nsl1', 'hunk', 'slc39a8', 'phox2a', 'ret', 'tanc2', 'ptprr', 'mvp', 'rab29', 'nle1', 'emg1', 'ager', 'ahcyl1', 'selplg', 'ints4', 'insl4', 'glrx5', 'ssx2ip', 'trmt2a', 'gpaa1', 'gatad2a', 'sap18', 'ube2ql1', 'slc8a2', 'cd63', 'etv6', 'resp18', 'prpf40a', 'tmem207', 'homer2', 'xcl2', 'tex22', 'meox1', 'myrip', 'tppp2', 'tpx2', 'ccl14', 'dpm3', 'urb2', 'lgals4', 'cdh12', 'gpr137', 'rad9b', 'tex26', 'fam181b', 'acot1', 'adgrf5', 'cyp2e1', 'paqr3', 'sin3a', 'atp10b', 'cmtm7', 'hmcn2', 'zbtb10', 'diras1', 'actb', 'bcl11a', 'wipf3', 'grm8', 'ifi44l', 'lrrc3c', 'cnbd1', 'vrk1', 'lrrc57', 'kcnh8', 'ca13', 'slc25a33', 'adgrl3', 'uts2b', 'nudt8', 'rnf144b', 'pcdhgb6', 'hbb', 'sprr2f', 'tp53aip1', 'sohlh1', 'lrriq1', 'pura', 'c2orf78', 'exosc8', 'lpcat2', 'rtn4rl1', 'cav2', 'slc25a41', 'ate1', 'znfx1', 'prkn', 'mob2', 'cdc16', 'dnah17', 'rhoj', 'c16orf86', 'sall2', 'nemp1', 'zc3h13', 'prr3', 'tbc1d13', 'sipa1', 'fmo4', 'pram1', 'plscr4', 'abcc1', 'xcr1', 'taar9', 'herpud2', 'hnrnph3', 'eno1', 'clec14a', 'thoc2', 'setdb1', 'nppb', 'gpr6', 'avil', 'mbd6', 'smap2', 'oxer1', 'spdyc', 'slc5a8', 'gcsaml', 'or2a12', 'atp6v1c2', 'lnx1', 'ct55', 'or10h1', 'trim45', 'sirt6', 'thsd7b', 'asgr1', 'tbc1d3b', 'pds5a', 'sacm1l', 'cox19', 'smg1', 'tspyl5', 'mbtps1', 'arhgap15', 'znf75d', 'f2rl1', 'gstt4', 'f7', 'dnaja3', 'drc7', 'pcdhb2', 'cd244', 'acsf3', 'fam107a', 'ttc9b', 'fn3krp', 'plk4', 'dnaaf2', 'pigx', 'hrg', 'inha', 'lrrc70', 'abca1', 'tcta', 'utp11', 'blk', 'krt1', 'depdc1b', 'armc10', 'extl3', 'ftmt', 'sec14l5', 'stox1', 'crebl2', 'slc9a7', 'nprl3', 'irs1', 'poglut2', 'gclm', 'gype', 'pth1r', 'iqcf6', 'or5a1', 'ptpn11', 'etv4', 'slc31a2', 'nog', 'ltb', 'epb41l1', 'cited1', 'lcn8', 'smarca5', 'znf8', 'adora1', 'mat2b', 'pcolce', 'znf548', 'abcb4', 'cdh1', 'tnfrsf10b', 'rfx4', 'onecut2', 'rnls', 'paqr8', 'mrm1', 'optn', 'cep72', 'kcnj5', 'golga3', 'nr2f1', 'ms4a3', 'slc35b3', 'tbc1d31', 'lamc3', 'pfkfb2', 'insig2', 'ncapg', 'leprot', 'irx1', 'ctsh', 'bace2', 'csf1r', 'bap1', 'esco1', 'ing3', 'runx2', 'togaram1', 'yif1a', 'dhrs11', 'tcf7l1', 'ccdc92', 'tprg1', 'sem1', 'b3galt4', 'spidr', 'tfdp1', 'or4b1', 'dctn5', 'mif4gd', 'armcx1', 'sema5a', 'oosp1', 'cygb', 'jam2', 'siglec14', 'ip6k1', 'gpr153', 'got2', 'wnk4', 'hfe', 'micos13', 'elovl4', 'cfap97d1', 'cyp27a1', 'osgin1', 'ctrc', 'siah2', 'mical3', 'eif1ad', 'brd2', 'mterf4', 'igflr1', 'irf8', 'strip1', 'serpinb7', 'exoc3l2', 'atg4c', 'rac1', 'bend7', 'upp2', 'wnk1', 'hnf4g', 'obsl1', 'mstn', 'slc7a13', 'pex10', 'ren', 'psat1', 'papolb', 'cdc14b', 'nrg4', 'setd1a', 'ifnb1', 'rab12', 'ndufb3', 'btbd16', 'atp6v0d1', 'wdr46', 'scel', 'trpm4', 'tnfsf8', 'secisbp2', 'mfsd4b', 'dhps', 'camkmt', 'adck2', 'slco1b1', 'mrto4', 'lyrm2', 'spag9', 'acvr2a', 'plxna2', 'atf6b', 'ppp1r1c', 'fhl5', 'fam180a', 'csmd2', 'ddi2', 'sumo2', 'kcne4', 'or14a2', 'slc25a4', 'pkn3', 'calcoco1', 'gas2l1', 'nkx6-2', 'ggt7', 'krt6c', 'snorc', 'prb3', 'sulf2', 'c3orf62', 'st3gal6', 'rgs8', 'tmem256', 'brd4', 'fam227a', 'trmt2b', 'ackr4', 'agpat3', 'znf879', 'fam187b', 'zbtb2', 'znf484', 'zscan29', 'tekt1', 'dcakd', 'gab2', 'pip4k2a', 'sel1l', 'plau', 'nfkb1', 'cxcr3', 'aldh1a1', 'usf3', 'slc25a2', 'fancd2os', 'oxsr1', 'ptchd1', 'slc6a12', 'adra1b', 'znf670', 'gdnf', 'prex2', 'uap1', 'scube2', 'slc25a32', 'ccnb1ip1', 'st8sia5', 'f9', 'top1mt', 'fzd1', 'or6c1', 'ube2k', 'wdr6', 'rab34', 'thoc1', 'dbndd2', 'ddx60l', 'flcn', 'tmem35a', 'igsf1', 'etfb', 'kiaa1549', 'or1s2', 'atxn7l1', 'fam126b', 'il18r1', 'acvrl1', 'bahd1', 'cst4', 'grhl1', 'atp5pf', 'rbm8a', 'adap2', 'cage1', 'son', 'il17ra', 'fer1l6', 'pdzk1', 'rin1', 'barhl2', 'nmrk1', 'dph1', 'ppox', 'zar1l', 'egfr', 'nol4', 'bri3bp', 'ice2', 'adamts2', 'stat6', 'znf527', 'ube2v2', 'tent5a', 'rnf122', 'adamts19', 'gan', 'ap4b1', 'nes', 'anapc4', 'chchd3', 'dennd2c', 'ugt3a1', 'thsd7a', 'vxn', 'rtf1', 'pcdh20', 'slc41a1', 'map3k15', 'gcm2', 'ncoa2', 'klc2', 'mocs2', 'pxk', 'tmem86b', 'bckdk', 'slc16a4', 'znf112', 'comtd1', 'fhl3', 'cd48', 'acbd7', 'or5l1', 'pou6f1', 'bbs4', 'skiv2l', 'taok3', 'strbp', 'ncstn', 'noto', 'znf358', 'pou4f1', 'or8k3', 'paqr6', 'ik', 'gimap2', 'hmgxb3', 'fam171a1', 'drc1', 'lox', 'fign', 'slc10a6', 'med27', 'stmn4', 'rif1', 'ndrg1', 'snrpd3', 'cerk', 'cadm3', 'irx3', 'cbl', 'nyx', 'mettl8', 'dbf4', 'cda', 'prr35', 'tsks', 'cst3', 'rtl6', 'slc30a6', 'slc39a5', 'grin2a', 'spatc1', 'mcm3', 'gja5', 'anapc2', 'zbtb49', 'rec8', 'ctnnbip1', 'ervv-1', 'slc30a1', 'klf5', 'llcfc1', 'rln2', 'cst7', 'rab22a', 'ndufa9', 'cd80', 'deaf1', 'wbp4', 'ralbp1', 'lin54', 'traf2', 'ggt6', 'tfpi2', 'map3k13', 'gabarap', 'fbxl6', 'lce3a', 'znf334', 'lhfpl6', 'mfap3', 'abcf3', 'spats2', 'l2hgdh', 'asphd1', 'znf471', 'baz1b', 'naf1', 'rab1a', 'rprm', 'ilk', 'ubl5', 'hao1', 'camkk1', 'arrdc2', 'mob3b', 'hemgn', 'rerg', 'unc5b', 'pramef15', 'lce4a', 'wdr36', 'wrnip1', 'eef1akmt1', 'arhgap33', 'zswim6', 'tmx4', 'ltbr', 'clec4a', 'esm1', 'golt1a', 'c3orf20', 'gpr101', 'gpank1', 'dicer1', 'usp6', 'bcl10', 'smim4', 'phf6', 'klhl34', 'lpl', 'phf13', 'fam20c', 'eed', 'pdilt', 'hey1', 'cyp2f1', 'dag1', 'mageb2', 'st13', 'fer', 'otud7b', 'slc22a13', 'trim26', 'stxbp4', 'sirpa', 'pitpnm2', 'pvrig', 'qrfp', 'myl12b', 'lsm6', 'nkain1', 'fkbp1b', 'efr3a', 'ifih1', 'lmln', 'slc45a4', 'c1orf141', 'neurl4', 'cyb5d1', 'dolpp1', 'ddx11', 'dtwd1', 'polr1d', 'or5w2', 'ankdd1b', 'agpat1', 'traf3ip2', 'smco2', 'tpm2', 'fchsd1', 'ubn1', 'or4x1', 'asb6', 'c15orf62', 'pfkfb3', 'parp9', 'dusp26', 'znf710', 'meiob', 'klk7', 'krtap19-1', 'prdm15', 'mtf2', 'nrsn1', 'gphn', 'mcoln2', 'ssmem1', 'osgep', 'mest', 'rcc2', 'lin28a', 'taf13', 'arhgef18', 'serbp1', 'cetn2', 'hoxa11', 'farsa', 'cald1', 'vangl1', 'edf1', 'pla2g2a', 'odf1', 'or5ap2', 'fgfr2', 'cetp', 'trabd2a', 'dbi', 'znf318', 'nme9', 'slc25a10', 'smim15', 'snx24', 'sptbn2', 'smoc2', 'tbx5', 'myo1f', 'tmem179', 'ddtl', 'adgra3', 'snx32', 'sh2d3a', 'ptgr2', 'or13f1', 'lrrc18', 'rcsd1', 'foxo1', 'capza1', 'klkb1', 'smim26', 'cacfd1', 'glt8d2', 'tsnax', 'robo1', 'cebpa', 'kcnab2', 'hmhb1', 'anln', 'cdc40', 'parp2', 'kif20a', 'col27a1', 'sec22c', 'myorg', 'rhcg', 'nfkb2', 'c17orf80', 'itgb1bp1', 'exd1', 'znf185', 'psapl1', 'intu', 'ercc2', 'timp3', 'etfbkmt', 'minar2', 'mpv17l', 'muc3a', 'lmnb2', 'endod1', 'vstm5', 'prickle2', 'epsti1', 'tbxa2r', 'znf564', 'susd3', 'uqcr10', 'dtl', 'magix', 'tmem179b', 'znf562', 'znf382', 'tusc1', 'uggt1', 'pfdn5', 'epha2', 'nek4', 'pcdhga1', 'lrrc8b', 'lsmem2', 'gabrb1', 'fbxo11', 'ube2q2', 'nxpe2', 'ank1', 'tspan3', 'zcchc9', 'adora2b', 'sh3kbp1', 'cep63', 'crabp2', 'il13ra2', 'ostm1', 'dda1', 'tctn3', 'evi2b', 'taf4b', 'znf692', 'pank4', 'slc35g1', 'gfi1', 'hmmr', 'plppr3', 'lrp1b', 'pate3', 'vgll4', 'adam22', 'cd83', 'nfkbil1', 'hspb1', 'tor2a', 'alyref', 'ccdc59', 'alg9', 'gsdmd', 'cdk4', 'znf26', 'cyth1', 'ets1', 'spop', 'ptchd4', 'lrrc4b', 'or13h1', 'il17rc', 'fat3', 'pla2g6', 'tec', 'ndufs6', 'polr2g', 'pias2', 'mtln', 'nup214', 'znf98', 'ephx4', 'a2m', 'nprl2', 'ccdc190', 'rnd1', 'fzd9', 'il17rel', 'jtb', 'sytl3', 'tespa1', 'rsl24d1', 'sbk3', 'sidt1', 'kcne5', 'tmem52', 'dnm3', 'litafd', 'lime1', 'zfp30', 'c1orf194', 'sdc1', 'rgl1', 'map4k2', 'psmd11', 'hoxb9', 'tdp1', 'acta1', 'spats2l', 'rph3a', 'ndn', 'adcy1', 'pcid2', 'cdkn2a', 'c2orf66', 'cep85', 'lhx4', 'adh1c', 'tmem171', 'hbp1', 'prxl2c', 'mtch2', 'chfr', 'c16orf70', 'myh3', 'fcmr', 'magea6', 'acvr2b', 'themis', 'lrrc75b', 'fgf20', 'kcnv1', 'klhl13', 'hnrnpa0', 'ctbp2', 'lrrc23', 'tradd', 'arrdc5', 'hdhd2', 'stk32c', 'telo2', 'reeld1', 'mtx3', 'slc4a1ap', 'htra1', 'pcsk2', 'casq2', 'ifi30', 'kiaa0586', 'grin1', 'cramp1', 'dusp22', 'pi4k2b', 'krt3', 'ing2', 'gfra3', 'arel1', 'dmwd', 'nudt14', 'podn', 'rbm3', 'cd47', 'pias3', 'fcer2', 'mitf', 'ca11', 'znf491', 'plaat5', 'stk33', 'spata2', 'zbp1', 'tmem45a', 'ncam2', 'angptl1', 'tmem52b', 'kcnk1', 'sh2b1', 'znf280c', 'ndst1', 'krt15', 'st6galnac6', 'swap70', 'sspn', 'degs2', 'prpf3', 'krt72', 'srrm2', 'znf330', 'dhtkd1', 'cdh19', 'znf619', 'ccn5', 'kpna6', 'or6j1', 'atp6v1c1', 'uvssa', 'inpp5f', 'epb42', 'arpin', 'tmem182', 'skida1', 'or52i2', 'rnf216', 'kif3b', 'cpeb3', 'reps2', 'hpcal4', 'wasf1', 'znf260', 'pdk1', 'cct8', 'cited4', 'mrs2', 'magi1', 'wipi2', 'gabrb3', 'glis2', 'zc3h7a', 'frs2', 'creb5', 'cdh24', 'rab31', 'or6k6', 'bhmt', 'tmco6', 'smkr1', 'cspp1', 'csrp3', 'znf331', 'zcchc3', 'nrp2', 'npy', 'arhgef26', 'phf10', 'bmi1', 'krtap10-1', 'cfhr5', 'c20orf27', 'commd9', 'btbd9', 'enox2', 'tgfbr2', 'nom1', 'cntn1', 'taf11l11', 'ankrd30a', 'sdf4', 'rnf11', 'nlrp13', 'rprd2', 'gal3st4', 'cfap100', 'cntn4', 'otud3', 'cntrl', 'kirrel1', 'fam120b', 'sac3d1', 'impg1', 'wdr33', 'rbsn', 'pabpc5', 'wdr93', 'tmem138', 'atp5pb', 'lrrc27', 'nr4a1', 'nedd4', 'mn1', 'pabpc4', 'vps37b', 'argfx', 'gsdmb', 'trim38', 'c19orf38', 'rac2', 'cdkal1', 'zp1', 'prxl2b', 'sit1', 'cd40lg', 'faap100', 'kbtbd12', 'pdia4', 'heca', 'zfpm2', 'nap1l5', 'cdt1', 'atf4', 'rpe', 'ttll13p', 'smim5', 'ubd', 'ubn2', 'ano5', 'tmem168', 'mdp1', 'znf740', 'mier1', 'myot', 'zscan2', 'supt7l', 'klhl32', 'chmp3', 'kbtbd11', 'adarb2', 'crybb2', 'unc45b', 'ssr4', 'c6orf15', 'itpkb', 'pold3', 'kcnip2', 'gjd2', 'mfge8', 'thegl', 'cisd3', 'crat', 'ncoa3', 'fndc7', 'hs6st2', 'clstn1', 'zfp69b', 'odf4', 'csrnp3', 'trpm1', 'cdh10', 'edem2', 'c12orf76', 'hmg20a', 'tstd1', 'mylk2', 'esrra', 'pm20d2', 'kcnd1', 'tfb1m', 'gnb3', 'ndel1', 'hoxb6', 'agxt', 'slu7', 'il13', 'taf1b', 'tmem72', 'zfyve21', 'nudt16', 'fgfrl1', 'plekhg2', 'nkx6-3', 'mier2', 'ywhah', 'rfx2', 'abcc3', 'tbr1', 'tuba4a', 'rc3h2', 'dbp', 'glrx3', 'ccdc70', 'lsm8', 'dnase2', 'flg', 'fbxw10', 'flt4', 'ptpn1', 'usp53', 'clcn7', 'nup98', 'znf454', 'chac1', 'fut1', 'acaa2', 'acot4', 'nfia', 'usp50', 'fam167a', 'c16orf89', 'fbxo45', 'hcn4', 'dcstamp', 'lamtor2', 'btnl2', 'blvrb', 'crls1', 'kiaa1671', 'ctxn3', 'trak1', 'hoxc4', 'wdfy1', 'gda', 'xpo6', 'gata3', 'csnk1d', 'xkr3', 'kcnk15', 'lztr1', 'recql5', 'dcdc1', 'rpa1', 'shisa3', 'tex54', 'nr2f2', 'cyp4f22', 'myocd', 'rab19', 'cep85l', 'cxcr4', 'lamp3', 'ap4s1', 'armc8', 'chrnb2', 'sowahc', 'tmeff2', 'spata17', 'rnf138', 'plcxd1', 'eddm13', 'polr3h', 'mydgf', 'sos1', 'abca9', 'gabbr2', 'or52b6', 'prc1', 'klk11', 'sh2d5', 'prr22', 'nsun2', 'dnajc9', 'kazald1', 'faah2', 'zfhx3', 'tmem38a', 'sco2', 'psmc3ip', 'klk8', 'zfand2b', 'nxpe3', 'zcchc12', 'acod1', 'cnr2', 'coq4', 'caskin2', 'cenpc', 'dus4l', 'c14orf119', 'ankrd34a', 'khdrbs2', 'podxl', 'adcy5', 'llgl1', 'enpp7', 'pak5', 'ltb4r', 'trim37', 'rnf152', 'galnt15', 'tcl1a', 'snrpn', 'carhsp1', 'phpt1', 'rab7a', 'oplah', 'ppp1r2c', 'nlrp2', 'med22', 'rmc1', 'morc4', 'gpn2', 'e2f7', 'ccl2', 'ect2', 'nptx2', 'mat1a', 'rgs19', 'bod1l2', 'syf2', 'cartpt', 'il31', 'tmem208', 'sdhaf4', 'naa30', 'nsa2', 'adam2', 'clec20a', 'rftn2', 'spi1', 'ufm1', 'pnma6a', 'alox5ap', 'cpa2', 'fndc3a', 'tubb1', 'phc3', 'rab1b', 'pkm', 'mak16', 'wdr7', 'slc28a2', 'slc30a5', 'mtif3', 'accsl', 'clpsl2', 'fbxo8', 'patl2', 'cbr3', 'pafah2', 'wbp2', 'cggbp1', 'mboat4', 'top2b', 'ppfia3', 'plekha8', 'fra10ac1', 'ssc4d', 'c19orf85', 'ldhal6b', 'smarca4', 'kctd15', 'slc35d1', 'mageb16', 'plxna4', 'shroom3', 'nbn', 'sik2', 'iqcd', 'cyfip1', 'smcr8', 'erf', 'tchp', 'rapgef2', 'il1rl1', 'c4orf46', 'hoxa10', 'asb16', 'mmp14', 'gmpr2', 'slc7a2', 'rab23', 'fcamr', 'wdr37', 'klk4', 'usp25', 'cldn11', 'htr1d', 'cbfb', 'gpr135', 'pprc1', 'ttf2', 'secisbp2l', 'rpia', 'spink14', 'or4c12', 'vti1a', 'ctdsp2', 'foxi1', 'pcsk5', 'clint1', 'trub2', 'fgfr4', 'eef2kmt', 'zmynd19', 'grk1', 'klf9', 'palb2', 'pkp4', 'lrrc37b', 'nme2', 'styxl1', 'tmem268', 'fyn', 'prkar2b', 'shld3', 'tex9', 'p4hb', 'thoc5', 'btg3', 'kcna5', 'ergic2', 'hacd3', 'ly6k', 'scg5', 'ovol3', 'nrsn2', 'nphs1', 'synpo', 'ccnq', 'c7orf25', 'ube2m', 'drgx', 'ruvbl1', 'ptpn6', 'zmym2', 'bet1', 'cntrob', 'hadh', 'coa4', 'oas3', 'b2m', 'mark4', 'ttc12', 'atrx', 'igsf21', 'pml', 'slc6a3', 'cfap44', 'dot1l', 'tnfaip2', 'tecr', 'pof1b', 'coro2a', 'or2c1', 'ugt2b28', 'bex4', 'znrf1', 'ebag9', 'slc25a44', 'plekho1', 'tigd3', 'page3', 'acyp1', 'tg', 'etv2', 'tmem161a', 'sephs2', 'tnnt2', 'canx', 'nkapl', 'hgsnat', 'wdr97', 'or4x2', 'ptpn23', 'lhx6', 'eif4ebp2', 'rnf213', 'vps28', 'ckap5', 'hepacam2', 'znf277', 'klrc4', 'pappa', 'znf397', 'msantd4', 'higd1c', 'cttn', 'krtap6-1', 'gramd2a', 'sh3bgrl3', 'asip', 'lin7a', 'pxdc1', 'mapk14', 'inhba', 'focad', 'fam135b', 'tmprss4', 'spn', 'scube3', 'serping1', 'lrrc8e', 'senp6', 'znf853', 'gnat3', 'orm1', 'ebln2', 'pbk', 'art1', 'mtfp1', 'thpo', 'tspan33', 'sec11c', 'micall2', 'rab3a', 'slc7a11', 'spry3', 'cog4', 'atp1a3', 'smr3a', 'cldn12', 'ncoa1', 'fbxl7', 'rnf24', 'rere', 'spatc1l', 'gpd1l', 'zmynd12', 'zfand1', 'cox17', 'gpr37l1', 'nucb1', 'xk', 'ric1', 'st8sia3', 'rrp8', 'lsg1', 'arfgef1', 'prlhr', 'bmpr2', 'ttc5', 'rbm17', 'cd180', 'gpx7', 'plekha6', 'sfpq', 'psmb4', 'hspa2', 'snap25', 'pramef6', 'ube3d', 'gins4', 'lrrc10', 'ttll7', 'stpg1', 'fgl2', 'akr1e2', 'kat7', 'znf415', 'eif4g3', 'cxadr', 'grap2', 'nsmf', 'znf132', 'svil', 'fam189b', 'tmem17', 'c2orf68', 'gpr148', 'higd1a', 'lrrc14b', 'znf214', 'wrap53', 'zfp3', 'kntc1', 'znf736', 'adgb', 'atp13a2', 'dgkq', 'znrf3', 'abcg2', 'parvb', 'cracr2b', 'crlf1', 'cttnbp2', 'prox2', 'ogn', 'ccdc34', 'ddit3', 'selenok', 'acot8', 'hapln2', 'nbas', 'tsc22d3', 'med12l', 'gria4', 'or12d2', 'gpr158', 'atp1b4', 'zmat3', 'phactr2', 'hras', 'cep112', 'apol5', 'pcdhga2', 'ggt5', 'kir2dl4', 'ppp1r16b', 'pck2', 'acadm', 'tubgcp2', 'slc47a2', 'ctrb1', 'kcnn4', 'adam11', 'pclaf', 'ppp1r3e', 'tas2r39', 'brcc3', 'grwd1', 'gabpb1', 'nt5dc2', 'dnajb14', 'surf4', 'akr1b10', 'arhgef19', 'cpa6', 'slc35a4', 'chrna6', 'tpk1', 'spty2d1os', 'hyou1', 'tmsb10', 'fam216a', 'or4k5', 'ndufv1', 'neo1', 'spry2', 'mospd3', 'exog', 'obp2b', 'oxgr1', 'or51v1', 'inpp4a', 'npr3', 'tmem269', 'cplane1', 'wdcp', 'trip6', 'p2rx6', 'sarnp', 'tmem187', 'zacn', 'pacrgl', 'adamts17', 'pnmt', 'pom121', 'or1q1', 'ccl17', 'pip5k1a', 'crybg2', 'ppil4', 'sun1', 'cln6', 'ankrd34c', 'unc119', 'pla2g4b', 'rhpn1', 'exoc3l4', 'ergic1', 'slc7a14', 'serpinb13', 'zmynd11', 'timm22', 'cyc1', 'kif2c', 'gjd4', 'arpc2', 'enam', 'dpysl5', 'pdlim5', 'kcnd2', 'sap30l', 'arl2', 'cenpq', 'nanogp8', 'kcnj8', 'iglon5', 'fam166a', 'nectin3', 'dhx36', 'clec5a', 'tor1a', 'prkcz', 'edaradd', 'elavl3', 'wfdc5', 'tafa2', 'c2cd2l', 'cpsf1', 'lrrc25', 'syne4', 'cfap69', 'pcnx4', 'zbtb24', 'pgbd2', 'ensa', 'tdg', 'tmem221', 'ndst3', 'map3k1', 'rrp9', 'mok', 'casr', 'mybpc3', 'nop2', 'c5ar1', 'pla2g15', 'adad2', 'amotl2', 'cwf19l2', 'ganc', 'ddah1', 'upk3b', 'tmem121', 'id1', 'ggact', 'parp3', 'sec24a', 'atg13', 'zbtb39', 'gpr174', 'or6a2', 'rnf43', 'stam', 'vps11', 'marcol', 'alg12', 'otc', 'pcdhga9', 'baz2b', 'fbxo4', 'gk3p', 'neurog2', 'fam199x', 'hipk2', 'snd1', 'col14a1', 'cndp2', 'alg1', 'nubp1', 'klc3', 'slc35a1', 'ddah2', 'myo5b', 'tmem40', 'dcaf6', 'cd14', 'rassf10', 'mrln', 'krt28', 'brca1', 'ezr', 'trim69', 'iqcn', 'muc21', 'psg6', 'rgs1', 'rxrg', 'leutx', 'habp2', 'tsen34', 'c4bpb', 'uqcrc2', 'r3hdm1', 'klhl30', 'c2cd4a', 'mcoln1', 'eppin', 'ids', 'cmtm1', 'fkbp7', 'gpsm1', 'aim2', 'slc51b', 'mthfsd', 'ccdc137', 'wrap73', 'asb15', 'pcyt2', 'c1ql3', 'ndufa5', 'usp19', 'ooep', 'mafg', 'golga7b', 'retreg1', 'igf1', 'raet1l', 'lbp', 'sebox', 'nck1', 'sfrp5', 'nhlrc2', 'slc25a11', 'pitrm1', 'btbd11', 'efhb', 'mcm9', 'sec14l2', 'or6s1', 'nfil3', 'mt-atp6', 'sde2', 'zc3h12d', 'rab3d', 'il9r', 'zc3h3', 'spink6', 'slc25a22', 'rpp25', 'oas1', 'znf717', 'prpf8', 'phb2', 'rab24', 'oaz1', 'lrrc74a', 'gpx5', 'lrtm2', 'spata16', 'zfyve9', 'ap5z1', 'rbm11', 'ifna14', 'or10j5', 'exoc2', 'abca2', 'peli3', 'prpf40b', 'cep57', 'mri1', 'hirip3', 'wdr55', 'klf2', 'cstl1', 'krtap8-1', 'gsdmc', 'foxf2', 'xpa', 'phgr1', 'srrt', 'gsc2', 'sh2d1a', 'ccdc159', 'c8orf82', 'ormdl2', 'sncb', 'myom2', 'slc10a2', 'hes6', 'ppp1r26', 'chrna7', 'alkbh6', 'vasp', 'cse1l', 'srrm4', 'osbpl2', 'foxk1', 'gtf2f2', 'slc2a2', 'tsku', 'crnkl1', 'tesc', 'impa2', 'slc9a3', 'krtap4-6', 'krt79', 'cct3', 'plscr2', 'mast4', 'isl1', 'gmfg', 'tmem131l', 'ptf1a', 'or13c3', 'ca10', 'lamc1', 'mindy4b', 'fut9', 'garnl3', 'me3', 'gpc6', 'atp6v1d', 'pcna', 'st8sia2', 'klhl29', 'usp41', 'washc5', 'lgr4', 'lcn1', 'tnfsf9', 'kif26b', 'slc30a8', 'ssr2', 'itgb6', 'brat1', 'chtf8', 'lss', 'lcn2', 'fam9b', 'fn3k', 'abr', 'piga', 'b4galt3', 'shisa4', 'hemk1', 'ksr2', 'arhgap24', 'cenpj', 'ankrd65', 'pfkm', 'spata6l', 'selenov', 'ms4a13', 'col19a1', 'fth1', 'ltb4r2', 'pgrmc1', 'glb1l3', 'prrc2b', 'ip6k2', 'fbxl15', 'prrg4', 'fibcd1', 'kcns1', 'cystm1', 'l3mbtl3', 'apoo', 'sh2d1b', 'vstm4', 'tmprss11f', 'mlana', 'lmx1b', 'tspear', 'odf3b', 'hax1', 'pcdhb1', 'orm2', 'ftsj3', 'reg4', 'znf583', 'prdx4', 'slc10a5', 'shisa6', 'ptpn20', 'ankrd35', 'cdip1', 'caprin2', 'rell1', 'fbxl2', 'bpifb1', 'pcgf6', 'ppih', 'muc5b', 'zmat1', 'kctd12', 'nmur2', 'mtss1', 'gpatch1', 'pyurf', 'daglb', 'scamp2', 'lrrc58', 'dyrk3', 'prss3', 'kcnq3', 'trpc5os', 'znf646', 'hopx', 'ivl', 'psmb8', 'spen', 'oxt', 'cpne9', 'or52e8', 'pdpk1', 'tm9sf1', 'tmem235', 'il33', 'dll4', 'zeb2', 'rbm46', 'kifc1', 'zfyve26', 'fam160b1', 'bccip', 'clic5', 'hhipl2', 'med14', 'acat2', 'pusl1', 'rlf', 'c10orf88', 'gpsm3', 'cplx3', 'nlgn3', 'c5orf49', 'smim38', 'arhgef28', 'wipf1', 'ddr1', 'selenon', 'chmp7', 'marveld2', 'eif4h', 'rxfp1', 'gtpbp10', 'usp32', 'clec2b', 'tvp23a', 'zgrf1', 'pcsk7', 'lrch2', 'gpr32', 'naa16', 'zdhhc21', 'spata2l', 'arhgef37', 'spata9', 'znf703', 'c9orf50', 'arfgap3', 'sema6d', 'cacna1i', 'pin1', 'ntn4', 'tcp1', 'slc5a9', 'coro6', 'tmem106b', 'plec', 'spire2', 'znhit2', 'st7l', 'mmp7', 'znf592', 'mpp1', 'or10v1', 'syp', 'mtnr1b', 'c1orf35', 'rpp40', 'magi2', 'cfap97d2', 'znf257', 'pip4p1', 'tmem119', 'pde6d', 'tmem270', 'vn1r1', 'gtf2b', 'pdss1', 'tfap2d', 'stxbp5', 'cfh', 'dalrd3', 'rtp1', 'smpd2', 'hes7', 'chrnd', 'txnrd2', 'pcdha1', 'timm17b', 'prune1', 'dvl3', 'rfc4', 'slc6a17', 'gmps', 'dnaaf1', 'pamr1', 'igsf23', 'cd81', 'mettl23', 'rtp5', 'nampt', 'ltk', 'zglp1', 'pgm2', 'hs3st3b1', 'ndufv3', 'emx2', 'padi4', 'primpol', 'col13a1', 'abhd6', 'lcor', 'f2r', 'dnajc14', 'aspg', 'ca12', 'nr1d1', 'pnn', 'vmp1', 'lrrc45', 'dipk2b', 'apod', 'qrich2', 'purg', 'zscan31', 'mapre2', 'cox14', 'elac2', 'stard10', 'med12', 'znf561', 'npas1', 'utrn', 'gfod1', 'chpf2', 'col2a1', 'tlr6', 'kcnu1', 'app', 'abca5', 'capn15', 'slc25a27', 'nckap5', 'cspg4', 'utp23', 'mia2', 'casp2', 'vgf', 'poli', 'or9k2', 'sfmbt1', 'cfap52', 'azin1', 'mafb', 'megf9', 'slk', 'pex19', 'wnt4', 'mff', 'topaz1', 'cct2', 'tenm2', 'tff3', 'ecsit', 'evx2', 'slc4a9', 'prg4', 'rbm42', 'supt4h1', 'tmie', 'pcdh19', 'spata12', 'man2a1', 'rev1', 'icos', 'myoz1', 'dedd', 'ndufa11', 'hepn1', 'klk2', 'pdlim4', 'mypn', 'ddx41', 'syndig1', 'sphk2', 'gdpd4', 'tmem150c', 'cntnap3b', 'atg2b', 'pou5f1b', 'patj', 'rilpl1', 'cxcl12', 'fam83c', 'nhlrc3', 'apof', 'rag1', 'jaml', 'slitrk4', 'atp23', 'relch', 'lmo2', 'adi1', 'wnt7a', 'akt3', 'acvr1b', 'znf20', 'sox5', 'c4orf54', 'asb5', 'pgpep1l', 'alox15', 'nudt13', 'tob2', 'npbwr1', 'asxl2', 'grm6', 'xpo1', 'tnfrsf11b', 'gvqw3', 'tnfrsf19', 'ei24', 'igf2bp1', 'or4d6', 'igfbp7', 'glod5', 'cxxc1', 'ankh', 'ankhd1', 'mcu', 'best2', 'znf841', 'nxph1', 'mycn', 'atic', 'hgfac', 'ostc', 'tbc1d2', 'btbd18', 'znf440', 'wdr48', 'cwf19l1', 'pde6h', 'ctsl', 'ppia', 'pax5', 'lrig1', 'cit', 'ngly1', 'rala', 'sucla2', 'cyld', 'dppa5', 'haus4', 'htr1a', 'hace1', 'msmp', 'sacs', 'stk35', 'hdac1', 'abca13', 'hck', 'pgk1', 'or6b3', 'tmlhe', 'cyp20a1', 'tmem165', 'tmem151b', 'prmt5', 'msx2', 'adh4', 'htr7', 'ino80c', 'znf626', 'dppa4', 'tmem147', 'nfatc2ip', 'hspa1a', 'ap5s1', 'c6orf118', 'jph2', 'or10k2', 'fuca1', 'bsnd', 'card9', 'cat', 'spast', 'lurap1l', 'faslg', 'gpsm2', 'kiaa1549l', 'tmem41b', 'pglyrp1', 'mnx1', 'znf517', 'or51a4', 'or5i1', 'rgl2', 'ccny', 'fbxo33', 'cfap298', 'clnk', 'sp3', 'rtl10', 'dhx35', 'cebpz', 'eif1', 'dis3l2', 'cdk11b', 'apobec3c', 'gprc5a', 'c1orf112', 'epha1', 'egf', 'fig4', 'ndst2', 'znf473', 'ppp1r18', 'pparg', 'esyt2', 'klrc3', 'galntl6', 'polm', 'krt8', 'or13c8', 'tdrd7', 'acox2', 'slc14a1', 'lpp', 'fbf1', 'arpc1b', 'traf4', 'unc13a', 'mcidas', 'ddo', 'tnr', 'hes1', 'fcrl3', 'tmem71', 'lyzl2', 'rhbdl1', 'tnnt1', 'tnfrsf25', 'tincr', 'wdr38', 'ddx42', 'six5', 'rhbdd1', 'cacna1f', 'abhd14a', 'gpc1', 'ep300', 'iqsec3', 'cmc4', 'lars2', 'eif2a', 'kif5a', 'mtor', 'eif4e2', 'cyp4f2', 'gabbr1', 'iqca1', 'ddx10', 'bhlhe22', 'crebrf', 'myl10', 'rnf157', 'arhgap19', 'npc1l1', 'kpna7', 'asb3', 'ly6g5b', 'acy3', 'phka2', 'abraxas2', 'eif2b5', 'leprotl1', 'tfap2a', 'rbx1', 'defb131b', 'cntnap1', 'tpbgl', 'tp53bp1', 'krt25', 'olah', 'exph5', 'magel2', 'clec4c', 'pcdh11y', 'scd', 'or5b17', 'rars2', 'azin2', 'l1td1', 'gnai2', 'agap2', 'cers6', 'dync2h1', 'prkch', 'crisp3', 'znf292', 'epb41', 'ccdc174', 'myl3', 'enc1', 'inhbc', 'thsd8', 'saa4', 'kbtbd2', 'kcnj15', 'rsph1', 'fndc9', 'tiaf1', 'ifi44', 'ttc30a', 'or52k1', 'adamts10', 'scml4', 'tk1', 'as3mt', 'csf2', 'tpbg', 'nol11', 'znf835', 'ptges3l', 'zbtb21', 'foxp1', 'col6a3', 'igsf3', 'fgfr3', 'bcl2', 'kdf1', 'lrrc39', 'tmem132e', 'pbdc1', 'asb11', 'golga8o', 'pdlim2', 'hook1', 'smim33', 'morn4', 'manbal', 'mgmt', 'ctns', 'dnm1', 'znf444', 'tep1', 'st14', 'nkg7', 'thap12', 'mdh2', 'rtl8b', 'rfpl4b', 'c2cd4c', 'cdk15', 'or4k15', 'kpna2', 'psmc6', 'hapln1', 'c19orf18', 'cbx6', 'apln', 'pemt', 'dynap', 'mtx1', 'ttc27', 'baiap2', 'plagl2', 'soat2', 'cmtm2', 'rln3', 'syde1', 'tldc2', 'cntd1', 'rcor3', 'atp13a3', 'pik3r2', 'eif4a2', 'gpr62', 'puf60', 'xpo4', 'ccdc89', 'cgrrf1', 'dnah6', 'ttc22', 'hk3', 'aptx', 'mlkl', 'pgpep1', 'fbxl18', 'znf281', 'mymx', 'fam71c', 'narf', 'tmem216', 'ypel3', 'hnrnpd', 'znf100', 'wdr87', 'faim2', 'tcn1', 'cep55', 'parp4', 'rnf151', 'bmp2', 'myo18b', 'mpeg1', 'tbrg4', 'atp10d', 'ska3', 'iyd', 'plekhg1', 'naif1', 'xrcc6', 'sema3b', 'lypd6b', 'cd300e', 'neu1', 'c20orf202', 'fmo3', 'tspan4', 'tmem239', 'timp2', 'csmd3', 'cox8c', 'gbp3', 'n6amt1', 'atm', 'lap3', 'arpc5l', 'gipr', 'jmjd1c', 'tada2a', 'wdr90', 'mindy3', 'clec4f', 'sh3rf3', 'setd5', 'snf8', 'mas1l', 'tmem213', 'spin1', 'zkscan8', 'cul2', 'rnasel', 'tbx1', 'btn3a1', 'ptbp3', 'ormdl1', 'ntng2', 'cnot6', 'dynll2', 'oat', 'fam193a', 'cd4', 'plvap', 'rbp2', 'or2t33', 'ntsr1', 'tm6sf2', 'rdh12', 'pfn2', 'ccdc14', 'nisch', 'hlx', 'manba', 'jrkl', 'fes', 'znf589', 'rpain', 'catspere', 'c1qtnf7', 'prmt3', 'b3gat3', 'slc14a2', 'idh3g', 'igfl4', 'nbr1', 'boll', 'noa1', 'znf230', 'znf253', 'tnnt3', 'polrmt', 'krtap5-3', 'herc2', 'gpd1', 'rassf5', 'coa6', 'edn1', 'ajap1', 'mt-co3', 'znf655', 'cpm', 'nfxl1', 'rab27a', 'stoml3', 'calml4', 'lonp1', 'map7', 'crtc2', 'psmd12', 'ehf', 'fxyd1', 'krtcap2', 'c4b', 'pbxip1', 'ppig', 'gorasp1', 'c4orf48', 'rimkla', 'spata18', 'ifngr1', 'phtf1', 'atp6v1b1', 'krtap10-2', 'eci2', 'ltc4s', 'fam9a', 'mtcp1', 'oosp4a', 'chrnb4', 'nploc4', 'znf280a', 'rbm23', 'siglec1', 'znf665', 'ascl5', 'lmntd2', 'comp', 'ube2l5', 'slc17a8', 'terf2ip', 'irx6', 'ccdc90b', 'uqcrb', 'polr3b', 'tomm20', 'linc02218', 'cyp2c9', 'hexb', 'slc45a2', 'zc3hav1l', 'znf280d', 'tpd52l3', 'pabpn1l', 'ndufc2', 'sdc4', 'c14orf132', 'selenof', 'tmem163', 'lyn', 'pthlh', 'nup205', 'rint1', 'ccr1', 'eif3e', 'casp5', 'phgdh', 'hhex', 'fhad1', 'mzt1', 'dgki', 'znf688', 'fabp1', 'trpm5', 'abcc9', 'utp14a', 'camk4', 'fam20a', 'bgn', 'zxda', 'stub1', 'prkg2', 'cyp39a1', 'nudt17', 'fgd2', 'glipr1l2', 'nsd1', 'pcdha5', 'rnpep', 'b4galnt1', 'rhoa', 'inka2', 'mmp1', 'ccz1', 'krt7', 'birc3', 'anapc1', 'dlx3', 'gng11', 'pkia', 'zw10', 'tshr', 'stoml2', 'folr3', 'tmem196', 'izumo1r', 'lrcol1', 'strc', 'phlpp2', 'mrtfa', 'mgp', 'dpep2nb', 'jak3', 'psmb9', 'dennd10', 'actn2', 'camta2', 'b3gnt4', 'sez6', 'krtap10-5', 'amer1', 'dbh', 'hs6st3', 'lcmt2', 'kcnj4', 'mapkap1', 'ppp2r3c', 'herc1', 'prlr', 'med20', 'or2t6', 'gja4', 'galr1', 'arhgap11b', 'anxa2', 'senp8', 'tmem219', 'parp11', 'trim54', 'pde1a', 'col9a1', 'efcab1', 'vegfa', 'cdh20', 'emilin2', 'nap1l3', 'ywhaz', 'wfdc2', 'znf649', 'rbm27', 'rlim', 'astn1', 'cib4', 'gpr20', 'rnf34', 'wdfy4', 'plekhs1', 'orai1', 'tubb', 'smim17', 'c17orf97', 'nhs', 'pnma6f', 'smim10l2a', 'tlr2', 'pkdrej', 'arhgap21', 'zbtb9', 'bcan', 'homer1', 'atn1', 'abca3', 'yme1l1', 'kctd3', 'kirrel3', 'tmem200b', 'tgfb3', 'kctd1', 'ceacam6', 'tnfrsf13b', 'fcn3', 'grpel1', 'phkg2', 'c7orf50', 'ush1g', 'proser1', 'znf609', 'pwwp2b', 'eri1', 'alcam', 'wnt5b', 'vsnl1', 'slc2a4', 'mcf2', 'rmnd1', 'nrgn', 'krt78', 'plpp7', 'ubiad1', 'agbl5', 'ctsv', 'ankdd1a', 'arrdc1', 'ebf3', 'mfsd13a', 'ago3', 'ervfrd-1', 'trappc1', 'fabp7', 'smc5', 'dusp28', 'etnk1', 'chordc1', 'gcn1', 'tbc1d19', 'c19orf33', 'actr6', 'parpbp', 'tph2', 'fcgrt', 'rho', 'prkdc', 'cstf1', 'paics', 'plekha5', 'dvl2', 'trim65', 'ca5a', 'shmt2', 'tnfsf12', 'frmpd3', 'nsdhl', 'myo9b', 'aldh5a1', 'pom121l12', 'tfpi', 'mab21l3', 'wscd2', 'pramef19', 'zmiz1', 'foxa1', 'onecut1', 'ttc14', 'tex38', 'or6c4', 'islr', 'fabp3', 'cd68', 'bco1', 'apobec3d', 'nlrp14', 'fhl1', 'sart1', 'supt20h', 'cdrt15l2', 'exoc8', 'mtmr12', 'rhobtb3', 'or4f4', 'r3hdm4', 'fbxo31', 'sf3b1', 'zic2', 'rrh', 'cyp4f11', 'tmem242', 'golim4', 'rimklb', 'rnf227', 'vapa', 'wasf3', 'mcrip1', 'cox7a1', 'arid5a', 'tnfrsf4', 'asrgl1', 'hmcn1', 'hnrnpm', 'ms4a6e', 'crnn', 'plg', 'cnot7', 'b4galt1', 'sema4b', 'ogfod1', 'b3gnt9', 'abcc8', 'ttc23', 'mink1', 'chi3l2', 'rhobtb2', 'tgfbr3l', 'or8b8', 'hif3a', 'cdc42ep2', 'tktl2', 'colgalt1', 'scai', 'topors', 'tspan17', 'tlcd2', 'c8orf88', 'cacng6', 'tulp1', 'ceacam20', 'nutm2a', 'c18orf54', 'znf451', 'fam117b', 'carmil2', 'izumo1', 'c1galt1c1l', 'zmat2', 'nkrf', 'trib1', 'slc45a1', 'alox5', 'clec3b', 'erlin1', 'zim2', 'apoh', 'sirt3', 'wdr43', 'znf699', 'epm2aip1', 'gata5', 'odc1', 'kctd7', 'znf490', 'cnga1', 'kbtbd6', 'prmt1', 'cyp2a7', 'klf14', 'bend2', 'ackr2', 'gp6', 'mon1a', 'castor2', 'cd300lb', 'copa', 'ralgapb', 'mkx', 'nfu1', 'rorb', 'amh', 'ccdc22', 'sdk2', 'wdhd1', 'anxa4', 'anxa5', 'ciita', 'sf3a2', 'hes2', 'pdha2', 'aldh2', 'cnga2', 'golt1b', 'coq6', 'hoxc5', 'rbm26', 'znf229', 'cst6', 'alpk3', 'trappc10', 'arsi', 'arhgap31', 'steap3', 'tafa5', 'rita1', 'kcng4', 'ctsw', 'ctnna3', 'dlst', 'ovch1', 'fkbp3', 'nacc1', 'ccdc182', 'srpx2', 'or10a7', 'dhx9', 'fcgr2a', 'pcdhga5', 'ier3', 'traf3', 'vps9d1', 'psap', 'mief2', 'armt1', 'vps33a', 'nrbf2', 'scube1', 'lrmda', 'c2orf88', 'a2ml1', 'itgb7', 'gpr84', 'calr', 'dctn3', 'fam126a', 'arhgap22', 'dnajb11', 'lrriq4', 'gng12', 'krt17', 'suz12', 'calb1', 'stxbp2', 'pcnx3', 'atxn7l3', 'asph', 'cep95', 'hormad2', 'serpine3', 'uckl1', 'scn3b', 's100a6', 'or2l13', 'lsm2', 'xdh', 'tmem156', 'lrrc73', 'setdb2', 'me2', 'ermn', 'ankle2', 'egfl6', 'znf599', 'ethe1', 'gapdhs', 'noc2l', 'fkbp6', 'rad1', 'rad51d', 'tmem192', 'ern2', 'acp6', 'znf420', 'ift43', 'lysmd1', 'pdia6', 'reep2', 'neil2', 'zfand2a', 'tmem67', 'sirt1', 'oga', 'spanxn5', 'ado', 'hip1', 'znf266', 'tmem114', 'papola', 'cacna2d1', 'atp5f1d', 'il36g', 'commd2', 'ewsr1', 'acot6', 'msx1', 'cdca7', 'gsta1', 'kctd8', 'fst', 'lrp5', 'jarid2', 'dhx16', 'or14k1', 'riok3', 'hspb8', 'cdr2', 'tmprss11a', 'ms4a7', 'mpdu1', 'gpam', 'nox4', 'thap2', 'plod3', 'pkd1l1', 'tmtc4', 'muc17', 'chd2', 'trmt1', 'gys2', 'abi2', 'mmp2', 'prim2', 'rab7b', 'nppc', 'snap23', 'sag', 'dazl', 'capn1', 'dnal4', 'pwwp3a', 'creg1', 'sgcb', 'traf3ip1', 'lst1', 'znf571', 'ngrn', 'eps15', 'rnf25', 'akr1d1', 'trim75p', 'xrcc4', 'znf536', 'ccl20', 'dhdds', 'cd101', 'agmo', 'nat2', 'c11orf1', 'atp5f1e', 'znf280b', 'vamp7', 'pstk', 'atp1a1', 'lin37', 'alg11', 'lmbr1', 'mms19', 'tmf1', 'usp14', 'myadm', 'gpr27', 'mef2b', 'c11orf16', 'c11orf97', 'fam53c', 'dcaf17', 'tmem140', 'arhgap32', 'prss36', 'foxa3', 'cacna2d4', 'alx4', 'znf576', 'gls2', 'uhrf1bp1l', 'angptl4', 'xrcc5', 'ttpa', 'snrpg', 'tom1', 'or5m8', 'kiaa1586', 'adgrg3', 'pex16', 'mfsd2b', 'susd5', 'lef1', 'zkscan3', 'akap4', 'ccnt2', 'usp8', 'nutf2', 'galnt18', 'emd', 'fam83a', 'them6', 'olig2', 'ric3', 'mbl2', 'sec22a', 'cd24', 'tmem263', 'anxa9', 'ccni2', 'dsc1', 'slc30a7', 'map2', 'fam178b', 'plxnd1', 'skp2', 'ranbp3l', 'serpinb6', 'slc41a3', 'arms2', 'chd5', 'c7orf26', 'znf696', 'cuzd1', 'kras', 'rasl11b', 'pelo', 'cdc20b', 'scn7a', 's100a11', 'pimreg', 'c9orf135', 'snrnp70', 'sptssb', 'cdyl2', 'gpr137c', 'crppa', 'cxcr6', 'rarg', 'dip2c', 'glyctk', 'hic1', 'lrrc26', 'ilf2', 'wdr47', 'or10g6', 'wsb2', 'gpc5', 'pno1', 'castor1', 'tmprss13', 'cyb5r1', 'sntg1', 'marveld1', 'tmtc3', 'fgd6', 'c12orf65', 'kctd4', 'cdh18', 'sdccag8', 'fut5', 'mpg', 'znf585b', 'tuba3d', 'smim31', 'scn9a', 'actg2', 'kif5c', 'dtx2', 'pdk2', 'or5h15', 'clec9a', 'or2g6', 'eif4enif1', 'taf12', 'spegnb', 'tfdp2', 'cdc7', 'fcrl2', 'srpra', 'lasp1', 'or56a1', 'ppdpf', 'rnf166', 'lrrc37a3', 'ypel1', 'atrn', 'commd10', 'psma4', 'acad11', 'cd151', 'mpped2', 'klrg1', 'phf21b', 'prrg3', 'fam209b', 'lyst', 'otol1', 'kdm2a', 'galnt13', 'nop9', 'ano3', 'nek9', 'gemin7', 'atl2', 'pdrg1', 'upf3b', 'scx', 'txnl4b', 'rai1', 'nat16', 'thumpd3', 'layn', 'prpf19', 'qrich1', 'enpp1', 'ttc7b', 'zswim7', 'fam234b', 'scp2d1', 'pbx3', 'icam1', 'c2orf74', 'pramef14', 'adnp', 'mapk8ip2', 'cinp', 'abat', 'cpne5', 'trim22', 'cdk8', 'clk2', 'gpr26', 'abhd17c', 'zc2hc1b', 'flvcr2', 'trdmt1', 'c16orf95', 'pdzd4', 'ldlrap1', 'calcb', 'vcpkmt', 'armc9', 'znf501', 'ubqlnl', 'dppa3', 'smarcd2', 'rtf2', 'cdc20', 'rbbp5', 'mchr1', 'ndufs3', 'mccc1', 'eddm3b', 'emilin1', 'ring1', 'hspa12a', 'cend1', 'galns', 'wdr88', 'syngr1', 'ikzf3', 'fut3', 'dna2', 'sall1', 'yipf2', 'mmp9', 'ndor1', 'qsox2', 'ppie', 'afg1l', 'map3k4', 'erap1', 'zpbp', 'dusp8', 'smim3', 'dnpep', 'strip2', 'cacnb2', 'lipf', 'gata4', 'ncam1', 'cxxc4', 'p2rx4', 'mkrn3', 'or2b3', 'klhl10', 'fosb', 'cpne4', 'ccdc183', 'rnf175', 'gadd45g', 'ivns1abp', 'glrx2', 'exosc3', 'ehd3', 'cep295nl', 'csnk1g1', 'ankrd46', 'dus2', 'nmb', 'txn2', 'dio1', 'calcrl', 'krtap5-2', 'slc35a2', 'pef1', 'rgpd4', 'asic5', 'neurl1b', 'pkhd1', 'myo16', 'psma8', 'evi5', 'tsga10', 'ppfibp2', 'or1a1', 'cox11', 'rabac1', 'neb', 'septin4', 'capn7', 'glce', 'sh3bgrl', 'gigyf1', 'baz2a', 'rbm12b', 'strn3', 'fam110b', 'lztfl1', 'plac8', 'krtap19-8', 'or2at4', 'svbp', 'rfc3', 'rbfox2', 'ampd1', 'ephb4', 'atg9a', 'phf23', 'c2orf49', 'smc4', 'atp5f1b', 'linc00672', 'tex46', 'appl1', 'csrnp2', 'hyal4', 'p2ry14', 'c6orf89', 'rrm2b', 'rsl1d1', 'magi3', 'rab9b', 'ssrp1', 'ovgp1', 'znf12', 'znf84', 'tdrp', 'fxyd2', 'apela', 'mief1', 'cldn25', 'zcchc14', 'slc6a8', 'gpr89b', 'cabin1', 'samd11', 'ppme1', 'dcaf4', 'tex13b', 'eif2d', 'ccdc12', 'scml2', 'robo2', 'l3hypdh', 'leap2', 'ctsf', 'nras', 'aspscr1', 'myef2', 'papolg', 'psmb3', 'hoxa13', 'znf350', 'tnmd', 'irf3', 'b4galnt3', 'flvcr1', 'crtc3', 'hsf5', 'tma7', 'znf302', 'synpr', 'ppp2r2a', 'gbp5', 'or13c4', 'srsf7', 'myl4', 's100a2', 'selp', 'arfgef2', 'tmem250', 'rab13', 'sephs1', 'bves', 'c11orf95', 'nup188', 'nobox', 'txndc11', 'fut11', 'bcl3', 'fam214b', 'insyn2b', 'ppp1r9b', 'gys1', 'mustn1', 'rubcn', 'supt3h', 'gpr146', 'rbmxl3', 'dynlt3', 'derl1', 'spic', 'abcb5', 'gins1', 'ocln', 'lingo2', 'csgalnact2', 'tgif2', 'tspan18', 'elane', 'slc5a1', 'lonrf1', 'lrrc9', 'apaf1', 'plag1', 'ccdc7', 'ugt1a10', 'gramd1c', 'man1a2', 'prpsap1', 'stmn2', 'nelfb', 'scnn1b', 'pcdhb9', 'slc24a2', 'rin3', 'ezh2', 'cep19', 'rida', 'uggt2', 'cxcl6', 'ano6', 'fbxl8', 'gtse1', 'cyp4f8', 'fli1', 'kcng2', 'kiss1', 'gdf7', 'axl', 'trpm3', 'herc4', 'foxd2', 'adck5', 'btn1a1', 'itga5', 'inka1', 'ervmer34-1', 'fgf10', 'pth', 'serpina5', 'lonrf3', 'dnajb2', 'actr5', 'ttc38', 'adprhl1', 'tmem247', 'ccdc86', 'trip13', 'b4galt6', 'pacsin1', 'slc25a5', 'pts', 'p2ry1', 'vps13b', 'arrb2', 'bcs1l', 'pmpcb', 'sult1a2', 'lipi', 'was', 'tada2b', 'pcbd2', 'gpr182', 'cks2', 'eda', 'tspan12', 'mtrr', 'trim40', 'odr4', 'pih1d2', 'c2cd4d', 'ebf4', 'lipt2', 'crispld1', 'irs2', 'stk26', 'fip1l1', 'fscb', 'ndst4', 'zfp2', 'rbpj', 'hnrnpu', 'ythdf2', 'defb4a', 'cyp1a2', 'asmt', 'cdkn2aipnl', 'il22', 'cox20', 'thap5', 'sec24c', 'ccl4l2', 'gabra6', 'stk4', 'tmem183a', 'snrnp48', 'cdc42ep3', 'znf177', 'tspyl6', 'zbtb17', 'atp5f1a', 'gcdh', 'dact3', 'usp24', 'spata31a7', 'serpina1', 'znf730', 'ggn', 'hrnr', 'hapln4', 'lck', 'znf99', 'hexd', 'pgrmc2', 'als2cl', 'cgnl1', 'ttll5', 'txndc5', 'ca6', 'pccb', 'zdhhc6', 'ireb2', 'troap', 'gbp1', 'twf2', 'enpp6', 'hoxc10', 'dscc1', 'mrfap1l1', 'kif13b', 'slc24a4', 'gpx3', 'fbxo10', 'pkn1', 'c9orf78', 'tmem141', 'anks1b', 'kiaa1755', 'ccdc13', 'stard13', 'actr1a', 'hyls1', 'ybx1', 'cmtm8', 'dcaf12l1', 'ghsr', 'pnpla7', 'nr4a3', 'dmd', 'slc39a3', 'jup', 'cox6b2', 'ecel1', 'abcf2', 'grin2c', 'tomm40', 'pi3', 'nup210', 'myog', 'rfpl4al1', 'asgr2', 'entpd6', 'eif2b2', 'btbd7', 'tbp', 'c5orf15', 'lgi1', 'mmp19', 'atp7b', 'vwc2l', 'tdp2', 'rgl4', 'zxdb', 'arid3c', 'fmr1nb', 'c10orf53', 'aadat', 'atp1b2', 'atp6v0e1', 'ccdc9', 'or3a2', 'hesx1', 'vps26c', 'mxra5', 'mmgt1', 'gjc1', 'tmem258', 'frem2', 'znf585a', 'itpa', 'slco3a1', 'haspin', 'grik4', 'eef1b2', 'lrfn2', 'smad7', 'tff2', 'nutm2e', 'pgbd4', 'pcyt1b', 'fadd', 'dpep2', 'paxbp1', 'dab2', 'tst', 'glrb', 'washc4', 'rnf20', 'gle1', 'dzip1', 'ift46', 'afm', 'znf623', 'prkag3', 'slc10a1', 'pnliprp3', 'dnah5', 'dcaf8l2', 'il3', 'akt2', 'kif15', 'mbd4', 'taf6l', 'zbtb40', 'glo1', 'tmem68', 'c22orf23', 'fam135a', 'rln1', 'nkx1-2', 'creb3l1', 'kat6a', 'sel1l3', 'zkscan7', 'dtx1', 'plekhj1', 'slc16a14', 'hhat', 'prr23c', 'tmed8', 'card6', 'ltbp2', 'atf6', 'retreg2', 'glb1', 'mab21l4', 'tex55', 'akap1', 'si', 'rnf144a', 'tulp3', 'c12orf54', 'bbs10', 'ikzf1', 'fam163b', 'bbs2', 'prkab2', 'cx3cl1', 'actl8', 'or1a2', 'sfrp2', 'gkn1', 'tmem132a', 'pla2g2f', 'tmod1', 'epb41l4b', 'dbf4b', 'upk1b', 'foxi3', 'il36rn', 'nbpf1', 'dach2', 'bcorl1', 'socs3', 'vrtn', 'arsh', 'slc15a1', 'rgs17', 'gid8', 'jakmip2', 'jade1', 'cmip', 'alox15b', 'dlgap2', 'spdl1', 'lamtor5', 'gdap1', 'dtd1', 'fan1', 'pxt1', 'slc3a2', 'ppp2r2c', 'alkbh8', 'igfbp3', 'abhd11', 'apc', 'tnfaip8l3', 'dtna', 'ccdc42', 'bik', 'ier5', 'inpp4b', 'arsa', 'gpi', 'nox5', 'lrig2', 'cdkn3', 'bnc1', 'mageb5', 'serpinb3', 'or9q1', 'kcnk18', 'rab40c', 'vamp8', 'ccdc18', 'tex49', 'csnk1g3', 'olfml3', 'kif23', 'htr2b', 'tmem74b', 'slc5a10', 'ppara', 'pinlyp', 'ros1', 'faap24', 'gsta2', 'steap2', 'tes', 'tead4', 'larp6', 'snx29', 'chrne', 'myh9', 'gper1', 'rragb', 'slc25a19', 'sost', 'slc5a11', 'lamtor3', 'cbfa2t3', 'kdelr3', 'itprid1', 'gja9', 'mpzl1', 'sult1c3', 'kcnv2', 'aamdc', 'med13', 'cfap57', 'mmp13', 'polr3d', 'kcna1', 'ago2', 'jag2', 'irf6', 'epx', 'ppm1n', 'znf157', 'mrgpre', 'ntrk2', 'bcl2l2', 'exoc5', 'pcdhb14', 'mau2', 'irx2', 'drd3', 'abhd16a', 'agbl4', 'zcwpw1', 'cfd', 'actn4', 'gtpbp1', 'mt-nd5', 'slc38a2', 's100a10', 'ndufb11', 'syk', 'flg2', 'rheb', 'micb', 'nudt5', 'or5b3', 'ankub1', 'anapc15', 'nars2', 'unc50', 'gimap1', 'kiaa2013', 'ech1', 'mindy1', 'pdlim7', 'clcn6', 'hspb7', 'sgcg', 'kcnk16', 'pdzd9', 'tango2', 'raet1g', 'znf224', 'dchs1', 'foxd1', 'afap1l2', 'rnasek', 'hdac2', 'ski', 'rab4a', 'smr3b', 'dhcr7', 'pmm1', 'zmym6', 'avpi1', 'ubxn2b', 'aldh18a1', 'hcn2', 'crebzf', 'or6n1', 'kcmf1', 'cep135', 'kank1', 'cdrt15', 'ccdc136', 'ccnc', 'fbxl3', 'cers2', 'pcdhb8', 'bcl6', 'c6orf163', 'plpp6', 'fignl2', 'ddx49', 'wt1', 'znf668', 'dusp23', 'rangrf', 'or10a5', 'tsacc', 'etf1', 'mars2', 'twnk', 'dmrta1', 'cfap299', 'ptprc', 'ggct', 'pafah1b2', 'gtf2h3', 'rem1', 'c1ql1', 'slitrk6', 'kcnn3', 'hspbap1', 'gjc3', 'gla', 'c20orf144', 'immp1l', 'tmbim4', 'morn3', 'rab21', 'prf1', 'ankrd2', 'actr1b', 'cd200r1l', 'slc22a7', 'pip5kl1', 'ddx58', 'syngr2', 'serpina4', 'rnf170', 'dkkl1', 'cobl', 'pole', 'gpc3', 'irak1bp1', 'smarcal1', 'znf644', 'ripk3', 'zbtb22', 'znf789', 'rab32', 'kctd10', 'b9d2', 'gtf2i', 'hoxc13', 'pofut2', 'arhgap27', 'mthfd2', 'erap2', 'igf2bp2', 'fbxo38', 'actl10', 'htr3a', 'hrh1', 'nt5c1a', 'ammecr1l', 'orc3', 'wfdc13', 'tmem267', 'rpa2', 'slc6a16', 'sprr5', 'tent4b', 'oaz3', 'mb21d2', 'gnl1', 'dclre1a', 'fgf16', 'ppm1e', 'atp2b4', 'otud7a', 'sirt4', 'ralgps2', 'psme3', 'map3k10', 'znf888', 'srp68', 'piwil3', 'socs4', 'aldh3a1', 'gart', 'eif1b', 'il20ra', 'hacd1', 'rgma', 'ap1s2', 'naaladl1', 'pex5l', 'numbl', 's100a7l2', 'tmem185b', 'c17orf49', 'timm13', 'imp3', 'fcsk', 'peg10', 'vma21', 'ccdc102b', 'nxph4', 'c18orf63', 'asic2', 'acsm5', 'fgd3', 'phospho1', 'defb110', 'dis3', 'cacna1g', 'ifna21', 'kcnh7', 'gnrhr', 'nadk2', 'vcp', 'gen1', 'foxd4l6', 'jund', 'zc3h15', 'hps6', 'cnnm2', 'ptpn18', 'folr1', 'fstl5', 'metrnl', 'lif', 'sfrp4', 'hspa13', 'rab15', 'tmem30b', 'zdhhc4', 'znf44', 'srek1ip1', 'eid1', 'defb135', 'lhx8', 'znf136', 'klhdc4', 'pttg1ip', 'bmp3', 'foxd4l5', 'kctd18', 'cpa3', 'znf263', 'itgb3', 'ndufaf5', 'rgs3', 'osbp', 'nhej1', 'mettl18', 'ebf2', 'tada3', 'grxcr2', 'rtel1', 'mt-nd6', 'scand1', 'smarcad1', 'pmel', 'litaf', 'epcam', 'meox2', 'tfec', 'trem1', 'lrrc37a2', 'prss16', 'apip', 'tnfrsf14', 'atp8a2', 'xcl1', 'morf4l1', 'arid5b', 'apol3', 'tlx1', 'yipf1', 'trim21', 'rab11fip4', 'taf9', 'kctd13', 'rtp4', 'abi3', 'ptgis', 'slc22a25', 'map3k11', 'slco1b3', 'septin10', 'dhfr2', 'emilin3', 'rag2', 'pum1', 'dstn', 'mal2', 'reep1', 'muc4', 'lgsn', 'aph1b', 'tmcc3', 'krtap9-8', 'cebpg', 'c1orf52', 'il21', 'tigd5', 'chp1', 'cbln1', 'cfhr4', 'stat3', 'snrpa', 'pkd2', 'pcdh1', 'hspa4l', 'tspan7', 'med4', 'sf3b2', 'htatip2', 'hoxb2', 'or6k3', 'vps8', 'mthfd1', 'adcyap1', 'ccdc160', 'nudt7', 'kctd9', 'rasl11a', 'ubald2', 'slc1a1', 'tenm3', 'enkur', 'c12orf60', 'ass1', 'galc', 'rnf165', 'tmem214', 'krtap22-1', 'klf16', 'cd320', 'znf777', 'tmem69', 'snx25', 'il23a', 'fam3d', 'znf114', 'nkx6-1', 'lix1', 'mbip', 'polh', 'sel1l2', 'obi1', 'ankrd40', 'bdkrb1', 'safb', 'c3orf84', 'rdx', 'nme6', 'iqcf2', 'chrdl2', 'fem1c', 'slc6a19', 'shb', 'lmbrd2', 'capn2', 'sp140', 'hpcal1', 'nme1', 'klhl5', 'vstm2a', 'mfsd3', 'prim1', 'cst9', 'lrrc8c', 'gabpb2', 'emx1', 'tsg101', 'znf776', 'ankrd37', 'prrc2a', 'cdk1', 'tmem127', 'zmynd8', 'rsrp1', 'dnd1', 'triml2', 'ppm1f', 'spcs3', 'magohb', 'lrrk1', 'atp5me', 'dusp19', 'ogt', 'noxred1', 'ppic', 'krtdap', 'ifne', 'arhgef6', 'ceacam4', 'semg2', 'edil3', 'atg5', 'pag1', 'pcdh8', 'slain1', 'rnf19b', 'abcg5', 'cpe', 'tnfrsf1b', 'lilra5', 'or51e1', 'fbxo40', 'ptprh', 'apool', 'hpx', 'scp2', 'tnfrsf18', 'vwa7', 'itprid2', 'abhd14b', 'hsd3b2', 'dbr1', 'adm2', 'foxl2nb', 'yeats4', 'hpgds', 'vmac', 'eras', 'sfxn4', 'psmc1', 'znf648', 'itga9', 'ift80', 'slfn11', 'hibch', 'ihh', 'inpp5b', 'bub1b', 'rd3l', 'yrdc', 'or5b12', 'miga1', 'clns1a', 'colca2', 'slc13a5', 'kiaa1210', 'mrm2', 'kitlg', 'p2ry8', 'arsj', 'bnc2', 'col4a4', 'ppil6', 'dnajc8', 'ppp6r3', 'slc4a2', 'cxcl2', 'nosip', 'dpp8', 'sytl4', 'amtn', 'idnk', 'spag17', 'nmbr', 'b4galt2', 'mroh9', 'pou5f2', 'atp1a4', 'ptpn12', 'gem', 'irf7', 'tead1', 'creb3l3', 'ifnl1', 'cacnb4', 'lpar6', 'abcb8', 'lrrc32', 'unc93a', 'csta', 'tnni3k', 'leng8', 'flii', 'trim25', 'clca2', 'krtap4-5', 'tnfaip1', 'st3gal3', 'serpind1', 'stt3a', 'adgrl2', 'nudt9', 'cuta', 'bnip5', 'znf600', 'endou', 'eef1akmt4', 'snapc4', 'ccl23', 'ubqln2', 'slc35e1', 'rab11fip5', 'smyd2', 'lpcat4', 'tlk1', 'gmds', 'nedd9', 'cd96', 'slc43a2', 'rnase10', 'tmem266', 'sult1e1', 'ccdc57', 'c19orf67', 'otud6b', 'rgs21', 'or5k3', 'il1rap', 'tmem106c', 'btnl8', 'nkiras2', 'tlr9', 'birc6', 'isoc1', 'mybpc2', 'snap29', 'zbtb48', 'mamdc2', 'rsbn1l', 'rbp3', 'slc10a3', 'ank2', 'antkmt', 'fxr2', 'lonrf2', 'hyal2', 'minpp1', 'krtap23-1', 'nebl', 'btaf1', 'tpgs2', 'zfat', 'tcf3', 'slc2a11', 'npap1', 'rbm24', 'jagn1', 'hs3st6', 'lelp1', 'muc22', 'herc6', 'or2ap1', 'ppef2', 'rgs20', 'mycbpap', 'adgre5', 'gfm2', 'oca2', 'scygr8', 'sec14l3', 'msl2', 'bicc1', 'tmem94', 'pfdn2', 'ccdc150', 'lca5l', 'tspan9', 'sft2d2', 'tmco4', 'spg11', 'faf1', 'or4c5', 'ror1', 'pdxp', 'prr16', 'csf3r', 'zfyve16', 'c1orf232', 'cbln4', 'hsd17b12', 'wdr13', 'dpep3', 'pgs1', 'elavl4', 'col16a1', 'mcf2l', 'dpp9', 'pard3b', 'mpc1', 'nsmce3', 'blacat1', 'prkar1b', 'sla', 'myc', 'far2', 'fshb', 'shcbp1', 'chmp1a', 'ccdc40', 'syn1', 'apcdd1', 'lrat', 'chid1', 'haus1', 'dnmt3l', 'pes1', 'zpr1', 'tgds', 'c2cd5', 'fam170a', 'mtres1', 'znf729', 'ndufb5', 'lrsam1', 'sema6c', 'bmper', 'or5bs1p', 'dcaf7', 'ppp1r3d', 'kdm1b', 'taf15', 'ptpdc1', 'tmem125', 'c1orf127', 'pecam1', 'scamp4', 'myl7', 'ar', 'foxo3', 'xkrx', 'nasp', 'hnf1b', 'trpc1', 'ube2e2', 'gnl3', 'gnrh1', 'garem1', 'pde4c', 'cfap53', 'or5ak2', 'vps72', 'galt', 'ndufa6', 'pde7b', 'eif3m', 'nr2e1', 'det1', 'lrrc46', 'rgs7', 'asf1b', 'rom1', 'fat4', 'ptprq', 'dcaf8l1', 'unc13d', 'enoph1', 'chst14', 'pitpnc1', 'rnase12', 'ssc5d', 'esx1', 'timd4', 'slc35d3', 'atp6v1fnb', 'sugt1', 'tmc3', 'gngt1', 'necap2', 'vac14', 'dusp4', 'oscar', 'ubqln4', 'tmem181', 'c1orf100', 'izumo4', 'myom3', 'znf35', 'senp5', 'ociad2', 'ambn', 'scgb2b2', 'tmem251', 'kat14', 'gfra2', 'gak', 'aqp6', 'ica1l', 'rap2a', 'sec11a', 'tmem186', 'tmem238l', 'cep70', 'bicdl2', 'atp5mc2', 'hcls1', 'or13c9', 'ndufa4l2', 'nccrp1', 'fbxo41', 'emsy', 'tubd1', 'sema6b', 'mctp1', 'fahd2b', 'tm4sf19', 'znf430', 'muc16', 'znf70', 'tmem74', 'smarce1', 'uqcrhl', 'ppp1r12c', 'acbd4', 'bop1', 'il5ra', 'slamf8', 'znf573', 'ep400', 'or6c75', 'mucl1', 'mvk', 'triap1', 'vwde', 'dpy19l1', 'slc30a3', 'dpys', 'klhl6', 'acsm1', 'fancm', 'fancc', 'taf1', 'chd3', 'galnt8', 'nek11', 'gab4', 'znf436', 'mog', 'fa2h', 'ccdc189', 'hspa5', 'nrap', 'mmp3', 'champ1', 'usp12', 'rnaset2', 'ildr1', 'gtf3c1', 'rab3gap1', 'dact1', 'rdh13', 'l3mbtl2', 'ccl21', 'bex2', 'mcts1', 'stam2', 'ypel4', 'sfta2', 's100a16', 'kcnh1', 'c11orf21', 'lilrb5', 'abl2', 'ipcef1', 'nps', 'aqp10', 'ccdc15', 'oasl', 'or2a4', 'rictor', 'nelfa', 'trappc12', 'cyp2s1', 'fundc2', 'mettl7b', 'extl1', 'spopl', 'gnaq', 'wfdc11', 'septin6', 'mageb18', 'gbf1', 'snupn', 'nr0b1', 'sfn', 'mbnl3', 'hat1', 'golga2', 'ubap2', 'slc35c2', 'preb', 'chic2', 'ube2r2', 'slc4a1', 'cct8l2', 'or7g3', 'sult6b1', 'ncapg2', 'atp6v0e2', 'nrg3', 'ascl1', 'rcan3', 'foxq1', 'cetn1', 'sppl2b', 'tectb', 'fgfbp1', 'il4', 'tshz2', 'dlx1', 'dclk1', 'nub1', 'hcrtr1', 'siglec15', 'bcl11b', 'doc2b', 'ftsj1', 'tgfbr3', 'tyk2', 'trmt9b', 'dvl1', 'arih1', 'kcna3', 'tmbim6', 'yy1', 'ano4', 'armc5', 'slc38a7', 'rbck1', 'rnf220', 'rph3al', 'rhoq', 'ptgfrn', 'casp10', 'sfxn5', 'atp10a', 'sycp2l', 'macf1', 'set', 'znf763', 'vps18', 'fto', 'clec10a', 'pomt1', 'spink7', 'btn2a2', 'cd79b', 'heatr6', 'rptn', 'chchd7', 'celsr2', 'prps1l1', 'ncdn', 'rassf7', 'krtap5-6', 'mtg2', 'bad', 'znf212', 'lfng', 'itih1', 'dkk3', 'znf124', 'kif9', 'cdh17', 'tusc3', 'gpc2', 'pyroxd1', 'vps39', 'lgals9c', 'tex14', 'znf880', 'mycbp2', 'flnb', 'alg3', 'nkx3-1', 'prss23', 'mindy2', 'il15ra', 'dusp9', 'crk', 'cpne3', 'sgcd', 'senp2', 'wfdc12', 'tmprss2', 'thap4', 'rnf185', 'gpx4', 'prkcq', 'aimp1', 'mysm1', 'ciao3', 'krt84', 'scnm1', 'psmb11', 'efhc2', 'pdgfra', 'sco1', 'tafa1', 'setd7', 'prpf31', 'tafa3', 'plp2', 'mtch1', 'virma', 'mia3', 'fam98a', 'tm7sf3', 'dct', 'pax1', 'mus81', 'vax2', 'klf1', 'med16', 'gpcpd1', 'gk5', 'znf639', 'ost4', 'trim41', 'ppa1', 'znf142', 'ptgs1', 'tubg1', 'vapb', 'tubb4b', 'tollip', 'mapk12', 'maob', 'macc1', 'sumf2', 'stard3', 'opn3', 'rnf149', 'slc6a9', 'hcrtr2', 'ncl', 'hspa1l', 'hikeshi', 'zscan30', 'ushbp1', 'foxs1', 'glmp', 'myo5c', 'sertad1', 'ndufs5', 'th', 'prpf4', 'lilra4', 'havcr1', 'ddx55', 'bmp6', 'tyw3', 'serpinb9', 'pdpn', 'tmem31', 'mfsd11', 'znf844', 'dyrk4', 'saysd1', 'hspa14', 'znf319', 'hdhd3', 'rcor1', 'mlxipl', 'bag3', 'cdx2', 'ldhal6a', 'unk', 'syt9', 'elfn1', 'gdap1l1', 'usp5', 'clec11a', 'pax2', 'tmem240', 'tex44', 'hepacam', 'slc12a5', 'med26', 'postn', 'neurod4', 'fndc11', 'kbtbd3', 'vti1b', 'lpcat3', 'nfkbie', 'col9a3', 'arhgap18', 'prlh', 'sfi1', 'tjp1', 'sec23b', 'rasef', 'mefv', 'patz1', 'vps25', 'nhlrc1', 'slc38a3', 'gsn', 'ifitm10', 'aco1', 'clca4', 'c19orf53', 'smc2', 'eqtn', 'cr2', 'fcar', 'glra2', 'krtap4-11', 'ube2l6', 'tlr10', 'btf3', 'tshz1', 'gbp7', 'slc25a6', 'myh10', 'rbm41', 'slc7a7', 'blzf1', 'c6orf62', 'slc16a2', 'gbp2', 'traf5', 'c1orf87', 'cnot8', 'tpd52', 'atxn7', 'ropn1b', 'znf790', 'kcnf1', 'timm21', 'meikin', 'ankrd9', 'disp2', 'kat8', 'fbxo48', 'arpp19', 'papln', 'ace', 'tmem273', 'tmem231', 'pmp22', 'ubtd1', 'smndc1', 'trpc3', 'prr36', 'rtl5', 'brd8', 'ugt2a2', 'slco4a1', 'tmem42', 'sema4g', 'slc39a1', 'thsd1', 'akap6', 'aldob', 'cysltr1', 'cyp51a1', 'clec18c', 'cdc42se1', 'snap47', 'phf2', 'sufu', 'p2rx3', 'hoxa2', 'hus1', 'frg1', 'ces2', 'luc7l3', 'cyp4a11', 'fam174c', 'ankrd28', 'znf713', 'ctxnd1', 'prom1', 'dnajb8', 'dlg5', 'rdh16', 'tmem176b', 'ifit1b', 'ubox5', 'c22orf42', 'cdc25b', 'nsun4', 'xrcc1', 'gjc2', 'rab5a', 'ppp3ca', 'fam89a', 'ercc6l', 'snx17', 'grhl2', 'ngfr', 'aurkaip1', 'ccr4', 'cenpv', 'nacc2', 'sbno1', 'fut6', 'ccdc149', 'gng8', 'drich1', 'ferd3l', 'znf385a', 'rangap1', 'cep68', 'tmem255b', 'ccdc125', 'soat1', 'pex3', 'flrt2', 'wnt8b', 'tox4', 'myo1g', 'large2', 'zmym1', 'lrit3', 'spry1', 'frem1', 'ppial4a', 'd2hgdh', 'eif4e', 'hgs', 'tmem170b', 'hrc', 'styk1', 'sgpp1', 'nhsl2', 'tex53', 'ceacam5', 'perp', 'akap7', 'dchs2', 'pak3', 'cyb5d2', 'foxj3', 'ptpru', 'cped1', 'fancg', 'klrf2', 'scimp', 'spryd3', 'sptb', 'ntn1', 'dkk4', 'atat1', 'tssk6', 'fam166b', 'nfkbia', 'opa1', 'insc', 'klhl14', 'larp4b', 'clec19a', 'prxl2a', 'mfsd14b', 'mast2', 'hs3st5', 'ppp1r8', 'rybp', 'coq10a', 'faf2', 'rcbtb1', 'eif4g2', 'mmp24', 'cuedc1', 'rab9a', 'ddr2', 'dars2', 'pask', 'rrm2', 'vipas39', 'pithd1', 'psmd14', 'crygs', 'slurp1', 'sh3glb2', 'itga10', 'ndufaf8', 'or6c68', 'polr2k', 'rgs11', 'sh3pxd2a', 'isyna1', 'copz2', 'nme3', 'gdpd3', 'sh3gl1', 'or5m3', 'stkld1', 'nceh1', 'fdx1', 'tbcel', 'gp5', 'bbs5', 'hoxc6', 'allc', 'cd248', 'chaf1a', 'fhod1', 'mt-nd4l', 'adh1b', 'rtkn2', 'p4ha1', 'otop1', 'dmc1', 'grik3', 'peg3', 'mapt', 'znf614', 'slco2a1', 'cops6', 'cnn3', 'cnppd1', 'fdcsp', 'cdh2', 'wbp2nl', 'glis1', 'c8orf37', 'c12orf29', 'ndufc1', 'mtfmt', 'znf597', 'c19orf47', 'creb3', 'tsr2', 'parp1', 'nup43', 'wasf2', 'itga8', 'fam83e', 'creld1', 'arc', 'caln1', 'lilrb1', 'smim10l2b', 'tomm22', 'ak5', 'pola2', 'tuba3e', 'lingo1', 'nwd1', 'calr3', 'supt5h', 'pdcd5', 'usp17l7', 'cnih1', 'qsox1', 'lmbr1l', 'prkcd', 'mal', 'mpig6b', 'ccdc170', 'psen1', 'mchr2', 'pi4k2a', 'krtap25-1', 'ankmy1', 'syt10', 'krr1', 'tslp', 'rnf180', 'parp12', 'ubqln3', 'sash3', 'or4a15', 'ldb1', 'camsap3', 'nabp2', 'reep4', 'klk13', 'flot2', 'itpripl1', 'tmem63b', 'defb1', 'ccm2', 'fam114a1', 'znf800', 'ralyl', 'klf10', 'or4m1', 'cnnm3', 'sbk1', 'phox2b', 'pfkfb4', 'tpr', 'foxn4', 'scaf1', 'cnksr1', 'trh', 'e2f3', 'nsg2', 'krtap15-1', 'cbx2', 'qpct', 'calm2', 'rfx3', 'prss8', 'myo19', 'atp5po', 'ugt2b11', 'or2t27', 'acot7', 'frmpd2', 'pskh1', 'clrn3', 'sh3d19', 'slc22a4', 'sptssa', 'bcas3', 'sat1', 'hpgd', 'scamp1', 'ercc5', 'mtus2', 'cplx1', 'nectin4', 'srpk2', 'ppbp', 'kmt5b', 'bloc1s3', 'c3', 'taf11l8', 'erg28', 'crocc', 'ramp1', 'kif1c', 'grm4', 'hcst', 'dpf1', 'znf766', 'pln', 'aif1l', 'fam155a', 'c16orf92', 'mpp4', 'kif7', 'gpr160', 'spaar', 'pf4', 'plcxd3', 'tmsb4x', 'cyp2r1', 'fam83g', 'dusp3', 'ibtk', 'znf3', 'ccdc88b', 'crip3', 'fxr1', 'nlrp4', 'dhrs7b', 'ctnnbl1', 'mt-nd3', 'sestd1', 'cluh', 'cops5', 'col4a1', 'ces5a', 'rlbp1', 'or2t1', 'sppl2c', 'emc10', 'clic3', 'sh3yl1', 'aldh1b1', 'ccdc112', 'slc24a3', 'etnppl', 'hmgb3', 'mt3', 'kansl1l', 'caskin1', 'nfe2', 'znf805', 'dscam', 'dnajc4', 'or6c6', 'peak1', 'sprr2e', 'hmga1', 'ddn', 'gemin5', 'wdr76', 'ccl3', 'dmgdh', 'mesd', 'tbc1d9', 'slc35e3', 'tex52', 'znf396', 'cd300lf', 'znf398', 'c19orf84', 'ezh1', 'znf691', 'ppp2r5d', 'nkiras1', 'tab3', 'eepd1', 'pja2', 'lrguk', 'eps8l1', 'niban3', 'eid2b', 'fam71d', 'ankle1', 'dsc3', 'ppp4r3c', 'gpr55', 'dtwd2', 'grem1', 'c8orf48', 'rmdn1', 'slc25a14', 'tspyl1', 'naa20', 'adgra2', 'lyzl6', 'mynn', 'socs7', 'ghitm', 'phf8', 'majin', 'znf786', 'gabrd', 'tmem241', 'or14c36', 'ryk', 'copb1', 'cntn3', 'carns1', 'cwc25', 'ywhae', 'ccnj', 'tp53i11', 'fermt1', 'pdha1', 'sypl1', 'nmnat2', 'tesk2', 'kdm5c', 'ggh', 'exosc4', 'slc9a4', 'dyrk2', 'rfpl3', 'cpt1b', 'acvr1c', 'tmbim1', 'ncs1', 'cobll1', 'foxc2', 'ppp1r7', 'pcbp4', 'ptafr', 'fam217a', 'zbtb3', 'or4e1', 'has1', 'slc39a10', 'znf530', 'xrn2', 'frmd4b', 'asb7', 'smlr1', 'fam120c', 'clptm1l', 'cpne2', 'psen2', 'prr7', 'exoc1l', 'bloc1s6', 'ctcfl', 'tgfa', 'gnb2', 'mcm7', 'dennd4c', 'lyve1', 'sdr39u1', 'itsn1', 'nrm', 'mpp7', 'gfap', 'mylk4', 'tceanc2', 'tube1', 'syngr3', 'id3', 'nfyb', 'enthd1', 'cbll1', 'tdrd1', 'tbkbp1', 'etfdh', 'ipo5', 'myadml2', 'ache', 'cc2d2b', 'cept1', 'atad2', 'ndufb8', 'dpf3', 'pdgfd', 'ptcra', 'hdac5', 'fgr', 'c5orf46', 'tjp3', 'znf155', 'pgm2l1', 'nkpd1', 'or8i2', 'uqcc2', 'ncaph2', 'ppan', 'cldn17', 'wdr61', 'slc35f3', 'kmt2c', 'timm10', 'fam221a', 'sarm1', 'fam24b', 'adam9', 'tfe3', 'hmbox1', 'pitx1', 'soga1', 'tpgs1', 'col11a1', 'nat10', 'cd247', 'hdac10', 'afap1', 'gsdme', 'apobec3h', 'dgka', 'bcor', 'syap1', 'galnt11', 'kl', 'lama5', 'mdc1', 'mln', 'usp6nl', 'ripk1', 'slc26a7', 'dpm1', 'pla2g4e', 'prkd2', 'sh2b2', 'grik1', 'ldlrad1', 'prdm13', 'star', 'insyn2a', 'theg', 'ephx1', 'sae1', 'pzp', 'ostn', 'stom', 'pdcl3', 'chtop', 'clps', 'abce1', 'armcx5', 'rufy2', 'spns3', 'ddit4', 'tp53inp1', 'ctrb2', 'ermap', 'tti1', 'znf223', 'rab2b', 'cog7', 'srarp', 'ucn', 'stard6', 'smurf2', 'fam71e1', 'ears2', 'ap3m1', 'anapc5', 'snapc2', 'swi5', 'gja3', 'tcp10l', 'dctn4', 'mblac2', 'dele1', 'eif2b3', 'scn3a', 'flnc', 'serpina12', 'znf236', 'rragc', 'rad51b', 'them4', 'csf2ra', 'senp1', 'serpinc1', 'tspyl4', 'sorl1', 'mecom', 'tap2', 'zscan1', 'uchl5', 'tmem38b', 'pon2', 'apobec2', 'npsr1', 'tmem229b', 'itfg1', 'znf274', 'trir', 'ces4a', 'cyfip2', 'ppm1g', 'umod', 'treml4', 'rp2', 'zdhhc11b', 'mansc1', 'cgn', 'prss37', 'grin3a', 'c17orf64', 'rab28', 'scarb2', 'tvp23c', 'ndnf', 'phf3', 'lrrc72', 'chpf', 'egfl7', 'kel', 'pdzrn4', 'manea', 'tbc1d15', 'sav1', 'abca10', 'mpnd', 'mgat3', 'rtraf', 'astn2', 'smg6', 'panx1', 'atp2a2', 'blvra', 'fam205c', 'cers5', 'kctd5', 'bet1l', 'mdfi', 'lipn', 'poglut1', 'adamts3', 'macrod1', 'krt9', 'foxred2', 'zfhx2', 'cox15', 'snx15', 'ankrd62', 'loxl2', 'adamdec1', 'rufy4', 'fam131a', 'gorasp2', 'tsc22d1', 'mtmr8', 'enpp5', 'ca3', 'mylk3', 'trpv3', 'jpt1', 'psmd10', 'nefl', 'nt5dc4', 'eif3a', 'ccna1', 'taf1c', 'cdk5r1', 'ddx25', 'cdk5rap2', 'prr33', 'ms4a6a', 'or2f1', 'plekhd1', 'gjb7', 'lsm4', 'pigl', 'kif11', 'thap1', 'mtdh', 'mapk1ip1l', 'znf500', 'coro7', 'cdk2ap1', 'wnt3a', 'zxdc', 'ubl7', 'znf131', 'chd4', 'pspc1', 'odf3l1', 'tmc2', 'sri', 'faap20', 'stxbp6', 'trim72', 'srpx', 'col6a1', 'ppp1r27', 'snai2', 'nufip1', 'arhgap42', 'spon2', 'slc31a1', 'dock8', 'nfatc3', 'casp8ap2', 'tcerg1l', 'npbwr2', 'alg13', 'usp18', 'slc45a3', 'tmem169', 'dera', 'arl8a', 'sptlc1', 'aanat', 'piezo2', 'vps54', 'orc5', 'tsen15', 'cldn1', 'or2b6', 'kdm4d', 'snn', 'caap1', 'hoxb8', 'far1', 'otulinl', 'thsd4', 'dhrs13', 'rhoh', 'brinp2', 'clpsl1', 'hdac9', 'gimap4', 'drd1', 'lce1a', 'nkain2', 'ankrd27', 'pglyrp3', 'ttc31', 'prrc1', 'vps26b', 'znf709', 'znf235', 'gabra2', 'gli2', 'cbln2', 'rabgef1', 'sntg2', 'rnf17', 'fam118b', 'erich3', 'hmbs', 'prpf6', 'nop14', 'crygb', 'nacad', 'polr2d', 'akap17a', 'calml3', 'kcna10', 'pus10', 'ehd1', 'c4orf17', 'ilkap', 'hhla1', 'stx7', 'angel1', 'ccdc62', 'ctps2', 'trnau1ap', 'or4d2', 'ybx3', 'tmprss12', 'ang', 'rubcnl', 'tcerg1', 'sox8', 'tmem210', 'ino80e', 'yif1b', 'isg15', 'wdfy2', 'khdc1', 'smurf1', 'krtap12-2', 'rtl9', 'srsf4', 'tnip2', 'gpr139', 'plek', 'tpst1', 'grm1', 'e2f4', 'ccl27', 'ggcx', 'itsn2', 'trim67', 'abcc12', 'ldlrad4', 'exoc3', 'tlr3', 'c10orf90', 'bricd5', 'popdc2', 'hcfc1r1', 'nalcn', 'c1orf158', 'smtn', 'lrrc1', 'ppp2r3b', 'vav3', 'diaph3', 'c6orf120', 'capn6', 'krt33a', 'actg1', 'glipr1l1', 'susd4', 'ccdc96', 'tex30', 'hk1', 'trappc11', 'sstr2', 'rbm19', 'samd14', 'pif1', 'xylt1', 'sod3', 'lat2', 'krtap5-10', 'fancd2', 'abhd10', 'anxa2r', 'xpo5', 'rergl', 'fsd1l', 'galnt5', 'tyro3', 'zwint', 'il12rb2', 'dcxr', 'slc25a29', 'tmem238', 'helz2', 'asl', 'matn2', 'lzts2', 'acss3', 'psd4', 'slc22a23', 'osbpl5', 'ppfia2', 'ddx4', 'krt24', 'sox30', 'ldhc', 'slc5a2', 'or9a4', 'snx18', 'ercc8', 'pctp', 'meaf6', 'cfap77', 'sigmar1', 'casp9', 'grip1', 'itm2c', 'igf2r', 'plcl2', 'ddx24', 'sema3f', 'dcun1d1', 'tmem190', 'gjd3', 'catsper3', 'f10', 'brd3', 'tyrp1', 'nrip3', 'adam19', 'or2k2', 'med17', 'krtap11-1', 'atad1', 'slc2a1', 'znf784', 'smad9', 'hars2', 'nubp2', 'gpihbp1', 'tbc1d32', 'frat1', 'cytip', 'zbtb32', 'nt5c2', 'gpr1', 'zscan25', 'wtip', 'ttc9c', 'arglu1', 'syngap1', 'trpv5', 'cox6a1', 'kcnrg', 'pdp2', 'utp18', 'prkca', 'fam117a', 'arvcf', 'lyz', 'rnase6', 'atxn2', 'cdk5rap1', 's100a13', 'ubald1', 'tsc22d2', 'kcnj2', 'ankrd30bl', 'casp3', 'abtb2', 'rufy1', 'dpy19l3', 'adat3', 'or4c6', 'pvalb', 'gpn3', 'snrnp40', 'c4orf50', 'pex13', 'fbxo34', 'ccar1', 'wdr59', 'tysnd1', 'hmgn5', 'fam43b', 'rtn4ip1', 'slc7a5', 'sigirr', 'tma16', 'sqor', 'fam237b', 'fam193b', 'thap6', 'rbm15', 'elovl2', 'batf', 'elk3', 'ifnar2', 'etnk2', 'p4htm', 'sdhaf3', 'coq8a', 'tmem236', 'krtap21-2', 'tesmin', 'dgkg', 'mixl1', 'trmt112', 'agmat', 'ell3', 'rcc1', 'c15orf48', 'limd2', 'snapin', 'rp1l1', 'lce2b', 'map4k3', 'atp6v1g3', 'mkln1', 'paxip1', 'dcdc2c', 'pgap3', 'ikbkb', 'pglyrp4', 'spta1', 'nicn1', 'aoc3', 'chka', 'prrt1', 'dctn6', 'or1l1', 'fgf19', 'immt', 'sstr1', 'ppp1r21', 'cib1', 'tepsin', 'smim20', 'ube3b', 'hsd17b8', 'ajuba', 'cideb', 'prkar1a', 'plekhg6', 'ctage1', 'crtam', 'gabrp', 'c1qtnf1', 'zcchc18', 'spin3', 'krbox4', 'cxcl13', 'foxj1', 'clcn5', 'orc4', 'fabp5', 'zc3hc1', 'or10d3', 'wfdc3', 'lag3', 'arpp21', 'vwf', 'krtap20-2', 'plxnb1', 'slc16a10', 'tigd2', 'adcy9', 'supt16h', 'senp3', 'mxra7', 'fam71e2', 'serinc2', 'lamb3', 'ifna5', 'tet1', 'rmnd5b', 'krcc1', 'nhlrc4', 'txlng', 'cadm2', 'mrgprx1', 'tmem87b', 'gpr4', 'kifap3', 'gls', 'lama1', 'svopl', 'rcn2', 'dph3', 'cdca5', 'plekha4', 'sil1', 'adamts4', 'znf676', 'rfpl2', 'sirpg', 'srgap3', 'rnf133', 'c1orf21', 'armc3', 'dipk1c', 'slamf9', 'col7a1', 'pus3', 'rnf217', 'batf3', 'cd55', 'sdk1', 'dnajb6', 'or52h1', 'ppp4c', 'nptx1', 'gnrh2', 'cdk6', 'cd27', 'spata33', 'lcn9', 'myb', 'hephl1', 'coq2', 'isg20l2', 'znf143', 'fancf', 'siva1', 'mga', 'hspb9', 'gadd45a', 'tmem61', 'mfsd5', 'dhx34', 'mgme1', 'cldnd1', 'mttp', 'pde1c', 'cdk5', 'hnmt', 'tm2d3', 'selenoo', 'slc30a4', 'fez1', 'itgam', 'chchd4', 'chst5', 'med9', 'tmem143', 'vps33b', 'pcmt1', 'cys1', 'ankrd44', 'or4a5', 'tle4', 'rer1', 'c11orf71', 'slc4a7', 'mastl', 'or10g2', 'ces1', 'apol1', 'utp25', 'strada', 'cntnap3', 'tmed10', 'tbpl2', 'myom1', 'psg2', 'stimate', 'zmat4', 'znf449', 'znf595', 'ctsk', 'chrdl1', 'wnt10a', 'plxdc1', 'sec31a', 'pax9', 'igfbp4', 'lipg', 'vil1', 'pms2', 'abcd2', 'fam163a', 'ube2t', 'zbtb43', 'celf1', 'lce2c', 'selenop', 's100a14', 'tnf', 'ephx2', 'extl2', 'scml1', 'c16orf90', 'spef1', 'tmem184a', 'znf133', 'sv2a', 'pmvk', 'fam71f2', 'mettl1', 'zbed9', 'polr3k', 'rbm33', 'rragd', 'hps1', 'zscan22', 'mindy4', 'krtap27-1', 'fgf1', 'trim58', 'gxylt2', 'stab2', 'ppm1j', 'gdpd1', 'hrh4', 'samd1', 'ryr2', 'ext2', 'dand5', 'lsmem1', 'muc7', 'prr5l', 'gdf10', 'lmo7', 'flt1', 'fbxo39', 'clcf1', 'c5orf47', 'krtap3-3', 'taok1', 'muc19', 'krt4', 'msi1', 'higd1b', 'ctnnd2', 'bmp8b', 'ddost', 'srsf2', 'lalba', 'glul', 'ccnt1', 'rsrc2', 'iqgap2', 'uqcrq', 'esrp1', 'lysmd3', 'cpb2', 'tmem220', 'or52b4', 'cyb5r3', 'adcy10', 'igdcc4', 'ccdc61', 'lnp1', 'trpv6', 'prdm14', 'znf215', 'gcfc2', 'opcml', 'arhgap11a', 'zc3h8', 'tekt5', 'uri1', 'cbr1', 'nono', 'col9a2', 'ccdc194', 'ankrd50', 'cldn24', 'pik3c2g', 'slitrk1', 'lysmd4', 'colq', 'rdh14', 'ptk2b', 'entpd4', 'znf572', 'hoxd12', 'gal', 'pid1', 'gata2', 'rfx1', 'dyrk1b', 'abcg1', 'pcdha6', 'akr1c2', 'fzd6', 'ccnb3', 'cnmd', 'rwdd2b', 'tsbp1', 'ostf1', 'acadvl', 'nxt1', 'tro', 'milr1', 'eif3j', 'mettl4', 'mdfic', 'adrm1', 'spata5', 'reep5', 'ercc6', 'myo1a', 'znf311', 'plppr4', 'fbxw5', 'acap2', 'lrp3', 'cldn10', 'dnmt3a', 'synm', 'ddx17', 'raet1e', 'itgbl1', 'vstm2l', 'uxs1', 'pycr3', 'pnisr', 'pole2', 'celf3', 'rabep2', 'lrrc75a', 'nell1', 'ift57', 'slc39a6', 'ell', 'trib3', 'emp1', 'col25a1', 'bckdhb', 'e2f6', 'krtap5-1', 'dnajc15', 'plekha2', 'enpp4', 'oas2', 'akt1s1', 'ttc29', 'ppp3r1', 'acadl', 'mbd2', 'taar8', 'ndufaf3', 'fas', 'sox1', 'tgm7', 'cds2', 'acsl4', 'fkbp5', 'dyrk1a', 'zswim2', 'cckar', 'znf785', 'mslnl', 'rgsl1', 'tnpo1', 'htr6', 'st3gal4', 'tmem167b', 'ythdf3', 'clmn', 'mfsd9', 'cenpu', 'ccdc78', 'adgrf2', 'tigd4', 'ets2', 'ldb2', 'ypel2', 'runx3', 'tcap', 'slc44a1', 'lhfpl1', 'ppp2r1a', 'cmklr1', 'znf607', 'cpamd8', 'ercc4', 'cmc1', 'tm2d2', 'nanos2', 'nme7', 'cpne7', 'asb4', 'rhex', 'znf550', 'vwa3a', 'rbpjl', 'usp31', 'septin9', 'kmo', 'msmb', 'reps1', 'znf596', 'rnf135', 'slfn14', 'erc1', 'c9orf152', 'slc9b1', 'sema4c', 'trim71', 'ap1s1', 'znf630', 'cry2', 'ppp1r1b', 'wapl', 'larp4', 'pdx1', 'id2', 'pycr1', 'serinc3', 'znf148', 'rprd1b', 'iqank1', 'fktn', 'or6c74', 'fzd7', 'cercam', 'imp4', 'ttn', 'nup160', 'mtcl1', 'znf77', 'megf11', 'eva1c', 'apobec3a', 'ifnlr1', 'efcab7', 'micall1', 'il27', 'krtcap3', 'med15', 'csnk1a1', 'zbtb25', 'ttc23l', 'tcp11', 'ifngr2', 'vps52', 'mdm2', 'ilrun', 'tnrc6a', 'cep89', 'tns4', 'hdhd5', 'pnpla4', 'tatdn3', 'bbox1', 'grem2', 'cyb5rl', 'c3orf56', 'slc49a3', 'capza2', 'zfp57', 'taar2', 'niban2', 'ccdc85c', 'bhlhe40', 'fgf6', 'vav1', 'npy2r', 'tsc22d4', 'bend4', 'ninj1', 'nenf', 'qprt', 'marcks', 'il21r', 'uba52', 'bbc3', 'ism1', 'arl13a', 'atp6ap1', 'clec4d', 'antxr1', 'sstr3', 'cep44', 'med21', 'shmt1', 'clec2a', 'rit1', 'rtl8c', 'icam3', 'vps29', 'gabrg3', 'osbpl3', 'sprr1b', 'ap1m1', 'gdpgp1', 'pphln1', 'palm', 'bub1', 'stac3', 'vwce', 'gnpnat1', 'vsig10l2', 'ptprk', 'bace1', 'gjb5', 'mep1a', 'znf304', 'cdc37l1', 'nsmce4a', 'map1lc3a', 'myt1', 'znf850', 'tmem115', 'thrsp', 'l1cam', 'nek6', 'sh2d6', 'rabep1', 'mtx2', 'atxn3', 'grin2d', 'lpin1', 'enho', 'ulk4', 'spc25', 'mpc1l', 'zscan4', 'sorbs2', 'cmas', 'kcnj3', 'txlna', 'galnt3', 'ky', 'pcbd1', 'maz', 'pnp', 'fbxo17', 'tsr3', 'shisa5', 'phykpl', 'cd5', 'sv2c', 'ccdc30', 'klhdc7b', 'iah1', 'tsc1', 'arhgef11', 'tssk3', 'agxt2', 'sc5d', 'scgb2a1', 'prmt7', 'arl2bp', 'myl6', 'fam98b', 'arl15', 'arl8b', 'pdcd2l', 'rpp25l', 'tdrd6', 'il7r', 'znf165', 'msn', 'nnmt', 'nxpe4', 'b3galnt2', 'gpr171', 'erfe', 'rbbp8', 'znf429', 'krtap13-4', 'aff1', 'brwd1', 'pcdha13', 'cnp', 'kpna3', 'catsperb', 'kdelr2', 'prr15', 'or2j3', 'slc2a12', 'mul1', 'adsl', 'pcdh11x', 'slc25a20', 'spata19', 'slc8a3', 'plin2', 'znf442', 'ppargc1b', 'malsu1', 'prss58', 'adnp2', 'ube4a', 'vax1', 'pde1b', 'sypl2', 'esf1', 'fggy', 'armh1', 'b4gat1', 'znhit6', 'tbc1d16', 'sox15', 'msto1', 'klhl23', 'c1orf116', 'psors1c1', 'cpa4', 'necab2', 'or2ag2', 'znf48', 'cd79a', 'arl14', 'galr3', 'crygc', 'znf85', 'aagab', 'spryd7', 'or52n4', 'gcgr', 'zswim3', 'ankrd39', 'mtfr1', 'seh1l', 'sowahd', 'adgrg4', 'elp6', 'fpgt', 'tmem222', 'pym1', 'sh2d3c', 'ptpmt1', 'proz', 'srprb', 'upf3a', 'arid1a', 'ahcyl2', 'insig1', 'aph1a', 'znf804a', 'golph3', 'pam', 'metap1d', 'catip', 'pald1', 'esam', 'osbpl8', 'pdia3', 'hap1', 'arhgef10l', 'itgb8', 'or9g1', 'rabepk', 'iffo1', 'gcnt2', 'agfg1', 'uvrag', 'cyp2w1', 'psmb1', 'snx10', 'krtap5-9', 'tm6sf1', 'hsd17b2', 'scrn2', 'tead2', 'yipf4', 'smchd1', 'glyatl1b', 'pvr', 'alas1', 'pak1ip1', 'defb116', 'rgs2', 'zhx3', 'c12orf43', 'cltb', 'rtl3', 'or6c2', 'hspa4', 'osbpl1a', 'sult1b1', 'dock7', 'hsd17b10', 'tmem232', 'ascc3', 'neu4', 'rel', 'ankrd34b', 'rnf111', 'ttll11', 'cd58', 'gga1', 'pdss2', 'slc29a1', 'cdc34', 'mid1ip1', 'fmod', 'gpat4', 'aprt', 'dynlrb1', 'grm7', 'anhx', 'nt5c3a', 'neu3', 'actc1', 'tex13d', 'tmem253', 'ebp', 'slc16a13', 'slfn12', 'kbtbd7', 'pgbd1', 'csdc2', 'enpep', 'slc25a13', 'gspt1', 'klf11', 'hectd4', 'znf32', 'il12a', 'lypd5', 'dpt', 'actbl2', 'ssr1', 'nsun3', 'tmem116', 'pdxk', 'defb128', 'ing4', 'nol10', 'ervv-2', 'ednrb', 'pgap1', 'procr', 'spink2', 'armc12', 'foxn1', 'ucma', 'amt', 'pls3', 'srebf2', 'lsp1', 'ccl25', 'aamp', 'c1qtnf4', 'scrib', 'myo1h', 'slc26a1', 'phip', 'rbm43', 'plin5', 'rnf168', 'tfeb', 'cldn34', 'magee1', 'dok4', 'lrch1', 'uck2', 'tspoap1', 'f2rl3', 'mrc2', 'znf641', 'adgrb3', 'kdelr1', 'npl', 'gmnn', 'n4bp2l1', 'acvr1', 'lrrc3b', 'nfx1', 'gpr19', 'il1rn', 'sgcz', 'smim2', 'card10', 'poln', 'six3', 'mcmdc2', 'cnih3', 'znf560', 'ppid', 'cfb', 'ckap4', 'mmd', 'lancl3', 'rnf121', 'map2k7', 'nlrp9', 'or4c13', 'uxt', 'fabp9', 'spns1', 'slc35f5', 'afdn', 'hpdl', 'znf764', 'clip4', 'sp110', 'tdrd5', 'ube2d4', 'slc25a40', 'trim33', 'amn1', 'timm50', 'wdr19', 'ttbk2', 'ccl3l1', 'sec63', 'il6', 'dynll1', 'gng13', 'cdc5l', 'zup1', 'spout1', 'nrxn1', 'mcm4', 'lrrc49', 'or51t1', 'drap1', 'cyp19a1', 'ube2l3', 'higd2a', 'chmp5', 'vsig8', 'las1l', 'shank3', 'rnf7', 'kbtbd13', 'fgf8', 'cby1', 'insm2', 'ube2w', 'gadd45b', 'kdr', 'sox6', 'cx3cr1', 'rsph10b2', 'f13b', 'cfap46', 'or4l1', 'pced1a', 'shroom2', 'hsbp1l1', 'rnh1', 'ncald', 'nit1', 'scgb2a2', 'itln1', 'htr4', 'c17orf98', 'psme4', 'impg2', 'cdcp2', 'cnksr3', 'klhl38', 'eef1a2', 'filip1', 'pdcd1lg2', 'rad54b', 'met', 'odaph', 'phf11', 'cachd1', 'slc5a6', 'gprin2', 'dnajc5', 'gria1', 'hba2', 'pex6', 'srd5a3', 'uhrf1bp1', 'chd6', 'znf708', 'cav1', 'wfs1', 'tbc1d8', 'znf439', 'mta1', 'prss33', 'anxa7', 'slc6a7', 'gpr119', 'tfr2', 'cxcl8', 'nexn', 'ctbs', 'alk', 'nfyc', 'sphkap', 'bloc1s4', 'cish', 'atp6v1g1', 'cort', 'cth', 'fgfr1', 'stxbp1', 'mrgprx3', 'cd226', 'tmem144', 'vps50', 'pygm', 'trim61', 'nkd1', 'yy1ap1', 'sgms1', 'znf254', 'adpgk', 'gdpd2', 'nos1', 'gask1b', 'tspan16', 'siglec11', 'sowaha', 'gatad2b', 'plscr3', 'bptf', 'foxp3', 'aadac', 'tnfrsf12a', 'clul1', 'rac3', 'slc34a2', 'klf4', 'znf41', 'nlrp3', 'mark2', 'wars2', 'acadsb', 'ccdc153', 'znf720', 'rnf183', 'eefsec', 'c17orf107', 'rnf212', 'mvd', 'p2rx1', 'pias4', 'arsf', 'ldb3', 'itga3', 'znf213', 'plpp1', 'cdk20', 'ms4a2', 'clba1', 'epdr1', 'pdzd8', 'krtap20-1', 'pianp', 'slc29a4', 'ugt1a9', 'tbc1d8b', 'rnf182', 'tirap', 'scyl2', 'znf526', 'smu1', 'tfap2c', 'glt1d1', 'gulp1', 'rnf139', 'tmem30a', 'cd1c', 'lsm5', 'csde1', 'idi1', 'fah', 'cyp4f3', 'znf283', 'stau2', 'ppm1k', 'smim12', 'tufm', 'arhgap4', 'ammecr1', 'foxa2', 'polr2l', 'dlg1', 'znf705g', 'lrwd1', 'lzic', 'scg3', 'bcl7c', 'pmis2', 'c12orf45', 'jmjd8', 'abcd4', 'col5a1', 'fam110c', 'dnajc5b', 'tfg', 'kiaa0040', 'pik3c2a', 'fcrlb', 'crbn', 'ninl', 'brix1', 'traf6', 'pde9a', 'rbm44', 'vamp2', 'otud4', 'frmd1', 'lmtk3', 'chaf1b', 'nmu', 'cog1', 'itih6', 'nusap1', 'mobp', 'fnbp1l', 'cd70', 'cep104', 'emc1', 'aftph', 'pomgnt2', 'pcolce2', 'rassf6', 'znf30', 'lipe', 'dennd1c', 'ccdc87', 'vash1', 'pggt1b', 'dap3', 'elovl7', 'plin4', 'atp5mgl', 'ly9', 'cdc42bpg', 'ifit2', 'shisal1', 'lrch4', 'etdc', 'gpr68', 'cyp3a43', 'ptrh2', 'rpgrip1l', 'traip', 'adh6', 'plekhm1', 'cyp2d6', 'acer3', 'arid3a', 'znf460', 'hacl1', 'c8orf76', 'zcchc2', 'slc35g3', 'ncbp2', 'gpd2', 'plaat4', 'cenpf', 'ythdc1', 'gckr', 'niban1', 'slc30a2', 'anapc13', 'draxin', 'fam53b', 'smim10l1', 'med23', 'ppp1r3f', 'il13ra1', 'p3h3', 'cask', 'cyp26b1', 'tspo', 'foxb1', 'lrp8', 'pygo2', 'col8a2', 'apobec4', 'tifab', 'maco1', 'mbnl2', 'gga3', 'gfod2', 'tial1', 'ftcdnl1', 'mctp2', 'or13c2', 'dido1', 'uba2', 'umodl1', 'ccdc54', 'otogl', 'utp4', 'krtap19-3', 'tmem63c', 'clspn', 'aldh3a2', 'smarcb1', 'map6', 'psmd3', 'apc2', 'dusp21', 'prdm4', 'bmx', 'trim27', 'dcn', 'muc20', 'pwwp3b', 'lrrc47', 'ddx46', 'ceacam16', 'tecpr2', 'fen1', 'c1r', 'or7d2', 'ifng', 'c2orf69', 'clec3a', 'pknox2', 'fancb', 'dmrta2', 'tmem254', 'cstf3', 'cox4i1', 'fbln2', 'slamf6', 'fbl', 'pdzd2', 'bax', 'mettl11b', 'tbata', 'sall4', 'cep152', 'gcc1', 'abcb11', 'dennd2a', 'taf1d', 'sms', 'klhl31', 'tnfrsf11a', 'rhbdl2', 'dcst1', 'klhl8', 'wdr83os', 'znf587b', 'hnf4a', 'cenpp', 'pde6g', 'tmc6', 'mex3c', 'prdx2', 'fermt2', 'nbpf3', 'znf875', 'znf638', 'wwp2', 'sntn', 'cdk3', 'slc13a1', 'tekt2', 'lrrc15', 'arhgdib', 'lhx9', 'mgat4d', 'tnnc1', 'sh3pxd2b', 'slc12a8', 'fam83b', 'znf529', 'rpgr', 'glud1', 'ptpn4', 'sec24b', 'smco3', 'e2f2', 'cxcl10', 'ccdc83', 'c9orf24', 'trpm7', 'hecw1', 'cfap45', 'emc3', 'ankrd18b', 'fgf13', 'unc13b', 'fgg', 'mpv17', 'crybg3', 'dbt', 'fbxl4', 'aldh9a1', 'thy1', 'or10h2', 'cldn5', 'vbp1', 'ppm1a', 'morc2', 'gnai1', 'atp2a3', 'clc', 'ckap2l', 'agbl1', 'timm8b', 'efl1', 'cyp2b6', 'lbhd2', 'acoxl', 'efna4', 'npas4', 'pth2', 'ntpcr', 'barx1', 'ddx50', 'tigit', 'yod1', 'crygd', 'vegfc', 'gabra1', 'znf248', 'tfam', 'tex2', 'spag4', 'fabp4', 'znf792', 'fcrl4', 'smarcc2', 'cma1', 'npm3', 'dhx38', 'pcbp1', 'oaf', 'tex36', 'nrros', 'ctsc', 'ucp2', 'wdpcp', 'lcn12', 'fbln5', 'rgp1', 'fgf12', 'abtb1', 'spp2', 'poc1b', 'drc3', 'taco1', 'adam21', 'gpr87', 'kcnc3', 'nags', 'sgf29', 'slc15a2', 'znf586', 'rassf1', 'znf141', 'nos3', 'tlr1', 'rbis', 'rasgrf2', 'ubap1', 'ipo13'}\n"
     ]
    },
    {
     "data": {
      "text/plain": [
       "{'aars',\n",
       " 'ac004593.3',\n",
       " 'ac005551.1',\n",
       " 'ac007906.2',\n",
       " 'ac008397.1',\n",
       " 'ac008687.4',\n",
       " 'ac010255.3',\n",
       " 'ac010325.1',\n",
       " 'ac011005.1',\n",
       " 'ac011195.2',\n",
       " 'ac013470.2',\n",
       " 'ac015871.1',\n",
       " 'ac021072.1',\n",
       " 'ac021097.2',\n",
       " 'ac025283.2',\n",
       " 'ac025287.4',\n",
       " 'ac067752.1',\n",
       " 'ac072022.2',\n",
       " 'ac073111.4',\n",
       " 'ac087498.1',\n",
       " 'ac090360.1',\n",
       " 'ac091057.6',\n",
       " 'ac092835.1',\n",
       " 'ac093323.1',\n",
       " 'ac099489.1',\n",
       " 'ac104389.5',\n",
       " 'ac113348.1',\n",
       " 'ac115220.1',\n",
       " 'ac118549.1',\n",
       " 'ac119396.1',\n",
       " 'ac132217.2',\n",
       " 'ac134684.8',\n",
       " 'ac138647.1',\n",
       " 'ac187653.1',\n",
       " 'ac233723.1',\n",
       " 'ac236972.4',\n",
       " 'acpp',\n",
       " 'adprhl2',\n",
       " 'adss',\n",
       " 'adssl1',\n",
       " 'al032819.3',\n",
       " 'al109810.2',\n",
       " 'al121578.2',\n",
       " 'al135905.2',\n",
       " 'al160269.1',\n",
       " 'al162231.1',\n",
       " 'al162596.1',\n",
       " 'al353572.3',\n",
       " 'al354761.1',\n",
       " 'al391650.1',\n",
       " 'al445238.1',\n",
       " 'al451007.3',\n",
       " 'al590560.2',\n",
       " 'al603764.2',\n",
       " 'al845331.2',\n",
       " 'alg1l',\n",
       " 'ap002495.1',\n",
       " 'arih2os',\n",
       " 'armc4',\n",
       " 'arse',\n",
       " 'atp5md',\n",
       " 'atp5mpl',\n",
       " 'atp6ap1l',\n",
       " 'b3gnt10',\n",
       " 'bhmg1',\n",
       " 'bx255925.3',\n",
       " 'bx276092.9',\n",
       " 'c10orf142',\n",
       " 'c10orf55',\n",
       " 'c11orf40',\n",
       " 'c11orf74',\n",
       " 'c11orf88',\n",
       " 'c12orf10',\n",
       " 'c12orf49',\n",
       " 'c12orf74',\n",
       " 'c12orf81',\n",
       " 'c14orf177',\n",
       " 'c15orf41',\n",
       " 'c16orf58',\n",
       " 'c17orf53',\n",
       " 'c19orf48',\n",
       " 'c19orf57',\n",
       " 'c1orf61',\n",
       " 'c2orf83',\n",
       " 'c2orf91',\n",
       " 'c3orf67',\n",
       " 'c5orf30',\n",
       " 'c5orf60',\n",
       " 'c5orf67',\n",
       " 'c6orf201',\n",
       " 'c6orf223',\n",
       " 'c7orf77',\n",
       " 'c9orf129',\n",
       " 'c9orf92',\n",
       " 'card16',\n",
       " 'card17',\n",
       " 'cars',\n",
       " 'casc1',\n",
       " 'casc4',\n",
       " 'castor3',\n",
       " 'ccdc114',\n",
       " 'ccdc151',\n",
       " 'ccdc155',\n",
       " 'ccdc36',\n",
       " 'ccdc39',\n",
       " 'ccdc84',\n",
       " 'cd3eap',\n",
       " 'cenpbd1',\n",
       " 'cllu1os',\n",
       " 'cntd2',\n",
       " 'ct62',\n",
       " 'cxorf21',\n",
       " 'cxorf40a',\n",
       " 'cxorf56',\n",
       " 'cyb561d2',\n",
       " 'dars',\n",
       " 'dec1',\n",
       " 'defb133',\n",
       " 'dirc1',\n",
       " 'dock8-as1',\n",
       " 'dupd1',\n",
       " 'dusp27',\n",
       " 'elfn2',\n",
       " 'elmsan1',\n",
       " 'eloa3',\n",
       " 'eprs',\n",
       " 'fam122a',\n",
       " 'fam122b',\n",
       " 'fam122c',\n",
       " 'fam169b',\n",
       " 'fam192a',\n",
       " 'fam218a',\n",
       " 'fam30a',\n",
       " 'fam49a',\n",
       " 'fam49b',\n",
       " 'fam92b',\n",
       " 'fgfr1op',\n",
       " 'fopnl',\n",
       " 'fp565260.1',\n",
       " 'gars',\n",
       " 'gcsaml-as1',\n",
       " 'gdf5os',\n",
       " 'glra4',\n",
       " 'golga8m',\n",
       " 'grasp',\n",
       " 'h1f0',\n",
       " 'h1fnt',\n",
       " 'h1foo',\n",
       " 'h1fx',\n",
       " 'h2afj',\n",
       " 'h2afx',\n",
       " 'h2afy',\n",
       " 'h2afy2',\n",
       " 'h2afz',\n",
       " 'h2bfm',\n",
       " 'h2bfwt',\n",
       " 'h3.y',\n",
       " 'h3f3a',\n",
       " 'h3f3b',\n",
       " 'h3f3c',\n",
       " 'hars',\n",
       " 'hhla3',\n",
       " 'hist1h1a',\n",
       " 'hist1h1b',\n",
       " 'hist1h1c',\n",
       " 'hist1h1d',\n",
       " 'hist1h1e',\n",
       " 'hist1h2ac',\n",
       " 'hist1h2ae',\n",
       " 'hist1h2ag',\n",
       " 'hist1h2ai',\n",
       " 'hist1h2ak',\n",
       " 'hist1h2bb',\n",
       " 'hist1h2bg',\n",
       " 'hist1h2bh',\n",
       " 'hist1h2bn',\n",
       " 'hist1h3e',\n",
       " 'hist1h3g',\n",
       " 'hist1h3h',\n",
       " 'hist1h4b',\n",
       " 'hist1h4c',\n",
       " 'hist1h4e',\n",
       " 'hist1h4g',\n",
       " 'hist1h4i',\n",
       " 'hist1h4j',\n",
       " 'hist2h2be',\n",
       " 'hist3h2a',\n",
       " 'hist3h2bb',\n",
       " 'hist3h3',\n",
       " 'hist4h4',\n",
       " 'hypm',\n",
       " 'iars',\n",
       " 'ick',\n",
       " 'igha1',\n",
       " 'igha2',\n",
       " 'ighd',\n",
       " 'ighe',\n",
       " 'ighg1',\n",
       " 'ighg3',\n",
       " 'ighm',\n",
       " 'igkc',\n",
       " 'iglc1',\n",
       " 'iglc7',\n",
       " 'impad1',\n",
       " 'kars',\n",
       " 'kiaa0355',\n",
       " 'kiaa0556',\n",
       " 'kiaa1211',\n",
       " 'kiaa1211l',\n",
       " 'kiaa1257',\n",
       " 'kiaa1324',\n",
       " 'kiaa1324l',\n",
       " 'kif1bp',\n",
       " 'lars',\n",
       " 'linc02693',\n",
       " 'linc02694',\n",
       " 'lor',\n",
       " 'lrmp',\n",
       " 'lrp5l',\n",
       " 'lrrc29',\n",
       " 'maats1',\n",
       " 'marc1',\n",
       " 'marc2',\n",
       " 'march1',\n",
       " 'march10',\n",
       " 'march11',\n",
       " 'march2',\n",
       " 'march3',\n",
       " 'march4',\n",
       " 'march5',\n",
       " 'march6',\n",
       " 'march7',\n",
       " 'march8',\n",
       " 'march9',\n",
       " 'mars',\n",
       " 'mir1915hg',\n",
       " 'mrvi1',\n",
       " 'mycnos',\n",
       " 'nars',\n",
       " 'nxf5',\n",
       " 'or5r1',\n",
       " 'palm2-akap2',\n",
       " 'pano1',\n",
       " 'pde11a',\n",
       " 'pih1d3',\n",
       " 'pinx1',\n",
       " 'ppp5d1',\n",
       " 'prky',\n",
       " 'qars',\n",
       " 'rars',\n",
       " 'rgs5',\n",
       " 'sars',\n",
       " 'siglec5',\n",
       " 'slc26a10',\n",
       " 'slc66a1l',\n",
       " 'slfn12l',\n",
       " 'snhg32',\n",
       " 'spata13',\n",
       " 'spata8',\n",
       " 'spert',\n",
       " 'sspo',\n",
       " 'st5',\n",
       " 'tars',\n",
       " 'tarsl2',\n",
       " 'tbce',\n",
       " 'tcte3',\n",
       " 'tctex1d1',\n",
       " 'tctex1d2',\n",
       " 'tctex1d4',\n",
       " 'terc',\n",
       " 'tmem155',\n",
       " 'tmem173',\n",
       " 'tmem189',\n",
       " 'tmem246',\n",
       " 'tmem8a',\n",
       " 'tmem99',\n",
       " 'tmsb15b',\n",
       " 'trac',\n",
       " 'trbc1',\n",
       " 'trbc2',\n",
       " 'trdc',\n",
       " 'trgc1',\n",
       " 'trgc2',\n",
       " 'trgjp1',\n",
       " 'trgjp2',\n",
       " 'trim16l',\n",
       " 'tsta3',\n",
       " 'ttc25',\n",
       " 'twistnb',\n",
       " 'vars',\n",
       " 'wars',\n",
       " 'wdr34',\n",
       " 'wdr60',\n",
       " 'wdr63',\n",
       " 'wdr66',\n",
       " 'wdr78',\n",
       " 'wdyhv1',\n",
       " 'yars',\n",
       " 'z82206.1',\n",
       " 'znf883',\n",
       " 'znrd1'}"
      ]
     },
     "execution_count": 4,
     "metadata": {},
     "output_type": "execute_result"
    }
   ],
   "source": [
    "# 将所有基因名称转换为小写\n",
    "all_genes_lower = [gene.lower() for gene in all_genes]\n",
    "adata_genes_lower = [gene.lower() for gene in existing_genes]\n",
    "\n",
    "# 将两个列表转换为集合\n",
    "all_genes_set = set(all_genes_lower)\n",
    "adata_genes_set = set(adata_genes_lower)\n",
    "\n",
    "# 计算交集\n",
    "matching_genes = all_genes_set.intersection(adata_genes_set)\n",
    "matching_count = len(matching_genes)\n",
    "# 计算不匹配的基因\n",
    "non_matching_genes = adata_genes_set - matching_genes\n",
    "non_matching_count = len(non_matching_genes)\n",
    "\n",
    "\n",
    "# 输出结果\n",
    "print(f\"匹配的基因数量: {matching_count}\")\n",
    "print(f\"匹配的基因列表: {matching_genes}\")\n",
    "non_matching_genes"
   ]
  },
  {
   "cell_type": "code",
   "execution_count": 5,
   "metadata": {
    "execution": {
     "iopub.execute_input": "2024-11-03T15:26:47.009810Z",
     "iopub.status.busy": "2024-11-03T15:26:47.009349Z",
     "iopub.status.idle": "2024-11-03T15:29:02.065518Z",
     "shell.execute_reply": "2024-11-03T15:29:02.064540Z"
    }
   },
   "outputs": [
    {
     "name": "stdout",
     "output_type": "stream",
     "text": [
      "Gene al391650.1 not found in all_genes list\n"
     ]
    },
    {
     "name": "stdout",
     "output_type": "stream",
     "text": [
      "Gene yars not found in all_genes list\n"
     ]
    },
    {
     "name": "stdout",
     "output_type": "stream",
     "text": [
      "Gene adprhl2 not found in all_genes list\n"
     ]
    },
    {
     "name": "stdout",
     "output_type": "stream",
     "text": [
      "Gene tctex1d4 not found in all_genes list\n"
     ]
    },
    {
     "name": "stdout",
     "output_type": "stream",
     "text": [
      "Gene tctex1d1 not found in all_genes list\n",
      "Gene wdr78 not found in all_genes list\n",
      "Gene hhla3 not found in all_genes list\n"
     ]
    },
    {
     "name": "stdout",
     "output_type": "stream",
     "text": [
      "Gene ac118549.1 not found in all_genes list\n",
      "Gene wdr63 not found in all_genes list\n"
     ]
    },
    {
     "name": "stdout",
     "output_type": "stream",
     "text": [
      "Gene kiaa1324 not found in all_genes list\n",
      "Gene sars not found in all_genes list\n"
     ]
    },
    {
     "name": "stdout",
     "output_type": "stream",
     "text": [
      "Gene hist2h2be not found in all_genes list\n"
     ]
    },
    {
     "name": "stdout",
     "output_type": "stream",
     "text": [
      "Gene al162596.1 not found in all_genes list\n",
      "Gene lor not found in all_genes list\n"
     ]
    },
    {
     "name": "stdout",
     "output_type": "stream",
     "text": [
      "Gene c1orf61 not found in all_genes list\n"
     ]
    },
    {
     "name": "stdout",
     "output_type": "stream",
     "text": [
      "Gene al590560.2 not found in all_genes list\n"
     ]
    },
    {
     "name": "stdout",
     "output_type": "stream",
     "text": [
      "Gene rgs5 not found in all_genes list\n",
      "Gene dusp27 not found in all_genes list\n"
     ]
    },
    {
     "name": "stdout",
     "output_type": "stream",
     "text": [
      "Gene eprs not found in all_genes list\n",
      "Gene marc2 not found in all_genes list\n",
      "Gene marc1 not found in all_genes list\n"
     ]
    },
    {
     "name": "stdout",
     "output_type": "stream",
     "text": [
      "Gene h3f3a not found in all_genes list\n",
      "Gene hist3h3 not found in all_genes list\n",
      "Gene hist3h2a not found in all_genes list\n",
      "Gene hist3h2bb not found in all_genes list\n"
     ]
    },
    {
     "name": "stdout",
     "output_type": "stream",
     "text": [
      "Gene al109810.2 not found in all_genes list\n"
     ]
    },
    {
     "name": "stdout",
     "output_type": "stream",
     "text": [
      "Gene tbce not found in all_genes list\n"
     ]
    },
    {
     "name": "stdout",
     "output_type": "stream",
     "text": [
      "Gene adss not found in all_genes list\n",
      "Gene al451007.3 not found in all_genes list\n",
      "Gene gcsaml-as1 not found in all_genes list\n"
     ]
    },
    {
     "name": "stdout",
     "output_type": "stream",
     "text": [
      "Gene mycnos not found in all_genes list\n",
      "Gene fam49a not found in all_genes list\n"
     ]
    },
    {
     "name": "stdout",
     "output_type": "stream",
     "text": [
      "Gene c2orf91 not found in all_genes list\n"
     ]
    },
    {
     "name": "stdout",
     "output_type": "stream",
     "text": [
      "Gene igkc not found in all_genes list\n",
      "Gene al845331.2 not found in all_genes list\n",
      "Gene ac092835.1 not found in all_genes list\n"
     ]
    },
    {
     "name": "stdout",
     "output_type": "stream",
     "text": [
      "Gene kiaa1211l not found in all_genes list\n"
     ]
    },
    {
     "name": "stdout",
     "output_type": "stream",
     "text": [
      "Gene dars not found in all_genes list\n"
     ]
    },
    {
     "name": "stdout",
     "output_type": "stream",
     "text": [
      "Gene march7 not found in all_genes list\n"
     ]
    },
    {
     "name": "stdout",
     "output_type": "stream",
     "text": [
      "Gene pde11a not found in all_genes list\n"
     ]
    },
    {
     "name": "stdout",
     "output_type": "stream",
     "text": [
      "Gene dirc1 not found in all_genes list\n"
     ]
    },
    {
     "name": "stdout",
     "output_type": "stream",
     "text": [
      "Gene march4 not found in all_genes list\n"
     ]
    },
    {
     "name": "stdout",
     "output_type": "stream",
     "text": [
      "Gene c2orf83 not found in all_genes list\n"
     ]
    },
    {
     "name": "stdout",
     "output_type": "stream",
     "text": [
      "Gene arih2os not found in all_genes list\n",
      "Gene qars not found in all_genes list\n",
      "Gene ccdc36 not found in all_genes list\n"
     ]
    },
    {
     "name": "stdout",
     "output_type": "stream",
     "text": [
      "Gene cyb561d2 not found in all_genes list\n"
     ]
    },
    {
     "name": "stdout",
     "output_type": "stream",
     "text": [
      "Gene c3orf67 not found in all_genes list\n"
     ]
    },
    {
     "name": "stdout",
     "output_type": "stream",
     "text": [
      "Gene maats1 not found in all_genes list\n"
     ]
    },
    {
     "name": "stdout",
     "output_type": "stream",
     "text": [
      "Gene alg1l not found in all_genes list\n"
     ]
    },
    {
     "name": "stdout",
     "output_type": "stream",
     "text": [
      "Gene kiaa1257 not found in all_genes list\n",
      "Gene h1fx not found in all_genes list\n",
      "Gene h1foo not found in all_genes list\n",
      "Gene acpp not found in all_genes list\n"
     ]
    },
    {
     "name": "stdout",
     "output_type": "stream",
     "text": [
      "Gene slc66a1l not found in all_genes list\n"
     ]
    },
    {
     "name": "stdout",
     "output_type": "stream",
     "text": [
      "Gene terc not found in all_genes list\n"
     ]
    },
    {
     "name": "stdout",
     "output_type": "stream",
     "text": [
      "Gene ccdc39 not found in all_genes list\n"
     ]
    },
    {
     "name": "stdout",
     "output_type": "stream",
     "text": [
      "Gene ac072022.2 not found in all_genes list\n"
     ]
    },
    {
     "name": "stdout",
     "output_type": "stream",
     "text": [
      "Gene tctex1d2 not found in all_genes list\n"
     ]
    },
    {
     "name": "stdout",
     "output_type": "stream",
     "text": [
      "Gene ac093323.1 not found in all_genes list\n"
     ]
    },
    {
     "name": "stdout",
     "output_type": "stream",
     "text": [
      "Gene kiaa1211 not found in all_genes list\n"
     ]
    },
    {
     "name": "stdout",
     "output_type": "stream",
     "text": [
      "Gene h2afz not found in all_genes list\n"
     ]
    },
    {
     "name": "stdout",
     "output_type": "stream",
     "text": [
      "Gene tmem155 not found in all_genes list\n"
     ]
    },
    {
     "name": "stdout",
     "output_type": "stream",
     "text": [
      "Gene march1 not found in all_genes list\n",
      "Gene fam218a not found in all_genes list\n"
     ]
    },
    {
     "name": "stdout",
     "output_type": "stream",
     "text": [
      "Gene march6 not found in all_genes list\n",
      "Gene march11 not found in all_genes list\n",
      "Gene h3.y not found in all_genes list\n"
     ]
    },
    {
     "name": "stdout",
     "output_type": "stream",
     "text": [
      "Gene tars not found in all_genes list\n"
     ]
    },
    {
     "name": "stdout",
     "output_type": "stream",
     "text": [
      "Gene c5orf67 not found in all_genes list\n"
     ]
    },
    {
     "name": "stdout",
     "output_type": "stream",
     "text": [
      "Gene atp6ap1l not found in all_genes list\n"
     ]
    },
    {
     "name": "stdout",
     "output_type": "stream",
     "text": [
      "Gene c5orf30 not found in all_genes list\n"
     ]
    },
    {
     "name": "stdout",
     "output_type": "stream",
     "text": [
      "Gene ac010255.3 not found in all_genes list\n",
      "Gene march3 not found in all_genes list\n"
     ]
    },
    {
     "name": "stdout",
     "output_type": "stream",
     "text": [
      "Gene h2afy not found in all_genes list\n"
     ]
    },
    {
     "name": "stdout",
     "output_type": "stream",
     "text": [
      "Gene tmem173 not found in all_genes list\n",
      "Gene hars not found in all_genes list\n"
     ]
    },
    {
     "name": "stdout",
     "output_type": "stream",
     "text": [
      "Gene lars not found in all_genes list\n"
     ]
    },
    {
     "name": "stdout",
     "output_type": "stream",
     "text": [
      "Gene rars not found in all_genes list\n"
     ]
    },
    {
     "name": "stdout",
     "output_type": "stream",
     "text": [
      "Gene ac113348.1 not found in all_genes list\n",
      "Gene c5orf60 not found in all_genes list\n"
     ]
    },
    {
     "name": "stdout",
     "output_type": "stream",
     "text": [
      "Gene c6orf201 not found in all_genes list\n"
     ]
    },
    {
     "name": "stdout",
     "output_type": "stream",
     "text": [
      "Gene hist1h1a not found in all_genes list\n",
      "Gene hist1h4b not found in all_genes list\n",
      "Gene hist1h2bb not found in all_genes list\n",
      "Gene hist1h1c not found in all_genes list\n",
      "Gene hist1h4c not found in all_genes list\n",
      "Gene hist1h2ac not found in all_genes list\n",
      "Gene hist1h1e not found in all_genes list\n",
      "Gene hist1h4e not found in all_genes list\n",
      "Gene hist1h2bg not found in all_genes list\n",
      "Gene hist1h2ae not found in all_genes list\n",
      "Gene hist1h3e not found in all_genes list\n",
      "Gene hist1h1d not found in all_genes list\n",
      "Gene hist1h4g not found in all_genes list\n",
      "Gene hist1h2bh not found in all_genes list\n",
      "Gene hist1h3g not found in all_genes list\n",
      "Gene hist1h2ag not found in all_genes list\n",
      "Gene hist1h4i not found in all_genes list\n",
      "Gene hist1h2ai not found in all_genes list\n",
      "Gene hist1h3h not found in all_genes list\n",
      "Gene hist1h4j not found in all_genes list\n",
      "Gene hist1h2bn not found in all_genes list\n",
      "Gene hist1h2ak not found in all_genes list\n",
      "Gene hist1h1b not found in all_genes list\n"
     ]
    },
    {
     "name": "stdout",
     "output_type": "stream",
     "text": [
      "Gene znrd1 not found in all_genes list\n"
     ]
    },
    {
     "name": "stdout",
     "output_type": "stream",
     "text": [
      "Gene vars not found in all_genes list\n",
      "Gene snhg32 not found in all_genes list\n"
     ]
    },
    {
     "name": "stdout",
     "output_type": "stream",
     "text": [
      "Gene c6orf223 not found in all_genes list\n"
     ]
    },
    {
     "name": "stdout",
     "output_type": "stream",
     "text": [
      "Gene defb133 not found in all_genes list\n",
      "Gene ick not found in all_genes list\n"
     ]
    },
    {
     "name": "stdout",
     "output_type": "stream",
     "text": [
      "Gene al135905.2 not found in all_genes list\n"
     ]
    },
    {
     "name": "stdout",
     "output_type": "stream",
     "text": [
      "Gene fgfr1op not found in all_genes list\n",
      "Gene tcte3 not found in all_genes list\n",
      "Gene ac187653.1 not found in all_genes list\n"
     ]
    },
    {
     "name": "stdout",
     "output_type": "stream",
     "text": [
      "Gene ac013470.2 not found in all_genes list\n",
      "Gene twistnb not found in all_genes list\n"
     ]
    },
    {
     "name": "stdout",
     "output_type": "stream",
     "text": [
      "Gene ac004593.3 not found in all_genes list\n",
      "Gene gars not found in all_genes list\n"
     ]
    },
    {
     "name": "stdout",
     "output_type": "stream",
     "text": [
      "Gene trgc2 not found in all_genes list\n",
      "Gene trgjp2 not found in all_genes list\n",
      "Gene trgc1 not found in all_genes list\n",
      "Gene trgjp1 not found in all_genes list\n"
     ]
    },
    {
     "name": "stdout",
     "output_type": "stream",
     "text": [
      "Gene ac115220.1 not found in all_genes list\n"
     ]
    },
    {
     "name": "stdout",
     "output_type": "stream",
     "text": [
      "Gene kiaa1324l not found in all_genes list\n"
     ]
    },
    {
     "name": "stdout",
     "output_type": "stream",
     "text": [
      "Gene castor3 not found in all_genes list\n"
     ]
    },
    {
     "name": "stdout",
     "output_type": "stream",
     "text": [
      "Gene c7orf77 not found in all_genes list\n",
      "Gene ac011005.1 not found in all_genes list\n"
     ]
    },
    {
     "name": "stdout",
     "output_type": "stream",
     "text": [
      "Gene trbc1 not found in all_genes list\n",
      "Gene trbc2 not found in all_genes list\n"
     ]
    },
    {
     "name": "stdout",
     "output_type": "stream",
     "text": [
      "Gene sspo not found in all_genes list\n",
      "Gene ac073111.4 not found in all_genes list\n"
     ]
    },
    {
     "name": "stdout",
     "output_type": "stream",
     "text": [
      "Gene ac021097.2 not found in all_genes list\n"
     ]
    },
    {
     "name": "stdout",
     "output_type": "stream",
     "text": [
      "Gene wdr60 not found in all_genes list\n",
      "Gene ac134684.8 not found in all_genes list\n"
     ]
    },
    {
     "name": "stdout",
     "output_type": "stream",
     "text": [
      "Gene pinx1 not found in all_genes list\n"
     ]
    },
    {
     "name": "stdout",
     "output_type": "stream",
     "text": [
      "Gene impad1 not found in all_genes list\n"
     ]
    },
    {
     "name": "stdout",
     "output_type": "stream",
     "text": [
      "Gene wdyhv1 not found in all_genes list\n",
      "Gene fam49b not found in all_genes list\n"
     ]
    },
    {
     "name": "stdout",
     "output_type": "stream",
     "text": [
      "Gene ac138647.1 not found in all_genes list\n"
     ]
    },
    {
     "name": "stdout",
     "output_type": "stream",
     "text": [
      "Gene tsta3 not found in all_genes list\n"
     ]
    },
    {
     "name": "stdout",
     "output_type": "stream",
     "text": [
      "Gene dock8-as1 not found in all_genes list\n"
     ]
    },
    {
     "name": "stdout",
     "output_type": "stream",
     "text": [
      "Gene c9orf92 not found in all_genes list\n"
     ]
    },
    {
     "name": "stdout",
     "output_type": "stream",
     "text": [
      "Gene al162231.1 not found in all_genes list\n"
     ]
    },
    {
     "name": "stdout",
     "output_type": "stream",
     "text": [
      "Gene fam122a not found in all_genes list\n"
     ]
    },
    {
     "name": "stdout",
     "output_type": "stream",
     "text": [
      "Gene al353572.3 not found in all_genes list\n",
      "Gene iars not found in all_genes list\n"
     ]
    },
    {
     "name": "stdout",
     "output_type": "stream",
     "text": [
      "Gene c9orf129 not found in all_genes list\n",
      "Gene al160269.1 not found in all_genes list\n"
     ]
    },
    {
     "name": "stdout",
     "output_type": "stream",
     "text": [
      "Gene tmem246 not found in all_genes list\n"
     ]
    },
    {
     "name": "stdout",
     "output_type": "stream",
     "text": [
      "Gene palm2-akap2 not found in all_genes list\n",
      "Gene znf883 not found in all_genes list\n"
     ]
    },
    {
     "name": "stdout",
     "output_type": "stream",
     "text": [
      "Gene dec1 not found in all_genes list\n",
      "Gene b3gnt10 not found in all_genes list\n"
     ]
    },
    {
     "name": "stdout",
     "output_type": "stream",
     "text": [
      "Gene wdr34 not found in all_genes list\n"
     ]
    },
    {
     "name": "stdout",
     "output_type": "stream",
     "text": [
      "Gene al354761.1 not found in all_genes list\n"
     ]
    },
    {
     "name": "stdout",
     "output_type": "stream",
     "text": [
      "Gene bx255925.3 not found in all_genes list\n"
     ]
    },
    {
     "name": "stdout",
     "output_type": "stream",
     "text": [
      "Gene mir1915hg not found in all_genes list\n"
     ]
    },
    {
     "name": "stdout",
     "output_type": "stream",
     "text": [
      "Gene armc4 not found in all_genes list\n"
     ]
    },
    {
     "name": "stdout",
     "output_type": "stream",
     "text": [
      "Gene c10orf142 not found in all_genes list\n",
      "Gene march8 not found in all_genes list\n"
     ]
    },
    {
     "name": "stdout",
     "output_type": "stream",
     "text": [
      "Gene ac067752.1 not found in all_genes list\n",
      "Gene kif1bp not found in all_genes list\n"
     ]
    },
    {
     "name": "stdout",
     "output_type": "stream",
     "text": [
      "Gene h2afy2 not found in all_genes list\n"
     ]
    },
    {
     "name": "stdout",
     "output_type": "stream",
     "text": [
      "Gene c10orf55 not found in all_genes list\n",
      "Gene dupd1 not found in all_genes list\n"
     ]
    },
    {
     "name": "stdout",
     "output_type": "stream",
     "text": [
      "Gene march5 not found in all_genes list\n"
     ]
    },
    {
     "name": "stdout",
     "output_type": "stream",
     "text": [
      "Gene atp5md not found in all_genes list\n"
     ]
    },
    {
     "name": "stdout",
     "output_type": "stream",
     "text": [
      "Gene al603764.2 not found in all_genes list\n"
     ]
    },
    {
     "name": "stdout",
     "output_type": "stream",
     "text": [
      "Gene pano1 not found in all_genes list\n"
     ]
    },
    {
     "name": "stdout",
     "output_type": "stream",
     "text": [
      "Gene ac132217.2 not found in all_genes list\n",
      "Gene cars not found in all_genes list\n"
     ]
    },
    {
     "name": "stdout",
     "output_type": "stream",
     "text": [
      "Gene c11orf40 not found in all_genes list\n",
      "Gene ac104389.5 not found in all_genes list\n"
     ]
    },
    {
     "name": "stdout",
     "output_type": "stream",
     "text": [
      "Gene st5 not found in all_genes list\n",
      "Gene mrvi1 not found in all_genes list\n"
     ]
    },
    {
     "name": "stdout",
     "output_type": "stream",
     "text": [
      "Gene c11orf74 not found in all_genes list\n"
     ]
    },
    {
     "name": "stdout",
     "output_type": "stream",
     "text": [
      "Gene or5r1 not found in all_genes list\n"
     ]
    },
    {
     "name": "stdout",
     "output_type": "stream",
     "text": [
      "Gene ap002495.1 not found in all_genes list\n"
     ]
    },
    {
     "name": "stdout",
     "output_type": "stream",
     "text": [
      "Gene card16 not found in all_genes list\n",
      "Gene card17 not found in all_genes list\n"
     ]
    },
    {
     "name": "stdout",
     "output_type": "stream",
     "text": [
      "Gene c11orf88 not found in all_genes list\n"
     ]
    },
    {
     "name": "stdout",
     "output_type": "stream",
     "text": [
      "Gene ccdc84 not found in all_genes list\n",
      "Gene h2afx not found in all_genes list\n"
     ]
    },
    {
     "name": "stdout",
     "output_type": "stream",
     "text": [
      "Gene hist4h4 not found in all_genes list\n",
      "Gene h2afj not found in all_genes list\n"
     ]
    },
    {
     "name": "stdout",
     "output_type": "stream",
     "text": [
      "Gene lrmp not found in all_genes list\n",
      "Gene casc1 not found in all_genes list\n"
     ]
    },
    {
     "name": "stdout",
     "output_type": "stream",
     "text": [
      "Gene h3f3c not found in all_genes list\n"
     ]
    },
    {
     "name": "stdout",
     "output_type": "stream",
     "text": [
      "Gene h1fnt not found in all_genes list\n"
     ]
    },
    {
     "name": "stdout",
     "output_type": "stream",
     "text": [
      "Gene c12orf81 not found in all_genes list\n",
      "Gene grasp not found in all_genes list\n"
     ]
    },
    {
     "name": "stdout",
     "output_type": "stream",
     "text": [
      "Gene ac021072.1 not found in all_genes list\n",
      "Gene c12orf10 not found in all_genes list\n"
     ]
    },
    {
     "name": "stdout",
     "output_type": "stream",
     "text": [
      "Gene mars not found in all_genes list\n",
      "Gene slc26a10 not found in all_genes list\n",
      "Gene march9 not found in all_genes list\n"
     ]
    },
    {
     "name": "stdout",
     "output_type": "stream",
     "text": [
      "Gene cllu1os not found in all_genes list\n",
      "Gene c12orf74 not found in all_genes list\n"
     ]
    },
    {
     "name": "stdout",
     "output_type": "stream",
     "text": [
      "Gene c12orf49 not found in all_genes list\n"
     ]
    },
    {
     "name": "stdout",
     "output_type": "stream",
     "text": [
      "Gene wdr66 not found in all_genes list\n"
     ]
    },
    {
     "name": "stdout",
     "output_type": "stream",
     "text": [
      "Gene spata13 not found in all_genes list\n"
     ]
    },
    {
     "name": "stdout",
     "output_type": "stream",
     "text": [
      "Gene spert not found in all_genes list\n"
     ]
    },
    {
     "name": "stdout",
     "output_type": "stream",
     "text": [
      "Gene al445238.1 not found in all_genes list\n"
     ]
    },
    {
     "name": "stdout",
     "output_type": "stream",
     "text": [
      "Gene trdc not found in all_genes list\n",
      "Gene trac not found in all_genes list\n"
     ]
    },
    {
     "name": "stdout",
     "output_type": "stream",
     "text": [
      "Gene elmsan1 not found in all_genes list\n"
     ]
    },
    {
     "name": "stdout",
     "output_type": "stream",
     "text": [
      "Gene c14orf177 not found in all_genes list\n",
      "Gene wars not found in all_genes list\n"
     ]
    },
    {
     "name": "stdout",
     "output_type": "stream",
     "text": [
      "Gene atp5mpl not found in all_genes list\n",
      "Gene adssl1 not found in all_genes list\n",
      "Gene igha2 not found in all_genes list\n",
      "Gene ighe not found in all_genes list\n",
      "Gene igha1 not found in all_genes list\n",
      "Gene ighg1 not found in all_genes list\n",
      "Gene ighg3 not found in all_genes list\n",
      "Gene ighd not found in all_genes list\n",
      "Gene ighm not found in all_genes list\n",
      "Gene fam30a not found in all_genes list\n"
     ]
    },
    {
     "name": "stdout",
     "output_type": "stream",
     "text": [
      "Gene golga8m not found in all_genes list\n",
      "Gene ac091057.6 not found in all_genes list\n"
     ]
    },
    {
     "name": "stdout",
     "output_type": "stream",
     "text": [
      "Gene c15orf41 not found in all_genes list\n",
      "Gene linc02694 not found in all_genes list\n"
     ]
    },
    {
     "name": "stdout",
     "output_type": "stream",
     "text": [
      "Gene casc4 not found in all_genes list\n"
     ]
    },
    {
     "name": "stdout",
     "output_type": "stream",
     "text": [
      "Gene ct62 not found in all_genes list\n"
     ]
    },
    {
     "name": "stdout",
     "output_type": "stream",
     "text": [
      "Gene ac015871.1 not found in all_genes list\n"
     ]
    },
    {
     "name": "stdout",
     "output_type": "stream",
     "text": [
      "Gene spata8 not found in all_genes list\n",
      "Gene fam169b not found in all_genes list\n",
      "Gene tarsl2 not found in all_genes list\n"
     ]
    },
    {
     "name": "stdout",
     "output_type": "stream",
     "text": [
      "Gene tmem8a not found in all_genes list\n"
     ]
    },
    {
     "name": "stdout",
     "output_type": "stream",
     "text": [
      "Gene al032819.3 not found in all_genes list\n"
     ]
    },
    {
     "name": "stdout",
     "output_type": "stream",
     "text": [
      "Gene ac025283.2 not found in all_genes list\n"
     ]
    },
    {
     "name": "stdout",
     "output_type": "stream",
     "text": [
      "Gene ac099489.1 not found in all_genes list\n",
      "Gene fopnl not found in all_genes list\n"
     ]
    },
    {
     "name": "stdout",
     "output_type": "stream",
     "text": [
      "Gene kiaa0556 not found in all_genes list\n"
     ]
    },
    {
     "name": "stdout",
     "output_type": "stream",
     "text": [
      "Gene c16orf58 not found in all_genes list\n"
     ]
    },
    {
     "name": "stdout",
     "output_type": "stream",
     "text": [
      "Gene ac007906.2 not found in all_genes list\n"
     ]
    },
    {
     "name": "stdout",
     "output_type": "stream",
     "text": [
      "Gene fam192a not found in all_genes list\n"
     ]
    },
    {
     "name": "stdout",
     "output_type": "stream",
     "text": [
      "Gene lrrc29 not found in all_genes list\n"
     ]
    },
    {
     "name": "stdout",
     "output_type": "stream",
     "text": [
      "Gene aars not found in all_genes list\n"
     ]
    },
    {
     "name": "stdout",
     "output_type": "stream",
     "text": [
      "Gene kars not found in all_genes list\n",
      "Gene ac025287.4 not found in all_genes list\n"
     ]
    },
    {
     "name": "stdout",
     "output_type": "stream",
     "text": [
      "Gene fam92b not found in all_genes list\n"
     ]
    },
    {
     "name": "stdout",
     "output_type": "stream",
     "text": [
      "Gene cenpbd1 not found in all_genes list\n"
     ]
    },
    {
     "name": "stdout",
     "output_type": "stream",
     "text": [
      "Gene ac087498.1 not found in all_genes list\n"
     ]
    },
    {
     "name": "stdout",
     "output_type": "stream",
     "text": [
      "Gene ac233723.1 not found in all_genes list\n"
     ]
    },
    {
     "name": "stdout",
     "output_type": "stream",
     "text": [
      "Gene trim16l not found in all_genes list\n",
      "Gene linc02693 not found in all_genes list\n"
     ]
    },
    {
     "name": "stdout",
     "output_type": "stream",
     "text": [
      "Gene slfn12l not found in all_genes list\n"
     ]
    },
    {
     "name": "stdout",
     "output_type": "stream",
     "text": [
      "Gene tmem99 not found in all_genes list\n"
     ]
    },
    {
     "name": "stdout",
     "output_type": "stream",
     "text": [
      "Gene ttc25 not found in all_genes list\n"
     ]
    },
    {
     "name": "stdout",
     "output_type": "stream",
     "text": [
      "Gene c17orf53 not found in all_genes list\n"
     ]
    },
    {
     "name": "stdout",
     "output_type": "stream",
     "text": [
      "Gene ac011195.2 not found in all_genes list\n"
     ]
    },
    {
     "name": "stdout",
     "output_type": "stream",
     "text": [
      "Gene march10 not found in all_genes list\n"
     ]
    },
    {
     "name": "stdout",
     "output_type": "stream",
     "text": [
      "Gene h3f3b not found in all_genes list\n"
     ]
    },
    {
     "name": "stdout",
     "output_type": "stream",
     "text": [
      "Gene eloa3 not found in all_genes list\n"
     ]
    },
    {
     "name": "stdout",
     "output_type": "stream",
     "text": [
      "Gene nars not found in all_genes list\n"
     ]
    },
    {
     "name": "stdout",
     "output_type": "stream",
     "text": [
      "Gene ac090360.1 not found in all_genes list\n"
     ]
    },
    {
     "name": "stdout",
     "output_type": "stream",
     "text": [
      "Gene ac005551.1 not found in all_genes list\n"
     ]
    },
    {
     "name": "stdout",
     "output_type": "stream",
     "text": [
      "Gene ac119396.1 not found in all_genes list\n"
     ]
    },
    {
     "name": "stdout",
     "output_type": "stream",
     "text": [
      "Gene march2 not found in all_genes list\n"
     ]
    },
    {
     "name": "stdout",
     "output_type": "stream",
     "text": [
      "Gene ccdc151 not found in all_genes list\n"
     ]
    },
    {
     "name": "stdout",
     "output_type": "stream",
     "text": [
      "Gene c19orf57 not found in all_genes list\n"
     ]
    },
    {
     "name": "stdout",
     "output_type": "stream",
     "text": [
      "Gene ac008397.1 not found in all_genes list\n"
     ]
    },
    {
     "name": "stdout",
     "output_type": "stream",
     "text": [
      "Gene kiaa0355 not found in all_genes list\n"
     ]
    },
    {
     "name": "stdout",
     "output_type": "stream",
     "text": [
      "Gene cntd2 not found in all_genes list\n"
     ]
    },
    {
     "name": "stdout",
     "output_type": "stream",
     "text": [
      "Gene cd3eap not found in all_genes list\n",
      "Gene bhmg1 not found in all_genes list\n"
     ]
    },
    {
     "name": "stdout",
     "output_type": "stream",
     "text": [
      "Gene ppp5d1 not found in all_genes list\n"
     ]
    },
    {
     "name": "stdout",
     "output_type": "stream",
     "text": [
      "Gene ccdc114 not found in all_genes list\n"
     ]
    },
    {
     "name": "stdout",
     "output_type": "stream",
     "text": [
      "Gene ac008687.4 not found in all_genes list\n",
      "Gene ccdc155 not found in all_genes list\n"
     ]
    },
    {
     "name": "stdout",
     "output_type": "stream",
     "text": [
      "Gene ac010325.1 not found in all_genes list\n",
      "Gene c19orf48 not found in all_genes list\n"
     ]
    },
    {
     "name": "stdout",
     "output_type": "stream",
     "text": [
      "Gene siglec5 not found in all_genes list\n"
     ]
    },
    {
     "name": "stdout",
     "output_type": "stream",
     "text": [
      "Gene gdf5os not found in all_genes list\n"
     ]
    },
    {
     "name": "stdout",
     "output_type": "stream",
     "text": [
      "Gene tmem189 not found in all_genes list\n"
     ]
    },
    {
     "name": "stdout",
     "output_type": "stream",
     "text": [
      "Gene fp565260.1 not found in all_genes list\n"
     ]
    },
    {
     "name": "stdout",
     "output_type": "stream",
     "text": [
      "Gene iglc1 not found in all_genes list\n",
      "Gene iglc7 not found in all_genes list\n"
     ]
    },
    {
     "name": "stdout",
     "output_type": "stream",
     "text": [
      "Gene lrp5l not found in all_genes list\n"
     ]
    },
    {
     "name": "stdout",
     "output_type": "stream",
     "text": [
      "Gene elfn2 not found in all_genes list\n",
      "Gene h1f0 not found in all_genes list\n"
     ]
    },
    {
     "name": "stdout",
     "output_type": "stream",
     "text": [
      "Gene z82206.1 not found in all_genes list\n"
     ]
    },
    {
     "name": "stdout",
     "output_type": "stream",
     "text": [
      "Gene arse not found in all_genes list\n"
     ]
    },
    {
     "name": "stdout",
     "output_type": "stream",
     "text": [
      "Gene cxorf21 not found in all_genes list\n",
      "Gene hypm not found in all_genes list\n",
      "Gene al121578.2 not found in all_genes list\n"
     ]
    },
    {
     "name": "stdout",
     "output_type": "stream",
     "text": [
      "Gene bx276092.9 not found in all_genes list\n"
     ]
    },
    {
     "name": "stdout",
     "output_type": "stream",
     "text": [
      "Gene nxf5 not found in all_genes list\n",
      "Gene glra4 not found in all_genes list\n",
      "Gene tmsb15b not found in all_genes list\n",
      "Gene h2bfwt not found in all_genes list\n",
      "Gene h2bfm not found in all_genes list\n"
     ]
    },
    {
     "name": "stdout",
     "output_type": "stream",
     "text": [
      "Gene pih1d3 not found in all_genes list\n"
     ]
    },
    {
     "name": "stdout",
     "output_type": "stream",
     "text": [
      "Gene cxorf56 not found in all_genes list\n"
     ]
    },
    {
     "name": "stdout",
     "output_type": "stream",
     "text": [
      "Gene fam122b not found in all_genes list\n",
      "Gene fam122c not found in all_genes list\n"
     ]
    },
    {
     "name": "stdout",
     "output_type": "stream",
     "text": [
      "Gene cxorf40a not found in all_genes list\n",
      "Gene ac236972.4 not found in all_genes list\n"
     ]
    },
    {
     "name": "stdout",
     "output_type": "stream",
     "text": [
      "Gene prky not found in all_genes list\n"
     ]
    }
   ],
   "source": [
    "gene_to_index = {gene: idx for idx, gene in enumerate(all_genes_lower)}\n",
    "dense_adata_X = adata.X\n",
    "for i, gene in enumerate(adata_genes_lower):\n",
    "    if gene in gene_to_index:\n",
    "        new_data[:, gene_to_index[gene]] = dense_adata_X[:, i]\n",
    "    else:\n",
    "        print(f'Gene {gene} not found in all_genes list')"
   ]
  },
  {
   "cell_type": "code",
   "execution_count": 6,
   "metadata": {
    "execution": {
     "iopub.execute_input": "2024-11-03T15:29:02.067919Z",
     "iopub.status.busy": "2024-11-03T15:29:02.067523Z",
     "iopub.status.idle": "2024-11-03T15:29:10.024359Z",
     "shell.execute_reply": "2024-11-03T15:29:10.023740Z"
    }
   },
   "outputs": [
    {
     "name": "stderr",
     "output_type": "stream",
     "text": [
      "GPU available: True (cuda), used: True\n"
     ]
    },
    {
     "name": "stderr",
     "output_type": "stream",
     "text": [
      "TPU available: False, using: 0 TPU cores\n"
     ]
    },
    {
     "name": "stderr",
     "output_type": "stream",
     "text": [
      "HPU available: False, using: 0 HPUs\n"
     ]
    }
   ],
   "source": [
    "# 使用 GPU 进行评估（如果可用）\n",
    "estim.trainer = pl.Trainer(accelerator=\"gpu\", devices=1 if torch.cuda.is_available() else None)\n",
    "\n",
    "# 5. 数据集划分（70% 训练，15% 验证，15% 测试）\n",
    "label_encoder = LabelEncoder()\n",
    "labels_encoded = label_encoder.fit_transform(adata.obs['cell_type'])  # 预先编码标签\n",
    "\n",
    "\n",
    "random_seed = 42\n",
    "\n",
    "X_train_val, X_test, y_train_val, y_test = train_test_split(\n",
    "    new_data, labels_encoded, test_size=0.15, random_state=random_seed)\n",
    "\n",
    "X_train, X_val, y_train, y_val = train_test_split(\n",
    "    X_train_val, y_train_val, test_size=0.1765, random_state=random_seed)  # 0.1765 是为了让验证集占 15%"
   ]
  },
  {
   "cell_type": "code",
   "execution_count": 7,
   "metadata": {
    "execution": {
     "iopub.execute_input": "2024-11-03T15:29:10.026433Z",
     "iopub.status.busy": "2024-11-03T15:29:10.026169Z",
     "iopub.status.idle": "2024-11-03T15:29:12.138251Z",
     "shell.execute_reply": "2024-11-03T15:29:12.137582Z"
    }
   },
   "outputs": [
    {
     "data": {
      "text/plain": [
       "MLPAutoEncoder(\n",
       "  (train_metrics): MetricCollection(\n",
       "    (explained_var_uniform): ExplainedVariance()\n",
       "    (explained_var_weighted): ExplainedVariance()\n",
       "    (mse): MeanSquaredError(),\n",
       "    prefix=train_\n",
       "  )\n",
       "  (val_metrics): MetricCollection(\n",
       "    (explained_var_uniform): ExplainedVariance()\n",
       "    (explained_var_weighted): ExplainedVariance()\n",
       "    (mse): MeanSquaredError(),\n",
       "    prefix=val_\n",
       "  )\n",
       "  (test_metrics): MetricCollection(\n",
       "    (explained_var_uniform): ExplainedVariance()\n",
       "    (explained_var_weighted): ExplainedVariance()\n",
       "    (mse): MeanSquaredError(),\n",
       "    prefix=test_\n",
       "  )\n",
       "  (encoder): MLP(\n",
       "    (0): Linear(in_features=19331, out_features=512, bias=True)\n",
       "    (1): SELU()\n",
       "    (2): Dropout(p=0.1, inplace=False)\n",
       "    (3): Linear(in_features=512, out_features=512, bias=True)\n",
       "    (4): SELU()\n",
       "    (5): Dropout(p=0.1, inplace=False)\n",
       "    (6): Linear(in_features=512, out_features=256, bias=True)\n",
       "    (7): SELU()\n",
       "    (8): Dropout(p=0.1, inplace=False)\n",
       "    (9): Linear(in_features=256, out_features=256, bias=True)\n",
       "    (10): SELU()\n",
       "    (11): Dropout(p=0.1, inplace=False)\n",
       "    (12): Linear(in_features=256, out_features=64, bias=True)\n",
       "  )\n",
       "  (decoder): Sequential(\n",
       "    (0): MLP(\n",
       "      (0): Linear(in_features=64, out_features=256, bias=True)\n",
       "      (1): SELU()\n",
       "      (2): Dropout(p=0.1, inplace=False)\n",
       "      (3): Linear(in_features=256, out_features=256, bias=True)\n",
       "      (4): SELU()\n",
       "      (5): Dropout(p=0.1, inplace=False)\n",
       "      (6): Linear(in_features=256, out_features=512, bias=True)\n",
       "      (7): SELU()\n",
       "      (8): Dropout(p=0.1, inplace=False)\n",
       "      (9): Linear(in_features=512, out_features=512, bias=True)\n",
       "      (10): SELU()\n",
       "      (11): Dropout(p=0.1, inplace=False)\n",
       "      (12): Linear(in_features=512, out_features=19331, bias=True)\n",
       "    )\n",
       "    (1): Sigmoid()\n",
       "  )\n",
       "  (fc): Linear(in_features=64, out_features=20, bias=True)\n",
       ")"
      ]
     },
     "execution_count": 7,
     "metadata": {},
     "output_type": "execute_result"
    }
   ],
   "source": [
    "# 将训练数据转换为张量\n",
    "device = torch.device(\"cuda\" if torch.cuda.is_available() else \"cpu\")\n",
    "X_train_tensor = torch.tensor(X_train).float().to(device)\n",
    "y_train_tensor = torch.tensor(y_train).long().to(device)\n",
    "X_val_tensor = torch.tensor(X_val).float().to(device)\n",
    "y_val_tensor = torch.tensor(y_val).long().to(device)\n",
    "estim.model.to(device)"
   ]
  },
  {
   "cell_type": "code",
   "execution_count": 8,
   "metadata": {
    "execution": {
     "iopub.execute_input": "2024-11-03T15:29:12.141545Z",
     "iopub.status.busy": "2024-11-03T15:29:12.141208Z",
     "iopub.status.idle": "2024-11-03T15:29:12.145807Z",
     "shell.execute_reply": "2024-11-03T15:29:12.144672Z"
    }
   },
   "outputs": [],
   "source": [
    "# 6. 微调模型，仅微调 encoder 的最后两层，其他层参数冻结\n",
    "for param in estim.model.encoder.parameters():\n",
    "    param.requires_grad = False  # 冻结所有层\n",
    "\n",
    "# 解冻最后两层\n",
    "for param in list(estim.model.encoder.parameters())[-5:]:\n",
    "    param.requires_grad = True"
   ]
  },
  {
   "cell_type": "code",
   "execution_count": 9,
   "metadata": {
    "execution": {
     "iopub.execute_input": "2024-11-03T15:29:12.148783Z",
     "iopub.status.busy": "2024-11-03T15:29:12.148287Z",
     "iopub.status.idle": "2024-11-03T15:29:12.153669Z",
     "shell.execute_reply": "2024-11-03T15:29:12.152678Z"
    }
   },
   "outputs": [],
   "source": [
    "# 定义损失函数和优化器\n",
    "loss_fn = nn.CrossEntropyLoss()\n",
    "optimizer = AdamW(filter(lambda p: p.requires_grad, estim.model.parameters()), lr=9e-4, weight_decay=0.05)\n",
    "scheduler = torch.optim.lr_scheduler.StepLR(optimizer, step_size=2, gamma=0.9)"
   ]
  },
  {
   "cell_type": "code",
   "execution_count": 10,
   "metadata": {
    "execution": {
     "iopub.execute_input": "2024-11-03T15:29:12.157026Z",
     "iopub.status.busy": "2024-11-03T15:29:12.156427Z",
     "iopub.status.idle": "2024-11-03T15:29:12.163343Z",
     "shell.execute_reply": "2024-11-03T15:29:12.162611Z"
    }
   },
   "outputs": [],
   "source": [
    "from torch.utils.data import DataLoader, TensorDataset\n",
    "\n",
    "# 设置 batch size\n",
    "batch_size = 128  # 根据实际需求调整 batch size\n",
    "\n",
    "# 使用 TensorDataset 将训练数据和标签打包\n",
    "train_dataset = TensorDataset(X_train_tensor, y_train_tensor)\n",
    "val_dataset = TensorDataset(X_val_tensor, y_val_tensor)\n",
    "\n",
    "# 使用 DataLoader 来创建批次\n",
    "train_loader = DataLoader(train_dataset, batch_size=batch_size, shuffle=True)\n",
    "val_loader = DataLoader(val_dataset, batch_size=batch_size, shuffle=False)\n",
    "\n",
    "# 7. 微调模型\n",
    "def train_epoch(model, optimizer, loss_fn, train_loader, val_loader):\n",
    "    model.train()\n",
    "    total_train_loss = 0\n",
    "    \n",
    "    # 训练集批次训练\n",
    "    for X_batch, y_batch in train_loader:\n",
    "        optimizer.zero_grad()\n",
    "        \n",
    "        # 前向传播\n",
    "        outputs = model.encoder(X_batch)\n",
    "        logits = model.fc(outputs)\n",
    "        \n",
    "        # 计算损失\n",
    "        loss = loss_fn(logits, y_batch)\n",
    "        loss.backward()\n",
    "        optimizer.step()\n",
    "        \n",
    "        total_train_loss += loss.item()\n",
    "    \n",
    "    # 验证集\n",
    "    model.eval()\n",
    "    total_val_loss = 0\n",
    "    with torch.no_grad():\n",
    "        for X_val_batch, y_val_batch in val_loader:\n",
    "            val_outputs = model.encoder(X_val_batch)\n",
    "            val_logits = model.fc(val_outputs)\n",
    "            val_loss = loss_fn(val_logits, y_val_batch)\n",
    "            total_val_loss += val_loss.item()\n",
    "\n",
    "    # 返回平均损失\n",
    "    return total_train_loss / len(train_loader), total_val_loss / len(val_loader)"
   ]
  },
  {
   "cell_type": "code",
   "execution_count": 11,
   "metadata": {
    "execution": {
     "iopub.execute_input": "2024-11-03T15:29:12.166622Z",
     "iopub.status.busy": "2024-11-03T15:29:12.166118Z",
     "iopub.status.idle": "2024-11-03T15:32:35.395281Z",
     "shell.execute_reply": "2024-11-03T15:32:35.394476Z"
    }
   },
   "outputs": [
    {
     "name": "stdout",
     "output_type": "stream",
     "text": [
      "Epoch 1, Train Loss: 1.4552753831306573, Validation Loss: 1.1025824162560671\n",
      "Validation loss improved to 1.1025824162560671, resetting patience.\n"
     ]
    },
    {
     "name": "stdout",
     "output_type": "stream",
     "text": [
      "Epoch 2, Train Loss: 1.3196798903230489, Validation Loss: 1.0813829348172028\n",
      "Validation loss improved to 1.0813829348172028, resetting patience.\n"
     ]
    },
    {
     "name": "stdout",
     "output_type": "stream",
     "text": [
      "Epoch 3, Train Loss: 1.2998271196236537, Validation Loss: 1.0618218150235674\n",
      "Validation loss improved to 1.0618218150235674, resetting patience.\n"
     ]
    },
    {
     "name": "stdout",
     "output_type": "stream",
     "text": [
      "Epoch 4, Train Loss: 1.2877384091124815, Validation Loss: 1.0609193229433245\n",
      "Validation loss improved to 1.0609193229433245, resetting patience.\n"
     ]
    },
    {
     "name": "stdout",
     "output_type": "stream",
     "text": [
      "Epoch 5, Train Loss: 1.2785612444082897, Validation Loss: 1.0460880982694287\n",
      "Validation loss improved to 1.0460880982694287, resetting patience.\n"
     ]
    },
    {
     "name": "stdout",
     "output_type": "stream",
     "text": [
      "Epoch 6, Train Loss: 1.2688379461079642, Validation Loss: 1.0352702428241671\n",
      "Validation loss improved to 1.0352702428241671, resetting patience.\n"
     ]
    },
    {
     "name": "stdout",
     "output_type": "stream",
     "text": [
      "Epoch 7, Train Loss: 1.265922696956622, Validation Loss: 1.0507771167053184\n",
      "No improvement in validation loss. Patience counter: 1/20\n"
     ]
    },
    {
     "name": "stdout",
     "output_type": "stream",
     "text": [
      "Epoch 8, Train Loss: 1.2573520210054185, Validation Loss: 1.0683528124378416\n",
      "No improvement in validation loss. Patience counter: 2/20\n"
     ]
    },
    {
     "name": "stdout",
     "output_type": "stream",
     "text": [
      "Epoch 9, Train Loss: 1.2528534467963093, Validation Loss: 1.0506217827651707\n",
      "No improvement in validation loss. Patience counter: 3/20\n"
     ]
    },
    {
     "name": "stdout",
     "output_type": "stream",
     "text": [
      "Epoch 10, Train Loss: 1.2498790317890691, Validation Loss: 1.0462635353131948\n",
      "No improvement in validation loss. Patience counter: 4/20\n"
     ]
    },
    {
     "name": "stdout",
     "output_type": "stream",
     "text": [
      "Epoch 11, Train Loss: 1.246697328384146, Validation Loss: 1.0364206200323733\n",
      "No improvement in validation loss. Patience counter: 5/20\n"
     ]
    },
    {
     "name": "stdout",
     "output_type": "stream",
     "text": [
      "Epoch 12, Train Loss: 1.2430107801308559, Validation Loss: 1.0304333685618368\n",
      "Validation loss improved to 1.0304333685618368, resetting patience.\n"
     ]
    },
    {
     "name": "stdout",
     "output_type": "stream",
     "text": [
      "Epoch 13, Train Loss: 1.2381858694527403, Validation Loss: 1.040109351201711\n",
      "No improvement in validation loss. Patience counter: 1/20\n"
     ]
    },
    {
     "name": "stdout",
     "output_type": "stream",
     "text": [
      "Epoch 14, Train Loss: 1.237907144239006, Validation Loss: 1.0533882754708304\n",
      "No improvement in validation loss. Patience counter: 2/20\n"
     ]
    },
    {
     "name": "stdout",
     "output_type": "stream",
     "text": [
      "Epoch 15, Train Loss: 1.2352647663201641, Validation Loss: 1.0118562845409218\n",
      "Validation loss improved to 1.0118562845409218, resetting patience.\n"
     ]
    },
    {
     "name": "stdout",
     "output_type": "stream",
     "text": [
      "Epoch 16, Train Loss: 1.2362444127437076, Validation Loss: 1.0257216340999313\n",
      "No improvement in validation loss. Patience counter: 1/20\n"
     ]
    },
    {
     "name": "stdout",
     "output_type": "stream",
     "text": [
      "Epoch 17, Train Loss: 1.2275138977176483, Validation Loss: 1.0447685633819115\n",
      "No improvement in validation loss. Patience counter: 2/20\n"
     ]
    },
    {
     "name": "stdout",
     "output_type": "stream",
     "text": [
      "Epoch 18, Train Loss: 1.2283670564622402, Validation Loss: 1.0235654896285933\n",
      "No improvement in validation loss. Patience counter: 3/20\n"
     ]
    },
    {
     "name": "stdout",
     "output_type": "stream",
     "text": [
      "Epoch 19, Train Loss: 1.2290670899654006, Validation Loss: 1.028454071374109\n",
      "No improvement in validation loss. Patience counter: 4/20\n"
     ]
    },
    {
     "name": "stdout",
     "output_type": "stream",
     "text": [
      "Epoch 20, Train Loss: 1.2252146714003778, Validation Loss: 1.0380421244553504\n",
      "No improvement in validation loss. Patience counter: 5/20\n"
     ]
    },
    {
     "name": "stdout",
     "output_type": "stream",
     "text": [
      "Epoch 21, Train Loss: 1.2264696181080181, Validation Loss: 1.0276588794543657\n",
      "No improvement in validation loss. Patience counter: 6/20\n"
     ]
    },
    {
     "name": "stdout",
     "output_type": "stream",
     "text": [
      "Epoch 22, Train Loss: 1.220107410143663, Validation Loss: 1.017096311005239\n",
      "No improvement in validation loss. Patience counter: 7/20\n"
     ]
    },
    {
     "name": "stdout",
     "output_type": "stream",
     "text": [
      "Epoch 23, Train Loss: 1.219352337010286, Validation Loss: 1.0042661216658384\n",
      "Validation loss improved to 1.0042661216658384, resetting patience.\n"
     ]
    },
    {
     "name": "stdout",
     "output_type": "stream",
     "text": [
      "Epoch 24, Train Loss: 1.219556990272339, Validation Loss: 1.0084445476531982\n",
      "No improvement in validation loss. Patience counter: 1/20\n"
     ]
    },
    {
     "name": "stdout",
     "output_type": "stream",
     "text": [
      "Epoch 25, Train Loss: 1.2197152123601869, Validation Loss: 1.0161614880949108\n",
      "No improvement in validation loss. Patience counter: 2/20\n"
     ]
    },
    {
     "name": "stdout",
     "output_type": "stream",
     "text": [
      "Epoch 26, Train Loss: 1.2193208835483376, Validation Loss: 1.0319961091588596\n",
      "No improvement in validation loss. Patience counter: 3/20\n"
     ]
    },
    {
     "name": "stdout",
     "output_type": "stream",
     "text": [
      "Epoch 27, Train Loss: 1.2166788370261266, Validation Loss: 1.0318151996825553\n",
      "No improvement in validation loss. Patience counter: 4/20\n"
     ]
    },
    {
     "name": "stdout",
     "output_type": "stream",
     "text": [
      "Epoch 28, Train Loss: 1.2134971743964942, Validation Loss: 1.0346220589531254\n",
      "No improvement in validation loss. Patience counter: 5/20\n"
     ]
    },
    {
     "name": "stdout",
     "output_type": "stream",
     "text": [
      "Epoch 29, Train Loss: 1.2128256913883235, Validation Loss: 1.0306891929074593\n",
      "No improvement in validation loss. Patience counter: 6/20\n"
     ]
    },
    {
     "name": "stdout",
     "output_type": "stream",
     "text": [
      "Epoch 30, Train Loss: 1.2129728409719363, Validation Loss: 1.0182126342947713\n",
      "No improvement in validation loss. Patience counter: 7/20\n"
     ]
    },
    {
     "name": "stdout",
     "output_type": "stream",
     "text": [
      "Epoch 31, Train Loss: 1.2133154995690763, Validation Loss: 1.0076618947958582\n",
      "No improvement in validation loss. Patience counter: 8/20\n"
     ]
    },
    {
     "name": "stdout",
     "output_type": "stream",
     "text": [
      "Epoch 32, Train Loss: 1.214825835103303, Validation Loss: 1.043187329006679\n",
      "No improvement in validation loss. Patience counter: 9/20\n"
     ]
    },
    {
     "name": "stdout",
     "output_type": "stream",
     "text": [
      "Epoch 33, Train Loss: 1.214309728158585, Validation Loss: 1.0249241732703853\n",
      "No improvement in validation loss. Patience counter: 10/20\n"
     ]
    },
    {
     "name": "stdout",
     "output_type": "stream",
     "text": [
      "Epoch 34, Train Loss: 1.2094176367477134, Validation Loss: 1.0201358934344373\n",
      "No improvement in validation loss. Patience counter: 11/20\n"
     ]
    },
    {
     "name": "stdout",
     "output_type": "stream",
     "text": [
      "Epoch 35, Train Loss: 1.2086966872085414, Validation Loss: 1.0174585105804017\n",
      "No improvement in validation loss. Patience counter: 12/20\n"
     ]
    },
    {
     "name": "stdout",
     "output_type": "stream",
     "text": [
      "Epoch 36, Train Loss: 1.212385596208323, Validation Loss: 1.0060513464327392\n",
      "No improvement in validation loss. Patience counter: 13/20\n"
     ]
    },
    {
     "name": "stdout",
     "output_type": "stream",
     "text": [
      "Epoch 37, Train Loss: 1.2112611895812622, Validation Loss: 1.020461440691488\n",
      "No improvement in validation loss. Patience counter: 14/20\n"
     ]
    },
    {
     "name": "stdout",
     "output_type": "stream",
     "text": [
      "Epoch 38, Train Loss: 1.2078175902496495, Validation Loss: 1.0221971185679364\n",
      "No improvement in validation loss. Patience counter: 15/20\n"
     ]
    },
    {
     "name": "stdout",
     "output_type": "stream",
     "text": [
      "Epoch 39, Train Loss: 1.2105768828740047, Validation Loss: 1.0034483898109592\n",
      "Validation loss improved to 1.0034483898109592, resetting patience.\n"
     ]
    },
    {
     "name": "stdout",
     "output_type": "stream",
     "text": [
      "Epoch 40, Train Loss: 1.2105109126739253, Validation Loss: 1.0033473272614069\n",
      "Validation loss improved to 1.0033473272614069, resetting patience.\n"
     ]
    },
    {
     "name": "stdout",
     "output_type": "stream",
     "text": [
      "Epoch 41, Train Loss: 1.2078960274948793, Validation Loss: 1.0120196917335393\n",
      "No improvement in validation loss. Patience counter: 1/20\n"
     ]
    },
    {
     "name": "stdout",
     "output_type": "stream",
     "text": [
      "Epoch 42, Train Loss: 1.2095651028592602, Validation Loss: 1.0222116950804812\n",
      "No improvement in validation loss. Patience counter: 2/20\n"
     ]
    },
    {
     "name": "stdout",
     "output_type": "stream",
     "text": [
      "Epoch 43, Train Loss: 1.2041744715767488, Validation Loss: 1.0381112849046736\n",
      "No improvement in validation loss. Patience counter: 3/20\n"
     ]
    },
    {
     "name": "stdout",
     "output_type": "stream",
     "text": [
      "Epoch 44, Train Loss: 1.2092131105513355, Validation Loss: 1.008324214347123\n",
      "No improvement in validation loss. Patience counter: 4/20\n"
     ]
    },
    {
     "name": "stdout",
     "output_type": "stream",
     "text": [
      "Epoch 45, Train Loss: 1.2095608994981562, Validation Loss: 1.0057134933883163\n",
      "No improvement in validation loss. Patience counter: 5/20\n"
     ]
    },
    {
     "name": "stdout",
     "output_type": "stream",
     "text": [
      "Epoch 46, Train Loss: 1.206056494273911, Validation Loss: 1.0353112172354297\n",
      "No improvement in validation loss. Patience counter: 6/20\n"
     ]
    },
    {
     "name": "stdout",
     "output_type": "stream",
     "text": [
      "Epoch 47, Train Loss: 1.2054348402942707, Validation Loss: 1.0054406248373429\n",
      "No improvement in validation loss. Patience counter: 7/20\n"
     ]
    },
    {
     "name": "stdout",
     "output_type": "stream",
     "text": [
      "Epoch 48, Train Loss: 1.2067339380062743, Validation Loss: 1.0205513943875502\n",
      "No improvement in validation loss. Patience counter: 8/20\n"
     ]
    },
    {
     "name": "stdout",
     "output_type": "stream",
     "text": [
      "Epoch 49, Train Loss: 1.2035851911651803, Validation Loss: 1.004374480489547\n",
      "No improvement in validation loss. Patience counter: 9/20\n"
     ]
    },
    {
     "name": "stdout",
     "output_type": "stream",
     "text": [
      "Epoch 50, Train Loss: 1.2064384614849921, Validation Loss: 1.00931766432554\n",
      "No improvement in validation loss. Patience counter: 10/20\n"
     ]
    },
    {
     "name": "stdout",
     "output_type": "stream",
     "text": [
      "Epoch 51, Train Loss: 1.203446091195337, Validation Loss: 1.0049583712205064\n",
      "No improvement in validation loss. Patience counter: 11/20\n"
     ]
    },
    {
     "name": "stdout",
     "output_type": "stream",
     "text": [
      "Epoch 52, Train Loss: 1.2055950819277297, Validation Loss: 1.0152879200005895\n",
      "No improvement in validation loss. Patience counter: 12/20\n"
     ]
    },
    {
     "name": "stdout",
     "output_type": "stream",
     "text": [
      "Epoch 53, Train Loss: 1.2027785922836893, Validation Loss: 1.027993872686086\n",
      "No improvement in validation loss. Patience counter: 13/20\n"
     ]
    },
    {
     "name": "stdout",
     "output_type": "stream",
     "text": [
      "Epoch 54, Train Loss: 1.2049552324290889, Validation Loss: 1.0131211819382488\n",
      "No improvement in validation loss. Patience counter: 14/20\n"
     ]
    },
    {
     "name": "stdout",
     "output_type": "stream",
     "text": [
      "Epoch 55, Train Loss: 1.2038697710094368, Validation Loss: 1.0085805364066573\n",
      "No improvement in validation loss. Patience counter: 15/20\n"
     ]
    },
    {
     "name": "stdout",
     "output_type": "stream",
     "text": [
      "Epoch 56, Train Loss: 1.2043931353066222, Validation Loss: 1.0139761642756195\n",
      "No improvement in validation loss. Patience counter: 16/20\n"
     ]
    },
    {
     "name": "stdout",
     "output_type": "stream",
     "text": [
      "Epoch 57, Train Loss: 1.2038535274451594, Validation Loss: 1.0281367071994065\n",
      "No improvement in validation loss. Patience counter: 17/20\n"
     ]
    },
    {
     "name": "stdout",
     "output_type": "stream",
     "text": [
      "Epoch 58, Train Loss: 1.202944944691814, Validation Loss: 1.0217034928689754\n",
      "No improvement in validation loss. Patience counter: 18/20\n"
     ]
    },
    {
     "name": "stdout",
     "output_type": "stream",
     "text": [
      "Epoch 59, Train Loss: 1.2046498351756783, Validation Loss: 1.0069649146898143\n",
      "No improvement in validation loss. Patience counter: 19/20\n"
     ]
    },
    {
     "name": "stdout",
     "output_type": "stream",
     "text": [
      "Epoch 60, Train Loss: 1.2042654194343583, Validation Loss: 1.01704321718458\n",
      "No improvement in validation loss. Patience counter: 20/20\n",
      "Early stopping triggered. Stopping training at epoch 60.\n",
      "Loaded best model weights based on validation loss.\n"
     ]
    }
   ],
   "source": [
    "import copy  # 用于保存模型的最佳状态\n",
    "\n",
    "# Early Stopping 参数\n",
    "patience = 20  # 如果验证损失在 10 个 epoch 中没有改善，停止训练\n",
    "min_delta = 1e-4  # 最小改善幅度\n",
    "patience_counter = 0\n",
    "best_val_loss = float('inf')  # 初始设置为正无穷大\n",
    "best_model_weights = copy.deepcopy(estim.model.state_dict())  # 保存最佳模型权重\n",
    "train_losses = []\n",
    "val_losses = []\n",
    "\n",
    "# 训练 500 个 epoch\n",
    "for epoch in range(500):\n",
    "    train_loss, val_loss = train_epoch(estim.model, optimizer, loss_fn, train_loader, val_loader)\n",
    "    print(f'Epoch {epoch+1}, Train Loss: {train_loss}, Validation Loss: {val_loss}')\n",
    "    train_losses.append(train_loss)\n",
    "    val_losses.append(val_loss)\n",
    "    \n",
    "    # Early Stopping 检查\n",
    "    if val_loss < best_val_loss - min_delta:\n",
    "        best_val_loss = val_loss  # 更新最佳验证损失\n",
    "        patience_counter = 0  # 重置 patience 计数器\n",
    "        best_model_weights = copy.deepcopy(estim.model.state_dict())  # 保存当前最佳模型\n",
    "        print(f\"Validation loss improved to {best_val_loss}, resetting patience.\")\n",
    "    else:\n",
    "        patience_counter += 1\n",
    "        print(f\"No improvement in validation loss. Patience counter: {patience_counter}/{patience}\")\n",
    "    \n",
    "    # 如果 patience_counter 超过设置的 patience，停止训练\n",
    "    if patience_counter >= patience:\n",
    "        print(f\"Early stopping triggered. Stopping training at epoch {epoch+1}.\")\n",
    "        break\n",
    "\n",
    "# 恢复到训练中性能最好的模型权重\n",
    "estim.model.load_state_dict(best_model_weights)\n",
    "print(\"Loaded best model weights based on validation loss.\")"
   ]
  },
  {
   "cell_type": "code",
   "execution_count": 12,
   "metadata": {
    "execution": {
     "iopub.execute_input": "2024-11-03T15:32:35.397323Z",
     "iopub.status.busy": "2024-11-03T15:32:35.397006Z",
     "iopub.status.idle": "2024-11-03T15:32:35.535308Z",
     "shell.execute_reply": "2024-11-03T15:32:35.534502Z"
    }
   },
   "outputs": [],
   "source": [
    "import os\n",
    "\n",
    "# 定义保存路径\n",
    "save_dir = './imputed_xenium_best_model_ckpt'\n",
    "save_path = os.path.join(save_dir, f'GP_FT_Xenium_breast_cancer_sample1_replicate1_best_model_{random_seed}.ckpt')\n",
    "\n",
    "# 如果目录不存在，则创建\n",
    "if not os.path.exists(save_dir):\n",
    "    os.makedirs(save_dir)\n",
    "\n",
    "# 保存模型\n",
    "torch.save(best_model_weights, save_path)"
   ]
  },
  {
   "cell_type": "code",
   "execution_count": 13,
   "metadata": {
    "execution": {
     "iopub.execute_input": "2024-11-03T15:32:35.537265Z",
     "iopub.status.busy": "2024-11-03T15:32:35.536964Z",
     "iopub.status.idle": "2024-11-03T15:32:36.226113Z",
     "shell.execute_reply": "2024-11-03T15:32:36.225456Z"
    }
   },
   "outputs": [
    {
     "name": "stderr",
     "output_type": "stream",
     "text": [
      "The PostScript backend does not support transparency; partially transparent artists will be rendered opaque.\n"
     ]
    },
    {
     "data": {
      "image/png": "[encoded data removed]",
      "text/plain": [
       "<Figure size 1000x600 with 1 Axes>"
      ]
     },
     "metadata": {},
     "output_type": "display_data"
    }
   ],
   "source": [
    "import matplotlib.pyplot as plt  # 导入 matplotlib.pyplot，而不是 matplotlib\n",
    "\n",
    "plt.figure(figsize=(10, 6))\n",
    "plt.plot(train_losses, label='Training Loss')\n",
    "plt.plot(val_losses, label='Validation Loss')\n",
    "plt.xlabel('Epoch')\n",
    "plt.ylabel('Loss')\n",
    "plt.title('Training and Validation Loss over Epochs')\n",
    "plt.legend()\n",
    "plt.savefig(f'../loss_curve_fig/imputed_xenium_breast_cancer_gp_mask_finetune_full_loss_curve{random_seed}.png', dpi=400)  # 保存图像为png格式，400 dpi\n",
    "plt.savefig(f'../loss_curve_fig/imputed_xenium_breast_cancer_gp_mask_finetune_full_loss_curve{random_seed}.eps', format='eps', dpi=400)  # 保存图像为png格式，400 dpi\n",
    "\n",
    "plt.show()"
   ]
  },
  {
   "cell_type": "code",
   "execution_count": 14,
   "metadata": {
    "execution": {
     "iopub.execute_input": "2024-11-03T15:32:36.228311Z",
     "iopub.status.busy": "2024-11-03T15:32:36.227810Z",
     "iopub.status.idle": "2024-11-03T15:32:38.931719Z",
     "shell.execute_reply": "2024-11-03T15:32:38.931022Z"
    }
   },
   "outputs": [],
   "source": [
    "# 8. 使用 KNN 替代测试阶段的 FC 分类层\n",
    "# 使用 encoder 提取训练集和测试集的 embedding\n",
    "estim.model.eval()\n",
    "with torch.no_grad():\n",
    "    train_embeddings = estim.model.encoder(torch.tensor(X_train).float().to(device)).cpu().numpy()\n",
    "    test_embeddings = estim.model.encoder(torch.tensor(X_test).float().to(device)).cpu().numpy()"
   ]
  },
  {
   "cell_type": "code",
   "execution_count": 15,
   "metadata": {
    "execution": {
     "iopub.execute_input": "2024-11-03T15:32:38.934533Z",
     "iopub.status.busy": "2024-11-03T15:32:38.934229Z",
     "iopub.status.idle": "2024-11-03T15:32:39.779593Z",
     "shell.execute_reply": "2024-11-03T15:32:39.778809Z"
    }
   },
   "outputs": [
    {
     "name": "stdout",
     "output_type": "stream",
     "text": [
      "KNN Accuracy on Test Data: 0.6912226328128104\n",
      "Weighted F1 Score: 0.687748645565447\n",
      "Macro F1 Score: 0.5650912184276687\n",
      "Random Guess Accuracy: 0.1320247177116093\n",
      "                         precision    recall  f1-score   support\n",
      "\n",
      "                B_Cells       0.68      0.82      0.75       772\n",
      "           CD4+_T_Cells       0.46      0.53      0.49      1286\n",
      "           CD8+_T_Cells       0.50      0.53      0.52      1026\n",
      "                 DCIS_1       0.68      0.69      0.68      1937\n",
      "                 DCIS_2       0.55      0.52      0.54      1746\n",
      "            Endothelial       0.82      0.84      0.83      1348\n",
      "              IRF7+_DCs       0.88      0.76      0.81        74\n",
      "         Invasive_Tumor       0.78      0.83      0.80      5230\n",
      "             LAMP3+_DCs       0.54      0.51      0.53        49\n",
      "          Macrophages_1       0.67      0.70      0.68      1692\n",
      "          Macrophages_2       0.49      0.43      0.46       223\n",
      "             Mast_Cells       0.67      0.36      0.47        28\n",
      "          Myoepi_ACTA2+       0.72      0.72      0.72      1043\n",
      "          Myoepi_KRT15+       0.75      0.80      0.77       426\n",
      "      Perivascular-Like       0.39      0.18      0.25       125\n",
      "  Prolif_Invasive_Tumor       0.61      0.56      0.58       533\n",
      "                Stromal       0.75      0.72      0.74      6184\n",
      "Stromal_&_T_Cell_Hybrid       0.00      0.00      0.00        93\n",
      "  T_Cell_&_Tumor_Hybrid       0.37      0.13      0.19        87\n",
      "              Unlabeled       0.56      0.45      0.50      1265\n",
      "\n",
      "               accuracy                           0.69     25167\n",
      "              macro avg       0.59      0.55      0.57     25167\n",
      "           weighted avg       0.69      0.69      0.69     25167\n",
      "\n"
     ]
    }
   ],
   "source": [
    "import pandas as pd\n",
    "from sklearn.neighbors import KNeighborsClassifier\n",
    "from sklearn.metrics import accuracy_score, f1_score, classification_report\n",
    "\n",
    "    \n",
    "\n",
    "    # 初始化和训练KNN分类器\n",
    "knn = KNeighborsClassifier(n_neighbors=5)\n",
    "knn.fit(train_embeddings, y_train)\n",
    "    \n",
    "    # 模型预测\n",
    "predictions = knn.predict(test_embeddings)\n",
    "\n",
    "    # 计算准确率和 F1 分数\n",
    "accuracy = accuracy_score(y_test, predictions)\n",
    "print(f\"KNN Accuracy on Test Data: {accuracy}\")\n",
    "f1 = f1_score(y_test, predictions, average='weighted')\n",
    "print(f\"Weighted F1 Score: {f1}\")\n",
    "    \n",
    "macro_f1 = f1_score(y_test, predictions, average='macro')\n",
    "print(f'Macro F1 Score: {macro_f1}')\n",
    "\n",
    "    # 计算随机猜测的准确率\n",
    "class_probabilities = np.bincount(y_test) / len(y_test)\n",
    "random_accuracy = np.sum(class_probabilities ** 2)\n",
    "print(f\"Random Guess Accuracy: {random_accuracy}\")\n",
    "\n",
    "    # 生成分类报告\n",
    "report = classification_report(y_test, predictions, target_names=label_encoder.classes_)\n",
    "print(report)"
   ]
  },
  {
   "cell_type": "code",
   "execution_count": 16,
   "metadata": {
    "execution": {
     "iopub.execute_input": "2024-11-03T15:32:39.781801Z",
     "iopub.status.busy": "2024-11-03T15:32:39.781446Z",
     "iopub.status.idle": "2024-11-03T15:32:57.851786Z",
     "shell.execute_reply": "2024-11-03T15:32:57.850850Z"
    }
   },
   "outputs": [],
   "source": [
    "with torch.no_grad():\n",
    "    new_data_tensor = torch.tensor(new_data).float().to(device)\n",
    "    SSL_embeddings = estim.model.encoder(new_data_tensor).detach().cpu().numpy()\n",
    "new_adata = sc.read_h5ad(data_dir)\n",
    "new_adata.obsm[f'SSL_GP_FT_{random_seed}'] = SSL_embeddings\n",
    "new_adata.uns[f'GP_FT_y_test_{random_seed}'] = y_test\n",
    "new_adata.uns[f'GP_FT_predictions_{random_seed}'] = predictions\n",
    "new_adata.uns[f'GP_FT_target_names_{random_seed}'] = label_encoder.classes_\n",
    "new_adata.uns[f'GP_FT_train_loss_{random_seed}'] = train_losses\n",
    "new_adata.uns[f'GP_FT_val_loss_{random_seed}'] = val_losses\n",
    "new_adata.write_h5ad(data_dir)"
   ]
  },
  {
   "cell_type": "code",
   "execution_count": 17,
   "metadata": {
    "execution": {
     "iopub.execute_input": "2024-11-03T15:32:57.854798Z",
     "iopub.status.busy": "2024-11-03T15:32:57.854466Z",
     "iopub.status.idle": "2024-11-03T15:32:57.866353Z",
     "shell.execute_reply": "2024-11-03T15:32:57.865543Z"
    }
   },
   "outputs": [
    {
     "name": "stdout",
     "output_type": "stream",
     "text": [
      "Metrics Summary:\n",
      "init_train_loss\tinit_val_loss\tconverged_epoch\tconverged_val_loss\tmacro_f1\tweighted_f1\tmicor_f1\n",
      "1.455\t1.103\t40\t1.003\t0.565\t0.688\t0.691\n"
     ]
    }
   ],
   "source": [
    "\n",
    "import pandas as pd\n",
    "import os\n",
    "import re\n",
    "\n",
    "# 当前 Notebook 文件名\n",
    "notebook_name = \"imputed_Xenium_breast_cancer_sample1_replicate1_GP_mask_fine_tune_42.ipynb\"\n",
    "\n",
    "# 初始化需要打印的值\n",
    "init_train_loss = train_losses[0] if 'train_losses' in globals() else None\n",
    "init_val_loss = val_losses[0] if 'val_losses' in globals() else None\n",
    "converged_epoch = len(train_losses) - patience if 'train_losses' in globals() else None\n",
    "converged_val_loss = best_val_loss if 'best_val_loss' in globals() else None\n",
    "\n",
    "# 打印所有所需的指标\n",
    "print(\"Metrics Summary:\")\n",
    "if 'train_losses' in globals():\n",
    "    print(f\"init_train_loss\\tinit_val_loss\\tconverged_epoch\\tconverged_val_loss\\tmacro_f1\\tweighted_f1\\tmicor_f1\")\n",
    "    print(f\"{init_train_loss:.3f}\\t{init_val_loss:.3f}\\t{converged_epoch}\\t{converged_val_loss:.3f}\\t{macro_f1:.3f}\\t{f1:.3f}\\t{accuracy:.3f}\")\n",
    "else:\n",
    "    print(f\"macro_f1\\tweighted_f1\\tmicor_f1\")\n",
    "    print(f\"{macro_f1:.3f}\\t{f1:.3f}\\t{accuracy:.3f}\")\n",
    "\n",
    "# 保存结果到 CSV 文件\n",
    "output_data = {\n",
    "    'dataset_split_random_seed': [int(random_seed)],\n",
    "    'dataset': ['imputed_xenium_breast_cancer_sample1_replicate1'],\n",
    "    'method': [re.search(r'replicate1_(.*?)_\\d+', notebook_name).group(1)],\n",
    "    'init_train_loss': [init_train_loss if init_train_loss is not None else ''],\n",
    "    'init_val_loss': [init_val_loss if init_val_loss is not None else ''],\n",
    "    'converged_epoch': [converged_epoch if converged_epoch is not None else ''],\n",
    "    'converged_val_loss': [converged_val_loss if converged_val_loss is not None else ''],\n",
    "    'macro_f1': [macro_f1],\n",
    "    'weighted_f1': [f1],\n",
    "    'micor_f1': [accuracy]\n",
    "}\n",
    "output_df = pd.DataFrame(output_data)\n",
    "\n",
    "# 保存到当前目录下名为 results 的文件夹中\n",
    "if not os.path.exists('results'):\n",
    "    os.makedirs('results')\n",
    "\n",
    "csv_filename = f\"results/{os.path.splitext(notebook_name)[0]}_results.csv\"\n",
    "output_df.to_csv(csv_filename, index=False)\n"
   ]
  }
 ],
 "metadata": {
  "kernelspec": {
   "display_name": "ssl",
   "language": "python",
   "name": "python3"
  },
  "language_info": {
   "codemirror_mode": {
    "name": "ipython",
    "version": 3
   },
   "file_extension": ".py",
   "mimetype": "text/x-python",
   "name": "python",
   "nbconvert_exporter": "python",
   "pygments_lexer": "ipython3",
   "version": "3.10.13"
  }
 },
 "nbformat": 4,
 "nbformat_minor": 2
}
