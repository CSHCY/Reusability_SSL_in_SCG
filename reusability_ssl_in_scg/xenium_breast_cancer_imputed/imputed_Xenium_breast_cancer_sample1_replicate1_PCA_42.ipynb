{
 "cells": [
  {
   "cell_type": "code",
   "execution_count": 1,
   "metadata": {
    "execution": {
     "iopub.execute_input": "2024-11-03T14:49:39.817925Z",
     "iopub.status.busy": "2024-11-03T14:49:39.817541Z",
     "iopub.status.idle": "2024-11-03T14:49:54.948043Z",
     "shell.execute_reply": "2024-11-03T14:49:54.946470Z"
    }
   },
   "outputs": [],
   "source": [
    "import scanpy as sc\n",
    "data_dir = '../../dataset/ad_ge_imputed_Xenium_breast_cancer_sample1_replicate1.h5ad'\n",
    "adata = sc.read_h5ad(data_dir)\n",
    "sc.pp.normalize_total(adata)\n",
    "sc.pp.log1p(adata)"
   ]
  },
  {
   "cell_type": "code",
   "execution_count": 2,
   "metadata": {
    "execution": {
     "iopub.execute_input": "2024-11-03T14:49:54.951925Z",
     "iopub.status.busy": "2024-11-03T14:49:54.950995Z",
     "iopub.status.idle": "2024-11-03T14:49:55.017608Z",
     "shell.execute_reply": "2024-11-03T14:49:55.016926Z"
    }
   },
   "outputs": [
    {
     "data": {
      "text/html": [
       "<div>\n",
       "<style scoped>\n",
       "    .dataframe tbody tr th:only-of-type {\n",
       "        vertical-align: middle;\n",
       "    }\n",
       "\n",
       "    .dataframe tbody tr th {\n",
       "        vertical-align: top;\n",
       "    }\n",
       "\n",
       "    .dataframe thead th {\n",
       "        text-align: right;\n",
       "    }\n",
       "</style>\n",
       "<table border=\"1\" class=\"dataframe\">\n",
       "  <thead>\n",
       "    <tr style=\"text-align: right;\">\n",
       "      <th></th>\n",
       "      <th>feature_id</th>\n",
       "      <th>feature_name</th>\n",
       "    </tr>\n",
       "  </thead>\n",
       "  <tbody>\n",
       "    <tr>\n",
       "      <th>0</th>\n",
       "      <td>ENSG00000186092</td>\n",
       "      <td>OR4F5</td>\n",
       "    </tr>\n",
       "    <tr>\n",
       "      <th>1</th>\n",
       "      <td>ENSG00000284733</td>\n",
       "      <td>OR4F29</td>\n",
       "    </tr>\n",
       "    <tr>\n",
       "      <th>2</th>\n",
       "      <td>ENSG00000284662</td>\n",
       "      <td>OR4F16</td>\n",
       "    </tr>\n",
       "    <tr>\n",
       "      <th>3</th>\n",
       "      <td>ENSG00000187634</td>\n",
       "      <td>SAMD11</td>\n",
       "    </tr>\n",
       "    <tr>\n",
       "      <th>4</th>\n",
       "      <td>ENSG00000188976</td>\n",
       "      <td>NOC2L</td>\n",
       "    </tr>\n",
       "    <tr>\n",
       "      <th>...</th>\n",
       "      <td>...</td>\n",
       "      <td>...</td>\n",
       "    </tr>\n",
       "    <tr>\n",
       "      <th>19326</th>\n",
       "      <td>ENSG00000288702</td>\n",
       "      <td>UGT1A3</td>\n",
       "    </tr>\n",
       "    <tr>\n",
       "      <th>19327</th>\n",
       "      <td>ENSG00000288705</td>\n",
       "      <td>UGT1A5</td>\n",
       "    </tr>\n",
       "    <tr>\n",
       "      <th>19328</th>\n",
       "      <td>ENSG00000182484</td>\n",
       "      <td>WASH6P</td>\n",
       "    </tr>\n",
       "    <tr>\n",
       "      <th>19329</th>\n",
       "      <td>ENSG00000288622</td>\n",
       "      <td>PDCD6-AHRR</td>\n",
       "    </tr>\n",
       "    <tr>\n",
       "      <th>19330</th>\n",
       "      <td>ENSG00000285815</td>\n",
       "      <td>GET1-SH3BGR</td>\n",
       "    </tr>\n",
       "  </tbody>\n",
       "</table>\n",
       "<p>19331 rows × 2 columns</p>\n",
       "</div>"
      ],
      "text/plain": [
       "            feature_id feature_name\n",
       "0      ENSG00000186092        OR4F5\n",
       "1      ENSG00000284733       OR4F29\n",
       "2      ENSG00000284662       OR4F16\n",
       "3      ENSG00000187634       SAMD11\n",
       "4      ENSG00000188976        NOC2L\n",
       "...                ...          ...\n",
       "19326  ENSG00000288702       UGT1A3\n",
       "19327  ENSG00000288705       UGT1A5\n",
       "19328  ENSG00000182484       WASH6P\n",
       "19329  ENSG00000288622   PDCD6-AHRR\n",
       "19330  ENSG00000285815  GET1-SH3BGR\n",
       "\n",
       "[19331 rows x 2 columns]"
      ]
     },
     "execution_count": 2,
     "metadata": {},
     "output_type": "execute_result"
    }
   ],
   "source": [
    "import pandas as pd\n",
    "var_df = pd.read_parquet('../../sc_pretrained/var.parquet')\n",
    "var_df"
   ]
  },
  {
   "cell_type": "code",
   "execution_count": 3,
   "metadata": {
    "execution": {
     "iopub.execute_input": "2024-11-03T14:49:55.047982Z",
     "iopub.status.busy": "2024-11-03T14:49:55.047275Z",
     "iopub.status.idle": "2024-11-03T14:49:55.059360Z",
     "shell.execute_reply": "2024-11-03T14:49:55.058699Z"
    }
   },
   "outputs": [
    {
     "data": {
      "text/plain": [
       "['OR4F5',\n",
       " 'OR4F29',\n",
       " 'OR4F16',\n",
       " 'SAMD11',\n",
       " 'NOC2L',\n",
       " 'KLHL17',\n",
       " 'PLEKHN1',\n",
       " 'PERM1',\n",
       " 'HES4',\n",
       " 'ISG15',\n",
       " 'AGRN',\n",
       " 'RNF223',\n",
       " 'C1orf159',\n",
       " 'TTLL10',\n",
       " 'TNFRSF18',\n",
       " 'TNFRSF4',\n",
       " 'SDF4',\n",
       " 'B3GALT6',\n",
       " 'C1QTNF12',\n",
       " 'UBE2J2',\n",
       " 'SCNN1D',\n",
       " 'ACAP3',\n",
       " 'PUSL1',\n",
       " 'INTS11',\n",
       " 'CPTP',\n",
       " 'TAS1R3',\n",
       " 'DVL1',\n",
       " 'MXRA8',\n",
       " 'AURKAIP1',\n",
       " 'CCNL2',\n",
       " 'MRPL20',\n",
       " 'ANKRD65',\n",
       " 'TMEM88B',\n",
       " 'VWA1',\n",
       " 'ATAD3C',\n",
       " 'ATAD3B',\n",
       " 'ATAD3A',\n",
       " 'TMEM240',\n",
       " 'SSU72',\n",
       " 'FNDC10',\n",
       " 'MIB2',\n",
       " 'MMP23B',\n",
       " 'CDK11B',\n",
       " 'SLC35E2B',\n",
       " 'CDK11A',\n",
       " 'NADK',\n",
       " 'GNB1',\n",
       " 'CALML6',\n",
       " 'TMEM52',\n",
       " 'CFAP74',\n",
       " 'GABRD',\n",
       " 'PRKCZ',\n",
       " 'FAAP20',\n",
       " 'SKI',\n",
       " 'MORN1',\n",
       " 'RER1',\n",
       " 'PEX10',\n",
       " 'PLCH2',\n",
       " 'PANK4',\n",
       " 'HES5',\n",
       " 'TNFRSF14',\n",
       " 'PRXL2B',\n",
       " 'MMEL1',\n",
       " 'TTC34',\n",
       " 'ACTRT2',\n",
       " 'PRDM16',\n",
       " 'ARHGEF16',\n",
       " 'MEGF6',\n",
       " 'TPRG1L',\n",
       " 'WRAP73',\n",
       " 'TP73',\n",
       " 'CCDC27',\n",
       " 'SMIM1',\n",
       " 'LRRC47',\n",
       " 'CEP104',\n",
       " 'DFFB',\n",
       " 'C1orf174',\n",
       " 'AJAP1',\n",
       " 'NPHP4',\n",
       " 'KCNAB2',\n",
       " 'CHD5',\n",
       " 'RPL22',\n",
       " 'RNF207',\n",
       " 'ICMT',\n",
       " 'HES3',\n",
       " 'GPR153',\n",
       " 'ACOT7',\n",
       " 'HES2',\n",
       " 'ESPN',\n",
       " 'TNFRSF25',\n",
       " 'PLEKHG5',\n",
       " 'NOL9',\n",
       " 'TAS1R1',\n",
       " 'ZBTB48',\n",
       " 'KLHL21',\n",
       " 'PHF13',\n",
       " 'THAP3',\n",
       " 'DNAJC11',\n",
       " 'CAMTA1',\n",
       " 'VAMP3',\n",
       " 'PER3',\n",
       " 'UTS2',\n",
       " 'TNFRSF9',\n",
       " 'PARK7',\n",
       " 'ERRFI1',\n",
       " 'SLC45A1',\n",
       " 'RERE',\n",
       " 'ENO1',\n",
       " 'CA6',\n",
       " 'SLC2A7',\n",
       " 'SLC2A5',\n",
       " 'GPR157',\n",
       " 'H6PD',\n",
       " 'SPSB1',\n",
       " 'SLC25A33',\n",
       " 'TMEM201',\n",
       " 'PIK3CD',\n",
       " 'CLSTN1',\n",
       " 'CTNNBIP1',\n",
       " 'LZIC',\n",
       " 'NMNAT1',\n",
       " 'RBP7',\n",
       " 'UBE4B',\n",
       " 'KIF1B',\n",
       " 'PGD',\n",
       " 'CENPS',\n",
       " 'CORT',\n",
       " 'DFFA',\n",
       " 'PEX14',\n",
       " 'CASZ1',\n",
       " 'C1orf127',\n",
       " 'TARDBP',\n",
       " 'MASP2',\n",
       " 'SRM',\n",
       " 'EXOSC10',\n",
       " 'MTOR',\n",
       " 'ANGPTL7',\n",
       " 'UBIAD1',\n",
       " 'DISP3',\n",
       " 'FBXO2',\n",
       " 'FBXO44',\n",
       " 'FBXO6',\n",
       " 'MAD2L2',\n",
       " 'DRAXIN',\n",
       " 'AGTRAP',\n",
       " 'C1orf167',\n",
       " 'MTHFR',\n",
       " 'CLCN6',\n",
       " 'NPPA',\n",
       " 'NPPB',\n",
       " 'KIAA2013',\n",
       " 'PLOD1',\n",
       " 'MFN2',\n",
       " 'MIIP',\n",
       " 'TNFRSF8',\n",
       " 'TNFRSF1B',\n",
       " 'VPS13D',\n",
       " 'DHRS3',\n",
       " 'AADACL4',\n",
       " 'AADACL3',\n",
       " 'C1orf158',\n",
       " 'PRAMEF12',\n",
       " 'PRAMEF1',\n",
       " 'PRAMEF11',\n",
       " 'HNRNPCL1',\n",
       " 'PRAMEF2',\n",
       " 'PRAMEF4',\n",
       " 'PRAMEF10',\n",
       " 'PRAMEF7',\n",
       " 'PRAMEF6',\n",
       " 'PRAMEF27',\n",
       " 'HNRNPCL3',\n",
       " 'PRAMEF25',\n",
       " 'HNRNPCL2',\n",
       " 'PRAMEF26',\n",
       " 'HNRNPCL4',\n",
       " 'PRAMEF9',\n",
       " 'PRAMEF13',\n",
       " 'PRAMEF18',\n",
       " 'PRAMEF5',\n",
       " 'PRAMEF8',\n",
       " 'PRAMEF33',\n",
       " 'PRAMEF15',\n",
       " 'PRAMEF14',\n",
       " 'PRAMEF19',\n",
       " 'PRAMEF17',\n",
       " 'PRAMEF20',\n",
       " 'LRRC38',\n",
       " 'PDPN',\n",
       " 'PRDM2',\n",
       " 'KAZN',\n",
       " 'TMEM51',\n",
       " 'FHAD1',\n",
       " 'EFHD2',\n",
       " 'CTRC',\n",
       " 'CELA2A',\n",
       " 'CELA2B',\n",
       " 'CASP9',\n",
       " 'DNAJC16',\n",
       " 'AGMAT',\n",
       " 'DDI2',\n",
       " 'RSC1A1',\n",
       " 'PLEKHM2',\n",
       " 'SLC25A34',\n",
       " 'TMEM82',\n",
       " 'FBLIM1',\n",
       " 'UQCRHL',\n",
       " 'SPEN',\n",
       " 'ZBTB17',\n",
       " 'SRARP',\n",
       " 'HSPB7',\n",
       " 'CLCNKA',\n",
       " 'CLCNKB',\n",
       " 'FAM131C',\n",
       " 'EPHA2',\n",
       " 'ARHGEF19',\n",
       " 'CPLANE2',\n",
       " 'FBXO42',\n",
       " 'SZRD1',\n",
       " 'SPATA21',\n",
       " 'NECAP2',\n",
       " 'NBPF1',\n",
       " 'CROCC',\n",
       " 'MFAP2',\n",
       " 'ATP13A2',\n",
       " 'SDHB',\n",
       " 'PADI2',\n",
       " 'PADI1',\n",
       " 'PADI3',\n",
       " 'PADI4',\n",
       " 'PADI6',\n",
       " 'RCC2',\n",
       " 'ARHGEF10L',\n",
       " 'ACTL8',\n",
       " 'IGSF21',\n",
       " 'KLHDC7A',\n",
       " 'PAX7',\n",
       " 'TAS1R2',\n",
       " 'ALDH4A1',\n",
       " 'IFFO2',\n",
       " 'UBR4',\n",
       " 'EMC1',\n",
       " 'MRTO4',\n",
       " 'AKR7A3',\n",
       " 'AKR7A2',\n",
       " 'SLC66A1',\n",
       " 'CAPZB',\n",
       " 'MICOS10',\n",
       " 'NBL1',\n",
       " 'HTR6',\n",
       " 'TMCO4',\n",
       " 'RNF186',\n",
       " 'OTUD3',\n",
       " 'PLA2G2E',\n",
       " 'PLA2G2A',\n",
       " 'PLA2G5',\n",
       " 'PLA2G2D',\n",
       " 'PLA2G2F',\n",
       " 'PLA2G2C',\n",
       " 'UBXN10',\n",
       " 'VWA5B1',\n",
       " 'CAMK2N1',\n",
       " 'MUL1',\n",
       " 'FAM43B',\n",
       " 'CDA',\n",
       " 'PINK1',\n",
       " 'DDOST',\n",
       " 'KIF17',\n",
       " 'SH2D5',\n",
       " 'HP1BP3',\n",
       " 'EIF4G3',\n",
       " 'ECE1',\n",
       " 'NBPF3',\n",
       " 'ALPL',\n",
       " 'RAP1GAP',\n",
       " 'USP48',\n",
       " 'LDLRAD2',\n",
       " 'HSPG2',\n",
       " 'CELA3B',\n",
       " 'CELA3A',\n",
       " 'CDC42',\n",
       " 'WNT4',\n",
       " 'ZBTB40',\n",
       " 'EPHA8',\n",
       " 'C1QA',\n",
       " 'C1QC',\n",
       " 'C1QB',\n",
       " 'EPHB2',\n",
       " 'LACTBL1',\n",
       " 'TEX46',\n",
       " 'KDM1A',\n",
       " 'LUZP1',\n",
       " 'HTR1D',\n",
       " 'HNRNPR',\n",
       " 'ZNF436',\n",
       " 'TCEA3',\n",
       " 'ASAP3',\n",
       " 'E2F2',\n",
       " 'ID3',\n",
       " 'RPL11',\n",
       " 'ELOA',\n",
       " 'PITHD1',\n",
       " 'LYPLA2',\n",
       " 'GALE',\n",
       " 'HMGCL',\n",
       " 'FUCA1',\n",
       " 'CNR2',\n",
       " 'PNRC2',\n",
       " 'SRSF10',\n",
       " 'MYOM3',\n",
       " 'IL22RA1',\n",
       " 'IFNLR1',\n",
       " 'GRHL3',\n",
       " 'STPG1',\n",
       " 'NIPAL3',\n",
       " 'RCAN3',\n",
       " 'NCMAP',\n",
       " 'SRRM1',\n",
       " 'CLIC4',\n",
       " 'RUNX3',\n",
       " 'SYF2',\n",
       " 'RSRP1',\n",
       " 'RHD',\n",
       " 'TMEM50A',\n",
       " 'RHCE',\n",
       " 'MACO1',\n",
       " 'LDLRAP1',\n",
       " 'MAN1C1',\n",
       " 'SELENON',\n",
       " 'MTFR1L',\n",
       " 'AUNIP',\n",
       " 'PAQR7',\n",
       " 'STMN1',\n",
       " 'PAFAH2',\n",
       " 'EXTL1',\n",
       " 'SLC30A2',\n",
       " 'TRIM63',\n",
       " 'PDIK1L',\n",
       " 'FAM110D',\n",
       " 'C1orf232',\n",
       " 'ZNF593OS',\n",
       " 'ZNF593',\n",
       " 'CNKSR1',\n",
       " 'CATSPER4',\n",
       " 'CEP85',\n",
       " 'SH3BGRL3',\n",
       " 'UBXN11',\n",
       " 'CD52',\n",
       " 'CRYBG2',\n",
       " 'ZNF683',\n",
       " 'LIN28A',\n",
       " 'DHDDS',\n",
       " 'HMGN2',\n",
       " 'RPS6KA1',\n",
       " 'ARID1A',\n",
       " 'PIGV',\n",
       " 'ZDHHC18',\n",
       " 'SFN',\n",
       " 'GPN2',\n",
       " 'GPATCH3',\n",
       " 'NUDC',\n",
       " 'NR0B2',\n",
       " 'KDF1',\n",
       " 'TRNP1',\n",
       " 'TENT5B',\n",
       " 'SLC9A1',\n",
       " 'WDTC1',\n",
       " 'TMEM222',\n",
       " 'SYTL1',\n",
       " 'MAP3K6',\n",
       " 'FCN3',\n",
       " 'CD164L2',\n",
       " 'GPR3',\n",
       " 'WASF2',\n",
       " 'AHDC1',\n",
       " 'FGR',\n",
       " 'IFI6',\n",
       " 'FAM76A',\n",
       " 'STX12',\n",
       " 'PPP1R8',\n",
       " 'THEMIS2',\n",
       " 'RPA2',\n",
       " 'SMPDL3B',\n",
       " 'XKR8',\n",
       " 'EYA3',\n",
       " 'PTAFR',\n",
       " 'DNAJC8',\n",
       " 'ATP5IF1',\n",
       " 'SESN2',\n",
       " 'MED18',\n",
       " 'PHACTR4',\n",
       " 'RCC1',\n",
       " 'TRNAU1AP',\n",
       " 'TAF12',\n",
       " 'RAB42',\n",
       " 'GMEB1',\n",
       " 'YTHDF2',\n",
       " 'OPRD1',\n",
       " 'EPB41',\n",
       " 'TMEM200B',\n",
       " 'SRSF4',\n",
       " 'MECR',\n",
       " 'PTPRU',\n",
       " 'MATN1',\n",
       " 'LAPTM5',\n",
       " 'SDC3',\n",
       " 'PUM1',\n",
       " 'NKAIN1',\n",
       " 'SNRNP40',\n",
       " 'ZCCHC17',\n",
       " 'FABP3',\n",
       " 'SERINC2',\n",
       " 'TINAGL1',\n",
       " 'HCRTR1',\n",
       " 'PEF1',\n",
       " 'COL16A1',\n",
       " 'ADGRB2',\n",
       " 'SPOCD1',\n",
       " 'PTP4A2',\n",
       " 'KHDRBS1',\n",
       " 'TMEM39B',\n",
       " 'KPNA6',\n",
       " 'TXLNA',\n",
       " 'CCDC28B',\n",
       " 'IQCC',\n",
       " 'DCDC2B',\n",
       " 'TMEM234',\n",
       " 'EIF3I',\n",
       " 'FAM167B',\n",
       " 'LCK',\n",
       " 'HDAC1',\n",
       " 'MARCKSL1',\n",
       " 'TSSK3',\n",
       " 'FAM229A',\n",
       " 'BSDC1',\n",
       " 'ZBTB8B',\n",
       " 'ZBTB8A',\n",
       " 'ZBTB8OS',\n",
       " 'RBBP4',\n",
       " 'SYNC',\n",
       " 'KIAA1522',\n",
       " 'YARS1',\n",
       " 'S100PBP',\n",
       " 'FNDC5',\n",
       " 'HPCA',\n",
       " 'TMEM54',\n",
       " 'RNF19B',\n",
       " 'AK2',\n",
       " 'AZIN2',\n",
       " 'TRIM62',\n",
       " 'ZNF362',\n",
       " 'A3GALT2',\n",
       " 'PHC2',\n",
       " 'ZSCAN20',\n",
       " 'CSMD2',\n",
       " 'HMGB4',\n",
       " 'C1orf94',\n",
       " 'SMIM12',\n",
       " 'GJB5',\n",
       " 'GJB4',\n",
       " 'GJB3',\n",
       " 'GJA4',\n",
       " 'DLGAP3',\n",
       " 'TMEM35B',\n",
       " 'ZMYM6',\n",
       " 'ZMYM1',\n",
       " 'SFPQ',\n",
       " 'ZMYM4',\n",
       " 'KIAA0319L',\n",
       " 'NCDN',\n",
       " 'TFAP2E',\n",
       " 'PSMB2',\n",
       " 'C1orf216',\n",
       " 'CLSPN',\n",
       " 'AGO4',\n",
       " 'AGO1',\n",
       " 'AGO3',\n",
       " 'TEKT2',\n",
       " 'ADPRS',\n",
       " 'COL8A2',\n",
       " 'TRAPPC3',\n",
       " 'MAP7D1',\n",
       " 'THRAP3',\n",
       " 'SH3D21',\n",
       " 'EVA1B',\n",
       " 'STK40',\n",
       " 'LSM10',\n",
       " 'OSCP1',\n",
       " 'MRPS15',\n",
       " 'CSF3R',\n",
       " 'GRIK3',\n",
       " 'ZC3H12A',\n",
       " 'MEAF6',\n",
       " 'SNIP1',\n",
       " 'DNALI1',\n",
       " 'GNL2',\n",
       " 'RSPO1',\n",
       " 'C1orf109',\n",
       " 'CDCA8',\n",
       " 'EPHA10',\n",
       " 'MANEAL',\n",
       " 'YRDC',\n",
       " 'C1orf122',\n",
       " 'MTF1',\n",
       " 'INPP5B',\n",
       " 'SF3A3',\n",
       " 'FHL3',\n",
       " 'UTP11',\n",
       " 'POU3F1',\n",
       " 'RRAGC',\n",
       " 'MYCBP',\n",
       " 'GJA9',\n",
       " 'RHBDL2',\n",
       " 'AKIRIN1',\n",
       " 'NDUFS5',\n",
       " 'MACF1',\n",
       " 'BMP8A',\n",
       " 'PABPC4',\n",
       " 'HEYL',\n",
       " 'NT5C1A',\n",
       " 'HPCAL4',\n",
       " 'PPIE',\n",
       " 'BMP8B',\n",
       " 'OXCT2',\n",
       " 'TRIT1',\n",
       " 'MYCL',\n",
       " 'MFSD2A',\n",
       " 'CAP1',\n",
       " 'PPT1',\n",
       " 'RLF',\n",
       " 'TMCO2',\n",
       " 'ZMPSTE24',\n",
       " 'COL9A2',\n",
       " 'SMAP2',\n",
       " 'ZFP69B',\n",
       " 'ZFP69',\n",
       " 'EXO5',\n",
       " 'ZNF684',\n",
       " 'RIMS3',\n",
       " 'NFYC',\n",
       " 'KCNQ4',\n",
       " 'CITED4',\n",
       " 'CTPS1',\n",
       " 'SLFNL1',\n",
       " 'SCMH1',\n",
       " 'FOXO6',\n",
       " 'EDN2',\n",
       " 'HIVEP3',\n",
       " 'GUCA2B',\n",
       " 'GUCA2A',\n",
       " 'FOXJ3',\n",
       " 'RIMKLA',\n",
       " 'ZMYND12',\n",
       " 'PPCS',\n",
       " 'CCDC30',\n",
       " 'PPIH',\n",
       " 'YBX1',\n",
       " 'CLDN19',\n",
       " 'P3H1',\n",
       " 'C1orf50',\n",
       " 'TMEM269',\n",
       " 'SVBP',\n",
       " 'ERMAP',\n",
       " 'ZNF691',\n",
       " 'SLC2A1',\n",
       " 'FAM183A',\n",
       " 'EBNA1BP2',\n",
       " 'CFAP57',\n",
       " 'TMEM125',\n",
       " 'C1orf210',\n",
       " 'TIE1',\n",
       " 'MPL',\n",
       " 'CDC20',\n",
       " 'ELOVL1',\n",
       " 'MED8',\n",
       " 'SZT2',\n",
       " 'HYI',\n",
       " 'PTPRF',\n",
       " 'KDM4A',\n",
       " 'ST3GAL3',\n",
       " 'ARTN',\n",
       " 'IPO13',\n",
       " 'DPH2',\n",
       " 'ATP6V0B',\n",
       " 'B4GALT2',\n",
       " 'CCDC24',\n",
       " 'SLC6A9',\n",
       " 'KLF17',\n",
       " 'KLF18',\n",
       " 'DMAP1',\n",
       " 'ERI3',\n",
       " 'RNF220',\n",
       " 'TMEM53',\n",
       " 'ARMH1',\n",
       " 'KIF2C',\n",
       " 'RPS8',\n",
       " 'BEST4',\n",
       " 'PLK3',\n",
       " 'DYNLT4',\n",
       " 'BTBD19',\n",
       " 'PTCH2',\n",
       " 'EIF2B3',\n",
       " 'HECTD3',\n",
       " 'UROD',\n",
       " 'ZSWIM5',\n",
       " 'HPDL',\n",
       " 'MUTYH',\n",
       " 'TOE1',\n",
       " 'TESK2',\n",
       " 'CCDC163',\n",
       " 'MMACHC',\n",
       " 'PRDX1',\n",
       " 'AKR1A1',\n",
       " 'NASP',\n",
       " 'CCDC17',\n",
       " 'GPBP1L1',\n",
       " 'TMEM69',\n",
       " 'IPP',\n",
       " 'MAST2',\n",
       " 'PIK3R3',\n",
       " 'TSPAN1',\n",
       " 'P3R3URF',\n",
       " 'POMGNT1',\n",
       " 'LURAP1',\n",
       " 'RAD54L',\n",
       " 'LRRC41',\n",
       " 'UQCRH',\n",
       " 'NSUN4',\n",
       " 'FAAH',\n",
       " 'DMBX1',\n",
       " 'TMEM275',\n",
       " 'KNCN',\n",
       " 'MKNK1',\n",
       " 'MOB3C',\n",
       " 'ATPAF1',\n",
       " 'TEX38',\n",
       " 'EFCAB14',\n",
       " 'CYP4B1',\n",
       " 'CYP4A11',\n",
       " 'CYP4X1',\n",
       " 'CYP4Z1',\n",
       " 'CYP4A22',\n",
       " 'PDZK1IP1',\n",
       " 'TAL1',\n",
       " 'STIL',\n",
       " 'CMPK1',\n",
       " 'FOXE3',\n",
       " 'FOXD2',\n",
       " 'TRABD2B',\n",
       " 'SLC5A9',\n",
       " 'SPATA6',\n",
       " 'AGBL4',\n",
       " 'BEND5',\n",
       " 'ELAVL4',\n",
       " 'DMRTA2',\n",
       " 'FAF1',\n",
       " 'CDKN2C',\n",
       " 'C1orf185',\n",
       " 'RNF11',\n",
       " 'TTC39A',\n",
       " 'EPS15',\n",
       " 'OSBPL9',\n",
       " 'NRDC',\n",
       " 'RAB3B',\n",
       " 'TXNDC12',\n",
       " 'KTI12',\n",
       " 'BTF3L4',\n",
       " 'ZFYVE9',\n",
       " 'CC2D1B',\n",
       " 'ORC1',\n",
       " 'PRPF38A',\n",
       " 'TUT4',\n",
       " 'GPX7',\n",
       " 'SHISAL2A',\n",
       " 'COA7',\n",
       " 'ZYG11B',\n",
       " 'ZYG11A',\n",
       " 'ECHDC2',\n",
       " 'SCP2',\n",
       " 'PODN',\n",
       " 'SLC1A7',\n",
       " 'CPT2',\n",
       " 'CZIB',\n",
       " 'MAGOH',\n",
       " 'LRP8',\n",
       " 'DMRTB1',\n",
       " 'GLIS1',\n",
       " 'NDC1',\n",
       " 'YIPF1',\n",
       " 'DIO1',\n",
       " 'HSPB11',\n",
       " 'LRRC42',\n",
       " 'LDLRAD1',\n",
       " 'TMEM59',\n",
       " 'TCEANC2',\n",
       " 'CDCP2',\n",
       " 'CYB5RL',\n",
       " 'MRPL37',\n",
       " 'SSBP3',\n",
       " 'ACOT11',\n",
       " 'FAM151A',\n",
       " 'MROH7',\n",
       " 'TTC4',\n",
       " 'PARS2',\n",
       " 'TTC22',\n",
       " 'LEXM',\n",
       " 'DHCR24',\n",
       " 'TMEM61',\n",
       " 'BSND',\n",
       " 'PCSK9',\n",
       " 'USP24',\n",
       " 'PLPP3',\n",
       " 'PRKAA2',\n",
       " 'FYB2',\n",
       " 'C8A',\n",
       " 'C8B',\n",
       " 'DAB1',\n",
       " 'OMA1',\n",
       " 'TACSTD2',\n",
       " 'MYSM1',\n",
       " 'JUN',\n",
       " 'FGGY',\n",
       " 'HOOK1',\n",
       " 'CYP2J2',\n",
       " 'C1orf87',\n",
       " 'NFIA',\n",
       " 'TM2D1',\n",
       " 'PATJ',\n",
       " 'L1TD1',\n",
       " 'KANK4',\n",
       " 'USP1',\n",
       " 'DOCK7',\n",
       " 'ANGPTL3',\n",
       " 'ATG4C',\n",
       " 'FOXD3',\n",
       " 'ALG6',\n",
       " 'ITGB3BP',\n",
       " 'EFCAB7',\n",
       " 'PGM1',\n",
       " 'ROR1',\n",
       " 'UBE2U',\n",
       " 'CACHD1',\n",
       " 'RAVER2',\n",
       " 'JAK1',\n",
       " 'AK4',\n",
       " 'DNAJC6',\n",
       " 'LEPROT',\n",
       " 'LEPR',\n",
       " 'PDE4B',\n",
       " 'SGIP1',\n",
       " 'DYNLT5',\n",
       " 'INSL5',\n",
       " 'DNAI4',\n",
       " 'MIER1',\n",
       " 'SLC35D1',\n",
       " 'C1orf141',\n",
       " 'IL23R',\n",
       " 'IL12RB2',\n",
       " 'SERBP1',\n",
       " 'GADD45A',\n",
       " 'GNG12',\n",
       " 'DIRAS3',\n",
       " 'WLS',\n",
       " 'RPE65',\n",
       " 'DEPDC1',\n",
       " 'LRRC7',\n",
       " 'LRRC40',\n",
       " 'SRSF11',\n",
       " 'ANKRD13C',\n",
       " 'CTH',\n",
       " 'PTGER3',\n",
       " 'ZRANB2',\n",
       " 'NEGR1',\n",
       " 'LRRIQ3',\n",
       " 'FPGT',\n",
       " 'TNNI3K',\n",
       " 'LRRC53',\n",
       " 'ERICH3',\n",
       " 'CRYZ',\n",
       " 'TYW3',\n",
       " 'LHX8',\n",
       " 'SLC44A5',\n",
       " 'ACADM',\n",
       " 'RABGGTB',\n",
       " 'MSH4',\n",
       " 'ASB17',\n",
       " 'ST6GALNAC3',\n",
       " 'ST6GALNAC5',\n",
       " 'PIGK',\n",
       " 'AK5',\n",
       " 'ZZZ3',\n",
       " 'USP33',\n",
       " 'MIGA1',\n",
       " 'NEXN',\n",
       " 'FUBP1',\n",
       " 'DNAJB4',\n",
       " 'GIPC2',\n",
       " 'PTGFR',\n",
       " 'IFI44L',\n",
       " 'IFI44',\n",
       " 'ADGRL4',\n",
       " 'ADGRL2',\n",
       " 'TTLL7',\n",
       " 'PRKACB',\n",
       " 'SAMD13',\n",
       " 'DNASE2B',\n",
       " 'RPF1',\n",
       " 'GNG5',\n",
       " 'SPATA1',\n",
       " 'CTBS',\n",
       " 'SSX2IP',\n",
       " 'LPAR3',\n",
       " 'MCOLN2',\n",
       " 'DNAI3',\n",
       " 'MCOLN3',\n",
       " 'SYDE2',\n",
       " 'C1orf52',\n",
       " 'BCL10',\n",
       " 'DDAH1',\n",
       " 'CCN1',\n",
       " 'ZNHIT6',\n",
       " 'COL24A1',\n",
       " 'ODF2L',\n",
       " 'CLCA2',\n",
       " 'CLCA1',\n",
       " 'CLCA4',\n",
       " 'SH3GLB1',\n",
       " 'SELENOF',\n",
       " 'HS2ST1',\n",
       " 'LMO4',\n",
       " 'PKN2',\n",
       " 'GTF2B',\n",
       " 'KYAT3',\n",
       " 'RBMXL1',\n",
       " 'GBP3',\n",
       " 'GBP1',\n",
       " 'GBP2',\n",
       " 'GBP7',\n",
       " 'GBP4',\n",
       " 'GBP5',\n",
       " 'GBP6',\n",
       " 'LRRC8B',\n",
       " 'LRRC8C',\n",
       " 'LRRC8D',\n",
       " 'ZNF326',\n",
       " 'BARHL2',\n",
       " 'ZNF644',\n",
       " 'HFM1',\n",
       " 'CDC7',\n",
       " 'TGFBR3',\n",
       " 'BRDT',\n",
       " 'EPHX4',\n",
       " 'SETSIP',\n",
       " 'BTBD8',\n",
       " 'C1orf146',\n",
       " 'GLMN',\n",
       " 'RPAP2',\n",
       " 'GFI1',\n",
       " 'EVI5',\n",
       " 'RPL5',\n",
       " 'DIPK1A',\n",
       " 'MTF2',\n",
       " 'TMED5',\n",
       " 'CCDC18',\n",
       " 'DR1',\n",
       " 'FNBP1L',\n",
       " 'BCAR3',\n",
       " 'DNTTIP2',\n",
       " 'GCLM',\n",
       " 'ABCA4',\n",
       " 'ARHGAP29',\n",
       " 'ABCD3',\n",
       " 'F3',\n",
       " 'SLC44A3',\n",
       " 'CNN3',\n",
       " 'ALG14',\n",
       " 'TLCD4',\n",
       " 'RWDD3',\n",
       " 'PTBP2',\n",
       " 'DPYD',\n",
       " 'SNX7',\n",
       " 'PLPPR5',\n",
       " 'PLPPR4',\n",
       " 'PALMD',\n",
       " 'FRRS1',\n",
       " 'AGL',\n",
       " 'SLC35A3',\n",
       " 'MFSD14A',\n",
       " 'SASS6',\n",
       " 'TRMT13',\n",
       " 'LRRC39',\n",
       " 'DBT',\n",
       " 'RTCA',\n",
       " 'CDC14A',\n",
       " 'GPR88',\n",
       " 'VCAM1',\n",
       " 'EXTL2',\n",
       " 'SLC30A7',\n",
       " 'DPH5',\n",
       " 'S1PR1',\n",
       " 'OLFM3',\n",
       " 'COL11A1',\n",
       " 'RNPC3',\n",
       " 'AMY2B',\n",
       " 'AMY2A',\n",
       " 'AMY1A',\n",
       " 'AMY1B',\n",
       " 'AMY1C',\n",
       " 'PRMT6',\n",
       " 'NTNG1',\n",
       " 'VAV3',\n",
       " 'SLC25A24',\n",
       " 'NBPF4',\n",
       " 'NBPF6',\n",
       " 'FAM102B',\n",
       " 'HENMT1',\n",
       " 'PRPF38B',\n",
       " 'FNDC7',\n",
       " 'STXBP3',\n",
       " 'AKNAD1',\n",
       " 'GPSM2',\n",
       " 'CLCC1',\n",
       " 'WDR47',\n",
       " 'TAF13',\n",
       " 'TMEM167B',\n",
       " 'C1orf194',\n",
       " 'ELAPOR1',\n",
       " 'SARS1',\n",
       " 'CELSR2',\n",
       " 'PSRC1',\n",
       " 'MYBPHL',\n",
       " 'SORT1',\n",
       " 'PSMA5',\n",
       " 'SYPL2',\n",
       " 'ATXN7L2',\n",
       " 'CYB561D1',\n",
       " 'AMIGO1',\n",
       " 'GPR61',\n",
       " 'GNAI3',\n",
       " 'GNAT2',\n",
       " 'AMPD2',\n",
       " 'GSTM4',\n",
       " 'GSTM2',\n",
       " 'GSTM1',\n",
       " 'GSTM5',\n",
       " 'GSTM3',\n",
       " 'EPS8L3',\n",
       " 'CSF1',\n",
       " 'AHCYL1',\n",
       " 'STRIP1',\n",
       " 'ALX3',\n",
       " 'UBL4B',\n",
       " 'SLC6A17',\n",
       " 'KCNC4',\n",
       " 'RBM15',\n",
       " 'SLC16A4',\n",
       " 'LAMTOR5',\n",
       " 'PROK1',\n",
       " 'KCNA10',\n",
       " 'KCNA2',\n",
       " 'KCNA3',\n",
       " 'CD53',\n",
       " 'LRIF1',\n",
       " 'DRAM2',\n",
       " 'CEPT1',\n",
       " 'DENND2D',\n",
       " 'CHI3L2',\n",
       " 'CHIA',\n",
       " 'PIFO',\n",
       " 'OVGP1',\n",
       " 'WDR77',\n",
       " 'ATP5PB',\n",
       " 'C1orf162',\n",
       " 'TMIGD3',\n",
       " 'ADORA3',\n",
       " 'RAP1A',\n",
       " 'INKA2',\n",
       " 'DDX20',\n",
       " 'KCND3',\n",
       " 'CTTNBP2NL',\n",
       " 'WNT2B',\n",
       " 'ST7L',\n",
       " 'CAPZA1',\n",
       " 'MOV10',\n",
       " 'RHOC',\n",
       " 'PPM1J',\n",
       " 'TAFA3',\n",
       " 'SLC16A1',\n",
       " 'LRIG2',\n",
       " 'MAGI3',\n",
       " 'PHTF1',\n",
       " 'RSBN1',\n",
       " 'PTPN22',\n",
       " 'BCL2L15',\n",
       " 'AP4B1',\n",
       " 'DCLRE1B',\n",
       " 'HIPK1',\n",
       " 'OLFML3',\n",
       " 'SYT6',\n",
       " 'TRIM33',\n",
       " ...]"
      ]
     },
     "execution_count": 3,
     "metadata": {},
     "output_type": "execute_result"
    }
   ],
   "source": [
    "all_genes = var_df['feature_name'].tolist()\n",
    "all_genes"
   ]
  },
  {
   "cell_type": "code",
   "execution_count": 4,
   "metadata": {
    "execution": {
     "iopub.execute_input": "2024-11-03T14:49:55.061459Z",
     "iopub.status.busy": "2024-11-03T14:49:55.060858Z",
     "iopub.status.idle": "2024-11-03T14:49:55.068119Z",
     "shell.execute_reply": "2024-11-03T14:49:55.067430Z"
    }
   },
   "outputs": [
    {
     "data": {
      "text/plain": [
       "samd11      samd11\n",
       "noc2l        noc2l\n",
       "klhl17      klhl17\n",
       "plekhn1    plekhn1\n",
       "perm1        perm1\n",
       "            ...   \n",
       "mt-nd4l    mt-nd4l\n",
       "mt-nd4      mt-nd4\n",
       "mt-nd5      mt-nd5\n",
       "mt-nd6      mt-nd6\n",
       "mt-cyb      mt-cyb\n",
       "Name: gene_name, Length: 17693, dtype: object"
      ]
     },
     "execution_count": 4,
     "metadata": {},
     "output_type": "execute_result"
    }
   ],
   "source": [
    "adata.var['gene_name']=adata.var.index\n",
    "adata.var['gene_name']"
   ]
  },
  {
   "cell_type": "code",
   "execution_count": 5,
   "metadata": {
    "execution": {
     "iopub.execute_input": "2024-11-03T14:49:55.070168Z",
     "iopub.status.busy": "2024-11-03T14:49:55.069726Z",
     "iopub.status.idle": "2024-11-03T14:49:55.073609Z",
     "shell.execute_reply": "2024-11-03T14:49:55.072933Z"
    }
   },
   "outputs": [],
   "source": [
    "import numpy as np\n",
    "# 初始化一个新的数据矩阵，形状为 (adata.X.shape[0], len(all_genes))，填充为零\n",
    "new_data = np.zeros((adata.X.shape[0], len(all_genes)), dtype=np.float32)\n"
   ]
  },
  {
   "cell_type": "code",
   "execution_count": 6,
   "metadata": {
    "execution": {
     "iopub.execute_input": "2024-11-03T14:49:55.075561Z",
     "iopub.status.busy": "2024-11-03T14:49:55.075075Z",
     "iopub.status.idle": "2024-11-03T14:49:55.080671Z",
     "shell.execute_reply": "2024-11-03T14:49:55.080050Z"
    }
   },
   "outputs": [
    {
     "data": {
      "text/plain": [
       "samd11      samd11\n",
       "noc2l        noc2l\n",
       "klhl17      klhl17\n",
       "plekhn1    plekhn1\n",
       "perm1        perm1\n",
       "            ...   \n",
       "mt-nd4l    mt-nd4l\n",
       "mt-nd4      mt-nd4\n",
       "mt-nd5      mt-nd5\n",
       "mt-nd6      mt-nd6\n",
       "mt-cyb      mt-cyb\n",
       "Name: gene_name, Length: 17693, dtype: object"
      ]
     },
     "execution_count": 6,
     "metadata": {},
     "output_type": "execute_result"
    }
   ],
   "source": [
    "existing_genes = adata.var['gene_name']\n",
    "existing_genes"
   ]
  },
  {
   "cell_type": "code",
   "execution_count": 7,
   "metadata": {
    "execution": {
     "iopub.execute_input": "2024-11-03T14:49:55.082245Z",
     "iopub.status.busy": "2024-11-03T14:49:55.082079Z",
     "iopub.status.idle": "2024-11-03T14:49:55.102252Z",
     "shell.execute_reply": "2024-11-03T14:49:55.101571Z"
    }
   },
   "outputs": [
    {
     "name": "stdout",
     "output_type": "stream",
     "text": [
      "匹配的基因数量: 17392\n",
      "匹配的基因列表: {'lgsn', 'fam131c', 'gpr3', 'kmt2e', 'gba2', 'tagln', 'nphs2', 'ccdc173', 'gabrr1', 'tipin', 'krt6b', 'tbc1d1', 'pm20d2', 'rgs9bp', 'gnao1', 'aasdh', 'paics', 'lmcd1', 'pigk', 'slc5a10', 'cmpk2', 'rnf20', 'adgrg4', 'txndc2', 'mturn', 'ccdc172', 'bmp4', 'rchy1', 'zbtb49', 'rbm26', 'trim65', 'gtpbp6', 'unc93b1', 'odf3l2', 'nkx3-2', 'gnal', 'samd9l', 'slc25a42', 'bpnt1', 'naxd', 'dcdc1', 'asgr1', 'erich6', 'ndufa13', 'itgb5', 'icam5', 'grik5', 'apbb2', 'phpt1', 'slc10a1', 'recql4', 'mief1', 'ahnak', 'rbmxl3', 'ocstamp', 'trim44', 'ube2w', 'sncg', 'ift57', 'clock', 'p4ha3', 'srpra', 'taf4b', 'prkab2', 'fbln2', 'agfg2', 'entpd4', 'kcnt1', 'angptl5', 'ncs1', 'gli1', 'meak7', 'znf587b', 'donson', 'degs2', 'ncoa5', 'fam120aos', 'ptger2', 'stoml1', 'cadm1', 'c2cd3', 'rnf128', 'triap1', 'pcif1', 'klc3', 'zranb2', 'dnajb5', 'glb1l2', 'abl1', 'cops3', 'fcgr3a', 'misp', 'c1orf198', 'rpp25l', 'srarp', 'amhr2', 'ddx19b', 'radx', 'tsc2', 'esyt1', 'endov', 'snrnp25', 'ephx3', 'copb2', 'tmem167b', 'sap18', 'stag3', 'arhgef4', 'vasp', 'txlnb', 'ifit2', 'tas2r9', 'hoxc10', 'psen1', 'btc', 'ilvbl', 'gnpat', 'crkl', 'bbs9', 'ube2i', 'trim72', 'ckap2l', 'bricd5', 'ppm1g', 'dnajc3', 'pml', 'lmln2', 'snx17', 'ern1', 'st6galnac2', 'nkain1', 'bcar3', 'camkmt', 'ube3d', 'xrcc6', 'znf648', 'acp1', 'dhps', 'nfe2', 'hectd3', 'or51g2', 'c4orf19', 'hes7', 'pcgf2', 'fam181a', 'bzw1', 'cd2', 'cfap44', 'klk7', 'gcm2', 'rara', 'nbpf1', 'foxi3', 'mbip', 'pja2', 'ppt1', 'sec61g', 'hgf', 'neil2', 'ero1a', 'clcn4', 'rwdd4', 'igdcc3', 'gpd1l', 'tnxb', 'hipk3', 'plcd3', 'lrrc57', 'dtna', 'znf600', 'fads2', 'znf658', 'epb41l2', 'prm2', 'cmtm8', 'psd', 'tmem30a', 'clec16a', 'mis12', 'mab21l2', 'tubgcp3', 'msl1', 'sh3bp2', 'ccr1', 'lage3', 'phf19', 'cenpk', 'neurl1b', 'tmem186', 'maip1', 'slc18a2', 'kmt2a', 'rab35', 'krt40', 'ksr2', 'ifna1', 'igfl1', 'antxr1', 'fam120a', 'or2m5', 'dscc1', 'cdc42se2', 'zpbp2', 'il13ra2', 'slc13a2', 'ptpn7', 'znf768', 'elmo1', 'spata20', 'nat16', 'c8orf88', 'elp4', 'ces4a', 'fmr1nb', 'asic3', 'tceal2', 'asb10', 'zim2', 'slc39a1', 'col9a3', 'sdhaf1', 'bach1', 'rest', 'ddrgk1', 'ugt2a1', 'tex54', 'p3h2', 'vps51', 'grk2', 'trip13', 'spg11', 'naalad2', 'ctxn1', 'nubp2', 'ap3s2', 'fbxo25', 'wdr12', 'rbmxl2', 'gprc5a', 'nhlrc3', 'dipk1b', 'foxk2', 'zmym6', 'arhgap5', 'treml1', 'nhsl2', 'cdc14b', 'c19orf84', 'gask1a', 'znf324b', 'inka2', 'ptpn20', 'pptc7', 'pop1', 'araf', 'dvl1', 'slc30a2', 'adra2c', 'hmx1', 'dnajc14', 'npc1', 'pnrc1', 'tor3a', 'mex3a', 'ppm1e', 'pde4c', 'trerf1', 'pomgnt1', 'nr5a2', 'fzd9', 'krt4', 'elac2', 'zfand3', 'thap10', 'mnat1', 'por', 'ankra2', 'ascc2', 'casq2', 'tnfrsf25', 'sdhb', 'pspn', 'higd1b', 'bhmt2', 'krtap10-5', 'or2t2', 'gtf3c6', 'os9', 'or2t8', 'serping1', 'gpaa1', 'cers6', 'slamf1', 'mob3c', 'ltbp2', 'stox2', 'gng2', 'phgdh', 'prph2', 'ccdc14', 'bfar', 'znf75d', 'ubash3b', 'zbtb47', 'casp6', 'adcy1', 'klhdc1', 'cxxc5', 'naga', 'lmo3', 'prr12', 'ccdc187', 'ddx3x', 'creld1', 'btnl3', 'ipo5', 'col4a3', 'tafa1', 'ireb2', 'btbd17', 'gimap5', 'tnni3', 'cfap410', 'lrrc28', 'cox7b', 'coq10a', 'palmd', 'eppk1', 'hmg20b', 'adgra1', 'psors1c1', 'uncx', 'taf6', 'ldlrad3', 'slc25a22', 'nusap1', 'or2f1', 'aen', 'ovch2', 'fgf6', 'dcaf4l1', 'cfl1', 'ugt1a10', 'arpc5', 'tmem268', 'sdcbp', 'lrrc23', 'pradc1', 'nwd2', 'tp53', 'nacc2', 'lyrm1', 'qki', 'sirt6', 'usp33', 'ehhadh', 'nceh1', 'dpf3', 'c5orf24', 'tmem200c', 'cnot8', 'il11ra', 'or4e1', 'fam50a', 'coa5', 'yy2', 'dhrs7b', 'slc35e1', 'il10ra', 'ndufs2', 'fam210b', 'clnk', 'raet1e', 'borcs8', 'ccdc57', 'nol4', 'dhx35', 'ppm1l', 'upp1', 'nxpe4', 'clhc1', 'rgma', 'diaph2', 'trmt61b', 'grm4', 'ube2z', 'ttf2', 'supt20h', 'adh1b', 'polr3gl', 'nmrk1', 'caprin2', 'trim22', 'mettl1', 'krtap3-1', 'rtcb', 'frg2', 'nnt', 'oosp4b', 'slc29a1', 'sohlh2', 'emilin1', 'serpine3', 'slco1b3', 'ttll8', 'pnpla2', 'mypop', 'clns1a', 'ncor2', 'glod5', 'dtwd2', 'lta4h', 'or56b1', 'prok2', 'dck', 'dctn1', 'cx3cl1', 'gfap', 'stap1', 'arhgap27', 'nr1h4', 'esyt3', 'itk', 'c13orf46', 'il18r1', 'erlin1', 'chd3', 'ctrl', 'ceacam1', 'ddx18', 'dennd10', 'ktn1', 'lrrc37a2', 'gnptg', 'pwwp3a', 'ccdc146', 'large1', 'bbs10', 'arl8a', 'mtrex', 'fchsd1', 'canx', 'ccdc33', 'kntc1', 'zfand4', 'klrc3', 'agpat3', 'spink8', 'usp20', 'prkag2', 'prrg2', 'grid2', 'znf311', 'ptpn23', 'ap1b1', 'nip7', 'rcl1', 'pgm2l1', 'tmem170b', 'anapc10', 'coro1c', 'ica1', 'zfyve21', 'ctnnb1', 'm1ap', 'derl2', 'il17rel', 'rfxap', 'tktl2', 'znf277', 'tbl1y', 'tnfrsf10b', 'dlx4', 'hal', 'kif4a', 'erg28', 'erg', 'samm50', 'vav2', 'card6', 'cyp4f12', 'smarcd2', 'lrrc14', 'eri2', 'mageb2', 'hsd17b11', 'aco1', 'lrrc32', 'irf3', 'cdk4', 'ncmap', 'lilrb5', 'znf239', 'tmem164', 'metap2', 'ryr3', 'ubqln3', 'nup54', 'asb8', 'golga8r', 'fam151a', 'zmym5', 'abhd13', 'slc5a9', 'lexm', 'rbl2', 'itih6', 'sema3b', 'cd72', 'adamts13', 'six4', 'alx3', 'pnmt', 'eloa', 'rras2', 'tra2a', 'tmem203', 'tmem223', 'c14orf132', 'casq1', 'pigz', 'shc2', 'decr1', 'parp10', 'tacc1', 'kbtbd2', 'krtap5-6', 'caprin1', 'dcn', 'podxl', 'xxylt1', 'aida', 'gtf2e1', 'bpifb4', 'ugt3a2', 'slc2a1', 'snca', 'ap5z1', 'nucks1', 'eif2d', 'zdhhc12', 'cd8a', 'sdsl', 'rtl3', 'c4orf17', 'usp53', 'plscr2', 'fpr1', 'eef2kmt', 'tpd52l1', 'il21', 'rbm10', 'trpv3', 'pcdhb7', 'taf15', 'tas1r1', 'mael', 'ppm1b', 'ube2c', 'clvs2', 'dhx38', 'nxpe1', 'ctps1', 'rfx3', 'etv1', 'serpinb4', 'ascl5', 'plxna2', 'ppp3ca', 'asb15', 'dpcd', 'nos1', 'slfn11', 'kpna3', 'abcc12', 'npnt', 'glra1', 'wfdc11', 'ssbp4', 'ltn1', 'ctxnd1', 'pex12', 'sltm', 'frmd8', 'gadd45g', 'blnk', 'mfng', 'cdk18', 'mis18bp1', 'rbm17', 'gins1', 'defb132', 'rbsn', 'krtap13-1', 'cox8c', 'ogn', 'llcfc1', 'ano1', 'tprn', 'eapp', 'arhgap8', 'tsen54', 'chst12', 'esrrb', 'snx13', 'mad2l2', 'cd101', 'scpep1', 'scamp5', 'msh6', 'ccdc15', 'slc25a32', 'wfs1', 'ucn2', 'ubxn8', 'or1b1', 'scrn2', 'bmp15', 'cd1d', 'dscam', 'lancl2', 'plxdc1', 'fam71e2', 'zc3h14', 'pycr1', 'slc4a7', 'inha', 'ebf1', 'raver2', 'rab44', 'yme1l1', 'rhov', 'fut5', 'atp6v0e1', 'trim59', 'nfkbid', 'igflr1', 'snai1', 'tmem234', 'def6', 'tusc3', 'rnase10', 'krt16', 'cry1', 'exoc6', 'gper1', 'c1orf162', 'cps1', 'kctd16', 'ddx19a', 'trim39', 'st8sia4', 'dip2b', 'cflar', 'hbp1', 'fscb', 'morc3', 'rbp7', 'tgfbi', 'stk36', 'mroh2a', 'rfpl3', 'otub2', 'raver1', 'slc38a3', 'ginm1', 'asic1', 'nsfl1c', 'tdrkh', 'stxbp3', 'pms1', 'cblb', 'abcf1', 'khnyn', 'tent5b', 'c20orf27', 'znf816', 'wipf1', 'bpifb1', 'cxxc1', 'usp17l2', 'cnih2', 'kif25', 'c4bpa', 'pkn2', 'adora2b', 'hyal3', 'caly', 'cldn11', 'rgs21', 'frat2', 'procr', 'msh4', 'tmem184a', 'fabp4', 'syngr1', 'tmem141', 'c5ar1', 'hint1', 'lsmem2', 'b3galt2', 'tigd4', 'haspin', 'sumo4', 'cdc6', 's1pr5', 'rfpl4a', 'nabp1', 'ppm1f', 'tent5c', 'lce1c', 'creb5', 'rab3gap2', 'hras', 'pbdc1', 'or5k2', 'ubr5', 'reep4', 'traf3ip3', 'exo5', 'eefsec', 'septin9', 'rnf8', 'ube2b', 'shcbp1', 'phykpl', 'actbl2', 'prickle1', 'ccdc38', 'ercc6', 'azu1', 'bad', 'col19a1', 'npat', 'nlrp8', 'sdhaf3', 'oaf', 'gjd4', 'anxa8', 'ppp1r1a', 'rab7a', 'lonrf2', 'gdf7', 'cenpw', 'dcaf8', 'trpm7', 'cnga4', 'ccar1', 'mark2', 'atad2b', 'or6k3', 'pef1', 'ccdc12', 'trappc3l', 'uroc1', 'or14i1', 'hhatl', 'hcfc2', 'rapsn', 'cog2', 'slc6a20', 'znf80', 'bbip1', 'fam98b', 'c2cd4b', 'trmt2a', 'msantd1', 'klhdc2', 'or7c1', 'kiaa0513', 'krtap5-2', 'eef2', 'spocd1', 'med10', 'trim17', 'ptf1a', 'plch2', 'ect2', 'mfhas1', 'cpsf6', 'shld2', 'usp17l3', 'acvrl1', 'vbp1', 'lcmt1', 'sv2b', 'mpp7', 'zc3h6', 'nub1', 'nbpf19', 'f5', 'dram1', 'rsrc1', 'ell', 'phf5a', 'srsf2', 'znf831', 'lrch3', 'fbxo36', 'dydc2', 'wwp2', 'dclk3', 'slc6a9', 'znf182', 'agap2', 'ccdc181', 'tmsb4y', 'tex22', 'gbx1', 'dcdc2b', 'tnni3k', 'tyw3', 'ntn3', 'slc30a9', 'lrrk2', 'krtap22-1', 'tdrd6', 'hid1', 'arrb2', 'zc3h3', 'c19orf25', 'cdc16', 'cep162', 'abcb8', 'get1', 'mrto4', 'fxyd3', 'eif4ebp1', 'tst', 'shisal2a', 'slc25a38', 'pigp', 'proc', 'pacs1', 'a3galt2', 'zcwpw1', 'cited4', 'bphl', 'galntl6', 'or4k2', 'papln', 'rock1', 'ca13', 'bbc3', 'palb2', 'tnfrsf6b', 'csf2rb', 'rbm15', 'c1orf158', 'npas2', 'tmem88b', 'pmis2', 'umodl1', 'itih1', 'noto', 'polr2b', 'tmtc1', 'znf460', 'rhoh', 'naif1', 'ar', 'npy1r', 'znhit2', 'lrp1b', 'htra3', 'il37', 'pon1', 'golm1', 'timm44', 'c8b', 'kiaa1614', 'coprs', 'slc25a39', 'mob4', 'slmap', 'jmjd1c', 'ptchd1', 'nlrp2b', 'rgs14', 'znf622', 'ebf3', 'nlgn2', 'septin5', 'icam1', 'krtap6-2', 'armcx4', 'stat4', 'or51b6', 'xpo1', 'c5', 'tmem100', 'lama3', 'ppp6c', 'mt1x', 'snx11', 'vps35l', 'nxf1', 's1pr4', 'lpp', 'dhfr', 'tmtc4', 'hpgd', 'mmp10', 'ccnjl', 'kndc1', 'cyp2e1', 'cdr1', 'unc93a', 'atad3b', 'dhfr2', 'myo1h', 'syce1l', 'tmtc3', 'kantr', 'en2', 'ppp1r13b', 'snx12', 'tex46', 'adh7', 'nova2', 'brwd1', 'rph3a', 'gsto2', 'or4a16', 'map4k1', 'kiaa2026', 'kcng1', 'pafah1b2', 'angpt1', 'znf583', 'rtn4ip1', 'fan1', 'aldh18a1', 'ehf', 'rprd1b', 'mphosph6', 'eno3', 'commd6', 'psmc3ip', 'ywhae', 'cxorf58', 'slpi', 'swt1', 'lrrc8a', 'lrrc6', 'lbhd1', 'safb2', 'fcgr2b', 'kcnip2', 'mmachc', 'nos2', 'g6pc3', 'adhfe1', 'meox2', 'prr15l', 'pnpla1', 'tm2d1', 'carnmt1', 'myh3', 'znf808', 'igip', 'ahcy', 'upk3a', 'otop1', 'vegfb', 'ndc80', 'smpd4', 'kiaa0100', 'ncapd2', 'sbk1', 'plg', 'fmo4', 'col6a5', 'akt2', 'col5a1', 'atf7ip2', 'znf587', 'ap1s2', 'pced1b', 'zfyve9', 'mboat1', 'asxl1', 'ddx52', 'ccer2', 'znf229', 'dusp2', 'ppp1r3g', 'cald1', 'rnf165', 'cxorf66', 'myrip', 'nrl', 'c5orf49', 'dkk2', 'znf518a', 'tspan8', 'pomt2', 'fzr1', 'wdr93', 'tmem176b', 'cfhr3', 'or4b1', 'sirt5', 'ubxn10', 'ankrd42', 'kcnj16', 'usp24', 'or2b6', 'kcnk17', 'cds1', 'kctd9', 'sfxn4', 'ap1g1', 'tafa4', 'lrrc3b', 'ccdc168', 'creb3l2', 'tsacc', 'kcnt2', 'zdhhc5', 'pex11g', 'mrgpre', 'znf177', 'adgrb3', 'comt', 'rasd1', 'cyp7b1', 'bex2', 'fam168b', 'exosc3', 'fam71c', 'fbln7', 'mcm7', 'ndufb10', 'met', 'actg2', 'cldn15', 'dleu7', 'pik3ap1', 'tmem125', 'plekha1', 'ifitm10', 'snrpb2', 'unc5cl', 'fndc1', 'gng10', 'gstz1', 'polr2g', 'c2orf92', 'ankrd18a', 'arhgef33', 'sacs', 'defb108b', 'irx3', 'bsx', 'znf569', 'qser1', 'pik3r3', 'fahd2a', 'rarres2', 'dtx3', 'spdl1', 'kif26a', 'itpripl2', 'aldh7a1', 'actr2', 'tbc1d2b', 'clec12b', 'znf790', 'hebp1', 'rnase13', 'slc22a6', 'dscaml1', 'lama1', 'vstm2a', 'duoxa1', 'nyap2', 'pnck', 'tafa2', 'znf268', 'map3k3', 'tsen34', 'mgat4b', 'mon2', 'snai2', 'or4q3', 'slx4ip', 'vstm4', 'gfer', 'clec2d', 'c17orf107', 'rif1', 'rbms1', 'nudt19', 'rnf166', 'gabrg1', 'znf354a', 'rbm19', 'dnah9', 'commd3', 'stard10', 'tmem255a', 'ca6', 'c1qtnf6', 'st6galnac3', 'grin2d', 'ntrk1', 'nkx3-1', 'wipi1', 'smdt1', 'tcta', 'smarcb1', 'depdc7', 'or2t1', 'mettl5', 'rxfp3', 'fbxl18', 'hspd1', 'paxip1', 'hepacam2', 'fam3a', 'med21', 'prg2', 'c9orf40', 'blm', 'sike1', 'pcdh12', 'slamf8', 'e2f1', 'lce2a', 'gfpt2', 'tle6', 'znf442', 'slc25a40', 'nwd1', 'ildr2', 'gimap4', 'pyy', 'spop', 'ccdc138', 'fam83a', 'hif3a', 'dnase2b', 'cited1', 'zswim4', 'mixl1', 'hdc', 'klhdc8b', 'asb6', 'npm2', 'dll4', 'pf4', 'dach1', 'kif20a', 'sos2', 'niban1', 'hsd17b1', 'itpkc', 'ifi27l2', 'lss', 'nmral1', 'wdr49', 'myf6', 'amd1', 'pou4f3', 'tmem219', 'crybb2', 'lnpep', 'cyb5a', 'lrrc59', 'arhgef17', 'rtl9', 'sympk', 'ints10', 'azi2', 'arhgap21', 'ppfia3', 'golga6l2', 'b3galt4', 'nat14', 'rnase12', 'gmps', 'cd300e', 'gata5', 'kat2b', 'commd8', 'grik4', 'grm7', 'fzd4', 'tmprss11a', 'rabepk', 'parp11', 'kcnb2', 'rnasek', 'tal1', 'atad2', 'arpc5l', 'aloxe3', 'cbx8', 'nabp2', 'rcn2', 'vps37d', 'krt24', 'itpkb', 'fars2', 'glyr1', 'tmem8b', 'srsf1', 'tcof1', 'nomo1', 'abce1', 'c19orf54', 'ccdc106', 'ebf2', 'txnrd2', 'huwe1', 'ppp1r9a', 'pip5kl1', 'lrrc25', 'fhl1', 'ccrl2', 'pdcl3', 'robo2', 'adar', 'tspan14', 'ppip5k2', 'otud7b', 'slc12a3', 'atxn3l', 'emc6', 'dad1', 'qrsl1', 'crb1', 'inpp5f', 'usp12', 'lct', 'mef2d', 'erc2', 'pi4k2b', 'dpp7', 'tnc', 'nedd1', 'cog6', 'ilkap', 'tppp', 'elmo3', 'nptx1', 'lum', 'cdcp2', 'cped1', 'pou3f2', 'traf3', 'coq4', 'mtrf1', 'vash1', 'rinl', 'slc2a10', 'zwilch', 'ptpn4', 'snrnp70', 'serpinb3', 'gpcpd1', 'rnaseh2b', 'rabl3', 'cd14', 'erp27', 'fam174a', 'lin28a', 'b4galnt1', 'amer3', 'neb', 'phospho2', 'snx22', 'tp53rk', 'cd200r1l', 'cenpu', 'nsd3', 'dpy19l4', 'srl', 'sirpg', 'cdk5rap1', 'rab25', 'mmgt1', 'cxcr1', 'vps72', 'gstt2b', 'herc6', 'cst2', 'pxn', 'lsm5', 'miox', 'emc9', 'cep131', 'hunk', 'edc4', 'tgif1', 'bex1', 'vps13b', 'rtf1', 'arsj', 'ajap1', 'pde9a', 'pi4ka', 'med14', 'btf3', 'cep55', 'tmem89', 'bcl10', 'or6j1', 'ap4e1', 'shisa4', 'tuba3e', 'actr8', 'mageb5', 'pkia', 'wdr26', 'apcdd1', 'znf624', 'abca4', 'mcmdc2', 'tmem42', 'rasl11b', 'gpatch4', 'slc1a6', 'or1l1', 'kdm5c', 'gpr173', 'slc30a6', 'tep1', 'slc35f4', 'bace1', 'ubac2', 'mapk7', 'sh2d5', 'lin52', 'gramd2b', 'c12orf73', 'hmgcr', 'clptm1l', 'fubp1', 'ldhal6b', 'dio2', 'pet117', 'tomm7', 'fstl1', 'spopl', 'twf2', 'gpr15', 'aebp2', 'magec1', 'tmem40', 'slc22a25', 'nat9', 'rhou', 'mpc1', 'fam241b', 'lhfpl4', 'shprh', 'psmd1', 'tmem127', 'ttc26', 'siglec14', 'cblif', 'pde6h', 'tex10', 'klf15', 'sec24c', 'dbndd1', 'tnfrsf11a', 'dsg2', 'osbpl2', 'cdkn2a', 'c16orf95', 'hjv', 'itpr3', 'rd3', 'adra2a', 'rin3', 'snap25', 'stbd1', 'gclc', 'hmgb2', 'lats1', 'epha8', 'jrkl', 'tbx1', 'eras', 'ebi3', 'mlana', 'tomm20', 'fgd6', 'c16orf72', 'cnn1', 'rnf212', 'pnma1', 'ihh', 'mtpn', 'chst5', 'znf563', 'medag', 'taf2', 'klc1', 'nlrp12', 'znf610', 'cul4b', 'rad51ap1', 'c9orf43', 'ccnq', 'mlh3', 'mettl24', 'dnajc9', 'sgpl1', 'rp2', 'upb1', 'sgo2', 'yaf2', 'loxl4', 'napsa', 'amot', 'p4ha2', 'or2k2', 'tbx18', 'snapc2', 'tmprss11f', 'dlg5', 'iars2', 'tmem251', 'smad4', 'fam83g', 'abcg8', 'or4c16', 'nup133', 'crhr2', 'tmem79', 'c1rl', 'galnt1', 'mex3d', 'dlgap5', 'uqcrhl', 'bend4', 'adam18', 'fam167a', 'slc25a25', 'rlf', 'krt3', 'asic5', 'ndrg2', 'arpc1b', 'tp53i13', 'tshz1', 'sash3', 'nrxn1', 'tbc1d10a', 'abtb2', 'ap1m2', 'c20orf144', 'daxx', 'tubb2a', 'csrp3', 'cc2d1a', 'slf1', 'cacna1f', 'cldn18', 'spx', 'napa', 'bpifa2', 'tmem270', 'fras1', 'p3r3urf', 'btk', 'proser2', 'tnks', 'bcat2', 'ly6g6c', 'znf326', 'hpcal4', 'itm2c', 'ugt2b10', 'dio3', 'mapre2', 'znf74', 'henmt1', 'ddi1', 'alpk3', 'tbx2', 'prtfdc1', 'itgb4', 'rpp38', 'crh', 'zbtb44', 'zc3hav1', 'ankfn1', 'a4galt', 'becn2', 'arid2', 'znf429', 'itch', 'frg2c', 'slc26a1', 'hoxb8', 'znf597', 'dnajc4', 'c6', 'sh3bgr', 'ccdc70', 'scgb1a1', 'ano9', 'or4x2', 'trat1', 'epg5', 'ppp1r3f', 'ctrb1', 'exosc1', 'ap2b1', 'fer1l5', 'vstm5', 'avpr1a', 'cacna1s', 'fbrsl1', 'areg', 'srr', 'asic4', 'selenos', 'impg2', 'fbxl22', 'st8sia5', 'ep300', 'calml6', 'gucy2c', 'bpi', 'pxdn', 'tbc1d10c', 'fmod', 'or6f1', 'ifnl1', 'tbp', 'aspa', 'cd4', 'cdk5r2', 'c3orf49', 'timm29', 'or2t12', 'ets2', 'man2a2', 'slc4a1ap', 'nemp1', 'qprt', 'c4orf48', 'rhag', 'mylk', 'nkiras1', 'cpne5', 'kiaa0930', 'armcx2', 'nt5c1a', 'cul3', 'taf11l4', 'dnah1', 'fa2h', 'syne4', 'slc36a1', 'iqcg', 's100a6', 'krcc1', 'adamts16', 'scara5', 'mroh9', 'stt3b', 'ephx4', 'caap1', 'nfat5', 'c1qbp', 'gpr137c', 'cracr2b', 'pak5', 'adarb1', 'ndfip1', 'arnt2', 'ankzf1', 'osmr', 'ehd1', 'vwa3a', 'sez6', 'or7g2', 'pmepa1', 'htatsf1', 'prss27', 'tcp11l2', 'arpc2', 'c15orf48', 'cytl1', 'btd', 'klf9', 'ms4a6e', 'gpx5', 'piezo2', 'znf529', 'cfhr2', 'incenp', 'rnf43', 'onecut2', 'galnt2', 'htra2', 'or11g2', 'btbd3', 'prpf38a', 'fzd10', 'tmc2', 'tmem94', 'tnn', 'ebf4', 'med20', 'hfm1', 'xrn1', 'cldn24', 'gramd1a', 'smlr1', 'nudt15', 'c16orf86', 'tpra1', 'mc5r', 'wdr88', 'chgb', 'fdxacb1', 'b4galt3', 'adgb', 'cd207', 'prnd', 'tmem9', 'txnl1', 'znf141', 'josd1', 'eno1', 'tdrd15', 'ppp1r32', 'fam171b', 'gfi1', 'sh2d2a', 'or10x1', 'alpk1', 'zgrf1', 'znf827', 'plaat2', 'barx2', 'fzd5', 'ciao3', 'nr0b2', 'gtf3c1', 'mrtfa', 'pdp2', 'hfe', 'chrm3', 'chmp7', 'npas3', 'map2k2', 'dmd', 'sfta2', 'swi5', 'lect2', 'mfap5', 'pcdhga11', 'prkag1', 'brpf1', 'cep44', 'wee1', 'gmpr', 'narf', 'galnt7', 'aatk', 'sf3b5', 'card19', 'hlx', 'ebpl', 'tnfrsf11b', 'dkk1', 'fanci', 'baalc', 'flrt1', 'psmc1', 'atp8a1', 'il17d', 'bloc1s6', 'plpp4', 'usp7', 'kdm6b', 'sox17', 'szt2', 'sema6c', 'syt14', 'fbxo11', 'cd300a', 'nipbl', 'gkap1', 'znf572', 'gsx1', 'prdm9', 'phox2a', 'ptprs', 'trim51gp', 'vsx1', 'spag1', 'cyth4', 'sprr5', 'crot', 'zer1', 'ntf3', 'znf492', 'aire', 'cldn25', 'ceacam8', 'nbpf11', 'mief2', 'tmcc1', 'cep295', 'c6orf226', 'or8a1', 'dym', 'slc9a7', 'eif2b2', 'klhl30', 'lrrc61', 'mzt1', 'cfi', 'olah', 'prkch', 'dld', 'slain1', 'mrc2', 'tmem63b', 'plekhf1', 'plcb4', 'dlgap2', 'arpp21', 'nbr1', 'fancb', 'znf697', 'tcerg1', 'pla2g6', 'cd84', 'npm3', 'tnfaip8l2', 'col4a1', 'kcnmb3', 'olig2', 'muc5b', 'or5j2', 'nsun4', 'pik3r6', 's100a2', 'tp53bp2', 'fbxo47', 'sobp', 'fnip1', 'znf853', 'ntf4', 'sh3gl1', 'espn', 'mt-nd1', 'alpp', 'bmp6', 'fgl2', 'nectin4', 'tspoap1', 'fap', 'pou3f3', 'cpe', 'cyp2f1', 's100a9', 'ercc1', 'smad7', 'lrrtm2', 'tbkbp1', 'bcl7a', 'edaradd', 'prrt4', 'zfp36l2', 'dennd6a', 'copg1', 'hdac7', 'actn3', 'vars2', 'plk4', 'cyb5r2', 'fggy', 'cd36', 'bbof1', 'mesd', 'clpsl2', 'nrarp', 'treh', 'or1e1', 'kcnma1', 'pdyn', 'pcdha10', 'usp49', 'tle2', 'zcchc14', 'bscl2', 'pp2d1', 'gnaq', 'slc25a51', 'tmem106a', 'immp1l', 'cox4i1', 'grtp1', 'nfkbib', 'c13orf42', 'ythdc1', 'ttc27', 'spi1', 'smim18', 'itsn2', 'prune1', 'snap91', 'ddx54', 'lsm8', 'rab12', 'kbtbd13', 'ankrd62', 'ctdsp1', 'alkbh1', 'necab3', 'kiaa1958', 'tex13c', 'spata32', 'syde2', 'ttc38', 'itpka', 'tmem130', 'rbm20', 'en1', 'acot9', 'med8', 'ankrd29', 'acadsb', 'c8orf37', 'malsu1', 'srsf4', 'dpy19l1', 'eif4ebp2', 'epha3', 'atp5f1a', 'mettl7a', 'cldn3', 'c6orf89', 'capza2', 'lynx1', 'znf491', 'gjb1', 'csag1', 'naa80', 'asah1', 'ptgdr2', 'ranbp17', 'c12orf76', 'akap10', 'ano3', 'fam186a', 'arhgap35', 'sec22c', 'rab15', 'ugt2a3', 'znf644', 'telo2', 'card14', 'p2ry1', 'zc3hav1l', 'hnrnpdl', 'eif4h', 'msc', 'dmxl2', 'atf4', 'kcns3', 's100b', 'lpcat1', 'pex3', 'cyp24a1', 'atp13a4', 'nlrp13', 'cpa1', 'krt72', 'cyp4f2', 'lhx5', 'trim71', 'srrm1', 'cdc40', 'arhgap26', 'pax8', 'sim1', 'vrk1', 'rad21l1', 'atp6v0e2', 'zbtb41', 'grina', 'cib4', 'map4k2', 'vps36', 'arr3', 'lhfpl1', 'coa8', 'rassf8', 'fez1', 'dis3l', 'serp2', 'atp5if1', 'or1l8', 'spast', 'aifm2', 'psrc1', 'adh6', 'mep1b', 'arl6ip1', 'plagl2', 'eef1aknmt', 'atp5mgl', 'cks1b', 'ttl', 'sycp1', 'xpa', 'pxdc1', 'kcne5', 'gjb2', 'sla', 'defb4a', 'samd4a', 'cyb5b', 'ephx2', 'rbm6', 'ybx1', 'cd47', 'cenpj', 'higd1c', 'exoc1', 'orc3', 'senp5', 'plekhh2', 'calm1', 'shank3', 'mybbp1a', 'jup', 'muc7', 'mcam', 'tbc1d22b', 'fam110b', 'ppp1r27', 'ccs', 'inca1', 'nprl3', 'or9a4', 'psme4', 'ralyl', 'med22', 'diaph3', 'trim24', 'tas2r14', 'spink13', 'gtf2b', 'lrrc63', 'pdrg1', 'pard6b', 'islr', 'riox2', 'foxa3', 'ewsr1', 'las1l', 'lsmem1', 'fbxo3', 'nup88', 'ube2a', 'flnb', 'mdk', 'slco1c1', 'serinc5', 'fermt2', 'nrde2', 'coa3', 'odf3b', 'cep152', 'mageb10', 'ccdc96', 'kncn', 'cd58', 'susd5', 'cpne7', 'spanxn2', 'tmem211', 'cby1', 'chst11', 'atxn3', 'snapc1', 'slc31a2', 'catsper2', 'e4f1', 'pink1', 'gadd45b', 'mgmt', 'c16orf90', 'dclk1', 'krt2', 'plpp1', 'neurl2', 'or8d4', 'siglec8', 'epha10', 'rrnad1', 'aldh3b2', 'ugcg', 'cnot10', 'stn1', 'terb1', 'iqca1l', 'wnt7a', 'hmsd', 'mob3b', 'nf1', 'sytl5', 'sash1', 'spryd7', 'miga2', 'azin2', 'scamp4', 'tmem52', 'tas1r3', 'eif2b3', 'slamf6', 'sorcs2', 'cyp3a4', 'cry2', 'ctnnd1', 'nuak1', 'cmtr2', 'rgl3', 'dyrk1a', 'pde1a', 'ndst1', 'spr', 'zfp69b', 'lrrc55', 'sec62', 'usp46', 'opn4', 'mtx3', 'rasgrp1', 'shank1', 'gria1', 'tp53inp2', 'sage1', 'or52b2', 'timm10', 'taco1', 'tgfb2', 'lmo7', 'eddm13', 'tmem132e', 'odc1', 'fscn1', 'slc9b2', 'tmem72', 'dnajb6', 'sgcg', 'lin28b', 'get3', 'cnih1', 'gdi1', 'ptgr2', 'itgb1bp2', 'or6c4', 'pld1', 'ankrd33b', 'mcee', 'chrac1', 'cracr2a', 'f11r', 'znf705a', 'sidt2', 'anp32d', 'cd22', 'amer1', 'pon3', 'rmnd1', 'efcab12', 'gtf2a1', 'vta1', 'lilra6', 'c9orf135', 'frs3', 'trim42', 'smim27', 'pde3a', 'trim25', 'prrc2c', 'abo', 'klf16', 'cpamd8', 'hes6', 'ak5', 'arhgap19', 'mfsd2a', 'b4galt7', 'omp', 'calb2', 'chrne', 'hephl1', 'aoc3', 'epn3', 'znf497', 'ccl14', 'prr14l', 'ntrk2', 'faxdc2', 'serpinc1', 'grifin', 'mlx', 'vasn', 'nrn1', 'fbrs', 'cgnl1', 'psg7', 'tubal3', 'sypl2', 'nod2', 'c1ql1', 'fpr3', 'plaat1', 'ttc22', 'lrrc34', 'supt4h1', 'ttc23', 'srcap', 'hcn3', 'spata48', 'fgg', 'gabra6', 'bnc1', 'nudcd1', 'ppargc1b', 'nudt16l1', 'aff4', 'zswim7', 'p2rx7', 'rasd2', 'mfsd5', 'mri1', 'pigr', 'nop58', 'nlrp14', 'angptl7', 'trmt12', 'lrrc39', 'gcnt7', 'mbtd1', 'fech', 'krba1', 'cnfn', 'r3hdm4', 'nol8', 'gpr34', 'snx7', 'pdcd4', 'pigw', 's100a5', 'tet2', 'bsnd', 'plch1', 'parp8', 'wwc1', 'bend2', 'rgn', 'coq6', 'galnt6', 'kif18a', 'nsmce4a', 'usp39', 'dcst1', 'lrp2bp', 'cd82', 'atp5mc2', 'lsr', 'vcp', 'fam160a1', 'zcchc8', 'snx5', 'ebna1bp2', 'eif4e2', 'prkar2a', 'wnt3', 'cyp4f22', 'trim55', 'arsh', 'kctd21', 'eef1akmt2', 'crip2', 'upp2', 'nr6a1', 'robo3', 'pxdnl', 'acacb', 'clcc1', 'znf891', 'nfatc4', 'aste1', 'acoxl', 'cmtm5', 'per3', 'khk', 'dctpp1', 'chd5', 'znf620', 'slc2a4', 'pnpla6', 'cyp3a5', 'sftpa1', 'hepacam', 'ccdc93', 'rgs12', 'ddx60', 'ret', 'ywhab', 'dpysl2', 'fam53b', 'nacc1', 'adamts19', 'dgke', 'abca10', 'col4a2', 'sh3kbp1', 'eif4ebp3', 'apol6', 'sult1b1', 'ubald2', 'artn', 'commd10', 'bop1', 'cdk11a', 'gapdhs', 'fstl3', 'thbs1', 'eif4g1', 'siglec12', 'cfap77', 'cgn', 'exosc7', 'cyfip1', 'sgsh', 'trpm1', 'ptprn2', 'plod3', 'or4d10', 'cryzl1', 'c6orf62', 'cenpt', 'dlk2', 'znf592', 'iqsec2', 'znf766', 'acaca', 'etv4', 'rbm38', 'or4c13', 'mpz', 'usp19', 'lrp6', 'enpp4', 'ubqln1', 'plekhh3', 'slc66a1', 'doc2a', 'rcan3', 'sec14l4', 'anxa3', 'cyyr1', 'gnrh1', 'cysltr1', 'mapkapk2', 'exog', 'elp6', 'cxadr', 'actr10', 'dock6', 'vwa5b2', 'kcnh3', 'jtb', 'smad2', 'gpr107', 'mxd4', 'c1orf226', 'ccr6', 'scin', 'lamc3', 'acp5', 'nptxr', 'bmx', 'c20orf85', 'me3', 'gpr33', 'gls2', 'anxa6', 'tmod2', 'ghrh', 'hm13', 'retreg2', 'cdon', 'ubn1', 'ttc12', 'c3orf80', 'nnmt', 'znf438', 'cog8', 'lrrc74b', 'snrpd2', 'ehd2', 'c16orf91', 'astn2', 'ino80c', 'sox5', 'rabep2', 'gsdma', 'slc25a5', 'znf682', 'cdk14', 'napg', 'diras2', 'klf18', 'nudt11', 'prkra', 'tex49', 'prom1', 'hadhb', 'pigc', 'clpp', 'apol5', 'rftn1', 'ggt6', 'dnaaf3', 'ttbk2', 'tmem102', 'ndufb7', 'cacna1b', 'anhx', 'znf226', 'daam1', 'pafah1b1', 'snapin', 'abl2', 'abcb5', 'stx1a', 'zdhhc16', 'lrrc7', 'mgst3', 'znf655', 'slc6a19', 'babam1', 'taf11l14', 'vsig10l2', 'blacat1', 'sh3bgrl', 'eif3g', 'tspyl2', 'tmigd3', 'pdia5', 'hps3', 'tnfaip1', 'alkbh6', 'phka1', 'commd7', 'mchr2', 'dok6', 'ulk3', 'c17orf113', 'lrp12', 'tbx19', 'klhdc7b', 'c15orf61', 'csnk1g1', 'znf630', 'isg15', 'dnajc11', 'apobec1', 'idh3g', 'loxl2', 'eqtn', 'pidd1', 'tmem126b', 'arsb', 'eif4a3', 'gigyf1', 'kiaa0895', 'tas2r50', 'gcsam', 'nop16', 'fbxo17', 'il24', 'mtif3', 'trappc6b', 'tjp1', 'slc35g3', 'trappc8', 'gzmh', 'smim10l2a', 'c17orf64', 'cnot6', 'zw10', 'enpp7', 'sema5b', 'chst9', 'ralbp1', 'nipsnap2', 'mybphl', 'pigm', 'ocrl', 'zc3h12d', 'il16', 'camk2d', 'man2b1', 'fyco1', 'nkpd1', 'sema4d', 'ctcfl', 'pcdhgb6', 'kcnu1', 'cenpp', 'sytl2', 'znf778', 'lrit1', 'ptchd4', 'pcdh8', 'fndc4', 'pklr', 'kcnj14', 'cul9', 'agtpbp1', 'tk1', 'bsn', 'sparcl1', 'foxn4', 'poglut2', 'setd7', 'slc5a4', 'mfsd2b', 'ca5a', 'ndufs4', 'rab40c', 'dcst2', 'dph3', 'srek1ip1', 'minar2', 'plek2', 'csde1', 'mgat5b', 'mt-nd5', 'pdia6', 'opcml', 'asphd1', 'ifngr2', 'c19orf67', 'foxe3', 'gpr162', 'lrrc70', 'mns1', 'hoxd11', 'ppm1k', 'gsap', 'ep400', 'kiaa0319l', 'tex13d', 'avpi1', 'lima1', 'grk7', 'sowaha', 'pcdhb4', 'scx', 'gcm1', 'emc10', 'pde12', 'dmrt3', 'trib2', 'ranbp3l', 'c1orf141', 'plac9', 'tob2', 'tsnaxip1', 'znf222', 'lrrc2', 'cog4', 'sik3', 'tma7', 'gdf3', 'enkd1', 'vangl1', 'pcdha9', 'nicn1', 'dcakd', 'arfgef2', 'usp45', 'dnmbp', 'ppp5c', 'prorp', 'doc2b', 'ms4a18', 'tle3', 'mtfr2', 'entpd1', 'slf2', 'pip4k2b', 'tmem65', 'gjb6', 'card9', 'cdk16', 'vps16', 'snrnp40', 'sfrp2', 'erlin2', 'cxcl2', 'abhd16a', 'penk', 'plag1', 'acyp1', 'hnmt', 'c15orf65', 'exoc6b', 'fxyd5', 'eya1', 'npy5r', 'mutyh', 'c1orf185', 'rdh16', 'apaf1', 'slc17a2', 'calcr', 'mterf4', 'ulk2', 'slc66a3', 'nme1', 'rnf207', 'triml1', 'ubap1', 'gnptab', 'fer1l6', 'kcnk13', 'prpf8', 'exoc7', 'ppp1r15a', 'vwa1', 'phyhd1', 'ankrd55', 'a2ml1', 'tmlhe', 'ccdc88a', 'rbm4b', 'sh2d1a', 'cygb', 'pgm3', 'cenpx', 'znf17', 'tfe3', 'lypd4', 'mical2', 'glt1d1', 'dph1', 'mppe1', 'itga9', 'dmrtc2', 'rnf13', 'tectb', 'ralgps1', 'cap2', 'popdc3', 'rad51b', 'cdh6', 'pter', 'clasp1', 'ehbp1', 'oxnad1', 'acox2', 'actrt3', 'c3orf70', 'gdpd1', 'ecpas', 'cfap53', 'ttpa', 'stx10', 'gzf1', 'plgrkt', 'tex50', 'lonrf1', 'spem1', 'cyp4f11', 'adcyap1r1', 'acy1', 'mtch2', 'trnp1', 'psmb4', 'rbl1', 'gpbar1', 'dazap2', 'nhp2', 'strada', 'exoc1l', 'znf347', 'zbtb9', 'ankrd39', 'znf718', 'c22orf39', 'dock10', 'c20orf141', 'c9orf50', 'tie1', 'tmeff2', 'filip1l', 'c12orf57', 'lrrc37b', 'apeh', 'slc9c1', 'kifap3', 'c12orf4', 'slc16a11', 'clca4', 'sf3b4', 'or6b2', 'terf1', 'pax5', 'zzef1', 'znf501', 'onecut1', 'sytl4', 'nrgn', 'ltbr', 'tifab', 'hnrnpll', 'syt12', 'gab1', 'tmem237', 'sap130', 'rab29', 'csnk1g2', 'rasl10a', 'arl16', 'amy2a', 'st7l', 'ccdc32', 'insyn1', 'timp2', 'hus1', 'wapl', 'hnf4g', 'c10orf99', 'or2c3', 'spcs3', 'ank1', 'lgr4', 'card10', 'lin7b', 'myd88', 'majin', 'adgrg7', 'tmem9b', 'scn4a', 'tmprss3', 'myo18a', 'uqcc2', 'psmb7', 'pdzrn4', 'pcdh17', 'rsl24d1', 'lrrn4cl', 'pip5k1a', 'pdcd6', 'drd4', 'tctn2', 'prox2', 'znf136', 'myo18b', 'blvra', 'cpn1', 'znf431', 'lhx9', 'gad1', 'mlxip', 'klhl35', 'zfhx3', 'anp32b', 'awat2', 'ifna6', 'klhl20', 'znf567', 'sft2d1', 'fignl1', 'wdr37', 'traf4', 'bend3', 'pmm1', 'znf700', 'det1', 'cysltr2', 'fam169a', 'bag6', 'pcdh18', 'garnl3', 'tgfb1i1', 'inppl1', 'sh3pxd2b', 'rad9b', 'arhgef18', 'gfm2', 'ccl25', 'adirf', 'wdr62', 'zic1', 'ttc24', 'nos1ap', 'entpd5', 'kcnmb4', 'lax1', 'haus3', 'mnd1', 'foxk1', 'stil', 'serf2', 'pdlim1', 'pear1', 'greb1l', 'kcnb1', 'itgb8', 'gipr', 'gbf1', 'dcaf8l1', 'clec10a', 'usp38', 'ccl3', 'zmym1', 'sp3', 'ing2', 'arhgap11b', 'thoc1', 'klhl21', 'ikbip', 'nars2', 'or9q1', 'cachd1', 'kif27', 'larp6', 'aqp12a', 'ano6', 'isca2', 'il23r', 'slc2a9', 'ly75', 'resf1', 'rprml', 'abcc3', 'med25', 'shank2', 'elavl4', 'st3gal1', 'hcrtr2', 'ddias', 'tmem97', 'dmrtb1', 'uimc1', 'pomgnt2', 'fah', 'znf391', 'mff', 'zg16', 'igfbp2', 'ddx6', 'slc13a5', 'znf224', 'zfhx2', 'rbmx2', 'knop1', 'enpp2', 'cacng7', 'tnks2', 'c7', 'ptx3', 'nipa2', 'mmp3', 'arl4d', 'ndufb8', 'glp1r', 'spag9', 'znf813', 'myo1b', 'znf676', 'cmtm4', 'atp8b2', 'kcnk4', 'agr2', 'tmem140', 'znf251', 'hes4', 'fgf8', 'p4htm', 'csnk1a1', 'c1ql4', 'chst1', 'lamtor5', 'psmb2', 'plat', 'cstb', 'ptges', 'prr29', 'ubtd2', 'ptger3', 'ankrd7', 'ctla4', 'tubgcp5', 'emp1', 'syn1', 'rtkn2', 'tbrg1', 'rrp1b', 'srgap1', 'akr1c2', 'eddm3a', 'plxnb2', 'tlr6', 'c8orf76', 'znf22', 'lmx1a', 'cebpzos', 'kctd18', 'rell2', 'pkm', 'polr2d', 'furin', 'cul2', 'cep128', 'mvk', 'prpf4', 'rab36', 'mtx2', 'c1orf216', 'taldo1', 'nt5c1b', 'emp2', 'senp7', 'slc9a3r1', 'znf540', 'clmp', 'mmp20', 'toe1', 'ctif', 'izumo2', 'slc35g5', 'pecam1', 'dgkz', 'cep192', 'etfbkmt', 'msx2', 'ccser1', 'orc6', 'nexn', 'mycbp', 'fam133b', 'rft1', 'pianp', 'me2', 'zfyve27', 'plod2', 'cdh10', 'rhd', 'acin1', 'fut6', 'nt5dc1', 'st6gal1', 'csnk2a1', 'pde3b', 'cisd2', 'fam219b', 'anos1', 'steap4', 'cntnap3b', 'rspo3', 'pdc', 'bbs7', 'naa60', 'cyp19a1', 'sin3a', 'pdilt', 'cdkl4', 'tmprss12', 'snrpc', 'wnt5b', 'or10g2', 'ripply2', 'macc1', 'dpm3', 'tgm2', 'pak2', 'orai2', 'pphln1', 'st14', 'c12orf40', 'crb2', 'fam120c', 'trim47', 'nlrp11', 'znrf3', 'slx4', 'ffar4', 'tex19', 'taf6l', 'cyb5d1', 'cfap61', 'mdn1', 'sstr5', 'wdpcp', 'pak4', 'mtus1', 'nme8', 'osr2', 'kif5a', 'ntn4', 'foxa1', 'adamts7', 'serpina1', 'kat6b', 'pias2', 'ankrd35', 'med16', 'asf1a', 'tbx3', 'irf9', 'cdk2ap1', 'zp1', 'eri1', 'foxq1', 'spata31a1', 'tmem262', 'eml2', 'krtap13-4', 'morc1', 'slc26a6', 'ptprq', 'crybb1', 'hspa5', 'gpbp1', 'gsdmb', 'ccdc28a', 'dnase2', 'pcp4l1', 'kmt2b', 'znf677', 'hnrnpl', 'nuak2', 'papola', 'tom1l1', 'pip4p2', 'insl6', 'mtif2', 'hnf1b', 'morf4l1', 'bmp8b', 'stard3', 'nod1', 'tyw5', 'gatc', 'slc12a7', 'hsph1', 'trim35', 'setd4', 'cspp1', 'chrm1', 'n4bp2l2', 'paep', 'aox1', 'sestd1', 'mgat4d', 'ssbp2', 'ppm1h', 'ctxn2', 'tmem255b', 'dnajc28', 'lenep', 'npepps', 'ankub1', 'pou5f1b', 'dhrs3', 'znf621', 'or5a1', 'elf5', 'larp1', 'angpt4', 'stau1', 'cyp17a1', 'dgcr8', 'rrm2', 'tnfsf10', 'csf1', 'rtbdn', 'auts2', 'klf14', 'ppp2r2a', 'nxph3', 'slco4c1', 'kl', 'sco2', 'irf2', 'amph', 'agtr2', 'cfap221', 'col6a6', 'plekha7', 'nrcam', 'rab40b', 'lrrc9', 'invs', 'syp', 'primpol', 'lat2', 'ccdc191', 'dbf4', 'dnah6', 'rasgrp4', 'ddn', 'hsd17b8', 'fam110d', 'baiap2', 'hsf4', 'p3h1', 'taok3', 'brcc3', 'cfap52', 'il20ra', 'tinag', 'spats2', 'ccr3', 'zcchc18', 'hemgn', 'cage1', 'kiaa1522', 'cntn1', 'krtap4-16', 'sirt3', 'cd44', 'gjb7', 'asph', 'fam221a', 'cep112', 'dusp3', 'hnrnpa0', 'efcab9', 'anapc4', 'abcf3', 'tapbpl', 'fcgr1a', 'fam78a', 'trappc12', 'cstf3', 'fkbp11', 'klhl14', 'pop4', 'stpg1', 'ptpn3', 'six3', 'znf724', 'krt13', 'rpusd1', 'sbds', 'fgf17', 'kcnn2', 'klhl4', 'ccl8', 'tssk1b', 'znf75a', 'tmem108', 'sycp2l', 'smg8', 'gstm3', 'map3k19', 'med19', 'svil', 'trmt10b', 'resp18', 'eps8l2', 'mzf1', 'vps26b', 'cited2', 'klc2', 'znf420', 'ttc37', 'rtn3', 'ap4m1', 'gpalpp1', 'siah3', 'asic2', 'rxfp4', 'ankrd61', 'fam114a1', 'mreg', 'psd2', 'tcp1', 'gpr88', 'azin1', 'gpr150', 'anxa1', 'gdf10', 'camsap3', 'hexim1', 'cdx4', 'crym', 'tti1', 'fbxo5', 'plrg1', 'rangap1', 'ppp1r16b', 'znf214', 'c2orf16', 'baz1b', 'ppa1', 'cr1l', 'cd276', 'gng11', 'rsph10b2', 'syt4', 'wdr83', 'nenf', 'nab1', 'calca', 'fam118b', 'plxnb1', 'cx3cr1', 'tmed10', 'fam83h', 'mybpc2', 'setd1a', 'c3orf20', 'mt-nd4', 'cdk1', 'selenon', 'tap2', 'foxo6', 'smg5', 'oprpn', 'mepce', 'snx32', 'tgm6', 'sfswap', 'tfpi2', 'clcn5', 'pdzd11', 'ldb3', 'tbc1d30', 'sugp2', 'sp1', 'acbd3', 'pax3', 'znf155', 'htr1e', 'c1orf127', 'col10a1', 'or5d3p', 'moap1', 'znf99', 'wfdc8', 'hdac3', 'cetp', 'hps4', 'she', 'vwa3b', 'prpf39', 'gnrhr', 'blmh', 'hnrnph2', 'atp10b', 'tpcn1', 'lbx2', 'agbl3', 'fgfrl1', 'surf6', 'znf248', 'crtc3', 'pilrb', 'grb2', 'or5k1', 'slc51b', 'dnajc5g', 'gpr89b', 'enox1', 'rab5c', 'mettl26', 'dsc1', 'cep85l', 'ankrd66', 'slc35g2', 'krt10', 'slc25a24', 'epyc', 'efcab14', 'ganc', 'pla2g2c', 'asb5', 'psmc2', 'appbp2', 'pard3', 'ccdc174', 'calhm6', 'sppl2b', 'trpm4', 'ccm2l', 'krtap7-1', 'rfk', 'zdhhc24', 'krt79', 'cab39', 'kti12', 'ralgds', 'elmod1', 'ndufb4', 'dnajc16', 'pxmp4', 'c9orf85', 'disc1', 'glt8d1', 'plekhm1', 'tbl1xr1', 'ripor3', 'gpr158', 'sgca', 'cpne4', 'sit1', 'hace1', 'ifitm5', 'taf11l11', 'znf469', 'coa7', 'mast2', 'kcnf1', 'pde6a', 'pla2g7', 'hmx3', 'vopp1', 'nrtn', 'chst15', 'emilin3', 'tfrc', 'rab11fip3', 'znfx1', 'orai1', 'uqcrh', 'itgb1bp1', 'chst13', 'glmn', 'hsd17b4', 'pum2', 'c1orf167', 'bloc1s3', 'kirrel1', 'rcn3', 'pcbd2', 'lrrc73', 'actn1', 'alg11', 'api5', 'rfpl1', 'herpud1', 'mrln', 'nit2', 'slc2a2', 'nupr1', 'lars2', 'rarres1', 'wnt10b', 'plekhg1', 'zp2', 'niban3', 'mmp24os', 'erp44', 'tvp23c', 'peg10', 'dnajc7', 'clec3a', 'kansl1l', 'tnfaip6', 'cacng3', 'col9a2', 'kcnc4', 'smpd1', 'hlf', 'rnase6', 'selenok', 'zkscan7', 'tctn1', 'dhx34', 'usp41', 'dyrk4', 'mbd4', 'wdr61', 'tert', 'slc13a1', 'epas1', 'atf2', 'psg9', 'leng1', 'slc10a7', 'tmem190', 'pmel', 'znf451', 'dolpp1', 'kcnh4', 'klk13', 'rbm44', 'znf841', 'tnnc2', 'serpinf1', 'psd3', 'mtr', 'asap1', 'csk', 'htr3c', 'atp13a1', 'ccl2', 'mpc1l', 'tspan16', 'ap3b2', 'rhpn1', 'lig1', 'grm1', 'fgfr1', 'cmklr1', 'acot11', 'rere', 'chd1', 'insig2', 'mbnl1', 'shisa5', 'myot', 'hook1', 'xpot', 'mocs2', 'c16orf71', 'ankrd2', 'tubg2', 'wdr83os', 'comp', 'igsf5', 'vgll2', 'dlgap4', 'znf580', 'kcnj4', 'ccdc40', 'prkar1a', 'men1', 'opn5', 'otud6b', 'sgf29', 'ankrd11', 'kcnd1', 'krt75', 'prrg3', 'e2f7', 'tepp', 'aktip', 'slc19a3', 'c11orf21', 'kdelr3', 'gpr27', 'gcsaml', 'ppp1r21', 'lamtor4', 'tnr', 'kat5', 'jsrp1', 'wdr4', 'pkp3', 'lamb2', 'robo4', 'ventx', 'c15orf40', 'rcn1', 'trmt13', 'dcaf12', 'prelid3a', 'rabgap1l', 'rnf146', 'clstn3', 'dgkh', 'sf3a3', 'msantd2', 'mettl15', 'adgrb2', 'nmnat2', 'gpx4', 'etv6', 'ets1', 'smc1a', 'usp9x', 'slc27a2', 'slc25a11', 'dnd1', 'tceal6', 'grin3a', 'mapk11', 'krt8', 'ipcef1', 'tpmt', 'golgb1', 'pgap1', 'chpf2', 'insm2', 'dhx29', 'erich3', 'ctsw', 'omg', 'yjefn3', 'fmr1', 'smim31', 'ptges2', 'gltpd2', 'rgs13', 'hoxb2', 'erich1', 'exoc3l1', 'kif11', 'pdlim4', 'nudt22', 'psma7', 'fam20c', 'ptprg', 'nudt16', 'apoh', 'golga7', 'or52n1', 'kat8', 'washc3', 'vps4a', 'fkbp6', 'rhobtb2', 'cfap54', 'rhoxf1', 'slc16a14', 'nup153', 'abcb1', 'mocs1', 'e2f8', 'atad3a', 'cript', 'ubqlnl', 'cdca4', 'kiaa0895l', 'acp6', 'armc8', 'ssh3', 'zar1l', 'tafa3', 'ints12', 'npvf', 'mogat2', 'chchd6', 'c9', 'hbq1', 'nfyb', 'zfat', 'wnt9a', 'nfam1', 'fbxo27', 'kcnip3', 'elk3', 'rsph14', 'snx31', 'trim69', 'kif2c', 'cxcl9', 'rab3b', 'luzp2', 'lalba', 'fdps', 'tigd1', 'cwc27', 'idh3a', 'foxd3', 'ric1', 'ddx49', 'phf20', 'cnnm4', 'arpc1a', 'c19orf47', 'sdha', 'tpst1', 'mt1g', 'tap1', 'adh4', 'nde1', 'saal1', 'arv1', 'adh1c', 'tmem247', 'slc43a1', 'gzmk', 'yes1', 'sv2a', 'syce2', 'spata31d3', 'ska2', 'akr1b1', 'siglec15', 'lpl', 'fam76b', 'cln5', 'ajuba', 'rexo4', 'zkscan8', 'eya4', 'gnb2', 'nanos2', 'sf3a1', 'flvcr1', 'cckar', 'tfap2a', 'ttll11', 'ophn1', 'bid', 'c1orf87', 'cd8b2', 'adig', 'galnt9', 'pim1', 'fam81b', 'ccdc80', 'ndufaf6', 'lcor', 'taf4', 'ube2g2', 'aacs', 'ifi44', 'got1l1', 'znf555', 'znf562', 'sprr2f', 'tmx4', 'lcn15', 'rhno1', 'aldh9a1', 'inhbe', 'lmf2', 'hoxa2', 'mak', 'tusc1', 'nxpe3', 'wnt4', 'pum3', 'pgk2', 'jhy', 'porcn', 'trmt1', 'vsig10', 'inafm2', 'coq9', 'amn1', 'chrnb1', 'jmjd6', 'upf1', 'prmt9', 'xcl1', 'ankhd1', 'chac1', 'ctag2', 'sorcs1', 'or4d9', 'trim64c', 'snrpe', 'asphd2', 'scaf11', 'gpx2', 'gtf2a2', 'znf585a', 'si', 'fam240c', 'nr2c2', 'p2ry14', 'spsb4', 'kif12', 'lbh', 'sptan1', 'nme6', 'olfml3', 'b3gntl1', 'zc3h4', 'sox7', 'inpp5b', 'piwil3', 'hcfc1', 'grn', 'gimap7', 'znf577', 'zc3h15', 'adrb1', 'ism1', 'fbxw11', 'znf518b', 'myrfl', 'rhoq', 'fam167b', 'kcna3', 'gpat2', 'ndufaf2', 'dis3l2', 'plbd1', 'abcb4', 'ntng2', 'mt-cyb', 'ins', 'atat1', 'zscan26', 'gsc', 'usp11', 'slc22a3', 'fbxo24', 'nectin2', 'golga8b', 'rit1', 'zmat2', 'adamtsl5', 'tldc2', 'prpsap1', 'sh3yl1', 'rpusd3', 'c2', 'arid3a', 'rab23', 'enpep', 'usp34', 'dusp16', 'lcn6', 'arhgef26', 'sap25', 'mlh1', 'prf1', 'trim3', 'plaat5', 'c12orf43', 'lmbrd1', 'radil', 'abhd14b', 'ier3', 'tmem259', 'glrx3', 'oosp3', 'clul1', 'tomm5', 'mtrr', 'smim32', 'casp10', 'ervk3-1', 'saxo2', 'slc22a2', 'pheta2', 'acsl4', 'sema3f', 'rnf217', 'actl6b', 'xrn2', 'eomes', 'wdr13', 'atp1b1', 'cftr', 'gsr', 'crem', 'rap1a', 'rnf122', 'fgd4', 'abhd2', 'grik3', 'znf804b', 'adipoq', 'mpp3', 'pcdha7', 'arhgef7', 'znf843', 'letmd1', 'farsb', 'foxh1', 'aup1', 'npy2r', 'adprhl1', 'terf2', 'c6orf58', 'nim1k', 'slc45a3', 'vmac', 'fam43a', 'hbm', 'neu4', 'hsd17b2', 'rnaseh2a', 'p4hb', 'ttc4', 'casz1', 'entr1', 'ajm1', 'ppia', 'corin', 'ofd1', 'agl', 'sdccag8', 'c4orf46', 'shisa2', 'nkain3', 'lipj', 'numa1', 'psmc5', 'pappa', 'tuba4b', 'hivep2', 'taf11l13', 'ngrn', 'cpm', 'med23', 'top3a', 'etv2', 'ccnd3', 'dctn2', 'nat2', 'nfxl1', 'or2aj1', 'spryd3', 'or4c12', 'cldn14', 'or6b1', 'g0s2', 'bcl9', 'peak3', 'frmpd3', 'tprg1', 'nmt2', 'cntn2', 'kifc2', 'klk1', 'zbtb17', 'dcdc2', 'serhl2', 'plb1', 'usp32', 'cand2', 'cadps', 'ceacam19', 'fam71f1', 'prss51', 'cbfa2t2', 'anp32e', 'znf14', 'cdk11b', 'znf3', 'pigf', 'sesn1', 'inpp5d', 'tinagl1', 'slc25a31', 'psma1', 'il10', 'slc22a1', 'tmem11', 'tcap', 'stxbp2', 'otos', 'ankrd27', 'lrrc41', 'zranb3', 'cyb5r4', 'or1k1', 'tcf7', 'cxcl11', 'col3a1', 'sh2d4a', 'apex2', 'magef1', 'rnd3', 'stk25', 'znf77', 'mdga1', 'nsf', 'wscd1', 'churc1', 'naa30', 'dpep2nb', 'mxi1', 'slc22a17', 'atf6b', 'dpagt1', 'rhcg', 'c7orf57', 'or2ag2', 'relch', 'itfg2', 'wnt6', 'prickle2', 'madd', 'ccdc194', 'apol2', 'afap1l2', 'gjb5', 'nop14', 'tube1', 'fxyd1', 'best1', 'myl9', 'fiz1', 'ccr10', 'scamp2', 'skor1', 'fut10', 'miga1', 'trim41', 'uqcc3', 'ppp1r1c', 'lifr', 'mlkl', 'apobec3a', 'bspry', 'ffar1', 'tgfbr3l', 'mefv', 'gxylt1', 'zkscan2', 'mdga2', 'znf573', 'ssu72', 'itpr1', 'bdp1', 'tpsd1', 'bcl2l10', 'scgb2b2', 'nxf3', 'pcdhb12', 'prss38', 'parp3', 'hoxd9', 'hectd4', 'ccl4', 'mtap', 'tor2a', 'fam104b', 'stard7', 'eef1g', 'dhx30', 'sqle', 'arhgap39', 'ankrd13a', 'pola2', 'tacc2', 'slc2a8', 'acadvl', 'usp17l1', 'fam83c', 'matn3', 'marveld3', 'esx1', 'prss58', 'krtap17-1', 'cyp4b1', 'dock2', 'traf1', 'eml1', 'oip5', 'commd1', 'mybph', 'eci1', 'jcad', 'eno2', 'cdk7', 'lipg', 'znf260', 'ckm', 'asb11', 'phf11', 'nup62cl', 'habp2', 'rab8b', 'plscr3', 'klf13', 'rragd', 'dpp3', 'thegl', 'spred1', 'catsper4', 'rab26', 'tnfrsf13c', 'nr2f1', 'krtap5-1', 'rmnd5a', 'ptpmt1', 'cfap126', 'gramd1b', 'inava', 'cep290', 'galnt13', 'tpr', 'brd9', 'etf1', 'commd5', 'fbxo42', 'znf394', 'znf221', 'actl8', 'bmper', 'ipo9', 'add2', 'rgpd3', 'crip3', 'tiam2', 'smchd1', 'gnl2', 'lurap1l', 'vsig2', 'spint2', 'dele1', 'poll', 'brd7', 'emg1', 'defb119', 'map3k2', 'acmsd', 'rab4b', 'or8s1', 'rbm14', 'gna13', 'batf3', 'slc5a6', 'epc1', 'nr4a1', 'ugt2b28', 'krtap15-1', 'twist1', 'pkn3', 'rnf157', 'mtres1', 'znf33a', 'sppl2c', 'efhd2', 'dph6', 'arhgap31', 'znf703', 'ubald1', 'scarb2', 'fam170b', 'ctnnd2', 'pcdh1', 'hpcal1', 'ncald', 'atn1', 'tbc1d4', 'stab1', 'pdpn', 'klf5', 'dctn3', 'pabpc3', 'topors', 'itpr2', 'trappc6a', 'taf11', 'spc24', 'cr1', 'or5t1', 'psmg1', 'psmd12', 'nkg7', 'golga5', 'csnk1e', 'smarce1', 'eif2ak2', 'pf4v1', 'susd3', 'sp5', 'pot1', 'lipt1', 'top2a', 'nrsn2', 'or8h2', 'igsf6', 'nppa', 'kirrel3', 'col14a1', 'tmem250', 'chrm2', 'pcnx3', 'krtap21-1', 'man2b2', 'gabra2', 'tspan33', 'prelp', 'slc39a8', 'ufsp1', 'chm', 'ndufs6', 'sertad4', 'sipa1l2', 'cacng6', 'hrh4', 'ucn', 'akap7', 'eif2ak3', 'foxd2', 'tmed5', 'atp6v1g2', 'cdkn2aip', 'cyb561d1', 'pbov1', 'pdf', 'bag2', 'traf5', 'vcpip1', 'c17orf100', 'tmem92', 'tut4', 'lingo4', 'eya2', 'or5m8', 'esco2', 'armc1', 'pax6', 'lnx2', 'paxbp1', 'calhm2', 'cldn19', 'ifit1b', 'pdcd10', 'pxmp2', 'nuf2', 'prss55', 'ntng1', 'noc3l', 'hnrnpa3', 'cycs', 'col4a4', 'iqcj', 'c9orf153', 'ctsg', 'zscan12', 'eif6', 'rasal1', 'tmem64', 'serpina4', 'syt9', 'tigit', 'unc45a', 'vps4b', 'slc17a4', 'plekha6', 'relt', 'sec16a', 'gbp6', 'mtmr4', 'suclg1', 'kcnmb1', 'c16orf87', 'kdm6a', 'pabpc1l2a', 'gpr45', 'bysl', 'sumf2', 'btbd11', 'gopc', 'rnf4', 'rufy4', 'dcun1d4', 'pm20d1', 'rfpl4al1', 'serpinb8', 'bnip3l', 'irgc', 'mterf3', 'ikzf5', 'mroh7', 'gaa', 'efcab7', 'tac3', 'adal', 'apbb1', 'adat1', 'tbxt', 'cdsn', 'or8b4', 'cnmd', 'slc36a4', 'egr1', 'ago1', 'itga5', 'oaz1', 'wrn', 'il17rc', 'dcaf13', 'ptk6', 'hadha', 'ly86', 'luc7l2', 'pdcd1', 'rad18', 'zc2hc1b', 'fibp', 'ifnlr1', 'sh3tc1', 'shpk', 'kif26b', 'serac1', 'kcnv1', 'slc8b1', 'tmsb4x', 'gemin5', 'pfdn4', 'dnttip1', 'tmod3', 'ppp1r13l', 'krtap19-3', 'fam171a1', 'hspb2', 'nphp4', 'slc24a2', 'dgcr2', 'fbxo43', 'or8j1', 'socs6', 'eppin', 'rundc3b', 'nkd1', 'pcdhga6', 'sgms1', 'hdgf', 'sgtb', 'dcbld2', 'prrx2', 'slc39a9', 'slc9a2', 'otol1', 'tysnd1', 'pign', 'smndc1', 'il2', 'tmem132c', 'oplah', 'fbxw8', 'fam32a', 'c4orf54', 'mark3', 'ubl7', 'neurl4', 'ppard', 'osgepl1', 'faap24', 'defb135', 'csf1r', 'slc28a1', 'abtb1', 'dpep3', 'lratd1', 'fig4', 'irs2', 'wdr6', 'xpc', 'c20orf96', 'ct83', 'nsun6', 'pask', 'pdlim7', 'il36b', 'xkr3', 'abhd18', 'spire1', 'pusl1', 'fev', 'rogdi', 'tmem263', 'slc36a2', 'tpd52l2', 'syt5', 'tmem69', 'vps41', 'st3gal2', 'znf398', 'cwf19l2', 'oxgr1', 'utp20', 'pcdhga12', 'nrg4', 'ralgapa1', 'mcc', 'ctnna1', 'zhx1', 'pdss1', 'myzap', 'hoxc12', 'b4galnt2', 'tmem158', 'uba5', 'tnk2', 'hoxa7', 'exoc8', 'lipc', 'tmed7', 'ppp1r14b', 'drc1', 'kng1', 'nmt1', 'crtc1', 'eif4enif1', 'mecom', 'armc10', 'phlda2', 'cbll1', 'pfkp', 'agbl4', 'slc6a8', 'sirpa', 'sphk2', 'ctnna2', 'bmpr2', 'ppp2r3a', 'glra3', 'hs3st5', 'galr3', 'lair2', 'nfkbiz', 'amacr', 'dtx3l', 'ccdc102b', 'sec14l6', 'glipr2', 'gprasp1', 'mcm10', 'lce2b', 'acaa1', 'slc66a2', 'krtap19-8', 'osbpl10', 'trappc4', 'btn2a1', 'atg4c', 'c4orf47', 'gldc', 'rrp8', 'tvp23a', 'pebp1', 'acsf2', 'ubxn2a', 'fcho2', 'znf696', 'shcbp1l', 'sct', 'krbox1', 'smim38', 'or2c1', 'alg8', 'csf3', 'ccdc87', 'magi2', 'cacng2', 'or9k2', 'mpdu1', 'cbx4', 'tmem240', 'ift122', 'art5', 's1pr3', 'mansc1', 'tuba1c', 'hs3st3b1', 'syt8', 'tmed1', 'enkur', 'carmil3', 'psma8', 'erfl', 'rab11fip2', 'chchd3', 'htr2c', 'gkn2', 'hoxb9', 'ccdc189', 'hmhb1', 'slc30a3', 'atraid', 'dcaf7', 'tm4sf4', 'tmem63c', 'nfkbil1', 'aaas', 'fkbp5', 'znf653', 'ppfia4', 'qrfpr', 'mss51', 'pmp22', 'rab3gap1', 'irs4', 'ttc1', 'cadm2', 'cd226', 'rxrg', 'lhfpl2', 'trappc5', 'shmt2', 'cldn34', 'wdr87', 'golga2', 'efnb2', 'pus7l', 'anks3', 'gtpbp4', 'fstl4', 'phldb1', 'palm', 'vpreb3', 'ciz1', 'lca5l', 'bicc1', 'grip2', 'c1galt1', 'clec1a', 'asap2', 'ca5b', 'znf740', 'clcn7', 'il17a', 'cd1e', 'ly9', 'hoxd8', 'cpxcr1', 'lix1l', 'fam50b', 'zfx', 'dnajc21', 'strc', 'spart', 'arl6ip4', 'tmsb15a', 'c7orf31', 'zwint', 'psenen', 'cdh18', 'c2orf78', 'cdc5l', 'pkd1l1', 'aff3', 'kyat3', 'sult2a1', 'ptbp2', 'magel2', 'tmem50b', 'pnkd', 'cpz', 'zpld1', 'vwc2', 'ano10', 'sar1a', 'smim35', 'hoxc9', 'zyg11a', 'rpap2', 'ubxn4', 'trub2', 'wdr24', 'ctnnbip1', 'arl5b', 'fam209b', 's100pbp', 'fbxo10', 'tecta', 'nedd4', 'crispld2', 'mpv17l2', 'znf175', 'icmt', 'hs1bp3', 'rasgef1b', 'map3k11', 'fsd2', 'samd7', 'thsd1', 'spindoc', 'arrdc4', 'med18', 'etnk1', 'eif3d', 'psmd2', 'daam2', 'gpr87', 'dytn', 'klb', 'tmem229b', 'rngtt', 'g6pc2', 'wdr47', 'borcs6', 'pdk1', 'mettl4', 'vps26a', 'rsl1d1', 'wnt9b', 'mt-co3', 'pikfyve', 'dnase1l2', 'eml4', 'adcy3', 'hoxa6', 'mapk8ip2', 'cdk12', 'cxcl3', 'dynlrb1', 'rel', 'ubtf', 'zmat3', 'snx10', 'gmpr2', 'cir1', 'gak', 'cdc20', 'igsf8', 'zeb1', 'igsf9b', 'itgb6', 'kifc3', 'thbs2', 'cryba4', 'vwc2l', 'fgf1', 'sptlc2', 'itpripl1', 'ccnb1', 'nckap1', 'acadm', 'mcm4', 'gpi', 'gan', 'fam131b', 'uqcrfs1', 'chi3l1', 'egr4', 'rgs10', 'fmo3', 'mettl21c', 'fbxo16', 'has3', 'crygc', 'slc25a17', 'ppp1r3e', 'rdh13', 'vamp3', 'ggcx', 'aarsd1', 'clca1', 'fcamr', 'gjd2', 'asrgl1', 'wdr45', 'rtraf', 'igsf1', 'med9', 'arg1', 'c8a', 'eif5', 'dgkd', 'triml2', 'mdm4', 'rhob', 'cgas', 'naa40', 'map3k12', 'krtap11-1', 'shf', 'dusp14', 'znf121', 'aqp7', 'pla2g2d', 'lvrn', 'rack1', 'triqk', 'c9orf116', 'selenoh', 'dgki', 'samd11', 'amelx', 'znf16', 'rpap3', 'nab2', 'e2f6', 'scn10a', 'plek', 'slc9a4', 'plpp2', 'usp36', 'slit2', 'pex10', 'pcdhb16', 'malrd1', 'crnn', 'thbs3', 'brd8', 'foxd1', 'acap2', 'spata2', 'sowahd', 'aqp4', 'klhdc7a', 'c5orf52', 'dpysl5', 'st6galnac1', 'malt1', 'ccdc149', 'cxcl14', 'zic5', 'gabrb2', 'fbxo45', 'commd4', 'thap9', 'agmo', 'tcaf1', 'znf292', 'epb42', 'kera', 'gnrh2', 'sun1', 'anks6', 'krtap12-1', 'jdp2', 'mettl23', 'arhgap24', 'cd248', 'plekhg5', 'gpn3', 'pskh1', 'spen', 'ash1l', 'asb2', 'mlec', 'pou2f2', 'amotl1', 'gtf2h5', 'wnt8b', 'rorc', 'eloc', 'potem', 'tgfbr2', 'akt1s1', 'parva', 'tarbp2', 'gins4', 'nrdc', 'sstr1', 'vegfa', 'sbno1', 'mpzl1', 'ap1s3', 'epgn', 'dennd3', 'spatc1l', 'znf618', 'insr', 'sh2d6', 'zup1', 'trpm6', 'sstr2', 'atp8b1', 'ccdc163', 'prmt2', 'arhgef12', 'slc25a27', 'thg1l', 'rpp30', 'trim34', 'sptb', 'tmem81', 'pld6', 'adamts10', 'snrk', 'hadh', 'cxcr6', 'znf692', 'c1qtnf2', 'sergef', 'or52l1', 'enoph1', 'mybpc3', 'kcnh8', 'tmigd1', 'pttg1ip', 'samd4b', 'vgf', 'foxl1', 'ttll12', 'drosha', 'ntn1', 'c2orf66', 'itga1', 'cd79b', 'tlk2', 'rab2a', 'otogl', 'apobr', 'srm', 'epm2a', 'c3orf52', 'rab6a', 'chd4', 'atp9b', 'krtap13-3', 'dll1', 'fgfr2', 'fosl2', 'alg14', 'msi2', 'hsfx3', 'ier5', 'gria3', 'pafah1b3', 'fpgt', 'eif2b4', 'sult1c3', 'c2cd2', 'gtf2f1', 'nutf2', 'ago3', 'tsn', 'ccn6', 'tspan12', 'arfgap1', 'il10rb', 'ufm1', 'pgbd1', 'colec11', 'ptch1', 'chrnb4', 'lats2', 'plekhn1', 'znf844', 'il1r1', 'stk24', 'nckap5l', 'relb', 'cdhr4', 'ube2j2', 'stau2', 'efs', 'grin3b', 'dync1li2', 'ppp1r3b', 'znf362', 'tubd1', 'ffar3', 'alg5', 'cyp39a1', 'senp6', 'pccb', 'angel2', 'bmp1', 'fgf23', 'ppp2r2b', 'cnn2', 'dcaf5', 'zscan25', 'rnf130', 'asip', 'irak2', 'hes5', 'ip6k3', 'med12', 'mtg1', 'tm2d3', 'magee2', 'b4galt1', 'zc4h2', 'slc52a2', 'srpk3', 'epop', 'gsta1', 'fam160b2', 'orc4', 'dpm2', 'snapc4', 'dlg3', 'chad', 'or4c6', 'stard8', 'dnajc30', 'gsg1', 'rpia', 'tmem135', 'cldn2', 'rtel1', 'kcnh5', 'gpr108', 'nmu', 'tbc1d5', 'scube2', 'tmem243', 'slc35b2', 'litaf', 'insyn2b', 'tm9sf3', 'rnf112', 'prss8', 'peli3', 'il17ra', 'tom1l2', 'cldn23', 'or52r1', 'cpn2', 'ppp1r3d', 'tspan32', 'dok2', 'bcl11a', 'cryba2', 'nosip', 'ppa2', 'trim14', 'ptprm', 'nipal4', 'alkal2', 'itprid1', 'ubxn2b', 'sts', 'arl10', 'elp5', 'adcy8', 'syne1', 'nelfb', 'ptpn12', 'mageb4', 'cd79a', 'slc4a10', 'rab13', 'cntnap5', 'lrrc75a', 'nudt9', 'snph', 'dnase1l3', 'ptgfrn', 'smc1b', 'lysmd4', 'or51t1', 'sipa1l1', 'ube2f', 'ceacam6', 'ddx39a', 'vdac1', 'lgi2', 'eri3', 'cd1b', 'tcea2', 'sar1b', 'mid1ip1', 'fastkd5', 'kiaa2013', 'cxcl6', 'septin7', 'syn2', 'zbp1', 'ppp4r3a', 'arhgap23', 'tbc1d23', 'cbln4', 's100a16', 'myo5b', 'egfl8', 'rcc1l', 'cyp2a6', 'fbxo38', 'dao', 'tirap', 'actn4', 'tro', 'hoxb1', 'mok', 'nudt1', 'lmbrd2', 'taf1b', 'vwce', 'flii', 'med6', 'hs6st2', 'xaf1', 'popdc2', 'ntsr1', 'wdr70', 'def8', 'fam13a', 'c1orf115', 'acsl6', 'myct1', 'ubap1l', 'xkr4', 'znf561', 'supt7l', 'lrrc14b', 'wasf3', 'gmnn', 'ddit4', 'ndp', 'nkap', 'ggtlc1', 'tagap', 'sugp1', 'ccdc24', 'avp', 'slc30a1', 'clip3', 'ccnd1', 'p3h3', 'or2g3', 'msh5', 'ppm1m', 'pcdhb10', 'ttc36', 'spry2', 'prdx6', 'fam117b', 'arfgef3', 'ush2a', 'tsnare1', 'fscn3', 'tradd', 'cdc25b', 'taf1l', 'dnmt3b', 'rbm18', 'cenpq', 'prkcq', 'lrrtm4', 'or5b21', 'tram1', 'ankar', 'manba', 'krtap5-7', 'myorg', 'prmt1', 'khdc1', 'nt5c', 'armc3', 'rwdd1', 'pfn4', 'cdca2', 'or5b3', 'jak2', 'cbr3', 'ldhb', 'aass', 'atpsckmt', 'rnf44', 'oas3', 'ctdnep1', 'ccdc89', 'ctxnd2', 'znf502', 'abcc9', 'znf629', 'scn9a', 'c4orf3', 'zkscan3', 'etfdh', 'krtap20-3', 'vgll1', 'ube4a', 'vmo1', 'clptm1', 'pip4k2a', 'ttc28', 'zscan23', 'adamts17', 'pgrmc1', 'elspbp1', 'prdm6', 'adcy6', 'rabggta', 'snx21', 'ciao2a', 'gorasp1', 'hyi', 'nckap1l', 'lsm14a', 'nudt10', 'gtf2ird1', 'fbn3', 'adamtsl2', 'tenm3', 'ttc39b', 'ankrd26', 'c11orf95', 'tsc22d1', 'cox7a1', 'mal', 'mtbp', 'efcab8', 'znf669', 'ngef', 'dnajc6', 'ccnh', 'galk2', 'zbtb7c', 'tff1', 'trim45', 'ccdc34', 'kcnj9', 'ipmk', 'kiaa1217', 'rbm12', 'mpl', 'ccnl1', 'magi3', 'cbfb', 'ndufs8', 'pgpep1l', 'ttc7b', 'rad52', 'gstcd', 'tnks1bp1', 'usf3', 'peli2', 'ing1', 'optc', 'cobll1', 'hao2', 'sync', 'irak3', 'gpr12', 'lilrb2', 'tcf19', 'gramd4', 'myb', 'dicer1', 'aptx', 'ttn', 'pcdha12', 'ebln2', 'chrna9', 'hpn', 'pcdh11y', 'megf6', 'fam107a', 'krtap4-3', 'c1qc', 'ryk', 'tmbim4', 'slc16a1', 'sall1', 'clint1', 'chrna5', 'mov10l1', 'fam200b', 'ccdc142', 'acer3', 'nasp', 'tecpr2', 'nme2', 'otud5', 'znf440', 'slc22a10', 'tspan3', 'fgr', 'fus', 'pygo2', 'ankrd46', 'znrf1', 'ttc39c', 'iqcc', 'src', 'tssk3', 'chst14', 'arid1b', 'hesx1', 'thsd4', 'kif15', 'fmo5', 'wars2', 'pwwp2b', 'trim28', 'kpna6', 'serinc4', 'rtp4', 'sec61b', 'prcc', 'cltc', 'dcaf6', 'ano2', 'frk', 'med27', 'map1lc3b', 'caln1', 'lpxn', 'hnrnpa2b1', 'stk26', 'ftsj3', 'klk3', 'tnrc18', 'suclg2', 'klhl2', 'ctsl', 'atg12', 'rtkn', 'c1s', 'nprl2', 'gpr157', 'slc22a31', 'p3h4', 'cabyr', 'snn', 'pom121', 'ninj1', 'tnfrsf13b', 'p2rx4', 'etfa', 'sin3b', 'tada3', 'or11l1', 'dst', 'prdm1', 'tcp10l2', 'brd3', 'ndufab1', 'kctd15', 'echs1', 'plac1', 'nucb1', 'epha7', 'vsig4', 'thumpd2', 'tlcd3b', 'fam199x', 'kiss1r', 'nit1', 'noct', 'sri', 'wdr64', 'fbxw12', 'dbr1', 'ppbp', 'or52w1', 'ddb2', 'c21orf58', 'recql5', 'trio', 'larp4', 'spata2l', 'znf829', 'spib', 'kdelr2', 'stat6', 'egfr', 'cib2', 'slc52a1', 'impact', 'klkb1', 'cul4a', 'rnf169', 'akr1d1', 'dnaaf1', 'lamp5', 'mrnip', 'ezr', 'gigyf2', 'dhcr7', 'fhod1', 'slu7', 'tma16', 'gnmt', 'arid4b', 'mga', 'tdo2', 'ppp1r36', 'krtap4-5', 'igfbp5', 'hoxa13', 'tmem176a', 'mdm1', 'spint1', 'ak8', 'mapt', 'znf713', 'plcl2', 'naxe', 'dlx6', 'mycbpap', 'dstn', 'cpo', 'calcb', 'bcl2l13', 'urod', 'tmem53', 'sacm1l', 'arrdc1', 'ccar2', 'chchd4', 'meox1', 'gja8', 'pfas', 'ift46', 'pcna', 'or2ae1', 'f13a1', 'iffo1', 'spanxn5', 'glrx5', 'rsrp1', 'ptgds', 'btbd10', 'il34', 'supt6h', 'suz12', 'foxj3', 'slc30a10', 'mylk4', 'wipi2', 'evl', 'fnta', 'ttc3', 'ids', 'cops2', 'cep76', 'bend7', 'ppp2r2c', 'rims2', 'stat5b', 'mcub', 'coro2a', 'efnb3', 'znf490', 'dusp13', 'cops7a', 'chmp1b', 'kcnq4', 'tifa', 'il1rl1', 'fxyd7', 'znf850', 'plpp6', 'fancf', 'hspb7', 'ebag9', 'stam', 'srxn1', 'scaf1', 'bcr', 'dkc1', 'utp11', 'agmat', 'sncb', 'adgrf1', 'cops6', 'dexi', 'ints5', 'psmd14', 'fhod3', 'runx3', 'cacul1', 'cmbl', 'rragb', 'tapbp', 'hcls1', 'apba2', 'rnf114', 'cep89', 'cep120', 'ppif', 'fra10ac1', 'fn3krp', 'pabpn1l', 'dchs1', 'fcrl5', 'bod1', 'slc15a2', 'tmem248', 'pdgfc', 'znf514', 'pym1', 'nek6', 'pigs', 'btbd2', 'spock2', 'ccdc92', 'c5orf46', 'actg1', 'hsp90b1', 'dagla', 'osbpl11', 'fabp7', 'snx14', 'pxt1', 'map3k7cl', 'c16orf54', 'eif4e', 'gdap1l1', 'ccdc85a', 'pias3', 'aqp1', 'cnot11', 'pck1', 'tuba1b', 'camk2g', 'hey2', 'znf19', 'pcmtd1', 'lypd6b', 'tubb1', 'nudt13', 'chrnd', 'ccdc28b', 'slc10a5', 'znf385a', 'rpusd4', 'col4a6', 'cox6a1', 'or13c5', 'f11', 'znf596', 'cdk6', 'fam53c', 'defb136', 'ttll1', 'hpf1', 'lrrfip2', 'pcdhb11', 'luzp1', 'wdr1', 'slc49a4', 'gnat3', 'lipf', 'ubl3', 'taf9', 'arid4a', 'pced1a', 'rad9a', 'c15orf39', 'or13d1', 'lhx8', 'id4', 'samd1', 'poldip3', 'znf763', 'notch3', 'slc2a12', 'sema4b', 'arntl', 'cog7', 'dnph1', 'kcnc1', 'chit1', 'c2cd6', 'uros', 'foxe1', 'tppp3', 'efcab3', 'rwdd2a', 'or2v2', 'tmem60', 'or51d1', 'kcng2', 'ccne1', 'trim2', 'batf2', 'morn2', 'lyzl4', 'mta2', 'lrrc8b', 'triobp', 'slc48a1', 'cenpe', 'fabp2', 'adam11', 'kif14', 'mastl', 'slc7a6', 'dspp', 'capn3', 'trim6', 'znf541', 'fundc2', 'ccdc71', 'gng5', 'tmem181', 'c10orf90', 'dbf4b', 'ubqln4', 'slc22a23', 'acrv1', 'sde2', 'hspa1b', 'ctrb2', 'tnp2', 'ctsa', 'kcna1', 'prkg1', 'znf324', 'cul7', 'cdkn2c', 'creb3l4', 'mepe', 'lamb1', 'trim8', 'btg4', 'lrriq4', 'gsdme', 'cdkl2', 'ipo4', 'znf543', 'adam20', 'clip4', 'ckap4', 'zscan29', 'dync1i2', 'fam118a', 'actn2', 'mrc1', 'setdb2', 'acsbg2', 'rpain', 'wdfy3', 'cplx4', 'oser1', 'themis', 'cubn', 'hmcn2', 'mb', 'mbp', 'rbx1', 'polr2k', 'bola1', 'prss33', 'trip10', 'ky', 'mapk9', 'taz', 'snrnp48', 'rpa1', 'znf586', 'rnls', 'gal3st1', 'rragc', 'or12d3', 'fam3b', 'unc45b', 'rbm34', 'prr14', 'slc35d1', 'dync2h1', 'fam90a1', 'cep350', 'rad21', 'znf526', 'liph', 'atp11c', 'mtmr10', 'mpp6', 'unc5b', 'tmem254', 'armt1', 'zcwpw2', 'mtx1', 'slc38a7', 'klhdc4', 'agbl1', 'tlcd2', 'ttc9', 'eda', 'c2orf50', 'ampd2', 'znf454', 'ube2v1', 'slc16a2', 'gpatch2l', 'dxo', 'tsc1', 'naa25', 'arfgef1', 'tkfc', 'gldn', 'pik3c2g', 'birc3', 'pjvk', 'tmem33', 'krtap16-1', 'e2f5', 'gpr68', 'plvap', 'sel1l', 'wdr54', 'ift52', 'slc38a2', 'cfhr5', 'mfn1', 'mul1', 'zfp36', 'isy1', 'trim66', 'fktn', 'tril', 'krt39', 'krt5', 'aplp2', 'tti2', 'ift88', 'runx2', 'helb', 'rnf150', 'asb7', 'lamc2', 'guk1', 'tcf4', 'sox12', 'ndufaf8', 'shb', 'pou5f2', 'pcdh10', 'scrn1', 'ubxn7', 'parn', 'rgs16', 'card11', 'rarg', 'usp16', 'dlx5', 'chrna2', 'hepn1', 'enah', 'alyref', 'slc10a6', 'ndufb3', 'iqcf6', 'retreg1', 'smim4', 'ecel1', 'znf623', 'fbxo39', 'mxra8', 'lancl1', 'msmb', 'elovl3', 'c6orf141', 'arfgap2', 'reeld1', 'ift27', 'pag1', 'creld2', 'tp53bp1', 'znf358', 'tle4', 'or51b5', 'slc16a13', 'znf799', 'znf341', 'zacn', 'nkain4', 'hic1', 'tead4', 'znf430', 'rftn2', 'npipb15', 'fxyd6', 'slc4a11', 'rnf181', 'crmp1', 'bdnf', 'atp1b3', 'ush1c', 'nop2', 'pfkfb1', 'rad51c', 'unc79', 'glis2', 'ift172', 'oaz3', 'star', 'psd4', 'lnpk', 'efna1', 'dhrs12', 'slco2b1', 'myadml2', 'ermn', 'prmt6', 'map2k4', 'fsd1', 'arsf', 'tbx10', 'rasl11a', 'ccl26', 'tns1', 'ccdc102a', 'phyhip', 'rasgrp3', 'znf433', 'hsd3b1', 'sema3e', 'sdk2', 'mybl2', 'arhgap30', 'morf4l2', 'slc10a3', 'mpv17', 'tnfsf12', 'gpm6b', 'glyatl2', 'zfp62', 'boll', 'c7orf33', 'figla', 'asb12', 'prss36', 'rhod', 'rnf182', 'ppp1cc', 'scarf1', 'rnf111', 'tpx2', 'nynrin', 'atf7', 'wdr41', 'b9d2', 'wnk3', 'nalcn', 'plekha2', 'lasp1', 'fut7', 'bcl6', 'gabbr1', 'argfx', 'cdk2', 'vps13d', 'acsbg1', 'chchd2', 'atoh8', 'zscan22', 'tstd2', 'sqor', 'smco1', 'plppr3', 'uckl1', 'n4bp3', 'tdrd1', 'slc12a2', 'znf132', 'rflnb', 'sod2', 'gucy1a2', 'nrbp2', 'jak3', 'metap1d', 'atp1b2', 'chrng', 'rcc2', 'nfib', 'cdh26', 'sec23b', 'brf2', 'pwwp3b', 'mlnr', 'fubp3', 'hells', 'dnaja2', 'appl2', 'rbm42', 'cenph', 'b3gnt4', 'map7d2', 'zdhhc22', 'c18orf63', 'cox7a2', 'ssr2', 'l2hgdh', 'herc1', 'retreg3', 'cyb5r3', 'stub1', 'rundc3a', 'fam168a', 'hk3', 'fam241a', 'tbpl1', 'itih5', 'rnf167', 'setd5', 'ankrd34a', 'klhl29', 'tacr3', 'syt1', 'c4orf45', 'txnrd1', 'ankrd13c', 'brix1', 'qdpr', 'or2a5', 'gng13', 'fshb', 'syvn1', 'cd63', 'pcsk6', 'itga2', 'smg7', 'fos', 'eps8l1', 'or52b6', 'atp2b1', 'slc8a3', 'cst9', 'ogdhl', 'tmem265', 'wfdc6', 'oma1', 'elk1', 'proca1', 'matn2', 'eif4e3', 'ankrd6', 'efcab11', 'emc1', 'slc22a24', 'klhl3', 'defb125', 'lzts3', 'sprr2e', 'krtap10-7', 'ncbp2l', 'stc2', 'veph1', 'ptgis', 'dhcr24', 'rbbp5', 'vsig10l', 'tmem275', 'cst6', 'cdh12', 'dip2c', 'plpp5', 'mab21l4', 'stum', 'lmtk2', 'orc5', 'ufd1', 'ankrd37', 'slc16a9', 'aadat', 'hsd17b13', 'ccni2', 'snw1', 'ak4', 'ppp4r3b', 'jpt1', 'or1s1', 'vip', 'abcf2', 'tmem184b', 'znf43', 'cntnap2', 'znf112', 'efemp1', 'fam186b', 'pdk2', 'foxs1', 'ankmy1', 'gas8', 'ptges3', 'znf521', 'baiap2l1', 'pja1', 'actr1a', 'kcnk1', 'bzw2', 'c3orf84', 'neto2', 'slc25a18', 'slc25a14', 'gprin1', 'boc', 'kif21a', 'prrc2a', 'adgrd2', 'ptpn14', 'fgf20', 'deup1', 'myh11', 'or4k17', 'lce1b', 'orm2', 'wdhd1', 'ppp3r1', 'nek3', 'dcp2', 'ankrd10', 'fbxo9', 'sf1', 'lin37', 'idua', 'scel', 'tln1', 'krt35', 'cdip1', 'pola1', 'map6', 'nfatc3', 'or2z1', 'znf550', 'nek11', 'folr1', 'tnfsf13b', 'tsku', 'cinp', 'gpr160', 'rpp40', 'nme9', 'trh', 'inpp5e', 'wdr35', 'foxd4l6', 'sptbn5', 'cxcl16', 'llgl2', 'app', 'il1rapl1', 'prrt1b', 'mier3', 'or7a5', 'fezf2', 'ptp4a3', 'dhrs7', 'fam234b', 'ift22', 'rdm1', 'or3a2', 'rbm24', 'bivm', 'nectin3', 'batf', 'nkx1-1', 'rnf208', 'pex1', 'kansl2', 'prss22', 'fam24a', 'pcyt2', 'nbpf3', 'fabp1', 'or2i1p', 'ifna14', 'rrp12', 'mpv17l', 'mageb17', 'pnma3', 'faf2', 'prune2', 'smim2', 'slc47a1', 'neurod4', 'vmp1', 'lrrn3', 'hnrnph3', 'ccdc122', 'intu', 'rora', 'fbxo31', 'letm2', 'rax', 'pitpnb', 'ube2n', 'dennd4b', 'nbn', 'cfap45', 'tfpi', 'mbd2', 'nap1l2', 'chmp4a', 'mtmr6', 'cenpf', 'vrtn', 'madcam1', 'amdhd2', 'znf439', 'tnrc6b', 'slc22a15', 'cd83', 'hectd1', 'znf404', 'ccn2', 'raph1', 'thyn1', 'wnt10a', 'herc2', 'elmo2', 'samd14', 'trim5', 'eif5b', 'tex261', 'simc1', 'rtl6', 'rbm46', 'wwc2', 'got2', 'cd2ap', 'hint3', 'pex7', 'krtap2-3', 'stmn2', 'casd1', 'defb114', 'fcgbp', 'acot7', 'pcdh9', 'slc28a3', 'klrf1', 'nelfa', 'krt19', 'krtap12-2', 'krtap19-6', 'ube2ql1', 'ugp2', 'mpo', 'stk3', 'sart3', 'tmem54', 'neil3', 'ywhah', 'map7d1', 'gorab', 'wdr53', 'dph2', 'or10t2', 'eif1ax', 'gbp5', 'wdr77', 'nsl1', 'lamp3', 'syne2', 'rpusd2', 'ppp1r1b', 'fez2', 'psmc6', 'habp4', 'smarca2', 'irx6', 'cnot2', 'gpd1', 'arhgef40', 'kcna7', 'specc1l', 'atg2b', 'lgals14', 'rnpep', 'or6k6', 'ncr3lg1', 'prph', 'ccdc43', 'extl1', 'bicd1', 'sephs2', 'polr1e', 'drg2', 'kpna2', 'dpep2', 'pcsk5', 'mex3c', 'yod1', 'ublcp1', 'tmub2', 'mei1', 'npb', 'mon1a', 'glyatl1', 'slc25a34', 'fanca', 'adgrl1', 'tfap2c', 'ltbp1', 'serpinb5', 'plscr1', 'plbd2', 'pkd2l1', 'barhl1', 'znf410', 'smim29', 'gpr65', 'blk', 'gpr37l1', 'chordc1', 'eno4', 'mthfd1', 'calml4', 'cyp11b1', 'p2ry2', 'zbtb18', 'ndst2', 'mfsd3', 'rbm12b', 'rgs2', 'lrp5', 'ptger1', 'cfap161', 'setmar', 'aqr', 'vax2', 'fkbp7', 'gpbp1l1', 'tdrd5', 'gsta5', 'pirt', 'slc25a30', 'ccdc175', 'sntg2', 'selenop', 'derpc', 'rabac1', 'ntpcr', 'pou2f3', 'tmem214', 'prdm5', 'rab7b', 'ninj2', 'kifc1', 'zhx3', 'rpgrip1', 'rbbp8nl', 'znf117', 'mapkapk3', 'smco3', 'kel', 'stx11', 'nfrkb', 'cdan1', 'slitrk2', 'pbxip1', 'evi5', 'slc20a1', 'phf3', 'dsc2', 'znf233', 'usp51', 'adam9', 'dnajb9', 'tmem165', 'ankk1', 'bmp2', 'sgcd', 'lsp1', 'ccdc3', 'krt23', 'taf11l8', 'znf446', 'csrp2', 'sele', 'marcks', 'gmds', 'hs6st3', 'mageh1', 'cnpy4', 'exoc3l2', 'tac1', 'kiaa0232', 'gucy2f', 'spef1', 'tal2', 'ghrl', 'catsper3', 'myo10', 'siae', 'fam160a2', 'rassf6', 'bccip', 'pctp', 'mb21d2', 'prr9', 'myo1f', 'pprc1', 'lrrc47', 'crim1', 'chst10', 'ammecr1l', 'dsc3', 'dppa4', 'pgbd5', 'ryr2', 'snx25', 'vipas39', 'umad1', 'ppp2r2d', 'uba7', 'tub', 'fto', 'atrn', 'or10h3', 'pik3c2b', 'kctd12', 'pitpnc1', 'nsun7', 'tdp2', 'rmi2', 'tmem91', 'gpsm2', 'znf202', 'bpgm', 'galp', 'vcan', 'aplnr', 'gfra3', 'spata31a6', 'megf11', 'med13', 'foxp4', 'znf83', 'lrrc24', 'a2m', 'nmd3', 'arpp19', 'sycp3', 'ccdc6', 'hao1', 'usp6nl', 'ttc30b', 'lpar1', 'znf670', 'b3gnt5', 'btbd1', 'znf266', 'wfdc3', 'begain', 'phf21a', 'mrm3', 'zbed3', 'smarcc2', 'cpox', 'znf282', 'kcmf1', 'paf1', 'cd164l2', 'anxa4', 'arl6ip5', 'ccl27', 'eya3', 'or11a1', 'ssr3', 'pcdha5', 'trem2', 'ccne2', 'ankrd52', 'tnfrsf1b', 'il22', 'rnf121', 'tbrg4', 'or10a7', 'ccng1', 'osgin1', 'gadl1', 'pygo1', 'smco4', 'sema4f', 'svep1', 'cep164', 'slc34a2', 'ankrd13b', 'ccn3', 'slco4a1', 'ttyh3', 'ethe1', 'dpp10', 'ftcd', 'uvssa', 'pgm2', 'snupn', 'dtd1', 'col8a2', 'tgm5', 'hvcn1', 'dhx57', 'gon7', 'srgn', 'sytl1', 'sprtn', 'zdhhc7', 'cd200r1', 'cyp26b1', 'oc90', 'cxcl5', 'kcnc2', 'tbxa2r', 'pld2', 'myh7b', 'atpaf1', 'tmem236', 'socs5', 'abcd4', 'tedc1', 'cramp1', 'ccl23', 'ackr4', 'zfyve19', 'sardh', 'tmco3', 'etv3l', 'creg1', 'stard3nl', 'tinf2', 'cyb5d2', 'czib', 'psg4', 'snu13', 'spdef', 'synm', 'rnf14', 'inpp5j', 'marcol', 'mrgprx3', 'tex33', 'cpne2', 'tspyl1', 'serpini1', 'coasy', 'sall3', 'lipk', 'ampd1', 'lcn1', 'cldn7', 'sapcd1', 'nkx6-3', 'yju2', 'hspa9', 'eva1a', 'osbpl7', 'tbc1d8', 'bora', 'bhlhe41', 'nfasc', 'tcf24', 'kif1c', 'tango2', 'oca2', 'znf875', 'nmur1', 'wdr25', 'cadm4', 'grap2', 'slc25a10', 'prob1', 'drap1', 'tgfbr1', 'klhl1', 'supt5h', 'evx1', 'ncr2', 'uspl1', 'znf660', 'steap1', 'tmem171', 'clrn3', 'gda', 'acot6', 'sult1a1', 'ccdc200', 'or5b17', 'il22ra1', 'pdcl', 'cyb561', 'rhbdd3', 'llgl1', 'etdc', 'polr3k', 'dars2', 'ciita', 'pura', 'sh2d7', 'fmc1', 'anks4b', 'aif1', 'krtap1-5', 'hoxa10', 'klk12', 'hopx', 'mapk8ip3', 'megf9', 'atp2a2', 'slc12a6', 'c20orf194', 'spata31d1', 'nrep', 'stk19', 'aldh4a1', 'cplx1', 'synj2', 'ca12', 'higd2b', 'ifna8', 'usp17l7', 'or52n2', 'mcrip2', 'mob1b', 'acvr2b', 'dtx4', 'agap3', 'ccdc88c', 'spns3', 'spag17', 'rnpc3', 'kctd20', 'lrrc19', 'parp6', 'cdh8', 'cbr1', 'lamc1', 'ap4b1', 'ahi1', 'ssc5d', 'abcc8', 'or10j5', 'ccdc158', 'cnot1', 'slc9a5', 'cmpk1', 'nyap1', 'vsir', 'ncoa7', 'cct6b', 'pde8b', 'atxn10', 'itprid2', 'slc1a2', 'lbx1', 'prps2', 'nudt5', 'nr2e1', 'p2rx3', 'lamb3', 'gp9', 'nphp1', 'snapc3', 'znf516', 'ttyh1', 'ggact', 'lztr1', 'uprt', 'map3k9', 'prkg2', 'clvs1', 'spata6l', 'cybb', 'vamp5', 'hspa6', 'klrb1', 'ankrd22', 'igf1', 'ss18l1', 'tmcc2', 'bin3', 'smtn', 'rai2', 'ddx1', 'lrfn4', 'tmcc3', 'dnah11', 'ciapin1', 'lrrc3c', 'gabrp', 'cmas', 'tmem256', 'has2', 'pole', 'ugt3a1', 'astl', 'nmbr', 'tcaim', 'zbed2', 'abhd17b', 'ndufa12', 'vps37a', 'fem1c', 'gipc2', 'adamtsl1', 'gpr37', 'serpini2', 'fgf14', 'dus2', 'ceacam7', 'foxp2', 'slco2a1', 'cnga2', 'or10a6', 'tmco4', 'dmac1', 'clspn', 'sgip1', 'pde6c', 'ppfibp2', 'adipor2', 'eef1akmt1', 'clic6', 'myom3', 'psmb10', 'stambp', 'epcam', 'tomm40l', 'il2ra', 'sox21', 'il1r2', 'tmc7', 'apoa5', 'slc46a1', 'unc5c', 'vti1b', 'fdx2', 'rad51d', 'alb', 'vps25', 'cltrn', 'tgfbr3', 'mboat7', 'ube2l3', 'prmt3', 'lrrcc1', 'mamdc2', 'alkbh5', 'igfn1', 'lemd1', 'pno1', 'obi1', 'fam228a', 'agfg1', 'cib1', 'leo1', 'trim26', 'adamts20', 'hck', 'hsd17b10', 'plxnc1', 'tpm1', 'nipal2', 'cul1', 'taf8', 'zmynd11', 'accsl', 'shld1', 'prpf38b', 'dock11', 'or2t4', 'atp5pb', 'slc30a5', 'uhrf2', 'trim21', 'pcdha3', 'pmpcb', 'kcnc3', 'eif2s3', 'ccdc71l', 'dcaf12l2', 'or4d6', 'ung', 'zswim3', 'mdh1', 'eid3', 'znf225', 'clk1', 'golt1a', 'adap2', 'tmem235', 'phf1', 'plekho2', 'cd3g', 'siglec7', 'slc35f2', 'zfp41', 'cep57', 'or51a7', 'pc', 'dbx2', 'ttyh2', 'reep1', 'cxcl13', 'traf3ip2', 'mgst1', 'nbdy', 'sf3b6', 'fam107b', 'aldoc', 'kcnk10', 'bmp7', 'cnn3', 'cdk17', 'prb3', 'nmur2', 'kctd1', 'bgn', 'trim29', 'myof', 'pycard', 'znf230', 'vgll4', 'trim52', 'c8orf82', 'tmprss13', 'cxorf38', 'efr3b', 'gusb', 'grm8', 'dpf2', 'cebpe', 'septin3', 'sdc3', 'trpc1', 'ca2', 'tmem19', 'ppp1r16a', 'tceal7', 'ccdc110', 'alg6', 'them6', 'vps29', 'mycbp2', 'cdc42ep1', 'pip4p1', 'klhdc10', 'unc13d', 'purg', 'itgb1', 'znf195', 'acp7', 'egflam', 'prrt2', 'apobec3h', 'cbx3', 'gabrd', 'psapl1', 'bmpr1a', 'ca7', 'map7d3', 'crhr1', 'pex13', 'fcer2', 'tmem216', 'clec5a', 'ptprf', 'magea9b', 'cenpa', 'dcxr', 'clec20a', 'stk17a', 'xkr7', 'eny2', 'abhd15', 'ddx31', 'mboat2', 'serpina9', 'znf510', 'npas4', 'phf23', 'tmem169', 'plekho1', 'cgrrf1', 'aldh8a1', 'edem3', 'ptgdr', 'btn3a1', 'ncoa2', 'shtn1', 'tceal9', 'or5d18', 'gabrr2', 'ncbp3', 'kmt5a', 'mcemp1', 'crybg2', 'fmnl1', 'fbxo33', 'dclre1b', 'slc35b4', 'ormdl2', 'c8orf48', 'sac3d1', 'ppial4g', 'pzp', 'pagr1', 'slc5a12', 'phlda1', 'npffr1', 'lrrfip1', 'f3', 'coq5', 'pfkfb3', 'ereg', 'csnk2a2', 'lix1', 'bcar1', 'gfod1', 'fancm', 'pkp1', 'trrap', 'prpf6', 'tmem205', 'zic4', 'atad1', 'ubash3a', 'zbtb34', 'ccdc78', 'hinfp', 'cryab', 'soga1', 'gmeb2', 'cox5b', 'ppil3', 'plglb2', 'foxl2nb', 'znf44', 'lnx1', 'smpd2', 'ice2', 'nipsnap1', 'teddm1', 'cpxm2', 'gdf6', 'gpr152', 'ostc', 'lurap1', 'fstl5', 'pgrmc2', 'f2r', 'kcnk16', 'copb1', 'fadd', 'mrrf', 'spon2', 'zdhhc3', 'zc3h7a', 'rnf17', 'plk1', 'smim22', 'plxna3', 'trappc13', 'hykk', 'or4f6', 'armc5', 'csnk1g3', 'upk3b', 'myf5', 'sdad1', 'niban2', 'hhip', 'hoxc5', 'add1', 'gng12', 'samd5', 'fbxl19', 'etfb', 'ccl4l2', 'igfl2', 'ctu2', 'cdc14a', 'ackr2', 'wfdc10b', 'pde2a', 'iqcb1', 'olig3', 'atp6v0d1', 'marf1', 'lingo2', 'cep83', 'hrnr', 'syt10', 'atp8a2', 'tead1', 'lypd1', 'pdhx', 'tubg1', 'stard5', 'znf331', 'shisa8', 'tnfrsf8', 'cox16', 'st8sia2', 'rptn', 'commd2', 'sfmbt2', 'znf180', 'mstn', 'zdhhc20', 'ltk', 'fcf1', 'bche', 'pdk3', 'arhgef10', 'ccdc169', 'farsa', 'mtmr8', 'hspg2', 'arhgap10', 'cenpn', 'khdrbs1', 'myocd', 'dock8', 'scaf8', 'hoxd12', 'mtcl1', 'btg3', 'fign', 'abcc1', 'smg6', 'mmadhc', 'kank1', 'mgrn1', 'aldh1a3', 'enthd1', 'dock5', 'irf2bpl', 'ccdc77', 'krt6a', 'rab5if', 'riok1', 'apold1', 'nlrc5', 'cndp1', 'dcun1d2', 'spin2b', 'ddx17', 'znf691', 'pygl', 'gpc2', 'sdf4', 'fst', 'kctd2', 'map10', 'parp1', 'tubgcp6', 'hdac11', 'grm6', 'mcts1', 'ovol2', 'tmem26', 'faap100', 'spata1', 'atrip', 'hikeshi', 'pou6f1', 'znf785', 'tmem150c', 'cand1', 'tbx6', 'tmed6', 'xylt2', 'znf560', 'rrp7a', 'gimap2', 'mocs3', 'ambra1', 'cacnb3', 'bnipl', 'pxk', 'imp3', 'fry', 'gabre', 'limd1', 'atp5f1b', 'ephx1', 'nup188', 'rabgap1', 'esm1', 'ecscr', 'ttc23l', 'zfand1', 'pik3r5', 'mknk1', 'lyrm4', 'limk1', 'fam180a', 'phrf1', 'kcnj1', 'rraga', 'bak1', 'c18orf32', 'usp25', 'sp6', 'osr1', 'casp8ap2', 'sec23ip', 'zdhhc15', 'inhba', 'fam3d', 'dnajc25', 'mast3', 'slc22a18', 'chmp3', 'ncr3', 'nlrp2', 'mrm1', 'lrch4', 'gp6', 'cyp46a1', 'ifnar2', 'megf8', 'fmo2', 'bhlhe40', 'ndnf', 'pcdha8', 'fundc1', 'ahctf1', 'lonp2', 'cox6b2', 'tespa1', 'krt31', 'sdc4', 'bloc1s2', 'nppb', 'slc14a2', 'spata24', 'gal3st3', 'stat5a', 'iglon5', 'syap1', 'arhgef11', 'brat1', 'syngr3', 'tpgs1', 'tmem74', 'or10r2', 'krtap20-2', 'mif', 'eogt', 'tatdn3', 'aven', 'sptbn1', 'c3orf33', 'ticam2', 'cend1', 'lrba', 'micall1', 'pcdhgc3', 'gje1', 'aldh1b1', 'cdh15', 'grm5', 'olfm4', 'sptbn2', 'nr1h3', 'eef1b2', 'rac3', 'rcan1', 'tlr4', 'tbl3', 'pde4d', 'cdkl3', 'il36rn', 'cyp2s1', 'arhgef15', 'znf337', 'bcap31', 'ddhd2', 'dkk4', 'sox2', 'zbtb2', 'ednrb', 'taf1d', 'rab3c', 'fbxl12', 'myo16', 'krt74', 'defa3', 'clybl', 'hsf2', 'nr3c2', 'nadk2', 'or6y1', 'tmem14a', 'otoa', 'cox6b1', 'hormad2', 'cpsf3', 'alox12b', 'tmbim6', 'gpr182', 'meltf', 'slc45a4', 'tmc6', 'bace2', 'utp25', 'hhex', 'ppil1', 'or9q2', 'fgf16', 'faah2', 'tfb1m', 'znf365', 'tmem131l', 'acbd7', 'or5h15', 'mau2', 'fuz', 'kir2dl4', 'brsk2', 'lamtor3', 'sdr42e1', 'slc38a5', 'lsm10', 'srd5a2', 'cfap100', 'yipf1', 'morn5', 'slc41a2', 'oas2', 'tnni2', 'aspg', 'sfr1', 'c17orf49', 'pex26', 'c2orf68', 'csnk2b', 'krtap1-1', 'elovl1', 'or6s1', 'coro1a', 'spata16', 'spdye5', 'prox1', 'mindy3', 'nova1', 'krtap13-2', 'gtf2e2', 'ugt2b7', 'sh3glb1', 'saxo1', 'celf1', 'rhoa', 'ube2l6', 'gatad2a', 'znf584', 'timm17a', 'amfr', 'eif5a2', 'mthfr', 'slc23a1', 'krtap6-3', 'pcsk2', 'gabpb2', 'daglb', 'dnah17', 'sprr4', 'krtap3-3', 'adgra3', 'swsap1', 'cmc4', 'mrgprx4', 'atp6v0a1', 'ccdc66', 'ppp1r7', 'prcp', 'kiaa0319', 'angptl2', 'sema6a', 'cops8', 'ms4a8', 'mapk1', 'evc2', 'msmo1', 'cacna2d1', 'nphs1', 'cib3', 'togaram2', 'edf1', 'naa11', 'dlc1', 'cdhr1', 'iws1', 'dtl', 'pcdhga2', 'cphxl', 'znf2', 'inpp1', 'cst9l', 'fcgrt', 'laptm4b', 'apobec3f', 'a4gnt', 'pnma6f', 'znf716', 'panx1', 'cacfd1', 'clmn', 'clba1', 'syt17', 'proser1', 'slc25a16', 'prkacg', 'ltv1', 'trmo', 'ppp2r5c', 'psmb5', 'tnip2', 'pigg', 'zbtb12', 'zik1', 'chaf1b', 'rnf133', 'ei24', 'sth', 'bcat1', 'nfkb2', 'eif2b5', 'zcchc4', 'abcg2', 'mc2r', 'fgd5', 'cnppd1', 'coq7', 'psmd10', 'fam214a', 'hip1r', 'wasf2', 'wdr18', 'plekhm2', 'emc8', 'oscp1', 'b3galt6', 'c22orf23', 'tmem70', 'rbak', 'mettl6', 'mxd3', 'dixdc1', 'or2t33', 'ccdc141', 'sepsecs', 'kbtbd7', 'gpr119', 'capn14', 'ppef1', 'krt7', 'gadd45gip1', 'fam193a', 'stk33', 'pfkm', 'lypd6', 'mmp11', 'pfdn5', 'tns3', 'dnmt3l', 'lair1', 'snx4', 'srprb', 'plcd1', 'f2rl3', 'fgf22', 'rusc1', 'pmfbp1', 'ndufc1', 'rad1', 'znf133', 'vapa', 'srsf7', 'rimbp2', 'dpp6', 'lman2l', 'kdm4a', 'c1orf56', 'arsk', 'ruvbl1', 'hspb3', 'txndc5', 'rb1', 'tmem150b', 'or6b3', 'cd302', 'cdk19', 'syde1', 'nox5', 'jund', 'rfx1', 'znf212', 'cideb', 'hdac1', 'lsm2', 'selenom', 'smad5', 'kcnk2', 'spata3', 'tmem244', 'clec2l', 'xrcc5', 'cerk', 'prr5l', 'slc35e3', 'smad3', 'diaph1', 'lrrc31', 'sugt1', 'sntb2', 'acat2', 'tnfrsf14', 'cenps', 'samhd1', 'pdgfb', 'hdgfl1', 'prac1', 'c19orf18', 'slc37a4', 'slc44a1', 'zbtb14', 'ndufv2', 'il2rg', 'nfic', 'gpihbp1', 'b3gat2', 'akr1a1', 'hp1bp3', 'rbm48', 'fam205c', 'slc39a14', 'rwdd3', 'rcvrn', 'bloc1s5', 'lrwd1', 'vwa5a', 's100a7a', 'pold4', 'optn', 'gpr137', 'dolk', 'mmp24', 'slc25a1', 'sectm1', 'eif4e1b', 'zswim9', 'trank1', 'hapln3', 'ccdc134', 'tmem39b', 'dedd2', 'pi16', 'psat1', 'ccny', 'tmed3', 'znf20', 'chd8', 'mfsd8', 'aadac', 'hmg20a', 'znf181', 'dmc1', 'shisa9', 'zbtb4', 'shoc2', 'cfap99', 'muc13', 'nampt', 'psors1c2', 'zbed9', 'lmo1', 'c10orf143', 'dand5', 'mbd5', 'jak1', 'cers2', 'rpn2', 'arnt', 'apip', 'dido1', 'sat1', 'rasl10b', 'etaa1', 'serpina7', 'cfap97d2', 'rbp4', 'tmbim1', 'or1n1', 'zranb1', 'acp4', 'castor1', 'fam120b', 'kif3c', 'spaar', 'nudt8', 'ccdc91', 'cutc', 'cog3', 'pak6', 'alg12', 'scaf4', 'sgk2', 'dab1', 'trmt44', 'cyp27b1', 'pnma8b', 'pole4', 'map3k7', 'plekhb1', 'acot4', 'slc7a2', 'st6galnac4', 'chmp6', 'cystm1', 'dcaf12l1', 'csmd3', 'ipo13', 'herc5', 'cyp21a2', 'scyl3', 'znf280d', 'sugct', 'ndufa6', 'kpna7', 'lrrc17', 'ptpa', 'thada', 'pigv', 'enpp3', 'sbsn', 'pcdh20', 'fermt1', 'krt37', 'gabpb1', 'b3gnt2', 'cct6a', 'plcxd3', 'f7', 'arhgap32', 'rasal3', 'akap13', 'uba52', 'gabrb1', 'cmtm2', 'cnr2', 'zbtb33', 'pacsin3', 'ccdc154', 'arhgap1', 'anxa11', 'alg9', 'alas2', 'tmem241', 'dlat', 'rmnd5b', 'cc2d2b', 'eif4g2', 'chml', 'pcdhb5', 'siglecl1', 'actr3b', 'or5an1', 'scimp', 'usf2', 'lrrc66', 'ino80', 'olfml2a', 'cfap97', 'cilp2', 'srms', 'rdh10', 'kcne3', 'gna12', 'rbp5', 'rnf151', 'rprd1a', 'c3', 'cep63', 'creb3l3', 'tmem230', 'csgalnact1', 'rnf115', 'cdk20', 'hoxb4', 'skap2', 'defb131b', 'abraxas1', 'znf664', 'wbp4', 'cbln2', 'slain2', 'anapc15', 'dtwd1', 'baat', 'cs', 'mosmo', 'capsl', 'chchd1', 'znf385b', 'pcdhb14', 'anks1a', 'znf641', 'baz2b', 'arc', 'gse1', 'prlr', 'ippk', 'znf33b', 'ticam1', 'kank3', 'poc1a', 'prkaca', 'krt80', 'mpst', 'znf711', 'maml3', 'tmem218', 'fam71d', 'cd80', 'cstf2t', 'ddx42', 'fem1a', 'prss37', 'pitrm1', 'dyrk1b', 'trim61', 'tnfaip3', 'morc4', 'adk', 'bet1l', 'tjap1', 'c4orf36', 'oxsr1', 'hexd', 'lrp3', 'defb121', 'dhx37', 'trmt11', 'klln', 'dctn5', 'ifngr1', 'angptl6', 'tmem207', 'lrrc38', 'ocm2', 'znf614', 'ypel4', 'supt16h', 'znf578', 'znf467', 'u2surp', 'stat1', 'zc3h7b', 'znf354c', 'trib1', 'tmx3', 'capn9', 'dcc', 'adamts2', 'yif1a', 'lrtomt', 'trmt61a', 'nanognb', 'c18orf54', 'apoc1', 'wdr74', 'pcdha1', 'spata21', 'fcrlb', 'slco3a1', 'camsap1', 'or52i1', 'flg', 'espnl', 'ccl13', 'cdr2l', 'abcc5', 'c2orf42', 'mpzl3', 'nkx2-2', 'acss2', 'sprr1b', 'rpa4', 'smim28', 'znf484', 'arfip2', 'ccdc86', 'lrrc15', 'slc22a7', 'col12a1', 'bambi', 'or4l1', 'tceal8', 'mmrn2', 'dusp15', 'polm', 'ntmt1', 'phlpp2', 'mroh2b', 'odf2l', 'fbxw2', 'wfdc13', 'frmd4a', 'dysf', 'cdhr2', 'tnfsf8', 'picalm', 'pck2', 'tomm20l', 'fam149b1', 'fam227b', 'meis3', 'sil1', 'ppp1r3a', 'drc7', 'bax', 'sstr3', 'fyn', 'ncor1', 'fam114a2', 'mmaa', 'lfng', 'rufy2', 'anxa5', 'abhd12b', 'irgm', 'mylip', 'or52b4', 'btbd6', 'hacd2', 'tpgs2', 'yeats2', 'fat4', 'msl2', 'smg9', 'or8k5', 'ell3', 'hs2st1', 'bsg', 'tmprss2', 'pcsk7', 'mmp13', 'ap1ar', 'dgat1', 'cldnd1', 'espl1', 'srrm4', 'tmem208', 'sec22a', 's100a7l2', 'ctrc', 'eif3e', 'il1a', 'ccl15', 'riok2', 'ints9', 'tex101', 'fitm2', 'ndc1', 'tbc1d20', 'gabra5', 'ube2q2', 'il18bp', 'rbm43', 'afp', 'hmmr', 'plin1', 'kcnab2', 'cd6', 'ythdf1', 'ablim3', 'pds5a', 'hspa4l', 'lmnb1', 'gcnt3', 'gipc3', 'msi1', 'ppp1r26', 'pbrm1', 'pate2', 'slc22a4', 'kdm1b', 'atp5me', 'arf6', 'anxa2r', 'oprk1', 'glis1', 'insl5', 'patl2', 'tgm4', 'tas2r8', 'atp11b', 'thpo', 'rusc2', 'vav1', 'pi3', 'ess2', 'tra2b', 'ikzf1', 'aqp6', 'mafb', 'psmf1', 'rufy3', 'klf12', 'smad1', 'dhx16', 'znf69', 'scamp1', 'antkmt', 'grik1', 'arhgef5', 'negr1', 'c11orf24', 'akr1b10', 'tdrp', 'znf784', 'lclat1', 'dpt', 'klhl11', 'capns1', 'znf671', 'mlf1', 'kansl1', 'rnf34', 'trmu', 'grik2', 'nagpa', 'f2', 'brms1', 'c11orf52', 'mgp', 'or4d1', 'strbp', 'col5a2', 'znf26', 'fchsd2', 'scg3', 'faslg', 'psmb11', 'pcmt1', 'pdpk1', 'hspa4', 'cldn9', 'gpat3', 'fahd1', 'rangrf', 'rttn', 'txn2', 'lad1', 'psme2', 'slc24a3', 'atp6v0a2', 'elp2', 'banf2', 'slc45a1', 'slc36a3', 'abhd17c', 'scn2a', 'cep78', 'rnmt', 'dpp8', 'ism2', 'vkorc1l1', 'znf37a', 'lhpp', 'cd3d', 'igdcc4', 'gtf3c3', 'ptpn1', 'rem2', 'map1a', 'syncrip', 'gtf3c4', 'hamp', 'dstyk', 'zswim2', 'ncbp1', 'ddtl', 'pcdhgb2', 'pgp', 'mdfic2', 'icam2', 'colec10', 'cldn10', 'znf24', 'mst1r', 'psmg2', 'krtap21-2', 'med15', 'anapc1', 'aspn', 'pik3c2a', 'tnfrsf1a', 'vezt', 'tigd7', 'csgalnact2', 'fgd3', 'skor2', 'uchl5', 'zbed8', 'iqgap1', 'il9', 'foxf2', 'kcnab3', 'osbp2', 'riox1', 'glod4', 'atp6v1e1', 'zbtb37', 'il17c', 'or4k1', 'mageb6', 'krtap20-1', 'trabd', 'taf1a', 'nckap5', 'lhb', 'abcc4', 'il9r', 'ypel2', 'arhgef1', 'avil', 'rnft2', 'phospho1', 'phex', 'cnot9', 'unc5d', 'mrgprg', 'fam102a', 'kcns2', 'cdc25a', 'nrp2', 'zc3h8', 'ythdc2', 'tmprss5', 'adcy2', 'vhll', 'hormad1', 'fcgr1b', 'mrtfb', 'utrn', 'dlgap1', 'znf606', 'arhgdig', 'fam177b', 'tbck', 'atxn1l', 'or6c70', 'plekhb2', 'chrna7', 'pard6g', 'ndor1', 'trpc4ap', 'tanc1', 'slc51a', 'rhoc', 'spdye1', 'fli1', 'wipf3', 'plppr2', 'gpr39', 'wdr75', 'fam163a', 'fam131a', 'krt1', 'znf140', 'rnf39', 'tram1l1', 'or51e2', 'nxph4', 'p2rx2', 'asmt', 'c1qa', 'mme', 'olr1', 'edn2', 'adam23', 'rybp', 'shox2', 'tgm1', 'epn1', 'cckbr', 'haghl', 'mcfd2', 'pcdhac1', 'kiaa1671', 'dlgap3', 'adipor1', 'lrrc26', 'slc25a2', 'ncr1', 'usf1', 'cdc73', 'iqub', 'fcer1a', 'etnppl', 'or5ak2', 'ngdn', 'mageb16', 'nop9', 'set', 'sh3rf2', 'ccni', 'kcnj2', 'shroom2', 'c19orf85', 'grin1', 'rtn4rl2', 'cd1a', 'gnb3', 'soga3', 'bicdl1', 'ap4s1', 'muc20', 'pcsk4', 'spata19', 'smim10', 'thap2', 'ctsc', 'edem2', 'magi1', 'crb3', 'ssbp3', 'mdp1', 'pir', 'atoh7', 'snrpa1', 'arntl2', 'crlf3', 'atp6v1g3', 'mprip', 'cdc20b', 'wdr55', 'nup205', 'prkcb', 'fkbpl', 'ppp1r8', 'clip1', 'fgf10', 'ly6g6f', 'c2orf76', 'elf1', 'katnbl1', 'golga7b', 'vwa8', 'kif13a', 'col9a1', 'ltc4s', 'oxt', 'slc49a3', 'dlx2', 'hps6', 'spryd4', 'sh2d1b', 'neurog3', 'il36g', 'or10c1', 'aoc2', 'ccdc85c', 'eva1c', 'txlng', 'zdhhc13', 'bco2', 'tec', 'rnase8', 'atp5f1e', 'znf432', 'atp1b4', 'igsf9', 'nufip1', 'snrnp200', 'use1', 'arl8b', 'klhl17', 'ncoa6', 'fyb1', 'cdc26', 'uba2', 'ctdspl2', 'ccnd2', 'ddost', 'pomp', 'ahcyl2', 'phf6', 'abcb7', 'galnt4', 'znf512b', 'son', 'spaca6', 'lyplal1', 'nhs', 'supt3h', 'gfra2', 'cyb5rl', 'pbx1', 'adora1', 'necap2', 'babam2', 'adm2', 'hpdl', 'atp7b', 'cdnf', 'sned1', 'tunar', 'elf2', 'c1orf116', 'zfp42', 'znf496', 'rln3', 'lkaaear1', 'rgs6', 'spin4', 'il11', 'pcdha13', 'nav3', 'plce1', 'or8h1', 'cyp2w1', 'cap1', 'rnasel', 'il13ra1', 'ppial4a', 'igsf11', 'mpzl2', 'cmtm1', 'or8b2', 'wnt2b', 'c9orf78', 'herc4', 'sh3bp5', 'phtf2', 'kat6a', 'znf717', 'or13a1', 'pou2af1', 'ppcs', 'nbeal1', 'mlph', 'yeats4', 'borcs7', 'pparg', 'rnf41', 'zdhhc17', 'spty2d1os', 'fbxl2', 'scgb2a2', 'prxl2b', 'fancl', 'sp9', 'or2g6', 'col5a3', 'igsf23', 'cfap299', 'ddx46', 'gba', 'phka2', 'wdr72', 'myog', 'c5orf22', 'nfatc2', 'echdc1', 'rp1l1', 'kif22', 'igfbp4', 'sp140', 'slc25a47', 'tmco1', 'hltf', 'patz1', 'tab3', 'phf20l1', 'ctsf', 'ndufa8', 'parp2', 'lrrc4', 'csta', 'troap', 'stap2', 'eif2s2', 'wdr44', 'fabp9', 'gpr62', 'znf148', 'ipo11', 'nrbf2', 'krt14', 'znf397', 'or2at4', 'lmo2', 'krtap19-7', 'lrig2', 'snrnp35', 'zc3hc1', 'tmppe', 'thnsl2', 'gja10', 'dync2li1', 'brinp1', 'rtl8b', 'sec16b', 'eef1akmt3', 'rnf185', 'znf146', 'myo15b', 'mgam2', 'max', 'lrrtm3', 'znf85', 'gtse1', 'fam71f2', 'evx2', 'taf11l6', 'fnbp1', 'tmem182', 'arrb1', 'tm4sf5', 'dennd6b', 'asl', 'mrfap1l1', 'ubr2', 'gbp3', 'samd8', 'hacd4', 'or2m4', 'igfl4', 'tdp1', 'anxa2', 'ankdd1b', 'irx5', 'tph2', 'izumo1', 'grwd1', 'aldh1a1', 'rad51', 'sgo1', 'strn3', 'lrmda', 'asgr2', 'pde6d', 'il13', 'hbegf', 'dlx3', 'stimate', 'ldlrad1', 'muc1', 'ankrd17', 'clec12a', 'ears2', 'psmd5', 'il27', 'med13l', 'znf837', 'cfap57', 'klhdc8a', 'shh', 'zmiz1', 'kremen1', 'shisa3', 'ldlrap1', 'ccdc171', 'pcsk9', 'selenoi', 'kctd13', 'nol11', 'recql', 'lrrn2', 'h6pd', 'slc38a8', 'serpina6', 'zbtb16', 'tmem199', 'slc39a2', 'sorcs3', 'clpb', 'r3hdml', 'arhgap15', 'atg16l2', 'ache', 'ptpn6', 'tmem178b', 'ssh1', 'sowahc', 'nek8', 'znf727', 'slc5a2', 'synpo2l', 'wfdc2', 'atp1a4', 'tfap2b', 'zbtb43', 'mat1a', 'krt84', 'usp35', 'gpr20', 'mpp2', 'mdh1b', 'kaag1', 'ct55', 'arrdc2', 'dclk2', 'or2s2', 'sertad2', 'spink1', 'znf107', 'gimap6', 'tmco6', 'scrt1', 'klrc4', 'frmd6', 'kiaa1109', 'gpr101', 'mttp', 'chrfam7a', 'kif2a', 'mbd1', 'slc9b1', 'armh4', 'spock3', 'rapgef5', 'znf205', 'nags', 'vcam1', 'kpna4', 'ptar1', 'ino80e', 'rbbp8', 'nudc', 'ezh2', 'cep135', 'ccser2', 'trim15', 'shroom4', 'slc23a3', 'znf184', 'ppp2r5d', 'or6c6', 'arel1', 'smim26', 'vps45', 'scfd2', 'cnnm2', 'golim4', 'or52e4', 'abat', 'usp6', 'itgb3', 'lrrc3', 'cfap97d1', 'cisd3', 'ercc3', 'mt2a', 'reps2', 'mfap4', 'p2ry12', 'lrit3', 'ggt2', 'exd2', 'fbxo44', 'lrfn2', 'ttc16', 'c9orf152', 'krtap5-9', 'sirpd', 'b3gat3', 'clec14a', 'cenpb', 'arsi', 'kiaa1143', 'fcer1g', 'dynlt1', 'bcas2', 'snx33', 'znf23', 'elovl5', 'agpat2', 'gsk3b', 'foxf1', 'syt16', 'cav2', 'ppm1d', 'mettl3', 'rnaseh1', 'moxd1', 'trim9', 'ywhag', 'cdca8', 'plekhg4b', 'armh3', 'wwp1', 'tapt1', 'rspo4', 'alpi', 'stmp1', 'cyp2c9', 'rhpn2', 'nol3', 'myadm', 'phc2', 'rassf2', 'myt1', 'pcdhb2', 'uggt2', 'slc6a17', 'rbfa', 'alg3', 'iqcm', 'ca11', 'padi3', 'adnp', 'nox4', 'eme2', 'timd4', 'gga1', 'sftpc', 'tsen2', 'fbxl16', 'rabggtb', 'mycn', 'il3', 'aimp2', 'obsl1', 'camk1g', 'aplp1', 'aasdhppt', 'sem1', 'mkx', 'cwc15', 'dennd4a', 'krtap25-1', 'mt-atp6', 'paqr8', 'copz2', 'dhrs2', 'vps33b', 'esrrg', 'atp6v1f', 'egf', 'emx2', 'kcnh1', 'gpr183', 'polr3g', 'rgs22', 'rab34', 'atg13', 'fam133a', 'gnai3', 'nxnl2', 'ap3b1', 'hhla1', 'myo1g', 'hsf2bp', 'ckmt2', 'prap1', 'znf106', 'otx2', 'lipe', 'fbxw4', 'eif4g3', 'hdgfl2', 'srbd1', 'rhof', 'prima1', 'serpinb13', 'zpbp', 'gtpbp3', 'rtl10', 'ube3a', 'psmc3', 'tbcel', 'kcnj13', 'pknox1', 'twf1', 'prr36', 'klhl36', 'maged1', 'chat', 'arhgap45', 'sos1', 'smarcal1', 'pfn3', 'hddc2', 'cldnd2', 'cd38', 'ankrd34b', 'gp1bb', 'casc3', 'stk10', 'tmem62', 'tmem231', 'kif18b', 'fam178b', 's100z', 'atp23', 'uck1', 'st6galnac6', 'traf7', 'yipf2', 'arl5a', 'slc26a4', 'agk', 'siah2', 'ppargc1a', 'cobl', 'gatm', 'hydin', 'fgl1', 'haus6', 's100a4', 'hsd17b6', 'brd3os', 'txnl4a', 'tex55', 'cd163l1', 'frrs1', 'psma3', 'apobec3c', 'tmem253', 'gng3', 'lyzl6', 'rfwd3', 'fastkd3', 'stom', 'st8sia1', 'stard6', 'impdh2', 'efcab2', 'cfb', 'polr1d', 'akap6', 'atg7', 'cep72', 'ankib1', 'cercam', 'rassf10', 'gpsm3', 'kit', 'stac3', 'cnga3', 'wdr48', 'spata18', 'eif3j', 'sec63', 'grhl1', 'foxj1', 'crispld1', 'klrc1', 'aldh1l1', 'lilra2', 'prkag3', 'maml1', 'rab5b', 'tmem266', 'itgad', 'dnlz', 'scgb1d1', 'znf366', 'igf1r', 'znf354b', 'ferd3l', 'pmm2', 'gamt', 'ksr1', 'dpy30', 'crbn', 'cabp4', 'mtf1', 'irf8', 'erap2', 'aamp', 'rnf38', 'vps53', 'sebox', 'cdrt1', 'pdcl2', 'akap8', 'ino80d', 'urm1', 'cd33', 'tenm4', 'camta1', 'flot2', 'cert1', 'c1orf105', 'srf', 'adgrf5', 'map1lc3c', 'prkcz', 'wdcp', 'msrb1', 'fndc8', 'znf334', 'heatr3', 'stx16', 'inmt', 'acox1', 'hsbp1', 'micos10', 'acbd6', 'ccdc107', 'frem2', 'pgs1', 'ctsk', 'rad17', 'gpr85', 'slc16a6', 'vapb', 'itga2b', 'gpr25', 'znf556', 'aldh1a2', 'serpinb11', 'megf10', 'pth2', 'pde1b', 'rcbtb1', 'ndufb2', 'pigu', 'rasip1', 'rras', 'tm4sf1', 'dync1i1', 'nkx2-8', 'skp2', 'ncstn', 'tmem63a', 'nsd2', 'fabp5', 'dprx', 'agtrap', 'lin7c', 'c8orf74', 'dcaf4l2', 'rec8', 'krtap19-4', 'acvr1b', 'nanogp8', 'znf709', 'pfn2', 'garem2', 'serpina5', 'leutx', 'fjx1', 'cuedc2', 'trim67', 'vps13a', 'bin2', 'gcnt1', 'xrcc1', 'hmgn1', 'nmi', 'mbd3', 'fam155b', 'slc7a3', 'smc6', 'gimap1', 'rims3', 'fndc5', 'rfc4', 'fbh1', 'nucb2', 'ngly1', 'ccdc68', 'ms4a4e', 'znf792', 'dusp21', 'jun', 'krtcap3', 'chrdl2', 'ivd', 'mctp2', 'ubac1', 'dennd1b', 'dzip1l', 'fam76a', 'hdac4', 'rep15', 'ccr9', 'myl6b', 'mt1e', 'higd2a', 'napepld', 'ibsp', 'lmo4', 'zbtb38', 'dact2', 'rsf1', 'sox14', 'mdfic', 'pcsk1', 'rnase2', 'fasn', 'mcu', 'haao', 'ctsz', 'zdhhc9', 'calml3', 'kat14', 'sra1', 'adnp2', 'neurl3', 'timm8b', 'tmem88', 'mkrn2', 'mobp', 'marco', 'prrg4', 'gsta2', 'c11orf71', 'agbl2', 'gpn2', 'dapp1', 'ms4a2', 'rnase7', 'rfc2', 'atp1a1', 'atp5mc1', 'atrx', 'cope', 'smim20', 'ppcdc', 'abhd4', 'tfpt', 'neo1', 'sec61a1', 'tbc1d16', 'ckap2', 'adgrf2', 'hps5', 'ivl', 'uts2b', 'astn1', 'adh1a', 'rasgrf2', 'jakmip2', 'st18', 'mettl8', 'kcna4', 'pdcd7', 'scly', 'kat2a', 'arl14epl', 'fam171a2', 'calcoco2', 'hhat', 'lpar2', 'tdrd3', 'tmem82', 'tango6', 'zp3', 'rnf135', 'magix', 'npsr1', 'il4', 'arl1', 'palld', 'wbp2nl', 'arl2', 'or4f21', 'zglp1', 'dbn1', 'hpse2', 'yrdc', 'cdca7', 'psmb8', 'ptgr1', 'pecr', 'ccdc82', 'rdh5', 'rita1', 'hoxa9', 'prpf3', 'cdh11', 'gucd1', 'pqbp1', 'rap1gap', 'tacr1', 'ybx2', 'spem3', 'rasef', 'taf5', 'rbfox2', 'alpk2', 'tdrd12', 'mfsd9', 'pla2g12b', 'taf10', 'nkx2-6', 'sall2', 'cep170', 'tmem50a', 'tulp2', 'styk1', 'gnpda2', 'fetub', 'rnf40', 'mettl21a', 'wsb2', 'guca2a', 'galnt11', 'dtx2', 'tlx3', 'aadacl2', 'usp1', 'rrp36', 'myrf', 'kdm5b', 'slc4a2', 'c4bpb', 'srp54', 'slc2a7', 'cep68', 'unc50', 'erbin', 'meis1', 'defa5', 'net1', 'coq8b', 'ctns', 'uso1', 'il17rd', 'cep126', 'sgpp1', 'vwf', 'topaz1', 'mgst2', 'cck', 'znf862', 'med28', 'eif4a2', 'rnf148', 'rtl8a', 'sall4', 'zcchc24', 'kremen2', 'c10orf120', 'cyp1b1', 'smim1', 'pbx2', 'apobec3g', 'pfdn2', 'pcdh19', 'c15orf62', 'tmed8', 'adrb2', 'edn1', 'apoa2', 'elof1', 'c10orf95', 'cers3', 'kiaa1549', 'frmd4b', 'tf', 'ahsa1', 'ier2', 'foxp3', 'sh2b1', 'nhlh2', 'pom121c', 'ak9', 'spata4', 'fastkd1', 'mcur1', 'ppm1n', 'vstm2b', 'pnpla4', 'bmt2', 'usp48', 'tarbp1', 'sipa1l3', 'zxdb', 'tchp', 'spock1', 'znf219', 'colgalt1', 'akap4', 'slitrk5', 'wdr7', 'cdyl', 'fes', 'dcaf1', 'st6galnac5', 'dhx9', 'smim8', 'myom2', 'c12orf56', 'samd15', 'bcas3', 'atp6ap2', 'tns4', 'ppp1r42', 'il19', 'srpk2', 'baiap3', 'cox11', 'zswim5', 'pyurf', 'blcap', 'ccdc54', 'fam161a', 'zc3h18', 'hspb9', 'lst1', 'phactr4', 'kif9', 'ecrg4', 'pglyrp3', 'wrnip1', 'selenow', 'lsm14b', 'icos', 'tex35', 'fbxo40', 'tars2', 'fkbp14', 'nlrp4', 'rc3h1', 'rnase3', 'haus1', 'epb41l3', 'ocel1', 'krt33a', 'raly', 'agpat1', 'pkdcc', 'tmprss4', 'tfdp1', 'c2cd4c', 'qtrt1', 'atp5mc3', 'yipf3', 'smim24', 'ftcdnl1', 'gzma', 'or5b2', 'ndufb9', 'mab21l3', 'nol10', 'vps18', 'ywhaq', 'ddah2', 'znf18', 'trmt6', 'tceal3', 'or2t10', 'insig1', 'lrig1', 'mucl1', 'stard13', 'tbx21', 'c1qtnf1', 'dynlt3', 'bmpr1b', 'znf678', 'slco5a1', 'aunip', 'tcf15', 'abcb10', 'plekhm3', 'ctnna3', 'slbp', 'was', 'slc9a8', 'slc4a4', 'mapk14', 'tmem14b', 'frmd1', 'or5k4', 'pum1', 'hoxa4', 'cabs1', 'glce', 'stx4', 'znf780b', 'ppil2', 'folh1', 'il32', 'psap', 'tpcn2', 'c1qtnf9', 'cyth2', 'cdk5rap3', 'il3ra', 'tmem120a', 'cbfa2t3', 'pate3', 'glmp', 'itgbl1', 'rtl1', 'fbxo30', 'tagln2', 'saysd1', 'slc16a10', 'znf836', 'mn1', 'atl1', 'slc25a6', 'npy', 'pepd', 'cit', 'tmem51', 'ankrd50', 'arhgef35', 'nfe2l3', 'crct1', 'hspbap1', 'kmt2c', 'plaa', 'yae1', 'ank3', 'reps1', 'vps39', 'sdr9c7', 'mt1b', 'apc', 'znf317', 'mageb1', 'selenot', 'cryl1', 'cd68', 'znf568', 'zscan32', 'drd1', 'ngfr', 'ccdc85b', 'or4k15', 'spatc1', 'adgrg5', 'znf383', 'spc25', 'pcp4', 'tssk2', 'slc6a12', 'ptbp1', 'atg4a', 'siah1', 'cdc42se1', 'washc5', 'cd7', 'gltp', 'klhl33', 'b4galt4', 'or8k3', 'tfam', 'trip11', 'slc33a1', 'rcan2', 'camk1d', 'tlr1', 'slc12a5', 'lime1', 'rdh14', 'gnpda1', 'aldh16a1', 'rab8a', 'obp2b', 'rmi1', 'ctf1', 'glg1', 'mcm5', 'prr27', 'ptgs2', 'fbxo4', 'fbxo8', 'fhl5', 'sphk1', 'cldn12', 'or13c3', 'drich1', 'ppp1r10', 'lman2', 'bnip5', 'csrnp2', 'sars2', 'bpifb6', 'btbd9', 'ttc33', 'ccdc13', 'etv7', 'ndufb1', 'sarnp', 'maz', 'arl9', 'ccnj', 'abhd14a', 'id1', 'dnajc5', 'vdr', 'stpg3', 'amn', 'cacna1h', 'tekt5', 'c1orf54', 'frat1', 'ghitm', 'c17orf99', 'dclre1a', 'setdb1', 'aqp9', 'znf211', 'fam237b', 'ctdspl', 'eif4b', 'c16orf74', 'smo', 'dnm2', 'ldhc', 'me1', 'cacna1e', 'trps1', 'cacnb2', 'coch', 'c2orf73', 'rgr', 'mmp8', 'nol4l', 'ankrd1', 'c1orf43', 'fam205a', 'mthfs', 'rpgr', 'paqr4', 'xcr1', 'smco2', 'tax1bp1', 'phactr3', 'dhx8', 'or1n2', 'cipc', 'rsph1', 'c10orf67', 'ica1l', 'lrriq3', 'mfsd4a', 'il1rl2', 'fbll1', 'phf24', 'dbndd2', 'gtsf1', 'tmem202', 'bco1', 'tnmd', 'magec3', 'dcdc2c', 'bbs2', 'galns', 'tmem151a', 'slc6a6', 'rhbdd1', 'znf680', 'abcb11', 'otud1', 'slc27a6', 'mamld1', 'psmb1', 'fndc9', 'c1galt1c1l', 'ldb2', 'tox', 'mettl25', 'ccn1', 'spag8', 'ptprk', 'atf6', 'sohlh1', 'ndufc2', 'slc16a3', 'cep19', 'acbd5', 'etnk2', 'taf5l', 'tafa5', 'ppic', 'col11a1', 'podnl1', 'birc5', 'prr19', 'hacl1', 'cd37', 'ehbp1l1', 'rai1', 'abcd3', 'c3orf62', 'rag1', 'krt17', 'cyba', 'ctxn3', 'ly6d', 'rnf11', 'c11orf80', 'sephs1', 'rab11fip1', 'gabbr2', 'slc46a3', 'trir', 'tmem185a', 'c1orf21', 'ubl4b', 'faim', 'ech1', 'eif1ad', 'lrg1', 'pak3', 'vegfc', 'znf273', 'mafg', 'elac1', 'rhobtb3', 'dguok', 'hk2', 'adamts8', 'pnrc2', 'arl2bp', 'pnma8a', 'nlrp6', 'hsd17b12', 'exoc3l4', 'ncf2', 'znf92', 'dcstamp', 'c1orf189', 'nrn1l', 'chmp4c', 'gpr4', 'hspa2', 'cavin1', 'arhgef16', 'rgs18', 'cfap46', 'grpr', 'n6amt1', 'neurod2', 'galt', 'muc15', 'dph7', 'inpp4a', 'midn', 'tmem18', 'znf66', 'ccnb3', 'kazald1', 'hes2', 'trmt1l', 'spns1', 'fmo1', 'nudt14', 'dnhd1', 'anapc16', 'gcnt2', 'smim13', 'calcoco1', 'tbpl2', 'slc27a4', 'parvg', 'wasl', 'satb1', 'skil', 'slc39a13', 'arl15', 'ogfr', 'asb4', 'ripply3', 'epx', 'unc119b', 'myl6', 'slc22a9', 'ccdc188', 'tspan7', 'opalin', 'idh2', 'ifitm1', 'tex264', 'golga3', 'eif3h', 'zeb2', 'slc17a5', 'ap2a2', 'ercc5', 'tpsg1', 'dmp1', 'gdpd2', 'tp53inp1', 'psme3', 'appl1', 'eps8', 'syt3', 'ptpn13', 'abca9', 'nrip1', 'atg9b', 'slc43a3', 'or4m1', 'nupr2', 'tmem187', 'tmc5', 'b4gat1', 'colec12', 'rictor', 'hivep3', 'myef2', 'daw1', 'pex6', 'vsig8', 'tgfbrap1', 'rab6b', 'sfxn3', 'rnf139', 'wtip', 'ube2d4', 'ak1', 'zfand2b', 'nanos1', 'poli', 'apol1', 'tspear', 'ankrd44', 'atp12a', 'retnlb', 'itfg1', 'polb', 'mapre1', 'trpv2', 'c1orf131', 'galnt14', 'pramef19', 'fam151b', 'sbf1', 'srpx2', 'ttc13', 'gon4l', 'eaf1', 'mtmr9', 'ahdc1', 'pde6b', 'blid', 'rprm', 'pglyrp1', 'c2orf15', 'usp14', 'ccdc117', 'tff2', 'tfdp2', 'lrrc69', 'cmc1', 'bahd1', 'crybg3', 'znf157', 'tiparp', 'kdr', 'lin54', 'mtmr12', 'mageb18', 'atpaf2', 'xkr5', 'lefty2', 'slco6a1', 'spa17', 'zadh2', 'clk2', 'il7', 'ncapg2', 'wrap73', 'fancc', 'grp', 'syn3', 'hdac8', 'nt5e', 'fcrl2', 'erp29', 'cep95', 'tmc3', 'cnnm1', 'krtap3-2', 'zfp30', 'znf428', 'wnt1', 'sln', 'trim56', 'mettl14', 'ccn4', 'arap3', 'entpd3', 'abca2', 'hnrnpd', 'cfap58', 'celsr1', 'stx2', 'or52a5', 'nap1l4', 'fut3', 'hmga1', 'stra6', 'ndufaf5', 'stkld1', 'ush1g', 'mfsd4b', 'strn4', 'fgfbp1', 'arhgef39', 'fam135b', 'foxd4', 'fth1', 'ring1', 'myoz1', 'hoxa1', 'or5l1', 'arx', 'znhit1', 'npipb2', 'mtmr11', 'slc2a5', 'tbc1d9', 'npas1', 'scml2', 'akap5', 'mfsd11', 'crx', 'camta2', 'cidea', 'slc7a1', 'vn1r4', 'mavs', 'agbl5', 'disp3', 'ndufa4l2', 'msrb2', 'rbm7', 'znf407', 'thrap3', 'ube2v2', 'tfb2m', 'odf1', 'phyhipl', 'tnfrsf12a', 'cd274', 'nrg1', 'tnnt2', 'stard9', 'enc1', 'hrc', 'ankrd45', 'tspan2', 'pkn1', 'stx6', 'cldn17', 'qsox1', 'bcor', 'cttnbp2nl', 'fbxl17', 'tcf23', 'ybx3', 'xpnpep2', 'pdzk1', 'ints14', 'ptprn', 'snx18', 'tor1a', 'aoah', 'dph5', 'ergic1', 'clec4c', 'adam30', 'znf552', 'ugt2b17', 'cdc42ep2', 'cnst', 'abracl', 'usp42', 'pdcd5', 'smg1', 'fermt3', 'gapt', 'ca4', 'znf880', 'tomm34', 'smim9', 'suox', 'crygd', 'arhgap33', 'fam214b', 'rnf141', 'c10orf88', 'zfand2a', 'bhlhe22', 'znf480', 'rdh12', 'tnfsf4', 'mettl17', 'gid4', 'c1qtnf3', 'jpt2', 'pars2', 'ecsit', 'ccno', 'or1s2', 'strn', 'shmt1', 'ddx21', 'atp13a3', 'mipol1', 'srebf2', 'apmap', 'vgll3', 'jchain', 'laptm5', 'acot1', 'cd300c', 'znf654', 'abca7', 'manea', 'nepro', 'gsdmd', 'tsks', 'fam166a', 'efhd1', 'fam166c', 'cga', 'sytl3', 'lrrc72', 'slc29a2', 'eif2ak4', 'ndufv3', 'ppdpf', 'mvd', 'ankh', 'fitm1', 'kif17', 'cmip', 'fam227a', 'ccdc61', 'znf793', 'pnpla8', 'ccn5', 'sec31a', 'rab28', 'actl7b', 'tnfaip8l1', 'ddx25', 'prkar2b', 'b3galnt1', 'cpa4', 'gkn1', 'camsap2', 'myo3a', 'mymx', 'tas2r42', 'fthl17', 'cyp2b6', 'slc35b1', 'xpo6', 'pik3ip1', 'pabpc4', 'lingo1', 'grb7', 'stk38l', 'cenpl', 'pxylp1', 'lrrc56', 'znf236', 'adat2', 'frg1', 'fblim1', 'cdc37', 'kiaa0408', 'ppip5k1', 'c17orf75', 'gfra1', 'fn1', 'stoml2', 'ttr', 'ctnnal1', 'entpd8', 'tulp4', 'lman1', 'cybc1', 'rasa1', 'fam111b', 'pts', 'c12orf65', 'e2f4', 'paqr6', 'atp4a', 'ranbp6', 'panx2', 'napb', 'sema3g', 'apoa4', 'slc25a4', 'c11orf58', 'or5m1', 'gcna', 'dcun1d3', 'ap2a1', 'bach2', 'cox19', 'bmerb1', 'hs3st4', 'rab19', 'actr1b', 'slc52a3', 'man1b1', 'acer1', 'pde4a', 'znf486', 'pld5', 'ddx43', 'hhipl2', 'brk1', 'ankle2', 'klhl26', 'naaa', 'dgkq', 'sdhaf4', 'llph', 'ptgfr', 'ficd', 'septin6', 'ppp2cb', 'fam43b', 'tsr1', 'hapln2', 'htr5a', 'mtnr1b', 'nanp', 'ddx10', 'lrrc58', 'sesn3', 'uchl1', 'ckb', 'slc10a4', 'cnga1', 'deptor', 'antxrl', 'or10a3', 'prokr1', 'ss18l2', 'mydgf', 'rbbp6', 'masp1', 'ube3b', 'eif1b', 'or10g3', 'tspan9', 'rbbp7', 'cpt1c', 'igfals', 'knstrn', 'mettl11b', 'erbb4', 'fam126b', 'atoh1', 'znf264', 'otof', 'rhex', 'iqcf1', 'lhcgr', 'afm', 'txndc11', 'stx19', 'ift43', 'hexim2', 'uchl3', 'ttll2', 'hcn4', 'tex53', 'ube2d2', 'agpat4', 'calhm3', 'ssrp1', 'ccdc69', 'tekt1', 'snrpd1', 'stim2', 'kirrel2', 'nat8', 'gpr18', 'mipep', 'ilf3', 'cic', 'fut1', 'ctsd', 'ncapg', 'ikbke', 'atg4d', 'rap1gds1', 'plekhs1', 'fbxw10', 'col24a1', 'gpha2', 'pdlim5', 'endog', 'ppme1', 'cfhr4', 'mmel1', 'nt5dc3', 'p2rx5', 'tada2a', 'tceal1', 'plekha3', 'klrd1', 'prdx2', 'mcf2', 'or9g1', 'kxd1', 'dock7', 'ppp1r37', 'dusp26', 'adrm1', 'paqr3', 'tmem232', 'pom121l2', 'cuzd1', 'dennd5a', 'btla', 'thap12', 'maco1', 'c11orf45', 'gngt2', 'c17orf67', 'or1m1', 'gcc2', 'pth', 'naa38', 'atp2c1', 'il1rapl2', 'cyp2c18', 'adprh', 'hrh3', 'ulbp3', 'tyr', 'b4galnt4', 'mfap1', 'mfsd1', 'slit1', 'sigirr', 'ca9', 'tbx15', 'pcdha2', 'or52i2', 'zc3h12a', 'ogdh', 'soat2', 'ppp1r11', 'postn', 'bod1l1', 'akr1e2', 'alox12', 'cpsf4l', 'ociad1', 'auh', 'anks1b', 'foxo3', 'ugt8', 'odf2', 'rbm28', 'ctu1', 'nkapd1', 'cpd', 'tjp3', 'zdhhc14', 'znf215', 'srsf10', 'tnfaip8l3', 'rnaseh2c', 'rfc5', 'pde7b', 'acta2', 'acod1', 'ilf2', 'erich5', 'armc12', 'ints3', 'pus1', 'vstm2l', 'gypc', 'mgat5', 'rabl6', 'znf557', 'orc1', 'pitpna', 'lrrc20', 'tab2', 'tbx4', 'txnrd3', 'ten1', 'fh', 'znf710', 'zdhhc2', 'cmss1', 'bnip2', 'degs1', 'ifit3', 'pacs2', 'dennd2d', 'gatd1', 'cd9', 'prr20g', 'fbxo21', 'hsdl1', 'pigl', 'depdc1b', 'pdzd3', 'znf302', 'insc', 'ncapd3', 'slc35b3', 'rnpepl1', 'tlnrd1', 'kpnb1', 'prodh2', 'ropn1b', 'arpc4', 'oxsm', 'lif', 'syndig1', 'phb2', 'phc3', 'ucn3', 'c10orf105', 'cenpc', 'rtn2', 'dusp12', 'or10g6', 'fgfr1op2', 'slc6a4', 'btnl2', 'atxn7l3', 'chodl', 'cyp1a1', 'glyctk', 'eps8l3', 'arhgef9', 'abcg4', 'fuca1', 'snf8', 'ramp2', 'dnajb11', 'prdm7', 'retsat', 'atp5pf', 'dtnb', 'dact3', 'ccl28', 'fdft1', 'banf1', 'nup43', 'crocc2', 'ncan', 'far2', 'or4k5', 'heatr4', 'vti1a', 'zmynd19', 'gna15', 'slc38a1', 'zdhhc6', 'usp5', 'raet1l', 'cldn1', 'lgmn', 'lca5', 'stx7', 'uqcrb', 'tnrc6c', 'srrm2', 'eps15', 'wdr3', 'cdc23', 'adgre5', 'katna1', 'syce3', 'tmem41a', 'nutm1', 'eml6', 'ffar2', 'c19orf33', 'cr2', 'map3k6', 'znf511', 'slc5a1', 'ahrr', 'nme3', 'tbc1d15', 'shroom1', 'rbp3', 'gpr31', 'rgs11', 'thsd8', 'manbal', 'ankrd40cl', 'irf6', 'aldh2', 'pipox', 'tmem163', 'slc22a5', 'emx1', 'cdc42bpb', 'crcp', 'mcoln2', 'tspan15', 'erap1', 'gnb1', 'msra', 'gmppa', 'atr', 'fbln1', 'hmox1', 'sprr3', 'tbcc', 'pole2', 'chrd', 'prss53', 'sult6b1', 'tnfaip2', 'znf582', 'wdr5b', 'ddx50', 'gage10', 'sprn', 'gla', 'strip2', 'slc1a5', 'ccdc88b', 'rabif', 'kiaa0825', 'tent5d', 'trpv4', 'mpeg1', 'ing4', 'mkrn3', 'znf286a', 'ces3', 'ybey', 'ccdc157', 'sult4a1', 'gtf2i', 'atg101', 'pcm1', 'usp17l15', 'evi2a', 'dnaja4', 'specc1', 'senp3', 'dmrt1', 'arfip1', 'mtss1', 'six5', 'smad9', 'foxd4l5', 'utp23', 'dalrd3', 'tyk2', 'mpc2', 'ddx4', 'galnt18', 'ttc21a', 'zmat1', 'lpgat1', 'tomm70', 'fbxl15', 'axdnd1', 'atf3', 'ulbp2', 'per2', 'eef1e1', 'lrrc37a3', 'galnt15', 'acad8', 'scn8a', 'kcnj6', 'ermard', 'aar2', 'tmem252', 'snap47', 'polr2i', 'satb2', 'znf608', 'ciao1', 'fahd2b', 'odr4', 'wbp1', 'avl9', 'lactb', 'slurp2', 'sox9', 'hmga2', 'tmem61', 'yipf4', 'pnliprp3', 'or4s1', 'sptlc1', 'uqcrc2', 'lyve1', 'fgf18', 'baz2a', 'stk31', 'bod1l2', 'sox8', 'chic1', 'clasrp', 'ptn', 'cops7b', 'thap6', 'trappc11', 'sult1c4', 'or13c8', 'or1a1', 'tox3', 'polk', 'taar6', 'gna11', 'nvl', 'kctd5', 'dnajc24', 'rhbdf1', 'ccdc9b', 'zxdc', 'plau', 'slc2a14', 'rai14', 'cyc1', 'cdadc1', 'tex9', 'sgsm1', 'dnajb8', 'fdx1', 'bfsp2', 'fndc10', 'rpf1', 'axl', 'znf32', 'znf444', 'rab9a', 'lta', 'sh2d4b', 'anp32a', 'cbln1', 'or2l13', 'galnt12', 'il4r', 'upf2', 'tmco2', 'akain1', 'u2af2', 'phtf1', 'sec14l2', 'raet1g', 'yipf6', 'pitx3', 'ndufa1', 'htr3a', 'oprd1', 'psmg4', 'nin', 'gprin3', 'tesmin', 'nup37', 'plppr5', 'tbc1d25', 'ms4a3', 'dazap1', 's100a14', 'inka1', 'thbs4', 'rasa4b', 'akap1', 'wiz', 'acsm1', 'pip4k2c', 'myl1', 'mtmr2', 'tcp10l', 'bst1', 'marveld1', 'or6c2', 'il31ra', 'kpna5', 'btrc', 'rab20', 'zbed4', 'opa1', 'ankrd16', 'cntd1', 'cd177', 'rtn1', 'itgav', 'rida', 'timm9', 'egfl7', 'arf4', 'pdk4', 'trafd1', 'ntm', 'galk1', 'rbm11', 'ldlr', 'plp2', 'ifit5', 'wfdc5', 'pelp1', 'c8orf58', 'rfpl4b', 'ppp2r5a', 'cdrt15l2', 'gli2', 'map1b', 'or12d2', 'prr11', 'frem3', 'c22orf15', 'tnfrsf18', 'rab1b', 'spry1', 'l3mbtl2', 'scn1b', 'nol9', 'efemp2', 'csf2', 'gria2', 'slc44a3', 'fzd3', 'clu', 'ccin', 'zc3h10', 'gypa', 'ms4a14', 'selenov', 'trak1', 'perp', 'pisd', 'pkib', 'pnma5', 'slc4a9', 'socs7', 'st13', 'igsf21', 'glcci1', 'psmd13', 'tmsb10', 'sp100', 'sds', 'mnx1', 'ripor1', 'tmod1', 'swap70', 'sesn2', 'zcchc7', 'foxa2', 'cdc7', 'ms4a6a', 'txnl4b', 'pcyt1a', 'mmrn1', 'vnn2', 'cfap298', 'pacsin1', 'fhl3', 'ervfrd-1', 'abhd5', 'znf346', 'or2w1', 'gys2', 'polg2', 'pcdhga1', 'ube2o', 'fam135a', 'dsg3', 'gja3', 'dip2a', 'ltf', 'ribc2', 'acsm5', 'gh1', 'tmem38b', 'pou2f1', 'rcc1', 'esam', 'cfp', 'pcdha6', 'tfap2d', 'tmub1', 'mcm9', 'adra2b', 'immt', 'mfsd14a', 'xkr6', 'nectin1', 'emp3', 'ms4a7', 'adra1d', 'fndc11', 'rwdd2b', 'nol6', 'znf385d', 'taok2', 'ptprh', 'spred2', 'haus2', 'rergl', 'gale', 'bok', 'sox30', 'wdr5', 'btaf1', 'lamtor2', 'elavl3', 'col21a1', 'sirt2', 'gata1', 'sap30l', 'lrp4', 'cd69', 'or2t6', 'spata5', 'cstf1', 'taf1c', 'ndufv1', 'ube2l5', 'omd', 'arhgap17', 'erf', 'slc6a11', 'dvl3', 'scn3a', 'arpin', 'spag4', 'pigx', 'serpina12', 'zhx2', 'mmp15', 'ina', 'tas1r2', 'ndufaf1', 'slc43a2', 'krt27', 'ncbp2', 'ercc8', 'plekha5', 'nts', 'fgfr4', 'mmd2', 'gdap1', 'gjd3', 'brdt', 'zc3h12b', 'slc13a4', 'znf547', 'mx1', 'twist2', 'coro7', 'ltbp4', 'st3gal5', 'ttc19', 'gpc6', 'tmprss7', 'gabrq', 'ppm1j', 'cp', 'flt3lg', 's100a8', 'slc6a2', 'znf470', 'camk1', 'ufsp2', 'sspn', 'or5ar1', 'c16orf70', 'pitx2', 'oasl', 'nid2', 'ttpal', 'kcnd2', 'ammecr1', 'zfhx4', 'tmem179', 'acads', 'tlr2', 'wdr38', 'twnk', 'heatr6', 'bet1', 'c7orf26', 'lhx3', 'nfatc1', 'kif21b', 'tmf1', 'tigd2', 'derl1', 'dusp4', 'plppr4', 'cntn4', 'socs3', 'spaca3', 'ddah1', 'pik3r4', 'c4orf33', 'rnf212b', 'sort1', 'mapre3', 'steap2', 'syk', 'or52e5', 'prb4', 'ltb4r', 'sox15', 'stk39', 'slc41a1', 'golt1b', 'krt85', 'tenm1', 'sidt1', 'zfyve1', 'gpatch3', 'lap3', 'n4bp2l1', 'psmd3', 'havcr2', 'slc14a1', 'dhdh', 'gtf3c2', 'ooep', 'iqcn', 'znf300', 'cdh17', 'col7a1', 'lacrt', 'fbxo34', 'smpx', 'nefm', 'alkbh7', 'btbd18', 'rpf2', 'gramd2a', 'cdx2', 'bptf', 'gsn', 'ubr7', 'mad2l1', 'sp4', 'znf223', 'cavin3', 'rapgef6', 'znf142', 'hoxa5', 'birc2', 'slc25a44', 'ptpn9', 'cask', 'ric8b', 'ptpdc1', 'hmgxb3', 'krtap27-1', 'ano4', 'pigh', 'cpxm1', 'kmt5b', 'mcoln3', 'uqcc1', 'c11orf54', 'rfx5', 'lyrm9', 'dohh', 'pgls', 'psmd11', 'tubgcp2', 'cst8', 'esyt2', 'rimklb', 'kcnk18', 'crtam', 'c7orf25', 'klk11', 'kif4b', 'prelid3b', 'jam2', 'wdr43', 'pgm5', 'timmdc1', 'fads1', 'ncam1', 'gcgr', 'tbc1d12', 'gype', 'zfp91', 'cnnm3', 'or14c36', 'lrrk1', 'polh', 'srd5a1', 'mthfsd', 'hoxb6', 'gtdc1', 'mc4r', 'dkkl1', 'hif1a', 'per1', 'arl14', 'col4a5', 'gnl3', 'vps28', 'fbxo32', 'mpdz', 'rd3l', 'krtcap2', 'pla2g15', 'rpp14', 'hspa14', 'znf25', 'akip1', 'trhr', 'vamp2', 'padi2', 'cpt2', 'phkb', 'defb124', 'micos13', 'pcdhga7', 'nsg2', 'snx24', 'prrx1', 'or13c4', 'cmtm7', 'cdc34', 'isg20l2', 'tmem116', 'adamts14', 'calhm1', 'phyh', 'sox1', 'dus1l', 'or56a5', 'tcp11', 'slc22a16', 'arid1a', 'exph5', 'c16orf46', 'faap20', 'stmnd1', 'piwil4', 'hoxc4', 'c21orf91', 'flna', 'uap1', 'ccdc184', 'frmd5', 'kiaa0753', 'linc00672', 'kcne2', 'dis3', 'mbtps1', 'crp', 'tmem104', 'septin2', 'fam9a', 'tspan31', 'rhbg', 'pus10', 'zmpste24', 'coq3', 'dcbld1', 'ppp4r2', 'usp50', 'gns', 'catsperz', 'helq', 'ly6g6e', 'fam185a', 'tbc1d9b', 'prr23b', 'mtdh', 'bbs12', 'b3gnt6', 'or10g7', 'insm1', 'or6c1', 'l1cam', 'il15', 'pogz', 'eif2ak1', 'dglucy', 'dsn1', 'kif3a', 'c8orf89', 'znf564', 'apol4', 'plet1', 'lox', 'setd6', 'ddx58', 'lingo3', 'krtap23-1', 'tmem25', 'dusp6', 'reep2', 'fam219a', 'cavin2', 'synpo2', 'znf283', 'pdpr', 'cd99l2', 'arhgef2', 'flnc', 'erh', 'xylt1', 'pnldc1', 'slc7a11', 'or13c9', 'rnf32', 'cct4', 'mtrf1l', 'krt73', 'abcb9', 'fam234a', 'lemd3', 'synrg', 'atp10d', 'ms4a5', 'dydc1', 'shroom3', 'loxl3', 'tm9sf4', 'trappc3', 'tiam1', 'cryz', 'mlip', 'chmp5', 'sftpd', 'gripap1', 'rfesd', 'ror2', 'syt13', 'pla2g12a', 'c6orf120', 'znf513', 'smcr8', 'mtch1', 'bud31', 'krt28', 'drp2', 'septin14', 'ccnt2', 'gas2l2', 'ramp1', 'lrpprc', 'tigd6', 'olfm2', 'irf1', 'cacna2d3', 'prdx3', 'gjc1', 'myo9b', 'sycn', 'nup58', 'eda2r', 'phactr1', 'ldlrad4', 'znf765', 'prrc1', 'disp2', 'wdr97', 'zbtb1', 'dcp1a', 'ostn', 'ngf', 'e2f2', 'nrm', 'c4orf51', 'slc38a9', 'sart1', 'casp14', 'tbr1', 'frzb', 'rab30', 'fam189a2', 'smug1', 'adgrb1', 'hmgn3', 'tle7', 'amh', 'hmgxb4', 'nsa2', 'tor1aip1', 'rars2', 'ftl', 'fam216a', 's100a11', 'gmip', 'txndc15', 'cd300lb', 'mier1', 'cacnb4', 'gorasp2', 'muc4', 'ociad2', 'oprm1', 'sf3b3', 'arhgap36', 'cacna1d', 'capns2', 'eif3b', 'slc26a11', 'dennd11', 'topbp1', 'fzd8', 'patj', 'sv2c', 'vps37b', 'ccnc', 'pld4', 'tbc1d3b', 'dhodh', 'cops5', 'ift80', 'sod3', 'nup35', 'cxcl1', 'znf668', 'fxyd2', 'znf662', 'cttn', 'clstn1', 'ppp1r12b', 'scamp3', 'fgf12', 'has1', 'slc5a3', 'znf416', 'ssr4', 'flrt2', 'itgb7', 'dedd', 'slc39a11', 'znf652', 'nphp3', 'rtp2', 'tmem87a', 'fbl', 'gucy1a1', 'mms22l', 'ccdc30', 'mvb12a', 'lag3', 'cadm3', 'dusp19', 'tpp1', 'ace', 'pop7', 'rfx8', 'pkp4', 'acta1', 'inafm1', 'sod1', 'dok4', 'gpr143', 'glra2', 'mdfi', 'galntl5', 'tcf20', 'or8i2', 'mkln1', 'rufy1', 'fndc3b', 'tmprss11d', 'mybl1', 'npr2', 'acot12', 'leprot', 'ch25h', 'lrrc10b', 'muc16', 'srebf1', 'ccdc190', 'c4b', 'znf605', 'fam177a1', 'mfsd14b', 'ric8a', 'spata46', 'sec13', 'ranbp10', 'hmgcll1', 'slc4a5', 'znf114', 'smagp', 'pdx1', 'ubox5', 'ercc2', 'mep1a', 'spdye6', 'stx12', 'kctd10', 'gngt1', 'trappc2l', 'dnaaf2', 'szrd1', 'il12rb2', 'ddx24', 'tomm40', 'igfl3', 'lrch1', 'mat2b', 'thap4', 'acsl3', 'srpk1', 'kcnq3', 'man2a1', 'msantd3', 'ceacam4', 'grb10', 'letm1', 'hyou1', 'tas2r4', 'tprg1l', 'zfp14', 'ints8', 'nlrp10', 'pank2', 'saraf', 'arhgap28', 'axin2', 'or2ap1', 'thsd7b', 'slc27a1', 'il22ra2', 'pltp', 'cep41', 'arhgef19', 'ndufaf3', 'abhd16b', 'tmem154', 'elp3', 'unc80', 'maob', 'xrra1', 'znf598', 'armcx3', 'kif6', 'nrros', 'cenpo', 'mat2a', 'chi3l2', 'foxc2', 'pex5l', 'orai3', 'proz', 'gpr139', 'cfdp1', 'sgk1', 'pwwp2a', 'cyp2u1', 'ppfia2', 'fgf2', 'or4d2', 'gria4', 'hoxc13', 'dmrta2', 'ddx56', 'kif2b', 'znf730', 'c4orf50', 'znf274', 'cdc42ep4', 'gtf3c5', 'znf594', 'mblac2', 'lrrc10', 'pdzd7', 'tm7sf3', 'cep250', 'slc26a7', 'sh3bgrl3', 'akr1c3', 'parm1', 'ifna21', 'surf4', 'ccl7', 'pmaip1', 'gja1', 'smim14', 'fnbp4', 'faah', 'prdm14', 'tstd1', 'lrriq1', 'cd300lg', 'atp13a2', 'adora3', 'lrrc45', 'usp29', 'notch2', 'lypd8', 'ogfod2', 'slc50a1', 'spn', 'scnn1b', 'slc24a4', 'serpina3', 'lztfl1', 'zic3', 'crtc2', 'slc35g1', 'nle1', 'cop1', 'nfx1', 'gbp7', 'tmem109', 'cnot7', 'homer2', 'dse', 'cetn1', 'col1a1', 'srd5a3', 'naprt', 'fam184a', 'tsbp1', 'pgf', 'trpc5os', 'cxcr4', 'birc6', 'egr3', 'aldh3a2', 'mplkip', 'plaur', 'znf263', 'csmd1', 'lrtm2', 'tomm6', 'zfp64', 'dnajc2', 'gage1', 'kctd14', 'slc35f3', 'pde8a', 'ezhip', 'tsr2', 'pet100', 'flt1', 'sema4c', 'c9orf64', 'cklf', 'spata31a5', 'whrn', 'ovch1', 'nubpl', 'setd3', 'wdfy4', 'slc25a12', 'hspa12a', 'sc5d', 'comtd1', 'klhl15', 'hdac10', 'sh3glb2', 'p2ry8', 'srsf12', 'eif2b1', 'ahsg', 'dqx1', 'flad1', 'syt2', 'gcnt4', 'ift140', 'ccdc81', 'znf776', 'zcchc12', 'slc25a13', 'iqank1', 'dvl2', 'naf1', 'gucy1b1', 'abcd1', 'mfrp', 'or6c75', 'bcam', 'cndp2', 'or56b4', 'muc6', 'ramac', 'pabpc4l', 'efcab1', 'btg2', 'c12orf50', 'taar1', 'psma5', 'map3k15', 'sdk1', 'g6pd', 'dop1a', 'rp9', 'dnajc5b', 'col8a1', 'ide', 'kcnj8', 'wrap53', 'pdcd2l', 'svip', 'prkaa1', 'rcor3', 'myo1e', 'ada', 'itga8', 'heg1', 'dpy19l3', 'arl3', 'marcksl1', 'siglec1', 'cdca7l', 'tmem249', 'rnf31', 'cux1', 'znf675', 'cyp2j2', 'c6orf118', 'slc6a15', 'limk2', 'gpr19', 'tex11', 'gatb', 'cyp3a43', 'mal2', 'dusp23', 'rac1', 'ankrd12', 'krtap4-6', 'c9orf131', 'pgap2', 'svbp', 'ccng2', 'insrr', 'ndufs3', 'setbp1', 'fam124b', 'tnfrsf4', 'rab3ip', 'sult1c2', 'polr2c', 'myl12b', 'ipo8', 'gpa33', 'lcp1', 'diras1', 'snap23', 'elovl7', 'lrrc1', 'trim37', 'clec4d', 'srrt', 'pfkfb2', 'hgs', 'fam110a', 'hsd11b1', 'irak1bp1', 'myl3', 'ubp1', 'phlda3', 'alms1', 'plpbp', 'rtp5', 'gal3st4', 'gosr1', 'akap12', 'gdf2', 'cebpd', 'exosc5', 'magt1', 'tlr5', 'pid1', 'cfap69', 'cdk5rap2', 'praf2', 'mthfd2l', 'adamts4', 'adgrl4', 'spns2', 'med29', 'fnbp1l', 'pla2g4a', 'zbtb26', 'actl6a', 'neurod1', 'klhl41', 'lmx1b', 'tmem225b', 'tex29', 'agpat5', 'tc2n', 'cbl', 'rapgef3', 'klk14', 'fcrl4', 'angel1', 'tpbg', 'mettl2a', 'aqp2', 'slc27a5', 'wac', 'ca1', 'celf2', 'znf280b', 'ctsv', 'fem1b', 'cish', 'tek', 'noc2l', 'ndufaf4', 'calb1', 'pcgf5', 'kat7', 'pnma6a', 'klhl42', 'slc25a20', 'coro6', 'mall', 'rhobtb1', 'ghr', 'mkks', 'adamts18', 'crls1', 'dusp7', 'ada2', 's100a1', 'osbpl3', 'cacna2d4', 'nup210l', 'mef2c', 'foxb2', 'acly', 'clcn6', 'paip2b', 'nr1i2', 'txndc9', 'kctd3', 'odam', 'fga', 'camk2b', 'dock4', 'cks2', 'apoe', 'znf350', 'hira', 'slc5a11', 'endou', 'sec61a2', 'tasor2', 'nedd4l', 'dnaaf4', 'mindy1', 'sim2', 'glp2r', 'fam174b', 'slfn13', 'aspscr1', 'asb9', 'tox4', 'il15ra', 'kin', 'cacng8', 'mlxipl', 'zfyve26', 'c18orf25', 'tbata', 'actb', 'gramd1c', 'atp2b4', 'tsr3', 'tex36', 'keap1', 'tmem59l', 'parp4', 'ero1b', 'ttc14', 'utp4', 'krt9', 'pik3r1', 'ak6', 'tm4sf18', 'adrb3', 'ska3', 'tmem121b', 'znf789', 'cidec', 'urad', 'tfec', 'brinp3', 'hdlbp', 'hyls1', 'cntrl', 'spam1', 'slc32a1', 'micu2', 'nos3', 'trit1', 'znf485', 'slc7a4', 'reg3a', 'srrm5', 'upk2', 'gjb3', 'dtymk', 'dynlrb2', 'bdh1', 'cdk3', 'nav1', 'ube2h', 'bcap29', 'slc6a3', 'sppl2a', 'oxld1', 'znf626', 'gch1', 'nptn', 'slc44a4', 'tax1bp3', 'kcnq5', 'senp2', 'cd24', 'ngb', 'ano8', 'ttll7', 'neu3', 'elf3', 'pcdh15', 'rbm5', 'kif16b', 'vstm1', 'mfn2', 'shld3', 'elmod2', 'jag2', 'naaladl2', 'or13h1', 'plekhg4', 'chst6', 's100g', 'igfbp1', 'tpbgl', 'aard', 'glyatl3', 'c11orf86', 'wdr89', 'ugt1a1', 'zbed1', 'b4galnt3', 'nr1i3', 'edrf1', 'fibin', 'avpr1b', 'atp10a', 'pelo', 'secisbp2l', 'xbp1', 'fmnl3', 'prpf19', 'rev3l', 'rnaset2', 'sag', 'dsel', 'dsg1', 'nfs1', 'sparc', 'aco2', 'cdh23', 'rgs19', 'maml2', 'dnah8', 'kcnj18', 'afap1', 'slc7a14', 'fbxo15', 'bcl7b', 'dap', 'snai3', 'atm', 'c17orf97', 'cd19', 'abcd2', 'timm10b', 'cdhr3', 'rnh1', 'glipr1l2', 'zscan30', 'cfd', 'sh3pxd2a', 'ints4', 'nudt7', 'sec24d', 'pramef14', 'gtf2f2', 'katnal2', 'nqo2', 'clec6a', 'ern2', 'znf445', 'phox2b', 'grxcr2', 'plk5', 'hoxb3', 'clcn2', 'ccdc153', 'cog5', 'adam17', 'echdc2', 'znf706', 'znf879', 'crybb3', 'sox6', 'c22orf42', 'arglu1', 'gemin2', 'dnal1', 'c9orf24', 'hagh', 'vill', 'dppa5', 'nrg2', 'surf2', 'rreb1', 'erbb2', 'kif24', 'hbd', 'gphn', 'etv3', 'acp2', 'gnat1', 'lgalsl', 'rhbdl1', 'pou4f1', 'dmgdh', 'pithd1', 'ephb1', 'osbpl1a', 'calr', 'znf281', 'lce3d', 'mrm2', 'atxn2l', 'ctage1', 'trak2', 'taar9', 'rint1', 'chrna3', 'gemin6', 'txndc8', 'znf189', 'asb13', 'rasa3', 'crnkl1', 'ggt5', 'uhrf1bp1', 'adam32', 'pcca', 'zscan9', 'tspan19', 'dact1', 'hnrnpk', 'snorc', 'pdgfd', 'pa2g4', 'acad10', 'rabep1', 'hoxb5', 'esrra', 'or6c74', 'ldb1', 'tmem14c', 'tmem272', 'ypel5', 'rgs17', 'znf138', 'vac14', 'adpgk', 'fkbp1b', 'brd4', 'or4d5', 'f8a1', 'cyth1', 'prkcd', 'smim19', 'c8orf33', 'acd', 'slc23a2', 'ccdc83', 'catsperb', 'pofut2', 'tmem80', 'ppp2r1a', 'tbc1d10b', 'pcdh7', 'dop1b', 'tcte1', 'hoxa11', 'dmap1', 'nif3l1', 'trpm5', 'sh3rf1', 'nme7', 'tsc22d2', 'nfe2l2', 'txndc16', 'lgals8', 'ednra', 'mucl3', 'fastk', 'tssc4', 'usp43', 'creb3l1', 'macrod2', 'fam83d', 'samd12', 'timm17b', 'bag3', 'bst2', 'c2orf81', 'linc02218', 'kiaa1586', 'acaa2', 'snx2', 'atxn7l1', 'c17orf78', 'pdzd2', 'hsf1', 'kmo', 'polr3c', 'sertad1', 'akt1', 'klk6', 'ogfod1', 'emid1', 'hoxc11', 'mecp2', 'c6orf132', 'cyp26a1', 'plekha4', 'mamstr', 'unc13a', 'magohb', 'pkhd1', 'rnps1', 'tln2', 'jade2', 'spag6', 'meaf6', 'fcrl6', 'pvrig', 'znf554', 'tigar', 'ankrd9', 'pcgf6', 'nudt17', 'heatr1', 'bend6', 'il18rap', 'cdk13', 'add3', 'plpp7', 'lpar6', 'zyg11b', 'krtap5-8', 'p2ry6', 'kiaa0040', 'rab18', 'wfdc1', 'cldn4', 'ms4a4a', 'znf35', 'garem1', 'znf852', 'ly6k', 'cnot3', 'slc5a5', 'klrg2', 'tnnt3', 'papss2', 'onecut3', 'vangl2', 'gdnf', 'lig3', 'ttc17', 'smkr1', 'maneal', 'actr6', 'fam187b', 'plcz1', 'hmgn4', 'vps33a', 'kiaa1549l', 'nck1', 'golga1', 'ddx23', 'ccl18', 'mxd1', 'ctss', 'lrrc4b', 'fcho1', 'ca8', 'scgb1d2', 'rfc3', 'axin1', 'mfap3l', 'fshr', 'nfia', 'tpm2', 'tmem245', 'commd9', 'or2j2', 'fancd2', 'cdh19', 'zcchc3', 'sema7a', 'frmd3', 'kcne4', 'lins1', 'eid2b', 'tatdn1', 'unc13b', 'camkk1', 'bmp3', 'agt', 'sco1', 'cdca5', 'eea1', 'map3k1', 'gprin2', 'tmem37', 'clasp2', 'ap3m2', 'akna', 'fam136a', 'ceacam20', 'rassf7', 'pik3r2', 'lhfpl3', 'tmem215', 'myh9', 'ndrg1', 'ifng', 'runx1t1', 'cd81', 'col23a1', 'mob2', 'atg2a', 'nrxn3', 'rab11b', 'tmem132b', 'slc10a2', 'fgf13', 'dr1', 'brpf3', 'pdlim3', 'atp7a', 'nop53', 'lce3a', 'ctps2', 'adam22', 'eif4a1', 'gpr148', 'zmym3', 'spata31a7', 'hcar3', 'acap1', 'aanat', 'b4galt2', 'or4a5', 'iqce', 'scart1', 'fam20a', 'ankle1', 'fate1', 'ak7', 'snrpa', 'dclre1c', 'aqp5', 'cdipt', 'sh3bp1', 'ptrh1', 'ly6l', 'ankrd30b', 'lcn12', 'snx30', 'n4bp1', 'gps2', 'pbx4', 'tnfsf9', 'dpysl3', 'utf1', 'igfbp6', 'lrrd1', 'coa1', 'senp1', 'sirpb1', 'stt3a', 'crisp3', 'rnf215', 'rad54l2', 'jph1', 'insyn2a', 'ndufa4', 'tmem106c', 'nfyc', 'klc4', 'pitpnm2', 'znf750', 'rrh', 'il26', 'cog1', 'anapc2', 'flacc1', 'fam174c', 'crppa', 'tor1b', 'tbc1d31', 'notch1', 'snrpb', 'nsdhl', 'cybrd1', 'sptbn4', 'adgrf3', 'atp6v1b1', 'fbxl4', 'slc37a3', 'hkdc1', 'oscar', 'hacd3', 'irx4', 'tle1', 'tm9sf2', 'fgd1', 'pla2g3', 'ccdc121', 'palm3', 'defb110', 'prkdc', 'capn13', 'mrgbp', 'psmc4', 'ostf1', 'sucnr1', 'eys', 'epdr1', 'fam193b', 'rhbdl2', 'ddit3', 'anapc7', 'hspb1', 'dnajc22', 'acss3', 'slc26a3', 'cdc42ep5', 'vsig1', 'lcmt2', 'smap2', 'tnfsf18', 'pfdn1', 'tnpo1', 'pan3', 'inhbb', 'crygb', 'prelid2', 'c3orf38', 'afg1l', 'tnfrsf19', 'noxa1', 'fam155a', 'fkbp8', 'gtpbp1', 'rab41', 'copa', 'c8orf34', 'mapk13', 'celsr3', 'bicral', 'htr1f', 'fryl', 'oxr1', 'thap1', 'epsti1', 'mta1', 'wdr76', 'taf7l', 'ube2k', 'tmem269', 'crebl2', 'nbpf20', 'ggh', 'rfx2', 'amtn', 'lrpap1', 'cxxc4', 'mccd1', 'urb2', 'nhlrc2', 'hmgcs2', 'as3mt', 'rhbdf2', 'dnajc10', 'vnn3', 'vhl', 'krtap5-3', 'adamts12', 'or10h1', 'prame', 'sema6b', 'arrdc3', 'pknox2', 'gpt2', 'lsm6', 'akr1c8p', 'ehmt1', 'depp1', 'pla2g2a', 'minar1', 'gtpbp10', 'pygm', 'gpr176', 'pih1d1', 'ttll13p', 'myo5c', 'meioc', 'chaf1a', 'slc26a5', 'c6orf47', 'epha2', 'mcm3', 'mif4gd', 'klf17', 'tdrd7', 'mpp4', 'slc25a15', 'tyrp1', 'pcdhb8', 'wdtc1', 'gpt', 'ranbp9', 'rbmx', 'fat2', 'lyar', 'igf2bp2', 'gstk1', 'slc7a7', 'tfip11', 'thrsp', 'hoxd10', 'tceal4', 'ifi44l', 'btn1a1', 'egfl6', 'gpr174', 'ccdc17', 'map3k13', 'arhgef3', 'npffr2', 'ptprr', 'med4', 'pram1', 'col11a2', 'brf1', 'rap2c', 'nolc1', 'atf7ip', 'phf12', 'ifnar1', 'bmp8a', 'melk', 'ptpn11', 'map4k5', 'btbd7', 'fgf5', 'chrna10', 'slc35c1', 'hars2', 'ints13', 'cyfip2', 'dhrs4', 'rnf227', 'c19orf81', 'cldn5', 'tank', 'rlim', 'cdh7', 'osgep', 'tsga10', 'clpsl1', 'tbc1d19', 'ddx41', 'tekt2', 'lrat', 'cshl1', 'gpn1', 'adamts9', 'znf581', 'tceanc', 'traf3ip1', 'mapk6', 'rhce', 'cenpv', 'pkdrej', 'lrfn3', 'ergic3', 'creg2', 'hba2', 'fbxo48', 'micu1', 'gss', 'ceacam3', 'fam83f', 'tmem192', 'taar2', 'znf250', 'rccd1', 'tmem86b', 'farp1', 'gdf15', 'ly96', 'plekhg2', 'bcl11b', 'snx1', 'abca5', 'serpine1', 'mtmr1', 'morn4', 'stath', 'tesk1', 'mettl27', 'vipr2', 'abcg1', 'slc8a2', 'atp6v0a4', 'ubtd1', 'nobox', 'rhbdl3', 'slc39a10', 'fam189b', 'atp5mf', 'gpsm1', 'retn', 'tmem151b', 'znf304', 'sub1', 'dbi', 'b3glct', 'vps13c', 'cdk2ap2', 'focad', 'efl1', 'stag2', 'fgf3', 'krr1', 'ampd3', 'gpc1', 'ulk4', 'tsen15', 'atxn2', 'asf1b', 'spice1', 'tm7sf2', 'slc34a3', 'kcna10', 'tmem177', 'rtl5', 'ercc4', 'smim17', 'c10orf71', 'znf200', 'r3hdm1', 'mynn', 'pbx3', 'htr7', 'stat2', 'pkmyt1', 'thumpd1', 'dhrs9', 'aqp8', 'metrnl', 'smr3a', 'galr1', 'tpm4', 'igsf3', 'exosc8', 'egln3', 'kdm3b', 'tead2', 'matn1', 'pdzd9', 'gnai2', 'efna5', 'exosc9', 'mpp1', 'tspan11', 'tmem239', 'rac2', 'kdm1a', 'dnajb1', 'fam189a1', 'aipl1', 'adra1a', 'zdhhc11b', 'hmbox1', 'polr3d', 'tchh', 'lce4a', 'mctp1', 'ambp', 'hs3st2', 'znf135', 'sptlc3', 'nrbp1', 'ip6k1', 'hat1', 'vps54', 'spem2', 'muc5ac', 'mettl18', 'dll3', 'pard3b', 'prr5', 'fhdc1', 'ect2l', 'cmc2', 'c1orf35', 'cox7c', 'zbtb22', 'spag5', 'fbxl5', 'ubb', 'cldn20', 'trip12', 'vxn', 'cma1', 'ifi27', 'cngb3', 'spata22', 'vat1', 'slc44a2', 'klf1', 'znf227', 'ndel1', 'ptgir', 'lysmd3', 'znf232', 'vil1', 'pcgf3', 'btn3a2', 'phkg1', 'lpar5', 'scfd1', 'c6orf15', 'lyl1', 'ap1g2', 'arhgap4', 'dpyd', 'nostrin', 'cplane2', 'ttc21b', 'cux2', 'znf534', 'ripply1', 'mbl2', 'cfap43', 'sarm1', 'dmtf1', 'pomc', 'mras', 'cabp7', 'ndst4', 'pnisr', 'plekhg6', 'asb3', 'or52k1', 'hspb6', 'coro2b', 'tmem185b', 'znf665', 'cd40', 'fance', 'slc35a3', 'c6orf163', 'polr2e', 'peg3', 'mroh1', 'trappc9', 'tef', 'ipp', 'znf384', 'srsf11', 'esrp1', 'rbmxl1', 'rad50', 'atad5', 'adgrf4', 'ccdc201', 'gapvd1', 'slc47a2', 'lsm1', 'ubxn6', 'dnajc8', 'tmem35b', 'c9orf72', 'col6a1', 'slc15a4', 'rec114', 'mindy2', 'sema4a', 'lsm4', 'otulinl', 'c11orf1', 'smox', 'atp1a3', 'sdcbp2', 'znf860', 'ccdc136', 'or56a3', 'chn1', 'ccdc180', 'man1c1', 'vps37c', 'tmem204', 'cdrt4', 'sntn', 'pfdn6', 'rnd2', 'ppara', 'emd', 'or2l3', 'prss1', 'gpr171', 'sfrp4', 'asb14', 'chst3', 'stambpl1', 'magea4', 'trim23', 'brinp2', 'znf619', 'slitrk1', 'skap1', 'znf575', 'speg', 'smim15', 'cdk15', 'susd1', 'vipr1', 'gsdmc', 'nexmif', 'srp68', 'zcchc13', 'znf7', 'gjc2', 'gmcl1', 'myoz2', 'hrct1', 'prx', 'nudt21', 'slc25a23', 'cd300lf', 'steap3', 'slc12a8', 'tecr', 'jarid2', 'cpsf2', 'c1orf232', 'dennd5b', 'irx1', 'cyp27a1', 'ranbp3', 'osm', 'mt-nd3', 'ehd3', 'hpgds', 'fkbp15', 'c19orf38', 'extl3', 'sp7', 'or10k2', 'ttll3', 'c11orf49', 'glrx2', 'slc4a3', 'nisch', 'naa35', 'treml4', 'cdcp1', 'csrnp3', 'fsip2', 'ubxn11', 'zfr2', 'tfg', 'ptprj', 'uhmk1', 'kcng4', 'r3hcc1l', 'hebp2', 'zbtb46', 'hirip3', 'kcnn1', 'cdk5', 'mpped1', 'foxn2', 'arl4a', 'cadps2', 'wbp11', 'btg1', 'lysmd1', 'ly6g5b', 'znf254', 'or10a4', 'ppt2', 'ssc4d', 'rab33a', 'ap1s1', 'pifo', 'tbcd', 'agrn', 'ucp1', 'pik3cb', 'tmem129', 'wdr20', 'itgax', 'arg2', 'larp7', 'nr2c2ap', 'dusp5', 'mad1l1', 'brms1l', 'bloc1s1', 'otx1', 'alox15b', 'slamf7', 'lrch2', 'dnah3', 'exd1', 'adam2', 'mphosph9', 'xkrx', 'il6', 'spidr', 'mgat4a', 'carmil1', 'celf4', 'lhx6', 'kdm2a', 'glul', 'fabp3', 'ccndbp1', 'entpd6', 'apoo', 'msh3', 'scd5', 'znf589', 'usp13', 'msto1', 'tubb6', 'gtsf1l', 'ube2e3', 'znf280c', 'ifrd2', 'fdcsp', 'klf7', 'shkbp1', 'mindy4b', 'sirt1', 'znf684', 'xpnpep1', 'nmrk2', 'suco', 'mmp25', 'spty2d1', 'trim63', 'dusp22', 'sema5a', 'copg2', 'loxl1', 'f10', 'polr2a', 'fcmr', 'ovgp1', 'cpsf7', 'pla2g2f', 'kidins220', 'tcl1b', 'rab27b', 'hibch', 'smim7', 'pcdhb1', 'sp140l', 'pdia4', 'rnf186', 'ablim1', 'ptpn5', 'copz1', 'cnep1r1', 'ccdc47', 'atp8b3', 'mt1hl1', 'ndufa2', 'cd1c', 'kcnk7', 'epb41l1', 'rapgef4', 'map9', 'aars2', 'tbx5', 'fntb', 'pros1', 'slfn12', 'wfikkn1', 'clstn2', 'gp5', 'adcy7', 'idi1', 'polr1a', 'hacd1', 'guca1b', 'pmf1', 'spesp1', 'scg2', 'tmem145', 'tnnt1', 'irf4', 'mphosph10', 'usp18', 'znf488', 'spink2', 'pcnx1', 'abcc11', 'zdbf2', 'hsfx4', 'sec14l5', 'cwc25', 'cpa6', 'chrdl1', 'lrif1', 'lbr', 'or2g2', 'abt1', 'frem1', 'ddx39b', 'jmy', 'oga', 'mapkapk5', 'gart', 'rbm15b', 'timp3', 'tp53aip1', 'dcx', 'adck5', 'efna4', 'tor4a', 'foxr1', 'kif19', 'nipsnap3a', 'cuedc1', 'atp13a5', 'zar1', 'nr2f6', 'smarcd1', 'tlcd1', 'ypel1', 'med1', 'znf98', 'fam89b', 'pdzk1ip1', 'ncbp2as2', 'polr1c', 'mki67', 'slc39a5', 'gas2l3', 'faf1', 'smim23', 'spz1', 'parpbp', 'atp11a', 'gnpnat1', 'galc', 'ap3d1', 'prr22', 'mark1', 'ccl3l1', 'tmx2', 'nacad', 'kiaa1841', 'nsg1', 'styx', 'gsg1l', 'atg3', 'gpr61', 'sst', 'myo6', 'nbea', 'amdhd1', 'lsg1', 'fndc7', 'snx27', 'skiv2l', 'ik', 'mtfp1', 'ostm1', 'shfl', 'psmd7', 'prickle3', 'mrgprf', 'muc19', 'npr3', 'sipa1', 'nr1d2', 'bcl2', 'gpam', 'ankrd24', 'atp6v1c2', 'znf646', 'hgfac', 'muc22', 'ankrd49', 'arhgap6', 'gulp1', 'pdia2', 'page4', 'c11orf87', 'rho', 'gnb1l', 'or2a14', 'cyp8b1', 'rrs1', 'pglyrp4', 'tlr3', 'mmp16', 'mapk1ip1l', 'ehd4', 'lsm3', 'maoa', 'rab4a', 'tgds', 'mc3r', 'rad54l', 'rassf3', 'slc44a5', 'lgi4', 'gpr180', 'c1orf74', 'mtss2', 'tmem44', 'basp1', 'lgals3bp', 'nr1h2', 'tmem150a', 'enpp6', 'mzb1', 'cntnap1', 'mgme1', 'sult1a2', 'cd99', 'cgref1', 'or2a25', 'gab2', 'pdzrn3', 'gpank1', 'rab2b', 'gsta3', 'ccnk', 'gemin8', 'mrfap1', 'klk4', 'nras', 'ascc1', 'rspo1', 'hs6st1', 'fxn', 'kcnk6', 'nlrp9', 'or7a17', 'csrp1', 'krtap9-9', 'fbn2', 'kank2', 'ttc7a', 'irs1', 'fam237a', 'slc25a52', 'cdc25c', 'pstk', 'pde6g', 'ceacam5', 'trpc3', 'wdr86', 'fibcd1', 'gsg1l2', 'apcdd1l', 'nr3c1', 'tigd5', 'galnt17', 'nup85', 'gskip', 'banp', 'il2rb', 'rcsd1', 'gja5', 'sirpb2', 'nufip2', 'dnah14', 'sppl3', 'slc2a3', 'gtf3a', 'gnly', 'klk9', 'mogs', 'vezf1', 'obscn', 'ddx5', 'pon2', 'irf2bp2', 'dok1', 'idh3b', 'nifk', 'znf786', 'c14orf93', 'tac4', 'ptpn21', 'armc6', 'acvr1', 'pkd1', 'mfsd13a', 'znf57', 'nxnl1', 'slc30a8', 'nrip3', 'nsun5', 'rab11fip5', 'or52n5', 'arih1', 'tprx1', 'serpind1', 'thoc6', 'med11', 'polr2l', 'lgals1', 'papss1', 'fcrla', 'slc9c2', 'znf558', 'paxx', 'sox13', 'mro', 'taf3', 'sh3rf3', 'pex11a', 'mapk4', 'fgf9', 'numbl', 'trmt112', 'krt78', 'c3ar1', 'ctsh', 'xpo4', 'glyatl1b', 'srp72', 'prdm15', 'cd163', 'htt', 'nt5c2', 'tpd52', 'capza1', 'pcmtd2', 'abi3', 'pydc1', 'sec14l1', 'cd28', 'iqch', 'togaram1', 'uqcrq', 'hp', 'klhl18', 'cdrt15', 'znf207', 'setx', 'thap5', 'armc7', 'wif1', 'sapcd2', 'rnf5', 'tpd52l3', 'dap3', 'bckdk', 'map2k3', 'bik', 'sp8', 'trim7', 'rab3il1', 'ccdc60', 'lypd5', 'vamp4', 'tfdp3', 'znf835', 'ankrd63', 'gadd45a', 'glrx', 'olfml2b', 'smurf2', 'glrb', 'stac2', 'fam102b', 'hhla2', 'cd5', 'fbxo28', 'ywhaz', 'serpinb12', 'nes', 'or2f2', 'dzip1', 'cluap1', 'ubc', 'art3', 'klf11', 'ppp4c', 'slfn5', 'znf330', 'd2hgdh', 'zfp90', 'capn7', 'arid5a', 'dbnl', 'chchd5', 'atxn7', 'vldlr', 'cfap300', 'gpc4', 'tor1aip2', 'sgcz', 'mia3', 'rnf24', 'styxl1', 'runx1', 'sms', 'drc3', 'terb2', 'cemp1', 'cdx1', 'fip1l1', 'ulbp1', 'coil', 'sez6l', 'coq10b', 'klhl13', 'trmt10c', 'spry4', 'rpap1', 'aqp10', 'hsbp1l1', 'insl3', 'tcea3', 'sdc1', 'dpysl4', 'litafd', 'rnf126', 'ftmt', 'crygs', 'exoc3', 'ccr4', 'tbl1x', 'thap7', 'septin1', 'crk', 'bank1', 'wnt8a', 'apoc4', 'urb1', 'rnf2', 'dgka', 'septin10', 'med26', 'slc19a1', 'gck', 'rbp1', 'trim68', 'dbt', 'clcn3', 'prnp', 'mchr1', 'mettl22', 'chsy1', 'kdsr', 'gmcl2', 'slc3a1', 'hif1an', 'padi4', 'zg16b', 'ruvbl2', 'hipk4', 'cttnbp2', 'smap1', 'capn5', 'klf3', 'il12b', 'eid1', 'ccl22', 'c17orf98', 'tacr2', 'rnase4', 'ttll4', 'znf10', 'grhl2', 'znf839', 'c12orf60', 'fam240a', 'prex2', 'prkab1', 'itpa', 'cela2a', 'jrk', 'slc37a2', 'lrp11', 'spdya', 'cblc', 'galnt10', 'pofut1', 'timm21', 'dab2ip', 'ubn2', 'grid1', 'tmem101', 'prkd2', 'stx5', 'prdm10', 'mfsd10', 'dipk2a', 'lama4', 'sass6', 'tmem132a', 'hax1', 'krt86', 'tm6sf1', 'znf70', 'zbtb10', 'inhbc', 'kiaa1191', 'pdik1l', 'paip2', 'vdac3', 'enho', 'wdfy2', 'nmnat1', 'taf12', 'rnf113a', 'cd55', 'rgs7', 'sft2d3', 'bckdhb', 'strit1', 'rnf216', 'ppfibp1', 'abca13', 'whamm', 'spsb3', 'foxl2', 'mob3a', 'plcg1', 'znf707', 'pcbp4', 'hoga1', 'slc9a3', 'ugt2b4', 'tet1', 'p2rx1', 'smim10l1', 'znf30', 'rpn1', 'iyd', 'zdhhc4', 'il6r', 'gar1', 'adi1', 'npbwr2', 'taf9b', 'calm2', 'eed', 'hmces', 'or7d2', 'adcy9', 'cyp4v2', 'tent5a', 'c11orf68', 'tmem119', 'mtcp1', 'tbc1d17', 'fmn1', 'znf124', 'sqstm1', 'ppp1r15b', 'col16a1', 'ppwd1', 'rgp1', 'ints2', 'tulp1', 'srsf9', 'tmem59', 'fhit', 'stx1b', 'dbp', 'ttll9', 'abcc2', 'ushbp1', 'actl10', 'cd48', 'klhl8', 'cd300ld', 'ccdc18', 'polr3h', 'wnt7b', 'fam9b', 'mex3b', 'trpt1', 'znf771', 'fam229a', 'znf770', 'calu', 'sfpq', 'il21r', 'smc3', 'c11orf16', 'c7orf61', 'lmbr1', 'dpf1', 'fam166b', 'pclaf', 'krt222', 'rtf2', 'cyp1a2', 'pnma8c', 'hpse', 'or10ad1', 'cfap73', 'edem1', 'lelp1', 'atf5', 'prps1', 'lypd3', 'nuggc', 'akap11', 'c1ql2', 'hexb', 'proser3', 'wscd2', 'fcgr3b', 'ppp1r14c', 'kbtbd3', 'slc16a7', 'ankrd53', 'khdrbs2', 'slc9a3r2', 'dnm3', 'aldh3b1', 'znf169', 'hk1', 'rnf7', 'rnft1', 'acot8', 'cd74', 'mis18a', 'mlc1', 'ca10', 'sertad3', 'ifna7', 'scn4b', 'ganab', 'pms2', 'mgat2', 'plin3', 'caps', 'lrrn4', 'tgif2', 'gpx3', 'aldh3a1', 'snrpd3', 'kcnv2', 'hsp90aa1', 'cnot4', 'cd52', 'kiaa1210', 'polr3b', 'map6d1', 'pga5', 'il4i1', 'hsdl2', 'srsf5', 'slirp', 'jam3', 'ankrd28', 'rmdn3', 'ago2', 'sap30bp', 'grin2a', 'tmem39a', 'ephb3', 'gosr2', 'rcbtb2', 'tmem120b', 'tuft1', 'ciao2b', 'cyp4x1', 'mcm3ap', 'prss21', 'trpv5', 'nfu1', 'ubap2', 'wipf2', 'ttll5', 'mks1', 'pold3', 'blvrb', 'pinlyp', 'tmtc2', 'cpne3', 'ggnbp2', 'cerkl', 'gde1', 'znf688', 'scgb3a1', 'c2orf74', 'hdhd5', 'nt5dc2', 'asmtl', 'susd6', 'wdr59', 'orc2', 'map1s', 'f9', 'kcna2', 'smim41', 'fcrl1', 'ptdss1', 'cd109', 'cpne6', 'pgam5', 'med12l', 'oaz2', 'tsnax', 'nudt2', 'mmp14', 'tlr8', 'ccdc185', 'cecr2', 'lpar3', 'pacrg', 'mylk2', 'pramef2', 'mical3', 'ddit4l', 'c1qtnf7', 'ms4a1', 'rnf25', 'gpr55', 'bcl2l2', 'gbe1', 'cavin4', 'slc15a3', 'rtn4r', 'c19orf44', 'slc12a9', 'pdgfrb', 'ssna1', 'plxdc2', 'cdkn2aipnl', 'ccsap', 'tmem161b', 'tfcp2l1', 'tgoln2', 'aph1a', 'fam221b', 'rsrc2', 'hspb8', 'ska1', 'kcnh6', 'desi1', 'or5c1', 'slc30a7', 'dntt', 'c7orf50', 'cdr2', 'fut4', 'klk8', 'vps26c', 'bcan', 'gpatch8', 'ccdc115', 'cdkn3', 'minpp1', 'c3orf56', 'znf12', 'odf3l1', 'foxred2', 'lilrb1', 'med30', 'lzts1', 'cpt1b', 'tmie', 'fbxo6', 'fdxr', 'ucp3', 'hapln4', 'or2l2', 'gabrr3', 'nrg3', 'tyms', 'nkapl', 'efna3', 'kdm8', 'mapk8ip1', 'npbwr1', 'fam229b', 'entpd7', 'cox15', 'rab37', 'cd164', 'traf6', 'gtf2h3', 'ctc1', 'plcd4', 'mt-nd4l', 'caps2', 'armc9', 'ppp1r3c', 'eral1', 'smim10l2b', 'exo1', 'crisp2', 'sorbs1', 'zdhhc18', 'cyp20a1', 'raf1', 'slc25a45', 'lrrc43', 'hs3st6', 'sost', 'chmp2a', 'chrm5', 'acvr2a', 'lilra1', 'top2b', 'sybu', 'tex38', 'btf3l4', 'kcnab1', 'kitlg', 'sbno2', 'tm2d2', 'slc25a53', 'timm22', 'gpatch1', 'pim3', 'psph', 'or5k3', 'sec23a', 'ccdc166', 'slc35d3', 'ubxn1', 'desi2', 'timm8a', 'gpr153', 'ido2', 'jmjd8', 'reck', 'padi6', 'lpin2', 'homer1', 'cyhr1', 'mid2', 'foxm1', 'atp2a1', 'pank4', 'idh1', 'isl1', 'frmpd1', 'nipal1', 'nxpe2', 'spata12', 'ropn1l', 'ppig', 'ppp1r9b', 'pam', 'ube2j1', 'spin1', 'c3orf85', 'pi4k2a', 'adgre3', 'sel1l2', 'sh3d19', 'fbxw5', 'itga3', 'zbtb20', 'herc3', 'pbk', 'mterf2', 'clcf1', 'suds3', 'arih2', 'slc18a1', 'crlf1', 'ppp1r2c', 'mical1', 'zbtb48', 'eif3a', 'znf333', 'cd180', 'sh3tc2', 'xrcc3', 'psg3', 'sorl1', 'tbc1d22a', 'thnsl1', 'peak1', 'cdc42ep3', 'evpl', 'pls3', 'igf2r', 'cip2a', 'dock9', 'gpnmb', 'aoc1', 'znf160', 'rasgef1a', 'epha5', 'b3galt5', 'il20rb', 'trex2', 'pan2', 'gast', 'bahcc1', 'b3gnt8', 'hap1', 'hrg', 'mink1', 'angptl8', 'thumpd3', 'grpel1', 'tmem273', 'tmem170a', 'mageb6b', 'ggt1', 'c10orf62', 'pcbp2', 'sirt4', 'timp1', 'impg1', 'ier3ip1', 'znf8', 'slc22a13', 'tmem238', 'tlcd3a', 'slc29a4', 'tmeff1', 'guf1', 'parp15', 'ssr1', 'mafa', 'mkrn2os', 'lyrm7', 'prkca', 'mto1', 'erich2', 'tmem184c', 'gvqw3', 'mt3', 'parp14', 'znf728', 'dennd1a', 'prkacb', 'mdm2', 'colgalt2', 'cacnb1', 'vwa5b1', 'uba6', 'znf419', 'znf687', 'serinc3', 'arl4c', 'dchs2', 'anxa10', 'mapk15', 'mea1', 'foxi2', 'epb41', 'adcy10', 'c1r', 'efcab13', 'vim', 'gab3', 'hpx', 'rpp21', 'ucma', 'fgf4', 'aim2', 'lep', 'uevld', 'amigo2', 'socs4', 'vkorc1', 'zfyve16', 'ggps1', 'fgf7', 'nnat', 'p2rx6', 'tnip3', 'sp2', 'nxt2', 'impa1', 'art1', 'fnip2', 'flvcr2', 'myc', 'c5orf58', 'psmg3', 'gdf9', 'pgd', 'heatr5a', 'stx17', 'cd40lg', 'nt5c3b', 'ifna4', 'kazn', 'vamp8', 'or52n4', 'itsn1', 'ufl1', 'sypl1', 'or10g8', 's1pr1', 'arhgap11a', 'ncf4', 'gpc3', 'junb', 'cpb1', 'ca3', 'agps', 'clec11a', 'elf4', 'anpep', 'timm50', 'stk32b', 'c12orf45', 'klk10', 'nlk', 'myo1a', 'dnpep', 'ndufb11', 'cables1', 'chtf8', 'mthfd2', 'hcn1', 'ezh1', 'dmac2', 'fam162a', 'tbc1d13', 'kctd4', 'kcnq2', 'dhdds', 'dpys', 'evi5l', 'nadk', 'rexo5', 'ensa', 'mgat1', 'atg4b', 'or2y1', 'fam160b1', 'or4f4', 'pgm1', 'fcn3', 'pramef6', 'samd3', 'rnf170', 'osbpl5', 'brap', 'lrrc8e', 'peli1', 'arms2', 'tppp2', 'hspa13', 'c2cd4d', 'rtn4rl1', 'dusp18', 'smoc2', 'polr3e', 's100a13', 'kynu', 'prmt8', 'trappc1', 'ppp6r2', 'zbtb21', 'mtmr14', 'ssx3', 'dnaja3', 'fgfbp3', 'cggbp1', 'kdm4b', 'slc9a6', 'parp12', 'nudt12', 'zscan21', 'tm9sf1', 'tmem178a', 'alpl', 'cox6c', 'hecw1', 'znf800', 'slc45a2', 'krtap19-1', 'ikbkg', 'angptl1', 'akirin2', 'rgs3', 'pde1c', 'nsmaf', 'osbp', 'tbl2', 'tspan1', 'coq8a', 'hmox2', 'celf5', 'pcdha11', 'cyp2a7', 'gas2l1', 'lgals4', 'nup50', 'chst7', 'tmc4', 'adamts6', 'zbtb7a', 'fbxo7', 'smim30', 'eif3m', 'sat2', 'ano5', 'cebpz', 'atl3', 'or8b12', 'gmfb', 'clcn1', 'slc17a3', 'igf2bp1', 'dlec1', 'acap3', 'mknk2', 'dusp10', 'ndufb5', 'fam117a', 'akap8l', 'tspyl6', 'mog', 'pex19', 'arsg', 'wnk4', 'rsph6a', 'fam9c', 'cacng4', 'casp8', 'rnf213', 'tyw1', 'atp5f1c', 'six1', 'znf414', 'ilk', 'ccl20', 'utp18', 'dok5', 'paox', 'pigt', 'slc16a5', 'cmtm6', 'crtap', 'mmp27', 'elovl2', 'usp30', 'pdia3', 'klk15', 'vnn1', 'plekhh1', 'aifm3', 'evi2b', 'slc22a14', 'glo1', 'efnb1', 'klhdc9', 'gpr146', 'depdc5', 'xg', 'znf574', 'cnksr1', 'brox', 'zp4', 'greb1', 'tmem210', 'nipa1', 'mlycd', 'znf607', 'gclm', 'dhx15', 'dnajb2', 'fam204a', 'ccdc22', 'sinhcaf', 'ttc8', 'mfsd12', 'znf507', 'sdf2l1', 'hemk1', 'stat3', 'zap70', 'dnajc12', 'scygr8', 'tbc1d7', 'abra', 'efna2', 'krt83', 'rab10', 'fam104a', 'clec2a', 'znf773', 'prkd1', 'pudp', 'ugdh', 'synpo', 'arhgap12', 'pcp2', 'poldip2', 'sult1e1', 'upk1a', 'grem1', 'mtln', 'hand2', 'bcl7c', 'mbnl3', 'hgh1', 'nat1', 'zfp92', 'rgs8', 'kcnj3', 'rpa3', 'alkal1', 'mab21l1', 'kif7', 'cyld', 'hmgn5', 'hdac6', 'sntb1', 'pou3f1', 'nemf', 'cpa2', 'serpina10', 'hcrtr1', 'fer', 'znf285', 'baiap2l2', 'sh3d21', 'klrk1', 'nfe2l1', 'tusc2', 'apobec2', 'or56a4', 'apbb3', 'tufm', 'gpr156', 'eme1', 'atxn1', 'dmkn', 'th', 'prg3', 'umod', 'cetn2', 'ncoa4', 'prlhr', 'celsr2', 'gtf2h1', 'aurkb', 'stk35', 'rnf180', 'gabra1', 'ahnak2', 'elane', 'prrg1', 'pcf11', 'lin7a', 'adamdec1', 'chd9', 'fcsk', 'ccl1', 'ppp1r14d', 'chek2', 'aifm1', 'egr2', 'bmp10', 'rer1', 'abi1', 'ttc9c', 'fzd6', 'sh3bp5l', 'pdzd8', 'adamts15', 'pemt', 'hspa1l', 'lsamp', 'pate1', 'mansc4', 'cfap157', 'rnf214', 'krtap4-11', 'znf830', 'cnpy2', 'krtap10-10', 'fam126a', 'lgr6', 'scygr4', 'kdm2b', 'psip1', 'lipi', 'lama2', 'cox8a', 'c14orf28', 'mocos', 'dda1', 'klhdc3', 'mre11', 'cntfr', 'gzmm', 'csf2ra', 'ntrk3', 'mcm8', 'oprl1', 'or4f15', 'slc20a2', 'serpinb7', 'kprp', 'uxt', 'camk2n1', 'urgcp', 'cops4', 'znf408', 'znf90', 'xylb', 'trim40', 'clk3', 'fut11', 'hsf5', 'arf1', 'spata9', 'ror1', 'ulk1', 'znf517', 'sptssa', 'il18', 'cdkn2d', 'wbp2', 'znf280a', 'kdm3a', 'stmn1', 'cnot6l', 'prss16', 'c2orf88', 'aig1', 'slc35f6', 'gmnc', 'rala', 'pnpla7', 'pgk1', 'mxra7', 'gpkow', 'tnnc1', 'maff', 'ndufa3', 'adam33', 'denr', 'dapk2', 'amer2', 'tslp', 'col28a1', 'sft2d2', 'dpp9', 'ogt', 'kdm4d', 'thoc2', 'cldn8', 'enpp1', 'tmem38a', 'c16orf89', 'scrn3', 'adam15', 'cdh13', 'rtl8c', 'nxt1', 'tmem117', 'map4k4', 'mip', 'fam24b', 'ttll10', 'ift81', 'dnajb14', 'cmya5', 'tssk6', 'anapc5', 'tm4sf20', 'nae1', 'trpv6', 'laptm4a', 'spag16', 'krt77', 'tet3', 'phlpp1', 'c3orf18', 'cdkal1', 'rsph9', 'tpk1', 'fam207a', 'zmynd12', 'tlk1', 'cpsf1', 'hectd2', 'il25', 'dzank1', 'adra1b', 'abhd10', 'mmp2', 'galnt16', 'or3a1', 'nob1', 'zbtb25', 'cyp2r1', 'c16orf92', 'c17orf80', 'znf576', 'tcf7l2', 'caskin2', 'arid3b', 'spdyc', 'dgat2l6', 'cxcr3', 'dmbx1', 'trpc7', 'pdcd1lg2', 'gins2', 'slc16a12', 'mia', 'pla2g4e', 'otud4', 'itln2', 'asxl2', 'opa3', 'tmem31', 'snx19', 'sostdc1', 'sel1l3', 'kif1a', 'rmdn1', 'mmp1', 'stac', 'tmem67', 'lrrn1', 'm6pr', 'rbpms', 'mypn', 'mmab', 'eftud2', 'c18orf21', 'serpinb2', 'mlst8', 'defb113', 'pcolce', 'ackr1', 'lck', 'rnf223', 'usp21', 'phf14', 'c19orf73', 'dtnbp1', 'rimkla', 'ankef1', 'cebpa', 'adam19', 'sgsm2', 'brd2', 'pla2r1', 'sik2', 'pax9', 'cdh20', 'ace2', 'acad11', 'trmt2b', 'atf1', 'mcm6', 'gata6', 'errfi1', 'kcnq1', 'ptprd', 'lmnb2', 'syt6', 'hyal2', 'slc40a1', 'slc38a11', 'or10v1', 'rbbp9', 'mmp9', 'hjurp', 'kbtbd6', 'pdxk', 'rsu1', 'adgrg3', 'tlx1', 'ablim2', 'elk4', 'ccdc167', 'hint2', 'stx8', 'tspyl4', 'rab3a', 'spint4', 'ltb', 'or51v1', 'myo3b', 'scml1', 'pcdhb13', 'mark4', 'cpvl', 'gabrb3', 'gstt4', 'izumo1r', 'slc35f1', 'tsc22d3', 'or51a2', 'bloc1s4', 'gpr63', 'ncam2', 'polr1b', 'pkp2', 'st3gal3', 'lsm11', 'nek2', 'sclt1', 'pygb', 'fbxl7', 'brca2', 'gbx2', 'tyro3', 'bex4', 'tceal5', 'mapk12', 'cnpy3', 'dnah10', 'kpna1', 'pggt1b', 'gpr132', 'zfp37', 'hexa', 'luc7l', 'gins3', 'mien1', 'znf536', 'lekr1', 'acbd4', 'suv39h1', 'thop1', 'podn', 'atp6v1b2', 'socs1', 'csf3r', 'selplg', 'duoxa2', 'fancd2os', 'hdhd3', 'zswim1', 'cdc42bpa', 'apobec4', 'pex5', 'gps1', 'chp2', 'mllt1', 'tia1', 'ifi30', 'usp8', 'capzb', 'vn1r2', 'cartpt', 'lrrc75b', 'crlf2', 'armcx5', 'nlrx1', 'klhl22', 'dcps', 'apex1', 'emc7', 'thap11', 'epb41l5', 'hip1', 'svop', 'edn3', 'rilpl2', 'nagk', 'sfrp1', 'vit', 'arcn1', 'clpx', 'nek7', 'ccm2', 'tmem45a', 'znf549', 'lce2c', 'acsm6', 'ca14', 'havcr1', 'znf319', 'cdh3', 'exoc2', 'pard6a', 'haus4', 'catsperd', 'hnrnpc', 'tas2r1', 'c1orf100', 'mospd2', 'pbld', 'gsk3a', 'znf593', 'znf639', 'lcp2', 'pigbos1', 'camkv', 'mafk', 'wnt3a', 'rab38', 'spink4', 'tpst2', 'gen1', 'fosl1', 'apom', 'ctse', 'slc35e4', 'rbpjl', 'tecpr1', 'atg14', 'prkcg', 'mak16', 'calm3', 'vax1', 'mecr', 'hspa1a', 'rtn4', 'kctd6', 'apob', 'eef1a2', 'pcdhgc5', 'lef1', 'faim2', 'or2ak2', 'mrgprd', 'zbtb39', 'b9d1', 'pde5a', 'fam217b', 'dennd4c', 'acad9', 'ovol3', 'slc6a13', 'lgals9c', 'ube3c', 'ing5', 'ndufa5', 'kcnk12', 'ankrd54', 'smpd3', 'cenpm', 'znf559', 'tgif2lx', 'ccnyl1', 'chka', 'ubqln2', 'yipf7', 'or5m3', 'nog', 'dimt1', 'cela3b', 'map4k3', 'ank2', 'fgfr3', 'ly6g5c', 'cfap206', 'zic2', 'usp22', 'gnaz', 'nap1l3', 'tiaf1', 'or6p1', 'cnr1', 'znf519', 'cfap36', 'crebbp', 'pnpo', 'ptafr', 'tspan10', 'tmem74b', 'myl7', 'sec24b', 'anln', 'numb', 'tat', 'uqcr11', 'ccdc170', 'slc25a29', 'lactb2', 'fbxo46', 'galnt3', 'cxcl17', 'reep3', 'samd10', 'eipr1', 'emc4', 'il1rn', 'tcf7l1', 'ube2e1', 'dhh', 'hic2', 'hsd3b7', 'clec4e', 'clta', 'tdrd9', 'tdrd10', 'c5orf34', 'spire2', 'nhlrc4', 'rgmb', 'hoxd1', 'nrf1', 'pstpip2', 'extl2', 'nhlrc1', 'hmgb3', 'scgn', 'sh2d3c', 'zgpat', 'necap1', 'or5d16', 'tex26', 'elavl1', 'pmp2', 'ldhd', 'gprc5b', 'pcdhgb7', 'cd151', 'top1', 'atxn7l2', 'crabp2', 'yy1ap1', 'msx1', 'ggct', 'wdr82', 'frrs1l', 'or6c68', 'pkd2', 'or10w1', 'cers5', 'krtap22-2', 'ip6k2', 'immp2l', 'ccdc42', 'spef2', 'c19orf53', 'znf772', 'strap', 'creb1', 'marveld2', 'emsy', 'mia2', 'adarb2', 'noxo1', 'bms1', 'smim21', 'icam3', 'nebl', 'or14k1', 'tcfl5', 'cd247', 'armh2', 'lman1l', 'dcaf17', 'pah', 'c1orf52', 'gnai1', 'fezf1', 'plp1', 'hmgcs1', 'slc3a2', 'slc2a4rg', 'rexo1', 'nbeal2', 'ivns1abp', 'znf782', 'rxra', 'cdh2', 'mindy4', 'col2a1', 'polr2h', 'sav1', 'hscb', 'emilin2', 'rptor', 'clic2', 'plk2', 'nktr', 'rell1', 'tial1', 'arl11', 'zfp3', 'pimreg', 'tshz3', 'mllt10', 'chuk', 'scnn1g', 'brsk1', 'dmxl1', 'cdkl5', 'ifna16', 'pitpnm3', 'ssuh2', 'duox2', 'necab2', 'sctr', 'ppp2r3c', 'mbd3l2b', 'dmtn', 'prr35', 'tacc3', 'adgrv1', 'dmrta1', 'dnajc15', 'gemin4', 'cth', 'lhfpl6', 'znf546', 'mon1b', 'gdi2', 'pcbp1', 'col6a3', 'smim12', 'muc2', 'ptprt', 'vwa2', 'lrcol1', 'ost4', 'wdr45b', 'slc4a8', 'znf329', 'chst8', 'lig4', 'krtap10-2', 'prim2', 'zbtb42', 'romo1', 'ufc1', 'tnip1', 'arl5c', 'or1d2', 'eloa2', 'ccdc59', 'ddx60l', 'braf', 'cysrt1', 'fam71a', 'tcf25', 'sell', 'dock3', 'p2ry13', 'pth1r', 'ankrd30a', 'bcdin3d', 'dnm1l', 'hs3st1', 'cep170b', 'or13c2', 'katnal1', 'trpv1', 'mpp5', 'foxred1', 'kcnj5', 'itga6', 'aldh1l2', 'znf512', 'psma2', 'znf736', 'znf165', 'or2t11', 'dlg2', 'smtnl2', 'slc25a21', 'znf627', 'tada2b', 'dnajc13', 'eln', 'erc1', 'scnm1', 'rab39a', 'pcdhb9', 'purb', 'tyw1b', 'zkscan1', 'spta1', 'vsx2', 'cct3', 'npc1l1', 'clec4g', 'klf2', 'bud13', 'mcph1', 'tent4a', 'tgm3', 'elmod3', 'pheta1', 'glb1l', 'serbp1', 'cd244', 'depdc4', 'tollip', 'klhl32', 'anapc11', 'slit3', 'prdx4', 'casr', 'fbxo41', 'crabp1', 'snrpn', 'ildr1', 'dgat2', 'pex14', 'foxi1', 'c1qb', 'arid3c', 'ncln', 'nefh', 'glb1', 'kalrn', 'alkbh8', 'armcx6', 'aga', 'mospd1', 'ndufa10', 'atp5mg', 'kras', 'mpnd', 'crtac1', 'htr4', 'psmd9', 'rnf10', 'pigq', 'cst5', 'pdcd6ip', 'pds5b', 'ston2', 'zc3h13', 'tanc2', 'capn6', 'defb118', 'chic2', 'or1i1', 'isoc1', 'gata3', 'magee1', 'plcl1', 'cluh', 'egln1', 'tprkb', 'mymk', 'adgrg2', 'egln2', 'rgs20', 'fastkd2', 'nav2', 'borcs5', 'nr2e3', 'semg2', 'leprotl1', 'slc26a8', 'l1td1', 'zfyve28', 'fam161b', 'klf6', 'phf13', 'gask1b', 'sufu', 'plcb3', 'rnf6', 'pth2r', 'vpreb1', 'tmem200b', 'atp6v1fnb', 'supv3l1', 'ankrd60', 'mtfmt', 'tigd3', 'slc7a10', 'cpsf4', 'tmem138', 'tspo', 'slamf9', 'iscu', 'cwc22', 'wnt16', 'chsy3', 'renbp', 'prdm13', 'gdpd3', 'twsg1', 'adsl', 'rxfp1', 'st7', 'lefty1', 'cwf19l1', 'znf185', 'rad51ap2', 'safb', 'rgl2', 'kptn', 'ldah', 'nudcd3', 'ifi35', 'pkd2l2', 'cebpb', 'xirp1', 'atxn7l3b', 'sla2', 'frmpd2', 'ndufb6', 'slc4a1', 'hyal1', 'prl', 'elp1', 'scml4', 'tmem225', 'ttc5', 'adam10', 'pald1', 'tut1', 'sycp2', 'vwa7', 'slco1b1', 'dbh', 'kank4', 'mvb12b', 'klrf2', 'sec24a', 'spanxb1', 'nans', 'dnali1', 'exoc5', 'hps1', 'casp7', 'prr16', 'rcor1', 'efcab10', 'ralb', 'rin2', 'edar', 'afdn', 'phf10', 'usp27x', 'psg6', 'tmed4', 'zfp57', 'wdsub1', 'helz2', 'pafah2', 'prkce', 'nkd2', 'ambn', 'chchd7', 'irf7', 'col15a1', 'trim50', 'entpd2', 'slc38a4', 'mylk3', 'krtdap', 'gatad2b', 'gxylt2', 'lgi1', 'rapgefl1', 'prkaa2', 'ints7', 'tex13b', 'ldoc1', 'vash2', 'cspg4', 'fbxo22', 'psmb3', 'gbp2', 'slc9a1', 'rb1cc1', 'kcng3', 'cat', 'ptcd1', 'tbc1d28', 'cactin', 'slc7a5', 'or5au1', 'bag4', 'cst4', 'snx6', 'iqca1', 'cpb2', 'cplx2', 'igfbp3', 'pi15', 'gprc5c', 'tasor', 'ppp2r3b', 'bex3', 'mertk', 'paip1', 'cdc123', 'dazl', 'cacna1i', 'c3orf22', 'ap3m1', 'smr3b', 'uaca', 'sowahb', 'ssu72p8', 'dhrs11', 'ccl24', 'lyn', 'tmed2', 'prpsap2', 'znf275', 'hpca', 'c5ar2', 'pax2', 'or4c3', 'piwil2', 'eddm3b', 'ttc31', 'trem1', 'myo5a', 'ttf1', 'prex1', 'alx4', 'golga6l6', 'cfap74', 'cdv3', 'dnaaf5', 'usp47', 'ccdc9', 'pik3cd', 'znf335', 'tll1', 'tmem220', 'brd1', 'tmem238l', 'bcs1l', 'fancg', 'arhgap20', 'tex45', 'als2', 'arhgap40', 'htr1d', 'golph3', 'rad54b', 'smad6', 'chd2', 'coq2', 'esd', 'inpp4b', 'htatip2', 'engase', 'slc7a9', 'krbox4', 'pawr', 'lrrc4c', 'allc', 'muc3a', 'tnpo3', 'plekhd1', 'srgap3', 'syndig1l', 'gnb4', 'ros1', 'klk2', 'actr5', 'shisal1', 'plac8l1', 'ube2t', 'npr1', 'gimap8', 'vcpkmt', 'page2', 'myh8', 'elavl2', 'xrcc4', 'adm', 'slc5a7', 'col26a1', 'cdkn1b', 'khdc3l', 'krt34', 'bbox1', 'asb16', 'galm', 'wwtr1', 'trim32', 'apc2', 'mvp', 'lpcat4', 'il31', 'camp', 'plxnd1', 'ctr9', 'paqr7', 'ddt', 'cdh1', 'cacna2d2', 'gpr35', 'nmnat3', 'otub1', 'sema3d', 'znf667', 'neurod6', 'fam111a', 'spata45', 'mios', 'znf462', 'pla2g2e', 'nkx6-2', 'tpte2', 'cd2bp2', 'loxhd1', 'tsg101', 'themis2', 'zc2hc1c', 'npap1', 'acsm4', 'pip5k1c', 'cd209', 'fignl2', 'ppp1r17', 'nlgn4x', 'dok3', 'foxo1', 'hrh2', 'ccna2', 'lzts2', 'tnpo2', 'prepl', 'hnf1a', 'usp37', 'c1galt1c1', 'c1ql3', 'gabpa', 'trim60', 'best2', 'tm4sf19', 'mpi', 'ap5m1', 'rsbn1l', 'ugt1a9', 'pex2', 'tktl1', 'casp4', 'pih1d2', 'hnf4a', 'tbk1', 'itgal', 'limd2', 'emc2', 'polr3f', 'sap30', 'map2k7', 'eva1b', 'stox1', 'apcs', 'acsl1', 'xrcc2', 'crebrf', 'stk38', 'rab11fip4', 'zbtb8a', 'lrp8', 'cln3', 'serinc1', 'otor', 'acot13', 'gcat', 'il27ra', 'zbtb24', 'abi2', 'vcl', 'sgta', 'cdc37l1', 'nek4', 'agxt2', 'ppp2ca', 'drd2', 'foxb1', 'or6n1', 'podxl2', 'gyg2', 'sertm2', 'chd7', 'scgb2a1', 'mcf2l2', 'pappa2', 'shq1', 'atp6v1e2', 'siglec9', 'nkx6-1', 'nop10', 'adam7', 'lyg1', 'slc1a3', 'psca', 'fbxw7', 'ptbp3', 'pdxp', 'cxcl12', 'deaf1', 'tcf3', 'aggf1', 'sbk3', 'ptpru', 'ager', 'mapk3', 'poglut3', 'usp2', 'jph3', 'prss23', 'spsb2', 'dmwd', 'pln', 'cdh9', 'npw', 'cd86', 'tmigd2', 'akt3', 'hook2', 'nr4a3', 'ercc6l', 'nutm2e', 'st6gal2', 'plscr4', 'ghsr', 'golga8o', 'maf', 'abr', 'cept1', 'dlg4', 'myo15a', 'col6a2', 'arpc3', 'tbc1d14', 'znf174', 'nt5dc4', 'lmntd2', 'hrk', 'pnn', 'grhpr', 'efr3a', 'ankrd13d', 'il17b', 'cyp4f3', 'edil3', 'crip1', 'cbll2', 'mmp28', 'mfap2', 'ikzf2', 'c1orf194', 'prdm2', 'cox20', 'larp1b', 'clec2b', 'dhx58', 'dot1l', 'rnf145', 'scube3', 'trnt1', 'apela', 'fam222b', 'hoxb7', 'scnn1d', 'rbpms2', 'pcbd1', 'ythdf3', 'znf343', 'kcnj10', 'aprt', 'olig1', 'atic', 'nkx1-2', 'stoml3', 'ebp', 'glipr1', 'eci2', 'khdrbs3', 'mtpap', 'tcl1a', 'trarg1', 'xk', 'zxda', 'tmem161a', 'zscan4', 'dusp28', 'smcp', 'qsox2', 'tefm', 'dctn6', 'rnf138', 'apln', 'naa20', 'ccp110', 'pnpla3', 'dyrk3', 'cntn5', 'lrrtm1', 'stam2', 'cotl1', 'klhl10', 'zfp28', 'gtpbp8', 'tuba4a', 'tdg', 'grk5', 'ncaph', 'lims2', 'rgl4', 'elovl6', 'bglap', 'rmdn2', 'nck2', 'sncaip', 'adgrl2', 'trim10', 'cc2d2a', 'stxbp5', 'prom2', 'uba3', 'f2rl2', 'galnt8', 'pramef15', 'serpina11', 'gja4', 'slc26a2', 'cstf2', 'ptch2', 'cox18', 'susd4', 'zmiz2', 'tmem134', 'naa50', 'lacc1', 'prss41', 'dipk1c', 'tmem52b', 'slc46a2', 'cdyl2', 'haus5', 'cdhr5', 'sec14l3', 'neu1', 'ormdl1', 'cenpi', 'ugt2b11', 'gpr83', 's1pr2', 'rela', 'mmp19', 'hspb11', 'epo', 'chfr', 'krt36', 'gpatch11', 'glipr1l1', 'oas1', 'rab22a', 'lrrc49', 'rbfox3', 'ubd', 'hnrnpr', 'aimp1', 'carm1', 'or4k13', 'snx8', 'ntan1', 'ptprz1', 'prc1', 'cnih4', 'meikin', 'smyd5', 'gas6', 'champ1', 'bdkrb2', 'ryr1', 'drgx', 'vtn', 'dusp9', 'slc35f5', 'elfn1', 'sfi1', 'utp6', 'ppp1r14a', 'pold2', 'sdf2', 'wee2', 'adam28', 'atg9a', 'oxct1', 'p2ry10', 'epb41l4a', 'tp63', 'lhx4', 'mroh6', 'prr7', 'cables2', 'nhlh1', 'mrap', 'trappc10', 'zmat5', 'dmrt2', 'cskmt', 'znf287', 'haus8', 'rspo2', 'mtor', 'pnliprp1', 'ddo', 'ccdc178', 'pyroxd1', 'ptk2', 'ube2m', 'scube1', 'surf1', 'pcdh11x', 'kctd17', 'ralgps2', 'gk5', 'uap1l1', 'bcl2l1', 'csn3', 'mgat4c', 'map1lc3a', 'smarcc1', 'alkbh2', 'nrsn1', 'ahr', 'ankmy2', 'plcb2', 'or6a2', 'zfp2', 'notum', 'scn2b', 'dmbt1', 'cdc45', 'pgghg', 'fcn2', 'tincr', 'nat10', 'vamp1', 'gcg', 'esf1', 'nf2', 'scmh1', 'b4galt5', 'tbc1d8b', 'g2e3', 'tbc1d24', 'prr32', 'bhmt', 'acy3', 'ube2d1', 'irf5', 'chp1', 'c19orf12', 'or1g1', 'ugt2a2', 'pou3f4', 'rsbn1', 'trim11', 'dnah12', 'or10a5', 'trim75p', 'or4a15', 'ubr3', 'dmpk', 'znf382', 'b3galnt2', 'myo9a', 'slc16a4', 'carhsp1', 'fam181b', 'git1', 'kif5b', 'dcun1d5', 'dnttip2', 'mt1a', 'scn5a', 'znf804a', 'mitf', 'cfap70', 'zbtb3', 'slc28a2', 'ccl5', 'prr15', 'lxn', 'arhgef28', 'mef2b', 'defb116', 'trpa1', 'abhd1', 'cct8l2', 'lpin3', 'ccr2', 'htr2a', 'cst3', 'il12rb1', 'abca1', 'hcar1', 'grk4', 'dram2', 'atp1a2', 'tomm22', 'slc25a36', 'fen1', 'scarb1', 'ago4', 'myoc', 'nkx2-5', 'cplx3', 'cetn3', 'fcgr2a', 'adgre1', 'mast1', 'pcdhga3', 'ddr1', 'kcnk5', 'trim4', 'l3mbtl1', 'mln', 'prmt5', 'cda', 'pex11b', 'rbm47', 'slc25a28', 'dner', 'znf41', 'rem1', 'r3hdm2', 'ucp2', 'or5bs1p', 'insl4', 'aebp1', 'zscan5a', 'slc35a5', 'zscan18', 'crocc', 'pla2g4f', 'kri1', 'dlg1', 'ppp2r1b', 'ccpg1', 'tmem213', 'pdgfrl', 'bmi1', 'uck2', 'fbxl13', 'plec', 'ercc6l2', 'cys1', 'nfkbie', 'tead3', 'jakmip3', 'lmna', 'acan', 'fam81a', 'chac2', 'cpeb4', 'meig1', 'lpar4', 'lamp2', 'sbspon', 'clec4m', 'znf683', 'ppox', 'cyp51a1', 'arfgap3', 'cntn3', 'ogfod3', 'rgs7bp', 'wwox', 'ydjc', 'dera', 'hspa12b', 'rnf168', 'ramp3', 'map3k5', 'arid5b', 'atg10', 'slc7a6os', 'epha6', 'ascl3', 's100a12', 'taf7', 'prdm11', 'prss35', 'adat3', 'ccdc198', 'cmtm3', 'kcnj11', 'fgf21', 'zbtb8b', 'rhoj', 'tmem35a', 'abhd8', 'zfr', 'shisa7', 'tspyl5', 'cxcl10', 'fosb', 'poglut1', 'dnaja1', 'dlst', 'ski', 'jaml', 'grk1', 'cacng5', 'p2ry11', 'slc39a3', 'wdr92', 'rbm25', 'lyrm2', 'aamdc', 'prdm8', 'scap', 'tmprss9', 'nt5c3a', 'mdh2', 'mtus2', 'arsa', 'pabpc1l', 'pgbd2', 'camk2a', 'dzip3', 'mt-nd6', 'cpa5', 'hnrnpf', 'bcl6b', 'bpifc', 'or2b2', 'mei4', 'pla2g1b', 'nxn', 'lrrc46', 'znf579', 'bcl2l12', 'gpx8', 'phldb2', 'cln6', 'slc25a19', 'bcl2a1', 'uggt1', 'smu1', 'ttc9b', 'fkrp', 'dynap', 'hsh2d', 'bex5', 'nsun3', 'phip', 'slc17a1', 'prim1', 'abhd3', 'diras3', 'kcnh2', 'prkcsh', 'lemd2', 'ap1m1', 'st8sia3', 'sh3bgrl2', 'prep', 'vps9d1', 'milr1', 'slc25a43', 'prkx', 'dnajc18', 'atp6v1a', 'igbp1', 'lrig3', 'snapc5', 'etv5', 'ndufa7', 'adgrl3', 'mmp17', 'snx16', 'pigb', 'pfkfb4', 'rab24', 'faxc', 'tph1', 'hgsnat', 'nhej1', 'hprt1', 'lrrc42', 'fkbp3', 'taok1', 'pabpc5', 'nsmce1', 'chdh', 'klhl7', 'dus3l', 'yipf5', 'or14a2', 'wdr81', 'ssbp1', 'ddx28', 'slc17a7', 'lama5', 'fam3c', 'dcun1d1', 'casp9', 'cela2b', 'piwil1', 'sulf2', 'amz2', 'znf296', 'alk', 'bdkrb1', 'kif1b', 'nlrp7', 'rnf149', 'cd320', 'tmem17', 'eif2s1', 'sox4', 'clic5', 'npdc1', 'col18a1', 'lamtor1', 'gprasp2', 'lrrc18', 'gab4', 'homer3', 'chrna6', 'ube2r2', 'pla2g4d', 'c2cd2l', 'ccnl2', 'ccdc159', 'foxo4', 'fbxw9', 'pank1', 'lrr1', 'cd34', 'frmpd4', 'znf699', 'tuba1a', 'rab33b', 'znf628', 'ykt6', 'iqsec3', 'ap5s1', 'umps', 'izumo4', 'heyl', 'evc', 'muc12', 'rab11a', 'mnda', 'frs2', 'islr2', 'ythdf2', 'or2t34', 'fabp12', 'pclo', 'znf267', 'filip1', 'rpgrip1l', 'cldn6', 'adora2a', 'mbtps2', 'znf45', 'sgce', 'cdc42bpg', 'slco1a2', 'arhgef38', 'zyx', 'pin1', 'grm2', 'snrpg', 'krit1', 'dna2', 'bcl2l15', 'mccc1', 'znf84', 'grin2b', 'itga10', 'lamp1', 'znf100', 'csdc2', 'arl13a', 'trpm2', 'kcnh7', 'spegnb', 'spsb1', 'or2a4', 'wdfy1', 'slc12a1', 'mcl1', 'ctdp1', 'il5', 'serpinb9', 'ptrh2', 'ppp2r5e', 'cer1', 'gja9', 'smyd3', 'emb', 'snx15', 'fam13b', 'gcc1', 'pou1f1', 'or10ag1', 'neurog2', 'klf10', 'tmc8', 'septin8', 'olfml1', 'saa4', 'ctdsp2', 'iah1', 'oosp1', 'nppc', 'stra8', 'azgp1', 'zfp69', 'pus7', 'dapk1', 'mica', 'dynll1', 'fhad1', 'inpp5a', 'tlr10', 'mtg2', 'ccdc152', 'layn', 'jade1', 'rhebl1', 'ccnb2', 'scai', 'gsx2', 'qpct', 'obp2a', 'chrna1', 'lyzl2', 'tut7', 'rgcc', 'flywch2', 'taf1', 'arhgdib', 'spp2', 'or4c5', 'rexo2', 'lonrf3', 'abca6', 'gli3', 'hbb', 'rbm3', 'stk11', 'rimbp3b', 'slc41a3', 'exosc2', 'apod', 'sez6l2', 'rab42', 'or8g5', 'glyat', 'ccr8', 'cyp2c8', 'znf780a', 'cyp2d6', 'tecrl', 'sh3bp4', 'dab2', 'prps1l1', 'hilpda', 'pvalb', 'ccdc130', 'mllt6', 'rasgef1c', 'tsga10ip', 'cxcl8', 'ctnnbl1', 'cnih3', 'stpg2', 'tmem221', 'tmem212', 'ttc32', 'cpeb2', 'odaph', 'c6orf52', 'cdc27', 'pttg2', 'kcnk3', 'lrrc27', 'card18', 'krtap10-3', 'tlr9', 'hsd3b2', 'pmvk', 'znf503', 'stk32c', 'nme5', 'rc3h2', 'ahsp', 'rsph3', 'xpo5', 'tmem131', 'gml', 'wasf1', 'oit3', 'znf821', 'folr3', 'lsm7', 'poc5', 'rspry1', 'ppat', 'capn15', 'pttg1', 'rab5a', 'casp3', 'nup93', 'padi1', 'usp44', 'slc25a41', 'krtap20-4', 'rab39b', 'jag1', 'lamb4', 'slc35a4', 'snd1', 'gfpt1', 'parg', 'zfpl1', 'tnfsf13', 'or2t27', 'gdpd5', 'tiprl', 'vrk2', 'hnrnpu', 'gin1', 'stard4', 'pkig', 'rasgrf1', 'fkbp9', 'apol3', 'kcnrg', 'cyp4a11', 'gbp4', 'ifitm3', 'ndfip2', 'page1', 'dhx40', 'sfrp5', 'erlec1', 'caskin1', 'ddx59', 'oxtr', 'slfnl1', 'hcfc1r1', 'gpr26', 'igf2bp3', 'ciart', 'fzd2', 'thsd7a', 'mmd', 'xab2', 'syngap1', 'rtp1', 'clps', 'limch1', 'oard1', 'kmt5c', 'krtap6-1', 'msn', 'zscan20', 'pou4f2', 'dcaf16', 'adh5', 'adam21', 'cptp', 'yap1', 'eif3l', 'ddr2', 'ino80b', 'ripk3', 'wbp1l', 'rassf9', 'nrxn2', 'traip', 'mas1', 'hyal4', 'ceacam21', 'ttc39a', 'als2cl', 'tmem217', 'pla2g4b', 'msr1', 'tex52', 'tmem47', 'bbx', 'chkb', 'adgrd1', 'them5', 'cwh43', 'frmd7', 'sgms2', 'arhgap18', 'vsnl1', 'ptpn22', 'ankdd1a', 'znf316', 'akr7a2', 'bbs4', 'fam83e', 'zscan5b', 'rab3d', 'lim2', 'tnfrsf10a', 'scgb1c2', 'dut', 'ripor2', 'ndufs1', 'il23a', 'sprr2g', 'bud23', 'ypel3', 'cytip', 'mt1m', 'pacrgl', 'dnm1', 'glud1', 'adam12', 'gsc2', 'or2m3', 'rgs1', 'ocln', 'dnah5', 'tshz2', 'qpctl', 'cnksr2', 'prtg', 'nek9', 'wdr11', 'slc27a3', 'unc119', 'timm13', 'krt25', 'rnf125', 'znf878', 'ltb4r2', 'znf764', 'pcnx2', 'cenpvl3', 'ccdc127', 'cldn16', 'clec19a', 'ccdc182', 'cntrob', 'dynll2', 'puf60', 'rab40a', 'kcns1', 'nlrc3', 'cse1l', 'c10orf82', 'spon1', 'alcam', 'nqo1', 'skida1', 'dok7', 'enosf1', 'ss18', 'tex43', 'mapk8', 'fbxl8', 'znf708', 'alg1', 'casp5', 'l3mbtl4', 'sptssb', 'ephb6', 'dcaf10', 'tssk4', 'mcrip1', 'ubr4', 'tatdn2', 'phb', 'asap3', 'abhd6', 'ddx20', 'mfsd6', 'dcaf4', 'carmil2', 'ccdc125', 'atp5pd', 'slc29a3', 'phgr1', 'gsta4', 'or2j3', 'map7', 'adprm', 'srsf3', 'thap3', 'selp', 'mpig6b', 'sftpb', 'sdc2', 'znf774', 'ttll6', 'scn11a', 'spats1', 'selenbp1', 'or1c1', 'josd2', 'myl5', 'itih3', 'znhit6', 'klhl25', 'sh3gl2', 'pitx1', 'trim38', 'znf775', 'ergic2', 'c2cd4a', 'med31', 'tmem98', 'dhrs7c', 'prop1', 'ppib', 'mesp2', 'tubb', 'aurka', 'rab1a', 'fzd7', 'neurog1', 'tas2r30', 'vwde', 'zbtb6', 'bnip1', 'plxna4', 'cacna1c', 'lrrc74a', 'pibf1', 'spaca9', 'epm2aip1', 'clic4', 'coa6', 'wdr46', 'znf76', 'or5as1', 'cbr4', 'sfxn5', 'csmd2', 'lzic', 'iqgap3', 'stxbp4', 'tlx2', 'ube2d3', 'gatad1', 'nedd9', 'nfil3', 'nup98', 'pmch', 'trmt10a', 'gchfr', 'gpr155', 'lce2d', 'usp10', 'hey1', 'ms4a13', 'wdr27', 'enox2', 'dppa2', 'scnn1a', 'epha1', 'slitrk6', 'ppef2', 'or51e1', 'fam20b', 'fam83b', 'slc17a8', 'g3bp2', 'map3k10', 'tmem267', 'rfxank', 'otud7a', 'sema6d', 'cpt1a', 'rnf152', 'nccrp1', 'pmpca', 'c14orf119', 'tex47', 'papolb', 'rgl1', 'irx2', 'pomt1', 'c19orf71', 'zfp82', 'slc25a33', 'nln', 'tasp1', 'rab14', 'gpr135', 'celf6', 'fgd2', 'mov10', 'dnajb12', 'depdc1', 'papolg', 'nup62', 'lrp10', 'irak4', 'fam13c', 'cyp26c1', 'chchd10', 'smim33', 'il1b', 'alox15', 'ppp1ca', 'cast', 'msh2', 'tmem258', 'dennd1c', 'sec11a', 'cyp3a7', 'or1l3', 'f12', 'hoxa3', 'med17', 'rph3al', 'klk5', 'tubb8', 'ifi6', 'adgrg6', 'or5w2', 'spcs1', 'pfn1', 'btbd19', 'manf', 'nsmce3', 'ctbp2', 'myom1', 'rfx7', 'ado', 'trpc4', 'krtap8-1', 'ppid', 'ces1', 'clic1', 'metrn', 'gas7', 'ly6h', 'itgb3bp', 'page3', 'tns2', 'exoc4', 'gdap2', 'gga2', 'treml2', 'trim33', 'map3k21', 'fxr1', 'pycr2', 'ass1', 'grk6', 'dpp4', 'dync1li1', 'tspan18', 'inpp5k', 'sec11c', 'trim13', 'nelfcd', 'cbln3', 'sdr16c5', 'kcnip1', 'mpg', 'csn2', 'lin9', 'lyst', 'znf595', 'plk3', 'eif3i', 'gpr17', 'zmynd10', 'bnc2', 'tnfsf11', 'shc4', 'atp6v0c', 'hbs1l', 'pacsin2', 'map2', 'apoa1', 'dlk1', 'stk4', 'myo19', 'ppil4', 'cd200', 'mybpc1', 'nt5m', 'defb112', 'znf527', 'ggt7', 'celf3', 'cplane1', 'znf474', 'sgk3', 'mas1l', 'eaf2', 'foxp1', 'jph2', 'isoc2', 'tspan5', 'parp9', 'tpp2', 'c2orf72', 'tamm41', 'dach2', 'xkr9', 'shc1', 'dgkg', 'trpm3', 'klhl31', 'barx1', 'scg5', 'rbm22', 'pank3', 'krtap26-1', 'oosp4a', 'ube2g1', 'nploc4', 'znf599', 'arhgef37', 'pcnt', 'ftsj1', 'piga', 'tmem222', 'stk11ip', 'flcn', 'sigmar1', 'helz', 'ifi16', 'esr1', 'itm2a', 'eif2a', 'avpr2', 'mos', 'ndrg4', 'bend5', 'flt3', 'tekt3', 'ltbp3', 'cdh5', 'siglec6', 'zdhhc1', 'susd2', 'tle5', 'il5ra', 'pick1', 'il36a', 'lysmd2', 'aspdh', 'arhgef25', 'cuta', 'nfix', 'nek1', 'endod1', 'slc25a26', 'znf565', 'krtap19-5', 'mxra5', 'repin1', 'calhm5', 'knl1', 'stmn3', 'golph3l', 'sfxn1', 'tspan17', 'lcnl1', 'c1qtnf8', 'srp9', 'nipal3', 'c1qtnf4', 'ccdc112', 'flg2', 'washc4', 'cd70', 'krtap10-1', 'slc35a2', 'tgfb3', 'cemip', 'sun2', 'rapgef2', 'secisbp2', 'itgam', 'foxn3', 'pgc', 'trim43', 'rnf26', 'tcf12', 'lgals9', 'asxl3', 'cyb561a3', 'irf2bp1', 'scp2d1', 'phax', 'smc2', 'pdlim2', 'bean1', 'ptdss2', 'cryga', 'nudt3', 'scp2', 'rbp2', 'sec31b', 'psmb6', 'ccdc148', 'zdhhc23', 'ccdc50', 'kiz', 'ptgs1', 'or52e8', 'cox14', 'abca8', 'rhbdd2', 'ptk2b', 'esrp2', 'tmprss11e', 'colq', 'lcn2', 'pax1', 'gpr141', 'zkscan4', 'aqp11', 'kdelr1', 'ubl4a', 'sulf1', 'st3gal6', 'ptpra', 'ccdc8', 'emc3', 'ogg1', 'msmp', 'nr1d1', 'tex14', 'bcl2l11', 'map2k1', 'aldob', 'gjc3', 'adck2', 'rnf183', 'c5orf15', 'hrh1', 'arl13b', 'a1cf', 'spout1', 'vamp7', 'dcaf8l2', 'l3hypdh', 'gal', 'higd1a', 'terf2ip', 'fbxl20', 'adad2', 'abhd11', 'ccdc27', 'sbf2', 'ccr5', 'cnbp', 'hoxd3', 'mrgprx2', 'rubcn', 'osgin2', 'pip', 'ripk1', 'gng7', 'atp2a3', 'pias1', 'znf318', 'rap2b', 'utp15', 'ceacam16', 'pigo', 'clca2', 'nsmf', 'trip6', 'trap1', 'tesk2', 'lrrc8d', 'ppm1a', 'vps52', 'defb128', 'serinc2', 'anapc13', 'usp15', 'rfx4', 'cbx6', 'efhb', 'magea6', 'ervv-2', 'fam8a1', 'rasl12', 'fas', 'unc13c', 'ralgapa2', 'znf672', 'folr2', 'mllt11', 'traf2', 'lrrc71', 'sp110', 'prkar1b', 'tedc2', 'ptcd2', 'dennd2a', 'kcnmb2', 'znf888', 'matk', 'stxbp1', 'rhog', 'mx2', 'mrs2', 'atp6v1d', 'slc2a11', 'c11orf97', 'atp6ap1', 'tex44', 'tmem71', 'prss3', 'large2', 'cox6a2', 'cers4', 'ece2', 'nup155', 'crhbp', 'chid1', 'il1f10', 'cxorf65', 'ascl2', 'zbtb45', 'cirbp', 'cd3e', 'cntnap3', 'map2k5', 'tmem209', 'nono', 'itga7', 'hgd', 'dlx1', 'bag1', 'or5h2', 'setd1b', 'cpeb1', 'wdr90', 'fut8', 'camk2n2', 'plcxd1', 'gstp1', 'cars2', 'gng8', 'nemp2', 'pam16', 'best4', 'setd9', 'klhl6', 'herpud2', 'krtap29-1', 'adap1', 'fmn2', 'ikbkb', 'apool', 'apobec3d', 'or52h1', 'paaf1', 'rrm1', 'ppp1r12a', 'or5d13', 'lsm12', 'kif13b', 'trim64b', 'micb', 'macrod1', 'gyg1', 'ifne', 'bmf', 'ndufs7', 'arfrp1', 'tmem115', 'hr', 'top1mt', 'fads3', 'pus3', 'zbtb32', 'kcnk15', 'thoc7', 'jazf1', 'zfp36l1', 'gzmb', 'syngr2', 'nat8l', 'smyd2', 'mef2a', 'ubl5', 'f13b', 'mcmbp', 'fam98c', 'pla2g4c', 'synj2bp', 'dyrk2', 'igfbpl1', 'syngr4', 'micu3', 'vrk3', 'osbpl8', 'pdzd4', 'gpr1', 'asprv1', 'dapk3', 'sphkap', 'tmem260', 'imp4', 'rorb', 'pstpip1', 'sgsm3', 'prmt7', 'nubp1', 'trpm8', 'lpo', 'tada1', 'rerg', 'hnrnpm', 'atmin', 'ramacl', 'adgrg1', 'fbln5', 'clec4f', 'adam8', 'fam172a', 'hipk2', 'mib2', 'pde4b', 'fam228b', 'mmp12', 'tcim', 'iqcd', 'cbx7', 'lpcat2', 'znf425', 'atp6v0b', 'lonp1', 'il1rap', 'vps8', 'arf5', 'drd3', 'rin1', 'slc11a2', 'rln1', 'ndn', 'spdye4', 'rsad1', 'mier2', 'sf3a2', 'znf530', 'usp40', 'carf', 'ptger4', 'masp2', 'selenoo', 'morn3', 'or6m1', 'xkr8', 'polr3a', 'chst4', 'rap1gap2', 'bub1', 'ovol1', 'hspa8', 'dcp1b', 'xpnpep3', 'aak1', 'hmx2', 'ldhal6a', 'krtap1-3', 'cbx2', 'khsrp', 'golga6l7', 'pycr3', 'alad', 'bhlha9', 'nrp1', 'trabd2b', 'nup160', 'hcst', 'sae1', 'lcorl', 'rce1', 'fbn1', 'spata5l1', 'or4n5', 'tmem159', 'ascl4', 'myl12a', 'nudcd2', 'trdn', 'arrdc5', 'kctd11', 'dsp', 'jade3', 'zbed6cl', 'znf79', 'klhl28', 'gbgt1', 'znf473', 'trim16', 'anxa9', 'tex12', 'adamtsl3', 'adtrp', 'ddb1', 'arap2', 'f2rl1', 'znf735', 'cdt1', 'slc25a35', 'cops9', 'xiap', 'fank1', 'ro60', 'eid2', 'atp2b3', 'plekha8', 'tfeb', 'thbd', 'adam29', 'ppp1r18', 'prdx5', 'lgr5', 'ervv-1', 'rom1', 'prm3', 'nyx', 'slc6a7', 'adcy4', 'trmt5', 'trpc5', 'exd3', 'cyp11a1', 'cd96', 'znf729', 'serpinb1', 'rbm41', 'tacstd2', 'senp8', 'ap2s1', 'prag1', 'ccdc183', 'socs2', 'mta3', 'bicd2', 'psg5', 'rbm23', 'rhot2', 'gmeb1', 'dpep1', 'gpr6', 'atp2b2', 'wfikkn2', 'tmem198', 'mtnr1a', 'pold1', 'nus1', 'mid1', 'syce1', 'zswim8', 'ripk4', 'pcid2', 'pthlh', 'gng14', 'znf71', 'arl6', 'ppie', 'znf213', 'tnfsf15', 'mt1f', 'grin2c', 'tfr2', 'dipk1a', 'iqgap2', 'gnb5', 'atp6v1c1', 'rsph4a', 'chtop', 'mest', 'tesc', 'trmt9b', 'ppp1cb', 'atp5po', 'lilrb4', 'hes1', 'taf13', 'c9orf16', 'znf415', 'znf571', 'trnau1ap', 'slc16a8', 'tmem168', 'tlcd5', 'shbg', 'b3gat1', 'tnfrsf9', 'fis1', 'meis2', 'prkd3', 'adamts1', 'rrm2b', 'ifna5', 'cln8', 'pdha2', 'snap29', 'mt-nd2', 'zim3', 'prpf4b', 'colca2', 'nelfe', 'armcx1', 'gfy', 'oat', 'tas2r7', 'pcsk1n', 'cstl1', 'dhrsx', 'psmd4', 'prr23a', 'cthrc1', 'kcna5', 'cpped1', 'rgs4', 'atp5f1d', 'acvr1c', 'mfap3', 'dek', 'asah2', 'stim1', 'kiaa2012', 'fhl2', 'stc1', 'katnb1', 'mmut', 'atp6v1h', 'slc2a6', 'phf8', 'mylpf', 'fam222a', 'il33', 'akap17a', 'pdp1', 'pcdhb6', 'plxna1', 'gpr84', 'usp4', 'or8b8', 'pcbp3', 'txk', 'bcl9l', 'plin4', 'mcf2l', 'ubiad1', 'ccl19', 'cst7', 'riok3', 'ccdc97', 'ubap2l', 'tsga13', 'yy1', 'lce1a', 'lmntd1', 'gspt1', 'rnf187', 'tmed9', 'chd6', 'coro1b', 'rap2a', 'tmem114', 'sumo3', 'dusp11', 'rad23a', 'ccdc126', 'mlf2', 'smarca5', 'calcrl', 'or1a2', 'accs', 'cav1', 'znf532', 'nlgn1', 'fcrl3', 'bub1b', 'chmp4b', 'znf134', 'tgs1', 'znf154', 'mcidas', 'tceanc2', 'rbm39', 'luc7l3', 'abraxas2', 'spag7', 'syne3', 'bves', 'rnd1', 'lipn', 'mcm2', 'bmp5', 'znf143', 'ccl11', 'tp53i3', 'dipk2b', 'znf638', 'ptk7', 'tcf21', 'htra1', 'or5m10', 'bag5', 'wdr73', 'znf500', 'pglyrp2', 'slc18b1', 'slc35a1', 'gle1', 'tmem143', 'maged2', 'xdh', 'ttc29', 'trhde', 'shisa6', 'scgb3a2', 'ctcf', 'jmjd4', 'nlrp3', 'nup210', 'gpld1', 'cfl2', 'mboat4', 'adamts5', 'kdm5a', 'znf613', 'klrg1', 'ctbs', 'tas2r38', 'wnk2', 'odf3', 'nxph1', 'lmtk3', 'rbms3', 'dnai1', 'bicra', 'phc1', 'leng9', 'acox3', 'kif5c', 'creb3', 'znf101', 'syt11', 'lrguk', 'or10k1', 'trim27', 'timeless', 'srpx', 'mms19', 'slc11a1', 'agtr1', 'hdac9', 'inf2', 'dcaf15', 'arhgap25', 'dffb', 'ghdc', 'btn2a2', 'chst2', 'ptpre', 'dennd2c', 'slc25a37', 'uvrag', 'r3hcc1', 'gp2', 'znf256', 'pou6f2', 'c2orf49', 'fam183a', 'tex2', 'tmem175', 'dnajc27', 'spg7', 'spry3', 'angptl3', 'pi4kb', 'ccdc62', 'ccr7', 'mfsd6l', 'tmem147', 'bpifb2', 'rtca', 'lce5a', 'krt6c', 'clc', 'ints11', 'erfe', 'kdm4c', 'cc2d1b', 'cherp', 'eepd1', 'crybg1', 'farp2', 'pitpnm1', 'il20', 'nol7', 'gls', 'snx3', 'gga3', 'gys1', 'slc6a16', 'tshr', 'heatr5b', 'myocos', 'siglec10', 'tmem242', 'zmat4', 'or5i1', 'disp1', 'tcerg1l', 'pnp', 'slc12a4', 'apoc2', 'ints6', 'aph1b', 'aatf', 'ptpn18', 'rfc1', 'chtf18', 'fkbp10', 'lrp1', 'znf253', 'c22orf31', 'ust', 'rdh11', 'natd1', 'slfn14', 'ncaph2', 'l3mbtl3', 'slc7a8', 'samsn1', 'znf197', 'serpinb6', 'rabgef1', 'myoz3', 'pogk', 'cyp27c1', 'aftph', 'rarb', 'pof1b', 'sumf1', 'fam200a', 'orm1', 'nme4', 'slc35d2', 'col22a1', 'fam149a', 'smarca4', 'kcnj15', 'slc39a7', 'ctsb', 'tmem179b', 'znf217', 'soat1', 'ccnt1', 'brca1', 'htr2b', 'jagn1', 'hibadh', 'calhm4', 'hus1b', 'rprd2', 'rbm45', 'cisd1', 'polr2f', 'pik3cg', 'map2k6', 'rpa2', 'dmac2l', 'tmem45b', 'arsd', 'pgbd4', 'qrich1', 'fcar', 'aurkc', 'dus4l', 'ces5a', 'uqcr10', 'plcg2', 'map3k14', 'znf396', 'rfx6', 'dnmt1', 'scara3', 'smarcd3', 'tsfm', 'dhtkd1', 'ly6e', 'eef2k', 'tubgcp4', 'semg1', 'psg2', 'pcdhga9', 'rbm27', 'morc2', 'robo1', 'larp4b', 'fat3', 'kcnn3', 'lyz', 'znf276', 'ptprc', 'zfp1', 'ptov1', 'slc19a2', 'znf544', 'ncoa3', 'them4', 'or2m2', 'fabp6', 'rev1', 'wdr33', 'clec18a', 'c17orf58', 'serp1', 'otc', 'cbx5', 'slc39a12', 'clgn', 'fsd1l', 'ugt1a4', 'gmppb', 'nid1', 'hspe1', 'cfap20', 'crebzf', 'tab1', 'ccdc65', 'slc1a1', 'rnf144b', 'fsip1', 'alkbh3', 'plekhj1', 'maf1', 'ifi27l1', 'fat1', 'htr1a', 'txndc17', 'or5p2', 'btn3a3', 'uxs1', 'pdss2', 'krtap5-10', 'art4', 'prcd', 'mapkap1', 'ttbk1', 'znf674', 'baz1a', 'sfxn2', 'fbf1', 'zbbx', 'atad3c', 'antxr2', 'prg4', 'srp19', 'gcn1', 'tbxas1', 'nlrp1', 'gdpgp1', 'pls1', 'otp', 'mthfd1l', 'tnfrsf10d', 'phkg2', 'rubcnl', 'ccdc7', 'mphosph8', 'scn1a', 'ddx27', 'kiaa1328', 'rfpl2', 'ifit1', 'aqp3', 'serpinh1', 'spaca4', 'tnfrsf21', 'tmem95', 'mrap2', 'or2ag1', 'ccdc196', 'tff3', 'ppy', 'ssx5', 'barhl2', 'mtmr3', 'ube2q1', 'cyb5r1', 'gcfc2', 'kdm7a', 'dnajb13', 'chl1', 'tcirg1', 'znf823', 'lgals2', 'adamtsl4', 'lrrc40', 'kctd7', 'spp1', 'cyp4f8', 'xirp2', 'tmprss6', 'kiaa0586', 'nr2f2', 'il17rb', 'cyp7a1', 'bri3bp', 'uhrf1', 'lce1d', 'prr33', 'otud3', 'sord', 'c16orf96', 'alas1', 'oxct2', 'slc9a9', 'mast4', 'sntg1', 'ido1', 'lbp', 'fam71e1', 'ccnb1ip1', 'or7g3', 'or2m7', 'kansl3', 'cd46', 'alx1', 'or6n2', 'ccbe1', 'bcorl1', 'lcn8', 'enpp5', 'plod1', 'sorbs2', 'agrp', 'tent2', 'rilpl1', 'cort', 'c5orf51', 'ell2', 'tmem183a', 'dppa3', 'fam47e', 'aldh5a1', 'psmd6', 'tmem167a', 'or2b3', 'myh2', 'vn1r1', 'patl1', 'brwd3', 'six2', 'trim62', 'ndufs5', 'atg5', 'dnai2', 'ints6l', 'capg', 'ddhd1', 'acsf3', 'usb1', 'slc25a48', 'atrnl1', 'znf234', 'fyb2', 'steap1b', 'ermp1', 'aldh6a1', 'synpr', 'gtpbp2', 'clcnkb', 'cep70', 'ccer1', 'c11orf96', 'snrnp27', 'cul5', 'ptrhd1', 'reep5', 'pnoc', 'grsf1', 'or10q1', 'hapln1', 'idnk', 'cmtr1', 'slk', 'flt4', 'dctn4', 'kbtbd4', 'snx29', 'grem2', 'bcl3', 'mbnl2', 'c17orf50', 'rmc1', 'upf3b', 'or5m11', 'lgals3', 'znf48', 'upf3a', 'znf681', 'khdc4', 'pif1', 'ogfrl1', 'igsf22', 'maea', 'znf791', 'spred3', 'tspan6', 'synj1', 'c1orf174', 'zmynd8', 'cxcr5', 'cd27', 'pom121l12', 'dhx32', 'trpc6', 'cabcoco1', 'psme1', 'polrmt', 'cdpf1', 'qrfp', 'rrp1', 'klhl12', 'tnik', 'arhgap44', 'icam4', 'ccdc124', 'uri1', 'ptprb', 'hnrnpul1', 'mospd3', 'mst1', 'ndst3', 'ankrd31', 'hdgfl3', 'hpd', 'kbtbd8', 'trim58', 'galnt5', 'noc4l', 'dync1h1', 'tmem106b', 'cd53', 'pgpep1', 'leng8', 'pyhin1', 'trim31', 'mpped2', 'ggn', 'exosc4', 'capn11', 'znf723', 'unc5a', 'ankrd34c', 'noa1', 'nfatc2ip', 'cd5l', 'fam210a', 'acsm3', 'camlg', 'or56a1', 'slc26a9', 'eif1', 'afap1l1', 'ccl16', 'b4galt6', 'osbpl6', 'pramef11', 'pdhb', 'c1qtnf12', 'c12orf29', 'rrp15', 'nell2', 'ate1', 'pes1', 'dnajc1', 'klhl24', 'ankrd33', 'ppp4r1', 'polg', 'prpf31', 'mtf2', 'dnase1', 'smarcad1', 'fam162b', 'nthl1', 'myeov', 'uhrf1bp1l', 'btbd8', 'plin5', 'rrad', 'tlr7', 'or14a16', 'ecm2', 'tas2r40', 'rlbp1', 'sumo2', 'git2', 'n4bp2', 'plcb1', 'irgq', 'ankfy1', 'man1a2', 'rock2', 'il12a', 'myl10', 'cfh', 'fam89a', 'rpe', 'elovl4', 'lhx2', 'pate4', 'meiob', 'fn3k', 'ralgapb', 'mus81', 'zcchc9', 'ifitm2', 'prrt1', 'tbc1d32', 'med24', 'tcn2', 'ormdl3', 'hpr', 'prpf40b', 'gspt2', 'znf385c', 'chmp1a', 'mapkbp1', 'nell1', 'septin12', 'itgb2', 'atp8b4', 'wt1', 'map4', 'ccdc186', 'snrpf', 'thap8', 'ppp3cb', 'cct2', 'ccdc51', 'slitrk4', 'prss57', 'dtx1', 'inip', 'prkci', 'btnl8', 'acat1', 'cep97', 'nr2c1', 'itga11', 'ccnf', 'rims1', 'atp6v1g1', 'tspan4', 'atl2', 'gmfg', 'nbl1', 'apba1', 'paqr5', 'atg16l1', 'bbs1', 'col17a1', 'dusp8', 'ccdc113', 'vdac2', 'krtap12-4', 'nudt18', 'spo11', 'mcat', 'krtap24-1', 'miip', 'znf449', 'gas2', 'bri3', 'ext1', 'smoc1', 'gckr', 'c1orf159', 'tubb2b', 'usp31', 'srcin1', 'kif3b', 'wfdc12', 'lmbr1l', 'dag1', 'stx3', 'siva1', 'eps15l1', 'stk40', 'edc3', 'hoxc8', 'sh2d3a', 'bola3', 'lcat', 'fam78b', 'efcab6', 'fam180b', 'gas1', 'arhgef10l', 'ric3', 'lrrc36', 'cacna1g', 'psmb9', 'fgf19', 'znf131', 'otop3', 'nodal', 'sgcb', 'harbi1', 'pole3', 'wls', 'snta1', 'nup214', 'fam170a', 'ackr3', 's100p', 'xpr1', 'eef1akmt4', 'clip2', 'reln', 'clecl1', 'znf570', 'prss12', 'echdc3', 'mgam', 'cep85', 'fpr2', 'rab9b', 'rnf19a', 'mc1r', 'znf471', 'col13a1', 'bap1', 'znf367', 'dusp1', 'pramef10', 'arhgap9', 'plagl1', 'trip4', 'heatr9', 'znf548', 'chrnb2', 'trabd2a', 'amigo1', 'znf738', 'rhot1', 'pgam2', 'cyren', 'defa6', 'gpr32', 'galr2', 'ren', 'kiaa1755', 'zc3h12c', 'ash2l', 'kmt2d', 'spg21', 'bckdha', 'or4x1', 'id2', 'ankrd36', 'ang', 'ap2m1', 'fyttd1', 'gli4', 'mtm1', 'clk4', 'pak1', 'gdf5', 'eng', 'trim46', 'ifrd1', 'cilp', 'phf21b', 'scaper', 'itga4', 'stradb', 'id3', 'ints1', 'krt71', 'tnfrsf10c', 'c12orf54', 'akap9', 'catspere', 'chmp2b', 'myo7b', 'musk', 'krtap10-11', 'brs3', 'cntnap4', 'kiss1', 'sec22b', 'nbas', 'chek1', 'tp53i11', 'wwc3', 'sorbs3', 'alox5', 'isca1', 'nps', 'znrf2', 'atox1', 'dnal4', 'col27a1', 'nsmce2', 'pik3ca', 'vat1l', 'timp4', 'stk32a', 'prdx1', 'got1', 'or3a3', 'cnrip1', 'tnni1', 'fam163b', 'ecm1', 'des', 'gap43', 'rad23b', 'c1orf53', 'tubb4b', 'tuba3d', 'fbxl6', 'fpgs', 'gprc5d', 'cyth3', 'ankrd65', 'tmod4', 'osbpl9', 'cldn22', 'gsto1', 'sfn', 'prxl2a', 'hoxc6', 'tes', 'prok1', 'sox3', 'akr1b15', 'tbc1d3e', 'far1', 'pamr1', 'zswim6', 'kif23', 'gcdh', 'rnase11', 'klhl5', 'nap1l5', 'yars2', 'serpinf2', 'zscan16', 'gfod2', 'wnt5a', 'prr23c', 'p4ha1', 'stag1', 'bbs5', 'rflna', 'plaat4', 'ecd', 'mettl7b', 'calr3', 'mt-co2', 'strip1', 'blzf1', 'scn7a', 'gid8', 'ncoa1', 'klhl38', 'znf436', 'mettl16', 'c1orf210', 'amz1', 'tcp11l1', 'c8g', 'ier5l', 'rbbp4', 'st8sia6', 'tmem86a', 'sertm1', 'sdr39u1', 'arhgap29', 'pgr', 'gpr161', 'shc3', 'htr6', 'adcyap1', 'klhl34', 'znf322', 'clec17a', 'muc21', 'rae1', 'lnp1', 'cpa3', 'npc2', 'adgra2', 'kcp', 'wsb1', 'ribc1', 'sirt7', 'prdm4', 'c12orf66', 'tnfsf14', 'ccdc137', 'cox7b2', 'cltb', 'hook3', 'abca12', 'cdkn1a', 'fbp2', 'bub3', 'efhc1', 'or52j3', 'gpatch2', 'lmln', 'lrsam1', 'hsd11b2', 'sox10', 'smarca1', 'wnt2', 'fgfbp2', 'znrd2', 'tmem123', 'ccdc160', 'ankrd30bl', 'ccl21', 'emcn', 'cel', 'utp3', 'clcnka', 'parvb', 'gbp1', 'anxa7', 'map3k4', 'ccdc116', 'slc31a1', 'hccs', 'arhgef6', 'ppp1r12c', 'cebpg', 'col25a1', 'cxcr2', 'spink14', 'vma21', 'ccdc73', 'znf781', 'slc6a14', 'capn8', 'tmem201', 'calml5', 'lto1', 'lrrc52', 'isl2', 'cabp5', 'brip1', 'pcdhb15', 'pllp', 'dhrs13', 'tp53tg5', 'slc6a1', 'gpm6a', 'cdo1', 'tgfb1', 'dffa', 'mapk10', 'ifih1', 'ccna1', 'perm1', 'lias', 'csh2', 'znf695', 'znf689', 'lpcat3', 'camk4', 'il17f', 'plppr1', 'iba57', 'ppil6', 'atp2c2', 'unk', 'gpr137b', 'preb', 'zdhhc8', 'taar8', 'mterf1', 'lat', 'or7g1', 'bmp2k', 'cdkl1', 'txlna', 'iqcf2', 'tmem144', 'tmem200a', 'zkscan5', 'zc2hc1a', 'cdkn1c', 'tcn1', 'mmp7', 'capn2', 'plekhf2', 'mib1', 'slc22a11', 'rab21', 'znf461', 'tmem128', 'or52k2', 'tfap4', 'upk1b', 'dnmt3a', 'zscan31', 'ddi2', 'lepr', 'arhgap22', 'c10orf53', 'cradd', 'mitd1', 'cad', 'tbccd1', 'lcn10', 'ddx51', 'ccdc120', 'slc2a13', 'muc17', 'pik3c3', 'ndufaf7', 'znf524', 'gfm1', 'itprip', 'sult2b1', 'prss45p', 'fam53a', 'vps11', 'cpne8', 'lrfn5', 'or51a4', 'gca', 'ppp6r1', 'smurf1', 'ankrd18b', 'mccc2', 'reep6', 'znf426', 'znf257', 'wdr36', 'fgb', 'tlcd4', 'snx9', 'hddc3', 'tmem107', 'lcn9', 'zfc3h1', 'rfng', 'lrfn1', 'ndufa9', 'cspg5', 'dhrs1', 'fxr2', 'rbck1', 'otop2', 'bfsp1', 'ephb2', 'pcnx4', 'or6q1', 'opn3', 'smyd4', 'dtd2', 'oxer1', 'znf284', 'nek10', 'rab17', 'spata7', 'rrbp1', 'nop56', 'cass4', 'vegfd', 'sh3gl3', 'lmod1', 'septin11', 'cdk5r1', 'b3gnt9', 'slc13a3', 'cox4i2', 'rbks', 'nom1', 'ppp4r3c', 'prdm16', 'kctd19', 'seh1l', 'pgap3', 'dock1', 'stmn4', 'ptms', 'b3galt1', 'oxa1l', 'defb123', 'or8d1', 'c2cd5', 'npepl1', 'pcyox1', 'plac8', 'csad', 'mllt3', 'cant1', 'ccdc150', 'gipc1', 'gemin7', 'sf3b1', 'zbtb7b', 'ppp1r35', 'slc7a13', 'c6orf136', 'top3b', 'krba2', 'epn2', 'pskh2', 'ikzf3', 'aurkaip1', 'polq', 'tmem68', 'cabp1', 'tagln3', 'f8', 'nr4a2', 'neto1', 'c3orf14', 'ankrd40', 'glt8d2', 's100a10', 'naa10', 'smpdl3b', 'slc38a10', 'map3k8', 'map3k20', 'txnip', 'qtrt2', 'eml5', 'foxj2', 'piezo1', 'rilp', 'ascl1', 'itln1', 'cnksr3', 'rnf19b', 'arl6ip6', 'abcb6', 'c1orf122', 'nckipsd', 'stxbp6', 'lmf1', 'ccl17', 'znf441', 'epb41l4b', 'phldb3', 'chpt1', 'exosc6', 'best3', 'ptx4', 'krt15', 'scand1', 'c1orf112', 'tox2', 'znf585b', 'zcchc17', 'slurp1', 'pld3', 'coa4', 'fam124a', 'tmpo', 'sfmbt1', 'nr0b1', 'rln2', 'msln', 'atp6v0d2', 'gata2', 'rdx', 'slc37a1', 'gfi1b', 'micall2', 'pla2g5', 'cab39l', 'c14orf39', 'fgf11', 'rpp25', 'cacng1', 'pdcd11', 'znf777', 'aip', 'uqcrc1', 'kcnn4', 'atp9a', 'svopl', 'naa15', 'srfbp1', 'ly6g6d', 'snx20', 'tram2', 'pwp1', 'gpr179', 'ppan', 'fam217a', 'idi2', 'pex16', 'alkbh4', 'or5ap2', 'znf345', 'catsperg', 'ndufa11', 'apoc3', 'tex30', 'znf34', 'tonsl', 'cdk8', 'c12orf42', 'plcxd2', 'arf3', 'smim6', 'slc1a4', 'capn1', 'samd9', 'gng4', 'usp28', 'magea11', 'ehmt2', 'tulp3', 'birc7', 'grk3', 'ssmem1', 'tgfa', 'grpel2', 'lgi3', 'nr5a1', 'erbb3', 'tbcb', 'tfap2e', 'actc1', 'zmynd15', 'c20orf204', 'prr30', 'arap1', 'kyat1', 'zdhhc19', 'glis3', 'slc17a9', 'tent4b', 'sema4g', 'rassf4', 'med7', 'rheb', 'znf705g', 'pvalef', 'tmem43', 'syt7', 'pcolce2', 'alpg', 'pcdhb3', 'nox1', 'cntn6', 'capza3', 'lancl3', 'sccpdh', 'ifnb1', 'tmprss11b', 'riiad1', 'ibtk', 'hspbp1', 'cfap47', 'clec3b', 'dnah7', 'zmym2', 'septin4', 'scarf2', 'cdca3', 'efcc1', 'tob1', 'trib3', 'duxb', 'pcdha4', 'hoxd4', 'pias4', 'ddx11', 'gpr142', 'gpx7', 'chadl', 'spats2l', 'rxrb', 'fuom', 'tas2r39', 'ppp2r5b', 'ece1', 'rpel1', 'dhx33', 'myh10', 'u2af1l4', 'fut9', 'usp54', 'or9i1', 'trim54', 'zscan1', 'pak1ip1', 'ifnl2', 'klhl23', 'smpdl3a', 'myl2', 'cd93', 'dio1', 'hcn2', 'rundc1', 'naaladl1', 'tmem156', 'clec18c', 'lbhd2', 'snip1', 'reg1b', 'olfm1', 'armh1', 'bdh2', 'ephb4', 'magoh', 'arl14ep', 'or10z1', 'kctd8', 'st3gal4', 'acyp2', 'nmb', 'cltcl1', 'znf423', 'alox5ap', 'igll1', 'or5l2', 'tmem87b', 'klf8', 'bsdc1', 'spic', 'rnase1', 'hhipl1', 'wdr31', 'or10d3', 'msgn1', 'camkk2', 'gabarap', 'krtap9-8', 'plin2', 'rnf103', 'neurl1', 'kcnd3', 'pacc1', 'hdac2', 'prxl2c', 'gdf11', 'slc15a1', 'clec4a', 'rpe65', 'pcdhga10', 'ptpn2', 'shd', 'arhgap42', 'tg', 'tmem126a', 'krt32', 'ms4a15', 'xpo7', 'pyroxd2', 'siglec11', 'actr3', 'arvcf', 'scyl1', 'heph', 'mtmr7', 'ripk2', 'psma4', 'ccdc90b', 'c11orf91', 'tenm2', 'fbxl3', 'znf235', 'grip1', 'ninl', 'rbpj', 'uts2', 'cyp4z1', 'mtfr1', 'csrnp1', 'smyd1', 'pcyt1b', 'cep104', 'smim3', 'crygn', 'dkk3', 'ikzf4', 'nkiras2', 'tom1', 'pim2', 'cbarp', 'zscan2', 'phactr2', 'prr18', 'casp2', 'gpc5', 'gnl1', 'isg20', 'znf483', 'tnrc6a', 'iqsec1', 'zbtb5', 'ticrr', 'ing3', 'adcy5', 'hdac5', 'ndrg3', 'pcdhga8', 'tbx22', 'tymp', 'vps50', 'scyl2', 'cpeb3', 'aagab', 'rcor2', 'aicda', 'prr3', 'klf4', 'plaat3', 'scn3b', 'rgpd4', 'tbc1d2', 'trim48', 'mcrs1', 'srsf8', 'alg2', 'bcas4', 'hsd17b14', 'c20orf202', 'acsl5', 'rnf220', 's100a3', 'sgpp2', 'lrp2', 'uba1', 'akap3', 'mycl', 'wdr19', 'b3gnt3', 'dpm1', 'zcrb1', 'c11orf53', 'znf720', 'sema3a', 'pcgf1', 'mmp21', 'rab27a', 'ppp3cc', 'csnk1d', 'jph4', 'ift20', 'rasal2', 'slc35c2', 'or2l5', 'thy1', 'znf747', 'foxn1', 'mgarp', 'poln', 'utp14a', 'amt', 'gpat4', 'mgll', 'ptcra', 'tnf', 'ncdn', 'or10h2', 'dctd', 'lipt2', 'ube4b', 'znf732', 'mysm1', 'bclaf3', 'tmem121', 'gabrg3', 'ppp3r2', 'clic3', 'sh2b3', 'bicdl2', 'rbis', 'serpine2', 'adm5', 'scrib', 'cchcr1', 'pde10a', 'znf566', 'nefl', 'nlrc4', 'mdc1', 'slitrk3', 'ckap5', 'rassf1', 'lipa', 'prrc2b', 'pspc1', 'ppp6r3', 'fmnl2', 'flot1', 'pla2g10', 'myh14', 'fam90a26', 'col20a1', 'cabin1', 'pten', 'itm2b', 'tsc22d4', 'mmp23b', 'yif1b', 'or1q1', 'dnajb4', 'acss1', 'cnp', 'ctso', 'sox18', 'usp3', 'nsd1', 'or2a12', 'mt1h', 'cep295nl', 'thoc5', 'reg4', 'rasa2', 'btbd16', 'defb1', 'sucla2', 'pdgfra', 'nedd8', 'cby3', 'nrap', 'pla1a', 'iqcf5', 'bin1', 'dcaf11', 'hmcn1', 'nup42', 'slc38a6', 'parp16', 'impa2', 'prpf40a', 'castor2', 'rims4', 'hmgcl', 'iffo2', 'tfcp2', 'tmx1', 'otulin', 'enam', 'ascc3', 'nup107', 'derl3', 'zcchc2', 'epha4', 'tgm7', 'syf2', 'prtn3', 'zpr1', 'cdh4', 'npl', 'htr3e', 'nsun2', 'noxred1', 'smc4', 'zrsr2', 'trub1', 'qrich2', 'rag2', 'gnat2', 'cds2', 'pcyox1l', 'nkain2', 'nutm2a', 'flrt3', 'myh15', 'ccz1', 'cemip2', 'vav3', 'cpne9', 'pydc2', 'pnma2', 'pde7a', 'naa16', 'angptl4', 'nfkbia', 'nkrf', 'bard1', 'gna14', 'tspan13', 'efhc2', 'lpin1', 'ncl', 'fndc3a', 'leap2', 'mrgprx1', 'grb14', 'dnase1l1', 'chpf', 'cdkn2b', 'rab32', 'cox17', 'rgsl1', 'nrk', 'cdh22', 'prpf18', 'wnk1', 'macf1', 'trim36', 'kif20b', 'wdr17', 'dsg4', 'adgre2', 'rbfox1', 'slc39a6', 'agxt', 'tmem30b', 'ttk', 'abi3bp', 'gjb4', 'zmym4', 'gpr78', 'cdh24', 'rffl', 'ptges3l', 'ssh2', 'akap14', 'nhsl1', 'c14orf180', 'mslnl', 'sh2b2', 'vtcn1', 'phf2', 'armc2', 'myl4', 'aspm', 'ppp4r4', 'psen2', 'ervmer34-1', 'txndc12', 'tex37', 'pea15', 'hecw2', 'klhl9', 'or1l6', 'myo1c', 'znf787', 'mbd6', 'aff2', 'irak1', 'znf714', 'foxg1', 'itpk1', 'b2m', 'taar5', 'tnfrsf17', 'spata33', 'stk16', 'xcl2', 'fzd1', 'carns1', 'ppih', 'mustn1', 'zfpm2', 'sema3c', 'htra4', 'gdpd4', 'tm6sf2', 'sstr4', 'theg', 'znf783', 'nfkb1', 'spink6', 'aff1', 'iqck', 'prkn', 'srrd', 'virma', 'tnfaip8', 'fam110c', 'c5orf47', 'crat', 'clec9a', 'fam47c', 'trdmt1', 'rab31', 'tctn3', 'pcdhga5', 'ext2', 'sf3b2', 'pkd1l3', 'scd', 'dct', 'nipsnap3b', 'tp73', 'tmem196', 'cdk9', 'becn1', 'hnrnpul2', 'erich4', 'lilra5', 'rbm8a', 'fuca2', 'clec7a', 'rbm33', 'cpq', 'ppl', 'lilra4', 'kbtbd12', 'slc8a1', 'rrp9', 'pdha1', 'mogat1', 'ube2e2', 'or10j1', 'stk17b', 'gne', 'rtp3', 'b3gnt7', 'nfya', 'abcg5', 'rasgrp2', 'hsp90ab1', 'nptx2', 'or5b12', 'mesp1', 'znf493', 'plpp3', 'tepsin', 'abhd12', 'msantd4', 'smc5', 'ston1', 'fam98a', 'spata6', 'mettl9', 'mgat3', 'hdhd2', 'nanos3', 'rassf5', 'alg13', 'ilrun', 'lrrc8c', 'prlh', 'ermap', 'gabrg2', 'ahcyl1', 'grid2ip', 'glb1l3', 'poc1b', 'fbxo2', 'hdx', 'abca3', 'fbp1', 'magec2', 'ccdc192', 'gata4', 'foxc1', 'adamts3', 'drd5', 'shoc1', 'znf805', 'cntln', 'pop5', 'pebp4', 'rapgef1', 'rnf175', 'znf609', 'homez', 'c12orf75', 'plekhg3', 'zbtb40', 'cd160', 'pgam1', 'ces2', 'anxa13', 'isyna1', 'slc30a4', 'tmem160', 'rnf144a', 'spink7', 'agr3', 'lgals12', 'ttc30a', 'e2f3', 'acadl', 'mfge8', 'mad2l1bp', 'kbtbd11', 'lratd2', 'asnsd1', 'pdgfa', 'smim5', 'usp26', 'apbb1ip', 'slc5a8', 'amotl2', 'zbtb11', 'ccdc197', 'c11orf65', 'or13f1', 'zscan10', 'myo1d', 'cct8', 'mob1a', 'gem', 'col1a2', 'wdr91', 'ssx2ip', 'epc2', 'mars2', 'or4k14', 'ddx55', 'hlcs', 'wnt11', 'selenof', 'pilra', 'krtap9-3', 'c11orf94', 'dhx36', 'fam91a1', 'c1orf109', 'fam216b', 'esco1', 'akirin1', 'asb1', 'tmem41b', 'ptpro', 'grhl3', 'exosc10', 'agap1', 'gtf2h4', 'dgkb', 'sharpin', 'ubfd1', 'gpr149', 'rnf224', 'spata17', 'spink5', 'spin3', 'neil1', 'odf4', 'thra', 'znf649', 'slc15a5', 'cox10', 'samd13', 'catip', 'jkamp', 'nol12', 'sys1', 'gk3p', 'itih2', 'gabra4', 'hipk1', 'nlgn3', 'kdf1', 'aif1l', 'thrb', 'zbed5', 'tyrobp', 'c2orf69', 'stab2', 'draxin', 'cox7a2l', 'apof', 'mtfr1l', 'rxylt1', 'gnl3l', 'cpne1', 'arhgdia', 'dthd1', 'shisal2b', 'msrb3', 'slc25a46', 'slc22a18as', 'heca', 'hmbs', 'capn12', 'tnk1', 'gm2a', 'naglu', 'il7r', 'rsad2', 'afg3l2', 'mcoln1', 'gpd2', 'znf704', 'tk2', 'znf625', 'man1a1', 'pvr', 'igfbp7', 'parl', 'cela1', 'ttc6', 'cnbd1', 'zdhhc21', 'suv39h2', 'ccdc177', 'defb134', 'gimd1', 'fxyd4', 'timm23'}\n"
     ]
    },
    {
     "data": {
      "text/plain": [
       "{'aars',\n",
       " 'ac004593.3',\n",
       " 'ac005551.1',\n",
       " 'ac007906.2',\n",
       " 'ac008397.1',\n",
       " 'ac008687.4',\n",
       " 'ac010255.3',\n",
       " 'ac010325.1',\n",
       " 'ac011005.1',\n",
       " 'ac011195.2',\n",
       " 'ac013470.2',\n",
       " 'ac015871.1',\n",
       " 'ac021072.1',\n",
       " 'ac021097.2',\n",
       " 'ac025283.2',\n",
       " 'ac025287.4',\n",
       " 'ac067752.1',\n",
       " 'ac072022.2',\n",
       " 'ac073111.4',\n",
       " 'ac087498.1',\n",
       " 'ac090360.1',\n",
       " 'ac091057.6',\n",
       " 'ac092835.1',\n",
       " 'ac093323.1',\n",
       " 'ac099489.1',\n",
       " 'ac104389.5',\n",
       " 'ac113348.1',\n",
       " 'ac115220.1',\n",
       " 'ac118549.1',\n",
       " 'ac119396.1',\n",
       " 'ac132217.2',\n",
       " 'ac134684.8',\n",
       " 'ac138647.1',\n",
       " 'ac187653.1',\n",
       " 'ac233723.1',\n",
       " 'ac236972.4',\n",
       " 'acpp',\n",
       " 'adprhl2',\n",
       " 'adss',\n",
       " 'adssl1',\n",
       " 'al032819.3',\n",
       " 'al109810.2',\n",
       " 'al121578.2',\n",
       " 'al135905.2',\n",
       " 'al160269.1',\n",
       " 'al162231.1',\n",
       " 'al162596.1',\n",
       " 'al353572.3',\n",
       " 'al354761.1',\n",
       " 'al391650.1',\n",
       " 'al445238.1',\n",
       " 'al451007.3',\n",
       " 'al590560.2',\n",
       " 'al603764.2',\n",
       " 'al845331.2',\n",
       " 'alg1l',\n",
       " 'ap002495.1',\n",
       " 'arih2os',\n",
       " 'armc4',\n",
       " 'arse',\n",
       " 'atp5md',\n",
       " 'atp5mpl',\n",
       " 'atp6ap1l',\n",
       " 'b3gnt10',\n",
       " 'bhmg1',\n",
       " 'bx255925.3',\n",
       " 'bx276092.9',\n",
       " 'c10orf142',\n",
       " 'c10orf55',\n",
       " 'c11orf40',\n",
       " 'c11orf74',\n",
       " 'c11orf88',\n",
       " 'c12orf10',\n",
       " 'c12orf49',\n",
       " 'c12orf74',\n",
       " 'c12orf81',\n",
       " 'c14orf177',\n",
       " 'c15orf41',\n",
       " 'c16orf58',\n",
       " 'c17orf53',\n",
       " 'c19orf48',\n",
       " 'c19orf57',\n",
       " 'c1orf61',\n",
       " 'c2orf83',\n",
       " 'c2orf91',\n",
       " 'c3orf67',\n",
       " 'c5orf30',\n",
       " 'c5orf60',\n",
       " 'c5orf67',\n",
       " 'c6orf201',\n",
       " 'c6orf223',\n",
       " 'c7orf77',\n",
       " 'c9orf129',\n",
       " 'c9orf92',\n",
       " 'card16',\n",
       " 'card17',\n",
       " 'cars',\n",
       " 'casc1',\n",
       " 'casc4',\n",
       " 'castor3',\n",
       " 'ccdc114',\n",
       " 'ccdc151',\n",
       " 'ccdc155',\n",
       " 'ccdc36',\n",
       " 'ccdc39',\n",
       " 'ccdc84',\n",
       " 'cd3eap',\n",
       " 'cenpbd1',\n",
       " 'cllu1os',\n",
       " 'cntd2',\n",
       " 'ct62',\n",
       " 'cxorf21',\n",
       " 'cxorf40a',\n",
       " 'cxorf56',\n",
       " 'cyb561d2',\n",
       " 'dars',\n",
       " 'dec1',\n",
       " 'defb133',\n",
       " 'dirc1',\n",
       " 'dock8-as1',\n",
       " 'dupd1',\n",
       " 'dusp27',\n",
       " 'elfn2',\n",
       " 'elmsan1',\n",
       " 'eloa3',\n",
       " 'eprs',\n",
       " 'fam122a',\n",
       " 'fam122b',\n",
       " 'fam122c',\n",
       " 'fam169b',\n",
       " 'fam192a',\n",
       " 'fam218a',\n",
       " 'fam30a',\n",
       " 'fam49a',\n",
       " 'fam49b',\n",
       " 'fam92b',\n",
       " 'fgfr1op',\n",
       " 'fopnl',\n",
       " 'fp565260.1',\n",
       " 'gars',\n",
       " 'gcsaml-as1',\n",
       " 'gdf5os',\n",
       " 'glra4',\n",
       " 'golga8m',\n",
       " 'grasp',\n",
       " 'h1f0',\n",
       " 'h1fnt',\n",
       " 'h1foo',\n",
       " 'h1fx',\n",
       " 'h2afj',\n",
       " 'h2afx',\n",
       " 'h2afy',\n",
       " 'h2afy2',\n",
       " 'h2afz',\n",
       " 'h2bfm',\n",
       " 'h2bfwt',\n",
       " 'h3.y',\n",
       " 'h3f3a',\n",
       " 'h3f3b',\n",
       " 'h3f3c',\n",
       " 'hars',\n",
       " 'hhla3',\n",
       " 'hist1h1a',\n",
       " 'hist1h1b',\n",
       " 'hist1h1c',\n",
       " 'hist1h1d',\n",
       " 'hist1h1e',\n",
       " 'hist1h2ac',\n",
       " 'hist1h2ae',\n",
       " 'hist1h2ag',\n",
       " 'hist1h2ai',\n",
       " 'hist1h2ak',\n",
       " 'hist1h2bb',\n",
       " 'hist1h2bg',\n",
       " 'hist1h2bh',\n",
       " 'hist1h2bn',\n",
       " 'hist1h3e',\n",
       " 'hist1h3g',\n",
       " 'hist1h3h',\n",
       " 'hist1h4b',\n",
       " 'hist1h4c',\n",
       " 'hist1h4e',\n",
       " 'hist1h4g',\n",
       " 'hist1h4i',\n",
       " 'hist1h4j',\n",
       " 'hist2h2be',\n",
       " 'hist3h2a',\n",
       " 'hist3h2bb',\n",
       " 'hist3h3',\n",
       " 'hist4h4',\n",
       " 'hypm',\n",
       " 'iars',\n",
       " 'ick',\n",
       " 'igha1',\n",
       " 'igha2',\n",
       " 'ighd',\n",
       " 'ighe',\n",
       " 'ighg1',\n",
       " 'ighg3',\n",
       " 'ighm',\n",
       " 'igkc',\n",
       " 'iglc1',\n",
       " 'iglc7',\n",
       " 'impad1',\n",
       " 'kars',\n",
       " 'kiaa0355',\n",
       " 'kiaa0556',\n",
       " 'kiaa1211',\n",
       " 'kiaa1211l',\n",
       " 'kiaa1257',\n",
       " 'kiaa1324',\n",
       " 'kiaa1324l',\n",
       " 'kif1bp',\n",
       " 'lars',\n",
       " 'linc02693',\n",
       " 'linc02694',\n",
       " 'lor',\n",
       " 'lrmp',\n",
       " 'lrp5l',\n",
       " 'lrrc29',\n",
       " 'maats1',\n",
       " 'marc1',\n",
       " 'marc2',\n",
       " 'march1',\n",
       " 'march10',\n",
       " 'march11',\n",
       " 'march2',\n",
       " 'march3',\n",
       " 'march4',\n",
       " 'march5',\n",
       " 'march6',\n",
       " 'march7',\n",
       " 'march8',\n",
       " 'march9',\n",
       " 'mars',\n",
       " 'mir1915hg',\n",
       " 'mrvi1',\n",
       " 'mycnos',\n",
       " 'nars',\n",
       " 'nxf5',\n",
       " 'or5r1',\n",
       " 'palm2-akap2',\n",
       " 'pano1',\n",
       " 'pde11a',\n",
       " 'pih1d3',\n",
       " 'pinx1',\n",
       " 'ppp5d1',\n",
       " 'prky',\n",
       " 'qars',\n",
       " 'rars',\n",
       " 'rgs5',\n",
       " 'sars',\n",
       " 'siglec5',\n",
       " 'slc26a10',\n",
       " 'slc66a1l',\n",
       " 'slfn12l',\n",
       " 'snhg32',\n",
       " 'spata13',\n",
       " 'spata8',\n",
       " 'spert',\n",
       " 'sspo',\n",
       " 'st5',\n",
       " 'tars',\n",
       " 'tarsl2',\n",
       " 'tbce',\n",
       " 'tcte3',\n",
       " 'tctex1d1',\n",
       " 'tctex1d2',\n",
       " 'tctex1d4',\n",
       " 'terc',\n",
       " 'tmem155',\n",
       " 'tmem173',\n",
       " 'tmem189',\n",
       " 'tmem246',\n",
       " 'tmem8a',\n",
       " 'tmem99',\n",
       " 'tmsb15b',\n",
       " 'trac',\n",
       " 'trbc1',\n",
       " 'trbc2',\n",
       " 'trdc',\n",
       " 'trgc1',\n",
       " 'trgc2',\n",
       " 'trgjp1',\n",
       " 'trgjp2',\n",
       " 'trim16l',\n",
       " 'tsta3',\n",
       " 'ttc25',\n",
       " 'twistnb',\n",
       " 'vars',\n",
       " 'wars',\n",
       " 'wdr34',\n",
       " 'wdr60',\n",
       " 'wdr63',\n",
       " 'wdr66',\n",
       " 'wdr78',\n",
       " 'wdyhv1',\n",
       " 'yars',\n",
       " 'z82206.1',\n",
       " 'znf883',\n",
       " 'znrd1'}"
      ]
     },
     "execution_count": 7,
     "metadata": {},
     "output_type": "execute_result"
    }
   ],
   "source": [
    "# 将所有基因名称转换为小写\n",
    "all_genes_lower = [gene.lower() for gene in all_genes]\n",
    "adata_genes_lower = [gene.lower() for gene in existing_genes]\n",
    "\n",
    "# 将两个列表转换为集合\n",
    "all_genes_set = set(all_genes_lower)\n",
    "adata_genes_set = set(adata_genes_lower)\n",
    "\n",
    "# 计算交集\n",
    "matching_genes = all_genes_set.intersection(adata_genes_set)\n",
    "matching_count = len(matching_genes)\n",
    "# 计算不匹配的基因\n",
    "non_matching_genes = adata_genes_set - matching_genes\n",
    "non_matching_count = len(non_matching_genes)\n",
    "\n",
    "\n",
    "# 输出结果\n",
    "print(f\"匹配的基因数量: {matching_count}\")\n",
    "print(f\"匹配的基因列表: {matching_genes}\")\n",
    "non_matching_genes\n"
   ]
  },
  {
   "cell_type": "code",
   "execution_count": 8,
   "metadata": {
    "execution": {
     "iopub.execute_input": "2024-11-03T14:49:55.104484Z",
     "iopub.status.busy": "2024-11-03T14:49:55.103903Z",
     "iopub.status.idle": "2024-11-03T14:49:55.122065Z",
     "shell.execute_reply": "2024-11-03T14:49:55.121364Z"
    }
   },
   "outputs": [
    {
     "data": {
      "text/plain": [
       "{'or4f5': 0,\n",
       " 'or4f29': 1,\n",
       " 'or4f16': 2,\n",
       " 'samd11': 3,\n",
       " 'noc2l': 4,\n",
       " 'klhl17': 5,\n",
       " 'plekhn1': 6,\n",
       " 'perm1': 7,\n",
       " 'hes4': 8,\n",
       " 'isg15': 9,\n",
       " 'agrn': 10,\n",
       " 'rnf223': 11,\n",
       " 'c1orf159': 12,\n",
       " 'ttll10': 13,\n",
       " 'tnfrsf18': 14,\n",
       " 'tnfrsf4': 15,\n",
       " 'sdf4': 16,\n",
       " 'b3galt6': 17,\n",
       " 'c1qtnf12': 18,\n",
       " 'ube2j2': 19,\n",
       " 'scnn1d': 20,\n",
       " 'acap3': 21,\n",
       " 'pusl1': 22,\n",
       " 'ints11': 23,\n",
       " 'cptp': 24,\n",
       " 'tas1r3': 25,\n",
       " 'dvl1': 26,\n",
       " 'mxra8': 27,\n",
       " 'aurkaip1': 28,\n",
       " 'ccnl2': 29,\n",
       " 'mrpl20': 30,\n",
       " 'ankrd65': 31,\n",
       " 'tmem88b': 32,\n",
       " 'vwa1': 33,\n",
       " 'atad3c': 34,\n",
       " 'atad3b': 35,\n",
       " 'atad3a': 36,\n",
       " 'tmem240': 37,\n",
       " 'ssu72': 38,\n",
       " 'fndc10': 39,\n",
       " 'mib2': 40,\n",
       " 'mmp23b': 41,\n",
       " 'cdk11b': 42,\n",
       " 'slc35e2b': 43,\n",
       " 'cdk11a': 44,\n",
       " 'nadk': 45,\n",
       " 'gnb1': 46,\n",
       " 'calml6': 47,\n",
       " 'tmem52': 48,\n",
       " 'cfap74': 49,\n",
       " 'gabrd': 50,\n",
       " 'prkcz': 51,\n",
       " 'faap20': 52,\n",
       " 'ski': 53,\n",
       " 'morn1': 54,\n",
       " 'rer1': 55,\n",
       " 'pex10': 56,\n",
       " 'plch2': 57,\n",
       " 'pank4': 58,\n",
       " 'hes5': 59,\n",
       " 'tnfrsf14': 60,\n",
       " 'prxl2b': 61,\n",
       " 'mmel1': 62,\n",
       " 'ttc34': 63,\n",
       " 'actrt2': 64,\n",
       " 'prdm16': 65,\n",
       " 'arhgef16': 66,\n",
       " 'megf6': 67,\n",
       " 'tprg1l': 68,\n",
       " 'wrap73': 69,\n",
       " 'tp73': 70,\n",
       " 'ccdc27': 71,\n",
       " 'smim1': 72,\n",
       " 'lrrc47': 73,\n",
       " 'cep104': 74,\n",
       " 'dffb': 75,\n",
       " 'c1orf174': 76,\n",
       " 'ajap1': 77,\n",
       " 'nphp4': 78,\n",
       " 'kcnab2': 79,\n",
       " 'chd5': 80,\n",
       " 'rpl22': 81,\n",
       " 'rnf207': 82,\n",
       " 'icmt': 83,\n",
       " 'hes3': 84,\n",
       " 'gpr153': 85,\n",
       " 'acot7': 86,\n",
       " 'hes2': 87,\n",
       " 'espn': 88,\n",
       " 'tnfrsf25': 89,\n",
       " 'plekhg5': 90,\n",
       " 'nol9': 91,\n",
       " 'tas1r1': 92,\n",
       " 'zbtb48': 93,\n",
       " 'klhl21': 94,\n",
       " 'phf13': 95,\n",
       " 'thap3': 96,\n",
       " 'dnajc11': 97,\n",
       " 'camta1': 98,\n",
       " 'vamp3': 99,\n",
       " 'per3': 100,\n",
       " 'uts2': 101,\n",
       " 'tnfrsf9': 102,\n",
       " 'park7': 103,\n",
       " 'errfi1': 104,\n",
       " 'slc45a1': 105,\n",
       " 'rere': 106,\n",
       " 'eno1': 107,\n",
       " 'ca6': 108,\n",
       " 'slc2a7': 109,\n",
       " 'slc2a5': 110,\n",
       " 'gpr157': 111,\n",
       " 'h6pd': 112,\n",
       " 'spsb1': 113,\n",
       " 'slc25a33': 114,\n",
       " 'tmem201': 115,\n",
       " 'pik3cd': 116,\n",
       " 'clstn1': 117,\n",
       " 'ctnnbip1': 118,\n",
       " 'lzic': 119,\n",
       " 'nmnat1': 120,\n",
       " 'rbp7': 121,\n",
       " 'ube4b': 122,\n",
       " 'kif1b': 123,\n",
       " 'pgd': 124,\n",
       " 'cenps': 125,\n",
       " 'cort': 126,\n",
       " 'dffa': 127,\n",
       " 'pex14': 128,\n",
       " 'casz1': 129,\n",
       " 'c1orf127': 130,\n",
       " 'tardbp': 131,\n",
       " 'masp2': 132,\n",
       " 'srm': 133,\n",
       " 'exosc10': 134,\n",
       " 'mtor': 135,\n",
       " 'angptl7': 136,\n",
       " 'ubiad1': 137,\n",
       " 'disp3': 138,\n",
       " 'fbxo2': 139,\n",
       " 'fbxo44': 140,\n",
       " 'fbxo6': 141,\n",
       " 'mad2l2': 142,\n",
       " 'draxin': 143,\n",
       " 'agtrap': 144,\n",
       " 'c1orf167': 145,\n",
       " 'mthfr': 146,\n",
       " 'clcn6': 147,\n",
       " 'nppa': 148,\n",
       " 'nppb': 149,\n",
       " 'kiaa2013': 150,\n",
       " 'plod1': 151,\n",
       " 'mfn2': 152,\n",
       " 'miip': 153,\n",
       " 'tnfrsf8': 154,\n",
       " 'tnfrsf1b': 155,\n",
       " 'vps13d': 156,\n",
       " 'dhrs3': 157,\n",
       " 'aadacl4': 158,\n",
       " 'aadacl3': 159,\n",
       " 'c1orf158': 160,\n",
       " 'pramef12': 161,\n",
       " 'pramef1': 162,\n",
       " 'pramef11': 163,\n",
       " 'hnrnpcl1': 164,\n",
       " 'pramef2': 165,\n",
       " 'pramef4': 166,\n",
       " 'pramef10': 167,\n",
       " 'pramef7': 168,\n",
       " 'pramef6': 169,\n",
       " 'pramef27': 170,\n",
       " 'hnrnpcl3': 171,\n",
       " 'pramef25': 172,\n",
       " 'hnrnpcl2': 173,\n",
       " 'pramef26': 174,\n",
       " 'hnrnpcl4': 175,\n",
       " 'pramef9': 176,\n",
       " 'pramef13': 177,\n",
       " 'pramef18': 178,\n",
       " 'pramef5': 179,\n",
       " 'pramef8': 180,\n",
       " 'pramef33': 181,\n",
       " 'pramef15': 182,\n",
       " 'pramef14': 183,\n",
       " 'pramef19': 184,\n",
       " 'pramef17': 185,\n",
       " 'pramef20': 186,\n",
       " 'lrrc38': 187,\n",
       " 'pdpn': 188,\n",
       " 'prdm2': 189,\n",
       " 'kazn': 190,\n",
       " 'tmem51': 191,\n",
       " 'fhad1': 192,\n",
       " 'efhd2': 193,\n",
       " 'ctrc': 194,\n",
       " 'cela2a': 195,\n",
       " 'cela2b': 196,\n",
       " 'casp9': 197,\n",
       " 'dnajc16': 198,\n",
       " 'agmat': 199,\n",
       " 'ddi2': 200,\n",
       " 'rsc1a1': 201,\n",
       " 'plekhm2': 202,\n",
       " 'slc25a34': 203,\n",
       " 'tmem82': 204,\n",
       " 'fblim1': 205,\n",
       " 'uqcrhl': 206,\n",
       " 'spen': 207,\n",
       " 'zbtb17': 208,\n",
       " 'srarp': 209,\n",
       " 'hspb7': 210,\n",
       " 'clcnka': 211,\n",
       " 'clcnkb': 212,\n",
       " 'fam131c': 213,\n",
       " 'epha2': 214,\n",
       " 'arhgef19': 215,\n",
       " 'cplane2': 216,\n",
       " 'fbxo42': 217,\n",
       " 'szrd1': 218,\n",
       " 'spata21': 219,\n",
       " 'necap2': 220,\n",
       " 'nbpf1': 221,\n",
       " 'crocc': 222,\n",
       " 'mfap2': 223,\n",
       " 'atp13a2': 224,\n",
       " 'sdhb': 225,\n",
       " 'padi2': 226,\n",
       " 'padi1': 227,\n",
       " 'padi3': 228,\n",
       " 'padi4': 229,\n",
       " 'padi6': 230,\n",
       " 'rcc2': 231,\n",
       " 'arhgef10l': 232,\n",
       " 'actl8': 233,\n",
       " 'igsf21': 234,\n",
       " 'klhdc7a': 235,\n",
       " 'pax7': 236,\n",
       " 'tas1r2': 237,\n",
       " 'aldh4a1': 238,\n",
       " 'iffo2': 239,\n",
       " 'ubr4': 240,\n",
       " 'emc1': 241,\n",
       " 'mrto4': 242,\n",
       " 'akr7a3': 243,\n",
       " 'akr7a2': 244,\n",
       " 'slc66a1': 245,\n",
       " 'capzb': 246,\n",
       " 'micos10': 247,\n",
       " 'nbl1': 248,\n",
       " 'htr6': 249,\n",
       " 'tmco4': 250,\n",
       " 'rnf186': 251,\n",
       " 'otud3': 252,\n",
       " 'pla2g2e': 253,\n",
       " 'pla2g2a': 254,\n",
       " 'pla2g5': 255,\n",
       " 'pla2g2d': 256,\n",
       " 'pla2g2f': 257,\n",
       " 'pla2g2c': 258,\n",
       " 'ubxn10': 259,\n",
       " 'vwa5b1': 260,\n",
       " 'camk2n1': 261,\n",
       " 'mul1': 262,\n",
       " 'fam43b': 263,\n",
       " 'cda': 264,\n",
       " 'pink1': 265,\n",
       " 'ddost': 266,\n",
       " 'kif17': 267,\n",
       " 'sh2d5': 268,\n",
       " 'hp1bp3': 269,\n",
       " 'eif4g3': 270,\n",
       " 'ece1': 271,\n",
       " 'nbpf3': 272,\n",
       " 'alpl': 273,\n",
       " 'rap1gap': 274,\n",
       " 'usp48': 275,\n",
       " 'ldlrad2': 276,\n",
       " 'hspg2': 277,\n",
       " 'cela3b': 278,\n",
       " 'cela3a': 279,\n",
       " 'cdc42': 280,\n",
       " 'wnt4': 281,\n",
       " 'zbtb40': 282,\n",
       " 'epha8': 283,\n",
       " 'c1qa': 284,\n",
       " 'c1qc': 285,\n",
       " 'c1qb': 286,\n",
       " 'ephb2': 287,\n",
       " 'lactbl1': 288,\n",
       " 'tex46': 289,\n",
       " 'kdm1a': 290,\n",
       " 'luzp1': 291,\n",
       " 'htr1d': 292,\n",
       " 'hnrnpr': 293,\n",
       " 'znf436': 294,\n",
       " 'tcea3': 295,\n",
       " 'asap3': 296,\n",
       " 'e2f2': 297,\n",
       " 'id3': 298,\n",
       " 'rpl11': 299,\n",
       " 'eloa': 300,\n",
       " 'pithd1': 301,\n",
       " 'lypla2': 302,\n",
       " 'gale': 303,\n",
       " 'hmgcl': 304,\n",
       " 'fuca1': 305,\n",
       " 'cnr2': 306,\n",
       " 'pnrc2': 307,\n",
       " 'srsf10': 308,\n",
       " 'myom3': 309,\n",
       " 'il22ra1': 310,\n",
       " 'ifnlr1': 311,\n",
       " 'grhl3': 312,\n",
       " 'stpg1': 313,\n",
       " 'nipal3': 314,\n",
       " 'rcan3': 315,\n",
       " 'ncmap': 316,\n",
       " 'srrm1': 317,\n",
       " 'clic4': 318,\n",
       " 'runx3': 319,\n",
       " 'syf2': 320,\n",
       " 'rsrp1': 321,\n",
       " 'rhd': 322,\n",
       " 'tmem50a': 323,\n",
       " 'rhce': 324,\n",
       " 'maco1': 325,\n",
       " 'ldlrap1': 326,\n",
       " 'man1c1': 327,\n",
       " 'selenon': 328,\n",
       " 'mtfr1l': 329,\n",
       " 'aunip': 330,\n",
       " 'paqr7': 331,\n",
       " 'stmn1': 332,\n",
       " 'pafah2': 333,\n",
       " 'extl1': 334,\n",
       " 'slc30a2': 335,\n",
       " 'trim63': 336,\n",
       " 'pdik1l': 337,\n",
       " 'fam110d': 338,\n",
       " 'c1orf232': 339,\n",
       " 'znf593os': 340,\n",
       " 'znf593': 341,\n",
       " 'cnksr1': 342,\n",
       " 'catsper4': 343,\n",
       " 'cep85': 344,\n",
       " 'sh3bgrl3': 345,\n",
       " 'ubxn11': 346,\n",
       " 'cd52': 347,\n",
       " 'crybg2': 348,\n",
       " 'znf683': 349,\n",
       " 'lin28a': 350,\n",
       " 'dhdds': 351,\n",
       " 'hmgn2': 352,\n",
       " 'rps6ka1': 353,\n",
       " 'arid1a': 354,\n",
       " 'pigv': 355,\n",
       " 'zdhhc18': 356,\n",
       " 'sfn': 357,\n",
       " 'gpn2': 358,\n",
       " 'gpatch3': 359,\n",
       " 'nudc': 360,\n",
       " 'nr0b2': 361,\n",
       " 'kdf1': 362,\n",
       " 'trnp1': 363,\n",
       " 'tent5b': 364,\n",
       " 'slc9a1': 365,\n",
       " 'wdtc1': 366,\n",
       " 'tmem222': 367,\n",
       " 'sytl1': 368,\n",
       " 'map3k6': 369,\n",
       " 'fcn3': 370,\n",
       " 'cd164l2': 371,\n",
       " 'gpr3': 372,\n",
       " 'wasf2': 373,\n",
       " 'ahdc1': 374,\n",
       " 'fgr': 375,\n",
       " 'ifi6': 376,\n",
       " 'fam76a': 377,\n",
       " 'stx12': 378,\n",
       " 'ppp1r8': 379,\n",
       " 'themis2': 380,\n",
       " 'rpa2': 381,\n",
       " 'smpdl3b': 382,\n",
       " 'xkr8': 383,\n",
       " 'eya3': 384,\n",
       " 'ptafr': 385,\n",
       " 'dnajc8': 386,\n",
       " 'atp5if1': 387,\n",
       " 'sesn2': 388,\n",
       " 'med18': 389,\n",
       " 'phactr4': 390,\n",
       " 'rcc1': 391,\n",
       " 'trnau1ap': 392,\n",
       " 'taf12': 393,\n",
       " 'rab42': 394,\n",
       " 'gmeb1': 395,\n",
       " 'ythdf2': 396,\n",
       " 'oprd1': 397,\n",
       " 'epb41': 398,\n",
       " 'tmem200b': 399,\n",
       " 'srsf4': 400,\n",
       " 'mecr': 401,\n",
       " 'ptpru': 402,\n",
       " 'matn1': 403,\n",
       " 'laptm5': 404,\n",
       " 'sdc3': 405,\n",
       " 'pum1': 406,\n",
       " 'nkain1': 407,\n",
       " 'snrnp40': 408,\n",
       " 'zcchc17': 409,\n",
       " 'fabp3': 410,\n",
       " 'serinc2': 411,\n",
       " 'tinagl1': 412,\n",
       " 'hcrtr1': 413,\n",
       " 'pef1': 414,\n",
       " 'col16a1': 415,\n",
       " 'adgrb2': 416,\n",
       " 'spocd1': 417,\n",
       " 'ptp4a2': 418,\n",
       " 'khdrbs1': 419,\n",
       " 'tmem39b': 420,\n",
       " 'kpna6': 421,\n",
       " 'txlna': 422,\n",
       " 'ccdc28b': 423,\n",
       " 'iqcc': 424,\n",
       " 'dcdc2b': 425,\n",
       " 'tmem234': 426,\n",
       " 'eif3i': 427,\n",
       " 'fam167b': 428,\n",
       " 'lck': 429,\n",
       " 'hdac1': 430,\n",
       " 'marcksl1': 431,\n",
       " 'tssk3': 432,\n",
       " 'fam229a': 433,\n",
       " 'bsdc1': 434,\n",
       " 'zbtb8b': 435,\n",
       " 'zbtb8a': 436,\n",
       " 'zbtb8os': 437,\n",
       " 'rbbp4': 438,\n",
       " 'sync': 439,\n",
       " 'kiaa1522': 440,\n",
       " 'yars1': 441,\n",
       " 's100pbp': 442,\n",
       " 'fndc5': 443,\n",
       " 'hpca': 444,\n",
       " 'tmem54': 445,\n",
       " 'rnf19b': 446,\n",
       " 'ak2': 447,\n",
       " 'azin2': 448,\n",
       " 'trim62': 449,\n",
       " 'znf362': 450,\n",
       " 'a3galt2': 451,\n",
       " 'phc2': 452,\n",
       " 'zscan20': 453,\n",
       " 'csmd2': 454,\n",
       " 'hmgb4': 455,\n",
       " 'c1orf94': 456,\n",
       " 'smim12': 457,\n",
       " 'gjb5': 458,\n",
       " 'gjb4': 459,\n",
       " 'gjb3': 460,\n",
       " 'gja4': 461,\n",
       " 'dlgap3': 462,\n",
       " 'tmem35b': 463,\n",
       " 'zmym6': 464,\n",
       " 'zmym1': 465,\n",
       " 'sfpq': 466,\n",
       " 'zmym4': 467,\n",
       " 'kiaa0319l': 468,\n",
       " 'ncdn': 469,\n",
       " 'tfap2e': 470,\n",
       " 'psmb2': 471,\n",
       " 'c1orf216': 472,\n",
       " 'clspn': 473,\n",
       " 'ago4': 474,\n",
       " 'ago1': 475,\n",
       " 'ago3': 476,\n",
       " 'tekt2': 477,\n",
       " 'adprs': 478,\n",
       " 'col8a2': 479,\n",
       " 'trappc3': 480,\n",
       " 'map7d1': 481,\n",
       " 'thrap3': 482,\n",
       " 'sh3d21': 483,\n",
       " 'eva1b': 484,\n",
       " 'stk40': 485,\n",
       " 'lsm10': 486,\n",
       " 'oscp1': 487,\n",
       " 'mrps15': 488,\n",
       " 'csf3r': 489,\n",
       " 'grik3': 490,\n",
       " 'zc3h12a': 491,\n",
       " 'meaf6': 492,\n",
       " 'snip1': 493,\n",
       " 'dnali1': 494,\n",
       " 'gnl2': 495,\n",
       " 'rspo1': 496,\n",
       " 'c1orf109': 497,\n",
       " 'cdca8': 498,\n",
       " 'epha10': 499,\n",
       " 'maneal': 500,\n",
       " 'yrdc': 501,\n",
       " 'c1orf122': 502,\n",
       " 'mtf1': 503,\n",
       " 'inpp5b': 504,\n",
       " 'sf3a3': 505,\n",
       " 'fhl3': 506,\n",
       " 'utp11': 507,\n",
       " 'pou3f1': 508,\n",
       " 'rragc': 509,\n",
       " 'mycbp': 510,\n",
       " 'gja9': 511,\n",
       " 'rhbdl2': 512,\n",
       " 'akirin1': 513,\n",
       " 'ndufs5': 514,\n",
       " 'macf1': 515,\n",
       " 'bmp8a': 516,\n",
       " 'pabpc4': 517,\n",
       " 'heyl': 518,\n",
       " 'nt5c1a': 519,\n",
       " 'hpcal4': 520,\n",
       " 'ppie': 521,\n",
       " 'bmp8b': 522,\n",
       " 'oxct2': 523,\n",
       " 'trit1': 524,\n",
       " 'mycl': 525,\n",
       " 'mfsd2a': 526,\n",
       " 'cap1': 527,\n",
       " 'ppt1': 528,\n",
       " 'rlf': 529,\n",
       " 'tmco2': 530,\n",
       " 'zmpste24': 531,\n",
       " 'col9a2': 532,\n",
       " 'smap2': 533,\n",
       " 'zfp69b': 534,\n",
       " 'zfp69': 535,\n",
       " 'exo5': 536,\n",
       " 'znf684': 537,\n",
       " 'rims3': 538,\n",
       " 'nfyc': 539,\n",
       " 'kcnq4': 540,\n",
       " 'cited4': 541,\n",
       " 'ctps1': 542,\n",
       " 'slfnl1': 543,\n",
       " 'scmh1': 544,\n",
       " 'foxo6': 545,\n",
       " 'edn2': 546,\n",
       " 'hivep3': 547,\n",
       " 'guca2b': 548,\n",
       " 'guca2a': 549,\n",
       " 'foxj3': 550,\n",
       " 'rimkla': 551,\n",
       " 'zmynd12': 552,\n",
       " 'ppcs': 553,\n",
       " 'ccdc30': 554,\n",
       " 'ppih': 555,\n",
       " 'ybx1': 556,\n",
       " 'cldn19': 557,\n",
       " 'p3h1': 558,\n",
       " 'c1orf50': 559,\n",
       " 'tmem269': 560,\n",
       " 'svbp': 561,\n",
       " 'ermap': 562,\n",
       " 'znf691': 563,\n",
       " 'slc2a1': 564,\n",
       " 'fam183a': 565,\n",
       " 'ebna1bp2': 566,\n",
       " 'cfap57': 567,\n",
       " 'tmem125': 568,\n",
       " 'c1orf210': 569,\n",
       " 'tie1': 570,\n",
       " 'mpl': 571,\n",
       " 'cdc20': 572,\n",
       " 'elovl1': 573,\n",
       " 'med8': 574,\n",
       " 'szt2': 575,\n",
       " 'hyi': 576,\n",
       " 'ptprf': 577,\n",
       " 'kdm4a': 578,\n",
       " 'st3gal3': 579,\n",
       " 'artn': 580,\n",
       " 'ipo13': 581,\n",
       " 'dph2': 582,\n",
       " 'atp6v0b': 583,\n",
       " 'b4galt2': 584,\n",
       " 'ccdc24': 585,\n",
       " 'slc6a9': 586,\n",
       " 'klf17': 587,\n",
       " 'klf18': 588,\n",
       " 'dmap1': 589,\n",
       " 'eri3': 590,\n",
       " 'rnf220': 591,\n",
       " 'tmem53': 592,\n",
       " 'armh1': 593,\n",
       " 'kif2c': 594,\n",
       " 'rps8': 595,\n",
       " 'best4': 596,\n",
       " 'plk3': 597,\n",
       " 'dynlt4': 598,\n",
       " 'btbd19': 599,\n",
       " 'ptch2': 600,\n",
       " 'eif2b3': 601,\n",
       " 'hectd3': 602,\n",
       " 'urod': 603,\n",
       " 'zswim5': 604,\n",
       " 'hpdl': 605,\n",
       " 'mutyh': 606,\n",
       " 'toe1': 607,\n",
       " 'tesk2': 608,\n",
       " 'ccdc163': 609,\n",
       " 'mmachc': 610,\n",
       " 'prdx1': 611,\n",
       " 'akr1a1': 612,\n",
       " 'nasp': 613,\n",
       " 'ccdc17': 614,\n",
       " 'gpbp1l1': 615,\n",
       " 'tmem69': 616,\n",
       " 'ipp': 617,\n",
       " 'mast2': 618,\n",
       " 'pik3r3': 619,\n",
       " 'tspan1': 620,\n",
       " 'p3r3urf': 621,\n",
       " 'pomgnt1': 622,\n",
       " 'lurap1': 623,\n",
       " 'rad54l': 624,\n",
       " 'lrrc41': 625,\n",
       " 'uqcrh': 626,\n",
       " 'nsun4': 627,\n",
       " 'faah': 628,\n",
       " 'dmbx1': 629,\n",
       " 'tmem275': 630,\n",
       " 'kncn': 631,\n",
       " 'mknk1': 632,\n",
       " 'mob3c': 633,\n",
       " 'atpaf1': 634,\n",
       " 'tex38': 635,\n",
       " 'efcab14': 636,\n",
       " 'cyp4b1': 637,\n",
       " 'cyp4a11': 638,\n",
       " 'cyp4x1': 639,\n",
       " 'cyp4z1': 640,\n",
       " 'cyp4a22': 641,\n",
       " 'pdzk1ip1': 642,\n",
       " 'tal1': 643,\n",
       " 'stil': 644,\n",
       " 'cmpk1': 645,\n",
       " 'foxe3': 646,\n",
       " 'foxd2': 647,\n",
       " 'trabd2b': 648,\n",
       " 'slc5a9': 649,\n",
       " 'spata6': 650,\n",
       " 'agbl4': 651,\n",
       " 'bend5': 652,\n",
       " 'elavl4': 653,\n",
       " 'dmrta2': 654,\n",
       " 'faf1': 655,\n",
       " 'cdkn2c': 656,\n",
       " 'c1orf185': 657,\n",
       " 'rnf11': 658,\n",
       " 'ttc39a': 659,\n",
       " 'eps15': 660,\n",
       " 'osbpl9': 661,\n",
       " 'nrdc': 662,\n",
       " 'rab3b': 663,\n",
       " 'txndc12': 664,\n",
       " 'kti12': 665,\n",
       " 'btf3l4': 666,\n",
       " 'zfyve9': 667,\n",
       " 'cc2d1b': 668,\n",
       " 'orc1': 669,\n",
       " 'prpf38a': 670,\n",
       " 'tut4': 671,\n",
       " 'gpx7': 672,\n",
       " 'shisal2a': 673,\n",
       " 'coa7': 674,\n",
       " 'zyg11b': 675,\n",
       " 'zyg11a': 676,\n",
       " 'echdc2': 677,\n",
       " 'scp2': 678,\n",
       " 'podn': 679,\n",
       " 'slc1a7': 680,\n",
       " 'cpt2': 681,\n",
       " 'czib': 682,\n",
       " 'magoh': 683,\n",
       " 'lrp8': 684,\n",
       " 'dmrtb1': 685,\n",
       " 'glis1': 686,\n",
       " 'ndc1': 687,\n",
       " 'yipf1': 688,\n",
       " 'dio1': 689,\n",
       " 'hspb11': 690,\n",
       " 'lrrc42': 691,\n",
       " 'ldlrad1': 692,\n",
       " 'tmem59': 693,\n",
       " 'tceanc2': 694,\n",
       " 'cdcp2': 695,\n",
       " 'cyb5rl': 696,\n",
       " 'mrpl37': 697,\n",
       " 'ssbp3': 698,\n",
       " 'acot11': 699,\n",
       " 'fam151a': 700,\n",
       " 'mroh7': 701,\n",
       " 'ttc4': 702,\n",
       " 'pars2': 703,\n",
       " 'ttc22': 704,\n",
       " 'lexm': 705,\n",
       " 'dhcr24': 706,\n",
       " 'tmem61': 707,\n",
       " 'bsnd': 708,\n",
       " 'pcsk9': 709,\n",
       " 'usp24': 710,\n",
       " 'plpp3': 711,\n",
       " 'prkaa2': 712,\n",
       " 'fyb2': 713,\n",
       " 'c8a': 714,\n",
       " 'c8b': 715,\n",
       " 'dab1': 716,\n",
       " 'oma1': 717,\n",
       " 'tacstd2': 718,\n",
       " 'mysm1': 719,\n",
       " 'jun': 720,\n",
       " 'fggy': 721,\n",
       " 'hook1': 722,\n",
       " 'cyp2j2': 723,\n",
       " 'c1orf87': 724,\n",
       " 'nfia': 725,\n",
       " 'tm2d1': 726,\n",
       " 'patj': 727,\n",
       " 'l1td1': 728,\n",
       " 'kank4': 729,\n",
       " 'usp1': 730,\n",
       " 'dock7': 731,\n",
       " 'angptl3': 732,\n",
       " 'atg4c': 733,\n",
       " 'foxd3': 734,\n",
       " 'alg6': 735,\n",
       " 'itgb3bp': 736,\n",
       " 'efcab7': 737,\n",
       " 'pgm1': 738,\n",
       " 'ror1': 739,\n",
       " 'ube2u': 740,\n",
       " 'cachd1': 741,\n",
       " 'raver2': 742,\n",
       " 'jak1': 743,\n",
       " 'ak4': 744,\n",
       " 'dnajc6': 745,\n",
       " 'leprot': 746,\n",
       " 'lepr': 747,\n",
       " 'pde4b': 748,\n",
       " 'sgip1': 749,\n",
       " 'dynlt5': 750,\n",
       " 'insl5': 751,\n",
       " 'dnai4': 752,\n",
       " 'mier1': 753,\n",
       " 'slc35d1': 754,\n",
       " 'c1orf141': 755,\n",
       " 'il23r': 756,\n",
       " 'il12rb2': 757,\n",
       " 'serbp1': 758,\n",
       " 'gadd45a': 759,\n",
       " 'gng12': 760,\n",
       " 'diras3': 761,\n",
       " 'wls': 762,\n",
       " 'rpe65': 763,\n",
       " 'depdc1': 764,\n",
       " 'lrrc7': 765,\n",
       " 'lrrc40': 766,\n",
       " 'srsf11': 767,\n",
       " 'ankrd13c': 768,\n",
       " 'cth': 769,\n",
       " 'ptger3': 770,\n",
       " 'zranb2': 771,\n",
       " 'negr1': 772,\n",
       " 'lrriq3': 773,\n",
       " 'fpgt': 774,\n",
       " 'tnni3k': 775,\n",
       " 'lrrc53': 776,\n",
       " 'erich3': 777,\n",
       " 'cryz': 778,\n",
       " 'tyw3': 779,\n",
       " 'lhx8': 780,\n",
       " 'slc44a5': 781,\n",
       " 'acadm': 782,\n",
       " 'rabggtb': 783,\n",
       " 'msh4': 784,\n",
       " 'asb17': 785,\n",
       " 'st6galnac3': 786,\n",
       " 'st6galnac5': 787,\n",
       " 'pigk': 788,\n",
       " 'ak5': 789,\n",
       " 'zzz3': 790,\n",
       " 'usp33': 791,\n",
       " 'miga1': 792,\n",
       " 'nexn': 793,\n",
       " 'fubp1': 794,\n",
       " 'dnajb4': 795,\n",
       " 'gipc2': 796,\n",
       " 'ptgfr': 797,\n",
       " 'ifi44l': 798,\n",
       " 'ifi44': 799,\n",
       " 'adgrl4': 800,\n",
       " 'adgrl2': 801,\n",
       " 'ttll7': 802,\n",
       " 'prkacb': 803,\n",
       " 'samd13': 804,\n",
       " 'dnase2b': 805,\n",
       " 'rpf1': 806,\n",
       " 'gng5': 807,\n",
       " 'spata1': 808,\n",
       " 'ctbs': 809,\n",
       " 'ssx2ip': 810,\n",
       " 'lpar3': 811,\n",
       " 'mcoln2': 812,\n",
       " 'dnai3': 813,\n",
       " 'mcoln3': 814,\n",
       " 'syde2': 815,\n",
       " 'c1orf52': 816,\n",
       " 'bcl10': 817,\n",
       " 'ddah1': 818,\n",
       " 'ccn1': 819,\n",
       " 'znhit6': 820,\n",
       " 'col24a1': 821,\n",
       " 'odf2l': 822,\n",
       " 'clca2': 823,\n",
       " 'clca1': 824,\n",
       " 'clca4': 825,\n",
       " 'sh3glb1': 826,\n",
       " 'selenof': 827,\n",
       " 'hs2st1': 828,\n",
       " 'lmo4': 829,\n",
       " 'pkn2': 830,\n",
       " 'gtf2b': 831,\n",
       " 'kyat3': 832,\n",
       " 'rbmxl1': 833,\n",
       " 'gbp3': 834,\n",
       " 'gbp1': 835,\n",
       " 'gbp2': 836,\n",
       " 'gbp7': 837,\n",
       " 'gbp4': 838,\n",
       " 'gbp5': 839,\n",
       " 'gbp6': 840,\n",
       " 'lrrc8b': 841,\n",
       " 'lrrc8c': 842,\n",
       " 'lrrc8d': 843,\n",
       " 'znf326': 844,\n",
       " 'barhl2': 845,\n",
       " 'znf644': 846,\n",
       " 'hfm1': 847,\n",
       " 'cdc7': 848,\n",
       " 'tgfbr3': 849,\n",
       " 'brdt': 850,\n",
       " 'ephx4': 851,\n",
       " 'setsip': 852,\n",
       " 'btbd8': 853,\n",
       " 'c1orf146': 854,\n",
       " 'glmn': 855,\n",
       " 'rpap2': 856,\n",
       " 'gfi1': 857,\n",
       " 'evi5': 858,\n",
       " 'rpl5': 859,\n",
       " 'dipk1a': 860,\n",
       " 'mtf2': 861,\n",
       " 'tmed5': 862,\n",
       " 'ccdc18': 863,\n",
       " 'dr1': 864,\n",
       " 'fnbp1l': 865,\n",
       " 'bcar3': 866,\n",
       " 'dnttip2': 867,\n",
       " 'gclm': 868,\n",
       " 'abca4': 869,\n",
       " 'arhgap29': 870,\n",
       " 'abcd3': 871,\n",
       " 'f3': 872,\n",
       " 'slc44a3': 873,\n",
       " 'cnn3': 874,\n",
       " 'alg14': 875,\n",
       " 'tlcd4': 876,\n",
       " 'rwdd3': 877,\n",
       " 'ptbp2': 878,\n",
       " 'dpyd': 879,\n",
       " 'snx7': 880,\n",
       " 'plppr5': 881,\n",
       " 'plppr4': 882,\n",
       " 'palmd': 883,\n",
       " 'frrs1': 884,\n",
       " 'agl': 885,\n",
       " 'slc35a3': 886,\n",
       " 'mfsd14a': 887,\n",
       " 'sass6': 888,\n",
       " 'trmt13': 889,\n",
       " 'lrrc39': 890,\n",
       " 'dbt': 891,\n",
       " 'rtca': 892,\n",
       " 'cdc14a': 893,\n",
       " 'gpr88': 894,\n",
       " 'vcam1': 895,\n",
       " 'extl2': 896,\n",
       " 'slc30a7': 897,\n",
       " 'dph5': 898,\n",
       " 's1pr1': 899,\n",
       " 'olfm3': 900,\n",
       " 'col11a1': 901,\n",
       " 'rnpc3': 902,\n",
       " 'amy2b': 903,\n",
       " 'amy2a': 904,\n",
       " 'amy1a': 905,\n",
       " 'amy1b': 906,\n",
       " 'amy1c': 907,\n",
       " 'prmt6': 908,\n",
       " 'ntng1': 909,\n",
       " 'vav3': 910,\n",
       " 'slc25a24': 911,\n",
       " 'nbpf4': 912,\n",
       " 'nbpf6': 913,\n",
       " 'fam102b': 914,\n",
       " 'henmt1': 915,\n",
       " 'prpf38b': 916,\n",
       " 'fndc7': 917,\n",
       " 'stxbp3': 918,\n",
       " 'aknad1': 919,\n",
       " 'gpsm2': 920,\n",
       " 'clcc1': 921,\n",
       " 'wdr47': 922,\n",
       " 'taf13': 923,\n",
       " 'tmem167b': 924,\n",
       " 'c1orf194': 925,\n",
       " 'elapor1': 926,\n",
       " 'sars1': 927,\n",
       " 'celsr2': 928,\n",
       " 'psrc1': 929,\n",
       " 'mybphl': 930,\n",
       " 'sort1': 931,\n",
       " 'psma5': 932,\n",
       " 'sypl2': 933,\n",
       " 'atxn7l2': 934,\n",
       " 'cyb561d1': 935,\n",
       " 'amigo1': 936,\n",
       " 'gpr61': 937,\n",
       " 'gnai3': 938,\n",
       " 'gnat2': 939,\n",
       " 'ampd2': 940,\n",
       " 'gstm4': 941,\n",
       " 'gstm2': 942,\n",
       " 'gstm1': 943,\n",
       " 'gstm5': 944,\n",
       " 'gstm3': 945,\n",
       " 'eps8l3': 946,\n",
       " 'csf1': 947,\n",
       " 'ahcyl1': 948,\n",
       " 'strip1': 949,\n",
       " 'alx3': 950,\n",
       " 'ubl4b': 951,\n",
       " 'slc6a17': 952,\n",
       " 'kcnc4': 953,\n",
       " 'rbm15': 954,\n",
       " 'slc16a4': 955,\n",
       " 'lamtor5': 956,\n",
       " 'prok1': 957,\n",
       " 'kcna10': 958,\n",
       " 'kcna2': 959,\n",
       " 'kcna3': 960,\n",
       " 'cd53': 961,\n",
       " 'lrif1': 962,\n",
       " 'dram2': 963,\n",
       " 'cept1': 964,\n",
       " 'dennd2d': 965,\n",
       " 'chi3l2': 966,\n",
       " 'chia': 967,\n",
       " 'pifo': 968,\n",
       " 'ovgp1': 969,\n",
       " 'wdr77': 970,\n",
       " 'atp5pb': 971,\n",
       " 'c1orf162': 972,\n",
       " 'tmigd3': 973,\n",
       " 'adora3': 974,\n",
       " 'rap1a': 975,\n",
       " 'inka2': 976,\n",
       " 'ddx20': 977,\n",
       " 'kcnd3': 978,\n",
       " 'cttnbp2nl': 979,\n",
       " 'wnt2b': 980,\n",
       " 'st7l': 981,\n",
       " 'capza1': 982,\n",
       " 'mov10': 983,\n",
       " 'rhoc': 984,\n",
       " 'ppm1j': 985,\n",
       " 'tafa3': 986,\n",
       " 'slc16a1': 987,\n",
       " 'lrig2': 988,\n",
       " 'magi3': 989,\n",
       " 'phtf1': 990,\n",
       " 'rsbn1': 991,\n",
       " 'ptpn22': 992,\n",
       " 'bcl2l15': 993,\n",
       " 'ap4b1': 994,\n",
       " 'dclre1b': 995,\n",
       " 'hipk1': 996,\n",
       " 'olfml3': 997,\n",
       " 'syt6': 998,\n",
       " 'trim33': 999,\n",
       " ...}"
      ]
     },
     "execution_count": 8,
     "metadata": {},
     "output_type": "execute_result"
    }
   ],
   "source": [
    "gene_to_index = {gene: idx for idx, gene in enumerate(all_genes_lower)}\n",
    "gene_to_index"
   ]
  },
  {
   "cell_type": "code",
   "execution_count": 9,
   "metadata": {
    "execution": {
     "iopub.execute_input": "2024-11-03T14:49:55.124154Z",
     "iopub.status.busy": "2024-11-03T14:49:55.123639Z",
     "iopub.status.idle": "2024-11-03T14:49:55.203110Z",
     "shell.execute_reply": "2024-11-03T14:49:55.202295Z"
    }
   },
   "outputs": [
    {
     "name": "stdout",
     "output_type": "stream",
     "text": [
      "仅在 all_genes 中存在的基因数量: 1939\n",
      "仅在 all_genes 中存在的基因: {'ntn5', 'cylc1', 'krtap9-7', 'h1-6', 'h3c11', 'prh1', 'dhrs4l2', 'krt38', 'linc02210-crhr1', 'h4c13', 'ice1', 'cklf-cmtm1', 'mroh8', 'cst11', 'c16orf82', 'cers1', 'mrpl13', 'uts2r', 'gfral', 'ldha', 'h3c14', 'krtap10-4', 'trim49d2', 'defb106a', 'znf443', 'mnt', 'bpy2c', 'lmod2', 'lynx1-slurp2', 'smim34a', 'pcnp', 'actrt1', 'polr1h', 'gpx6', 'xage5', 'or6t1', 'znf208', 'spin2a', 'mzt2a', 'tas2r16', 'gage2a', 'pgam4', 'glt6d1', 'or8u3', 'rpl26l1', 'mtarc2', 'gage12g', 'mrpl28', 'poc1b-galnt4', 'mrpl44', 'grxcr1', 'stimate-mustn1', 'cfap65', 'or4e2', 'guca1a', 'fam72d', 'hsd17b7', 'ssu72p5', 'cd8b', 'guca1c', 'cryaa', 'myt1l', 'mrps5', 'scgb1c1', 'fam90a22p', 'ptp4a2', 'peds1', 'or5m9', 'rit2', 'tstd3', 'rab6d', 'gfus', 'urgcp-mrps24', 'or2h1', 'ct47a11', 'or52e2', 'usp17l4', 'mrpl33', 'psme3ip1', 'tarm1', 'trim74', 'ct45a6', 'h4c14', 'gtf2ird2', 'zzz3', 'fam90a8p', 'gtf2ird2b', 'polr1g', 'pdap1', 'nomo2', 'rpl22', 'or4s2', 'ctbp1', 'tspy4', 'tpo', 'lypd2', 'isx', 'alg10', 'mrps25', 'cep57l1', 'skp1', 'poteg', 'potei', 'olfm3', 'rpl36a-hnrnph2', 'or4d11', 'cbwd3', 'rnf222', 'yars1', 'hypk', 'or5a2', 'mrpl34', 'fam25c', 'znf865', 'gtf2a1l', 'lce3e', 'ube2s', 'asns', 'krtap10-12', 'izumo3', 'rps7', 'evpll', 'prr13', 'h1-1', 'helt', 'mrpl36', 'smim11b', 'znf417', 'scrg1', 'tbc1d3l', 'rps9', 'lims3', 'fam90a7p', 'zdhhc11', 'nox3', 'upk3bl1', 'or5v1', 'defb104a', 'or2a2', 'csh1', 'golga8s', 'sdr42e2', 'srgap2b', 'impdh1', 'setsip', 'ropn1', 'h3y2', 'asah2b', 'polr2j2', 'isy1-rab43', 'asb17', 'or8k1', 'ssx4', 'sik1', 'pdxdc1', 'rpl30', 'hla-g', 'rpl3l', 'kdm4e', 'ppial4f', 'pabir3', 'bloc1s5-txndc5', 'gpr42', 'rbmy1a1', 'fam156b', 'gpr50', 'usp17l24', 'tchhl1', 'prr5-arhgap8', 'acrbp', 'or11h4', 'tubb3', 'peds1-ube2v1', 'usp17l22', 'tbc1d3i', 'ston1-gtf2a1l', 'foxd4l4', 'ct45a9', 'rbmy1j', 'asdurf', 'ankrd20a1', 'h2bc7', 'eif3cl', 'srgap2c', 'h3-5', 'klrc4-klrk1', 'ct47b1', 'h4c11', 'defb4b', 'rps12', 'pramef5', 'trim77', 'krtap9-6', 'hsd11b1l', 'rps6ka3', 'c2orf80', 'sumo1', 'rgpd2', 'myod1', 'defa4', 'lyg2', 'hnrnph1', 'scygr2', 'ipo7', 'h2bc21', 'or4c15', 'defb115', 'prickle4', 'scoc', 'nedd8-mdp1', 'ak2', 'mrpl52', 'csnka2ip', 'cxorf51b', 'csnk1a1l', 'tpsab1', 'mtarc1', 'cgb5', 'ct45a8', 'cxorf49', 'usp17l10', 'rpl29', 'rnf123', 'hnrnpcl2', 'rbm4', 'or2b11', 'slc18a3', 'vcx', 'eola1', 'mrps9', 'hba1', 'ct47a1', 'ct47a5', 'uty', 'eef1akmt4-ece2', 'kash5', 'znf418', 'zfand5', 'hnrnpa1p48', 'nt5c1b-rdh14', 'defb103a', 'cst1', 'or52m1', 'slc35g6', 'ubr1', 'rpl17-c18orf32', 'acp3', 'h4c4', 'mrpl9', 'lgals9b', 'dpy19l2', 'akr7a3', 'rps27a', 'h1-3', 'or5t3', 'prss56', 'rps25', 'pde4dip', 'fscn2', 'cep43', 'or1j2', 'sult1a4', 'daz4', 'h4c3', 'ano7', 'taf11l7', 'rasa4', 'pryp3', 'znf528', 'h1-8', 'or6c3', 'atcay', 'sars1', 'dnajc17', 'poteh', 'golga6a', 'rbak-rbakdn', 'mtrnr2l1', 'rab43', 'vcx3a', 'gdf1', 'htd2', 'cbs', 'racgap1', 'rps26', 'smim42', 'znf593os', 'hmgb4', 'macroh2a2', 'znf93', 'amy1a', 'or14l1p', 'spag11b', 'h2bc17', 'cbwd5', 'potef', 'marchf11', 'clec18b', 'tp53tg3d', 'or2v1', 'or8j3', 'gcom1', 'lctl', 'ptcd3', 'lrrc53', 'rpsa', 'ten1-cdk3', 'bpifb3', 'gars1', 'dux4', 'prss2', 'jmjd7', 'fkbp2', 'spanxn3', 'ssu72p7', 'sys1-dbndd2', 'npipb13', 'mogat3', 'h2aj', 'defb126', 'naca', 'tbca', 'csnk2a3', 'rap1b', 'psmd8', 'or10h5', 'cgb1', 'ppan-p2ry11', 'fam90a17p', 'ppdpfl', 'rs1', 'cyp11b2', 'luzp4', 'tmem139', 'lrit2', 'ly6g6f-ly6g6d', 'or5f1', 'fam47a', 'tex28', 'bhlha15', 'commd3-bmi1', 'hbg1', 'abcf2-h2be1', 'myh4', 'h2ac7', 'tas2r41', 'steep1', 'atp5mf-ptcd1', 'c9orf57', 'rab4b-egln2', 'ttc34', 'rps6ka5', 'sdhaf2', 'tbc1d21', 'elapor1', 'aopep', 'kifbp', 'h3c8', 'rpl8', 'tcp11x1', 'iftap', 'fam47b', 'cibar2', 'mrps12', 'tardbp', 'rpl18', 'foxd4l1', 'mcts2p', 'prrt3', 'magea8', 'mt-co1', 'nanog', 'cracdl', 'mtrnr2l7', 'znf91', 'golga8j', 'kcne1b', 'crisp1', 'pin4', 'saa2', 'prr23d1', 'h2ac8', 'lmod3', 'c20orf173', 'xage2', 'upk3bl2', 'p2rx5-tax1bp3', 'znf814', 'dync2i1', 'prelid1', 'pcare', 'lipm', 'b3galt9', 'bhlhb9', 'or56b2p', 'zcchc10', 'prh2', 'h4-16', 'zfand6', 'mrps10', 'rpl13a', 'slx1a', 'schip1', 'rps3a', 'usp17l21', 'washc2a', 's100a7', 'taf11l10', 'krtap4-9', 'hla-b', 'npipb8', 'nlgn4y', 'ugt1a6', 'mrps30', 'pramef7', 'cacybp', 'fam209a', 'mzt2b', 'tbc1d3c', 'gcsh', 'tas2r3', 'h2bw1', 'tpt1', 'gabarapl1', 'pramef27', 'mrps18c', 'bcl2l14', 'gip', 'rpl35', 'krtap2-4', 'rab40al', 'znf705e', 'or9a2', 'page5', 'gk', 'tshb', 'aadacl3', 'cdy1', 'arpin-ap3s2', 'rps19', 'bpy2', 'ervw-1', 'ifnl3', 'trim39-rpp21', 'kdm4f', 'tspy9p', 'nrip2', 'ighv3or16-17', 'naip', 'fam90a23p', 'tmem271', 'pramef17', 'fam220a', 'sting1', 'gage12h', 'eml3', 'notch2nlr', 'prss50', 'myg1', 'eloa3cp', 'krtap4-8', 'h2ac4', 'nadsyn1', 'h3-2', 'hla-f', 'tas2r13', 'mageb3', 'grap', 'gpr89a', 'tbx20', 'tubb4a', 'rpl10l', 'golm2', 'rbm14-rbm4', 'pmf1-bglap', 'slx1b', 'daz1', 'adss1', 'rps20', 'ddc', 'rpl10a', 'cby2', 'serf1b', 'kir2dl3', 'pomk', 'atp5mk', 'h2ac15', 'sbk2', 'usp17l12', 'eif5a', 'ccnp', 'apba3', 'rps18', 'ube2f-scly', 'spdye16', 'defb127', 'ylpm1', 'h4c1', 'khdc1l', 'pnma6e', 'znf525', 'dgcr6', 'snurf', 'ervh48-1', 'h2bw2', 'abhd17a', 'ocm', 'or51g1', 'ccl15-ccl14', 'fam236c', 'aadacl4', 'prodh', 'cyrib', 'fam71b', 'sdhc', 'golga8h', 'ssu72p2', 'ankhd1-eif4ebp3', 'ct45a7', 'tex51', 'wars1', 'mrpl50', 'mix23', 'psg1', 'ccz1b', 'hspb2-c11orf52', 'hmgn2', 'npipa7', 'ccdc63', 'znf705d', 'tp53tg3b', 'trappc2', 'mrpl2', 'cdy2a', 'scygr5', 'or51i2', 'trappc14', 'pramef9', 'marchf4', 'h2bc8', 'tlcd4-rwdd3', 'npff', 'hla-dqb2', 'palm2akap2', 'cdin1', 'pigy', 'cbwd2', 'c1orf68', 'fam90a19p', 'rbmy1d', 'bcas1', 'c11orf98', 'golga6l1', 'xage1a', 'c1d', 'h1-0', 'actrt2', 'h2bc9', 'tnfsf12-tnfsf13', 'or11h1', 'odad1', 'ankrd23', 'znf625-znf20', 'trim49c', 'mrpl30', 'tex48', 'krtap9-1', 'actl7a', 'ola1', 'ccdc144a', 'eppin-wfdc6', 'vcx2', 'cnbd2', 'poteb2', 'lypla1', 'or4c11', 'memo1', 'rplp0', 'tmem174', 'ctage6', 'htr3d', 'c11orf42', 'h4c15', 'rpl18a', 'nudt4', 'bola2b', 'grm3', 'mrpl38', 'fam72a', 'aqp12b', 'golga6d', 'tvp23c-cdrt4', 'panx3', 'mrpl42', 'fam86b2', 'nap1l1', 'cyp3a7-cyp3a51p', 'usp17l23', 'mrps2', 'c20orf203', 'igbp1p2', 'rtel1-tnfrsf6b', 'loricrin', 'gage2e', 'rps27l', 'pry', 'ifnk', 'gpx1', 'lims1', 'ssx4b', 'ctage4', 'amely', 'lhfpl5', 'rps29', 'ppial4h', 'mrpl46', 'tspy1', 'rpl7l1', 'mrpl40', 'ldlrad2', 'or2l8', 'churc1-fntb', 'garre1', 'or8d2', 'tgif2-rab5if', 'npipa9', 'mtrnr2l11', 'spint3', 'bola2', 'cntf', 'h2be1', 'cfap298-tcp10l', 'spdye2', 'nbpf15', 'zan', 'smim11a', 'slc24a5', 'mrpl12', 'pax4', 'or7a10', 'usp17l5', 'or7c2', 'rps21', 'tm4sf19-dynlt2b', 'mmp26', 'tas2r10', 'mt4', 'gpr151', 'lyzl1', 'mrpl55', 'reg3g', 'h3-4', 'rgs9', 'cryaa2', 'golga6c', 'sprr2d', 'get4', 'sik1b', 'pdcd2', 'hla-dpb1', 'golga6b', 'tug1', 'gstm5', 'lgals7b', 'pabpn1', 'usp17l20', 'mrps18a', 'lgals16', 'metap1', 'defb107b', 'ccdc179', 'prr20b', 'or10g4', 'marchf6', 'smtnl1', 'bpifa3', 'dnah2', 'tas2r46', 'mtrnr2l3', 'tmprss15', 'txn', 'trim49b', 'prr4', 'kdm5d', 'rnf103-chmp3', 'h2ap', 'mrpl58', 'smim36', 'rskr', 'krtap21-3', 'mrpl47', 'pabpc1l2b', 'c12orf71', 'poteb', 'supt20hl2', 'ccdc74a', 'chkb-cpt1b', 'cbwd6', 'mrpl37', 'znf615', 'ddx53', 'cfap91', 'c4a', 'smim34b', 'or4f16', 'cgb2', 'pcdhgb1', 'hnrnpa1', 'tdgf1p3', 'stpg4', 'fam47e-stbd1', 'ntaq1', 'tdgf1', 'plglb1', 'krt26', 'rps6ka2', 'otog', 'tspy8', 'usp17l26', 'timm23b', 'npipa3', 'dynlt2b', 'rnasek-c17orf49', 'gage12d', 'fam156a', 'h2ac17', 'nek5', 'rpl4', 'ckmt1a', 'eif5al1', 'gage12b', 'tcp11x2', 'elapor2', 'ifna10', 'prdm12', 'or2a1', 'ran', 'opn1lw', 'h4c7', 'vcx3b', 'maged4b', 'foxo3b', 'nbpf14', 'ct45a5', 'ap5b1', 'spdye14', 'h2al1rp', 'pwp2', 'ssx1', 'or1d5', 'hand1', 'prokr2', 'kir2dl1', 'tcaf2c', 'dmrtc1b', 'zscan5c', 'trim64', 'or4p4', 'lgals7', 'odad2', 'inmt-mindy4', 'krtap9-2', 'mbd3l2', 'aars1', 'acsm2a', 'lgals13', 'h2bu1', 'ube2u', 'rbmy1b', 'cxorf49b', 'percc1', 'syt15', 'mars1', 'atp5mj', 'rps28', 'h2ac6', 'mrps26', 'or5h1', 'rpl21', 'c1qtnf3-amacr', 'ptp4a1', 'ankrd20a3p', 'defb107a', 'or1f1', 'sdhd', 'hnrnpa1l2', 'afmid', 'ct47a4', 'ggta1', 'amy1b', 'mideas', 'dbx1', 'clrn1', 'rps23', 'angpt2', 'ak3', 'clrn2', 'hrob', 'tuba3c', 'shox', 'gstm1', 'fkbp4', 'znf616', 'decr2', 'meiosin', 'gtf2h2c', 'or51f2', 'cabp2', 'xage1b', 'stx16-npepl1', 'jakmip1', 'hla-dqa2', 'amy1c', 'diablo', 'ssx2', 'naca2', 'serf1a', 'fam86b1', 'chga', 'or11h6', 'pcdhac2', 'pkhd1l1', 'irag2', 'rps13', 'cyp2a13', 'akr1c4', 'hnrnpcl3', 'tex13a', 'rpl39', 'tbc1d3k', 'or5h6', 'znf679', 'pomzp3', 'spdye13', 'rpl15', 'lce1f', 'prb2', 'npipb3', 'spata25', 'tjp2', 'mrps14', 'icoslg', 'agap5', 'smn2', 'h2ac20', 'mtrnr2l12', 'mrpl21', 'fxyd6-fxyd2', 'thtpa', 'ankrd20a4p', 'pga3', 'krtap10-6', 'cfap92', 'spaca5', 'cdk10', 'mrpl24', 'rpl38', 'h2bc6', 'tp53tg3f', 'ankrd36b', 'hla-dma', 'tll2', 'krtap4-12', 'igll5', 'mtrnr2l5', 'abhd14a-acy1', 'tbc1d3', 'rps6', 'magea12', 'gage12j', 'gh2', 'bnip3', 'rp1', 'mrpl18', 'dnajc25-gng10', 'cbx1', 'h2ax', 'foxd4l3', 'dus4l-bcap29', 'rps27', 'htr3b', 'scygr3', 'mtrnr2l13', 'gage13', 'utp14c', 'elob', 'mroh7-ttc4', 'rps16', 'or2h2', 'golga8k', 'dnai3', 'sox11', 'rps6kc1', 'fut2', 'or5t2', 'ct47a10', 'ifna13', 'kir3dl3', 'hla-dob', 'or14j1', 'qars1', 'pramef18', 'mrpl49', 'rpl34', 'marchf8', 'mtrnr2l6', 'or52a1', 'fads6', 'spata31a3', 'bub1b-pak6', 'ccdc103', 'plxnb3', 'rps10', 'cdc42', 'zbed6', 'ccdc105', 'fam243b', 'defb131a', 'ct47a6', 'erv3-1', 'mrpl53', 'macroh2a1', 'nkx2-1', 'gabra3', 'tex15', 'tmed7-ticam2', 'abcc6', 'prb1', 'rps8', 'tpi1', 'usp17l29', 'trim51', 'notch4', 'rps19bp1', 'ct47a3', 'fam184b', 'dgcr6l', 'or9g4', 'rimbp3', 'znf746', 'defb105a', 'krt20', 'cela3a', 'hnrnpcl4', 'polr2j', 'a1bg', 'h2bc15', 'pwwp4', 'slc1a7', 'krtap10-9', 'krtap4-2', 'ebln1', 'thoc3', 'defb130a', 'npipb12', 'myh13', 'notch2nlc', 'or4n4', 'pcdhgb3', 'f8a3', 'bpifa1', 'rps17', 'gad2', 'tuba8', 'xage3', 'marchf9', 'slc17a6', 'h2ac1', 'ddx47', 'ndufc2-kctd14', 'magea2b', 'scygr1', 'spdye21', 'golga8g', 'misp3', 'mrpl11', 'myh1', 'mrpl35', 'mrps33', 'nlrp5', 'mrps22', 'amigo3', 'acot2', 'bhlhe23', 'srrm3', 'spaca5b', 'hnrnpab', 'asb18', 'rax2', 'rgpd8', 'srp14', 'arsl', 'cfap251', 'ppfia1', 'iqcj-schip1', 'gc', 'hcar2', 'ly75-cd302', 'duox1', 'rex1bd', 'defb103b', 'spanxa2', 'h2bc4', 'rbmy1f', 'nbpf10', 'mrpl54', 'cfhr1', 'sun5', 'or4a47', 'nfilz', 'rpl22l1', 'h4c5', 'hla-doa', 'h3c12', 'foxl3', 'rpl12', 'tmem233', 'psg8', 'golga6l10', 'aldoa', 'trim49', 'klrc2', 'taf11l5', 'tmem132d', 'or4f29', 'ins-igf2', 'pld5p1', 'or2t5', 'cfc1', 'cngb1', 'or10g9', 'dennd2b', 'or51l1', 'rps4y1', 'eef1d', 'ct47a2', 'or1r1p', 'igsf10', 'lilrb3', 'h2ab2', 'frg2b', 'alg1l2', 'wfdc10a', 'or2a7', 'mrpl51', 'abitram', 'tbcel-tecta', 'krtap5-11', 'hla-drb1', 'nudt4b', 'or8g1', 'prr20c', 'or6c76', 'spdye9', 'slc25a3', 'ct45a1', 'itgae', 'tcea1', 'potec', 'mrpl10', 'hla-dra', 'npipb5', 'awat1', 'efcab5', 'lrrc30', 'cep20', 'lhx1', 'rpl23a', 'rars1', 'rhoxf2', 'plekhg7', 'srsf6', 'or8h3', 'kars1', 'hcrt', 'mrpl15', 'h4c8', 'cyp2c19', 'cgb8', 'or4n2', 'krtap10-8', 'supt20hl1', 'f8a2', 'mrpl20', 'prss48', 'tbc1d26', 'gpr82', 'sult1a3', 'rpl27a', 'ptges3l-aarsd1', 'znf726', 'cryba1', 'slc22a12', 'fam243a', 'lrtm1', 'potej', 'ssu72p3', 'fam25a', 'slc22a8', 'gstm4', 'tspy10', 'dnai4', 'abcc10', 'mrps36', 'unkl', 'ppial4e', 'micos10-nbl1', 'ankrd20a2p', 'adss2', 'rpl35a', 'mtrnr2l8', 'ppp1r2b', 'gp1ba', 'krtap1-4', 'htn1', 'guca1anb', 'pramef12', 'or1j1', 'h2bc13', 'usp17l17', 'fkbp1c', 'rps27ap5', 'or51s1', 'styxl2', 'rpl39l', 'map1lc3b2', 'or6v1', 'rpl14', 'tp53tg3', 'timm23b-agap6', 'fam246b', 'smim40', 'nsrp1', 'vcy1b', 'rtl4', 'pfkl', 'rpl3', 'dmrtc1', 'amy2b', 'h2bc12', 'znf705b', 'ms4a12', 'apoc4-apoc2', 'rpl7', 'sry', 'usp17l30', 'cxorf51a', 'golga8q', 'usp17l18', 'chia', 'nxf2b', 'oosp2', 'ghrhr', 'ppp1r2', 'hoxb13', 'daz2', 'cfap94', 'psma6', 'ugt2b15', 'rrn3', 'h4c9', 'npipa1', 'cct5', 'rpl31', 'aplf', 'eef1a1', 'ssu72p4', 'gpr75', 'tgif2ly', 'defb130b', 'h1-5', 'zc3h11a', 'znhit3', 'spag11a', 'magea10', 'fam236a', 'spdye11', 'lpa', 'or2j1', 'golga6l22', 'rpl36', 'actl9', 'tas2r43', 'spaca1', 'nme1-nme2', 'ct45a3', 'pramef33', 'mrps28', 'lypla2', 'fam153a', 'znf511-prap1', 'cenpvl1', 'golga8n', 'or4m2', 'h3c7', 'mbd3l1', 'cenps-cort', 'rabl2b', 'rps2', 'npy4r', 'bsph1', 'h1-10', 'acsm2b', 'nudt6', 'fam25g', 'zhx1-c8orf76', 'capn10', 'usp17l25', 'or4f3', 'mia-rab4b', 'nomo3', 'rnase9', 'magea1', 'h2bc1', 'bola2-smg1p6', 'golga6l4', 'or11h2', 'tvp23b', 'rabl2a', 'myo7a', 'hla-dmb', 'prr20a', 'marchf10', 'hbe1', 'zbtb8os', 'or13g1', 'rps5', 'h2ac19', 'clp1', 'etda', 'ctage15', 'rps3', 'cbwd1', 'rps14', 'znf749', 'mbd3l3', 'tpm3', 'tbc1d3f', 'or2d2', 'slc6a5', 'erich6b', 'krtap2-2', 'atp4b', 'pga4', 'gstm2', 'htr1b', 'mag', 'vcy', 'mblac1', 'arl2-snx15', 'adad1', 'znf611', 'pnpla5', 'pramef8', 'rusf1', 'g6pc1', 'drg1', 'vars1', 'tas2r60', 'agap4', 'hbg2', 'tcaf2', 'lce3b', 'or13j1', 'ino80b-wbp1', 'haus7', 'or2t35', 'hes3', 'golga4', 'arpc4-ttll3', 'defb106b', 'h2bc18', 'ccdc25', 'opn1mw2', 'il6st', 'pramef1', 'paqr9', 'neu2', 'lce3c', 'nms', 'cibar1', 'gpr52', 'krt12', 'ifnw1', 'krtap5-5', 'hspe1-mob4', 'ctag1b', 'pcdhgc4', 'spcs2', 'mrpl48', 'mrps6', 'saa1', 'pramef4', 'scygr6', 'nxf2', 'usp17l11', 'fau', 'ms4a10', 'npipa2', 'pabir1', 'or6k2', 'znf737', 'fam90a16p', 'tubb8b', 'rnf225', 'tmco5a', 'prr20e', 'rps6kl1', 'tmdd1', 'cdc14c', 'defa1b', 'washc2c', 'mrps21', 'mrpl16', 'aknad1', 'gpr22', 'cdy2b', 'prm1', 'msh5-sapcd1', 'ct45a2', 'maged4', 'srgap2', 'h1-7', 'rpl37a', 'tamalin', 'hsfx2', 'tbc1d3d', 'csn1s1', 'or4f17', 'rps15', 'marchf2', 'mbd3l5', 'pabir2', 'h2ab1', 'mr1', 'ctage8', 'tspy3', 'znf479', 'gal3st2', 'tsnax-disc1', 'tas2r31', 'h3c13', 'h2ab3', 'adck1', 'ct47a8', 'hsfx1', 'coro7-pam16', 'mrpl3', 'tmem191c', 'defa1', 'nbpf4', 'tp53tg3c', 'borcs7-asmt', 'etfrf1', 'ctag1a', 'ncf1', 'pip5k1b', 'h2bc10', 'brme1', 'defb105b', 'stx18', 'slc35e2b', 'taf11l12', 'npipb4', 'kir3dl2', 'tptep2-csnk1e', 'pabpc1', 'fam72b', 'bpnt2', 'or6x1', 'washc1', 'znf816-znf321p', 'rsc1a1', 'acr', 'gimap1-gimap5', 'h3c10', 'or2d3', 'iqcf3', 'sprr2a', 'rgpd1', 'krt18', 'rpl32', 'prr20d', 'spanxd', 'otud6a', 'pasd1', 'krtap2-1', 'c16orf78', 'pttg1ip2', 'ptma', 'h1-4', 'linc00634', 'daz3', 'krtap9-4', 'npipb6', 'c1qtnf5', 'h3-3b', 'cntnap3c', 'stip1', 'h2bc11', 'kcne1', 'pdcd6-ahrr', 'marchf7', 'nutm2f', 'h3c2', 'pramef13', 'mrpl17', 'mrps11', 'mrpl14', 'c8orf44-sgk3', 'fbxl14', 'marchf3', 'or52e6', 'or1j4', 'dynlt5', 'znf551', 'tars3', 'st20-mthfs', 'sftpa2', 'trappc2b', 'msantd5', 'tbc1d3g', 'stxbp5l', 'rplp1', 'znf395', 'phf7', 'ctage9', 'il17re', 'itih4', 'rsph10b', 'znf722p', 'ppt2-egfl8', 'tmc1', 'dapl1', 'odad4', 'ifna17', 'eif2s3b', 'scygr7', 'rpl10', 'trim43b', 'taf11l9', 'rpl37', 'bcl2l2-pabpn1', 'ssx7', 'c17orf114', 'alg10b', 'klhl40', 'hla-a', 'tpte', 'fam236d', 'rpl23', 'mbd3l4', 'mrpl43', 'ssx2b', 'rimbp3c', 'or51f1', 'man2c1', 'spata31d4', 'golga6l9', 'glud2', 'or10a2', 'mrpl22', 'potee', 'usp17l19', 'nbpf6', 'spdye8', 'spink9', 'hs3st3a1', 'srek1', 'gatd3b', 'ighmbp2', 'znf320', 'npipb9', 'tpsb2', 'lce1e', 'vps35', 'rps24', 'or10h4', 'krt76', 'hla-dqb1', 'mrpl39', 'mrpl4', 'gk2', 'wtap', 'h2ac16', 'spanxn1', 'krtap12-3', 'gabarapl2', 'rps6ka4', 'st20', 'rpl11', 'hsfy1', 'nbpf26', 'ct45a10', 'tmem256-plscr3', 'rnf113b', 'zfpm1', 'psg11', 'mrpl1', 'hivep1', 'h4c12', 'bclaf1', 'mrps24', 'tspo2', 'katnip', 'nbpf12', 'znf846', 'kcnip4', 'sprr2b', 'gpr21', 'prss54', 'h2bs1', 'rpl28', 'krtap4-7', 'usp17l13', 'znf701', 'npm1', 'or51q1', 'cenpvl2', 'msl3', 'rbms2', 'mt-atp8', 'ugt1a3', 'notch2nla', 'mrps23', 'tas2r20', 'akr1c1', 'mrps15', 'dynlt2', 'or4f5', 'spdye2b', 'znrf4', 'h2ac11', 'g3bp1', 'mrps27', 'marchf5', 'fam246a', 'eola2', 'tkt', 'ntsr2', 'rpl41', 'mrps31', 'npipa5', 'tasl', 'cenatac', 'nkx2-3', 'rps6ka6', 'eif3k', 'wash6p', 'krt82', 'bivm-ercc5', 'krtap4-4', 'mrps7', 'cct7', 'rpl17', 'or2t3', 'rab6c', 'polr2m', 'acer2', 'slc35g4', 'slc6a18', 'h2bc14', 'or6c65', 'tas2r5', 'rplp2', 'gnas', 'dnajb7', 'slc24a1', 'rpl5', 'opn1sw', 'bpy2b', 'gypb', 'smn1', 'pramef26', 'dgkk', 'rpl24', 'hla-c', 'mrpl32', 'morn1', 'mrpl23', 'krt33b', 'scrt2', 'gatd3a', 'slco1b3-slco1b7', 'or1e2', 'cracd', 'or52d1', 'or4c46', 'serpinb10', 'myh7', 'nutm2g', 'fam90a9p', 'or51b4', 'rps6kb2', 'spanxa1', 'matn4', 'ckmt1b', 'magea9', 'esr2', 'or4n4c', 'kcnk9', 'h2az2', 'ist1', 'lims4', 'fam72c', 'rpl7a', 'fam187a', 'rps10-nudt3', 'hsd17b3', 'spring1', 'rps4x', 'chn2', 'nutm2d', 'c21orf62', 'taf11l3', 'h2ac18', 'ccdc169-sohlh2', 'chrnb3', 'cnpy1', 'trim73', 'nkx2-4', 'h2ac14', 'gage12c', 'hmgb1', 'or51b2', 'tekt4', 'gucy2d', 'apobec3b', 'dcd', 'gage12e', 'mrpl19', 'rpl36al', 'eif3f', 'p2ry4', 'ddx3y', 'necab1', 'arl17b', 'cfc1b', 'rhoxf2b', 'mrps17', 'ct47a7', 'ct47a9', 'tspy2', 'pcdhgb4', 'tmem191b', 'lactbl1', 'spanxn4', 'spdye17', 'c1orf94', 'h3-3a', 'znf721', 'iapp', 'poted', 'fpgt-tnni3k', 'msantd3-tmeff1', 'fam90a14p', 'or1l4', 'eprs1', 'fam240b', 'h2ac13', 'cylc2', 'cacna1a', 'golga8a', 'rgpd5', 'agap6', 'fcn1', 'znf559-znf177', 'kcnj12', 'krtap19-2', 'nphp3-acad11', 'mrpl27', 'h3c1', 'poteb3', 'h3c6', 'h2bc5', 'ct47a12', 'h2ac21', 'fam236b', 'c1orf50', 'kcna6', 'or7d4', 'kir3dl1', 'smim39', 'magea3', 'mrpl45', 'pnkp', 'mamdc4', 'znf506', 'rps4y2', 'h3c3', 'or8u1', 'cyria', 'ccdc195', 'taf11l2', 'tp53tg3e', 'cilk1', 'rgpd6', 'znf81', 'c1orf146', 'cav3', 'agap9', 'mrps34', 'hnrnpul2-bscl2', 'fmc1-luc7l2', 'prkrip1', 'or10s1', 'catsper1', 'pcdhga4', 'iars1', 'ankrd36c', 'opn1mw3', 'nxph2', 'rpl26', 'u2af1', 'grapl', 'hsfy2', 'usp17l27', 'mrpl57', 'pry2', 'page2b', 'odad3', 'clec1b', 'rps6kb1', 'ranbp1', 'krt81', 'myh6', 'nbpf9', 'fkbp1a', 'hla-e', 'cdh16', 'csag3', 'tnp1', 'rps11', 'nutm2b', 'mrps18b', 'iho1', 'krtap4-1', 'hoatz', 'ccdc74b', 'guca2b', 'notch2nlb', 'park7', 'ubtfl1', 'dars1', 'anxa8l1', 'h1-2', 'h3c4', 'spdye3', 'h4c6', 'usp17l28', 'pou5f1', 'gng5p2', 'foxr2', 'ugt1a5', 'dync2i2', 'duxa', 'h3c15', 'npipb7', 'znf487', 'usp17l8', 'u2af1l5', 'csag2', 'actr3c', 'ppial4d', 'trex1', 'tbc1d3h', 'mrps16', 'sprr1a', 'rpl6', 'plscr5', 'cd59', 'mkrn1', 'ssb', 'or2t29', 'rdh8', 'rpl19', 'hla-dqa1', 'specc1l-adora2a', 'slc34a1', 'ap3s1', 'lars1', 'mrps35', 'hars1', 'reg1a', 'znf670-znf695', 'or5h14', 'magea2', 'marchf1', 'casp1', 'usp9y', 'tmem229a', 'gtf2h2', 'or4m2b', 'pgap6', 'rps15a', 'irag1', 'pramef25', 'mtrnr2l4', 'fam90a10p', 'cgb7', 'tars1', 'rxfp2', 'or8b3', 'npipb11', 'rpl36a', 'nars1', 'or2a42', 'btnl9', 'h2aw', 'eif1ay', 'saa2-saa4', 'setd2', 'tas2r19', 'macir', 'pnpt1', 'znf845', 'zfy', 'or5p3', 'pgap4', 'etdb', 'ugt1a8', 'six6', 'znf28', 'dynlt4', 'eef1e1-bloc1s5', 'mrpl41', 'ift74', 'rpl13', 'slc39a4', 'ggtlc2', 'defb129', 'cdy1b', 'ranbp2', 'pax7', 'c1qtnf9b', 'rpl9', 'gfra4', 'pcdhgb5', 'prac2', 'chrna4', 'cyp4a22', 'h2ac12', 'daoa', 'cbsl', 'cfap20dc', 'dnaaf6', 'npy4r2', 'get1-sh3bgr', 'arl17a', 'ceacam18', 'jmjd7-pla2g4b', 'card8', 'chd1l', 'p3r3urf-pik3r3', 'atp6v1g2-ddx39b', 'or10p1', 'or7e24', 'spata31e1', 'chrm4', 'hbz', 'gprc6a', 'igf2', 'hla-drb5', 'ppial4c', 'pnlip', 'mtrnr2l10', 'eif3c', 'scgb1d4', 'wfdc9', 'cox5a', 'spanxc', 'or5d14', 'znf468', 'mettl2b', 'or11h12', 'ovca2', 'gage12f', 'sun3', 'senp3-eif4a1', 'krtap5-4', 'trim49d1', 'rps6ka1', 'gapdh', 'zfp91-cntf', 'asz1', 'lrrc37a', 'c5orf63', 'gphb5', 'polr1f', 'ifna2', 'hla-dpa1', 'fam90a18p', 'ptprcap', 'zc3h11b', 'cgb3', 'pramef20', 'opn1mw', 'smim43', 'htn3', 'prr23d2', 'ugt1a7', 'znf761', 'ggtlc3', 'atf7-npff', 'flywch1', 'spdye15', 'linc00514', 'npipa8', 'or51m1', 'dnajc19', 'hnrnpcl1', 'or5ac2', 'arhgap19-slit1', 'trim6-trim34', 'rbmy1e', 'or2w3', 'h2bc3', 'cars1', 'fsbp', 'dusp29', 'satl1', 'defb104b', 'rpl27', 'or51c1p', 'borcs8-mef2b', 'h3y1', 'lce6a', 'dcanp1', 'hoxd13', 'spaca7', 'h4c2', 'adprs', 'golga8f', 'fam95c', 'or51i1', 'h2az1', 'golga8t', 'epor', 'synj2bp-cox16'}\n",
      "仅在 adata_genes 中存在的基因数量: 301\n",
      "仅在 adata_genes 中存在的基因: {'al032819.3', 'atp5md', 'hist1h1e', 'hist1h4i', 'lrp5l', 'hist1h4j', 'ac073111.4', 'cxorf40a', 'ccdc84', 'ick', 'hist1h2ae', 'marc1', 'adss', 'defb133', 'c12orf81', 'gdf5os', 'tmem189', 'tmem155', 'al603764.2', 'h2bfwt', 'wdr60', 'c5orf30', 'ccdc39', 'ighg1', 'ttc25', 'hist1h2ak', 'hist1h4g', 'ct62', 'yars', 'c5orf67', 'atp6ap1l', 'tmem173', 'fp565260.1', 'ppp5d1', 'kiaa0556', 'ac134684.8', 'tctex1d1', 'ac119396.1', 'hist1h3e', 'st5', 'march4', 'hist1h2bg', 'adssl1', 'hist1h3g', 'march5', 'wdr78', 'hist1h2ac', 'ccdc155', 'kiaa1324', 'ac013470.2', 'marc2', 'c12orf10', 'bhmg1', 'pih1d3', 'elfn2', 'h2bfm', 'hist1h1d', 'qars', 'pde11a', 'casc1', 'march8', 'hist1h2ai', 'c19orf48', 'fam49a', 'c10orf55', 'c9orf129', 'al160269.1', 'tmem246', 'al135905.2', 'armc4', 'kiaa1211', 'cntd2', 'slfn12l', 'hist1h1a', 'march6', 'trgc2', 'ac011005.1', 'igha1', 'z82206.1', 'ac021072.1', 'h1fx', 'snhg32', 'march7', 'golga8m', 'cxorf56', 'adprhl2', 'al353572.3', 'c1orf61', 'linc02694', 'dars', 'lor', 'ac132217.2', 'march3', 'or5r1', 'trgc1', 'ac118549.1', 'c15orf41', 'tbce', 'igha2', 'hist3h2bb', 'kiaa1324l', 'h1foo', 'hist1h1b', 'mycnos', 'ac072022.2', 'c11orf74', 'kiaa1211l', 'trbc1', 'hhla3', 'fam122a', 'fam92b', 'ac104389.5', 'kiaa1257', 'fam30a', 'grasp', 'ap002495.1', 'iglc1', 'elmsan1', 'hist1h3h', 'ac011195.2', 'lars', 'h3f3b', 'cllu1os', 'fgfr1op', 'ac007906.2', 'c6orf201', 'ac113348.1', 'al121578.2', 'h2afx', 'c19orf57', 'c5orf60', 'c3orf67', 'c17orf53', 'iglc7', 'al109810.2', 'hist1h1c', 'atp5mpl', 'tarsl2', 'hist1h2ag', 'ac115220.1', 'hist1h4c', 'mir1915hg', 'cyb561d2', 'alg1l', 'c7orf77', 'h3.y', 'c2orf91', 'sars', 'castor3', 'al451007.3', 'c11orf88', 'slc26a10', 'ac010325.1', 'kiaa0355', 'acpp', 'ac187653.1', 'ac008397.1', 'ac233723.1', 'march1', 'hist1h2bh', 'fam122c', 'igkc', 'fam218a', 'h2afj', 'fam49b', 'c2orf83', 'al162596.1', 'al162231.1', 'trbc2', 'ighm', 'mrvi1', 'cenpbd1', 'fam169b', 'tctex1d4', 'palm2-akap2', 'wars', 'ac093323.1', 'cars', 'arse', 'terc', 'lrrc29', 'ac025283.2', 'spata13', 'ac015871.1', 'march11', 'arih2os', 'hist1h4e', 'hist1h2bn', 'glra4', 'c10orf142', 'casc4', 'tmem8a', 'pinx1', 'al354761.1', 'ighd', 'fopnl', 'tcte3', 'wdyhv1', 'ac067752.1', 'tctex1d2', 'card17', 'fam192a', 'eprs', 'impad1', 'lrmp', 'rars', 'gcsaml-as1', 'h2afy', 'ac005551.1', 'ac087498.1', 'ccdc151', 'h3f3a', 'dock8-as1', 'wdr63', 'bx255925.3', 'rgs5', 'card16', 'ac138647.1', 'h1f0', 'hist2h2be', 'c11orf40', 'march10', 'trdc', 'ac099489.1', 'bx276092.9', 'c12orf74', 'tmem99', 'wdr34', 'aars', 'al445238.1', 'trgjp2', 'kars', 'c9orf92', 'march2', 'twistnb', 'hars', 'siglec5', 'slc66a1l', 'ccdc36', 'tars', 'mars', 'prky', 'ac025287.4', 'cxorf21', 'iars', 'vars', 'znrd1', 'hist1h2bb', 'gars', 'hist3h3', 'ighe', 'march9', 'c14orf177', 'ac236972.4', 'c6orf223', 'ac090360.1', 'maats1', 'tmsb15b', 'c16orf58', 'ac092835.1', 'al590560.2', 'ac008687.4', 'c12orf49', 'b3gnt10', 'hypm', 'kif1bp', 'ac091057.6', 'sspo', 'cd3eap', 'al391650.1', 'nars', 'tsta3', 'dupd1', 'linc02693', 'spata8', 'h1fnt', 'hist4h4', 'ac004593.3', 'h2afz', 'pano1', 'h3f3c', 'ighg3', 'trac', 'trim16l', 'spert', 'al845331.2', 'fam122b', 'znf883', 'dec1', 'dirc1', 'h2afy2', 'ccdc114', 'wdr66', 'hist1h4b', 'trgjp1', 'ac010255.3', 'dusp27', 'nxf5', 'ac021097.2', 'eloa3', 'hist3h2a'}\n"
     ]
    }
   ],
   "source": [
    "only_in_all_genes = all_genes_set - adata_genes_set\n",
    "\n",
    "only_in_adata_genes = adata_genes_set - all_genes_set\n",
    "\n",
    "# 输出结果\n",
    "print(f\"仅在 all_genes 中存在的基因数量: {len(only_in_all_genes)}\")\n",
    "print(f\"仅在 all_genes 中存在的基因: {only_in_all_genes}\")\n",
    "\n",
    "print(f\"仅在 adata_genes 中存在的基因数量: {len(only_in_adata_genes)}\")\n",
    "print(f\"仅在 adata_genes 中存在的基因: {only_in_adata_genes}\")\n"
   ]
  },
  {
   "cell_type": "code",
   "execution_count": 10,
   "metadata": {
    "execution": {
     "iopub.execute_input": "2024-11-03T14:49:55.204781Z",
     "iopub.status.busy": "2024-11-03T14:49:55.204599Z",
     "iopub.status.idle": "2024-11-03T14:52:07.429006Z",
     "shell.execute_reply": "2024-11-03T14:52:07.427742Z"
    }
   },
   "outputs": [
    {
     "name": "stdout",
     "output_type": "stream",
     "text": [
      "Gene al391650.1 not found in all_genes list\n"
     ]
    },
    {
     "name": "stdout",
     "output_type": "stream",
     "text": [
      "Gene yars not found in all_genes list\n"
     ]
    },
    {
     "name": "stdout",
     "output_type": "stream",
     "text": [
      "Gene adprhl2 not found in all_genes list\n"
     ]
    },
    {
     "name": "stdout",
     "output_type": "stream",
     "text": [
      "Gene tctex1d4 not found in all_genes list\n"
     ]
    },
    {
     "name": "stdout",
     "output_type": "stream",
     "text": [
      "Gene tctex1d1 not found in all_genes list\n",
      "Gene wdr78 not found in all_genes list\n",
      "Gene hhla3 not found in all_genes list\n"
     ]
    },
    {
     "name": "stdout",
     "output_type": "stream",
     "text": [
      "Gene ac118549.1 not found in all_genes list\n",
      "Gene wdr63 not found in all_genes list\n"
     ]
    },
    {
     "name": "stdout",
     "output_type": "stream",
     "text": [
      "Gene kiaa1324 not found in all_genes list\n",
      "Gene sars not found in all_genes list\n"
     ]
    },
    {
     "name": "stdout",
     "output_type": "stream",
     "text": [
      "Gene hist2h2be not found in all_genes list\n"
     ]
    },
    {
     "name": "stdout",
     "output_type": "stream",
     "text": [
      "Gene al162596.1 not found in all_genes list\n",
      "Gene lor not found in all_genes list\n"
     ]
    },
    {
     "name": "stdout",
     "output_type": "stream",
     "text": [
      "Gene c1orf61 not found in all_genes list\n"
     ]
    },
    {
     "name": "stdout",
     "output_type": "stream",
     "text": [
      "Gene al590560.2 not found in all_genes list\n"
     ]
    },
    {
     "name": "stdout",
     "output_type": "stream",
     "text": [
      "Gene rgs5 not found in all_genes list\n",
      "Gene dusp27 not found in all_genes list\n"
     ]
    },
    {
     "name": "stdout",
     "output_type": "stream",
     "text": [
      "Gene eprs not found in all_genes list\n",
      "Gene marc2 not found in all_genes list\n",
      "Gene marc1 not found in all_genes list\n"
     ]
    },
    {
     "name": "stdout",
     "output_type": "stream",
     "text": [
      "Gene h3f3a not found in all_genes list\n",
      "Gene hist3h3 not found in all_genes list\n",
      "Gene hist3h2a not found in all_genes list\n",
      "Gene hist3h2bb not found in all_genes list\n"
     ]
    },
    {
     "name": "stdout",
     "output_type": "stream",
     "text": [
      "Gene al109810.2 not found in all_genes list\n",
      "Gene tbce not found in all_genes list\n"
     ]
    },
    {
     "name": "stdout",
     "output_type": "stream",
     "text": [
      "Gene adss not found in all_genes list\n",
      "Gene al451007.3 not found in all_genes list\n",
      "Gene gcsaml-as1 not found in all_genes list\n"
     ]
    },
    {
     "name": "stdout",
     "output_type": "stream",
     "text": [
      "Gene mycnos not found in all_genes list\n",
      "Gene fam49a not found in all_genes list\n"
     ]
    },
    {
     "name": "stdout",
     "output_type": "stream",
     "text": [
      "Gene c2orf91 not found in all_genes list\n"
     ]
    },
    {
     "name": "stdout",
     "output_type": "stream",
     "text": [
      "Gene igkc not found in all_genes list\n",
      "Gene al845331.2 not found in all_genes list\n",
      "Gene ac092835.1 not found in all_genes list\n"
     ]
    },
    {
     "name": "stdout",
     "output_type": "stream",
     "text": [
      "Gene kiaa1211l not found in all_genes list\n"
     ]
    },
    {
     "name": "stdout",
     "output_type": "stream",
     "text": [
      "Gene dars not found in all_genes list\n"
     ]
    },
    {
     "name": "stdout",
     "output_type": "stream",
     "text": [
      "Gene march7 not found in all_genes list\n"
     ]
    },
    {
     "name": "stdout",
     "output_type": "stream",
     "text": [
      "Gene pde11a not found in all_genes list\n"
     ]
    },
    {
     "name": "stdout",
     "output_type": "stream",
     "text": [
      "Gene dirc1 not found in all_genes list\n"
     ]
    },
    {
     "name": "stdout",
     "output_type": "stream",
     "text": [
      "Gene march4 not found in all_genes list\n"
     ]
    },
    {
     "name": "stdout",
     "output_type": "stream",
     "text": [
      "Gene c2orf83 not found in all_genes list\n"
     ]
    },
    {
     "name": "stdout",
     "output_type": "stream",
     "text": [
      "Gene arih2os not found in all_genes list\n",
      "Gene qars not found in all_genes list\n",
      "Gene ccdc36 not found in all_genes list\n"
     ]
    },
    {
     "name": "stdout",
     "output_type": "stream",
     "text": [
      "Gene cyb561d2 not found in all_genes list\n"
     ]
    },
    {
     "name": "stdout",
     "output_type": "stream",
     "text": [
      "Gene c3orf67 not found in all_genes list\n"
     ]
    },
    {
     "name": "stdout",
     "output_type": "stream",
     "text": [
      "Gene maats1 not found in all_genes list\n"
     ]
    },
    {
     "name": "stdout",
     "output_type": "stream",
     "text": [
      "Gene alg1l not found in all_genes list\n"
     ]
    },
    {
     "name": "stdout",
     "output_type": "stream",
     "text": [
      "Gene kiaa1257 not found in all_genes list\n",
      "Gene h1fx not found in all_genes list\n",
      "Gene h1foo not found in all_genes list\n",
      "Gene acpp not found in all_genes list\n"
     ]
    },
    {
     "name": "stdout",
     "output_type": "stream",
     "text": [
      "Gene slc66a1l not found in all_genes list\n"
     ]
    },
    {
     "name": "stdout",
     "output_type": "stream",
     "text": [
      "Gene terc not found in all_genes list\n"
     ]
    },
    {
     "name": "stdout",
     "output_type": "stream",
     "text": [
      "Gene ccdc39 not found in all_genes list\n"
     ]
    },
    {
     "name": "stdout",
     "output_type": "stream",
     "text": [
      "Gene ac072022.2 not found in all_genes list\n"
     ]
    },
    {
     "name": "stdout",
     "output_type": "stream",
     "text": [
      "Gene tctex1d2 not found in all_genes list\n"
     ]
    },
    {
     "name": "stdout",
     "output_type": "stream",
     "text": [
      "Gene ac093323.1 not found in all_genes list\n"
     ]
    },
    {
     "name": "stdout",
     "output_type": "stream",
     "text": [
      "Gene kiaa1211 not found in all_genes list\n"
     ]
    },
    {
     "name": "stdout",
     "output_type": "stream",
     "text": [
      "Gene h2afz not found in all_genes list\n"
     ]
    },
    {
     "name": "stdout",
     "output_type": "stream",
     "text": [
      "Gene tmem155 not found in all_genes list\n"
     ]
    },
    {
     "name": "stdout",
     "output_type": "stream",
     "text": [
      "Gene march1 not found in all_genes list\n",
      "Gene fam218a not found in all_genes list\n"
     ]
    },
    {
     "name": "stdout",
     "output_type": "stream",
     "text": [
      "Gene march6 not found in all_genes list\n",
      "Gene march11 not found in all_genes list\n",
      "Gene h3.y not found in all_genes list\n"
     ]
    },
    {
     "name": "stdout",
     "output_type": "stream",
     "text": [
      "Gene tars not found in all_genes list\n"
     ]
    },
    {
     "name": "stdout",
     "output_type": "stream",
     "text": [
      "Gene c5orf67 not found in all_genes list\n"
     ]
    },
    {
     "name": "stdout",
     "output_type": "stream",
     "text": [
      "Gene atp6ap1l not found in all_genes list\n"
     ]
    },
    {
     "name": "stdout",
     "output_type": "stream",
     "text": [
      "Gene c5orf30 not found in all_genes list\n"
     ]
    },
    {
     "name": "stdout",
     "output_type": "stream",
     "text": [
      "Gene ac010255.3 not found in all_genes list\n",
      "Gene march3 not found in all_genes list\n"
     ]
    },
    {
     "name": "stdout",
     "output_type": "stream",
     "text": [
      "Gene h2afy not found in all_genes list\n"
     ]
    },
    {
     "name": "stdout",
     "output_type": "stream",
     "text": [
      "Gene tmem173 not found in all_genes list\n",
      "Gene hars not found in all_genes list\n"
     ]
    },
    {
     "name": "stdout",
     "output_type": "stream",
     "text": [
      "Gene lars not found in all_genes list\n"
     ]
    },
    {
     "name": "stdout",
     "output_type": "stream",
     "text": [
      "Gene rars not found in all_genes list\n"
     ]
    },
    {
     "name": "stdout",
     "output_type": "stream",
     "text": [
      "Gene ac113348.1 not found in all_genes list\n",
      "Gene c5orf60 not found in all_genes list\n"
     ]
    },
    {
     "name": "stdout",
     "output_type": "stream",
     "text": [
      "Gene c6orf201 not found in all_genes list\n"
     ]
    },
    {
     "name": "stdout",
     "output_type": "stream",
     "text": [
      "Gene hist1h1a not found in all_genes list\n",
      "Gene hist1h4b not found in all_genes list\n",
      "Gene hist1h2bb not found in all_genes list\n",
      "Gene hist1h1c not found in all_genes list\n",
      "Gene hist1h4c not found in all_genes list\n",
      "Gene hist1h2ac not found in all_genes list\n",
      "Gene hist1h1e not found in all_genes list\n",
      "Gene hist1h4e not found in all_genes list\n",
      "Gene hist1h2bg not found in all_genes list\n",
      "Gene hist1h2ae not found in all_genes list\n",
      "Gene hist1h3e not found in all_genes list\n",
      "Gene hist1h1d not found in all_genes list\n",
      "Gene hist1h4g not found in all_genes list\n",
      "Gene hist1h2bh not found in all_genes list\n",
      "Gene hist1h3g not found in all_genes list\n",
      "Gene hist1h2ag not found in all_genes list\n",
      "Gene hist1h4i not found in all_genes list\n",
      "Gene hist1h2ai not found in all_genes list\n",
      "Gene hist1h3h not found in all_genes list\n",
      "Gene hist1h4j not found in all_genes list\n",
      "Gene hist1h2bn not found in all_genes list\n",
      "Gene hist1h2ak not found in all_genes list\n",
      "Gene hist1h1b not found in all_genes list\n"
     ]
    },
    {
     "name": "stdout",
     "output_type": "stream",
     "text": [
      "Gene znrd1 not found in all_genes list\n"
     ]
    },
    {
     "name": "stdout",
     "output_type": "stream",
     "text": [
      "Gene vars not found in all_genes list\n",
      "Gene snhg32 not found in all_genes list\n"
     ]
    },
    {
     "name": "stdout",
     "output_type": "stream",
     "text": [
      "Gene c6orf223 not found in all_genes list\n"
     ]
    },
    {
     "name": "stdout",
     "output_type": "stream",
     "text": [
      "Gene defb133 not found in all_genes list\n",
      "Gene ick not found in all_genes list\n"
     ]
    },
    {
     "name": "stdout",
     "output_type": "stream",
     "text": [
      "Gene al135905.2 not found in all_genes list\n"
     ]
    },
    {
     "name": "stdout",
     "output_type": "stream",
     "text": [
      "Gene fgfr1op not found in all_genes list\n",
      "Gene tcte3 not found in all_genes list\n",
      "Gene ac187653.1 not found in all_genes list\n"
     ]
    },
    {
     "name": "stdout",
     "output_type": "stream",
     "text": [
      "Gene ac013470.2 not found in all_genes list\n",
      "Gene twistnb not found in all_genes list\n"
     ]
    },
    {
     "name": "stdout",
     "output_type": "stream",
     "text": [
      "Gene ac004593.3 not found in all_genes list\n",
      "Gene gars not found in all_genes list\n"
     ]
    },
    {
     "name": "stdout",
     "output_type": "stream",
     "text": [
      "Gene trgc2 not found in all_genes list\n",
      "Gene trgjp2 not found in all_genes list\n",
      "Gene trgc1 not found in all_genes list\n",
      "Gene trgjp1 not found in all_genes list\n"
     ]
    },
    {
     "name": "stdout",
     "output_type": "stream",
     "text": [
      "Gene ac115220.1 not found in all_genes list\n"
     ]
    },
    {
     "name": "stdout",
     "output_type": "stream",
     "text": [
      "Gene kiaa1324l not found in all_genes list\n"
     ]
    },
    {
     "name": "stdout",
     "output_type": "stream",
     "text": [
      "Gene castor3 not found in all_genes list\n"
     ]
    },
    {
     "name": "stdout",
     "output_type": "stream",
     "text": [
      "Gene c7orf77 not found in all_genes list\n",
      "Gene ac011005.1 not found in all_genes list\n"
     ]
    },
    {
     "name": "stdout",
     "output_type": "stream",
     "text": [
      "Gene trbc1 not found in all_genes list\n",
      "Gene trbc2 not found in all_genes list\n"
     ]
    },
    {
     "name": "stdout",
     "output_type": "stream",
     "text": [
      "Gene sspo not found in all_genes list\n",
      "Gene ac073111.4 not found in all_genes list\n"
     ]
    },
    {
     "name": "stdout",
     "output_type": "stream",
     "text": [
      "Gene ac021097.2 not found in all_genes list\n"
     ]
    },
    {
     "name": "stdout",
     "output_type": "stream",
     "text": [
      "Gene wdr60 not found in all_genes list\n",
      "Gene ac134684.8 not found in all_genes list\n"
     ]
    },
    {
     "name": "stdout",
     "output_type": "stream",
     "text": [
      "Gene pinx1 not found in all_genes list\n"
     ]
    },
    {
     "name": "stdout",
     "output_type": "stream",
     "text": [
      "Gene impad1 not found in all_genes list\n"
     ]
    },
    {
     "name": "stdout",
     "output_type": "stream",
     "text": [
      "Gene wdyhv1 not found in all_genes list\n",
      "Gene fam49b not found in all_genes list\n"
     ]
    },
    {
     "name": "stdout",
     "output_type": "stream",
     "text": [
      "Gene ac138647.1 not found in all_genes list\n"
     ]
    },
    {
     "name": "stdout",
     "output_type": "stream",
     "text": [
      "Gene tsta3 not found in all_genes list\n"
     ]
    },
    {
     "name": "stdout",
     "output_type": "stream",
     "text": [
      "Gene dock8-as1 not found in all_genes list\n"
     ]
    },
    {
     "name": "stdout",
     "output_type": "stream",
     "text": [
      "Gene c9orf92 not found in all_genes list\n"
     ]
    },
    {
     "name": "stdout",
     "output_type": "stream",
     "text": [
      "Gene al162231.1 not found in all_genes list\n"
     ]
    },
    {
     "name": "stdout",
     "output_type": "stream",
     "text": [
      "Gene fam122a not found in all_genes list\n"
     ]
    },
    {
     "name": "stdout",
     "output_type": "stream",
     "text": [
      "Gene al353572.3 not found in all_genes list\n",
      "Gene iars not found in all_genes list\n"
     ]
    },
    {
     "name": "stdout",
     "output_type": "stream",
     "text": [
      "Gene c9orf129 not found in all_genes list\n",
      "Gene al160269.1 not found in all_genes list\n"
     ]
    },
    {
     "name": "stdout",
     "output_type": "stream",
     "text": [
      "Gene tmem246 not found in all_genes list\n"
     ]
    },
    {
     "name": "stdout",
     "output_type": "stream",
     "text": [
      "Gene palm2-akap2 not found in all_genes list\n",
      "Gene znf883 not found in all_genes list\n"
     ]
    },
    {
     "name": "stdout",
     "output_type": "stream",
     "text": [
      "Gene dec1 not found in all_genes list\n",
      "Gene b3gnt10 not found in all_genes list\n"
     ]
    },
    {
     "name": "stdout",
     "output_type": "stream",
     "text": [
      "Gene wdr34 not found in all_genes list\n"
     ]
    },
    {
     "name": "stdout",
     "output_type": "stream",
     "text": [
      "Gene al354761.1 not found in all_genes list\n"
     ]
    },
    {
     "name": "stdout",
     "output_type": "stream",
     "text": [
      "Gene bx255925.3 not found in all_genes list\n"
     ]
    },
    {
     "name": "stdout",
     "output_type": "stream",
     "text": [
      "Gene mir1915hg not found in all_genes list\n"
     ]
    },
    {
     "name": "stdout",
     "output_type": "stream",
     "text": [
      "Gene armc4 not found in all_genes list\n"
     ]
    },
    {
     "name": "stdout",
     "output_type": "stream",
     "text": [
      "Gene c10orf142 not found in all_genes list\n",
      "Gene march8 not found in all_genes list\n"
     ]
    },
    {
     "name": "stdout",
     "output_type": "stream",
     "text": [
      "Gene ac067752.1 not found in all_genes list\n",
      "Gene kif1bp not found in all_genes list\n"
     ]
    },
    {
     "name": "stdout",
     "output_type": "stream",
     "text": [
      "Gene h2afy2 not found in all_genes list\n"
     ]
    },
    {
     "name": "stdout",
     "output_type": "stream",
     "text": [
      "Gene c10orf55 not found in all_genes list\n",
      "Gene dupd1 not found in all_genes list\n"
     ]
    },
    {
     "name": "stdout",
     "output_type": "stream",
     "text": [
      "Gene march5 not found in all_genes list\n"
     ]
    },
    {
     "name": "stdout",
     "output_type": "stream",
     "text": [
      "Gene atp5md not found in all_genes list\n"
     ]
    },
    {
     "name": "stdout",
     "output_type": "stream",
     "text": [
      "Gene al603764.2 not found in all_genes list\n"
     ]
    },
    {
     "name": "stdout",
     "output_type": "stream",
     "text": [
      "Gene pano1 not found in all_genes list\n",
      "Gene ac132217.2 not found in all_genes list\n"
     ]
    },
    {
     "name": "stdout",
     "output_type": "stream",
     "text": [
      "Gene cars not found in all_genes list\n",
      "Gene c11orf40 not found in all_genes list\n"
     ]
    },
    {
     "name": "stdout",
     "output_type": "stream",
     "text": [
      "Gene ac104389.5 not found in all_genes list\n"
     ]
    },
    {
     "name": "stdout",
     "output_type": "stream",
     "text": [
      "Gene st5 not found in all_genes list\n",
      "Gene mrvi1 not found in all_genes list\n"
     ]
    },
    {
     "name": "stdout",
     "output_type": "stream",
     "text": [
      "Gene c11orf74 not found in all_genes list\n"
     ]
    },
    {
     "name": "stdout",
     "output_type": "stream",
     "text": [
      "Gene or5r1 not found in all_genes list\n"
     ]
    },
    {
     "name": "stdout",
     "output_type": "stream",
     "text": [
      "Gene ap002495.1 not found in all_genes list\n"
     ]
    },
    {
     "name": "stdout",
     "output_type": "stream",
     "text": [
      "Gene card16 not found in all_genes list\n",
      "Gene card17 not found in all_genes list\n",
      "Gene c11orf88 not found in all_genes list\n"
     ]
    },
    {
     "name": "stdout",
     "output_type": "stream",
     "text": [
      "Gene ccdc84 not found in all_genes list\n",
      "Gene h2afx not found in all_genes list\n"
     ]
    },
    {
     "name": "stdout",
     "output_type": "stream",
     "text": [
      "Gene hist4h4 not found in all_genes list\n",
      "Gene h2afj not found in all_genes list\n"
     ]
    },
    {
     "name": "stdout",
     "output_type": "stream",
     "text": [
      "Gene lrmp not found in all_genes list\n",
      "Gene casc1 not found in all_genes list\n",
      "Gene h3f3c not found in all_genes list\n"
     ]
    },
    {
     "name": "stdout",
     "output_type": "stream",
     "text": [
      "Gene h1fnt not found in all_genes list\n"
     ]
    },
    {
     "name": "stdout",
     "output_type": "stream",
     "text": [
      "Gene c12orf81 not found in all_genes list\n",
      "Gene grasp not found in all_genes list\n",
      "Gene ac021072.1 not found in all_genes list\n",
      "Gene c12orf10 not found in all_genes list\n"
     ]
    },
    {
     "name": "stdout",
     "output_type": "stream",
     "text": [
      "Gene mars not found in all_genes list\n",
      "Gene slc26a10 not found in all_genes list\n",
      "Gene march9 not found in all_genes list\n"
     ]
    },
    {
     "name": "stdout",
     "output_type": "stream",
     "text": [
      "Gene cllu1os not found in all_genes list\n",
      "Gene c12orf74 not found in all_genes list\n"
     ]
    },
    {
     "name": "stdout",
     "output_type": "stream",
     "text": [
      "Gene c12orf49 not found in all_genes list\n"
     ]
    },
    {
     "name": "stdout",
     "output_type": "stream",
     "text": [
      "Gene wdr66 not found in all_genes list\n"
     ]
    },
    {
     "name": "stdout",
     "output_type": "stream",
     "text": [
      "Gene spata13 not found in all_genes list\n"
     ]
    },
    {
     "name": "stdout",
     "output_type": "stream",
     "text": [
      "Gene spert not found in all_genes list\n"
     ]
    },
    {
     "name": "stdout",
     "output_type": "stream",
     "text": [
      "Gene al445238.1 not found in all_genes list\n"
     ]
    },
    {
     "name": "stdout",
     "output_type": "stream",
     "text": [
      "Gene trdc not found in all_genes list\n",
      "Gene trac not found in all_genes list\n"
     ]
    },
    {
     "name": "stdout",
     "output_type": "stream",
     "text": [
      "Gene elmsan1 not found in all_genes list\n"
     ]
    },
    {
     "name": "stdout",
     "output_type": "stream",
     "text": [
      "Gene c14orf177 not found in all_genes list\n",
      "Gene wars not found in all_genes list\n"
     ]
    },
    {
     "name": "stdout",
     "output_type": "stream",
     "text": [
      "Gene atp5mpl not found in all_genes list\n",
      "Gene adssl1 not found in all_genes list\n"
     ]
    },
    {
     "name": "stdout",
     "output_type": "stream",
     "text": [
      "Gene igha2 not found in all_genes list\n",
      "Gene ighe not found in all_genes list\n",
      "Gene igha1 not found in all_genes list\n",
      "Gene ighg1 not found in all_genes list\n",
      "Gene ighg3 not found in all_genes list\n",
      "Gene ighd not found in all_genes list\n",
      "Gene ighm not found in all_genes list\n",
      "Gene fam30a not found in all_genes list\n",
      "Gene golga8m not found in all_genes list\n"
     ]
    },
    {
     "name": "stdout",
     "output_type": "stream",
     "text": [
      "Gene ac091057.6 not found in all_genes list\n"
     ]
    },
    {
     "name": "stdout",
     "output_type": "stream",
     "text": [
      "Gene c15orf41 not found in all_genes list\n",
      "Gene linc02694 not found in all_genes list\n"
     ]
    },
    {
     "name": "stdout",
     "output_type": "stream",
     "text": [
      "Gene casc4 not found in all_genes list\n"
     ]
    },
    {
     "name": "stdout",
     "output_type": "stream",
     "text": [
      "Gene ct62 not found in all_genes list\n"
     ]
    },
    {
     "name": "stdout",
     "output_type": "stream",
     "text": [
      "Gene ac015871.1 not found in all_genes list\n"
     ]
    },
    {
     "name": "stdout",
     "output_type": "stream",
     "text": [
      "Gene spata8 not found in all_genes list\n",
      "Gene fam169b not found in all_genes list\n",
      "Gene tarsl2 not found in all_genes list\n"
     ]
    },
    {
     "name": "stdout",
     "output_type": "stream",
     "text": [
      "Gene tmem8a not found in all_genes list\n"
     ]
    },
    {
     "name": "stdout",
     "output_type": "stream",
     "text": [
      "Gene al032819.3 not found in all_genes list\n"
     ]
    },
    {
     "name": "stdout",
     "output_type": "stream",
     "text": [
      "Gene ac025283.2 not found in all_genes list\n"
     ]
    },
    {
     "name": "stdout",
     "output_type": "stream",
     "text": [
      "Gene ac099489.1 not found in all_genes list\n",
      "Gene fopnl not found in all_genes list\n"
     ]
    },
    {
     "name": "stdout",
     "output_type": "stream",
     "text": [
      "Gene kiaa0556 not found in all_genes list\n"
     ]
    },
    {
     "name": "stdout",
     "output_type": "stream",
     "text": [
      "Gene c16orf58 not found in all_genes list\n"
     ]
    },
    {
     "name": "stdout",
     "output_type": "stream",
     "text": [
      "Gene ac007906.2 not found in all_genes list\n"
     ]
    },
    {
     "name": "stdout",
     "output_type": "stream",
     "text": [
      "Gene fam192a not found in all_genes list\n"
     ]
    },
    {
     "name": "stdout",
     "output_type": "stream",
     "text": [
      "Gene lrrc29 not found in all_genes list\n"
     ]
    },
    {
     "name": "stdout",
     "output_type": "stream",
     "text": [
      "Gene aars not found in all_genes list\n"
     ]
    },
    {
     "name": "stdout",
     "output_type": "stream",
     "text": [
      "Gene kars not found in all_genes list\n",
      "Gene ac025287.4 not found in all_genes list\n"
     ]
    },
    {
     "name": "stdout",
     "output_type": "stream",
     "text": [
      "Gene fam92b not found in all_genes list\n"
     ]
    },
    {
     "name": "stdout",
     "output_type": "stream",
     "text": [
      "Gene cenpbd1 not found in all_genes list\n"
     ]
    },
    {
     "name": "stdout",
     "output_type": "stream",
     "text": [
      "Gene ac087498.1 not found in all_genes list\n"
     ]
    },
    {
     "name": "stdout",
     "output_type": "stream",
     "text": [
      "Gene ac233723.1 not found in all_genes list\n"
     ]
    },
    {
     "name": "stdout",
     "output_type": "stream",
     "text": [
      "Gene trim16l not found in all_genes list\n",
      "Gene linc02693 not found in all_genes list\n"
     ]
    },
    {
     "name": "stdout",
     "output_type": "stream",
     "text": [
      "Gene slfn12l not found in all_genes list\n"
     ]
    },
    {
     "name": "stdout",
     "output_type": "stream",
     "text": [
      "Gene tmem99 not found in all_genes list\n"
     ]
    },
    {
     "name": "stdout",
     "output_type": "stream",
     "text": [
      "Gene ttc25 not found in all_genes list\n"
     ]
    },
    {
     "name": "stdout",
     "output_type": "stream",
     "text": [
      "Gene c17orf53 not found in all_genes list\n"
     ]
    },
    {
     "name": "stdout",
     "output_type": "stream",
     "text": [
      "Gene ac011195.2 not found in all_genes list\n"
     ]
    },
    {
     "name": "stdout",
     "output_type": "stream",
     "text": [
      "Gene march10 not found in all_genes list\n"
     ]
    },
    {
     "name": "stdout",
     "output_type": "stream",
     "text": [
      "Gene h3f3b not found in all_genes list\n"
     ]
    },
    {
     "name": "stdout",
     "output_type": "stream",
     "text": [
      "Gene eloa3 not found in all_genes list\n"
     ]
    },
    {
     "name": "stdout",
     "output_type": "stream",
     "text": [
      "Gene nars not found in all_genes list\n"
     ]
    },
    {
     "name": "stdout",
     "output_type": "stream",
     "text": [
      "Gene ac090360.1 not found in all_genes list\n"
     ]
    },
    {
     "name": "stdout",
     "output_type": "stream",
     "text": [
      "Gene ac005551.1 not found in all_genes list\n"
     ]
    },
    {
     "name": "stdout",
     "output_type": "stream",
     "text": [
      "Gene ac119396.1 not found in all_genes list\n"
     ]
    },
    {
     "name": "stdout",
     "output_type": "stream",
     "text": [
      "Gene march2 not found in all_genes list\n"
     ]
    },
    {
     "name": "stdout",
     "output_type": "stream",
     "text": [
      "Gene ccdc151 not found in all_genes list\n"
     ]
    },
    {
     "name": "stdout",
     "output_type": "stream",
     "text": [
      "Gene c19orf57 not found in all_genes list\n"
     ]
    },
    {
     "name": "stdout",
     "output_type": "stream",
     "text": [
      "Gene ac008397.1 not found in all_genes list\n"
     ]
    },
    {
     "name": "stdout",
     "output_type": "stream",
     "text": [
      "Gene kiaa0355 not found in all_genes list\n"
     ]
    },
    {
     "name": "stdout",
     "output_type": "stream",
     "text": [
      "Gene cntd2 not found in all_genes list\n"
     ]
    },
    {
     "name": "stdout",
     "output_type": "stream",
     "text": [
      "Gene cd3eap not found in all_genes list\n",
      "Gene bhmg1 not found in all_genes list\n"
     ]
    },
    {
     "name": "stdout",
     "output_type": "stream",
     "text": [
      "Gene ppp5d1 not found in all_genes list\n"
     ]
    },
    {
     "name": "stdout",
     "output_type": "stream",
     "text": [
      "Gene ccdc114 not found in all_genes list\n"
     ]
    },
    {
     "name": "stdout",
     "output_type": "stream",
     "text": [
      "Gene ac008687.4 not found in all_genes list\n",
      "Gene ccdc155 not found in all_genes list\n"
     ]
    },
    {
     "name": "stdout",
     "output_type": "stream",
     "text": [
      "Gene ac010325.1 not found in all_genes list\n",
      "Gene c19orf48 not found in all_genes list\n"
     ]
    },
    {
     "name": "stdout",
     "output_type": "stream",
     "text": [
      "Gene siglec5 not found in all_genes list\n"
     ]
    },
    {
     "name": "stdout",
     "output_type": "stream",
     "text": [
      "Gene gdf5os not found in all_genes list\n"
     ]
    },
    {
     "name": "stdout",
     "output_type": "stream",
     "text": [
      "Gene tmem189 not found in all_genes list\n"
     ]
    },
    {
     "name": "stdout",
     "output_type": "stream",
     "text": [
      "Gene fp565260.1 not found in all_genes list\n"
     ]
    },
    {
     "name": "stdout",
     "output_type": "stream",
     "text": [
      "Gene iglc1 not found in all_genes list\n",
      "Gene iglc7 not found in all_genes list\n"
     ]
    },
    {
     "name": "stdout",
     "output_type": "stream",
     "text": [
      "Gene lrp5l not found in all_genes list\n"
     ]
    },
    {
     "name": "stdout",
     "output_type": "stream",
     "text": [
      "Gene elfn2 not found in all_genes list\n",
      "Gene h1f0 not found in all_genes list\n"
     ]
    },
    {
     "name": "stdout",
     "output_type": "stream",
     "text": [
      "Gene z82206.1 not found in all_genes list\n"
     ]
    },
    {
     "name": "stdout",
     "output_type": "stream",
     "text": [
      "Gene arse not found in all_genes list\n"
     ]
    },
    {
     "name": "stdout",
     "output_type": "stream",
     "text": [
      "Gene cxorf21 not found in all_genes list\n",
      "Gene hypm not found in all_genes list\n",
      "Gene al121578.2 not found in all_genes list\n"
     ]
    },
    {
     "name": "stdout",
     "output_type": "stream",
     "text": [
      "Gene bx276092.9 not found in all_genes list\n"
     ]
    },
    {
     "name": "stdout",
     "output_type": "stream",
     "text": [
      "Gene nxf5 not found in all_genes list\n",
      "Gene glra4 not found in all_genes list\n"
     ]
    },
    {
     "name": "stdout",
     "output_type": "stream",
     "text": [
      "Gene tmsb15b not found in all_genes list\n",
      "Gene h2bfwt not found in all_genes list\n",
      "Gene h2bfm not found in all_genes list\n",
      "Gene pih1d3 not found in all_genes list\n"
     ]
    },
    {
     "name": "stdout",
     "output_type": "stream",
     "text": [
      "Gene cxorf56 not found in all_genes list\n"
     ]
    },
    {
     "name": "stdout",
     "output_type": "stream",
     "text": [
      "Gene fam122b not found in all_genes list\n",
      "Gene fam122c not found in all_genes list\n"
     ]
    },
    {
     "name": "stdout",
     "output_type": "stream",
     "text": [
      "Gene cxorf40a not found in all_genes list\n"
     ]
    },
    {
     "name": "stdout",
     "output_type": "stream",
     "text": [
      "Gene ac236972.4 not found in all_genes list\n"
     ]
    },
    {
     "name": "stdout",
     "output_type": "stream",
     "text": [
      "Gene prky not found in all_genes list\n"
     ]
    }
   ],
   "source": [
    "dense_adata_X = adata.X\n",
    "for i, gene in enumerate(adata_genes_lower):\n",
    "    if gene in gene_to_index:\n",
    "        new_data[:, gene_to_index[gene]] = dense_adata_X[:, i]\n",
    "    else:\n",
    "        print(f'Gene {gene} not found in all_genes list')"
   ]
  },
  {
   "cell_type": "code",
   "execution_count": 11,
   "metadata": {
    "execution": {
     "iopub.execute_input": "2024-11-03T14:52:07.431694Z",
     "iopub.status.busy": "2024-11-03T14:52:07.431219Z",
     "iopub.status.idle": "2024-11-03T14:52:54.420831Z",
     "shell.execute_reply": "2024-11-03T14:52:54.419607Z"
    }
   },
   "outputs": [],
   "source": [
    "from sklearn.metrics import accuracy_score, f1_score\n",
    "from sklearn.preprocessing import LabelEncoder\n",
    "import numpy as np\n",
    "from sklearn.model_selection import train_test_split\n",
    "\n",
    "\n",
    "label_encoder = LabelEncoder()\n",
    "labels_encoded = label_encoder.fit_transform(adata.obs['cell_type'])  # 预先编码标签\n",
    "\n",
    "\n",
    "random_seed = 42\n",
    "X_train_val, X_test, y_train_val, y_test = train_test_split(\n",
    "    new_data, labels_encoded, test_size=0.15, random_state=random_seed)\n",
    "\n",
    "\n",
    "X_train, X_val, y_train, y_val = train_test_split(\n",
    "    X_train_val, y_train_val, test_size=0.1765, random_state=random_seed)  # 0.1765 是为了让验证集占 15%\n",
    "\n",
    "from sklearn.decomposition import PCA\n",
    "n_components = 64\n",
    "pca = PCA(n_components=n_components)\n",
    "train_embeddings = pca.fit_transform(X_train)\n",
    "test_embeddings = pca.transform(X_test)"
   ]
  },
  {
   "cell_type": "code",
   "execution_count": 12,
   "metadata": {
    "execution": {
     "iopub.execute_input": "2024-11-03T14:52:54.426447Z",
     "iopub.status.busy": "2024-11-03T14:52:54.424444Z",
     "iopub.status.idle": "2024-11-03T14:52:55.365847Z",
     "shell.execute_reply": "2024-11-03T14:52:55.365145Z"
    }
   },
   "outputs": [
    {
     "name": "stdout",
     "output_type": "stream",
     "text": [
      "KNN Accuracy on Test Data: 0.7109309810466087\n",
      "Weighted F1 Score: 0.7083160782138578\n",
      "Macro F1 Score: 0.5696359354606314\n",
      "Random Guess Accuracy: 0.1320247177116093\n",
      "                         precision    recall  f1-score   support\n",
      "\n",
      "                B_Cells       0.67      0.84      0.75       772\n",
      "           CD4+_T_Cells       0.43      0.54      0.48      1286\n",
      "           CD8+_T_Cells       0.49      0.49      0.49      1026\n",
      "                 DCIS_1       0.73      0.78      0.75      1937\n",
      "                 DCIS_2       0.61      0.59      0.60      1746\n",
      "            Endothelial       0.84      0.84      0.84      1348\n",
      "              IRF7+_DCs       0.86      0.77      0.81        74\n",
      "         Invasive_Tumor       0.80      0.85      0.82      5230\n",
      "             LAMP3+_DCs       0.64      0.57      0.60        49\n",
      "          Macrophages_1       0.71      0.73      0.72      1692\n",
      "          Macrophages_2       0.57      0.46      0.51       223\n",
      "             Mast_Cells       0.83      0.18      0.29        28\n",
      "          Myoepi_ACTA2+       0.77      0.74      0.75      1043\n",
      "          Myoepi_KRT15+       0.85      0.81      0.83       426\n",
      "      Perivascular-Like       0.42      0.15      0.22       125\n",
      "  Prolif_Invasive_Tumor       0.63      0.62      0.62       533\n",
      "                Stromal       0.79      0.72      0.75      6184\n",
      "Stromal_&_T_Cell_Hybrid       0.00      0.00      0.00        93\n",
      "  T_Cell_&_Tumor_Hybrid       0.10      0.03      0.05        87\n",
      "              Unlabeled       0.51      0.48      0.50      1265\n",
      "\n",
      "               accuracy                           0.71     25167\n",
      "              macro avg       0.61      0.56      0.57     25167\n",
      "           weighted avg       0.71      0.71      0.71     25167\n",
      "\n"
     ]
    }
   ],
   "source": [
    "import pandas as pd\n",
    "from sklearn.neighbors import KNeighborsClassifier\n",
    "from sklearn.metrics import accuracy_score, f1_score, classification_report\n",
    "\n",
    "    \n",
    "\n",
    "    # 初始化和训练KNN分类器\n",
    "knn = KNeighborsClassifier(n_neighbors=5)\n",
    "knn.fit(train_embeddings, y_train)\n",
    "    \n",
    "    # 模型预测\n",
    "predictions = knn.predict(test_embeddings)\n",
    "\n",
    "    # 计算准确率和 F1 分数\n",
    "accuracy = accuracy_score(y_test, predictions)\n",
    "print(f\"KNN Accuracy on Test Data: {accuracy}\")\n",
    "f1 = f1_score(y_test, predictions, average='weighted')\n",
    "print(f\"Weighted F1 Score: {f1}\")\n",
    "    \n",
    "macro_f1 = f1_score(y_test, predictions, average='macro')\n",
    "print(f'Macro F1 Score: {macro_f1}')\n",
    "\n",
    "    # 计算随机猜测的准确率\n",
    "class_probabilities = np.bincount(y_test) / len(y_test)\n",
    "random_accuracy = np.sum(class_probabilities ** 2)\n",
    "print(f\"Random Guess Accuracy: {random_accuracy}\")\n",
    "\n",
    "    # 生成分类报告\n",
    "report = classification_report(y_test, predictions, target_names=label_encoder.classes_)\n",
    "print(report)"
   ]
  },
  {
   "cell_type": "code",
   "execution_count": 13,
   "metadata": {
    "execution": {
     "iopub.execute_input": "2024-11-03T14:52:55.368425Z",
     "iopub.status.busy": "2024-11-03T14:52:55.367765Z",
     "iopub.status.idle": "2024-11-03T14:53:17.136394Z",
     "shell.execute_reply": "2024-11-03T14:53:17.135039Z"
    }
   },
   "outputs": [],
   "source": [
    "PCA_embeddings = pca.transform(new_data)\n",
    "new_adata = sc.read_h5ad(data_dir)\n",
    "new_adata.obsm[f'PCA_{random_seed}'] = PCA_embeddings\n",
    "new_adata.uns[f'PCA_y_test_{random_seed}'] = y_test\n",
    "new_adata.uns[f'PCA_predictions_{random_seed}'] = predictions\n",
    "new_adata.uns[f'PCA_target_names_{random_seed}'] = label_encoder.classes_\n",
    "new_adata.write_h5ad(data_dir)"
   ]
  },
  {
   "cell_type": "code",
   "execution_count": 14,
   "metadata": {
    "execution": {
     "iopub.execute_input": "2024-11-03T14:53:17.140308Z",
     "iopub.status.busy": "2024-11-03T14:53:17.139930Z",
     "iopub.status.idle": "2024-11-03T14:53:17.154133Z",
     "shell.execute_reply": "2024-11-03T14:53:17.153470Z"
    }
   },
   "outputs": [
    {
     "name": "stdout",
     "output_type": "stream",
     "text": [
      "Metrics Summary:\n",
      "macro_f1\tweighted_f1\tmicor_f1\n",
      "0.570\t0.708\t0.711\n"
     ]
    }
   ],
   "source": [
    "\n",
    "import pandas as pd\n",
    "import os\n",
    "import re\n",
    "\n",
    "# 当前 Notebook 文件名\n",
    "notebook_name = \"imputed_Xenium_breast_cancer_sample1_replicate1_PCA_42.ipynb\"\n",
    "\n",
    "# 初始化需要打印的值\n",
    "init_train_loss = train_losses[0] if 'train_losses' in globals() else None\n",
    "init_val_loss = val_losses[0] if 'val_losses' in globals() else None\n",
    "converged_epoch = len(train_losses) - patience if 'train_losses' in globals() else None\n",
    "converged_val_loss = best_val_loss if 'best_val_loss' in globals() else None\n",
    "\n",
    "# 打印所有所需的指标\n",
    "print(\"Metrics Summary:\")\n",
    "if 'train_losses' in globals():\n",
    "    print(f\"init_train_loss\\tinit_val_loss\\tconverged_epoch\\tconverged_val_loss\\tmacro_f1\\tweighted_f1\\tmicor_f1\")\n",
    "    print(f\"{init_train_loss:.3f}\\t{init_val_loss:.3f}\\t{converged_epoch}\\t{converged_val_loss:.3f}\\t{macro_f1:.3f}\\t{f1:.3f}\\t{accuracy:.3f}\")\n",
    "else:\n",
    "    print(f\"macro_f1\\tweighted_f1\\tmicor_f1\")\n",
    "    print(f\"{macro_f1:.3f}\\t{f1:.3f}\\t{accuracy:.3f}\")\n",
    "\n",
    "# 保存结果到 CSV 文件\n",
    "output_data = {\n",
    "    'dataset_split_random_seed': [int(random_seed)],\n",
    "    'dataset': ['imputed_xenium_breast_cancer_sample1_replicate1'],\n",
    "    'method': [re.search(r'replicate1_(.*?)_\\d+', notebook_name).group(1)],\n",
    "    'init_train_loss': [init_train_loss if init_train_loss is not None else ''],\n",
    "    'init_val_loss': [init_val_loss if init_val_loss is not None else ''],\n",
    "    'converged_epoch': [converged_epoch if converged_epoch is not None else ''],\n",
    "    'converged_val_loss': [converged_val_loss if converged_val_loss is not None else ''],\n",
    "    'macro_f1': [macro_f1],\n",
    "    'weighted_f1': [f1],\n",
    "    'micor_f1': [accuracy]\n",
    "}\n",
    "output_df = pd.DataFrame(output_data)\n",
    "\n",
    "# 保存到当前目录下名为 results 的文件夹中\n",
    "if not os.path.exists('results'):\n",
    "    os.makedirs('results')\n",
    "\n",
    "csv_filename = f\"results/{os.path.splitext(notebook_name)[0]}_results.csv\"\n",
    "output_df.to_csv(csv_filename, index=False)\n"
   ]
  }
 ],
 "metadata": {
  "kernelspec": {
   "display_name": "ssl",
   "language": "python",
   "name": "python3"
  },
  "language_info": {
   "codemirror_mode": {
    "name": "ipython",
    "version": 3
   },
   "file_extension": ".py",
   "mimetype": "text/x-python",
   "name": "python",
   "nbconvert_exporter": "python",
   "pygments_lexer": "ipython3",
   "version": "3.10.13"
  }
 },
 "nbformat": 4,
 "nbformat_minor": 2
}
