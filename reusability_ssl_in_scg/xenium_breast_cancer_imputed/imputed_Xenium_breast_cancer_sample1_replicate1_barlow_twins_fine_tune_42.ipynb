{
 "cells": [
  {
   "cell_type": "code",
   "execution_count": 1,
   "metadata": {
    "execution": {
     "iopub.execute_input": "2024-11-03T14:03:35.152194Z",
     "iopub.status.busy": "2024-11-03T14:03:35.151836Z",
     "iopub.status.idle": "2024-11-03T14:03:49.781676Z",
     "shell.execute_reply": "2024-11-03T14:03:49.780581Z"
    }
   },
   "outputs": [],
   "source": [
    "import scanpy as sc\n",
    "data_dir = '../../dataset/ad_ge_imputed_Xenium_breast_cancer_sample1_replicate1.h5ad'\n",
    "adata = sc.read_h5ad(data_dir)\n",
    "sc.pp.normalize_total(adata)\n",
    "sc.pp.log1p(adata)"
   ]
  },
  {
   "cell_type": "code",
   "execution_count": 2,
   "metadata": {
    "execution": {
     "iopub.execute_input": "2024-11-03T14:03:49.785223Z",
     "iopub.status.busy": "2024-11-03T14:03:49.784616Z",
     "iopub.status.idle": "2024-11-03T14:03:52.802728Z",
     "shell.execute_reply": "2024-11-03T14:03:52.801856Z"
    }
   },
   "outputs": [
    {
     "name": "stderr",
     "output_type": "stream",
     "text": [
      "/home/hanchuangyi/miniconda3/envs/ssl/lib/python3.10/site-packages/merlin/dtypes/mappings/tf.py:52: UserWarning: Tensorflow dtype mappings did not load successfully due to an error: No module named 'tensorflow'\n",
      "  warn(f\"Tensorflow dtype mappings did not load successfully due to an error: {exc.msg}\")\n",
      "/home/hanchuangyi/miniconda3/envs/ssl/lib/python3.10/site-packages/merlin/dtypes/mappings/triton.py:53: UserWarning: Triton dtype mappings did not load successfully due to an error: No module named 'tritonclient'\n",
      "  warn(f\"Triton dtype mappings did not load successfully due to an error: {exc.msg}\")\n"
     ]
    },
    {
     "name": "stderr",
     "output_type": "stream",
     "text": [
      "GPU available: True (cuda), used: True\n"
     ]
    },
    {
     "name": "stderr",
     "output_type": "stream",
     "text": [
      "TPU available: False, using: 0 TPU cores\n"
     ]
    },
    {
     "name": "stderr",
     "output_type": "stream",
     "text": [
      "HPU available: False, using: 0 HPUs\n"
     ]
    },
    {
     "data": {
      "text/plain": [
       "MLPBarlowTwins(\n",
       "  (train_metrics): MetricCollection(\n",
       "    (explained_var_uniform): ExplainedVariance()\n",
       "    (explained_var_weighted): ExplainedVariance()\n",
       "    (mse): MeanSquaredError(),\n",
       "    prefix=train_\n",
       "  )\n",
       "  (val_metrics): MetricCollection(\n",
       "    (explained_var_uniform): ExplainedVariance()\n",
       "    (explained_var_weighted): ExplainedVariance()\n",
       "    (mse): MeanSquaredError(),\n",
       "    prefix=val_\n",
       "  )\n",
       "  (test_metrics): MetricCollection(\n",
       "    (explained_var_uniform): ExplainedVariance()\n",
       "    (explained_var_weighted): ExplainedVariance()\n",
       "    (mse): MeanSquaredError(),\n",
       "    prefix=test_\n",
       "  )\n",
       "  (inner_model): MLP(\n",
       "    (0): Linear(in_features=19331, out_features=512, bias=True)\n",
       "    (1): SELU()\n",
       "    (2): Dropout(p=0.0, inplace=False)\n",
       "    (3): Linear(in_features=512, out_features=512, bias=True)\n",
       "    (4): SELU()\n",
       "    (5): Dropout(p=0.0, inplace=False)\n",
       "    (6): Linear(in_features=512, out_features=256, bias=True)\n",
       "    (7): SELU()\n",
       "    (8): Dropout(p=0.0, inplace=False)\n",
       "    (9): Linear(in_features=256, out_features=256, bias=True)\n",
       "    (10): SELU()\n",
       "    (11): Dropout(p=0.0, inplace=False)\n",
       "    (12): Linear(in_features=256, out_features=64, bias=True)\n",
       "  )\n",
       "  (barlow_twins): BarlowTwins(\n",
       "    (backbone): MLP(\n",
       "      (0): Linear(in_features=19331, out_features=512, bias=True)\n",
       "      (1): SELU()\n",
       "      (2): Dropout(p=0.0, inplace=False)\n",
       "      (3): Linear(in_features=512, out_features=512, bias=True)\n",
       "      (4): SELU()\n",
       "      (5): Dropout(p=0.0, inplace=False)\n",
       "      (6): Linear(in_features=512, out_features=256, bias=True)\n",
       "      (7): SELU()\n",
       "      (8): Dropout(p=0.0, inplace=False)\n",
       "      (9): Linear(in_features=256, out_features=256, bias=True)\n",
       "      (10): SELU()\n",
       "      (11): Dropout(p=0.0, inplace=False)\n",
       "      (12): Linear(in_features=256, out_features=64, bias=True)\n",
       "    )\n",
       "    (projector): Sequential(\n",
       "      (0): Linear(in_features=64, out_features=256, bias=False)\n",
       "      (1): BatchNorm1d(256, eps=1e-05, momentum=0.1, affine=True, track_running_stats=True)\n",
       "      (2): ReLU(inplace=True)\n",
       "      (3): Linear(in_features=256, out_features=256, bias=False)\n",
       "      (4): BatchNorm1d(256, eps=1e-05, momentum=0.1, affine=True, track_running_stats=True)\n",
       "      (5): ReLU(inplace=True)\n",
       "      (6): Linear(in_features=256, out_features=512, bias=False)\n",
       "      (7): BatchNorm1d(512, eps=1e-05, momentum=0.1, affine=True, track_running_stats=True)\n",
       "      (8): ReLU(inplace=True)\n",
       "      (9): Linear(in_features=512, out_features=512, bias=False)\n",
       "    )\n",
       "    (bn): BatchNorm1d(512, eps=1e-05, momentum=0.1, affine=False, track_running_stats=True)\n",
       "  )\n",
       ")"
      ]
     },
     "execution_count": 2,
     "metadata": {},
     "output_type": "execute_result"
    }
   ],
   "source": [
    "%load_ext autoreload\n",
    "%autoreload 2\n",
    "import torch\n",
    "from torch import nn\n",
    "from torch.optim import AdamW\n",
    "import lightning.pytorch as pl\n",
    "from sklearn.model_selection import train_test_split\n",
    "from sklearn.preprocessing import LabelEncoder\n",
    "from self_supervision.models.lightning_modules.cellnet_autoencoder import MLPBarlowTwins\n",
    "from self_supervision.estimator.cellnet import EstimatorAutoEncoder\n",
    "\n",
    "# 设置你的 .ckpt 文件路径\n",
    "ckpt_path = \"../../sc_pretrained/Pretrained Models/BarlowTwins.ckpt\"\n",
    "\n",
    "# 模型参数\n",
    "units_encoder = [512, 512, 256, 256, 64]\n",
    "\n",
    "# 初始化 EstimatorAutoEncoder 实例\n",
    "estim = EstimatorAutoEncoder(data_path=None)  # 如果没有实际数据路径，可以设置为None\n",
    "\n",
    "# 加载预训练模型\n",
    "estim.model = MLPBarlowTwins(\n",
    "        gene_dim=19331,  # 根据你的数据调整\n",
    "        batch_size=128,  # 根据你的需要调整\n",
    "        units_encoder=units_encoder,\n",
    "        CHECKPOINT_PATH=ckpt_path\n",
    "    )\n",
    "\n",
    "\n",
    "estim.trainer = pl.Trainer(accelerator=\"gpu\", devices=1 if torch.cuda.is_available() else None)\n",
    "estim.model"
   ]
  },
  {
   "cell_type": "code",
   "execution_count": 3,
   "metadata": {
    "execution": {
     "iopub.execute_input": "2024-11-03T14:03:52.806040Z",
     "iopub.status.busy": "2024-11-03T14:03:52.805227Z",
     "iopub.status.idle": "2024-11-03T14:03:54.260805Z",
     "shell.execute_reply": "2024-11-03T14:03:54.260089Z"
    }
   },
   "outputs": [],
   "source": [
    "# 加载 checkpoint\n",
    "checkpoint = torch.load(ckpt_path)\n",
    "estim.model.inner_model.load_state_dict({k.replace('backbone.', ''): v for k, v in checkpoint.items() if 'backbone' in k})\n",
    "\n",
    "# 5. 添加分类层 (FC 层)\n",
    "n_classes = len(adata.obs['cell_type'].unique())\n",
    "estim.model.fc = nn.Linear(units_encoder[-1], n_classes)"
   ]
  },
  {
   "cell_type": "code",
   "execution_count": 4,
   "metadata": {
    "execution": {
     "iopub.execute_input": "2024-11-03T14:03:54.263833Z",
     "iopub.status.busy": "2024-11-03T14:03:54.263375Z",
     "iopub.status.idle": "2024-11-03T14:03:54.301139Z",
     "shell.execute_reply": "2024-11-03T14:03:54.300428Z"
    }
   },
   "outputs": [],
   "source": [
    "# 6. 冻结 encoder 的大部分参数，解冻所有层\n",
    "for param in estim.model.inner_model.parameters():\n",
    "    param.requires_grad = False  # 冻结所有层\n",
    "\n",
    "# 解冻最后两层\n",
    "for param in list(estim.model.inner_model.parameters())[-5:]:\n",
    "    param.requires_grad = True"
   ]
  },
  {
   "cell_type": "code",
   "execution_count": 5,
   "metadata": {
    "execution": {
     "iopub.execute_input": "2024-11-03T14:03:54.303979Z",
     "iopub.status.busy": "2024-11-03T14:03:54.303537Z",
     "iopub.status.idle": "2024-11-03T14:03:54.359583Z",
     "shell.execute_reply": "2024-11-03T14:03:54.358890Z"
    }
   },
   "outputs": [],
   "source": [
    "# 7. 定义损失函数和优化器\n",
    "device = torch.device(\"cuda\" if torch.cuda.is_available() else \"cpu\")\n",
    "estim.model.to(device)\n",
    "loss_fn = nn.CrossEntropyLoss()\n",
    "optimizer = AdamW(filter(lambda p: p.requires_grad, estim.model.parameters()), lr=9e-4, weight_decay=0.05)"
   ]
  },
  {
   "cell_type": "code",
   "execution_count": 6,
   "metadata": {
    "execution": {
     "iopub.execute_input": "2024-11-03T14:03:54.362565Z",
     "iopub.status.busy": "2024-11-03T14:03:54.362067Z",
     "iopub.status.idle": "2024-11-03T14:03:54.422163Z",
     "shell.execute_reply": "2024-11-03T14:03:54.421476Z"
    }
   },
   "outputs": [],
   "source": [
    "import pandas as pd\n",
    "import numpy as np\n",
    "\n",
    "var_df = pd.read_parquet('../../sc_pretrained/var.parquet')\n",
    "all_genes = var_df['feature_name'].tolist()\n",
    "\n",
    "new_data = np.zeros((adata.X.shape[0], len(all_genes)), dtype=np.float32)\n",
    "\n",
    "adata.var['gene_name']=adata.var.index\n",
    "existing_genes = adata.var['gene_name']"
   ]
  },
  {
   "cell_type": "code",
   "execution_count": 7,
   "metadata": {
    "execution": {
     "iopub.execute_input": "2024-11-03T14:03:54.425083Z",
     "iopub.status.busy": "2024-11-03T14:03:54.424623Z",
     "iopub.status.idle": "2024-11-03T14:03:54.477943Z",
     "shell.execute_reply": "2024-11-03T14:03:54.477311Z"
    }
   },
   "outputs": [
    {
     "name": "stdout",
     "output_type": "stream",
     "text": [
      "匹配的基因数量: 17392\n",
      "匹配的基因列表: {'armc1', 'unc5d', 'fam117a', 'dpm3', 'c1orf141', 'smad9', 'sart3', 'znf628', 'rnf103', 'rnasel', 'akap9', 'tcim', 'gpx7', 'calb1', 'esd', 'scgb1a1', 'ereg', 'dnajc5g', 'hoxc12', 'tmem33', 'neurl1b', 'vsig2', 'mzt1', 'tlk1', 'mettl7a', 'sppl3', 'zc3h7a', 'muc3a', 'mctp2', 'ctsd', 'cd3e', 'obp2a', 'fancf', 'capn7', 'etv7', 'slc25a25', 'lgals8', 'txndc5', 'rab37', 'cfap43', 'gab4', 'ift27', 'gdf7', 'dll4', 'nfat5', 'tpra1', 'scand1', 'abcc8', 'lyn', 'gpalpp1', 'tmem238l', 'unc45b', 'prr19', 'ufl1', 'fam131b', 'pcgf5', 'sptan1', 'or4f6', 'krtap10-7', 'cldn12', 'pkp3', 'ccdc153', 'ptgs2', 'ammecr1l', 'sp140l', 'mark3', 'cldnd2', 'actn3', 'c2orf78', 'golph3l', 'megf8', 'il5ra', 'xirp1', 'tnfrsf12a', 'ddx20', 'scaf4', 'hltf', 'bad', 'zbtb6', 'slc7a3', 'gcnt2', 'rgs18', 'bud31', 'shisa9', 'wdr97', 'neto2', 'bin1', 'klf7', 'lilra1', 'snx12', 'sap30', 'nap1l5', 'rnf41', 'adarb2', 'rrp8', 'rpap2', 'znf716', 'tysnd1', 'trmt61a', 'ccdc201', 'cks2', 'msrb2', 'slc16a12', 'znf784', 'eea1', 'tars2', 'trank1', 'nt5c2', 'cc2d2b', 'samd11', 'fhad1', 'plekhm2', 'eml4', 'pros1', 'nadk2', 'csf2', 'znf202', 'anapc5', 'timmdc1', 'tent4a', 'hic1', 'tmem179b', 'rab18', 'sstr1', 'scg3', 'inpp5a', 'gpd1l', 'ybx1', 'or52h1', 'ubox5', 'gins4', 'uhrf1bp1', 'commd9', 'ube2d3', 'tlx1', 'picalm', 'rxfp3', 'zdhhc14', 'rab11fip1', 'agps', 'gclm', 'ttf2', 'il22ra1', 'efcab10', 'atg14', 'rela', 'fbxo25', 'zscan4', 'zpld1', 'lrrn1', 'ogfrl1', 'znf648', 'unc93a', 'syne3', 'phlpp2', 'cd300c', 'trappc9', 'prtfdc1', 'znf513', 'tmem218', 'irgq', 'lcn9', 'hhatl', 'pik3r6', 'asmtl', 'hnrnpa3', 'ccdc15', 'srpx2', 'taf12', 'jam2', 'mthfr', 'rims2', 'slc35b3', 'sdr16c5', 'acaa2', 'psg5', 'slc45a4', 'muc5b', 'aldh16a1', 'rgr', 'ptprs', 'inha', 'slc38a6', 'tsga10', 'elmod1', 'or10d3', 'crebl2', 'fntb', 'hebp1', 'galnt3', 'col16a1', 'dgka', 'dhrs12', 'ktn1', 'pgbd4', 'spem1', 'znf622', 'apobec3c', 'herc1', 'ivns1abp', 'tbpl1', 'klhl12', 'or6y1', 'pfdn5', 'nfatc2', 'lamb3', 'ankrd30bl', 'znf594', 'nmt1', 'pdia5', 'spred3', 'ell', 'mmp9', 'nrap', 'slc5a3', 'fam114a1', 'ctcf', 'tmem156', 'hmx2', 'itga2', 'fbl', 'tgs1', 'tmem138', 'sox7', 'pprc1', 'alad', 'nos1ap', 'draxin', 'ccdc198', 'nxnl1', 'zwilch', 'pknox2', 'mta3', 'hoxd3', 'sephs1', 'rsl24d1', 'sertad3', 'edf1', 'nfia', 'tmem200b', 'hnrnpk', 'nasp', 'c1ql4', 'rhpn2', 'tmem236', 'znf765', 'wrap73', 'cxcl10', 'scn2b', 'bst2', 'pwwp3a', 'nphs1', 'nrxn3', 'mcm3ap', 'or8b8', 'krtap19-8', 'inppl1', 'lama2', 'ndufs8', 'znf326', 'smco4', 'thap10', 'ceacam19', 'sfrp1', 'xpa', 'kiaa2013', 'prkab2', 'dnah8', 'tnfrsf11b', 'lin52', 'cdh11', 'pcdhb7', 'lpcat3', 'il27ra', 'cd200r1', 'ccin', 'cntnap1', 'crtap', 'osgin2', 'taar5', 'pmch', 'btaf1', 'sarnp', 'tusc1', 'map10', 'ramp2', 'mlph', 'atg12', 'ltn1', 'cldn17', 'cdh3', 'reck', 'atxn7l3b', 'c3orf80', 'tmem65', 'bdp1', 'plcxd2', 'mgst1', 'vamp8', 'sgms1', 'ttpa', 'atp1b4', 'dedd', 'stard7', 'hacd4', 'hcn3', 'klhl10', 'clcf1', 'or6f1', 'akap17a', 'suclg1', 'etaa1', 'tceal6', 'nipsnap2', 'tpcn2', 'wfikkn1', 'brd4', 'cd33', 'eif1b', 'cdc42ep3', 'ube2w', 'umod', 'sncaip', 'adam11', 'pdik1l', 'anxa6', 'usp32', 'c15orf62', 'spg7', 'top3b', 'ccdc17', 'krtcap3', 'ncoa2', 'gca', 'tshz3', 'araf', 'six1', 'map2k6', 'kcnq4', 'ston1', 'ly6d', 'abcb6', 'rxfp1', 'cdh4', 'pax8', 'sucla2', 'eif2b2', 'ptk6', 'pnma2', 'septin14', 'tubgcp4', 'tgfb3', 'pdpr', 'tlcd1', 'l3mbtl2', 'kcna3', 'trim40', 'sytl1', 'lrsam1', 'tmem220', 'znf844', 'znf79', 'il1rl1', 'mycbp2', 'mcat', 'txnl4a', 'ccne1', 'pdss2', 'glb1l2', 'shd', 'csde1', 'ip6k2', 'hspb3', 'efl1', 'dgkb', 'hap1', 'akt1s1', 'ghrl', 'rfx3', 'rbm25', 'slc38a11', 'eef1akmt4', 'sulf2', 'twnk', 'stk35', 'sbf2', 'zbed9', 'ints14', 'coch', 'mt-nd2', 'dyrk3', 'znf888', 'dpf1', 'znf775', 'pmfbp1', 'pctp', 'krt86', 'krtap3-1', 'slc1a4', 'tuba4a', 'znf148', 'prss37', 'tst', 'cdh22', 'tigit', 'csmd1', 'dnm3', 'stx10', 'trim63', 'etnppl', 'dctn2', 'wnt7a', 'snx7', 'enosf1', 'il6', 'enpp2', 'insig2', 'cd163l1', 'myl10', 'nob1', 'carmil1', 'pggt1b', 'tdg', 'krt25', 'pyurf', 'strbp', 'trappc10', 'cntn4', 'cyp2a7', 'l3mbtl3', 'gabrb3', 'csrnp2', 'znf518b', 'fkrp', 'scaf11', 'adipor1', 'gmeb2', 'spib', 'tex55', 'taf11l8', 'echdc1', 'clec19a', 'pik3r3', 'fbxo40', 'bpifb6', 'prag1', 'ube2l3', 'hacl1', 'cenpt', 'eif4a2', 'cog1', 'tmem9b', 'hsd17b12', 'actg2', 'phldb1', 'c12orf45', 'c1orf131', 'lrrc14b', 'lto1', 'mtrf1l', 'tppp', 'igf1r', 'ifngr2', 'tcl1b', 'exosc6', 'kcnk15', 'rapgef1', 'psmb6', 'fam135a', 'usp26', 'cdkn2a', 'yipf4', 'fam120a', 'adamts13', 'myo1h', 'spred1', 'krtap2-3', 'krt13', 'cox6b1', 'c4orf19', 'pcdha12', 'paaf1', 'tceal7', 'adi1', 'ankrd36', 'nt5e', 'bud23', 'ncor2', 'zfp36', 'pacs1', 'bbs5', 'blvrb', 'nap1l4', 'evi5l', 'lpar5', 'dis3l', 'ints6l', 'dhx57', 'c19orf47', 'chd2', 'stambpl1', 'rab4b', 'edar', 'cd209', 'arfgef2', 'f13a1', 'slc18a2', 'tnn', 'ehbp1l1', 'dip2a', 'kcnrg', 'myo5c', 'atg10', 'pou3f3', 'pappa', 'gipc3', 'rcc1', 'mgll', 'arap3', 'mettl27', 'dnah6', 'p3h2', 'fastk', 'gins1', 'tmprss9', 'septin9', 'chsy1', 'ubtd1', 'fbxl2', 'pcdha13', 'psmc5', 'pcdhga3', 'sp100', 'nipal2', 'slc2a3', 'mat1a', 'c8b', 'gpn1', 'casr', 'polr3e', 'rpa4', 'morf4l2', 'capn5', 'flna', 'spp1', 'gpr31', 'ywhaz', 'hoxa6', 'naprt', 'or2b2', 'adamts8', 'asah1', 'nop56', 'rp9', 'frmpd4', 'plxnc1', 'acsbg2', 'sytl3', 'wfdc10b', 'ralgps1', 'helz2', 'mvp', 'prelid2', 'mtfr1', 'rnf122', 'lce1a', 'vmo1', 'r3hdm4', 'ilf3', 'adgrg4', 'ccdc92', 'prr20g', 'lhfpl2', 'il27', 'il20', 'pnpla7', 'pou1f1', 'clspn', 'reps1', 'znf419', 'evi2a', 'ip6k1', 'lrfn1', 'tmem35b', 'pcdha11', 'znf827', 'selp', 'wipi2', 'fabp5', 'fam3d', 'paox', 'ccr2', 'fkbp10', 'khk', 'klrd1', 'bcl2', 'tmem175', 'gnptab', 'vps35l', 'spire2', 'xab2', 'stat3', 'dcaf6', 'mok', 'ncaph', 'ostn', 'sec24d', 'caprin2', 'rnf141', 'bcl7b', 'scyl3', 'snai3', 'gpld1', 'gpr26', 'chi3l1', 'ciao2b', 'smdt1', 'npw', 'slc25a30', 'serp2', 'slc44a4', 'mllt3', 'ankle2', 'wdr41', 'znf791', 'aadacl2', 'tpd52l1', 'slc19a1', 'nlrp10', 'tmem249', 'cep192', 'hsd3b2', 'gnal', 'cdipt', 'dio3', 'tunar', 'rtn3', 'mmd2', 'kctd8', 'cblb', 'fam47e', 'tas2r42', 'ripply2', 'slc14a2', 'ror1', 'olig2', 'usp2', 'ppp1r2c', 'f3', 'tmem60', 'kctd19', 'epc2', 'c2cd4a', 'arsd', 'gnaq', 'six4', 'wnt2b', 'rbbp8', 'prrg4', 'cd151', 'dipk1b', 'pycard', 'c2cd2l', 'ddo', 'pkp4', 'xbp1', 'or10g2', 'septin8', 'fgfbp2', 'pitpnm1', 'acvr1b', 'mbip', 'atp2a1', 'stk10', 'znf470', 'glyctk', 'tkfc', 'zfyve26', 'abca12', 'clec5a', 'ahcyl1', 'rabggtb', 'mier3', 'atp6v1g1', 'nudt18', 'dbndd1', 'smim24', 'prss22', 'znf585b', 'znf347', 'fam118a', 'spats1', 'rfx6', 'c1orf159', 'sidt2', 'rab6a', 'rasgef1c', 'rad17', 'rab3gap2', 'ncbp1', 'slc33a1', 'stoml3', 'mmd', 'rtbdn', 'znf555', 'hpn', 'kif21a', 'wipi1', 'tmprss11a', 'znf285', 'clpp', 'sp2', 'trpm1', 'cdca2', 'or52b4', 'defb4a', 'plpp5', 'tesk2', 'hvcn1', 'nthl1', 'fshb', 'efcab1', 'plcl2', 'pxn', 'nckipsd', 'slc12a9', 'msmp', 'acaca', 'dhfr2', 'tprn', 'prdx6', 'saal1', 'tnks1bp1', 'med6', 'hnf4g', 'smim35', 'ccnf', 'marf1', 'klhl15', 'slc25a10', 'hcrtr2', 'azin1', 'nr1h2', 'hcfc1r1', 'rfc2', 'spink5', 'syt6', 'arfip1', 'chdh', 'pak6', 'axin1', 'spata18', 'ubxn11', 'ppm1m', 'gper1', 'pdcd1lg2', 'ccdc3', 'rnf17', 'micos13', 'rbp3', 'elp3', 'erbb4', 'ovch2', 'clec4c', 'bcdin3d', 'fxr2', 'pik3c2b', 'kmt5b', 'nat2', 'uvssa', 'coasy', 'gtf3c6', 'dclk3', 'samd12', 'atp8b1', 'hps5', 'ercc6l', 'brms1', 'lrrc52', 'tmem63c', 'tmem51', 'tmem144', 'camta1', 'magi3', 'tcf20', 'gale', 'phip', 'itk', 'pgk2', 'numa1', 'kif26b', 'ap3m2', 'capns2', 'slc38a7', 'or1d2', 'tnrc6c', 'cacna1i', 'zscan23', 'dnah14', 'prtg', 'cox11', 'tcl1a', 'znf586', 'sirt2', 'gpc5', 'tmem61', 'tmem132b', 'suds3', 'arntl2', 'myh8', 'sdccag8', 'slc25a4', 'pga5', 'slc27a3', 'nlrp13', 'clock', 'mfsd8', 'kif1b', 'fermt2', 'c3orf70', 'sptssb', 'rom1', 'meox1', 'cxcl13', 'mxra7', 'c19orf54', 'rilp', 'med31', 'sumo3', 'rimbp3b', 'mbd3l2b', 'tnxb', 'emcn', 'abtb2', 'cmklr1', 'atp5f1a', 'lrrc25', 'mios', 'doc2a', 'dedd2', 'stk32a', 'slc24a2', 'prxl2c', 'sardh', 'tmem11', 'hipk4', 'lilra2', 'ccl17', 'st14', 'syne4', 'c2cd2', 'c9orf64', 'agtr2', 'mettl4', 'slc9a2', 'cep70', 'ribc1', 'ocrl', 'evx1', 'foxo6', 'afap1l1', 'jmjd1c', 'trpc4', 'fbxo30', 'e2f7', 'thpo', 'yae1', 'rtn4r', 'csrnp1', 'c6orf47', 'nt5dc4', 'nrbf2', 'dpm1', 'pla2g2a', 'stk32b', 'elf1', 'tnnt1', 'lin7a', 'tbx19', 'fam131a', 'c8orf34', 'zbtb44', 'pla2g1b', 'tmed3', 'asb3', 'clint1', 'csmd2', 'trpc5os', 'rab3b', 'rbm42', 'nlrp11', 'plch2', 'apoa2', 'pomt1', 'cfhr4', 'zbtb38', 'cacna1b', 'acot9', 'cmc1', 'peak3', 'fscn3', 'rbm15', 'tie1', 'txnip', 'prpf40a', 'ccl16', 'odr4', 'anp32b', 'plpp7', 'otop2', 'sobp', 'ubald2', 'c8orf33', 'actr1a', 'slc38a5', 'cd38', 'plk4', 'cfap45', 'or52n4', 'lim2', 'pydc2', 'gpr37', 'kif2a', 'brsk2', 'cdc42bpg', 'znf10', 'slc5a1', 'piwil2', 'clcn7', 'dnaja1', 'nphs2', 'mc2r', 'psd3', 'rfpl4a', 'smim14', 'anhx', 'ttll9', 'cdk11b', 'ubn2', 'znf365', 'scgb1d1', 'nkrf', 'grhl1', 'pigs', 'dclre1c', 'adipor2', 'ppp6c', 'fam118b', 'zdhhc22', 'fabp6', 'runx1t1', 'tas2r50', 'cdnf', 'wdr25', 'c18orf54', 'lama1', 'zscan20', 'gamt', 'carm1', 'cryga', 'cntnap3b', 'fbxo48', 'creb3l3', 'adgrg2', 'rtcb', 'med16', 'kdm5c', 'ubiad1', 'slc11a2', 'chac2', 'prox1', 'ccdc188', 'p4ha1', 'snx31', 'upp2', 'tbc1d2b', 'znf536', 'kiaa1671', 'lyrm1', 'tfg', 'ostf1', 'oosp1', 'rnf220', 'vopp1', 'nlrp9', 'tmcc1', 'dock9', 'krtap7-1', 'crygc', 'wdr24', 'unc119', 'flt1', 'znf30', 'arhgef1', 'serf2', 'nme1', 'gng2', 'dok7', 'ccdc73', 'lysmd4', 'znf500', 'nabp2', 'cspp1', 'ube2j2', 'zhx2', 'prkcd', 'pgm2l1', 'raly', 'msc', 'kcna7', 'pfdn4', 'brf2', 'plekhd1', 'ube2m', 'meig1', 'cdc27', 'klk10', 'cyb561d1', 'slc22a6', 'krt77', 'bbof1', 'adam23', 'b4galnt3', 'prune1', 'aph1b', 'kcnip1', 'sinhcaf', 'gype', 'fut8', 'ptprt', 'cdr2', 'steap3', 'slamf6', 'src', 'cdk5rap1', 'slc25a39', 'st7l', 'bet1', 'loxl4', 'c22orf23', 'vwa5b2', 'scaf8', 'hoxd1', 'usp35', 'pdgfd', 'atf7', 'tomm7', 'ppp5c', 'ndufa1', 'kcnv2', 'proser1', 'scrn3', 'prr18', 'anapc16', 'sec61b', 'repin1', 'csnk2a2', 'gp1bb', 'lrrc34', 'thy1', 'polr1c', 'ap3b2', 'lax1', 'spred2', 'stk38l', 'dlg4', 'ggh', 'malrd1', 'nexmif', 'rtl6', 'tdrd1', 'prkd1', 'tut4', 'or2ag2', 'pparg', 'igfbp3', 'fam98a', 'limk1', 'jag2', 'xrcc6', 'lrrc1', 'kiaa1841', 'c4orf46', 'nudt12', 'gfi1b', 'coro6', 'mbd6', 'pelp1', 'strn', 'fam83c', 'mxra8', 'mdk', 'nlrp12', 'gsta3', 'cacna1s', 'bcr', 'prr35', 'kpna5', 'chi3l2', 'vdac1', 'oscar', 'vwc2', 'bptf', 'fance', 'nip7', 'rab40b', 'lalba', 'znf425', 'nudt16l1', 'brpf1', 'bcl7c', 'rrp1b', 'atf2', 'smurf1', 'cggbp1', 'foxm1', 'c9orf16', 'dcp2', 'ivl', 'znf587', 'uck1', 'znf699', 'sh2d6', 'rbbp9', 'c6orf58', 'krt6a', 'fam83g', 'casp10', 'rfng', 'rrs1', 'tpm2', 'kank1', 'lmntd2', 'smug1', 'mapre2', 'c15orf39', 'c4orf17', 'rad54l', 'ildr1', 'spam1', 'pigz', 'dolpp1', 'psap', 'c10orf143', 'pex11a', 'tmem127', 'dtx2', 'trip11', 'sla2', 'was', 'gtpbp3', 'arl6ip1', 'zbtb9', 'efemp1', 'pmm1', 'pnma6f', 'g6pc2', 'nup35', 'dagla', 'nmnat1', 'tsen2', 'rasgrf1', 'ttc13', 'or52n2', 'pom121c', 'alg9', 'erich1', 'als2', 'piwil4', 'pmf1', 'kcnmb2', 'spock3', 'pafah1b1', 'depp1', 'zfp28', 'neo1', 'atp5pb', 'nbl1', 'c6orf163', 'gnao1', 'frmd5', 'stau1', 'ier2', 'crx', 'atr', 'pramef6', 'gabrg2', 'cd5l', 'spata16', 'sctr', 'gjb2', 'loxhd1', 'slc2a12', 'srbd1', 'znf763', 'morf4l1', 'anxa8', 'slc6a6', 'ccdc9', 'ksr1', 'sqor', 'klhl41', 'ankrd13d', 'ccdc96', 'rnf135', 'tgfb1', 'tbl1x', 'kiaa0586', 'podn', 'lce5a', 'myl6b', 'plekhf2', 'ninl', 'mettl8', 'daglb', 'akap5', 'pcolce', 'syt8', 'nr0b2', 'nhsl2', 'fhl2', 'hif3a', 'zc3h10', 'strn4', 'cnksr3', 'ttbk2', 'dcbld2', 'smyd4', 'tmem54', 'rad54l2', 'slc8b1', 'fmo1', 'sohlh1', 'c11orf65', 'abr', 'lyrm4', 'itgad', 'disc1', 'mtif2', 'nup62', 'rad18', 'gm2a', 'atp2b1', 'nipsnap3b', 'mcm8', 'ppbp', 'ube3a', 'ccdc172', 'gkn2', 'cd276', 'baalc', 'prkcg', 'c19orf33', 'ang', 'wdr13', 'slc30a3', 'gltpd2', 'depdc7', 'lat2', 'tnfrsf9', 'tmem151b', 'sfn', 'b3galnt1', 'tex54', 'gas2l2', 'agpat1', 'wee2', 'dsg1', 'arhgef25', 'siva1', 'ar', 'c4orf33', 'ythdf2', 'acad10', 'arl8b', 'slc15a4', 'b4galt3', 'icam1', 'psg3', 'or5t1', 'ercc6l2', 'atg4c', 'ssr3', 'tpst1', 'cst2', 'hp1bp3', 'stau2', 'maged1', 'btla', 'ldb1', 'mapk9', 'elovl6', 'c1orf232', 'pdzd2', 'bckdk', 'abce1', 'pxdc1', 'sp8', 'sdf4', 'fzd3', 'bcam', 'tmem39b', 'nnt', 'znf619', 'nckap1', 'cbln3', 'josd1', 'rab17', 'mdm2', 'slmap', 'nle1', 'r3hcc1', 'ifi35', 's1pr4', 'smc1b', 'ferd3l', 'nt5c', 'arl16', 'mocos', 'ppa2', 'mt1a', 'ceacam1', 'stc1', 'map3k14', 'aqp2', 'ntn4', 'zic5', 'alg3', 'acss1', 'slc2a10', 'slc8a2', 'arhgap18', 'serac1', 'afm', 'muc4', 'ccnd3', 'trip4', 'ormdl1', 'hsfx4', 'exoc1', 'hnf1a', 'taf4b', 'sirt4', 'rfx1', 'jsrp1', 'klhdc9', 'glg1', 'nosip', 'pycr2', 'acsl3', 'cstl1', 'rnf126', 'pcdha10', 'aqp7', 'hbm', 'slc43a2', 'slc24a4', 'eif3m', 'snip1', 'mboat2', 'lasp1', 'ctage1', 'sgta', 'mcmbp', 'idi2', 'slc7a9', 'aox1', 'atf4', 'dgkd', 'znf33b', 'nrsn1', 'fn1', 'dbndd2', 'nadk', 'cdc42ep4', 'c3orf56', 'il22ra2', 'rnf182', 'mal', 'il1a', 'ifi16', 'exoc6b', 'tspan9', 'fbxo17', 'fndc3a', 'slc30a2', 'rims3', 'col9a2', 'chst12', 'dpp10', 'uqcrb', 'sp5', 'bok', 'nudt7', 'gpr4', 'zscan5a', 'srpx', 'znf185', 'larp4b', 'spopl', 'sp6', 'efna2', 'plxna2', 'ppm1f', 'fam83e', 'has3', 'upp1', 'bmt2', 'cnep1r1', 'topors', 'greb1l', 'nefl', 'ccnl2', 'gnai2', 'psme1', 'kel', 'dnajc16', 'adhfe1', 'vegfa', 'ptdss2', 'tub', 'ryk', 'arap1', 'card18', 'galnt13', 'sox12', 'pfn2', 'tmem250', 'znf490', 'c9orf43', 'muc17', 'acy1', 'hs3st2', 'eef1g', 'map4k1', 'cdca7', 'ddx55', 'zbed4', 'septin11', 'krtap5-9', 'tuba3e', 'ccdc136', 'bex2', 'cd86', 'tnnt2', 'narf', 'rph3a', 'rnf214', 'wnk1', 'cyyr1', 'rpa2', 'lck', 'traf6', 'strip1', 'rspo2', 'rcan2', 'clasrp', 'nrg1', 'npy2r', 'nr2c2ap', 'scd', 'ifit3', 'gsx1', 'krtap1-3', 'lman1', 'stard3', 'ifnlr1', 'mcts1', 'cnpy3', 'acer3', 'nrde2', 'nphp3', 'tmem87a', 'or2t12', 'pja2', 'naa80', 'c7orf61', 'pcdh20', 'acan', 'mc4r', 'hsp90aa1', 'svep1', 'rmnd5a', 'cd99', 'krt4', 'grin3a', 'yy1ap1', 'lxn', 'c4bpb', 'mepe', 'dscam', 'trappc3', 'mier1', 'kbtbd7', 'ppat', 'cda', 'pm20d2', 'pofut2', 'txndc17', 'msx2', 'acyp2', 'pabpc5', 'gga3', 'znf582', 'tmem232', 'zbtb33', 'rwdd3', 'mgat4c', 'snx22', 'lrch1', 'rac1', 'nalcn', 'cdh9', 'hsd17b11', 'cep83', 'c11orf68', 'atp7a', 'rnasek', 'mln', 'pgf', 'iqgap1', 'efcab9', 'odf3b', 'znf680', 'usp17l3', 'rab28', 'nfatc3', 'bri3', 'zswim8', 'dctn4', 'sgsm2', 'msantd1', 'cdhr4', 'ccdc192', 'iqck', 'rapgef6', 'ikbke', 'eif4e3', 'hdhd5', 'mstn', 'sort1', 'rfx5', 'spaca6', 'trpc1', 'gfm2', 'phlda2', 'rbp7', 'rnf128', 'gtf2a2', 'gsdma', 'lrrc75a', 'pdk1', 'zxdb', 'or1n2', 'rnf39', 'wdr48', 'ncln', 'spaca4', 'foxp1', 'phactr4', 'med23', 'fbxo5', 'atg13', 'nedd8', 'ntrk1', 'plekho2', 'lin54', 'ascl1', 'clec20a', 'coq9', 'batf', 'dnaja3', 'kif13b', 'cdh18', 'hr', 'fdxr', 'sipa1l1', 'hes6', 'nrk', 'nmd3', 'znf286a', 'slc7a11', 'c1orf52', 'gabrb2', 'p2ry6', 'antxrl', 'degs1', 'ttc8', 'ticam1', 'prg2', 'mt-cyb', 'plcd1', 'tmem190', 'tmem117', 'esx1', 'iqce', 'cfd', 'bcas4', 'gcgr', 'ifng', 'tmem14c', 'dtymk', 'c3orf85', 'crls1', 'znf292', 'gpr32', 'slc45a1', 'igfals', 'csnk2b', 'adgrb3', 'gsc', 'pgam2', 'ccdc69', 'ccdc169', 'chp1', 'angptl8', 'ercc3', 'lrrc17', 'fhod1', 'tax1bp3', 'osbpl9', 'coq5', 'slc13a2', 'hoxc13', 'wdr74', 'ngef', 'ervk3-1', 'rgn', 'cops5', 'dusp12', 'gramd1a', 'nlrp2b', 'ecscr', 'abcb7', 'deaf1', 'u2af2', 'pcdhga9', 'pglyrp3', 'r3hdm2', 'myo19', 'crp', 'il1rapl2', 'ttll3', 'rer1', 'rexo4', 'tmed2', 'cpne2', 'eif4a1', 'mlxipl', 'rnf212b', 'tgfbi', 'dync1i2', 'c1qtnf7', 'tmem200a', 'psma4', 'liph', 'smg1', 'mri1', 'enc1', 'eef1e1', 'magi1', 'ggnbp2', 'mpi', 'zp2', 'tm4sf20', 'kifc1', 'amigo1', 'txlnb', 'rab3c', 'hspa14', 'tmem207', 'dnd1', 'cdv3', 'hdac2', 'adcyap1r1', 'cpq', 'eddm13', 'lyzl6', 'spcs1', 'ifna14', 'asb9', 'ddx43', 'fgf8', 'tyr', 'entpd4', 'cldn18', 'tsfm', 'micu2', 'trim62', 'prima1', 'bmp4', 'pla2g15', 'tex43', 'dnajc6', 'dnajc9', 'acox3', 'c6orf52', 'flnc', 'gimap1', 'c15orf65', 'per1', 'fcmr', 'rnf157', 'zcchc3', 'glud1', 'kmt2c', 'tnnc2', 'odf1', 'mbd4', 'bub1', 'snx25', 'tmem72', 'znf821', 'epm2a', 'psg6', 'klk15', 'chodl', 'ypel5', 'gramd2b', 'slc37a3', 'gdap1', 'fitm2', 'mb', 'col4a2', 'sox8', 'padi4', 'chchd6', 'reg4', 'or2t27', 'hpgds', 'lrwd1', 'sall4', 'lag3', 'borcs8', 'brwd3', 'pdss1', 'cxcl11', 'atp23', 'rhce', 'setdb1', 'il21r', 'ilf2', 'pogk', 'fcn3', 'ccdc97', 'tspear', 'acad11', 'ankrd12', 'guf1', 'rcn2', 'magt1', 's1pr3', 'znf618', 'aqr', 'palm', 'pex19', 'dcaf12l1', 'nenf', 'znf337', 'pigt', 'or2t11', 'vxn', 'scyl1', 'resp18', 'slc51b', 'guca1b', 'eif4e1b', 'rdh16', 'spata31d3', 'rxylt1', 'iba57', 'xrn1', 'sell', 'ttc30a', 'spata20', 'shroom4', 'dhrs13', 'psmc2', 'mapkap1', 'melk', 'tac1', 'tmem165', 'zmiz1', 'stat1', 'gdf3', 'zc3h12a', 'nfe2l1', 'or5an1', 'lhb', 'katnb1', 'anxa9', 'minar2', 'camk2n1', 'tchh', 'svop', 'dqx1', 'idua', 'deptor', 'htatsf1', 'fam24a', 'ankra2', 'fhdc1', 'alx3', 'hsf1', 'sh2d1a', 'psen1', 'arvcf', 'hp', 'pgk1', 'wdfy3', 'stk39', 'crb2', 'cyp2r1', 'lsm12', 'vwde', 'pitrm1', 'znf14', 'prame', 'thnsl2', 'ebln2', 'marveld3', 'il13', 'ccdc90b', 'trpv3', 'col2a1', 'tinag', 'kcnj14', 'cntnap3', 'ccdc62', 'mettl21c', 'tmem171', 'znf83', 'nek3', 'tbc1d10b', 'necap2', 'ube2j1', 'samd9l', 'sohlh2', 'tmem235', 'pi4k2b', 'tfip11', 'cdr1', 'tex261', 'myo16', 'chst10', 'mro', 'ticrr', 'fam217b', 'pudp', 'itgb4', 'cfap74', 'pxdnl', 'atp2b2', 'sh3pxd2a', 'vegfc', 'tspan3', 'riox2', 'cenph', 'znf519', 'pipox', 'rad52', 'prcd', 'bzw2', 'lrrcc1', 'specc1', 'tspyl2', 'znf776', 'rhbg', 'abca7', 'cd40lg', 'nog', 'pold4', 'ltb4r', 'itga9', 'nme6', 'fchsd1', 'arl1', 'krt78', 'atg9b', 'nhlh1', 'tspan1', 'manba', 'ubxn8', 'fut10', 'hrct1', 'epha5', 'map1lc3a', 'c15orf61', 'pkd2l2', 'zp1', 'zfyve16', 'cryab', 'kdm2b', 'fkbpl', 'fbn1', 'manbal', 'aadac', 'pxk', 'dcdc2b', 'smim12', 'calcoco2', 'dnah3', 'rexo2', 'or5k2', 'map3k19', 'st8sia1', 'pus7', 'atp5f1b', 'psmb8', 'uncx', 'pole2', 'plvap', 'rassf6', 'mc3r', 'otud5', 'mpp6', 'spock2', 'spats2', 'xylt2', 'slc29a4', 'sec61a1', 'cd70', 'terb1', 'snx13', 'il33', 'prrc1', 'uros', 'tradd', 'kpna6', 'tmco2', 'znf687', 'wdr45b', 'surf4', 'mcoln1', 'gria3', 'sgsm1', 'lin9', 'ddt', 'mfsd12', 'kdelr3', 'dbx2', 'mgst3', 'mlf2', 'klk12', 'pacsin3', 'srebf1', 'kbtbd3', 'gfpt2', 'eddm3b', 'ednra', 'mycn', 'pdzrn3', 'chpf2', 'mtmr6', 'cptp', 'lce3d', 'afdn', 'nfe2l3', 'zmynd19', 'znf107', 'ephx1', 'dnajc27', 'pik3r5', 'has2', 'tex14', 'pla2g5', 'klf9', 'sptssa', 'ccdc71', 'nipal1', 'wrnip1', 'bpi', 'gmfb', 'uxs1', 'znf316', 'ascc2', 'tekt3', 'aldh3b1', 'jpt1', 'dmrt3', 'gpatch2l', 'tbc1d14', 'atp6v0d1', 'coro1c', 'atp6v1d', 'pigu', 'lmnb2', 'man2a2', 'slit3', 'hs6st2', 'bcl2l12', 'tmem125', 'trmt1', 'cdk17', 'adh5', 'znf317', 'vezt', 'synpo2l', 'slc44a3', 'nmrk1', 'spsb4', 'znhit2', 'bcl11b', 'dym', 'smpdl3b', 'lclat1', 'rnf112', 'nr4a1', 'cenpx', 'anp32e', 'ren', 'crygd', 'zbtb2', 'cpt2', 'cct2', 'ethe1', 'rnf5', 'sh3bgrl', 'dtx4', 'lgi2', 'lrrc41', 'chst6', 'lmf1', 'kpna2', 'fpr2', 'rsbn1', 'or2l13', 'ninj1', 'rida', 'or13c3', 'topaz1', 'cemip2', 'enpp1', 'amz2', 'ulk4', 'c11orf95', 'capg', 'dmxl2', 'chid1', 'kcns1', 'krtap10-11', 'mov10', 'vat1', 'ccnk', 'ubap2', 'usp31', 'tma7', 'kpna3', 'ttc39b', 's100a1', 'gp9', 'znf275', 'orm2', 'prpf8', 'primpol', 'c6orf226', 'mmp7', 'or10ad1', 'psmc4', 'arhgef2', 'spata12', 'fam160b1', 'cadm2', 'epyc', 'trpv4', 'glipr1l1', 'srf', 'prdm4', 'hoxb7', 'wdr93', 'armcx4', 'ivd', 'fam171b', 'septin2', 'abtb1', 'c9orf116', 'lrch4', 'ctnnbl1', 'epb41l4b', 'ptprr', 'naa16', 'dnajc8', 'pcdh18', 'pom121', 'tacc3', 'slco1c1', 'psmc6', 'serpinb3', 'ndrg3', 'got1l1', 'caps', 'tgif2', 'cbx3', 'ap1g1', 'fibin', 'pdcd1', 'dcst2', 'zmpste24', 'osr1', 'ebna1bp2', 'mycbp', 'usp48', 'coro1a', 'pcolce2', 'birc5', 'ipo9', 'kcnb2', 'meis2', 'cherp', 'slc12a8', 'srp68', 'cyp8b1', 'ctsv', 'paqr6', 'camsap2', 'krtap10-3', 'mbd3', 'med30', 'pfdn2', 'gar1', 'treh', 'or4a5', 'acta1', 'rin1', 'fip1l1', 'lacc1', 'ric3', 'grm5', 'trappc8', 'mgat1', 'vsx2', 'pomt2', 'armh1', 'c22orf42', 'il4i1', 'tk2', 'rsph1', 'gen1', 'areg', 'adam22', 'myo1d', 'chd1', 'ttc30b', 'dusp15', 'ush1c', 'uqcr10', 'vash2', 'kcnj16', 'fundc2', 'rnf144a', 'hcn1', 'cdc73', 'npipb15', 's100a4', 'rnf130', 'gmeb1', 'coq4', 'cfap47', 'slc5a12', 'lipf', 'tcf15', 'smpx', 'rhof', 'ankrd35', 'brix1', 'tigd4', 'pacrg', 'cluap1', 'kat14', 'polr2l', 'acss2', 'armc5', 'slc26a3', 'isy1', 'sypl1', 'rnf7', 'gsta5', 'epdr1', 'haus3', 'galm', 'cbr4', 'dsc2', 'ddost', 'psenen', 'prkn', 'tmem216', 'sag', 'nrxn1', 'gtf2f1', 'timp4', 'arl3', 'mmp17', 'armc3', 'sf3b3', 'iqca1', 'patl2', 'znf266', 'etdc', 'tubb', 'golga7b', 'amhr2', 'znf780a', 'tnfrsf11a', 'catip', 'smim19', 'tmem196', 'wdr59', 'tor1aip1', 'hspbap1', 'nvl', 'defb112', 'mturn', 'pdxk', 'paip2b', 'pus3', 'clec1a', 'lcor', 'gdf2', 'cog3', 'ccr10', 'pttg1ip', 'pnma3', 'add1', 'ociad1', 'ncstn', 'coro2a', 'trmu', 'znf217', 'oma1', 'znf507', 'g6pd', 'izumo1r', 'cgn', 'kcnq3', 'fmc1', 'enah', 'ddx1', 'chrnb2', 'pcdhgb6', 'rcc1l', 'ptrh2', 'c1qtnf1', 'calm3', 'nelfe', 'ubr2', 'pank4', 'dll3', 'dxo', 'nabp1', 'ddx11', 'nipsnap3a', 'banp', 'slc35f6', 'ms4a4a', 'ubald1', 's100a5', 'ube2ql1', 'pbrm1', 'mcf2l', 'irf8', 'basp1', 'ttc9b', 'mep1a', 'znf852', 'armh2', 'vps13b', 'fam222a', 'ubxn2a', 'wdr90', 'cdkn1c', 'plekha3', 'prl', 'mtnr1a', 'pdpn', 'lacrt', 'ccdc78', 'tmem39a', 'lhfpl1', 'slco3a1', 'thnsl1', 'dtx3l', 'map6d1', 'fgf10', 'stmn2', 'nelfb', 'fam50a', 'lnx1', 'krtap19-3', 'egr4', 'arfgap1', 'mettl15', 'klk4', 'use1', 'natd1', 'dmkn', 'orc3', 'alox15', 'serpine2', 'znf564', 'rrp12', 'taar9', 'adat2', 'ccdc12', 'cyp39a1', 'nedd1', 'nudt21', 'ripor1', 'tfap4', 'traf4', 'tmc6', 'ptpro', 'naga', 'ak5', 'plac8l1', 'slc12a4', 'scgb2a1', 'abcc9', 'dennd4c', 'gpx4', 'pcdh11y', 'aup1', 'il9r', 'tsr1', 'phb2', 'ssna1', 'tmem62', 'myef2', 'zdhhc21', 'znf431', 'ptgis', 'trappc11', 'mmp27', 'myl12a', 'slc34a3', 'scaf1', 'clec4e', 'stag2', 'dyrk1b', 'cisd3', 'b3galt6', 'gjb4', 'mansc1', 'pnrc1', 'wnk4', 'asb12', 'iqcf1', 'extl2', 'polr2d', 'ift20', 'akap1', 'wnt8b', 'slc8a1', 'birc3', 'frs3', 'fktn', 'prkcsh', 'c1qtnf9', 'il36g', 'papolb', 'l3hypdh', 'mcidas', 'ctxn3', 'lmbr1l', 'gnptg', 'lrp8', 'gpi', 'mageb18', 'cactin', 'sh2d2a', 'plekhm3', 'ap1g2', 'amotl1', 'arhgap42', 'smarcd1', 'cdip1', 'hspa2', 'cst5', 'vstm2b', 'stra8', 'tmem108', 'adpgk', 'mef2b', 'cdh26', 'dct', 'xpr1', 'map2k2', 'zkscan5', 'hipk2', 'slc25a32', 'c16orf70', 'sap25', 'st3gal1', 'btbd17', 'ldlrad1', 'itpkc', 'snrnp48', 'susd5', 'fn3k', 'brpf3', 'mocs1', 'fkbp7', 'prrc2c', 'slc22a11', 'akr1d1', 'cdk2ap1', 'mthfd1', 'coa3', 'apba1', 'defb114', 'thumpd1', 'pole4', 'trim61', 'man2a1', 'atf1', 'cage1', 'mitf', 'slc2a13', 'mfng', 'mtfp1', 'kidins220', 'nectin3', 'id4', 'slc7a10', 'sap30l', 'rbmxl1', 'or6n2', 'nhlrc2', 'stxbp4', 'pcdha5', 'itln2', 'c1qtnf2', 'srpra', 'pln', 'cers2', 'or4d10', 'kcne3', 'aig1', 'znf623', 'emc9', 'rnf24', 'tas2r1', 'jarid2', 'ankle1', 'phex', 'p2ry11', 'mier2', 'crot', 'cacng4', 'hspa8', 'psd2', 'plin4', 'safb2', 'ranbp3l', 'supt4h1', 'cep85l', 'smcr8', 'tmem143', 'tfdp1', 'sirpg', 'hspa13', 'lrg1', 'rtl5', 'wdr44', 'hmces', 'or52b6', 'mff', 'elspbp1', 'ccdc127', 'ptpn20', 'pcdhb3', 'smkr1', 'ms4a7', 'pmpcb', 'pzp', 'vrk2', 'atp13a4', 'nfkbie', 'nxph4', 'tnfrsf8', 'elavl4', 'fam89a', 's1pr1', 'ephb4', 'fgfr1', 'ccdc47', 'atp6ap2', 'lrp3', 'slc22a7', 'arrb2', 'slc4a3', 'fam53a', 'eef1aknmt', 'slc16a10', 'lurap1', 'ptpn23', 'armc2', 'mpo', 'znf729', 'ascl3', 'fam3a', 'ext2', 'hspe1', 'pim2', 'kcnj3', 'znf343', 'ints3', 'lsm6', 'fam163b', 'yars2', 'parp2', 'nbpf11', 'myom3', 'gpr33', 'chrnb1', 'madd', 'kat2a', 'rln3', 'sapcd2', 'hectd2', 'znf677', 'cps1', 'rack1', 'cttnbp2', 'septin12', 'tjp1', 'ripor2', 'fam184a', 'gdpd5', 'evx2', 'vps18', 'slc26a11', 'srxn1', 'znrf2', 'nnat', 'smim29', 'slc7a4', 'nbeal1', 'dph6', 'msln', 'acot7', 'camk1', 'p2ry10', 'dnajb8', 'npas3', 'rab3ip', 'bnipl', 'pilrb', 'rtn4rl2', 'sec22b', 'cep170', 'isl1', 'rrp36', 'myrfl', 'samd3', 'dck', 'tmem120a', 'idh1', 'mtmr9', 'meaf6', 'gprc5a', 'hcfc2', 'gstt4', 'acot1', 'fam160a1', 'glipr2', 'vps8', 'pcdh19', 'dffb', 'hook1', 'tnp2', 'abca3', 'mfsd4a', 'znf184', 'ctxn2', 'mthfd2', 'dpy19l1', 'vsig1', 'tmigd2', 'tab3', 'ptpn6', 'emid1', 'rtl8b', 'dlk2', 'etfbkmt', 'vsig10l', 'trim38', 'paqr7', 'sh3glb2', 'mageb6', 'sfxn5', 'fadd', 'bnip2', 'cables2', 'uba5', 'ahr', 'il10ra', 'efcab6', 'rbbp4', 'nipal3', 'sigmar1', 'cyp20a1', 'nop16', 'eef1a2', 'rnf25', 'alpk1', 'fbxo45', 'fbxw4', 'gcnt7', 'mettl2a', 'tmem25', 'syn2', 'gpatch8', 'tbc1d31', 'vps54', 'slc22a18', 'ddx52', 'ess2', 'tmod4', 'sprr1b', 'cd81', 'prrg2', 'ptpdc1', 'neu1', 'spata1', 'shpk', 'spint2', 'apoa1', 'krt7', 'or4x1', 'tfap2a', 'ifngr1', 'tram2', 'higd1c', 'dnajc1', 'wdr11', 'spag7', 'hoxb1', 'cenpu', 'ryr1', 'shkbp1', 'nck1', 'znf787', 'tmem253', 'ovol2', 'hacd2', 'gaa', 'rab5if', 'trim42', 'lama4', 'pcmtd2', 'aarsd1', 'kif2b', 'st3gal6', 'rsrc2', 'slc25a51', 'niban2', 'pgd', 'znf394', 'sec16a', 'sugct', 'rnf138', 'glt1d1', 'ccr8', 'pip', 'tyrp1', 'erc1', 'lrrfip2', 'crkl', 'ms4a3', 'cdpf1', 'arhgef37', 'qsox2', 'wdr64', 'barx2', 'tpcn1', 'gdf10', 'dlx2', 'p2rx3', 'prox2', 'cybrd1', 'atic', 'heatr5a', 'amfr', 'vrk3', 'rnf149', 'tfap2d', 'arid4a', 'usp24', 'ttc28', 'sptlc2', 'nol11', 'pkp1', 'ctnnal1', 'atp6v0a2', 'ctf1', 'knop1', 'rad51d', 'ptprz1', 'calr', 'slc1a5', 'scn11a', 'dennd3', 'foxc1', 'smim10l1', 'bard1', 'smad5', 'bbs2', 'psma8', 'cldn5', 'tnni3k', 'selenov', 'lrrc47', 'micu3', 'kiaa0825', 'ifna4', 'arhgap26', 'trmt5', 'brs3', 'tex47', 'mpv17', 'mal2', 'fgd5', 'lemd3', 'rabl6', 'ankrd18a', 'gan', 'scn7a', 'c2orf50', 'cdrt15', 'dazap1', 'slfn13', 'trmt10a', 'krt31', 'fus', 'sdhaf4', 'erich6', 'ccl11', 'ccl4l2', 'sfi1', 'snrpf', 'plekha5', 'ddx23', 'gdf15', 'pcdhb6', 'syt11', 'polr2b', 'grin2a', 'cyp4z1', 'or2t33', 'sned1', 'ankrd1', 'lbhd1', 'or6n1', 'myo1f', 'bmp2', 'dmac1', 'itgb5', 'ndufv1', 'myocos', 'pdia3', 'serpinb12', 'nlgn4x', 'aida', 'lipi', 'tex10', 'exog', 'glra3', 'taf1l', 'serpinb5', 'lsm4', 'prkcq', 'usp47', 'matn3', 'sub1', 'arhgef3', 'plat', 'cluh', 'hepacam2', 'a4galt', 'klc4', 'slc44a5', 'suco', 'cmtm7', 'ywhae', 'rtkn2', 'znf595', 'or5ap2', 'apol1', 'fam155a', 'cdc37', 'cops7a', 'ly75', 'gpr139', 'tdo2', 'lum', 'tex35', 'dmpk', 'smim10l2b', 'anxa7', 'cldn23', 'akap14', 'lrrd1', 'gpr183', 'acp1', 'tmem42', 'aatf', 'timm23', 'eif4a3', 'actr5', 'tmem151a', 'spatc1l', 'ipo13', 'peg10', 'elof1', 'ca2', 'sumf1', 'aff1', 'igip', 'napb', 'sh3d21', 'or13c5', 'or8h2', 'slc4a10', 'vwa2', 'c12orf56', 'tbc1d8b', 'pnma6a', 'zmym6', 'slc6a4', 'ficd', 'tsga13', 'qpctl', 'ak6', 'dusp6', 'fyb2', 'pgap3', 'atp8b2', 'spop', 'kcnj6', 'ssbp4', 'cyb5r2', 'atp5po', 'tmtc2', 'mymx', 'twsg1', 'znf311', 'gusb', 'rbm17', 'c1orf122', 'fndc3b', 'psma1', 'dnaja2', 'vps33a', 'zranb1', 'acbd3', 'fndc11', 'foxo4', 'mat2a', 'snap23', 'tbr1', 'inpp5k', 'tango2', 'trpv5', 'slc25a40', 'cpsf2', 'slc16a3', 'jph1', 'crtac1', 'tnfrsf25', 'taf2', 'fdx1', 'psmb10', 'atad3b', 'zbtb24', 'rgs19', 'gpr174', 'arfgef3', 'tigd2', 'steap4', 'lypd4', 'nol4', 'hipk3', 'ccl19', 'plek2', 'ankrd34b', 'smoc1', 'bdkrb1', 'cd52', 'fgfr1op2', 'dbn1', 'htr1e', 'chmp2b', 'anos1', 'cntnap5', 'meikin', 'rbp5', 'fry', 'wrap53', 'dcun1d4', 'arhgef10', 'nacc1', 'ngf', 'or1l8', 'cfl1', 'znf711', 'nr1d2', 'kyat1', 'mettl26', 'blzf1', 'efcab2', 'znf773', 'chrna1', 'hipk1', 'fbxo47', 'nkx2-6', 'cep170b', 'rbm3', 'psmg1', 'drd3', 'stard9', 'fzd6', 'apoa4', 'hibch', 'hcar1', 'cartpt', 'dennd2d', 'mrrf', 'setd6', 'adcy10', 'erlin1', 'pes1', 'ubn1', 'ptprm', 'baiap2l1', 'dnm1l', 'uqcc2', 'arid2', 'ercc1', 'calu', 'kiaa0319', 'eif3i', 'dad1', 'pcdh1', 'acsm5', 'ntrk3', 'chd9', 'sarm1', 'dctn6', 'yipf2', 'kdf1', 'rbm5', 'derl2', 'ctnna3', 'fzd8', 'canx', 'tubal3', 'fgfbp3', 'hoga1', 'epb41l4a', 'ppwd1', 'dlx6', 'ube2d1', 'vps26c', 'col22a1', 'tmem243', 'otub1', 'tmem184a', 'ano6', 'fdx2', 'bbc3', 'septin6', 'xpnpep2', 'papss1', 'sik2', 'rnf43', 'znf440', 'brd7', 'tubg2', 'cmtr2', 'hmgn1', 'gfod2', 'rbm34', 'arf4', 'dram2', 'fam90a26', 'nbn', 'zbtb34', 'nek11', 'lsg1', 'klhl30', 'psmd4', 'cd247', 'lrrn2', 'ankrd31', 'scube2', 'rnf180', 'dleu7', 'fbxl19', 'thoc7', 'abcd3', 'cd1a', 'naglu', 'tipin', 'tceanc2', 'or10q1', 'ifna6', 'cnmd', 'ggt5', 'kiaa1217', 'glb1l3', 'copb1', 'veph1', 'nme8', 'glce', 'ilk', 'lbr', 'pck2', 'gemin4', 'slc46a1', 'gzma', 'tti1', 'nfkb1', 'polr1b', 'prdm2', 'calm2', 'mefv', 'rhex', 'txndc11', 'ptpn13', 'c8orf74', 'fam180a', 'synpo2', 'ugcg', 'pds5b', 'snx29', 'znf302', 'dcaf11', 'il1rap', 'astl', 'rufy2', 'eif2ak4', 'ddx5', 'lap3', 'ncr2', 'siglec10', 'kcnn4', 'itpripl1', 'cox6a2', 'trim2', 'syngr4', 'sh2d3a', 'spag16', 'gsr', 'ptk2', 'c11orf53', 'aanat', 'nanos3', 'ier5', 'map4k2', 'mtg2', 'ctsf', 'boc', 'tex11', 'smim10l2a', 'nedd9', 'pdzd8', 'tigd7', 'tph2', 'apc', 'eci2', 'slc6a16', 'zmiz2', 'wwp2', 'nod2', 'cst9', 'arf1', 'qrsl1', 'znf667', 'scimp', 'mucl3', 'mas1', 'uqcrq', 'itgb7', 'sh3rf3', 'fbxo44', 'unc79', 'igf2bp2', 'ptprn', 'stx19', 'znf786', 'gosr1', 'gpt', 'emx2', 'sms', 'mtus1', 'acod1', 'rnf169', 'gbp7', 'znf250', 'c11orf91', 'gabrp', 'f2rl1', 'tmem126a', 'myzap', 'klhl9', 'meioc', 'tnks2', 'elp2', 'map1lc3b', 'zfand2a', 'luc7l2', 'pign', 'pola2', 'hoxc4', 'mcm10', 'cdyl2', 'kcnk17', 'tmem123', 'slc35d1', 'vkorc1l1', 'pcbp4', 'or2ae1', 'colca2', 'tctn3', 'slc16a8', 'tmem219', 'ctrb2', 'ccnjl', 'znf592', 'gpm6b', 'chrna7', 'ptar1', 'rnf14', 'kif20a', 'med29', 'actr10', 'gng7', 'pimreg', 'slc34a2', 'irak1bp1', 'uhrf1bp1l', 'cyp1a1', 'hmgb3', 'rarg', 'thsd7a', 'tmed5', 'lpar3', 'hnrnpdl', 'tcaim', 'tango6', 'sh2d4b', 'grb7', 'slc14a1', 'defb119', 'znf664', 'rbpj', 'neu4', 'c8orf82', 'chd7', 'tsen34', 'plekhh1', 'suox', 'gng14', 'cyth1', 'apcdd1l', 'uprt', 'myl5', 'aasdh', 'plg', 'bcl2l2', 'cept1', 'prdx5', 'erbb2', 'hs2st1', 'hmgcs1', 'rab11fip3', 'znf768', 'sost', 'fam180b', 'camk2n2', 'tnip2', 'sf3a1', 'mid1', 'dlc1', 'adamts18', 'upk1b', 'mphosph8', 'slc30a8', 'gipc2', 'exoc4', 'orai1', 'apobr', 'prkcz', 'usf1', 'casp8ap2', 'map2k3', 'pkib', 'caskin2', 'ipp', 'nicn1', 'cystm1', 'tlr7', 'tmem164', 'hpgd', 'polr2i', 'btn3a2', 'dsp', 'tymp', 'myh10', 'znf781', 'nbpf3', 'pitx1', 'nrg2', 'mob4', 'ttc1', 'kif6', 'kcnma1', 'galnt1', 'selenoo', 'tfap2e', 'hey2', 'casd1', 'lrch2', 'dnah7', 'tada2b', 'ost4', 'braf', 'irf9', 'arx', 'jkamp', 'grk5', 'prdm13', 'spats2l', 'rasgrp1', 'sh3bp2', 'cep162', 'tmem26', 'c7orf26', 'psmb5', 'acat2', 'acads', 'neurod2', 'top2b', 'pms1', 'ube2b', 'cttn', 'hnrnpu', 'chek1', 'ugt3a2', 'tmem106c', 'kif23', 'alms1', 'hexb', 'znf48', 'espn', 'wdr53', 'slitrk1', 'abhd12', 'pink1', 'btbd19', 'fhl1', 'wdr43', 'slc44a2', 'pex26', 'tmem74b', 'sfr1', 'znf526', 'znf674', 'nr1h4', 'abcg8', 'tbc1d3b', 'zeb1', 'or7g3', 'bbs12', 'adamts1', 'fabp1', 'mobp', 'cd40', 'myh3', 'fut4', 'mau2', 'sft2d2', 'acsf3', 'rlbp1', 'slc25a11', 'c10orf53', 'vwa7', 'kdsr', 'ccdc28b', 'znf692', 'spint1', 'c17orf107', 'vps16', 'mn1', 'trim16', 'hook3', 'mtch1', 'or1i1', 'rimbp2', 'or51e1', 'znf276', 'adprm', 'rbm39', 'eloa2', 'map2k7', 'patl1', 'cbln1', 'mfap2', 'pifo', 'gsdmc', 'dnajb14', 'cnpy2', 'snrnp70', 'dynll1', 'znf703', 'zfx', 'nbpf1', 'evpl', 'ndufa12', 'ehf', 'oprd1', 'scin', 'eogt', 'eloc', 'spata2l', 'ift88', 'znf473', 'taf11', 'ptbp1', 'gpr153', 'ankib1', 'krtap10-1', 'pde12', 'pacsin2', 'fkbp5', 'sec14l4', 'phf13', 'me1', 'pcdh7', 'or2m7', 'utp25', 'adtrp', 'lep', 'mkln1', 'znf469', 'ptges', 'zbtb17', 'commd2', 'miga2', 'urb2', 'lss', 'desi1', 'gbp3', 'ndufa13', 'cep131', 'tktl2', 'spaca9', 'acot13', 'sftpd', 'ndufc1', 'cc2d2a', 'clrn3', 'or5ar1', 'drg2', 'aspn', 'lpin3', 'krtap19-7', 'rtp3', 'garem2', 'chl1', 'trim24', 'lrrc72', 'or8b12', 'rasal1', 'ifne', 'ep400', 'cdx1', 'esrp2', 'slc25a52', 'nemp1', 'cxorf66', 'pole3', 'gpatch11', 'or4a15', 'pxt1', 'tp53aip1', 'ccr7', 'nptxr', 'c12orf73', 'magi2', 'syf2', 'p4hb', 'itgb1bp2', 'cenpw', 'cip2a', 'brwd1', 'ankrd60', 'pa2g4', 'cant1', 'dhrsx', 'csnk1a1', 'gas6', 'c1orf174', 'nkx2-8', 'tle3', 'rpia', 'btbd1', 'krtap29-1', 'ntng2', 'naa15', 'rorc', 'ppp1r13b', 'ptger4', 'krtap4-16', 'xkr9', 'crebrf', 'kiaa0930', 'znf724', 'pcdhgb2', 'eipr1', 'asb2', 'rag1', 'upf3a', 'def8', 'rev1', 'cygb', 'hcfc1', 'clu', 'zpr1', 'aif1', 'prokr1', 'ldhb', 'vrtn', 'kmt2b', 'rev3l', 'flt3', 'trpv2', 'matn1', 'mrgprx4', 'prmt5', 'ppm1k', 'or14a16', 'grip2', 'znf891', 'sema3f', 'fbll1', 'slc26a1', 'hcar3', 'agbl3', 'dhrs4', 'pon1', 'psmc1', 'f13b', 'ranbp10', 'spanxb1', 'coil', 'jmy', 'pnldc1', 'ube2i', 'crip3', 'or13c9', 'tex36', 'zdhhc5', 'fcgr3a', 'znf730', 'vwc2l', 'ddhd2', 'papolg', 'nat8', 'pgap2', 'vnn3', 'nfkbil1', 'mtf1', 'adra2c', 'hdac8', 'st8sia6', 'taf8', 'polg', 'ttc29', 'gabra5', 'or5l2', 'rbmxl3', 'dna2', 'magec2', 'ier3ip1', 'ccdc184', 'hmbs', 'ccni2', 'dnhd1', 'tfpt', 'pltp', 'cry2', 'tmem221', 'mta2', 'fgf2', 'abca9', 'defb125', 'c20orf194', 'tbrg4', 'tmem92', 'vav1', 'mapk11', 'lin37', 'tm9sf4', 'gpkow', 'n4bp2l2', 'ltv1', 'mroh2a', 'psmc3ip', 'itgbl1', 'mapk1', 'themis', 'efcab7', 'pim1', 'pigo', 'orm1', 'yipf6', 'supv3l1', 'tmem134', 'gjb5', 'nudt13', 'ebag9', 'tesc', 'krt37', 'lyrm2', 'aspdh', 'arhgap6', 'ndufb2', 'adamts15', 'haghl', 'ttc7b', 'naa60', 'sclt1', 'clc', 'znf503', 'ttll2', 'zdbf2', 'pax1', 'tmem211', 'ccdc81', 'atad3a', 'rgs16', 'tecr', 'mief2', 'iqank1', 'ppp2r2d', 'tmem119', 'gtf3c4', 'trdmt1', 'tead3', 'kiaa1328', 'tpx2', 'max', 'tmem176b', 'tcf24', 'or2m2', 'lhpp', 'rp2', 'akt3', 'nrxn2', 'upf2', 'tm6sf2', 'fev', 'usp40', 'acsm6', 'rsf1', 'tmc7', 'rhbdl1', 'slc2a7', 'niban1', 'tbc1d9b', 'smim26', 'lrrtm1', 'rftn1', 'itgb1bp1', 'ccdc149', 'zfp82', 'ifit1b', 'col8a2', 'setd9', 'c4orf36', 'mctp1', 'them6', 'arhgap9', 'camk2a', 'f9', 'tnfrsf10d', 'mia3', 'rrp9', 'trim52', 'plbd2', 'sacs', 'irs2', 'riok3', 'rbfa', 'chaf1a', 'arv1', 'mast1', 'anxa5', 'kcns2', 'chrdl1', 'cabin1', 'fam43a', 'akr1b15', 'usp44', 'zdhhc8', 'paxx', 'calml3', 'agl', 'anxa13', 'trpt1', 'apbb3', 'odf3', 'nptx2', 'nsg2', 'pde6d', 'hbq1', 'osbpl1a', 'yeats2', 'prr14', 'pkd1', 'slx4ip', 'dnajb6', 'rgs14', 'or10h3', 'irf5', 'oxsm', 'cmtm1', 'cog5', 'slamf9', 'ankrd18b', 'mgat5b', 'ercc8', 'zer1', 'cox10', 'exo1', 'cemip', 'vps13a', 'pde4a', 'trabd', 'znf532', 'psmd13', 'otop1', 'tbx3', 'ice2', 'alpk2', 'dok3', 'ccdc146', 'mcc', 'ptn', 's100a16', 'bet1l', 'usp50', 'tc2n', 'rsrp1', 'slc10a3', 'adamts12', 'znf214', 'matk', 'iqcn', 'g3bp2', 'rad54b', 'fbxl6', 'cdc42ep2', 'aebp2', 'atf6', 'gpr155', 'catsper2', 'naxe', 'c1orf100', 'cxxc4', 'srsf12', 'sftpc', 'ajap1', 'proca1', 'ofd1', 'ankrd13c', 'tm2d1', 'nme5', 'rnf6', 'klhl1', 'catsperd', 'cdk6', 'defb118', 'ppcdc', 'gpd2', 'pkn3', 'slc36a4', 'ifna7', 'nfatc2ip', 'tmprss11e', 'lipc', 'acvrl1', 'pnpla6', 'celsr1', 'ankrd61', 'znf587b', 'sct', 'arpc1b', 'kcns3', 'grhl3', 'stmp1', 'zswim1', 'or5i1', 'calhm1', 'tns4', 'rap1gap', 'nudt17', 'bicdl2', 'hira', 'lratd1', 'bccip', 'cyp17a1', 'atp5pf', 'nup210', 'krtap19-5', 'usp6nl', 'nipa1', 'nme9', 'ctrl', 'zc4h2', 'cpped1', 'vmp1', 'kdm7a', 'or4c5', 'mmp25', 'ppp2r1b', 'tiprl', 'wdr46', 'agrp', 'fez1', 'unk', 'ervv-1', 'xpnpep3', 'rtraf', 'senp3', 'cdk20', 'ddx3x', 'tmem184c', 'paics', 'znf841', 'ppid', 'mdm1', 'ubqln2', 'ccdc86', 'ufc1', 'tchp', 'pigp', 'acap1', 'trip12', 'prlr', 'clk1', 'ccdc83', 'or6p1', 'obi1', 'stub1', 'fto', 'gfod1', 'gcc2', 'trnt1', 'igfbp7', 'acrv1', 'fignl2', 'tsga10ip', 'igfbp6', 'klhdc1', 'arhgef35', 'rfxank', 'rae1', 'gucy2f', 'toe1', 'lpp', 'csag1', 'caap1', 'ssrp1', 'hrg', 'fam193a', 'kiaa1191', 'gbx2', 'ncr3', 'atp6v1b2', 'c11orf96', 'map3k10', 'setd4', 'cxorf65', 'ing4', 'nelfa', 'stk40', 'mphosph6', 'mccc1', 'hmx1', 'znf76', 'spag8', 'ube2v2', 'dydc1', 'or56a5', 'sox21', 'siglec7', 'rasd2', 'mov10l1', 'il17rd', 'engase', 'znf563', 'cse1l', 'foxj1', 'pex5', 'ank1', 'cntnap4', 'nfyb', 'septin7', 'arl2bp', 'rnd3', 'zscan31', 'zap70', 'adgrl3', 'c4orf45', 'pdcd5', 'sp140', 'adat3', 'tmem254', 'trappc12', 'cyc1', 'kiaa1755', 'f5', 'dmtf1', 'afap1', 'znhit1', 'mks1', 'cpa4', 'tcn1', 'tmem74', 'lrriq3', 'grem2', 'tm9sf1', 'nags', 'myo1e', 'trim21', 'pcdh10', 'krtap13-2', 'kaag1', 'trpm2', 'thsd8', 'yrdc', 'zfp37', 'ccar1', 'smco1', 'eaf2', 'cotl1', 'or6j1', 'sycn', 'vars2', 'ppp1r15b', 'sult1a2', 'flcn', 'tal2', 'hid1', 'phf23', 'gngt2', 'sh2b1', 'slc38a9', 'lemd2', 'orc2', 'chrfam7a', 'vps28', 'spata33', 'pcdhb12', 'ankrd27', 'c12orf4', 'piwil3', 'swsap1', 'smim15', 'tmtc1', 'cpb1', 'hmcn2', 'sdhaf3', 'znf408', 'cdc14a', 'lrrc56', 'qrfp', 'tomm5', 'arnt', 'mmadhc', 'rrp7a', 'klhl34', 'rdh11', 'tek', 'znf573', 'amh', 'scgb1d2', 'camkv', 'g2e3', 'ccr3', 'rnf151', 'or10g6', 'cldn11', 'cnih4', 'rwdd4', 'arid3b', 'cenpj', 'ly96', 'dchs1', 'cmc4', 'asxl2', 'plekha8', 'lhx6', 'gsg1', 'srms', 'tyw3', 'ctso', 'iah1', 'atxn7l1', 'tspan7', 'cops2', 'or52e4', 'ggps1', 'dgkz', 'or8s1', 'p2rx5', 'trrap', 'znf407', 'incenp', 'hint2', 'gja4', 'ralbp1', 'gucy1a2', 'edn1', 'znf426', 'il2rb', 'fbxw11', 'tlr5', 'tldc2', 'tor2a', 'cd109', 'trim45', 'tcf25', 'emc8', 'ezh2', 'togaram1', 'ctnnd1', 'ccdc18', 'cntln', 'gba', 'fam110d', 'lgr6', 'rbm28', 'exoc3l1', 'dicer1', 'tdrd9', 'slc25a22', 'sh3tc2', 'alkbh8', 'tox', 'adamtsl2', 'mgat4b', 'pea15', 'chrna6', 'cenpi', 'usp1', 'sytl2', 'or2w1', 'prim2', 'fam71c', 'col6a6', 'crmp1', 'ifi27l2', 'ublcp1', 'acap3', 'lypd8', 'c7orf50', 'mkx', 'rasgrp2', 'znf138', 'cdr2l', 'lyrm7', 'coa8', 'thap3', 'fbxo39', 'lcn1', 'casp5', 'ccz1', 'tmem222', 'znf790', 'zswim6', 'shroom1', 'crispld1', 'exosc2', 'pcdhga2', 'retsat', 'bbs9', 'ankrd52', 'sbno1', 'lrrc55', 'zmym4', 'spink1', 'cenpe', 'thbd', 'gpx5', 'tifab', 'ss18l2', 'sparc', 'sox6', 'kctd12', 'ddah1', 'edem3', 'lamtor3', 'ly6l', 'gzmb', 'carhsp1', 'prdm15', 'rabgap1l', 'nfkbia', 'topbp1', 'ube2q1', 'abhd15', 'trim64b', 'osm', 'mdh1', 'nkx6-2', 'farp2', 'adam30', 'psmf1', 'ppp1r36', 'actl10', 'folh1', 'rhobtb2', 'znf804b', 'taar8', 'bsg', 'onecut2', 'ankrd30a', 'b3gnt4', 'eras', 'slc9a8', 'nbpf19', 'gpr61', 'atad3c', 'prdm7', 'tmem217', 'clba1', 'scd5', 'gap43', 'agap3', 'cabp4', 'capzb', 'czib', 'cntn3', 'znf649', 'sult1c2', 'lyst', 'lin28b', 'myf5', 'gga2', 'lmtk3', 'c19orf44', 'kif7', 'cplx4', 'p2rx1', 'ppp1r27', 'tectb', 'mad2l1bp', 'kcnn3', 'tprg1', 'zcrb1', 'exosc7', 'sirt7', 'skiv2l', 'znf160', 'dab2', 'or6b1', 'fgl2', 'pard6b', 'qdpr', 'nfatc4', 'septin10', 'cep63', 'mfsd13a', 'lrmda', 'clca1', 'ctxnd2', 'ciz1', 'c16orf46', 'c16orf89', 'nudt15', 'slc1a6', 'phc2', 'pold2', 'cxadr', 'appl1', 'ric8b', 'creb3l1', 'col15a1', 'fbln5', 'fhod3', 'hhat', 'lrrc3b', 'itih3', 'ccnl1', 'fhit', 'gpr148', 'ift57', 'rab11fip5', 'cap2', 'slc52a2', 'fbxw5', 'syt13', 'ptgdr2', 'dlg3', 'prmt1', 'otor', 'armcx5', 'strc', 'fam160b2', 'tmem234', 'chchd2', 'cox8c', 'cyp46a1', 'tff3', 'gps1', 'tle4', 'sipa1l2', 'papola', 'grk7', 'fam9b', 'nupr2', 'pcdh8', 'itpripl2', 'wscd1', 'cd63', 'tm2d2', 'dusp26', 'fkbp11', 'pla2g4f', 'sat1', 'pisd', 'prdm9', 'irx4', 'bmp1', 'mob1b', 'znf451', 'gabpb2', 'galns', 'kcnd2', 'c22orf39', 'tet1', 'msr1', 'nsdhl', 'dync1li1', 'klhl3', 'rpp21', 'lrrc42', 'ldlr', 'hoxd8', 'tspyl1', 'slfn14', 'rtn2', 'arhgef16', 'wfdc3', 'fam210b', 'znf570', 'lect2', 'polr2a', 'dusp18', 'ankrd11', 'msh3', 'smpd3', 'oscp1', 'smad6', 'rcl1', 'gsn', 'or1e1', 'tbxa2r', 'wfdc8', 'gucd1', 'sash1', 'rgl1', 'fam120b', 'ptpn9', 'blcap', 'ctsk', 'hspg2', 'smim32', 'mafk', 'znf283', 'tssk2', 'pkig', 'ly6h', 'tomm20l', 'nbdy', 'psmb9', 'gpatch3', 'hes7', 'myl2', 'lin28a', 'lbhd2', 'c8a', 'txndc9', 'rasgef1b', 'slurp2', 'tmem97', 'lrrc8d', 'agr3', 'crtc2', 'hmbox1', 'atpaf1', 'tmem140', 'ctsh', 'sox9', 'or52b2', 'znf32', 'rabggta', 'arhgap29', 'flywch2', 'unc13d', 'krtap12-1', 'stk11ip', 'pdk4', 'impdh2', 'lcp2', 'c11orf16', 'cdkal1', 'abhd2', 'azu1', 'cecr2', 'kirrel1', 'elk3', 'scx', 'gss', 'lcp1', 'bak1', 'slc6a11', 'ca8', 'krt79', 'clec14a', 'nop10', 'ropn1l', 'pcdha8', 'efcab14', 'rmnd1', 'casp8', 'syn1', 'stac', 'retn', 'cbx6', 'nat9', 'c5', 'hecw2', 'nusap1', 'tubd1', 'dcxr', 'fam133b', 'ap5s1', 'socs5', 'rnf13', 'dnajc22', 'isg20', 'adamts16', 'sidt1', 'fbxo3', 'tmem64', 'cyp4f11', 'or2g3', 'terf2', 'gstt2b', 'prpf4b', 'mlec', 'tef', 'ankrd37', 'nova2', 'dek', 'lrpap1', 'golga7', 'cebpe', 'il13ra1', 'scmh1', 'cop1', 'ca11', 'tmc5', 'chmp6', 'znf700', 'sdsl', 'fkbp15', 'ifitm3', 'shc2', 'znf534', 'synpr', 'pdia4', 'or8k3', 'pramef14', 'c1rl', 'xrn2', 'drd1', 'iqcf5', 'tmx2', 'cela3b', 'rxfp4', 'iqcf6', 'ppargc1a', 'sbno2', 'crhbp', 'slc22a31', 'vwa5b1', 'psme4', 'cnga1', 'magef1', 'slc66a1', 'lfng', 'taf10', 'dner', 'acsl5', 'lrfn4', 'thrsp', 'hcn4', 'fmr1', 'nrf1', 'ptgdr', 'fam186a', 'tagap', 'gorab', 'ggtlc1', 'apol3', 'cd99l2', 'crebbp', 'stk17a', 'ccl15', 'nlrp7', 'pim3', 'pus10', 'nat16', 'psd', 'pofut1', 'ccdc115', 'sec61a2', 'frg1', 'mroh2b', 'oaz1', 'sesn1', 'sall1', 'znf676', 'slc2a11', 'unc5a', 'iqub', 'mcoln2', 'znf34', 'znf200', 'tspan16', 'rufy1', 'or2aj1', 'raet1l', 'afg3l2', 'tmem242', 'timm10', 'map3k15', 'sema3a', 'stmn4', 'phf20l1', 'dnase2b', 'dpysl2', 'akap13', 'muc22', 'cnot11', 'arpp19', 'atp2a2', 'ss18l1', 'kif21b', 'c5orf34', 'tnf', 'znf169', 'fsip1', 'cacna1f', 'svbp', 'ccdc43', 'tnfrsf4', 'reep1', 'fam189b', 'eif4e2', 'nox5', 'ddtl', 'xg', 'or5j2', 'aicda', 'cdk19', 'adgrg6', 'fam228b', 'or56a4', 'tm4sf5', 'adsl', 'apoe', 'myo18a', 'xcl2', 'ctbs', 'ttc7a', 'grpel1', 'gpam', 'mapk8ip3', 'larp1b', 'gpr108', 'c17orf100', 'nrgn', 'cacna2d2', 'pias2', 'or52a5', 'c3orf62', 'upk3b', 'dap3', 'nrros', 'nr2e1', 'ppp1r1a', 'dpep2', 'kif3a', 'spen', 'ranbp3', 'cct6b', 'romo1', 'il17f', 'mtmr2', 'bloc1s6', 'fam120c', 'fam161a', 'evc2', 'fzd10', 'heatr6', 'bpnt1', 'hgsnat', 'amn1', 'sufu', 'coq3', 'lipg', 'rasa2', 'ctla4', 'cstf2', 'lpcat4', 'abcf2', 'tmsb4y', 'dhx38', 'crct1', 'hsp90ab1', 'clca2', 'jam3', 'avil', 'ces1', 'csnk1g3', 'kcnj8', 'slc40a1', 'parl', 'fcer2', 'pou4f3', 'swap70', 'adig', 'zfp2', 'fpr3', 'mrtfb', 'lingo2', 'wsb2', 'cd300lb', 'pcna', 'cblc', 'vps37a', 'cenpa', 'gpsm3', 'cryl1', 'sim2', 'cd37', 'tmem255b', 'cldn7', 'npm3', 'hars2', 'hk2', 'sstr2', 'pttg1', 'fam205a', 'ccl20', 'prkacg', 'bckdhb', 'cxcl17', 'dusp19', 'raph1', 'tmed7', 'pms2', 'ndufb3', 'frg2c', 'slitrk3', 'kat6b', 'hhip', 'ccdc102a', 'or2s2', 'znf429', 'znf792', 'eqtn', 'sacm1l', 'rgs10', 'bmp8a', 'tbx21', 'plod2', 'etnk2', 'fam177b', 'nfil3', 'sec22a', 'spata31a1', 'mrgprx1', 'kazn', 'neurl4', 'sec14l2', 'ntan1', 'ccnh', 'thsd1', 'slc25a45', 'parp6', 'bscl2', 'ppfia3', 'mettl9', 'rbbp7', 'dcaf17', 'abca5', 'pate2', 'nkx1-2', 'znf324b', 'card14', 'gpbar1', 'bicc1', 'gpr135', 'plcg1', 'gpr137', 'themis2', 'taf13', 'scnm1', 'creg2', 'snai2', 'dsn1', 'bub3', 'znf483', 'wnk3', 'stac2', 'kif18a', 'dmbx1', 'srd5a3', 'c1qb', 'arhgef39', 'lmx1a', 'pcbp3', 'lin7b', 'ccdc34', 'otulin', 'sergef', 'rbbp6', 'cebpg', 'lonrf3', 'pth', 'tmem215', 'c6orf132', 'ebpl', 'clec2l', 'mapk12', 'saysd1', 'large2', 'litafd', 'alkbh5', 'slc9a1', 'steap1', 'virma', 'gdpd1', 'csf1', 'lmnb1', 'cds2', 'htr2c', 'or2g2', 'slc7a14', 'abi3bp', 'lrit3', 'b3galt1', 'nsmce2', 'rai1', 'pom121l2', 'hbp1', 'papss2', 'tcp11', 'sv2c', 'c5orf47', 'lrig1', 'e4f1', 'cd160', 'ep300', 'nectin1', 'tmf1', 'lrrc4', 'c4bpa', 'spx', 'nras', 'rgp1', 'cir1', 'nin', 'gcsaml', 'abhd11', 'fam219a', 'sipa1l3', 'or1n1', 'ankrd13b', 'muc15', 'nyx', 'mageb1', 'oc90', 'or5a1', 'cpne5', 'smagp', 'lrrtm2', 'rassf1', 'zranb3', 'swi5', 'znf804a', 'wdr33', 'nipal4', 'cep89', 'dlgap1', 'or51a2', 'slco5a1', 'phf21b', 'cyp11a1', 'sdhaf1', 'cyp24a1', 'ecpas', 'c19orf85', 'stat5b', 'carf', 'neurog3', 'dr1', 'plin5', 'ctcfl', 'tnfsf15', 'znf878', 'asb14', 'rnh1', 'tlr10', 'lbx1', 'nt5c3b', 'gpr152', 'c11orf49', 'idh3b', 'c1orf158', 'cab39', 'dcaf5', 'tnrc6a', 'defb124', 'thoc2', 'ccdc13', 'dcn', 'tlx2', 'ggt7', 'syt2', 'rab13', 'rab1a', 'or9q2', 'gprc5d', 'zdhhc2', 'znf7', 'mmp28', 'rbm43', 'serinc5', 'spr', 'arfrp1', 'dlgap5', 'mfsd6l', 'cic', 'dlgap3', 'ildr2', 'ppil6', 'lrrc24', 'zbtb5', 'zfhx3', 'c4orf48', 'sptbn4', 'osbpl5', 'trim56', 'prpf19', 'ruvbl1', 'as3mt', 'slc38a1', 'plk1', 'vamp3', 'ccdc50', 'hus1b', 'cfap61', 'spin3', 'fcamr', 'kank2', 'sspn', 'ntn3', 'rab11b', 'rftn2', 'znf8', 'cables1', 'rars2', 'st6galnac5', 'naa35', 'slc22a16', 'shld1', 'snx2', 'gsc2', 'plppr5', 'alx4', 'sec24a', 'ap4b1', 'sec23a', 'lce1c', 'cldn10', 'acad8', 'chrna3', 'actr1b', 'gsto1', 'c20orf141', 'bbox1', 'zbtb7a', 'amer3', 'thegl', 'gys1', 'csnk1e', 'clpsl2', 'sntn', 'ces5a', 'zbtb26', 'cckar', 'slc43a3', 'trdn', 'znf85', 'c17orf75', 'snrnp35', 'synm', 'slain1', 'tfdp3', 'shoc2', 'fam13c', 'lmln2', 'aqp5', 'kcnmb4', 'ltk', 'znf142', 'znf557', 'znf837', 'trmt13', 'ndc1', 'phactr2', 'shank1', 'twf2', 'mepce', 'mef2a', 'lpo', 'rab4a', 'tbp', 'exoc8', 'alox5ap', 'dhx8', 'parp16', 'ncoa5', 'dchs2', 'cyp4v2', 'c5orf15', 'adam19', 'or14k1', 'msrb3', 'clmp', 'serpina11', 'clpx', 'pigh', 'znf75a', 'col5a1', 'fbxo41', 'klrk1', 'pin1', 'f10', 'pdzd3', 'osbpl3', 'gk3p', 'ccbe1', 'cd69', 'pgs1', 'pcdhgb7', 'arl5a', 'nrcam', 'btbd3', 'maneal', 'lrtm2', 'wdr75', 'arg1', 'ska2', 'lvrn', 'lgr5', 'prkar2a', 'alox12', 'vgf', 'brsk1', 'fbxl17', 'cd28', 'csgalnact1', 'ppil2', 'tspan31', 'rsrc1', 'tmem209', 'prkg2', 'lgals1', 'ccsap', 'ap1m1', 'kiaa1522', 'spint4', 'apoo', 'prpf4', 'klc2', 'oas3', 'tm7sf2', 'b9d2', 'btg3', 'galnt8', 'mnda', 'hax1', 'itpr1', 'lhx4', 'pcdha3', 'pcmtd1', 'oit3', 'glt8d2', 'ankrd40cl', 'arhgap44', 'arid5a', 'bzw1', 'evi2b', 'hspa9', 'itprid2', 'krtap27-1', 'nup50', 'ints10', 'iyd', 'sik3', 'ccdc178', 'adirf', 'ap5m1', 'znf783', 'dut', 'gins2', 'or4d2', 'ssu72p8', 'b3gat1', 'cyp27b1', 'spem3', 'cenpk', 'tgm4', 'ube2d2', 'epc1', 'lilrb1', 'capn14', 'b4galt5', 'tube1', 'igf2r', 'znf84', 'gnaz', 'ube2q2', 'zswim3', 'dennd2c', 'commd6', 'chrna9', 'sycp2', 'gspt2', 'pla2g6', 'suclg2', 'plglb2', 'tmem275', 'pik3ip1', 'cskmt', 'dennd1a', 'bclaf3', 'smpd4', 'gulp1', 'pacsin1', 'il12a', 'cfap161', 'lamtor5', 'insl3', 'cntd1', 'adcyap1', 'mcm7', 'grk4', 'dhrs7c', 'epb41l5', 'chst11', 'znf589', 'tshz2', 'b3galt2', 'angel2', 'sp4', 'ambp', 'haus1', 'polr2g', 'dynap', 'trpv6', 'vamp7', 'fam151a', 'usp10', 'lgals12', 'ubr5', 'utp6', 'mboat4', 'il18r1', 'pomgnt2', 'slc16a7', 'znf274', 'sez6l', 'gnl3l', 'klhl25', 'calhm2', 'hdac5', 'cpsf1', 'tbcc', 'pamr1', 'defa6', 'slc26a9', 'nlrp4', 'krt14', 'prrt1', 'adamts14', 'aplp2', 'faim2', 'tubgcp6', 'rbm33', 'mapre1', 'foxe3', 'ghrh', 'mfsd6', 'c3orf14', 'ppih', 'hs3st4', 'teddm1', 'prph', 'asgr2', 'kcnk12', 'alkal2', 'shq1', 'klk2', 'tnfrsf13c', 'cdk18', 'or2f2', 'or4l1', 'hnrnpll', 'elovl1', 'qrfpr', 'bcl9', 'creb3', 'ccdc77', 'nhlrc4', 'erfl', 'pikfyve', 'dus4l', 'rab14', 'fpgs', 'mrc1', 'ccdc87', 'churc1', 'fbxl22', 'ahsp', 'ttc14', 'ssmem1', 'or2a14', 'inpp5e', 'nanogp8', 'ushbp1', 'dhcr24', 'igfl2', 'tnni2', 'ms4a5', 'abca8', 'krt73', 'tp53inp1', 'casz1', 'prpsap2', 'znf16', 'galnt11', 'gem', 'lrp2bp', 'vwa1', 'cabcoco1', 'scamp5', 'znf850', 'arhgap1', 'znf689', 'stx17', 'arhgef15', 'maob', 'znf177', 'hmgn5', 'clk2', 'tmem101', 'tnfrsf1b', 'pi4ka', 'arid4b', 'zfp57', 'atp1b2', 'exoc7', 'slc22a17', 'znf626', 'or7g2', 'umps', 'fbxw8', 'rc3h1', 'syt10', 'paxip1', 'angptl6', 'trim27', 'noxo1', 'ocstamp', 'eif3h', 'accsl', 'pura', 'pcbp1', 'impg2', 'junb', 'timm50', 'acsm4', 'apmap', 'nupr1', 'hoxd9', 'camk1g', 'xpnpep1', 'casp7', 'cdk13', 'recql', 'znf416', 'zmynd11', 'rel', 'anapc4', 'cwc22', 'mus81', 'acot6', 'yme1l1', 'prm2', 'shld2', 'cldn19', 'eif4ebp3', 'tenm2', 'tecpr1', 'tas2r40', 'foxi3', 'mbtd1', 'gja9', 'dmrta2', 'fam200a', 'fzd2', 'dhrs3', 'setd5', 'pou6f1', 'fam221b', 'siglec6', 'spryd7', 'rrm2', 'znf35', 'mylip', 'snx8', 'ecm1', 'gpr137c', 'fam136a', 'mmp10', 'chrne', 'lrp4', 'ccdc116', 'tmie', 'psmd1', 'gramd1b', 'c5orf22', 'wdhd1', 'mttp', 'zc3h6', 'mast4', 'gtf2i', 'clk4', 'ramp1', 'mettl5', 'opa1', 'naa38', 'gpr89b', 'tnfsf4', 'acsbg1', 'glmn', 'or52n1', 'gabrr1', 'puf60', 'ifitm2', 'c11orf52', 'elf3', 'tmed9', 'mab21l4', 'serpina9', 'rprd1a', 'vps52', 'gab2', 'ifi27', 'ubp1', 'sim1', 'zfyve21', 'rexo1', 'itga1', 'nuak2', 'slc35f1', 'spdya', 'csrp1', 'armcx3', 'actc1', 'ikbkg', 'kiaa0513', 'muc21', 'hsfx3', 'deup1', 'snapc1', 'cops4', 'btg2', 'zmat4', 'edem2', 'adam15', 'tmem170a', 'stim1', 'lig3', 'tmem255a', 'sema4f', 'arl2', 'cndp2', 'fam162b', 'sfswap', 'nfib', 'krt80', 'ptpra', 'nol12', 'sertad1', 'pi3', 'dennd11', 'peli2', 'ceacam4', 'cd302', 'tmem273', 'cfap73', 'btnl8', 'chst2', 'nccrp1', 'gramd4', 'eif3j', 'plekhg3', 'aldh4a1', 'trip10', 'hbd', 'eif4ebp1', 'ltb', 'rbak', 'sgpp2', 'foxd4', 'fbxo9', 'becn2', 'rab25', 'gtf2h1', 'svil', 'cspg4', 'cybc1', 'gnrhr', 'sec62', 'fxyd3', 'st6gal2', 'msrb1', 'shisa3', 'agk', 'fstl4', 'vsig8', 'klrc3', 'nckap1l', 'shbg', 'akt1', 'klk3', 'znf583', 'ndufc2', 'znf446', 'vps39', 'wdfy1', 'lamtor1', 'tgfb2', 'rep15', 'gabrb1', 'prr15l', 'ppme1', 'stoml2', 'ptafr', 'ccdc24', 'bmp6', 'iffo2', 'emb', 'krt1', 'etv2', 'ngrn', 'plekhh3', 'myo1c', 'znf707', 'maoa', 'agfg1', 'ropn1b', 'pla2g2c', 'commd7', 'gsta1', 'znf738', 'nudc', 'pdcd10', 'c10orf120', 'sco1', 'prrx1', 'chtop', 'allc', 'add3', 'tmem107', 'eef1b2', 'trmt12', 'or11g2', 'trappc5', 'tiam1', 'smc1a', 'dusp14', 'gata5', 'or14i1', 'exd1', 'pot1', 'fastkd2', 'polr3gl', 'c8orf76', 'sesn2', 'pde1c', 'ifrd2', 'tsen15', 'dync1li2', 'hsd17b8', 'or8b4', 'znf782', 'phf5a', 'gtf2f2', 'sult1c4', 'odf2l', 'lpl', 'pip4p1', 'tmem37', 'zdhhc3', 'neurog1', 'tpbg', 'tbc1d1', 'erp27', 'plcxd3', 'myl12b', 'tril', 'znf543', 'stambp', 'znf860', 'gldc', 'kcnn2', 'plek', 'smim28', 'aspa', 'arhgap30', 'npr3', 'cd4', 'arl6ip4', 'trappc3l', 'mmp23b', 'gnl1', 'tmem266', 'ca6', 'sstr5', 'umad1', 'zbtb1', 'art4', 'irx3', 'znf414', 'ring1', 'il36b', 'rbpjl', 'morn2', 'ampd1', 'tedc2', 'ribc2', 'pla2g4e', 'eif4g3', 'pyroxd2', 'arhgef12', 'mansc4', 'znf550', 'mdh2', 'abcb9', 'csf2rb', 'ifi30', 'ppp1r7', 'luc7l3', 'thbs3', 'hagh', 'npc1', 'nf2', 'mospd3', 'ap4e1', 'gabre', 'spata48', 'ndrg2', 'cops3', 'mgat5', 'rchy1', 'c15orf40', 'lsmem1', 'fam110c', 'adcy6', 'serpinb4', 'exosc5', 'morc2', 'cox7a1', 'hacd1', 'f12', 'abcc3', 'them5', 'stam', 'dtd2', 'jup', 'or10a3', 'kat8', 'epha2', 'crybg1', 'snap91', 'tada2a', 'znf385c', 'znf516', 'klrg1', 'kti12', 'c10orf67', 'kpna7', 'rapgefl1', 'cited4', 'spata31a6', 'fgf16', 'adamts6', 'anapc2', 'prmt3', 'usf2', 'bfsp2', 'zfand3', 'tvp23c', 'pclaf', 'akap12', 'cerkl', 'ppard', 'taf7l', 'capn11', 'actr3b', 'il9', 'dock11', 'rtp5', 'theg', 'or2t6', 'kdm6b', 'mafa', 'mlx', 's100a6', 'c10orf88', 'appbp2', 'qrich2', 'znf454', 'tmem184b', 'psma2', 'prrg1', 'hpcal1', 'scfd2', 'ncbp2as2', 'snrpb', 'luzp2', 'fcer1g', 'rasgrp3', 'znf318', 'col9a1', 'slc5a6', 'ankzf1', 'dus3l', 'c11orf24', 'tsc2', 'abcc11', 'serpinf2', 'xpo4', 'ccdc38', 'ceacam21', 'mapk10', 'ephx4', 'zbtb11', 'nid1', 'fastkd3', 'gfap', 'cacnb4', 'ydjc', 'stard10', 'c17orf78', 'pxmp4', 'hebp2', 'klhl5', 'or2l5', 'uchl5', 'rtp4', 'gpr85', 'polr1e', 'pts', 'dlx3', 'eif6', 'fgf22', 'cd53', 'arsj', 'pthlh', 'ggt1', 'tmem177', 'ptprf', 'mmaa', 'slc26a8', 'defb123', 'ncs1', 'asap2', 'rbfox1', 'cysltr1', 'bloc1s1', 'prdm14', 'adgre5', 'or5as1', 'ttll12', 'c7', 'ptchd1', 'ankh', 'cacna1g', 'wls', 'tex13d', 'wnt8a', 'cyb5rl', 'radil', 'crybb3', 'mre11', 'amph', 'dnajc5', 'cfl2', 'epb41l1', 'nwd1', 'adcy9', 'chchd1', 'ern1', 'pheta1', 'crem', 'rassf9', 'or8a1', 'mtor', 'bex1', 'r3hdml', 'fam200b', 'tmem213', 'zbtb48', 'cd34', 'oxct1', 'kndc1', 'prss41', 'zscan25', 'rin2', 'prdm10', 'socs7', 'tmprss6', 'il11', 'edaradd', 'insm2', 'ubqln3', 'noto', 'iqsec1', 'akain1', 'tmem230', 'lsm1', 'znf558', 'bcl2l11', 'apoa5', 'adprhl1', 'shld3', 'armcx2', 'nbeal2', 'wwtr1', 'il15', 'oas2', 'celsr3', 'trim32', 'cep95', 'or4c6', 'fdxacb1', 'mtcl1', 'poldip3', 'pawr', 'rsph9', 'tnmd', 'fat4', 'zbtb16', 'copg2', 'ythdf1', 'c10orf82', 'fam234a', 'shmt1', 'grk6', 'brinp3', 'c2orf81', 'higd1a', 'rhobtb1', 'doc2b', 'chmp4c', 'ap1s1', 'faah', 'or2t2', 'ero1a', 'bbs7', 'selenos', 'znf132', 'mob3c', 'pou2f1', 'dgkg', 'nfkbib', 'hectd1', 'calml6', 'mlip', 'caln1', 'hbb', 'gtpbp4', 'klhl20', 'cmas', 'syndig1', 'c1ql3', 'pdcd4', 'nrp1', 'bcs1l', 'ttc31', 'znf20', 'cpsf3', 'dele1', 'man1c1', 'smim23', 'fnta', 'tob2', 'mcm9', 'apbb1', 'simc1', 'kifc3', 'nr2f6', 'fzd5', 'fgf18', 'slfn5', 'frzb', 'fubp3', 'znf221', 'or2ak2', 'poglut1', 'tor1a', 'ndufb8', 'or9g1', 'prdx3', 'gna13', 'dpp9', 'ccdc200', 'cradd', 'lrrc49', 'tmem245', 'angptl4', 'il21', 'p3h1', 'chrm3', 'adam17', 'fam174b', 'arhgap23', 'hif1an', 'gzmk', 'unc45a', 'igsf21', 'fgfr2', 'sp3', 'pank3', 'slc22a15', 'rheb', 'or4c3', 'gria1', 'cerk', 'capza2', 'wdr20', 'tbl3', 'fut9', 'fbln2', 'ndufb5', 'tas1r1', 'rspo1', 'wnt10b', 'pla2g4a', 'usb1', 'znf334', 'acbd7', 'etfdh', 'myo3b', 'mad2l1', 'tsg101', 'cebpd', 'gdf11', 'ankef1', 'or2i1p', 'cenpl', 'ace', 'ubc', 'gpr84', 'spatc1', 'rac2', 'tpgs2', 'bmf', 'rnf10', 'rfpl4al1', 'muc5ac', 'tmem183a', 'fer', 'dtnbp1', 'utp23', 'zcchc12', 'traf2', 'lrrc10b', 'fam237a', 'ears2', 'pemt', 'klhl38', 'mbd1', 'aldh5a1', 'bysl', 'sp9', 'cyb5r4', 'c2orf15', 'ch25h', 'ttc33', 'ghsr', 'or2g6', 'or52i2', 'or6c68', 'eno1', 'slc25a38', 'defb135', 'extl3', 'zfp36l1', 'krt9', 'hrh2', 'btbd16', 'aif1l', 'ern2', 'mtm1', 's100a14', 'wdr18', 'col3a1', 'lzic', 'ift172', 'baz2b', 'ankrd6', 'fam126a', 'alox5', 'asic1', 'kcng4', 'krt40', 'arg2', 'sox30', 'uxt', 'gab3', 'krtap5-2', 'cript', 'wt1', 'txnl4b', 'efcab13', 'krtap10-2', 'acbd4', 'gprasp1', 'gpr65', 'ifna5', 'pigr', 'chtf18', 'senp7', 'lcat', 'pdc', 'laptm5', 'ulbp3', 'carmil2', 'entr1', 'adamts3', 'elmo2', 'lgi4', 'nol6', 'atoh8', 'or10t2', 'gadd45a', 'coro2b', 'or1a1', 'cs', 'ppp2cb', 'fam78a', 'u2af1l4', 'rpe65', 'antkmt', 'ints1', 'pbx4', 'ube2c', 'gucy1b1', 'krtap17-1', 'kifap3', 'gpr20', 'znf23', 'fam71f2', 'lrrc3', 'ndufb9', 'prpf38b', 'ccdc171', 'ky', 'rnpepl1', 'nlk', 'klf18', 'cul3', 'pck1', 'hccs', 'nde1', 'tagln2', 'fa2h', 'eid2', 'or3a1', 'hexim2', 'tbc1d22b', 'styxl1', 'cabp7', 'lrrc74a', 'plpbp', 'yif1a', 'fgf3', 'stk3', 'cnga4', 'gnrh2', 'esm1', 'znf569', 'kit', 'gnb3', 'lrp1', 'slc26a2', 'tex12', 'c11orf71', 'dtwd1', 'ada', 'wdr77', 'tbx22', 'xkr3', 'zscan21', 'igsf6', 'mad2l2', 'slc45a3', 'gabrd', 'nsun5', 'col26a1', 'stkld1', 'rwdd2b', 'serpine1', 'gne', 'npb', 'celf5', 'dhcr7', 'rax', 'tbx2', 'mgat2', 'grhpr', 'tm2d3', 'sall3', 'slc6a2', 'znf330', 'slc23a2', 'samd8', 'cldn8', 'otud7a', 'snx27', 'mapre3', 'ppib', 'znf829', 'huwe1', 'ugt1a10', 'exd3', 'drosha', 'tpp1', 'mrm2', 'saa4', 'enpep', 'dcaf16', 'coq2', 'map3k7', 'prex2', 'cdk7', 'ms4a4e', 'kpnb1', 'adamts7', 'il2rg', 'psmd11', 'mreg', 'usp5', 'gja10', 'lkaaear1', 'fam167b', 'znf777', 'nkapd1', 'tmem225b', 'lgals3bp', 'znf280c', 'ccl7', 'inpp5j', 'tmprss13', 'ubap2l', 'nav3', 'mpz', 'trex2', 'pou3f2', 'clstn1', 'lepr', 'nova1', 'catsper4', 'itih5', 'card10', 'spata46', 'rnps1', 'tp53', 'alas1', 'sez6', 'krt33a', 'lgals2', 'znf45', 'or1m1', 'pde7a', 'rgs3', 'pcdh12', 'maml1', 'kcnk13', 'tada3', 'gosr2', 'tmem161b', 'ddx56', 'cel', 'lhx3', 'arl13b', 'znf280d', 'pla1a', 'gjb6', 'gtf3c5', 'ralgps2', 'daam1', 'tor1b', 'smim38', 'prkdc', 'hnrnph2', 'apobec3a', 'vps51', 'mapkapk5', 'cnn1', 'ankrd40', 'hpx', 'apool', 'ndrg4', 'gask1a', 'endou', 'rcbtb1', 'cnot8', 'tbcel', 'ptdss1', 'rasd1', 'dkk1', 'parn', 'akr1b1', 'dnai2', 'slc11a1', 'sh2d3c', 'alkbh7', 'igfn1', 'ppa1', 'scnn1g', 'mef2c', 'c1orf167', 'znf646', 'coq7', 'snu13', 'taok2', 'dand5', 'semg2', 'or2b6', 'wbp11', 'tspan6', 'tcp11l2', 'elavl3', 'c3orf33', 'ccdc191', 'snx14', 'ankrd62', 'slurp1', 'nr4a3', 'shc4', 'krt222', 'tmem187', 'uhrf2', 'mt1e', 'znf606', 'shprh', 'tmub1', 'tnpo1', 'znf510', 'ipo4', 'habp4', 'bsx', 'cdh8', 'prkd2', 'zc3h8', 'cenpq', 'cd3g', 'rpa1', 'znf227', 'smg9', 'tbpl2', 'sec63', 'cd24', 'ccdc126', 'saraf', 'armc9', 'kdm4c', 'ptpmt1', 'dnajb4', 'lynx1', 'set', 'pycr3', 'ibtk', 'spaca3', 'sel1l', 'polr3d', 'mpped2', 'zc3h12c', 'fanci', 'procr', 'znf197', 'znf799', 'pcbp2', 'hmgcl', 'myl6', 'mapk13', 'fut7', 'slc9a3r1', 'ccdc177', 'c19orf73', 'gpihbp1', 'gtf2h5', 'aldh3a2', 'dnajc3', 'igfl3', 'pnma8a', 'mageb2', 'mark1', 'muc12', 'akirin2', 'mmp21', 'rttn', 'srsf8', 'cep72', 'bean1', 'b4galt6', 'fem1a', 'c1qtnf12', 'tff1', 'nol4l', 'tac4', 'dctn5', 'pld3', 'zpbp', 'sdk1', 'cd82', 'shmt2', 'rabep2', 'ankrd33b', 'dclre1b', 'cpamd8', 'avpr2', 'ksr2', 'bmp10', 'lpar4', 'pcdhga11', 'slc39a1', 'ccdc163', 'cyp2a6', 'szt2', 'ccnd1', 'elovl5', 'tomm20', 'akr1e2', 'znf2', 'spink7', 'prep', 'faslg', 'prph2', 'dhrs1', 'smim2', 'gpr107', 'haus5', 'pard6a', 'tfe3', 'tpp2', 'ano8', 'nat14', 'entpd6', 'lrrc38', 'btg4', 'bcar1', 'timp3', 'pfkp', 'fam71e1', 'skap1', 'ppt1', 'klk14', 'phox2b', 'slc39a12', 'fcar', 'nfkbiz', 'slc37a2', 'pstk', 'zdhhc16', 'eif1', 'gpat4', 'cyp2e1', 'ugt2b10', 'tmem170b', 'gtf2b', 'ugt2b4', 'setbp1', 'slco4a1', 'ammecr1', 'pex1', 'cnfn', 'carnmt1', 'shank3', 'slit1', 'kng1', 'mrln', 'cited2', 'trim28', 'csrp2', 'tmem178a', 'mfsd5', 'tcea2', 'ftsj3', 'clec4m', 'c2', 'tmem69', 'vrk1', 'sorl1', 'or1k1', 'phykpl', 'hkdc1', 'zic2', 'tex45', 'gpr180', 'aire', 'prrt1b', 'angptl3', 'speg', 'bhlhe41', 'gucy2c', 'aff3', 'dmap1', 'enox2', 'frem3', 'nhlh2', 'dgcr8', 'hspa1b', 'epb41l3', 'ntmt1', 'c6orf62', 'nostrin', 'wdr87', 'plgrkt', 'wnt5a', 'prepl', 'zkscan8', 'c19orf84', 'ankrd9', 'crhr2', 'fam229a', 'rtca', 'coa6', 'pld4', 'ugt2a1', 'gp5', 'coa7', 'gas1', 'c1orf189', 'p2ry8', 'pianp', 'vwa3a', 'ddx59', 'spanxn5', 'dennd10', 'trmt2a', 'cnr1', 'nrbp1', 'ubfd1', 'znf720', 'capn8', 'tbx18', 'cthrc1', 'smc3', 'inhbe', 'arhgap17', 'ndufa11', 'rbm41', 'scly', 'klf8', 'st6galnac6', 'suv39h1', 'glt8d1', 'uap1l1', 'heph', 'obsl1', 'arhgef11', 'ptpn7', 'b4galt7', 'hoxa11', 'mypn', 'mfsd14b', 'hexim1', 'epo', 'cldnd1', 'fars2', 'sall2', 'phrf1', 'ccl18', 'cd200r1l', 'syt4', 'pcnx4', 'itgax', 'aqp4', 'prickle2', 'eif2b3', 'tmem167a', 'ccer2', 'fbxo28', 'dnajc30', 'b4galnt2', 'synrg', 'vnn1', 'ndufb1', 'ednrb', 'znf544', 'trpm5', 'znf300', 'ankrd65', 'tmem210', 'dnttip1', 'epb42', 'lrrc3c', 'prb4', 'jade1', 'c15orf48', 'cd3d', 'sult2a1', 'ccdc33', 'gtpbp1', 'agap1', 'pax2', 'nlrp1', 'bap1', 'bag1', 'map7d3', 'oxct2', 'lrba', 'zacn', 'tcf7l2', 'ndufv3', 'zgrf1', 'or5b17', 'znf233', 'atm', 'zfhx2', 'cdh15', 'zmat5', 'clca4', 'btbd9', 'apbb1ip', 'cldn22', 'e2f6', 'tbc1d10a', 'rprml', 'ccr1', 'yipf5', 'rubcn', 'polh', 'rbm20', 'ccdc194', 'znf433', 'lrrc9', 'ncdn', 'tox4', 'kiaa0408', 'znf585a', 'c3orf49', 'atp1a1', 'cd101', 'pla2g2d', 'tspan10', 'ankdd1a', 'ikzf5', 'enpp5', 'c5orf58', 'mt-co3', 'sucnr1', 'col1a2', 'pus7l', 'timp1', 'calml4', 'mfap5', 'dmxl1', 'uba1', 'anks1a', 'klrc4', 'atox1', 'idnk', 'eif4g1', 'taf11l11', 'atxn3', 'prrc2a', 'zbtb49', 'lad1', 'trmo', 'xpc', 'limd1', 'fam216b', 'lonp2', 'ftl', 'lancl3', 'tmsb10', 'znf705g', 'fgfr3', 'smim7', 'efr3a', 'nrbp2', 'dsc3', 'gjd4', 'kif3b', 'fsd2', 'chrm5', 'prmt9', 'anp32d', 'frmd7', 'ntm', 'invs', 'dgcr2', 'dlg5', 'znf100', 'aacs', 'atp5if1', 'gjd3', 'znf660', 'irgc', 'gal3st4', 'tnfaip8l3', 'apoh', 'arsa', 'nkapl', 'aldh1a1', 'tnrc6b', 'dnajc13', 'tnfsf11', 'rap1gds1', 'fam228a', 'lnpk', 'prpf18', 'syt5', 'or51t1', 'zbtb18', 'ncl', 'gnat3', 'fermt3', 'cpt1b', 'slc49a3', 'gprc5c', 'pgm3', 'zfr', 'rflna', 'nr6a1', 'tekt2', 'cers4', 'abhd16a', 'eif5', 'tmem160', 'trim8', 'nat1', 'fat1', 'scgb3a2', 'adm', 'anapc10', 'znf609', 'plekha4', 'iqca1l', 'ms4a18', 'prpf39', 'fam83f', 'lgalsl', 'bicdl1', 'lcn8', 'st6galnac4', 'vps53', 'shank2', 'thap4', 'rad51c', 'znf491', 'nfam1', 'slitrk4', 'tex49', 'slc17a8', 'rmdn1', 'uba7', 'krtap5-7', 'hgf', 'vax1', 'c1orf185', 'wfdc1', 'hapln4', 'smad1', 'pyhin1', 'vps36', 'scn4b', 'nox1', 'nr2f2', 'gskip', 'dpysl5', 'drich1', 'sntg2', 'actr3', 'ccdc65', 'fbxl20', 'icmt', 'phldb3', 'znf57', 'or5d16', 'zbtb7c', 'dok4', 'itgb8', 'samd4a', 'osgin1', 'ggcx', 'ino80', 'alg6', 'atat1', 'insm1', 'ift81', 'onecut3', 'cox15', 'slc7a1', 'il4r', 'shroom2', 'zbtb37', 'elk4', 'lcmt1', 'klk7', 'htr3a', 'map3k11', 'a2m', 'atmin', 'selenof', 'clstn2', 'zfat', 'c3orf18', 'nutf2', 'or2m4', 'slc35g2', 'ppial4a', 'copa', 'smyd5', 'cyp3a43', 'nub1', 'c8g', 'xdh', 'foxa3', 'dipk2a', 'pdlim4', 'prkacb', 'vil1', 'znf732', 'rtn1', 'rapgef5', 'sgtb', 'fignl1', 'scygr4', 'kdr', 'ms4a2', 'mul1', 'trim69', 'mydgf', 'ccn6', 'a1cf', 'usp8', 'pigw', 'pde6c', 'pramef15', 'plpp3', 'btbd11', 'alg5', 'prss53', 'lrrc19', 'abcd4', 'anln', 'rtl1', 'tbc1d23', 'cxcr5', 'foxred2', 'abhd5', 'dpp8', 'yod1', 'gpr62', 'crnn', 'tuba3d', 'galnt15', 'gfm1', 'tsn', 'abcc5', 'ptprg', 'snx30', 'cutc', 'sigirr', 'c16orf95', 'bahcc1', 'pcnx3', 'celf1', 'tm9sf3', 'cwh43', 'wars2', 'ilrun', 'grina', 'znf830', 'card6', 'inhbb', 'tacc1', 'nol10', 'cldn24', 'sp1', 'ano4', 'proc', 'slc6a19', 'poll', 'rsu1', 'ldlrad3', 'srp54', 'slc5a8', 'peak1', 'adgrl4', 'or13c2', 'rad1', 'eif5b', 'hoxc6', 'tctn2', 'jazf1', 'nxt1', 'ugt2a2', 'lrp10', 'plekhj1', 'dhx36', 'tpst2', 'mtrf1', 'derl3', 'rnf183', 'cdc25a', 'prtn3', 'rnd1', 's100a8', 'ska3', 'clec4a', 'wdr38', 'icam2', 'cenpvl3', 'gnly', 'pcdha1', 'c3orf20', 'kcnj13', 'pon3', 'wfdc6', 'frmd8', 'upk3a', 'med20', 'mss51', 'dcst1', 'znf584', 'zp4', 'gon7', 'zbtb42', 'fbxo2', 'adgra3', 'arhgap15', 'micos10', 'slc30a4', 'wnt9b', 'znf333', 'fam32a', 'ctnnbip1', 'b4galnt1', 'nup155', 'pkd2l1', 'arrdc5', 'arhgap45', 'arhgdig', 'cdc6', 'ube2z', 'dapp1', 'rab31', 'krtap4-5', 'c1s', 'klhl33', 'bcas3', 'ndfip2', 'naxd', 'dnase1l3', 'podxl', 'hsf2bp', 'lamp3', 'mblac2', 'ndst2', 'zscan16', 'samd13', 'mib2', 'fam163a', 'kiaa2012', 'znf668', 'nkx1-1', 'spin1', 'ier5l', 'naaa', 'serpinb6', 'mageb4', 'prr7', 'magee1', 'frem1', 'adgre1', 'ermard', 'ptprn2', 'mlh1', 'lsamp', 'serpina12', 'cyp4f22', 'tbc1d16', 'cacng6', 'c14orf28', 'samd15', 'atraid', 'katnal2', 'rab41', 'mpdz', 'ercc2', 'ervfrd-1', 'muc6', 'ucn3', 'c14orf132', 'brca1', 'slc31a2', 'atp6v0c', 'nlrc3', 'dthd1', 'e2f4', 'tex44', 'ciart', 'dcaf1', 'zyx', 'cttnbp2nl', 'sh3rf1', 'kiaa1586', 'resf1', 'slc38a3', 'tspan4', 'znf709', 'rab8a', 'appl2', 'coq8b', 'kansl3', 'rab9a', 'gdpd4', 'col18a1', 'pcdhb16', 'ss18', 'plin1', 'pcm1', 'kansl1l', 'lrrc26', 'terf2ip', 'smyd1', 'ngfr', 'arfgap3', 'atrn', 'slc39a11', 'cks1b', 'leprot', 'c12orf65', 'zcchc7', 'smim31', 'treml1', 'isg15', 'hnrnpc', 'abcc1', 'dag1', 'cass4', 'umodl1', 'apobec3g', 'rabepk', 'mkks', 'naa50', 'nubp2', 'chd3', 'usp41', 'setdb2', 'mcfd2', 'lbp', 'srpk3', 'map3k7cl', 'unc13b', 'slc66a3', 'nid2', 'strn3', 'prop1', 'slc2a5', 'zwint', 'nsd1', 'ndor1', 'nfe2l2', 'ldhal6a', 'klf13', 'col4a3', 'kcp', 'rhoa', 'itgb1', 'ccdc28a', 'rab11a', 'marveld2', 'zkscan7', 'or8b2', 'rassf2', 'snap25', 'prom1', 'fndc9', 'actr2', 'cyp27c1', 'gtf2h3', 'vpreb3', 'pdgfa', 'shoc1', 'atxn1l', 'arr3', 'klhdc4', 'otol1', 'mgst2', 'kcnip2', 'tmigd1', 'c20orf27', 'smc5', 'depdc5', 'gtsf1l', 'ppia', 'fam166a', 'ptpn3', 'decr1', 'spata31a7', 'psmd5', 'zc3hav1', 'or4k5', 'pla2g12a', 'arglu1', 'irf6', 'ppp1r1c', 'ints11', 'ppp2r5d', 'ube3c', 'tmem202', 'gas2l1', 'ttc32', 'sos2', 'myl1', 'depdc1b', 'tm4sf4', 'ca1', 'aldh1l2', 'spsb1', 'pramef19', 'enoph1', 'c2cd4d', 'znf485', 'rbm24', 'hdgf', 'cyp2f1', 'faap24', 'esyt1', 'mroh7', 'cmya5', 'ptpn4', 'triml1', 'msantd4', 'nrp2', 'carmil3', 'eif2d', 'ces2', 'ube2h', 'myl7', 'polr3b', 'sumo2', 'agbl1', 'snap29', 'clec2a', 'alkal1', 'hhex', 'c5orf24', 'cox16', 'spag9', 'gpr137b', 'tfeb', 'ankrd30b', 'ociad2', 'dkk2', 'aass', 'satb2', 'galnt12', 'tnfrsf18', 'ascl4', 'hspa5', 'mapk3', 'pglyrp4', 'c2orf76', 'atp2a3', 'poc1b', 'colec12', 'trim59', 'jmjd4', 'dynll2', 'ap4s1', 'kcnh6', 'prkca', 'cideb', 'neurod4', 'lcmt2', 'tmem259', 'sh3bp5', 'idh3a', 'krt74', 'khdc3l', 'cpn2', 'khdrbs2', 'or51b6', 'hmx3', 'pcdhb14', 'crip2', 'adamtsl3', 'cd164', 'necab3', 'ralgapb', 'ccl21', 'colec10', 'lipt1', 'klhl32', 'pdlim3', 'pex11g', 'mrto4', 'luzp1', 'slitrk2', 'aoc3', 'znf385d', 'kcnab1', 'lcn10', 'usp54', 'jak1', 'ddb2', 'glyatl2', 'pc', 'arhgap11b', 'adamts17', 'pah', 'tmem256', 'cd180', 'ncr1', 'nkain1', 'espnl', 'cul9', 'vstm1', 'sgo2', 'pygm', 'ciita', 'tsr2', 'krit1', 'tulp4', 'znf232', 'dguok', 'znf785', 'atl3', 'tmod3', 'tyro3', 'cd74', 'slco1b1', 'mrnip', 'slc4a8', 'mnd1', 'ccndbp1', 'phf8', 'arap2', 'calb2', 'glcci1', 'dok2', 'fastkd1', 'u2surp', 'e2f2', 'dipk1a', 'ano5', 'cfdp1', 'pnpla4', 'mvb12b', 'stx2', 'uri1', 'mt-nd6', 'rnf187', 'sfxn1', 'inpp5f', 'sptbn5', 'pnliprp1', 'ankar', 'wapl', 'wdr36', 'slc45a2', 'pstpip1', 'ldah', 'znf92', 'tex37', 'adgre3', 'gda', 'lrrc28', 'mettl1', 'pcf11', 'b3gnt7', 'lrrk2', 'homer1', 'prickle3', 'mchr2', 'slc31a1', 'znf572', 'negr1', 'lypd5', 'styx', 'amelx', 'gprasp2', 'cav1', 'uhrf1', 'cfap299', 'btnl2', 'rnf133', 'c2orf68', 'mns1', 'arhgdia', 'zdhhc17', 'grk3', 'man2b2', 's100a12', 'cfap99', 'steap2', 'cyld', 'ptpru', 'cenpv', 'cdhr2', 'argfx', 'nqo2', 'rnf113a', 'cyp3a5', 'tefm', 'nsun2', 'dsel', 'krtap20-3', 'elf2', 'muc7', 'siah1', 'slc27a2', 'ppp1r12a', 'znf280a', 'tmprss7', 'usf3', 'znf366', 'zdhhc4', 'tmem132a', 'gdi2', 'bace2', 'spdl1', 'snrpa', 'kirrel2', 'tent5d', 'defb116', 'snapc4', 'fbxo32', 'ythdc2', 'cops6', 'smarcad1', 'cysrt1', 'dipk1c', 'nek9', 'znf518a', 'cdyl', 'alpp', 'ddx6', 'gp2', 'kif4a', 'poldip2', 'rimkla', 'dusp22', 'pla2g2e', 'lmo7', 'il2', 'bend3', 'ccnb3', 'ajm1', 'foxb1', 'lrrc73', 'erbin', 'msh2', 'kif12', 'bbs10', 'usp51', 'pfkfb2', 'xrcc4', 'sgcz', 'fam189a2', 'snupn', 'slc39a3', 'efcab8', 'epha6', 'raver1', 'gsg1l2', 'pkn1', 'ccser2', 'gns', 'insrr', 'phactr1', 'mmp8', 'gcnt1', 'ap1b1', 'ppp4c', 'eci1', 's100b', 'rab3il1', 'rd3l', 'rnpc3', 'asah2', 'c16orf72', 'srl', 'mmp15', 'ikzf3', 'lgals9c', 'sox10', 'btk', 'aipl1', 'gcc1', 'tmem91', 'dse', 'tex46', 'pan2', 'eda2r', 'pagr1', 'cr1', 'scarf1', 'lrrc74b', 'paqr8', 'rab6b', 'hoxa3', 'ct83', 'prok2', 'tox3', 'dppa4', 'cby3', 'angpt1', 'tet2', 'znf438', 'cfap53', 'polr3f', 'slc12a2', 'ccdc51', 'card11', 'rprd1b', 'cyb561', 'marcks', 'mex3b', 'tmem128', 'lrrc37a3', 'otud3', 'mrgprx2', 'mtmr1', 'kcnj2', 'tbc1d32', 'slc22a5', 'cit', 'nudt3', 'polr3c', 'vps29', 'pom121l12', 'ceacam5', 'klf4', 'mroh9', 'tmem18', 'med17', 'ccdc182', 'adam29', 'gsto2', 'numb', 'ppp1r15a', 'nr2e3', 'npy1r', 'lgals14', 'myo7b', 'dnaaf4', 'trim46', 'ptgir', 'zbed3', 'otogl', 'cers5', 'myoz2', 'kcnd3', 'sesn3', 'arl14epl', 'wfs1', 'aldoc', 'ggn', 'vapb', 'fam155b', 'adcy4', 'pex2', 'uhmk1', 'cys1', 'npnt', 'fbln1', 'hs1bp3', 'itprid1', 'jade2', 'amdhd2', 'znf226', 'kpna1', 'parp1', 'prdm8', 'cfap126', 'nudt16', 'gjb7', 'muc1', 'prlhr', 'pth2', 'irak1', 'pank2', 'or10a4', 'tubb2b', 'vcp', 'pnpla2', 'atg101', 'sos1', 'ube2e3', 'golga2', 'cfap57', 'lce2c', 'krtap5-3', 'nsun3', 'ets1', 'inmt', 'qtrt1', 'smim41', 'thap8', 'fam120aos', 'klhdc7a', 'reg3a', 'ugt1a9', 'rbm46', 'hmgcr', 'nars2', 'yeats4', 'znf630', 'cd27', 'bmp8b', 'opcml', 'siah2', 'fam210a', 'colgalt1', 'ppp4r3c', 'gcat', 'or4d6', 'gpr6', 'itpr2', 'reep6', 'plxna4', 'sbf1', 'ufd1', 'gata3', 'znf213', 'prpsap1', 'pias1', 'copz2', 'mei1', 'znf134', 'aqp1', 'egln3', 'rab12', 'ltbr', 'c1orf112', 'slc38a10', 'arl8a', 'gcsam', 'tmem109', 'pcdhga8', 'nhlrc1', 'mto1', 'pitx3', 'ddrgk1', 'spag1', 'skp2', 'mroh1', 'pdzd9', 'mcf2', 'tbccd1', 'slc35e3', 'pth1r', 'thap7', 'rwdd2a', 'prkaca', 'tmem89', 'fam149a', 'mmp20', 'scara3', 'zcchc14', 'atp13a2', 'ddx39b', 'tra2a', 'c17orf49', 'ints6', 'rab11fip4', 'znf750', 'bpifa2', 'dhx35', 'ensa', 'sowahb', 'ephx2', 'pnkd', 'p4htm', 'lyrm9', 'trmt6', 'ccdc70', 'cd200', 'fbxl4', 'vipr2', 'dtl', 'ncald', 'ccdc71l', 'hs3st1', 'plpp6', 'cxcl16', 'or1g1', 'pqbp1', 'cd207', 'klhdc8a', 'ndufa5', 'gdf6', 'prmt6', 'cabs1', 'fuom', 'nxf1', 'pcsk6', 'jak3', 'myct1', 'batf3', 'ranbp6', 'sf3a3', 'endog', 'cpxm2', 'gvqw3', 'gja3', 'znf596', 'c14orf119', 'rusc1', 'or10h2', 'prkd3', 'tubgcp5', 'rad23a', 'nlgn3', 'jund', 'zfp69', 'slc35b4', 'slc2a14', 'fem1b', 'thada', 'arhgap22', 'nsmce4a', 'ndufa4', 'yjefn3', 'stoml1', 'nop14', 'znf460', 'znf219', 'snapc5', 'fank1', 'ifitm1', 'brat1', 'trhde', 'cdca4', 'slc16a6', 'c6orf120', 'gpcpd1', 'morn4', 'tasor2', 'cbfb', 'cd79a', 'tmod2', 'slc41a3', 'paep', 'znf836', 'trim35', 'tspan14', 'slc25a34', 'kat2b', 'anapc7', 'cwc25', 'ech1', 'rab32', 'ppm1g', 'klrg2', 'coprs', 'eya4', 'ankrd49', 'zbtb47', 'dffa', 'gnat1', 'cadm4', 'uggt2', 'piezo2', 'greb1', 'znf236', 'miip', 'pou5f2', 'acsm3', 'tnfsf14', 'rnf139', 'pfdn6', 'mdga1', 'lrcol1', 'smtn', 'tekt1', 'pop5', 'armc10', 'znf267', 'b4galt1', 'fam9a', 'prss36', 'ndufs2', 'ttl', 'lrrc23', 'mfn2', 'elf4', 'fgd3', 'il17ra', 'znf816', 'rab38', 'rfx7', 'mex3c', 'znf691', 'cnnm2', 'syt12', 'fam104a', 'egr3', 'pmp2', 'npbwr1', 'kcnj4', 'ptgs1', 'srp9', 'fabp4', 'nhsl1', 'smad2', 'tal1', 'arhgap11a', 'otud6b', 'znf133', 'sema4b', 'epn1', 'ncr3lg1', 'cox4i1', 'cdh1', 'optc', 'pgap1', 'spty2d1', 'znf644', 'itpk1', 'rtl8a', 'zswim2', 'pcdhb1', 'neil1', 'got1', 'smim21', 'nfkb2', 'raet1g', 'ascl2', 'ppm1a', 'cyp4f8', 'tmem126b', 'tinagl1', 'gng10', 'gata2', 'nup107', 'cyfip2', 'celf2', 'nubp1', 'nop53', 'itga8', 'gatd1', 'pdzrn4', 'erc2', 'ly6g6d', 'ak1', 'dixdc1', 'ankrd50', 'tfdp2', 'pif1', 'nacc2', 'nrep', 'zswim5', 'tubg1', 'arhgap28', 'stab1', 'znf471', 'csf2ra', 'cnot10', 'cpd', 'asmt', 'syvn1', 'magea6', 'nebl', 'gatad1', 'tecta', 'morc1', 'sdf2l1', 'actn4', 'rbm27', 'c7orf57', 'galk2', 'zscan32', 'ccdc189', 'hnrnpl', 'siglecl1', 'lmcd1', 'slc6a17', 'gmfg', 'tesmin', 'itga2b', 'sec24b', 'tmem106b', 'vstm5', 'inafm1', 'zbtb41', 'armc12', 'sod3', 'ckm', 'or51d1', 'tnfrsf6b', 'cope', 'gpr171', 'plxna3', 'znf880', 'rasal3', 'mtfr2', 'fcrl4', 'inava', 'rtl3', 'skor2', 'zfr2', 'mdm4', 'tmem267', 'znf672', 'wnt2', 'gpr25', 'cln8', 'usp43', 'siglec9', 'yipf3', 'ppp1r14c', 'sgsh', 'glyr1', 'znf195', 'frmd4b', 'rnaseh2c', 'fetub', 'gpnmb', 'slc17a2', 'tmem88b', 'ulbp2', 'rab20', 'ctdspl2', 'cxcr3', 'gna11', 'wnk2', 'ocel1', 'htr1d', 'apof', 'aldh9a1', 'ccdc173', 'rufy4', 'tmed8', 'efcab3', 'ppie', 'gimap6', 'ptrh1', 'bloc1s2', 'pfkm', 'dio2', 'kiaa1549l', 'zbtb45', 'eefsec', 'mt-nd4', 'timm17a', 'cdk5', 'arhgap5', 'emsy', 'il22', 'cyp3a7', 'usp30', 'mmp14', 'carns1', 'tpr', 'cbll1', 'med12', 'syt1', 'sord', 'myl4', 'atp5f1d', 'rab22a', 'gmcl2', 'spata6l', 'ppp4r4', 'cldn9', 'myo5b', 'mutyh', 'nono', 'atg9a', 'socs6', 'wnt9a', 'pnpo', 'cfap58', 'prr22', 'rapsn', 'unc119b', 'pola1', 'eif3e', 'emp2', 'irf2bpl', 'gbp5', 'or8i2', 'pjvk', 'hdac1', 'c17orf80', 'hdhd3', 'nodal', 'sec13', 'krtap24-1', 'p3h4', 'slc25a1', 'slc9a3', 'atp5mc3', 'kcnc3', 'eif3d', 'pigv', 'rubcnl', 'ubqln4', 'acot8', 'myo18b', 'tet3', 'ddx25', 'wdfy2', 'metrn', 'ttll10', 'slc13a4', 'fxr1', 'kir2dl4', 'son', 'cisd1', 'cxcl8', 'or5b2', 'nfkbid', 'kiaa0232', 'rbm12', 'ccr5', 'pabpc4l', 'efhc1', 'ruvbl2', 'znf341', 'arhgef19', 'lmx1b', 'efna1', 'fyn', 'klf5', 'glis1', 'isca2', 'fpgt', 'galnt14', 'c4orf51', 'pcnx1', 'actl8', 'prr29', 'stxbp6', 'cpsf4l', 'eid2b', 'slc25a46', 'hivep3', 'ulk1', 'c2orf92', 'trnau1ap', 'ccdc180', 'otof', 'odaph', 'defb110', 'neurog2', 'or9i1', 'pcdha6', 'rbl2', 'dcp1b', 'fxyd7', 'myoc', 'pth2r', 'hspb2', 'dstn', 'hoxa1', 'ifitm5', 'erlec1', 'or6m1', 'gria2', 'phospho2', 'sil1', 'tat', 'pigk', 'unc13a', 'casp4', 'cldn14', 'cdk5r2', 'zic4', 'znf398', 'dhx34', 'rilpl1', 'barhl1', 'susd1', 'tma16', 'syne1', 'c1orf216', 'dhx33', 'git2', 'cnrip1', 'rfc4', 'cdk11a', 'ccr6', 'ttyh1', 'cldn25', 'crybb1', 'abo', 'syde2', 'fbxl15', 'tbc1d30', 'ccdc68', 'plagl2', 'itch', 'hmcn1', 'ccdc154', 'fezf2', 'ms4a1', 'trem1', 'cul4b', 'vamp5', 'actr6', 'znf135', 'mtmr14', 'cbln4', 'smim22', 'diras3', 'myorg', 'rhcg', 'llgl1', 'traf3ip3', 'lgals3', 'tle7', 'mt1f', 'crtc3', 'reep3', 'ap2m1', 'gclc', 'phospho1', 'ovgp1', 'stk25', 'gjc3', 'tnnc1', 'or2a5', 'fam241b', 'rasl11a', 'dusp4', 'ephx3', 'exoc3l2', 'nrtn', 'caskin1', 'fam131c', 'clec3b', 'ugt1a4', 'edc4', 'dscaml1', 'ston2', 'scml2', 'sppl2a', 'xpo7', 'sypl2', 'ddr2', 'slc35f3', 'map3k1', 'rdh10', 'art1', 'dnah10', 'ceacam6', 'fam151b', 'dglucy', 'cnot2', 'tprg1l', 'gpr173', 'dpp3', 'klhl14', 'or13c8', 'cacna1d', 'bex3', 'slc46a3', 'med7', 'desi2', 'psg7', 'denr', 'tbc1d24', 'arel1', 'scarf2', 'ifi27l1', 'sds', 'cry1', 'ffar3', 'itga10', 'frat1', 'ilkap', 'hnrnpd', 'cuta', 'insc', 'znf839', 'lias', 'suv39h2', 'fgf14', 'nectin4', 'hand2', 'zranb2', 'ephb2', 'med18', 'amn', 'znf430', 'ppp1r12b', 'pfkfb4', 'igsf11', 'vta1', 'ubxn7', 'cdc23', 'hddc2', 'kctd13', 'ikbkb', 'krtap1-5', 'cshl1', 'slc25a20', 'sgo1', 'cplane1', 'chka', 'csnk1g2', 'serpini2', 'icam4', 'tifa', 'cldn20', 'defb121', 'ndnf', 'c10orf99', 'nol3', 'nlgn2', 'sh3d19', 'hmhb1', 'vdac2', 'gdf9', 'mrgprg', 'crip1', 'lca5', 'aatk', 'slc37a4', 'znf766', 'pacs2', 'tmem178b', 'selenop', 'rarres2', 'myt1', 'acvr1', 'pabpc4', 'med12l', 'pex7', 'cadm3', 'jhy', 'dcaf4l1', 'sh2b2', 'dhx37', 'atl1', 'thyn1', 'hoxb5', 'sft2d1', 'pip5kl1', 'herc3', 'snx19', 'wnt3a', 'ptpn21', 'tacstd2', 'foxf1', 'znf253', 'rnase10', 'pkhd1', 'serinc1', 'rere', 'ripk2', 'tbc1d8', 'cldn16', 'plscr1', 'armt1', 'mlycd', 'slc27a1', 'iqcc', 'abi3', 'zscan26', 'hdac11', 'ung', 'slc5a11', 'kif1a', 'ube4b', 'smim8', 'henmt1', 'fech', 'nomo1', 'tp53rk', 'tmem82', 'tspan15', 'slc26a7', 'vps41', 'ralyl', 'hoxa9', 'uba2', 'shroom3', 'piwil1', 'ufsp2', 'hmgxb3', 'tia1', 'c2orf72', 'ankrd10', 'ajuba', 'tubb1', 'exo5', 'fiz1', 'lims2', 'ash2l', 'alg1', 'lrrc66', 'mettl25', 'psmb1', 'atp1a4', 'irak4', 'ifnl2', 'ube2o', 'bambi', 'socs2', 'tcf4', 'dcaf4l2', 'rad9b', 'asphd1', 'maea', 'gstm3', 'vgll4', 'mindy4b', 'trpc3', 'klhdc3', 'mon2', 'atp6v1g3', 'armc8', 'foxi1', 'snx16', 'rragb', 'cadps2', 'znf708', 'znf574', 'plekho1', 'klhl21', 'krt84', 'immt', 'dcaf12', 'asnsd1', 'syk', 'mgarp', 'eif3b', 'ulk2', 'arid5b', 'ncor1', 'drgx', 'glis2', 'znf562', 'slc28a2', 'gng5', 'cdh13', 'tgm6', 'eepd1', 'nudt8', 'krtap19-6', 'pinlyp', 'ubr7', 'capn9', 'med22', 'id2', 'c4orf50', 'vax2', 'cdk16', 'dot1l', 'map4', 'hadha', 'pskh1', 'or4f21', 'baiap2', 'zc3h7b', 'trim15', 'atp6v1c1', 'cd320', 'cyp2u1', 'tgfbr1', 'nfasc', 'fras1', 'wdr31', 'trappc6b', 'mterf3', 'capns1', 'opn3', 'chst8', 'znf449', 'serinc2', 'rif1', 'aldh1b1', 'rbl1', 'abhd17b', 'gramd1c', 'perp', 'xylb', 'krt72', 'c17orf97', 'sp110', 'med1', 'snrnp25', 'epb41l2', 'golm1', 'gimap5', 'ddx21', 'prkab1', 'krtap21-2', 'scgb3a1', 'mageh1', 'pdcd6', 'znf141', 'rpa3', 'scg2', 'top1mt', 'heatr5b', 'rxra', 'ctdspl', 'atf6b', 'aldob', 'aurkaip1', 'dlst', 'cmtm6', 'hps4', 'krtap21-1', 'frk', 'cntn5', 'azin2', 'ripk3', 'fam234b', 'calhm6', 'mertk', 'coa4', 'ogfr', 'foxp3', 'gcfc2', 'rabac1', 'napepld', 'tmem104', 'gtse1', 'trim72', 'ly6e', 'or5p2', 'aifm1', 'nynrin', 'cldn3', 'ndufab1', 'c2orf69', 'sult1e1', 'panx1', 'c1qtnf6', 'fbxl8', 'dram1', 'sympk', 'polr3a', 'gpr179', 'rnft2', 'mmp3', 'mms19', 'errfi1', 'cadps', 'scnn1b', 'c12orf54', 'cbx8', 'kdm5b', 'taf1c', 'grem1', 'mcm6', 'selenoh', 'nol9', 'golga6l2', 'psd4', 'or51a4', 'homer2', 'dtx1', 'tns3', 'slc9c2', 'grm7', 'st3gal5', 'rtl10', 'c9orf50', 'adora1', 'or14a2', 'galnt2', 'tmem237', 'rcn3', 'dnase1', 'nutm2e', 'clta', 'pip4k2a', 'dbi', 'sdr39u1', 'znf25', 'per2', 'eif2s3', 'ahdc1', 'smim18', 'poglut2', 'cep152', 'lsm10', 'med28', 'fam81b', 'or13d1', 'gch1', 'axl', 'enkd1', 'cpa3', 'rai2', 'rnase1', 'npas2', 'ccdc27', 'prdm6', 'znf260', 'pde8b', 'znf559', 'psg9', 'iqcf2', 'cdh19', 'larp7', 'usp38', 'arhgef40', 'jpt2', 'dnm2', 'syce3', 'cst6', 'tnfrsf13b', 'adra1d', 'asap1', 'zcwpw2', 'stx1b', 'esr1', 'nup85', 'zglp1', 'eif2b4', 'dlg2', 'sapcd1', 'tob1', 'amacr', 'arhgef7', 'thbs1', 'nlrp8', 'blnk', 'smpd1', 'pdcl', 'ppp1r8', 'ythdf3', 'lamb1', 'vasp', 'ccdc117', 'pcsk2', 'stk32c', 'fh', 'zcchc17', 'vcpip1', 'ogfod3', 'rab3a', 'znf410', 'pla2g4b', 'tbc1d2', 'g6pc3', 'tlcd3b', 'ddb1', 'clptm1', 'slc22a1', 'rhno1', 'rasal2', 'slc16a13', 'cenpo', 'slc22a10', 'pwwp3b', 'bhmt2', 'arl9', 'pak3', 'bicd1', 'naa20', 'cep120', 'fstl5', 'aplnr', 'c12orf50', 'ccdc196', 'apob', 'pwwp2a', 'uts2', 'abcf3', 'ceacam8', 'gja5', 'hepacam', 'itih6', 'pla2r1', 'slc30a6', 'traip', 'naa11', 'morc4', 'cdk9', 'stam2', 'zbed2', 'mak', 'upf1', 'sirt1', 'drd2', 'lrrc58', 'dhx9', 'zswim7', 'znf517', 'krt85', 'tex13b', 'cdk2', 'cpz', 'ube4a', 'hexd', 'paqr4', 'atg3', 'lta', 'or1l1', 'mob3a', 'prss55', 'tbxt', 'foxl2', 'ift140', 'cldn15', 'ubl5', 'znf597', 'cd300e', 'plp1', 'scp2d1', 'znf474', 'arl4c', 'ttr', 'fbxl7', 'pou3f1', 'jchain', 'ppp3ca', 'pabpn1l', 'zcchc13', 'iqcg', 'ptger1', 'msi1', 'khsrp', 'l3mbtl1', 'pcyt2', 'nol7', 'ccna2', 'gpat2', 'mindy3', 'cdrt1', 'lrrc43', 'rbsn', 'hat1', 'elmo1', 'mtbp', 'cstf3', 'etv5', 'tspan33', 'brdt', 'znf230', 'acyp1', 'chmp7', 'c5ar1', 'clip4', 'ibsp', 'clec10a', 'pnliprp3', 'rtf2', 'npffr1', 'or51b5', 'tlr3', 'ell3', 'znf124', 'atp2b4', 'plaat2', 'znf358', 'krt34', 'cipc', 'slc35e1', 'slc10a1', 'znf681', 'pard6g', 'uqcrh', 'tm4sf18', 'sptb', 'idh3g', 'gdap2', 'ido2', 'serpind1', 'dcaf4', 'fam174a', 'kcnh2', 'sun2', 'zfand1', 'tnk1', 'ctif', 'znf229', 'impa2', 'tas1r2', 'ano10', 'casp2', 'crybg2', 'slc36a2', 'tlcd2', 'or4f15', 'polr3g', 'cyba', 'mien1', 'npvf', 'nlrc4', 'pgbd5', 'spg21', 'dhps', 'pdrg1', 'asic4', 'tmppe', 'tmem186', 'sh2d1b', 'trmt10b', 'slc25a43', 'c12orf66', 'ctnnd2', 'mtss1', 'ddx60l', 'dmrta1', 'asf1b', 'axin2', 'srprb', 'defb108b', 'hspbp1', 'klf1', 'lonrf1', 'cfap77', 'astn2', 'gemin2', 'znf157', 'mmp16', 'id3', 'smarce1', 'klhl8', 'tbc1d15', 'pigl', 'becn1', 'sec23ip', 'lamb4', 'ctsb', 'znf521', 'myo1b', 'cilp', 'stxbp5', 'farp1', 'stum', 'kcnmb3', 'apom', 'arrdc2', 'lekr1', 'bdh2', 'ppp2r5b', 'mettl16', 'cuzd1', 'prss1', 'igfbp4', 'mbl2', 'mtfr1l', 'serpinb1', 'ppil1', 'cela1', 'sgip1', 'ugdh', 'tomm40', 'bmpr1a', 'zp3', 'dpt', 'btn3a3', 'taar6', 'mamdc2', 'nanos1', 'angptl5', 'spns3', 'napg', 'ampd2', 'fgf21', 'cep350', 'spry3', 'ndufs1', 'setx', 'accs', 'map2k4', 'ddx27', 'mpp7', 'oxgr1', 'nptx1', 'odf4', 'ppcs', 'nanp', 'gnai3', 'onecut1', 'sdc2', 'ccdc42', 'gmnn', 'sftpb', 'plpp2', 'emc2', 'ccdc9b', 'calcr', 'banf2', 'tcta', 'prelp', 'adgra2', 'ap3m1', 'sult1c3', 'tdrd15', 'msh6', 'cmbl', 'ccdc152', 'or5m10', 'dnmt3l', 'havcr2', 'dok1', 'cebpzos', 'pold3', 'creb3l2', 'csdc2', 'gfra1', 'ptch2', 'pigf', 'washc3', 'mtg1', 'gprin3', 'arl13a', 'cul7', 'znf212', 'ago1', 'trpc7', 'tecrl', 'ccdc107', 'idi1', 'abcb1', 'tlcd5', 'coq10a', 'hspb9', 'mybbp1a', 'wdr12', 'ccdc113', 'ccdc112', 'ddx18', 'lamc2', 'nr3c2', 'tnni3', 'n4bp2l1', 'ppp2r2a', 'dnase1l2', 'ift43', 'bcar3', 'ccdc190', 'shcbp1l', 'pithd1', 'snx18', 'trim17', 'adgrf3', 'mtrex', 'rap2c', 'enkur', 'krt3', 'iqsec3', 'znf605', 'tex30', 'tsc22d2', 'tfam', 'nudt2', 'pomp', 'rspry1', 'ciao1', 'treml4', 'fam217a', 'dimt1', 'il34', 'aoc1', 'klf11', 'gzmh', 'golga6l6', 'znfx1', 'shisal2b', 'ccdc142', 'celf4', 'cdsn', 'qpct', 'ywhaq', 'reep5', 'gtpbp10', 'c3orf52', 'znf71', 'c11orf45', 'mlxip', 'rnf207', 'vamp1', 'smad3', 'siglec12', 'akap3', 'zmym3', 'prkar1b', 'patj', 'defb128', 'slc6a1', 'atp13a3', 'pdgfrl', 'zfyve28', 'serpinc1', 'tcirg1', 'unc80', 'hdac9', 'akr7a2', 'sh3kbp1', 'ikzf2', 'lztfl1', 'kbtbd6', 'septin4', 'far2', 'nfe2', 'ipo8', 'or5m1', 'smarca5', 'plag1', 'troap', 'ryr3', 'mgrn1', 'mllt6', 'dcakd', 'larp6', 'cetn1', 'inpp5d', 'itpkb', 'golga8o', 'bmp7', 'lrch3', 'imp4', 'tpsg1', 'arrdc1', 'krt24', 'sftpa1', 'calhm5', 'vgll1', 'prmt7', 'edil3', 'rasef', 'fshr', 'dhx58', 'ly6k', 'reep4', 'cxcr4', 'il4', 'dnali1', 'srr', 'stab2', 'vldlr', 'bmp2k', 'znf404', 'crybb2', 'asb1', 'spty2d1os', 'yif1b', 'krba1', 'slc35a5', 'cmip', 'ccnj', 'ccnyl1', 'hbegf', 'mtcp1', 'drp2', 'fzr1', 'mt-nd4l', 'bri3bp', 'rnf166', 'adgrf5', 'cep135', 'chmp5', 'entpd1', 'pou4f2', 'pkp2', 'aggf1', 'nedd4', 'cdk5rap2', 'hjurp', 'abhd10', 'frem2', 'btn2a2', 'syp', 'atp5f1c', 'slco2a1', 'arid1a', 'siglec14', 'cep57', 'glyat', 'tmtc3', 'scube1', 'disp3', 'smarcal1', 'fam222b', 'eif2b5', 'cul1', 'slu7', 'frmpd2', 'dennd5b', 'uroc1', 'dhx40', 'adamts10', 'porcn', 'znf512', 'cct6a', 'cacfd1', 'ocm2', 'utrn', 'pramef2', 'rbbp8nl', 'nlrp2', 'c1orf226', 'ccny', 'nkain3', 'pclo', 'tulp3', 'sec14l6', 'il17c', 'helz', 'tnrc18', 'muc20', 'prf1', 'spata45', 'bend6', 'pcdhb11', 'adrb1', 'arrb1', 'tbck', 'il10', 'chd8', 'myh14', 'npbwr2', 'secisbp2', 'bcl6', 'cldn4', 'pnpla8', 'spata4', 'ctdsp1', 'lce1b', 'chac1', 'dnah9', 'tmem231', 'commd1', 'srgap1', 'hdac6', 'akr1c8p', 'mtdh', 'map2k1', 'zfp92', 'pcbd2', 'larp4', 'hyal4', 'plekhg4', 'lime1', 'acta2', 'parpbp', 'eral1', 'tgm2', 'smad4', 'capsl', 'faim', 'ttc6', 'phf19', 'slc2a4rg', 'surf1', 'itprip', 'golga3', 'gprin2', 'il1f10', 'c11orf21', 'zpbp2', 'izumo2', 'pbk', 'lif', 'cnksr2', 'chsy3', 'sh3bgrl2', 'gldn', 'tsku', 'sphk1', 'socs3', 'daxx', 'plekhg5', 'eno4', 'ihh', 'neil3', 'ccdc110', 'mfsd14a', 'kcnk16', 'spry4', 'zbtb46', 'plaat3', 'pphln1', 'tmem40', 'mccd1', 'plp2', 'tph1', 'dph7', 'tpd52l3', 'col6a5', 'whamm', 'tmem70', 'c2orf66', 'eftud2', 'evc', 'blacat1', 'mboat7', 'il1r2', 'or13h1', 'mcam', 'eml5', 'cdk5r1', 'stxbp1', 'cmtm3', 'commd8', 'insyn1', 'dpy30', 'il12rb1', 'htr2b', 'pmpca', 'pitpnm3', 'znf121', 'smim13', 'or7c1', 'cd177', 'acd', 'gak', 'or5b12', 'il25', 'bspry', 'spn', 'efemp2', 'timm13', 'syce2', 'atg4d', 'naaladl2', 'mis18a', 'col10a1', 'pmvk', 'npr2', 'kdm1a', 'tdrd5', 'pmm2', 'nemp2', 'hnmt', 'thap9', 'fgf12', 'taf7', 'trim50', 'pcsk5', 'ror2', 'ms4a6e', 'map3k4', 'ppl', 's1pr5', 'znf207', 'pcyt1b', 'fbxw9', 'ctse', 'pcdhb4', 'glb1l', 'znf675', 'sass6', 'cdrt4', 'tmem185b', 'grm8', 'timm44', 'dmwd', 'oprm1', 'lgmn', 'gtf2h4', 'misp', 'dnmt3a', 'alpg', 'shb', 'pdcd7', 'slc35g1', 'tm7sf3', 'trappc1', 'adamts4', 'mocs3', 'gba2', 'klhl42', 'ly9', 'cfap206', 'pccb', 'pcgf6', 'cdc42se1', 'phyhip', 'dnai1', 'rhog', 'srcin1', 'mllt10', 'ccar2', 'kalrn', 'adamtsl1', 'serpinb8', 'prps2', 'alas2', 'rap2a', 'ermap', 'fbn2', 'ncam2', 'maf1', 'lrrc6', 'cited1', 'tmlhe', 'fam171a2', 'egfr', 'rhoh', 'inip', 'lmo3', 'osgep', 'tamm41', 'tnfrsf1a', 'plxnb2', 'mef2d', 'znf41', 'ttc36', 'slc22a18as', 'vgll3', 'mpnd', 'galnt10', 'seh1l', 'slc2a9', 'calm1', 'robo4', 'phox2a', 'znf684', 'tcf21', 'clec6a', 'spink6', 'sdc3', 'nup210l', 'sco2', 'rasl12', 'chmp3', 'ptpn2', 'pgam1', 'rsbn1l', 'ubqln1', 'dppa5', 'gpr45', 'spdyc', 'mapk8ip2', 'wdr82', 'slc25a6', 'ndst1', 'hydin', 'galnt18', 'itga6', 'cpe', 'pfkfb3', 'kcna5', 'c19orf25', 'cav2', 'or52w1', 'avp', 'nrip3', 'supt6h', 'akap10', 'phkg2', 'cobl', 'lipt2', 'selenoi', 'fam161b', 'sh3bgrl3', 'golim4', 'neil2', 'gabra4', 'cnbp', 'ankrd63', 'gxylt2', 'soga1', 'znf329', 'slc29a2', 'smarcd2', 'fbln7', 'rab5b', 'magec1', 'tmem270', 'ric1', 'si', 'arhgap19', 'rnf114', 'hoxd12', 'ccdc80', 'hnrnpa2b1', 'cpvl', 'ccdc66', 'snx9', 'pyroxd1', 'zbtb14', 'klkb1', 'kif2c', 'myl3', 'krtap10-10', 'alb', 'spata5l1', 'atp5mc1', 'slc36a1', 'adcy5', 'catsperg', 'cxcl3', 'sptbn1', 'ca3', 'mafb', 'ppfibp2', 'hsd11b2', 'col23a1', 'mettl21a', 'lgi1', 'gimap7', 'mettl11b', 'dnttip2', 'sec24c', 'dnajb12', 'sltm', 'sln', 'gpr3', 'dennd1b', 'leap2', 'pigg', 'eif3g', 'prr5l', 'tubgcp3', 'trim34', 'clasp2', 'asl', 'polr2c', 'timd4', 'cyp11b1', 'npipb2', 'spem2', 'znf831', 'ostc', 'aco1', 'hdac10', 'adam32', 'cd46', 'pdlim7', 'sdhb', 'syngr1', 'znf862', 'sectm1', 'lysmd3', 'slc15a1', 'alox15b', 'ppm1e', 'dolk', 'galr2', 'mrs2', 'higd2a', 'csn3', 'adh4', 'gfer', 'relch', 'fcrlb', 'chrna5', 'hus1', 'or4k1', 'sprr3', 'aunip', 'dusp2', 'cstf1', 'b3galnt2', 'zscan10', 'isca1', 'mapk6', 'apol2', 'cenpc', 'mrap2', 'nlrp3', 'pgghg', 'bola1', 'foxk1', 'arcn1', 'spg11', 'col11a2', 'btnl3', 'ssx5', 'rnf19b', 'npl', 'hyal2', 'ccs', 'c14orf39', 'dlx4', 'gkn1', 'crebzf', 'mcph1', 'dclk2', 'ric8a', 'cox14', 'ncf2', 'pde10a', 'or5m3', 'pkd1l3', 'or1q1', 'aar2', 'pcbd1', 'dnmt1', 'slc15a5', 'kiaa0895l', 'c9orf131', 'susd3', 'yaf2', 'afg1l', 'golga5', 'mogs', 'tmem31', 'smco3', 'ddit3', 'armc6', 'cdhr5', 'cxcl5', 'ncapd3', 'ddx17', 'ece1', 'acss3', 'scamp2', 'rab23', 'srsf4', 'dcdc2c', 'macf1', 'ntng1', 'cdk15', 'pacc1', 'megf9', 'rerg', 'six5', 'foxs1', 'smpd2', 'fam149b1', 'arhgap32', 'fbxl12', 'or4s1', 'fcgbp', 'atp6v1b1', 'snapc2', 'lypd6b', 'tlnrd1', 'pdhx', 'cfb', 'nek1', 'dnajc28', 'plagl1', 'folr1', 'osbpl7', 'maz', 'chd5', 'syt14', 'foxq1', 'tmem258', 'pigbos1', 'babam2', 'or5m11', 'smim1', 'c8orf89', 'best1', 'castor1', 'or10c1', 'gatad2b', 'sirpb1', 'adora3', 'gin1', 'supt3h', 'fastkd5', 'cfap54', 'gbp2', 'plekha2', 'noc2l', 'dmtn', 'acsl6', 'c9orf40', 'dynlt3', 'akap4', 'fmr1nb', 'traf5', 'krt8', 'tmem81', 'mx1', 'tas2r4', 'itih2', 'herc2', 'abcb11', 'or10x1', 'tmem159', 'abat', 'camkk1', 'vamp2', 'ybx3', 'gpatch4', 'socs1', 'notch1', 'parp3', 'ltc4s', 'noc3l', 'cryz', 'hsp90b1', 'pbdc1', 'mast2', 'ppp2r3a', 'wnt10a', 'tas2r14', 'lin7c', 'hsph1', 'tbx10', 'ndufaf5', 'kif17', 'camk2b', 'defa3', 'bahd1', 'dcaf13', 'or2k2', 'sin3b', 'smim9', 'pgbd2', 'ccl28', 'mxi1', 'fyb1', 'dcaf10', 'ctsg', 'c5orf52', 'skil', 'cst3', 'nxpe1', 'psg4', 'tmem95', 'myf6', 'foxn2', 'ttyh2', 'lypd3', 'gdpd2', 'fads3', 'herpud2', 'plekha1', 'map3k2', 'traf7', 'col14a1', 'hnrnpr', 'cacnb2', 'micall1', 'ubap1', 'pir', 'taf6l', 'zmynd12', 'msh4', 'cxcl1', 'aqp8', 'fuca1', 'fcgr1a', 'dlec1', 'taar2', 'prcc', 'kantr', 'sprr2g', 'c1orf43', 'gtdc1', 'wdsub1', 'efna5', 'emc7', 'kif5c', 'vav3', 'rnf167', 'septin5', 'comt', 'znf610', 'kdm6a', 'ppil4', 'gpr78', 'dusp28', 'ccl24', 'rgl3', 'iscu', 'cp', 'rgcc', 'panx2', 'sstr4', 'c20orf204', 'sox13', 'etf1', 'vps11', 'lsmem2', 'spag6', 'mettl17', 'palb2', 'ccl3l1', 'znf234', 'dnah1', 'aldh7a1', 'ptcd2', 'vcpkmt', 'sgms2', 'znf549', 'golga8r', 'rpel1', 'krtap5-10', 'apol6', 'pdlim1', 'masp1', 'gal3st1', 'or6c75', 'pcdh17', 'tmem204', 'abcg2', 'tgds', 'reep2', 'klrf2', 'prkag1', 'eme1', 'vn1r1', 'dgki', 'cbx4', 'ptprc', 'chrnd', 'pou5f1b', 'wfdc12', 'ube3d', 'ambn', 'golt1b', 'rfx8', 'frmpd1', 'tapt1', 'rspo3', 'rgs8', 'ucp2', 'p2rx2', 'lrrc8e', 'islr2', 'fndc5', 'abhd6', 'ide', 'mosmo', 'atoh7', 'ccdc8', 'mgat3', 'rab3gap1', 'esrra', 'smtnl2', 'pgc', 'kri1', 'tfpi', 'znf335', 'ypel4', 'stc2', 'tdrd12', 'atp5mgl', 'pappa2', 'vsig10', 'stag1', 'adgrd2', 'kdm3a', 'd2hgdh', 'tm9sf2', 'mtmr3', 'cnnm4', 'shisa2', 'il1r1', 'efna3', 'pcp4l1', 'ehd1', 'lrrc7', 'mslnl', 'c19orf53', 'itgb3bp', 'adcy3', 'dlg1', 'taldo1', 'pan3', 'vps33b', 'casp9', 'znf181', 'defb136', 'c1orf198', 'cacul1', 'pcdh9', 'josd2', 'zbtb43', 'abhd12b', 'tsnaxip1', 'lefty1', 'taf9b', 'agfg2', 'pex13', 'klhl24', 'igfbp2', 'dgke', 'bgn', 'sppl2b', 'plcb3', 'lrrc37b', 'atp13a1', 'ccdc22', 'inpp4a', 'septin1', 'lilra5', 'sprr2f', 'taf11l14', 'prpf3', 'spata5', 'atad2', 'prorp', 'dtna', 'stpg1', 'ergic1', 'adat1', 'meox2', 'pgbd1', 'hlf', 'il37', 'ralgds', 'eps15l1', 'megf6', 'tubgcp2', 'znf18', 'fzd1', 'mtmr11', 'ccdc166', 'cnih2', 'cubn', 'zc3hav1l', 'kctd5', 'cbx2', 'smap1', 'znhit6', 'ifnar1', 'fscn1', 'znf875', 'rgs13', 'vbp1', 'fcrl2', 'slc25a28', 'col25a1', 'ppp1r14b', 'pof1b', 'rad51ap2', 'eif3a', 'snrk', 'slc26a5', 'rnpep', 'dlgap2', 'slc9a5', 'gsg1l', 'gbp6', 'fam104b', 'mageb17', 'clcn2', 'rad50', 'c12orf75', 'znf501', 'aldh1l1', 'capza1', 'foxd4l5', 'zfc3h1', 'fut6', 'armc7', 'adra1a', 'ddx60', 'dynlrb2', 'nisch', 'fam237b', 'tanc2', 'magea11', 'zfyve19', 'bora', 'rab33a', 'adrb3', 'lyplal1', 'ccr9', 'lrrc70', 'znf80', 'ifrd1', 'apip', 'chrm1', 'rab29', 'a3galt2', 'nipa2', 'ube2v1', 'cib2', 'abca13', 'cyp7b1', 'kif19', 'znf175', 'kif3c', 'abcg4', 'stx5', 'nop58', 'heg1', 'il7r', 'dcp1a', 'ptx4', 'mcm5', 'tex53', 'c9orf152', 'krr1', 'or4f4', 'cpne1', 'smpdl3a', 'plaat4', 'tekt5', 'snx20', 'gemin8', 'apba2', 'ace2', 'manea', 'ccl8', 'gpr160', 'washc5', 'crisp2', 'hsf4', 'slc7a6', 'foxn1', 'ier3', 'sod2', 'pcsk1n', 'hormad1', 'senp2', 'ccdc57', 'tp53i13', 'hmga2', 'tcp10l', 'b4galt4', 'slit2', 'tfr2', 'rapgef3', 'map3k20', 'lrrc2', 'sel1l3', 'ptpn22', 'tmem131', 'ankrd55', 'zik1', 'dock5', 'taf3', 'c20orf202', 'atp1a2', 'lrrc40', 'stx1a', 'znf69', 'akap8l', 'armh4', 'hpf1', 'adamtsl4', 's100pbp', 'cd8b2', 'zbtb20', 'rptn', 'lsm5', 'tmem158', 'tbkbp1', 'cndp1', 'oprl1', 'rnase3', 'dcdc2', 'dusp1', 'fbxl13', 'or2at4', 'hoxc9', 'ptpa', 'pank1', 'zdhhc24', 'vps50', 'cacnb3', 'duoxa2', 'nf1', 'adipoq', 'tfcp2', 'elac1', 'acacb', 'plekhs1', 'azgp1', 'septin3', 'atp9b', 'tbl1xr1', 'dhx29', 'vti1b', 'or2a25', 'acbd6', 'trim26', 'dbp', 'slc26a4', 'gpr34', 'kif25', 'klhl6', 'camlg', 'scel', 'milr1', 'cdc14b', 'syndig1l', 'c10orf105', 'secisbp2l', 'cox7b', 'fnbp1', 'ppp1r10', 'stt3b', 'ube2n', 'trim22', 'atp2c2', 'leng9', 'shisa4', 'ppp1r1b', 'adh1b', 'mfsd10', 'gpr68', 'mtnr1b', 'trim11', 'msgn1', 'lhx2', 'sgcb', 'znf235', 'proser3', 'sfrp5', 'c20orf144', 'adam2', 'c9orf24', 'snx33', 'cog2', 'gbp4', 'ppig', 'slc35g3', 'slamf7', 'sf3a2', 'lrrc8c', 'snrnp40', 'pebp1', 'or4k17', 'ctdp1', 'ucp3', 'piezo1', 'tmem212', 'gps2', 'kdm4b', 'cdh6', 'sema4a', 'myadml2', 'znf90', 'tcf7', 'b2m', 'lman1l', 'glrb', 'pdcd2l', 'irx1', 'slc35f2', 'ms4a14', 'nup93', 'uqcrc2', 'ccdc54', 'taf6', 'adrb2', 'epop', 'rab2a', 'mocs2', 'or12d2', 'igsf3', 'hprt1', 'ube2t', 'pak1ip1', 'mapk1ip1l', 'heatr4', 'mecom', 'pcnt', 'il32', 'pkdrej', 'samd5', 'smyd3', 'pllp', 'ascl5', 'tdrp', 'plekhf1', 'bhmt', 'sema6a', 'cmtm2', 'dnajb9', 'sfxn4', 'ttll6', 'erh', 'rnf227', 'kcnab2', 'lce1d', 'fer1l6', 'adamts2', 'serpina4', 'slc4a5', 'plekhb1', 'adal', 'samd9', 'samd10', 'atp4a', 'or5w2', 'ptchd4', 'klhl22', 'tssk4', 'limk2', 'ywhah', 'ablim2', 'rpn1', 'zbtb3', 'bach1', 'cplane2', 'cdhr3', 'usp15', 'coa5', 'wasf2', 'lrp2', 'znf281', 'c17orf113', 'pcid2', 'elp1', 'rabgef1', 'ptges2', 'homez', 'acap2', 'ifih1', 'sdcbp', 'saxo1', 'zbtb22', 'serpina5', 'mief1', 'apcs', 'hoxa7', 'tmco1', 'fgd2', 'jakmip2', 'ddx49', 'tspan8', 'kcnd1', 'rundc3a', 'uts2b', 'cdkl3', 'lcn6', 'bloc1s3', 'c4orf3', 'slc35f4', 'osbpl10', 'nuggc', 'c10orf71', 'arl4d', 'usp3', 'or4d9', 'rad21l1', 'nelfcd', 'krtap6-3', 'slc12a5', 'sgca', 'fcgr2a', 'tbrg1', 'hoxb2', 'nbas', 'taco1', 'lmln', 'ankrd2', 'spire1', 'dclk1', 'med4', 'bmp15', 'cdkn2c', 'pdf', 'siglec11', 'tmem44', 'mecr', 'alpl', 'prr30', 'pf4v1', 'hdgfl1', 'tgif2lx', 'sdr9c7', 'arsf', 'fam199x', 'kcnt2', 'atg4b', 'maml3', 'dvl1', 'rtf1', 'fnbp1l', 'mapk7', 'smarcb1', 'ezhip', 'acvr1c', 'myrf', 'leng1', 'mrap', 'chchd10', 'klf3', 'igsf9', 'smarca1', 'ncapg', 'mxd3', 'mmp2', 'tatdn3', 'ap1ar', 'cuedc2', 'ifitm10', 'pcdha4', 'lrrc75b', 'epn3', 'igf1', 'robo1', 'cdcp1', 'znf273', 'shc3', 'ppp1r35', 'lsm3', 'tmem150a', 'rgs20', 'hint3', 'camk1d', 'metrnl', 'cyp19a1', 'abracl', 'lmtk2', 'ankrd7', 'pdgfb', 'etv6', 'wdfy4', 'ntpcr', 'cxcl9', 'orai3', 'kif14', 'lef1', 'mt2a', 'fasn', 'sel1l2', 'lsp1', 'zbtb7b', 'rasl10a', 'kprp', 'rhpn1', 'cmpk1', 'snx6', 'rhob', 'epn2', 'hormad2', 'ucp1', 'map3k6', 'hoxa10', 'adgrg5', 'znf225', 'ppp2r2b', 'pced1a', 'tmem181', 'elf5', 'mtmr12', 'mterf2', 'ggt6', 'golga1', 'bfar', 'stat4', 'fthl17', 'hunk', 'etv1', 'or6b3', 'ndufs3', 'glyatl1', 'mybpc2', 'gtpbp6', 'ncbp3', 'sgpp1', 'diaph1', 'echdc2', 'rbmx2', 'ecel1', 'nckap5l', 'ccdc150', 'ints13', 'fancm', 'znf461', 'spink14', 'kctd6', 'pds5a', 'rho', 'clpsl1', 'znf415', 'mettl7b', 'grik5', 'tspan18', 'tstd2', 'wdr61', 'rpp25l', 'lhcgr', 'zfyve1', 'rnase2', 'cd79b', 'csrp3', 'fam111a', 'tas2r7', 'fbxo43', 'fbf1', 'gpr176', 'cnot3', 'bpifb2', 'or2l3', 'hao2', 'tut1', 'mc1r', 'dhrs9', 'epha3', 'fam169a', 'rab10', 'sri', 'letm2', 'scart1', 'nfxl1', 'clip1', 'klk13', 'pcdhga6', 'stt3a', 'slc43a1', 'fam166c', 'usp13', 'hes4', 'cela2a', 'mical1', 'gpaa1', 'il1b', 'ly86', 'adra1b', 'oxr1', 'krt32', 'map7d1', 'ct55', 'spsb2', 'shh', 'vmac', 'padi3', 'atp9a', 'scai', 'acp2', 'wfdc13', 'cltcl1', 'pak4', 'ccng1', 'col19a1', 'rcan1', 'fam47c', 'mtres1', 'klhl28', 'mvk', 'parp4', 'nxn', 'e2f8', 'bbs1', 'sgf29', 'phyhipl', 'pmp22', 'matn2', 'fam71e2', 'glp1r', 'gli1', 'atp10a', 'fez2', 'inf2', 'dsg4', 'tmem50a', 'arpc2', 'tut7', 'mfhas1', 'dpf2', 'tead4', 'st6galnac2', 'clcn3', 'amer1', 'znf813', 'mgp', 'n4bp1', 'smoc2', 'cib3', 'plppr1', 'crcp', 'olfml1', 'vps9d1', 'atp8b3', 'mfsd2a', 'unc93b1', 'samd4b', 'herc6', 'tfap2c', 'frmd1', 'snw1', 'ttll4', 'pacrgl', 'erg28', 'kif13a', 'tesk1', 'osbp2', 'emp1', 'prr5', 'slc7a8', 'srgn', 'scamp4', 'riok2', 'wdr3', 'pxmp2', 'wdr19', 'gabrr3', 'mpp4', 'bag2', 'bend4', 'ptprb', 'ints9', 'anp32a', 'sbds', 'zc3h12d', 'defa5', 'prok1', 'vnn2', 'blid', 'pex12', 'cdc42bpb', 'nsfl1c', 'b4galt2', 'otos', 'nudcd2', 'sorcs2', 'wdr37', 'tuba1a', 'peli1', 'slc27a4', 'igfl1', 'tbc1d4', 'lpgat1', 'tmem263', 'rnf4', 'fzd9', 'dcdc1', 'derl1', 'tafa3', 'sae1', 'phf12', 'clcn6', 'ap2a2', 'ubac1', 'scrn2', 'nr0b1', 'nlrc5', 'smcp', 'rsad2', 'pla2g10', 'gmppa', 'gpr18', 'plcz1', 'cep78', 'abcd1', 'gyg1', 'tshr', 'lysmd1', 'tab2', 'tuft1', 'oosp4a', 'ccdc32', 'efnb3', 'plxdc2', 'rbpms2', 'tmprss2', 'ppp6r2', 'zgpat', 'aak1', 'map2k5', 'krtap19-4', 'myo3a', 'kcnab3', 'or5k4', 'pvrig', 'krt15', 'tmco4', 'rassf4', 'rpgrip1', 'ceacam7', 'c17orf67', 'lrrtm4', 'macrod2', 'mgam2', 'tmem8b', 'fer1l5', 'ablim1', 'aurkc', 'slc25a17', 'phf24', 'arhgap31', 'abhd18', 'skor1', 'krtap6-1', 'aard', 'c5orf46', 'znf567', 'tmx4', 'tns1', 'rtn4rl1', 'magea4', 'mrm1', 'psmb11', 'slc16a1', 'mpeg1', 'cr2', 'rapgef2', 'sec22c', 'slf1', 'fam135b', 'nlrp14', 'fam181b', 'xylt1', 'mrtfa', 'nln', 'opn5', 'elovl3', 'adcy1', 'cnbd1', 'prdm11', 'klrb1', 'cpne6', 'ddn', 'brox', 'st7', 'pou4f1', 'aldh6a1', 'gask1b', 'eri3', 'traf3ip2', 'rnase7', 'tstd1', 'med14', 'cenpm', 'tdp2', 'dhodh', 'man1a2', 'gpr19', 'taok1', 'cbr1', 'glrx5', 'frrs1', 'tiam2', 'atp6ap1', 'hk3', 'znf420', 'ncoa6', 'mab21l2', 'gpr143', 'arid3a', 'arhgap33', 'ripply3', 'serpina3', 'tincr', 'fahd2b', 'prob1', 'magix', 'ucn', 'scube3', 'cdkn1b', 'tacr3', 'fanca', 'or9a4', 'brd8', 'ubash3b', 'tigd5', 'ehhadh', 'eps8l2', 'pdxp', 'dmc1', 'tmc3', 'rln1', 'colq', 'hemgn', 'nup58', 'mogat2', 'zcchc24', 'glipr1', 'uevld', 'amtn', 'nos3', 'smarcc1', 'cox7a2', 'cela2b', 'znf367', 'clhc1', 'ndufaf2', 'slc12a1', 'ltf', 'c6orf118', 'efhc2', 'grin2d', 'gabrg3', 'fbxl5', 'gga1', 'bhlhe40', 'gpx8', 'or6s1', 'lemd1', 'spns1', 'atp5f1e', 'sh3gl1', 'uqcrfs1', 'med25', 'tbc1d12', 'foxk2', 'or4k2', 'wdr7', 'sin3a', 'gmpr2', 'fam229b', 'morn3', 'ankrd42', 'sema6d', 'igfl4', 'gja8', 'lix1', 'txlng', 'pde1b', 'phgdh', 'tulp1', 'tcp1', 'kdm2a', 'wdr70', 'tcf7l1', 'tmed1', 'adam8', 'alox12b', 'rfc1', 'grip1', 'cltc', 'tmem100', 'il17rc', 'lrriq4', 'klk6', 'nom1', 'dlx5', 'tacr1', 'lman2', 'pnma1', 'agxt', 'ccdc158', 'dop1a', 'eya1', 'prcp', 'des', 'nae1', 'col6a2', 'tarbp2', 'trafd1', 'ttc4', 'gorasp1', 'pcdhb9', 'acmsd', 'kremen2', 'siglec1', 'hoxc11', 'galk1', 'trmt112', 'c3orf84', 'ikbip', 'nr1d1', 'sppl2c', 'taf4', 'brd3os', 'bnc1', 'arpin', 'ugt8', 'npy5r', 'spc24', 'ell2', 'cracr2b', 'klhl2', 'dprx', 'tinf2', 'filip1l', 'dlx1', 'lmo1', 'snrpd1', 'cyb5r1', 'megf11', 'khdrbs3', 'htr7', 'apc2', 'krt6c', 'cdc45', 'alkbh2', 'nmral1', 'slco4c1', 'mfap3l', 'trib3', 'col9a3', 'foxa1', 'arpc1a', 'nme7', 'ccna1', 'sec14l5', 'retreg3', 'kcne5', 'glb1', 'fam13a', 'c10orf95', 'or2j3', 'nts', 'cacng3', 'ctu2', 'pdha2', 'kcnj10', 'htr4', 'cdc42se2', 'rnf216', 'or13f1', 'mx2', 'top2a', 'ugt2b28', 'hao1', 'cyp1a2', 'slf2', 'fam207a', 'ube2f', 'irf3', 'gnl3', 'rnf38', 'mixl1', 'klhl18', 'rasa3', 'best4', 'cald1', 'wdr55', 'hmg20b', 'esyt3', 'adgrb2', 'cntfr', 'dctpp1', 'map7d2', 'mrgprd', 'rhoxf1', 'rmi1', 'rasl11b', 'mid1ip1', 'alkbh4', 'eml2', 'cnnm1', 'scml4', 'taf1d', 'mtmr10', 'pias4', 'dnajc5b', 'herc5', 'il1rapl1', 'actbl2', 'purg', 'krtap11-1', 'tmem14b', 'clic2', 'or8g5', 'cib4', 'rdh12', 'haus8', 'zfp42', 'gnl2', 'dennd5a', 'oplah', 'padi1', 'c16orf91', 'nsmce1', 'pafah1b3', 'pate4', 'psme3', 'them4', 'ndst3', 'zc2hc1b', 'clec2b', 'dzank1', 'il17b', 'rd3', 'zbed8', 'aftph', 'exosc4', 'cdk4', 'shisa5', 'hmg20a', 'alk', 'ints2', 'ttll7', 'il36rn', 'inka1', 'pik3cb', 'drd4', 'xcl1', 'or56b1', 'mesd', 'kxd1', 'tafa1', 'fam76a', 'igsf8', 'sit1', 'lrp11', 'lrrtm3', 'il18bp', 'ccdc88c', 'st8sia2', 'ldhd', 'btbd8', 'wwox', 'cct8l2', 'ccdc40', 'dhrs2', 'dusp9', 'macrod1', 'npat', 'acer1', 'slc6a7', 'eef1akmt2', 'epha1', 'm6pr', 'fcgr1b', 'mynn', 'pip4p2', 'cd2ap', 'trmt2b', 'setmar', 'rnf215', 'ncbp2', 'ube2g1', 'rell1', 'izumo4', 'amer2', 'usp21', 'ccno', 'slc39a14', 'asb6', 'bphl', 'actn1', 'asb7', 'atg5', 'ogfod1', 'mtss2', 'ezh1', 'hs6st1', 'gadl1', 'chst4', 'rnf217', 'scn3b', 'bmp3', 'prr14l', 'map1s', 'gnb4', 'nt5m', 'zfhx4', 'gnb1', 'duox2', 'htr3c', 'wwc1', 'or12d3', 'trim29', 'opn4', 'elp5', 'plekhb2', 'wdr49', 'gcn1', 'nsmaf', 'crbn', 'klhl36', 'anpep', 'nptn', 'cd48', 'cfap52', 'trak2', 'kcnh5', 'slfn11', 'med15', 'sfxn2', 'nkiras2', 'mica', 'slc4a1ap', 'dok6', 'gatb', 'apex1', 'c1qtnf4', 'lat', 'scn10a', 'atp5mf', 'nkiras1', 'gphn', 'kif5b', 'notch3', 'prmt8', 'cxorf38', 'fign', 'bank1', 'aebp1', 'cilp2', 'uba6', 'prss16', 'cyp26a1', 'il10rb', 'terf1', 'rsl1d1', 'rpusd2', 'pex11b', 'ccnt2', 'ces4a', 'bhlhe22', 'get3', 'lrriq1', 'pcgf3', 'mon1a', 'cers3', 'sfrp2', 'top3a', 'kcng1', 'diaph3', 'znf12', 'or2a4', 'slc6a9', 'crtc1', 'ssu72', 'sccpdh', 'stk16', 'pnoc', 'ms4a13', 'pde3b', 'c11orf87', 'srpk1', 'pxdn', 'vstm4', 'alpi', 'noc4l', 'tyk2', 'sbk3', 'jakmip3', 'dph5', 'dzip1l', 'srsf3', 'c8orf37', 'tp53inp2', 'trabd2b', 'sulf1', 'col5a2', 'elfn1', 'chp2', 'creld1', 'sema4c', 's100a2', 'six2', 'esco2', 'spink13', 'kcnk4', 'znf268', 'dmp1', 'brd3', 'chaf1b', 'csgalnact2', 'oxa1l', 'gabarap', 'bax', 'hint1', 'jagn1', 'hrnr', 'ckb', 'hivep2', 'cbr3', 'cenpp', 'znf282', 'pald1', 'mpv17l', 'snx21', 'xpo6', 'rorb', 'spink2', 'mtx3', 'arhgap27', 'auts2', 'tlr2', 'stx4', 'nr3c1', 'impa1', 'cep250', 'znf488', 'fam111b', 'scn1b', 'tnnt3', 'mthfsd', 'gsta4', 'mpdu1', 'tbl2', 'recql4', 'itga4', 'cpm', 'clec9a', 'ecd', 'smim4', 'fmnl3', 'tbata', 'ccng2', 'olfm1', 'or8h1', 'mtln', 'c1qtnf3', 'irak2', 'ndrg1', 'kctd14', 'fam107b', 'cyth2', 'ect2l', 'ccl26', 'morc3', 'bmpr2', 'ccn3', 'rab30', 'scn5a', 'cd83', 'tnfsf12', 'ms4a8', 'stx11', 'telo2', 'cxcr1', 'ptgds', 'dnajc14', 'mogat1', 'ptprj', 'ppm1h', 'ap4m1', 'coro1b', 'pabpc1l', 'il16', 'xpo5', 'wnt5b', 'mavs', 'gipr', 'selenon', 'wdcp', 'pter', 'ackr1', 'nubpl', 'msl1', 'pafah2', 'foxo3', 'rhbdf1', 's100a13', 'ogdhl', 'adora2a', 'ptpn18', 'ceacam3', 'gbp1', 'slc35c1', 'omp', 'dhrs7b', 'rbm19', 'actg1', 'chrng', 'cox20', 'mpl', 'mthfd1l', 'ism1', 'nprl3', 'cyp4b1', 'il36a', 'sntb2', 'dmd', 'mpg', 'znf211', 's100a10', 'msra', 'smc2', 'prkra', 'stpg3', 'zbed5', 'qprt', 'cox6b2', 'krtap10-5', 'slc16a11', 'tbc1d17', 'arl14ep', 'pydc1', 'lce3a', 'sphkap', 'rnf115', 'dnajc7', 'leutx', 'ceacam16', 'chic1', 'ubr4', 'stk33', 'preb', 'rab7b', 'sun1', 'khdrbs1', 'spata31a5', 'dcbld1', 'rusc2', 'znf182', 'tmem115', 'camk4', 'pp2d1', 'ube2a', 'znf740', 'kcnmb1', 'sox14', 'higd2b', 'dda1', 'fmn2', 'phf2', 'atp6v1e2', 'st13', 'gpr149', 'cadm1', 'zar1', 'hmga1', 'zkscan1', 'fbrs', 'trip13', 'lce2d', 'eif2s1', 'ttll13p', 'mpc2', 'coq8a', 'sh2d4a', 'trim3', 'tafa5', 'c12orf29', 'znrf1', 'plcd4', 'stxbp3', 'zscan5b', 'znf579', 'tsc22d3', 'agtpbp1', 'il1rn', 'lhx5', 'ifi44l', 'mlana', 'ppial4g', 'calml5', 'gabra6', 'zscan1', 'dop1b', 'lst1', 'eps15', 'ginm1', 'trim13', 'ap5z1', 'cryba2', 'utp3', 'necap1', 'slc39a7', 'gpn3', 'raver2', 'mettl23', 'c4orf47', 'eml1', 'mmut', 'fam172a', 'dennd6a', 'rtn4', 'ltb4r2', 'gatm', 'lenep', 'ncoa1', 'med8', 'slc49a4', 'c2cd3', 'cpxcr1', 'snrpa1', 'apln', 'galnt6', 'cd300a', 'aloxe3', 'ebf3', 'ncam1', 'defb113', 'trim5', 'ppp2r3b', 'ttll11', 'golga8b', 'ppp1r14d', 'cpa5', 'mars2', 'znf789', 'sdf2', 'ypel3', 'selenow', 'rnf208', 'ablim3', 'cep164', 'fbh1', 'ddi1', 'bcap31', 'radx', 'or52j3', 'myo6', 'nppc', 'crb3', 'atrip', 'osbpl2', 'trim37', 'amd1', 'pabpc1l2a', 'mbnl1', 'ckap5', 'wnt3', 'polq', 'plekha7', 'tgm1', 'or7a17', 'glra2', 'nek2', 'sec61g', 'xrra1', 'calcoco1', 'tex101', 'plaur', 'rnf40', 'tnk2', 'inhba', 'taf11l4', 'cldn6', 'ccl5', 'znf658', 'pogz', 'spdye5', 'jcad', 'sbk1', 'zfp36l2', 'spdye4', 'smim10', 'pcdhac1', 'chkb', 'rtn4ip1', 'tspan2', 'kcnb1', 'sv2a', 'smr3b', 'akap6', 'cep41', 'cntn1', 'crybg3', 'tlr8', 'pdzd11', 'ergic3', 'hk1', 'upf3b', 'bcat2', 'kin', 'hykk', 'ido1', 'tlcd4', 'tacc2', 'pigq', 'trit1', 'psg2', 'mon1b', 'mafg', 'gtf3a', 'agpat4', 'scaper', 'cd248', 'dst', 'ppp2r3c', 'phf3', 'man2b1', 'kcnc2', 'fads1', 'lancl1', 'fam177a1', 'smg8', 'srrd', 'foxo1', 'wfdc2', 'ankrd44', 'cyp26b1', 'eef2kmt', 'krtap9-3', 'ppp1r14a', 'aldh8a1', 'znf322', 'paqr3', 'tpk1', 'tmem38a', 'sgk2', 'dhtkd1', 'pf4', 'cebpz', 'chuk', 'c21orf91', 'cfap44', 'trim9', 'ywhag', 'nsl1', 'mfn1', 'slc25a14', 'omd', 'ebi3', 'serpini1', 'slc35a1', 'krtap8-1', 'hoxa2', 'slc38a4', 'creg1', 'or10g3', 'rem2', 'cnih3', 'znf251', 'akr1c3', 'pgam5', 'tp53bp1', 'nagk', 'bcl3', 'spdye6', 'acy3', 'rnf34', 'cacnb1', 'mcrip1', 'zc3h4', 'utf1', 'znf780b', 'polr2e', 'or4e1', 'ust', 'gmds', 'ifna16', 'chrac1', 'neurod6', 'cdt1', 'snap47', 'gmcl1', 'clec16a', 'stk36', 'tlr4', 'kcne4', 'ttn', 'flrt2', 'limd2', 'dock2', 'slc52a1', 'tmem120b', 'hgfac', 'e2f1', 'fgf6', 'smarcd3', 'col4a6', 'bcl7a', 'kif20b', 'phlda1', 'or1b1', 'cysltr2', 'maip1', 'pcyox1', 'c5ar2', 'crisp3', 'pde2a', 'esrp1', 'cer1', 'anxa4', 'eef1akmt3', 'crlf3', 'brap', 'znf805', 'prom2', 'znf696', 'tmsb4x', 'col7a1', 'fgb', 'tmem79', 'rab39b', 'dbr1', 'pilra', 'izumo1', 'clec7a', 'taok3', 'bbs4', 'kdm8', 'slpi', 'znrd2', 'cdh20', 'fmn1', 'copg1', 'p4ha3', 'col6a3', 'kazald1', 'spesp1', 'sdr42e1', 'cbln2', 'plppr2', 'ddx39a', 'bcat1', 'tgfb1i1', 'crym', 'glis3', 'qki', 'itfg2', 'nck2', 'prss58', 'gpr55', 'or6c4', 'rreb1', 'snca', 'ccdc14', 'vhll', 'prpf31', 'exoc5', 'senp8', 'arih1', 'tmco3', 'flrt3', 'tsc1', 'pym1', 'lama5', 'vasn', 'eny2', 'dach1', 'maf', 'wdr6', 'prdx4', 'magee2', 'fbxo10', 'zfp90', 'rfc5', 'bicd2', 'trim65', 'myadm', 'fblim1', 'efcc1', 'bin2', 'mdfic2', 'spock1', 'elmo3', 'cwf19l1', 'or10j1', 'map9', 'nos1', 'fam187b', 'fam214a', 'mpc1', 'gpbp1', 'zscan22', 'znf774', 'znf74', 'gadd45b', 'olig1', 'znf688', 'cdk3', 'tmem167b', 'aqp10', 'nkain4', 'sirt6', 'cdk12', 'galnt5', 'ctss', 'znf723', 'capn2', 'fndc7', 'cfap97d2', 'rcc2', 'ubtd2', 'ncoa3', 'rnf213', 'msx1', 'edem1', 'polrmt', 'apoc4', 'gabbr2', 'def6', 'npap1', 'ptcd1', 'tm4sf19', 'slc4a9', 'bnc2', 'gpr101', 'psmc3', 'kdm4d', 'gpa33', 'dbf4b', 'znf396', 'ttc24', 'col21a1', 'acvr2b', 'gfra2', 'nr5a1', 'amot', 'corin', 'sec31b', 'krcc1', 'kcna4', 'rnaseh2b', 'sar1a', 'lrfn2', 'nek10', 'rbm45', 'raet1e', 'pus1', 'eppk1', 'exoc6', 'defb134', 'nefm', 'serpina1', 'plcb2', 'dock6', 'gprin1', 'amdhd1', 'brd2', 'pla2g2f', 'prdx1', 'selenom', 'icos', 'znf800', 'ccnt1', 'mmrn2', 'ccdc106', 'prkci', 'agpat2', 'ankrd53', 'chchd7', 'aim2', 'popdc3', 'ddias', 'uck2', 'inka2', 'cpeb2', 'mdfic', 'trpc6', 'plk2', 'det1', 'znf480', 'adrm1', 'rbmx', 'camsap1', 'eya3', 'map4k4', 'cpb2', 'krtap19-1', 'rec114', 'grsf1', 'asap3', 'stk11', 'hnrnph3', 'znf385a', 'itsn1', 'ppp1r3f', 'cd2bp2', 'rabep1', 'cd300ld', 'cd300lf', 'eed', 'pole', 'abhd4', 'ddx19b', 'tmx3', 'mettl3', 'mmachc', 'hesx1', 'trip6', 'zbtb8a', 'anxa1', 'hpca', 'slco2b1', 'bag5', 'insyn2b', 'tex22', 'nkg7', 'nppb', 'klf16', 'rbp4', 'cyth4', 'pak2', 'lyar', 'c4orf54', 'mageb10', 'ermn', 'dcun1d5', 'rfwd3', 'pknox1', 'znf717', 'serinc4', 'slc9a3r2', 'znf695', 'vangl1', 'mcmdc2', 'zfyve27', 'sh3glb1', 'hps3', 'kirrel3', 'chchd4', 'spon2', 'trap1', 'tmem268', 'tfec', 'pou2f2', 'tdrd6', 'znf486', 'znf641', 'lmod1', 'pde6b', 'odam', 'ubxn2b', 'eif2ak3', 'sprn', 'hnrnpul2', 'th', 'tenm4', 'clecl1', 'frmd6', 'ndc80', 'ppp1r37', 'hspb11', 'nacad', 'triobp', 'ppara', 'tial1', 'rrh', 'pspc1', 'c19orf18', 'trpm3', 'hps1', 'lnx2', 'rit1', 'bcl2a1', 'ndufaf8', 'sec14l3', 'rfpl4b', 'tubb8', 'brca2', 'hoxd4', 'foxj2', 'grn', 'slc6a20', 'pkd1l1', 'gpbp1l1', 'aldh3b2', 'rgpd4', 'c2orf42', 'gad1', 'ing2', 'gpr157', 'ppp1cc', 'tnfrsf17', 'lrrfip1', 'page2', 'tspyl5', 'trhr', 'aen', 'znf17', 'scamp1', 'syngr2', 'tfcp2l1', 'insig1', 'pdk3', 'sowahd', 'lipj', 'ckap2', 'chst14', 'cltb', 'fndc4', 'prnd', 'tmcc2', 'madcam1', 'ddx58', 'ccl13', 'acly', 'cirbp', 'krtcap2', 'igflr1', 'npy', 'exoc3', 'ephb1', 'c16orf87', 'tshz1', 'alkbh3', 'cep55', 'znf556', 'cntn2', 'znf625', 'ctns', 'mras', 'vps37d', 'lypd1', 'c8orf88', 'or6q1', 'ctdnep1', 'lrrc31', 'znf33a', 'crlf2', 'ssx3', 'siglec8', 'pard3b', 'pop7', 'tagln', 'nrg4', 'mcm2', 'sdcbp2', 'faxdc2', 'ttc37', 'tnfaip8l2', 'bmx', 'tsc22d4', 'fam168a', 'nr5a2', 'ica1l', 'hsf2', 'trim67', 'fam227a', 'rasa1', 'pram1', 'ndufa3', 'vma21', 'best2', 'ssc5d', 'dnmt3b', 'tfpi2', 'slc37a1', 'msantd2', 'ro60', 'rprm', 'ehd4', 'adam18', 'fbxo31', 'st3gal3', 'plac9', 'srp19', 'tsen54', 'cln5', 'map2', 'clic4', 'dpysl4', 'slfn12', 'kcnk1', 'lgi3', 'cacng1', 'dazl', 'soga3', 'ddx51', 'mybphl', 'thumpd2', 'adap1', 'ppp1r11', 'otc', 'agtrap', 'cavin3', 'hsd11b1', 'hadhb', 'higd1b', 'il12b', 'il17rb', 'wrn', 'spout1', 'slc6a12', 'dohh', 'adam28', 'neto1', 'prpf38a', 'trappc4', 'adam21', 'spsb3', 'slc9a9', 'ogdh', 'mpp2', 'klc1', 'rab27b', 'prkcb', 'il19', 'cdc5l', 'lrrc69', 'cnppd1', 'col11a1', 'abi2', 'ankrd22', 'ttc22', 'dnm1', 'nav2', 'insyn2a', 'znf565', 'vn1r2', 'eya2', 'dnajb5', 'rtl8c', 'or10j5', 'jrkl', 'c20orf85', 'linc00672', 'c1galt1c1', 'xkrx', 'smg7', 'c9orf135', 'clk3', 'pet117', 'bhlha9', 'zbtb39', 'tbc1d3e', 'cep104', 'mipol1', 'med9', 'znf354c', 'smox', 'sap18', 'isoc2', 'ccdc130', 'gsta2', 'fkbp3', 'med11', 'chst5', 'trabd2a', 'kiaa2026', 'copz1', 'mecp2', 'prss45p', 'aptx', 'entpd2', 'ndufs5', 'abcf1', 'lama3', 'lrrc71', 'slc4a7', 'ets2', 'pdlim5', 'rab44', 'cyp26c1', 'clcnkb', 'eps8', 'ca5a', 'or4d1', 'nphp4', 'il24', 'hpd', 'hcst', 'nfatc1', 'ncoa7', 'nap1l2', 'ambra1', 'gh1', 'cdkn2b', 'sytl4', 'ppp4r2', 'xaf1', 'fam183a', 'mif', 'nup43', 'cldn34', 'prss3', 'champ1', 'art3', 'hmgn4', 'mageb6b', 'pcdhga5', 'eef2', 'esrrg', 'tgfbr2', 'rnf212', 'yes1', 'sdc4', 'sav1', 'wdr91', 'atp6v0e1', 'efcab11', 'dnajc11', 'c19orf81', 'pbov1', 'stard5', 'krt17', 'znf43', 'asb11', 'svopl', 's100a11', 'sox4', 'lyz', 'ffar2', 'lamp5', 'pidd1', 'hmgn3', 'sprr2e', 'maged2', 'cpox', 'emc6', 'c6orf15', 'grhl2', 'hells', 'siae', 'ccn5', 'ago3', 'depdc1', 'tmprss11d', 'rab15', 'soat1', 'sertm1', 'amt', 'fam53c', 'borcs7', 'ints7', 'enox1', 'rab33b', 'fzd7', 'uqcrc1', 'lgals4', 'mab21l3', 'c1qbp', 'dcaf15', 'or6c1', 'hpse', 'fosb', 'drap1', 'hsd17b6', 'ybey', 'slc16a9', 'mga', 'bglap', 'cpne9', 'flot1', 'ctrb1', 'soat2', 'slc25a37', 'syt3', 'c18orf32', 'fis1', 'tspan32', 'actl6a', 'tmprss12', 'sf3b2', 'selenbp1', 'or4b1', 'gyg2', 'dusp5', 'ewsr1', 'tfrc', 'lsm2', 'trappc6a', 'gmip', 'ngly1', 'nmi', 'trmt61b', 'kcnq5', 'foxc2', 'ypel1', 'pou6f2', 'ldoc1', 'fam181a', 'ypel2', 'sema3d', 'rnf224', 'amotl2', 'efhd1', 'lsm14a', 'rfpl3', 'mindy2', 'epha4', 'btd', 'tas2r9', 'aqp6', 'zc3h18', 'lyl1', 'trpc4ap', 'lipn', 'klhl4', 'cdk14', 'ctbp2', 'zdhhc19', 'prr32', 'pglyrp2', 'pwwp2b', 'dnal1', 'znf131', 'pnp', 'nhp2', 'fbxl3', 'c3orf22', 'or5b3', 'aamdc', 'cfh', 'mxd4', 'vgll2', 'or10v1', 'sh3bp5l', 'dis3', 'lmntd1', 'gpr39', 'znf547', 'p3h3', 'cyp2d6', 's100z', 'tuba1b', 'ndufaf6', 'neurod1', 'rab27a', 'prkg1', 'bex4', 'mpv17l2', 'vps37b', 'or2c3', 'dspp', 'bicra', 'aadat', 'depdc4', 'ankfn1', 'hoxc5', 'srp72', 'slc44a1', 'boll', 'myd88', 'gria4', 'btf3l4', 'she', 'tuba1c', 'khdc4', 'ccpg1', 'pptc7', 'erich5', 'znf99', 'spef2', 'nxpe4', 'kdm5a', 'gnb1l', 'sestd1', 'ccnb1', 'emd', 'myo5a', 'or1l3', 'znf345', 'ccl14', 'wbp1', 'ptprh', 'ebf4', 'ak4', 'slc22a23', 'ly6g6f', 'dock8', 'ifna1', 'fam160a2', 'gpr37l1', 'ncoa4', 'slc39a2', 'bpifc', 'slc7a5', 'stk24', 'fam117b', 'gdnf', 'tmem208', 'pcdhb8', 'arl15', 'usp45', 'znf165', 'uckl1', 'laptm4a', 'pkd2', 'tex13c', 'ankrd46', 'snrpb2', 'adgrf1', 'add2', 'mospd2', 'prkaa1', 'agmat', 'trim14', 'ninj2', 'nod1', 'dtd1', 'gmps', 'bcl9l', 'katnal1', 'epha7', 'tram1l1', 'gpr150', 'aqp3', 'trh', 'nudt1', 'sec31a', 'sorcs3', 'pfas', 'znf524', 'r3hcc1l', 'b9d1', 'spata21', 'gsdmb', 'creld2', 'adgrg3', 'stard4', 'tgfbrap1', 'pde3a', 'lamb2', 'fut11', 'mmp19', 'napsa', 'zmym1', 'tmc4', 'tmem59l', 'myog', 'bcas2', 'sdc1', 'f2rl2', 'brinp1', 'dzip3', 'ddit4', 'thap5', 'trpc5', 'siglec15', 'c6orf136', 'pcdhga7', 'stath', 'lhfpl3', 'slc23a3', 'gtf3c3', 'slc9b1', 'a2ml1', 'or8d4', 'n4bp3', 'thap11', 'vpreb1', 'spag5', 'p4ha2', 'mex3d', 'cdc42ep5', 'pecam1', 'gabpb1', 'tjap1', 'znf511', 'arnt2', 'fezf1', 'rassf10', 'pcyt1a', 'gsdme', 'spp2', 'atp11b', 'spic', 'ttc39c', 'strap', 'hopx', 'il5', 'snorc', 'rasgef1a', 'mical2', 'gtsf1', 'or4c12', 'dsg2', 'zeb2', 'nexn', 'c11orf94', 'adgrl1', 'podxl2', 'dph1', 'keap1', 'hsdl1', 'zbtb32', 'upb1', 'pcdhga1', 'cpa1', 'kcng2', 'fpr1', 'tank', 'mtap', 'xrcc3', 'pcdh11x', 'cpxm1', 'gpr182', 'eva1c', 'ccdc82', 'pelo', 'znf714', 'lrrc39', 'ccdc168', 'hsh2d', 'uqcrhl', 'pde1a', 'fbxo22', 'irx6', 'srsf10', 'p2ry2', 'c16orf90', 'znf44', 'uchl1', 'fga', 'rp1l1', 'mpig6b', 'rsph4a', 'krtap6-2', 'mettl14', 'pdgfc', 'gimap2', 'hsd17b14', 'zg16', 'ccdc6', 'mrgprf', 'fam170a', 'rab5a', 'slc6a8', 'atad1', 'ccnq', 'entpd8', 'rgs21', 'p2ry1', 'slc4a11', 'kbtbd4', 'pgrmc2', 'blmh', 'apex2', 'vdac3', 'spata7', 'cnn2', 'or4n5', 'capn15', 'nktr', 'cdc34', 'dnase2', 'znf304', 'mt1m', 'mall', 'ddx50', 'tex33', 'cars2', 'irs1', 'casp14', 'fxyd1', 'pabpc3', 'asb10', 'oasl', 'rilpl2', 'ppp2r5c', 'itpka', 'krt19', 'angptl1', 'ranbp17', 'rsph14', 'ppp1r3b', 'gpr156', 'fam83h', 'sugt1', 'adam9', 'kansl1', 'nanos2', 'rbm14', 'myh15', 'b4galnt4', 'pdx1', 'chit1', 'calcrl', 'apobec1', 'cbx5', 'fgl1', 'lig4', 'plekhm1', 'pik3r4', 'iqgap2', 'birc2', 'krtap1-1', 'znf114', 'stxbp2', 'usp4', 'pcdhgc3', 'cpeb4', 'spata32', 'naif1', 'mb21d2', 'acsl1', 'prex1', 'runx3', 'castor2', 'fam171a1', 'crim1', 'c17orf98', 'trpm4', 'lrrc27', 'or6k3', 'ttf1', 'nkx2-5', 'pafah1b2', 'cep128', 'cwc15', 'fgd1', 'cd226', 'il13ra2', 'triqk', 'slc25a15', 'rc3h2', 'kcna2', 'sostdc1', 'ndn', 'tepsin', 'rmnd5b', 'dynlrb1', 'mael', 'c20orf96', 'usp28', 'zmym2', 'chgb', 'neb', 'galntl6', 'krtap5-8', 'ddi2', 'xpo1', 'dnajc15', 'gins3', 'cul4a', 'clec12b', 'gopc', 'tafa2', 'nxt2', 'myocd', 'whrn', 'rhov', 'sfpq', 'c1orf54', 'or2t10', 'xkr6', 'bcl2l13', 'ddx24', 'ei24', 'snrpg', 'ccdc125', 'ank2', 'vti1a', 'cplx1', 'sox3', 'chml', 'slc52a3', 'dhdh', 'rnaseh2a', 'zmat3', 'mettl22', 'cdo1', 'tnpo3', 'dhfr', 'ankhd1', 'grtp1', 'rcn1', 'lhx8', 'zbtb25', 'chst13', 'dpy19l3', 'prr11', 'stk4', 'rnase8', 'tktl1', 'cyp1b1', 'snx3', 'pwp1', 'cd80', 'strada', 'cma1', 'gorasp2', 'il17a', 'dact3', 'pdcd11', 'or2t34', 'mphosph10', 'obp2b', 'spo11', 'sertm2', 'aifm2', 'cox6a1', 'rgs11', 'r3hdm1', 'rspo4', 'pibf1', 'tes', 'gadd45gip1', 'ezr', 'phldb2', 'txndc15', 'fhl5', 'cib1', 'syce1l', 'riok1', 'cacna2d4', 'qser1', 'dusp10', 'metap2', 'mms22l', 'ttyh3', 'taz', 'dus2', 'lnp1', 'sfmbt1', 'pnck', 'satb1', 'per3', 'tmem129', 'tgfa', 'gstk1', 'wasf3', 'hif1a', 'tmem185a', 'txnl1', 'rab40a', 'cd1e', 'or51v1', 'znf296', 'kctd7', 'sele', 'or5bs1p', 'cxxc1', 'asb5', 'atxn7l2', 'utp15', 'slc30a1', 'ucma', 'caly', 'parp10', 'eapp', 'hamp', 'slc10a7', 'kif18b', 'naa10', 'dbh', 'or5b21', 'cltrn', 'usp53', 'ptpn12', 'tmem52b', 'znf541', 'aph1a', 'jaml', 'smim17', 'ntrk2', 'asb13', 'dzip1', 'pcmt1', 'cdh5', 'actr8', 'cd47', 'ogn', 'pax9', 'aspm', 'lpcat1', 'slc29a1', 'kcne2', 'asph', 'mageb5', 'trim51gp', 'ckmt2', 'cga', 'gata6', 'zswim9', 'twist1', 'c21orf58', 'olfml2a', 'atp1b3', 'eps8l3', 'epha8', 'mettl24', 'arl4a', 'c16orf92', 'adamtsl5', 'cnpy4', 'gypc', 'tf', 'kctd16', 'lonrf2', 'glyatl1b', 'cflar', 'drd5', 'nab2', 'arhgef33', 'rffl', 'krt23', 'or8j1', 'lilrb2', 'ppp1r9b', 'cdkl5', 'tssc4', 'echs1', 'birc7', 'pde4c', 'cebpb', 'tbc1d22a', 'c16orf96', 'lins1', 'nup98', 'rnf168', 'nmnat2', 'glul', 'kctd21', 'rrp1', 'rnf165', 'adamdec1', 'slc47a2', 'npm2', 'spata24', 'ska1', 'fundc1', 'zdhhc1', 'xkr8', 'mt1g', 'angptl2', 's1pr2', 'utp11', 'lbx2', 'cetp', 'bub1b', 'ubxn1', 'kcng3', 'dipk2b', 'tmigd3', 'ucn2', 'fam76b', 'hs3st6', 'slx4', 'ccer1', 'serpina7', 'hspa1a', 'cdc26', 'gpx3', 'kcnc4', 'pik3c3', 'rnft1', 'krtap22-2', 'rcor2', 'dvl2', 'mypop', 'st6gal1', 'prdm1', 'foxb2', 'mdga2', 'irf2', 'snrpc', 'jrk', 'aldh18a1', 'vtn', 'pfn3', 'nkd1', 'ush1g', 'tgfbr3l', 'cenpb', 'kmt2e', 'adcy2', 'cebpa', 'arhgap24', 'pbx2', 'tra2b', 'slc27a6', 'pi16', 'lnpep', 'usp17l1', 'nudt22', 'rhbdf2', 'ndufa2', 'slc35d2', 'klln', 'foxi2', 'vps72', 'kcnh7', 'htra3', 'pcdhb15', 'tacr2', 'fcf1', 'ppp6r1', 'col4a5', 'lrp5', 'camp', 'ttll8', 'spegnb', 'c7orf31', 'ccdc122', 'aamp', 'gdap1l1', 'gtf3c1', 'fam227b', 'asip', 'itgb3', 'rergl', 'tmem265', 'elk1', 'gid4', 'znf764', 'tbc1d19', 'ca9', 'glo1', 'or5d13', 'b4gat1', 'dcaf8', 'ptprk', 'uvrag', 'tbcb', 'polm', 'tcn2', 'syne2', 'trak1', 'pigm', 'znf747', 'c17orf58', 'zdhhc12', 'pi15', 'phka1', 'ralb', 'fbxo33', 'trim68', 'glrx3', 'nkx2-2', 'zc3h15', 'slc5a9', 'tceanc', 'traf3', 'pnpla3', 'zc3hc1', 'tmem198', 'immp2l', 'cpsf7', 'prkag3', 'mucl1', 'pmis2', 'cnot9', 'upk2', 'eomes', 'ccn4', 'cnot6l', 'rbm22', 'cyp2j2', 'tmem50b', 'trem2', 'gart', 'plekhn1', 'maco1', 'abcg5', 'st8sia3', 'gla', 'aimp1', 'fmo5', 'knl1', 'ncan', 'ftcd', 'cgas', 'znf215', 'aasdhppt', 'cd55', 'znf98', 'or10z1', 'rfesd', 'ldhc', 'pik3r2', 'gdi1', 'pcgf2', 'evi5', 'oaz2', 'ip6k3', 'comtd1', 'sh3pxd2b', 'hrk', 'psma3', 'cert1', 'chchd3', 'poli', 'fgf1', 'lats2', 'nuf2', 'cramp1', 'trnp1', 'dennd1c', 'slc17a7', 'unc5c', 'ptch1', 'aurka', 'sepsecs', 'coa1', 'layn', 'dnah12', 'trim7', 'enpp4', 'rpusd1', 'pde6a', 'tigd3', 'ervmer34-1', 'olr1', 'asxl1', 'ndfip1', 'ndufa4l2', 'znf704', 'kcnip3', 'prr3', 'cox7a2l', 'parm1', 'gnpda1', 'abl1', 'phax', 'nt5dc1', 'rprd2', 'nmt2', 'rbmxl2', 'usp16', 'cdc37l1', 'kiaa1143', 'b3galt4', 'gnpnat1', 'frmd4a', 'ifi44', 'rhoq', 'harbi1', 'plcb1', 'mzf1', 'lrrc36', 'itpr3', 'c6', 'daam2', 'esrrb', 'tmed6', 'ppif', 'rnase11', 'znf671', 'ccser1', 'tusc2', 'ccdc187', 'hddc3', 'il17rel', 'or1s2', 'gpr12', 'plscr3', 'mylk2', 'ubap1l', 'rgs2', 'pef1', 'bace1', 'atp5mc2', 'gjc1', 'taf1b', 'gpr146', 'gapt', 'nxnl2', 'fth1', 'uchl3', 'rpe', 'scpep1', 'tufm', 'bag3', 'or5h15', 'parp14', 'clec18a', 'trim75p', 'znf263', 'cachd1', 'aars2', 'f7', 'marcksl1', 'npsr1', 'ercc6', 'tpm4', 'ap2s1', 'ulbp1', 'sgk1', 'eme2', 'nudt5', 'crygb', 'klb', 'rdh14', 'scfd1', 'c6orf141', 'camta2', 'nkx6-1', 'map6', 'fap', 'zfyve9', 'atp10b', 'atn1', 'ube3b', 'psmg4', 'ppp1r32', 'krtap15-1', 'ids', 'adh1c', 'nudt19', 'fcgr2b', 'ankrd34a', 'cfap298', 'rpf1', 'ubr3', 'fam124b', 'or10g8', 'wipf2', 'gnb5', 'zfp30', 'cap1', 'cpn1', 'znf77', 'ube2e1', 'rai14', 'tmed4', 'zfp3', 'hdx', 'apobec3d', 'dmrtb1', 'htr5a', 'slc18a1', 'miga1', 'commd5', 'gna12', 'cfhr3', 'hsf5', 'dcc', 'elp4', 'arl6', 'odf3l2', 'c9orf72', 'brf1', 'parp15', 'stk38', 'rpp40', 'tbx4', 'dnajb13', 'cfhr5', 'fxyd2', 'egfl8', 'urb1', 'blvra', 'grin1', 'pde4b', 'ccdc167', 'znf683', 'bdkrb2', 'jun', 'tff2', 'col6a1', 'bbx', 'hmgcll1', 'atxn10', 'pde8a', 'cfap100', 'nutm1', 'rnf146', 'igbp1', 'mcee', 'slc2a6', 'agbl2', 'or2z1', 'krtap20-4', 'llph', 'crygn', 'inca1', 'frs2', 'garem1', 'or10ag1', 'pm20d1', 'clec4f', 'dync2li1', 'slc13a5', 'c1orf109', 'casp3', 'susd4', 'rinl', 'commd4', 'heatr3', 'farsa', 'scyl2', 'znf502', 'slc35b2', 'srrm1', 'znf22', 'ggt2', 'znf614', 'pla2g12b', 'litaf', 'fbxo36', 'apela', 'prr16', 'slc7a2', 'pcdhb2', 'amigo2', 'klc3', 'c3', 'ncaph2', 'senp1', 'zdhhc13', 'pglyrp1', 'ccl22', 'trim31', 'ndufa10', 'gpr15', 'clul1', 'sema5a', 'prb3', 'hgs', 'cdc25c', 'ube2k', 'pdp1', 'gle1', 'wdr88', 'oat', 'hhla1', 'ahcy', 'rbx1', 'cdx4', 'cdh23', 'atpaf2', 'ptbp3', 'capn6', 'inpp1', 'tmbim1', 'stra6', 'dctn3', 'mark2', 'tbk1', 'usp19', 'chadl', 'tmem161a', 'slc25a24', 'hilpda', 'gatad2a', 'arhgef6', 'mettl18', 'aldh1a3', 'ndufaf1', 'mpzl2', 'pls3', 'hacd3', 'chn1', 'tbcd', 'bsnd', 'znf496', 'tyw5', 'ap3s2', 'txk', 'tgfbr3', 'kcnk7', 'pam16', 'heatr1', 'atl2', 'abraxas2', 'pvalb', 'mllt11', 'prrx2', 'adgra1', 'cytl1', 'acsl4', 'ago4', 'phkg1', 'tenm3', 'nmur1', 'c17orf99', 'blk', 'kdm4a', 'klk8', 'atp6v0a1', 'dmrt1', 'vps45', 'slc22a9', 'pdcl3', 'spin2b', 'hhipl1', 'dusp3', 'myrip', 'mcu', 'znf462', 'cybb', 'rpn2', 'rad23b', 'zyg11a', 'cmpk2', 'togaram2', 'cmtm8', 'utp20', 'syap1', 'trim10', 'pde6h', 'slc48a1', 'prkce', 'pdilt', 'clec18c', 'clnk', 'mcur1', 'ttc23l', 'zscan12', 'helq', 'edn2', 'lrtomt', 'tle6', 'tcaf1', 'ift80', 'msn', 'pycr1', 'sh3tc1', 'msto1', 'capn3', 'tcap', 'tmem9', 'dtx3', 'nmur2', 'chst7', 'rras2', 'muc2', 'gcm2', 'ctc1', 'prss38', 'eef1akmt1', 'rnf31', 'rragc', 'eif2ak2', 'pcp2', 'tmem43', 'agap2', 'ipo11', 'pgr', 'ftcdnl1', 'gpsm1', 'bola3', 'eng', 'fmod', 'n6amt1', 'gprc5b', 'surf2', 'fabp9', 'exoc3l4', 'rhot2', 'baiap2l2', 'mmp12', 'arhgap8', 'slc46a2', 'uaca', 'zfp1', 'emilin2', 'or5m8', 'sh2d7', 'ppp6r3', 'tlcd3a', 'gls2', 'lpin2', 'ykt6', 'id1', 'ddit4l', 'wdr47', 'tssk1b', 'inhbc', 'galnt16', 'fbxo42', 'mfap1', 'ppp1r13l', 'cbfa2t2', 'samd1', 'tmem240', 'igdcc3', 'kif15', 'fam168b', 'pax3', 'cntn6', 'aimp2', 'habp2', 'c22orf15', 'hyal1', 'ankrd16', 'grb2', 'plxdc1', 'mdn1', 'gpd1', 'tirap', 'znf254', 'rnf111', 'znf445', 'c8orf58', 'rfk', 'cd72', 'nkpd1', 'prr23c', 'dpysl3', 'tespa1', 'ppp1r3c', 'tmem114', 'tmem17', 'bves', 'asf1a', 'capza3', 'or56a3', 'ddx42', 'erp29', 'ptk7', 'bbip1', 'arrdc4', 'mpp3', 'ndufv2', 'icam5', 'wnt4', 'spanxn2', 'snn', 'tagln3', 'palm3', 'tp53tg5', 'flvcr2', 'trim6', 'fgfbp1', 'ctu1', 'tmem248', 'fdps', 'frrs1l', 'nhej1', 'tas2r38', 'fbxw2', 'cplx2', 'or52e5', 'anapc15', 'cnih1', 'stox2', 'ikzf1', 'rbis', 'wdr26', 'fbxo38', 'btn3a1', 'hsd3b7', 'serpina6', 'hnrnpul1', 'ccm2', 'vdr', 'sfmbt2', 'orai2', 'ttll1', 'klf12', 'rtl9', 'tmem14a', 'hs3st3b1', 'usp42', 'letmd1', 'zfp91', 'eid1', 'ppip5k2', 'ubl4a', 'col13a1', 'loxl1', 'znf607', 'socs4', 'runx2', 'prdm16', 'mob2', 'kiaa0100', 'hsd17b4', 'wscd2', 'kcnk5', 'slc19a3', 'pid1', 'washc4', 'kynu', 'ing1', 'avpr1b', 'ackr3', 'adprh', 'slc4a2', 'lrfn3', 'cyp2s1', 'wwp1', 'adgrd1', 'arhgap40', 'card9', 'ca5b', 'lingo3', 'med13l', 'rbp2', 'tlr9', 'flt3lg', 'pmaip1', 'cfap410', 'rpp14', 'ccr4', 'htr1a', 'ccdc102b', 'ankrd28', 'gpr27', 'nudt9', 'top1', 'mapk4', 'acsf2', 'tnfsf9', 'chchd5', 'cyfip1', 'zc2hc1c', 'zfp41', 'gkap1', 'alg13', 'c8orf48', 'nr1h3', 'eva1a', 'mib1', 'rcor1', 'fam98b', 'nyap2', 'atf3', 'aoah', 'cdk8', 'or7a5', 'auh', 'itga7', 'prune2', 'arid3c', 'slc6a15', 'asrgl1', 'or10r2', 'rnf20', 'pcdhga10', 'ncapg2', 'cdh7', 'chst9', 'atxn7l3', 'znf728', 'acox2', 'rassf7', 'ndufs7', 'g0s2', 'lmbrd1', 'cxcl12', 'gata4', 'mdh1b', 'gpt2', 'clcc1', 'mt1hl1', 'prss51', 'tpmt', 'xrcc5', 'ass1', 'chrnb4', 'hck', 'tex19', 'ftmt', 'egfl6', 'mindy4', 'galp', 'csnk1d', 'miox', 'gng13', 'clps', 'tnfrsf10a', 'minar1', 'nqo1', 'zkscan3', 'phb', 'slc10a4', 'grb14', 'ppil3', 'pnma8b', 'fyco1', 'arfgap2', 'lcn2', 'yju2', 'acp6', 'lrp1b', 'sprr5', 'fgf17', 'katnbl1', 'kansl2', 'smap2', 'or52k1', 'smg5', 'tnr', 'bmerb1', 'cacna2d3', 'omg', 'otub2', 'shisa8', 'mfsd11', 'bod1l2', 'psmd9', 'rasgrf2', 'chordc1', 'otop3', 'usp46', 'cdkn2d', 'lactb2', 'zcchc2', 'fos', 'nit1', 'pik3ca', 'catsper3', 'cercam', 'itgal', 'cbx7', 'fbxo16', 'ccni', 'cgref1', 'pyy', 'cox8a', 'mknk2', 'uso1', 'oprk1', 'rala', 'mbp', 'tasp1', 'iqcm', 'eri1', 'lyve1', 'pold1', 'timm10b', 'srsf9', 'mast3', 'patz1', 'myb', 'spata6', 'gabrq', 'vps37c', 'znf548', 'nifk', 'foxe1', 'tmem214', 'tmem86a', 'lmo4', 'c3orf38', 'sgcd', 'tmprss4', 'rita1', 'sema3g', 'mtrr', 'focad', 'slc7a7', 'fam20a', 'supt5h', 'lair1', 'prr23a', 'phkb', 'myh11', 'ccm2l', 'pdk2', 'vkorc1', 'fam214b', 'glrx', 'tbxas1', 'klf10', 'pigc', 'lox', 'abcc12', 'filip1', 'rnd2', 'ehd2', 'ano3', 'c2orf88', 'tmem192', 'sdk2', 'kcnn1', 'zhx1', 'yipf7', 'en1', 'dbf4', 'rfx2', 'ttc38', 'egf', 'mylpf', 'lpin1', 'magohb', 'ahnak2', 'zswim4', 'stag3', 'ripk1', 'rpain', 'arpc5l', 'tmeff2', 'apoc3', 'hlx', 'fabp2', 'ccdc137', 'lancl2', 'smim30', 'cdh10', 'slc35g5', 'psca', 'slc25a29', 'chad', 'ilvbl', 'slc25a27', 'rnf175', 'cx3cr1', 'crh', 'thrb', 'myot', 'b3gntl1', 'klhdc7b', 'nr1i3', 'pygo1', 'tpgs1', 'gtf3c2', 'kiaa0895', 'agr2', 'vcan', 'sqstm1', 'por', 'oip5', 'tbx6', 'gas8', 'cytip', 'psme2', 'arsk', 'trpm7', 'slc17a3', 'ppfia2', 'otp', 'znf665', 'znf324', 'tmc8', 'ecm2', 'magel2', 'rhbdl2', 'timm8b', 'atp1b1', 'fam91a1', 'lamc1', 'atg16l1', 'mettl6', 'nrm', 'slc29a3', 'psmb4', 'nkap', 'mccc2', 'or51g2', 'abhd17c', 'tcf12', 'rb1', 'tmeff1', 'garnl3', 'dhrs11', 'p2rx6', 'scn1a', 'snapc3', 'trpm6', 'rcor3', 'ccdc160', 'stat5a', 'csad', 'utp18', 'usp25', 'sema4g', 'nfix', 'cad', 'iqcj', 'zkscan2', 'ints4', 'setd1a', 'l1cam', 'crppa', 'cyp2c18', 'znf484', 'or2m3', 'pcsk4', 'or52i1', 'atp13a5', 'ccdc85c', 'ctxn1', 'cask', 'mroh6', 'disp2', 'znf350', 'znf578', 'mcm3', 'smarca2', 'opalin', 'sipa1', 'uspl1', 'or5c1', 'emc3', 'adgrf4', 'zscan30', 'rab36', 'mlkl', 'ube2l6', 'ino80c', 'gpr119', 'ado', 'gnai1', 'emp3', 'esam', 'tent5c', 'grap2', 'zdhhc11b', 'gas2', 'c13orf42', 'spocd1', 'ctnna2', 'cers6', 'zmat2', 'atp6v1f', 'grin2b', 'usp36', 'chd4', 'padi2', 'rnf181', 'tcte1', 'csf1r', 'wdr86', 'c16orf71', 'prac1', 'zcchc18', 'syt9', 'asic2', 'abi1', 'sema7a', 'abhd14a', 'uqcc3', 'meis1', 'clec12a', 'cchcr1', 'sorbs1', 'gng12', 'cd68', 'tmem94', 'col5a3', 'gpat3', 'tcp10l2', 'bend7', 'arhgap20', 'duoxa1', 'herpud1', 'tmem147', 'timm17b', 'rab19', 'myo10', 'apobec4', 'begain', 'wdr54', 'flad1', 'wiz', 'krbox1', 'mknk1', 'nsg1', 'daw1', 'golt1a', 'foxred1', 'ubxn6', 'tmem86b', 'akr1b10', 'folr2', 'gp6', 'tmem176a', 'myoz1', 'galt', 'lrp6', 'tppp2', 'igfbpl1', 'mgat4d', 'hip1r', 'ppm1n', 'srgap3', 'dmgdh', 'wnt11', 'rassf8', 'fam107a', 'zfp69b', 'phtf1', 'sirt3', 'hdc', 'plec', 'fgf23', 'fam189a1', 'ssh2', 'hrc', 'mysm1', 'tex38', 'znf678', 'epha10', 'ppp1r21', 'mak16', 'synpo', 'alpk3', 'rhag', 'bin3', 'htr1f', 'or56a1', 'kpna4', 'fam71d', 'gpsm2', 'twf1', 'mapkbp1', 'cdk5rap3', 'ptges3l', 'mylk', 'inpp4b', 'loxl2', 'frat2', 'c12orf57', 's100g', 'cmtr1', 'znf492', 'ndufa7', 'vcl', 'tlr1', 'il31ra', 'cd9', 'ect2', 'micall2', 'hm13', 'pradc1', 'plxna1', 'hoxb3', 'btf3', 'entpd5', 'pepd', 'srarp', 'tmem241', 'ganab', 'sox18', 'bpgm', 'mtfmt', 'fbxo7', 'c1orf210', 'gtf2e2', 'wdr35', 'nxpe2', 'lrrc63', 'prkar2b', 'als2cl', 'ggact', 'tmem203', 'fmnl1', 'grm1', 'bcl2l10', 'pip4k2c', 'ccl2', 'atpsckmt', 'gpr63', 'mapt', 'gtpbp2', 'galntl5', 'gli4', 'hsd17b13', 'usp39', 'prnp', 'cfap97', 'apol4', 'heyl', 'fcgr3b', 'sar1b', 'spns2', 'mmel1', 'dnajc2', 'sdad1', 'cdadc1', 'c9orf78', 'hspd1', 'psapl1', 'susd6', 'gpr162', 'klrc1', 'dera', 'txnrd2', 'hsd17b1', 'or8d1', 'prx', 'elp6', 'gdf5', 'igsf5', 'kctd3', 'jph4', 'acot12', 'lrrc61', 'inafm2', 'fgf20', 'fam170b', 'c13orf46', 'phf6', 'fsd1l', 'ntf4', 'rcan3', 'asb4', 'krtap3-2', 'pih1d2', 'znf771', 'znf441', 'tiaf1', 'fat2', 'oaz3', 'ccdc93', 'slc36a3', 'papln', 'lonp1', 'anks1b', 'prg4', 'rab21', 'degs2', 'smim27', 'stx8', 'fcrla', 'csn2', 'asb8', 'prkch', 'odc1', 'plau', 'gje1', 'plekhg2', 'sema3e', 'brd1', 'ugt2b7', 'taf5', 'bcl2l15', 'iqcd', 'trerf1', 'get1', 'nme4', 'arhgap36', 'mpp5', 'cdh17', 'gpc6', 'cdkn2aip', 'cdx2', 'fnbp4', 'hrh1', 'acadl', 'pgm2', 'emilin1', 'rab26', 'nampt', 'scara5', 'aste1', 'scamp3', 'egflam', 'gpr132', 'pgls', 'bcl6b', 'scarb1', 'kctd17', 'slc17a9', 'usp17l15', 'gstcd', 'ankrd34c', 'ccl23', 'asgr1', 'sirpb2', 'ppp1r3a', 'nudt14', 'elovl4', 'nus1', 'rhebl1', 'sorcs1', 'tnfaip2', 'prkar1a', 'ovol3', 'atp1a3', 'rhbdd1', 'lingo4', 'triml2', 'thg1l', 'irx2', 'hikeshi', 'acot4', 'rad51b', 'catspere', 'grwd1', 'a4gnt', 'tmco6', 'dynlt1', 'cand1', 'gpr1', 'armcx6', 'prss33', 'cdc16', 'tusc3', 'eif2b1', 'tm6sf1', 'iqch', 'cops7b', 'tfap2b', 'bach2', 'chpf', 'rab2b', 'znf19', 'ptcra', 'kctd18', 'prdx2', 'ift52', 'pramef10', 'ormdl3', 'klhdc10', 'unc13c', 'ebf1', 'naa30', 'kcnj9', 'metap1d', 'nup133', 'or10h1', 'c2orf16', 'gcnt4', 'ada2', 'mamstr', 'cep126', 'tcea3', 'slc16a5', 'ubd', 'six3', 'gcg', 'pdia6', 'defb131b', 'kcnv1', 'pet100', 'clec4g', 'llcfc1', 'mbd2', 'aff4', 'tnfaip3', 'fcrl3', 'atxn2', 'sh3rf2', 'wbp2', 'ssbp1', 'mfsd9', 'iglon5', 'rara', 'or1s1', 'tmem67', 'spata22', 'slc28a1', 'c18orf21', 'myom2', 'usp22', 'slc51a', 'hmox1', 'otud1', 'mterf4', 'pnrc2', 'ing3', 'golph3', 'pja1', 'ttc12', 'ddx19a', 'cyb5d1', 'supt7l', 'lca5l', 'atg16l2', 'fhl3', 'avpr1a', 'nkd2', 'dlgap4', 'znf444', 'uba3', 'plaa', 'lexm', 'tgm5', 'tsc22d1', 'igf2bp3', 'smim20', 'nudcd3', 'gck', 'serpinh1', 'srrm4', 'urad', 'mtpn', 'ubl3', 'cd58', 'mmp24os', 'riiad1', 'dvl3', 'pde9a', 'dctn1', 'rab3d', 'gys2', 'ak9', 'txnrd3', 'znf256', 'afp', 'l3mbtl4', 'fam178b', 'mcrip2', 'insl4', 'nkain2', 'nucks1', 'krt16', 'gjd2', 'cst4', 'taf11l6', 'or2t4', 'ly6g5c', 'crtam', 'srrm5', 'nudt10', 'chst1', 'vps26a', 'snrpn', 'inpp5b', 'plb1', 'notch2', 'tac3', 'dennd4a', 'znf823', 'tnfsf8', 'hscb', 'aip', 'fgfr4', 'tmem98', 'znf284', 'agrn', 'gfi1', 'nab1', 'klk9', 'fgd6', 'mt3', 'pecr', 'pla2g3', 'tmem41b', 'rbm12b', 'pdzd7', 'pak5', 'plce1', 'fam83d', 'lratd2', 'ago2', 'c2orf73', 'thap2', 'or4m1', 'ptk2b', 'tlx3', 'dhx15', 'ccl27', 'cul5', 'lamp2', 'magec3', 'tmem150c', 'lipe', 'crygs', 'angpt4', 'grk2', 'stimate', 'timm8a', 'arhgef28', 'btbd10', 'bex5', 'chrna10', 'mtmr8', 'mybph', 'ptgfrn', 'c11orf80', 'ctdsp2', 'alg8', 'hal', 'ndufa6', 'osr2', 'man1b1', 'cnp', 'dap', 'xiap', 'klhl23', 'rpap1', 'ppp3cb', 'tbx1', 'btg1', 'fcsk', 'arsb', 'fbxo27', 'cmtm4', 'pdp2', 'slc25a12', 'ankrd54', 'usp9x', 'st8sia5', 'olfm2', 'akr1a1', 'gckr', 'eaf1', 'flt4', 'mapk8', 'prim1', 'pkdcc', 'catsperb', 'gpn2', 'c18orf25', 'mink1', 'il18', 'slc5a4', 'pcdha7', 'tceal2', 'dock7', 'fgf4', 'npc2', 'mis12', 'rdh5', 'phtf2', 'epb41', 'dync1h1', 'tmem201', 'kcnk2', 'lefty2', 'lrrc15', 'pcyox1l', 'unc5cl', 'angel1', 'muc19', 'tjp3', 'vsnl1', 'rgs22', 'slc22a13', 'zfp62', 'artn', 'mthfs', 'fam174c', 'kiaa0040', 'col24a1', 'tspan11', 'pik3ap1', 'hspb7', 'or10k2', 'ift122', 'brms1l', 'plaat1', 'pnn', 'znf136', 'tceal5', 'wfdc11', 'cc2d1b', 'spice1', 'or2t1', 'prpf40b', 'ccp110', 'btbd2', 'nsun6', 'abcd2', 'cpeb3', 'rcbtb2', 'camkmt', 'capn12', 'ffar4', 'slc25a13', 'kl', 'clic6', 'bid', 'actn2', 'crabp2', 'c9orf153', 'idh2', 'tssk6', 'znf223', 'dnajc12', 'kdm3b', 'ski', 'nup54', 'lrrc45', 'hpcal4', 'ncbp2l', 'gsx2', 'capn13', 'psmd3', 'exosc8', 'fahd1', 'cd274', 'timm29', 'fxyd5', 'atp2b3', 'lmo2', 'ppp1r16a', 'c2cd6', 'qsox1', 'kcnj1', 'znf639', 'cyren', 'fbn3', 'agxt2', 'fam110b', 'ddah2', 'slc6a13', 'thoc6', 'bfsp1', 'bdh1', 'cidec', 'psma5', 'tmem130', 'pcdha9', 'akip1', 'tmx1', 'syt17', 'phf14', 'emilin3', 'ciao2a', 'ttll5', 'atrx', 'fam13b', 'dhdds', 'hoxd10', 'ece2', 'acadm', 'snx15', 'tmem145', 'cd93', 'lrrc20', 'cog4', 'mdc1', 'figla', 'fbxo8', 'disp1', 'dhx16', 'adam12', 'vwa5a', 'trib1', 'elavl1', 'paf1', 'slc16a4', 'btn1a1', 'mrfap1', 'mtmr7', 'bend2', 'sc5d', 'ndel1', 'pip5k1a', 'arpp21', 'kdelr2', 'adh1a', 'cracr2a', 'abra', 'tmem251', 'ptpn14', 'dpf3', 'tdrd10', 'c2cd4b', 'tmem150b', 'nell2', 'tnfrsf19', 'psat1', 'pirt', 'slc25a26', 'txlna', 'lrrn3', 'rfx4', 'exosc9', 'anxa10', 'ahctf1', 'wipf3', 'scrn1', 'zzef1', 'snph', 'atp6v1c2', 'rab1b', 's100a3', 'brip1', 'tmem52', 'mapk14', 'zc3h12b', 'gtf2e1', 'jtb', 'cd5', 'cenps', 'grid1', 'col20a1', 'tex264', 'fst', 'rgpd3', 'hoxb6', 'tent5a', 'antxr2', 'atp6v1a', 'pdlim2', 'senp6', 'prrt2', 'fmo2', 'acp4', 'mycl', 'ahi1', 'serpinb9', 'tnfrsf10b', 'ahsa1', 'pik3r1', 'fgfrl1', 'eid3', 'cxorf58', 'osbp', 'hmmr', 'fxyd4', 'pi4k2a', 'adgre2', 'fem1c', 'jag1', 'gnmt', 'slc47a1', 'aco2', 'glmp', 'ppargc1b', 'exoc2', 'or4c16', 'creb1', 'ptms', 'serpinb11', 'agt', 'fam204a', 'poc5', 'ptpn11', 'crb1', 'abcc2', 'nkx3-1', 'hoxa13', 'efnb2', 'heatr9', 'erich2', 'atxn7', 'gng11', 'or10k1', 'col1a1', 'nfic', 'lrrc10', 'fmo4', 'sec11c', 'ccdc186', 'lrrc8b', 'pced1b', 'slc12a7', 'lsm7', 'c1orf127', 'mbnl2', 'prkx', 'vsir', 'znf514', 'cd14', 'or11a1', 'ppp1r42', 'cep97', 'rbks', 'slc41a2', 'raf1', 'alkbh1', 'otoa', 'exoc1l', 'cd1d', 'gzf1', 'zcchc8', 'zscan2', 'dgat1', 'c12orf76', 'mcrs1', 'pla2g4d', 'cmtm5', 'timp2', 'tbc1d25', 'rims1', 'mt-co2', 'prc1', 'chd6', 'fah', 'pklr', 'gtf2ird1', 'cngb3', 'jph3', 'oaf', 'bcan', 'rpp30', 'abca4', 'ppox', 'slc22a24', 'krt39', 'krtap9-8', 'kif16b', 'shtn1', 'kcnj15', 'rictor', 'wdr81', 'dusp23', 'znf439', 'rest', 'serhl2', 'ccdc91', 'zim3', 'cobll1', 'ifnar2', 'or6c2', 'zmym5', 'slc17a1', 'pml', 'mob1a', 'vn1r4', 'fam110a', 'arhgef26', 'sult1b1', 'nt5c3a', 'znf577', 'pygb', 'arhgap35', 'lgsn', 'polg2', 'pex10', 'mylk4', 'atp6v0e2', 'capn1', 'rarres1', 'krtap13-4', 'atf7ip2', 'c1orf105', 'chfr', 'zdhhc7', 'os9', 'acat1', 'map3k12', 'hsbp1', 'baat', 'dnah5', 'rpp38', 'slc10a6', 'myof', 'gal3st3', 'sh3bp4', 'scn4a', 'laptm4b', 'ugt2b17', 'kcnh3', 'ccnc', 'ankfy1', 'magoh', 'phc3', 'lce2a', 'cacng2', 'taf1a', 'lpcat2', 'slc1a1', 'en2', 'or5k1', 'znf706', 'lifr', 'fli1', 'anxa2', 'rab8b', 'adad2', 'fam90a1', 'cnst', 'stx12', 'srd5a1', 'znf432', 'padi6', 'gna15', 'dennd4b', 'zcchc4', 'phf21a', 'or2c1', 'ugt2a3', 'csrnp3', 'xirp2', 'csf3r', 'slc10a2', 'pitpnb', 'ptprq', 'slc23a1', 'ros1', 'cc2d1a', 'eys', 'pten', 'mesp1', 'c1r', 'adamts5', 'cdh24', 'rbm23', 'kyat3', 'dnase1l1', 'wdr5', 'med26', 'rem1', 'tmprss3', 'card19', 'chmp4b', 'lce4a', 'avpi1', 'tdrd7', 'calca', 'ugt1a1', 'ciao3', 'bcor', 'arhgef4', 'cast', 'napa', 'znf580', 'tm4sf1', 'kif1c', 'aff2', 'mas1l', 'jade3', 'mfrp', 'enthd1', 'rhod', 'sirt5', 'nemf', 'tmem38b', 'taf1', 'spink8', 'cdc7', 'kcnt1', 'pou2af1', 'pcnx2', 'golgb1', 'grid2', 'osbpl8', 'gcm1', 'znf101', 'suz12', 'dnaaf5', 'f2rl3', 'nt5c1b', 'muc16', 'gipc1', 'kremen1', 'ufsp1', 'itgav', 'med24', 'tnni1', 'stat6', 'zscan18', 'eps8l1', 'pbld', 'gadd45g', 'or5d18', 'mpzl1', 'sycp2l', 'fn3krp', 'tuba4b', 'txndc8', 'erap2', 'olfml3', 'pum2', 'znf106', 'parvg', 'mfap4', 'slc5a5', 'orc5', 'ano2', 'ervv-2', 'hspa1l', 'gstz1', 'pfkfb1', 'itpa', 'pdzk1', 'col27a1', 'tbc1d28', 'foxf2', 'smc4', 'elovl2', 'mboat1', 'ins', 'elane', 'znf735', 'znf436', 'ldb3', 'hip1', 'cd7', 'cr1l', 'lpar1', 'cbl', 'stard6', 'dach2', 'dyrk4', 'or2b3', 'tmem80', 'trim54', 'fbxo15', 'cyp2b6', 'abhd16b', 'rims4', 'gcna', 'stil', 'dact2', 'ahrr', 'gsdmd', 'fitm1', 'wdr72', 'hepn1', 'wsb1', 'tmem168', 'tcof1', 'fstl1', 'ireb2', 'znf710', 'enpp7', 'slc35c2', 'fbxo21', 'c17orf50', 'siah3', 'meiob', 'csf3', 'grin2c', 'ascc1', 'apod', 'rdx', 'sephs2', 'pcp4', 'kcnh4', 'oosp4b', 'barhl2', 'foxl2nb', 'msantd3', 'ppm1b', 'il20ra', 'rgl2', 'hmgb2', 'mrgpre', 'sgk3', 'baiap3', 'noxred1', 'mif4gd', 'cst9l', 'rbm8a', 'nmbr', 'gigyf2', 'krtap4-11', 'c11orf1', 'evl', 'drc3', 'pik3cg', 'tg', 'rbm7', 'cstf2t', 'eif4ebp2', 'dnlz', 'tmc2', 'sowaha', 'slc25a47', 'foxd3', 'hspa12b', 'plcl1', 'bop1', 'wbp4', 'rgl4', 'terb2', 'adck2', 'glipr1l2', 'tmem121b', 'tceal4', 'sfxn3', 'n4bp2', 'elmod3', 'anks6', 'lrrc32', 'ssr4', 'dyrk1a', 'rgs12', 'pld2', 'ap3d1', 'fryl', 'hsd17b10', 'ttpal', 'dph3', 'gapdhs', 'tmem141', 'or4q3', 'flot2', 'sptlc1', 'diras1', 'kcna10', 'baz1b', 'rnf145', 'fbxo11', 'mnx1', 'rnaset2', 'dnajc24', 'ift46', 'hfe', 'cacna1c', 'csnk1g1', 'trim44', 'grb10', 'il18rap', 'hsdl2', 'barx1', 'pdcd6ip', 'nup42', 'zmynd15', 'fam8a1', 'lysmd2', 'rsph10b2', 'selenot', 'syngr3', 'krtap4-3', 'col4a4', 'gage10', 'nsa2', 'lrrc4c', 'f8', 'tapbpl', 'klf15', 'enpp6', 'mthfd2l', 'lrrc57', 'kmt5a', 'robo2', 'stk26', 'pvr', 'or10a6', 'znf620', 'frmpd3', 'slc35f5', 'il6r', 'dhh', 'ganc', 'fgf11', 'bche', 'intu', 'hoxa4', 'tram1', 'dock1', 'hexa', 'cyp4f3', 'stbd1', 'tmcc3', 'ngdn', 'otud7b', 'tom1l1', 'defb132', 'snrnp27', 'c10orf62', 'cep112', 'uqcc1', 'kiaa1210', 'noct', 'anapc1', 'ufm1', 'sash3', 'fam167a', 'ptf1a', 'igsf9b', 'blm', 'znf653', 'spata17', 'tmem205', 'ventx', 'lcn12', 'osbpl11', 'smim5', 'nup214', 'hsd17b2', 'atp11a', 'klhl26', 'usp14', 'supt16h', 'foxd2', 'rhoc', 'oxld1', 'hes2', 'gpank1', 'kdelr1', 'rmi2', 'usp6', 'cgrrf1', 'gls', 'nrn1', 'rnase13', 'insr', 'krtap20-2', 'spc25', 'extl1', 'khdc1', 'slc39a5', 'ccdc85a', 'atp2c1', 'anks3', 'nt5c1a', 'cox19', 'spaar', 'rab5c', 'c16orf74', 'slc25a35', 'stk17b', 'cyth3', 'rbm48', 'guca2a', 'rab11fip2', 'hbs1l', 'tgif1', 'mid2', 'cblif', 'nudcd1', 'znf442', 'amz1', 'pld6', 'ppp1r9a', 'c7orf33', 'txndc12', 'erich4', 'map3k8', 'or9k2', 'mxra5', 'ly6g6c', 'znf608', 'olig3', 'iqgap3', 'fig4', 'kiaa1109', 'dhrs7', 'galnt7', 'bnip1', 'smim6', 'znf599', 'gabrr2', 'mpped1', 'tmem244', 'rhoj', 'htr6', 'elmod2', 'foxd4l6', 'mageb16', 'hoxb9', 'tas1r3', 'lactb', 'prr12', 'fam20b', 'abhd1', 'rpf2', 'mcf2l2', 'aqp11', 'cycs', 'foxg1', 'epgn', 'c17orf64', 'tslp', 'nell1', 'twist2', 'fam166b', 'kncn', 'ap1s3', 'skida1', 'znf566', 'ino80d', 'eppin', 'hemk1', 'igsf23', 'adamts9', 'slco6a1', 'acin1', 'proser2', 'tpsd1', 'tbc1d13', 'tnks', 'pfn4', 'neurl1', 'cog6', 'ryr2', 'adgrl2', 'rnf150', 'ccdc159', 'ankk1', 'pfn1', 'c1galt1', 'dpm2', 'serpinf1', 'fgf7', 'wbp2nl', 'nfu1', 'tbx15', 'cacna1e', 'mtch2', 'epas1', 'znf26', 'lrrc4b', 'atp6v1h', 'ddr1', 'prrg3', 'znf346', 'eva1b', 'ccdc148', 'rbm10', 'rangap1', 'tom1l2', 'sirpd', 'kiss1r', 'scygr8', 'nxpe3', 'otud4', 'mppe1', 'ppp1r18', 'vav2', 'crocc', 'angptl7', 'foxj3', 'cox5b', 'wdr5b', 'gpha2', 'cux2', 'robo3', 'ca10', 'hdac4', 'usp34', 'epm2aip1', 'katna1', 'dusp16', 'rlim', 'hspb1', 'znf248', 'pum3', 'cdkl4', 'tmem41a', 'glyatl3', 'znf280b', 'pstpip2', 'rora', 'serping1', 'pgrmc1', 'creb3l4', 'c1orf116', 'oca2', 'folr3', 'gpr161', 'efr3b', 'susd2', 'sst', 'itgb2', 'pias3', 'syngap1', 'stap1', 'cd44', 'hpse2', 'scgb2b2', 'or13c4', 'mgme1', 'rfpl2', 'wwc3', 'safb', 'arhgap10', 'esyt2', 'ms4a15', 'vsig10l2', 'galc', 'mos', 'aldh3a1', 'prelid3a', 'tcfl5', 'iqsec2', 'gfra3', 'armcx1', 'or52r1', 'sharpin', 'eif1ad', 'spata19', 'tcf19', 'rnf19a', 'znf770', 'pkmyt1', 'slc26a6', 'rag2', 'dnajc4', 'nucb1', 'ckap2l', 'rassf5', 'arl6ip5', 'snai1', 'pcdhb5', 'znf554', 'nek7', 'ly6g6e', 'impg1', 'tmprss11b', 'tmod1', 'gapvd1', 'tmem225', 'rhbdd2', 'irs4', 'h6pd', 'alg14', 'prodh2', 'reeld1', 'znf613', 'lmna', 'or1c1', 'snx24', 'slc25a48', 'cxxc5', 'ophn1', 'dpp6', 'frg2', 'acadvl', 'ppp1r3e', 'fbxo24', 'slc13a1', 'smndc1', 'c3ar1', 'trim47', 'wdr92', 'slc27a5', 'rab24', 'cd2', 'ddx46', 'asxl3', 'tsnax', 'tedc1', 'znf638', 'col28a1', 'jmjd8', 'cnnm3', 'clasp1', 'swt1', 'kif24', 'paip2', 'zdhhc20', 'psmb2', 'erf', 'prlh', 'gabra2', 'fam133a', 'ap1s2', 'wdr62', 'tp73', 'ghr', 'or52l1', 'spa17', 'znf705a', 'mgat4a', 'tti2', 'hpr', 'tbl1y', 'plcb4', 'lix1l', 'ddx54', 'or3a3', 'scgb2a2', 'snx10', 'thsd4', 'phgr1', 'irf1', 'sycp3', 'prr23b', 'ccdc61', 'trappc13', 'igf2bp1', 'pno1', 'c1ql2', 'sema5b', 'sh3gl2', 'med27', 'mbtps1', 'kank3', 'mis18bp1', 'arfgef1', 'ctnna1', 'mdfi', 'ppm1j', 'edrf1', 'pygl', 'rap1a', 'fbxo34', 'cck', 'zdhhc15', 'c14orf180', 'grid2ip', 'mtif3', 'plscr2', 'hdgfl3', 'dll1', 'ttc3', 'mlh3', 'nek6', 'ccdc7', 'eif4h', 'fsip2', 'or10a5', 'l2hgdh', 'cyb5d2', 'trub1', 'glrx2', 'stx7', 'nsf', 'znf530', 'gja1', 'ccdc183', 'chmp2a', 'npepps', 'npas4', 'mastl', 'wfikkn2', 'srd5a2', 'dbnl', 'pam', 'fam102b', 'nagpa', 'sart1', 'znf568', 'nrip1', 'slc22a2', 'rad51ap1', 'cpsf4', 'dnph1', 'reg1b', 'cwf19l2', 'ifit1', 'ca12', 'cldn1', 'prap1', 'hoxd11', 'slc28a3', 'txndc16', 'ccl3', 'sult1a1', 'birc6', 'pum1', 'kcnk6', 'chst3', 'arl6ip6', 'elavl2', 'tollip', 'wee1', 'nmb', 'slc35b1', 'vstm2a', 'tpte2', 'ubxn4', 'slc50a1', 'hapln2', 'hibadh', 'pate1', 'serpine3', 'gspt1', 'ankrd29', 'spef1', 'cpne4', 'stmn1', 'fkbp14', 'cd22', 'retreg2', 'slc30a7', 'fbxw12', 'prrc2b', 'clec11a', 'abcb4', 'pdyn', 'pdha1', 'cfap70', 'prm3', 'myh7b', 'atp6v1g2', 'eif2ak1', 'asic3', 'olfm4', 'ccdc141', 'ulk3', 'sgcg', 'tyw1b', 'eif4enif1', 'tmprss5', 'odf3l1', 'slc5a10', 'arl5b', 'or6c74', 'necab2', 'timm21', 'nufip2', 'unc5b', 'stpg2', 'dapk3', 'mia', 'gpr17', 'mgmt', 'haus4', 'or2ag1', 'cpsf6', 'tmub2', 'cped1', 'nyap1', 'znf512b', 'mta1', 'pbxip1', 'mt-nd5', 'or52e8', 'anks4b', 'sox2', 'pdgfrb', 'gpr88', 'f11r', 'pear1', 'wdr1', 'ext1', 'epsti1', 'ifit2', 'dusp8', 'alcam', 'tex50', 'tns2', 'hnrnpm', 'pdgfra', 'pcdhga12', 'stard13', 'kiaa1614', 'senp5', 'yipf1', 'kcnu1', 'pag1', 'espl1', 'trim39', 'atad2b', 'ramp3', 'rhot1', 'zfpl1', 'stmn3', 'zic3', 'eif3l', 'adam33', 'st6galnac1', 'cnga2', 'apol5', 'ndst4', 'pax6', 'grik3', 'p2ry13', 'nipbl', 'rnf185', 'dcaf8l1', 'kif11', 'mex3a', 'clgn', 'znf879', 'gsk3b', 'cgnl1', 'abhd14b', 'kif22', 'caps2', 'scgb1c2', 'rfpl1', 'rad9a', 'chmp1b', 'sntg1', 'tubb6', 'kcnj5', 'klf6', 'ccdc175', 'mtf2', 'lilra6', 'erfe', 'nrsn2', 'wasl', 'fam240a', 'znf662', 'unc50', 'znf581', 'il26', 'gpc3', 'calcb', 'las1l', 'tmem169', 'eif2a', 'med10', 'parp11', 'ripk4', 'ceacam20', 'mtx1', 'ik', 'spindoc', 'igdcc4', 'nos2', 'foxd1', 'nkx6-3', 'tmem239', 'tomm34', 'tnfsf10', 'krbox4', 'lbh', 'rbm38', 'micb', 'gpr35', 'ints8', 'zmynd10', 'dgat2', 'fra10ac1', 'nsmf', 'zg16b', 'mfsd2b', 'rap1gap2', 'nolc1', 'mkrn2', 'stk19', 'pnma8c', 'lct', 'lmbrd2', 'ppp4r3a', 'spdye1', 'ripply1', 'vps25', 'rec8', 'foxa2', 'fabp7', 'cntrl', 'oard1', 'adk', 'dpys', 'psma7', 'rfc3', 'dydc2', 'igsf1', 'ccl25', 'rrm2b', 'pnmt', 'tsks', 'grp', 'parp9', 'znf257', 'fam162a', 'lilra4', 'adnp', 'rbm26', 'lztr1', 'fbxl18', 'nim1k', 'abca10', 'opa3', 'znf655', 'tmem116', 'ackr2', 'tas2r39', 'tmem30b', 'cacna2d1', 'or51e2', 'mapk8ip1', 'egln2', 'tmtc4', 'tmem63a', 'mapkapk3', 'anxa3', 'st8sia4', 'hephl1', 'ntsr1', 'casq2', 'sys1', 'slirp', 'acadsb', 'trmt1l', 'pebp4', 'txnrd1', 'ttc5', 'kctd11', 'cyp27a1', 'or7d2', 'mllt1', 'c16orf54', 'smo', 'or2l2', 'plac8', 'snapin', 'znf561', 'sde2', 's100p', 'ifna21', 'lcnl1', 'tmem87b', 'cfap221', 'rgs7bp', 'prdm5', 'dcps', 'thumpd3', 'vit', 'znf154', 'or2m5', 'dock4', 'irf4', 'ints12', 'zbed6cl', 'haus2', 'fkbp1b', 'tnfaip8l1', 'irf2bp2', 'epg5', 'cd8a', 'bmpr1b', 'bsdc1', 'usp49', 'bag6', 'st6galnac3', 'ebf2', 'frmd3', 'znf669', 'nif3l1', 'oxer1', 'ipmk', 'oas1', 'slc25a31', 'ercc5', 'cog8', 'hoxa5', 'cpne7', 'cpa6', 'larp1', 'stx6', 'znf385b', 'tor3a', 'wif1', 'b3glct', 'tapbp', 'pbx3', 'ciapin1', 'wipf1', 'psors1c1', 'fam126b', 'arsh', 'rab7a', 'tmem63b', 'slc39a9', 'hps6', 'dld', 'pkn2', 'znf624', 'btn2a1', 'hrh4', 'gjb1', 'znf354b', 'polr3h', 'prelid3b', 'uap1', 'gml', 'dpp7', 'tprkb', 'fam89b', 'ankrd39', 'fbp1', 'gnb2', 'mtus2', 'bnip5', 'mlst8', 'znf621', 'fyttd1', 'cdkl2', 'sema6b', 'cyp4x1', 'eno3', 'ssh1', 'cfhr2', 'orc4', 'ppp1r26', 'skap2', 'rasip1', 'naf1', 'sh3yl1', 'psmd6', 'coq10b', 'otx2', 'slc1a3', 'slc25a44', 'krt10', 'c11orf54', 'slc38a2', 'ckap4', 'dact1', 'celf6', 'nedd4l', 'has1', 'st18', 'plin2', 'gal', 'srsf5', 'specc1l', 'asphd2', 'rbp1', 'tubb2a', 'gde1', 'xrcc2', 'dph2', 'caprin1', 'fam20c', 'fbxo4', 'uimc1', 'slc10a5', 'pdzd4', 'fam102a', 'lrig2', 'cpne8', 'lsm8', 'nat10', 'pgm1', 'arrdc3', 'cops9', 'cst7', 'rgmb', 'agtr1', 'krt6b', 'cpo', 'znf362', 'c2cd5', 'mpc1l', 'agbl4', 'cdcp2', 'lpar6', 'pon2', 'pik3c2g', 'gabpa', 'cyp2c8', 'cdhr1', 'mtmr4', 'c2orf49', 'oosp3', 'rdm1', 'postn', 'c5orf51', 'zfpm2', 'ehmt2', 'dusp13', 'pkia', 'clic3', 'fam186b', 'muc13', 'dus1l', 'ghitm', 'bik', 'zscan9', 'fas', 'ppp1r3g', 'klhl31', 'cby1', 'naaladl1', 'sh2b3', 'tmem262', 'efna4', 'tdrd3', 'olfml2b', 'apeh', 'lrit1', 'dnah17', 'spart', 'kiz', 'sts', 'krtdap', 'hes5', 'mtpap', 'dync1i1', 'crhr1', 'utp14a', 'gpr158', 'traf1', 'fam83b', 'nbpf20', 'rin3', 'ccdc59', 'ftsj1', 'mrfap1l1', 'hyls1', 'serpina10', 'ccdc124', 'aurkb', 'tead2', 'nrn1l', 'ralgapa2', 'ptgr2', 'atp5me', 'camk2g', 'rgs17', 'tent2', 'pcca', 'adar', 'gon4l', 'map1a', 'cdca5', 'duxb', 'tmem223', 'khnyn', 'slc25a16', 'znf593', 'gpatch1', 'or4x2', 'haus6', 'clcn5', 'ndufb11', 'krt35', 'shisa7', 'ptger2', 'slc12a6', 'c9', 'nsun4', 'bicral', 'kcna1', 'b3gnt9', 'bmi1', 'wdr17', 'fam98c', 'cplx3', 'krtap23-1', 'btbd18', 'polr2k', 'vps13c', 'atp8b4', 'akna', 'vim', 'ankmy1', 'vegfb', 'ctrc', 'tor4a', 'snrpe', 'znf397', 'phpt1', 'atp5mg', 'mia2', 'znf222', 'slc25a53', 'trim48', 'pcdhb10', 'rarb', 'yy1', 'csta', 'itga5', 'cnksr1', 'pdzk1ip1', 'sh3bp1', 'cfp', 'lhx9', 'snx32', 'vash1', 'adgrb1', 'zw10', 'mustn1', 'hapln3', 'rsph6a', 'ogt', 'chm', 'plpp4', 'znf627', 'baz1a', 'pdpk1', 'c1ql1', 'dnah11', 'rabgap1', 'ppp2r2c', 'znf143', 'ppfia4', 'cuedc1', 'pitpnc1', 'urgcp', 'cfap69', 'egr1', 'sirpa', 'acot11', 'sec16b', 'sf1', 'slc4a1', 'klhl7', 'xxylt1', 'flnb', 'rab42', 'anxa11', 'tiparp', 'tnfsf13b', 'ube2e2', 'rpusd4', 'hnrnpa0', 'adcy7', 'or10w1', 'hcn2', 'etnk1', 'mapkapk2', 'map7', 'fibp', 'ap2b1', 'fermt1', 'cetn2', 'trmt44', 'pmepa1', 'psmb7', 'comp', 'kcnk18', 'tp63', 'myo15b', 'klk5', 'bmp5', 'jmjd6', 'fbxo46', 'large1', 'srm', 'ppp1cb', 'mea1', 'znf140', 'riox1', 'c18orf63', 'ankrd26', 'fam71a', 'plch1', 'fam241a', 'uqcr11', 'crlf1', 'stx16', 'dis3l2', 'gid8', 'stac3', 'rad51', 'nup62cl', 'lzts1', 'rcvrn', 'cnot4', 'slc25a36', 'znf778', 'enam', 'osgepl1', 'ahsg', 'htra4', 'zic1', 'fibcd1', 'serpinb13', 'tcp11l1', 'babam1', 'psmd2', 'itih1', 'klhl11', 'dapk2', 'sult4a1', 'mab21l1', 'echdc3', 'or5h2', 'rpap3', 'znf560', 'snta1', 'sebox', 'znf793', 'adra2b', 'dcstamp', 'lrp12', 'rdh13', 'slco1b3', 'igll1', 'cep68', 'gbe1', 'tmem272', 'klhl17', 'grik2', 'zc3h3', 'sat2', 'mkrn3', 'mcl1', 'fgr', 'or5l1', 'adora2b', 'vtcn1', 'klk11', 'paqr5', 'ubxn10', 'cd1b', 'wdr73', 'isl2', 'plaat5', 'rce1', 'cyb5a', 'luc7l', 'tpd52', 'nrdc', 'etfb', 'znf331', 'med19', 'limch1', 'ercc4', 'tmem200c', 'mark4', 'cfap20', 'fam9c', 'plac1', 'krtap3-3', 'dpcd', 'zbp1', 'itsn2', 'vps4b', 'ssuh2', 'pfdn1', 'abcb10', 'tmem260', 'cdan1', 'f2', 'bpifb4', 'c22orf31', 'slc25a18', 'acad9', 'rln2', 'kif5a', 'znf843', 'lamtor2', 'ddx28', 'gngt1', 'hinfp', 'ankrd33', 'alx1', 'pex5l', 'clec4d', 'tas2r8', 'kcnk10', 'fam240c', 'b3gnt6', 'cst8', 'mrgprx3', 'vapa', 'plscr4', 'ccdc85b', 'shcbp1', 'znf552', 'gcnt3', 'mmp13', 'irx5', 'lman2l', 'kif9', 'app', 'c1orf74', 'nr1i2', 'synj2', 'arms2', 'gltp', 'fancc', 'pdcl2', 'mcm4', 'samd14', 'serpinb2', 'trub2', 'far1', 'tfb2m', 'slc3a1', 'pex3', 'gsap', 'tom1', 'bcl10', 'krtap16-1', 'mmgt1', 'itgb6', 'tcf23', 'nutm2a', 'bdnf', 'foxp4', 'hjv', 'cat', 'sox5', 'ache', 'erp44', 'lrr1', 'cep19', 'rbms3', 'chrna2', 'ube2l5', 'vwa3b', 'cxcr6', 'chrd', 'nup37', 'prps1l1', 'tle2', 'cabp5', 'nps', 'fcrl6', 'ly6g5b', 'slc2a4', 'stard8', 'cd96', 'esf1', 'ubqlnl', 'phactr3', 'ptp4a3', 'tada1', 'dmac2', 'obscn', 'lima1', 'kmt2a', 'ptov1', 'esco1', 'anxa2r', 'lilrb5', 'fbrsl1', 'crat', 'or4k14', 'dpep1', 'cabp1', 'sage1', 'kbtbd8', 'rras', 'clpb', 'cd244', 'nuak1', 'znf697', 'ttc16', 'mt1h', 'fut1', 'usp18', 'urod', 'stk31', 'relt', 'trmt9b', 'ccnb2', 'csmd3', 'plppr3', 'csnk2a1', 'usp33', 'cenpf', 'rock2', 's100a9', 'fndc8', 'hhipl2', 'hsd3b1', 'b3gat3', 'spon1', 'srsf1', 'prr33', 'asb16', 'cdkn1a', 'banf1', 'bco1', 'znf155', 'hes1', 'rngtt', 'mpp1', 'clybl', 'pi4kb', 'nkx3-2', 'bcl11a', 'cend1', 'rhd', 'kctd9', 'malt1', 'prmt2', 'ggct', 'fmo3', 'ugt3a1', 'znf682', 'mlc1', 'tomm40l', 'dapk1', 'il17d', 'thsd7b', 'atxn2l', 'nufip1', 'shfl', 'catsperz', 'cyb561a3', 'atp8a2', 'stap2', 'dlk1', 'acoxl', 'nans', 'znf319', 'dpp4', 'fcgrt', 'lrrn4', 'sugp2', 'pcgf1', 'strit1', 'ctsz', 'pex16', 'nhs', 'tap1', 'fosl2', 'atg4a', 'nphp1', 'krtap5-6', 'slc38a8', 'tmem19', 'dock10', 'krtap12-4', 'slc35a3', 'gbx1', 'galnt9', 'sf3b4', 'zhx3', 'usp11', 'stx3', 'sh2d5', 'kiaa0319l', 'marcol', 'fkbp9', 'cavin4', 'rrbp1', 'stox1', 'ttk', 'znrf3', 'utp4', 'osmr', 'fam219b', 'gas2l3', 'spz1', 'htt', 'exph5', 'tyw1', 'zbed1', 'ing5', 'btbd6', 'col4a1', 'sox17', 'tdp1', 'foxl1', 'fgf13', 'slitrk5', 'tnik', 'znf571', 'mybpc1', 'usp12', 'pgpep1', 'nxph3', 'f8a1', 'gpr142', 'cct8', 'clstn3', 'kcmf1', 'fdft1', 'tmem71', 'cenpn', 'smg6', 'ctps1', 'sfta2', 'klf2', 'akirin1', 'srsf7', 'atp6v0d2', 'tcerg1l', 'znf835', 'ndufs6', 'zup1', 'mpst', 'plcg2', 'psmb3', 'chat', 'acp7', 'dpy19l4', 'mmab', 'c19orf67', 'zbtb8b', 'medag', 'sbsn', 'ifi6', 'klhl13', 'ecrg4', 'ppp3cc', 'mamld1', 'mindy1', 'or6k6', 'tec', 'iffo1', 'tep1', 'cxcl2', 'git1', 'sth', 'dsg3', 'psmd14', 'camsap3', 'hic2', 'ift22', 'snx5', 'slc18b1', 'krtap20-1', 'pomgnt1', 'znf718', 'atp6v1fnb', 'spryd4', 'tsacc', 'slc32a1', 'guk1', 'lmf2', 'chmp1a', 'fscb', 'baz2a', 'tex26', 'ttc9', 'b3gnt8', 'cyb5r3', 'f11', 'eif4g2', 'orc6', 'got2', 'exosc1', 'tmem35a', 'tnfaip8', 'fosl1', 'fmnl2', 'pla2g4c', 'nxph1', 'kmt2d', 'plk5', 'gng3', 'tspyl6', 'vill', 'alg12', 'diras2', 'kntc1', 'ncapd2', 'zdhhc18', 'dnajc10', 'poln', 'retreg1', 'vps26b', 'aven', 'slc25a19', 'gcdh', 'serpinb7', 'tonsl', 'ppp3r2', 'slc1a2', 'exd2', 'ttc19', 'fndc1', 'arih2', 'klf14', 'grm6', 'srpk2', 'usp7', 'samsn1', 'rasl10b', 'prps1', 'map4k3', 'rb1cc1', 'gnpda2', 'bloc1s5', 'parva', 'gmppb', 'psmd10', 'fabp12', 'dcaf7', 'ooep', 'prg3', 'faah2', 'pih1d1', 'qtrt2', 'c2cd4c', 'vamp4', 'rxrb', 'kiaa1958', 'hyal3', 'fbp2', 'masp2', 'cyp4f12', 'scn8a', 'psip1', 'slc22a25', 'tarbp1', 'map3k3', 'serp1', 'tctn1', 'drc1', 'oxt', 'ttc21a', 'dnajc21', 'rmdn3', 'mbd5', 'ogfod2', 'pxylp1', 'ppp1ca', 'selenok', 'slc16a2', 'vhl', 'smr3a', 'abl2', 'fam216a', 'abca1', 'zdhhc9', 'cep295nl', 'cyp3a4', 'prxl2a', 'cdkl1', 'adh7', 'yap1', 'slc39a8', 'tsr3', 'dennd6b', 'zmat1', 'nmu', 'cops8', 'lrrc18', 'best3', 'ppp3r1', 'tmem59', 'apobec2', 'arid1b', 'cpt1a', 'nox4', 'dnmbp', 'fam3c', 'tmed10', 'rab40c', 'relb', 'gna14', 'slc25a23', 'fes', 'cpeb1', 'slc9a4', 'bod1', 'avl9', 'nanognb', 'b3gnt3', 'tmem106a', 'slc30a9', 'srsf2', 'mbtps2', 'ssc4d', 'synj1', 'myo1a', 'tln1', 'dars2', 'cpt1c', 'ghdc', 'gucy1a1', 'chpt1', 'plxnb1', 'stn1', 'acbd5', 'tnfrsf21', 'llgl2', 'rab34', 'lsm14b', 'abhd13', 'acp5', 'scp2', 'ankrd17', 'rsph3', 'b3galt5', 'dlat', 'mrc2', 'coq6', 'fam78b', 'tbc1d5', 'mymk', 'kcnq1', 'rundc1', 'cdca7l', 'adnp2', 'cyp7a1', 'slc30a5', 'pick1', 'diaph2', 'mat2b', 'lrif1', 'cavin2', 'mst1r', 'mcub', 'mycbpap', 'ddhd1', 'pspn', 'slc24a3', 'znf654', 'fancb', 'plekha6', 'krt75', 'vwce', 'mt1x', 'dusp7', 'il15ra', 'cand2', 'rnf2', 'fam81a', 'brk1', 'shox2', 'plrg1', 'znf467', 'phyhd1', 'vps4a', 'ero1b', 'slamf1', 'tspyl4', 'wdtc1', 'grxcr2', 'cmc2', 'fkbp6', 'cds1', 'tmpo', 'lrrc46', 'fsd1', 'mzb1', 'pik3c2a', 'znf174', 'sema4d', 'znf37a', 'mvb12a', 'bcap29', 'ca14', 'ctsa', 'wnt7b', 'cd163', 'timm9', 'ttc21b', 'trim55', 'clvs2', 'tomm6', 'myc', 'cdc42ep1', 'eno2', 'znf75d', 'vipas39', 'faxc', 'map4k5', 'ankmy2', 'aqp12a', 'cab39l', 'snx4', 'pkm', 'ltbp4', 'snrpd2', 'msi2', 'msmb', 'eif2s2', 'c2orf74', 'chrm2', 'bag4', 'gstp1', 'epx', 'sybu', 'rgs7', 'bod1l1', 'slc16a14', 'znf736', 'trim4', 'astn1', 'dennd2a', 'chst15', 'fuca2', 'itfg1', 'clcn4', 'slc2a1', 'ptrhd1', 'ctr9', 'celsr2', 'parp8', 'derpc', 'znf205', 'slc39a6', 'lpxn', 'c14orf93', 'vstm2l', 'gmpr', 'kif4b', 'rpgr', 'spata2', 'kbtbd13', 'fuz', 'scap', 'aplp1', 'vsx1', 'cdc42bpa', 'zbtb4', 'rap2b', 'samd7', 'imp3', 'nrl', 'cklf', 'fjx1', 'cnot1', 'sprtn', 'tigd1', 'map3k21', 'myoz3', 'ppt2', 'c6orf89', 'arntl', 'c16orf86', 'mospd1', 'prkag2', 'slain2', 'dok5', 'nr2c2', 'gchfr', 'trim64c', 'aqp9', 'ubtf', 'gzmm', 'thop1', 'usp20', 'arl11', 'arsg', 'eda', 'sptlc3', 'rab9b', 'igfbp1', 'herc4', 'ush2a', 'fam24b', 'txndc2', 'slc20a2', 'ubash3a', 'nsun7', 'ahcyl2', 'prxl2b', 'dio1', 'hlcs', 'sowahc', 'irak3', 'slc22a14', 'slc9b2', 'dusp11', 'ramacl', 'ackr4', 'palld', 'sf3b6', 'meis3', 'kbtbd12', 'p2ry12', 'ppp1r17', 'tmem131l', 'icam3', 'ppp2r5a', 'cacng7', 'ppp1r12c', 'arhgap4', 'sfrp4', 'p2ry14', 'ugt2b11', 'prss35', 'sap30bp', 'spcs3', 'sft2d3', 'page4', 'ecsit', 'ndufaf7', 'psmg3', 'nfx1', 'snx17', 'mtx2', 'mybpc3', 'dnal4', 'gjb3', 'hadh', 'tmem132e', 'ankub1', 'mfap3', 'slc25a5', 'c10orf90', 'kera', 'ube2g2', 'mc5r', 'ndufb10', 'c1orf115', 'rybp', 'lhfpl4', 'eif5a2', 'sla', 'znf383', 'upk1a', 'znf264', 'gnat2', 'cyhr1', 'tnfaip1', 'nploc4', 'or3a2', 'hdgfl2', 'mad1l1', 'snrpd3', 'tnc', 'lipa', 'sh3bgr', 'tppp3', 'lce2b', 'lsr', 'myo1g', 'szrd1', 'plod1', 'taf11l13', 'colgalt2', 'hspb6', 'lgr4', 'myo9a', 'arpc5', 'scg5', 'hspa6', 'hdhd2', 'rbm11', 'mt1b', 'fut5', 'cct3', 'tbc1d10c', 'fut3', 'xkr4', 'slc12a3', 'zrsr2', 'oxnad1', 'adgb', 'vwa8', 'nop9', 'txn2', 'mbnl3', 'dnaaf1', 'psen2', 'scarb2', 'mei4', 'cln6', 'scml1', 'fancl', 'ppp2r5e', 'c11orf58', 'rhbdl3', 'adarb1', 'ttc9c', 'clns1a', 'gramd2a', 'lpar2', 'ssbp2', 'ccdc174', 'heca', 'optn', 'lelp1', 'taf5l', 'rnase4', 'commd3', 'znf727', 'or1a2', 'p2rx4', 'recql5', 'nek4', 'eif4b', 'rpp25', 'lingo1', 'abcb8', 'mfsd4b', 'nup88', 'slc7a13', 'ttc17', 'wasf1', 'manf', 'ppy', 'arhgdib', 'lars2', 'slc22a3', 'rasa4b', 'actl6b', 'supt20h', 'apcdd1', 'c1qa', 'apoc1', 'gemin7', 'orc1', 'adam20', 'ankdd1b', 'rbm4b', 'ccdc88a', 'nol8', 'timeless', 'krtap4-6', 'arhgef5', 'proz', 'tceal8', 'pgp', 'rpusd3', 'exosc10', 'dcun1d3', 'gemin6', 'lilrb4', 'znf527', 'ldb2', 'cd164l2', 'kcnj11', 'cox4i2', 'fabp3', 'dbt', 'irf7', 'meak7', 'mvd', 'dab2ip', 'pramef11', 'pip4k2b', 'cdrt15l2', 'il31', 'cbfa2t3', 'lrrc59', 'isyna1', 'ism2', 'dtwd2', 'or6c70', 'dppa3', 'tmem102', 'ranbp9', 'rnf32', 'ddx31', 'ret', 'csh2', 'tepp', 'rbm15b', 'f2r', 'moap1', 'spta1', 'rbfox3', 'cdk1', 'rabif', 'plekhg6', 'ssr2', 'flg2', 'plcd3', 'cryzl1', 'nop2', 'cacng5', 'dgat2l6', 'c12orf40', 'fggy', 'pex6', 'ubb', 'slc2a2', 'cavin1', 'rptor', 'kptn', 'galr3', 'lipk', 'piga', 'mprip', 'btc', 'cyp2c9', 'lrrc14', 'pop4', 'ocln', 's100a7l2', 'page3', 'gbgt1', 'rad21', 'fdcsp', 'tead1', 'lrrc37a2', 'snx1', 'or5d3p', 'polb', 'ten1', 'strip2', 'cep85', 'krba2', 'sez6l2', 'ccn1', 'slc20a1', 'actb', 'atp10d', 'rbck1', 'mcoln3', 'scrt1', 'trim41', 'pmel', 'cox6c', 'cth', 'fxyd6', 'dnaaf3', 'trim23', 'slc25a2', 'c11orf97', 'cnot6', 'grifin', 'tspan12', 'foxn4', 'ap2a1', 'rrp15', 'rac3', 'or2j2', 'endod1', 'etfa', 'acvr2a', 'commd10', 'ovch1', 'etv4', 'pou3f4', 'rwdd1', 'rflnb', 'trim33', 'spin4', 'krtap22-1', 'phlda3', 'itgam', 'popdc2', 'tpbgl', 'pnisr', 'acsm1', 'kiss1', 'krtap9-9', 'tro', 'ccl1', 'col8a1', 'ppp2r1a', 'flvcr1', 'tle1', 'znf3', 'scrib', 'atp7b', 'arf6', 'cxcl14', 'ubl4b', 'abca6', 'rraga', 'lypd6', 'rgma', 'lzts2', 'snf8', 'ndufb7', 'fate1', 'rgsl1', 'moxd1', 'or6c6', 'hdac3', 'lurap1l', 'wbp1l', 'thap12', 'midn', 'arfip2', 'tspo', 'agbl5', 'pex14', 'pak1', 'ffar1', 'ltbp2', 'cxcr2', 'ccrl2', 'clic1', 'aaas', 'fam185a', 'nckap5', 'znf546', 'zxda', 'il7', 'hyou1', 'tceal3', 'dcx', 'aldh2', 'krt5', 'atoh1', 'fam209b', 'cfap300', 'cct4', 'msl2', 'ramac', 'oser1', 'ccdc60', 'bud13', 'arl14', 'znf384', 'ampd3', 'mfsd3', 'znf493', 'sertad2', 'mgam', 'snrnp200', 'xk', 'atp11c', 'lair2', 'mplkip', 'crnkl1', 'rnf125', 'tsnare1', 'potem', 'cd1c', 'ccdc170', 'tor1aip2', 'pttg2', 'sorbs2', 'api5', 'itm2c', 'acox1', 'efhd2', 'apold1', 'krt2', 'cep44', 'clic5', 'm1ap', 'or52n5', 'psrc1', 'haspin', 'nmnat3', 'slc6a14', 'spdef', 'il20rb', 'b3gat2', 'slco1a2', 'nprl2', 'copb2', 'rrad', 'rint1', 'gemin5', 'rabl3', 'nrarp', 'c12orf43', 'dnaja4', 'nr2c1', 'borcs5', 'trim58', 'ccdc88b', 'thbs4', 'fbxo6', 'phlpp1', 'kctd10', 'lmbr1', 'or2y1', 'fam71f1', 'nfrkb', 'sstr3', 'sntb1', 'ndufa8', 'wdr76', 'slfnl1', 'gnpat', 'dytn', 'mchr1', 'fcrl5', 'isoc1', 'myl9', 'parg', 'brcc3', 'mlf1', 'dcun1d2', 'map3k13', 'sem1', 'lamp1', 'itln1', 'hectd3', 'shisal2a', 'cish', 'adgrg1', 'znf224', 'dab1', 'prr9', 'trim36', 'mphosph9', 'aagab', 'ldlrad4', 'st3gal4', 'or5k3', 'etv3l', 'nbr1', 'cckbr', 'grik1', 'prr27', 'c1orf162', 'fstl3', 'mmrn1', 'kmo', 'btbd7', 'fcrl1', 'tcerg1', 'nsmce3', 'naalad2', 'znf66', 'tmem163', 'thoc5', 'efnb1', 'gxylt1', 'dnpep', 'atrnl1', 'arpc3', 'ebp', 'il12rb2', 'arhgap25', 'dkk3', 'rnase12', 'nectin2', 'shisal1', 'ttc26', 'tlk2', 'dntt', 'dgkh', 'rexo5', 'cacng8', 'ttc39a', 'edn3', 'or7g1', 'slc35a2', 'spata3', 'neurl3', 'ccdc138', 'cfi', 'peli3', 'trarg1', 'lrguk', 'usp37', 'ptpn5', 'krtap13-1', 'slbp', 'usp17l2', 'slc3a2', 'foxr1', 'styk1', 'c1orf35', 'gtpbp8', 'slc17a5', 'msh5', 'syde1', 'klrf1', 'dnajc18', 'dscc1', 'ikzf4', 'reps2', 'bricd5', 'b3gnt2', 'prss21', 'smc6', 'hey1', 'or2f1', 'nlrp6', 'cbll2', 'abcc4', 'tigd6', 'ndufb6', 'hook2', 'chtf8', 'aprt', 'lrfn5', 'vezf1', 'nobox', 'emc4', 'hdlbp', 'pld1', 'cpne3', 'gpm6a', 'pld5', 'vwf', 'tyrobp', 'faap20', 'knstrn', 'dync2h1', 'slc66a2', 'or4k15', 'cort', 'hrh3', 'adgrf2', 'gabbr1', 'cd36', 'kcnc1', 'saxo2', 'smim33', 'enpp3', 'nup160', 'aifm3', 'plekhg1', 'afap1l2', 'tecpr2', 'gripap1', 'plekhh2', 'trmt11', 'psmg2', 'jak2', 'lta4h', 'havcr1', 'lrrc8a', 's100a7a', 'malsu1', 'rbm18', 'gpc2', 'eri2', 'rogdi', 'ash1l', 'syt7', 'wdr83os', 'cdc25b', 'thap1', 'plcxd1', 'casc3', 'lzts3', 'dpep3', 'htra1', 'znf428', 'asprv1', 'cog7', 'spag17', 'glp2r', 'nwd2', 'cemp1', 'cxcl6', 'tmem135', 'mipep', 'kcnh8', 'zbtb10', 'bst1', 'elovl7', 'pnpla1', 'cbarp', 'cd6', 'endov', 'homer3', 'dip2b', 'dstyk', 'trmt10c', 'or5au1', 'nhlrc3', 'tent4b', 'nucb2', 'stim2', 'ppic', 'bcl2l1', 'mitd1', 'gk5', 'c1qtnf8', 'sparcl1', 'dctd', 'marveld1', 'fan1', 'nr2f1', 'scnn1d', 'cfap46', 'znf277', 'tomm22', 'gdpd3', 'fnip2', 'grpel2', 'med13', 'adgrg7', 'tp53i11', 'atp6v0a4', 'zbtb40', 'taar1', 'hnf1b', 'nme2', 'tmem53', 'npr1', 'ndufaf4', 'ube2d4', 'ica1', 'vegfd', 'cetn3', 'ldlrap1', 'ncmap', 'tgoln2', 'clip2', 'dsc1', 'ptgr1', 'cfap157', 'ppp4r3b', 'majin', 'ptx3', 'or1l6', 'vipr1', 'qrich1', 'clec17a', 'net1', 'bmper', 'hsbp1l1', 'apbb2', 'or4d5', 'kras', 'gfpt1', 'star', 'sycp1', 'srcap', 'erap1', 'lrpprc', 'entpd3', 'hirip3', 'c19orf71', 'c1orf56', 'page1', 'ovol1', 'rgs6', 'slc22a4', 'smurf2', 'mest', 'hspa12a', 'ttbk1', 'perm1', 'clcnka', 'kdm1b', 'hoxc8', 'islr', 'myh2', 'taf15', 'oprpn', 'ptpre', 'adamts20', 'tmem247', 'calhm4', 'galnt4', 'ifna8', 'lrat', 'akr1c2', 'ankrd13a', 'xrcc1', 'rnf11', 'pygo2', 'kcnq2', 'rassf3', 'sult6b1', 'cnn3', 'yy2', 'rhbdd3', 'ugp2', 'map1b', 'slc41a1', 'zar1l', 'glod5', 'foxh1', 'or4c13', 'casq1', 'micu1', 'krtap25-1', 'polr1d', 'mybl1', 'trpa1', 'ptpn1', 'npffr2', 'tbc1d7', 'fam53b', 'leprotl1', 'ralgapa1', 'pcdhb13', 'gli3', 'ppp1r16b', 'syt16', 'ankrd24', 'nt5dc2', 'cinp', 'kiaa1549', 'krt36', 'rimklb', 'slc5a2', 'dnajb1', 'tax1bp1', 'ap1m2', 'dazap2', 'xkr7', 'tspoap1', 'ccdc134', 'ccdc185', 'fcho1', 'kifc2', 'zdhhc23', 'rrnad1', 'wwc2', 'ehmt1', 'poc1a', 'prss57', 'btrc', 'renbp', 'adra2a', 'gab1', 'cx3cl1', 'slc9c1', 'fbxl16', 'trat1', 'sncb', 'apaf1', 'lhfpl6', 'gimap4', 'gpatch2', 'arpc4', 'znf117', 'c12orf60', 'prss27', 'smco2', 'fbxw7', 'mxd1', 'mapk15', 'hmgcs2', 'rnf44', 'znf189', 'cdkn3', 'klhl35', 'slc9a6', 'dkc1', 'e2f5', 'gabrg1', 'nav1', 'kctd1', 'me2', 'zcwpw1', 'arf3', 'bcorl1', 'hba2', 'clmn', 'cidea', 'maff', 'calr3', 'tmem199', 'megf10', 'rnf26', 'taf9', 'tceal9', 'pheta2', 'gbf1', 'fancg', 'ttc27', 'tomm70', 'tnip1', 'pou2f3', 'mog', 'il1rl2', 'znf575', 'aspscr1', 'pitpnm2', 'igfbp5', 'sertad4', 'tatdn2', 'scn9a', 'drc7', 'tprx1', 'tafa4', 'ipcef1', 'eln', 'rnf170', 'cryba4', 'fam83a', 'alg2', 'adh6', 'tle5', 'thrap3', 'slc30a10', 'polr3k', 'sema3b', 'nap1l3', 'notum', 'bsn', 'dclre1a', 'gli2', 'rragd', 'znf576', 'sync', 'pls1', 'mesp2', 'tanc1', 'znf772', 'tex29', 'flacc1', 'fgf5', 'or10a7', 'htra2', 'rangrf', 'dtnb', 'fancd2', 'gtf2a1', 'cd84', 'ms4a6a', 'gsk3a', 'itga3', 'chic2', 'tk1', 'tln2', 'p3r3urf', 'grm2', 'lyzl4', 'nme3', 'tmem30a', 'batf2', 'sec14l1', 'tnfsf13', 'abhd8', 'pskh2', 'nbea', 'slc2a8', 'sbspon', 'nat8l', 'polr2h', 'rtp1', 'mtr', 'cdc40', 'ccl4', 'wdr89', 'retnlb', 'tfb1m', 'cdca3', 'arsi', 'nppa', 'parp12', 'ndufa9', 'hoxb4', 'scn2a', 'faf1', 'pcsk1', 'wdr45', 'c11orf86', 'ces3', 'casp6', 'fahd2a', 'ndufaf3', 'trim71', 'mfsd1', 'cul2', 'egr2', 'mt-nd3', 'epcam', 'rbm6', 'cntnap2', 'elac2', 'ipo5', 'hoxb8', 'polr2f', 'apobec3h', 'c19orf12', 'zfp14', 'abca2', 'sars2', 'noxa1', 'tvp23a', 'creb5', 'htr2a', 'myo9b', 'srrm2', 'ccdc120', 'lage3', 'rbms1', 'leo1', 'grk1', 'cep290', 'emx1', 'znf529', 'fkbp8', 'rab39a', 'scnn1a', 'kcnj18', 'fgg', 'mybl2', 'dpyd', 'atp12a', 'dmbt1', 'usp29', 'bco2', 'tpd52l2', 'pvalef', 'ccn2', 'zkscan4', 'znf540', 'mterf1', 'armh3', 'clec2d', 'golga6l7', 'ccdc157', 'mpzl3', 'jph2', 'sgpl1', 'zbtb12', 'slc35a4', 'dysf', 'slc15a3', 'tatdn1', 'mmp24', 'odf2', 'sytl5', 'dnaaf2', 'cwc27', 'polk', 'cfap97d1', 'trim66', 'or13a1', 'hspb8', 'tnfaip6', 'usp17l7', 'spryd3', 'ak7', 'lcorl', 'krtap5-1', 'dmrtc2', 'il23r', 'cd300lg', 'mmp1', 'slc17a4', 'glod4', 'dcun1d1', 'ctag2', 'neu3', 'gnrh1', 'dcaf8l2', 'tenm1', 'tmem269', 'atg2b', 'rasgrp4', 'gjc2', 'ppef2', 'pop1', 'kat5', 'clvs1', 'fgd4', 'coro7', 'fam114a2', 'cyb5b', 'trir', 'atg2a', 'sh3gl3', 'cox18', 'efhb', 'shisa6', 'dhx32', 'minpp1', 'loxl3', 'lsm11', 'olah', 'tmprss11f', 'stard3nl', 'ccnb1ip1', 'trpv1', 'spata31d1', 'znf112', 'sac3d1', 'tmem154', 'penk', 'pax5', 'sf3b1', 'colec11', 'arhgap39', 'fgf9', 'wnt16', 'tnip3', 'cabyr', 'krtap12-2', 'setd1b', 'klhdc2', 'oxsr1', 'ippk', 'edc3', 'psph', 'xkr5', 'cyp21a2', 'smchd1', 'hspa4l', 'slc35e4', 'hras', 'ppfibp1', 'pask', 'srsf11', 'fcer1a', 'tsbp1', 'actl7b', 'arhgef17', 'dnajb11', 'slitrk6', 'ankrd45', 'defb1', 'linc02218', 'wdpcp', 'rtkn', 'pcdh15', 'atad5', 'wfdc5', 'camkk2', 'slc7a6os', 'psmd7', 'rfxap', 'agpat5', 'znf808', 'erg', 'myeov', 'slk', 'tmem229b', 'ppef1', 'cdk2ap2', 'men1', 'cyp4f2', 'praf2', 'cisd2', 'gabra1', 'tubb4b', 'trim60', 'anapc11', 'rccd1', 'c1orf87', 'vat1l', 'srrt', 'snd1', 'numbl', 'rock1', 'grpr', 'znf423', 'stradb', 'sox15', 'abraxas1', 'apoc2', 'ndufs4', 'itm2b', 'insl5', 'klk1', 'maml2', 'zmynd8', 'nt5dc3', 'slc19a2', 'tbc1d20', 'paxbp1', 'ctsc', 'ogg1', 'thbs2', 'slc25a41', 'arhgef18', 'sema3c', 'grin3b', 'pik3cd', 'fam221a', 'rcsd1', 'efcab12', 'klhdc8b', 'rhobtb3', 'kcnh1', 'rbm47', 'cphxl', 'kiaa0753', 'rsad1', 'ybx2', 'npas1', 'phka2', 'trim43', 'gpr141', 'purb', 'hs6st3', 'abhd3', 'prrt4', 'c5orf49', 'scgn', 'sgce', 'kitlg', 'nlrx1', 'ndufb4', 'ostm1', 'eloa', 'rapgef4', 'nipsnap1', 'pusl1', 'plpp1', 'nfs1', 'agpat3', 'rufy3', 'c12orf42', 'sox1', 'mcemp1', 'kbtbd2', 'arf5', 'marco', 'fcho2', 'ormdl2', 'mylk3', 'eddm3a', 'ssx2ip', 'or52k2', 'chek2', 'dkkl1', 'myh9', 'c7orf25', 'atxn3l', 'l1td1', 'ephb3', 'p2rx7', 'nsd2', 'b3gnt5', 'aktip', 'fads2', 'pip5k1c', 'dido1', 'hmsd', 'cox17', 'bivm', 'polr1a', 'hcrtr1', 'lyg1', 'ascc3', 'rrm1', 'asic5', 'crk', 'aoc2', 'tcf3', 'kmt5c', 'plxnd1', 'mob3b', 'fam193b', 'borcs6', 'hoxc10', 'ank3', 'mt-nd1', 'e2f3', 'rgs1', 'spry1', 'srek1ip1', 'gfy', 'ehd3', 'clip3', 'pcif1', 'rtel1', 'sdha', 'apobec3f', 'rgs4', 'crispld2', 'ager', 'bms1', 'furin', 'pnma5', 'cyp51a1', 'morn5', 'tp53i3', 'mst1', 'cdh12', 'ints5', 'kat7', 'znf652', 'ywhab', 'slc25a21', 'rnf148', 'ptbp2', 'helb', 'kcnf1', 'me3', 'tigar', 'lamc3', 'arhgef9', 'spast', 'htatip2', 'bckdha', 'il3ra', 'adam7', 'prpf6', 'cpa2', 'syncrip', 'prss8', 'sumo4', 'fam124a', 'ythdc1', 'znf24', 'ifnl1', 'pard3', 'nes', 'or2t8', 'insl6', 'nceh1', 'crocc2', 'tmbim4', 'ccdc197', 'fcn2', 'kank4', 'tmem121', 'actrt3', 'adcy8', 'samm50', 'ltbp1', 'phyh', 'musk', 'otulinl', 'slc15a2', 'or51a7', 'or10g7', 'shf', 'hapln1', 'ermp1', 'or8k5', 'kcnk3', 'lyzl2', 'tent5b', 'npepl1', 'c1galt1c1l', 'clcn1', 'pdia2', 'donson', 'il3', 'cox7c', 'emc10', 'gimd1', 'mlnr', 'wnt6', 'rab35', 'gpr83', 'ttc23', 'osbpl6', 'phf1', 'trio', 'gdpgp1', 'jdp2', 'ppan', 'ate1', 'cdon', 'rell2', 'zscan29', 'kctd4', 'arhgef10l', 'magea9b', 'rnase6', 'galnt17', 'ino80b', 'prickle1', 'ssr1', 'znf239', 'tbx5', 'xcr1', 'or4a16', 'slc39a13', 'srfbp1', 'cdh2', 'ca4', 'cacna1h', 'tox2', 'itm2a', 'fam43b', 'cdc20b', 'kctd15', 'sf3b5', 'znf853', 'scn3a', 'reln', 'myo15a', 'plbd1', 'ppip5k1', 'tpm1', 'dnajb2', 'rnf144b', 'naa25', 'alg11', 'rhou', 'dpagt1', 'adm2', 'slc9a7', 'gas7', 'c9orf85', 'rbbp5', 'tmem252', 'atp5pd', 'cftr', 'nit2', 'mical3', 'prr36', 'hpdl', 'flg', 'iars2', 'tnfsf18', 'rundc3b', 'ino80e', 'crabp1', 'ehbp1', 'ina', 'gigyf1', 'dmrt2', 'farsb', 'adgrv1', 'prkaa2', 'usp27x', 'azi2', 'setd3', 'rnf152', 'pde4d', 'smarcc2', 'foxn3', 'tp53bp2', 'hcls1', 'ctxnd1', 'rnf8', 'amy2a', 'fam3b', 'npdc1', 'plk3', 'c1orf53', 'rnaseh1', 'ap3b1', 'ddx4', 'agmo', 'nmrk2', 'cdca8', 'bpifb1', 'nefh', 'ntn1', 'kctd2', 'tlr6', 'col12a1', 'fbxw10', 'tmem45a', 'fubp1', 'fancd2os', 'fxn', 'nlgn1', 'zfp64', 'psmd12', 'hhla2', 'mmp11', 'nup205', 'entpd7', 'rgs9bp', 'atg7', 'dusp21', 'semg1', 'wnt1', 'sphk2', 'lig1', 'setd7', 'pitpna', 'hyi', 'spink4', 'sult2b1', 'zim2', 'ctsw', 'zcchc9', 'calhm3', 'hfm1', 'mme', 'ube2r2', 'npc1l1', 'trappc2l', 'or56b4', 'sugp1', 'erbb3', 'lgals9', 'arl10', 'sptbn2', 'ssh3', 'immp1l', 'mep1b', 'stom', 'tyms', 'smlr1', 'znf180', 'slc5a7', 'samhd1', 'dao', 'tmem47', 'sorbs3', 'nepro', 'ankrd66', 'or14c36', 'ndp', 'ano9', 'nup153', 'slc6a3', 'lcn15', 'fnip1', 'xpot', 'pgm5', 'ripor3', 'pigb', 'macc1', 'nrg3', 'iws1', 'ddx10', 'adamts19', 'pla2g7', 'fgf19', 'pcdhgc5', 'plet1', 'csk', 'thoc1', 'impact', 'znf629', 'ca7', 'znf70', 'sap130', 'peg3', 'vip', 'letm1', 'enho', 'fzd4', 'krt83', 'arl5c', 'ccne2', 'smad7', 'tnfrsf10c', 'smu1', 'tmem238', 'slc35d3', 'tmem132c', 'gast', 'atf7ip', 'fchsd2', 'znf287', 'tex52', 'flii', 'ccdc30', 'nsd3', 'pdhb', 'exosc3', 'sra1', 'ngb', 'atxn1', 'slc4a4', 'dkk4', 'gse1', 'phf11', 'hnf4a', 'cd19', 'ccdc181', 'mip', 'or11l1', 'poglut3', 'iqcb1', 'abt1', 'oga', 'paip1', 'znf713', 'tgm3', 'parvb', 'ppm1l', 'ifnb1', 'akap11', 'snx11', 'cyp2w1', 'arc', 'rmc1', 'awat2', 'dyrk2', 'tasor', 'pitx2', 'gimap8', 'wdr4', 'aga', 'c1orf194', 'myom1', 'synj2bp', 'il11ra', 'niban3', 'slc25a33', 'palmd', 'noa1', 'steap1b', 'lats1', 'or5ak2', 'rft1', 'tgm7', 'hecw1', 'rpgrip1l', 'cstb', 'hmgxb4', 'cldn2', 'dhx30', 'nup188', 'zdhhc6', 'nek8', 'cnr2', 'serinc3', 'sec11a', 'tert', 'or2v2', 'egln1', 'kbtbd11', 'stmnd1', 'msmo1', 'vangl2', 'prr15', 'clec3a', 'rxrg', 'atp6v0b', 'tex9', 'ubac2', 'st3gal2', 'cdkn2aipnl', 'pcsk7', 'syn3', 'eif4e', 'aspg', 'shc1', 'ptger3', 'pbx1', 'gpr87', 'zbbx', 'ltbp3', 'cux1', 'adap2', 'alyref', 'ccnd2', 'ncf4', 'or4k13', 'klhl29', 'znf598', 'krt28', 'pcsk9', 'bnip3l', 'smarca4', 'igsf22', 'uggt1', 'hspa4', 'abcb5', 'naa40', 'nr4a2', 'pde7b', 'ppp2ca', 'or9q1', 'etv3', 'sp7', 'akt2', 'akap7', 'zc3h14', 'pigx', 'dpep2nb', 'spata9', 'plppr4', 'selplg', 'tmem88', 'map3k5', 'vsig4', 'dgkq', 'tbc1d9', 'ifit5', 'hmox2', 'rnls', 'vac14', 'cdc20', 'cyp4a11', 'znf354a', 'mt-atp6', 'nfyc', 'c1orf21', 'ctnnb1', 'krt71', 'cox7b2', 'il23a', 'ppp4r1', 'gpc4', 'nfya', 'c4b', 'phf10', 'or6a2', 'runx1', 'oxtr', 'tspan17', 'ppdpf', 'tap2', 'trim25', 'znf391', 'sgsm3', 'sec23b', 'lrrk1', 'hdac7', 'celf3', 'ptgfr', 'svip', 'gmnc', 'smyd2', 'met', 'ano1', 'tnpo2', 'map3k9', 'anapc13', 'rtp2', 'pcdha2', 'sncg', 'sema6c', 'traf3ip1', 'tmem45b', 'gpx2', 'kif26a', 'vps13d', 'gng8', 'tulp2', 'rnf223', 'spag4', 'dexi', 'atp6v1e1', 'ticam2', 'wac', 'tmsb15a', 'cep295', 'klf17', 'mrgbp', 'fen1', 'nnmt', 'ddx41', 'c1qc', 'tmem182', 'zfand4', 'fam205c', 'irgm', 'foxp2', 'cdc123', 'fam50b', 'kat6a', 'zc2hc1a', 'tmem179', 'lamtor4', 'gpc1', 'hs3st5', 'art5', 'faf2', 'kif27', 'ccdc89', 'cfap36', 'akap8', 'plekhg4b', 'mnat1', 'eif1ax', 'emc1', 'tmbim6', 'urm1', 'arhgap12', 'nxf3', 'zyg11b', 'sqle', 'cspg5', 'spidr', 'mrm3', 'syce1', 'asb15', 'map1lc3c', 'axdnd1', 'man1a1', 'hgh1', 'rnmt', 'col17a1', 'tdrkh', 'dppa2', 'znf497', 'lrig3', 'plin3', 'stat2', 'ctsl', 'slc13a3', 'ephb6', 'fndc10', 'vcam1', 'hectd4', 'thap6', 'znf146', 'hgd', 'adam10', 'faap100', 'pde5a', 'cln3', 'pde6g', 'eml6', 'gage1', 'rbm44', 'ahnak', 'mfge8', 'pomc', 'galr1', 'phc1', 'or2a12', 'dip2c', 'sod1', 'zxdc', 'zfand2b', 'atp8a1', 'znf670', 'tas2r30', 'efs', 'c19orf38', 'cmss1', 'hace1', 'or2ap1', 'thra', 'tab1', 'rbpms', 'trpm8', 'pgpep1l', 'rnf186', 'tll1', 'rnf121', 'prss12', 'gatc', 'ppm1d', 'cep76', 'slc25a42', 'gata1', 'erich3', 'rph3al', 'sprr4', 'dmac2l', 'itga11', 'serbp1', 'flrt1', 'il2ra', 'med21', 'acaa1', 'grm4', 'grik4', 'emg1', 'eef2k', 'znf600', 'sumf2', 'timm22', 'fat3', 'uba52', 'prss23', 'mdp1', 'isg20l2', 'chrdl2', 'leng8', 'htr3e', 'tmem68', 'ergic2', 'otx1', 'triap1', 'sv2b', 'ctps2', 'cnot7', 'ubl7', 'bloc1s4', 'slamf8', 'glra1', 'abcg1', 'srebf2', 'ssbp3', 'gypa', 'tnfrsf14', 'ca13', 'spry2', 'mkrn2os', 'podnl1', 'irf2bp1', 'dcaf12l2', 'arhgap21', 'tspan19', 'alkbh6', 'haao', 'slc39a10', 'krtap26-1', 'ak8', 'wdr83', 'tspan13', 'hnrnpf', 'neurl2', 'phf20', 'zc3h13', 'surf6', 'znf382', 'antxr1', 'ppp1r3d', 'trps1', 'aldh1a2', 'bend5', 'dnajc25', 'pate3', 'tex2', 'ntf3', 'krtap13-3', 'smim3', 'adck5', 'plod3', 'arhgef38', 'tceal1', 'or6b2', 'cntrob', 'erlin2', 'dock3', 'rmdn2', 'psors1c2', 'lrrn4cl', 'rlf', 'kctd20', 'ccdc121', 'gng4', 'zadh2', 'treml2', 'chmp4a', 'adm5', 'slc8a3', 'clptm1l', 'camk2d', 'wtip', 'nudt11', 'ptprd', 'dalrd3', 'egfl7', 'brinp2', 'atf5', 'rbfox2', 'wdr27', 'mki67', 'trib2', 'sike1', 'zbtb21', 'ldhal6b', 'pars2', 'brd9', 'cnga3', 'tspan5', 'krt27', 'tssk3', 'spi1', 'ptges3', 'meltf'}\n"
     ]
    },
    {
     "data": {
      "text/plain": [
       "{'aars',\n",
       " 'ac004593.3',\n",
       " 'ac005551.1',\n",
       " 'ac007906.2',\n",
       " 'ac008397.1',\n",
       " 'ac008687.4',\n",
       " 'ac010255.3',\n",
       " 'ac010325.1',\n",
       " 'ac011005.1',\n",
       " 'ac011195.2',\n",
       " 'ac013470.2',\n",
       " 'ac015871.1',\n",
       " 'ac021072.1',\n",
       " 'ac021097.2',\n",
       " 'ac025283.2',\n",
       " 'ac025287.4',\n",
       " 'ac067752.1',\n",
       " 'ac072022.2',\n",
       " 'ac073111.4',\n",
       " 'ac087498.1',\n",
       " 'ac090360.1',\n",
       " 'ac091057.6',\n",
       " 'ac092835.1',\n",
       " 'ac093323.1',\n",
       " 'ac099489.1',\n",
       " 'ac104389.5',\n",
       " 'ac113348.1',\n",
       " 'ac115220.1',\n",
       " 'ac118549.1',\n",
       " 'ac119396.1',\n",
       " 'ac132217.2',\n",
       " 'ac134684.8',\n",
       " 'ac138647.1',\n",
       " 'ac187653.1',\n",
       " 'ac233723.1',\n",
       " 'ac236972.4',\n",
       " 'acpp',\n",
       " 'adprhl2',\n",
       " 'adss',\n",
       " 'adssl1',\n",
       " 'al032819.3',\n",
       " 'al109810.2',\n",
       " 'al121578.2',\n",
       " 'al135905.2',\n",
       " 'al160269.1',\n",
       " 'al162231.1',\n",
       " 'al162596.1',\n",
       " 'al353572.3',\n",
       " 'al354761.1',\n",
       " 'al391650.1',\n",
       " 'al445238.1',\n",
       " 'al451007.3',\n",
       " 'al590560.2',\n",
       " 'al603764.2',\n",
       " 'al845331.2',\n",
       " 'alg1l',\n",
       " 'ap002495.1',\n",
       " 'arih2os',\n",
       " 'armc4',\n",
       " 'arse',\n",
       " 'atp5md',\n",
       " 'atp5mpl',\n",
       " 'atp6ap1l',\n",
       " 'b3gnt10',\n",
       " 'bhmg1',\n",
       " 'bx255925.3',\n",
       " 'bx276092.9',\n",
       " 'c10orf142',\n",
       " 'c10orf55',\n",
       " 'c11orf40',\n",
       " 'c11orf74',\n",
       " 'c11orf88',\n",
       " 'c12orf10',\n",
       " 'c12orf49',\n",
       " 'c12orf74',\n",
       " 'c12orf81',\n",
       " 'c14orf177',\n",
       " 'c15orf41',\n",
       " 'c16orf58',\n",
       " 'c17orf53',\n",
       " 'c19orf48',\n",
       " 'c19orf57',\n",
       " 'c1orf61',\n",
       " 'c2orf83',\n",
       " 'c2orf91',\n",
       " 'c3orf67',\n",
       " 'c5orf30',\n",
       " 'c5orf60',\n",
       " 'c5orf67',\n",
       " 'c6orf201',\n",
       " 'c6orf223',\n",
       " 'c7orf77',\n",
       " 'c9orf129',\n",
       " 'c9orf92',\n",
       " 'card16',\n",
       " 'card17',\n",
       " 'cars',\n",
       " 'casc1',\n",
       " 'casc4',\n",
       " 'castor3',\n",
       " 'ccdc114',\n",
       " 'ccdc151',\n",
       " 'ccdc155',\n",
       " 'ccdc36',\n",
       " 'ccdc39',\n",
       " 'ccdc84',\n",
       " 'cd3eap',\n",
       " 'cenpbd1',\n",
       " 'cllu1os',\n",
       " 'cntd2',\n",
       " 'ct62',\n",
       " 'cxorf21',\n",
       " 'cxorf40a',\n",
       " 'cxorf56',\n",
       " 'cyb561d2',\n",
       " 'dars',\n",
       " 'dec1',\n",
       " 'defb133',\n",
       " 'dirc1',\n",
       " 'dock8-as1',\n",
       " 'dupd1',\n",
       " 'dusp27',\n",
       " 'elfn2',\n",
       " 'elmsan1',\n",
       " 'eloa3',\n",
       " 'eprs',\n",
       " 'fam122a',\n",
       " 'fam122b',\n",
       " 'fam122c',\n",
       " 'fam169b',\n",
       " 'fam192a',\n",
       " 'fam218a',\n",
       " 'fam30a',\n",
       " 'fam49a',\n",
       " 'fam49b',\n",
       " 'fam92b',\n",
       " 'fgfr1op',\n",
       " 'fopnl',\n",
       " 'fp565260.1',\n",
       " 'gars',\n",
       " 'gcsaml-as1',\n",
       " 'gdf5os',\n",
       " 'glra4',\n",
       " 'golga8m',\n",
       " 'grasp',\n",
       " 'h1f0',\n",
       " 'h1fnt',\n",
       " 'h1foo',\n",
       " 'h1fx',\n",
       " 'h2afj',\n",
       " 'h2afx',\n",
       " 'h2afy',\n",
       " 'h2afy2',\n",
       " 'h2afz',\n",
       " 'h2bfm',\n",
       " 'h2bfwt',\n",
       " 'h3.y',\n",
       " 'h3f3a',\n",
       " 'h3f3b',\n",
       " 'h3f3c',\n",
       " 'hars',\n",
       " 'hhla3',\n",
       " 'hist1h1a',\n",
       " 'hist1h1b',\n",
       " 'hist1h1c',\n",
       " 'hist1h1d',\n",
       " 'hist1h1e',\n",
       " 'hist1h2ac',\n",
       " 'hist1h2ae',\n",
       " 'hist1h2ag',\n",
       " 'hist1h2ai',\n",
       " 'hist1h2ak',\n",
       " 'hist1h2bb',\n",
       " 'hist1h2bg',\n",
       " 'hist1h2bh',\n",
       " 'hist1h2bn',\n",
       " 'hist1h3e',\n",
       " 'hist1h3g',\n",
       " 'hist1h3h',\n",
       " 'hist1h4b',\n",
       " 'hist1h4c',\n",
       " 'hist1h4e',\n",
       " 'hist1h4g',\n",
       " 'hist1h4i',\n",
       " 'hist1h4j',\n",
       " 'hist2h2be',\n",
       " 'hist3h2a',\n",
       " 'hist3h2bb',\n",
       " 'hist3h3',\n",
       " 'hist4h4',\n",
       " 'hypm',\n",
       " 'iars',\n",
       " 'ick',\n",
       " 'igha1',\n",
       " 'igha2',\n",
       " 'ighd',\n",
       " 'ighe',\n",
       " 'ighg1',\n",
       " 'ighg3',\n",
       " 'ighm',\n",
       " 'igkc',\n",
       " 'iglc1',\n",
       " 'iglc7',\n",
       " 'impad1',\n",
       " 'kars',\n",
       " 'kiaa0355',\n",
       " 'kiaa0556',\n",
       " 'kiaa1211',\n",
       " 'kiaa1211l',\n",
       " 'kiaa1257',\n",
       " 'kiaa1324',\n",
       " 'kiaa1324l',\n",
       " 'kif1bp',\n",
       " 'lars',\n",
       " 'linc02693',\n",
       " 'linc02694',\n",
       " 'lor',\n",
       " 'lrmp',\n",
       " 'lrp5l',\n",
       " 'lrrc29',\n",
       " 'maats1',\n",
       " 'marc1',\n",
       " 'marc2',\n",
       " 'march1',\n",
       " 'march10',\n",
       " 'march11',\n",
       " 'march2',\n",
       " 'march3',\n",
       " 'march4',\n",
       " 'march5',\n",
       " 'march6',\n",
       " 'march7',\n",
       " 'march8',\n",
       " 'march9',\n",
       " 'mars',\n",
       " 'mir1915hg',\n",
       " 'mrvi1',\n",
       " 'mycnos',\n",
       " 'nars',\n",
       " 'nxf5',\n",
       " 'or5r1',\n",
       " 'palm2-akap2',\n",
       " 'pano1',\n",
       " 'pde11a',\n",
       " 'pih1d3',\n",
       " 'pinx1',\n",
       " 'ppp5d1',\n",
       " 'prky',\n",
       " 'qars',\n",
       " 'rars',\n",
       " 'rgs5',\n",
       " 'sars',\n",
       " 'siglec5',\n",
       " 'slc26a10',\n",
       " 'slc66a1l',\n",
       " 'slfn12l',\n",
       " 'snhg32',\n",
       " 'spata13',\n",
       " 'spata8',\n",
       " 'spert',\n",
       " 'sspo',\n",
       " 'st5',\n",
       " 'tars',\n",
       " 'tarsl2',\n",
       " 'tbce',\n",
       " 'tcte3',\n",
       " 'tctex1d1',\n",
       " 'tctex1d2',\n",
       " 'tctex1d4',\n",
       " 'terc',\n",
       " 'tmem155',\n",
       " 'tmem173',\n",
       " 'tmem189',\n",
       " 'tmem246',\n",
       " 'tmem8a',\n",
       " 'tmem99',\n",
       " 'tmsb15b',\n",
       " 'trac',\n",
       " 'trbc1',\n",
       " 'trbc2',\n",
       " 'trdc',\n",
       " 'trgc1',\n",
       " 'trgc2',\n",
       " 'trgjp1',\n",
       " 'trgjp2',\n",
       " 'trim16l',\n",
       " 'tsta3',\n",
       " 'ttc25',\n",
       " 'twistnb',\n",
       " 'vars',\n",
       " 'wars',\n",
       " 'wdr34',\n",
       " 'wdr60',\n",
       " 'wdr63',\n",
       " 'wdr66',\n",
       " 'wdr78',\n",
       " 'wdyhv1',\n",
       " 'yars',\n",
       " 'z82206.1',\n",
       " 'znf883',\n",
       " 'znrd1'}"
      ]
     },
     "execution_count": 7,
     "metadata": {},
     "output_type": "execute_result"
    }
   ],
   "source": [
    "# 将所有基因名称转换为小写\n",
    "all_genes_lower = [gene.lower() for gene in all_genes]\n",
    "adata_genes_lower = [gene.lower() for gene in existing_genes]\n",
    "\n",
    "# 将两个列表转换为集合\n",
    "all_genes_set = set(all_genes_lower)\n",
    "adata_genes_set = set(adata_genes_lower)\n",
    "\n",
    "# 计算交集\n",
    "matching_genes = all_genes_set.intersection(adata_genes_set)\n",
    "matching_count = len(matching_genes)\n",
    "# 计算不匹配的基因\n",
    "non_matching_genes = adata_genes_set - matching_genes\n",
    "non_matching_count = len(non_matching_genes)\n",
    "\n",
    "\n",
    "# 输出结果\n",
    "print(f\"匹配的基因数量: {matching_count}\")\n",
    "print(f\"匹配的基因列表: {matching_genes}\")\n",
    "non_matching_genes"
   ]
  },
  {
   "cell_type": "code",
   "execution_count": 8,
   "metadata": {
    "execution": {
     "iopub.execute_input": "2024-11-03T14:03:54.480062Z",
     "iopub.status.busy": "2024-11-03T14:03:54.479888Z",
     "iopub.status.idle": "2024-11-03T14:06:19.659684Z",
     "shell.execute_reply": "2024-11-03T14:06:19.658443Z"
    }
   },
   "outputs": [
    {
     "name": "stdout",
     "output_type": "stream",
     "text": [
      "Gene al391650.1 not found in all_genes list\n"
     ]
    },
    {
     "name": "stdout",
     "output_type": "stream",
     "text": [
      "Gene yars not found in all_genes list\n"
     ]
    },
    {
     "name": "stdout",
     "output_type": "stream",
     "text": [
      "Gene adprhl2 not found in all_genes list\n"
     ]
    },
    {
     "name": "stdout",
     "output_type": "stream",
     "text": [
      "Gene tctex1d4 not found in all_genes list\n"
     ]
    },
    {
     "name": "stdout",
     "output_type": "stream",
     "text": [
      "Gene tctex1d1 not found in all_genes list\n",
      "Gene wdr78 not found in all_genes list\n",
      "Gene hhla3 not found in all_genes list\n"
     ]
    },
    {
     "name": "stdout",
     "output_type": "stream",
     "text": [
      "Gene ac118549.1 not found in all_genes list\n",
      "Gene wdr63 not found in all_genes list\n"
     ]
    },
    {
     "name": "stdout",
     "output_type": "stream",
     "text": [
      "Gene kiaa1324 not found in all_genes list\n",
      "Gene sars not found in all_genes list\n"
     ]
    },
    {
     "name": "stdout",
     "output_type": "stream",
     "text": [
      "Gene hist2h2be not found in all_genes list\n"
     ]
    },
    {
     "name": "stdout",
     "output_type": "stream",
     "text": [
      "Gene al162596.1 not found in all_genes list\n",
      "Gene lor not found in all_genes list\n"
     ]
    },
    {
     "name": "stdout",
     "output_type": "stream",
     "text": [
      "Gene c1orf61 not found in all_genes list\n"
     ]
    },
    {
     "name": "stdout",
     "output_type": "stream",
     "text": [
      "Gene al590560.2 not found in all_genes list\n"
     ]
    },
    {
     "name": "stdout",
     "output_type": "stream",
     "text": [
      "Gene rgs5 not found in all_genes list\n",
      "Gene dusp27 not found in all_genes list\n"
     ]
    },
    {
     "name": "stdout",
     "output_type": "stream",
     "text": [
      "Gene eprs not found in all_genes list\n",
      "Gene marc2 not found in all_genes list\n",
      "Gene marc1 not found in all_genes list\n"
     ]
    },
    {
     "name": "stdout",
     "output_type": "stream",
     "text": [
      "Gene h3f3a not found in all_genes list\n",
      "Gene hist3h3 not found in all_genes list\n",
      "Gene hist3h2a not found in all_genes list\n",
      "Gene hist3h2bb not found in all_genes list\n"
     ]
    },
    {
     "name": "stdout",
     "output_type": "stream",
     "text": [
      "Gene al109810.2 not found in all_genes list\n",
      "Gene tbce not found in all_genes list\n"
     ]
    },
    {
     "name": "stdout",
     "output_type": "stream",
     "text": [
      "Gene adss not found in all_genes list\n",
      "Gene al451007.3 not found in all_genes list\n",
      "Gene gcsaml-as1 not found in all_genes list\n"
     ]
    },
    {
     "name": "stdout",
     "output_type": "stream",
     "text": [
      "Gene mycnos not found in all_genes list\n",
      "Gene fam49a not found in all_genes list\n"
     ]
    },
    {
     "name": "stdout",
     "output_type": "stream",
     "text": [
      "Gene c2orf91 not found in all_genes list\n"
     ]
    },
    {
     "name": "stdout",
     "output_type": "stream",
     "text": [
      "Gene igkc not found in all_genes list\n",
      "Gene al845331.2 not found in all_genes list\n",
      "Gene ac092835.1 not found in all_genes list\n"
     ]
    },
    {
     "name": "stdout",
     "output_type": "stream",
     "text": [
      "Gene kiaa1211l not found in all_genes list\n"
     ]
    },
    {
     "name": "stdout",
     "output_type": "stream",
     "text": [
      "Gene dars not found in all_genes list\n"
     ]
    },
    {
     "name": "stdout",
     "output_type": "stream",
     "text": [
      "Gene march7 not found in all_genes list\n"
     ]
    },
    {
     "name": "stdout",
     "output_type": "stream",
     "text": [
      "Gene pde11a not found in all_genes list\n"
     ]
    },
    {
     "name": "stdout",
     "output_type": "stream",
     "text": [
      "Gene dirc1 not found in all_genes list\n"
     ]
    },
    {
     "name": "stdout",
     "output_type": "stream",
     "text": [
      "Gene march4 not found in all_genes list\n"
     ]
    },
    {
     "name": "stdout",
     "output_type": "stream",
     "text": [
      "Gene c2orf83 not found in all_genes list\n"
     ]
    },
    {
     "name": "stdout",
     "output_type": "stream",
     "text": [
      "Gene arih2os not found in all_genes list\n",
      "Gene qars not found in all_genes list\n",
      "Gene ccdc36 not found in all_genes list\n"
     ]
    },
    {
     "name": "stdout",
     "output_type": "stream",
     "text": [
      "Gene cyb561d2 not found in all_genes list\n"
     ]
    },
    {
     "name": "stdout",
     "output_type": "stream",
     "text": [
      "Gene c3orf67 not found in all_genes list\n"
     ]
    },
    {
     "name": "stdout",
     "output_type": "stream",
     "text": [
      "Gene maats1 not found in all_genes list\n"
     ]
    },
    {
     "name": "stdout",
     "output_type": "stream",
     "text": [
      "Gene alg1l not found in all_genes list\n",
      "Gene kiaa1257 not found in all_genes list\n"
     ]
    },
    {
     "name": "stdout",
     "output_type": "stream",
     "text": [
      "Gene h1fx not found in all_genes list\n",
      "Gene h1foo not found in all_genes list\n",
      "Gene acpp not found in all_genes list\n"
     ]
    },
    {
     "name": "stdout",
     "output_type": "stream",
     "text": [
      "Gene slc66a1l not found in all_genes list\n"
     ]
    },
    {
     "name": "stdout",
     "output_type": "stream",
     "text": [
      "Gene terc not found in all_genes list\n"
     ]
    },
    {
     "name": "stdout",
     "output_type": "stream",
     "text": [
      "Gene ccdc39 not found in all_genes list\n"
     ]
    },
    {
     "name": "stdout",
     "output_type": "stream",
     "text": [
      "Gene ac072022.2 not found in all_genes list\n"
     ]
    },
    {
     "name": "stdout",
     "output_type": "stream",
     "text": [
      "Gene tctex1d2 not found in all_genes list\n"
     ]
    },
    {
     "name": "stdout",
     "output_type": "stream",
     "text": [
      "Gene ac093323.1 not found in all_genes list\n"
     ]
    },
    {
     "name": "stdout",
     "output_type": "stream",
     "text": [
      "Gene kiaa1211 not found in all_genes list\n"
     ]
    },
    {
     "name": "stdout",
     "output_type": "stream",
     "text": [
      "Gene h2afz not found in all_genes list\n"
     ]
    },
    {
     "name": "stdout",
     "output_type": "stream",
     "text": [
      "Gene tmem155 not found in all_genes list\n"
     ]
    },
    {
     "name": "stdout",
     "output_type": "stream",
     "text": [
      "Gene march1 not found in all_genes list\n",
      "Gene fam218a not found in all_genes list\n"
     ]
    },
    {
     "name": "stdout",
     "output_type": "stream",
     "text": [
      "Gene march6 not found in all_genes list\n",
      "Gene march11 not found in all_genes list\n",
      "Gene h3.y not found in all_genes list\n"
     ]
    },
    {
     "name": "stdout",
     "output_type": "stream",
     "text": [
      "Gene tars not found in all_genes list\n"
     ]
    },
    {
     "name": "stdout",
     "output_type": "stream",
     "text": [
      "Gene c5orf67 not found in all_genes list\n"
     ]
    },
    {
     "name": "stdout",
     "output_type": "stream",
     "text": [
      "Gene atp6ap1l not found in all_genes list\n"
     ]
    },
    {
     "name": "stdout",
     "output_type": "stream",
     "text": [
      "Gene c5orf30 not found in all_genes list\n"
     ]
    },
    {
     "name": "stdout",
     "output_type": "stream",
     "text": [
      "Gene ac010255.3 not found in all_genes list\n",
      "Gene march3 not found in all_genes list\n"
     ]
    },
    {
     "name": "stdout",
     "output_type": "stream",
     "text": [
      "Gene h2afy not found in all_genes list\n"
     ]
    },
    {
     "name": "stdout",
     "output_type": "stream",
     "text": [
      "Gene tmem173 not found in all_genes list\n",
      "Gene hars not found in all_genes list\n"
     ]
    },
    {
     "name": "stdout",
     "output_type": "stream",
     "text": [
      "Gene lars not found in all_genes list\n"
     ]
    },
    {
     "name": "stdout",
     "output_type": "stream",
     "text": [
      "Gene rars not found in all_genes list\n"
     ]
    },
    {
     "name": "stdout",
     "output_type": "stream",
     "text": [
      "Gene ac113348.1 not found in all_genes list\n",
      "Gene c5orf60 not found in all_genes list\n"
     ]
    },
    {
     "name": "stdout",
     "output_type": "stream",
     "text": [
      "Gene c6orf201 not found in all_genes list\n"
     ]
    },
    {
     "name": "stdout",
     "output_type": "stream",
     "text": [
      "Gene hist1h1a not found in all_genes list\n",
      "Gene hist1h4b not found in all_genes list\n",
      "Gene hist1h2bb not found in all_genes list\n",
      "Gene hist1h1c not found in all_genes list\n",
      "Gene hist1h4c not found in all_genes list\n",
      "Gene hist1h2ac not found in all_genes list\n",
      "Gene hist1h1e not found in all_genes list\n",
      "Gene hist1h4e not found in all_genes list\n",
      "Gene hist1h2bg not found in all_genes list\n",
      "Gene hist1h2ae not found in all_genes list\n",
      "Gene hist1h3e not found in all_genes list\n",
      "Gene hist1h1d not found in all_genes list\n",
      "Gene hist1h4g not found in all_genes list\n",
      "Gene hist1h2bh not found in all_genes list\n",
      "Gene hist1h3g not found in all_genes list\n",
      "Gene hist1h2ag not found in all_genes list\n",
      "Gene hist1h4i not found in all_genes list\n",
      "Gene hist1h2ai not found in all_genes list\n",
      "Gene hist1h3h not found in all_genes list\n",
      "Gene hist1h4j not found in all_genes list\n",
      "Gene hist1h2bn not found in all_genes list\n",
      "Gene hist1h2ak not found in all_genes list\n",
      "Gene hist1h1b not found in all_genes list\n"
     ]
    },
    {
     "name": "stdout",
     "output_type": "stream",
     "text": [
      "Gene znrd1 not found in all_genes list\n"
     ]
    },
    {
     "name": "stdout",
     "output_type": "stream",
     "text": [
      "Gene vars not found in all_genes list\n",
      "Gene snhg32 not found in all_genes list\n"
     ]
    },
    {
     "name": "stdout",
     "output_type": "stream",
     "text": [
      "Gene c6orf223 not found in all_genes list\n",
      "Gene defb133 not found in all_genes list\n"
     ]
    },
    {
     "name": "stdout",
     "output_type": "stream",
     "text": [
      "Gene ick not found in all_genes list\n",
      "Gene al135905.2 not found in all_genes list\n"
     ]
    },
    {
     "name": "stdout",
     "output_type": "stream",
     "text": [
      "Gene fgfr1op not found in all_genes list\n",
      "Gene tcte3 not found in all_genes list\n",
      "Gene ac187653.1 not found in all_genes list\n"
     ]
    },
    {
     "name": "stdout",
     "output_type": "stream",
     "text": [
      "Gene ac013470.2 not found in all_genes list\n"
     ]
    },
    {
     "name": "stdout",
     "output_type": "stream",
     "text": [
      "Gene twistnb not found in all_genes list\n"
     ]
    },
    {
     "name": "stdout",
     "output_type": "stream",
     "text": [
      "Gene ac004593.3 not found in all_genes list\n"
     ]
    },
    {
     "name": "stdout",
     "output_type": "stream",
     "text": [
      "Gene gars not found in all_genes list\n"
     ]
    },
    {
     "name": "stdout",
     "output_type": "stream",
     "text": [
      "Gene trgc2 not found in all_genes list\n",
      "Gene trgjp2 not found in all_genes list\n",
      "Gene trgc1 not found in all_genes list\n",
      "Gene trgjp1 not found in all_genes list\n"
     ]
    },
    {
     "name": "stdout",
     "output_type": "stream",
     "text": [
      "Gene ac115220.1 not found in all_genes list\n"
     ]
    },
    {
     "name": "stdout",
     "output_type": "stream",
     "text": [
      "Gene kiaa1324l not found in all_genes list\n"
     ]
    },
    {
     "name": "stdout",
     "output_type": "stream",
     "text": [
      "Gene castor3 not found in all_genes list\n"
     ]
    },
    {
     "name": "stdout",
     "output_type": "stream",
     "text": [
      "Gene c7orf77 not found in all_genes list\n"
     ]
    },
    {
     "name": "stdout",
     "output_type": "stream",
     "text": [
      "Gene ac011005.1 not found in all_genes list\n"
     ]
    },
    {
     "name": "stdout",
     "output_type": "stream",
     "text": [
      "Gene trbc1 not found in all_genes list\n",
      "Gene trbc2 not found in all_genes list\n"
     ]
    },
    {
     "name": "stdout",
     "output_type": "stream",
     "text": [
      "Gene sspo not found in all_genes list\n",
      "Gene ac073111.4 not found in all_genes list\n"
     ]
    },
    {
     "name": "stdout",
     "output_type": "stream",
     "text": [
      "Gene ac021097.2 not found in all_genes list\n"
     ]
    },
    {
     "name": "stdout",
     "output_type": "stream",
     "text": [
      "Gene wdr60 not found in all_genes list\n",
      "Gene ac134684.8 not found in all_genes list\n"
     ]
    },
    {
     "name": "stdout",
     "output_type": "stream",
     "text": [
      "Gene pinx1 not found in all_genes list\n"
     ]
    },
    {
     "name": "stdout",
     "output_type": "stream",
     "text": [
      "Gene impad1 not found in all_genes list\n"
     ]
    },
    {
     "name": "stdout",
     "output_type": "stream",
     "text": [
      "Gene wdyhv1 not found in all_genes list\n",
      "Gene fam49b not found in all_genes list\n"
     ]
    },
    {
     "name": "stdout",
     "output_type": "stream",
     "text": [
      "Gene ac138647.1 not found in all_genes list\n"
     ]
    },
    {
     "name": "stdout",
     "output_type": "stream",
     "text": [
      "Gene tsta3 not found in all_genes list\n"
     ]
    },
    {
     "name": "stdout",
     "output_type": "stream",
     "text": [
      "Gene dock8-as1 not found in all_genes list\n"
     ]
    },
    {
     "name": "stdout",
     "output_type": "stream",
     "text": [
      "Gene c9orf92 not found in all_genes list\n"
     ]
    },
    {
     "name": "stdout",
     "output_type": "stream",
     "text": [
      "Gene al162231.1 not found in all_genes list\n"
     ]
    },
    {
     "name": "stdout",
     "output_type": "stream",
     "text": [
      "Gene fam122a not found in all_genes list\n"
     ]
    },
    {
     "name": "stdout",
     "output_type": "stream",
     "text": [
      "Gene al353572.3 not found in all_genes list\n",
      "Gene iars not found in all_genes list\n"
     ]
    },
    {
     "name": "stdout",
     "output_type": "stream",
     "text": [
      "Gene c9orf129 not found in all_genes list\n",
      "Gene al160269.1 not found in all_genes list\n"
     ]
    },
    {
     "name": "stdout",
     "output_type": "stream",
     "text": [
      "Gene tmem246 not found in all_genes list\n"
     ]
    },
    {
     "name": "stdout",
     "output_type": "stream",
     "text": [
      "Gene palm2-akap2 not found in all_genes list\n"
     ]
    },
    {
     "name": "stdout",
     "output_type": "stream",
     "text": [
      "Gene znf883 not found in all_genes list\n"
     ]
    },
    {
     "name": "stdout",
     "output_type": "stream",
     "text": [
      "Gene dec1 not found in all_genes list\n",
      "Gene b3gnt10 not found in all_genes list\n"
     ]
    },
    {
     "name": "stdout",
     "output_type": "stream",
     "text": [
      "Gene wdr34 not found in all_genes list\n"
     ]
    },
    {
     "name": "stdout",
     "output_type": "stream",
     "text": [
      "Gene al354761.1 not found in all_genes list\n"
     ]
    },
    {
     "name": "stdout",
     "output_type": "stream",
     "text": [
      "Gene bx255925.3 not found in all_genes list\n"
     ]
    },
    {
     "name": "stdout",
     "output_type": "stream",
     "text": [
      "Gene mir1915hg not found in all_genes list\n"
     ]
    },
    {
     "name": "stdout",
     "output_type": "stream",
     "text": [
      "Gene armc4 not found in all_genes list\n"
     ]
    },
    {
     "name": "stdout",
     "output_type": "stream",
     "text": [
      "Gene c10orf142 not found in all_genes list\n",
      "Gene march8 not found in all_genes list\n"
     ]
    },
    {
     "name": "stdout",
     "output_type": "stream",
     "text": [
      "Gene ac067752.1 not found in all_genes list\n",
      "Gene kif1bp not found in all_genes list\n"
     ]
    },
    {
     "name": "stdout",
     "output_type": "stream",
     "text": [
      "Gene h2afy2 not found in all_genes list\n"
     ]
    },
    {
     "name": "stdout",
     "output_type": "stream",
     "text": [
      "Gene c10orf55 not found in all_genes list\n",
      "Gene dupd1 not found in all_genes list\n"
     ]
    },
    {
     "name": "stdout",
     "output_type": "stream",
     "text": [
      "Gene march5 not found in all_genes list\n"
     ]
    },
    {
     "name": "stdout",
     "output_type": "stream",
     "text": [
      "Gene atp5md not found in all_genes list\n"
     ]
    },
    {
     "name": "stdout",
     "output_type": "stream",
     "text": [
      "Gene al603764.2 not found in all_genes list\n"
     ]
    },
    {
     "name": "stdout",
     "output_type": "stream",
     "text": [
      "Gene pano1 not found in all_genes list\n"
     ]
    },
    {
     "name": "stdout",
     "output_type": "stream",
     "text": [
      "Gene ac132217.2 not found in all_genes list\n",
      "Gene cars not found in all_genes list\n"
     ]
    },
    {
     "name": "stdout",
     "output_type": "stream",
     "text": [
      "Gene c11orf40 not found in all_genes list\n",
      "Gene ac104389.5 not found in all_genes list\n"
     ]
    },
    {
     "name": "stdout",
     "output_type": "stream",
     "text": [
      "Gene st5 not found in all_genes list\n",
      "Gene mrvi1 not found in all_genes list\n"
     ]
    },
    {
     "name": "stdout",
     "output_type": "stream",
     "text": [
      "Gene c11orf74 not found in all_genes list\n"
     ]
    },
    {
     "name": "stdout",
     "output_type": "stream",
     "text": [
      "Gene or5r1 not found in all_genes list\n"
     ]
    },
    {
     "name": "stdout",
     "output_type": "stream",
     "text": [
      "Gene ap002495.1 not found in all_genes list\n"
     ]
    },
    {
     "name": "stdout",
     "output_type": "stream",
     "text": [
      "Gene card16 not found in all_genes list\n",
      "Gene card17 not found in all_genes list\n"
     ]
    },
    {
     "name": "stdout",
     "output_type": "stream",
     "text": [
      "Gene c11orf88 not found in all_genes list\n"
     ]
    },
    {
     "name": "stdout",
     "output_type": "stream",
     "text": [
      "Gene ccdc84 not found in all_genes list\n",
      "Gene h2afx not found in all_genes list\n"
     ]
    },
    {
     "name": "stdout",
     "output_type": "stream",
     "text": [
      "Gene hist4h4 not found in all_genes list\n",
      "Gene h2afj not found in all_genes list\n"
     ]
    },
    {
     "name": "stdout",
     "output_type": "stream",
     "text": [
      "Gene lrmp not found in all_genes list\n",
      "Gene casc1 not found in all_genes list\n"
     ]
    },
    {
     "name": "stdout",
     "output_type": "stream",
     "text": [
      "Gene h3f3c not found in all_genes list\n"
     ]
    },
    {
     "name": "stdout",
     "output_type": "stream",
     "text": [
      "Gene h1fnt not found in all_genes list\n"
     ]
    },
    {
     "name": "stdout",
     "output_type": "stream",
     "text": [
      "Gene c12orf81 not found in all_genes list\n",
      "Gene grasp not found in all_genes list\n"
     ]
    },
    {
     "name": "stdout",
     "output_type": "stream",
     "text": [
      "Gene ac021072.1 not found in all_genes list\n",
      "Gene c12orf10 not found in all_genes list\n"
     ]
    },
    {
     "name": "stdout",
     "output_type": "stream",
     "text": [
      "Gene mars not found in all_genes list\n",
      "Gene slc26a10 not found in all_genes list\n",
      "Gene march9 not found in all_genes list\n"
     ]
    },
    {
     "name": "stdout",
     "output_type": "stream",
     "text": [
      "Gene cllu1os not found in all_genes list\n",
      "Gene c12orf74 not found in all_genes list\n"
     ]
    },
    {
     "name": "stdout",
     "output_type": "stream",
     "text": [
      "Gene c12orf49 not found in all_genes list\n"
     ]
    },
    {
     "name": "stdout",
     "output_type": "stream",
     "text": [
      "Gene wdr66 not found in all_genes list\n"
     ]
    },
    {
     "name": "stdout",
     "output_type": "stream",
     "text": [
      "Gene spata13 not found in all_genes list\n"
     ]
    },
    {
     "name": "stdout",
     "output_type": "stream",
     "text": [
      "Gene spert not found in all_genes list\n"
     ]
    },
    {
     "name": "stdout",
     "output_type": "stream",
     "text": [
      "Gene al445238.1 not found in all_genes list\n"
     ]
    },
    {
     "name": "stdout",
     "output_type": "stream",
     "text": [
      "Gene trdc not found in all_genes list\n",
      "Gene trac not found in all_genes list\n"
     ]
    },
    {
     "name": "stdout",
     "output_type": "stream",
     "text": [
      "Gene elmsan1 not found in all_genes list\n"
     ]
    },
    {
     "name": "stdout",
     "output_type": "stream",
     "text": [
      "Gene c14orf177 not found in all_genes list\n",
      "Gene wars not found in all_genes list\n"
     ]
    },
    {
     "name": "stdout",
     "output_type": "stream",
     "text": [
      "Gene atp5mpl not found in all_genes list\n",
      "Gene adssl1 not found in all_genes list\n"
     ]
    },
    {
     "name": "stdout",
     "output_type": "stream",
     "text": [
      "Gene igha2 not found in all_genes list\n",
      "Gene ighe not found in all_genes list\n",
      "Gene igha1 not found in all_genes list\n",
      "Gene ighg1 not found in all_genes list\n",
      "Gene ighg3 not found in all_genes list\n",
      "Gene ighd not found in all_genes list\n",
      "Gene ighm not found in all_genes list\n",
      "Gene fam30a not found in all_genes list\n",
      "Gene golga8m not found in all_genes list\n"
     ]
    },
    {
     "name": "stdout",
     "output_type": "stream",
     "text": [
      "Gene ac091057.6 not found in all_genes list\n"
     ]
    },
    {
     "name": "stdout",
     "output_type": "stream",
     "text": [
      "Gene c15orf41 not found in all_genes list\n",
      "Gene linc02694 not found in all_genes list\n"
     ]
    },
    {
     "name": "stdout",
     "output_type": "stream",
     "text": [
      "Gene casc4 not found in all_genes list\n"
     ]
    },
    {
     "name": "stdout",
     "output_type": "stream",
     "text": [
      "Gene ct62 not found in all_genes list\n"
     ]
    },
    {
     "name": "stdout",
     "output_type": "stream",
     "text": [
      "Gene ac015871.1 not found in all_genes list\n"
     ]
    },
    {
     "name": "stdout",
     "output_type": "stream",
     "text": [
      "Gene spata8 not found in all_genes list\n",
      "Gene fam169b not found in all_genes list\n"
     ]
    },
    {
     "name": "stdout",
     "output_type": "stream",
     "text": [
      "Gene tarsl2 not found in all_genes list\n",
      "Gene tmem8a not found in all_genes list\n"
     ]
    },
    {
     "name": "stdout",
     "output_type": "stream",
     "text": [
      "Gene al032819.3 not found in all_genes list\n"
     ]
    },
    {
     "name": "stdout",
     "output_type": "stream",
     "text": [
      "Gene ac025283.2 not found in all_genes list\n"
     ]
    },
    {
     "name": "stdout",
     "output_type": "stream",
     "text": [
      "Gene ac099489.1 not found in all_genes list\n",
      "Gene fopnl not found in all_genes list\n"
     ]
    },
    {
     "name": "stdout",
     "output_type": "stream",
     "text": [
      "Gene kiaa0556 not found in all_genes list\n"
     ]
    },
    {
     "name": "stdout",
     "output_type": "stream",
     "text": [
      "Gene c16orf58 not found in all_genes list\n"
     ]
    },
    {
     "name": "stdout",
     "output_type": "stream",
     "text": [
      "Gene ac007906.2 not found in all_genes list\n"
     ]
    },
    {
     "name": "stdout",
     "output_type": "stream",
     "text": [
      "Gene fam192a not found in all_genes list\n"
     ]
    },
    {
     "name": "stdout",
     "output_type": "stream",
     "text": [
      "Gene lrrc29 not found in all_genes list\n"
     ]
    },
    {
     "name": "stdout",
     "output_type": "stream",
     "text": [
      "Gene aars not found in all_genes list\n"
     ]
    },
    {
     "name": "stdout",
     "output_type": "stream",
     "text": [
      "Gene kars not found in all_genes list\n",
      "Gene ac025287.4 not found in all_genes list\n"
     ]
    },
    {
     "name": "stdout",
     "output_type": "stream",
     "text": [
      "Gene fam92b not found in all_genes list\n"
     ]
    },
    {
     "name": "stdout",
     "output_type": "stream",
     "text": [
      "Gene cenpbd1 not found in all_genes list\n"
     ]
    },
    {
     "name": "stdout",
     "output_type": "stream",
     "text": [
      "Gene ac087498.1 not found in all_genes list\n"
     ]
    },
    {
     "name": "stdout",
     "output_type": "stream",
     "text": [
      "Gene ac233723.1 not found in all_genes list\n"
     ]
    },
    {
     "name": "stdout",
     "output_type": "stream",
     "text": [
      "Gene trim16l not found in all_genes list\n",
      "Gene linc02693 not found in all_genes list\n"
     ]
    },
    {
     "name": "stdout",
     "output_type": "stream",
     "text": [
      "Gene slfn12l not found in all_genes list\n"
     ]
    },
    {
     "name": "stdout",
     "output_type": "stream",
     "text": [
      "Gene tmem99 not found in all_genes list\n"
     ]
    },
    {
     "name": "stdout",
     "output_type": "stream",
     "text": [
      "Gene ttc25 not found in all_genes list\n"
     ]
    },
    {
     "name": "stdout",
     "output_type": "stream",
     "text": [
      "Gene c17orf53 not found in all_genes list\n"
     ]
    },
    {
     "name": "stdout",
     "output_type": "stream",
     "text": [
      "Gene ac011195.2 not found in all_genes list\n"
     ]
    },
    {
     "name": "stdout",
     "output_type": "stream",
     "text": [
      "Gene march10 not found in all_genes list\n"
     ]
    },
    {
     "name": "stdout",
     "output_type": "stream",
     "text": [
      "Gene h3f3b not found in all_genes list\n"
     ]
    },
    {
     "name": "stdout",
     "output_type": "stream",
     "text": [
      "Gene eloa3 not found in all_genes list\n"
     ]
    },
    {
     "name": "stdout",
     "output_type": "stream",
     "text": [
      "Gene nars not found in all_genes list\n"
     ]
    },
    {
     "name": "stdout",
     "output_type": "stream",
     "text": [
      "Gene ac090360.1 not found in all_genes list\n"
     ]
    },
    {
     "name": "stdout",
     "output_type": "stream",
     "text": [
      "Gene ac005551.1 not found in all_genes list\n"
     ]
    },
    {
     "name": "stdout",
     "output_type": "stream",
     "text": [
      "Gene ac119396.1 not found in all_genes list\n"
     ]
    },
    {
     "name": "stdout",
     "output_type": "stream",
     "text": [
      "Gene march2 not found in all_genes list\n"
     ]
    },
    {
     "name": "stdout",
     "output_type": "stream",
     "text": [
      "Gene ccdc151 not found in all_genes list\n"
     ]
    },
    {
     "name": "stdout",
     "output_type": "stream",
     "text": [
      "Gene c19orf57 not found in all_genes list\n"
     ]
    },
    {
     "name": "stdout",
     "output_type": "stream",
     "text": [
      "Gene ac008397.1 not found in all_genes list\n"
     ]
    },
    {
     "name": "stdout",
     "output_type": "stream",
     "text": [
      "Gene kiaa0355 not found in all_genes list\n"
     ]
    },
    {
     "name": "stdout",
     "output_type": "stream",
     "text": [
      "Gene cntd2 not found in all_genes list\n"
     ]
    },
    {
     "name": "stdout",
     "output_type": "stream",
     "text": [
      "Gene cd3eap not found in all_genes list\n",
      "Gene bhmg1 not found in all_genes list\n"
     ]
    },
    {
     "name": "stdout",
     "output_type": "stream",
     "text": [
      "Gene ppp5d1 not found in all_genes list\n"
     ]
    },
    {
     "name": "stdout",
     "output_type": "stream",
     "text": [
      "Gene ccdc114 not found in all_genes list\n"
     ]
    },
    {
     "name": "stdout",
     "output_type": "stream",
     "text": [
      "Gene ac008687.4 not found in all_genes list\n",
      "Gene ccdc155 not found in all_genes list\n"
     ]
    },
    {
     "name": "stdout",
     "output_type": "stream",
     "text": [
      "Gene ac010325.1 not found in all_genes list\n",
      "Gene c19orf48 not found in all_genes list\n"
     ]
    },
    {
     "name": "stdout",
     "output_type": "stream",
     "text": [
      "Gene siglec5 not found in all_genes list\n"
     ]
    },
    {
     "name": "stdout",
     "output_type": "stream",
     "text": [
      "Gene gdf5os not found in all_genes list\n"
     ]
    },
    {
     "name": "stdout",
     "output_type": "stream",
     "text": [
      "Gene tmem189 not found in all_genes list\n"
     ]
    },
    {
     "name": "stdout",
     "output_type": "stream",
     "text": [
      "Gene fp565260.1 not found in all_genes list\n"
     ]
    },
    {
     "name": "stdout",
     "output_type": "stream",
     "text": [
      "Gene iglc1 not found in all_genes list\n",
      "Gene iglc7 not found in all_genes list\n"
     ]
    },
    {
     "name": "stdout",
     "output_type": "stream",
     "text": [
      "Gene lrp5l not found in all_genes list\n"
     ]
    },
    {
     "name": "stdout",
     "output_type": "stream",
     "text": [
      "Gene elfn2 not found in all_genes list\n",
      "Gene h1f0 not found in all_genes list\n"
     ]
    },
    {
     "name": "stdout",
     "output_type": "stream",
     "text": [
      "Gene z82206.1 not found in all_genes list\n"
     ]
    },
    {
     "name": "stdout",
     "output_type": "stream",
     "text": [
      "Gene arse not found in all_genes list\n"
     ]
    },
    {
     "name": "stdout",
     "output_type": "stream",
     "text": [
      "Gene cxorf21 not found in all_genes list\n",
      "Gene hypm not found in all_genes list\n",
      "Gene al121578.2 not found in all_genes list\n"
     ]
    },
    {
     "name": "stdout",
     "output_type": "stream",
     "text": [
      "Gene bx276092.9 not found in all_genes list\n"
     ]
    },
    {
     "name": "stdout",
     "output_type": "stream",
     "text": [
      "Gene nxf5 not found in all_genes list\n",
      "Gene glra4 not found in all_genes list\n",
      "Gene tmsb15b not found in all_genes list\n",
      "Gene h2bfwt not found in all_genes list\n",
      "Gene h2bfm not found in all_genes list\n"
     ]
    },
    {
     "name": "stdout",
     "output_type": "stream",
     "text": [
      "Gene pih1d3 not found in all_genes list\n"
     ]
    },
    {
     "name": "stdout",
     "output_type": "stream",
     "text": [
      "Gene cxorf56 not found in all_genes list\n"
     ]
    },
    {
     "name": "stdout",
     "output_type": "stream",
     "text": [
      "Gene fam122b not found in all_genes list\n",
      "Gene fam122c not found in all_genes list\n"
     ]
    },
    {
     "name": "stdout",
     "output_type": "stream",
     "text": [
      "Gene cxorf40a not found in all_genes list\n",
      "Gene ac236972.4 not found in all_genes list\n"
     ]
    },
    {
     "name": "stdout",
     "output_type": "stream",
     "text": [
      "Gene prky not found in all_genes list\n"
     ]
    }
   ],
   "source": [
    "gene_to_index = {gene: idx for idx, gene in enumerate(all_genes_lower)}\n",
    "dense_adata_X = adata.X\n",
    "for i, gene in enumerate(adata_genes_lower):\n",
    "    if gene in gene_to_index:\n",
    "        new_data[:, gene_to_index[gene]] = dense_adata_X[:, i]\n",
    "    else:\n",
    "        print(f'Gene {gene} not found in all_genes list')"
   ]
  },
  {
   "cell_type": "code",
   "execution_count": 9,
   "metadata": {
    "execution": {
     "iopub.execute_input": "2024-11-03T14:06:19.663107Z",
     "iopub.status.busy": "2024-11-03T14:06:19.662738Z",
     "iopub.status.idle": "2024-11-03T14:06:28.949519Z",
     "shell.execute_reply": "2024-11-03T14:06:28.948638Z"
    }
   },
   "outputs": [
    {
     "name": "stderr",
     "output_type": "stream",
     "text": [
      "GPU available: True (cuda), used: True\n"
     ]
    },
    {
     "name": "stderr",
     "output_type": "stream",
     "text": [
      "TPU available: False, using: 0 TPU cores\n"
     ]
    },
    {
     "name": "stderr",
     "output_type": "stream",
     "text": [
      "HPU available: False, using: 0 HPUs\n"
     ]
    }
   ],
   "source": [
    "estim.trainer = pl.Trainer(accelerator=\"gpu\", devices=1 if torch.cuda.is_available() else None)\n",
    "# 5. 数据集划分（70% 训练，15% 验证，15% 测试）\n",
    "label_encoder = LabelEncoder()\n",
    "labels_encoded = label_encoder.fit_transform(adata.obs['cell_type'])  # 预先编码标签\n",
    "\n",
    "\n",
    "random_seed = 42\n",
    "\n",
    "X_train_val, X_test, y_train_val, y_test = train_test_split(\n",
    "    new_data, labels_encoded, test_size=0.15, random_state=random_seed)\n",
    "\n",
    "X_train, X_val, y_train, y_val = train_test_split(\n",
    "    X_train_val, y_train_val, test_size=0.1765, random_state=random_seed)  # 0.1765 是为了让验证集占 15%"
   ]
  },
  {
   "cell_type": "code",
   "execution_count": 10,
   "metadata": {
    "execution": {
     "iopub.execute_input": "2024-11-03T14:06:28.952547Z",
     "iopub.status.busy": "2024-11-03T14:06:28.952230Z",
     "iopub.status.idle": "2024-11-03T14:06:31.431833Z",
     "shell.execute_reply": "2024-11-03T14:06:31.430862Z"
    }
   },
   "outputs": [],
   "source": [
    "X_train_tensor = torch.tensor(X_train).float().to(device)\n",
    "y_train_tensor = torch.tensor(y_train).long().to(device)\n",
    "X_val_tensor = torch.tensor(X_val).float().to(device)\n",
    "y_val_tensor = torch.tensor(y_val).long().to(device)"
   ]
  },
  {
   "cell_type": "code",
   "execution_count": 11,
   "metadata": {
    "execution": {
     "iopub.execute_input": "2024-11-03T14:06:31.434864Z",
     "iopub.status.busy": "2024-11-03T14:06:31.434504Z",
     "iopub.status.idle": "2024-11-03T14:06:31.477689Z",
     "shell.execute_reply": "2024-11-03T14:06:31.476618Z"
    }
   },
   "outputs": [],
   "source": [
    "from torch.utils.data import DataLoader, TensorDataset\n",
    "\n",
    "# 设置 batch size\n",
    "batch_size = 128  # 根据实际需求调整 batch size\n",
    "\n",
    "# 使用 TensorDataset 将训练数据和标签打包\n",
    "train_dataset = TensorDataset(X_train_tensor, y_train_tensor)\n",
    "val_dataset = TensorDataset(X_val_tensor, y_val_tensor)\n",
    "\n",
    "# 使用 DataLoader 来创建批次\n",
    "train_loader = DataLoader(train_dataset, batch_size=batch_size, shuffle=True)\n",
    "val_loader = DataLoader(val_dataset, batch_size=batch_size, shuffle=False)\n",
    "\n",
    "\n",
    "# 7. 微调模型\n",
    "def train_epoch(model, optimizer, loss_fn, train_loader, val_loader):\n",
    "    model.train()\n",
    "    total_train_loss = 0\n",
    "    \n",
    "    # 训练集批次训练\n",
    "    for X_batch, y_batch in train_loader:\n",
    "        optimizer.zero_grad()\n",
    "        \n",
    "        # 前向传播\n",
    "        outputs = model.inner_model(X_batch)\n",
    "        logits = model.fc(outputs)\n",
    "        \n",
    "        # 计算损失\n",
    "        loss = loss_fn(logits, y_batch)\n",
    "        loss.backward()\n",
    "        optimizer.step()\n",
    "        \n",
    "        total_train_loss += loss.item()\n",
    "    \n",
    "    # 验证集\n",
    "    model.eval()\n",
    "    total_val_loss = 0\n",
    "    with torch.no_grad():\n",
    "        for X_val_batch, y_val_batch in val_loader:\n",
    "            val_outputs = model.inner_model(X_val_batch)\n",
    "            val_logits = model.fc(val_outputs)\n",
    "            val_loss = loss_fn(val_logits, y_val_batch)\n",
    "            total_val_loss += val_loss.item()\n",
    "\n",
    "    # 返回平均损失\n",
    "    return total_train_loss / len(train_loader), total_val_loss / len(val_loader)"
   ]
  },
  {
   "cell_type": "code",
   "execution_count": 12,
   "metadata": {
    "execution": {
     "iopub.execute_input": "2024-11-03T14:06:31.480194Z",
     "iopub.status.busy": "2024-11-03T14:06:31.479520Z",
     "iopub.status.idle": "2024-11-03T14:06:31.517653Z",
     "shell.execute_reply": "2024-11-03T14:06:31.516728Z"
    }
   },
   "outputs": [],
   "source": [
    "torch.cuda.empty_cache()"
   ]
  },
  {
   "cell_type": "code",
   "execution_count": 13,
   "metadata": {
    "execution": {
     "iopub.execute_input": "2024-11-03T14:06:31.519936Z",
     "iopub.status.busy": "2024-11-03T14:06:31.519376Z",
     "iopub.status.idle": "2024-11-03T14:10:01.787288Z",
     "shell.execute_reply": "2024-11-03T14:10:01.785260Z"
    }
   },
   "outputs": [
    {
     "name": "stdout",
     "output_type": "stream",
     "text": [
      "Epoch 1, Train Loss: 1.0449931256002332, Validation Loss: 0.9697410515722285\n",
      "Validation loss improved to 0.9697410515722285, resetting patience.\n"
     ]
    },
    {
     "name": "stdout",
     "output_type": "stream",
     "text": [
      "Epoch 2, Train Loss: 0.9341386486502254, Validation Loss: 0.8958781966703192\n",
      "Validation loss improved to 0.8958781966703192, resetting patience.\n"
     ]
    },
    {
     "name": "stdout",
     "output_type": "stream",
     "text": [
      "Epoch 3, Train Loss: 0.9067878056974972, Validation Loss: 0.9068477153778076\n",
      "No improvement in validation loss. Patience counter: 1/20\n"
     ]
    },
    {
     "name": "stdout",
     "output_type": "stream",
     "text": [
      "Epoch 4, Train Loss: 0.8936513723371335, Validation Loss: 0.8676885808179826\n",
      "Validation loss improved to 0.8676885808179826, resetting patience.\n"
     ]
    },
    {
     "name": "stdout",
     "output_type": "stream",
     "text": [
      "Epoch 5, Train Loss: 0.8851181253758391, Validation Loss: 0.8821228134450574\n",
      "No improvement in validation loss. Patience counter: 1/20\n"
     ]
    },
    {
     "name": "stdout",
     "output_type": "stream",
     "text": [
      "Epoch 6, Train Loss: 0.8794780071654351, Validation Loss: 0.8563622647735674\n",
      "Validation loss improved to 0.8563622647735674, resetting patience.\n"
     ]
    },
    {
     "name": "stdout",
     "output_type": "stream",
     "text": [
      "Epoch 7, Train Loss: 0.875757308047841, Validation Loss: 0.8711318419064362\n",
      "No improvement in validation loss. Patience counter: 1/20\n"
     ]
    },
    {
     "name": "stdout",
     "output_type": "stream",
     "text": [
      "Epoch 8, Train Loss: 0.8726175327446466, Validation Loss: 0.8762522140130173\n",
      "No improvement in validation loss. Patience counter: 2/20\n"
     ]
    },
    {
     "name": "stdout",
     "output_type": "stream",
     "text": [
      "Epoch 9, Train Loss: 0.8690977453016767, Validation Loss: 0.8722971883522073\n",
      "No improvement in validation loss. Patience counter: 3/20\n"
     ]
    },
    {
     "name": "stdout",
     "output_type": "stream",
     "text": [
      "Epoch 10, Train Loss: 0.8623312175403753, Validation Loss: 0.8610687204423895\n",
      "No improvement in validation loss. Patience counter: 4/20\n"
     ]
    },
    {
     "name": "stdout",
     "output_type": "stream",
     "text": [
      "Epoch 11, Train Loss: 0.8626464991657822, Validation Loss: 0.8585240132917608\n",
      "No improvement in validation loss. Patience counter: 5/20\n"
     ]
    },
    {
     "name": "stdout",
     "output_type": "stream",
     "text": [
      "Epoch 12, Train Loss: 0.8600370732657531, Validation Loss: 0.8460929856687633\n",
      "Validation loss improved to 0.8460929856687633, resetting patience.\n"
     ]
    },
    {
     "name": "stdout",
     "output_type": "stream",
     "text": [
      "Epoch 13, Train Loss: 0.8581649441604781, Validation Loss: 0.8736777099861106\n",
      "No improvement in validation loss. Patience counter: 1/20\n"
     ]
    },
    {
     "name": "stdout",
     "output_type": "stream",
     "text": [
      "Epoch 14, Train Loss: 0.857110984769522, Validation Loss: 0.8473402213324145\n",
      "No improvement in validation loss. Patience counter: 2/20\n"
     ]
    },
    {
     "name": "stdout",
     "output_type": "stream",
     "text": [
      "Epoch 15, Train Loss: 0.8558288175036445, Validation Loss: 0.8499700160801108\n",
      "No improvement in validation loss. Patience counter: 3/20\n"
     ]
    },
    {
     "name": "stdout",
     "output_type": "stream",
     "text": [
      "Epoch 16, Train Loss: 0.854364529868876, Validation Loss: 0.8492561660442256\n",
      "No improvement in validation loss. Patience counter: 4/20\n"
     ]
    },
    {
     "name": "stdout",
     "output_type": "stream",
     "text": [
      "Epoch 17, Train Loss: 0.8521487340818044, Validation Loss: 0.8430646431022489\n",
      "Validation loss improved to 0.8430646431022489, resetting patience.\n"
     ]
    },
    {
     "name": "stdout",
     "output_type": "stream",
     "text": [
      "Epoch 18, Train Loss: 0.8509523003059795, Validation Loss: 0.8373154480445203\n",
      "Validation loss improved to 0.8373154480445203, resetting patience.\n"
     ]
    },
    {
     "name": "stdout",
     "output_type": "stream",
     "text": [
      "Epoch 19, Train Loss: 0.8515972302240484, Validation Loss: 0.8420364747797777\n",
      "No improvement in validation loss. Patience counter: 1/20\n"
     ]
    },
    {
     "name": "stdout",
     "output_type": "stream",
     "text": [
      "Epoch 20, Train Loss: 0.8496209601820943, Validation Loss: 0.8771159385666629\n",
      "No improvement in validation loss. Patience counter: 2/20\n"
     ]
    },
    {
     "name": "stdout",
     "output_type": "stream",
     "text": [
      "Epoch 21, Train Loss: 0.8480999975552486, Validation Loss: 0.8645753167607457\n",
      "No improvement in validation loss. Patience counter: 3/20\n"
     ]
    },
    {
     "name": "stdout",
     "output_type": "stream",
     "text": [
      "Epoch 22, Train Loss: 0.845283993059254, Validation Loss: 0.8515859576046164\n",
      "No improvement in validation loss. Patience counter: 4/20\n"
     ]
    },
    {
     "name": "stdout",
     "output_type": "stream",
     "text": [
      "Epoch 23, Train Loss: 0.8460300316737888, Validation Loss: 0.8455778820260527\n",
      "No improvement in validation loss. Patience counter: 5/20\n"
     ]
    },
    {
     "name": "stdout",
     "output_type": "stream",
     "text": [
      "Epoch 24, Train Loss: 0.8446379087719262, Validation Loss: 0.855819912731345\n",
      "No improvement in validation loss. Patience counter: 6/20\n"
     ]
    },
    {
     "name": "stdout",
     "output_type": "stream",
     "text": [
      "Epoch 25, Train Loss: 0.8454658716981966, Validation Loss: 0.8427453128819539\n",
      "No improvement in validation loss. Patience counter: 7/20\n"
     ]
    },
    {
     "name": "stdout",
     "output_type": "stream",
     "text": [
      "Epoch 26, Train Loss: 0.8435210844010829, Validation Loss: 0.8457500078351364\n",
      "No improvement in validation loss. Patience counter: 8/20\n"
     ]
    },
    {
     "name": "stdout",
     "output_type": "stream",
     "text": [
      "Epoch 27, Train Loss: 0.8418083424661674, Validation Loss: 0.8475270480068807\n",
      "No improvement in validation loss. Patience counter: 9/20\n"
     ]
    },
    {
     "name": "stdout",
     "output_type": "stream",
     "text": [
      "Epoch 28, Train Loss: 0.84194276269225, Validation Loss: 0.8357801842810538\n",
      "Validation loss improved to 0.8357801842810538, resetting patience.\n"
     ]
    },
    {
     "name": "stdout",
     "output_type": "stream",
     "text": [
      "Epoch 29, Train Loss: 0.8407224835523592, Validation Loss: 0.8523082521361143\n",
      "No improvement in validation loss. Patience counter: 1/20\n"
     ]
    },
    {
     "name": "stdout",
     "output_type": "stream",
     "text": [
      "Epoch 30, Train Loss: 0.8402391893541631, Validation Loss: 0.8518315565767627\n",
      "No improvement in validation loss. Patience counter: 2/20\n"
     ]
    },
    {
     "name": "stdout",
     "output_type": "stream",
     "text": [
      "Epoch 31, Train Loss: 0.8399531767259236, Validation Loss: 0.8268467039626262\n",
      "Validation loss improved to 0.8268467039626262, resetting patience.\n"
     ]
    },
    {
     "name": "stdout",
     "output_type": "stream",
     "text": [
      "Epoch 32, Train Loss: 0.8411668722146477, Validation Loss: 0.8505282423217889\n",
      "No improvement in validation loss. Patience counter: 1/20\n"
     ]
    },
    {
     "name": "stdout",
     "output_type": "stream",
     "text": [
      "Epoch 33, Train Loss: 0.8385654358692418, Validation Loss: 0.8307209208532034\n",
      "No improvement in validation loss. Patience counter: 2/20\n"
     ]
    },
    {
     "name": "stdout",
     "output_type": "stream",
     "text": [
      "Epoch 34, Train Loss: 0.839464339750265, Validation Loss: 0.8441916280591548\n",
      "No improvement in validation loss. Patience counter: 3/20\n"
     ]
    },
    {
     "name": "stdout",
     "output_type": "stream",
     "text": [
      "Epoch 35, Train Loss: 0.8382170306181855, Validation Loss: 0.8478500446692336\n",
      "No improvement in validation loss. Patience counter: 4/20\n"
     ]
    },
    {
     "name": "stdout",
     "output_type": "stream",
     "text": [
      "Epoch 36, Train Loss: 0.8365929516961632, Validation Loss: 0.8311949366240332\n",
      "No improvement in validation loss. Patience counter: 5/20\n"
     ]
    },
    {
     "name": "stdout",
     "output_type": "stream",
     "text": [
      "Epoch 37, Train Loss: 0.8365550452847367, Validation Loss: 0.8562799483386393\n",
      "No improvement in validation loss. Patience counter: 6/20\n"
     ]
    },
    {
     "name": "stdout",
     "output_type": "stream",
     "text": [
      "Epoch 38, Train Loss: 0.8368532498547714, Validation Loss: 0.8399094564055428\n",
      "No improvement in validation loss. Patience counter: 7/20\n"
     ]
    },
    {
     "name": "stdout",
     "output_type": "stream",
     "text": [
      "Epoch 39, Train Loss: 0.8359803458704148, Validation Loss: 0.840588625009895\n",
      "No improvement in validation loss. Patience counter: 8/20\n"
     ]
    },
    {
     "name": "stdout",
     "output_type": "stream",
     "text": [
      "Epoch 40, Train Loss: 0.8357781336393232, Validation Loss: 0.832212674738792\n",
      "No improvement in validation loss. Patience counter: 9/20\n"
     ]
    },
    {
     "name": "stdout",
     "output_type": "stream",
     "text": [
      "Epoch 41, Train Loss: 0.8349975328689567, Validation Loss: 0.8424050260316297\n",
      "No improvement in validation loss. Patience counter: 10/20\n"
     ]
    },
    {
     "name": "stdout",
     "output_type": "stream",
     "text": [
      "Epoch 42, Train Loss: 0.8360546766283206, Validation Loss: 0.8392127119950231\n",
      "No improvement in validation loss. Patience counter: 11/20\n"
     ]
    },
    {
     "name": "stdout",
     "output_type": "stream",
     "text": [
      "Epoch 43, Train Loss: 0.8350990561683194, Validation Loss: 0.8341790219853977\n",
      "No improvement in validation loss. Patience counter: 12/20\n"
     ]
    },
    {
     "name": "stdout",
     "output_type": "stream",
     "text": [
      "Epoch 44, Train Loss: 0.8326599518068476, Validation Loss: 0.8401176511938802\n",
      "No improvement in validation loss. Patience counter: 13/20\n"
     ]
    },
    {
     "name": "stdout",
     "output_type": "stream",
     "text": [
      "Epoch 45, Train Loss: 0.8338341640880684, Validation Loss: 0.8470748774896418\n",
      "No improvement in validation loss. Patience counter: 14/20\n"
     ]
    },
    {
     "name": "stdout",
     "output_type": "stream",
     "text": [
      "Epoch 46, Train Loss: 0.8327455404407318, Validation Loss: 0.8288304427553554\n",
      "No improvement in validation loss. Patience counter: 15/20\n"
     ]
    },
    {
     "name": "stdout",
     "output_type": "stream",
     "text": [
      "Epoch 47, Train Loss: 0.8318394682895643, Validation Loss: 0.8388248318948116\n",
      "No improvement in validation loss. Patience counter: 16/20\n"
     ]
    },
    {
     "name": "stdout",
     "output_type": "stream",
     "text": [
      "Epoch 48, Train Loss: 0.8322962989994124, Validation Loss: 0.8527448679589983\n",
      "No improvement in validation loss. Patience counter: 17/20\n"
     ]
    },
    {
     "name": "stdout",
     "output_type": "stream",
     "text": [
      "Epoch 49, Train Loss: 0.8317903817219412, Validation Loss: 0.8241006641218505\n",
      "Validation loss improved to 0.8241006641218505, resetting patience.\n"
     ]
    },
    {
     "name": "stdout",
     "output_type": "stream",
     "text": [
      "Epoch 50, Train Loss: 0.832880099030102, Validation Loss: 0.8474645602521558\n",
      "No improvement in validation loss. Patience counter: 1/20\n"
     ]
    },
    {
     "name": "stdout",
     "output_type": "stream",
     "text": [
      "Epoch 51, Train Loss: 0.8312112727975534, Validation Loss: 0.824799499233362\n",
      "No improvement in validation loss. Patience counter: 2/20\n"
     ]
    },
    {
     "name": "stdout",
     "output_type": "stream",
     "text": [
      "Epoch 52, Train Loss: 0.8315793974467093, Validation Loss: 0.8321835144522226\n",
      "No improvement in validation loss. Patience counter: 3/20\n"
     ]
    },
    {
     "name": "stdout",
     "output_type": "stream",
     "text": [
      "Epoch 53, Train Loss: 0.8312764462237784, Validation Loss: 0.8384811654308726\n",
      "No improvement in validation loss. Patience counter: 4/20\n"
     ]
    },
    {
     "name": "stdout",
     "output_type": "stream",
     "text": [
      "Epoch 54, Train Loss: 0.8328960211318562, Validation Loss: 0.8247354097172693\n",
      "No improvement in validation loss. Patience counter: 5/20\n"
     ]
    },
    {
     "name": "stdout",
     "output_type": "stream",
     "text": [
      "Epoch 55, Train Loss: 0.8296582647528264, Validation Loss: 0.8540635375202005\n",
      "No improvement in validation loss. Patience counter: 6/20\n"
     ]
    },
    {
     "name": "stdout",
     "output_type": "stream",
     "text": [
      "Epoch 56, Train Loss: 0.8309116096018706, Validation Loss: 0.83627196465652\n",
      "No improvement in validation loss. Patience counter: 7/20\n"
     ]
    },
    {
     "name": "stdout",
     "output_type": "stream",
     "text": [
      "Epoch 57, Train Loss: 0.8311177245412257, Validation Loss: 0.8415539863751019\n",
      "No improvement in validation loss. Patience counter: 8/20\n"
     ]
    },
    {
     "name": "stdout",
     "output_type": "stream",
     "text": [
      "Epoch 58, Train Loss: 0.8285015513045076, Validation Loss: 0.8296106421402868\n",
      "No improvement in validation loss. Patience counter: 9/20\n"
     ]
    },
    {
     "name": "stdout",
     "output_type": "stream",
     "text": [
      "Epoch 59, Train Loss: 0.8295208031964977, Validation Loss: 0.822682166765184\n",
      "Validation loss improved to 0.822682166765184, resetting patience.\n"
     ]
    },
    {
     "name": "stdout",
     "output_type": "stream",
     "text": [
      "Epoch 60, Train Loss: 0.8303666000532429, Validation Loss: 0.8330360654041852\n",
      "No improvement in validation loss. Patience counter: 1/20\n"
     ]
    },
    {
     "name": "stdout",
     "output_type": "stream",
     "text": [
      "Epoch 61, Train Loss: 0.8298364146602439, Validation Loss: 0.8355905906803112\n",
      "No improvement in validation loss. Patience counter: 2/20\n"
     ]
    },
    {
     "name": "stdout",
     "output_type": "stream",
     "text": [
      "Epoch 62, Train Loss: 0.8300215529200817, Validation Loss: 0.8280628486938283\n",
      "No improvement in validation loss. Patience counter: 3/20\n"
     ]
    },
    {
     "name": "stdout",
     "output_type": "stream",
     "text": [
      "Epoch 63, Train Loss: 0.830719449161704, Validation Loss: 0.825587758255489\n",
      "No improvement in validation loss. Patience counter: 4/20\n"
     ]
    },
    {
     "name": "stdout",
     "output_type": "stream",
     "text": [
      "Epoch 64, Train Loss: 0.828626590876278, Validation Loss: 0.8227508930385415\n",
      "No improvement in validation loss. Patience counter: 5/20\n"
     ]
    },
    {
     "name": "stdout",
     "output_type": "stream",
     "text": [
      "Epoch 65, Train Loss: 0.8288144814033135, Validation Loss: 0.8198398675410276\n",
      "Validation loss improved to 0.8198398675410276, resetting patience.\n"
     ]
    },
    {
     "name": "stdout",
     "output_type": "stream",
     "text": [
      "Epoch 66, Train Loss: 0.8294671608991353, Validation Loss: 0.8308592263212059\n",
      "No improvement in validation loss. Patience counter: 1/20\n"
     ]
    },
    {
     "name": "stdout",
     "output_type": "stream",
     "text": [
      "Epoch 67, Train Loss: 0.8287440246876029, Validation Loss: 0.8327606471661989\n",
      "No improvement in validation loss. Patience counter: 2/20\n"
     ]
    },
    {
     "name": "stdout",
     "output_type": "stream",
     "text": [
      "Epoch 68, Train Loss: 0.8272631166742258, Validation Loss: 0.8318120353112971\n",
      "No improvement in validation loss. Patience counter: 3/20\n"
     ]
    },
    {
     "name": "stdout",
     "output_type": "stream",
     "text": [
      "Epoch 69, Train Loss: 0.8280838673410852, Validation Loss: 0.8199661122965933\n",
      "No improvement in validation loss. Patience counter: 4/20\n"
     ]
    },
    {
     "name": "stdout",
     "output_type": "stream",
     "text": [
      "Epoch 70, Train Loss: 0.8286794850639269, Validation Loss: 0.8298526218699925\n",
      "No improvement in validation loss. Patience counter: 5/20\n"
     ]
    },
    {
     "name": "stdout",
     "output_type": "stream",
     "text": [
      "Epoch 71, Train Loss: 0.8273469560286578, Validation Loss: 0.8418703067121167\n",
      "No improvement in validation loss. Patience counter: 6/20\n"
     ]
    },
    {
     "name": "stdout",
     "output_type": "stream",
     "text": [
      "Epoch 72, Train Loss: 0.8266341721310335, Validation Loss: 0.8185128563551733\n",
      "Validation loss improved to 0.8185128563551733, resetting patience.\n"
     ]
    },
    {
     "name": "stdout",
     "output_type": "stream",
     "text": [
      "Epoch 73, Train Loss: 0.8275403938457078, Validation Loss: 0.830034049634401\n",
      "No improvement in validation loss. Patience counter: 1/20\n"
     ]
    },
    {
     "name": "stdout",
     "output_type": "stream",
     "text": [
      "Epoch 74, Train Loss: 0.8261254722646119, Validation Loss: 0.8283237227933661\n",
      "No improvement in validation loss. Patience counter: 2/20\n"
     ]
    },
    {
     "name": "stdout",
     "output_type": "stream",
     "text": [
      "Epoch 75, Train Loss: 0.826156037727732, Validation Loss: 0.8434756195484684\n",
      "No improvement in validation loss. Patience counter: 3/20\n"
     ]
    },
    {
     "name": "stdout",
     "output_type": "stream",
     "text": [
      "Epoch 76, Train Loss: 0.8294782089252098, Validation Loss: 0.8401330978737265\n",
      "No improvement in validation loss. Patience counter: 4/20\n"
     ]
    },
    {
     "name": "stdout",
     "output_type": "stream",
     "text": [
      "Epoch 77, Train Loss: 0.8262379732072224, Validation Loss: 0.8240988617621098\n",
      "No improvement in validation loss. Patience counter: 5/20\n"
     ]
    },
    {
     "name": "stdout",
     "output_type": "stream",
     "text": [
      "Epoch 78, Train Loss: 0.8286802309011322, Validation Loss: 0.8290096288405094\n",
      "No improvement in validation loss. Patience counter: 6/20\n"
     ]
    },
    {
     "name": "stdout",
     "output_type": "stream",
     "text": [
      "Epoch 79, Train Loss: 0.8268057003390036, Validation Loss: 0.8427009001601166\n",
      "No improvement in validation loss. Patience counter: 7/20\n"
     ]
    },
    {
     "name": "stdout",
     "output_type": "stream",
     "text": [
      "Epoch 80, Train Loss: 0.8264478437261644, Validation Loss: 0.8484720984086167\n",
      "No improvement in validation loss. Patience counter: 8/20\n"
     ]
    },
    {
     "name": "stdout",
     "output_type": "stream",
     "text": [
      "Epoch 81, Train Loss: 0.8254790855389015, Validation Loss: 0.8390268386923118\n",
      "No improvement in validation loss. Patience counter: 9/20\n"
     ]
    },
    {
     "name": "stdout",
     "output_type": "stream",
     "text": [
      "Epoch 82, Train Loss: 0.8269822400769377, Validation Loss: 0.8310947896260296\n",
      "No improvement in validation loss. Patience counter: 10/20\n"
     ]
    },
    {
     "name": "stdout",
     "output_type": "stream",
     "text": [
      "Epoch 83, Train Loss: 0.826060759410879, Validation Loss: 0.8191979705984822\n",
      "No improvement in validation loss. Patience counter: 11/20\n"
     ]
    },
    {
     "name": "stdout",
     "output_type": "stream",
     "text": [
      "Epoch 84, Train Loss: 0.8266619121197262, Validation Loss: 0.8317009035100792\n",
      "No improvement in validation loss. Patience counter: 12/20\n"
     ]
    },
    {
     "name": "stdout",
     "output_type": "stream",
     "text": [
      "Epoch 85, Train Loss: 0.8267339744599037, Validation Loss: 0.8299131532610976\n",
      "No improvement in validation loss. Patience counter: 13/20\n"
     ]
    },
    {
     "name": "stdout",
     "output_type": "stream",
     "text": [
      "Epoch 86, Train Loss: 0.8257894925042695, Validation Loss: 0.8324986048761358\n",
      "No improvement in validation loss. Patience counter: 14/20\n"
     ]
    },
    {
     "name": "stdout",
     "output_type": "stream",
     "text": [
      "Epoch 87, Train Loss: 0.8254746299943113, Validation Loss: 0.8262553919995497\n",
      "No improvement in validation loss. Patience counter: 15/20\n"
     ]
    },
    {
     "name": "stdout",
     "output_type": "stream",
     "text": [
      "Epoch 88, Train Loss: 0.8277228901848555, Validation Loss: 0.8346265309353165\n",
      "No improvement in validation loss. Patience counter: 16/20\n"
     ]
    },
    {
     "name": "stdout",
     "output_type": "stream",
     "text": [
      "Epoch 89, Train Loss: 0.8244828311381517, Validation Loss: 0.8311622514942576\n",
      "No improvement in validation loss. Patience counter: 17/20\n"
     ]
    },
    {
     "name": "stdout",
     "output_type": "stream",
     "text": [
      "Epoch 90, Train Loss: 0.826515040431407, Validation Loss: 0.8617411443424708\n",
      "No improvement in validation loss. Patience counter: 18/20\n"
     ]
    },
    {
     "name": "stdout",
     "output_type": "stream",
     "text": [
      "Epoch 91, Train Loss: 0.8271833840019043, Validation Loss: 0.8267828413677699\n",
      "No improvement in validation loss. Patience counter: 19/20\n"
     ]
    },
    {
     "name": "stdout",
     "output_type": "stream",
     "text": [
      "Epoch 92, Train Loss: 0.8268478938047662, Validation Loss: 0.8340866257091464\n",
      "No improvement in validation loss. Patience counter: 20/20\n",
      "Early stopping triggered. Stopping training at epoch 92.\n",
      "Loaded best model weights based on validation loss.\n"
     ]
    }
   ],
   "source": [
    "import copy  # 用于保存模型的最佳状态\n",
    "\n",
    "# Early Stopping 参数\n",
    "patience = 20  # 如果验证损失在 10 个 epoch 中没有改善，停止训练\n",
    "min_delta = 1e-4  # 最小改善幅度\n",
    "patience_counter = 0\n",
    "best_val_loss = float('inf')  # 初始设置为正无穷大\n",
    "best_model_weights = copy.deepcopy(estim.model.state_dict())  # 保存最佳模型权重\n",
    "train_losses = []\n",
    "val_losses = []\n",
    "\n",
    "# 训练 500 个 epoch\n",
    "for epoch in range(500):\n",
    "    train_loss, val_loss = train_epoch(estim.model, optimizer, loss_fn, train_loader, val_loader)\n",
    "    print(f'Epoch {epoch+1}, Train Loss: {train_loss}, Validation Loss: {val_loss}')\n",
    "    train_losses.append(train_loss)\n",
    "    val_losses.append(val_loss)\n",
    "    \n",
    "    # Early Stopping 检查\n",
    "    if val_loss < best_val_loss - min_delta:\n",
    "        best_val_loss = val_loss  # 更新最佳验证损失\n",
    "        patience_counter = 0  # 重置 patience 计数器\n",
    "        best_model_weights = copy.deepcopy(estim.model.state_dict())  # 保存当前最佳模型\n",
    "        print(f\"Validation loss improved to {best_val_loss}, resetting patience.\")\n",
    "    else:\n",
    "        patience_counter += 1\n",
    "        print(f\"No improvement in validation loss. Patience counter: {patience_counter}/{patience}\")\n",
    "    \n",
    "    # 如果 patience_counter 超过设置的 patience，停止训练\n",
    "    if patience_counter >= patience:\n",
    "        print(f\"Early stopping triggered. Stopping training at epoch {epoch+1}.\")\n",
    "        break\n",
    "\n",
    "# 恢复到训练中性能最好的模型权重\n",
    "estim.model.load_state_dict(best_model_weights)\n",
    "print(\"Loaded best model weights based on validation loss.\")"
   ]
  },
  {
   "cell_type": "code",
   "execution_count": 14,
   "metadata": {
    "execution": {
     "iopub.execute_input": "2024-11-03T14:10:01.800208Z",
     "iopub.status.busy": "2024-11-03T14:10:01.793951Z",
     "iopub.status.idle": "2024-11-03T14:10:02.193009Z",
     "shell.execute_reply": "2024-11-03T14:10:02.191707Z"
    }
   },
   "outputs": [],
   "source": [
    "import os\n",
    "\n",
    "# 定义保存路径\n",
    "save_dir = './imputed_xenium_best_model_ckpt'\n",
    "save_path = os.path.join(save_dir, f'BT_FT_Xenium_breast_cancer_sample1_replicate1_best_model_{random_seed}.ckpt')\n",
    "\n",
    "# 如果目录不存在，则创建\n",
    "if not os.path.exists(save_dir):\n",
    "    os.makedirs(save_dir)\n",
    "\n",
    "# 保存模型\n",
    "torch.save(best_model_weights, save_path)"
   ]
  },
  {
   "cell_type": "code",
   "execution_count": 15,
   "metadata": {
    "execution": {
     "iopub.execute_input": "2024-11-03T14:10:02.198372Z",
     "iopub.status.busy": "2024-11-03T14:10:02.197556Z",
     "iopub.status.idle": "2024-11-03T14:10:03.608124Z",
     "shell.execute_reply": "2024-11-03T14:10:03.606949Z"
    }
   },
   "outputs": [
    {
     "name": "stderr",
     "output_type": "stream",
     "text": [
      "The PostScript backend does not support transparency; partially transparent artists will be rendered opaque.\n"
     ]
    },
    {
     "data": {
      "image/png": "[encoded data removed]",
      "text/plain": [
       "<Figure size 1000x600 with 1 Axes>"
      ]
     },
     "metadata": {},
     "output_type": "display_data"
    }
   ],
   "source": [
    "import matplotlib.pyplot as plt\n",
    "plt.figure(figsize=(10,6))\n",
    "plt.plot(train_losses, label='Training Loss')\n",
    "plt.plot(val_losses, label='Validation Loss')\n",
    "plt.xlabel('Epoch')\n",
    "plt.ylabel('Loss')\n",
    "plt.title('Training and Validation Loss over Epochs')\n",
    "plt.legend()\n",
    "plt.savefig(f'../loss_curve_fig/imputed_Xenium_breast_cancer_barlow_twins_finetune_full_loss_curve{random_seed}.png', dpi=400)  # 保存图像为png格式，300 dpi\n",
    "plt.savefig(f'../loss_curve_fig/imputed_Xenium_breast_cancer_barlow_twins_finetune_full_loss_curve{random_seed}.eps', format='eps', dpi=400)  # 保存图像为png格式，300 dpi\n",
    "\n",
    "plt.show()\n"
   ]
  },
  {
   "cell_type": "code",
   "execution_count": 16,
   "metadata": {
    "execution": {
     "iopub.execute_input": "2024-11-03T14:10:03.611564Z",
     "iopub.status.busy": "2024-11-03T14:10:03.611240Z",
     "iopub.status.idle": "2024-11-03T14:10:08.003122Z",
     "shell.execute_reply": "2024-11-03T14:10:08.001571Z"
    }
   },
   "outputs": [],
   "source": [
    "# 8. 使用 KNN 替代测试阶段的 FC 分类层\n",
    "# 使用 encoder 提取训练集和测试集的 embedding\n",
    "estim.model.eval()\n",
    "with torch.no_grad():\n",
    "    train_embeddings = estim.model.inner_model(torch.tensor(X_train).float().to(device)).cpu().numpy()\n",
    "    test_embeddings = estim.model.inner_model(torch.tensor(X_test).float().to(device)).cpu().numpy()"
   ]
  },
  {
   "cell_type": "code",
   "execution_count": 17,
   "metadata": {
    "execution": {
     "iopub.execute_input": "2024-11-03T14:10:08.022296Z",
     "iopub.status.busy": "2024-11-03T14:10:08.007110Z",
     "iopub.status.idle": "2024-11-03T14:10:22.382378Z",
     "shell.execute_reply": "2024-11-03T14:10:22.381404Z"
    }
   },
   "outputs": [
    {
     "name": "stdout",
     "output_type": "stream",
     "text": [
      "KNN Accuracy on Test Data: 0.7158978026781102\n",
      "Weighted F1 Score: 0.7128892701407624\n",
      "Macro F1 Score: 0.5878270123047437\n",
      "Random Guess Accuracy: 0.1320247177116093\n",
      "                         precision    recall  f1-score   support\n",
      "\n",
      "                B_Cells       0.69      0.83      0.75       772\n",
      "           CD4+_T_Cells       0.49      0.57      0.52      1286\n",
      "           CD8+_T_Cells       0.53      0.55      0.54      1026\n",
      "                 DCIS_1       0.74      0.73      0.73      1937\n",
      "                 DCIS_2       0.58      0.59      0.59      1746\n",
      "            Endothelial       0.83      0.87      0.85      1348\n",
      "              IRF7+_DCs       0.82      0.78      0.80        74\n",
      "         Invasive_Tumor       0.81      0.83      0.82      5230\n",
      "             LAMP3+_DCs       0.57      0.53      0.55        49\n",
      "          Macrophages_1       0.69      0.75      0.72      1692\n",
      "          Macrophages_2       0.51      0.47      0.49       223\n",
      "             Mast_Cells       0.59      0.46      0.52        28\n",
      "          Myoepi_ACTA2+       0.74      0.76      0.75      1043\n",
      "          Myoepi_KRT15+       0.80      0.84      0.82       426\n",
      "      Perivascular-Like       0.41      0.21      0.28       125\n",
      "  Prolif_Invasive_Tumor       0.62      0.59      0.60       533\n",
      "                Stromal       0.78      0.74      0.76      6184\n",
      "Stromal_&_T_Cell_Hybrid       0.00      0.00      0.00        93\n",
      "  T_Cell_&_Tumor_Hybrid       0.24      0.11      0.16        87\n",
      "              Unlabeled       0.58      0.46      0.51      1265\n",
      "\n",
      "               accuracy                           0.72     25167\n",
      "              macro avg       0.60      0.58      0.59     25167\n",
      "           weighted avg       0.71      0.72      0.71     25167\n",
      "\n"
     ]
    }
   ],
   "source": [
    "import pandas as pd\n",
    "from sklearn.neighbors import KNeighborsClassifier\n",
    "from sklearn.metrics import accuracy_score, f1_score, classification_report\n",
    "\n",
    "    \n",
    "\n",
    "    # 初始化和训练KNN分类器\n",
    "knn = KNeighborsClassifier(n_neighbors=5)\n",
    "knn.fit(train_embeddings, y_train)\n",
    "    \n",
    "    # 模型预测\n",
    "predictions = knn.predict(test_embeddings)\n",
    "\n",
    "    # 计算准确率和 F1 分数\n",
    "accuracy = accuracy_score(y_test, predictions)\n",
    "print(f\"KNN Accuracy on Test Data: {accuracy}\")\n",
    "f1 = f1_score(y_test, predictions, average='weighted')\n",
    "print(f\"Weighted F1 Score: {f1}\")\n",
    "    \n",
    "macro_f1 = f1_score(y_test, predictions, average='macro')\n",
    "print(f'Macro F1 Score: {macro_f1}')\n",
    "\n",
    "    # 计算随机猜测的准确率\n",
    "class_probabilities = np.bincount(y_test) / len(y_test)\n",
    "random_accuracy = np.sum(class_probabilities ** 2)\n",
    "print(f\"Random Guess Accuracy: {random_accuracy}\")\n",
    "\n",
    "    # 生成分类报告\n",
    "report = classification_report(y_test, predictions, target_names=label_encoder.classes_)\n",
    "print(report)"
   ]
  },
  {
   "cell_type": "code",
   "execution_count": 18,
   "metadata": {
    "execution": {
     "iopub.execute_input": "2024-11-03T14:10:22.387416Z",
     "iopub.status.busy": "2024-11-03T14:10:22.385599Z",
     "iopub.status.idle": "2024-11-03T14:10:52.791847Z",
     "shell.execute_reply": "2024-11-03T14:10:52.790498Z"
    }
   },
   "outputs": [],
   "source": [
    "with torch.no_grad():\n",
    "    new_data_tensor = torch.tensor(new_data).float().to(device)\n",
    "    SSL_embeddings = estim.model.inner_model(new_data_tensor).detach().cpu().numpy()\n",
    "new_adata = sc.read_h5ad(data_dir)\n",
    "new_adata.obsm[f'SSL_BT_FT_{random_seed}'] = SSL_embeddings\n",
    "new_adata.uns[f'BT_FT_y_test_{random_seed}'] = y_test\n",
    "new_adata.uns[f'BT_FT_predictions_{random_seed}'] = predictions\n",
    "new_adata.uns[f'BT_FT_target_names_{random_seed}'] = label_encoder.classes_\n",
    "new_adata.uns[f'BT_FT_train_loss_{random_seed}'] = train_losses\n",
    "new_adata.uns[f'BT_FT_val_loss_{random_seed}'] = val_losses\n",
    "new_adata.write_h5ad(data_dir)"
   ]
  },
  {
   "cell_type": "code",
   "execution_count": 19,
   "metadata": {
    "execution": {
     "iopub.execute_input": "2024-11-03T14:10:52.795020Z",
     "iopub.status.busy": "2024-11-03T14:10:52.794556Z",
     "iopub.status.idle": "2024-11-03T14:10:52.889682Z",
     "shell.execute_reply": "2024-11-03T14:10:52.888960Z"
    }
   },
   "outputs": [
    {
     "name": "stdout",
     "output_type": "stream",
     "text": [
      "Metrics Summary:\n",
      "init_train_loss\tinit_val_loss\tconverged_epoch\tconverged_val_loss\tmacro_f1\tweighted_f1\tmicor_f1\n",
      "1.045\t0.970\t72\t0.819\t0.588\t0.713\t0.716\n"
     ]
    }
   ],
   "source": [
    "\n",
    "import pandas as pd\n",
    "import os\n",
    "import re\n",
    "\n",
    "# 当前 Notebook 文件名\n",
    "notebook_name = \"imputed_Xenium_breast_cancer_sample1_replicate1_barlow_twins_fine_tune_42.ipynb\"\n",
    "\n",
    "# 初始化需要打印的值\n",
    "init_train_loss = train_losses[0] if 'train_losses' in globals() else None\n",
    "init_val_loss = val_losses[0] if 'val_losses' in globals() else None\n",
    "converged_epoch = len(train_losses) - patience if 'train_losses' in globals() else None\n",
    "converged_val_loss = best_val_loss if 'best_val_loss' in globals() else None\n",
    "\n",
    "# 打印所有所需的指标\n",
    "print(\"Metrics Summary:\")\n",
    "if 'train_losses' in globals():\n",
    "    print(f\"init_train_loss\\tinit_val_loss\\tconverged_epoch\\tconverged_val_loss\\tmacro_f1\\tweighted_f1\\tmicor_f1\")\n",
    "    print(f\"{init_train_loss:.3f}\\t{init_val_loss:.3f}\\t{converged_epoch}\\t{converged_val_loss:.3f}\\t{macro_f1:.3f}\\t{f1:.3f}\\t{accuracy:.3f}\")\n",
    "else:\n",
    "    print(f\"macro_f1\\tweighted_f1\\tmicor_f1\")\n",
    "    print(f\"{macro_f1:.3f}\\t{f1:.3f}\\t{accuracy:.3f}\")\n",
    "\n",
    "# 保存结果到 CSV 文件\n",
    "output_data = {\n",
    "    'dataset_split_random_seed': [int(random_seed)],\n",
    "    'dataset': ['imputed_xenium_breast_cancer_sample1_replicate1'],\n",
    "    'method': [re.search(r'replicate1_(.*?)_\\d+', notebook_name).group(1)],\n",
    "    'init_train_loss': [init_train_loss if init_train_loss is not None else ''],\n",
    "    'init_val_loss': [init_val_loss if init_val_loss is not None else ''],\n",
    "    'converged_epoch': [converged_epoch if converged_epoch is not None else ''],\n",
    "    'converged_val_loss': [converged_val_loss if converged_val_loss is not None else ''],\n",
    "    'macro_f1': [macro_f1],\n",
    "    'weighted_f1': [f1],\n",
    "    'micor_f1': [accuracy]\n",
    "}\n",
    "output_df = pd.DataFrame(output_data)\n",
    "\n",
    "# 保存到当前目录下名为 results 的文件夹中\n",
    "if not os.path.exists('results'):\n",
    "    os.makedirs('results')\n",
    "\n",
    "csv_filename = f\"results/{os.path.splitext(notebook_name)[0]}_results.csv\"\n",
    "output_df.to_csv(csv_filename, index=False)\n"
   ]
  }
 ],
 "metadata": {
  "kernelspec": {
   "display_name": "ssl",
   "language": "python",
   "name": "python3"
  },
  "language_info": {
   "codemirror_mode": {
    "name": "ipython",
    "version": 3
   },
   "file_extension": ".py",
   "mimetype": "text/x-python",
   "name": "python",
   "nbconvert_exporter": "python",
   "pygments_lexer": "ipython3",
   "version": "3.10.13"
  }
 },
 "nbformat": 4,
 "nbformat_minor": 2
}
