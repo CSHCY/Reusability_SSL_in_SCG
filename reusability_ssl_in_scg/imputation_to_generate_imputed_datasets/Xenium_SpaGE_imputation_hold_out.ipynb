{
 "cells": [
  {
   "cell_type": "code",
   "execution_count": 1,
   "metadata": {
    "execution": {
     "iopub.execute_input": "2025-04-26T15:37:07.224043Z",
     "iopub.status.busy": "2025-04-26T15:37:07.223914Z",
     "iopub.status.idle": "2025-04-26T16:14:41.610833Z",
     "shell.execute_reply": "2025-04-26T16:14:41.609737Z"
    }
   },
   "outputs": [
    {
     "name": "stderr",
     "output_type": "stream",
     "text": [
      "/home/hanchuangyi/miniconda3/envs/ssl/lib/python3.10/site-packages/anndata/_core/anndata.py:1756: UserWarning: Variable names are not unique. To make them unique, call `.var_names_make_unique`.\n",
      "  utils.warn_names_duplicates(\"var\")\n"
     ]
    },
    {
     "name": "stderr",
     "output_type": "stream",
     "text": [
      "/home/hanchuangyi/miniconda3/envs/ssl/lib/python3.10/site-packages/anndata/_core/anndata.py:1756: UserWarning: Variable names are not unique. To make them unique, call `.var_names_make_unique`.\n",
      "  utils.warn_names_duplicates(\"var\")\n"
     ]
    },
    {
     "name": "stderr",
     "output_type": "stream",
     "text": [
      "/home/hanchuangyi/miniconda3/envs/ssl/lib/python3.10/site-packages/scanpy/preprocessing/_normalization.py:234: UserWarning: Some cells have zero counts\n",
      "  warn(UserWarning(\"Some cells have zero counts\"))\n"
     ]
    },
    {
     "name": "stdout",
     "output_type": "stream",
     "text": [
      "重复的基因: Index(['TBCE', 'HSPA14', 'TMSB15B'], dtype='object')\n"
     ]
    },
    {
     "name": "stdout",
     "output_type": "stream",
     "text": [
      "NaN values in sc_df: 0\n",
      "NaN values in st_df: 0\n"
     ]
    },
    {
     "name": "stdout",
     "output_type": "stream",
     "text": [
      "After filling, NaN values in sc_df: 0\n",
      "After filling, NaN values in st_df: 0\n",
      "Stored ground truth for POSTN\n",
      "Stored ground truth for IL7R\n",
      "Stored ground truth for ITGAX\n",
      "Stored ground truth for ACTA2\n",
      "Stored ground truth for KRT15\n",
      "Stored ground truth for VWF\n",
      "Stored ground truth for FASN\n",
      "Stored ground truth for CEACAM6\n"
     ]
    },
    {
     "name": "stdout",
     "output_type": "stream",
     "text": [
      "Removed POSTN from spatial data for hold-out validation\n",
      "Removed IL7R from spatial data for hold-out validation\n",
      "Removed ITGAX from spatial data for hold-out validation\n",
      "Removed ACTA2 from spatial data for hold-out validation\n",
      "Removed KRT15 from spatial data for hold-out validation\n"
     ]
    },
    {
     "name": "stdout",
     "output_type": "stream",
     "text": [
      "Removed VWF from spatial data for hold-out validation\n",
      "Removed FASN from spatial data for hold-out validation\n",
      "Removed CEACAM6 from spatial data for hold-out validation\n",
      "Genes to predict:  ['A1CF' 'A2M' 'A2ML1' ... 'ZYG11B' 'ZYX' 'ZZEF1']\n"
     ]
    },
    {
     "name": "stdout",
     "output_type": "stream",
     "text": [
      "Spatial_data_scaled NaN values:  0\n"
     ]
    },
    {
     "name": "stdout",
     "output_type": "stream",
     "text": [
      "RNA_data_scaled NaN values:  11720890\n"
     ]
    },
    {
     "name": "stdout",
     "output_type": "stream",
     "text": [
      "Spatial_data_scaled NaN values after filling:  0\n"
     ]
    },
    {
     "name": "stdout",
     "output_type": "stream",
     "text": [
      "RNA_data_scaled NaN values after filling:  0\n",
      "Common_data NaN values:  0\n"
     ]
    },
    {
     "name": "stderr",
     "output_type": "stream",
     "text": [
      "/home/hanchuangyi/miniconda3/envs/ssl/lib/python3.10/site-packages/numpy/core/fromnumeric.py:3785: FutureWarning: The behavior of DataFrame.var with axis=None is deprecated, in a future version this will reduce over both axes and return a scalar. To retain the old behavior, pass axis=0 (or do not pass axis)\n",
      "  return var(axis=axis, dtype=dtype, out=out, ddof=ddof, **kwargs)\n",
      "/home/hanchuangyi/miniconda3/envs/ssl/lib/python3.10/site-packages/numpy/core/fromnumeric.py:3785: FutureWarning: The behavior of DataFrame.var with axis=None is deprecated, in a future version this will reduce over both axes and return a scalar. To retain the old behavior, pass axis=0 (or do not pass axis)\n",
      "  return var(axis=axis, dtype=dtype, out=out, ddof=ddof, **kwargs)\n"
     ]
    },
    {
     "name": "stdout",
     "output_type": "stream",
     "text": [
      "\n",
      "Evaluating imputation quality for hold-out genes:\n",
      "POSTN: Pearson correlation = 0.6982 (p-value: 0.0000e+00)\n"
     ]
    },
    {
     "name": "stdout",
     "output_type": "stream",
     "text": [
      "IL7R: Pearson correlation = 0.7130 (p-value: 0.0000e+00)\n",
      "ITGAX: Pearson correlation = 0.5150 (p-value: 0.0000e+00)\n"
     ]
    },
    {
     "name": "stdout",
     "output_type": "stream",
     "text": [
      "ACTA2: Pearson correlation = 0.5002 (p-value: 0.0000e+00)\n",
      "KRT15: Pearson correlation = 0.6288 (p-value: 0.0000e+00)\n"
     ]
    },
    {
     "name": "stdout",
     "output_type": "stream",
     "text": [
      "VWF: Pearson correlation = 0.7218 (p-value: 0.0000e+00)\n",
      "FASN: Pearson correlation = 0.7754 (p-value: 0.0000e+00)\n"
     ]
    },
    {
     "name": "stdout",
     "output_type": "stream",
     "text": [
      "CEACAM6: Pearson correlation = 0.5760 (p-value: 0.0000e+00)\n",
      "\n",
      "Average correlation across all hold-out genes: 0.6411\n",
      "Warning: Found 8 overlapping genes between original data and imputed genes.\n",
      "These genes will be taken from the original data.\n"
     ]
    },
    {
     "name": "stdout",
     "output_type": "stream",
     "text": [
      "Original data shape: (167780, 313)\n",
      "Imputed genes shape: (167780, 17780)\n",
      "Combined data shape: (167780, 18085)\n"
     ]
    },
    {
     "name": "stdout",
     "output_type": "stream",
     "text": [
      "Data type of combined_df:\n",
      "DataFrame dtype: float16    18085\n",
      "Name: count, dtype: int64\n"
     ]
    },
    {
     "name": "stdout",
     "output_type": "stream",
     "text": [
      "Memory usage: 6074.17 MB\n"
     ]
    },
    {
     "data": {
      "text/plain": [
       "array([ 955.5, 1002.5,  733. , ..., 1033. ,  999.5, 1024. ], dtype=float16)"
      ]
     },
     "execution_count": 1,
     "metadata": {},
     "output_type": "execute_result"
    }
   ],
   "source": [
    "from SpaGE.main import SpaGE\n",
    "import scanpy as sc\n",
    "import numpy as np\n",
    "import pandas as pd\n",
    "\n",
    "# Load data\n",
    "data_path = '../dataset/Chromium_FFPE_Human_Breast_Cancer_Chromium_FFPE_Human_Breast_Cancer_count_sample_filtered_feature_bc_matrix.h5'\n",
    "sc_data = sc.read_10x_h5(data_path)\n",
    "sc_data.X = sc_data.X.toarray()\n",
    "sc.pp.normalize_total(sc_data)\n",
    "sc.pp.log1p(sc_data)\n",
    "\n",
    "st_data_path = '../dataset/Xenium_breast_cancer_sample1_replicate1.h5ad'\n",
    "st_data = sc.read_h5ad(st_data_path)\n",
    "sc.pp.normalize_total(st_data)\n",
    "sc.pp.log1p(st_data)\n",
    "st_data\n",
    "\n",
    "# 检查 sc_data.var_names 是否有重复项\n",
    "duplicates = sc_data.var_names[sc_data.var_names.duplicated()]\n",
    "print(f\"重复的基因: {duplicates}\")\n",
    "# 删除 sc_data.var_names 中的重复基因\n",
    "sc_data = sc_data[:, ~sc_data.var_names.duplicated()]\n",
    "st_data.X = st_data.X.toarray()\n",
    "\n",
    "# Define hold-out genes for validation\n",
    "hold_out_genes = ['POSTN', 'IL7R', 'ITGAX', 'ACTA2', 'KRT15', 'VWF', 'FASN', 'CEACAM6']\n",
    "\n",
    "# Convert to dataframes\n",
    "sc_df = pd.DataFrame(sc_data.X, index=sc_data.obs.index, columns=sc_data.var.index)\n",
    "st_df = pd.DataFrame(st_data.X, index=st_data.obs.index, columns=st_data.var.index)\n",
    "\n",
    "# Check for NaN values in both dataframes\n",
    "print(\"NaN values in sc_df:\", sc_df.isna().sum().sum())\n",
    "print(\"NaN values in st_df:\", st_df.isna().sum().sum())\n",
    "\n",
    "# Fill NaN values with zeros if they exist\n",
    "if sc_df.isna().sum().sum() > 0:\n",
    "    print(\"Filling NaN values in sc_df with zeros\")\n",
    "    sc_df = sc_df.fillna(0)\n",
    "\n",
    "if st_df.isna().sum().sum() > 0:\n",
    "    print(\"Filling NaN values in st_df with zeros\")\n",
    "    st_df = st_df.fillna(0)\n",
    "\n",
    "# Verify no more NaNs exist\n",
    "print(\"After filling, NaN values in sc_df:\", sc_df.isna().sum().sum())\n",
    "print(\"After filling, NaN values in st_df:\", st_df.isna().sum().sum())\n",
    "\n",
    "# Store the ground truth values for hold-out genes before removing them\n",
    "ground_truth = {}\n",
    "for gene in hold_out_genes:\n",
    "    if gene in st_df.columns:\n",
    "        ground_truth[gene] = st_df[gene].copy()\n",
    "        print(f\"Stored ground truth for {gene}\")\n",
    "    else:\n",
    "        print(f\"Warning: {gene} not found in spatial data\")\n",
    "\n",
    "# Remove hold-out genes from spatial data\n",
    "st_df_holdout = st_df.copy()\n",
    "for gene in hold_out_genes:\n",
    "    if gene in st_df_holdout.columns:\n",
    "        st_df_holdout = st_df_holdout.drop(columns=[gene])\n",
    "        print(f\"Removed {gene} from spatial data for hold-out validation\")\n",
    "\n",
    "# Run SpaGE imputation with hold-out genes removed\n",
    "imputed_genes = SpaGE(Spatial_data=st_df_holdout, RNA_data=sc_df, n_pv=5)\n",
    "\n",
    "# Convert the index to string type and add 1 to each value\n",
    "imputed_genes.index = imputed_genes.index + 1\n",
    "imputed_genes.index = imputed_genes.index.astype(str)\n",
    "\n",
    "# Evaluate imputation quality for hold-out genes\n",
    "from scipy.stats import pearsonr\n",
    "print(\"\\nEvaluating imputation quality for hold-out genes:\")\n",
    "correlations = {}\n",
    "for gene in hold_out_genes:\n",
    "    if gene in imputed_genes.columns and gene in ground_truth:\n",
    "        corr, p_value = pearsonr(ground_truth[gene], imputed_genes[gene])\n",
    "        correlations[gene] = corr\n",
    "        print(f\"{gene}: Pearson correlation = {corr:.4f} (p-value: {p_value:.4e})\")\n",
    "    else:\n",
    "        print(f\"{gene}: Not available for evaluation\")\n",
    "\n",
    "# Calculate average correlation across all hold-out genes\n",
    "if correlations:\n",
    "    avg_corr = sum(correlations.values()) / len(correlations)\n",
    "    print(f\"\\nAverage correlation across all hold-out genes: {avg_corr:.4f}\")\n",
    "\n",
    "# Create a combined dataframe with both original and imputed genes\n",
    "# First, check if there are any overlapping genes between the original data and imputed genes\n",
    "overlapping_genes = np.intersect1d(st_df.columns, imputed_genes.columns)\n",
    "if len(overlapping_genes) > 0:\n",
    "    print(f\"Warning: Found {len(overlapping_genes)} overlapping genes between original data and imputed genes.\")\n",
    "    print(\"These genes will be taken from the original data.\")\n",
    "\n",
    "# Create a combined dataframe with both original and imputed genes\n",
    "# Use axis=1 to concatenate columns (genes) not rows\n",
    "combined_df = pd.concat([st_df, imputed_genes.loc[st_df.index]], axis=1)\n",
    "\n",
    "# If there are duplicated columns, keep the first occurrence (from original data)\n",
    "if combined_df.columns.duplicated().any():\n",
    "    combined_df = combined_df.loc[:, ~combined_df.columns.duplicated()]\n",
    "\n",
    "print(f\"Original data shape: {st_df.shape}\")\n",
    "print(f\"Imputed genes shape: {imputed_genes.shape}\")\n",
    "print(f\"Combined data shape: {combined_df.shape}\")\n",
    "\n",
    "# Verify that the row count matches the original data\n",
    "assert combined_df.shape[0] == st_df.shape[0], \"Row count mismatch after concatenation\"\n",
    "# Verify that the column count is the sum of unique genes\n",
    "assert combined_df.shape[1] == len(set(st_df.columns) | set(imputed_genes.columns)), \"Column count mismatch\"\n",
    "combined_df = combined_df.astype(np.float16)\n",
    "# Check the data type of combined_df\n",
    "print(\"Data type of combined_df:\")\n",
    "print(f\"DataFrame dtype: {combined_df.dtypes.value_counts()}\")\n",
    "print(f\"Memory usage: {combined_df.memory_usage().sum() / 1e6:.2f} MB\")\n",
    "\n",
    "# Create and save the imputed AnnData object\n",
    "original_st_data = sc.read_h5ad(st_data_path)\n",
    "imputed_st_data = sc.AnnData(X=combined_df, \n",
    "                             obs=original_st_data.obs,\n",
    "                             uns=original_st_data.uns\n",
    "                             )\n",
    "imputed_st_data.uns['COVET_genes'] = imputed_genes.columns.tolist()\n",
    "imputed_st_data.uns['hold_out_genes'] = hold_out_genes\n",
    "imputed_st_data.uns['hold_out_correlations'] = correlations\n",
    "imputed_st_data.write_h5ad('../dataset/SpaGE_imputed_Xenium_breast_cancer_sample1_replicate1_hold_out.h5ad')\n",
    "imputed_st_data.X.sum(axis=1)"
   ]
  }
 ],
 "metadata": {
  "kernelspec": {
   "display_name": "tangram",
   "language": "python",
   "name": "python3"
  },
  "language_info": {
   "codemirror_mode": {
    "name": "ipython",
    "version": 3
   },
   "file_extension": ".py",
   "mimetype": "text/x-python",
   "name": "python",
   "nbconvert_exporter": "python",
   "pygments_lexer": "ipython3",
   "version": "3.10.13"
  }
 },
 "nbformat": 4,
 "nbformat_minor": 2
}
