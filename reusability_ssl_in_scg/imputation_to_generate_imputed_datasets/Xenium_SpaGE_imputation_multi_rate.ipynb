{
 "cells": [
  {
   "cell_type": "code",
   "execution_count": 1,
   "metadata": {
    "execution": {
     "iopub.execute_input": "2025-04-15T08:35:52.014100Z",
     "iopub.status.busy": "2025-04-15T08:35:52.013948Z",
     "iopub.status.idle": "2025-04-15T17:06:44.392928Z",
     "shell.execute_reply": "2025-04-15T17:06:44.123842Z"
    }
   },
   "outputs": [
    {
     "name": "stderr",
     "output_type": "stream",
     "text": [
      "/home/hanchuangyi/miniconda3/envs/tangram/lib/python3.10/site-packages/anndata/_core/anndata.py:1758: UserWarning: Variable names are not unique. To make them unique, call `.var_names_make_unique`.\n",
      "  utils.warn_names_duplicates(\"var\")\n"
     ]
    },
    {
     "name": "stderr",
     "output_type": "stream",
     "text": [
      "/home/hanchuangyi/miniconda3/envs/tangram/lib/python3.10/site-packages/anndata/_core/anndata.py:1758: UserWarning: Variable names are not unique. To make them unique, call `.var_names_make_unique`.\n",
      "  utils.warn_names_duplicates(\"var\")\n"
     ]
    },
    {
     "name": "stdout",
     "output_type": "stream",
     "text": [
      "duplicated genes: Index(['TBCE', 'HSPA14', 'TMSB15B'], dtype='object')\n",
      "Number of shared genes: 307\n",
      "Processing discard rate: 0.2, run: 2/5\n"
     ]
    },
    {
     "name": "stdout",
     "output_type": "stream",
     "text": [
      "Discarded 61 genes out of 307 shared genes\n"
     ]
    },
    {
     "name": "stdout",
     "output_type": "stream",
     "text": [
      "Genes to predict:  ['A1CF' 'A2M' 'A2ML1' ... 'ZYG11B' 'ZYX' 'ZZEF1']\n"
     ]
    },
    {
     "name": "stdout",
     "output_type": "stream",
     "text": [
      "Spatial_data_scaled NaN values:  0\n"
     ]
    },
    {
     "name": "stdout",
     "output_type": "stream",
     "text": [
      "RNA_data_scaled NaN values:  11720890\n"
     ]
    },
    {
     "name": "stdout",
     "output_type": "stream",
     "text": [
      "Spatial_data_scaled NaN values after filling:  0\n"
     ]
    },
    {
     "name": "stdout",
     "output_type": "stream",
     "text": [
      "RNA_data_scaled NaN values after filling:  0\n",
      "Common_data NaN values:  0\n"
     ]
    },
    {
     "name": "stdout",
     "output_type": "stream",
     "text": [
      "Original data shape: (167780, 252)\n",
      "Imputed genes shape: (167780, 17833)\n",
      "Combined data shape: (167780, 18085)\n"
     ]
    },
    {
     "name": "stdout",
     "output_type": "stream",
     "text": [
      "Run 1 of 5 Saving to /mnt/data-node3/chuangyihan/ssl_in_scg_dataset/SpaGE_imputed/SpaGE_imputed_Xenium_breast_cancer_sample1_replicate1_0.2_random_genes_discarded_0.h5ad\n"
     ]
    },
    {
     "name": "stdout",
     "output_type": "stream",
     "text": [
      "Processing discard rate: 0.2, run: 3/5\n"
     ]
    },
    {
     "name": "stdout",
     "output_type": "stream",
     "text": [
      "Discarded 61 genes out of 307 shared genes\n"
     ]
    },
    {
     "name": "stdout",
     "output_type": "stream",
     "text": [
      "Genes to predict:  ['A1CF' 'A2M' 'A2ML1' ... 'ZYG11B' 'ZYX' 'ZZEF1']\n"
     ]
    },
    {
     "name": "stdout",
     "output_type": "stream",
     "text": [
      "Spatial_data_scaled NaN values:  0\n"
     ]
    },
    {
     "name": "stdout",
     "output_type": "stream",
     "text": [
      "RNA_data_scaled NaN values:  11720890\n"
     ]
    },
    {
     "name": "stdout",
     "output_type": "stream",
     "text": [
      "Spatial_data_scaled NaN values after filling:  0\n"
     ]
    },
    {
     "name": "stdout",
     "output_type": "stream",
     "text": [
      "RNA_data_scaled NaN values after filling:  0\n",
      "Common_data NaN values:  0\n"
     ]
    },
    {
     "name": "stdout",
     "output_type": "stream",
     "text": [
      "Original data shape: (167780, 252)\n",
      "Imputed genes shape: (167780, 17833)\n",
      "Combined data shape: (167780, 18085)\n"
     ]
    },
    {
     "name": "stdout",
     "output_type": "stream",
     "text": [
      "Run 2 of 5 Saving to /mnt/data-node3/chuangyihan/ssl_in_scg_dataset/SpaGE_imputed/SpaGE_imputed_Xenium_breast_cancer_sample1_replicate1_0.2_random_genes_discarded_1.h5ad\n"
     ]
    },
    {
     "name": "stdout",
     "output_type": "stream",
     "text": [
      "Processing discard rate: 0.2, run: 4/5\n"
     ]
    },
    {
     "name": "stdout",
     "output_type": "stream",
     "text": [
      "Discarded 61 genes out of 307 shared genes\n"
     ]
    },
    {
     "name": "stdout",
     "output_type": "stream",
     "text": [
      "Genes to predict:  ['A1CF' 'A2M' 'A2ML1' ... 'ZYG11B' 'ZYX' 'ZZEF1']\n"
     ]
    },
    {
     "name": "stdout",
     "output_type": "stream",
     "text": [
      "Spatial_data_scaled NaN values:  0\n"
     ]
    },
    {
     "name": "stdout",
     "output_type": "stream",
     "text": [
      "RNA_data_scaled NaN values:  11720890\n"
     ]
    },
    {
     "name": "stdout",
     "output_type": "stream",
     "text": [
      "Spatial_data_scaled NaN values after filling:  0\n"
     ]
    },
    {
     "name": "stdout",
     "output_type": "stream",
     "text": [
      "RNA_data_scaled NaN values after filling:  0\n",
      "Common_data NaN values:  0\n"
     ]
    },
    {
     "name": "stdout",
     "output_type": "stream",
     "text": [
      "Original data shape: (167780, 252)\n",
      "Imputed genes shape: (167780, 17833)\n",
      "Combined data shape: (167780, 18085)\n"
     ]
    },
    {
     "name": "stdout",
     "output_type": "stream",
     "text": [
      "Run 3 of 5 Saving to /mnt/data-node3/chuangyihan/ssl_in_scg_dataset/SpaGE_imputed/SpaGE_imputed_Xenium_breast_cancer_sample1_replicate1_0.2_random_genes_discarded_2.h5ad\n"
     ]
    },
    {
     "name": "stdout",
     "output_type": "stream",
     "text": [
      "Processing discard rate: 0.2, run: 5/5\n"
     ]
    },
    {
     "name": "stdout",
     "output_type": "stream",
     "text": [
      "Discarded 61 genes out of 307 shared genes\n"
     ]
    },
    {
     "name": "stdout",
     "output_type": "stream",
     "text": [
      "Genes to predict:  ['A1CF' 'A2M' 'A2ML1' ... 'ZYG11B' 'ZYX' 'ZZEF1']\n"
     ]
    },
    {
     "name": "stdout",
     "output_type": "stream",
     "text": [
      "Spatial_data_scaled NaN values:  0\n"
     ]
    },
    {
     "name": "stdout",
     "output_type": "stream",
     "text": [
      "RNA_data_scaled NaN values:  11720890\n"
     ]
    },
    {
     "name": "stdout",
     "output_type": "stream",
     "text": [
      "Spatial_data_scaled NaN values after filling:  0\n"
     ]
    },
    {
     "name": "stdout",
     "output_type": "stream",
     "text": [
      "RNA_data_scaled NaN values after filling:  0\n",
      "Common_data NaN values:  0\n"
     ]
    },
    {
     "name": "stdout",
     "output_type": "stream",
     "text": [
      "Original data shape: (167780, 252)\n",
      "Imputed genes shape: (167780, 17833)\n",
      "Combined data shape: (167780, 18085)\n"
     ]
    },
    {
     "name": "stdout",
     "output_type": "stream",
     "text": [
      "Run 4 of 5 Saving to /mnt/data-node3/chuangyihan/ssl_in_scg_dataset/SpaGE_imputed/SpaGE_imputed_Xenium_breast_cancer_sample1_replicate1_0.2_random_genes_discarded_3.h5ad\n"
     ]
    },
    {
     "name": "stdout",
     "output_type": "stream",
     "text": [
      "Processing discard rate: 0.2, run: 6/5\n"
     ]
    },
    {
     "name": "stdout",
     "output_type": "stream",
     "text": [
      "Discarded 61 genes out of 307 shared genes\n"
     ]
    },
    {
     "name": "stdout",
     "output_type": "stream",
     "text": [
      "Genes to predict:  ['A1CF' 'A2M' 'A2ML1' ... 'ZYG11B' 'ZYX' 'ZZEF1']\n"
     ]
    },
    {
     "name": "stdout",
     "output_type": "stream",
     "text": [
      "Spatial_data_scaled NaN values:  0\n"
     ]
    },
    {
     "name": "stdout",
     "output_type": "stream",
     "text": [
      "RNA_data_scaled NaN values:  11720890\n"
     ]
    },
    {
     "name": "stdout",
     "output_type": "stream",
     "text": [
      "Spatial_data_scaled NaN values after filling:  0\n"
     ]
    },
    {
     "name": "stdout",
     "output_type": "stream",
     "text": [
      "RNA_data_scaled NaN values after filling:  0\n",
      "Common_data NaN values:  0\n"
     ]
    },
    {
     "name": "stdout",
     "output_type": "stream",
     "text": [
      "Original data shape: (167780, 252)\n",
      "Imputed genes shape: (167780, 17833)\n",
      "Combined data shape: (167780, 18085)\n"
     ]
    },
    {
     "name": "stdout",
     "output_type": "stream",
     "text": [
      "Run 5 of 5 Saving to /mnt/data-node3/chuangyihan/ssl_in_scg_dataset/SpaGE_imputed/SpaGE_imputed_Xenium_breast_cancer_sample1_replicate1_0.2_random_genes_discarded_4.h5ad\n"
     ]
    },
    {
     "name": "stdout",
     "output_type": "stream",
     "text": [
      "Processing discard rate: 0.4, run: 2/5\n"
     ]
    },
    {
     "name": "stdout",
     "output_type": "stream",
     "text": [
      "Discarded 122 genes out of 307 shared genes\n"
     ]
    },
    {
     "name": "stdout",
     "output_type": "stream",
     "text": [
      "Genes to predict:  ['A1CF' 'A2M' 'A2ML1' ... 'ZYG11B' 'ZYX' 'ZZEF1']\n"
     ]
    },
    {
     "name": "stdout",
     "output_type": "stream",
     "text": [
      "Spatial_data_scaled NaN values:  0\n"
     ]
    },
    {
     "name": "stdout",
     "output_type": "stream",
     "text": [
      "RNA_data_scaled NaN values:  11720890\n"
     ]
    },
    {
     "name": "stdout",
     "output_type": "stream",
     "text": [
      "Spatial_data_scaled NaN values after filling:  0\n"
     ]
    },
    {
     "name": "stdout",
     "output_type": "stream",
     "text": [
      "RNA_data_scaled NaN values after filling:  0\n",
      "Common_data NaN values:  0\n"
     ]
    },
    {
     "name": "stdout",
     "output_type": "stream",
     "text": [
      "Original data shape: (167780, 191)\n",
      "Imputed genes shape: (167780, 17894)\n",
      "Combined data shape: (167780, 18085)\n"
     ]
    },
    {
     "name": "stdout",
     "output_type": "stream",
     "text": [
      "Run 1 of 5 Saving to /mnt/data-node3/chuangyihan/ssl_in_scg_dataset/SpaGE_imputed/SpaGE_imputed_Xenium_breast_cancer_sample1_replicate1_0.4_random_genes_discarded_0.h5ad\n"
     ]
    },
    {
     "name": "stdout",
     "output_type": "stream",
     "text": [
      "Processing discard rate: 0.4, run: 3/5\n"
     ]
    },
    {
     "name": "stdout",
     "output_type": "stream",
     "text": [
      "Discarded 122 genes out of 307 shared genes\n"
     ]
    },
    {
     "name": "stdout",
     "output_type": "stream",
     "text": [
      "Genes to predict:  ['A1CF' 'A2M' 'A2ML1' ... 'ZYG11B' 'ZYX' 'ZZEF1']\n"
     ]
    },
    {
     "name": "stdout",
     "output_type": "stream",
     "text": [
      "Spatial_data_scaled NaN values:  0\n"
     ]
    },
    {
     "name": "stdout",
     "output_type": "stream",
     "text": [
      "RNA_data_scaled NaN values:  11720890\n"
     ]
    },
    {
     "name": "stdout",
     "output_type": "stream",
     "text": [
      "Spatial_data_scaled NaN values after filling:  0\n"
     ]
    },
    {
     "name": "stdout",
     "output_type": "stream",
     "text": [
      "RNA_data_scaled NaN values after filling:  0\n",
      "Common_data NaN values:  0\n"
     ]
    },
    {
     "name": "stdout",
     "output_type": "stream",
     "text": [
      "Original data shape: (167780, 191)\n",
      "Imputed genes shape: (167780, 17894)\n",
      "Combined data shape: (167780, 18085)\n"
     ]
    },
    {
     "name": "stdout",
     "output_type": "stream",
     "text": [
      "Run 2 of 5 Saving to /mnt/data-node3/chuangyihan/ssl_in_scg_dataset/SpaGE_imputed/SpaGE_imputed_Xenium_breast_cancer_sample1_replicate1_0.4_random_genes_discarded_1.h5ad\n"
     ]
    },
    {
     "name": "stdout",
     "output_type": "stream",
     "text": [
      "Processing discard rate: 0.4, run: 4/5\n"
     ]
    },
    {
     "name": "stdout",
     "output_type": "stream",
     "text": [
      "Discarded 122 genes out of 307 shared genes\n"
     ]
    },
    {
     "name": "stdout",
     "output_type": "stream",
     "text": [
      "Genes to predict:  ['A1CF' 'A2M' 'A2ML1' ... 'ZYG11B' 'ZYX' 'ZZEF1']\n"
     ]
    },
    {
     "name": "stdout",
     "output_type": "stream",
     "text": [
      "Spatial_data_scaled NaN values:  0\n"
     ]
    },
    {
     "name": "stdout",
     "output_type": "stream",
     "text": [
      "RNA_data_scaled NaN values:  11720890\n"
     ]
    },
    {
     "name": "stdout",
     "output_type": "stream",
     "text": [
      "Spatial_data_scaled NaN values after filling:  0\n"
     ]
    },
    {
     "name": "stdout",
     "output_type": "stream",
     "text": [
      "RNA_data_scaled NaN values after filling:  0\n",
      "Common_data NaN values:  0\n"
     ]
    },
    {
     "name": "stdout",
     "output_type": "stream",
     "text": [
      "Original data shape: (167780, 191)\n",
      "Imputed genes shape: (167780, 17894)\n",
      "Combined data shape: (167780, 18085)\n"
     ]
    },
    {
     "name": "stdout",
     "output_type": "stream",
     "text": [
      "Run 3 of 5 Saving to /mnt/data-node3/chuangyihan/ssl_in_scg_dataset/SpaGE_imputed/SpaGE_imputed_Xenium_breast_cancer_sample1_replicate1_0.4_random_genes_discarded_2.h5ad\n"
     ]
    },
    {
     "name": "stdout",
     "output_type": "stream",
     "text": [
      "Processing discard rate: 0.4, run: 5/5\n"
     ]
    },
    {
     "name": "stdout",
     "output_type": "stream",
     "text": [
      "Discarded 122 genes out of 307 shared genes\n"
     ]
    },
    {
     "name": "stdout",
     "output_type": "stream",
     "text": [
      "Genes to predict:  ['A1CF' 'A2M' 'A2ML1' ... 'ZYG11B' 'ZYX' 'ZZEF1']\n"
     ]
    },
    {
     "name": "stdout",
     "output_type": "stream",
     "text": [
      "Spatial_data_scaled NaN values:  0\n"
     ]
    },
    {
     "name": "stdout",
     "output_type": "stream",
     "text": [
      "RNA_data_scaled NaN values:  11720890\n"
     ]
    },
    {
     "name": "stdout",
     "output_type": "stream",
     "text": [
      "Spatial_data_scaled NaN values after filling:  0\n"
     ]
    },
    {
     "name": "stdout",
     "output_type": "stream",
     "text": [
      "RNA_data_scaled NaN values after filling:  0\n",
      "Common_data NaN values:  0\n"
     ]
    },
    {
     "name": "stdout",
     "output_type": "stream",
     "text": [
      "Original data shape: (167780, 191)\n",
      "Imputed genes shape: (167780, 17894)\n",
      "Combined data shape: (167780, 18085)\n"
     ]
    },
    {
     "name": "stdout",
     "output_type": "stream",
     "text": [
      "Run 4 of 5 Saving to /mnt/data-node3/chuangyihan/ssl_in_scg_dataset/SpaGE_imputed/SpaGE_imputed_Xenium_breast_cancer_sample1_replicate1_0.4_random_genes_discarded_3.h5ad\n"
     ]
    },
    {
     "name": "stdout",
     "output_type": "stream",
     "text": [
      "Processing discard rate: 0.4, run: 6/5\n"
     ]
    },
    {
     "name": "stdout",
     "output_type": "stream",
     "text": [
      "Discarded 122 genes out of 307 shared genes\n"
     ]
    },
    {
     "name": "stdout",
     "output_type": "stream",
     "text": [
      "Genes to predict:  ['A1CF' 'A2M' 'A2ML1' ... 'ZYG11B' 'ZYX' 'ZZEF1']\n"
     ]
    },
    {
     "name": "stdout",
     "output_type": "stream",
     "text": [
      "Spatial_data_scaled NaN values:  0\n"
     ]
    },
    {
     "name": "stdout",
     "output_type": "stream",
     "text": [
      "RNA_data_scaled NaN values:  11720890\n"
     ]
    },
    {
     "name": "stdout",
     "output_type": "stream",
     "text": [
      "Spatial_data_scaled NaN values after filling:  0\n"
     ]
    },
    {
     "name": "stdout",
     "output_type": "stream",
     "text": [
      "RNA_data_scaled NaN values after filling:  0\n",
      "Common_data NaN values:  0\n"
     ]
    },
    {
     "name": "stdout",
     "output_type": "stream",
     "text": [
      "Original data shape: (167780, 191)\n",
      "Imputed genes shape: (167780, 17894)\n",
      "Combined data shape: (167780, 18085)\n"
     ]
    },
    {
     "name": "stdout",
     "output_type": "stream",
     "text": [
      "Run 5 of 5 Saving to /mnt/data-node3/chuangyihan/ssl_in_scg_dataset/SpaGE_imputed/SpaGE_imputed_Xenium_breast_cancer_sample1_replicate1_0.4_random_genes_discarded_4.h5ad\n"
     ]
    },
    {
     "name": "stdout",
     "output_type": "stream",
     "text": [
      "Processing discard rate: 0.6, run: 2/5\n"
     ]
    },
    {
     "name": "stdout",
     "output_type": "stream",
     "text": [
      "Discarded 184 genes out of 307 shared genes\n"
     ]
    },
    {
     "name": "stdout",
     "output_type": "stream",
     "text": [
      "Genes to predict:  ['A1CF' 'A2M' 'A2ML1' ... 'ZYG11B' 'ZYX' 'ZZEF1']\n"
     ]
    },
    {
     "name": "stdout",
     "output_type": "stream",
     "text": [
      "Spatial_data_scaled NaN values:  0\n"
     ]
    },
    {
     "name": "stdout",
     "output_type": "stream",
     "text": [
      "RNA_data_scaled NaN values:  11720890\n"
     ]
    },
    {
     "name": "stdout",
     "output_type": "stream",
     "text": [
      "Spatial_data_scaled NaN values after filling:  0\n"
     ]
    },
    {
     "name": "stdout",
     "output_type": "stream",
     "text": [
      "RNA_data_scaled NaN values after filling:  0\n",
      "Common_data NaN values:  0\n"
     ]
    },
    {
     "name": "stdout",
     "output_type": "stream",
     "text": [
      "Original data shape: (167780, 129)\n",
      "Imputed genes shape: (167780, 17956)\n",
      "Combined data shape: (167780, 18085)\n"
     ]
    },
    {
     "name": "stdout",
     "output_type": "stream",
     "text": [
      "Run 1 of 5 Saving to /mnt/data-node3/chuangyihan/ssl_in_scg_dataset/SpaGE_imputed/SpaGE_imputed_Xenium_breast_cancer_sample1_replicate1_0.6_random_genes_discarded_0.h5ad\n"
     ]
    },
    {
     "name": "stdout",
     "output_type": "stream",
     "text": [
      "Processing discard rate: 0.6, run: 3/5\n"
     ]
    },
    {
     "name": "stdout",
     "output_type": "stream",
     "text": [
      "Discarded 184 genes out of 307 shared genes\n"
     ]
    },
    {
     "name": "stdout",
     "output_type": "stream",
     "text": [
      "Genes to predict:  ['A1CF' 'A2M' 'A2ML1' ... 'ZYG11B' 'ZYX' 'ZZEF1']\n"
     ]
    },
    {
     "name": "stdout",
     "output_type": "stream",
     "text": [
      "Spatial_data_scaled NaN values:  0\n"
     ]
    },
    {
     "name": "stdout",
     "output_type": "stream",
     "text": [
      "RNA_data_scaled NaN values:  11720890\n"
     ]
    },
    {
     "name": "stdout",
     "output_type": "stream",
     "text": [
      "Spatial_data_scaled NaN values after filling:  0\n"
     ]
    },
    {
     "name": "stdout",
     "output_type": "stream",
     "text": [
      "RNA_data_scaled NaN values after filling:  0\n",
      "Common_data NaN values:  0\n"
     ]
    },
    {
     "name": "stdout",
     "output_type": "stream",
     "text": [
      "Original data shape: (167780, 129)\n",
      "Imputed genes shape: (167780, 17956)\n",
      "Combined data shape: (167780, 18085)\n"
     ]
    },
    {
     "name": "stdout",
     "output_type": "stream",
     "text": [
      "Run 2 of 5 Saving to /mnt/data-node3/chuangyihan/ssl_in_scg_dataset/SpaGE_imputed/SpaGE_imputed_Xenium_breast_cancer_sample1_replicate1_0.6_random_genes_discarded_1.h5ad\n"
     ]
    },
    {
     "name": "stdout",
     "output_type": "stream",
     "text": [
      "Processing discard rate: 0.6, run: 4/5\n"
     ]
    },
    {
     "name": "stdout",
     "output_type": "stream",
     "text": [
      "Discarded 184 genes out of 307 shared genes\n"
     ]
    },
    {
     "name": "stdout",
     "output_type": "stream",
     "text": [
      "Genes to predict:  ['A1CF' 'A2M' 'A2ML1' ... 'ZYG11B' 'ZYX' 'ZZEF1']\n"
     ]
    },
    {
     "name": "stdout",
     "output_type": "stream",
     "text": [
      "Spatial_data_scaled NaN values:  0\n"
     ]
    },
    {
     "name": "stdout",
     "output_type": "stream",
     "text": [
      "RNA_data_scaled NaN values:  11720890\n"
     ]
    },
    {
     "name": "stdout",
     "output_type": "stream",
     "text": [
      "Spatial_data_scaled NaN values after filling:  0\n"
     ]
    },
    {
     "name": "stdout",
     "output_type": "stream",
     "text": [
      "RNA_data_scaled NaN values after filling:  0\n",
      "Common_data NaN values:  0\n"
     ]
    },
    {
     "name": "stdout",
     "output_type": "stream",
     "text": [
      "Original data shape: (167780, 129)\n",
      "Imputed genes shape: (167780, 17956)\n",
      "Combined data shape: (167780, 18085)\n"
     ]
    },
    {
     "name": "stdout",
     "output_type": "stream",
     "text": [
      "Run 3 of 5 Saving to /mnt/data-node3/chuangyihan/ssl_in_scg_dataset/SpaGE_imputed/SpaGE_imputed_Xenium_breast_cancer_sample1_replicate1_0.6_random_genes_discarded_2.h5ad\n"
     ]
    },
    {
     "name": "stdout",
     "output_type": "stream",
     "text": [
      "Processing discard rate: 0.6, run: 5/5\n"
     ]
    },
    {
     "name": "stdout",
     "output_type": "stream",
     "text": [
      "Discarded 184 genes out of 307 shared genes\n"
     ]
    },
    {
     "name": "stdout",
     "output_type": "stream",
     "text": [
      "Genes to predict:  ['A1CF' 'A2M' 'A2ML1' ... 'ZYG11B' 'ZYX' 'ZZEF1']\n"
     ]
    },
    {
     "name": "stdout",
     "output_type": "stream",
     "text": [
      "Spatial_data_scaled NaN values:  0\n"
     ]
    },
    {
     "name": "stdout",
     "output_type": "stream",
     "text": [
      "RNA_data_scaled NaN values:  11720890\n"
     ]
    },
    {
     "name": "stdout",
     "output_type": "stream",
     "text": [
      "Spatial_data_scaled NaN values after filling:  0\n"
     ]
    },
    {
     "name": "stdout",
     "output_type": "stream",
     "text": [
      "RNA_data_scaled NaN values after filling:  0\n",
      "Common_data NaN values:  0\n"
     ]
    },
    {
     "name": "stdout",
     "output_type": "stream",
     "text": [
      "Original data shape: (167780, 129)\n",
      "Imputed genes shape: (167780, 17956)\n",
      "Combined data shape: (167780, 18085)\n"
     ]
    },
    {
     "name": "stdout",
     "output_type": "stream",
     "text": [
      "Run 4 of 5 Saving to /mnt/data-node3/chuangyihan/ssl_in_scg_dataset/SpaGE_imputed/SpaGE_imputed_Xenium_breast_cancer_sample1_replicate1_0.6_random_genes_discarded_3.h5ad\n"
     ]
    },
    {
     "name": "stdout",
     "output_type": "stream",
     "text": [
      "Processing discard rate: 0.6, run: 6/5\n"
     ]
    },
    {
     "name": "stdout",
     "output_type": "stream",
     "text": [
      "Discarded 184 genes out of 307 shared genes\n"
     ]
    },
    {
     "name": "stdout",
     "output_type": "stream",
     "text": [
      "Genes to predict:  ['A1CF' 'A2M' 'A2ML1' ... 'ZYG11B' 'ZYX' 'ZZEF1']\n"
     ]
    },
    {
     "name": "stdout",
     "output_type": "stream",
     "text": [
      "Spatial_data_scaled NaN values:  0\n"
     ]
    },
    {
     "name": "stdout",
     "output_type": "stream",
     "text": [
      "RNA_data_scaled NaN values:  11720890\n"
     ]
    },
    {
     "name": "stdout",
     "output_type": "stream",
     "text": [
      "Spatial_data_scaled NaN values after filling:  0\n"
     ]
    },
    {
     "name": "stdout",
     "output_type": "stream",
     "text": [
      "RNA_data_scaled NaN values after filling:  0\n",
      "Common_data NaN values:  0\n"
     ]
    },
    {
     "name": "stdout",
     "output_type": "stream",
     "text": [
      "Original data shape: (167780, 129)\n",
      "Imputed genes shape: (167780, 17956)\n",
      "Combined data shape: (167780, 18085)\n"
     ]
    },
    {
     "name": "stdout",
     "output_type": "stream",
     "text": [
      "Run 5 of 5 Saving to /mnt/data-node3/chuangyihan/ssl_in_scg_dataset/SpaGE_imputed/SpaGE_imputed_Xenium_breast_cancer_sample1_replicate1_0.6_random_genes_discarded_4.h5ad\n"
     ]
    },
    {
     "name": "stdout",
     "output_type": "stream",
     "text": [
      "Processing discard rate: 0.8, run: 2/5\n"
     ]
    },
    {
     "name": "stdout",
     "output_type": "stream",
     "text": [
      "Discarded 245 genes out of 307 shared genes\n"
     ]
    },
    {
     "name": "stdout",
     "output_type": "stream",
     "text": [
      "Genes to predict:  ['A1CF' 'A2M' 'A2ML1' ... 'ZYG11B' 'ZYX' 'ZZEF1']\n"
     ]
    },
    {
     "name": "stdout",
     "output_type": "stream",
     "text": [
      "Spatial_data_scaled NaN values:  0\n"
     ]
    },
    {
     "name": "stdout",
     "output_type": "stream",
     "text": [
      "RNA_data_scaled NaN values:  11720890\n"
     ]
    },
    {
     "name": "stdout",
     "output_type": "stream",
     "text": [
      "Spatial_data_scaled NaN values after filling:  0\n"
     ]
    },
    {
     "name": "stdout",
     "output_type": "stream",
     "text": [
      "RNA_data_scaled NaN values after filling:  0\n",
      "Common_data NaN values:  0\n"
     ]
    },
    {
     "name": "stdout",
     "output_type": "stream",
     "text": [
      "Original data shape: (167780, 68)\n",
      "Imputed genes shape: (167780, 18017)\n",
      "Combined data shape: (167780, 18085)\n"
     ]
    },
    {
     "name": "stdout",
     "output_type": "stream",
     "text": [
      "Run 1 of 5 Saving to /mnt/data-node3/chuangyihan/ssl_in_scg_dataset/SpaGE_imputed/SpaGE_imputed_Xenium_breast_cancer_sample1_replicate1_0.8_random_genes_discarded_0.h5ad\n"
     ]
    },
    {
     "name": "stdout",
     "output_type": "stream",
     "text": [
      "Processing discard rate: 0.8, run: 3/5\n"
     ]
    },
    {
     "name": "stdout",
     "output_type": "stream",
     "text": [
      "Discarded 245 genes out of 307 shared genes\n"
     ]
    },
    {
     "name": "stdout",
     "output_type": "stream",
     "text": [
      "Genes to predict:  ['A1CF' 'A2M' 'A2ML1' ... 'ZYG11B' 'ZYX' 'ZZEF1']\n"
     ]
    },
    {
     "name": "stdout",
     "output_type": "stream",
     "text": [
      "Spatial_data_scaled NaN values:  0\n"
     ]
    },
    {
     "name": "stdout",
     "output_type": "stream",
     "text": [
      "RNA_data_scaled NaN values:  11720890\n"
     ]
    },
    {
     "name": "stdout",
     "output_type": "stream",
     "text": [
      "Spatial_data_scaled NaN values after filling:  0\n"
     ]
    },
    {
     "name": "stdout",
     "output_type": "stream",
     "text": [
      "RNA_data_scaled NaN values after filling:  0\n",
      "Common_data NaN values:  0\n"
     ]
    },
    {
     "name": "stdout",
     "output_type": "stream",
     "text": [
      "Original data shape: (167780, 68)\n",
      "Imputed genes shape: (167780, 18017)\n",
      "Combined data shape: (167780, 18085)\n"
     ]
    },
    {
     "name": "stdout",
     "output_type": "stream",
     "text": [
      "Run 2 of 5 Saving to /mnt/data-node3/chuangyihan/ssl_in_scg_dataset/SpaGE_imputed/SpaGE_imputed_Xenium_breast_cancer_sample1_replicate1_0.8_random_genes_discarded_1.h5ad\n"
     ]
    },
    {
     "name": "stdout",
     "output_type": "stream",
     "text": [
      "Processing discard rate: 0.8, run: 4/5\n"
     ]
    },
    {
     "name": "stdout",
     "output_type": "stream",
     "text": [
      "Discarded 245 genes out of 307 shared genes\n"
     ]
    },
    {
     "name": "stdout",
     "output_type": "stream",
     "text": [
      "Genes to predict:  ['A1CF' 'A2M' 'A2ML1' ... 'ZYG11B' 'ZYX' 'ZZEF1']\n"
     ]
    },
    {
     "name": "stdout",
     "output_type": "stream",
     "text": [
      "Spatial_data_scaled NaN values:  0\n"
     ]
    },
    {
     "name": "stdout",
     "output_type": "stream",
     "text": [
      "RNA_data_scaled NaN values:  11720890\n"
     ]
    },
    {
     "name": "stdout",
     "output_type": "stream",
     "text": [
      "Spatial_data_scaled NaN values after filling:  0\n"
     ]
    },
    {
     "name": "stdout",
     "output_type": "stream",
     "text": [
      "RNA_data_scaled NaN values after filling:  0\n",
      "Common_data NaN values:  0\n"
     ]
    },
    {
     "name": "stdout",
     "output_type": "stream",
     "text": [
      "Original data shape: (167780, 68)\n",
      "Imputed genes shape: (167780, 18017)\n",
      "Combined data shape: (167780, 18085)\n"
     ]
    },
    {
     "name": "stdout",
     "output_type": "stream",
     "text": [
      "Run 3 of 5 Saving to /mnt/data-node3/chuangyihan/ssl_in_scg_dataset/SpaGE_imputed/SpaGE_imputed_Xenium_breast_cancer_sample1_replicate1_0.8_random_genes_discarded_2.h5ad\n"
     ]
    },
    {
     "name": "stdout",
     "output_type": "stream",
     "text": [
      "Processing discard rate: 0.8, run: 5/5\n"
     ]
    },
    {
     "name": "stdout",
     "output_type": "stream",
     "text": [
      "Discarded 245 genes out of 307 shared genes\n"
     ]
    },
    {
     "name": "stdout",
     "output_type": "stream",
     "text": [
      "Genes to predict:  ['A1CF' 'A2M' 'A2ML1' ... 'ZYG11B' 'ZYX' 'ZZEF1']\n"
     ]
    },
    {
     "name": "stdout",
     "output_type": "stream",
     "text": [
      "Spatial_data_scaled NaN values:  0\n"
     ]
    },
    {
     "name": "stdout",
     "output_type": "stream",
     "text": [
      "RNA_data_scaled NaN values:  11720890\n"
     ]
    },
    {
     "name": "stdout",
     "output_type": "stream",
     "text": [
      "Spatial_data_scaled NaN values after filling:  0\n"
     ]
    },
    {
     "name": "stdout",
     "output_type": "stream",
     "text": [
      "RNA_data_scaled NaN values after filling:  0\n",
      "Common_data NaN values:  0\n"
     ]
    },
    {
     "name": "stdout",
     "output_type": "stream",
     "text": [
      "Original data shape: (167780, 68)\n",
      "Imputed genes shape: (167780, 18017)\n",
      "Combined data shape: (167780, 18085)\n"
     ]
    },
    {
     "name": "stdout",
     "output_type": "stream",
     "text": [
      "Run 4 of 5 Saving to /mnt/data-node3/chuangyihan/ssl_in_scg_dataset/SpaGE_imputed/SpaGE_imputed_Xenium_breast_cancer_sample1_replicate1_0.8_random_genes_discarded_3.h5ad\n"
     ]
    },
    {
     "name": "stdout",
     "output_type": "stream",
     "text": [
      "Processing discard rate: 0.8, run: 6/5\n"
     ]
    },
    {
     "name": "stdout",
     "output_type": "stream",
     "text": [
      "Discarded 245 genes out of 307 shared genes\n"
     ]
    },
    {
     "name": "stdout",
     "output_type": "stream",
     "text": [
      "Genes to predict:  ['A1CF' 'A2M' 'A2ML1' ... 'ZYG11B' 'ZYX' 'ZZEF1']\n"
     ]
    },
    {
     "name": "stdout",
     "output_type": "stream",
     "text": [
      "Spatial_data_scaled NaN values:  0\n"
     ]
    },
    {
     "name": "stdout",
     "output_type": "stream",
     "text": [
      "RNA_data_scaled NaN values:  11720890\n"
     ]
    },
    {
     "name": "stdout",
     "output_type": "stream",
     "text": [
      "Spatial_data_scaled NaN values after filling:  0\n"
     ]
    },
    {
     "name": "stdout",
     "output_type": "stream",
     "text": [
      "RNA_data_scaled NaN values after filling:  0\n",
      "Common_data NaN values:  0\n"
     ]
    },
    {
     "name": "stdout",
     "output_type": "stream",
     "text": [
      "Original data shape: (167780, 68)\n",
      "Imputed genes shape: (167780, 18017)\n",
      "Combined data shape: (167780, 18085)\n"
     ]
    },
    {
     "name": "stdout",
     "output_type": "stream",
     "text": [
      "Run 5 of 5 Saving to /mnt/data-node3/chuangyihan/ssl_in_scg_dataset/SpaGE_imputed/SpaGE_imputed_Xenium_breast_cancer_sample1_replicate1_0.8_random_genes_discarded_4.h5ad\n"
     ]
    }
   ],
   "source": [
    "from SpaGE.main import SpaGE\n",
    "import scanpy as sc\n",
    "import numpy as np\n",
    "import os\n",
    "import random\n",
    "import pandas as pd\n",
    "os.environ[\"CUDA_DEVICE_ORDER\"]=\"PCI_BUS_ID\"\n",
    "os.environ[\"CUDA_VISIBLE_DEVICES\"]=\"0\" # Change to -1 if you want to use CPU!\n",
    "\n",
    "\n",
    "sc_data_path = '../dataset/Chromium_FFPE_Human_Breast_Cancer_Chromium_FFPE_Human_Breast_Cancer_count_sample_filtered_feature_bc_matrix.h5'\n",
    "sc_data = sc.read_10x_h5(sc_data_path)\n",
    "sc_data.X = sc_data.X.toarray()\n",
    "st_data_path = '../dataset/Xenium_breast_cancer_sample1_replicate1.h5ad'\n",
    "original_st_data = sc.read_h5ad(st_data_path)\n",
    "# 检查 sc_data.var_names 是否有重复项\n",
    "duplicates = sc_data.var_names[sc_data.var_names.duplicated()]\n",
    "print(f\"duplicated genes: {duplicates}\")\n",
    "# 删除 sc_data.var_names 中的重复基因\n",
    "sc_data = sc_data[:, ~sc_data.var_names.duplicated()]\n",
    "\n",
    "# Get shared genes between sc_data and original spatial data\n",
    "shared_genes = sc_data.var_names.intersection(original_st_data.var_names)\n",
    "print(f\"Number of shared genes: {len(shared_genes)}\")\n",
    "\n",
    "# Define discard rates\n",
    "discard_rates = [0.2, 0.4, 0.6, 0.8]\n",
    "num_runs = 5\n",
    "\n",
    "import warnings\n",
    "warnings.filterwarnings('ignore')\n",
    "\n",
    "# Loop through each discard rate and run 5 times with different random seeds\n",
    "for discard_rate in discard_rates:\n",
    "    for run_index in range(num_runs):\n",
    "        print(f\"Processing discard rate: {discard_rate}, run: {run_index+2}/{num_runs}\")\n",
    "        \n",
    "        sc_data_run = sc.read_10x_h5(sc_data_path)\n",
    "        sc_data_run.X = sc_data_run.X.toarray()\n",
    "        sc_data_run = sc_data_run[:, ~sc_data_run.var_names.duplicated()]\n",
    "        \n",
    "        # Create a copy of the original spatial data\n",
    "        st_data = sc.read_h5ad(st_data_path)\n",
    "        st_data.X = st_data.X.toarray()\n",
    "        \n",
    "\n",
    "        # Randomly select genes to discard\n",
    "        num_genes_to_discard = int(len(shared_genes) * discard_rate)\n",
    "        random.seed(run_index)  # Set seed for reproducibility\n",
    "        genes_to_discard = random.sample(list(shared_genes), num_genes_to_discard)\n",
    "        \n",
    "        # Create a mask for genes to keep\n",
    "        genes_to_keep = [gene for gene in st_data.var_names if gene not in genes_to_discard]\n",
    "        \n",
    "        # Create a new spatial dataset with discarded genes dropped\n",
    "        discarded_st_data = st_data[:, genes_to_keep].copy()\n",
    "        \n",
    "        print(f\"Discarded {len(genes_to_discard)} genes out of {len(shared_genes)} shared genes\")\n",
    "        \n",
    "        sc_df = pd.DataFrame(sc_data_run.X, index=sc_data_run.obs.index, columns=sc_data_run.var.index)\n",
    "        \n",
    "        st_df = pd.DataFrame(discarded_st_data.X, index=discarded_st_data.obs.index, columns=discarded_st_data.var.index)\n",
    "        \n",
    "        imputed_genes = SpaGE(Spatial_data=st_df, RNA_data=sc_df, n_pv=5)\n",
    "        imputed_genes.index = imputed_genes.index + 1\n",
    "        imputed_genes.index = imputed_genes.index.astype(str)\n",
    "        # First, check if there are any overlapping genes between the original data and imputed genes\n",
    "        overlapping_genes = np.intersect1d(st_df.columns, imputed_genes.columns)\n",
    "        if len(overlapping_genes) > 0:\n",
    "            print(f\"Warning: Found {len(overlapping_genes)} overlapping genes between original data and imputed genes.\")\n",
    "            print(\"These genes will be taken from the original data.\")\n",
    "\n",
    "        # Create a combined dataframe with both original and imputed genes\n",
    "        # Use axis=1 to concatenate columns (genes) not rows\n",
    "        combined_df = pd.concat([st_df, imputed_genes.loc[st_df.index]], axis=1)\n",
    "\n",
    "        # If there are duplicated columns, keep the first occurrence (from original data)\n",
    "        if combined_df.columns.duplicated().any():\n",
    "            combined_df = combined_df.loc[:, ~combined_df.columns.duplicated()]\n",
    "\n",
    "        print(f\"Original data shape: {st_df.shape}\")\n",
    "        print(f\"Imputed genes shape: {imputed_genes.shape}\")\n",
    "        print(f\"Combined data shape: {combined_df.shape}\")\n",
    "\n",
    "        # Verify that the row count matches the original data\n",
    "        assert combined_df.shape[0] == st_df.shape[0], \"Row count mismatch after concatenation\"\n",
    "        # Verify that the column count is the sum of unique genes\n",
    "        assert combined_df.shape[1] == len(set(st_df.columns) | set(imputed_genes.columns)), \"Column count mismatch\"\n",
    "        combined_df = combined_df.astype(np.float16)\n",
    "\n",
    "        original_st_data = sc.read_h5ad(st_data_path)\n",
    "        imputed_st_data = sc.AnnData(X=combined_df, \n",
    "                             obs=original_st_data.obs,\n",
    "                             uns=original_st_data.uns\n",
    "                             )\n",
    "  \n",
    "        imputed_st_data.uns['discarded_genes'] = genes_to_discard\n",
    "        imputed_st_data.uns['COVET_genes'] = imputed_genes.columns.tolist()\n",
    "\n",
    "        # Save the imputed dataset\n",
    "        output_path = f'/mnt/data-node3/chuangyihan/ssl_in_scg_dataset/SpaGE_imputed/SpaGE_imputed_Xenium_breast_cancer_sample1_replicate1_{discard_rate}_random_genes_discarded_{run_index}.h5ad'\n",
    "        print(f\"Run {run_index+1} of {num_runs} Saving to {output_path}\")\n",
    "        imputed_st_data.write_h5ad(output_path)\n"
   ]
  }
 ],
 "metadata": {
  "kernelspec": {
   "display_name": "tangram",
   "language": "python",
   "name": "python3"
  },
  "language_info": {
   "codemirror_mode": {
    "name": "ipython",
    "version": 3
   },
   "file_extension": ".py",
   "mimetype": "text/x-python",
   "name": "python",
   "nbconvert_exporter": "python",
   "pygments_lexer": "ipython3",
   "version": "3.10.15"
  }
 },
 "nbformat": 4,
 "nbformat_minor": 2
}
