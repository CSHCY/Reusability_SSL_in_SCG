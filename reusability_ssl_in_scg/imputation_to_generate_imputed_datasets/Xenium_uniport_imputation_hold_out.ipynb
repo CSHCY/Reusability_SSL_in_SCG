{
 "cells": [
  {
   "cell_type": "code",
   "execution_count": 1,
   "metadata": {
    "execution": {
     "iopub.execute_input": "2025-04-27T06:37:12.287776Z",
     "iopub.status.busy": "2025-04-27T06:37:12.287640Z",
     "iopub.status.idle": "2025-04-27T06:55:41.701451Z",
     "shell.execute_reply": "2025-04-27T06:55:41.700823Z"
    }
   },
   "outputs": [
    {
     "name": "stderr",
     "output_type": "stream",
     "text": [
      "/home/hanchuangyi/miniconda3/envs/scvi/lib/python3.10/site-packages/anndata/_core/anndata.py:1758: UserWarning: Variable names are not unique. To make them unique, call `.var_names_make_unique`.\n",
      "  utils.warn_names_duplicates(\"var\")\n"
     ]
    },
    {
     "name": "stderr",
     "output_type": "stream",
     "text": [
      "/home/hanchuangyi/miniconda3/envs/scvi/lib/python3.10/site-packages/anndata/_core/anndata.py:1758: UserWarning: Variable names are not unique. To make them unique, call `.var_names_make_unique`.\n",
      "  utils.warn_names_duplicates(\"var\")\n"
     ]
    },
    {
     "name": "stdout",
     "output_type": "stream",
     "text": [
      "重复的基因: Index(['TBCE', 'HSPA14', 'TMSB15B'], dtype='object')\n"
     ]
    },
    {
     "name": "stderr",
     "output_type": "stream",
     "text": [
      "/home/hanchuangyi/miniconda3/envs/scvi/lib/python3.10/site-packages/scanpy/preprocessing/_simple.py:168: ImplicitModificationWarning: Trying to modify attribute `.obs` of view, initializing view as actual.\n",
      "  adata.obs[\"n_counts\"] = number\n"
     ]
    },
    {
     "name": "stderr",
     "output_type": "stream",
     "text": [
      "/home/hanchuangyi/miniconda3/envs/scvi/lib/python3.10/site-packages/scanpy/preprocessing/_simple.py:168: ImplicitModificationWarning: Trying to modify attribute `.obs` of view, initializing view as actual.\n",
      "  adata.obs[\"n_counts\"] = number\n"
     ]
    },
    {
     "name": "stdout",
     "output_type": "stream",
     "text": [
      "Stored original expression for POSTN\n",
      "Stored original expression for IL7R\n",
      "Stored original expression for ITGAX\n",
      "Stored original expression for ACTA2\n",
      "Stored original expression for KRT15\n",
      "Stored original expression for VWF\n",
      "Stored original expression for FASN\n",
      "Stored original expression for CEACAM6\n"
     ]
    },
    {
     "name": "stdout",
     "output_type": "stream",
     "text": [
      "Original gene count: 307, After holdout: 299\n"
     ]
    },
    {
     "name": "stderr",
     "output_type": "stream",
     "text": [
      "/tmp/ipykernel_1202894/3977436662.py:51: FutureWarning: Use anndata.concat instead of AnnData.concatenate, AnnData.concatenate is deprecated and will be removed in the future. See the tutorial for concat at: https://anndata.readthedocs.io/en/latest/concatenation.html\n",
      "  adata_cm = st_data_holdout.concatenate(sc_data, join='inner', batch_key='domain_id')\n"
     ]
    },
    {
     "name": "stderr",
     "output_type": "stream",
     "text": [
      "/home/hanchuangyi/miniconda3/envs/scvi/lib/python3.10/site-packages/docrep/decorators.py:43: SyntaxWarning: 'param_categorical_covariate_keys' is not a valid key!\n",
      "  doc = func(self, args[0].__doc__, *args[1:], **kwargs)\n",
      "/home/hanchuangyi/miniconda3/envs/scvi/lib/python3.10/site-packages/docrep/decorators.py:43: SyntaxWarning: 'param_continuous_covariate_keys' is not a valid key!\n",
      "  doc = func(self, args[0].__doc__, *args[1:], **kwargs)\n",
      "/home/hanchuangyi/miniconda3/envs/scvi/lib/python3.10/site-packages/scanpy/preprocessing/_normalization.py:235: UserWarning: Some cells have zero counts\n",
      "  warn(UserWarning(\"Some cells have zero counts\"))\n"
     ]
    },
    {
     "name": "stdout",
     "output_type": "stream",
     "text": [
      "AnnData object with n_obs × n_vars = 196719 × 299\n",
      "    obs: 'cell_type', 'cell_id', 'x_centroid', 'y_centroid', 'transcript_counts', 'control_probe_counts', 'control_codeword_counts', 'total_counts', 'cell_area', 'nucleus_area', 'n_counts', 'domain_id', 'source'\n",
      "    var: 'gene_ids', 'feature_types-0', 'genome-0', 'feature_types-1', 'genome-1'\n",
      "    uns: 'log1p'\n"
     ]
    },
    {
     "name": "stdout",
     "output_type": "stream",
     "text": [
      "AnnData object with n_obs × n_vars = 166354 × 307\n",
      "    obs: 'cell_type', 'cell_id', 'x_centroid', 'y_centroid', 'transcript_counts', 'control_probe_counts', 'control_codeword_counts', 'total_counts', 'cell_area', 'nucleus_area', 'n_counts', 'domain_id', 'source'\n",
      "    var: 'gene_ids', 'feature_types', 'genome'\n",
      "    uns: 'BT_FT_predictions_3407', 'BT_FT_predictions_42', 'BT_FT_predictions_476', 'BT_FT_predictions_761', 'BT_FT_predictions_9824', 'BT_FT_target_names_3407', 'BT_FT_target_names_42', 'BT_FT_target_names_476', 'BT_FT_target_names_761', 'BT_FT_target_names_9824', 'BT_FT_train_loss_3407', 'BT_FT_train_loss_42', 'BT_FT_train_loss_476', 'BT_FT_train_loss_761', 'BT_FT_train_loss_9824', 'BT_FT_val_loss_3407', 'BT_FT_val_loss_42', 'BT_FT_val_loss_476', 'BT_FT_val_loss_761', 'BT_FT_val_loss_9824', 'BT_FT_y_test_3407', 'BT_FT_y_test_42', 'BT_FT_y_test_476', 'BT_FT_y_test_761', 'BT_FT_y_test_9824', 'BT_ZS_predictions_3407', 'BT_ZS_predictions_42', 'BT_ZS_predictions_476', 'BT_ZS_predictions_761', 'BT_ZS_predictions_9824', 'BT_ZS_target_names_3407', 'BT_ZS_target_names_42', 'BT_ZS_target_names_476', 'BT_ZS_target_names_761', 'BT_ZS_target_names_9824', 'BT_ZS_y_test_3407', 'BT_ZS_y_test_42', 'BT_ZS_y_test_476', 'BT_ZS_y_test_761', 'BT_ZS_y_test_9824', 'GP_FT_predictions_3407', 'GP_FT_predictions_42', 'GP_FT_predictions_476', 'GP_FT_predictions_761', 'GP_FT_predictions_9824', 'GP_FT_target_names_3407', 'GP_FT_target_names_42', 'GP_FT_target_names_476', 'GP_FT_target_names_761', 'GP_FT_target_names_9824', 'GP_FT_train_loss_3407', 'GP_FT_train_loss_42', 'GP_FT_train_loss_476', 'GP_FT_train_loss_761', 'GP_FT_train_loss_9824', 'GP_FT_val_loss_3407', 'GP_FT_val_loss_42', 'GP_FT_val_loss_476', 'GP_FT_val_loss_761', 'GP_FT_val_loss_9824', 'GP_FT_y_test_3407', 'GP_FT_y_test_42', 'GP_FT_y_test_476', 'GP_FT_y_test_761', 'GP_FT_y_test_9824', 'GP_ZS_predictions_3407', 'GP_ZS_predictions_42', 'GP_ZS_predictions_476', 'GP_ZS_predictions_761', 'GP_ZS_predictions_9824', 'GP_ZS_target_names_3407', 'GP_ZS_target_names_42', 'GP_ZS_target_names_476', 'GP_ZS_target_names_761', 'GP_ZS_target_names_9824', 'GP_ZS_y_test_3407', 'GP_ZS_y_test_42', 'GP_ZS_y_test_476', 'GP_ZS_y_test_761', 'GP_ZS_y_test_9824', 'PCA_predictions_3407', 'PCA_predictions_42', 'PCA_predictions_476', 'PCA_predictions_761', 'PCA_predictions_9824', 'PCA_target_names_3407', 'PCA_target_names_42', 'PCA_target_names_476', 'PCA_target_names_761', 'PCA_target_names_9824', 'PCA_y_test_3407', 'PCA_y_test_42', 'PCA_y_test_476', 'PCA_y_test_761', 'PCA_y_test_9824', 'RM_FT_predictions_3407', 'RM_FT_predictions_42', 'RM_FT_predictions_476', 'RM_FT_predictions_761', 'RM_FT_predictions_9824', 'RM_FT_target_names_3407', 'RM_FT_target_names_42', 'RM_FT_target_names_476', 'RM_FT_target_names_761', 'RM_FT_target_names_9824', 'RM_FT_train_loss_3407', 'RM_FT_train_loss_42', 'RM_FT_train_loss_476', 'RM_FT_train_loss_761', 'RM_FT_train_loss_9824', 'RM_FT_val_loss_3407', 'RM_FT_val_loss_42', 'RM_FT_val_loss_476', 'RM_FT_val_loss_761', 'RM_FT_val_loss_9824', 'RM_FT_y_test_3407', 'RM_FT_y_test_42', 'RM_FT_y_test_476', 'RM_FT_y_test_761', 'RM_FT_y_test_9824', 'RM_ZS_predictions_3407', 'RM_ZS_predictions_42', 'RM_ZS_predictions_476', 'RM_ZS_predictions_761', 'RM_ZS_predictions_9824', 'RM_ZS_target_names_3407', 'RM_ZS_target_names_42', 'RM_ZS_target_names_476', 'RM_ZS_target_names_761', 'RM_ZS_target_names_9824', 'RM_ZS_y_test_3407', 'RM_ZS_y_test_42', 'RM_ZS_y_test_476', 'RM_ZS_y_test_761', 'RM_ZS_y_test_9824', 'supervised_predictions_3407', 'supervised_predictions_42', 'supervised_predictions_476', 'supervised_predictions_761', 'supervised_predictions_9824', 'supervised_target_names_3407', 'supervised_target_names_42', 'supervised_target_names_476', 'supervised_target_names_761', 'supervised_target_names_9824', 'supervised_train_loss_3407', 'supervised_train_loss_42', 'supervised_train_loss_476', 'supervised_train_loss_761', 'supervised_train_loss_9824', 'supervised_val_loss_3407', 'supervised_val_loss_42', 'supervised_val_loss_476', 'supervised_val_loss_761', 'supervised_val_loss_9824', 'supervised_y_test_3407', 'supervised_y_test_42', 'supervised_y_test_476', 'supervised_y_test_761', 'supervised_y_test_9824', 'log1p'\n",
      "    obsm: 'PCA_3407', 'PCA_42', 'PCA_476', 'PCA_761', 'PCA_9824', 'RM_FT', 'SSL_BT_FT', 'SSL_BT_FT_3407', 'SSL_BT_FT_42', 'SSL_BT_FT_476', 'SSL_BT_FT_761', 'SSL_BT_FT_9824', 'SSL_BT_ZS_3407', 'SSL_BT_ZS_42', 'SSL_BT_ZS_476', 'SSL_BT_ZS_761', 'SSL_BT_ZS_9824', 'SSL_GP_FT_3407', 'SSL_GP_FT_42', 'SSL_GP_FT_476', 'SSL_GP_FT_761', 'SSL_GP_FT_9824', 'SSL_GP_ZS_3407', 'SSL_GP_ZS_42', 'SSL_GP_ZS_476', 'SSL_GP_ZS_761', 'SSL_GP_ZS_9824', 'SSL_RM_FT_3407', 'SSL_RM_FT_42', 'SSL_RM_FT_476', 'SSL_RM_FT_761', 'SSL_RM_FT_9824', 'SSL_RM_ZS_3407', 'SSL_RM_ZS_42', 'SSL_RM_ZS_476', 'SSL_RM_ZS_761', 'SSL_RM_ZS_9824', 'spatial', 'supervised_3407', 'supervised_42', 'supervised_476', 'supervised_761', 'supervised_9824'\n"
     ]
    },
    {
     "name": "stdout",
     "output_type": "stream",
     "text": [
      "AnnData object with n_obs × n_vars = 30365 × 18079\n",
      "    obs: 'n_counts', 'source', 'domain_id', '_scvi_batch', '_scvi_labels'\n",
      "    var: 'gene_ids', 'feature_types', 'genome'\n",
      "    uns: '_scvi_uuid', '_scvi_manager_uuid', 'log1p'\n",
      "Device: cuda\n",
      "Dataset 0: st\n",
      "AnnData object with n_obs × n_vars = 166354 × 307\n",
      "    obs: 'cell_type', 'cell_id', 'x_centroid', 'y_centroid', 'transcript_counts', 'control_probe_counts', 'control_codeword_counts', 'total_counts', 'cell_area', 'nucleus_area', 'n_counts', 'domain_id', 'source'\n",
      "    var: 'gene_ids', 'feature_types', 'genome'\n",
      "    uns: 'BT_FT_predictions_3407', 'BT_FT_predictions_42', 'BT_FT_predictions_476', 'BT_FT_predictions_761', 'BT_FT_predictions_9824', 'BT_FT_target_names_3407', 'BT_FT_target_names_42', 'BT_FT_target_names_476', 'BT_FT_target_names_761', 'BT_FT_target_names_9824', 'BT_FT_train_loss_3407', 'BT_FT_train_loss_42', 'BT_FT_train_loss_476', 'BT_FT_train_loss_761', 'BT_FT_train_loss_9824', 'BT_FT_val_loss_3407', 'BT_FT_val_loss_42', 'BT_FT_val_loss_476', 'BT_FT_val_loss_761', 'BT_FT_val_loss_9824', 'BT_FT_y_test_3407', 'BT_FT_y_test_42', 'BT_FT_y_test_476', 'BT_FT_y_test_761', 'BT_FT_y_test_9824', 'BT_ZS_predictions_3407', 'BT_ZS_predictions_42', 'BT_ZS_predictions_476', 'BT_ZS_predictions_761', 'BT_ZS_predictions_9824', 'BT_ZS_target_names_3407', 'BT_ZS_target_names_42', 'BT_ZS_target_names_476', 'BT_ZS_target_names_761', 'BT_ZS_target_names_9824', 'BT_ZS_y_test_3407', 'BT_ZS_y_test_42', 'BT_ZS_y_test_476', 'BT_ZS_y_test_761', 'BT_ZS_y_test_9824', 'GP_FT_predictions_3407', 'GP_FT_predictions_42', 'GP_FT_predictions_476', 'GP_FT_predictions_761', 'GP_FT_predictions_9824', 'GP_FT_target_names_3407', 'GP_FT_target_names_42', 'GP_FT_target_names_476', 'GP_FT_target_names_761', 'GP_FT_target_names_9824', 'GP_FT_train_loss_3407', 'GP_FT_train_loss_42', 'GP_FT_train_loss_476', 'GP_FT_train_loss_761', 'GP_FT_train_loss_9824', 'GP_FT_val_loss_3407', 'GP_FT_val_loss_42', 'GP_FT_val_loss_476', 'GP_FT_val_loss_761', 'GP_FT_val_loss_9824', 'GP_FT_y_test_3407', 'GP_FT_y_test_42', 'GP_FT_y_test_476', 'GP_FT_y_test_761', 'GP_FT_y_test_9824', 'GP_ZS_predictions_3407', 'GP_ZS_predictions_42', 'GP_ZS_predictions_476', 'GP_ZS_predictions_761', 'GP_ZS_predictions_9824', 'GP_ZS_target_names_3407', 'GP_ZS_target_names_42', 'GP_ZS_target_names_476', 'GP_ZS_target_names_761', 'GP_ZS_target_names_9824', 'GP_ZS_y_test_3407', 'GP_ZS_y_test_42', 'GP_ZS_y_test_476', 'GP_ZS_y_test_761', 'GP_ZS_y_test_9824', 'PCA_predictions_3407', 'PCA_predictions_42', 'PCA_predictions_476', 'PCA_predictions_761', 'PCA_predictions_9824', 'PCA_target_names_3407', 'PCA_target_names_42', 'PCA_target_names_476', 'PCA_target_names_761', 'PCA_target_names_9824', 'PCA_y_test_3407', 'PCA_y_test_42', 'PCA_y_test_476', 'PCA_y_test_761', 'PCA_y_test_9824', 'RM_FT_predictions_3407', 'RM_FT_predictions_42', 'RM_FT_predictions_476', 'RM_FT_predictions_761', 'RM_FT_predictions_9824', 'RM_FT_target_names_3407', 'RM_FT_target_names_42', 'RM_FT_target_names_476', 'RM_FT_target_names_761', 'RM_FT_target_names_9824', 'RM_FT_train_loss_3407', 'RM_FT_train_loss_42', 'RM_FT_train_loss_476', 'RM_FT_train_loss_761', 'RM_FT_train_loss_9824', 'RM_FT_val_loss_3407', 'RM_FT_val_loss_42', 'RM_FT_val_loss_476', 'RM_FT_val_loss_761', 'RM_FT_val_loss_9824', 'RM_FT_y_test_3407', 'RM_FT_y_test_42', 'RM_FT_y_test_476', 'RM_FT_y_test_761', 'RM_FT_y_test_9824', 'RM_ZS_predictions_3407', 'RM_ZS_predictions_42', 'RM_ZS_predictions_476', 'RM_ZS_predictions_761', 'RM_ZS_predictions_9824', 'RM_ZS_target_names_3407', 'RM_ZS_target_names_42', 'RM_ZS_target_names_476', 'RM_ZS_target_names_761', 'RM_ZS_target_names_9824', 'RM_ZS_y_test_3407', 'RM_ZS_y_test_42', 'RM_ZS_y_test_476', 'RM_ZS_y_test_761', 'RM_ZS_y_test_9824', 'supervised_predictions_3407', 'supervised_predictions_42', 'supervised_predictions_476', 'supervised_predictions_761', 'supervised_predictions_9824', 'supervised_target_names_3407', 'supervised_target_names_42', 'supervised_target_names_476', 'supervised_target_names_761', 'supervised_target_names_9824', 'supervised_train_loss_3407', 'supervised_train_loss_42', 'supervised_train_loss_476', 'supervised_train_loss_761', 'supervised_train_loss_9824', 'supervised_val_loss_3407', 'supervised_val_loss_42', 'supervised_val_loss_476', 'supervised_val_loss_761', 'supervised_val_loss_9824', 'supervised_y_test_3407', 'supervised_y_test_42', 'supervised_y_test_476', 'supervised_y_test_761', 'supervised_y_test_9824', 'log1p'\n",
      "    obsm: 'PCA_3407', 'PCA_42', 'PCA_476', 'PCA_761', 'PCA_9824', 'RM_FT', 'SSL_BT_FT', 'SSL_BT_FT_3407', 'SSL_BT_FT_42', 'SSL_BT_FT_476', 'SSL_BT_FT_761', 'SSL_BT_FT_9824', 'SSL_BT_ZS_3407', 'SSL_BT_ZS_42', 'SSL_BT_ZS_476', 'SSL_BT_ZS_761', 'SSL_BT_ZS_9824', 'SSL_GP_FT_3407', 'SSL_GP_FT_42', 'SSL_GP_FT_476', 'SSL_GP_FT_761', 'SSL_GP_FT_9824', 'SSL_GP_ZS_3407', 'SSL_GP_ZS_42', 'SSL_GP_ZS_476', 'SSL_GP_ZS_761', 'SSL_GP_ZS_9824', 'SSL_RM_FT_3407', 'SSL_RM_FT_42', 'SSL_RM_FT_476', 'SSL_RM_FT_761', 'SSL_RM_FT_9824', 'SSL_RM_ZS_3407', 'SSL_RM_ZS_42', 'SSL_RM_ZS_476', 'SSL_RM_ZS_761', 'SSL_RM_ZS_9824', 'spatial', 'supervised_3407', 'supervised_42', 'supervised_476', 'supervised_761', 'supervised_9824'\n",
      "Dataset 1: sc\n",
      "AnnData object with n_obs × n_vars = 30365 × 18079\n",
      "    obs: 'n_counts', 'source', 'domain_id', '_scvi_batch', '_scvi_labels'\n",
      "    var: 'gene_ids', 'feature_types', 'genome'\n",
      "    uns: '_scvi_uuid', '_scvi_manager_uuid', 'log1p'\n",
      "Reference dataset is dataset 1\n",
      "\n",
      "\n",
      "Data with common HVG\n",
      "AnnData object with n_obs × n_vars = 196719 × 299\n",
      "    obs: 'cell_type', 'cell_id', 'x_centroid', 'y_centroid', 'transcript_counts', 'control_probe_counts', 'control_codeword_counts', 'total_counts', 'cell_area', 'nucleus_area', 'n_counts', 'domain_id', 'source'\n",
      "    var: 'gene_ids', 'feature_types-0', 'genome-0', 'feature_types-1', 'genome-1'\n",
      "    uns: 'log1p'\n",
      "\n",
      "\n"
     ]
    },
    {
     "name": "stderr",
     "output_type": "stream",
     "text": [
      "/home/hanchuangyi/miniconda3/envs/scvi/lib/python3.10/site-packages/uniport/function.py:443: FutureWarning: Series.__getitem__ treating keys as positions is deprecated. In a future version, integer keys will always be treated as labels (consistent with DataFrame behavior). To access a value by position, use `ser.iloc[pos]`\n",
      "  print('Dataset {}:'.format(i), adata.obs[source_name][0])\n"
     ]
    },
    {
     "name": "stderr",
     "output_type": "stream",
     "text": [
      "2025-04-27 06:38:17,873 - root - INFO - model\n",
      "VAE(\n",
      "  (encoder): Encoder(\n",
      "    (enc): ModuleList(\n",
      "      (0): NN(\n",
      "        (net): ModuleList(\n",
      "          (0): Block(\n",
      "            (fc): Linear(in_features=299, out_features=1024, bias=True)\n",
      "            (norm): BatchNorm1d(1024, eps=1e-05, momentum=0.1, affine=True, track_running_stats=True)\n",
      "            (act): ReLU()\n",
      "          )\n",
      "        )\n",
      "      )\n",
      "    )\n",
      "    (mu_enc): ModuleList(\n",
      "      (0): NN(\n",
      "        (net): ModuleList(\n",
      "          (0): Block(\n",
      "            (fc): Linear(in_features=1024, out_features=16, bias=True)\n",
      "          )\n",
      "        )\n",
      "      )\n",
      "    )\n",
      "    (var_enc): ModuleList(\n",
      "      (0): NN(\n",
      "        (net): ModuleList(\n",
      "          (0): Block(\n",
      "            (fc): Linear(in_features=1024, out_features=16, bias=True)\n",
      "          )\n",
      "        )\n",
      "      )\n",
      "    )\n",
      "  )\n",
      "  (decoder): Decoder(\n",
      "    (dec): ModuleList(\n",
      "      (0): NN(\n",
      "        (net): ModuleList(\n",
      "          (0): Block(\n",
      "            (fc): Linear(in_features=16, out_features=299, bias=True)\n",
      "            (norm): DSBatchNorm(\n",
      "              (bns): ModuleList(\n",
      "                (0-1): 2 x BatchNorm1d(299, eps=1e-05, momentum=0.1, affine=True, track_running_stats=True)\n",
      "              )\n",
      "            )\n",
      "            (act): Sigmoid()\n",
      "          )\n",
      "        )\n",
      "      )\n",
      "      (1): NN(\n",
      "        (net): ModuleList(\n",
      "          (0): Block(\n",
      "            (fc): Linear(in_features=16, out_features=307, bias=True)\n",
      "            (norm): BatchNorm1d(307, eps=1e-05, momentum=0.1, affine=True, track_running_stats=True)\n",
      "            (act): Sigmoid()\n",
      "          )\n",
      "        )\n",
      "      )\n",
      "      (2): NN(\n",
      "        (net): ModuleList(\n",
      "          (0): Block(\n",
      "            (fc): Linear(in_features=16, out_features=18079, bias=True)\n",
      "            (norm): BatchNorm1d(18079, eps=1e-05, momentum=0.1, affine=True, track_running_stats=True)\n",
      "            (act): Sigmoid()\n",
      "          )\n",
      "        )\n",
      "      )\n",
      "    )\n",
      "  )\n",
      ")\n"
     ]
    },
    {
     "name": "stderr",
     "output_type": "stream",
     "text": [
      "\r",
      "Epochs:   0%|                                                                           | 0/40 [00:00<?, ?it/s]"
     ]
    },
    {
     "name": "stderr",
     "output_type": "stream",
     "text": [
      "\r",
      "Epochs:   0%|                                | 0/40 [00:26<?, ?it/s, recloss=2877.45,klloss=22.65,otloss=25.07]"
     ]
    },
    {
     "name": "stderr",
     "output_type": "stream",
     "text": [
      "\r",
      "Epochs:   2%|▌                       | 1/40 [00:26<17:29, 26.90s/it, recloss=2877.45,klloss=22.65,otloss=25.07]"
     ]
    },
    {
     "name": "stderr",
     "output_type": "stream",
     "text": [
      "\r",
      "Epochs:   2%|▌                       | 1/40 [00:55<17:29, 26.90s/it, recloss=2537.37,klloss=18.98,otloss=12.70]"
     ]
    },
    {
     "name": "stderr",
     "output_type": "stream",
     "text": [
      "\r",
      "Epochs:   5%|█▏                      | 2/40 [00:55<17:33, 27.71s/it, recloss=2537.37,klloss=18.98,otloss=12.70]"
     ]
    },
    {
     "name": "stderr",
     "output_type": "stream",
     "text": [
      "\r",
      "Epochs:   5%|█▎                       | 2/40 [01:21<17:33, 27.71s/it, recloss=2262.05,klloss=15.34,otloss=8.73]"
     ]
    },
    {
     "name": "stderr",
     "output_type": "stream",
     "text": [
      "\r",
      "Epochs:   8%|█▉                       | 3/40 [01:21<16:48, 27.26s/it, recloss=2262.05,klloss=15.34,otloss=8.73]"
     ]
    },
    {
     "name": "stderr",
     "output_type": "stream",
     "text": [
      "\r",
      "Epochs:   8%|█▉                       | 3/40 [01:47<16:48, 27.26s/it, recloss=2019.59,klloss=11.99,otloss=6.73]"
     ]
    },
    {
     "name": "stderr",
     "output_type": "stream",
     "text": [
      "\r",
      "Epochs:  10%|██▌                      | 4/40 [01:47<15:56, 26.56s/it, recloss=2019.59,klloss=11.99,otloss=6.73]"
     ]
    },
    {
     "name": "stderr",
     "output_type": "stream",
     "text": [
      "\r",
      "Epochs:  10%|██▌                      | 4/40 [02:12<15:56, 26.56s/it, recloss=1807.56,klloss=10.11,otloss=5.95]"
     ]
    },
    {
     "name": "stderr",
     "output_type": "stream",
     "text": [
      "\r",
      "Epochs:  12%|███▏                     | 5/40 [02:12<15:05, 25.86s/it, recloss=1807.56,klloss=10.11,otloss=5.95]"
     ]
    },
    {
     "name": "stderr",
     "output_type": "stream",
     "text": [
      "\r",
      "Epochs:  12%|███▎                      | 5/40 [02:34<15:05, 25.86s/it, recloss=1627.03,klloss=8.97,otloss=5.41]"
     ]
    },
    {
     "name": "stderr",
     "output_type": "stream",
     "text": [
      "\r",
      "Epochs:  15%|███▉                      | 6/40 [02:34<14:02, 24.78s/it, recloss=1627.03,klloss=8.97,otloss=5.41]"
     ]
    },
    {
     "name": "stderr",
     "output_type": "stream",
     "text": [
      "\r",
      "Epochs:  15%|███▉                      | 6/40 [02:58<14:02, 24.78s/it, recloss=1474.88,klloss=7.83,otloss=5.14]"
     ]
    },
    {
     "name": "stderr",
     "output_type": "stream",
     "text": [
      "\r",
      "Epochs:  18%|████▌                     | 7/40 [02:58<13:28, 24.50s/it, recloss=1474.88,klloss=7.83,otloss=5.14]"
     ]
    },
    {
     "name": "stderr",
     "output_type": "stream",
     "text": [
      "\r",
      "Epochs:  18%|████▌                     | 7/40 [03:23<13:28, 24.50s/it, recloss=1345.91,klloss=6.92,otloss=5.13]"
     ]
    },
    {
     "name": "stderr",
     "output_type": "stream",
     "text": [
      "\r",
      "Epochs:  20%|█████▏                    | 8/40 [03:23<13:06, 24.58s/it, recloss=1345.91,klloss=6.92,otloss=5.13]"
     ]
    },
    {
     "name": "stderr",
     "output_type": "stream",
     "text": [
      "\r",
      "Epochs:  20%|█████▏                    | 8/40 [03:50<13:06, 24.58s/it, recloss=1233.92,klloss=6.49,otloss=5.28]"
     ]
    },
    {
     "name": "stderr",
     "output_type": "stream",
     "text": [
      "\r",
      "Epochs:  22%|█████▊                    | 9/40 [03:50<13:01, 25.22s/it, recloss=1233.92,klloss=6.49,otloss=5.28]"
     ]
    },
    {
     "name": "stderr",
     "output_type": "stream",
     "text": [
      "\r",
      "Epochs:  22%|█████▊                    | 9/40 [04:18<13:01, 25.22s/it, recloss=1135.37,klloss=6.39,otloss=5.41]"
     ]
    },
    {
     "name": "stderr",
     "output_type": "stream",
     "text": [
      "\r",
      "Epochs:  25%|██████▎                  | 10/40 [04:18<13:04, 26.15s/it, recloss=1135.37,klloss=6.39,otloss=5.41]"
     ]
    },
    {
     "name": "stderr",
     "output_type": "stream",
     "text": [
      "\r",
      "Epochs:  25%|██████▎                  | 10/40 [04:45<13:04, 26.15s/it, recloss=1048.47,klloss=6.43,otloss=5.49]"
     ]
    },
    {
     "name": "stderr",
     "output_type": "stream",
     "text": [
      "\r",
      "Epochs:  28%|██████▉                  | 11/40 [04:45<12:48, 26.48s/it, recloss=1048.47,klloss=6.43,otloss=5.49]"
     ]
    },
    {
     "name": "stderr",
     "output_type": "stream",
     "text": [
      "\r",
      "Epochs:  28%|███████▏                  | 11/40 [05:11<12:48, 26.48s/it, recloss=972.04,klloss=6.45,otloss=5.57]"
     ]
    },
    {
     "name": "stderr",
     "output_type": "stream",
     "text": [
      "\r",
      "Epochs:  30%|███████▊                  | 12/40 [05:11<12:21, 26.47s/it, recloss=972.04,klloss=6.45,otloss=5.57]"
     ]
    },
    {
     "name": "stderr",
     "output_type": "stream",
     "text": [
      "\r",
      "Epochs:  30%|███████▊                  | 12/40 [05:40<12:21, 26.47s/it, recloss=905.13,klloss=6.55,otloss=5.67]"
     ]
    },
    {
     "name": "stderr",
     "output_type": "stream",
     "text": [
      "\r",
      "Epochs:  32%|████████▍                 | 13/40 [05:40<12:09, 27.04s/it, recloss=905.13,klloss=6.55,otloss=5.67]"
     ]
    },
    {
     "name": "stderr",
     "output_type": "stream",
     "text": [
      "\r",
      "Epochs:  32%|████████▍                 | 13/40 [06:08<12:09, 27.04s/it, recloss=846.72,klloss=6.60,otloss=5.82]"
     ]
    },
    {
     "name": "stderr",
     "output_type": "stream",
     "text": [
      "\r",
      "Epochs:  35%|█████████                 | 14/40 [06:08<11:51, 27.37s/it, recloss=846.72,klloss=6.60,otloss=5.82]"
     ]
    },
    {
     "name": "stderr",
     "output_type": "stream",
     "text": [
      "\r",
      "Epochs:  35%|█████████                 | 14/40 [06:31<11:51, 27.37s/it, recloss=795.90,klloss=6.67,otloss=5.98]"
     ]
    },
    {
     "name": "stderr",
     "output_type": "stream",
     "text": [
      "\r",
      "Epochs:  38%|█████████▊                | 15/40 [06:31<10:53, 26.14s/it, recloss=795.90,klloss=6.67,otloss=5.98]"
     ]
    },
    {
     "name": "stderr",
     "output_type": "stream",
     "text": [
      "\r",
      "Epochs:  38%|█████████▊                | 15/40 [06:54<10:53, 26.14s/it, recloss=751.90,klloss=6.82,otloss=6.15]"
     ]
    },
    {
     "name": "stderr",
     "output_type": "stream",
     "text": [
      "\r",
      "Epochs:  40%|██████████▍               | 16/40 [06:54<10:01, 25.08s/it, recloss=751.90,klloss=6.82,otloss=6.15]"
     ]
    },
    {
     "name": "stderr",
     "output_type": "stream",
     "text": [
      "\r",
      "Epochs:  40%|██████████▍               | 16/40 [07:17<10:01, 25.08s/it, recloss=713.88,klloss=6.87,otloss=6.30]"
     ]
    },
    {
     "name": "stderr",
     "output_type": "stream",
     "text": [
      "\r",
      "Epochs:  42%|███████████               | 17/40 [07:17<09:25, 24.59s/it, recloss=713.88,klloss=6.87,otloss=6.30]"
     ]
    },
    {
     "name": "stderr",
     "output_type": "stream",
     "text": [
      "\r",
      "Epochs:  42%|███████████               | 17/40 [07:41<09:25, 24.59s/it, recloss=681.12,klloss=7.02,otloss=6.43]"
     ]
    },
    {
     "name": "stderr",
     "output_type": "stream",
     "text": [
      "\r",
      "Epochs:  45%|███████████▋              | 18/40 [07:41<08:52, 24.22s/it, recloss=681.12,klloss=7.02,otloss=6.43]"
     ]
    },
    {
     "name": "stderr",
     "output_type": "stream",
     "text": [
      "\r",
      "Epochs:  45%|███████████▋              | 18/40 [08:04<08:52, 24.22s/it, recloss=653.01,klloss=7.19,otloss=6.59]"
     ]
    },
    {
     "name": "stderr",
     "output_type": "stream",
     "text": [
      "\r",
      "Epochs:  48%|████████████▎             | 19/40 [08:04<08:24, 24.03s/it, recloss=653.01,klloss=7.19,otloss=6.59]"
     ]
    },
    {
     "name": "stderr",
     "output_type": "stream",
     "text": [
      "\r",
      "Epochs:  48%|████████████▎             | 19/40 [08:30<08:24, 24.03s/it, recloss=628.92,klloss=7.31,otloss=6.71]"
     ]
    },
    {
     "name": "stderr",
     "output_type": "stream",
     "text": [
      "\r",
      "Epochs:  50%|█████████████             | 20/40 [08:30<08:12, 24.63s/it, recloss=628.92,klloss=7.31,otloss=6.71]"
     ]
    },
    {
     "name": "stderr",
     "output_type": "stream",
     "text": [
      "\r",
      "Epochs:  50%|█████████████             | 20/40 [08:57<08:12, 24.63s/it, recloss=608.50,klloss=7.48,otloss=6.84]"
     ]
    },
    {
     "name": "stderr",
     "output_type": "stream",
     "text": [
      "\r",
      "Epochs:  52%|█████████████▋            | 21/40 [08:57<07:59, 25.22s/it, recloss=608.50,klloss=7.48,otloss=6.84]"
     ]
    },
    {
     "name": "stderr",
     "output_type": "stream",
     "text": [
      "\r",
      "Epochs:  52%|█████████████▋            | 21/40 [09:25<07:59, 25.22s/it, recloss=591.09,klloss=7.63,otloss=6.95]"
     ]
    },
    {
     "name": "stderr",
     "output_type": "stream",
     "text": [
      "\r",
      "Epochs:  55%|██████████████▎           | 22/40 [09:25<07:51, 26.22s/it, recloss=591.09,klloss=7.63,otloss=6.95]"
     ]
    },
    {
     "name": "stderr",
     "output_type": "stream",
     "text": [
      "\r",
      "Epochs:  55%|██████████████▎           | 22/40 [09:50<07:51, 26.22s/it, recloss=576.37,klloss=7.78,otloss=7.06]"
     ]
    },
    {
     "name": "stderr",
     "output_type": "stream",
     "text": [
      "\r",
      "Epochs:  57%|██████████████▉           | 23/40 [09:50<07:17, 25.76s/it, recloss=576.37,klloss=7.78,otloss=7.06]"
     ]
    },
    {
     "name": "stderr",
     "output_type": "stream",
     "text": [
      "\r",
      "Epochs:  57%|██████████████▉           | 23/40 [10:18<07:17, 25.76s/it, recloss=563.96,klloss=7.91,otloss=7.17]"
     ]
    },
    {
     "name": "stderr",
     "output_type": "stream",
     "text": [
      "\r",
      "Epochs:  60%|███████████████▌          | 24/40 [10:18<07:03, 26.47s/it, recloss=563.96,klloss=7.91,otloss=7.17]"
     ]
    },
    {
     "name": "stderr",
     "output_type": "stream",
     "text": [
      "\r",
      "Epochs:  60%|███████████████▌          | 24/40 [10:44<07:03, 26.47s/it, recloss=553.60,klloss=8.07,otloss=7.27]"
     ]
    },
    {
     "name": "stderr",
     "output_type": "stream",
     "text": [
      "\r",
      "Epochs:  62%|████████████████▎         | 25/40 [10:44<06:33, 26.24s/it, recloss=553.60,klloss=8.07,otloss=7.27]"
     ]
    },
    {
     "name": "stderr",
     "output_type": "stream",
     "text": [
      "\r",
      "Epochs:  62%|████████████████▎         | 25/40 [11:08<06:33, 26.24s/it, recloss=544.90,klloss=8.19,otloss=7.31]"
     ]
    },
    {
     "name": "stderr",
     "output_type": "stream",
     "text": [
      "\r",
      "Epochs:  65%|████████████████▉         | 26/40 [11:08<05:59, 25.65s/it, recloss=544.90,klloss=8.19,otloss=7.31]"
     ]
    },
    {
     "name": "stderr",
     "output_type": "stream",
     "text": [
      "\r",
      "Epochs:  65%|████████████████▉         | 26/40 [11:28<05:59, 25.65s/it, recloss=537.77,klloss=8.31,otloss=7.40]"
     ]
    },
    {
     "name": "stderr",
     "output_type": "stream",
     "text": [
      "\r",
      "Epochs:  68%|█████████████████▌        | 27/40 [11:29<05:12, 24.06s/it, recloss=537.77,klloss=8.31,otloss=7.40]"
     ]
    },
    {
     "name": "stderr",
     "output_type": "stream",
     "text": [
      "\r",
      "Epochs:  68%|█████████████████▌        | 27/40 [11:52<05:12, 24.06s/it, recloss=531.93,klloss=8.43,otloss=7.47]"
     ]
    },
    {
     "name": "stderr",
     "output_type": "stream",
     "text": [
      "\r",
      "Epochs:  70%|██████████████████▏       | 28/40 [11:52<04:47, 24.00s/it, recloss=531.93,klloss=8.43,otloss=7.47]"
     ]
    },
    {
     "name": "stderr",
     "output_type": "stream",
     "text": [
      "\r",
      "Epochs:  70%|██████████████████▏       | 28/40 [12:15<04:47, 24.00s/it, recloss=527.17,klloss=8.53,otloss=7.52]"
     ]
    },
    {
     "name": "stderr",
     "output_type": "stream",
     "text": [
      "\r",
      "Epochs:  72%|██████████████████▊       | 29/40 [12:15<04:18, 23.49s/it, recloss=527.17,klloss=8.53,otloss=7.52]"
     ]
    },
    {
     "name": "stderr",
     "output_type": "stream",
     "text": [
      "\r",
      "Epochs:  72%|██████████████████▊       | 29/40 [12:39<04:18, 23.49s/it, recloss=523.31,klloss=8.65,otloss=7.59]"
     ]
    },
    {
     "name": "stderr",
     "output_type": "stream",
     "text": [
      "\r",
      "Epochs:  75%|███████████████████▌      | 30/40 [12:39<03:57, 23.76s/it, recloss=523.31,klloss=8.65,otloss=7.59]"
     ]
    },
    {
     "name": "stderr",
     "output_type": "stream",
     "text": [
      "\r",
      "Epochs:  75%|███████████████████▌      | 30/40 [13:01<03:57, 23.76s/it, recloss=520.21,klloss=8.73,otloss=7.61]"
     ]
    },
    {
     "name": "stderr",
     "output_type": "stream",
     "text": [
      "\r",
      "Epochs:  78%|████████████████████▏     | 31/40 [13:01<03:28, 23.17s/it, recloss=520.21,klloss=8.73,otloss=7.61]"
     ]
    },
    {
     "name": "stderr",
     "output_type": "stream",
     "text": [
      "\r",
      "Epochs:  78%|████████████████████▏     | 31/40 [13:28<03:28, 23.17s/it, recloss=517.72,klloss=8.81,otloss=7.66]"
     ]
    },
    {
     "name": "stderr",
     "output_type": "stream",
     "text": [
      "\r",
      "Epochs:  80%|████████████████████▊     | 32/40 [13:28<03:14, 24.29s/it, recloss=517.72,klloss=8.81,otloss=7.66]"
     ]
    },
    {
     "name": "stderr",
     "output_type": "stream",
     "text": [
      "\r",
      "Epochs:  80%|████████████████████▊     | 32/40 [13:56<03:14, 24.29s/it, recloss=515.64,klloss=8.89,otloss=7.71]"
     ]
    },
    {
     "name": "stderr",
     "output_type": "stream",
     "text": [
      "\r",
      "Epochs:  82%|█████████████████████▍    | 33/40 [13:56<02:57, 25.41s/it, recloss=515.64,klloss=8.89,otloss=7.71]"
     ]
    },
    {
     "name": "stderr",
     "output_type": "stream",
     "text": [
      "\r",
      "Epochs:  82%|█████████████████████▍    | 33/40 [14:22<02:57, 25.41s/it, recloss=513.90,klloss=8.95,otloss=7.77]"
     ]
    },
    {
     "name": "stderr",
     "output_type": "stream",
     "text": [
      "\r",
      "Epochs:  85%|██████████████████████    | 34/40 [14:22<02:33, 25.65s/it, recloss=513.90,klloss=8.95,otloss=7.77]"
     ]
    },
    {
     "name": "stderr",
     "output_type": "stream",
     "text": [
      "\r",
      "Epochs:  85%|██████████████████████    | 34/40 [14:47<02:33, 25.65s/it, recloss=512.43,klloss=9.03,otloss=7.77]"
     ]
    },
    {
     "name": "stderr",
     "output_type": "stream",
     "text": [
      "\r",
      "Epochs:  88%|██████████████████████▊   | 35/40 [14:47<02:07, 25.44s/it, recloss=512.43,klloss=9.03,otloss=7.77]"
     ]
    },
    {
     "name": "stderr",
     "output_type": "stream",
     "text": [
      "\r",
      "Epochs:  88%|██████████████████████▊   | 35/40 [15:10<02:07, 25.44s/it, recloss=511.27,klloss=9.07,otloss=7.82]"
     ]
    },
    {
     "name": "stderr",
     "output_type": "stream",
     "text": [
      "\r",
      "Epochs:  90%|███████████████████████▍  | 36/40 [15:10<01:38, 24.73s/it, recloss=511.27,klloss=9.07,otloss=7.82]"
     ]
    },
    {
     "name": "stderr",
     "output_type": "stream",
     "text": [
      "\r",
      "Epochs:  90%|███████████████████████▍  | 36/40 [15:33<01:38, 24.73s/it, recloss=510.19,klloss=9.14,otloss=7.84]"
     ]
    },
    {
     "name": "stderr",
     "output_type": "stream",
     "text": [
      "\r",
      "Epochs:  92%|████████████████████████  | 37/40 [15:33<01:12, 24.32s/it, recloss=510.19,klloss=9.14,otloss=7.84]"
     ]
    },
    {
     "name": "stderr",
     "output_type": "stream",
     "text": [
      "\r",
      "Epochs:  92%|████████████████████████  | 37/40 [15:57<01:12, 24.32s/it, recloss=509.29,klloss=9.19,otloss=7.86]"
     ]
    },
    {
     "name": "stderr",
     "output_type": "stream",
     "text": [
      "\r",
      "Epochs:  95%|████████████████████████▋ | 38/40 [15:57<00:47, 23.97s/it, recloss=509.29,klloss=9.19,otloss=7.86]"
     ]
    },
    {
     "name": "stderr",
     "output_type": "stream",
     "text": [
      "\r",
      "Epochs:  95%|████████████████████████▋ | 38/40 [16:21<00:47, 23.97s/it, recloss=508.60,klloss=9.21,otloss=7.84]"
     ]
    },
    {
     "name": "stderr",
     "output_type": "stream",
     "text": [
      "\r",
      "Epochs:  98%|█████████████████████████▎| 39/40 [16:21<00:24, 24.24s/it, recloss=508.60,klloss=9.21,otloss=7.84]"
     ]
    },
    {
     "name": "stderr",
     "output_type": "stream",
     "text": [
      "\r",
      "Epochs:  98%|█████████████████████████▎| 39/40 [16:47<00:24, 24.24s/it, recloss=507.93,klloss=9.25,otloss=7.89]"
     ]
    },
    {
     "name": "stderr",
     "output_type": "stream",
     "text": [
      "\r",
      "Epochs: 100%|██████████████████████████| 40/40 [16:47<00:00, 24.67s/it, recloss=507.93,klloss=9.25,otloss=7.89]"
     ]
    },
    {
     "name": "stderr",
     "output_type": "stream",
     "text": [
      "\r",
      "Epochs: 100%|██████████████████████████| 40/40 [16:47<00:00, 25.19s/it, recloss=507.93,klloss=9.25,otloss=7.89]"
     ]
    },
    {
     "name": "stderr",
     "output_type": "stream",
     "text": [
      "\n"
     ]
    },
    {
     "name": "stdout",
     "output_type": "stream",
     "text": [
      "Device: cuda\n"
     ]
    },
    {
     "name": "stderr",
     "output_type": "stream",
     "text": [
      "/home/hanchuangyi/miniconda3/envs/scvi/lib/python3.10/site-packages/uniport/function.py:414: FutureWarning: Series.__getitem__ treating keys as positions is deprecated. In a future version, integer keys will always be treated as labels (consistent with DataFrame behavior). To access a value by position, use `ser.iloc[pos]`\n",
      "  batches = adata_cm.obs[source_name][np.sort(idx)]\n"
     ]
    },
    {
     "name": "stdout",
     "output_type": "stream",
     "text": [
      "Index(['SAMD11', 'NOC2L', 'KLHL17', 'PLEKHN1', 'PERM1', 'HES4', 'ISG15',\n",
      "       'AGRN', 'RNF223', 'C1orf159',\n",
      "       ...\n",
      "       'MT-ND2', 'MT-CO2', 'MT-ATP6', 'MT-CO3', 'MT-ND3', 'MT-ND4L', 'MT-ND4',\n",
      "       'MT-ND5', 'MT-ND6', 'MT-CYB'],\n",
      "      dtype='object', length=18079)\n",
      "Pearson correlation for POSTN: 0.6544\n",
      "Pearson correlation for IL7R: 0.5755\n",
      "Pearson correlation for ITGAX: 0.5581\n",
      "Pearson correlation for ACTA2: 0.5162\n",
      "Pearson correlation for KRT15: 0.4309\n",
      "Pearson correlation for VWF: 0.6681\n",
      "Pearson correlation for FASN: 0.5770\n"
     ]
    },
    {
     "name": "stdout",
     "output_type": "stream",
     "text": [
      "Pearson correlation for CEACAM6: 0.4679\n",
      "Average correlation across holdout genes: 0.5560\n"
     ]
    },
    {
     "name": "stderr",
     "output_type": "stream",
     "text": [
      "... storing 'source' as categorical\n"
     ]
    }
   ],
   "source": [
    "import scanpy as sc\n",
    "data_path = '../dataset/Chromium_FFPE_Human_Breast_Cancer_Chromium_FFPE_Human_Breast_Cancer_count_sample_filtered_feature_bc_matrix.h5'\n",
    "sc_data = sc.read_10x_h5(data_path)\n",
    "sc_data.X = sc_data.X.toarray()\n",
    "st_data_path = '../dataset/Xenium_breast_cancer_sample1_replicate1.h5ad'\n",
    "st_data = sc.read_h5ad(st_data_path)\n",
    "st_data\n",
    "# 检查 sc_data.var_names 是否有重复项\n",
    "duplicates = sc_data.var_names[sc_data.var_names.duplicated()]\n",
    "print(f\"重复的基因: {duplicates}\")\n",
    "# 删除 sc_data.var_names 中的重复基因\n",
    "sc_data = sc_data[:, ~sc_data.var_names.duplicated()]\n",
    "st_data.X = st_data.X.toarray()\n",
    "import numpy as np\n",
    "shared_genes = np.intersect1d(st_data.var_names, sc_data.var_names)\n",
    "st_data = st_data[:, shared_genes]\n",
    "sc.pp.filter_cells(st_data, min_counts=1)\n",
    "sc.pp.filter_cells(sc_data, min_counts=1)\n",
    "sc_data = sc_data.copy()\n",
    "st_data = st_data.copy()\n",
    "\n",
    "st_data.obs['domain_id'] = 0\n",
    "st_data.obs['domain_id'] = st_data.obs['domain_id'].astype('category')\n",
    "st_data.obs['source'] = 'st'\n",
    "\n",
    "sc_data.obs['source'] = 'sc'\n",
    "sc_data.obs['domain_id'] = 1\n",
    "sc_data.obs['domain_id'] = sc_data.obs['domain_id'].astype('category')\n",
    "\n",
    "# Define genes to hold out for validation\n",
    "holdout_genes = ['POSTN', 'IL7R', 'ITGAX', 'ACTA2', 'KRT15', 'VWF', 'FASN', 'CEACAM6']\n",
    "\n",
    "# Store the original expression values of holdout genes for later comparison\n",
    "holdout_gene_data = {}\n",
    "for gene in holdout_genes:\n",
    "    if gene in st_data.var_names:\n",
    "        gene_idx = st_data.var_names.get_loc(gene)\n",
    "        holdout_gene_data[gene] = st_data.X[:, gene_idx].copy()\n",
    "        print(f\"Stored original expression for {gene}\")\n",
    "    else:\n",
    "        print(f\"Gene {gene} not found in spatial data\")\n",
    "\n",
    "# Create a copy of the spatial data without the holdout genes\n",
    "st_data_holdout = st_data.copy()\n",
    "st_data_holdout = st_data_holdout[:, ~st_data_holdout.var_names.isin(holdout_genes)].copy()\n",
    "print(f\"Original gene count: {st_data.n_vars}, After holdout: {st_data_holdout.n_vars}\")\n",
    "\n",
    "\n",
    "\n",
    "\n",
    "adata_cm = st_data_holdout.concatenate(sc_data, join='inner', batch_key='domain_id')\n",
    "\n",
    "import matplotlib.pyplot as plt\n",
    "import numpy as np\n",
    "from scipy.stats import spearmanr\n",
    "from scvi.external import GIMVI\n",
    "GIMVI.setup_anndata(st_data_holdout, batch_key='source')\n",
    "GIMVI.setup_anndata(sc_data)\n",
    "import uniport as up\n",
    "sc.pp.normalize_total(adata_cm)\n",
    "sc.pp.log1p(adata_cm)\n",
    "up.batch_scale(adata_cm)\n",
    "print(adata_cm)\n",
    "sc.pp.normalize_total(st_data)\n",
    "sc.pp.log1p(st_data)\n",
    "up.batch_scale(st_data)\n",
    "print(st_data)\n",
    "sc.pp.normalize_total(sc_data)\n",
    "sc.pp.log1p(sc_data)\n",
    "up.batch_scale(sc_data)\n",
    "print(sc_data)\n",
    "adatas = [st_data, sc_data]\n",
    "adata = up.Run(adatas=adatas, adata_cm=adata_cm, model_info=True)\n",
    "adata_predicted = up.Run(adata_cm=st_data_holdout, out='predict', pred_id=1)\n",
    "adata_predicted.obsm['predict']\n",
    "\n",
    "adata_predicted.obsm['predict'].shape\n",
    "import anndata as ad\n",
    "adata_imputed = ad.AnnData(\n",
    "    X=adata_predicted.obsm['predict'],\n",
    "    obs=st_data.obs,\n",
    "    uns=st_data.uns,\n",
    ")\n",
    "adata_imputed.var_names = sc_data.var_names\n",
    "print(adata_imputed.var_names)\n",
    "\n",
    "# Calculate Pearson correlation for holdout genes\n",
    "correlations = {}\n",
    "for gene in holdout_genes:\n",
    "    if gene in adata_imputed.var_names and gene in holdout_gene_data:\n",
    "        imputed_values = adata_imputed[:, gene].X.flatten()\n",
    "        original_values = holdout_gene_data[gene]\n",
    "        corr = np.corrcoef(imputed_values, original_values)[0, 1]\n",
    "        correlations[gene] = corr\n",
    "        print(f\"Pearson correlation for {gene}: {corr:.4f}\")\n",
    "\n",
    "# Print average correlation\n",
    "if correlations:\n",
    "    avg_corr = np.mean(list(correlations.values()))\n",
    "    print(f\"Average correlation across holdout genes: {avg_corr:.4f}\")\n",
    "\n",
    "\n",
    "\n",
    "adata_imputed.X = adata_imputed.X.astype(np.float16)\n",
    "adata_imputed.write_h5ad('../dataset/uniport_imputed_Xenium_breast_cancer_sample1_replicate1_hold_out.h5ad')"
   ]
  }
 ],
 "metadata": {
  "kernelspec": {
   "display_name": "tangram",
   "language": "python",
   "name": "python3"
  },
  "language_info": {
   "codemirror_mode": {
    "name": "ipython",
    "version": 3
   },
   "file_extension": ".py",
   "mimetype": "text/x-python",
   "name": "python",
   "nbconvert_exporter": "python",
   "pygments_lexer": "ipython3",
   "version": "3.10.13"
  },
  "widgets": {
   "application/vnd.jupyter.widget-state+json": {
    "state": {
     "106dfa79aaf347e39595ee650e6baadc": {
      "model_module": "@jupyter-widgets/controls",
      "model_module_version": "2.0.0",
      "model_name": "FloatProgressModel",
      "state": {
       "_dom_classes": [],
       "_model_module": "@jupyter-widgets/controls",
       "_model_module_version": "2.0.0",
       "_model_name": "FloatProgressModel",
       "_view_count": null,
       "_view_module": "@jupyter-widgets/controls",
       "_view_module_version": "2.0.0",
       "_view_name": "ProgressView",
       "bar_style": "success",
       "description": "",
       "description_allow_html": false,
       "layout": "IPY_MODEL_fcbb039a8e8841309cf40bf8ea987f00",
       "max": 50,
       "min": 0,
       "orientation": "horizontal",
       "style": "IPY_MODEL_4b3dfe0ea63f423ca503b737f55c42f3",
       "tabbable": null,
       "tooltip": null,
       "value": 50
      }
     },
     "1968672927ab4078a315d58eab0cb2e8": {
      "model_module": "@jupyter-widgets/base",
      "model_module_version": "2.0.0",
      "model_name": "LayoutModel",
      "state": {
       "_model_module": "@jupyter-widgets/base",
       "_model_module_version": "2.0.0",
       "_model_name": "LayoutModel",
       "_view_count": null,
       "_view_module": "@jupyter-widgets/base",
       "_view_module_version": "2.0.0",
       "_view_name": "LayoutView",
       "align_content": null,
       "align_items": null,
       "align_self": null,
       "border_bottom": null,
       "border_left": null,
       "border_right": null,
       "border_top": null,
       "bottom": null,
       "display": null,
       "flex": null,
       "flex_flow": null,
       "grid_area": null,
       "grid_auto_columns": null,
       "grid_auto_flow": null,
       "grid_auto_rows": null,
       "grid_column": null,
       "grid_gap": null,
       "grid_row": null,
       "grid_template_areas": null,
       "grid_template_columns": null,
       "grid_template_rows": null,
       "height": null,
       "justify_content": null,
       "justify_items": null,
       "left": null,
       "margin": null,
       "max_height": null,
       "max_width": null,
       "min_height": null,
       "min_width": null,
       "object_fit": null,
       "object_position": null,
       "order": null,
       "overflow": null,
       "padding": null,
       "right": null,
       "top": null,
       "visibility": null,
       "width": null
      }
     },
     "4b3dfe0ea63f423ca503b737f55c42f3": {
      "model_module": "@jupyter-widgets/controls",
      "model_module_version": "2.0.0",
      "model_name": "ProgressStyleModel",
      "state": {
       "_model_module": "@jupyter-widgets/controls",
       "_model_module_version": "2.0.0",
       "_model_name": "ProgressStyleModel",
       "_view_count": null,
       "_view_module": "@jupyter-widgets/base",
       "_view_module_version": "2.0.0",
       "_view_name": "StyleView",
       "bar_color": null,
       "description_width": ""
      }
     },
     "580d7a6dd9a446419fcd2f9c16d579e5": {
      "model_module": "@jupyter-widgets/base",
      "model_module_version": "2.0.0",
      "model_name": "LayoutModel",
      "state": {
       "_model_module": "@jupyter-widgets/base",
       "_model_module_version": "2.0.0",
       "_model_name": "LayoutModel",
       "_view_count": null,
       "_view_module": "@jupyter-widgets/base",
       "_view_module_version": "2.0.0",
       "_view_name": "LayoutView",
       "align_content": null,
       "align_items": null,
       "align_self": null,
       "border_bottom": null,
       "border_left": null,
       "border_right": null,
       "border_top": null,
       "bottom": null,
       "display": null,
       "flex": null,
       "flex_flow": null,
       "grid_area": null,
       "grid_auto_columns": null,
       "grid_auto_flow": null,
       "grid_auto_rows": null,
       "grid_column": null,
       "grid_gap": null,
       "grid_row": null,
       "grid_template_areas": null,
       "grid_template_columns": null,
       "grid_template_rows": null,
       "height": null,
       "justify_content": null,
       "justify_items": null,
       "left": null,
       "margin": null,
       "max_height": null,
       "max_width": null,
       "min_height": null,
       "min_width": null,
       "object_fit": null,
       "object_position": null,
       "order": null,
       "overflow": null,
       "padding": null,
       "right": null,
       "top": null,
       "visibility": null,
       "width": null
      }
     },
     "59b8f1dfa8d540178fd90f6ce689a36a": {
      "model_module": "@jupyter-widgets/controls",
      "model_module_version": "2.0.0",
      "model_name": "HTMLModel",
      "state": {
       "_dom_classes": [],
       "_model_module": "@jupyter-widgets/controls",
       "_model_module_version": "2.0.0",
       "_model_name": "HTMLModel",
       "_view_count": null,
       "_view_module": "@jupyter-widgets/controls",
       "_view_module_version": "2.0.0",
       "_view_name": "HTMLView",
       "description": "",
       "description_allow_html": false,
       "layout": "IPY_MODEL_cb89f6b51947472bb85df283b3b5980f",
       "placeholder": "​",
       "style": "IPY_MODEL_5e51c78097c142bf819abd3f893aa06a",
       "tabbable": null,
       "tooltip": null,
       "value": "Epoch 50/50: 100%"
      }
     },
     "5e51c78097c142bf819abd3f893aa06a": {
      "model_module": "@jupyter-widgets/controls",
      "model_module_version": "2.0.0",
      "model_name": "HTMLStyleModel",
      "state": {
       "_model_module": "@jupyter-widgets/controls",
       "_model_module_version": "2.0.0",
       "_model_name": "HTMLStyleModel",
       "_view_count": null,
       "_view_module": "@jupyter-widgets/base",
       "_view_module_version": "2.0.0",
       "_view_name": "StyleView",
       "background": null,
       "description_width": "",
       "font_size": null,
       "text_color": null
      }
     },
     "a4d016c2633441a4a98b92d4f45c1004": {
      "model_module": "@jupyter-widgets/controls",
      "model_module_version": "2.0.0",
      "model_name": "HTMLStyleModel",
      "state": {
       "_model_module": "@jupyter-widgets/controls",
       "_model_module_version": "2.0.0",
       "_model_name": "HTMLStyleModel",
       "_view_count": null,
       "_view_module": "@jupyter-widgets/base",
       "_view_module_version": "2.0.0",
       "_view_name": "StyleView",
       "background": null,
       "description_width": "",
       "font_size": null,
       "text_color": null
      }
     },
     "baf06fc0c70c4c048e508b75739574eb": {
      "model_module": "@jupyter-widgets/controls",
      "model_module_version": "2.0.0",
      "model_name": "HBoxModel",
      "state": {
       "_dom_classes": [],
       "_model_module": "@jupyter-widgets/controls",
       "_model_module_version": "2.0.0",
       "_model_name": "HBoxModel",
       "_view_count": null,
       "_view_module": "@jupyter-widgets/controls",
       "_view_module_version": "2.0.0",
       "_view_name": "HBoxView",
       "box_style": "",
       "children": [
        "IPY_MODEL_59b8f1dfa8d540178fd90f6ce689a36a",
        "IPY_MODEL_106dfa79aaf347e39595ee650e6baadc",
        "IPY_MODEL_f5938b7f651649a29910ba5477601c70"
       ],
       "layout": "IPY_MODEL_1968672927ab4078a315d58eab0cb2e8",
       "tabbable": null,
       "tooltip": null
      }
     },
     "cb89f6b51947472bb85df283b3b5980f": {
      "model_module": "@jupyter-widgets/base",
      "model_module_version": "2.0.0",
      "model_name": "LayoutModel",
      "state": {
       "_model_module": "@jupyter-widgets/base",
       "_model_module_version": "2.0.0",
       "_model_name": "LayoutModel",
       "_view_count": null,
       "_view_module": "@jupyter-widgets/base",
       "_view_module_version": "2.0.0",
       "_view_name": "LayoutView",
       "align_content": null,
       "align_items": null,
       "align_self": null,
       "border_bottom": null,
       "border_left": null,
       "border_right": null,
       "border_top": null,
       "bottom": null,
       "display": null,
       "flex": null,
       "flex_flow": null,
       "grid_area": null,
       "grid_auto_columns": null,
       "grid_auto_flow": null,
       "grid_auto_rows": null,
       "grid_column": null,
       "grid_gap": null,
       "grid_row": null,
       "grid_template_areas": null,
       "grid_template_columns": null,
       "grid_template_rows": null,
       "height": null,
       "justify_content": null,
       "justify_items": null,
       "left": null,
       "margin": null,
       "max_height": null,
       "max_width": null,
       "min_height": null,
       "min_width": null,
       "object_fit": null,
       "object_position": null,
       "order": null,
       "overflow": null,
       "padding": null,
       "right": null,
       "top": null,
       "visibility": null,
       "width": null
      }
     },
     "f5938b7f651649a29910ba5477601c70": {
      "model_module": "@jupyter-widgets/controls",
      "model_module_version": "2.0.0",
      "model_name": "HTMLModel",
      "state": {
       "_dom_classes": [],
       "_model_module": "@jupyter-widgets/controls",
       "_model_module_version": "2.0.0",
       "_model_name": "HTMLModel",
       "_view_count": null,
       "_view_module": "@jupyter-widgets/controls",
       "_view_module_version": "2.0.0",
       "_view_name": "HTMLView",
       "description": "",
       "description_allow_html": false,
       "layout": "IPY_MODEL_580d7a6dd9a446419fcd2f9c16d579e5",
       "placeholder": "​",
       "style": "IPY_MODEL_a4d016c2633441a4a98b92d4f45c1004",
       "tabbable": null,
       "tooltip": null,
       "value": " 50/50 [13:45&lt;00:00, 16.48s/it, v_num=1]"
      }
     },
     "fcbb039a8e8841309cf40bf8ea987f00": {
      "model_module": "@jupyter-widgets/base",
      "model_module_version": "2.0.0",
      "model_name": "LayoutModel",
      "state": {
       "_model_module": "@jupyter-widgets/base",
       "_model_module_version": "2.0.0",
       "_model_name": "LayoutModel",
       "_view_count": null,
       "_view_module": "@jupyter-widgets/base",
       "_view_module_version": "2.0.0",
       "_view_name": "LayoutView",
       "align_content": null,
       "align_items": null,
       "align_self": null,
       "border_bottom": null,
       "border_left": null,
       "border_right": null,
       "border_top": null,
       "bottom": null,
       "display": null,
       "flex": null,
       "flex_flow": null,
       "grid_area": null,
       "grid_auto_columns": null,
       "grid_auto_flow": null,
       "grid_auto_rows": null,
       "grid_column": null,
       "grid_gap": null,
       "grid_row": null,
       "grid_template_areas": null,
       "grid_template_columns": null,
       "grid_template_rows": null,
       "height": null,
       "justify_content": null,
       "justify_items": null,
       "left": null,
       "margin": null,
       "max_height": null,
       "max_width": null,
       "min_height": null,
       "min_width": null,
       "object_fit": null,
       "object_position": null,
       "order": null,
       "overflow": null,
       "padding": null,
       "right": null,
       "top": null,
       "visibility": null,
       "width": null
      }
     }
    },
    "version_major": 2,
    "version_minor": 0
   }
  }
 },
 "nbformat": 4,
 "nbformat_minor": 2
}
