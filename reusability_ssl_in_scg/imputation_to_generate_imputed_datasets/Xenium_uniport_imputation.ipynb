{
 "cells": [
  {
   "cell_type": "code",
   "execution_count": 21,
   "metadata": {
    "execution": {
     "iopub.execute_input": "2025-04-14T06:18:52.520058Z",
     "iopub.status.busy": "2025-04-14T06:18:52.519922Z",
     "iopub.status.idle": "2025-04-14T06:18:58.947737Z",
     "shell.execute_reply": "2025-04-14T06:18:58.947062Z"
    }
   },
   "outputs": [
    {
     "name": "stderr",
     "output_type": "stream",
     "text": [
      "/home/hanchuangyi/miniconda3/envs/scvi/lib/python3.10/site-packages/anndata/_core/anndata.py:1758: UserWarning: Variable names are not unique. To make them unique, call `.var_names_make_unique`.\n",
      "  utils.warn_names_duplicates(\"var\")\n",
      "/home/hanchuangyi/miniconda3/envs/scvi/lib/python3.10/site-packages/anndata/_core/anndata.py:1758: UserWarning: Variable names are not unique. To make them unique, call `.var_names_make_unique`.\n",
      "  utils.warn_names_duplicates(\"var\")\n"
     ]
    }
   ],
   "source": [
    "import scanpy as sc\n",
    "data_path = '../dataset/Chromium_FFPE_Human_Breast_Cancer_Chromium_FFPE_Human_Breast_Cancer_count_sample_filtered_feature_bc_matrix.h5'\n",
    "sc_data = sc.read_10x_h5(data_path)\n",
    "sc_data.X = sc_data.X.toarray()"
   ]
  },
  {
   "cell_type": "code",
   "execution_count": 22,
   "metadata": {
    "execution": {
     "iopub.execute_input": "2025-04-14T06:18:58.949619Z",
     "iopub.status.busy": "2025-04-14T06:18:58.949324Z",
     "iopub.status.idle": "2025-04-14T06:18:59.974603Z",
     "shell.execute_reply": "2025-04-14T06:18:59.974149Z"
    }
   },
   "outputs": [
    {
     "data": {
      "text/plain": [
       "AnnData object with n_obs × n_vars = 167780 × 313\n",
       "    obs: 'cell_type', 'cell_id', 'x_centroid', 'y_centroid', 'transcript_counts', 'control_probe_counts', 'control_codeword_counts', 'total_counts', 'cell_area', 'nucleus_area'\n",
       "    var: 'gene_ids', 'feature_types', 'genome'\n",
       "    uns: 'BT_FT_predictions_3407', 'BT_FT_predictions_42', 'BT_FT_predictions_476', 'BT_FT_predictions_761', 'BT_FT_predictions_9824', 'BT_FT_target_names_3407', 'BT_FT_target_names_42', 'BT_FT_target_names_476', 'BT_FT_target_names_761', 'BT_FT_target_names_9824', 'BT_FT_train_loss_3407', 'BT_FT_train_loss_42', 'BT_FT_train_loss_476', 'BT_FT_train_loss_761', 'BT_FT_train_loss_9824', 'BT_FT_val_loss_3407', 'BT_FT_val_loss_42', 'BT_FT_val_loss_476', 'BT_FT_val_loss_761', 'BT_FT_val_loss_9824', 'BT_FT_y_test_3407', 'BT_FT_y_test_42', 'BT_FT_y_test_476', 'BT_FT_y_test_761', 'BT_FT_y_test_9824', 'BT_ZS_predictions_3407', 'BT_ZS_predictions_42', 'BT_ZS_predictions_476', 'BT_ZS_predictions_761', 'BT_ZS_predictions_9824', 'BT_ZS_target_names_3407', 'BT_ZS_target_names_42', 'BT_ZS_target_names_476', 'BT_ZS_target_names_761', 'BT_ZS_target_names_9824', 'BT_ZS_y_test_3407', 'BT_ZS_y_test_42', 'BT_ZS_y_test_476', 'BT_ZS_y_test_761', 'BT_ZS_y_test_9824', 'GP_FT_predictions_3407', 'GP_FT_predictions_42', 'GP_FT_predictions_476', 'GP_FT_predictions_761', 'GP_FT_predictions_9824', 'GP_FT_target_names_3407', 'GP_FT_target_names_42', 'GP_FT_target_names_476', 'GP_FT_target_names_761', 'GP_FT_target_names_9824', 'GP_FT_train_loss_3407', 'GP_FT_train_loss_42', 'GP_FT_train_loss_476', 'GP_FT_train_loss_761', 'GP_FT_train_loss_9824', 'GP_FT_val_loss_3407', 'GP_FT_val_loss_42', 'GP_FT_val_loss_476', 'GP_FT_val_loss_761', 'GP_FT_val_loss_9824', 'GP_FT_y_test_3407', 'GP_FT_y_test_42', 'GP_FT_y_test_476', 'GP_FT_y_test_761', 'GP_FT_y_test_9824', 'GP_ZS_predictions_3407', 'GP_ZS_predictions_42', 'GP_ZS_predictions_476', 'GP_ZS_predictions_761', 'GP_ZS_predictions_9824', 'GP_ZS_target_names_3407', 'GP_ZS_target_names_42', 'GP_ZS_target_names_476', 'GP_ZS_target_names_761', 'GP_ZS_target_names_9824', 'GP_ZS_y_test_3407', 'GP_ZS_y_test_42', 'GP_ZS_y_test_476', 'GP_ZS_y_test_761', 'GP_ZS_y_test_9824', 'PCA_predictions_3407', 'PCA_predictions_42', 'PCA_predictions_476', 'PCA_predictions_761', 'PCA_predictions_9824', 'PCA_target_names_3407', 'PCA_target_names_42', 'PCA_target_names_476', 'PCA_target_names_761', 'PCA_target_names_9824', 'PCA_y_test_3407', 'PCA_y_test_42', 'PCA_y_test_476', 'PCA_y_test_761', 'PCA_y_test_9824', 'RM_FT_predictions_3407', 'RM_FT_predictions_42', 'RM_FT_predictions_476', 'RM_FT_predictions_761', 'RM_FT_predictions_9824', 'RM_FT_target_names_3407', 'RM_FT_target_names_42', 'RM_FT_target_names_476', 'RM_FT_target_names_761', 'RM_FT_target_names_9824', 'RM_FT_train_loss_3407', 'RM_FT_train_loss_42', 'RM_FT_train_loss_476', 'RM_FT_train_loss_761', 'RM_FT_train_loss_9824', 'RM_FT_val_loss_3407', 'RM_FT_val_loss_42', 'RM_FT_val_loss_476', 'RM_FT_val_loss_761', 'RM_FT_val_loss_9824', 'RM_FT_y_test_3407', 'RM_FT_y_test_42', 'RM_FT_y_test_476', 'RM_FT_y_test_761', 'RM_FT_y_test_9824', 'RM_ZS_predictions_3407', 'RM_ZS_predictions_42', 'RM_ZS_predictions_476', 'RM_ZS_predictions_761', 'RM_ZS_predictions_9824', 'RM_ZS_target_names_3407', 'RM_ZS_target_names_42', 'RM_ZS_target_names_476', 'RM_ZS_target_names_761', 'RM_ZS_target_names_9824', 'RM_ZS_y_test_3407', 'RM_ZS_y_test_42', 'RM_ZS_y_test_476', 'RM_ZS_y_test_761', 'RM_ZS_y_test_9824', 'supervised_predictions_3407', 'supervised_predictions_42', 'supervised_predictions_476', 'supervised_predictions_761', 'supervised_predictions_9824', 'supervised_target_names_3407', 'supervised_target_names_42', 'supervised_target_names_476', 'supervised_target_names_761', 'supervised_target_names_9824', 'supervised_train_loss_3407', 'supervised_train_loss_42', 'supervised_train_loss_476', 'supervised_train_loss_761', 'supervised_train_loss_9824', 'supervised_val_loss_3407', 'supervised_val_loss_42', 'supervised_val_loss_476', 'supervised_val_loss_761', 'supervised_val_loss_9824', 'supervised_y_test_3407', 'supervised_y_test_42', 'supervised_y_test_476', 'supervised_y_test_761', 'supervised_y_test_9824'\n",
       "    obsm: 'PCA_3407', 'PCA_42', 'PCA_476', 'PCA_761', 'PCA_9824', 'RM_FT', 'SSL_BT_FT', 'SSL_BT_FT_3407', 'SSL_BT_FT_42', 'SSL_BT_FT_476', 'SSL_BT_FT_761', 'SSL_BT_FT_9824', 'SSL_BT_ZS_3407', 'SSL_BT_ZS_42', 'SSL_BT_ZS_476', 'SSL_BT_ZS_761', 'SSL_BT_ZS_9824', 'SSL_GP_FT_3407', 'SSL_GP_FT_42', 'SSL_GP_FT_476', 'SSL_GP_FT_761', 'SSL_GP_FT_9824', 'SSL_GP_ZS_3407', 'SSL_GP_ZS_42', 'SSL_GP_ZS_476', 'SSL_GP_ZS_761', 'SSL_GP_ZS_9824', 'SSL_RM_FT_3407', 'SSL_RM_FT_42', 'SSL_RM_FT_476', 'SSL_RM_FT_761', 'SSL_RM_FT_9824', 'SSL_RM_ZS_3407', 'SSL_RM_ZS_42', 'SSL_RM_ZS_476', 'SSL_RM_ZS_761', 'SSL_RM_ZS_9824', 'spatial', 'supervised_3407', 'supervised_42', 'supervised_476', 'supervised_761', 'supervised_9824'"
      ]
     },
     "execution_count": 22,
     "metadata": {},
     "output_type": "execute_result"
    }
   ],
   "source": [
    "st_data_path = '../dataset/Xenium_breast_cancer_sample1_replicate1.h5ad'\n",
    "st_data = sc.read_h5ad(st_data_path)\n",
    "st_data"
   ]
  },
  {
   "cell_type": "code",
   "execution_count": 23,
   "metadata": {
    "execution": {
     "iopub.execute_input": "2025-04-14T06:18:59.975978Z",
     "iopub.status.busy": "2025-04-14T06:18:59.975827Z",
     "iopub.status.idle": "2025-04-14T06:18:59.981314Z",
     "shell.execute_reply": "2025-04-14T06:18:59.980856Z"
    }
   },
   "outputs": [
    {
     "name": "stdout",
     "output_type": "stream",
     "text": [
      "重复的基因: Index(['TBCE', 'HSPA14', 'TMSB15B'], dtype='object')\n"
     ]
    }
   ],
   "source": [
    "# 检查 sc_data.var_names 是否有重复项\n",
    "duplicates = sc_data.var_names[sc_data.var_names.duplicated()]\n",
    "print(f\"重复的基因: {duplicates}\")\n",
    "# 删除 sc_data.var_names 中的重复基因\n",
    "sc_data = sc_data[:, ~sc_data.var_names.duplicated()]"
   ]
  },
  {
   "cell_type": "code",
   "execution_count": 24,
   "metadata": {
    "execution": {
     "iopub.execute_input": "2025-04-14T06:18:59.982545Z",
     "iopub.status.busy": "2025-04-14T06:18:59.982395Z",
     "iopub.status.idle": "2025-04-14T06:19:00.106926Z",
     "shell.execute_reply": "2025-04-14T06:19:00.106393Z"
    }
   },
   "outputs": [],
   "source": [
    "st_data.X = st_data.X.toarray()"
   ]
  },
  {
   "cell_type": "code",
   "execution_count": 25,
   "metadata": {
    "execution": {
     "iopub.execute_input": "2025-04-14T06:19:00.108362Z",
     "iopub.status.busy": "2025-04-14T06:19:00.108210Z",
     "iopub.status.idle": "2025-04-14T06:19:22.200342Z",
     "shell.execute_reply": "2025-04-14T06:19:22.199757Z"
    }
   },
   "outputs": [
    {
     "name": "stderr",
     "output_type": "stream",
     "text": [
      "/home/hanchuangyi/miniconda3/envs/scvi/lib/python3.10/site-packages/scanpy/preprocessing/_simple.py:168: ImplicitModificationWarning: Trying to modify attribute `.obs` of view, initializing view as actual.\n",
      "  adata.obs[\"n_counts\"] = number\n",
      "/home/hanchuangyi/miniconda3/envs/scvi/lib/python3.10/site-packages/scanpy/preprocessing/_simple.py:168: ImplicitModificationWarning: Trying to modify attribute `.obs` of view, initializing view as actual.\n",
      "  adata.obs[\"n_counts\"] = number\n"
     ]
    }
   ],
   "source": [
    "from turtle import st\n",
    "import numpy as np\n",
    "shared_genes = np.intersect1d(st_data.var_names, sc_data.var_names)\n",
    "st_data = st_data[:, shared_genes]\n",
    "sc.pp.filter_cells(st_data, min_counts=1)\n",
    "sc.pp.filter_cells(sc_data, min_counts=1)\n",
    "sc_data = sc_data.copy()\n",
    "st_data = st_data.copy()"
   ]
  },
  {
   "cell_type": "code",
   "execution_count": 26,
   "metadata": {
    "execution": {
     "iopub.execute_input": "2025-04-14T06:19:22.201856Z",
     "iopub.status.busy": "2025-04-14T06:19:22.201695Z",
     "iopub.status.idle": "2025-04-14T06:19:22.209720Z",
     "shell.execute_reply": "2025-04-14T06:19:22.209293Z"
    }
   },
   "outputs": [],
   "source": [
    "\n",
    "st_data.obs['domain_id'] = 0\n",
    "st_data.obs['domain_id'] = st_data.obs['domain_id'].astype('category')\n",
    "st_data.obs['source'] = 'st'\n",
    "\n",
    "sc_data.obs['source'] = 'sc'\n",
    "sc_data.obs['domain_id'] = 1\n",
    "sc_data.obs['domain_id'] = sc_data.obs['domain_id'].astype('category')\n"
   ]
  },
  {
   "cell_type": "code",
   "execution_count": 27,
   "metadata": {
    "execution": {
     "iopub.execute_input": "2025-04-14T06:19:22.210979Z",
     "iopub.status.busy": "2025-04-14T06:19:22.210830Z",
     "iopub.status.idle": "2025-04-14T06:19:22.559324Z",
     "shell.execute_reply": "2025-04-14T06:19:22.558792Z"
    }
   },
   "outputs": [
    {
     "name": "stderr",
     "output_type": "stream",
     "text": [
      "/tmp/ipykernel_2612008/3176745252.py:1: FutureWarning: Use anndata.concat instead of AnnData.concatenate, AnnData.concatenate is deprecated and will be removed in the future. See the tutorial for concat at: https://anndata.readthedocs.io/en/latest/concatenation.html\n",
      "  adata_cm = st_data.concatenate(sc_data, join='inner', batch_key='domain_id')\n"
     ]
    }
   ],
   "source": [
    "adata_cm = st_data.concatenate(sc_data, join='inner', batch_key='domain_id')"
   ]
  },
  {
   "cell_type": "code",
   "execution_count": 28,
   "metadata": {
    "execution": {
     "iopub.execute_input": "2025-04-14T06:19:22.560806Z",
     "iopub.status.busy": "2025-04-14T06:19:22.560650Z",
     "iopub.status.idle": "2025-04-14T06:19:24.411012Z",
     "shell.execute_reply": "2025-04-14T06:19:24.410469Z"
    }
   },
   "outputs": [],
   "source": [
    "import anndata\n",
    "import matplotlib.pyplot as plt\n",
    "import numpy as np\n",
    "from scipy.stats import spearmanr\n",
    "from scvi.external import GIMVI\n",
    "GIMVI.setup_anndata(st_data, batch_key='source')\n",
    "GIMVI.setup_anndata(sc_data)"
   ]
  },
  {
   "cell_type": "code",
   "execution_count": 29,
   "metadata": {
    "execution": {
     "iopub.execute_input": "2025-04-14T06:19:24.412553Z",
     "iopub.status.busy": "2025-04-14T06:19:24.412198Z",
     "iopub.status.idle": "2025-04-14T06:19:24.788612Z",
     "shell.execute_reply": "2025-04-14T06:19:24.788077Z"
    }
   },
   "outputs": [
    {
     "name": "stdout",
     "output_type": "stream",
     "text": [
      "AnnData object with n_obs × n_vars = 196719 × 307\n",
      "    obs: 'cell_type', 'cell_id', 'x_centroid', 'y_centroid', 'transcript_counts', 'control_probe_counts', 'control_codeword_counts', 'total_counts', 'cell_area', 'nucleus_area', 'n_counts', 'domain_id', 'source'\n",
      "    var: 'gene_ids', 'feature_types-0', 'genome-0', 'feature_types-1', 'genome-1'\n",
      "    uns: 'log1p'\n"
     ]
    }
   ],
   "source": [
    "import uniport as up\n",
    "sc.pp.normalize_total(adata_cm)\n",
    "sc.pp.log1p(adata_cm)\n",
    "up.batch_scale(adata_cm)\n",
    "print(adata_cm)"
   ]
  },
  {
   "cell_type": "code",
   "execution_count": 30,
   "metadata": {
    "execution": {
     "iopub.execute_input": "2025-04-14T06:19:24.789995Z",
     "iopub.status.busy": "2025-04-14T06:19:24.789829Z",
     "iopub.status.idle": "2025-04-14T06:19:28.122912Z",
     "shell.execute_reply": "2025-04-14T06:19:28.122341Z"
    }
   },
   "outputs": [
    {
     "name": "stdout",
     "output_type": "stream",
     "text": [
      "AnnData object with n_obs × n_vars = 166354 × 307\n",
      "    obs: 'cell_type', 'cell_id', 'x_centroid', 'y_centroid', 'transcript_counts', 'control_probe_counts', 'control_codeword_counts', 'total_counts', 'cell_area', 'nucleus_area', 'n_counts', 'domain_id', 'source', '_scvi_batch', '_scvi_labels'\n",
      "    var: 'gene_ids', 'feature_types', 'genome'\n",
      "    uns: 'BT_FT_predictions_3407', 'BT_FT_predictions_42', 'BT_FT_predictions_476', 'BT_FT_predictions_761', 'BT_FT_predictions_9824', 'BT_FT_target_names_3407', 'BT_FT_target_names_42', 'BT_FT_target_names_476', 'BT_FT_target_names_761', 'BT_FT_target_names_9824', 'BT_FT_train_loss_3407', 'BT_FT_train_loss_42', 'BT_FT_train_loss_476', 'BT_FT_train_loss_761', 'BT_FT_train_loss_9824', 'BT_FT_val_loss_3407', 'BT_FT_val_loss_42', 'BT_FT_val_loss_476', 'BT_FT_val_loss_761', 'BT_FT_val_loss_9824', 'BT_FT_y_test_3407', 'BT_FT_y_test_42', 'BT_FT_y_test_476', 'BT_FT_y_test_761', 'BT_FT_y_test_9824', 'BT_ZS_predictions_3407', 'BT_ZS_predictions_42', 'BT_ZS_predictions_476', 'BT_ZS_predictions_761', 'BT_ZS_predictions_9824', 'BT_ZS_target_names_3407', 'BT_ZS_target_names_42', 'BT_ZS_target_names_476', 'BT_ZS_target_names_761', 'BT_ZS_target_names_9824', 'BT_ZS_y_test_3407', 'BT_ZS_y_test_42', 'BT_ZS_y_test_476', 'BT_ZS_y_test_761', 'BT_ZS_y_test_9824', 'GP_FT_predictions_3407', 'GP_FT_predictions_42', 'GP_FT_predictions_476', 'GP_FT_predictions_761', 'GP_FT_predictions_9824', 'GP_FT_target_names_3407', 'GP_FT_target_names_42', 'GP_FT_target_names_476', 'GP_FT_target_names_761', 'GP_FT_target_names_9824', 'GP_FT_train_loss_3407', 'GP_FT_train_loss_42', 'GP_FT_train_loss_476', 'GP_FT_train_loss_761', 'GP_FT_train_loss_9824', 'GP_FT_val_loss_3407', 'GP_FT_val_loss_42', 'GP_FT_val_loss_476', 'GP_FT_val_loss_761', 'GP_FT_val_loss_9824', 'GP_FT_y_test_3407', 'GP_FT_y_test_42', 'GP_FT_y_test_476', 'GP_FT_y_test_761', 'GP_FT_y_test_9824', 'GP_ZS_predictions_3407', 'GP_ZS_predictions_42', 'GP_ZS_predictions_476', 'GP_ZS_predictions_761', 'GP_ZS_predictions_9824', 'GP_ZS_target_names_3407', 'GP_ZS_target_names_42', 'GP_ZS_target_names_476', 'GP_ZS_target_names_761', 'GP_ZS_target_names_9824', 'GP_ZS_y_test_3407', 'GP_ZS_y_test_42', 'GP_ZS_y_test_476', 'GP_ZS_y_test_761', 'GP_ZS_y_test_9824', 'PCA_predictions_3407', 'PCA_predictions_42', 'PCA_predictions_476', 'PCA_predictions_761', 'PCA_predictions_9824', 'PCA_target_names_3407', 'PCA_target_names_42', 'PCA_target_names_476', 'PCA_target_names_761', 'PCA_target_names_9824', 'PCA_y_test_3407', 'PCA_y_test_42', 'PCA_y_test_476', 'PCA_y_test_761', 'PCA_y_test_9824', 'RM_FT_predictions_3407', 'RM_FT_predictions_42', 'RM_FT_predictions_476', 'RM_FT_predictions_761', 'RM_FT_predictions_9824', 'RM_FT_target_names_3407', 'RM_FT_target_names_42', 'RM_FT_target_names_476', 'RM_FT_target_names_761', 'RM_FT_target_names_9824', 'RM_FT_train_loss_3407', 'RM_FT_train_loss_42', 'RM_FT_train_loss_476', 'RM_FT_train_loss_761', 'RM_FT_train_loss_9824', 'RM_FT_val_loss_3407', 'RM_FT_val_loss_42', 'RM_FT_val_loss_476', 'RM_FT_val_loss_761', 'RM_FT_val_loss_9824', 'RM_FT_y_test_3407', 'RM_FT_y_test_42', 'RM_FT_y_test_476', 'RM_FT_y_test_761', 'RM_FT_y_test_9824', 'RM_ZS_predictions_3407', 'RM_ZS_predictions_42', 'RM_ZS_predictions_476', 'RM_ZS_predictions_761', 'RM_ZS_predictions_9824', 'RM_ZS_target_names_3407', 'RM_ZS_target_names_42', 'RM_ZS_target_names_476', 'RM_ZS_target_names_761', 'RM_ZS_target_names_9824', 'RM_ZS_y_test_3407', 'RM_ZS_y_test_42', 'RM_ZS_y_test_476', 'RM_ZS_y_test_761', 'RM_ZS_y_test_9824', 'supervised_predictions_3407', 'supervised_predictions_42', 'supervised_predictions_476', 'supervised_predictions_761', 'supervised_predictions_9824', 'supervised_target_names_3407', 'supervised_target_names_42', 'supervised_target_names_476', 'supervised_target_names_761', 'supervised_target_names_9824', 'supervised_train_loss_3407', 'supervised_train_loss_42', 'supervised_train_loss_476', 'supervised_train_loss_761', 'supervised_train_loss_9824', 'supervised_val_loss_3407', 'supervised_val_loss_42', 'supervised_val_loss_476', 'supervised_val_loss_761', 'supervised_val_loss_9824', 'supervised_y_test_3407', 'supervised_y_test_42', 'supervised_y_test_476', 'supervised_y_test_761', 'supervised_y_test_9824', '_scvi_uuid', '_scvi_manager_uuid', 'log1p'\n",
      "    obsm: 'PCA_3407', 'PCA_42', 'PCA_476', 'PCA_761', 'PCA_9824', 'RM_FT', 'SSL_BT_FT', 'SSL_BT_FT_3407', 'SSL_BT_FT_42', 'SSL_BT_FT_476', 'SSL_BT_FT_761', 'SSL_BT_FT_9824', 'SSL_BT_ZS_3407', 'SSL_BT_ZS_42', 'SSL_BT_ZS_476', 'SSL_BT_ZS_761', 'SSL_BT_ZS_9824', 'SSL_GP_FT_3407', 'SSL_GP_FT_42', 'SSL_GP_FT_476', 'SSL_GP_FT_761', 'SSL_GP_FT_9824', 'SSL_GP_ZS_3407', 'SSL_GP_ZS_42', 'SSL_GP_ZS_476', 'SSL_GP_ZS_761', 'SSL_GP_ZS_9824', 'SSL_RM_FT_3407', 'SSL_RM_FT_42', 'SSL_RM_FT_476', 'SSL_RM_FT_761', 'SSL_RM_FT_9824', 'SSL_RM_ZS_3407', 'SSL_RM_ZS_42', 'SSL_RM_ZS_476', 'SSL_RM_ZS_761', 'SSL_RM_ZS_9824', 'spatial', 'supervised_3407', 'supervised_42', 'supervised_476', 'supervised_761', 'supervised_9824'\n",
      "AnnData object with n_obs × n_vars = 30365 × 18079\n",
      "    obs: 'n_counts', 'source', 'domain_id', '_scvi_batch', '_scvi_labels'\n",
      "    var: 'gene_ids', 'feature_types', 'genome'\n",
      "    uns: '_scvi_uuid', '_scvi_manager_uuid', 'log1p'\n"
     ]
    }
   ],
   "source": [
    "sc.pp.normalize_total(st_data)\n",
    "sc.pp.log1p(st_data)\n",
    "up.batch_scale(st_data)\n",
    "print(st_data)\n",
    "sc.pp.normalize_total(sc_data)\n",
    "sc.pp.log1p(sc_data)\n",
    "up.batch_scale(sc_data)\n",
    "print(sc_data)"
   ]
  },
  {
   "cell_type": "code",
   "execution_count": 31,
   "metadata": {
    "execution": {
     "iopub.execute_input": "2025-04-14T06:19:28.124316Z",
     "iopub.status.busy": "2025-04-14T06:19:28.124157Z",
     "iopub.status.idle": "2025-04-14T06:37:14.190528Z",
     "shell.execute_reply": "2025-04-14T06:37:14.189726Z"
    }
   },
   "outputs": [
    {
     "name": "stdout",
     "output_type": "stream",
     "text": [
      "Device: cuda\n",
      "Dataset 0: st\n",
      "AnnData object with n_obs × n_vars = 166354 × 307\n",
      "    obs: 'cell_type', 'cell_id', 'x_centroid', 'y_centroid', 'transcript_counts', 'control_probe_counts', 'control_codeword_counts', 'total_counts', 'cell_area', 'nucleus_area', 'n_counts', 'domain_id', 'source', '_scvi_batch', '_scvi_labels'\n",
      "    var: 'gene_ids', 'feature_types', 'genome'\n",
      "    uns: 'BT_FT_predictions_3407', 'BT_FT_predictions_42', 'BT_FT_predictions_476', 'BT_FT_predictions_761', 'BT_FT_predictions_9824', 'BT_FT_target_names_3407', 'BT_FT_target_names_42', 'BT_FT_target_names_476', 'BT_FT_target_names_761', 'BT_FT_target_names_9824', 'BT_FT_train_loss_3407', 'BT_FT_train_loss_42', 'BT_FT_train_loss_476', 'BT_FT_train_loss_761', 'BT_FT_train_loss_9824', 'BT_FT_val_loss_3407', 'BT_FT_val_loss_42', 'BT_FT_val_loss_476', 'BT_FT_val_loss_761', 'BT_FT_val_loss_9824', 'BT_FT_y_test_3407', 'BT_FT_y_test_42', 'BT_FT_y_test_476', 'BT_FT_y_test_761', 'BT_FT_y_test_9824', 'BT_ZS_predictions_3407', 'BT_ZS_predictions_42', 'BT_ZS_predictions_476', 'BT_ZS_predictions_761', 'BT_ZS_predictions_9824', 'BT_ZS_target_names_3407', 'BT_ZS_target_names_42', 'BT_ZS_target_names_476', 'BT_ZS_target_names_761', 'BT_ZS_target_names_9824', 'BT_ZS_y_test_3407', 'BT_ZS_y_test_42', 'BT_ZS_y_test_476', 'BT_ZS_y_test_761', 'BT_ZS_y_test_9824', 'GP_FT_predictions_3407', 'GP_FT_predictions_42', 'GP_FT_predictions_476', 'GP_FT_predictions_761', 'GP_FT_predictions_9824', 'GP_FT_target_names_3407', 'GP_FT_target_names_42', 'GP_FT_target_names_476', 'GP_FT_target_names_761', 'GP_FT_target_names_9824', 'GP_FT_train_loss_3407', 'GP_FT_train_loss_42', 'GP_FT_train_loss_476', 'GP_FT_train_loss_761', 'GP_FT_train_loss_9824', 'GP_FT_val_loss_3407', 'GP_FT_val_loss_42', 'GP_FT_val_loss_476', 'GP_FT_val_loss_761', 'GP_FT_val_loss_9824', 'GP_FT_y_test_3407', 'GP_FT_y_test_42', 'GP_FT_y_test_476', 'GP_FT_y_test_761', 'GP_FT_y_test_9824', 'GP_ZS_predictions_3407', 'GP_ZS_predictions_42', 'GP_ZS_predictions_476', 'GP_ZS_predictions_761', 'GP_ZS_predictions_9824', 'GP_ZS_target_names_3407', 'GP_ZS_target_names_42', 'GP_ZS_target_names_476', 'GP_ZS_target_names_761', 'GP_ZS_target_names_9824', 'GP_ZS_y_test_3407', 'GP_ZS_y_test_42', 'GP_ZS_y_test_476', 'GP_ZS_y_test_761', 'GP_ZS_y_test_9824', 'PCA_predictions_3407', 'PCA_predictions_42', 'PCA_predictions_476', 'PCA_predictions_761', 'PCA_predictions_9824', 'PCA_target_names_3407', 'PCA_target_names_42', 'PCA_target_names_476', 'PCA_target_names_761', 'PCA_target_names_9824', 'PCA_y_test_3407', 'PCA_y_test_42', 'PCA_y_test_476', 'PCA_y_test_761', 'PCA_y_test_9824', 'RM_FT_predictions_3407', 'RM_FT_predictions_42', 'RM_FT_predictions_476', 'RM_FT_predictions_761', 'RM_FT_predictions_9824', 'RM_FT_target_names_3407', 'RM_FT_target_names_42', 'RM_FT_target_names_476', 'RM_FT_target_names_761', 'RM_FT_target_names_9824', 'RM_FT_train_loss_3407', 'RM_FT_train_loss_42', 'RM_FT_train_loss_476', 'RM_FT_train_loss_761', 'RM_FT_train_loss_9824', 'RM_FT_val_loss_3407', 'RM_FT_val_loss_42', 'RM_FT_val_loss_476', 'RM_FT_val_loss_761', 'RM_FT_val_loss_9824', 'RM_FT_y_test_3407', 'RM_FT_y_test_42', 'RM_FT_y_test_476', 'RM_FT_y_test_761', 'RM_FT_y_test_9824', 'RM_ZS_predictions_3407', 'RM_ZS_predictions_42', 'RM_ZS_predictions_476', 'RM_ZS_predictions_761', 'RM_ZS_predictions_9824', 'RM_ZS_target_names_3407', 'RM_ZS_target_names_42', 'RM_ZS_target_names_476', 'RM_ZS_target_names_761', 'RM_ZS_target_names_9824', 'RM_ZS_y_test_3407', 'RM_ZS_y_test_42', 'RM_ZS_y_test_476', 'RM_ZS_y_test_761', 'RM_ZS_y_test_9824', 'supervised_predictions_3407', 'supervised_predictions_42', 'supervised_predictions_476', 'supervised_predictions_761', 'supervised_predictions_9824', 'supervised_target_names_3407', 'supervised_target_names_42', 'supervised_target_names_476', 'supervised_target_names_761', 'supervised_target_names_9824', 'supervised_train_loss_3407', 'supervised_train_loss_42', 'supervised_train_loss_476', 'supervised_train_loss_761', 'supervised_train_loss_9824', 'supervised_val_loss_3407', 'supervised_val_loss_42', 'supervised_val_loss_476', 'supervised_val_loss_761', 'supervised_val_loss_9824', 'supervised_y_test_3407', 'supervised_y_test_42', 'supervised_y_test_476', 'supervised_y_test_761', 'supervised_y_test_9824', '_scvi_uuid', '_scvi_manager_uuid', 'log1p'\n",
      "    obsm: 'PCA_3407', 'PCA_42', 'PCA_476', 'PCA_761', 'PCA_9824', 'RM_FT', 'SSL_BT_FT', 'SSL_BT_FT_3407', 'SSL_BT_FT_42', 'SSL_BT_FT_476', 'SSL_BT_FT_761', 'SSL_BT_FT_9824', 'SSL_BT_ZS_3407', 'SSL_BT_ZS_42', 'SSL_BT_ZS_476', 'SSL_BT_ZS_761', 'SSL_BT_ZS_9824', 'SSL_GP_FT_3407', 'SSL_GP_FT_42', 'SSL_GP_FT_476', 'SSL_GP_FT_761', 'SSL_GP_FT_9824', 'SSL_GP_ZS_3407', 'SSL_GP_ZS_42', 'SSL_GP_ZS_476', 'SSL_GP_ZS_761', 'SSL_GP_ZS_9824', 'SSL_RM_FT_3407', 'SSL_RM_FT_42', 'SSL_RM_FT_476', 'SSL_RM_FT_761', 'SSL_RM_FT_9824', 'SSL_RM_ZS_3407', 'SSL_RM_ZS_42', 'SSL_RM_ZS_476', 'SSL_RM_ZS_761', 'SSL_RM_ZS_9824', 'spatial', 'supervised_3407', 'supervised_42', 'supervised_476', 'supervised_761', 'supervised_9824'\n",
      "Dataset 1: sc\n",
      "AnnData object with n_obs × n_vars = 30365 × 18079\n",
      "    obs: 'n_counts', 'source', 'domain_id', '_scvi_batch', '_scvi_labels'\n",
      "    var: 'gene_ids', 'feature_types', 'genome'\n",
      "    uns: '_scvi_uuid', '_scvi_manager_uuid', 'log1p'\n",
      "Reference dataset is dataset 1\n",
      "\n",
      "\n",
      "Data with common HVG\n",
      "AnnData object with n_obs × n_vars = 196719 × 307\n",
      "    obs: 'cell_type', 'cell_id', 'x_centroid', 'y_centroid', 'transcript_counts', 'control_probe_counts', 'control_codeword_counts', 'total_counts', 'cell_area', 'nucleus_area', 'n_counts', 'domain_id', 'source'\n",
      "    var: 'gene_ids', 'feature_types-0', 'genome-0', 'feature_types-1', 'genome-1'\n",
      "    uns: 'log1p'\n",
      "\n",
      "\n"
     ]
    },
    {
     "name": "stderr",
     "output_type": "stream",
     "text": [
      "/home/hanchuangyi/miniconda3/envs/scvi/lib/python3.10/site-packages/uniport/function.py:443: FutureWarning: Series.__getitem__ treating keys as positions is deprecated. In a future version, integer keys will always be treated as labels (consistent with DataFrame behavior). To access a value by position, use `ser.iloc[pos]`\n",
      "  print('Dataset {}:'.format(i), adata.obs[source_name][0])\n",
      "2025-04-14 11:09:21,897 - root - INFO - model\n",
      "VAE(\n",
      "  (encoder): Encoder(\n",
      "    (enc): ModuleList(\n",
      "      (0): NN(\n",
      "        (net): ModuleList(\n",
      "          (0): Block(\n",
      "            (fc): Linear(in_features=307, out_features=1024, bias=True)\n",
      "            (norm): BatchNorm1d(1024, eps=1e-05, momentum=0.1, affine=True, track_running_stats=True)\n",
      "            (act): ReLU()\n",
      "          )\n",
      "        )\n",
      "      )\n",
      "    )\n",
      "    (mu_enc): ModuleList(\n",
      "      (0): NN(\n",
      "        (net): ModuleList(\n",
      "          (0): Block(\n",
      "            (fc): Linear(in_features=1024, out_features=16, bias=True)\n",
      "          )\n",
      "        )\n",
      "      )\n",
      "    )\n",
      "    (var_enc): ModuleList(\n",
      "      (0): NN(\n",
      "        (net): ModuleList(\n",
      "          (0): Block(\n",
      "            (fc): Linear(in_features=1024, out_features=16, bias=True)\n",
      "          )\n",
      "        )\n",
      "      )\n",
      "    )\n",
      "  )\n",
      "  (decoder): Decoder(\n",
      "    (dec): ModuleList(\n",
      "      (0): NN(\n",
      "        (net): ModuleList(\n",
      "          (0): Block(\n",
      "            (fc): Linear(in_features=16, out_features=307, bias=True)\n",
      "            (norm): DSBatchNorm(\n",
      "              (bns): ModuleList(\n",
      "                (0-1): 2 x BatchNorm1d(307, eps=1e-05, momentum=0.1, affine=True, track_running_stats=True)\n",
      "              )\n",
      "            )\n",
      "            (act): Sigmoid()\n",
      "          )\n",
      "        )\n",
      "      )\n",
      "      (1): NN(\n",
      "        (net): ModuleList(\n",
      "          (0): Block(\n",
      "            (fc): Linear(in_features=16, out_features=307, bias=True)\n",
      "            (norm): BatchNorm1d(307, eps=1e-05, momentum=0.1, affine=True, track_running_stats=True)\n",
      "            (act): Sigmoid()\n",
      "          )\n",
      "        )\n",
      "      )\n",
      "      (2): NN(\n",
      "        (net): ModuleList(\n",
      "          (0): Block(\n",
      "            (fc): Linear(in_features=16, out_features=18079, bias=True)\n",
      "            (norm): BatchNorm1d(18079, eps=1e-05, momentum=0.1, affine=True, track_running_stats=True)\n",
      "            (act): Sigmoid()\n",
      "          )\n",
      "        )\n",
      "      )\n",
      "    )\n",
      "  )\n",
      ")\n",
      "2025-04-14 11:09:21,897 - root - INFO - model\n",
      "VAE(\n",
      "  (encoder): Encoder(\n",
      "    (enc): ModuleList(\n",
      "      (0): NN(\n",
      "        (net): ModuleList(\n",
      "          (0): Block(\n",
      "            (fc): Linear(in_features=307, out_features=1024, bias=True)\n",
      "            (norm): BatchNorm1d(1024, eps=1e-05, momentum=0.1, affine=True, track_running_stats=True)\n",
      "            (act): ReLU()\n",
      "          )\n",
      "        )\n",
      "      )\n",
      "    )\n",
      "    (mu_enc): ModuleList(\n",
      "      (0): NN(\n",
      "        (net): ModuleList(\n",
      "          (0): Block(\n",
      "            (fc): Linear(in_features=1024, out_features=16, bias=True)\n",
      "          )\n",
      "        )\n",
      "      )\n",
      "    )\n",
      "    (var_enc): ModuleList(\n",
      "      (0): NN(\n",
      "        (net): ModuleList(\n",
      "          (0): Block(\n",
      "            (fc): Linear(in_features=1024, out_features=16, bias=True)\n",
      "          )\n",
      "        )\n",
      "      )\n",
      "    )\n",
      "  )\n",
      "  (decoder): Decoder(\n",
      "    (dec): ModuleList(\n",
      "      (0): NN(\n",
      "        (net): ModuleList(\n",
      "          (0): Block(\n",
      "            (fc): Linear(in_features=16, out_features=307, bias=True)\n",
      "            (norm): DSBatchNorm(\n",
      "              (bns): ModuleList(\n",
      "                (0-1): 2 x BatchNorm1d(307, eps=1e-05, momentum=0.1, affine=True, track_running_stats=True)\n",
      "              )\n",
      "            )\n",
      "            (act): Sigmoid()\n",
      "          )\n",
      "        )\n",
      "      )\n",
      "      (1): NN(\n",
      "        (net): ModuleList(\n",
      "          (0): Block(\n",
      "            (fc): Linear(in_features=16, out_features=307, bias=True)\n",
      "            (norm): BatchNorm1d(307, eps=1e-05, momentum=0.1, affine=True, track_running_stats=True)\n",
      "            (act): Sigmoid()\n",
      "          )\n",
      "        )\n",
      "      )\n",
      "      (2): NN(\n",
      "        (net): ModuleList(\n",
      "          (0): Block(\n",
      "            (fc): Linear(in_features=16, out_features=18079, bias=True)\n",
      "            (norm): BatchNorm1d(18079, eps=1e-05, momentum=0.1, affine=True, track_running_stats=True)\n",
      "            (act): Sigmoid()\n",
      "          )\n",
      "        )\n",
      "      )\n",
      "    )\n",
      "  )\n",
      ")\n",
      "2025-04-14 11:09:21,897 - root - INFO - model\n",
      "VAE(\n",
      "  (encoder): Encoder(\n",
      "    (enc): ModuleList(\n",
      "      (0): NN(\n",
      "        (net): ModuleList(\n",
      "          (0): Block(\n",
      "            (fc): Linear(in_features=307, out_features=1024, bias=True)\n",
      "            (norm): BatchNorm1d(1024, eps=1e-05, momentum=0.1, affine=True, track_running_stats=True)\n",
      "            (act): ReLU()\n",
      "          )\n",
      "        )\n",
      "      )\n",
      "    )\n",
      "    (mu_enc): ModuleList(\n",
      "      (0): NN(\n",
      "        (net): ModuleList(\n",
      "          (0): Block(\n",
      "            (fc): Linear(in_features=1024, out_features=16, bias=True)\n",
      "          )\n",
      "        )\n",
      "      )\n",
      "    )\n",
      "    (var_enc): ModuleList(\n",
      "      (0): NN(\n",
      "        (net): ModuleList(\n",
      "          (0): Block(\n",
      "            (fc): Linear(in_features=1024, out_features=16, bias=True)\n",
      "          )\n",
      "        )\n",
      "      )\n",
      "    )\n",
      "  )\n",
      "  (decoder): Decoder(\n",
      "    (dec): ModuleList(\n",
      "      (0): NN(\n",
      "        (net): ModuleList(\n",
      "          (0): Block(\n",
      "            (fc): Linear(in_features=16, out_features=307, bias=True)\n",
      "            (norm): DSBatchNorm(\n",
      "              (bns): ModuleList(\n",
      "                (0-1): 2 x BatchNorm1d(307, eps=1e-05, momentum=0.1, affine=True, track_running_stats=True)\n",
      "              )\n",
      "            )\n",
      "            (act): Sigmoid()\n",
      "          )\n",
      "        )\n",
      "      )\n",
      "      (1): NN(\n",
      "        (net): ModuleList(\n",
      "          (0): Block(\n",
      "            (fc): Linear(in_features=16, out_features=307, bias=True)\n",
      "            (norm): BatchNorm1d(307, eps=1e-05, momentum=0.1, affine=True, track_running_stats=True)\n",
      "            (act): Sigmoid()\n",
      "          )\n",
      "        )\n",
      "      )\n",
      "      (2): NN(\n",
      "        (net): ModuleList(\n",
      "          (0): Block(\n",
      "            (fc): Linear(in_features=16, out_features=18079, bias=True)\n",
      "            (norm): BatchNorm1d(18079, eps=1e-05, momentum=0.1, affine=True, track_running_stats=True)\n",
      "            (act): Sigmoid()\n",
      "          )\n",
      "        )\n",
      "      )\n",
      "    )\n",
      "  )\n",
      ")\n",
      "Epochs: 100%|██████████| 40/40 [20:00<00:00, 30.00s/it, recloss=511.41,klloss=9.32,otloss=7.87]    \n"
     ]
    }
   ],
   "source": [
    "adatas = [st_data, sc_data]\n",
    "adata = up.Run(adatas=adatas, adata_cm=adata_cm, model_info=True)"
   ]
  },
  {
   "cell_type": "code",
   "execution_count": 32,
   "metadata": {
    "execution": {
     "iopub.execute_input": "2025-04-14T06:37:14.192808Z",
     "iopub.status.busy": "2025-04-14T06:37:14.192621Z",
     "iopub.status.idle": "2025-04-14T06:37:25.072153Z",
     "shell.execute_reply": "2025-04-14T06:37:25.071482Z"
    }
   },
   "outputs": [
    {
     "name": "stdout",
     "output_type": "stream",
     "text": [
      "Device: cuda\n"
     ]
    },
    {
     "name": "stderr",
     "output_type": "stream",
     "text": [
      "/home/hanchuangyi/miniconda3/envs/scvi/lib/python3.10/site-packages/uniport/function.py:414: FutureWarning: Series.__getitem__ treating keys as positions is deprecated. In a future version, integer keys will always be treated as labels (consistent with DataFrame behavior). To access a value by position, use `ser.iloc[pos]`\n",
      "  batches = adata_cm.obs[source_name][np.sort(idx)]\n"
     ]
    },
    {
     "data": {
      "text/plain": [
       "array([[0.04381977, 0.06471887, 0.04441128, ..., 0.1168635 , 0.28275442,\n",
       "        0.20236127],\n",
       "       [0.04854046, 0.07585114, 0.04788711, ..., 0.20931093, 0.41731685,\n",
       "        0.34283775],\n",
       "       [0.03250865, 0.04637736, 0.03878128, ..., 0.08811688, 0.20850605,\n",
       "        0.13847712],\n",
       "       ...,\n",
       "       [0.08615073, 0.0953062 , 0.0682345 , ..., 0.20659529, 0.33975649,\n",
       "        0.33758757],\n",
       "       [0.09968153, 0.09920027, 0.06927311, ..., 0.19481735, 0.34004694,\n",
       "        0.32216534],\n",
       "       [0.08263823, 0.09529375, 0.06429652, ..., 0.23055452, 0.39195666,\n",
       "        0.36559436]])"
      ]
     },
     "execution_count": 32,
     "metadata": {},
     "output_type": "execute_result"
    }
   ],
   "source": [
    "adata_predicted = up.Run(adata_cm=st_data, out='predict', pred_id=1)\n",
    "adata_predicted.obsm['predict']\n"
   ]
  },
  {
   "cell_type": "code",
   "execution_count": 33,
   "metadata": {
    "execution": {
     "iopub.execute_input": "2025-04-14T06:37:25.073835Z",
     "iopub.status.busy": "2025-04-14T06:37:25.073660Z",
     "iopub.status.idle": "2025-04-14T06:37:25.078487Z",
     "shell.execute_reply": "2025-04-14T06:37:25.078054Z"
    }
   },
   "outputs": [
    {
     "data": {
      "text/plain": [
       "(166354, 18079)"
      ]
     },
     "execution_count": 33,
     "metadata": {},
     "output_type": "execute_result"
    }
   ],
   "source": [
    "adata_predicted.obsm['predict'].shape"
   ]
  },
  {
   "cell_type": "code",
   "execution_count": 34,
   "metadata": {
    "execution": {
     "iopub.execute_input": "2025-04-14T06:37:25.079771Z",
     "iopub.status.busy": "2025-04-14T06:37:25.079618Z",
     "iopub.status.idle": "2025-04-14T06:37:25.094606Z",
     "shell.execute_reply": "2025-04-14T06:37:25.094162Z"
    }
   },
   "outputs": [],
   "source": [
    "import anndata as ad\n",
    "adata_imputed = ad.AnnData(\n",
    "    X=adata_predicted.obsm['predict'],\n",
    "    obs=st_data.obs,\n",
    "    uns=st_data.uns,\n",
    ")"
   ]
  },
  {
   "cell_type": "code",
   "execution_count": 35,
   "metadata": {},
   "outputs": [
    {
     "data": {
      "text/plain": [
       "Index(['SAMD11', 'NOC2L', 'KLHL17', 'PLEKHN1', 'PERM1', 'HES4', 'ISG15',\n",
       "       'AGRN', 'RNF223', 'C1orf159',\n",
       "       ...\n",
       "       'MT-ND2', 'MT-CO2', 'MT-ATP6', 'MT-CO3', 'MT-ND3', 'MT-ND4L', 'MT-ND4',\n",
       "       'MT-ND5', 'MT-ND6', 'MT-CYB'],\n",
       "      dtype='object', length=18079)"
      ]
     },
     "execution_count": 35,
     "metadata": {},
     "output_type": "execute_result"
    }
   ],
   "source": [
    "adata_imputed.var_names = sc_data.var_names\n",
    "adata_imputed.var_names"
   ]
  },
  {
   "cell_type": "code",
   "execution_count": 36,
   "metadata": {
    "execution": {
     "iopub.execute_input": "2025-04-14T06:37:25.095854Z",
     "iopub.status.busy": "2025-04-14T06:37:25.095694Z",
     "iopub.status.idle": "2025-04-14T06:37:34.809157Z",
     "shell.execute_reply": "2025-04-14T06:37:34.808559Z"
    }
   },
   "outputs": [],
   "source": [
    "adata_imputed.X = adata_imputed.X.astype(np.float16)"
   ]
  },
  {
   "cell_type": "code",
   "execution_count": 37,
   "metadata": {
    "execution": {
     "iopub.execute_input": "2025-04-14T06:37:34.810938Z",
     "iopub.status.busy": "2025-04-14T06:37:34.810763Z",
     "iopub.status.idle": "2025-04-14T06:37:39.094329Z",
     "shell.execute_reply": "2025-04-14T06:37:39.093715Z"
    }
   },
   "outputs": [
    {
     "name": "stderr",
     "output_type": "stream",
     "text": [
      "... storing 'source' as categorical\n"
     ]
    }
   ],
   "source": [
    "adata_imputed.write_h5ad('../dataset/uniport_imputed_Xenium_breast_cancer_sample1_replicate1.h5ad')"
   ]
  }
 ],
 "metadata": {
  "kernelspec": {
   "display_name": "tangram",
   "language": "python",
   "name": "python3"
  },
  "language_info": {
   "codemirror_mode": {
    "name": "ipython",
    "version": 3
   },
   "file_extension": ".py",
   "mimetype": "text/x-python",
   "name": "python",
   "nbconvert_exporter": "python",
   "pygments_lexer": "ipython3",
   "version": "3.10.13"
  },
  "widgets": {
   "application/vnd.jupyter.widget-state+json": {
    "state": {
     "106dfa79aaf347e39595ee650e6baadc": {
      "model_module": "@jupyter-widgets/controls",
      "model_module_version": "2.0.0",
      "model_name": "FloatProgressModel",
      "state": {
       "_dom_classes": [],
       "_model_module": "@jupyter-widgets/controls",
       "_model_module_version": "2.0.0",
       "_model_name": "FloatProgressModel",
       "_view_count": null,
       "_view_module": "@jupyter-widgets/controls",
       "_view_module_version": "2.0.0",
       "_view_name": "ProgressView",
       "bar_style": "success",
       "description": "",
       "description_allow_html": false,
       "layout": "IPY_MODEL_fcbb039a8e8841309cf40bf8ea987f00",
       "max": 50,
       "min": 0,
       "orientation": "horizontal",
       "style": "IPY_MODEL_4b3dfe0ea63f423ca503b737f55c42f3",
       "tabbable": null,
       "tooltip": null,
       "value": 50
      }
     },
     "1968672927ab4078a315d58eab0cb2e8": {
      "model_module": "@jupyter-widgets/base",
      "model_module_version": "2.0.0",
      "model_name": "LayoutModel",
      "state": {
       "_model_module": "@jupyter-widgets/base",
       "_model_module_version": "2.0.0",
       "_model_name": "LayoutModel",
       "_view_count": null,
       "_view_module": "@jupyter-widgets/base",
       "_view_module_version": "2.0.0",
       "_view_name": "LayoutView",
       "align_content": null,
       "align_items": null,
       "align_self": null,
       "border_bottom": null,
       "border_left": null,
       "border_right": null,
       "border_top": null,
       "bottom": null,
       "display": null,
       "flex": null,
       "flex_flow": null,
       "grid_area": null,
       "grid_auto_columns": null,
       "grid_auto_flow": null,
       "grid_auto_rows": null,
       "grid_column": null,
       "grid_gap": null,
       "grid_row": null,
       "grid_template_areas": null,
       "grid_template_columns": null,
       "grid_template_rows": null,
       "height": null,
       "justify_content": null,
       "justify_items": null,
       "left": null,
       "margin": null,
       "max_height": null,
       "max_width": null,
       "min_height": null,
       "min_width": null,
       "object_fit": null,
       "object_position": null,
       "order": null,
       "overflow": null,
       "padding": null,
       "right": null,
       "top": null,
       "visibility": null,
       "width": null
      }
     },
     "4b3dfe0ea63f423ca503b737f55c42f3": {
      "model_module": "@jupyter-widgets/controls",
      "model_module_version": "2.0.0",
      "model_name": "ProgressStyleModel",
      "state": {
       "_model_module": "@jupyter-widgets/controls",
       "_model_module_version": "2.0.0",
       "_model_name": "ProgressStyleModel",
       "_view_count": null,
       "_view_module": "@jupyter-widgets/base",
       "_view_module_version": "2.0.0",
       "_view_name": "StyleView",
       "bar_color": null,
       "description_width": ""
      }
     },
     "580d7a6dd9a446419fcd2f9c16d579e5": {
      "model_module": "@jupyter-widgets/base",
      "model_module_version": "2.0.0",
      "model_name": "LayoutModel",
      "state": {
       "_model_module": "@jupyter-widgets/base",
       "_model_module_version": "2.0.0",
       "_model_name": "LayoutModel",
       "_view_count": null,
       "_view_module": "@jupyter-widgets/base",
       "_view_module_version": "2.0.0",
       "_view_name": "LayoutView",
       "align_content": null,
       "align_items": null,
       "align_self": null,
       "border_bottom": null,
       "border_left": null,
       "border_right": null,
       "border_top": null,
       "bottom": null,
       "display": null,
       "flex": null,
       "flex_flow": null,
       "grid_area": null,
       "grid_auto_columns": null,
       "grid_auto_flow": null,
       "grid_auto_rows": null,
       "grid_column": null,
       "grid_gap": null,
       "grid_row": null,
       "grid_template_areas": null,
       "grid_template_columns": null,
       "grid_template_rows": null,
       "height": null,
       "justify_content": null,
       "justify_items": null,
       "left": null,
       "margin": null,
       "max_height": null,
       "max_width": null,
       "min_height": null,
       "min_width": null,
       "object_fit": null,
       "object_position": null,
       "order": null,
       "overflow": null,
       "padding": null,
       "right": null,
       "top": null,
       "visibility": null,
       "width": null
      }
     },
     "59b8f1dfa8d540178fd90f6ce689a36a": {
      "model_module": "@jupyter-widgets/controls",
      "model_module_version": "2.0.0",
      "model_name": "HTMLModel",
      "state": {
       "_dom_classes": [],
       "_model_module": "@jupyter-widgets/controls",
       "_model_module_version": "2.0.0",
       "_model_name": "HTMLModel",
       "_view_count": null,
       "_view_module": "@jupyter-widgets/controls",
       "_view_module_version": "2.0.0",
       "_view_name": "HTMLView",
       "description": "",
       "description_allow_html": false,
       "layout": "IPY_MODEL_cb89f6b51947472bb85df283b3b5980f",
       "placeholder": "​",
       "style": "IPY_MODEL_5e51c78097c142bf819abd3f893aa06a",
       "tabbable": null,
       "tooltip": null,
       "value": "Epoch 50/50: 100%"
      }
     },
     "5e51c78097c142bf819abd3f893aa06a": {
      "model_module": "@jupyter-widgets/controls",
      "model_module_version": "2.0.0",
      "model_name": "HTMLStyleModel",
      "state": {
       "_model_module": "@jupyter-widgets/controls",
       "_model_module_version": "2.0.0",
       "_model_name": "HTMLStyleModel",
       "_view_count": null,
       "_view_module": "@jupyter-widgets/base",
       "_view_module_version": "2.0.0",
       "_view_name": "StyleView",
       "background": null,
       "description_width": "",
       "font_size": null,
       "text_color": null
      }
     },
     "a4d016c2633441a4a98b92d4f45c1004": {
      "model_module": "@jupyter-widgets/controls",
      "model_module_version": "2.0.0",
      "model_name": "HTMLStyleModel",
      "state": {
       "_model_module": "@jupyter-widgets/controls",
       "_model_module_version": "2.0.0",
       "_model_name": "HTMLStyleModel",
       "_view_count": null,
       "_view_module": "@jupyter-widgets/base",
       "_view_module_version": "2.0.0",
       "_view_name": "StyleView",
       "background": null,
       "description_width": "",
       "font_size": null,
       "text_color": null
      }
     },
     "baf06fc0c70c4c048e508b75739574eb": {
      "model_module": "@jupyter-widgets/controls",
      "model_module_version": "2.0.0",
      "model_name": "HBoxModel",
      "state": {
       "_dom_classes": [],
       "_model_module": "@jupyter-widgets/controls",
       "_model_module_version": "2.0.0",
       "_model_name": "HBoxModel",
       "_view_count": null,
       "_view_module": "@jupyter-widgets/controls",
       "_view_module_version": "2.0.0",
       "_view_name": "HBoxView",
       "box_style": "",
       "children": [
        "IPY_MODEL_59b8f1dfa8d540178fd90f6ce689a36a",
        "IPY_MODEL_106dfa79aaf347e39595ee650e6baadc",
        "IPY_MODEL_f5938b7f651649a29910ba5477601c70"
       ],
       "layout": "IPY_MODEL_1968672927ab4078a315d58eab0cb2e8",
       "tabbable": null,
       "tooltip": null
      }
     },
     "cb89f6b51947472bb85df283b3b5980f": {
      "model_module": "@jupyter-widgets/base",
      "model_module_version": "2.0.0",
      "model_name": "LayoutModel",
      "state": {
       "_model_module": "@jupyter-widgets/base",
       "_model_module_version": "2.0.0",
       "_model_name": "LayoutModel",
       "_view_count": null,
       "_view_module": "@jupyter-widgets/base",
       "_view_module_version": "2.0.0",
       "_view_name": "LayoutView",
       "align_content": null,
       "align_items": null,
       "align_self": null,
       "border_bottom": null,
       "border_left": null,
       "border_right": null,
       "border_top": null,
       "bottom": null,
       "display": null,
       "flex": null,
       "flex_flow": null,
       "grid_area": null,
       "grid_auto_columns": null,
       "grid_auto_flow": null,
       "grid_auto_rows": null,
       "grid_column": null,
       "grid_gap": null,
       "grid_row": null,
       "grid_template_areas": null,
       "grid_template_columns": null,
       "grid_template_rows": null,
       "height": null,
       "justify_content": null,
       "justify_items": null,
       "left": null,
       "margin": null,
       "max_height": null,
       "max_width": null,
       "min_height": null,
       "min_width": null,
       "object_fit": null,
       "object_position": null,
       "order": null,
       "overflow": null,
       "padding": null,
       "right": null,
       "top": null,
       "visibility": null,
       "width": null
      }
     },
     "f5938b7f651649a29910ba5477601c70": {
      "model_module": "@jupyter-widgets/controls",
      "model_module_version": "2.0.0",
      "model_name": "HTMLModel",
      "state": {
       "_dom_classes": [],
       "_model_module": "@jupyter-widgets/controls",
       "_model_module_version": "2.0.0",
       "_model_name": "HTMLModel",
       "_view_count": null,
       "_view_module": "@jupyter-widgets/controls",
       "_view_module_version": "2.0.0",
       "_view_name": "HTMLView",
       "description": "",
       "description_allow_html": false,
       "layout": "IPY_MODEL_580d7a6dd9a446419fcd2f9c16d579e5",
       "placeholder": "​",
       "style": "IPY_MODEL_a4d016c2633441a4a98b92d4f45c1004",
       "tabbable": null,
       "tooltip": null,
       "value": " 50/50 [13:45&lt;00:00, 16.48s/it, v_num=1]"
      }
     },
     "fcbb039a8e8841309cf40bf8ea987f00": {
      "model_module": "@jupyter-widgets/base",
      "model_module_version": "2.0.0",
      "model_name": "LayoutModel",
      "state": {
       "_model_module": "@jupyter-widgets/base",
       "_model_module_version": "2.0.0",
       "_model_name": "LayoutModel",
       "_view_count": null,
       "_view_module": "@jupyter-widgets/base",
       "_view_module_version": "2.0.0",
       "_view_name": "LayoutView",
       "align_content": null,
       "align_items": null,
       "align_self": null,
       "border_bottom": null,
       "border_left": null,
       "border_right": null,
       "border_top": null,
       "bottom": null,
       "display": null,
       "flex": null,
       "flex_flow": null,
       "grid_area": null,
       "grid_auto_columns": null,
       "grid_auto_flow": null,
       "grid_auto_rows": null,
       "grid_column": null,
       "grid_gap": null,
       "grid_row": null,
       "grid_template_areas": null,
       "grid_template_columns": null,
       "grid_template_rows": null,
       "height": null,
       "justify_content": null,
       "justify_items": null,
       "left": null,
       "margin": null,
       "max_height": null,
       "max_width": null,
       "min_height": null,
       "min_width": null,
       "object_fit": null,
       "object_position": null,
       "order": null,
       "overflow": null,
       "padding": null,
       "right": null,
       "top": null,
       "visibility": null,
       "width": null
      }
     }
    },
    "version_major": 2,
    "version_minor": 0
   }
  }
 },
 "nbformat": 4,
 "nbformat_minor": 2
}
