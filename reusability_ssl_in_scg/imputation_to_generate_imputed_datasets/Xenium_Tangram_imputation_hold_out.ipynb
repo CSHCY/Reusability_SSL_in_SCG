{
 "cells": [
  {
   "cell_type": "code",
   "execution_count": 1,
   "metadata": {
    "execution": {
     "iopub.execute_input": "2025-04-26T16:23:11.199722Z",
     "iopub.status.busy": "2025-04-26T16:23:11.199582Z",
     "iopub.status.idle": "2025-04-26T23:53:07.357569Z",
     "shell.execute_reply": "2025-04-26T23:53:07.356679Z"
    }
   },
   "outputs": [
    {
     "name": "stderr",
     "output_type": "stream",
     "text": [
      "/home/hanchuangyi/miniconda3/envs/tangram/lib/python3.10/site-packages/anndata/_core/anndata.py:1758: UserWarning: Variable names are not unique. To make them unique, call `.var_names_make_unique`.\n",
      "  utils.warn_names_duplicates(\"var\")\n"
     ]
    },
    {
     "name": "stderr",
     "output_type": "stream",
     "text": [
      "/home/hanchuangyi/miniconda3/envs/tangram/lib/python3.10/site-packages/anndata/_core/anndata.py:1758: UserWarning: Variable names are not unique. To make them unique, call `.var_names_make_unique`.\n",
      "  utils.warn_names_duplicates(\"var\")\n"
     ]
    },
    {
     "name": "stdout",
     "output_type": "stream",
     "text": [
      "View of AnnData object with n_obs × n_vars = 30365 × 18082\n",
      "    var: 'gene_ids', 'feature_types', 'genome'\n"
     ]
    },
    {
     "name": "stdout",
     "output_type": "stream",
     "text": [
      "重复的基因: Index(['TBCE', 'HSPA14', 'TMSB15B'], dtype='object')\n",
      "Stored original expression for POSTN\n",
      "Stored original expression for IL7R\n",
      "Stored original expression for ITGAX\n",
      "Stored original expression for ACTA2\n",
      "Stored original expression for KRT15\n",
      "Stored original expression for VWF\n",
      "Stored original expression for FASN\n",
      "Stored original expression for CEACAM6\n"
     ]
    },
    {
     "name": "stdout",
     "output_type": "stream",
     "text": [
      "Original gene count: 313, After holdout: 305\n"
     ]
    },
    {
     "name": "stderr",
     "output_type": "stream",
     "text": [
      "INFO:root:298 training genes are saved in `uns``training_genes` of both single cell and spatial Anndatas.\n"
     ]
    },
    {
     "name": "stderr",
     "output_type": "stream",
     "text": [
      "INFO:root:298 overlapped genes are saved in `uns``overlap_genes` of both single cell and spatial Anndatas.\n"
     ]
    },
    {
     "name": "stderr",
     "output_type": "stream",
     "text": [
      "INFO:root:uniform based density prior is calculated and saved in `obs``uniform_density` of the spatial Anndata.\n"
     ]
    },
    {
     "name": "stderr",
     "output_type": "stream",
     "text": [
      "INFO:root:rna count based density prior is calculated and saved in `obs``rna_count_based_density` of the spatial Anndata.\n"
     ]
    },
    {
     "name": "stderr",
     "output_type": "stream",
     "text": [
      "INFO:root:Allocate tensors for mapping.\n"
     ]
    },
    {
     "name": "stderr",
     "output_type": "stream",
     "text": [
      "INFO:root:Begin training with 298 genes and rna_count_based density_prior in cells mode...\n"
     ]
    },
    {
     "name": "stderr",
     "output_type": "stream",
     "text": [
      "INFO:root:Printing scores every 100 epochs.\n"
     ]
    },
    {
     "name": "stdout",
     "output_type": "stream",
     "text": [
      "Score: 0.310, KL reg: 0.222\n"
     ]
    },
    {
     "name": "stdout",
     "output_type": "stream",
     "text": [
      "Score: 0.708, KL reg: 0.037\n"
     ]
    },
    {
     "name": "stdout",
     "output_type": "stream",
     "text": [
      "Score: 0.759, KL reg: 0.017\n"
     ]
    },
    {
     "name": "stdout",
     "output_type": "stream",
     "text": [
      "Score: 0.778, KL reg: 0.011\n"
     ]
    },
    {
     "name": "stdout",
     "output_type": "stream",
     "text": [
      "Score: 0.789, KL reg: 0.008\n"
     ]
    },
    {
     "name": "stdout",
     "output_type": "stream",
     "text": [
      "Score: 0.796, KL reg: 0.006\n"
     ]
    },
    {
     "name": "stdout",
     "output_type": "stream",
     "text": [
      "Score: 0.801, KL reg: 0.005\n"
     ]
    },
    {
     "name": "stdout",
     "output_type": "stream",
     "text": [
      "Score: 0.805, KL reg: 0.004\n"
     ]
    },
    {
     "name": "stdout",
     "output_type": "stream",
     "text": [
      "Score: 0.808, KL reg: 0.004\n"
     ]
    },
    {
     "name": "stdout",
     "output_type": "stream",
     "text": [
      "Score: 0.810, KL reg: 0.003\n"
     ]
    },
    {
     "name": "stderr",
     "output_type": "stream",
     "text": [
      "INFO:root:Saving results..\n"
     ]
    }
   ],
   "source": [
    "import scanpy as sc\n",
    "import numpy as np\n",
    "import pandas as pd\n",
    "data_path = '../dataset/Chromium_FFPE_Human_Breast_Cancer_Chromium_FFPE_Human_Breast_Cancer_count_sample_filtered_feature_bc_matrix.h5'\n",
    "sc_data = sc.read_10x_h5(data_path)\n",
    "sc_data\n",
    "\n",
    "sc_data.X = sc_data.X.toarray()\n",
    "# Randomly sample 80,000 cells\n",
    "n_cells = sc_data.shape[0]\n",
    "sample_size = min(80000, n_cells)  # Ensure we don't try to sample more than available cells\n",
    "random_indices = np.random.choice(n_cells, size=sample_size, replace=False)\n",
    "\n",
    "# Create a new AnnData object with the sampled cells\n",
    "sc_data = sc_data[random_indices, :]\n",
    "\n",
    "# Print to confirm the shape\n",
    "print(sc_data)\n",
    "st_data_path = '../dataset/Xenium_breast_cancer_sample1_replicate1.h5ad'\n",
    "st_data = sc.read_h5ad(st_data_path)\n",
    "st_data\n",
    "# 检查 sc_data.var_names 是否有重复项\n",
    "duplicates = sc_data.var_names[sc_data.var_names.duplicated()]\n",
    "print(f\"重复的基因: {duplicates}\")\n",
    "# 删除 sc_data.var_names 中的重复基因\n",
    "sc_data = sc_data[:, ~sc_data.var_names.duplicated()]\n",
    "st_data.X = st_data.X.toarray()\n",
    "\n",
    "# Define genes to hold out for validation\n",
    "holdout_genes = ['POSTN', 'IL7R', 'ITGAX', 'ACTA2', 'KRT15', 'VWF', 'FASN', 'CEACAM6']\n",
    "\n",
    "# Store the original expression values of holdout genes for later comparison\n",
    "holdout_gene_data = {}\n",
    "for gene in holdout_genes:\n",
    "    if gene in st_data.var_names:\n",
    "        gene_idx = st_data.var_names.get_loc(gene)\n",
    "        holdout_gene_data[gene] = st_data.X[:, gene_idx].copy()\n",
    "        print(f\"Stored original expression for {gene}\")\n",
    "    else:\n",
    "        print(f\"Gene {gene} not found in spatial data\")\n",
    "\n",
    "# Create a copy of the spatial data without the holdout genes\n",
    "st_data_holdout = st_data.copy()\n",
    "st_data_holdout = st_data_holdout[:, ~st_data_holdout.var_names.isin(holdout_genes)]\n",
    "print(f\"Original gene count: {st_data.n_vars}, After holdout: {st_data_holdout.n_vars}\")\n",
    "\n",
    "import tangram as tg\n",
    "tg.pp_adatas(sc_data, st_data_holdout, genes=None)\n",
    "ad_map = tg.map_cells_to_space(sc_data, st_data_holdout)\n",
    "ad_ge = tg.project_genes(ad_map, sc_data)\n",
    "\n",
    "# Calculate Pearson correlation for holdout genes\n",
    "correlations = {}\n",
    "for gene in holdout_genes:\n",
    "    if gene in ad_ge.var_names and gene in holdout_gene_data:\n",
    "        imputed_values = ad_ge[:, gene].X.flatten()\n",
    "        original_values = holdout_gene_data[gene]\n",
    "        corr = np.corrcoef(imputed_values, original_values)[0, 1]\n",
    "        correlations[gene] = corr\n",
    "        print(f\"Pearson correlation for {gene}: {corr:.4f}\")\n",
    "\n",
    "# Print average correlation\n",
    "if correlations:\n",
    "    avg_corr = np.mean(list(correlations.values()))\n",
    "    print(f\"Average correlation across holdout genes: {avg_corr:.4f}\")\n",
    "\n",
    "imputed_st_data_path = '../dataset/ad_ge_imputed_Xenium_breast_cancer_sample1_replicate1_hold_out.h5ad'\n",
    "imputed_intermediate_st_data_path = '../dataset/ad_map_imputed_Xenium_breast_cancer_sample1_replicate1_hold_out.h5ad'\n",
    "ad_ge.X = ad_ge.X.astype(np.float16)\n",
    "ad_map.X = ad_map.X.astype(np.float16)\n",
    "ad_ge.uns['hold_out_genes'] = holdout_genes\n",
    "ad_ge.uns['hold_out_correlations'] = correlations\n",
    "ad_ge.write_h5ad(imputed_st_data_path)\n",
    "ad_map.write_h5ad(imputed_intermediate_st_data_path)"
   ]
  }
 ],
 "metadata": {
  "kernelspec": {
   "display_name": "tangram",
   "language": "python",
   "name": "python3"
  },
  "language_info": {
   "codemirror_mode": {
    "name": "ipython",
    "version": 3
   },
   "file_extension": ".py",
   "mimetype": "text/x-python",
   "name": "python",
   "nbconvert_exporter": "python",
   "pygments_lexer": "ipython3",
   "version": "3.10.15"
  }
 },
 "nbformat": 4,
 "nbformat_minor": 2
}
