{
 "cells": [
  {
   "cell_type": "code",
   "execution_count": 1,
   "metadata": {
    "execution": {
     "iopub.execute_input": "2025-01-17T09:52:01.608185Z",
     "iopub.status.busy": "2025-01-17T09:52:01.608040Z",
     "iopub.status.idle": "2025-01-17T09:52:21.107055Z",
     "shell.execute_reply": "2025-01-17T09:52:21.106362Z"
    }
   },
   "outputs": [
    {
     "name": "stderr",
     "output_type": "stream",
     "text": [
      "/home/hanchuangyi/miniconda3/envs/ssl/lib/python3.10/site-packages/merlin/dtypes/mappings/tf.py:52: UserWarning: Tensorflow dtype mappings did not load successfully due to an error: No module named 'tensorflow'\n",
      "  warn(f\"Tensorflow dtype mappings did not load successfully due to an error: {exc.msg}\")\n",
      "/home/hanchuangyi/miniconda3/envs/ssl/lib/python3.10/site-packages/merlin/dtypes/mappings/triton.py:53: UserWarning: Triton dtype mappings did not load successfully due to an error: No module named 'tritonclient'\n",
      "  warn(f\"Triton dtype mappings did not load successfully due to an error: {exc.msg}\")\n"
     ]
    },
    {
     "name": "stdout",
     "output_type": "stream",
     "text": [
      "<Compressed Sparse Row sparse matrix of dtype 'float32'\n",
      "\twith 753825891 stored elements and shape (156285, 17413)>\n",
      "  Coords\tValues\n",
      "  (0, 12862)\t0.5665589570999146\n",
      "  (0, 3064)\t0.5665589570999146\n",
      "  (0, 13278)\t3.3999741077423096\n",
      "  (0, 813)\t2.833569049835205\n",
      "  (0, 13496)\t4.101833820343018\n",
      "  (0, 5722)\t2.5798444747924805\n",
      "  (0, 15309)\t7.879579067230225\n",
      "  (0, 2014)\t0.5665589570999146\n",
      "  (0, 7585)\t5.2227888107299805\n",
      "  (0, 6840)\t5.497739791870117\n",
      "  (0, 12721)\t3.967062473297119\n",
      "  (0, 15364)\t1.8461450338363647\n",
      "  (0, 8240)\t1.5708974599838257\n",
      "  (0, 11878)\t2.2390189170837402\n",
      "  (0, 8802)\t5.875441551208496\n",
      "  (0, 4476)\t4.394822597503662\n",
      "  (0, 10574)\t0.5665589570999146\n",
      "  (0, 16860)\t6.168292999267578\n",
      "  (0, 2182)\t5.933631896972656\n",
      "  (0, 8212)\t2.520345449447632\n",
      "  (0, 7982)\t5.331713676452637\n",
      "  (0, 2798)\t5.730631351470947\n",
      "  (0, 6747)\t0.9259976744651794\n",
      "  (0, 2034)\t6.668968677520752\n",
      "  (0, 9759)\t3.3205926418304443\n",
      "  :\t:\n",
      "  (156284, 2496)\t3.841771125793457\n",
      "  (156284, 12674)\t3.841771125793457\n",
      "  (156284, 3173)\t4.52413272857666\n",
      "  (156284, 5377)\t3.841771125793457\n",
      "  (156284, 9774)\t3.841771125793457\n",
      "  (156284, 5690)\t3.841771125793457\n",
      "  (156284, 10089)\t3.841771125793457\n",
      "  (156284, 12205)\t4.52413272857666\n",
      "  (156284, 15930)\t3.841771125793457\n",
      "  (156284, 16080)\t4.925976276397705\n",
      "  (156284, 3066)\t3.841771125793457\n",
      "  (156284, 4534)\t5.433895587921143\n",
      "  (156284, 14949)\t6.306814193725586\n",
      "  (156284, 9135)\t4.925976276397705\n",
      "  (156284, 10065)\t4.52413272857666\n",
      "  (156284, 14585)\t3.841771125793457\n",
      "  (156284, 11785)\t4.925976276397705\n",
      "  (156284, 4165)\t3.841771125793457\n",
      "  (156284, 11283)\t4.52413272857666\n",
      "  (156284, 888)\t3.841771125793457\n",
      "  (156284, 3529)\t5.769119739532471\n",
      "  (156284, 9121)\t3.841771125793457\n",
      "  (156284, 12800)\t4.52413272857666\n",
      "  (156284, 16131)\t3.841771125793457\n",
      "  (156284, 13112)\t3.841771125793457\n"
     ]
    }
   ],
   "source": [
    "import scanpy as sc\n",
    "import torch\n",
    "import lightning.pytorch as pl\n",
    "from torch import nn\n",
    "from torch.optim import AdamW\n",
    "from self_supervision.models.lightning_modules.cellnet_autoencoder import MLPAutoEncoder\n",
    "from self_supervision.estimator.cellnet import EstimatorAutoEncoder\n",
    "from sklearn.model_selection import train_test_split\n",
    "from sklearn.preprocessing import LabelEncoder\n",
    "from sklearn.metrics import accuracy_score, f1_score, classification_report\n",
    "import numpy as np\n",
    "import pandas as pd\n",
    "\n",
    "data_dir = '../../dataset/Human_Great_Apes_filtered.h5ad'\n",
    "adata = sc.read_h5ad(data_dir)\n",
    "print(adata.X)\n",
    "sc.pp.normalize_total(adata,target_sum=1e4)\n",
    "sc.pp.log1p(adata)\n",
    "\n",
    "\n",
    "# 2. 设置 checkpoint 路径\n",
    "ckpt_path = \"../../sc_pretrained/Pretrained Models/RandomMask.ckpt\"\n",
    "\n",
    "# 3. 模型参数\n",
    "units_encoder = [512, 512, 256, 256, 64]\n",
    "units_decoder = [256, 256, 512, 512]\n",
    "\n",
    "# 初始化 EstimatorAutoEncoder 实例\n",
    "estim = EstimatorAutoEncoder(data_path=None)  # 没有实际数据路径，可以设置为None\n",
    "\n",
    "# 4. 加载预训练模型\n",
    "estim.model = MLPAutoEncoder.load_from_checkpoint(\n",
    "    ckpt_path,\n",
    "    gene_dim=19331,  # 根据你的数据调整\n",
    "    batch_size=8192,  # 根据你的需要调整\n",
    "    units_encoder=units_encoder, \n",
    "    units_decoder=units_decoder,\n",
    "    masking_strategy=\"random\",  # 假设模型使用了随机掩码\n",
    "    masking_rate=0.5,  # 根据需要调整\n",
    ")"
   ]
  },
  {
   "cell_type": "code",
   "execution_count": 2,
   "metadata": {
    "execution": {
     "iopub.execute_input": "2025-01-17T09:52:21.109769Z",
     "iopub.status.busy": "2025-01-17T09:52:21.108945Z",
     "iopub.status.idle": "2025-01-17T09:52:21.116859Z",
     "shell.execute_reply": "2025-01-17T09:52:21.116442Z"
    }
   },
   "outputs": [
    {
     "data": {
      "text/plain": [
       "18"
      ]
     },
     "execution_count": 2,
     "metadata": {},
     "output_type": "execute_result"
    }
   ],
   "source": [
    "# 添加分类层 (FC)\n",
    "n_classes = len(adata.obs['cell_type'].unique())\n",
    "estim.model.fc = nn.Linear(units_encoder[-1], n_classes)\n",
    "n_classes"
   ]
  },
  {
   "cell_type": "code",
   "execution_count": 3,
   "metadata": {
    "execution": {
     "iopub.execute_input": "2025-01-17T09:52:21.118220Z",
     "iopub.status.busy": "2025-01-17T09:52:21.118064Z",
     "iopub.status.idle": "2025-01-17T09:52:21.139979Z",
     "shell.execute_reply": "2025-01-17T09:52:21.139536Z"
    }
   },
   "outputs": [],
   "source": [
    "var_df = pd.read_parquet('../../sc_pretrained/var.parquet')\n",
    "all_genes = var_df['feature_name'].tolist()\n",
    "\n",
    "new_data = np.zeros((adata.X.shape[0], len(all_genes)), dtype=np.float32)\n",
    "\n",
    "adata.var['gene_name']=adata.var.index\n",
    "existing_genes = adata.var['gene_name']"
   ]
  },
  {
   "cell_type": "code",
   "execution_count": 4,
   "metadata": {
    "execution": {
     "iopub.execute_input": "2025-01-17T09:52:21.141256Z",
     "iopub.status.busy": "2025-01-17T09:52:21.141104Z",
     "iopub.status.idle": "2025-01-17T09:52:21.157152Z",
     "shell.execute_reply": "2025-01-17T09:52:21.156740Z"
    }
   },
   "outputs": [
    {
     "name": "stdout",
     "output_type": "stream",
     "text": [
      "匹配的基因数量: 17413\n",
      "匹配的基因列表: {'tada1', 'mcm7', 'mageb3', 'myl12b', 'jund', 'tekt3', 'zbtb33', 'znf256', 'mt-co1', 'setdb1', 'tbc1d7', 'xylt2', 'atp13a1', 'nbdy', 'hey1', 'dnajc2', 'nsun4', 'gpr17', 'elavl1', 'xcr1', 'c1orf198', 'sesn3', 'znf563', 'trim72', 'eapp', 'nodal', 'c16orf78', 'lrrtm2', 'trap1', 'pgap1', 'ddhd1', 'lhfpl2', 'ahcyl1', 'or1g1', 'ldlrad2', 'egln1', 'ebf1', 'sh2d2a', 'znf514', 'cpsf4l', 'mybbp1a', 'e2f5', 'timp2', 'fam47e-stbd1', 'rgmb', 'gsta4', 'gna14', 'apobec2', 'kazald1', 'pgap3', 'tsc22d3', 'kcnk2', 'mt1b', 'kdr', 'plaat4', 'atp6v0c', 'grpel1', 'tigd3', 'c5orf24', 'krt75', 'ankrd42', 'atg101', 'ccdc91', 'or4d9', 'cops8', 'fbxw4', 'ugt1a6', 'acsf2', 'rrm1', 'il12rb2', 'znf268', 'vdac3', 'zscan23', 'tmem51', 'myod1', 'arl9', 'mthfs', 'trip4', 'arpc1b', 'znf536', 'pnpla7', 'golga8h', 'rbbp7', 'b4galnt3', 'stac', 'nin', 'dpp8', 'fundc1', 'mpi', 'atg3', 'irgm', 'galnt17', 'plat', 'plekhn1', 'asns', 'ndufs7', 'uncx', 'tut7', 'pde6g', 'fam205c', 'bms1', 'gage12c', 'bnc2', 'arl14', 'diras2', 'utp14c', 'znf253', 'rad51', 'wdr47', 'grin3a', 'slc25a18', 'josd1', 'creb1', 'mrps33', 'il4i1', 'tex35', 'ano6', 'fam72d', 'trim63', 'snx17', 'lyrm9', 'cep290', 'efcab2', 'kdm2a', 'ccni2', 'letm1', 'slc16a8', 'chst9', 'ct45a7', 'anapc13', 'arhgdib', 'sat1', 'ltbr', 'creb3l4', 'adcy2', 'phgdh', 'ddx6', 'cabin1', 'cmtr1', 'plxdc1', 'kmt2c', 'krtap19-8', 'gnat1', 'p4ha3', 'hcar1', 'tenm1', 'smc5', 'eipr1', 'ube3b', 'c8orf76', 'faxc', 'naa15', 'vgll2', 'sae1', 'nhlrc4', 'tafa4', 'hhla2', 'garnl3', 'ankrd20a1', 'zzz3', 'tm2d3', 'krtap4-3', 'pdk1', 'eogt', 'cftr', 'zwilch', 'aifm1', 'tm4sf1', 'cntn1', 'igf2bp2', 'nubp2', 'cln6', 'mecom', 'tmem259', 'dntt', 'erich2', 'cage1', 'c19orf38', 'pip', 'wdfy1', 'ndufs8', 'slco1c1', 'ifi44', 'lrrc75a', 'sod3', 'jade2', 'znf524', 'vsig10l', 'steap2', 'aass', 'kif2a', 'usp35', 'icoslg', 'mob3a', 'r3hdm1', 'pcnx3', 'pdia3', 'mrtfb', 'eif3d', 'adnp2', 'ap3s1', 'fign', 'h2ac6', 'slitrk1', 'sorcs2', 'cul2', 'hps4', 'mrpl10', 'sstr1', 'ssx2', 'lemd2', 'chrnb3', 'ddx23', 'or11l1', 'phf23', 'slc22a14', 'itgax', 'specc1', 'fcn2', 'wnt7a', 'tsnare1', 'cdc20', 'gosr1', 'pdk4', 'rp9', 'zc3h11a', 'nudt14', 'il18r1', 'kcnt1', 'eda', 'acaa1', 'tspan32', 'fktn', 'amz2', 'kcnn2', 'zar1l', 'wdr86', 'rps10-nudt3', 'kcnv2', 'gcm1', 'cdk18', 'aldh1b1', 'dusp23', 'znf34', 'neil3', 'sbk2', 'rfx7', 'znf560', 'olfm2', 'dennd6b', 'pde4dip', 'depdc1b', 'tmtc2', 'clk3', 'or3a2', 'ptpn12', 'vdac2', 'jkamp', 'kpna3', 'eif2b2', 'tnfsf12', 'slc10a5', 'cd83', 'clrn3', 'cd300lf', 'cpxm1', 'oard1', 'tpsb2', 'spdyc', 'gpr161', 'klhl23', 'akap14', 'rgs16', 'iyd', 'maneal', 'bet1', 'fkbp3', 'fam86b1', 'slc12a6', 'adal', 'rnase8', 'c11orf80', 'fbrsl1', 'bcl6', 'heatr5a', 'letm2', 'mettl3', 'klrc4', 'abtb1', 'tfeb', 'masp2', 'casp3', 'ints8', 'chd4', 'ugt3a1', 'wnt10a', 'arrdc5', 'ppp1r14b', 'cwc22', 'slc38a10', 'dkkl1', 'cbfb', 'tm7sf3', 'znf569', 'nnmt', 'znf644', 'cxcl12', 'plscr2', 'gjb2', 'frg2c', 'nalcn', 'b3gnt6', 'foxo4', 'bub1', 'zbtb21', 'c2orf72', 'fam149a', 'acot4', 'fut11', 'cldn16', 'ly86', 'pnlip', 'usp17l27', 'cetp', 'spata2l', 'cdc14c', 'znf283', 'brs3', 'irak2', 'gria4', 'bloc1s2', 'nfil3', 'gbf1', 'mipep', 'akr1d1', 'ebln2', 'asb18', 'tbc1d32', 'mx1', 'serhl2', 'dennd1a', 'tmem88b', 'or6a2', 'il36a', 'slc25a4', 'usp17l19', 'irs1', 'mis18a', 'ttc39a', 'acsbg2', 'dsg2', 'trak1', 'dis3l', 'arhgef16', 'gtf3c4', 'oc90', 'kazn', 'edem2', 'gabrb1', 'cep295', 'ccsap', 'idh1', 'lgr5', 'ttc38', 'fcrla', 'cacna1h', 'lrrn3', 'il33', 's100a7', 'ca7', 'lrfn3', 'sun5', 'pcdh8', 'znf135', 'neurod4', 'cask', 'rtl5', 'foxr1', 'stk32c', 'mst1r', 'wwp1', 'cgb1', 'cpsf6', 'ucn2', 'dars2', 'tas2r40', 'diablo', 'mafk', 'col26a1', 'prpf18', 'myh1', 'scarf2', 'col15a1', 'dnajb11', 'tbx6', 'smim3', 'gcnt1', 'ap5m1', 'ipo7', 'acin1', 'arhgef39', 'fbxl20', 'nup214', 'zscan16', 'c2orf66', 'tmem31', 'pkp2', 'btbd3', 'cdh16', 'capn6', 'tox2', 'casq2', 'plekhg4b', 'or51l1', 'azi2', 'med21', 'tnc', 'fxr1', 'slc15a4', 'foxc2', 'maged4b', 'rbm14', 'lrrc23', 'safb2', 'meikin', 'or56a5', 'anxa9', 'prr7', 'c2orf16', 'sbk3', 'parp3', 'tmc1', 'rbms3', 'nwd2', 'hs6st1', 'or56b4', 'tmem167a', 'bche', 'ano5', 'cdkn1b', 'neurl1', 'flot2', 'abcg1', 'epm2aip1', 'kctd1', 'ahnak', 'cr1', 'rpl14', 'islr2', 'fam199x', 'nup85', 'tmem214', 'hoxa9', 'ap1s1', 'tom1l2', 'lysmd3', 'ttf2', 'mgat5b', 'hapln3', 'daz1', 'polr2j', 'rnf216', 'tmprss4', 'scrn1', 'rnf13', 'igbp1', 'trpv4', 'spdye5', 'clec2a', 'oat', 'lifr', 'rgs7', 'cblc', 'eif4h', 'cpxcr1', 'rbp1', 'slc30a8', 'dnaja2', 'ctsf', 'itm2b', 'cfap44', 'krtap19-7', 'rps24', 'cdo1', 'cilp', 'tex261', 'cdx1', 'nptn', 'dock5', 'rprm', 'cdrt15', 'znf586', 'ggt1', 'lca5', 'prkab2', 'kcnj12', 'tcaf1', 'sectm1', 'gpr63', 'art5', 'ucp2', 'noc2l', 'or10h5', 'uprt', 'tmem64', 'fam135b', 'met', 'ier5l', 'irs2', 'cnih3', 'dlst', 'apobec3f', 'adamts1', 'xpa', 'glra3', 'tmem171', 'adrb2', 'nup188', 'bphl', 'creld1', 'nuggc', 'lrguk', 'akap11', 'emc2', 'pold3', 'scgb1d2', 'mrpl12', 'med15', 'mterf2', 'trim65', 'mllt1', 'or10g2', 'etfbkmt', 'tnfrsf13c', 'nell1', 'cacna1a', 'cylc1', 'mtrf1l', 'fmo3', 'fam168a', 'znf41', 'atl2', 'adcyap1r1', 'kcnj16', 'kcnk1', 'pold2', 'c22orf39', 'rap2a', 'pi4k2b', 'rpap3', 'alg9', 'myh6', 'syt12', 'fgfr3', 'myl12a', 'slc16a5', 'chat', 'pla2g2a', 'stx18', 'brd1', 'adarb2', 'qpctl', 'apobec3c', 'isg20', 'ninj2', 'mrpl33', 'klhl26', 'macc1', 'hebp2', 'nmt2', 'cnnm4', 'plekha7', 'lrp5', 'rgs18', 'prkar1a', 'prkd3', 'atad3b', 'crisp3', 'kif23', 'galk2', 'or52b6', 'slc28a3', 'ppp3cb', 'sipa1l1', 'ccer1', 'bco2', 'c8orf44-sgk3', 'otud1', 'fkbp7', 'agbl4', 'kif26a', 'a2m', 'mcee', 'nudt2', 'lpar2', 'septin11', 'usp5', 'ddi2', 'ier2', 'ctxn2', 'zdhhc23', 'ppp4c', 'spanxn1', 'u2af1', 'bin1', 'cyp7a1', 'tcp10l2', 'ing5', 'cc2d2a', 'nab1', 'shoc2', 'acsm2a', 'rab29', 'etnk2', 'znf439', 'bud23', 'lmtk2', 'ablim3', 'igfbpl1', 'rnf103-chmp3', 'prnp', 'calu', 'nbn', 'gabra2', 'snap25', 'kcnk10', 'sort1', 'ventx', 'mettl21a', 'asrgl1', 'znf891', 'brd9', 'capzb', 'tmem158', 'fhdc1', 'nectin3', 'mfap3l', 'dsg4', 'ankrd53', 'bpi', 'pir', 'slc7a8', 'kank1', 'trmt10b', 'cstf1', 'gprin2', 'ddi1', 'fam120a', 'odad4', 'tex29', 'gp5', 'grk4', 'sec63', 'srp14', 'fam153a', 'mt1g', 'cbfa2t2', 'c16orf95', 'vn1r4', 'nrgn', 'hmcn1', 'vsig2', 'pde6c', 'pex11b', 'cdnf', 'styk1', 'helq', 'iqce', 'ucp3', 'impdh2', 'krtap21-1', 'mansc4', 'adgra1', 'znf543', 'smim22', 'afap1l1', 'c5orf63', 'pld2', 'was', 'cavin1', 'ano1', 'cntnap3b', 'itfg2', 'nkain1', 'tas1r1', 'gimap6', 'spdye13', 'klrd1', 'tmem150c', 'trmt10c', 'bcat1', 'nkx2-2', 'or14a2', 'sh2d3c', 'tmem244', 'thbd', 'prdx1', 'mapk14', 'serpini2', 'grpr', 'nxt1', 'gnb1l', 'vps13c', 'pou2f2', 'ifna10', 'coa5', 'ubqln3', 'col5a2', 'stag2', 'gab3', 'bbs7', 'fam91a1', 'usp12', 'znf532', 'xpr1', 'dnah6', 'stbd1', 'ccm2l', 'erich4', 'hspb6', 'chrna2', 'il22', 'higd2a', 'mapre1', 'igfl2', 'cpne5', 'ttll5', 'c18orf54', 'mtr', 'mst1', 'mia3', 'tbc1d24', 'cyc1', 'sephs1', 'znf277', 'fn1', 'cd68', 'loxhd1', 'mast1', 'lhfpl5', 'zbtb26', 'nipsnap3a', 'znf486', 'trim49b', 'shank1', 'stat6', 'znf384', 'comt', 'cyp27b1', 'ostm1', 'gosr2', 'calcb', 'fzd4', 'hebp1', 'nlrp8', 'ankrd10', 'smagp', 'fshr', 'mdh2', 'eif5a2', 'igsf3', 'slc1a7', 'prr15', 'prkn', 'pamr1', 'nop2', 'fscb', 'extl1', 'ms4a1', 'rcor2', 'ctage1', 'scfd2', 'mrpl3', 'mpo', 'cct3', 'kirrel1', 'ct83', 'sfi1', 'scrg1', 'aard', 'pdc', 'lin7a', 'pmpcb', 'mzb1', 'znf383', 'cdk16', 'krt3', 'pigo', 'tmem161a', 'tmem170b', 'tti2', 'hbe1', 'ubc', 'c5orf22', 'cfdp1', 'pabpc5', 'h3-3b', 'tubgcp2', 'znf79', 'f8a3', 'rdh5', 'tmprss11b', 'soga1', 'or5b12', 'dnah7', 'myo9a', 'mas1', 'kcnn4', 'znf37a', 'slc25a14', 'ttll10', 'mrps30', 'ccr9', 'cyyr1', 'dab2ip', 'tasp1', 'rab3ip', 'tbcel', 'grp', 'auts2', 'pnmt', 'igfbp4', 'stab2', 'igfl1', 'hbb', 'rabep1', 'mtmr8', 'rnf121', 'or1e1', 'susd6', 'cdc27', 'zscan5b', 'aqp12b', 'slc23a1', 'or10g3', 'ttc21a', 'c19orf73', 'wfdc10a', 'znrf4', 'musk', 'parpbp', 'cxxc5', 'kif20b', 'cdc42bpb', 'gabpa', 'cd3g', 'trim73', 'nudt7', 'smc1b', 'rsad1', 'lamb1', 'lsm5', 'smc4', 'ankrd9', 'snx2', 'arl5c', 'acy3', 'large2', 'ces4a', 'fcmr', 'ensa', 'usp32', 'txndc5', 'thap11', 'hdac11', 'lrrtm3', 'srrm5', 'wfdc2', 'plcb4', 'arhgef12', 'phf6', 'gdf5', 'cmya5', 'prlr', 'ak5', 'elmod2', 'tnrc18', 'cyp4x1', 's100z', 'cep85', 'akap3', 'ndufa13', 'bcam', 'lrcol1', 'h2ac11', 'prcd', 'slc29a1', 'zdhhc7', 'plekhg4', 'hspb3', 'brpf3', 'alms1', 'plekhh2', 'snx11', 'rnf212b', 'osbp2', 'shisa8', 'umad1', 'josd2', 'csrp3', 'bloc1s3', 'cir1', 'iqcf2', 'l1cam', 'fcrl4', 'sgpl1', 'fut6', 'mrps22', 'robo2', 'slc22a1', 'col4a3', 'dtna', 'pinlyp', 'cep43', 'hif1a', 'tmem38a', 'cenpc', 'slc25a10', 'galr2', 'cox7a2', 'abhd4', 'haghl', 'jakmip3', 'mfsd8', 'grin2d', 'papola', 'fcer2', 'trmt61a', 'hspa13', 'krt74', 'marveld3', 'prdx4', 'c9orf50', 'bub3', 'poglut1', 'slc41a1', 'anxa5', 'tp53', 'chchd4', 'ypel4', 'ptgfrn', 'lgals8', 'cd4', 'suco', 'myadml2', 'gltpd2', 'mettl27', 'or5b2', 'tmem132b', 'isyna1', 'urgcp', 'coa3', 'tut1', 'sycp2l', 's100a7a', 'atl1', 'pbx4', 'rpain', 'tbr1', 'znf841', 'tbx22', 'cnga2', 'hes7', 'oca2', 'znf143', 'hp1bp3', 'coq7', 'pgpep1l', 'defb128', 'pglyrp2', 'bcl10', 'serbp1', 'cacnb4', 'tmed6', 'cbx7', 'apod', 'scoc', 'nbpf10', 'hunk', 'tmprss3', 'tsc22d2', 'snw1', 'esrrg', 'sdad1', 'cfap45', 'nlrp6', 'psmf1', 'ttc19', 'rab3b', 'treml4', 'zfand2b', 'tra2b', 'sgsm3', 'prmt8', 'pak4', 'gsdma', 'ckap2l', 'rbm5', 'ccs', 'drg1', 'ntaq1', 'spry4', 'orai1', 'srsf5', 'dguok', 'tprg1', 'lrrc41', 'tm4sf5', 'ngrn', 'epc1', 'syn2', 'gdap1', 'ntn3', 'sfxn2', 'tbcb', 'hoxb6', 'pmaip1', 'epc2', 'chrd', 'p2rx7', 'psma4', 'gper1', 'ssh1', 'wfdc3', 'apoa4', 'ankrd54', 'areg', 'nap1l3', 'ckap2', 'znf627', 'tspy1', 'lamtor5', 'mettl14', 'rbbp9', 'krtap19-2', 'ubiad1', 'sema3e', 'gabrg3', 'greb1', 'dnajb5', 'ttc8', 'ap1s2', 'sowaha', 'prpf6', 'b3galnt1', 'prss37', 'nrxn2', 'gsto1', 'mrpl1', 'fgf9', 'efcab7', 'cfap20', 'znf155', 'cby2', 'cox5a', 'atp12a', 'ptf1a', 'epb41l4b', 'hmga1', 'cntd1', 'aurkb', 'nhlh2', 'camsap2', 'mroh1', 'lalba', 'tubb3', 'adad2', 'zmpste24', 'sema4b', 'eml4', 'tmem218', 'sftpb', 'rnase2', 'nr4a1', 'pan3', 'bicral', 'eps8', 'barx1', 'c16orf90', 'ssr4', 'rfpl4a', 'cacna1f', 'znf829', 'tcn2', 'smg7', 'gdpd2', 'or5ap2', 'pcdhga7', 'srsf8', 'f11r', 'brf1', 'fam120aos', 'prr20c', 'loxl1', 'hdac10', 'mcm4', 'samm50', 'slc30a9', 'nkain3', 'ism2', 'tead1', 'gemin7', 'hnrnpa2b1', 'or51e1', 'filip1l', 'mlip', 'lsm10', 'ptgdr', 'bag5', 'pik3cb', 'gpr82', 'or6x1', 'kcnmb4', 'spata22', 'lrrc3c', 'elp3', 'gabrg2', 'znf765', 'foxe3', 'tlcd1', 'podn', 'rab44', 'cyb5d2', 'fam72a', 'znf574', 'prr5-arhgap8', 'actrt3', 'cpt1a', 'icam5', 'rnf182', 'mfsd2b', 'rpl26', 'arhgef4', 'znf566', 'taar8', 'grid1', 'lkaaear1', 'nudt4', 'dnm1l', 'crabp2', 'bpnt2', 'taco1', 'sirpa', 'slc39a14', 'gstk1', 'slc7a6', 'trpc7', 'zc3h12c', 'znf689', 'mbd5', 'smco3', 'atp1b4', 'krt17', 'lhx2', 'lipt1', 'mov10l1', 'ckmt2', 'aup1', 'cryzl1', 'krba1', 'psmd12', 'trim3', 'gpc6', 'mageb2', 'wfdc1', 'flad1', 'pdhx', 'vac14', 'gatb', 'slc25a13', 'trat1', 'sgms1', 'arap2', 'krtap12-1', 'xbp1', 'erv3-1', 'stk36', 'il23a', 'napb', 'ccdc160', 'ilf2', 'tmprss7', 'eps8l3', 'cct2', 'tsga10ip', 'nlrp9', 'stk24', 'ppp1r12c', 'slc2a2', 'psd3', 'mepe', 'card18', 'galnt11', 'atg10', 'pabpc4', 'ncoa4', 'phkb', 'rdh16', 'mtf1', 'ern2', 'or5k4', 'pla2g12b', 'tfdp1', 'lpin2', 'bsdc1', 'mllt3', 'lypd1', 'lypd6', 'tnfsf15', 'lce5a', 'anapc2', 'tmem72', 'ct45a2', 'actl10', 'dcun1d1', 'tmprss9', 'colec10', 'tesk2', 'or1a1', 'apobec3h', 'tnpo3', 'lpar3', 'mt-nd1', 'zmynd10', 'aptx', 'smyd5', 'cds1', 'ttc9', 'caprin1', 'csf3r', 'gart', 'mfsd9', 'serpinb9', 'sec62', 'gc', 'zyg11b', 'mad2l2', 'ppid', 'ndrg4', 'gdpd1', 'ct47a7', 'rgl3', 'rpl28', 'idnk', 'dnaaf5', 'vezf1', 'ccdc102b', 'nek11', 'tmtc3', 'slc22a4', 'krtap10-5', 'znf655', 'arid5a', 'fgf23', 'amy1c', 'dnmt3a', 'hccs', 'mkrn3', 'stk38', 'eif1', 'nutm2b', 'kcnk13', 'rabgap1', 'mppe1', 'spa17', 'nlrx1', 'glod5', 'lipm', 'atp5po', 'cfap251', 'dennd5a', 'timm13', 'ripk4', 'cpn1', 'pole2', 'klhdc9', 'ptma', 'asb7', 'mrps10', 'pigc', 'ttc13', 'gpr137', 'wtip', 'sema4c', 'wac', 'hrnr', 'frmd8', 'arf4', 'ints9', 'slc39a3', 'siglecl1', 'armc2', 'mmd2', 'obscn', 'mlxipl', 'a2ml1', 'bhlha9', 'rab3gap2', 'kiz', 'stat5a', 'batf2', 'exog', 'sprn', 'sorl1', 'rhbdf2', 'ing2', 'defb112', 'hs3st2', 'lias', 'pcdh17', 'h2bc21', 'ppp1cb', 'rragb', 'wdr93', 'cpne3', 'cybrd1', 'rpl36al', 'mmp12', 'nat2', 'sema3g', 'e2f4', 'isca1', 'cpped1', 'cltcl1', 'trim23', 'znf730', 'pcbp1', 'grin3b', 'hnrnph3', 'il22ra1', 'lipe', 'fes', 'cox4i2', 'erap1', 'mrfap1', 'abhd12b', 'ddx20', 'ube2v1', 'snta1', 'wnk3', 'map6d1', 'fam114a1', 'nbpf9', 'she', 'crispld1', 'gcm2', 'abl2', 'hyls1', 'fyb1', 'tmem126b', 'hmgcl', 'tnfrsf10d', 'znf221', 'lims2', 'pcdh20', 'lrrc75b', 'abhd11', 'prss23', 'hdgfl3', 'nicn1', 'rai14', 'ppm1j', 'phox2a', 'dyrk3', 'znf282', 'polrmt', 'arhgap26', 'actn3', 'sh2d5', 'jak1', 'fgf3', 'cept1', 'plpp2', 'cyp4f22', 'ankrd11', 'znf608', 'meig1', 'znf587', 'ppp1ca', 'bin2', 'rgpd8', 'paip2', 'steap3', 'nup54', 'il13ra1', 'clasp1', 'fhod1', 'ldhc', 'mettl16', 'cers4', 'wdr13', 'wfdc12', 'erf', 'ttc32', 'amh', 'znf443', 'bin3', 'ccdc169', 'vamp3', 'ubap2', 'hoxa3', 'hspbp1', 'f2rl1', 'cep85l', 'rai2', 'inf2', 'mpg', 'rcan1', 'rsl24d1', 'p2ry10', 'dnajc7', 'gpx3', 'rtl8a', 'unc13c', 'hirip3', 'or2t33', 'rgs11', 'arms2', 'gdpgp1', 'eomes', 'lgals14', 'ccdc126', 'ptcd3', 'ccnj', 'ephx1', 'znf23', 'nat1', 'selp', 'or8h3', 'rhot1', 'fggy', 'trpm3', 'ifrd1', 'lefty2', 'tcp11l1', 'or4d2', 'klk7', 'hsd3b1', 'tle2', 'hgsnat', 'or4a47', 'or10h4', 'wbp1', 'tbc1d8b', 'prpf38b', 'klrc2', 'cep295nl', 'sart3', 'cngb3', 'nek10', 'rimbp3c', 'zbtb6', 'npy1r', 'ccdc169-sohlh2', 'runx2', 'entpd8', 'cdkn3', 'sdhaf4', 'icam3', 'uvssa', 'rgs21', 'ythdf1', 'slc6a16', 'rtkn', 'znf483', 'tmem94', 'drgx', 'cand1', 'cib1', 'fam110d', 'ttc39c', 'gstt2b', 'dnajc1', 'slc22a6', 'znf57', 'muc12', 'eif1ay', 'plce1', 'tmem163', 'cd3d', 'grapl', 'gimap2', 'rab14', 'cyp4z1', 'scgb2b2', 'tp53tg3b', 'vstm2l', 'capn10', 'snap23', 'sparc', 'dock7', 'aurkc', 'smarcc1', 'msto1', 'or56a1', 'zbtb46', 'nub1', 'hcfc1', 'trmt11', 'stat4', 'dnase2b', 'tmem97', 'trem2', 'mcm3ap', 'spopl', 'scn7a', 'cfap57', 'ovca2', 'hs3st4', 'prepl', 'slc38a8', 'arf5', 'ccn6', 'sipa1l2', 'nr2c2ap', 'metap1', 'spaca5', 'gtf2e2', 'defb113', 'slc16a3', 'pdcd4', 'lrp3', 'engase', 'ica1l', 'dzip3', 'fbp1', 'uxt', 'slitrk4', 'usp17l30', 'lrrc4c', 'pcdhga10', 'or2c3', 'fgl2', 'atp6v1e1', 'clpp', 'rnf225', 'rabggtb', 'syncrip', 'cct5', 'pex11a', 'hla-drb5', 'cant1', 'syt5', 'eef1a1', 'chmp5', 'tdrd5', 'gnptg', 'tcea2', 'dach1', 'xpo5', 'mrpl32', 'hsd17b10', 'zfp14', 'bzw1', 'cenps', 'c4orf54', 'fcgr3a', 'rbbp5', 'adora3', 'nms', 'acy1', 'spink7', 'znf366', 'ric1', 'cox6b2', 'sacm1l', 'tbpl1', 'ltbp4', 'ndufs5', 'armcx3', 'fubp1', 'brsk1', 'plxnb3', 'ubxn7', 'sec22a', 'cnbd2', 'ptprg', 'gad2', 'srl', 'dmbt1', 'cpm', 'tulp4', 'zcchc18', 'gabrr1', 'pcnp', 'usp17l13', 'fam136a', 'znf830', 'zc3hav1', 'tgm5', 'dnal1', 'ngfr', 'raver1', 'elp2', 'crocc', 'tex30', 'clstn1', 'h4c11', 'bod1', 'tp53tg3', 'polr3a', 'ccdc142', 'dhrs12', 'slc16a7', 'nelfa', 'nudt18', 'aff2', 'zfyve1', 'krtap13-2', 'shd', 'jph3', 'nif3l1', 'ascc1', 'ccdc158', 'fbln7', 'vcx3b', 'zswim7', 'dynlt3', 'mchr1', 'ppp1r21', 'nat14', 'map3k3', 'krcc1', 'gng4', 'ufm1', 'sh3bp5l', 'kcnj13', 'pld5', 'gcna', 'sik3', 'lce1f', 'obp2a', 'bckdk', 'znf10', 'cerk', 'efhc2', 'nedd4l', 'znf165', 'luc7l2', 'ssbp3', 'nasp', 'glipr2', 'rnf217', 'ptch2', 'gtf3c6', 'klrf1', 'pabir1', 'cdk8', 'tmbim6', 'txnl1', 'nsmce2', 'zfp69', 'spatc1l', 'scin', 'armc8', 'sdhaf3', 'ltk', 'mlst8', 'cdy1', 'serping1', 'dapk1', 'brinp1', 'sftpa2', 'ndc80', 'foxa1', 'nme2', 'psmc5', 'gbp6', 'znf365', 'mapk10', 'rpl35', 'or5i1', 'tbc1d10b', 'b3glct', 'pgc', 'phldb1', 'paics', 'tyro3', 'ptafr', 'tmem37', 'eddm3b', 'irx1', 'kif25', 'or2m3', 'pik3r5', 'dusp2', 'lamb2', 'spata31d3', 'prss45p', 'znf276', 'mef2b', 'wbp11', 'klk11', 'lpin3', 'lamtor1', 'epgn', 'mmp25', 'gja5', 'niban3', 'sp140', 'prpf40b', 'snx15', 'ndst4', 'actr3', 'chmp6', 'cst11', 'slc16a9', 'pwp2', 'or2g2', 'pnpla2', 'slc22a12', 'sucla2', 'fancm', 'cdh7', 'rsf1', 'ten1-cdk3', 'azin2', 'ssc4d', 'tipin', 'tmem104', 'cltb', 'fbxo27', 'limch1', 'alg13', 'uhrf1', 'sarnp', 'or13h1', 'ntsr1', 'clec12a', 'tbl1x', 'potec', 'tmem201', 'clec16a', 'mis12', 'ascl3', 'cltc', 'dapp1', 'fgf1', 'lyzl2', 'apbb1', 'add2', 'bpgm', 'hdac3', 'ctbp2', 'cops5', 'slc30a1', 'il17rc', 'clta', 'srprb', 'hal', 'ylpm1', 'cdc20b', 'ptk6', 'fam117a', 'cstf3', 'nop14', 'hemk1', 'usp21', 'marchf11', 'nrros', 'ints13', 'ssbp4', 'hexd', 'ano2', 'ccn4', 'sirpb2', 'ccl20', 'laptm4b', 'rsph3', 'mcmbp', 'atxn3', 'rasgrp4', 'foxm1', 'zc3h10', 'hcn4', 'strn', 'rnf41', 'lingo3', 'or10a4', 'ms4a6e', 'r3hdm2', 'ppp1r36', 'cnnm3', 'bex2', 'tmem39a', 'mcf2', 'gpr146', 'cdc42', 'tmem107', 'or5d13', 'cep135', 'h3c11', 'agtr1', 'mlh3', 'prrg2', 'mag', 'ldhb', 'awat2', 'gpr173', 'gabra5', 'ttc4', 'tent4a', 'slc39a5', 'gpr162', 'armt1', 'unkl', 'rufy2', 'mrgprx1', 'ap2m1', 'tmem229a', 'kank3', 'bach1', 'sppl3', 'hormad1', 'mgme1', 'krtap12-2', 'vwce', 'gzmh', 'plin5', 'klhl8', 'zbtb8os', 'or4c46', 'man1c1', 'skp1', 'snx31', 'htra4', 'tmem54', 'hspa4', 'paqr7', 'znf91', 'tmem26', 'prr23d2', 'map10', 'sbno1', 'mia-rab4b', 'lrrc8d', 'smim7', 'il26', 'gmip', 'cd72', 'ptbp1', 'slc39a12', 'rngtt', 'or6c70', 'ppm1d', 'slc35g1', 'golga2', 'slc25a30', 'nags', 'star', 'arsd', 'h4c12', 'fgf2', 'tal1', 'psat1', 'ptrh2', 'tmem25', 'spns2', 'suv39h2', 'fdx2', 'mpp3', 'pmm2', 'mroh7-ttc4', 'sypl2', 'cenpq', 'ano7', 'btg2', 'tmem38b', 'snai1', 'mrps9', 'tle1', 'dio2', 'ube2l5', 'il20ra', 'zc3h6', 'tslp', 'fam200b', 'tmie', 'rgs1', 'slc10a4', 'fpgs', 'phospho2', 'prkcsh', 'mtcl1', 'nvl', 'rpl27a', 'unc119', 'agfg1', 'rrad', 'slc25a2', 'plau', 'henmt1', 'thnsl1', 'mettl1', 'ggact', 'gpha2', 'znf705a', 'abi2', 'kncn', 'pwwp2b', 'rps6ka3', 'c10orf88', 'abcc2', 'bsx', 'phf19', 'kdm8', 'pga3', 'pou6f1', 'jpt1', 'usp54', 'col23a1', 'dnajc24', 'best4', 'ndufb2', 'pfkfb3', 'rgma', 'treml2', 'pax5', 'cntfr', 'gadd45b', 'pigm', 'neurl1b', 'shpk', 'il37', 'commd1', 'cshl1', 'castor1', 'fbxo3', 'setd7', 'slc2a10', 'gmcl1', 'fam161a', 'fam228b', 'klhl21', 'h2ac7', 'crtac1', 'znf879', 'cdk14', 'sult1c3', 'pop5', 'znf300', 'rpl11', 'sptbn4', 'gbgt1', 'hesx1', 'actr8', 'myct1', 'slc7a14', 'ankle1', 'tmem196', 'sync', 'slc25a11', 'maml3', 'ip6k3', 'or51v1', 'il21', 'asxl1', 'trpv2', 'mageb17', 'hr', 'arl13b', 'amtn', 'lcmt1', 'kif2c', 'kmt2b', 'znf248', 'rbm27', 'klrg1', 'stx1a', 'flt3lg', 'prokr1', 'shprh', 'pus1', 'secisbp2l', 'ahdc1', 'hyi', 'tm4sf18', 'mrpl53', 'kcnk7', 'trim49d2', 'bloc1s6', 'rabepk', 'fam98a', 'cndp2', 'pkp1', 'ythdf2', 'znf81', 'mta1', 'ccdc149', 'grik1', 'mmp2', 'pgr', 'casp2', 'mgat4a', 'usp31', 'lsm11', 'psmb5', 'pcyox1l', 'f13a1', 'tead2', 'rsph1', 'eno3', 'saxo1', 'nyx', 'mmachc', 'tcf12', 'fbxo7', 'srpx', 'mbtd1', 'malrd1', 'tomm40', 'wdr44', 'rgpd6', 'dgkb', 'hps6', 'enpp5', 'ccar1', 'mageb16', 'atp9a', 'slc6a5', 'tmem178b', 'naa60', 'znf385d', 'mcu', 'efhc1', 'hmg20a', 'snrpe', 'qtrt2', 'slc9b2', 'dcst1', 'serpini1', 'trim48', 'spanxa1', 'ptger1', 'cnga1', 'fam171a2', 'zcchc17', 'cipc', 'csnk1e', 'rnf4', 'polr2k', 'odf2', 'fam221b', 'selenbp1', 'fam200a', 'vmp1', 'trpc4ap', 'npipb6', 'fam78a', 'slc35d3', 'gpr32', 'sp9', 'trim42', 'sumo4', 'h2bc5', 'cpne1', 'slc2a12', 'nup93', 'pcmt1', 'rab32', 'apoc4-apoc2', 'or4d1', 'nek7', 'grb10', 'asic3', 'arhgap44', 'gpc5', 'dgka', 'lpp', 'shf', 'mms19', 'smc6', 'crb1', 'klf10', 'nudt10', 'znf622', 'sike1', 'arpp21', 'mov10', 'ntf4', 'ifnk', 'thtpa', 'znf609', 'hoxd10', 'ubac1', 'irf3', 'tshz3', 'borcs8-mef2b', 'dlg2', 'endod1', 'plekha3', 'cnksr3', 'ostf1', 'il13ra2', 'cdpf1', 'ndst3', 'far2', 'adamtsl2', 'vcan', 'clpb', 'otud6b', 'ppp2cb', 'slc1a3', 'cryga', 'fyn', 'rtca', 'cdc42bpg', 'eys', 'il7', 'slc44a3', 'slit3', 'pcdhga12', 'slc12a2', 'psap', 'rbl2', 'cabp1', 'or8b4', 'tas1r3', 'arl8a', 'endou', 'csrnp1', 'ugt1a1', 'rap1a', 'slc26a7', 'faah2', 'nup210l', 'rara', 'shisa5', 'psmb7', 'tmem169', 'ube2f-scly', 'fermt2', 'tmem53', 'siglec10', 'cln5', 'mknk2', 'znf572', 'or51g1', 'izumo3', 'mbtps1', 'npc1l1', 'shox2', 'stk11ip', 'col8a1', 'usp33', 'fbxl2', 'osbpl5', 'supt16h', 'snrpa', 'cmtr2', 'cnpy1', 'prorp', 'tmem62', 'lrrc63', 'pde6h', 'eprs1', 'samd4a', 'tssk1b', 'spats2l', 'sbf2', 'gpr108', 'txndc17', 'eva1c', 'h3c10', 'c1qtnf9b', 'tulp2', 'znf511', 'ncor2', 'znf800', 'fmo1', 'klk4', 'pof1b', 'septin5', 'col6a5', 'fam83b', 'cfap99', 'tnfrsf4', 'rragc', 'ankrd39', 'cd14', 'smim27', 'ankrd13b', 'miga1', 'mrfap1l1', 'smu1', 'nudt3', 'zcchc4', 'znf610', 'slfn5', 'c9orf57', 'mt-co3', 'ogfrl1', 'wfs1', 'tfb1m', 'entpd5', 'ramac', 'kcne3', 'numa1', 'ptges3', 'trub1', 'fbrs', 'zbtb40', 'coa4', 'ppp1r9a', 'glmn', 'bmp1', 'lingo4', 'fto', 'cd180', 'dchs1', 'frmpd1', 'znf710', 'siglec15', 'zfp82', 'slamf7', 'hykk', 'nfatc2', 'nemp1', 'ccl28', 'gpnmb', 'ganab', 'tpbgl', 'ipo9', 'efl1', 'sult1a2', 'htr1a', 'ccl7', 'pnisr', 'aacs', 'bank1', 'depdc5', 'usp43', 'fut9', 'nkx2-5', 'tnfsf4', 'ankzf1', 'gpn1', 'zcchc3', 'emp3', 'got2', 'wdr74', 'slfnl1', 'efna1', 'upk2', 'kcnh2', 'myt1l', 'atxn2', 'hrh1', 'syt2', 'crh', 'uqcr10', 'lrg1', 'tmigd1', 'fcrlb', 'nptx2', 'jade3', 'stx7', 'tbc1d20', 'primpol', 'foxd4l6', 'tmem203', 'cisd1', 'paox', 'ap3s2', 'st13', 'h2bc3', 'or13c8', 'vim', 'eif2b3', 'asprv1', 'nat16', 'rab24', 'npepps', 'mrap2', 'dhps', 'ptprd', 'top1mt', 'cldn3', 'fbxl13', 'timm44', 'slc24a3', 'tex26', 'or5k2', 'calm3', 'atp1b1', 'rdh12', 'cplx4', 'fabp5', 'trim36', 'chmp4b', 'fkrp', 'phox2b', 'dnajc17', 'upf3a', 'prok1', 'rtl1', 'abcb9', 'krtap10-2', 'plet1', 'ntng1', 'itgad', 'rab37', 'igf2r', 'fam117b', 'dnajc30', 'wdr4', 'shmt2', 'znf671', 'nefh', 'esrp1', 'nav1', 'sec13', 'sbk1', 'adgrd1', 'pik3c2g', 'tmco5a', 'pabir3', 'poli', 'c8orf48', 'ncf4', 'naglu', 'eloa', 'evx1', 'usp19', 'dnmbp', 'dpep1', 'carhsp1', 'znf675', 'potei', 'anp32a', 'usp17l26', 'nlgn3', 'kcna3', 'pfkl', 'slc16a4', 'msl1', 'or51t1', 'fgfbp3', 'adamts15', 'phospho1', 'gpr55', 'aspa', 'dnmt3b', 'tppp3', 'arvcf', 'vkorc1', 'tmem200a', 'rwdd1', 'kiaa0825', 'mpzl3', 'slc22a3', 'rad51d', 'icam1', 'doc2a', 'mcoln1', 'znf317', 'ftmt', 'bcas1', 'tns1', 'gpr35', 'il3', 'marcksl1', 'paqr9', 'smox', 'fgf13', 'lnpep', 'rasgef1c', 'lmntd1', 'mtarc2', 'srbd1', 'elf3', 'prmt7', 'nsmf', 'pold1', 'trim26', 'rab21', 'ccdc171', 'or10q1', 'insrr', 'ces3', 'zdhhc24', 'cwc15', 'itgae', 'celf1', 'prelid3a', 'sytl4', 'nr2f6', 'zfpl1', 'znf530', 'gtpbp8', 'gab1', 'c3orf52', 'ctse', 'ptgis', 'lman2l', 'plaa', 'olfml2a', 'cadps2', 'rgn', 'pole3', 'aspg', 'gk5', 'tuba8', 'fam83a', 'mindy2', 'pate2', 'myf6', 'pygm', 'acsl5', 'vps54', 'vmo1', 'tmem265', 'igfn1', 'bdh2', 'insig2', 'csh1', 'prdm14', 'ccn1', 'micu1', 'adsl', 'blm', 'def6', 'hspe1-mob4', 'neurl2', 'baiap2l2', 'tp53i11', 'or2c1', 'fdcsp', 'rasd1', 'znf763', 'pde3a', 'mrpl36', 'slc22a13', 'fkbp9', 'tro', 'pcdh18', 'slc18b1', 'uqcc2', 'chka', 'glrx3', 'lrrc70', 'c1orf35', 'slamf9', 'thumpd3', 'snrpb', 'slc17a5', 'fads2', 'znf816-znf321p', 'sptlc1', 'enam', 'pdyn', 'polr2g', 'naca2', 'cadps', 'lcn12', 'dynlrb2', 'kcnj2', 'tspyl2', 'vsig1', 'zbtb7c', 'nucb2', 'tmco6', 'chrna5', 'rnf19a', 'itpka', 'hsf5', 'gpr84', 'actl6b', 'sox5', 'znf334', 'fabp7', 'nmrk1', 'znf160', 'or51q1', 'slc24a5', 'map6', 'idh3g', 'tmem263', 'znf77', 'fam161b', 'c1qtnf3-amacr', 'srrt', 'zbtb2', 'cacna1i', 'znf718', 'clptm1', 'fgd3', 'tmem145', 'myof', 'dab1', 'tmco2', 'ctr9', 'ifngr1', 'kcnmb1', 'klhl5', 'nfya', 'emilin3', 'esx1', 'colec12', 'agap9', 'mfn2', 'rab11a', 'zkscan3', 'rnmt', 'wfdc6', 'mttp', 'rab19', 'frrs1', 'arhgap22', 'nsl1', 'c17orf100', 'zdhhc2', 'repin1', 'commd6', 'hap1', 'fndc8', 'tmem89', 'trabd', 'c2orf69', 'riiad1', 'tsc1', 'slc7a9', 'rpp40', 'birc2', 'scamp2', 'hibch', 'psg3', 'vps4b', 'pdik1l', 'slc35a4', 'tkfc', 'lrrc26', 'ush1g', 'dync2i2', 'stt3a', 'cyb5a', 'ppie', 'fam227a', 'cdc25b', 'rbm25', 'cdc7', 'git2', 'myo16', 'abca12', 'ermn', 'armc7', 'myh7b', 'leprotl1', 'stag1', 'gpx1', 'c19orf53', 'tcn1', 'hdhd3', 'mfng', 'dedd2', 'atf6', 'rpl30', 'mcfd2', 'cox10', 'jakmip1', 'tlr6', 'znf408', 'apela', 'epor', 'chia', 'casz1', 'or8b8', 'asb8', 'zp4', 'chchd3', 'tnfrsf17', 'adam17', 'nudt16', 'ifna13', 'pfkfb4', 'nmi', 'acvr1', 'poldip3', 'ubl5', 'znf708', 'apbb3', 'tob1', 'kif2b', 'usp49', 'tspan6', 'spink1', 'gtf2h3', 'creb5', 'aplnr', 'adam21', 'krtap10-12', 'psmd8', 'nenf', 'ubxn1', 'acrv1', 'yme1l1', 'angptl2', 'panx3', 'baiap3', 'golga8o', 'dpyd', 'slc9a2', 'thap4', 'ube2o', 'gpr26', 'rb1cc1', 'trim27', 'slu7', 'spink5', 'snd1', 'or10h2', 'usp45', 'hoxb1', 'adamts2', 'or51s1', 'mroh2a', 'sirt1', 'rfx4', 'tmem220', 'gins3', 'pgam2', 'slc11a1', 'nol7', 'cds2', 'per2', 'morn1', 'ccl2', 'thg1l', 'elmod3', 'fam131c', 'tp53inp1', 'espn', 'st6galnac5', 'slc25a32', 'saal1', 'or8j3', 'psg5', 'actg2', 'ddx3x', 'lamp2', 'rab22a', 'itih2', 'znf548', 'lrrc49', 'dcxr', 'tnfsf10', 'papolb', 'stambpl1', 'mtfr1', 'skap2', 'znf606', 'sash3', 'rbm8a', 'sec22b', 'rpl7', 'usp17l20', 'dpep3', 'znf12', 'hypk', 'ms4a14', 'tmem8b', 'ube2j1', 'lrp10', 'naa50', 'myoz3', 'gpr141', 'ptprq', 'pus7', 'eppin', 'marcks', 'zfp36l1', 'myot', 'pth1r', 'tas2r1', 'dync1i1', 'txndc11', 'ppial4e', 'vamp2', 'ipmk', 'matn1', 'pmpca', 'ifit1b', 'vn1r1', 'rtf2', 'ppara', 'foxo3', 'cfap61', 'gjb1', 'mbp', 'il17d', 'irf2bpl', 'ndufa9', 'laptm4a', 'large1', 'mlec', 'ppih', 'tmem109', 'ddb2', 'phldb2', 'drosha', 'ltv1', 'ccdc22', 'lnpk', 'sipa1l3', 'siglec6', 'rpl22l1', 'mstn', 'rph3a', 'ppp2r5a', 'znf324', 'hlx', 'ano3', 'hinfp', 'zmym6', 'mrps2', 'cd244', 'ulbp3', 'gstm5', 'col9a3', 'hnf4a', 'yipf1', 'creb3', 'gpd2', 'osmr', 'mrgprx2', 'map1lc3c', 'erbb3', 'kcna5', 'arg1', 'brf2', 'dph7', 'sgsh', 'znf844', 'oas3', 'tsg101', 'mtnr1a', 'tial1', 'ap4m1', 'pfn1', 'crygn', 'rgl4', 'klhl20', 'krtap12-3', 'prkg2', 'nipsnap2', 'dhodh', 'veph1', 'kbtbd13', 'slc25a43', 'col9a1', 'htatip2', 'syt14', 'rps10', 'cox7a1', 'usp17l22', 'glo1', 'prkacb', 'rad9b', 'map7d1', 'cpa4', 'esf1', 'stat2', 'asgr2', 'olfm3', 'vangl1', 'rtn4r', 'iapp', 'eif2s3', 'rhd', 'csrp1', 'gpld1', 'dynlt4', 'fanca', 'defb114', 'pcna', 'hace1', 'perp', 'trim41', 'tsen15', 'tead4', 'kiaa1755', 'tspan19', 'sox13', 'evc2', 'tbc1d10a', 'igsf11', 'spata16', 'c8a', 'il17a', 'ca11', 'tmed2', 'tmem128', 'cyp26b1', 'kif6', 'sap25', 'ints6', 'smarca5', 'tnfrsf18', 'lrpap1', 'znf382', 'trpc3', 'rdh8', 'mcf2l', 'mri1', 'myl6', 'epb41l1', 'vcy', 'rnaseh1', 'brd8', 'atp1a3', 'hsp90ab1', 'vrtn', 'hmgn5', 'atp10d', 'jag1', 'iqcj-schip1', 'c16orf87', 'golga6b', 'rnf145', 'rusc1', 'tgfbr3l', 'pi3', 'mageb6', 'fam172a', 'sec16a', 'chd1', 'proc', 'cxcl10', 'tbl1y', 'rpf1', 'cc2d1b', 'ifna16', 'dok4', 'myo6', 'cd1a', 'coro6', 'ube3d', 'tarbp1', 'ccdc127', 'megf6', 'anxa13', 'pts', 'or6c74', 'blacat1', 'ubap2l', 'rnase4', 'ssna1', 'qdpr', 'esyt1', 'stau1', 'ly75', 'acaa2', 'rasa2', 'ccno', 'tbx21', 'rrp36', 'irf1', 'ptprm', 'whrn', 'cops7b', 'krtap10-9', 'or6k3', 'dazap2', 'kmt5c', 'mier1', 'slc35b2', 'ppy', 'gmnn', 'pex26', 'mogat3', 'plac9', 'crisp1', 'tfg', 'akap7', 'or1j1', 'vti1a', 'ep300', 'mvb12b', 'arl17a', 'htr3b', 'fosl1', 'ervv-2', 'gage12d', 'tmem239', 'fam193a', 'cxxc1', 'hoxc10', 'bbs2', 'gimap8', 'sod1', 'pabpc1', 'tmem253', 'cmtm3', 'cacna1s', 'fam219a', 'lrrc74b', 'rab5b', 'snx14', 'cdy2a', 'tfpi2', 'hmgn1', 'fbxw11', 'c7orf50', 'cyp2c18', 'ccdc86', 'pdx1', 'clmp', 'lrrk1', 'or13c9', 'cdc42se2', 'usp28', 'fasn', 'slc7a10', 'fam76b', 'krt79', 'tspan17', 'ccdc97', 'blvrb', 'thap2', 'dgcr8', 'calml4', 'ervmer34-1', 'frk', 'gage12j', 'best2', 'ccnk', 'asip', 'snrpc', 'nmt1', 'pygl', 'olfml2b', 'znf888', 'misp', 'gadd45g', 'ddit4', 'iho1', 'nprl3', 'igfl4', 'xcl1', 'tle6', 'actn1', 'il10ra', 'sybu', 'wscd2', 'pnma8b', 'colgalt2', 'esyt3', 'tor1b', 'gpr183', 'zbtb17', 'net1', 'c1orf122', 'ct45a10', 'chac1', 'fcho2', 'ccdc59', 'antxr1', 'wdr38', 'mtmr6', 'slc52a3', 'arhgef28', 'dock6', 'me2', 'gga2', 'znf141', 'srms', 'or1s1', 'diaph3', 'wipf3', 'irs4', 'sgcb', 'clic2', 'clu', 'rtl3', 'pcsk2', 'triml1', 'flrt2', 'akr1a1', 'arhgdig', 'col11a1', 'c1orf141', 'lyrm1', 'tbx1', 'hoxd13', 'ntn5', 'nmrk2', 'jrkl', 'amt', 'dlgap4', 'slc8b1', 'tbc1d5', 'mpeg1', 'sorbs3', 'prelid2', 'gpt', 'tefm', 'dnajc11', 'ndufa4l2', 'tlr2', 'egfl7', 'miip', 'znf778', 'traf3ip2', 'cnr2', 'kiaa1191', 'glyatl1b', 'recql', 'atn1', 'clic4', 'pcolce', 'tcf25', 'wdr35', 's100a2', 'ldlrap1', 'prkcd', 'eno1', 'ube2d2', 'irag1', 'fyttd1', 'dlx6', 'h1-4', 'clip1', 'alox5ap', 'ap3b1', 'page1', 'elk1', 'wdr62', 'tmem52', 'asb9', 'fkbp10', 'vwa5a', 'usp6nl', 'ndufv3', 'clvs1', 'acsm2b', 'gage10', 'klhl6', 'myh2', 'rln1', 'frrs1l', 'med27', 'wwp2', 'rnf125', 'snph', 'smg1', 'dnase1', 'b3gnt2', 'semg1', 'ttc27', 'afg1l', 'ino80b-wbp1', 'glrb', 'synm', 'elovl3', 'rsbn1l', 'peli1', 'dctn6', 'krt6c', 'lpgat1', 'znf587b', 'cep44', 'lhpp', 'dnajc13', 'cldn14', 'guca2b', 'ube2i', 'entr1', 'rps6ka5', 'snx7', 'gid4', 'hcfc1r1', 'znf484', 'stac3', 'slc2a14', 'smg5', 'fam25a', 'il2ra', 'ccdc25', 'nexmif', 'trabd2b', 'apoc2', 'zc3h15', 'igsf9', 'trpt1', 'prx', 'arid3b', 'cgrrf1', 'pde4b', 'c6orf132', 'spag4', 'rnf34', 'phf12', 'cgb5', 'tg', 'dlx4', 'grik4', 'ubl4a', 'slc25a41', 'hsd17b3', 'pax8', 'fkbp14', 'ftsj3', 'epx', 'cdcp1', 'zbtb18', 'kif11', 'ccdc85c', 'kifap3', 'mycbp2', 'bpifb3', 'mrpl22', 'serp2', 'nfe2', 'xrcc4', 'hoxb3', 'sema6d', 'gimap7', 'hlf', 'gprin3', 'myrip', 'elavl3', 'acvr1c', 'ada', 'rab9b', 'plpp7', 'homer1', 'glb1l2', 'or3a3', 'ugt2b17', 'ppm1m', 'selenos', 'spp1', 'vsig10', 'epha5', 'smc3', 'cbfa2t3', 'mknk1', 'myeov', 'unc5d', 'dbi', 'tmem151a', 'krt2', 'igdcc3', 'vps33a', 'lrrc31', 'nr2e1', 'cc2d2b', 'dmrt3', 'chsy1', 'tnfsf13b', 'camkk2', 'hic1', 'zfyve19', 'htra2', 'fam47c', 'map2k3', 'gk', 'rc3h2', 'cebpd', 'nhlh1', 'spink4', 'arhgap9', 'ccdc83', 'tmem35b', 'cacng7', 'kera', 'qars1', 'akna', 'pard6g', 'or2v1', 'srr', 'evx2', 'zbtb8a', 'mmp9', 'atp8b3', 'map3k21', 'hivep3', 'dse', 'hoxb2', 'arfip1', 'h2az2', 'medag', 'ugt2a3', 'otud4', 'ms4a10', 'aida', 'glyatl2', 'ccdc28b', 'dusp9', 'oprm1', 'etf1', 'dnajc18', 'pim3', 'smpdl3a', 'acer1', 'snapc5', 'urm1', 'krt24', 'fndc3b', 'g6pc1', 'rab36', 'exosc8', 'mrpl51', 'smpd3', 'macrod1', 'rpl18', 'vcy1b', 'rnf111', 'lrrc40', 'slc35f3', 'diras1', 'mast4', 'nol9', 'tspan2', 'rtl6', 'fnip1', 'slc5a5', 'homer2', 'mboat4', 'lman1', 'tenm3', 'tram1', 'sla', 'celf6', 'trpa1', 'znf354b', 'ccdc121', 'rd3', 'dlx2', 'bmi1', 'phactr3', 'fam177a1', 'il1rap', 'tdrkh', 'ankrd18b', 'c12orf60', 'dctn1', 'rcan2', 'usp37', 'tlr9', 'fbxo38', 'myh15', 'rps21', 'scfd1', 'dock2', 'slc35f5', 'gpr156', 'odf2l', 'foxi3', 'fbxo33', 'emc1', 'sgo1', 'dedd', 'c4bpb', 'p2ry6', 'stx11', 'cdc42ep1', 'blnk', 'ccdc112', 'esco2', 'pcdhga11', 'pet117', 'ciao2a', 'btg1', 'epg5', 'or10a5', 'rps27', 'egr4', 'plekha1', 'znf48', 'mfap5', 'cyba', 'taar2', 'mast3', 'tmbim1', 'plagl2', 'kcnf1', 'igdcc4', 'nudt12', 'trip10', 'klhl3', 'nme7', 'nmur2', 'pid1', 'aif1l', 'tmem63c', 'nr1d1', 'hoxc5', 'lrrd1', 'mnt', 'gramd2b', 'tspan31', 'orc2', 'ccdc70', 'aak1', 'agr2', 'eya3', 'acot9', 'ifit5', 'kif4a', 'ca6', 'or2aj1', 'fam83g', 'nacad', 'smco4', 'krba2', 'znf665', 'cd82', 'irag2', 'siah2', 'impa1', 'gigyf1', 'slc7a1', 'nyap1', 'dnajc5g', 'rpe', 'myb', 'or51a2', 'rbm12', 'med20', 'nup42', 'lancl3', 's100a7l2', 'adam11', 'htt', 'nol11', 'cnbp', 'map2k6', 'mrs2', 'stk31', 'cps1', 'tpx2', 'tmem100', 'riox2', 'phactr4', 'scx', 'lhx8', 'vcp', 'hpgds', 'or4a15', 'txlna', 'b3galt6', 'rbbp8nl', 'wnt5b', 'acad8', 'kit', 'tnfrsf8', 'mael', 'ifi35', 'cdk2ap1', 'ptpn20', 'nat10', 'dqx1', 'cisd2', 'sympk', 'tmem184c', 'nrn1', 'ociad1', 'rho', 'snrnp70', 'diaph1', 'ankrd13c', 'srrm2', 'srsf1', 'or1l4', 'mmd', 'pla2g2c', 'znf770', 'spata4', 'rbmx2', 'mpp7', 'adra2b', 'nphp4', 'shisa6', 'atg16l2', 'gstm3', 'sh3yl1', 'ano8', 'prm2', 'men1', 'usf3', 'cartpt', 'tox4', 'lyrm7', 'lrrc46', 'mrc2', 'arfip2', 'vps39', 'aanat', 'scgb2a1', 'ccdc43', 'kiaa1549l', 'trim38', 'myoz1', 'or7d2', 'fam3b', 'prkx', 'ift52', 'ddhd2', 'slc26a4', 'kiaa1958', 'gdf6', 'ccdc28a', 'prlhr', 'ryr1', 'tmed9', 'gypc', 'pdpk1', 'rgs4', 'tmem61', 'tex43', 'sh3d21', 'psmb11', 'xage5', 'sdk2', 'tnfrsf10b', 'vwa3a', 'nbpf14', 'ing4', 'rnf20', 'tmem121b', 'or4f6', 'irak3', 'hnrnpk', 'lrp4', 'zup1', 'hspg2', 'rftn2', 'elmod1', 'ssb', 'tmem176b', 'gabrb3', 'xrn2', 'wnt5a', 'zdhhc5', 'mgst2', 'fstl4', 'bcl7b', 'ergic1', 'banp', 'znf521', 'fbxo11', 'itm2a', 'suv39h1', 'rab5a', 'telo2', 'metrn', 'usp22', 'cebpzos', 'c2orf88', 'or2b3', 'alg3', 'mrpl40', 'eif4e3', 'jaml', 'arrdc2', 'tecr', 'prkaa1', 'sirt6', 'magec2', 'hand1', 'ankrd35', 'commd7', 'ypel1', 'slc6a14', 'klc1', 'pou6f2', 'tmsb10', 'pou5f2', 'cs', 'kcnrg', 'znf646', 'hs3st5', 'dnase1l3', 'ptx4', 'grip1', 'tln1', 'spi1', 'alpk2', 'terf2ip', 'adamts7', 'mrpl52', 'tesk1', 'trim39-rpp21', 'hspa5', 'nphs2', 'phykpl', 'bpy2b', 'lamc3', 'pde5a', 'nlrp1', 'ascc2', 'anos1', 'ppan', 'endov', 'bri3bp', 'tm6sf2', 'tbck', 'lrrfip1', 'znf814', 'dpys', 'jsrp1', 'gcnt3', 'fbn1', 'slc2a9', 'casp7', 'dcaf5', 'pex11g', 'slc33a1', 'katnal2', 'hbq1', 'hpn', 'magohb', 'ppp1r3e', 'ppm1g', 'matn2', 'gsc2', 'ccdc103', 'serinc2', 'fgfr1op2', 'prkd2', 'asb14', 'mt-atp6', 'immt', 'ergic3', 'reep1', 'gnrhr', 'nsmaf', 'wdfy3', 'lrfn2', 'ttll7', 'ola1', 'krtap9-1', 'rbak', 'socs4', 'dclk3', 'adamts20', 'sbsn', 'haus6', 'dmrt1', 'c12orf76', 'dhrs13', 'cnnm2', 'mt1m', 'kcnab3', 'sugp2', 'trim28', 'chmp4c', 'pf4', 'igsf21', 'glyr1', 'lce3c', 'tspan10', 'klf17', 'wfikkn2', 'c16orf96', 'pnma3', 'tmem182', 'adat2', 'aatk', 'rarb', 'pla2r1', 'speg', 'ptbp2', 'ctbp1', 'cenpe', 'plac8l1', 'znf398', 'arhgap19-slit1', 'lct', 'mid1', 'mfap1', 'ankrd18a', 'cdhr1', 'slc25a39', 'cux1', 'gal3st3', 'ptpn5', 'gjb3', 'dnah11', 'maob', 'fam131a', 'gstcd', 'syne4', 'slc17a3', 'znf716', 'ubqln1', 'txnrd1', 'ccdc81', 'jmy', 'npsr1', 'calml5', 'cdk5rap3', 'etv4', 'aimp2', 'pcdh15', 'cops4', 'sec11a', 'cenpvl2', 'hspb2-c11orf52', 'mpc1', 'exosc2', 'tor1aip1', 'glb1l3', 'fbn2', 'myl1', 'clps', 'dpm1', 'stam', 'zc3h12a', 'plb1', 'clec12b', 'nae1', 'tm2d1', 'ppp1r15a', 'lrrc4', 'paip1', 'timm10', 'hrh4', 'cuzd1', 'c1galt1', 'slc51b', 'skor2', 'pip4k2a', 'havcr2', 'capza1', 'cfap97', 'eif6', 'ripply2', 'tmem74', 'st8sia2', 'tmem216', 'msantd1', 'msantd3-tmeff1', 'plp1', 'limk2', 'znf75a', 'gadd45a', 'rem2', 'mon1b', 'onecut2', 'pkib', 'crhbp', 'tp53tg3d', 'lgr6', 'hspa12b', 'pon1', 'zcchc9', 'pom121l2', 'setd1b', 'dvl1', 'itih1', 'trappc8', 'or5a2', 'fam229b', 'kif9', 'page4', 'morn5', 'lrrc20', 'foxj1', 'ap4b1', 'sptbn5', 'ehf', 'rpl13', 'bora', 'cmc1', 'ccl21', 'phf11', 'dlg3', 'rad50', 'syt9', 'prpf4', 'ostc', 'tex264', 'pask', 'midn', 'mia', 'znf732', 'chst4', 'hck', 'tcf7l2', 'kiaa1549', 'dnajc4', 'bloc1s4', 'fam110c', 'adam30', 'elmo2', 'znf20', 'tmem50a', 'acta1', 'lrrc45', 'rsph6a', 'ndufb8', 'nucks1', 'srsf6', 'sdcbp', 'znf682', 'fam181b', 'cul4b', 'lrrc42', 'scgb1a1', 'ell3', 'abcd4', 'agps', 'adnp', 'tnrc6c', 'parp12', 'efnb2', 'nudt22', 'rmdn2', 'sphk2', 'lck', 'tigd2', 'kiss1', 'enkd1', 'exoc2', 'ptk2b', 'mthfd1', 'togaram2', 'rnf181', 'il10rb', 'asb10', 'synj2bp-cox16', 'dnajb2', 'setd4', 'erlin1', 'tmem125', 'fth1', 'prrc2b', 'adamdec1', 'ppp2r5b', 'abcg5', 'fam118a', 'dnah12', 'or13c4', 'shisa7', 'potee', 'pibf1', 'txnl4a', 'slc1a2', 'nxph3', 'cyp1a1', 'mau2', 'dkk3', 'wnt9a', 'ccdc74a', 'znf214', 'elp4', 'trps1', 'smim30', 'stmn2', 'eftud2', 'srsf12', 'gyg2', 'znf544', 'lurap1', 'bmp6', 'mtdh', 'fzd7', 'serpina7', 'c19orf47', 'alcam', 'coprs', 'capza2', 'cdk13', 'kbtbd12', 'poglut2', 'znf490', 'six1', 'paip2b', 'nr4a2', 'tsc22d4', 'zcchc14', 'ptprb', 'ndufs6', 'col9a2', 'zp1', 'castor2', 'lactb', 'plcz1', 'cd5l', 'c11orf87', 'kcnab1', 'cplx2', 'phf10', 'npc1', 'c10orf90', 'zbed2', 'creld2', 'bbof1', 'rasl11b', 'tmed8', 'cyfip2', 'fcgr3b', 'selenok', 'prpf40a', 'kdm1b', 'timmdc1', 'gp9', 'scml2', 'or52d1', 'ap4s1', 'afmid', 'clec14a', 'nop53', 'rtn2', 'tpo', 'tns3', 'mcur1', 'vcpkmt', 'g6pd', 'znf766', 'exoc4', 'begain', 'rab42', 'kpna1', 'ccnb2', 'ugt1a10', 'rmnd1', 'psmb4', 'dad1', 'hnrnpab', 'tmem184b', 'mtcp1', 'mei4', 'ssx7', 'klf2', 'hdgf', 'cpd', 'c8orf33', 'anapc5', 'hdgfl2', 'dstyk', 'slc6a15', 'ildr2', 'znf662', 'snrnp35', 'gbp7', 'chsy3', 'ptcd1', 'wnt11', 'grm4', 'adam8', 'kcnv1', 'prss38', 'krt6a', 'znf345', 'nsun3', 'tas2r16', 'uba1', 'acp7', 'heyl', 'filip1', 'ano10', 'pank3', 'tmem215', 'ccnd1', 'senp6', 'foxh1', 'pgam4', 'ube2n', 'casq1', 'anxa6', 'vrk1', 'gbp1', 'znf672', 'gypb', 'znf69', 'snrnp200', 'ndufa5', 'bcat2', 'reep2', 'wee1', 'gemin4', 'helt', 'rtel1', 'exoc3l2', 'cdc23', 'or4f3', 'krtap21-3', 'arhgef38', 'il5', 'fga', 'tapt1', 'dph6', 'cylc2', 'bub1b', 'slc26a9', 'sdc2', 'bhmt', 'h4c4', 'prb2', 'ldhal6b', 'rs1', 'gfi1', 'fabp12', 'ccdc85b', 'rfx3', 'avil', 'ulk2', 'gtf2f1', 'coa6', 'fuca1', 'otx2', 'cbx3', 'klhl34', 'urod', 'cyth2', 'hagh', 'ccnb3', 'psmb2', 'dph5', 'grk3', 'gorasp1', 'tef', 'asgr1', 'dnm3', 'mphosph8', 'hnrnpul2', 'slc9a1', 'dnai3', 'fchsd1', 'mex3b', 'stard10', 'syngr1', 'cacng2', 'trrap', 'mpst', 'terb1', 'rab23', 'nadk', 'golm1', 'rab8b', 'actrt1', 'pon2', 'clhc1', 'chd3', 'cacng8', 'galnt4', 'polh', 'mrgprx3', 'cst3', 'heca', 'onecut3', 'h3c8', 'c18orf25', 'evi2a', 'bid', 'arfgap2', 'hyal4', 'eps15l1', 'cystm1', 'dsc3', 'vldlr', 'eif2ak1', 'ncaph', 'vps25', 'h1-3', 'ampd1', 'nfkbie', 'syndig1l', 'erich1', 'nexn', 'etv3l', 'rpl37', 'dlec1', 'galp', 'clec11a', 'rassf3', 'kcnh1', 'nqo2', 'wdr91', 'wnt8b', 'prss56', 'rgl1', 'gpr68', 'atp8b2', 'xpnpep3', 'cenpb', 'pcp4l1', 'slc5a6', 'maf1', 'spaca3', 'tmem160', 'apobr', 'pcdhga5', 'si', 'creb3l2', 'znf337', 'elac2', 'hdac1', 'grhpr', 'otol1', 'stau2', 'inafm1', 'sema5b', 'art4', 'herc5', 'spag6', 'dock10', 'siglec11', 'nup160', 'nectin1', 'lrrc36', 'npas2', 'cldn12', 'ascl1', 'ercc1', 'alkal1', 'gsr', 'taok1', 'oxnad1', 'nanos2', 'lpcat3', 'ankrd33', 'l3mbtl4', 'tusc1', 'gpr34', 'ptchd4', 'btg4', 'nt5c1b', 'tnnt1', 'vps37b', 'lctl', 'adarb1', 'sel1l', 'dhrs2', 'rspo2', 'cttnbp2', 'znf786', 'c4orf47', 'dytn', 'ankrd60', 'epb41l3', 'celsr3', 'cyp20a1', 'angpt4', 'rpgrip1', 'nkx1-2', 'spock3', 'rbmy1a1', 'cd109', 'rims1', 'etnppl', 'npipb9', 'nfe2l3', 'tmem205', 'dmap1', 'lbhd1', 'fam184a', 'ifi30', 'atxn7l1', 'krtap19-6', 'tas2r4', 'or5ac2', 'desi1', 'il6st', 'dcaf1', 'clec1a', 'ggt7', 'pard6a', 'prmt2', 'dcaf6', 'rab35', 'sv2b', 'trmt5', 'eef1e1-bloc1s5', 'insm1', 'znf106', 'arl2', 'nkx2-3', 'ankrd55', 'eif4b', 'nr1h3', 'drc7', 'trim64b', 'cela1', 'rab2a', 'spink6', 'pgm3', 'cnp', 'procr', 'dtx4', 'zbtb48', 'col27a1', 'folh1', 'fam236a', 'mon1a', 'tmem238', 'znf239', 'imp3', 'clc', 'myh13', 'sox2', 'rangap1', 'tpcn1', 'tex13a', 'reg3a', 'fam24b', 'pnma8a', 'inpp5k', 'cldn10', 'znf280c', 'siva1', 'mymk', 'wsb2', 'c1orf54', 'slc35f4', 'supt20hl1', 'hadha', 'vcl', 'or4a16', 'rmnd5a', 'or6c75', 'slc34a3', 'snu13', 'galntl5', 'thsd4', 'cep55', 'cdr2l', 'fam86b2', 'aqp3', 'frmd1', 'angptl1', 'pdlim3', 'znf211', 'ppt2-egfl8', 'sucnr1', 'bace2', 'snap29', 'crebrf', 'anxa4', 'shisal2b', 'oxct1', 'dnase1l2', 'gsap', 'rnf123', 'slc45a1', 'scg2', 'cdk2', 'kif18b', 'or4x1', 'ccrl2', 'hbegf', 'ucn3', 'gpr65', 'faxdc2', 'kat2b', 'cnih4', 'chd5', 'kcng4', 'gpr37', 'marchf2', 'rac2', 'fam104b', 'znf226', 'smug1', 'ccnd2', 'clec3a', 'ndufa8', 'cd79a', 'pcdhgb6', 'hdac5', 'h2ac8', 'pate4', 'ube3a', 'fbxo31', 'actrt2', 'tbc1d26', 'lrrk2', 'krt83', 'ssc5d', 'elovl5', 'asb4', 'shkbp1', 'sfxn5', 'plcxd3', 'tfcp2', 'cnih1', 'ltbp2', 'rgs13', 'gba2', 'bhlhe40', 'arsi', 'camsap3', 'ogdhl', 'cyp4f11', 'tpmt', 'dpp4', 'top2a', 'c9orf40', 'rasal3', 'fam219b', 'gprc6a', 'ccnd3', 'cenpu', 'mgarp', 'znf804a', 'lsm1', 'fxyd4', 'c20orf202', 'vash1', 'rcn3', 'dennd5b', 'pitpnm2', 'mast2', 'or5d14', 'rps3', 'prps2', 'krt7', 'nrbp1', 'rhpn2', 'tcp11x2', 'cacng3', 'plscr5', 'cobl', 'prep', 'scn2b', 'acot7', 'atf2', 'sdf2', 'cpz', 'pi4ka', 'lzts2', 'nsun6', 'calm2', 'tdgf1p3', 'fahd1', 'ik', 'arl1', 'pmf1', 'ngdn', 'nhp2', 'man2b1', 'hectd3', 'sprr3', 'h1-8', 'cnot1', 'mb', 'wnt6', 'krtap19-5', 'dzip1', 'sfpq', 'ap3d1', 'ccdc8', 'rbm17', 'spink2', 'cry1', 'ddx25', 'ctsz', 'slc35g2', 'angptl6', 'runx3', 'tnr', 'itpr2', 'rhov', 'rtbdn', 'inpp5j', 'mmp10', 'h4c6', 'ets1', 'strn3', 'ccl17', 'tvp23a', 'zscan9', 'csf1', 'clec4c', 'ctnnal1', 'tmem252', 'noto', 'lats2', 'khk', 'itk', 'lactbl1', 'hsbp1l1', 'jchain', 'hcar2', 'kcna10', 'lama1', 'tff2', 'rab18', 'mcidas', 'znf275', 'pi4k2a', 'bfsp2', 'gak', 'krtap10-8', 'rere', 'frzb', 'dync1h1', 'krtap10-6', 'st6galnac3', 'dus1l', 'or51m1', 'larp6', 'pou5f1b', 'b9d2', 'cd37', 'tecrl', 'tspan4', 'c1orf127', 'mcmdc2', 'icmt', 'hpca', 'jph2', 'ca14', 'ndrg1', 'ccr7', 'etv3', 'arap1', 'nxpe1', 'coa8', 'tm4sf19-dynlt2b', 'kbtbd6', 'trhde', 'atxn7l3', 'eif3c', 'dut', 'atp11b', 'adm5', 'spin1', 'akt2', 'tert', 'tdrp', 'ndufb7', 'itpkb', 'ca10', 'specc1l-adora2a', 'iqcf1', 'tcof1', 'gspt1', 'cat', 'klrc1', 'znf585a', 'mrpl41', 'hsdl2', 'pctp', 'trpc4', 'ptp4a1', 'elk3', 'slc18a2', 'ppm1a', 'phyh', 'c19orf44', 'ifitm3', 'eef1e1', 'znf701', 'trim77', 'snap47', 'hapln4', 'sox30', 'alpl', 'rfwd3', 'bpifb4', 'slc29a2', 'znf446', 'tmem60', 'sun3', 'nynrin', 'apip', 'bmpr1b', 'epm2a', 'zzef1', 'spata17', 'znf497', 'cnppd1', 'armc1', 'fmn2', 'rab3il1', 'zfy', 'card11', 'cysltr2', 'zfp91-cntf', 'spsb1', 'gabpb2', 'klhl32', 'cntn4', 'cxorf51b', 'tbxas1', 'gstm4', 'vip', 'znf696', 'gmfb', 'dclk2', 'mrpl47', 'cilp2', 'col17a1', 'znf747', 'ccnb1', 'pgls', 'raly', 'cyp2b6', 'dixdc1', 'alkbh8', 'sem1', 'pkp3', 'ifi16', 'selplg', 'spata24', 'prdm5', 'eno2', 'bhlhe22', 'foxred2', 'med7', 'dmp1', 'fads6', 'mrps35', 'oit3', 'psma8', 'kcne4', 'trdn', 'aff3', 'adrm1', 'catsper4', 'rsad2', 'znf582', 'lhcgr', 'zic5', 'efhd1', 'tmem175', 'ppp1r37', 'tfrc', 'xkr4', 'abhd2', 'kcnk12', 'mdn1', 'vbp1', 'amer2', 'c1qtnf1', 'rif1', 'rasa4b', 'synpo2', 'strada', 'psapl1', 'fnip2', 'aktip', 'wdr97', 'tas2r38', 'tsku', 'slco6a1', 'plec', 'pebp4', 'sult6b1', 'sass6', 'ccdc113', 'synj2', 'atp10a', 'slc7a3', 'znf25', 'prr18', 'gpcpd1', 'dera', 'crx', 'ptpn9', 'krt38', 'aknad1', 'prox1', 'rps20', 'rrm2', 'dnajb14', 'ntmt1', 'plcb2', 'gap43', 'col4a2', 'tmem240', 'chi3l1', 'scn3b', 'fgf12', 'edrf1', 'hs1bp3', 'mre11', 'e4f1', 'dgcr2', 'plpp3', 'mybl1', 'tbc1d17', 'fat1', 'denr', 'thoc7', 'fbxo39', 'lypd3', 'xpo4', 'ybx1', 'morn3', 'rgs19', 'cenpk', 'hsd17b1', 'smpd2', 'birc7', 'dcbld1', 'rmdn1', 'ttll12', 'ilkap', 'acoxl', 'bcl2a1', 'kdm5d', 'taf13', 'ywhag', 'ca9', 'aoc3', 'il6r', 'vasp', 'or8g1', 'krt19', 'ncstn', 'lce6a', 'cgnl1', 'or4x2', 'fa2h', 'gata3', 'piwil3', 'klhl41', 'vps9d1', 'hscb', 'adipor1', 'cdc42ep3', 'lsg1', 'nr3c2', 'nox3', 'lypd4', 'nupr2', 'tug1', 'atad2b', 'smchd1', 'serpinh1', 'scamp5', 'nccrp1', 'dgke', 'cyp46a1', 'dlat', 'slco2a1', 'stc2', 'psmg2', 'c2orf73', 'klhdc7b', 'fam9b', 'rbsn', 'prr15l', 'dydc2', 'ccdc88a', 'nes', 'pi16', 'c5ar2', 'lemd3', 'sgip1', 'pfn4', 'emc6', 'alg5', 'caly', 'znf189', 'gsk3b', 'hnrnpa3', 'xpo6', 'serpina9', 'dbh', 'slc25a1', 'gsta5', 'jcad', 'tfap2a', 'lmnb1', 'fbxl22', 'sez6l2', 'gnat3', 'sh2d4b', 'avl9', 'tmco1', 'faah', 'fam234a', 'tas2r5', 'rbmxl2', 'kremen1', 'c2cd4b', 'or5c1', 'zmat1', 'dnajc6', 'glipr1l2', 'il11', 'ugt1a3', 'raet1l', 'sdsl', 'dcps', 'use1', 'fcrl6', 'serpine1', 'fbxw2', 'proser1', 'taf5l', 'mtus2', 'arhgef11', 'sde2', 'gjd2', 'chrna4', 'alkbh7', 'or51e2', 'spock2', 'fosb', 'taf6l', 'rel', 'c1orf94', 'ppan-p2ry11', 'capn13', 'ahcy', 'slc37a1', 'igf2bp3', 'cpn2', 'nol4', 'foxa2', 'h2ab1', 'gja1', 'cldn6', 'tex13b', 'tlk1', 'ccdc66', 'atp5me', 'cpne4', 'cp', 'clec4m', 'otop1', 'trim58', 'kdm5a', 'ccdc141', 'ssmem1', 'baat', 'pik3r4', 'ing1', 'gpr157', 'prss57', 'cox6c', 'or10k2', 'ccr10', 'adh1a', 'col4a6', 'clec1b', 'hells', 'pgm5', 'lrrc66', 'ptms', 'rexo2', 'nudcd2', 'cers6', 'ca5b', 'dlgap3', 'khdrbs3', 'ccdc60', 'c10orf62', 'mdfi', 'or52a1', 'tjap1', 'b3galt2', 'ferd3l', 'hephl1', 'cntnap4', 'snx22', 'slc2a3', 'upk3a', 'olr1', 'crybg3', 'oprd1', 'pdzd7', 'nectin2', 'or2d3', 'pcmtd1', 'saa2-saa4', 'il17rd', 'loxl2', 'adam7', 'hnrnpa0', 'ercc3', 'c22orf42', 'h3c15', 'or5l2', 'znf473', 'izumo1r', 'hilpda', 'myo1h', 'alpk1', 'defb127', 'spice1', 'usp26', 'argfx', 'f8a2', 'dnajc12', 'cks1b', 'vstm4', 'lgi1', 'ucp1', 'ash1l', 'col2a1', 'tmem50b', 'krt16', 'utp3', 'mchr2', 'smcp', 'kpnb1', 'gnas', 'ndufv2', 'zscan12', 'slc2a7', 'taf8', 'sh3gl2', 'ccin', 'ugt2b28', 'tlx2', 'tnfaip8', 'bdkrb2', 'has2', 'fgfbp1', 'mbd2', 'acp2', 'ptch1', 'fgf22', 'lonrf3', 'gpr132', 'cd248', 'prr5l', 'grin2b', 'lgals3bp', 'taf12', 'fam135a', 'prcc', 'bpifa2', 'nubpl', 'senp7', 'trim45', 'nudt16l1', 'dtx3', 'unc13b', 'adat3', 'mlana', 'rock1', 'sh2d7', 'ptprr', 'chst1', 'krt81', 'acp1', 'rit1', 'isy1', 'prdx3', 'pomc', 'hnrnpll', 'fibcd1', 'bnipl', 'naa80', 's100g', 'znf547', 'gca', 'slc43a1', 'tuft1', 'lpin1', 'clec18a', 'cul9', 'znf232', 'bcl2l13', 'gjc2', 'clns1a', 'prickle2', 'klrg2', 'nck1', 'tff3', 'lins1', 'taf1a', 'naxd', 'tph2', 'lactb2', 'grwd1', 'selenom', 'or52k1', 'tmem150a', 'rpp38', 'stoml1', 'thyn1', 'fam185a', 'dbp', 'ifnar2', 'slc27a2', 'vstm2b', 'slc35e4', 'serinc1', 'sstr4', 'slc6a7', 'tmem120b', 'spast', 'st7', 'phf7', 'sdcbp2', 'bod1l2', 'reln', 'thoc1', 'cbx1', 'eif5', 'slc35d2', 'coq2', 'or10z1', 'rrp1b', 'kctd12', 'aasdh', 'rasal2', 'rbmy1j', 'tmem235', 'gas7', 'dmxl1', 'znf628', 'zdhhc21', 'fyco1', 'polr3k', 'atp5pf', 'ap1g2', 'znf449', 'tgm2', 'herc1', 'rbp3', 'rhoxf2', 'kiaa1210', 'klf4', 'wdr53', 'rasa4', 'frmpd4', 'camkmt', 'slc35e3', 'pom121', 'fbln2', 'trim21', 'mul1', 'slc16a11', 'ubn2', 'gtpbp3', 'ca8', 'foxb2', 'pcdhga2', 'asic1', 'itgb1bp1', 'adra2c', 'pafah1b1', 'epb41l2', 'tent5a', 'them5', 'dusp6', 'scp2', 'cfhr3', 'ndufb9', 'defb124', 'cdkl5', 'chrm4', 'map4k3', 'h2bw1', 'camkv', 'grhl1', 'n4bp2l1', 'poteh', 'ube2v2', 'fscn3', 'letmd1', 'rxrg', 'mnat1', 'grm5', 'krtap10-11', 'psma1', 'atf1', 'znf564', 'or6b3', 'polq', 'galnt6', 'tgs1', 'ggct', 'klhl13', 'senp5', 'insyn2a', 'fam216b', 'sdhc', 'rad9a', 'cbln4', 'col24a1', 'mrps17', 'golga6d', 'cox14', 'epcam', 'capn2', 'crygs', 'folr2', 'rin3', 'f2rl2', 'pkp4', 'pdap1', 'twist1', 'gria2', 'gsc', 'ncoa6', 'tmprss11a', 'tnni3', 'znf559', 'sub1', 'fam171b', 'znf19', 'or1j2', 'pef1', 'gpx2', 'c3orf80', 'hspa4l', 'sec31a', 'nanog', 'prdm13', 'atp8b1', 'samd9', 'pabpn1', 'syt13', 'kmt2a', 'myef2', 'knop1', 'prr13', 'pltp', 'mpz', 'smarcad1', 'spata31a6', 'prkag3', 'phf3', 'aldh1a3', 'bop1', 'gnb2', 'plekhf1', 'arnt2', 'rabep2', 'ly6d', 'phkg1', 'get1', 'defb105a', 'ecsit', 'hsd17b2', 'adprs', 'pter', 'c1ql1', 'trit1', 'cep128', 'gnao1', 'gpr135', 'lrtomt', 'mucl1', 'ube2w', 'klhl42', 'nkx2-4', 'nploc4', 'adgrl4', 'folr3', 'ccdc154', 'hcn1', 'dhx32', 'tpd52l2', 'ckap4', 'catsperd', 'krt82', 'kcna2', 'zscan5c', 'tmem11', 'tas2r3', 'stard9', 'cdh6', 'bnip1', 'esd', 'lce2b', 'ogfod2', 'sac3d1', 'c7orf33', 'nos1ap', 'iqcf6', 'agfg2', 'or4c5', 'foxl2', 'peli2', 'dnajb1', 'ehd4', 'dab2', 'cytip', 'clec9a', 'mkx', 'ttll11', 'kpna4', 'hpd', 'slc4a9', 'cyp2c19', 'mxd1', 'col10a1', 'caln1', 'tia1', 'daoa', 'ercc5', 'mctp1', 'gnl3', 'or14k1', 'spef2', 'ppip5k1', 'amely', 'klhl11', 'irx4', 'palld', 'hira', 'fmod', 'rnasel', 'sec24d', 'or2ag1', 'evl', 'prkacg', 'rcc1l', 'plcl1', 'agt', 'btg3', 'upk3bl1', 'svep1', 'hoxa4', 'sh3bp2', 'aldh5a1', 'wif1', 'enho', 'acat2', 'mmp7', 'cyp2f1', 'syt1', 'dhcr7', 'scgn', 'nutm2a', 'npdc1', 'med6', 'mrap', 'vegfa', 'nek1', 'sohlh1', 'znf875', 'rom1', 'atxn2l', 'abca8', 'nip7', 'c9orf24', 'plcd1', 'arsh', 'armcx2', 'ankrd23', 'slc25a53', 'nisch', 'ms4a18', 'nup210', 'id4', 'nipal2', 'sh3rf1', 'plekho1', 'or10d3', 'krtap6-2', 'b3gnt7', 'ptp4a2', 'gkap1', 'jmjd7', 'fcer1g', 'ttc1', 'cfhr1', 'pigk', 'tsr3', 'impg1', 'agbl5', 'c15orf40', 'casp6', 'gpr52', 'ankfn1', 'gli3', 'c21orf62', 'lrrc10b', 'drd1', 'gtse1', 'tctn1', 'asb15', 'ift43', 'usp46', 'uqcrc2', 'grk5', 'cdk12', 'gatad2a', 'atp6v1b2', 'myo1g', 'mrln', 'h2ap', 'hectd1', 'usp27x', 'itsn2', 'tm6sf1', 'mxd3', 'uba6', 'spata6', 'khdrbs2', 'zmym4', 'odf3l1', 'cybb', 'slc7a11', 'ffar4', 'ak2', 'tysnd1', 'dlg1', 'vps8', 'hacd1', 'ceacam5', 'pum1', 'st3gal2', 'fbxl19', 'appl2', 'ascl5', 'c22orf23', 'sh3kbp1', 'fbh1', 'uba5', 'ndufa12', 'ttc22', 'timm9', 'tmed5', 'aamp', 'stk32a', 'myh8', 'slc25a31', 'opn1mw', 'lmbr1', 'tnfrsf25', 'snf8', 'brwd3', 'flcn', 'krt84', 'bmp2k', 'ccdc63', 'neurl3', 'atp6ap1', 'cxcr2', 'znf555', 'fabp6', 'c2orf68', 'lyrm2', 'med24', 'ugp2', 'ct45a6', 'ptges2', 'lars1', 'pik3r2', 'cdh4', 'trex1', 'hp', 'limk1', 'ppp1r42', 'spata9', 'sall1', 'gpr31', 'lratd2', 'tldc2', 'klf3', 'cdhr2', 'ston2', 'celf3', 'dlgap1', 'pcdh12', 'slc9a6', 'tm9sf3', 'slc38a11', 'fignl1', 'parvb', 'pate1', 'smg9', 'hsdl1', 'rassf10', 'tmprss15', 'dync2h1', 'mrps23', 'nme8', 'rap1gds1', 'apc2', 'znf8', 'psmc1', 'pttg2', 'gata1', 'nsg2', 'cmtm2', 'gtf2h5', 'cops9', 'orc3', 'zfp69b', 'sytl1', 'lipg', 'megf8', 'il18rap', 'ggt6', 'mettl21c', 'pja1', 'tmub2', 'acd', 'cfhr4', 'plxna1', 'mbnl2', 'ogdh', 'phpt1', 'fam89a', 'acox2', 'fpgt', 'thsd1', 'bend2', 'pggt1b', 'znf641', 'hmbs', 'gpr143', 'kcnk6', 'usp17l8', 'nop56', 'rgs20', 'hltf', 'magea1', 'tspan3', 'usp2', 'fam187b', 'mrps27', 'proser3', 'zfand1', 'gpr137b', 'vwa5b2', 'apoo', 'tanc2', 'kdm4a', 'gdi1', 'pgam5', 'naa30', 'uap1l1', 'noa1', 'gpx7', 'jarid2', 'znf706', 'or5ar1', 'unc45b', 'cers5', 'arl4d', 'ghrhr', 'ccdc148', 'parp16', 'hmgxb4', 'prickle3', 'ipcef1', 'mylk4', 'spr', 'fut5', 'entpd1', 'prtg', 'rdx', 'edn3', 'adgrl3', 'lad1', 'tradd', 'nrdc', 'elspbp1', 'gtf3a', 'ccr6', 'dync2i1', 'etaa1', 'rest', 'por', 'rpl29', 'brwd1', 'calhm2', 'znf529', 'kcnu1', 'tgm3', 'fam110a', 'fbxl4', 'epha7', 'piwil2', 'zmynd19', 'akr1b10', 'upf3b', 'dbn1', 'trim25', 'mageb10', 'apoc4', 'slc6a13', 'c9orf131', 'rimklb', 'chn1', 'cntn3', 'abcd3', 'pcdhgb5', 'prdm2', 'entpd4', 'tril', 'best1', 'tcp11l2', 'cog4', 'zc3hc1', 'farsb', 'nrbf2', 'mlycd', 'c2cd4c', 'clpsl2', 'lurap1l', 'etfa', 'qpct', 'itgb7', 'sec11c', 'lars2', 'st3gal1', 'snupn', 'jakmip2', 'gemin5', 'pros1', 'znf621', 'krbox1', 'gbx1', 'clul1', 'atp6v1g1', 'luc7l3', 'prr23b', 'znf578', 'tyk2', 'zfr2', 'znf709', 'lage3', 's100a11', 'pnliprp3', 'cabp5', 'srcap', 'vps50', 'syngr2', 'or2b11', 'stom', 'sptlc3', 'znf565', 'klhl17', 'cnksr1', 'slc16a13', 'ube2d1', 'aqp10', 'fam131b', 'slc6a2', 'arhgap32', 'lmo2', 'or7e24', 'slc66a1', 'leo1', 'nt5c1a', 'mybl2', 'jagn1', 'ptx3', 'nbpf11', 'osbpl11', 'c5orf34', 'otub1', 'cav2', 'cacul1', 'cbln2', 'nr5a1', 'cherp', 'adra1d', 'arl6ip4', 'dop1a', 'ncor1', 'l3mbtl2', 'cdh10', 'tuba4b', 'kif18a', 'stard5', 'ina', 'znf429', 'apoh', 'ndufc1', 'krtap27-1', 'sra1', 'slc36a4', 'fgl1', 'scel', 'igfbp1', 'exosc4', 'preb', 'cfap126', 'dgcr6l', 'tmtc1', 'dok7', 'mtg2', 'timp4', 'slc17a4', 'kcna7', 'cdh3', 'mypop', 'znf808', 'diaph2', 'rps15a', 'dek', 'asnsd1', 'rras2', 'u2af1l4', 'cklf-cmtm1', 'tdrd10', 'maz', 'smtn', 'qtrt1', 'itgb3bp', 'commd2', 'steap1b', 'hpse', 'tmem147', 'hmcn2', 'gpr89b', 'acat1', 'btnl9', 'akr1c3', 's1pr5', 'kcnmb3', 'znf157', 'r3hcc1l', 'gk2', 'ccbe1', 'clgn', 'cep162', 'aadac', 'manf', 'c3orf20', 'rell1', 'znf575', 'mob3c', 'fam78b', 'rpl32', 'pax6', 'or6c1', 'grin1', 'ltf', 'p4hb', 'c4orf36', 'ahsg', 'trim56', 'pon3', 'tmpo', 'npnt', 'prmt9', 'unc5c', 'tbxt', 'dhx58', 'adgrl2', 'pga4', 'rad21', 'il17c', 'ufsp1', 'cyp3a7-cyp3a51p', 'mef2c', 'mt1h', 'parg', 'bmp4', 'stxbp1', 'rnf165', 'spock1', 'riok1', 'ska2', 'fam162b', 'gbp4', 'dele1', 'sec16b', 'ciao2b', 'tpp2', 'st6gal2', 'crhr2', 'nudt6', 'guf1', 'neu2', 'negr1', 'shc3', 'ctxnd1', 'reep3', 'ccna2', 'dgkh', 'wrap73', 'fam171a1', 'c3ar1', 'or6f1', 'ahsp', 'ankrd34b', 'zfyve26', 'dr1', 'pyurf', 'kcnmb2', 'kiaa1614', 'or5bs1p', 'nhlrc2', 'plscr4', 'max', 'kcng3', 'tmsb4x', 'dcun1d5', 'rbms2', 'bcl2l2', 'pex7', 'ahrr', 'tex38', 'clcn3', 'slc6a19', 'ppp1r1c', 'bcorl1', 'gp2', 'rrbp1', 'cacna2d2', 'nup98', 'c1orf162', 'ormdl1', 'ankrd1', 'znf117', 'ddx17', 'znf138', 'tnfsf14', 'mrps25', 'tfcp2l1', 'rplp2', 'lclat1', 'usp17l24', 'pgm2', 'dok2', 'egflam', 'atxn7l2', 'znf771', 'ank2', 'cep83', 'tp53tg5', 'fn3krp', 'junb', 'th', 'myf5', 'fsd1', 'barx2', 'nf2', 'lcn9', 'fxyd7', 'usp17l5', 'supv3l1', 'sacs', 'trmt2a', 'ccdc50', 'kcnj9', 'allc', 'cd6', 'ethe1', 'znhit1', 'zscan22', 'b4galt6', 'ephb2', 'zdhhc18', 'rps6', 'sulf2', 'daz4', 'chrng', 'eif4e1b', 'ranbp9', 's100a10', 'trmt6', 'tmem86a', 'pkdrej', 'tnrc6a', 'tgfa', 'snx12', 'nfix', 'ucma', 'scgb1c1', 'ms4a8', 'pla2g1b', 'magef1', 'sall4', 'cyp4f3', 'krt71', 'rsrc2', 'bst1', 'mapk9', 'ikbke', 'znf471', 'foxn3', 'mt-nd2', 'sgcg', 'cmtm1', 'myo3a', 'tax1bp1', 'krt86', 'nup35', 'znf554', 'grik3', 'slc1a5', 'cep131', 'adamts18', 'fhl5', 'ush1c', 'pdxp', 'cops6', 'elob', 'dusp5', 'tex2', 'lcp2', 'lenep', 'alg11', 'fdxacb1', 'oscp1', 'myo1b', 'ankrd40cl', 'diras3', 'ankrd27', 'ube2t', 'wrap53', 'atp5f1a', 'dnaaf2', 'gtpbp4', 'c4orf50', 'sirt4', 'znf692', 'per3', 'nt5c3a', 'xpc', 'plekha4', 'ttyh2', 'ervv-1', 'prr20b', 'tnfaip8l1', 'c4orf17', 'ttc31', 'st18', 'h2ac14', 'vhl', 'nutm2f', 'cr2', 'oma1', 'amelx', 'lrig3', 'slc22a8', 'tnfrsf6b', 'c12orf56', 'mgat1', 'prrg1', 'mprip', 'apcdd1', 'znf503', 'ppl', 'c9orf85', 'lrp8', 'id2', 'scn4a', 'fbxl5', 'ccdc87', 'sp3', 'pradc1', 'slc3a2', 'spag8', 'ash2l', 'il9', 'rfc5', 'taar1', 'lhx5', 'eme2', 'ugt1a4', 'tnni3k', 'znf670-znf695', 'fkbp1b', 'c4orf3', 'psenen', 'znf620', 'tigd1', 'tspan8', 'snrpf', 'spsb2', 'psme3', 'mospd1', 'inhbe', 'ssx4b', 'pum2', 'pnldc1', 'plgrkt', 'avpr2', 'nsd2', 'gask1a', 'washc2c', 'tmem65', 'pygo1', 'cdk1', 'defb110', 'or2d2', 'klhl14', 'papss1', 'dnttip1', 'mrps5', 'akip1', 'thumpd2', 'camsap1', 'or8k5', 'sigirr', 'ankrd17', 'lipf', 'tdrd3', 'trappc6b', 'pla2g3', 'rnf25', 'c4orf45', 'p2rx4', 'aldh3a1', 'itprid2', 'creb3l3', 'fem1c', 'sp6', 'kctd5', 'apln', 'frmd4b', 'gng10', 'ifna14', 'adam10', 'or5m1', 'fbxo8', 'dmbx1', 'pln', 'slc34a2', 'c19orf18', 'scand1', 'nmbr', 'plekha5', 'znf367', 'tfap2d', 'or2k2', 'cep152', 'adgrg4', 'gnaq', 'csgalnact1', 'mrtfa', 'pgap6', 'cd79b', 'yif1a', 'ccdc12', 'hdhd2', 'mthfr', 'gatd1', 'slc15a1', 'tmem200c', 'kcns3', 'ube2u', 'dusp28', 'mkln1', 'zscan18', 'adamts4', 'scaf4', 'krtap5-11', 'krt77', 'nprl2', 'cd247', 'dcaf12l1', 'or9q1', 'pdcd7', 'apcdd1l', 'gage12b', 'odc1', 'rbmy1e', 'syne3', 'smim17', 'pxdn', 'sdr16c5', 'cdt1', 'or2z1', 'tbc1d10c', 'pdgfrb', 'mtbp', 'rubcnl', 'taar6', 'fcrl2', 'afap1', 'sash1', 'tmx3', 'mrpl14', 'tmem59', 'gtf3c2', 'ccng2', 'smoc1', 'cd46', 'zhx1-c8orf76', 'pigb', 'fastkd1', 'vegfb', 'bst2', 'cggbp1', 'acot2', 'ifih1', 'arrdc3', 'zfp64', 'meis3', 'fabp2', 'srp19', 'uqcr11', 'spred1', 'ckb', 'nebl', 'tex101', 'orc4', 'sycp3', 'usp17l11', 'cyp26a1', 'asl', 'atg13', 'cox15', 'vopp1', 'nemf', 'chmp1a', 'znf274', 'mroh7', 'h3c14', 'eya2', 'sytl5', 'pou4f3', 'ice1', 'cyp2w1', 'opalin', 'tmem174', 'npm2', 'rnpepl1', 'tspyl5', 'spdye15', 'iars2', 'slc22a24', 'slc25a17', 'garem2', 'znf124', 'mab21l3', 'fam234b', 'zbtb49', 'tbx19', 'sptb', 'mctp2', 'tmeff1', 'tinagl1', 'lin7b', 'tvp23c', 'smim20', 'vps45', 'lce2c', 'lcorl', 'nr3c1', 'mrgprd', 'kbtbd7', 'myh10', 'slc39a10', 'zbtb34', 'znf593', 'cpt1c', 'cd44', 'nle1', 'fads3', 'spef1', 'acsl1', 'snurf', 'pcyt1a', 'znf688', 'acvr2b', 'clec2d', 'dynlrb1', 'gne', 'slfn14', 'sgms2', 'znf350', 'neurod6', 'hdac4', 'btn3a2', 'taf1', 'ctrc', 'cnga4', 'page2b', 'mgat5', 'acrbp', 'fgf10', 'zbtb39', 'cenpw', 'gpr151', 'zbtb7b', 'dnd1', 'rai1', 'atp8a2', 'ca12', 'slc19a1', 'tmem52b', 'arhgef25', 'hars1', 'bcor', 'dlx3', 'ttc7b', 'c11orf96', 'eif4a2', 'lrrc39', 'enkur', 'farsa', 'slc47a2', 'zbtb43', 'c10orf53', 'ccr1', 'eif2ak3', 'tmem247', 'ywhab', 'armc5', 'iqcd', 'kiaa0586', 'znf746', 'spata33', 'notum', 'mfsd6', 'mc4r', 'nipal1', 'mefv', 'muc15', 'tigd4', 'wwtr1', 'aff4', 'pgk2', 'degs1', 'rbp4', 'itga8', 'eva1a', 'osbpl1a', 'khdc3l', 'hfe', 'znf749', 'odf3b', 'suox', 'il16', 'cadm3', 'nudcd3', 'yy1', 'gpaa1', 'acap2', 'c8orf88', 'pkd2l2', 'lect2', 'alx1', 'znf319', 'vwa5b1', 'ttbk2', 'ddx10', 'tecpr2', 'brat1', 'map1a', 'npipa2', 'mnx1', 'tpm1', 'colgalt1', 'cavin2', 'nfib', 'elovl7', 'mmaa', 'rnf157', 'rpp14', 'ankrd34c', 'cmtm5', 'sfxn4', 'ppp1r3a', 'krr1', 'nbpf4', 'ftcdnl1', 'hook2', 'adcy9', 'duxb', 'gmnc', 'coro1c', 'irak1bp1', 'ulbp2', 'lgi2', 'ccdc24', 'ncmap', 'serac1', 'lgsn', 'rad52', 'lcn1', 'ttll3', 'klk6', 'peg10', 'gpa33', 'dhdh', 'depdc4', 'fcgrt', 'osbpl7', 'ackr2', 'arhgap10', 'ndc1', 'pprc1', 'pomk', 'pbld', 'peds1-ube2v1', 'ephx3', 'myc', 's100a3', 'asxl3', 'ddrgk1', 'foxn2', 'mpped1', 'ttc14', 'ppp2r2a', 'dnajb13', 'pdxk', 'lum', 'st20', 'lin9', 'nxnl1', 'dll3', 'supt5h', 'psmg4', 'mmp14', 'cd93', 'anapc15', 'slc26a6', 'mei1', 'erlec1', 'slf1', 'accsl', 'adprh', 'pm20d1', 'wfdc11', 'znf180', 'fxyd1', 'cd300e', 'prdm11', 'ric8a', 'actl7a', 'atp6ap2', 'ptpra', 'angptl4', 'odad2', 'ncoa7', 'trak2', 'col6a1', 'scn2a', 'znf263', 'rnf169', 'fam170a', 'xkr3', 'csn2', 'tacr2', 'tmem138', 'btn3a3', 'sos2', 'hoxc13', 'arcn1', 'fam47b', 'phf2', 'tagln', 'atp5f1b', 'nid2', 'chek1', 'klhl31', 'slc66a3', 'smim18', 'pfn3', 'parvg', 'mns1', 'knstrn', 'nckap1l', 'itgb4', 'rims4', 'npas3', 'acss2', 'znf287', 'galt', 'nmur1', 'nfkbid', 'timm10b', 'gtpbp1', 'ubb', 'pxk', 'nkapl', 'iqca1', 'grb2', 'slc36a1', 'krt35', 'rit2', 'slc29a3', 'virma', 'prr16', 'cep63', 'ube2q1', 'ccl1', 'ctsh', 'tnik', 'orm1', 'ppp3r1', 'ptgdr2', 'klf5', 'c9orf152', 'sharpin', 'dmrtb1', 'sidt2', 'susd2', 'eme1', 'mt-cyb', 'yipf7', 'hspa9', 'map3k20', 'nrg4', 'inpp4b', 'haus3', 'foxp3', 'vangl2', 'tcf21', 'mpl', 'cactin', 'pygo2', 'snx19', 'eif4e2', 'ifna21', 'med29', 'pak5', 'nkiras2', 'sephs2', 'tnn', 'mageh1', 'myo18b', 'alpk3', 'kcna6', 'mrpl2', 'gclm', 'znf346', 'wdr17', 'tekt1', 'krt13', 'agap1', 'ss18l1', 'inhba', 'trafd1', 'aldh3b1', 'pgf', 'oser1', 'nmd3', 'rnf130', 'gpr75', 'gfm2', 'cpb2', 'parp1', 'tlcd4', 'smad1', 'ppef2', 'pfdn1', 'slco2b1', 'pom121l12', 'mex3d', 'gnai1', 'tmem132c', 'dio3', 'lyn', 'ndrg3', 'gtf2b', 'c1orf52', 'dnlz', 'krt15', 'pcsk9', 'glt1d1', 'mdm1', 'uso1', 'spen', 'zscan31', 'cnmd', 'nr5a2', 'col4a4', 'pmepa1', 'ms4a2', 'snrnp25', 'asph', 'c14orf39', 'nkain4', 'eepd1', 'klf7', 'kcnj4', 'l3hypdh', 'dynll1', 'ikbkb', 'foxb1', 'c12orf43', 'kif14', 'polr3g', 'mertk', 'plekhg3', 'fam13b', 'or52i1', 'cnot6l', 'znf330', 'naaladl1', 'haus8', 'secisbp2', 'ralb', 'dnmt1', 'axin2', 'ror2', 'rxfp2', 'vps33b', 'or51i1', 'lin28a', 'sfn', 'dcaf4l2', 'b4galt5', 'hspa6', 'hnrnpu', 'tent4b', 'ppp1r3g', 'ereg', 'entpd3', 'clcnkb', 'slc39a8', 'epyc', 'h3-3a', 'higd2b', 'smim35', 'chmp3', 'gldn', 'rnf213', 'arhgef15', 'pank1', 'slc4a4', 'ffar1', 'artn', 'scrn2', 'galc', 'clec18c', 'spns3', 'daz2', 'tdg', 'zc2hc1b', 'dnah17', 'unc13d', 'slc27a5', 'plod3', 'rpl4', 'cib3', 'prrt3', 'dmc1', 'calml6', 'serpina4', 'muc5b', 'wwox', 'znf136', 's100a4', 'ddn', 'gsx2', 'tnfrsf11a', 'rundc3a', 'mgat4d', 'ddit3', 'apol1', 'rp1', 'zdhhc4', 'trim11', 'togaram1', 'rep15', 'bpifa3', 'tagap', 'gpr39', 'otos', 'rnf103', 'bicd1', 'bmx', 'crcp', 'dbx1', 'pmfbp1', 'sh3bgrl3', 'lrrn1', 'hcfc2', 'znf679', 'mutyh', 'c4orf19', 'eps8l2', 'hoxc11', 's100a9', 'slc18a1', 'page2', 'pate3', 'coq5', 'tll1', 'camk2g', 'ifna1', 'znf614', 'rab1a', 'dazl', 'aplf', 'sccpdh', 'chchd2', 'farp1', 'klc4', 'ctnna3', 'nt5dc2', 'rtn4rl2', 'apobec4', 'fam156a', 'pak3', 'adamts16', 'shld2', 'sln', 'fabp4', 'pah', 'smim9', 'fshb', 'kif16b', 'ssr1', 'utp11', 'wbp2', 'oxa1l', 'pcgf6', 'ppp1r15b', 'st6galnac2', 'srsf2', 'c17orf107', 'catsperg', 'senp3-eif4a1', 'fam186a', 'oxgr1', 'ppfia4', 'serf2', 'wfdc8', 'abcc9', 'pld1', 'pald1', 'plp2', 'nipal4', 'ccdc51', 'ctcf', 'cdkn2d', 'ervfrd-1', 'pabpn1l', 'or6t1', 'plcg2', 'c12orf4', 'saxo2', 'mylip', 'cxcr5', 'cfap69', 'tmem151b', 'ogfod3', 'ankrd20a2p', 'mtap', 'tfap2e', 'map4k5', 'mcph1', 'zfp3', 'kctd13', 'sspn', 'plekhj1', 'ephb3', 'b3gnt4', 'ifna2', 'polr2i', 'nid1', 'fam43b', 'tmem126a', 'znf184', 'c1qtnf9', 'cyp4f12', 'ankrd6', 'znf527', 'ssu72', 'rnase11', 'ubash3a', 'rpusd2', 'myh3', 'sil1', 'btk', 'tango2', 'nabp2', 'plekhg6', 'ckmt1b', 'lipn', 'usp50', 'rgs7bp', 'exosc3', 'syne2', 'srgn', 'map3k2', 'mt-atp8', 'cdc6', 'znf835', 'stk16', 'slc25a27', 'ocrl', 'vegfc', 'tbc1d19', 'mturn', 'cd24', 'ifnar1', 'shq1', 'nifk', 'kmt5b', 'gpatch2l', 'aqp8', 'smarcc2', 'fcgr2b', 'otulin', 'phf14', 'cd177', 'gnb1', 'ppp4r3b', 'armc12', 'efhb', 'tax1bp3', 'marchf6', 'penk', 'eef2', 'abhd13', 'mrm2', 'gage12h', 'cacng5', 'col4a1', 'chgb', 'prph2', 'sppl2a', 'ntrk1', 'lacc1', 'ppp1r32', 'amer3', 'hes2', 'pdpr', 'slc25a36', 'hemgn', 'grk7', 'pck1', 'fgd4', 'plekhg7', 'rgs17', 'cdc25c', 'grik2', 'fuom', 'c3orf70', 'dmxl2', 'cacnb3', 'sar1b', 'spidr', 'ankrd44', 'ddb1', 'ddx5', 'mrpl27', 'arsl', 'hspd1', 'stard3', 'agap5', 'zeb2', 'nipbl', 'timm23b', 'gbp5', 'map4k2', 'panx1', 'aipl1', 'bak1', 'acbd6', 'znf831', 'upp2', 'rac1', 'sfxn1', 'adamtsl5', 'hdac9', 'rpl34', 'lrrc47', 'tf', 'nsun2', 'gle1', 'kansl1l', 'sncaip', 'ampd2', 'cwh43', 'tmem140', 'syngr4', 'bend5', 'pkd1l3', 'abcb10', 'ghsr', 'kiaa1217', 'prrt4', 'ldhal6a', 'snrpb2', 'krt5', 'nxph1', 'cript', 'slc22a7', 'map3k6', 'cdc5l', 'pxmp2', 'scgb2a2', 'derl1', 'pla2g4e', 'lamp1', 'hsd3b2', 'hgh1', 'map3k13', 'atg12', 'kiaa1522', 'sult1a4', 'snai2', 'aldh4a1', 'ripor2', 'cmbl', 'plagl1', 'duox2', 'pudp', 'or1j4', 'morc3', 'h1-5', 'mtrf1', 'mindy4', 'gucy1a2', 'ky', 'ebna1bp2', 'hdac2', 'plekha6', 'agap6', 'prkag2', 'znf600', 'ccl22', 'calca', 'znf90', 'npy5r', 'stmn4', 'mtmr14', 'znf107', 'gjd4', 'gng12', 'braf', 'chrm5', 'plrg1', 'exoc1', 'prr14l', 'acot13', 'ctag1a', 'wdr76', 'pdgfrl', 'ptpn22', 'tada3', 'nyap2', 'ptcra', 'gskip', 'lhx6', 'acan', 'tpk1', 'clip3', 'prokr2', 'stip1', 'rpl39l', 'crip1', 'znf169', 'adck2', 'lce3a', 'art3', 'fancb', 'bcl9l', 'gabrg1', 'bcl2l1', 'lysmd2', 'mettl22', 'upb1', 'hnrnpul1', 'sp4', 'dot1l', 'elovl2', 'tmc2', 'naxe', 'pkn1', 'zmym2', 'c4bpa', 'sema6c', 'sema3a', 'wnt8a', 'atp6v0a1', 'msx2', 'arid3c', 'kif17', 'ugt2b11', 'ttc7a', 'emx2', 'ubqln2', 'phip', 'tm7sf2', 'pnrc1', 'siglec7', 'aunip', 'srrm4', 'mt-nd3', 'trmu', 'col5a3', 'ap2s1', 'p2ry1', 'yy2', 'apmap', 'hopx', 'aen', 'g6pc3', 'cd200r1', 'hjurp', 'glb1', 'or4q3', 'tcl1a', 'pigs', 'coa7', 'kdm4d', 'pomp', 'qrich2', 'hsp90aa1', 'ccdc174', 'ndufa2', 'uqcrc1', 'znf462', 'or1a2', 'foxi2', 'rnf170', 'rpa1', 'znf101', 'dclk1', 'prmt5', 'nlrp11', 'h2bc17', 'eln', 'cecr2', 'cdk19', 'znf777', 'dnajc15', 'ecd', 'zwint', 'ogfr', 'myo15a', 'c4orf33', 'purb', 'fubp3', 'ddo', 'top2b', 'fh', 'ppp4r3a', 'cdca7', 'ypel2', 'nek9', 'ophn1', 'cab39l', 'sox12', 'oprk1', 'nrsn2', 'hepn1', 'ms4a4e', 'slc17a1', 'pcdh10', 'ncln', 'lrrc4b', 'rpap1', 'pigx', 'klk3', 'prr20d', 'usp17l28', 'nnat', 'nlk', 'kif5b', 'spam1', 'drc3', 'sdf4', 'rapgef3', 'sry', 'ptpn23', 'ubxn8', 'ywhaq', 'pcdhgb4', 'smurf1', 'fbxo40', 'egr3', 'rhebl1', 'ghdc', 'clrn2', 'cyp4b1', 'eqtn', 'ccdc80', 'kcnh4', 'dact1', 'oxer1', 'tacr3', 'rogdi', 'kif1c', 'cttnbp2nl', 'ankrd45', 'wdfy2', 'pcdh1', 'nmu', 'arhgap18', 'cd38', 'qsox1', 'lxn', 'klhl29', 'ugt2a2', 'mdm2', 'inafm2', 'taar9', 'igf1', 'ranbp3', 'mpp1', 'gsg1l', 'abcb4', 'ext1', 'sap30bp', 'wdr41', 'pdzk1', 'crygb', 'setsip', 'srsf7', 'unc5a', 'mecr', 'btaf1', 'wars2', 'mthfd2l', 'lekr1', 'egr1', 'rpl37a', 'slc38a2', 'ednrb', 'tusc2', 'ankrd7', 'il1b', 'tmub1', 'mphosph9', 'tmigd3', 'phyhip', 'tmem191c', 'psma6', 'cd69', 'lrrc37b', 'mtor', 'trpv1', 'znf33b', 'erh', 'uts2', 'frem3', 'or2l8', 'fetub', 'def8', 'rpa3', 'dock4', 'plppr5', 'pttg1ip', 's100a12', 'chst7', 'pdcd6', 'dip2a', 'cct6a', 'bdnf', 'bloc1s5-txndc5', 'c6orf62', 'abhd16b', 'ccdc102a', 'gpx4', 'klf15', 'tnks2', 'mslnl', 'rap1gap', 'mettl7b', 'naa35', 'itfg1', 'nr2c1', 'ifit1', 'grm6', 'slc25a23', 'or8a1', 'prf1', 'hmox1', 'ube2j2', 'ropn1', 'astn2', 'mmp15', 'tbc1d16', 'znf699', 'nefm', 'rbm23', 'slco4c1', 'kifc2', 'tmc5', 'brox', 'spin2b', 'tecta', 'casc3', 'stk39', 'ehbp1', 'tktl2', 'wdr20', 'or5d18', 'wfdc13', 'rab38', 'ca5a', 'nsfl1c', 'shh', 'aire', 'flywch1', 'lrrc59', 'six3', 'nbea', 'h2ac15', 'pde12', 'six2', 'itpa', 'samsn1', 'ss18l2', 'poc1b-galnt4', 'hs6st3', 'pip5k1a', 'ston1-gtf2a1l', 'tspy3', 'znf92', 'tpte2', 'sft2d1', 'atoh7', 'armcx1', 'dcc', 'fbxo21', 'pdk3', 'srek1', 'angptl7', 'slco3a1', 'slc9a9', 'zc3h8', 'bsg', 'adam15', 'fau', 'zscan30', 'gys2', 'gusb', 'txndc8', 'ssx3', 'cys1', 'fut8', 'vhll', 'insc', 'pcnt', 'tex22', 'tnfsf11', 'pik3r1', 'pkia', 'mfsd5', 'dsp', 'ctag2', 'npipb8', 'ldb1', 'pilra', 'c18orf32', 'mnda', 'rap2c', 'hsd3b7', 'gapdhs', 'saraf', 'sntn', 'lrrc14b', 'itsn1', 'bysl', 'dnajb7', 'klrc3', 'osgin2', 'clasrp', 'npm1', 'khdc1l', 'mrpl46', 'or4f5', 'ubxn10', 'slamf8', 'chrna9', 'psph', 'olfm4', 'micu3', 'znf219', 'mydgf', 'efcc1', 'mkrn2os', 'prrt2', 'kctd3', 'srp72', 'cytl1', 'c8g', 'dnah2', 'ctf1', 'septin14', 'nup58', 'cxcl2', 'znf461', 'lrrc8c', 'ppp1r13l', 'cldn9', 'hspb7', 'ovol1', 'ep400', 'slc6a17', 'cxorf49', 'mcrip2', 'pthlh', 'arhgap45', 'tigd6', 'habp2', 'mfge8', 'ap3m1', 'ciz1', 'chid1', 'npipb7', 'znf419', 'vat1', 'usp41', 'itih3', 'rps19bp1', 'trim52', 'zfp41', 'ccdc134', 'cep89', 'rnaseh2a', 'ccdc183', 'mfsd11', 'lce3d', 'bpy2', 'brms1', 'gli2', 'dcdc2b', 'eef1akmt1', 'itgb2', 'fam24a', 'atxn3l', 'ndufs4', 'syt11', 'btbd2', 'tpr', 'llph', 'kcnj15', 'or2t12', 'izumo2', 'mmp3', 'dcd', 'pjvk', 'c6orf163', 'hacd4', 'znf507', 'tspoap1', 'nob1', 'dpy30', 'rc3h1', 'casd1', 'sla2', 'rnase7', 'igflr1', 'gltp', 'cd1d', 'pgrmc1', 'cidea', 'spon1', 'lmod2', 'fhl1', 'spint1', 'gpat2', 'socs3', 'ctu1', 'ccn5', 'gdi2', 'h4c7', 'cltrn', 'rnf141', 'klk15', 'cxcl11', 'nova1', 'prkag1', 'tram1l1', 'aqp9', 'pacs1', 'maea', 'tnip1', 'bivm-ercc5', 'znf132', 'elf2', 'hars2', 'pnn', 'slc38a4', 'snrpd1', 'lce1c', 'atp7a', 'rnf32', 'usp17l15', 'golph3', 'rhoc', 'lrp11', 'cnn1', 'rpl15', 'slc35b4', 'angptl3', 'nup155', 'slc35f1', 'cd36', 'anxa3', 'dmtn', 'ankrd33b', 'isy1-rab43', 'aqp12a', 'gsta1', 'krtap12-4', 'sgcz', 'prss12', 'nbl1', 'raet1g', 'cd276', 'plekhg2', 'pkhd1', 'rgs6', 'scd', 'usp9y', 'abca9', 'stmn1', 'prelp', 'mras', 'grn', 'tubgcp6', 'txndc12', 'h2bc13', 'nog', 'atp2b1', 'psma3', 'tmem132e', 'znf71', 'tenm2', 'cd8a', 'tusc3', 'pde4c', 'ccdc115', 'ncr3lg1', 'arsf', 'adamtsl4', 'c20orf204', 'znf83', 'psca', 'atp13a4', 'rras', 'rgs10', 'cd160', 'wdsub1', 'c11orf52', 'bcl11a', 'epas1', 'sidt1', 'tmc3', 'tigit', 'rnf168', 'pgap2', 'vkorc1l1', 'chek2', 'ctla4', 'ankub1', 'znf391', 'romo1', 'c2cd5', 'rin2', 'strc', 'msantd3', 'pmm1', 'eif3g', 'vps29', 'crybg1', 'sh3tc1', 'ldb2', 'sp2', 'acadm', 'hivep2', 'gpr83', 'timm8a', 'znf385c', 'il23r', 'trmt13', 'pnpla5', 'or4s2', 'znf146', 'gopc', 'dnajc25', 'wdr89', 'pmp22', 'lipc', 'kcnj1', 'zcwpw1', 'actl6a', 'stx12', 'mink1', 'snx25', 'csde1', 'c17orf75', 'adm2', 'usp29', 'rprd1b', 'enox1', 'pdgfd', 'znf444', 'ttc9b', 'cyp4f2', 'lsmem1', 'gipr', 'slc17a6', 'fzd10', 'relch', 'or5f1', 'frat2', 'lin54', 'nfasc', 'chmp1b', 'pcyt2', 'kcnj5', 'ptpn11', 'ank3', 'txnrd3', 'gnrh1', 'phf8', 'cdk15', 'btn3a1', 'tubb2a', 'nfs1', 'actr5', 'nt5c', 'appbp2', 'slc38a9', 'cela2b', 'elof1', 'kantr', 'tkt', 'il1f10', 'arpin', 'plekhf2', 'ccdc152', 'c11orf24', 'cited1', 'rassf9', 'fbxo16', 'lce1d', 'ube3c', 'strip2', 'hectd2', 'efhd2', 'rbmxl3', 'spdye21', 'tmed7', 'poted', 'esrp2', 'ervw-1', 'clvs2', 'tuba3c', 'cep57', 'kbtbd2', 'sowahd', 'pop7', 'tapbpl', 'fancf', 'rccd1', 'catsperz', 'bend6', 'prex1', 'c6orf58', 'gas2l2', 'znf624', 'pgm1', 'inha', 'ndrg2', 'pbdc1', 'pabpc4l', 'bag2', 'ppwd1', 'osm', 'slc15a2', 'etfrf1', 'gfy', 'muc5ac', 'golga1', 'arl2bp', 'tshr', 'ctsl', 'mdga2', 'rad21l1', 'golga7', 'tmem217', 'pex16', 'echdc3', 'nxt2', 'fastk', 'spag1', 'ctdsp1', 'ube2m', 'clic3', 'tmem98', 'rbm15b', 'gpr27', 'dnm1', 'syn3', 'mta3', 'pcdhgb3', 'drg2', 'kdelr2', 'cryba2', 'slc25a34', 'ccnf', 'ctbs', 'rab4a', 'cd58', 'ccnp', 'or56b1', 'slc1a4', 'c9orf153', 'glyat', 'tasor', 'brpf1', 'ldlrad3', 'or7c1', 'mblac1', 'kcnh8', 'gpat4', 'il5ra', 'rgs22', 'tmx2', 'arhgap25', 'casp14', 'caskin1', 'agxt', 'prkab1', 'kdf1', 'zswim8', 'pydc1', 'slc35d1', 'trim8', 'arsk', 'gpr149', 'hnrnpdl', 'dnm2', 'drp2', 'pgpep1', 'ubp1', 'ndufa10', 'dnajc25-gng10', 'nme9', 'lysmd1', 'clec5a', 'h2bc12', 'trmt44', 'or4c13', 'znf510', 'tmem181', 'znf728', 'slc31a1', 'nell2', 'chchd6', 'bpy2c', 'resf1', 'cacng6', 'rbm45', 'clcn6', 'cflar', 'acp6', 'eif5al1', 'nek2', 'ccdc54', 'zpr1', 'nme5', 'smoc2', 'sp8', 'rnf24', 'galr3', 'spanxn3', 'zdhhc14', 'exosc6', 'sh3pxd2a', 'tnk2', 'slc2a8', 'acox1', 'avpr1b', 'kcnh7', 'stil', 'sncg', 'lca5l', 'cdipt', 'aftph', 'arrdc1', 'arl6ip6', 'h2bc4', 'anapc7', 'hbs1l', 'or7g2', 'med25', 'tppp', 'iqcf3', 'cramp1', 'kcnj14', 'znf551', 'kcnma1', 'lcn15', 'mrps6', 'nkx2-1', 'cd151', 'rbm12b', 'kctd2', 'ralgapa2', 'awat1', 'sclt1', 'tesc', 'cemip2', 'lbx1', 'disp3', 'ncf2', 'rrp12', 'mmp16', 'yipf5', 'znf493', 'nhej1', 'sbds', 'vdr', 'apol4', 'tspan15', 'epn1', 's1pr2', 'btbd18', 'eif4a1', 'krtap21-2', 'or10w1', 'znf687', 'map2k4', 'fus', 'zswim3', 'tma16', 'cyb561a3', 'arpc3', 'slc26a8', 'zfp90', 'slc25a22', 'tcp10l', 'plekhm2', 'tp53bp1', 'znf773', 'tepsin', 'pear1', 'ythdc2', 'ankrd16', 'anapc11', 'fst', 'tepp', 'ets2', 'scyl3', 'htr2c', 'frmd4a', 'plg', 'edn2', 'ccn3', 'znf768', 'tmem44', 'traf4', 'magea4', 'card8', 'or2ag2', 'arfgap3', 'golim4', 'adcy1', 'anxa8l1', 'dkk4', 'lrba', 'taf3', 'ggps1', 'rpl41', 'htatsf1', 'tmem202', 'chodl', 'borcs8', 'dnal4', 'prickle1', 'tas1r2', 'mapk11', 'zcchc10', 'ablim1', 'zbtb42', 'ube2d4', 'ankrd30b', 'cyp39a1', 'znf257', 'dctpp1', 'alox12', 'lmod1', 'pds5b', 'ddx60', 'pde6d', 'otud3', 'c1orf131', 'med23', 'celf5', 'dusp12', 'aste1', 'pip4k2c', 'actc1', 'mbtps2', 'igsf10', 'dpp10', 'mettl25', 'plch1', 'evi5l', 'megf10', 'c1orf185', 'tubb8', 'guca1a', 'st3gal6', 'p4htm', 'ripk2', 'nr0b2', 'lpar6', 'pign', 'cmpk2', 'cdh13', 'tnfaip2', 'vipr1', 'abcc3', 'rnasek', 'ankrd29', 'abhd8', 'ankhd1-eif4ebp3', 'dvl2', 'rps6kb1', 'prrg3', 'tbx18', 'slc18a3', 'grip2', 'rtl8c', 'sema4g', 'yes1', 'retreg1', 'psg6', 'prr9', 'sco2', 'chic2', 'ppp1r16b', 'haao', 'apobec3g', 'extl3', 'ndufaf5', 'or6s1', 'rcn2', 'prr29', 'dkk1', 'gfral', 'snx9', 'atp1a4', 'gfra2', 'plaat1', 'mterf1', 'glcci1', 'zscan26', 'srm', 'rpl12', 'tlr1', 'olfml3', 'catip', 'ranbp10', 'clec4a', 'h2ac17', 'acta2', 'ghitm', 'ell', 'lbx2', 'thoc2', 'col28a1', 'klf1', 'ftsj1', 'arsg', 'mtfr2', 'rab4b-egln2', 'stx8', 'tonsl', 'ccdc167', 'chit1', 'arl4c', 'cdc37', 'shroom3', 'cog3', 'popdc3', 'cpox', 'upf2', 'faslg', 'smim26', 'mon2', 'tns4', 'vtcn1', 'lrrc32', 'noxa1', 'rabgef1', 'gfap', 'npap1', 'aqp11', 'tango6', 'fzd2', 'nbas', 'scgb1d4', 'ntn1', 'flacc1', 'imp4', 'cabyr', 'ebf3', 'mtpap', 'znf717', 'cpa2', 'stag3', 'pex19', 'tdp2', 'setd3', 'rbm22', 'or52r1', 'irf6', 'lin28b', 'bmp8b', 'ccdc9', 'tmem69', 'entpd2', 'slain1', 'otp', 'lrit2', 'capn12', 'ddost', 'rsrp1', 'lrrc58', 'capn9', 'or10j5', 'ppib', 'c1orf210', 'mex3c', 'fmnl1', 'ehd3', 'znf285', 'gml', 'ehd2', 'gp1ba', 'golga6a', 'larp7', 'ubash3b', 'wfikkn1', 'brca1', 'trpm2', 'rec114', 'rnf8', 'traf3ip1', 'tmem200b', 'plglb1', 'fam174a', 'piezo1', 'lmbr1l', 'sfmbt2', 'nbeal1', 'pigl', 'aoc2', 'rbm46', 'proz', 'arsj', 'fam47e', 'ankrd40', 'tpt1', 'ddx11', 'tbl1xr1', 'vps37c', 'klhl18', 'mcub', 'nemp2', 'slc9a5', 'larp4b', 'rxylt1', 'slc5a1', 'map7d2', 'tnfrsf1a', 'arhgap33', 'trim51', 'znf573', 'bnip3', 'pex3', 'hoxd9', 'pmvk', 'mief1', 'cpne9', 'insl5', 'pidd1', 'rps27a', 'selenon', 'lime1', 'oxld1', 'nav2', 'ankfy1', 'ccdc88b', 'muc17', 'myh9', 'cspp1', 'galns', 'rps14', 'tuba1c', 'zfp1', 'ehbp1l1', 'bax', 'fam43a', 'pnpla6', 'ttc30b', 'znf625', 'hsd11b1l', 'herpud2', 'mrps16', 'tbc1d3c', 'cgas', 'slc6a6', 'npb', 'c3orf84', 'fstl3', 'iqgap1', 'ndufb4', 'kndc1', 'scnn1a', 'cic', 'adra1b', 'niban2', 'fam89b', 'harbi1', 'otulinl', 'lzts3', 'c16orf54', 'pou3f3', 'hnrnpf', 'bok', 'pnkd', 'grb14', 'zmym5', 'gse1', 'pax3', 'gzmb', 'slk', 'ndufa7', 'samd7', 'mtmr12', 'st6gal1', 'cog6', 'ddx28', 'dusp4', 'zfyve28', 'onecut1', 'ddx42', 'c19orf33', 'ppp6r2', 'hprt1', 'prtfdc1', 'tbl2', 'spdye2b', 'trex2', 'epb41l4a', 'brd7', 'evi5', 'arhgap35', 'cdk6', 'ppp1r7', 'mc2r', 'gpatch2', 'sap18', 'c15orf39', 'p4ha1', 'tpm2', 'arhgap19', 'uap1', 'hbm', 'lss', 'bcap31', 'pkn3', 'atg4a', 'kat7', 'rbms1', 'gdf15', 'amotl1', 'cela3a', 'cul4a', 'tmem45b', 'znf99', 'nr2f2', 'ska3', 'ppargc1a', 'alkal2', 'aldh18a1', 'a1cf', 'ttll8', 'pafah1b3', 'cntnap5', 'washc4', 'slc10a6', 'mxra5', 'scmh1', 'lrrc8b', 'hectd4', 'ccar2', 'f2rl3', 'tmem35a', 'chn2', 'rnf40', 'tor1aip2', 'tp63', 'cst2', 'smim31', 'pcbp4', 'tmem30b', 'selenov', 'h4c9', 'akr1b1', 'myo10', 'cxorf38', 'psmc6', 'a4galt', 'nosip', 'supt4h1', 'myo1c', 'insr', 'aifm3', 'lrp2bp', 'abca2', 'krt9', 'fam47a', 'fam163b', 'nf1', 'rbfox3', 'nfkb2', 'snx21', 'c1orf53', 'chst15', 'carns1', 'atp1b3', 'rpl6', 'or4f29', 'osr1', 'recql4', 'trank1', 'znf592', 'stoml2', 'kctd21', 'scyl1', 'znf28', 'bap1', 'commd3', 'spata31d1', 'ccdc15', 'kdm5b', 'spag16', 'usp17l10', 'il1rn', 'bptf', 'krtap15-1', 'ccdc138', 'snapc4', 'fis1', 'cyb5r1', 'acot1', 'nup37', 'xage1b', 'trim16', 'rbl1', 'grhl3', 'pdgfra', 'sstr3', 'zbed3', 'or1l3', 'atp5f1e', 'nxf1', 'atp6v1a', 'spata5l1', 'thumpd1', 'cope', 'nrbp2', 'clcc1', 'art1', 'npffr1', 'hpx', 'npy4r', 'dscc1', 'dhx30', 'znf397', 'tex19', 'ppp1r17', 'kdelr1', 'zfp91', 'arhgap1', 'ptpre', 'plin1', 'casp1', 'tctn2', 'setdb2', 'spdye11', 'slc24a2', 'slco1b1', 'glul', 'sox14', 'dusp10', 'gnat2', 'rhoa', 'bbx', 'ubtf', 'ncdn', 'atf7ip', 'pithd1', 'igfbp5', 'ercc4', 'fam222b', 'chrm1', 'nfat5', 'trim33', 'mettl15', 'gabrq', 'ercc8', 'defb115', 'anks6', 'morn4', 'ap1b1', 'arf1', 'fam72c', 'hnf4g', 'paep', 'sdk1', 'muc7', 'slc12a9', 'myl5', 'dnali1', 'bcl2l2-pabpn1', 'oga', 'sat2', 'a3galt2', 'gja9', 'znf474', 'hdac8', 'cdk5r2', 'myoz2', 'rab2b', 'nkiras1', 'wwc2', 'rhbdd3', 'h2ac13', 'tcaim', 'unc119b', 'afm', 'fbxo15', 'ror1', 'sertad3', 'rnase13', 'stx5', 'sycp1', 'rpp25l', 'wdfy4', 'satb2', 'mab21l1', 'skida1', 'ift81', 'arl14epl', 'pskh1', 'eid3', 'gchfr', 'ddx47', 'gpr15', 'pigf', 'msh2', 'crnkl1', 'mettl24', 'inppl1', 'apold1', 'corin', 'htr1e', 'prickle4', 'aqp7', 'hadhb', 'sugct', 'ctnnd1', 'tpd52l1', 'page5', 'gnpda2', 'pcdh9', 'or8b2', 'app', 'swi5', 'dffb', 'mypn', 'dtx3l', 'dnase1l1', 'shcbp1l', 'prr36', 'tmem106a', 'zbtb16', 'fam177b', 'rbbp6', 'lmx1b', 'lrrc14', 'stradb', 'cxcl13', 'rbm20', 'bard1', 'eif4ebp2', 'kcnc1', 'slc32a1', 'cd302', 'clic5', 'antkmt', 'wdr37', 'c8orf58', 'recql5', 'ncr2', 'or2m4', 'dmac2l', 'wnt10b', 'fbxo5', 'maf', 'thap6', 'rbm44', 'prr23c', 'cdk5r1', 'atp6v0d1', 'or51a4', 'gpbp1', 'gemin8', 'ush2a', 'ranbp6', 'odad3', 'rap1gap2', 'esrrb', 'c2cd2', 'foxd3', 'thoc3', 'rab6a', 'lhfpl4', 'angptl5', 'h2ac4', 'f8a1', 'psmd2', 'rev1', 'relt', 'rxra', 'wdr7', 'cbr1', 'rps8', 'rrp15', 'pip5k1c', 'dok6', 'cacnb1', 'cntrob', 'ephx4', 'c16orf86', 'gprc5a', 'ppat', 'aamdc', 'myoc', 'opn1mw2', 'c2orf81', 'ccdc73', 'adgrg6', 'efnb3', 'fkbp11', 'c2orf50', 'tbc1d3', 'znrf1', 'slc2a13', 'il20', 'tshz2', 'mia2', 'tyrobp', 'smco2', 'il10', 'rnf44', 'cd2', 'cd59', 'tasor2', 'znf467', 'il34', 'rassf4', 'nmnat3', 'iqcn', 'lamb4', 'klrb1', 'dop1b', 'eif2d', 'abhd15', 'neurog3', 'znf862', 'abraxas2', 'stx10', 'gins1', 'dmrtc2', 'hoxc9', 'sprr2e', 'aven', 'drich1', 'tlnrd1', 'csnk2a3', 'bet1l', 'cradd', 'slc35a1', 'snapc2', 'mlkl', 'cln3', 'znf711', 'hsd17b13', 'gpr37l1', 'cdk2ap2', 'rab40b', 'mapkbp1', 'c15orf48', 'morc2', 'phc3', 'smarcd1', 'rps4x', 'slc44a5', 'hrc', 'sntb1', 'krtap24-1', 'slc23a2', 'znf668', 'degs2', 'lin7c', 'pgk1', 'stard4', 'st8sia1', 'ndfip1', 'six6', 'miga2', 'or10v1', 'hsd17b7', 'mindy1', 'lin37', 'mapk1ip1l', 'abhd1', 'samd11', 'mcf2l2', 'tox', 'ahi1', 'ipp', 'pfkm', 's1pr4', 'mrpl21', 'ube2a', 'acer3', 'hmx2', 'mapk6', 'cbx4', 'fmo2', 'opn4', 'slc25a52', 'usp17l17', 'fsd1l', 'kcnn3', 'znf224', 'c1qtnf5', 'znf618', 'hmgb3', 'tstd2', 'klhl35', 'atrn', 'zdhhc3', 'c17orf80', 'trim49d1', 'nlrc5', 'taok3', 'adipoq', 'tyms', 'zc3h7b', 'ier5', 'mios', 'mnd1', 'cux2', 'scrt2', 'setd1a', 'eda2r', 'fbxo25', 'clcn7', 'rhog', 'sv2a', 'rad1', 'dcdc2c', 'zmynd11', 'm6pr', 'znf407', 'c1orf226', 'rasl10b', 'nckipsd', 'shisa4', 'dtd2', 'wrnip1', 'rbmy1b', 'clp1', 'map1b', 'rpia', 'upp1', 'txnl4b', 'coq8a', 'gde1', 'rnf38', 'dcaf12', 'lsm3', 'arl5a', 'eml5', 'hmgn3', 'babam1', 'ptbp3', 'ttll4', 'ccdc18', 'or4e1', 'gss', 'arl11', 'gpatch8', 'osgepl1', 'csnk1a1', 'snx6', 'cyp2a13', 'asb11', 'nanos1', 'elmo3', 'dgcr6', 'sds', 'ifit2', 'sugp1', 'vps37d', 'spsb3', 'nr1h2', 'gphn', 'nkap', 'spatc1', 'klf6', 'nbpf15', 'agl', 'fzd5', 'hoxc6', 'ndst1', 'pycard', 'znf418', 'srd5a3', 'spry2', 'brms1l', 'klrc4-klrk1', 'slamf6', 'unc13a', 'lrrc73', 'pgbd4', 'ppm1f', 'polr1g', 'gage1', 'gage12e', 'fbxl8', 'ust', 'mcm8', 'plk1', 'yae1', 'ncl', 'gfod1', 'znf684', 'or8b3', 'uxs1', 'ppcdc', 'fam83d', 'rp2', 'mib1', 'hs3st1', 'brap', 'donson', 'tspan7', 'lyrm4', 'tmem80', 'lhfpl6', 'ism1', 'ttc23', 'park7', 'krtap7-1', 'kcnk4', 'rlf', 'gas2l1', 'baz1a', 'znf843', 'iqcf5', 'sema6a', 'mblac2', 'cst9l', 'kdm3a', 'birc5', 'cops7a', 'trim66', 'adcy3', 'pdcd6ip', 'hormad2', 'srsf4', 'eid1', 'scml1', 'ankrd20a4p', 'foxd4l4', 'zfhx2', 'golt1a', 'pgd', 'gramd2a', 'cinp', 'jmjd1c', 'tuba1b', 'or1r1p', 'rtcb', 'catsper2', 'otor', 'shc2', 'cyb561d1', 'dffa', 'fcrl3', 'atg4c', 'ppfibp2', 'plk5', 'or5b21', 'grsf1', 'ache', 'krtap13-3', 'tmem241', 'slc6a8', 'gna12', 'ezh1', 'thbs2', 'mad1l1', 'c1orf159', 'gpr12', 'umodl1', 'bicd2', 'lce3b', 'ndel1', 'myom3', 'cdc45', 'galnt8', 'med14', 'cacna1b', 'cyp2r1', 'agxt2', 'baz2a', 'mcm3', 'tyw3', 'sh2d4a', 'ccng1', 'mtmr3', 'ttc30a', 'ptpn21', 'kptn', 'st3gal3', 'rcan3', 'h2ac16', 'fam118b', 'ctsa', 'thap7', 'cd40lg', 'smim2', 'siglec14', 'adra2a', 'afg3l2', 'fdps', 'slc30a5', 'tcirg1', 'adat1', 'ceacam19', 'ankrd37', 'trpm8', 'ino80e', 'cct4', 'gata5', 'zbtb24', 'pip5kl1', 'vsnl1', 'mospd2', 'ptges3l', 'gabra3', 'larp1b', 'uqcrh', 'tdp1', 'txndc15', 'znf850', 'lipa', 'c1orf167', 'or8s1', 'kcnn1', 'atp6v1d', 'cstb', 'ric8b', 'uchl3', 'tmem70', 'col12a1', 'cpne2', 'siae', 'btrc', 'polr2d', 'figla', 'itih6', 'chst6', 'ihh', 'psg2', 'znf134', 'gls2', 'mtf2', 'cdh11', 'fgb', 'yeats2', 'nbpf20', 'fam90a26', 'hpse2', 'ift88', 'aebp1', 'rskr', 'ift20', 'or7c2', 'rpl17-c18orf32', 'pofut1', 'clstn2', 'zc4h2', 'mt-nd4l', 'slc66a2', 'sh3rf2', 'cldn25', 'orm2', 'fpr3', 'dspp', 'tk2', 'slc50a1', 'crtam', 'klhdc8a', 'mtm1', 'plk4', 'vcx2', 'tmco4', 'pigq', 'aar2', 'marchf1', 'cela2a', 'mt2a', 'mcoln3', 'rps6kc1', 'tsn', 'fibin', 'cyria', 'cdc14a', 'glg1', 'nab2', 'cyp2a7', 'cdkal1', 'pigy', 'siah3', 'fam50b', 'dnajc14', 'lce1b', 'socs6', 'ermp1', 'greb1l', 'limd1', 'hk3', 'asah2', 'kif27', 'pydc2', 'ints1', 'tktl1', 'rwdd4', 'znf385b', 'rab25', 'fam13a', 'vcx', 'kcnd3', 'mr1', 'zcchc2', 'pspn', 'alkbh3', 'ms4a15', 'flt3', 'hadh', 'cyp7b1', 'ctnnbip1', 'psmd4', 'znf468', 'gjb7', 'znf2', 'bbs10', 'nop16', 'or3a1', 'ssbp2', 'znf526', 'or5m11', 'prkar2a', 'slpi', 'ccnt1', 'fsd2', 'nfxl1', 'serinc5', 'rgpd4', 'fry', 'cd8b2', 'rft1', 'ostn', 'b4galt3', 'pkig', 'trim59', 'tpsg1', 'scaf11', 'gnal', 'tac4', 'pitx3', 'als2', 'kcnk5', 'prss53', 'timd4', 'alg1', 'pigp', 'nudt21', 'alkbh1', 'fer1l5', 'rnft1', 'mxd4', 'col6a3', 'efcab14', 'spg11', 'plcb3', 'hip1', 'slc25a44', 'alb', 'fundc2', 'eppk1', 'pih1d1', 'cdc42bpa', 'znf556', 'pym1', 'bbs12', 'phb2', 'pax7', 'kcne2', 'ceacam18', 'sstr2', 'cd48', 'hsd17b12', 'ppp5c', 'wdr90', 'anxa8', 'mapk1', 'znf225', 'itga10', 'invs', 'dph1', 'dpysl2', 'trim67', 'aasdhppt', 'slc7a7', 'kat8', 'fhod3', 'gp1bb', 'kxd1', 'ugt1a7', 'krit1', 'npepl1', 'hao1', 'snai3', 'cebpz', 'slc26a3', 'rps19', 'trpv3', 'ggtlc2', 'tnfaip8l3', 'serpinb4', 'mc3r', 'pabpc1l2b', 'mid1ip1', 'akap4', 'sptlc2', 'trappc3', 'ppp4r3c', 'tmprss2', 'nbpf3', 'sgca', 'acly', 'igf2bp1', 'rhoh', 'kdm4c', 'zxdb', 'skor1', 'plcg1', 'fcrl1', 'dock1', 'dnajc10', 'gucy1b1', 'dazap1', 'pp2d1', 'slc34a1', 'dpp3', 'dynlt1', 'tll2', 'prrg4', 'klhl28', 'spire2', 'nedd4', 'traf5', 'camlg', 'cyp27c1', 'noct', 'cxxc4', 'nudt13', 'celsr2', 'or1i1', 'fam180a', 'rnf14', 'adgrg3', 'ubxn2a', 'prr20e', 'c18orf21', 'tmem120a', 'vgll4', 'bcl7c', 'tdrd12', 'morn2', 'atp7b', 'dld', 'gas8', 'pwp1', 'lims4', 'krtap5-8', 'rbm43', 'nt5c1b-rdh14', 'dyrk4', 'dnajb8', 'dph2', 'trpm6', 'higd1a', 'cyth3', 'rab9a', 'itih4', 'clspn', 'dennd1b', 'prr11', 'golga7b', 'mt1x', 'akap5', 'ercc6', 'cdca7l', 'hacd2', 'scarb2', 'crisp2', 'selenow', 'barhl2', 'ca3', 'il1rl1', 'snx3', 'slc16a6', 'arhgap21', 'sele', 'usp17l29', 'lrr1', 'reg1b', 'pdgfb', 'fabp1', 'odad1', 'cbs', 'lmln', 'ogg1', 'xrn1', 'rpl10l', 'ankra2', 'pdlim1', 'hs2st1', 'snx10', 'ssr3', 'slit2', 'cxorf49b', 'psg9', 'xirp2', 'dnai1', 'gh1', 'bdkrb1', 'c4orf51', 'itln2', 'ube2h', 'sbno2', 'aldh16a1', 'gna11', 'rtl8b', 'ebf4', 'scamp1', 'ddx43', 'uba7', 'mbd3l2', 'mfsd4b', 'exosc9', 'mzt1', 'hcrtr1', 'gfpt1', 'gabre', 'dppa2', 'znf740', 'ovch1', 'lrrc28', 'gpr152', 'gjc1', 'rasgrp2', 'acbd7', 'zcchc8', 'ammecr1l', 'tmem144', 'me1', 'pvr', 'pou2f3', 'ncapd3', 'zswim2', 'rabgap1l', 'rgpd5', 'faf2', 'mitf', 'necab2', 'rbmy1f', 'frem1', 'cxcl9', 'samd8', 'per1', 'lbh', 'znf776', 'fli1', 'cnot7', 'pla2g4b', 'itch', 'spanxa2', 'ccdc175', 'cse1l', 'slc25a47', 'ct55', 'itga6', 'dcn', 'zbtb38', 'ct47a8', 'nagk', 'lama5', 'tpst1', 'gucy2c', 'msgn1', 'hes4', 'galntl6', 'pram1', 'zmiz1', 'gsn', 'hook1', 'or4c3', 'dhrs3', 'cul5', 'ct47a10', 'plekhs1', 'ppia', 'slfn11', 'myom1', 'fam205a', 'pag1', 'ripor1', 'il17rb', 'rnf11', 'srek1ip1', 'cbln3', 'ints6l', 'krtap8-1', 'pacsin3', 'pdzk1ip1', 'aars1', 'gpihbp1', 'krtap19-1', 'tcerg1l', 'acsf3', 'spdl1', 'phc2', 'ptprj', 'ctxn3', 'rnf144a', 'agrp', 'vamp4', 'znf207', 'znf764', 'emilin1', 'cga', 'ncaph2', 'eno4', 'vil1', 'mbd3l3', 'ubr5', 'sord', 'reck', 'tomm34', 'crct1', 'mkrn2', 'il20rb', 'ngef', 'fam3a', 'ddx56', 'tars3', 'sh3bp4', 'arhgef18', 'hsp90b1', 'dok5', 'h3c6', 'itgb1', 'nptxr', 'cracr2a', 'c2orf15', 'chd1l', 'eif2ak2', 'or52e5', 'fbxo47', 'hsf4', 'ndufb5', 'dysf', 'nos1', 'palb2', 'plpp5', 'nlrc3', 'sel1l3', 'fam217a', 'znf438', 'atp10b', 'mc5r', 'ptrhd1', 'oaz2', 'pstk', 'svop', 'ddx18', 'magi3', 'sox10', 'usp39', 'tdrd6', 'siglec1', 'kdm1a', 'mfsd1', 'gbx2', 'parva', 'otop3', 'pno1', 'zscan25', 'snx29', 'htr3c', 'cyp19a1', 'maoa', 'rfx8', 'hdx', 'lypla2', 'stk38l', 'tmem221', 'or8i2', 'dipk1a', 'arhgap31', 'cox4i1', 'cbll2', 'lynx1', 'cbr3', 'gtf2ird1', 'mapkap1', 'fbn3', 'traip', 'foxr2', 'uqcrfs1', 'lrrc8e', 'thy1', 'cgref1', 'il19', 'nt5m', 'ankmy2', 'spaca1', 'rexo1', 'nos3', 'pigh', 'lpar1', 'mapk8ip2', 'rps27l', 'calr', 'fbxl17', 'tm2d2', 'pigu', 'h1-6', 'ppbp', 'spdye3', 'vps18', 'rhoq', 'gyg1', 'sv2c', 'vamp5', 'fgf19', 'nus1', 'khsrp', 'gxylt1', 'tes', 'cyp2u1', 'comp', 'mpzl1', 'shroom1', 'erbb2', 'arpc5l', 'clcn5', 'calr3', 'zfx', 'prpsap1', 'tspo', 'aldob', 'fem1a', 'ralgps1', 'prss8', 'anp32d', 'atr', 'gpbar1', 'trim2', 'ampd3', 'ap3b2', 'rchy1', 'ogfod1', 'or1d5', 'snrnp48', 'aqp4', 'fsip2', 'pdilt', 'adap2', 'pkhd1l1', 'lypd5', 'cep104', 'klhdc10', 'otogl', 'mmp27', 'siah1', 'slc43a3', 'sdr42e1', 'lama2', 'enthd1', 'pde3b', 'ppic', 'cfl1', 'gpr158', 'cntnap1', 'cckbr', 'sf1', 'rfpl4b', 'immp2l', 'gcdh', 'rilpl2', 'u2surp', 'dhx33', 'rps26', 'efna5', 's100a13', 'h2bc1', 'ssx2ip', 'rnps1', 'fgf6', 'pus3', 'vit', 'timm17a', 'adar', 'gstm2', 'foxc1', 'csf1r', 'srgap2c', 'katna1', 'chfr', 'nod2', 'erbin', 'washc5', 'ptk2', 'c6orf141', 'arpc1a', 'uqcrq', 'shc4', 'bcdin3d', 'golga8k', 'ptprf', 'csf2rb', 'ap2a1', 'cbr4', 'pth2r', 'rac3', 'trappc2b', 'entpd7', 'mmadhc', 'c14orf93', 'gnptab', 'card14', 'klhl30', 'unc45a', 'sppl2b', 'mtx3', 'neurog2', 'flnb', 'atxn7', 'cdk5rap1', 'snx24', 'atg7', 'mrps28', 'satb1', 'col1a2', 'mpp4', 'usp40', 'zbtb25', 'syt17', 'fmnl3', 'ccdc116', 'inip', 'isg20l2', 'arhgef6', 'psmd1', 'tlcd3a', 'ffar2', 'chaf1b', 'rnf113b', 'csf2', 'nop58', 'gcg', 'plxna4', 'foxred1', 'baalc', 'gje1', 'camta2', 'mrpl44', 'zyg11a', 'tpsd1', 'nup88', 'rhobtb3', 'dohh', 'wdr83', 'slc8a2', 'nfe2l1', 'sult1e1', 'lsm14b', 'topaz1', 'trim43b', 'aff1', 'pmch', 'prss54', 'znf865', 'btnl8', 'rbm34', 'fermt3', 'nap1l2', 'tspan5', 'ppm1e', 'slc6a9', 'pcbp2', 'tlk2', 'cysltr1', 'znf727', 'cdy1b', 'fxyd6', 'p2ry2', 'sdc1', 'proca1', 'fhl2', 'sec31b', 'gipc2', 'g2e3', 'ivd', 'pecam1', 'pabpc3', 'fnbp1l', 'tmem213', 'nap1l1', 'tmem209', 'gdf9', 'prdm8', 'atcay', 'sult2b1', 'srebf1', 'ros1', 'prss36', 'hes3', 'ccdc146', 'zswim5', 'rbm15', 'strn4', 'mtmr4', 'polr2m', 'nuf2', 'pdhb', 'cass4', 'ccdc187', 'tmppe', 'dgki', 'ccne1', 'slc5a2', 'bod1l1', 'hes6', 'nrep', 'mbd3l5', 'fbxo46', 'cpa3', 'ccl11', 'lrrc52', 'fkbp6', 'fgf17', 'ccdc192', 'nrip2', 'dido1', 'saysd1', 'ppp2r2c', 'bcr', 'mt1a', 'guca1b', 'raf1', 'ct45a1', 'klk13', 'ciao1', 'rimkla', 'abi1', 'rnf19b', 'fgfr4', 'cd320', 'daam2', 'lima1', 'vrk3', 'skil', 'mtmr2', 'atp2a1', 'nfu1', 'kcne1', 'frmd6', 'rab28', 'trim61', 'mtx1', 'ctnna1', 'lrrc27', 'bclaf1', 'clpx', 'dio1', 'chmp7', 'numb', 'znf724', 'znf836', 'dnajb9', 'tmem117', 'lrrn4', 'kiaa0232', 'znf362', 'ubxn11', 'ift46', 'tbca', 'tom1', 'eif2s2', 'hmgcs1', 'rps11', 'gin1', 'carf', 'arel1', 'tmem17', 'ppef1', 'isx', 'tbx20', 'zscan5a', 'tincr', 'c14orf132', 'tex9', 'ppp2r5d', 'pwwp3b', 'znf677', 'znf200', 'apoa2', 'mtss2', 'pitpnb', 'mrgpre', 'ttll9', 'slc39a1', 'dprx', 'znf784', 'dcun1d2', 'tmlhe', 'prac2', 'ube2r2', 'anxa2', 'cpq', 'st6galnac6', 'slc22a5', 'pdha1', 'alyref', 'lce1a', 'fcrl5', 'caps2', 'spocd1', 'prrx2', 'yipf4', 'mrps14', 'pacrgl', 'tmem185a', 'arc', 'zscan1', 'socs5', 'pex12', 'mycbpap', 'cep250', 'eif1b', 'ralgapb', 'mgst3', 'lgalsl', 'polr3f', 'mad2l1bp', 'sowahc', 'kctd4', 'rpl8', 'thap3', 'fcamr', 'tifa', 'sprr2d', 'foxp1', 'dok3', 'il31ra', 'cldnd1', 'psd2', 'c6orf89', 'drd2', 'znf615', 'rbm4', 'ngly1', 'eea1', 'kif22', 'zik1', 'zdhhc13', 'sh3bgrl2', 'psme4', 'rhoxf1', 'tbpl2', 'lrrtm4', 'ppp1r12a', 'sit1', 'ltbp1', 'txk', 'tmem229b', 'rnf138', 'apoa5', 'gabrr2', 'styxl1', 'fam32a', 'arrb1', 'aqr', 'apaf1', 'rps27ap5', 'rorc', 'cables1', 'dcaf16', 'pcbp3', 'znf630', 'mcm10', 'cst9', 'trappc2', 'c2orf42', 'ift74', 'agbl3', 'otog', 'ptgr1', 'paqr6', 'tmf1', 'rab7a', 'slc13a5', 'ip6k1', 'nktr', 'abra', 'slitrk3', 'sox15', 'zfyve27', 'uty', 'srgap1', 'nek6', 'ppp6r1', 'metap2', 'ccdc3', 'snx5', 'pax9', 'tff1', 'h2bc8', 'pkdcc', 'r3hcc1', 'tssk3', 'tcf15', 'nppc', 'msn', 'nbr1', 'dennd10', 'tra2a', 'or1l6', 'coa1', 'chad', 'coq10a', 'or5h1', 'crym', 'crppa', 'cmtm6', 'tsr2', 'usp8', 'daz3', 'sfrp2', 'pan2', 'rell2', 'cdx2', 'chac2', 'cenpl', 'sema4d', 'erfe', 'tec', 'atp11a', 'msantd4', 'h4c3', 'nol12', 'ccdc163', 'znf512', 'fam50a', 'asz1', 'tp53i13', 'rnaseh2b', 'camk1g', 'cckar', 'ushbp1', 'fat2', 'rftn1', 'dgkg', 'vwa8', 'ddx1', 'clca4', 'nudc', 'pigv', 'farp2', 'ppp4r1', 'ncbp2as2', 'tnfrsf11b', 'hoxc12', 'rps6kl1', 'c12orf40', 'gpr180', 'crybb3', 'clmn', 'pcdh19', 'cfap47', 'cfl2', 'rtf1', 'fbxo2', 'morc4', 'stxbp3', 'fam83f', 'ass1', 'fam193b', 'prkcq', 'zmynd15', 'sgtb', 'rnase1', 'isl2', 'fam217b', 'gtf3c3', 'myl7', 'rimbp3', 'eml2', 'znf599', 'or2b2', 'chtf18', 'atp2b3', 'cplx3', 'spink13', 'pard3', 'znf845', 'pot1', 'mrpl30', 'grk6', 'ugt2b4', 'cpe', 'h3c12', 'igfl3', 'aldh1a2', 'c7orf31', 'or10g7', 'col4a5', 'znf783', 'ercc6l2', 'nono', 'stx3', 'mep1b', 'c1ql4', 'pvrig', 'gadd45gip1', 'gad1', 'tab2', 'apcs', 'ptpmt1', 'ccl13', 'osbpl10', 'cyb5d1', 'cmklr1', 'reps1', 'acss1', 'odf1', 'kcns1', 'xpo7', 'rcvrn', 'il25', 'mfsd12', 'adgre1', 'gabra6', 'wdr54', 'lax1', 'lyar', 'cenpa', 'cend1', 'ankdd1b', 'sall2', 'bmp3', 'pnma6a', 'pacc1', 'acot6', 'adcy6', 'krt32', 'pramef1', 'sult1a1', 'yap1', 'slc44a2', 'duox1', 'nck2', 'mrps15', 'agtpbp1', 'slc4a5', 'myrfl', 'or5h6', 'morf4l2', 'pcdhga1', 'c11orf42', 'htr2b', 'fbxl15', 'lmo1', 'sipa1', 'flnc', 'pdcd1lg2', 'pc', 'fgf7', 'slc16a12', 'slc35b3', 'cdh1', 'sgce', 'erbb4', 'stk17b', 'cd22', 'krtap11-1', 'wdr49', 'znf799', 'tchh', 'brix1', 'gja8', 'sfrp4', 'inka1', 'xylb', 'reep6', 'gnl2', 'trappc3l', 'cetn3', 'caps', 'sardh', 'relb', 'idi2', 'adgre2', 'rag2', 'krtap13-1', 'kremen2', 'trim44', 'sult1c4', 'fadd', 'slc26a1', 'rassf6', 'gins4', 'ctsw', 'idi1', 'plekhb1', 'pkmyt1', 'znf316', 'arl8b', 'alox15b', 'tubb6', 'noc3l', 'tat', 'dpy19l4', 'cyp2s1', 'zmat3', 'fcho1', 'cpeb4', 'znf343', 'npr1', 'serpinb3', 'hhipl1', 'stx19', 'batf3', 'c11orf91', 'apof', 'commd8', 'crk', 'mak16', 'ccdc96', 'arg2', 'n4bp2l2', 'shbg', 'tbata', 'sox1', 'ccr5', 'klhl10', 'uroc1', 'zc3h18', 'cyrib', 'mafa', 'gbe1', 'mrpl15', 'c7orf25', 'ticam1', 'kirrel2', 'lmf2', 'cabp2', 'arid4a', 'il1r1', 'ppfia2', 'usp6', 'asphd1', 'h3c7', 'crlf1', 'dhx38', 'klk8', 'hsd17b4', 'mvp', 'prelid3b', 'zpbp', 'polr3h', 'xpot', 'kl', 'frem2', 'or13j1', 'btbd17', 'acyp2', 'gpat3', 'dennd2b', 'plek', 'eif2a', 'sirt5', 'lonp1', 'crip2', 'nrip1', 'aspn', 'lrriq1', 'mob4', 'dym', 'ccna1', 'runx1', 'mrpl20', 'got1', 'tex11', 'fkbp1a', 'tet3', 'zmynd12', 'nrp2', 'pou2f1', 'gng2', 'mfrp', 'cst1', 'ddx3y', 'h4c1', 'ciart', 'kcng1', 'msln', 'vgll1', 'nrn1l', 'edem3', 'lsr', 'ldlrad4', 'kcnk16', 'znf605', 'slc25a40', 'plekhh1', 'btn2a2', 'spata31a7', 'ubl4b', 'prr12', 'zc3h11b', 'wdr88', 'crlf3', 'ubqlnl', 'rasl12', 'slc38a5', 'stim1', 'trim60', 'tmed10', 'thbs4', 'fxr2', 'chm', 'kctd9', 'ctps1', 'ct47a11', 'cbll1', 'lpa', 'ankrd49', 'adamts14', 'taar5', 'npipb11', 'pianp', 'dnttip2', 'unc5cl', 'napa', 'ecpas', 'spty2d1', 'pusl1', 'vamp1', 'card10', 'aldh1a1', 'or52e8', 'znrd2', 'col19a1', 'chchd5', 'slx4', 'h3y2', 'mt-nd6', 'plxna2', 'c11orf54', 'c10orf105', 'cdh9', 'arl13a', 'paf1', 'kcnip3', 'calcoco1', 'med13l', 'tanc1', 'pdzrn3', 'ppa2', 'prpf39', 'cenpv', 'or4a5', 'macroh2a1', 'adss2', 'phc1', 'rnf146', 'myo5a', 'sf3a3', 'slc5a12', 'utp14a', 'ece1', 'tm9sf4', 'axl', 'fam209a', 'ykt6', 'tmem18', 'sltm', 'pcdhga9', 'klk5', 'fam53b', 'pi4kb', 'enpp2', 'zfand3', 'slc13a3', 'fam98c', 'ttll6', 'med9', 'mamstr', 'cfap221', 'msmo1', 'zic4', 'upf1', 'lacrt', 'or51b5', 'psmg3', 'zp3', 'lvrn', 'sf3b6', 'dcst2', 'adgre3', 'cngb1', 'arhgef37', 'pglyrp3', 'wdr12', 'vegfd', 'prkcz', 'rprml', 'or6c76', 'fance', 'casp10', 'tmem184a', 'map7d3', 'mrpl34', 'add3', 'rplp0', 'pld6', 'cachd1', 'cd2ap', 'ociad2', 'arf3', 'cfap100', 'cetn1', 'znf284', 'col21a1', 'zw10', 'fam168b', 'trnau1ap', 'jpt2', 'plaat3', 'tom1l1', 'trim64', 'rprd1a', 'cyb5r4', 'serpina11', 'zmat4', 'slc20a1', 'cfap70', 'mycl', 'or1b1', 'zc3h14', 'rapgef5', 'cenpvl1', 'cracdl', 'tmx4', 'urad', 'sebox', 'dock8', 'rps13', 'tceanc2', 'rgs3', 'ifrd2', 'arhgap28', 'dusp22', 'ptprz1', 'nlgn4y', 'frmpd2', 'map2k7', 'samd13', 'elf1', 'sytl2', 'cma1', 'rtn4rl1', 'spats2', 'slc25a35', 'kiaa1586', 'trib3', 'cdh26', 'adig', 'h4c13', 'il21r', 'smkr1', 'slc38a1', 'pirt', 'erp27', 'tomm6', 'crat', 'or8d4', 'fn3k', 'ceacam16', 'slc5a9', 'parp9', 'pitpnc1', 'mks1', 'spdye6', 'samd9l', 'ccdc27', 'steap1', 'ap1s3', 'mpnd', 'ublcp1', 'bzw2', 'srpx2', 'lfng', 'cmpk1', 'h4c2', 'hif1an', 'tspan9', 'rpl10a', 'cd274', 'iqsec2', 'man1a2', 'tmod4', 'mtfmt', 'eif2ak4', 'coq4', 'utf1', 'oxr1', 'trip13', 'nmnat1', 'cwf19l1', 'csnk2a1', 'pcbd1', 'shisal1', 'ovgp1', 'cpa5', 's100a5', 'dmac1', 'irx2', 'arpc5', 'sprr2g', 'macf1', 'gjd3', 'klhl22', 'lancl2', 'ago2', 'tpra1', 'slit1', 'polr2e', 'tns2', 'fbxw5', 'atf3', 'kifc3', 'zbp1', 'coch', 'adgrf5', 'maff', 'rcsd1', 'nup43', 'pgs1', 'zfr', 'sorcs3', 'ktn1', 'ooep', 'cdk3', 'avpr1a', 'snx4', 'abhd3', 'klc2', 'ubxn4', 'tceal1', 'ppp2r3a', 'znf7', 'pnoc', 'hgd', 'c1orf56', 'ndufb6', 'itgav', 'wdr11', 'wnk1', 'chd8', 'mok', 'slc35f2', 'ascl2', 'mrps31', 'apbb2', 'magee2', 'dpf3', 'aga', 'klhl24', 'dbndd1', 'ribc2', 'c20orf96', 'lrriq3', 'ak7', 'gla', 'slc4a11', 'nat8l', 'twf2', 'mettl4', 'tmem74b', 'dnajc3', 'xrcc5', 'sage1', 'cog8', 'prdm1', 'pced1b', 'ppp1r3f', 'plcb1', 'c2cd2l', 'cxadr', 'znf619', 'shank2', 'dpf2', 'or56b2p', 'phex', 'h6pd', 'gns', 'hoxb9', 'tle5', 'ppp1r3c', 'podxl', 'bud13', 'slc22a25', 'cspg5', 'ahcyl2', 'man2a1', 'calm1', 'mall', 'gfm1', 'rhbdf1', 'znf177', 'frmd7', 'slc25a28', 'pdpn', 'smc1a', 'slc7a6os', 'rpel1', 'or11h12', 'mrpl19', 'npipb15', 'copb2', 'klhdc8b', 'pde7a', 'slc35g4', 'bbox1', 'phka1', 'gprc5d', 'spred3', 'soat2', 'trim6-trim34', 'gpr139', 'kbtbd3', 'trim46', 'chrnd', 'rubcn', 'tcap', 'gpn3', 'exoc8', 'pola1', 's100b', 'pnpo', 'trim34', 'krtap6-3', 'lrriq4', 'sox3', 'elapor2', 'hoxa5', 'mob3b', 'plbd1', 'xpnpep1', 'pcnx1', 'amy1a', 'eny2', 'kctd10', 'adam33', 'syce2', 'tk1', 'adck1', 'tbc1d9', 'pomt2', 'lmf1', 'pxylp1', 'kiaa0753', 'gnpat', 'tcte1', 'fam149b1', 'fam124a', 'rpl36a-hnrnph2', 'ramacl', 'or5h15', 'ccdc191', 'fndc5', 'igsf8', 'lrp1', 'srp54', 'atp13a2', 'cpsf3', 'rfpl1', 'ctage9', 'eif4ebp1', 'znf333', 'pcdhgb7', 'adss1', 'liph', 'ythdf3', 'fam120c', 'ppard', 'ranbp2', 'wsb1', 'btf3', 'wbp2nl', 'chtop', 'znf721', 'krtap6-1', 'dnajc9', 'gar1', 'h2bc7', 'treh', 'bud31', 'drd5', 'cep126', 'amfr', 'acsl3', 'hpgd', 'cd40', 'apobec1', 'chmp2a', 'ybx3', 'cenpi', 'clcnka', 'frmd5', 'syce1', 'mb21d2', 'gid8', 'ccp110', 'znf594', 's1pr1', 'reg1a', 'nrp1', 'necab3', 'kdm3b', 'klhl12', 'srgap3', 'dhx9', 'ankrd26', 'mmp8', 'bnc1', 'n4bp2', 'arhgap30', 'u2af2', 'cgb3', 'prune1', 'hint3', 'ehmt1', 'wfdc5', 'dusp15', 'tesmin', 'pla2g2e', 'htr3a', 'yjefn3', 'ppp2r5e', 'rps6kb2', 'znf860', 'aldh2', 'rgs8', 'kcng2', 'cpvl', 'sms', 'riok3', 'mars2', 'rasgrp1', 'adamts9', 'calhm1', 'tmem87b', 'clec19a', 'gjb6', 'mogat2', 'gsta3', 'tmcc3', 'mme', 'npy', 'adh7', 'qprt', 'ruvbl2', 'prim1', 'scn11a', 'sez6', 'samd14', 'spanxd', 'rbpj', 'b4galt7', 'znf761', 'sparcl1', 'rhbdl3', 'phf13', 'slc4a1', 'cit', 'hmgxb3', 'sycp2', 'akap8', 'gata6', 'ccl24', 'fam53c', 'pin1', 'apol2', 'nek5', 'ubtfl1', 'iqcj', 'h2bc10', 'ankrd13d', 'rnf208', 'cdkn1a', 'pld3', 'cklf', 'cmas', 'celf2', 'tyrp1', 'capn14', 'tlr10', 'lnx1', 'gclc', 'triobp', 'srp68', 'ell2', 'plpbp', 'bmp15', 'ankrd12', 'tdrd9', 'bbs1', 'arsa', 'dbf4', 'or5k3', 'calhm3', 'rtkn2', 'rmi2', 'p2ry13', 'zic3', 'gigyf2', 'pou4f2', 'iqca1l', 'itga2b', 'b9d1', 'hibadh', 'daglb', 'znhit2', 'spata31a3', 'krtcap3', 'ccnc', 'rnf222', 'snx27', 'tspan1', 'tnfaip8l2', 'slc8a3', 'tdrd1', 'sprtn', 'b3gnt8', 'tmem255b', 'supt20h', 'phldb3', 'c17orf58', 'mrpl35', 'lyg1', 'hbg2', 'dok1', 'tmem14b', 'tatdn3', 'm1ap', 'spc24', 'marchf3', 'rita1', 'wasf1', 'rag1', 'sdc3', 'or4s1', 'lcn2', 'adpgk', 'trim4', 'ppp1r35', 'med30', 'whamm', 'gnmt', 'memo1', 'hgf', 'tmem161b', 'ints11', 'casp8', 'capn1', 'rsl1d1', 'znf793', 'cd47', 'p2rx1', 'nars2', 'foxi1', 'il2rg', 'gpr101', 'lonrf2', 'klk9', 'il15ra', 'zg16', 'c2orf49', 'dennd2a', 'lgr4', 'chaf1a', 'bmp2', 'nagpa', 'clip4', 'nlrp12', 'rspry1', 'pagr1', 'foxp4', 'got1l1', 'bhlhe41', 'plekha8', 'trappc2l', 'tunar', 'cul1', 'mycbp', 'mtrr', 'rgs9bp', 'tmcc2', 'lmod3', 'rangrf', 'or52n4', 'cpne8', 'gng11', 'hamp', 'ptpn3', 'serpinb6', 'ccdc82', 'wipi2', 'haus7', 'slirp', 'med13', 'smad6', 'ocm', 'parp8', 'col16a1', 'nme4', 'fcn3', 'chkb-cpt1b', 'prune2', 'necap1', 'ccdc122', 'htra1', 'kiaa0930', 'csag2', 'copb1', 'smyd3', 'dusp1', 'nxph4', 'eif3cl', 'gabra4', 'bri3', 'ct45a8', 'ptpa', 'usp9x', 'eng', 'gast', 'myzap', 'upk1b', 'septin6', 'slc1a1', 'ints2', 'zcwpw2', 'rhoxf2b', 'rbm18', 'smim12', 'gpatch3', 'rfk', 'znf324b', 'klhl2', 'znf584', 'mark3', 'znf691', 'nim1k', 'plppr1', 'slc22a16', 'gsto2', 'atad3a', 'nkx6-3', 'dzip1l', 'rab5c', 'sec14l4', 'prps1', 'arrb2', 'ganc', 'inpp5b', 'crtc2', 'acot11', 'mboat2', 'dmrtc1b', 'tgm6', 'sptan1', 'gpr119', 'taf4b', 'armc6', 'cib2', 'igsf1', 'fgfr2', 'il12b', 'anxa10', 'dip2c', 'cadm4', 'or10s1', 'saa4', 'cgn', 'lrrc24', 'heph', 'slc14a1', 'ncbp1', 'ccdc90b', 'amd1', 'gdap1l1', 'txlng', 'trmt2b', 'gtf2i', 'iqsec1', 'caskin2', 'ms4a4a', 'cyp51a1', 'herc4', 'slc25a25', 'camp', 'nfic', 'c10orf120', 'gcc2', 'apobec3b', 'tnpo2', 'taf1l', 'psg4', 'slc46a2', 'golga6c', 'prox2', 'enah', 'krbox4', 'cd300lg', 'vps13d', 'mylk3', 'fbxl12', 'havcr1', 'fblim1', 'ttll1', 'tex36', 'itprip', 'urb2', 'tbc1d21', 'senp2', 'fuz', 'ndufa4', 'gpr85', 'cyp4v2', 'p2ry11', 'selenop', 'slc25a38', 'dcdc1', 'rhag', 'frmpd3', 'copg1', 'tgfbi', 'setd6', 'kif21a', 'gpr50', 'zscan20', 'slc25a20', 'dnajc27', 'pla2g4d', 'ddx49', 'odf4', 'marchf4', 'lrit1', 'bex3', 'lpl', 'fgd1', 'eif4enif1', 'septin4', 'lztr1', 'epb41', 'dpm2', 'defb118', 'fam104a', 'antxrl', 'znf14', 'cxcr1', 'hcn2', 'slc10a3', 'idh2', 'fchsd2', 'slc22a9', 'cct8l2', 'mesp2', 'spryd3', 'papolg', 'gnl3l', 'slc39a13', 'inka2', 'rundc1', 'gcnt7', 'popdc2', 'mtrex', 'trim55', 'gpr45', 'rbm28', 'znf513', 'bola1', 'comtd1', 'znf181', 'htr3d', 'parp15', 'znf385a', 'rab3gap1', 'pou3f2', 'synpr', 'usp17l1', 'cldn8', 'etv5', 'oxct2', 'bbs5', 'nuak1', 'lgals9b', 'clybl', 'eml6', 'lats1', 'cd163l1', 'ttn', 'znf234', 'elavl2', 'gage2a', 'or5j2', 'luzp4', 'krt14', 'fbln1', 'ei24', 'ddx41', 'furin', 'guca1c', 'ranbp17', 'mki67', 'erp44', 'mrc1', 'defb129', 'efemp2', 'pcdhga6', 'eri3', 'slc17a8', 'nphs1', 'katnip', 'wdr24', 'or1d2', 'cebpb', 'prr30', 'osbp', 'tpm4', 'calcr', 'llgl2', 'cd1b', 'ifna4', 'bex1', 'lrrc69', 'fxyd5', 'slc10a7', 'sfmbt1', 'dagla', 'nxpe4', 'sema4f', 'apobec3d', 'exosc1', 'aldh3b2', 'prdm16', 'tceal8', 'lrsam1', 'mpdz', 'rnf17', 'pth', 'sprr2a', 'sts', 'pga5', 'nrtn', 'znf705b', 'pde9a', 'ighmbp2', 'tctn3', 'dand5', 'lcnl1', 'tceal5', 'zbtb3', 'fbxl7', 'nlgn1', 'yif1b', 'cnot6', 'pcnx4', 'cd74', 'utp20', 'tnmd', 'pdia4', 'mfsd3', 'fkbp8', 'pcca', 'asf1a', 'hmgn2', 'kansl3', 'auh', 'odam', 'srxn1', 'tmx1', 'strbp', 'nanognb', 'aebp2', 'ankrd52', 'clk4', 'marchf5', 'tmem199', 'tube1', 'qrfpr', 'tomm22', 'tmem212', 'sec61b', 'slc27a4', 'mical2', 'atxn7l3b', 'pcdh11x', 'c2orf74', 'hmgcll1', 'nutm2g', 'ist1', 'nrsn1', 'scube1', 'heatr1', 'lrig2', 'zbtb10', 'znf846', 'cxorf65', 'melk', 'zdhhc22', 'thra', 'vill', 'mcl1', 'cxcr4', 'hspb9', 'aldh7a1', 'enox2', 'epha10', 'hnrnph2', 'iqcg', 'cuedc1', 'slc8a1', 'ftl', 'ate1', 'rnf122', 'septin7', 'ca4', 'c1orf105', 'klk12', 'sf3b5', 'exoc6', 'eif4g1', 'ifi6', 'ankrd65', 'rfc1', 'cdk11a', 'kng1', 'celf4', 'tmem92', 'rspo3', 'ssrp1', 'lcat', 'espl1', 'arfgap1', 'hsph1', 'ifi44l', 'gzmm', 'selenof', 'cck', 'foxa3', 'atp4a', 'med17', 'sertad2', 'pifo', 'tmem192', 'lix1l', 'pparg', 'nadk2', 'sox18', 'dalrd3', 'polr2l', 'mlf2', 'cdkn2b', 'znf423', 'sertad1', 'polr1e', 'gabrd', 'tex28', 'anks1a', 'dnajc16', 'lamp5', 'arhgap20', 'zmat5', 'zkscan5', 'rps5', 'cep120', 'lepr', 'snrpd3', 'tigd7', 'h2ab2', 'eif2s1', 'pex10', 'ipo8', 'gulp1', 'slc16a2', 'lyplal1', 'tcea1', 'hsf2', 'chtf8', 'ubald1', 'dnajc8', 'rassf2', 'ppt1', 'magea9b', 'tmem127', 'cldn20', 'ubqln4', 'cyp26c1', 'tulp1', 'malsu1', 'mmp23b', 'adcyap1', 'scgb1d1', 'myo7a', 'slmap', 'spcs1', 'tank', 'page3', 'c1orf43', 'ivns1abp', 'lim2', 'hrk', 'tut4', 's100pbp', 'rad54l', 'hmgb4', 'hhipl2', 'prdm7', 'ubr4', 'pdcd5', 'lrif1', 'pcnx2', 'phlpp2', 'cby1', 'adgrf2', 'zbtb37', 'rab30', 'ica1', 'hsfx1', 'ezr', 'fez2', 'krtap26-1', 'twsg1', 'rarres2', 'mybpc2', 'fscn1', 'nek8', 'usp10', 'hspbap1', 'slc40a1', 'nup153', 'tmem210', 'eras', 'nppb', 'drc1', 'rxfp4', 'znf479', 'c12orf75', 'polr1b', 'slc46a1', 'map3k1', 'dis3', 'gsg1', 'utp18', 'plxna3', 'abcc4', 'nkx1-1', 'cdx4', 'spata32', 'mamdc4', 'son', 'cilk1', 'nlrc4', 'nup107', 'scrn3', 'zcchc24', 'zic1', 'pla2g6', 'hmg20b', 'krt10', 'tomm7', 'lrch2', 'mmp1', 'fbxo24', 'pdlim5', 'znf280d', 'itgb3', 'c14orf28', 'alx3', 'srpk1', 'anks1b', 'cpa1', 'zfp37', 'znf445', 'trio', 'znf70', 'septin8', 'fam221a', 'cldn2', 'trappc9', 'adgre5', 'agap2', 'bricd5', 'yy1ap1', 'chrne', 'ttr', 'tex12', 'tyr', 'slc27a6', 'lrrtm1', 'mtarc1', 'det1', 'zfp30', 'jam3', 'scamp4', 'atp5pd', 'rbm48', 'rce1', 'plpp6', 'azgp1', 'arl6ip1', 'hoxb4', 'or4c6', 'mcts1', 'bbip1', 'fitm2', 'fank1', 'fam76a', 'tprg1l', 'ppm1n', 'psg8', 'gprasp2', 'dnaaf4', 'mal', 'slc29a4', 'dnah1', 'trim5', 'hoxa7', 'mettl23', 'zbtb1', 'tmem130', 'ttc36', 'mrpl42', 'ndufc2', 'paaf1', 'znf792', 'bag4', 'acsm5', 'c1orf116', 'ago4', 'rev3l', 'acads', 'msantd2', 'or2at4', 'lcn6', 'abcg4', 'cmtm8', 'scgb3a2', 'neo1', 'mfsd2a', 'vcam1', 'dbt', 'nkx6-2', 'slc12a3', 'apba3', 'arhgef40', 'vsx2', 'btbd9', 'znf678', 'nlrp13', 'gtpbp10', 'gzma', 'slc24a4', 'sdhaf2', 'cep78', 'pex13', 'b4galnt4', 'lrrc8a', 'scnm1', 'jun', 'nudt11', 'aprt', 'ins-igf2', 'xpo1', 'ube2f', 'ppp1r13b', 'galnt13', 'scn3a', 'mbnl1', 'grifin', 'fbxl16', 'scara5', 'efcab13', 'polg', 'camk2a', 'pspc1', 'ier3ip1', 'znf142', 'or56a3', 'or2ak2', 'lrfn4', 'igfbp7', 'kif19', 'pias2', 'os9', 'fkbp2', 'ifna17', 'ctsc', 'foxj2', 'cdh2', 'pcif1', 'bbs9', 'ints14', 'fut2', 'rpl17', 'bola2b', 'amigo1', 'tbccd1', 'gem', 'plekho2', 'e2f6', 'gja4', 'hif3a', 'naaladl2', 'rassf5', 'cd27', 'dpep2', 'cd19', 'efna2', 'actr2', 'socs1', 'sox6', 'mcc', 'prelid1', 'pdcd2', 'or5d3p', 'znf347', 'aqp1', 'ptov1', 'ngb', 'acap3', 'klhl9', 'kcns2', 'chst8', 'map3k11', 'slc24a1', 'asap1', 'slc41a3', 'tgfbr1', 'tceanc', 'clca1', 'rnf149', 'cst8', 'rimbp2', 'naa16', 'pomt1', 'gramd1b', 'acvr1b', 'h3-5', 'cacna2d1', 'rrp1', 'dpt', 'phax', 'mdh1', 'itgal', 'obsl1', 'tsga13', 'gtf2ird2b', 's100a16', 'ptges3l-aarsd1', 'pde1a', 'mocs2', 'pcdhga8', 'vsig4', 'galr1', 'elp6', 'stk10', 'cnot4', 'hhex', 'zfpm2', 'znf723', 'mlc1', 'lama4', 'arid3a', 'en2', 'dstn', 'cdcp2', 'golgb1', 'kcnc3', 'c2cd6', 'rasgrf1', 'adap1', 'wdr26', 'npr2', 'renbp', 'hs3st3b1', 'fxyd6-fxyd2', 'mettl18', 'il11ra', 'mcm2', 'tmem108', 'tfap2c', 'tomm70', 'ccnl2', 'rad18', 'znf44', 'ncoa2', 'cars2', 'rnase12', 'insig1', 'uvrag', 'znf813', 'fastkd2', 'trpc6', 'chkb', 'tcfl5', 'efcab12', 'gdf7', 'med4', 'wnt16', 'trip12', 'pet100', 'pes1', 'syt16', 'pigz', 'grm3', 'kcnk3', 'hnf1a', 'zdhhc20', 'uqcrhl', 'trim49', 'faim', 'map3k5', 'smarcd3', 'nudt15', 'capza3', 'ct45a3', 'spata31a1', 'tmem141', 'defb126', 'aplp1', 'bcs1l', 'taf5', 'arv1', 'serpinb12', 'lims3', 'c9orf78', 'b3gat2', 'capn5', 'b3galt1', 'rnf185', 'myog', 'prkca', 'swsap1', 'pogz', 'prdm10', 'erlin2', 'cubn', 'nek4', 'sema3d', 'srpra', 'bicdl1', 'schip1', 'alkbh6', 'galnt3', 'kti12', 'brk1', 'aspdh', 'chuk', 'b3galt5', 'lrrc10', 'pde2a', 'slc6a18', 'r3hdml', 'gpam', 'tomm20l', 'kif4b', 'agap3', 'dync1li1', 'lgmn', 'rpl13a', 'rims2', 'enpp4', 'ebf2', 'papln', 'sncb', 'myo1d', 'xrcc6', 'znf653', 'tiprl', 'hnrnpd', 'scn1b', 'slx4ip', 'puf60', 'pstpip1', 'exoc5', 'rab31', 'itih5', 'dna2', 'znf326', 'lgals2', 'arr3', 'lyst', 'slc35f6', 'cd96', 'rnf2', 'atp4b', 'krt73', 'ocm2', 'ppp1r26', 'vps41', 'ppdpf', 'ammecr1', 'cdk10', 'chrdl2', 'aldh6a1', 'map2k1', 'prph', 'znf519', 'eef1a2', 'amn', 'rreb1', 'serpinb2', 'asb5', 'epha2', 'cdkl3', 'tbc1d23', 'znf597', 'atrnl1', 'efcab8', 'map3k4', 'pccb', 'ube2l6', 'aimp1', 'znf140', 'b3gnt5', 'sec24b', 'kcnc4', 'grb7', 'iglon5', 'rad51c', 'tacc2', 'syde2', 'minpp1', 'znf112', 'msh6', 'slc7a5', 'gstz1', 'trmt1l', 'bmp7', 'emc4', 'ajap1', 'pry', 'znf80', 'wdr48', 'pde6a', 'st14', 'znf75d', 'rasgef1b', 'sft2d2', 'smr3b', 'smyd1', 'dusp21', 'grm1', 'galnt2', 'foxo1', 'trappc13', 'parp14', 'kcnj6', 'tor3a', 'map1s', 'c3orf38', 'ctu2', 'dlx5', 'kbtbd8', 'aagab', 'cox6a1', 'mrto4', 'znf208', 'glb1l', 'micall1', 'srebf2', 'spaar', 'ptchd1', 'c20orf85', 'st8sia4', 'akirin1', 'dclre1a', 'znf469', 'pde8a', 'elf4', 'grap', 'cacnb2', 'coq6', 'heatr4', 'csnk1d', 'cyp2c8', 'znf341', 'gnrh2', 'bean1', 'rab6d', 'pnpla1', 'cdrt4', 'cyp3a4', 'adamts8', 'idh3a', 'casp5', 'rcc1', 'psmb10', 'znf442', 'cnpy2', 'cryba1', 'usp17l12', 'cd81', 'fads1', 'pacrg', 'or51f2', 'ccnh', 'epb41l5', 'fbxo34', 'nat9', 'klrk1', 'yaf2', 'pycr2', 'thap1', 'tbc1d1', 'gpr155', 'c2cd3', 'htr1f', 'akr7a3', 'mcat', 'cdkl4', 'scnn1d', 'fam83e', 'prss50', 'zcchc12', 'kcnj3', 'htr7', 'chst10', 'vps26b', 'acp3', 'c16orf74', 'rab10', 'abhd17a', 'tmem168', 'emc3', 'pa2g4', 'serpinb13', 'atxn1l', 'gnb3', 'cyp4f8', 'fhad1', 'ubr2', 'slc25a45', 'tafa2', 'gtf2e1', 'wt1', 'adrb1', 'slc35e2b', 'wdr6', 'mpv17', 'cfi', 'b3gnt9', 'ntn4', 'tp53rk', 'klk10', 'grin2c', 'ahctf1', 'rpe65', 'fam151b', 'lgals12', 'h3y1', 'camkk1', 'zswim6', 'banf2', 'cldn5', 'actl7b', 'ntf3', 'spink14', 'slc49a3', 'plxnd1', 'mettl8', 'ccdc144a', 'znf302', 'c4orf48', 'h3c13', 'rad51ap1', 'nutm2d', 'kcna4', 'ccnt2', 'mvk', 'colq', 'atp5mc3', 'scai', 'c1qc', 'nhsl2', 'gage12g', 'krt6b', 'cpsf7', 'tmem67', 'nampt', 'znf45', 'cpne7', 'glrx', 'myd88', 'gemin6', 'znf616', 'gpr3', 'tmem204', 'acot8', 'or51b2', 'gask1b', 'or52h1', 'isl1', 'habp4', 'ank1', 'tmem176a', 'phtf1', 'angpt2', 'frs3', 'rhod', 'iqck', 'ibsp', 'emc8', 'chrnb2', 'krt78', 'rbp2', 'tent2', 'tmem237', 'dst', 'znf428', 'tcta', 'rgr', 'dao', 'mmrn2', 'uck1', 'ccdc62', 'hoxb5', 'churc1-fntb', 'lrch3', 'n6amt1', 'ubfd1', 'cd209', 'hspa8', 'tsc22d1', 'nxpe3', 'lrrc19', 'eef1akmt3', 'serpinc1', 'lat', 'erg', 'abce1', 'capns2', 'acsl4', 'ccm2', 'samd12', 'prrc2c', 'slc36a2', 'ldhd', 'nt5e', 'clec4f', 'shisal2a', 'tab3', 'zdhhc15', 'ly96', 'trim24', 'vtn', 'radil', 'sh2d1a', 'stat1', 'c3orf33', 'c15orf62', 'armcx6', 'rbm47', 'mrpl49', 'wfdc10b', 'sftpc', 'znf318', 'muc1', 'pwwp3a', 'tnip2', 'slc30a7', 'runx1t1', 'uchl1', 'ppm1l', 'mybphl', 'rnf180', 'nefl', 'upk1a', 'sdhb', 'zc2hc1a', 'nbpf12', 'tmprss6', 'ttc23l', 'smim10l2b', 'strip1', 'pex2', 'rab43', 'nlrp2b', 'foxs1', 'scpep1', 'minar1', 'kaag1', 'cx3cr1', 'mga', 'lingo1', 'syk', 'chd2', 'chd9', 'spanxn5', 'or4f21', 'adk', 'znf674', 'ssh3', 'tmem82', 'tmem255a', 'rlbp1', 'nkain2', 'sftpd', 'ube4a', 'fignl2', 'sik1', 'sf3b4', 'echdc2', 'gda', 'ctnnd2', 'gfod2', 'wdr64', 'eef1akmt2', 'arfgef2', 'myadm', 'chp1', 'spcs3', 'chd6', 'mthfd1l', 'tbc1d14', 'bccip', 'trnt1', 'matk', 'pramef15', 'abitram', 'tmem219', 'shisa9', 'iqub', 'polm', 'uri1', 'izumo1', 'dnmt3l', 'als2cl', 'pabir2', 'hacl1', 'ttf1', 'nectin4', 'deup1', 'gpc1', 'il1rl2', 'trabd2a', 'or2a4', 'btbd19', 'cct7', 'katnbl1', 'c11orf58', 'or10x1', 'fthl17', 'ddx55', 'smyd2', 'nufip1', 'neurod2', 'ifitm5', 'grhl2', 'rusc2', 'mrgprx4', 'rnd3', 'rpl24', 'xab2', 'rtel1-tnfrsf6b', 'zfand5', 'slc45a4', 'stra8', 'foxd1', 'cd200r1l', 'il17re', 'cyth4', 'xk', 'akirin2', 'fbxw8', 'leap2', 'st6galnac1', 'kif13b', 'znf613', 'dkk2', 'znf583', 'znf552', 'b3gnt3', 'il1r2', 'epdr1', 'znf700', 'or10g4', 'krtap22-1', 'sim1', 'tpsab1', 'c16orf89', 'rnf212', 'exph5', 'snx16', 'agmo', 'arap3', 'usf1', 'pi15', 'extl2', 'mgat2', 'xage2', 'tmem177', 'znf557', 'abcd2', 'or5l1', 'dcaf17', 'baz2b', 'as3mt', 'xage3', 'adam18', 'ct45a9', 'rap1b', 'tmem41a', 'itgbl1', 'fzd1', 'glyatl1', 'map7', 'fam209b', 'cd8b', 'rasgef1a', 'sp140l', 'ado', 'washc3', 'lrrn4cl', 'taok2', 'krtap20-4', 'cyp8b1', 'npbwr1', 'cluh', 'efemp1', 'coro2a', 'foxk2', 'mapk8', 'epha6', 'rad54l2', 'tchp', 'vcx3a', 'rab8a', 'tet1', 'rb1', 'rasip1', 'sprr2f', 'sap30l', 'irf4', 'insl4', 'b4galt4', 'pdp1', 'ptpn18', 'fra10ac1', 'hoxa11', 'slc22a17', 'rgs12', 'vapa', 'lmx1a', 'akap1', 'cald1', 'ube2e3', 'rab3c', 'tafa5', 'pif1', 'moxd1', 'mtg1', 'rwdd2a', 'taf11', 'wasl', 'wdtc1', 'akap8l', 'drap1', 'pex6', 'cdon', 'perm1', 'rnf128', 'dhrs9', 'defb125', 'galk1', 'ufl1', 'plbd2', 'xrra1', 'spata45', 'pafah2', 'fut1', 'trim74', 'palm', 'camk1d', 'ss18', 'sell', 'cysrt1', 'obi1', 'sun2', 'macroh2a2', 'znf611', 'znf571', 'prkcg', 'or14a16', 'fndc9', 'exosc5', 'clcn4', 'mrpl39', 'mllt10', 'or2l5', 'atp6v0e1', 'cskmt', 'pde6b', 'acadl', 'dolpp1', 'fbxo43', 'znf121', 'tmem40', 'otud7b', 'cd200', 'bglap', 'zmiz2', 'selenoo', 'galnt5', 'birc3', 'thoc5', 'c3orf62', 'cxorf58', 'yipf3', 'agbl1', 'znf358', 'enosf1', 'rhbg', 'armc9', 'hivep1', 'plk2', 'h1-2', 'rsc1a1', 'mrps24', 'adamts10', 'nxph2', 'znf853', 'neurod1', 'syde1', 'phactr2', 'mospd3', 'cd226', 'itgb1bp2', 'slco4a1', 'sf3b1', 'phlda3', 'thbs1', 'nadsyn1', 'akr1c1', 'il36g', 'ccdc186', 'actb', 'spata31a5', 'txnip', 'csad', 'dvl3', 'abl1', 'prpf38a', 'myo5c', 'zgpat', 'rsph4a', 'ube2k', 'tmem86b', 'irf5', 'ms4a5', 'gpd1', 'rbm7', 'ggtlc3', 'grin2a', 'dnah9', 'smim14', 'parl', 'ar', 'tmem101', 'get3', 'sgpp2', 'sart1', 'gale', 'wnk4', 'snn', 'pabpc1l', 'gkn2', 'sptbn2', 'arhgap42', 'znf648', 'card6', 'prdm6', 'kcmf1', 'c1qtnf6', 'or2v2', 'mgst1', 'acyp1', 'hspb2', 'guca2a', 'pgam1', 'cav3', 'fgfr1', 'mrgprf', 'znf506', 'slc47a1', 'c20orf203', 'ccdc93', 'msl3', 'or52e4', 'kif1b', 'cnksr2', 'lamtor3', 'tspy2', 'dll4', 'cbx5', 'gys1', 'rdh11', 'tmod2', 'irgc', 'rpgrip1l', 'glipr1', 'sf3b3', 'terf2', 'tamalin', 'cnnm1', 'lce1e', 'daw1', 'tbc1d4', 'smap1', 'kcnk15', 'snapc1', 'slc30a6', 'lrrc2', 'c17orf49', 'zc3h4', 'tmem139', 'spic', 'rfc3', 'atp6v1e2', 'zim3', 'adamtsl1', 'nup50', 'cfap54', 'p2rx5-tax1bp3', 'dmac2', 'znf827', 'spdef', 'fam8a1', 'dtwd1', 'cdip1', 'nr1h4', 'timm50', 'btla', 'tlr5', 'znf561', 'gal3st1', 'rab13', 'tmem191b', 'usp14', 'or4d10', 'cldn15', 'taf1d', 'naa10', 'lpar4', 'zfp2', 'csrp2', 'ankdd1a', 'slc6a11', 'gng7', 'znf726', 'tst', 'sec23a', 'ubap1l', 'bmper', 'plppr4', 'atg5', 'rbm4b', 'cyb561', 'pskh2', 'c18orf63', 'spata25', 'aspm', 'smarca4', 'sdc4', 'e2f1', 'dcaf8l2', 'zc3h7a', 'cyp17a1', 'plcd4', 'trim54', 'hexim2', 'csn3', 'col6a6', 'uhrf2', 'haus1', 'id1', 'gab4', 'rbks', 'sult1c2', 'fbll1', 'znhit6', 'cnrip1', 'il7r', 'vps4a', 'mmut', 'fscn2', 'psmd11', 'col14a1', 'dcx', 'rwdd3', 'reps2', 'efcab6', 'zfhx3', 'or2y1', 'psmd6', 'ormdl2', 'usp51', 'tp53i3', 'gfpt2', 'tex33', 'rhbdd1', 'gimd1', 'slc39a2', 'hmgb1', 'mark2', 'duoxa2', 'smtnl2', 'zc3hav1l', 'purg', 'mzt2a', 'or51i2', 'dppa5', 'sec23ip', 'hmga2', 's1pr3', 'pgbd2', 'rock2', 'gorab', 'sin3b', 'mccc1', 'cxcl6', 'tsga10', 'znf24', 'pcbd2', 'ccdc85a', 'ceacam1', 'znf738', 'cdc42ep4', 'anapc1', 'tgfbr2', 'pdgfc', 'or13c2', 'trim13', 'or5an1', 'ydjc', 'ryr2', 'dctn3', 'or11h1', 'nova2', 'rpf2', 'tmc7', 'dpf1', 'ephx2', 'aloxe3', 'fryl', 'sun1', 'mettl2a', 'hus1b', 'gdf3', 'ptgfr', 'mdfic', 'trmt12', 'nudt17', 'or14l1p', 'litaf', 'sostdc1', 'card9', 'ppp2r3c', 'glt8d1', 'thada', 'pycr1', 'faf1', 'lmo4', 'agtrap', 'ankrd22', 'thrap3', 'rfxank', 'spaca5b', 'slc25a48', 'dleu7', 'smtnl1', 'dhfr2', 'mfsd6l', 'ndufv1', 'arfgef1', 'micos10-nbl1', 'aco2', 'polr3d', 'necab1', 'gng5', 'hfm1', 'cnot9', 'robo1', 'tmprss5', 'or2l13', 'tcf7', 'mars1', 'trappc1', 'smpx', 'ryr3', 'amy2a', 'peli3', 'usp18', 'kmt2d', 'vpreb3', 'dhh', 'taf2', 'mettl6', 'srsf3', 'eif4g3', 'ppial4g', 'lpxn', 'grm7', 'smim5', 'fzd3', 'ggt5', 'gkn1', 'agtr2', 'rps6ka2', 'c12orf29', 'btf3l4', 'or6c68', 'glp1r', 'ppp1r2', 'stx16', 'oasl', 'npipb3', 'tbc1d31', 'ero1a', 'amacr', 'slc25a29', 'pdzd2', 'lig3', 'zfat', 'cdkl1', 'potef', 'uros', 'cox20', 'pkd1', 'oplah', 'mix23', 'ugt1a8', 'znf681', 'csk', 'icam2', 'thsd7b', 'magec3', 'ppp3r2', 'abhd14a-acy1', 'c1qtnf7', 'gcc1', 'or52n5', 'hipk1', 'stxbp5', 'gsdme', 'cpa6', 'ogt', 'atp5mg', 'igfals', 'pxdc1', 'znf664', 'gpr182', 'kiaa0513', 'fut10', 'gdap2', 'kcnk17', 'ankhd1', 'cercam', 'snrnp40', 'slc16a14', 'dcun1d3', 'uhmk1', 'tssk6', 'nol6', 'dync2li1', 'tmprss11d', 'rad51b', 'dnajc19', 'sec14l6', 'tent5b', 'pryp3', 'b4galnt1', 'arf6', 'pcsk1', 'slc17a7', 'epsti1', 'samd10', 'krt18', 'znf470', 'itpr3', 'ewsr1', 'scn9a', 'cnih2', 'mylk2', 'ppox', 'tceal3', 'opa3', 'tbc1d22b', 'naa20', 'spanxc', 'dnaja4', 'nipsnap1', 'depdc7', 'rhobtb2', 'galnt12', 'mysm1', 'asic4', 'tmem183a', 'inhbb', 'cyb5rl', 'tal2', 'glra1', 'rnf113a', 'notch2nla', 'adgrb3', 'atp8b4', 'dynlt5', 'exosc7', 'b3gat3', 'ttk', 'mier2', 'kif1a', 'rasgrp3', 'znf714', 'cnbd1', 'pcid2', 'mfsd14b', 'foxp2', 'calhm4', 'optn', 'hacd3', 'chpt1', 'ptk7', 'pnpt1', 'gga1', 'depdc1', 'blid', 'slc22a31', 'ppp1cc', 'hspb1', 'slc4a7', 'oxt', 'or5b17', 'znf215', 'foxl2nb', 'naaa', 'huwe1', 'trdmt1', 'cmtm7', 'bcl7a', 'zscan21', 'c1orf74', 'dlg4', 'rnf183', 'abca3', 'poteg', 'plcd3', 'znf416', 'slc22a2', 'fbxl14', 'znf804b', 'fgd6', 'lypd6b', 'znf260', 'acer2', 'cort', 'chst13', 'pcsk7', 'pyhin1', 'fech', 'slain2', 'ctdspl', 'slc4a1ap', 'ankrd2', 'tars2', 'adprm', 'cxcr6', 'pard6b', 'deptor', 'c8orf89', 'peds1', 'creb3l1', 'nipal3', 'sftpa1', 'dhx8', 'them4', 'nabp1', 'dyrk1a', 'adgra2', 'syce1l', 'nedd9', 'fut4', 'atg2a', 'cldn17', 'h1-0', 'crybb1', 'mrpl11', 'plpp4', 'duoxa1', 'glt8d2', 'asb17', 'rfc2', 'pcyt1b', 'dppa4', 'topors', 'glp2r', 'rax2', 'calcoco2', 'rbmxl1', 'pcp2', 'prdm4', 'hdac6', 'vps35', 'abracl', 'cd86', 'wipi1', 'dnajc22', 'spata7', 'ggh', 'riok2', 'ndfip2', 'atp2c1', 'dsg1', 'gtf3c5', 'mocs1', 'hipk4', 'evpl', 'cfc1', 'tfap4', 'pramef19', 'nrip3', 'dgat2l6', 'meltf', 'ptpdc1', 'nrg1', 'pzp', 'scn1a', 'ttc3', 'mrpl55', 'gpr21', 'tex37', 'slx1a', 'colec11', 'pip5k1b', 'tnfrsf21', 'mrpl50', 'elovl6', 'gli4', 'or2l3', 'ckap5', 'mapk12', 'myocd', 'plaat5', 'fjx1', 'rps6ka4', 'ccr3', 'sprr1b', 'cldn11', 'pnpla8', 'itga7', 'has3', 'nos2', 'dcaf7', 'gip', 'usp17l21', 'atp13a5', 'gcat', 'alpi', 'ribc1', 'sestd1', 'kcnh5', 'higd1c', 'anapc10', 'pls1', 'nlrp14', 'aadacl4', 'cibar2', 'cct6b', 'cdh20', 'acsm6', 'rufy3', 'hps3', 'etv7', 'chp2', 'ube4b', 'cracr2b', 'jph1', 'prss41', 'tekt4', 'btbd10', 'hsd11b2', 'arhgef7', 'pink1', 'crbn', 'n4bp1', 'sin3a', 'znf205', 'nsmce1', 'cox6b1', 'pfdn4', 'crebbp', 'slc23a3', 'rab17', 'ct45a5', 'pum3', 'pawr', 'smr3a', 'bbs4', 'bicc1', 'alpg', 'parp6', 'gpatch11', 'cer1', 'brcc3', 'gpr150', 'gtf2a1l', 'pknox1', 'ticam2', 'rnase6', 'stk3', 'slc39a9', 'tjp3', 'pmp2', 'abcb1', 'syne1', 'mettl2b', 'etnk1', 'rps23', 'nfkbiz', 'chst11', 'itprid1', 'ankrd30a', 'tas2r39', 'rela', 'pdzd8', 'fmnl2', 'mageb4', 'des', 'slc39a6', 'gabrp', 'spaca4', 'ppm1k', 'dars1', 'nsd1', 'actr3b', 'pms1', 'blcap', 'impdh1', 'trib2', 'znf658', 'tuba3d', 'tnfrsf1b', 'ago1', 'cacng4', 'gpr171', 'slco5a1', 'dbndd2', 'myo18a', 'trnp1', 'ppp1r12b', 'nit1', 'dpcd', 'gramd1c', 'tpd52', 'ccdc71', 'r3hdm4', 'g3bp1', 'gab2', 'timm23', 'c1ql2', 'scn10a', 'cabp7', 'polr2b', 'cadm1', 'pheta1', 'mus81', 'atp6v0a2', 'gimap1', 'cd207', 'tgfb1', 'kiaa2013', 'cnpy4', 'exoc3l1', 'igsf23', 'tspan14', 'mib2', 'ssr2', 'csmd2', 'abca6', 'pxt1', 'ptpro', 'tmem156', 'pitrm1', 'ube2q2', 'haspin', 'bace1', 'phf20l1', 'aoc1', 'nutf2', 'ppp3ca', 'krtcap2', 'znf432', 'fam3c', 'krtap25-1', 'ccdc179', 'atp11c', 'znf16', 'pttg1', 'dnajc28', 'mrpl17', 'ptprh', 'ccn2', 'abca1', 'zdhhc16', 'nhs', 'hjv', 'tmem270', 'mt4', 'acbd3', 'gsdmb', 'reep5', 'cdca8', 'csag3', 'helb', 'sec14l5', 'dhdds', 'rpl21', 'map3k15', 'gfra1', 'tmem272', 'fndc3a', 'akr7a2', 'slc9c2', 'nup62cl', 'trim47', 'dapl1', 'map4k1', 'tfdp3', 'bcl2l10', 'sec14l1', 'mrpl38', 'adgrb2', 'tpgs1', 'pcdhgc5', 'zfand2a', 'zeb1', 'chrac1', 'rab40c', 'rpsa', 'wasf2', 'commd4', 'grm2', 'sptssb', 'golga5', 'ago3', 'lsm12', 'emp1', 'aig1', 'sult1a3', 'slc13a1', 'selenot', 'htr4', 'cibar1', 'dynlt2b', 'cops2', 'hic2', 'gcsaml', 'heatr5b', 'c1qtnf3', 'nsd3', 'ldlrad1', 'cst7', 'plk3', 'stard8', 'elavl4', 'pik3ap1', 'tgfb3', 'dmpk', 'limd2', 'mab21l2', 'daam1', 'coro1b', 'ppip5k2', 'gpc4', 'alg6', 'aarsd1', 'rgpd2', 'smad4', 'grid2', 'rnf152', 'pcdhgc3', 'ovch2', 'nfatc2ip', 'maged4', 'trib1', 'znf528', 'znf451', 'noxred1', 'dhx57', 'eml1', 'ccdc184', 'pacsin1', 'nup62', 'tnnc2', 'pygb', 'pars2', 'ralyl', 'cyp4a11', 'ccdc78', 'inca1', 'bcan', 'il27', 'rab7b', 'spata12', 'flg', 'zfhx4', 'senp3', 'gas2l3', 'minar2', 'lamtor4', 'reg3g', 'sstr5', 'zgrf1', 'c15orf61', 'lhfpl3', 'mavs', 'atic', 'amph', 'fas', 'cd163', 'gsk3a', 'igfbp2', 'tor4a', 'fkbp5', 'mis18bp1', 'inpp1', 'spp2', 'gprasp1', 'taf7l', 'tspear', 'col20a1', 'lrrc18', 'exo1', 'ppp1r1b', 'c3orf18', 'rbx1', 'bcas2', 'clec20a', 'kcnb2', 'utp25', 'oaz3', 'or10ad1', 'odf3', 'lingo2', 'crkl', 'csrnp3', 'slc25a15', 'ptpn13', 'luzp2', 'nckap5', 'shisa2', 'zan', 'cdc37l1', 'crot', 'ube2l3', 'rln2', 'npffr2', 'poc1a', 'p3h2', 'pelo', 'psmd7', 'c3orf22', 'smim10', 'ctcfl', 'prg3', 'gcfc2', 'rcl1', 'col22a1', 'kras', 'fgg', 'gata2', 'or51b4', 'ptdss1', 'csmd3', 'shc1', 'plscr1', 'sys1-dbndd2', 'cyb5b', 'tfr2', 'or1l1', 'rbfox1', 'bpifb6', 'igip', 'dcakd', 'ankh', 'eddm3a', 'trim7', 'gdf2', 'fras1', 'ephb4', 'esr1', 'hspa12a', 'pik3ca', 'tmsb15a', 'tnfsf18', 'cfap92', 'cd9', 'pak2', 'adgrg5', 'chrnb4', 'frs2', 'bcas4', 'foxd4l3', 'lrrc71', 'or1c1', 'ascc3', 'ttyh3', 'znf491', 'arfgef3', 'uimc1', 'tyw1', 'slf2', 'cox16', 'gtf2f2', 'rassf1', 'cpeb3', 'fbxw7', 'znf704', 'mgp', 'atad5', 'slc7a4', 'lipj', 'f2r', 'or4e2', 'trim17', 'adam12', 'or6k6', 'sprr1a', 'or56a4', 'or1s2', 'flrt1', 'aldh9a1', 'stmnd1', 'lrrc38', 'prr32', 'or10ag1', 'prex2', 'c21orf58', 'cdca3', 'dnah8', 'cfap52', 'kiaa0040', 'cdr1', 'olig3', 'map3k7', 'or7a5', 'mt-nd4', 'myo7b', 'prr14', 'pgbd1', 'hoxd4', 'tbk1', 'polr1d', 'st3gal4', 'heatr6', 'vsig8', 'gpatch1', 'vwf', 'ttc9c', 'slc26a5', 'epha8', 'gucy2d', 'msi1', 'nptx1', 'ankrd66', 'lyg2', 'kiaa0319l', 'sobp', 'ankrd50', 'c3orf85', 'zkscan4', 'cox11', 'fkbp15', 'fhit', 'plaur', 'zc3h12d', 'or52b2', 'znf426', 'naf1', 'or4c11', 'ace2', 'ugt2b10', 'atpaf2', 'yju2', 'or5k1', 'icos', 'rbak-rbakdn', 'sema4a', 'tmem115', 'manba', 'akr1c4', 'slc35c2', 'hcls1', 'ulk3', 'fhl3', 'ndufab1', 'dexi', 'bpifc', 'tnpo1', 'rrh', 'cox19', 'foxo3b', 'ino80c', 'tnfsf8', 'aldoc', 'basp1', 'nol10', 'rint1', 'rps4y2', 'ada2', 'kcnq5', 'nkx3-1', 'dcp2', 'dcaf10', 'rpp30', 'zfc3h1', 'cdv3', 'cdr2', 'tlr7', 'bad', 'tbc1d22a', 'spta1', 'ddr2', 'dhx15', 'gpr18', 'eif3j', 'fig4', 'c16orf92', 'l3mbtl1', 'ncoa5', 'ppm1h', 'akt1', 'cryl1', 'ssuh2', 'hmsd', 'cdh8', 'prodh', 'rnase3', 'pik3c3', 'atg14', 'asb16', 'fdx1', 'stox2', 'c1orf100', 'tmem243', 'znf22', 'gnai3', 'arid1a', 'ntsr2', 'znf236', 'cnr1', 'cers1', 'map3k10', 'bcar1', 'hax1', 'dact2', 'mt1hl1', 'cav1', 'fnta', 'lpcat2', 'cblb', 'znf629', 'atf5', 'stac2', 'tubal3', 'wscd1', 'c6orf118', 'pasd1', 'tpd52l3', 'ccnjl', 'sumf1', 'wfdc9', 'tyw1b', 'foxd4l5', 'edar', 'lims1', 'bspry', 'hs3st3a1', 'svbp', 'rhoj', 'synj2bp', 'sh3bgrl', 'stx16-npepl1', 'abcd1', 'rab39b', 'sprr4', 'prm1', 'tmem14a', 'znf774', 'prkra', 'dapk2', 'ncald', 'epo', 'tmem154', 'or6n1', 'enpep', 'ddx53', 'or52m1', 'or4f16', 'hook3', 'pbx3', 'itpripl2', 'gstm1', 'sdhaf1', 'carmil2', 'tsr1', 'tph1', 'efr3b', 'slc25a46', 'prkd1', 'tirap', 'nomo2', 'rbm3', 'pxmp4', 'kank2', 'c1qtnf12', 'nsmce4a', 'luzp1', 'klhl4', 'c19orf84', 'larp4', 'rgs9', 'rnf148', 'zfp92', 'gch1', 'xkrx', 'rbbp4', 'dhfr', 'lhx4', 'dtymk', 'eci2', 'alkbh5', 'tespa1', 'smad2', 'znf3', 'mfap2', 'znf17', 'mos', 'plxnb1', 'tmem245', 'hydin', 'srsf9', 'rffl', 'adgrb1', 'usp42', 'vat1l', 'batf', 'iffo1', 'znf790', 'ralgps2', 'vax1', 'tnrc6b', 'trim22', 'scimp', 'fate1', 'znf816', 'mboat1', 'psmd5', 'mt-nd5', 'ca13', 'nutm2e', 'c1orf146', 'rlim', 'dimt1', 'samhd1', 'sugt1', 'or9q2', 'aqp2', 'meis2', 'lhb', 'wiz', 'gbp3', 'lbr', 'vps26a', 'fbxo44', 'adh1c', 'hba1', 'klhl36', 'kcnd2', 'ube2s', 'serpine2', 'lrrc43', 'agrn', 'slco1a2', 'h3c2', 'hmx3', 'fibp', 'olfml1', 'elovl4', 'rpap2', 'dicer1', 'tmbim4', 'camk2d', 'ppcs', 'stk11', 'ces2', 'tmem33', 'tmc8', 'gnai2', 'cuedc2', 'xkr7', 'ebpl', 'irx6', 'pak6', 'scaf1', 'or2ap1', 'asb1', 'nipsnap3b', 'wdr75', 'or52l1', 'acacb', 'mif4gd', 'ctnna2', 'cacna1e', 'pkd2', 'glipr1l1', 'gipc3', 'or10a2', 'nubp1', 'usp17l25', 'pcdh11y', 'ly9', 'gspt2', 'ube2e1', 'npr3', 'cyth1', 'golga6l4', 'sgk1', 'mln', 'p2rx5', 'smim21', 'ptgs2', 'adora2a', 'trmt10a', 'meox1', 'mrpl58', 'rabac1', 'tmem242', 'ffar3', 'fmr1nb', 'ccdc137', 'c2cd4d', 'foxn1', 'urb1', 'ceacam20', 'znf195', 'sirpd', 'sesn1', 'slc31a2', 'pramef17', 'get4', 'pnrc2', 'pheta2', 'myl3', 'ficd', 'p2ry4', 'sys1', 'arl5b', 'kctd16', 'ireb2', 'hm13', 'pgrmc2', 'zdhhc6', 'lyz', 'atoh8', 'clic6', 'spib', 'fem1b', 'sh3bp5', 'ralbp1', 'oas2', 'lrp12', 'alox12b', 'snx20', 'ca2', 'thap9', 'cst6', 'itga3', 'acsm3', 'mpped2', 'chd7', 'pdha2', 'mdga1', 'cxorf66', 'lgals13', 'clcf1', 'hhatl', 'khdc4', 'ccdc106', 'ccnyl1', 'sprr2b', 'rhof', 'atf7ip2', 'cxorf51a', 'hoxb8', 'mtx2', 'cavin3', 'spata31d4', 'wwc3', 'cmtm4', 'usp3', 'lrrfip2', 'pfas', 'dsc1', 'cdk4', 'antxr2', 'rpl10', 'kcnj10', 'btbd8', 'nfrkb', 'srp9', 'znf736', 'tmem106b', 'troap', 'rimbp3b', 'cdyl', 'or51b6', 'bpifb1', 'sphkap', 'chrm2', 'ssx4', 'eef1g', 'kank4', 'prkch', 'clpsl1', 'c10orf71', 'mgmt', 'svip', 'c1orf112', 'prac1', 'cdyl2', 'kcnip2', 'gucy2f', 'sez6l', 'klf9', 'cdkl2', 'stt3b', 'crabp1', 'susd3', 'mak', 'slc11a2', 'eid2', 'kitlg', 'gbp2', 'magea8', 'capn3', 'cemip', 'adam23', 'cdk17', 'serpinb1', 'znf395', 'znf131', 'susd4', 'chdh', 'fndc7', 'cspg4', 'ildr1', 'cstl1', 'prxl2c', 'fam13c', 'ttl', 'tstd1', 'nbpf19', 'kif3b', 'actn2', 'tmem186', 'smo', 'prkar1b', 'raph1', 'pbrm1', 'bag1', 'fam111a', 'lmbrd1', 'rer1', 'wdr70', 'igf2', 'alkbh2', 'sertm2', 'sdhd', 'spsb4', 'gckr', 'lix1', 'mark4', 'cacng1', 'mat1a', 'ppp1r8', 'amn1', 'tmem47', 'gmppb', 'frmd3', 'atm', 'aplp2', 'ccdc42', 'csmd1', 'ankle2', 'cabs1', 'bhlhe23', 'sqor', 'ndufs2', 'stxbp2', 'or10a7', 'top1', 'tmem198', 'tnfrsf10c', 'setbp1', 'boc', 'tfam', 'mfap4', 'thrsp', 'marchf7', 'naa25', 'tsnax-disc1', 'crnn', 'ndufb1', 'kat2a', 'specc1l', 'mlx', 'hdhd5', 'spaca6', 'ak4', 'azin1', 'ercc2', 'efna3', 'dennd1c', 'slc12a4', 'tspyl4', 'nrcam', 'gpr19', 'calcrl', 'sf3a1', 'slc7a2', 'vps13b', 'stap2', 'acadsb', 'lef1', 'abraxas1', 'laptm5', 'tprx1', 'coro1a', 'ccdc65', 'khdrbs1', 'vwc2l', 'tmem150b', 'oas1', 'csn1s1', 'map3k12', 'pramef14', 'lypla1', 'atp5mgl', 'ccdc34', 'cabp4', 'layn', 'trpc5', 'svil', 'zbtb14', 'septin12', 'b4galt1', 'eif4ebp3', 'nfx1', 'znrf2', 'nr4a3', 'hddc2', 'slitrk6', 'gtsf1', 'olah', 'nap1l5', 'fgf18', 'tmem43', 'ect2', 'rbfa', 'znf320', 'lig4', 'pold4', 'il2', 'styx', 'ubr3', 'slc25a37', 'anp32e', 'rptor', 'lep', 'dennd4b', 'ikzf4', 'glyctk', 'ppa1', 'spire1', 'ryk', 'lmtk3', 'socs2', 'npy2r', 'erap2', 'kif3a', 'map2k5', 'baiap2', 'mid2', 'wdr59', 'map4k4', 'mcm5', 'gtpbp2', 'qsox2', 'cdy2b', 'kifbp', 'mylk', 'asb13', 'cela3b', 'mpc2', 'ranbp3l', 'ninl', 'smim8', 'foxd2', 'crls1', 'lrrc61', 'sigmar1', 'zfp62', 'ccdc185', 'slc12a1', 'zfand4', 'mtnr1b', 'usp4', 'cavin4', 'mybpc1', 'cep19', 'jmjd4', 'yars1', 'slx1b', 'gpm6a', 'gpr142', 'pdss2', 'pilrb', 'zdhhc17', 'znf227', 'eif3l', 'klc3', 'ccdc30', 'cped1', 'msrb2', 'ccr8', 'mrpl9', 'fbxo32', 'ndufb3', 'tcerg1', 'tmprss12', 'gmpr', 'tmem116', 'pcyox1', 'foxf1', 'lap3', 'neu3', 'c10orf67', 'ptpru', 'pm20d2', 'clk1', 'gfra3', 'peak1', 'uggt1', 'mc1r', 'cfap36', 'cdca2', 'pla2g4c', 'ccndbp1', 'tsen2', 'ltbp3', 'h3c3', 'fmr1', 'hspa2', 'exd3', 'nt5dc4', 'gzmk', 'znf74', 'krtap10-7', 'ramp1', 'rapgef2', 'slc51a', 'or6c4', 'ckm', 'pnck', 'fam124b', 'gypa', 'herc6', 'cth', 'pea15', 'stub1', 'inhbc', 'crebzf', 'ece2', 'fcgr2a', 'camk2n1', 'hsfy2', 'slc22a15', 'clnk', 'cd164', 'rbm42', 'hnrnpa1l2', 'hsh2d', 'spdye1', 'cbln1', 'rgsl1', 'drd3', 'arglu1', 'rabl3', 'en1', 'jmjd7-pla2g4b', 'clec4e', 'map2', 'chrna6', 'cited2', 'pak1', 'kiaa0319', 'ezh2', 'grtp1', 'ppil4', 'syn1', 'abca5', 'spata3', 'xirp1', 'lipi', 'tifab', 'ifitm1', 'gucy1a1', 'ttpal', 'rad23a', 'zbtb41', 'krtap10-3', 'otop2', 'ctnnbl1', 'mideas', 'atrx', 'krtap5-7', 'ak9', 'ms4a7', 'msc', 'gria1', 'fam20b', 'ap5b1', 'fgf8', 'fam90a1', 'nln', 'or5b3', 'c19orf12', 'wdr31', 'tmem234', 'slurp1', 'pik3cd', 'amy2b', 'sh2b1', 'slc7a13', 'nckap1', 'dnah14', 'zhx3', 'gpr174', 'pdia2', 'tfap2b', 'myo1f', 'hsbp1', 'magoh', 'or5au1', 'ttc39b', 'pimreg', 'tlx3', 'krt28', 'h1-1', 'lmcd1', 'ppp2r2b', 'isoc2', 'psmd3', 'rims3', 'nbpf6', 'hrh3', 'susd1', 'alg1l2', 'cd3e', 'ttc6', 'lgals3', 'pkd1l1', 'mapk13', 'tbc1d30', 'actr3c', 'traf3', 'cyld', 'prr20a', 'muc13', 'znf576', 'cntn5', 'edem1', 'rap2b', 'slc38a3', 'cnep1r1', 'gja3', 'krt76', 'il36b', 'znf607', 'racgap1', 'or6y1', 'ifnw1', 'amigo3', 'hoxc4', 'galnt15', 'iqcc', 'tmem165', 'eif3h', 'fstl1', 'nans', 'tmeff2', 'gdpd3', 'atpsckmt', 'atp2b4', 'znf697', 'ankrd46', 'apoc1', 'cryba4', 'otof', 'wdr83os', 'znf670', 'syf2', 'neurog1', 'il1rapl1', 'crb3', 'timm21', 'cops3', 'tsfm', 'vti1b', 'stn1', 'alad', 'tmem222', 'suds3', 'kalrn', 'mrps34', 'kif5a', 'hmces', 'emp2', 'fbxo45', 'tchhl1', 'cpamd8', 'or5d16', 'plaat2', 'kansl2', 'commd3-bmi1', 'rmnd5b', 'dcbld2', 'hsd11b1', 'spart', 'scn5a', 'eppin-wfdc6', 'adcy8', 'dusp18', 'or51c1p', 'garem1', 'tspan11', 'il17rel', 'l3mbtl3', 'bbc3', 'kctd14', 'nsun7', 'arpc2', 'chmp2b', 'tbp', 'myh14', 'gpc2', 'hdc', 'rnf114', 'swap70', 'churc1', 'mgat4c', 'mpp2', 'ugt2a1', 'ppargc1b', 'klf12', 'b4galnt2', 'ncs1', 'dnaaf3', 'tnfaip1', 'rnasek-c17orf49', 'zmym1', 'trim50', 'tarbp2', 'muc19', 'atrip', 'abhd17b', 'zar1', 'krt27', 'arl2-snx15', 'ppp1r3d', 'h2bc18', 'znf626', 'tspy10', 'c21orf91', 'or52e6', 'cpsf4', 'gpr61', 'galnt16', 'adcy7', 'tmem30a', 'ifngr2', 'pitx1', 'rnf133', 'hcrtr2', 'vps16', 'opn1sw', 'nxf3', 'ccdc177', 'p2rx3', 'clec17a', 's100a6', 'cdca4', 'emg1', 'vapb', 'psmc3ip', 'osr2', 'phlda1', 'znfx1', 'prpf3', 'egf', 'myh7', 'ugt1a9', 'miox', 'rpa4', 'plag1', 'il36rn', 'il12a', 'spred2', 'ipo5', 'psd', 'mageb6b', 'gpr137c', 'tmem119', 'ptprs', 'gtf2h2c', 'mrpl48', 'cbx6', 'or13d1', 'h2bc6', 'vps13a', 'znf229', 'tatdn2', 'il31', 'cep97', 'fastkd3', 'ccdc159', 'clca2', 'lypd8', 'ankrd62', 'gpr160', 'uba2', 'rapgef4', 'mrps18a', 'lrch1', 'znf667', 'sap30', 'pank2', 'clec2l', 'polr2c', 'slc19a3', 'rnaset2', 'setd9', 'osbpl3', 'syvn1', 'pstpip2', 'atp1a2', 'rplp1', 'cdh15', 'srd5a2', 'lrrc34', 'alg8', 'znf652', 'cerkl', 'itga11', 'septin10', 'mrps7', 'hrh2', 'slc46a3', 'ilvbl', 'pura', 'csrnp2', 'kpna5', 'numbl', 'ggn', 'sdr9c7', 'c5orf58', 'ciita', 'hkdc1', 'znf789', 'tspo2', 'pramef12', 'kctd6', 'ndufaf2', 'boll', 'ube2e2', 'ulk4', 'dap3', 'ubxn2b', 'ccdc182', 'ncoa3', 'klk2', 'rnpc3', 'spon2', 'krt1', 'klhl1', 'ccser1', 'senp1', 'fcsk', 'pip4p2', 'gpr6', 'snrpn', 'fam53a', 'slc4a2', 'bcl2l11', 'eif4g2', 'clcn1', 'man1a1', 'amy1b', 'ran', 'dnah3', 'dph3', 'abhd12', 'ninj1', 'c1d', 'cyp2e1', 'sh3rf3', 'or4c15', 'glt6d1', 'mapkapk3', 'opn5', 'ikzf1', 'impa2', 'fancg', 'samd3', 'defb119', 'gadl1', 'gcnt4', 'dnhd1', 'nox4', 'dck', 'clec10a', 'ccl8', 'ift140', 'or6c65', 'zfyve21', 'man2a2', 'stk40', 'cd52', 'unc5b', 'gnaz', 'spg21', 'bloc1s1', 'ahnak2', 'kcnip1', 'pitx2', 'dnph1', 'sp1', 'kcnh6', 'tmtc4', 'rerg', 'mmp20', 'atxn1', 'celsr1', 'fam9c', 'scp2d1', 'usp1', 'plppr2', 'pmf1-bglap', 'ndufaf6', 'atp6v0a4', 'rmdn3', 'nbeal2', 'stab1', 'sfswap', 'fndc4', 'ebp', 'sc5d', 'sptssa', 'prmt3', 'slc38a6', 'phyhipl', 'pnkp', 'brd4', 'or52a5', 'ckmt1a', 'hexa', 'acad9', 'pelp1', 'ormdl3', 'taf10', 'sp5', 'hk2', 'clrn1', 'ankef1', 'ccdc180', 'prpsap2', 'slc10a2', 'ero1b', 'slc4a10', 'rhce', 'tmod3', 'rfesd', 'myl4', 'aifm2', 'rps15', 'ppp2ca', 'znf839', 'zcrb1', 'proser2', 'rfx5', 'ceacam3', 'anxa2r', 'cnot2', 'tdgf1', 'trip11', 'tmprss11f', 'ndor1', 'unc80', 'ptprcap', 'kmt5a', 'poc5', 'pcgf1', 'cbx8', 'ess2', 'prdm15', 'uck2', 'dennd3', 'lman1l', 'nit2', 'pax1', 'enoph1', 'naa11', 'stxbp5l', 'dscaml1', 'pik3c2a', 'supt3h', 'ehhadh', 'fam229a', 'fbxo22', 'cib4', 'creg1', 'dctn4', 'dnai4', 'prok2', 'disc1', 'xcl2', 'ubald2', 'kat5', 'tpi1', 'lzic', 'oip5', 'c1qbp', 'nol8', 'psmc3', 'hpr', 'ilk', 'syt3', 'cldn24', 'usp38', 'otoa', 'alas2', 'ankib1', 'ppp1r14a', 'ak8', 'zbtb8b', 'ears2', 'stk4', 'acox3', 'cmss1', 'ggcx', 'cfap46', 'spn', 'vash2', 's100p', 'dram1', 'tnp1', 'atp6v1g2-ddx39b', 'mesd', 'mageb1', 'tnnt2', 'usf2', 'nom1', 'chadl', 'edf1', 'fstl5', 'evc', 'txndc9', 'or10h3', 'hspb8', 'marchf9', 's100a14', 'wdr25', 'tcf24', 'mip', 'agpat3', 'pry2', 'hoxb7', 'il32', 'amer1', 'traf6', 'nlrp4', 'akap12', 'gphb5', 'klk14', 'srfbp1', 'ccl25', 'actr1a', 'prr5', 'smim19', 'paxip1', 'irx5', 'sav1', 'tpcn2', 'znf76', 'cdh5', 'gpr87', 'eci1', 'tsnaxip1', 'nt5dc1', 'dydc1', 'rbmx', 'sohlh2', 'l1td1', 'rars1', 'ddx19a', 'mastl', 'icam4', 'znf683', 'elovl1', 'syt7', 'ccdc105', 'utrn', 'slc1a6', 'tbx10', 'bmpr2', 'nsun5', 'prpf19', 'sdha', 'slc12a5', 'zfyve16', 'tm4sf19', 'tnni1', 'dipk1c', 'adcy10', 'chst5', 'vwa3b', 'mtfp1', 'vps51', 'uts2b', 'ercc6l', 'pdcl3', 'pitpna', 'hapln1', 'c10orf95', 'pced1a', 'slc35g3', 'ptpn6', 'cpb1', 'akap13', 'loxl3', 'atp6v0b', 'or2l2', 'lama3', 'actbl2', 'trappc5', 'abcb6', 'draxin', 'rasa1', 'chrm3', 'dact3', 'meak7', 'arih2', 'edc4', 'lcn10', 'tmem248', 'nkg7', 'mal2', 'eaf1', 'capsl', 'ucn', 'dync1li2', 'efr3a', 'bmp5', 'tead3', 'phf20', 'wwc1', 'abcf2', 'mdk', 'srgap2b', 'snapin', 'qrich1', 'dip2b', 'clip2', 'znf322', 'hmgcs2', 'mrps11', 'serpina5', 'cthrc1', 'ids', 'acss3', 'uqcrb', 'urgcp-mrps24', 'cmc4', 'adam28', 'ruvbl1', 'inpp5a', 'parp11', 'stap1', 'setmar', 'nfam1', 'golga4', 'lmnb2', 'sec23b', 'ext2', 'ebag9', 'fam216a', 'slc30a4', 'sh2d6', 'ace', 'phf24', 'tada2b', 'aldh1l1', 'chrdl1', 'lrrc72', 'klhl38', 'sh2d1b', 'or4d6', 'gtf2a1', 'cdc14b', 'dmkn', 'kcnk9', 'vamp8', 'lce4a', 'krtap20-1', 'tars1', 'or1l8', 'lag3', 'alg10b', 'jup', 'lrtm1', 'slc22a11', 'med8', 'rtl9', 'akap6', 'c16orf82', 'derl2', 'wars1', 'zacn', 'smim1', 'rasgrf2', 'ankrd34a', 'cox7a2l', 'mindy3', 'prkrip1', 'c6orf120', 'cfap74', 'nwd1', 'ct47a9', 'kyat3', 'slc25a3', 'eif1ax', 'myo1e', 'lrwd1', 'ip6k2', 'cpo', 'ptpn14', 'rad51ap2', 'mfsd13a', 'mvb12a', 'rpl26l1', 'krt80', 'cenpt', 'astl', 'glis1', 'herpud1', 'itln1', 'folr1', 'rflna', 'eed', 'lta4h', 'tmem178a', 'slc35c1', 'mcam', 'fgd5', 'atg4d', 'syndig1', 'c1orf87', 'cep76', 'plpp1', 'prap1', 'maged1', 'cfap65', 'tmem41b', 'ankrd61', 'aadat', 'ccdc71l', 'ptgs1', 'tcp1', 'ptgds', 'ccdc17', 'znf488', 'maged2', 'gan', 'eral1', 'emid1', 'psma5', 'pik3r6', 'h4c8', 'abcb7', 'hand2', 'timp1', 'rnf7', 'flg2', 'dbx2', 'spin4', 'prg4', 'dach2', 'or10p1', 'vps72', 'mex3a', 'ccdc170', 'tmem134', 'fuca2', 'kmo', 'hoxd11', 'cd1e', 'ncan', 'ugcg', 'ssx5', 'znf212', 'psen2', 'fam110b', 'pcgf3', 'stard6', 'pcsk1n', 'olig2', 'ttc21b', 'olfm1', 'jade1', 'pla2g7', 'tnfsf12-tnfsf13', 'ube2d3', 'slc5a7', 'klf11', 'ppp2r1b', 'ppif', 'mta2', 'sec24a', 'unc50', 'mt-co2', 'cnot11', 'btbd6', 'lat2', 'rabl2a', 'jph4', 'rpl23', 'lrp2', 'kpna2', 'p2rx2', 'pola2', 'znf492', 'krt85', 'rfpl3', 'thsd7a', 'rassf8', 'narf', 'galnt7', 'ddx60l', 'hmbox1', 'cdh22', 'rbm19', 'tmed4', 'ttll2', 'pgap4', 'ro60', 'rasal1', 'flrt3', 'stmn3', 'lypd2', 'mcm9', 'dcun1d4', 'pyroxd2', 'slc37a3', 'sh3tc2', 'mlph', 'rnls', 'cacna1d', 'abca4', 'cxcl5', 'olig1', 'stx2', 'adam22', 'atp1b2', 'or2m5', 'a4gnt', 'nipa2', 'ackr3', 'adm', 'or51f1', 'plod2', 'uqcc1', 'tram2', 'efnb1', 'gimap1-gimap5', 'nfkb1', 'tceal9', 'phlpp1', 'or4p4', 'sh3bp1', 'rhno1', 'fbxo41', 'cdhr4', 'pigt', 'txlnb', 'apbb1ip', 'plekha2', 'mien1', 'zscan32', 'glce', 'chrna1', 'fbxo4', 'lgi4', 'rapgef6', 'rpl7l1', 'scube3', 'pik3r3', 'znrf3', 'adhfe1', 'mrpl18', 'cr1l', 'polr2j2', 'vav1', 'znf518a', 'adora2b', 'dcaf8l1', 'nphp1', 'il13', 'ufc1', 'mettl7a', 'kynu', 'aqp6', 'gdpd4', 'il1a', 'tex10', 'snap91', 'pvalef', 'rps16', 'add1', 'man1b1', 'jdp2', 'c3orf14', 'serinc4', 'znf518b', 'smarca2', 'carmil1', 'capn8', 'camk2b', 'rgs14', 'cxcl8', 'map1lc3a', 'lamtor2', 'xrcc3', 'ttc28', 'c12orf71', 'fancd2os', 'ermap', 'ddx4', 'akt1s1', 'fen1', 'rnf167', 'atp6v0e2', 'pde7b', 'ctps2', 'or4f17', 'c1ql3', 'prdm12', 'cers3', 'ccdc68', 'coil', 'ubac2', 'osbpl8', 'dusp13', 'fam133b', 'trpm7', 'avp', 'spanxn4', 'tmem262', 'rufy4', 'tbx4', 'usp17l18', 'lipk', 'cacna2d3', 'htr1d', 'znf878', 'chrna10', 'kidins220', 'alkbh4', 'spx', 'hnmt', 'srrd', 'hexim1', 'tomm20', 'gli1', 'rpl39', 'spryd4', 'cd1c', 'mtus1', 'trim49c', 'spata18', 'hpdl', 'xiap', 'rprd2', 'spata20', 'cers2', 'adgrg2', 'rpl35a', 'scgb3a1', 'macrod2', 'klf8', 'abcb8', 'hsd17b14', 'aspscr1', 'sbf1', 'med19', 'ints10', 'atp5mc1', 'cep170b', 'ido1', 'p2rx6', 'ambp', 'ginm1', 'nudt19', 'zmynd8', 'abhd5', 'ccnl1', 'gpr62', 'tmem123', 'cntln', 'tyw5', 'polg2', 'wnt2b', 'ccdc178', 'hip1r', 'usp7', 'sdr39u1', 'disp2', 'cygb', 'mtfr1l', 'c5orf47', 'ttc26', 'rfpl2', 'lbp', 'calb1', 'mms22l', 'eif3f', 'bahd1', 'tbx15', 'pcdh7', 'slc26a2', 'pyroxd1', 'eya1', 'hoxd1', 'or7a17', 'crtc1', 'zbtb45', 'mipol1', 'tob2', 'tardbp', 'cyp2j2', 'cap2', 'opcml', 'btbd1', 'znf695', 'gdf1', 'ric3', 'patl1', 'mamld1', 'lcn8', 'gon4l', 'znf254', 'slc17a9', 'nek3', 'prm3', 'umod', 'paxbp1', 'trpc1', 'anp32b', 'alx4', 'pde8b', 'jam2', 'egfl6', 'znf534', 'wapl', 'usb1', 'nr1i2', 'snx32', 'tmem225', 'znf791', 'tagln3', 'fgf14', 'anpep', 'hps1', 'rbm39', 'psmd10', 'pbk', 'apoc3', 'or5m10', 'hid1', 'cert1', 'tspan18', 'zfyve9', 'znf596', 'tubd1', 'helz', 'neto2', 'dmwd', 'mrgbp', 'ufd1', 'pde4d', 'clock', 'znf782', 'poc1b', 'tma7', 'emc10', 'yeats4', 'ldb3', 'ticrr', 'stk32b', 'clcn2', 'psip1', 'dclre1c', 'slamf1', 'or9i1', 'klhdc7a', 'rbm33', 'arhgap40', 'bpifa1', 'rnf175', 'prr23a', 'ranbp1', 'cdc26', 'orc6', 'dtnbp1', 'tsks', 'wdr87', 'zc3h12b', 'fxyd3', 'pvalb', 'c17orf99', 'kcnb1', 'kprp', 'ccdc88c', 'gnb5', 'megf9', 'uchl5', 'or8d2', 'thnsl2', 'trim14', 'mto1', 'arhgap15', 'usp20', 'gpr107', 'trem1', 'nsg1', 'irf2bp2', 'h2bw2', 'glud1', 'becn2', 'or6q1', 'fpr2', 'gas1', 'spag17', 'wdr36', 'phkg2', 'wdpcp', 'ptn', 'rpl36a', 'cap1', 'dcstamp', 'samd4b', 'mfn1', 'fam170b', 'ccdc181', 'ifnb1', 'ing3', 'bckdhb', 'psd4', 'isca2', 'mrrf', 'wnt7b', 'prcp', 'birc6', 'bcl6b', 'klhl15', 'rpl3', 'ift172', 'kcnab2', 'tnfrsf10a', 'potej', 'tmem260', 'or1f1', 'sema3b', 'rpl36', 'jak2', 'rhbdd2', 'crybb2', 'pdia5', 'pms2', 'arl6ip5', 'or52i2', 'rrm2b', 'ubap1', 'slc35b1', 'shb', 'axin1', 'lonp2', 'psmd9', 'gprc5b', 'gsta2', 'nrk', 'arid4b', 'scg3', 'nupr1', 'carm1', 'arl14ep', 'adh4', 'hddc3', 'jtb', 'bsnd', 'h2ab3', 'cpt2', 'arhgap24', 'gipc1', 'tmem81', 'taf7', 'ppfia3', 'sfrp1', 'spdye14', 'med26', 'myo5b', 'gpx8', 'baiap2l1', 'podxl2', 'zscan10', 'slc6a4', 'znf823', 'kcnk18', 'dnajb4', 'tcf23', 'ceacam8', 'cdk5', 'abcc10', 'vsx1', 'tmem68', 'fzd8', 'arhgdia', 'rad54b', 'rtn4ip1', 'trpm5', 'meiosin', 'plglb2', 'map3k19', 'ccni', 'nkx6-1', 'ripply1', 'prom1', 'nr6a1', 'prr22', 'ddit4l', 'odf3l2', 'suz12', 'meox2', 'tp53bp2', 'plxnb2', 'ccdc200', 'bag3', 'pias4', 'sumo3', 'pcdhga3', 'tubb2b', 'mrpl28', 'slc36a3', 'ugt8', 'ankmy1', 'st3gal5', 'synpo2l', 'tfdp2', 'eif3b', 'gpr25', 'ctsg', 'npvf', 'dolk', 'rnf126', 'resp18', 'gjb4', 'dlk1', 'lgi3', 'sctr', 'nkx2-6', 'dnajc5b', 'ddx19b', 'gpt2', 'wnt2', 'cutc', 'msrb3', 'mfap3', 'fcf1', 'tymp', 'n4bp3', 'tmem114', 'or6c6', 'fbxo6', 'edil3', 'znf454', 'fntb', 'cntn2', 'fam20a', 'gcn1', 'tpp1', 'nr2f1', 'ikzf3', 'tubgcp4', 'eps8l1', 'znf33a', 'hsfx2', 'inmt-mindy4', 'slc9a4', 'lrrc9', 'nxf2', 'syp', 'nox1', 'trub2', 'cab39', 'afdn', 'ambn', 'pnpla4', 'kcnc2', 'foxn4', 'tspan16', 'rbpjl', 'kri1', 'golga6l7', 'dct', 'mtif2', 'gpr78', 'hoxb13', 'ctrl', 'c2cd4a', 'hvcn1', 'arhgap6', 'acvrl1', 'unk', 'mcm6', 'galnt10', 'znf223', 'thap10', 'cep95', 'htr3e', 'tmem179b', 'gal3st4', 'tmem131l', 'trim9', 'anxa1', 'acsm1', 'tcl1b', 'med28', 'inpp5f', 'ptrh1', 'slc4a3', 'bmf', 'or4d5', 'krtdap', 'vps26c', 'lyzl4', 'slc9a8', 'crybg2', 'plekhg1', 'ctns', 'rergl', 'bves', 'trmt1', 'hhip', 'hdac7', 'dbr1', 'grik5', 'apeh', 'grm8', 'jazf1', 'ofd1', 'nlrp5', 'mplkip', 'cntn6', 'hrct1', 'stk25', 'scml4', 'plac8', 'ugt3a2', 'tpgs2', 'lpar5', 'pogk', 'adh6', 'cgb2', 'srf', 'nanp', 'spink8', 'pcolce2', 'mlf1', 'mzf1', 'brinp3', 'iscu', 'ifnlr1', 'znf568', 'psmd14', 'prkcb', 'ints12', 'dhrs7c', 'tacr1', 'lrpprc', 'hmmr', 'ccdc124', 'sec14l2', 'wdr43', 'prr35', 'rtn1', 'wdr5b', 'spint2', 'ctnnb1', 'tuba1a', 'znf638', 'nanogp8', 'znf394', 'pole4', 'zdhhc11b', 'gtsf1l', 'madd', 'acmsd', 'vnn2', 'zic2', 'mrpl37', 'ahr', 'hcst', 'pde1c', 'gapdh', 'tgfbrap1', 'itga4', 'or1q1', 'ramp3', 'shisa3', 'mcemp1', 'uggt2', 'taldo1', 'fbxo36', 'epb42', 'otud7a', 'nphp3', 'dlgap5', 'or2b6', 'paqr3', 'pdcd11', 'tex14', 'acp4', 'abat', 'iba57', 'ap1m2', 'irf2', 'rgcc', 'pin4', 'commd5', 'tbxa2r', 'pomgnt1', 'adamts5', 'nras', 'gype', 'or6n2', 'pou1f1', 'krtap23-1', 'eif1ad', 'rnf220', 'cel', 'slitrk5', 'prkaa2', 'ptcd2', 'rhob', 'c20orf141', 'mterf4', 'cd70', 'inmt', 'dnaja1', 'zbed4', 'chst2', 'zhx1', 'cox17', 'stard13', 'c1orf50', 'lemd1', 'sumf2', 'rhbdl2', 'pclaf', 'sgk3', 'vn1r2', 'myl9', 'enc1', 'wdr55', 'znf266', 'crtap', 'plin2', 'adh5', 'arnt', 'tspan12', 'npl', 'pxdnl', 'ccdc57', 'zc3h13', 'znf154', 'parp10', 'pafah1b2', 'd2hgdh', 'itm2c', 'atad3c', 'slc2a1', 'fez1', 'baz1b', 'grxcr1', 'hey2', 'lsm6', 'tlr8', 'tmem71', 'asic2', 'arl6', 'ppp1r14c', 'ctsk', 'ackr1', 'fosl2', 'ube2c', 'homer3', 'pde4a', 'alg14', 'thop1', 'zcchc7', 'arhgef1', 'znf410', 'fbp2', 'kcnq4', 'vwde', 'enpp7', 'ankrd24', 'marchf10', 'lrrc30', 'tmem9', 'cycs', 'vpreb1', 'nme1', 'smad5', 'gtdc1', 'iah1', 'tp73', 'atp8a1', 'coq3', 'ntrk3', 'oprpn', 'slc48a1', 'gtf2a2', 'slfn13', 'usp34', 'otud6a', 'c11orf97', 'csnk1g3', 'mphosph6', 'znf174', 'mbd3l4', 'dsc2', 'fiz1', 'nrap', 'sgsm2', 'krtap20-2', 'izumo4', 'or4m1', 'fastkd5', 'rd3l', 'cpeb2', 'adra1a', 'ceacam6', 'ulk1', 'lrrc25', 'lyzl1', 'pipox', 'thbs3', 'mmrn1', 'lamp3', 'clec3b', 'acot12', 'samd15', 'efcab11', 'cracd', 'rhcg', 'pglyrp4', 'nphp3-acad11', 'zranb1', 'ung', 'asxl2', 'angpt1', 'sost', 'prkdc', 'heatr3', 'tekt2', 'uts2r', 'cdkn2aipnl', 'fzd9', 'lce3e', 'nusap1', 'tmem258', 'tgfb1i1', 'afp', 'cd53', 'gpr148', 'spata31e1', 'tmem238l', 'znf549', 'tfec', 'cxcr3', 'cd63', 'egln3', 'mtss1', 'or5h2', 'or10h1', 'blmh', 'dynap', 'usp13', 'slc2a4rg', 'wdr5', 'tac1', 'st20-mthfs', 'med12l', 'syt10', 'arhgap36', 'chml', 'slfn12', 'vdac1', 'caap1', 'dis3l2', 'ddx21', 'stx4', 'omp', 'stoml3', 'trhr', 'pus10', 'pex1', 'sec14l3', 'spdye4', 'shcbp1', 'fgf4', 'or5ak2', 'srsf11', 'sar1a', 'stard3nl', 'ttc12', 'cd101', 'hnrnpul2-bscl2', 'fgf5', 'incenp', 'tekt5', 'dnase2', 'rad23b', 'slc52a1', 'gga3', 'mrpl57', 'csnk1g1', 'wdr3', 'ugt1a5', 'tppp2', 'cd80', 'znf703', 'tmem232', 'nudt1', 'fam133a', 'dhx37', 'cep41', 'dmrta2', 'ccne2', 'dhx40', 'pdss1', 'timeless', 'scnn1g', 'slc25a33', 'pwwp2a', 'mpv17l2', 'exoc7', 'lmbrd2', 'fbxw12', 'neto1', 'ankrd13a', 'kiss1r', 'tubgcp3', 'or1n2', 'rsph14', 'tuba4a', 'rictor', 'abhd10', 'grem2', 'serp1', 'supt20hl2', 'brd3os', 'eloa2', 'h4c15', 'cemp1', 'znf273', 'mybph', 'dda1', 'adgb', 'nckap5l', 'pard3b', 'tmem167b', 'bhlha15', 'tmem143', 'ddx46', 'spdye9', 'exo5', 'katnal1', 'cdk11b', 'cyp3a43', 'lrrc3b', 'rpa2', 'rspo4', 'robo4', 'nmnat2', 'adgrd2', 'pld4', 'tex15', 'mogat1', 'kin', 'myrf', 'znf625-znf20', 'defb108b', 'znf441', 'pabpc1l2a', 'ppp4r2', 'itpkc', 'gal', 'ubn1', 'abcg2', 'cirbp', 'golga8s', 'adam20', 'ddtl', 'cryaa', 'bmp10', 'fer1l6', 'qser1', 'ca1', 'uba52', 'klkb1', 'zbtb5', 'mfsd14a', 'znf431', 'spag5', 'dzank1', 'tmem79', 'prl', 'magea9', 'sapcd2', 'ankrd31', 'nudt4b', 'lrit3', 'cdrt15l2', 'nhsl1', 'arih1', 'tmem9b', 'sox8', 'rfx6', 'cdkn2c', 'ccny', 'slc38a7', 'ndst2', 'cnfn', 'pikfyve', 'arhgef10l', 'pole', 'rbm14-rbm4', 'kcnj8', 'adgrg1', 'ncf1', 'wtap', 'tbc1d2b', 'disp1', 'myo3b', 'cyp1b1', 'pomgnt2', 'nudt9', 'rab26', 'slc44a1', 'st7l', 'ccdc6', 'dmrt2', 'pla1a', 'srsf10', 'sulf1', 'setd5', 'igfbp3', 'cst5', 'ephb1', 'elapor1', 'psmb6', 'flywch2', 'kif13a', 'polr2f', 'hecw2', 'orai3', 'ramp2', 'krtap19-3', 'zdhhc9', 'spaca7', 'satl1', 'tsacc', 'ikbkg', 'ppil1', 'scd5', 'nxpe2', 'timm8b', 'cidec', 'iqch', 'lig1', 'exoc6b', 'sh3pxd2b', 'fbxo9', 'cop1', 'inpp5e', 'scarb1', 'usp15', 'catsper1', 'gucd1', 'krtap10-1', 'eml3', 'vgf', 'smndc1', 'pou2af1', 'hoxd12', 'h3c4', 'trappc10', 'ankrd63', 'mmp21', 'epha4', 'spin3', 'il6', 'rasl10a', 'exoc3l4', 'mmab', 'dctd', 'or13f1', 'tdrd7', 'ppp2r5c', 'znf837', 'chic1', 'msmb', 'rrp8', 'cluap1', 'chst12', 'crem', 'polb', 'lrrc1', 'fam107b', 'zfp28', 'slc37a2', 'c17orf67', 'pbxip1', 'or13c5', 'npat', 'git1', 'mtmr7', 'tet2', 'snrnp27', 'cdh17', 'myl2', 'ambra1', 'dcaf4l1', 'tagln2', 'xg', 'ptprn', 'fam186b', 'usp36', 'oxsm', 'araf', 'nps', 'atg4b', 'ocstamp', 'chpf2', 'dock3', 'dclre1b', 'magi1', 'mtmr11', 'aox1', 'h2bc9', 'reep4', 'gfra4', 'gh2', 'tacc1', 'znf821', 'poglut3', 'napg', 'or10g9', 'mobp', 'lzts1', 'or9a4', 'pnpla3', 'hoxa1', 'or1e2', 'or52n1', 'man2c1', 'trim62', 'arpc4', 'ints4', 'znf680', 'adam29', 'actr10', 'bola2', 'abcb5', 'nr2c2', 'or4f15', 'msh3', 'wdr27', 'arhgef17', 'cd33', 'ivl', 'rtp2', 'trim64c', 'tmigd2', 'usp11', 'apol6', 'znf222', 'lin52', 'lysmd4', 'uevld', 'xdh', 'cad', 'coq9', 'itgb5', 'nqo1', 'vta1', 'cdk5rap2', 'fam98b', 'api5', 'dnpep', 'polr1a', 'or8d1', 'ak3', 'ms4a13', 'mxra8', 'c11orf71', 'or6c3', 'ino80b', 'mtif3', 'hao2', 'il18bp', 'nacc1', 'cep68', 'rabl6', 'crebl2', 'etv2', 'armcx4', 'dnai2', 'nsrp1', 'mreg', 'fkbp1c', 'map9', 'arrdc4', 'smpdl3b', 'mrpl43', 'slc13a2', 'cebpa', 'agap4', 'or11h2', 'lrrc17', 'sh3glb1', 'rilpl1', 'cxcl16', 'slc19a2', 'scaf8', 'cryab', 'oaz1', 'impact', 'tgif2lx', 'slc49a4', 'nr1i3', 'zscan29', 'vstm5', 'vstm2a', 'smarca1', 'ctss', 'tmem187', 'nedd1', 'dnajc5', 'fam222a', 'med1', 'bend3', 'fmo4', 'fzd6', 'kntc1', 'mthfsd', 'mbl2', 'notch2', 'or7g3', 'anapc16', 'tbc1d25', 'dock9', 'rbm10', 'nkx3-2', 'kctd17', 'bpnt1', 'abcg8', 'fam228a', 'cldn18', 'tcp11x1', 'bco1', 'rheb', 'hoga1', 'kdm4e', 'rab11fip2', 'cdh18', 'mapk8ip3', 'fbxl3', 'kcp', 'prr19', 'bloc1s5', 'ifit3', 'etv6', 'gimap4', 'ikzf2', 'usp25', 'coq8b', 'tcf4', 'ablim2', 'strap', 'fnbp1', 'cldn4', 'plcxd2', 'fancl', 'triqk', 'gna13', 'duxa', 'kctd8', 'prkci', 'zpld1', 'gapt', 'zkscan2', 'cgb7', 'bckdha', 'nrarp', 'lrch4', 'ctag1b', 'tpst2', 'zcchc13', 'stx17', 'bivm', 'tmprss13', 'wdr33', 'themis2', 'snapc3', 'osgin1', 'acvr2a', 'p4ha2', 'pax4', 'adad1', 'gnb4', 'chst3', 'gpsm1', 'rnd2', 'patj', 'decr1', 'or52k2', 'sh3gl1', 'gabrb2', 'ciao3', 'hsd17b11', 'tmem121', 'egfr', 'fam169a', 'fancc', 'csta', 'eps15', 'smim6', 'hsf2bp', 'edaradd', 'sap130', 'pdcl2', 'tmem223', 'accs', 'atp6v1f', 'slc5a3', 'bfsp1', 'amdhd1', 'catsper3', 'capns1', 'mss51', 'notch3', 'orc5', 'znf264', 'phyhd1', 'krt36', 'znf541', 'acbd4', 'pyy', 'abhd14b', 'cd2bp2', 'pex5l', 'mtln', 'tubg1', 'rarres1', 'pou3f4', 'atp6v0d2', 'kctd7', 'b4gat1', 'dctn5', 'atxn10', 'map3k8', 'snx30', 'prkg1', 'kcnq3', 'rbpms2', 'ap3m2', 'rab11fip5', 'pcdhga4', 'far1', 'mmp24', 's100a8', 'vgll3', 'cpt1b', 'ikbip', 'snip1', 'cdca5', 'unc93a', 'smpd1', 'smyd4', 'raver2', 'dpm3', 'dpysl3', 'tmem88', 'kcna1', 'cdadc1', 'il24', 'slc45a3', 'ubtd2', 'zranb3', 'etv1', 'ankrd36c', 'elac1', 'vwc2', 'wnk2', 'rsph10b2', 'prlh', 'thap5', 'piwil4', 'hoxa2', 'slbp', 'ctdspl2', 'cyp24a1', 'or52n2', 'fap', 'rpl22', 'sh3glb2', 'dmd', 'nsa2', 'pcf11', 'kyat1', 'cited4', 'fam111b', 'kctd19', 'itgb6', 'bhmt2', 'hmhb1', 'zbtb44', 'klf14', 'efcab3', 'dnah5', 'znf517', 'cdh12', 'babam2', 'npff', 'orc1', 'mlh1', 'tnks1bp1', 'fars2', 'tshb', 'znf485', 'ropn1b', 'gtf2ird2', 'c5orf46', 'gpbp1l1', 'aph1b', 'a1bg', 'slc25a16', 'cul7', 'klhdc4', 'atp5f1c', 'znf396', 'ptger4', 'ddx31', 'apoa1', 'dpysl5', 'pdcd10', 'scube2', 'rpusd1', 'emc7', 'cstf2', 'mtpn', 'tti1', 'clec6a', 'ska1', 'irak1', 'fkbp4', 'spdye2', 'rem1', 'itpripl1', 'kiaa0408', 'treml1', 'gins2', 'pla2g12a', 'mt3', 'acp5', 'nkpd1', 'atraid', 'ebi3', 'znf562', 'oxsr1', 'gng13', 'mrpl54', 'ndufaf7', 'arsb', 'klhdc3', 'mlnr', 'fer', 'gdf11', 'ccdc77', 'ptpn7', 'ppil2', 'krt72', 'pax2', 'setx', 'hbd', 'ddah1', 'coro2b', 'ints5', 'znf250', 'psmg1', 'retreg3', 'mical3', 'rabl2b', 'mbnl3', 'sepsecs', 'pla2g4a', 'magee1', 'cep57l1', 'flt1', 'piga', 'serpina12', 'ddx27', 'elf5', 'fam184b', 'rab20', 'bnip2', 'tlr3', 'isoc1', 'sgta', 'znf585b', 'ift80', 'btbd16', 'oxtr', 'znf639', 'prdx6', 'simc1', 'anxa7', 'spag7', 'tulp3', 'micu2', 'ppp1r1a', 'traf1', 'bgn', 'sox17', 'ccdc69', 'spink9', 'bicdl2', 'arid1b', 'rnf150', 'slco1b3', 'hk1', 'rnf6', 'apc', 'elfn1', 'tgif2ly', 'idua', 'smurf2', 'bend4', 'smarce1', 'rtn3', 'mgll', 'atp5f1d', 'tnnc1', 'znf304', 'emx1', 'slc6a20', 'or4b1', 'best3', 'psma7', 'klhl40', 'zmat2', 'znf98', 'c20orf144', 'pfkp', 'terf1', 'bmp8a', 'ybey', 'madcam1', 'tnfrsf9', 'bambi', 'iqcb1', 'sycn', 'chchd1', 'jag2', 'kctd18', 'st8sia6', 'abi3bp', 'ctsd', 'igll5', 'glrx2', 'crp', 'amotl2', 'stk33', 'mamdc2', 'c1orf68', 'txnrd2', 'sema5a', 'or10g6', 'focad', 'pgp', 'or6m1', 'gng3', 'spesp1', 'edn1', 'parp4', 'gatm', 'magt1', 'gabrr3', 'etfdh', 'mapkapk5', 'cbx2', 'prnd', 'clec2b', 'elmo1', 'map3k9', 'susd5', 'grxcr2', 'cog7', 'erich6b', 'cnn2', 'or8h2', 'insyn2b', 'panx2', 'ascl4', 'svopl', 'smarcd2', 'ywhaz', 'lasp1', 'pcdhgb1', 'npipa8', 'epn2', 'pacsin2', 'tex49', 'phgr1', 'sft2d3', 'rnf166', 'hyal3', 'pclo', 'cwc27', 'c1qb', 'sned1', 'rae1', 'grina', 'smim24', 'kpna6', 'arpc4-ttll3', 'sbspon', 'spanxb1', 'marco', 'arhgef3', 'smco1', 'pdzd4', 'mafg', 'il15', 'or1n1', 'prss16', 'tmem170a', 'cish', 'ap1m1', 'nfkbia', 'asb12', 'c11orf68', 'flvcr2', 'ppp2r2d', 'rcbtb1', 'dennd4a', 'ptpn2', 'slc28a2', 'pappa2', 'tvp23b', 'spg7', 'npas1', 'rdh10', 'golm2', 'piezo2', 'or2s2', 'theg', 'cdan1', 'dtwd2', 'ppil6', 'h2ax', 'nt5dc3', 'gabarap', 'mvd', 'cda', 'pnma2', 'msh4', 'lsm8', 'crispld2', 'znf669', 'ctxn1', 'aoah', 'tbc1d8', 'grpel2', 'ednra', 'foxj3', 'rarg', 'plxnc1', 'atp13a3', 'gmppa', 'atp5pb', 'tpm3', 'ptprt', 'spz1', 'ahsa1', 'dgkk', 'plekhd1', 'osbpl6', 'slc35e1', 'fam81a', 'wnt1', 'igsf9b', 'immp1l', 'morc1', 'zdhhc1', 'tent5c', 'h2aj', 'rpl18a', 'cnst', 'mrm3', 'uqcc3', 'keap1', 'fam163a', 'aldh8a1', 'itga1', 'zranb2', 'il17b', 'tshz1', 'atf7', 'galm', 'ccpg1', 'hmgb2', 'map2k2', 'ajuba', 'tspan13', 'nt5c3b', 'kif12', 'lgals9', 'ccser2', 'grid2ip', 'msmp', 'ppig', 'eif3a', 'magea11', 'fam3d', 'rbck1', 'polr1c', 'emilin2', 'egr2', 'rab11b', 'gpr88', 'foxl1', 'pik3cg', 'tssk2', 'irf2bp1', 'slc20a2', 'notch1', 'soga3', 'p3h1', 'zhx2', 'fev', 'ywhah', 'efna4', 'hpcal1', 'rora', 'tspan33', 'scn8a', 'muc3a', 'spo11', 'gpr33', 'sri', 'cd55', 'rfx2', 'ctdsp2', 'alas1', 'krt4', 'cdc16', 'gria3', 'pdrg1', 'htra3', 'cfap53', 'tnfaip6', 'arpp19', 'sfr1', 'zxdc', 'gck', 'pcgf5', 'bscl2', 'thap8', 'trim6', 'six4', 'fam167b', 'znf415', 'dthd1', 'st6galnac4', 'dag1', 'lhfpl1', 'cxcl3', 'dcaf13', 'tssc4', 'haus2', 'siglec9', 'elp1', 'or4c16', 'pfdn2', 'pxn', 'fabp3', 'stxbp4', 'c8orf34', 'ift22', 'trpc5os', 'htr2a', 'ppil3', 'pih1d2', 'actr6', 'cldn22', 'spint3', 'sult2a1', 'cxcl14', 'slc22a23', 'hsd17b6', 'gng8', 'taf6', 'tmem190', 'ap1g1', 'c1qtnf2', 'peg3', 'gnly', 'rps6ka6', 'tent5d', 'nrg3', 'niban1', 'cyp3a7', 'txn', 'pbov1', 'tfip11', 'rpl38', 'wdr18', 'znf785', 'cip2a', 'exd1', 'fam166a', 'ino80', 'kiaa2012', 'ten1', 'ndufaf4', 'znf805', 'eif4e', 'nppa', 'dap', 'pgghg', 'prodh2', 'lmo7', 'mmgt1', 'or2ae1', 'psme3ip1', 'znf649', 'ackr4', 'tmem230', 'copz1', 'rnase9', 'esrra', 'rbmy1d', 'lsm4', 'gdnf', 'mff', 'or13c3', 'golga8b', 'tbc1d2', 'ppme1', 'suclg1', 'ddx59', 'znf581', 'wipf2', 'cwf19l2', 'has1', 'ankar', 'dpysl4', 'nr0b1', 'szt2', 'micos10', 'rnft2', 'nfatc3', 'fam25g', 'gpsm2', 'cdc123', 'hnrnpm', 'kdm7a', 'usp44', 'krtap10-10', 'cdk9', 'washc2a', 'ccdc150', 'slc3a1', 'naca', 'pdlim4', 'aurkaip1', 'dynll2', 'tp53inp2', 'xrcc1', 'khdc1', 'tmem135', 'snrpd2', 'wdr45b', 'myl6b', 'psrc1', 'calhm5', 'znf480', 'seh1l', 'fancd2', 'znf460', 'fgfrl1', 'mustn1', 'pla2g5', 'cenpm', 'pappa', 'rpgr', 'bcl2l15', 'krtap13-4', 'acod1', 'arhgap5', 'tlx1', 'fgd2', 'or2g3', 'ap4e1', 'pisd', 'b3gat1', 'nolc1', 'chi3l2', 'cobll1', 'nol4l', 'iffo2', 'pkn2', 'or8b12', 'tspyl1', 'ulbp1', 'ly75-cd302', 'apol3', 'mmp13', 'lancl1', 'c12orf57', 'tmed3', 'rnf186', 'vps37a', 'stx6', 'dnajb12', 'znf354c', 'ehd1', 'fanci', 'ttc16', 'mmp24os', 'mx2', 'hoxa6', 'or6b2', 'pglyrp1', 'adora1', 'palm2akap2', 'dnaaf1', 'col13a1', 'gars1', 'il17f', 'mageb5', 'dhrs7b', 'emd', 'bcl2', 'fgf20', 'bicra', 'cdkn2aip', 'pick1', 'msx1', 'g3bp2', 'casr', 'mmp19', 'c19orf81', 'lrrc15', 'pcsk5', 'p3h4', 'ypel3', 'prxl2a', 'arhgap39', 'cox6a2', 'bcl3', 'or6k2', 'rpl19', 'nme1-nme2', 'sphk1', 'sec61g', 'rab1b', 'wls', 'spata19', 'jak3', 'wdhd1', 'anks3', 'zdhhc8', 'gimap5', 'hgs', 'lrrc57', 'cebpg', 'vav3', 'zbtb47', 'fezf2', 'c6orf226', 'cst4', 'mogs', 'enpp6', 'tmem236', 'fxyd2', 'arx', 'c20orf173', 'rgs2', 'mycn', 'tmem231', 'cfap43', 'rnf10', 'washc1', 'stc1', 'foxq1', 'crtc3', 'abtb2', 'nrde2', 'klk1', 'cgb8', 'ntrk2', 'znf296', 'stimate-mustn1', 'syt15', 'iqgap2', 'atp6v1b1', 'fermt1', 'mxi1', 'ncapd2', 'zglp1', 'zbtb7a', 'sypl1', 'aldoa', 'ly6k', 'sfxn3', 'sgk2', 'ift122', 'sgf29', 'inpp4a', 'znf233', 'c14orf119', 'lhx9', 'rcor3', 'rnaseh2c', 'adprhl1', 'cxcl17', 'higd1b', 'atox1', 'fcn1', 'efcab5', 'znf267', 'ins', 'tab1', 'vax2', 'mrpl4', 'rgpd1', 'bmpr1a', 'fam107a', 'hcar3', 'spry1', 'gnpda1', 'usp24', 'plvap', 'znf26', 'mpzl2', 'pik3ip1', 'akap9', 'abcf3', 'rtp3', 'cyp2c9', 'dock11', 'pfn2', 'psmc2', 'ngf', 'cntf', 'pou4f1', 'xxylt1', 'banf1', 'c11orf65', 'snx8', 'gpn2', 'sult4a1', 'ube2z', 'igll1', 'dmtf1', 'rtn4', 'tnfrsf19', 'znf202', 'zbtb11', 'fat4', 'ftcd', 'phactr1', 'rdh14', 'nhlrc1', 'taf1c', 'plin3', 'il22ra2', 'or10r2', 'arid5b', 'ch25h', 'c12orf54', 'fut7', 'gmeb1', 'arhgef2', 'c22orf31', 'egln2', 'psg1', 'bsn', 'h4c5', 'nudt5', 'rbm24', 'pdzd11', 'mrps18c', 'scaper', 'zbbx', 'gramd4', 'cfp', 'stim2', 'zdhhc11', 'hyal1', 'eif2b1', 'flvcr1', 'ift57', 'glis3', 'nlgn4x', 'tubb1', 'setd2', 'esr2', 'atg9b', 'slc5a10', 'pdzrn4', 'c1qa', 'znf579', 'pptc7', 'ap2b1', 's100a1', 'ctdnep1', 'zrsr2', 'cdc40', 'rabif', 'nlrp3', 'il12rb1', 'trip6', 'fos', 'cntnap3', 'ski', 'gcom1', 'spata6l', 'pgm2l1', 'gdpd5', 'adh1b', 'usp48', 'eri2', 'ift27', 'agpat4', 'dhcr24', 'ankrd28', 'cdc25a', 'pdgfa', 'espnl', 'myo1a', 'lrig1', 'arhgap4', 'safb', 'fam210a', 'ccdc110', 'ide', 'pitpnm3', 'erich5', 'slc17a2', 'or1k1', 'ddx50', 'tm4sf4', 'dpp6', 'c5', 'flt4', 'rcor1', 'col25a1', 'toe1', 'stambp', 'hmgcr', 'gps1', 'sult1b1', 'cyp4a22', 'ccz1', 'tor2a', 'galnt1', 'asb6', 'bcl2l12', 'mrpl24', 'stpg1', 'grap2', 'cox18', 'rbbp8', 'stk26', 'tmed1', 'zer1', 'rnf112', 'ncam1', 'ropn1l', 'smarcal1', 'tfb2m', 'snx1', 'ugdh', 'hes1', 'abcc12', 'pdcl', 'ttc29', 'spop', 'aars2', 'vps36', 'dkc1', 'picalm', 'sqle', 'ilf3', 'sdf2l1', 'lamc2', 'slc27a1', 'cks2', 'mbd3', 'rmi1', 'sox21', 'slc30a3', 'exoc3', 'astn1', 'lipt2', 'amot', 'hcrt', 'hepacam', 'c1orf115', 'sertm1', 'nhlrc3', 'pitpnm1', 'nkd1', 'prps1l1', 'emb', 'tnfsf13', 'trim68', 'sorbs2', 'ptger3', 'irx3', 'alox15', 'tac3', 'epha3', 'msl2', 'nod1', 'hexb', 'nudt8', 'pigg', 'sgsm1', 'kdelr3', 'plac1', 'zkscan1', 'blvra', 'btc', 'tsc2', 'acad10', 'prkar2b', 'fbxo30', 'l2hgdh', 'tmem87a', 'mark1', 'rnf214', 'hepacam2', 'fbxw9', 'mapre3', 'dpy19l1', 'znf32', 'serpine3', 'krtap10-4', 'uaca', 'ptger2', 'tmem39b', 'dus3l', 'otc', 'tmem59l', 'fam178b', 'srrm3', 'c11orf86', 'poldip2', 'kars1', 'pcsk4', 'triap1', 'ubr1', 'nup133', 'c11orf21', 'znf540', 'jrk', 'tlr4', 'ccdc47', 'paqr4', 'pdia6', 'isg15', 'col8a2', 'naga', 'hpcal4', 'hdgfl1', 'armcx5', 'atp2b2', 'dennd2c', 'glyatl3', 'g0s2', 'stk17a', 'lelp1', 'hdlbp', 'cdh24', 'tenm4', 'desi2', 'pepd', 'bend7', 'fam210b', 'pbx1', 'arhgap29', 'tmem45a', 'tmem254', 'naif1', 'col7a1', 'acad11', 'dcaf8', 'saa2', 'gen1', 'prc1', 'h2bc15', 'rnf215', 'myo9b', 'gxylt2', 'adamts12', 'cast', 'xrcc2', 'dapk3', 'twf1', 'kif7', 'znf880', 'rab12', 'alg12', 'or52b4', 'ube2g2', 'tm4sf20', 'gapvd1', 'mad2l1', 'pebp1', 'slc15a5', 'pphln1', 'vma21', 'pam', 'rbm26', 'fbxl18', 'sgcd', 'retreg2', 'polr3c', 'wbp1l', 'znf525', 'mapk4', 'eif5b', 'gm2a', 'znf30', 'rps12', 'myo15b', 'defb121', 'rps4y1', 'cyp1a2', 'actl8', 'hnrnpc', 'rnf223', 'zbtb32', 'cntrl', 'abcc5', 'psg11', 'nfe2l2', 'cdh19', 'akap10', 'nceh1', 'brd3', 'pop1', 'tmem208', 'igsf22', 'ripply3', 'hyal2', 'sox4', 'ankrd20a3p', 'adirf', 'fbxo28', 'gpd1l', 'timp3', 'uba3', 'dpy19l3', 'snx33', 'parm1', 'pcdhgb2', 'ccdc89', 'kif20a', 'fbxw10', 'kdm5c', 'magec1', 'ttbk1', 'sumo1', 'foxf2', 'scn4b', 'iws1', 'ccdc38', 'smim23', 'sirpg', 'trappc11', 'coq10b', 'ctsv', 'man2b2', 'pkm', 'arfrp1', 'pde10a', 'tspyl6', 'copa', 'bcl11b', 'qki', 'tmem207', 'dennd2d', 'dctn2', 'cd5', 'dtd1', 'lnx2', 'tmem233', 'rttn', 'atp5mf-ptcd1', 'hs6st2', 'mocos', 'slc35a3', 'fcgr1a', 'tnfrsf12a', 'fam151a', 'manea', 'rgpd3', 'wrn', 'clasp2', 'stk35', 'ccdc136', 'gpm6b', 'tmem132d', 'dnajc21', 'fbxo10', 'fam72b', 'adrb3', 'papss2', 'lrat', 'pias1', 'gls', 'bsph1', 'kif24', 'scart1', 'pramef20', 'tbc1d15', 'adgrf1', 'sim2', 'atg2b', 'tlcd4-rwdd3', 'nfatc1', 'hhla1', 'spint4', 'ncapg2', 'foxe1', 'tubg2', 'osbpl9', 'rsph9', 'nup205', 'dcaf4', 'xkr8', 'trmt112', 'nrxn3', 'slc2a5', 'pfkfb2', 'serpinb7', 'polr1f', 'fam83c', 'dbf4b', 'brca2', 'cptp', 'tceal7', 'rps29', 'or51g2', 'prrx1', 'cmip', 'il1rapl2', 'wdr77', 'nrg2', 'cpxm2', 'pkd2l1', 'glra2', 'smim10l2a', 'dner', 'alg2', 'rab6b', 'wipf1', 'rfpl4al1', 'bnip3l', 'fgf21', 'ddias', 'hlcs', 'eid2b', 'aggf1', 'cryz', 'serpina3', 'tnip3', 'qrfp', 'luc7l', 'trpm4', 'dcaf12l2', 'mef2a', 'skap1', 'lsamp', 'sorbs1', 'foxd4', 'znf420', 'itpr1', 'alk', 'taf9b', 'arl15', 'triml2', 'ogn', 'sufu', 'znf217', 'ncoa1', 'spata5', 'slc9a7', 'esyt2', 'agpat2', 'znf175', 'xpnpep2', 'nuak2', 'lgals16', 'rab3d', 'ankrd30bl', 'htr5a', 'znf331', 'znf570', 'mettl17', 'tafa1', 'cdc34', 'slc5a4', 'rbm6', 'cenph', 'ocel1', 'glmp', 'tacc3', 'zfp42', 'lratd1', 'eif2b4', 'h2bc14', 'fabp9', 'alpp', 'steap4', 'znf512b', 'rbm11', 'ergic2', 'rorb', 'shroom4', 'mep1a', 'p2ry14', 'sox9', 'e2f7', 'rfxap', 'or10k1', 'angel1', 'or52w1', 'aco1', 'h2az1', 'ppp2r1a', 'lpo', 'ccr4', 'xkr9', 'rps7', 'mdh1b', 'caprin2', 'tle4', 'rhot2', 'or2m2', 'pdp2', 'tbc1d28', 'or51a7', 'golph3l', 'cndp1', 'nars1', 'rnf207', 'rcn1', 'wbp4', 'bex4', 'uspl1', 'snrpa1', 'gatad1', 'tmcc1', 'clec4d', 'soat1', 'med12', 'eif3e', 'tgfbr3', 'clec18b', 'znf404', 'sh2b2', 'trerf1', 'lrrc74a', 'ndp', 'serinc3', 'retnlb', 'kdm2b', 'aqp5', 'dram2', 'champ1', 'atl3', 'tomm40l', 'magea10', 'vezt', 'usp30', 'nxf2b', 'barhl1', 'st8sia3', 'fam9a', 'ccdc13', 'crmp1', 'galnt14', 'ttpa', 'sirpb1', 'ect2l', 'traf3ip3', 'ppp1r14d', 'or7d4', 'rfc4', 'hipk3', 'rab33a', 'rrs1', 'ube2b', 'abcc8', 'umps', 'dhrs7', 'hoxd3', 'srpk3', 'h2ac21', 'gas6', 'ptar1', 'dus2', 'col1a1', 'trim29', 'tacstd2', 'psen1', 'med11', 'them6', 'or9k2', 'kctd15', 'sec61a1', 'supt7l', 'cep164', 'sema3f', 'me3', 'pml', 'ssx1', 'sh2d3a', 'stat3', 'usp47', 'prss35', 'nr2e3', 'h2ac20', 'orai2', 'thegl', 'dtl', 'tbrg1', 'opn1lw', 'phf21a', 'frat1', 'tek', 'gpr89a', 'smad7', 'chchd7', 'znf425', 'c4orf46', 'tpte', 'mthfd2', 'cldn1', 'serpinb8', 'ints7', 'pls3', 'dsn1', 'krt8', 'tln2', 'nfyc', 'ctc1', 'bcas3', 'cstf2t', 'angel2', 'kif3c', 'rbm38', 'cacna1g', 'wdr72', 'h1-7', 'defb131a', 'anxa11', 'rab34', 'eef2kmt', 'mdm4', 'dmgdh', 'apool', 'snrpg', 'ptgr2', 'slitrk2', 'rnf43', 'sos1', 'aadacl3', 'rraga', 'capg', 'zfpm1', 'nufip2', 'fam227b', 'spcs2', 'spdye17', 'slc25a42', 'tgfb2', 'vcpip1', 'bik', 'ice2', 'cdc42ep2', 'or2m7', 'lefty1', 'gpr153', 'btnl3', 'slc25a5', 'sorcs1', 'hgfac', 'otx1', 'rab11fip4', 'cox7b', 'rin1', 'yod1', 'dusp19', 'bpifb2', 'slc13a4', 'msr1', 'rptn', 'kdsr', 'tufm', 'vipr2', 'stxbp6', 'hspa14', 'snx18', 'btd', 'pfkfb1', 'tbrg4', 'cyb5r2', 'znf84', 'dennd4c', 'ncapg', 'ubox5', 'nav3', 'ralgds', 'emcn', 'gmcl2', 'srd5a1', 'mafb', 'mob1a', 'ap5z1', 'ern1', 'c9orf43', 'il4', 'e2f8', 'nrxn1', 'mgat3', 'or10t2', 'arhgap12', 'srgap2', 'prmt1', 'ankk1', 'igsf5', 'sh2b3', 'rab41', 'copg2', 'spag9', 'teddm1', 'calml3', 'brdt', 'lrrc3', 'tiam2', 'hint1', 'gabarapl1', 'ccr2', 'optc', 'srrm1', 'rrp9', 'sytl3', 'rhobtb1', 'alg10', 'c13orf42', 'nkx2-8', 'atg9a', 'mixl1', 'dusp3', 'or5a1', 'fbxo48', 'siglec8', 'fbf1', 'kdm4b', 'cyp11b2', 'rsbn1', 'ripk1', 'sec61a2', 'mapkapk2', 'golt1b', 'coasy', 'c3orf49', 'defb116', 'ccdc172', 'syce3', 'gorasp2', 'tfpi', 'gna15', 'slc4a8', 'gzf1', 'krtap4-1', 'scyl2', 'tbc1d13', 'malt1', 'ksr2', 'ifna8', 'lsm7', 'vnn1', 'b4galt2', 'blzf1', 'vwa2', 'lif', 'grk2', 'zfp36', 'esco1', 'plekhh3', 'txndc16', 'ndufc2-kctd14', 'gdf10', 'cx3cl1', 'nfia', 'cnpy3', 'camta1', 'cep112', 'ciapin1', 'llgl1', 'or7g1', 'c12orf42', 'mterf3', 'anln', 'lnp1', 'cfap91', 'samd5', 'c5orf52', 'il4r', 'nelfb', 'csnk1a1l', 'dcdc2', 'tie1', 'fezf1', 'appl1', 'znf93', 'atoh1', 'sntg1', 'slc6a1', 'abhd14a', 'ndufs3', 'cfh', 'tbx5', 'fsip1', 'erp29', 'rnf26', 'yars2', 'fah', 'or8g5', 'ndufa6', 'znf354a', 'sf3b2', 'opa1', 'psmd13', 'rsrc1', 'morf4l1', 'htr1b', 'ccz1b', 'rnpep', 'glod4', 'mettl5', 'klf16', 'ido2', 'unc93b1', 'sema3c', 'syt6', 'lox', 'cplx1', 'psg7', 'gngt2', 'tsen54', 'spdya', 'tcf3', 'zdhhc19', 'mxra7', 'map1lc3b2', 'tomm5', 'ttc17', 'vrk2', 'or6p1', 'mbd6', 'c5orf15', 'sp110', 'rragd', 'tmod1', 'septin1', 'cldn19', 'h1-10', 'mt1e', 'tub', 'klb', 'ms4a12', 'arl10', 'lcor', 'eif3m', 'kiaa2026', 'cotl1', 'etdb', 'h2bc11', 'klhl25', 'neil1', 'pde1b', 'efcab10', 'rapgef1', 'eva1b', 'krt25', 'intu', 'frg2b', 'cep350', 'spata1', 'c1s', 'mmp17', 'adgrf4', 'hoxa13', 'dusp7', 'acsl6', 'abi3', 'mat2a', 'dnaaf6', 'mtmr1', 'siglec12', 'stx1b', 'ndufaf3', 'lrrn2', 'impg2', 'armc3', 'pim1', 'zkscan8', 'acsbg1', 'arhgef9', 'tmem63a', 'hecw1', 'mphosph10', 'pop4', 'selenoi', 'ntng2', 'rpusd4', 'enpp3', 'thrb', 'paqr8', 'snrk', 'epn3', 'lgals1', 'or5as1', 'fpr1', 'gabbr2', 'spata2', 'magea2', 'trh', 'rasl11a', 'tmc6', 'pla2g4f', 'mrgprg', 'atpaf1', 'psma2', 'or4d11', 'arl16', 'mitd1', 'bola3', 'pias3', 'myl10', 'dsg3', 'aldh1l2', 'prss3', 'eloc', 'itga2', 'gabra1', 'neb', 'adgrf3', 'ddx54', 'lsmem2', 'spry3', 'mmp26', 'snca', 'ubxn6', 'kcnh3', 'ifne', 'zpbp2', 'igf1r', 'pik3c2b', 'cog1', 'naa40', 'dmrtc1', 'rpl23a', 'pf4v1', 'znf589', 'milr1', 'rapsn', 'dpp7', 'ifng', 'fam162a', 'adgrg7', 'mapk8ip1', 'krtap19-4', 'ppm1b', 'gamt', 'il17ra', 'c19orf25', 'mrps26', 'aurka', 'erich3', 'map1lc3b', 'ccdc153', 'sfrp5', 'cd84', 'slc9b1', 'trim35', 'lmna', 'ddx39a', 'znf487', 'stard7', 'slc25a51', 'hipk2', 'retn', 'prg2', 'tvp23c-cdrt4', 'pdcd2l', 'pdk2', 'vav2', 'pmel', 'tceal4', 'crip3', 'cox7b2', 'esam', 'glrx5', 'spns1', 'rbp7', 'echs1', 'pla2g2d', 'rspo1', 'pex14', 'tp53aip1', 'mbip', 'rack1', 'sergef', 'ncbp2l', 'aim2', 'plekhg5', 'arl3', 'cyp27a1', 'chst14', 'agmat', 'topbp1', 'pla2g2f', 'trim37', 'smim15', 'cacybp', 'znf440', 'plek2', 'rab3a', 'oaf', 'clec4g', 'h2ac1', 'kiaa1328', 'yipf6', 'rxfp1', 'rasd2', 'prkce', 'adamts3', 'smim13', 'gatc', 'mfsd10', 'natd1', 'rida', 'znf133', 'casp9', 'clec7a', 'mybpc3', 'fam114a2', 'znf433', 'lrrc55', 'prss27', 'hus1', 'meaf6', 'mepce', 'krt222', 'amz1', 'mageb18', 'gsx1', 'gpr176', 'ppp1r16a', 'golga8r', 'rnf144b', 'tecpr1', 'reg4', 'znf737', 'top3b', 'tmem63b', 'fdxr', 'rpl27', 'or13g1', 'npc2', 'raet1e', 'rab27a', 'adtrp', 'arid2', 'atp2a2', 'swt1', 'haus5', 'knl1', 'cd34', 'ntpcr', 'gemin2', 'usp53', 'prmt6', 'c2orf76', 'dppa3', 'csnk1g2', 'poll', 'exd2', 'lcp1', 'myh4', 'atf4', 'xaf1', 'tbc1d12', 'sox11', 'abca13', 'prdx5', 'trmt61b', 'zdhhc12', 'ccdc14', 'stam2', 'brip1', 'tnp2', 'sptbn1', 'aldh3a2', 'cox7c', 'lyve1', 'ppp6r3', 'c2orf80', 'pacs2', 'akr1e2', 'abhd6', 'krtap5-10', 'eif2b5', 'pdlim2', 'synpo', 'znf148', 'pus7l', 'edc3', 'serpind1', 'qrsl1', 'etfb', 'plod1', 'napsa', 'golga3', 'ptgir', 'gnpnat1', 'akr1c2', 'zim2', 'pcsk6', 'sf3a2', 'tle3', 'adamts6', 'palmd', 'camk2n2', 'eif3i', 'vwa1', 'gstp1', 'adamts17', 'zfand6', 'commd9', 'tectb', 'rgp1', 'tiparp', 'smad3', 'rundc3b', 'pcdhgc4', 'rrp7a', 'thap12', 'stpg2', 'mt1f', 'krtap5-9', 'pth2', 'fip1l1', 'larp1', 'dtx1', 'dmrta1', 'thoc6', 'atp5mk', 'kdm6a', 'maco1', 'ret', 'asah2b', 'bcar3', 'p3h3', 'myorg', 'spryd7', 'ppp1r9b', 'tmem129', 'sirt7', 'ren', 'gpr4', 'dhtkd1', 'nr1d2', 'ppp1r2c', 'pemt', 'cxcl1', 'cog2', 'atp5mc2', 'sp100', 'taf1b', 'fgf16', 'cenpf', 'mynn', 'or7a10', 'eaf2', 'ccdc7', 'poln', 'defb123', 'erc1', 'st8sia5', 'kctd20', 'zbtb20', 'cep192', 'cenpo', 'rab27b', 'adcy5', 'stimate', 'slc25a19', 'tmem132a', 'znf787', 'trim32', 'rfng', 'khnyn', 'cables2', 'slc6a12', 'nudcd1', 'rab11fip1', 'ecm1', 'irak4', 'cdk20', 'tmco3', 'kif21b', 'mgrn1', 'col5a1', 'tcp11', 'mapre2', 'pecr', 'prim2', 'jmjd8', 'c8b', 'ippk', 'fzr1', 'nthl1', 'rhbdl1', 'ghr', 'cadm2', 'adgrv1', 'ncam2', 'chpf', 'ldlr', 'septin3', 'fat3', 'wdr1', 'ccl27', 'ldoc1', 'prrc1', 'atp6v1c2', 'slc22a10', 'slc12a8', 'sst', 'slc15a3', 'plekhm3', 'phf5a', 'avpi1', 'ap5s1', 'nme6', 'gpc3', 'tlcd3b', 'ufsp2', 'slc28a1', 'matn3', 'nme3', 'nelfcd', 'cd164l2', 'tgm7', 'or5h14', 'fsbp', 'cenpvl3', 'tsnax', 'kiaa1671', 'c12orf50', 'klhdc1', 'ost4', 'lamc1', 'aph1a', 'atp6v1c1', 'senp8', 'mesp1', 'ptges', 'znf654', 'cnot8', 'rpl5', 'dhx29', 'polk', 'or2t8', 'acadvl', 'msi2', 'clint1', 'echdc1', 'gmeb2', 'lce2d', 'gjb5', 'atad2', 'tmem164', 'plin4', 'dgkq', 'klhdc2', 'dpp9', 'krtap22-2', 'patz1', 'rtl4', 'dlk2', 'klrf2', 'fbln5', 'ndnf', 'mbd1', 'gngt1', 'zbed5', 'mcoln2', 'bcl9', 'ccl19', 'gramd1a', 'rbm41', 'ttc33', 'rnf224', 'traf7', 'znf18', 'tmem91', 'mpc1l', 'srpk2', 'lyl1', 'ifna6', 'cenpj', 'ndufaf1', 'pou3f1', 'or6j1', 'lrrcc1', 'pdlim7', 'cry2', 'znf516', 'arhgef33', 'slc16a10', 'lman2', 'mecp2', 'zscan4', 'chrna3', 'or2w3', 'spats1', 'wasf3', 'foxg1', 'znf414', 'sgo2', 'dgat2', 'rpl9', 'abca7', 'klhl7', 'yipf2', 'fgr', 'pllp', 'c11orf16', 'tnfaip3', 'atp5mf', 'cbl', 'shtn1', 'haus4', 'ube2g1', 'apex2', 'c5ar1', 'robo3', 'insl6', 'ovol3', 'hoxa10', 'znf335', 'irgq', 'cdc42se1', 'mfsd4a', 'tgif1', 'porcn', 'ccdc61', 'kdm6b', 'htr6', 'cfc1b', 'ncbp2', 'mocs3', 'mroh2b', 'slc30a2', 'traf2', 'hoxc8', 'znf114', 'znf567', 'e2f3', 'mro', 'c1orf109', 'fxn', 'tjp2', 'rab39a', 'ppp1r2b', 'ubl3', 'camk4', 'il18', 'znf772', 'ifna5', 'heg1', 'aicda', 'dusp26', 'gtf3c1', 'copz2', 'tiam1', 'ano9', 'tlcd5', 'ksr1', 'tstd3', 'ms4a6a', 'slc10a1', 'fam166b', 'kmt2e', 'csnk2a2', 'ct47a12', 'ptpn4', 'atp2a3', 'enpp1', 'lce2a', 'mea1', 'pja2', 'adam19', 'ifitm2', 'lcmt2', 'thpo', 'atp2c2', 'pigr', 'chl1', 'ndufa1', 'ikzf5', 'dcp1a', 'gabarapl2', 'tmsb4y', 'becn1', 'acbd5', 'rapgefl1', 'eya4', 'ppfibp1', 'suclg2', 'itga5', 'rars2', 'smad9', 'commd10', 'sumo2', 'c1qtnf8', 'znf735', 'meis1', 'znf286a', 'nol3', 'znf417', 'ndufb11', 'ppp6c', 'dpagt1', 'smc2', 'rab4b', 'six5', 'pds5a', 'trappc6a', 'prob1', 'mtch1', 'exosc10', 'guk1', 'znf577', 'micall2', 'foxd4l1', 'cul3', 'yrdc', 'slc30a10', 'hnrnpa1', 'pknox2', 'lhx3', 'hint2', 'znf500', 'syap1', 'serpinb10', 'polr3b', 'znf213', 'mest', 'ak1', 'dnajb6', 'cep70', 'cdkn2a', 'arhgap8', 'c11orf98', 'spin2a', 'erc2', 'fgfbp2', 'txn2', 'zswim1', 'cfap73', 'kash5', 'rsph10b', 'fam220a', 'prss21', 'gldc', 'lztfl1', 'nacc2', 'znf235', 'vipas39', 'sh3bgr', 'wdr19', 'potem', 'ggtlc1', 'slc25a21', 'rab40a', 'sema6b', 'sec22c', 'plxdc2', 'znf595', 'rcbtb2', 'nt5c2', 'znf292', 'idh3b', 'mrpl16', 'asb3', 'hspe1', 'magi2', 'lamb3', 'mcrs1', 'sarm1', 'itgam', 'cyp11b1', 'pdf', 'tp53tg3c', 'fam204a', 'postn', 'galnt18', 'snx13', 'smlr1', 'gabpb1', 'znf230', 'osbpl2', 'h2ac12', 'adamts19', 'cdhr3', 'nnt', 'c17orf50', 'anapc4', 'hbg1', 'maml2', 'pgbd5', 'gas2', 'endog', 'prss33', 'or14c36', 'kcnj11', 'pla2g15', 'spdye8', 'scly', 'sco1', 'hoxd8', 'tnfrsf13b', 'c8orf82', 'or10g8', 'or51d1', 'atp1a1', 'actl9', 'ugt2b7', 'ypel5', 'rsu1', 'rab33b', 'slc14a2', 'dbnl', 'cldnd2', 'ang', 'rab40al', 'akr1b15', 'itgb8', 'ssh2', 'znf775', 'stat5b', 'mpdu1', 'cd99l2', 'znf713', 'dcanp1', 'c10orf143', 'elk4', 'dyrk2', 'or1m1', 'rax', 'cfap58', 'atp6v1h', 'las1l', 'krtap20-3', 'plekhb2', 'hsfy1', 'smg8', 'ntm', 'loxl4', 'defb132', 'rps28', 'helz2', 'utp15', 'c7orf57', 'entpd6', 'sdr42e2', 'col6a2', 'casp4', 'gpalpp1', 'c1orf174', 'fmo5', 'dennd6a', 'gjc3', 'dhx35', 'il2rb', 'abhd17c', 'ipo13', 'cd7', 'wdr82', 'tnfsf9', 'gmds', 'gfi1b', 'tmed7-ticam2', 'hmx1', 'serpinb5', 'ston1', 'tmem185b', 'lrfn5', 'h3c1', 'scap', 'spanxn2', 'capn11', 'map4', 'dhx34', 'tubb4a', 'dgkd', 'rpl31', 'paqr5', 'tox3', 'mrps21', 'ccdc157', 'tor1a', 'ghrl', 'dtnb', 'phtf2', 'dipk1b', 'ap1ar', 'smg6', 'ebln1', 'wnt4', 'fam81b', 'leprot', 'marveld1', 'igfbp6', 'opn3', 'kcnj18', 'amhr2', 'fndc1', 'hbz', 'cyp2a6', 'cd28', 'c1orf21', 'npm3', 'nfyb', 'tbkbp1', 'errfi1', 'zbed6', 'cnga3', 'polr3gl', 'ecel1', 'lmo3', 'mroh9', 'amdhd2', 'nucb1', 'supt6h', 'ccdc196', 'znf750', 'matn4', 'wnt3a', 'stox1', 'med31', 'slc41a2', 'fmn1', 'apoe', 'pnma1', 'ccl26', 'txndc2', 'set', 'tgds', 'rala', 'cox8a', 'esm1', 'ovol2', 'anhx', 'dgkz', 'tmem19', 'cpsf2', 'scnn1b', 'cebpe', 'ubtd1', 'lrrc7', 'sec24c', 'brinp2', 'znf550', 'znf329', 'abca10', 'fpgt-tnni3k', 'ppp3cc', 'dpy19l2', 'rbpms', 'sik2', 'znf281', 'mier3', 'tafa3', 'zc2hc1c', 'lrp1b', 'tm9sf2', 'amigo2', 'gmps', 'tmem106c', 'kat6a', 'calhm6', 'rasef', 'pom121c', 'tprn', 'foxk1', 'tinag', 'polr2h', 'csf3', 'npas4', 'zxda', 'p2ry12', 'rnf115', 'nrf1', 'naa38', 'cyp3a5', 'znf580', 'atad1', 'ccnq', 'mbd4', 'ripor3', 'prpf4b', 'rpp25', 'tbx2', 'kirrel3', 'ccdc117', 'serpinb11', 'cand2', 'mrpl13', 'gprin1', 'hrg', 'ptpn1', 'jmjd6', 'ddc', 'abcc11', 'rpn1', 'synj1', 'or5w2', 'or6c2', 'slc35a5', 'uckl1', 'ccdc107', 'mkrn1', 'syt4', 'crb2', 'fam156b', 'cyb5r3', 'cnn3', 'rhpn1', 'mob1b', 'mapk3', 'arl4a', 'slc26a11', 'rab15', 'znf559-znf177', 'znf182', 'mat2b', 'sowahb', 'adgra3', 'tbcc', 'tbx3', 'kcne5', 'prdx2', 'hba2', 'cdh23', 'ssx2b', 'efs', 'csdc2', 'creg2', 'afap1l2', 'axdnd1', 'mical1', 'katnb1', 'efcab9', 'csgalnact2', 'or4n2', 'acsm4', 'csh2', 'nts', 'cdc73', 'ccdc168', 'mllt11', 'utp6', 'tubb4b', 'krt26', 'tgif2', 'irf8', 'zmym3', 'gpr42', 'smap2', 'flna', 'zfp36l2', 'erich6', 'cenps-cort', 'ralgapa1', 'utp23', 'ifna7', 'ipo11', 'rnd1', 'h4c14', 'gpx5', 'asah1', 'phf21b', 'insm2', 'semg2', 'c9orf64', 'agr3', 'insl3', 'sirt3', 'shroom2', 'capn7', 'scara3', 'rpusd3', 'aip', 'mn1', 'skp2', 'phka2', 'asap2', 'bach2', 'pofut2', 'camk1', 'c1orf216', 'mapk7', 'asphd2', 'pcm1', 'fam174b', 'faim2'}\n"
     ]
    },
    {
     "data": {
      "text/plain": [
       "set()"
      ]
     },
     "execution_count": 4,
     "metadata": {},
     "output_type": "execute_result"
    }
   ],
   "source": [
    "# 将所有基因名称转换为小写\n",
    "all_genes_lower = [gene.lower() for gene in all_genes]\n",
    "adata_genes_lower = [gene.lower() for gene in existing_genes]\n",
    "\n",
    "# 将两个列表转换为集合\n",
    "all_genes_set = set(all_genes_lower)\n",
    "adata_genes_set = set(adata_genes_lower)\n",
    "\n",
    "# 计算交集\n",
    "matching_genes = all_genes_set.intersection(adata_genes_set)\n",
    "matching_count = len(matching_genes)\n",
    "# 计算不匹配的基因\n",
    "non_matching_genes = adata_genes_set - matching_genes\n",
    "non_matching_count = len(non_matching_genes)\n",
    "\n",
    "\n",
    "# 输出结果\n",
    "print(f\"匹配的基因数量: {matching_count}\")\n",
    "print(f\"匹配的基因列表: {matching_genes}\")\n",
    "non_matching_genes"
   ]
  },
  {
   "cell_type": "code",
   "execution_count": 5,
   "metadata": {
    "execution": {
     "iopub.execute_input": "2025-01-17T09:52:21.158951Z",
     "iopub.status.busy": "2025-01-17T09:52:21.158806Z",
     "iopub.status.idle": "2025-01-17T09:53:45.865499Z",
     "shell.execute_reply": "2025-01-17T09:53:45.864565Z"
    }
   },
   "outputs": [],
   "source": [
    "gene_to_index = {gene: idx for idx, gene in enumerate(all_genes_lower)}\n",
    "dense_adata_X = adata.X.toarray()\n",
    "for i, gene in enumerate(adata_genes_lower):\n",
    "    if gene in gene_to_index:\n",
    "        new_data[:, gene_to_index[gene]] = dense_adata_X[:, i]\n",
    "    else:\n",
    "        print(f'Gene {gene} not found in all_genes list')"
   ]
  },
  {
   "cell_type": "code",
   "execution_count": 6,
   "metadata": {
    "execution": {
     "iopub.execute_input": "2025-01-17T09:53:45.867578Z",
     "iopub.status.busy": "2025-01-17T09:53:45.867374Z",
     "iopub.status.idle": "2025-01-17T09:53:50.757973Z",
     "shell.execute_reply": "2025-01-17T09:53:50.757309Z"
    }
   },
   "outputs": [
    {
     "name": "stderr",
     "output_type": "stream",
     "text": [
      "GPU available: True (cuda), used: True\n"
     ]
    },
    {
     "name": "stderr",
     "output_type": "stream",
     "text": [
      "TPU available: False, using: 0 TPU cores\n"
     ]
    },
    {
     "name": "stderr",
     "output_type": "stream",
     "text": [
      "HPU available: False, using: 0 HPUs\n"
     ]
    }
   ],
   "source": [
    "# 使用 GPU 进行评估（如果可用）\n",
    "estim.trainer = pl.Trainer(accelerator=\"gpu\", devices=1 if torch.cuda.is_available() else None)\n",
    "\n",
    "# 5. 数据集划分（70% 训练，15% 验证，15% 测试）\n",
    "label_encoder = LabelEncoder()\n",
    "labels_encoded = label_encoder.fit_transform(adata.obs['cell_type'])  # 预先编码标签\n",
    "\n",
    "\n",
    "random_seed = 42\n",
    "\n",
    "X_train_val, X_test, y_train_val, y_test = train_test_split(\n",
    "    new_data, labels_encoded, test_size=0.20, random_state=random_seed)\n",
    "\n",
    "X_train, X_val, y_train, y_val = train_test_split(\n",
    "    X_train_val, y_train_val, test_size=0.25, random_state=random_seed)  # 0.1765 是为了让验证集占 15%"
   ]
  },
  {
   "cell_type": "code",
   "execution_count": 7,
   "metadata": {
    "execution": {
     "iopub.execute_input": "2025-01-17T09:53:50.759801Z",
     "iopub.status.busy": "2025-01-17T09:53:50.759628Z",
     "iopub.status.idle": "2025-01-17T09:53:52.546498Z",
     "shell.execute_reply": "2025-01-17T09:53:52.545993Z"
    }
   },
   "outputs": [
    {
     "data": {
      "text/plain": [
       "MLPAutoEncoder(\n",
       "  (train_metrics): MetricCollection(\n",
       "    (explained_var_uniform): ExplainedVariance()\n",
       "    (explained_var_weighted): ExplainedVariance()\n",
       "    (mse): MeanSquaredError(),\n",
       "    prefix=train_\n",
       "  )\n",
       "  (val_metrics): MetricCollection(\n",
       "    (explained_var_uniform): ExplainedVariance()\n",
       "    (explained_var_weighted): ExplainedVariance()\n",
       "    (mse): MeanSquaredError(),\n",
       "    prefix=val_\n",
       "  )\n",
       "  (test_metrics): MetricCollection(\n",
       "    (explained_var_uniform): ExplainedVariance()\n",
       "    (explained_var_weighted): ExplainedVariance()\n",
       "    (mse): MeanSquaredError(),\n",
       "    prefix=test_\n",
       "  )\n",
       "  (encoder): MLP(\n",
       "    (0): Linear(in_features=19331, out_features=512, bias=True)\n",
       "    (1): SELU()\n",
       "    (2): Dropout(p=0.1, inplace=False)\n",
       "    (3): Linear(in_features=512, out_features=512, bias=True)\n",
       "    (4): SELU()\n",
       "    (5): Dropout(p=0.1, inplace=False)\n",
       "    (6): Linear(in_features=512, out_features=256, bias=True)\n",
       "    (7): SELU()\n",
       "    (8): Dropout(p=0.1, inplace=False)\n",
       "    (9): Linear(in_features=256, out_features=256, bias=True)\n",
       "    (10): SELU()\n",
       "    (11): Dropout(p=0.1, inplace=False)\n",
       "    (12): Linear(in_features=256, out_features=64, bias=True)\n",
       "  )\n",
       "  (decoder): Sequential(\n",
       "    (0): MLP(\n",
       "      (0): Linear(in_features=64, out_features=256, bias=True)\n",
       "      (1): SELU()\n",
       "      (2): Dropout(p=0.1, inplace=False)\n",
       "      (3): Linear(in_features=256, out_features=256, bias=True)\n",
       "      (4): SELU()\n",
       "      (5): Dropout(p=0.1, inplace=False)\n",
       "      (6): Linear(in_features=256, out_features=512, bias=True)\n",
       "      (7): SELU()\n",
       "      (8): Dropout(p=0.1, inplace=False)\n",
       "      (9): Linear(in_features=512, out_features=512, bias=True)\n",
       "      (10): SELU()\n",
       "      (11): Dropout(p=0.1, inplace=False)\n",
       "      (12): Linear(in_features=512, out_features=19331, bias=True)\n",
       "    )\n",
       "    (1): Sigmoid()\n",
       "  )\n",
       "  (fc): Linear(in_features=64, out_features=18, bias=True)\n",
       ")"
      ]
     },
     "execution_count": 7,
     "metadata": {},
     "output_type": "execute_result"
    }
   ],
   "source": [
    "# 将训练数据转换为张量\n",
    "device = torch.device(\"cuda\" if torch.cuda.is_available() else \"cpu\")\n",
    "X_train_tensor = torch.tensor(X_train).float().to(device)\n",
    "y_train_tensor = torch.tensor(y_train).long().to(device)\n",
    "X_val_tensor = torch.tensor(X_val).float().to(device)\n",
    "y_val_tensor = torch.tensor(y_val).long().to(device)\n",
    "estim.model.to(device)"
   ]
  },
  {
   "cell_type": "code",
   "execution_count": 8,
   "metadata": {
    "execution": {
     "iopub.execute_input": "2025-01-17T09:53:52.548162Z",
     "iopub.status.busy": "2025-01-17T09:53:52.547972Z",
     "iopub.status.idle": "2025-01-17T09:53:52.551438Z",
     "shell.execute_reply": "2025-01-17T09:53:52.551002Z"
    }
   },
   "outputs": [],
   "source": [
    "# 6. 微调模型，仅微调 encoder 的最后两层，其他层参数冻结\n",
    "for param in estim.model.encoder.parameters():\n",
    "    param.requires_grad = False  # 冻结所有层\n",
    "\n",
    "# 解冻所有层\n",
    "for param in list(estim.model.encoder.parameters())[-5:]:\n",
    "    param.requires_grad = True"
   ]
  },
  {
   "cell_type": "code",
   "execution_count": 9,
   "metadata": {
    "execution": {
     "iopub.execute_input": "2025-01-17T09:53:52.552724Z",
     "iopub.status.busy": "2025-01-17T09:53:52.552577Z",
     "iopub.status.idle": "2025-01-17T09:53:52.555964Z",
     "shell.execute_reply": "2025-01-17T09:53:52.555528Z"
    }
   },
   "outputs": [],
   "source": [
    "# 定义损失函数和优化器\n",
    "loss_fn = nn.CrossEntropyLoss()\n",
    "optimizer = AdamW(filter(lambda p: p.requires_grad, estim.model.parameters()), lr=9e-4, weight_decay=0.05)\n",
    "scheduler = torch.optim.lr_scheduler.StepLR(optimizer, step_size=2, gamma=0.9)"
   ]
  },
  {
   "cell_type": "code",
   "execution_count": 10,
   "metadata": {
    "execution": {
     "iopub.execute_input": "2025-01-17T09:53:52.557230Z",
     "iopub.status.busy": "2025-01-17T09:53:52.557075Z",
     "iopub.status.idle": "2025-01-17T09:53:52.562487Z",
     "shell.execute_reply": "2025-01-17T09:53:52.562043Z"
    }
   },
   "outputs": [],
   "source": [
    "from torch.utils.data import DataLoader, TensorDataset\n",
    "\n",
    "# 设置 batch size\n",
    "batch_size = 128  # 根据实际需求调整 batch size\n",
    "\n",
    "# 使用 TensorDataset 将训练数据和标签打包\n",
    "train_dataset = TensorDataset(X_train_tensor, y_train_tensor)\n",
    "val_dataset = TensorDataset(X_val_tensor, y_val_tensor)\n",
    "\n",
    "# 使用 DataLoader 来创建批次\n",
    "train_loader = DataLoader(train_dataset, batch_size=batch_size, shuffle=True)\n",
    "val_loader = DataLoader(val_dataset, batch_size=batch_size, shuffle=False)\n",
    "\n",
    "# 7. 微调模型\n",
    "def train_epoch(model, optimizer, loss_fn, train_loader, val_loader):\n",
    "    model.train()\n",
    "    total_train_loss = 0\n",
    "    \n",
    "    # 训练集批次训练\n",
    "    for X_batch, y_batch in train_loader:\n",
    "        optimizer.zero_grad()\n",
    "        \n",
    "        # 前向传播\n",
    "        outputs = model.encoder(X_batch)\n",
    "        logits = model.fc(outputs)\n",
    "        \n",
    "        # 计算损失\n",
    "        loss = loss_fn(logits, y_batch)\n",
    "        loss.backward()\n",
    "        optimizer.step()\n",
    "        \n",
    "        total_train_loss += loss.item()\n",
    "    \n",
    "    # 验证集\n",
    "    model.eval()\n",
    "    total_val_loss = 0\n",
    "    with torch.no_grad():\n",
    "        for X_val_batch, y_val_batch in val_loader:\n",
    "            val_outputs = model.encoder(X_val_batch)\n",
    "            val_logits = model.fc(val_outputs)\n",
    "            val_loss = loss_fn(val_logits, y_val_batch)\n",
    "            total_val_loss += val_loss.item()\n",
    "\n",
    "    # 返回平均损失\n",
    "    return total_train_loss / len(train_loader), total_val_loss / len(val_loader)"
   ]
  },
  {
   "cell_type": "code",
   "execution_count": 11,
   "metadata": {
    "execution": {
     "iopub.execute_input": "2025-01-17T09:53:52.563785Z",
     "iopub.status.busy": "2025-01-17T09:53:52.563634Z",
     "iopub.status.idle": "2025-01-17T09:55:27.646827Z",
     "shell.execute_reply": "2025-01-17T09:55:27.646093Z"
    }
   },
   "outputs": [
    {
     "name": "stdout",
     "output_type": "stream",
     "text": [
      "Epoch 1, Train Loss: 0.3318599066695473, Validation Loss: 0.015770088669182305\n",
      "Validation loss improved to 0.015770088669182305, resetting patience.\n"
     ]
    },
    {
     "name": "stdout",
     "output_type": "stream",
     "text": [
      "Epoch 2, Train Loss: 0.04112781888099095, Validation Loss: 0.015801679304811432\n",
      "No improvement in validation loss. Patience counter: 1/20\n"
     ]
    },
    {
     "name": "stdout",
     "output_type": "stream",
     "text": [
      "Epoch 3, Train Loss: 0.03726000937646796, Validation Loss: 0.02348339681276619\n",
      "No improvement in validation loss. Patience counter: 2/20\n"
     ]
    },
    {
     "name": "stdout",
     "output_type": "stream",
     "text": [
      "Epoch 4, Train Loss: 0.0320056788791087, Validation Loss: 0.01938892205109777\n",
      "No improvement in validation loss. Patience counter: 3/20\n"
     ]
    },
    {
     "name": "stdout",
     "output_type": "stream",
     "text": [
      "Epoch 5, Train Loss: 0.02675753051662369, Validation Loss: 0.016527209525847124\n",
      "No improvement in validation loss. Patience counter: 4/20\n"
     ]
    },
    {
     "name": "stdout",
     "output_type": "stream",
     "text": [
      "Epoch 6, Train Loss: 0.023874334590393596, Validation Loss: 0.015117963222158378\n",
      "Validation loss improved to 0.015117963222158378, resetting patience.\n"
     ]
    },
    {
     "name": "stdout",
     "output_type": "stream",
     "text": [
      "Epoch 7, Train Loss: 0.021458201179315857, Validation Loss: 0.012870218150441806\n",
      "Validation loss improved to 0.012870218150441806, resetting patience.\n"
     ]
    },
    {
     "name": "stdout",
     "output_type": "stream",
     "text": [
      "Epoch 8, Train Loss: 0.0203947855203038, Validation Loss: 0.013778970639730093\n",
      "No improvement in validation loss. Patience counter: 1/20\n"
     ]
    },
    {
     "name": "stdout",
     "output_type": "stream",
     "text": [
      "Epoch 9, Train Loss: 0.021742410089085763, Validation Loss: 0.013502062404616166\n",
      "No improvement in validation loss. Patience counter: 2/20\n"
     ]
    },
    {
     "name": "stdout",
     "output_type": "stream",
     "text": [
      "Epoch 10, Train Loss: 0.021545734487162755, Validation Loss: 0.015074957891304119\n",
      "No improvement in validation loss. Patience counter: 3/20\n"
     ]
    },
    {
     "name": "stdout",
     "output_type": "stream",
     "text": [
      "Epoch 11, Train Loss: 0.021269000446908132, Validation Loss: 0.014508267664161988\n",
      "No improvement in validation loss. Patience counter: 4/20\n"
     ]
    },
    {
     "name": "stdout",
     "output_type": "stream",
     "text": [
      "Epoch 12, Train Loss: 0.020535354064432854, Validation Loss: 0.014183611303689054\n",
      "No improvement in validation loss. Patience counter: 5/20\n"
     ]
    },
    {
     "name": "stdout",
     "output_type": "stream",
     "text": [
      "Epoch 13, Train Loss: 0.020280855469276052, Validation Loss: 0.014745032087969831\n",
      "No improvement in validation loss. Patience counter: 6/20\n"
     ]
    },
    {
     "name": "stdout",
     "output_type": "stream",
     "text": [
      "Epoch 14, Train Loss: 0.01931668992741062, Validation Loss: 0.012452845459780775\n",
      "Validation loss improved to 0.012452845459780775, resetting patience.\n"
     ]
    },
    {
     "name": "stdout",
     "output_type": "stream",
     "text": [
      "Epoch 15, Train Loss: 0.020568833412456192, Validation Loss: 0.014747460446990455\n",
      "No improvement in validation loss. Patience counter: 1/20\n"
     ]
    },
    {
     "name": "stdout",
     "output_type": "stream",
     "text": [
      "Epoch 16, Train Loss: 0.01928865736636929, Validation Loss: 0.01547870813184109\n",
      "No improvement in validation loss. Patience counter: 2/20\n"
     ]
    },
    {
     "name": "stdout",
     "output_type": "stream",
     "text": [
      "Epoch 17, Train Loss: 0.018135238486758798, Validation Loss: 0.01297550047329052\n",
      "No improvement in validation loss. Patience counter: 3/20\n"
     ]
    },
    {
     "name": "stdout",
     "output_type": "stream",
     "text": [
      "Epoch 18, Train Loss: 0.01908708754915207, Validation Loss: 0.013728341765376432\n",
      "No improvement in validation loss. Patience counter: 4/20\n"
     ]
    },
    {
     "name": "stdout",
     "output_type": "stream",
     "text": [
      "Epoch 19, Train Loss: 0.019393708624061572, Validation Loss: 0.012826283502615799\n",
      "No improvement in validation loss. Patience counter: 5/20\n"
     ]
    },
    {
     "name": "stdout",
     "output_type": "stream",
     "text": [
      "Epoch 20, Train Loss: 0.018784685358130354, Validation Loss: 0.014252704373516003\n",
      "No improvement in validation loss. Patience counter: 6/20\n"
     ]
    },
    {
     "name": "stdout",
     "output_type": "stream",
     "text": [
      "Epoch 21, Train Loss: 0.018560808705369906, Validation Loss: 0.012767227424061571\n",
      "No improvement in validation loss. Patience counter: 7/20\n"
     ]
    },
    {
     "name": "stdout",
     "output_type": "stream",
     "text": [
      "Epoch 22, Train Loss: 0.01863889792115897, Validation Loss: 0.013181658356494822\n",
      "No improvement in validation loss. Patience counter: 8/20\n"
     ]
    },
    {
     "name": "stdout",
     "output_type": "stream",
     "text": [
      "Epoch 23, Train Loss: 0.01871981339342622, Validation Loss: 0.013869168042511235\n",
      "No improvement in validation loss. Patience counter: 9/20\n"
     ]
    },
    {
     "name": "stdout",
     "output_type": "stream",
     "text": [
      "Epoch 24, Train Loss: 0.0176405188407019, Validation Loss: 0.012628219401582954\n",
      "No improvement in validation loss. Patience counter: 10/20\n"
     ]
    },
    {
     "name": "stdout",
     "output_type": "stream",
     "text": [
      "Epoch 25, Train Loss: 0.016706188783416023, Validation Loss: 0.01341250678617923\n",
      "No improvement in validation loss. Patience counter: 11/20\n"
     ]
    },
    {
     "name": "stdout",
     "output_type": "stream",
     "text": [
      "Epoch 26, Train Loss: 0.018064691511971348, Validation Loss: 0.014438184068614869\n",
      "No improvement in validation loss. Patience counter: 12/20\n"
     ]
    },
    {
     "name": "stdout",
     "output_type": "stream",
     "text": [
      "Epoch 27, Train Loss: 0.017341191787296515, Validation Loss: 0.013007820534032214\n",
      "No improvement in validation loss. Patience counter: 13/20\n"
     ]
    },
    {
     "name": "stdout",
     "output_type": "stream",
     "text": [
      "Epoch 28, Train Loss: 0.018533301075457424, Validation Loss: 0.013887983476161025\n",
      "No improvement in validation loss. Patience counter: 14/20\n"
     ]
    },
    {
     "name": "stdout",
     "output_type": "stream",
     "text": [
      "Epoch 29, Train Loss: 0.016408248587734743, Validation Loss: 0.01239413189668623\n",
      "No improvement in validation loss. Patience counter: 15/20\n"
     ]
    },
    {
     "name": "stdout",
     "output_type": "stream",
     "text": [
      "Epoch 30, Train Loss: 0.017481073447605033, Validation Loss: 0.014225954974140873\n",
      "No improvement in validation loss. Patience counter: 16/20\n"
     ]
    },
    {
     "name": "stdout",
     "output_type": "stream",
     "text": [
      "Epoch 31, Train Loss: 0.017364469432473082, Validation Loss: 0.012025963616728478\n",
      "Validation loss improved to 0.012025963616728478, resetting patience.\n"
     ]
    },
    {
     "name": "stdout",
     "output_type": "stream",
     "text": [
      "Epoch 32, Train Loss: 0.018080126412426383, Validation Loss: 0.01386375992400533\n",
      "No improvement in validation loss. Patience counter: 1/20\n"
     ]
    },
    {
     "name": "stdout",
     "output_type": "stream",
     "text": [
      "Epoch 33, Train Loss: 0.017723131099498086, Validation Loss: 0.01230654192345819\n",
      "No improvement in validation loss. Patience counter: 2/20\n"
     ]
    },
    {
     "name": "stdout",
     "output_type": "stream",
     "text": [
      "Epoch 34, Train Loss: 0.017701392220550803, Validation Loss: 0.0130497068707381\n",
      "No improvement in validation loss. Patience counter: 3/20\n"
     ]
    },
    {
     "name": "stdout",
     "output_type": "stream",
     "text": [
      "Epoch 35, Train Loss: 0.016213174177866396, Validation Loss: 0.011697120537591756\n",
      "Validation loss improved to 0.011697120537591756, resetting patience.\n"
     ]
    },
    {
     "name": "stdout",
     "output_type": "stream",
     "text": [
      "Epoch 36, Train Loss: 0.01704241730723661, Validation Loss: 0.013943387491202216\n",
      "No improvement in validation loss. Patience counter: 1/20\n"
     ]
    },
    {
     "name": "stdout",
     "output_type": "stream",
     "text": [
      "Epoch 37, Train Loss: 0.017332344371185807, Validation Loss: 0.013082848631410696\n",
      "No improvement in validation loss. Patience counter: 2/20\n"
     ]
    },
    {
     "name": "stdout",
     "output_type": "stream",
     "text": [
      "Epoch 38, Train Loss: 0.016476738797404644, Validation Loss: 0.014378325583582372\n",
      "No improvement in validation loss. Patience counter: 3/20\n"
     ]
    },
    {
     "name": "stdout",
     "output_type": "stream",
     "text": [
      "Epoch 39, Train Loss: 0.01681560137307387, Validation Loss: 0.015032321868858738\n",
      "No improvement in validation loss. Patience counter: 4/20\n"
     ]
    },
    {
     "name": "stdout",
     "output_type": "stream",
     "text": [
      "Epoch 40, Train Loss: 0.016142718296167397, Validation Loss: 0.011850832314191895\n",
      "No improvement in validation loss. Patience counter: 5/20\n"
     ]
    },
    {
     "name": "stdout",
     "output_type": "stream",
     "text": [
      "Epoch 41, Train Loss: 0.01544073383235961, Validation Loss: 0.014010150199650599\n",
      "No improvement in validation loss. Patience counter: 6/20\n"
     ]
    },
    {
     "name": "stdout",
     "output_type": "stream",
     "text": [
      "Epoch 42, Train Loss: 0.016259572797054152, Validation Loss: 0.014318043637245047\n",
      "No improvement in validation loss. Patience counter: 7/20\n"
     ]
    },
    {
     "name": "stdout",
     "output_type": "stream",
     "text": [
      "Epoch 43, Train Loss: 0.016885919054539105, Validation Loss: 0.013633404033784505\n",
      "No improvement in validation loss. Patience counter: 8/20\n"
     ]
    },
    {
     "name": "stdout",
     "output_type": "stream",
     "text": [
      "Epoch 44, Train Loss: 0.015705448389324334, Validation Loss: 0.016330410328106264\n",
      "No improvement in validation loss. Patience counter: 9/20\n"
     ]
    },
    {
     "name": "stdout",
     "output_type": "stream",
     "text": [
      "Epoch 45, Train Loss: 0.016462317124150243, Validation Loss: 0.012157970830505328\n",
      "No improvement in validation loss. Patience counter: 10/20\n"
     ]
    },
    {
     "name": "stdout",
     "output_type": "stream",
     "text": [
      "Epoch 46, Train Loss: 0.015521606722670575, Validation Loss: 0.012615681478839215\n",
      "No improvement in validation loss. Patience counter: 11/20\n"
     ]
    },
    {
     "name": "stdout",
     "output_type": "stream",
     "text": [
      "Epoch 47, Train Loss: 0.015905810638393927, Validation Loss: 0.013680423369857765\n",
      "No improvement in validation loss. Patience counter: 12/20\n"
     ]
    },
    {
     "name": "stdout",
     "output_type": "stream",
     "text": [
      "Epoch 48, Train Loss: 0.01583389079665054, Validation Loss: 0.011888987541243871\n",
      "No improvement in validation loss. Patience counter: 13/20\n"
     ]
    },
    {
     "name": "stdout",
     "output_type": "stream",
     "text": [
      "Epoch 49, Train Loss: 0.016244933723792102, Validation Loss: 0.0116249574630014\n",
      "No improvement in validation loss. Patience counter: 14/20\n"
     ]
    },
    {
     "name": "stdout",
     "output_type": "stream",
     "text": [
      "Epoch 50, Train Loss: 0.01607424018795854, Validation Loss: 0.01312536041967512\n",
      "No improvement in validation loss. Patience counter: 15/20\n"
     ]
    },
    {
     "name": "stdout",
     "output_type": "stream",
     "text": [
      "Epoch 51, Train Loss: 0.015390348855578287, Validation Loss: 0.011402691615616536\n",
      "Validation loss improved to 0.011402691615616536, resetting patience.\n"
     ]
    },
    {
     "name": "stdout",
     "output_type": "stream",
     "text": [
      "Epoch 52, Train Loss: 0.016665383042830537, Validation Loss: 0.01301050482416402\n",
      "No improvement in validation loss. Patience counter: 1/20\n"
     ]
    },
    {
     "name": "stdout",
     "output_type": "stream",
     "text": [
      "Epoch 53, Train Loss: 0.015997713039906145, Validation Loss: 0.01460901148224069\n",
      "No improvement in validation loss. Patience counter: 2/20\n"
     ]
    },
    {
     "name": "stdout",
     "output_type": "stream",
     "text": [
      "Epoch 54, Train Loss: 0.015686591734121746, Validation Loss: 0.012777660592529378\n",
      "No improvement in validation loss. Patience counter: 3/20\n"
     ]
    },
    {
     "name": "stdout",
     "output_type": "stream",
     "text": [
      "Epoch 55, Train Loss: 0.01586507439716248, Validation Loss: 0.011861798545467128\n",
      "No improvement in validation loss. Patience counter: 4/20\n"
     ]
    },
    {
     "name": "stdout",
     "output_type": "stream",
     "text": [
      "Epoch 56, Train Loss: 0.016274918649108756, Validation Loss: 0.012296794596061643\n",
      "No improvement in validation loss. Patience counter: 5/20\n"
     ]
    },
    {
     "name": "stdout",
     "output_type": "stream",
     "text": [
      "Epoch 57, Train Loss: 0.015690517999323295, Validation Loss: 0.012692008639232324\n",
      "No improvement in validation loss. Patience counter: 6/20\n"
     ]
    },
    {
     "name": "stdout",
     "output_type": "stream",
     "text": [
      "Epoch 58, Train Loss: 0.016388409537191985, Validation Loss: 0.015977916825951458\n",
      "No improvement in validation loss. Patience counter: 7/20\n"
     ]
    },
    {
     "name": "stdout",
     "output_type": "stream",
     "text": [
      "Epoch 59, Train Loss: 0.015663692229038684, Validation Loss: 0.015058488052722058\n",
      "No improvement in validation loss. Patience counter: 8/20\n"
     ]
    },
    {
     "name": "stdout",
     "output_type": "stream",
     "text": [
      "Epoch 60, Train Loss: 0.015652814938568547, Validation Loss: 0.011535633323498532\n",
      "No improvement in validation loss. Patience counter: 9/20\n"
     ]
    },
    {
     "name": "stdout",
     "output_type": "stream",
     "text": [
      "Epoch 61, Train Loss: 0.014031576744400188, Validation Loss: 0.013110619544885576\n",
      "No improvement in validation loss. Patience counter: 10/20\n"
     ]
    },
    {
     "name": "stdout",
     "output_type": "stream",
     "text": [
      "Epoch 62, Train Loss: 0.015783236106503052, Validation Loss: 0.012194998943737212\n",
      "No improvement in validation loss. Patience counter: 11/20\n"
     ]
    },
    {
     "name": "stdout",
     "output_type": "stream",
     "text": [
      "Epoch 63, Train Loss: 0.01643100395156612, Validation Loss: 0.0122029536797731\n",
      "No improvement in validation loss. Patience counter: 12/20\n"
     ]
    },
    {
     "name": "stdout",
     "output_type": "stream",
     "text": [
      "Epoch 64, Train Loss: 0.014283045023447617, Validation Loss: 0.012739647279025176\n",
      "No improvement in validation loss. Patience counter: 13/20\n"
     ]
    },
    {
     "name": "stdout",
     "output_type": "stream",
     "text": [
      "Epoch 65, Train Loss: 0.015799530840782464, Validation Loss: 0.01212644466556171\n",
      "No improvement in validation loss. Patience counter: 14/20\n"
     ]
    },
    {
     "name": "stdout",
     "output_type": "stream",
     "text": [
      "Epoch 66, Train Loss: 0.01561722361156026, Validation Loss: 0.013961328300798896\n",
      "No improvement in validation loss. Patience counter: 15/20\n"
     ]
    },
    {
     "name": "stdout",
     "output_type": "stream",
     "text": [
      "Epoch 67, Train Loss: 0.015712605543807212, Validation Loss: 0.015624012538259825\n",
      "No improvement in validation loss. Patience counter: 16/20\n"
     ]
    },
    {
     "name": "stdout",
     "output_type": "stream",
     "text": [
      "Epoch 68, Train Loss: 0.014411457934335722, Validation Loss: 0.013507535050815263\n",
      "No improvement in validation loss. Patience counter: 17/20\n"
     ]
    },
    {
     "name": "stdout",
     "output_type": "stream",
     "text": [
      "Epoch 69, Train Loss: 0.015089859748693759, Validation Loss: 0.014180564419283266\n",
      "No improvement in validation loss. Patience counter: 18/20\n"
     ]
    },
    {
     "name": "stdout",
     "output_type": "stream",
     "text": [
      "Epoch 70, Train Loss: 0.016441752672599473, Validation Loss: 0.013492411923638132\n",
      "No improvement in validation loss. Patience counter: 19/20\n"
     ]
    },
    {
     "name": "stdout",
     "output_type": "stream",
     "text": [
      "Epoch 71, Train Loss: 0.015390273288867221, Validation Loss: 0.013904797630976292\n",
      "No improvement in validation loss. Patience counter: 20/20\n",
      "Early stopping triggered. Stopping training at epoch 71.\n",
      "Loaded best model weights based on validation loss.\n"
     ]
    }
   ],
   "source": [
    "import copy  # 用于保存模型的最佳状态\n",
    "\n",
    "# Early Stopping 参数\n",
    "patience = 20  # 如果验证损失在 10 个 epoch 中没有改善，停止训练\n",
    "min_delta = 1e-4  # 最小改善幅度\n",
    "patience_counter = 0\n",
    "best_val_loss = float('inf')  # 初始设置为正无穷大\n",
    "best_model_weights = copy.deepcopy(estim.model.state_dict())  # 保存最佳模型权重\n",
    "train_losses = []\n",
    "val_losses = []\n",
    "\n",
    "# 训练 500 个 epoch\n",
    "for epoch in range(500):\n",
    "    train_loss, val_loss = train_epoch(estim.model, optimizer, loss_fn, train_loader, val_loader)\n",
    "    print(f'Epoch {epoch+1}, Train Loss: {train_loss}, Validation Loss: {val_loss}')\n",
    "    train_losses.append(train_loss)\n",
    "    val_losses.append(val_loss)\n",
    "    \n",
    "    # Early Stopping 检查\n",
    "    if val_loss < best_val_loss - min_delta:\n",
    "        best_val_loss = val_loss  # 更新最佳验证损失\n",
    "        patience_counter = 0  # 重置 patience 计数器\n",
    "        best_model_weights = copy.deepcopy(estim.model.state_dict())  # 保存当前最佳模型\n",
    "        print(f\"Validation loss improved to {best_val_loss}, resetting patience.\")\n",
    "    else:\n",
    "        patience_counter += 1\n",
    "        print(f\"No improvement in validation loss. Patience counter: {patience_counter}/{patience}\")\n",
    "    \n",
    "    # 如果 patience_counter 超过设置的 patience，停止训练\n",
    "    if patience_counter >= patience:\n",
    "        print(f\"Early stopping triggered. Stopping training at epoch {epoch+1}.\")\n",
    "        break\n",
    "\n",
    "# 恢复到训练中性能最好的模型权重\n",
    "estim.model.load_state_dict(best_model_weights)\n",
    "print(\"Loaded best model weights based on validation loss.\")\n"
   ]
  },
  {
   "cell_type": "code",
   "execution_count": 12,
   "metadata": {
    "execution": {
     "iopub.execute_input": "2025-01-17T09:55:27.648573Z",
     "iopub.status.busy": "2025-01-17T09:55:27.648385Z",
     "iopub.status.idle": "2025-01-17T09:55:29.581366Z",
     "shell.execute_reply": "2025-01-17T09:55:29.580751Z"
    }
   },
   "outputs": [],
   "source": [
    "# 8. 使用 KNN 替代测试阶段的 FC 分类层\n",
    "# 使用 encoder 提取训练集和测试集的 embedding\n",
    "estim.model.eval()\n",
    "with torch.no_grad():\n",
    "    train_embeddings = estim.model.encoder(torch.tensor(X_train).float().to(device)).cpu().numpy()\n",
    "    test_embeddings = estim.model.encoder(torch.tensor(X_test).float().to(device)).cpu().numpy()"
   ]
  },
  {
   "cell_type": "code",
   "execution_count": 13,
   "metadata": {
    "execution": {
     "iopub.execute_input": "2025-01-17T09:55:29.583414Z",
     "iopub.status.busy": "2025-01-17T09:55:29.583243Z",
     "iopub.status.idle": "2025-01-17T09:55:30.453867Z",
     "shell.execute_reply": "2025-01-17T09:55:30.453304Z"
    }
   },
   "outputs": [
    {
     "name": "stdout",
     "output_type": "stream",
     "text": [
      "KNN Accuracy on Test Data: 0.9970886521419202\n",
      "Weighted F1 Score: 0.9970813306585145\n",
      "Macro F1 Score: 0.9916985583188406\n",
      "Random Guess Accuracy: 0.32775393340845166\n",
      "                                                                precision    recall  f1-score   support\n",
      "\n",
      "     L2/3-6 intratelencephalic projecting glutamatergic neuron       1.00      1.00      1.00     17236\n",
      "L5 extratelencephalic projecting glutamatergic cortical neuron       1.00      1.00      1.00        87\n",
      "                             L6b glutamatergic cortical neuron       1.00      1.00      1.00       702\n",
      "                            VIP GABAergic cortical interneuron       0.99      1.00      1.00      2022\n",
      "                              astrocyte of the cerebral cortex       1.00      1.00      1.00       639\n",
      "                caudal ganglionic eminence derived interneuron       0.97      0.96      0.97       162\n",
      "                              cerebral cortex endothelial cell       0.96      1.00      0.98        27\n",
      "               chandelier pvalb GABAergic cortical interneuron       1.00      1.00      1.00       140\n",
      "      corticothalamic-projecting glutamatergic cortical neuron       1.00      1.00      1.00       595\n",
      "                          lamp5 GABAergic cortical interneuron       0.99      1.00      1.00      1252\n",
      "                                               microglial cell       1.00      1.00      1.00       221\n",
      "                 near-projecting glutamatergic cortical neuron       1.00      1.00      1.00       673\n",
      "                                               oligodendrocyte       1.00      1.00      1.00      1544\n",
      "                                oligodendrocyte precursor cell       1.00      1.00      1.00       465\n",
      "                          pvalb GABAergic cortical interneuron       0.99      0.99      0.99      2359\n",
      "                           sncg GABAergic cortical interneuron       0.99      0.96      0.97       368\n",
      "                            sst GABAergic cortical interneuron       0.99      0.99      0.99      2714\n",
      "                                  vascular leptomeningeal cell       1.00      0.94      0.97        51\n",
      "\n",
      "                                                      accuracy                           1.00     31257\n",
      "                                                     macro avg       0.99      0.99      0.99     31257\n",
      "                                                  weighted avg       1.00      1.00      1.00     31257\n",
      "\n"
     ]
    }
   ],
   "source": [
    "import pandas as pd\n",
    "from sklearn.neighbors import KNeighborsClassifier\n",
    "from sklearn.metrics import accuracy_score, f1_score, classification_report\n",
    "\n",
    "    \n",
    "\n",
    "    # 初始化和训练KNN分类器\n",
    "knn = KNeighborsClassifier(n_neighbors=5)\n",
    "knn.fit(train_embeddings, y_train)\n",
    "    \n",
    "    # 模型预测\n",
    "predictions = knn.predict(test_embeddings)\n",
    "\n",
    "    # 计算准确率和 F1 分数\n",
    "accuracy = accuracy_score(y_test, predictions)\n",
    "print(f\"KNN Accuracy on Test Data: {accuracy}\")\n",
    "f1 = f1_score(y_test, predictions, average='weighted')\n",
    "print(f\"Weighted F1 Score: {f1}\")\n",
    "    \n",
    "macro_f1 = f1_score(y_test, predictions, average='macro')\n",
    "print(f'Macro F1 Score: {macro_f1}')\n",
    "\n",
    "    # 计算随机猜测的准确率\n",
    "class_probabilities = np.bincount(y_test) / len(y_test)\n",
    "random_accuracy = np.sum(class_probabilities ** 2)\n",
    "print(f\"Random Guess Accuracy: {random_accuracy}\")\n",
    "\n",
    "    # 生成分类报告\n",
    "report = classification_report(y_test, predictions, target_names=label_encoder.classes_)\n",
    "print(report)"
   ]
  },
  {
   "cell_type": "code",
   "execution_count": 14,
   "metadata": {
    "execution": {
     "iopub.execute_input": "2025-01-17T09:55:30.455419Z",
     "iopub.status.busy": "2025-01-17T09:55:30.455254Z",
     "iopub.status.idle": "2025-01-17T09:55:30.465756Z",
     "shell.execute_reply": "2025-01-17T09:55:30.465275Z"
    }
   },
   "outputs": [
    {
     "name": "stdout",
     "output_type": "stream",
     "text": [
      "Metrics Summary:\n",
      "init_train_loss\tinit_val_loss\tconverged_epoch\tconverged_val_loss\tmacro_f1\tweighted_f1\tmicro_f1\n",
      "0.332\t0.016\t51\t0.011\t0.992\t0.997\t0.997\n"
     ]
    }
   ],
   "source": [
    "\n",
    "import pandas as pd\n",
    "import os\n",
    "import re\n",
    "\n",
    "# 当前 Notebook 文件名\n",
    "notebook_name = \"Human_Great_Apes_random_mask_fine_tune_42.ipynb\"\n",
    "\n",
    "# 初始化需要打印的值\n",
    "init_train_loss = train_losses[0] if 'train_losses' in globals() else None\n",
    "init_val_loss = val_losses[0] if 'val_losses' in globals() else None\n",
    "converged_epoch = len(train_losses) - patience if 'train_losses' in globals() else None\n",
    "converged_val_loss = best_val_loss if 'best_val_loss' in globals() else None\n",
    "\n",
    "# 打印所有所需的指标\n",
    "print(\"Metrics Summary:\")\n",
    "if 'train_losses' in globals():\n",
    "    print(f\"init_train_loss\\tinit_val_loss\\tconverged_epoch\\tconverged_val_loss\\tmacro_f1\\tweighted_f1\\tmicro_f1\")\n",
    "    print(f\"{init_train_loss:.3f}\\t{init_val_loss:.3f}\\t{converged_epoch}\\t{converged_val_loss:.3f}\\t{macro_f1:.3f}\\t{f1:.3f}\\t{accuracy:.3f}\")\n",
    "else:\n",
    "    print(f\"macro_f1\\tweighted_f1\\tmicor_f1\")\n",
    "    print(f\"{macro_f1:.3f}\\t{f1:.3f}\\t{accuracy:.3f}\")\n",
    "\n",
    "# 保存结果到 CSV 文件\n",
    "output_data = {\n",
    "    'dataset_split_random_seed': [int(random_seed)],\n",
    "    'dataset': ['Human_Great_Apes'],\n",
    "    'method': [re.search(r'Human_Great_Apes_(.*?)_\\d+', notebook_name).group(1)],\n",
    "    'init_train_loss': [init_train_loss if init_train_loss is not None else ''],\n",
    "    'init_val_loss': [init_val_loss if init_val_loss is not None else ''],\n",
    "    'converged_epoch': [converged_epoch if converged_epoch is not None else ''],\n",
    "    'converged_val_loss': [converged_val_loss if converged_val_loss is not None else ''],\n",
    "    'macro_f1': [macro_f1],\n",
    "    'weighted_f1': [f1],\n",
    "    'micro_f1': [accuracy]\n",
    "}\n",
    "output_df = pd.DataFrame(output_data)\n",
    "\n",
    "# 保存到当前目录下名为 results 的文件夹中\n",
    "if not os.path.exists('results'):\n",
    "    os.makedirs('results')\n",
    "\n",
    "csv_filename = f\"results/{os.path.splitext(notebook_name)[0]}_results.csv\"\n",
    "output_df.to_csv(csv_filename, index=False)\n"
   ]
  }
 ],
 "metadata": {
  "kernelspec": {
   "display_name": "ssl",
   "language": "python",
   "name": "python3"
  },
  "language_info": {
   "codemirror_mode": {
    "name": "ipython",
    "version": 3
   },
   "file_extension": ".py",
   "mimetype": "text/x-python",
   "name": "python",
   "nbconvert_exporter": "python",
   "pygments_lexer": "ipython3",
   "version": "3.10.13"
  }
 },
 "nbformat": 4,
 "nbformat_minor": 2
}
