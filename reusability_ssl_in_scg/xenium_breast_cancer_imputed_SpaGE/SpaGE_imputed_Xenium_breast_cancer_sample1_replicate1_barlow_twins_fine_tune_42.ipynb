{
 "cells": [
  {
   "cell_type": "code",
   "execution_count": 1,
   "metadata": {
    "execution": {
     "iopub.execute_input": "2025-04-12T07:51:04.602006Z",
     "iopub.status.busy": "2025-04-12T07:51:04.601872Z",
     "iopub.status.idle": "2025-04-12T07:51:09.852649Z",
     "shell.execute_reply": "2025-04-12T07:51:09.852074Z"
    }
   },
   "outputs": [],
   "source": [
    "import scanpy as sc\n",
    "data_dir = '../../dataset/SpaGE_imputed_Xenium_breast_cancer_sample1_replicate1.h5ad'\n",
    "adata = sc.read_h5ad(data_dir)"
   ]
  },
  {
   "cell_type": "code",
   "execution_count": 2,
   "metadata": {
    "execution": {
     "iopub.execute_input": "2025-04-12T07:51:09.854796Z",
     "iopub.status.busy": "2025-04-12T07:51:09.854476Z",
     "iopub.status.idle": "2025-04-12T07:51:09.860140Z",
     "shell.execute_reply": "2025-04-12T07:51:09.859743Z"
    }
   },
   "outputs": [
    {
     "data": {
      "text/plain": [
       "Index(['ABCC11', 'ACTA2', 'ACTG2', 'ADAM9', 'ADGRE5', 'ADH1B', 'ADIPOQ',\n",
       "       'AGR3', 'AHSP', 'AIF1',\n",
       "       ...\n",
       "       'ZW10', 'ZWILCH', 'ZWINT', 'ZXDA', 'ZXDB', 'ZXDC', 'ZYG11A', 'ZYG11B',\n",
       "       'ZYX', 'ZZEF1'],\n",
       "      dtype='object', length=18085)"
      ]
     },
     "execution_count": 2,
     "metadata": {},
     "output_type": "execute_result"
    }
   ],
   "source": [
    "adata.var.index"
   ]
  },
  {
   "cell_type": "code",
   "execution_count": 3,
   "metadata": {
    "execution": {
     "iopub.execute_input": "2025-04-12T07:51:09.886768Z",
     "iopub.status.busy": "2025-04-12T07:51:09.886618Z",
     "iopub.status.idle": "2025-04-12T07:51:12.911894Z",
     "shell.execute_reply": "2025-04-12T07:51:12.911394Z"
    }
   },
   "outputs": [
    {
     "name": "stderr",
     "output_type": "stream",
     "text": [
      "/home/hanchuangyi/miniconda3/envs/ssl/lib/python3.10/site-packages/merlin/dtypes/mappings/tf.py:52: UserWarning: Tensorflow dtype mappings did not load successfully due to an error: No module named 'tensorflow'\n",
      "  warn(f\"Tensorflow dtype mappings did not load successfully due to an error: {exc.msg}\")\n",
      "/home/hanchuangyi/miniconda3/envs/ssl/lib/python3.10/site-packages/merlin/dtypes/mappings/triton.py:53: UserWarning: Triton dtype mappings did not load successfully due to an error: No module named 'tritonclient'\n",
      "  warn(f\"Triton dtype mappings did not load successfully due to an error: {exc.msg}\")\n",
      "GPU available: True (cuda), used: True\n"
     ]
    },
    {
     "name": "stderr",
     "output_type": "stream",
     "text": [
      "TPU available: False, using: 0 TPU cores\n"
     ]
    },
    {
     "name": "stderr",
     "output_type": "stream",
     "text": [
      "HPU available: False, using: 0 HPUs\n"
     ]
    },
    {
     "data": {
      "text/plain": [
       "MLPBarlowTwins(\n",
       "  (train_metrics): MetricCollection(\n",
       "    (explained_var_uniform): ExplainedVariance()\n",
       "    (explained_var_weighted): ExplainedVariance()\n",
       "    (mse): MeanSquaredError(),\n",
       "    prefix=train_\n",
       "  )\n",
       "  (val_metrics): MetricCollection(\n",
       "    (explained_var_uniform): ExplainedVariance()\n",
       "    (explained_var_weighted): ExplainedVariance()\n",
       "    (mse): MeanSquaredError(),\n",
       "    prefix=val_\n",
       "  )\n",
       "  (test_metrics): MetricCollection(\n",
       "    (explained_var_uniform): ExplainedVariance()\n",
       "    (explained_var_weighted): ExplainedVariance()\n",
       "    (mse): MeanSquaredError(),\n",
       "    prefix=test_\n",
       "  )\n",
       "  (inner_model): MLP(\n",
       "    (0): Linear(in_features=19331, out_features=512, bias=True)\n",
       "    (1): SELU()\n",
       "    (2): Dropout(p=0.0, inplace=False)\n",
       "    (3): Linear(in_features=512, out_features=512, bias=True)\n",
       "    (4): SELU()\n",
       "    (5): Dropout(p=0.0, inplace=False)\n",
       "    (6): Linear(in_features=512, out_features=256, bias=True)\n",
       "    (7): SELU()\n",
       "    (8): Dropout(p=0.0, inplace=False)\n",
       "    (9): Linear(in_features=256, out_features=256, bias=True)\n",
       "    (10): SELU()\n",
       "    (11): Dropout(p=0.0, inplace=False)\n",
       "    (12): Linear(in_features=256, out_features=64, bias=True)\n",
       "  )\n",
       "  (barlow_twins): BarlowTwins(\n",
       "    (backbone): MLP(\n",
       "      (0): Linear(in_features=19331, out_features=512, bias=True)\n",
       "      (1): SELU()\n",
       "      (2): Dropout(p=0.0, inplace=False)\n",
       "      (3): Linear(in_features=512, out_features=512, bias=True)\n",
       "      (4): SELU()\n",
       "      (5): Dropout(p=0.0, inplace=False)\n",
       "      (6): Linear(in_features=512, out_features=256, bias=True)\n",
       "      (7): SELU()\n",
       "      (8): Dropout(p=0.0, inplace=False)\n",
       "      (9): Linear(in_features=256, out_features=256, bias=True)\n",
       "      (10): SELU()\n",
       "      (11): Dropout(p=0.0, inplace=False)\n",
       "      (12): Linear(in_features=256, out_features=64, bias=True)\n",
       "    )\n",
       "    (projector): Sequential(\n",
       "      (0): Linear(in_features=64, out_features=256, bias=False)\n",
       "      (1): BatchNorm1d(256, eps=1e-05, momentum=0.1, affine=True, track_running_stats=True)\n",
       "      (2): ReLU(inplace=True)\n",
       "      (3): Linear(in_features=256, out_features=256, bias=False)\n",
       "      (4): BatchNorm1d(256, eps=1e-05, momentum=0.1, affine=True, track_running_stats=True)\n",
       "      (5): ReLU(inplace=True)\n",
       "      (6): Linear(in_features=256, out_features=512, bias=False)\n",
       "      (7): BatchNorm1d(512, eps=1e-05, momentum=0.1, affine=True, track_running_stats=True)\n",
       "      (8): ReLU(inplace=True)\n",
       "      (9): Linear(in_features=512, out_features=512, bias=False)\n",
       "    )\n",
       "    (bn): BatchNorm1d(512, eps=1e-05, momentum=0.1, affine=False, track_running_stats=True)\n",
       "  )\n",
       ")"
      ]
     },
     "execution_count": 3,
     "metadata": {},
     "output_type": "execute_result"
    }
   ],
   "source": [
    "%load_ext autoreload\n",
    "%autoreload 2\n",
    "import torch\n",
    "from torch import nn\n",
    "from torch.optim import AdamW\n",
    "import lightning.pytorch as pl\n",
    "from sklearn.model_selection import train_test_split\n",
    "from sklearn.preprocessing import LabelEncoder\n",
    "from self_supervision.models.lightning_modules.cellnet_autoencoder import MLPBarlowTwins\n",
    "from self_supervision.estimator.cellnet import EstimatorAutoEncoder\n",
    "\n",
    "# 设置你的 .ckpt 文件路径\n",
    "ckpt_path = \"../../sc_pretrained/Pretrained Models/BarlowTwins.ckpt\"\n",
    "\n",
    "# 模型参数\n",
    "units_encoder = [512, 512, 256, 256, 64]\n",
    "\n",
    "# 初始化 EstimatorAutoEncoder 实例\n",
    "estim = EstimatorAutoEncoder(data_path=None)  # 如果没有实际数据路径，可以设置为None\n",
    "\n",
    "# 加载预训练模型\n",
    "estim.model = MLPBarlowTwins(\n",
    "        gene_dim=19331,  # 根据你的数据调整\n",
    "        batch_size=128,  # 根据你的需要调整\n",
    "        units_encoder=units_encoder,\n",
    "        CHECKPOINT_PATH=ckpt_path\n",
    "    )\n",
    "\n",
    "\n",
    "estim.trainer = pl.Trainer(accelerator=\"gpu\", devices=1 if torch.cuda.is_available() else None)\n",
    "estim.model"
   ]
  },
  {
   "cell_type": "code",
   "execution_count": 4,
   "metadata": {
    "execution": {
     "iopub.execute_input": "2025-04-12T07:51:12.913580Z",
     "iopub.status.busy": "2025-04-12T07:51:12.913183Z",
     "iopub.status.idle": "2025-04-12T07:51:14.206157Z",
     "shell.execute_reply": "2025-04-12T07:51:14.205584Z"
    }
   },
   "outputs": [],
   "source": [
    "# 加载 checkpoint\n",
    "checkpoint = torch.load(ckpt_path)\n",
    "estim.model.inner_model.load_state_dict({k.replace('backbone.', ''): v for k, v in checkpoint.items() if 'backbone' in k})\n",
    "\n",
    "# 5. 添加分类层 (FC 层)\n",
    "n_classes = len(adata.obs['cell_type'].unique())\n",
    "estim.model.fc = nn.Linear(units_encoder[-1], n_classes)"
   ]
  },
  {
   "cell_type": "code",
   "execution_count": 5,
   "metadata": {
    "execution": {
     "iopub.execute_input": "2025-04-12T07:51:14.207671Z",
     "iopub.status.busy": "2025-04-12T07:51:14.207502Z",
     "iopub.status.idle": "2025-04-12T07:51:14.241023Z",
     "shell.execute_reply": "2025-04-12T07:51:14.240569Z"
    }
   },
   "outputs": [],
   "source": [
    "# 6. 冻结 encoder 的大部分参数，解冻所有层\n",
    "for param in estim.model.inner_model.parameters():\n",
    "    param.requires_grad = False  # 冻结所有层\n",
    "\n",
    "# 解冻最后两层\n",
    "for param in list(estim.model.inner_model.parameters())[-5:]:\n",
    "    param.requires_grad = True"
   ]
  },
  {
   "cell_type": "code",
   "execution_count": 6,
   "metadata": {
    "execution": {
     "iopub.execute_input": "2025-04-12T07:51:14.242266Z",
     "iopub.status.busy": "2025-04-12T07:51:14.242119Z",
     "iopub.status.idle": "2025-04-12T07:51:14.284464Z",
     "shell.execute_reply": "2025-04-12T07:51:14.284009Z"
    }
   },
   "outputs": [],
   "source": [
    "# 7. 定义损失函数和优化器\n",
    "device = torch.device(\"cuda\" if torch.cuda.is_available() else \"cpu\")\n",
    "estim.model.to(device)\n",
    "loss_fn = nn.CrossEntropyLoss()\n",
    "optimizer = AdamW(filter(lambda p: p.requires_grad, estim.model.parameters()), lr=9e-4, weight_decay=0.05)"
   ]
  },
  {
   "cell_type": "code",
   "execution_count": 7,
   "metadata": {
    "execution": {
     "iopub.execute_input": "2025-04-12T07:51:14.285744Z",
     "iopub.status.busy": "2025-04-12T07:51:14.285594Z",
     "iopub.status.idle": "2025-04-12T07:51:14.332300Z",
     "shell.execute_reply": "2025-04-12T07:51:14.331839Z"
    }
   },
   "outputs": [],
   "source": [
    "import pandas as pd\n",
    "import numpy as np\n",
    "\n",
    "var_df = pd.read_parquet('../../sc_pretrained/var.parquet')\n",
    "all_genes = var_df['feature_name'].tolist()\n",
    "\n",
    "new_data = np.zeros((adata.X.shape[0], len(all_genes)), dtype=np.float32)\n",
    "\n",
    "adata.var['gene_name']=adata.var.index\n",
    "existing_genes = adata.var['gene_name']"
   ]
  },
  {
   "cell_type": "code",
   "execution_count": 8,
   "metadata": {
    "execution": {
     "iopub.execute_input": "2025-04-12T07:51:14.333551Z",
     "iopub.status.busy": "2025-04-12T07:51:14.333403Z",
     "iopub.status.idle": "2025-04-12T07:51:14.376335Z",
     "shell.execute_reply": "2025-04-12T07:51:14.375900Z"
    }
   },
   "outputs": [
    {
     "name": "stdout",
     "output_type": "stream",
     "text": [
      "匹配的基因数量: 17773\n",
      "匹配的基因列表: {'il22', 'pramef27', 'clec4g', 'mob2', 'c19orf53', 'hsd3b1', 'foxc2', 'dbnl', 'agfg2', 'anxa8', 'cntnap4', 'smpx', 'ppef2', 'kifap3', 'lrrc58', 'gbp7', 'mrgprx4', 'bmp15', 'lrrc73', 'szt2', 'lrrk2', 'nlrp14', 'ier5', 'kirrel3', 'c20orf202', 'deaf1', 'iqcb1', 'iqcn', 'klrb1', 'blnk', 'tvp23a', 'eif3m', 'znf107', 'cpsf4', 'plekhg4b', 'ice2', 'rimbp3b', 'exoc6', 'fam114a2', 'tmem144', 'uck1', 'znf41', 'r3hdm1', 'chst4', 'siah3', 'wdr45b', 'dguok', 'trmt5', 'lix1l', 'otof', 'fbxl17', 'rxfp2', 'zdhhc3', 'col5a3', 'f2rl1', 'clec2l', 'tmem14c', 'ptf1a', 'cdca5', 'nmnat3', 'spag1', 'rbmxl1', 'fgfbp2', 'fgl2', 'chst5', 'pmpca', 'kiaa1217', 'ncbp2', 'trim8', 'mesd', 'tmem160', 'yjefn3', 'gmfb', 'rab36', 'mmp15', 'ano8', 'bpifb1', 'myh10', 'inpp4a', 'krtdap', 'nr3c2', 'llph', 'cd79b', 'polr2h', 'ccnq', 'cd226', 'safb2', 'xpr1', 'clba1', 'hmhb1', 'insig1', 'vash1', 'hdac6', 'arrdc5', 'prg4', 'cyp26c1', 'taf7', 'cltrn', 'trmt10a', 'gdi2', 'ngrn', 'oosp1', 'tmem145', 'prrx2', 'erich2', 'necab3', 'cd58', 'gab2', 'cars2', 'phlpp2', 'duxb', 'ap2a1', 'gls', 'rnaset2', 'sema5a', 'mpdu1', 'gpc2', 'sesn1', 'tslp', 'nudt15', 'eva1c', 'slc35a2', 'mab21l2', 'prkcg', 'amt', 'atl1', 'fam120c', 'tsfm', 'spdef', 'entpd1', 'rabac1', 'acad10', 'negr1', 'nckap1l', 'septin6', 'vps51', 'acot13', 'tmem30b', 'cmtm6', 'hsd17b10', 'snap25', 'hspb8', 'gart', 'me2', 'phf2', 'mrap', 'top1mt', 'fancb', 'fancd2', 'atxn1', 'prss41', 'parp6', 'cox6b2', 'plec', 'septin1', 'trim27', 'sorcs1', 'ttll3', 'hjv', 'dhrs7c', 'rnf135', 'usp48', 'nup210l', 'abca6', 'hs3st6', 'cspg4', 'aatk', 'sh2d7', 'catsper2', 'abhd16b', 'prmt7', 'arid3b', 'cntn4', 'pts', 'sf3a1', 'slc16a4', 'fbxl6', 'prss36', 'hnrnpcl3', 'or4c6', 'scaper', 'arhgap10', 'tmem121b', 'crtc1', 'tet1', 'ubash3b', 'spink13', 'or51t1', 'plcxd3', 'armcx4', 'cables2', 'rexo1', 'ctsa', 'elspbp1', 'lrrc74a', 'rabgap1', 'foxi2', 'magee2', 'tcf23', 'cela3a', 'kiaa1522', 'erap2', 'slamf9', 'usp36', 'dtx2', 'nup42', 'rnf20', 'rpn1', 'plekha6', 'page3', 'plch2', 'cspg5', 'pex26', 'cskmt', 'myl6b', 'ctdspl', 'spag5', 'siglec11', 'wwtr1', 'mpg', 'klhl20', 'aldh1l1', 'anapc7', 'hcls1', 'dnaja4', 'cdc42se2', 'fezf2', 'foxm1', 'itpkc', 'spag4', 'rufy1', 'znf732', 'guca2b', 'eif4e3', 'cdkn2aip', 'dedd2', 'slc25a51', 'tmem238', 'tmem269', 'fam151a', 'arpc1a', 'cacng4', 'chrm5', 'pcm1', 'il15ra', 'fam131b', 'krtap19-8', 'slc8a2', 'wnt3', 'atp1b3', 'trim67', 'hpr', 'ptpra', 'krtap5-6', 'odf3', 'ap1g1', 'lcor', 'rhoh', 'cd160', 'znf658', 'krtap4-1', 'glra1', 'pnma8b', 'pbov1', 'per3', 'slc6a3', 'tbcd', 'smim35', 'atp8b2', 'bcl11a', 'tp63', 'vwa5b1', 'palmd', 'ppp1r9b', 'chsy3', 'dmrta1', 'spanxn5', 'slc35d3', 'nkx2-2', 'ilkap', 'rgcc', 'acsm1', 'abo', 'slc6a12', 'ccdc110', 'glyr1', 'c1r', 'krtap8-1', 'loxl2', 'hpx', 'grik1', 'synpo2', 'coq10a', 'ctps1', 'tpsd1', 'spag9', 'dnajb2', 'polb', 'rpp38', 'golga8r', 'tmco5a', 'adgrg6', 'sbsn', 'ggnbp2', 'nyx', 'enpp7', 'fam183a', 'arid2', 'dgkz', 'arhgap32', 'p2rx1', 'krtap10-8', 'maged1', 'csn1s1', 'stx5', 'fastk', 'pggt1b', 'tk2', 'zik1', 'bsdc1', 'hp', 'magec3', 'eif3e', 'stk16', 'dnlz', 'nkpd1', 'commd4', 'tnfrsf17', 'pi4kb', 'cdh3', 'pitpnc1', 'etnk1', 'znf256', 'ggt2', 'prame', 'sgip1', 'myl5', 'coq3', 'pex11b', 'ntan1', 'or10k2', 'acrv1', 'asip', 'seh1l', 'prelid2', 'znf677', 'znf568', 'pcbp1', 'znf229', 'kcnh2', 'lrpprc', 'rpa3', 'prdm10', 'icam1', 'sfxn5', 'pcgf3', 'smad3', 'unc119', 'dkk2', 'trmt12', 'krt6c', 'gsg1', 'or4d11', 'smad9', 'agap3', 'rbx1', 'fzd7', 'scn1b', 'spdl1', 'lipf', 'pi4k2b', 'smcr8', 'tmem132a', 'epcam', 'ntpcr', 'rell1', 'shmt1', 'tyw1b', 'oxt', 'eqtn', 'clcc1', 'znf706', 'piezo1', 'ctnna3', 'fsip1', 'sh2d1a', 'c10orf143', 'tradd', 'tulp3', 'hsdl1', 'znf410', 'zg16b', 'adcy8', 'abraxas1', 'polr2f', 'gas2l3', 'peli3', 'ndufa5', 'lbr', 'rrp12', 'mknk2', 'ash2l', 'c9orf50', 'snx1', 'mettl9', 'lin37', 'igfbp6', 'kirrel2', 'znf610', 'stk3', 'got2', 'ormdl2', 'neu2', 'krt14', 'hspa1b', 'naa38', 'golga8b', 'ubl4b', 'blacat1', 'znf570', 'sh3bp1', 'bcl6', 'bud23', 'adamts4', 'lhx5', 'kcnmb1', 'c10orf90', 'gja5', 'cysltr1', 'serpinb2', 'snapc4', 'strbp', 'psmd6', 'taf9b', 'ankrd22', 'trim17', 'klhdc1', 'vwa1', 'c19orf47', 'fbxo10', 'grhl3', 'gtf2f1', 'acsm6', 'gsdmc', 'ndfip1', 'neb', 'ube2b', 'wdr44', 'cpxm1', 'rwdd3', 'c12orf42', 'slc45a3', 'msrb1', 'napepld', 'crybg2', 'pcgf6', 'camp', 'trim4', 'galr3', 'sh3bp5', 'slc41a3', 'add3', 'jmy', 'chmp4a', 'wdr18', 'srd5a2', 'rogdi', 'npbwr1', 'prpf31', 'pdk1', 'tbc1d1', 'tbrg1', 'tom1l2', 'gpam', 'lrrc9', 'lefty2', 'mdh1b', 'sema4a', 'erbb4', 'sntg2', 'tymp', 'rdh11', 'sclt1', 'or1n2', 'cab39', 'ooep', 'ovol3', 'cx3cl1', 'ptbp3', 'ccdc158', 'ppif', 'hdac1', 'mff', 'rapgef3', 'mbd4', 'aig1', 'dip2c', 'nktr', 'znf547', 'ddx54', 'or6a2', 'slc29a1', 'ubac2', 'rangap1', 'syt2', 'plcxd1', 'kir3dl3', 'psmb11', 'hsh2d', 'vta1', 'art3', 'apoh', 'timm10b', 'nos2', 'mat2b', 'or2y1', 'homez', 'stard6', 'pmis2', 'cryba2', 'mllt3', 'rcor2', 'or5p2', 'fchsd2', 'cd93', 'hbp1', 'tnfrsf4', 'vstm1', 'brap', 'col13a1', 'olfml1', 'lsm5', 'slc22a4', 'ythdf1', 'c11orf87', 'rin2', 'bpnt1', 'myo1d', 'crim1', 'slc22a2', 'ruvbl2', 'actrt2', 'glra2', 'stra6', 'pcdh20', 'tsn', 'srgn', 'unc5cl', 'vcpkmt', 'yju2', 'lgals2', 'b4gat1', 'fbxl18', 'slc39a14', 'tyr', 'myocd', 'man1c1', 'fermt1', 'lars2', 'ramp3', 'ifit5', 'tgfbr3l', 'or5ac2', 'slc6a7', 'atp9b', 'plppr2', 'nfkbie', 'dlk1', 'map3k21', 'ramp1', 'gon7', 'rax2', 'zscan31', 'pxylp1', 'pdlim7', 'pnma3', 'ccdc120', 'sun2', 'ubac1', 'krt80', 'lnpk', 'cfap54', 'serpinb8', 'jam2', 'krtap1-3', 'znf560', 'rmnd5b', 'tnp2', 'ier3', 'oard1', 'me1', 'mro', 'aen', 'fpr1', 'klc1', 'nnt', 'ntn4', 'epx', 'pdzrn4', 'c3orf38', 'chrna10', 'mpzl2', 'nexn', 'plp2', 'egr4', 'inhba', 'morc2', 'cdk3', 'prss1', 'ptges', 'smap2', 'krtap25-1', 'map3k11', 'gfra3', 'hivep2', 'cyp4b1', 'tesk2', 'znf605', 'nudt18', 'ptch1', 'odf2', 'ranbp9', 'sike1', 'gins4', 'adh7', 'polr3gl', 'slc16a3', 'jade3', 'slc43a3', 'plppr3', 'mon1b', 'chn1', 'fam104a', 'per1', 'lzts1', 'cxcl6', 'znf576', 'pex3', 'tob2', 'snx2', 'jsrp1', 'fam120b', 'atf6', 'fndc3a', 'unc13a', 'efhd1', 'nlrc3', 'tollip', 'plcg2', 'dnal4', 'iqub', 'kbtbd7', 'rell2', 'znf273', 'cst9', 'oprd1', 'bsg', 'btbd18', 'minar2', 'sema3g', 'cit', 'emcn', 'c17orf64', 'tm6sf1', 'med26', 'zbtb4', 'or4c16', 'or52i1', 'cct6a', 'ceacam4', 'glrx3', 'ptchd4', 'tmed4', 'ccr6', 'lpin1', 'lrrc8c', 'krcc1', 'tsc2', 'cmpk2', 'afap1l1', 'scrt2', 'th', 'trim21', 'cep76', 'pias4', 'zbtb11', 'usp42', 'soga3', 'sec61a1', 'taf5', 'nab1', 'ccl14', 'ltf', 'nectin1', 'rbbp6', 'cenpi', 'man1b1', 'fbxl22', 'csnk1d', 'slc17a4', 'dzip3', 'nmi', 'npc1', 'gpr4', 'ostm1', 'atp10d', 'dmwd', 'lxn', 'miip', 'c17orf98', 'snrpd2', 'dio1', 'rnpc3', 'tgif2', 'msi2', 'nes', 'anp32d', 'rrp1b', 'arnt', 'olfm2', 'pycr2', 'dnajb5', 'cblb', 'cntnap3b', 'pnck', 'dnah9', 'trrap', 'zic5', 'eif4e1b', 'fam13b', 'pkd2', 'rdh16', 'cyp2c18', 'nsun2', 'lrba', 'lamc2', 'twf2', 'slc29a4', 'kiaa1549', 'pnrc2', 'pigg', 'tmem45a', 'bmx', 'txn2', 'fam174c', 'spryd3', 'apoa1', 'irx3', 'krt26', 'usp14', 'vash2', 'gpr15', 'pigz', 'comtd1', 'rprd1b', 'mlc1', 'wbp1l', 'slco2b1', 'znf333', 'dcdc2c', 'rpf2', 'apc', 'or4f4', 'chrna9', 'e4f1', 'ipo11', 'krtap10-5', 'ccdc183', 'pik3r4', 'spns2', 'cbx7', 'mmp26', 'htt', 'pklr', 'tmem89', 'plekha4', 'tor1a', 'ppp1r3a', 'dcaf4l2', 'cdh6', 'mocs2', 'mzt1', 'tcp11l2', 'bcl9l', 'lhx2', 'isg15', 'tead4', 'ccdc107', 'sncb', 'mon2', 'cd164l2', 'mica', 'prrg3', 'fam110c', 'ulk2', 'blvrb', 'nt5dc3', 'cfap45', 'mta2', 'or11h6', 'asah2', 'actc1', 'slc11a2', 'erlec1', 'ints2', 'hao2', 'slc38a9', 'sirpa', 'col6a2', 'hmgn3', 'cep70', 'gabra2', 'luzp2', 'nt5m', 'lrrc8e', 'ccl21', 'taar8', 'erh', 'banf2', 'pdss2', 'znf451', 'ankrd12', 'adgrg7', 'cnppd1', 'eif4e2', 'rrs1', 'foxred2', 'tbc1d21', 'tnpo1', 'gpr35', 'ccdc32', 'pprc1', 'brinp2', 'psapl1', 'max', 'rtp4', 'enah', 'cylc1', 'l1cam', 'cys1', 'col5a1', 'gpr19', 'babam1', 'slc39a7', 'mccc1', 'c1orf216', 'pcdhga6', 'gpr33', 'stard3nl', 'kiaa1755', 'baz2a', 'loxl1', 'actr2', 'dpp4', 'prkar1b', 'dennd3', 'osm', 'myh9', 'gjb3', 'fam111a', 'ciao2a', 'utp11', 'ezhip', 'irx5', 'ddb2', 'cacnb2', 'dppa4', 'krtap22-1', 'prr15l', 'slc4a1', 'hdgfl2', 'cpz', 'neurl1', 'nkiras2', 'spidr', 'ceacam1', 'atp6v1b1', 'dusp10', 'klhl17', 'thap12', 'ly86', 'cxcr6', 'sall3', 'steap1b', 'fam3c', 'lcorl', 'nup205', 'kras', 'ehmt1', 'efcab6', 'e2f5', 'aatf', 'spdya', 'ppp3ca', 'hgfac', 'esco1', 'or6c1', 'znf324', 'c6orf62', 'lrrc72', 'lmo1', 'padi2', 'sft2d2', 'zbtb7b', 'efnb3', 'dgka', 'endov', 'fermt2', 'snrpb', 'pdyn', 'apln', 'eef1akmt4', 'page2', 'ciz1', 'plk4', 'tgds', 'znf175', 'ier3ip1', 'pfdn1', 'arg1', 'gatad2a', 'p3h1', 'guk1', 'ehd4', 'capn15', 'qtrt2', 'dkk4', 'iqank1', 'klc3', 'mrc2', 'dlgap2', 'kcnq5', 'or51a2', 'ywhah', 'rhbdd1', 'pcdhb15', 'nudt17', 'arpc2', 'elf3', 'anpep', 'znf829', 'hpcal1', 'tchh', 'slf1', 'apc2', 'hrh4', 'pex6', 'aldh1l2', 'c12orf40', 'rasgrp1', 'ca1', 'npr2', 'gpr55', 'actb', 'dapk2', 'mfap4', 'shroom1', 'adam18', 'dnajc5', 'npr1', 'pglyrp3', 'c11orf54', 'cyp1a2', 'art1', 'cyp4a22', 'boll', 'elovl1', 'lamc3', 'or4k2', 'bri3', 'pik3cg', 'rsl1d1', 'srek1ip1', 'pcdhga10', 'ubr4', 'dlx6', 'myh7', 'impdh2', 'adpgk', 'txndc16', 'vwa8', 'kremen1', 'lcn1', 'znf491', 'ntsr1', 'fsip2', 'rab12', 'pacsin1', 'ttc9b', 'hyal1', 'clasp1', 'tmem80', 'higd1b', 'nt5c1a', 'dcbld2', 'sp8', 'hagh', 'slc19a3', 'mgat4d', 'rasd1', 'riok2', 'osmr', 'tbc1d10b', 'trappc8', 'suclg2', 'slc35a1', 'mtmr4', 'serpina1', 'dgat2l6', 'prr20g', 'camk1', 'mylk', 'xkr6', 'dut', 'ubqln2', 'pacsin3', 'slc30a3', 'cdan1', 'ctsg', 'gpt2', 'or52i2', 'nrg4', 'kiss1', 'tmem267', 'gbx2', 'traf6', 'wdr36', 'zfyve26', 'rtl8a', 'heatr6', 'ddx39b', 'itgbl1', 'magea10', 'prkn', 'stoml2', 'ttc5', 'zmynd8', 'lrrc59', 'nlk', 'psg9', 'emilin1', 'b3gat2', 'cdt1', 'kcnk4', 'sccpdh', 'trim29', 'nckap5l', 'lonrf1', 'pkn1', 'obscn', 'slc6a18', 'atxn10', 'myl10', 'xirp1', 'ddx11', 'map7d1', 'xpnpep3', 'znf438', 'dhx33', 'capn11', 'ptprm', 'rnaseh2b', 'wwp2', 'glrx5', 'kcnmb3', 'eps8l3', 'nek10', 'rbpjl', 'rep15', 'bbip1', 'fn3krp', 'clps', 'mpi', 'jpt1', 'rab13', 'ticrr', 'ube2e1', 'lamtor4', 'faf2', 'ift43', 'or6c74', 'acer3', 'rbm41', 'c6orf136', 'jph1', 'agpat2', 'spem1', 'catspere', 'bach2', 'znf736', 'usp39', 'fer1l5', 'susd1', 'cxcl10', 'dcp2', 'hdac7', 'nmd3', 'defb134', 'znf384', 'dbx2', 'ankrd30a', 'larp4', 'mien1', 'sema4c', 'tfeb', 'mis12', 'rnf6', 'art5', 'znf469', 'ccdc18', 'eif2s1', 'tenm1', 'jmjd1c', 'prlr', 'arr3', 'pla2g10', 'arv1', 'hck', 'npvf', 'cenpk', 'fam53a', 'scaf1', 'col27a1', 'plekho2', 'tmigd1', 'panx2', 'pstpip1', 'usp5', 'mov10', 'krt32', 'mt-nd3', 'srsf8', 'parp9', 'gpr146', 'c20orf173', 'iqcf2', 'cib2', 'ddx4', 'adra1b', 'c9orf64', 'klhl29', 'sspn', 'arhgap23', 'zbtb20', 'pycr1', 'arhgdig', 'tfpi', 'zfp2', 'sctr', 'kantr', 'ovgp1', 'gnb4', 'ppp1r3c', 'ros1', 'pemt', 'ascl3', 'dagla', 'fcn2', 'tp73', 'grsf1', 'nfat5', 'rras2', 'ms4a10', 'gab4', 'mlst8', 'npepl1', 'cfap36', 'luzp4', 'zbbx', 'r3hdml', 'best1', 'srsf10', 'tmem128', 'trib2', 'herc6', 'rabep2', 'rassf1', 'or4a16', 'slc25a24', 'pmaip1', 'arhgef4', 'sf3b5', 'rab3gap2', 'rasgrf2', 'cmc2', 'eva1a', 'krtap1-5', 'cfap97d1', 'slc29a2', 'echdc2', 'alk', 'celf1', 'glrx', 'adcy6', 'hyi', 'osgepl1', 'or2a12', 'tmem52', 'pfn1', 'slc25a36', 'orc4', 'asb12', 'krtap24-1', 'ocm2', 'pcgf5', 'slc9c1', 'tanc2', 'ptpn22', 'shld2', 'trim64c', 'adam12', 'fabp6', 'fam222b', 'or2g3', 'ulbp2', 'znf343', 'acsl5', 'lix1', 'tmem174', 'shq1', 'nasp', 'arfgap3', 'alkbh4', 'akap8l', 'ccna2', 'ncapd2', 'sox30', 'znf335', 'harbi1', 'fitm1', 'ltb4r', 'naa25', 'kcnh5', 'cox7a2l', 'scgb2b2', 'ppp2r5e', 'dipk2b', 'hnrnpr', 'wdr83', 'znf275', 'bid', 'hpd', 'ndufaf4', 'slc7a3', 'brox', 'iqck', 'l3hypdh', 'cavin4', 'f10', 'kif26b', 'gmpr', 'dnah1', 'mier3', 'rnf168', 'acvrl1', 'galnt13', 'stt3a', 'tfip11', 'ldhal6b', 'tm9sf1', 'ube2d3', 'ppp2r2d', 'tppp3', 'ndufa9', 'tmem38b', 'rfc2', 'phldb3', 'cstl1', 'fgf16', 'adat2', 'mlh1', 'nkapd1', 'fam90a26', 'nat2', 'oas2', 'malsu1', 'znf563', 'msi1', 'znf440', 'prr33', 'cntnap5', 'hs6st3', 'pigx', 'tmem95', 'ankmy2', 'dpep2', 'fam227b', 'fastkd5', 'heatr5a', 'c19orf25', 'ntng2', 'plin3', 'poldip3', 'sgk2', 'thrsp', 'coro6', 'agr3', 'klhl11', 'elp6', 'hykk', 'smim6', 'cd52', 'cers3', 'fcgr1a', 'hspa1l', 'or2t27', 'sapcd2', 'scara3', 'tsnax', 'atn1', 'bbs7', 'cdh10', 'ell2', 'slfn5', 'mea1', 'cntd1', 'pimreg', 'ltk', 'erich1', 'insl4', 'lactb2', 'adsl', 'ppp5c', 'smim30', 'crmp1', 'ints7', 'adra2b', 'cxorf38', 'khdrbs3', 'abcc8', 'nbdy', 'ncam2', 'she', 'dtx3l', 'spopl', 'mbl2', 'ranbp6', 'poc1b', 'nyap1', 'ss18l1', 'nedd1', 'psen1', 'fam234a', 'rai14', 'brix1', 'or9q2', 'il5ra', 'pla2g5', 'amot', 'ccz1', 'cmtr2', 'cyp2f1', 'myo3b', 'cand2', 'g3bp2', 'or6c70', 'septin5', 'abhd4', 'tspan19', 'znf541', 'nlrp6', 'tph2', 'ergic2', 'ptcra', 'socs7', 'orai2', 'arhgap6', 'fbxo3', 'scn2a', 'atxn7', 'eef1akmt2', 'snx33', 'syn2', 'pomt2', 'fam111b', 'cnot4', 'hnrnph3', 'ppp2r5a', 'dmtn', 'sbds', 'sft2d1', 'or5b3', 'cmtm1', 'slc12a9', 'usp44', 'f13b', 'atp5mgl', 'znf350', 'me3', 'cbx3', 'dmbt1', 'znf14', 'rsad2', 'slc3a2', 'znf462', 'cfap52', 'rbm11', 'c8g', 'stab1', 'jag1', 'ppp1r18', 'prpf18', 'syde2', 'fut11', 'zer1', 'plaa', 'zc3h6', 'celf3', 'dennd10', 'dcakd', 'fbln7', 'large1', 'c12orf75', 'apba2', 'prdx2', 'efcab3', 'il19', 'lmntd2', 'znf782', 'fzr1', 'lyz', 'vcan', 'plrg1', 'glt8d2', 'c3orf70', 'p2ry11', 'tsc22d1', 'txndc8', 'mucl3', 'actrt1', 'cog3', 'ino80d', 'pramef33', 'atp2b4', 'fgfr4', 'znf233', 'mrgprx2', 'tbxas1', 'cd46', 'foxi3', 'cnga4', 'rab40b', 'cracr2a', 'klhl8', 'dnah5', 'ifi27l2', 'letmd1', 'nfatc1', 'nnat', 'oxa1l', 'page4', 'pyroxd2', 'fgl1', 'dexi', 'gyg1', 'or12d2', 'celsr3', 'rbm8a', 'slc44a1', 'krtap5-10', 'shisa4', 'esam', 'gkn2', 'jaml', 'znf280d', 'ctnnbl1', 'lipg', 'bop1', 'dse', 'epn1', 'irak1', 'ifi44', 'ckb', 'kmt5a', 'spag7', 'il16', 'nr1h3', 'rln3', 'c3orf33', 'elavl3', 'maea', 'tex22', 'casp7', 'bud31', 'commd1', 'traf2', 'c2orf78', 'efcab11', 'or12d3', 'tiam1', 'or1a1', 'nwd1', 'arid1a', 'sell', 'rnft2', 'angptl3', 'ufsp1', 'ankrd50', 'fgf9', 'ppm1g', 'tas2r42', 'ly6g6f', 'tmtc1', 'or5ak2', 'rnf157', 'sv2a', 'wwox', 'atp2a3', 'btn3a1', 'clec5a', 'nup62cl', 'grk7', 'snx16', 'icmt', 'alg5', 'pttg1', 'vps13b', 'fiz1', 'tnn', 'dbx1', 'nmral1', 'rnf133', 'fbxo34', 'man2a1', 'adh1c', 'rnf103', 'taf4', 'slc11a1', 'rtn3', 'ddx60l', 'prss21', 'dalrd3', 'exph5', 'ears2', 'tpbg', 'uba3', 'gga3', 'scimp', 'usp29', 'ifna14', 'plac8', 'ppp3cb', 'prkd2', 'znf770', 'psmd11', 'vsig2', 'csrnp3', 'or56b1', 'fam193a', 'or2t2', 'gbp4', 'prm1', 'tspyl6', 'magohb', 'c12orf29', 'ap5s1', 'lta', 'prorp', 'aspn', 'krtap5-5', 'naaa', 'pex12', 'ccdc126', 'dnajc11', 'hpca', 'ccdc9', 'coq8a', 'dlg2', 'med11', 'dus1l', 'nppc', 'nefl', 'otub1', 'slc25a40', 'synj2bp', 'vps4b', 'tmco3', 'sirt6', 'dact1', 'cacul1', 'dcxr', 'pop7', 'tent2', 'slc25a2', 'znf397', 'pml', 'fhit', 'col4a5', 'gprc5c', 'iqcj', 'mex3c', 'or8k1', 'krtap10-10', 'znf572', 'efr3a', 'lrrc52', 'map7d3', 'atp5pb', 'taf2', 'ccdc141', 'clk3', 'dusp12', 'manf', 'il4r', 'cept1', 'mtch2', 'calml3', 'dab2ip', 'tmbim1', 'tmc5', 'tff3', 'tubg1', 'ly6l', 'terf1', 'c9orf57', 'dnajc3', 'prune2', 'steap4', 'col25a1', 'esrrb', 'trim39', 'fam149b1', 'uhrf1', 'hoxb1', 'cd274', 'islr2', 'sema4g', 'fthl17', 'krtap6-1', 'timp1', 'clic4', 'ugt2b11', 'clpsl2', 'fmc1', 'cds2', 'nln', 'vasp', 'lce2c', 'kiaa0825', 'map3k10', 'mrto4', 'krt31', 'dph2', 'dglucy', 'hspb2', 'rttn', 'mpzl3', 'ccdc62', 'isoc2', 'pcdhb16', 'ccdc3', 'rnf121', 'cited2', 'synj1', 'fdft1', 'myo6', 'syndig1l', 'ccl3l1', 'lgals13', 'pcnx2', 'saysd1', 'dnmt3a', 'pgm3', 'pisd', 'tspan1', 'utp15', 'znf860', 'or2d3', 'zbtb8a', 'or5h14', 'vps28', 'eapp', 'nxpe3', 'pogz', 'nsmaf', 'usp11', 'nphp1', 'or51a4', 'arhgef35', 'tssk2', 'dclre1c', 'blmh', 'slc25a27', 'pgrmc2', 'pign', 'plin5', 'emc6', 'efna4', 'znf470', 'cops6', 'sppl2b', 'ccdc142', 'tnni2', 'ly75', 'or10g4', 'pnma5', 'tnrc6a', 'ube2d2', 'rngtt', 'agpat3', 'znf629', 'csta', 'rgs11', 'gper1', 'lpcat1', 'c1qtnf3', 'c1orf87', 'kif7', 'stambpl1', 'sin3b', 'rgs7bp', 'cr2', 'chst2', 'rnf44', 'gdpd1', 'pkn2', 'traf3ip2', 'eif2d', 'ly6e', 'unc5c', 'klf4', 'ablim3', 'cdk13', 'znf558', 'bpifb4', 'defb115', 'samd3', 'med31', 'alkbh8', 'col11a2', 'esf1', 'glp2r', 'lrrc3b', 'rhag', 'aanat', 'kcnma1', 'fgf3', 'kif3a', 'bloc1s2', 'epha1', 'rictor', 'pak1ip1', 'sars2', 'atp6v0e2', 'cfap69', 'btg2', 'tnk1', 'mvp', 'ascc3', 'zc3h12c', 'zfp36l2', 'fbxo45', 'elf5', 'nptn', 'prag1', 'emp1', 'hlcs', 'dcaf8l2', 'alkal1', 'emp2', 'capn7', 'hoxa5', 'cdh2', 'pdc', 'slc7a2', 'ptprk', 'tktl2', 'asxl1', 'dpp10', 'sptssa', 'casp3', 'ly6d', 'oosp4a', 'ints6l', 'ptprn2', 'rnf128', 'trim75p', 'eci2', 'foxd4l6', 'gip', 'spon1', 'csn2', 'ctsf', 'cnot7', 'cyb5r4', 'klk9', 'lce3c', 'tsku', 'znf239', 'gemin5', 'kank2', 'lrrc37a2', 'onecut3', 'rab6c', 'dsn1', 'kctd3', 'slc22a8', 'spp2', 'pcyt1a', 'atp2b2', 'aldh1b1', 'siglecl1', 'lgals9', 'zfyve19', 'tmem14a', 'tbc1d19', 'pea15', 'sumf1', 'usp2', 'tcp11', 'klrc4', 'lingo3', 'opn3', 'atp1a1', 'khdc1', 'crk', 'c1orf174', 'bax', 'ervfrd-1', 'plcb4', 'elovl4', 'serpinb13', 'prrt2', 'pcid2', 'tmigd3', 'rgs12', 'crygn', 'ccr10', 'xxylt1', 'topbp1', 'helb', 'tmem208', 'mpv17l', 'mael', 'uqcrq', 'ocstamp', 'trmt1', 'rc3h1', 'alox5', 'armcx1', 'defa5', 'mcub', 'mtrf1l', 'acsbg2', 'tpmt', 'cip2a', 'wnt7a', 'tacc1', 'dpep3', 'ryr3', 'fnbp1l', 'tlx3', 'lclat1', 'tm2d3', 'mbd3', 'obsl1', 'fa2h', 'znf316', 'tsen15', 'magec1', 'lrfn5', 'rac3', 'rom1', 'lyve1', 'tgm5', 'pkia', 'slc10a2', 'uri1', 'hexd', 'chtf8', 'slc6a20', 'tomm40l', 'ankrd63', 'adcy5', 'gria4', 'stx12', 'ccnf', 'moxd1', 'sstr5', 'adgrf3', 'plbd1', 'znf185', 'lrrc25', 'tmem250', 'lrrc4c', 'tnfrsf13b', 'ccl3', 'fmo4', 'ikzf2', 'pinlyp', 'reck', 'cacng6', 'aste1', 'prpf4', 'rasa4b', 'sub1', 'tpd52l1', 'kiaa1143', 'or8j3', 'cd248', 'foxd2', 'hmx3', 'srsf3', 'hk1', 'dhfr2', 'or2aj1', 'phf21a', 'pnpla8', 'ppp2r3a', 'aqp7', 'rbp3', 'renbp', 'cpa2', 'pcsk6', 'mpc1l', 'cfap44', 'por', 'marveld2', 'thegl', 'bnip5', 'actl7a', 'rims1', 'heatr4', 'tex35', 'abca9', 'mrap2', 'gnl3l', 'pkp2', 'cdh20', 'fer1l6', 'ucn2', 'atad1', 'atp6v1a', 'dennd5a', 'c2cd4c', 'catsperg', 'cyp27b1', 'ncr3lg1', 'fuom', 'cebpa', 'myl6', 'b3galt4', 'epyc', 'gnpat', 'ankrd11', 'rem2', 'sec22c', 'srfbp1', 'tas2r1', 'pdgfb', 'znf512', 'arf6', 'crlf3', 'c3ar1', 'cdyl', 'frk', 'rad54l', 's100a8', 'card14', 'tmem131l', 'tbc1d12', 'bex1', 'psma7', 'col26a1', 'zfr2', 'elovl3', 'znf699', 'rcc1', 'ubxn6', 'vps52', 'acbd4', 'lrrc74b', 'pram1', 'ube2e3', 'man2b1', 'or10g2', 'gga1', 'ddah2', 'rbm34', 'dppa3', 'fkbp8', 'or5b2', 'glyatl1', 'mt1h', 'or2l3', 'chd7', 'tmem19', 'crls1', 'nectin3', 'cenpx', 'myo18b', 'ggn', 'fam135b', 'alpk2', 'nr4a2', 'kpna3', 'pik3c2a', 'umps', 'c12orf4', 'dnttip1', 'galk2', 'cysrt1', 'rgs22', 'isg20', 'cfhr3', 'ifna4', 'spanxn1', 'tcea2', 'wnt2b', 'gnrh2', 'or6n1', 'znf565', 'itpa', 'clec2d', 'srsf9', 'prac1', 'corin', 'ptgdr', 'znf32', 'n4bp2l1', 'ca9', 'cyp39a1', 'prdm2', 'stxbp6', 'gpr78', 'ddx17', 'helz', 'gabrb2', 'ints14', 'polr3g', 'mark3', 'rbmx2', 'adamts15', 'cldn22', 'nipal2', 'rrad', 'ccnl2', 'plxnb2', 'mettl21a', 'bag1', 'c19orf38', 'asl', 'cdh17', 'snx20', 'pcdha11', 'tmem170b', 'pcdh7', 'hyal3', 'itgb4', 'dkc1', 'or2l2', 'sec24a', 'rbks', 'kcng1', 'dnajb9', 'rrbp1', 'cfl2', 'c1orf232', 'ncs1', 'sh3bgr', 'atxn2', 'adamts16', 'p2ry12', 'col9a3', 'nol4l', 'ttll4', 'procr', 'map1b', 'noct', 'eddm3b', 'nfatc4', 'bcl2l1', 'pdia5', 'tmem178b', 'tp53bp1', 'slc6a2', 'rfx1', 'znf287', 'mtmr7', 'fam83d', 'hmbs', 'prox2', 'pfdn2', 'pate3', 'cnot3', 'atp6v1b2', 'ap2a2', 'agk', 'krtap7-1', 'adrb1', 'slc6a8', 'supt20h', 'mcm5', 'actl8', 'psg5', 'tmem39b', 'hes7', 'iqcc', 'ankra2', 'garem2', 'impg1', 'abca8', 'tbpl2', 'tpst2', 'trim51gp', 'lag3', 'plekha3', 'pspn', 'nubp1', 'rab19', 'pdpn', 'pcna', 'nap1l4', 'prima1', 'ucp2', 'frmd4b', 'il10', 'bdnf', 'tgfbrap1', 'pf4', 'thap5', 'ndor1', 'tmem260', 'vat1l', 'senp5', 'glis3', 'exoc3l4', 'tmsb4y', 'ebln2', 'lcat', 'hoxc9', 'fam221b', 'rab6b', 'rasl10b', 'ralgapa1', 'ninj1', 'cnep1r1', 'or4x2', 'chrna4', 'znf567', 'amely', 'ugt1a4', 'gsdme', 'pde4b', 'lilrb5', 'ndrg1', 'ttc23', 'coro2b', 'hnrnpc', 'ankrd65', 'bspry', 'ccdc15', 'gnl1', 'or10j1', 'otud6a', 'msln', 'ccm2l', 'atp5f1c', 'or5bs1p', 'myc', 'pex5l', 'snx27', 'aurka', 'krba2', 'zbtb43', 'pcsk4', 'ivl', 'tamm41', 'slc25a38', 'praf2', 'pnmt', 'litafd', 'aldob', 'tada2a', 'fam229a', 'fastkd3', 'thbs4', 'fbf1', 'pex16', 'ablim1', 'dtnb', 'eif1ad', 'psmc1', 'tmem275', 'pkd2l1', 'sh3bp2', 'upp2', 'rnase13', 'zfyve9', 'cep135', 'dmc1', 'kiss1r', 'dspp', 'c7orf61', 'crybb2', 'ikbkg', 'cst6', 'qpct', 'tprkb', 'ttll5', 'cdnf', 'znf354a', 'or1e1', 'hcar3', 'samd9', 'duoxa1', 'dach2', 'prlh', 'cep41', 'fam83h', 'col28a1', 'scnn1a', 'ccdc190', 'ccdc172', 'psmc6', 'spcs3', 'tnfrsf13c', 'btc', 'syt6', 'barx1', 'atg7', 'pllp', 'kcnip3', 'sh3bgrl2', 'st8sia5', 'gspt2', 'mettl4', 'ifi30', 'foxb2', 'sltm', 'prss22', 'cuedc1', 'caln1', 'ttc39a', 'wdr75', 'adgb', 'paep', 'znf836', 'lbhd1', 'nisch', 'scygr8', 'zmynd12', 'tpgs2', 'ubxn8', 'cldn20', 'abcc4', 'b4galt7', 'fancd2os', 'trmt2b', 'polr2g', 'slc22a23', 'acyp1', 'gab3', 'uqcrb', 'adam11', 'enpp2', 'zcchc14', 'nipbl', 'c6orf132', 'zfand2a', 'cntln', 'nek9', 'or5t3', 'trh', 'gpr45', 'pax3', 'dtd2', 'supt16h', 'pef1', 'tldc2', 'npat', 'epg5', 'smoc1', 'cfl1', 'lpar6', 'isy1', 'tsg101', 'tnks2', 'plb1', 'macc1', 'ccdc70', 'stat4', 'adnp2', 'tmem171', 'tmem252', 'nop9', 'ascl5', 'usp31', 'reg4', 'scgb1d2', 'cfhr5', 'rab37', 'itih2', 'mettl11b', 'pf4v1', 'slc2a4', 'brms1', 'slc66a3', 'kansl1l', 'ndufb5', 'adam22', 'rab33b', 'zwint', 'gba2', 'rgs19', 'rora', 'sorcs3', 'eef1g', 'rab5b', 'spaca6', 'odaph', 'tmem190', 'sim2', 'aars2', 'plagl1', 'ccl20', 'celsr1', 'mphosph8', 'setmar', 'znf665', 'sec24d', 'ndufb6', 'robo3', 'kdsr', 'zmiz1', 'ndufa4', 'podn', 'syngr2', 'tp53aip1', 'eci1', 'acod1', 'c12orf60', 'ubp1', 'letm2', 'sox17', 'c11orf94', 'rhot1', 'phyhd1', 'cr1', 'tigd6', 'vdac2', 'col6a5', 'pik3ca', 'ubl3', 'gnai3', 'nkap', 'ints1', 'ost4', 'usp24', 'wfdc10a', 'tlcd5', 'hnrnpll', 'nlgn1', 'cln3', 'terf2ip', 'coq9', 'crtc3', 'clstn1', 'c8a', 'fam240c', 'pld1', 'rac1', 'eif4a1', 'galns', 'wnk3', 'megf9', 'gps2', 'cdk8', 'txndc5', 'fbxw2', 'sertad4', 'zfand2b', 'dbn1', 'ufd1', 'tex19', 'eif4e', 'pabpc4', 'timm22', 'rft1', 'fhl5', 'pafah1b1', 'vbp1', 'bhmt2', 'pnp', 'cntn2', 'zfat', 'rasgef1b', 'etv1', 'cyren', 'nup188', 'plac8l1', 'sh2b2', 'ccdc152', 'mageb6b', 'mob4', 'wrap73', 'c14orf180', 'armh2', 'znf212', 'gltpd2', 'rxfp3', 'ccdc73', 'znf639', 'maml2', 'slc5a6', 'cldn14', 'usp18', 'dhrs11', 'trpt1', 'nsl1', 'uqcc1', 'dnaaf2', 'tmem14b', 'myo19', 'mettl2a', 'vcp', 'znf44', 'spag6', 'tbata', 'dstyk', 'or5au1', 'ube3b', 'cir1', 'fam200a', 'actbl2', 'pdcd1lg2', 'wdr86', 'eif4g2', 'nrg2', 'golga5', 'oxsr1', 'mrfap1', 'phex', 'tenm4', 'grm1', 'serpina12', 'rad23a', 'surf2', 'rc3h2', 'egr1', 'or2h1', 'ubxn7', 'sema7a', 'hgs', 'hpse2', 'srsf7', 'ablim2', 'trarg1', 'ca14', 'prdm9', 'ubl5', 'cdk15', 'mre11', 'c11orf21', 'klhl34', 'eif3b', 'deptor', 'nanos2', 'tmem63c', 'cmtm5', 'cep63', 'defb114', 'ppil6', 'nsg2', 'ptch2', 'rbsn', 'strit1', 'terb2', 'znf225', 'khdrbs1', 'nrm', 'ren', 'fut8', 'arap2', 'hrnr', 'ahcy', 'fance', 'pibf1', 'kiaa0895l', 'fhad1', 'pomt1', 'mex3a', 'gfer', 'hook1', 'ntrk2', 'plac1', 'gas2l2', 'stk40', 'znf717', 'usp17l10', 'rbm7', 'ppa2', 'pxn', 'igsf5', 'grina', 'mogat3', 'col2a1', 'zcchc4', 'hba2', 'phkg2', 'sh3bgrl', 'rai2', 'acin1', 'rad9b', 'or10t2', 'htr1e', 'or10k1', 'tpm1', 'lrrc34', 'plekhm3', 'elmod3', 'nip7', 'slc35g5', 'uros', 'kti12', 'llgl2', 'rapgef1', 'gramd2b', 'tex2', 'vps29', 'helt', 'hhip', 'polg2', 'pth2r', 'trim46', 'elmo3', 'ercc6l', 'rpp30', 'aasdhppt', 'mmab', 'pdgfc', 'snx11', 'znf621', 'pycr3', 'kiaa1109', 'rarg', 'lipi', 'ube2c', 'smim27', 'tmem165', 'bend6', 'ar', 'gpr68', 'ncmap', 'polrmt', 'or4c15', 'mmp12', 'ralgps2', 'or2w1', 'brdt', 'dync2li1', 'niban1', 'fbl', 'pxdn', 'rrp9', 'dbt', 'bckdhb', 'taf5l', 'acy1', 'kiaa0100', 'eif3i', 'rnf4', 'znf521', 'ncr3', 'gata6', 'clvs1', 'scamp3', 'b3gntl1', 'fam229b', 'scaf11', 'tcaf1', 'cx3cr1', 'ppp1cb', 'gapdhs', 'st3gal4', 'mmd2', 'fgd5', 'or7c2', 'panx3', 'or1k1', 'lmln2', 'usp50', 'sox13', 'ddx27', 'mib1', 'pip4k2b', 'coq2', 'ccnyl1', 'wbp4', 'atad5', 'casd1', 'grm2', 'nfe2', 'lilra6', 'rab11b', 'xpnpep2', 'calhm4', 'ccm2', 'sohlh1', 'srpk3', 'pgbd2', 'lrch3', 'cep19', 'nnmt', 'tmem97', 'tyro3', 'etv2', 'rilp', 'ugt3a2', 'or10x1', 'ppp1r3b', 'rnf180', 'tff1', 'mettl17', 'sp5', 'btd', 'or5m8', 'tut7', 'fbxo32', 'sec63', 'amdhd2', 'c1orf35', 'spg21', 'atg9a', 'cpsf7', 'tfap2e', 'krtap19-5', 'asb16', 'slc6a11', 'slc12a4', 'sik3', 'ppp1r3f', 'cdhr2', 'cdc23', 'ndufs5', 'nup37', 'klhl2', 'snx29', 'chst8', 'snrnp35', 'dlgap4', 'gk3p', 'nr2f6', 'cbx6', 'cpne7', 'erlin2', 'naa30', 'rprd2', 'or5w2', 'znf792', 'fam234b', 'coa4', 'pnpla5', 'slc39a2', 'sdr39u1', 'pitx3', 'hibadh', 'kcnt1', 'iqcd', 'hdac10', 'immt', 'kiaa0586', 'obp2b', 'slc22a15', 'rwdd2a', 'upf1', 'gask1a', 'fam237b', 'dpy19l4', 'gsdmb', 'adam23', 'asf1a', 'erc2', 'ywhab', 'lrp12', 'ifna1', 'ndufb3', 'arhgef17', 'gpatch8', 'ankh', 'pm20d2', 'klhl24', 'rnf220', 'pde6h', 'ndufs8', 'prr29', 'cpne3', 'ppp2r3b', 'vdac3', 'sema4f', 'znf71', 'tox3', 'ndc80', 'tram2', 'ankrd26', 'dnaaf3', 'fam76b', 'repin1', 'arsi', 'mboat1', 'serpina3', 'ppcs', 'znf90', 'thap11', 'abhd14a', 'tlnrd1', 'ptgs2', 'nkx2-4', 'tbl2', 'sowahc', 'mapt', 'bcor', 'ing2', 'amz1', 'sar1b', 'taf8', 'mrrf', 'otx2', 'znf530', 'ak7', 'gli4', 'ccl11', 'sufu', 'gpr139', 'pnma6e', 'upk1a', 'znf251', 'lmln', 'tbc1d16', 'ptp4a3', 'nsd3', 'tefm', 'tirap', 'lrrcc1', 'bend2', 'znf512b', 'nol12', 'lipt1', 'rcsd1', 'znf888', 'nr2e3', 'xylt1', 'trabd2a', 'dlg5', 'nckap5', 'sh3gl3', 'atp8a2', 'fam214b', 'ndrg2', 'armcx5', 'ptrhd1', 'atg2a', 'cbfb', 'eng', 'baz1a', 'lrrc32', 'mapkbp1', 'hikeshi', 'vwf', 'awat1', 'fndc1', 'ttc7a', 'kiaa1614', 'erich6', 'dvl2', 'fbxl8', 'nop16', 'ager', 'trim33', 'cib3', 'krt13', 'klrf2', 'scn3a', 'pou2f3', 'r3hdm2', 'hexa', 'uqcrc1', 'prepl', 'or2j3', 'stxbp2', 'mfap5', 'bace2', 'azin2', 'lrrc18', 'reep6', 'tex52', 'rd3', 'zcchc9', 'krt9', 'rpp14', 'xkr5', 'ankrd29', 'syngr1', 'dner', 'znf549', 'fam219a', 'prim1', 'kcnh7', 'lce4a', 'cnpy4', 'slc47a1', 'mrm2', 'ets2', 'alg12', 'zim2', 'eaf2', 'kcnc3', 'prex2', 'tdrp', 'xpo5', 'rnase12', 'u2surp', 'tbc1d5', 'golga8o', 'ttc24', 'nupr2', 'cxcl3', 'ammecr1', 'hapln1', 'nrip3', 'fbxl5', 'or14a16', 'ythdf3', 'il21', 'alpk3', 'hic2', 'mindy2', 'caskin2', 'rhobtb3', 'ptpa', 'nmrk1', 'smndc1', 'tmem130', 'tra2a', 'igfl2', 'cnpy3', 'scrib', 'gdf6', 'nedd8', 'pmepa1', 'cyp1b1', 'ccin', 'csmd3', 'klk14', 'znf862', 'znf106', 'f8a1', 'echs1', 'itpripl2', 'zbtb46', 'nbpf3', 'krt17', 'grk2', 'dhx9', 'ube2q2', 'adgrg2', 'dlx5', 'fyb1', 'ccl18', 'slc4a2', 'akr1c8p', 'qrfp', 'dipk1b', 'foxn2', 'rgl1', 'rit2', 'ulk1', 'kat6a', 'junb', 'il1rn', 'znf667', 'p4ha1', 'pkp3', 'pter', 'ttl', 'tmem116', 'lypd4', 'ccdc85b', 'osbp2', 'mtap', 'runx3', 'rbp5', 'kmt2a', 'fam43b', 'atp13a1', 'tmem167b', 'vstm2a', 'ceacam20', 'mgst3', 'soat2', 'chad', 'kpna1', 'tmem106c', 'bpifb2', 'mief1', 'prrc2b', 'thoc2', 'sort1', 'tbx1', 'tmed3', 'card10', 'gabpa', 'sf3b4', 'tmem135', 'flt3lg', 'esrp1', 'tbxt', 'tnfsf13', 'dmac2l', 'cdk5rap1', 'noto', 'rfng', 'znf835', 'or10w1', 'l1td1', 'brs3', 'dazap1', 'rfx2', 'col8a1', 'ctu1', 'ell', 'wsb2', 'dnajc12', 's1pr5', 'cldn15', 'mbnl3', 'ppp2r5b', 'wdr77', 'agps', 'slco5a1', 'tns2', 'enpp3', 'c14orf93', 'glul', 'hipk2', 'hip1r', 'atp6v1d', 'or4d10', 'ace', 'srsf12', 'psg11', 'irx2', 'dpm2', 'tafa5', 'ces5a', 'syt1', 'ttc28', 'vezf1', 'chchd10', 'fosl2', 'clptm1', 'dip2b', 'aldh3a1', 'clu', 'pafah1b2', 'gcnt7', 'sun5', 'tuft1', 'stoml3', 'pbk', 'cd86', 'atxn7l3', 'agtpbp1', 'spib', 'espl1', 'glmp', 'pdss1', 'psip1', 'tvp23c', 'znf648', 'mroh2b', 'rhot2', 'dlgap3', 'fras1', 'cnbp', 'inpp5a', 'lrtm2', 'pomgnt1', 'eys', 'ambn', 'ndufaf2', 'nppa', 'cpt1b', 'ctsz', 'gli2', 'glb1l3', 'ddias', 'cptp', 'gpr3', 'cyp4z1', 'hnrnpu', 'med29', 'gdap1l1', 'adgrg1', 'cpeb4', 'mul1', 'tmem268', 'set', 'golt1a', 'tgfb1', 'abra', 'pcmtd1', 'tfrc', 'gmnc', 'med16', 'pon3', 'wwp1', 'znf682', 'mctp2', 'ifnb1', 'tlx2', 'bicral', 'itih1', 'itfg2', 'dok1', 'c20orf27', 'rassf2', 'mustn1', 'acox3', 'pramef8', 'magt1', 'wnt9b', 'zc2hc1a', 'amer1', 'crocc', 'btn2a1', 'cyp3a43', 'fabp1', 'ebf1', 'kcns2', 'or2m3', 'prb4', 'ganab', 'or4l1', 'usp32', 'hrk', 'aff3', 'cacfd1', 'edem3', 'mtss1', 'wdr55', 'dip2a', 'itpr2', 'tmem61', 'pdcl3', 'anln', 'pcdhga8', 'scamp2', 'insrr', 'lin7c', 'lysmd1', 'scn1a', 'cxcl9', 'disc1', 'fibp', 'prpf39', 'wdr81', 'nfkbil1', 'arhgap36', 'cyb561d1', 'auts2', 'mageb3', 'slc36a3', 'spice1', 'uspl1', 'dynlt3', 'ogt', 'gramd4', 'susd3', 'lto1', 'col16a1', 'cenpo', 'atp7b', 'bex3', 'or2k2', 'cltb', 'sftpc', 'spaca7', 'was', 'zfyve21', 'znf431', 'lmf1', 'ppcdc', 'alg3', 'ccer2', 'rint1', 'znf582', 'tcl1a', 'lpin2', 'polr1e', 'oxtr', 'sgce', 'arl4a', 'atp6v1c1', 'btn3a2', 'ptprg', 'actrt3', 'inhbc', 'itgb3bp', 'nudcd2', 'tln1', 'wasf1', 'tssc4', 'sbk2', 'ifne', 'ltb4r2', 'tmx2', 'reeld1', 'pigu', 'pheta1', 'gja1', 'iqcf1', 'lyzl2', 'ovch1', 'txndc9', 'ubxn1', 'cplane1', 'reep1', 'prr23c', 'akr1b1', 'rp2', 'znf780b', 'glod4', 'tceal6', 'bex5', 'prkca', 'nudt16l1', 'mycbp2', 'cd5', 'aqp9', 'ddx1', 'txndc12', 'shc4', 'kctd18', 'lrr1', 'ngdn', 'ptk6', 'znf662', 'scgb2a1', 'armc6', 'uggt2', 'znf490', 'nfil3', 'plekha5', 'ggtlc1', 'kcnk3', 'sec13', 'nsun4', 'cntnap3', 'tasp1', 'c13orf42', 'depdc5', 'rfx3', 'aaas', 'p4ha3', 'vwc2l', 'hsd17b13', 'or14k1', 'hrh2', 'plaur', 'mt-nd2', 'ube2r2', 'fxyd2', 'kbtbd12', 'eri1', 'ttc6', 'zdhhc19', 'klkb1', 'eml2', 'misp', 'ajm1', 'mmp25', 'ptn', 'pigp', 'higd2a', 'ccl17', 'cend1', 'slc5a8', 'trpv6', 'chac1', 'sart3', 'tbcel', 'rp1l1', 'nhlrc4', 'dchs2', 'sestd1', 'kalrn', 'cdc42bpa', 'dlec1', 'klf15', 'lce1a', 'or7g2', 'micb', 'grpel1', 'slu7', 'cops4', 'vtn', 'tnfsf14', 'yipf2', 'proser3', 'st8sia1', 'casz1', 'prg2', 'npl', 'slc2a2', 'lyzl6', 'npap1', 'slc15a4', 'tomm20', 'fancl', 'cyp46a1', 'wipi1', 'galnt2', 'mc1r', 'liph', 'bmpr1a', 'c16orf96', 'col7a1', 'or4a15', 'patj', 'magea12', 'med1', 'ndufb9', 'znf585a', 'nrsn1', 'dynlt1', 'gabra5', 'bcl3', 'sycp2l', 'hif1a', 'neurod2', 'znf700', 'ajuba', 'creg1', 'mettl25', 'pkm', 'rad54b', 'trmt44', 'nme5', 'supv3l1', 'dgcr2', 'ptx4', 'tusc1', 'cope', 'ehf', 'atp6v1c2', 'prb3', 'il17b', 'rnaseh2c', 'fabp5', 'copb1', 'slc22a11', 'parvb', 'sptb', 'yipf5', 'zscan25', 'tspo', 'fam131c', 'actl7b', 'dlgap1', 'linc02218', 'rabep1', 'tnnc2', 'acta1', 'vdr', 'foxs1', 'gpsm2', 'scgb1a1', 'spryd7', 'lmod1', 'or8b4', 'setbp1', 'atp4b', 'c1ql1', 'cct3', 'ift140', 'lect2', 'gdi1', 'lysmd3', 'rhex', 'tlcd1', 'scnn1b', 'rtl1', 'c19orf33', 'zfp69', 'c8orf89', 'rnf214', 'rbmxl2', 'psmg2', 'tmem234', 'lrp5', 'sppl3', 'rapgef5', 'nup54', 'rassf7', 'tmem134', 'ifrd2', 'ppp2r3c', 'syce2', 'irx4', 'ppfibp1', 'fam3d', 'akr1b10', 'gusb', 'ankrd24', 'ly6g6e', 'amer3', 'nav2', 'znf250', 'scarb1', 'cadps', 'fbxo11', 'cilp', 'lgi3', 'lrfn3', 'nme4', 'nrbp1', 'pdha1', 'aldh7a1', 'slc16a14', 'surf1', 'arhgef38', 'fbxo42', 'pcdh17', 'sst', 'fam187b', 'erf', 'ap2m1', 'abcb8', 'ap3d1', 'actg2', 'katnal2', 'naxe', 'trnau1ap', 'dbr1', 'c1ql2', 'mpst', 'fkbp1c', 'lig3', 'ythdc2', 'c20orf96', 'eif4g1', 'flii', 'kl', 'myo15a', 'ndufs7', 'aif1l', 'neurog2', 'rtp3', 'gins1', 'dusp13', 'polr2c', 'prss3', 'tmem156', 'ttc39c', 'ercc2', 'mtbp', 'arhgef19', 'nrn1l', 'ndel1', 'kcnn2', 'abcd3', 'fkbp10', 'ddx49', 'clec1a', 'amer2', 'otud7b', 'gosr2', 'rtn2', 'or5d16', 'sf3b3', 'znf681', 'dram1', 'snx6', 'ldlrad3', 'acsf3', 'esrp2', 'defb118', 'etv3', 'pon1', 'ccdc50', 'epb41l4a', 'tnfrsf11b', 'arsk', 'or4c11', 'tdg', 'znrf4', 'hmcn2', 'cobll1', 'myo9a', 'phf20', 'magea8', 'grk1', 'calcr', 'gabra6', 'synj2', 'wscd2', 'lca5l', 'sdf2', 'or8a1', 'myef2', 'slc2a11', 'apoc1', 'cnnm2', 'itgb2', 'c4orf46', 'pcsk1', 'stom', 'def6', 'cmtm3', 'jag2', 'eef2', 'efnb1', 'ccdc24', 'lrrc10b', 'vps37a', 'ilrun', 'scnn1d', 'selenon', 'gpr83', 'cfhr2', 'limd2', 'cpa5', 'tada3', 'ccdc169', 'znf771', 'paip2b', 'slc25a28', 'sdhaf3', 'pdxp', 'c10orf67', 'gins3', 'tmem51', 'raet1g', 'arsb', 'chmp4b', 'pcyox1l', 'dnaaf5', 'chchd2', 'glipr1l1', 'lyrm4', 'ms4a6e', 'krtap2-3', 'or8i2', 'selenof', 'serhl2', 'alx3', 'eif4a2', 'chek2', 'hspbap1', 'mbd3l1', 'ffar4', 'napa', 'klf14', 'gdf5', 'znf165', 'apcs', 'dock8', 'hmx1', 'sox12', 'or56a3', 'ssmem1', 'usp9y', 'duoxa2', 'cdca8', 'apaf1', 'cflar', 'pdhb', 'dpy19l3', 'gab1', 'bsx', 'ikbke', 'naa10', 'clca2', 'megf11', 'slc39a1', 'syne4', 'fbxl15', 'rnf41', 'sco2', 'pax4', 'st7l', 'eny2', 'npbwr2', 'senp1', 'scai', 'mta3', 'fgd2', 'or52e4', 'rassf3', 'mlana', 'rnf113b', 'timp3', 'kiaa0895', 'rab11fip1', 'pcdhga9', 'sdc1', 'fam71c', 'ly6g6d', 'card6', 'degs1', 'sfrp5', 'gca', 'arhgef39', 'mbip', 'rab11fip3', 's1pr4', 'c12orf45', 'shcbp1l', 'glb1l2', 'znf577', 'cenpt', 'rnf152', 'hs3st2', 'cyp2s1', 'ccdc89', 'dym', 'gnptg', 'sfxn2', 'cenpl', 'pla2g7', 'ern2', 'pdhx', 'map2k5', 'wfikkn1', 'pbx3', 'dcd', 'trmo', 'cyp26a1', 'tedc2', 'tmx4', 'avil', 'ackr1', 'egfl6', 'emb', 'tas2r38', 'cdh7', 'clec4e', 'slc9a5', 'eif4g3', 'tmem199', 'muc21', 'ttc33', 'znf614', 'fgb', 'wnt8b', 'fam53c', 'manba', 'gas1', 'glyatl2', 'leutx', 'slc6a13', 'mlh3', 'galnt7', 'hectd3', 'wdr41', 'baz1b', 'brd1', 'ubb', 'bod1l1', 'dph1', 'scgb1c2', 'fryl', 'themis', 'pik3r1', 'cct4', 'chd1', 'slco2a1', 'cpne9', 'tmem225b', 'klhl35', 'tbcc', 'igf2bp2', 'gss', 'tmem154', 'arhgef1', 'kmt2d', 'pnkd', 'ndst3', 'cebpg', 'c13orf46', 'rapgef2', 'shc1', 'mas1l', 'esm1', 'prkaca', 'baalc', 'ncald', 'slain1', 'spx', 'crb2', 'etfa', 'slc28a1', 'nrbf2', 'myt1', 'grin2b', 'septin14', 'cldn1', 'znf423', 'chrna6', 'ch25h', 'rhbdd2', 'fam81a', 'lemd1', 'itga9', 'syne1', 'il20', 'dcps', 'ptpn5', 'fbxl13', 'slc30a6', 'acvr1b', 'ncbp1', 'sytl3', 'egfl7', 'smim36', 'cel', 'pramef19', 'fam217a', 'il36rn', 'defb129', 'trim72', 'usf3', 'fgfrl1', 'znf554', 'cfap43', 'appbp2', 'best2', 'or9q1', 'bst1', 'dlat', 'fgg', 'glis2', 'arpp19', 'cfi', 'plxdc2', 'emc9', 'gucy1b1', 'kcnab2', 'srbd1', 'zbtb47', 'col24a1', 'stx10', 'erbb3', 'smo', 'wwc1', 'kiaa0753', 'oplah', 'aspa', 'fabp4', 'laptm4a', 'tex261', 'sirt4', 'kir2dl4', 'fam78b', 'syk', 'ankrd18a', 'znf519', 'fmo2', 'cep131', 'ephb3', 'piga', 'pdzk1ip1', 'sult1a2', 'hltf', 'vtcn1', 'dnase2', 'gna12', 'znf75a', 'ntn1', 'ifnl2', 'alkbh3', 'dhcr24', 'pi3', 'gfpt1', 'dpysl2', 'rbfox2', 'dpt', 'a2ml1', 'cmc1', 'ciao1', 'arl13a', 'emc2', 'ncoa6', 'tedc1', 'krtcap2', 'cacna1e', 'robo1', 'mmp7', 'wdr26', 'hspg2', 'sarnp', 'rgs6', 'creb1', 'pla2g2c', 'tle3', 'or2v1', 'tmem240', 'ms4a2', 'cldn34', 'acat2', 'pdrg1', 'ca8', 'fnbp1', 'pebp1', 'esrrg', 'c9orf85', 'cdc20', 'chit1', 'adam21', 'oxct2', 'stub1', 'ccl15', 'igdcc3', 'mb', 'ptpru', 'mlxipl', 'slc30a1', 'dctn1', 'map9', 'galnt9', 'gzmm', 'fbxw10', 'prmt9', 'stk32b', 'tmem243', 'cdkl4', 'aldh2', 'macrod1', 'barhl1', 'odf1', 'erfe', 'rhobtb1', 'map3k8', 'wnk1', 'gga2', 'olfm4', 'plglb2', 'nde1', 'cd3e', 'fcamr', 'map1lc3c', 'cnp', 'eml1', 'hecw2', 'c2orf73', 'dnaja1', 'pik3r2', 'krtap16-1', 'sult1b1', 'ugp2', 'tomm34', 'cops2', 'izumo1', 'selenov', 'znf579', 'fgf18', 'emid1', 'ostn', 'znf138', 'ippk', 'kcnj3', 'akr1a1', 'ap3s2', 'edn2', 'lynx1', 'chmp6', 'khdrbs2', 'sec16a', 'tex48', 'tgif2lx', 'hs6st1', 'shisa5', 'abi3', 'hps3', 'kcnh3', 'wnk2', 'cfap73', 'atg5', 'bcat1', 'lrrc24', 'zscan5a', 'myf6', 'ggcx', 'lgals4', 'zfyve1', 'adamtsl1', 'arfgap2', 'scmh1', 'slc6a1', 'actr1b', 'c4bpa', 'adck2', 'lax1', 'or2t11', 'phb2', 'ssh2', 'cdx2', 'taf6l', 'ttyh3', 'ankfy1', 'gimap1', 'gstp1', 'pdha2', 'c8orf37', 'hsd17b12', 'susd6', 'hcn4', 'alkbh1', 'trim22', 'zbtb17', 'capn5', 'dnajc24', 'tmem229a', 'e2f7', 'znf678', 'fut7', 'txnl4a', 'zbtb16', 'cd1d', 'dnhd1', 'stoml1', 'or1d2', 'or6b3', 'trim5', 'zswim4', 'cactin', 'psmb2', 'tsr2', 'ppp1r1c', 'lats1', 'knop1', 'batf2', 'brk1', 'fzd2', 'mt3', 'ddhd1', 'arhgef2', 'rnf166', 'trpc4', 'zkscan5', 'piezo2', 'slc35g3', 'acot11', 'ms4a7', 'xpot', 'slc7a7', 'pcdhb8', 'mogat1', 'mrgpre', 'b2m', 'ctnnbip1', 'prkra', 'vps53', 'azi2', 'grik5', 'triml2', 'iqgap3', 'tmem181', 'c11orf91', 'arl2bp', 'mterf3', 'pln', 'fzd3', 'krt1', 'lurap1', 'afp', 'atl2', 'gmeb2', 'slain2', 'cadm3', 'rfc3', 'spin4', 'ccr3', 'ppp2r1b', 'zfr', 'otud3', 'rnpepl1', 'cav2', 'id4', 'kcne3', 'asph', 'macf1', 'ccdc12', 'cyth1', 'or2at4', 'cacng5', 'blm', 'gemin6', 'eif5', 'fbxo9', 'ndufaf3', 'or11l1', 'rin1', 'arms2', 'dmac2', 'terf2', 'trpv4', 'med14', 'bzw1', 'ccl8', 'or4d2', 'clrn2', 'morf4l1', 'eif3a', 'hps5', 'polq', 'il9r', 'cdkn3', 'prom1', 'scel', 'uhrf1bp1', 'xage3', 'vsig10', 'rec8', 'psmc3', 'crygd', 'bco2', 'olfml2a', 'rasgrp2', 'zfc3h1', 'sec23a', 'ceacam5', 'spats2', 'nr1d2', 'cyth4', 'tmem37', 'kcnh1', 'jak1', 'abhd12b', 'cdrt1', 'fam47b', 'khnyn', 'tmem11', 'il17rb', 'stac2', 'nap1l2', 'ervmer34-1', 'lrrtm3', 'ticam2', 'kcng4', 'akirin2', 'uap1l1', 'yy2', 'hdac2', 'prmt8', 'tapt1', 'ttc8', 'mxra7', 'cyp8b1', 'wipf3', 'gtsf1l', 'or5m3', 'kcna7', 'git1', 'ppp1r14a', 'ago1', 'tm4sf4', 'trim3', 'tmem8b', 'sec22b', 'gphb5', 'dcaf6', 'dnajc14', 'msh2', 'pak2', 'rdh12', 'c4orf33', 'hoxd3', 'spink2', 'zkscan3', 'slc28a3', 'nsfl1c', 'hsd17b4', 'kcnk18', 'steap2', 'traf1', 'pcdha1', 'grk6', 'tmpo', 'psmd2', 'retreg1', 'bcl2l11', 'adh1b', 'gpr173', 'slc9a3r1', 'pcdhga5', 'npc2', 'cd28', 'suclg1', 'scd', 'cry1', 'tnfaip2', 'ptpn1', 'sos2', 'tc2n', 'tmem102', 'elmo1', 'hoxa9', 'il1rap', 'ifit1b', 'or10a6', 'krt4', 'prkd3', 'col14a1', 'nufip1', 'dennd4b', 'rnd3', 'klrf1', 'mospd3', 'nrg3', 'tmem62', 'stk11', 'ca7', 'nol6', 'lias', 'atxn3l', 'kncn', 'fbxo43', 'ctsv', 'tbk1', 'znf841', 'vars2', 'chd8', 'hoga1', 'ankrd45', 'igfbpl1', 'septin11', 'znf727', 'vwde', 'dsel', 'erg28', 'nfe2l3', 'hsd17b14', 'cd27', 'cpsf4l', 'mroh2a', 'a3galt2', 'lrp11', 'patl1', 'evi2b', 'igfbp4', 'utp4', 'dtnbp1', 'cd1c', 'exog', 'dck', 'pdgfrl', 'tmem131', 'pitpnm2', 'evc', 'adap2', 'stk38l', 'gata3', 'hoxa4', 'angptl2', 'prkag2', 'cand1', 'zar1l', 'thnsl2', 'rfx8', 'prob1', 'tmem59l', 'notch2', 'itprid2', 'alb', 'pskh1', 'p4htm', 'hnmt', 'tbc1d3e', 'gria2', 'cradd', 'krt6a', 'nudt19', 'c15orf39', 'ptges2', 'sardh', 'slc44a5', 'ndufb2', 'sall2', 'pitpnb', 'soga1', 'rubcn', 'stk10', 'tut1', 'dock10', 'wnt5a', 'plcg1', 'nfasc', 'tinagl1', 'cdc123', 'lcmt1', 'tomm6', 'polk', 'znf514', 'ddx3x', 'ass1', 'tax1bp1', 'isl1', 'nts', 'p2ry2', 'gbp1', 'cdk2', 'htn1', 'miga2', 'jcad', 'timmdc1', 'or5k4', 'c10orf99', 'ap1m1', 'psca', 'sult1c4', 'pot1', 'irf8', 'sall4', 'gpr17', 'catsper3', 'lmbrd1', 'rac2', 'lsr', 'cdc40', 'slamf8', 'tnmd', 'brd4', 'septin7', 'diras3', 'nlrc5', 'terb1', 'tmem192', 'tmem263', 'slc31a2', 'glo1', 'cdhr3', 'sms', 'cltc', 'shisal2b', 'ssh1', 'rxylt1', 'tuba1b', 'znf655', 'slc2a9', 'sftpb', 'tatdn2', 'dnase1l3', 'rnf114', 'ak1', 'adig', 'nudt8', 'foxn4', 'abca2', 'or5c1', 'srsf5', 'c8orf74', 'cbarp', 'rrnad1', 'mrgprx3', 'bphl', 'isca2', 'klf3', 'pcdhb10', 'ift172', 'gorasp1', 'slc25a52', 'slc7a6', 'twf1', 'nek1', 'cldn11', 'gask1b', 'madcam1', 'kif5a', 'tex47', 'skil', 'riok3', 'tbl1xr1', 'ccdc88c', 'vax2', 'itih5', 'rmdn3', 'cdc37', 'gpalpp1', 'vac14', 'slfn11', 'snx18', 'ctf1', 'pgd', 'tmem126a', 'arih1', 'shc2', 'slc35c2', 'dnajc28', 'galnt10', 'gatad2b', 'znf587b', 'gjb1', 'ms4a4e', 'tnfrsf25', 'aurkb', 'mas1', 'ccl1', 'c17orf58', 'pkmyt1', 'tbc1d25', 'kdm4c', 'commd8', 'orc6', 'pdzd8', 'wipf2', 'pde6g', 'pex13', 'slc39a9', 'ctnnd1', 'ccnd3', 'map4k5', 'dst', 'dhrs9', 'parvg', 'pramef2', 'prmt3', 'adad2', 'tnfrsf1b', 'aunip', 'clta', 'gulp1', 'xage5', 'slc25a26', 'hars2', 'ube2a', 'kcnip1', 'krt38', 'dmrta2', 'helz2', 'nhej1', 'adamtsl2', 'srm', 'adcy4', 'mlxip', 'krtap1-1', 'tep1', 'pdcd10', 'pih1d1', 'cmtm7', 'wars2', 'cd6', 'prrg1', 'kcne2', 'psg7', 'rce1', 'or1s1', 'bcap31', 'psmb4', 'kpna2', 'sf3a3', 'tnni1', 'osgin1', 'fam166b', 'cnot11', 'lipe', 'znf189', 'camkv', 'retnlb', 'slc38a11', 'ap2b1', 'ecd', 'tbc1d8b', 'znf257', 'immp2l', 'nop56', 'krtap22-2', 'dennd4c', 'parp4', 'krtap4-16', 'nsmce4a', 'sh3yl1', 'pamr1', 'plcd1', 'ddx39a', 'pnpla1', 'slc7a1', 'stpg1', 'znf449', 'fam24b', 'clock', 'csf3', 'pglyrp4', 'dctn5', 'crh', 'cyp2a7', 'litaf', 'ntng1', 'arl10', 'lcn10', 'opn1lw', 'kank1', 'ankrd9', 'kdm2a', 'phldb2', 'znf70', 'znf75d', 'ppp2r2a', 'kctd12', 'ints5', 'lgi2', 'nol7', 'usp9x', 'nhlrc3', 'cnga2', 'ids', 'slc40a1', 'sez6l', 'p3r3urf', 'dffa', 'samd12', 'acp7', 'c1orf185', 'card11', 'sema6c', 'ccdc63', 'foxr2', 'tmem215', 'fam189a2', 'cd40', 'fbn3', 'srpk2', 'stat2', 'tubb2a', 'hspb11', 'dram2', 'ppt1', 'serp2', 'fst', 'gon4l', 'col6a1', 'armc10', 'hcrtr2', 'nol3', 'fam209b', 'rem1', 'slc24a2', 'tjp1', 'mfsd13a', 'csf2ra', 'zbtb21', 'gas7', 'pdzd4', 'ankrd49', 'krt75', 'josd2', 'ankrd18b', 'krtap10-7', 'il2ra', 'adgrl2', 'lsm11', 'mboat2', 'myo5b', 'atp23', 'fos', 'hnrnpa0', 'pdzd9', 'sil1', 'hspb3', 'ddx42', 'pcdh1', 'pced1a', 'strn3', 'klhl4', 'slc25a25', 'micall2', 'atm', 'pom121', 'srp54', 'actl9', 'tnxb', 'ap4e1', 'or13c8', 'ddx20', 'krtap4-11', 'lsm6', 'parp16', 'riok1', 'hhex', 'cfap53', 'glt6d1', 'nrtn', 'trmt10b', 'foxi1', 'mapk15', 'slc3a1', 'chmp2a', 'fam133a', 'stk35', 'cyp19a1', 'ezh1', 'spata1', 'vkorc1', 'pcnx4', 'rapgef6', 'peli1', 'hspa5', 'igip', 'krtap19-6', 'commd6', 'pck2', 'ak5', 'pfkm', 'cox19', 'tpbgl', 'dcbld1', 'sucla2', 'proser2', 'sycn', 'poglut1', 'commd10', 'znf584', 'myzap', 'inppl1', 'ido2', 'zmynd10', 'znf318', 'fbxl20', 'nell1', 'rtf1', 'matn2', 'nsun5', 'c16orf78', 'zbtb45', 'gnl3', 'epb41l1', 'glcci1', 'mob3b', 'or6b2', 'wdfy1', 'gtf3c3', 'trappc13', 'cep152', 'tmem70', 'aldh6a1', 'cttnbp2nl', 'aqp12a', 'slc17a7', 'timp2', 'taf3', 'ash1l', 'brsk1', 'hdgfl3', 'klf1', 'lrrn4', 'vti1a', 'srxn1', 'brinp3', 'nyap2', 'rad21', 'cyp11a1', 'mgarp', 'pank1', 'gclm', 'tmem63b', 'gzmk', 'apol5', 'mis18bp1', 'gemin4', 'coro1a', 'cndp1', 'tram1l1', 'bcl11b', 'zbtb25', 'helq', 'cacna1g', 'coa3', 'tmem222', 'potem', 'slc25a22', 'atpsckmt', 'trim60', 'cldnd2', 'extl2', 'cbll1', 'mlec', 'slc50a1', 'cfap157', 'erp44', 'znf263', 'kcnd1', 'akt1s1', 'cer1', 'foxh1', 'scfd1', 'meikin', 'phyhipl', 'trpc4ap', 'npc1l1', 'snrpe', 'trim11', 'ep400', 'edrf1', 'arhgap45', 'rnf144a', 'robo4', 'slc47a2', 'srrm5', 'gpr85', 'blzf1', 'spanxb1', 'arl5a', 'myh14', 'srpx2', 'dsg3', 'uchl3', 'znf622', 'sat2', 'nlrp10', 'eid2b', 'vhll', 'paqr6', 'cd209', 'gapt', 'rprml', 'fcrl1', 'gpr34', 'loxl4', 'tcp10l2', 'dgkb', 'myh13', 'or2t8', 'znf404', 'plscr1', 'ghrl', 'arx', 'cdhr1', 'otub2', 'man1a2', 'slc25a19', 'ppp1r8', 'fxr2', 'ift46', 'slc22a9', 'scarf2', 'znhit6', 'oprm1', 'srarp', 'babam2', 'pcsk1n', 'bves', 'slc16a7', 'rbp4', 'cfap77', 'ptk2b', 'znf566', 'gpcpd1', 'cybrd1', 'morf4l2', 's100a13', 'lman2', 'tmem107', 'scp2', 'nop14', 'kcnmb2', 'uaca', 'prmt1', 'nedd9', 'cep350', 'syt10', 'lat2', 'mpp3', 'olfm1', 'edn3', 'msx2', 'rccd1', 'znf878', 'hmgb2', 'fam71f1', 'sirt1', 'pcdhgc5', 'lrfn1', 'prss12', 'aff1', 'fcgr1b', 'nfam1', 'fdx1', 'ccdc112', 'znf613', 'cops7a', 'rab32', 'samm50', 'mycl', 'rpa1', 'cxorf65', 'zmat4', 'bcl7c', 'spop', 'tspan6', 'l3mbtl4', 'eya2', 'lrit3', 'slc26a3', 'timm10', 'or3a1', 'ktn1', 'znf35', 'dusp28', 'sox2', 'fbrsl1', 'rpa2', 'adam7', 'ccdc102a', 'hmgn1', 'ddr1', 'mesp2', 'esco2', 'znf627', 'tox4', 'gpr148', 'psg2', 'klk6', 'ccdc90b', 'pde7a', 'fyttd1', 'pcdha9', 'ect2l', 'hs1bp3', 'ramacl', 'grm4', 'aoc1', 'dmxl2', 'cbfa2t2', 'znf330', 'slc5a10', 'acss1', 'adam17', 'uba52', 'calb1', 'lypd6', 'tmem25', 'hsd17b6', 'polr3d', 'erich5', 'carmil1', 'peak3', 'rsad1', 'exosc1', 'gns', 'krt28', 'sgsh', 'b3galnt2', 'ogg1', 'ventx', 'kctd13', 'cox10', 'ccdc14', 'ccna1', 'agpat5', 'samd15', 'defb131b', 'acadl', 'bcas2', 'ophn1', 'or52n2', 'shisa7', 'il25', 'oxsm', 'ngfr', 'rbm19', 'tom1l1', 'atp5mg', 'sbk1', 'aimp1', 'tmem249', 'zkscan2', 'kpna5', 'triobp', 'msrb2', 'tatdn1', 'prdm5', 'sertm1', 'pnma2', 'atp6v0d1', 'mccd1', 'casq1', 'ak4', 'nup210', 'map3k7', 'c2cd4b', 'lef1', 'kcnk17', 'plek', 'thsd8', 'rbm26', 'tmem150a', 'pikfyve', 'slc25a46', 'pcdh11y', 'il20rb', 'tshr', 'vwa5a', 'ppm1j', 'znf804a', 'cmss1', 'ankrd55', 'acly', 'mx1', 'mertk', 'pars2', 'mak', 'spata33', 'jun', 'arsa', 'ctxn2', 'otol1', 'slc44a4', 'htr2c', 'arhgap11b', 'lst1', 'ninl', 'pou2f2', 'pfdn6', 'tdrd6', 'pet100', 'rnf212b', 'vax1', 'lhx8', 'megf6', 'il23r', 'hk2', 'smarca5', 'irx1', 'sit1', 'gabre', 'mylk2', 'efr3b', 'ccdc168', 'ccdc102b', 'muc5b', 'hspa12b', 'trpc5', 'ttll9', 'tas2r16', 'samd11', 'zfp3', 'gna13', 'lin28a', 'map4k1', 'emc1', 'znf720', 'krtap4-2', 'ube2l5', 'mtx1', 'usp53', 'hhla1', 'phox2a', 'mansc1', 'c4orf17', 'pbx2', 'popdc3', 'cnot6l', 'kif26a', 'igf1', 'ivns1abp', 'sec31a', 'thg1l', 'acot8', 'cgref1', 'nf1', 'rab8a', 'rpgrip1', 'asb15', 'chtf18', 'adam8', 'serpina5', 'star', 'ptgir', 'rbm28', 'ropn1b', 'ryr2', 'cyb5r2', 'manea', 'exo1', 'lrrc23', 'stag2', 'vma21', 'ecsit', 'zcchc8', 'ap1b1', 'defb136', 'als2', 'drg2', 'zdhhc22', 'phb', 'pa2g4', 'mgat4c', 'csrp1', 'zdhhc1', 'ddx19b', 'dusp16', 'gng5', 'eri3', 'dnajc4', 'vpreb1', 'daam1', 'rasl11a', 'mtr', 'tfap4', 'mettl21c', 'plekhm2', 'gpr31', 'cmtm4', 'cox20', 'hbq1', 'mybbp1a', 'clul1', 'htra1', 'znrf1', 'camk2b', 'cdk11b', 'tab1', 'il4', 'zbtb3', 'icam4', 'ca12', 'igsf6', 'or5k3', 'btrc', 'prok2', 'gpd2', 'bcl6b', 'atmin', 'rlf', 'oas1', 'fam219b', 'irs1', 'psd3', 'ubap2l', 'slc46a3', 'arrdc4', 'prrg2', 'ppp4r3a', 'aurkc', 'anapc11', 'mcee', 'enho', 'cd5l', 'fcho1', 'dhdh', 'insl6', 'scara5', 'tuba1c', 'armt1', 'best4', 'gata1', 'fibin', 'lins1', 'slc25a14', 'pcbp3', 'znf473', 'c6orf120', 'cacna1h', 'or6f1', 'neil2', 'golga6l6', 'shh', 'ano5', 'mroh6', 'ddx3y', 'mefv', 'or2f1', 'ankrd13a', 'galnt18', 'mln', 'fam184a', 'mtmr12', 'tbc1d17', 'nme6', 'dgki', 'gjb4', 'kdm5c', 'bpifa1', 'adh4', 'cebpe', 'fuca1', 'gpr171', 'phactr3', 'ppial4a', 'ambp', 'magea9b', 'thrb', 'fbn2', 'cldn25', 'suv39h1', 'zbtb34', 'abhd15', 'leng8', 'fam189b', 'or6v1', 'arl3', 'angptl8', 'apol3', 'lhfpl4', 'fas', 'lrrtm4', 'tmem53', 'cfap221', 'larp6', 'rnf19b', 'znf783', 'akr1e2', 'ddrgk1', 'kiaa1841', 'c17orf49', 'il17c', 'cntn6', 'nt5e', 'ghitm', 'nek8', 'krt6b', 'magi3', 'morc4', 'gabrg1', 'nfkb1', 'otogl', 'mrgprx1', 'slc25a33', 'stap1', 'bloc1s6', 'pom121c', 'cox16', 'slc51a', 'actn1', 'cldn16', 'plaat5', 'frmd3', 'cdc25b', 'gpx3', 'tatdn3', 'cst8', 'znf546', 'abcb1', 'cst11', 'mbd6', 'surf6', 'porcn', 'c3orf14', 'snf8', 'ttc30a', 'snx32', 'asb17', 'nfkbiz', 'slc18a1', 'c1qtnf12', 'slc7a14', 'tesk1', 'mri1', 'ptrh1', 'htr3e', 'c7orf50', 'cog8', 'krt19', 'rit1', 'cryga', 'lztfl1', 'trip12', 'cfap97d2', 'hax1', 'castor2', 'gsn', 'mrgprd', 'arhgef40', 'ostf1', 'pifo', 'nvl', 'cntrob', 'ppig', 'ripk4', 'rdm1', 'uqcrfs1', 'gan', 'or4d9', 'gxylt1', 'krt73', 'cmpk1', 'gramd2a', 'atf5', 'or10g7', 'apobec4', 'eno3', 'ptdss2', 'cfdp1', 'cxcl16', 'sox4', 'irf2bp1', 'ociad1', 'fancf', 'zfp57', 'znrf2', 'lmod2', 'ccl26', 'igfl4', 'krt79', 'gpc3', 'cxcl17', 'lrrc15', 'plekhb1', 'c2cd3', 'c8orf82', 'snx17', 'rab29', 'epop', 'cops8', 'pgbd5', 'hbg1', 'sirt3', 'tmem205', 'slpi', 'zap70', 'atg13', 'dll4', 'ubfd1', 'epm2a', 'dnai1', 'nr3c1', 'bend3', 'ezh2', 'ly6h', 'begain', 'supt3h', 'vps33a', 'znf311', 'cd33', 'pabpc1l', 'snrnp48', 'muc1', 'kat14', 'cdc26', 'nr1h4', 'znf775', 'top2b', 'ifih1', 'lsm2', 'sntg1', 'ppm1d', 'znf211', 'sf3a2', 'c14orf132', 'dhtkd1', 'slc16a2', 'ralb', 'nus1', 'ccbe1', 'frmd7', 'slc2a12', 'tyw5', 'msh3', 'adgrd1', 'elk4', 'ell3', 'rtcb', 'mgmt', 'mon1a', 'mcrip2', 'agl', 'smad5', 'ngly1', 'rcor1', 'gabrr2', 'ube4b', 'gpr39', 'pkdrej', 'sfr1', 'dnm2', 'or4s2', 'itsn1', 'pigb', 'foxo1', 'lrrc71', 'masp2', 'pvalb', 'slc66a2', 'fam160a2', 'pax5', 'pde1b', 'zfpm2', 'oosp4b', 'ago2', 'krtap5-8', 'mthfd1', 'tmprss6', 'nipa2', 'p3h3', 'colca2', 'muc7', 'prrx1', 'mgat1', 'usp28', 'bnip3l', 'krt23', 'calr', 'copz1', 'fstl5', 'cpsf2', 'nkx2-3', 'znf142', 'mxra5', 'gabra1', 'aoc3', 'gnl2', 'mark2', 'gramd1a', 'tmem254', 'tpst1', 'bhlhe41', 'crlf1', 'epb41l3', 'urgcp', 'p2rx5', 'prr5', 'vps11', 'ptk7', 'exosc6', 'cox8c', 'insm2', 'otos', 'ankrd34b', 'lsmem2', 'sh3kbp1', 'gsta3', 'mmp10', 'fam240a', 'nlrp12', 'prr7', 'psmc4', 'sirt7', 'ttyh2', 'ddx56', 'krt24', 'prrc1', 'relch', 'rftn2', 'iqcg', 'dpp8', 'ehd2', 'slc25a45', 'fbxo5', 'tfdp1', 'heph', 'ttbk2', 'tead2', 'znf586', 'ccdc38', 'nudt21', 'hspa8', 'nat14', 'sycp1', 'ttc26', 'lmo4', 'klf17', 'tnc', 'chic2', 'or2a2', 'or5d13', 'rae1', 'irf1', 'cep162', 'prkaa1', 'dnah11', 'frs3', 'thsd4', 'garnl3', 'zic3', 'znf296', 'epb42', 'atp5pd', 'myof', 'dock9', 'ctnna1', 'rbpj', 'slc35g2', 'nxnl1', 'tcf19', 'jph2', 'hsp90aa1', 'krtap10-3', 'pde7b', 'smtnl1', 'papss1', 'ntmt1', 'znf18', 'arhgap25', 'eef2kmt', 'vps26a', 'pgap2', 'doc2a', 'tor1b', 'ccdc7', 'gnpnat1', 'nudt10', 'mtf1', 'scrt1', 'akap12', 'tusc3', 'fen1', 'tmod3', 'pfkfb4', 'krtap4-6', 'cdk6', 'add2', 'slc25a30', 'ms4a13', 'vsnl1', 'g0s2', 'polr2a', 'septin8', 'slc4a1ap', 'psat1', 'col20a1', 'slc13a2', 'il9', 'pcbp2', 'znf730', 'mnx1', 'tunar', 'klln', 'pdlim5', 'lmcd1', 'sprtn', 'mat2a', 'glud1', 'znf213', 'dmgdh', 'myo5a', 'egfl8', 'gsta5', 'thap2', 'lox', 'plcb1', 'stmn2', 'adam9', 'dnajc8', 'arhgap24', 'chchd7', 'eif2ak3', 'cul2', 'ilk', 'atrx', 'csnk1a1l', 'recql5', 'kcnj8', 'sumf2', 'gsc2', 'ten1', 'c7', 'arl11', 'tfb1m', 'ifitm1', 'cd99', 'znf544', 'gripap1', 'atoh1', 'wdr87', 'tagln3', 'rab35', 'usp7', 'tspan16', 'midn', 'acsl6', 'gzmb', 'cxxc4', 'ifi44l', 'coq10b', 'c1galt1', 'cenpj', 'ffar2', 'mapkap1', 'bcl2l2', 'znf281', 'ncbp2l', 'znf439', 'strap', 'apobec3d', 'cabyr', 'plbd2', 'flywch2', 'pard6a', 'drosha', 'lzts2', 'kif1b', 'fgf12', 'sebox', 'cpb2', 'styxl1', 'nrn1', 'alg1', 'ppp1r1a', 'rbm33', 'kmt2e', 'sema6a', 'unc79', 'hmgn4', 'hydin', 'epn2', 'ifnl1', 'slc22a14', 'lrrc2', 'rnf122', 'them4', 'lct', 'ripk2', 'gpr61', 'ripply3', 'cdr2', 'spegnb', 'il24', 'uggt1', 'slc35f4', 'fam107a', 'c18orf63', 'or13f1', 'mia2', 'ptgfr', 'trim16', 'lamp5', 'hid1', 'dnajc2', 'mindy4', 'gsdmd', 'sox18', 'cisd2', 'spint3', 'znf552', 'znf853', 'retreg3', 'luc7l', 'fcgrt', 'cuedc2', 'irf3', 'mylpf', 'l3mbtl3', 'tmed10', 'c4orf36', 'matn1', 'olig1', 'ugt2b7', 'runx1', 'slc9a3', 'tmcc3', 'hoxb8', 'znf780a', 'arhgap19', 'csnk1a1', 'ppp1r10', 'aldh9a1', 'c1orf115', 'rhbdl2', 'ccdc71', 'cyp2j2', 'mageh1', 'zc2hc1b', 'alcam', 'gml', 'mcph1', 'gzma', 'ankrd54', 'cracr2b', 'dmtf1', 'sox7', 'phf24', 'dynll2', 'ung', 'rere', 'ppp1r11', 'pecam1', 'dnmbp', 'snip1', 'pias3', 'defb125', 'aldh1a1', 'dnajc16', 'klhl36', 'or2ag2', 'spdyc', 'phlda3', 'parl', 'rassf8', 'zbtb40', 'zar1', 'rhod', 'krtap3-3', 'setd1a', 'slc13a3', 'znf169', 'eif3j', 'kif12', 'cbln1', 'lrrc8b', 'dync2h1', 'esd', 'ccn3', 'lepr', 'mta1', 'c5orf22', 'cntn5', 'otc', 'polr2k', 'rev3l', 'avp', 'pard3b', 'cdca4', 'laptm4b', 'krt3', 'tmem101', 'adamts9', 'spry2', 'uts2b', 'c1qtnf9', 'dvl1', 'setx', 'pcdha8', 'dnah17', 'mtif3', 'coil', 'acsl4', 'polr2l', 'ccdc69', 'or5l1', 'znf503', 'mcm2', 'mogs', 'cytl1', 'golga7', 'nadk', 'gmip', 'btbd17', 'cep170b', 'znf267', 'cnga1', 'msantd1', 'foxb1', 'pik3c2g', 'ppp1r36', 'psmb7', 'spaar', 'fermt3', 'mfsd3', 'uchl5', 'ccdc138', 'ltc4s', 'myl9', 'rfpl1', 'itih3', 'cd2', 'pik3ap1', 'rtel1', 'dsc1', 'fbln1', 'lbx1', 'anks1a', 'odc1', 'clybl', 'gle1', 'lyplal1', 'abat', 'stmn3', 'tor3a', 'c1orf56', 'nfkb2', 'gadd45b', 'slc25a21', 'akap17a', 'enosf1', 'mctp1', 'vps9d1', 'galnt12', 'chodl', 'or4k14', 'smim4', 'rspo1', 'dbf4', 'itga5', 'nmnat2', 'pxmp4', 'usp19', 'heg1', 'ndufb10', 'pik3ip1', 'far1', 'idi1', 'or6k3', 'rnps1', 'galnt17', 'pdxk', 'rsph10b2', 'wdr20', 'ppie', 'amfr', 'lap3', 'mlip', 'mto1', 'trim58', 'cfap46', 'psd', 'iqgap1', 'znf84', 'clcn1', 'fth1', 'myo1b', 'larp7', 'cep44', 'ly96', 'mypop', 'slc35a5', 'sarm1', 'amotl1', 'bach1', 'cd177', 'gli3', 'mcm7', 'fgf10', 'fhod1', 'trim32', 'det1', 'klrg1', 'tal2', 'il22ra2', 'gfap', 'clic3', 'zfand3', 'vps37d', 'hmga1', 'gp5', 'atp6v1e2', 'bcas3', 'postn', 'c10orf53', 'evx1', 'nms', 'pabpc1l2a', 'gdf3', 'tbccd1', 'pmf1', 'cic', 'anxa1', 'znf280a', 'spata6', 'iah1', 'znf776', 'stab2', 'gbp5', 'gmppa', 'sgsm1', 'znf827', 'ube4a', 'sgk1', 'aip', 'sqle', 'fam76a', 'cldn5', 'ntf3', 'kbtbd2', 'map6', 'nlrp2b', 'or2z1', 'lypd3', 'erich3', 'pydc1', 'ccdc54', 'chkb', 'c4orf45', 'pcdhga7', 'kiaa0319', 'galnt1', 'myorg', 'plk3', 'selenot', 'ampd1', 'ptpro', 'capns1', 'wdr64', 'znf765', 'eif3l', 'pcdhgb2', 'cdkn2a', 'fblim1', 'snrpd1', 'isyna1', 'tyw3', 'gadl1', 'nup214', 'gigyf1', 'dipk1c', 'gpr32', 'irak1bp1', 'plppr5', 'pramef1', 'serf2', 'smpd1', 'cwc25', 'tex29', 'angel2', 'pcdhb3', 's100p', 'smox', 'speg', 'magea11', 'tmie', 'krt16', 'kctd5', 'khdc4', 'chat', 'nrcam', 'dlk2', 'oat', 'znf337', 'fbxo38', 'sobp', 'daz2', 'slc41a1', 'slc26a1', 'ankrd40cl', 'matk', 'aldh5a1', 'chic1', 'melk', 'bag5', 'cfd', 'abcg8', 'arhgdia', 'mss51', 'tpx2', 'krtap9-7', 'stil', 'kansl1', 'lsm4', 'epdr1', 'tcf25', 'snx12', 'zbed6cl', 'cmya5', 'aldh3b1', 'casc3', 'evi5l', 'tmem200b', 'adgrg3', 'plcb2', 'dab2', 'brca2', 'tlx1', 'snx8', 'tspyl5', 'camsap3', 'ldhc', 'dtl', 'cnot1', 'meis2', 'scml2', 'greb1', 'timm44', 'akain1', 'tex49', 'folr1', 'nr6a1', 'alkbh5', 'shroom3', 'fat4', 'oasl', 'ptpn2', 'znf92', 'borcs6', 'irs2', 'pramef15', 'znf843', 'dcstamp', 'senp8', 'zxda', 'alg8', 'siae', 'cyp21a2', 'pax2', 'zp4', 'afm', 'pigs', 'taf11l6', 'cog7', 'agap2', 'pros1', 'tex14', 'cdk2ap1', 'duox2', 'dusp19', 'slc25a15', 'stk38', 'mbtd1', 'mt2a', 'tdrd12', 'ubap1l', 'pcdha4', 'prr22', 'gpr132', 'nedd4l', 'ulbp1', 'wdr92', 'ccnjl', 'tceal2', 'chaf1b', 'acot7', 'vps8', 'ms4a1', 'cd34', 'sdc2', 'tmem210', 'gstm3', 'has1', 'dcn', 'rnf113a', 'mroh7', 'lrch1', 'mcc', 'rbm12b', 'zdhhc15', 'syngr4', 'nrgn', 'myh3', 'asz1', 'ctxnd1', 'tnfsf13b', 'parm1', 'txlna', 'srsf11', 'tlk2', 'wdr88', 'znf596', 'lemd2', 'tbc1d14', 'acss2', 'bfsp2', 'hcar1', 'papolb', 'tmem184a', 'cnpy2', 'or51d1', 'nsa2', 'gclc', 'cachd1', 'stpg2', 'lrrc63', 'adgra1', 'lrrc43', 'spanxn4', 'selenoh', 'slc52a3', 'ankrd42', 'crabp1', 'stn1', 'slc26a11', 'ube2n', 'ppp1r21', 'epas1', 'sbk3', 'il27ra', 'ppfia3', 'tmem138', 'cdc14c', 'mettl8', 'nxph3', 'grid2ip', 'vapa', 'klf12', 'vipr2', 'bub3', 'cnga3', 'usp27x', 'cacna2d4', 'ss18l2', 'atxn1l', 'dera', 'cdh19', 'nfkbib', 'dynlrb2', 'pvalef', 'rassf6', 'rnf207', 'setd6', 'adamts19', 'tmem115', 'uqcc2', 'chrna1', 'cpb1', 'apcdd1l', 'cdh5', 'gpr137', 'hyal4', 'il13ra2', 'napg', 'or4s1', 'prss51', 'cfap299', 'defb110', 'pbx4', 'rab17', 'slc2a10', 'dcun1d3', 'tprx1', 'map4', 'pyhin1', 'peg3', 'fam3a', 'gsx2', 'c3orf62', 'clnk', 'cux1', 'rgs17', 'hmx2', 'trdmt1', 'btbd19', 'necap2', 'tm4sf19', 'tril', 'calb2', 'cxcr5', 'depdc7', 'scand1', 'tgm4', 'kdm2b', 'zbtb44', 'traf4', 'gtf3c5', 'slc16a1', 'or4k1', 'prss55', 'gjd2', 'fcf1', 'ubxn11', 'kcp', 'msh5', 'mucl1', 'pin1', 'glg1', 'derl2', 'aire', 'fam20b', 'tectb', 'ethe1', 'fut5', 'nlrp8', 'selenoi', 'capzb', 'b4galnt4', 'hic1', 'bicra', 'dcdc1', 'il11ra', 'krtap21-2', 'or56a1', 'rabgap1l', 'c2orf76', 'sertad2', 'sympk', 'rab7a', 'rgn', 'znf723', 'oprk1', 'pzp', 'ptafr', 'tcf7l1', 'bud13', 'cwc15', 'dnajc21', 'zbtb7a', 'tnip1', 'acox1', 'efcab7', 'arhgap22', 'pjvk', 'sec62', 'itgax', 'lrig2', 'prh2', 'nr5a1', 'or5m10', 'dcx', 'znf880', 'inafm2', 'mdfic', 'spink6', 'fbxl4', 'p3h2', 'znf879', 'gzmh', 'ube2g1', 'adtrp', 'tnf', 'or2g6', 'ccn2', 'fbll1', 'sdr42e1', 'tfpt', 'tmem259', 'matn3', 'fcrl6', 'slc22a12', 'ankle1', 'orm1', 'tet3', 'neurl3', 'sh3tc2', 'vamp2', 'mcl1', 'phrf1', 'fat2', 'irf5', 'emilin3', 'fam241a', 'hcn1', 'aprt', 'fgf23', 'lyn', 'nlgn3', 'or51g1', 'serpina11', 'wdr46', 'ctnnb1', 'ttc21a', 'ino80', 'serpind1', 'bcl10', 'klk8', 'ndufa1', 'pipox', 'cat', 'mc4r', 'sgtb', 'sycp3', 'tuba3e', 'znf79', 'hpgd', 'prelp', 'nlgn4x', 'tmprss11d', 'chst7', 'farsb', 'cyb5d1', 'ankzf1', 'tex15', 'psmd13', 'ndufaf6', 'tktl1', 'smim8', 'cdc42bpb', 'eif4a3', 'wdr6', 'qsox2', 'ocln', 'anapc2', 'arglu1', 'cacna1s', 'tafa4', 'inka1', 'zdhhc2', 'aldh18a1', 'tbx15', 'wdfy2', 'leng1', 'incenp', 'tmem9', 'rnf139', 'rgs14', 'col4a6', 'selp', 'lmf2', 'lair2', 'or10g3', 'enpp4', 'elf4', 'hbegf', 'linc00672', 'nup88', 'pcgf2', 'peg10', 'stx19', 'ints3', 'radil', 'znf793', 'cyth2', 'ddx25', 'dgat2', 'retn', 'tp53bp2', 'tysnd1', 'pear1', 'nanognb', 'syce1l', 'txnl1', 'zdhhc4', 'cox6c', 'exoc1l', 'krt85', 'nuak1', 'ndrg4', 'foxf1', 'lin54', 'alkbh2', 'kpna4', 'rsrp1', 'slc22a7', 'bcl7b', 'c2orf68', 'ect2', 'cop1', 'hcfc1r1', 'pla2g15', 'mcrs1', 'mdk', 'plscr3', 'grm5', 'lgr6', 'smurf1', 'spns1', 'whrn', 'flrt3', 'gabbr1', 'klhdc8a', 'serpinb7', 'heatr9', 'tmem265', 'rab38', 'gabrq', 'srprb', 'trim65', 'mvd', 'pcdh19', 'cpn1', 'aifm2', 'hs3st1', 'or13g1', 'unc93b1', 'abhd2', 'pxt1', 'il31ra', 'pvrig', 'dmrt2', 'lrrc31', 'pde4d', 'serpinb10', 'stkld1', 'appl2', 'cfap161', 'cramp1', 'rnh1', 'chrnb3', 'stc1', 'cenpw', 'tnfaip8', 'mettl23', 'qpctl', 'lmnb2', 'dbp', 'parp11', 'lilra4', 'fars2', 'smad2', 'suox', 'timd4', 'ly9', 'iqcf6', 'fgd4', 'mtrex', 'tk1', 'cenpe', 'gmcl2', 'mindy1', 'topaz1', 'map2k1', 'exoc6b', 'sugp1', 'parp8', 'rrm2', 'adamts2', 'atpaf2', 'ctxnd2', 'cfap410', 'cyp4x1', 'dock7', 'nebl', 'eya4', 'tmem163', 'ypel1', 'ubald1', 'asphd2', 'rab2b', 'ppm1n', 'tpr', 'nop2', 'rpe65', 'ccdc187', 'acy3', 'il17rel', 'otor', 'pnma6f', 'lekr1', 'zfp28', 'tent5a', 'slc22a1', 'col4a2', 'clec16a', 'atp5pf', 'rarres1', 'slc41a2', 'tlr6', 'tfpi2', 'ap4b1', 'st6galnac6', 'tspan12', 'atp6v1f', 'tas2r30', 'c4orf3', 'rcn1', 'tcn1', 'klf16', 'epha10', 'c1galt1c1l', 'avl9', 'pcdhga1', 'ndufb8', 'trappc3l', 'mccc2', 'fcer2', 'pde6b', 'raph1', 'reg3a', 'dhps', 'ccnd1', 'kcnk1', 'avpr2', 'kiaa0513', 'acot12', 'krt82', 'krtap27-1', 'lman1', 'marveld3', 'neil1', 'khsrp', 'snupn', 'bin2', 'lilra2', 'stk26', 'actl6b', 'dio2', 'ndufs2', 'serinc4', 'tjap1', 'tmem231', 'vsx1', 'tax1bp3', 'or11a1', 'nt5c2', 'vegfc', 'poli', 'uxt', 'fez2', 'sfpq', 'lyg1', 'alox15b', 'opn5', 'gcnt4', 'slc30a8', 'bank1', 'thumpd2', 'oxct1', 'zic2', 'ugt1a10', 'des', 'pla2g12a', 'gprc5b', 'krt78', 'cd47', 'c10orf71', 'scn9a', 'rasa3', 'nat10', 'sash1', 'tbc1d10a', 'slc8a3', 'ccser1', 'fam71e2', 'irgm', 'cyth3', 'znf691', 'mt-co3', 'gnrh1', 'pmp2', 'abhd5', 'gpr20', 'cacna1c', 'ndufaf5', 'adamts6', 'ano9', 'polr2d', 'dbh', 'cntn3', 'mob1b', 'prokr1', 'prkcsh', 'bckdha', 'bpifa2', 'hmg20a', 'avpr1b', 'slfn12', 'ppp6r2', 'foxp3', 'xkr3', 'tex44', 'kcnj9', 'ubqln4', 'pla2g2d', 'cdh4', 'il36a', 'rpa4', 'nme9', 'ctsh', 'pop5', 'lpl', 'igsf9', 'trmt6', 'ctag2', 'large2', 'tmem119', 'rbbp9', 'tspyl4', 'ptprh', 'faap20', 'stac', 'ropn1l', 'stk24', 'c8orf34', 'kbtbd3', 'oscp1', 'ccrl2', 'hbd', 'rpain', 'slc26a2', 'pmel', 'rad21l1', 'tnrc6b', 'plcxd2', 'sp7', 'cyb5rl', 'sh3rf3', 's100z', 'ttc30b', 'tnfrsf9', 'pdk4', 'atp6v1g2', 'htr3a', 'adm2', 'herpud1', 'lce6a', 'rdh8', 'tacr2', 'ttyh1', 'lyst', 'fam135a', 'lmbr1', 'rtp5', 'smarcd3', 'gdap1', 'nop53', 'cep164', 'cckar', 'ifnar2', 'ssu72', 'mdfi', 'gng10', 'angptl4', 'crtac1', 'clasrp', 'il17a', 'klhl9', 'zeb2', 'hes2', 'sage1', 'jagn1', 'etv3l', 'mical3', 'sap18', 'mbd2', 'igfbp3', 'ihh', 'muc3a', 'ppp1r14d', 'rnf145', 'cdc14a', 'wfdc11', 'cd8b2', 'ftmt', 'hoxa7', 'iglon5', 'pepd', 'b3gnt6', 'krtap13-4', 'zfp41', 'ppp2ca', 'kcnh6', 'cltcl1', 'kcnk7', 'mns1', 'igsf23', 'bcs1l', 'rab9a', 'znf510', 'rnf43', 'parp12', 'srpx', 'pls3', 'bean1', 'ssc4d', 'or4a47', 'dnah7', 'or4f15', 'slc9a2', 'kdm5a', 'preb', 'slc12a5', 'mbnl2', 'alad', 'cnrip1', 'plekha1', 'tmem35b', 'tgm7', 'stx4', 'fzd5', 'tmem63a', 'crtam', 'defb119', 'sox14', 'mkrn3', 'gdf15', 'c1s', 'mt1g', 'mipep', 'tsnare1', 'grip2', 'rabggtb', 'hexim1', 'clcn2', 'eps8', 'dele1', 'rnf24', 'gpr156', 'fam9a', 'gin1', 'palm3', 'hipk1', 'ripor1', 'saxo2', 'znf207', 'ppy', 'topors', 'six4', 'mkx', 'taf15', 'slc9a3r2', 'tgfb3', 'svop', 'prrg4', 'znf394', 'arhgap18', 'ada', 'osbpl3', 'fgfr3', 'btaf1', 'sema3f', 'sec14l3', 'lamp2', 'psmb8', 'paip2', 'pard6g', 'e2f3', 'psors1c2', 'aven', 'lyzl1', 'znf383', 'exosc8', 'ccnl1', 'sema6b', 'nudt1', 'bag6', 'flg2', 'kif15', 'usp15', 'usp49', 'ago4', 'gng13', 'pcp4l1', 'cbx8', 'gsap', 'il3ra', 'gaa', 'brf1', 'hcfc2', 'vsig4', 'armcx6', 'gpn1', 'uso1', 'cep72', 'wfikkn2', 'znf713', 'eif2s3', 'bcl2', 'ntm', 'pygo2', 'lhx1', 'ccnj', 'ankrd52', 'or13c3', 'casr', 'taf7l', 'tm2d1', 'hadh', 'ephx3', 'ddx55', 'znf135', 'wdfy4', 'reep5', 'mical2', 'cplx1', 'trip10', 'ccdc188', 'rab5c', 'dll1', 'ddx5', 'arhgap42', 'p4ha2', 'znf513', 'oc90', 'thap8', 'esr1', 'gpat4', 'znf683', 'slc25a4', 'nol11', 'atp2c2', 'klf10', 'znf532', 'masp1', 'cd96', 'phf10', 'cep83', 'usp17l3', 'gabpb2', 'inca1', 'daw1', 'b9d2', 'prss8', 'orc1', 'rflnb', 'fam50a', 'gemin2', 'plpbp', 'cdh23', 'tg', 'eno1', 'rarb', 'tec', 'acsf2', 'psme2', 'dcst1', 'kif1a', 'st6galnac5', 'glce', 'il1rapl2', 'dpp6', 'bambi', 'ecpas', 'akap7', 'insl5', 'prpf3', 'ptprb', 'fam71f2', 'htr1a', 'maip1', 'ctxn1', 'syngr3', 'trim38', 'wdr17', 'ypel4', 'map2k3', 'tp53inp1', 'chfr', 'syngap1', 'fnta', 'olig2', 'lgr4', 'ube2k', 'znf649', 'lgals14', 'fosl1', 'mblac2', 'parp10', 'slc16a12', 'slitrk2', 'epsti1', 'pheta2', 'fgf22', 'pawr', 'ppm1k', 'rfk', 'tnfsf15', 'cdkn2b', 'nme1', 'ociad2', 'serpinh1', 'creb3l2', 'dhx30', 'or5k1', 'tp53i13', 'wdr48', 'erp29', 'ppp2r5d', 'sec22a', 'slc35e4', 'hapln3', 'farp2', 'nubp2', 'tgfbr2', 'zbtb49', 'gtf2a2', 'acbd3', 'ribc2', 'kctd11', 'slc25a29', 'utp20', 'or4b1', 'faah2', 'kcnk12', 'med22', 'gpx8', 'rnase11', 'pop4', 'lamtor1', 'spock1', 'scarf1', 'mbd5', 'vxn', 'c5orf47', 'mtmr1', 'prpf6', 'gadd45gip1', 'zscan29', 'celf6', 'foxa1', 'adprh', 'ccn6', 'ubl7', 'dnai2', 'men1', 'rraga', 'yme1l1', 'camkk1', 'znf266', 'hsdl2', 'ct55', 'abcb11', 'faxc', 'dnm1', 'atad3c', 'gimap8', 'mpped2', 'obi1', 'or51c1p', 'tipin', 'c4orf51', 'lrrfip1', 'cnot9', 'nomo1', 'smim14', 'znf625', 'megf8', 'tspan11', 'znf7', 'tm2d2', 'ercc3', 'tnks1bp1', 'veph1', 'magi2', 'c3orf18', 'ttll12', 'mfsd2b', 'kdm4d', 'apol6', 'cela3b', 'comp', 'ddit4l', 'sf3b6', 'or1l3', 'c19orf84', 'spata3', 'strc', 'snx19', 'taf1l', 'znf704', 'col1a1', 'flt1', 'pigw', 'nxf1', 'atp8b3', 'pgls', 'prdm11', 'hnf4g', 'naxd', 'tmem108', 'mfap3', 'znf529', 'tasor', 'ubxn10', 'ppp1r35', 'akr1c1', 'defb132', 'slc35e3', 'uckl1', 'tctn3', 'gtf2h4', 'cpsf6', 'pccb', 'kcna10', 'pianp', 'ccdc30', 'ankk1', 'tnpo3', 'rbpms', 'fam155b', 'rpgrip1l', 'runx1t1', 'tsga10ip', 'fut10', 'bcar3', 'or3a3', 'zc4h2', 'brd3', 'qprt', 'uqcc3', 'znf501', 'lrrc56', 'acan', 'nop10', 'c11orf68', 'dnm1l', 'etnppl', 'fam170b', 'lrsam1', 'clec9a', 'ccl16', 'psmd5', 'dpf3', 'spocd1', 'abracl', 'or4d6', 'gdf11', 'frmd5', 'ap2s1', 'dph6', 'fam47a', 'fam167a', 'ralgapa2', 'grxcr1', 'znf346', 'fscn3', 'aak1', 'gpr27', 'lrtomt', 'aarsd1', 'faim2', 'lrrn2', 'zw10', 'zscan22', 'ggt7', 'myo7b', 'wdr76', 'tacc2', 'igf2r', 'kmt2b', 'lasp1', 'il26', 'pigl', 'rhpn1', 'syne2', 'tspyl2', 'arsj', 'znf670', 'cstb', 'or6m1', 'plscr5', 'cpa4', 'calhm3', 'phc2', 'camlg', 'ttc21b', 'lrrc39', 'dennd6a', 'scube2', 'c22orf15', 'fbxo48', 'fxyd3', 'arhgap12', 'atf3', 'b4galt4', 'efna3', 'c10orf105', 'synpo2l', 'haao', 'jak3', 'fxyd4', 'lce3d', 'tssk6', 'atp13a2', 'eef1e1', 'rufy3', 'tmem87b', 'atraid', 'znf589', 'cpeb2', 'elp2', 'wif1', 'zfp36l1', 'pacsin2', 'nme3', 'rab11fip4', 'dlst', 'plagl2', 'cxcl13', 'farp1', 'btbd11', 'gdpd2', 'tmem200a', 'znf224', 'psmc3ip', 'asrgl1', 'rab6a', 'vps36', 'fpgs', 'or51e2', 'stim2', 'myom3', 'fga', 'sphkap', 'birc2', 'dmkn', 'or10q1', 'cpeb3', 'c16orf92', 'foxj1', 'hmsd', 'usp10', 'rilpl2', 'vnn3', 'sugt1', 'tmem94', 'dnajc5b', 'manbal', 'trim24', 'dgkq', 'ccdc86', 'znf773', 'itm2c', 'abhd1', 'glmn', 'or51l1', 'ccp110', 'c2orf66', 'cldn7', 'sprr1b', 'lonp2', 'cog1', 'rnf13', 'tex37', 'exo5', 'nf2', 'kif11', 'slc38a3', 'wdr83os', 'slco1b1', 'havcr1', 'cyp2a13', 'itgb7', 'myo15b', 'fsd1l', 'pcyox1', 'rad51ap1', 'apcdd1', 'hdx', 'nipsnap2', 'p2ry14', 'tinag', 'hsbp1', 'fev', 'tmem200c', 'kiaa0040', 'vamp1', 'perp', 'il1rl1', 'nutm1', 'spata16', 'p2ry8', 'wnt10a', 'cnih4', 'alkal2', 'mmachc', 'ascc2', 'cfh', 'pnn', 'atp12a', 'slc25a37', 'cftr', 'sparcl1', 'havcr2', 'mfsd9', 'nup155', 'opa3', 'rbm4b', 'usp12', 'ncdn', 'unc13c', 'mfsd8', 'tada1', 'ndufa6', 'hfm1', 'edc3', 'phf23', 'pir', 'znf747', 'or51g2', 'plk2', 'kcnh4', 'gpr141', 'prkar2b', 'ftcdnl1', 'grk5', 'smtn', 'tnfaip8l1', 'echdc1', 'kctd14', 'znf134', 'rragc', 'dach1', 'apobec3c', 'insig2', 'sult1a1', 'habp2', 'klrd1', 'dnajc22', 'afdn', 'rnf150', 'mcts1', 'rab8b', 'rflna', 's100a16', 'spin2b', 'cox7b2', 'micall1', 'gtpbp8', 'ccdc65', 'cyb561a3', 'fam174a', 'trim2', 'dync1i1', 'ace2', 'ednrb', 'polr1c', 'grik2', 'ctso', 'krt71', 'lypd5', 'ppfia4', 'colec10', 'gsto1', 'pip5k1c', 'map2k4', 'spr', 'or10h1', 'dctpp1', 'cbr3', 'ccnh', 'ddx19a', 'pla2g4f', 'vgll2', 'agbl1', 'il3', 'mrtfa', 'selenbp1', 'tmem219', 'mynn', 'rcc1l', 'c5orf15', 'ehbp1l1', 'dntt', 'hepn1', 'gtpbp3', 'rfesd', 'nrk', 'lpp', 'lrrc14', 'srebf2', 'usp6nl', 'cby3', 'galnt4', 'ppm1b', 'pfdn5', 'znf197', 'sgms1', 'cpox', 'r3hcc1', 'rnf212', 'azu1', 'fam118a', 'c1qa', 'rnf144b', 'aspdh', 'ttk', 'plekhd1', 'ppox', 'csnk2a2', 'bbox1', 'ctsd', 'tm9sf4', 'ptpdc1', 'ptx3', 'slc35e1', 'stk39', 'syn1', 'kif13b', 'mybph', 'gpn2', 'fam163b', 'lgr5', 'trib3', 'znf705g', 'bcl2a1', 'alg13', 'per2', 'il15', 'tbx6', 'ddhd2', 'hspbp1', 'arpp21', 'st3gal5', 'ncapd3', 'ddc', 'hsf5', 'gpr137b', 'tbc1d20', 'ecm1', 'znf624', 'hoxb2', 'izumo1r', 'stam', 'ovol1', 'prickle2', 'uvrag', 'ero1a', 'mmp27', 'hhipl2', 's1pr3', 'st6gal2', 'calhm1', 'dazl', 'lsm7', 'znf226', 'efcab2', 'capza3', 'igfl3', 'or2ag1', 'camk2g', 'znf280b', 'ust', 'arhgap28', 'spanxd', 'mpp4', 'hip1', 'ccpg1', 'spatc1l', 'or4k17', 'tnfrsf10d', 'tnfsf10', 'apol1', 'mreg', 'trps1', 'mef2d', 'znf787', 'kidins220', 'angptl7', 'spint1', 'fam47c', 'lrriq3', 'filip1', 'itga1', 'papss2', 'camkmt', 'ddx60', 'cenpq', 'slc35b3', 'nqo2', 'asb10', 'mogat2', 'fbxo30', 'adipoq', 'pnrc1', 'atoh8', 'igsf9b', 'oma1', 'fam177b', 'copg2', 'neurl2', 'podxl', 'smad1', 'c16orf87', 'trim66', 'vwa2', 'zscan2', 'npffr1', 'slc5a3', 'get3', 'fgf5', 'plk1', 'skap2', 'odf3b', 'spry1', 'stk4', 'bbs2', 'tepsin', 'tgfbr1', 'hepacam', 'smim1', 'washc4', 'ergic1', 'gata4', 'znf593', 'slc35g1', 'spats1', 'scp2d1', 'dhx34', 'dnajb6', 'elovl5', 'mcfd2', 'myog', 'tes', 'fbxw9', 'tuba3c', 'tyrp1', 'nr2c1', 'znf587', 'rdx', 'znf181', 'marcol', 'axdnd1', 'fzd6', 'vsir', 'pmch', 'tor1aip1', 'rab28', 'znf672', 'ccs', 'uty', 'camk2n1', 'dcun1d1', 'gng14', 'usf2', 'pitx2', 'rprm', 'krtap13-3', 'mecp2', 'map1lc3a', 'utp18', 'ubn2', 'cacna1b', 'kiaa1958', 'naa16', 'med28', 'morn5', 'nxf3', 'c2', 'endog', 'klf18', 'or2ap1', 'ppial4g', 'brcc3', 'gp1bb', 'robo2', 'yap1', 'tmem178a', 'wbp11', 'cinp', 'capn14', 'krtap11-1', 'nt5c3a', 'aasdh', 'grem1', 'fndc9', 'ttc32', 'grxcr2', 'mgat5', 'tmem258', 'paqr5', 'bub1b', 'cnih1', 'ankrd16', 'arhgef7', 'gyg2', 'znf10', 'ado', 'ints4', 'cdk4', 'or2j2', 'ssbp2', 'mecom', 'tex30', 'cog4', 'ctbs', 'pan3', 'ptgds', 'mansc4', 'rbfox3', 'atp1b2', 'gtf2b', 'crnkl1', 'kctd20', 'slc25a18', 'kansl3', 'socs1', 'sipa1l3', 'ugt2b28', 'ngef', 'slc27a4', 'slc18b1', 'jade1', 'ssx5', 'zc3h7b', 'rhpn2', 'aadacl4', 'cort', 'eppk1', 'tmem245', 'abcc3', 'atic', 'chac2', 'clec4c', 'pld5', 'plekhh3', 'atg4b', 'fus', 'lamb1', 'usp17l7', 'tmsb15a', 'gpr155', 'ccdc160', 'scamp4', 'bin1', 'phkb', 'ppp1r32', 'tpp1', 'ppib', 'tmem40', 'tex13a', 'prkd1', 'pnliprp1', 'shisa2', 's100a10', 'ms4a8', 'igsf11', 'pecr', 'rsu1', 'adamts10', 'kctd1', 'comt', 'iws1', 'tmem72', 'elavl4', 'orm2', 'klhdc7a', 'dxo', 'fbrs', 'jdp2', 'mpc2', 'nlrx1', 'trim6', 'lrat', 'myl2', 'rbbp8', 'rtl8b', 'six3', 'cdc42ep1', 'znf184', 'bet1', 'sema3a', 'gdpd4', 'armc12', 'stum', 'eea1', 'lancl2', 'znf23', 'c5orf34', 'or10r2', 'kcnj18', 'rtl3', 'tp53inp2', 'adm5', 'ccnt1', 'fam204a', 'ssbp1', 'znf236', 'kcnn3', 'tle5', 'klrc3', 'ccl28', 'plekhg4', 'znf839', 'fstl3', 'kiaa1549l', 'phkg1', 'fn1', 'wdr97', 'rchy1', 'ube2j2', 'rab14', 'clec6a', 'catsper4', 'tshz2', 'pcolce', 'rptn', 'il2', 'clcn3', 'sox10', 'noc2l', 'rbm17', 'emx1', 'doc2b', 'gys2', 'il37', 'kif19', 'abtb1', 'gpr37', 'tnr', 'nudc', 'fbxo25', 'hipk3', 'msx1', 'nedd4', 'zmym5', 'nrdc', 'cd44', 'pilra', 'chrm2', 'c1orf189', 'cidec', 'kcnu1', 'trip6', 'sohlh2', 'ttc14', 'ccdc28a', 'tubgcp3', 'il18bp', 'tulp1', 'aldh3b2', 'naa35', 'spart', 'zcchc18', 'tubgcp6', 'hoxc11', 'tsen34', 'bpifb6', 'hmgcll1', 'hoxd1', 'pou4f2', 'nmur2', 'c12orf56', 'arl5c', 'cep120', 'focad', 'stard13', 'tmprss11b', 'dnah3', 'nek3', 'hrct1', 'ap3b2', 'cdh1', 'dohh', 'sh3bp5l', 'edn1', 'lce1c', 'zcwpw1', 'b3galnt1', 'slc43a2', 'tmem17', 'armh4', 'rai1', 'tpd52l2', 'ckmt2', 'rtp1', 'rara', 'gfm1', 'tex26', 'atp1b4', 'e2f2', 'tmem88b', 'leprot', 'phox2b', 'hsd11b2', 'fam166a', 'olig3', 'taok1', 'cited1', 'fam78a', 'acsbg1', 'areg', 'pih1d2', 'fktn', 'mastl', 'tex43', 'ing1', 'kmt5c', 'ushbp1', 'nrxn1', 'cnnm1', 'insyn2a', 'fam217b', 'rbm3', 'tnni3', 'nckipsd', 'ccdc195', 'pebp4', 'rpn2', 'gpatch4', 'c14orf39', 'igfbp2', 'krtap1-4', 'tbc1d13', 'psph', 'mpzl1', 'tmem161b', 'lhcgr', 'rab4b', 'hdgfl1', 'tbcb', 'anxa4', 'ptgdr2', 'mc3r', 'gstcd', 'selenoo', 'rhbdl1', 'fkbpl', 'fam104b', 'fbxo40', 'nlrp9', 'acacb', 'ankrd30b', 'slc24a4', 'dpep1', 'btbd8', 'hgsnat', 'pcdh18', 's100a5', 'mllt11', 'lrriq4', 'lrrtm1', 'ccdc150', 'entpd7', 'txnrd1', 'c9orf78', 'lemd3', 'supt4h1', 'pp2d1', 'hilpda', 'treml4', 'derl1', 'cgn', 'trpm8', 'ube2ql1', 'dmap1', 'txnrd3', 'pced1b', 'tnpo2', 'efcab8', 'ercc6', 'dchs1', 'ccdc83', 'otud4', 'cplx2', 'hoxa2', 'lrrc55', 'ccdc92', 'eif3d', 'zc3hc1', 'rab22a', 'gvqw3', 'lmbr1l', 'hbs1l', 'ccr7', 'mt-co2', 'itch', 'cpne1', 'stx3', 'gtf2ird1', 'etv4', 'ak6', 'n4bp3', 'vkorc1l1', 'gsto2', 'ogfrl1', 'pcgf1', 'dusp11', 'taf11l4', 'zmat1', 'or2v2', 'uqcr11', 'bola1', 'hsd3b2', 'hhat', 'col8a2', 'sdhaf1', 'spink7', 'rffl', 'dbi', 'neurod1', 'ulk3', 'kdm3a', 'fam174b', 'lypd6b', 'mybl1', 'pde6c', 'tsc22d4', 'ttc1', 'tlcd3b', 'or51b6', 'ptger2', 'ube2t', 'hsf2bp', 'gucy2f', 'znf160', 'efna2', 'st8sia6', 'stx8', 'tbc1d9', 'ankub1', 'pgap1', 'aggf1', 'cbll2', 'gpx4', 'pphln1', 'pgam5', 'vps4a', 'ap4m1', 'lingo2', 'znf653', 'rragd', 'nacad', 'astn1', 'fgf6', 'gnpda1', 'elavl2', 'orai1', 'gal3st4', 'jmjd4', 'atp6v1h', 'gpr143', 'slc37a2', 'wdr54', 'cdx4', 'prm2', 'rbm47', 'or8d1', 'p2rx4', 'foxk1', 'ehbp1', 'get1', 'ptprz1', 'mboat7', 'hebp1', 'sertm2', 'atp5mf', 'c16orf86', 'trappc10', 'rbm10', 'tnfrsf10a', 'chi3l2', 'kcns1', 'depp1', 'smim29', 'dph5', 'mycbp', 'cryab', 'ndufc2', 'foxred1', 'onecut1', 'cacng7', 'or2m5', 'swi5', 'lrrc49', 'rnf217', 'adgrb3', 'cd300ld', 'shank3', 'xdh', 'nipal3', 'espnl', 'slc26a5', 'cntfr', 'eef2k', 'chi3l1', 'jund', 'spcs1', 'znf652', 'cyyr1', 'ly6g6c', 'myl3', 'epb41l2', 'mb21d2', 'adgrf2', 'rsbn1l', 'tmem86a', 'chgb', 'crot', 'gcnt2', 'katnal1', 'rmnd5a', 'ugt1a8', 'galt', 'pcdha6', 'pabpc4l', 'leprotl1', 'ncbp2as2', 'c22orf31', 'tagln', 'itln1', 'calcrl', 'disp1', 'etf1', 'pax6', 'traip', 'selplg', 'sp140', 'gimd1', 'insyn1', 'rhbdl3', 'stmn1', 'clrn1', 'adk', 'mafa', 'dzip1l', 'tent4b', 'c19orf85', 'map3k14', 'klf2', 'znf474', 'madd', 'znf416', 'srp9', 'unc93a', 'c19orf44', 'flcn', 'fam186b', 'usp16', 'adra2c', 'pip4k2a', 'dcc', 'or13c9', 'tdrd1', 'ccng2', 'znf22', 'tmem127', 'plin2', 'psmd4', 'xirp2', 'irf6', 'serpinb12', 'dhx40', 'rcor3', 'nudt3', 'pcdhgc3', 'cep57', 'gprin2', 'islr', 'pxdc1', 'mocs3', 'fbln5', 'c6', 'zswim1', 'frmpd4', 'msra', 'nicn1', 'tex54', 'pum2', 'cnih3', 'slc17a6', 'ube2z', 'il18rap', 'sema4b', 'plcd4', 'aipl1', 'znf844', 'tbc1d10c', 'cxcr4', 'calml4', 'fam228b', 'cdc20b', 'myocos', 'dixdc1', 's100a11', 'trim26', 'vps26c', 's100a9', 'zbtb38', 'ptgs1', 'tm4sf5', 'znf117', 'gadd45g', 'apof', 'c16orf91', 'shoc2', 'atp5if1', 'rpp40', 'arhgap1', 'uhrf1bp1l', 'urm1', 'gpr25', 'lancl3', 'gja10', 'sgpl1', 'arc', 'cwf19l1', 'aqp1', 'ahsa1', 'mvk', 'dyrk3', 'meis1', 'nr2c2', 'hopx', 'ostc', 'vps50', 'aim2', 'angptl6', 'sntn', 'ssr2', 'adam33', 'c18orf21', 'e2f8', 'ppp1r17', 'dennd1a', 'ccdc127', 'ctif', 'ehhadh', 'fcrl2', 'tlcd2', 'c14orf28', 'scx', 'znf729', 'nxph2', 'ap1m2', 'mpl', 'hnf1a', 'npb', 'asxl3', 'csf2rb', 'maz', 'dhh', 'galnt15', 's100a3', 'usp43', 'grwd1', 'xkr9', 'pax1', 'cmklr1', 'slc29a3', 'samd9l', 'cngb3', 'jak2', 'sycp2', 'rrm2b', 'rag1', 'ccr2', 'kif5c', 'or5d3p', 'ndufs6', 'rxrb', 'fam124a', 'slc22a24', 'dok4', 'pla2g2e', 'shkbp1', 'hmbox1', 'tmem262', 'pasd1', 'pnoc', 'wdr1', 'tdrd7', 'pnpla4', 'tlr8', 'pik3cb', 'psg3', 'znf33a', 'sry', 'ghdc', 'narf', 'saa4', 'znf101', 'st6galnac3', 'chrnd', 'ncbp3', 'sez6', 'dcaf5', 'or51f2', 'pole4', 'spef1', 'prpf8', 'rnf31', 'pigv', 'lilra5', 'vwa3a', 'fam126b', 'rap1gap2', 'sema6d', 'gpr63', 'lpin3', 'trex2', 'tob1', 'or2f2', 'or2s2', 'sfi1', 'hpf1', 'rufy4', 'sertad1', 'timm17b', 'klb', 'camk1d', 'lamtor5', 'rnf224', 'bmper', 'map3k7cl', 'slc7a6os', 'srpk1', 'rnf38', 'med7', 'pou5f2', 'mocs1', 'dcaf4', 'wwc3', 'sorl1', 'znf444', 'reps1', 'scn4a', 'lratd2', 'gde1', 'or10a4', 'sgo2', 'uck2', 'gria3', 'vps35l', 'lcn12', 'snx5', 'arsd', 'atxn3', 'cd38', 'ddt', 'loxl3', 'ptcd1', 'aldh3a2', 'cdh8', 'mad2l1bp', 'tcp1', 'dbf4b', 'ttc27', 'ppil1', 'morc3', 'gad1', 'hspa2', 'fut6', 'map10', 'rrp8', 'pmvk', 'trpc1', 'gnb1', 'entpd5', 'cabp7', 'hm13', 'mutyh', 'naa50', 'naa20', 'eloc', 'ptpn20', 'adra1a', 'gcsaml', 'hps4', 'trim61', 'ubiad1', 'vn1r1', 'hectd4', 'akap14', 'fes', 'metrnl', 'dao', 'asb1', 'acp1', 'dolk', 'spata45', 'shld1', 'tmem86b', 'muc15', 'ubap2', 'ctnnd2', 'ctsb', 'mcm6', 'tns1', 'hcn3', 'srcap', 'strada', 'fuz', 'kdm7a', 'mgat4b', 'or8k3', 'lgi1', 'dhrs7', 'syt12', 'cebpb', 'slx4ip', 'rfx6', 'ackr3', 'dop1a', 'hspa13', 'pmpcb', 'otud1', 'clcn4', 'trim45', 'slc5a7', 'psrc1', 'or4k15', 'pmfbp1', 'actn3', 'c4orf50', 'sult1e1', 'znf177', 'tmem150c', 'gigyf2', 'itpr1', 'tdrd10', 'dscam', 'scg2', 'pkn3', 'tceal3', 'svopl', 'ei24', 'sbf2', 'slc5a5', 'acads', 'vrtn', 'hmgn5', 'ogfr', 'wnt4', 'usp34', 'ppp1r12a', 'sp1', 'itgb1bp2', 'adgrf4', 'znf716', 'tnfrsf18', 'spink4', 'znf644', 'senp6', 'si', 'abcb5', 'bfsp1', 'nbeal1', 'adgrg5', 'vstm2l', 'akr1b15', 'oser1', 'spaca1', 'cry2', 'ing3', 'agbl2', 'ankef1', 'hoxd12', 'dusp4', 'znf276', 'gcna', 'opn1sw', 'galr1', 'csf3r', 'trim56', 'srd5a1', 'aebp1', 'ndufb1', 'mettl16', 'p2ry13', 'tmprss11f', 'cyb5r1', 'hoxd8', 'gda', 'meak7', 'tm7sf3', 'psors1c1', 'setd3', 'cops9', 'bmp2', 'mzb1', 'decr1', 'fam200b', 'lyar', 'npdc1', 'rimbp2', 'c1orf21', 'sncg', 'tti2', 'pcsk7', 'tarbp1', 'taf1d', 'pacrg', 'slmap', 'kcnt2', 'c8b', 'icam2', 'anks4b', 'pclo', 'pgghg', 'col21a1', 'ppp6r1', 'inpp5f', 'sp4', 'ltb', 'trim51', 'pgrmc1', 'dleu7', 'mbd1', 'ephb6', 'zfp69b', 'bloc1s5', 'ring1', 'pwwp2a', 'itk', 'wdr82', 'zp1', 'gabrg3', 'exoc3', 'cadm4', 'scnn1g', 'cdc34', 'rad51ap2', 'fam189a1', 'trpc5os', 'pacs2', 'cd9', 'nek11', 'or51e1', 'vsig10l2', 'ccl2', 'pclaf', 'grb14', 'has2', 'immp1l', 'cd207', 'bmp1', 'pik3r3', 'fgf11', 'slc19a1', 'tmco6', 'msl1', 'arl4c', 'akap8', 'hat1', 'taldo1', 'timm8b', 'tgm6', 'dthd1', 'hdac5', 'tent4a', 'c11orf53', 'or8h3', 'cggbp1', 'emsy', 'faap100', 'syndig1', 'sgsm3', 'trim50', 'prss16', 'slc66a1', 'ldoc1', 'cabin1', 'wdr89', 'ube2v2', 'txlnb', 'nudcd1', 'c12orf66', 'krtap9-9', 'prss53', 'sec14l6', 'pcdhb4', 'bglap', 'otud5', 'serpina9', 'tmem248', 'prdm7', 'fcgr2a', 'cxcr3', 'csdc2', 'smg6', 'g2e3', 'glrb', 'polr3f', 'cers5', 'lrrfip2', 'numb', 'fcn3', 'lce2a', 'b3galt6', 'cdca2', 'wnt16', 'il1f10', 'hbz', 'slc26a8', 'or11g2', 'trmt13', 'nod2', 'fn3k', 'stac3', 'fmo3', 'cage1', 'mgst1', 'faim', 'znf221', 'npas4', 'specc1', 'trem2', 'gabpb1', 'pramef20', 'fndc11', 'bicdl1', 'or10p1', 'bend7', 'gltp', 'gtf2h1', 'tspan2', 'nbr1', 'pomc', 'mal', 'fyn', 'gabrr3', 'lrrc61', 'pask', 'ndufb4', 'eif4b', 'ca2', 'cemip2', 'smim20', 'arhgap44', 'trabd2b', 'wnt1', 'uba2', 'msmo1', 'or6x1', 'znf718', 'znf777', 'reg3g', 'pim3', 'znf813', 'c4orf54', 'slc17a5', 'trappc11', 'mphosph6', 'snai2', 'znf799', 'fcrl5', 'polr3k', 'usp30', 'nmt2', 'krt33b', 'mmp2', 'adamtsl4', 'foxo6', 'slc1a5', 'bhmt', 'gnat2', 'gtf3c6', 'c12orf71', 'commd7', 'map1s', 'lman2l', 'or5b21', 'rln2', 'themis2', 'lamb3', 'guca1c', 'creld2', 'ppih', 'fbxo39', 'ufm1', 'bard1', 'fkbp14', 'gsc', 'tas2r50', 'ufc1', 'ccdc105', 'cct8l2', 'actr3b', 'gopc', 'c15orf48', 'slc4a9', 'bcas4', 'tnfsf8', 'fgfr1op2', 'haus6', 'cox5b', 'ino80c', 'arhgap11a', 'got1', 'galnt11', 'mtf2', 'ppp6r3', 'ptpn6', 'spout1', 'clca4', 'zdhhc24', 'tmem147', 'napb', 'palm', 'cdh9', 'tfec', 'zic4', 'tsacc', 'nup50', 'acss3', 'myl7', 'ctcf', 'slc27a5', 'or9g4', 'noa1', 'wdr27', 'kri1', 'cd81', 'serpini2', 'c2cd2', 'clic1', 'dennd5b', 'arrb2', 'smyd3', 'fgd3', 'mtnr1b', 'tmed1', 'ccdc149', 'upf3a', 'efhb', 'znf581', 'mafb', 'ythdf2', 'tdrd9', 'c5orf58', 'msantd3', 'exd3', 'zbtb26', 'ctsw', 'fbxw8', 'pof1b', 'mfsd4b', 'rsph3', 'tmem255a', 'slc34a1', 'arhgap4', 'spsb4', 'mylk3', 'gdpd3', 'birc3', 'tmem31', 'htr1f', 'pbxip1', 'ppp3r2', 'uba6', 'magee1', 'zbtb42', 'cyp4f3', 'mpp7', 'rtp2', 'sytl1', 'fmo1', 'frmpd3', 'znf2', 'spn', 'bbs5', 'gp9', 'efcab1', 'slurp2', 'pfn4', 'tpk1', 'c1galt1c1', 'znf608', 'rab7b', 'amn1', 'apoc4', 'znf823', 'fam50b', 'ifna16', 'lrrc47', 'fetub', 'gpr158', 'pptc7', 'ifna21', 'tacr3', 'trmt1l', 'smim10l2a', 'zbed4', 'elac2', 'spred2', 'znf597', 'mfsd2a', 'parp14', 'zfx', 'sall1', 'kbtbd13', 'pgr', 'fbp2', 'top1', 'atp11b', 'mstn', 'oscar', 'pla2g4a', 'pno1', 'zmynd15', 'ttc39b', 'cdadc1', 'mt4', 'sp2', 'hs3st3b1', 'ttll6', 'mars2', 'fads6', 'cib4', 'map3k3', 'abhd6', 'dnajc9', 'coa6', 'ptpn23', 'fam43a', 'or2ae1', 'krtap10-11', 'tango2', 'sfmbt1', 'xrn2', 'ptgis', 'igflr1', 'mbp', 'tef', 'fanca', 'mme', 'yipf6', 'cshl1', 'mettl14', 'treml2', 'psmf1', 'traf3ip3', 'bco1', 'tepp', 'samd1', 'mapk8ip2', 'asb9', 'prdm16', 'kbtbd8', 'tns4', 'zbtb24', 'sytl5', 'bdh2', 'bfar', 'ddx59', 'rtn4rl1', 'znf507', 'pstpip2', 'adgre2', 'cdkl2', 'dennd1b', 'wasl', 'ugt2a1', 'tkfc', 'kif20a', 'slc16a6', 'argfx', 'dpysl5', 'gzf1', 'sprr5', 'fgf4', 'mapk6', 'fam227a', 'ervv-2', 'plppr4', 'smco2', 'mettl26', 'cpne8', 'stard8', 'ribc1', 'nat8', 'sptssb', 'tlr1', 'znf790', 'actr8', 'efemp1', 'mfsd6', 'hnrnpd', 'smarca4', 'tmem91', 'umodl1', 'znf740', 'map2k6', 'tcf12', 'ins', 'arhgef11', 'dr1', 'wdr59', 'tigd5', 'gid8', 'slc28a2', 'impg2', 'mgrn1', 'zzef1', 'adamts8', 'or7d2', 'usp21', 'znf69', 'magel2', 'asah1', 'mfge8', 'capn6', 'ccne1', 'mamdc2', 'cap1', 'hs3st4', 'ginm1', 'scgn', 'muc6', 'trim48', 'crisp3', 'ero1b', 'tle7', 'mtdh', 'tmbim4', 'prap1', 'fgr', 'ahsp', 'cenpv', 'ralgapb', 'or5ap2', 'aqr', 'npy1r', 'snx22', 'hdgf', 'efhd2', 'cdk17', 'lmtk3', 'akap11', 'slc25a1', 'tor4a', 'ccdc180', 'fubp1', 'fgfr1', 'znf268', 'sytl2', 'dtd1', 'lzts3', 'ttll13p', 'cxxc5', 'abl2', 'klhl10', 'tas2r4', 'tnfrsf12a', 'apbb3', 'nme8', 'znf304', 'abcg4', 'c1orf210', 'fbxo4', 'prelid3a', 'mtcp1', 'znf433', 'ctns', 'taf1c', 'c3', 'tmem216', 'tmem187', 'fstl1', 'lurap1l', 'dusp3', 'sparc', 'spata31a1', 'hoxb13', 'fmod', 'pcsk5', 'or4m1', 'rybp', 'fbh1', 'krtap10-2', 'parg', 'ncan', 'styk1', 'dcaf1', 'dhx38', 'dipk2a', 'cyp4f2', 'lin52', 'pde2a', 'slc24a3', 'sppl2c', 'inip', 'synm', 'xkr8', 'scarb2', 'insyn2b', 'ttc7b', 'dhx58', 'zbtb41', 'ccdc154', 'gnpda2', 'rgs7', 'papola', 'gpr26', 'ccnt2', 'nat16', 'pilrb', 'frem1', 'wrnip1', 'dusp22', 'tmc6', 'sprr2f', 'ctnna2', 'pyy', 'ago3', 'casp10', 'rnf148', 'fam110d', 'cdk2ap2', 'nabp1', 'g6pd', 'icos', 'clptm1l', 'ccdc122', 'ikbip', 'abi3bp', 'gpatch11', 'camk2n2', 'rangrf', 'or51f1', 'pofut1', 'proser1', 'dhx57', 'crebrf', 'rab11fip2', 'ccdc182', 'plpp7', 'sdhb', 'sumo3', 'grk4', 'enthd1', 'hhipl1', 'mst1r', 'wasf3', 'nkiras1', 'abca1', 'or6j1', 'elp1', 'sdccag8', 'pole3', 'lelp1', 'npr3', 'usp20', 'wdr43', 'mus81', 'fem1c', 'lingo4', 'cdk5rap3', 'pdzd2', 'satb2', 'smarcd1', 'stard3', 'tmub2', 'bsn', 'chst1', 'emc4', 'pms1', 'adal', 'arl14ep', 'ms4a6a', 'pdia4', 'scube1', 'sde2', 'tsen54', 'or5t1', 'cela1', 'baiap2', 'cep250', 'tmem184c', 'zpld1', 'c15orf40', 'mov10l1', 'slc2a14', 'sncaip', 'tmem150b', 'fah', 'znf561', 'hpgds', 'ephx4', 'izumo2', 'foxj2', 'plekhs1', 'ppard', 'grm8', 'hoxd9', 'ndufaf7', 'pigt', 'sh3rf1', 'or2c1', 'flacc1', 'bicd1', 'isg20l2', 'myo1c', 'khdc3l', 'gtpbp4', 'prg3', 'rbbp4', 'ryk', 'tex13b', 'chrna5', 'cdk5', 'trim64b', 'ttc29', 'barx2', 'avpi1', 'cd14', 'colgalt2', 'nin', 'plekhh1', 'vn1r2', 'rhebl1', 'kiz', 'cst5', 'pou5f1b', 'rnase8', 'stx6', 'tmem175', 'snapc3', 'dlc1', 'meltf', 'pcdh8', 'mecr', 'aff4', 'gne', 'spata24', 'khk', 'sphk2', 'pdlim4', 'plaat4', 'gtse1', 'bod1l2', 'fads1', 'lexm', 'limch1', 'recql', 'pagr1', 'trpm1', 'ube3a', 'fam71a', 'lysmd2', 'tekt5', 'erich4', 'sptlc3', 'pttg2', 'znf230', 'med15', 'sulf2', 'egln1', 'pdlim1', 'prl', 'tmem182', 'vipas39', 'ston1', 'tenm2', 'uvssa', 'stam2', 'hnrnpm', 'slbp', 'suco', 'entpd4', 'tmem30a', 'znf341', 'gfi1b', 'cchcr1', 'lsm14a', 'gcsam', 'vasn', 'pacc1', 'astn2', 'esyt2', 'atg3', 'mtif2', 'wee1', 'slc30a4', 'ccl4l2', 'fdps', 'lyrm9', 'mfsd14b', 'chst15', 'atp6v1g1', 'fahd2b', 'ints8', 'pramef4', 'sprr2a', 'dnph1', 'thsd1', 'tubgcp4', 'nom1', 'amacr', 'tesmin', 'prkar1a', 'smim23', 'tbx18', 'crppa', 'ywhag', 'tmprss5', 'afap1', 'map3k19', 'banf1', 'cmtm8', 'cldn8', 'dmrt1', 'map3k6', 'samd4a', 'snx30', 'cldnd1', 'hsf4', 'polm', 'ftsj1', 'c11orf80', 'mkks', 'dcaf4l1', 'gphn', 'trpc3', 'sdk1', 'zswim6', 'stard9', 'hmgcs1', 'efcab12', 'adh6', 'cfb', 'klhl25', 'enkd1', 'ifit2', 'baiap2l2', 'med20', 'cdx1', 'lgals12', 'cdk5rap2', 'ergic3', 'stag3', 'magef1', 'tctn1', 'tmem270', 'kcnc1', 'rab9b', 'fra10ac1', 'cdkn1b', 'mgam2', 'mfsd6l', 'adar', 'ugt2b4', 'prkg1', 'cdkn1a', 'bcap29', 'pls1', 'spta1', 'gtf3c2', 'fancm', 'pex10', 'defa3', 'efnb2', 'gcm1', 'kmt2c', 'rassf4', 'siglec14', 'smc1a', 'cstf2', 'polr1d', 'or10a2', 'or1l6', 'ppp1r26', 'osgep', 'cep78', 'dhx32', 'p2rx7', 'dgke', 'fanci', 'ptges3', 'smim10l2b', 'tubal3', 'pgam1', 'afg1l', 'dctd', 'frem2', 'pank3', 'cdrt15', 'clspn', 'cybb', 'nucb2', 'creb5', 'mchr2', 'dlx3', 'tgfa', 'rgpd4', 'u2af1l4', 'gosr1', 'hfe', 'stath', 'pcdhgb6', 'pramef13', 'cnksr3', 'gc', 'hspa12a', 'cyp1a1', 'prok1', 'pex5', 'slc5a4', 'tnfsf12', 'arhgef3', 'ifi27', 'nlrp3', 'znf385d', 'ckm', 'plekhf2', 'mif', 'or51b5', 'pik3c3', 'crisp1', 'ensa', 'c8orf88', 'abcc11', 'ret', 'fmr1nb', 'pcdha13', 'anxa9', 'ciao3', 'fcgr3a', 'borcs5', 'mmel1', 'or5f1', 'c16orf89', 'prpf4b', 'znf728', 'casp9', 'unc45a', 'mettl7a', 'rab3ip', 'cnksr1', 'nars2', 'cib1', 'micu1', 'gpm6b', 'psme3', 'arfgef3', 'myo5c', 'stxbp1', 'sgca', 'gdnf', 'mphosph10', 'ccnb3', 'or8s1', 'rnase4', 'tf', 'resf1', 'fabp3', 'fbxo24', 'sdf4', 'tpcn2', 'txlng', 'clca1', 'ltbp2', 'gabra3', 'slc4a10', 'cln6', 'galm', 'mospd1', 'or5b17', 'rmdn1', 'cfap99', 'pfas', 'cisd3', 'slc27a6', 'plxna3', 'ryr1', 'fgf19', 'mmadhc', 'irf2bp2', 'lipt2', 'gtpbp6', 'nkx2-5', 'edc4', 'cab39l', 'znf254', 'igdcc4', 'prrt1b', 'tgs1', 'ubap1', 'rcvrn', 'zfp91', 'apoc3', 'glrx2', 'spty2d1os', 'luc7l3', 'cbx5', 'cfap97', 'lrfn4', 'ptger1', 'jtb', 'cfap70', 'baat', 'kin', 'opa1', 'lca5', 'slc25a39', 'acaca', 'cd70', 'or4c46', 'phf14', 'grid2', 'foxk2', 'rgl3', 'nprl2', 'edem1', 'slc27a1', 'pth2', 'patl2', 'sts', 'akap9', 'prss58', 'ccdc178', 's100a7l2', 'trappc5', 'c4orf47', 'aptx', 'exd2', 'fam181a', 'atxn2l', 'zmynd19', 'htr2b', 'slamf6', 'gpr179', 'pcdha3', 'mospd2', 'nkx6-3', 'atad2', 'slc34a2', 'trhr', 'zc3h4', 'supt7l', 'nagpa', 'prss33', 'tspan18', 'rad50', 'myo1g', 'mapk4', 'pramef14', 'gpr137c', 'akr1d1', 'hus1b', 'taar1', 'smarce1', 'rnaseh2a', 'mcu', 'chd2', 'cd68', 'aff2', 'rsph1', 'dclk3', 'or2a25', 'samd5', 'bahcc1', 'pank2', 'rap1a', 'pcdhga11', 'tmem69', 'gfm2', 'tas1r2', 'msh6', 'thoc5', 'med8', 'fahd1', 'cdc42ep2', 'b3galt5', 'fig4', 'pwp1', 'ifitm10', 'col5a2', 'kcnj15', 'kcnj16', 'ahr', 'mppe1', 'limk2', 'fbxw5', 'septin12', 'rbm38', 'nfatc3', 'actr6', 'dag1', 'evc2', 'maf', 'mkln1', 'nr1d1', 'ctrb2', 'nat8l', 'ctu2', 'fchsd1', 'tor1aip2', 'tpte', 'trib1', 'nova2', 'cela2a', 'gpatch2', 'znf324b', 'sgpp2', 'yeats2', 'ddx28', 'krtap4-4', 'epha7', 'osr1', 'trim23', 'c16orf72', 'aif1', 'htra3', 'aldh16a1', 'znf805', 'asap3', 'ppp1r27', 'plekho1', 'yars2', 'kcnd2', 'polr1b', 'xrra1', 'znf322', 'znf253', 'rnf125', 'has3', 'amotl2', 'srcin1', 'adgrf5', 'tmem179b', 'znf132', 'c18orf32', 'ppp4r1', 'cabcoco1', 'ivd', 'fam117a', 'fis1', 'mab21l4', 'parp1', 'znf484', 'slc10a3', 'grik4', 'rasa1', 'gimap4', 'eefsec', 'stmp1', 'clgn', 'gatb', 'glt8d1', 'alg6', 'med24', 'znf385a', 'zpr1', 'lypd1', 'c1qtnf6', 'znf764', 'lvrn', 'or1j1', 'pcca', 'cd82', 'irx6', 'tlcd3a', 'ces4a', 'aco1', 'tmem98', 'plekhg1', 'slfnl1', 'med19', 'ctage1', 'plpp5', 'bace1', 'f2', 'hacl1', 'htn3', 'eif4ebp1', 'pcare', 'ccdc97', 'pdlim2', 'mpp6', 'cpamd8', 'mybl2', 'otud7a', 'mtus1', 'cog5', 'ndufa11', 'rbm18', 'dhrs4', 'tmem82', 'akap3', 'entpd2', 'lbp', 'nynrin', 'arid3c', 'ppil3', 'slco4a1', 'taf10', 'tecpr1', 'znrf3', 'muc17', 'wdr5', 'klhl3', 'tmx1', 'myf5', 'gal3st1', 'gcnt1', 'mtch1', 'nphs2', 'pum3', 'ptms', 'mknk1', 'mcf2l2', 'gnmt', 'hrh3', 'ntrk3', 'cnot8', 'frrs1', 'dsg1', 'rpap3', 'caprin2', 'nemp1', 'hyal2', 'pudp', 'layn', 'denr', 'ipo13', 'atp5f1b', 'ccdc201', 'hacd2', 'yod1', 'birc6', 'dmd', 'tnfrsf1a', 'fam205c', 'kcnq1', 'pja1', 'calu', 'kansl2', 'ahnak2', 'clec1b', 'lrrc17', 'mettl1', 'plpp1', 'wrn', 'zbtb33', 'zfyve16', 'pgp', 'defb135', 'fbn1', 'tent5c', 'l3mbtl1', 'coch', 'abcg2', 'prr11', 'tmem132c', 'taok3', 'tnip2', 'mtfr2', 'bpifb3', 'slc7a4', 'aup1', 'ccnc', 'cldn3', 'draxin', 'tmem123', 'hoxc10', 'ccer1', 'stk32c', 'fgf1', 'ttc9c', 'znf496', 'mall', 'nalcn', 'srr', 'catsperb', 'znf671', 'neu1', 'prdm13', 'dipk1a', 'nr2e1', 'paxx', 'fbxo17', 'cxcl5', 'gsr', 'kdm1b', 'twsg1', 'creb3l1', 'rfpl4b', 'c2cd5', 'hes5', 'gabarap', 'tpm4', 'slc39a8', 'xage2', 'b3gnt4', 'slurp1', 'znf785', 'rhbdf1', 'pald1', 'wnt9a', 'nrde2', 'chrac1', 'fam221a', 'bmp6', 'hivep3', 'lrp6', 'lrrn4cl', 'accs', 'btnl2', 'ciapin1', 'cldn18', 'cnfn', 'krt84', 'mpc1', 'scn4b', 'tpra1', 'rsph6a', 'krtap9-3', 'spdye1', 'smim18', 'ppip5k1', 'slc39a3', 'kcnj14', 'dcaf11', 'flt3', 'zfp37', 'ubl4a', 'mei4', 'ehd1', 'idi2', 'rnase2', 'herpud2', 'lcp1', 'mep1a', 'rtl6', 'zcchc24', 'pum1', 'sac3d1', 'hormad2', 'nipal4', 'atp5f1e', 'snapc5', 'c7orf33', 'gjb7', 'snx21', 'ucp1', 'kctd15', 'lsm12', 'mtfp1', 'utp6', 'dtwd2', 'pramef10', 'pik3r6', 'pnma8c', 'gorab', 'tbp', 'mast1', 'rspo4', 'lrrc10', 'pcdh11x', 'sybu', 'ccdc130', 'fam170a', 'rnf112', 'ccdc197', 'eme2', 'ttll7', 'vil1', 'rbm27', 'krtap12-4', 'ambra1', 'crybb1', 'tubb4b', 'wnk4', 'ccdc81', 'washc5', 'pde3a', 'pla2g2f', 'kif23', 'dnm3', 'ankrd27', 'pyroxd1', 'fshr', 'pja2', 'tmem221', 'cblc', 'zdhhc13', 'plat', 'nacc1', 'tmem92', 'mrtfb', 'tceal9', 'ddo', 'dcun1d2', 'tmem43', 'prkag1', 'phyhip', 'dnah8', 'gnat1', 'kptn', 'svep1', 'mt1a', 'dennd2c', 'nxnl2', 'dicer1', 'or2a5', 'ankrd17', 'fam237a', 'kcne4', 'cc2d1a', 'fxyd1', 'znf575', 'pcbp4', 'rims4', 'degs2', 'agbl4', 'ipcef1', 'ggh', 'cdh24', 'zfp92', 'atp8b1', 'or10z1', 'flot2', 'smarcd2', 'ppia', 'cyp27c1', 'spry4', 'phyh', 'ptpn7', 'thap4', 'prmt2', 'stx17', 'ipmk', 'secisbp2l', 'rabepk', 'haghl', 'smarcc1', 'opalin', 'fyco1', 'l3mbtl2', 'znf830', 'gdpd5', 'lrrc19', 'foxl1', 'pgk2', 'cxxc1', 'stradb', 'shank1', 'kcnj10', 'lzic', 'golga6l7', 'olfml2b', 'carm1', 'ftcd', 'pdik1l', 'senp3', 'ccdc191', 'sv2b', 'atp6v0c', 'fam210b', 'kdm5d', 'znf396', 'ebag9', 'mplkip', 'mageb6', 'atrn', 'lmx1b', 'nelfa', 'sass6', 'trim14', 'znf511', 'slc25a17', 'trim44', 'haus8', 'ffar3', 'fbxl2', 'nek6', 'drd3', 'klhl28', 'noxo1', 'ptger4', 'bricd5', 'or7e24', 'rasl10a', 'abcd1', 'arpc3', 'fam98b', 'six6', 'arih2', 'larp1b', 'nectin4', 'siah2', 'taz', 'prr9', 'cacng8', 'cd40lg', 'atp2b3', 'cdk16', 'plekhg2', 'uqcrh', 'klrc1', 'ncoa7', 'ifitm5', 'mesp1', 'prdm8', 'hmgxb3', 'tmem169', 'lss', 'cd37', 'muc20', 'cul4b', 'gng3', 'rsbn1', 'chmp2b', 'ncaph2', 'serpinb1', 'umad1', 'zc3hav1l', 'p2rx6', 'dnajc25', 'fam160b1', 'rtca', 'miox', 'znf217', 'arl8b', 'papln', 'col9a2', 'col15a1', 'mmaa', 'prr5l', 'ap5z1', 'pcdh15', 'rnf165', 'bmf', 'ercc1', 'wnt2', 'kif4b', 'ankrd36', 'kifc2', 'cwc27', 'pcbd1', 'tigd1', 'crygb', 'ephb2', 'tp53tg5', 'iqcf5', 'id3', 'mchr1', 'med17', 'arf4', 'osbp', 'fbxl7', 'cd101', 'ccl7', 'pak5', 'habp4', 'atp6v0a2', 'c17orf67', 'ggps1', 'tmem239', 'fut4', 'arhgdib', 'pet117', 'ddi1', 'oxgr1', 'b4galnt1', 'rsf1', 'nkx3-1', 'crisp2', 'hspb1', 'susd2', 'mpp1', 'nipsnap3a', 'rdh14', 'slc6a9', 'spaca3', 'gabrd', 'eif2b2', 'slc9a4', 'card9', 'loxhd1', 'spsb1', 'or4d5', 'clec2b', 'sp6', 'znf609', 'fkbp7', 'c2orf80', 'grk3', 'or5v1', 'pappa', 'camta2', 'taf11l8', 'mprip', 'wdr13', 'ciita', 'nqo1', 'znf493', 'cldn24', 'fip1l1', 'nup35', 'polr2e', 'rbm22', 'znf550', 'pstk', 'pex11a', 'nfx1', 'cfap61', 'c6orf58', 'adam2', 'oprl1', 'ift20', 'pdcd6', 'f3', 'c11orf65', 'rexo5', 'sema3e', 'cylc2', 'ikzf4', 'pth1r', 'cox14', 'or5h15', 'mettl24', 'znf471', 'or1n1', 'cxcr2', 'or8b2', 'eps15l1', 'arl2', 'mtrf1', 'ogfod1', 'znf34', 'slc36a2', 'flrt2', 'rorc', 'adora2b', 'gpr107', 'apob', 'klhl12', 'ugt3a1', 'ndst1', 'pigc', 'gtpbp10', 'add1', 'asb18', 'dnajb13', 'dnmt1', 'nkain1', 'oaf', 'c7orf57', 'pld6', 'pus7l', 'gimap7', 'crb3', 'rab3b', 'zdhhc7', 'arid4b', 'chmp7', 'dydc2', 'rasal2', 'hif1an', 'cox6a2', 'alas1', 'or7a17', 'capg', 'slc37a1', 'qrich1', 'znf99', 'cyp4f11', 'itgad', 'agxt2', 'lmtk2', 'c19orf81', 'nfyc', 'znf516', 'sfxn4', 'tmc2', 'ccdc134', 'donson', 'jazf1', 'fan1', 'crybg3', 'or2b11', 'srp72', 'taf1b', 'mpv17', 'wfdc10b', 'grem2', 'hlx', 'or9g1', 'rbp2', 'rad18', 'btbd10', 'hcrtr1', 'a4gnt', 'cd53', 'pcdh10', 'coq7', 'gdf10', 'smarcc2', 'abcc9', 'lilrb4', 'gpaa1', 'riox1', 'ccne2', 'slc51b', 'bik', 'c12orf50', 'map3k9', 'itpka', 'klhl15', 'cenps', 'smap1', 'cd2bp2', 'ppm1e', 'tsga10', 'agpat1', 'smim3', 'myeov', 'sln', 'snn', 'fgf20', 'tex55', 'anapc16', 'ugt2b17', 'ptpn18', 'spic', 'prpf38b', 'fbxo8', 'mixl1', 'pip5k1a', 'tsc22d2', 'c5orf49', 'drc3', 'nlrp2', 'dcun1d5', 'zwilch', 'hoxb3', 'celf2', 'calml5', 'cyp2r1', 'rbm48', 'clic2', 'ppt2', 'spata4', 'usp38', 'fubp3', 'znf24', 'or5an1', 'nsd2', 'or4q3', 'rbmx', 'rnf169', 'stbd1', 'nudt9', 'ermp1', 'klhdc10', 'rnase6', 'adat1', 'adgrb2', 'ccdc198', 'nhlh1', 'usb1', 'erich6b', 'gla', 'ct83', 'gemin8', 'dusp14', 'naa40', 'clecl1', 'fnip2', 'or6t1', 'ogfod3', 'eps8l1', 'il13ra1', 'f5', 'fcrl3', 'gbe1', 'acadvl', 'apobec3a', 'aida', 'tango6', 'acot1', 'arhgef10', 'oas3', 'rsrc1', 'thbd', 'dcaf8', 'idnk', 'lrrc70', 'ano4', 'sgcd', 'cd300e', 'trafd1', 'ovol2', 'c19orf73', 'rest', 'uba5', 'yipf1', 'nptx1', 'hey2', 'btg1', 'egf', 'ccdc124', 'spesp1', 'cdh11', 'sprn', 'mad2l2', 'kdm1a', 'adh1a', 'atg101', 'fahd2a', 'adcy3', 'abca10', 'lsm1', 'akr1c2', 'tspan9', 'apba1', 'ttc19', 'kdm8', 'kiaa1328', 'syne3', 'naa60', 'ush1c', 'clec19a', 'ankrd61', 'kcnc2', 'mylip', 'pold1', 'cidea', 'ppp4r2', 'txnip', 'nosip', 'nos1', 'ppm1f', 'slc25a12', 'ak8', 'bmp2k', 'ppbp', 'rab18', 'alox12', 'prdm4', 'rims2', 'tex12', 'ank1', 'or7g3', 'mapk13', 'mybpc2', 'c7orf25', 'tspan31', 'tpd52', 'anp32b', 'plpp3', 'spata20', 'wdr53', 'plcl1', 'med13l', 'msrb3', 'gpat2', 'scaf8', 'snap23', 'tnp1', 'kcnrg', 'upf2', 'or10a3', 'sstr1', 'dhx36', 'sec11c', 'sft2d3', 'serinc2', 'sprr4', 'cpped1', 'col11a1', 'stimate', 'usp17l2', 'gpihbp1', 'wdr47', 'rsl24d1', 'cacna2d3', 'poc1a', 'fzd8', 'krtap5-9', 'ndufv3', 'pabpn1l', 'nploc4', 'brf2', 'cwc22', 'fcsk', 'arg2', 'cdhr5', 'gys1', 'rad9a', 'zgpat', 'or1b1', 'cldn2', 'plekhh2', 'nucb1', 'psmd7', 'tekt2', 'tshb', 'zbed3', 'cd300lg', 'cpq', 'lcn9', 'znf12', 'znf664', 'ccdc78', 'serpina7', 'c2orf42', 'rerg', 'arid5a', 'camk2d', 'satb1', 'tex10', 'trim35', 'rbl2', 'il17rc', 'jph3', 'lonrf2', 'muc4', 'lama1', 'hnf4a', 'chmp1a', 'magoh', 'tm4sf1', 'itprip', 'jchain', 'rnf182', 'c1orf68', 'svbp', 'utrn', 'sp110', 'znf816', 'taf11l12', 'eif4enif1', 'mmp11', 'or1l8', 'nacc2', 'slc35f2', 'hmgb3', 'gnaz', 'kif2c', 'mdp1', 'hspa4l', 'tmem74', 'znf619', 'eras', 'brd9', 'ikzf1', 'dennd4a', 'cln8', 'pik3r5', 'ubald2', 'cnih2', 'chml', 'tmprss11e', 'hsfx4', 'slc6a15', 'naa80', 'mef2a', 'c17orf107', 'dock2', 'rilpl1', 'nudt14', 'swt1', 'tcp11l1', 'ift88', 'usp37', 'slc2a3', 'znf285', 'nexmif', 'fbxo36', 'pnpla3', 'pkp1', 'hacd4', 'cdc73', 'cipc', 'snorc', 'msgn1', 'smim22', 'tie1', 'gnai2', 'tub', 'aqp2', 'alpl', 'nsun3', 'dpm1', 'unc5d', 'wrap53', 'ccdc85a', 'cdr1', 'wfdc13', 'cma1', 'fndc8', 'ghsr', 'kcnk6', 'npas3', 'znf300', 'prss48', 'arf5', 'gjc3', 'stx7', 'desi1', 'tmem232', 'znf791', 'stxbp3', 'rwdd1', 'csgalnact1', 'slc22a13', 'magea6', 'mtln', 'cd3d', 'lrrc3c', 'gabrp', 'siglec7', 'spata48', 'lmnb1', 'cpt2', 'gpm6a', 'prr12', 'phc1', 'gtpbp1', 'or5l2', 'wdr4', 'thoc7', 'aacs', 'aoah', 'c2cd2l', 'raet1l', 'slc13a4', 'slc25a20', 'wbp2nl', 'il12rb1', 'sel1l3', 'smim15', 'chp1', 'zfp1', 'adcy1', 'aplp1', 'cd1a', 'echdc3', 'mfng', 'ephx1', 'rgs21', 'mid1ip1', 'chst9', 'pla2g4b', 'dio3', 'rgl4', 'tmem253', 'foxp4', 'pdcd11', 'meaf6', 'wdr12', 'zranb2', 'apoa4', 'eno2', 'chia', 'iqcm', 'rgs3', 'ccl13', 'ilf3', 'adi1', 'ccdc148', 'ip6k1', 'znf527', 'c12orf65', 'cdr2l', 'l2hgdh', 'necab2', 'snap29', 'znf454', 'bmerb1', 'apobec3g', 'hoxa1', 'vps72', 'aspm', 'antxrl', 'anos1', 'rbm14', 'cdkl1', 'copz2', 'arhgap15', 'smc5', 'adgre1', 'ahi1', 'ypel5', 'c2orf81', 'znf432', 'gtf2f2', 'vangl2', 'angpt4', 'irs4', 'gfpt2', 'fam228a', 'rftn1', 'elof1', 'vamp5', 'slc6a17', 'frs2', 'tmem229b', 'bet1l', 'kiaa2012', 'fam160b2', 'knstrn', 'nr1h2', 'rpusd4', 'synpr', 'hes6', 'tas1r3', 'lrig3', 'cst4', 'tafa2', 'igsf21', 'apobec3h', 's100a1', 'tmem161a', 'abhd10', 'erap1', 'oosp2', 'grip1', 'armc2', 's100a4', 'spred3', 'rxra', 'lrrc75a', 'sema3d', 'adirf', 'mettl5', 'ucn', 'slc9b1', 'rpusd3', 'map7d2', 'sh3gl2', 'eid3', 'sftpd', 'slc37a4', 'col3a1', 'ptpn14', 'sirpd', 'fate1', 'igsf22', 'or2a4', 'reg1a', 'slc35f5', 'sqor', 'six2', 'stx2', 'tada2b', 'defb108b', 'or1l1', 'lep', 'pwwp3b', 'tekt1', 'cyp2c9', 'pnldc1', 'prr14', 'znf286a', 'lsm3', 'znf428', 'ednra', 'nkd1', 'calm3', 'tlr5', 'artn', 'pard6b', 'ano3', 'ppm1a', 'tcf24', 'tut4', 'atp7a', 'aqp4', 'setd4', 'myom1', 'smr3a', 'ecm2', 'cd36', 'srgap1', 'med13', 'yy1', 'or8u1', 'il6', 'oxnad1', 'pcdha2', 'apex2', 'fbxl12', 'vps45', 'prx', 'tenm3', 'ank3', 'diras1', 'tceal5', 'gage1', 'anapc1', 'rpp25l', 'fcar', 'soat1', 'samsn1', 'colec12', 'znf524', 'axl', 'cutc', 'mgat4a', 'mau2', 'cfap47', 'trpa1', 'iqsec1', 'or52m1', 'defb1', 'amigo1', 'cd4', 'myct1', 'rpe', 'kifc1', 'cyp3a4', 'mamstr', 'c16orf95', 'txndc15', 'relb', 'acvr2b', 'nelfb', 'nr4a1', 'rad23b', 'zfpl1', 'asb5', 'myrf', 'tuba3d', 'nat9', 'mtmr3', 'nabp2', 'vps13a', 'gprin3', 'gsg1l2', 'izumo3', 'micos10', 'gfod1', 'cdc16', 'or11h4', 'lce3b', 'bbs12', 'eva1b', 'amhr2', 'ccl22', 'spem3', 'atf7', 'kif21a', 'carmil2', 'atp6v1e1', 'znf626', 'smpdl3a', 'asb13', 'mettl18', 'tro', 'slamf1', 'abcd2', 'otx1', 'zscan32', 'rnase3', 'plekha2', 'adgrd2', 'bcl9', 'srms', 'grin3a', 'lmntd1', 'ube2f', 'adgrl3', 'prkcz', 'ypel2', 'slc9a8', 'trpv3', 'coro7', 'trappc9', 'invs', 'higd2b', 'samd4b', 'ttc23l', 'fem1a', 'orc2', 'rab3il1', 'zglp1', 'tap1', 'crebzf', 'epb41', 'acp2', 'barhl2', 'vps54', 'neurod6', 'itga6', 'c6orf118', 'mitd1', 'ppme1', 'hoxb4', 'ttll10', 'ampd3', 'sgms2', 'sys1', 'taf11', 'kdelr3', 'c12orf54', 'sf3b1', 'fnbp4', 'or5a2', 'capn2', 'alx1', 'smkr1', 'cdyl2', 'clec3a', 'golga2', 'ccdc66', 'fmnl1', 'gucd1', 'hand1', 'pah', 'ptpn9', 'rab11a', 'myo18a', 'rwdd4', 'or7a5', 'psma8', 'slc34a3', 'henmt1', 'asphd1', 'exoc3l2', 'ppp2r2c', 'tmppe', 'rgs13', 'patz1', 'anxa11', 'csrp3', 'hcn2', 'nucks1', 'arap3', 'galnt8', 'pigr', 'nit1', 'pdcl2', 'pip5kl1', 'rtl8c', 'zdhhc23', 'slc2a5', 'lyl1', 'tpsab1', 'tcf20', 'chchd1', 'psmd14', 'ebp', 'ltn1', 'c6orf141', 'or6n2', 'mtfmt', 'spns3', 'taf12', 'dvl3', 'zkscan1', 'kdelr1', 'il20ra', 'e2f6', 'krt12', 'slc30a2', 'lilrb2', 'tanc1', 'ccdc117', 'pgbd4', 'znf500', 'samd14', 'imp3', 'rhbdd3', 'znf345', 'cask', 'uchl1', 'bora', 'gipc2', 'tmem71', 'spdye4', 'il2rb', 'mthfd2l', 'znf83', 'plcz1', 'cryz', 'spdye6', 'ubxn2a', 'exoc5', 'tmem50b', 'hdhd5', 'polr3h', 'trub1', 'sim1', 'zfhx3', 'crat', 'ap5m1', 'stag1', 'tnfrsf8', 'pcdhb14', 'bdkrb2', 'ifitm2', 'bak1', 'tmcc1', 'galnt6', 'nck1', 'chchd6', 'map3k1', 'sla2', 'thpo', 'vps37c', 'c11orf1', 'polr3e', 'fli1', 'ermap', 'stx16', 'neurog1', 'hkdc1', 'cox4i2', 'tcf21', 'hdc', 'tcof1', 'krt7', 'tmem211', 'nudt2', 'idh3b', 'rnf138', 'rpap1', 'zfyve28', 'dlgap5', 'rab40c', 'vgll1', 'tsc22d3', 'ndufs4', 'apoe', 'pdp1', 'adcy10', 'krtap20-4', 'ifngr1', 'hyls1', 'mapk8ip1', 'lif', 'klk2', 'mcm9', 'rb1cc1', 'synrg', 'tbc1d2b', 'upk2', 'hsf1', 'iyd', 'zscan5c', 'tsga13', 'zup1', 'foxc1', 'cyb5d2', 'foxa3', 'c4bpb', 'qrsl1', 'arl14', 'tspan32', 'grb2', 'il1a', 'hadhb', 'apobr', 'cbl', 'tgm1', 'abcc1', 'cxcl1', 'dkk1', 'lad1', 'tppp2', 'ccdc47', 'zbtb1', 'mid1', 'phf13', 'prps2', 'trpm6', 'cdc37l1', 'otop1', 'dhrs12', 'bmt2', 'gar1', 'necap1', 'gpr88', 'zyg11a', 'plxdc1', 'epha8', 'samd8', 'gpr135', 'slc22a10', 'angpt1', 'pex1', 'gspt1', 'anxa2', 'trim62', 'coa1', 'ift27', 'mat1a', 'zbtb48', 'ccn5', 'sirpb1', 'klhdc9', 'spam1', 'dgkg', 'or10a5', 'fank1', 'ccdc33', 'cetn3', 'hp1bp3', 'kcnab1', 'st8sia2', 'slc15a2', 'aicda', 'st6galnac2', 'tmem184b', 'tigd7', 'ibtk', 'ovch2', 'gtf2h5', 'ccdc40', 'agt', 'capns2', 'wdr74', 'mybpc3', 'sgpp1', 'hspb7', 'eddm3a', 'cnn1', 'jph4', 'mtmr11', 'rdh13', 'kdm4f', 'stxbp4', 'c17orf99', 'mllt10', 'saxo1', 'crip3', 'arhgap26', 'ccny', 'f8', 'trnp1', 'jarid2', 'otog', 'znf414', 'dhdds', 'tas2r39', 'mob3c', 'trim69', 'fam151b', 'shroom4', 'c11orf96', 'stx1b', 'teddm1', 'kcnd3', 'rab26', 'f12', 'chd9', 'prkcq', 'slc35b2', 'c11orf95', 'lgsn', 'tdrd5', 'blid', 'eif2a', 'suv39h2', 'rb1', 'minar1', 'dpm3', 'gins2', 'spats2l', 'cldn19', 'pcdhb2', 'usp8', 'ift57', 'vangl1', 'clec14a', 'trit1', 'meiob', 'tma7', 'tmem213', 'pgap3', 'acsm2a', 'cldn4', 'vsig1', 'ywhaq', 'dnmt3l', 'dpysl3', 'gale', 'abcb10', 'fbxw7', 'rnf186', 'apeh', 'pfdn4', 'gba', 'rev1', 'tmtc4', 'tmtc3', 'pdzd3', 'ubox5', 'rapgef4', 'stk36', 'eif3g', 'mcoln3', 'atp1a2', 'txndc2', 'phc3', 'c15orf62', 'arf1', 'commd9', 'cyp20a1', 'susd5', 'tcim', 'cenpu', 'dact3', 'c1ql3', 'or8h1', 'rag2', 'klhl7', 'il1r2', 'c3orf84', 'krtap20-3', 'ldb3', 'qser1', 'rcl1', 'acsm4', 'rnmt', 'rtn4ip1', 'sfrp2', 'slc1a1', 'tusc2', 'fbxw11', 'nkx6-2', 'abce1', 'mmp23b', 'inmt', 'plet1', 'frzb', 'gnb1l', 'ca6', 'rapgefl1', 'dock1', 'cpn2', 'kdm4e', 'col4a1', 'abhd17b', 'or8d4', 'trappc6a', 'r3hdm4', 'sh3pxd2a', 'lamtor3', 'dnajc13', 'wnt11', 'adgrg4', 'prr30', 'adprhl1', 'mfsd14a', 'elac1', 'eya3', 'lnpep', 'lhx9', 'slc20a1', 'bcdin3d', 'znf710', 'c15orf61', 'tpcn1', 'plod2', 'or4e1', 'dab1', 'hlf', 'vps16', 'c2orf16', 'znf804b', 'ifnw1', 'pi15', 'mepe', 'ube3d', 'sco1', 'tubd1', 'cks2', 'znf76', 'zkscan4', 'neurl4', 'myl12a', 'znf750', 'ctc1', 'gbf1', 'gchfr', 'c5ar2', 'sbno1', 'grin2c', 'ms4a5', 'snai3', 'stambp', 'xab2', 'nptxr', 'cdc25c', 'c1orf94', 'nt5dc1', 'znf679', 'ncr1', 'sh2d4a', 'slc2a4rg', 'serpinf2', 'wfdc3', 'galr2', 'eif5b', 'c1orf105', 'prr3', 'iqsec2', 'npas2', 'rgp1', 'myd88', 'rtn4rl2', 'syt3', 'tmem50a', 'trim59', 'vnn2', 'polr3b', 'stat5b', 'kctd21', 'rgs20', 'fam71e1', 'mgam', 'cd180', 'msr1', 'c3orf80', 'ilvbl', 'nfatc2ip', 'lipm', 'padi4', 'dlg4', 'arhgef10l', 'pcdh9', 'mturn', 'chmp4c', 'ccndbp1', 'znf155', 'ldlrad1', 'rida', 'paqr3', 'tfap2c', 'znf599', 'f2rl3', 'or5d18', 'rad1', 'mlx', 'hira', 'arid1b', 'pdcl', 'numa1', 'zbed2', 'gls2', 'clic6', 'kcnk13', 'sct', 'lsamp', 'pelo', 'abcd4', 'rtn4', 'chuk', 'snrnp200', 'wdr90', 'znf180', 'cd8b', 'spaca9', 'myo1e', 'tlr3', 'vapb', 'clip2', 'gbp3', 'gpc1', 'atg4d', 'c20orf194', 'guf1', 'mt1b', 'cep55', 'zfhx2', 'sdha', 'psmc2', 'sapcd1', 'cdv3', 'frem3', 'heatr3', 'wfdc5', 'clec4f', 'rfc5', 'bzw2', 'c2orf74', 'trim41', 'ttc36', 'c6orf47', 'hsf2', 'mtmr6', 'or4k13', 'pcdha7', 'rgs1', 'rnf151', 'rtn4r', 'selenow', 'cul9', 'lonp1', 'cdk14', 'cxcl2', 'ezr', 'lim2', 'gpr101', 'smim28', 'ucn3', 'zbed1', 'elmo2', 'tctn2', 'csn3', 'ncam1', 'ndufa2', 'tomm7', 'or4n5', 'tmem79', 'gdf9', 'csde1', 'amz2', 'cdc7', 'dzank1', 'omp', 'pld3', 'kif9', 'nsmce3', 'rasgrf1', 'slc45a2', 'trmu', 'syce1', 'lrp1', 'ush1g', 'arf3', 'serpine2', 'hnrnpa2b1', 'lypd2', 'hamp', 'slc1a4', 'smpd4', 'tespa1', 'vcl', 'clstn2', 'lenep', 'samd13', 'ctdp1', 'tlr9', 'ube2l6', 'znf143', 'znf689', 'cers4', 'pip4k2c', 'gstt2b', 'kcnj13', 'krtap6-2', 'reep4', 'tnfrsf11a', 'rasgrp3', 'greb1l', 'fstl4', 'ldlr', 'st3gal6', 'nutm2e', 'or2g2', 'rnasel', 'znf365', 'herc2', 'defb127', 'calhm5', 'cadps2', 'arhgap40', 'vps26b', 'xcl1', 'spsb3', 'arhgef37', 'mei1', 'pelp1', 'st13', 'vstm4', 'dsg2', 'ankrd30bl', 'ing5', 'tex13d', 'kcnn4', 'micu2', 'hbm', 'ncl', 'kif25', 'tbx22', 'cyp4f12', 'ggt6', 'kif18b', 'nrsn2', 'shisa6', 'trim15', 'agtr2', 'ctrb1', 'tbx19', 'dnajb14', 'meox2', 'rnase10', 'ccnb1', 'nuf2', 'traf3', 'aldh1a3', 'dtwd1', 'spem2', 'tas2r14', 'hoxa11', 'kcna2', 'entr1', 'gcgr', 'ebna1bp2', 'agap1', 'smpd3', 'cotl1', 'tfam', 'znf140', 'tnk2', 'lpcat4', 'padi6', 'hoxa6', 'c5', 'met', 'dct', 'catsperz', 'il18r1', 'gfy', 'arl9', 'nsun6', 'tnfrsf14', 'apol4', 'ccdc175', 'c1qtnf8', 'deup1', 'snrk', 'tceanc2', 'calcoco2', 'cdsn', 'nkd2', 'triml1', 'dennd11', 'haus2', 'il12b', 'b3gnt2', 'slc22a16', 'gpatch1', 'clns1a', 'zscan18', 'cd300lf', 'otop3', 'scg3', 'pitpnm1', 'ccdc167', 'pomgnt2', 'rgmb', 'plch1', 'crocc2', 'il21r', 'rcan1', 'rnf2', 'selenop', 'mapk10', 'dop1b', 'ifnlr1', 'dgkh', 'nmnat1', 'elfn1', 'idh1', 'slc22a6', 'ttll2', 'napsa', 'flt4', 'fasn', 'ccdc194', 'tmprss4', 'or14a2', 'rad51b', 'krtap12-2', 'coasy', 'znf540', 'klk13', 'mms22l', 'ccdc177', 'cd1b', 'mapk7', 'dtx4', 'xg', 'fam98a', 'fam149a', 'ctps2', 'gsg1l', 'actl10', 'lamp3', 'slc38a8', 'hoxb7', 'znf264', 'nav1', 'zeb1', 'spink8', 'kcng2', 'c2cd4d', 'tgm3', 'setd5', 'psmb6', 'mcoln2', 'fbxo47', 'ssuh2', 'rnasek', 'pck1', 'plaat1', 'pcdha12', 'rassf9', 'slc23a1', 'hap1', 'lnx2', 'adamts14', 'tubb1', 'dlx1', 'grap2', 'htra2', 'trim13', 'lcnl1', 'ppp1r14b', 'c10orf95', 'depdc1b', 'ttll1', 'crabp2', 'ggct', 'sh2d2a', 'herc5', 'wnt10b', 'slc7a10', 'arl14epl', 'hnrnph2', 'or10a7', 'ppan', 'pacrgl', 'pdcd2l', 'serac1', 'ermn', 'strn4', 'sstr3', 'znf697', 'akap13', 'rimklb', 'mdm4', 'itgb6', 'ankrd28', 'plg', 'ppp1r7', 'rnf19a', 'tbl1y', 'lacc1', 'ppm1h', 'gypc', 'ldb2', 'nefm', 'snrpf', 'tox', 'wac', 'man2a2', 'ankrd39', 'ido1', 'caps2', 'stard4', 'sptan1', 'bdp1', 'ppp1cc', 'atf2', 'dnajc30', 'pick1', 'hrg', 'lrrc30', 'jup', 'tcfl5', 'tyw1', 'fap', 'bok', 'stmnd1', 'adarb2', 'trpm7', 'tmem18', 'mrm1', 'cps1', 'tex50', 'morn4', 'prr36', 'nox4', 'nxpe4', 'serpinb3', 'fmnl2', 'znf623', 'atf4', 'aspg', 'or2t33', 'mbtps1', 'rho', 'chd5', 'psmg1', 'il1rapl1', 'aph1b', 'lnp1', 'pura', 'pcdhb11', 'tead1', 'mok', 'socs5', 'cep192', 'prlhr', 'hmgxb4', 'chd4', 'asic5', 'tnnt1', 'trmt61a', 'znf100', 'dnmt3b', 'or2t1', 'tspoap1', 'top2a', 'ncor1', 'adamts1', 'c1orf54', 'mtg2', 'fignl1', 'paxip1', 'primpol', 'atp9a', 'gpc4', 'or56a5', 'atpaf1', 'pon2', 'foxd4l5', 'slc17a1', 'pip', 'b4galt2', 'tnfaip8l3', 'slc5a9', 'eif2s2', 'fndc5', 'taf11l14', 'tex11', 'ift81', 'aar2', 'dnah10', 'rfwd3', 'knl1', 'stx11', 'c11orf49', 'prr27', 'anapc13', 'hoxd11', 'ifnar1', 'sprr3', 'tmem185b', 'ugcg', 'zc3h12d', 'lrp2', 'osbpl9', 'slco3a1', 'akt2', 'chrnb4', 'or52n1', 'klhl30', 'cdc42bpg', 'usp17l1', 'ppil4', 'arhgap20', 'ppp1r12b', 'tagln2', 'scfd2', 'abhd18', 'crhbp', 'hsd3b7', 'kcnk16', 'fam155a', 'n4bp1', 'resp18', 'gpr162', 'ddn', 'enc1', 'dus4l', 'rnase7', 'ccdc170', 'cgrrf1', 'nav3', 'nsg1', 'chrdl1', 'drd2', 'cpne2', 'ccar1', 'cdpf1', 'cd74', 'shd', 'syap1', 'csmd1', 'wdr70', 'c6orf226', 'eml4', 'znf223', 'hao1', 'tmem42', 'tor2a', 'fam9c', 'sod1', 'ankrd13c', 'pax7', 'cyp2a6', 'cdk5r1', 'irak3', 'eif5a2', 'capza1', 'atp6v1g3', 'igfbp1', 'elovl7', 'sirpg', 'cul7', 'edem2', 'slc14a2', 'spag8', 'tmem132e', 'bnc2', 'ak9', 'hoxc5', 'mt-nd4', 'cxcl11', 'ccdc184', 'znf480', 'sri', 'erc1', 'ccl24', 'son', 'c1qb', 'igfl1', 'nfu1', 'ppp1r12c', 'mier1', 'or52b6', 'nelfcd', 'clec10a', 'xcr1', 'cldn10', 'hhla2', 'rnf126', 'eme1', 'st8sia3', 'ap3m1', 'c21orf58', 'gadd45a', 'asgr1', 'kmo', 'mageb5', 'pou4f1', 'wfs1', 'chrna3', 'nans', 'b3gnt7', 'mx2', 'mt1m', 'optc', 'pla2g6', 'stap2', 'dytn', 'metap1d', 'cript', 'mtpap', 'dctn2', 'spata31a7', 'smim5', 'exoc4', 'ess2', 'pcf11', 'klf6', 'spon2', 'clip1', 'krtap9-8', 'wdr24', 'dnajc18', 'gpc5', 'gucy1a2', 'uimc1', 'c1orf52', 'rack1', 'cd163l1', 'mmp9', 'mfsd5', 'rbm15b', 'frmpd1', 'pyurf', 'elovl2', 'rad51d', 'rtl10', 'cep95', 'sepsecs', 'capn9', 'sap30', 'alkbh7', 'thbs3', 'mcm10', 'or10h2', 'ccdc106', 'map3k20', 'atp5po', 'acta2', 'msmb', 'znf646', 'acp6', 'mroh9', 'psmb5', 'xpc', 'wtip', 'edaradd', 'myo1a', 'itgb8', 'pnliprp3', 'phlpp1', 'sox8', 'kat2a', 'tfap2a', 'got1l1', 'enpep', 'moap1', 'tmem242', 'mcf2l', 'gtf2e1', 'pigh', 'thbs2', 'ttc37', 'vn1r4', 'nim1k', 'ccn4', 'xpo7', 'psmd3', 'ctbp2', 'prdx6', 'slc20a2', 'ulk4', 'wls', 'ddit4', 'hddc3', 'esrra', 'fdxr', 'slc44a2', 'notum', 'wsb1', 'osbpl10', 'pmm2', 'fgd6', 'mos', 'nox5', 'rxrg', 'or5as1', 'brat1', 'lrch2', 'pole', 'pla2g3', 'poldip2', 'sth', 'dpp7', 'fign', 'usp22', 'gpr149', 'drd1', 'cpt1a', 'gast', 'akap1', 'marcks', 'tas2r40', 'ftl', 'gp2', 'hectd2', 'hint3', 'slc1a3', 'stk17a', 'angptl5', 'tubb2b', 'sephs1', 'celf4', 'znf573', 'otud6b', 'c11orf16', 'pfkfb2', 'elmod2', 'inpp5b', 'lama4', 'saraf', 'parp2', 'pld2', 'ssc5d', 'mgat5b', 'wdtc1', 'flnc', 'plscr2', 'znf680', 'ankrd6', 'cpsf1', 'espn', 'eed', 'csrnp2', 'faf1', 'c3orf85', 'apoo', 'cers6', 'togaram2', 'ephb4', 'tex33', 'ism1', 'prkab2', 'fam53b', 'tmed8', 'gck', 'actr5', 'krtap5-1', 'maff', 'mmgt1', 'mrc1', 'rad51', 'trmt11', 'gbp2', 'vill', 'cpvl', 'il13', 'il31', 'lrp1b', 'prss54', 'zdhhc17', 'rrp36', 'sh3bgrl3', 'ino80b', 'dydc1', 'gorasp2', 'aard', 'adamts3', 'lrrc14b', 'rnd1', 'scyl3', 'tmprss12', 'traf5', 'pdgfra', 'cdh15', 'spa17', 'gpr160', 'pde10a', 'ralgds', 'klhdc8b', 'or4e2', 'zbtb14', 'pgf', 'abhd8', 'adh5', 'srl', 'zbed8', 'cald1', 'nid2', 'ifrd1', 'gfra4', 'mindy4b', 'slfn13', 'slc45a4', 'amtn', 'psmb9', 'atp8b4', 'chka', 'lage3', 'ptov1', 'or6c2', 'poglut2', 'rbm20', 'tcea3', 'lpar1', 'ctdsp1', 'pdgfa', 'rhob', 'col23a1', 'ralyl', 'sag', 'ndufa8', 'or4a5', 'strip2', 'ssbp4', 'or9a4', 'lrrtm2', 'znf638', 'mterf2', 'ms4a14', 'znf789', 'polh', 'tgfb1i1', 'or13j1', 'c1qtnf1', 'aqp3', 'dhrs7b', 'gmnn', 'golga7b', 'ubxn4', 'wdsub1', 'slc36a1', 'slco1a2', 'map3k15', 'cela2b', 'tchp', 'col4a3', 'ncf4', 'tbc1d8', 'znf362', 'cdca7', 'mageb16', 'arpc5l', 'ipo5', 'xylt2', 'rbms1', 'tbr1', 'klhl41', 'scamp5', 'c16orf54', 'fgf17', 'sidt2', 'tecta', 'slc12a3', 'cd164', 'ceacam7', 'tspear', 'mlycd', 'kdm5b', 'kiaa0408', 'wnt8a', 'smad7', 'hes4', 'rnd2', 'smr3b', 'nusap1', 'dnaaf1', 'nrp1', 'atp11a', 'tmem106b', 'klk11', 'antxr2', 'rph3a', 'rnf10', 'fam171a1', 'hoxb6', 'apbb1', 'tnnt2', 'eya1', 'cpa1', 'frat1', 'frmd6', 'cd302', 'rinl', 'fabp2', 'clcnka', 'dlg3', 'ubash3a', 'c11orf42', 'psme1', 'thap6', 'arl4d', 'rab39b', 'snap47', 'mydgf', 'abtb2', 'keap1', 'dact2', 'mypn', 'siglec12', 'kiaa0930', 'dkk3', 'tmem158', 'daoa', 'phf12', 'plin1', 'fhl3', 'itgav', 'hnrnpul1', 'dcaf12', 'slc25a11', 'adamts13', 'egln2', 'slc25a43', 'znf600', 'vps13c', 'znhit1', 'arl13b', 'znf486', 'fmo5', 'hsd17b11', 'pex14', 'fyb2', 'cnr2', 'znf317', 'dgat1', 'rasal1', 'ybx1', 'c8orf48', 'gskip', 'scrn2', 'wiz', 'calcoco1', 'uap1', 'or2l13', 'sypl1', 'tnnt3', 'znf441', 'rab30', 'dock5', 'plekhj1', 'marveld1', 'cblif', 'chadl', 'lta4h', 'ttn', 'gabrb1', 'phospho1', 'timm13', 'gfra1', 'slc35f6', 'd2hgdh', 'znf641', 'bckdk', 'fosb', 'siglec1', 'spz1', 'slfn14', 'fgfbp1', 'niban2', 'tm4sf18', 'semg2', 'igfn1', 'gal', 'nek2', 'hcst', 'atad3a', 'bmp8b', 'smu1', 'lama2', 'olfm3', 'senp2', 'zmiz2', 'insr', 'adgrv1', 'znf564', 'or6b1', 'coq5', 'klk7', 'cep68', 'elmod1', 'ttc9', 'bgn', 'carhsp1', 'ddr2', 'riox2', 'ankrd1', 'acadm', 'fxn', 'mroh1', 'sh3glb2', 'wnt5b', 'ifi16', 'znf891', 'aqp11', 'e2f4', 'fam177a1', 'fuca2', 'hscb', 'gcg', 'znf33b', 'atg16l1', 'aamp', 'secisbp2', 'piwil2', 'chrdl2', 'spc25', 'daglb', 'f9', 'lrrc40', 'ubqln1', 'c1qbp', 'or6s1', 's100a2', 'atg10', 'smim10l1', 'lnx1', 'thra', 'igfbp7', 'eddm13', 'kcnc4', 'cdk7', 'ptpmt1', 'aqp8', 'znf136', 'zscan1', 'tssk3', 'tnfrsf6b', 'zranb1', 'lgals9c', 'med10', 'tnfaip8l2', 'exosc3', 'smg7', 'kcnv2', 'npw', 'tmem143', 'dcun1d4', 'kcns3', 'pgc', 'foxn1', 'ror1', 'gimap5', 'snrpb2', 'steap1', 'kif2a', 'phactr4', 'prickle1', 'znf738', 'cdc5l', 'pgpep1', 'gpr89b', 'znf676', 'slc22a5', 'znf837', 'tnfsf9', 'sptlc2', 'fbxl19', 'trir', 'st6galnac1', 'mt1f', 'alox12b', 'mthfsd', 'rhoq', 'xiap', 'asb7', 'heyl', 'znf205', 'nfs1', 'ajap1', 'ccdc43', 'rfpl4al1', 'anhx', 'vsig10l', 'tll1', 'sacs', 'ppp3cc', 'mpnd', 'eogt', 'hexim2', 'pds5b', 'cdc14b', 'kcnv1', 'kremen2', 'pik3c2b', 'zc3h18', 'ndufab1', 'pid1', 'dnaja3', 'serpinc1', 'cd80', 'nkapl', 'smurf2', 'tonsl', 'dap', 'ebf3', 'impa2', 'shisal2a', 'lbh', 'gje1', 'hnrnpk', 'tbc1d32', 'wdr62', 'zfp42', 'cfap20', 'b4galt1', 'dnase1l2', 'or52n5', 'wt1', 'lrrn3', 'cideb', 'tmem223', 's1pr1', 'kiaa1210', 'gpx6', 'fhl1', 'golm1', 'gnb2', 'c8orf76', 'c20orf144', 'f11r', 'phka1', 'gsta4', 'tspan10', 'ube2o', 'klk3', 'abhd11', 'sgcg', 'igsf1', 'snx24', 'ttf1', 'kctd10', 'pla2g4e', 'sumo4', 'znf398', 'c9orf16', 'kif18a', 'gldn', 'p2ry10', 'hif3a', 'hoxc8', 'krtap19-1', 'kcna3', 'ccdc185', 'or52e5', 'smg5', 'smim21', 'defa4', 'vopp1', 'ddx52', 'galntl6', 's1pr2', 'slc7a8', 'ube2e2', 'nlrp11', 'nbpf11', 'scn7a', 'sos1', 'agpat4', 'fbxw4', 'eda', 'plaat3', 'hipk4', 'pi16', 'tomm20l', 'cd247', 'mageb1', 'ndufaf8', 'rab3d', 'hectd1', 'ly6g5c', 'htr6', 'znf562', 'dppa2', 'sdf2l1', 'gpr176', 'smyd4', 'spink5', 'drgx', 'thumpd3', 'whamm', 'chpf', 'il1r1', 'izumo4', 'pde4c', 'hpcal4', 'tbxa2r', 'evpl', 'shisa3', 'mettl15', 'mpv17l2', 'chd6', 'utp25', 'atp5me', 'unc13b', 'chst10', 'sh2d6', 'malrd1', 'brca1', 'kntc1', 'zfand4', 'majin', 'slc12a2', 'rala', 'pomp', 'rbm44', 'rasgrp4', 'ddx50', 'stat5a', 'birc5', 'lrmda', 'adamts20', 'med12', 'cpd', 'il22ra1', 'insm1', 'rpap2', 'hebp2', 'tmod1', 'nolc1', 'fem1b', 'cst7', 'f13a1', 'pigbos1', 'diaph1', 'hook3', 'samd7', 'mtx2', 'csnk2a1', 'glyatl1b', 'cuta', 'cntn1', 'nox3', 'mageb10', 'slc2a13', 'vrk1', 'kcnk15', 'prex1', 'acaa2', 'gprc5d', 'nagk', 'slc1a6', 'ufl1', 'fer', 'or2m7', 'sppl2a', 'lrrc69', 'arhgef6', 'shisa9', 'tle1', 'faap24', 'stk32a', 'trim49b', 'or51v1', 'foxo3', 'kif14', 'xrcc6', 'asnsd1', 'b4galnt3', 'pgm2', 'polr3a', 'tas1r1', 'pdk3', 'mest', 'rfxap', 'rrp7a', 'efcc1', 'ecscr', 'nfyb', 'trim42', 'slc16a11', 'mzf1', 'itgal', 'mtpn', 'perm1', 'eml6', 'rbm5', 'idh3a', 'sec61g', 'ttll11', 'mks1', 'pigo', 'bmp5', 'hmces', 'ceacam16', 'fgf21', 'gbx1', 'clcnkb', 'ndp', 'rbak', 'zkscan8', 'cdc6', 'ibsp', 'cnn2', 'ogdh', 'znf182', 'drp2', 'srrm4', 'nudt5', 'ly6g5b', 'rbm23', 'tmed9', 'csk', 'rundc3a', 'slc17a2', 'trim54', 'cluap1', 'gxylt2', 'tmem251', 'acad8', 'mlkl', 'rsph9', 'wdr7', 'erlin1', 'pparg', 'dars2', 'intu', 'rab31', 'fam114a1', 'tacc3', 'dyrk2', 'enoph1', 'fxr1', 'asap2', 'cnot2', 'sephs2', 'mtmr14', 'znf578', 'ddx23', 'icam3', 'ca5a', 'prim2', 'slc16a9', 'prnp', 'hinfp', 'bmp7', 'abraxas2', 'ttbk1', 'tyms', 'rpusd1', 'theg', 'tspan15', 'rnf115', 'cap2', 'pmp22', 'ric3', 'med12l', 'eif1ay', 'smyd1', 'mapk1', 'znf358', 'rusc2', 'rad17', 'gpr161', 'fbxo27', 'il10rb', 'ca13', 'wdr61', 'asmt', 'atrnl1', 'slc27a2', 'tgm2', 'nrep', 'hs3st5', 'il23a', 'znf19', 'ifna8', 'rab11fip5', 'fkbp3', 'pogk', 'dync1li1', 'zswim8', 'sfxn1', 'snx14', 'znf548', 'tbrg4', 'acbd6', 'ankrd7', 'brpf1', 'tmem114', 'bag3', 'cd300c', 'prr15', 'tomm40', 'cplx3', 'enox1', 'magea4', 'c16orf90', 'nr0b2', 'tmem44', 'or6c65', 'pcp4', 'il7', 'kng1', 'hspa9', 'znf526', 'shisa8', 'hrh1', 'ofd1', 'or1a2', 'bloc1s1', 'atp1b1', 'nrxn3', 'or6c76', 'plekha7', 'abcb9', 'ptprs', 'stk31', 'acox2', 'rgpd3', 'dok3', 'vamp4', 'krt25', 'ehmt2', 'bicdl2', 'agr2', 'cdip1', 'ifngr2', 'dennd2a', 'or52k2', 'rasl12', 'ssr3', 'arid4a', 'huwe1', 'itga7', 'vps33b', 'mfap1', 'znf57', 'eomes', 'sprr2e', 'trim25', 'amelx', 'il6r', 'lrrc42', 'or4x1', 'champ1', 'sprr2d', 'hdlbp', 'blcap', 'zhx3', 'dprx', 'klhl33', 'u2af2', 'hddc2', 'setd9', 'tmem203', 'ggact', 'klhl6', 'slc5a12', 'zfp14', 'ccdc91', 'glp1r', 'pde6d', 'zp3', 'dyrk1b', 'gas2l1', 'slc7a11', 'cbln3', 'gngt1', 'ube2m', 'sox9', 'copg1', 'snapc2', 'psap', 'cwf19l2', 'ssx3', 'zbtb2', 'axin2', 'samhd1', 'slco1c1', 'dis3l', 'elf1', 'thoc6', 'nrp2', 'mast3', 'cacna2d1', 'baz2b', 'lgals7', 'nsf', 'ogdhl', 'ap1s3', 'trpm4', 'tmprss11a', 'exosc2', 'etdc', 'snx10', 'tekt3', 'en2', 'tbc1d15', 'cyp51a1', 'arfgap1', 'trappc6b', 'lingo1', 'chst3', 'exoc3l1', 'rbms3', 'cnst', 'ormdl3', 'cables1', 'stxbp5l', 'sart1', 'nbpf20', 'wdpcp', 'rrh', 'cyp3a5', 'lrch4', 'arfip2', 'zc3h3', 'nkx1-1', 'svip', 'itfg1', 'rundc3b', 'wdr11', 'rtbdn', 'mapk8', 'mtmr8', 'c21orf91', 'c3orf52', 'hsd17b8', 'eftud2', 'or6c68', 'ptdss1', 'dok6', 'rnf208', 'dnajb4', 'mgll', 'tmub1', 'rexo2', 'spag16', 'htatsf1', 'fam20c', 'mllt6', 'gtsf1', 'stau1', 'agbl3', 'sash3', 'grtp1', 'slitrk5', 'sptbn4', 'commd3', 'radx', 'slc17a8', 'foxl2nb', 'prpf40a', 'tprg1l', 'chmp5', 'sh3pxd2b', 'amph', 'edil3', 'elp3', 'nufip2', 'pspc1', 's100a6', 'slc26a9', 'mpig6b', 'neurog3', 'tcaim', 'nsmf', 'usp26', 'zdhhc14', 'tbl1x', 'casp6', 'mtmr2', 'atp10a', 'nccrp1', 'nfe2l2', 'slc1a7', 'chst12', 'scgb3a1', 'eppin', 'homer2', 'p2ry6', 'ddb1', 'cxcl8', 'cxcl14', 'tsr3', 'c2orf88', 'sap25', 'vps37b', 'scrn1', 'lpar3', 'thyn1', 'fcer1a', 'znf85', 'treh', 'usp25', 'golt1b', 'slc4a8', 'tcp10l', 'mettl7b', 'ina', 'rnf26', 'lce2d', 'ccdc27', 'mvb12a', 'znf141', 'pip4p1', 'scn3b', 'ric8b', 'dscaml1', 'dcaf16', 'zpbp', 'ly6k', 'mn1', 'tab3', 'cyb561', 'mbd3l2b', 'or9k2', 'zic1', 'becn1', 'htr2a', 'scnm1', 'gpr119', 'heca', 'nr2f2', 'adgrb1', 'cdc27', 'efs', 'lhx4', 'znf48', 'rab20', 'ccdc8', 'chmp3', 'clec17a', 'exosc5', 'phf6', 'prr23a', 'dynap', 'vgll4', 'stxbp5', 'iqsec3', 'proca1', 'zdhhc6', 'hsd17b2', 'slc39a6', 'stat1', 'mcam', 'hsd11b1', 'znf585b', 'slc22a17', 'apela', 'ano6', 'ccdc171', 'or13d1', 'folr3', 'pold4', 'ltv1', 'gpt', 'grin3b', 'blvra', 'meox1', 'rbfox1', 'actr10', 'sh2d5', 'cnmd', 'or7g1', 'spata5l1', 'cdh13', 'atp10b', 'bmpr1b', 'abl1', 'n6amt1', 'ankrd33b', 'znf485', 'unc50', 'palb2', 'arhgef33', 'bag2', 'slc38a7', 'elane', 'irf2bpl', 'snx13', 'tmem183a', 'pdpk1', 'tmprss9', 'm6pr', 'klf9', 'pycard', 'kcnab3', 'leo1', 'slc8a1', 'armc1', 'tarm1', 'tfap2b', 'muc16', 'znf445', 'kctd8', 'scn8a', 'srsf1', 'cldn12', 'lima1', 'papolg', 'stk11ip', 'zhx2', 'hsph1', 'cecr2', 'wfdc6', 'znf620', 'elp4', 'odf3l2', 'acap3', 'eid1', 'c2orf69', 'kpnb1', 'efcab14', 'morn2', 'gk2', 'rnaseh1', 'c9orf40', 'gmpr2', 'nt5c', 'nup93', 'trip4', 'fzd1', 'pak6', 'sp140l', 'gch1', 'ncaph', 'or10h3', 'nmur1', 'tmem176a', 'ccdc96', 'idh3g', 'sec61a2', 'tmem9b', 'dnajb11', 'kiaa1191', 'pabpc5', 'ephb1', 'fxyd7', 'ms4a4a', 'prkg2', 'nlrp1', 'sdcbp', 'smarca1', 'nfya', 'trmt112', 'zmym6', 'tfdp2', 'zmym4', 'rbm12', 'magi1', 'dgkk', 'prph2', 'tdo2', 'ccdc125', 'cenpm', 'hspd1', 'las1l', 'kdelr2', 'mga', 'pde9a', 'wfdc2', 'ccar2', 'ndufv1', 'slc35f3', 'ncln', 'acsl3', 'sgo1', 'slc25a31', 'shcbp1', 'psmg4', 'entpd3', 'recql4', 'cyb5b', 'ywhaz', 'ptger3', 'pou2af1', 'ern1', 'acsl1', 'zbtb5', 'troap', 'slc26a7', 'cilp2', 'med25', 'kcnk2', 'tfe3', 'ahcyl1', 'rbbp7', 'chrm3', 'tuba4b', 'agmat', 'pfkfb1', 'fpr3', 'ervv-1', 'slc14a1', 'inpp4b', 'myo1f', 'prss45p', 'c17orf50', 'kif24', 'tsnaxip1', 'yipf4', 'map3k2', 'sinhcaf', 'tmem238l', 'tgoln2', 'or2t10', 'fbxo33', 'atp11c', 'dcst2', 'c17orf100', 'cdkn2d', 'il34', 'pbld', 'mslnl', 'gcnt3', 'eps15', 'bmp10', 'tram1', 'zbtb32', 'cnn3', 'ncoa5', 'mia3', 'stt3b', 'rfx4', 'c8orf58', 'nlrc4', 'psg4', 'fam185a', 'kcnq4', 'polr2i', 'or2i1p', 'notch1', 'c4b', 'pxmp2', 'ppat', 'c2orf92', 'cox6b1', 'tafa3', 'ficd', 'alg14', 'ism2', 'ppara', 'eif2ak4', 'stra8', 'wwc2', 'znf479', 'tbc1d23', 'rorb', 'sh2b3', 'mlf2', 'fkbp9', 'olfml3', 'pfn2', 'mfap3l', 'rita1', 'uqcrhl', 'chpt1', 'ngb', 'stk17b', 'gypa', 'snrpg', 'nt5dc4', 'pgam2', 'ppp1r1b', 'mthfd2', 'tceanc', 'st7', 'syt11', 'or14j1', 'slc9a9', 'ankar', 'ncapg', 'sdr16c5', 'msh4', 'znf711', 'togaram1', 'c1orf116', 'apod', 'fam161b', 'acot6', 'tstd2', 'agfg1', 'cep89', 'ptprj', 'gja9', 'ticam1', 'ppp4r4', 'arl6', 'arl6ip5', 'ky', 'sec23ip', 'tchhl1', 'map2k2', 'ndufa7', 'mmp14', 'defb121', 'nup85', 'psma3', 'ercc5', 'sfrp4', 'adamtsl3', 'mast2', 'mtfr1', 'pus3', 'b3glct', 'klhl21', 'gas6', 'fbxl3', 'neu3', 'gnb5', 'ptpn4', 'pus1', 'sele', 'srrt', 'peak1', 'magea1', 'nr2c2ap', 'cenpc', 'borcs7', 'znf382', 'ublcp1', 'mfsd1', 'allc', 'ccl25', 'rab3a', 'gnrhr', 'lce1d', 'shbg', 'hmgcl', 'gpbar1', 'rab21', 'fbxw12', 'mphosph9', 'nudt22', 'capza2', 'ccdc173', 'klhdc3', 'suz12', 'fam160a1', 'rasa2', 'tmem33', 'arhgap29', 'cox4i1', 'ptk2', 'cenpf', 'gjb5', 'nrf1', 'atcay', 'nxph1', 'dtymk', 'slco4c1', 'thap3', 'ahctf1', 'phtf1', 'col12a1', 'txnl4b', 'c5orf52', 'tagap', 'katna1', 'trappc4', 'arhgef28', 'mterf4', 'naf1', 'acsm5', 'slc37a3', 'azin1', 'smpd2', 'spata31a6', 'fgfbp3', 'sh2d1b', 'ybey', 'tacstd2', 'cxadr', 'casp8ap2', 'chst11', 'hspb6', 'ythdc1', 'thsd7b', 'clpb', 'meig1', 'gli1', 'sowahd', 'banp', 'btf3l4', 'smug1', 'slc52a1', 'apobec1', 'sap30l', 'akna', 'rab1a', 'nfib', 'npffr2', 'pnpla2', 'czib', 'trim36', 'ift22', 'epb41l5', 'scrn3', 'noc3l', 'setd7', 'ugt1a3', 'klhl1', 'mdn1', 'sh3bp4', 'or8g5', 'aspscr1', 'znf592', 'hdhd3', 'noxa1', 'ceacam19', 'rhno1', 'igll1', 'adm', 'abcc5', 'spata17', 'uba1', 'timm50', 'gpx5', 'psenen', 'sec23b', 'or8j1', 'pag1', 'adrb3', 'nxpe2', 'optn', 'rbm42', 'dmrt3', 'hsp90b1', 'padi3', 'mrfap1l1', 'ccdc146', 'ranbp17', 'kcnj2', 'slitrk6', 'tdrkh', 'ufsp2', 'ndst2', 'dcaf10', 'pbrm1', 'cfap58', 'rnf175', 'vim', 'zfp82', 'lrrc3', 'ccdc34', 'itga8', 'klk4', 'xrcc4', 'nelfe', 'ptrh2', 'eral1', 'naprt', 'or52b2', 'ppp1r13l', 'st3gal3', 'znf425', 'tnfsf11', 'prss56', 'vgf', 'ccr1', 'creb3', 'sox3', 'prss27', 'pkd1', 'slit1', 'tmprss2', 'bsnd', 'gpx7', 'jmjd6', 'pthlh', 'gja3', 'gjd3', 'itpkb', 'gem', 'bad', 'vdac1', 'snapin', 'clmn', 'actr3', 'capn1', 'tcf3', 'fam216b', 'vstm5', 'zscan30', 'pbx1', 'smim24', 'znf80', 'etv5', 'rgs4', 'tdp2', 'phf5a', 'ereg', 'mob3a', 'syde1', 'ddx24', 'sh3glb1', 'emilin2', 'lrrc1', 'carmil3', 'pgm5', 'slc30a5', 'brd7', 'acad9', 'aimp2', 'or10g8', 'rnf14', 'crx', 'them5', 'lrp2bp', 'trim37', 'zfp90', 'hmgcr', 'gng8', 'chtop', 'grpr', 'kera', 'sec24b', 'fam118b', 'snd1', 'spef2', 'vwc2', 'c1orf194', 'qrich2', 's100pbp', 'slc49a4', 'krtap19-4', 'pou3f1', 'sox6', 'morc1', 'calm1', 'rpp21', 'mob1a', 'foxp1', 'usp51', 'sptlc1', 'arsf', 'or2m2', 'ppp1ca', 'bbs4', 'proc', 'cd99l2', 'sptbn2', 'krt27', 'muc13', 'wnt6', 'cdk11a', 'ints9', 'gnptab', 'mobp', 'pou3f2', 'znf768', 'krt8', 'otoa', 'sdsl', 'rab15', 'fgd1', 'prom2', 'rer1', 'ccdc166', 'ppp1r42', 'pax9', 'tas2r8', 'rnf223', 'pak1', 'kndc1', 'rnls', 'armc9', 'mcmbp', 'zadh2', 'brd2', 'nxph4', 'bysl', 'flad1', 'ldhal6a', 'mfhas1', 'ndufa12', 'ccl23', 'dda1', 'slc46a2', 'pgbd1', 'syt13', 'tstd1', 'cabp1', 'bclaf3', 'dok5', 'ate1', 'pglyrp2', 'ramac', 'adipor1', 'acsm2b', 'pitx1', 'ski', 'or4c13', 'naaladl1', 'zscan4', 'trim34', 'fech', 'bcr', 'kctd7', 'c11orf45', 'fam199x', 'nbpf19', 'ier5l', 'tmc8', 'rbm43', 'kbtbd11', 'znf707', 'lats2', 'smim31', 'trim43', 'c19orf54', 'tmem272', 'ubr2', 'gpc6', 'lamc1', 'nbl1', 'septin3', 'alox5ap', 'znf467', 'arid3a', 'arhgap30', 'ik', 'susd4', 'znf214', 'znf43', 'nmt1', 'or6p1', 'gnai1', 'znf302', 'dapk3', 'mcm3ap', 'c20orf141', 'spata31d1', 'thumpd1', 'xpo4', 'nsun7', 'tapbp', 'znf446', 'lrrc53', 'ndufc1', 'muc12', 'myrfl', 'ifitm3', 'oca2', 'znf121', 'wdcp', 'clint1', 'defb126', 'btn1a1', 'abcf1', 'cyp4v2', 'hmcn1', 'mipol1', 'prkar2a', 'traf3ip1', 'or10g6', 'rab40a', 'fam207a', 'ankrd35', 'alms1', 'trappc2l', 'lman1l', 'dynlrb1', 'smim19', 'clstn3', 'gmfg', 'lrrc38', 'ppp1r15b', 'scd5', 'lrrc37b', 'snrpd3', 'acap2', 'capn3', 'adam29', 'ppp4r3b', 'cacng3', 'lrp8', 'rtn1', 'tiprl', 'rbm39', 'tox2', 'extl1', 'ttr', 'clec4m', 'umod', 'ttc16', 'aass', 'ccdc113', 'gdf7', 'tst', 'golph3l', 'ccdc77', 'lce3a', 'evx2', 'nbpf1', 'ccnd2', 'lratd1', 'afap1l2', 'dennd1c', 'lat', 'mmp13', 'psmd10', 'tbl3', 'rbbp8nl', 'septin10', 'lefty1', 'arl6ip1', 'braf', 'nrbp2', 'slc4a5', 'cmas', 'dhodh', 'adra2a', 'exoc7', 'tpm2', 'krtap10-1', 'ubd', 'gpr151', 'sigirr', 'anxa5', 'isoc1', 'klhdc4', 'rgs16', 'tbc1d22b', 'foxo4', 'c1orf74', 'paox', 'foxf2', 'znf703', 'tigd3', 'mpdz', 'tbx4', 'myh15', 'pold2', 'or6c75', 'il27', 'tmem74b', 'tnni3k', 'mgat2', 'mt-cyb', 'znf174', 'klhdc7b', 'mmrn1', 'hormad1', 'mllt1', 'cox15', 'septin2', 'ccnb1ip1', 'haus4', 'rhoj', 'bcam', 'ebf2', 'nhsl2', 'mafg', 'znf347', 'slc35b4', 'ndst4', 'krtap4-12', 'c12orf43', 'emc8', 'fcho2', 'fam136a', 'ints11', 'urod', 'ndufs3', 'c2orf49', 'top3b', 'ica1l', 'fam240b', 'lfng', 'nup133', 'tnrc6c', 'ptpn12', 'ct47b1', 'selenos', 'xylb', 'adcyap1r1', 'taok2', 'znf26', 'irf7', 'ptprn', 'hoxa10', 'zbtb22', 'zbtb39', 'folr2', 'armc7', 'itgb1', 'tmod2', 'hmmr', 'arfip1', 'col9a1', 'or8b8', 'smagp', 'camk2a', 'aloxe3', 'clcf1', 'apoa5', 'cyp7b1', 'api5', 'dhx8', 'krtap15-1', 'myadml2', 'dpep2nb', 'trnt1', 'zscan5b', 'dnajb1', 'cplane2', 'dsp', 'csnk1g2', 'atp2b1', 'atxn7l2', 'eef1akmt3', 'armcx3', 'relt', 'noxred1', 'lgmn', 'ang', 'ndufa4l2', 'dnajc6', 'gfod2', 'c3orf20', 'grin2d', 'dusp21', 'hcfc1', 'ccdc200', 'hr', 'or2a14', 'lrrc8a', 'skiv2l', 'sfta2', 'c4orf19', 'lama5', 'nap1l5', 'gmps', 'tincr', 'znf675', 'cdcp1', 'rasef', 'igf1r', 'nepro', 'rasd2', 'dnajc5g', 'epc2', 'tmem106a', 'cast', 'b3gat3', 'spata19', 'dennd6b', 'slc25a23', 'yrdc', 'grn', 'pde8b', 'plekhm1', 'stard5', 'znf235', 's100a14', 'wipi2', 'tmprss15', 'ccdc136', 'nmbr', 'sema3c', 'ada2', 'lonrf3', 'phtf2', 'tecpr2', 'tent5b', 'nsmce2', 'tafa1', 'or1l4', 'spi1', 'slc22a18', 'krtap4-3', 'mtss2', 'coro1b', 'ano10', 'bicc1', 'ms4a12', 'ndrg3', 'mmp21', 'rras', 'scin', 'mark1', 'apobec3b', 'nkx2-8', 'evi5', 'plekhn1', 'aamdc', 'lpxn', 'ube2u', 'herc4', 'arhgap9', 'znf407', 'wee2', 'nt5c1b', 'nmu', 'tmem167a', 'peli2', 'inpp5k', 'hoxd10', 'cd1e', 'map6d1', 'sec31b', 'hells', 'usp13', 'fam163a', 'or14c36', 'ush2a', 'spata6l', 'maco1', 'shisal1', 'slc35d2', 'mlph', 'frg2c', 'brinp1', 'slc1a2', 'nup160', 'flvcr1', 'simc1', 'ech1', 'znf419', 'ceacam6', 'ilf2', 'endou', 'il1b', 'spink1', 'bcl2l10', 'fam124b', 'xrn1', 'ncoa2', 'asf1b', 'pde5a', 'zc3h8', 'bicd2', 'crlf2', 'dstn', 'c15orf65', 'ndufa13', 'oosp3', 'palld', 'bahd1', 'cabs1', 'msc', 'csf1r', 'eipr1', 'inpp5j', 'josd1', 'taf6', 'scpep1', 'tmem64', 'gpatch3', 'rnf7', 'spo11', 'znf784', 'znf800', 'piwil1', 'spast', 'adarb1', 'atg16l2', 'odam', 'vldlr', 'gk5', 'ccdc51', 'prpf38a', 'hmga2', 'spp1', 'zcchc17', 'xpo1', 'gnao1', 'slc25a44', 'rreb1', 'atp6v0d2', 'gtf2a1', 'sorbs2', 'rap1gds1', 'smim9', 'otop2', 'ppp1r14c', 'sra1', 'fam13c', 'tubgcp5', 'gstz1', 'igfbp5', 'fut9', 'snx31', 'foxp2', 'mc5r', 'taf9', 'vps25', 'htr3d', 'hoxc12', 'akt3', 'fhdc1', 'fam81b', 'krtap19-7', 'lck', 'itpripl1', 'mex3d', 'tmem151b', 'arl5b', 'pole2', 'lrrc75b', 'c1orf141', 'rbm46', 'tbpl1', 'galc', 'ranbp3', 'sult1c2', 'plxnc1', 'pramef12', 'znf331', 'znf222', 'slc10a1', 'tmem236', 'agmo', 'kiaa2013', 'smim10', 'kat5', 'tlr7', 'ugt1a9', 'mttp', 'vav2', 'sgcz', 'herc3', 'esyt1', 'tmeff2', 'itga2', 'ddx46', 'ccdc22', 'dcdc2', 'chl1', 'epha4', 'hspa4', 'cfp', 'gsk3b', 'pcdhb12', 'cadm2', 'pknox2', 'pnma6a', 'pam', 'csnk1g3', 'slc5a2', 'fam193b', 'stau2', 'tdrd15', 'or6c6', 'tnip3', 'ranbp10', 'cacna1i', 'hmox1', 'lrfn2', 'lcp2', 'dapp1', 'def8', 'ptges3l', 'trim55', 'snx9', 'gp6', 'gpn3', 'cavin1', 'ms4a15', 'fads2', 'tmem41b', 'dgkd', 'ubn1', 'atg4a', 'cad', 'setd1b', 'il17d', 'tspan33', 'csmd2', 'gstk1', 'prac2', 'sipa1', 'cd72', 'egflam', 'lmo7', 'plppr1', 'acp4', 'znf555', 'gh2', 'mdh1', 'tmem271', 'cdh18', 'fam9b', 'kif20b', 'or5h6', 'hpn', 'pfkp', 'fjx1', 'siglec10', 'lrrc4', 'ccdc57', 'pm20d1', 'znf692', 'fscn1', 'ap1s2', 'znf74', 'gjb6', 'sun1', 'krr1', 'crygs', 'eda2r', 'tnfsf18', 'cdh26', 'rtl4', 'gpr87', 'fto', 'rnf187', 'brip1', 'fbxl16', 'dok2', 'c11orf52', 'clpx', 'foxd3', 'msn', 'treml1', 'myh11', 'znf786', 'cacng2', 'amd1', 'slc12a1', 'picalm', 'ipo8', 'skor1', 'tcn2', 'sdc3', 'fez1', 'fkbp5', 'riiad1', 'zmym1', 'ltbp4', 'akirin1', 'clec4d', 'b4galt3', 'gmcl1', 'rock1', 'nt5dc2', 'rnpep', 'ptchd1', 'naif1', 'arl15', 'c9orf152', 'ahsg', 'klk15', 'zyg11b', 'armc3', 'lamb2', 'strn', 'irf4', 'c5orf51', 'syt5', 'actn4', 'ampd2', 'pex19', 'chrfam7a', 'chdh', 'urb1', 'zbtb9', 'serinc3', 'siva1', 'trpc7', 'iscu', 'or8g1', 'cox7b', 'abca7', 'c9orf153', 'nckap1', 'ssrp1', 'znf583', 'trim52', 'prkaa2', 'jam3', 'lgals3bp', 'rbp1', 'emx2', 'bloc1s3', 'iqgap2', 'pom121l2', 'kctd9', 'pxk', 'kcnk5', 'six5', 'orc3', 'dclk1', 'irak4', 'rnf170', 'cep97', 'parn', 'pcdhga2', 'cttnbp2', 'smarcal1', 'glyat', 'arhgef16', 'cpa6', 'znf37a', 'tnfsf4', 'ankrd31', 'or1d5', 'c11orf71', 'samd10', 'gpbp1', 'pex11g', 'cyc1', 'tmed5', 'mageb2', 'pdlim3', 'catip', 'slc25a35', 'shox2', 'csrp2', 'plcb3', 'pkig', 'ncf2', 'nubpl', 'carns1', 'cass4', 'cdcp2', 'tmem266', 'igsf8', 'zc3h13', 'g6pc3', 'ino80e', 'rgma', 'gimap2', 'ets1', 'cul1', 'dcaf17', 'igbp1', 'ripk1', 'tbc1d2', 'katnb1', 'chchd4', 'ro60', 'snu13', 'znf630', 'tceal1', 'tex53', 'cd8a', 'hint2', 'tspan3', 'cnnm3', 'kcnk10', 'tiaf1', 'dis3', 'vpreb3', 'guca2a', 'atp5f1d', 'lum', 'ncoa1', 'lyrm1', 'nbeal2', 'znf292', 'adra1d', 'hapln2', 'nle1', 'upk3a', 'cldn17', 'fsd1', 'nup107', 'pcnx1', 'vegfd', 'jhy', 'pcdha10', 'sin3a', 'ssr4', 'sult2a1', 'or7a10', 'fam91a1', 'rbm25', 'c1qtnf2', 'naglu', 'raet1e', 'wdr19', 'osbpl7', 'xrcc2', 'znf654', 'slc8b1', 'nr0b1', 'pex2', 'apool', 'cbln2', 'slc18a3', 'cyp2w1', 'tmem164', 'prcc', 'abcf3', 'aoc2', 'ctrl', 'pan2', 'podnl1', 'or52h1', 'ripply2', 'pcdhac1', 'myoc', 'efl1', 'tmem151a', 'drc7', 'tgif1', 'eif2b4', 'trpm2', 'mdc1', 'btbd9', 'dcp1a', 'mt-nd5', 'or9i1', 'krtap5-7', 'gprasp1', 'cstf2t', 'rbm6', 'fam3b', 'pdzk1', 'serbp1', 'zscan26', 'sgta', 'cited4', 'krtap5-2', 'thsd7a', 'rasip1', 'apobec3f', 'bloc1s4', 'abca4', 'nfic', 'pdgfd', 'znf8', 'mog', 'lin28b', 'chmp1b', 'ces2', 'rasl11b', 'tspan13', 'pla2g4d', 'ybx3', 'tmem87a', 'usp47', 'mms19', 'neurod4', 'ahdc1', 'pth', 'flrt1', 'pus7', 'actn2', 'btn2a2', 'bdh1', 'irak2', 'edar', 'nol10', 'myh2', 'cpe', 'maml1', 'ikzf3', 'siglec9', 'slc15a5', 'znf772', 'spin1', 'thap10', 'tnfaip3', 'abi1', 'oaz1', 'unc45b', 'unc5b', 'neo1', 'nkain2', 'ppm1m', 'gng11', 'heatr1', 'tmem132d', 'wdr73', 'akap10', 'csag1', 'ddx21', 'mfn1', 'trpv2', 'dusp6', 'figla', 'scgb1d1', 'serpinb11', 'col18a1', 'ppp2r2b', 'ocel1', 'xbp1', 'sfxn3', 'a4galt', 'anapc10', 'ccdc42', 'eno4', 'mapkapk5', 'trmt10c', 'atp4a', 'atrip', 'ext1', 'rubcnl', 'ctsc', 'etfdh', 'sfn', 'tssk4', 'hoxb5', 'kcnq2', 'ccdc159', 'lyrm7', 'rcc2', 'mef2c', 'zkscan7', 'krt74', 'trmt61b', 'mmp19', 'znf430', 'frg1', 'magec2', 'myo16', 'arfrp1', 'ddx53', 'eif1b', 'atp13a3', 'cyhr1', 'cdk19', 'igf2bp3', 'tmem41a', 'vti1b', 'kprp', 'ccser2', 'adora1', 'drap1', 'safb', 'gh1', 'gtf2e2', 'bbof1', 'pafah2', 'nfkbia', 'smim17', 'tigd2', 'ip6k2', 'ano2', 'defb124', 'npipb2', 'rnft1', 'rnf149', 'mmp20', 'tmem185a', 'cttn', 'rif1', 'aldh4a1', 'or3a2', 'zswim2', 'lgi4', 'glod5', 'pnma1', 'eif1', 'dbndd1', 'tap2', 'or2b3', 'pknox1', 'map4k2', 'prkcb', 'znf763', 'fzd9', 'cep104', 'hhatl', 'c1ql4', 'slc6a14', 'lrit1', 'exosc10', 'daxx', 'gsdma', 'slc6a16', 'mthfr', 'slc25a34', 'cbx4', 'pkib', 'cdk18', 'cox7a2', 'cenpvl3', 'cnksr2', 'prkag3', 'slc27a3', 'yipf3', 'prr23b', 'osbpl1a', 'phf20l1', 'zdhhc5', 'tmem59', 'or2h2', 'ssna1', 'or14i1', 'tmem198', 'slc25a32', 'mitf', 'fam47e', 'rhoc', 'gjc1', 'il33', 'nutm2a', 'lamp1', 'plxna1', 'srgap3', 'lmo2', 'krtap13-1', 'znf133', 'ms4a18', 'apmap', 'rabif', 'cdkn1c', 'slc38a10', 'ptprf', 'leap2', 'slc31a1', 'trip13', 'frmd8', 'mmp17', 'adgrf1', 'krt76', 'slc4a7', 'pla2g2a', 'lmx1a', 'slc25a48', 'vcx2', 'arpc4', 'glb1l', 'lce3e', 'ssu72p8', 'coa7', 'dhx37', 'rab4a', 'timm9', 'dusp23', 'rsph4a', 'maob', 'scgb3a2', 'itgam', 'cdc42ep4', 'paxbp1', 'dusp26', 'drich1', 'sec14l1', 'stox1', 'shoc1', 'il7r', 'colq', 'cd48', 'xrcc3', 'pi4ka', 'olr1', 'snrpa1', 'pate1', 'ankrd62', 'fmr1', 'sf1', 'siah1', 'cdkal1', 'krt222', 'nono', 'apom', 'efcab9', 'tyrobp', 'slc39a11', 'gcn1', 'taar5', 'atf1', 'sgsm2', 'lkaaear1', 'srpra', 'shprh', 'krt83', 'ror2', 'kaag1', 'carf', 'fam214a', 'itih6', 'fcrlb', 'mmp24os', 'socs2', 'ackr4', 'aqp6', 'socs6', 'znf488', 'tsbp1', 'smim41', 'tle4', 'fundc1', 'fam168a', 'btbd3', 'c9orf24', 'fam210a', 'usp54', 'n4bp2', 'dnajc7', 'rad51c', 'tceal4', 'sult6b1', 'glipr1l2', 'minpp1', 'cfap300', 'cthrc1', 'plk5', 'armc8', 'rgsl1', 'socs3', 'smco3', 'dcaf12l1', 'mapk8ip3', 'neto2', 'kcnf1', 'map3k4', 'pou4f3', 'gabrg2', 'golga3', 'prpsap1', 'dido1', 'rab3c', 'znf284', 'zswim5', 'pcdha5', 'klf7', 'evl', 'znf668', 'pds5a', 'ppil2', 'pcp2', 'slc39a13', 'mlnr', 'calr3', 'gpi', 'btbd6', 'map2', 'podxl2', 'clec4a', 'alas2', 'klrg2', 'plekhg6', 'plvap', 'tcap', 'paip1', 'dnajb8', 'slc16a10', 'atp6ap1', 'chrng', 'or8b12', 'fcmr', 'tcf15', 'ep300', 'atp8a1', 'gjc2', 'cdrt15l2', 'naaladl2', 'tp53i3', 'setdb2', 'meis3', 'ece2', 'krtap19-3', 'ca3', 'cmtm2', 'siglec15', 'mindy3', 'dnah14', 'card18', 'coa8', 'prb1', 'rasgef1a', 'tab2', 'cks1b', 'sik2', 'frat2', 'cdo1', 'or2ak2', 'rbbp5', 'dnajc1', 'lalba', 'mymx', 'fh', 'fastkd2', 'evi2a', 'sp100', 'thop1', 'tmem104', 'cst3', 'musk', 'maged2', 'yae1', 'scn5a', 'or52e2', 'c11orf86', 'htr3c', 'mcm4', 'nfatc2', 'retsat', 'prkch', 'crhr2', 'cstf3', 'cdc42se1', 'or5k2', 'tm4sf20', 'rcan3', 'trabd', 'fkbp11', 'plxnb1', 'znf607', 'nampt', 'mmp28', 'tm9sf3', 'klk10', 'myh7b', 'skp2', 'ssr1', 'abcb7', 'foxl2', 'prxl2c', 'cers2', 'chst6', 'gmds', 'klrk1', 'taf1a', 'cep295nl', 'serinc5', 'sema4d', 'sorcs2', 'cox17', 'clec2a', 'glt1d1', 'kctd6', 'camkk2', 'morn3', 'kcnj1', 'nhsl1', 'or10ad1', 'fbxo41', 'pdzd11', 'mnda', 'zswim3', 'nfrkb', 'dnajc15', 'fbln2', 'prss57', 'tmc3', 'slc13a1', 'tjp3', 'tmed7', 'prdm1', 'krt2', 'hibch', 'adam10', 'lpar5', 'cep295', 'dot1l', 'znf415', 'itga10', 'paf1', 'nup153', 'specc1l', 'lcn2', 'grhpr', 'dnase2b', 'or13c2', 'adnp', 'ckap5', 'cldn6', 'gage10', 'mink1', 'ptcd2', 'c5orf46', 'acoxl', 'cd24', 'pfn3', 'ube2q1', 'lin7b', 'fbxo21', 'cep112', 'vwce', 'ptprd', 'plek2', 'sbf1', 'gpr12', 'haspin', 'pydc2', 'smco1', 'slc7a5', 'a2m', 'pygl', 'atp5mc2', 'bub1', 'metrn', 'agbl5', 'card19', 'fntb', 'fut3', 'zfy', 'spata18', 'mboat4', 'maml3', 'zfand1', 'cst2', 'rars2', 'sgk3', 'jakmip2', 'cyb5a', 'pcdhb7', 'cdhr4', 'il12a', 'prdx1', 'znf3', 'bmp8a', 'arhgap31', 'bpi', 'ifnk', 'dpys', 'crcp', 'or4f21', 'nlrp7', 'rnf25', 'tmem176b', 'cnr1', 'ggt5', 'fam83c', 'dcaf13', 'snai1', 'etv6', 'septin9', 'cdc42ep3', 'efna5', 'ssh3', 'arap1', 'tmem204', 'mtm1', 'msmp', 'ntsr2', 'adck5', 'mxi1', 'frrs1l', 'urad', 'exosc4', 'cmtr1', 'krtap19-2', 'ppp1r16a', 'fbxo22', 'otulin', 'trdn', 'zhx1', 'bnipl', 'commd2', 'unk', 'sdr9c7', 'il1rl2', 'tnks', 'sh2d3a', 'phlda2', 'znf25', 'cog2', 'ccr9', 'arntl2', 'rnf213', 'zcwpw2', 'itga2b', 'ubr3', 'gpkow', 'c10orf82', 'c20orf204', 'aadacl2', 'pirt', 'slc52a2', 'odf4', 'afg3l2', 'znf442', 'pim1', 'pax8', 'caly', 'ap3b1', 'rcan2', 'shtn1', 'tacr1', 'znf114', 'gdpgp1', 'srf', 'gcat', 'cdkl3', 'efcab10', 'ccdc186', 'egr2', 'gpr18', 'slc35b1', 'prss37', 'coq8b', 'txk', 'nap1l3', 'dcp1b', 'myoz1', 'fgf2', 'sdk2', 'gabbr2', 'ecel1', 'gse1', 'sugct', 'catsperd', 'batf3', 'cd200r1', 'or52b4', 'cacna1d', 'psma5', 'chid1', 'kcne5', 'avpr1a', 'med23', 'slc12a7', 'mettl22', 'phgr1', 'taf13', 'ska3', 'tcerg1', 'aplnr', 'tbc1d30', 'wdr3', 'sugp2', 'abhd3', 'cr1l', 'ntf4', 'zbtb18', 'mt-nd1', 'asb4', 'hoxc4', 'b4galt5', 'akr1c4', 'slc25a47', 'tmem179', 'tnfrsf21', 'eif4ebp2', 'cbln4', 'dnaja2', 'fcgr2b', 'mtx3', 'lrrc7', 'hjurp', 'aktip', 'gpr1', 'slc44a3', 'tex264', 'uts2', 'ubr5', 'kcnq3', 'cd109', 'mnat1', 'lair1', 'sidt1', 'usf1', 'cxorf66', 'sod2', 'slc39a5', 'znf202', 'cish', 'tmem117', 'col6a6', 'acd', 'abhd14b', 'dimt1', 'sh3d19', 'trhde', 'atp1a4', 'cox8a', 'or6y1', 'ccdc157', 'kcnj6', 'lcmt2', 'fxyd5', 'ndc1', 'b3gnt9', 'prss38', 'rassf10', 'shox', 'foxd1', 'ube2g2', 'mcemp1', 'tbx5', 'ankle2', 'mybpc1', 'lgalsl', 'gak', 'katnbl1', 'scygr4', 'fam8a1', 'nkx6-1', 'frg2', 'zbtb10', 'naga', 'cartpt', 'rap2c', 'slc22a25', 'rpf1', 'sstr2', 'c6orf89', 'gata2', 'ppargc1a', 'poll', 'anks6', 'prdm6', 'tspyl1', 'pcdhb6', 'dhx16', 'btn3a3', 'gnly', 'emp3', 'cd163', 'cklf', 'depdc1', 'ndufb7', 'usp6', 'drd5', 'tlr4', 'emc10', 'c1orf167', 'bnip1', 'kcng3', 'znf354c', 'cubn', 'phgdh', 'krt5', 'npepps', 'pym1', 'rspo3', 'ildr1', 'ndufv2', 'adam19', 'slc7a9', 'nkx3-2', 'or10ag1', 'sord', 'p3h4', 'cdrt4', 'rhoxf2b', 'scaf4', 'ube2l3', 'tmem186', 'uncx', 'esyt3', 'raly', 'hspa14', 'lrriq1', 'fignl2', 'laptm5', 'arrdc3', 'nkain4', 'bbc3', 'nanos3', 'arvcf', 'ksr1', 'mad1l1', 'skap1', 'wfdc12', 's100a7a', 'itga4', 'tmem209', 'ldhb', 'dusp9', 'rab5if', 'pcdhb1', 'cybc1', 'txndc11', 'chaf1a', 'mep1b', 'esx1', 'med21', 'c12orf73', 'rax', 'agxt', 'psma1', 'kyat1', 'plcl2', 'pramef6', 'nxt2', 'kdm3b', 'rfc1', 'thap9', 'cd19', 'or13c4', 'tsc1', 'pskh2', 'plaat2', 'exoc2', 'ptpn21', 'snrpc', 'znf695', 'lce5a', 'ldb1', 'slit3', 'lypd8', 'fam222a', 'lrif1', 'gpr157', 'ncr2', 'rlim', 'or5i1', 'ccdc59', 'kif6', 'slitrk4', 'farsa', 'hpdl', 'znf714', 'mrm3', 'cdk5r2', 'c2orf50', 'ces1', 'fam83f', 'rad54l2', 'tiam2', 'mab21l3', 'timp4', 'dhrs2', 'iqca1', 'spanxn2', 'zcrb1', 'bhlhe40', 'myl1', 'nppb', 'zfp64', 'wdr93', 'pde4a', 'osbpl5', 'itgb3', 'nrip1', 'nutf2', 'atf6b', 'cetn2', 'bnc1', 'sec24c', 'cc2d2a', 'abhd13', 'mapre1', 'nt5c3b', 'pqbp1', 'ubr7', 'tpsg1', 'cnot10', 'atp6v0a1', 'vmo1', 'nek4', 'acp5', 'golga6l2', 'smcp', 'dctn4', 'nkrf', 'lactbl1', 'ptprq', 'slitrk3', 'srrm1', 'top3a', 'mt1e', 'snapc1', 'thbs1', 'stc2', 'lims2', 'dpy19l1', 'slc35d1', 'cdc45', 'sgcb', 'agrp', 'ndufb11', 'hprt1', 'btg3', 'nsd1', 'pdcd5', 'ptgr2', 'lhfpl3', 'cs', 'fam162a', 'ifi27l1', 'dock4', 'btnl9', 'or2t12', 'derl3', 'rmi2', 'thap7', 'tmem177', 'wapl', 'pcolce2', 'c1qtnf4', 'bpgm', 'nemf', 'f7', 'chsy1', 'fgf8', 'clk2', 'dnd1', 'tgfb2', 'ctdsp2', 'gna11', 'tmx3', 'chrnb1', 'gpr183', 'cse1l', 'cemip', 'abi2', 'yipf7', 'adgre5', 'btf3', 'chrne', 'ap3m2', 'mcur1', 'fabp7', 'cox7c', 'fam71d', 'mid2', 'yif1b', 'fhod3', 'gcfc2', 'nuak2', 'crym', 'fbp1', 'ccni', 'gfra2', 'mosmo', 'cdca7l', 'pcnt', 'rfpl3', 'gtf2h3', 'hal', 'cyfip2', 'ttc31', 'hdac11', 'mapk14', 'taar9', 'mrnip', 'vwa7', 'mapre2', 'egr3', 'jade2', 'gna15', 'lipa', 'spata31e1', 'stat3', 'sh3d21', 'gpr180', 'fat3', 'nod1', 'cspp1', 'tmem120a', 'ndufaf1', 'ccdc179', 'fbxo44', 'caprin1', 'sectm1', 'aadacl3', 'galntl5', 'or52l1', 'ncapg2', 'bcan', 'tppp', 'pc', 'znf669', 'tat', 'smpdl3b', 'agrn', 'als2cl', 'aplp2', 'insc', 'raver1', 'scgb1d4', 'klhdc2', 'mgst2', 'lpo', 'ikzf5', 'odr4', 'tsr1', 'nol9', 'tgif2ly', 'eloa2', 'setdb1', 'agtrap', 'gng7', 'rfpl2', 'slc13a5', 'chp2', 'prps1', 'cd83', 'b3gnt5', 'cd3g', 'lancl1', 'jkamp', 'hoxd13', 'znf502', 'myh8', 'prc1', 'ripply1', 'sav1', 'lsm14b', 'daam2', 'ifit3', 'sema3b', 'snrnp70', 'abca13', 'sbno2', 'plac9', 'pde3b', 'sh2b1', 'tmem26', 'bbs10', 'ccdc153', 'nudt13', 'slc32a1', 'pgm1', 'sumo2', 'nenf', 'or10h5', 'rp9', 'trpm3', 'cldn23', 'nup98', 'bbx', 'qrfpr', 'zmat3', 'ube2i', 'plpp6', 'angptl1', 'cln5', 'fmn2', 'prss23', 'mepce', 'cdc25a', 'tspan14', 'bcl2l13', 'tbc1d7', 'rhoxf1', 'lifr', 'wbp1', 'fdxacb1', 'dlx4', 'rims3', 'glyctk', 'cav1', 'celsr2', 'trio', 'rrp1', 'man2b2', 'ppp1r2c', 'tmem217', 'tnrc18', 'slc6a4', 'cyp4f8', 'lig4', 'dpf1', 'itln2', 'gramd1b', 'klhl13', 'tac3', 'znf282', 'pkp4', 'fbxo31', 'trappc12', 'ccdc6', 'nptx2', 'becn2', 'asb14', 'orc5', 'prep', 'tial1', 'zg16', 'btbd7', 'arpc1b', 'chm', 'kazald1', 'mnd1', 'or51a7', 'parp15', 'chchd3', 'wfdc8', 'ercc4', 'tmco2', 'ankrd44', 'casp2', 'htatip2', 'fut1', 'rpia', 'usp3', 'vmp1', 'c11orf97', 'gng2', 'mycn', 'paqr4', 'tfdp3', 'dlx2', 'gckr', 'foxg1', 'paqr7', 'ubqln3', 'prss35', 'efhc1', 'npnt', 'rnf216', 'cabp5', 'hmox2', 'lztr1', 'c3orf56', 'gsk3a', 'colec11', 'c9orf131', 'lipj', 'or7d4', 'col10a1', 'zp2', 'c16orf74', 'c1orf198', 'eloa', 'iapp', 'jrk', 'pten', 'adat3', 'parva', 'znf200', 'ccdc116', 'vip', 'maf1', 'opcml', 'ifi35', 'twist1', 'smarcad1', 'myo9b', 'eif1ax', 'apobec2', 'msantd4', 'arhgap8', 'tmem273', 'guca1b', 'il4i1', 'clec20a', 'septin4', 'hoxb9', 'raver2', 'adgra3', 'ctxn3', 'mcoln1', 'kcnb1', 'nps', 'herc1', 'ireb2', 'ccdc189', 'pcdhb9', 'mt-nd4l', 'reg1b', 'ugdh', 'mrgprf', 'oxr1', 'astl', 'prr14l', 'mfsd4a', 'or4p4', 'cetp', 'pkhd1', 'prkce', 'rnf5', 'rgs10', 'cux2', 'kif3c', 'cryzl1', 'pitpna', 'slamf7', 'pard3', 'smc1b', 'uqcr10', 'nxn', 'chrna2', 'dcaf15', 'tspo2', 'sez6l2', 'kiaa0232', 'mxra8', 'tdrd3', 'ugt8', 'pltp', 'col22a1', 'tph1', 'bex4', 'aqp5', 'arhgap39', 'ccnb2', 'calca', 'ptpre', 'ralbp1', 'scg5', 'abca3', 'scn11a', 'itga11', 'tmem159', 'cyp11b1', 'mib2', 'ccdc61', 'cpo', 'snap91', 'tigd4', 'c6orf163', 'sar1a', 'triqk', 'usp33', 'zscan23', 'gfral', 'c1orf122', 'acaa1', 'upk3b', 'ier2', 'znf628', 'c1orf131', 'spata9', 'pdcd4', 'gal3st3', 'klk12', 'commd5', 'ska2', 'c1orf109', 'snx4', 'g6pc2', 'cops3', 'angpt2', 'psmd9', 'rnf185', 'cldn9', 'grin2a', 'pou6f2', 'otp', 'pigm', 'tprg1', 'dusp7', 'dpagt1', 'bcat2', 'lrrc20', 'serpinb5', 'fbxo28', 'nid1', 'fam171a2', 'fancc', 'sypl2', 'atoh7', 'c17orf113', 'fam110a', 'gpr84', 'spaca4', 'anxa13', 'mettl27', 'qtrt1', 'spata31a5', 'syncrip', 'aldoc', 'alpk1', 'isl2', 'mageb18', 'dusp15', 'alkbh6', 'dand5', 'sp3', 'phka2', 'phykpl', 'taf11l11', 'uqcrc2', 'bri3bp', 'med18', 'xpnpep1', 'atad2b', 'spata7', 'usp1', 'ccdc17', 'cbx2', 'dhfr', 'hes1', 'kiaa1671', 'neil3', 'chpf2', 'smc6', 'znf559', 'kcna1', 'fmnl3', 'hoxc6', 'cyp3a7', 'med6', 'elp5', 'milr1', 'otulinl', 'kif27', 'pes1', 'phf19', 'pramef11', 'lpar2', 'boc', 'rhce', 'adam32', 'ankfn1', 'gmeb1', 'cirbp', 'or4d1', 'siglec6', 'smim26', 'tex9', 'zim3', 'znf850', 'zmym3', 'm1ap', 'rab5a', 'ppp1r37', 'tgfbr3', 'phactr2', 'map2k7', 'thap1', 'anxa2r', 'fkbp15', 'tarbp2', 'znf329', 'ngf', 'panx1', 'rab39a', 'fam171b', 'cluh', 'nags', 'alg2', 'tdp1', 'ephx2', 'or1s2', 'marco', 'anapc15', 'cplx4', 'ervk3-1', 'or10c1', 'scube3', 'kif2b', 'cfap57', 'tbx10', 'mcf2', 'slc6a19', 'slc2a6', 'tead3', 'clec12a', 'tmem81', 'thrap3', 'triap1', 'ermard', 'ctsk', 'creb3l3', 'or6c3', 'homer1', 'asgr2', 'ndfip2', 'capn8', 'inhbe', 'mtrr', 'cyba', 'tnfrsf19', 'sowahb', 'tcf7l2', 'armc5', 'nudt7', 'mtor', 'zmat2', 'nog', 'vav3', 'adamdec1', 'mcm3', 'apbb1ip', 'sfrp1', 'wdr31', 'adhfe1', 'cga', 'glb1', 'nek7', 'znf774', 'znf112', 'zxdc', 'scml4', 'gkap1', 'il10ra', 'tmem35a', 'hspa6', 'txndc17', 'kat8', 'rmnd1', 'mc2r', 'mtcl1', 'krt39', 'ffar1', 'fam131a', 'vrk2', 'c1orf127', 'abt1', 'c16orf46', 'foxq1', 'ica1', 'disp2', 'c1orf159', 'fzd10', 'rasgef1c', 'psg6', 'cdk9', 'clcn7', 'cck', 'ptpn11', 'aldh8a1', 'ppid', 'gid4', 'aqp10', 'tfg', 'apol2', 'rusc1', 'cryl1', 'kcna5', 'mpo', 'rgl2', 'nipa1', 'tmem220', 'trim10', 'nobox', 'znf483', 'haus1', 'pygo1', 'ppp2r1a', 'trappc3', 'gpsm3', 'wdhd1', 'hecw1', 'il32', 'asprv1', 'frmd4a', 'krt34', 'ctcfl', 'polr2b', 'grhl1', 'pdia2', 'hsd17b1', 'ankdd1a', 'ccdc68', 'mdm2', 'actg1', 'mageb17', 'slc38a2', 'wdr35', 'csf1', 'fam126a', 'prnd', 'c9orf72', 'gpr6', 'hnrnpcl2', 'dnajc10', 'dysf', 'dpyd', 'eid2', 'gpa33', 'serping1', 'il36g', 'slc39a10', 'tmem52b', 'znf77', 'anks3', 'pld4', 'srrm2', 'lrp4', 'arhgap5', 'dnali1', 'adamts5', 'ldlrap1', 'mcrip1', 'tom1', 'ccl27', 'rab2a', 'znf536', 'purb', 'abhd12', 'ldhd', 'slc2a8', 'diaph2', 'jrkl', 'lrrc26', 'tet2', 'znf687', 'orai3', 'scart1', 'erp27', 'abca12', 'clec18a', 'znf821', 'flg', 'dll3', 'dclre1a', 'c1qtnf7', 'clpsl1', 'cryba1', 'prdx3', 'mrs2', 'csf2', 'iars2', 'mt-nd6', 'oip5', 'cct6b', 'or10v1', 'stpg3', 'znf20', 'znf420', 'c10orf120', 'bmpr2', 'abcg5', 'zc3h15', 'btnl8', 'plekhg5', 'pdia3', 'srd5a3', 'gdf2', 'serpina4', 'sorbs1', 'tcirg1', 'krt77', 'il18', 'hmgb4', 'ncstn', 'prkab1', 'rel', 'epb41l4b', 'arpc5', 'nob1', 'wfdc1', 'tex51', 'coprs', 'rs1', 'cops7b', 'serpine3', 'cdk12', 'mlf1', 'asic1', 'timeless', 'brd3os', 'tmem109', 'skida1', 'pam16', 'slc25a41', 'fam180b', 's100a12', 'zscan20', 'prtg', 'dscc1', 'niban3', 'nkg7', 'krtap26-1', 'crispld1', 'crybg1', 'nat1', 'cxcl12', 'fam71b', 'lhx3', 'vegfb', 'gdap2', 'blk', 'styx', 'eif2ak2', 'cpne6', 'il17f', 'htr4', 'npsr1', 'or2t4', 'rrp15', 'ca4', 'pank4', 'anapc4', 'cacng1', 'oxld1', 'plxna2', 'maneal', 'nphs1', 'krt10', 'crygc', 'map3k13', 'adam15', 'myom2', 'tmeff1', 'tmem141', 'znf195', 'kbtbd6', 'rarres2', 'ruvbl1', 'tbc1d9b', 'c3orf22', 'tsks', 'or52k1', 'snx3', 'sptbn5', 'slc33a1', 'pla1a', 'rfx7', 'sertad3', 'fam13a', 'anxa10', 'kpna6', 'limd1', 'ttpa', 'znf436', 'rmdn2', 'lipk', 'tma16', 'ankrd60', 'rpp25', 'fgf14', 'tex38', 'yaf2', 'ctrc', 'epm2aip1', 'duxa', 'sdad1', 'prr18', 'cavin2', 'tex45', 'tsen2', 'fgf7', 'lrrc8d', 'btbd1', 'prpf40b', 'yy1ap1', 'epha5', 'ece1', 'abhd16a', 'pcbd2', 'pom121l12', 'prickle3', 'trim71', 'znf391', 'clip4', 'spire1', 'ntn3', 'sipa1l1', 'arhgef12', 'shc3', 'tmem218', 'sap30bp', 'clmp', 'c11orf24', 'mapk3', 'kif13a', 'cd7', 'bcl2l15', 'hoxc13', 'prdx5', 'pcsk2', 'cda', 'slc2a7', 'ehd3', 'kif16b', 'rad52', 'unc13d', 'irgq', 'pigk', 'tube1', 'plpp2', 'btla', 'klhl22', 'ccdc85c', 'pde8a', 'dedd', 'kcnb2', 'bhlhe23', 'pde6a', 'tm6sf2', 'cd84', 'tm7sf2', 'bap1', 'dtna', 'znf334', 'zfp62', 'nlgn4y', 'dusp1', 'atp13a4', 'lhx6', 'sv2c', 'dmbx1', 'bcl2l12', 'c20orf85', 'ceacam3', 'pkd1l1', 'itm2b', 'vmac', 'zc3h14', 'atp2a2', 'rhov', 'c14orf119', 'anp32e', 'gprasp2', 'upf3b', 'csnk2b', 'tmem68', 'arpin', 'krtap20-2', 'mmp3', 'tigar', 'thy1', 'ptprr', 'nlrp13', 'casp8', 'il17rd', 'dus3l', 'dpy30', 'ripk3', 'znf98', 'cadm1', 'acsm3', 'gipr', 'ankib1', 'dppa5', 'kcna4', 'rab10', 'znf366', 'zscan10', 'syf2', 'naalad2', 'slc25a6', 'sult1c3', 'tmco4', 'xkrx', 'fkrp', 'rab24', 'micos13', 'ccr5', 'slc15a1', 'mdga2', 'kdr', 'smg8', 'tmem201', 'ggt1', 'znf45', 'dhx35', 'mtfr1l', 'cdc42ep5', 'rufy2', 'mmut', 'ldah', 'selenom', 'ucp3', 'cct8', 'or8h2', 'fam181b', 'tasor2', 'ndnf', 'ypel3', 'omg', 'suds3', 'cdkn2aipnl', 'or5j2', 'znf17', 'chordc1', 'lin9', 'strip1', 'tmem60', 'zcchc3', 'ptgr1', 'krtap21-1', 's100g', 'spata12', 'pkdcc', 'stk19', 'ca10', 'rpusd2', 'ppdpf', 'id1', 'slc38a5', 'abcc2', 'cd300lb', 'chrna7', 'cnnm4', 'foxe1', 'or52r1', 'phf3', 'pi4k2a', 'pttg1ip', 'rbpms2', 'pbdc1', 'slc9a6', 'ccdc181', 'nme7', 'dmpk', 'lmbrd2', 'ppp1r13b', 'snx15', 'supt5h', 'oaz3', 'arhgap17', 'diras2', 'zc3hav1', 'fezf1', 'apold1', 'ttf2', 'tac1', 'hexb', 'fkbp1b', 'srsf4', 'icam5', 'ccdc192', 'tex13c', 'adcy2', 'isx', 'megf10', 'padi1', 'itm2a', 'apip', 'fcgbp', 'use1', 'usp41', 'zbtb7c', 'efcab13', 'c1orf43', 'tuba4a', 'cmip', 'shb', 'znf618', 'sult2b1', 'rbmxl3', 'smim7', 'tank', 'plin4', 'haus3', 'pcdhga3', 'pik3cd', 'ndn', 'sesn3', 'pglyrp1', 'rnase1', 'lrrc66', 'hnf1b', 'krtap12-1', 'slc16a8', 'raf1', 'spen', 'lsp1', 'calhm2', 'ca11', 'tubb', 'cdk1', 'or5m11', 'wdr37', 'kiaa1586', 'tmem214', 'cpa3', 'dusp18', 'mfsd10', 'zdhhc9', 'csh2', 'defb123', 'arhgap35', 'dqx1', 'atox1', 'gpd1l', 'arnt2', 'asb11', 'dctn3', 'ppl', 'dcaf8l1', 'or51q1', 'lgals1', 'synpo', 'ipp', 'ucma', 'tifab', 'fbxo16', 'enam', 'rbm24', 'cfap206', 'ipo9', 'ppic', 'tfcp2', 'gpank1', 'gatad1', 'kmt5b', 'kdm4a', 'chrd', 'c19orf18', 'sirt2', 'capn13', 'nkx2-1', 'traf7', 'znf326', 'smg1', 'ctss', 'exoc8', 'sp9', 'canx', 'wnt3a', 'dph7', 'n4bp2l2', 'polg', 'or13c5', 'prkx', 'or2m4', 'prmt5', 'tas2r7', 'tufm', 'osbpl2', 'mxd1', 'nkain3', 'ttc12', 'epha3', 'exd1', 'alg11', 'e2f1', 'gatd1', 'klhl31', 'fcrl4', 'pou6f1', 'znf696', 'lilrb1', 'cnbd1', 'gng12', 'psma2', 'mdh2', 'timm21', 'mpz', 'ugt2b10', 'arfgef2', 'rab25', 'steap3', 'pou1f1', 'slc30a9', 'ciart', 'dock3', 'or4c5', 'rnf183', 'nhlrc1', 'batf', 'lrrc45', 'rap2b', 'sec61b', 'ift122', 'zbtb37', 'smtnl2', 'st6galnac4', 'clcn6', 'sult4a1', 'bend5', 'nup43', 'zmym2', 'myoz2', 'r3hcc1l', 'bpifa3', 'kdm6a', 'krtap5-3', 'tspan4', 'cmc4', 'pnpla7', 'serpina6', 'zc2hc1c', 'c1orf158', 'asic3', 'ssx7', 'xkr4', 'exosc7', 'ceacam21', 'ppp2cb', 'brd8', 'krt33a', 'lbhd2', 'znf574', 'awat2', 'casq2', 'dhrs3', 'prkdc', 'rgs8', 'lpcat3', 'popdc2', 'bola3', 'cpeb1', 'fam83g', 'amn', 'c9orf116', 'mvb12b', 'arsg', 'phf8', 'c11orf58', 'slc48a1', 'sntb1', 'spint2', 'fzd4', 'armh3', 'rcbtb1', 'ghrh', 'scamp1', 'slc6a5', 'ubc', 'lgals8', 'adgre3', 'gipc1', 'slc35a3', 'ankrd13b', 'ric8a', 'spindoc', 'sergef', 'brms1l', 'upp1', 'nr5a2', 'golim4', 'smco4', 'rhbg', 'lpgat1', 'or10d3', 'plce1', 'tbc1d28', 'gna14', 'uba7', 'reep3', 'shfl', 'tfap2d', 'ykt6', 'eepd1', 'pcdhb5', 'atg4c', 'or2t6', 'ubtf', 'c18orf54', 'fam216a', 'crtap', 'glipr1', 'bscl2', 'fdx2', 'znf131', 'mia', 'tfr2', 'grb10', 'ankdd1b', 'gemin7', 'nostrin', 'smlr1', 'or10h4', 'slc25a16', 'ifna6', 'fbxo6', 'syp', 'akr7a2', 'atp5f1a', 'map4k4', 'tfb2m', 'lhfpl1', 'tubb8', 'bdkrb1', 'pim2', 'tbck', 'kxd1', 'vps39', 'fshb', 'znf708', 'stim1', 'prr35', 'rxfp1', 'il5', 'plau', 'nova1', 'prodh2', 'haus5', 'cyp2e1', 'psd2', 'znf674', 'fbxo2', 'grpel2', 'c1orf100', 'pak3', 'taf11l13', 'ranbp3l', 'phf11', 'ralgps1', 'tmprss7', 'scap', 'cryba4', 'shank2', 'timm8a', 'htra4', 'shmt2', 'or13h1', 'sorbs3', 'nmb', 'usp45', 'polr3c', 'cul5', 'mef2b', 'ccdc82', 'zdhhc21', 'col17a1', 'ces3', 'bbs1', 'bmp4', 'kpna7', 'natd1', 'kcnj11', 'or52d1', 'syn3', 'rab41', 'slc10a6', 'amigo2', 'myl12b', 'serpine1', 'mcat', 'mtmr10', 'errfi1', 'arhgef26', 'crebl2', 'kif17', 'clcn5', 'larp4b', 'parpbp', 'scyl1', 'rsph14', 'slf2', 'rspo2', 'cops5', 'fadd', 'plscr4', 'emd', 'heatr5b', 'ttll8', 'tars2', 'cfap100', 'atp1a3', 'pla2g12b', 'slc4a3', 'cgas', 'ankrd53', 'nhp2', 'ppp1r9a', 'gpr37l1', 'kdm6b', 'znf766', 'mfsd11', 'odf3l1', 'adamtsl5', 'usp35', 'kit', 'tmem47', 'tcf7', 'bcl7a', 'znf146', 'cntrl', 'mdm1', 'pdzd7', 'rab27b', 'arhgap33', 'sharpin', 'tcl1b', 'erbin', 'anxa3', 'hnrnpdl', 'cacnb4', 'or5h2', 'clic5', 'pkd2l2', 'chst14', 'ifna2', 'mgp', 'iffo1', 'rfc4', 'sema5b', 'ms4a3', 'srrd', 'flnb', 'vcpip1', 'ramp2', 'acbd5', 'letm1', 'rbm15', 'ints10', 'krtap23-1', 'lrrc37a3', 'lhb', 'plxna4', 'mtnr1a', 'c16orf71', 'spry3', 'cd55', 'itgb5', 'smad4', 'grm7', 'mical1', 'rnf141', 'emg1', 'krtcap3', 'tff2', 'lamb4', 'znf518b', 'spata31d3', 'ndufa3', 'ntrk1', 'trub2', 'rab1b', 'chchd5', 'cacna1f', 'fitm2', 'myb', 'tulp4', 'uxs1', 'or10s1', 'pgm2l1', 'uhrf2', 'lrig1', 'acadsb', 'or5m9', 'abca5', 'tex101', 'vamp7', 'sh3rf2', 'znf385b', 'bpifc', 'klhl18', 'hacd1', 'slc2a1', 'smim13', 'mier2', 'nphp4', 'pcnx3', 'cox6a1', 'fbxo15', 'asxl2', 'lmna', 'rgs2', 'trpv1', 'krtap29-1', 'adora3', 'p2ry1', 'ghr', 'arfgef1', 'znf556', 'tmem230', 'rspry1', 'c6orf52', 'cyp2u1', 'myh4', 'znrd2', 'fam120aos', 'zan', 'neurl1b', 'tnfaip1', 'spock2', 'or2c3', 'spata2l', 'ncor2', 'znf580', 'ube3c', 'gcc2', 'git2', 'ppargc1b', 'tmtc2', 'extl3', 'coq6', 'sstr4', 'luc7l2', 'gjd4', 'nipsnap1', 'slc22a31', 'znf248', 'krtap17-1', 'inafm1', 'fndc7', 'six1', 'paqr8', 'gbp6', 'trmt9b', 'basp1', 'mmp16', 'spryd4', 'sptbn1', 'cd79a', 'oprpn', 'zgrf1', 'c2orf72', 'lyrm2', 'znf534', 'cetn1', 'dzip1', 'hk3', 'smc3', 'tiparp', 'c12orf57', 'aifm3', 'garem1', 'pcyt2', 'camta1', 'gps1', 'pdilt', 'rock2', 'fam168b', 'fbxo46', 'hpse', 'arhgap21', 'imp4', 'nuggc', 'nup62', 'slc38a1', 'sowaha', 'ppfibp2', 'rnf181', 'b3galt2', 'hadha', 'spink9', 'tmc4', 'galnt16', 'lhpp', 'rbis', 'znf778', 'ptar1', 'ninj2', 'dclre1b', 'nanogp8', 'lpar4', 'kat6b', 'pgpep1l', 'clec18c', 'plag1', 'smoc2', 'cds1', 'cwh43', 'krit1', 'pif1', 'tmcc2', 'tmem202', 'fcer1g', 'pcmtd2', 'uroc1', 'cby1', 'c1qc', 'ank2', 'etfbkmt', 'kynu', 'htr5a', 'gramd1c', 'mip', 'scly', 'tuba1a', 'tmem65', 'prr16', 'golgb1', 'krbox1', 'slc10a5', 'syt8', 'actr1a', 'irf2', 'utp3', 'znf557', 'c1rl', 'tbc1d22a', 'syt17', 'foxn3', 'anp32a', 'b3galt1', 'mfn2', 'mmp8', 'tbc1d3b', 'snca', 'coa5', 'c2cd6', 'serpina10', 'rsrc2', 'plcd3', 'mt1hl1', 'pidd1', 'or56a4', 'rmi1', 'krtap6-3', 'znfx1', 'taar2', 'gapvd1', 'ttpal', 'gtf3c4', 'tp53', 'csnka2ip', 'runx2', 'gprc6a', 'fpgt', 'pga5', 'taf4b', 'trpm5', 'utf1', 'rtl9', 'oxer1', 'a1cf', 'ubxn2b', 'dffb', 'gimap6', 'rmc1', 'znf461', 'c1orf53', 'fam83a', 'insl3', 'cped1', 'ccl19', 'klhl38', 'eef1aknmt', 'fndc10', 'entpd6', 'spata2', 'tp53i11', 'srp68', 'chek1', 'acvr1c', 'cfap298', 'arhgef5', 'cxorf58', 'upb1', 'elk1', 'purg', 'pou2f1', 'crybb3', 'btbd2', 'senp7', 'nanos1', 'spty2d1', 'adrm1', 'fabp12', 'hras', 'nthl1', 'ap1s1', 'timm29', 'cdipt', 'tesc', 'ccr8', 'dna2', 'dpysl4', 'gfi1', 'ripor3', 'dnal1', 'reln', 'dolpp1', 'zswim7', 'xk', 'slc43a1', 'fam180a', 'slc16a13', 'btnl3', 'supt6h', 'eif2b1', 'sytl4', 'cebpzos', 'nfe2l1', 'thnsl1', 'gtpbp2', 'rln1', 'slc4a4', 'kctd4', 'gabrb3', 'ckap4', 'cpsf3', 'slitrk1', 'inpp1', 'xkr7', 'krtap4-5', 'foxr1', 'dgcr8', 'znf319', 'tshz3', 'mt1x', 'arl6ip4', 'znf274', 'dynll1', 'nxt1', 'ydjc', 'aga', 'znf367', 'rheb', 'myh1', 'nfxl1', 'egfr', 'ccdc71l', 'rhobtb2', 'tomm5', 'ccl5', 'zxdb', 'asmtl', 'kctd16', 'arhgef15', 'slc9b2', 'tnik', 'lyzl4', 'rapsn', 'cntnap2', 'pou3f3', 'pwwp2b', 'pcsk9', 'adipor2', 'usp40', 'trpc6', 'tubb6', 'cndp2', 'mapkapk2', 'fnip1', 'rec114', 'pofut2', 'faslg', 'bnip2', 'prkacb', 'rnf215', 'gen1', 'baiap3', 'rfxank', 'ttc13', 'ttc22', 'slc12a8', 'srp19', 'tia1', 'mast4', 'ascl4', 'adcy7', 'tmem237', 'hspa1a', 'adrb2', 'krba1', 'ercc8', 'naa11', 'tapbpl', 'nphp3', 'ksr2', 'stk33', 'nfia', 'slk', 'ccdc88a', 'ankrd40', 'sirpb2', 'adamts17', 'creb3l4', 'cebpd', 'dhrs13', 'tcte1', 'tex36', 'rassf5', 'tmem241', 'tnnc1', 'zc3h7a', 'etfb', 'src', 'depdc4', 'szrd1', 'ckap2l', 'tal1', 'ifna7', 'tbx2', 'calcb', 'sfswap', 'tubgcp2', 'znf735', 'cpne5', 'dcaf7', 'ppp1r3e', 'enox2', 'spata5', 'gabra4', 'krt86', 'mak16', 'ccdc121', 'rbl1', 'cnot6', 'slc9a7', 'spdye5', 'capsl', 'ascc1', 'tmem225', 'nell2', 'tomm70', 'mybphl', 'kcnip2', 'znf30', 'arid5b', 'pnpo', 'ctla4', 'pde12', 'atxn7l1', 'atp13a5', 'csrnp1', 'dazap2', 'gsta2', 'acbd7', 'ints12', 'cisd1', 'nr1i3', 'osr2', 'crkl', 'snw1', 'slc17a3', 'trappc1', 'cc2d2b', 'or10j5', 'pip4p2', 'semg1', 'nr2f1', 'pvr', 'limk1', 'creg2', 'zdhhc18', 'pigf', 'rptor', 'cdca3', 'mapk1ip1l', 'lcn8', 'trim63', 'rnf146', 'dmac1', 'bst2', 'c7orf26', 'dcdc2b', 'rab42', 'prpf19', 'them6', 'hgh1', 'gabrr1', 'gja4', 'trak1', 'nkx2-6', 'bcar1', 'eef1akmt1', 'fdcsp', 'ptprc', 'aurkaip1', 'ints13', 'trank1', 'ttc38', 'ptpn13', 'adam30', 'hgd', 'tmprss13', 'ulbp3', 'tmem247', 'crct1', 'ebpl', 'tle2', 'c7orf31', 'thada', 'ackr2', 'znf709', 'mapk9', 'nectin2', 'cherp', 'polr1a', 'cysltr2', 'lhfpl2', 'mdfic2', 'map7', 'enpp1', 'rnf227', 'filip1l', 'mfap2', 'ppef1', 'uhmk1', 'inava', 'ccdc88b', 'ap1g2', 'paaf1', 'wdr45', 'obp2a', 'rabggta', 'amy2a', 'c9orf43', 'cog6', 'dnase1l1', 'c17orf78', 'slco1b3', 'yeats4', 'slc15a3', 'lhfpl6', 'pola1', 'c19orf12', 'rrm1', 'wbp2', 'ccsap', 'crebbp', 'bms1', 'eml5', 'klhl26', 'tpte2', 'or52a1', 'ppm1l', 'fam90a1', 'iffo2', 'kcnj4', 'kcnn1', 'paqr9', 'serp1', 'adamts12', 'shpk', 'slit2', 'twnk', 'ndufa10', 'med27', 'hepacam2', 'kyat3', 'cyld', 'dock6', 'gatm', 'dsc3', 'fam102b', 'hesx1', 'il17ra', 'ppp1r3g', 'tlr2', 'cc2d1b', 'anapc5', 'cavin3', 'gsta1', 'npy', 'pop1', 'dmrtc2', 'pigq', 'rdh10', 'nif3l1', 'snta1', 'arhgef25', 'fndc3b', 'erbb2', 'tmigd2', 'muc2', 'il12rb2', 'wnt7b', 'ercc6l2', 'htr7', 'pde1a', 'csnk1g1', 'kitlg', 'atg12', 'eaf1', 'slc12a6', 'bivm', 'c5ar1', 'pus10', 'lig1', 'pkd1l3', 'sec14l2', 'rap2a', 'kifc3', 'mapk12', 'vegfa', 'klf13', 'uprt', 'adcyap1', 'homer3', 'slc26a6', 'prop1', 'nol8', 'krt35', 'zbp1', 'cercam', 'wasf2', 'hdac8', 'abcb6', 'gcc1', 'sec16b', 'sec11a', 'tmem140', 'psd4', 'tent5d', 'tmem168', 'fgfr2', 'ugt2a3', 'plekha8', 'rgr', 'slc22a3', 'larp1', 'prrt1', 'ugt2a2', 'gata5', 'prdm14', 'hey1', 'vps13d', 'ctr9', 'furin', 'ugt1a5', 'pdia6', 'wscd1', 'plod1', 'psmd12', 'or2b2', 'snrnp40', 'stmn4', 'phf21b', 'ppip5k2', 'chrnb2', 'tcp11x1', 'mapre3', 'unc5a', 'wdr91', 'ccdc13', 'tmlhe', 'rhoa', 'nudt16', 'cd200r1l', 'syt7', 'ppa1', 'bend4', 'smarcb1', 'gnal', 'ccdc28b', 'nipal1', 'tecrl', 'aftph', 'gucy1a1', 'p2rx3', 'clec3b', 'gatc', 'spata32', 'nos3', 'znf154', 'znf852', 'cerk', 'dnajb12', 'rnf39', 'ttc4', 'mcm8', 'rpgr', 'asb6', 'cyp27a1', 'slc18a2', 'trim7', 'srebf1', 'slc22a18as', 'pcdh12', 'slc26a4', 'ptbp1', 'mterf1', 'cbfa2t3', 'syt16', 'npm3', 'dad1', 'pctp', 'tmem244', 'or52n4', 'arrb1', 'cenpn', 'rfx5', 'mapkapk3', 'acmsd', 'epgn', 'poc5', 'hnrnpul2', 'tac4', 'or6k6', 'acer1', 'fam172a', 'zbtb12', 'clvs2', 'fam133b', 'foxe3', 'defb128', 'kcnmb4', 'pnma8a', 'spatc1', 'mpp2', 'cant1', 'ctse', 'utp14a', 'cpxm2', 'lsm8', 'mthfs', 'tcta', 'map1a', 'stard10', 'snx25', 'pafah1b3', 'vwa5b2', 'zpbp2', 'urb2', 'luzp1', 'rergl', 'marcksl1', 'pdpr', 'zcchc13', 'pgs1', 'ltbp3', 'atxn7l3b', 'apoa2', 'dyrk1a', 'exoc1', 'il36b', 'zfhx4', 'pygm', 'npy5r', 'elf2', 'sigmar1', 'krtap13-2', 'rtl5', 'tlcd4', 'usp4', 'zrsr2', 'krtap9-6', 'nbn', 'leng9', 'nudcd3', 'atat1', 'fgf13', 'crtc2', 'nxpe1', 'fastkd1', 'prr32', 'znf232', 'ctdspl2', 'atg9b', 'ube2j1', 'ascl2', 'c22orf39', 'gpat3', 'pdzrn3', 'pex7', 'rnf11', 'mdga1', 'casp5', 'ddx43', 'hs6st2', 'f2r', 'lrrc46', 'nemp2', 'nsmce1', 'elk3', 'dlg1', 'cstf1', 'itprid1', 'adamts7', 'zfyve27', 'fscb', 'mif4gd', 'prps1l1', 'lama3', 'rnf17', 'c22orf42', 'brwd1', 'hyou1', 'cpxcr1', 'asb8', 'st6gal1', 'hccs', 'st3gal1', 'mki67', 'cenpa', 'tmco1', 'ankmy1', 'ppp4c', 'crbn', 'vav1', 'ccdc60', 'akap6', 'tmsb10', 'frmd1', 'zdhhc11b', 'znf354b', 'arntl', 'prmt6', 'ccdc163', 'rgs9bp', 'clec7a', 'efemp2', 'zscan21', 'iba57', 'myadm', 'hrc', 'clc', 'tomm22', 'kirrel1', 'vwa3b', 'arl8a', 'faxdc2', 'mis18a', 'prkcd', 'hsbp1l1', 'ccl4', 'etnk2', 'kif3b', 'vipr1', 'foxj3', 'baiap2l1', 'hnrnpa3', 'ocrl', 'c2orf15', 'fancg', 'cep128', 'sost', 'dbndd2', 'reep2', 'ankrd66', 'nudt11', 'dusp5', 'znf660', 'ciao2b', 'kat2b', 'wdr38', 'ifi6', 'or5b12', 'rnf130', 'or1i1', 'znf408', 'trim9', 'exosc9', 'antkmt', 'faah', 'cfhr4', 'map3k12', 'gsx1', 'gnat3', 'npipb15', 'tmem39a', 'zfp36', 'prcp', 'eps8l2', 'grid1', 'arl6ip6', 'txnrd2', 'krt20', 'krt15', 'hephl1', 'tceal8', 'znf219', 'net1', 'nck2', 'hspb9', 'rhog', 'slc30a7', 'zdhhc8', 'gpr108', 'dpf2', 'csgalnact2', 'hsfx3', 'cyp11b2', 'mex3b', 'klhl42', 'b9d1', 'cd2ap', 'gpr174', 'ppwd1', 'twist2', 'spata22', 'tprn', 'cpt1c', 'selenok', 'glra3', 'slc10a7', 'snrpn', 'dnttip2', 'kel', 'ppp3r1', 'nr4a3', 'dkkl1', 'isca1', 'cox11', 'pnpla6', 'gas8', 'nifk', 'cep85l', 'or2l5', 'slc19a2', 'ap1ar', 'ppp1r15a', 'ankrd13d', 'vnn1', 'hmg20b', 'krt37', 'marf1', 'rundc1', 'akap4', 'tp53rk', 'mkrn2', 'lrguk', 'nbea', 'tm9sf2', 'c5orf24', 'snrpa', 'adgra2', 'rxfp4', 'tbx21', 'bsph1', 'smad6', 'sucnr1', 'f2rl2', 'znf781', 'crb1', 'rtkn', 'cul3', 'ankrd46', 'fhl2', 'gbgt1', 'lrrc36', 'skor2', 'krt72', 'znf385c', 'gkn1', 'vgll3', 'cbr1', 'unc119b', 'lbx2', 'rd3l', 'ddx31', 'rragb', 'vhl', 'syt9', 'ahnak', 'ssbp3', 'camk4', 'acot9', 'birc7', 'mbnl1', 'dcaf12l2', 'lrrd1', 'mavs', 'jakmip3', 'slc9a1', 'c12orf76', 'nprl3', 'tifa', 'ppfia2', 'ift80', 'btg4', 'crip2', 'anxa6', 'ctdnep1', 'stk25', 'fundc2', 'hsp90ab1', 'ccdc93', 'ebi3', 'osbpl11', 'hand2', 'p2rx2', 'rgs18', 'drd4', 'dnajc27', 'dpp3', 'gtf3a', 'sae1', 'prm3', 'caps', 'crispld2', 'cyp17a1', 'cdk20', 'flna', 'tert', 'fcrla', 'rbp7', 'spg11', 'b3gnt3', 'igfals', 'arhgap27', 'osbpl6', 'smc2', 'akt1', 'rfpl4a', 'mettl6', 'stox2', 'cd320', 'psmb1', 'malt1', 'aebp2', 'tns3', 'st18', 'usp17l15', 'crnn', 'cfap74', 'erfl', 'ecrg4', 'fat1', 'znf808', 'clk1', 'pdgfrb', 'gpr182', 'pacs1', 'ascl1', 'ctsl', 'sgf29', 'spire2', 'ptbp2', 'gpr153', 'ccnk', 'ccdc80', 'coro2a', 'adad1', 'cacna2d2', 'atg14', 'lrrk1', 'alpi', 'gpld1', 'nop58', 'serpinf1', 'tbkbp1', 'epha6', 'saal1', 'krtap12-3', 'fpr2', 'mageb4', 'grm6', 'jmjd8', 'accsl', 'h6pd', 'znf831', 'ugt1a1', 'ahcyl2', 'or5m1', 'nup58', 'spink14', 'tmem196', 'zbed9', 'cabp4', 'romo1', 'zcchc2', 'cemp1', 'fmn1', 'klhl23', 'inhbb', 'nwd2', 'anks1b', 'myoz3', 'or2b6', 'pcyt1b', 'utp23', 'idua', 'ide', 'med30', 'hoxd4', 'tmem100', 'cyp4a11', 's100b', 'zdhhc16', 'or5ar1', 'erg', 'klf8', 'c19orf71', 'plod3', 'clpp', 'brsk2', 'ccdc87', 'hgf', 'nhlh2', 'pcdhgb7', 'scn2b', 'tln2', 'msl2', 'bag4', 'cpne4', 'fads3', 'taco1', 'ston2', 'dhx15', 'or52e8', 'os9', 'csnk1e', 'spock3', 'zc3h10', 'ybx2', 'lin7a', 'gstt4', 'pla2r1', 'slc39a12', 'rnf32', 'bcorl1', 'ddx51', 'slc7a13', 'nrap', 'tpgs1', 'impa1', 'znf227', 'slx4', 'spint4', 'atr', 'lrwd1', 'mtres1', 'dpcd', 'rab3gap1', 'rela', 'vezt', 'ankrd2', 'cenph', 'micu3', 'c3orf49', 'caap1', 'ccdc196', 'nrros', 'col4a4', 'pcdhb13', 'drc1', 'pdx1', 'slc25a42', 'sesn2', 'pnlip', 'smarca2', 'dnah6', 'gamt', 'c17orf75', 'znf492', 'lpcat2', 'flot1', 'mrgbp', 'gpr142', 'lgals16', 'inpp5e', 'castor1', 'gstm1', 'sdcbp2', 'pink1', 'hps6', 'sdhaf4', 'sacm1l', 'mfrp', 'cystm1', 'ubqlnl', 'fggy', 'man1a1', 'armcx2', 'camsap2', 'pnisr', 'slc16a5', 'znf215', 'cbr4', 'ceacam8', 'pcif1', 'tlr10', 'rbck1', 'ankhd1', 'rab33a', 'slc25a13', 'smim38', 'mafk', 'mt-atp6', 'or5a1', 'znf66', 'nefh', 'cd22', 'ccdc115', 'dmp1', 'serpinb6', 'yes1', 'zacn', 'kif22', 'rtraf', 'calm2', 'fam24a', 'wdr49', 'ubtd1', 'clhc1', 'ankrd33', 'smim2', 'mylk4', 'ripor2', 'kctd19', 'prcd', 'alx4', 'auh', 'gprc5a', 'eif6', 'igsf3', 'tbx3', 'sec14l4', 'foxd4', 'galk1', 'dok7', 'alpg', 'ddx58', 'art4', 'cep290', 'egln3', 'abcc12', 'c6orf15', 'scml1', 'iqce', 'camsap1', 'tgfbi', 'ip6k3', 'sh3tc1', 'colgalt1', 'gpd1', 'scgb2a2', 'tti1', 'spata21', 'tle6', 'rabl6', 'rhbdf2', 'rcn2', 'znf543', 'axin1', 'syvn1', 'capn12', 'rtkn2', 'dusp2', 'lce1b', 'gng4', 'nox1', 'paics', 'cert1', 'nanp', 'plekhf1', 'sphk1', 'sox5', 'arhgef18', 'eif4ebp3', 'klk5', 'pusl1', 'prf1', 'or6q1', 'fam117b', 'rab34', 'epha2', 'or51s1', 'wipf1', 'col1a2', 'epc1', 'ccng1', 'ganc', 'prxl2b', 'rnf34', 'ormdl1', 'spin3', 'aox1', 'rhcg', 'gpsm1', 'ccdc174', 'grp', 'acvr2a', 'pcdhga12', 'nrl', 'gtdc1', 'naa15', 'vsig8', 'nceh1', 'znf148', 'smchd1', 'defb112', 'celf5', 'ppdpfl', 'dnpep', 'kazn', 'zdhhc12', 'ing4', 'klhl14', 'puf60', 'acap1', 'klf5', 'kcmf1', 'eif2b3', 'pate4', 'myo3a', 'znf571', 'f11', 'pithd1', 'wdr33', 'nae1', 'trim28', 'tubg2', 'xpo6', 'fam83e', 'zscan12', 'nme2', 'dph3', 'ddx6', 'slc5a1', 'fxyd6', 'tmsb4x', 'tmem38a', 'acad11', 'washc3', 'wdr72', 'swsap1', 'gnb3', 'itsn2', 'or4c12', 'atf7ip', 'qdpr', 'tnfaip6', 'vit', 'sds', 'smdt1', 'pias2', 'map4k3', 'cct2', 'cdon', 'gcm2', 'znhit2', 'ache', 'slc38a4', 'antxr1', 'ddx10', 'mrgprg', 'psmd1', 'ss18', 'sun3', 'rhof', 'crp', 'piwil4', 'tspan7', 'prkacg', 'trim40', 'cxcr1', 'clasp2', 'psen2', 'ckap2', 'rwdd2b', 'mcmdc2', 'ddit3', 'gmppb', 'ifna5', 'lcn15', 'etaa1', 'map3k5', 'or1c1', 'dtx3', 'acot4', 'calhm6', 'lrg1', 'hoxa3', 'apoc2', 'or13a1', 'mgme1', 'gprin1', 'kiaa2026', 'mtmr9', 'tceal7', 'cacnb3', 'pde1c', 'krtap2-4', 'sh3gl1', 'calml6', 'dennd2d', 'lgals3', 'usp46', 'ifng', 'rabl3', 'slc35f1', 'dnah12', 'tmem256', 'xaf1', 'lsm10', 'atp6v0a4', 'tspan17', 'hdhd2', 'osgin2', 'c17orf80', 'irgc', 'rtf2', 'tnfrsf10b', 'diaph3', 'bbs9', 'alyref', 'xrcc1', 'impact', 'cyfip1', 'mthfd1l', 'pitrm1', 'pdcd6ip', 'far2', 'grin1', 'hirip3', 'asb2', 'itpr3', 'myrip', 'sned1', 'nipsnap3b', 'dtx1', 'fam89b', 'znf280c', 'azgp1', 'dhrs1', 'st8sia4', 'zbtb8b', 'nr1i2', 'grik3', 'ano1', 'gucy2c', 'defb4a', 'dpp9', 'or7c1', 'prtfdc1', 'lrrc28', 'ubtd2', 'desi2', 'borcs8', 'spanxn3', 'syt4', 'znf157', 'gpha2', 'c18orf25', 'vamp8', 'gpbp1l1', 'cdkl5', 'mmd', 'cyb5r3', 'phospho2', 'frmpd2', 'mfsd12', 'fam83b', 'ferd3l', 'nsdhl', 'psmg3', 'ppp1r3d', 'pdcd1', 'kbtbd4', 'jpt2', 'virma', 'mmrn2', 'rnase9', 'thoc1', 'kcnj5', 'klk1', 'rcn3', 'dmrtb1', 'vps41', 'vps18', 'fibcd1', 'ppp2r5c', 'slc49a3', 'dock11', 'lipc', 'tra2b', 'ube2d4', 'znf594', 'lrrn1', 'prtn3', 'fkbp6', 'crip1', 'stx1a', 'asic2', 'cygb', 'b4galnt2', 'ncoa3', 'ccr4', 'clec12b', 'tigit', 'osbpl8', 'fam110b', 'sem1', 'mtg1', 'fsd2', 'hdac3', 'eif2b5', 'btbd16', 'ftsj3', 'itpk1', 'pitpnm3', 'gm2a', 'iqca1l', 'scn10a', 'slc23a3', 'sod3', 'ssx2ip', 'rdh5', 'armh1', 'xpa', 'alg9', 'apex1', 'gipc3', 'spred1', 'cerkl', 'ammecr1l', 'cp', 'hbb', 'znf124', 'spag17', 'galnt14', 'tmbim6', 'trerf1', 'eif3h', 'ahrr', 'cd151', 'cfap126', 'spsb2', 'or52a5', 'numbl', 'elavl1', 'or8d2', 'plgrkt', 'sel1l2', 'hps1', 'snx7', 'ewsr1', 'muc5ac', 'glipr2', 'ube2h', 'ildr2', 'llgl1', 'mtus2', 'metap2', 'akr1c3', 'med4', 'or4k5', 'eef1b2', 'cdh16', 'cenpp', 'mpp5', 'enpp5', 'crhr1', 'lmo3', 'ptpn3', 'mmp1', 'ap4s1', 'sat1', 'macrod2', 'znf518a', 'nlgn2', 'hdac4', 'timm17a', 'onecut2', 'krtap3-2', 'inf2', 'cst9l', 'krt36', 'opn4', 'appl1', 'dhcr7', 'fabp9', 'prr19', 'ric1', 'rph3al', 'vsx2', 'atp5mc3', 'mxd3', 'rcbtb2', 'eef1a2', 'rhd', 'p4hb', 'tulp2', 'sprr2b', 'ift52', 'or5d14', 'slc6a6', 'neu4', 'serinc1', 'smyd5', 'gpr150', 'lamtor2', 'golga1', 'ogfod2', 'defb116', 'sel1l', 'reps2', 'swap70', 'dsg4', 'znf426', 'gpr152', 'gpr62', 'sulf1', 'gpnmb', 'grhl2', 'lipn', 'tek', 'c4orf48', 'defa6', 'prpsap2', 'vrk3', 'fam241b', 'nbas', 'or56b4', 'alox15', 'gap43', 'hunk', 'trim77', 'nit2', 'tmem129', 'tshz1', 'or5t2', 'dync1li2', 'prrc2a', 'ankrd34c', 'slc25a10', 'cdh12', 'aagab', 'ccno', 'krtap3-1', 'ankrd10', 'rnf167', 'mxd4', 'rlbp1', 'tas2r9', 'trap1', 'tmem121', 'proz', 'serpinb4', 'pabpc3', 'cytip', 'dek', 'tmem67', 'znf234', 'tmem212', 'ppp1r16b', 'c1orf112', 'npas1', 'amdhd1', 'ltbp1', 'ifit1', 'myo1h', 'arhgef9', 'grb7', 'b3gat1', 'tmed2', 'smim33', 'ccn1', 'kif4a', 'tbc1d24', 'ppp4r3c', 'mamld1', 'efna1', 'higd1c', 'mycbpap', 'znf705a', 'pradc1', 'fndc4', 'rabgef1', 'copb2', 'tmem207', 'kif1c', 'rin3', 'tmem125', 'etv7', 'mettl3', 'dusp8', 'sox15', 'mark4', 'surf4', 'tmem126b', 'cyp2b6', 'arrdc2', 'cd69', 'klhl5', 'gldc', 'myod1', 'pygb', 'cobl', 'socs4', 'sync', 'fam98c', 'hus1', 'sox1', 'nlrp4', 'arl1', 'pappa2', 'phlda1', 'akip1', 'xrcc5', 'sipa1l2', 'ca5b', 'abhd17c', 'timm23', 'asap1', 'csad', 'cntnap1', 'or1q1', 'nadk2', 'snph', 'tmem88', 'cep126', 'enkur', 'znf684', 'kank4', 'wdr25', 'atp6ap2', 'or52w1', 'caskin1', 'pdk2', 'spg7', 'ccdc137', 'or4f6', 'bin3', 'slc9c2', 'oaz2', 'nodal', 'lime1', 'bptf', 'trmt2a', 'atp6v1fnb', 'hspe1', 'znf460', 'kdf1', 'hnrnpl', 'tmem132b', 'shf', 'glyatl3', 'c22orf23', 'chrm1', 'inpp5d', 'kif21b', 'serpini1', 'pcmt1', 'rab27a', 'galnt3', 'plekhg3', 'higd1a', 'ddx18', 'fry', 'hemgn', 'gjb2', 'fam167b', 'gja8', 'lsmem1', 'rbfa', 'coq4', 'klc4', 'znf497', 'lrit2', 'znf16', 'angel1', 'slirp', 'eif2ak1', 'pms2', 'tbc1d31', 'atp5mc1', 'tmem255b', 'penk', 'arcn1', 'clk4', 'ccdc9b', 'pdcd7', 'cyp24a1', 'fcgr3b', 'flvcr2', 'b4galt6', 'dld', 'smim32', 'pxdnl', 'pdp2', 'dis3l2', 'bche', 'or4c3', 'mrln', 'prdm15', 'tinf2', 'lrp3', 'ccni2', 'cox18', 'dnaaf4', 'mras', 'mymk', 'epo', 'lrpap1', 'lrrc4b', 'llcfc1', 'fam186a', 'slc4a11', 'id2', 'acat1', 'muc19', 'bhlha9', 'cyp26b1', 'creld1', 'magix', 'arl16', 'msantd2', 'phax', 'cabp2', 'slc25a5', 'ube2w', 'atg2b', 'adam28', 'ogn', 'znf277', 'ltbr', 'poln', 'eln', 'rpel1', 'hoxa13', 'ska1', 'slc35a4', 'muc22', 'nudt12', 'gas2', 'dclk2', 'prxl2a', 'mpped1', 'zmpste24', 'fam107b', 'ankrd37', 'oga', 'fam169a', 'lrrc6', 'foxa2', 'prrc2c', 'carnmt1', 'inka2', 'adap1', 'cyp4f22', 'hmgcs2', 'chst13', 'b3gnt8', 'mmp24', 'st14', 'aldh1a2', 'cpm', 'zfp30', 'grm3', 'zcchc7', 'nhlrc2', 'sh2d3c', 'lilra1', 'gtf3c1', 'hvcn1', 'sbspon', 'ttc3', 'glis1', 'c9orf135', 'gad2', 'iqch', 'c2cd4a', 'tmem235', 'kctd17', 'aco2', 'ctnnal1', 'nhs', 'prdx4', 'nfkbid', 'c9', 'prelid3b', 'poglut3', 'tmem120b', 'zdhhc20', 'phf1', 'pak4', 'znf875', 'mocos', 'lacrt', 'ddost', 'slc36a4', 'vcam1', 'pias1', 'psmc5', 'cenpb', 'kat7', 'hemk1', 'hace1', 'spc24', 'pola2', 'prkci', 'anxa7', 'stard7', 'znf606', 'nol4', 'tssk1b', 'sdc4', 'abr', 'yif1a', 'emc3', 'tmod4', 'klf11', 'rhou', 'lrrc27', 'rab44', 'wfdc9', 'klhl32', 'tcerg1l', 'atf7ip2', 'derpc', 'col6a3', 'ttc17', 'cth', 'lrrc57', 'atl3', 'znf724', 'cep170', 'dyrk4', 'pfkfb3', 'tpd52l3', 'trim47', 'bccip', 'zscan16', 'amh', 'araf', 'cul4a', 'c1orf162', 'maoa', 'mgat3', 'zscan9', 'zbed5', 'adcy9', 'akap5', 'dap3', 'snrnp25', 'dsc2', 'cyp2c8', 'lce2b', 'as3mt', 'cuzd1', 'mal2', 'or52j3', 'copa', 'rnf8', 'cebpz', 'emc7', 'idh2', 'or1g1', 'itgb1bp1', 'sostdc1', 'cacnb1', 'smc4', 'c1orf226', 'gpatch2l', 'hs2st1', 'bhlhe22', 'tlk1', 'fbxo7', 'page1', 'tspan8', 'vamp3', 'c17orf97', 'itga3', 'hacd3', 'entpd8', 'trim68', 'pramef18', 'slc46a1', 'kiaa0319l', 'acvr1', 'atp6v0e1', 'bmi1', 'adprm', 'ddx41', 'tspan5', 'mab21l1', 'rap1gap', 'tmf1', 'ube2v1', 'enpp6', 'tcf4', 'cdh22', 'defb113', 'zswim9', 'casp14', 'tmem45b', 'krt40', 'tecr', 'phactr1', 'galnt5', 'fam120a', 'il11', 'casp4', 'zyx', 'apbb2', 'psmb10', 'hook2', 'srsf2', 'slc10a4', 'zc3h12b', 'myo10', 'elovl6', 'mios', 'mst1', 'gtf2i', 'golph3', 'ext2', 'psma4', 'ywhae', 'dhrsx', 'sla', 'zbtb6', 'bex2', 'abcb4', 'sntb2', 'dctn6', 'alpp', 'ldlrad4', 'rprd1a', 'adgrl4', 'chd3', 'prox1', 'lcn6', 'scyl2', 'asb3', 'ndufs1', 'c10orf62', 'slc5a11', 'trem1', 'rab23', 'adora2a', 'clec11a', 'mbtps2', 'dync1h1', 'or6k2', 'prrt4', 'psmb3', 'cd276', 'tmprss3', 'ube2d1', 'epn3', 'wdfy3', 'asic4', 'psme4', 'retreg2', 'fam205a', 'rasal3', 'nrxn2', 'ikbkb', 'slc30a10', 'sprr2g', 'phpt1', 'slc45a1', 'tyk2', 'slco6a1', 'zmat5', 'rbm45', 'ankrd34a', 'hapln4', 'znf688', 'dhx29', 'fam32a', 'cd200', 'pla2g1b', 'ebf4', 'kcnh8', 'folh1', 'mcidas', 'mysm1', 'qki', 'smg9', 'tbc1d4', 'tmed6', 'adamts18', 'tspy1', 'pwwp3a', 'nlrp5', 'myl4', 'adam20', 'miga1', 'fam178b', 'ptgfrn', 'disp3', 'rnf111', 'znf598', 'fam20a', 'rimkla', 'gpr65', 'gype', 'plpp4', 'unc80', 'oit3', 'brpf3', 'sfmbt2', 'ddi2', 'syce3', 'pdf', 'cyp7a1', 'npm2', 'msto1', 'znf517', 'igf2bp1', 'or2t34', 'abcg1', 'dync1i2', 'agtr1', 'aph1a', 'c8orf33', 'sirt5', 'btk', 'syt14', 'pmm1', 'znf283', 'acyp2', 'cd63', 'cyp2d6', 'or8k5', 'snrnp27', 'trpv5', 'mad2l1', 'vat1', 'cox7a1', 'noc4l', 'spata46', 'zc3h12a', 'dnase1', 'cep85', 'slc38a6', 'bmp3', 'atad3b', 'nkx1-2', 'bod1', 'pou3f4', 'zcchc12', 'coro1c', 'gcdh', 'znf260', 'cycs', 'churc1', 'adgrl1', 'pate2', 'aadac', 'neto1', 'plxnd1', 'col19a1', 'aadat', 'trak2', 'qsox1', 'c16orf70', 'edf1', 'toe1', 'il2rg', 'efhc2', 'chga', 'notch3', 'sec14l5', 'lrp10', 'tmem170a', 'stat6', 'nrarp', 'parp3', 'xcl2', 'gnaq', 'or6c4', 'or1m1', 'znf595', 'ints6', 'nmrk2', 'cd300a', 'grifin', 'piwil3', 'sf3b2', 'hint1', 'fam161a', 'nab2', 'mkrn2os', 'sc5d', 'kank3', 'rnf40', 'krbox4', 'pgk1', 'kif5b', 'eif4h', 'eri2', 'mpeg1', 'cmbl', 'lysmd4', 'zmynd11', 'arsh', 'arel1', 'kdm4b', 'actl6a', 'zranb3', 'vstm2b', 'galp', 'clip3', 'pla2g4c', 'upk1b', 'prph', 'rexo4', 'omd', 'dmxl1', 'klhl40', 'atp6v0b', 'nos1ap', 'slc23a2', 'gria1', 'sftpa1', 'lactb', 'hdac9', 'taf1', 'odf2l', 'sqstm1', 'ppp6c', 'mapk11', 'map1lc3b', 'brwd3', 'nras', 'slc25a53', 'nupr1', 'tpp2', 'sap130', 'sox21', 'serpinb9', 'cgnl1', 'best3', 'ddtl', 'tfcp2l1', 'nfix', 'st3gal2', 'clrn3', 'mief2', 'ipo4', 'app', 'cd244', 'atp2a1', 'hnrnpf', 'trim31', 'trat1', 'dus2', 'krtap20-1', 'shld3', 'tex46', 'zdbf2', 'fam166c', 'slc17a9', 'lrrc41', 'kctd2', 'shroom2', 'meioc', 'cdkn2c', 'cphxl', 'ddah1', 'gngt2', 'dapk1', 'olah', 'prune1', 'smim12', 'uevld', 'atp2c1', 'slc35c1', 'irf9', 'telo2', 'fam89a', 'en1', 'abcf2', 'phldb1', 'trip11', 'pold3', 'ncoa4', 'tmc7', 'wdr5b', 'c10orf88', 'phip', 'plekhb2', 'fam162b', 'nub1', 'taar6', 'c1orf146', 'siglec8', 'inha', 'crem', 'plp1', 'nrg1', 'aifm1', 'tmem54', 'svil', 'arrdc1', 'lsg1', 'tnfrsf10c', 'lrcol1', 'htr1d', 'klc2', 'myot', 'ptprt', 'znf569', 'sh2d4b', 'cckbr', 'gpx2', 'fam102a', 'medag', 'c19orf67', 'camk1g', 'med9', 'npy2r', 'znf429', 'smyd2', 'engase', 'endod1'}\n"
     ]
    },
    {
     "data": {
      "text/plain": [
       "{'aars',\n",
       " 'ac004593.3',\n",
       " 'ac005551.1',\n",
       " 'ac007244.1',\n",
       " 'ac007906.2',\n",
       " 'ac008397.1',\n",
       " 'ac008687.4',\n",
       " 'ac010255.3',\n",
       " 'ac010325.1',\n",
       " 'ac011005.1',\n",
       " 'ac011195.2',\n",
       " 'ac013470.2',\n",
       " 'ac015871.1',\n",
       " 'ac021072.1',\n",
       " 'ac021097.2',\n",
       " 'ac025283.2',\n",
       " 'ac025287.4',\n",
       " 'ac067752.1',\n",
       " 'ac072022.2',\n",
       " 'ac073111.4',\n",
       " 'ac087498.1',\n",
       " 'ac090360.1',\n",
       " 'ac091057.6',\n",
       " 'ac092835.1',\n",
       " 'ac093323.1',\n",
       " 'ac099489.1',\n",
       " 'ac104389.5',\n",
       " 'ac106774.4',\n",
       " 'ac113348.1',\n",
       " 'ac115220.1',\n",
       " 'ac118549.1',\n",
       " 'ac119396.1',\n",
       " 'ac132217.2',\n",
       " 'ac134684.8',\n",
       " 'ac135068.1',\n",
       " 'ac138647.1',\n",
       " 'ac187653.1',\n",
       " 'ac233723.1',\n",
       " 'ac236972.4',\n",
       " 'acpp',\n",
       " 'adprhl2',\n",
       " 'adss',\n",
       " 'adssl1',\n",
       " 'al032819.3',\n",
       " 'al109810.2',\n",
       " 'al121578.2',\n",
       " 'al135905.2',\n",
       " 'al160269.1',\n",
       " 'al162231.1',\n",
       " 'al162596.1',\n",
       " 'al353572.3',\n",
       " 'al354761.1',\n",
       " 'al391650.1',\n",
       " 'al445238.1',\n",
       " 'al451007.3',\n",
       " 'al590560.2',\n",
       " 'al603764.2',\n",
       " 'al772284.2',\n",
       " 'al845331.2',\n",
       " 'alg1l',\n",
       " 'ap000552.4',\n",
       " 'ap002495.1',\n",
       " 'arih2os',\n",
       " 'armc4',\n",
       " 'arse',\n",
       " 'atp5md',\n",
       " 'atp5mpl',\n",
       " 'atp6ap1l',\n",
       " 'b3gnt10',\n",
       " 'bhmg1',\n",
       " 'bx255925.3',\n",
       " 'bx276092.9',\n",
       " 'c10orf142',\n",
       " 'c10orf55',\n",
       " 'c11orf40',\n",
       " 'c11orf74',\n",
       " 'c11orf88',\n",
       " 'c12orf10',\n",
       " 'c12orf49',\n",
       " 'c12orf74',\n",
       " 'c12orf81',\n",
       " 'c14orf177',\n",
       " 'c15orf41',\n",
       " 'c16orf58',\n",
       " 'c17orf53',\n",
       " 'c19orf48',\n",
       " 'c19orf57',\n",
       " 'c1orf61',\n",
       " 'c2orf83',\n",
       " 'c2orf91',\n",
       " 'c3orf67',\n",
       " 'c5orf30',\n",
       " 'c5orf60',\n",
       " 'c5orf67',\n",
       " 'c6orf201',\n",
       " 'c6orf223',\n",
       " 'c7orf77',\n",
       " 'c9orf129',\n",
       " 'c9orf92',\n",
       " 'card16',\n",
       " 'card17',\n",
       " 'cars',\n",
       " 'casc1',\n",
       " 'casc4',\n",
       " 'castor3',\n",
       " 'ccdc114',\n",
       " 'ccdc140',\n",
       " 'ccdc151',\n",
       " 'ccdc155',\n",
       " 'ccdc36',\n",
       " 'ccdc39',\n",
       " 'ccdc84',\n",
       " 'cd3eap',\n",
       " 'cenpbd1',\n",
       " 'cllu1os',\n",
       " 'cntd2',\n",
       " 'ct62',\n",
       " 'cxorf21',\n",
       " 'cxorf40a',\n",
       " 'cxorf56',\n",
       " 'cyb561d2',\n",
       " 'dars',\n",
       " 'dec1',\n",
       " 'defb133',\n",
       " 'dirc1',\n",
       " 'dock8-as1',\n",
       " 'dupd1',\n",
       " 'dusp27',\n",
       " 'elfn2',\n",
       " 'elmsan1',\n",
       " 'eloa3',\n",
       " 'eprs',\n",
       " 'fam122a',\n",
       " 'fam122b',\n",
       " 'fam122c',\n",
       " 'fam169b',\n",
       " 'fam192a',\n",
       " 'fam218a',\n",
       " 'fam30a',\n",
       " 'fam49a',\n",
       " 'fam49b',\n",
       " 'fam92b',\n",
       " 'fgfr1op',\n",
       " 'fopnl',\n",
       " 'fp565260.1',\n",
       " 'g6pc',\n",
       " 'gars',\n",
       " 'gcsaml-as1',\n",
       " 'gdf5os',\n",
       " 'glra4',\n",
       " 'golga8m',\n",
       " 'grasp',\n",
       " 'h1f0',\n",
       " 'h1fnt',\n",
       " 'h1foo',\n",
       " 'h1fx',\n",
       " 'h2afj',\n",
       " 'h2afx',\n",
       " 'h2afy',\n",
       " 'h2afy2',\n",
       " 'h2afz',\n",
       " 'h2bfm',\n",
       " 'h2bfwt',\n",
       " 'h3.y',\n",
       " 'h3f3a',\n",
       " 'h3f3b',\n",
       " 'h3f3c',\n",
       " 'hars',\n",
       " 'hhla3',\n",
       " 'hist1h1a',\n",
       " 'hist1h1b',\n",
       " 'hist1h1c',\n",
       " 'hist1h1d',\n",
       " 'hist1h1e',\n",
       " 'hist1h2aa',\n",
       " 'hist1h2ac',\n",
       " 'hist1h2ae',\n",
       " 'hist1h2ag',\n",
       " 'hist1h2ai',\n",
       " 'hist1h2ak',\n",
       " 'hist1h2ba',\n",
       " 'hist1h2bb',\n",
       " 'hist1h2bg',\n",
       " 'hist1h2bh',\n",
       " 'hist1h2bn',\n",
       " 'hist1h3e',\n",
       " 'hist1h3g',\n",
       " 'hist1h3h',\n",
       " 'hist1h4b',\n",
       " 'hist1h4c',\n",
       " 'hist1h4e',\n",
       " 'hist1h4g',\n",
       " 'hist1h4i',\n",
       " 'hist1h4j',\n",
       " 'hist2h2be',\n",
       " 'hist3h2a',\n",
       " 'hist3h2bb',\n",
       " 'hist3h3',\n",
       " 'hist4h4',\n",
       " 'hypm',\n",
       " 'iars',\n",
       " 'ick',\n",
       " 'igha1',\n",
       " 'igha2',\n",
       " 'ighd',\n",
       " 'ighe',\n",
       " 'ighg1',\n",
       " 'ighg3',\n",
       " 'ighm',\n",
       " 'igkc',\n",
       " 'iglc1',\n",
       " 'iglc7',\n",
       " 'impad1',\n",
       " 'kars',\n",
       " 'kiaa0355',\n",
       " 'kiaa0556',\n",
       " 'kiaa1211',\n",
       " 'kiaa1211l',\n",
       " 'kiaa1257',\n",
       " 'kiaa1324',\n",
       " 'kiaa1324l',\n",
       " 'kif1bp',\n",
       " 'lars',\n",
       " 'linc02693',\n",
       " 'linc02694',\n",
       " 'lor',\n",
       " 'lrmp',\n",
       " 'lrp5l',\n",
       " 'lrrc29',\n",
       " 'maats1',\n",
       " 'marc1',\n",
       " 'marc2',\n",
       " 'march1',\n",
       " 'march10',\n",
       " 'march11',\n",
       " 'march2',\n",
       " 'march3',\n",
       " 'march4',\n",
       " 'march5',\n",
       " 'march6',\n",
       " 'march7',\n",
       " 'march8',\n",
       " 'march9',\n",
       " 'mars',\n",
       " 'mir1915hg',\n",
       " 'mrvi1',\n",
       " 'mycnos',\n",
       " 'nars',\n",
       " 'nxf5',\n",
       " 'or5r1',\n",
       " 'palm2-akap2',\n",
       " 'pano1',\n",
       " 'pde11a',\n",
       " 'pih1d3',\n",
       " 'pinx1',\n",
       " 'polr2j3',\n",
       " 'ppp5d1',\n",
       " 'prky',\n",
       " 'qars',\n",
       " 'rars',\n",
       " 'rgs5',\n",
       " 'sars',\n",
       " 'sfta3',\n",
       " 'siglec5',\n",
       " 'slc26a10',\n",
       " 'slc66a1l',\n",
       " 'slfn12l',\n",
       " 'snhg32',\n",
       " 'spata13',\n",
       " 'spata8',\n",
       " 'spert',\n",
       " 'sspo',\n",
       " 'st5',\n",
       " 'tars',\n",
       " 'tarsl2',\n",
       " 'tbce',\n",
       " 'tcte3',\n",
       " 'tctex1d1',\n",
       " 'tctex1d2',\n",
       " 'tctex1d4',\n",
       " 'terc',\n",
       " 'tmem155',\n",
       " 'tmem173',\n",
       " 'tmem189',\n",
       " 'tmem246',\n",
       " 'tmem8a',\n",
       " 'tmem99',\n",
       " 'tmsb15b',\n",
       " 'trac',\n",
       " 'trbc1',\n",
       " 'trbc2',\n",
       " 'trdc',\n",
       " 'trgc1',\n",
       " 'trgc2',\n",
       " 'trgjp1',\n",
       " 'trgjp2',\n",
       " 'trim16l',\n",
       " 'tsta3',\n",
       " 'ttc25',\n",
       " 'twistnb',\n",
       " 'vars',\n",
       " 'wars',\n",
       " 'wdr34',\n",
       " 'wdr60',\n",
       " 'wdr63',\n",
       " 'wdr66',\n",
       " 'wdr78',\n",
       " 'wdyhv1',\n",
       " 'yars',\n",
       " 'z82206.1',\n",
       " 'znf883',\n",
       " 'znrd1'}"
      ]
     },
     "execution_count": 8,
     "metadata": {},
     "output_type": "execute_result"
    }
   ],
   "source": [
    "# 将所有基因名称转换为小写\n",
    "all_genes_lower = [gene.lower() for gene in all_genes]\n",
    "adata_genes_lower = [gene.lower() for gene in existing_genes]\n",
    "\n",
    "# 将两个列表转换为集合\n",
    "all_genes_set = set(all_genes_lower)\n",
    "adata_genes_set = set(adata_genes_lower)\n",
    "\n",
    "# 计算交集\n",
    "matching_genes = all_genes_set.intersection(adata_genes_set)\n",
    "matching_count = len(matching_genes)\n",
    "# 计算不匹配的基因\n",
    "non_matching_genes = adata_genes_set - matching_genes\n",
    "non_matching_count = len(non_matching_genes)\n",
    "\n",
    "\n",
    "# 输出结果\n",
    "print(f\"匹配的基因数量: {matching_count}\")\n",
    "print(f\"匹配的基因列表: {matching_genes}\")\n",
    "non_matching_genes"
   ]
  },
  {
   "cell_type": "code",
   "execution_count": 9,
   "metadata": {
    "execution": {
     "iopub.execute_input": "2025-04-12T07:51:14.378059Z",
     "iopub.status.busy": "2025-04-12T07:51:14.377909Z",
     "iopub.status.idle": "2025-04-12T07:52:31.616125Z",
     "shell.execute_reply": "2025-04-12T07:52:31.615334Z"
    }
   },
   "outputs": [
    {
     "name": "stdout",
     "output_type": "stream",
     "text": [
      "Gene fam49a not found in all_genes list\n",
      "Gene kars not found in all_genes list\n",
      "Gene lars not found in all_genes list\n"
     ]
    },
    {
     "name": "stdout",
     "output_type": "stream",
     "text": [
      "Gene nars not found in all_genes list\n",
      "Gene polr2j3 not found in all_genes list\n",
      "Gene qars not found in all_genes list\n"
     ]
    },
    {
     "name": "stdout",
     "output_type": "stream",
     "text": [
      "Gene trac not found in all_genes list\n",
      "Gene wars not found in all_genes list\n",
      "Gene aars not found in all_genes list\n"
     ]
    },
    {
     "name": "stdout",
     "output_type": "stream",
     "text": [
      "Gene ac004593.3 not found in all_genes list\n",
      "Gene ac005551.1 not found in all_genes list\n",
      "Gene ac007244.1 not found in all_genes list\n",
      "Gene ac007906.2 not found in all_genes list\n",
      "Gene ac008397.1 not found in all_genes list\n",
      "Gene ac008687.4 not found in all_genes list\n",
      "Gene ac010255.3 not found in all_genes list\n",
      "Gene ac010325.1 not found in all_genes list\n",
      "Gene ac011005.1 not found in all_genes list\n",
      "Gene ac011195.2 not found in all_genes list\n",
      "Gene ac013470.2 not found in all_genes list\n",
      "Gene ac015871.1 not found in all_genes list\n",
      "Gene ac021072.1 not found in all_genes list\n",
      "Gene ac021097.2 not found in all_genes list\n",
      "Gene ac025283.2 not found in all_genes list\n",
      "Gene ac025287.4 not found in all_genes list\n",
      "Gene ac067752.1 not found in all_genes list\n",
      "Gene ac072022.2 not found in all_genes list\n",
      "Gene ac073111.4 not found in all_genes list\n",
      "Gene ac087498.1 not found in all_genes list\n",
      "Gene ac090360.1 not found in all_genes list\n",
      "Gene ac091057.6 not found in all_genes list\n",
      "Gene ac092835.1 not found in all_genes list\n",
      "Gene ac093323.1 not found in all_genes list\n",
      "Gene ac099489.1 not found in all_genes list\n",
      "Gene ac104389.5 not found in all_genes list\n",
      "Gene ac106774.4 not found in all_genes list\n",
      "Gene ac113348.1 not found in all_genes list\n",
      "Gene ac115220.1 not found in all_genes list\n",
      "Gene ac118549.1 not found in all_genes list\n",
      "Gene ac119396.1 not found in all_genes list\n",
      "Gene ac132217.2 not found in all_genes list\n",
      "Gene ac134684.8 not found in all_genes list\n",
      "Gene ac135068.1 not found in all_genes list\n",
      "Gene ac138647.1 not found in all_genes list\n",
      "Gene ac187653.1 not found in all_genes list\n",
      "Gene ac233723.1 not found in all_genes list\n",
      "Gene ac236972.4 not found in all_genes list\n"
     ]
    },
    {
     "name": "stdout",
     "output_type": "stream",
     "text": [
      "Gene acpp not found in all_genes list\n"
     ]
    },
    {
     "name": "stdout",
     "output_type": "stream",
     "text": [
      "Gene adprhl2 not found in all_genes list\n",
      "Gene adss not found in all_genes list\n",
      "Gene adssl1 not found in all_genes list\n"
     ]
    },
    {
     "name": "stdout",
     "output_type": "stream",
     "text": [
      "Gene al032819.3 not found in all_genes list\n",
      "Gene al109810.2 not found in all_genes list\n",
      "Gene al121578.2 not found in all_genes list\n",
      "Gene al135905.2 not found in all_genes list\n",
      "Gene al160269.1 not found in all_genes list\n",
      "Gene al162231.1 not found in all_genes list\n",
      "Gene al162596.1 not found in all_genes list\n",
      "Gene al353572.3 not found in all_genes list\n",
      "Gene al354761.1 not found in all_genes list\n",
      "Gene al391650.1 not found in all_genes list\n",
      "Gene al445238.1 not found in all_genes list\n",
      "Gene al451007.3 not found in all_genes list\n",
      "Gene al590560.2 not found in all_genes list\n",
      "Gene al603764.2 not found in all_genes list\n",
      "Gene al772284.2 not found in all_genes list\n",
      "Gene al845331.2 not found in all_genes list\n",
      "Gene alg1l not found in all_genes list\n"
     ]
    },
    {
     "name": "stdout",
     "output_type": "stream",
     "text": [
      "Gene ap000552.4 not found in all_genes list\n",
      "Gene ap002495.1 not found in all_genes list\n"
     ]
    },
    {
     "name": "stdout",
     "output_type": "stream",
     "text": [
      "Gene arih2os not found in all_genes list\n",
      "Gene armc4 not found in all_genes list\n"
     ]
    },
    {
     "name": "stdout",
     "output_type": "stream",
     "text": [
      "Gene arse not found in all_genes list\n"
     ]
    },
    {
     "name": "stdout",
     "output_type": "stream",
     "text": [
      "Gene atp5md not found in all_genes list\n",
      "Gene atp5mpl not found in all_genes list\n",
      "Gene atp6ap1l not found in all_genes list\n"
     ]
    },
    {
     "name": "stdout",
     "output_type": "stream",
     "text": [
      "Gene b3gnt10 not found in all_genes list\n"
     ]
    },
    {
     "name": "stdout",
     "output_type": "stream",
     "text": [
      "Gene bhmg1 not found in all_genes list\n"
     ]
    },
    {
     "name": "stdout",
     "output_type": "stream",
     "text": [
      "Gene bx255925.3 not found in all_genes list\n",
      "Gene bx276092.9 not found in all_genes list\n",
      "Gene c10orf142 not found in all_genes list\n",
      "Gene c10orf55 not found in all_genes list\n",
      "Gene c11orf40 not found in all_genes list\n",
      "Gene c11orf74 not found in all_genes list\n",
      "Gene c11orf88 not found in all_genes list\n",
      "Gene c12orf10 not found in all_genes list\n",
      "Gene c12orf49 not found in all_genes list\n",
      "Gene c12orf74 not found in all_genes list\n",
      "Gene c12orf81 not found in all_genes list\n",
      "Gene c14orf177 not found in all_genes list\n"
     ]
    },
    {
     "name": "stdout",
     "output_type": "stream",
     "text": [
      "Gene c15orf41 not found in all_genes list\n",
      "Gene c16orf58 not found in all_genes list\n",
      "Gene c17orf53 not found in all_genes list\n",
      "Gene c19orf48 not found in all_genes list\n",
      "Gene c19orf57 not found in all_genes list\n"
     ]
    },
    {
     "name": "stdout",
     "output_type": "stream",
     "text": [
      "Gene c1orf61 not found in all_genes list\n",
      "Gene c2orf83 not found in all_genes list\n",
      "Gene c2orf91 not found in all_genes list\n",
      "Gene c3orf67 not found in all_genes list\n"
     ]
    },
    {
     "name": "stdout",
     "output_type": "stream",
     "text": [
      "Gene c5orf30 not found in all_genes list\n",
      "Gene c5orf60 not found in all_genes list\n",
      "Gene c5orf67 not found in all_genes list\n",
      "Gene c6orf201 not found in all_genes list\n",
      "Gene c6orf223 not found in all_genes list\n",
      "Gene c7orf77 not found in all_genes list\n",
      "Gene c9orf129 not found in all_genes list\n",
      "Gene c9orf92 not found in all_genes list\n"
     ]
    },
    {
     "name": "stdout",
     "output_type": "stream",
     "text": [
      "Gene card16 not found in all_genes list\n",
      "Gene card17 not found in all_genes list\n",
      "Gene cars not found in all_genes list\n",
      "Gene casc1 not found in all_genes list\n",
      "Gene casc4 not found in all_genes list\n",
      "Gene castor3 not found in all_genes list\n"
     ]
    },
    {
     "name": "stdout",
     "output_type": "stream",
     "text": [
      "Gene ccdc114 not found in all_genes list\n",
      "Gene ccdc140 not found in all_genes list\n",
      "Gene ccdc151 not found in all_genes list\n",
      "Gene ccdc155 not found in all_genes list\n"
     ]
    },
    {
     "name": "stdout",
     "output_type": "stream",
     "text": [
      "Gene ccdc36 not found in all_genes list\n",
      "Gene ccdc39 not found in all_genes list\n",
      "Gene ccdc84 not found in all_genes list\n"
     ]
    },
    {
     "name": "stdout",
     "output_type": "stream",
     "text": [
      "Gene cd3eap not found in all_genes list\n"
     ]
    },
    {
     "name": "stdout",
     "output_type": "stream",
     "text": [
      "Gene cenpbd1 not found in all_genes list\n"
     ]
    },
    {
     "name": "stdout",
     "output_type": "stream",
     "text": [
      "Gene cllu1os not found in all_genes list\n"
     ]
    },
    {
     "name": "stdout",
     "output_type": "stream",
     "text": [
      "Gene cntd2 not found in all_genes list\n"
     ]
    },
    {
     "name": "stdout",
     "output_type": "stream",
     "text": [
      "Gene ct62 not found in all_genes list\n"
     ]
    },
    {
     "name": "stdout",
     "output_type": "stream",
     "text": [
      "Gene cxorf21 not found in all_genes list\n",
      "Gene cxorf40a not found in all_genes list\n",
      "Gene cxorf56 not found in all_genes list\n",
      "Gene cyb561d2 not found in all_genes list\n"
     ]
    },
    {
     "name": "stdout",
     "output_type": "stream",
     "text": [
      "Gene dars not found in all_genes list\n"
     ]
    },
    {
     "name": "stdout",
     "output_type": "stream",
     "text": [
      "Gene dec1 not found in all_genes list\n",
      "Gene defb133 not found in all_genes list\n"
     ]
    },
    {
     "name": "stdout",
     "output_type": "stream",
     "text": [
      "Gene dirc1 not found in all_genes list\n"
     ]
    },
    {
     "name": "stdout",
     "output_type": "stream",
     "text": [
      "Gene dock8-as1 not found in all_genes list\n"
     ]
    },
    {
     "name": "stdout",
     "output_type": "stream",
     "text": [
      "Gene dupd1 not found in all_genes list\n",
      "Gene dusp27 not found in all_genes list\n"
     ]
    },
    {
     "name": "stdout",
     "output_type": "stream",
     "text": [
      "Gene elfn2 not found in all_genes list\n",
      "Gene elmsan1 not found in all_genes list\n",
      "Gene eloa3 not found in all_genes list\n"
     ]
    },
    {
     "name": "stdout",
     "output_type": "stream",
     "text": [
      "Gene eprs not found in all_genes list\n"
     ]
    },
    {
     "name": "stdout",
     "output_type": "stream",
     "text": [
      "Gene fam122a not found in all_genes list\n",
      "Gene fam122b not found in all_genes list\n",
      "Gene fam122c not found in all_genes list\n",
      "Gene fam169b not found in all_genes list\n"
     ]
    },
    {
     "name": "stdout",
     "output_type": "stream",
     "text": [
      "Gene fam192a not found in all_genes list\n",
      "Gene fam218a not found in all_genes list\n",
      "Gene fam30a not found in all_genes list\n",
      "Gene fam49b not found in all_genes list\n"
     ]
    },
    {
     "name": "stdout",
     "output_type": "stream",
     "text": [
      "Gene fam92b not found in all_genes list\n"
     ]
    },
    {
     "name": "stdout",
     "output_type": "stream",
     "text": [
      "Gene fgfr1op not found in all_genes list\n"
     ]
    },
    {
     "name": "stdout",
     "output_type": "stream",
     "text": [
      "Gene fopnl not found in all_genes list\n",
      "Gene fp565260.1 not found in all_genes list\n"
     ]
    },
    {
     "name": "stdout",
     "output_type": "stream",
     "text": [
      "Gene g6pc not found in all_genes list\n"
     ]
    },
    {
     "name": "stdout",
     "output_type": "stream",
     "text": [
      "Gene gars not found in all_genes list\n"
     ]
    },
    {
     "name": "stdout",
     "output_type": "stream",
     "text": [
      "Gene gcsaml-as1 not found in all_genes list\n",
      "Gene gdf5os not found in all_genes list\n"
     ]
    },
    {
     "name": "stdout",
     "output_type": "stream",
     "text": [
      "Gene glra4 not found in all_genes list\n"
     ]
    },
    {
     "name": "stdout",
     "output_type": "stream",
     "text": [
      "Gene golga8m not found in all_genes list\n"
     ]
    },
    {
     "name": "stdout",
     "output_type": "stream",
     "text": [
      "Gene grasp not found in all_genes list\n"
     ]
    },
    {
     "name": "stdout",
     "output_type": "stream",
     "text": [
      "Gene h1f0 not found in all_genes list\n",
      "Gene h1fnt not found in all_genes list\n",
      "Gene h1foo not found in all_genes list\n",
      "Gene h1fx not found in all_genes list\n",
      "Gene h2afj not found in all_genes list\n",
      "Gene h2afx not found in all_genes list\n",
      "Gene h2afy not found in all_genes list\n",
      "Gene h2afy2 not found in all_genes list\n",
      "Gene h2afz not found in all_genes list\n",
      "Gene h2bfm not found in all_genes list\n",
      "Gene h2bfwt not found in all_genes list\n",
      "Gene h3.y not found in all_genes list\n",
      "Gene h3f3a not found in all_genes list\n",
      "Gene h3f3b not found in all_genes list\n",
      "Gene h3f3c not found in all_genes list\n",
      "Gene hars not found in all_genes list\n"
     ]
    },
    {
     "name": "stdout",
     "output_type": "stream",
     "text": [
      "Gene hhla3 not found in all_genes list\n",
      "Gene hist1h1a not found in all_genes list\n",
      "Gene hist1h1b not found in all_genes list\n",
      "Gene hist1h1c not found in all_genes list\n",
      "Gene hist1h1d not found in all_genes list\n",
      "Gene hist1h1e not found in all_genes list\n",
      "Gene hist1h2aa not found in all_genes list\n",
      "Gene hist1h2ac not found in all_genes list\n",
      "Gene hist1h2ae not found in all_genes list\n",
      "Gene hist1h2ag not found in all_genes list\n",
      "Gene hist1h2ai not found in all_genes list\n",
      "Gene hist1h2ak not found in all_genes list\n",
      "Gene hist1h2ba not found in all_genes list\n",
      "Gene hist1h2bb not found in all_genes list\n",
      "Gene hist1h2bg not found in all_genes list\n",
      "Gene hist1h2bh not found in all_genes list\n",
      "Gene hist1h2bn not found in all_genes list\n",
      "Gene hist1h3e not found in all_genes list\n",
      "Gene hist1h3g not found in all_genes list\n",
      "Gene hist1h3h not found in all_genes list\n",
      "Gene hist1h4b not found in all_genes list\n",
      "Gene hist1h4c not found in all_genes list\n",
      "Gene hist1h4e not found in all_genes list\n",
      "Gene hist1h4g not found in all_genes list\n",
      "Gene hist1h4i not found in all_genes list\n",
      "Gene hist1h4j not found in all_genes list\n",
      "Gene hist2h2be not found in all_genes list\n",
      "Gene hist3h2a not found in all_genes list\n",
      "Gene hist3h2bb not found in all_genes list\n",
      "Gene hist3h3 not found in all_genes list\n",
      "Gene hist4h4 not found in all_genes list\n"
     ]
    },
    {
     "name": "stdout",
     "output_type": "stream",
     "text": [
      "Gene hypm not found in all_genes list\n",
      "Gene iars not found in all_genes list\n",
      "Gene ick not found in all_genes list\n"
     ]
    },
    {
     "name": "stdout",
     "output_type": "stream",
     "text": [
      "Gene igha1 not found in all_genes list\n",
      "Gene igha2 not found in all_genes list\n",
      "Gene ighd not found in all_genes list\n",
      "Gene ighe not found in all_genes list\n",
      "Gene ighg1 not found in all_genes list\n",
      "Gene ighg3 not found in all_genes list\n",
      "Gene ighm not found in all_genes list\n",
      "Gene igkc not found in all_genes list\n",
      "Gene iglc1 not found in all_genes list\n",
      "Gene iglc7 not found in all_genes list\n"
     ]
    },
    {
     "name": "stdout",
     "output_type": "stream",
     "text": [
      "Gene impad1 not found in all_genes list\n"
     ]
    },
    {
     "name": "stdout",
     "output_type": "stream",
     "text": [
      "Gene kiaa0355 not found in all_genes list\n",
      "Gene kiaa0556 not found in all_genes list\n",
      "Gene kiaa1211 not found in all_genes list\n",
      "Gene kiaa1211l not found in all_genes list\n",
      "Gene kiaa1257 not found in all_genes list\n",
      "Gene kiaa1324 not found in all_genes list\n",
      "Gene kiaa1324l not found in all_genes list\n",
      "Gene kif1bp not found in all_genes list\n"
     ]
    },
    {
     "name": "stdout",
     "output_type": "stream",
     "text": [
      "Gene linc02693 not found in all_genes list\n",
      "Gene linc02694 not found in all_genes list\n"
     ]
    },
    {
     "name": "stdout",
     "output_type": "stream",
     "text": [
      "Gene lor not found in all_genes list\n",
      "Gene lrmp not found in all_genes list\n"
     ]
    },
    {
     "name": "stdout",
     "output_type": "stream",
     "text": [
      "Gene lrp5l not found in all_genes list\n",
      "Gene lrrc29 not found in all_genes list\n"
     ]
    },
    {
     "name": "stdout",
     "output_type": "stream",
     "text": [
      "Gene maats1 not found in all_genes list\n"
     ]
    },
    {
     "name": "stdout",
     "output_type": "stream",
     "text": [
      "Gene marc1 not found in all_genes list\n",
      "Gene marc2 not found in all_genes list\n",
      "Gene march1 not found in all_genes list\n",
      "Gene march10 not found in all_genes list\n",
      "Gene march11 not found in all_genes list\n",
      "Gene march2 not found in all_genes list\n",
      "Gene march3 not found in all_genes list\n",
      "Gene march4 not found in all_genes list\n",
      "Gene march5 not found in all_genes list\n",
      "Gene march6 not found in all_genes list\n",
      "Gene march7 not found in all_genes list\n",
      "Gene march8 not found in all_genes list\n",
      "Gene march9 not found in all_genes list\n",
      "Gene mars not found in all_genes list\n"
     ]
    },
    {
     "name": "stdout",
     "output_type": "stream",
     "text": [
      "Gene mir1915hg not found in all_genes list\n"
     ]
    },
    {
     "name": "stdout",
     "output_type": "stream",
     "text": [
      "Gene mrvi1 not found in all_genes list\n"
     ]
    },
    {
     "name": "stdout",
     "output_type": "stream",
     "text": [
      "Gene mycnos not found in all_genes list\n"
     ]
    },
    {
     "name": "stdout",
     "output_type": "stream",
     "text": [
      "Gene nxf5 not found in all_genes list\n"
     ]
    },
    {
     "name": "stdout",
     "output_type": "stream",
     "text": [
      "Gene or5r1 not found in all_genes list\n"
     ]
    },
    {
     "name": "stdout",
     "output_type": "stream",
     "text": [
      "Gene palm2-akap2 not found in all_genes list\n",
      "Gene pano1 not found in all_genes list\n"
     ]
    },
    {
     "name": "stdout",
     "output_type": "stream",
     "text": [
      "Gene pde11a not found in all_genes list\n"
     ]
    },
    {
     "name": "stdout",
     "output_type": "stream",
     "text": [
      "Gene pih1d3 not found in all_genes list\n",
      "Gene pinx1 not found in all_genes list\n"
     ]
    },
    {
     "name": "stdout",
     "output_type": "stream",
     "text": [
      "Gene ppp5d1 not found in all_genes list\n"
     ]
    },
    {
     "name": "stdout",
     "output_type": "stream",
     "text": [
      "Gene prky not found in all_genes list\n"
     ]
    },
    {
     "name": "stdout",
     "output_type": "stream",
     "text": [
      "Gene rars not found in all_genes list\n"
     ]
    },
    {
     "name": "stdout",
     "output_type": "stream",
     "text": [
      "Gene rgs5 not found in all_genes list\n"
     ]
    },
    {
     "name": "stdout",
     "output_type": "stream",
     "text": [
      "Gene sars not found in all_genes list\n"
     ]
    },
    {
     "name": "stdout",
     "output_type": "stream",
     "text": [
      "Gene sfta3 not found in all_genes list\n"
     ]
    },
    {
     "name": "stdout",
     "output_type": "stream",
     "text": [
      "Gene siglec5 not found in all_genes list\n"
     ]
    },
    {
     "name": "stdout",
     "output_type": "stream",
     "text": [
      "Gene slc26a10 not found in all_genes list\n"
     ]
    },
    {
     "name": "stdout",
     "output_type": "stream",
     "text": [
      "Gene slc66a1l not found in all_genes list\n"
     ]
    },
    {
     "name": "stdout",
     "output_type": "stream",
     "text": [
      "Gene slfn12l not found in all_genes list\n"
     ]
    },
    {
     "name": "stdout",
     "output_type": "stream",
     "text": [
      "Gene snhg32 not found in all_genes list\n"
     ]
    },
    {
     "name": "stdout",
     "output_type": "stream",
     "text": [
      "Gene spata13 not found in all_genes list\n",
      "Gene spata8 not found in all_genes list\n"
     ]
    },
    {
     "name": "stdout",
     "output_type": "stream",
     "text": [
      "Gene spert not found in all_genes list\n"
     ]
    },
    {
     "name": "stdout",
     "output_type": "stream",
     "text": [
      "Gene sspo not found in all_genes list\n",
      "Gene st5 not found in all_genes list\n"
     ]
    },
    {
     "name": "stdout",
     "output_type": "stream",
     "text": [
      "Gene tars not found in all_genes list\n",
      "Gene tarsl2 not found in all_genes list\n"
     ]
    },
    {
     "name": "stdout",
     "output_type": "stream",
     "text": [
      "Gene tbce not found in all_genes list\n"
     ]
    },
    {
     "name": "stdout",
     "output_type": "stream",
     "text": [
      "Gene tcte3 not found in all_genes list\n",
      "Gene tctex1d1 not found in all_genes list\n",
      "Gene tctex1d2 not found in all_genes list\n",
      "Gene tctex1d4 not found in all_genes list\n",
      "Gene terc not found in all_genes list\n"
     ]
    },
    {
     "name": "stdout",
     "output_type": "stream",
     "text": [
      "Gene tmem155 not found in all_genes list\n",
      "Gene tmem173 not found in all_genes list\n",
      "Gene tmem189 not found in all_genes list\n"
     ]
    },
    {
     "name": "stdout",
     "output_type": "stream",
     "text": [
      "Gene tmem246 not found in all_genes list\n"
     ]
    },
    {
     "name": "stdout",
     "output_type": "stream",
     "text": [
      "Gene tmem8a not found in all_genes list\n",
      "Gene tmem99 not found in all_genes list\n",
      "Gene tmsb15b not found in all_genes list\n"
     ]
    },
    {
     "name": "stdout",
     "output_type": "stream",
     "text": [
      "Gene trbc1 not found in all_genes list\n",
      "Gene trbc2 not found in all_genes list\n",
      "Gene trdc not found in all_genes list\n",
      "Gene trgc1 not found in all_genes list\n",
      "Gene trgc2 not found in all_genes list\n",
      "Gene trgjp1 not found in all_genes list\n",
      "Gene trgjp2 not found in all_genes list\n",
      "Gene trim16l not found in all_genes list\n"
     ]
    },
    {
     "name": "stdout",
     "output_type": "stream",
     "text": [
      "Gene tsta3 not found in all_genes list\n",
      "Gene ttc25 not found in all_genes list\n"
     ]
    },
    {
     "name": "stdout",
     "output_type": "stream",
     "text": [
      "Gene twistnb not found in all_genes list\n"
     ]
    },
    {
     "name": "stdout",
     "output_type": "stream",
     "text": [
      "Gene vars not found in all_genes list\n"
     ]
    },
    {
     "name": "stdout",
     "output_type": "stream",
     "text": [
      "Gene wdr34 not found in all_genes list\n",
      "Gene wdr60 not found in all_genes list\n",
      "Gene wdr63 not found in all_genes list\n",
      "Gene wdr66 not found in all_genes list\n",
      "Gene wdr78 not found in all_genes list\n",
      "Gene wdyhv1 not found in all_genes list\n"
     ]
    },
    {
     "name": "stdout",
     "output_type": "stream",
     "text": [
      "Gene yars not found in all_genes list\n",
      "Gene z82206.1 not found in all_genes list\n"
     ]
    },
    {
     "name": "stdout",
     "output_type": "stream",
     "text": [
      "Gene znf883 not found in all_genes list\n",
      "Gene znrd1 not found in all_genes list\n"
     ]
    }
   ],
   "source": [
    "gene_to_index = {gene: idx for idx, gene in enumerate(all_genes_lower)}\n",
    "dense_adata_X = adata.X\n",
    "for i, gene in enumerate(adata_genes_lower):\n",
    "    if gene in gene_to_index:\n",
    "        new_data[:, gene_to_index[gene]] = dense_adata_X[:, i]\n",
    "    else:\n",
    "        print(f'Gene {gene} not found in all_genes list')"
   ]
  },
  {
   "cell_type": "code",
   "execution_count": 10,
   "metadata": {
    "execution": {
     "iopub.execute_input": "2025-04-12T07:52:31.618282Z",
     "iopub.status.busy": "2025-04-12T07:52:31.618077Z",
     "iopub.status.idle": "2025-04-12T07:52:37.117288Z",
     "shell.execute_reply": "2025-04-12T07:52:37.116700Z"
    }
   },
   "outputs": [
    {
     "name": "stderr",
     "output_type": "stream",
     "text": [
      "GPU available: True (cuda), used: True\n"
     ]
    },
    {
     "name": "stderr",
     "output_type": "stream",
     "text": [
      "TPU available: False, using: 0 TPU cores\n"
     ]
    },
    {
     "name": "stderr",
     "output_type": "stream",
     "text": [
      "HPU available: False, using: 0 HPUs\n"
     ]
    }
   ],
   "source": [
    "estim.trainer = pl.Trainer(accelerator=\"gpu\", devices=1 if torch.cuda.is_available() else None)\n",
    "# 5. 数据集划分（70% 训练，15% 验证，15% 测试）\n",
    "label_encoder = LabelEncoder()\n",
    "labels_encoded = label_encoder.fit_transform(adata.obs['cell_type'])  # 预先编码标签\n",
    "\n",
    "\n",
    "random_seed = 42\n",
    "\n",
    "X_train_val, X_test, y_train_val, y_test = train_test_split(\n",
    "    new_data, labels_encoded, test_size=0.15, random_state=random_seed)\n",
    "\n",
    "X_train, X_val, y_train, y_val = train_test_split(\n",
    "    X_train_val, y_train_val, test_size=0.1765, random_state=random_seed)  # 0.1765 是为了让验证集占 15%"
   ]
  },
  {
   "cell_type": "code",
   "execution_count": 11,
   "metadata": {
    "execution": {
     "iopub.execute_input": "2025-04-12T07:52:37.118930Z",
     "iopub.status.busy": "2025-04-12T07:52:37.118761Z",
     "iopub.status.idle": "2025-04-12T07:52:38.907508Z",
     "shell.execute_reply": "2025-04-12T07:52:38.906906Z"
    }
   },
   "outputs": [],
   "source": [
    "X_train_tensor = torch.tensor(X_train).float().to(device)\n",
    "y_train_tensor = torch.tensor(y_train).long().to(device)\n",
    "X_val_tensor = torch.tensor(X_val).float().to(device)\n",
    "y_val_tensor = torch.tensor(y_val).long().to(device)"
   ]
  },
  {
   "cell_type": "code",
   "execution_count": 12,
   "metadata": {
    "execution": {
     "iopub.execute_input": "2025-04-12T07:52:38.909507Z",
     "iopub.status.busy": "2025-04-12T07:52:38.909331Z",
     "iopub.status.idle": "2025-04-12T07:52:38.944787Z",
     "shell.execute_reply": "2025-04-12T07:52:38.944321Z"
    }
   },
   "outputs": [],
   "source": [
    "from torch.utils.data import DataLoader, TensorDataset\n",
    "\n",
    "# 设置 batch size\n",
    "batch_size = 128  # 根据实际需求调整 batch size\n",
    "\n",
    "# 使用 TensorDataset 将训练数据和标签打包\n",
    "train_dataset = TensorDataset(X_train_tensor, y_train_tensor)\n",
    "val_dataset = TensorDataset(X_val_tensor, y_val_tensor)\n",
    "\n",
    "# 使用 DataLoader 来创建批次\n",
    "train_loader = DataLoader(train_dataset, batch_size=batch_size, shuffle=True)\n",
    "val_loader = DataLoader(val_dataset, batch_size=batch_size, shuffle=False)\n",
    "\n",
    "\n",
    "# 7. 微调模型\n",
    "def train_epoch(model, optimizer, loss_fn, train_loader, val_loader):\n",
    "    model.train()\n",
    "    total_train_loss = 0\n",
    "    \n",
    "    # 训练集批次训练\n",
    "    for X_batch, y_batch in train_loader:\n",
    "        optimizer.zero_grad()\n",
    "        \n",
    "        # 前向传播\n",
    "        outputs = model.inner_model(X_batch)\n",
    "        logits = model.fc(outputs)\n",
    "        \n",
    "        # 计算损失\n",
    "        loss = loss_fn(logits, y_batch)\n",
    "        loss.backward()\n",
    "        optimizer.step()\n",
    "        \n",
    "        total_train_loss += loss.item()\n",
    "    \n",
    "    # 验证集\n",
    "    model.eval()\n",
    "    total_val_loss = 0\n",
    "    with torch.no_grad():\n",
    "        for X_val_batch, y_val_batch in val_loader:\n",
    "            val_outputs = model.inner_model(X_val_batch)\n",
    "            val_logits = model.fc(val_outputs)\n",
    "            val_loss = loss_fn(val_logits, y_val_batch)\n",
    "            total_val_loss += val_loss.item()\n",
    "\n",
    "    # 返回平均损失\n",
    "    return total_train_loss / len(train_loader), total_val_loss / len(val_loader)"
   ]
  },
  {
   "cell_type": "code",
   "execution_count": 13,
   "metadata": {
    "execution": {
     "iopub.execute_input": "2025-04-12T07:52:38.946051Z",
     "iopub.status.busy": "2025-04-12T07:52:38.945895Z",
     "iopub.status.idle": "2025-04-12T07:52:38.975920Z",
     "shell.execute_reply": "2025-04-12T07:52:38.975477Z"
    }
   },
   "outputs": [],
   "source": [
    "torch.cuda.empty_cache()"
   ]
  },
  {
   "cell_type": "code",
   "execution_count": 14,
   "metadata": {
    "execution": {
     "iopub.execute_input": "2025-04-12T07:52:38.977195Z",
     "iopub.status.busy": "2025-04-12T07:52:38.977048Z",
     "iopub.status.idle": "2025-04-12T07:54:53.360147Z",
     "shell.execute_reply": "2025-04-12T07:54:53.359433Z"
    }
   },
   "outputs": [
    {
     "name": "stdout",
     "output_type": "stream",
     "text": [
      "Epoch 1, Train Loss: 0.7374684349968542, Validation Loss: 0.6420267352900529\n",
      "Validation loss improved to 0.6420267352900529, resetting patience.\n"
     ]
    },
    {
     "name": "stdout",
     "output_type": "stream",
     "text": [
      "Epoch 2, Train Loss: 0.6317355510391182, Validation Loss: 0.5902273278248492\n",
      "Validation loss improved to 0.5902273278248492, resetting patience.\n"
     ]
    },
    {
     "name": "stdout",
     "output_type": "stream",
     "text": [
      "Epoch 3, Train Loss: 0.5949614981031106, Validation Loss: 0.5792692480656096\n",
      "Validation loss improved to 0.5792692480656096, resetting patience.\n"
     ]
    },
    {
     "name": "stdout",
     "output_type": "stream",
     "text": [
      "Epoch 4, Train Loss: 0.5718579281259466, Validation Loss: 0.5471968026028067\n",
      "Validation loss improved to 0.5471968026028067, resetting patience.\n"
     ]
    },
    {
     "name": "stdout",
     "output_type": "stream",
     "text": [
      "Epoch 5, Train Loss: 0.555242520077296, Validation Loss: 0.5314212406649808\n",
      "Validation loss improved to 0.5314212406649808, resetting patience.\n"
     ]
    },
    {
     "name": "stdout",
     "output_type": "stream",
     "text": [
      "Epoch 6, Train Loss: 0.5379120012773667, Validation Loss: 0.5226131968086746\n",
      "Validation loss improved to 0.5226131968086746, resetting patience.\n"
     ]
    },
    {
     "name": "stdout",
     "output_type": "stream",
     "text": [
      "Epoch 7, Train Loss: 0.5247314938208116, Validation Loss: 0.5038031575643471\n",
      "Validation loss improved to 0.5038031575643471, resetting patience.\n"
     ]
    },
    {
     "name": "stdout",
     "output_type": "stream",
     "text": [
      "Epoch 8, Train Loss: 0.5156011972941604, Validation Loss: 0.4921301152500404\n",
      "Validation loss improved to 0.4921301152500404, resetting patience.\n"
     ]
    },
    {
     "name": "stdout",
     "output_type": "stream",
     "text": [
      "Epoch 9, Train Loss: 0.50800518597393, Validation Loss: 0.5085368619352428\n",
      "No improvement in validation loss. Patience counter: 1/20\n"
     ]
    },
    {
     "name": "stdout",
     "output_type": "stream",
     "text": [
      "Epoch 10, Train Loss: 0.5024122510405667, Validation Loss: 0.47457789421686664\n",
      "Validation loss improved to 0.47457789421686664, resetting patience.\n"
     ]
    },
    {
     "name": "stdout",
     "output_type": "stream",
     "text": [
      "Epoch 11, Train Loss: 0.49432312786449273, Validation Loss: 0.491379766143518\n",
      "No improvement in validation loss. Patience counter: 1/20\n"
     ]
    },
    {
     "name": "stdout",
     "output_type": "stream",
     "text": [
      "Epoch 12, Train Loss: 0.4891816168569012, Validation Loss: 0.4769205136347543\n",
      "No improvement in validation loss. Patience counter: 2/20\n"
     ]
    },
    {
     "name": "stdout",
     "output_type": "stream",
     "text": [
      "Epoch 13, Train Loss: 0.483409768713066, Validation Loss: 0.4866293623362701\n",
      "No improvement in validation loss. Patience counter: 3/20\n"
     ]
    },
    {
     "name": "stdout",
     "output_type": "stream",
     "text": [
      "Epoch 14, Train Loss: 0.4858963999548249, Validation Loss: 0.4856371834193389\n",
      "No improvement in validation loss. Patience counter: 4/20\n"
     ]
    },
    {
     "name": "stdout",
     "output_type": "stream",
     "text": [
      "Epoch 15, Train Loss: 0.479354522830131, Validation Loss: 0.4862018142859948\n",
      "No improvement in validation loss. Patience counter: 5/20\n"
     ]
    },
    {
     "name": "stdout",
     "output_type": "stream",
     "text": [
      "Epoch 16, Train Loss: 0.47385116194198335, Validation Loss: 0.5164435035383641\n",
      "No improvement in validation loss. Patience counter: 6/20\n"
     ]
    },
    {
     "name": "stdout",
     "output_type": "stream",
     "text": [
      "Epoch 17, Train Loss: 0.4711465576180705, Validation Loss: 0.4710960058391397\n",
      "Validation loss improved to 0.4710960058391397, resetting patience.\n"
     ]
    },
    {
     "name": "stdout",
     "output_type": "stream",
     "text": [
      "Epoch 18, Train Loss: 0.4758567279590241, Validation Loss: 0.45494517411677365\n",
      "Validation loss improved to 0.45494517411677365, resetting patience.\n"
     ]
    },
    {
     "name": "stdout",
     "output_type": "stream",
     "text": [
      "Epoch 19, Train Loss: 0.46943987068397547, Validation Loss: 0.4618606175565478\n",
      "No improvement in validation loss. Patience counter: 1/20\n"
     ]
    },
    {
     "name": "stdout",
     "output_type": "stream",
     "text": [
      "Epoch 20, Train Loss: 0.47175852072979113, Validation Loss: 0.4648406880761161\n",
      "No improvement in validation loss. Patience counter: 2/20\n"
     ]
    },
    {
     "name": "stdout",
     "output_type": "stream",
     "text": [
      "Epoch 21, Train Loss: 0.46551667394071883, Validation Loss: 0.46742061642825905\n",
      "No improvement in validation loss. Patience counter: 3/20\n"
     ]
    },
    {
     "name": "stdout",
     "output_type": "stream",
     "text": [
      "Epoch 22, Train Loss: 0.46267002812852526, Validation Loss: 0.4299971856139033\n",
      "Validation loss improved to 0.4299971856139033, resetting patience.\n"
     ]
    },
    {
     "name": "stdout",
     "output_type": "stream",
     "text": [
      "Epoch 23, Train Loss: 0.4595567364740735, Validation Loss: 0.44479348408389213\n",
      "No improvement in validation loss. Patience counter: 1/20\n"
     ]
    },
    {
     "name": "stdout",
     "output_type": "stream",
     "text": [
      "Epoch 24, Train Loss: 0.4638517919871023, Validation Loss: 0.47246822472756284\n",
      "No improvement in validation loss. Patience counter: 2/20\n"
     ]
    },
    {
     "name": "stdout",
     "output_type": "stream",
     "text": [
      "Epoch 25, Train Loss: 0.4598534437371235, Validation Loss: 0.4754387204568398\n",
      "No improvement in validation loss. Patience counter: 3/20\n"
     ]
    },
    {
     "name": "stdout",
     "output_type": "stream",
     "text": [
      "Epoch 26, Train Loss: 0.45655259332560766, Validation Loss: 0.47925862518663936\n",
      "No improvement in validation loss. Patience counter: 4/20\n"
     ]
    },
    {
     "name": "stdout",
     "output_type": "stream",
     "text": [
      "Epoch 27, Train Loss: 0.45776690607626713, Validation Loss: 0.5199892345418785\n",
      "No improvement in validation loss. Patience counter: 5/20\n"
     ]
    },
    {
     "name": "stdout",
     "output_type": "stream",
     "text": [
      "Epoch 28, Train Loss: 0.4580583305205655, Validation Loss: 0.432047648024438\n",
      "No improvement in validation loss. Patience counter: 6/20\n"
     ]
    },
    {
     "name": "stdout",
     "output_type": "stream",
     "text": [
      "Epoch 29, Train Loss: 0.4582978251647845, Validation Loss: 0.45592371113409247\n",
      "No improvement in validation loss. Patience counter: 7/20\n"
     ]
    },
    {
     "name": "stdout",
     "output_type": "stream",
     "text": [
      "Epoch 30, Train Loss: 0.45700409821760163, Validation Loss: 0.4303721614598018\n",
      "No improvement in validation loss. Patience counter: 8/20\n"
     ]
    },
    {
     "name": "stdout",
     "output_type": "stream",
     "text": [
      "Epoch 31, Train Loss: 0.4523223345380983, Validation Loss: 0.5006574253140367\n",
      "No improvement in validation loss. Patience counter: 9/20\n"
     ]
    },
    {
     "name": "stdout",
     "output_type": "stream",
     "text": [
      "Epoch 32, Train Loss: 0.4551257497279992, Validation Loss: 0.5046189545374836\n",
      "No improvement in validation loss. Patience counter: 10/20\n"
     ]
    },
    {
     "name": "stdout",
     "output_type": "stream",
     "text": [
      "Epoch 33, Train Loss: 0.45021796187544183, Validation Loss: 0.4330072238058003\n",
      "No improvement in validation loss. Patience counter: 11/20\n"
     ]
    },
    {
     "name": "stdout",
     "output_type": "stream",
     "text": [
      "Epoch 34, Train Loss: 0.450238601249807, Validation Loss: 0.46682665190720923\n",
      "No improvement in validation loss. Patience counter: 12/20\n"
     ]
    },
    {
     "name": "stdout",
     "output_type": "stream",
     "text": [
      "Epoch 35, Train Loss: 0.4510071120490695, Validation Loss: 0.44355635579467423\n",
      "No improvement in validation loss. Patience counter: 13/20\n"
     ]
    },
    {
     "name": "stdout",
     "output_type": "stream",
     "text": [
      "Epoch 36, Train Loss: 0.45430855373476586, Validation Loss: 0.442299243686768\n",
      "No improvement in validation loss. Patience counter: 14/20\n"
     ]
    },
    {
     "name": "stdout",
     "output_type": "stream",
     "text": [
      "Epoch 37, Train Loss: 0.450696628354084, Validation Loss: 0.4214810070955209\n",
      "Validation loss improved to 0.4214810070955209, resetting patience.\n"
     ]
    },
    {
     "name": "stdout",
     "output_type": "stream",
     "text": [
      "Epoch 38, Train Loss: 0.4491561685317482, Validation Loss: 0.4349663041267298\n",
      "No improvement in validation loss. Patience counter: 1/20\n"
     ]
    },
    {
     "name": "stdout",
     "output_type": "stream",
     "text": [
      "Epoch 39, Train Loss: 0.4460824319447567, Validation Loss: 0.4871874716378711\n",
      "No improvement in validation loss. Patience counter: 2/20\n"
     ]
    },
    {
     "name": "stdout",
     "output_type": "stream",
     "text": [
      "Epoch 40, Train Loss: 0.4490522382241189, Validation Loss: 0.5458822531748544\n",
      "No improvement in validation loss. Patience counter: 3/20\n"
     ]
    },
    {
     "name": "stdout",
     "output_type": "stream",
     "text": [
      "Epoch 41, Train Loss: 0.4484423672971123, Validation Loss: 0.45209330494331224\n",
      "No improvement in validation loss. Patience counter: 4/20\n"
     ]
    },
    {
     "name": "stdout",
     "output_type": "stream",
     "text": [
      "Epoch 42, Train Loss: 0.4504325205139605, Validation Loss: 0.43767894494352\n",
      "No improvement in validation loss. Patience counter: 5/20\n"
     ]
    },
    {
     "name": "stdout",
     "output_type": "stream",
     "text": [
      "Epoch 43, Train Loss: 0.44386774804727186, Validation Loss: 0.43253546650639646\n",
      "No improvement in validation loss. Patience counter: 6/20\n"
     ]
    },
    {
     "name": "stdout",
     "output_type": "stream",
     "text": [
      "Epoch 44, Train Loss: 0.4455932020361907, Validation Loss: 0.4459987786518136\n",
      "No improvement in validation loss. Patience counter: 7/20\n"
     ]
    },
    {
     "name": "stdout",
     "output_type": "stream",
     "text": [
      "Epoch 45, Train Loss: 0.45131127735952925, Validation Loss: 0.46400724767428364\n",
      "No improvement in validation loss. Patience counter: 8/20\n"
     ]
    },
    {
     "name": "stdout",
     "output_type": "stream",
     "text": [
      "Epoch 46, Train Loss: 0.44736202320891527, Validation Loss: 0.4655664020080857\n",
      "No improvement in validation loss. Patience counter: 9/20\n"
     ]
    },
    {
     "name": "stdout",
     "output_type": "stream",
     "text": [
      "Epoch 47, Train Loss: 0.44695260078688853, Validation Loss: 0.43952325621837285\n",
      "No improvement in validation loss. Patience counter: 10/20\n"
     ]
    },
    {
     "name": "stdout",
     "output_type": "stream",
     "text": [
      "Epoch 48, Train Loss: 0.4451042154645608, Validation Loss: 0.43589577653686407\n",
      "No improvement in validation loss. Patience counter: 11/20\n"
     ]
    },
    {
     "name": "stdout",
     "output_type": "stream",
     "text": [
      "Epoch 49, Train Loss: 0.4491388156263397, Validation Loss: 0.4189804831737189\n",
      "Validation loss improved to 0.4189804831737189, resetting patience.\n"
     ]
    },
    {
     "name": "stdout",
     "output_type": "stream",
     "text": [
      "Epoch 50, Train Loss: 0.4444890249204012, Validation Loss: 0.4638954624911855\n",
      "No improvement in validation loss. Patience counter: 1/20\n"
     ]
    },
    {
     "name": "stdout",
     "output_type": "stream",
     "text": [
      "Epoch 51, Train Loss: 0.4471640153453241, Validation Loss: 0.4152633007710355\n",
      "Validation loss improved to 0.4152633007710355, resetting patience.\n"
     ]
    },
    {
     "name": "stdout",
     "output_type": "stream",
     "text": [
      "Epoch 52, Train Loss: 0.44373705194276925, Validation Loss: 0.41467452056819415\n",
      "Validation loss improved to 0.41467452056819415, resetting patience.\n"
     ]
    },
    {
     "name": "stdout",
     "output_type": "stream",
     "text": [
      "Epoch 53, Train Loss: 0.4446910895683147, Validation Loss: 0.44437068141051356\n",
      "No improvement in validation loss. Patience counter: 1/20\n"
     ]
    },
    {
     "name": "stdout",
     "output_type": "stream",
     "text": [
      "Epoch 54, Train Loss: 0.44458646994400647, Validation Loss: 0.4227336170104554\n",
      "No improvement in validation loss. Patience counter: 2/20\n"
     ]
    },
    {
     "name": "stdout",
     "output_type": "stream",
     "text": [
      "Epoch 55, Train Loss: 0.44121398500822206, Validation Loss: 0.45138624280237305\n",
      "No improvement in validation loss. Patience counter: 3/20\n"
     ]
    },
    {
     "name": "stdout",
     "output_type": "stream",
     "text": [
      "Epoch 56, Train Loss: 0.4426718796714978, Validation Loss: 0.457668391732395\n",
      "No improvement in validation loss. Patience counter: 4/20\n"
     ]
    },
    {
     "name": "stdout",
     "output_type": "stream",
     "text": [
      "Epoch 57, Train Loss: 0.4470342131157067, Validation Loss: 0.44201924685899374\n",
      "No improvement in validation loss. Patience counter: 5/20\n"
     ]
    },
    {
     "name": "stdout",
     "output_type": "stream",
     "text": [
      "Epoch 58, Train Loss: 0.44432253617801437, Validation Loss: 0.42764603403316537\n",
      "No improvement in validation loss. Patience counter: 6/20\n"
     ]
    },
    {
     "name": "stdout",
     "output_type": "stream",
     "text": [
      "Epoch 59, Train Loss: 0.44320739628767397, Validation Loss: 0.47308472978887217\n",
      "No improvement in validation loss. Patience counter: 7/20\n"
     ]
    },
    {
     "name": "stdout",
     "output_type": "stream",
     "text": [
      "Epoch 60, Train Loss: 0.4453711332286625, Validation Loss: 0.4252023196159886\n",
      "No improvement in validation loss. Patience counter: 8/20\n"
     ]
    },
    {
     "name": "stdout",
     "output_type": "stream",
     "text": [
      "Epoch 61, Train Loss: 0.440952678586403, Validation Loss: 0.479719891009597\n",
      "No improvement in validation loss. Patience counter: 9/20\n"
     ]
    },
    {
     "name": "stdout",
     "output_type": "stream",
     "text": [
      "Epoch 62, Train Loss: 0.4424553294067549, Validation Loss: 0.43622008026553893\n",
      "No improvement in validation loss. Patience counter: 10/20\n"
     ]
    },
    {
     "name": "stdout",
     "output_type": "stream",
     "text": [
      "Epoch 63, Train Loss: 0.4437083225039875, Validation Loss: 0.4639210871936101\n",
      "No improvement in validation loss. Patience counter: 11/20\n"
     ]
    },
    {
     "name": "stdout",
     "output_type": "stream",
     "text": [
      "Epoch 64, Train Loss: 0.4420962163403403, Validation Loss: 0.4466344449423291\n",
      "No improvement in validation loss. Patience counter: 12/20\n"
     ]
    },
    {
     "name": "stdout",
     "output_type": "stream",
     "text": [
      "Epoch 65, Train Loss: 0.44089169806774403, Validation Loss: 0.4409006304547266\n",
      "No improvement in validation loss. Patience counter: 13/20\n"
     ]
    },
    {
     "name": "stdout",
     "output_type": "stream",
     "text": [
      "Epoch 66, Train Loss: 0.44507511499011176, Validation Loss: 0.4124793175059527\n",
      "Validation loss improved to 0.4124793175059527, resetting patience.\n"
     ]
    },
    {
     "name": "stdout",
     "output_type": "stream",
     "text": [
      "Epoch 67, Train Loss: 0.4430710941650509, Validation Loss: 0.45775564158628435\n",
      "No improvement in validation loss. Patience counter: 1/20\n"
     ]
    },
    {
     "name": "stdout",
     "output_type": "stream",
     "text": [
      "Epoch 68, Train Loss: 0.445029995816076, Validation Loss: 0.4470942811614971\n",
      "No improvement in validation loss. Patience counter: 2/20\n"
     ]
    },
    {
     "name": "stdout",
     "output_type": "stream",
     "text": [
      "Epoch 69, Train Loss: 0.44236465413650916, Validation Loss: 0.429384099650504\n",
      "No improvement in validation loss. Patience counter: 3/20\n"
     ]
    },
    {
     "name": "stdout",
     "output_type": "stream",
     "text": [
      "Epoch 70, Train Loss: 0.4423861353777852, Validation Loss: 0.43147740796737866\n",
      "No improvement in validation loss. Patience counter: 4/20\n"
     ]
    },
    {
     "name": "stdout",
     "output_type": "stream",
     "text": [
      "Epoch 71, Train Loss: 0.44202860225649443, Validation Loss: 0.4132296786393006\n",
      "No improvement in validation loss. Patience counter: 5/20\n"
     ]
    },
    {
     "name": "stdout",
     "output_type": "stream",
     "text": [
      "Epoch 72, Train Loss: 0.44309959352860523, Validation Loss: 0.44492940793787766\n",
      "No improvement in validation loss. Patience counter: 6/20\n"
     ]
    },
    {
     "name": "stdout",
     "output_type": "stream",
     "text": [
      "Epoch 73, Train Loss: 0.44073887833258163, Validation Loss: 0.5230919013773729\n",
      "No improvement in validation loss. Patience counter: 7/20\n"
     ]
    },
    {
     "name": "stdout",
     "output_type": "stream",
     "text": [
      "Epoch 74, Train Loss: 0.44541225233368886, Validation Loss: 0.43789233857302495\n",
      "No improvement in validation loss. Patience counter: 8/20\n"
     ]
    },
    {
     "name": "stdout",
     "output_type": "stream",
     "text": [
      "Epoch 75, Train Loss: 0.4413006483924155, Validation Loss: 0.46643925348514226\n",
      "No improvement in validation loss. Patience counter: 9/20\n"
     ]
    },
    {
     "name": "stdout",
     "output_type": "stream",
     "text": [
      "Epoch 76, Train Loss: 0.44262933140226957, Validation Loss: 0.44293772402753684\n",
      "No improvement in validation loss. Patience counter: 10/20\n"
     ]
    },
    {
     "name": "stdout",
     "output_type": "stream",
     "text": [
      "Epoch 77, Train Loss: 0.4406275852930312, Validation Loss: 0.4244647606980377\n",
      "No improvement in validation loss. Patience counter: 11/20\n"
     ]
    },
    {
     "name": "stdout",
     "output_type": "stream",
     "text": [
      "Epoch 78, Train Loss: 0.44168699604168954, Validation Loss: 0.4676632266964404\n",
      "No improvement in validation loss. Patience counter: 12/20\n"
     ]
    },
    {
     "name": "stdout",
     "output_type": "stream",
     "text": [
      "Epoch 79, Train Loss: 0.4408675871448579, Validation Loss: 0.43561044131136184\n",
      "No improvement in validation loss. Patience counter: 13/20\n"
     ]
    },
    {
     "name": "stdout",
     "output_type": "stream",
     "text": [
      "Epoch 80, Train Loss: 0.43687376652667725, Validation Loss: 0.469283167783379\n",
      "No improvement in validation loss. Patience counter: 14/20\n"
     ]
    },
    {
     "name": "stdout",
     "output_type": "stream",
     "text": [
      "Epoch 81, Train Loss: 0.4446690200720477, Validation Loss: 0.4255847994446149\n",
      "No improvement in validation loss. Patience counter: 15/20\n"
     ]
    },
    {
     "name": "stdout",
     "output_type": "stream",
     "text": [
      "Epoch 82, Train Loss: 0.4400893343624726, Validation Loss: 0.44163986072322436\n",
      "No improvement in validation loss. Patience counter: 16/20\n"
     ]
    },
    {
     "name": "stdout",
     "output_type": "stream",
     "text": [
      "Epoch 83, Train Loss: 0.4426910626602588, Validation Loss: 0.4888936712354573\n",
      "No improvement in validation loss. Patience counter: 17/20\n"
     ]
    },
    {
     "name": "stdout",
     "output_type": "stream",
     "text": [
      "Epoch 84, Train Loss: 0.4402769491530971, Validation Loss: 0.4196418248457352\n",
      "No improvement in validation loss. Patience counter: 18/20\n"
     ]
    },
    {
     "name": "stdout",
     "output_type": "stream",
     "text": [
      "Epoch 85, Train Loss: 0.44019047964632124, Validation Loss: 0.42110659734246697\n",
      "No improvement in validation loss. Patience counter: 19/20\n"
     ]
    },
    {
     "name": "stdout",
     "output_type": "stream",
     "text": [
      "Epoch 86, Train Loss: 0.4394744101562791, Validation Loss: 0.42543730654087164\n",
      "No improvement in validation loss. Patience counter: 20/20\n",
      "Early stopping triggered. Stopping training at epoch 86.\n",
      "Loaded best model weights based on validation loss.\n"
     ]
    }
   ],
   "source": [
    "import copy  # 用于保存模型的最佳状态\n",
    "\n",
    "# Early Stopping 参数\n",
    "patience = 20  # 如果验证损失在 10 个 epoch 中没有改善，停止训练\n",
    "min_delta = 1e-4  # 最小改善幅度\n",
    "patience_counter = 0\n",
    "best_val_loss = float('inf')  # 初始设置为正无穷大\n",
    "best_model_weights = copy.deepcopy(estim.model.state_dict())  # 保存最佳模型权重\n",
    "train_losses = []\n",
    "val_losses = []\n",
    "\n",
    "# 训练 500 个 epoch\n",
    "for epoch in range(500):\n",
    "    train_loss, val_loss = train_epoch(estim.model, optimizer, loss_fn, train_loader, val_loader)\n",
    "    print(f'Epoch {epoch+1}, Train Loss: {train_loss}, Validation Loss: {val_loss}')\n",
    "    train_losses.append(train_loss)\n",
    "    val_losses.append(val_loss)\n",
    "    \n",
    "    # Early Stopping 检查\n",
    "    if val_loss < best_val_loss - min_delta:\n",
    "        best_val_loss = val_loss  # 更新最佳验证损失\n",
    "        patience_counter = 0  # 重置 patience 计数器\n",
    "        best_model_weights = copy.deepcopy(estim.model.state_dict())  # 保存当前最佳模型\n",
    "        print(f\"Validation loss improved to {best_val_loss}, resetting patience.\")\n",
    "    else:\n",
    "        patience_counter += 1\n",
    "        print(f\"No improvement in validation loss. Patience counter: {patience_counter}/{patience}\")\n",
    "    \n",
    "    # 如果 patience_counter 超过设置的 patience，停止训练\n",
    "    if patience_counter >= patience:\n",
    "        print(f\"Early stopping triggered. Stopping training at epoch {epoch+1}.\")\n",
    "        break\n",
    "\n",
    "# 恢复到训练中性能最好的模型权重\n",
    "estim.model.load_state_dict(best_model_weights)\n",
    "print(\"Loaded best model weights based on validation loss.\")"
   ]
  },
  {
   "cell_type": "code",
   "execution_count": 15,
   "metadata": {
    "execution": {
     "iopub.execute_input": "2025-04-12T07:54:53.361831Z",
     "iopub.status.busy": "2025-04-12T07:54:53.361645Z",
     "iopub.status.idle": "2025-04-12T07:54:55.345609Z",
     "shell.execute_reply": "2025-04-12T07:54:55.344998Z"
    }
   },
   "outputs": [],
   "source": [
    "# 8. 使用 KNN 替代测试阶段的 FC 分类层\n",
    "# 使用 encoder 提取训练集和测试集的 embedding\n",
    "estim.model.eval()\n",
    "with torch.no_grad():\n",
    "    train_embeddings = estim.model.inner_model(torch.tensor(X_train).float().to(device)).cpu().numpy()\n",
    "    test_embeddings = estim.model.inner_model(torch.tensor(X_test).float().to(device)).cpu().numpy()"
   ]
  },
  {
   "cell_type": "code",
   "execution_count": 16,
   "metadata": {
    "execution": {
     "iopub.execute_input": "2025-04-12T07:54:55.347707Z",
     "iopub.status.busy": "2025-04-12T07:54:55.347537Z",
     "iopub.status.idle": "2025-04-12T07:54:56.176427Z",
     "shell.execute_reply": "2025-04-12T07:54:56.175843Z"
    }
   },
   "outputs": [
    {
     "name": "stdout",
     "output_type": "stream",
     "text": [
      "KNN Accuracy on Test Data: 0.8451146342432551\n",
      "Weighted F1 Score: 0.841425129962485\n",
      "Macro F1 Score: 0.7202468521628832\n",
      "Random Guess Accuracy: 0.1320247177116093\n",
      "                         precision    recall  f1-score   support\n",
      "\n",
      "                B_Cells       0.84      0.88      0.86       772\n",
      "           CD4+_T_Cells       0.73      0.80      0.77      1286\n",
      "           CD8+_T_Cells       0.75      0.73      0.74      1026\n",
      "                 DCIS_1       0.82      0.87      0.85      1937\n",
      "                 DCIS_2       0.76      0.71      0.74      1746\n",
      "            Endothelial       0.90      0.93      0.91      1348\n",
      "              IRF7+_DCs       0.86      0.76      0.81        74\n",
      "         Invasive_Tumor       0.89      0.91      0.90      5230\n",
      "             LAMP3+_DCs       0.79      0.61      0.69        49\n",
      "          Macrophages_1       0.84      0.87      0.85      1692\n",
      "          Macrophages_2       0.68      0.60      0.63       223\n",
      "             Mast_Cells       0.73      0.39      0.51        28\n",
      "          Myoepi_ACTA2+       0.85      0.86      0.86      1043\n",
      "          Myoepi_KRT15+       0.89      0.90      0.90       426\n",
      "      Perivascular-Like       0.63      0.58      0.60       125\n",
      "  Prolif_Invasive_Tumor       0.64      0.49      0.56       533\n",
      "                Stromal       0.91      0.93      0.92      6184\n",
      "Stromal_&_T_Cell_Hybrid       0.19      0.06      0.10        93\n",
      "  T_Cell_&_Tumor_Hybrid       0.56      0.61      0.58        87\n",
      "              Unlabeled       0.73      0.56      0.64      1265\n",
      "\n",
      "               accuracy                           0.85     25167\n",
      "              macro avg       0.75      0.70      0.72     25167\n",
      "           weighted avg       0.84      0.85      0.84     25167\n",
      "\n"
     ]
    }
   ],
   "source": [
    "import pandas as pd\n",
    "from sklearn.neighbors import KNeighborsClassifier\n",
    "from sklearn.metrics import accuracy_score, f1_score, classification_report\n",
    "\n",
    "    \n",
    "\n",
    "    # 初始化和训练KNN分类器\n",
    "knn = KNeighborsClassifier(n_neighbors=5)\n",
    "knn.fit(train_embeddings, y_train)\n",
    "    \n",
    "    # 模型预测\n",
    "predictions = knn.predict(test_embeddings)\n",
    "\n",
    "    # 计算准确率和 F1 分数\n",
    "accuracy = accuracy_score(y_test, predictions)\n",
    "print(f\"KNN Accuracy on Test Data: {accuracy}\")\n",
    "f1 = f1_score(y_test, predictions, average='weighted')\n",
    "print(f\"Weighted F1 Score: {f1}\")\n",
    "    \n",
    "macro_f1 = f1_score(y_test, predictions, average='macro')\n",
    "print(f'Macro F1 Score: {macro_f1}')\n",
    "\n",
    "    # 计算随机猜测的准确率\n",
    "class_probabilities = np.bincount(y_test) / len(y_test)\n",
    "random_accuracy = np.sum(class_probabilities ** 2)\n",
    "print(f\"Random Guess Accuracy: {random_accuracy}\")\n",
    "\n",
    "    # 生成分类报告\n",
    "report = classification_report(y_test, predictions, target_names=label_encoder.classes_)\n",
    "print(report)"
   ]
  },
  {
   "cell_type": "code",
   "execution_count": 17,
   "metadata": {
    "execution": {
     "iopub.execute_input": "2025-04-12T07:54:56.178032Z",
     "iopub.status.busy": "2025-04-12T07:54:56.177867Z",
     "iopub.status.idle": "2025-04-12T07:55:05.196653Z",
     "shell.execute_reply": "2025-04-12T07:55:05.196072Z"
    }
   },
   "outputs": [],
   "source": [
    "with torch.no_grad():\n",
    "    new_data_tensor = torch.tensor(new_data).float().to(device)\n",
    "    SSL_embeddings = estim.model.inner_model(new_data_tensor).detach().cpu().numpy()\n",
    "new_adata = sc.read_h5ad(data_dir)\n",
    "new_adata.obsm[f'SSL_BT_FT_{random_seed}'] = SSL_embeddings\n",
    "new_adata.uns[f'BT_FT_y_test_{random_seed}'] = y_test\n",
    "new_adata.uns[f'BT_FT_predictions_{random_seed}'] = predictions\n",
    "new_adata.uns[f'BT_FT_target_names_{random_seed}'] = label_encoder.classes_\n",
    "new_adata.uns[f'BT_FT_train_loss_{random_seed}'] = train_losses\n",
    "new_adata.uns[f'BT_FT_val_loss_{random_seed}'] = val_losses\n",
    "new_adata.write_h5ad(data_dir)"
   ]
  },
  {
   "cell_type": "code",
   "execution_count": 18,
   "metadata": {
    "execution": {
     "iopub.execute_input": "2025-04-12T07:55:05.198645Z",
     "iopub.status.busy": "2025-04-12T07:55:05.198470Z",
     "iopub.status.idle": "2025-04-12T07:55:05.241474Z",
     "shell.execute_reply": "2025-04-12T07:55:05.240976Z"
    }
   },
   "outputs": [
    {
     "name": "stdout",
     "output_type": "stream",
     "text": [
      "Metrics Summary:\n",
      "init_train_loss\tinit_val_loss\tconverged_epoch\tconverged_val_loss\tmacro_f1\tweighted_f1\tmicro_f1\n",
      "0.737\t0.642\t66\t0.412\t0.720\t0.841\t0.845\n"
     ]
    }
   ],
   "source": [
    "\n",
    "import pandas as pd\n",
    "import os\n",
    "import re\n",
    "\n",
    "# 当前 Notebook 文件名\n",
    "notebook_name = \"SpaGE_imputed_Xenium_breast_cancer_sample1_replicate1_barlow_twins_fine_tune_42.ipynb\"\n",
    "\n",
    "# 初始化需要打印的值\n",
    "init_train_loss = train_losses[0] if 'train_losses' in globals() else None\n",
    "init_val_loss = val_losses[0] if 'val_losses' in globals() else None\n",
    "converged_epoch = len(train_losses) - patience if 'train_losses' in globals() else None\n",
    "converged_val_loss = best_val_loss if 'best_val_loss' in globals() else None\n",
    "\n",
    "# 打印所有所需的指标\n",
    "print(\"Metrics Summary:\")\n",
    "if 'train_losses' in globals():\n",
    "    print(f\"init_train_loss\\tinit_val_loss\\tconverged_epoch\\tconverged_val_loss\\tmacro_f1\\tweighted_f1\\tmicro_f1\")\n",
    "    print(f\"{init_train_loss:.3f}\\t{init_val_loss:.3f}\\t{converged_epoch}\\t{converged_val_loss:.3f}\\t{macro_f1:.3f}\\t{f1:.3f}\\t{accuracy:.3f}\")\n",
    "else:\n",
    "    print(f\"macro_f1\\tweighted_f1\\tmicro_f1\")\n",
    "    print(f\"{macro_f1:.3f}\\t{f1:.3f}\\t{accuracy:.3f}\")\n",
    "\n",
    "# 保存结果到 CSV 文件\n",
    "output_data = {\n",
    "    'dataset_split_random_seed': [int(random_seed)],\n",
    "    'dataset': ['SpaGE_imputed_xenium_breast_cancer_sample1_replicate1'],\n",
    "    'method': [re.search(r'replicate1_(.*?)_\\d+', notebook_name).group(1)],\n",
    "    'init_train_loss': [init_train_loss if init_train_loss is not None else ''],\n",
    "    'init_val_loss': [init_val_loss if init_val_loss is not None else ''],\n",
    "    'converged_epoch': [converged_epoch if converged_epoch is not None else ''],\n",
    "    'converged_val_loss': [converged_val_loss if converged_val_loss is not None else ''],\n",
    "    'macro_f1': [macro_f1],\n",
    "    'weighted_f1': [f1],\n",
    "    'micro_f1': [accuracy]\n",
    "}\n",
    "output_df = pd.DataFrame(output_data)\n",
    "\n",
    "# 保存到当前目录下名为 results 的文件夹中\n",
    "if not os.path.exists('results'):\n",
    "    os.makedirs('results')\n",
    "\n",
    "csv_filename = f\"results/{os.path.splitext(notebook_name)[0]}_results.csv\"\n",
    "output_df.to_csv(csv_filename, index=False)\n"
   ]
  }
 ],
 "metadata": {
  "kernelspec": {
   "display_name": "ssl",
   "language": "python",
   "name": "python3"
  },
  "language_info": {
   "codemirror_mode": {
    "name": "ipython",
    "version": 3
   },
   "file_extension": ".py",
   "mimetype": "text/x-python",
   "name": "python",
   "nbconvert_exporter": "python",
   "pygments_lexer": "ipython3",
   "version": "3.10.13"
  }
 },
 "nbformat": 4,
 "nbformat_minor": 2
}
