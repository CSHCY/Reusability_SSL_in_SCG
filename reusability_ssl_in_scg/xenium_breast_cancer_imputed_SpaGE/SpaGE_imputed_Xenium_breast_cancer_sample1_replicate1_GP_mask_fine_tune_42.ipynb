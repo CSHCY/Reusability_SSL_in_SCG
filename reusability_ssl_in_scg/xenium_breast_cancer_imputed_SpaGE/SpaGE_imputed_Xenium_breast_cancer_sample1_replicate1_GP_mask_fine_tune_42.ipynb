{
 "cells": [
  {
   "cell_type": "code",
   "execution_count": 1,
   "metadata": {
    "execution": {
     "iopub.execute_input": "2025-04-12T08:11:43.174006Z",
     "iopub.status.busy": "2025-04-12T08:11:43.173856Z",
     "iopub.status.idle": "2025-04-12T08:11:52.654283Z",
     "shell.execute_reply": "2025-04-12T08:11:52.653638Z"
    }
   },
   "outputs": [
    {
     "name": "stderr",
     "output_type": "stream",
     "text": [
      "/home/hanchuangyi/miniconda3/envs/ssl/lib/python3.10/site-packages/merlin/dtypes/mappings/tf.py:52: UserWarning: Tensorflow dtype mappings did not load successfully due to an error: No module named 'tensorflow'\n",
      "  warn(f\"Tensorflow dtype mappings did not load successfully due to an error: {exc.msg}\")\n",
      "/home/hanchuangyi/miniconda3/envs/ssl/lib/python3.10/site-packages/merlin/dtypes/mappings/triton.py:53: UserWarning: Triton dtype mappings did not load successfully due to an error: No module named 'tritonclient'\n",
      "  warn(f\"Triton dtype mappings did not load successfully due to an error: {exc.msg}\")\n"
     ]
    }
   ],
   "source": [
    "import scanpy as sc\n",
    "import torch\n",
    "import lightning.pytorch as pl\n",
    "from torch import nn\n",
    "from torch.optim import AdamW\n",
    "from self_supervision.models.lightning_modules.cellnet_autoencoder import MLPAutoEncoder\n",
    "from self_supervision.estimator.cellnet import EstimatorAutoEncoder\n",
    "from sklearn.model_selection import train_test_split\n",
    "from sklearn.preprocessing import LabelEncoder\n",
    "from sklearn.metrics import accuracy_score, f1_score, classification_report\n",
    "import numpy as np\n",
    "import pandas as pd\n",
    "\n",
    "# 1. 加载数据集\n",
    "data_dir = '../../dataset/SpaGE_imputed_Xenium_breast_cancer_sample1_replicate1.h5ad'\n",
    "adata = sc.read_h5ad(data_dir)\n",
    "\n",
    "\n",
    "\n",
    "# 2. 设置 checkpoint 路径\n",
    "ckpt_path = \"../../sc_pretrained/Pretrained Models/GPMask.ckpt\"\n",
    "\n",
    "# 3. 模型参数\n",
    "units_encoder = [512, 512, 256, 256, 64]\n",
    "units_decoder = [256, 256, 512, 512]\n",
    "\n",
    "# 初始化 EstimatorAutoEncoder 实例\n",
    "estim = EstimatorAutoEncoder(data_path=None)  # 没有实际数据路径，可以设置为None\n",
    "\n",
    "# 4. 加载预训练模型\n",
    "estim.model = MLPAutoEncoder.load_from_checkpoint(\n",
    "    ckpt_path,\n",
    "    gene_dim=19331,  # 根据你的数据调整\n",
    "    batch_size=128,  # 根据你的需要调整\n",
    "    units_encoder=units_encoder, \n",
    "    units_decoder=units_decoder,\n",
    "    masking_strategy=\"random\",  # 假设模型使用了随机掩码\n",
    "    masking_rate=0.5,  # 根据需要调整\n",
    ")"
   ]
  },
  {
   "cell_type": "code",
   "execution_count": 2,
   "metadata": {
    "execution": {
     "iopub.execute_input": "2025-04-12T08:11:52.656478Z",
     "iopub.status.busy": "2025-04-12T08:11:52.656049Z",
     "iopub.status.idle": "2025-04-12T08:11:52.662515Z",
     "shell.execute_reply": "2025-04-12T08:11:52.662106Z"
    }
   },
   "outputs": [
    {
     "data": {
      "text/plain": [
       "20"
      ]
     },
     "execution_count": 2,
     "metadata": {},
     "output_type": "execute_result"
    }
   ],
   "source": [
    "# 添加分类层 (FC)\n",
    "n_classes = len(adata.obs['cell_type'].unique())\n",
    "estim.model.fc = nn.Linear(units_encoder[-1], n_classes)\n",
    "n_classes"
   ]
  },
  {
   "cell_type": "code",
   "execution_count": 3,
   "metadata": {
    "execution": {
     "iopub.execute_input": "2025-04-12T08:11:52.663816Z",
     "iopub.status.busy": "2025-04-12T08:11:52.663671Z",
     "iopub.status.idle": "2025-04-12T08:11:52.684044Z",
     "shell.execute_reply": "2025-04-12T08:11:52.683601Z"
    }
   },
   "outputs": [],
   "source": [
    "var_df = pd.read_parquet('../../sc_pretrained/var.parquet')\n",
    "all_genes = var_df['feature_name'].tolist()\n",
    "\n",
    "new_data = np.zeros((adata.X.shape[0], len(all_genes)), dtype=np.float32)\n",
    "\n",
    "adata.var['gene_name']=adata.var.index\n",
    "existing_genes = adata.var['gene_name']"
   ]
  },
  {
   "cell_type": "code",
   "execution_count": 4,
   "metadata": {
    "execution": {
     "iopub.execute_input": "2025-04-12T08:11:52.685318Z",
     "iopub.status.busy": "2025-04-12T08:11:52.685168Z",
     "iopub.status.idle": "2025-04-12T08:11:52.702108Z",
     "shell.execute_reply": "2025-04-12T08:11:52.701693Z"
    }
   },
   "outputs": [
    {
     "name": "stdout",
     "output_type": "stream",
     "text": [
      "匹配的基因数量: 17773\n",
      "匹配的基因列表: {'fdxacb1', 'cep55', 'hacd1', 'sox21', 'bhmt2', 'scamp5', 'akr1e2', 'cbx2', 'elmo1', 'csf1', 'fech', 'ghdc', 'fbxo42', 'cap2', 'akap13', 'tnp2', 'gpatch2', 'znf679', 'aard', 'dut', 'mafg', 'krt6a', 'ndufc1', 'otub1', 'fam240a', 'ptpra', 'eef1akmt2', 'rhbdd2', 'sox6', 'ampd1', 'c4orf54', 'timm17b', 'tcf7l1', 'enpp5', 'ncbp3', 'synj1', 'ccdc120', 'p3h3', 'atp1a4', 'fggy', 'lrrc4', 'rspo3', 'cfap157', 'cc2d2b', 'myl4', 'fzd2', 'flrt1', 'lsm3', 'unc13c', 'pag1', 'rbm3', 'hdac7', 'fam200a', 'slc28a1', 'magee2', 'hoxd8', 'rnaseh2b', 'slc35f3', 'snapc1', 'ubr2', 'cspg5', 'znf280c', 'ms4a3', 'mlf1', 'muc20', 'taf1c', 'crybg1', 'pnpla1', 's100a1', 'matn3', 'mt1h', 'gja1', 'cskmt', 'znf655', 'krt20', 'zscan2', 'cenpo', 'cdx4', 'fndc3a', 'znf334', 'slamf7', 'tmem200a', 'fut6', 'vars2', 'krt38', 'znf185', 'zw10', 'krtap24-1', 'eva1c', 'becn2', 'plppr5', 'il23a', 'lysmd2', 'lmbrd2', 'tnfaip3', 'ppp1r11', 'acad9', 'lrp12', 'il17rd', 'gabrb1', 'camk2d', 'dusp3', 'or4e2', 'or6k3', 'skor2', 'camk2n1', 'tktl1', 'tfeb', 'sec14l5', 'abhd3', 'cd300a', 'znf469', 'linc02218', 'nfib', 'nr1h4', 'prss21', 'psmb1', 'trabd2b', 'ctrb1', 'nr6a1', 'c1galt1', 'fcrl2', 'gpm6a', 'mpp7', 'dnajc4', 'kbtbd12', 'pdha1', 'prdx2', 'slc26a6', 'esrra', 'nelfb', 'txndc5', 'cyp4v2', 'ndrg1', 'espn', 'kiaa1549', 'mex3d', 'or10a6', 'or7d4', 'tlk1', 'znrf4', 'ddx6', 'ddx24', 'znf32', 'tmbim1', 'smim27', 'ftcd', 'c15orf39', 'hk1', 'drosha', 'ttll9', 'ttc19', 'crnn', 'svil', 'lhfpl4', 'itln2', 'znf423', 'ccdc88a', 'lzic', 'apol3', 'megf11', 'rabl6', 'frem3', 'mt1m', 'serpinf1', 'gpr65', 'npepps', 'krt76', 'chit1', 'slc22a12', 'clec1b', 'sash3', 'usp5', 'rnf149', 'mtx1', 'cklf', 'dcst1', 'col3a1', 'bend5', 'scx', 'krt73', 'bloc1s1', 'gjd4', 'hnrnph2', 'bccip', 'mcfd2', 'mtg2', 'chst9', 'cpa5', 'slc6a19', 'foxp4', 'nphp3', 'slc1a4', 'col20a1', 'art1', 'crip2', 'nsun2', 'zbtb5', 'zscan5a', 'cfap54', 'lats1', 'glod4', 'palm', 'shisa2', 'ogfod1', 'fam219b', 'ubl4a', 'cdca3', 'c12orf71', 'cxcl17', 'kcnh2', 'pck2', 'fthl17', 'micall1', 'fcrl3', 'frem1', 'cfap126', 'gemin6', 'kcnn4', 'g6pc3', 'pald1', 'tnfaip1', 'aftph', 'c9orf43', 'utp14a', 'c1qtnf1', 'ccdc77', 'tmem275', 'casp4', 'shc2', 'cgref1', 'fam161b', 'gp9', 'ppfia3', 'kcnc4', 'mllt10', 'eif4ebp2', 'rubcn', 'znf488', 'ovol2', 'pcdhac1', 'brd3os', 'tomm6', 'fam135a', 'cfap73', 'hes5', 'prrx1', 'wdr45b', 'masp1', 'dcaf1', 'ddn', 'eme1', 'jade3', 'wdr59', 'scn8a', 'taok2', 'cck', 'khk', 'kremen1', 'crip1', 'lrrc8b', 'rcl1', 'fam53a', 'tfb1m', 'ugt2a1', 'zc3h13', 'kirrel1', 'rmi1', 'rnf130', 'auh', 'exosc5', 'psmd12', 'prdx4', 'usp22', 'lrrc25', 'or13c9', 'irx3', 'cstf2t', 'ecscr', 'tfam', 'ssr1', 'usp17l2', 'atp6ap1', 'ccm2', 'coro1b', 'siah2', 'abcc4', 'ccr2', 'exosc9', 'slc29a3', 'b4galt1', 'tmem184a', 'dmrt1', 'apoa5', 'rab5if', 'sil1', 'cwf19l2', 'ptcd1', 'itgbl1', 'nbr1', 'sgo1', 'higd2b', 'rad54b', 'dhfr', 'kif16b', 'tbc1d8b', 'adamts6', 'igflr1', 'pnrc1', 'gmppa', 'cacna1e', 'gsc2', 'hyls1', 'tyw1b', 'acp7', 'tmem271', 'gtpbp2', 'c21orf91', 'itga9', 'cenpp', 'bub1', 'tnfaip2', 'ubr4', 'c2orf78', 'gdf7', 'socs3', 'tmem128', 'elmo3', 'slc6a1', 'dcdc2', 'prdm4', 'ap3s2', 'slc16a13', 'met', 'prkcq', 'slc16a2', 'ripk1', 'usp40', 'fam9c', 'mical2', 'ebi3', 'rgs17', 'egln1', 'phyhipl', 'slc36a3', 'rad21l1', 'cldn9', 'nup153', 'polq', 'slc22a6', 'gbf1', 'gins3', 'or3a2', 'morc2', 'adam8', 'ebf3', 'phykpl', 'fbxl12', 'sf3b4', 'agrp', 'ctns', 'tesmin', 'cyp20a1', 'tyro3', 'tmem250', 'gzmh', 'galp', 'tssk3', 'tshz3', 'npc1', 'blk', 'wasl', 'slc23a3', 'samd4b', 'rhoxf2b', 'glg1', 'or5t1', 'nup88', 'cd7', 'kri1', 'tanc1', 'wipi1', 'frmd1', 'flywch2', 'shld3', 'lin7b', 'capza3', 'clic4', 'itga8', 'or51f1', 'pkm', 'snx8', 'ppil6', 'scgb2a1', 'eipr1', 'nsa2', 'abcb7', 'paqr8', 'trak1', 'aimp2', 'alkal1', 'mettl5', 'cnot10', 'slc23a2', 'pwp1', 'igsf21', 'p2rx6', 'iqcf1', 'acy3', 'rragc', 'tent5b', 'lamb3', 'ackr4', 'birc7', 'cmtm5', 'leng1', 'mlxip', 'znf7', 'spanxn5', 'tgfbrap1', 'irf2bp2', 'nfs1', 'notch3', 'strc', 'ahcy', 'tmlhe', 'cand1', 'capn6', 'ruvbl2', 'cox8a', 'sh3bgrl2', 'bub3', 'tceanc', 'plin1', 'plekhj1', 'nufip2', 'dusp10', 'padi1', 'znf503', 'rftn2', 'comtd1', 'mul1', 'vps37b', 'pyhin1', 'epha6', 'gnaq', 'atp4a', 'klhl2', 'brd9', 'lrsam1', 'atp7a', 'fam71f1', 'serpinb10', 'hint1', 'has2', 'sfxn1', 'sirt4', 'ralgapa2', 'znf18', 'abhd16a', 'tmem179', 'crlf1', 'dysf', 'nup107', 'kcnj6', 'plod3', 'apol4', 'ecel1', 'ets1', 'slc25a4', 'znf264', 'eya2', 'herc4', 'or52a1', 'casr', 'nat8l', 'vps29', 'adal', 'gskip', 'krt35', 'zbtb21', 'arrb1', 'depp1', 'qtrt2', 'tmem31', 'iyd', 'il26', 'ceacam3', 'myo18b', 'nipa1', 'csnk1g3', 'sdc3', 'foxd4', 'stag3', 'smo', 'dapk1', 'nol6', 'trib2', 'fam163b', 'pon3', 's100a10', 'larp4', 'crppa', 'lama2', 'ptar1', 'foxi3', 'kdm2b', 'rbm11', 'foxi1', 'kcnj16', 'lamc3', 'or4x1', 'leo1', 'c18orf25', 'ano3', 'bahcc1', 'lyg1', 'znf316', 'krtap12-4', 'or2g6', 'pus3', 'tcaim', 'arl14', 'r3hcc1l', 'prkg2', 'satb2', 'gpr19', 'epb42', 'ift52', 'lrrc73', 'ssh3', 'pdk1', 'dip2c', 'fbxw12', 'serpinb13', 'wscd2', 'skap2', 'herpud2', 'stxbp3', 'pcp4l1', 'rpp21', 'cadm4', 'tmem115', 'hnf1b', 'en2', 'add3', 'tas2r16', 'ogt', 'prkaa1', 'mpi', 'plaat5', 'trim33', 'fam107b', 'aplp1', 'spem3', 'scygr8', 'gnb3', 'ccl3', 'bag6', 'cdkn1a', 'fgf3', 'lce3a', 'itm2c', 'galnt12', 'zc3h6', 'klrc1', 'dbf4', 'inka2', 'tnfrsf9', 'bcl3', 'cox7a1', 'prr12', 'sel1l', 'ppial4g', 'gata4', 'gmps', 'ripk2', 'otud7a', 'ska1', 'htr2c', 'spink14', 'or4c12', 'znf200', 'anapc16', 'lrrc18', 'iqank1', 'trmt1', 'krt10', 'rpia', 'sdk2', 'fam204a', 'yars2', 'krt19', 'mrm3', 'nfkbil1', 'cnr1', 'tdo2', 'lrrfip1', 'epha5', 'khdrbs2', 'acsl3', 'ces3', 'pi4k2a', 'shank2', 'tstd2', 'actn2', 'atp5me', 'smad4', 'or2m5', 'lamp5', 'sbk2', 'ct47b1', 'hkdc1', 'tlnrd1', 'ppie', 'larp7', 'aip', 'sdr16c5', 'irak4', 'grin2d', 'btbd3', 'rerg', 'lenep', 'c8orf33', 'ncdn', 'shf', 'bhlha9', 'or6v1', 'ralgapb', 'ppp2ca', 'chmp4b', 'tnmd', 'or2a2', 'sox3', 'pou1f1', 'tap1', 'trim7', 'nutm2e', 'cnot4', 'dkk4', 'hp', 'slc18a2', 'tmem163', 'col8a2', 'srp68', 'exosc7', 'mak16', 'prox2', 'ube2d3', 'zfyve9', 'dop1a', 'plscr3', 'cacnb2', 'hint3', 'smim26', 'ewsr1', 'tmem97', 'fgfr1', 'cdk15', 'dnajc22', 'glb1', 'cdx2', 'vps33a', 'cavin4', 'foxp3', 'ppef2', 'rasgrf1', 'efcab12', 'dnajc3', 'c16orf70', 'cmpk2', 'gpat3', 'or6c75', 'ppp4r1', 'lypd6', 'or5t2', 'rtl9', 'dhx34', 'fmo2', 'gnaz', 'slc39a14', 'sap30l', 'rfx4', 'fbn1', 'otor', 'tbc1d2b', 'ttc30a', 'zdhhc22', 'socs5', 'sirpb2', 'gpalpp1', 'znf835', 'katnal1', 'elk3', 'acap3', 'rorb', 'resp18', 'pou4f2', 'lrp6', 'septin14', 'puf60', 's100p', 'sprr2g', 'ppp1r26', 'hck', 'sun3', 'pidd1', 'tex48', 'icam3', 'sstr2', 'ifna8', 'srpx2', 'spanxn1', 'stt3a', 'sytl4', 'plekho1', 'slc22a18as', 'nek4', 'tulp2', 'nyap1', 'zfyve1', 'kcnip1', 'gjc2', 'plekhg5', 'ercc4', 'hsd17b6', 'xpo4', 'vax2', 'icos', 'fkbp5', 'tango6', 'znf229', 'fcf1', 'or2z1', 'nrp2', 'tspoap1', 'c19orf47', 'lrrc3b', 'eif3h', 'psen2', 'znf146', 'slc37a1', 'adamts16', 'gnb1l', 'kiaa1210', 'epyc', 'usp51', 'fbxo34', 'pnmt', 'lcat', 'ctsk', 'gtf2h1', 'c6orf89', 'pbx3', 'cfp', 'galnt16', 'arhgdig', 'hdlbp', 'cds1', 'nmrk1', 'slc39a5', 'madcam1', 'add2', 'apobr', 'nfyc', 'esrp1', 'rab31', 'nr4a3', 'sfswap', 'supt3h', 'tmem177', 'gpatch2l', 'prkar1a', 'smim28', 'acsl5', 'foxred1', 's100a9', 'bex1', 'gtf2h5', 'taf5l', 'slc39a9', 'esco1', 'fxyd7', 'prr27', 'evc', 'zfc3h1', 'clec17a', 'rasip1', 'mef2a', 'fgf14', 'cdc25a', 'jpt1', 'selenof', 'hus1', 'tyms', 'ubb', 'mdm2', 'thap1', 'tyw1', 'tmprss2', 'lpo', 'csh2', 'pelp1', 'pou4f1', 'ceacam7', 'ppp2r5a', 'gch1', 'duox2', 'siglec8', 'castor2', 'efcab8', 'supt7l', 'bnip5', 'fjx1', 'gabrg2', 'aadacl3', 'clip2', 'pkn3', 'ccl19', 'mapk4', 'mtfr2', 'slc20a1', 'tspan16', 'baz1b', 'avpr1b', 'znf649', 'spry2', 'psg11', 'c1orf94', 'pigz', 'dnajc30', 'mt-nd4l', 'sftpb', 'six3', 'c1qtnf4', 'cdh26', 'dhrsx', 'msn', 'sema5b', 'zdhhc5', 'slurp2', 'hamp', 'pex13', 'fez2', 'nt5m', 'als2', 'tnpo1', 'hykk', 'cmtm8', 'or2a12', 'otogl', 'cdpf1', 'adsl', 'trarg1', 'majin', 'ankrd55', 'prmt8', 'pip4k2c', 'esd', 'timm22', 'ankib1', 'arfgef2', 'nt5c', 'scd5', 'or7c2', 'pbx2', 'pcdh1', 'resf1', 'ugt2b4', 'arhgap20', 'or2k2', 'zer1', 'supv3l1', 'wdr25', 'ttr', 'rbm46', 'cfap100', 'dnajc1', 'dus2', 'c16orf86', 'galr3', 'fbxl5', 'ldah', 'lgr5', 'pola1', 'pcdh19', 'sort1', 'tlk2', 'sh3pxd2b', 'thoc2', 'ing3', 'cd84', 'snap91', 'tpst1', 'pigp', 'znf48', 'rfc4', 'adamts4', 'ankra2', 'gga1', 'lysmd1', 'dock9', 'ebln2', 'znf790', 'tex26', 'kpnb1', 'dtl', 'med31', 'bik', 'gzmb', 'krtap17-1', 'znf799', 'carns1', 'mlc1', 'ccdc148', 'pbx1', 'lhfpl3', 'phka1', 'trpm5', 'atxn2', 'twist1', 'lin9', 'xrcc3', 'abhd15', 'pym1', 'nfu1', 'cd22', 'ahdc1', 'krt39', 'chchd3', 'aen', 'crb1', 'haus3', 'srp19', 'ranbp10', 'myb', 'rnf32', 'tmem178b', 'ccl11', 'tspyl2', 'c1qtnf8', 'eif2b1', 'fbxo7', 'tmtc3', 'lrrc75a', 'zc3h12c', 'fam117a', 'rasgef1a', 'cdh15', 'ctsw', 'tsg101', 'spata45', 'cxcl11', 'adamts15', 'mast2', 'cd1c', 'or8k1', 'dusp5', 'kif11', 'scn2b', 'serf2', 'tbc1d21', 'fbxw2', 'hs3st6', 'olfm4', 'esrp2', 'spry4', 'alb', 'morn4', 'ppp4r4', 'mto1', 'oxsm', 'dip2a', 'tas2r4', 'srpk3', 'tp53inp1', 'gapdhs', 'c1orf100', 'tac1', 'crtac1', 'csgalnact1', 'katnb1', 'or8b12', 'phgr1', 'poglut2', 'znf287', 'c17orf78', 'ccdc172', 'cfap298', 'nploc4', 'vcpip1', 'actc1', 'galr2', 'cyld', 'atraid', 'ggps1', 'prr22', 'slc38a11', 'sorbs2', 'tapbpl', 'naa40', 'casp5', 'fbxo24', 'mmp20', 'pcolce2', 'lonrf3', 'ccnj', 'ccna2', 'mxd1', 'phf21b', 'hmgcll1', 'luzp4', 'hcst', 'rasl12', 'cplane2', 'ppp3r1', 'smad5', 'cst7', 'acmsd', 'npas3', 'pitpnm2', 'tprx1', 'znf175', 'rab11b', 'pip4k2b', 'eif5', 'olfm3', 'insl3', 'pdzd11', 'ucp2', 'wfdc12', 'obscn', 'zeb1', 'mprip', 'farp1', 'defa5', 'cep83', 'lgsn', 'vstm2a', 'adgrf2', 'bard1', 'c12orf50', 'saal1', 'c9orf24', 'adam20', 'med10', 'znf785', 'c9orf64', 'sox13', 'rrad', 'adamtsl5', 'arl11', 'crybb2', 'ppip5k1', 'ms4a10', 'ccz1', 'prpf19', 'itk', 'padi2', 'pou6f1', 'kif6', 'tnfrsf1b', 'znf676', 'sp100', 'thrb', 'myl9', 'adgrd1', 'iqcn', 'page2', 'tspan33', 'emilin3', 'ccdc137', 'cyfip1', 'hfm1', 'man1b1', 'krt8', 'trim68', 'ppp1r13l', 'folr2', 'dgcr8', 'spata31d3', 'aurka', 'pgc', 'pigr', 'gsap', 'asap1', 'znf605', 'leap2', 'znf831', 'rb1cc1', 'pcdhgb6', 'hmx1', 'stmn4', 'tmem235', 'cyp2f1', 'golga6l2', 'twnk', 'tnfsf18', 'cdc42bpa', 'kcnc2', 'enpp6', 'atg14', 'atp13a5', 'arhgef10', 'atf2', 'cxadr', 'alkbh8', 'cd209', 'jpt2', 'kiz', 'sft2d3', 'josd2', 'fam184a', 'or14a2', 'tpd52l1', 'dynll1', 'dipk2a', 'znf2', 'ffar3', 'gtpbp3', 'krt24', 'kiaa1522', 'ttll13p', 'hmx2', 'top3b', 'sgcz', 'nat9', 'serpinb2', 'relt', 'senp3', 'trim32', 'rsph6a', 'zc3hc1', 'zkscan7', 'fstl4', 'acsl6', 'tbc1d30', 'fkbp6', 'abracl', 'acot11', 'sit1', 'cyp27b1', 'aoc3', 'stk38l', 'smagp', 'spink2', 'nrarp', 'naaa', 'hrnr', 'sh2d3a', 'erich3', 'sod1', 'chd5', 'lrrc74a', 'efr3b', 'nudt21', 'lce3e', 'eln', 'kcnip2', 'drd5', 'cdrt15l2', 'cyba', 'xcr1', 'irf3', 'dhrs11', 'rsad1', 'rdh11', 'ttll3', 'nox1', 'zdhhc7', 'dbf4b', 'neu4', 'ppp1r16b', 'ttc37', 'ost4', 'litaf', 'abcb5', 'max', 'clptm1', 'tppp3', 'eif3j', 'dhrs7b', 'sox12', 'ubr3', 'khdc1', 'cpt2', 'sft2d1', 'il17b', 'trim65', 'trat1', 'gmppb', 'slc39a12', 'pop1', 'clic5', 'cxorf65', 'bank1', 'naga', 'vmp1', 'cdca7', 'acta1', 'cul4a', 'mpp5', 'jhy', 'mdga2', 'mdga1', 'ncmap', 'dok6', 'gpr88', 'fam222b', 'fam53c', 'fbln2', 'echdc1', 'mt-nd1', 'socs7', 'pmaip1', 'nme9', 'glis1', 'eloc', 'cse1l', 'cadps', 'dusp8', 'hat1', 'cpne3', 'lrrc57', 'tacc1', 'apbb2', 'irgq', 'cd276', 'shoc1', 'ergic3', 'atg4c', 'hs6st2', 'disp1', 'inf2', 'c12orf54', 'necab2', 'prl', 'ccnjl', 'myl3', 'pcdhga2', 'trim28', 'dnah5', 'egr1', 'orc6', 'zxda', 'adamts5', 'csde1', 'ik', 'polr2c', 'nedd9', 'cacng4', 'or14i1', 'fam185a', 'gpr162', 'hbg1', 'hddc2', 'hspa12b', 'itch', 'pasd1', 'rhpn1', 'slc13a2', 'znf486', 'tmem37', 'cd248', 'pla2r1', 'twsg1', 'kif12', 'vps37a', 'or5h14', 'tmem38a', 'kif17', 'spanxn2', 'apip', 'isl2', 'dppa5', 'or10s1', 'rab39b', 'trim5', 'fam3c', 'vps13d', 'il2rb', 'tlcd1', 'praf2', 'dtd2', 'psmd10', 'rbbp4', 'scp2d1', 'pwwp3a', 'sik3', 'zc3h14', 'acoxl', 'caps2', 'plcb2', 'trim71', 'dhx37', 'commd3', 'ssrp1', 'fubp3', 'fzd1', 'cd72', 'cables1', 'dkkl1', 'lmnb2', 'tbccd1', 'arhgap22', 'prph', 'lamtor1', 'moap1', 'acox1', 'otop3', 'stim1', 'fanca', 'sh3gl3', 'pzp', 'c3orf33', 'sfrp1', 'sirt3', 'nqo1', 'myoz2', 'ca1', 'pde7a', 'ctcf', 'msmb', 'fam20c', 'chrna9', 'or51e1', 'ell3', 'plek2', 'polb', 'bnip2', 'mipep', 'nxph4', 'spanxb1', 'tmem130', 'znf354a', 'dpyd', 'slc18a1', 'asap3', 'mal2', 'rpap2', 'tmem221', 'fabp6', 'dpysl5', 'frmpd2', 'fut9', 'pabpc5', 'aoc2', 'pcdhga8', 'rgs2', 'bckdha', 'asxl3', 'ciita', 'hoxc9', 'snrpb2', 'hcar3', 'ogg1', 'grem1', 'trim41', 'pkd2l1', 'tspan17', 'znf600', 'fan1', 'il31', 'shisa4', 'btbd10', 'c18orf63', 'cbln4', 'kif13a', 'tgfbi', 'c1orf226', 'myh7b', 'orc2', 'brat1', 'sycp3', 'syt16', 'tex13c', 'ttc32', 'wfdc2', 'il9', 'arl6ip5', 'mcm3', 'ints14', 'cpsf3', 'igll1', 'trmt10c', 'smg9', 'znf211', 'aurkaip1', 'banf1', 'chrna10', 'ssbp4', 'ticam1', 'nfix', 'upf2', 'lrrc49', 'mospd2', 'pla2g7', 'tomm22', 'kcne5', 'siglec1', 'pydc2', 'celf4', 'mansc1', 'kiaa0753', 'slc5a1', 'slc39a7', 'slc2a5', 'siglec10', 'znf552', 'pecam1', 'tmem181', 'krtap27-1', 'mzf1', 'wnk1', 'vwa7', 'krtap5-1', 'magec1', 'znf555', 'fam216a', 'fgfbp1', 'lrif1', 'kat5', 'or7a10', 'krt4', 'rpp25l', 'klhl23', 'c15orf65', 'epb41l3', 'fads1', 'nkain3', 'itih5', 'pofut1', 'spry3', 'tgm2', 'gabra5', 'selenom', 'ccdc6', 'axl', 'bricd5', 'zfp69b', 'hhla1', 'usp21', 'uhrf1bp1l', 'ppcdc', 'cd300e', 'tmem273', 'lcn10', 'pramef18', 'rora', 'gtf2e1', 'slc34a1', 'atp6v0d1', 'serpina3', 'ccdc87', 'ankrd13b', 'ankrd24', 'dpy19l3', 'slc25a38', 'tmem251', 'znf852', 'tm9sf1', 'numbl', 'gnao1', 'slc12a1', 'myh7', 'myef2', 'snrk', 'znf277', 'jsrp1', 'vcl', 'degs2', 'nr1h3', 'nucb1', 'amdhd1', 'rassf4', 'lep', 'ctss', 'pax6', 'spg21', 'kcnv2', 'spint1', 'med27', 'golga6l6', 'snrnp40', 'plk1', 'dcdc2c', 'fos', 'mcrs1', 'sct', 'stradb', 'spata24', 'ubr5', 'kcnj18', 'phactr1', 'mef2d', 'mphosph8', 'mbip', 'ezr', 'fam189a1', 'il1r1', 'pold2', 'adgrb3', 'ptprm', 'zbed2', 'wdr12', 'agtpbp1', 'crh', 'insc', 'lingo2', 'fbxl15', 'tmtc1', 'hpgd', 'arpc2', 'pacsin3', 'srrm2', 'prok2', 'ccdc116', 'ube2t', 'rnf14', 'tmem192', 'maz', 'trim66', 'smc1b', 'klkb1', 'lrfn1', 'strap', 'best4', 'fnbp1', 'xrcc1', 'bpi', 'hoxd11', 'scn7a', 'c4orf46', 'glra1', 'tenm4', 'slc7a6os', 'dhrs2', 'rprm', 'tsen54', 'sar1a', 'pnma8b', 'or6n2', 'or1d2', 'or8u1', 'prss16', 'muc22', 'lrrc14', 'nr1i2', 'gpr83', 'znf699', 'pbk', 'nap1l3', 'klhl12', 'slc25a10', 'pcmt1', 'adra1a', 'adcy2', 'stra6', 'nlrp9', 'flna', 'sepsecs', 'pbov1', 'cmya5', 'foxo4', 'lyrm7', 'suclg1', 'tead3', 'dmbx1', 'rbm27', 'mbd1', 'gpsm3', 'tbl1x', 'npm2', 'c9orf78', 'cnga3', 'stab2', 'gria3', 'ptgir', 'arfgap1', 'samd13', 'slc22a14', 'gbp2', 'cdc16', 'sh2d4a', 's100a7a', 'smim36', 'rtkn2', 'c11orf21', 'nbeal2', 'gsdme', 'slc44a5', 'znf783', 'cabp4', 'dnajc13', 'rab7a', 'wwp1', 'taf4', 'dnajc9', 'or51f2', 'rbks', 'sgip1', 'anapc5', 'znf12', 'slc16a9', 'upk1b', 'serpinb1', 'gcdh', 'apmap', 'tuba4a', 'c2cd3', 'dlg3', 'tmem50b', 'ptchd4', 'micu3', 'fbxl7', 'haus6', 'atp6v1fnb', 'fam193b', 'rnf112', 'yipf5', 'or2a25', 'col17a1', 'poll', 'dgkq', 'msantd3', 'igip', 'gfra4', 'atm', 'or4q3', 'prune2', 'isg20', 'scube3', 'glud1', 'ccer1', 'foxd4l5', 'lcn8', 'cib2', 'kdm1b', 'bcl6', 'nacc2', 'rab12', 'rrp12', 'smurf1', 'zhx3', 'svopl', 'tgm1', 'tmem123', 'ly86', 'cdk18', 'sass6', 'uqcrc1', 'galnt13', 'mreg', 'cplane1', 'mcub', 'arpin', 's100a11', 'sac3d1', 'fam240c', 'c2orf16', 'stag1', 'grin3a', 'mamstr', 'tmem131l', 'nus1', 'taf4b', 'fam124a', 'hdac5', 'frk', 'slc25a13', 'c4bpa', 'naa35', 'clcn6', 'gja10', 'tmem87a', 'wdr6', 's100a5', 'washc5', 'fbxo11', 'kansl1l', 'epha8', 'acot9', 'st8sia1', 'znf658', 'usp43', 'gcgr', 'akt1s1', 'mettl9', 'bicd1', 'idua', 'mapk8', 'dolk', 'selenos', 'pdk4', 'adar', 'sucnr1', 'rdh16', 'cherp', 'fbxo46', 'nipbl', 'cd27', 'gtf2f2', 'hoxc4', 'kdelr1', 'idh1', 'stx17', 'optc', 'pth2', 'zfp28', 'znf594', 'nedd4l', 'syt6', 'leprotl1', 'noxred1', 'gper1', 'ramp2', 'ak4', 'polr3b', 'atp6v0e2', 'hes2', 'tp53aip1', 'mt-co2', 'itpk1', 'znf428', 'eloa2', 'ggt6', 'e2f4', 'mbp', 'rnf17', 'pkn2', 'pfkfb4', 'hpgds', 'actr1b', 'oxt', 'slc11a1', 'smtnl2', 'bmpr1b', 'cbarp', 'camk1g', 's1pr1', 'gng4', 'herc2', 'rnf8', 'dhrs7', 'kctd17', 'slc25a16', 'atp5mc1', 'thap2', 'syce1l', 'ankub1', 'dmp1', 'rnf114', 'ifitm2', 'uqcrc2', 'tada1', 'nit2', 'kcnk16', 'tuba1c', 'hnrnpm', 'clec5a', 'fam104a', 'fam83c', 'lpcat3', 'iws1', 'mtr', 'plce1', 'abcg8', 'abhd8', 'bin1', 'c4orf51', 'odf1', 'osbpl3', 'pard6a', 'bbc3', 'defb119', 'serp1', 'aph1b', 'tjp3', 'lpar6', 'sh3rf3', 'tnni1', 'hectd2', 'slc25a21', 'c2orf72', 'ar', 'pygb', 'nckap1', 'slc39a3', 'plscr1', 'dhx32', 'bglap', 'csnk1a1l', 'siglec7', 'cxcr5', 'dmrt2', 'cer1', 'nol10', 'zscan9', 'catsper2', 'kmt2c', 'vwc2l', 'rln2', 'cd302', 'ypel4', 'bcar3', 'adi1', 'yme1l1', 'ankrd33b', 'fbxw7', 'mtcp1', 'oc90', 'f8', 'mical1', 'tmem30a', 'kcnj8', 'mt-atp6', 'c11orf49', 'dazap2', 'sp7', 'morf4l1', 'hmgn1', 'ppa1', 'wnt2', 'nop9', 'psat1', 'il16', 'prss1', 'gabrg3', 'peak1', 'tex30', 'rbm43', 'spopl', 'tspan2', 'tnfsf4', 'crebl2', 'nts', 'tmx1', 'thoc1', 'tomm20', 'haus1', 'nccrp1', 'znf735', 'asf1a', 'taf1l', 'tlcd2', 'cyp2u1', 'cpne2', 'mrm1', 'ankrd62', 'etfbkmt', 'sfpq', 'git1', 'colq', 'itgb5', 'dtwd1', 'ifna14', 'dst', 'myh13', 'tjp1', 'tmed10', 'arhgef16', 'sap30', 'fcgr1b', 'stimate', 'or10k1', 'sall4', 'abhd2', 'glis3', 'btn3a3', 'banp', 'lama5', 'slc22a4', 'zadh2', 'hmgn3', 'thpo', 'pde4a', 'adam19', 'cysrt1', 'cxcl16', 'accsl', 'gar1', 'il13ra2', 'dnlz', 'sestd1', 'gdpd4', 'cep131', 'mettl14', 'washc4', 'il10ra', 'polr3h', 'p2ry8', 'cst9', 'gng2', 'naprt', 'atl3', 'nol9', 'lrpprc', 'dcaf4l1', 'dtx4', 'nop10', 'slc5a11', 'dusp14', 'ifitm10', 'dctn3', 'srrm4', 'habp2', 'spata31a7', 'znf398', 'parvg', 'c3ar1', 'wars2', 'tubb4b', 'muc7', 'znf182', 'galnt8', 'chrna1', 'p2rx7', 'gatb', 'hnrnpdl', 'or14j1', 'ppp1r14d', 'slc4a9', 'kcnmb2', 'exoc3l4', 'parp14', 'dpys', 'zbtb8a', 'msmp', 'enpp3', 'tmc6', 'sdf4', 'nox5', 'nupr1', 'mgarp', 'pdcd6', 'rbmxl3', 'gpr4', 'psmd14', 'mea1', 'tex47', 'pglyrp1', 'rab3a', 'ntf4', 'sh3bgrl3', 'golga7', 'nme2', 'or2ae1', 'mmachc', 'smim17', 'phrf1', 'ifi27l1', 'slc35f6', 'bmp1', 'mmp24os', 'esco2', 'il11', 'rft1', 'senp6', 'decr1', 'dpy30', 'chrd', 'abcc11', 'igsf22', 'ereg', 'meis2', 'mob4', 'uba52', 'zap70', 'map3k3', 'gpr143', 'lrrc58', 'cntn2', 'argfx', 'dnm1', 'rfx7', 'znf276', 'bax', 'dock2', 'mtap', 'nab2', 'nup58', 'dnttip2', 'prkce', 'ptf1a', 'retn', 'dpagt1', 'leprot', 'lgals16', 'ctnnd1', 'txn2', 'cst4', 'cdh12', 'gpr180', 'ccnl1', 'kalrn', 'gtpbp6', 'kcng2', 'pdxp', 'neurl1', 'klk1', 'ecpas', 'nid2', 'cxcr4', 'pde6h', 'fance', 'eid2', 'znf675', 'gng10', 'cyp4f3', 'nr3c2', 'pla2g4a', 'apoc2', 'qrfp', 'ccdc197', 'inpp5e', 'or13j1', 'rnf187', 'tcf12', 'lman2', 'prkcd', 'chat', 'runx2', 'setx', 'rbak', 'zfyve16', 'atp2b2', 'trim10', 'fam24a', 'rwdd3', 'or2t12', 'shisa6', 'apela', 'akr7a2', 'cntn3', 'gabpb2', 'gpr84', 'txndc15', 'mxd3', 'angpt4', 'krbox1', 'wnt7b', 'arhgap31', 'cpne8', 'serpinb11', 'dus3l', 'tmod2', 'nt5dc4', 'rnf19b', 'inpp5j', 'fbxw5', 'dnase1l2', 'synpr', 'ginm1', 'hpse2', 'plscr4', 'tns1', 'cdk2', 'fam76b', 'fn3krp', 'lrrd1', 'gsdmc', 'gpr137c', 'znf660', 'tonsl', 'znf583', 'anapc15', 'ppp1r15b', 'cenpf', 'cxorf38', 'or52n4', 'klhl8', 'plxdc1', 'avpr1a', 'gnpda1', 'btbd7', 'gabpb1', 'cln5', 'acer3', 'eif5a2', 'lrrn4', 'bcr', 'or2v1', 'otol1', 'parp16', 'nsun3', 'pradc1', 'ak8', 'tfrc', 'dbh', 'dsc2', 'phf20', 'naa50', 'ror2', 'matk', 'u2af2', 'tpte', 'dnm2', 'scfd1', 'tnfaip6', 'klf15', 'stx19', 'znf732', 'slx4ip', 'grp', 'cplx1', 'fam160b2', 'spp1', 'ankrd39', 'med12l', 'gabrr2', 'dyrk4', 'or5l2', 'pum1', 'nfatc2', 'nudt16l1', 'septin1', 'znf281', 'trem2', 'ccdc191', 'myo1d', 'lgals3bp', 'hras', 'kcnk15', 'cpne4', 'khdc4', 'kcnd2', 'kctd19', 'smc5', 'gda', 'ap1m1', 'ppp2r2b', 'lama1', 'sox8', 'hal', 'galnt4', 'slc38a2', 'sorcs1', 'atp5mgl', 'nbeal1', 'stap2', 'sf3b1', 'sun5', 'tsacc', 'cd163l1', 'rabepk', 'ikzf3', 'prkx', 'utp20', 'crybb3', 'fxyd5', 'sdf2', 'syn1', 'pjvk', 'plcxd2', 'zscan30', 'g0s2', 'pcdhga6', 'cysltr1', 'oprk1', 'fcrla', 'bzw2', 'prss51', 'meaf6', 'tesk1', 'rnf4', 'cyp51a1', 'fam186a', 'grip2', 'tpra1', 'cntn6', 'scgb1d4', 'neurl2', 'sbk3', 'dynap', 'dmrtc2', 'slfn13', 'znf566', 'adcy10', 'pgm1', 'ifngr2', 'strip1', 'znf765', 'cideb', 'nyap2', 'tet1', 'las1l', 'znf292', 'cdk2ap2', 'ube2f', 'cdip1', 'ears2', 'calhm3', 'znf461', 'capn12', 'btf3l4', 'smim24', 'znf383', 'or56b1', 'cdc42se2', 'soat2', 'hspd1', 'atoh8', 'znf581', 'fcgrt', 'mpv17l2', 'lmtk3', 'emp1', 'ndufb9', 'scgb3a1', 'agbl2', 'arhgef28', 'ccdc30', 'mis18bp1', 'mettl25', 'sike1', 'tmem265', 'tnpo3', 'chmp3', 'pwwp2a', 'rtraf', 'pgap1', 'anapc13', 'chst5', 'wfs1', 'znf630', 'mif', 'bpifb6', 'ccndbp1', 'pfkp', 'sult2b1', 'cyb5rl', 'ammecr1', 'pwwp3b', 'ms4a2', 'reg3a', 'slc26a7', 'cryz', 'fhod3', 'akap14', 'cip2a', 'tafa4', 'slco5a1', 'kcne2', 'lyve1', 'tssk1b', 'tspyl6', 'robo1', 'ykt6', 'cd109', 'il36g', 'spn', 'ung', 'fam76a', 'edn2', 'megf9', 'tfpi', 'atrx', 'adra2c', 'guca1c', 'mib2', 'tead2', 'tlr8', 'tnfrsf13c', 'fkbp15', 'fgf11', 'focad', 'znf454', 'tmem91', 'col9a3', 'arsg', 'plekhh1', 'cdh10', 'sdhaf1', 'ugt3a1', 'noc3l', 'mettl3', 'zc3h10', 'klhl4', 'paqr7', 'pms2', 'cnot7', 'ccnd1', 'pard3', 'snca', 'drc1', 'ca5b', 'kdm3b', 'or6c6', 'uba2', 'wdr19', 'gid8', 'fbf1', 'tmprss15', 'uevld', 'cops5', 'kif25', 'wdr43', 'elmod3', 'hoxd12', 'vsig1', 'efna5', 'adh1b', 'dvl2', 'ptk6', 'myrip', 'tsc22d2', 'gsg1l2', 'thsd7b', 'ptger1', 'znf22', 'nrm', 'or5ar1', 'nuak1', 's100a7l2', 'lyn', 'spc25', 'znf587b', 'pank1', 'rad18', 'znf563', 'itgb7', 'tdp1', 'naa60', 'tcf7', 'cttn', 'tbc1d14', 'ube2e2', 'rarg', 'dpf1', 'fam114a1', 'tmem240', 'thap5', 'krt84', 'ngef', 'map2k2', 'foxj2', 'slc35b3', 'bdh1', 'prag1', 'stim2', 'synm', 'cracr2a', 'hopx', 'or10h5', 'ankhd1', 'elf5', 'krr1', 'mcee', 'sephs1', 'tarm1', 'galns', 'lnx1', 'sncaip', 'slc4a11', 'mctp2', 'smc6', 'slc45a3', 'api5', 'copz2', 'cep76', 'hoxb7', 'adamts10', 'brd2', 'tppp2', 'c20orf96', 'eif4e2', 'znf519', 'trak2', 'iqcc', 'klhdc7a', 'vsig4', 'trub1', 'cxcl8', 'cela3a', 'manbal', 'cfap57', 'galnt3', 'adamts9', 'rab40a', 'c2orf42', 'bves', 'espnl', 'ccdc93', 'mtrr', 'tcl1b', 'rtl8a', 'tp53', 'mfsd14a', 'slc25a35', 'adcy3', 'vhl', 'fam228a', 'ddx5', 'psmc3ip', 'cabcoco1', 'pak1', 'lrguk', 'psmg4', 'midn', 'qrich2', 'ralgds', 'fbrs', 'mknk1', 'pdia4', 'sema4d', 'wnt8b', 'pgm3', 'znf92', 'ooep', 'muc3a', 'ascl4', 'pdcd4', 'syndig1l', 'ovol3', 'abat', 'cdc27', 'caskin1', 'tp53rk', 'lrrc37b', 'kcnk17', 'sspn', 'exosc1', 'prdm7', 'znhit2', 'lzts1', 'lamc1', 'spty2d1', 'nubp1', 'cemp1', 'uhrf2', 'ppp2r1b', 'sstr1', 'aff4', 'glrx', 'slc38a4', 'ccar1', 'ift172', 'utp18', 'dchs1', 'magi1', 'tdp2', 'tmem82', 'necap2', 'sall3', 'ndufb2', 'tcf7l2', 'gclc', 'cyb5b', 'srpra', 'tomm40l', 'adora2a', 'nutm1', 'b3galnt2', 'numa1', 'crlf3', 'gnb2', 'scml4', 'gabbr1', 'nlrp2b', 'sephs2', 'spata31a6', 'pfas', 'ibtk', 'itfg2', 'cenpc', 'lyzl4', 'krtap6-3', 'slc25a34', 'zyg11a', 'pou2f2', 'supt4h1', 'ypel5', 'or6n1', 'thap6', 'ccna1', 'fam89b', 'rxfp1', 'c1orf167', 'irf2', 'ints1', 'kprp', 'prex1', 'zdhhc17', 'taf13', 'pibf1', 'krtap21-1', 'scamp1', 'tex13b', 'rnase9', 'gpr27', 'abcc9', 'scara3', 'st3gal1', 'cd151', 'cox18', 'tff1', 'ccdc28b', 'immt', 'smim35', 'isx', 'chgb', 'ehbp1l1', 'faap20', 'psmb9', 'rarb', 'ttc38', 'tstd1', 'krtcap3', 'wwc3', 'fbxo25', 'trim23', 'zdhhc16', 'map7d1', 'sp8', 'axin2', 'lrrc23', 'ctdsp2', 'traf5', 'pcdh7', 'znf169', 'casc3', 'otulinl', 'aar2', 'scarf1', 'tedc2', 'mrgprx4', 'spdl1', 'mre11', 'gria2', 'shisal2b', 'zkscan2', 'defb129', 'akap7', 'gps2', 'mterf3', 'tmem41b', 'hoxb9', 'il19', 'mettl15', 'nanp', 'scg2', 'baz2a', 'shcbp1', 'fn1', 'pcbd1', 'ski', 'znf24', 'rpusd3', 'cdk5rap2', 'nlgn3', 'ryk', 'acd', 'spock2', 'camlg', 'or4c11', 'dcun1d4', 'ap3d1', 'spag1', 'zbed1', 'slc15a4', 'treml1', 'gpr33', 'abraxas1', 'kctd3', 'lrrc74b', 'znf681', 'tfe3', 'uckl1', 'zfp42', 'ccnh', 'herc5', 'lrrc6', 'msr1', 'iglon5', 'psg4', 'rnf212b', 'dpt', 'or8j3', 'tlx1', 'reg3g', 'kif18b', 'klc2', 'or1l8', 'clca1', 'parp4', 'rtn4rl1', 'klhl40', 'qsox2', 'bend6', 'armh3', 'wnt5b', 'magea9b', 'sod3', 'or3a3', 'dok1', 'gdap2', 'lcn15', 'cd37', 'gosr2', 'ctsl', 'cby3', 'or10a3', 'pde3b', 'nrl', 'itprid1', 'aamp', 'asb6', 'gnptab', 'spata18', 'ckb', 'gng5', 'ocel1', 'casp6', 'ralgapa1', 'foxr2', 'ccdc9b', 'opn3', 'mospd3', 'pgd', 'prr15l', 'gpr68', 'map3k21', 'arid1b', 'gsta1', 'gpa33', 'crebbp', 'kat6b', 'adgrf4', 'hhip', 'ccdc182', 'ly6g5c', 'mios', 'rdh13', 'iqub', 'prrt2', 'tmprss4', 'klhdc10', 'pramef8', 'ccdc73', 'mt1hl1', 'rpusd2', 'rras2', 'trmt2a', 'smpdl3a', 'hnrnpul1', 'spata3', 'wdr1', 'stard3nl', 'ube2e1', 'ing5', 'mynn', 'rasgef1b', 'gba2', 'ivns1abp', 'or2a5', 'znf425', 'mthfr', 'kxd1', 'brix1', 'rnf175', 'slc22a17', 'pdcd10', 'prr3', 'acaca', 'lamb1', 'cetn1', 'napa', 'ak1', 'chpt1', 'eif1ad', 'gucy2c', 'rnase3', 'adm2', 'tgm6', 'pheta2', 'ubac2', 'sugct', 'cryba1', 'eif4a2', 'plxnd1', 'cysltr2', 'znf3', 'ascc3', 'klrc4', 'shroom2', 'asb14', 'nectin2', 'c16orf87', 'defb110', 'igsf11', 'socs4', 'trim16', 'galntl5', 'hdac11', 'hnrnpa3', 'rtcb', 'klk15', 'egr3', 'slain1', 'ctbs', 'snrpb', 'adam18', 'ttf1', 'cdcp1', 'cnga1', 'grm3', 'gsk3b', 'krt37', 'nomo1', 'arhgef6', 'wdr24', 'sry', 'cobl', 'nt5c2', 'ehd2', 'lpcat2', 'cdh3', 'mpzl2', 'exosc6', 'sec24b', 'taar9', 'inpp5f', 'znf880', 'slc16a8', 'rnf40', 'cd52', 'slc3a1', 'ntn4', 'lsr', 'lypd1', 'thap3', 'tsga10ip', 'mageh1', 'kcnk18', 'atxn10', 'col6a3', 'gltp', 'ctsg', 'mex3c', 'scyl3', 'tunar', 'taf2', 'pfdn6', 'rnf138', 'ccnb1ip1', 'top1mt', 'nxpe3', 'itga10', 'klf3', 'sdsl', 'dusp2', 'nsun7', 'odf3l1', 'ebp', 'commd8', 'msh2', 'tmem164', 'tmub2', 'spire2', 'dixdc1', 'slfn11', 'traf4', 'csnka2ip', 'snap23', 'akirin1', 'usp36', 'znf253', 'glyr1', 'commd10', 'fcer1g', 'def6', 'ribc2', 'slc66a1', 'adora1', 'opcml', 'fbxo2', 'micos13', 'rab3b', 'appbp2', 'gp6', 'bcat2', 'cacng1', 'gdf5', 'gspt1', 'msantd1', 'ppp6r3', 'tnfsf9', 'appl2', 'nfatc3', 'igfals', 'cpamd8', 'fank1', 'slc39a6', 'phtf2', 'akr1c1', 'evpl', 'rd3l', 'smarcd1', 'snx22', 'trps1', 'c8orf76', 'plpp2', 'lrrn1', 'acot6', 'arpc1a', 'ehf', 'slc35b2', 'nbas', 'tbx2', 'timm17a', 'slc35c2', 'smr3b', 'znf66', 'ldb1', 'vgf', 'ddx4', 'sap25', 'ugt1a3', 'sim1', 'ccdc173', 'ghr', 'arglu1', 'grb10', 'rnf2', 'col12a1', 'med22', 'mmp7', 'sqstm1', 'ccdc70', 'ube2l3', 'ybx1', 'phex', 'tmsb10', 'zfp92', 'znf490', 'ret', 'zbed5', 'zc3h7a', 'ostn', 'hsd17b8', 'or5d14', 'foxa2', 'nolc1', 'icam4', 'rbm18', 'cdc42bpg', 'ptgr1', 'taok3', 'c8a', 'nsun6', 'mapk1ip1l', 'tvp23c', 'dtd1', 'pigl', 'prps2', 'or12d2', 'golga5', 'ppm1m', 'pram1', 'vegfa', 'znf367', 'susd5', 'ankrd27', 'pramef20', 'efhc1', 'rnase4', 'mmp1', 'usp39', 'ephx4', 'hdc', 'dgki', 'nkapl', 'lrrc30', 'per3', 'spanxn4', 'socs1', 'cd8a', 'map1b', 'alms1', 'cyp1a1', 'clasp2', 'akr1b1', 'arrdc3', 'lrrn2', 'rlf', 'skor1', 'kdelr2', 'kdm5b', 'psors1c1', 'akr1a1', 'srgn', 'osbpl9', 'gatad1', 'slc13a5', 'dlx4', 'pxt1', 'znf680', 'dpysl4', 'srgap3', 'nxn', 'kcnh8', 'xg', 'hes6', 'kif3c', 'htr3d', 'malt1', 'nxnl2', 'slc9b1', 'muc6', 'ikbke', 'rfpl4al1', 'tsga13', 'tti2', 'cnksr2', 'glyctk', 'fam83f', 'myh9', 'tmem8b', 'eps8l1', 'tmem253', 'dusp22', 'slc35d1', 'topbp1', 'tmf1', 'coprs', 'atp5mf', 'c6orf62', 'ccdc18', 'xrcc4', 'bcl11b', 'exoc6', 'il37', 'c11orf54', 'mlip', 'ndufc2', 'prac2', 'tbc1d9b', 'napb', 'doc2a', 'tmed4', 'znf431', 'lztfl1', 'chid1', 'lamp2', 'rpa3', 'ppp6c', 'rapgef5', 'emp2', 'traf3ip1', 'pax8', 'itpkc', 'prelid3b', 'acss3', 'ercc6l', 'trmt13', 'znf654', 'znf540', 'ccdc181', 'znf317', 'nanogp8', 'ubash3b', 'pou3f1', 'fam114a2', 'cwc27', 'kdm2a', 'pkig', 'spaca1', 'colec11', 'syp', 'slit1', 'mmp24', 'sell', 'prss41', 'rnf208', 'ptbp1', 'fmn2', 'golga1', 'rflnb', 'top1', 'asic2', 'hoxc13', 'rab5a', 'or2at4', 'gng8', 'or5ac2', 'capzb', 'dlg2', 'polg', 'plk4', 'znf638', 'dact3', 'tigd7', 'tmem41a', 'acly', 'adamts1', 'crybg2', 'entpd2', 'c3orf52', 'kiaa2012', 'fgfbp2', 'smpd3', 'c6orf15', 'golga7b', 'hjv', 'edc3', 'ak6', 'tfdp1', 'sgk1', 'eid2b', 'cd1a', 'tert', 'inca1', 'csf3', 'insl5', 'p4ha3', 'prxl2a', 'defb127', 'psmb2', 'tas2r9', 'afp', 'vegfb', 'fth1', 'tom1l2', 'mtrex', 'armcx3', 'orc4', 'slbp', 'trmt12', 'zscan4', 'med18', 'golt1b', 'rbbp9', 'uqcrb', 'syde2', 'ptrhd1', 'wfdc6', 'igf2bp2', 'kbtbd11', 'ankrd65', 'lsm2', 'nhlrc1', 'bmp3', 'tlr5', 'znf705a', 'atxn7l2', 'gpr156', 'mageb4', 'aldh4a1', 's100b', 'kdm4b', 'tmem109', 'atp5mc3', 'trim44', 'ddx31', 'colec10', 'klhl38', 'tmem255b', 'klk12', 'emcn', 'ndufa2', 'rbm24', 'ehd3', 'tmem9', 'lilrb4', 'pmis2', 'agpat2', 'gpr149', 'gas2l2', 'dock4', 'bicc1', 'ptrh1', 'rars2', 'sbno1', 'cenpb', 'suox', 'zfp1', 'abhd6', 'il1r2', 'fancd2os', 'cntnap3b', 'cd40lg', 'elovl6', 'dlg5', 'fgf5', 'tmco5a', 'uqcrfs1', 'zscan10', 'pkd2', 'surf6', 'tulp4', 'dis3l', 'en1', 'or6b1', 'slc43a2', 'taf6', 'atg7', 'dand5', 'suclg2', 'dhrs13', 'lpin3', 'nexn', 'pygo1', 'stpg2', 'pdgfd', 'tepp', 'fap', 'ints4', 'rbpms', 'il18bp', 'c5orf52', 'fsd2', 'klc1', 'mnx1', 'znf688', 'nphs1', 'rpap3', 'camkmt', 'antxr1', 'taf8', 'golga8r', 'hipk3', 'f11', 'bpnt1', 'pdzd2', 'mki67', 'rnf125', 'nkiras1', 'kcne3', 'lgals14', 'adam10', 'ddt', 'rbms3', 'dbndd1', 'dnajc5g', 'hdac4', 'ren', 'spata31e1', 'coq10b', 'hspa13', 'ifi44l', 'acer1', 'sprr2b', 'abcf3', 'clta', 'tprg1', 'gja8', 'slc2a7', 'wdfy3', 'tatdn1', 'nudcd2', 'tmem236', 'phf1', 'cartpt', 'kcnq5', 'mucl3', 'haus2', 'nono', 'or2t27', 'tatdn2', 'c9orf40', 'cavin2', 'gfi1', 'rfpl4a', 'tfcp2l1', 'borcs7', 'enpp4', 'polr2l', 'grhl1', 'atp11a', 'klf7', 'adam28', 'klhl28', 'card9', 'hexa', 'mboat4', 'ubash3a', 'spdyc', 'zfyve19', 'znf114', 'etv2', 'nudt3', 'or8j1', 'znf302', 'setd7', 'ca3', 'srsf2', 'sun2', 'mrto4', 'wdr86', 'zswim7', 'sth', 'luzp2', 'gins1', 'btbd8', 'cdk16', 'ankrd30a', 'fut4', 'ccnt1', 'grid2ip', 'stab1', 'shc1', 'fgfbp3', 'ccdc81', 'fkbp9', 'ruvbl1', 'scarf2', 'ceacam21', 'tgif2ly', 'adirf', 'scin', 'nexmif', 'traf6', 'melk', 'otoa', 'dera', 'as3mt', 'depdc1b', 'ndufa12', 'rph3a', 'tmem263', 'tnfrsf8', 'znf346', 'map2k4', 'ppp1r12a', 'faxdc2', 'atad3a', 'golgb1', 'oosp1', 'ppp6r2', 'tmem63c', 'or10a2', 'ric8a', 'sipa1l2', 'ccr8', 'kti12', 'tle2', 'dnajc12', 'c2orf73', 'asnsd1', 'glul', 'fga', 'neo1', 'myo9b', 'dmrtb1', 'reep3', 'znf324', 'zmat2', 'usp16', 'cipc', 'gja4', 'hsd17b11', 'bche', 'tbc1d28', 'mt1e', 'trim29', 'ccl22', 'crtc2', 'mark4', 'mxi1', 'kcnh7', 'phox2b', 'anapc4', 'pdlim7', 'tmem190', 'birc6', 'znf224', 'jade1', 'tmem258', 'abce1', 'dsg1', 'tmem158', 'asb5', 'anks1b', 'lrrc8e', 'znf234', 'mfap3', 'lce1d', 'msh6', 'or2t6', 'bmpr1a', 'crmp1', 'scn11a', 'ankle1', 'smpx', 'mxra8', 'rit2', 'snx6', 'xpa', 'znf830', 'or4s2', 'mtln', 'hps1', 'lrrfip2', 'cuta', 'ly6k', 'ccdc12', 'uts2b', 'cdh23', 'alg8', 'papolg', 'tuba3d', 'ctdsp1', 'cacna1f', 'magix', 'fiz1', 'padi3', 'rraga', 'ngrn', 'slc35f1', 'nop53', 'slc29a4', 'p4htm', 'ambp', 'dkk1', 'ankrd40cl', 'bcl6b', 'kif14', 'spata2', 'tle3', 'zcchc18', 'gk5', 'rsph9', 'raver2', 'znf219', 'ercc1', 'calcr', 'samd15', 'dpysl3', 'srd5a3', 'tbc1d10b', 'crlf2', 'nr2c2', 'rit1', 'znf577', 'zdhhc20', 'ap1g2', 'slc40a1', 'slc9a4', 'ubqln3', 'gas7', 'or4k5', 'tmed8', 'dcun1d3', 'cd200', 'ldhal6b', 'mfsd4b', 'cys1', 'enkur', 'popdc3', 'clic2', 'nudt18', 'rab7b', 'pnma3', 'ankrd63', 'foxg1', 'map7d3', 'septin12', 'ascc2', 'ncor2', 'rab21', 'sulf1', 'mvb12a', 'spred2', 'pde6c', 'pigt', 'ndufa10', 'ccl18', 'slc39a13', 'acbd4', 'brf2', 'prrc2b', 'kcnj5', 'gk3p', 'mdh1', 'ncaph', 'ncoa1', 'lmod2', 'msra', 'ccdc130', 'fbxo21', 'tfcp2', 'erfl', 'acbd3', 'calcrl', 'fbln1', 'krt32', 'mas1', 'znf112', 'nat16', 'lmbrd1', 'lpcat4', 'pm20d2', 'rundc1', 'f2rl2', 'rimbp2', 'sp9', 'sprr2a', 'tbpl2', 'tm9sf4', 'map4k3', 'rexo2', 'gpr132', 'magea10', 'atp2b4', 'lypd2', 'or5b17', 'krt33b', 'abca9', 'or7e24', 'ulk3', 'znf770', 'pkp3', 'ntpcr', 'gnat1', 'tcp11', 'ccl13', 'nup50', 'cand2', 'rab11fip5', 'kbtbd3', 'sdhb', 'epha7', 'nos2', 'metrn', 'prdx3', 'nfyb', 'or5a1', 'kif20a', 'anapc10', 'ostc', 'nek9', 'atp2b3', 'chst4', 'hspb9', 'rapgef1', 'ypel1', 'htra4', 'atp6v0a2', 'mageb5', 'asic5', 'galnt18', 'adamtsl4', 'slc25a46', 'rhobtb1', 'fat2', 'eng', 'fhl1', 'cacna1s', 'c4orf45', 'prpsap1', 'isoc1', 'actn4', 'dcdc1', 'abhd11', 'tle1', 'ube2q2', 'ap1g1', 'serpina6', 'syt17', 'fbxl3', 'fbxo10', 'tmem254', 'or2j3', 'dnah9', 'znf573', 'kctd10', 'mtfp1', 'angptl7', 'cyp8b1', 'tulp1', 'hipk4', 'p2ry10', 'marcol', 'cntn4', 'pogk', 'vsir', 'cep78', 'cdc42se1', 'slc22a11', 'epm2a', 'man2b1', 'tmx2', 'meikin', 'kiaa1755', 'kcnn2', 'rccd1', 'nefm', 'kras', 'rfc1', 'acin1', 'prickle3', 'scaf11', 'slc12a4', 'donson', 'arhgef5', 'atic', 'bambi', 'c6orf226', 'aanat', 'mfap4', 'adgrg1', 'tmem67', 'cabyr', 'tmem71', 'frmd6', 'stam', 'tmem156', 'slc36a4', 'eddm3a', 'cela2a', 'siva1', 'dpep2nb', 'c17orf80', 'sertm1', 'gas2l1', 'mbtps2', 'carmil1', 'hmg20a', 'mos', 'pmp2', 'pcgf5', 'tmem245', 'arid3c', 'tnni2', 'c8orf74', 'cnnm4', 'apobec4', 'etv4', 'gzma', 'tbx22', 'triqk', 'hexd', 'mn1', 'hsd11b1', 'fgf16', 'polr3k', 'ttc3', 'zdhhc6', 'ptprj', 'gpr87', 'sost', 'prr23b', 'zfhx2', 'chn1', 'znf266', 'mettl24', 'siae', 'noxa1', 'or1l4', 'tmem229b', 'stxbp5', 'dym', 'syne2', 'pvalb', 'nmi', 'soga3', 'sesn3', 'zbtb9', 'sgms2', 'gss', 'fpr3', 'col18a1', 'slc9a6', 'sec61g', 'aff2', 'znf497', 'ldlrad4', 'defb112', 'myl12a', 'plac1', 'or10z1', 'trnau1ap', 'znf593', 'scel', 'hnrnpk', 'cela3b', 'c10orf67', 'tacstd2', 'camta2', 'helz2', 'smarca1', 'tcp11l1', 'abca2', 'cd180', 'klhl32', 'c1orf198', 'pcdha8', 'stox2', 'cacna1b', 'tbx19', 'ttl', 'map9', 'mttp', 'tecrl', 'plcb3', 'l3mbtl1', 'tcf23', 'gtf3c2', 'pla2g4d', 'psmd5', 'gnl3l', 'or4d2', 'tmem208', 'ybey', 'znf628', 'bcl7b', 'nfkb1', 'hnf4g', 'or11a1', 'or10v1', 'trmt61b', 'qrfpr', 'enpep', 'bud23', 'rsph3', 'trib3', 'znf143', 'or2g3', 'aaas', 'rfxap', 'ext2', 'sec23b', 'slc16a10', 'sntg1', 'ugt2b28', 'gjb7', 'mgll', 'sema3b', 'rgl4', 'batf2', 'cdc37l1', 'kiaa0100', 'hnrnpf', 'tmed3', 'cxcl13', 'swi5', 'or52r1', 'pkib', 'slc45a4', 'izumo1r', 'tmem106c', 'ugt2b10', 'aldh18a1', 'vps41', 'clk1', 'fam237b', 'tmbim6', 'or2i1p', 'osbpl1a', 'vasp', 'catsper4', 'lrriq3', 'ppl', 'lrrc27', 'lce3c', 'endov', 'dnajc10', 'cbr3', 'ddi2', 'c4b', 'bmp2', 'fam186b', 'tox', 'wdr72', 'fmn1', 'stum', 'ccl28', 'glipr2', 'ttll4', 'zdhhc15', 'or8b2', 'csmd1', 'med9', 'tuft1', 'stx2', 'zmat1', 'znf251', 'maf1', 'prdx6', 'cacna1g', 'grxcr2', 'arhgap8', 'dnal4', 'smarcc2', 'map3k7cl', 'alpp', 'lnp1', 'tnfrsf19', 'gpr78', 'clec9a', 'rimkla', 'map1lc3b', 'pbxip1', 'cd1b', 'epn1', 'crebrf', 'or11l1', 'scube2', 'c11orf58', 'thsd1', 'tlcd3b', 'dctn5', 'ugt1a1', 'nme6', 'nlrp2', 'pik3c3', 'samd12', 'bace2', 'emc6', 'khnyn', 'daam1', 'c2orf49', 'atrn', 'ndufa9', 'sf3b2', 'ankmy2', 'rnf24', 'pla2g2c', 'brca2', 'ddx49', 'serpina7', 'slc25a36', 'xrcc2', 'adgrb2', 'osbpl8', 'pdia3', 'dhrs1', 'lrit3', 'mcl1', 'rbm19', 'rcc1l', 'akr1b15', 's100a3', 'dcaf4', 'ube2d1', 'cpz', 'cd2', 'wnt11', 'st18', 'unc5d', 'uhrf1', 'panx2', 'znf275', 'rbbp8', 'ndrg2', 'htr1f', 'arsh', 'trappc2l', 'exoc1l', 'mageb18', 'ankrd50', 'kcnv1', 'zmat4', 'magea4', 'aqp9', 'neurod2', 'calb2', 'sgsm3', 'p2ry12', 'zmym1', 'psma7', 'slc25a17', 'coq9', 'wdr26', 'trpc5os', 'tlr1', 'hlf', 'pik3c2b', 'spata48', 'slc30a8', 'ifit2', 'cbx6', 'clrn2', 'glrb', 'cul5', 'tgfbr1', 'atp13a4', 'tnc', 'clstn1', 'adora2b', 'fastkd5', 'proz', 'amt', 'epg5', 'ccr7', 'tead4', 'tmem230', 'nipa2', 'tagap', 'ripply1', 'arl6ip4', 'bod1l2', 'gsn', 's100a6', 'tenm1', 'cbx3', 'ifit1b', 'ncbp2', 'rnd3', 'polr2i', 'mapk7', 'rpgrip1l', 'rem2', 'hoxb13', 'sema4b', 'adh5', 'ufsp1', 'trim62', 'sod2', 'sec31b', 'shtn1', 'prom1', 'znf821', 'parp1', 'rdm1', 'elf4', 'hoxa1', 'pcdhga10', 'smarcd3', 'nub1', 'lbh', 'zdhhc11b', 'adamts13', 'fxn', 'cryba2', 'ndrg4', 'npffr1', 'bmp15', 'sgpl1', 'copa', 'hoxb1', 'kdm6a', 'psme4', 'slc41a2', 'ube2o', 'smarcal1', 'rasa3', 'kcnip3', 'adam12', 'timp4', 'nfkbid', 'gpr101', 'ptbp3', 'rxylt1', 'dcbld2', 'artn', 'pf4v1', 'sh3pxd2a', 'tmed9', 'klhl36', 'sec22b', 'eif3a', 'nt5c3b', 'ubn1', 'cep63', 'ostm1', 'atp6v0c', 'clnk', 'ppp2r2a', 'ube2c', 'fat3', 'pcdha6', 'scml2', 'hhex', 'znf100', 'cyth1', 'nkap', 'znrf1', 'gnmt', 'slc6a3', 'bbs7', 'pglyrp4', 'pth1r', 'vit', 'wnt9b', 'znf358', 'arsa', 'gpr150', 'coq6', 'klf1', 'slc26a3', 'lrrc14b', 'mx2', 'tma16', 'derpc', 'lacrt', 'ryr2', 'sh3kbp1', 'nhs', 'slc17a7', 'ric3', 'f9', 'ttc24', 'pp2d1', 'pramef10', 'mslnl', 'zdhhc8', 'cgnl1', 'zic2', 'mpped2', 'ndnf', 'c19orf84', 'or5h2', 'prss12', 'znf132', 'tdg', 'larp6', 'ncoa7', 'tbcc', 'adra1b', 'gpatch8', 'lsm12', 'csf1r', 'phf12', 'slc25a14', 'nkx3-2', 'tcf3', 'pgpep1', 'nxnl1', 'ythdf1', 'arsf', 'mboat2', 'prr9', 'frmpd3', 'znf212', 'ccdc51', 'pkmyt1', 'pfkfb1', 'tmem201', 'kcnj13', 'cdrt1', 'foxs1', 'pik3r4', 'lmntd1', 'vgll3', 'or2v2', 'tas2r40', 'ssr2', 'grxcr1', 'or4k1', 'apba2', 'jund', 'qki', 'tceanc2', 'gja3', 'caap1', 'ndufs7', 'magea8', 'bach1', 'psenen', 'ccpg1', 'hsd17b12', 'ankrd42', 'gage1', 'galnt14', 'gpr39', 'hmox2', 'pamr1', 'fa2h', 'rp2', 'acacb', 'rpp30', 'shisa7', 'cpsf4l', 'rfpl1', 'nadk', 'adarb2', 'or2t33', 'pdcd6ip', 'sptlc1', 'angptl1', 'sertad2', 'stbd1', 'abcg4', 'pcsk9', 'ndufa8', 'cpa6', 'rimbp3b', 'stk32c', 'fgl1', 'slc26a5', 'pik3c2g', 'taf5', 'scnn1a', 'zmym4', 'ercc2', 'defa3', 'ikbkb', 'mastl', 'pik3cd', 'zbtb26', 'sirt7', 'txnl1', 'camk2a', 'scn4a', 'gpatch3', 'smpdl3b', 'men1', 'ahsg', 'clmn', 'pced1a', 'spin2b', 'tat', 'vsnl1', 'wdr7', 'brox', 'ido2', 'slc35d3', 'ubd', 'fabp5', 'myt1', 'pate2', 'or1c1', 'cdo1', 'rdh12', 'stath', 'fam71e2', 'slc8a3', 'oscar', 'desi2', 'parp2', 'adgrl3', 'vstm1', 'patj', 'ccl24', 'il32', 'c12orf66', 'cbx8', 'entpd4', 'ndufv1', 'scly', 'snx13', 'frmd7', 'dlg4', 'pak4', 'prrg3', 'prrt1', 'srsf5', 'usp26', 'enox2', 'tpmt', 'cdkn3', 'micb', 'gigyf2', 'ppara', 'c1qc', 'abhd12b', 'cdc5l', 'gca', 'psmd2', 'ankrd1', 'sec14l1', 'utp3', 'crygc', 'adnp', 'intu', 'ciart', 'ffar1', 'ncbp2as2', 'elovl5', 'mllt1', 'myzap', 'ankrd17', 'apobec3d', 'mllt11', 'pias2', 'fis1', 'txnrd3', 'rad52', 'kif15', 'sema3a', 'tmem178a', 'stac', 'or7g3', 'ahi1', 'llcfc1', 'pon1', 'ankh', 'ttc22', 'ache', 'fgf1', 'cdr2l', 'vav1', 'gpr182', 'or52i1', 'dcun1d2', 'treml4', 'ythdc2', 'mgam2', 'mmp19', 'slc7a7', 'dll3', 'cib4', 'chd8', 'birc3', 'dctpp1', 'lipj', 'vrtn', 'cep192', 'kcnn1', 'pik3ap1', 'scn1a', 'pafah2', 'ap4m1', 'ccdc86', 'mmaa', 'ptges3', 'rnase8', 'snx10', 'trim9', 'gli2', 'mt1g', 'yap1', 'wnt4', 'gipc3', 'mgat2', 'nsmce4a', 'sap130', 'slc39a8', 'usp25', 'actr1a', 'eny2', 'tnfrsf1a', 'klhl21', 'igbp1', 'dcxr', 'gfm2', 'c11orf95', 'lmbr1', 'pts', 'pou2af1', 'usp28', 'znf440', 'hacd2', 'cd274', 'znf805', 'pitrm1', 'fut1', 'deaf1', 'stk19', 'znf385d', 'fam237a', 'tmem116', 'znf879', 'npas1', 'st6galnac2', 'cpxm2', 'cfap97', 'fxr2', 'znf107', 'krtap15-1', 'nudt11', 'mcm2', 'cebpb', 'znf274', 'cfap74', 'pip4p2', 'pvr', 'aph1a', 'baiap2l1', 'afg1l', 'bbx', 'mob1b', 'tmie', 'znf626', 'mael', 'mdfi', 'nod2', 'znf567', 'grm8', 'slc12a2', 'glod5', 'hoxa2', 'c6orf52', 'klhl14', 'apod', 'lmtk2', 'scygr4', 'ccdc43', 'rtl1', 'ago3', 'pdia5', 'paqr4', 'il7r', 'ech1', 'otos', 'znf69', 'magea1', 'ugt1a10', 'sgsm1', 'spata5l1', 'mast1', 'pcare', 'upk3a', 'ropn1b', 'nfkbia', 'sncb', 'prpf40a', 'klhl7', 'mpc1', 'nme3', 'homer1', 'mindy4', 'nr2f1', 'pcif1', 'tmem102', 'dnajc5b', 'aqp5', 'vim', 'parpbp', 'ckm', 'tbrg1', 'nars2', 'fam166a', 'igfbp6', 'kcnh5', 'srrd', 'trpc4ap', 'znf33b', 'zpbp2', 'c5orf22', 'ino80', 'anp32a', 'adam9', 'itih6', 'apoc1', 'igdcc3', 'ctsb', 'bcs1l', 'mfsd9', 'ptgfr', 'rac2', 'znf19', 'cep128', 'ip6k1', 'kiaa1109', 'prpf38a', 'synpo2l', 'txlng', 'klf5', 'ggt7', 'madd', 'rock2', 'ccdc115', 'sgpp1', 'spred3', 'p3h4', 'rnf113a', 'rab1a', 'st7', 'plpp4', 'hs3st1', 'lemd2', 'mcm10', 'nuak2', 'lrrc20', 'sec24c', 'sel1l2', 'c17orf99', 'tnfrsf11a', 'adam15', 'esyt1', 'ccl21', 'c12orf56', 'ccr4', 'cpsf6', 'cyp4a22', 'hsd17b1', 'shisa8', 'ggt5', 'ddx53', 'kiaa1143', 'plekha7', 'ano1', 'slc35f4', 'gdpd3', 'map3k14', 'frrs1l', 'slc6a5', 'bet1l', 'smim20', 'usp13', 'tmigd1', 'pgbd5', 'bola1', 'il1rn', 'acads', 'pcdhb16', 'syngr1', 'pter', 'ppp2r1a', 'znf687', 'b3gnt3', 'cep295nl', 'tmem54', 'lilra5', 'snu13', 'fmo4', 'aadat', 'spink5', 'anos1', 'ncr1', 'b3gnt8', 'hps6', 'smim38', 'acp6', 'pias4', 'ccdc71l', 'dot1l', 'epha10', 'tacr1', 'trpv4', 'akap11', 'gpr153', 'sri', 'rbm25', 'psmd6', 'rab23', 'sult1c2', 'or5m3', 'daz2', 'or2w1', 'gpc3', 'sox2', 'kcnq3', 'znf30', 'cela2b', 'adam29', 'mgat3', 'ranbp3l', 'prmt6', 'adgrl1', 'fndc3b', 'smc3', 'vps51', 'cfap70', 'kcnh6', 'keap1', 'lrba', 'eno4', 'pik3cb', 'znf837', 'arf1', 'znf564', 'tmem241', 'rlbp1', 'slc6a17', 'nup214', 'txnrd1', 'fam229b', 'tbx15', 'rbp4', 'pcsk5', 'smg7', 'ca12', 'lgi3', 'itgal', 'psma4', 'slc35a2', 'fgfr2', 'sp140l', 'ergic1', 'tifab', 'c2orf68', 'prb1', 'c8b', 'c8orf89', 'samhd1', 'mmp8', 'crocc', 'ric8b', 'mfn2', 'mfsd3', 'ndst4', 'stkld1', 'dusp1', 'prr30', 'kiaa1671', 'zbtb18', 'iqck', 'camk4', 'llph', 'tacr2', 'ptgdr2', 'adra2b', 'hmgn5', 'psmc1', 'dalrd3', 'atf4', 'ep300', 'fahd2b', 'znf140', 'nup133', 'cchcr1', 'st6galnac1', 'gpr183', 'mkrn2os', 'zfyve28', 'nqo2', 'ccnc', 'eml1', 'prim1', 'wdr81', 'vps28', 'c4orf47', 'casp8ap2', 'tor2a', 'ccdc91', 'gtpbp4', 'ifna5', 'ppp2r5d', 'ifit3', 'ltv1', 'sync', 'smyd5', 'c2orf80', 'pmm2', 'eif4a1', 'slitrk6', 'vat1', 'il27', 'pstpip2', 'avl9', 'elp4', 'tmem150c', 'taar1', 'rap1a', 'slc25a51', 'cript', 'dr1', 'or13g1', 'sox1', 'samd1', 'vwa5a', 'coq8b', 'fbxo36', 'cbfb', 'trim77', 'atp13a1', 'dkc1', 'znf747', 'nptx1', 'fcn2', 'rab41', 'wtip', 'rnf151', 'bcl2l15', 'tdrd5', 'elane', 'cd8b2', 'hif1a', 'grm7', 'trappc13', 'rbm7', 'smc2', 'spcs1', 'tulp3', 'c12orf45', 'pabpc1l2a', 'msc', 'fam13a', 'clk3', 'pm20d1', 'cnp', 'muc17', 'zbtb24', 'zfp2', 'sp140', 'tmem184c', 'epb41l4b', 'tnk1', 'pdgfa', 'cyp7b1', 'or5m8', 'nrbf2', 'zswim9', 'cdc45', 'stambpl1', 'cfap97d2', 'pxmp2', 'meak7', 'dnah12', 'foxo6', 'pus10', 'ak9', 'alox5', 'nf1', 'zfp64', 'mthfsd', 'orm1', 'icam1', 'cd79b', 'eda', 'rgs11', 'igfbpl1', 'ddr1', 'mgat5b', 'rnps1', 'ubac1', 'fam47a', 'c17orf49', 'tsen34', 'or5m10', 'vps18', 'mpo', 'dgkd', 'cyb5r2', 'pask', 'timm9', 'adgrg6', 'dnmbp', 'lsm7', 'myo18a', 'rbp1', 'gprc5c', 'znf280a', 'mgat4d', 'myo15a', 'gdf2', 'cdk5', 'card6', 'cpeb1', 'thop1', 'lemd3', 'map3k10', 'slc1a1', 'nrip3', 'mgst3', 'kctd14', 'hgfac', 'creb5', 'fam170a', 'fam227b', 'slc39a2', 'susd1', 'atp13a3', 'adgrg5', 'pdhb', 'tex38', 'dyrk2', 'tfap2d', 'id3', 'wsb1', 'akap3', 'rnase7', 'trim14', 'arap3', 'ufl1', 'pde8b', 'phox2a', 'gbe1', 'znf180', 'prss55', 'ccnf', 'taf11', 'myl12b', 'polh', 'cyp4a11', 'irx2', 'col16a1', 'epm2aip1', 'col8a1', 'golga2', 'ccdc126', 'hmgxb4', 'lims2', 'agpat1', 'angpt2', 'phtf1', 'polr3d', 'itgav', 'znf668', 'arl6', 'cep126', 'zscan5b', 'c1orf105', 'or8b4', 'dync1li1', 'ctse', 'dph2', 'mmp15', 'rpp40', 'laptm5', 'ndufaf3', 'stat1', 'cdkn2aip', 'atp8a2', 'dprx', 'pramef11', 'actl8', 'nrk', 'dus1l', 'hsp90aa1', 'tmem80', 'qser1', 'dnajc15', 'slc7a13', 'tbc1d5', 'dnah17', 'or5a2', 'eloa', 'fam3d', 'pdzd3', 'rab28', 'dnmt3a', 'or8i2', 'bcl10', 'cplx3', 'znf596', 'ccdc183', 'grin2b', 'aatk', 'crocc2', 'frmpd4', 'lsm10', 'pitpna', 'wdtc1', 'sdhaf3', 'mtfr1l', 'wbp4', 'tasor', 'krtap10-10', 'ankrd34a', 'knl1', 'hr', 'usf1', 'rnf5', 'acox2', 'ptpa', 'sema3c', 'gins2', 'snd1', 'ambra1', 'or8h2', 'tmem72', 'rab37', 'cry1', 'trim60', 'c14orf132', 'gjb2', 'patl2', 'lck', 'bcas2', 'chd2', 'pcbd2', 'ehmt1', 'ucp3', 'slc25a52', 'bhlhe22', 'pxn', 'zmynd8', 'pfdn1', 'eif4g1', 'krt71', 'ccdc34', 'mep1b', 'gdpd5', 'glyatl3', 'ppp1r14b', 'rasa4b', 'trim46', 'amz1', 'ppp2r2d', 'farsa', 'pydc1', 'setbp1', 'col28a1', 'gabra2', 'ogfrl1', 'igsf9b', 'mgst2', 'ramac', 'cpa3', 'notch2', 'znf98', 'pcdh10', 'krt1', 'mgp', 'mrc2', 'esr1', 'mettl1', 'cobll1', 'mvd', 'serbp1', 'tmeff2', 'snph', 'xkr8', 'cdc42ep5', 'rbmxl1', 'fas', 'gbp6', 'stxbp4', 'vipas39', 'aven', 'nfam1', 'nudt1', 'prkaca', 'otop2', 'edem3', 'pcdhb9', 'tob1', 'hdhd3', 'ikbkg', 'or8g1', 'slc25a42', 'pof1b', 'trmt11', 'clasp1', 'mcm5', 'psap', 'eif4enif1', 'arl1', 'ddx28', 'smim5', 'znf586', 'zc3h12b', 'mpzl3', 'bola3', 'cybc1', 'tgfa', 'rad23b', 'trhde', 'cep164', 'csn3', 'purb', 'slc25a47', 'hacd4', 'taf12', 'omd', 'smg6', 'tmem9b', 'rs1', 'znf341', 'vwde', 'exd1', 'znf213', 'phf3', 'msh5', 'tmbim4', 'tigit', 'uri1', 'asb17', 'stac3', 'wrnip1', 'pafah1b3', 'reep5', 'c1orf112', 'nudc', 'fam199x', 'arl5b', 'cfh', 'c16orf95', 'cep135', 'pcdhb14', 'lrrc43', 'gdf11', 'rorc', 'cmas', 'atxn7l1', 'znf558', 'fut5', 'rcan1', 'ptgs2', 'tdrd6', 'tfb2m', 'siglec6', 'cd96', 'trpc6', 'gapt', 'limd2', 'ugt1a8', 'ebf2', 'fastkd2', 'krtap6-2', 'uck1', 'folr1', 'foxa3', 'dnmt3l', 'arsk', 'hpf1', 'sgcg', 'bex4', 'etfa', 'ndufb5', 'unc13b', 'dnajb5', 'klrg1', 'sptan1', 'osgepl1', 'stk36', 'tti1', 'lrch2', 'nup42', 'asb9', 'bhlhe23', 'dnah6', 'ccdc90b', 'tm2d3', 'stk10', 'gcc1', 'hexim1', 'trim13', 'mycbp2', 'xpc', 'pdf', 'c1orf146', 'rnf207', 'c2orf88', 'smim2', 'abcc12', 'trmu', 'ubxn10', 'slc35d2', 'cntfr', 'kcnj2', 'fbxo15', 'nptxr', 'tbx10', 'sdc1', 'prac1', 'mrln', 'clec12a', 'n4bp2l2', 'c7orf31', 'ccl5', 'lpar4', 'yjefn3', 'vxn', 'ppil1', 'tlx2', 'nlk', 'c1orf115', 'pars2', 'fam71f2', 'cfi', 'clrn3', 'aptx', 'cyp2a6', 'rassf2', 'ddx21', 'chmp1a', 'aldh1a3', 'il9r', 'nr2e3', 'fgfr4', 'hgd', 'timm21', 'rfx3', 'hrh1', 'f10', 'ppp1r9b', 'ormdl3', 'cabin1', 'itgb3bp', 'acp1', 'dgka', 'ftmt', 'nup37', 'btbd11', 'vash1', 'ttc21a', 'elof1', 'ppm1k', 'spata12', 'cxcl2', 'exoc5', 'katna1', 'rrbp1', 'pigf', 'dmac2l', 'magohb', 'nuf2', 'tasp1', 'gstt4', 'ppp1r42', 'prkag1', 'tmem135', 'olfml3', 'calhm4', 'col24a1', 'nek7', 'jrk', 'satb1', 'polrmt', 'spdye6', 'elf2', 'trnp1', 'ap1s1', 'cux2', 'gabarap', 'nell2', 'mfsd2b', 'cfhr2', 'herc1', 'fam83e', 'prr32', 'mcmbp', 'slc38a6', 'slc16a12', 'neurod4', 'slc30a10', 'mycn', 'trim52', 'sprr5', 'tgm4', 'hcls1', 'nova1', 'n4bp2', 'dus4l', 'kif4b', 'dclre1c', 'myocd', 'tmppe', 'wsb2', 'itga3', 'ppp1r27', 'taf1', 'wdr48', 'tecpr1', 'l1cam', 'esyt2', 'irgm', 'grid1', 'pard6b', 'cep250', 'dock11', 'syngap1', 'dnajc11', 'clec6a', 'efl1', 'rab1b', 'dennd4c', 'pgf', 'znf550', 'tmem50a', 'hoxc11', 'gpbp1', 'senp1', 'rufy2', 'stx8', 'zswim5', 'fam205c', 'wdr76', 'mon2', 'sctr', 'ppp4r2', 'tspan5', 'adgra2', 'lrrc7', 'tecta', 'tcirg1', 'ywhag', 'sftpa1', 'ggtlc1', 'jun', 'pcbp2', 'tubb2a', 'lrrc4b', 'gcc2', 'mettl6', 'zbtb7a', 'arfgap3', 'trim8', 'ttyh2', 'sh2b1', 'or4e1', 'serpina5', 'spx', 'slc16a7', 'znf800', 'cyp2c8', 'nsdhl', 'or52e2', 'pik3ca', 'nrxn1', 'pdcl', 'syn3', 'jagn1', 'egfr', 'sumo4', 'c10orf53', 'xrcc6', 'mettl21a', 'tex35', 'gdpgp1', 'prorp', 'luzp1', 'arhgef12', 'c11orf65', 'stx1a', 'trappc6a', 'oosp4a', 'gzmk', 'bst1', 'hip1', 'xk', 'ap5z1', 'glipr1l2', 'rsrc1', 'diaph1', 'crct1', 'oprl1', 'or5b3', 'elp3', 'gna13', 'mtor', 'muc16', 'vamp5', 'blmh', 'avil', 'bcl9', 'ifna1', 'nsl1', 'or5k1', 'myo5a', 'fbxl20', 'timm10', 'cda', 'c9orf85', 'fgb', 'tex10', 'flt3', 'actg2', 'blnk', 'cyp26b1', 'thnsl1', 'znf629', 'mat2a', 'sox5', 'cdc26', 'zmym5', 'cdh2', 'vps16', 'ccer2', 'mgam', 'pcmtd2', 'elovl3', 'r3hdm2', 'znf599', 'eef1akmt3', 'gpr160', 'psmd4', 'susd2', 'syne3', 'acap1', 'col4a2', 'apex2', 'asxl1', 'rarres2', 'ggh', 'taf11l12', 'rabggtb', 'c13orf42', 'tusc1', 'r3hdm1', 'sema3e', 'fam50a', 'ezh2', 'ddah2', 'psmd1', 'tp53i11', 'kif20b', 'crbn', 'mapre1', 'c10orf99', 'ndst1', 'nemf', 'asic4', 'or5t3', 'pygo2', 'znf860', 'katnbl1', 'krt33a', 'szt2', 'agap2', 'lrrc8a', 'mst1r', 'pmm1', 'txndc8', 'znf891', 'helq', 'lca5', 'ocrl', 'crabp2', 'elovl2', 'astl', 'catsperd', 'gxylt1', 'fam83a', 'or11h6', 'abl2', 'mlph', 'bsn', 'capn9', 'ccdc124', 'pde6b', 'krit1', 'slc32a1', 'papola', 'rhot2', 'apom', 'krtap19-5', 'lrrn3', 'atp13a2', 'mmp11', 'aagab', 'psmb11', 'nptx2', 'setd6', 'fam219a', 'stk3', 'cd177', 'dynlrb2', 'lrrc3', 'nxf1', 'magef1', 'slc26a9', 'spata19', 'usp14', 'flnc', 'trub2', 'angptl5', 'osbpl2', 'tmco4', 'six6', 'scrib', 'fam43b', 'cdhr1', 'ppid', 'slc41a3', 'gabra4', 'odf4', 'zbtb14', 'abr', 'tmem127', 'sv2c', 'c11orf1', 'rfx5', 'znf644', 'gpr141', 'dynll2', 'smpd1', 'wdr17', 'nfatc4', 'myo1e', 'lin7c', 'or2a4', 'krt16', 'aass', 'cblb', 'ptgr2', 'btbd9', 'tspan31', 'csrp1', 'lrrc52', 'prep', 'cfap53', 'scarb1', 'erp27', 'duoxa1', 'epop', 'bmp4', 'angptl8', 'cep97', 'ehhadh', 'nid1', 'pbx4', 'pld5', 'znf491', 'hexb', 'mlkl', 'gnai3', 'znf561', 'them4', 'b3galt4', 'nfkbie', 'sra1', 'mtres1', 'nr5a1', 'znf565', 'rhd', 'hspb8', 'pkd1l1', 'dgkk', 'cdc37', 'nde1', 'sarm1', 'ltk', 'tpx2', 'sirt5', 'pnma8c', 'adrb1', 'serpine3', 'tmem42', 'rbm23', 'or1b1', 'ttc1', 'kif26b', 'dmac2', 'mtmr7', 'ifi27', 'vapa', 'pvalef', 'slit2', 'zfp3', 'rangrf', 'cdan1', 'spryd3', 'angel2', 'trim42', 'coq8a', 'amely', 'cuedc2', 'rbck1', 'osbp', 'rpusd4', 'kifc1', 'nrap', 'tor1a', 'dlst', 'cyp4f2', 'fabp2', 'pglyrp2', 'c7', 'sema6c', 'chd1', 'pacs1', 'tubg1', 'arhgap29', 'lama4', 'fscn1', 'tmc2', 'cbr4', 'abca3', 'ogdhl', 'b3gnt9', 'sybu', 'gpr171', 'ipo8', 'slc2a10', 'acad11', 'pcgf3', 'tfpi2', 'dhdds', 'rspo2', 'kpna2', 'rnase12', 'tfap2b', 'abhd12', 'c16orf74', 'muc21', 'prss33', 'alkbh2', 'ca13', 'cyp27a1', 'fto', 'tmem185a', 'gpr107', 'prpf4b', 'glmn', 'mex3b', 'znf610', 'nab1', 'rhof', 'tinag', 'cops8', 'znf717', 'helz', 'smim13', 'gp2', 'mast3', 'mark1', 'acsl1', 'sec11a', 'tmem216', 'trpv1', 'apof', 'kif2c', 'lrrc63', 'gnpnat1', 'znf227', 'znf385a', 'tnni3k', 'gimap8', 'or10k2', 'fkrp', 'znf79', 'ust', 'cdadc1', 'tmem106b', 'htr1d', 'clpsl2', 'wnt1', 'cxcl12', 'b3gntl1', 'mysm1', 'lhx3', 'lhx6', 'alg11', 'sertad1', 'ttll11', 'znf619', 'or6f1', 'vipr2', 'armc2', 'ralbp1', 'cdnf', 'enthd1', 'ss18l2', 'stard8', 'pramef12', 'mcmdc2', 'cebpzos', 'mapre3', 'lelp1', 'junb', 'ythdf2', 'htra1', 'dennd6b', 'eaf1', 'znf345', 'ppm1d', 'smarcd2', 'tmem238l', 'abcb10', 'spem1', 'lce2a', 'or4l1', 'or52e4', 'klhdc3', 'gfy', 'wrn', 'actl6b', 'obp2a', 'or4k15', 'capn15', 'iscu', 'ociad1', 'pgm2l1', 'alox15', 'rgs6', 'was', 'snrnp200', 'wdhd1', 'gas6', 'dohh', 'crtap', 'capn11', 'pi16', 'ipo5', 'rlim', 'krtap13-3', 'selenbp1', 'sde2', 'pcdhb13', 'mapkap1', 'mb', 'shank1', 'wdr45', 'mia2', 'olfml2a', 'gnat3', 'rab22a', 'syt11', 'rtkn', 'taf11l11', 'snapc3', 'urb1', 'psca', 'adcy6', 'thap12', 'insig2', 'or1n2', 'txndc16', 'ccdc136', 'tmprss11b', 'zik1', 'camkk2', 'med14', 'mcemp1', 'or9i1', 'arid3b', 'ifrd1', 'prss22', 'ankrd12', 'asb7', 'ube3a', 'iqgap2', 'kdm4d', 'pawr', 'abl1', 'rnf103', 'inha', 'stk24', 'ppox', 'trappc1', 'birc5', 'cnih4', 'raet1l', 'nkg7', 'mmd', 'hand1', 'cphxl', 'psmg3', 'fam110a', 'traf1', 'spata7', 'plekhm3', 'uap1l1', 'or2m4', 'nabp1', 'shmt1', 'zdhhc9', 'spata46', 'daglb', 'wdr5', 'bbof1', 'glrx2', 'plekhf1', 'ppp6r1', 'ano8', 'dars2', 'fcgr1a', 'arid3a', 'ryr1', 'prop1', 'cbx5', 'znf625', 'igf2bp1', 'ptprn2', 'alkbh3', 'phlda1', 'timm29', 'tyrobp', 'or10c1', 'gpr61', 'npy1r', 'npr1', 'vps54', 'cd247', 'pcgf2', 'slc37a3', 'abhd13', 'gas2', 'chst1', 'pla2g2a', 'sgpp2', 'sowahd', 'spaca4', 'ap2s1', 'nlrc3', 'kctd7', 'fscb', 'cdrt4', 'hacd3', 'chst10', 'cstf1', 'bri3', 'amph', 'card11', 'cadm3', 'cdh9', 'dph6', 'chdh', 'hsdl2', 'mlnr', 'dguok', 'trpv2', 'krtap4-5', 'p2ry11', 'spata31a5', 'tomm40', 'cetn2', 'hrh4', 'krtap20-3', 'mgat4b', 'znf544', 'mmd2', 'krt72', 'lmod1', 'mapk8ip1', 'uroc1', 'rtl8b', 'kctd6', 'krtap10-8', 'eid3', 'gramd1b', 'zmiz2', 'znf781', 'dag1', 'clec18a', 'casp2', 'hira', 'pten', 'rbm45', 'cotl1', 'gimap7', 'smap2', 'chl1', 'senp8', 'ttc23', 'ccl17', 'cmpk1', 'myod1', 'zbtb42', 'emc7', 'soat1', 'mt-nd4', 'atp5f1a', 'pitx3', 'xage3', 'slc25a53', 'atp6v0e1', 'panx3', 'zc3hav1l', 'l2hgdh', 'vps26b', 'plekhm2', 'ypel2', 'ppia', 'prdm14', 'rdx', 'crebzf', 'sec61a1', 'alx4', 'serpinb12', 'kng1', 'tmsb4x', 'grpel1', 'myom2', 'tmem176b', 'trabd2a', 'tm4sf4', 'pold3', 'entpd5', 'sez6l', 'ntsr1', 'pdk3', 'trerf1', 'znf410', 'cks2', 'stn1', 'tbx4', 'ccdc127', 'il36a', 'ttc31', 'lrrc56', 'serpina1', 'mutyh', 'slc25a18', 'aak1', 'six5', 'cidec', 'pafah1b2', 'ndfip1', 'larp1', 'oxct2', 'pde2a', 'clcn5', 'ctdp1', 'chad', 'loxl4', 'spns2', 'ccdc97', 'dync1h1', 'znf784', 'dnajc5', 'phf24', 'stk32a', 'alg6', 'ube2b', 'kank2', 'c3orf49', 'shprh', 'tradd', 'f13b', 'egfl7', 'scd', 'f7', 'tcp10l2', 'ccdc121', 'tox3', 'rrh', 'etv6', 'pom121l12', 'boll', 'nipsnap3a', 'efs', 'nae1', 'krt36', 'semg1', 'crym', 'cd300lb', 'cpsf1', 'picalm', 'tspo', 'card18', 'arhgef40', 'cdc23', 'zcchc13', 'spink9', 'nms', 'coa1', 'trmt5', 'gtpbp10', 'krtap21-2', 'dnai1', 'gga2', 'pax1', 'sptlc3', 'prmt2', 'bcat1', 'hoxa11', 'obp2b', 'rpe', 'ptpn18', 'usp34', 'or52d1', 'plec', 'yipf7', 'or5v1', 'gpd2', 'kcnh1', 'spanxd', 'ccdc38', 'pcdha5', 'gemin5', 'cdc20b', 'mcm3ap', 'larp1b', 'cmtr2', 'mob3a', 'kctd8', 'slc25a5', 'il4r', 'gpx4', 'cox14', 'ly6g6f', 'fzd3', 'relb', 'fdcsp', 'dnah3', 'nfya', 'rnf44', 'rgsl1', 'cyp21a2', 'sv2a', 'per2', 'trim72', 'c4orf17', 'chtf8', 'ints12', 'macrod2', 'ppp1r14c', 'ybx2', 'trmt10b', 'pramef6', 'vkorc1l1', 'gdnf', 'fam71b', 'ints5', 'foxm1', 'mfrp', 'apol2', 'cdc42ep3', 'grik2', 'dvl3', 'spon2', 'muc5ac', 'wif1', 'rusc2', 'ttc9c', 'hnmt', 'lrpap1', 'erc2', 'krtap5-5', 'epb41', 'il10rb', 'crk', 'myl5', 'grk1', 'pllp', 'cct8', 'pkdrej', 'rfc5', 'terb2', 'znf576', 'foxb2', 'hspbap1', 'msantd4', 'arntl2', 'fbxo38', 'rasgef1c', 'ipp', 'spata16', 'rnf26', 'micos10', 'csgalnact2', 'sag', 'nrbp1', 'prr29', 'phip', 'c12orf29', 'atp5pb', 'scnn1g', 'snupn', 'triml1', 'gip', 'nlrp14', 'sh3tc2', 'c17orf67', 'eif4e3', 'fen1', 'or1n1', 'pla2g12b', 'hic2', 'klk4', 'ccdc190', 'kin', 'ier5l', 'slc13a3', 'rnaseh2a', 'tnfaip8', 'znf700', 'emx2', 'cd300c', 'chd4', 'diras1', 'mfsd11', 'fam102b', 'rxrb', 'gigyf1', 'morn2', 'lrp1b', 'atp6v1b1', 'rnase6', 'usp31', 'mrtfa', 'lrrc26', 'srsf3', 'dhrs7c', 'fam241b', 'hivep2', 'emc9', 'plekhg4b', 'gpr148', 'armc8', 'atp23', 'adcy5', 'calml6', 'lmx1a', 'mindy3', 'oat', 'or4d11', 'pax3', 'cog5', 'plekhg6', 'pogz', 'tp53i13', 'znf415', 'prrt4', 'prima1', 'ube2e3', 'uvssa', 'trmt10a', 'map7', 'gopc', 'rmc1', 'krt5', 'ly6g6d', 'mcf2l2', 'nans', 'or5d16', 'ube3c', 'ppp1r35', 'arl4c', 'bpifb2', 'cntnap2', 'plb1', 'gdf6', 'smarca4', 'sema5a', 'npc2', 'eef1a2', 'rrp1b', 'znf282', 'znf416', 'traf3', 'armh2', 'znf703', 'zscan25', 'mccc1', 'oplah', 'slc4a4', 'cspp1', 'pcdh20', 'mgrn1', 'ado', 'snf8', 'cd5', 'tas1r1', 'shisa3', 'ogfod2', 'nthl1', 'klhl42', 'slc6a14', 'c9orf116', 'gsk3a', 'krba1', 'atg13', 'ush1c', 'nmnat1', 'fbxl4', 'hspa1l', 'clasrp', 'lcor', 'nasp', 'pecr', 'smc4', 'samd7', 'rbx1', 'ubtf', 'gatad2a', 'prcp', 'prss53', 'ikzf5', 'magea12', 'srek1ip1', 'wee2', 'fignl2', 'gpsm1', 'gli3', 'nmbr', 'gmcl1', 'ccdc88c', 'dio1', 'fzd7', 'farsb', 'scn3a', 'ppp1r14a', 'tusc2', 'ift88', 'pcdhgb7', 'abcb9', 'coro6', 'znf444', 'ffar2', 'c2cd4c', 'znf460', 'cisd3', 'slc1a6', 'cmc4', 'barx2', 'diras3', 'vangl1', 'il12a', 'zhx2', 'gpank1', 'fkbp1c', 'cldn34', 'slc35e3', 'plk5', 'drich1', 'exosc10', 'vdac1', 'gprasp2', 'olfm2', 'itpr3', 'nhej1', 'slitrk5', 'lrwd1', 'polr2h', 'kctd20', 'hgs', 'slc35a5', 'bmp6', 's1pr5', 'stmn1', 'tram2', 'fzd4', 'shmt2', 'dhx15', 'krtap13-1', 'slc16a1', 'pik3r6', 'lcn2', 'pdk2', 'c15orf61', 'mtmr2', 'plekhg3', 'kif13b', 'habp4', 'kpna1', 'gpat4', 'nudt17', 'nat14', 'maml1', 'rasa2', 'dnajc2', 'fancm', 'gsx2', 'mid2', 'nfatc2ip', 'psmd3', 'ripply3', 'chmp5', 'olfml2b', 'cluap1', 'tmtc2', 'ap1ar', 'ripply2', 'yy2', 'map2k7', 'asb4', 'phactr3', 'plekha5', 'tex44', 'znf221', 'cyp3a4', 'kctd15', 'snx16', 'naa16', 'or5m1', 'mterf1', 'ppdpfl', 'rbm6', 'strbp', 'slc27a4', 'yipf1', 'col25a1', 'ptpn4', 'lipk', 'tnnt3', 'vegfc', 'svbp', 'ago2', 'slc1a5', 'cdkal1', 'ywhaq', 'zfp30', 'hdac2', 'rph3al', 'lonp1', 'il24', 'mtch2', 'btnl2', 'st3gal5', 'pak1ip1', 'ptgds', 'marcks', 'guca2a', 'mx1', 'or14a16', 'ppargc1b', 'smim30', 'kiaa0319', 'rcor1', 'clcn4', 'nptn', 'kcna2', 'acot4', 'cep170b', 'cfap410', 'lat', 'f2', 'rasa1', 'neurog1', 'hccs', 'nfrkb', 'tex43', 'asprv1', 'exosc3', 'krtap19-7', 'cyb561d1', 'cdh19', 'mapkapk5', 'coasy', 'fer', 'elovl7', 'mmab', 'adrm1', 'cdcp2', 'ddhd1', 'nhp2', 'htr6', 'abt1', 'kif4a', 'xpo5', 'ltc4s', 'zdhhc21', 'sart3', 'c1ql3', 'boc', 'eef1akmt4', 'dclre1a', 'or6a2', 'mmp27', 'tro', 'slc22a5', 'scyl1', 'tmem217', 'hps3', 'acsbg1', 'kif19', 'e2f8', 'rnf213', 'dlx2', 'htatip2', 'smim33', 'stk33', 'znf507', 'fam111a', 'fgd3', 'btbd6', 'lrp8', 'lrat', 'ndufb7', 'cnnm3', 'znf513', 'cir1', 'pgbd2', 'c22orf23', 'hepacam2', 'arhgap4', 'fpgs', 'gfm1', 'me2', 'rfxank', 'abhd14a', 'mlec', 'pdgfb', 'phf5a', 'ppp1r10', 'adam22', 'amotl2', 'cfap43', 'cd33', 'slirp', 'zmynd11', 'kdm7a', 'kctd21', 'pcbp4', 'coa3', 'dimt1', 'htr1e', 'tiam2', 'dnah10', 'dnajb11', 'slc2a3', 'col4a4', 'pex2', 'xkr4', 'prss48', 'pigh', 'otud6b', 'gpr63', 'irs2', 'ccdc175', 'st8sia6', 'naa30', 'c1qa', 'cnn3', 'izumo2', 'pcdhga11', 'lzts2', 'slc25a23', 'cma1', 'cthrc1', 'trappc3l', 'atf5', 'carf', 'rilpl2', 'pmvk', 'snx20', 'scnn1d', 'myadml2', 'mrgbp', 'ppm1e', 'chm', 'cd58', 'isoc2', 'helt', 'fip1l1', 'zacn', 'cr2', 'letm2', 'uap1', 'prkar2a', 'sv2b', 'tpm2', 'hoxd9', 'nrn1l', 'bcorl1', 'mecp2', 'mms19', 'coro2a', 'or8s1', 'kif3b', 'asmtl', 'cyren', 'fam169a', 'baat', 'cacna2d3', 'ndufaf7', 'kncn', 'leng8', 'slc12a7', 'mfsd6', 'taok1', 'fancb', 'chka', 'krt74', 'tcte1', 'perp', 'atp9b', 'plcg2', 'htatsf1', 'batf', 'plxdc2', 'rnf19a', 'pax9', 'tle4', 'tubb2b', 'c1orf109', 'ywhab', 'ghsr', 'rgp1', 'agtr2', 'dcaf6', 'tkfc', 'cat', 'fchsd2', 'ctxnd1', 'kbtbd4', 'rilp', 'dok5', 'kif18a', 'rnase1', 'igfbp1', 'or6c4', 'pde3a', 'wfdc1', 'sat2', 'sstr5', 'txndc2', 'itga2', 'ccs', 'hoga1', 'vsx1', 'chpf', 'spns3', 'rnf145', 'ier2', 'tnfaip8l1', 'ntmt1', 'fancg', 'ptgdr', 'or5bs1p', 'znf280b', 'krtap1-3', 'fem1c', 'eif3g', 'zp2', 'flt3lg', 'tmem63a', 'dpf2', 'arhgef18', 'myo9a', 'sec14l4', 'ass1', 'cep85', 'serpini2', 'sfmbt1', 'bbs4', 'klk14', 'tmem225b', 'tmem219', 'cachd1', 'fam167a', 'gabrq', 'pus7', 'sult6b1', 'ahsa1', 'chaf1a', 'jmy', 'mtcl1', 'gpc6', 'zmynd15', 'dab2', 'slc12a3', 'abcb8', 'znf829', 'sowahc', 'ankdd1a', 'znf347', 'appl1', 'tph2', 'a1cf', 'tff3', 'ctps1', 'chst15', 'zc3h12d', 'kcns2', 'eif4e1b', 'kiaa0586', 'nbl1', 'zbp1', 'atad1', 'arhgap17', 'myot', 'tmem182', 'fam133b', 'xdh', 'sfxn3', 'xkr6', 'tekt5', 'dagla', 'rgs7', 'gde1', 'c1qtnf7', 'sema3d', 'ghrh', 'niban3', 'cd8b', 'lcn1', 'plekho2', 'prps1l1', 'sh3rf1', 'tpp2', 'trio', 'glrx3', 'trim67', 'hscb', 'shpk', 'irf6', 'ncbp2l', 'foxh1', 'or6c3', 'rfpl3', 'uchl1', 'ccdc201', 'hprt1', 'odf3b', 'nrbp2', 'ms4a12', 'fstl3', 'specc1', 'tal1', 'mrfap1', 'tbx5', 'ddx41', 'negr1', 'bcl7a', 'cdk12', 'npbwr1', 'ccnq', 'gpr146', 'paics', 'pou2f3', 'trim48', 'defb131b', 'dgke', 'kat2a', 'coa6', 'cd70', 'ube2h', 'gage10', 'smco2', 'st3gal2', 'etfdh', 'defb1', 'pitpnb', 'dnajc18', 'ddx20', 'hoxa10', 'phldb2', 'pole4', 'mmp21', 'slc50a1', 'nlrp7', 'dbt', 'vdr', 'znf382', 'c9orf135', 'cxcl6', 'slc1a3', 'whrn', 'atad2b', 'clec2b', 'cxcr3', 'dusp7', 'sclt1', 'srp54', 'clcn3', 'gtf2a1', 'zscan21', 'cdipt', 'smoc1', 'dda1', 'fcmr', 'dcun1d1', 'gorasp1', 'inava', 'arid4a', 'f13a1', 'il18r1', 'ldlr', 'muc5b', 'fam163a', 'mertk', 'serpinb8', 'znf501', 'slc38a3', 'cdrt15', 'traf3ip2', 'ccdc200', 'znf787', 'pi4ka', 'ppbp', 'mtus2', 'fzd5', 'gria1', 'krtap2-3', 'wdr46', 'efnb3', 'gnptg', 'capn1', 'rai14', 'brd4', 'celf5', 'hs3st4', 'mplkip', 'tmem126b', 'arl13a', 'tmsb4y', 'unc119b', 'krtap3-1', 'mapk9', 'or4c6', 'faah2', 'slc2a4rg', 'plcd1', 'rnd2', 'ace2', 'sar1b', 'rsrp1', 'tbl2', 'iqsec2', 'ubxn1', 'cnr2', 'c19orf38', 'ero1a', 'fstl1', 'ddb2', 'rabep1', 'retnlb', 'tigd1', 'tor1aip2', 'cacnb4', 'mylk4', 'arl4a', 'dclk2', 'actl7a', 'rel', 'derl1', 'btbd16', 'cspg4', 'pdia6', 'mkx', 'ccdc192', 'psme1', 'gprc5a', 'tmem272', 'pabpc4l', 'cemip', 'dnaja3', 'chchd7', 'srsf4', 'ddx52', 'eed', 'galr1', 'actrt1', 'or2t10', 'ccdc92', 'map3k12', 'hook1', 'dll4', 'samd8', 'tbck', 'rptn', 'lrp5', 'lpgat1', 'cryzl1', 'klrf1', 'maml2', 'ttc4', 'dab2ip', 'hectd3', 'lrrc9', 'nipal2', 'znf263', 'znf772', 'cad', 'pdcd5', 'clic3', 'fastkd1', 'snrpd1', 'hspa9', 'fgf19', 'mfap5', 'renbp', 'mei1', 'olig2', 'rai2', 'cep68', 'masp2', 'tmem30b', 'p3h1', 'mrnip', 'c20orf85', 'sirt1', 'amelx', 'zswim1', 'efcab2', 'cd69', 'lhfpl6', 'ormdl1', 'st14', 'rnf216', 'prg4', 'bri3bp', 'slc51b', 'ankrd44', 'slc25a30', 'nrdc', 'cel', 'anks6', 'cdh5', 'mettl4', 'pex10', 'cox17', 'styx', 'cd9', 'grik5', 'utp11', 'lad1', 'rprd2', 'cetp', 'txndc17', 'atox1', 'garem1', 'alox12b', 'speg', 'ubqln4', 'mknk2', 'unc5c', 'pcdhga12', 'smpd2', 'mybl2', 'zfp41', 'pard6g', 'slc7a4', 'poglut1', 'znf827', 'adm5', 'lats2', 'fndc1', 'map6', 'mbd4', 'scyl2', 'smim12', 'dkk3', 'parp10', 'foxf1', 'hmces', 'b3gnt6', 'atp2c1', 'dtx1', 'gucy1b1', 'gsx1', 'rapgef3', 'or9k2', 'vcan', 'mvp', 'dyrk3', 'stx16', 'nt5e', 'aspscr1', 'cdc42bpb', 'fam240b', 'iqcf6', 'irgc', 'arf5', 'ppig', 'adcy8', 'siglec11', 'frrs1', 'abcc5', 'nap1l4', 'stk38', 'eif4g2', 'metrnl', 'cul7', 'e2f3', 'raph1', 'vstm2l', 'cntnap3', 'llgl2', 'heyl', 'mlycd', 'scgb3a2', 'mief1', 'klhl17', 'ankrd54', 'trim27', 'cxorf66', 'g3bp2', 'oprd1', 'rabgap1', 'sirt2', 'ceacam19', 'rnf148', 'ankrd53', 'tut1', 'wipf3', 'itgb6', 'rbms1', 'ncam1', 'ift140', 'colca2', 'gstk1', 'hoxd10', 'calca', 'camk2g', 'wwc1', 'ccdc40', 'rtl6', 'btk', 'gtsf1l', 'prss54', 'faah', 'pno1', 'carmil2', 'aebp1', 'cbr1', 'bloc1s2', 'tm9sf2', 'iqcd', 'mmp25', 'ganc', 'c4orf48', 'ppp1r36', 'slc6a13', 'prm1', 'nutf2', 'gse1', 'rita1', 'vwce', 'necab3', 'acadsb', 'tex54', 'wnt5a', 'rchy1', 'eddm3b', 'cyth2', 'sox9', 'rspry1', 'klhl41', 'pmpca', 'kiaa2013', 'cckar', 'micall2', 'gh2', 'rtp4', 'c1orf68', 'coq3', 'fam189b', 'derl2', 'fanci', 'gpr12', 'slitrk3', 'tsnax', 'zbed6cl', 'edf1', 'srsf7', 'cdx1', 'fam167b', 'grem2', 'tmem231', 'gnpda2', 'rab26', 'c2cd2', 'zranb3', 'p3h2', 'cpt1b', 'pgrmc1', 'runx1t1', 'tceal9', 'edil3', 'setd4', 'mybpc2', 'znf391', 'tlr4', 'mcm7', 'galnt1', 'sema3f', 'c1orf56', 'ak5', 'klk7', 'ngdn', 'cdc6', 'cldn10', 'fam120aos', 'fry', 'neurl3', 'med12', 'plxnb1', 'serping1', 'dll1', 'mbnl2', 'arid1a', 's100a2', 'ubxn7', 'tmem223', 'cabp2', 'gpr137b', 'stx4', 'pcp2', 'paip2b', 'unc93b1', 'ccdc177', 'c13orf46', 'mcc', 'rax', 'kansl2', 'znf75d', 'tedc1', 'grik3', 'adgrl4', 'lax1', 'mettl18', 'clecl1', 'prb3', 'gpr32', 'ptpn11', 'rtl10', 'bpifa1', 'trim37', 'cerkl', 'samd11', 'ednra', 'spaca7', 'sec14l6', 'kdm5c', 'ntn1', 'robo4', 'upf3a', 'zdhhc4', 'ap2b1', 'lpar5', 'taf7', 'edem2', 'vsig8', 'c1orf116', 'or4c5', 'mpv17l', 'or9g1', 'cd48', 'cyp2s1', 'dlgap5', 'ddx42', 'megf6', 'zbtb37', 'brd1', 'syt14', 'trim2', 'pigm', 'il5ra', 'prss36', 'cdh20', 'bpgm', 'kif3a', 'lratd2', 'ferd3l', 'ankrd28', 'pyroxd2', 'rundc3a', 'hivep3', 'hspa12a', 'nrgn', 'patz1', 'gal3st1', 'wdr55', 'nop56', 'tnn', 'pop7', 'zmym2', 'cdca5', 'fam71e1', 'c12orf57', 'aqp3', 'fam162a', 'bsdc1', 'hspa14', 'disp3', 'cox11', 'page1', 'nemp1', 'rbl2', 'taf11l8', 'dpm1', 'lsm14a', 'zfp62', 'cd40', 'dnaja1', 'plch2', 'c12orf4', 'grb7', 'slc30a7', 'cdca4', 'znf853', 'herpud1', 'lrrc17', 'sap30bp', 'tnrc6b', 'adgrl2', 'agap1', 'hmbs', 'brk1', 'nap1l2', 'mlx', 'polr3a', 'znf777', 'paox', 'or2ak2', 'rab15', 'mxra5', 'vpreb3', 'rad54l', 'sp6', 'strn3', 'tex13a', 'il15ra', 'tle7', 'vps26c', 'wfdc10a', 'ypel3', 'il36b', 'or51g2', 'pacsin1', 'trim55', 'apoa1', 'msl2', 'p2ry14', 'sfrp4', 'clcn2', 'dpep2', 'kcnt2', 'psmc2', 'rsbn1l', 'slc2a1', 'defb125', 'krt13', 'casz1', 'piwil1', 'txndc9', 'or6c76', 'ccdc189', 'rbfox3', 'atrnl1', 'stxbp1', 'them6', 'gpr37', 'ddx56', 'fcrl6', 'nr2f6', 'rsph14', 'phb', 'sema4c', 'thsd4', 'cope', 'frs3', 'mrgprx2', 'hcn2', 'wfdc11', 'exog', 'nat8', 'unc119', 'rpe65', 'nudt19', 'jdp2', 'gpr179', 'tmem171', 'or6c1', 'art3', 'exoc1', 'jchain', 'pld6', 'cyb5r1', 'rgs21', 'pnn', 'vnn3', 'actr10', 'eif4h', 'sash1', 'senp7', 'fmo1', 'sds', 'cant1', 'tex14', 'vps8', 'tmem74', 'cox6b1', 'ccdc102a', 'si', 'arl3', 'cfap69', 'dcakd', 'zdhhc14', 'edaradd', 'rxfp4', 'pkp1', 'pigx', 'st6gal1', 'gas1', 'stat6', 'lrch4', 'rnf146', 'tceal6', 'hsd17b2', 'wls', 'c19orf18', 'bsx', 'neil3', 'cdk8', 'rwdd4', 'ube3b', 'dnajb6', 'nell1', 'armc5', 'fbxo48', 'cxcr1', 'lpin1', 'zbed8', 'blvra', 'slc4a3', 'itgb1bp1', 'eps8l3', 'dcdc2b', 'gabrd', 'hcar1', 'tshz1', 'krtap5-2', 'des', 'cd160', 'wdr77', 'klhl22', 'hdac3', 'lyl1', 'cirbp', 'aldh2', 'neurog3', 'ppp1r15a', 'nrp1', 'sympk', 'znf33a', 'abca6', 'c20orf202', 'chchd2', 'cdk7', 'rpf1', 'abhd18', 'poc1b', 'c1orf159', 'pcyt1b', 'got2', 'ebpl', 'phlda3', 'plac9', 'tex46', 'rttn', 'fcgr2b', 'or56a4', 'sp110', 'ston2', 'trim22', 'prpf18', 'snrnp48', 'itpr2', 'pcdha3', 'kif2b', 'gmip', 'fcho2', 'cct4', 'arhgef37', 'nectin1', 'vwa2', 'hoxa6', 'abo', 'ppp1r2c', 'anxa10', 'eif3d', 'igsf9', 'hoxd1', 'rnf38', 'ggt2', 'znf300', 'ppef1', 'tank', 'fmc1', 'fubp1', 'shroom4', 'ms4a7', 'wdr4', 'fabp4', 'ecm2', 'lias', 'ndufs5', 'or51g1', 'c5orf34', 'ablim2', 'paxbp1', 'dusp15', 'rnft1', 'pfn4', 'znf14', 'rbmx2', 'or7d2', 'mfap3l', 'tlr2', 'aldh1a1', 'slc39a11', 'frzb', 'aasdh', 'tm2d1', 'rgmb', 'pigg', 'tmem210', 'ca2', 'smkr1', 'unc5b', 'idh3b', 'lypd5', 'mbtd1', 'selp', 'ppard', 'crispld1', 'foxf2', 'cradd', 'smim14', 'mt-nd6', 'lca5l', 'kif2a', 'ndufs3', 'srsf8', 'nlgn1', 'tex22', 'ddi1', 'nags', 'rsph10b2', 'znf841', 'elp6', 'wfdc10b', 'dnah11', 'stk35', 'abca7', 'glra2', 'serpinb5', 'wnt9a', 'abca8', 'furin', 'syt9', 'clu', 'nckap5l', 'p2rx2', 'bmper', 'kmt2d', 'fhl5', 'plaa', 'rrp15', 'ptprd', 'gja5', 'anxa11', 'trmt9b', 'calml5', 'guf1', 'cd93', 'htr5a', 'lrrc10', 'prune1', 'slc36a1', 'idi2', 'krt26', 'thap8', 'ficd', 'znf138', 'phf23', 'elf1', 'sys1', 'mars2', 'eftud2', 'taf1b', 'xkr5', 'rbsn', 'ate1', 'cckbr', 'ppp2r5b', 'pi3', 'vwa1', 'mms22l', 'pdc', 'frmd5', 'txlnb', 'mgat4a', 'ubiad1', 'ube2a', 'phyhd1', 'znf541', 'znf521', 'c20orf144', 'sprr4', 'tmem132d', 'nos1ap', 'gnl3', 'glyatl1b', 'iapp', 'kmt5b', 'znf683', 'atp6v1e2', 'exoc3l2', 'znf764', 'sart1', 'gpr152', 'ifi6', 'hoxb3', 'bspry', 'sprn', 'sesn1', 'ntng2', 'clybl', 'ninj1', 'hapln2', 'cenpt', 'nupr2', 'vdac3', 'strn', 'ccnb3', 'aff3', 'gprin1', 'tmem98', 'nelfe', 'pcnx4', 'or1l3', 'faxc', 'pnldc1', 'ncf4', 'oas2', 'lsm1', 'tacr3', 'cacna1h', 'lmna', 'zmat5', 'tec', 'lrrc47', 'zfpm2', 'elavl3', 'adrb3', 'rhbdf1', 'izumo1', 'fcrlb', 'il2', 'nr2c2ap', 'pclo', 'il2ra', 'tnip2', 'spta1', 'thap9', 'tmtc4', 'myadm', 'retreg2', 'or1l1', 'adh7', 'crls1', 'polr1b', 'sptbn5', 'krtap20-1', 'plekhg4', 'btn2a1', 'six2', 's100a13', 'tmem88', 'rcor3', 'lrig1', 'mgat1', 'tomm7', 'or1e1', 'corin', 'cercam', 'ranbp3', 'sowaha', 'dph7', 'or1s2', 'znhit6', 'slc22a7', 'lrrc31', 'znf592', 'c11orf87', 'cacng3', 'krtap11-1', 'rec8', 'npipb15', 'prkab2', 'pkd1l3', 'zbtb32', 'nmnat2', 'dmc1', 'nubp2', 'potem', 'slc22a16', 'znf23', 'anapc11', 'pcdha9', 'p2rx5', 'paxip1', 'plcd4', 'rfesd', 'kbtbd2', 'nipsnap1', 'cd99', 'rgs20', 'rsu1', 'sumo2', 'glt8d1', 'gnrh2', 'adam32', 'naa10', 'pgbd1', 'mt1x', 'tcea3', 'il36rn', 'emc10', 'rnpepl1', 'eef2', 'zcchc2', 'faslg', 'itga2b', 'ndufs6', 'wdr82', 'krtap10-1', 'yipf6', 'cdhr2', 'ccdc3', 'pip', 'cadm2', 'pacrgl', 'snrnp25', 'znf496', 'tgoln2', 'grik1', 'rnf133', 'tbc1d3b', 'med21', 'ttll2', 'dph1', 'efna3', 'mip', 'bbs10', 'chsy1', 'kiaa1841', 'nme4', 'plagl2', 'snx7', 'ppp2r3b', 'zmynd19', 'abraxas2', 'hsd17b14', 'krtap10-7', 'emc1', 'mageb16', 'plaat4', 'rab27b', 'cdv3', 'dhx33', 'faf1', 'gchfr', 'tbc1d15', 'nr4a2', 'btn3a1', 'lrrtm1', 'gpr45', 'prkd1', 'serpind1', 'stat5a', 'ptbp2', 'rab40c', 'pf4', 'upp2', 'kiaa2026', 'ipmk', 'mc2r', 'slc1a7', 'fbxl6', 'synpo', 'lonrf2', 'spink8', 'dab1', 'drg2', 'kdm1a', 'zmynd10', 'tgfb1i1', 'csmd2', 'pik3r5', 'ssmem1', 'dmrta1', 'znf35', 'fam47b', 'cnrip1', 'brinp2', 'ifnk', 'rtl3', 'cdk1', 'znf331', 'rab20', 'nipal4', 'ppcs', 'psma1', 'or7a17', 'pdlim3', 'rxra', 'calhm1', 'rere', 'znf816', 'cltc', 'or2ap1', 'lactb2', 'vps4b', 'etv7', 'ly6g6c', 'camta1', 'cd2bp2', 'tsku', 'c1orf194', 'aldh1b1', 'lonrf1', 'mfsd8', 'slc25a29', 'c10orf90', 'vps45', 'casp9', 'chmp7', 'paf1', 'slc52a1', 'sntn', 'adck2', 'il7', 'ivd', 'fam172a', 'plcz1', 'selenoo', 'znf606', 'erbb2', 'dnah14', 'bysl', 'chrnb3', 'usp44', 'foxn1', 'kat8', 'inpp5d', 'rgl2', 'agap3', 'cd68', 'tnfrsf25', 'ptcra', 'nyx', 'cyp4f11', 'fam47c', 'stmn2', 'bex5', 'nr3c1', 'nol4', 'parl', 'syt10', 'treml2', 'apol1', 'syne4', 'oosp4b', 'smr3a', 'ppp1r8', 'adam2', 'psg3', 'smim6', 'slc25a45', 'tinf2', 'rer1', 'ahnak2', 'shisal1', 'cep350', 'cops2', 'hars2', 'l1td1', 'ndufa4l2', 'rax2', 'klhl24', 'smad2', 'znf419', 'lefty1', 'msrb3', 'bmpr2', 'dennd3', 'slc46a3', 'eif6', 'ints13', 'ankrd49', 'col4a3', 'ervv-1', 'oosp3', 'bod1l1', 'arrdc4', 'tctn3', 'wdr3', 'tal2', 'or8h1', 'cmtm4', 'arhgef7', 'jakmip2', 'atp6v1a', 'magoh', 'pifo', 'wfdc9', 'bcl2a1', 'sall1', 'znf483', 'ccdc150', 'acot1', 'capsl', 'ctrl', 'septin5', 'wnt8a', 'mtss2', 'rabggta', 'ddost', 'pik3c2a', 'exoc2', 'aldh1l1', 'dscaml1', 'mamdc2', 'myrfl', 'fdx2', 'spdye5', 'gprin3', 'ube2v1', 'rusc1', 'tuba3e', 'usp42', 'vldlr', 'nemp2', 'gripap1', 'chst14', 'armh4', 'or10g8', 'mtch1', 'or2a14', 'tm4sf20', 'neurog2', 'mindy2', 'psmb3', 'ramacl', 'ca7', 'hephl1', 'lrrc71', 'cib1', 'clcn1', 'cacna1i', 'cul9', 'nr0b1', 'dpy19l4', 'arid5b', 'dppa4', 'ugt2a2', 'cd44', 'e2f6', 'btnl3', 'c16orf92', 'mypn', 'rgl3', 'hdhd5', 'setd1b', 'sh3glb1', 'fam131a', 'hoxc10', 'idh3a', 'muc15', 'zfand1', 'stt3b', 'caprin1', 'tmem35b', 'ddit3', 'sccpdh', 'frg2c', 'ube2j1', 'babam1', 'pex19', 'sptbn4', 'mamld1', 'hspa1b', 'tmem79', 'det1', 'ctsd', 'hdac9', 'ilrun', 'sec24d', 'nxph1', 'vn1r4', 'plbd2', 'chrfam7a', 'grk6', 'c3orf85', 'gmds', 'rhex', 'timm23', 'ascl3', 'brd3', 'sema6a', 'ophn1', 'atad2', 'phospho1', 'slc35b4', 'trpc5', 'c12orf73', 'gnb1', 'gabra6', 'erich2', 'kptn', 'cylc1', 'or5m11', 'scai', 'cilp2', 'slf2', 'znf813', 'mpc1l', 'pigbos1', 'ppp1r3b', 'tmem74b', 'map3k4', 'ccar2', 'fndc7', 'gcna', 'kcnk5', 'emp3', 'gtf2h4', 'hrct1', 'nova2', 'ckap4', 'rtn4r', 'gldc', 'rcan2', 'ubc', 'eya1', 'cct8l2', 'eif4b', 'recql', 'amfr', 'capn14', 'gmpr2', 'prdm8', 'card19', 'phka2', 'f2rl1', 'fgd5', 'mfhas1', 'kdelr3', 'or10g6', 'orc1', 'usp47', 'zar1l', 'c3orf62', 'malsu1', 'ptprz1', 'c20orf194', 'znf426', 'n4bp3', 'kif1c', 'gsta4', 'wdr37', 'ndufb11', 'zmiz1', 'c1ql1', 'aunip', 'faap100', 'ovch1', 'catsper3', 'ttbk2', 'tln1', 'lect2', 'slc24a3', 'chst12', 'pccb', 'tmem11', 'b3gnt5', 'cryba4', 'folr3', 'mro', 'ddx3x', 'polm', 'tspyl4', 'eys', 'pi4k2b', 'crygs', 'proc', 'nup155', 'eps15', 'kit', 'acsm2b', 'btbd1', 'grwd1', 'tmem59l', 'cpa2', 'impg1', 'cdt1', 'ro60', 's100z', 'wdr90', 'eefsec', 'slc22a1', 'tmem65', 'nup43', 'smim7', 'nup160', 'tmem86a', 'lrig3', 'sla', 'ctu2', 'f11r', 'tom1l1', 'atp9a', 'tnfrsf17', 'aicda', 'chga', 'hspa4', 'mfsd12', 'slc17a1', 'enho', 'rflna', 'tmem107', 'sec22a', 'il20rb', 'pcdhgc5', 'gng13', 'fev', 'tfdp2', 'lmo1', 'rnf128', 'c19orf54', 'klhl6', 'septin9', 'pcdhga1', 'fat4', 'zmpste24', 'b3galt6', 'socs2', 'pip5kl1', 'rab25', 'ltb4r', 'pdzk1ip1', 'ccdc107', 'crhr1', 'ssna1', 'ndufaf4', 'nlrp3', 'znf84', 'ccdc187', 'dnajb8', 'lhx9', 'popdc2', 'usp33', 'ercc8', 'card14', 'map4k1', 'sapcd1', 'jag2', 'lxn', 'tmprss7', 'gyg1', 'cd300lg', 'tm2d2', 'fkbp3', 'gucy2f', 'nudt22', 'wwtr1', 'adamtsl2', 'adh6', 'c19orf71', 'neu1', 'nsmce1', 'arhgef39', 'or51a7', 'susd6', 'mettl7a', 'crhr2', 'dnase1l1', 'inpp4b', 'prss45p', 'riok3', 'shank3', 'slc35f5', 'slc46a2', 'btbd2', 'spata5', 'spg11', 'tll1', 'fgf12', 'slc14a1', 'vip', 'sbsn', 'fam3b', 'or6c65', 'thoc6', 'marcksl1', 'ints3', 'nlrc5', 'hormad2', 'sema4g', 'atp6v1f', 'znf691', 'ccdc178', 'tns3', 'vps37d', 'plcxd3', 'pmepa1', 'tas1r3', 'dhrs4', 'kcna5', 'ncoa2', 'tbc1d10c', 'kansl3', 'rufy4', 'tspan3', 'magi2', 'gcsaml', 'tysnd1', 'tent2', 'or6j1', 'lyrm4', 'fam228b', 'atp7b', 'hpse', 'ifi16', 'fbxl17', 'lars2', 'tnnc1', 'oxct1', 'afdn', 'pkdcc', 'phf10', 'rab35', 'rbm14', 'btd', 'stk39', 'rab38', 'sirt6', 'ctnna2', 'znf823', 'tph1', 'mybl1', 'babam2', 'efcab7', 'cert1', 'drp2', 'gsto1', 'or4f15', 'wbp2', 'col5a1', 'fkbp14', 'gtf2b', 'trpc1', 'ulbp1', 'slc2a4', 'odam', 'tgm7', 'lipa', 'araf', 'map2', 'cnot11', 'gpat2', 'atg2b', 'rock1', 'jam3', 'proser3', 'c16orf54', 'rnft2', 'trip4', 'ppp3cb', 'bsnd', 'kdm8', 'dap3', 'hdhd2', 'ascl5', 'hook3', 'cep57', 'cyb561a3', 'casp8', 'pde4b', 'slc36a2', 'chia', 'gpc2', 'tex101', 'alas1', 'fxr1', 'galc', 'znf582', 'sf3b6', 'themis', 'rfx6', 'ly6h', 'nostrin', 'slc12a5', 'tmem129', 'hadhb', 'nalcn', 'il34', 'cep290', 'ppih', 'ndfip2', 'rwdd1', 'tcerg1l', 'tp53bp1', 'fbxo27', 'golph3', 'kansl1', 'osbpl10', 'slc11a2', 'znf20', 'cd1e', 'bend2', 'ywhae', 'aida', 'ints2', 'nme5', 'slc8a2', 'thsd8', 'slc30a5', 'entpd1', 'arl2', 'ncan', 'krtap23-1', 'chic2', 'or51a4', 'nr1d2', 'eaf2', 'mbd3l2b', 'or8k3', 'pom121c', 'samd5', 'rptor', 'tc2n', 'shbg', 'eno3', 'fktn', 'spry1', 'tapt1', 'il31ra', 'atp5f1b', 'lta4h', 'tmprss3', 'uchl5', 'prss58', 'adck5', 'csnk1g1', 'scgb1d1', 'prdm10', 'cx3cl1', 'paqr9', 'pigb', 'ano9', 'ca6', 'cops7a', 'hnf4a', 'mapk3', 'mrc1', 'aspm', 'sfr1', 'mtif3', 'asb3', 'nop2', 'dclk1', 'egr2', 'gmcl2', 'zpbp', 'aadacl4', 'fancf', 'psmd13', 'elp5', 'klhl13', 'thra', 'khsrp', 'traf2', 'csnk2a1', 'cngb3', 'scnn1b', 'cops3', 'ces4a', 'coro7', 'usp12', 'znf207', 'otof', 'tmem262', 'krt9', 'rb1', 'jaml', 'macrod1', 'spata22', 'zbtb7b', 'gdf10', 'ccl23', 'abcf2', 'pot1', 'cst6', 'znf773', 'map3k13', 'pcdhga5', 'dapp1', 'mark2', 'fam205a', 'pcsk1', 'lyar', 'pde4c', 'pfkm', 'narf', 'eif4ebp1', 'usp9x', 'e2f7', 'ethe1', 'virma', 'rffl', 'kctd1', 'tp53bp2', 'dmbt1', 'lrrc24', 'smad9', 'tmcc3', 'sfxn5', 'mon1b', 'tsn', 'u2surp', 'wdr38', 'zfand2a', 'arl8a', 'pdgfra', 'hnrnpa0', 'papss1', 'pde8a', 'rpa1', 'mdp1', 'nlrp8', 'plcg1', 'dsel', 'tex29', 'art5', 'ndufa13', 'cavin3', 'mepe', 'omg', 'tp53tg5', 'gem', 'kcnc1', 'lipi', 'ern2', 'tmem95', 'gan', 'or8k5', 'iqcj', 'gins4', 'tmem154', 'eya3', 'foxe3', 'phgdh', 'znf10', 'ank2', 'lrtm2', 'npdc1', 'pdik1l', 'aup1', 'thap4', 'znf260', 'ephx1', 'spag6', 'cyp3a7', 'pla2g4c', 'scn10a', 'wdr18', 'ap1s2', 'tfdp3', 'erc1', 'prrg1', 'arhgap39', 'cep112', 'znf674', 'clgn', 'loxl1', 'ndufb1', 'mog', 'arap2', 'icam2', 'tepsin', 'cdc14c', 'mcat', 'zp1', 'lyz', 'syt7', 'ncoa3', 'vstm4', 'ngb', 'vps50', 'ap2m1', 'zswim3', 'b4galt2', 'nkx2-1', 'skida1', 'slitrk2', 'insrr', 'c1qtnf3', 'mier3', 'aire', 'capn3', 'srpk1', 'prr35', 'basp1', 'med11', 'tmem126a', 'usp37', 'dcd', 'sult1a2', 'neto2', 'timp2', 'got1l1', 'tnfrsf21', 'nol11', 'id1', 'arhgap11a', 'kdm4a', 'nbn', 'ramp1', 'pcyt2', 'hspa2', 'clec7a', 'tex264', 'capns1', 'tnfrsf6b', 'pgk1', 'smg1', 'naa11', 'insig1', 'rac1', 'sco1', 'rnf144b', 'mosmo', 'rhbdl3', 'adgrg4', 'tent4a', 'tmem165', 'wdr64', 'ccdc17', 'orc3', 'nck2', 'rasgrp3', 'ly6l', 'heatr3', 'dbx1', 'paip1', 'pigu', 'or4n5', 'stmp1', 'eif3b', 'lysmd4', 'c3orf56', 'ppp2r2c', 'prelid3a', 'mmp26', 'c17orf50', 'gbp7', 'ap1m2', 'casd1', 'dnm3', 'pim2', 'ano2', 'casp10', 'zar1', 'lap3', 'ppp2r3c', 'actn3', 'aimp1', 'lyrm1', 'terf2ip', 'hsd3b7', 'parp15', 'tmem160', 'hpcal4', 'poldip3', 'orai3', 'wipf1', 'gabrg1', 'tmem239', 'bag2', 'ncr3', 'slc28a3', 'erg', 'exoc3', 'or5d18', 'psmb4', 'rbm26', 'spats2l', 'znf250', 'rasal2', 'zdhhc3', 'atg10', 'grpr', 'map2k6', 'wdr54', 'slc25a37', 'mfsd5', 'sult1a1', 'cib3', 'pcnt', 'hace1', 'sema6d', 'tvp23a', 'acap2', 'lamp1', 'usp6', 'lingo4', 'ccdc83', 'iqch', 'fem1a', 'ptprn', 'alad', 'fam120a', 'c10orf88', 'npy5r', 'plxna3', 'znf736', 'cth', 'adamts2', 'lpin2', 'dcps', 'panx1', 'gbp4', 'mcrip2', 'aldh1a2', 'tmem35a', 'tnk2', 'zcchc24', 'mettl11b', 'accs', 'sqor', 'ablim3', 'arhgef11', 'smco4', 'pipox', 'cpne5', 'mogat2', 'arl10', 'utp6', 'il17rc', 'ttc29', 'anapc2', 'sytl2', 'aifm3', 'mt3', 'arpp21', 'klhl1', 'nmnat3', 'insyn2a', 'myh15', 'dzip3', 'ncoa4', 'hsph1', 'dgat1', 'kcng4', 'nfe2l1', 'dpp6', 'impa2', 'arhgap1', 'dntt', 'lair1', 'ccng1', 'tagln', 'msh3', 'b4galnt3', 'vegfd', 'fermt2', 'p2rx3', 'ppp4r3c', 'tex45', 'c8orf48', 'mylip', 'hepn1', 'ptprk', 'ubl7', 'eif2s2', 'mpdz', 'recql5', 'smdt1', 'znf165', 'jam2', 'kcne4', 'ifnl2', 'dclk3', 'nkx6-1', 'tmem60', 'spsb3', 'bmt2', 'kif1a', 'trex2', 'znf235', 'ipcef1', 'esam', 'kmt5c', 'becn1', 'wfdc5', 'clec2d', 'dnpep', 'tex53', 'or13c2', 'znf532', 'ubap1l', 'aurkc', 'bbs2', 'txnl4a', 'anapc7', 'sec61b', 'cldnd2', 'gpr55', 'arl6ip1', 'myl1', 'celf6', 'vsig10', 'znf589', 's100a4', 'camsap3', 'fibp', 'rnf182', 'ptges2', 'smarce1', 'cilp', 'enah', 'col19a1', 'cramp1', 'nagpa', 'commd9', 'mybph', 'rab11fip1', 'cldn7', 'tomm20l', 'znf41', 'hinfp', 'fam181b', 'parm1', 'slc25a24', 'cmklr1', 'kcmf1', 'tceal7', 'dct', 'c1orf87', 'minar1', 'hey1', 'c14orf119', 'znf133', 'fcar', 'myh8', 'pik3r3', 'c10orf62', 'fmo3', 'ddah1', 'c12orf60', 'ints9', 'igsf23', 'rims4', 'celsr3', 'atp5f1c', 'dcp1a', 'hic1', 'pi4kb', 'hydin', 'npnt', 'tas2r50', 'agmat', 'c10orf95', 'lrch1', 'nfxl1', 'znf148', 'cgn', 'flvcr1', 'wnk3', 'znf613', 'znf536', 'ccdc78', 'pigw', 'adm', 'rev3l', 'zdhhc13', 'ap4b1', 'zscan1', 'slc27a1', 'pacc1', 'fam207a', 'slc26a11', 'camkv', 'fbxo30', 'htr3e', 'zpr1', 'fsip1', 'trank1', 'esrrb', 'rdh8', 'slc38a9', 'st3gal6', 'znf713', 'duoxa2', 'iqsec3', 'dmpk', 'rgma', 'krt28', 'or8d1', 'il21', 'jak2', 'taf6l', 'usp17l15', 'nek6', 'fez1', 'btn3a2', 'fezf2', 'psd', 'snip1', 'tbc1d22a', 'utp4', 'bivm', 'pate3', 'rtp2', 'myf5', 'apbb3', 'alg13', 'scand1', 'tmub1', 'calr3', 'epc1', 'tmem243', 'scrn3', 'lcp1', 'elspbp1', 'flvcr2', 'fam20b', 'or2t34', 'vps26a', 'abra', 'cacna2d1', 'znf597', 'nxph3', 'moxd1', 'susd4', 'ptpdc1', 'kcnu1', 'zfp90', 'angptl3', 'rec114', 'med7', 'fndc10', 'hmgb4', 'mier2', 'myocos', 'reep2', 'cuzd1', 'nedd4', 'slc25a1', 'sft2d2', 'akt3', 'tdrp', 'hsf5', 'armc6', 'exd2', 'naa15', 'nrsn2', 'cst11', 'pabpn1l', 'gpatch4', 'pip5k1a', 'irf2bp1', 'lhx2', 'mkks', 'p4ha2', 'birc2', 'gpc4', 'samd10', 'fabp9', 'tent5d', 'nckap1l', 'or51l1', 'slc17a5', 'trappc8', 'spaar', 'tmem39a', 'usp8', 'onecut2', 'otop1', 'gc', 'erich4', 'crybb1', 'cish', 'or14c36', 'hnrnpll', 'klrf2', 'eme2', 'znf512b', 'irf4', 'hoxb2', 'duxa', 'snx14', 'fbxo9', 'apcdd1', 'hacl1', 'nr1d1', 'dcaf8l2', 'celsr1', 'adgre3', 'rnd1', 'mia3', 'lpp', 'bclaf3', 'cmip', 'xkr9', 'il3', 'kel', 'sgsm2', 'toe1', 'nhlrc2', 'dnajb12', 'ankrd37', 'fgd1', 'evx2', 'arsb', 'fbxo5', 'shroom1', 'id2', 'arv1', 'papln', 'fabp12', 'morn3', 'epas1', 'ssu72', 'arl4d', 'ido1', 'r3hdm4', 'serpina12', 'nphs2', 'tbc1d3e', 'gen1', 'sp5', 'dnajc24', 'oosp2', 'lancl1', 'ptpro', 'asb16', 'supt5h', 'mcoln3', 'surf4', 'drgx', 'krt79', 'ucn3', 'lbhd2', 'greb1', 'suds3', 'c17orf107', 'tfap2e', 'caprin2', 'ydjc', 'snrpn', 'slc17a3', 'syce3', 'tmem138', 'prpf31', 'znf284', 'dnajc25', 'stk25', 'tab1', 'znf174', 'dlx3', 'akirin2', 'cdc42ep2', 'fmod', 'rtn4', 'tmed6', 'pnpla8', 'prkch', 'ppp4r3b', 'ssx3', 'chi3l2', 'gpr173', 'mgat5', 'nr2c1', 'ece2', 'rab6c', 'retsat', 'serpina11', 'vps13c', 'eya4', 'sprr1b', 'duxb', 'slit3', 'dync1i1', 'pheta1', 'mthfd2l', 'rnf25', 'metap2', 'efemp1', 'ccdc62', 'fam78b', 'mroh2a', 'rab40b', 'trim17', 'dnai2', 'sem1', 'pex5l', 'uimc1', 'ppp4r3a', 'etfb', 'fam110d', 'npas2', 'slc3a2', 'atg4a', 'faim', 'cops4', 'prrc2c', 'nxf3', 'nras', 'or2y1', 'scaf8', 'col5a2', 'impa1', 'cmc1', 'eps8', 'afap1', 'ovch2', 'tmem119', 'uggt2', 'c1r', 'znf782', 'fam124b', 'c1orf54', 'erbin', 'adgrg2', 'krtap4-2', 'psmd11', 'rmdn2', 'lrrc10b', 'pip4k2a', 'rbpj', 'tmem132b', 'snx9', 'amer1', 'dnaaf1', 'calhm6', 'mt1f', 'rbbp5', 'rhob', 'mall', 'mtmr12', 'lrriq1', 'gpam', 'ppm1h', 'arrdc5', 'cox7c', 'sgca', 'krtap7-1', 'cln3', 'klln', 'naa80', 'scaf1', 'ddx11', 'hmga2', 'bid', 'mocos', 'eid1', 'dcaf17', 'stk32b', 'fam227a', 'clic6', 'btbd18', 'dsg4', 'ppp2r5c', 'vdac2', 'setd3', 'klhl33', 'c3orf22', 'hspa4l', 'map2k1', 'znf780b', 'znf843', 'tnnt1', 'stard9', 'prox1', 'asgr1', 'srl', 'znf354b', 'gcm2', 'telo2', 'krt80', 'pias3', 'znf695', 'mcu', 'plat', 'chrna6', 'vps25', 'srsf12', 'tmem14c', 'asb15', 'auts2', 'spink1', 'stc1', 'ccp110', 'fbp2', 'kcnj4', 'tex50', 'kpna7', 'rab10', 'ccl14', 'hmcn1', 'dscam', 'tlr3', 'tut7', 'ildr1', 'hoxa13', 'scrt2', 'spty2d1os', 'scaper', 'nsmce3', 'nt5c3a', 'rag1', 'rnf126', 'c1orf127', 'e2f5', 'sh2d7', 'sorl1', 'tbl3', 'lcn9', 'ppil3', 'ppp1r3a', 'ift122', 'kera', 'foxj3', 'or1j1', 'rln3', 'llgl1', 'six4', 'sufu', 'rhpn2', 'kat7', 'fgd2', 'c11orf42', 'ifna2', 'oard1', 'clcnkb', 'rgl1', 'pitx1', 'slc35e1', 'pgam2', 'mapk15', 'hif3a', 'pcdh17', 'smim22', 'fam221a', 'kcnk4', 'brpf3', 'caps', 'ptk2b', 'mydgf', 'znf442', 'plac8', 'nck1', 'armc9', 'dmap1', 'hspa8', 'nim1k', 'a2ml1', 'fnip1', 'ihh', 'gpr1', 'sec23a', 'snx4', 'srrm1', 'apobec3f', 'grin2a', 'rpgr', 'spata2l', 'tanc2', 'tbc1d7', 'arsi', 'galnt11', 'dnajc27', 'krtap5-10', 'neurl4', 'znf451', 'baiap3', 'msx2', 'lrrtm3', 'asah2', 'rergl', 'ets2', 'pramef2', 'tshr', 'or3a1', 'prom2', 'slfnl1', 'lrrc8d', 'klrg2', 'pycr2', 'ubxn8', 'klhl15', 'cavin1', 'rpp14', 'bmf', 'pgam5', 'rnf10', 'cpq', 'ccdc7', 'veph1', 'cdk11b', 'crispld2', 'cnot6', 'cpvl', 'etf1', 'brap', 'cdsn', 'fam71c', 'myct1', 'nlrp11', 'podn', 'ppp1r3e', 'psmb10', 'amer3', 'serinc4', 'tex33', 'pdzrn4', 'tgfbr3l', 'dmrt3', 'wnt7a', 'd2hgdh', 'gabrp', 'serpina10', 'pnpla2', 'prr18', 'ptdss2', 'ppp1r7', 'dglucy', 'rsl24d1', 'ncr2', 'pcdha12', 'sumf2', 'pank2', 'mc1r', 'ppy', 'cpb1', 'slc25a44', 'gkn2', 'fshr', 'eppin', 'cop1', 'acp5', 'hsh2d', 'ss18l1', 'tnnt2', 'eif2a', 'bco2', 'cldn3', 'foxa1', 'or4k17', 'c1galt1c1l', 'glp1r', 'rreb1', 'ccdc32', 'med23', 'gpr151', 'uqcr11', 'snx31', 'elovl1', 'zxdc', 'gjd2', 'trappc3', 'adap1', 'arhgap25', 'hcfc1', 'stx11', 'rexo5', 'erap2', 'bcl2', 'erlin2', 'uaca', 'ugdh', 'erh', 'wdr83os', 'kiaa1586', 'gxylt2', 'or5as1', 'slc25a43', 'pdha2', 'col11a2', 'uprt', 'tcp1', 'rab9b', 'igsf5', 'limch1', 'flt4', 'mtf2', 'btbd17', 'pla2g2d', 'erich1', 'ampd2', 'man1c1', 'ttpal', 'cdca2', 'commd4', 'arhgap23', 'rhoc', 'ndufaf2', 'odf3', 'usf3', 'ezhip', 'rbm12b', 'ccdc65', 'klf9', 'tmem52b', 'proser1', 'kpna5', 'atp10b', 'bad', 'mstn', 'btla', 'trmt61a', 'ctnnb1', 'pex11b', 'bin2', 'ints7', 'c5', 'rbm44', 'celf2', 'cetn3', 'aamdc', 'kcnj3', 'septin7', 'ubr7', 'rbm12', 'asmt', 'grb2', 'agpat4', 'plin4', 'vsig10l2', 'adgre5', 'znf280d', 'aoah', 'psme3', 'fbrsl1', 'lpar3', 'or1d5', 'nrros', 'c17orf100', 'or5i1', 'or4d1', 'fbxo47', 'cyp11a1', 'cftr', 'slc22a2', 'ccdc134', 'sh3d19', 'lamc2', 'gas8', 'neto1', 'pnpla6', 'fuca2', 'lilrb1', 'krtap12-3', 'alx3', 'jarid2', 'ksr1', 'kmo', 'or5k3', 'myeov', 'c15orf48', 'fam71d', 'fras1', 'bcap31', 'ubxn2b', 'itsn1', 'fgf23', 'otud1', 'app', 'wdpcp', 'phf11', 'tgif2', 'cd28', 'derl3', 'ovol1', 'psmc3', 's1pr2', 'sostdc1', 'tspan19', 'c2', 'svop', 'sptlc2', 'cyp4b1', 'kcnk13', 'mzt1', 'vn1r2', 'suco', 'ppan', 'ifnl1', 'slc10a7', 'znf474', 'cd3g', 'gsto2', 'gmnc', 'chac2', 'drd1', 'chmp4c', 'hbp1', 'ror1', 'rcan3', 'olig3', 'tlr6', 'ulk1', 'lyzl2', 'dpep1', 'nkx3-1', 'star', 'tas2r8', 'znf527', 'slc25a6', 'dram2', 'pou4f3', 'atp10d', 'tmem140', 'slc34a2', 'vtn', 'bdkrb1', 'reg4', 'klk13', 'timp3', 'frem2', 'gata5', 'slc7a9', 'ctsz', 'scube1', 'mmp23b', 'pxmp4', 'snx33', 'foxq1', 'zdhhc2', 'arpc4', 'krtap2-4', 'slc9a2', 'lrrc38', 'erg28', 'klf17', 'hemk1', 'srms', 'cldn8', 'awat1', 'havcr1', 'magi3', 'cpne1', 'znf716', 'polr3c', 'tas2r1', 'prcd', 'ankrd52', 'emid1', 'pds5b', 'nusap1', 'a4galt', 'rnase11', 'zbtb39', 'rwdd2a', 'or7c1', 'tmem209', 'ubqlnl', 'hint2', 'arms2', 'rnf113b', 'or52b4', 'rhog', 'arnt2', 'fbxl16', 'gtf2h3', 'plet1', 'sidt2', 'snrnp35', 'dyrk1b', 'ikbip', 'spock1', 'rtbdn', 'fcrl1', 'vti1a', 'mettl23', 'lasp1', 'tmem269', 'brs3', 'atg16l1', 'cdh7', 'lrrn4cl', 'gtf3c1', 'btnl8', 'ms4a13', 'wbp2nl', 'mmp13', 'znf160', 'cdyl', 'pde6g', 'rab36', 'phkg1', 'ext1', 'or4k14', 'ralyl', 'rhbdl1', 'ucn2', 'aff1', 'ccnd2', 'hmox1', 'glb1l', 'slmap', 'rragb', 'actr2', 'ndor1', 'klk2', 'gabrb3', 'kiaa0895', 'foxk1', 'or5j2', 'maff', 'stat5b', 'pgm2', 'neil2', 'cdon', 'obsl1', 'dolpp1', 'inip', 'slc38a10', 'usp38', 'klf2', 'gphn', 'rfpl4b', 'pex11g', 'ano6', 'maip1', 'arhgap5', 'or52m1', 'timm10b', 'ccl7', 'mnda', 'ckap2l', 'cd164', 'tspan6', 'ephb6', 'pde6d', 'prss35', 'usp17l10', 'c1orf162', 'znf85', 'tlx3', 'pitpnc1', 'vmac', 'tagln3', 'aig1', 'tas2r39', 'trim64c', 'wdr41', 'pex11a', 'tpd52l3', 'nlrp1', 'slc10a1', 'actr5', 'cyb5r4', 'hmgn4', 'mtus1', 'ttc9b', 'ndufv2', 'plekha2', 'reep6', 'hoxc8', 'rilpl1', 'tmem145', 'chst13', 'myh4', 'atxn7l3', 'nat1', 'aspn', 'anxa5', 'cep152', 'dop1b', 'hesx1', 'c17orf97', 'pgp', 'serpinb4', 'tril', 'capg', 'unc45a', 'ap3b1', 'dbn1', 'ajuba', 'asb18', 'cd101', 'or1a2', 'ptcd2', 'adamts3', 'snx24', 'cfdp1', 'usp3', 'hmga1', 'ei24', 'ltbp3', 'znf689', 'ceacam16', 'ccl20', 'krtap26-1', 'lgr4', 'dcst2', 'prkacb', 'crip3', 'get3', 'tmem187', 'pdpn', 'xrra1', 'rab11fip2', 'anp32b', 'zbtb17', 'grhpr', 'cdh4', 'efcc1', 'eomes', 'kantr', 'ajm1', 'mlxipl', 'nup210', 'slc13a4', 'jup', 'aadac', 'shroom3', 'gprc6a', 'spindoc', 'draxin', 'trim25', 'mt-cyb', 'jph4', 'rnf215', 'prss3', 'rap2c', 'ubfd1', 'fam102a', 'lhx4', 'nefh', 'ranbp6', 'ankfn1', 'cenpu', 'a4gnt', 'rnaseh1', 'gh1', 'cep72', 'slc5a10', 'cage1', 'clec1a', 'trpa1', 'dnajc8', 'rho', 'lrrc59', 'pls3', 'tmem52', 'unc93a', 'vwa5b2', 'fgfrl1', 'jcad', 'npepl1', 'higd2a', 'gfra1', 'slc25a39', 'mc4r', 'lrrc3c', 'rpa4', 'rhbdf2', 'rab42', 'arhgap15', 'cdyl2', 'sh3gl1', 'kiaa1328', 'atp6v1g1', 'lhpp', 'gmeb1', 'tor4a', 'il17f', 'cyp4x1', 'lrrc40', 'nwd2', 'adamts18', 'pde7b', 'nlrp4', 'acy1', 'npm3', 'cp', 'fuom', 'gja9', 'prkra', 'tdrd7', 'sfn', 'gdf15', 'golm1', 'calcoco2', 'znf516', 'htr4', 'nog', 'slc19a1', 'scpep1', 'gata3', 'pik3r2', 'sftpc', 'vax1', 'dusp28', 'trpm6', 'slc30a6', 'cxcl14', 'plk2', 'triml2', 'cpa1', 'brd7', 'etnk1', 'cog4', 'lsg1', 'pex1', 'rbm4b', 'ncr3lg1', 'spag16', 'insm2', 'atp6v1g2', 'snx1', 'cenph', 'exosc4', 'gbx2', 'hspbp1', 'dhcr24', 'acss1', 'efcab9', 'fam149a', 'kcnc3', 'inpp5k', 'pcca', 'tmem244', 'gstp1', 'ip6k3', 'jph1', 'timm50', 'troap', 'bak1', 'myrf', 'ndufb4', 'pc', 'btbd19', 'fsd1l', 'irx1', 'mon1a', 'ccno', 'fam117b', 'pcdha1', 'triap1', 'znf449', 'stra8', 'kdm5d', 'coro2b', 'znf730', 'avpr2', 'rgs1', 'nlrx1', 'spag17', 'spata31a1', 'clk4', 'il17rb', 'thoc7', 'lingo1', 'gart', 'gm2a', 'ces5a', 'lbp', 'pklr', 'aplp2', 'arhgap35', 'fbxo44', 'fam91a1', 'cdhr4', 'filip1l', 'ranbp9', 'sh2d5', 'tra2a', 'ugt2b7', 'tmigd2', 'mfap1', 'cks1b', 'ctsv', 'lgals13', 'pak5', 'irak3', 'ccdc8', 'il20ra', 'srarp', 'pla2g3', 'taf11l4', 'vash2', 'qprt', 'bach2', 'nrg1', 'lexm', 'col9a1', 'csmd3', 'add1', 'adrb2', 'defa6', 'lin52', 'nav2', 'pias1', 'slc7a11', 'tmem117', 'p2ry1', 'gtf3c3', 'nppc', 'il22', 'cacnb1', 'pik3ip1', 'chuk', 'ptges3l', 'wnk2', 'surf1', 'theg', 'fam229a', 'gne', 'cmc2', 'rnf167', 'foxi2', 'pea15', 'rhou', 'ccdc60', 'mad2l1bp', 'sec13', 'socs6', 'ccne2', 'meox2', 'ifnb1', 'tmed7', 'mettl7b', 'tppp', 'rexo4', 'dsc1', 'naglu', 'cnih2', 'fbxo4', 'hsd17b13', 'c3orf70', 'trem1', 'tprg1l', 'znf350', 'hmbox1', 'amz2', 'snapin', 'egln3', 'leutx', 'anxa2', 'cmbl', 'sprtn', 'agpat3', 'itga7', 'itpa', 'lrfn5', 'c19orf85', 'spatc1l', 'dennd2d', 'ttc30b', 'arf6', 'lrp11', 'nudt7', 'sparcl1', 'rnf31', 'sord', 'ubxn4', 'mettl27', 'zyg11b', 'ccdc85b', 'znf575', 'f5', 'gtf2e2', 'sox18', 'dusp18', 'mbl2', 'yipf2', 'gimap1', 'c1orf216', 'jtb', 'stk17b', 'pisd', 'blzf1', 'calml4', 'dlx6', 'fahd1', 'pprc1', 'chml', 'secisbp2l', 'zcchc3', 'sec61a2', 'gsg1l', 'tnfrsf12a', 'shox', 'c6orf120', 'camp', 'faim2', 'pnliprp1', 'spaca6', 'or4p4', 'elk1', 'prkacg', 'wdr75', 'xbp1', 'mesd', 'senp2', 'atp11b', 'ammecr1l', 'smyd2', 'ica1l', 'arhgef33', 'rep15', 'src', 'stau1', 'raet1g', 'ugt2a3', 'ptgs1', 'creb3l4', 'oxa1l', 'tmem232', 'prlr', 'cldn1', 'ankrd18b', 'lgals1', 'mpp3', 'spint2', 'spop', 'gfpt2', 'fcgr3b', 'f2r', 'fabp1', 'unc50', 'mfng', 'nup210l', 'pigq', 'apln', 'fsd1', 'prm3', 'cul4b', 'efhd2', 'mrfap1l1', 'zc2hc1b', 'rfpl2', 'tomm70', 'klc4', 'clec4c', 'mgst1', 'dipk1b', 'or13c8', 'sel1l3', 'cdh6', 'wapl', 'aspa', 'znf585a', 'akap1', 'brwd3', 'c19orf12', 'ltbp2', 'cyp1a2', 'serpinb9', 'heatr4', 'hormad1', 'scamp2', 'tnks2', 'cybrd1', 'ppp1r13b', 'rapsn', 'c4orf33', 'bnipl', 'gpihbp1', 'klf16', 'lcnl1', 'aqp7', 'pex7', 'rdh14', 'syce1', 'tgds', 'nxt2', 'lypd6b', 'slc7a3', 'utf1', 'epgn', 'podnl1', 'hpx', 'ssbp1', 'cdc42ep4', 'gpr139', 'nme1', 'pappa', 'tbp', 'zcchc8', 'pramef1', 'chrdl2', 'col6a6', 'fam135b', 'sec31a', 'slc9a3', 'sppl2b', 'or51v1', 'apoo', 'xxylt1', 'sucla2', 'gadd45g', 'col1a2', 'limk1', 'semg2', 'znf793', 'srsf9', 'ddtl', 'nsmf', 'man2b2', 'mis18a', 'tchhl1', 'evc2', 'dzip1l', 'tdrd12', 'tiaf1', 'tmem14a', 'tmem234', 'znf740', 'mccd1', 'or4c3', 'pla2g4b', 'tmem268', 'sf3a3', 'ino80c', 'mex3a', 'cebpa', 'mus81', 'nsfl1c', 'rasgrp4', 'abhd10', 'c12orf40', 'chp1', 'gpr37l1', 'fam171a2', 'hps5', 'opa3', 'tmsb15a', 'dmxl2', 'rsph1', 'tnfrsf10d', 'trpc3', 'upb1', 'znf529', 'linc00672', 'il20', 'ssx5', 'psd4', 'porcn', 'cox7a2l', 'rbbp6', 'fbxw9', 'nudt13', 'tafa1', 'atg5', 'cox6a1', 'ubqln1', 'ankmy1', 'purg', 'ccdc50', 'mfap2', 'zcwpw2', 'lpar1', 'amigo1', 'ank3', 'nefl', 'trim40', 'znf214', 'drd2', 'pkp4', 'fam160a2', 'c12orf43', 'sema3g', 'smim8', 'akip1', 'fam126a', 'pir', 'ecsit', 'lrit2', 'ly6e', 'cmtm7', 'tmem242', 'golt1a', 'clspn', 'rpgrip1', 'acbd7', 'rnf223', 'ccdc196', 'ttc36', 'uba3', 'atg12', 'cerk', 'rrp7a', 'tmc5', 'acadl', 'tob2', 'ift80', 'rubcnl', 'hbz', 'hmgb3', 'ksr2', 'natd1', 'sec63', 'armcx5', 'mllt3', 'phf13', 'ppwd1', 'pygm', 'cdh16', 'dlgap2', 'krt14', 'iqgap3', 'rbm41', 'grk7', 'slc10a5', 'svep1', 'tbata', 'or10a4', 'tnrc18', 'xpnpep3', 'lrfn4', 'ccdc149', 'ceacam5', 'ttll8', 'wbp11', 'efcab11', 'smim32', 'ephb4', 'mepce', 'slc38a7', 'aifm2', 'tmem14b', 'adh1c', 'hrh3', 'bend4', 'hpcal1', 'primpol', 'dctn2', 'snorc', 'ankrd46', 'prickle1', 'ap5m1', 'snx12', 'rbbp7', 'hsd3b1', 'atp5f1d', 'swap70', 'kctd12', 'dao', 'c11orf68', 'or10ag1', 'tmem229a', 'klhdc1', 'znf621', 'catip', 'hspg2', 'mtg1', 'myl6b', 'tbc1d32', 'gfra2', 'radx', 'csn2', 'serhl2', 'or10h3', 'daxx', 'arhgef35', 'gal3st3', 'pramef27', 'sinhcaf', 'ldlrad3', 'lce3b', 'c1orf189', 'oas3', 'sult2a1', 'akt1', 'arl16', 'ptx3', 'anapc1', 'sec16b', 'nr0b2', 'cdkn2a', 'mcm9', 'ankle2', 'fam180a', 'jmjd6', 'nfe2', 'rad21', 'ticrr', 'rgs19', 'or4d10', 'nphp4', 'lrrc15', 'mroh9', 'fra10ac1', 'fam126b', 'rcbtb2', 'wdfy2', 'cdca8', 'fbxo43', 'asip', 'dnajc21', 'pilrb', 'afg3l2', 'preb', 'sgf29', 'ascl1', 'golga8o', 'atp1a2', 'ncald', 'echdc3', 'lhx8', 'tut4', 'atp1a3', 'oprm1', 'rtp5', 'sptssa', 'ssbp3', 'rmnd5a', 'tmx3', 'nudt5', 'lipm', 'trpv3', 'umad1', 'asph', 'sms', 'or6p1', 'mtm1', 'alg12', 'scn2a', 'stxbp2', 'tmem267', 'krtap19-4', 'prmt3', 'pstk', 'srd5a2', 'crot', 'lsp1', 'hdgfl1', 'gabre', 'cdh22', 'mrap', 'pcsk4', 'nfkbiz', 'steap4', 'ctf1', 'ppm1g', 'nup62', 'slc4a2', 'slitrk1', 'vamp3', 'wbp1', 'krbox4', 'l3mbtl4', 'ncapd2', 'fezf1', 'gpr155', 'ajap1', 'clip3', 'dexi', 'ralgps2', 'eef1aknmt', 'sh3bp2', 'tsc1', 'selenop', 'erlin1', 'abca1', 'lhx1', 'pla2g6', 'fam32a', 'taf15', 'bnip1', 'zcchc17', 'ovgp1', 'ptger3', 'sdcbp2', 'pet100', 'acsm3', 'usp17l3', 'prepl', 'prcc', 'batf3', 'niban2', 'il5', 'tbc1d31', 'smtnl1', 'fbxo32', 'ikzf2', 'tgfb2', 'slc26a4', 'jak1', 'apex1', 'dnd1', 'sec23ip', 'eif3l', 'efcab13', 'gprc5b', 'hdac8', 'chrnd', 'tasor2', 'uggt1', 'pxk', 'usp2', 'ppp3r2', 'lgals4', 'trmt112', 'plbd1', 'ppa2', 'trrap', 'eef1b2', 'slc45a1', 'uros', 'xiap', 'zcchc9', 'kank1', 'fam90a26', 'stxbp5l', 'tubg2', 'pphln1', 'pttg2', 'mafa', 'nbdy', 'wwc2', 'grk4', 'l3hypdh', 'siglec14', 'c1orf141', 'txnrd2', 'mtbp', 'cox4i2', 'or5k2', 'pdzd4', 'il12rb2', 'pef1', 'snai3', 'mllt6', 'polr2g', 'lig3', 'alpk3', 'dnajc14', 'gcnt7', 'ifih1', 'eps15l1', 'usp53', 'cald1', 'cd74', 'nat10', 'ccl15', 'ift20', 'nxpe4', 'raly', 'tyk2', 'il6r', 'rbfa', 'miga2', 'fermt3', 'themis2', 'son', 'vamp2', 'arr3', 'heatr1', 'mln', 'prex2', 'tiparp', 'hbs1l', 'cog8', 'dtnbp1', 'krt34', 'or2h1', 'dnaaf4', 'lnpk', 'serpina4', 'suz12', 'alg9', 'clns1a', 'kcns1', 'c20orf204', 'rbp5', 'apc', 'dock3', 'ecrg4', 'iqce', 'mfsd2a', 'or10g4', 'atp10a', 'klhl5', 'cblif', 'lmln', 'med17', 'nr5a2', 'ilf2', 'snrpd2', 'atf7', 'sln', 'lrg1', 'cmtm2', 'hmsd', 'pcdha2', 'ank1', 'bud13', 'mettl17', 'gask1a', 'uqcrq', 'tex19', 'nisch', 'anxa6', 'sub1', 'xpot', 'armh1', 'cux1', 'tbc1d9', 'uso1', 'kiaa0408', 'adam11', 'pdrg1', 'tbx6', 'nlrp5', 'rnf121', 'robo3', 'hcfc1r1', 'cycs', 'c10orf105', 'nedd8', 'dnah7', 'phpt1', 'mef2c', 'nol8', 'c8orf37', 'kcnb1', 'cpxm1', 'or5m9', 'ttpa', 'ipo4', 'lrrc72', 'islr', 'sema4f', 'sidt1', 'xpnpep1', 'ppic', 'ebf1', 'ptprr', 'borcs5', 'rnmt', 'exoc3l1', 'rab2a', 'minpp1', 'prkaa2', 'myl7', 'unc45b', 'cx3cr1', 'chodl', 'gpm6b', 'gtpbp8', 'rnf180', 'sc5d', 'bco1', 'frat2', 'haus5', 'calhm2', 'eef1g', 'lpar2', 'azu1', 'pcyox1l', 'riiad1', 'serpine2', 'mrrf', 'ccm2l', 'ism1', 'sh2d1b', 'sytl1', 'znf579', 'ash1l', 'msmo1', 'znf728', 'glt6d1', 'krtap1-1', 'asrgl1', 'mageb3', 'exo1', 'styxl1', 'znf707', 'uhrf1bp1', 'zgpat', 'nhlh1', 'tnfrsf11b', 'pth2r', 'prmt5', 'txlna', 'sult1b1', 'sltm', 'hjurp', 'alg14', 'glt8d2', 'nhlh2', 'msantd2', 'trappc9', 'map1s', 'ccdc146', 'tufm', 'epha1', 'ttc5', 'csrnp3', 'zscan29', 'tpp1', 'znf888', 'ctr9', 'syt1', 'il4i1', 'esm1', 'crybg3', 'eif2d', 'eras', 'map1lc3a', 'znrd2', 'erich6', 'olfm1', 'slc14a2', 'pilra', 'serpinb7', 'mest', 'mocs1', 'tnpo2', 'rab9a', 'tnfrsf10b', 'ahrr', 'cdk6', 'lclat1', 'ces1', 'cd2ap', 'cebpz', 'elmod2', 'lipn', 'nob1', 'taf1a', 'six1', 'treh', 'utrn', 'cenpj', 'fdps', 'ccrl2', 'bmx', 'rela', 'taldo1', 'gle1', 'tnfsf10', 'tectb', 'or2b2', 'pfn1', 'fam177b', 'lrrc1', 'gramd1c', 'cenpa', 'tmem101', 'sirpg', 'hgsnat', 'lsm4', 'l3mbtl2', 'tcap', 'ppp1r1c', 'kat14', 'ccdc142', 'or5d3p', 'atp5mg', 'large1', 'zbtb40', 'dusp16', 'pyurf', 'c14orf180', 'smim10l1', 'zfp14', 'magea6', 'litafd', 'papss2', 'slc25a25', 'sparc', 'znf76', 'leng9', 'snrpe', 'ctbp2', 'acsm1', 'hdac1', 'clpsl1', 'lekr1', 'mapre2', 'apeh', 'cfap99', 'otud3', 'isl1', 'or51c1p', 'pggt1b', 'elavl4', 'r3hdml', 'rab4b', 'slc15a5', 'tg', 'tsc2', 'pex5', 'tmem185b', 'rassf5', 'ddias', 'eif2ak3', 'itgb4', 'tldc2', 'npl', 'ccbe1', 'pld3', 'abtb2', 'hspa6', 'recql4', 'ipo13', 'ccdc154', 'gfi1b', 'arhgap40', 'creb3l1', 'ndufa1', 'gdap1l1', 'gale', 'faf2', 'cpm', 'gcn1', 'krtap20-4', 'pnpla4', 'zswim6', 'ndc1', 'clec16a', 'nup62cl', 'tmem104', 'znf775', 'il2rg', 'sectm1', 'pim3', 'gadd45gip1', 'slco1a2', 'tlcd5', 'hey2', 'ndn', 'adgrg3', 'cpn2', 'slc4a1ap', 'alkal2', 'dbndd2', 'serac1', 'dlx5', 'col27a1', 'wfdc3', 'chmp2a', 'fgl2', 'plscr2', 'ap1s3', 'ucma', 'timm44', 'psmc5', 'chac1', 'plp2', 'blacat1', 'unc13a', 'nr1h2', 'grifin', 'ift27', 'tmem81', 'c11orf80', 'fbxl18', 'zzef1', 'mta3', 'tacc2', 'cyp4f22', 'timmdc1', 'prh2', 'tmem213', 'fgf4', 'cd63', 'kcnh4', 'ascl2', 'kcnk6', 'cdkl4', 'trpc4', 'gnrh1', 'hif1an', 'c1orf185', 'or10j5', 'stat3', 'znf420', 'miox', 'coq10a', 'dazl', 'znf623', 'dapk3', 'bcam', 'acot13', 'zfp57', 'ccdc59', 'or1a1', 'znf549', 'parp12', 'rassf3', 'slfn14', 'tmco6', 'flcn', 'kir2dl4', 'utp25', 'gsdmd', 'fahd2a', 'mroh7', 'sdr42e1', 'znf672', 'onecut3', 'rtl4', 'csad', 'cyth4', 'foxl1', 'htr3a', 'clpb', 'parg', 'ppp1r21', 'slc22a13', 'znf37a', 'gipr', 'pdp2', 'rassf6', 'ppp1r32', 'chst7', 'tdrd3', 'lrch3', 'c15orf62', 'krtap16-1', 'isyna1', 'or2aj1', 'extl3', 'pcdhb7', 'nmt1', 'brd8', 'fam180b', 'ccny', 'mtdh', 'cdh8', 'reg1b', 'fancc', 'phkb', 'cnn1', 'c1orf210', 'tdrd15', 'zbtb49', 'gtf3a', 'nudcd1', 'bahd1', 'rsrc2', 'med1', 'rybp', 'slc9a7', 'spin1', 'mmrn2', 'rara', 'c16orf90', 'gga3', 'prodh2', 'hilpda', 'ier3', 'dtymk', 'cldn24', 'slc25a22', 'pip5k1c', 'septin8', 'ogfr', 'kiss1r', 'myo1h', 'ahr', 'rab11a', 'ttc26', 'rapgefl1', 'ino80d', 'eif2s3', 'dhx57', 'cr1', 'opa1', 'sigirr', 'tor1b', 'snx29', 'syn2', 'synpo2', 'ube2g1', 'gsdmb', 'prpf6', 'vwa3a', 'stk11ip', 'adam21', 'kdm6b', 'cdkn2b', 'or2t11', 'znf16', 'muc2', 'gpc5', 'selplg', 'gbgt1', 'hk3', 'phf21a', 'cnbd1', 'lhfpl1', 'cxxc4', 'ptpn5', 'pparg', 'arhgap19', 'rbm47', 'dnajc16', 'fam83d', 'ncaph2', 'rce1', 'astn2', 'krt40', 'scart1', 'tbc1d19', 'kpna4', 'ly6d', 'klhl26', 'nrxn2', 'igfbp7', 'pex14', 'akain1', 'anpep', 'asb8', 'prtfdc1', 'bet1', 'nudt12', 'sprr2d', 'mapk1', 'cc2d1a', 'cd36', 'znfx1', 'znf141', 'sdr9c7', 'oaz3', 'kidins220', 'or13c3', 'syde1', 'hnrnpr', 'tmem114', 'cstf2', 'pcdh15', 'map4k4', 'perm1', 'tnfrsf13b', 'disc1', 'cenpx', 'plag1', 'bnip3l', 'dgkg', 'hspe1', 'slc66a2', 'pramef33', 'terf2', 'or10h4', 'znf215', 'sntb2', 'gsdma', 'poglut3', 'lman1', 'peg3', 'arpc1b', 'acat2', 'gatad2b', 'vrk2', 'wfikkn1', 'mob3b', 'raet1e', 'gys2', 'ckap2', 'hrk', 'ermard', 'elavl2', 'hsf4', 'pms1', 'dcaf10', 'pcsk6', 'rasl10a', 'ddx23', 'adra1d', 'dpep3', 'drc7', 'fuz', 'fxyd6', 'izumo4', 'or2ag2', 'rdh10', 'tdrkh', 'lmf1', 'dgkb', 'tpsg1', 'upf3b', 'rhoh', 'rbpms2', 'klhl35', 'nnt', 'pou5f2', 'rbp2', 'nme7', 'snrpc', 'ada', 'atxn7l3b', 'ccdc198', 'mlh1', 'tmem26', 'hpdl', 'kctd11', 'ptprc', 'actr3', 'ca5a', 'ctage1', 'ddit4', 'fam189a2', 'pskh1', 'tmco3', 'trip11', 'c1qtnf2', 'znf559', 'fmnl2', 'dcc', 'endod1', 'rbpjl', 'spocd1', 'gpr6', 'tmprss9', 'frmd8', 'gtf2i', 'cep162', 'rnf122', 'znf330', 'comt', 'or8h3', 'ly6g5b', 'qpct', 'tuba3c', 'akr1c3', 'dgkh', 'syngr3', 'pcdh9', 'gcm1', 'ntan1', 'znf479', 'zbtb33', 'nhsl1', 'synj2bp', 'inmt', 'or10h2', 'pdcl2', 'samd9', 'gba', 'kiaa0895l', 'ppp1r1b', 'atp1b3', 'tmem61', 'spsb4', 'chrna5', 'lgi2', 'baiap2l2', 'hsd11b2', 'commd5', 'usp46', 'ppp2r5e', 'atl1', 'ptpre', 'fam171b', 'hspb3', 'gstcd', 'fam183a', 'metap1d', 'npvf', 'or11h4', 'aldh1l2', 'ccdc106', 'pla2g4f', 'agrn', 'tbl1y', 'tcp11l2', 'bod1', 'calhm5', 'medag', 'cd207', 'usp54', 'prr16', 'spart', 'tmem179b', 'ttn', 'zdhhc23', 'sphk1', 'znf197', 'ddrgk1', 'ephb1', 'f2rl3', 'cyp2j2', 'tpm4', 'rabgef1', 'gadl1', 'entpd3', 'znf394', 'carnmt1', 'abcc1', 'pdcd11', 'idh3g', 'il1rapl2', 'il27ra', 'tmem62', 'znf875', 'or10g3', 'uqcr10', 'col4a1', 'gngt1', 'fam210b', 'foxn2', 'ino80e', 'map3k6', 'tmem18', 'dstyk', 'hells', 'hhipl1', 'pfn2', 'clca2', 'arid4b', 'vstm2b', 'znf285', 'mtmr6', 'znf512', 'cpeb2', 'tmprss5', 'znf407', 'pigs', 'ctxnd2', 'or11g2', 'tmem202', 'cacng7', 'ffar4', 'nsmce2', 'gpr158', 'zc3h18', 'fgfr3', 'miga1', 'p4ha1', 'nfil3', 'smim10', 'zbed9', 'acvr2b', 'slamf6', 'parp6', 'cox15', 'ptges', 'atmin', 'tmem167b', 'dcp2', 'ubl4b', 'zcchc14', 'ing4', 'exo5', 'taar8', 'tbc1d8', 'irak1bp1', 'slc10a4', 'trim61', 'wdr61', 'nt5dc3', 'clec4m', 'c8orf82', 'neurod6', 'cxcl5', 'proca1', 'grin3b', 'uba1', 'dhx40', 'dnase1l3', 'adap2', 'edn3', 'mtmr4', 'c1orf43', 'yeats4', 'spdye4', 'ercc6', 'hnf1a', 'znf627', 'arhgef4', 'pinlyp', 'dusp6', 'ssuh2', 'myd88', 'chchd5', 'inafm1', 'fam209b', 'areg', 'atf1', 'dido1', 'sdf2l1', 'trap1', 'mapt', 'fdxr', 'inpp4a', 'prx', 'anxa13', 'trim54', 'mss51', 'arfgap2', 'taf3', 'entr1', 'rxfp2', 'slc28a2', 'hs3st5', 'pmch', 'znf652', 'plaat1', 'lta', 'ccl3l1', 'gpcpd1', 'aqp1', 'xaf1', 'tbc1d1', 'vps9d1', 'wdr53', 'txk', 'znf43', 'adamts8', 'cmtr1', 'ireb2', 'krtap8-1', 'fbll1', 'kmt2b', 'myog', 'znf439', 'rngtt', 'pdhx', 'prps1', 'haao', 'parvb', 'blcap', 'tst', 'dffb', 'pskh2', 'htr1a', 'lamtor3', 'znf322', 'stk40', 'cs', 'cyp17a1', 'ervfrd-1', 'krtap4-1', 'rtn4ip1', 'lat2', 'lgi4', 'mphosph9', 'prr7', 'slc5a5', 'lrrcc1', 'ltf', 'fibcd1', 'p4hb', 'pdgfrl', 'klhdc4', 'zcchc4', 'ssu72p8', 'ervmer34-1', 'klk5', 'dis3', 'rab3gap2', 'dgkz', 'vcp', 'thumpd3', 'iqcf5', 'prrx2', 'zscan18', 'lbx1', 'eif3i', 'tmem88b', 'tyr', 'cdk19', 'akap17a', 'gngt2', 'myl10', 'pnma2', 'sbspon', 'snw1', 'apol5', 'ccdc82', 'olah', 'ttc9', 'magea11', 'mdm1', 'ankrd60', 'tmem147', 'ankef1', 'fancd2', 'inpp1', 'kcna3', 'pcmtd1', 'prkar2b', 'rassf1', 'mipol1', 'spink7', 'or10p1', 'c9orf152', 'syvn1', 'mgme1', 'or1l6', 'znf470', 'styk1', 'fmo5', 'ikzf4', 'tcf15', 'fads3', 'topors', 'kif21a', 'cldn22', 'chmp2b', 'emc4', 'magt1', 'ntsr2', 'dhx58', 'galnt2', 'srd5a1', 'cebpg', 'tex15', 'dusp21', 'clhc1', 'tcea2', 'pdzd8', 'slc27a5', 'alpg', 'eri3', 'hyal3', 'il3ra', 'msi2', 'nsg1', 'tmem186', 'h6pd', 'rtl5', 'slc5a4', 'adcy4', 'cfb', 'rab2b', 'zxdb', 'ermap', 'pthlh', 'tspan13', 'shc3', 'tmprss11e', 'fam166c', 'p2rx4', 'mmp28', 'mpc2', 'rnf165', 'flii', 'reps2', 'slc49a4', 'klhl31', 'znf850', 'cactin', 'rab4a', 'ube3d', 'cep95', 'c5orf24', 'defb113', 'cyp7a1', 'med13', 'mtnr1b', 'oxtr', 'cldnd1', 'csrp2', 'gbp1', 'pnrc2', 'atp5pf', 'rxrg', 'hnrnpa2b1', 'cldn15', 'kctd9', 'rassf8', 'gpr85', 'npc1l1', 'myh3', 'spata17', 'paqr5', 'lamtor5', 'fhit', 'mageb2', 'shkbp1', 'c16orf46', 'ddc', 'ap4e1', 'ap2a2', 'cst2', 'pate4', 'tusc3', 'znf202', 'eef2kmt', 'capza2', 'zscan32', 'phf2', 'c1orf21', 'sppl2c', 'npap1', 'camsap2', 'dclre1b', 'trir', 'b3gnt4', 'nap1l5', 'cltb', 'pnma6a', 'znf385b', 'cntd1', 'nat2', 'lce3d', 'optn', 'cyp2c9', 'asb1', 'krtap4-16', 'rtf2', 'fam9b', 'nle1', 'rfc3', 'caly', 'kctd5', 'mif4gd', 'slc66a3', 'ackr3', 'ephx2', 'diaph2', 'cfap61', 'krtap10-2', 'tomm5', 'ager', 'hadh', 'dcaf5', 'thsd7a', 'bhlhe41', 'rgcc', 'fars2', 'tmem183a', 'gnly', 'map10', 'usp18', 'chkb', 'rbmxl2', 'chmp4a', 'ang', 'psen1', 'ptprb', 'fgf8', 'bphl', 'csrnp1', 'mphosph6', 'tmem237', 'ttc14', 'rpf2', 'ifng', 'pnpla7', 'gtf3c4', 'or6x1', 'lrrc61', 'csk', 'rap1gap2', 'coa8', 'or6c2', 'rnf185', 'trpm1', 'ros1', 'ctsa', 'alcam', 'plekha8', 'scn1b', 'sox17', 'klhl20', 'stx10', 'ctxn2', 'pex26', 'hdgf', 'yod1', 'engase', 'krt12', 'selenow', 'shd', 'pja2', 'slc17a2', 'pacsin2', 'ankrd10', 'ddx19b', 'vnn2', 'armcx6', 'creg1', 'kcnj15', 'dgcr2', 'fcrl5', 'or13c4', 'amdhd2', 'gjb5', 'pigc', 'rnaseh2c', 'ppt2', 'rfx2', 'tctn2', 'ten1', 'prdx5', 'vwa8', 'adat1', 'npsr1', 'ftsj1', 'sh3bgrl', 'mocs2', 'strit1', 'vamp7', 'st3gal4', 'inhba', 'pla2g4e', 'sgsh', 'nebl', 'gpr26', 'slc35a4', 'krtap29-1', 'phf19', 'drd3', 'tpsd1', 'abcg5', 'cep19', 'gna11', 'muc4', 'tmem184b', 'lypd3', 'olfml1', 'traf7', 'acsf3', 'trh', 'atg3', 'homer3', 'lnpep', 'nop14', 'sp4', 'slc51a', 'fam166b', 'kazald1', 'b4galt6', 'znf429', 'mylpf', 'agpat5', 'kcnmb1', 'edn1', 'naaladl1', 'or51a2', 'tor3a', 'c12orf42', 'gab3', 'unc80', 'nlgn2', 'reck', 'grin2c', 'chrac1', 'agtrap', 'magec3', 'psmg2', 'usp49', 'gpha2', 'tchh', 'znf662', 'mbtps1', 'hecw1', 'anxa7', 'cbln3', 'obi1', 'ankzf1', 'hdac10', 'cers6', 'ppp1r16a', 'pitx2', 'dact1', 'lilrb2', 'nkd2', 'pmpcb', 'ifrd2', 'adcyap1', 'polg2', 'krtap5-3', 'pttg1ip', 'rab3d', 'cyp19a1', 'sap18', 'asap2', 'ciao2a', 'tecr', 'krtap5-8', 'ube2i', 'znf26', 'znf510', 'atp8a1', 'ankrd6', 'lrrk2', 'c5orf47', 'lrp1', 'ccdc179', 'hoxa5', 'ctsf', 'fam234b', 'krtap9-6', 'tmem87b', 'sh3yl1', 'ccl27', 'atp5po', 'vgll1', 'serpine1', 'aktip', 'dph5', 'slc25a32', 'znf587', 'bbs9', 'c10orf120', 'ush1g', 'tbrg4', 'b3gat3', 'klk11', 'akap12', 'atp5mc2', 'lamp3', 'tktl2', 'catsperb', 'znf620', 'hand2', 'znf432', 'agfg2', 'pycr3', 'lce1b', 'mmadhc', 'reps1', 'zfand2b', 'bloc1s6', 'b3galt1', 'c22orf15', 'mfsd14b', 'flrt3', 'gab2', 'gimap2', 'sirpa', 'fmr1', 'il1b', 'mcidas', 'barhl2', 'map3k15', 'thap11', 'ankrd13c', 'bex3', 'hoxb5', 'ifi35', 'dleu7', 'pvrig', 'tmem89', 'b4galt7', 'eri2', 'ifi44', 'pgap2', 'sypl2', 'hmgxb3', 'mtf1', 'c7orf61', 'mks1', 'pcdha10', 'elfn1', 'prpf3', 'ddx58', 'nup188', 'chrm1', 'pfkfb2', 'pramef19', 'sstr4', 'iffo2', 'urb2', 'emd', 'nol12', 'zwilch', 'rnf135', 'c1orf74', 'ccdc71', 'cops6', 'nudt8', 'adam7', 'slc22a15', 'ddx3y', 'neu2', 'pin1', 'upk1a', 'defb124', 'gcfc2', 'cpox', 'cryga', 'ttyh1', 'ephb2', 'mb21d2', 'slc4a8', 'zranb1', 'or2b11', 'sh3bp1', 'nif3l1', 'zdbf2', 'gfap', 'mob1a', 'lama3', 'tent5a', 'mpp6', 'trip12', 'eif2s1', 'mdfic2', 'ralgps1', 'apoc3', 'ankrd22', 'c11orf94', 'iah1', 'pgr', 'fyb1', 'edc4', 'morf4l2', 'mtmr11', 'tango2', 'tex11', 'dusp9', 'bcl2l13', 'znf408', 'znf517', 'defb126', 'cyfip2', 'lgals12', 'znf530', 'znf678', 'or12d3', 'clul1', 'ceacam6', 'ghitm', 'sox7', 'cdr1', 'fitm1', 'tmem249', 'mcm4', 'tcfl5', 'me1', 'nxpe2', 'prss8', 'or5an1', 'zbtb44', 'plgrkt', 'prame', 'mmp10', 'dnph1', 'eea1', 'aplnr', 'lst1', 'elovl4', 'calm3', 'ct83', 'scamp3', 'gns', 'pkhd1', 'psors1c2', 'znf684', 'rrm2b', 'brpf1', 'cd46', 'fam110c', 'c12orf75', 'fam171a1', 'hbb', 'ms4a6e', 'slc25a27', 'fam50b', 'tceal2', 'tsbp1', 'lrrc36', 'cct2', 'fads2', 'rasd2', 'slc35g3', 'spesp1', 'nkx1-1', 'kcnmb4', 'spint3', 'tmem200c', 'gpatch11', 'stmnd1', 'atp5pd', 'ints6', 'nox3', 'isca1', 'slc47a2', 'plekha1', 'mitd1', 'tekt2', 'inhbe', 'cstl1', 'tk1', 's100a14', 'fign', 'c17orf64', 'ap3m1', 'pdss2', 'tiprl', 'c5orf58', 'psg5', 'or5ak2', 'cd80', 'bckdk', 'rev1', 'spsb1', 'wdr36', 'or4d5', 'or6k6', 'plpp7', 'tshz2', 'prmt7', 'pcdhga9', 'bloc1s4', 'smim23', 'slc39a1', 'tifa', 'gng7', 'fam83b', 'tmx4', 'dsn1', 'nhlrc3', 'gfra3', 'c1orf232', 'c1orf52', 'csnk1d', 'pcdhga7', 'ventx', 'zbtb11', 'kifc2', 'rmdn3', 'tbc1d22b', 'fgf17', 'lifr', 'arl5a', 'ptch1', 'ankrd7', 'slc25a19', 'taf11l13', 'rgs12', 'mob3c', 'smlr1', 'prokr1', 'foxc2', 'arl8b', 'hibch', 'gtf3c6', 'hhatl', 'cfl1', 'cldn16', 'fam181a', 'dlec1', 'il6', 'tinagl1', 'tmem266', 'cpe', 'tbc1d24', 'clmp', 'cnot9', 'gas2l3', 'maged1', 'ndufb6', 'cops9', 'epb41l5', 'nfat5', 'sun1', 'ap1b1', 'pros1', 'dsp', 'myoc', 'dap', 'zbtb34', 'b3gnt7', 'adarb1', 'tsnare1', 'defb121', 'dqx1', 'rabac1', 'krt222', 'mid1ip1', 'ndufaf8', 'vamp1', 'or52n5', 'skil', 'slc10a3', 'zkscan1', 'chmp6', 'myoz3', 'tpgs1', 'heg1', 'fam120b', 'frmd4b', 'nbpf20', 'hltf', 'dhodh', 'cct3', 'ccr9', 'kyat1', 'chek2', 'cenpq', 'bcl7c', 'zdhhc24', 'slc25a12', 'pcdh11x', 'katnal2', 'noc2l', 'c6orf118', 'dlgap3', 'zc4h2', 'hsp90ab1', 'nlrc4', 'ctnnbip1', 'ctcfl', 'ftcdnl1', 'gtf3c5', 'plxna1', 'comp', 'wfikkn2', 'flot1', 'chrng', 'acan', 'tipin', 'dach1', 'stat4', 'znf836', 'fam155a', 'ints8', 'tnfsf8', 'rogdi', 'zc3hav1', 'syk', 'zbed4', 'folh1', 'mbd5', 'galnt6', 'ctps2', 'hnrnpul2', 'acss2', 'rcc2', 'eif2ak2', 'csn1s1', 'rnf115', 'pcid2', 'c6orf163', 'gdf9', 'chchd1', 'kcnma1', 'or52l1', 'sat1', 'dspp', 'znf776', 'epha4', 'tex51', 'vps13b', 'cnst', 'nmral1', 'otx1', 'msi1', 'prxl2b', 'slc4a10', 'snrpg', 'rnf7', 'gon7', 'hsd17b4', 'tmem63b', 'pcdhgc3', 'ctnna1', 'rom1', 'fmr1nb', 'col13a1', 'c7orf26', 'vcpkmt', 'begain', 'c19orf67', 'dapk2', 'mboat1', 'antxrl', 'znf397', 'zscan16', 'arhgap11b', 'abcd3', 'ppt1', 'invs', 'prr23c', 'or2d3', 'lactbl1', 'opalin', 'znf514', 'pnma1', 'ncapd3', 'wdr97', 'cpd', 'plcb1', 'or6c68', 'tnks1bp1', 'gpatch1', 'c2orf74', 'iars2', 'kdf1', 'man2a2', 'phax', 'utp15', 'mafk', 'mcur1', 'zscan5c', 'ago1', 'macc1', 'ccr5', 'rab3il1', 'thbd', 'selenot', 'cct6b', 'otud6a', 'eva1a', 'krtap5-9', 'cep44', 'rgs8', 'uxs1', 'c1orf35', 'c9', 'cers5', 'ensa', 'itgb3', 'ltb4r2', 'acsm4', 'hmmr', 'rnf144a', 'prss57', 'sp1', 'pth', 'hvcn1', 'spen', 'snai2', 'wdr62', 'asz1', 'slc6a16', 'or2t4', 'irx6', 'tsen2', 'pla2g2f', 'cplx4', 'myo1c', 'dtnb', 'ell2', 'cytl1', 'krtap4-11', 'aasdhppt', 'rhbg', 'sipa1l3', 'zc2hc1c', 'gabrr1', 'gon4l', 'spdye1', 'rsbn1', 'herc3', 'pcgf6', 'ntrk3', 'myo1f', 'ppp2r3a', 'mlana', 'arf3', 'eef2k', 'tax1bp1', 'slc7a10', 'apobec1', 'ttll10', 'tspan32', 'npy', 'c7orf25', 'tm6sf2', 'hibadh', 'trim39', 'tube1', 'wdr44', 'tdrd9', 'tceal3', 'zscan31', 'nipsnap3b', 'or5k4', 'ppdpf', 'robo2', 'tprkb', 'ifna21', 'bhmt', 'clk2', 'pik3r1', 'rdh5', 'kiaa0825', 'hsd3b2', 'rfx8', 'psmf1', 'pus7l', 'ccdc61', 'ica1', 'aloxe3', 'nek8', 'irx4', 'ankrd31', 'pomt1', 'alkbh4', 'irf2bpl', 'rcn3', 'sypl1', 'ctdspl', 'nbpf3', 'rnf168', 'baz1a', 'gjd3', 'trim36', 'rgs9bp', 'acbd6', 'ptpn3', 'slc22a31', 'ugt3a2', 'sprr3', 'cxcl9', 'dcaf13', 'mindy1', 'eif2b3', 'rnf224', 'mdn1', 'rtn2', 'slc26a8', 'actr8', 'slc7a14', 'grk5', 'or2c3', 'itih3', 'ormdl2', 'kmt5a', 'apool', 'calu', 'msln', 'pstpip1', 'mab21l2', 'ralb', 'abhd17c', 'akap4', 'pou5f1b', 'tubb6', 'usp6nl', 'ctnnd2', 'anxa4', 'endog', 'tpk1', 'mrgprd', 'myl6', 'fshb', 'snap47', 'mrm2', 'map1lc3c', 'prkar1b', 'otud5', 'smtn', 'tpst2', 'dctn6', 'slc6a6', 'mtnr1a', 'lrrc4c', 'ccdc9', 'sppl3', 'capn13', 'tmem92', 'knop1', 'hoxc12', 'plxna2', 'prkca', 'cemip2', 'tmem59', 'ugt1a9', 'cd3d', 'crx', 'prdm6', 'znf622', 'cd200r1', 'nxpe1', 'ubp1', 'gsta3', 'ssx7', 'tbc1d25', 'atp6ap2', 'c11orf45', 'map3k5', 'clec4g', 'smim3', 'krtap4-4', 'fermt1', 'selenon', 'krtap10-5', 'mycbpap', 'brsk2', 'tmem248', 'dck', 'nobox', 'echdc2', 'or13a1', 'aga', 'plaat3', 'tex261', 'abca10', 'znf614', 'immp1l', 'spata32', 'mtpap', 'gdpd2', 'celsr2', 'mageb6', 'gprin2', 'lztr1', 'tigd2', 'c3orf20', 'pan3', 'c11orf97', 'cd164l2', 'cplx2', 'ywhaz', 'nsun5', 'myh11', 'gimap4', 'klk9', 'prob1', 'limd1', 'sh3bp4', 'cdr2', 'adgrf3', 'cldn19', 'esx1', 'sema7a', 'siah1', 'osmr', 'trmt6', 'abcg1', 'cfap221', 'flg2', 'coq4', 'mff', 'tmem132e', 'znf710', 'padi6', 'ttll6', 'mmp12', 'c1qbp', 'psph', 'jmjd4', 'krtap3-3', 'armc7', 'ahcyl1', 'lin54', 'sim2', 'or51b5', 'trabd', 'spink6', 'or52b2', 'cap1', 'znf414', 'nop16', 'cyb5r3', 'zfp36', 'c1ql2', 'dmxl1', 'plekhd1', 'fam13b', 'b3gat1', 'rnf183', 'gjb3', 'pcdha7', 'tle5', 'tnxb', 'xcl1', 'siglec9', 'actrt3', 'fndc8', 'lair2', 'agmo', 'klrd1', 'gsta2', 'igf1', 'echs1', 'gtse1', 'prdx1', 'sfrp5', 'cox10', 'nol4l', 'impdh2', 'slc35a3', 'rarres1', 'psma5', 'dbx2', 'chtop', 'cd1d', 'cbln2', 'lins1', 'znf75a', 'usp7', 'trib1', 'mras', 'znrf3', 'otulin', 'cyp26c1', 'fgf2', 'tmem159', 'kcna1', 'sipa1', 'srp9', 'aurkb', 'akt2', 'gli4', 'lkaaear1', 'depdc5', 'col10a1', 'efnb2', 'fam162b', 'alpk1', 'cdkl3', 'c6orf136', 'triobp', 'tmem260', 'dhx38', 'fcer1a', 'mfn1', 'ankrd40', 'cit', 'btn2a2', 'fgf20', 'dtx3l', 'rhod', 'tspan1', 'krt6b', 'bloc1s3', 'riox2', 'znf436', 'nmb', 'stard5', 'saxo1', 'sgk2', 'elmod1', 'slc29a1', 'acox3', 'lin28b', 'cep70', 'fer1l6', 'bckdhb', 'akr1b10', 'mctp1', 'cav1', 'neurl1b', 'clip1', 'lnx2', 'capza1', 'heca', 'alas2', 'sycp1', 'ankrd16', 'dennd11', 'klf11', 'nlrp6', 'phactr4', 'prr20g', 'sult4a1', 'podxl', 'txnl4b', 'dnal1', 'lpcat1', 'far1', 'krtap19-3', 'hagh', 'aldh3b1', 'per1', 'agxt', 'akap8', 'yipf3', 'parp3', 'plekha3', 'tpte2', 'crisp1', 'arfrp1', 'marveld3', 'tmem150b', 'wdr89', 'ebag9', 'mt1b', 'alx1', 's100pbp', 'lage3', 'akna', 'brcc3', 'fam78a', 'znf696', 'nifk', 'rbm10', 'csnk1g2', 'cfd', 'ccdc195', 'man1a2', 'pah', 'mymk', 'cldn12', 'lrrc28', 'm6pr', 'camk2b', 'c2orf92', 'slc7a5', 'chrne', 'tox2', 'wipf2', 'dsc3', 'prlh', 'cdc14b', 'sptssb', 'ugcg', 'myc', 'krt27', 'dennd4a', 'hecw2', 'snapc2', 'znf786', 'cables2', 'c20orf27', 'znf844', 'slc52a3', 'acsm6', 'lce2b', 'zeb2', 'smndc1', 'fhdc1', 'nkpd1', 'apobec2', 'ift22', 'entpd7', 'nagk', 'prlhr', 'tfpt', 'ddx25', 'tyrp1', 'samd14', 'chrnb2', 'st8sia5', 'zbtb43', 'lrr1', 'hpn', 'dock8', 'dnaaf2', 'ndufv3', 'ackr2', 'cited4', 'kcnb2', 'mesp1', 'nlgn4y', 'armc12', 'id4', 'sox15', 'vsig2', 'chrm2', 'fam118b', 'abi1', 'lancl3', 'col6a2', 'fnbp1l', 'hao2', 'fgf22', 'bms1', 'spata21', 'fignl1', 'lrp10', 'reln', 'scara5', 'lrmda', 'b4galnt1', 'or6k2', 'rpusd1', 'znf225', 'sertad4', 'kcnj9', 'pgls', 'myo19', 'itga5', 'atp11c', 'dmkn', 'cblc', 'foxc1', 'ly9', 'thbs3', 'zbtb10', 'znf609', 'tnfrsf18', 'cdc25c', 'gbp3', 'ube2k', 'znf578', 'fam151b', 'krtap1-5', 'smyd1', 'tmem51', 'hsd17b10', 'slc22a23', 'tesc', 'prpf40b', 'snn', 'jrkl', 'pclaf', 'upk3b', 'ddx1', 'poc1a', 'prkag3', 'hsp90b1', 'tgfbr3', 'znf547', 'c10orf71', 'otud4', 'edrf1', 'pou3f3', 'cdc123', 'rgs10', 'trappc4', 'gpkow', 'tcf24', 'nlrp12', 'ccdc89', 'wnt3a', 'defb116', 'ddx55', 'shisa9', 'gulp1', 'dhx29', 'ninl', 'kcnd1', 'atcay', 'krtap5-7', 'yju2', 'lamb4', 'or2m3', 'mageb1', 'bpifa2', 'atf7ip', 'znf155', 'prkd2', 'zkscan8', 'smg5', 'gp1bb', 'rhoq', 'rnase2', 'tgm5', 'rab27a', 'lgals2', 'clec2a', 'nynrin', 'smu1', 'oscp1', 'srpk2', 'c11orf24', 'calr', 'ubxn6', 'sergef', 'znf543', 'ccdc96', 'etv1', 'stmn3', 'itgax', 'ccdc157', 'cxxc5', 'epn2', 'mtif2', 'cdkn2c', 'rgs22', 'tbc1d20', 'niban1', 'ciao1', 'ldlrad1', 'ccdc102b', 'prxl2c', 'ggt1', 'bok', 'psmc4', 'matn1', 'tmem167a', 'ddx51', 'stoml1', 'slc16a4', 'trim49b', 'zfp37', 'josd1', 'or6b3', 'cacfd1', 'ptprf', 'otx2', 'fnta', 'maf', 'pramef13', 'hexim2', 'cyyr1', 'emsy', 'lrrtm4', 'zic5', 'enkd1', 'alg1', 'lhb', 'psmb5', 'cdk5rap3', 'iqca1l', 'znf500', 'arl15', 'ddr2', 'elac1', 'isg15', 'ftl', 'slc37a4', 'gosr1', 'eif2ak4', 'mark3', 'c16orf78', 'dedd', 'htra3', 'parva', 'usf2', 'itgb1', 'asb2', 'pltp', 'cela1', 'xirp1', 'sec16a', 'aif1', 'mageb10', 'slc2a2', 'qrich1', 'znf217', 'jag1', 'c5ar2', 'ca8', 'znf80', 'dennd2a', 'angptl6', 'rasgrf2', 'pomgnt1', 'med29', 'sntg2', 'mblac2', 'tcl1a', 'abhd14b', 'cass4', 'nkx2-4', 'itga11', 'hoxa4', 'lin28a', 'mthfd1', 'serpinc1', 'xrn1', 'krtap25-1', 'rnf212', 'tnfrsf10c', 'arhgap28', 'or2l3', 'rnasek', 'fh', 'flg', 'ifna6', 'kifap3', 'mitf', 'casp7', 'or9a4', 'pate1', 'col4a5', 'rd3', 'irak1', 'anhx', 'plk3', 'mapkapk2', 'angptl4', 'septin11', 'dynlt1', 'trappc5', 'lrrc39', 'tnrc6a', 'hmhb1', 'gatc', 'hyi', 'eif1ay', 'cdc42ep1', 'rftn1', 'dnajc7', 'slc9a3r2', 'cryab', 'vill', 'fam160b1', 'prss23', 'liph', 'kcnd3', 'tmem143', 'plod2', 'arl9', 'cst8', 'col4a6', 'fastkd3', 'galnt15', 'pold1', 'siah3', 'bag4', 'notch1', 'slc6a20', 'atg9b', 'rnf166', 'mt-nd2', 'sfmbt2', 'kiaa1549l', 'alkbh1', 'rasl11a', 'tbc1d2', 'lmnb1', 'gask1b', 'srcap', 'rbm17', 'kbtbd13', 'ccn5', 'oca2', 'kcnab3', 'grtp1', 'pdcd1', 'sf3b3', 'vps4a', 'stub1', 'slc2a11', 'dlgap4', 'pcnx2', 'anln', 'ddx39a', 'card10', 'or4b1', 'psd3', 'thbs2', 'tsfm', 'btg3', 'klf4', 'etnppl', 'cul3', 'prim2', 'sema4a', 'lrig2', 'cfhr5', 'oasl', 'piwil4', 'spg7', 'tlr10', 'edar', 'pnma6e', 'znf318', 'smad6', 'pimreg', 'nol3', 'cntln', 'osbpl6', 'ablim1', 'asgr2', 'ggact', 'lcmt1', 'mad2l2', 'snapc4', 'ptprs', 'fut7', 'rasef', 'crem', 'tet2', 'tpcn2', 'ahctf1', 'hsf1', 'dennd1a', 'nsd3', 'actrt2', 'ephb3', 'hapln3', 'dnaja4', 'tra2b', 'zc3h3', 'psapl1', 'abtb1', 'spink13', 'mdk', 'znf670', 'znf878', 'c5ar1', 'ift46', 'klk3', 'mid1', 'cnnm2', 'znf366', 'crygb', 'dynlrb1', 'ppp1r9a', 'tafa5', 'znf385c', 'taar5', 'timp1', 'zp3', 'mvb12b', 'or2m2', 'cnot6l', 'mapk10', 'sgce', 'arg2', 'p2ry2', 'tyw5', 'trmo', 'unc5cl', 'muc13', 'jph3', 'polr3f', 'inka1', 'fam98b', 'ntm', 'ubqln2', 'btc', 'ccnb1', 'gmeb2', 'dennd10', 'nabp2', 'ndufa6', 'mybpc1', 'pou6f2', 'kank3', 'fam111b', 'cmtm1', 'hhipl2', 'znf45', 'hbm', 'agbl5', 'ttc39b', 'c18orf32', 'c17orf113', 'lcn6', 'st8sia3', 'creb3l3', 'ier5', 'wnk4', 'abcg2', 'fam8a1', 'pgk2', 'gpnmb', 'retreg1', 'tyw3', 'uba5', 'ulbp3', 'spam1', 'usp10', 'zglp1', 'twf1', 'ca9', 'cldn2', 'rnf43', 'asf1b', 'tp63', 'znf324b', 'spink4', 'ccdc66', 'abcc8', 'pou3f2', 'dok7', 'nrtn', 'clcnka', 'actl9', 'endou', 'col6a5', 'abcb6', 'guca1b', 'azi2', 'kat6a', 'smim4', 'znf286a', 'slc7a2', 'sptbn2', 'usp41', 'trim51', 'rbmx', 'slu7', 'spns1', 'usp15', 'klhl25', 'ciz1', 'stpg1', 'kif5a', 'hs2st1', 'vhll', 'efcab1', 'foxj1', 'prkn', 'cst3', 'slc22a24', 'mixl1', 'b9d1', 'fam89a', 'tbcd', 'akap5', 'mmp17', 'spatc1', 'efna2', 'hfe', 'znf226', 'ncbp1', 'tbc1d17', 'ppil4', 'tmem44', 'copb2', 'vnn1', 'slc35f2', 'morc3', 'flad1', 'adgrb1', 'spef1', 'sox14', 'stpg3', 'tmem175', 'mt4', 'gpd1l', 'krtap20-2', 'ttk', 'zdhhc1', 'klhl10', 'kcnk2', 'frat1', 'ing1', 'irf1', 'dusp11', 'rims2', 'scimp', 'senp5', 'slc35g2', 'il17ra', 'ulbp2', 'flot2', 'uvrag', 'zc3h4', 'dhx36', 'slc25a26', 'anp32d', 'arl2bp', 'page3', 'rassf7', 'tbx21', 'defa4', 'kazn', 'dennd4b', 'kntc1', 's100a8', 'zic3', 'lct', 'dbnl', 'rab11fip4', 'zbtb8b', 'slc5a2', 'rasal3', 'kcnrg', 'ppp1r17', 'cox6b2', 'zc3h12a', 'pkp2', 'surf2', 'tm7sf2', 'elavl1', 'polr2d', 'wwox', 'fem1b', 'rin2', 'fgf6', 'ppp1cb', 'pola2', 'psmb7', 'st7l', 'hdgfl3', 'slc22a3', 'zbtb6', 'ddx50', 'ifi27l2', 'lsm14b', 'trmt1l', 'f12', 'lima1', 'ifnar2', 'itga6', 'wnt6', 'fer1l5', 'tnfsf14', 'grip1', 'lbx2', 'trip6', 'castor1', 'znf445', 'mefv', 'pgrmc2', 'kiaa0040', 'sugt1', 'plpbp', 'ano5', 'hdgfl2', 'gstt2b', 'mcph1', 'or8d2', 'rbm48', 'togaram2', 'lgals3', 'kcnq2', 'polr1c', 'tas2r14', 'kcnk1', 'gng12', 'wdr27', 'zbtb41', 'dlk2', 'spock3', 'znf333', 'brinp1', 'tjap1', 'cnga4', 'nek10', 'arcn1', 'cdk9', 'prr23a', 'or1g1', 'nvl', 'slc6a2', 'c1galt1c1', 'tmem125', 'arhgap12', 'pick1', 'lhcgr', 'sardh', 'tmem168', 'nfic', 'imp3', 'alg2', 'or13d1', 'btf3', 'psma2', 'cyp3a5', 'znf384', 'mt-nd3', 'mylk2', 'fbxw8', 'vmo1', 'cacnb3', 'kiaa0930', 'krtap9-8', 'arhgef9', 'tmem270', 'pld4', 'tnfsf15', 'trpm7', 'dtwd2', 'axdnd1', 'tceal4', 'actr3b', 'map3k8', 'ifne', 'lce2c', 'wdr5b', 'epx', 'rnf39', 'slc1a2', 'atp1b4', 'map3k9', 'slc38a8', 'ckmt2', 'spa17', 'znf335', 'or10g2', 'c3orf14', 'cyp4f8', 'slc16a5', 'havcr2', 'ptx4', 'c15orf40', 'c21orf58', 'filip1', 'il17d', 'fgfr1op2', 'slc9a3r1', 'spast', 'tfap2c', 'ushbp1', 'arih1', 'upk2', 'afap1l2', 'ssc4d', 'ambn', 'cnksr1', 'mtss1', 'aspg', 'pet117', 'actr6', 'sycp2l', 'piwil2', 'usp48', 'csf2', 'sycp2', 'hmgcs1', 'gcg', 'agbl3', 'or5h15', 'tada2b', 'znf473', 'tmco1', 'ccdc188', 'grm4', 'slc16a6', 'or2s2', 'c2cd4b', 'ddx60l', 'tmem199', 'zbtb3', 'sorbs1', 'arhgap21', 'tm4sf5', 'tbx18', 'xpnpep2', 'c4orf50', 'trmt44', 'diras2', 'dcstamp', 'znf189', 'ankrd26', 'e2f1', 'fntb', 'ceacam20', 'olig1', 'eri1', 'nme8', 'arhgef25', 'chst6', 'rad50', 'rbm33', 'or1s1', 'trim58', 'eppk1', 'hspb2', 'med30', 'erbb4', 'unc79', 'dnase1', 'gabra3', 'ide', 'cfap299', 'ccdc85a', 'ms4a4a', 'or4a47', 'cenpn', 'mcf2', 'tmem252', 'ulk2', 'glb1l2', 'aldh3b2', 'fzd6', 'stoml3', 'dpp3', 'maoa', 'steap2', 'riok2', 'mme', 'bcdin3d', 'stoml2', 'ttc7b', 'notum', 'glra3', 'or52e5', 'fpr1', 'ccl4l2', 'lrrc37a3', 'wnt10a', 'defb135', 'tmem132a', 'mt1a', 'sec62', 'or51s1', 'tex52', 'wdr83', 'efhc2', 'ifit5', 'c12orf65', 'gphb5', 'mpp4', 'clptm1l', 'krtap12-2', 'grsf1', 'cdh17', 'or2g2', 'paqr3', 'rmdn1', 'rwdd2b', 'abca5', 'apcs', 'il23r', 'pak6', 'phospho2', 'slc8b1', 'tmem174', 'tmem53', 'pyy', 'kir3dl3', 'fadd', 'strada', 'clec2l', 'eif2b5', 'wnt3', 'elk4', 'c16orf72', 'rcor2', 'nr4a1', 'ezh1', 'sh3glb2', 'sumo3', 'fam174a', 'mterf2', 'tchp', 'ugt1a5', 'pcdhb15', 'tmem141', 'pdgfrb', 'ece1', 'abcb11', 'cited2', 'clec4e', 'fzd8', 'or52k2', 'tef', 'vps11', 'cybb', 'prelid2', 'chrna7', 'coa7', 'zkscan4', 'scg3', 'abcd2', 'cog7', 'arc', 'il22ra2', 'rassf9', 'ep400', 'adamts17', 'elf3', 'gkap1', 'pign', 'zscan23', 'znf101', 'ccl4', 'vps52', 'usp9y', 'ndufa7', 'wdr31', 'rtp1', 'fetub', 'dbi', 'abca12', 'trim6', 'mthfd1l', 'cnn2', 'plekhm1', 'c3orf38', 'adcy1', 'serpina9', 'agr2', 'znf580', 'cmtm3', 'ercc3', 'hhla2', 'atp12a', 'bcl11a', 'dnaaf5', 'fam98c', 'meig1', 'slc35b1', 'zfy', 'aldh3a2', 'c2cd2l', 'oxr1', 'reep4', 'ccdc174', 'lif', 'ddx54', 'or51b6', 'rtca', 'syngr2', 'fsip2', 'atg4d', 'rhov', 'slc25a28', 'aspdh', 'krt6c', 'pgpep1l', 'pik3cg', 'plvap', 'tuba4b', 'afm', 'fyn', 'b2m', 'gabrb2', 'podxl2', 'gp5', 'man1a1', 'nubpl', 'prdm5', 'best1', 'defb123', 'gpld1', 'prr14', 'ccdc166', 'dmtn', 'lbr', 'selenoh', 'kcnq1', 'arih2', 'dcn', 'aprt', 'plscr5', 'hapln1', 'tmprss11d', 'sae1', 'ccng2', 'slc46a1', 'syce2', 'mob2', 'gpr89b', 'st6galnac3', 'etaa1', 'amigo2', 'hirip3', 'sbf2', 'skap1', 'tex36', 'cers4', 'mmp9', 'xkr7', 'pkd1', 'exoc7', 'rbp3', 'or56b4', 'fxyd4', 'plekhb2', 'slc8a1', 'bmp2k', 'nps', 'smarcad1', 'tmem238', 'spc24', 'dvl1', 'fam151a', 'tmem40', 'fchsd1', 'itgb1bp2', 'nek1', 'pigv', 'eva1b', 'vangl2', 'mab21l1', 'slc43a3', 'defb136', 'prss27', 'tac3', 'csf3r', 'pdp1', 'rasl10b', 'inhbc', 'ngfr', 'arvcf', 'vav2', 'tp53inp2', 'crygn', 'adprhl1', 'pnpo', 'acvr1b', 'fgf13', 'fam20a', 'septin6', 'clcn7', 'traf3ip3', 'cxxc1', 'mobp', 'slc10a2', 'fgf7', 'pih1d2', 'camk1', 'kctd2', 'slc27a2', 'rcvrn', 'etnk2', 'rp9', 'gjc3', 'phyhip', 'tubd1', 'btn1a1', 'lipf', 'lto1', 'os9', 'ubap2l', 'irf5', 'mov10', 'igdcc4', 'bgn', 'cc2d1b', 'smim18', 'spdya', 'lamtor2', 'lsamp', 'nedd1', 'vti1b', 'lrrc70', 'atg9a', 'siglec15', 'slc5a3', 'sh3bp5l', 'cstb', 'or5w2', 'pcdhb6', 'ccdc167', 'ccdc33', 'map2k5', 'or2b3', 'plxnc1', 'slc23a1', 'cars2', 'acsf2', 'supt6h', 'acaa2', 'steap1b', 'zscan22', 'kcnab2', 'krtap13-2', 'or2l2', 'poln', 'raf1', 'znf572', 'arhgap42', 'suv39h2', 'pomgnt2', 'apold1', 'celf1', 'hoxb8', 'rhebl1', 'prkdc', 'sox10', 'uty', 'atp2a1', 'napepld', 'wfdc8', 'erf', 'rnf217', 'slc44a4', 'cep295', 'dpp9', 'tgm3', 'man2a1', 'tlr7', 'rap2b', 'acrv1', 'maco1', 'ms4a4e', 'trim50', 'ccdc54', 'ctrc', 'ube2r2', 'atp2c2', 'mybbp1a', 'zmym3', 'plppr1', 'scgn', 'tbpl1', 'tacc3', 'trappc11', 'magel2', 'paip2', 'trpc7', 'trpv5', 'enosf1', 'ttc16', 'creb3', 'fcrl4', 'znf646', 'tnfaip8l3', 'ccin', 'tspyl5', 'galnt9', 'vasn', 'zswim2', 'abi2', 'agbl4', 'lyzl1', 'gypc', 'mturn', 'lrcol1', 'dpysl2', 'clvs2', 'ogn', 'tenm2', 'abca4', 'c18orf21', 'znf74', 'cyp2r1', 'xrcc5', 'pelo', 'syt3', 'tnip3', 'mief2', 'casp14', 'golga6l7', 'tmem207', 'pcdhb11', 'vav3', 'or52j3', 'gemin7', 'neu3', 'barhl1', 'rnpc3', 'efhd1', 'bean1', 'hyal1', 'naa20', 'tmem225', 'cbfa2t2', 'tfap4', 'dipk2b', 'mccc2', 'nipal1', 'mylk3', 'pnma6f', 'col1a1', 'pudp', 'rab3c', 'timm8a', 'rcsd1', 'ttc39a', 'acad10', 'sirpd', 'cox7b', 'gtpbp1', 'wbp1l', 'cracr2b', 'daam2', 'creld2', 'znf44', 'bdp1', 'rala', 'slc6a8', 'kif21b', 'atp2a3', 'tmem45a', 'gstz1', 'lilra2', 'ciao3', 'or2t8', 'spdef', 'vwa3b', 'aco1', 'or5h6', 'uxt', 'glipr1l1', 'timd4', 'tnfsf12', 'anxa2r', 'parp9', 'hes4', 'bmp5', 'map1a', 'pofut2', 'usp4', 'cylc2', 'prkd3', 'il17c', 'or8a1', 'slc43a1', 'srfbp1', 'bloc1s5', 'mak', 'ttc17', 'c1ql4', 'btg2', 'dcbld1', 'defb4a', 'plekhf2', 'tlcd4', 'hoxa7', 'lmo7', 'glipr1', 'ms4a5', 'tgfb3', 'denr', 'zfp91', 'rab33a', 'fundc1', 'c1qb', 'mkrn2', 'blid', 'gpr3', 'e2f2', 'eral1', 'insyn2b', 'or51e2', 'numb', 'wnt16', 'c11orf53', 'tent5c', 'znf692', 'ankrd30bl', 'emg1', 'daoa', 'minar2', 'pcdhb2', 'kcnk3', 'rc3h1', 'slc5a9', 'syncrip', 'bpifc', 'rufy1', 'vps13a', 'ect2', 'mc5r', 'or5f1', 'prtn3', 'defb132', 'bop1', 'adamts20', 'slc16a3', 'med4', 'sst', 'tbkbp1', 'amd1', 'rprd1a', 'plpp3', 'snapc5', 'map4', 'rims1', 'slc20a2', 'sqle', 'cd82', 'clpp', 'gemin4', 'mat1a', 'cyp2a7', 'cend1', 'dcaf16', 'nicn1', 'psg2', 'nr2e1', 'proser2', 'pole2', 'ndp', 'pck1', 'ifit1', 'cbx7', 'cenpv', 'acyp2', 'tram1', 'pcdha13', 'shoc2', 'ldoc1', 'tmem39b', 'trim45', 'msh4', 'vwa5b1', 'cyp24a1', 'carhsp1', 'mettl26', 'slc25a2', 'bub1b', 'flt1', 'plekha6', 'hrg', 'znf548', 'inhbb', 'napg', 'nceh1', 'nt5c1b', 'pank4', 'or4k13', 'mib1', 'rbbp8nl', 'kcp', 'slc15a2', 'alox12', 'tarbp2', 'slc25a15', 'yipf4', 'tas2r30', 'fxyd3', 'cpsf2', 'polr1a', 'cdc20', 'oip5', 'eml5', 'taco1', 'cdc73', 'myf6', 'sharpin', 'spag7', 'dxo', 'uchl3', 'spryd7', 'ybx3', 'srr', 'ankk1', 'brip1', 'or8g5', 'cttnbp2nl', 'myh2', 'prkag2', 'sgo2', 'tenm3', 'znf598', 'gldn', 'myo5b', 'lrrc41', 'lrfn3', 'ankrd11', 'nup35', 'or5au1', 'mospd1', 'taf11l14', 'dhx30', 'fastk', 'shq1', 'ina', 'capn2', 'heatr5a', 'slc6a4', 'sh2b2', 'pgs1', 'tspan14', 'mmrn1', 'npat', 'thoc5', 'mical3', 'znf311', 'znf526', 'pagr1', 'glyatl1', 'zswim4', 'arhgdib', 'dzank1', 'olr1', 'shld2', 'zcrb1', 'ceacam4', 'figla', 'cbfa2t3', 'btnl9', 'fam90a1', 'ccdc194', 'clock', 'tmem256', 'ly96', 'lrrc34', 'ldb2', 'nln', 'gmpr', 'banf2', 'ninj2', 'ociad2', 'c22orf42', 'safb', 'syt8', 'oprpn', 'znf480', 'neil1', 'bcl2l2', 'aldob', 'insm1', 'smcp', 'zc3h15', 'supt16h', 'rnf220', 'hsfx4', 'psg9', 'apobec3h', 'dhrs12', 'por', 'gimd1', 'gdi2', 'pcnx3', 'rap1gds1', 'rasal1', 'fam3a', 'ndst2', 'snrnp70', 'noxo1', 'pfkfb3', 'prdm11', 'erich5', 'ccdc152', 'kcnk7', 'supt20h', 'pcdhb12', 'usp24', 'cacna1d', 'tmem121', 'vps37c', 'smim9', 'crhbp', 'agt', 'rrs1', 'sik2', 'nsf', 'slain2', 'plekhb1', 'smim31', 'meltf', 'pax2', 'syap1', 'cyp26a1', 'slc31a2', 'vezt', 'dync1i2', 'dtx2', 'or52k1', 'prpf38b', 'reg1a', 'mxra7', 'pus1', 'tmem47', 'amh', 'actl6a', 'tada2a', 'cnot8', 'pdlim1', 'bsph1', 'ndufb8', 'ripk4', 'atrip', 'gpx5', 'lipg', 'nkapd1', 'ppial4a', 'cfl2', 'ccdc169', 'micu2', 'cacng8', 'nkain2', 'chi3l1', 'tnfsf13', 'manf', 'fasn', 'ccn3', 'zdhhc12', 'cldn4', 'mfge8', 'slc7a1', 'sugp2', 'relch', 'myo1b', 'actbl2', 'anks4b', 'ubtd2', 'dusp13', 'c20orf141', 'wscd1', 'atp4b', 'rasgrp1', 'rheb', 'kiaa0232', 'sebox', 'prr36', 'shfl', 'gad2', 'il1rapl1', 'ogfod3', 'tcn1', 'znf267', 'runx1', 'thumpd1', 'mpped1', 'cwc15', 'il33', 'polr2e', 'zmynd12', 'dock10', 'alg5', 'ccdc163', 'lipc', 'nfia', 'gnpat', 'trpm8', 'emb', 'adgrf1', 'mtmr3', 'plpp1', 'wee1', 'cops7b', 'med6', 'rrp36', 'fscn3', 'smco1', 'chek1', 'dbp', 'entpd8', 'adamdec1', 'tac4', 'dlgap1', 'dis3l2', 'trim4', 'znf34', 'cytip', 'hsf2bp', 'znf90', 'fkbp7', 'qsox1', 'znf462', 'lmbr1l', 'pax4', 'slc35g1', 'znf142', 'gata2', 'slc45a2', 'cdhr5', 'enoph1', 'cisd2', 'isg20l2', 'galnt5', 'rrp9', 'dmrta2', 'or7a5', 'pja1', 'luc7l2', 'atp1a1', 'frs2', 'rsf1', 'ywhah', 'c6orf47', 'snrpa1', 'epb41l1', 'pds5a', 'tarbp1', 'tnp1', 'arhgdia', 'me3', 'nfe2l3', 'fcgr3a', 'dtna', 'lce5a', 'atp6v1b2', 'prr5', 'flacc1', 'pip4p1', 'unc5a', 'tigd3', 'hmg20b', 'manba', 'cenpl', 'klhl18', 'ptpru', 'sh2d1a', 'ccdc42', 'ncapg2', 'dctd', 'rgs18', 'cyb561', 'sos1', 'xpo6', 'kirrel2', 'trpv6', 'fst', 'abcd4', 'mbd3', 'pdyn', 'rad23a', 'nmt2', 'stac2', 'eepd1', 'adgrf5', 'asah1', 'commd7', 'tmem134', 'pdx1', 'c10orf143', 'c14orf93', 'cndp2', 'cnmd', 'b9d2', 'hcn4', 'efhb', 'krtap5-6', 'lrrc19', 'dtx3', 'tubgcp3', 'nmur2', 's100g', 'lmx1b', 'ncl', 'mppe1', 'pabpc3', 'rap1gap', 'sftpd', 'cdc14a', 'znf230', 'znf808', 'axin1', 'c1rl', 'smpd4', 'armc10', 'c2orf50', 'hyal2', 'nrg4', 'mcoln1', 'f8a1', 'serpinh1', 'cyp4z1', 'fam177a1', 'shisa5', 'sdad1', 'icam5', 'gjc1', 'pramef4', 'rpp38', 'znf502', 'mtmr14', 'pex6', 'cabp5', 'fkbp8', 'hsfx3', 'mas1l', 'nt5c1a', 'pla2g5', 'aldh3a1', 'cacng5', 'timeless', 'snap25', 'adig', 'lipt2', 'ap2a1', 'slc22a10', 'fam214a', 'sh3d21', 'spp2', 'cdk20', 'maml3', 'nfatc1', 'gusb', 'scn9a', 'ctdspl2', 'pop4', 'cntnap5', 'foxl2', 'taar2', 'tcp10l', 'cln8', 'col22a1', 'unk', 'or52e8', 'myh1', 'rrm1', 'htr3c', 'ocln', 'sdhaf4', 'cul2', 'mtmr8', 'smim10l2a', 'tcf20', 'pcyox1', 'adpgk', 'shh', 'utp23', 'cxcr2', 'cenpm', 'cyp1b1', 'atp6v0a4', 'arsd', 'rinl', 'arel1', 'tent4b', 'slc9a9', 'tmem131', 'adipoq', 'catspere', 'cpn1', 'pianp', 'rspo1', 'znrf2', 'alpl', 'apbb1', 'immp2l', 'mt-nd5', 'actl10', 'chchd6', 'cltrn', 'gpbar1', 'itpka', 'arhgef26', 'bcl2l11', 'lman2l', 'mmp14', 'hebp2', 'ncs1', 'rapgef4', 'ripor1', 'znf485', 'drd4', 'scn3b', 'ndufa5', 'spo11', 'spi1', 'apoa4', 'ier3ip1', 'fam83g', 'cenpe', 'tmem169', 'tagln2', 'snrpa', 'them5', 'zdhhc19', 'syngr4', 'hnrnpl', 'kbtbd6', 'csta', 'abhd16b', 'apob', 'ctif', 'klf6', 'a2m', 'polr1d', 'spice1', 'ftsj3', 'hs6st3', 'ap4s1', 'fam131b', 'thg1l', 'npipb2', 'htr2b', 'fgg', 'c19orf73', 'ktn1', 'smad3', 'foxb1', 'cldn18', 'errfi1', 'insr', 'pou3f4', 'ptpn13', 'meiob', 'rfc2', 'cebpe', 'smad7', 'vwc2', 'pcdh12', 'wac', 'bex2', 'micu1', 'inafm2', 'ints11', 'parp8', 'ccdc63', 'mybphl', 'dthd1', 'slfn5', 'zwint', 'qrsl1', 'nfe2l2', 'colgalt1', 'mpp2', 'tctn1', 'or4k2', 'or6b2', 'pga5', 'plch1', 'slk', 'hnrnpc', 'znf574', 'spag8', 'hyou1', 'znf492', 'tspy1', 'sdcbp', 'ermn', 'gimap6', 'klhl29', 'mxd4', 'csnk1a1', 'c7orf50', 'thegl', 'tmem161a', 'fancl', 'riok1', 'tfg', 'heatr5b', 'c4orf36', 'entpd6', 'chrnb4', 'lrp3', 'mfsd1', 'ccnk', 'c9orf131', 'or4a16', 'sco2', 'sec11c', 'ccdc138', 'cfhr3', 'cldn20', 'dyrk1a', 'tfr2', 'pramef14', 'zbtb48', 'abcb1', 'hunk', 'b4galnt4', 'klhdc8a', 'lgr6', 'usp27x', 'iba57', 'sfxn4', 'chp2', 'steap3', 'abcc2', 'znf70', 'cinp', 'stk31', 'foxn3', 'plcd3', 'gclm', 'galt', 'foxo3', 'arf4', 'fam120c', 'ripor3', 'secisbp2', 'mdm4', 'lsmem2', 'fam110b', 'nhsl2', 'ccn2', 'mpg', 'evi5', 'rhobtb3', 'fryl', 'cped1', 'slc30a1', 'cox5b', 'krtdap', 'ccdc27', 'znf738', 'znf157', 'nwd1', 'uqcc3', 'nfkbib', 'hoxc5', 'ifitm5', 'usp35', 'slc19a2', 'igsf3', 'cacul1', 'efnb1', 'gnai1', 'tmem69', 'itm2a', 'hpd', 'vopp1', 'r3hcc1', 'astn1', 'srgap1', 'c7orf33', 'cfap46', 'baalc', 'crtc3', 'ints10', 'ldhd', 'lfng', 'plaur', 'rrm2', 'srrm5', 'ccdc47', 'tpbg', 'muc12', 'mast4', 'rab30', 'mlh3', 'or9q2', 'ccsap', 'slf1', 'tmc4', 'ribc1', 'krtcap2', 'ubtd1', 'atp8b1', 'rnf141', 'znf648', 'slamf1', 'ufm1', 'dhtkd1', 'ptprg', 'bap1', 'pla2g15', 'rpn2', 'msx1', 'chpf2', 'cldn23', 'slc9a5', 'sumf1', 'fam174c', 'lmf2', 'ms4a6a', 'zbbx', 'phc2', 'stk17a', 'cox20', 'ampd3', 'camk1d', 'cacna1c', 'nfkb2', 'gpi', 'rtf1', 'atg2a', 'glb1l3', 'ago4', 'ankar', 'nkiras2', 'naxd', 'rin3', 'cox19', 'tmem64', 'med25', 'pdpk1', 'fgf18', 'bnc1', 'cyhr1', 'ska3', 'trit1', 'znf639', 'znf239', 'meis1', 'atxn2l', 'prpsap2', 'znf25', 'armc3', 'vps33b', 'ddx17', 'or5p2', 'ell', 'or9g4', 'fbxo17', 'snai1', 'gypa', 'slc25a48', 'tcof1', 'ube2v2', 'cwc25', 'c2cd4d', 'trim64b', 'dlc1', 'gsta5', 'nf2', 'rnf41', 'tmed1', 'gorasp2', 'naalad2', 'epsti1', 'gtf2a2', 'c6orf141', 'ccnt2', 'eif3e', 'bst2', 'opn4', 'luc7l', 'nrg2', 'nkx2-6', 'ptch2', 'znf326', 'smarcc1', 'tiam1', 'dync2li1', 'mcam', 'gab4', 'nrxn3', 'smap1', 'or8b8', 'strip2', 'ddb1', 'ankfy1', 'bptf', 'kiaa0319l', 'bzw1', 'pes1', 'ccdc24', 'ptpn7', 'hdx', 'ndufb3', 'fam160a1', 'zcchc7', 'chd7', 'cul1', 'eqtn', 'rcn1', 'tma7', 'fam9a', 'rtl8c', 'c6', 'nckipsd', 'krt83', 'fut3', 'pomt2', 'bmp8a', 'dcaf11', 'galnt10', 'mapk11', 'plcl2', 'rbm39', 'shb', 'uck2', 'sstr3', 'plaat2', 'or7g1', 'rab11fip3', 'ccl26', 'dok4', 'or6s1', 'tbc1d16', 'tbl1xr1', 'vgll4', 'usp20', 'atxn7', 'dnmt3b', 'sohlh2', 'cpt1a', 'gnb4', 'a3galt2', 'slc27a3', 'vrk3', 'cited1', 'kremen2', 'gls', 'pdcd7', 'slc4a5', 'dcx', 'yae1', 'arhgef15', 'chadl', 'znf595', 'itpripl1', 'meioc', 'prss37', 'spag5', 'nol7', 'znf791', 'page4', 'irf9', 'fam104b', 'hikeshi', 'pdia2', 'tbr1', 'pirt', 'etv3', 'eif1ax', 'trmt2b', 'klhl30', 'mta1', 'nufip1', 'cyp4f12', 'lvrn', 'cd300ld', 'wrap73', 'ush2a', 'apol6', 'rbl1', 'stard10', 'swt1', 'gnl2', 'sox30', 'tspan8', 'urad', 'cept1', 'mecr', 'plcb4', 'map3k1', 'c1qtnf12', 'pde12', 'vps39', 'znf697', 'phf6', 'ptpn9', 'cep170', 'odf2l', 'polr2b', 'il1a', 'lrrc42', 'pcgf1', 'crnkl1', 'depdc4', 'timm8b', 'caskin2', 'setd9', 'ism2', 'armt1', 'c14orf39', 'atp6v0b', 'srbd1', 'znf524', 'pcdha11', 'gpr137', 'kcnn3', 'or1k1', 'syt12', 'tcn2', 'g6pd', 'mcm8', 'bsg', 'atp5if1', 'tnr', 'gfer', 'lrit1', 'ndufaf6', 'pop5', 'jakmip3', 'sbf1', 'snx18', 'zfhx4', 'lhfpl2', 'arhgap26', 'itpripl2', 'prr15', 'mcoln2', 'or6q1', 'sec22c', 'pura', 'rnf6', 'stox1', 'usb1', 'hddc3', 'prkci', 'ptpn23', 'znf484', 'agr3', 'rtn4rl2', 'slc6a18', 'ptchd1', 'asphd1', 'dpp7', 'gmnn', 'or52h1', 'or5l1', 'ivl', 'sfta2', 'stam2', 'samm50', 'cttnbp2', 'scmh1', 'plekhh2', 'srf', 'paxx', 'alkbh7', 'abhd1', 'thada', 'hbd', 'pum3', 'cstf3', 'gdap1', 'arl13b', 'serp2', 'musk', 'cecr2', 'eddm13', 'lyrm2', 'ms4a18', 'exosc8', 'sla2', 'cdhr3', 'rfng', 'arrb2', 'cpo', 'gpr20', 'wdr87', 'cpeb4', 'col9a2', 'depdc1', 'mdfic', 'slc38a1', 'suv39h1', 'nrcam', 'anks1a', 'pole3', 'fate1', 'glo1', 'aqp10', 'scgb2a2', 'slc47a1', 'slc52a2', 'spag9', 'c3', 'cers2', 'klf10', 'b3galt2', 'ca4', 'ddx18', 'hgh1', 's100a16', 'foxp2', 'gpaa1', 'tmprss12', 'nkx2-2', 'cdc7', 'ccn4', 'rrnad1', 'or4f21', 'togaram1', 'znf653', 'tymp', 'stard6', 'usp17l7', 'aqp11', 'dnaja2', 'rtp3', 'cd5l', 'ap3b2', 'bpifb4', 'arhgap32', 'pon2', 'c9orf72', 'stambp', 'thrap3', 'pgam1', 'cenpk', 'farp2', 'slamf8', 'ggcx', 'selenok', 'ubox5', 'klhl3', 'nbea', 'rgs7bp', 'b3galt5', 'sec14l2', 'arl5c', 'chchd4', 'foxr1', 'pdpr', 'zfp82', 'ngf', 'mapk12', 'nudt15', 'eci1', 'anxa3', 'ergic2', 'dscc1', 'hoxb6', 'cenpw', 'rab8a', 'sgms1', 'kif9', 'nrep', 'kl', 'ube2d4', 'aldh6a1', 'fam71a', 'orm2', 'zan', 'krtap19-8', 'hba2', 'cox16', 'lce2d', 'fads6', 'gfral', 'tspan12', 'tmeff1', 'crb2', 'sohlh1', 'rgr', 'kif5b', 'sptb', 'cdkn2d', 'trim15', 'znf723', 'angel1', 'laptm4a', 'kif23', 'myo15b', 'sdc2', 'oxld1', 'lsm11', 'gpr161', 'cdkn2aipnl', 'tsc22d1', 'atad5', 'snx15', 'nek2', 'ervv-2', 'ptprq', 'sipa1l1', 'dio2', 'yaf2', 'enox1', 'arhgap30', 'fgf21', 'ift81', 'myo3b', 'smim41', 'cldn5', 'epn3', 'or52i2', 'nudt14', 'lrrc75b', 'insl6', 'mettl22', 'erbb3', 'pla2g12a', 'akr1c4', 'dynlt3', 'mpeg1', 'znf554', 'kiaa1958', 'c2orf15', 'nudt2', 'syndig1', 'col7a1', 'magec2', 'mbnl3', 'retreg3', 'tas2r42', 'rasd1', 'ifnlr1', 'uspl1', 'tmem144', 'akr1c8p', 'or51d1', 'klhdc9', 'pyroxd1', 'arg1', 'soga1', 'rad9b', 'srcin1', 'osr2', 'actg1', 'tubb', 'mdh2', 'grhl3', 'malrd1', 'slc22a25', 'abi3', 'caln1', 'ugt2b17', 'znf493', 'ttyh3', 'ppfibp2', 'tep1', 'tmod4', 'fam187b', 'garnl3', 'gbx1', 'ythdc1', 'lcorl', 'cds2', 'bpifb1', 'tas1r2', 'pemt', 'tigd5', 'znf771', 'b4gat1', 'ptpn2', 'rprd1b', 'p2ry13', 'krba2', 'brca1', 'ptprh', 'mnat1', 'prrc1', 'nfx1', 'slc2a14', 'arhgap9', 'gabpa', 'grb14', 'mogat3', 'or10r2', 'gast', 'trim43', 'klrb1', 'lrrc55', 'usp1', 'ppp2cb', 'stxbp6', 'btrc', 'cpsf7', 'gria4', 'lrrk1', 'slc2a6', 'ndufs1', 'ehd4', 'pole', 'tatdn3', 'morn5', 'cpne6', 'tmem222', 'tnf', 'spcs3', 'srm', 'zbtb25', 'gucy1a2', 'ak7', 'tssk4', 'ttc6', 'ern1', 'grk2', 'csf2ra', 'ptpn22', 'ctso', 'defb115', 'il17rel', 'map4k5', 'rapgef6', 'znf727', 'cpb2', 'nosip', 'kif22', 'clec18c', 'lsm5', 'ttc8', 'cab39l', 'b4galnt2', 'kiaa0513', 'tpsab1', 'gjb1', 'tmem151b', 'zfp36l2', 'zmat3', 'fam200b', 'hus1b', 'dkk2', 'cyp27c1', 'sh2d4b', 'znf711', 'cdc34', 'ppat', 'plin2', 'twf2', 'clps', 'bhlhe40', 'nepro', 'selenoi', 'tmem176a', 'tmem86b', 'bcas3', 'clip4', 'foxe1', 'osr1', 'il12b', 'scarb2', 'aldh5a1', 'cd53', 'cdk14', 'fbxo8', 'or5c1', 'osbp2', 'ptov1', 'ifnar1', 'arhgap24', 'or13c5', 'nelfa', 'adnp2', 'ube2j2', 'ube2ql1', 'il17a', 'klhl11', 'egr4', 'nrsn1', 'kcnh3', 'usp32', 'wdsub1', 'znf184', 'c1orf174', 'pou2f1', 'paaf1', 'u2af1l4', 'armcx4', 'ccdc28a', 'hipk1', 'tsr1', 'armcx1', 'calcb', 'bmp10', 'borcs8', 'rbfox2', 'odr4', 'ubald1', 'il1rl1', 'abcb4', 'znf720', 'adad1', 'dhx9', 'akap6', 'acsm5', 'atp1b1', 'higd1a', 'kctd4', 'lgals9', 'tial1', 'wipi2', 'il13ra1', 'mis12', 'srsf10', 'or4s1', 'slc26a2', 'frg2', 'slc35e4', 'ttc12', 'ccni', 'vipr1', 'grk3', 'plin3', 'nudt10', 'snx3', 'tspan18', 'cpeb3', 'gpd1', 'has1', 'mettl16', 'chrna2', 'il4', 'rab29', 'vsx2', 'vps36', 'bscl2', 'prnp', 'eapp', 'ltbp4', 'awat2', 'cep85l', 'exoc4', 'serpini1', 'pde9a', 'tada3', 'odaph', 'nutm2a', 'clec12b', 'dhh', 'cldn17', 'kcng1', 'mtrf1', 'bcl9l', 'or2l13', 'znf8', 'mchr1', 'il15', 'pfn3', 'prrg4', 'urod', 'cuedc1', 'pmfbp1', 'lcmt2', 'bcl2l10', 'chsy3', 'muc1', 'eef1akmt1', 'slc17a8', 'ubap2', 'ostf1', 'hmgcr', 'kdm4f', 'rtel1', 'slc15a3', 'tmem19', 'adcyap1r1', 'brdt', 'thrsp', 'trpm4', 'ska2', 'hip1r', 'slc37a2', 'pqbp1', 'klhl9', 'scgb1d2', 'cdk17', 'pcdhgb2', 'slco1c1', 'cers3', 'arhgap45', 'dcaf8l1', 'chrm3', 'eogt', 'pkd2l2', 'cog3', 'ntf3', 'pum2', 'erap1', 'phlpp2', 'csrnp2', 'zcwpw1', 'trim34', 'stk16', 'or5b12', 'rhno1', 'klk8', 'tigd4', 'mthfs', 'klf18', 'oser1', 'copz1', 'kcng3', 'mypop', 'rhce', 'arfgef1', 'ddx46', 'serpinb3', 'slc25a20', 'slc5a7', 'cshl1', 'slc5a12', 'grid2', 'dennd1b', 'ankrd13a', 'rgn', 'znf154', 'klk6', 'shisal2a', 'mpnd', 'higd1b', 'nkrf', 'romo1', 'lefty2', 'ddhd2', 'acot7', 'npw', 'rnf186', 'sars2', 'cd14', 'c14orf28', 'mov10l1', 'adamts12', 'tnik', 'acadm', 'phkg2', 'dele1', 'fus', 'top2b', 'wdr11', 'arhgap6', 'nop58', 'pde6a', 'prnd', 'col6a1', 'pcdh18', 'siglecl1', 'bicral', 'pa2g4', 'tprn', 'zscan12', 'efcab6', 'npbwr2', 'prrg2', 'galnt17', 'ppp1cc', 'ptger4', 'gpn2', 'wwp2', 'smchd1', 'myh10', 'ly75', 'pold4', 'tmod1', 'rif1', 'sox4', 'seh1l', 'antxr2', 'fam81b', 'maob', 'plxnb2', 'bora', 'pnpla3', 'ppfia2', 'fbxo45', 'rbm15', 'crim1', 'cgas', 'cwh43', 'tln2', 'krtap1-4', 'ankdd1b', 'krt17', 'tmem200b', 'extl2', 'etv3l', 'ebna1bp2', 'znf121', 'ganab', 'ift57', 'ptk7', 'znf365', 'cluh', 'sytl3', 'dydc1', 'cadps2', 'rad51c', 'dmd', 'znf518b', 'krtap9-9', 'adgra1', 'inppl1', 'pom121', 'cd300lf', 'cyp2e1', 'gatd1', 'myom1', 'ppp1r3c', 'thbs4', 'agfg1', 'ddx10', 'wasf3', 'gpr174', 'ca10', 'prrc2a', 'rnpep', 'ranbp17', 'fbxl22', 'krt25', 'abi3bp', 'atf3', 'tcf21', 'slc5a8', 'znf671', 'slc12a6', 'defb108b', 'slc2a9', 'ncln', 'miip', 'prg2', 'oxgr1', 'samd9l', 'tnni3', 'vn1r1', 'hadha', 'milr1', 'pif1', 'maged2', 'znf608', 'cyp39a1', 'pcdha4', 'ndel1', 'cdc40', 'nrg3', 'nkx1-2', 'smarcb1', 'atp8b4', 'myo6', 'fgd6', 'mphosph10', 'twist2', 'znf570', 'inpp5b', 'rnf150', 'cyp2w1', 'grina', 'aipl1', 'pdcd1lg2', 'or2j2', 'snta1', 'pabpc1l', 'tecpr2', 'diaph3', 'sapcd2', 'atp6v1g3', 'trhr', 'prkcb', 'cast', 'ccn1', 'stau2', 'efcab14', 'stil', 'aoc1', 'ppm1b', 'gadd45b', 'saxo2', 'ncapg', 'mpp1', 'traip', 'c9orf153', 'ldb3', 'rasgrp2', 'cyp2d6', 'sf3a1', 'mtx2', 'asic1', 'znf624', 'tbc1d10a', 'gpr157', 'larp4b', 'plcl1', 'txndc12', 'arpc5l', 'mtfr1', 'tia1', 'b3gat2', 'lrrc46', 'hectd1', 'dcaf4l2', 'gsr', 'cc2d2a', 'dpp8', 'pcsk7', 'disp2', 'ndufs8', 'urm1', 'cxcl10', 'dync1li2', 'haus4', 'trim11', 'iqcf2', 'sh3tc1', 'fbxo41', 'elp1', 'znf804a', 'znf283', 'clstn3', 'vsig10l', 'arl14epl', 'crabp1', 'ccnyl1', 'msl1', 'cfap52', 'sgcb', 'ankrd30b', 'rbm28', 'krt78', 'peak3', 'slc49a3', 'smim21', 'enam', 'ngly1', 'tmem212', 'vcx2', 'ddx27', 'rab34', 'lzts3', 'ufsp2', 'ccl2', 'tff2', 'psmd7', 'c11orf71', 'sdccag8', 'c22orf39', 'znf534', 'bdnf', 'dusp23', 'gpr18', 'ccdc159', 'mmel1', 'st3gal3', 'shc4', 'slc41a1', 'chst3', 'tns2', 'mta2', 'gipc1', 'pax5', 'nos3', 'got1', 'bmp7', 'pitpnm1', 'arpc3', 'slc4a7', 'tafa3', 'camk2n2', 'gna12', 'nelfcd', 'smyd3', 'slc6a15', 'mien1', 'atf6b', 'lrrc37a2', 'spsb2', 'csnk2a2', 'myo3a', 'ccdc186', 'ppm1j', 'bpifb3', 'psmg1', 'slc9a8', 'adam23', 'esrrg', 'pwwp2b', 'atp6v1e1', 'acta2', 'efna4', 'plekhs1', 'etv5', 'pdss1', 'rtn3', 'lyst', 'mier1', 'pim1', 'rnf214', 'samd3', 'nkx6-2', 'catsperg', 'rabep2', 'slc18b1', 'apoh', 'stard4', 'foxd4l6', 'heatr9', 'znf177', 'hbq1', 'synj2', 'ssbp2', 'clrn1', 'wdr33', 'itgb8', 'htra2', 'uba7', 'or6m1', 'hipk2', 'e4f1', 'cox4i1', 'foxred2', 'cd34', 'mkln1', 'peli2', 'defb118', 'itga1', 'setd1a', 'xage5', 'grm6', 'csrp3', 'csdc2', 'commd2', 'gsc', 'oaz2', 'smim1', 'sppl2a', 'kaag1', 'tex55', 'tigar', 'grik4', 'arhgap18', 'dnajb14', 'fbxw11', 'nkx2-5', 'gcat', 'znf768', 'sulf2', 'znf441', 'tars2', 'spaca3', 'gal3st4', 'ermp1', 'foxd1', 'pde10a', 'map4k2', 'snap29', 'abhd17b', 'dennd2c', 'gna14', 'iqcm', 'mroh2b', 's100a12', 'pmf1', 'igsf8', 'pld2', 'fig4', 'spanxn3', 'tm6sf1', 'zpld1', 'pdzrn3', 'anxa9', 'adipor2', 'fam98a', 'cfap20', 'nup54', 'git2', 'dhcr7', 'fgf9', 'rsl1d1', 'impg2', 'deptor', 'krtap4-3', 'art4', 'znf236', 'acat1', 'esyt3', 'baiap2', 'ccdc185', 'rnf13', 'or13f1', 'cptp', 'swsap1', 'dld', 'eif2b2', 'noct', 'tmem211', 'znf106', 'ipo11', 'ube2n', 'tbxa2r', 'uqcc1', 'tmprss11f', 'blvrb', 'rab14', 'fkbpl', 'lacc1', 'mdc1', 'dsg3', 'septin3', 'apobec3b', 'ugp2', 'ssr3', 'tespa1', 'cdk11a', 'fgr', 'ccr3', 'gpx6', 'smoc2', 'fdx1', 'slco1b1', 'tmem214', 'clec4f', 'dnm1l', 'jmjd1c', 'kpna6', 'dlg1', 'kcns3', 'naif1', 'spata6', 'epb41l2', 'acaa1', 'fndc4', 'foxd3', 'cnga2', 'efcab3', 'fndc11', 'greb1l', 'glis2', 'eml6', 'tspan9', 'cdh24', 'adat3', 'hnrnpd', 'tspo2', 'slc25a41', 'znf766', 'cpped1', 'radil', 'rprml', 'bfar', 'fam81a', 'mesp2', 'sbk1', 'bud31', 'nkx6-3', 'sin3b', 'hsf2', 'ttll5', 'armc1', 'nup93', 'papolb', 'arhgef2', 'itm2b', 'rab6b', 'chrnb1', 'znf268', 'znf430', 'idh2', 'mc3r', 'zfpl1', 'lratd1', 'tek', 'n4bp1', 'pnpla5', 'rpap1', 'sh3bgr', 'fam161a', 'klf8', 'mok', 'camkk1', 'ccdc22', 'krt23', 'znf778', 'polr2k', 'ccdc85c', 'mgat4c', 'ctxn1', 'znf763', 'nlrp10', 'c6orf132', 'fbxw10', 'smarca5', 'slco3a1', 'ugt1a4', 'fdft1', 'ap3m2', 'mdh1b', 'nrn1', 'rmnd5b', 'tgs1', 'slc30a9', 'mpz', 'cdh13', 'aldoc', 'coq5', 'erp44', 'nmd3', 'ca11', 'opn1lw', 'wiz', 'fam216b', 'gprc5d', 'eif4a3', 'lonp2', 'hook2', 'snrpf', 'spout1', 'pax7', 'epo', 'fxyd2', 'ctdnep1', 'lmln2', 'thbs1', 'yy1ap1', 'zfr2', 'fbp1', 'itgb2', 'arnt', 'arid2', 'pam16', 'zp4', 'pttg1', 'gprasp1', 'sez6l2', 'tp53i3', 'arhgef17', 'dcaf12l2', 'actl7b', 'bbox1', 'rbis', 'sin3a', 'tirap', 'pld1', 'ppil2', 's1pr4', 'rc3h2', 'noto', 'scap', 'cst5', 'ccr6', 'acp4', 'gpr176', 'hm13', 'dnajb2', 'kdm5a', 'ndc80', 'slc17a9', 'wt1', 'aacs', 'kcnt1', 'galk2', 'irf7', 'or4a15', 'trim3', 'il18', 'pacs2', 'thy1', 'csf2rb', 'fam107a', 'prr19', 'cbl', 'prrt1b', 'mpv17', 'serpinb6', 'tspan4', 'cln6', 'gfod1', 'ldlrap1', 'kcnf1', 'plppr4', 'nphp1', 'eno1', 'phb2', 'tigd6', 'acvr2a', 'slc30a2', 'sphkap', 'mrgprf', 'nktr', 'dok3', 'lgmn', 'dctn1', 'map2k3', 'prph2', 'setd5', 'sobp', 'xpo7', 'grhl2', 'aifm1', 'crkl', 'fcsk', 'ca14', 'gtf2f1', 'rpa2', 'fcgbp', 'orai2', 'myo7b', 'ctnna3', 'ilkap', 'aste1', 'g6pc2', 'tmem198', 'lilrb5', 'or10d3', 'atad3c', 'c16orf91', 'ilk', 'prkg1', 'tbc1d23', 'mycl', 'ppme1', 'khdc3l', 'dnajb13', 'or5d13', 'tomm34', 'vwf', 'crat', 'tubal3', 'hemgn', 'c22orf31', 'mab21l3', 'nanognb', 'epha2', 'oxnad1', 'fyttd1', 'mmp2', 'pcyt1a', 'xcl2', 'med28', 'garem2', 'otog', 'slco1b3', 'spef2', 'slc16a11', 'yif1b', 'commd1', 'nrf1', 'slc5a6', 'pcbp3', 'tm4sf18', 'igfbp3', 'mfsd13a', 'mogs', 'exph5', 'adprm', 'c2cd4a', 'lmntd2', 'megf10', 'usp30', 'znf329', 'cd79a', 'slco4c1', 'bcar1', 'rin1', 'rgs14', 'atp2b1', 'dusp19', 'gcnt3', 'mageb17', 'chd3', 'dlk1', 'slurp1', 'hid1', 'c17orf75', 'prdm13', 'rgs13', 'gvqw3', 'shld1', 'mavs', 'apaf1', 'cnnm1', 'atxn3l', 'fbxo39', 'sh3bp5', 'znf677', 'saa4', 'sorcs2', 'cfap300', 'elac2', 'pear1', 'tgfb1', 'znf71', 'syt5', 'gnal', 'acyp1', 'ifitm1', 'ndufa3', 'cyp3a43', 'naxe', 'depdc7', 'tmem106a', 'crtc1', 'kirrel3', 'slc44a2', 'cdc25b', 'gla', 'lss', 'rab3gap1', 'znf568', 'krtap3-2', 'col15a1', 'rack1', 'znf792', 'pcna', 'pomp', 'cldn6', 'arl6ip6', 'plppr3', 'bcan', 'kif24', 'tdrd1', 'atp6v1h', 'cntnap4', 'snx17', 'chmp1b', 'setmar', 'c8g', 'syf2', 'tmed5', 'tssk6', 'ugt8', 'wrap53', 'xirp2', 'c5orf51', 'znf584', 'mthfd2', 'uqcrh', 'mtx3', 'sfxn2', 'ubap1', 'mettl21c', 'stat2', 'or2t2', 'dram1', 'lurap1l', 'itgam', 'bpifa3', 'abcc3', 'tapbp', 'ifnw1', 'ccdc153', 'armcx2', 'mmp3', 'epdr1', 'hp1bp3', 'krtap9-3', 'clca4', 'ccdc122', 'nucks1', 'pcdhb10', 'klhdc8b', 'selenov', 'srpx', 'acadvl', 'ap5s1', 'dnaaf3', 'ccdc125', 'or2c1', 'nmrk2', 'tmem132c', 'dbr1', 'mep1a', 'usp50', 'rad54l2', 'abhd5', 'ifi30', 'cnppd1', 'scn5a', 'harbi1', 'sav1', 'mbd2', 'arrdc2', 'dok2', 'blm', 'dio3', 'rab32', 'znf343', 'fhod1', 'vtcn1', 'znf667', 'mapk8ip3', 'dock6', 'tmprss6', 'extl1', 'asb11', 'clcc1', 'wdr35', 'tpcn1', 'dph3', 'esf1', 'ptp4a3', 'ube2l5', 'bag5', 'ikzf1', 'ropn1l', 'igfn1', 'eif4g3', 'spata1', 'xpo1', 'dlat', 'prr5l', 'zbed3', 'aldh16a1', 'stk26', 'shox2', 'or2f2', 'sf3a2', 'ddit4l', 'mat2b', 'med13l', 'pgm5', 'itsn2', 'lag3', 'laptm4b', 'ctrb2', 'ldhal6a', 'morc4', 'ccdc168', 'asic3', 'tet3', 'limk2', 'c11orf16', 'zg16b', 'spz1', 'jmjd8', 'pithd1', 'plin5', 'adgre1', 'c19orf25', 'tnrc6c', 'acod1', 'fam13c', 'or4c46', 'c8orf58', 'c16orf89', 'penk', 'herc6', 'krt75', 'sult1c3', 'grpel2', 'isca2', 'cd4', 'tollip', 'nppb', 'lingo3', 'chst2', 'pi15', 'homez', 'pebp4', 'krtap4-6', 'ndufb10', 'onecut1', 'cabs1', 'cdkn1c', 'clec10a', 'mapk13', 'ctu1', 'nt5dc1', 'rab5c', 'rgs16', 'vil1', 'ssx2ip', 'ehbp1', 'alyref', 'ltbp1', 'cenps', 'hcfc2', 'trim31', 'tmem218', 'akr1d1', 'zim3', 'mrtfb', 'tbxas1', 'lrrc32', 'mpst', 'myom3', 'apcdd1l', 'itpr1', 'yy1', 'dpm2', 'kdsr', 'plod1', 'haghl', 'kbtbd7', 'enc1', 'mybpc3', 'or2l5', 'chst11', 'ces2', 'egf', 'fcamr', 'plekhh3', 'ndufs4', 'dpp10', 'or1q1', 'gls2', 'crb3', 'fhad1', 'gpr31', 'atp6v0d2', 'casq2', 'crcp', 'atp6v1d', 'maea', 'rexo1', 'marco', 'nkd1', 'lum', 'krt82', 'tafa2', 'acsl4', 'spata4', 'cep104', 'dcaf15', 'dhrs3', 'mrs2', 'trim56', 'c1orf122', 'col26a1', 'dstn', 'slc22a8', 'g2e3', 'cst9l', 'tmpo', 'st8sia2', 'ky', 'tsen15', 'hcn3', 'rfk', 'srprb', 'ddx19a', 'cdk2ap1', 'mia', 'usp45', 'mgmt', 'ankrd45', 'ofd1', 'nudt16', 'nod1', 'eif2ak1', 'npas4', 'peg10', 'sacs', 'cutc', 'hsbp1l1', 'cdk3', 'ptrh2', 'gabrr3', 'rab18', 'lgals8', 'mcf2l', 'rap2a', 'pex12', 'cyb5d1', 'znf223', 'tap2', 'vpreb1', 'ube2m', 'zfat', 'sema6b', 'rpn1', 'myl2', 'ltbr', 'slc9b2', 'rac3', 'layn', 'xage2', 'dsg2', 'ptpn12', 'upf1', 'enpp2', 'glyatl2', 'lix1', 'bbs1', 'gdi1', 'erfe', 'phc3', 'ada2', 'clpx', 'gps1', 'pla2g1b', 'znf557', 'cfap58', 'colgalt2', 'aarsd1', 'fut8', 'smim15', 'ttc7a', 'fosl1', 'gpr135', 'zg16', 'tpr', 'cyp11b2', 'defb128', 'tgfbr2', 'msgn1', 'lrp2bp', 'susd3', 'spag4', 'spic', 'rabl3', 'arsj', 'slc22a9', 'zfyve26', 'sdc4', 'chrdl1', 'lix1l', 'prb4', 'dmac1', 'galk1', 'gapvd1', 'smurf2', 'ptgis', 'spaca9', 'fosl2', 'smad1', 'tns4', 'c11orf91', 'ndufab1', 'prr33', 'ervk3-1', 'rgs4', 'scnm1', 'smcr8', 'slc9c1', 'szrd1', 'dna2', 'zc3h8', 'cox7b2', 'sult1e1', 'stard7', 'dcp1b', 'arhgap27', 'ebf4', 'ero1b', 'nav3', 'cenpi', 'crtam', 'hrh2', 'stk4', 'ano10', 'iqsec1', 'eif4e', 'exosc2', 'tmem247', 'acbd5', 'taf7l', 'vbp1', 'fbn2', 'rab13', 'iqcb1', 'fbxo28', 'or10x1', 'cxorf58', 'krtap10-3', 'rab33b', 'braf', 'cldn14', 'gpt', 'tmem120a', 'mecom', 'syt4', 'taf11l6', 'dennd1c', 'bcl2l1', 'xylt1', 'slamf9', 'neb', 'msrb2', 'urgcp', 'ddx43', 'eif1b', 'cntrl', 'tom1', 'pfdn5', 'med8', 'coro1c', 'tax1bp3', 'c2orf66', 'fbxw4', 'or2f1', 'hmx3', 'fkbp10', 'mapk6', 'rhoa', 'myorg', 'gak', 'nudcd3', 'gng3', 'rp1l1', 'cnot3', 'znf256', 'luc7l3', 'wdr49', 'gcnt4', 'arhgef19', 'slc10a6', 'phf14', 'sele', 'sacm1l', 'stap1', 'fbxo33', 'plpp6', 'nacc1', 'slc17a4', 'hyal4', 'slc31a1', 'klf14', 'anxa8', 'ocm2', 'lpxn', 'trim59', 'jak3', 'mnd1', 'stx1b', 'bag3', 'or5b21', 'ugt2b11', 'vapb', 'lce6a', 'ttc23l', 'znf708', 'bend3', 'or52n2', 'pepd', 'gzmm', 'fam174b', 'mef2b', 'slc25a11', 'znf304', 'irs4', 'oga', 'ctla4', 'cltcl1', 'taar6', 'plg', 'atn1', 'usp17l1', 'prss38', 'igfbp5', 'ehmt2', 'henmt1', 'or56a1', 'mocs3', 'atp8b2', 'otc', 'rpain', 'letm1', 'tab2', 'gkn1', 'tmc7', 'brsk1', 'lman1l', 'uncx', 'tfap2a', 'gnrhr', 'prpf39', 'tceal8', 'mboat7', 'znf319', 'znf704', 'fam118a', 'rhot1', 'rad51ap1', 'st6galnac4', 'pbdc1', 'spats2', 'tmem38b', 'churc1', 'ryr3', 'iqca1', 'emc3', 'gpx7', 'orai1', 'kctd13', 'sesn2', 'fbn3', 'xrn2', 'ttll1', 'znf571', 'tmc8', 'mab21l4', 'cog6', 'lilra1', 'serpinf2', 'tes', 'islr2', 'thnsl2', 'psme2', 'col21a1', 'c19orf44', 'pcdh11y', 'pxdc1', 'setdb2', 'osbpl11', 'dock1', 'npy2r', 'atg16l2', 'yif1a', 'znf205', 'fzr1', 'kmt2a', 'ntrk1', 'amn', 'pygl', 'nectin4', 'cnpy4', 'trim21', 'adam17', 'smim10l2b', 'ube2z', 'peli1', 'pnisr', 'palm3', 'gpr34', 'rint1', 'zfr', 'washc3', 'snx11', 'zbtb38', 'poli', 'znf511', 'arhgef10l', 'fam43a', 'sdk1', 'amhr2', 'nbpf1', 'riox1', 'opn5', 'tpgs2', 'rimklb', 'tm4sf19', 'bnc2', 'allc', 'bfsp1', 'ankrd34c', 'thap10', 'sowahb', 'wasf1', 'calb1', 'fam83h', 'p2ry6', 'zmym6', 'gpc1', 'mfsd10', 'pptc7', 'cort', 'tcta', 'inpp5a', 'spred1', 'lrriq4', 'flrt2', 'tsks', 'hoxd13', 'rad51ap2', 'slc12a8', 'tcf25', 'galnt7', 'tmem45b', 'phldb3', 'trpm3', 'tie1', 'st13', 'nsun4', 'vta1', 'c4bpb', 'ccn6', 'tnfrsf14', 'mbnl1', 'arpp19', 'atp8b3', 'egfl8', 'b3glct', 'mt-co3', 'nipal3', 'ibsp', 'tmem170a', 'zfand3', 'or4c13', 'coq2', 'c5orf15', 'asl', 'or10a5', 'rcbtb1', 'tamm41', 'tmem205', 'gtsf1', 'maneal', 'eno2', 'aqp4', 'plekhg2', 'prok1', 'ints6l', 'aqp6', 'atat1', 'frg1', 'tnfsf11', 'brf1', 'dync2h1', 'sarnp', 'slc22a18', 'or56a5', 'rsad2', 'pnp', 'arhgef1', 'stk11', 'ct55', 'ppp1r3d', 'c20orf173', 'piwil3', 'nt5dc2', 'cggbp1', 'defb134', 'zim2', 'arhgap36', 'mtmr9', 'fbxo22', 'klrc3', 'brinp3', 'prg3', 'sall2', 'tmem170b', 'ccdc14', 'cfap44', 'hspb1', 'klhdc2', 'cd226', 'ntrk2', 'rab6a', 'ppp1r3f', 'gbp5', 'fabp7', 'ncoa5', 'mapkbp1', 'pxylp1', 'tf', 'upp1', 'ccdc68', 'gmfg', 'c1qtnf6', 'med26', 'nkain1', 'lcn12', 'prdm2', 'rufy3', 'serinc3', 'pde1b', 'krtap13-4', 'c11orf86', 'ifna16', 'spib', 'slc25a33', 'ramp3', 'tbcb', 'marveld1', 'adgb', 'large2', 'c9orf50', 'sycn', 'apoc4', 'slc29a2', 'lgals7', 'atp6v1c2', 'ankrd66', 'marveld2', 'sertm2', 'actn1', 'cd55', 'znf607', 'il18rap', 'tubb1', 'htn1', 'drc3', 'nmur1', 'foxp1', 'znf124', 'pcf11', 'yes1', 'hectd4', 'hoxb4', 'mymx', 'ifna7', 'spem2', 'gtdc1', 'krtap6-1', 'misp', 'trappc6b', 'espl1', 'slco6a1', 'pcdhb4', 'mrgprg', 'nnat', 'dpp4', 'gpx3', 'kcna10', 'ube2q1', 'igsf6', 'trip13', 'cic', 'cps1', 'zyx', 'c1orf131', 'dad1', 'znf729', 'igsf1', 'adam30', 'ldhc', 'igfl1', 'heatr6', 'cldn11', 'c16orf96', 'slc6a11', 'neurod1', 'napsa', 'rundc3b', 'kif5c', 'fbxo16', 'oas1', 'gtf2ird1', 'smug1', 'palmd', 'tmem33', 'prdm15', 'gimap5', 'spr', 'cdh1', 'hlcs', 'hoxd4', 'mcm6', 'igfl4', 'fam170b', 'ccdc113', 'snx19', 'morc1', 'hax1', 'rell1', 'mtmr1', 'tk2', 'angpt1', 'lyplal1', 'get1', 'fgf10', 'pla2g2e', 'eif5b', 'hao1', 'vkorc1', 'xylt2', 'ube2g2', 'eef1e1', 'ncf2', 'ctnnbl1', 'lrrtm2', 'fcer2', 'or51q1', 'pard3b', 'abhd4', 'dhx35', 'egflam', 'oaf', 'smox', 'mink1', 'chrm5', 'tex13d', 'krtap22-1', 'tnfsf13b', 'tspear', 'ndrg3', 'nhlrc4', 'zranb2', 'tnks', 'ndufaf5', 'ahsp', 'dcaf7', 'adat2', 'vamp8', 'st6galnac5', 'zkscan5', 'slc48a1', 'sp3', 'alkbh6', 'cygb', 'palld', 'or52n1', 'hnrnpu', 'or13h1', 'dcaf12', 'chfr', 'rmnd1', 'specc1l', 'or4d9', 'abcf1', 'lce1c', 'tex9', 'zic1', 'rpp25', 'or2ag1', 'hmcn2', 'trim24', 'kitlg', 'or4x2', 'bmerb1', 'arfgef3', 'gid4', 'pdilt', 'tmem220', 'frmpd1', 'wdr47', 'dhrs9', 'btaf1', 'yeats2', 'calm2', 'fyb2', 'gjb6', 'lrrc69', 'nprl3', 'mpdu1', 'pde1a', 'slc35c1', 'tmco2', 'glt1d1', 'tram1l1', 'gck', 'rab3ip', 'fli1', 'slc30a3', 'dpf3', 'capns2', 'gpr17', 'hhat', 'prr11', 'fyco1', 'ripk3', 'polr3e', 'fbxl2', 'serinc5', 'bcap29', 'scml1', 'procr', 'borcs6', 'exoc8', 'wfdc13', 'adra2a', 'glyat', 'skiv2l', 'paep', 'nfasc', 'slc35a1', 'nodal', 'smim29', 'degs1', 'ndst3', 'acp2', 'piezo2', 'adk', 'znf780a', 'zkscan3', 'c5orf46', 'ppp1r37', 'slc34a3', 'zgrf1', 'hspb11', 'tlcd3a', 'lsm6', 'bag1', 'angptl2', 'alpk2', 'creg2', 'psma3', 'arrdc1', 'zscan26', 'cfap47', 'exd3', 'pced1b', 'mucl1', 'ascc1', 'kif1b', 'lin37', 'phldb1', 'mmp16', 'smg8', 'syt2', 'psmb6', 'oxsr1', 'fpgt', 'hspa5', 'hspb7', 'eci2', 'wdr92', 'ube2w', 'lurap1', 'or10h1', 'osm', 'c3orf80', 'fam221b', 'dach2', 'or7g2', 'alk', 'dhx8', 'bmp8b', 'pappa2', 'cbln1', 'dpcd', 'naa25', 'tmem17', 'hnrnph3', 'cfap206', 'meis3', 'sgta', 'ackr1', 'itih1', 'patl1', 'or9q1', 'vps35l', 'ephx3', 'fstl5', 'lrp4', 'or4m1', 'setdb1', 'osbpl5', 'prmt9', 'noc4l', 'peli3', 'atxn3', 'zbtb1', 'nxt1', 'letmd1', 'mindy4b', 'gpr62', 'ndufa4', 'agbl1', 'slc27a6', 'best2', 'tex49', 'huwe1', 'cfap36', 'ptprt', 'smarca2', 'pafah1b1', 'padi4', 'c19orf53', 'uts2', 'or2t1', 'rbm38', 'hpca', 'arntl', 'avpi1', 'nos1', 'cebpd', 'kif26a', 'dcaf12l1', 'ms4a14', 'sh2d6', 'lmo3', 'syt13', 'crp', 'fam217b', 'tmem120b', 'cyb5a', 'galm', 'fhl2', 'med16', 'ptpn21', 'lypd8', 'ptpn1', 'nbpf19', 'ccr1', 'knstrn', 'krcc1', 'mettl2a', 'anxa1', 'znf682', 'adgrg7', 'osgin1', 'pcnx1', 'mylk', 'terf1', 'fbl', 'myo10', 'mica', 'antkmt', 'pla1a', 'rab8b', 'rgpd4', 'atp6v1c1', 'mmgt1', 'sorcs3', 'mga', 'ildr2', 'krtap22-2', 'azgp1', 'f3', 'fam168b', 'dnah1', 'zbtb7c', 'eml2', 'cnfn', 'slc9a1', 'syne1', 'fbln5', 'topaz1', 'clint1', 'ctsh', 'ip6k2', 'ppif', 'nup98', 'ccdc110', 'hrc', 'pcdhga3', 'arap1', 'clec20a', 'sned1', 'znf665', 'bicra', 'krt77', 'or6t1', 'ubxn2a', 'clstn2', 'slc30a4', 'wdfy4', 'fgd4', 'pcm1', 'rhbdl2', 'gnl1', 'oit3', 'znf641', 'dusp4', 'atoh7', 'dnhd1', 'muc19', 'tcp11x1', 'zdhhc18', 'fes', 'alox15b', 'saysd1', 'tab3', 'pcsk1n', 'agl', 'pcsk2', 'htt', 'msrb1', 'znf131', 'cog1', 'rad17', 'capn5', 'asb10', 'adamtsl1', 'heph', 'casp3', 'kcnq4', 'pde1c', 'svip', 'tcf19', 'zbtb45', 'znf296', 'atr', 'krtap9-7', 'b3galnt1', 'znf750', 'ankrd29', 'rmi2', 'capn8', 'or1m1', 'ipo9', 'ucp1', 'exoc6b', 'akap9', 'cdk5r2', 'znf556', 'apobec3g', 'snx32', 'tmem25', 'ctnnal1', 'ccni2', 'cgrrf1', 'qpctl', 'pom121l2', 'cpsf4', 'timm13', 'ptk2', 'or10j1', 'atl2', 'cdkl5', 'gspt2', 'kdm4c', 'gamt', 'dennd5b', 'alkbh5', 'ltb', 'khdrbs1', 'lrrc53', 'kat2b', 'rhcg', 'nip7', 'ceacam8', 'atoh1', 'otud7b', 'lyzl6', 'enpp1', 'nbpf11', 'septin2', 'c18orf54', 'znf718', 'kdm3a', 'mpzl1', 'pycr1', 'sugp1', 'pde5a', 'ckap5', 'evl', 'cflar', 'wdr70', 'atpsckmt', 'or4c15', 'nprl2', 'gap43', 'nr1i3', 'snx25', 'dennd5a', 'capn7', 'tsnaxip1', 'col23a1', 'polr3gl', 'tex12', 'cox6a2', 'ube2l6', 'snx21', 'gzf1', 'pdcl3', 'rabgap1l', 'smyd4', 'spin3', 'lynx1', 'map3k7', 'spata20', 'gatm', 'tbc1d12', 'aqp8', 'glp2r', 'bdh2', 'dlx1', 'cnih3', 'tesk2', 'ulk4', 'nup85', 'rassf10', 'incenp', 'isy1', 'ufc1', 'ankrd2', 'ccne1', 'emc8', 'igfl2', 'plpp5', 'eif4ebp3', 'ms4a1', 'plagl1', 'polr3g', 'pusl1', 'megf8', 'rgs3', 'cd19', 'adcy9', 'epc2', 'tmem255a', 'pcolce', 'trappc12', 'zic4', 'phc1', 'rag2', 'stard3', 'vrk1', 'p2rx1', 'nsd2', 'pcbp1', 'kif27', 'anks3', 'cd163', 'golga3', 'dock7', 'ins', 'mtrf1l', 'nenf', 'cd6', 'lysmd3', 'ifitm3', 'nampt', 'ccnb2', 'mroh1', 'jazf1', 'taf9b', 'strn4', 'raver1', 'daw1', 'slitrk4', 'il1rap', 'dnttip1', 'or5ap2', 'cpa4', 'ppp1r12b', 'bicd2', 'c8orf34', 'rpel1', 'cntn1', 'lgals9c', 'ptpmt1', 'guca2b', 'calm1', 'aox1', 'rbp7', 'prpf8', 'loxl2', 'krtap19-2', 'rasl11b', 'rln1', 'b4galt3', 'cr1l', 'ms4a8', 'ttc27', 'lilra6', 'pex3', 'stard13', 'sntb1', 'uqcrhl', 'znf248', 'whamm', 'deup1', 'gata6', 'sh2b3', 'ccdc13', 'nsg2', 'ano4', 'lin7a', 'tub', 'dnase2b', 'phlda2', 'rnaset2', 'mcrip1', 'slco4a1', 'cisd1', 'klhdc7b', 'ahcyl2', 'akap10', 'cnpy2', 'arpc5', 'pnoc', 'usp11', 'aif1l', 'usp19', 'jade2', 'krt3', 'gje1', 'itih2', 'tfec', 'wnt2b', 'xkr3', 'mogat1', 'aldh7a1', 'pnlip', 'rnf20', 'emilin1', 'scgb1a1', 'scp2', 'pglyrp3', 'ppp1ca', 'rnase13', 'slc17a6', 'slc38a5', 'vps72', 'il1f10', 'fat1', 'gckr', 'pomc', 'tmem161b', 'cga', 'spryd4', 'c6orf58', 'wdr93', 'znf134', 'cadm1', 'c2orf76', 'il11ra', 'pnma5', 'tbk1', 'or10w1', 'znf471', 'ccl25', 'prmt1', 'sec14l3', 'srxn1', 'rrp1', 'myoz1', 'npr3', 'pam', 'tmem108', 'prtg', 'umod', 'tmem151a', 'hnrnpcl3', 'rad9a', 'txnip', 'haspin', 'cfap161', 'skp2', 'dse', 'lsmem1', 'siglec12', 'zc2hc1a', 'n4bp2l1', 'ubald2', 'mansc4', 'tmprss11a', 'col5a3', 'gstm1', 'thyn1', 'dgat2l6', 'alg3', 'cubn', 'amot', 'pramef15', 'ccser1', 'cdkn1b', 'chrna4', 'cnot2', 'adamts14', 'loxhd1', 'aars2', 'aatf', 'tubgcp5', 'crygd', 'kcnk10', 'yrdc', 'prkab1', 'kcnj1', 'lrrc66', 'ccdc112', 'cwf19l1', 'apobec3a', 'cyp11b1', 'c12orf76', 'gype', 'magee1', 'prap1', 'krt86', 'nsd1', 'scrn2', 'stx7', 'rtn1', 'asphd2', 'eml4', 'vma21', 'grn', 'nrde2', 'atxn1l', 'naaladl2', 'rspo4', 'fut10', 'ly6g6e', 'znf99', 'crisp2', 'fam155b', 'rnf181', 'gfod2', 'arhgef3', 'ghrl', 'rras', 'vezf1', 'igfbp4', 'emx1', 'plekhg1', 'bdkrb2', 'sorbs3', 'mrgpre', 'znf706', 'calml3', 'gpr35', 'il12rb1', 'mrap2', 'ccdc141', 'nacad', 'mapk14', 'hsbp1', 'aldh9a1', 'cox6c', 'ehd1', 'ippk', 'rangap1', 'idnk', 'tsc22d4', 'clec3b', 'pak2', 'ube4a', 'htn3', 'gstm3', 'cyb5d2', 'msto1', 'hmgb2', 'tfip11', 'ifna4', 'ccnl2', 'dppa2', 'spata9', 'vac14', 'krtap19-6', 'adcy7', 'cpne7', 'samd4a', 'mycbp', 'c4orf3', 'lmcd1', 'slc12a9', 'spire1', 'cep89', 'prickle2', 'zfyve21', 'prr14l', 'dnajc6', 'snrnp27', 'map7d2', 'zscan20', 'azin2', 'cbll1', 'cpne9', 'idi1', 'atg101', 'sbno2', 'hs3st3b1', 'znf83', 'tcaf1', 'sult1c4', 'tmem94', 'amer2', 'c19orf33', 'cdk13', 'krtap4-12', 'sos2', 'ppp5c', 'fndc9', 'hcn1', 'tspyl1', 'baz2b', 'iqgap1', 'mpig6b', 'fam217a', 'gpx8', 'ube2u', 'pln', 'ash2l', 'slc18a3', 'spata33', 'cntrob', 'or51t1', 'ppm1n', 'stx5', 'st6gal2', 'fbxo6', 'znf839', 'bicdl1', 'ldhb', 'cdk4', 'amy2a', 'fcho1', 'ctxn3', 'kcnab1', 'rnh1', 'rida', 'pspn', 'sdha', 'trdmt1', 'wdcp', 'cd99l2', 'krtap19-1', 'pebp1', 'teddm1', 'ercc6l2', 'akap8l', 'zfp36l1', 'mfsd4a', 'psd2', 'dek', 'ino80b', 'sdr39u1', 'bicdl2', 'pikfyve', 'rab39a', 'ssh1', 'ggn', 'gng11', 'itfg1', 'ncam2', 'tm9sf3', 'eps8l2', 'mageb6b', 'xylb', 'znf136', 'fam149b1', 'nadk2', 'dhps', 'apobec3c', 'tpd52', 'cdkl2', 'nox4', 'loxl3', 'sfrp2', 'itln1', 'dgat2', 'ch25h', 'fn3k', 'chchd10', 'fitm2', 'htr2a', 'scrt1', 'dock5', 'slc25a40', 'ids', 'tex37', 'tmem68', 'cd320', 'pbld', 'flnb', 'hpr', 'apbb1ip', 'dppa3', 'ccdc117', 'pdzd9', 'stc2', 'fndc5', 'fosb', 'cab39', 'slfn12', 'rbm42', 'krt31', 'clc', 'cabp1', 'clec11a', 'gpx2', 'tgif1', 'brms1', 'wasf2', 'rnf11', 'lrp2', 'l3mbtl3', 'hbegf', 'srsf1', 'dnali1', 'smim19', 'gdf3', 'gk2', 'zswim8', 'plp1', 'atf6', 'znf804b', 'lbhd1', 'nanos2', 'uhmk1', 'plcxd1', 'phactr2', 'igf2bp3', 'naf1', 'srsf11', 'znf254', 'znf705g', 'adh4', 'cyp2a13', 'gpbp1l1', 'tceal5', 'tsr3', 'cd3e', 'wdr73', 'rragd', 'trpt1', 'fhl3', 'slc15a1', 'fmnl3', 'lemd1', 'hapln4', 'ubl3', 'n6amt1', 'gin1', 'atg4b', 'il25', 'kcna7', 'reeld1', 'dcaf8', 'septin10', 'golph3l', 'myo1a', 'cntn5', 'krt2', 'c17orf98', 'kif7', 'map3k11', 'slc4a1', 'mettl8', 'serinc2', 'agk', 'gjb4', 'ppp1r3g', 'tmem259', 'epcam', 'b3gnt2', 'il1rl2', 'fam131c', 'cask', 'scrn1', 'znf467', 'cd86', 'srrt', 'plekha4', 'ttll12', 'b4galt5', 'dipk1a', 'hs6st1', 'pknox2', 'acsbg2', 'hmgcl', 'insyn1', 'hspa1a', 'aebp2', 'ccl1', 'hepacam', 'hes7', 'ssc5d', 'ccl8', 'or2b6', 'csnk1e', 'creb3l2', 'commd6', 'atpaf2', 'oxer1', 'atp6v0a1', 'adamts19', 'apc2', 'ankrd34b', 'tcf4', 'ptn', 'cdh18', 'foxn4', 'aldh8a1', 'pspc1', 'avp', 'acvr1c', 'fcn3', 'znf195', 'c1orf53', 'egln2', 'rgpd3', 'slc24a2', 'kctd16', 'prf1', 'nckap5', 'zfp69', 'spon1', 'doc2b', 'usp29', 'arhgap44', 'ggnbp2', 'lrrc45', 'ppargc1a', 'ecd', 'nuggc', 'ankrd33', 'gramd2b', 'rbm22', 'tubgcp6', 'creb1', 'evx1', 'rnf139', 'copb1', 'mt2a', 'pacrg', 'slpi', 'kcnj10', 'ppm1a', 'clec3a', 'mrgprx1', 'c16orf71', 'or5b2', 'odc1', 'xpr1', 'pfdn2', 'rab24', 'rapgef2', 'psmd9', 'she', 'hebp1', 'pcp4', 'ocstamp', 'pcdhb8', 'rnf169', 'lox', 'sncg', 'atpaf1', 'fam53b', 'rbm5', 'nek3', 'gpr142', 'aim2', 'abca13', 'taf1d', 'znf669', 'ilvbl', 'apba1', 'nrip1', 'grm2', 'ube2d2', 'trim75p', 'adipor1', 'agps', 'dazap1', 'or10a7', 'cct6a', 'hoxc6', 'lig1', 'or4d6', 'pdlim2', 'spata31d1', 'aco2', 'tmem100', 'champ1', 'ntn3', 'plglb2', 'saraf', 'c1orf158', 'gsg1', 'znf774', 'pdzd7', 'ptpn14', 'or52b6', 'ppip5k2', 'prss56', 'shcbp1l', 'trdn', 'ankrd13d', 'itprid2', 'c19orf81', 'dnajb1', 'cfap77', 'lyrm9', 'tsga10', 'dhx16', 'fam214b', 'or6y1', 'znf404', 'ifngr1', 'nsmaf', 'epha3', 'ube4b', 'trim47', 'glrx5', 'tnfaip8l2', 'gpr25', 'mapk8ip2', 'rbm34', 'il10', 'parn', 'rsph4a', 'wdr20', 'pdgfc', 'clec14a', 'c10orf82', 'plac8l1', 'ect2l', 'pdlim5', 'arhgap33', 'otp', 'tox4', 'ubn2', 'cav2', 'slc33a1', 'marf1', 'lef1', 'glce', 'col2a1', 'septin4', 'igfl3', 'fxyd1', 'slco2a1', 'slc24a4', 'slco2b1', 'znf546', 'odf2', 'znf664', 'arid5a', 'p3r3urf', 'ublcp1', 'znf585b', 'foxo1', 'tgif2lx', 'stx12', 'fbh1', 'drap1', 'mad1l1', 'snx5', 'csag1', 'far2', 'ptafr', 'agtr1', 'cacng6', 'ppm1f', 'dipk1c', 'pnkd', 'cacna2d2', 'cwc22', 'znf181', 'cdh11', 'cnot1', 'gnat2', 'snx2', 'ttc33', 'pgghg', 'prm2', 'rnf170', 'il22ra1', 'asb12', 'kiaa1217', 'matn2', 'trim51gp', 'kiaa1191', 'zbtb22', 'zfx', 'cd24', 'catsperz', 'trnt1', 'bin3', 'gcnt1', 'klf12', 'egfl6', 'lrfn2', 'znf17', 'guk1', 'lce4a', 'pbrm1', 'ppfia4', 'tead1', 'fam210a', 'zbtb12', 'cyp2c18', 'sphk2', 'fbxl13', 'tmed2', 'rcn2', 'rnf157', 'cnbp', 'zbtb16', 'arfip1', 'taf9', 'lce1a', 'gli1', 'reep1', 'nup205', 'nr2f2', 'kpna3', 'rnf34', 'cenpvl3', 'chtf18', 'mustn1', 'cnpy3', 'fibin', 'c9orf57', 'foxl2nb', 'aqp12a', 'mapkapk3', 'ttll7', 'barx1', 'gpr15', 'clec4d', 'kctd18', 'kdm4e', 'dmtf1', 'agxt2', 'foxd2', 'ptger2', 'ltn1', 'psmb8', 'klk10', 'lrtomt', 'scg5', 'dennd6a', 'insl4', 'cnep1r1', 'kiaa1614', 'lmo4', 'mbd3l1', 'slc6a9', 'kmt2e', 'gipc2', 'dnmt1', 'slc44a1', 'abcd1', 'clic1', 'fnbp4', 'ift43', 'gpr119', 'mcts1', 'ric1', 'tspan11', 'fbxo40', 'ttc28', 'znf57', 'manea', 'med19', 'npffr2', 'or4f4', 'thumpd2', 'znf354c', 'slc2a13', 'efemp2', 'nlrp13', 'adtrp', 'otub2', 'pabpc4', 'efna1', 'polk', 'sgk3', 'pde4d', 'mmut', 'myo16', 'txndc11', 'lamtor4', 'ciao2b', 'tmem70', 'znhit1', 'rnf227', 'acad8', 'lsm8', 'ccl16', 'il21r', 'wdr74', 'chrna3', 'gaa', 'pmel', 'dicer1', 'macf1', 'pfdn4', 'cd244', 'fkbp11', 'clcf1', 'phlpp1', 'plekhn1', 'sp2', 'gng14', 'krt15', 'lgalsl', 'acvrl1', 'evi2b', 'omp', 'rad1', 'gemin8', 'znf789', 'hs3st2', 'canx', 'spidr', 'mpl', 'ndufs2', 'or10q1', 'cdca7l', 'lipt1', 'hmgcs2', 'hoxa9', 'runx3', 'ncor1', 'osgin2', 'sh3gl2', 'edem1', 'wnt10b', 'higd1c', 'c7orf57', 'fam133a', 'fam24b', 'znf117', 'b4galt4', 'gcsam', 'oaz1', 'pml', 'sprr2e', 'tmcc2', 'znf714', 'c9orf16', 'dffa', 'chordc1', 'tnip1', 'map3k19', 'slc2a12', 'myof', 'c11orf52', 'fam234a', 'gmfb', 'slc26a1', 'fnip2', 'ankrd35', 'il13', 'nmu', 'rai1', 'ccdc170', 'lypd4', 'rbm8a', 'ccdc105', 'fkbp1b', 'ccnd3', 'tm7sf3', 'grap2', 'hgf', 'serinc1', 'or4c16', 'scaf4', 'gyg2', 'nit1', 'trim35', 'als2cl', 'evi5l', 'ogdh', 'adh1a', 'pitpnm3', 'clec19a', 'ccdc80', 'hs1bp3', 'zcchc12', 'pak3', 'cdk5rap1', 'nkain4', 'ppp1r12c', 'dnajb9', 'mtmr10', 'bfsp2', 'gabra1', 'sptbn1', 'vgll2', 'zbtb46', 'psip1', 'ceacam1', 'pctp', 'vat1l', 'slx4', 'defb114', 'cd47', 'or6c74', 'sh2d3c', 'cidea', 'bbs12', 'prelp', 'acot8', 'adamtsl3', 'rab17', 'mad2l1', 'gadd45a', 'fam222a', 'med15', 'npb', 'or14k1', 'srp72', 'ubxn11', 'cntnap1', 'copg2', 'creld1', 'acsm2a', 'hes1', 'hoxd3', 'hps4', 'map3k2', 'dmwd', 'prdm16', 'znf77', 'cep41', 'gna15', 'phyh', 'fam168a', 'ss18', 'chd9', 'qdpr', 'paqr6', 'ccdc180', 'ctag2', 'dusp26', 'mroh6', 'piezo1', 'simc1', 'ticam2', 'rad51b', 'hnrnpcl2', 'copg1', 'scamp4', 'fbxl19', 'osbpl7', 'impact', 'tslp', 'synrg', 'sgcd', 'glcci1', 'znf362', 'carmil3', 'polr2a', 'anp32e', 'imp4', 'tubb8', 'wdfy1', 'bcas4', 'camsap1', 'odf3l2', 'ufd1', 'trafd1', 'dnase2', 'arl14ep', 'ssh2', 'pycard', 'brwd1', 'pdxk', 'slc25a31', 'xkrx', 'piga', 'pcdh8', 'tmem215', 'cndp1', 'ms4a15', 'fmnl1', 'rell2', 'cyp2b6', 'ppfibp1', 'rae1', 'golga8b', 'ppp1r18', 'hsdl1', 'dusp12', 'sirpb1', 'grm5', 'znf618', 'cd38', 'kynu', 'spint4', 'c2orf69', 'sytl5', 'nnmt', 'chd6', 'cxcl1', 'rxfp3', 'lpl', 'dnajc28', 'klhl34', 'aadacl2', 'coro1a', 'fbxo31', 'med20', 'nkx2-8', 'slc13a1', 'terb1', 'uqcc2', 'ankrd61', 'cbll2', 'fam193a', 'zrsr2', 'psrc1', 'srebf2', 'ccdc171', 'tas2r38', 'pnliprp3', 'mtfmt', 'fzd10', 'rhbdd3', 'dhfr2', 'ccdc160', 'stx6', 'eif3m', 'cby1', 'slc35g5', 'irs1', 'gys1', 'cfap97d1', 'or4f6', 'pdcd2l', 'fzd9', 'sf1', 'lipe', 'cyc1', 'tmcc1', 'znf257', 'atad3b', 'kcnj11', 'nanos1', 'wdr13', 'gdpd1', 'amtn', 'sf3b5', 'irf8', 'bbip1', 'c1qtnf9', 'cox8c', 'rab19', 'ankrd36', 'galntl6', 'ednrb', 'atp2a2', 'fbxl8', 'frmd3', 'ucn', 'atxn1', 'ctsc', 'arfip2', 'epb41l4a', 'or2m7', 'sec24a', 'c11orf96', 'iffo1', 'igfbp2', 'necap1', 'tdrd10', 'ccdc158', 'tp73', 'apoa2', 'kdr', 'faap24', 'uba6', 'stx3', 'znf862', 'c3orf84', 'pank3', 'ptpn20', 'rnf152', 'rims3', 'ddx59', 'eif2b4', 'dpy19l1', 'c8orf88', 'dnajb4', 'efcab10', 'khdrbs3', 'lgi1', 'noa1', 'cfap45', 'pdzk1', 'ripor2', 'ttbk1', 'tpd52l2', 'm1ap', 'ttc39c', 'kyat3', 'znf438', 'cfhr4', 'rfwd3', 'cmss1', 'krt85', 'alpi', 'ccdc15', 'fbxo3', 'dctn4', 'pgbd4', 'polr2f', 'sez6', 'pcdhb1', 'gramd2a', 'lilra4', 'ring1', 's1pr3', 'c2orf81', 'azin1', 'tekt3', 'nxph2', 'trim63', 'ddx60', 'ptpn6', 'ppp1r1a', 'ccdc88b', 'tmprss13', 'ntng1', 'asxl2', 'evi2a', 'nek11', 'tmod3', 'or10g7', 'adora3', 'cabp7', 'homer2', 'klf13', 'or10t2', 'tincr', 'dact2', 'amotl1', 'cacng2', 'tshb', 'fpr2', 'pgap3', 'tspan15', 'itga4', 'elp2', 'nanos3', 'has3', 'parp11', 'krt7', 'erlec1', 'grin1', 'lepr', 'ace', 'use1', 'umps', 'snx27', 'hoxa3', 'clba1', 'tceal1', 'fcgr2a', 'orc5', 'ptms', 'mtpn', 'sigmar1', 'ptgfrn', 'sts', 'st8sia4', 'kndc1', 'tbc1d4', 'chst8', 'irak2', 'znf562', 'med24', 'sbds', 'snx30', 'taf10', 'scgb2b2', 'slc44a3', 'or2h2', 'coa4', 'krtap12-1', 'or52a5', 'stag2', 'crisp3', 'tpbgl', 'gad1', 'cldn25', 'bmi1', 'nectin3', 'tcim', 'ppp3cc', 'scn4b', 'rad51d', 'chic1', 'kbtbd8', 'hcrtr1', 'slc39a10', 'tmem196', 'tuba1b', 'nppa', 'nav1', 'izumo3', 'fah', 'spats1', 'gpn1', 'tas2r7', 'klb', 'hdac6', 'ncstn', 'clec4a', 'tle6', 'zhx1', 'cystm1', 'ndufaf1', 'gml', 'erich6b', 'nipsnap2', 'slc7a6', 'gnb5', 'slc2a8', 'slc19a3', 'cox7a2', 'smc1a', 'c5orf49', 'mlst8', 'smco3', 'cmtm6', 'hap1', 'ptdss1', 'dzip1', 'trappc10', 'gab1', 'cpxcr1', 'mau2', 'dedd2', 'acvr1', 'plrg1', 'mchr2', 'coch', 'zfyve27', 'lancl2', 'samsn1', 'repin1', 'dydc2', 'myo1g', 'pid1', 'zbtb47', 'myo5c', 'pnma8a', 'ppib', 'tssc4', 'ppp3ca', 'ctc1', 'rab44', 'tubgcp4', 'lhx5', 'prkcsh', 'mrgprx3', 'nudt9', 'ankrd18a', 'ndufa11', 'tsr2', 'fam47e', 'nlgn4x', 'sh2d2a', 'bace1', 'czib', 'cxcr6', 'phf8', 'cnih1', 'pla2g10', 'ttc13', 'kiss1', 'npr2', 'znf273', 'tbxt', 'golim4', 'adprh', 'tmem204', 'dip2b', 'bcor', 'ecm1', 'helb', 'pex16', 'rbm15b', 'rnase10', 'oma1', 'ccdc69', 'rhoj', 'rnf111', 'bcl2l12', 'sage1', 'etdc', 'nes', 'pxdn', 'actb', 'itprip', 'xab2', 'clvs1', 'sfi1', 'arhgef38', 'sh3rf2', 'slc6a7', 'best3', 'spata6l', 'wdr91', 'tmigd3', 'ccr10', 'ythdf3', 'hlx', 'pan2', 'vamp4', 'c1s', 'sgtb', 'rhbdd1', 'rab5b', 'adad2', 'gramd4', 'enpp7', 'ston1', 'tor1aip1', 'elmo2', 'ttf2', 'or8d4', 'rad51', 'wdr88', 'znf709', 'atf7ip2', 'adgra3', 'haus8', 'atp1b2', 'vps53', 'casq1', 'ubl5', 'htr7', 'thap7', 'btg1', 'steap1', 'vstm5', 'irx5', 'prc1', 'tmem121b', 'tnfrsf4', 'c2cd5', 'nucb2', 'celf3', 'emilin2', 'rest', 'lime1', 'ccdc57', 'ggct', 'iqcg', 'dnah8', 'eda2r', 'calcoco1', 'net1', 'arhgap10', 'qtrt1', 'map6d1', 'slc7a8', 'top3a', 'fam136a', 'chaf1b', 'map3k20', 'ddx39b', 'zfand4', 'ahnak', 'plppr2', 'ankrd9', 'mafb', 'umodl1', 'c2cd6', 'lrrc2', 'kcna4', 'btg4', 'mri1', 'cbx4', 'gabbr2', 'postn', 'amn1', 'coq7', 'gpr108', 'kcnk12', 'mterf4', 'znf232', 'glmp', 'slc9c2', 'safb2', 'gucd1', 'col11a1', 'rhag', 'fbln7', 'klc3', 'lactb', 'cdk5r1', 'dner', 'frmd4a', 'fuca1', 'psma8', 'mal', 'aqp2', 'pcdhb5', 'adhfe1', 'znf569', 'aggf1', 'znf518a', 'alox5ap', 'cdkl1', 'rcc1', 'scfd2', 'tbcel', 'tpm1', 'gata1', 'gnai2', 'pls1', 'ice2', 'lamb2', 'naa38', 'tnfrsf10a', 'trim38', 'rem1', 'arx', 'dmgdh', 'mkrn3', 'tcerg1', 'lalba', 'or6c70', 'tubgcp2', 'polr1e', 'atp5f1e', 'cpt1c', 'mlf2', 'pdlim4', 'c4orf19', 'pink1', 'colec12', 'ess2', 'tbx3', 'zbtb4', 'ccdc184', 'nom1', 'znf396', 'gpt2', 'meox1', 'tefm', 'tmc3', 'gal', 'tnnc2', 'lim2', 'psg6', 'gramd1a', 'erp29', 'fam178b', 'dhdh', 'znf337', 'plxna4', 'rbm20', 'asb13', 'brms1l', 'fundc2', 'gltpd2', 'kifc3', 'gpsm2', 'cacna2d4', 'adgre2', 'plek', 'jph2', 'ssr4', 'ing2', 'ddo', 'th', 'igf1r', 'pih1d1', 'ercc5', 'tspan10', 'dcun1d5', 'itgad', 'trpm2', 'palb2', 'pxdnl', 'apoe', 'gcnt2', 'rfx1', 'sertad3', 'set', 'spegnb', 'kank4', 'tmem43', 'znf135', 'jkamp', 'ciapin1', 'mzb1', 'rhobtb2', 'cd81', 'foxk2', 'mbd6', 'icmt', 'trip10', 'phf20l1', 'opn1sw', 'znf222', 'plau', 'snrpd3', 'ccser2', 'pmp22', 'ppp4c', 'cnksr3', 'c3orf18', 'tmem203', 'c17orf58', 'rictor', 'cry2', 'or4a5', 'mns1', 'pkia', 'vcam1', 'hk2', 'gfpt1', 'top2a', 'rrp8', 'prkcg', 'tlr9', 'tssk2', 'prpf4', 'unc13d', 'cep120', 'poc5', 'kcnmb3', 'rhoxf1', 'fam241a', 'fblim1', 'trim69', 'mvk', 'pigo', 'zbtb2', 'dchs2', 'rnasel', 'prkcz', 'gpn3', 'znf233', 'pcdhb3', 'dpm3', 'gucy1a1', 'igf2r', 'adgrv1', 'fut11', 'zup1', 'krtap10-11', 'rnls', 'tuba1a', 'hcrtr2', 'tekt1', 'ncoa6', 'ttc21b', 'acot12', 'st6galnac6', 'znf724', 'grm1', 'cd200r1l', 'def8', 'tmem150a', 'kcnj14', 'srebf1', 'tspan7', 'znf433', 'eif1', 'coil', 'dytn', 'poldip2', 'scgb1c2', 'stom', 'adgrd2', 'coa5', 'trim26', 'tsc22d3', 'hspb6', 'mst1', 'or1i1', 'pkn1', 'rabif', 'afap1l1', 'mei4', 'lmo2', 'psmc6', 'rbfox1', 'taz', 'tbc1d13', 'adam33', 'itpkb', 'col14a1', 'or52w1', 'cryl1', 'cog2', 'gorab', 'zc3h7b', 'lig4', 'slc6a12', 'amacr', 'pknox1', 'slc16a14', 'cyp46a1', 'mfsd6l', 'bbs5', 'osgep', 'prdm9', 'myh14', 'or10ad1', 'tbx1', 'znf446', 'desi1', 'csnk2b', 'cyth3', 'klrk1', 'sprr2f', 'nkx2-3', 'psg7', 'spin4', 'carm1', 'aqr', 'cxcl3', 'emc2', 'efr3a', 'ilf3', 'fabp3', 'znf560', 'pnck', 'gemin2', 'tm4sf1', 'pigk', 'zbtb20', 'lrrc8c', 'zfhx3', 'lcp2', 'adamts7', 'cd83', 'prdm1', 'bend7', 'or56a3', 'nin', 'ppm1l', 'tex2', 'akr1c2'}\n"
     ]
    },
    {
     "data": {
      "text/plain": [
       "{'aars',\n",
       " 'ac004593.3',\n",
       " 'ac005551.1',\n",
       " 'ac007244.1',\n",
       " 'ac007906.2',\n",
       " 'ac008397.1',\n",
       " 'ac008687.4',\n",
       " 'ac010255.3',\n",
       " 'ac010325.1',\n",
       " 'ac011005.1',\n",
       " 'ac011195.2',\n",
       " 'ac013470.2',\n",
       " 'ac015871.1',\n",
       " 'ac021072.1',\n",
       " 'ac021097.2',\n",
       " 'ac025283.2',\n",
       " 'ac025287.4',\n",
       " 'ac067752.1',\n",
       " 'ac072022.2',\n",
       " 'ac073111.4',\n",
       " 'ac087498.1',\n",
       " 'ac090360.1',\n",
       " 'ac091057.6',\n",
       " 'ac092835.1',\n",
       " 'ac093323.1',\n",
       " 'ac099489.1',\n",
       " 'ac104389.5',\n",
       " 'ac106774.4',\n",
       " 'ac113348.1',\n",
       " 'ac115220.1',\n",
       " 'ac118549.1',\n",
       " 'ac119396.1',\n",
       " 'ac132217.2',\n",
       " 'ac134684.8',\n",
       " 'ac135068.1',\n",
       " 'ac138647.1',\n",
       " 'ac187653.1',\n",
       " 'ac233723.1',\n",
       " 'ac236972.4',\n",
       " 'acpp',\n",
       " 'adprhl2',\n",
       " 'adss',\n",
       " 'adssl1',\n",
       " 'al032819.3',\n",
       " 'al109810.2',\n",
       " 'al121578.2',\n",
       " 'al135905.2',\n",
       " 'al160269.1',\n",
       " 'al162231.1',\n",
       " 'al162596.1',\n",
       " 'al353572.3',\n",
       " 'al354761.1',\n",
       " 'al391650.1',\n",
       " 'al445238.1',\n",
       " 'al451007.3',\n",
       " 'al590560.2',\n",
       " 'al603764.2',\n",
       " 'al772284.2',\n",
       " 'al845331.2',\n",
       " 'alg1l',\n",
       " 'ap000552.4',\n",
       " 'ap002495.1',\n",
       " 'arih2os',\n",
       " 'armc4',\n",
       " 'arse',\n",
       " 'atp5md',\n",
       " 'atp5mpl',\n",
       " 'atp6ap1l',\n",
       " 'b3gnt10',\n",
       " 'bhmg1',\n",
       " 'bx255925.3',\n",
       " 'bx276092.9',\n",
       " 'c10orf142',\n",
       " 'c10orf55',\n",
       " 'c11orf40',\n",
       " 'c11orf74',\n",
       " 'c11orf88',\n",
       " 'c12orf10',\n",
       " 'c12orf49',\n",
       " 'c12orf74',\n",
       " 'c12orf81',\n",
       " 'c14orf177',\n",
       " 'c15orf41',\n",
       " 'c16orf58',\n",
       " 'c17orf53',\n",
       " 'c19orf48',\n",
       " 'c19orf57',\n",
       " 'c1orf61',\n",
       " 'c2orf83',\n",
       " 'c2orf91',\n",
       " 'c3orf67',\n",
       " 'c5orf30',\n",
       " 'c5orf60',\n",
       " 'c5orf67',\n",
       " 'c6orf201',\n",
       " 'c6orf223',\n",
       " 'c7orf77',\n",
       " 'c9orf129',\n",
       " 'c9orf92',\n",
       " 'card16',\n",
       " 'card17',\n",
       " 'cars',\n",
       " 'casc1',\n",
       " 'casc4',\n",
       " 'castor3',\n",
       " 'ccdc114',\n",
       " 'ccdc140',\n",
       " 'ccdc151',\n",
       " 'ccdc155',\n",
       " 'ccdc36',\n",
       " 'ccdc39',\n",
       " 'ccdc84',\n",
       " 'cd3eap',\n",
       " 'cenpbd1',\n",
       " 'cllu1os',\n",
       " 'cntd2',\n",
       " 'ct62',\n",
       " 'cxorf21',\n",
       " 'cxorf40a',\n",
       " 'cxorf56',\n",
       " 'cyb561d2',\n",
       " 'dars',\n",
       " 'dec1',\n",
       " 'defb133',\n",
       " 'dirc1',\n",
       " 'dock8-as1',\n",
       " 'dupd1',\n",
       " 'dusp27',\n",
       " 'elfn2',\n",
       " 'elmsan1',\n",
       " 'eloa3',\n",
       " 'eprs',\n",
       " 'fam122a',\n",
       " 'fam122b',\n",
       " 'fam122c',\n",
       " 'fam169b',\n",
       " 'fam192a',\n",
       " 'fam218a',\n",
       " 'fam30a',\n",
       " 'fam49a',\n",
       " 'fam49b',\n",
       " 'fam92b',\n",
       " 'fgfr1op',\n",
       " 'fopnl',\n",
       " 'fp565260.1',\n",
       " 'g6pc',\n",
       " 'gars',\n",
       " 'gcsaml-as1',\n",
       " 'gdf5os',\n",
       " 'glra4',\n",
       " 'golga8m',\n",
       " 'grasp',\n",
       " 'h1f0',\n",
       " 'h1fnt',\n",
       " 'h1foo',\n",
       " 'h1fx',\n",
       " 'h2afj',\n",
       " 'h2afx',\n",
       " 'h2afy',\n",
       " 'h2afy2',\n",
       " 'h2afz',\n",
       " 'h2bfm',\n",
       " 'h2bfwt',\n",
       " 'h3.y',\n",
       " 'h3f3a',\n",
       " 'h3f3b',\n",
       " 'h3f3c',\n",
       " 'hars',\n",
       " 'hhla3',\n",
       " 'hist1h1a',\n",
       " 'hist1h1b',\n",
       " 'hist1h1c',\n",
       " 'hist1h1d',\n",
       " 'hist1h1e',\n",
       " 'hist1h2aa',\n",
       " 'hist1h2ac',\n",
       " 'hist1h2ae',\n",
       " 'hist1h2ag',\n",
       " 'hist1h2ai',\n",
       " 'hist1h2ak',\n",
       " 'hist1h2ba',\n",
       " 'hist1h2bb',\n",
       " 'hist1h2bg',\n",
       " 'hist1h2bh',\n",
       " 'hist1h2bn',\n",
       " 'hist1h3e',\n",
       " 'hist1h3g',\n",
       " 'hist1h3h',\n",
       " 'hist1h4b',\n",
       " 'hist1h4c',\n",
       " 'hist1h4e',\n",
       " 'hist1h4g',\n",
       " 'hist1h4i',\n",
       " 'hist1h4j',\n",
       " 'hist2h2be',\n",
       " 'hist3h2a',\n",
       " 'hist3h2bb',\n",
       " 'hist3h3',\n",
       " 'hist4h4',\n",
       " 'hypm',\n",
       " 'iars',\n",
       " 'ick',\n",
       " 'igha1',\n",
       " 'igha2',\n",
       " 'ighd',\n",
       " 'ighe',\n",
       " 'ighg1',\n",
       " 'ighg3',\n",
       " 'ighm',\n",
       " 'igkc',\n",
       " 'iglc1',\n",
       " 'iglc7',\n",
       " 'impad1',\n",
       " 'kars',\n",
       " 'kiaa0355',\n",
       " 'kiaa0556',\n",
       " 'kiaa1211',\n",
       " 'kiaa1211l',\n",
       " 'kiaa1257',\n",
       " 'kiaa1324',\n",
       " 'kiaa1324l',\n",
       " 'kif1bp',\n",
       " 'lars',\n",
       " 'linc02693',\n",
       " 'linc02694',\n",
       " 'lor',\n",
       " 'lrmp',\n",
       " 'lrp5l',\n",
       " 'lrrc29',\n",
       " 'maats1',\n",
       " 'marc1',\n",
       " 'marc2',\n",
       " 'march1',\n",
       " 'march10',\n",
       " 'march11',\n",
       " 'march2',\n",
       " 'march3',\n",
       " 'march4',\n",
       " 'march5',\n",
       " 'march6',\n",
       " 'march7',\n",
       " 'march8',\n",
       " 'march9',\n",
       " 'mars',\n",
       " 'mir1915hg',\n",
       " 'mrvi1',\n",
       " 'mycnos',\n",
       " 'nars',\n",
       " 'nxf5',\n",
       " 'or5r1',\n",
       " 'palm2-akap2',\n",
       " 'pano1',\n",
       " 'pde11a',\n",
       " 'pih1d3',\n",
       " 'pinx1',\n",
       " 'polr2j3',\n",
       " 'ppp5d1',\n",
       " 'prky',\n",
       " 'qars',\n",
       " 'rars',\n",
       " 'rgs5',\n",
       " 'sars',\n",
       " 'sfta3',\n",
       " 'siglec5',\n",
       " 'slc26a10',\n",
       " 'slc66a1l',\n",
       " 'slfn12l',\n",
       " 'snhg32',\n",
       " 'spata13',\n",
       " 'spata8',\n",
       " 'spert',\n",
       " 'sspo',\n",
       " 'st5',\n",
       " 'tars',\n",
       " 'tarsl2',\n",
       " 'tbce',\n",
       " 'tcte3',\n",
       " 'tctex1d1',\n",
       " 'tctex1d2',\n",
       " 'tctex1d4',\n",
       " 'terc',\n",
       " 'tmem155',\n",
       " 'tmem173',\n",
       " 'tmem189',\n",
       " 'tmem246',\n",
       " 'tmem8a',\n",
       " 'tmem99',\n",
       " 'tmsb15b',\n",
       " 'trac',\n",
       " 'trbc1',\n",
       " 'trbc2',\n",
       " 'trdc',\n",
       " 'trgc1',\n",
       " 'trgc2',\n",
       " 'trgjp1',\n",
       " 'trgjp2',\n",
       " 'trim16l',\n",
       " 'tsta3',\n",
       " 'ttc25',\n",
       " 'twistnb',\n",
       " 'vars',\n",
       " 'wars',\n",
       " 'wdr34',\n",
       " 'wdr60',\n",
       " 'wdr63',\n",
       " 'wdr66',\n",
       " 'wdr78',\n",
       " 'wdyhv1',\n",
       " 'yars',\n",
       " 'z82206.1',\n",
       " 'znf883',\n",
       " 'znrd1'}"
      ]
     },
     "execution_count": 4,
     "metadata": {},
     "output_type": "execute_result"
    }
   ],
   "source": [
    "# 将所有基因名称转换为小写\n",
    "all_genes_lower = [gene.lower() for gene in all_genes]\n",
    "adata_genes_lower = [gene.lower() for gene in existing_genes]\n",
    "\n",
    "# 将两个列表转换为集合\n",
    "all_genes_set = set(all_genes_lower)\n",
    "adata_genes_set = set(adata_genes_lower)\n",
    "\n",
    "# 计算交集\n",
    "matching_genes = all_genes_set.intersection(adata_genes_set)\n",
    "matching_count = len(matching_genes)\n",
    "# 计算不匹配的基因\n",
    "non_matching_genes = adata_genes_set - matching_genes\n",
    "non_matching_count = len(non_matching_genes)\n",
    "\n",
    "\n",
    "# 输出结果\n",
    "print(f\"匹配的基因数量: {matching_count}\")\n",
    "print(f\"匹配的基因列表: {matching_genes}\")\n",
    "non_matching_genes"
   ]
  },
  {
   "cell_type": "code",
   "execution_count": 5,
   "metadata": {
    "execution": {
     "iopub.execute_input": "2025-04-12T08:11:52.704290Z",
     "iopub.status.busy": "2025-04-12T08:11:52.704145Z",
     "iopub.status.idle": "2025-04-12T08:12:59.521420Z",
     "shell.execute_reply": "2025-04-12T08:12:59.520604Z"
    }
   },
   "outputs": [
    {
     "name": "stdout",
     "output_type": "stream",
     "text": [
      "Gene fam49a not found in all_genes list\n",
      "Gene kars not found in all_genes list\n",
      "Gene lars not found in all_genes list\n"
     ]
    },
    {
     "name": "stdout",
     "output_type": "stream",
     "text": [
      "Gene nars not found in all_genes list\n",
      "Gene polr2j3 not found in all_genes list\n",
      "Gene qars not found in all_genes list\n"
     ]
    },
    {
     "name": "stdout",
     "output_type": "stream",
     "text": [
      "Gene trac not found in all_genes list\n",
      "Gene wars not found in all_genes list\n",
      "Gene aars not found in all_genes list\n"
     ]
    },
    {
     "name": "stdout",
     "output_type": "stream",
     "text": [
      "Gene ac004593.3 not found in all_genes list\n",
      "Gene ac005551.1 not found in all_genes list\n",
      "Gene ac007244.1 not found in all_genes list\n",
      "Gene ac007906.2 not found in all_genes list\n",
      "Gene ac008397.1 not found in all_genes list\n",
      "Gene ac008687.4 not found in all_genes list\n",
      "Gene ac010255.3 not found in all_genes list\n",
      "Gene ac010325.1 not found in all_genes list\n",
      "Gene ac011005.1 not found in all_genes list\n",
      "Gene ac011195.2 not found in all_genes list\n",
      "Gene ac013470.2 not found in all_genes list\n",
      "Gene ac015871.1 not found in all_genes list\n",
      "Gene ac021072.1 not found in all_genes list\n",
      "Gene ac021097.2 not found in all_genes list\n",
      "Gene ac025283.2 not found in all_genes list\n",
      "Gene ac025287.4 not found in all_genes list\n",
      "Gene ac067752.1 not found in all_genes list\n",
      "Gene ac072022.2 not found in all_genes list\n",
      "Gene ac073111.4 not found in all_genes list\n",
      "Gene ac087498.1 not found in all_genes list\n",
      "Gene ac090360.1 not found in all_genes list\n",
      "Gene ac091057.6 not found in all_genes list\n",
      "Gene ac092835.1 not found in all_genes list\n",
      "Gene ac093323.1 not found in all_genes list\n",
      "Gene ac099489.1 not found in all_genes list\n",
      "Gene ac104389.5 not found in all_genes list\n",
      "Gene ac106774.4 not found in all_genes list\n",
      "Gene ac113348.1 not found in all_genes list\n",
      "Gene ac115220.1 not found in all_genes list\n",
      "Gene ac118549.1 not found in all_genes list\n",
      "Gene ac119396.1 not found in all_genes list\n",
      "Gene ac132217.2 not found in all_genes list\n",
      "Gene ac134684.8 not found in all_genes list\n",
      "Gene ac135068.1 not found in all_genes list\n",
      "Gene ac138647.1 not found in all_genes list\n",
      "Gene ac187653.1 not found in all_genes list\n",
      "Gene ac233723.1 not found in all_genes list\n",
      "Gene ac236972.4 not found in all_genes list\n"
     ]
    },
    {
     "name": "stdout",
     "output_type": "stream",
     "text": [
      "Gene acpp not found in all_genes list\n"
     ]
    },
    {
     "name": "stdout",
     "output_type": "stream",
     "text": [
      "Gene adprhl2 not found in all_genes list\n",
      "Gene adss not found in all_genes list\n",
      "Gene adssl1 not found in all_genes list\n"
     ]
    },
    {
     "name": "stdout",
     "output_type": "stream",
     "text": [
      "Gene al032819.3 not found in all_genes list\n",
      "Gene al109810.2 not found in all_genes list\n",
      "Gene al121578.2 not found in all_genes list\n",
      "Gene al135905.2 not found in all_genes list\n",
      "Gene al160269.1 not found in all_genes list\n",
      "Gene al162231.1 not found in all_genes list\n",
      "Gene al162596.1 not found in all_genes list\n",
      "Gene al353572.3 not found in all_genes list\n",
      "Gene al354761.1 not found in all_genes list\n",
      "Gene al391650.1 not found in all_genes list\n",
      "Gene al445238.1 not found in all_genes list\n",
      "Gene al451007.3 not found in all_genes list\n",
      "Gene al590560.2 not found in all_genes list\n",
      "Gene al603764.2 not found in all_genes list\n",
      "Gene al772284.2 not found in all_genes list\n",
      "Gene al845331.2 not found in all_genes list\n",
      "Gene alg1l not found in all_genes list\n"
     ]
    },
    {
     "name": "stdout",
     "output_type": "stream",
     "text": [
      "Gene ap000552.4 not found in all_genes list\n",
      "Gene ap002495.1 not found in all_genes list\n"
     ]
    },
    {
     "name": "stdout",
     "output_type": "stream",
     "text": [
      "Gene arih2os not found in all_genes list\n",
      "Gene armc4 not found in all_genes list\n"
     ]
    },
    {
     "name": "stdout",
     "output_type": "stream",
     "text": [
      "Gene arse not found in all_genes list\n"
     ]
    },
    {
     "name": "stdout",
     "output_type": "stream",
     "text": [
      "Gene atp5md not found in all_genes list\n",
      "Gene atp5mpl not found in all_genes list\n",
      "Gene atp6ap1l not found in all_genes list\n"
     ]
    },
    {
     "name": "stdout",
     "output_type": "stream",
     "text": [
      "Gene b3gnt10 not found in all_genes list\n"
     ]
    },
    {
     "name": "stdout",
     "output_type": "stream",
     "text": [
      "Gene bhmg1 not found in all_genes list\n"
     ]
    },
    {
     "name": "stdout",
     "output_type": "stream",
     "text": [
      "Gene bx255925.3 not found in all_genes list\n",
      "Gene bx276092.9 not found in all_genes list\n",
      "Gene c10orf142 not found in all_genes list\n",
      "Gene c10orf55 not found in all_genes list\n",
      "Gene c11orf40 not found in all_genes list\n",
      "Gene c11orf74 not found in all_genes list\n",
      "Gene c11orf88 not found in all_genes list\n",
      "Gene c12orf10 not found in all_genes list\n",
      "Gene c12orf49 not found in all_genes list\n",
      "Gene c12orf74 not found in all_genes list\n",
      "Gene c12orf81 not found in all_genes list\n",
      "Gene c14orf177 not found in all_genes list\n",
      "Gene c15orf41 not found in all_genes list\n"
     ]
    },
    {
     "name": "stdout",
     "output_type": "stream",
     "text": [
      "Gene c16orf58 not found in all_genes list\n",
      "Gene c17orf53 not found in all_genes list\n",
      "Gene c19orf48 not found in all_genes list\n",
      "Gene c19orf57 not found in all_genes list\n"
     ]
    },
    {
     "name": "stdout",
     "output_type": "stream",
     "text": [
      "Gene c1orf61 not found in all_genes list\n",
      "Gene c2orf83 not found in all_genes list\n",
      "Gene c2orf91 not found in all_genes list\n",
      "Gene c3orf67 not found in all_genes list\n"
     ]
    },
    {
     "name": "stdout",
     "output_type": "stream",
     "text": [
      "Gene c5orf30 not found in all_genes list\n",
      "Gene c5orf60 not found in all_genes list\n",
      "Gene c5orf67 not found in all_genes list\n",
      "Gene c6orf201 not found in all_genes list\n",
      "Gene c6orf223 not found in all_genes list\n",
      "Gene c7orf77 not found in all_genes list\n",
      "Gene c9orf129 not found in all_genes list\n",
      "Gene c9orf92 not found in all_genes list\n"
     ]
    },
    {
     "name": "stdout",
     "output_type": "stream",
     "text": [
      "Gene card16 not found in all_genes list\n",
      "Gene card17 not found in all_genes list\n",
      "Gene cars not found in all_genes list\n",
      "Gene casc1 not found in all_genes list\n",
      "Gene casc4 not found in all_genes list\n",
      "Gene castor3 not found in all_genes list\n"
     ]
    },
    {
     "name": "stdout",
     "output_type": "stream",
     "text": [
      "Gene ccdc114 not found in all_genes list\n",
      "Gene ccdc140 not found in all_genes list\n",
      "Gene ccdc151 not found in all_genes list\n",
      "Gene ccdc155 not found in all_genes list\n"
     ]
    },
    {
     "name": "stdout",
     "output_type": "stream",
     "text": [
      "Gene ccdc36 not found in all_genes list\n",
      "Gene ccdc39 not found in all_genes list\n",
      "Gene ccdc84 not found in all_genes list\n"
     ]
    },
    {
     "name": "stdout",
     "output_type": "stream",
     "text": [
      "Gene cd3eap not found in all_genes list\n"
     ]
    },
    {
     "name": "stdout",
     "output_type": "stream",
     "text": [
      "Gene cenpbd1 not found in all_genes list\n"
     ]
    },
    {
     "name": "stdout",
     "output_type": "stream",
     "text": [
      "Gene cllu1os not found in all_genes list\n"
     ]
    },
    {
     "name": "stdout",
     "output_type": "stream",
     "text": [
      "Gene cntd2 not found in all_genes list\n"
     ]
    },
    {
     "name": "stdout",
     "output_type": "stream",
     "text": [
      "Gene ct62 not found in all_genes list\n"
     ]
    },
    {
     "name": "stdout",
     "output_type": "stream",
     "text": [
      "Gene cxorf21 not found in all_genes list\n",
      "Gene cxorf40a not found in all_genes list\n",
      "Gene cxorf56 not found in all_genes list\n",
      "Gene cyb561d2 not found in all_genes list\n"
     ]
    },
    {
     "name": "stdout",
     "output_type": "stream",
     "text": [
      "Gene dars not found in all_genes list\n"
     ]
    },
    {
     "name": "stdout",
     "output_type": "stream",
     "text": [
      "Gene dec1 not found in all_genes list\n",
      "Gene defb133 not found in all_genes list\n"
     ]
    },
    {
     "name": "stdout",
     "output_type": "stream",
     "text": [
      "Gene dirc1 not found in all_genes list\n"
     ]
    },
    {
     "name": "stdout",
     "output_type": "stream",
     "text": [
      "Gene dock8-as1 not found in all_genes list\n"
     ]
    },
    {
     "name": "stdout",
     "output_type": "stream",
     "text": [
      "Gene dupd1 not found in all_genes list\n",
      "Gene dusp27 not found in all_genes list\n"
     ]
    },
    {
     "name": "stdout",
     "output_type": "stream",
     "text": [
      "Gene elfn2 not found in all_genes list\n",
      "Gene elmsan1 not found in all_genes list\n",
      "Gene eloa3 not found in all_genes list\n"
     ]
    },
    {
     "name": "stdout",
     "output_type": "stream",
     "text": [
      "Gene eprs not found in all_genes list\n"
     ]
    },
    {
     "name": "stdout",
     "output_type": "stream",
     "text": [
      "Gene fam122a not found in all_genes list\n",
      "Gene fam122b not found in all_genes list\n",
      "Gene fam122c not found in all_genes list\n",
      "Gene fam169b not found in all_genes list\n"
     ]
    },
    {
     "name": "stdout",
     "output_type": "stream",
     "text": [
      "Gene fam192a not found in all_genes list\n",
      "Gene fam218a not found in all_genes list\n",
      "Gene fam30a not found in all_genes list\n",
      "Gene fam49b not found in all_genes list\n"
     ]
    },
    {
     "name": "stdout",
     "output_type": "stream",
     "text": [
      "Gene fam92b not found in all_genes list\n"
     ]
    },
    {
     "name": "stdout",
     "output_type": "stream",
     "text": [
      "Gene fgfr1op not found in all_genes list\n"
     ]
    },
    {
     "name": "stdout",
     "output_type": "stream",
     "text": [
      "Gene fopnl not found in all_genes list\n",
      "Gene fp565260.1 not found in all_genes list\n"
     ]
    },
    {
     "name": "stdout",
     "output_type": "stream",
     "text": [
      "Gene g6pc not found in all_genes list\n"
     ]
    },
    {
     "name": "stdout",
     "output_type": "stream",
     "text": [
      "Gene gars not found in all_genes list\n"
     ]
    },
    {
     "name": "stdout",
     "output_type": "stream",
     "text": [
      "Gene gcsaml-as1 not found in all_genes list\n",
      "Gene gdf5os not found in all_genes list\n"
     ]
    },
    {
     "name": "stdout",
     "output_type": "stream",
     "text": [
      "Gene glra4 not found in all_genes list\n"
     ]
    },
    {
     "name": "stdout",
     "output_type": "stream",
     "text": [
      "Gene golga8m not found in all_genes list\n"
     ]
    },
    {
     "name": "stdout",
     "output_type": "stream",
     "text": [
      "Gene grasp not found in all_genes list\n"
     ]
    },
    {
     "name": "stdout",
     "output_type": "stream",
     "text": [
      "Gene h1f0 not found in all_genes list\n",
      "Gene h1fnt not found in all_genes list\n",
      "Gene h1foo not found in all_genes list\n",
      "Gene h1fx not found in all_genes list\n",
      "Gene h2afj not found in all_genes list\n",
      "Gene h2afx not found in all_genes list\n",
      "Gene h2afy not found in all_genes list\n",
      "Gene h2afy2 not found in all_genes list\n",
      "Gene h2afz not found in all_genes list\n",
      "Gene h2bfm not found in all_genes list\n",
      "Gene h2bfwt not found in all_genes list\n",
      "Gene h3.y not found in all_genes list\n",
      "Gene h3f3a not found in all_genes list\n",
      "Gene h3f3b not found in all_genes list\n",
      "Gene h3f3c not found in all_genes list\n",
      "Gene hars not found in all_genes list\n"
     ]
    },
    {
     "name": "stdout",
     "output_type": "stream",
     "text": [
      "Gene hhla3 not found in all_genes list\n",
      "Gene hist1h1a not found in all_genes list\n",
      "Gene hist1h1b not found in all_genes list\n",
      "Gene hist1h1c not found in all_genes list\n",
      "Gene hist1h1d not found in all_genes list\n",
      "Gene hist1h1e not found in all_genes list\n",
      "Gene hist1h2aa not found in all_genes list\n",
      "Gene hist1h2ac not found in all_genes list\n",
      "Gene hist1h2ae not found in all_genes list\n",
      "Gene hist1h2ag not found in all_genes list\n",
      "Gene hist1h2ai not found in all_genes list\n",
      "Gene hist1h2ak not found in all_genes list\n",
      "Gene hist1h2ba not found in all_genes list\n",
      "Gene hist1h2bb not found in all_genes list\n",
      "Gene hist1h2bg not found in all_genes list\n",
      "Gene hist1h2bh not found in all_genes list\n",
      "Gene hist1h2bn not found in all_genes list\n",
      "Gene hist1h3e not found in all_genes list\n",
      "Gene hist1h3g not found in all_genes list\n",
      "Gene hist1h3h not found in all_genes list\n",
      "Gene hist1h4b not found in all_genes list\n",
      "Gene hist1h4c not found in all_genes list\n",
      "Gene hist1h4e not found in all_genes list\n",
      "Gene hist1h4g not found in all_genes list\n",
      "Gene hist1h4i not found in all_genes list\n",
      "Gene hist1h4j not found in all_genes list\n",
      "Gene hist2h2be not found in all_genes list\n",
      "Gene hist3h2a not found in all_genes list\n",
      "Gene hist3h2bb not found in all_genes list\n",
      "Gene hist3h3 not found in all_genes list\n",
      "Gene hist4h4 not found in all_genes list\n"
     ]
    },
    {
     "name": "stdout",
     "output_type": "stream",
     "text": [
      "Gene hypm not found in all_genes list\n",
      "Gene iars not found in all_genes list\n",
      "Gene ick not found in all_genes list\n"
     ]
    },
    {
     "name": "stdout",
     "output_type": "stream",
     "text": [
      "Gene igha1 not found in all_genes list\n",
      "Gene igha2 not found in all_genes list\n",
      "Gene ighd not found in all_genes list\n",
      "Gene ighe not found in all_genes list\n",
      "Gene ighg1 not found in all_genes list\n",
      "Gene ighg3 not found in all_genes list\n",
      "Gene ighm not found in all_genes list\n",
      "Gene igkc not found in all_genes list\n",
      "Gene iglc1 not found in all_genes list\n",
      "Gene iglc7 not found in all_genes list\n"
     ]
    },
    {
     "name": "stdout",
     "output_type": "stream",
     "text": [
      "Gene impad1 not found in all_genes list\n"
     ]
    },
    {
     "name": "stdout",
     "output_type": "stream",
     "text": [
      "Gene kiaa0355 not found in all_genes list\n",
      "Gene kiaa0556 not found in all_genes list\n",
      "Gene kiaa1211 not found in all_genes list\n",
      "Gene kiaa1211l not found in all_genes list\n",
      "Gene kiaa1257 not found in all_genes list\n",
      "Gene kiaa1324 not found in all_genes list\n",
      "Gene kiaa1324l not found in all_genes list\n",
      "Gene kif1bp not found in all_genes list\n"
     ]
    },
    {
     "name": "stdout",
     "output_type": "stream",
     "text": [
      "Gene linc02693 not found in all_genes list\n",
      "Gene linc02694 not found in all_genes list\n"
     ]
    },
    {
     "name": "stdout",
     "output_type": "stream",
     "text": [
      "Gene lor not found in all_genes list\n",
      "Gene lrmp not found in all_genes list\n",
      "Gene lrp5l not found in all_genes list\n"
     ]
    },
    {
     "name": "stdout",
     "output_type": "stream",
     "text": [
      "Gene lrrc29 not found in all_genes list\n"
     ]
    },
    {
     "name": "stdout",
     "output_type": "stream",
     "text": [
      "Gene maats1 not found in all_genes list\n"
     ]
    },
    {
     "name": "stdout",
     "output_type": "stream",
     "text": [
      "Gene marc1 not found in all_genes list\n",
      "Gene marc2 not found in all_genes list\n",
      "Gene march1 not found in all_genes list\n",
      "Gene march10 not found in all_genes list\n",
      "Gene march11 not found in all_genes list\n",
      "Gene march2 not found in all_genes list\n",
      "Gene march3 not found in all_genes list\n",
      "Gene march4 not found in all_genes list\n",
      "Gene march5 not found in all_genes list\n",
      "Gene march6 not found in all_genes list\n",
      "Gene march7 not found in all_genes list\n",
      "Gene march8 not found in all_genes list\n",
      "Gene march9 not found in all_genes list\n",
      "Gene mars not found in all_genes list\n"
     ]
    },
    {
     "name": "stdout",
     "output_type": "stream",
     "text": [
      "Gene mir1915hg not found in all_genes list\n"
     ]
    },
    {
     "name": "stdout",
     "output_type": "stream",
     "text": [
      "Gene mrvi1 not found in all_genes list\n"
     ]
    },
    {
     "name": "stdout",
     "output_type": "stream",
     "text": [
      "Gene mycnos not found in all_genes list\n"
     ]
    },
    {
     "name": "stdout",
     "output_type": "stream",
     "text": [
      "Gene nxf5 not found in all_genes list\n"
     ]
    },
    {
     "name": "stdout",
     "output_type": "stream",
     "text": [
      "Gene or5r1 not found in all_genes list\n"
     ]
    },
    {
     "name": "stdout",
     "output_type": "stream",
     "text": [
      "Gene palm2-akap2 not found in all_genes list\n",
      "Gene pano1 not found in all_genes list\n"
     ]
    },
    {
     "name": "stdout",
     "output_type": "stream",
     "text": [
      "Gene pde11a not found in all_genes list\n"
     ]
    },
    {
     "name": "stdout",
     "output_type": "stream",
     "text": [
      "Gene pih1d3 not found in all_genes list\n",
      "Gene pinx1 not found in all_genes list\n"
     ]
    },
    {
     "name": "stdout",
     "output_type": "stream",
     "text": [
      "Gene ppp5d1 not found in all_genes list\n"
     ]
    },
    {
     "name": "stdout",
     "output_type": "stream",
     "text": [
      "Gene prky not found in all_genes list\n"
     ]
    },
    {
     "name": "stdout",
     "output_type": "stream",
     "text": [
      "Gene rars not found in all_genes list\n"
     ]
    },
    {
     "name": "stdout",
     "output_type": "stream",
     "text": [
      "Gene rgs5 not found in all_genes list\n"
     ]
    },
    {
     "name": "stdout",
     "output_type": "stream",
     "text": [
      "Gene sars not found in all_genes list\n"
     ]
    },
    {
     "name": "stdout",
     "output_type": "stream",
     "text": [
      "Gene sfta3 not found in all_genes list\n"
     ]
    },
    {
     "name": "stdout",
     "output_type": "stream",
     "text": [
      "Gene siglec5 not found in all_genes list\n"
     ]
    },
    {
     "name": "stdout",
     "output_type": "stream",
     "text": [
      "Gene slc26a10 not found in all_genes list\n"
     ]
    },
    {
     "name": "stdout",
     "output_type": "stream",
     "text": [
      "Gene slc66a1l not found in all_genes list\n"
     ]
    },
    {
     "name": "stdout",
     "output_type": "stream",
     "text": [
      "Gene slfn12l not found in all_genes list\n"
     ]
    },
    {
     "name": "stdout",
     "output_type": "stream",
     "text": [
      "Gene snhg32 not found in all_genes list\n"
     ]
    },
    {
     "name": "stdout",
     "output_type": "stream",
     "text": [
      "Gene spata13 not found in all_genes list\n",
      "Gene spata8 not found in all_genes list\n"
     ]
    },
    {
     "name": "stdout",
     "output_type": "stream",
     "text": [
      "Gene spert not found in all_genes list\n"
     ]
    },
    {
     "name": "stdout",
     "output_type": "stream",
     "text": [
      "Gene sspo not found in all_genes list\n",
      "Gene st5 not found in all_genes list\n"
     ]
    },
    {
     "name": "stdout",
     "output_type": "stream",
     "text": [
      "Gene tars not found in all_genes list\n",
      "Gene tarsl2 not found in all_genes list\n"
     ]
    },
    {
     "name": "stdout",
     "output_type": "stream",
     "text": [
      "Gene tbce not found in all_genes list\n"
     ]
    },
    {
     "name": "stdout",
     "output_type": "stream",
     "text": [
      "Gene tcte3 not found in all_genes list\n",
      "Gene tctex1d1 not found in all_genes list\n",
      "Gene tctex1d2 not found in all_genes list\n",
      "Gene tctex1d4 not found in all_genes list\n"
     ]
    },
    {
     "name": "stdout",
     "output_type": "stream",
     "text": [
      "Gene terc not found in all_genes list\n"
     ]
    },
    {
     "name": "stdout",
     "output_type": "stream",
     "text": [
      "Gene tmem155 not found in all_genes list\n",
      "Gene tmem173 not found in all_genes list\n",
      "Gene tmem189 not found in all_genes list\n"
     ]
    },
    {
     "name": "stdout",
     "output_type": "stream",
     "text": [
      "Gene tmem246 not found in all_genes list\n"
     ]
    },
    {
     "name": "stdout",
     "output_type": "stream",
     "text": [
      "Gene tmem8a not found in all_genes list\n",
      "Gene tmem99 not found in all_genes list\n",
      "Gene tmsb15b not found in all_genes list\n"
     ]
    },
    {
     "name": "stdout",
     "output_type": "stream",
     "text": [
      "Gene trbc1 not found in all_genes list\n",
      "Gene trbc2 not found in all_genes list\n",
      "Gene trdc not found in all_genes list\n",
      "Gene trgc1 not found in all_genes list\n",
      "Gene trgc2 not found in all_genes list\n",
      "Gene trgjp1 not found in all_genes list\n",
      "Gene trgjp2 not found in all_genes list\n",
      "Gene trim16l not found in all_genes list\n"
     ]
    },
    {
     "name": "stdout",
     "output_type": "stream",
     "text": [
      "Gene tsta3 not found in all_genes list\n",
      "Gene ttc25 not found in all_genes list\n"
     ]
    },
    {
     "name": "stdout",
     "output_type": "stream",
     "text": [
      "Gene twistnb not found in all_genes list\n"
     ]
    },
    {
     "name": "stdout",
     "output_type": "stream",
     "text": [
      "Gene vars not found in all_genes list\n"
     ]
    },
    {
     "name": "stdout",
     "output_type": "stream",
     "text": [
      "Gene wdr34 not found in all_genes list\n",
      "Gene wdr60 not found in all_genes list\n",
      "Gene wdr63 not found in all_genes list\n",
      "Gene wdr66 not found in all_genes list\n",
      "Gene wdr78 not found in all_genes list\n",
      "Gene wdyhv1 not found in all_genes list\n"
     ]
    },
    {
     "name": "stdout",
     "output_type": "stream",
     "text": [
      "Gene yars not found in all_genes list\n",
      "Gene z82206.1 not found in all_genes list\n"
     ]
    },
    {
     "name": "stdout",
     "output_type": "stream",
     "text": [
      "Gene znf883 not found in all_genes list\n",
      "Gene znrd1 not found in all_genes list\n"
     ]
    }
   ],
   "source": [
    "gene_to_index = {gene: idx for idx, gene in enumerate(all_genes_lower)}\n",
    "dense_adata_X = adata.X\n",
    "for i, gene in enumerate(adata_genes_lower):\n",
    "    if gene in gene_to_index:\n",
    "        new_data[:, gene_to_index[gene]] = dense_adata_X[:, i]\n",
    "    else:\n",
    "        print(f'Gene {gene} not found in all_genes list')"
   ]
  },
  {
   "cell_type": "code",
   "execution_count": 6,
   "metadata": {
    "execution": {
     "iopub.execute_input": "2025-04-12T08:12:59.523526Z",
     "iopub.status.busy": "2025-04-12T08:12:59.523335Z",
     "iopub.status.idle": "2025-04-12T08:13:04.583218Z",
     "shell.execute_reply": "2025-04-12T08:13:04.582626Z"
    }
   },
   "outputs": [
    {
     "name": "stderr",
     "output_type": "stream",
     "text": [
      "GPU available: True (cuda), used: True\n"
     ]
    },
    {
     "name": "stderr",
     "output_type": "stream",
     "text": [
      "TPU available: False, using: 0 TPU cores\n"
     ]
    },
    {
     "name": "stderr",
     "output_type": "stream",
     "text": [
      "HPU available: False, using: 0 HPUs\n"
     ]
    }
   ],
   "source": [
    "# 使用 GPU 进行评估（如果可用）\n",
    "estim.trainer = pl.Trainer(accelerator=\"gpu\", devices=1 if torch.cuda.is_available() else None)\n",
    "\n",
    "# 5. 数据集划分（70% 训练，15% 验证，15% 测试）\n",
    "label_encoder = LabelEncoder()\n",
    "labels_encoded = label_encoder.fit_transform(adata.obs['cell_type'])  # 预先编码标签\n",
    "\n",
    "\n",
    "random_seed = 42\n",
    "\n",
    "X_train_val, X_test, y_train_val, y_test = train_test_split(\n",
    "    new_data, labels_encoded, test_size=0.15, random_state=random_seed)\n",
    "\n",
    "X_train, X_val, y_train, y_val = train_test_split(\n",
    "    X_train_val, y_train_val, test_size=0.1765, random_state=random_seed)  # 0.1765 是为了让验证集占 15%"
   ]
  },
  {
   "cell_type": "code",
   "execution_count": 7,
   "metadata": {
    "execution": {
     "iopub.execute_input": "2025-04-12T08:13:04.584896Z",
     "iopub.status.busy": "2025-04-12T08:13:04.584737Z",
     "iopub.status.idle": "2025-04-12T08:13:06.255192Z",
     "shell.execute_reply": "2025-04-12T08:13:06.254703Z"
    }
   },
   "outputs": [
    {
     "data": {
      "text/plain": [
       "MLPAutoEncoder(\n",
       "  (train_metrics): MetricCollection(\n",
       "    (explained_var_uniform): ExplainedVariance()\n",
       "    (explained_var_weighted): ExplainedVariance()\n",
       "    (mse): MeanSquaredError(),\n",
       "    prefix=train_\n",
       "  )\n",
       "  (val_metrics): MetricCollection(\n",
       "    (explained_var_uniform): ExplainedVariance()\n",
       "    (explained_var_weighted): ExplainedVariance()\n",
       "    (mse): MeanSquaredError(),\n",
       "    prefix=val_\n",
       "  )\n",
       "  (test_metrics): MetricCollection(\n",
       "    (explained_var_uniform): ExplainedVariance()\n",
       "    (explained_var_weighted): ExplainedVariance()\n",
       "    (mse): MeanSquaredError(),\n",
       "    prefix=test_\n",
       "  )\n",
       "  (encoder): MLP(\n",
       "    (0): Linear(in_features=19331, out_features=512, bias=True)\n",
       "    (1): SELU()\n",
       "    (2): Dropout(p=0.1, inplace=False)\n",
       "    (3): Linear(in_features=512, out_features=512, bias=True)\n",
       "    (4): SELU()\n",
       "    (5): Dropout(p=0.1, inplace=False)\n",
       "    (6): Linear(in_features=512, out_features=256, bias=True)\n",
       "    (7): SELU()\n",
       "    (8): Dropout(p=0.1, inplace=False)\n",
       "    (9): Linear(in_features=256, out_features=256, bias=True)\n",
       "    (10): SELU()\n",
       "    (11): Dropout(p=0.1, inplace=False)\n",
       "    (12): Linear(in_features=256, out_features=64, bias=True)\n",
       "  )\n",
       "  (decoder): Sequential(\n",
       "    (0): MLP(\n",
       "      (0): Linear(in_features=64, out_features=256, bias=True)\n",
       "      (1): SELU()\n",
       "      (2): Dropout(p=0.1, inplace=False)\n",
       "      (3): Linear(in_features=256, out_features=256, bias=True)\n",
       "      (4): SELU()\n",
       "      (5): Dropout(p=0.1, inplace=False)\n",
       "      (6): Linear(in_features=256, out_features=512, bias=True)\n",
       "      (7): SELU()\n",
       "      (8): Dropout(p=0.1, inplace=False)\n",
       "      (9): Linear(in_features=512, out_features=512, bias=True)\n",
       "      (10): SELU()\n",
       "      (11): Dropout(p=0.1, inplace=False)\n",
       "      (12): Linear(in_features=512, out_features=19331, bias=True)\n",
       "    )\n",
       "    (1): Sigmoid()\n",
       "  )\n",
       "  (fc): Linear(in_features=64, out_features=20, bias=True)\n",
       ")"
      ]
     },
     "execution_count": 7,
     "metadata": {},
     "output_type": "execute_result"
    }
   ],
   "source": [
    "# 将训练数据转换为张量\n",
    "device = torch.device(\"cuda\" if torch.cuda.is_available() else \"cpu\")\n",
    "X_train_tensor = torch.tensor(X_train).float().to(device)\n",
    "y_train_tensor = torch.tensor(y_train).long().to(device)\n",
    "X_val_tensor = torch.tensor(X_val).float().to(device)\n",
    "y_val_tensor = torch.tensor(y_val).long().to(device)\n",
    "estim.model.to(device)"
   ]
  },
  {
   "cell_type": "code",
   "execution_count": 8,
   "metadata": {
    "execution": {
     "iopub.execute_input": "2025-04-12T08:13:06.256763Z",
     "iopub.status.busy": "2025-04-12T08:13:06.256595Z",
     "iopub.status.idle": "2025-04-12T08:13:06.259687Z",
     "shell.execute_reply": "2025-04-12T08:13:06.259262Z"
    }
   },
   "outputs": [],
   "source": [
    "# 6. 微调模型，仅微调 encoder 的最后两层，其他层参数冻结\n",
    "for param in estim.model.encoder.parameters():\n",
    "    param.requires_grad = False  # 冻结所有层\n",
    "\n",
    "# 解冻最后两层\n",
    "for param in list(estim.model.encoder.parameters())[-5:]:\n",
    "    param.requires_grad = True"
   ]
  },
  {
   "cell_type": "code",
   "execution_count": 9,
   "metadata": {
    "execution": {
     "iopub.execute_input": "2025-04-12T08:13:06.260928Z",
     "iopub.status.busy": "2025-04-12T08:13:06.260786Z",
     "iopub.status.idle": "2025-04-12T08:13:06.264061Z",
     "shell.execute_reply": "2025-04-12T08:13:06.263638Z"
    }
   },
   "outputs": [],
   "source": [
    "# 定义损失函数和优化器\n",
    "loss_fn = nn.CrossEntropyLoss()\n",
    "optimizer = AdamW(filter(lambda p: p.requires_grad, estim.model.parameters()), lr=9e-4, weight_decay=0.05)\n",
    "scheduler = torch.optim.lr_scheduler.StepLR(optimizer, step_size=2, gamma=0.9)"
   ]
  },
  {
   "cell_type": "code",
   "execution_count": 10,
   "metadata": {
    "execution": {
     "iopub.execute_input": "2025-04-12T08:13:06.265314Z",
     "iopub.status.busy": "2025-04-12T08:13:06.265163Z",
     "iopub.status.idle": "2025-04-12T08:13:06.270319Z",
     "shell.execute_reply": "2025-04-12T08:13:06.269873Z"
    }
   },
   "outputs": [],
   "source": [
    "from torch.utils.data import DataLoader, TensorDataset\n",
    "\n",
    "# 设置 batch size\n",
    "batch_size = 128  # 根据实际需求调整 batch size\n",
    "\n",
    "# 使用 TensorDataset 将训练数据和标签打包\n",
    "train_dataset = TensorDataset(X_train_tensor, y_train_tensor)\n",
    "val_dataset = TensorDataset(X_val_tensor, y_val_tensor)\n",
    "\n",
    "# 使用 DataLoader 来创建批次\n",
    "train_loader = DataLoader(train_dataset, batch_size=batch_size, shuffle=True)\n",
    "val_loader = DataLoader(val_dataset, batch_size=batch_size, shuffle=False)\n",
    "\n",
    "# 7. 微调模型\n",
    "def train_epoch(model, optimizer, loss_fn, train_loader, val_loader):\n",
    "    model.train()\n",
    "    total_train_loss = 0\n",
    "    \n",
    "    # 训练集批次训练\n",
    "    for X_batch, y_batch in train_loader:\n",
    "        optimizer.zero_grad()\n",
    "        \n",
    "        # 前向传播\n",
    "        outputs = model.encoder(X_batch)\n",
    "        logits = model.fc(outputs)\n",
    "        \n",
    "        # 计算损失\n",
    "        loss = loss_fn(logits, y_batch)\n",
    "        loss.backward()\n",
    "        optimizer.step()\n",
    "        \n",
    "        total_train_loss += loss.item()\n",
    "    \n",
    "    # 验证集\n",
    "    model.eval()\n",
    "    total_val_loss = 0\n",
    "    with torch.no_grad():\n",
    "        for X_val_batch, y_val_batch in val_loader:\n",
    "            val_outputs = model.encoder(X_val_batch)\n",
    "            val_logits = model.fc(val_outputs)\n",
    "            val_loss = loss_fn(val_logits, y_val_batch)\n",
    "            total_val_loss += val_loss.item()\n",
    "\n",
    "    # 返回平均损失\n",
    "    return total_train_loss / len(train_loader), total_val_loss / len(val_loader)"
   ]
  },
  {
   "cell_type": "code",
   "execution_count": 11,
   "metadata": {
    "execution": {
     "iopub.execute_input": "2025-04-12T08:13:06.271577Z",
     "iopub.status.busy": "2025-04-12T08:13:06.271427Z",
     "iopub.status.idle": "2025-04-12T08:14:37.751536Z",
     "shell.execute_reply": "2025-04-12T08:14:37.750814Z"
    }
   },
   "outputs": [
    {
     "name": "stdout",
     "output_type": "stream",
     "text": [
      "Epoch 1, Train Loss: 0.9502979467637139, Validation Loss: 0.7443733427125185\n",
      "Validation loss improved to 0.7443733427125185, resetting patience.\n"
     ]
    },
    {
     "name": "stdout",
     "output_type": "stream",
     "text": [
      "Epoch 2, Train Loss: 0.8505284708309797, Validation Loss: 0.7505142398292038\n",
      "No improvement in validation loss. Patience counter: 1/20\n"
     ]
    },
    {
     "name": "stdout",
     "output_type": "stream",
     "text": [
      "Epoch 3, Train Loss: 0.8329511428970138, Validation Loss: 0.7324008457551753\n",
      "Validation loss improved to 0.7324008457551753, resetting patience.\n"
     ]
    },
    {
     "name": "stdout",
     "output_type": "stream",
     "text": [
      "Epoch 4, Train Loss: 0.8289639876429032, Validation Loss: 0.7326525528418836\n",
      "No improvement in validation loss. Patience counter: 1/20\n"
     ]
    },
    {
     "name": "stdout",
     "output_type": "stream",
     "text": [
      "Epoch 5, Train Loss: 0.8234832369294302, Validation Loss: 0.7291489068021629\n",
      "Validation loss improved to 0.7291489068021629, resetting patience.\n"
     ]
    },
    {
     "name": "stdout",
     "output_type": "stream",
     "text": [
      "Epoch 6, Train Loss: 0.8219492396498038, Validation Loss: 0.7263719129380841\n",
      "Validation loss improved to 0.7263719129380841, resetting patience.\n"
     ]
    },
    {
     "name": "stdout",
     "output_type": "stream",
     "text": [
      "Epoch 7, Train Loss: 0.8180236678757179, Validation Loss: 0.725663068784675\n",
      "Validation loss improved to 0.725663068784675, resetting patience.\n"
     ]
    },
    {
     "name": "stdout",
     "output_type": "stream",
     "text": [
      "Epoch 8, Train Loss: 0.8124958630610655, Validation Loss: 0.7290622032233302\n",
      "No improvement in validation loss. Patience counter: 1/20\n"
     ]
    },
    {
     "name": "stdout",
     "output_type": "stream",
     "text": [
      "Epoch 9, Train Loss: 0.8089410839257417, Validation Loss: 0.7128652954464636\n",
      "Validation loss improved to 0.7128652954464636, resetting patience.\n"
     ]
    },
    {
     "name": "stdout",
     "output_type": "stream",
     "text": [
      "Epoch 10, Train Loss: 0.8101526592292038, Validation Loss: 0.7089921319242661\n",
      "Validation loss improved to 0.7089921319242661, resetting patience.\n"
     ]
    },
    {
     "name": "stdout",
     "output_type": "stream",
     "text": [
      "Epoch 11, Train Loss: 0.8089253868672324, Validation Loss: 0.7293567689239676\n",
      "No improvement in validation loss. Patience counter: 1/20\n"
     ]
    },
    {
     "name": "stdout",
     "output_type": "stream",
     "text": [
      "Epoch 12, Train Loss: 0.8069004518403986, Validation Loss: 0.7153018024669686\n",
      "No improvement in validation loss. Patience counter: 2/20\n"
     ]
    },
    {
     "name": "stdout",
     "output_type": "stream",
     "text": [
      "Epoch 13, Train Loss: 0.8063602272851275, Validation Loss: 0.706052746718305\n",
      "Validation loss improved to 0.706052746718305, resetting patience.\n"
     ]
    },
    {
     "name": "stdout",
     "output_type": "stream",
     "text": [
      "Epoch 14, Train Loss: 0.8030577448068881, Validation Loss: 0.7322717136537968\n",
      "No improvement in validation loss. Patience counter: 1/20\n"
     ]
    },
    {
     "name": "stdout",
     "output_type": "stream",
     "text": [
      "Epoch 15, Train Loss: 0.8019745649205833, Validation Loss: 0.7039386853953908\n",
      "Validation loss improved to 0.7039386853953908, resetting patience.\n"
     ]
    },
    {
     "name": "stdout",
     "output_type": "stream",
     "text": [
      "Epoch 16, Train Loss: 0.8005281501735737, Validation Loss: 0.7333985361350974\n",
      "No improvement in validation loss. Patience counter: 1/20\n"
     ]
    },
    {
     "name": "stdout",
     "output_type": "stream",
     "text": [
      "Epoch 17, Train Loss: 0.7983212128184201, Validation Loss: 0.7190166854011226\n",
      "No improvement in validation loss. Patience counter: 2/20\n"
     ]
    },
    {
     "name": "stdout",
     "output_type": "stream",
     "text": [
      "Epoch 18, Train Loss: 0.7982200863963897, Validation Loss: 0.7003247424733215\n",
      "Validation loss improved to 0.7003247424733215, resetting patience.\n"
     ]
    },
    {
     "name": "stdout",
     "output_type": "stream",
     "text": [
      "Epoch 19, Train Loss: 0.798742486500792, Validation Loss: 0.7106649818154156\n",
      "No improvement in validation loss. Patience counter: 1/20\n"
     ]
    },
    {
     "name": "stdout",
     "output_type": "stream",
     "text": [
      "Epoch 20, Train Loss: 0.7965542963647115, Validation Loss: 0.7086420879146169\n",
      "No improvement in validation loss. Patience counter: 2/20\n"
     ]
    },
    {
     "name": "stdout",
     "output_type": "stream",
     "text": [
      "Epoch 21, Train Loss: 0.7965442611630965, Validation Loss: 0.7121187421271038\n",
      "No improvement in validation loss. Patience counter: 3/20\n"
     ]
    },
    {
     "name": "stdout",
     "output_type": "stream",
     "text": [
      "Epoch 22, Train Loss: 0.7965371512639496, Validation Loss: 0.7000778807601348\n",
      "Validation loss improved to 0.7000778807601348, resetting patience.\n"
     ]
    },
    {
     "name": "stdout",
     "output_type": "stream",
     "text": [
      "Epoch 23, Train Loss: 0.7940344670888905, Validation Loss: 0.7141829571748143\n",
      "No improvement in validation loss. Patience counter: 1/20\n"
     ]
    },
    {
     "name": "stdout",
     "output_type": "stream",
     "text": [
      "Epoch 24, Train Loss: 0.7922964899238678, Validation Loss: 0.6954906475422952\n",
      "Validation loss improved to 0.6954906475422952, resetting patience.\n"
     ]
    },
    {
     "name": "stdout",
     "output_type": "stream",
     "text": [
      "Epoch 25, Train Loss: 0.7929805425647037, Validation Loss: 0.6955076286635423\n",
      "No improvement in validation loss. Patience counter: 1/20\n"
     ]
    },
    {
     "name": "stdout",
     "output_type": "stream",
     "text": [
      "Epoch 26, Train Loss: 0.7944649640381466, Validation Loss: 0.7095222867987483\n",
      "No improvement in validation loss. Patience counter: 2/20\n"
     ]
    },
    {
     "name": "stdout",
     "output_type": "stream",
     "text": [
      "Epoch 27, Train Loss: 0.7916585358269593, Validation Loss: 0.7085182110065131\n",
      "No improvement in validation loss. Patience counter: 3/20\n"
     ]
    },
    {
     "name": "stdout",
     "output_type": "stream",
     "text": [
      "Epoch 28, Train Loss: 0.7905452513097418, Validation Loss: 0.7029190027169164\n",
      "No improvement in validation loss. Patience counter: 4/20\n"
     ]
    },
    {
     "name": "stdout",
     "output_type": "stream",
     "text": [
      "Epoch 29, Train Loss: 0.79203305810625, Validation Loss: 0.7125224368221263\n",
      "No improvement in validation loss. Patience counter: 5/20\n"
     ]
    },
    {
     "name": "stdout",
     "output_type": "stream",
     "text": [
      "Epoch 30, Train Loss: 0.7908448653543177, Validation Loss: 0.7060376125846417\n",
      "No improvement in validation loss. Patience counter: 6/20\n"
     ]
    },
    {
     "name": "stdout",
     "output_type": "stream",
     "text": [
      "Epoch 31, Train Loss: 0.7917261584002467, Validation Loss: 0.7028848306479187\n",
      "No improvement in validation loss. Patience counter: 7/20\n"
     ]
    },
    {
     "name": "stdout",
     "output_type": "stream",
     "text": [
      "Epoch 32, Train Loss: 0.7904794531710008, Validation Loss: 0.7004104636344813\n",
      "No improvement in validation loss. Patience counter: 8/20\n"
     ]
    },
    {
     "name": "stdout",
     "output_type": "stream",
     "text": [
      "Epoch 33, Train Loss: 0.7897619395344345, Validation Loss: 0.7070547805219738\n",
      "No improvement in validation loss. Patience counter: 9/20\n"
     ]
    },
    {
     "name": "stdout",
     "output_type": "stream",
     "text": [
      "Epoch 34, Train Loss: 0.7897347481292317, Validation Loss: 0.6984691863435174\n",
      "No improvement in validation loss. Patience counter: 10/20\n"
     ]
    },
    {
     "name": "stdout",
     "output_type": "stream",
     "text": [
      "Epoch 35, Train Loss: 0.7892864850351753, Validation Loss: 0.695918336283737\n",
      "No improvement in validation loss. Patience counter: 11/20\n"
     ]
    },
    {
     "name": "stdout",
     "output_type": "stream",
     "text": [
      "Epoch 36, Train Loss: 0.7887669216703486, Validation Loss: 0.6933893450928218\n",
      "Validation loss improved to 0.6933893450928218, resetting patience.\n"
     ]
    },
    {
     "name": "stdout",
     "output_type": "stream",
     "text": [
      "Epoch 37, Train Loss: 0.7906967769650852, Validation Loss: 0.7072226393041272\n",
      "No improvement in validation loss. Patience counter: 1/20\n"
     ]
    },
    {
     "name": "stdout",
     "output_type": "stream",
     "text": [
      "Epoch 38, Train Loss: 0.7883089368509572, Validation Loss: 0.7052643388358469\n",
      "No improvement in validation loss. Patience counter: 2/20\n"
     ]
    },
    {
     "name": "stdout",
     "output_type": "stream",
     "text": [
      "Epoch 39, Train Loss: 0.7893500674783794, Validation Loss: 0.6985787310576076\n",
      "No improvement in validation loss. Patience counter: 3/20\n"
     ]
    },
    {
     "name": "stdout",
     "output_type": "stream",
     "text": [
      "Epoch 40, Train Loss: 0.7864591396841868, Validation Loss: 0.7048064430958123\n",
      "No improvement in validation loss. Patience counter: 4/20\n"
     ]
    },
    {
     "name": "stdout",
     "output_type": "stream",
     "text": [
      "Epoch 41, Train Loss: 0.7871894605279228, Validation Loss: 0.6978034679659733\n",
      "No improvement in validation loss. Patience counter: 5/20\n"
     ]
    },
    {
     "name": "stdout",
     "output_type": "stream",
     "text": [
      "Epoch 42, Train Loss: 0.7890507063964354, Validation Loss: 0.702604352520202\n",
      "No improvement in validation loss. Patience counter: 6/20\n"
     ]
    },
    {
     "name": "stdout",
     "output_type": "stream",
     "text": [
      "Epoch 43, Train Loss: 0.7872835329545089, Validation Loss: 0.6973957231807225\n",
      "No improvement in validation loss. Patience counter: 7/20\n"
     ]
    },
    {
     "name": "stdout",
     "output_type": "stream",
     "text": [
      "Epoch 44, Train Loss: 0.7868866181581369, Validation Loss: 0.6960788664176379\n",
      "No improvement in validation loss. Patience counter: 8/20\n"
     ]
    },
    {
     "name": "stdout",
     "output_type": "stream",
     "text": [
      "Epoch 45, Train Loss: 0.7874509578566665, Validation Loss: 0.6937231081088787\n",
      "No improvement in validation loss. Patience counter: 9/20\n"
     ]
    },
    {
     "name": "stdout",
     "output_type": "stream",
     "text": [
      "Epoch 46, Train Loss: 0.7867855836752973, Validation Loss: 0.7000966884460545\n",
      "No improvement in validation loss. Patience counter: 10/20\n"
     ]
    },
    {
     "name": "stdout",
     "output_type": "stream",
     "text": [
      "Epoch 47, Train Loss: 0.787314791759894, Validation Loss: 0.7002176224882832\n",
      "No improvement in validation loss. Patience counter: 11/20\n"
     ]
    },
    {
     "name": "stdout",
     "output_type": "stream",
     "text": [
      "Epoch 48, Train Loss: 0.7873653629896168, Validation Loss: 0.6958466647240111\n",
      "No improvement in validation loss. Patience counter: 12/20\n"
     ]
    },
    {
     "name": "stdout",
     "output_type": "stream",
     "text": [
      "Epoch 49, Train Loss: 0.7870297417661464, Validation Loss: 0.7042270351182386\n",
      "No improvement in validation loss. Patience counter: 13/20\n"
     ]
    },
    {
     "name": "stdout",
     "output_type": "stream",
     "text": [
      "Epoch 50, Train Loss: 0.7862058573428842, Validation Loss: 0.7025256966273796\n",
      "No improvement in validation loss. Patience counter: 14/20\n"
     ]
    },
    {
     "name": "stdout",
     "output_type": "stream",
     "text": [
      "Epoch 51, Train Loss: 0.7858224374146763, Validation Loss: 0.7012366188056578\n",
      "No improvement in validation loss. Patience counter: 15/20\n"
     ]
    },
    {
     "name": "stdout",
     "output_type": "stream",
     "text": [
      "Epoch 52, Train Loss: 0.7872691176555775, Validation Loss: 0.7001942122345648\n",
      "No improvement in validation loss. Patience counter: 16/20\n"
     ]
    },
    {
     "name": "stdout",
     "output_type": "stream",
     "text": [
      "Epoch 53, Train Loss: 0.7862114769960541, Validation Loss: 0.7133377987116122\n",
      "No improvement in validation loss. Patience counter: 17/20\n"
     ]
    },
    {
     "name": "stdout",
     "output_type": "stream",
     "text": [
      "Epoch 54, Train Loss: 0.7860251097637584, Validation Loss: 0.6984250115864168\n",
      "No improvement in validation loss. Patience counter: 18/20\n"
     ]
    },
    {
     "name": "stdout",
     "output_type": "stream",
     "text": [
      "Epoch 55, Train Loss: 0.7861273755564928, Validation Loss: 0.7048707354794904\n",
      "No improvement in validation loss. Patience counter: 19/20\n"
     ]
    },
    {
     "name": "stdout",
     "output_type": "stream",
     "text": [
      "Epoch 56, Train Loss: 0.7867261695965703, Validation Loss: 0.6960256394698535\n",
      "No improvement in validation loss. Patience counter: 20/20\n",
      "Early stopping triggered. Stopping training at epoch 56.\n",
      "Loaded best model weights based on validation loss.\n"
     ]
    }
   ],
   "source": [
    "import copy  # 用于保存模型的最佳状态\n",
    "\n",
    "# Early Stopping 参数\n",
    "patience = 20  # 如果验证损失在 10 个 epoch 中没有改善，停止训练\n",
    "min_delta = 1e-4  # 最小改善幅度\n",
    "patience_counter = 0\n",
    "best_val_loss = float('inf')  # 初始设置为正无穷大\n",
    "best_model_weights = copy.deepcopy(estim.model.state_dict())  # 保存最佳模型权重\n",
    "train_losses = []\n",
    "val_losses = []\n",
    "\n",
    "# 训练 500 个 epoch\n",
    "for epoch in range(500):\n",
    "    train_loss, val_loss = train_epoch(estim.model, optimizer, loss_fn, train_loader, val_loader)\n",
    "    print(f'Epoch {epoch+1}, Train Loss: {train_loss}, Validation Loss: {val_loss}')\n",
    "    train_losses.append(train_loss)\n",
    "    val_losses.append(val_loss)\n",
    "    \n",
    "    # Early Stopping 检查\n",
    "    if val_loss < best_val_loss - min_delta:\n",
    "        best_val_loss = val_loss  # 更新最佳验证损失\n",
    "        patience_counter = 0  # 重置 patience 计数器\n",
    "        best_model_weights = copy.deepcopy(estim.model.state_dict())  # 保存当前最佳模型\n",
    "        print(f\"Validation loss improved to {best_val_loss}, resetting patience.\")\n",
    "    else:\n",
    "        patience_counter += 1\n",
    "        print(f\"No improvement in validation loss. Patience counter: {patience_counter}/{patience}\")\n",
    "    \n",
    "    # 如果 patience_counter 超过设置的 patience，停止训练\n",
    "    if patience_counter >= patience:\n",
    "        print(f\"Early stopping triggered. Stopping training at epoch {epoch+1}.\")\n",
    "        break\n",
    "\n",
    "# 恢复到训练中性能最好的模型权重\n",
    "estim.model.load_state_dict(best_model_weights)\n",
    "print(\"Loaded best model weights based on validation loss.\")"
   ]
  },
  {
   "cell_type": "code",
   "execution_count": 12,
   "metadata": {
    "execution": {
     "iopub.execute_input": "2025-04-12T08:14:37.753243Z",
     "iopub.status.busy": "2025-04-12T08:14:37.753058Z",
     "iopub.status.idle": "2025-04-12T08:14:39.717893Z",
     "shell.execute_reply": "2025-04-12T08:14:39.717262Z"
    }
   },
   "outputs": [],
   "source": [
    "# 8. 使用 KNN 替代测试阶段的 FC 分类层\n",
    "# 使用 encoder 提取训练集和测试集的 embedding\n",
    "estim.model.eval()\n",
    "with torch.no_grad():\n",
    "    train_embeddings = estim.model.encoder(torch.tensor(X_train).float().to(device)).cpu().numpy()\n",
    "    test_embeddings = estim.model.encoder(torch.tensor(X_test).float().to(device)).cpu().numpy()"
   ]
  },
  {
   "cell_type": "code",
   "execution_count": 13,
   "metadata": {
    "execution": {
     "iopub.execute_input": "2025-04-12T08:14:39.720008Z",
     "iopub.status.busy": "2025-04-12T08:14:39.719837Z",
     "iopub.status.idle": "2025-04-12T08:14:40.535866Z",
     "shell.execute_reply": "2025-04-12T08:14:40.535125Z"
    }
   },
   "outputs": [
    {
     "name": "stdout",
     "output_type": "stream",
     "text": [
      "KNN Accuracy on Test Data: 0.7476854611197202\n",
      "Weighted F1 Score: 0.7353452501918847\n",
      "Macro F1 Score: 0.5453708667803081\n",
      "Random Guess Accuracy: 0.1320247177116093\n",
      "                         precision    recall  f1-score   support\n",
      "\n",
      "                B_Cells       0.67      0.76      0.71       772\n",
      "           CD4+_T_Cells       0.59      0.67      0.63      1286\n",
      "           CD8+_T_Cells       0.56      0.54      0.55      1026\n",
      "                 DCIS_1       0.55      0.66      0.60      1937\n",
      "                 DCIS_2       0.51      0.39      0.44      1746\n",
      "            Endothelial       0.88      0.93      0.90      1348\n",
      "              IRF7+_DCs       0.58      0.49      0.53        74\n",
      "         Invasive_Tumor       0.80      0.87      0.84      5230\n",
      "             LAMP3+_DCs       0.11      0.02      0.03        49\n",
      "          Macrophages_1       0.77      0.84      0.80      1692\n",
      "          Macrophages_2       0.49      0.33      0.39       223\n",
      "             Mast_Cells       0.55      0.21      0.31        28\n",
      "          Myoepi_ACTA2+       0.79      0.79      0.79      1043\n",
      "          Myoepi_KRT15+       0.77      0.80      0.78       426\n",
      "      Perivascular-Like       0.60      0.38      0.47       125\n",
      "  Prolif_Invasive_Tumor       0.18      0.04      0.06       533\n",
      "                Stromal       0.89      0.91      0.90      6184\n",
      "Stromal_&_T_Cell_Hybrid       0.06      0.01      0.02        93\n",
      "  T_Cell_&_Tumor_Hybrid       0.53      0.64      0.58        87\n",
      "              Unlabeled       0.70      0.48      0.57      1265\n",
      "\n",
      "               accuracy                           0.75     25167\n",
      "              macro avg       0.58      0.54      0.55     25167\n",
      "           weighted avg       0.73      0.75      0.74     25167\n",
      "\n"
     ]
    }
   ],
   "source": [
    "import pandas as pd\n",
    "from sklearn.neighbors import KNeighborsClassifier\n",
    "from sklearn.metrics import accuracy_score, f1_score, classification_report\n",
    "\n",
    "    \n",
    "\n",
    "    # 初始化和训练KNN分类器\n",
    "knn = KNeighborsClassifier(n_neighbors=5)\n",
    "knn.fit(train_embeddings, y_train)\n",
    "    \n",
    "    # 模型预测\n",
    "predictions = knn.predict(test_embeddings)\n",
    "\n",
    "    # 计算准确率和 F1 分数\n",
    "accuracy = accuracy_score(y_test, predictions)\n",
    "print(f\"KNN Accuracy on Test Data: {accuracy}\")\n",
    "f1 = f1_score(y_test, predictions, average='weighted')\n",
    "print(f\"Weighted F1 Score: {f1}\")\n",
    "    \n",
    "macro_f1 = f1_score(y_test, predictions, average='macro')\n",
    "print(f'Macro F1 Score: {macro_f1}')\n",
    "\n",
    "    # 计算随机猜测的准确率\n",
    "class_probabilities = np.bincount(y_test) / len(y_test)\n",
    "random_accuracy = np.sum(class_probabilities ** 2)\n",
    "print(f\"Random Guess Accuracy: {random_accuracy}\")\n",
    "\n",
    "    # 生成分类报告\n",
    "report = classification_report(y_test, predictions, target_names=label_encoder.classes_)\n",
    "print(report)"
   ]
  },
  {
   "cell_type": "code",
   "execution_count": 14,
   "metadata": {
    "execution": {
     "iopub.execute_input": "2025-04-12T08:14:40.537610Z",
     "iopub.status.busy": "2025-04-12T08:14:40.537432Z",
     "iopub.status.idle": "2025-04-12T08:14:49.788765Z",
     "shell.execute_reply": "2025-04-12T08:14:49.788188Z"
    }
   },
   "outputs": [],
   "source": [
    "with torch.no_grad():\n",
    "    new_data_tensor = torch.tensor(new_data).float().to(device)\n",
    "    SSL_embeddings = estim.model.encoder(new_data_tensor).detach().cpu().numpy()\n",
    "new_adata = sc.read_h5ad(data_dir)\n",
    "new_adata.obsm[f'SSL_GP_FT_{random_seed}'] = SSL_embeddings\n",
    "new_adata.uns[f'GP_FT_y_test_{random_seed}'] = y_test\n",
    "new_adata.uns[f'GP_FT_predictions_{random_seed}'] = predictions\n",
    "new_adata.uns[f'GP_FT_target_names_{random_seed}'] = label_encoder.classes_\n",
    "new_adata.uns[f'GP_FT_train_loss_{random_seed}'] = train_losses\n",
    "new_adata.uns[f'GP_FT_val_loss_{random_seed}'] = val_losses\n",
    "new_adata.write_h5ad(data_dir)"
   ]
  },
  {
   "cell_type": "code",
   "execution_count": 15,
   "metadata": {
    "execution": {
     "iopub.execute_input": "2025-04-12T08:14:49.790668Z",
     "iopub.status.busy": "2025-04-12T08:14:49.790509Z",
     "iopub.status.idle": "2025-04-12T08:14:49.799863Z",
     "shell.execute_reply": "2025-04-12T08:14:49.799377Z"
    }
   },
   "outputs": [
    {
     "name": "stdout",
     "output_type": "stream",
     "text": [
      "Metrics Summary:\n",
      "init_train_loss\tinit_val_loss\tconverged_epoch\tconverged_val_loss\tmacro_f1\tweighted_f1\tmicro_f1\n",
      "0.950\t0.744\t36\t0.693\t0.545\t0.735\t0.748\n"
     ]
    }
   ],
   "source": [
    "\n",
    "import pandas as pd\n",
    "import os\n",
    "import re\n",
    "\n",
    "# 当前 Notebook 文件名\n",
    "notebook_name = \"SpaGE_imputed_Xenium_breast_cancer_sample1_replicate1_GP_mask_fine_tune_42.ipynb\"\n",
    "\n",
    "# 初始化需要打印的值\n",
    "init_train_loss = train_losses[0] if 'train_losses' in globals() else None\n",
    "init_val_loss = val_losses[0] if 'val_losses' in globals() else None\n",
    "converged_epoch = len(train_losses) - patience if 'train_losses' in globals() else None\n",
    "converged_val_loss = best_val_loss if 'best_val_loss' in globals() else None\n",
    "\n",
    "# 打印所有所需的指标\n",
    "print(\"Metrics Summary:\")\n",
    "if 'train_losses' in globals():\n",
    "    print(f\"init_train_loss\\tinit_val_loss\\tconverged_epoch\\tconverged_val_loss\\tmacro_f1\\tweighted_f1\\tmicro_f1\")\n",
    "    print(f\"{init_train_loss:.3f}\\t{init_val_loss:.3f}\\t{converged_epoch}\\t{converged_val_loss:.3f}\\t{macro_f1:.3f}\\t{f1:.3f}\\t{accuracy:.3f}\")\n",
    "else:\n",
    "    print(f\"macro_f1\\tweighted_f1\\tmicro_f1\")\n",
    "    print(f\"{macro_f1:.3f}\\t{f1:.3f}\\t{accuracy:.3f}\")\n",
    "\n",
    "# 保存结果到 CSV 文件\n",
    "output_data = {\n",
    "    'dataset_split_random_seed': [int(random_seed)],\n",
    "    'dataset': ['SpaGE_imputed_xenium_breast_cancer_sample1_replicate1'],\n",
    "    'method': [re.search(r'replicate1_(.*?)_\\d+', notebook_name).group(1)],\n",
    "    'init_train_loss': [init_train_loss if init_train_loss is not None else ''],\n",
    "    'init_val_loss': [init_val_loss if init_val_loss is not None else ''],\n",
    "    'converged_epoch': [converged_epoch if converged_epoch is not None else ''],\n",
    "    'converged_val_loss': [converged_val_loss if converged_val_loss is not None else ''],\n",
    "    'macro_f1': [macro_f1],\n",
    "    'weighted_f1': [f1],\n",
    "    'micro_f1': [accuracy]\n",
    "}\n",
    "output_df = pd.DataFrame(output_data)\n",
    "\n",
    "# 保存到当前目录下名为 results 的文件夹中\n",
    "if not os.path.exists('results'):\n",
    "    os.makedirs('results')\n",
    "\n",
    "csv_filename = f\"results/{os.path.splitext(notebook_name)[0]}_results.csv\"\n",
    "output_df.to_csv(csv_filename, index=False)\n"
   ]
  }
 ],
 "metadata": {
  "kernelspec": {
   "display_name": "ssl",
   "language": "python",
   "name": "python3"
  },
  "language_info": {
   "codemirror_mode": {
    "name": "ipython",
    "version": 3
   },
   "file_extension": ".py",
   "mimetype": "text/x-python",
   "name": "python",
   "nbconvert_exporter": "python",
   "pygments_lexer": "ipython3",
   "version": "3.10.13"
  }
 },
 "nbformat": 4,
 "nbformat_minor": 2
}
