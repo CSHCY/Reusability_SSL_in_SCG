{
 "cells": [
  {
   "cell_type": "code",
   "execution_count": 1,
   "metadata": {
    "execution": {
     "iopub.execute_input": "2025-04-12T07:28:40.370636Z",
     "iopub.status.busy": "2025-04-12T07:28:40.370509Z",
     "iopub.status.idle": "2025-04-12T07:28:47.966997Z",
     "shell.execute_reply": "2025-04-12T07:28:47.966428Z"
    }
   },
   "outputs": [
    {
     "name": "stderr",
     "output_type": "stream",
     "text": [
      "/home/hanchuangyi/miniconda3/envs/ssl/lib/python3.10/site-packages/merlin/dtypes/mappings/tf.py:52: UserWarning: Tensorflow dtype mappings did not load successfully due to an error: No module named 'tensorflow'\n",
      "  warn(f\"Tensorflow dtype mappings did not load successfully due to an error: {exc.msg}\")\n",
      "/home/hanchuangyi/miniconda3/envs/ssl/lib/python3.10/site-packages/merlin/dtypes/mappings/triton.py:53: UserWarning: Triton dtype mappings did not load successfully due to an error: No module named 'tritonclient'\n",
      "  warn(f\"Triton dtype mappings did not load successfully due to an error: {exc.msg}\")\n"
     ]
    }
   ],
   "source": [
    "import scanpy as sc\n",
    "import torch\n",
    "import lightning.pytorch as pl\n",
    "from torch import nn\n",
    "from torch.optim import AdamW\n",
    "from self_supervision.models.lightning_modules.cellnet_autoencoder import MLPAutoEncoder\n",
    "from self_supervision.estimator.cellnet import EstimatorAutoEncoder\n",
    "from sklearn.model_selection import train_test_split\n",
    "from sklearn.preprocessing import LabelEncoder\n",
    "from sklearn.metrics import accuracy_score, f1_score, classification_report\n",
    "import numpy as np\n",
    "import pandas as pd\n",
    "\n",
    "# 1. 加载数据集\n",
    "data_dir = '../../dataset/SpaGE_imputed_Xenium_breast_cancer_sample1_replicate1.h5ad'\n",
    "adata = sc.read_h5ad(data_dir)\n",
    "\n",
    "\n",
    "# 2. 模型参数\n",
    "units_encoder = [512, 512, 256, 256, 64]\n",
    "units_decoder = [256, 256, 512, 512]\n",
    "\n",
    "# 初始化 EstimatorAutoEncoder 实例\n",
    "estim = EstimatorAutoEncoder(data_path=None)  # 没有实际数据路径，可以设置为None\n",
    "\n",
    "# 3. 直接初始化从头训练的模型\n",
    "estim.model = MLPAutoEncoder(\n",
    "    gene_dim=19331,  # 根据你的数据调整\n",
    "    batch_size=128,  # 根据你的需要调整\n",
    "    units_encoder=units_encoder, \n",
    "    units_decoder=units_decoder,\n",
    "    masking_strategy=\"random\",  # 假设模型使用了随机掩码\n",
    "    masking_rate=0.5,  # 根据需要调整\n",
    ")"
   ]
  },
  {
   "cell_type": "code",
   "execution_count": 2,
   "metadata": {
    "execution": {
     "iopub.execute_input": "2025-04-12T07:28:47.969241Z",
     "iopub.status.busy": "2025-04-12T07:28:47.968837Z",
     "iopub.status.idle": "2025-04-12T07:30:00.572955Z",
     "shell.execute_reply": "2025-04-12T07:30:00.572338Z"
    }
   },
   "outputs": [
    {
     "name": "stdout",
     "output_type": "stream",
     "text": [
      "Gene fam49a not found in all_genes list\n",
      "Gene kars not found in all_genes list\n",
      "Gene lars not found in all_genes list\n"
     ]
    },
    {
     "name": "stdout",
     "output_type": "stream",
     "text": [
      "Gene nars not found in all_genes list\n",
      "Gene polr2j3 not found in all_genes list\n",
      "Gene qars not found in all_genes list\n"
     ]
    },
    {
     "name": "stdout",
     "output_type": "stream",
     "text": [
      "Gene trac not found in all_genes list\n",
      "Gene wars not found in all_genes list\n",
      "Gene aars not found in all_genes list\n"
     ]
    },
    {
     "name": "stdout",
     "output_type": "stream",
     "text": [
      "Gene ac004593.3 not found in all_genes list\n",
      "Gene ac005551.1 not found in all_genes list\n",
      "Gene ac007244.1 not found in all_genes list\n",
      "Gene ac007906.2 not found in all_genes list\n",
      "Gene ac008397.1 not found in all_genes list\n",
      "Gene ac008687.4 not found in all_genes list\n",
      "Gene ac010255.3 not found in all_genes list\n",
      "Gene ac010325.1 not found in all_genes list\n",
      "Gene ac011005.1 not found in all_genes list\n",
      "Gene ac011195.2 not found in all_genes list\n",
      "Gene ac013470.2 not found in all_genes list\n",
      "Gene ac015871.1 not found in all_genes list\n",
      "Gene ac021072.1 not found in all_genes list\n",
      "Gene ac021097.2 not found in all_genes list\n",
      "Gene ac025283.2 not found in all_genes list\n",
      "Gene ac025287.4 not found in all_genes list\n",
      "Gene ac067752.1 not found in all_genes list\n",
      "Gene ac072022.2 not found in all_genes list\n",
      "Gene ac073111.4 not found in all_genes list\n",
      "Gene ac087498.1 not found in all_genes list\n",
      "Gene ac090360.1 not found in all_genes list\n",
      "Gene ac091057.6 not found in all_genes list\n",
      "Gene ac092835.1 not found in all_genes list\n",
      "Gene ac093323.1 not found in all_genes list\n",
      "Gene ac099489.1 not found in all_genes list\n",
      "Gene ac104389.5 not found in all_genes list\n",
      "Gene ac106774.4 not found in all_genes list\n",
      "Gene ac113348.1 not found in all_genes list\n",
      "Gene ac115220.1 not found in all_genes list\n",
      "Gene ac118549.1 not found in all_genes list\n",
      "Gene ac119396.1 not found in all_genes list\n",
      "Gene ac132217.2 not found in all_genes list\n",
      "Gene ac134684.8 not found in all_genes list\n",
      "Gene ac135068.1 not found in all_genes list\n",
      "Gene ac138647.1 not found in all_genes list\n",
      "Gene ac187653.1 not found in all_genes list\n",
      "Gene ac233723.1 not found in all_genes list\n",
      "Gene ac236972.4 not found in all_genes list\n"
     ]
    },
    {
     "name": "stdout",
     "output_type": "stream",
     "text": [
      "Gene acpp not found in all_genes list\n"
     ]
    },
    {
     "name": "stdout",
     "output_type": "stream",
     "text": [
      "Gene adprhl2 not found in all_genes list\n",
      "Gene adss not found in all_genes list\n",
      "Gene adssl1 not found in all_genes list\n"
     ]
    },
    {
     "name": "stdout",
     "output_type": "stream",
     "text": [
      "Gene al032819.3 not found in all_genes list\n",
      "Gene al109810.2 not found in all_genes list\n",
      "Gene al121578.2 not found in all_genes list\n",
      "Gene al135905.2 not found in all_genes list\n",
      "Gene al160269.1 not found in all_genes list\n",
      "Gene al162231.1 not found in all_genes list\n",
      "Gene al162596.1 not found in all_genes list\n",
      "Gene al353572.3 not found in all_genes list\n",
      "Gene al354761.1 not found in all_genes list\n",
      "Gene al391650.1 not found in all_genes list\n",
      "Gene al445238.1 not found in all_genes list\n",
      "Gene al451007.3 not found in all_genes list\n",
      "Gene al590560.2 not found in all_genes list\n",
      "Gene al603764.2 not found in all_genes list\n",
      "Gene al772284.2 not found in all_genes list\n",
      "Gene al845331.2 not found in all_genes list\n",
      "Gene alg1l not found in all_genes list\n"
     ]
    },
    {
     "name": "stdout",
     "output_type": "stream",
     "text": [
      "Gene ap000552.4 not found in all_genes list\n",
      "Gene ap002495.1 not found in all_genes list\n"
     ]
    },
    {
     "name": "stdout",
     "output_type": "stream",
     "text": [
      "Gene arih2os not found in all_genes list\n",
      "Gene armc4 not found in all_genes list\n"
     ]
    },
    {
     "name": "stdout",
     "output_type": "stream",
     "text": [
      "Gene arse not found in all_genes list\n"
     ]
    },
    {
     "name": "stdout",
     "output_type": "stream",
     "text": [
      "Gene atp5md not found in all_genes list\n",
      "Gene atp5mpl not found in all_genes list\n",
      "Gene atp6ap1l not found in all_genes list\n"
     ]
    },
    {
     "name": "stdout",
     "output_type": "stream",
     "text": [
      "Gene b3gnt10 not found in all_genes list\n"
     ]
    },
    {
     "name": "stdout",
     "output_type": "stream",
     "text": [
      "Gene bhmg1 not found in all_genes list\n"
     ]
    },
    {
     "name": "stdout",
     "output_type": "stream",
     "text": [
      "Gene bx255925.3 not found in all_genes list\n",
      "Gene bx276092.9 not found in all_genes list\n",
      "Gene c10orf142 not found in all_genes list\n",
      "Gene c10orf55 not found in all_genes list\n",
      "Gene c11orf40 not found in all_genes list\n",
      "Gene c11orf74 not found in all_genes list\n",
      "Gene c11orf88 not found in all_genes list\n",
      "Gene c12orf10 not found in all_genes list\n",
      "Gene c12orf49 not found in all_genes list\n",
      "Gene c12orf74 not found in all_genes list\n",
      "Gene c12orf81 not found in all_genes list\n",
      "Gene c14orf177 not found in all_genes list\n",
      "Gene c15orf41 not found in all_genes list\n"
     ]
    },
    {
     "name": "stdout",
     "output_type": "stream",
     "text": [
      "Gene c16orf58 not found in all_genes list\n",
      "Gene c17orf53 not found in all_genes list\n",
      "Gene c19orf48 not found in all_genes list\n",
      "Gene c19orf57 not found in all_genes list\n"
     ]
    },
    {
     "name": "stdout",
     "output_type": "stream",
     "text": [
      "Gene c1orf61 not found in all_genes list\n",
      "Gene c2orf83 not found in all_genes list\n",
      "Gene c2orf91 not found in all_genes list\n",
      "Gene c3orf67 not found in all_genes list\n"
     ]
    },
    {
     "name": "stdout",
     "output_type": "stream",
     "text": [
      "Gene c5orf30 not found in all_genes list\n",
      "Gene c5orf60 not found in all_genes list\n",
      "Gene c5orf67 not found in all_genes list\n",
      "Gene c6orf201 not found in all_genes list\n",
      "Gene c6orf223 not found in all_genes list\n",
      "Gene c7orf77 not found in all_genes list\n",
      "Gene c9orf129 not found in all_genes list\n",
      "Gene c9orf92 not found in all_genes list\n"
     ]
    },
    {
     "name": "stdout",
     "output_type": "stream",
     "text": [
      "Gene card16 not found in all_genes list\n",
      "Gene card17 not found in all_genes list\n",
      "Gene cars not found in all_genes list\n",
      "Gene casc1 not found in all_genes list\n",
      "Gene casc4 not found in all_genes list\n",
      "Gene castor3 not found in all_genes list\n"
     ]
    },
    {
     "name": "stdout",
     "output_type": "stream",
     "text": [
      "Gene ccdc114 not found in all_genes list\n",
      "Gene ccdc140 not found in all_genes list\n",
      "Gene ccdc151 not found in all_genes list\n",
      "Gene ccdc155 not found in all_genes list\n"
     ]
    },
    {
     "name": "stdout",
     "output_type": "stream",
     "text": [
      "Gene ccdc36 not found in all_genes list\n",
      "Gene ccdc39 not found in all_genes list\n",
      "Gene ccdc84 not found in all_genes list\n"
     ]
    },
    {
     "name": "stdout",
     "output_type": "stream",
     "text": [
      "Gene cd3eap not found in all_genes list\n"
     ]
    },
    {
     "name": "stdout",
     "output_type": "stream",
     "text": [
      "Gene cenpbd1 not found in all_genes list\n"
     ]
    },
    {
     "name": "stdout",
     "output_type": "stream",
     "text": [
      "Gene cllu1os not found in all_genes list\n"
     ]
    },
    {
     "name": "stdout",
     "output_type": "stream",
     "text": [
      "Gene cntd2 not found in all_genes list\n"
     ]
    },
    {
     "name": "stdout",
     "output_type": "stream",
     "text": [
      "Gene ct62 not found in all_genes list\n"
     ]
    },
    {
     "name": "stdout",
     "output_type": "stream",
     "text": [
      "Gene cxorf21 not found in all_genes list\n",
      "Gene cxorf40a not found in all_genes list\n",
      "Gene cxorf56 not found in all_genes list\n",
      "Gene cyb561d2 not found in all_genes list\n"
     ]
    },
    {
     "name": "stdout",
     "output_type": "stream",
     "text": [
      "Gene dars not found in all_genes list\n"
     ]
    },
    {
     "name": "stdout",
     "output_type": "stream",
     "text": [
      "Gene dec1 not found in all_genes list\n",
      "Gene defb133 not found in all_genes list\n"
     ]
    },
    {
     "name": "stdout",
     "output_type": "stream",
     "text": [
      "Gene dirc1 not found in all_genes list\n"
     ]
    },
    {
     "name": "stdout",
     "output_type": "stream",
     "text": [
      "Gene dock8-as1 not found in all_genes list\n"
     ]
    },
    {
     "name": "stdout",
     "output_type": "stream",
     "text": [
      "Gene dupd1 not found in all_genes list\n",
      "Gene dusp27 not found in all_genes list\n"
     ]
    },
    {
     "name": "stdout",
     "output_type": "stream",
     "text": [
      "Gene elfn2 not found in all_genes list\n",
      "Gene elmsan1 not found in all_genes list\n",
      "Gene eloa3 not found in all_genes list\n"
     ]
    },
    {
     "name": "stdout",
     "output_type": "stream",
     "text": [
      "Gene eprs not found in all_genes list\n"
     ]
    },
    {
     "name": "stdout",
     "output_type": "stream",
     "text": [
      "Gene fam122a not found in all_genes list\n",
      "Gene fam122b not found in all_genes list\n",
      "Gene fam122c not found in all_genes list\n",
      "Gene fam169b not found in all_genes list\n"
     ]
    },
    {
     "name": "stdout",
     "output_type": "stream",
     "text": [
      "Gene fam192a not found in all_genes list\n",
      "Gene fam218a not found in all_genes list\n",
      "Gene fam30a not found in all_genes list\n"
     ]
    },
    {
     "name": "stdout",
     "output_type": "stream",
     "text": [
      "Gene fam49b not found in all_genes list\n",
      "Gene fam92b not found in all_genes list\n"
     ]
    },
    {
     "name": "stdout",
     "output_type": "stream",
     "text": [
      "Gene fgfr1op not found in all_genes list\n"
     ]
    },
    {
     "name": "stdout",
     "output_type": "stream",
     "text": [
      "Gene fopnl not found in all_genes list\n",
      "Gene fp565260.1 not found in all_genes list\n"
     ]
    },
    {
     "name": "stdout",
     "output_type": "stream",
     "text": [
      "Gene g6pc not found in all_genes list\n"
     ]
    },
    {
     "name": "stdout",
     "output_type": "stream",
     "text": [
      "Gene gars not found in all_genes list\n"
     ]
    },
    {
     "name": "stdout",
     "output_type": "stream",
     "text": [
      "Gene gcsaml-as1 not found in all_genes list\n",
      "Gene gdf5os not found in all_genes list\n"
     ]
    },
    {
     "name": "stdout",
     "output_type": "stream",
     "text": [
      "Gene glra4 not found in all_genes list\n"
     ]
    },
    {
     "name": "stdout",
     "output_type": "stream",
     "text": [
      "Gene golga8m not found in all_genes list\n"
     ]
    },
    {
     "name": "stdout",
     "output_type": "stream",
     "text": [
      "Gene grasp not found in all_genes list\n"
     ]
    },
    {
     "name": "stdout",
     "output_type": "stream",
     "text": [
      "Gene h1f0 not found in all_genes list\n",
      "Gene h1fnt not found in all_genes list\n",
      "Gene h1foo not found in all_genes list\n",
      "Gene h1fx not found in all_genes list\n",
      "Gene h2afj not found in all_genes list\n",
      "Gene h2afx not found in all_genes list\n",
      "Gene h2afy not found in all_genes list\n",
      "Gene h2afy2 not found in all_genes list\n",
      "Gene h2afz not found in all_genes list\n",
      "Gene h2bfm not found in all_genes list\n",
      "Gene h2bfwt not found in all_genes list\n",
      "Gene h3.y not found in all_genes list\n",
      "Gene h3f3a not found in all_genes list\n",
      "Gene h3f3b not found in all_genes list\n",
      "Gene h3f3c not found in all_genes list\n",
      "Gene hars not found in all_genes list\n"
     ]
    },
    {
     "name": "stdout",
     "output_type": "stream",
     "text": [
      "Gene hhla3 not found in all_genes list\n",
      "Gene hist1h1a not found in all_genes list\n",
      "Gene hist1h1b not found in all_genes list\n",
      "Gene hist1h1c not found in all_genes list\n",
      "Gene hist1h1d not found in all_genes list\n",
      "Gene hist1h1e not found in all_genes list\n",
      "Gene hist1h2aa not found in all_genes list\n",
      "Gene hist1h2ac not found in all_genes list\n",
      "Gene hist1h2ae not found in all_genes list\n",
      "Gene hist1h2ag not found in all_genes list\n",
      "Gene hist1h2ai not found in all_genes list\n",
      "Gene hist1h2ak not found in all_genes list\n",
      "Gene hist1h2ba not found in all_genes list\n",
      "Gene hist1h2bb not found in all_genes list\n",
      "Gene hist1h2bg not found in all_genes list\n",
      "Gene hist1h2bh not found in all_genes list\n",
      "Gene hist1h2bn not found in all_genes list\n",
      "Gene hist1h3e not found in all_genes list\n",
      "Gene hist1h3g not found in all_genes list\n",
      "Gene hist1h3h not found in all_genes list\n",
      "Gene hist1h4b not found in all_genes list\n",
      "Gene hist1h4c not found in all_genes list\n",
      "Gene hist1h4e not found in all_genes list\n",
      "Gene hist1h4g not found in all_genes list\n",
      "Gene hist1h4i not found in all_genes list\n",
      "Gene hist1h4j not found in all_genes list\n",
      "Gene hist2h2be not found in all_genes list\n",
      "Gene hist3h2a not found in all_genes list\n",
      "Gene hist3h2bb not found in all_genes list\n",
      "Gene hist3h3 not found in all_genes list\n",
      "Gene hist4h4 not found in all_genes list\n"
     ]
    },
    {
     "name": "stdout",
     "output_type": "stream",
     "text": [
      "Gene hypm not found in all_genes list\n",
      "Gene iars not found in all_genes list\n",
      "Gene ick not found in all_genes list\n"
     ]
    },
    {
     "name": "stdout",
     "output_type": "stream",
     "text": [
      "Gene igha1 not found in all_genes list\n",
      "Gene igha2 not found in all_genes list\n",
      "Gene ighd not found in all_genes list\n",
      "Gene ighe not found in all_genes list\n",
      "Gene ighg1 not found in all_genes list\n",
      "Gene ighg3 not found in all_genes list\n",
      "Gene ighm not found in all_genes list\n",
      "Gene igkc not found in all_genes list\n",
      "Gene iglc1 not found in all_genes list\n",
      "Gene iglc7 not found in all_genes list\n"
     ]
    },
    {
     "name": "stdout",
     "output_type": "stream",
     "text": [
      "Gene impad1 not found in all_genes list\n"
     ]
    },
    {
     "name": "stdout",
     "output_type": "stream",
     "text": [
      "Gene kiaa0355 not found in all_genes list\n",
      "Gene kiaa0556 not found in all_genes list\n",
      "Gene kiaa1211 not found in all_genes list\n",
      "Gene kiaa1211l not found in all_genes list\n",
      "Gene kiaa1257 not found in all_genes list\n",
      "Gene kiaa1324 not found in all_genes list\n",
      "Gene kiaa1324l not found in all_genes list\n",
      "Gene kif1bp not found in all_genes list\n"
     ]
    },
    {
     "name": "stdout",
     "output_type": "stream",
     "text": [
      "Gene linc02693 not found in all_genes list\n",
      "Gene linc02694 not found in all_genes list\n"
     ]
    },
    {
     "name": "stdout",
     "output_type": "stream",
     "text": [
      "Gene lor not found in all_genes list\n",
      "Gene lrmp not found in all_genes list\n"
     ]
    },
    {
     "name": "stdout",
     "output_type": "stream",
     "text": [
      "Gene lrp5l not found in all_genes list\n",
      "Gene lrrc29 not found in all_genes list\n"
     ]
    },
    {
     "name": "stdout",
     "output_type": "stream",
     "text": [
      "Gene maats1 not found in all_genes list\n"
     ]
    },
    {
     "name": "stdout",
     "output_type": "stream",
     "text": [
      "Gene marc1 not found in all_genes list\n",
      "Gene marc2 not found in all_genes list\n",
      "Gene march1 not found in all_genes list\n",
      "Gene march10 not found in all_genes list\n",
      "Gene march11 not found in all_genes list\n",
      "Gene march2 not found in all_genes list\n",
      "Gene march3 not found in all_genes list\n",
      "Gene march4 not found in all_genes list\n",
      "Gene march5 not found in all_genes list\n",
      "Gene march6 not found in all_genes list\n",
      "Gene march7 not found in all_genes list\n",
      "Gene march8 not found in all_genes list\n",
      "Gene march9 not found in all_genes list\n",
      "Gene mars not found in all_genes list\n"
     ]
    },
    {
     "name": "stdout",
     "output_type": "stream",
     "text": [
      "Gene mir1915hg not found in all_genes list\n"
     ]
    },
    {
     "name": "stdout",
     "output_type": "stream",
     "text": [
      "Gene mrvi1 not found in all_genes list\n"
     ]
    },
    {
     "name": "stdout",
     "output_type": "stream",
     "text": [
      "Gene mycnos not found in all_genes list\n"
     ]
    },
    {
     "name": "stdout",
     "output_type": "stream",
     "text": [
      "Gene nxf5 not found in all_genes list\n"
     ]
    },
    {
     "name": "stdout",
     "output_type": "stream",
     "text": [
      "Gene or5r1 not found in all_genes list\n"
     ]
    },
    {
     "name": "stdout",
     "output_type": "stream",
     "text": [
      "Gene palm2-akap2 not found in all_genes list\n",
      "Gene pano1 not found in all_genes list\n"
     ]
    },
    {
     "name": "stdout",
     "output_type": "stream",
     "text": [
      "Gene pde11a not found in all_genes list\n"
     ]
    },
    {
     "name": "stdout",
     "output_type": "stream",
     "text": [
      "Gene pih1d3 not found in all_genes list\n",
      "Gene pinx1 not found in all_genes list\n"
     ]
    },
    {
     "name": "stdout",
     "output_type": "stream",
     "text": [
      "Gene ppp5d1 not found in all_genes list\n"
     ]
    },
    {
     "name": "stdout",
     "output_type": "stream",
     "text": [
      "Gene prky not found in all_genes list\n"
     ]
    },
    {
     "name": "stdout",
     "output_type": "stream",
     "text": [
      "Gene rars not found in all_genes list\n"
     ]
    },
    {
     "name": "stdout",
     "output_type": "stream",
     "text": [
      "Gene rgs5 not found in all_genes list\n"
     ]
    },
    {
     "name": "stdout",
     "output_type": "stream",
     "text": [
      "Gene sars not found in all_genes list\n"
     ]
    },
    {
     "name": "stdout",
     "output_type": "stream",
     "text": [
      "Gene sfta3 not found in all_genes list\n"
     ]
    },
    {
     "name": "stdout",
     "output_type": "stream",
     "text": [
      "Gene siglec5 not found in all_genes list\n"
     ]
    },
    {
     "name": "stdout",
     "output_type": "stream",
     "text": [
      "Gene slc26a10 not found in all_genes list\n"
     ]
    },
    {
     "name": "stdout",
     "output_type": "stream",
     "text": [
      "Gene slc66a1l not found in all_genes list\n"
     ]
    },
    {
     "name": "stdout",
     "output_type": "stream",
     "text": [
      "Gene slfn12l not found in all_genes list\n"
     ]
    },
    {
     "name": "stdout",
     "output_type": "stream",
     "text": [
      "Gene snhg32 not found in all_genes list\n"
     ]
    },
    {
     "name": "stdout",
     "output_type": "stream",
     "text": [
      "Gene spata13 not found in all_genes list\n",
      "Gene spata8 not found in all_genes list\n",
      "Gene spert not found in all_genes list\n"
     ]
    },
    {
     "name": "stdout",
     "output_type": "stream",
     "text": [
      "Gene sspo not found in all_genes list\n",
      "Gene st5 not found in all_genes list\n"
     ]
    },
    {
     "name": "stdout",
     "output_type": "stream",
     "text": [
      "Gene tars not found in all_genes list\n",
      "Gene tarsl2 not found in all_genes list\n"
     ]
    },
    {
     "name": "stdout",
     "output_type": "stream",
     "text": [
      "Gene tbce not found in all_genes list\n"
     ]
    },
    {
     "name": "stdout",
     "output_type": "stream",
     "text": [
      "Gene tcte3 not found in all_genes list\n",
      "Gene tctex1d1 not found in all_genes list\n",
      "Gene tctex1d2 not found in all_genes list\n",
      "Gene tctex1d4 not found in all_genes list\n",
      "Gene terc not found in all_genes list\n"
     ]
    },
    {
     "name": "stdout",
     "output_type": "stream",
     "text": [
      "Gene tmem155 not found in all_genes list\n",
      "Gene tmem173 not found in all_genes list\n",
      "Gene tmem189 not found in all_genes list\n"
     ]
    },
    {
     "name": "stdout",
     "output_type": "stream",
     "text": [
      "Gene tmem246 not found in all_genes list\n"
     ]
    },
    {
     "name": "stdout",
     "output_type": "stream",
     "text": [
      "Gene tmem8a not found in all_genes list\n",
      "Gene tmem99 not found in all_genes list\n",
      "Gene tmsb15b not found in all_genes list\n"
     ]
    },
    {
     "name": "stdout",
     "output_type": "stream",
     "text": [
      "Gene trbc1 not found in all_genes list\n",
      "Gene trbc2 not found in all_genes list\n",
      "Gene trdc not found in all_genes list\n",
      "Gene trgc1 not found in all_genes list\n",
      "Gene trgc2 not found in all_genes list\n",
      "Gene trgjp1 not found in all_genes list\n",
      "Gene trgjp2 not found in all_genes list\n",
      "Gene trim16l not found in all_genes list\n"
     ]
    },
    {
     "name": "stdout",
     "output_type": "stream",
     "text": [
      "Gene tsta3 not found in all_genes list\n",
      "Gene ttc25 not found in all_genes list\n"
     ]
    },
    {
     "name": "stdout",
     "output_type": "stream",
     "text": [
      "Gene twistnb not found in all_genes list\n"
     ]
    },
    {
     "name": "stdout",
     "output_type": "stream",
     "text": [
      "Gene vars not found in all_genes list\n"
     ]
    },
    {
     "name": "stdout",
     "output_type": "stream",
     "text": [
      "Gene wdr34 not found in all_genes list\n",
      "Gene wdr60 not found in all_genes list\n",
      "Gene wdr63 not found in all_genes list\n",
      "Gene wdr66 not found in all_genes list\n",
      "Gene wdr78 not found in all_genes list\n",
      "Gene wdyhv1 not found in all_genes list\n"
     ]
    },
    {
     "name": "stdout",
     "output_type": "stream",
     "text": [
      "Gene yars not found in all_genes list\n",
      "Gene z82206.1 not found in all_genes list\n"
     ]
    },
    {
     "name": "stdout",
     "output_type": "stream",
     "text": [
      "Gene znf883 not found in all_genes list\n",
      "Gene znrd1 not found in all_genes list\n"
     ]
    },
    {
     "name": "stderr",
     "output_type": "stream",
     "text": [
      "GPU available: True (cuda), used: True\n"
     ]
    },
    {
     "name": "stderr",
     "output_type": "stream",
     "text": [
      "TPU available: False, using: 0 TPU cores\n"
     ]
    },
    {
     "name": "stderr",
     "output_type": "stream",
     "text": [
      "HPU available: False, using: 0 HPUs\n"
     ]
    }
   ],
   "source": [
    "# 添加分类层 (FC)\n",
    "n_classes = len(adata.obs['cell_type'].unique())\n",
    "estim.model.fc = nn.Linear(units_encoder[-1], n_classes)\n",
    "\n",
    "# 处理基因数据\n",
    "var_df = pd.read_parquet('../../sc_pretrained/var.parquet')\n",
    "all_genes = var_df['feature_name'].tolist()\n",
    "\n",
    "new_data = np.zeros((adata.X.shape[0], len(all_genes)), dtype=np.float32)\n",
    "adata.var['gene_name'] = adata.var.index\n",
    "existing_genes = adata.var['gene_name']\n",
    "\n",
    "# 将基因名称转换为小写\n",
    "all_genes_lower = [gene.lower() for gene in all_genes]\n",
    "adata_genes_lower = [gene.lower() for gene in existing_genes]\n",
    "\n",
    "# 计算基因匹配\n",
    "all_genes_set = set(all_genes_lower)\n",
    "adata_genes_set = set(adata_genes_lower)\n",
    "matching_genes = all_genes_set.intersection(adata_genes_set)\n",
    "\n",
    "# 填充 new_data\n",
    "gene_to_index = {gene: idx for idx, gene in enumerate(all_genes_lower)}\n",
    "dense_adata_X = adata.X\n",
    "for i, gene in enumerate(adata_genes_lower):\n",
    "    if gene in gene_to_index:\n",
    "        new_data[:, gene_to_index[gene]] = dense_adata_X[:, i]\n",
    "    else:\n",
    "        print(f'Gene {gene} not found in all_genes list')\n",
    "\n",
    "# 使用 GPU 进行评估（如果可用）\n",
    "estim.trainer = pl.Trainer(accelerator=\"gpu\", devices=1 if torch.cuda.is_available() else None)\n",
    "\n",
    "# 4. 数据集划分（70% 训练，15% 验证，15% 测试）\n",
    "label_encoder = LabelEncoder()\n",
    "labels_encoded = label_encoder.fit_transform(adata.obs['cell_type'])\n",
    "\n",
    "random_seed = 42\n",
    "\n",
    "X_train_val, X_test, y_train_val, y_test = train_test_split(\n",
    "    new_data, labels_encoded, test_size=0.15, random_state=random_seed)\n",
    "\n",
    "X_train, X_val, y_train, y_val = train_test_split(\n",
    "    X_train_val, y_train_val, test_size=0.1765, random_state=random_seed)  # 0.1765 是为了让验证集占 15%\n",
    "\n",
    "# 将训练数据转换为张量\n",
    "device = torch.device(\"cuda\" if torch.cuda.is_available() else \"cpu\")\n",
    "X_train_tensor = torch.tensor(X_train).float().to(device)\n",
    "y_train_tensor = torch.tensor(y_train).long().to(device)\n",
    "X_val_tensor = torch.tensor(X_val).float().to(device)\n",
    "y_val_tensor = torch.tensor(y_val).long().to(device)\n",
    "estim.model.to(device)\n",
    "\n",
    "# 5. 定义损失函数和优化器\n",
    "loss_fn = nn.CrossEntropyLoss()\n",
    "optimizer = AdamW(estim.model.parameters(), lr=9e-4, weight_decay=0.05)\n",
    "scheduler = torch.optim.lr_scheduler.StepLR(optimizer, step_size=2, gamma=0.9)\n",
    "\n",
    "# 使用 TensorDataset 将训练数据和标签打包\n",
    "from torch.utils.data import DataLoader, TensorDataset\n",
    "train_dataset = TensorDataset(X_train_tensor, y_train_tensor)\n",
    "val_dataset = TensorDataset(X_val_tensor, y_val_tensor)\n",
    "batch_size = 128\n",
    "train_loader = DataLoader(train_dataset, batch_size=128, shuffle=True)\n",
    "val_loader = DataLoader(val_dataset, batch_size=128, shuffle=False)"
   ]
  },
  {
   "cell_type": "code",
   "execution_count": 3,
   "metadata": {
    "execution": {
     "iopub.execute_input": "2025-04-12T07:30:00.575433Z",
     "iopub.status.busy": "2025-04-12T07:30:00.575264Z",
     "iopub.status.idle": "2025-04-12T07:30:00.579716Z",
     "shell.execute_reply": "2025-04-12T07:30:00.579284Z"
    }
   },
   "outputs": [],
   "source": [
    "# 6. 定义训练过程\n",
    "def train_epoch(model, optimizer, loss_fn, train_loader, val_loader):\n",
    "    model.train()\n",
    "    total_train_loss = 0\n",
    "    \n",
    "    for X_batch, y_batch in train_loader:\n",
    "        optimizer.zero_grad()\n",
    "        \n",
    "        # 前向传播\n",
    "        outputs = model.encoder(X_batch)\n",
    "        logits = model.fc(outputs)\n",
    "        \n",
    "        loss = loss_fn(logits, y_batch)\n",
    "        loss.backward()\n",
    "        optimizer.step()\n",
    "        \n",
    "        total_train_loss += loss.item()\n",
    "    \n",
    "    # 验证集\n",
    "    model.eval()\n",
    "    total_val_loss = 0\n",
    "    with torch.no_grad():\n",
    "        for X_val_batch, y_val_batch in val_loader:\n",
    "            val_outputs = model.encoder(X_val_batch)\n",
    "            val_logits = model.fc(val_outputs)\n",
    "            val_loss = loss_fn(val_logits, y_val_batch)\n",
    "            total_val_loss += val_loss.item()\n",
    "\n",
    "    return total_train_loss / len(train_loader), total_val_loss / len(val_loader)\n",
    "\n"
   ]
  },
  {
   "cell_type": "code",
   "execution_count": 4,
   "metadata": {
    "execution": {
     "iopub.execute_input": "2025-04-12T07:30:00.580988Z",
     "iopub.status.busy": "2025-04-12T07:30:00.580847Z",
     "iopub.status.idle": "2025-04-12T07:31:36.252305Z",
     "shell.execute_reply": "2025-04-12T07:31:36.251606Z"
    }
   },
   "outputs": [
    {
     "name": "stdout",
     "output_type": "stream",
     "text": [
      "Epoch 1, Train Loss: 0.5517628307176311, Validation Loss: 0.40388928754680653\n",
      "Validation loss improved to 0.40388928754680653, resetting patience.\n"
     ]
    },
    {
     "name": "stdout",
     "output_type": "stream",
     "text": [
      "Epoch 2, Train Loss: 0.3457664218213823, Validation Loss: 0.33150535950503374\n",
      "Validation loss improved to 0.33150535950503374, resetting patience.\n"
     ]
    },
    {
     "name": "stdout",
     "output_type": "stream",
     "text": [
      "Epoch 3, Train Loss: 0.3087181458838105, Validation Loss: 0.3384449882858296\n",
      "No improvement in validation loss. Patience counter: 1/20\n"
     ]
    },
    {
     "name": "stdout",
     "output_type": "stream",
     "text": [
      "Epoch 4, Train Loss: 0.28999761897818976, Validation Loss: 0.310611684915378\n",
      "Validation loss improved to 0.310611684915378, resetting patience.\n"
     ]
    },
    {
     "name": "stdout",
     "output_type": "stream",
     "text": [
      "Epoch 5, Train Loss: 0.27668738152531497, Validation Loss: 0.27253160417685046\n",
      "Validation loss improved to 0.27253160417685046, resetting patience.\n"
     ]
    },
    {
     "name": "stdout",
     "output_type": "stream",
     "text": [
      "Epoch 6, Train Loss: 0.2670765803854969, Validation Loss: 0.2912268577342106\n",
      "No improvement in validation loss. Patience counter: 1/20\n"
     ]
    },
    {
     "name": "stdout",
     "output_type": "stream",
     "text": [
      "Epoch 7, Train Loss: 0.254361735855702, Validation Loss: 0.28028515707417795\n",
      "No improvement in validation loss. Patience counter: 2/20\n"
     ]
    },
    {
     "name": "stdout",
     "output_type": "stream",
     "text": [
      "Epoch 8, Train Loss: 0.2537203698149174, Validation Loss: 0.3192667433906933\n",
      "No improvement in validation loss. Patience counter: 3/20\n"
     ]
    },
    {
     "name": "stdout",
     "output_type": "stream",
     "text": [
      "Epoch 9, Train Loss: 0.24400613447225172, Validation Loss: 0.2490439557182002\n",
      "Validation loss improved to 0.2490439557182002, resetting patience.\n"
     ]
    },
    {
     "name": "stdout",
     "output_type": "stream",
     "text": [
      "Epoch 10, Train Loss: 0.2417110596055039, Validation Loss: 0.2708026094333775\n",
      "No improvement in validation loss. Patience counter: 1/20\n"
     ]
    },
    {
     "name": "stdout",
     "output_type": "stream",
     "text": [
      "Epoch 11, Train Loss: 0.23216825020793735, Validation Loss: 0.28098031209053725\n",
      "No improvement in validation loss. Patience counter: 2/20\n"
     ]
    },
    {
     "name": "stdout",
     "output_type": "stream",
     "text": [
      "Epoch 12, Train Loss: 0.23048079836797092, Validation Loss: 0.2858867696699152\n",
      "No improvement in validation loss. Patience counter: 3/20\n"
     ]
    },
    {
     "name": "stdout",
     "output_type": "stream",
     "text": [
      "Epoch 13, Train Loss: 0.22227085061971918, Validation Loss: 0.26552227101652753\n",
      "No improvement in validation loss. Patience counter: 4/20\n"
     ]
    },
    {
     "name": "stdout",
     "output_type": "stream",
     "text": [
      "Epoch 14, Train Loss: 0.2164600391046414, Validation Loss: 0.25116763089967864\n",
      "No improvement in validation loss. Patience counter: 5/20\n"
     ]
    },
    {
     "name": "stdout",
     "output_type": "stream",
     "text": [
      "Epoch 15, Train Loss: 0.2115791151482685, Validation Loss: 0.291121890626583\n",
      "No improvement in validation loss. Patience counter: 6/20\n"
     ]
    },
    {
     "name": "stdout",
     "output_type": "stream",
     "text": [
      "Epoch 16, Train Loss: 0.20977331043783096, Validation Loss: 0.26955652040273403\n",
      "No improvement in validation loss. Patience counter: 7/20\n"
     ]
    },
    {
     "name": "stdout",
     "output_type": "stream",
     "text": [
      "Epoch 17, Train Loss: 0.2077910510543125, Validation Loss: 0.30434700275586946\n",
      "No improvement in validation loss. Patience counter: 8/20\n"
     ]
    },
    {
     "name": "stdout",
     "output_type": "stream",
     "text": [
      "Epoch 18, Train Loss: 0.20010629084472562, Validation Loss: 0.315427636056382\n",
      "No improvement in validation loss. Patience counter: 9/20\n"
     ]
    },
    {
     "name": "stdout",
     "output_type": "stream",
     "text": [
      "Epoch 19, Train Loss: 0.20003469630037, Validation Loss: 0.2521064043196325\n",
      "No improvement in validation loss. Patience counter: 10/20\n"
     ]
    },
    {
     "name": "stdout",
     "output_type": "stream",
     "text": [
      "Epoch 20, Train Loss: 0.19377971087909082, Validation Loss: 0.30937547369051704\n",
      "No improvement in validation loss. Patience counter: 11/20\n"
     ]
    },
    {
     "name": "stdout",
     "output_type": "stream",
     "text": [
      "Epoch 21, Train Loss: 0.19314535069309807, Validation Loss: 0.2653103052132626\n",
      "No improvement in validation loss. Patience counter: 12/20\n"
     ]
    },
    {
     "name": "stdout",
     "output_type": "stream",
     "text": [
      "Epoch 22, Train Loss: 0.18820148239760356, Validation Loss: 0.24419430726524538\n",
      "Validation loss improved to 0.24419430726524538, resetting patience.\n"
     ]
    },
    {
     "name": "stdout",
     "output_type": "stream",
     "text": [
      "Epoch 23, Train Loss: 0.1838007107425749, Validation Loss: 0.27909639837021755\n",
      "No improvement in validation loss. Patience counter: 1/20\n"
     ]
    },
    {
     "name": "stdout",
     "output_type": "stream",
     "text": [
      "Epoch 24, Train Loss: 0.18390886494910147, Validation Loss: 0.26484965824233697\n",
      "No improvement in validation loss. Patience counter: 2/20\n"
     ]
    },
    {
     "name": "stdout",
     "output_type": "stream",
     "text": [
      "Epoch 25, Train Loss: 0.18199112535350853, Validation Loss: 0.2923326627327706\n",
      "No improvement in validation loss. Patience counter: 3/20\n"
     ]
    },
    {
     "name": "stdout",
     "output_type": "stream",
     "text": [
      "Epoch 26, Train Loss: 0.1782020200003336, Validation Loss: 0.3060209757558585\n",
      "No improvement in validation loss. Patience counter: 4/20\n"
     ]
    },
    {
     "name": "stdout",
     "output_type": "stream",
     "text": [
      "Epoch 27, Train Loss: 0.1763991229398448, Validation Loss: 0.2587240052782945\n",
      "No improvement in validation loss. Patience counter: 5/20\n"
     ]
    },
    {
     "name": "stdout",
     "output_type": "stream",
     "text": [
      "Epoch 28, Train Loss: 0.176177425898433, Validation Loss: 0.28723744571511517\n",
      "No improvement in validation loss. Patience counter: 6/20\n"
     ]
    },
    {
     "name": "stdout",
     "output_type": "stream",
     "text": [
      "Epoch 29, Train Loss: 0.17562487494192353, Validation Loss: 0.27893958641641636\n",
      "No improvement in validation loss. Patience counter: 7/20\n"
     ]
    },
    {
     "name": "stdout",
     "output_type": "stream",
     "text": [
      "Epoch 30, Train Loss: 0.17539689549466103, Validation Loss: 0.2737295350371884\n",
      "No improvement in validation loss. Patience counter: 8/20\n"
     ]
    },
    {
     "name": "stdout",
     "output_type": "stream",
     "text": [
      "Epoch 31, Train Loss: 0.17620154870937788, Validation Loss: 0.25840010656620643\n",
      "No improvement in validation loss. Patience counter: 9/20\n"
     ]
    },
    {
     "name": "stdout",
     "output_type": "stream",
     "text": [
      "Epoch 32, Train Loss: 0.17031402237031584, Validation Loss: 0.2623425252773435\n",
      "No improvement in validation loss. Patience counter: 10/20\n"
     ]
    },
    {
     "name": "stdout",
     "output_type": "stream",
     "text": [
      "Epoch 33, Train Loss: 0.16668896458247648, Validation Loss: 0.2734055191581019\n",
      "No improvement in validation loss. Patience counter: 11/20\n"
     ]
    },
    {
     "name": "stdout",
     "output_type": "stream",
     "text": [
      "Epoch 34, Train Loss: 0.16652372489583908, Validation Loss: 0.28402185795573415\n",
      "No improvement in validation loss. Patience counter: 12/20\n"
     ]
    },
    {
     "name": "stdout",
     "output_type": "stream",
     "text": [
      "Epoch 35, Train Loss: 0.1653345337620488, Validation Loss: 0.2610322151919307\n",
      "No improvement in validation loss. Patience counter: 13/20\n"
     ]
    },
    {
     "name": "stdout",
     "output_type": "stream",
     "text": [
      "Epoch 36, Train Loss: 0.16242276286312698, Validation Loss: 0.2649890977113985\n",
      "No improvement in validation loss. Patience counter: 14/20\n"
     ]
    },
    {
     "name": "stdout",
     "output_type": "stream",
     "text": [
      "Epoch 37, Train Loss: 0.16431773733956362, Validation Loss: 0.2915513733316799\n",
      "No improvement in validation loss. Patience counter: 15/20\n"
     ]
    },
    {
     "name": "stdout",
     "output_type": "stream",
     "text": [
      "Epoch 38, Train Loss: 0.16353625800127816, Validation Loss: 0.27035111177542487\n",
      "No improvement in validation loss. Patience counter: 16/20\n"
     ]
    },
    {
     "name": "stdout",
     "output_type": "stream",
     "text": [
      "Epoch 39, Train Loss: 0.16272875893057562, Validation Loss: 0.25019066618178704\n",
      "No improvement in validation loss. Patience counter: 17/20\n"
     ]
    },
    {
     "name": "stdout",
     "output_type": "stream",
     "text": [
      "Epoch 40, Train Loss: 0.16324111345286982, Validation Loss: 0.2860318730930386\n",
      "No improvement in validation loss. Patience counter: 18/20\n"
     ]
    },
    {
     "name": "stdout",
     "output_type": "stream",
     "text": [
      "Epoch 41, Train Loss: 0.15719751616197278, Validation Loss: 0.29383601694542744\n",
      "No improvement in validation loss. Patience counter: 19/20\n"
     ]
    },
    {
     "name": "stdout",
     "output_type": "stream",
     "text": [
      "Epoch 42, Train Loss: 0.1591895028973132, Validation Loss: 0.3305181138557831\n",
      "No improvement in validation loss. Patience counter: 20/20\n",
      "Early stopping triggered. Stopping training at epoch 42.\n",
      "Loaded best model weights based on validation loss.\n"
     ]
    }
   ],
   "source": [
    "import copy  # 用于保存模型的最佳状态\n",
    "\n",
    "# Early Stopping 参数\n",
    "patience = 20  # 如果验证损失在 10 个 epoch 中没有改善，停止训练\n",
    "min_delta = 1e-4  # 最小改善幅度\n",
    "patience_counter = 0\n",
    "best_val_loss = float('inf')  # 初始设置为正无穷大\n",
    "best_model_weights = copy.deepcopy(estim.model.state_dict())  # 保存最佳模型权重\n",
    "train_losses = []\n",
    "val_losses = []\n",
    "\n",
    "# 训练 500 个 epoch\n",
    "for epoch in range(500):\n",
    "    train_loss, val_loss = train_epoch(estim.model, optimizer, loss_fn, train_loader, val_loader)\n",
    "    print(f'Epoch {epoch+1}, Train Loss: {train_loss}, Validation Loss: {val_loss}')\n",
    "    train_losses.append(train_loss)\n",
    "    val_losses.append(val_loss)\n",
    "    \n",
    "    # Early Stopping 检查\n",
    "    if val_loss < best_val_loss - min_delta:\n",
    "        best_val_loss = val_loss  # 更新最佳验证损失\n",
    "        patience_counter = 0  # 重置 patience 计数器\n",
    "        best_model_weights = copy.deepcopy(estim.model.state_dict())  # 保存当前最佳模型\n",
    "        print(f\"Validation loss improved to {best_val_loss}, resetting patience.\")\n",
    "    else:\n",
    "        patience_counter += 1\n",
    "        print(f\"No improvement in validation loss. Patience counter: {patience_counter}/{patience}\")\n",
    "    \n",
    "    # 如果 patience_counter 超过设置的 patience，停止训练\n",
    "    if patience_counter >= patience:\n",
    "        print(f\"Early stopping triggered. Stopping training at epoch {epoch+1}.\")\n",
    "        break\n",
    "\n",
    "# 恢复到训练中性能最好的模型权重\n",
    "estim.model.load_state_dict(best_model_weights)\n",
    "print(\"Loaded best model weights based on validation loss.\")"
   ]
  },
  {
   "cell_type": "code",
   "execution_count": 5,
   "metadata": {
    "execution": {
     "iopub.execute_input": "2025-04-12T07:31:36.254010Z",
     "iopub.status.busy": "2025-04-12T07:31:36.253823Z",
     "iopub.status.idle": "2025-04-12T07:31:38.975930Z",
     "shell.execute_reply": "2025-04-12T07:31:38.975349Z"
    }
   },
   "outputs": [
    {
     "name": "stdout",
     "output_type": "stream",
     "text": [
      "KNN Accuracy on Test Data: 0.9215639527953272\n",
      "Weighted F1 Score: 0.9207774005449865\n",
      "Macro F1 Score: 0.8511210687107086\n",
      "Random Guess Accuracy: 0.1320247177116093\n",
      "                         precision    recall  f1-score   support\n",
      "\n",
      "                B_Cells       0.94      0.94      0.94       772\n",
      "           CD4+_T_Cells       0.85      0.86      0.86      1286\n",
      "           CD8+_T_Cells       0.83      0.84      0.83      1026\n",
      "                 DCIS_1       0.95      0.96      0.95      1937\n",
      "                 DCIS_2       0.91      0.92      0.91      1746\n",
      "            Endothelial       0.95      0.96      0.96      1348\n",
      "              IRF7+_DCs       0.92      0.93      0.93        74\n",
      "         Invasive_Tumor       0.96      0.96      0.96      5230\n",
      "             LAMP3+_DCs       0.86      0.90      0.88        49\n",
      "          Macrophages_1       0.93      0.93      0.93      1692\n",
      "          Macrophages_2       0.86      0.88      0.87       223\n",
      "             Mast_Cells       0.76      0.68      0.72        28\n",
      "          Myoepi_ACTA2+       0.94      0.94      0.94      1043\n",
      "          Myoepi_KRT15+       0.96      0.97      0.96       426\n",
      "      Perivascular-Like       0.83      0.72      0.77       125\n",
      "  Prolif_Invasive_Tumor       0.86      0.84      0.85       533\n",
      "                Stromal       0.95      0.96      0.96      6184\n",
      "Stromal_&_T_Cell_Hybrid       0.53      0.34      0.42        93\n",
      "  T_Cell_&_Tumor_Hybrid       0.64      0.75      0.69        87\n",
      "              Unlabeled       0.74      0.68      0.71      1265\n",
      "\n",
      "               accuracy                           0.92     25167\n",
      "              macro avg       0.86      0.85      0.85     25167\n",
      "           weighted avg       0.92      0.92      0.92     25167\n",
      "\n"
     ]
    }
   ],
   "source": [
    "# 8. 使用 KNN 替代测试阶段的 FC 分类层\n",
    "estim.model.eval()\n",
    "with torch.no_grad():\n",
    "    train_embeddings = estim.model.encoder(torch.tensor(X_train).float().to(device)).cpu().numpy()\n",
    "    test_embeddings = estim.model.encoder(torch.tensor(X_test).float().to(device)).cpu().numpy()\n",
    "\n",
    "from sklearn.neighbors import KNeighborsClassifier\n",
    "knn = KNeighborsClassifier(n_neighbors=5)\n",
    "knn.fit(train_embeddings, y_train)\n",
    "\n",
    "predictions = knn.predict(test_embeddings)\n",
    "\n",
    "accuracy = accuracy_score(y_test, predictions)\n",
    "print(f\"KNN Accuracy on Test Data: {accuracy}\")\n",
    "f1 = f1_score(y_test, predictions, average='weighted')\n",
    "print(f\"Weighted F1 Score: {f1}\")\n",
    "\n",
    "macro_f1 = f1_score(y_test, predictions, average='macro')\n",
    "print(f'Macro F1 Score: {macro_f1}')\n",
    "\n",
    "class_probabilities = np.bincount(y_test) / len(y_test)\n",
    "random_accuracy = np.sum(class_probabilities ** 2)\n",
    "print(f\"Random Guess Accuracy: {random_accuracy}\")\n",
    "\n",
    "report = classification_report(y_test, predictions, target_names=label_encoder.classes_)\n",
    "print(report)"
   ]
  },
  {
   "cell_type": "code",
   "execution_count": 6,
   "metadata": {
    "execution": {
     "iopub.execute_input": "2025-04-12T07:31:38.977533Z",
     "iopub.status.busy": "2025-04-12T07:31:38.977376Z",
     "iopub.status.idle": "2025-04-12T07:31:47.541625Z",
     "shell.execute_reply": "2025-04-12T07:31:47.541057Z"
    }
   },
   "outputs": [],
   "source": [
    "with torch.no_grad():\n",
    "    new_data_tensor = torch.tensor(new_data).float().to(device)\n",
    "    SSL_embeddings = estim.model.encoder(new_data_tensor).detach().cpu().numpy()\n",
    "new_adata = sc.read_h5ad(data_dir)\n",
    "new_adata.obsm[f'supervised_{random_seed}'] = SSL_embeddings\n",
    "new_adata.uns[f'supervised_y_test_{random_seed}'] = y_test\n",
    "new_adata.uns[f'supervised_predictions_{random_seed}'] = predictions\n",
    "new_adata.uns[f'supervised_target_names_{random_seed}'] = label_encoder.classes_\n",
    "new_adata.uns[f'supervised_train_loss_{random_seed}'] = train_losses\n",
    "new_adata.uns[f'supervised_val_loss_{random_seed}'] = val_losses\n",
    "new_adata.write_h5ad(data_dir)"
   ]
  },
  {
   "cell_type": "code",
   "execution_count": 7,
   "metadata": {
    "execution": {
     "iopub.execute_input": "2025-04-12T07:31:47.543639Z",
     "iopub.status.busy": "2025-04-12T07:31:47.543482Z",
     "iopub.status.idle": "2025-04-12T07:31:47.556021Z",
     "shell.execute_reply": "2025-04-12T07:31:47.555543Z"
    }
   },
   "outputs": [
    {
     "name": "stdout",
     "output_type": "stream",
     "text": [
      "Metrics Summary:\n",
      "init_train_loss\tinit_val_loss\tconverged_epoch\tconverged_val_loss\tmacro_f1\tweighted_f1\tmicro_f1\n",
      "0.552\t0.404\t22\t0.244\t0.851\t0.921\t0.922\n"
     ]
    }
   ],
   "source": [
    "\n",
    "import pandas as pd\n",
    "import os\n",
    "import re\n",
    "\n",
    "# 当前 Notebook 文件名\n",
    "notebook_name = \"SpaGE_imputed_Xenium_breast_cancer_sample1_replicate1_supervised_42.ipynb\"\n",
    "\n",
    "# 初始化需要打印的值\n",
    "init_train_loss = train_losses[0] if 'train_losses' in globals() else None\n",
    "init_val_loss = val_losses[0] if 'val_losses' in globals() else None\n",
    "converged_epoch = len(train_losses) - patience if 'train_losses' in globals() else None\n",
    "converged_val_loss = best_val_loss if 'best_val_loss' in globals() else None\n",
    "\n",
    "# 打印所有所需的指标\n",
    "print(\"Metrics Summary:\")\n",
    "if 'train_losses' in globals():\n",
    "    print(f\"init_train_loss\\tinit_val_loss\\tconverged_epoch\\tconverged_val_loss\\tmacro_f1\\tweighted_f1\\tmicro_f1\")\n",
    "    print(f\"{init_train_loss:.3f}\\t{init_val_loss:.3f}\\t{converged_epoch}\\t{converged_val_loss:.3f}\\t{macro_f1:.3f}\\t{f1:.3f}\\t{accuracy:.3f}\")\n",
    "else:\n",
    "    print(f\"macro_f1\\tweighted_f1\\tmicro_f1\")\n",
    "    print(f\"{macro_f1:.3f}\\t{f1:.3f}\\t{accuracy:.3f}\")\n",
    "\n",
    "# 保存结果到 CSV 文件\n",
    "output_data = {\n",
    "    'dataset_split_random_seed': [int(random_seed)],\n",
    "    'dataset': ['SpaGE_imputed_xenium_breast_cancer_sample1_replicate1'],\n",
    "    'method': [re.search(r'replicate1_(.*?)_\\d+', notebook_name).group(1)],\n",
    "    'init_train_loss': [init_train_loss if init_train_loss is not None else ''],\n",
    "    'init_val_loss': [init_val_loss if init_val_loss is not None else ''],\n",
    "    'converged_epoch': [converged_epoch if converged_epoch is not None else ''],\n",
    "    'converged_val_loss': [converged_val_loss if converged_val_loss is not None else ''],\n",
    "    'macro_f1': [macro_f1],\n",
    "    'weighted_f1': [f1],\n",
    "    'micro_f1': [accuracy]\n",
    "}\n",
    "output_df = pd.DataFrame(output_data)\n",
    "\n",
    "# 保存到当前目录下名为 results 的文件夹中\n",
    "if not os.path.exists('results'):\n",
    "    os.makedirs('results')\n",
    "\n",
    "csv_filename = f\"results/{os.path.splitext(notebook_name)[0]}_results.csv\"\n",
    "output_df.to_csv(csv_filename, index=False)\n"
   ]
  }
 ],
 "metadata": {
  "kernelspec": {
   "display_name": "ssl",
   "language": "python",
   "name": "python3"
  },
  "language_info": {
   "codemirror_mode": {
    "name": "ipython",
    "version": 3
   },
   "file_extension": ".py",
   "mimetype": "text/x-python",
   "name": "python",
   "nbconvert_exporter": "python",
   "pygments_lexer": "ipython3",
   "version": "3.10.13"
  }
 },
 "nbformat": 4,
 "nbformat_minor": 2
}
