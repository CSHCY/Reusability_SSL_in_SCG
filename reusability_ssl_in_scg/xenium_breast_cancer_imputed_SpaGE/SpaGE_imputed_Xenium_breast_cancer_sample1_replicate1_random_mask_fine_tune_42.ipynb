{
 "cells": [
  {
   "cell_type": "code",
   "execution_count": 1,
   "metadata": {
    "execution": {
     "iopub.execute_input": "2025-04-12T07:47:22.338835Z",
     "iopub.status.busy": "2025-04-12T07:47:22.338702Z",
     "iopub.status.idle": "2025-04-12T07:47:31.711085Z",
     "shell.execute_reply": "2025-04-12T07:47:31.710400Z"
    }
   },
   "outputs": [
    {
     "name": "stderr",
     "output_type": "stream",
     "text": [
      "/home/hanchuangyi/miniconda3/envs/ssl/lib/python3.10/site-packages/merlin/dtypes/mappings/tf.py:52: UserWarning: Tensorflow dtype mappings did not load successfully due to an error: No module named 'tensorflow'\n",
      "  warn(f\"Tensorflow dtype mappings did not load successfully due to an error: {exc.msg}\")\n",
      "/home/hanchuangyi/miniconda3/envs/ssl/lib/python3.10/site-packages/merlin/dtypes/mappings/triton.py:53: UserWarning: Triton dtype mappings did not load successfully due to an error: No module named 'tritonclient'\n",
      "  warn(f\"Triton dtype mappings did not load successfully due to an error: {exc.msg}\")\n"
     ]
    }
   ],
   "source": [
    "import scanpy as sc\n",
    "import torch\n",
    "import lightning.pytorch as pl\n",
    "from torch import nn\n",
    "from torch.optim import AdamW\n",
    "from self_supervision.models.lightning_modules.cellnet_autoencoder import MLPAutoEncoder\n",
    "from self_supervision.estimator.cellnet import EstimatorAutoEncoder\n",
    "from sklearn.model_selection import train_test_split\n",
    "from sklearn.preprocessing import LabelEncoder\n",
    "from sklearn.metrics import accuracy_score, f1_score, classification_report\n",
    "import numpy as np\n",
    "import pandas as pd\n",
    "\n",
    "# 1. 加载数据集\n",
    "data_dir = '../../dataset/SpaGE_imputed_Xenium_breast_cancer_sample1_replicate1.h5ad'\n",
    "adata = sc.read_h5ad(data_dir)\n",
    "\n",
    "\n",
    "\n",
    "\n",
    "\n",
    "# 2. 设置 checkpoint 路径\n",
    "ckpt_path = \"../../sc_pretrained/Pretrained Models/RandomMask.ckpt\"\n",
    "\n",
    "# 3. 模型参数\n",
    "units_encoder = [512, 512, 256, 256, 64]\n",
    "units_decoder = [256, 256, 512, 512]\n",
    "\n",
    "# 初始化 EstimatorAutoEncoder 实例\n",
    "estim = EstimatorAutoEncoder(data_path=None)  # 没有实际数据路径，可以设置为None\n",
    "\n",
    "# 4. 加载预训练模型\n",
    "estim.model = MLPAutoEncoder.load_from_checkpoint(\n",
    "    ckpt_path,\n",
    "    gene_dim=19331,  # 根据你的数据调整\n",
    "    batch_size=128,  # 根据你的需要调整\n",
    "    units_encoder=units_encoder, \n",
    "    units_decoder=units_decoder,\n",
    "    masking_strategy=\"random\",  # 假设模型使用了随机掩码\n",
    "    masking_rate=0.5,  # 根据需要调整\n",
    ")"
   ]
  },
  {
   "cell_type": "code",
   "execution_count": 2,
   "metadata": {
    "execution": {
     "iopub.execute_input": "2025-04-12T07:47:31.713425Z",
     "iopub.status.busy": "2025-04-12T07:47:31.712940Z",
     "iopub.status.idle": "2025-04-12T07:47:31.719577Z",
     "shell.execute_reply": "2025-04-12T07:47:31.719168Z"
    }
   },
   "outputs": [
    {
     "data": {
      "text/plain": [
       "20"
      ]
     },
     "execution_count": 2,
     "metadata": {},
     "output_type": "execute_result"
    }
   ],
   "source": [
    "# 添加分类层 (FC)\n",
    "n_classes = len(adata.obs['cell_type'].unique())\n",
    "estim.model.fc = nn.Linear(units_encoder[-1], n_classes)\n",
    "n_classes"
   ]
  },
  {
   "cell_type": "code",
   "execution_count": 3,
   "metadata": {
    "execution": {
     "iopub.execute_input": "2025-04-12T07:47:31.720906Z",
     "iopub.status.busy": "2025-04-12T07:47:31.720760Z",
     "iopub.status.idle": "2025-04-12T07:47:31.741128Z",
     "shell.execute_reply": "2025-04-12T07:47:31.740687Z"
    }
   },
   "outputs": [],
   "source": [
    "var_df = pd.read_parquet('../../sc_pretrained/var.parquet')\n",
    "all_genes = var_df['feature_name'].tolist()\n",
    "\n",
    "new_data = np.zeros((adata.X.shape[0], len(all_genes)), dtype=np.float32)\n",
    "\n",
    "adata.var['gene_name']=adata.var.index\n",
    "existing_genes = adata.var['gene_name']"
   ]
  },
  {
   "cell_type": "code",
   "execution_count": 4,
   "metadata": {
    "execution": {
     "iopub.execute_input": "2025-04-12T07:47:31.742443Z",
     "iopub.status.busy": "2025-04-12T07:47:31.742287Z",
     "iopub.status.idle": "2025-04-12T07:47:31.759344Z",
     "shell.execute_reply": "2025-04-12T07:47:31.758935Z"
    }
   },
   "outputs": [
    {
     "name": "stdout",
     "output_type": "stream",
     "text": [
      "匹配的基因数量: 17773\n",
      "匹配的基因列表: {'sbno1', 'reln', 'lcn2', 'scyl2', 'iqsec2', 'slc15a4', 'abhd4', 'cln8', 'st6galnac5', 'zscan10', 'notum', 'chrac1', 'fancb', 'or4d6', 'lalba', 'ctdnep1', 'fcmr', 'mpzl2', 'smc5', 'wapl', 'oxsr1', 'rln2', 'iqcf2', 'mybpc2', 'cdh20', 'cnbd1', 'plb1', 'cldn17', 'slc2a10', 'tyw1', 'naxd', 'suco', 'brd1', 'ppt2', 'il25', 'tshb', 'osbpl11', 'plglb2', 'tecr', 'tmem134', 'qpct', 'ube2g2', 'efcab1', 'spink4', 'ogfod1', 'ccl20', 'sh2d7', 'znf80', 'ap2m1', 'ssuh2', 'capsl', 'itgb1bp1', 'setd4', 'isoc2', 'psmb4', 'serbp1', 'catsperz', 'myh14', 'znf687', 'ccl3l1', 'gramd1b', 'hmgcs1', 'selenok', 'c2orf78', 'mmp21', 'clic1', 'or2ak2', 'tsku', 'sult1a1', 'slc43a1', 'nop14', 'tmem219', 'mrm2', 'gabrg1', 'tmem127', 'hyls1', 'umps', 'hscb', 'gcsam', 'eva1b', 'usp17l10', 'fam167a', 'ap4m1', 'gadd45a', 'krt86', 'tgfbr2', 'arpp21', 'trim44', 'c1orf185', 'gpn1', 'akap10', 'impdh2', 'c3orf22', 'irak3', 'mst1r', 'znf32', 'cldn18', 'pcbd1', 'c7orf50', 'tmem79', 'rad21', 'mnda', 'fibp', 'capzb', 'oosp4b', 'pfas', 'zdhhc6', 'micu2', 'enpp7', 'entpd1', 'rrp12', 'c11orf86', 'gna11', 'nans', 'tmem238', 'dnaja3', 'hnrnpc', 'rab11fip3', 'b3glct', 'zcchc7', 'spata19', 'hnrnpa3', 'atp6v1e1', 'ccdc195', 'tpm4', 'fbxo46', 'cyp20a1', 'mx1', 'fthl17', 'atp5f1a', 'prkcz', 'tp53rk', 'znf791', 'rev1', 'kifc2', 'krtap5-7', 'camk1g', 'cabp4', 'cds1', 'awat2', 'pgam5', 'pkd1l3', 'mtmr7', 'eya2', 'tff3', 'magea1', 'ccni', 'spaca7', 'ceacam6', 'agt', 'grm5', 'mpz', 'pcp2', 'arel1', 'zc4h2', 'pla2g4d', 'edn3', 'ifi6', 'dlg3', 'pisd', 'gadd45g', 'snrpb', 'gnpda1', 'gas6', 'prrt4', 'rsrc1', 'chst8', 'hmgn5', 'jaml', 'trim72', 'rgs10', 'rem1', 'aqp7', 'ube2j1', 'commd6', 'nxpe1', 'fam217a', 'pipox', 'sap30l', 'synpo2l', 'pcp4l1', 'or56a5', 'tas2r14', 'fanca', 'ssx5', 'mettl8', 'mmaa', 'bcl2l13', 'scn3b', 'cenpc', 'plagl2', 'p2rx4', 'bcl2l2', 'tlcd1', 'znf827', 'gipc3', 'cep104', 'cdkn1c', 'cenpj', 'pafah1b1', 'ascc3', 'ing4', 'myo1c', 'slx4ip', 'mta1', 'myl3', 'npc1', 'nt5c3a', 'itpk1', 'spata31e1', 'large2', 'adgrb2', 'atg101', 'rbpms2', 'tlr5', 'cxorf38', 'msh4', 'oprd1', 'cops7b', 'ptx3', 'tex30', 'hoxb8', 'ap4b1', 'zbtb26', 'uchl5', 'anxa3', 'ulk3', 'c11orf24', 'hyal1', 'klf11', 'inka1', 'triqk', 'znf84', 'rspo2', 'fam50a', 'ankrd42', 'ralgapa2', 'gsta3', 'znf337', 'rfx1', 'baalc', 'exoc1l', 'mlip', 'ren', 'abcg2', 'cct2', 'hbegf', 'mms22l', 'cd276', 'prkd2', 'slc17a1', 'prpf31', 'b4galt1', 'cytip', 'sox6', 'fcn3', 'mex3d', 'ttll7', 'ccdc189', 'zdhhc13', 'magea6', 'tm4sf1', 'rnf215', 'ncl', 'sccpdh', 'ttn', 'prpf4b', 'f7', 'erlin1', 'herc4', 'dhrs13', 'cmtm8', 'polr2g', 'zic5', 'spata20', 'prlr', 'wwp2', 'ankrd52', 'snx10', 'tgfb2', 'dip2c', 'xiap', 'chd7', 'csgalnact2', 'man1c1', 'cachd1', 'mertk', 'rnf125', 'rasal3', 'cenpk', 'lrrn2', 'prr27', 'fndc10', 'ripk2', 'brpf3', 'ndnf', 'stat3', 'glis1', 'c3orf14', 'a3galt2', 'cog5', 'susd5', 'myh13', 'dnah10', 'wdr17', 'pmp2', 'dnmt3b', 'c2cd2', 'krt222', 'nlrp7', 'nabp1', 'tstd2', 'ddrgk1', 'fetub', 'usp39', 'rnft1', 'fmn2', 'phf14', 'cpt2', 'itfg2', 'pip4k2c', 'kiaa0100', 'cyp3a5', 'enpp6', 'rcn3', 'ppt1', 'hnrnpcl2', 'rwdd3', 'tead3', 'txnrd1', 'banp', 'ccr10', 'klf8', 'tada2a', 'ankmy2', 'apobec3f', 'hsd3b1', 'lamtor1', 'elavl1', 'tyw5', 'znf69', 'dynll2', 'zscan5a', 'fam126b', 'haus5', 'mapk1ip1l', 'ncbp1', 'cmklr1', 'ets2', 'plpp1', 'ror1', 'plscr1', 'cope', 'itln2', 'mpzl1', 'rnls', 'or11l1', 'pnck', 'defa3', 'elk1', 'treml1', 'znf655', 'myo16', 'dctpp1', 'sec23a', 'zzef1', 'atp8b4', 'fgf7', 'znf652', 'cbx6', 'cdan1', 'cdk5r2', 'rnf144b', 'ppp1r16b', 'capn3', 'smc3', 'plcl2', 'zfyve27', 'tvp23a', 'psen1', 'ptgr1', 'aaas', 'adnp2', 'nipsnap1', 'cd63', 'thyn1', 'sgsm3', 'wnk2', 'dyrk1a', 'slc51b', 'ror2', 'or7g2', 'cwc25', 'c5orf58', 'lama4', 'zbbx', 'or5au1', 'ly6e', 'ambn', 'raly', 'btd', 'ttll11', 'mmadhc', 'nr0b2', 'krtap19-8', 'or2j2', 'or4a15', 'ntan1', 'cdip1', 'naa15', 'slc6a16', 'pramef1', 'acap1', 'atg10', 'unc119b', 'znf451', 'cntn4', 'elp1', 'pphln1', 'raet1e', 'trappc8', 'prune2', 'myom3', 'haus3', 'mlana', 'gpr61', 'foxs1', 'snx13', 'rnf139', 'gast', 'wdr89', 'dffb', 'ly6g6f', 'samd5', 'klhl12', 'ppp1r14d', 'ankrd10', 'gimd1', 'hcrtr2', 's100a16', 'focad', 'cep290', 'grn', 'pcdhac1', 'zfp90', 'golgb1', 'or5j2', 'acsm3', 'or52e5', 'mtmr3', 'ptpn22', 'tmem220', 'alpk2', 'mon1a', 'or8g1', 'nr2c2ap', 'frzb', 'bambi', 'mei1', 'prkx', 'slc7a7', 'echs1', 'cask', 'ppp2r1b', 'pnma6e', 'plcb3', 'cnn2', 'hdlbp', 'stk33', 'unc93b1', 'napsa', 'phospho2', 'gls2', 'canx', 'impa2', 'tmem151a', 'mrgpre', 'phlda3', 'arrdc3', 'ankrd33b', 'glt8d1', 'gtpbp10', 'aip', 'uqcc3', 'top2a', 'abhd12b', 'pdzrn3', 'frg2c', 'arfip2', 'l3mbtl2', 'atxn3', 'rarg', 'eef2', 'bpifb4', 'smyd2', 'pigu', 'ptrh2', 'rap1a', 'ptprg', 'tle4', 'c6orf58', 'cd83', 'erich6b', 'rad51', 'lrfn4', 'colec12', 'coa4', 'epb41l1', 'dapp1', 'cenpx', 'gucy1a1', 'mettl23', 'pkm', 'daxx', 'ddb1', 'sun1', 'tectb', 'kif12', 'p3h4', 'ppp1r15b', 'il12rb2', 'plekho1', 'mmp1', 'chd4', 'frmd8', 'gpr27', 'lrsam1', 'gpr15', 'ndrg3', 'nkd2', 'polr2d', 'ppm1m', 'adra1b', 'saysd1', 'tefm', 'znf736', 'rxrg', 'ddx27', 'septin2', 'krtap22-1', 'spint3', 'kcna1', 'ttc12', 'atp12a', 'ica1', 'nsa2', 'or2m5', 'upf1', 'znf100', 'mcfd2', 'cmtm2', 'cst9l', 'lipk', 'rab17', 'cdk4', 'trdmt1', 'znf133', 'lmf1', 'gga2', 'carns1', 'hsd17b13', 'tent4a', 'plcxd2', 'endou', 'zranb3', 'lmo7', 'aacs', 'bola3', 'best1', 'anxa11', 'usp7', 'tmem225b', 'ncam2', 'sdc4', 'manf', 'gdpd3', 'tas1r1', 'gsc', 'dppa4', 'ripor3', 'erbb3', 'kiaa1841', 'pglyrp2', 'aif1', 'ctrb2', 'otos', 'sf3a3', 'actg1', 'mief1', 'clcc1', 'auh', 'col1a1', 'znf593', 'or6k6', 'zbtb44', 'or10j1', 'oas2', 'syce1l', 'nkapl', 'usp14', 'znf407', 'ckap5', 'ccdc102b', 'dido1', 'rbm7', 'steap4', 'crispld2', 'kdm6b', 'nploc4', 'vps11', 'ncbp2', 'strada', 'isyna1', 'efnb3', 'or10g8', 'lyrm7', 'znf548', 'chgb', 'rsph10b2', 'dmgdh', 'ervfrd-1', 'myzap', 'ccl27', 'rtl1', 'tesk1', 'pcdhga11', 'c1qtnf7', 'enc1', 'copb2', 'c12orf4', 'smim1', 'tmem175', 'siva1', 'tmem190', 'mab21l3', 'slc9a3r1', 'dlx6', 'hoxa7', 'chuk', 'zmym1', 'tdrp', 'fth1', 'mdm2', 'pias2', 'pdcd1', 'taf11l14', 'kcnh8', 'nefh', 'enpp1', 'grwd1', 'fbp2', 'mthfsd', 'lrrc72', 'cd200r1', 'or4c5', 'susd4', 'lilrb4', 'npepps', 'arhgef40', 'znf24', 'arhgef12', 'znf782', 'adh1a', 'foxc2', 'celf5', 'vamp5', 'fbxl5', 'fcrl5', 'bnip2', 'pde3b', 'tanc2', 'il7r', 'lrrc8d', 'prss38', 'aldh1l2', 'phkg1', 'tyw1b', 'ankfy1', 'rsrp1', 'znf226', 'hps1', 'znf302', 'dab2', 'slc2a12', 'chrna3', 'hsd17b12', 'shox', 'csnk1a1l', 'scrt2', 'znf765', 'prkar1a', 'ctcfl', 'plcd1', 'rnf40', 'mob1b', 'ryr2', 'seh1l', 'ubash3a', 'sncg', 'rlf', 'jph2', 'gpatch3', 'fastk', 'nudt1', 'setd7', 'usb1', 'ankdd1b', 'emc9', 'rcl1', 'mab21l4', 'tbx4', 'gripap1', 'rttn', 'zadh2', 'fam47e', 'lratd1', 'alkbh7', 'srpx', 'rapgef6', 'neu1', 'cox16', 'cd5l', 'znf699', 'nfasc', 'ldhal6b', 'tbx3', 'alox12b', 'rint1', 'iqca1', 'scp2', 'sncaip', 'defb4a', 'syndig1l', 's100a13', 'lilra4', 'adamts13', 'nipal2', 'znf532', 'amigo2', 'hsf5', 'tcp11l1', 'znf581', 'mtm1', 'wdr87', 'cant1', 'cd1b', 'brinp2', 'lrrc3c', 'actn2', 'il17rc', 'neil3', 'elovl1', 'ramp1', 'znf268', 'wnt8b', 'or4b1', 'top2b', 'dgkb', 'krtap4-1', 'map1lc3b', 'or2t11', 'c1orf74', 'gypc', 'tapbp', 'gramd2b', 'flii', 'ddx55', 'sh2d4a', 'snx32', 'slc19a1', 'znf878', 'znf835', 'ifrd1', 'necab2', 'flt3', 'pla2g1b', 'snph', 'col1a2', 'ankrd11', 'uaca', 'c16orf90', 'slc25a25', 'dnase1l3', 'iqck', 'vps13c', 'mageb1', 'fahd2b', 'tcerg1', 'fgf14', 'cxcl10', 'asap1', 'trim5', 'znf34', 'cbx5', 'alg2', 'atxn2', 'zbtb38', 'bmx', 'idh1', 'kif1b', 'nr4a2', 'camk2b', 'kir3dl3', 'phgdh', 'or1l8', 'eomes', 'semg1', 'cep63', 'izumo4', 'r3hdm4', 'ttyh1', 'gng4', 'cul1', 'them6', 'osm', 'trrap', 'plaat2', 'vav3', 'vmo1', 'sox17', 'abhd14a', 'ccdc9', 'tmem54', 'zpr1', 'folr3', 'crip1', 'clic4', 'purb', 'znf562', 'pdzd9', 'eif4e2', 'hrk', 'arpin', 'tnfsf8', 'drd4', 'kifc3', 'acap3', 'cluh', 'hmgb4', 'b4galt2', 'rab36', 'usp2', 'zap70', 'nqo2', 'tmem52', 'gria1', 'tmem207', 'klf2', 'igsf22', 'sms', 'milr1', 'yipf1', 'lag3', 'klhl33', 'fmn1', 'gmppa', 'ccdc30', 'apof', 'caln1', 'naa38', 'paox', 'mgarp', 'arcn1', 'nipa2', 'cenpv', 'ccdc38', 'aspdh', 'smim15', 'uba52', 'ldhb', 'c16orf78', 'prnp', 'slc5a3', 'rnase2', 'prdm2', 'proca1', 'sprr4', 'scara5', 'terb2', 'clec9a', 'kiz', 'cpne6', 'bin2', 'ina', 'plekhs1', 'pclo', 'ralgds', 'jph1', 'uhmk1', 'alkbh1', 'ttc30b', 'bok', 'tgif1', 'rtkn2', 'hsd3b7', 'mageh1', 'pyurf', 'or7g1', 'tie1', 'krt83', 'muc6', 'cox8c', 'cpvl', 'tm9sf1', 'ampd3', 'or4d1', 'cdkn1b', 'pnma6f', 'cd14', 'kpna2', 'or7c2', 'apoc2', 'alkbh5', 'limd2', 'tnip1', 'zfand4', 'lcat', 'zscan5c', 'or1g1', 'c2cd4b', 'usp36', 'gsg1', 'ablim2', 'znf512', 'xk', 'mcrip1', 'gabpb2', 'adra2c', 'gpat2', 'iffo1', 'ints9', 'magohb', 'pdpn', 'tmprss13', 'znf700', 'hnf4g', 'zbtb5', 'fstl3', 'fam174c', 'marveld2', 'nell2', 'phlpp1', 'c10orf90', 'gsr', 'krtap13-3', 'lpcat3', 'vcpkmt', 'ogdh', 'plxnc1', 'c2orf72', 'mphosph8', 'frmd6', 'c17orf50', 'iqgap3', 'tex2', 'ldlr', 'c11orf53', 'dnase1', 'map2k5', 'pitpnm2', 'plekha3', 'sarnp', 'cish', 'akap13', 'csn2', 'cdh6', 'bloc1s5', 'lrp5', 'pter', 'nin', 'numbl', 'pdzd2', 'spn', 'degs2', 'opn3', 'maz', 'msgn1', 'slc35a1', 'dnm1l', 'ghrl', 'hbp1', 'ano4', 'ifna14', 'or8g5', 'pcdh11y', 'pdzd3', 'iapp', 'col6a2', 'nr5a2', 'tp53inp1', 'spo11', 'gdap1', 'xxylt1', 'scnn1b', 'cxcr5', 'mgam2', 'stx12', 'arhgef11', 'tigit', 'zcchc18', 'prkag1', 'castor2', 'sprr2d', 'cdx1', 'pax5', 'spag1', 'gjc3', 'opn5', 'c1orf43', 'gal', 'idi1', 'kxd1', 'rgs7bp', 'lrrc41', 'slc6a20', 'appbp2', 'ints3', 'ltk', 'zhx2', 'crnn', 'smim10l2a', 'scx', 'pcca', 'septin8', 'cda', 'fam90a1', 'fam71e1', 'prr29', 'c20orf204', 'atg5', 'ovch2', 'pgpep1', 'glud1', 'ptrhd1', 'ermap', 'hsbp1', 'ube2f', 'cyp2w1', 'cacng2', 'cadm4', 'ccdc186', 'exog', 'marcks', 'adgrf4', 'fstl1', 'slc25a43', 'tomm20l', 'ankrd6', 'nrsn2', 'rpusd1', 'pex3', 'ngdn', 'cfl2', 'trim36', 'ppdpfl', 'xrcc1', 'etfb', 'faxc', 'clasp1', 'mtmr14', 'rassf7', 'znf460', 'cplx1', 'efhd2', 'nedd9', 'pdlim2', 'znf783', 'prb3', 'tmem132b', 'stk4', 'zar1l', 'kiaa1210', 'rad54b', 'crim1', 'fem1a', 'tpcn1', 'bcl7b', 'znf439', 'pigp', 'atp1b3', 'slc28a2', 'trmt112', 'ctps2', 'gpr143', 'scarf2', 'catip', 'znf146', 'grk2', 'trir', 'cystm1', 'kif21b', 'mbnl2', 'amz2', 'c5orf24', 'tspan15', 'shbg', 'znf396', 'c20orf85', 'ubxn8', 'znf276', 'ifnl1', 'nagpa', 'mad1l1', 'kctd6', 'syt17', 'hace1', 'scamp5', 'commd7', 'znf410', 'ucp3', 'mmachc', 'pih1d1', 'sfxn1', 'diras2', 'ptdss1', 'eif4enif1', 'sec63', 'slc6a3', 'vdac1', 'zbtb12', 'c2orf42', 'ggact', 'ptpra', 'agap3', 'asf1a', 'pik3r5', 'nme2', 'slc35f2', 'fanci', 'or2t27', 'pmm1', 'znf493', 'dusp22', 'prpf4', 'cblc', 'vash1', 'or8d1', 'slc6a18', 'tspoap1', 'btf3', 'mogat3', 'crx', 'ccp110', 'trim37', 'arhgef17', 'magea10', 'calr3', 'rab38', 'pkn2', 'acsl4', 'scyl3', 'tenm3', 'rras', 'samd13', 'ticrr', 'mmp25', 'nbr1', 'gdf11', 'pcdh20', 'clec14a', 'capg', 'calm3', 'opn1sw', 'ppp2r5d', 'spred3', 'tfip11', 'znf610', 'tom1l1', 'slc29a2', 'stath', 'plgrkt', 'vwa3a', 'glra1', 'fkbp11', 'trim77', 'ccdc197', 'map4', 'prim2', 'or6k2', 'shank1', 'cyth1', 'rnd3', 'sesn3', 'lrch4', 'sbf2', 'snx30', 'sbk2', 'pnpla3', 'wdr3', 'ankrd55', 'slit1', 'klf6', 'rnase4', 'hdac9', 'foxp4', 'myadml2', 'a4galt', 'gnb3', 'ift80', 'krtcap3', 'gmpr', 'smad3', 'znf423', 'elk3', 'phf19', 'rln3', 'dnajc3', 'cyth2', 'rnase10', 'apoc1', 'cyp21a2', 'retn', 'slc12a6', 'ndufa2', 'muc3a', 'tiam1', 'sos1', 'zpld1', 'uqcrh', 'traf1', 'a1cf', 'lmbrd1', 'axdnd1', 'col11a1', 'mageb4', 'stx4', 'api5', 'aph1b', 'ehd2', 'knstrn', 'nog', 'armc2', 'eif4a3', 'chrnb4', 'gsk3b', 'nectin3', 'cpne3', 'lsm1', 'chst12', 'gzmh', 'adamts10', 'fam83c', 'gpbp1l1', 'sulf2', 'wdr20', 'tox2', 'slc7a8', 'pex11a', 'clptm1l', 'ogdhl', 'mgat4b', 'polq', 'znf428', 'cd48', 'aco2', 'acyp1', 'acsm6', 'gys1', 'cd180', 'dnajc8', 'ptger1', 'snapc2', 'aloxe3', 'plekho2', 'trabd', 'tssk4', 'fam229b', 'pou5f1b', 'tmem121', 'tmem59', 'lama3', 'zcchc14', 'znf710', 'asgr1', 'fabp1', 'cfap299', 'recql4', 'zscan23', 'dcaf8l1', 'ndst3', 'dnal1', 'atp5mf', 'kmt2e', 'papss1', 'kcne3', 'anxa9', 'ctbs', 'esx1', 'ccdc167', 'fgl2', 'arsi', 'srprb', 'etfa', 'tub', 'ccl25', 'tle6', 'nxt1', 'cbr3', 'pilrb', 'cenps', 'prr5', 'sf3b6', 'tirap', 'tmem31', 'mroh7', 'neurl2', 'slc5a10', 'tob1', 'znrd2', 'cfap57', 'abce1', 'zswim6', 'nup35', 'emcn', 'msmo1', 'slco1a2', 'fbxo11', 'zbtb22', 'lrch3', 'dipk2b', 'fbxw2', 'gdf5', 'cckbr', 'taf11l8', 'znf304', 'top1', 'klhl28', 'c4orf45', 'glyat', 'mitf', 'zc3h7b', 'or10z1', 'surf2', 'or1l1', 'btn3a2', 'tor3a', 'ager', 'cxadr', 'tent2', 'b2m', 'fam71c', 'clba1', 'vars2', 'kif6', 'klhl29', 'ppargc1a', 'asb14', 'klhl14', 'c5orf34', 'slc4a5', 'ddhd2', 'fam131b', 'tor2a', 'baiap2l1', 'cacng4', 'gcn1', 'ric8a', 'cltcl1', 'riok2', 'znf595', 'ccdc124', 'atl3', 'xylb', 'smim5', 'cdk8', 'cthrc1', 'akr1e2', 'fam180a', 'med12l', 'pard3', 'dmpk', 'gdf7', 'prr5l', 'timm29', 'znf365', 'crlf3', 'pecam1', 'cacna1e', 'atad2', 'cops5', 'rinl', 'rbm17', 'atp1b2', 'lsp1', 'or5bs1p', 'nmrk1', 'pbrm1', 'htr3d', 'rpp38', 'rmnd5b', 'nrm', 'page4', 'pdgfra', 'ganab', 'insm1', 'csde1', 'gss', 'ints13', 'etaa1', 'morn3', 'ostf1', 'lcp2', 'tmie', 'ccnl2', 'acadvl', 'chic1', 'cdk2ap1', 'parp2', 'psme2', 'chrna1', 'ppp1r10', 'hmga2', 'apobec1', 'rexo2', 'calml3', 'rtp3', 'stbd1', 'lin28a', 'qrich2', 'gfer', 'muc19', 'gip', 'nup214', 'prame', 'sh3tc2', 'nmd3', 'vps13b', 'dhx38', 'akap8', 'nek11', 'eif4ebp1', 'nrg4', 'srarp', 'cd79a', 'garem1', 'bcat1', 'slc27a3', 'tmem8b', 'ccdc159', 'or2l5', 'or2a5', 'depdc1b', 'klrd1', 'rcsd1', 'idh3b', 'kcns1', 'morf4l1', 'znf703', 'ube2e3', 'gorasp2', 'napepld', 'tbc1d31', 'dact1', 'limch1', 'or52e4', 'slc66a3', 'nfatc3', 'cnga1', 'pgap3', 'rpel1', 'rpap1', 'eaf1', 'sp7', 'tmem176a', 'tmx4', 'xirp1', 'pcdhb11', 'lcorl', 'erp44', 'slc15a1', 'il15', 'lsm14b', 'atp6v0a1', 'snap47', 'zdhhc22', 'mboat7', 'eloc', 'malsu1', 'tyrp1', 'necab3', 'dnajc25', 'pola2', 'wdr74', 'rtp5', 'hpd', 'dcaf11', 'katnal1', 'bbs10', 'stard3', 'cadps2', 'rbm12', 'ufc1', 'or9q2', 'xrra1', 'ccdc102a', 'igf1', 'cog1', 'sema4c', 'enam', 'cog4', 'ca5a', 'hyi', 'pcdhb2', 'pdcd10', 'pglyrp1', 'tmem61', 'kcnab3', 'vsig10', 'wdr97', 'kcne4', 'alox12', 'kcne5', 'rhoxf1', 'srrm1', 'or2t4', 'magee1', 'nkx2-2', 'znf454', 'ypel2', 'arhgef26', 'lemd1', 'prxl2c', 'minar1', 'hook2', 'slfn5', 'cdadc1', 'arhgef33', 'tifa', 'plekha1', 'sdk1', 'orai3', 'tmem168', 'exd2', 'tk1', 'r3hcc1l', 'wbp1', 'rasa4b', 'ppp6r3', 'rexo1', 'myh1', 'adamts5', 'c19orf54', 'ppm1f', 'supt20h', 'cnih3', 'ddi1', 'lcn15', 'ccdc85a', 'zc3h12c', 'vwde', 'cnot1', 'fat4', 'tspan12', 'foxk1', 'lsm7', 'ccnb2', 'ribc2', 'vwa5a', 'rnpepl1', 'zc3h12b', 'tmem69', 'dclre1a', 'enpp5', 'chmp4c', 'dsg2', 'lsm3', 'supv3l1', 'amtn', 'clec12b', 'slk', 'tdg', 'nfkbib', 'gpr3', 'septin14', 'tasor2', 'hoxd13', 'lrmda', 'plin3', 'matn3', 'tmem87b', 'lrrc40', 'ecsit', 'timp1', 'hspd1', 'lrit1', 'filip1', 'pten', 'tmeff1', 'bmf', 'olfml3', 'nipsnap2', 'c1qtnf8', 'l3hypdh', 'clec11a', 'mucl1', 'mx2', 'alg13', 'helq', 'pald1', 'rundc3b', 'krt5', 'higd2a', 'c11orf49', 'cap2', 'tsnax', 'odf1', 'ptcd1', 'srbd1', 'egln2', 'sema5b', 'gpr63', 'cox14', 'mt3', 'entpd4', 'fez2', 'urm1', 'snap25', 'cfap99', 'il27', 'f8', 'snx21', 'znf107', 'c5orf49', 'chmp6', 'pdcl2', 'nfkbil1', 'acads', 'olig3', 'asb1', 'lrat', 'znf440', 'dedd2', 'hspa1l', 'dnaaf1', 'cabcoco1', 'hint2', 'arf1', 'il21r', 'paics', 'pcf11', 'ccdc92', 'emid1', 'kif21a', 'eral1', 'chrna7', 'cacna1d', 'meikin', 'pcdha4', 'rhpn2', 'taf2', 'morn2', 'ncapd2', 'ereg', 'tex101', 'znf189', 'lrrc38', 'pip5kl1', 'eef1akmt3', 'igfn1', 'pecr', 'chchd3', 'c14orf132', 'arhgef38', 'hapln2', 'nepro', 'ikzf5', 'mt-co2', 'peli1', 'coprs', 'igip', 'pth1r', 'slc35f3', 'pja2', 'pdlim4', 'plppr2', 'rtca', 'sft2d3', 'gnly', 'th', 'hp', 'setd3', 'znf547', 'mc5r', 'cfap61', 'golga6l7', 'mpp3', 'nxph2', 'ccar1', 'mydgf', 'slc46a3', 'cyp4f3', 'fabp9', 'rfpl3', 'znf513', 'mip', 'rfk', 'dscc1', 'oxt', 'cfap298', 'ipo8', 'sh3d19', 'rnase8', 'cmpk2', 'slc25a1', 'grxcr1', 'cept1', 'vrk2', 'pafah2', 'frem1', 'gca', 'cox4i2', 'lmntd2', 'ppp4r3b', 'trpc4', 'uhrf2', 'amz1', 'lvrn', 'bfsp1', 'acot1', 'rax', 'atp8b1', 'nsl1', 'xpo7', 'c18orf63', 'phyh', 'pramef15', 'wdr5b', 'naf1', 'nudcd3', 'cass4', 'itk', 'lhx9', 'dppa5', 'slc28a3', 'ilrun', 'krt16', 'vps28', 'ak8', 'zdhhc21', 'plcxd3', 'crhbp', 'ermard', 'kdm4f', 'or13c9', 'nup107', 'obsl1', 'fer1l5', 'hnrnpm', 'cst2', 'glb1l3', 'dok6', 'krtap16-1', 'myh7b', 'kcnk7', 'kcnv1', 'tgfb3', 'ipo5', 'mageb6', 'gab3', 'hnrnpul2', 'lemd2', 'npas3', 'kiaa0319l', 'coq7', 'safb2', 'dcaf12l2', 'thap4', 'tlx1', 'rab8b', 'actr10', 'ap4e1', 'plekha8', 'palb2', 'bpifb2', 'dnah1', 'dkkl1', 'cd300e', 'eri1', 'pex12', 'tox', 'fam221a', 'cfap36', 'stk38l', 'epb41l3', 'meltf', 'tob2', 'esyt1', 'adgrb1', 'spin2b', 'csrnp2', 'panx3', 'krtap19-6', 'proser3', 'tgs1', 'nanognb', 'or5ac2', 'igfbp4', 'ccr3', 'ppp1cb', 'nfe2l1', 'gon4l', 'cntnap5', 'mab21l2', 'rasl11a', 'meox2', 'mib2', 'or4k1', 'cyp1a2', 'septin11', 'mmrn1', 'mos', 'hddc3', 'acot13', 'lpar1', 'mcrip2', 'zc3h3', 'cdh4', 'golga8o', 'cdc42se2', 'oma1', 'pdcd6ip', 'rnf182', 'trim68', 'pms2', 'znf695', 'crybb1', 'ttyh2', 'pde6h', 'ddx50', 'mrfap1', 'noxred1', 'pou3f3', 'fgfr1', 'psmd5', 'pcgf2', 'tmx2', 'uap1', 'gabrg2', 'ngf', 'evx1', 'mcm3', 'cnksr1', 'lum', 'ribc1', 'btbd19', 'gxylt2', 'mynn', 'zkscan5', 'tshz3', 'dtd2', 'trim46', 'trim45', 'tro', 'mrgprx2', 'ccdc17', 'cd226', 'btla', 'erich5', 'iqank1', 'ldlrad3', 'klhl9', 'bex2', 'piwil1', 'tnpo1', 'psmg1', 'tbc1d20', 'znf561', 'cxcl6', 'slc17a2', 'epha7', 'pcdh15', 'tmem64', 'zswim5', 'or4x1', 'ppp1r3f', 'dmbx1', 'ift88', 'cftr', 'prr3', 'dagla', 'bzw2', 'stx5', 'ube2q2', 'adat2', 'plxna3', 'ndufb7', 'chpf2', 'syt14', 'cabp2', 'hagh', 'upp2', 'zc3h14', 'gprasp1', 'zmynd19', 'slc25a39', 'eif4a2', 'rap2c', 'znf90', 'ddx21', 'smim21', 'zxda', 'prss12', 'slc2a4', 'casd1', 'serinc2', 'ulk4', 'zbtb21', 'abhd16b', 'zc2hc1c', 'xrcc3', 'znf334', 'arrdc2', 'or8b2', 'lman1l', 'emx1', 'mlec', 'c6orf226', 'tuba1a', 'c10orf120', 'scd', 'kcmf1', 'ccdc6', 'znf766', 'dusp9', 'c1galt1', 'nsmce1', 'cmtr2', 'lce1a', 'paqr7', 'ilf3', 'cpa3', 'gsdmb', 'lhcgr', 'lmnb1', 'glrx5', 'dnah17', 'klln', 'aak1', 'espnl', 'galns', 'hdgf', 'cacna1b', 'cotl1', 'inppl1', 'lce2b', 'f13b', 'pdzd8', 'plaat5', 'sstr4', 'mt-nd5', 'smpdl3a', 'hoxa5', 'pfn1', 'or5m8', 'cyp2a13', 'ccnd3', 'col11a2', 'gyg1', 'zdhhc24', 'rangap1', 'cep95', 's1pr4', 'trpm3', 'nap1l4', 'clps', 'ptpn6', 'cpeb2', 'tmtc4', 'ydjc', 'prl', 'srgn', 'or2b11', 'ropn1l', 'stk38', 'naaladl2', 'slc25a31', 'corin', 'dthd1', 'gng8', 'mas1', 'npl', 'selenbp1', 'strip2', 'mfap3l', 'znf383', 'pknox2', 'avp', 'nat2', 'sypl2', 'prkar1b', 'znf446', 'ccdc91', 'eif4ebp3', 'pdzk1ip1', 'tmem268', 'mb21d2', 'ube2q1', 'tktl2', 'abcc2', 'icos', 'krtap5-9', 'rtl10', 'sntg2', 'rapgef5', 'hspb2', 'eif3e', 'acp2', 'npr3', 'dnajc6', 'lrrc53', 'znf787', 'golga7', 'emc3', 'actn4', 'dcun1d1', 'shc2', 'or2l13', 'emb', 'cse1l', 'ccs', 'parp8', 'tal1', 'il22ra1', 'or10p1', 'alas1', 'urad', 'tssk2', 'nav2', 'ubn2', 'hs3st3b1', 'neurod6', 'slc47a1', 'znf33a', 'znf3', 'afp', 'nlgn2', 'or5v1', 'casp4', 'zbtb7a', 'foxf1', 'lkaaear1', 'krtap9-8', 'nfya', 'dhrs7c', 'twsg1', 'tceal4', 'krt17', 'lama5', 'mepce', 'il2rg', 'mtmr6', 'nvl', 'tmprss2', 'defb112', 'defb126', 'sult4a1', 'znf518b', 'cyp2s1', 'carhsp1', 'msr1', 'adgrg7', 'dcaf16', 'cherp', 'chodl', 'gemin8', 'azin1', 'clec4g', 'nicn1', 'stx2', 'fscn1', 'btf3l4', 'exoc3l2', 'nipa1', 'ube4b', 'hlx', 'arsh', 'sp2', 'snrpa1', 'acsl6', 'frs3', 'fam240a', 'p2ry1', 'rasa1', 'rhex', 'ubtd1', 'fam186a', 'pttg1ip', 'znf839', 'pdgfrl', 'tmod4', 'cuedc2', 'pf4', 'zfp36l1', 'catsperg', 'atic', 'apobec3b', 'ca12', 'rcor1', 'traf5', 'kcnma1', 'tmem40', 'anapc16', 'kif11', 'ephx4', 'rnase12', 'spag9', 'mrap', 'myd88', 'ripor1', 'tmco3', 'tmco2', 'rasgef1c', 'isg20l2', 'or4f15', 'sec14l1', 'gab1', 'znf142', 'slc5a8', 'slc36a4', 'sec22c', 'slc8a1', 'tcaf1', 'gpbar1', 'rhbdd2', 'dcbld1', 'kif17', 'emc2', 'pmvk', 'rasgrf1', 'tmem184a', 'nktr', 'itm2c', 'gab2', 'c10orf62', 'plac8l1', 'metrn', 'defa6', 'tmem18', 'clec6a', 'mafa', 'krt85', 'fnbp1', 'trim63', 'fbxo4', 'fah', 'cyp2e1', 'eif1b', 'myo7b', 'pgm3', 'or6k3', 'ivl', 'tcf25', 'mki67', 'gfi1', 'galntl6', 'or51s1', 'tnr', 'cygb', 'mt-nd4l', 'accsl', 'adck2', 'il36g', 'dhcr7', 'dus1l', 'fam205a', 'odf2', 'phf8', 'znf30', 'ovol1', 'oaf', 'uhrf1bp1l', 'faim', 'tnfsf4', 'notch2', 'taf9', 'srsf10', 'ubxn10', 'iqsec1', 'ttll10', 'slc25a14', 'slc12a4', 'id4', 'or13c5', 'krtap5-2', 'rnf151', 'loxl3', 'tatdn3', 'adap1', 'axin2', 'ift122', 'agmo', 'lce3e', 'smim23', 'nrf1', 'or5t2', 'c1orf115', 'lrrk2', 'sepsecs', 'stmn4', 'fbxo42', 'slc2a8', 'ssu72', 'spata3', 'tspan11', 'acbd4', 'pycr1', 'cebpd', 'itgav', 'angel2', 'vstm4', 'mrgprd', 'efhd1', 'pou4f2', 'smim26', 'rbm15', 'znfx1', 'tlr6', 'cav2', 'aldh18a1', 'crispld1', 'f2rl1', 'ifi16', 'rxfp1', 'znf10', 'gls', 'cdr1', 'golga8b', 'dnmt3l', 'or14k1', 'or5b17', 'brf1', 'strit1', 'ankar', 'pik3r1', 'tekt3', 'znf382', 'znf546', 'psg9', 'cd24', 'klhl34', 'akr1a1', 'chmp4a', 'mapk7', 'smim32', 'cttnbp2', 'mpp2', 'mt1h', 'narf', 'klk8', 'pnldc1', 'scai', 'clip1', 'haus6', 'ctsw', 'pdlim7', 'polr2c', 'fam222b', 'cers3', 'itgbl1', 'pnma5', 'gask1b', 'oxct1', 'pom121l12', 'brs3', 'dcbld2', 'rab5if', 'slc25a28', 'vps37b', 'adh6', 'fndc5', 'atp6v0d2', 'tmem271', 'epm2aip1', 'cryzl1', 'calcoco2', 'tspan5', 'pank4', 'tns4', 'adam15', 'tbpl2', 'nlgn1', 'erg28', 'acaa1', 'mon2', 'fam189a1', 'scg5', 'cdkl5', 'lgals1', 'adh1c', 'hspa6', 'map3k19', 'fam155a', 'gtf2h5', 'bscl2', 'alpk3', 'agfg1', 'nudc', 'stambpl1', 'usp10', 'tpbg', 'plekha6', 'abca3', 'cntnap3b', 'gpx6', 'laptm4b', 'spock2', 'slc36a2', 'gabra2', 'gh1', 'nrxn1', 'rab25', 'tmem200a', 'fgf5', 'aamp', 'kcnmb2', 'dnase1l2', 'tox4', 'clpsl2', 'dntt', 'iqcc', 'c20orf194', 'ptcd2', 'sirpb1', 'lhx8', 'p2ry6', 'ankrd46', 'mia2', 'pacrgl', 'lcn9', 'fbxo21', 'znf512b', 'dnajb9', 'rock1', 'sptbn5', 'cbln3', 'gart', 'ppp5c', 'blnk', 'lgals9c', 'spata31a7', 'osgep', 'gpsm3', 'ptpn11', 'ffar2', 'serpinb3', 'or4x2', 'csmd1', 'cln6', 'il37', 'spef1', 'gnptg', 'fsd1l', 'c2orf69', 'slc7a10', 'ipo9', 'ppial4g', 'pmpca', 'gtf2i', 'sh2b1', 'or12d2', 'znf529', 'znf580', 'zfp41', 'glb1l', 'emsy', 'mgat2', 'tipin', 'uqcc1', 'idnk', 'kdsr', 'ahdc1', 'arhgap1', 'rbm33', 'bglap', 'vti1a', 'apoa5', 'cdk2ap2', 'pla2g4e', 'scly', 'slc7a11', 'spint2', 'cnnm2', 'gpd2', 'morc2', 'mospd3', 'tbx5', 'cyp4a11', 'asprv1', 'rnf135', 'abracl', 'neurod2', 'asb7', 'tmem68', 'fam204a', 'myh11', 'gfpt2', 'p2ry12', 'fdx1', 'gck', 'qtrt1', 'rab5a', 'polr3k', 'kcnc2', 'cysltr2', 'lbhd2', 'iqcf5', 'kcnb1', 'pelp1', 'wnk1', 'yap1', 'prps1', 'oaz1', 'itga7', 'kansl3', 'pcdhga10', 'dsc1', 'ppp1ca', 'col6a1', 'mat2b', 'znf277', 'parp3', 'heph', 'f13a1', 'tbx18', 'galnt6', 'dram1', 'gjb6', 'sh2d4b', 'fahd2a', 'cdh7', 'ldoc1', 'smu1', 'spry4', 'ttc37', 'prdm11', 'zc2hc1b', 'sigmar1', 'actr3', 'krt73', 'cilp', 'abcd1', 'plppr5', 'clca2', 'alg12', 'ca1', 'rimbp2', 'il9r', 'defb134', 'nufip2', 'lilrb2', 'rcan2', 'pcbp3', 'tbx19', 'clip4', 'derl1', 'or5k2', 'tnfrsf18', 'anxa2r', 'znf317', 'notch3', 'map2k2', 'atxn7l2', 'spdef', 'ncam1', 'ankrd66', 'mrgprf', 'tubb1', 'obp2b', 'or5b12', 'znf174', 'socs7', 'lzic', 'med16', 'tlcd3a', 'rad1', 'tubgcp3', 'ccnb1ip1', 'gas8', 'fam199x', 'st8sia2', 'g6pc2', 'rnf20', 'or4c46', 'eef1g', 'blvra', 'dpysl3', 'treml4', 'dynap', 'anapc4', 'ncf4', 'utp6', 'znf680', 'pcdhga6', 'kcna4', 'kif9', 'cela2a', 'arhgap25', 'acsf3', 'crygs', 'col4a4', 'slirp', 'upf2', 'ubash3b', 'naaa', 'zmiz1', 'plekhm3', 'uba1', 'emc8', 'klrk1', 'pomt2', 'amh', 'frat2', 'ankrd39', 'cdc25a', 'atxn7', 'spopl', 'chordc1', 'st18', 'vps26b', 'fam90a26', 'ltb4r2', 'dnajc14', 'dab1', 'slco5a1', 'tm4sf5', 'des', 'pappa', 'pde4d', 'synj2', 'tbc1d3b', 'lrrc3b', 'pip5k1a', 'tmem217', 'erlec1', 'atg3', 'msh6', 'nras', 'tmem232', 'c1orf21', 'ncbp2l', 'sdad1', 'uhrf1bp1', 'igflr1', 'med11', 'bhlhe22', 'znf585b', 'atxn1', 'c1orf141', 'mxra8', 'hook1', 'skor2', 'tmem235', 'arl6ip4', 'prss22', 'larp1b', 'crtc3', 'txndc12', 'heyl', 'a4gnt', 'lrrc32', 'smyd4', 'znf511', 'dlat', 'magec3', 'sfpq', 'sirpb2', 'f5', 'disp2', 'defb108b', 'dbf4', 'galnt17', 'cox18', 'prr12', 'stab1', 'syt9', 'galnt3', 'wrn', 'ccdc61', 'kiaa1549l', 'ext1', 'mtfmt', 'pomt1', 'ppa1', 'hexim1', 'znf253', 'magec1', 'oaz2', 'cdk5r1', 'lrif1', 'gsx1', 'sidt1', 'preb', 'p4ha3', 'josd1', 'hspg2', 'dnajb8', 'brca2', 'creb3l4', 'scin', 'fam83g', 'vps29', 'nelfb', 'trim49b', 'tyrobp', 'gpr142', 'tp53aip1', 'c13orf42', 'ifnk', 'unc45a', 'manba', 'atp6v1e2', 'phb', 'gar1', 'kcna5', 'agmat', 'c22orf42', 'herc5', 'ubxn11', 'wasl', 'ly6g6d', 'zfpl1', 'set', 'spata31a5', 'cyp46a1', 'znf420', 'fcho1', 'tollip', 'drc1', 'c19orf38', 'chst13', 'dok2', 'krtap19-2', 'lamp5', 'vezf1', 'or2m7', 'anapc5', 'cuzd1', 'rbm12b', 'esrp1', 'plag1', 'ncoa6', 'gngt1', 'gypa', 'prmt5', 'arid1a', 'kif26b', 'lgsn', 'ptprk', 'tbcc', 'btrc', 'ifnb1', 'ndufc2', 'prmt9', 'bcl3', 'csf1r', 'gsto2', 'rergl', 'zbed2', 'prkg1', 'tchp', 'spag8', 'exoc7', 'gabpa', 'c19orf81', 'ptpn21', 'sdr39u1', 'polh', 'brms1l', 'abca6', 'clcn4', 'ddx17', 'myl12b', 'nmral1', 'or2l3', 'fbxo39', 'erp29', 'tmem145', 'lamtor3', 'eipr1', 'porcn', 'gabrd', 'por', 'dym', 'bmpr1b', 'nim1k', 'bet1', 'sin3a', 'rnf8', 'akt1', 'lrrc55', 'fam151a', 'l2hgdh', 'tex15', 'znf579', 'plcxd1', 'nsdhl', 'stox2', 'trim51gp', 'znf234', 'gtsf1', 'naalad2', 'prdm1', 'gdpd5', 'mbl2', 'anxa7', 'smap1', 'mt-nd4', 'ulk2', 'agtr1', 'gpr25', 'pop5', 'spop', 'arl4a', 'hsfx3', 'kctd5', 'kcnn2', 'myo1g', 'tceal8', 'trim48', 'yipf7', 'ccdc89', 'bace1', 'nprl3', 'mcemp1', 'cbx2', 'ddah1', 'aebp2', 'cnga3', 'ncaph2', 'oit3', 'pcdha6', 'c1qa', 'atrx', 'tex44', 'lrrc75a', 'krtap10-2', 'tas2r1', 'trex2', 'ifna7', 'rab40b', 'dnajb6', 'card14', 'ern1', 'ccdc71', 'b3gnt6', 'lnpep', 'aftph', 'masp2', 'mgmt', 'myo1d', 'adgrl4', 'or4c6', 'slc15a5', 'kiaa2013', 'hmgb2', 'nphp1', 'scml4', 'lrrc58', 'znf311', 'tpd52l3', 'esam', 'tuba4a', 'mex3b', 'syt2', 'trim13', 'tmx1', 'c22orf15', 'lox', 'nap1l3', 'spin3', 'hes2', 'znf316', 'znf669', 'snx25', 'tec', 'fcgr1a', 'micu3', 'chd9', 'or4k17', 'fam183a', 'tmem97', 'vps9d1', 'gsg1l2', 'kmt5c', 'tent5c', 'gpat4', 'maneal', 'nup98', 'rasgrp2', 'stag1', 'tmc7', 'anxa1', 'acta2', 'foxg1', 'or2c3', 'sel1l3', 'myadm', 'rnf13', 'slc30a7', 'hnf1a', 'spink7', 'hspa9', 'dclre1c', 'fam76b', 'ahi1', 'surf6', 'usp37', 'irgq', 'gjd3', 'kcnj8', 'b4galnt1', 'itpa', 'znf425', 'trmt1l', 'nphs1', 'hsp90aa1', 'npr2', 'rasal2', 'cdk5rap2', 'clec2b', 'wnt16', 'krt79', 'abca7', 'wnk3', 'cand1', 'med14', 'pck2', 'map2', 'selplg', 'lamc3', 'srpx2', 'duxb', 'lax1', 'cst3', 'pemt', 'vrtn', 'eno1', 'pon3', 'armh3', 'tulp4', 'wdr24', 'znf589', 'mlx', 'cobll1', 'ralgps1', 'lhfpl4', 'rnase1', 'myl1', 'smim22', 'acp6', 'umod', 'aatf', 'fam110a', 'kat2a', 'ly6l', 'znf521', 'sf3b5', 'pawr', 'pcyox1l', 'naif1', 'washc3', 'prb4', 'lrrc10b', 'usp6', 'kif5a', 'c1galt1c1', 'hjurp', 'catsperd', 'ehf', 'npvf', 'pdp2', 'slc8a3', 'fgfrl1', 'plxna1', 'tmem164', 'hic1', 'rtn4rl1', 'znf558', 'ankrd30b', 'ifi27', 'znf398', 'mtif3', 'dact2', 'ccdc43', 'cyb5r3', 'srms', 'sobp', 'padi2', 'etnk2', 'ttll3', 'ankrd44', 'clpsl1', 'ndufab1', 'arhgef5', 'opn1lw', 'pla2g2e', 'ppip5k1', 'gda', 'pla2g7', 'srxn1', 'spryd4', 'znf7', 'or2t10', 'cdk14', 'fgd2', 'mfge8', 'nbpf1', 'tacstd2', 'pnliprp1', 'mymk', 'krit1', 'inf2', 'irs4', 'cnnm4', 'slc16a7', 'hadh', 'tmem80', 'adcy10', 'kctd18', 'tcp11l2', 'cttnbp2nl', 'nudt16', 'arhgap21', 'prr14l', 'nsmaf', 'lgals13', 'hebp1', 'nup62cl', 'ctu1', 'lactb', 'dop1b', 'rnf14', 'ralgapb', 'ogfod3', 'gphn', 'plk4', 'ssh2', 'cldn20', 'rgn', 'spdye1', 'itprip', 'lsm10', 'npbwr1', 'pym1', 'slc52a1', 'ifnar2', 'krtap13-4', 'mettl17', 'ccdc146', 'ndufb5', 'plac9', 'c16orf87', 'fam111a', 'pabpc5', 'entpd8', 'grem2', 'nlgn4x', 'mtf1', 'sdcbp', 'pkd1l1', 'tmem167a', 'mt-cyb', 'ace2', 'znf415', 'pramef18', 'fbrsl1', 'zcchc2', 'fgf10', 'cyb561d1', 'vps16', 'psmb10', 'cyb5a', 'gyg2', 'adgre5', 'kiaa1191', 'linc00672', 'ly96', 'gpt2', 'or5p2', 'otoa', 'ppie', 'sirt2', 'ppm1e', 'riok1', 'themis', 'tfam', 'b3gat2', 'taar1', 'clpx', 'klhl23', 'pon2', 'ofd1', 'tas2r8', 'st6galnac4', 'znf217', 'barhl2', 'mcu', 'unc5a', 'upf3b', 'adprh', 'hal', 'krtap5-6', 'dusp26', 'ranbp9', 'mkx', 'thrap3', 'them4', 'ntf3', 'kiaa0930', 'nkiras1', 'ubl3', 'ybey', 'znf501', 'ro60', 'supt3h', 'zmynd8', 'dipk1b', 'mboat2', 'adra1a', 'cdkal1', 'cdc42bpa', 'pi16', 'nipal3', 'tmed2', 'dsg4', 'bbs4', 'copg1', 'ston1', 'bmp7', 'ubd', 'pnkd', 'ddx19b', 'pbx3', 'ptgs2', 'smarcd2', 'ctnna2', 'psmc3ip', 'pycard', 'sowaha', 'tdrd9', 'lrrc43', 'casz1', 'or52b6', 'c8orf34', 'inka2', 'tmtc1', 'tent4b', 'rgs22', 'tex48', 'spaca4', 'tspo2', 'abl1', 'nppc', 'trnt1', 'cybb', 'tbpl1', 'plekhg1', 'ndufa4l2', 'jund', 'ugcg', 'reep6', 'swi5', 'cpa1', 'htr3c', 'mbnl3', 'jpt1', 'ppp4r3a', 'tdrd10', 'ccdc82', 'rmi1', 'cox19', 'slc44a2', 'znf219', 'eepd1', 'hcst', 'ikzf1', 'moap1', 'rap2b', 'ywhab', 'snapc5', 'il31ra', 'bop1', 'slc23a3', 'or6x1', 'lacrt', 'prelid3a', 'cntnap3', 'golga6l2', 'scd5', 'txndc9', 'tomm7', 'fsd1', 'pnmt', 'timm17a', 'calcr', 'tubb2b', 'gpx3', 'kcp', 'or10c1', 'or7d4', 'xrcc5', 'hivep2', 'prr33', 'neto1', 'zdhhc3', 'ccr5', 'meis2', 'far1', 'fbxo44', 'lcp1', 'or6b1', 'gpr78', 'or5b2', 'or10h2', 'emc1', 'hs2st1', 'coil', 'pcyt1a', 'or13h1', 'rmnd1', 'scgb3a1', 'stk32a', 'tmem202', 'chchd6', 'nedd1', 'prh2', 'psmb6', 'slc35f4', 'brap', 'mcidas', 'arl6ip1', 'napb', 'acy3', 'phb2', 'rhoq', 'dmrta1', 'kcnj2', 'bmp2k', 'ccdc28b', 'lce2d', 'map3k7', 'clec7a', 'stard6', 'slc43a3', 'kcnq5', 'wnt5a', 'ginm1', 'cst8', 'pi4kb', 'ascl1', 'tmem238l', 'smtn', 'tstd1', 'b4galnt3', 'fam210a', 'irf2', 'or10h3', 'klhl38', 'tnfrsf25', 'wipf3', 'depdc4', 'vapa', 'vsig2', 'rgs3', 'ccm2', 'dpysl5', 'mios', 'myo1e', 'tspyl2', 'fbh1', 'dnm1', 'dynlrb2', 'fam189b', 'cdk11b', 'krtap1-4', 'got2', 'yipf2', 'zfhx4', 'fhad1', 'aoc3', 'hebp2', 'prep', 'prss54', 'lamp2', 'znf568', 'tdrd5', 'cyp4f2', 'tmf1', 'rspry1', 'usp49', 'fbll1', 'gata1', 'hcrtr1', 'lpgat1', 'ggcx', 'mboat1', 'scrib', 'srrd', 'taf11l13', 'tmem131', 'npdc1', 'atg2a', 'dhfr', 'c6', 'ap5z1', 'dcaf4', 'erbb4', 'cyp11b1', 'gnpnat1', 'mcub', 'rpe', 'smim29', 'sox14', 'rcc1', 'tex49', 'tifab', 'tmem86b', 'spidr', 'mrgbp', 'scn7a', 'fam160b1', 'gprin2', 'lifr', 'cstf3', 'batf3', 'csta', 'or6c75', 'tdrd7', 'awat1', 'lmx1a', 'rab23', 'ankib1', 'atg13', 'nsmce4a', 'cenph', 'sh3gl3', 'ephx1', 'rangrf', 'znf140', 'cfhr4', 'cdc5l', 'scap', 'txlng', 'pcdhb5', 'incenp', 'znf74', 'yy1', 'slc17a9', 'bcl10', 'fcgr2a', 'mdp1', 'cox7a2l', 'srcin1', 'chtop', 'ttpal', 'zmat2', 'znrf4', 'tedc2', 'ulbp2', 'myeov', 'nmt1', 'bcat2', 'pdia5', 'prss37', 'trim75p', 'zswim2', 'znf114', 'znf582', 'bmper', 'myom1', 'rtn1', 'tigar', 'plekhd1', 'phf20', 'stk36', 'parp10', 'pitpnm1', 'slc11a1', 'clip3', 'rflnb', 'defb121', 'dnajc13', 'pde7a', 'gnaq', 'ormdl3', 'wnt6', 'myh15', 'ptgfr', 'fermt1', 'ervv-2', 'snx14', 'lmbrd2', 'map4k5', 'aqp9', 'flad1', 'letm1', 'ctnnal1', 'gpr101', 'fam50b', 'mapk4', 'parp9', 'pde4a', 'il1rap', 'evc2', 'ganc', 'rbm27', 'herc1', 'tgm6', 'doc2b', 'rhof', 'kiaa0319', 'ecscr', 'mvb12a', 'nlrp13', 'slc25a52', 'blcap', 'grin1', 'slco2b1', 'bik', 'znf565', 'c3orf20', 'ms4a6a', 'bcap29', 'tmem30a', 'inca1', 'slc26a1', 'tceal7', 'bbox1', 'dctd', 'gna13', 'pthlh', 'ssbp3', 'pabpc1l', 'dpp9', 'dsp', 'fcer1g', 'or2b3', 'otop1', 'wls', 'natd1', 'znf608', 'hykk', 'znf786', 'fam107a', 'senp7', 'slc18a3', 'mast2', 'klk2', 'lcn6', 'cbr4', 'lyzl6', 'msrb1', 'cox6b2', 'psmb9', 'ppara', 'znf671', 'cdipt', 'cd247', 'cenpt', 'arhgap27', 'gsg1l', 'noxo1', 'drc3', 'pou3f4', 'smchd1', 'pglyrp4', 'smim3', 'magi3', 'tle5', 'myom2', 'tmem35a', 'cavin1', 'frmd5', 'dpep2', 'rabgap1l', 'ints7', 'ccdc59', 'pvalb', 's100a8', 'atp7b', 'cdkn2c', 'gpc4', 'hs6st3', 'tenm2', 'ccnh', 'h6pd', 'ankfn1', 'ap1s3', 'cxcl12', 'bbs12', 'mettl22', 'greb1', 'nab1', 'nars2', 'clnk', 'aldh7a1', 'or4k2', 'sp1', 'akap7', 'sema4a', 'slc25a2', 'abcg8', 'tle7', 'or5f1', 'ptbp1', 'cd164l2', 'cfap73', 'il1r2', 'ubxn2b', 'samd7', 'mroh1', 'siah2', 'polr1e', 'hpn', 'hnrnpdl', 'prr9', 'rtn4r', 'rdh12', 'aen', 'ccdc184', 'ckmt2', 'lpar2', 'znf596', 'or9k2', 'col12a1', 'lair1', 'znf264', 'drc7', 'drd5', 'slc38a2', 'e2f3', 'med15', 'or2ag1', 'coro1c', 'dbndd1', 'brwd1', 'fcho2', 'mcee', 'nudt12', 'pgam1', 'prima1', 'sptb', 'dpm1', 'sytl1', 'fam216a', 'armcx3', 'gigyf2', 'sptbn1', 'sdr9c7', 'il1r1', 'aldh1a1', 'btn2a1', 'ctbp2', 'pet100', 'krtap4-6', 'hectd1', 'slco4a1', 'ace', 'rnf24', 'fam149b1', 'ddias', 'zc3h12a', 'vps8', 'ablim1', 'c13orf46', 'celf1', 'lrit3', 'evi5l', 'fbxo3', 'smim4', 'fam200a', 'ttll6', 'cwc15', 'phtf1', 'tmem254', 'sorcs2', 'dhrsx', 'cyp4f8', 'ncaph', 'ids', 'mgat1', 'sema3g', 'eif1', 'htr2c', 'cldn8', 'bcl2l11', 'ifngr2', 'faah', 'mt1hl1', 'ppp1r18', 'lonrf1', 'sec62', 'kmt2d', 'mfsd14b', 'pabpc1l2a', 'abra', 'pidd1', 'sdr16c5', 'col10a1', 'tafa2', 'znf99', 'txndc11', 'hsp90b1', 'pttg1', 'rfesd', 'nudt22', 'numa1', 'grsf1', 'slc35d1', 'sh2d3a', 'tesk2', 'or14a16', 'setd1a', 'chdh', 'tdrkh', 'adamts16', 'tnik', 'aldoc', 'ppp3r1', 'rhot2', 'adpgk', 'smarcb1', 'nmrk2', 'tbcb', 'fzd2', 'pdia6', 'pgk2', 'or5i1', 'borcs5', 'chrd', 'dcakd', 'lrrk1', 'cd320', 'mtcp1', 'lilra2', 'penk', 'c1ql3', 'plscr3', 'il13ra1', 'c1s', 'nop58', 'il1rn', 'or2z1', 'lhfpl2', 'prpf19', 'cct4', 'hdac6', 'znf510', 'errfi1', 'rep15', 'tmc2', 'nck1', 'mab21l1', 'dpcd', 'znf681', 'ccnyl1', 'lrrc3', 'lats1', 'bmpr1a', 'krt14', 'ddx56', 'ercc2', 'pkdrej', 'ube2d1', 'upk2', 'kazn', 'dync1h1', 'gpr26', 'agr3', 'b3galnt2', 'lancl2', 'fam120b', 'hexd', 'fen1', 'cyp39a1', 'wscd1', 'or7g3', 'ndufb10', 'gse1', 'lamb2', 'vwa5b2', 'kera', 'gpr62', 'crip3', 'csnk1g3', 'hpse2', 'palm', 'tceal9', 'timmdc1', 'tmem185b', 'tbp', 'snx5', 'c2cd4d', 'rictor', 'zdhhc5', 'ccdc181', 'kbtbd6', 'prrx1', 'or4a16', 'p2ry8', 'arhgap32', 'tnip2', 'agpat3', 'rnf38', 'arvcf', 'bad', 'podxl2', 'brd2', 'rab37', 'fam166a', 'llgl2', 'boll', 'lca5l', 'kansl1l', 'mindy3', 'dph7', 'alpk1', 'lgr6', 'lysmd1', 'flywch2', 'asb16', 'rbm11', 'psors1c1', 'hoxa11', 'slc27a2', 'c4orf3', 'fam111b', 'med13', 'aarsd1', 'dmap1', 'emg1', 'ppp1r8', 'lrrc57', 'prss27', 'rgs21', 'mapk12', 'c9orf78', 'kcnt1', 'mindy2', 'ifnlr1', 'ppia', 'rbmx', 'rxfp4', 'dalrd3', 'tpmt', 'ubqlnl', 'trpm5', 'c12orf45', 'grina', 'pex14', 'secisbp2l', 'icam2', 'or2a12', 'igf1r', 'zswim1', 'tpm2', 'zfyve28', 'pate3', 'crk', 'fgb', 'or2k2', 'mxd3', 'rgmb', 'lrrc71', 'svil', 'snx31', 'apbb1ip', 'ngb', 'haus2', 'tsr2', 'pjvk', 'kctd7', 'defb119', 'nifk', 'pou3f1', 'fpr1', 'camk4', 'kcnk6', 'mgme1', 'plrg1', 'iqca1l', 'znf624', 'zim2', 'slc4a8', 'lrrc46', 'ncr3', 'prpf18', 'atp1b4', 'adamts1', 'fhl1', 'kdf1', 'znf227', 'creb1', 'pak3', 'psg6', 'arhgap23', 'ephb6', 'gjb2', 'trpm4', 'vldlr', 'znf559', 'myh3', 'bicdl1', 'gtf3c1', 'traf4', 'dusp16', 'radx', 'semg2', 'senp3', 'cyp1a1', 'arid4a', 'gdpd1', 'fam3b', 'or6c6', 'sucla2', 'tgds', 'slc12a8', 'hipk4', 'rdh11', 'slc2a14', 'wdr46', 'znf444', 'ube2m', 'c2orf66', 'tmem198', 'gfpt1', 'alk', 'dzip1', 'dusp13', 'glp1r', 'pcdhb6', 'znf256', 'c2orf73', 'cmas', 'elp3', 'vegfd', 'c1qbp', 'dhtkd1', 'wdr38', 'krt3', 'lrrc20', 'adamts12', 'rell2', 'atp13a2', 'dpp6', 'gpr137b', 'hacd2', 'nmur1', 'pgp', 'phox2a', 'impa1', 'yjefn3', 'lst1', 'prkcq', 'uso1', 'cycs', 'c10orf67', 'rufy1', 'anks1a', 'aff1', 'arl4c', 'arl9', 'cldnd1', 'acin1', 'mtrr', 'rnf220', 'uba6', 'arhgef28', 'ceacam16', 'ugt1a3', 'rax2', 'stambp', 'sh2d3c', 'exo1', 'htn1', 'tmco6', 'otulin', 'pcdha12', 'retsat', 'adm2', 'sema4f', 'ccdc47', 'kiaa1586', 'kalrn', 'ier3ip1', 'ghitm', 'timm13', 'atp6v1g2', 'ocm2', 'or6c2', 'nlrp14', 'mrc2', 'pnpla7', 'zkscan3', 'slc12a3', 'fyb2', 'cyp3a43', 'padi4', 'acy1', 'muc20', 'smg8', 'ttc39c', 'neurog1', 'senp2', 'xage3', 'apba2', 'defb131b', 'ythdc2', 'c1orf216', 'trim15', 'pxdn', 'mov10l1', 'ifitm3', 'aspscr1', 'gnal', 'znf479', 'srsf4', 'klhl1', 'chp2', 'ehd3', 'tax1bp3', 'tmem150b', 'ptgir', 'folr2', 'bmp10', 'gtf2e1', 'rab19', 'rapgef1', 'bmp1', 'rgs14', 'snrpc', 'fam234a', 'lypd1', 'or2f2', 'stx11', 'slc8b1', 'n4bp2', 'trim2', 'or2t12', 'nrap', 'kcnh4', 'pank3', 'ccdc153', 'tor1aip1', 'sh3rf2', 'sult1b1', 'ppbp', 'dus2', 'supt5h', 'trmt9b', 'si', 'spanxn2', 'epha6', 'krtap12-1', 'tmem249', 'trip6', 'per2', 'znf804a', 'msantd3', 'dnajc5', 'oosp4a', 'cmtm3', 'bdkrb2', 'aco1', 'cdh3', 'ep400', 'cacna2d2', 'apoc3', 'sh3gl1', 'fcer2', 'usf2', 'mphosph10', 'znf280b', 'mafk', 'top1mt', 'gfm1', 'krtap20-2', 'atp5mg', 'phospho1', 'pkn1', 'mapkapk5', 'pcdhga5', 'pnma8b', 'slc7a6', 'smndc1', 'zbtb16', 'dock9', 'ctso', 'efna2', 'gabarap', 'krcc1', 'evl', 'cd52', 'crisp1', 'lrriq3', 'mgst3', 'noc4l', 'plxna4', 'zmym2', 'atp6ap2', 'pno1', 'hfe', 'rmdn3', 'trim42', 'adipor1', 'cacng8', 'ildr2', 'mier2', 'znf260', 'paqr5', 'or2m3', 'krtdap', 'slc25a18', 'psca', 'dppa2', 'coq3', 'fam184a', 'cryba4', 'fam214b', 'fitm2', 'atpsckmt', 'hdhd3', 'cd244', 'lysmd3', 'rab5b', 'rab9a', 'rimklb', 'or10g7', 'ms4a14', 'tsnaxip1', 'nudt10', 'sertm1', 'wfdc5', 'cklf', 'cadm3', 'tbx2', 'ces1', 'arglu1', 'trappc3', 'tspan2', 'inha', 'mlycd', 'wscd2', 'sugct', 'rbx1', 'dele1', 'elspbp1', 'opa1', 'daam1', 'rhbdd3', 'or1a2', 'kdm3a', 'csnk2a1', 'ankrd22', 'maged1', 'ccdc127', 'kif26a', 'rsph6a', 'ervv-1', 'clec19a', 'nfia', 'prdx5', 'ahcyl1', 'znf628', 'lat2', 'znf585a', 'ybx3', 'zbtb3', 'herc6', 'muc15', 'nfatc2ip', 'capn8', 'pxdc1', 'slamf6', 'decr1', 'actn1', 'gatad2b', 'nampt', 'pde6g', 'dcaf17', 'b3gntl1', 'sh3yl1', 'kbtbd8', 'dcaf10', 'hsd17b14', 'esrrg', 'inip', 'magee2', 'slc10a6', 'fam219b', 'daglb', 'p2rx7', 'slc6a13', 'srd5a2', 'krtap6-2', 'gbx1', 'them5', 'orm2', 'krt80', 'lrp1b', 'aste1', 'ppy', 'rdm1', 'tnrc18', 'znf462', 'spry2', 'scn2a', 'isca2', 'hnmt', 'vps41', 'tbc1d22a', 'tnfrsf10a', 'sult2a1', 'ceacam3', 'tnpo3', 'zfp69b', 'pcsk1', 'mcur1', 'tat', 'jpt2', 'epha3', 'il4r', 'wbp2nl', 'htr2b', 'tnmd', 'klf17', 'best2', 'pycr3', 'cavin4', 'phldb1', 'cnih2', 'loxl4', 'lilrb1', 'lin7a', 'gjd4', 'zfand1', 'zfp1', 'hnrnpa2b1', 'rcan3', 'cit', 'epha5', 'klhdc2', 'rhoc', 'selenow', 'tex11', 'ednrb', 'zdhhc14', 'znf709', 'rest', 'map4k4', 'spanxn5', 'ogn', 'epb42', 'mipol1', 'ugt1a9', 'akr1c2', 'or1s2', 'shc4', 'srsf11', 'c5ar1', 'bax', 'heatr3', 'spcs3', 'slc45a1', 'pcmtd1', 'gzma', 'adora2b', 'kcnd3', 'kiaa1522', 'clcn6', 'dpyd', 'adamtsl2', 'hspa5', 'lgals3', 'epn2', 'adtrp', 'csf2', 'atp11b', 'fbxo32', 'cacng1', 'tnfrsf13c', 'znf583', 'krt40', 'ltbr', 'znf280c', 'tbc1d23', 'itga5', 'cxcr3', 'ccdc168', 'spata1', 'brsk2', 'bcorl1', 'hapln3', 'mat2a', 'mfsd11', 'jmjd4', 'tmem179', 'trpm1', 'nkx2-4', 'tmprss11a', 'chga', 'gpc5', 'ggt7', 'fxn', 'mrfap1l1', 'or7a5', 'plekhf1', 'ankef1', 'pabpn1l', 'fat3', 'yaf2', 'dcaf6', 'gpr162', 'anxa8', 'ros1', 'prdm5', 'klrc1', 'ddx11', 'or13g1', 'cenpn', 'lep', 'phf24', 'shank3', 'nacc1', 'or13c3', 'ralgps2', 'adamts19', 'abhd10', 'alpl', 'c2orf15', 'heatr6', 'ccdc137', 'homez', 'rad18', 'snx2', 'xpnpep1', 'znf557', 'c12orf75', 'calm1', 'cort', 'tasp1', 'asb9', 'ccdc180', 'cldn34', 'ptges3', 'prkcb', 'snupn', 'chchd7', 'htr1f', 'sds', 'rnf185', 'dlx5', 'slc13a4', 'suv39h2', 'or5b3', 'nkap', 'or2y1', 'dmxl1', 'elmo3', 'mtmr10', 'rbm19', 'prdm4', 'alg14', 'zfyve1', 'arhgdig', 'gpr87', 'epsti1', 'glis2', 'zfpm2', 'znf852', 'cysltr1', 'macrod1', 'mief2', 'abca1', 'cxcl17', 'pir', 'or2ap1', 'acsm1', 'exph5', 'dnase2', 'klhdc7a', 'megf6', 'smad4', 'copg2', 'c1orf210', 'dao', 'rab28', 'mink1', 'c2', 'znf843', 'slc10a3', 'tfap2e', 'or5m11', 'clk1', 'cdk19', 'sptssa', 'susd2', 'tmem178a', 'zbtb49', 'znf257', 'apoh', 'astl', 'rrm2b', 'asap3', 'arms2', 'cdkn2aipnl', 'gfral', 'map4k1', 'elane', 'gsn', 'atp4a', 'ifitm1', 'aldh3a1', 'mrgprx3', 'ndufb11', 'pfn3', 'dmac2', 'acsm2a', 'slc38a3', 'cldn12', 'fcgbp', 'fis1', 'klhl2', 'stub1', 'rufy4', 'eya3', 'mob3b', 'spata22', 'alg3', 'ctag2', 'srsf7', 'mal', 'cct8l2', 'gcnt7', 'slc22a31', 'cyp27b1', 'tmprss12', 'gsdme', 'znf692', 'atp23', 'atg9b', 'hkdc1', 'hexa', 'dusp10', 'or10a5', 'oxct2', 'thnsl2', 'tmem270', 'arsg', 'sla', 'angptl2', 'dennd4b', 'tmlhe', 'eif4e', 'prkar2b', 'trmt61b', 'crym', 'col8a2', 'sbno2', 'tnfrsf11b', 'wdfy4', 'exosc5', 'fhl5', 'ppp2r3b', 'pex6', 'gprc6a', 'rtl8a', 'dennd1c', 'llcfc1', 'defb129', 'serp1', 'gpt', 'spp2', 'fam207a', 'ifna6', 'msrb3', 'exoc3', 'spart', 'depdc5', 'commd2', 'gcat', 'samd4a', 'tcf3', 'c2cd6', 'naa25', 'engase', 'nkx6-2', 'cltb', 'cryba1', 'phf12', 'ypel3', 'shroom2', 'or10r2', 'acot4', 'rfc4', 'dysf', 's100b', 'smtnl1', 'c1orf116', 'st3gal5', 'abraxas1', 'c1orf109', 'clec18a', 'col22a1', 'gnai2', 'mreg', 'slc25a13', 'tsc22d3', 'usf1', 'ms4a4a', 'iqgap2', 'spsb1', 'scube3', 'ing2', 'lrrc6', 'vps72', 'znf607', 'or2b6', 'iglon5', 'samd11', 'entpd2', 'med22', 'haus1', 'angpt1', 'pak5', 'rassf10', 'tmem125', 'ttc23', 'drich1', 'grb10', 'exoc4', 'mfsd5', 'septin1', 'mpv17l', 'zbed4', 'ndufs7', 'fgf2', 'pum3', 'rbfox3', 'znf675', 'cfap100', 'pkp3', 'zdhhc23', 'irf8', 'or8b4', 'cldnd2', 'gns', 'ocstamp', 'noc3l', 'slc9a6', 'thap7', 'gbf1', 'cfdp1', 'zik1', 'fam237b', 'lrrcc1', 'b3galt5', 'or8d2', 'txnl1', 'c18orf32', 'thsd7a', 'krtap10-11', 'cst6', 'dock2', 'ubap2l', 'pygo2', 'ctrb1', 'pcdha8', 'resp18', 'dnah12', 'eif4g3', 'tex261', 'or10v1', 'uros', 'wdr83', 'plekha4', 'mcl1', 'acer3', 'cstf2', 'tbl1x', 'glo1', 'wdr72', 'nsun2', 'ube2g1', 'cend1', 'tmem244', 'zeb1', 'vwa1', 'mbd6', 'slc25a22', 'bhlhe40', 'ltv1', 'deup1', 'trmt5', 'pml', 'kl', 'gstp1', 'hprt1', 'c4bpb', 'mark2', 'igfl4', 'smarce1', 'cyld', 'dtx2', 'tmem62', 'fam155b', 'wdr43', 'cox7a1', 'psma7', 'tmtc3', 'serpina10', 'atmin', 'adat3', 'cmtm4', 'c17orf98', 'guca1b', 'krtap4-4', 'pnma3', 'tagln2', 'trappc11', 'rbmx2', 'thbs1', 'slc35g1', 'zscan25', 'dpy19l3', 'bcdin3d', 'cracr2a', 'gprc5d', 'atad2b', 'ilk', 'sncb', 'foxo1', 'palm3', 'aptx', 'tbxas1', 'dydc1', 'dus4l', 'ccdc134', 'lmod1', 'ptpn4', 'sik3', 'sprr2a', 'rras2', 'ehd1', 'setdb1', 'pdss2', 'pomc', 'pcdhb12', 'aldh2', 'slc17a7', 'kcnk18', 'spred2', 'zbtb24', 'oxa1l', 'slc29a1', 'crct1', 'chrna5', 'heatr5b', 'scamp2', 'fbxo8', 'kat6b', 'tmigd2', 'c19orf47', 'carm1', 'gprc5c', 'atp2b4', 'sphkap', 'tfe3', 'ndufb9', 'pnma1', 'znf563', 'spata5', 'golt1a', 'hand2', 'itgb1', 'rab7a', 'tgfbi', 'hsph1', 'b4gat1', 'b4galt7', 'tnfrsf1b', 'mplkip', 'gid4', 'chchd4', 'mms19', 'ptrh1', 'pttg2', 'alg1', 'recql5', 'gaa', 'chd5', 'wdpcp', 'cnnm1', 'shd', 'gmpr2', 'sdf2', 'tcp11', 'ankub1', 'cenpb', 'f2r', 'ppp2r2b', 'pik3c2g', 'ahsg', 'c1r', 'hars2', 'pstk', 'surf1', 'suz12', 'samd4b', 'rad23b', 'adora2a', 'atg14', 'anxa6', 'scn8a', 'triml2', 'fam166b', 'pex10', 'sh3bgrl2', 'fpr3', 'cdsn', 'ddt', 'oxr1', 'psd4', 'krt24', 'slc9a8', 'tnk2', 'mmgt1', 'osbpl2', 'actl8', 'gnl3l', 'comt', 'elf4', 'taar2', 'serpina9', 'col23a1', 'sh2d1a', 'minpp1', 'onecut1', 'slc15a2', 'pigo', 'cdc7', 'tiaf1', 'kcnmb4', 'hnrnph3', 'slc17a8', 'atp5if1', 'ankrd50', 'cd3g', 'sidt2', 'znf75a', 'parp14', 'ankrd13a', 'ccdc78', 'tmem177', 'kcnj1', 'mnx1', 'fstl4', 'tspan19', 'slc16a5', 'fzd6', 'nfkb1', 'prrc1', 'slc6a5', 'adarb2', 'tet3', 'thbd', 'camsap1', 'znf584', 'erich1', 'fam53a', 'c8orf33', 'krbox1', 'tmem218', 'znf287', 'il10rb', 'znf33b', 'gmip', 'rdh8', 'cox4i1', 'prkag3', 'ap1m1', 'pik3c2b', 'ctns', 'ehmt2', 'nexmif', 'e2f1', 'ankrd30a', 'trabd2b', 'rprm', 'smim28', 'unc5b', 'slc25a44', 'grk6', 'cnfn', 'ndor1', 'c3', 'smr3a', 'ca2', 'edem3', 'nxnl2', 'calml5', 'cfap58', 'farsa', 'chka', 'dnajb13', 'syn2', 'rdh13', 'phka2', 'mark4', 'znhit2', 'nos3', 'odf3b', 'ppm1l', 'tnfsf15', 'hmgcr', 'fastkd5', 'krba2', 'dhx30', 'pafah1b3', 'prepl', 'mterf4', 'glrx3', 'ranbp17', 'ctxn1', 'zfp3', 'btn3a3', 'frem2', 'grap2', 'pcdhb15', 'syt3', 'acsl5', 'dynlrb1', 'arhgef16', 'slc25a33', 'tapbpl', 'paqr6', 'adra2a', 'cerkl', 'cuedc1', 'pkn3', 'ss18l1', 'krtap20-1', 'rapgef4', 'elmod1', 'hps3', 'naa60', 'ndst2', 'ttc17', 'zdhhc15', 'tacc2', 'tmem150c', 'pde4b', 'grin2c', 'atp11c', 'papln', 'rnf157', 'ahsp', 'gp5', 'islr2', 'sf1', 'ahr', 'itgb7', 'adgrv1', 'myo1b', 'qrfp', 'pola1', 'ltbp2', 'rom1', 'apol4', 'ddx39b', 'krt15', 'ipo4', 'med17', 'grin2b', 'tp53tg5', 'znf800', 'slfn12', 'dennd2a', 'socs5', 'mb', 'dennd5a', 'mfsd9', 'herpud1', 'slc24a3', 'atg2b', 'otol1', 'cplx3', 'slc16a12', 'crygn', 'psat1', 'slc22a16', 'camkv', 'bmp3', 'shkbp1', 'znf646', 'mapk6', 'c11orf45', 'dapk1', 'mroh2a', 'mtfr2', 'znf385a', 'etf1', 'efcc1', 'ccpg1', 'ceacam21', 'galnt1', 'gpr150', 'brca1', 'mctp1', 'znf19', 'hsf2', 'thumpd1', 'slc30a8', 'bcl2a1', 'cacna1h', 'ppp2ca', 'gc', 'hmcn2', 'abcf1', 'rbbp5', 'cstf1', 'sez6l2', 'amot', 'c11orf91', 'vdac3', 'siglec6', 'ankrd12', 'sppl3', 'cgnl1', 'smg7', 'lad1', 'cd38', 'il26', 'arf6', 'wdsub1', 'csn3', 'msmp', 'rgs1', 'cd6', 'tfb1m', 'gpr135', 'ttll13p', 'vasn', 'cys1', 'max', 'iffo2', 'slc18a2', 'efhc1', 'arhgap4', 'cdh8', 'serpinb1', 'slc25a24', 'sod2', 'ube2ql1', 'gmfg', 'epc1', 'mto1', 'ckm', 'dipk1a', 'dlg1', 'fshb', 'abhd8', 'rbm34', 'hnrnpl', 'mfap4', 'arl13b', 'ntmt1', 'agbl3', 'rpa1', 'dhx40', 'mta3', 'wasf1', 'akr1c1', 'ugt1a10', 'dkk4', 'polr1b', 'cep295', 'jhy', 'clrn3', 'optc', 'snrpd1', 'wdfy1', 'jph3', 'padi3', 'rnf138', 'ccdc136', 'spag6', 'tpbgl', 'faap100', 'proc', 'wnt11', 'il22', 'ptpn18', 'cpd', 'bora', 'egr2', 'jakmip3', 'apoc4', 'disp1', 'lepr', 'pld1', 'xkrx', 'cyfip1', 'caap1', 'zbtb1', 'zfp82', 'podn', 'sinhcaf', 'slc25a42', 'zc3hav1', 'fgf12', 'hoxa4', 'fgf19', 'ccser1', 'kif19', 'scaf4', 'fam24b', 'cebpg', 'itgb1bp2', 'fam120aos', 'cxxc1', 'baz1a', 'tigd7', 'or4a5', 'serinc5', 'theg', 'lyrm4', 'gnao1', 'mapk13', 'tmem11', 'lrch2', 'terf1', 'mdm4', 'chd2', 'arsk', 'sema5a', 'reg4', 'mdm1', 'fam189a2', 'ino80', 'rfc5', 'mcf2', 'c4orf17', 'hspb6', 'zdhhc18', 'rspo1', 'crtc2', 'cela3b', 'dlg4', 'pot1', 'tagln3', 'lrrc8e', 'wdr13', 'fmr1', 'nbpf19', 'tmem245', 'tns3', 'gba2', 'rbmxl3', 'rasl10b', 'spesp1', 'uqcr10', 'rnf166', 'sirt6', 'mipep', 'bclaf3', 'gper1', 'cyp2f1', 'ap5m1', 'rbbp8', 'acd', 'plaat1', 'insyn2a', 'ece2', 'cblif', 'phf21a', 'gkn1', 'trappc13', 'calhm6', 'eid2b', 'herc3', 'nme6', 'pde7b', 'zfp36', 'cxorf65', 'trpc5', 'kctd19', 'sh2d6', 'ctxnd2', 'cd2', 'nkx1-1', 'cnnm3', 'hormad2', 'spire2', 'lsm6', 'asb18', 'metrnl', 'znf594', 'ccdc8', 'arl6ip6', 'hsd17b11', 'tmem120a', 'mamdc2', 'ctsf', 'faap20', 'hdac1', 'cisd3', 'triobp', 'immp1l', 'fancf', 'hcar3', 'linc02218', 'lrrc8c', 'pip4k2b', 'phpt1', 'thy1', 'fry', 'pln', 'tex46', 'casp10', 'ubtf', 'pbxip1', 'tti2', 'dclk1', 'satb1', 'fancc', 'polr3b', 'spink13', 'sirt5', 'cyp7a1', 'clec5a', 'kcnh6', 'fkbp8', 'dot1l', 'maco1', 'f10', 'slco4c1', 'gpr151', 'sun5', 'tp73', 'clstn3', 'znf735', 'vgll4', 'dsc2', 'cdca7l', 'slpi', 'slc41a3', 'c3orf33', 'lamtor5', 'cd28', 'irx5', 'rpgrip1l', 'ano10', 'sorbs3', 'phactr1', 'tubgcp6', 'pcsk2', 'or8a1', 'pheta1', 'ankk1', 'or52a1', 'utf1', 'znf14', 'dusp18', 'ush1g', 'krt84', 'kcne2', 'cnppd1', 'ermn', 'ctdsp2', 'fbxo33', 'mrgprg', 'nhp2', 'odc1', 'txnl4b', 'ptgdr2', 'ankrd27', 'adcy7', 'dzank1', 'itprid1', 'jak1', 'arrdc5', 'setbp1', 'borcs8', 'sox5', 'syt5', 'lancl1', 'colgalt2', 'bloc1s6', 'fam110c', 'faslg', 'rbm18', 'gpn3', 'capn6', 'abhd14b', 'pcmt1', 'pnma8c', 'dsg3', 'pcdhb7', 'bloc1s2', 'dctn2', 'lsm14a', 'gpr55', 'adgrg4', 'pdik1l', 'trappc3l', 'nt5dc1', 'znf808', 'kcnj16', 'mmp14', 'phc1', 'smco1', 'frmd4a', 'dcdc2b', 'mmrn2', 'fam71e2', 'ostc', 'nup85', 'tspan32', 'ccdc68', 'elmo1', 'kat5', 'lrp3', 'or3a3', 'crabp1', 'chrna6', 'armcx5', 'nubp2', 'slc38a6', 'slc26a11', 'mgll', 'psmd13', 'vcam1', 'sema3e', 'lmtk3', 'abca9', 'dpp4', 'lbhd1', 'kif1c', 'serpina3', 'mrtfa', 'tmem132e', 'tmem187', 'znrf3', 'gh2', 'etnppl', 'rin2', 'cnbp', 'khdrbs2', 'ltn1', 'prss16', 'spata31d1', 'c19orf53', 'gabrr2', 'stx3', 'tmem71', 'wrap73', 'mapk1', 'ccdc148', 'klf9', 'pnisr', 'dcdc1', 'pygo1', 'tmem50a', 'mettl16', 'ranbp3', 'celf3', 'zcchc8', 'fam71a', 'tex33', 'qrfpr', 'stxbp6', 'tmem265', 'eefsec', 'srrm4', 'socs4', 'plpbp', 'casp5', 'stxbp2', 'tex10', 'nr3c1', 'gstz1', 'olig2', 'samd14', 'asph', 'ptk7', 'mapk3', 'uxs1', 'nbeal2', 'timm50', 'c11orf87', 'emc4', 'rnf130', 'aoc1', 'slc41a1', 'trmt13', 'kctd9', 'ipo13', 'msn', 'ism2', 'malt1', 'smap2', 'nanos3', 'gpr107', 'epop', 'eva1c', 'nr4a3', 'pnn', 'atox1', 'abcb5', 'serac1', 'inafm1', 'thbs3', 'cfap97', 'lrrtm4', 'caly', 'mark3', 'mettl24', 'plin1', 'tst', 'tmem88', 'yipf5', 'mctp2', 'saxo1', 'rbms1', 'cntfr', 'pi4k2a', 'thoc7', 'hus1b', 'krtap21-1', 'il12a', 'nkx3-1', 'nhlrc2', 'gpr161', 'mpg', 'polr2a', 'gli3', 'smim35', 'tsen2', 'rtl9', 'xpot', 'zrsr2', 'pdzrn4', 'znf329', 'hdhd5', 'ctnna1', 'ak5', 'henmt1', 'cnot6', 'or51g1', 'slc28a1', 'foxred2', 'stom', 'tmem94', 'cul5', 'dennd11', 'slamf8', 'znf572', 'ndufaf7', 'fbln2', 'cxcl9', 'kiaa0408', 'sctr', 'trim29', 'trim32', 'tex14', 'elf3', 'chrng', 'cspg4', 'trim23', 'vstm2b', 'eme1', 'pdzd7', 'tctn2', 'tmem72', 'abcb9', 'trhr', 'med26', 'spatc1', 'sntn', 'idh3a', 'rab11b', 'sec61a1', 'aven', 'tcerg1l', 'rnf128', 'med27', 'pigs', 'gcnt4', 'nln', 'cdhr2', 'zbtb46', 'ntm', 'eif4a1', 'kdm2b', 'qrich1', 'ttc4', 'plppr3', 'znf823', 'krba1', 'hmbs', 'me2', 'rtn2', 'layn', 'ube2h', 'tchhl1', 'cad', 'pdss1', 'pim2', 'trib3', 'rreb1', 'fcrl1', 'rwdd1', 'smad6', 'cep41', 'cpa4', 'scgb1d1', 'mcm2', 'cd34', 'lrfn5', 'tgm5', 'anapc1', 'trim41', 'wbp2', 'fzd4', 'cd58', 'ptger4', 'hps4', 'cdh22', 'arl14ep', 'ctla4', 'slco2a1', 'fhit', 'ppic', 'rhcg', 'cdh13', 'cggbp1', 'lrba', 'bud13', 'tmprss6', 'anxa5', 'rft1', 'fcgr1b', 'fbxl22', 'mstn', 'tshr', 'usp19', 'tufm', 'arhgap30', 'eif2d', 'lmln2', 'sohlh2', 'c3orf56', 'gpha2', 'trhde', 'znf138', 'smarca5', 'gage10', 'tp53', 'aurkb', 'tbx6', 'c1orf54', 'sage1', 'cactin', 'tpk1', 'clasrp', 'lyar', 'fbxo36', 'tmem160', 'rragb', 'misp', 'ndc80', 'selenot', 'rhbg', 'rrp15', 'fam43a', 'neu4', 'pmpcb', 'tspyl4', 'cd209', 'efr3b', 'arf5', 'wdr75', 'mapk8ip2', 'cops2', 'ifit1', 'cetn3', 'olfm4', 'ssbp2', 'vps45', 'tp53bp1', 'nt5dc4', 'cplx4', 'cryga', 'gja10', 'cib2', 'c7', 'npas1', 'ppif', 'spry3', 'fcgr2b', 'znf668', 'wdr41', 'dcaf1', 'itpr3', 'sqor', 'usp1', 'rtel1', 'tnnt2', 's100a3', 'afg1l', 'ctnnb1', 'mettl2a', 'nol12', 'or1l6', 'trak2', 'cep78', 'fyn', 'mbnl1', 'cbll2', 'mapre2', 'yae1', 'zc3h18', 'frat1', 'or6t1', 'ccni2', 'pcdha2', 'slitrk5', 'serinc1', 'fzd3', 'tmem203', 'kbtbd3', 'cenpl', 'rorc', 'ipmk', 'prkcg', 'smco3', 'atp11a', 'wbp4', 'il17b', 'golph3l', 'cpne4', 'cxcr6', 'grip2', 'higd1c', 'plcb1', 'znf318', 'slc7a5', 'med19', 'ift46', 'znf626', 'krtap19-5', 'hnrnpll', 'epx', 'hbb', 'prc1', 'muc21', 'slco6a1', 'actbl2', 'tmem201', 'eml1', 'arid4b', 'znf76', 'large1', 'bicd1', 'adar', 'arfip1', 'oprm1', 'hip1r', 'sympk', 'dvl3', 'asmtl', 'ascc2', 'dytn', 'ccdc71l', 'cyhr1', 'smad1', 'mfap3', 'spata24', 'ntn1', 'actr8', 'cops4', 'slc22a1', 'homer3', 'ctsl', 'trip4', 'mapkapk3', 'efnb1', 'prac2', 'nrg3', 'tcp10l', 'plekhm2', 'plekhg6', 'ccdc166', 'ccbe1', 'copb1', 'capn12', 'nfat5', 'suds3', 'cby1', 'degs1', 'tbr1', 'smlr1', 'nt5dc2', 'grm1', 'duoxa2', 'rnf111', 'ceacam5', 'tnnc1', 'stk40', 'ddost', 'hoxa1', 'bloc1s1', 'zmym4', 'cela1', 'actl7a', 'ccdc107', 'dars2', 'nhlh2', 'slc35f5', 'agps', 'tank', 'aldh1l1', 'znf664', 'myocd', 'frmpd4', 'spout1', 'timm23', 'unc50', 'lrp11', 'cdyl', 'otor', 'znf648', 'pgrmc2', 'efcab13', 'ttc24', 'aim2', 'fhod3', 'wdr33', 'tmem60', 'cisd2', 'kcnh2', 'folh1', 'pde6a', 'pik3ip1', 'ttc9b', 'vpreb1', 'c9orf57', 'apc', 'ccdc88a', 'lrrc36', 'lilrb5', 'f11', 'tbc1d2b', 'nox5', 'pkia', 'polr2e', 'hao1', 'rnf186', 'erfe', 'daz2', 'tusc2', 'bex1', 'maf', 'ndufa3', 'pum1', 'tbc1d24', 'spata17', 'qser1', 'ccdc201', 'prodh2', 'nt5dc3', 'mtg2', 'proser2', 'etv3', 'ikzf4', 'psph', 'crat', 'gkn2', 'arl8a', 'krtap4-11', 'rab27b', 'pik3r4', 'gtf3c5', 'lrrc74a', 'omg', 'znf341', 'c10orf82', 'slc35a3', 'mif4gd', 'magel2', 'ruvbl2', 'jmjd1c', 'rpain', 'b4galt4', 'tspan14', 'fras1', 'nfkbiz', 'scygr4', 'ifi35', 'slc35d2', 'gpalpp1', 'muc1', 'abcd4', 'plg', 'bod1l1', 'hoxc4', 'pydc2', 'col14a1', 'sema6c', 'slc7a9', 'dlst', 'acadl', 'ehmt1', 'fbxo43', 'krtap12-2', 'lclat1', 'atoh8', 'sbf1', 'glyatl2', 'gp9', 'psg3', 'rgs18', 'pof1b', 'hpgds', 'prkaa2', 'hoxa2', 'matn2', 'znf154', 'pcif1', 'smim10l1', 'gipr', 'pdcd6', 'msmb', 'rnf168', 'etfbkmt', 'kcnj13', 'mtx2', 'rac2', 'zfp28', 'ablim3', 'agpat1', 'clrn1', 'htatsf1', 'mc1r', 'spdl1', 'camta2', 'atp5pb', 'adat1', 'ar', 'ppp1r3b', 'cyp26a1', 'foxj1', 'adgrf2', 'add2', 'pced1b', 'sbk3', 'ecpas', 'mad2l1', 'znf2', 'pogk', 'nde1', 'ryr3', 'ccdc177', 'avl9', 'fam210b', 'flnc', 'tppp', 'esrra', 'matk', 'spag16', 'rel', 'ddx31', 'mesp2', 'ccdc105', 'itgax', 'znf490', 'sh2b3', 'hgd', 'dnajc22', 'coro2a', 'frg1', 'tmem251', 'klc4', 'ccdc200', 'hemk1', 'ppa2', 'aqp4', 'tmem205', 'clec10a', 'efhb', 'tnfrsf4', 'atp13a4', 'ddn', 'znf805', 'ffar3', 'llgl1', 'ambra1', 'phlda1', 'qprt', 'timm9', 'ubald1', 'polg', 'btnl9', 'fignl2', 'yipf6', 'fam83a', 'prph', 'retnlb', 'krt78', 'aadac', 'rbms3', 'aktip', 'foxi2', 'xage5', 'cnot11', 'cercam', 'or10x1', 'sdk2', 'stag2', 'ccdc116', 'mgp', 'tcf20', 'srp19', 'slc4a1', 'calu', 'nbdy', 'gja5', 'barx1', 'vps51', 'nhlh1', 'trim4', 'cpo', 'apex1', 'ebf1', 'sall2', 'znf45', 'arid2', 'znf614', 'tbc1d9b', 'abca10', 'gpank1', 'fabp7', 'slc38a4', 'c9orf153', 'hyal4', 'ms4a2', 'zfp30', 'tns1', 'adgrg3', 'or2h1', 'c11orf1', 'cdk18', 'gbx2', 'khsrp', 'nol3', 'c1orf53', 'dgat1', 'gbe1', 'hoxa10', 'pcdh9', 'srebf1', 'cfap97d1', 'nupr1', 'ubap1', 'tcp1', 'rnf32', 'st3gal2', 'znf891', 'galnt12', 'usp9y', 'atp6v1b2', 'cntd1', 'abcb8', 'slc35b2', 'entpd5', 'srsf5', 'tnfaip1', 'mt-nd6', 'nt5c', 'or52m1', 'e4f1', 'adprhl1', 'hoxd9', 'psmc6', 'rprd1b', 'tspan18', 'vps35l', 'fbln7', 'gcsaml', 'simc1', 'mrc1', 'fmnl1', 'igsf21', 'fam89b', 'klk14', 'mrtfb', 'rnpep', 'clock', 'c20orf144', 'nelfe', 'paxip1', 'pla2g10', 'szt2', 'dpep3', 'tspan17', 'gng10', 'rprd2', 'ubl4a', 'mutyh', 'tmem95', 'znf727', 'rad51ap2', 'spink1', 'hpdl', 'or5c1', 'znf221', 'stat5a', 'gpat3', 'trnp1', 'cep76', 'fgfbp2', 'znf830', 'cpq', 'npm3', 'c3ar1', 'grin2d', 'or52w1', 'pdk3', 'trib1', 'ccl26', 'fhod1', 'otc', 'ubqln3', 'vax1', 'lgals12', 'map9', 'kcng3', 'cdc14a', 'efr3a', 'glra2', 'ints10', 'lysmd2', 'pou6f2', 'lrrc7', 'birc2', 'ccdc185', 'ncbp3', 'sestd1', 'il27ra', 'alg9', 'mapk8ip1', 'znf449', 'nell1', 'rap1gap', 'kcnf1', 'vstm2l', 'eps8l2', 'ndrg2', 'blk', 'tsn', 'cnga4', 'xpo6', 'glrx', 'rbp4', 'riiad1', 'ubr5', 'sgo2', 'slc35b3', 'fes', 'ensa', 'akt2', 'kcnj5', 'cpsf6', 'map7d3', 'kcnh5', 'cox8a', 'phf5a', 'slc4a9', 'myocos', 'ero1b', 'krtap15-1', 'psmd4', 'fgf6', 'sema6d', 'hspa4l', 'gbgt1', 'brpf1', 'dnhd1', 'msh2', 'ak7', 'mycbpap', 'tamm41', 'tpp1', 'ecm1', 'usp4', 'npas2', 'cfap77', 'ube2a', 'slc13a2', 'becn1', 'rrad', 'magi2', 'sel1l', 'ndufaf5', 'kcnc1', 'tyro3', 'bend2', 'clstn2', 'slc14a2', 'c8orf82', 'ell', 'dock7', 'arhgef1', 'dkc1', 'or8b8', 'clec4c', 'pnpla4', 'slc17a6', 'slc9a4', 'praf2', 'pigh', 'f11r', 'knl1', 'niban3', 'mcoln2', 'tex19', 'copz1', 'ssx3', 'parl', 'endov', 'saa4', 'cenpi', 'krtap17-1', 'serpinb10', 'krtap12-3', 'zmynd12', 'fam229a', 'obi1', 'znf763', 'il32', 'znf799', 'ufm1', 'cgn', 'hnrnph2', 'itga2', 'parp6', 'eif2b2', 'nfe2l2', 'c6orf163', 'rsl24d1', 'hoxa6', 'pwwp3a', 'haus8', 'tpra1', 'c11orf71', 'gak', 'or4f21', 'lrch1', 'nolc1', 'insrr', 'relt', 'tnfrsf9', 'zbtb18', 'or6m1', 'scfd2', 'nat14', 'aldh5a1', 'kif18a', 'fuom', 'lrrc23', 'trip10', 'arfgef1', 'iah1', 'sdhaf1', 'cchcr1', 'dmrtb1', 'ergic2', 'fndc4', 'sphk1', 'timm44', 'krtap9-6', 'mkrn2', 'rer1', 'fgf4', 'piwil4', 'spta1', 'gli4', 'tfdp3', 'magea4', 'klhl7', 'thsd1', 'insig2', 'znf283', 'dpy19l1', 'clic3', 'klk3', 'nsun6', 'srp72', 'plpp4', 'zc3h7a', 'oard1', 'apobr', 'hapln1', 'swap70', 'clca4', 'rin1', 'slc7a1', 'kcnn1', 'or2v2', 'casp6', 'ica1l', 'mdh1', 'maea', 'abcc8', 'neo1', 'sugt1', 'or1q1', 'ezh2', 'ifngr1', 'nr4a1', 'phf11', 'bcar3', 'ca14', 'mst1', 'pbx2', 'zw10', 'snx6', 'fdps', 'sypl1', 'eogt', 'luc7l3', 'plpp3', 'ppil1', 'fbxl19', 'kctd16', 'elmod3', 'mt1e', 'gtpbp8', 'or2t1', 'tmem184c', 'dusp1', 'nxph4', 'rwdd2b', 'zscan1', 'vat1', 'or52r1', 'unc5cl', 'lgalsl', 'krtap11-1', 'tcaim', 'nlrc5', 'plbd2', 'grpel1', 'pgbd2', 'zbtb11', 'extl1', 'or6b2', 'nlrx1', 'stag3', 'taar5', 'glb1l2', 'akap17a', 'bsn', 'dcn', 's100a9', 'stk10', 'vamp2', 'stx1a', 'or2ag2', 'ctf1', 'gpr157', 'mindy4', 'map2k1', 'tmem231', 'c12orf54', 'urod', 'fam180b', 'alkbh8', 'fmr1nb', 'actb', 'igfbp7', 'myh2', 'ttc38', 'vtcn1', 'calhm2', 'elovl6', 'phf2', 'tmem179b', 'fam43b', 'aldh16a1', 'plod3', 'cables1', 'prok2', 'ap1m2', 'dhx36', 'hs1bp3', 'syap1', 'acot11', 'hpx', 'gpc1', 'cntn6', 'otud7a', 'fam151b', 'dtymk', 'dnajb14', 'zbtb37', 'znf385d', 'krt20', 'mob3a', 'pax9', 'kprp', 'rnf25', 'tmem87a', 'ulbp1', 'jarid2', 'enox1', 'ddx41', 'slc10a7', 'st6gal2', 'znf70', 'vsig10l2', 'klhl42', 'abcb7', 'mapk15', 'cdca7', 'ccdc81', 'tulp2', 'tmigd3', 'c1orf100', 'haao', 'tex52', 'ifnar1', 'bivm', 'gtf2f1', 'adamts4', 'ccdc73', 'lpin2', 'plin5', 'pkd1', 'hap1', 'sybu', 'c4orf46', 'trim8', 'slc44a5', 'jmy', 'syt7', 'ifnw1', 'lbx1', 'prdm10', 'clrn2', 'cpb2', 'birc3', 'taf8', 'txnrd2', 'wfdc3', 'arhgef19', 'rtbdn', 'anapc13', 'gna15', 'cox7a2', 'kctd4', 'lamc1', 'dmkn', 'nlrp11', 'tusc1', 'uimc1', 'bhlhe41', 'ticam2', 'rims4', 'c8orf48', 'ell3', 'ski', 'dcdc2c', 'mphosph9', 'rnf181', 'acbd6', 'ppih', 'tnfrsf14', 'trpv2', 'sike1', 'gspt2', 'ppp1r14c', 'mospd2', 'nkg7', 'chst14', 'krt33b', 'arpc3', 'tmem208', 'gpx7', 'rcor2', 'bmp6', 'ociad1', 'hnrnpcl3', 'tmem275', 'gfm2', 'gskip', 'psd', 'gatc', 'cdk11a', 'sec24d', 'supt6h', 'pygl', 'zgpat', 'card9', 'mafg', 'ocrl', 'dcaf8l2', 'pla2g2a', 'zgrf1', 'dcun1d3', 'otud7b', 'ccdc150', 'kiaa1217', 'msx1', 'kmt5b', 'pdp1', 'sec14l2', 'spata31d3', 'magi1', 'cd177', 'nop56', 'znf677', 'cks2', 'twist2', 'chd1', 'usp5', 'or51e2', 'setd6', 'ftcdnl1', 'nop16', 'pyroxd1', 'carnmt1', 'sertm2', 'rab26', 'slc1a4', 'chmp7', 'angptl6', 'slc5a4', 'gtf2b', 'pgam2', 'serhl2', 'tsc22d1', 'zp4', 'bud23', 'tmc3', 'lrp10', 'cfhr5', 'c11orf97', 'mfsd12', 'mmp19', 'trem1', 'bcl11b', 'cd2bp2', 'eya1', 'mest', 'krt39', 'arhgap24', 'cyp4f11', 'pcdha9', 'ms4a15', 'col25a1', 'rsbn1', 'vax2', 'ifi27l2', 'dmxl2', 'onecut3', 'slc24a4', 'synpo', 'en1', 'gpr132', 'inpp5j', 'hip1', 'kirrel3', 'carmil3', 'lingo1', 'orm1', 'rbsn', 'tceanc2', 'aebp1', 'gosr1', 'or6c74', 'fcar', 'hnrnpul1', 'nucks1', 'col27a1', 'ccdc18', 'erap2', 'fn3krp', 'pnlip', 'smarcad1', 'sox2', 'ssx7', 'taf13', 'c8b', 'wdr62', 'smad5', 'lrrc42', 'tmem91', 'wdr27', 'krt31', 'mrap2', 'eef2kmt', 'ctc1', 'ilvbl', 'nphp4', 'npy', 'psenen', 'siglec9', 'gngt2', 'adh7', 'zswim3', 'fsip1', 'pvalef', 'dync1li2', 'evx2', 'ifi30', 'krtap4-3', 'or52a5', 'stard7', 'gtf2e2', 'cpne1', 'gabra4', 'hes6', 'wnt9b', 'eme2', 'gadd45gip1', 'cngb3', 'cnot9', 'lck', 'dync1i2', 'slc22a18as', 'arsj', 'rassf9', 'rbm14', 'zscan26', 'kin', 'itga6', 'tbc1d17', 'osr1', 'gnl1', 'ptpa', 'auts2', 'nr2c1', 'znf841', 'slc4a4', 'parp16', 'plce1', 'vps13d', 'cab39', 'ap4s1', 'drap1', 'ush1c', 'zbtb47', 'cyb5b', 'e2f8', 'ppig', 'frg2', 'reck', 'tecpr2', 'rae1', 'znf319', 'atp13a3', 'mpv17l2', 'casq1', 'c8orf58', 'pdf', 'cnot3', 'stam', 'slc35b1', 'st8sia1', 'ccdc77', 'gage1', 'znf41', 'nf1', 'patj', 'slc9c2', 'flt1', 'gfy', 'hjv', 'kdm4e', 'elp4', 'dsc3', 'insc', 'rabl6', 'hira', 'csrnp1', 'clvs1', 'slc6a7', 'tmem44', 'lhx5', 'amd1', 'tmprss4', 'dvl2', 'pnpla1', 'tsen15', 'mok', 'napa', 'or51l1', 'rpf1', 'sdhb', 'cd163l1', 'faap24', 'tspyl6', 'znf554', 'wdr45', 'gm2a', 'catsperb', 'bcl6', 'ncoa4', 'krt4', 'trpc6', 'znf18', 'znf829', 'cntn3', 'cyp4a22', 'ahnak2', 'sem1', 'pou2f1', 'cpt1a', 'sry', 'neb', 'slc25a12', 'cyp4x1', 'gpn2', 'tacr1', 'bud31', 'c6orf15', 'fcamr', 'bicral', 'mrs2', 'efcab3', 'cidea', 'lrpprc', 'mpdz', 'mta2', 'neurl4', 'klrc4', 'dnajb11', 'cep19', 'smim9', 'myo19', 'tlr7', 'apod', 'c1rl', 'znf888', 'kiaa1671', 'fam117b', 'nfkbid', 'hmgcl', 'cdc23', 'galnt9', 'lyzl1', 'or6v1', 'prdm8', 'tbata', 'fdcsp', 'nsmce2', 'rce1', 'arhgap28', 'mettl21c', 'ppil4', 'galnt18', 'tfdp2', 'cfh', 'alg11', 'tmem252', 'znf670', 'itgb4', 'prtn3', 'gbp5', 'fam9a', 'soat2', 'adgrf3', 'yod1', 'p4ha1', 'smim33', 'elf2', 'fxr2', 'dnajc24', 'jup', 'csk', 'gan', 'gdf2', 'polr2f', 'tsen34', 'camkk1', 'prrg2', 'hoxb13', 'ubxn4', 'kansl1', 'tmem126b', 'snrpg', 'tmbim1', 'tprg1', 'tmem150a', 'wdr6', 'exoc6b', 'armc1', 'tmub2', 'eps8l1', 'bpi', 'mgam', 'cd84', 'tmem25', 'tmem269', 'fxyd4', 'rab21', 'akr1b1', 'plaur', 'ptpdc1', 'tagap', 'tex54', 'cyp2d6', 'or10h4', 'or1j1', 'dnajc10', 'rgl2', 'acbd3', 'insl6', 'miga2', 'dnajc30', 'pbov1', 'gprin1', 'znf831', 'b3gat1', 'n4bp2l1', 'or5d3p', 'tgm2', 'ctxn3', 'fam124a', 'fbxo2', 'abcc5', 'prss48', 'rasd1', 'ackr3', 'trim54', 'sf3b2', 'ssmem1', 'polr3a', 'slc35f1', 'wfikkn2', 'orc5', 'c14orf39', 'adcy2', 'npnt', 'pdk1', 'aqp10', 'tafa3', 'tmem114', 'znf474', 'rhag', 'shisa2', 'apol1', 'ptchd4', 'cd8a', 'chm', 'g3bp2', 'asic2', 'slc4a1ap', 'tmem121b', 'vps37d', 'dnajc27', 'chst11', 'rpa3', 'fzd7', 'nudt3', 'arpc4', 'magix', 'mn1', 'avpi1', 'c11orf96', 'get3', 'krtap7-1', 'gnb2', 'nck2', 'slc45a2', 'or56a4', 'epn1', 'tonsl', 'brdt', 'pcsk4', 'dock11', 'czib', 'ptpro', 'scgn', 'cdh11', 'cyb5rl', 'abhd6', 'rfc3', 'ift140', 'arl5a', 'atp9a', 'myoz3', 'c10orf105', 'ssc4d', 'twf2', 'tlx3', 'ct47b1', 'atxn3l', 'stx10', 'g6pc3', 'pole3', 'snx22', 'actr5', 'atg4c', 'zfand2b', 'snap23', 'fkrp', 'sprr2g', 'msra', 'csnk1a1', 'dcaf5', 'akain1', 'nynrin', 'prm3', 'kcnd1', 'ccser2', 'dhrs7b', 'prss1', 'hint3', 'pxt1', 'pde8a', 'pelo', 'zp3', 'rad52', 'noxa1', 'gal3st4', 'gtsf1l', 'jtb', 'fam181b', 'plaa', 'polk', 'xcr1', 'lbr', 'epha2', 'pnpla6', 'fbn1', 'kmt2c', 'klhl11', 'asxl3', 'mapkapk2', 'cdcp2', 'thoc1', 'stard8', 'itga2b', 'vgll2', 'or1b1', 'c11orf65', 'gmeb2', 'nrbp2', 'vegfc', 'mcm6', 'usp17l15', 'ppp1r7', 'sox7', 'en2', 'lyrm1', 'slc29a3', 'adcy3', 'krtap9-3', 'bet1l', 'sdccag8', 'cpt1c', 'ccdc51', 'lacc1', 'tmem82', 'rhbdf2', 'deptor', 'fam181a', 'atad5', 'trim62', 'prm2', 'crtam', 'znf564', 'taf11', 'wdr12', 'azgp1', 'ddx6', 'slc25a30', 'faah2', 'wdr26', 'arnt2', 'tbc1d8', 'cebpzos', 'b3gat3', 'cdc34', 'grpel2', 'nek2', 'apom', 'sra1', 'znf683', 'zfp62', 'mtnr1b', 'cln3', 'wnt9a', 'tk2', 'c19orf33', 'akt1s1', 'fam118b', 'uck2', 'ssrp1', 'ebi3', 'glcci1', 'klc2', 'cux1', 'rrp1b', 'vsig4', 'anks3', 'impg2', 'spem2', 'mis18bp1', 'tbx15', 'c9orf131', 'eid3', 'ada', 'chrdl1', 'p4htm', 'rrp8', 'ccdc194', 'rere', 'coa5', 'hmsd', 'chst10', 'mixl1', 'cstf2t', 'gpatch11', 'mmp24', 'syngr4', 'il17d', 'hnrnpa0', 'acbd7', 'grik4', 'ncbp2as2', 'paxx', 'rab33a', 'znf26', 'xpa', 'tpsg1', 'add1', 'ttc29', 'actrt2', 'stmp1', 'etv3l', 'hsfx4', 'pramef33', 'tmem89', 'otp', 'actn3', 'cd302', 'kcnt2', 'rwdd2a', 'znf211', 'ift43', 'itga1', 'aadacl2', 'acad8', 'acat2', 'araf', 'parvg', 'pskh2', 'rela', 'rln1', 'hhla1', 'slain1', 'slc16a1', 'tepsin', 'fitm1', 'plppr4', 'hspa1b', 'tmed5', 'epm2a', 'npy2r', 'rcc2', 'pmis2', 'tmem247', 'fam102a', 'acsl3', 'snf8', 'tmod3', 'znf768', 'mef2a', 'dok7', 'il36rn', 'sgcz', 'celf6', 'mylk3', 'fbf1', 'ap2s1', 'pcdh17', 'atp2b3', 'neurod4', 'gmeb1', 'cand2', 'pld6', 'tmem26', 'rap2a', 'fmo2', 'nipal4', 'vwf', 'cct6b', 'cd274', 'thap1', 'ywhah', 'rpusd4', 'p3h1', 'hnrnpf', 'tnfaip8l2', 'fnta', 'ano3', 'znf35', 'tsg101', 'fam89a', 'c7orf25', 'ucp2', 'rnf34', 'syt1', 'cfap46', 'klf15', 'selenoo', 'dchs2', 'men1', 'paqr4', 'commd8', 'znf566', 'dusp6', 'csn1s1', 'atp8b3', 'rfx2', 'znf343', 'ebf3', 'gdpgp1', 'arsf', 'p2rx3', 'foxr1', 'rabepk', 'ube2d4', 'znf461', 'prkce', 'ppp1cc', 'lekr1', 'cks1b', 'or4d9', 'smpd4', 'tmed1', 'leap2', 'slc5a9', 'glipr1', 'cdr2l', 'galnt10', 'cib1', 'cry2', 'dut', 'ccdc83', 'ccdc85b', 'fkbp9', 'nccrp1', 'cyp17a1', 'pigx', 'nefl', 'hecw2', 'coa6', 'hacd1', 'kcnc3', 'pld3', 'vav1', 'znf705g', 'tecpr1', 'crem', 'inhba', 'etv7', 'dnajc7', 'ndel1', 'ppid', 'orc6', 'cox6a1', 'dapk3', 'or4l1', 'mapt', 'lman1', 'pusl1', 'shisa7', 'vps4a', 'znf384', 'krtap1-5', 'ankrd28', 'dnal4', 'clec4e', 'mmp3', 'stk35', 'fezf2', 'raf1', 'ralgapa1', 'sec24a', 'asb5', 'cntn5', 'ikzf2', 'grm6', 'lrrc37a2', 'hes5', 'plekhg4b', 'tbc1d21', 'cdh5', 'ctage1', 'hsf4', 'ifnl2', 'cylc2', 'or8i2', 'skap1', 'slc1a5', 'gdi1', 'ccdc66', 'gpr89b', 'aida', 'il18', 'myrf', 'pdgfb', 'cpeb1', 'mettl26', 'zbp1', 'cp', 'hhex', 'coq4', 'snrpf', 'pgm2l1', 'psg7', 'col4a1', 'ppm1n', 'fam227a', 'luzp4', 'or2g2', 'uckl1', 'wt1', 'tafa4', 'tpte2', 'alb', 'gltpd2', 'cdc20b', 'sag', 'tas2r38', 'naa20', 'slc13a1', 'casp14', 'znf662', 'plvap', 'itpka', 'abhd12', 'fam160a1', 'lgals3bp', 'bnip5', 'cptp', 'smc1b', 'tmeff2', 'chchd1', 'znf660', 'mbtps1', 'mt-atp6', 'ddx19a', 'clns1a', 'dhrs12', 'amelx', 'ect2', 'lin28b', 'mpv17', 'rabep2', 'ccdc121', 'serf2', 'fut10', 'ccar2', 'srm', 'ext2', 'gpi', 'pgbd5', 'higd1a', 'mlxip', 'lgr4', 'sgca', 'bbs9', 'snrnp48', 'cd82', 'slc9a5', 'ugt2a1', 'spr', 'chpt1', 'mpc2', 'osbpl3', 'inpp1', 'rab31', 'lrrc4', 'tmco4', 'atf4', 's100a14', 'mllt1', 'lsm11', 'tekt5', 'znf281', 'lrrn3', 'zeb2', 'mpp1', 'tmem126a', 'cxcl11', 'prxl2a', 'myl6', 'hmces', 'rab39b', 'abca5', 'ano9', 'dhx9', 'erich3', 'akr1d1', 'prokr1', 'rasl12', 'twf1', 'dcx', 'rnf113a', 'znf391', 'ptgis', 'eef1akmt2', 'fpgs', 'gnpat', 'cript', 'ttc31', 'upp1', 'fxyd5', 'mamstr', 'ecrg4', 'cep85l', 'c2cd3', 'ephb3', 'lce2a', 'ankrd34c', 'or6y1', 'cfi', 'phax', 'tbx21', 'dusp15', 'or10ag1', 'slc7a14', 'tp53inp2', 'nxt2', 'bbx', 'trim3', 'c2orf92', 'znf496', 'ephx3', 'ctr9', 'ccz1', 'tpd52', 'dpysl4', 'htr1a', 'kdm5a', 'c16orf91', 'lilra6', 'lipi', 'med8', 'kiaa1549', 'svip', 'tas1r2', 'gadl1', 'khdc1', 'd2hgdh', 'usp12', 'zbtb34', 'ripk1', 'tmem47', 'or2a2', 'cdk12', 'prop1', 'tmem67', 'fam163a', 'znf366', 'myh8', 'crppa', 'hnrnpu', 'mterf1', 'kmo', 'atp8a2', 'cbll1', 'mmp24os', 'igsf3', 'bfsp2', 'ttll9', 'krtap5-10', 'kcnh1', 'rbm47', 'lgmn', 'bco1', 'gimap4', 'uggt2', 'ccdc86', 'galt', 'golga6l6', 'rnf112', 'ndufa11', 'galnt4', 'tmem221', 'ldlrad1', 'syce1', 'fndc3a', 'chmp1b', 'rab42', 'serp2', 'top3b', 'capza1', 'mapk9', 'nup188', 'ppp1r21', 'nit2', 'lgals9', 'coasy', 'fsd2', 'rab5c', 'snrk', 'flot1', 'znf540', 'cidec', 'pzp', 'kif24', 'znf627', 'lipa', 'slc38a10', 'gzmm', 'mbd3', 'rbm20', 'znf239', 'tmod1', 'foxp1', 'fyttd1', 'gjb5', 'ints12', 'scel', 'slc30a1', 'fli1', 'gsap', 'or2t6', 'lzts2', 'csrp2', 'gabre', 'ltb4r', 'cox15', 'plcd3', 'slc14a1', 'ercc6l2', 'nfatc4', 'tmc5', 'trmu', 'cr2', 'krtap4-12', 'tfap2a', 'teddm1', 'man2a2', 'usp53', 'mier1', 'pglyrp3', 'avpr1b', 'terf2ip', 'cep164', 'vmac', 'tbc1d12', 'acan', 'sptssb', 'cxcl8', 'map3k13', 'znf300', 'slc34a2', 'e2f6', 'kdm5d', 'znf569', 'pramef20', 'sycp3', 'fcgr3b', 'exosc8', 'gimap2', 'cdkl4', 'nxpe3', 'plcb2', 'cbx8', 'mmab', 'src', 'tsbp1', 'cpsf7', 'dazap1', 'lmtk2', 'sco2', 'sppl2c', 'ninj1', 'zscan2', 'zyx', 'mmp13', 'sftpd', 'thbs4', 'angel1', 'c8orf74', 'hinfp', 'naglu', 'znf641', 'rad23a', 'abr', 'eri2', 'zdhhc8', 'emilin1', 'thap5', 'crabp2', 'tbx1', 'gabbr2', 'cmtr1', 'ndufa13', 'tigd2', 'slc4a7', 'akap14', 'scg3', 'mgat5', 'rraga', 'tmem9', 'zc3h6', 'maged2', 'pcp4', 'csmd2', 'pclaf', 'arv1', 'kctd1', 'galnt8', 'nfic', 'galnt11', 'pi15', 'ascc1', 'rhobtb3', 'tsks', 'hhipl1', 'klhdc8b', 'eif3a', 'git2', 'nppb', 'znf254', 'ccnf', 'gins1', 'ccdc157', 'fbxl3', 'blvrb', 'hpf1', 'krtap22-2', 'pitx1', 'or4n5', 'ppcs', 'ppp2r2c', 'srpra', 'ndufs2', 'nmbr', 'anks1b', 'cwf19l1', 'hes4', 'meak7', 'prap1', 'calr', 'cnst', 'lcn10', 'lpar3', 'rheb', 'mrln', 'dnaaf3', 'brd4', 'ets1', 'gucy1a2', 'mzt1', 'tcf23', 'sema3d', 'shld3', 'ripk4', 'fut1', 'upk1b', 'fam24a', 'cd55', 'ash1l', 'tp53i11', 'usp48', 'il17c', 'ptprq', 'hipk2', 'siglecl1', 'or10j5', 'hbq1', 'tomm40l', 'socs6', 'cdx4', 'nek1', 'ccne2', 'cylc1', 'acrv1', 'ap3b1', 'bdnf', 'cmss1', 'ndufs1', 'stpg1', 'nmur2', 'zswim4', 'tor1a', 'nedd4l', 'ccdc60', 'cpped1', 'crp', 'gmps', 'phldb2', 'rogdi', 'evc', 'or2h2', 'ngrn', 'hs6st2', 'adcy8', 'clec1b', 'lamp1', 'fbxo25', 'ltbp3', 'tubg1', 'tmem132d', 'prps1l1', 'ccdc113', 'ncr2', 'oprl1', 'ramac', 'ctcf', 'ccdc27', 'sf3a1', 'aqp11', 'appl2', 'adamts9', 'c9orf50', 'asb11', 'rbm48', 'adamdec1', 'sppl2b', 'pou5f2', 'zim3', 'krtap10-7', 'adgra3', 'nxf3', 'rims1', 'asb6', 'rnh1', 'sfxn4', 'alg5', 'kat2b', 'st6gal1', 'stkld1', 'tuba3e', 'or10h5', 'unc119', 'itih2', 'zscan18', 'slc52a3', 'cdc42ep4', 'asb13', 'or6s1', 'bco2', 'tbkbp1', 'pde6b', 'psme1', 'chrnb1', 'rab39a', 'fbxo40', 'neu2', 'pik3r2', 'fcrl6', 'ucma', 'entpd6', 'plin2', 'acap2', 'shh', 'gabbr1', 'or51f2', 'spem3', 'or5h14', 'lrtm2', 'tmem70', 'exo5', 'gpc6', 'baz2b', 'dnaja4', 'ptpn12', 'cul2', 'ngly1', 'dpf3', 'kcng2', 'sowahc', 'spock3', 'tmem212', 'zfr2', 'slc16a8', 'stxbp5l', 'trim71', 'cemip2', 'fam83f', 'nfyc', 'vps54', 'gad1', 'nup42', 'ruvbl1', 'csrnp3', 'morc1', 'aicda', 'cyp4z1', 'pla2g4c', 'tnnc2', 'dhx34', 'g2e3', 'gkap1', 'ptgr2', 'bst2', 'plcd4', 'btnl3', 'acsbg2', 'echdc1', 'map3k20', 'actl6a', 'fgd3', 'neto2', 'slc17a4', 'itga11', 'ccdc54', 'pitrm1', 'paf1', 'slc35a4', 'pitpnm3', 'ppp1r37', 'lemd3', 'mybpc1', 'havcr2', 'raet1l', 'kdelr3', 'skap2', 'mier3', 'optn', 'gnat3', 'acaca', 'oga', 'adam11', 'sec61b', 'kctd17', 'rnf7', 'trim28', 'cdk13', 'uqcc2', 'arhgef6', 'fxyd2', 'chek1', 'apoo', 'sft2d2', 'usp43', 'smpd3', 'lect2', 'topors', 'c10orf53', 'pign', 'rnaseh1', 'mob1a', 'srfbp1', 'sapcd2', 'spc24', 'grid2', 'rnf31', 'dicer1', 'tmem170a', 'fgd1', 'actg2', 'ccl3', 'psip1', 'zbtb8b', 'deaf1', 'lrrc66', 'bsg', 'spanxd', 'ewsr1', 'wdr90', 'nfyb', 'myo18a', 'anp32b', 'sycn', 'prg2', 'cops6', 'trpv5', 'pxdnl', 'clpb', 'fbxo34', 'or8j1', 'scaf1', 'snx11', 'utp14a', 'bnip1', 'mcat', 'mllt11', 'osbpl10', 'eif4g1', 'zcchc13', 'amt', 'mageb16', 'txnl4a', 'rspo3', 'ppef2', 'eif2s1', 'gpr45', 'klf5', 'lamb1', 'elp5', 'mettl4', 'cep131', 'aoc2', 'oxtr', 'tfr2', 'slc3a2', 'arap1', 'evi2b', 'ptger3', 'lce1b', 'atr', 'ung', 'rmi2', 'dph1', 'sfxn5', 'ttc30a', 'dlg2', 'cst4', 'mmd2', 'tmem185a', 'aire', 'foxn2', 'kbtbd2', 'taar8', 'il6r', 'lrrtm2', 'slc25a38', 'svep1', 'bbs7', 'cbfa2t3', 'il18rap', 'or4c13', 'ctsg', 'cd80', 'adcy9', 'birc5', 'cga', 'clec17a', 'myo15a', 'plek2', 'polr3g', 'steap1', 'usp26', 'wasf3', 'dyrk3', 'pah', 'mmp20', 'pla2r1', 'trappc10', 'egfl7', 'kdelr1', 'gucd1', 'polr1c', 'lefty2', 'prr11', 'ddx3y', 'rap1gds1', 'tmsb4x', 'timd4', 'zbtb45', 'or5l1', 'ppat', 'cdhr3', 'ccdc80', 'gstt2b', 'cdc14c', 'ctnnbl1', 'bub1', 'bcl9l', 'lpar5', 'lypd6b', 'mtg1', 'foxd3', 'anxa13', 'dcaf4l1', 'znrf2', 'krtap20-3', 'sh3bp5', 'apobec3a', 'fam240b', 'nrp1', 'cnep1r1', 'rabl3', 'xkr9', 'gxylt1', 'sth', 'nap1l2', 'pxk', 'fam174b', 'serpini2', 'ankrd54', 'atp6v1g3', 'fbp1', 'lrrc25', 'cnmd', 'sytl3', 'ap3m1', 'creg2', 'rpe65', 'fnbp1l', 'trdn', 'pcdhgb6', 'pfkfb2', 'ptdss2', 'akirin2', 'cbln4', 'dhrs7', 'vps4b', 'caskin1', 'spam1', 'vat1l', 'akt3', 'cfap410', 'fam104b', 'perp', 'ddx60', 'ncapd3', 'scpep1', 'susd3', 'crot', 'elavl2', 'smcp', 'vbp1', 'nos1', 'sec14l3', 'hpcal1', 'ubap1l', 'arhgef10', 'fam163b', 'fan1', 'eif2s2', 'senp6', 'tubal3', 'vash2', 'snai2', 'rab2b', 'or4a47', 'tubb4b', 'haus4', 'crlf1', 'znf404', 'adam28', 'nanos1', 'hsp90ab1', 'smr3b', 'trmt2a', 'rrm1', 'ufsp2', 'vnn2', 'cfp', 'defb123', 'myh10', 'sohlh1', 'mfn1', 'itgb2', 'rbbp8nl', 'cdhr5', 'pcare', 'pyy', 'fgd5', 'inpp5f', 'shpk', 'tuba1c', 'riox2', 'flrt2', 'prr15', 'sema3c', 'slc22a13', 'rassf8', 'ifrd2', 'arhgap42', 'ankrd24', 'epb41l5', 'prtg', 'tmem242', 'krt76', 'thoc2', 'znf790', 'xkr4', 'dgkg', 'plpp5', 'apaf1', 'rpp30', 'arpp19', 'atp5mgl', 'lamtor2', 'aldh3b1', 'ibsp', 'ssc5d', 'pxmp4', 'mef2d', 'csnk1e', 'krt1', 'or10a6', 'sh3rf1', 'wdr91', 'ift20', 'tssk6', 'uxt', 'atf6', 'slc44a1', 'ccer1', 'crb1', 'dgkd', 'tspan13', 'col9a3', 'cnn1', 'ces2', 'c3orf80', 'bmp8a', 'cnr2', 'camk2n2', 'spata9', 'actr1a', 'apobec4', 'gpr83', 'nptxr', 'tex51', 'sec23ip', 'st8sia4', 'ube2d3', 'sord', 'cd74', 'znf358', 'orc1', 'pcdh11x', 'gpx2', 'psma8', 'hdhd2', 'ccdc57', 'c11orf52', 'aprt', 'cox20', 'mxd1', 'il31', 'tmem255b', 'luc7l', 'hcar1', 'il17rel', 'slc22a5', 'gstt4', 'denr', 'secisbp2', 'znf322', 'tex264', 'stx19', 'zbed1', 'ccdc178', 'clec2d', 'slc22a12', 'ggt6', 'aqp2', 'blacat1', 'scube2', 'vasp', 'nfix', 'ctnnd1', 'polr2k', 'trip13', 'otog', 'galc', 'ncr1', 'wnt5b', 'dctn5', 'sp140l', 'kif4b', 'stk16', 'krt34', 'lrwd1', 'fundc2', 'slc12a5', 'znf280a', 'alkbh6', 'tas2r9', 'cmc2', 'vsx2', 'btbd2', 'ust', 'mknk2', 'sox3', 'parpbp', 'rab41', 'arhgef9', 'c1orf105', 'slc25a21', 'baat', 'ktn1', 'rerg', 's100a6', 'upk3b', 'mrgprx1', 'c3orf70', 'tmem100', 'dimt1', 'brinp3', 'c19orf67', 'c15orf65', 'or6p1', 'stard5', 'glod4', 'dgcr8', 'c17orf49', 'fancm', 'meis1', 'gorab', 'podnl1', 'fance', 'trio', 'iqcf1', 'xage2', 'spon2', 'odaph', 'trmt2b', 'baiap2', 'cnot8', 'dusp28', 'rfx3', 'fh', 'ndufs5', 'hspa12b', 'prkn', 'fscb', 'slc25a51', 'psmc4', 'wdr93', 'trpc5os', 'kpna3', 'znf688', 'plk5', 'eea1', 'c16orf71', 'rgl3', 'npr1', 'hax1', 'huwe1', 'prr23b', 'rilp', 'st8sia5', 'c6orf136', 'kif16b', 'rab8a', 'tcf21', 'slc35e3', 'apold1', 'afap1l2', 'kpna6', 'trmt12', 'atl2', 'hk2', 'helz2', 'or2at4', 'c6orf141', 'chrnd', 'dlc1', 'cmc1', 'herc2', 'rab6a', 'ret', 'pdrg1', 'krtap13-1', 'rftn1', 'tango2', 'c2orf88', 'dip2b', 'hepacam2', 'ccny', 'donson', 'pgap1', 'tafa5', 'sh3bp2', 'stxbp1', 'antkmt', 'poc1b', 'shisal1', 'gna14', 'adnp', 'oaz3', 'c22orf31', 'lca5', 'fam193a', 'c12orf43', 'tgfbr3l', 'gpc2', 'arap3', 'znf578', 'shcbp1', 'hba2', 'serpina11', 'vstm2a', 'slc39a5', 'lrrc10', 'efna5', 'larp1', 'hoxd8', 'ndp', 'ddx51', 'guf1', 'prkca', 'scn10a', 'epha4', 'trim66', 'uprt', 'hdac7', 'gpr4', 'ccl1', 'map4k2', 'ip6k2', 'htr7', 'tbc1d10a', 'cyb561', 'c8g', 'npap1', 'baz1b', 'ttc7a', 'cldn1', 'wfdc11', 'lrrc73', 'igll1', 'dld', 'htr2a', 'pea15', 'gpr179', 'dis3l2', 'cpxm2', 'ssna1', 'hipk3', 'fancd2os', 'znf536', 'kcnq2', 'c7orf31', 'stxbp5', 'akap8l', 'cdca5', 'm6pr', 'rab3gap2', 'ctnnbip1', 'gprin3', 'eci2', 'hmbox1', 'sesn2', 'trem2', 'ppef1', 'rbpj', 'spata16', 'lair2', 'csnk1g2', 'znf544', 'tram2', 'dhx32', 'eif6', 'pcsk1n', 'naga', 'tap1', 'tmem196', 'luzp1', 'atf7ip', 'or5ak2', 'fam13a', 'pdcd2l', 'myo1f', 'polm', 'txn2', 'vdac2', 'dnajb2', 'fbxo9', 'mecr', 'jdp2', 'arfgap3', 'bsx', 'rfx8', 'cdh2', 'clk2', 'slc41a2', 'epgn', 'dennd2c', 'tm7sf2', 'or2v1', 'trpc7', 'wipf1', 'znf570', 'sclt1', 'gpr68', 'ift81', 'il2rb', 'xab2', 'hmx3', 'kmt5a', 'znf552', 'cap1', 'acbd5', 'ccdc42', 'znf185', 'cartpt', 'oca2', 'diras1', 'slc38a9', 'tnrc6b', 'sgk1', 'exosc9', 'adcyap1', 'arid1b', 'nkpd1', 'prkacg', 'mvp', 'mccd1', 'cldn7', 'irx6', 'ccdc141', 'r3hcc1', 'zhx3', 'vcan', 'pcsk9', 'oprk1', 'gfod1', 'tep1', 'lrrn4cl', 'or7d2', 'cdk20', 'pde4c', 'klf1', 'cdpf1', 'dock1', 'dglucy', 'bgn', 'akap12', 'adcy5', 'znf492', 'serinc4', 'cep97', 'ireb2', 'nkain3', 'cdh17', 'pde2a', 'susd6', 'elf5', 'nlgn3', 'l3mbtl3', 'atp6v1c2', 'zfp2', 'bcl2l1', 'cyba', 'aagab', 'abca12', 'cltrn', 'fmnl3', 'lrrc28', 'mrrf', 'pard3b', 'ppp2r2a', 'tmem209', 'rgl4', 'pls3', 'tubgcp4', 'catsper4', 'ptprb', 'ramp2', 'pik3cd', 'rab20', 'pimreg', 'actr1b', 'ppp2r1a', 'c8orf89', 'eci1', 'krt12', 'tmsb15a', 'fgl1', 'b4galt6', 'ndufv2', 'or8b12', 'ttc39a', 'stxbp4', 'ywhaz', 'zbed3', 'cdh24', 'slx4', 'znf732', 'snd1', 'cfd', 'ifi27l1', 'atp8b2', 'rc3h2', 'slc9a7', 'cmip', 'sp100', 'atpaf2', 'pus3', 'kcnq3', 'pm20d1', 'itga3', 'mns1', 'pex5l', 'timm8b', 'foxm1', 'dtd1', 'grm3', 'dmbt1', 'tnxb', 'ffar1', 'c7orf57', 'magea9b', 'ubr2', 'mettl25', 'cwf19l2', 'mpp4', 'c17orf107', 'tapt1', 'znf750', 'meioc', 'glyctk', 'cep128', 'rimkla', 'vps25', 'pax2', 'prss41', 'c15orf40', 'sh2d2a', 'arl3', 'eno3', 'mindy4b', 'zc3h8', 'ghdc', 'sgpp2', 'rad9a', 'asphd2', 'cd300lg', 'tprx1', 'mafb', 'znf773', 'pcnx2', 'ltb', 'adrb3', 'trim10', 'crybb2', 'pcmtd2', 'sugp2', 'wars2', 'rftn2', 'c1qtnf3', 'pygb', 'add3', 'hrh1', 'aqp8', 'rgs7', 'timm8a', 'b9d1', 'fndc9', 'mapk11', 'dnmbp', 'fam168b', 'os9', 'naa80', 'thap8', 'btg1', 'epyc', 'tfpi2', 'irf7', 'chrm1', 'msrb2', 'pvr', 'c1qc', 'ppp4r4', 'oxgr1', 'mfsd8', 'c3orf62', 'ccdc187', 'cacng5', 'bpifb6', 'scmh1', 'znf534', 'cecr2', 'gramd4', 'zic3', 'f2rl2', 'ska3', 'sumf2', 'mbd4', 'golga1', 'mcm3ap', 'ppox', 'zscan32', 'emd', 'apoa2', 'rptor', 'hpca', 'tnk1', 'or2a14', 'unc93a', 'dctn3', 'chst4', 'vps53', 'gna12', 'znf618', 'grik3', 'hspbap1', 'pfdn6', 'rb1cc1', 'alpi', 'eif2b1', 'ang', 'wdr11', 'sparc', 'eno4', 'hsd17b8', 'mdc1', 'casp3', 'nyx', 'or4c16', 'ppm1b', 'bnip3l', 'ankle2', 'gpr155', 'klk4', 'proser1', 'ccl2', 'wdhd1', 'lima1', 'pla2g2c', 'hdgfl2', 'c12orf66', 'grid1', 'mfap5', 'ptgds', 'ankrd49', 'clcnkb', 'ddx23', 'mccc2', 'sirpd', 'fpr2', 'il1rl2', 'spink6', 'zbtb7c', 'usp8', 'fam241a', 'serpina5', 'spata12', 'mtor', 'znf784', 'rbm28', 'tmem106b', 'cbx3', 'efna3', 'muc4', 'celf4', 'snx16', 'actr6', 'igdcc4', 'fam227b', 'fem1b', 'akr1b15', 'ddx53', 'vn1r4', 'bard1', 'prr36', 'cxxc5', 'cmtm7', 'nlrp1', 'c4orf19', 'c21orf91', 'prpf39', 'acad11', 'tubgcp2', 'elp2', 'ugt2b4', 'unc13a', 'plp1', 'rab32', 'gstcd', 'heca', 'tmem59l', 'prss56', 'gdf9', 'or1d2', 'btbd7', 'kifap3', 'med18', 'txk', 'pnpla2', 'vamp8', 'cfap206', 'znf385c', 'ubxn2a', 'adh5', 'cdk15', 'cenpf', 'prpf40a', 'tceal1', 'slc32a1', 'znf143', 'c3orf84', 'sgcg', 'cenpe', 'efemp1', 'c4orf48', 'fzd8', 'cited1', 'lce4a', 'lrrc26', 'gabrr1', 'zfr', 'prdm14', 'gtf3c3', 'clec16a', 'ccdc62', 'dll1', 'fam3a', 'farsb', 'trmo', 'bmp2', 'strbp', 'lct', 'tmem131l', 'tas1r3', 'mzb1', 'cradd', 'pbld', 'cped1', 'slc39a2', 'kcng1', 'paip2', 'poli', 'tex22', 'kcnmb3', 'zdhhc16', 'lnx1', 'pim1', 'sfxn2', 'slu7', 'tmc4', 'dbx2', 'eml6', 'acp7', 'gins4', 'krt2', 'cep126', 'xpnpep2', 'tmem258', 'ca8', 'retreg2', 'adarb1', 'wnt10a', 'ino80b', 'kcnd2', 'tex13a', 'gemin5', 'nfs1', 'pld2', 'klhl20', 'nnt', 'dpep2nb', 'fgfr2', 'ly6g5c', 'c22orf39', 'fbxw10', 'aurkaip1', 'ints14', 'ccl5', 'tpsd1', 'ly6g6c', 'cdk16', 'prkaa1', 'tab1', 'abi3bp', 'apobec3d', 'fkbp14', 'mtif2', 'pth', 'ctnnd2', 'tm2d3', 'tmem144', 'tspo', 'c9orf43', 'dmwd', 'rlim', 'pramef2', 'ddah2', 'pear1', 'fam83d', 'thap11', 'ttc28', 'atp6v1a', 'serpina12', 'tepp', 'c18orf21', 'ccn2', 'gspt1', 'cyb5r2', 'ik', 'nanogp8', 'sec16b', 'irx1', 'tnfrsf12a', 'ralbp1', 's1pr2', 'hhla2', 'notch1', 'disc1', 'ier3', 'ptf1a', 'l1cam', 'plscr5', 'eps15', 'eif2b5', 'tm9sf3', 'wipf2', 'riok3', 'c8orf37', 'foxl2', 'arsb', 'cavin3', 'kiaa0586', 'lancl3', 'reep2', 'or5k1', 'asip', 'gpihbp1', 'psmg4', 'golm1', 'depdc1', 'proz', 'frmd1', 'cdc42bpb', 'coq8a', 'pdhb', 'r3hdm2', 'pydc1', 'padi6', 'vmp1', 'cryz', 'pcnx1', 'tmem159', 'tmem167b', 'dlg5', 'acsm4', 'smug1', 'il1rapl2', 'mtrf1l', 'ctsk', 'map3k1', 'mchr1', 'cdc16', 'znf649', 'zkscan7', 'pla2g2d', 'tex29', 'vangl2', 'mapk8', 'r3hdm1', 'adam21', 'c2cd4a', 'ing5', 'nit1', 'itln1', 'mphosph6', 'ccnt1', 'rtl3', 'spice1', 'fat2', 'ankrd35', 'pip4p1', 'dbp', 'mtx1', 'csf2rb', 'slc12a9', 'kdm2a', 'lamp3', 'cd9', 'ripply2', 'znf85', 'dock6', 'dcp1a', 'pam', 'vkorc1', 'srsf9', 'pf4v1', 'apoa4', 'b3gnt4', 'wbp1l', 'cox11', 'rnf150', 'cst9', 'iqcb1', 'n4bp3', 'mapre1', 'lnx2', 'aoah', 'nat8', 'myb', 'ovgp1', 'spag4', 'dmrt3', 'st3gal6', 'tle2', 'gpatch8', 'col16a1', 'lcnl1', 'nox1', 'slc2a11', 'gnrhr', 'ube3b', 'dync2li1', 'bend6', 'pcnx4', 'ccdc174', 'krtap10-1', 'olfml1', 'or1n1', 'fer', 'leng1', 'npat', 'sharpin', 'prkch', 'gpr37', 'zbtb2', 's100pbp', 'apmap', 'tmem229b', 'slc49a3', 'klkb1', 'ptch2', 'slco3a1', 'tmem33', 'krtap4-5', 'ccdc192', 'tssk1b', 'rbmxl2', 'clec4d', 'kif13b', 'mterf3', 'or52i1', 'rab34', 'lypd3', 'wdr7', 'or52n1', 'rnf207', 'antxr2', 'dach2', 'cth', 'trappc9', 'dyrk4', 'has1', 'srd5a3', 'nlrp6', 'ntsr2', 'ly86', 'galk2', 'pif1', 'lrrn1', 'uggt1', 'cox5b', 'litaf', 'mocs3', 'nipbl', 'ankh', 'adam12', 'cyp3a4', 'dse', 'gigyf1', 'pigb', 'saal1', 'lgals16', 'tmem204', 'rack1', 'ccn5', 'clec18c', 'ghr', 'bptf', 'cbfb', 'mmel1', 'cic', 'lrriq1', 'nkx2-3', 'cfb', 'nsun4', 'tnfaip8', 'il17a', 'znf431', 'leng8', 'snx7', 'slc5a12', 'slc22a14', 'arl14', 'tcirg1', 'tex13d', 'flcn', 'gemin4', 'wfdc9', 'cnksr3', 'znf267', 'galp', 'tcf7l2', 'sned1', 'tex43', 'steap3', 'tm6sf2', 'tmem165', 'eif5', 'idh2', 'tcf12', 'susd1', 'fam3d', 'fam114a2', 'zbtb4', 'kiaa0040', 'adprm', 'cyp19a1', 'irx2', 'rai14', 'adam32', 'chst3', 'rccd1', 'or10a7', 'srsf12', 'mcc', 'tiam2', 'tnnt3', 'foxn1', 'ociad2', 'abl2', 'esco2', 'ftsj1', 'kiaa2026', 'phactr2', 'cdk17', 'hnrnpd', 'jsrp1', 'krt72', 'prr19', 'tbck', 'tex37', 'trim52', 'tmem17', 'sdr42e1', 'foxd4l5', 'chmp2a', 'timm10', 'kcnk17', 'ugt3a1', 'rbbp6', 'or3a1', 'ankhd1', 'hcn3', 'edaradd', 'tmem115', 'uba2', 'cd101', 'hoxd1', 'smim10l2b', 'ugt2b28', 'cxcl3', 'irs2', 'trim26', 'casp8ap2', 'nid1', 'ufl1', 'lipf', 'nfu1', 'arhgef2', 'pcdha5', 'vgll1', 'cntnap4', 'ubxn1', 'ankzf1', 'hoxc11', 'znf723', 'atp6v1g1', 'epas1', 'znf622', 'sae1', 'akirin1', 'aifm2', 'cabs1', 'prr30', 'znf879', 'adamts8', 'tspyl5', 'cfap53', 'gap43', 'dgat2', 'lgi3', 'inpp4a', 'nid2', 'rnft2', 'ier5', 'b4galnt2', 'muc16', 'csrp1', 'tas2r40', 'tmem101', 'znf644', 'fkbp1b', 'cxcr1', 'znf135', 'efcab7', 'c10orf88', 'col13a1', 'gpr6', 'lmo4', 'slc16a2', 'lmln', 'srsf8', 'ppp6c', 'slc46a2', 'gpr18', 'map3k10', 'shc3', 'chmp2b', 'dpf2', 'lin37', 'foxi1', 'birc7', 'znf397', 'osbpl5', 'lzts1', 'gcg', 'tnfsf11', 'pdyn', 'irgm', 'phactr4', 'htr3e', 'boc', 'cnih1', 'nutm1', 'ubn1', 'ugt8', 'pole', 'shld1', 'trip12', 'mid2', 'extl2', 'itsn1', 'wee2', 'wdr19', 'jrk', 'ccn6', 'cdc42ep1', 'prok1', 'otud6b', 'mc2r', 'gria4', 'ibtk', 'b9d2', 'sstr2', 'slc25a4', 'spint1', 'hps6', 'gsk3a', 'ankle1', 'cers2', 'f8a1', 'rad9b', 'sp4', 'ctps1', 'clcf1', 'plekhf2', 'atg4a', 'hadha', 'izumo3', 'qki', 'mcm7', 'msln', 'ythdf3', 'mtss2', 'ciz1', 'gfi1b', 'slc6a11', 'hif1an', 'calhm4', 'tspan4', 'nrbp1', 'slfn13', 'camk2a', 'coro2b', 'adora1', 'cpn1', 'mlh3', 'pus7l', 'wdr70', 'sec31b', 'ptov1', 'fam174a', 'ikbkg', 'tmem260', 'tlr8', 'otub1', 'wdr37', 'wdr83os', 'rhbdl1', 'or6c68', 'zbtb9', 'angptl3', 'vkorc1l1', 'aggf1', 'dcxr', 'tube1', 'hydin', 'dnph1', 'enpp4', 'tmem9b', 'rtraf', 'c5ar2', 'gramd1a', 'ifit2', 'pex11b', 'rabep1', 'dpysl2', 'ankrd29', 'mov10', 'dram2', 'rbbp9', 'hrct1', 'bpifa1', 'trim17', 'cplane2', 'tlr2', 'utp11', 'tceanc', 'pde1c', 'msantd2', 'asgr2', 'ptn', 'glul', 'bank1', 'cd300a', 'cmtm5', 'ntng1', 'yeats4', 'slitrk2', 'defb127', 'acss3', 'tnfsf10', 'pdzd11', 'znf181', 'crmp1', 'smyd1', 'atp5mc2', 'tnfrsf1a', 'golga7b', 'kank4', 'fam171b', 'gas1', 'prss55', 'skp2', 'tex13c', 'lipn', 'lurap1', 'jade2', 'utrn', 'snrpn', 'gpr171', 'mex3c', 'fads3', 'stk32b', 'znhit6', 'inhbe', 'actl7b', 'ddx10', 'znf331', 'sgsm1', 'serpinb2', 'map2k3', 'ikbke', 'fam135b', 'ppp1r15a', 'sh3bgrl', 'or5ap2', 'pgls', 'hoxb3', 'efcab10', 'lingo2', 'c1orf56', 'vtn', 'lage3', 'ppan', 'chrnb3', 'stim2', 'c1orf198', 'b4galt3', 'cluap1', 'psmb5', 'ankrd34b', 'or5b21', 'plekhh1', 'stk17a', 'rbm22', 'uroc1', 'intu', 'grk1', 'prr14', 'phf20l1', 'elac2', 'znf98', 'trpc4ap', 'asic3', 'fam131c', 'mad2l1bp', 'atg4b', 'usp21', 'bag2', 'rnf115', 'aig1', 'samd1', 'nop10', 'pgk1', 'or4e1', 'ccl11', 'steap2', 'nol6', 'app', 'exosc2', 'cxcr4', 'serpinh1', 'tle1', 'mogat1', 'fntb', 'sertad2', 'igdcc3', 'sp140', 'cox10', 'fam110d', 'nup54', 'slc7a6os', 'tmem104', 'golt1b', 'pi3', 'vwa7', 'ppp6r1', 'gpr37l1', 'smcr8', 'gata5', 'pld5', 'tprkb', 'lrrc70', 'sh3gl2', 'nr2f6', 'stam2', 'zbed6cl', 'plekha2', 'pcdh12', 'znf724', 'cenpvl3', 'ska1', 'klhl10', 'itih1', 'tmem42', 'krtap10-3', 'pigf', 'furin', 'hirip3', 'b3galt4', 'tpm1', 'dcstamp', 'mmut', 'rgma', 'azi2', 'ngef', 'prrt1', 'fbln5', 'or11a1', 'smtnl2', 'cep162', 'igf2bp3', 'ankrd45', 'lrrc24', 'ly75', 'mgrn1', 'alx3', 'c19orf73', 'c9orf24', 'grin2a', 'slc10a5', 'wdr55', 'itgb5', 'med6', 'primpol', 'zp2', 'unc13d', 'brd3os', 'nckap1l', 'tex9', 'tada2b', 'dio1', 'spa17', 'septin4', 'pfdn5', 'adad1', 'sell', 'abhd16a', 'sntb2', 'c17orf78', 'hacd3', 'znf638', 'dhrs3', 'rnf167', 'stum', 'cfap45', 'gamt', 'arntl2', 'oosp1', 'aldh3b2', 'oplah', 'pcdhgc5', 'slc25a48', 'spsb4', 'iqch', 'tmem234', 'nhs', 'tmem237', 'gpsm2', 'ivd', 'lexm', 'map3k4', 'ppp1r36', 'rp2', 'serpina6', 'slc1a7', 'nbn', 'figla', 'serpinb5', 'usp50', 'foxe3', 'mageb2', 'mia', 'slc22a3', 'krt28', 'or2m4', 'pex11g', 'snrnp40', 'st13', 'kctd10', 'plxdc1', 'nova1', 'galntl5', 'gde1', 'nudt17', 'tmem213', 'pigc', 'cilp2', 'lasp1', 'kiaa1614', 'btg4', 'lonp1', 'atg12', 'gramd2a', 'itm2a', 'nsfl1c', 'smagp', 'robo3', 'rgs12', 'hmg20a', 'entr1', 'klk13', 'mylk', 'slco1c1', 'ttll4', 'coq10a', 'ca9', 'mycbp2', 'or9i1', 'tedc1', 'spns3', 'c10orf99', 'togaram1', 'kcnk4', 'kiaa1755', 'kif27', 'copa', 'prxl2b', 'uchl1', 'tgm1', 'zpbp', 'cul3', 'slc48a1', 'prpsap2', 'dctn4', 'calhm1', 'or10a2', 'pdcd7', 'dusp2', 'or2t33', 'synpo2', 'zdhhc2', 'ecd', 'pwwp2b', 'pcdh10', 'esd', 'ddx49', 'znf658', 'mrgprx4', 'rbm8a', 'lsg1', 'srp68', 'nt5e', 'kctd2', 'gpr20', 'phldb3', 'zbtb41', 'vcl', 'card18', 'commd9', 'psg2', 'tctn3', 'mavs', 'btg3', 'ezhip', 'cnot6l', 'nr2e1', 'pramef19', 'ccdc9b', 'eif3m', 'ccdc69', 'pou4f1', 'rnf6', 'sowahb', 'cd1c', 'c1qtnf2', 'cpa2', 'uqcrhl', 'arhgap8', 'strn', 'kitlg', 'phf10', 'anp32d', 'dnajc16', 'rbck1', 'csag1', 'dyrk2', 'slc25a20', 'poldip2', 'ccl16', 'znf653', 'foxc1', 'c12orf29', 'aadat', 'ambp', 'b3galnt1', 'robo4', 'ano1', 'ctss', 'dmd', 'or56b4', 'fads6', 'syncrip', 'trim24', 'hormad1', 'rnf103', 'ceacam1', 'pradc1', 'adgre2', 'znf844', 'muc22', 'krtap6-3', 'rp9', 'ndufs3', 'dnttip1', 'ing1', 'manbal', 'nfatc2', 'slc1a3', 'syf2', 'gpr108', 'defb1', 'emc6', 'sugp1', 'higd1b', 'rgpd4', 'cyp2c9', 'hnf1b', 'arhgap11a', 'atxn7l1', 'trim21', 'nkx2-8', 'rnaseh2b', 'strn4', 'inafm2', 'taldo1', 'or9a4', 'c19orf25', 'plaat4', 'srcap', 'arl10', 'fos', 'rnf217', 'traf3ip1', 'sap30', 'ncf2', 'rab3b', 'tmprss11d', 'hmcn1', 'rit1', 'fzd1', 'hcfc2', 'bmerb1', 'dcst1', 'atp5pd', 'cdh12', 'nectin1', 'cyb5d1', 'cdh9', 'or1e1', 'or52n2', 'pofut1', 'ube2i', 'znf79', 'rab3il1', 'lap3', 'apob', 'lrrc1', 'mogat2', 'tbrg1', 'cfap52', 'adck5', 'dhdds', 'myh9', 'lgals8', 'efcab14', 'nhlrc4', 'guca2b', 'or5h15', 'szrd1', 'or2i1p', 'sf3b4', 'ciapin1', 'tmem81', 'nexn', 'alkbh3', 'kiaa1109', 'dennd6a', 'ppp2r5b', 'hccs', 'ccr7', 'mogs', 'tead2', 'abcg4', 'cul4a', 'oscar', 'sdhaf4', 'znf442', 'uqcrb', 'tmem215', 'ezr', 'igsf23', 'ncapg', 'sowahd', 'pus10', 'akap6', 'rb1', 'klrf1', 'uts2', 'cbx7', 'glrx2', 'cog3', 'lyplal1', 'serpine2', 'tssc4', 'sult1c3', 'cep85', 'gnrh1', 'pdpr', 'mcf2l2', 'pabpc4l', 'lrcol1', 'atp9b', 'rbpms', 'mapkbp1', 'tm4sf19', 'slmap', 'lgr5', 'pacc1', 'cfap97d2', 'fbxo16', 'coq10b', 'tmem43', 'klf12', 'rnf121', 'plch1', 'wdr61', 'ovch1', 'abcf2', 'cacna2d1', 'rell1', 'adamts2', 'phf23', 'tmem183a', 'kdm4b', 'mesd', 'myt1', 'ripk3', 'sel1l2', 'usp51', 'or52b2', 'naa40', 'rassf1', 'mnat1', 'sufu', 'lgals7', 'mybphl', 'nbpf11', 'lta4h', 'stpg3', 'dtx1', 'smad7', 'or56a1', 'dspp', 'slc12a1', 'or10ad1', 'rhobtb2', 'tas2r39', 'slc19a2', 'upk1a', 'gimap1', 'mcmdc2', 'stoml2', 'c11orf21', 'ubac2', 'lmnb2', 'ndufb4', 'xpnpep3', 'znf620', 'crkl', 'or1d5', 'prorp', 'zfyve26', 'usp25', 'hesx1', 'sync', 'mib1', 'cpsf1', 'kel', 'egfr', 'trnau1ap', 'dnajc9', 'fbxo22', 'agbl5', 'anos1', 'csnk1g1', 'gpr35', 'isx', 'kcnrg', 'fstl5', 'p2ry2', 'rasgrp4', 'ank1', 'dll3', 'armcx6', 'imp4', 'plac1', 'zcwpw1', 'a2m', 'ascl4', 'tmem199', 'ppib', 'tra2a', 'cdk3', 'bst1', 'capza2', 'fabp6', 'grpr', 'prune1', 'taar9', 'zcchc9', 'sema4b', 'ifna2', 'ctsc', 'tra2b', 'gk5', 'asxl1', 'atad3a', 'npw', 'vrk1', 'foxd4', 'cyp2c18', 'inpp5a', 'unc13b', 'entpd3', 'ccdc13', 'rfpl4a', 'mpzl3', 'trpm6', 'tbl3', 'gfod2', 'lrrc45', 'abcb11', 'arih2', 'slc5a2', 'btbd10', 'ebna1bp2', 'pdia4', 'znf491', 'isl1', 'mettl9', 'nacc2', 'id2', 'capn9', 'slc52a2', 'ankrd63', 'mef2c', 'moxd1', 'rnf141', 'cd2ap', 'ldhc', 'cfap70', 'nudt15', 'c9orf64', 'snrpd2', 'tbk1', 'lingo4', 'ccdc183', 'ggct', 'mylpf', 'fxyd3', 'znf792', 'cmc4', 'ap1s1', 'mmp12', 'hras', 'kpna7', 'acaa2', 'spag17', 'ndrg1', 'actr3b', 'fzd9', 'c2cd5', 'rnf183', 'pde6c', 'tlr3', 'tcof1', 'fuz', 'nkx2-5', 'clvs2', 'col2a1', 'gnl3', 'hmox2', 'cdon', 'mael', 'mei4', 'psors1c2', 'abhd11', 'lbx2', 'znf416', 'ppfibp1', 'ring1', 'atxn7l3b', 'fastkd2', 'gsto1', 'bloc1s4', 'muc12', 'treh', 'rnaset2', 'cdc6', 'use1', 'rsbn1l', 'tg', 'enkd1', 'adrm1', 'cd3e', 'fbxo45', 'fcrla', 'bmp5', 'clptm1', 'xaf1', 'srgap3', 'fam91a1', 'flot2', 'sgip1', 'crb3', 'muc7', 'rasgrp3', 'slc25a27', 'cyfip2', 'fam193b', 'kdm3b', 'smoc2', 'ankrd53', 'trim43', 'pkd2', 'zic1', 'robo1', 'scml2', 'ccn4', 'pramef10', 'or6n2', 'rnf169', 'ptp4a3', 'nagk', 'dexi', 'tusc3', 'erc2', 'pold2', 'slc22a6', 'slc4a3', 'p2rx6', 'tnfaip6', 'spx', 'asb3', 'epb41l4a', 'znf354b', 'psma3', 'inpp5e', 'htra3', 'stat6', 'foxd4l6', 'il5', 'c16orf74', 'meiob', 'pwp1', 'znf713', 'smim18', 'lce3a', 'qsox1', 'hmgxb3', 'gli2', 'mapk10', 'hspb11', 'pabpc4', 'sprn', 'gng3', 'bbs1', 'prkaca', 'trim67', 'nphs2', 'tln1', 'lce2c', 'naa11', 'ppm1k', 'zswim7', 'eda', 'gnat2', 'chrfam7a', 'ostm1', 'vopp1', 'sort1', 'ttll12', 'pigz', 'kiaa0513', 'znf165', 'dgat2l6', 'man1a2', 'cstl1', 'rrnad1', 'c11orf94', 'or52h1', 'hyou1', 'itga8', 'sh3pxd2b', 'znf44', 'cited4', 'runx1t1', 'rsad1', 'nmu', 'kansl2', 'pctp', 'lrrc4b', 'znf160', 'znf678', 'fam98a', 'slurp2', 'tlr10', 'il16', 'c16orf96', 'coa1', 'erc1', 'nat8l', 'ldlrap1', 'slc25a26', 'gnb1', 'phf3', 'ifi44', 'kif3a', 'otx2', 'ube2l5', 'vwc2', 'xylt2', 'rad51b', 'sesn1', 'agpat5', 'bcas3', 'ccdc149', 'nenf', 'tut1', 'apcdd1l', 'tmem250', 'pced1a', 'ntpcr', 'syngap1', 'insl5', 'odf2l', 'dpm3', 'c11orf80', 'efna4', 'mtch1', 'tceal3', 'cox6a2', 'ltc4s', 'rasgef1a', 'alpg', 'tasor', 'krtap5-1', 'foxh1', 'mnd1', 'patz1', 'fam102b', 'edn1', 'pick1', 'fbxl18', 'gramd1c', 'znf543', 'dhx29', 'pms1', 'epg5', 'zbed9', 'apln', 'selenoi', 'rcn1', 'rcbtb1', 'adamtsl3', 'psap', 'tpst1', 'znf629', 'aldh8a1', 'eppk1', 'alcam', 'tlk1', 'f12', 'isl2', 'synj2bp', 'hnrnpr', 'capns1', 'sde2', 'prg4', 'mroh9', 'uevld', 'ccl21', 'limk2', 'apool', 'nyap2', 'sec61g', 'prelp', 'prrx2', 'hk1', 'pigq', 'ikbip', 'cep170b', 'cd36', 'fscn3', 'agtpbp1', 'smpd1', 'ptprr', 'il11', 'trmt10c', 'ankrd26', 'atg16l2', 'fkbp3', 'znf621', 'samd9', 'cabp1', 'thop1', 'lilra5', 'lars2', 'znf619', 'kcns2', 'mog', 'pigbos1', 'ahctf1', 'kpna5', 'eftud2', 'neu3', 'ston2', 'kremen2', 'man2b2', 'dis3', 'samd10', 'slfnl1', 'tcf19', 'ube2t', 'mmp15', 'znf354c', 'ears2', 'pmch', 'zmym5', 'tmem74b', 'shmt2', 'scarb2', 'klhl36', 'cep120', 'pheta2', 'lig1', 'wwp1', 'tnrc6c', 'tcim', 'bhmt', 'ppp1r12b', 'wfdc10a', 'rab6b', 'kcng4', 'syngr2', 'kcnn4', 'ntrk3', 'hmgb3', 'prdx1', 'snx33', 'srgap1', 'evpl', 'tcf24', 'wnt3a', 'cyb5d2', 'eif2a', 'dmp1', 'trim25', 'mlnr', 'slc11a2', 'lrrc59', 'rhob', 'tinag', 'cndp2', 'rhbdl2', 'rgsl1', 'mfsd2a', 'ufd1', 'plekhb2', 'syt13', 'usp38', 'bin3', 'arhgap20', 'usp47', 'plcl1', 'skil', 'znf92', 'fnip1', 'krt36', 'zkscan8', 'pin1', 'crtac1', 'gorasp1', 'trim16', 'bola1', 'glmn', 'nsun7', 'rec8', 'c1orf194', 'pdxp', 'rbm24', 'gp1bb', 'chi3l2', 'coa3', 'znf667', 'or5m3', 'ptprt', 'nudt13', 'ctxnd1', 'lrguk', 'borcs6', 'znf184', 'lsm4', 'sfrp4', 'cmpk1', 'eapp', 'iscu', 'ndufb1', 'tubg2', 'hspb8', 'fez1', 'slc1a1', 'terf2', 'zbtb17', 'ect2l', 'cysrt1', 'il17f', 'spg11', 'spdyc', 'syce2', 'polr3f', 'nemf', 'sft2d1', 'vhl', 'xpo5', 'cpa5', 'cul4b', 'pdgfc', 'gabra3', 'rgr', 'fndc3b', 'nckap5l', 'igfl2', 'nwd1', 'grb7', 'nbas', 'tshz2', 'cacng6', 'lyl1', 'fam177a1', 'drd2', 'brd3', 'asb8', 'psmc2', 'dpp8', 'il1a', 'map3k15', 'ankrd2', 'efl1', 'nlrp2b', 'dusp21', 'rragd', 'csf2ra', 'ipo11', 'c11orf95', 'hbz', 'fus', 'kntc1', 'or2t34', 'alx1', 'sergef', 'klf13', 'pdpk1', 'taf9b', 'tktl1', 'or9g1', 'tnks1bp1', 'alkal2', 'megf8', 'efcab8', 'epb41', 'ccdc106', 'rusc1', 'tbc1d15', 'pcdhga12', 'tmem135', 'nwd2', 'ms4a3', 'aqp6', 's100a10', 'slc30a5', 'pggt1b', 'rfng', 'fcf1', 'nup153', 'tmem65', 'wfdc10b', 'znf484', 'lrrc27', 'dstyk', 'ucp1', 'gipc1', 'klf14', 'mlf1', 'gem', 'rab18', 'vwa5b1', 'gstk1', 'myh7', 'unc5c', 'or7a10', 'ltbp1', 'cct3', 'rag1', 'uck1', 'lce1d', 'triap1', 'nos1ap', 'aamdc', 'sim2', 'rnf208', 'c19orf44', 'ubxn7', 'kcnk12', 'wipi1', 'c14orf180', 'gpr39', 'plekhm1', 'thumpd3', 'dlgap2', 'fars2', 'slc35e4', 'imp3', 'xirp2', 'yars2', 'lipm', 'egln1', 'guca2a', 'krtap20-4', 'il5ra', 'nrip1', 'lgi1', 'umad1', 'mxra7', 'mtln', 'pcdhb14', 'fbn2', 'elovl2', 'rnf133', 'prf1', 'cops7a', 'icmt', 'arl1', 'cyth4', 'syn3', 'snw1', 'grp', 'cwc22', 'ethe1', 'c6orf62', 'or3a2', 'krtap19-7', 'atp5f1c', 'crebl2', 'il34', 'krtap2-3', 'phactr3', 'gldc', 'kcnk3', 'bach2', 'krtcap2', 'astn1', 'homer1', 'irf2bp2', 'rbm38', 'znf502', 'gtpbp1', 'rnf43', 'htra4', 'clul1', 'usp3', 'zfp69', 'lama1', 'glrb', 'gas2', 'tnfrsf17', 'spock1', 'bfar', 'akip1', 'cfhr2', 'kng1', 'map3k12', 'elovl3', 'arhgef18', 'radil', 'krtap21-2', 'fnbp4', 'pudp', 'tti1', 'cxcl14', 'or52d1', 'mbd5', 'ndst1', 'il4', 'phykpl', 'zc3h10', 'ube2b', 'ccl4', 'ppp1r3g', 'ttyh3', 'lnp1', 'ubqln1', 'gmds', 'anln', 'cald1', 'raver1', 'hoxa13', 'gata3', 'spem1', 'pmp22', 'guk1', 'tnfsf14', 'mall', 'tas2r4', 'lyn', 'polr2b', 'znf518a', 'gatm', 'gpr137c', 'prdm7', 'zmynd11', 'btnl8', 'zbtb6', 'grk4', 'btbd3', 'dync1li1', 'shisa4', 'rnf214', 'gne', 'snapin', 'papolg', 'rabif', 'specc1l', 'cldn14', 'pak6', 'nt5c3b', 'nedd8', 'mybph', 'ccdc28a', 'rnd2', 'xkr7', 'ddx28', 'fbxw5', 'kctd11', 'sst', 'ca10', 'nbea', 'coq8b', 'slc22a8', 'tmem86a', 'tnf', 'tnfrsf10c', 'tyw3', 'f3', 'grin3a', 'sgpp1', 'sec61a2', 'ttc3', 'ceacam8', 'chi3l1', 'wdr81', 'znf774', 'lhx2', 'zfp57', 'nalcn', 'il22ra2', 'speg', 'spg7', 'gmfb', 'noa1', 'tmem184b', 'ugt1a5', 'pogz', 'slc22a4', 'slc39a8', 'dtx4', 'tinf2', 'plpp6', 'adrb1', 'pias4', 'repin1', 'resf1', 'znf682', 'polr1a', 'klf10', 'cdca4', 'zc3h15', 'pacs1', 'pfkp', 'ptger2', 'ifit1b', 'rarres2', 'nt5m', 'aldh4a1', 'trank1', 'cd19', 'nubpl', 'ddr2', 'abhd13', 'slc5a1', 'lrrc19', 'clip2', 'mkrn2os', 'gng5', 'sox1', 'rilpl1', 'c2orf80', 'il18r1', 'lrrc52', 'gpr182', 'arhgap19', 'bcl6b', 'krtap3-1', 'tomm34', 'tldc2', 'pou4f3', 'il15ra', 'mmp10', 'pip', 'tulp1', 'siah1', 'cd1e', 'pdcd11', 'adgrl1', 'atp2a2', 'cnr1', 'htr5a', 'hsd17b10', 'cdc27', 'mob2', 'tcf7l1', 'mthfr', 'fra10ac1', 'prdx4', 's1pr1', 'arfgef2', 'sin3b', 'n6amt1', 'nudt7', 'fam171a2', 'lpin1', 'pamr1', 'ndfip2', 'trap1', 'znf600', 'znhit1', 'col4a3', 'rp1l1', 'pds5a', 'crisp3', 'galr1', 'hif1a', 'ddit4l', 'chrnb2', 'pnma8a', 'esyt3', 'spp1', 'cyp51a1', 'bpifa3', 'nuak1', 'znf514', 'aimp1', 'slc7a13', 'klhl25', 'or2ae1', 'sp6', 'triml1', 'stim1', 'znf66', 'abcc12', 'hs3st1', 'scaper', 'manea', 'fndc1', 'hcfc1r1', 'pknox1', 'fgf9', 'ldb1', 'bnc1', 'gcc2', 'lias', 'myo1a', 'psme3', 'ramp3', 'scrn1', 'eys', 'il21', 'hhip', 'kif18b', 'kdr', 'exosc7', 'kdm5b', 'krt74', 'nav1', 'rrh', 'scgb1c2', 'ythdc1', 'prdm15', 'dad1', 'sh3d21', 'tril', 'supt16h', 'rab27a', 'tlcd3b', 'cfap43', 'psmd12', 'steap1b', 'cenpq', 'gpr148', 'or8h1', 'cyyr1', 'mt1x', 'qrsl1', 'krt33a', 'aff3', 'ceacam4', 'mboat4', 'znf117', 'nfe2', 'sprtn', 'klf16', 'prkcsh', 'slc13a3', 'ucn2', 'cdt1', 'foxo3', 'ihh', 'cldn16', 'pdia2', 'c5orf52', 'zscan21', 'cldn6', 'or2t8', 'rfc2', 'camk2d', 'tm2d1', 'dynlt3', 'gle1', 'pcdhb9', 'fam222a', 'aasdh', 'apobec2', 'trappc5', 'fam47b', 'epb41l4b', 'slc16a4', 'aifm1', 'lcor', 'col5a1', 'stx6', 'ccr6', 'tinagl1', 'acer1', 'cdk5rap1', 'snrpd3', 'dusp8', 'creg1', 'rara', 'cacna1f', 'uts2b', 'adipoq', 'mlf2', 'wdcp', 'dnajb4', 'psmb11', 'zer1', 'krtap19-3', 'rhpn1', 'chac1', 'ucn', 'slc6a1', 'znf488', 'zfat', 'myrip', 'clec2a', 'mapk14', 'ppwd1', 'prickle1', 'tmem38b', 'mff', 'il2', 'chit1', 'slc26a7', 'smurf1', 'lman2l', 'gtf2ird1', 'insl3', 'sema4g', 'znf738', 'c9', 'slc9a2', 'surf4', 'dsn1', 'taf1a', 'piga', 'gtf2a2', 'fgf8', 'ugt2a2', 'cltc', 'lnpk', 'syce3', 'cmya5', 'ssr2', 'ednra', 'znf577', 'prss3', 'tbc1d32', 'slc39a9', 'hoxd12', 'chpf', 'nxph1', 'znf205', 'rasip1', 'amdhd2', 'otud5', 'cpsf4', 'mtr', 'kif5c', 'rnf216', 'mgat4a', 'ccnjl', 'prkg2', 'arl2bp', 'rsrc2', 'map7d1', 'poldip3', 'akap5', 'utp15', 'spata48', 'hamp', 'prr15l', 'ccdc175', 'foxj2', 'magoh', 'mmp11', 'faxdc2', 'tmem140', 'spag5', 'erp27', 'setx', 'xrcc2', 'laptm5', 'prr35', 'lipt1', 'clcn2', 'igfals', 'pitpnb', 'stk17b', 'cenpu', 'ndufb2', 'osbpl9', 'tbx10', 'pfkm', 'ndufa5', 'jph4', 'cdh23', 'cd33', 'pde5a', 'psmc1', 'tm4sf4', 'casp8', 'taf12', 'trpm2', 'dmrta2', 'heatr1', 'ttc16', 'psmd10', 'grin3b', 'nxf1', 'ddx4', 'or9q1', 'fubp1', 'adh4', 'anxa2', 'gabra6', 'mt1b', 'ncor2', 'xkr8', 'zscan4', 'ltf', 'c4orf50', 'tet2', 'abhd15', 'amn1', 'chia', 'med13l', 'znf324', 'tfap4', 'rfpl4b', 'sebox', 'clec4f', 'ass1', 'fem1c', 'mpp6', 'rgs6', 'mlst8', 'c20orf141', 'pnpla8', 'spanxn4', 'fgf13', 'mre11', 'prmt2', 'ndrg4', 'syt11', 'wwtr1', 'vim', 'znf330', 'kiss1', 'kcnk16', 'ripor2', 'tor4a', 'drd1', 'htra2', 'sod3', 'znf740', 'cyp1b1', 'pyhin1', 'gys2', 'rab3ip', 'nsg2', 'grxcr2', 'ajuba', 'pramef13', 'srd5a1', 'pcbp4', 'elavl3', 'hopx', 'rab4a', 'eloa', 'tmem130', 'nkapd1', 'cd53', 'dlx2', 'oprpn', 'alg6', 'pex13', 'gas2l3', 'kif3b', 'klhl5', 'otud3', 'psmg2', 'oas1', 'tas2r16', 'bbs2', 'egfl6', 'bpifc', 'rtf2', 'oscp1', 'swsap1', 'adora3', 'tp53i3', 'slfn14', 'vps52', 'uqcr11', 'izumo1', 'gclm', 'pou2f2', 'vnn1', 'sephs1', 'rims2', 'sdf4', 'or8u1', 'pgpep1l', 'anks4b', 'ppp1r3e', 'tmem39b', 'prkag2', 'adgra1', 'ap3m2', 'ddx1', 'defb136', 'thpo', 'opcml', 'ush2a', 'sparcl1', 'usp27x', 'fut6', 'junb', 'abcb4', 'mllt10', 'cops3', 'ctdspl2', 'dok5', 'tmub1', 'ppp1r1b', 'terb1', 'ms4a6e', 'znf816', 'adipor2', 'fmo5', 'mc4r', 'nlrp9', 'mtcl1', 'dennd10', 'nup62', 'dusp7', 'or10d3', 'naa10', 'dph3', 'fbxw12', 'fam114a1', 'rnf41', 'nkd1', 'jakmip2', 'kctd12', 'cd300ld', 'stk3', 'sult1a2', 'znf213', 'asmt', 'eddm3a', 'fbxo28', 'prag1', 'anapc10', 'ldb3', 'casp2', 'gnai1', 'cfap161', 'prex1', 'ube2l6', 'krt71', 'gas2l2', 'glipr2', 'sod1', 'gml', 'mcm9', 'phf13', 'c1orf112', 'iars2', 'dprx', 'foxk2', 'plekhh2', 'shroom1', 'slc22a15', 'pcsk7', 'vac14', 'btbd6', 'yif1a', 'endod1', 'rtl6', 'fgf17', 'pramef11', 'tmem225', 'sult2b1', 'igfbp2', 'cyp8b1', 'myf6', 'gtf3c2', 'tspan8', 'fam160b2', 'lgi2', 'avil', 'muc13', 'scyl1', 'trpc3', 'acvrl1', 'or10s1', 'xcl1', 'tcn2', 'adam17', 'osr2', 'coch', 'nrsn1', 'krtap4-16', 'crtc1', 'ciao2b', 'znf609', 'rmdn1', 'ammecr1', 'tfcp2l1', 'cebpe', 'or11h6', 'znf207', 'gjb1', 'tsfm', 'fuca2', 'msh3', 'ccdc120', 'abcb6', 'ms4a12', 'cep83', 'kif14', 'ccdc14', 'dctn6', 'foxo6', 'macc1', 'armc12', 'nrde2', 'renbp', 'sh3glb2', 'slc25a29', 'ppp4r2', 'scgb1d2', 'usp13', 'morc3', 'mat1a', 'nup88', 'plxnb2', 'c1qtnf4', 'srpk2', 'tspan3', 'bpifb3', 'taf1b', 'ifne', 'fcrl2', 'htr6', 'gsta5', 'c2orf16', 'zc3h4', 'foxd2', 'aplp2', 'noc2l', 'or13f1', 'rdh16', 'scamp3', 'tdrd12', 'wdr86', 'ccdc15', 'znf57', 'gpd1l', 'dynll1', 'gpatch4', 'mesp1', 'mvd', 'myo15b', 'tmem106a', 'trmt6', 'ubtd2', 'kcnj14', 'tmem109', 'ttc19', 'armc7', 'ncoa2', 'hectd2', 'tarbp1', 'or4k13', 'sys1', 'pgrmc1', 'hey2', 'chchd2', 'flvcr2', 'ccdc198', 'or52k1', 'ccin', 'or5t1', 'pik3ap1', 'dazl', 'sptan1', 'tmprss7', 'magef1', 'ugt1a1', 'vamp4', 'znf141', 'cd40lg', 'braf', 'magea12', 'bcl2l15', 'idua', 'ovol2', 'znf436', 'alox5', 'igfbp3', 'ppl', 'mcts1', 'brd7', 'itih3', 'rbm15b', 'selenop', 'pdia3', 'usp22', 'adrb2', 'opn4', 'pcbp1', 'dpf1', 'map6d1', 'setd9', 'sumo2', 'cyp11a1', 'slco1b3', 'spaca6', 'spata31a1', 'nfkbia', 'prrc2c', 'borcs7', 'fbxo17', 'spata6l', 'ankrd30bl', 'brd8', 'atp6v1c1', 'spns1', 'tceal5', 'gpa33', 'krtap10-8', 'or4k15', 'ppp2r5e', 'tph1', 'utp25', 'ccdc97', 'rgs17', 'sumo4', 'rnf180', 'irf5', 'fancd2', 'prdm13', 'lss', 'fam241b', 'crisp2', 'ntn4', 's100a5', 'rbm3', 'snip1', 'myo9b', 'nmnat2', 'ptpn14', 'slc5a11', 'fbxo24', 'gpatch2', 'rasef', 'fblim1', 'plod1', 'adamtsl5', 'vma21', 'nudt5', 'ppp1r13b', 'rab11a', 'efcab6', 'c16orf54', 'lhx6', 'prss57', 'samhd1', 'trmt10b', 'zscan5b', 'smim19', 'exd1', 'trappc6b', 'akap4', 'atp2a1', 'kiaa2012', 'parg', 'tmem128', 'prickle3', 'tmem158', 'znf419', 'cdo1', 'nol9', 'nrk', 'spen', 'gp2', 'aldh3a2', 'dsel', 'phkg2', 'bhmt2', 'pomgnt2', 'c7orf26', 'tmsb10', 'ppial4a', 'mid1', 'fgf20', 'pank1', 'ptpn9', 'usp54', 'znf507', 'nudt9', 'iqcf6', 'gdpd4', 'usp17l3', 'abcb10', 'pias3', 'fut3', 'inhbb', 'abtb1', 'spty2d1', 'klf3', 'ptges', 'tmem211', 'tnfrsf19', 'ankrd40cl', 'kat6a', 'shcbp1l', 'tnni3k', 'ddx58', 'or5h6', 'ccnd1', 'champ1', 'oosp3', 'arhgef15', 'sprr2b', 'hoxa3', 'zkscan1', 'rnf122', 'timeless', 'fbxw4', 'krtap26-1', 'ppp3cb', 'rem2', 'eef1akmt4', 'oip5', 'elof1', 'azu1', 'mpnd', 'phgr1', 'or10g6', 'asb10', 'or51a2', 'cyp2u1', 'trappc1', 'c1galt1c1l', 'nupr2', 'ufsp1', 'eif2ak3', 'ccnb1', 'ddit3', 'polr3h', 'sirpg', 'aplnr', 'nob1', 'bod1l2', 'klhl13', 'rbm41', 'aars2', 'bbs5', 'rpgr', 'taf6', 'cdv3', 'lrrc14', 'tm7sf3', 'prrg4', 'ing3', 'klhl32', 'phf21b', 'fxyd6', 'cpne9', 'sptlc1', 'dap', 'myf5', 'ugt3a2', 'chmp5', 'mvb12b', 'adra1d', 'pc', 'igsf6', 'slc9c1', 'ldhal6a', 'atxn2l', 'tekt1', 'cd70', 'eif2b4', 'tesmin', 'serpinb6', 'gmcl2', 'slc30a3', 'c17orf80', 'fyb1', 'pou6f1', 'atp1a2', 'dhodh', 'lcmt2', 'znf630', 'oxsm', 'zfy', 'sptlc2', 'cwc27', 'hspa4', 'ttc13', 'znf445', 'rrp36', 'morn4', 'cldn5', 'clec1a', 'tslp', 'm1ap', 'fam76a', 'hmx2', 'utp20', 'gtf2h4', 'arrdc4', 'stk31', 'ttk', 'pdgfa', 'znf676', 'cyp7b1', 'pi4k2b', 'adam9', 'ago4', 'taf11l4', 'syk', 'ermp1', 'tex26', 'gata2', 'spin1', 'trim31', 'dync1i1', 'gpr84', 'idh3g', 'dusp19', 'spata32', 'clmp', 'csgalnact1', 'gsdmd', 'pdha1', 'nlgn4y', 'ttc26', 'c3orf49', 'sftpb', 'pnp', 'pard6g', 'lenep', 'isg15', 'gpr19', 'itgb6', 'becn2', 'il23a', 'tmc8', 'cnga2', 'hbg1', 'hspa2', 'slc16a13', 'tmem161a', 'itgb3bp', 'mbd3l2b', 'syne3', 'nbpf3', 'phka1', 'dmac1', 'usp11', 'arl13a', 'st6galnac6', 'dhx35', 'uqcrq', 'isoc1', 'arhgap31', 'spdye4', 'c9orf72', 'hbs1l', 'tlk2', 'ccdc173', 'cep68', 'med30', 'lpl', 'tbxt', 'apcdd1', 'kcnq4', 'paqr9', 'krt6a', 'sec24b', 'vsir', 'prdx6', 'gng2', 'ciao1', 'fgd6', 'slc27a5', 'klc3', 'txndc5', 'alas2', 'lcn8', 'nkx2-1', 'mlkl', 'fam200b', 'psmd1', 'lrrc63', 'ffar4', 'qdpr', 'khdrbs3', 'ovol3', 'atg16l1', 'e2f7', 'adad2', 'clec12a', 'kcnj6', 'cct8', 'slc6a6', 'ebag9', 'leprot', 'ccdc63', 'c15orf48', 'psmb2', 'nmi', 'arg2', 'hmx1', 'dph5', 'ip6k1', 'slamf1', 'gask1a', 'ogt', 'rnf44', 'scimp', 'cdk5', 'ercc4', 'or52e2', 'lyzl4', 'gpr153', 'fam32a', 'grk3', 'inpp5d', 'mthfd1', 'slc39a7', 'arhgap39', 'tmem117', 'znf467', 'argfx', 'tsr1', 'hsd17b1', 'dnajc18', 'agrp', 'zdhhc12', 'ncapg2', 'gtf3a', 'tmem119', 'klk12', 'spsb3', 'golph3', 'or5l2', 'nuak2', 'igf2bp2', 'scn5a', 'slc25a32', 'ct55', 'treml2', 'ccdc70', 'sfta2', 'sdc3', 'caprin1', 'fam187b', 'slc2a2', 'smim10', 'btbd1', 'dgkz', 'alkbh4', 'aimp2', 'il1f10', 'itpr1', 'klhl15', 'myl7', 'spag7', 'tmprss5', 'zic2', 'gbp1', 'map1a', 'mgat5b', 'scart1', 'sim1', 'traf3', 'gnai3', 'znf516', 'septin6', 'spin4', 'eef2k', 'galnt5', 'tmx3', 'ccdc191', 'cryl1', 'lxn', 'slitrk6', 'ciao3', 'ints1', 'prr20g', 'timm10b', 'nup160', 'msi1', 'ttc27', 'c2orf49', 'abcb1', 'clcn5', 'klrc3', 'rims3', 'foxp3', 'gad2', 'slc2a7', 'ushbp1', 'fam9b', 'foxi3', 'ulk1', 'stx1b', 'ercc3', 'unc45b', 'zfand2a', 'slc20a2', 'c5', 'tigd3', 'or10w1', 'ccr9', 'zic4', 'chst7', 'kyat3', 'piezo1', 'adgre1', 'ventx', 'mtap', 'ervmer34-1', 'dhrs11', 'col19a1', 'irgc', 'or11h4', 'tmem253', 'tnp2', 'zwint', 'gsx2', 'or5m1', 'comp', 'tgfa', 'vipr2', 'prkci', 'nudt19', 'glt1d1', 'apobec3h', 'il3ra', 'asb12', 'evi2a', 'mdfic', 'peak3', 'arf4', 'dxo', 'tac3', 'ralb', 'ccnd2', 'ap1ar', 'serpind1', 'znf485', 'samd9l', 'zmym6', 'trim56', 'c20orf202', 'cnot2', 'znf43', 'bin1', 'raet1g', 'ppp2r3a', 'ankrd17', 'c14orf28', 'lim2', 'pcbp2', 'znf71', 'nfil3', 'fcrlb', 'olfm3', 'ppm1h', 'sdsl', 'arhgap35', 'znf483', 'mppe1', 'myc', 'pcyt2', 'cby3', 'ddtl', 'sacm1l', 'pacsin1', 'lamb4', 'insyn2b', 'epha8', 'stard9', 'tax1bp1', 'rnf145', 'grik5', 'fam166c', 'aff2', 'ppp3cc', 'lyrm2', 'socs3', 'fam98b', 'snrnp35', 'znf23', 'dbt', 'sptbn2', 'patl1', 'ncan', 'nufip1', 'tnfsf12', 'aifm3', 'entpd7', 'kcna7', 'tigd6', 'ap2a2', 'znf367', 'ccnc', 'dgkk', 'page2', 'oser1', 'stk25', 'sco1', 'veph1', 'celsr1', 'u2af1l4', 'apip', 'rdh5', 'mamld1', 'atp5mc1', 'habp2', 'pyroxd2', 'adamts18', 'ryr1', 'slc25a40', 'nudt14', 'gjc1', 'stk11ip', 'got1l1', 'coq5', 'glt8d2', 'stard13', 'sap30bp', 'poc5', 'gpx8', 'tmtc2', 'ghsr', 'crls1', 'nfxl1', 'znf77', 'gbp4', 'phf1', 'krtap2-4', 'ms4a4e', 'tpte', 'dnajc28', 'gng7', 'prb1', 'psapl1', 'spint4', 'krtap12-4', 'adra2b', 'lrrc47', 'slc27a4', 'slc30a6', 'zfp36l2', 'slc33a1', 'hgf', 'aldh9a1', 'xrcc6', 'hsd17b4', 'fam126a', 'fbxo10', 'gjc2', 'znf804b', 'krt82', 'melk', 'tnni1', 'bid', 'ube3a', 'hm13', 'mybbp1a', 'tcap', 'fchsd1', 'il1b', 'lin7c', 'cx3cr1', 'ric3', 'diaph3', 'irf9', 'tex12', 'zcchc24', 'me3', 'tmem174', 'znf747', 'htr4', 'fkbp10', 'tm9sf4', 'pak2', 'ccm2l', 'btg2', 'mme', 'psmd14', 'vps50', 'reep3', 'pfdn4', 'cadm2', 'ankrd37', 'pithd1', 'xcl2', 'hyal2', 'plcg1', 'zfyve19', 'snrnp70', 'celf2', 'hepn1', 'smg6', 'btk', 'insl4', 'prmt1', 'znf25', 'rpusd3', 'ccdc163', 'taco1', 'c18orf25', 'slc22a2', 'gvqw3', 'atp10a', 'ccr1', 'dusp3', 'pramef4', 'acox1', 'cybrd1', 'krt13', 'dlk1', 'znf37a', 'kcnj10', 'pip5k1c', 'fhdc1', 'map1b', 'myct1', 'pilra', 'pqbp1', 'slc10a2', 'bend5', 'ptcra', 'tcn1', 'vwa3b', 'znf121', 'zbtb7b', 'lman2', 'wnt4', 'gja1', 'btn2a2', 'cep89', 'dclk2', 'gtf2h3', 'leutx', 'slc49a4', 'hoxb7', 'tacc1', 'tgif2lx', 'rbm39', 'atp4b', 'znf729', 'znf771', 'zfand3', 'nasp', 'arl4d', 'dpy30', 'atg9a', 'scnn1g', 'phlpp2', 'adam8', 'znf177', 'wnk4', 'aadacl4', 'cbr1', 'vcpip1', 'cr1', 'lypd4', 'slc9a9', 'arhgap18', 'atp2c2', 'daw1', 'c16orf86', 'col3a1', 'krt6c', 'nts', 'calhm5', 'mturn', 'smc6', 'crtap', 'slc25a10', 'ocel1', 'popdc2', 'st8sia3', 'clk4', 'ndufv1', 'pomp', 'nup93', 'taf11l12', 'nat9', 'sez6', 'oas3', 'paep', 'cdc20', 'sfmbt1', 'syt6', 'tlr1', 'xdh', 'ckap2l', 'colq', 'pasd1', 'tmem107', 'arhgap17', 'mpst', 'armcx1', 'klhl6', 'ccdc7', 'igfbp6', 'tbc1d25', 'ankra2', 'znf273', 'mtfp1', 'fnip2', 'fbxl17', 'kpna1', 'ap1s2', 'smg1', 'abi3', 'traf6', 'riox1', 'nlrp12', 'plac8', 'aspg', 'vav2', 'armc6', 'prr32', 'plxnd1', 'taok3', 'nup50', 'lrrc4c', 'scnn1a', 'asic1', 'mast3', 'tenm4', 'c12orf65', 'iqcg', 'mtnr1a', 'klhdc10', 'znf20', 'gpr183', 'dtnbp1', 'myo5a', 'hspa14', 'senp5', 'mbd2', 'tcea2', 'aif1l', 'tnfrsf6b', 'ndufb6', 'tma7', 'trim50', 'grk5', 'ccl4l2', 'micu1', 'nacad', 'ankrd65', 'prr16', 'galnt14', 'igfl3', 'pop1', 'rab3gap1', 'reeld1', 'prelid2', 'rnf17', 'znf266', 'fst', 'arl15', 'rgs2', 'mical3', 'pofut2', 'foxf2', 'znf251', 'pgc', 'plod2', 'bcap31', 'pcdha7', 'ccl7', 'mmp2', 'mbip', 'agpat2', 'mansc1', 'lrrfip1', 'adh1b', 'amph', 'hephl1', 'atp6ap1', 'stmn2', 'nos2', 'wdr35', 'olah', 'ifitm5', 'srsf1', 'kcnip3', 'tent5a', 'tacr2', 'hexb', 'arhgap11b', 'mefv', 'nqo1', 'u2surp', 'ccdc182', 'shld2', 'fam162a', 'mtx3', 'cutc', 'amer3', 'dbnl', 'slc25a5', 'lamb3', 'dnd1', 'cir1', 'kdelr2', 'serpinf1', 'fut5', 'syt10', 'mob3c', 'cpeb3', 'aurka', 'fgg', 'nutm2e', 'iqcn', 'msto1', 'zfp42', 'ildr1', 'snrpb2', 'gabrb2', 'gdap2', 'stk11', 'fam13c', 'cd40', 'slc35c2', 'nkx2-6', 'pde1b', 'wdr73', 'trpc1', 'kcnk1', 'fastkd1', 'flt4', 'frmd4b', 'c17orf58', 'fchsd2', 'rnf170', 'cdkn2a', 'taf1', 'npc2', 'sash3', 'kiaa0232', 'ogfod2', 's100p', 'zxdc', 'ccng2', 'prac1', 'mroh2b', 'ipp', 'c6orf89', 'ptprj', 'coa7', 'gcnt2', 'slc31a1', 'kcns3', 'msl1', 'pgd', 'ppp1r2c', 'tlcd4', 'defb132', 'gpam', 'pbdc1', 'b3gnt2', 'dhx33', 'fbxl13', 'slc9b1', 'defb135', 'micb', 'plekha7', 'cdh1', 'nova2', 'b3gnt8', 'galnt2', 'glyatl3', 'cd44', 'yif1b', 'ankrd13b', 'c12orf60', 'adig', 'cfap126', 'aff4', 'fbxl20', 'ints6l', 'ccrl2', 'scgb3a2', 'atp10d', 'calml4', 'mxra5', 'rmdn2', 'tm9sf2', 'cpne8', 'or5an1', 'alkbh2', 'sorcs1', 'uty', 'atp6v1fnb', 'gsc2', 'ncr3lg1', 'masp1', 'rph3a', 'tmprss15', 'snn', 'drd3', 'stat1', 'erbb2', 'wdr36', 'megf11', 'or51d1', 'bcor', 'or13c4', 'dock4', 'farp2', 'gas7', 'pcdh7', 'myl2', 'qsox2', 'slc2a4rg', 'scn1b', 'egr3', 'c4bpa', 'nr2f1', 'mfsd14a', 'lypd8', 'rasgrf2', 'fads1', 'srl', 'npb', 'atrnl1', 'nuf2', 'mitd1', 'gimap5', 'itih6', 'foxb1', 'cyp4f22', 'plat', 'ackr4', 'ppdpf', 'ppp1r14a', 'zc2hc1a', 'lonrf2', 'shf', 'cdc42ep5', 'ssx2ip', 'pebp4', 'znf776', 'mrm3', 'stk19', 'kmt2a', 'arhgap44', 'cs', 'ccl15', 'kir2dl4', 'nrarp', 'rab35', 'slc35d3', 'grhl1', 'slc5a7', 'trub2', 'ly6h', 'gabrb1', 'dbh', 'lrp4', 'cldn2', 'ly6d', 'panx2', 'ptch1', 'hpcal4', 'rnf114', 'magea11', 'cfap69', 'smarcd1', 'cldn11', 'cd300lb', 'ccnt2', 'ercc5', 'znf8', 'slc35g3', 'tnks2', 'thnsl1', 'traf3ip2', 'bicdl2', 'pstpip2', 'slc10a1', 'igsf9', 'capza3', 'or4c12', 'otulinl', 'bmp4', 'slc15a3', 'emp3', 'gpr180', 'col20a1', 'c19orf84', 'ythdf2', 'smyd5', 'dock8', 'snrpa', 'ltbp4', 'pdk2', 'rtcb', 'tcp11x1', 'ubqln2', 'adamts6', 'commd1', 'hoxb9', 'bdkrb1', 'kcnk10', 'sec11a', 'siah3', 'slc16a10', 'tp63', 'afap1', 'chrne', 'tbc1d5', 'smim14', 'flg', 'kcnk13', 'mepe', 'trpa1', 'camsap2', 'peg10', 'pnrc1', 'capn7', 'atp5f1e', 'prdm16', 'loxl2', 'cox17', 'znf853', 'osbp', 'ift27', 'rai1', 'poglut3', 'chfr', 'cdr2', 'dact3', 'gtpbp6', 'malrd1', 'or51e1', 'psmg3', 'sox10', 'tacr3', 'rfc1', 'scnm1', 'ptges3l', 'tfpi', 'ergic3', 'hsf1', 'atrip', 'nudt21', 'kbtbd7', 'sntg1', 'adamts7', 'trappc4', 'znf718', 'uba7', 'kdm4a', 'mmp17', 'clhc1', 'ifng', 'rnf212', 'lonrf3', 'neil1', 'fbxw9', 'gstm1', 'pfn4', 'leo1', 'ttc8', 'shprh', 'srrt', 'tmcc2', 'ppp1r1a', 'bach1', 'hoxb2', 'otop2', 'vps18', 'slc47a2', 'tbc1d7', 'arhgap29', 'setmar', 'sema6a', 'slc26a3', 'il2ra', 'alox5ap', 'znf728', 'artn', 'sp3', 'hivep3', 'leng9', 'astn2', 'armh4', 'mylk2', 'kirrel1', 'cxxc4', 'dmrt2', 'c19orf18', 'fbxl12', 'nme5', 'or5w2', 'myh4', 'ttbk1', 'slc4a10', 'foxl1', 'tjp3', 'fkbp6', 'khnyn', 'ezh1', 'shisa9', 'brd9', 'pmf1', 'tspy1', 'enpp3', 'magea8', 'pop7', 'cyth3', 'or13c2', 'crygd', 'syn1', 'card19', 'ttc32', 'sucnr1', 'oat', 'hsdl2', 'lyrm9', 'sar1a', 'c17orf67', 'pja1', 'gpr173', 'znf432', 'pnrc2', 'usp35', 'frk', 'asnsd1', 'vps39', 'fam107b', 'dok3', 'atf6b', 'wnt7b', 'slc25a17', 'fam170a', 'lrrd1', 'tef', 'plekhj1', 'six3', 'zpbp2', 'kptn', 'slc35f6', 'rundc1', 'plscr2', 'dek', 'hddc2', 'zg16b', 'pitx3', 'ip6k3', 'wdr25', 'tcf15', 'soat1', 'ppil6', 'vstm5', 'klhdc7b', 'il36b', 'ptpn1', 'aipl1', 'cetp', 'slc6a2', 'scn11a', 'fam170b', 'izumo2', 'lmbr1l', 'caprin2', 'hbd', 'neurog2', 'thsd7b', 'trim33', 'foxj3', 'ccdc190', 'cdk7', 'nbl1', 'pate2', 'smim24', 'nr5a1', 'map3k9', 'pom121', 'sephs2', 'hspbp1', 'dscam', 'smc1a', 'kctd15', 'nnmt', 'crip2', 'klrf2', 'whamm', 'enah', 'rsph4a', 'itgad', 'tfb2m', 'kank1', 'sc5d', 'gpm6b', 'tmprss9', 'gba', 'gabrg3', 'luzp2', 'spast', 'dusp11', 'klk10', 'pdcd4', 'micall1', 'snai1', 'capn11', 'cma1', 'csf3r', 'or2a4', 'taok2', 'specc1', 'dus3l', 'rnase13', 'pou3f2', 'aox1', 'tmem200b', 'pth2', 'nomo1', 'dync2h1', 'gjb3', 'synrg', 'zwilch', 'dguok', 'znf195', 'mthfd1l', 'ccnb3', 'timp4', 'ppp1r9a', 'ugp2', 'farp1', 'selenof', 'ggtlc1', 'lypd6', 'dusp5', 'scgb1d4', 'csmd3', 'naxe', 'rhot1', 'fbxl8', 'mpped2', 'lpcat1', 'kiaa1328', 'lipe', 'dvl1', 'ago1', 'col15a1', 'fhl3', 'tmem156', 'cyb561a3', 'psd2', 'pak1', 'lgi4', 'csnka2ip', 'smdt1', 'abhd17b', 'c4orf33', 'nisch', 'c20orf96', 'etv2', 'zmpste24', 'limd1', 'thap12', 'tgm3', 'nup205', 'dll4', 'rgpd3', 'nup210l', 'itgb3', 'ptx4', 'slc25a19', 'bdh2', 'cldn23', 'rfxank', 'mis18a', 'arih1', 'jag2', 'anapc11', 'cyp3a7', 'hoxc6', 'cers5', 'nek8', 'arfgef3', 'rnf144a', 'sh3bp5l', 'myo5b', 'zmat4', 'znf438', 'timm22', 'sox18', 'fam53b', 'slc40a1', 'or1k1', 'stac2', 'nrros', 'cadm1', 'bves', 'slc25a53', 'esf1', 'krt35', 'sycp1', 'arl11', 'bckdhb', 'pgm5', 'gata4', 'cdh16', 'ppp1r16a', 'tnnt1', 'klk7', 'ppp4c', 'wdr4', 'ap2a1', 'fkbpl', 'gcdh', 'stoml1', 'ccer2', 'ajap1', 'eif4e1b', 'slc2a13', 'tatdn2', 'coro1b', 'wnt10b', 'acox2', 'fam237a', 'ppp1r12c', 'npc1l1', 'b3galt2', 'plcb4', 'akr7a2', 'fzd5', 'gpr85', 'kmt2b', 'sgce', 'vgll3', 'tmem50b', 'tgm7', 'znf500', 'ncoa7', 'ints4', 'reg1b', 'sash1', 'nr2f2', 'washc4', 'chchd5', 'sntb1', 'bckdk', 'dach1', 'znf730', 'avpr1a', 'saxo2', 'net1', 'armc9', 'chrm5', 'psma2', 'tmem108', 'cacnb4', 'ido1', 'tmem30b', 'adamts17', 'cdh26', 'sele', 'tmem138', 'mlc1', 'pold1', 'psmb7', 'egfl8', 'nabp2', 'or4m1', 'als2cl', 'cox7b', 'irx4', 'ism1', 'kcnab1', 'mical1', 'serpinb4', 'tdrd15', 'bak1', 'tada3', 'ksr2', 'tmem74', 'hadhb', 'muc5b', 'mtf2', 'slc35b4', 'ier5l', 'cdh18', 'clca1', 'wwc2', 'mtres1', 'arl5c', 'tmprss3', 'pld4', 'mtfr1l', 'adgrg1', 'gja4', 'or4c3', 'telo2', 'akap9', 'aurkc', 'arhgef35', 'mdk', 'niban2', 'sprr5', 'tm2d2', 'rtkn', 'orc4', 'lyzl2', 'tdp2', 'socs1', 'pcdha11', 'brms1', 'or1a1', 'tmem182', 'c16orf92', 'psmc5', 'sox8', 'ncoa1', 'med1', 'nek9', 'styk1', 'fam83h', 'nono', 'fgf16', 'slitrk1', 'snrnp200', 'dstn', 'snx29', 'tff1', 'trim64c', 'ier2', 'chat', 'rtp2', 'ciao2a', 'nr2e3', 'txndc8', 'dgcr2', 'elac1', 'cfl1', 'ebf2', 'gja3', 'cblb', 'adam2', 'pgbd4', 'jazf1', 'aldh1b1', 'gpr1', 'kif20a', 'rhod', 'ctse', 'znf530', 'ndufs4', 'vsig10l', 'prm1', 'mc3r', 'fgf11', 'pcdhb16', 'prr23c', 'prlh', 'pi4ka', 'odr4', 'urgcp', 'sost', 'inpp5k', 'slc27a6', 'six6', 'wfdc6', 'vdr', 'vit', 'slc18b1', 'sltm', 'hrc', 'pros1', 'ssbp1', 'batf', 'nobox', 'ogfr', 'runx3', 'ttll2', 'usp45', 'gnb5', 'armh1', 'igsf9b', 'or51a4', 'lrrc37b', 'prcd', 'kif2b', 'gsdma', 'or2f1', 'b3gnt5', 'gucy2c', 'rbfox1', 'gpr152', 'slc39a14', 'sytl5', 'ppp1r26', 'themis2', 'agbl1', 'otud1', 'nsd2', 'defa5', 'lrrc31', 'tfcp2', 'tmem178b', 'lrrc8a', 'tpgs1', 'wwox', 'catsper3', 'eif4g2', 'ccdc160', 'ube2v1', 'mt1m', 'yju2', 'hes7', 'ints5', 'anhx', 'zacn', 'rd3l', 'acod1', 'cc2d2b', 'slc35a5', 'cyren', 'znf235', 'mon1b', 'psg11', 'or14a2', 'cipc', 'als2', 'zcchc4', 'inava', 'or12d3', 'paip1', 'creld2', 'mtmr9', 'atf7', 'otud6a', 'cacna2d4', 'smpdl3b', 'hemgn', 'minar2', 'art1', 'prim1', 'pax4', 'pfkfb3', 'grhl3', 'rab11fip1', 'rlbp1', 'kcnb2', 'adgrl3', 'cd109', 'cyp2r1', 'lmx1b', 'cirbp', 'apoa1', 'dpp7', 'lfng', 'sprr1b', 'camta1', 'mpi', 'c12orf57', 'maf1', 'or2s2', 'rprd1a', 'slc35c1', 'stk24', 'suclg1', 'tesc', 'bcan', 'syde2', 'sln', 'sirt1', 'pde9a', 'peak1', 'psma1', 'siglec8', 'tulp3', 'tyr', 'eif1ax', 'edar', 'itfg1', 'arfrp1', 'rufy2', 'gabrp', 'asb15', 'tmem45b', 'hoxb5', 'ptpn13', 'isca1', 'pfdn1', 'dnmt3a', 'ctsd', 'il17rd', 'spata2', 'kiaa0825', 'prss53', 'mak16', 'cdh10', 'cxorf66', 'tpcn2', 'anapc2', 'vipas39', 'ttc6', 'per3', 'puf60', 'nlrp5', 'ccdc87', 'cfap54', 'vcx2', 'fam8a1', 'relb', 'smc4', 'selenom', 'slc12a7', 'slc22a23', 'klhl30', 'krtap5-5', 'slc37a3', 'sycp2l', 'fmc1', 'guca1c', 'nat16', 'nebl', 'ndufaf8', 'soga1', 'apela', 'bub3', 'rgp1', 'pklr', 'arhgef3', 'mtmr8', 'def6', 'fadd', 'poln', 'pram1', 'slc2a6', 'fbxo6', 'emc7', 'cntrob', 'nfatc1', 'acsm2b', 'cyp2a7', 'atp6v0d1', 'star', 'akap1', 'phc3', 'gk2', 'lonp2', 'stra8', 'fgfr4', 'serpinb12', 'hsh2d', 'poll', 'zcchc3', 'chtf18', 'ano2', 'lrrc34', 'nelfa', 'trim22', 'banf1', 'ttc5', 'ugt2b10', 'krtap9-9', 'cacna2d3', 'dcun1d4', 'fbxo27', 'lrrc69', 'mus81', 'pfdn2', 'sirt4', 'tmem200c', 'cgas', 'camk1d', 'fhl2', 'psmf1', 'npas4', 's100a11', 'zfc3h1', 'pts', 'ccdc171', 'gcnt1', 'ddx42', 'bphl', 'clstn1', 'tmem35b', 'sun3', 'hrnr', 'nop9', 'ube2r2', 'cspp1', 'myo5c', 'rubcn', 'mras', 'or6c70', 'chrna4', 'rnf227', 'klk6', 'tgoln2', 'rapgef3', 'erlin2', 'mdfic2', 'tut4', 'yy1ap1', 'fcsk', 'kcna3', 'gopc', 'kcna2', 'tspan9', 'bdp1', 'c12orf76', 'or4e2', 'enoph1', 'mln', 'c5orf47', 'pole2', 'c16orf70', 'dbi', 'rxra', 'ca3', 'elfn1', 'ndufa1', 'rsph14', 'rab29', 'tmsb4y', 'sox13', 'znf480', 'mmp23b', 'kcnk2', 'phyhipl', 'pkp4', 'ugt1a4', 'nol4l', 'slc22a9', 'mtrex', 'c9orf85', 'acacb', 'c20orf173', 'dip2a', 'gpr139', 'hcls1', 'cars2', 'c11orf54', 'il3', 'krtap24-1', 'sirt3', 'ggn', 'tbxa2r', 'clec4m', 's100a2', 'daoa', 'nox4', 'pcyt1b', 'mtus1', 'abcc3', 'cmtm6', 'slc4a2', 'irak2', 'pex7', 'ccna2', 'eif3i', 'cxcl1', 'cadps', 'erap1', 'sox30', 'c19orf85', 'niban1', 'ehbp1', 'msi2', 'midn', 'gdpd2', 'znf770', 'vsig8', 'st6galnac1', 'atat1', 'cemp1', 'drp2', 'tff2', 'rflna', 'ten1', 'rab12', 'klhl3', 'fank1', 'ddx52', 'srr', 'eps8l3', 'katnal2', 'sat2', 'cdc73', 'ppm1d', 'pcolce', 'nr1i3', 'rxfp3', 'spata33', 'nemp1', 'cd46', 'tph2', 'znf576', 'znf780a', 'supt4h1', 'mpc1l', 'serpinb7', 'cenpw', 'pinlyp', 'ak4', 'znf282', 'galm', 'gckr', 'cdc14b', 'dlx4', 'anxa10', 'prkdc', 'nfkbie', 'gsta2', 'dipk2a', 'magec2', 'ophn1', 'slc22a11', 'cd27', 'kif1a', 'cep192', 'nhsl2', 'tspan33', 'usp17l7', 'pitx2', 'gpr158', 'plek', 'dbf4b', 'cdc42ep3', 'me1', 'ift22', 'sox4', 'strip1', 'cage1', 'serpini1', 'txndc2', 'irf3', 'asb17', 'arhgdib', 'alx4', 'ttpa', 'mbtps2', 'ccnk', 'pde10a', 'exosc1', 'slc2a9', 'ecel1', 'il10ra', 'nubp1', 'pcnt', 'dhx15', 'ugt1a8', 'bnc2', 'dera', 'e2f4', 'ercc8', 'flrt1', 'med29', 'fancg', 'dhdh', 'f9', 'rgs11', 'ddx39a', 'tagln', 'ndufs6', 'cip2a', 'camsap3', 'wbp11', 'cst11', 'agap2', 'acadsb', 'fat1', 'mcm4', 'adcyap1r1', 'pet117', 'faf2', 'zbtb32', 'usp24', 'znf606', 'cdc42se1', 'map7', 'map3k3', 'polr2l', 'ubl5', 'mycn', 'or2d3', 'c21orf58', 'otub2', 'smc2', 'mmp7', 'rida', 'bcam', 'otud4', 'desi1', 'pla2g4f', 'ascl2', 'or52k2', 'efna1', 'esm1', 'tgfb1i1', 'jak3', 'pcgf3', 'chst1', 'afdn', 'nt5c1a', 'pou2af1', 'slc36a1', 'slit2', 'snap29', 'vezt', 'mea1', 'chd6', 'fam104a', 'nom1', 'wdfy2', 'zfp91', 'nsun5', 'blmh', 'crbn', 'gpr12', 'cog8', 'mcmbp', 'sap18', 'tgif2', 'vip', 'wipi2', 'ca4', 'nprl2', 'mfsd4b', 'mmp28', 'c20orf27', 'ptpn3', 'ttc33', 'ybx1', 'znf229', 'pax8', 'snta1', 'fam209b', 'ndufaf3', 'abt1', 'ash2l', 'maml3', 'thoc6', 'bsph1', 'ccdc88b', 'hdgfl3', 'sart3', 'tead4', 'rcvrn', 'vps13a', 'tars2', 'atp5f1b', 'ccl23', 'ins', 'armc8', 'far2', 'erfl', 'mak', 'cfap44', 'mbtd1', 'c6orf52', 'nr1h4', 'slc25a6', 'atp6v1b1', 'npepl1', 'xkr6', 'myoc', 'mt2a', 'lhb', 'ndufaf2', 'tsc2', 'wdr48', 'tbl2', 'sec31a', 'adal', 'abcd3', 'gpm6a', 'alkal1', 'drgx', 'or6c76', 'ppme1', 'tlcd2', 'tigd4', 'nek7', 'ubald2', 'bche', 'ccdc50', 'ddx24', 'amhr2', 'enthd1', 'il1rl1', 'nipsnap3b', 'suox', 'tomm40', 'eif4h', 'spry1', 'znf567', 'tmem262', 'nr1d2', 'znf679', 'akna', 'arid5b', 'havcr1', 'nr0b1', 'vpreb3', 'ess2', 'gnaz', 'lrpap1', 'tma16', 'hcfc1', 'bahd1', 'neil2', 'atl1', 'ttll5', 'ankmy1', 'idi2', 'l3mbtl1', 'ssh1', 'atoh7', 'syt16', 'ropn1b', 'trim38', 'daam2', 'iqcm', 'calb1', 'timp3', 'trim60', 'rad51d', 'scg2', 'tpd52l1', 'mtmr12', 'ctnna3', 'crybg3', 'nme8', 'vti1b', 'znf672', 'grm7', 'dtwd2', 'mmp26', 'syt4', 'rnf39', 'topbp1', 'ntrk2', 'gdap1l1', 'tfap2b', 'sox21', 'or5d16', 'dcun1d5', 'rnf149', 'baiap3', 'kctd20', 'serpinb8', 'sgf29', 'numb', 'sgk3', 'or8h2', 'ccl24', 'mocs1', 'mrm1', 'psme4', 'fgfr3', 'hrh3', 'gal3st1', 'myl4', 'fcn2', 'col6a3', 'fmo4', 'slc23a1', 'myl9', 'apobec3g', 'clec2l', 'gapvd1', 'ero1a', 'pacsin2', 'nppa', 'arhgef39', 'ptbp2', 'smco2', 'nsd1', 'nlrp2', 'hoxc8', 'c1qtnf9', 's100a12', 'ddi2', 'hhat', 'jade1', 'haghl', 'wfdc2', 'sigirr', 'zscan20', 'atp6v1h', 'peg3', 'irf6', 'psd3', 'vangl1', 'chid1', 'akr1c8p', 'pdlim5', 'lce1c', 'itpr2', 'dcd', 'gfra2', 'mast1', 'cd4', 'c22orf23', 'krt7', 'ebpl', 'pla2g5', 'rubcnl', 'efnb2', 'tmem266', 'troap', 'espl1', 'rpp21', 'mmp8', 'nod2', 'tes', 'tns2', 'pip4k2a', 'rusc2', 'trib2', 'dcaf13', 'pex26', 'gdnf', 'rnpc3', 'dgke', 'c1orf162', 'casr', 'znf223', 'flg2', 'edem1', 'rabgap1', 'dkk2', 'gbp6', 'nrp2', 'glt6d1', 'lrrfip2', 'sct', 'fam81b', 'topaz1', 'rasgrp1', 'dmrt1', 'lrrc56', 'ccdc3', 'setd5', 'rab3c', 'tmem171', 'pam16', 'sox12', 'erbin', 'pex2', 'polb', 'micos13', 'rhno1', 'tchh', 'tert', 'tlr9', 'tnrc6a', 'chrdl2', 'ints6', 'gipc2', 'smim2', 'morc4', 'slc9a3', 'synpr', 'pifo', 'insm2', 'cxcl13', 'ank2', 'zdhhc7', 'top3a', 'ap1b1', 'znf714', 'etnk1', 'adcy1', 'arid3b', 'ccdc126', 'med4', 'slc16a9', 'reep4', 'cnp', 'cer1', 'dscaml1', 'drosha', 'znf684', 'kdm7a', 'abcg1', 'chsy1', 'or2m2', 'ube2n', 'sertad1', 'itsn2', 'krt32', 'creb3l3', 'fam205c', 'tex13b', 'magt1', 'rexo5', 'scamp1', 'znf587b', 'tnfrsf8', 'dnah3', 'palld', 'arap2', 'prss21', 'grb14', 'znf691', 'zfp92', 'cpne2', 'pdxk', 'ormdl2', 'sh3bp4', 'egr4', 'ces3', 'mtmr11', 'id3', 'shb', 'camkmt', 'ntsr1', 'ccn3', 'dnah7', 'cd99l2', 'znf230', 'ferd3l', 'lmcd1', 'tmem236', 'tomm20', 'gid8', 'zcchc17', 'znf586', 'ctrc', 'has2', 'kcnj3', 'c17orf75', 'or2b2', 'adamtsl4', 'tiparp', 'znf592', 'slc38a11', 'pih1d2', 'fggy', 'dhx57', 'ryk', 'slc35g2', 'tmem210', 'pagr1', 'tgfbr3', 'aqr', 'med10', 'mks1', 'bmt2', 'ccdc96', 'aga', 'fam71d', 'kcnh7', 'sapcd1', 'cldn25', 'cers6', 'krr1', 'edil3', 'mtmr2', 'trim34', 'cntn1', 'fam78a', 'or1c1', 'fdxr', 'pex5', 'areg', 'rhou', 'gatd1', 'mark1', 'sdf2l1', 'zmiz2', 'rtn4ip1', 'ephb1', 'hoxd4', 'nme9', 'oosp2', 'taf1d', 'ttf2', 'ube2w', 'znf429', 'rtl8b', 'acad10', 'mt1f', 'lrit2', 'tshz1', 'aqp3', 'rab1b', 'plcg2', 'lhx1', 'eps8', 'wfdc12', 'letm2', 'fga', 'sbsn', 'btbd17', 'l3mbtl4', 'rrm2', 'shank2', 'csad', 'dnajb1', 'n4bp1', 'ada2', 'msx2', 'lypd2', 'pef1', 'tmcc3', 'neurod1', 'nol10', 'zan', 'cenpp', 'elavl4', 'cwh43', 'eif3l', 'mast4', 'or2l2', 'sprr2f', 'cyp11b2', 'nr3c2', 'rnf126', 'jade3', 'nudt16l1', 'arl8b', 'elmo2', 'pkib', 'sertad3', 'krtap10-10', 'icam5', 'myo6', 'mageb5', 'siglec12', 'hnrnpk', 'adam30', 'usp42', 'or5a2', 'epn3', 'cdk2', 'col7a1', 'rnf10', 'znf471', 'atxn1l', 'znf524', 'nup43', 'parp15', 'snx20', 'ubap2', 'slc16a6', 'prr23a', 'lrrc75b', 'lsamp', 'oxld1', 'prex2', 'clc', 'tmem63b', 'atraid', 'cln5', 'cytl1', 'c17orf97', 'enpp2', 'fam47a', 'gale', 'tac4', 'gtpbp4', 'prpf40b', 'whrn', 'rffl', 'gk3p', 'uchl3', 'ccdc65', 'tcl1a', 'sos2', 'calhm3', 'ephx2', 'gpr146', 'abcc11', 'tceal2', 'serpinb9', 'kcnip1', 'gin1', 'fam135a', 'l1td1', 'map3k7cl', 'mcam', 'slc26a2', 'mt1g', 'ctsv', 'znf362', 'zscan16', 'vcp', 'zfhx2', 'taok1', 'tmem186', 'stap1', 'slc9a1', 'znf326', 'pdzd4', 'slamf9', 'marcol', 'agtrap', 'defb128', 'mettl21a', 'dchs1', 'sh3bp1', 'egln3', 'myoz1', 'camk2n1', 'adamts14', 'dpep1', 'slco1b1', 'chtf8', 'cxcr2', 'cdc37', 'khdrbs1', 'znf517', 'ptms', 'ebf4', 'tia1', 'c10orf95', 'arhgef25', 'c18orf54', 'prr22', 'rab1a', 'snapc3', 'accs', 'nme1', 'safb', 'c4orf47', 'syne1', 'lpar6', 'or10g3', 'golga2', 'rtn3', 'c1orf189', 'c14orf119', 'angptl1', 'hsd11b2', 'bbof1', 'znf793', 'slc26a9', 'dnai2', 'cyp2a6', 'tacc3', 'mlh1', 'tsr3', 'slc39a11', 'igbp1', 'cacna1i', 'armcx4', 'rs1', 'yrdc', 'rrp9', 'b3galt6', 'dnase1l1', 'znf200', 'irs1', 'nfam1', 'fto', 'mllt3', 'apbb3', 'flacc1', 'polr2i', 'fgf22', 'mthfd2l', 'gga3', 'c5orf22', 'nfe2l3', 'pcdhga2', 'pitpna', 'pnoc', 'tmod2', 'pcdha13', 'klhdc3', 'dhx37', 'myo1h', 'ino80d', 'dkk3', 'coro6', 'ddx18', 'samm50', 'fktn', 'tmem116', 'wee1', 'itpripl1', 'fev', 'exoc1', 'dhps', 'fam161a', 'bpnt1', 'ccl14', 'tmem38a', 'samd3', 'aunip', 'casq2', 'rnase3', 'galr2', 'msantd4', 'tex35', 'jak2', 'fermt3', 'nrdc', 'tfeb', 'papola', 'nab2', 'pla2g2f', 'efcab11', 'arrdc1', 'tvp23c', 'dap3', 'bag4', 'ubp1', 'gpr88', 'ehbp1l1', 'fbxl6', 'aqp12a', 'nkx1-2', 'ccr2', 'or10g2', 'krtap19-4', 'prkcd', 'taf11l11', 'ncor1', 'epo', 'fam136a', 'znf555', 'pacsin3', 'rnf146', 'shisa3', 'ywhae', 'cldn19', 'fn3k', 'kcnq1', 'miga1', 'srsf2', 'u2af2', 'cdkl1', 'ifi44l', 'arhgap10', 'immp2l', 'micall2', 'polr2h', 'bahcc1', 'cdk9', 'raver2', 'serping1', 'mybl1', 'st7l', 'ddx43', 'klb', 'mlxipl', 'prdm6', 'slc7a2', 'ccl19', 'acat1', 'agap1', 'calcb', 'keap1', 'nodal', 'lhx3', 'tbc1d19', 'nsd3', 'fam9c', 'ankrd18b', 'atp1a4', 'cop1', 'procr', 'znf426', 'defb118', 'sv2c', 'nek4', 'mpdu1', 'ooep', 'p4hb', 'mep1b', 'lyz', 'git1', 'gpr34', 'ccl13', 'gng13', 'jag1', 'grid2ip', 'zxdb', 'ncoa3', 'ptpn7', 'slc50a1', 'strn3', 'reg1a', 'znf48', 'hgsnat', 'ngfr', 'hgfac', 'znf720', 'ftcd', 'pcsk6', 'nub1', 'kcnn3', 'capn13', 'wdr1', 'pars2', 'setd1b', 'nrn1', 'ndufv3', 'nae1', 'phex', 'hmgn3', 'or5m9', 'bex4', 'col21a1', 'il13', 'lig3', 'lelp1', 'scml1', 'polr1d', 'uqcrc1', 'dennd5b', 'vegfa', 'gsta1', 'samsn1', 'ctu2', 'sec13', 'bzw1', 'cps1', 'tent5d', 'psmb8', 'pramef14', 'rchy1', 'lgals2', 'ca13', 'klhl35', 'asb2', 'ppcdc', 'fut4', 'wdr18', 'rsf1', 'ino80e', 'hikeshi', 'sema3a', 'krt26', 'fam120c', 'poglut1', 'adgb', 'pcdhb10', 'agtr2', 'lrp1', 'adam20', 'jam2', 'letmd1', 'mob4', 'emp2', 'pus1', 'gbp3', 'med25', 'ppp1r9b', 'lrp2bp', 'kiaa0895l', 'slc16a3', 'sub1', 'sall1', 'smim27', 'dmc1', 'fn1', 'krtap8-1', 'lmf2', 'hs3st4', 'ypel1', 'wtip', 'or2g6', 'mgst1', 'nkain2', 'pikfyve', 'znf354a', 'pcdhgb2', 'rnf223', 'krtap1-3', 'lrfn1', 'kdm1b', 'chd8', 'rassf4', 'foxa3', 'etv1', 'ugdh', 'ahnak', 'nlrc4', 'trpm8', 'rc3h1', 'mybpc3', 'gmnn', 'il4i1', 'rnasel', 'pramef27', 'lactb2', 'cdnf', 'gapt', 'lyst', 'cd5', 'pgf', 'reep1', 'omd', 'pon1', 'nudt18', 'prmt6', 'rab9b', 'or51q1', 'pgap2', 'pianp', 'slc1a2', 'slc22a17', 'usp46', 'adm', 'fam186b', 'gtf2h1', 'naa50', 'or10a4', 'usp6nl', 'sgsh', 'apol3', 'ube2e1', 'armc3', 'dusp4', 'ccdc170', 'hyal3', 'rbpjl', 'sar1b', 'ccdc154', 'scygr8', 'snx24', 'ramacl', 'tfap2c', 'ccdc196', 'arg1', 'sap25', 'sv2b', 'tmed7', 'hic2', 'c1ql1', 'pigt', 'nsg1', 'prpf38a', 'psma4', 'foxo4', 'jun', 'znf169', 'cdkn2d', 'mxd4', 'rhbdd1', 'adgrd2', 'zmynd15', 'cyp26b1', 'znf224', 'duox2', 'nox3', 'ric8b', 'oc90', 'arhgap22', 'pla2g6', 'hlf', 'tm4sf20', 'abcc1', 'spink8', 'xylt1', 'mcph1', 'septin3', 'hdac10', 'ccdc33', 's100z', 'khdc3l', 'colca2', 'stn1', 'hecw1', 'ube2z', 'nckipsd', 'tbc1d9', 'pdcd5', 'kbtbd13', 'etfdh', 'afm', 'maob', 'nr6a1', 'znf346', 'mbd3l1', 'dnajc2', 'atf3', 'adam10', 'adgrd1', 'hmgcs2', 'psmd3', 'ddb2', 'slc6a8', 'thap3', 'tnfrsf11a', 'tom1l2', 'xpc', 'ern2', 'litafd', 'page1', 'pdc', 'smarca4', 'trpt1', 'tnfsf18', 'wdr5', 'lmo1', 'spib', 'rrp1', 'kbtbd11', 'plppr1', 'phc2', 'myoz2', 'sbds', 'ccl17', 'grm4', 'rhoxf2b', 'cd207', 'cdk5rap3', 'or51g2', 'rtf1', 'gnl2', 'slc30a4', 'krtap3-2', 'znf862', 'ppp2r5c', 'ddit4', 'eif2ak2', 'cyb5r4', 'mttp', 'vn1r2', 'umodl1', 'zc3h12d', 'slfn11', 'fam20a', 'cib4', 'znf708', 'scgb2a1', 'irf4', 'tcl1b', 'mex3a', 'dio2', 'utp18', 'fmod', 'clmn', 'arhgap15', 'cry1', 'lipt2', 'itga9', 'omp', 'spata5l1', 'stmn3', 'pmm2', 'st14', 'timp2', 'megf9', 'etv5', 'rnf165', 'irak1bp1', 'htra1', 'rasa3', 'serpinb13', 'carmil2', 'arhgef37', 'e2f2', 'il18bp', 'slc25a45', 'c3orf38', 'snx3', 'ttc23l', 'znf697', 'col26a1', 'ppil3', 'derpc', 'mgst2', 'tmed8', 'catspere', 'insig1', 'siglec7', 'ppfia4', 'atp6v0a4', 'eid2', 'opalin', 'plin4', 'sgtb', 'slc2a5', 'lhx4', 'ttc21b', 'znf274', 'zyg11b', 'bend3', 'ftl', 'abi2', 'pcsk5', 'lrp6', 'polg2', 'ddx54', 'scrn2', 'ctdspl', 'pitpnc1', 'adamts3', 'hoxc5', 'ifit3', 'krtap13-2', 'krt10', 'lrfn2', 'mmp27', 'ndufa12', 'nop2', 'acot9', 'nlk', 'txlna', 'snx15', 'mal2', 'kcnc4', 'filip1l', 'thbs2', 'zdhhc19', 'eif1ad', 'fam240c', 'rapsn', 'spon1', 'znf605', 'cyp4b1', 'ipcef1', 'rhog', 'mfsd6', 'ergic1', 'or51v1', 'pskh1', 'trpm7', 'clic5', 'or52e8', 'tsnare1', 'crygc', 'prkd1', 'ubl4b', 'greb1l', 'socs2', 'depp1', 'crlf2', 'lgals4', 'znf772', 'nol8', 'cldn4', 'parp1', 'jam3', 'armh2', 'ggt5', 'syp', 'churc1', 'fkbp7', 'tek', 'mthfd2', 'dcst2', 'helb', 'hoxd3', 'xrn2', 'rpia', 'hpse', 'shisa8', 'bbip1', 'ulbp3', 'lat', 'tmem53', 'aldh1a3', 'mansc4', 'enosf1', 'trmt10a', 'sec23b', 'slc9a3r2', 'cabin1', 'lrrc18', 'eaf2', 'gal3st3', 'znf875', 'il36a', 'bcas4', 'fam171a1', 'ubox5', 'srf', 'rsad2', 'brix1', 'armcx2', 'exosc3', 'bag5', 'dpm2', 'upf3a', 'nop53', 'nek6', 'tincr', 'fbxl7', 'pask', 'sycp2', 'eml4', 'cideb', 'usp18', 'gtpbp3', 'mroh6', 'slc22a24', 'cat', 'wnt8a', 'kif2c', 'pgr', 'aatk', 'mlph', 'pus7', 'hltf', 'ccl18', 'sh3kbp1', 'faim2', 'syt12', 'pink1', 'smpx', 'hectd3', 'eva1a', 'nf2', 'cd8b', 'bysl', 'taf7', 'iba57', 'btbd16', 'cbx4', 'cfap221', 'il6', 'znf284', 'c12orf50', 'ddhd1', 'kaag1', 'eif3g', 'efs', 'lce6a', 'rag2', 'ankrd34a', 'ddx5', 'fbln1', 'gprc5b', 'plekhh3', 'hdac11', 'ubc', 'klhl21', 'pcdhgc3', 'washc5', 'lce3d', 'mid1ip1', 'mkln1', 'g0s2', 'slc25a46', 'dennd4c', 'lurap1l', 'tbc1d30', 'med9', 'prss35', 'apba1', 'smyd3', 'ddo', 'nrtn', 'scn4a', 'ptprf', 'c1orf167', 'cfap157', 'npy5r', 'krtap29-1', 'ebln2', 'tpst2', 'cep112', 'shisa6', 'ankrd16', 'anp32a', 'ctsb', 'rrbp1', 'tspan1', 'ost4', 'pgm2', 'gpr141', 'mgat3', 'sfr1', 'shroom4', 'loxl1', 'twnk', 'tmem151b', 'apc2', 'ms4a1', 'capn2', 'grm8', 'sftpc', 'ell2', 'galk1', 'ptprz1', 'ampd1', 'carmil1', 'myo9a', 'plxnb1', 'yeats2', 'dand5', 'tsga10', 'cog6', 'thoc5', 'ccdc169', 'ccdc34', 'fgr', 'or2c1', 'bricd5', 'c1orf226', 'best3', 'adsl', 'glra3', 'npsr1', 'icam1', 'pga5', 'gas2l1', 'odf3', 'fbxl16', 'epb41l2', 'mfsd3', 'limk1', 'or1l3', 'plpp7', 'esrp2', 'tmbim6', 'tnfaip3', 'fbxl15', 'nif3l1', 'tuba4b', 'e2f5', 'znf22', 'cavin2', 'diras3', 'epdr1', 'clec3b', 'dedd', 'polrmt', 'spryd7', 'ubr3', 'crebzf', 'defb125', 'jkamp', 'mia3', 'taar6', 'ido2', 'bcl7a', 'cacul1', 'cshl1', 'gpc3', 'kctd3', 'asah2', 'ccl8', 'gpr33', 'nhlrc1', 'rita1', 'slc38a8', 'exoc5', 'spc25', 'mt-nd3', 'trps1', 'usp9x', 'yipf4', 'znf486', 'rasl11b', 'tspan7', 'angpt2', 'psmd11', 'spats1', 'znf430', 'enpep', 'slc37a2', 'akr1b10', 'asphd1', 'rhobtb1', 'coq2', 'crebbp', 'rabgef1', 'six5', 'trpv4', 'mtus2', 'mettl6', 'insr', 'plekhg4', 'spata6', 'fech', 'maoa', 'znf598', 'mettl1', 'acsf2', 'tarm1', 'eif3b', 'cep152', 'dcps', 'marveld3', 'znf716', 'zglp1', 'smad9', 'npffr1', 'sfxn3', 'axin1', 'dennd1b', 'zup1', 'c5orf51', 'hmmr', 'rgs16', 'pate4', 'ubl7', 'sppl2a', 'uba5', 'pcbd2', 'odam', 'arpc1b', 'lamc2', 'eddm13', 'siglec14', 'snx1', 'ssu72p8', 'fgf18', 'fabp5', 'csf3', 'tomm70', 'acot8', 'cntrl', 'zkscan2', 'eqtn', 'kirrel2', 'ss18', 'pip4p2', 'atp2b2', 'psg5', 'smarcd3', 'c15orf39', 'n4bp2l2', 'prom1', 'rnf175', 'cops9', 'sfmbt2', 'eif3h', 'znf286a', 'dnpep', 'cdc45', 'gnb1l', 'med7', 'txndc17', 'ndc1', 'c3orf52', 'serpinc1', 'elovl5', 'ak6', 'hspb9', 'fbl', 'meig1', 'hs6st1', 'armc10', 'selp', 'sipa1l3', 'taf7l', 'hdac2', 'dennd2d', 'hsf2bp', 'liph', 'cep55', 'cab39l', 'ackr1', 'sostdc1', 'dgkh', 'tlr4', 'ttc21a', 'syt8', 'abca2', 'cdkl2', 'mfsd1', 'il17rb', 'pcdh18', 'medag', 'lta', 'suclg2', 'ccno', 'osgepl1', 'myog', 'mtpap', 'gdf6', 'commd3', 'or4d10', 'rab7b', 'map3k11', 'amigo1', 'gch1', 'ifna8', 'rad51ap1', 'ppp1r11', 'ube2u', 'shfl', 'prss8', 'exd3', 'klf4', 'ugt2a3', 'slc25a34', 'jagn1', 'skor1', 'ppp2r5a', 'scand1', 'rcbtb2', 'f2rl3', 'duxa', 'itm2b', 'st6galnac2', 'stxbp3', 'capns2', 'krtap27-1', 'tex55', 'rnf19b', 'klhdc4', 'slc38a1', 'cetn1', 'man2a1', 'znf707', 'cdkl3', 'galnt16', 'ncald', 'znf347', 'cinp', 'agk', 'rbm5', 'mfsd10', 'ankrd18a', 'erg', 'hspb1', 'nxn', 'slc25a15', 'pparg', 'rbp5', 'smim20', 'kcnj15', 'pde6d', 'tdo2', 'pspn', 'ppfibp2', 'ct83', 'crnkl1', 'avpr2', 'rnf26', 'wdr77', 'myl6b', 'napg', 'cisd1', 'dolk', 'pmepa1', 'fam172a', 'rxfp2', 'miox', 'srp9', 'sult1e1', 'trak1', 'vps26a', 'rabggta', 'trim51', 'gmnc', 'gata6', 'tuba1b', 'nup210', 'spdye5', 'atp5po', 'sik2', 'ndufa7', 'dcaf7', 'flrt3', 'sema6b', 'tigd1', 'c2orf81', 'cpne7', 'fshr', 'or6c4', 'znf106', 'glipr1l2', 'spdya', 'stpg2', 'or7e24', 'arhgap6', 'fam167b', 'or5k4', 'znf215', 'jchain', 'mef2b', 'fam71b', 'lims2', 'cpamd8', 'myef2', 'pkd2l2', 'rbm44', 'mfap1', 'sftpa1', 'dok4', 'mep1a', 'col9a1', 'cbln2', 'stimate', 'ecm2', 'acmsd', 'xkr5', 'cryab', 'tctn1', 'mobp', 'stard10', 'znf180', 'eny2', 'tubb8', 'c6orf132', 'kcnk15', 'nr1h2', 'retreg1', 'c9orf152', 'mtpn', 'ccdc90b', 'wfdc8', 'ccdc112', 'tcta', 'xpo4', 'b4galnt4', 'pgm1', 'c16orf95', 'eif2ak1', 'btaf1', 'dzip3', 'nudt2', 'mtch2', 'nup37', 'p3h2', 'apbb1', 'lyg1', 'gosr2', 'esr1', 'ccnq', 'vps36', 'srp54', 'fam161b', 'bckdha', 'arhgdia', 'atp6v0a2', 'ikzf3', 'fndc11', 'dab2ip', 'pigm', 'dolpp1', 'drg2', 'raph1', 'stau1', 'znf711', 'bcl2l12', 'or13j1', 'ptpn2', 'spef2', 'fam133b', 'invs', 'aspn', 'mettl11b', 'pcm1', 'spindoc', 'cdyl2', 'lin7b', 'azin2', 'pard6a', 'metap2', 'tbc1d13', 'pcdh8', 'acss1', 'gins3', 'angptl7', 'rasal1', 'kif23', 'ssr4', 'tmem123', 'c5orf46', 'fzr1', 'klhl41', 'shox2', 'ttc7b', 'lynx1', 'osmr', 'klk11', 'klhdc8a', 'rnf19a', 'nckap1', 'mustn1', 'scaf8', 'wdtc1', 'rasl10a', 'fam120a', 'pdcd1lg2', 'fam13b', 'srrm2', 'cemip', 'ucn3', 'c4orf36', 'gpatch1', 'cracr2b', 'psmd7', 'elk4', 'cd164', 'st8sia6', 'plch2', 'usp29', 'rassf5', 'vsx1', 'ccdc130', 'cert1', 'prss33', 'ccna1', 'bccip', 'vnn3', 'defb114', 'wrap53', 'srpk1', 'crocc2', 'lpp', 'fam71f2', 'fam221b', 'chek2', 'il13ra2', 'dph6', 'adgrg6', 'sqstm1', 'dennd3', 'smpd2', 'c8a', 'f2', 'slc26a6', 'cbln1', 'tbc1d3e', 'slf1', 'calml6', 'kdm8', 'lce5a', 'serpina7', 'or8k5', 'tac1', 'cst7', 'znf777', 'lingo3', 'or4p4', 'tmppe', 'iqsec3', 'or11g2', 'akap11', 'fuca1', 'micos10', 'tmem106c', 'actrt3', 'ttr', 'cacna1c', 'ky', 'prkra', 'josd2', 'or4k14', 'plk2', 'ndufa4', 'rnf11', 'shoc2', 'hoxc10', 'larp4', 'ak1', 'znf665', 'dok1', 'ccsap', 'mapkap1', 'htt', 'shq1', 'tspan16', 'gcgr', 's100a7a', 'znf654', 'antxrl', 'cdca8', 'ccdc125', 'casc3', 'or10k2', 'cdh15', 'rab4b', 'gria3', 'gpnmb', 'prdx3', 'slc43a2', 'slc6a14', 'meox1', 'polr3gl', 'nus1', 'ebp', 'kat7', 'zdhhc20', 'cerk', 'ciart', 'fmo3', 'pigr', 'lsm12', 'pcdha3', 'nckap5', 'acad9', 'pde1a', 'sh3glb1', 'wdr64', 'rock2', 'cyc1', 'cd96', 'pcdhb3', 'ska2', 'man2b1', 'map1lc3a', 'hand1', 'gpsm1', 'defb116', 'ubac1', 'cela3a', 'cnot4', 'stat5b', 'katnbl1', 'gucy1b1', 'usp31', 'ceacam20', 'ttc39b', 'sf3b1', 'cox7c', 'or6j1', 'dnase2b', 'or52b4', 'page3', 'septin5', 'smim6', 'pcdhb1', 'pold3', 'grtp1', 'mettl3', 'pdilt', 'polr3d', 'gpld1', 'wsb1', 'rhbdf1', 'sult1c2', 'nr1h3', 'dcaf12', 'fbxo5', 'aass', 'ccdc93', 'mri1', 'p2rx5', 'pnpo', 'lipg', 'or6c3', 'otogl', 'pcdh19', 'dlec1', 'or7c1', 'nutf2', 'rbm46', 'znf182', 'trappc12', 'or10a3', 'klhl26', 'lrrc39', 'znf573', 'banf2', 'ankrd40', 'cd8b2', 'potem', 'fabp4', 'scnn1d', 'strap', 'ache', 'krt27', 'cacna1g', 'pck1', 'znf571', 'pwwp3b', 'irx3', 'ppp3r2', 'or2g3', 'c1ql2', 'prkab2', 'ccdc32', 'tmem273', 'hrh2', 'kantr', 'akr1c3', 'myod1', 'nectin2', 'ippk', 'camk2g', 'calca', 'il23r', 'phlda2', 'acoxl', 'mfsd13a', 'vill', 'c17orf64', 'tmbim4', 'frmpd2', 'or4d11', 'adgrb3', 'rfx6', 'rfx5', 'amacr', 'chrna10', 'c8orf76', 'dhrs1', 'or5a1', 'rcc1l', 'tmem14a', 'camlg', 'lrrc9', 'spty2d1os', 'ndufa10', 'tmco5a', 'cc2d2a', 'kif5b', 'rora', 'anpep', 'cd37', 'hepacam', 'hlcs', 'ss18l2', 'tnfsf13', 'scgb1a1', 'disp3', 'alg8', 'irak1', 'aup1', 'zscan9', 'c11orf58', 'c14orf93', 'apeh', 'slc30a9', 'adgre3', 'cd81', 'maip1', 'cnot7', 'glyr1', 'psmd6', 'galnt13', 'matn1', 'clcn7', 'or8k1', 'sbspon', 'septin10', 'osbpl8', 'rd3', 'stra6', 'ajm1', 'gtpbp2', 'cpz', 'ca7', 'dhrs9', 'pkp1', 'thg1l', 'tmem176b', 'acp5', 'arr3', 'tmem163', 'vta1', 'rimbp3b', 'clic2', 'gabrb3', 'bex5', 'map3k8', 'sec24c', 'agbl4', 'fbxo31', 'or5k3', 'lztfl1', 'uri1', 'acsbg1', 'ly9', 'calcrl', 'cd7', 'klrg2', 'svopl', 'ifna1', 'scarb1', 'usp34', 'cep350', 'rho', 'znf789', 'shmt1', 'rad50', 'cdx2', 'ch25h', 'dlk2', 'gpatch2l', 'mageb17', 'dsg1', 'kiaa0753', 'fancl', 'macf1', 'ndufa8', 'snx8', 'atpaf1', 'mettl7b', 'sdc2', 'znf674', 'kcnj18', 'scara3', 'tfpt', 'atp5f1d', 'chl1', 'c17orf99', 'gdf15', 'npffr2', 'kcnj4', 'ddx59', 'map3k14', 'apol5', 'fate1', 'chst15', 'ankrd36', 'iyd', 'lin54', 'ppfia3', 'tlx2', 'hoxd11', 'bace2', 'mpeg1', 'gtdc1', 'sema3b', 'atp13a5', 'lrrc2', 'map3k6', 'trappc6a', 'pla2g4a', 'tcp10l2', 'nkiras2', 'or4d5', 'bmpr2', 'kif13a', 'cep70', 'rxrb', 'cep250', 'ap3d1', 'rhoa', 'p2rx1', 'eri3', 'rassf3', 'kdm1a', 'gzmk', 'fign', 'acot6', 'hdac5', 'pmfbp1', 'tet1', 'birc6', 'rpp40', 'capn15', 'tbc1d10c', 'cflar', 'or1m1', 'snx18', 'cc2d1b', 'lrrc37a3', 'tenm1', 'foxl2nb', 'or6b3', 'tmem241', 'ccdc24', 'atp1a1', 'ticam1', 'tab3', 'zg16', 'krtap6-1', 'sh2d5', 'exoc6', 'esco1', 'hspb3', 'il19', 'mt-co3', 'tprn', 'znf613', 'alox15b', 'bms1', 'cybc1', 'rdh10', 'sgta', 'piwil3', 'tmem154', 'ppard', 'nefm', 'lmo3', 'eef1aknmt', 'sh3bgr', 'hells', 'p2ry11', 'ano8', 'arpc2', 'arhgef7', 'nosip', 'c6orf120', 'fosb', 'golga3', 'mical2', 'erich6', 'gabra1', 'pprc1', 'bag3', 'slc51a', 'nrcam', 'spaca1', 'dlgap1', 'syvn1', 'klhl40', 'klhl4', 'stab2', 'unc13c', 'fam162b', 'gdf3', 'slc25a36', 'as3mt', 'meis3', 'dock5', 'fam131a', 'acsl1', 'mzf1', 'smad2', 'ppp1r12a', 'pigk', 'znf541', 'eng', 'trim6', 'sfrp1', 'slc2a1', 'elmod2', 'ly6g6e', 'slc7a3', 'rnf224', 'tyms', 'adap2', 'creb3l2', 'fbxo41', 'ilf2', 'ldah', 'ocln', 'klhl24', 'tfrc', 'fermt2', 'gli1', 'slc35g5', 'znf248', 'ankrd31', 'gstm3', 'ostn', 'sytl2', 'mettl15', 'znf17', 'tpsab1', 'lgals14', 'itpkc', 'pmel', 'nkrf', 'cyp26c1', 'fut7', 'sstr3', 'btn1a1', 'cox6b1', 'ubr4', 'znf527', 'hoxb4', 'tfg', 'znf785', 'armc5', 'pcdhga8', 'acvr1b', 'senp1', 'wasf2', 'septin9', 'rev3l', 'gimap6', 'hsd17b2', 'nek10', 'ppm1a', 'yy2', 'adcy6', 'cdrt4', 'chrm3', 'parp4', 'plxdc2', 'lsm5', 'gsdmc', 'or7a17', 'dipk1c', 'hpgd', 'septin12', 'atp6v0e1', 'rab11fip4', 'prcc', 'kndc1', 'qpctl', 'plekhg5', 'lpcat4', 'rbm23', 'scrn3', 'was', 'rnase9', 'prlhr', 'pla1a', 'cpa6', 'rcan1', 'fibcd1', 'rptn', 'olig1', 'tbc1d22b', 'ago2', 'cpn2', 'cndp1', 'peli3', 'phkb', 'plxna2', 'pcdha1', 'klhdc1', 'pm20d2', 'tnp1', 'camp', 'tssk3', 'uspl1', 'cpne5', 'fxyd7', 'blid', 'itih5', 'c1orf146', 'nxpe4', 'agl', 'scfd1', 'spryd3', 'trim14', 'krtap3-3', 'prss23', 'spats2l', 'or52l1', 'ncs1', 'rpp25l', 'onecut2', 'sat1', 'cabp7', 'dusp12', 'gab4', 'clecl1', 'angptl4', 'atp13a1', 'bag1', 'cbfa2t2', 'spz1', 'c16orf46', 'yme1l1', 'scn1a', 'zbtb33', 'map2k4', 'insyn1', 'ephb2', 'spata18', 'mageb6b', 'tnfrsf21', 'synm', 'tmem132a', 'c1orf87', 'adam23', 'ccdc110', 'cdk1', 'tmpo', 'taf11l6', 'prps2', 'a2ml1', 'c1orf127', 'c7orf61', 'atp2c1', 'prom2', 'or5d14', 'tap2', 'ube2c', 'fa2h', 'ift172', 'zmat3', 'znf470', 'smarca1', 'snx27', 'prrt1b', 'pcdhb4', 'zbtb14', 'hs3st2', 'dffa', 'btbd8', 'htr1e', 'met', 'rbfox2', 'tcea3', 'zscan29', 'usp41', 'utp23', 'znf335', 'adk', 'gpr119', 'barhl1', 'ccdc138', 'cib3', 'gpr174', 'frmd7', 'lpxn', 'itgb8', 'ntng2', 'spaca3', 'fosl2', 'rtp4', 'itgal', 'tfap2d', 'erich4', 'acot12', 'znf599', 'ghrh', 'fgf3', 'ssr3', 'mfap2', 'or10k1', 'zar1', 'serpinf2', 'ercc6', 'rab10', 'enkur', 'olfm1', 'ypel4', 'cd69', 'lpo', 'tnc', 'exoc2', 'nmnat1', 'cenpm', 'tpgs2', 'znf263', 'calcoco1', 'orai2', 'or2a25', 'sorcs3', 'ndst4', 'pllp', 'iqcj', 'lzts3', 'paqr3', 'cldn3', 'rgl1', 'atp7a', 'nbeal1', 'wac', 'pcid2', 'or13c8', 'mmp9', 'mettl18', 'tomm5', 'dennd4a', 'polr3e', 'c5orf15', 'gchfr', 'ctsz', 'reg3g', 'c6orf47', 'apobec3c', 'cobl', 'dlx1', 'igsf8', 'alms1', 'fam98c', 'rala', 'clec3a', 'adirf', 'alpp', 'gabra5', 'prss51', 'art3', 'atf1', 'ankrd9', 'nsmf', 'tmem120b', 'c1orf94', 'mypop', 'bmp15', 'kpna4', 'nkain1', 'vamp3', 'fkbp1c', 'adgrf1', 'il17ra', 'smkr1', 'tfec', 'tnfrsf10d', 'celsr2', 'cd72', 'lsm2', 'dnajb5', 'csrp3', 'p2ry13', 'tmem92', 'rpa2', 'znf837', 'cdrt15', 'grip1', 'usp17l2', 'trim59', 'hes1', 'zdhhc1', 'thumpd2', 'lrp12', 'majin', 'tnni3', 'il12b', 'rwdd4', 'uvrag', 'sdhaf3', 'nags', 'sit1', 'urb2', 'rbm25', 'bloc1s3', 'fam160a2', 'derl3', 'znf705a', 'tpd52l2', 'ptprm', 'usp17l1', 'gjb4', 's100g', 'elf1', 'zcchc12', 'ttc14', 'dppa3', 'ikbkb', 'slc39a13', 'c9orf116', 'c11orf16', 'etdc', 'gfra1', 'slc37a1', 'rnf4', 'st6galnac3', 'thap10', 'zdhhc17', 'arpc1a', 'bcas2', 'ilkap', 'slf2', 'txnip', 'erf', 'klc1', 'neurl1', 'mageb3', 'dhx58', 'nptx1', 'gpr160', 'fcgr3a', 'tppp2', 'chst9', 'ubb', 'adam7', 'wdr82', 'chp1', 'ap3b2', 'gbp2', 'cux2', 'chaf1a', 'rai2', 'rtp1', 'extl3', 'slc26a4', 'p4ha2', 'spaca9', 'fam20b', 'tmem248', 'arhgap36', 'fam117a', 'fam47c', 'get1', 'rbm43', 'smim38', 'serpine3', 'tfdp1', 'tmcc1', 'acp1', 'psmd2', 'gje1', 'lrp2', 'gpx4', 'qtrt2', 'ssbp4', 'fzd10', 'mpo', 'ap2b1', 'trim64b', 'toe1', 'crh', 'thrsp', 'cnn3', 'rbks', 'wdr31', 'ddx3x', 'pdgfd', 'scube1', 'znf549', 'arhgap5', 'helt', 'apol2', 'rnaseh2a', 'rnase7', 'gemin6', 'tmed6', 'gcnt3', 'gpr156', 'helz', 'pim3', 'eloa2', 'col6a5', 'fjx1', 'fyco1', 'itga10', 'or14c36', 'znf275', 'fgf1', 'edc3', 'fdft1', 'rab22a', 'smim8', 'ptgfrn', 'piwil2', 'dhx8', 'psg4', 'znf850', 'snx17', 'palmd', 'myl10', 'adgrl2', 'kyat1', 'pacs2', 'tsc22d2', 'cfap20', 'pramef12', 'olfml2b', 'cd248', 'yipf3', 'ampd2', 'parp11', 'psmc3', 'col4a5', 'tppp3', 'lefty1', 'atp2b1', 'pan3', 'c2orf50', 'creb5', 'zscan30', 'otop3', 'lrrtm3', 'gtf2a1', 'itch', 'rngtt', 'ech1', 'scn4b', 'slc17a5', 'mettl14', 'opa3', 'epha1', 'znf704', 'tbrg4', 'sdha', 'tex47', 'sfi1', 'lif', 'spocd1', 'znf131', 'tor1aip2', 'rars2', 'afg3l2', 'cebpb', 'ap5s1', 'panx1', 'csdc2', 'pstpip1', 'chmp1a', 'timm21', 'tmem230', 'orai1', 'mmp16', 'foxn4', 'or5d13', 'vamp7', 'dph2', 'lcmt1', 'xg', 'or5as1', 'clybl', 'arl2', 'ppp2cb', 'inhbc', 'dmac2l', 'rhov', 'rit2', 'tbc1d2', 'osbp2', 'mvk', 'mis12', 'pop4', 'bex3', 'actl6b', 'kctd14', 'smo', 'rassf6', 'lmod2', 'trim39', 'paxbp1', 'slc16a14', 'gfra4', 'bcl11a', 'klhl31', 'ptprn2', 'nup58', 'zbtb48', 'trpv6', 'cuta', 'npipb2', 'eef1e1', 'traip', 'bod1', 'pla2g4b', 'tnfaip8l1', 'znf639', 'nav3', 'iqgap1', 'pes1', 'slc6a12', 'ube2d2', 'upk3a', 'ubr7', 'foxa2', 'rbm45', 'mosmo', 'sarm1', 'pla2g12a', 'igsf11', 'pde12', 'ptgdr', 'bcl7c', 'cdc25c', 'pkhd1', 'krt37', 'robo2', 'six1', 'zbtb43', 'myot', 'hk3', 'slc31a2', 'nudt11', 'krtap5-8', 'caskin2', 'apcs', 'slc1a6', 'tom1', 'kidins220', 'efcab9', 'b3gnt3', 'b4galt5', 'sema3f', 'exoc8', 'glyatl1', 'peli2', 'pp2d1', 'stap2', 'heatr5a', 'tmem239', 'trafd1', 'brip1', 'amotl1', 'sumf1', 'cpsf2', 'rbl1', 'atxn10', 'pcgf5', 'arid3a', 'rufy3', 'stk39', 'ahcyl2', 'tmem102', 'ppil2', 'syngr1', 'myof', 'npbwr2', 'ifitm2', 'or10t2', 'prrg3', 'chkb', 'gria2', 'rab30', 'lyve1', 'col9a2', 'ei24', 'znf101', 'xpr1', 'rnf2', 'uap1l1', 'slc66a2', 'sipa1', 'marf1', 'bsnd', 'pcdhga9', 'shisa5', 'rad54l', 'nol7', 'tango6', 'atn1', 'cmbl', 'tram1', 'sipa1l2', 'kcnj11', 'agxt', 'fam219a', 'sfn', 'stox1', 'abcc9', 'fam168a', 'adgrg2', 'msc', 'vrk3', 'acot7', 'ctrl', 'trmt61a', 'dnttip2', 'syne2', 'c1qtnf12', 'siglec10', 'dnah6', 'hsd3b2', 'slc44a3', 'ercc6l', 'or51f1', 'parm1', 'ube2o', 'hgh1', 'enho', 'mxi1', 'nelfcd', 'ppp1r42', 'eif1ay', 'tbl1y', 'pdx1', 'vps33b', 'rpp14', 'pias1', 'mettl7a', 'tmem63a', 'retreg3', 'tmem214', 'tyk2', 'per1', 'prmt8', 'naa30', 'rnd1', 'dydc2', 'tbc1d16', 'abhd3', 'tnfaip2', 'adgra2', 'ctsh', 'ifna4', 'snap91', 'dnm2', 'xrn1', 'mettl27', 'cables2', 'flt3lg', 'ccdc179', 'cep295nl', 'rad54l2', 'mtrf1', 'nol4', 'pold4', 'kiaa1958', 'mrto4', 'rhoj', 'slc39a6', 'pkig', 'klhl18', 'cacng3', 'prkacb', 'lrrc15', 'fxyd1', 'gpr17', 'lime1', 'slc8a2', 'tmed3', 'c19orf12', 'tmem169', 'tox3', 'ppp1r3d', 'ywhaq', 'il12rb1', 'zdbf2', 'creb3', 'scgb2a2', 'col6a6', 'isy1', 'nucb1', 'tmem52b', 'znf350', 'eif2s3', 'rad51c', 'sult6b1', 'med31', 'tnfrsf13b', 'mpc1', 'paip2b', 'cntnap2', 'sipa1l1', 'rnmt', 'zdhhc4', 'snx4', 'fut11', 'cd160', 'gins2', 'hid1', 'ppp2r3c', 'agrn', 'tmem216', 'atf2', 'stard3nl', 'lactbl1', 'defb115', 'sumo3', 'klrb1', 'tnks', 'psen2', 'sdc1', 'dynlt1', 'lpar4', 'rgs4', 'csnk2a2', 'arfgap1', 'cd68', 'gpx5', 'gla', 'gzf1', 'ncmap', 'cd93', 'efemp2', 'faf1', 'il33', 'arhgef10l', 'kdm4d', 'znf574', 'smco4', 'ifitm10', 'hdac4', 'kncn', 'cyp24a1', 'sytl4', 'or1i1', 'obscn', 'wdr45b', 'znf385b', 'echdc3', 'blm', 'cfap74', 'mtmr4', 'nceh1', 'fgfr1op2', 'apoe', 'or8h3', 'pramef8', 'podxl', 'colec11', 'zp1', 'c2orf68', 'fam133a', 'or13a1', 'efcab2', 'glmp', 'dusp14', 'kif22', 'rab44', 'fbxw11', 'usf3', 'taf15', 'usp32', 'ppp1r14b', 'znf441', 'kcna10', 'jrkl', 'rnf148', 'pank2', 'znf519', 'zbtb8a', 'sap130', 'kif15', 'clasp2', 'prpf6', 'slc30a2', 'allc', 'pbx1', 'rab24', 'ywhag', 'gsta4', 'slc25a35', 'or52j3', 'tradd', 'adam29', 'c16orf72', 'babam2', 'dtna', 'garem2', 'mocs2', 'cel', 'slc26a5', 'trpv1', 'rbm10', 'igfbpl1', 'gprc5a', 'iqce', 'lce3c', 'mfsd2b', 'znf212', 'or56b1', 'stx7', 'rnf187', 'capn5', 'lsmem2', 'ndfip1', 'cd79b', 'anapc15', 'hgs', 'nkx6-3', 'mysm1', 'prss58', 'virma', 'eif4e3', 'osbpl6', 'mdh2', 'slc5a6', 'tspan31', 'bsdc1', 'thap6', 'card11', 'eif3d', 'slc22a10', 'anp32e', 'mprip', 'nhej1', 'chml', 'atp5mc3', 'tdrd6', 'alyref', 'mtss1', 'ado', 'cav1', 'pirt', 'rspo4', 'rarres1', 'trim27', 'acss2', 'pcdha10', 'meaf6', 'sri', 'cers4', 'tysnd1', 'frrs1l', 'zhx1', 'glod5', 'hck', 'shc1', 'spic', 'bpgm', 'hrh4', 'adhfe1', 'actl9', 'ythdf1', 'hapln4', 'fam178b', 'nrgn', 'col4a2', 'dcdc2', 'nlrp3', 'ate1', 'jcad', 'il24', 'rab40c', 'tubgcp5', 'parp12', 'tas2r50', 'prnd', 'slc45a4', 'lins1', 'diaph1', 'tdrd3', 'lef1', 'znf836', 'dtnb', 'herpud2', 'emc10', 'gucy2f', 'nlrp10', 'shtn1', 'fam217b', 'med21', 'krt38', 'tln2', 'znf623', 'babam1', 'iws1', 'tubb2a', 'tmem41a', 'cdc42ep2', 'emp1', 'crcp', 'htr3a', 'klhl22', 'shisal2b', 'ccng1', 'bnipl', 'shroom3', 'snx9', 'gcfc2', 'aqp5', 'negr1', 'sgpl1', 'slc22a25', 'gnptab', 'usp16', 'ccdc142', 'ints8', 'pax6', 'rundc3a', 'spi1', 'tnfrsf10b', 'arrb1', 'enox2', 'gapdhs', 'mt4', 'cmtm1', 'hdc', 'pfn2', 'ripply1', 'atad3c', 'dtx3', 'orc3', 'pls1', 'poglut2', 'card10', 'ddx20', 'hey1', 'cox7b2', 'tlcd5', 'acadm', 'atp8a1', 'slc12a2', 'usp20', 'hif3a', 'rfx7', 'rrp7a', 'bub1b', 'gpr65', 'necap1', 'sh3pxd2a', 'mkks', 'clpp', 'aspa', 'commd10', 'grem1', 'hsd17b6', 'pax1', 'rxylt1', 'utp4', 'neurl3', 'grm2', 'rbp2', 'chn1', 'krt77', 'usp44', 'pygm', 'dnaja2', 'map1lc3c', 'rnf152', 'dr1', 'prmt7', 'pax7', 'ybx2', 'gimap7', 'ifna5', 'znf575', 'adam33', 'plcz1', 'fam216b', 'smarcc2', 'mybl2', 'ca5b', 'grb2', 'gabrr3', 'parn', 'sqle', 'ascl5', 'rtl5', 'glipr1l1', 'gp6', 'ssh3', 'fap', 'brsk1', 'stt3b', 'c10orf143', 'nek3', 'ttc1', 'nudt8', 'ago3', 'kank3', 'msantd1', 'nfrkb', 'pnma2', 'slc38a5', 'b3galt1', 'lsr', 'r3hdml', 'ppp4r3c', 'llph', 'tex38', 'mtdh', 'thrb', 'rilpl2', 'vps37c', 'khdc4', 'sirt7', 'otx1', 'sass6', 'st3gal4', 'taf6l', 'cramp1', 'rgs9bp', 'cskmt', 'heatr9', 'dnajc4', 'apbb2', 'ndufa6', 'ca6', 'nod1', 'sh2b2', 'thsd8', 'esyt2', 'padi1', 'mad2l2', 'nrbf2', 'clec20a', 'or14j1', 'aspm', 'slc20a1', 'znf775', 'lrr1', 'plpp2', 'wnt2b', 'znf197', 'pik3c2a', 'mknk1', 'rac3', 'rpap2', 'cul7', 'loxhd1', 'slc35e1', 'slc22a18', 'snapc4', 'cspg5', 'fbxl2', 'lrrc8b', 'dclre1b', 'arpc5l', 'stc1', 'sardh', 'stmnd1', 'pcolce2', 'tespa1', 'dhx16', 'lrig1', 'wdr92', 'ptpmt1', 'rbbp4', 'eif5a2', 'nrl', 'sdcbp2', 'htatip2', 'arhgap45', 'atg4d', 'gja8', 'pigg', 'impg1', 'pate1', 'metap1d', 'rrs1', 'fabp12', 'tal2', 'mcrs1', 'osbpl1a', 'spata46', 'c12orf40', 'mmd', 'lhfpl3', 'colgalt1', 'hpr', 'tarbp2', 'colec10', 'tmem222', 'gtf2f2', 'chst6', 'myo3a', 'camk1', 'nr2c2', 'or52n4', 'phtf2', 'nrxn3', 'atxn7l3', 'myorg', 'spred1', 'islr', 'orc2', 'abhd1', 'calb2', 'crb2', 'dnaaf5', 'or6q1', 'rab6c', 'fasn', 'eif3j', 'znf214', 'or52i2', 'tent5b', 'sspn', 'tbcel', 'upb1', 'angptl8', 'zc3hav1l', 'zcwpw2', 'rragc', 'c2cd4c', 'c1ql4', 'atp5pf', 'znf625', 'ces5a', 'ormdl1', 'rsph1', 'spire1', 'wdfy3', 'taf3', 'dio3', 'trmt11', 'znf175', 'stau2', 'il1rapl1', 'zscan22', 'fgf21', 'agfg2', 'dtwd1', 'phf6', 'smim31', 'ubfd1', 'fosl1', 'arl16', 'dyrk1b', 'trit1', 'npm2', 'arhgap40', 'znf280d', 'fiz1', 'saraf', 'chad', 'dhrs2', 'oxnad1', 'spanxn1', 'harbi1', 'itpripl2', 'pole4', 'zmynd10', 'bri3bp', 'tex53', 'frmpd1', 'lrrc49', 'cep72', 'col24a1', 'clgn', 'foxb2', 'fam177b', 'klk1', 'rmc1', 'cebpa', 'pla2g3', 'dda1', 'rpgrip1', 'son', 'frmd3', 'papss2', 'ggnbp2', 'sacs', 'irf2bpl', 'prss36', 'man1b1', 'cpm', 'gpkow', 'rgs13', 'pa2g4', 'epcam', 'arsa', 'frs2', 'gclc', 'glg1', 'mylip', 'hint1', 'fip1l1', 'ube3c', 'zfyve16', 'stt3a', 'stk26', 'scaf11', 'rgs8', 'c1orf52', 'adi1', 'nat1', 'scp2d1', 'trim65', 'nap1l5', 'alad', 'catsper2', 'thra', 'rab14', 'ugt2b11', 'ece1', 'lpcat2', 'dcun1d2', 'lysmd4', 'or8s1', 'pax3', 'espn', 'siglec11', 'slc4a11', 'tbcd', 'lrp8', 'nxph3', 'rnps1', 'mypn', 'slit3', 'prpf38b', 'znf526', 'kank2', 'btn3a1', 'art5', 'ndufaf6', 'crybg2', 'pebp1', 'cplx2', 'igf2r', 'c11orf68', 'arpc5', 'atm', 'thap9', 'syne4', 'diaph2', 'wdr54', 'amotl2', 'zranb2', 'epc2', 'pla2g12b', 'or10g4', 'zbtb39', 'flna', 'gltp', 'spatc1l', 'c1orf159', 'alox15', 'ggps1', 'hmgxb4', 'sh3tc1', 'fbxo30', 'bean1', 'c1orf35', 'igf2bp1', 'hr', 'tmem39a', 'ceacam19', 'hmgn1', 'papolb', 'sema7a', 'lhfpl6', 'tspear', 'kcnh3', 'tmem41b', 'znf124', 'slc5a5', 'cbarp', 'amfr', 'heg1', 'ly6k', 'dnaaf2', 'rpa4', 'hdgfl1', 'spata7', 'zkscan4', 'fam78b', 'ervk3-1', 'dnah8', 'taf4', 'kcnk5', 'uba3', 'rbmxl1', 'clta', 'vps33a', 'carf', 'adgrf5', 'prrt2', 'tmigd1', 'mcm5', 'noct', 'sult1c4', 'ppp1r3a', 'sirpa', 'st3gal1', 'fbxo38', 'znf202', 'dnajc1', 'ndufb3', 'marcksl1', 'sv2a', 'kti12', 'or5m10', 'prph2', 'cgrrf1', 'mdfi', 'tpp2', 'dnajb12', 'chrm2', 'col5a3', 'kbtbd12', 'suv39h1', 'fam71f1', 'dbx1', 'ino80c', 'cdca3', 'tmem45a', 'ttc9', 'lipc', 'or51b5', 'rdh14', 'atf7ip2', 'pan2', 'kif4a', 'adam22', 'cela2b', 'lin52', 'thap2', 'or2w1', 'znf813', 'slc7a4', 'hmg20b', 'slc17a3', 'vhll', 'or5ar1', 'stat2', 'rhd', 'znf597', 'egflam', 's100a7l2', 'txnrd3', 'znf503', 'pard6b', 'nkx6-1', 'tafa1', 'sp8', 'tcte1', 'jmjd6', 'ppp3ca', 'fndc8', 'sart1', 'slc39a1', 'dpys', 'grik1', 'tmem272', 'ggt2', 'coro7', 'or52n5', 'spata21', 'ifna16', 'nkx3-2', 'dkk1', 'slc66a1', 'sstr5', 'c1orf68', 'arid3c', 'dhh', 'angpt4', 'traf2', 'ppfia2', 'pgghg', 'arl14epl', 'fundc1', 'eln', 'actr2', 'cpox', 'pdcl', 'rab33b', 'adam19', 'serpinb11', 'c6orf118', 'cpxcr1', 'ykt6', 'tf', 'nxnl1', 'dpp10', 'gatb', 'or5h2', 'or4q3', 'pmaip1', 'amely', 'nptx2', 'rasd2', 'lig4', 'znf778', 'exoc3l4', 'lmntd1', 'snrnp27', 'rgs19', 'stmn1', 'cacfd1', 'purg', 'dnlz', 'tcf7', 'fam118a', 'cd22', 'golim4', 'nusap1', 'st3gal3', 'wfikkn1', 'ranbp6', 'ldlrad4', 'samd8', 'tcfl5', 'c12orf73', 'kit', 'spats2', 'slc36a3', 'or1n2', 'ccr4', 'dna2', 'c17orf113', 'plekhg2', 'rbbp7', 'plp2', 'ms4a18', 'kat14', 'mpig6b', 'tuba3d', 'slc6a15', 'prg3', 'plekha5', 'usp30', 'znf408', 'brf2', 'prrg1', 'chac2', 'basp1', 'mga', 'odf4', 'tmem51', 'unc79', 'mccc1', 'mageb10', 'syngr3', 'cd1a', 'nt5c2', 's100a1', 'rab3d', 'mettl5', 'pccb', 'sptlc3', 'plaat3', 'fig4', 'trim58', 'trabd2a', 'c1orf174', 'agpat4', 'art4', 'ndufaf1', 'prrc2a', 'csnk1d', 'myo3b', 'c15orf62', 'c9orf40', 'msh5', 'sec14l6', 'znf696', 'doc2a', 'psmb3', 'dct', 'nipal1', 'pdcl3', 'tle3', 'foxn3', 'traf3ip3', 'plet1', 'myo18b', 'man1a1', 'ndn', 'tsacc', 'ccnl1', 'haspin', 'antxr1', 'spsb2', 'igfbp1', 'knop1', 'prickle2', 'or14i1', 'sfswap', 'kbtbd4', 'lcn1', 'necap2', 'prcp', 'abo', 'fkbp15', 'trim55', 'nbpf20', 'grhpr', 'stc2', 'mfng', 'kcnj9', 'krt25', 'arhgap12', 'c4orf54', 'kat8', 'wfdc13', 'coq6', 'nme3', 'brwd3', 'b3gnt9', 'mycbp', 'fut8', 'ptprc', 'b3gnt7', 'rhbdl3', 'bhlhe23', 'rcn2', 'ak9', 'blzf1', 'rab3a', 'uhrf1', 'chrna2', 'znf296', 'nr1i2', 'dbndd2', 'phox2b', 'slc25a41', 'erich2', 'znf433', 'gype', 'pxmp2', 'tmprss11b', 'mpp5', 'dpp3', 'tram1l1', 'tnpo2', 'cdc123', 'tgm4', 'actc1', 'gjd2', 'capn1', 'kif20b', 'or51a7', 'pdlim3', 'trim40', 'znf134', 'ndufb8', 'tex50', 'ttl', 'dqx1', 'glis3', 'fam20c', 'tmem147', 'klhl8', 'nrip3', 'sh2d1b', 'grhl2', 'gemin2', 'pkdcc', 'snorc', 'odf3l2', 'rfpl4al1', 'gabpb1', 'pbx4', 'tecrl', 'ckap4', 'hbm', 'ms4a8', 'mterf2', 'cd151', 'txlnb', 'atp6v0c', 'ube2e2', 'golga5', 'bend4', 'c8orf88', 'sbk1', 'tomm6', 'pxylp1', 'dlgap5', 'cdrt15l2', 'smim30', 'atp1a3', 'ncstn', 'ubxn6', 'zbtb20', 'atoh1', 'c1orf232', 'ubqln4', 'vegfb', 'hsbp1l1', 'mdn1', 'nectin4', 'lto1', 'dmrtc2', 'slc39a12', 'lrfn3', 'maml1', 'pspc1', 'sec11c', 'atp6v0b', 'dnajc5b', 'ift52', 'morf4l2', 'dbr1', 'nnat', 'pacrg', 'wif1', 'chic2', 'coq9', 'sgk2', 'efhc2', 'tekt2', 'wwc3', 'sla2', 'supt7l', 'rab40a', 'ctdsp1', 'tex45', 'tmem37', 'ttbk2', 'sp9', 'hoxc12', 'rgs20', 'dhcr24', 'klk15', 'fgd4', 'slc46a1', 'tmco1', 'ankrd13d', 'lrtomt', 'myo10', 'nudcd2', 's1pr3', 'atp2a3', 'naa16', 'snrnp25', 'spanxb1', 'lbh', 'tmem181', 'brcc3', 'wfdc1', 'megf10', 'cstb', 'cnot10', 'cpxm1', 'lce3b', 'slc23a2', 'klf7', 'brox', 'cphxl', 'dag1', 'gprasp2', 'mt-nd1', 'ptpn5', 'mecp2', 'lratd2', 'cacna1s', 'rgcc', 'sec22a', 'or6c1', 'fbxw7', 'mchr2', 'lrg1', 'prkd3', 'map6', 'rsl1d1', 'hspa8', 'slc6a17', 'ksr1', 'taf10', 'c17orf100', 'dixdc1', 'pigl', 'zfyve9', 'znf157', 'samd12', 'cnksr2', 'agbl2', 'htn3', 'ogfrl1', 'ppm1j', 'acvr2b', 'higd2b', 'fbxo15', 'plekhb1', 'fastkd3', 'arhgap33', 'cabp5', 'p2ry14', 'slc10a4', 'svbp', 'phip', 'plec', 'tbc1d8b', 'xrcc4', 'batf2', 'aldh6a1', 'tmem132c', 'ttf1', 'styx', 'gpd1', 'commd4', 'ntn3', 'bbc3', 'hoxc13', 'eid1', 'c2orf74', 'slc6a19', 'kctd13', 'osgin1', 'defb113', 'ly6g5b', 'gfap', 'kcnmb1', 'gps2', 'odf3l1', 'mcm10', 'picalm', 'tnip3', 'adcy4', 'cog2', 'maff', 'tatdn1', 'wdr47', 'wiz', 'gtf3c6', 'slc25a37', 'cd200', 'cd86', 'dnajc21', 'rdx', 'olfm2', 'zscan12', 'cxcl16', 'hoga1', 'piezo2', 'pura', 'tuft1', 'vwc2l', 'snca', 'rpap3', 'trim47', 'c12orf42', 'dclk3', 'foxd1', 'glce', 'fubp3', 'eddm3b', 'cd99', 'cxcl2', 'wsb2', 'dlgap3', 'nfx1', 'fcgrt', 'stat4', 'ube2l3', 'lrriq4', 'gnrh2', 'aanat', 'homer2', 'ppargc1b', 'chst5', 'tgif2ly', 'chmp4b', 'znf12', 'pepd', 'slc25a47', 'clcn3', 'kiss1r', 'abcc4', 'ehd4', 'nptn', 'sphk2', 'kifc1', 'tmem255a', 'trmt44', 'gpr176', 'krbox4', 'ccdc172', 'il20ra', 'cdkn3', 'krtap25-1', 'slc2a3', 'mfn2', 'pdhx', 'slc27a1', 'eed', 'c11orf42', 'eef1a2', 'mro', 'ranbp10', 'tbc1d10b', 'wnt7a', 'soga3', 'togaram2', 'znf556', 'edem2', 'aldob', 'atad1', 'bicd2', 'cep135', 'etv4', 'or4s1', 'tmem143', 'tpx2', 'dnai1', 'atp1b1', 'bap1', 'nutm2a', 'zfhx3', 'znf764', 'comtd1', 'tsga10ip', 'nadk2', 'usp33', 'fignl1', 'map1s', 'amer1', 'lmbr1', 'slc9b2', 'znf132', 'gen1', 'dock10', 'mastl', 'dnajc5g', 'dcp1b', 'paaf1', 'fkbp5', 'sox15', 'cxcl5', 'nat10', 'tmem263', 'col17a1', 'nemp2', 'zswim9', 'tubb6', 'prelid3b', 'selenov', 'rad17', 'oasl', 'dnajc11', 'clcnka', 'cx3cl1', 'gcna', 'tbx22', 'ceacam7', 'kcnip2', 'khk', 'snx19', 'slain2', 'znf469', 'pcyox1', 'eras', 'pid1', 'spata31a6', 'cldn10', 'nxpe2', 'prmt3', 'hacl1', 'cst5', 'trub1', 'eef1akmt1', 'slc16a11', 'ccdc85c', 'trim35', 'nr1d1', 'barx2', 'cacnb3', 'rph3al', 'edc4', 'spink2', 'fam228a', 'uvssa', 'amer2', 'krt75', 'reps2', 'ankrd60', 'cgref1', 'cntn2', 'defb110', 'hspa1a', 'il11ra', 'actl10', 'tll1', 'rabggtb', 'ap1g2', 'ccdc158', 'lhfpl1', 'timm17b', 'wdr44', 'ntf4', 'adgrg5', 'rapgef2', 'cplane1', 'trim69', 'hoxb1', 'rpp25', 'pou1f1', 'htr1d', 'spink14', 'cacnb2', 'parvb', 'ninj2', 'asb4', 'cog7', 'baz2a', 'dleu7', 'efcab12', 'lmna', 'znf232', 'fcer1a', 'ldhd', 'rsph3', 'ubiad1', 'sstr1', 'med24', 'she', 'prrc2b', 'ndufc1', 'ncln', 'fabp2', 'itgam', 'clec4a', 'mt-nd2', 'sac3d1', 'cyp27a1', 'srpk3', 'dck', 'abtb2', 'nucb2', 'spns2', 'ep300', 'gpr137', 'bcl2', 'cpsf4l', 'sfrp5', 'siglec1', 'c19orf71', 'casp9', 'tymp', 'trim9', 'edrf1', 'rfwd3', 'mthfs', 'or10q1', 'sfrp2', 'csh2', 'chst2', 'izumo1r', 'phyhd1', 'mbp', 'kif7', 'rnf113b', 'krt19', 'fam3c', 'nhsl1', 'slurp1', 'larp4b', 'prr18', 'cc2d1a', 'miip', 'lrig2', 'parva', 'rbp3', 'dcc', 'pfkfb1', 'rprml', 'oxer1', 'sgo1', 'bcar1', 'zfp14', 'sars2', 'begain', 'mfrp', 'ube4a', 'gmcl1', 'glyatl1b', 'ppp1r27', 'zbed5', 'abca8', 'cfhr3', 'katnb1', 'cd3d', 'or4s2', 'sec14l5', 'tigd5', 'klf18', 'kiaa1143', 'stx17', 'asic4', 'pcdhga3', 'bcr', 'tmem256', 'ptchd1', 'btnl2', 'ccdc122', 'tdrd1', 'sptbn4', 'ivns1abp', 'lztr1', 'slc39a3', 'actrt1', 'stil', 'nms', 'endog', 'krt6b', 'exosc10', 'smg9', 'ccne1', 'slc25a16', 'fam234b', 'myl5', 'casp7', 'eml2', 'spaar', 'clu', 'pth2r', 'psrc1', 'znf225', 'hcn2', 'ptpn20', 'sorl1', 'abcf3', 'atp6v1d', 'cryba2', 'dpy19l4', 'mapk8ip3', 'slc34a3', 'fbxo47', 'mtfr1', 'gphb5', 'rap1gap2', 'hspa12a', 'sprr3', 'taf1l', 'trat1', 'usp28', 'c1orf131', 'ftsj3', 'mllt6', 'atg7', 'rbis', 'ublcp1', 'armt1', 'cnih4', 'klhdc9', 'scgb2b2', 'tp53i13', 'znrf1', 'pfkfb4', 'rab13', 'dctn1', 'pla2g15', 'wnt1', 'spg21', 'phyhip', 'eppin', 'hipk1', 'gga1', 'ptprh', 'nlrp4', 'taf5l', 'rfpl1', 'epha10', 'dpagt1', 'tbc1d14', 'tmem229a', 'ggt1', 'nme4', 'pcgf1', 'sulf1', 'slc26a8', 'spata45', 'znf560', 'plau', 'slc44a4', 'mbd1', 'mcoln1', 'ms4a13', 'uncx', 'gpcpd1', 'zfx', 'kras', 'nme7', 'nostrin', 'rac1', 'acox3', 'chchd10', 'cacnb1', 'igfbp5', 'scrt1', 'unc5d', 'col18a1', 'hps5', 'ddx46', 'pomgnt1', 'dner', 'maml2', 'flnb', 'abi1', 'ttc9c', 'adm5', 'smarca2', 'znf473', 'ndufaf4', 'srebf2', 'taz', 'spanxn3', 'tead1', 'asxl2', 'zmat1', 'ccdc22', 'slc38a7', 'lhpp', 'map2k6', 'eef1b2', 'map3k21', 'ckb', 'fam169a', 'dcaf4l2', 'mpp7', 'tmem192', 'ccnj', 'asap2', 'ptk2b', 'rsu1', 'siglec15', 'adamtsl1', 'cdhr4', 'rapgefl1', 'stoml3', 'chsy3', 'vstm1', 'vxn', 'fbrs', 'gimap8', 'or2j3', 'prpsap1', 'angptl5', 'clint1', 'osbpl7', 'tsc22d4', 'ahsa1', 'cdc37l1', 'cd300c', 'dmtf1', 'btc', 'kctd21', 'myrfl', 'grk7', 'cldn15', 'aplp1', 'plk1', 'or56a3', 'nup133', 'reg3a', 'vwa2', 'pltp', 'zfp37', 'nrg1', 'brk1', 'clspn', 'gdi2', 'pkd2l1', 'mecom', 'smim7', 'npy1r', 'cep57', 'lmo2', 'pcdh1', 'larp6', 'map2k7', 'pum2', 'or10h1', 'tbl1xr1', 'vapb', 'g6pd', 'perm1', 'lrrc61', 'inmt', 'or4k5', 'neurl1b', 'sp5', 'smarcal1', 'krt8', 'znf285', 'zfp64', 'mpl', 'vwce', 'vwa8', 'pex1', 'krtap4-2', 'slc30a10', 'elovl4', 'prtfdc1', 'ptprn', 'utp3', 'ercc1', 'fam83b', 'ogg1', 'mgat4c', 'fam110b', 'tjap1', 'hexim2', 'pvrig', 'pnliprp3', 'mul1', 'c3orf85', 'cdc25b', 'eif2ak4', 'itpkb', 'kif2a', 'rec114', 'slitrk4', 'dennd6b', 'abraxas2', 'asz1', 'cep44', 'dlx3', 'c12orf71', 'eif2b3', 'hdac8', 'prob1', 'kpnb1', 'nsf', 'abhd2', 'mars2', 'cdkn1a', 'eif5b', 'abcd2', 'prr7', 'dennd1a', 'dhrs4', 'bhlha9', 'chd3', 'ldb2', 'glb1', 'ptk6', 'abat', 'gps1', 'or4c11', 'bicc1', 'cnrip1', 'vamp1', 'znf689', 'polr3c', 'postn', 'lamtor4', 'ube2k', 'cdc42bpg', 'scamp4', 'slc25a11', 'cox6c', 'zbtb40', 'tdp1', 'usp40', 'or6c65', 'pik3cb', 'eya4', 'or5t3', 'gpr32', 'ppp1r17', 'ahcy', 'six4', 'lats2', 'vsig1', 'plekhn1', 'zc3hc1', 'plbd1', 'sp110', 'dpt', 'map10', 'sgms1', 'fcrl4', 'acyp2', 'ice2', 'cldn9', 'cd47', 'eda2r', 'tanc1', 'tspan6', 'mocos', 'fbxl4', 'neurog3', 'ctdp1', 'smim13', 'abhd18', 'pak1ip1', 'dapk2', 'defa4', 'arsd', 'pcgf6', 'znf821', 'p2ry10', 'fmnl2', 'iqcd', 'fam124b', 'hmgcll1', 'sectm1', 'hoxa9', 'c7orf33', 'hoxc9', 'pigv', 'znf880', 'dazap2', 'ppp1r32', 'dcaf12l1', 'six2', 'ccn1', 'ankrd62', 'ccdc115', 'chmp3', 'sh3bgrl3', 'rbak', 'or4f4', 'cul9', 'adamts20', 'rnase11', 'rnase6', 'gtse1', 'muc17', 'pgs1', 'c2orf76', 'c12orf56', 'fahd1', 'rbp7', 'ints11', 'ttc22', 'tm4sf18', 'gzmb', 'naa35', 'znf550', 'gpaa1', 'snrpe', 'pde3a', 'fpgt', 'gnpda2', 'dnah14', 'krtap5-3', 'tnfsf13b', 'traf7', 'inpp5b', 'krtap9-7', 'nthl1', 'ptafr', 'smim36', 'psma5', 'mfsd4a', 'cd163', 'spegnb', 'slc24a2', 'srsf3', 'zbtb10', 'dnajc15', 'c1qb', 'dnaja1', 'gfra3', 'rbm4b', 'cfap300', 'fezf1', 'fxr1', 'gcm2', 'or4d2', 'pappa2', 'trim61', 'znf780b', 'hmga1', 'prx', 'slamf7', 'kiaa0895', 'smim12', 'znf83', 'ficd', 'relch', 'snai3', 'mblac2', 'sf3b3', 'vps37a', 'acp4', 'cd300lf', 'npipb15', 'siae', 'arid5a', 'cpe', 'ankrd7', 'cnpy3', 'best4', 'slc35a2', 'serpina4', 'mapre3', 'or51c1p', 'gtf3c4', 'habp4', 'mpped1', 'arhgef4', 'hfm1', 'icam3', 's100a4', 'pik3r6', 'wdr53', 'zbed8', 'clcn1', 'bri3', 'dgki', 'rif1', 'tjp1', 'kri1', 'rhce', 'znf345', 'slc29a4', 'c1orf122', 'atf5', 'hrg', 'kdm5c', 'nes', 'stx16', 'arnt', 'nip7', 'cyp4f12', 'sema4d', 'ccdc40', 'pkp2', 'rbm26', 'cxorf58', 'dnm3', 'rpn1', 'emilin3', 'hp1bp3', 'axl', 'txndc15', 'tcf4', 'ncoa5', 'tas2r7', 'mslnl', 'tspyl1', 'uqcrc2', 'ccndbp1', 'dnah5', 'fas', 'tnn', 'sgms2', 'ccl28', 'kif25', 'or51b6', 'agr2', 'cdkn2aip', 'tmem267', 'galnt7', 'rarb', 'acvr1c', 'amy2a', 'flvcr1', 'ranbp3l', 'taf1c', 'trip11', 'fdxacb1', 'muc2', 'wdr59', 'cd1d', 'asf1b', 'pcdhgb7', 'cntnap1', 'fut9', 'hhipl2', 'ppip5k2', 'rab15', 'slc22a7', 'spcs1', 'tmc6', 'acly', 'wnt3', 'galr3', 'runx1', 'tmem14b', 'bspry', 'calm2', 'lrrc74b', 'apol6', 'hacd4', 'sec14l4', 'znf112', 'fcrl3', 'depdc7', 'mospd1', 'c1qtnf1', 'gng11', 'ube3d', 'tunar', 'ctif', 'fsip2', 'cyp2b6', 'capn14', 'lbp', 'abca4', 'pnma6a', 'tmem129', 'znf75d', 'has3', 'prkar2a', 'ttc36', 'mdh1b', 'nsmce3', 'pwwp2a', 'rtn4', 'dop1a', 'wrnip1', 'zc3h13', 'tprg1l', 'ank3', 'aadacl3', 'tgfbrap1', 'tbccd1', 'hus1', 'ttll1', 'ap1g1', 'lipj', 'hdac3', 'ano5', 'tkfc', 'rexo4', 'arl6', 'cdc26', 'apex2', 'cetn2', 'got1', 'kdm4c', 'setdb2', 'thsd4', 'tomm22', 'ifna21', 'wwc1', 'eif4b', 'pxn', 'znf148', 'smoc1', 'tmem98', 'mcf2l', 's1pr5', 'foxr2', 'lix1l', 'pdlim1', 'fgfbp1', 'gja9', 'lrrc14b', 'mau2', 'ankrd61', 'ccl22', 'dtx3l', 'slc39a10', 'rbp1', 'krtap10-5', 'lilra1', 'zmym3', 'nedd4', 'fbxo48', 'ankdd1a', 'zmat5', 'ddr1', 'fryl', 'crygb', 'itga4', 'inpp4b', 'mcm8', 'fam185a', 'bpifa2', 'ano6', 'tmed10', 'crocc', 'zyg11a', 'adam18', 'kif3c', 'eno2', 'anxa4', 'lrrn4', 'ugt2b7', 'mtmr1', 'tmem170b', 'or51t1', 'dusp23', 'igsf5', 'crybb3', 'fer1l6', 'rtl8c', 'acta1', 'il20rb', 'card6', 'c2cd2l', 'trpv3', 'fam53c', 'selenoh', 'tas2r30', 'gadd45b', 'ms4a7', 'rbm6', 'tceal6', 'mrnip', 'med12', 'bpifb1', 'nlrc3', 'noto', 'fbxw8', 'tubd1', 'nmt2', 'slc13a5', 'gulp1', 'bdh1', 'asah1', 'ctsa', 'akap3', 'bcs1l', 'ms4a10', 'nhlrc3', 'nudcd1', 'sez6l', 'hspe1', 'med28', 'ccdc152', 'grifin', 'nlrp8', 'ptbp3', 'sgsm2', 'trh', 'rnf5', 'or6a2', 'znf292', 'ahrr', 'evi5', 'ptprs', 'atp10b', 'fbn3', 'ppp1r1c', 'wdr88', 'mien1', 'lcn12', 'pafah1b2', 'pnpla5', 'slbp', 'tbc1d1', 'cdc40', 'or9g4', 'cdhr1', 'obp2a', 'pcnx3', 'acvr1', 'ddx60l', 'ifih1', 'mdga1', 'egf', 'il20', 'rnasek', 'serinc3', 'mucl3', 'vps26c', 'il9', 'esrrb', 'ift57', 'cdk6', 'pex16', 'slc18a1', 'tmem243', 'dgka', 'tmem63c', 'col28a1', 'gmppb', 'znf860', 'creb3l1', 'rin3', 'ccdc12', 'col5a2', 'dis3l', 'cacng7', 'hcn1', 'ankrd13c', 'csf1', 'pkmyt1', 'ndufa9', 'ptk2', 'swt1', 'ackr2', 'katna1', 'mylk4', 'madcam1', 'cbl', 'marco', 'dnali1', 'arl6ip5', 'larp7', 'asl', 'pou2f3', 'foxred1', 'ppp1r3c', 'sav1', 'il10', 'irf2bp1', 'ncdn', 'gldn', 'pik3cg', 'thegl', 'gng12', 'sall3', 'tgfbr1', 'yes1', 'anks6', 'gpbp1', 'ube2v2', 'tor1b', 'aard', 'castor1', 'aar2', 'erh', 'or5d18', 'rtl4', 'klrg1', 'nipsnap3a', 'tut7', 'cyp2j2', 'gnb4', 'paqr8', 'brinp1', 'madd', 'zcrb1', 'igsf1', 'ppp6r2', 'tubb', 'bag6', 'kcnv2', 'desi2', 'agxt2', 'cldn24', 'hcn4', 'nphp3', 'syde1', 'ckap2', 'znf497', 'wfs1', 'syndig1', 'grik2', 'tlnrd1', 'ugt2b17', 'bcl2l10', 'pptc7', 'smarcc1', 'taf5', 'wdr76', 'id1', 'kynu', 'or4c15', 'eml5', 'rab11fip2', 'slc6a9', 'pibf1', 'dock3', 'spink9', 'tmed4', 'emx2', 'lpin3', 'xkr3', 'ammecr1l', 'gpr31', 'hsdl1', 'pramef6', 'lrrtm1', 'kremen1', 'crhr2', 'slc34a1', 'rorb', 'dgkq', 'ripply3', 'arhgap9', 'rpusd2', 'frmpd3', 'sall4', 'il7', 'cckar', 'prkab1', 'prox2', 'atp5me', 'hsd11b1', 'rbl2', 'mica', 'gbp7', 'pom121l2', 'cited2', 'impact', 'mt1a', 'ftmt', 'creld1', 'foxp2', 'prpf8', 'chadl', 'stard4', 'gon7', 'tc2n', 'sun2', 'cnpy2', 'fgfbp3', 'fads2', 'stradb', 'xpo1', 'coa8', 'sox9', 'klk5', 'ssr1', 'btbd9', 'ctxn2', 'rfpl2', 'tnfsf9', 'myl12a', 'gng14', 'skiv2l', 'srek1ip1', 'scarf1', 'irak4', 'tmem141', 'cpsf3', 'akr1c4', 'fdx2', 'col8a1', 'fibin', 'gdf10', 'krtap23-1', 'otof', 'tgfb1', 'tmem14c', 'defb124', 'lypd5', 'brat1', 'cyb5r1', 'snu13', 'twist1', 'ascl3', 'ces4a', 'chaf1b', 'or2aj1', 'bcl9', 'cpt1b', 'tbc1d4', 'stx8', 'styxl1', 'aasdhppt', 'nkain4', 'fam83e', 'scn3a', 'tnfaip8l3', 'pycr2', 'cldn22', 'zdhhc9', 'exosc6', 'mtbp', 'ankrd33', 'znf706', 'glp2r', 'fgf23', 'clk3', 'hspa13', 'pgbd1', 'vgf', 'nsun3', 'foxq1', 'shisal2a', 'nrn1l', 'duoxa1', 'ptprd', 'golga8r', 'heatr4', 'tbc1d28', 'tada1', 'zdhhc11b', 'ppp1r13l', 'rnf212b', 'tmem259', 'wdr49', 'znf136', 'tmed9', 'med23', 'nfkb2', 'rpn2', 'hvcn1', 'pik3c3', 'p3h3', 'pag1', 'cds2', 'gcc1', 'tmem161b', 'wnt2', 'ddx25', 'ptpru', 'srrm5', 'prox1', 'bend7', 'fabp3', 'marveld1', 'hmox1', 'nmb', 'arl5b', 'cyp27c1', 'cnpy4', 'reps1', 'recql', 'psmd9', 'draxin', 'las1l', 'or2t2', 'or4f6', 'nol11', 'cdca2', 'gjb7', 'cabyr', 'dnajc12', 'cast', 'rhebl1', 'sgcb', 'unc80', 'kdm6a', 'taf4b', 'bmi1', 'tmem240', 'etv6', 'c10orf71', 'folr1', 'znf222', 'rcor3', 'znf155', 'ccdc88c', 'dnaaf4', 'trim7', 'zbtb25', 'cdrt1', 'irf1', 'krtap1-1', 'c15orf61', 'pigw', 'tm6sf1', 'acvr2a', 'plscr4', 'sec22b', 'hmhb1', 'cpb1', 'hat1', 'tmprss11e', 'tpr', 'commd5', 'kcnab2', 'ric1', 'trmt1', 'cyp2c8', 'kcnu1', 'pcdhga7', 'camkk2', 'pdzk1', 'sts', 'aldh1a2', 'elp6', 'fmo1', 'ints2', 'kctd8', 'krtap19-1', 'lrrc30', 'rfx4', 'or6f1', 'slc19a3', 'atcay', 'fndc7', 'frem3', 'mkrn3', 'sorbs2', 'nyap1', 'pcdhb13', 'fam228b', 'sorbs1', 'tiprl', 'mss51', 'spink5', 'krt23', 'znf250', 'rasgef1b', 'patl2', 'tsc1', 'cdh19', 'atad3b', 'ddc', 'tex36', 'synj1', 'lama2', 'ppp2r2d', 'hmgn4', 'pde8b', 'sf3a2', 'hibadh', 'acsm5', 'hibch', 'gatad1', 'hnf4a', 'or8d4', 'copz2', 'ms4a5', 'cubn', 'igfl1', 'znf233', 'spdye6', 'tsga13', 'slitrk3', 'arfgap2', 'rtn4rl2', 'c16orf89', 'tial1', 'tmem88b', 'foxa1', 'det1', 'scn2b', 'appl1', 'ypel5', 'p3r3urf', 'ap3s2', 'hao2', 'spata2l', 'ankrd1', 'serpina1', 'cep170', 'or1l4', 'gabrq', 'pcna', 'pom121c', 'rabac1', 'tecta', 'muc5ac', 'ccdc188', 'scn9a', 'hoxd10', 'ube2j2', 'mfhas1', 'rab2a', 'shoc1', 'edf1', 'mgat4d', 'selenon', 'fam149a', 'amdhd1', 'lrig3', 'nmnat3', 'cenpo', 'mdga2', 'mindy1', 'sgcd', 'tas2r42', 'znf781', 'egr1', 'gusb', 'vil1', 'naprt', 'ptges2', 'serpine1', 'ppp1r35', 'smox', 'abhd17c', 'ttll8', 'amn', 'luc7l2', 'frrs1', 'ptar1', 'st7', 'nanos2', 'hectd4', 'dmtn', 'btbd11', 'sil1', 'plagl1', 'nup155', 'tp53bp2', 'immt', 'abhd5', 'fbxo7', 'echdc2', 'asrgl1', 'c1qtnf6', 'nrep', 'or6n1', 'crybg1', 'aqp1', 'rab11fip5', 'nfib', 'macrod2', 'nadk', 'rhoh', 'tab2', 'ca11', 'hspb7', 'ppp4r1', 'samd15', 'p2rx2', 'stac', 'znf16', 'iqub', 'smim41', 'ehhadh', 'emilin2', 'cebpz', 'psmb1', 'rmnd5a', 'phrf1', 'prpf3', 'abca13', 'ccr8', 'arc', 'urb1', 'gatad2a', 'znf333', 'znf394', 'dzip1l', 'ndufs8', 'msl2', 'tnni2', 'osgin2', 'nrxn2', 'tmprss11f', 'strc', 'nuggc', 'stac3', 'crebrf', 'icam4', 'rad21l1', 'foxe1', 'zfyve21', 'znf414', 'gnat1', 'ntrk1', 'clic6', 'col4a6', 'arrb2', 'slc45a3', 'afap1l1', 'btbd18', 'abcg5', 'ptgs1', 'pak4', 'zscan31', 'aph1a', 'uqcrfs1', 'atp6v0e2', 'cpeb4', 'popdc3', 'septin7', 'rnaseh2c', 'sertad4', 'usp15', 'ccdc117', 'sec16a', 'pcdhga1', 'isg20', 'asic5', 'mageb18', 'thada', 'rbm42', 'runx2', 'cck', 'ppm1g', 'caps2', 'hilpda', 'pdgfrb', 'map4k3', 'rsph9', 'dst', 'jmjd8', 'dtl', 'mfsd6l', 'sh3rf3', 'tuba3c', 'nrg2', 'med20', 'dnmt1', 'tsen54', 'slc25a23', 'caps', 'trim11', 'hhatl', 'znf324b', 'edn2', 'pcdhb8', 'pik3ca', 'klk9', 'slc3a1', 'hoxb6', 'zswim8', 'pdk4', 'derl2', 'arntl', 'atrn', 'gemin7', 'ninl', 'gpr149', 'slc37a4', 'cct6a', 'pik3r3', 'arx', 'c4b', 'exoc3l1', 'nps', 'c1orf158', 'ggh', 'poc1a', 'znf236', 'def8', 'snapc1', 'unk', 'c3orf18', 'musk', 'mas1l', 'dlgap4', 'pabpc3', 'or13d1', 'lrrc17', 'tspan10', 'svop', 'smurf2', 'itprid2', 'c9orf135', 'olfml2a', 'plekhg3', 'mymx', 'txndc16', 'spata4', 'map3k2', 'mycl', 'nanp', 'dhfr2', 'rybp', 'fam81a', 'leprotl1', 'pex19', 'satb2', 'hook3', 'smg5', 'mcoln3', 'cdkn2b', 'cfap47', 'dohh', 'naaladl1', 'pds5b', 'zranb1', 'or8j3', 'romo1', 'baiap2l2', 'galnt15', 'prdm9', 'bmp8b', 'ciita', 'cops8', 'smim17', 'vn1r1', 'ralyl', 'xbp1', 'atp6v1f', 'hs3st6', 'coro1a', 'dbn1', 'dcaf15', 'trerf1', 'rfxap', 'c4orf51', 'lin9', 'rassf2', 'olr1', 'prss45p', 'ide', 'ptpre', 'zbtb42', 'lsmem1', 'anapc7', 'elovl7', 'pbk', 'selenos', 'cd200r1l', 'rnf213', 'gcm1', 'bicra', 'krt9', 'vipr1', 'ifit5', 'rbfa', 'adamts15', 'garnl3', 'znf587', 'rpf2', 'crhr1', 'vsnl1', 'cr1l', 'cttn', 'trarg1', 'c9orf16', 'znf717', 'celsr3', 'eif4ebp2', 'ptpn23', 'prdx2', 'slc6a4', 'chrna9', 'dcaf8', 'arhgap26', 'cyp4v2', 'gnmt', 'tmem19', 'rasa2', 'hunk', 'or8k3', 'snx12', 'kazald1', 'cdcp1', 'hdx', 'klhl17', 'tmem223', 'fam214a', 'nt5c1b', 'arf3', 'hs3st5', 'plk3', 'lsm8', 'dnah9', 'map7d2', 'ephb4', 'sprr2e', 'senp8', 'csnk2b', 'dnah11', 'eps15l1', 'nle1', 'pdha2', 'morn5', 'stk32c', 'or1s1', 'skida1', 'lix1', 'exosc4', 'reep5', 'dcp2', 'map3k5', 'cntln', 'mif', 'cenpa', 'laptm4a', 'trappc2l'}\n"
     ]
    },
    {
     "data": {
      "text/plain": [
       "{'aars',\n",
       " 'ac004593.3',\n",
       " 'ac005551.1',\n",
       " 'ac007244.1',\n",
       " 'ac007906.2',\n",
       " 'ac008397.1',\n",
       " 'ac008687.4',\n",
       " 'ac010255.3',\n",
       " 'ac010325.1',\n",
       " 'ac011005.1',\n",
       " 'ac011195.2',\n",
       " 'ac013470.2',\n",
       " 'ac015871.1',\n",
       " 'ac021072.1',\n",
       " 'ac021097.2',\n",
       " 'ac025283.2',\n",
       " 'ac025287.4',\n",
       " 'ac067752.1',\n",
       " 'ac072022.2',\n",
       " 'ac073111.4',\n",
       " 'ac087498.1',\n",
       " 'ac090360.1',\n",
       " 'ac091057.6',\n",
       " 'ac092835.1',\n",
       " 'ac093323.1',\n",
       " 'ac099489.1',\n",
       " 'ac104389.5',\n",
       " 'ac106774.4',\n",
       " 'ac113348.1',\n",
       " 'ac115220.1',\n",
       " 'ac118549.1',\n",
       " 'ac119396.1',\n",
       " 'ac132217.2',\n",
       " 'ac134684.8',\n",
       " 'ac135068.1',\n",
       " 'ac138647.1',\n",
       " 'ac187653.1',\n",
       " 'ac233723.1',\n",
       " 'ac236972.4',\n",
       " 'acpp',\n",
       " 'adprhl2',\n",
       " 'adss',\n",
       " 'adssl1',\n",
       " 'al032819.3',\n",
       " 'al109810.2',\n",
       " 'al121578.2',\n",
       " 'al135905.2',\n",
       " 'al160269.1',\n",
       " 'al162231.1',\n",
       " 'al162596.1',\n",
       " 'al353572.3',\n",
       " 'al354761.1',\n",
       " 'al391650.1',\n",
       " 'al445238.1',\n",
       " 'al451007.3',\n",
       " 'al590560.2',\n",
       " 'al603764.2',\n",
       " 'al772284.2',\n",
       " 'al845331.2',\n",
       " 'alg1l',\n",
       " 'ap000552.4',\n",
       " 'ap002495.1',\n",
       " 'arih2os',\n",
       " 'armc4',\n",
       " 'arse',\n",
       " 'atp5md',\n",
       " 'atp5mpl',\n",
       " 'atp6ap1l',\n",
       " 'b3gnt10',\n",
       " 'bhmg1',\n",
       " 'bx255925.3',\n",
       " 'bx276092.9',\n",
       " 'c10orf142',\n",
       " 'c10orf55',\n",
       " 'c11orf40',\n",
       " 'c11orf74',\n",
       " 'c11orf88',\n",
       " 'c12orf10',\n",
       " 'c12orf49',\n",
       " 'c12orf74',\n",
       " 'c12orf81',\n",
       " 'c14orf177',\n",
       " 'c15orf41',\n",
       " 'c16orf58',\n",
       " 'c17orf53',\n",
       " 'c19orf48',\n",
       " 'c19orf57',\n",
       " 'c1orf61',\n",
       " 'c2orf83',\n",
       " 'c2orf91',\n",
       " 'c3orf67',\n",
       " 'c5orf30',\n",
       " 'c5orf60',\n",
       " 'c5orf67',\n",
       " 'c6orf201',\n",
       " 'c6orf223',\n",
       " 'c7orf77',\n",
       " 'c9orf129',\n",
       " 'c9orf92',\n",
       " 'card16',\n",
       " 'card17',\n",
       " 'cars',\n",
       " 'casc1',\n",
       " 'casc4',\n",
       " 'castor3',\n",
       " 'ccdc114',\n",
       " 'ccdc140',\n",
       " 'ccdc151',\n",
       " 'ccdc155',\n",
       " 'ccdc36',\n",
       " 'ccdc39',\n",
       " 'ccdc84',\n",
       " 'cd3eap',\n",
       " 'cenpbd1',\n",
       " 'cllu1os',\n",
       " 'cntd2',\n",
       " 'ct62',\n",
       " 'cxorf21',\n",
       " 'cxorf40a',\n",
       " 'cxorf56',\n",
       " 'cyb561d2',\n",
       " 'dars',\n",
       " 'dec1',\n",
       " 'defb133',\n",
       " 'dirc1',\n",
       " 'dock8-as1',\n",
       " 'dupd1',\n",
       " 'dusp27',\n",
       " 'elfn2',\n",
       " 'elmsan1',\n",
       " 'eloa3',\n",
       " 'eprs',\n",
       " 'fam122a',\n",
       " 'fam122b',\n",
       " 'fam122c',\n",
       " 'fam169b',\n",
       " 'fam192a',\n",
       " 'fam218a',\n",
       " 'fam30a',\n",
       " 'fam49a',\n",
       " 'fam49b',\n",
       " 'fam92b',\n",
       " 'fgfr1op',\n",
       " 'fopnl',\n",
       " 'fp565260.1',\n",
       " 'g6pc',\n",
       " 'gars',\n",
       " 'gcsaml-as1',\n",
       " 'gdf5os',\n",
       " 'glra4',\n",
       " 'golga8m',\n",
       " 'grasp',\n",
       " 'h1f0',\n",
       " 'h1fnt',\n",
       " 'h1foo',\n",
       " 'h1fx',\n",
       " 'h2afj',\n",
       " 'h2afx',\n",
       " 'h2afy',\n",
       " 'h2afy2',\n",
       " 'h2afz',\n",
       " 'h2bfm',\n",
       " 'h2bfwt',\n",
       " 'h3.y',\n",
       " 'h3f3a',\n",
       " 'h3f3b',\n",
       " 'h3f3c',\n",
       " 'hars',\n",
       " 'hhla3',\n",
       " 'hist1h1a',\n",
       " 'hist1h1b',\n",
       " 'hist1h1c',\n",
       " 'hist1h1d',\n",
       " 'hist1h1e',\n",
       " 'hist1h2aa',\n",
       " 'hist1h2ac',\n",
       " 'hist1h2ae',\n",
       " 'hist1h2ag',\n",
       " 'hist1h2ai',\n",
       " 'hist1h2ak',\n",
       " 'hist1h2ba',\n",
       " 'hist1h2bb',\n",
       " 'hist1h2bg',\n",
       " 'hist1h2bh',\n",
       " 'hist1h2bn',\n",
       " 'hist1h3e',\n",
       " 'hist1h3g',\n",
       " 'hist1h3h',\n",
       " 'hist1h4b',\n",
       " 'hist1h4c',\n",
       " 'hist1h4e',\n",
       " 'hist1h4g',\n",
       " 'hist1h4i',\n",
       " 'hist1h4j',\n",
       " 'hist2h2be',\n",
       " 'hist3h2a',\n",
       " 'hist3h2bb',\n",
       " 'hist3h3',\n",
       " 'hist4h4',\n",
       " 'hypm',\n",
       " 'iars',\n",
       " 'ick',\n",
       " 'igha1',\n",
       " 'igha2',\n",
       " 'ighd',\n",
       " 'ighe',\n",
       " 'ighg1',\n",
       " 'ighg3',\n",
       " 'ighm',\n",
       " 'igkc',\n",
       " 'iglc1',\n",
       " 'iglc7',\n",
       " 'impad1',\n",
       " 'kars',\n",
       " 'kiaa0355',\n",
       " 'kiaa0556',\n",
       " 'kiaa1211',\n",
       " 'kiaa1211l',\n",
       " 'kiaa1257',\n",
       " 'kiaa1324',\n",
       " 'kiaa1324l',\n",
       " 'kif1bp',\n",
       " 'lars',\n",
       " 'linc02693',\n",
       " 'linc02694',\n",
       " 'lor',\n",
       " 'lrmp',\n",
       " 'lrp5l',\n",
       " 'lrrc29',\n",
       " 'maats1',\n",
       " 'marc1',\n",
       " 'marc2',\n",
       " 'march1',\n",
       " 'march10',\n",
       " 'march11',\n",
       " 'march2',\n",
       " 'march3',\n",
       " 'march4',\n",
       " 'march5',\n",
       " 'march6',\n",
       " 'march7',\n",
       " 'march8',\n",
       " 'march9',\n",
       " 'mars',\n",
       " 'mir1915hg',\n",
       " 'mrvi1',\n",
       " 'mycnos',\n",
       " 'nars',\n",
       " 'nxf5',\n",
       " 'or5r1',\n",
       " 'palm2-akap2',\n",
       " 'pano1',\n",
       " 'pde11a',\n",
       " 'pih1d3',\n",
       " 'pinx1',\n",
       " 'polr2j3',\n",
       " 'ppp5d1',\n",
       " 'prky',\n",
       " 'qars',\n",
       " 'rars',\n",
       " 'rgs5',\n",
       " 'sars',\n",
       " 'sfta3',\n",
       " 'siglec5',\n",
       " 'slc26a10',\n",
       " 'slc66a1l',\n",
       " 'slfn12l',\n",
       " 'snhg32',\n",
       " 'spata13',\n",
       " 'spata8',\n",
       " 'spert',\n",
       " 'sspo',\n",
       " 'st5',\n",
       " 'tars',\n",
       " 'tarsl2',\n",
       " 'tbce',\n",
       " 'tcte3',\n",
       " 'tctex1d1',\n",
       " 'tctex1d2',\n",
       " 'tctex1d4',\n",
       " 'terc',\n",
       " 'tmem155',\n",
       " 'tmem173',\n",
       " 'tmem189',\n",
       " 'tmem246',\n",
       " 'tmem8a',\n",
       " 'tmem99',\n",
       " 'tmsb15b',\n",
       " 'trac',\n",
       " 'trbc1',\n",
       " 'trbc2',\n",
       " 'trdc',\n",
       " 'trgc1',\n",
       " 'trgc2',\n",
       " 'trgjp1',\n",
       " 'trgjp2',\n",
       " 'trim16l',\n",
       " 'tsta3',\n",
       " 'ttc25',\n",
       " 'twistnb',\n",
       " 'vars',\n",
       " 'wars',\n",
       " 'wdr34',\n",
       " 'wdr60',\n",
       " 'wdr63',\n",
       " 'wdr66',\n",
       " 'wdr78',\n",
       " 'wdyhv1',\n",
       " 'yars',\n",
       " 'z82206.1',\n",
       " 'znf883',\n",
       " 'znrd1'}"
      ]
     },
     "execution_count": 4,
     "metadata": {},
     "output_type": "execute_result"
    }
   ],
   "source": [
    "# 将所有基因名称转换为小写\n",
    "all_genes_lower = [gene.lower() for gene in all_genes]\n",
    "adata_genes_lower = [gene.lower() for gene in existing_genes]\n",
    "\n",
    "# 将两个列表转换为集合\n",
    "all_genes_set = set(all_genes_lower)\n",
    "adata_genes_set = set(adata_genes_lower)\n",
    "\n",
    "# 计算交集\n",
    "matching_genes = all_genes_set.intersection(adata_genes_set)\n",
    "matching_count = len(matching_genes)\n",
    "# 计算不匹配的基因\n",
    "non_matching_genes = adata_genes_set - matching_genes\n",
    "non_matching_count = len(non_matching_genes)\n",
    "\n",
    "\n",
    "# 输出结果\n",
    "print(f\"匹配的基因数量: {matching_count}\")\n",
    "print(f\"匹配的基因列表: {matching_genes}\")\n",
    "non_matching_genes"
   ]
  },
  {
   "cell_type": "code",
   "execution_count": 5,
   "metadata": {
    "execution": {
     "iopub.execute_input": "2025-04-12T07:47:31.761906Z",
     "iopub.status.busy": "2025-04-12T07:47:31.761591Z",
     "iopub.status.idle": "2025-04-12T07:48:36.666654Z",
     "shell.execute_reply": "2025-04-12T07:48:36.666009Z"
    }
   },
   "outputs": [
    {
     "name": "stdout",
     "output_type": "stream",
     "text": [
      "Gene fam49a not found in all_genes list\n",
      "Gene kars not found in all_genes list\n",
      "Gene lars not found in all_genes list\n"
     ]
    },
    {
     "name": "stdout",
     "output_type": "stream",
     "text": [
      "Gene nars not found in all_genes list\n",
      "Gene polr2j3 not found in all_genes list\n",
      "Gene qars not found in all_genes list\n"
     ]
    },
    {
     "name": "stdout",
     "output_type": "stream",
     "text": [
      "Gene trac not found in all_genes list\n",
      "Gene wars not found in all_genes list\n",
      "Gene aars not found in all_genes list\n"
     ]
    },
    {
     "name": "stdout",
     "output_type": "stream",
     "text": [
      "Gene ac004593.3 not found in all_genes list\n",
      "Gene ac005551.1 not found in all_genes list\n",
      "Gene ac007244.1 not found in all_genes list\n",
      "Gene ac007906.2 not found in all_genes list\n",
      "Gene ac008397.1 not found in all_genes list\n",
      "Gene ac008687.4 not found in all_genes list\n",
      "Gene ac010255.3 not found in all_genes list\n",
      "Gene ac010325.1 not found in all_genes list\n",
      "Gene ac011005.1 not found in all_genes list\n",
      "Gene ac011195.2 not found in all_genes list\n",
      "Gene ac013470.2 not found in all_genes list\n",
      "Gene ac015871.1 not found in all_genes list\n",
      "Gene ac021072.1 not found in all_genes list\n",
      "Gene ac021097.2 not found in all_genes list\n",
      "Gene ac025283.2 not found in all_genes list\n",
      "Gene ac025287.4 not found in all_genes list\n",
      "Gene ac067752.1 not found in all_genes list\n",
      "Gene ac072022.2 not found in all_genes list\n",
      "Gene ac073111.4 not found in all_genes list\n",
      "Gene ac087498.1 not found in all_genes list\n",
      "Gene ac090360.1 not found in all_genes list\n",
      "Gene ac091057.6 not found in all_genes list\n",
      "Gene ac092835.1 not found in all_genes list\n",
      "Gene ac093323.1 not found in all_genes list\n",
      "Gene ac099489.1 not found in all_genes list\n",
      "Gene ac104389.5 not found in all_genes list\n",
      "Gene ac106774.4 not found in all_genes list\n",
      "Gene ac113348.1 not found in all_genes list\n",
      "Gene ac115220.1 not found in all_genes list\n",
      "Gene ac118549.1 not found in all_genes list\n",
      "Gene ac119396.1 not found in all_genes list\n",
      "Gene ac132217.2 not found in all_genes list\n",
      "Gene ac134684.8 not found in all_genes list\n",
      "Gene ac135068.1 not found in all_genes list\n",
      "Gene ac138647.1 not found in all_genes list\n",
      "Gene ac187653.1 not found in all_genes list\n",
      "Gene ac233723.1 not found in all_genes list\n",
      "Gene ac236972.4 not found in all_genes list\n"
     ]
    },
    {
     "name": "stdout",
     "output_type": "stream",
     "text": [
      "Gene acpp not found in all_genes list\n"
     ]
    },
    {
     "name": "stdout",
     "output_type": "stream",
     "text": [
      "Gene adprhl2 not found in all_genes list\n",
      "Gene adss not found in all_genes list\n",
      "Gene adssl1 not found in all_genes list\n"
     ]
    },
    {
     "name": "stdout",
     "output_type": "stream",
     "text": [
      "Gene al032819.3 not found in all_genes list\n",
      "Gene al109810.2 not found in all_genes list\n",
      "Gene al121578.2 not found in all_genes list\n",
      "Gene al135905.2 not found in all_genes list\n",
      "Gene al160269.1 not found in all_genes list\n",
      "Gene al162231.1 not found in all_genes list\n",
      "Gene al162596.1 not found in all_genes list\n",
      "Gene al353572.3 not found in all_genes list\n",
      "Gene al354761.1 not found in all_genes list\n",
      "Gene al391650.1 not found in all_genes list\n",
      "Gene al445238.1 not found in all_genes list\n",
      "Gene al451007.3 not found in all_genes list\n",
      "Gene al590560.2 not found in all_genes list\n",
      "Gene al603764.2 not found in all_genes list\n",
      "Gene al772284.2 not found in all_genes list\n",
      "Gene al845331.2 not found in all_genes list\n",
      "Gene alg1l not found in all_genes list\n"
     ]
    },
    {
     "name": "stdout",
     "output_type": "stream",
     "text": [
      "Gene ap000552.4 not found in all_genes list\n",
      "Gene ap002495.1 not found in all_genes list\n"
     ]
    },
    {
     "name": "stdout",
     "output_type": "stream",
     "text": [
      "Gene arih2os not found in all_genes list\n",
      "Gene armc4 not found in all_genes list\n"
     ]
    },
    {
     "name": "stdout",
     "output_type": "stream",
     "text": [
      "Gene arse not found in all_genes list\n"
     ]
    },
    {
     "name": "stdout",
     "output_type": "stream",
     "text": [
      "Gene atp5md not found in all_genes list\n",
      "Gene atp5mpl not found in all_genes list\n",
      "Gene atp6ap1l not found in all_genes list\n"
     ]
    },
    {
     "name": "stdout",
     "output_type": "stream",
     "text": [
      "Gene b3gnt10 not found in all_genes list\n"
     ]
    },
    {
     "name": "stdout",
     "output_type": "stream",
     "text": [
      "Gene bhmg1 not found in all_genes list\n"
     ]
    },
    {
     "name": "stdout",
     "output_type": "stream",
     "text": [
      "Gene bx255925.3 not found in all_genes list\n",
      "Gene bx276092.9 not found in all_genes list\n",
      "Gene c10orf142 not found in all_genes list\n",
      "Gene c10orf55 not found in all_genes list\n",
      "Gene c11orf40 not found in all_genes list\n",
      "Gene c11orf74 not found in all_genes list\n",
      "Gene c11orf88 not found in all_genes list\n",
      "Gene c12orf10 not found in all_genes list\n",
      "Gene c12orf49 not found in all_genes list\n",
      "Gene c12orf74 not found in all_genes list\n",
      "Gene c12orf81 not found in all_genes list\n",
      "Gene c14orf177 not found in all_genes list\n",
      "Gene c15orf41 not found in all_genes list\n"
     ]
    },
    {
     "name": "stdout",
     "output_type": "stream",
     "text": [
      "Gene c16orf58 not found in all_genes list\n",
      "Gene c17orf53 not found in all_genes list\n",
      "Gene c19orf48 not found in all_genes list\n",
      "Gene c19orf57 not found in all_genes list\n"
     ]
    },
    {
     "name": "stdout",
     "output_type": "stream",
     "text": [
      "Gene c1orf61 not found in all_genes list\n",
      "Gene c2orf83 not found in all_genes list\n",
      "Gene c2orf91 not found in all_genes list\n",
      "Gene c3orf67 not found in all_genes list\n"
     ]
    },
    {
     "name": "stdout",
     "output_type": "stream",
     "text": [
      "Gene c5orf30 not found in all_genes list\n",
      "Gene c5orf60 not found in all_genes list\n",
      "Gene c5orf67 not found in all_genes list\n",
      "Gene c6orf201 not found in all_genes list\n",
      "Gene c6orf223 not found in all_genes list\n",
      "Gene c7orf77 not found in all_genes list\n",
      "Gene c9orf129 not found in all_genes list\n",
      "Gene c9orf92 not found in all_genes list\n"
     ]
    },
    {
     "name": "stdout",
     "output_type": "stream",
     "text": [
      "Gene card16 not found in all_genes list\n",
      "Gene card17 not found in all_genes list\n",
      "Gene cars not found in all_genes list\n",
      "Gene casc1 not found in all_genes list\n",
      "Gene casc4 not found in all_genes list\n",
      "Gene castor3 not found in all_genes list\n"
     ]
    },
    {
     "name": "stdout",
     "output_type": "stream",
     "text": [
      "Gene ccdc114 not found in all_genes list\n",
      "Gene ccdc140 not found in all_genes list\n",
      "Gene ccdc151 not found in all_genes list\n",
      "Gene ccdc155 not found in all_genes list\n"
     ]
    },
    {
     "name": "stdout",
     "output_type": "stream",
     "text": [
      "Gene ccdc36 not found in all_genes list\n",
      "Gene ccdc39 not found in all_genes list\n",
      "Gene ccdc84 not found in all_genes list\n"
     ]
    },
    {
     "name": "stdout",
     "output_type": "stream",
     "text": [
      "Gene cd3eap not found in all_genes list\n"
     ]
    },
    {
     "name": "stdout",
     "output_type": "stream",
     "text": [
      "Gene cenpbd1 not found in all_genes list\n"
     ]
    },
    {
     "name": "stdout",
     "output_type": "stream",
     "text": [
      "Gene cllu1os not found in all_genes list\n"
     ]
    },
    {
     "name": "stdout",
     "output_type": "stream",
     "text": [
      "Gene cntd2 not found in all_genes list\n"
     ]
    },
    {
     "name": "stdout",
     "output_type": "stream",
     "text": [
      "Gene ct62 not found in all_genes list\n"
     ]
    },
    {
     "name": "stdout",
     "output_type": "stream",
     "text": [
      "Gene cxorf21 not found in all_genes list\n",
      "Gene cxorf40a not found in all_genes list\n",
      "Gene cxorf56 not found in all_genes list\n",
      "Gene cyb561d2 not found in all_genes list\n"
     ]
    },
    {
     "name": "stdout",
     "output_type": "stream",
     "text": [
      "Gene dars not found in all_genes list\n"
     ]
    },
    {
     "name": "stdout",
     "output_type": "stream",
     "text": [
      "Gene dec1 not found in all_genes list\n",
      "Gene defb133 not found in all_genes list\n"
     ]
    },
    {
     "name": "stdout",
     "output_type": "stream",
     "text": [
      "Gene dirc1 not found in all_genes list\n"
     ]
    },
    {
     "name": "stdout",
     "output_type": "stream",
     "text": [
      "Gene dock8-as1 not found in all_genes list\n"
     ]
    },
    {
     "name": "stdout",
     "output_type": "stream",
     "text": [
      "Gene dupd1 not found in all_genes list\n",
      "Gene dusp27 not found in all_genes list\n"
     ]
    },
    {
     "name": "stdout",
     "output_type": "stream",
     "text": [
      "Gene elfn2 not found in all_genes list\n",
      "Gene elmsan1 not found in all_genes list\n",
      "Gene eloa3 not found in all_genes list\n"
     ]
    },
    {
     "name": "stdout",
     "output_type": "stream",
     "text": [
      "Gene eprs not found in all_genes list\n"
     ]
    },
    {
     "name": "stdout",
     "output_type": "stream",
     "text": [
      "Gene fam122a not found in all_genes list\n",
      "Gene fam122b not found in all_genes list\n",
      "Gene fam122c not found in all_genes list\n",
      "Gene fam169b not found in all_genes list\n"
     ]
    },
    {
     "name": "stdout",
     "output_type": "stream",
     "text": [
      "Gene fam192a not found in all_genes list\n",
      "Gene fam218a not found in all_genes list\n",
      "Gene fam30a not found in all_genes list\n",
      "Gene fam49b not found in all_genes list\n"
     ]
    },
    {
     "name": "stdout",
     "output_type": "stream",
     "text": [
      "Gene fam92b not found in all_genes list\n"
     ]
    },
    {
     "name": "stdout",
     "output_type": "stream",
     "text": [
      "Gene fgfr1op not found in all_genes list\n"
     ]
    },
    {
     "name": "stdout",
     "output_type": "stream",
     "text": [
      "Gene fopnl not found in all_genes list\n",
      "Gene fp565260.1 not found in all_genes list\n"
     ]
    },
    {
     "name": "stdout",
     "output_type": "stream",
     "text": [
      "Gene g6pc not found in all_genes list\n"
     ]
    },
    {
     "name": "stdout",
     "output_type": "stream",
     "text": [
      "Gene gars not found in all_genes list\n"
     ]
    },
    {
     "name": "stdout",
     "output_type": "stream",
     "text": [
      "Gene gcsaml-as1 not found in all_genes list\n",
      "Gene gdf5os not found in all_genes list\n"
     ]
    },
    {
     "name": "stdout",
     "output_type": "stream",
     "text": [
      "Gene glra4 not found in all_genes list\n"
     ]
    },
    {
     "name": "stdout",
     "output_type": "stream",
     "text": [
      "Gene golga8m not found in all_genes list\n"
     ]
    },
    {
     "name": "stdout",
     "output_type": "stream",
     "text": [
      "Gene grasp not found in all_genes list\n"
     ]
    },
    {
     "name": "stdout",
     "output_type": "stream",
     "text": [
      "Gene h1f0 not found in all_genes list\n",
      "Gene h1fnt not found in all_genes list\n",
      "Gene h1foo not found in all_genes list\n",
      "Gene h1fx not found in all_genes list\n",
      "Gene h2afj not found in all_genes list\n",
      "Gene h2afx not found in all_genes list\n",
      "Gene h2afy not found in all_genes list\n",
      "Gene h2afy2 not found in all_genes list\n",
      "Gene h2afz not found in all_genes list\n",
      "Gene h2bfm not found in all_genes list\n",
      "Gene h2bfwt not found in all_genes list\n",
      "Gene h3.y not found in all_genes list\n",
      "Gene h3f3a not found in all_genes list\n",
      "Gene h3f3b not found in all_genes list\n",
      "Gene h3f3c not found in all_genes list\n",
      "Gene hars not found in all_genes list\n"
     ]
    },
    {
     "name": "stdout",
     "output_type": "stream",
     "text": [
      "Gene hhla3 not found in all_genes list\n",
      "Gene hist1h1a not found in all_genes list\n",
      "Gene hist1h1b not found in all_genes list\n",
      "Gene hist1h1c not found in all_genes list\n",
      "Gene hist1h1d not found in all_genes list\n",
      "Gene hist1h1e not found in all_genes list\n",
      "Gene hist1h2aa not found in all_genes list\n",
      "Gene hist1h2ac not found in all_genes list\n",
      "Gene hist1h2ae not found in all_genes list\n",
      "Gene hist1h2ag not found in all_genes list\n",
      "Gene hist1h2ai not found in all_genes list\n",
      "Gene hist1h2ak not found in all_genes list\n",
      "Gene hist1h2ba not found in all_genes list\n",
      "Gene hist1h2bb not found in all_genes list\n",
      "Gene hist1h2bg not found in all_genes list\n",
      "Gene hist1h2bh not found in all_genes list\n",
      "Gene hist1h2bn not found in all_genes list\n",
      "Gene hist1h3e not found in all_genes list\n",
      "Gene hist1h3g not found in all_genes list\n",
      "Gene hist1h3h not found in all_genes list\n",
      "Gene hist1h4b not found in all_genes list\n",
      "Gene hist1h4c not found in all_genes list\n",
      "Gene hist1h4e not found in all_genes list\n",
      "Gene hist1h4g not found in all_genes list\n",
      "Gene hist1h4i not found in all_genes list\n",
      "Gene hist1h4j not found in all_genes list\n",
      "Gene hist2h2be not found in all_genes list\n",
      "Gene hist3h2a not found in all_genes list\n",
      "Gene hist3h2bb not found in all_genes list\n",
      "Gene hist3h3 not found in all_genes list\n",
      "Gene hist4h4 not found in all_genes list\n"
     ]
    },
    {
     "name": "stdout",
     "output_type": "stream",
     "text": [
      "Gene hypm not found in all_genes list\n",
      "Gene iars not found in all_genes list\n",
      "Gene ick not found in all_genes list\n"
     ]
    },
    {
     "name": "stdout",
     "output_type": "stream",
     "text": [
      "Gene igha1 not found in all_genes list\n",
      "Gene igha2 not found in all_genes list\n",
      "Gene ighd not found in all_genes list\n",
      "Gene ighe not found in all_genes list\n",
      "Gene ighg1 not found in all_genes list\n",
      "Gene ighg3 not found in all_genes list\n",
      "Gene ighm not found in all_genes list\n",
      "Gene igkc not found in all_genes list\n",
      "Gene iglc1 not found in all_genes list\n",
      "Gene iglc7 not found in all_genes list\n"
     ]
    },
    {
     "name": "stdout",
     "output_type": "stream",
     "text": [
      "Gene impad1 not found in all_genes list\n"
     ]
    },
    {
     "name": "stdout",
     "output_type": "stream",
     "text": [
      "Gene kiaa0355 not found in all_genes list\n",
      "Gene kiaa0556 not found in all_genes list\n",
      "Gene kiaa1211 not found in all_genes list\n",
      "Gene kiaa1211l not found in all_genes list\n",
      "Gene kiaa1257 not found in all_genes list\n",
      "Gene kiaa1324 not found in all_genes list\n",
      "Gene kiaa1324l not found in all_genes list\n",
      "Gene kif1bp not found in all_genes list\n"
     ]
    },
    {
     "name": "stdout",
     "output_type": "stream",
     "text": [
      "Gene linc02693 not found in all_genes list\n",
      "Gene linc02694 not found in all_genes list\n"
     ]
    },
    {
     "name": "stdout",
     "output_type": "stream",
     "text": [
      "Gene lor not found in all_genes list\n",
      "Gene lrmp not found in all_genes list\n",
      "Gene lrp5l not found in all_genes list\n"
     ]
    },
    {
     "name": "stdout",
     "output_type": "stream",
     "text": [
      "Gene lrrc29 not found in all_genes list\n"
     ]
    },
    {
     "name": "stdout",
     "output_type": "stream",
     "text": [
      "Gene maats1 not found in all_genes list\n"
     ]
    },
    {
     "name": "stdout",
     "output_type": "stream",
     "text": [
      "Gene marc1 not found in all_genes list\n",
      "Gene marc2 not found in all_genes list\n",
      "Gene march1 not found in all_genes list\n",
      "Gene march10 not found in all_genes list\n",
      "Gene march11 not found in all_genes list\n",
      "Gene march2 not found in all_genes list\n",
      "Gene march3 not found in all_genes list\n",
      "Gene march4 not found in all_genes list\n",
      "Gene march5 not found in all_genes list\n",
      "Gene march6 not found in all_genes list\n",
      "Gene march7 not found in all_genes list\n",
      "Gene march8 not found in all_genes list\n",
      "Gene march9 not found in all_genes list\n",
      "Gene mars not found in all_genes list\n"
     ]
    },
    {
     "name": "stdout",
     "output_type": "stream",
     "text": [
      "Gene mir1915hg not found in all_genes list\n"
     ]
    },
    {
     "name": "stdout",
     "output_type": "stream",
     "text": [
      "Gene mrvi1 not found in all_genes list\n"
     ]
    },
    {
     "name": "stdout",
     "output_type": "stream",
     "text": [
      "Gene mycnos not found in all_genes list\n"
     ]
    },
    {
     "name": "stdout",
     "output_type": "stream",
     "text": [
      "Gene nxf5 not found in all_genes list\n"
     ]
    },
    {
     "name": "stdout",
     "output_type": "stream",
     "text": [
      "Gene or5r1 not found in all_genes list\n"
     ]
    },
    {
     "name": "stdout",
     "output_type": "stream",
     "text": [
      "Gene palm2-akap2 not found in all_genes list\n",
      "Gene pano1 not found in all_genes list\n"
     ]
    },
    {
     "name": "stdout",
     "output_type": "stream",
     "text": [
      "Gene pde11a not found in all_genes list\n"
     ]
    },
    {
     "name": "stdout",
     "output_type": "stream",
     "text": [
      "Gene pih1d3 not found in all_genes list\n",
      "Gene pinx1 not found in all_genes list\n"
     ]
    },
    {
     "name": "stdout",
     "output_type": "stream",
     "text": [
      "Gene ppp5d1 not found in all_genes list\n"
     ]
    },
    {
     "name": "stdout",
     "output_type": "stream",
     "text": [
      "Gene prky not found in all_genes list\n"
     ]
    },
    {
     "name": "stdout",
     "output_type": "stream",
     "text": [
      "Gene rars not found in all_genes list\n"
     ]
    },
    {
     "name": "stdout",
     "output_type": "stream",
     "text": [
      "Gene rgs5 not found in all_genes list\n"
     ]
    },
    {
     "name": "stdout",
     "output_type": "stream",
     "text": [
      "Gene sars not found in all_genes list\n"
     ]
    },
    {
     "name": "stdout",
     "output_type": "stream",
     "text": [
      "Gene sfta3 not found in all_genes list\n"
     ]
    },
    {
     "name": "stdout",
     "output_type": "stream",
     "text": [
      "Gene siglec5 not found in all_genes list\n"
     ]
    },
    {
     "name": "stdout",
     "output_type": "stream",
     "text": [
      "Gene slc26a10 not found in all_genes list\n"
     ]
    },
    {
     "name": "stdout",
     "output_type": "stream",
     "text": [
      "Gene slc66a1l not found in all_genes list\n"
     ]
    },
    {
     "name": "stdout",
     "output_type": "stream",
     "text": [
      "Gene slfn12l not found in all_genes list\n"
     ]
    },
    {
     "name": "stdout",
     "output_type": "stream",
     "text": [
      "Gene snhg32 not found in all_genes list\n"
     ]
    },
    {
     "name": "stdout",
     "output_type": "stream",
     "text": [
      "Gene spata13 not found in all_genes list\n",
      "Gene spata8 not found in all_genes list\n",
      "Gene spert not found in all_genes list\n"
     ]
    },
    {
     "name": "stdout",
     "output_type": "stream",
     "text": [
      "Gene sspo not found in all_genes list\n",
      "Gene st5 not found in all_genes list\n"
     ]
    },
    {
     "name": "stdout",
     "output_type": "stream",
     "text": [
      "Gene tars not found in all_genes list\n",
      "Gene tarsl2 not found in all_genes list\n"
     ]
    },
    {
     "name": "stdout",
     "output_type": "stream",
     "text": [
      "Gene tbce not found in all_genes list\n"
     ]
    },
    {
     "name": "stdout",
     "output_type": "stream",
     "text": [
      "Gene tcte3 not found in all_genes list\n",
      "Gene tctex1d1 not found in all_genes list\n",
      "Gene tctex1d2 not found in all_genes list\n",
      "Gene tctex1d4 not found in all_genes list\n",
      "Gene terc not found in all_genes list\n"
     ]
    },
    {
     "name": "stdout",
     "output_type": "stream",
     "text": [
      "Gene tmem155 not found in all_genes list\n",
      "Gene tmem173 not found in all_genes list\n",
      "Gene tmem189 not found in all_genes list\n"
     ]
    },
    {
     "name": "stdout",
     "output_type": "stream",
     "text": [
      "Gene tmem246 not found in all_genes list\n"
     ]
    },
    {
     "name": "stdout",
     "output_type": "stream",
     "text": [
      "Gene tmem8a not found in all_genes list\n",
      "Gene tmem99 not found in all_genes list\n",
      "Gene tmsb15b not found in all_genes list\n"
     ]
    },
    {
     "name": "stdout",
     "output_type": "stream",
     "text": [
      "Gene trbc1 not found in all_genes list\n",
      "Gene trbc2 not found in all_genes list\n",
      "Gene trdc not found in all_genes list\n",
      "Gene trgc1 not found in all_genes list\n",
      "Gene trgc2 not found in all_genes list\n",
      "Gene trgjp1 not found in all_genes list\n",
      "Gene trgjp2 not found in all_genes list\n",
      "Gene trim16l not found in all_genes list\n"
     ]
    },
    {
     "name": "stdout",
     "output_type": "stream",
     "text": [
      "Gene tsta3 not found in all_genes list\n",
      "Gene ttc25 not found in all_genes list\n"
     ]
    },
    {
     "name": "stdout",
     "output_type": "stream",
     "text": [
      "Gene twistnb not found in all_genes list\n"
     ]
    },
    {
     "name": "stdout",
     "output_type": "stream",
     "text": [
      "Gene vars not found in all_genes list\n"
     ]
    },
    {
     "name": "stdout",
     "output_type": "stream",
     "text": [
      "Gene wdr34 not found in all_genes list\n",
      "Gene wdr60 not found in all_genes list\n",
      "Gene wdr63 not found in all_genes list\n",
      "Gene wdr66 not found in all_genes list\n",
      "Gene wdr78 not found in all_genes list\n",
      "Gene wdyhv1 not found in all_genes list\n"
     ]
    },
    {
     "name": "stdout",
     "output_type": "stream",
     "text": [
      "Gene yars not found in all_genes list\n",
      "Gene z82206.1 not found in all_genes list\n"
     ]
    },
    {
     "name": "stdout",
     "output_type": "stream",
     "text": [
      "Gene znf883 not found in all_genes list\n",
      "Gene znrd1 not found in all_genes list\n"
     ]
    }
   ],
   "source": [
    "gene_to_index = {gene: idx for idx, gene in enumerate(all_genes_lower)}\n",
    "dense_adata_X = adata.X\n",
    "for i, gene in enumerate(adata_genes_lower):\n",
    "    if gene in gene_to_index:\n",
    "        new_data[:, gene_to_index[gene]] = dense_adata_X[:, i]\n",
    "    else:\n",
    "        print(f'Gene {gene} not found in all_genes list')"
   ]
  },
  {
   "cell_type": "code",
   "execution_count": 6,
   "metadata": {
    "execution": {
     "iopub.execute_input": "2025-04-12T07:48:36.668557Z",
     "iopub.status.busy": "2025-04-12T07:48:36.668386Z",
     "iopub.status.idle": "2025-04-12T07:48:41.802784Z",
     "shell.execute_reply": "2025-04-12T07:48:41.802195Z"
    }
   },
   "outputs": [
    {
     "name": "stderr",
     "output_type": "stream",
     "text": [
      "GPU available: True (cuda), used: True\n"
     ]
    },
    {
     "name": "stderr",
     "output_type": "stream",
     "text": [
      "TPU available: False, using: 0 TPU cores\n"
     ]
    },
    {
     "name": "stderr",
     "output_type": "stream",
     "text": [
      "HPU available: False, using: 0 HPUs\n"
     ]
    }
   ],
   "source": [
    "# 使用 GPU 进行评估（如果可用）\n",
    "estim.trainer = pl.Trainer(accelerator=\"gpu\", devices=1 if torch.cuda.is_available() else None)\n",
    "\n",
    "# 5. 数据集划分（70% 训练，15% 验证，15% 测试）\n",
    "label_encoder = LabelEncoder()\n",
    "labels_encoded = label_encoder.fit_transform(adata.obs['cell_type'])  # 预先编码标签\n",
    "\n",
    "\n",
    "random_seed = 42\n",
    "\n",
    "X_train_val, X_test, y_train_val, y_test = train_test_split(\n",
    "    new_data, labels_encoded, test_size=0.15, random_state=random_seed)\n",
    "\n",
    "X_train, X_val, y_train, y_val = train_test_split(\n",
    "    X_train_val, y_train_val, test_size=0.1765, random_state=random_seed)  # 0.1765 是为了让验证集占 15%"
   ]
  },
  {
   "cell_type": "code",
   "execution_count": 7,
   "metadata": {
    "execution": {
     "iopub.execute_input": "2025-04-12T07:48:41.804442Z",
     "iopub.status.busy": "2025-04-12T07:48:41.804279Z",
     "iopub.status.idle": "2025-04-12T07:48:43.473838Z",
     "shell.execute_reply": "2025-04-12T07:48:43.473332Z"
    }
   },
   "outputs": [
    {
     "data": {
      "text/plain": [
       "MLPAutoEncoder(\n",
       "  (train_metrics): MetricCollection(\n",
       "    (explained_var_uniform): ExplainedVariance()\n",
       "    (explained_var_weighted): ExplainedVariance()\n",
       "    (mse): MeanSquaredError(),\n",
       "    prefix=train_\n",
       "  )\n",
       "  (val_metrics): MetricCollection(\n",
       "    (explained_var_uniform): ExplainedVariance()\n",
       "    (explained_var_weighted): ExplainedVariance()\n",
       "    (mse): MeanSquaredError(),\n",
       "    prefix=val_\n",
       "  )\n",
       "  (test_metrics): MetricCollection(\n",
       "    (explained_var_uniform): ExplainedVariance()\n",
       "    (explained_var_weighted): ExplainedVariance()\n",
       "    (mse): MeanSquaredError(),\n",
       "    prefix=test_\n",
       "  )\n",
       "  (encoder): MLP(\n",
       "    (0): Linear(in_features=19331, out_features=512, bias=True)\n",
       "    (1): SELU()\n",
       "    (2): Dropout(p=0.1, inplace=False)\n",
       "    (3): Linear(in_features=512, out_features=512, bias=True)\n",
       "    (4): SELU()\n",
       "    (5): Dropout(p=0.1, inplace=False)\n",
       "    (6): Linear(in_features=512, out_features=256, bias=True)\n",
       "    (7): SELU()\n",
       "    (8): Dropout(p=0.1, inplace=False)\n",
       "    (9): Linear(in_features=256, out_features=256, bias=True)\n",
       "    (10): SELU()\n",
       "    (11): Dropout(p=0.1, inplace=False)\n",
       "    (12): Linear(in_features=256, out_features=64, bias=True)\n",
       "  )\n",
       "  (decoder): Sequential(\n",
       "    (0): MLP(\n",
       "      (0): Linear(in_features=64, out_features=256, bias=True)\n",
       "      (1): SELU()\n",
       "      (2): Dropout(p=0.1, inplace=False)\n",
       "      (3): Linear(in_features=256, out_features=256, bias=True)\n",
       "      (4): SELU()\n",
       "      (5): Dropout(p=0.1, inplace=False)\n",
       "      (6): Linear(in_features=256, out_features=512, bias=True)\n",
       "      (7): SELU()\n",
       "      (8): Dropout(p=0.1, inplace=False)\n",
       "      (9): Linear(in_features=512, out_features=512, bias=True)\n",
       "      (10): SELU()\n",
       "      (11): Dropout(p=0.1, inplace=False)\n",
       "      (12): Linear(in_features=512, out_features=19331, bias=True)\n",
       "    )\n",
       "    (1): Sigmoid()\n",
       "  )\n",
       "  (fc): Linear(in_features=64, out_features=20, bias=True)\n",
       ")"
      ]
     },
     "execution_count": 7,
     "metadata": {},
     "output_type": "execute_result"
    }
   ],
   "source": [
    "# 将训练数据转换为张量\n",
    "device = torch.device(\"cuda\" if torch.cuda.is_available() else \"cpu\")\n",
    "X_train_tensor = torch.tensor(X_train).float().to(device)\n",
    "y_train_tensor = torch.tensor(y_train).long().to(device)\n",
    "X_val_tensor = torch.tensor(X_val).float().to(device)\n",
    "y_val_tensor = torch.tensor(y_val).long().to(device)\n",
    "estim.model.to(device)"
   ]
  },
  {
   "cell_type": "code",
   "execution_count": 8,
   "metadata": {
    "execution": {
     "iopub.execute_input": "2025-04-12T07:48:43.475411Z",
     "iopub.status.busy": "2025-04-12T07:48:43.475251Z",
     "iopub.status.idle": "2025-04-12T07:48:43.478306Z",
     "shell.execute_reply": "2025-04-12T07:48:43.477869Z"
    }
   },
   "outputs": [],
   "source": [
    "# 6. 微调模型，仅微调 encoder 的最后两层，其他层参数冻结\n",
    "for param in estim.model.encoder.parameters():\n",
    "    param.requires_grad = False  # 冻结所有层\n",
    "\n",
    "# 解冻最后两层\n",
    "for param in list(estim.model.encoder.parameters())[-5:]:\n",
    "    param.requires_grad = True"
   ]
  },
  {
   "cell_type": "code",
   "execution_count": 9,
   "metadata": {
    "execution": {
     "iopub.execute_input": "2025-04-12T07:48:43.479562Z",
     "iopub.status.busy": "2025-04-12T07:48:43.479408Z",
     "iopub.status.idle": "2025-04-12T07:48:43.482553Z",
     "shell.execute_reply": "2025-04-12T07:48:43.482141Z"
    }
   },
   "outputs": [],
   "source": [
    "# 定义损失函数和优化器\n",
    "loss_fn = nn.CrossEntropyLoss()\n",
    "optimizer = AdamW(filter(lambda p: p.requires_grad, estim.model.parameters()), lr=9e-4, weight_decay=0.05)\n",
    "scheduler = torch.optim.lr_scheduler.StepLR(optimizer, step_size=2, gamma=0.9)"
   ]
  },
  {
   "cell_type": "code",
   "execution_count": 10,
   "metadata": {
    "execution": {
     "iopub.execute_input": "2025-04-12T07:48:43.483823Z",
     "iopub.status.busy": "2025-04-12T07:48:43.483680Z",
     "iopub.status.idle": "2025-04-12T07:48:43.488563Z",
     "shell.execute_reply": "2025-04-12T07:48:43.488136Z"
    }
   },
   "outputs": [],
   "source": [
    "from torch.utils.data import DataLoader, TensorDataset\n",
    "\n",
    "# 设置 batch size\n",
    "batch_size = 128  # 根据实际需求调整 batch size\n",
    "\n",
    "# 使用 TensorDataset 将训练数据和标签打包\n",
    "train_dataset = TensorDataset(X_train_tensor, y_train_tensor)\n",
    "val_dataset = TensorDataset(X_val_tensor, y_val_tensor)\n",
    "\n",
    "# 使用 DataLoader 来创建批次\n",
    "train_loader = DataLoader(train_dataset, batch_size=batch_size, shuffle=True)\n",
    "val_loader = DataLoader(val_dataset, batch_size=batch_size, shuffle=False)\n",
    "\n",
    "# 7. 微调模型\n",
    "def train_epoch(model, optimizer, loss_fn, train_loader, val_loader):\n",
    "    model.train()\n",
    "    total_train_loss = 0\n",
    "    \n",
    "    # 训练集批次训练\n",
    "    for X_batch, y_batch in train_loader:\n",
    "        optimizer.zero_grad()\n",
    "        \n",
    "        # 前向传播\n",
    "        outputs = model.encoder(X_batch)\n",
    "        logits = model.fc(outputs)\n",
    "        \n",
    "        # 计算损失\n",
    "        loss = loss_fn(logits, y_batch)\n",
    "        loss.backward()\n",
    "        optimizer.step()\n",
    "        \n",
    "        total_train_loss += loss.item()\n",
    "    \n",
    "    # 验证集\n",
    "    model.eval()\n",
    "    total_val_loss = 0\n",
    "    with torch.no_grad():\n",
    "        for X_val_batch, y_val_batch in val_loader:\n",
    "            val_outputs = model.encoder(X_val_batch)\n",
    "            val_logits = model.fc(val_outputs)\n",
    "            val_loss = loss_fn(val_logits, y_val_batch)\n",
    "            total_val_loss += val_loss.item()\n",
    "\n",
    "    # 返回平均损失\n",
    "    return total_train_loss / len(train_loader), total_val_loss / len(val_loader)"
   ]
  },
  {
   "cell_type": "code",
   "execution_count": 11,
   "metadata": {
    "execution": {
     "iopub.execute_input": "2025-04-12T07:48:43.489810Z",
     "iopub.status.busy": "2025-04-12T07:48:43.489661Z",
     "iopub.status.idle": "2025-04-12T07:50:46.254684Z",
     "shell.execute_reply": "2025-04-12T07:50:46.253957Z"
    }
   },
   "outputs": [
    {
     "name": "stdout",
     "output_type": "stream",
     "text": [
      "Epoch 1, Train Loss: 0.8234240175072663, Validation Loss: 0.6824811368726836\n",
      "Validation loss improved to 0.6824811368726836, resetting patience.\n"
     ]
    },
    {
     "name": "stdout",
     "output_type": "stream",
     "text": [
      "Epoch 2, Train Loss: 0.7264102876900588, Validation Loss: 0.6338322359293246\n",
      "Validation loss improved to 0.6338322359293246, resetting patience.\n"
     ]
    },
    {
     "name": "stdout",
     "output_type": "stream",
     "text": [
      "Epoch 3, Train Loss: 0.7146753481465488, Validation Loss: 0.6173672600446014\n",
      "Validation loss improved to 0.6173672600446014, resetting patience.\n"
     ]
    },
    {
     "name": "stdout",
     "output_type": "stream",
     "text": [
      "Epoch 4, Train Loss: 0.7067748339022946, Validation Loss: 0.6239888000911867\n",
      "No improvement in validation loss. Patience counter: 1/20\n"
     ]
    },
    {
     "name": "stdout",
     "output_type": "stream",
     "text": [
      "Epoch 5, Train Loss: 0.6997245072604265, Validation Loss: 0.6215841240689234\n",
      "No improvement in validation loss. Patience counter: 2/20\n"
     ]
    },
    {
     "name": "stdout",
     "output_type": "stream",
     "text": [
      "Epoch 6, Train Loss: 0.6947310636375984, Validation Loss: 0.612224397017871\n",
      "Validation loss improved to 0.612224397017871, resetting patience.\n"
     ]
    },
    {
     "name": "stdout",
     "output_type": "stream",
     "text": [
      "Epoch 7, Train Loss: 0.6952176190799099, Validation Loss: 0.6239590349838818\n",
      "No improvement in validation loss. Patience counter: 1/20\n"
     ]
    },
    {
     "name": "stdout",
     "output_type": "stream",
     "text": [
      "Epoch 8, Train Loss: 0.692201189550699, Validation Loss: 0.6151632719536118\n",
      "No improvement in validation loss. Patience counter: 2/20\n"
     ]
    },
    {
     "name": "stdout",
     "output_type": "stream",
     "text": [
      "Epoch 9, Train Loss: 0.6879132901336632, Validation Loss: 0.601494017742612\n",
      "Validation loss improved to 0.601494017742612, resetting patience.\n"
     ]
    },
    {
     "name": "stdout",
     "output_type": "stream",
     "text": [
      "Epoch 10, Train Loss: 0.6876963929218405, Validation Loss: 0.5970914619525677\n",
      "Validation loss improved to 0.5970914619525677, resetting patience.\n"
     ]
    },
    {
     "name": "stdout",
     "output_type": "stream",
     "text": [
      "Epoch 11, Train Loss: 0.6845121892708839, Validation Loss: 0.6043662454573636\n",
      "No improvement in validation loss. Patience counter: 1/20\n"
     ]
    },
    {
     "name": "stdout",
     "output_type": "stream",
     "text": [
      "Epoch 12, Train Loss: 0.6820544489133852, Validation Loss: 0.5937136981995578\n",
      "Validation loss improved to 0.5937136981995578, resetting patience.\n"
     ]
    },
    {
     "name": "stdout",
     "output_type": "stream",
     "text": [
      "Epoch 13, Train Loss: 0.6827571795267218, Validation Loss: 0.5903510188088199\n",
      "Validation loss improved to 0.5903510188088199, resetting patience.\n"
     ]
    },
    {
     "name": "stdout",
     "output_type": "stream",
     "text": [
      "Epoch 14, Train Loss: 0.6808936889394955, Validation Loss: 0.5917523259741401\n",
      "No improvement in validation loss. Patience counter: 1/20\n"
     ]
    },
    {
     "name": "stdout",
     "output_type": "stream",
     "text": [
      "Epoch 15, Train Loss: 0.6791613650283003, Validation Loss: 0.5950677809376402\n",
      "No improvement in validation loss. Patience counter: 2/20\n"
     ]
    },
    {
     "name": "stdout",
     "output_type": "stream",
     "text": [
      "Epoch 16, Train Loss: 0.677293871742448, Validation Loss: 0.5884862331872059\n",
      "Validation loss improved to 0.5884862331872059, resetting patience.\n"
     ]
    },
    {
     "name": "stdout",
     "output_type": "stream",
     "text": [
      "Epoch 17, Train Loss: 0.6789610365766845, Validation Loss: 0.5965474246419625\n",
      "No improvement in validation loss. Patience counter: 1/20\n"
     ]
    },
    {
     "name": "stdout",
     "output_type": "stream",
     "text": [
      "Epoch 18, Train Loss: 0.676662030173283, Validation Loss: 0.591576556566403\n",
      "No improvement in validation loss. Patience counter: 2/20\n"
     ]
    },
    {
     "name": "stdout",
     "output_type": "stream",
     "text": [
      "Epoch 19, Train Loss: 0.6745663233961675, Validation Loss: 0.5820493035510107\n",
      "Validation loss improved to 0.5820493035510107, resetting patience.\n"
     ]
    },
    {
     "name": "stdout",
     "output_type": "stream",
     "text": [
      "Epoch 20, Train Loss: 0.6722550883337304, Validation Loss: 0.597121659874311\n",
      "No improvement in validation loss. Patience counter: 1/20\n"
     ]
    },
    {
     "name": "stdout",
     "output_type": "stream",
     "text": [
      "Epoch 21, Train Loss: 0.6724329492105637, Validation Loss: 0.5838336652608087\n",
      "No improvement in validation loss. Patience counter: 2/20\n"
     ]
    },
    {
     "name": "stdout",
     "output_type": "stream",
     "text": [
      "Epoch 22, Train Loss: 0.6700355708923734, Validation Loss: 0.60475704452108\n",
      "No improvement in validation loss. Patience counter: 3/20\n"
     ]
    },
    {
     "name": "stdout",
     "output_type": "stream",
     "text": [
      "Epoch 23, Train Loss: 0.6733236209629407, Validation Loss: 0.6019952952256663\n",
      "No improvement in validation loss. Patience counter: 4/20\n"
     ]
    },
    {
     "name": "stdout",
     "output_type": "stream",
     "text": [
      "Epoch 24, Train Loss: 0.6706363689600772, Validation Loss: 0.5836065192210492\n",
      "No improvement in validation loss. Patience counter: 5/20\n"
     ]
    },
    {
     "name": "stdout",
     "output_type": "stream",
     "text": [
      "Epoch 25, Train Loss: 0.6686319416644526, Validation Loss: 0.5846497505751963\n",
      "No improvement in validation loss. Patience counter: 6/20\n"
     ]
    },
    {
     "name": "stdout",
     "output_type": "stream",
     "text": [
      "Epoch 26, Train Loss: 0.6701711716215595, Validation Loss: 0.601582878888561\n",
      "No improvement in validation loss. Patience counter: 7/20\n"
     ]
    },
    {
     "name": "stdout",
     "output_type": "stream",
     "text": [
      "Epoch 27, Train Loss: 0.6669954954928562, Validation Loss: 0.5920394616683727\n",
      "No improvement in validation loss. Patience counter: 8/20\n"
     ]
    },
    {
     "name": "stdout",
     "output_type": "stream",
     "text": [
      "Epoch 28, Train Loss: 0.6683094440462283, Validation Loss: 0.5918198999414589\n",
      "No improvement in validation loss. Patience counter: 9/20\n"
     ]
    },
    {
     "name": "stdout",
     "output_type": "stream",
     "text": [
      "Epoch 29, Train Loss: 0.6661645669757931, Validation Loss: 0.5782475702956243\n",
      "Validation loss improved to 0.5782475702956243, resetting patience.\n"
     ]
    },
    {
     "name": "stdout",
     "output_type": "stream",
     "text": [
      "Epoch 30, Train Loss: 0.6673927979466702, Validation Loss: 0.5731646799799149\n",
      "Validation loss improved to 0.5731646799799149, resetting patience.\n"
     ]
    },
    {
     "name": "stdout",
     "output_type": "stream",
     "text": [
      "Epoch 31, Train Loss: 0.6681138403340362, Validation Loss: 0.5853026373132231\n",
      "No improvement in validation loss. Patience counter: 1/20\n"
     ]
    },
    {
     "name": "stdout",
     "output_type": "stream",
     "text": [
      "Epoch 32, Train Loss: 0.6656533219975324, Validation Loss: 0.5885340556275421\n",
      "No improvement in validation loss. Patience counter: 2/20\n"
     ]
    },
    {
     "name": "stdout",
     "output_type": "stream",
     "text": [
      "Epoch 33, Train Loss: 0.663930625242865, Validation Loss: 0.5795688191948808\n",
      "No improvement in validation loss. Patience counter: 3/20\n"
     ]
    },
    {
     "name": "stdout",
     "output_type": "stream",
     "text": [
      "Epoch 34, Train Loss: 0.6623820434273717, Validation Loss: 0.588252782216532\n",
      "No improvement in validation loss. Patience counter: 4/20\n"
     ]
    },
    {
     "name": "stdout",
     "output_type": "stream",
     "text": [
      "Epoch 35, Train Loss: 0.6648477985318709, Validation Loss: 0.5879049308711503\n",
      "No improvement in validation loss. Patience counter: 5/20\n"
     ]
    },
    {
     "name": "stdout",
     "output_type": "stream",
     "text": [
      "Epoch 36, Train Loss: 0.6649227480937713, Validation Loss: 0.5800466817345111\n",
      "No improvement in validation loss. Patience counter: 6/20\n"
     ]
    },
    {
     "name": "stdout",
     "output_type": "stream",
     "text": [
      "Epoch 37, Train Loss: 0.6633139239027609, Validation Loss: 0.5739171737946834\n",
      "No improvement in validation loss. Patience counter: 7/20\n"
     ]
    },
    {
     "name": "stdout",
     "output_type": "stream",
     "text": [
      "Epoch 38, Train Loss: 0.6638289429003896, Validation Loss: 0.5804288125582758\n",
      "No improvement in validation loss. Patience counter: 8/20\n"
     ]
    },
    {
     "name": "stdout",
     "output_type": "stream",
     "text": [
      "Epoch 39, Train Loss: 0.66337548891054, Validation Loss: 0.5978391560806235\n",
      "No improvement in validation loss. Patience counter: 9/20\n"
     ]
    },
    {
     "name": "stdout",
     "output_type": "stream",
     "text": [
      "Epoch 40, Train Loss: 0.6639240517205922, Validation Loss: 0.5723279330331057\n",
      "Validation loss improved to 0.5723279330331057, resetting patience.\n"
     ]
    },
    {
     "name": "stdout",
     "output_type": "stream",
     "text": [
      "Epoch 41, Train Loss: 0.6622841591603875, Validation Loss: 0.5846107700451981\n",
      "No improvement in validation loss. Patience counter: 1/20\n"
     ]
    },
    {
     "name": "stdout",
     "output_type": "stream",
     "text": [
      "Epoch 42, Train Loss: 0.6628989722084635, Validation Loss: 0.5898869400702152\n",
      "No improvement in validation loss. Patience counter: 2/20\n"
     ]
    },
    {
     "name": "stdout",
     "output_type": "stream",
     "text": [
      "Epoch 43, Train Loss: 0.6602822967798881, Validation Loss: 0.5849678956615139\n",
      "No improvement in validation loss. Patience counter: 3/20\n"
     ]
    },
    {
     "name": "stdout",
     "output_type": "stream",
     "text": [
      "Epoch 44, Train Loss: 0.6650478119489155, Validation Loss: 0.5863845017053149\n",
      "No improvement in validation loss. Patience counter: 4/20\n"
     ]
    },
    {
     "name": "stdout",
     "output_type": "stream",
     "text": [
      "Epoch 45, Train Loss: 0.661903851789327, Validation Loss: 0.5920804133875116\n",
      "No improvement in validation loss. Patience counter: 5/20\n"
     ]
    },
    {
     "name": "stdout",
     "output_type": "stream",
     "text": [
      "Epoch 46, Train Loss: 0.6634158913800919, Validation Loss: 0.5805627883690868\n",
      "No improvement in validation loss. Patience counter: 6/20\n"
     ]
    },
    {
     "name": "stdout",
     "output_type": "stream",
     "text": [
      "Epoch 47, Train Loss: 0.6620101655036016, Validation Loss: 0.5803891102674649\n",
      "No improvement in validation loss. Patience counter: 7/20\n"
     ]
    },
    {
     "name": "stdout",
     "output_type": "stream",
     "text": [
      "Epoch 48, Train Loss: 0.6629197597828306, Validation Loss: 0.5934067199072862\n",
      "No improvement in validation loss. Patience counter: 8/20\n"
     ]
    },
    {
     "name": "stdout",
     "output_type": "stream",
     "text": [
      "Epoch 49, Train Loss: 0.6612411456624927, Validation Loss: 0.5818519846436941\n",
      "No improvement in validation loss. Patience counter: 9/20\n"
     ]
    },
    {
     "name": "stdout",
     "output_type": "stream",
     "text": [
      "Epoch 50, Train Loss: 0.6642812795953293, Validation Loss: 0.5795150359875054\n",
      "No improvement in validation loss. Patience counter: 10/20\n"
     ]
    },
    {
     "name": "stdout",
     "output_type": "stream",
     "text": [
      "Epoch 51, Train Loss: 0.6608923844717167, Validation Loss: 0.5892349672196481\n",
      "No improvement in validation loss. Patience counter: 11/20\n"
     ]
    },
    {
     "name": "stdout",
     "output_type": "stream",
     "text": [
      "Epoch 52, Train Loss: 0.6601980152278165, Validation Loss: 0.5932790404043827\n",
      "No improvement in validation loss. Patience counter: 12/20\n"
     ]
    },
    {
     "name": "stdout",
     "output_type": "stream",
     "text": [
      "Epoch 53, Train Loss: 0.6609767889015555, Validation Loss: 0.5825903910368228\n",
      "No improvement in validation loss. Patience counter: 13/20\n"
     ]
    },
    {
     "name": "stdout",
     "output_type": "stream",
     "text": [
      "Epoch 54, Train Loss: 0.6610021184407547, Validation Loss: 0.576939447730931\n",
      "No improvement in validation loss. Patience counter: 14/20\n"
     ]
    },
    {
     "name": "stdout",
     "output_type": "stream",
     "text": [
      "Epoch 55, Train Loss: 0.6610973546512766, Validation Loss: 0.5784146419636489\n",
      "No improvement in validation loss. Patience counter: 15/20\n"
     ]
    },
    {
     "name": "stdout",
     "output_type": "stream",
     "text": [
      "Epoch 56, Train Loss: 0.6604101556578493, Validation Loss: 0.5951946432215308\n",
      "No improvement in validation loss. Patience counter: 16/20\n"
     ]
    },
    {
     "name": "stdout",
     "output_type": "stream",
     "text": [
      "Epoch 57, Train Loss: 0.6594993241277396, Validation Loss: 0.5720892052359993\n",
      "Validation loss improved to 0.5720892052359993, resetting patience.\n"
     ]
    },
    {
     "name": "stdout",
     "output_type": "stream",
     "text": [
      "Epoch 58, Train Loss: 0.6587217944574771, Validation Loss: 0.5818861430974176\n",
      "No improvement in validation loss. Patience counter: 1/20\n"
     ]
    },
    {
     "name": "stdout",
     "output_type": "stream",
     "text": [
      "Epoch 59, Train Loss: 0.6589286666615077, Validation Loss: 0.5925711751891877\n",
      "No improvement in validation loss. Patience counter: 2/20\n"
     ]
    },
    {
     "name": "stdout",
     "output_type": "stream",
     "text": [
      "Epoch 60, Train Loss: 0.6602951752139592, Validation Loss: 0.5843024701636454\n",
      "No improvement in validation loss. Patience counter: 3/20\n"
     ]
    },
    {
     "name": "stdout",
     "output_type": "stream",
     "text": [
      "Epoch 61, Train Loss: 0.6604727933869123, Validation Loss: 0.589216796879841\n",
      "No improvement in validation loss. Patience counter: 4/20\n"
     ]
    },
    {
     "name": "stdout",
     "output_type": "stream",
     "text": [
      "Epoch 62, Train Loss: 0.6611657718233034, Validation Loss: 0.5766316010867278\n",
      "No improvement in validation loss. Patience counter: 5/20\n"
     ]
    },
    {
     "name": "stdout",
     "output_type": "stream",
     "text": [
      "Epoch 63, Train Loss: 0.6589978519088562, Validation Loss: 0.5831758988085132\n",
      "No improvement in validation loss. Patience counter: 6/20\n"
     ]
    },
    {
     "name": "stdout",
     "output_type": "stream",
     "text": [
      "Epoch 64, Train Loss: 0.6589843123372084, Validation Loss: 0.5967202908194005\n",
      "No improvement in validation loss. Patience counter: 7/20\n"
     ]
    },
    {
     "name": "stdout",
     "output_type": "stream",
     "text": [
      "Epoch 65, Train Loss: 0.660198387659453, Validation Loss: 0.5937248274759592\n",
      "No improvement in validation loss. Patience counter: 8/20\n"
     ]
    },
    {
     "name": "stdout",
     "output_type": "stream",
     "text": [
      "Epoch 66, Train Loss: 0.6592289648609224, Validation Loss: 0.5827937781205638\n",
      "No improvement in validation loss. Patience counter: 9/20\n"
     ]
    },
    {
     "name": "stdout",
     "output_type": "stream",
     "text": [
      "Epoch 67, Train Loss: 0.6591464662538894, Validation Loss: 0.5939233569324319\n",
      "No improvement in validation loss. Patience counter: 10/20\n"
     ]
    },
    {
     "name": "stdout",
     "output_type": "stream",
     "text": [
      "Epoch 68, Train Loss: 0.6568516834693796, Validation Loss: 0.5781036557884991\n",
      "No improvement in validation loss. Patience counter: 11/20\n"
     ]
    },
    {
     "name": "stdout",
     "output_type": "stream",
     "text": [
      "Epoch 69, Train Loss: 0.6604380743955475, Validation Loss: 0.5743083368400632\n",
      "No improvement in validation loss. Patience counter: 12/20\n"
     ]
    },
    {
     "name": "stdout",
     "output_type": "stream",
     "text": [
      "Epoch 70, Train Loss: 0.658438482737749, Validation Loss: 0.5985307604225759\n",
      "No improvement in validation loss. Patience counter: 13/20\n"
     ]
    },
    {
     "name": "stdout",
     "output_type": "stream",
     "text": [
      "Epoch 71, Train Loss: 0.659500215600259, Validation Loss: 0.5806686855512222\n",
      "No improvement in validation loss. Patience counter: 14/20\n"
     ]
    },
    {
     "name": "stdout",
     "output_type": "stream",
     "text": [
      "Epoch 72, Train Loss: 0.6585860275430098, Validation Loss: 0.5777721119108539\n",
      "No improvement in validation loss. Patience counter: 15/20\n"
     ]
    },
    {
     "name": "stdout",
     "output_type": "stream",
     "text": [
      "Epoch 73, Train Loss: 0.660679743732762, Validation Loss: 0.5761703609815104\n",
      "No improvement in validation loss. Patience counter: 16/20\n"
     ]
    },
    {
     "name": "stdout",
     "output_type": "stream",
     "text": [
      "Epoch 74, Train Loss: 0.6603347056571695, Validation Loss: 0.5856035782903584\n",
      "No improvement in validation loss. Patience counter: 17/20\n"
     ]
    },
    {
     "name": "stdout",
     "output_type": "stream",
     "text": [
      "Epoch 75, Train Loss: 0.6573008122592191, Validation Loss: 0.5781419690187812\n",
      "No improvement in validation loss. Patience counter: 18/20\n"
     ]
    },
    {
     "name": "stdout",
     "output_type": "stream",
     "text": [
      "Epoch 76, Train Loss: 0.6608335953652209, Validation Loss: 0.6196110352949442\n",
      "No improvement in validation loss. Patience counter: 19/20\n"
     ]
    },
    {
     "name": "stdout",
     "output_type": "stream",
     "text": [
      "Epoch 77, Train Loss: 0.6616075165196441, Validation Loss: 0.5794775871758534\n",
      "No improvement in validation loss. Patience counter: 20/20\n",
      "Early stopping triggered. Stopping training at epoch 77.\n",
      "Loaded best model weights based on validation loss.\n"
     ]
    }
   ],
   "source": [
    "import copy  # 用于保存模型的最佳状态\n",
    "\n",
    "# Early Stopping 参数\n",
    "patience = 20  # 如果验证损失在 10 个 epoch 中没有改善，停止训练\n",
    "min_delta = 1e-4  # 最小改善幅度\n",
    "patience_counter = 0\n",
    "best_val_loss = float('inf')  # 初始设置为正无穷大\n",
    "best_model_weights = copy.deepcopy(estim.model.state_dict())  # 保存最佳模型权重\n",
    "train_losses = []\n",
    "val_losses = []\n",
    "\n",
    "# 训练 500 个 epoch\n",
    "for epoch in range(500):\n",
    "    train_loss, val_loss = train_epoch(estim.model, optimizer, loss_fn, train_loader, val_loader)\n",
    "    print(f'Epoch {epoch+1}, Train Loss: {train_loss}, Validation Loss: {val_loss}')\n",
    "    train_losses.append(train_loss)\n",
    "    val_losses.append(val_loss)\n",
    "    \n",
    "    # Early Stopping 检查\n",
    "    if val_loss < best_val_loss - min_delta:\n",
    "        best_val_loss = val_loss  # 更新最佳验证损失\n",
    "        patience_counter = 0  # 重置 patience 计数器\n",
    "        best_model_weights = copy.deepcopy(estim.model.state_dict())  # 保存当前最佳模型\n",
    "        print(f\"Validation loss improved to {best_val_loss}, resetting patience.\")\n",
    "    else:\n",
    "        patience_counter += 1\n",
    "        print(f\"No improvement in validation loss. Patience counter: {patience_counter}/{patience}\")\n",
    "    \n",
    "    # 如果 patience_counter 超过设置的 patience，停止训练\n",
    "    if patience_counter >= patience:\n",
    "        print(f\"Early stopping triggered. Stopping training at epoch {epoch+1}.\")\n",
    "        break\n",
    "\n",
    "# 恢复到训练中性能最好的模型权重\n",
    "estim.model.load_state_dict(best_model_weights)\n",
    "print(\"Loaded best model weights based on validation loss.\")"
   ]
  },
  {
   "cell_type": "code",
   "execution_count": 12,
   "metadata": {
    "execution": {
     "iopub.execute_input": "2025-04-12T07:50:46.256390Z",
     "iopub.status.busy": "2025-04-12T07:50:46.256204Z",
     "iopub.status.idle": "2025-04-12T07:50:48.137353Z",
     "shell.execute_reply": "2025-04-12T07:50:48.136742Z"
    }
   },
   "outputs": [],
   "source": [
    "# 8. 使用 KNN 替代测试阶段的 FC 分类层\n",
    "# 使用 encoder 提取训练集和测试集的 embedding\n",
    "estim.model.eval()\n",
    "with torch.no_grad():\n",
    "    train_embeddings = estim.model.encoder(torch.tensor(X_train).float().to(device)).cpu().numpy()\n",
    "    test_embeddings = estim.model.encoder(torch.tensor(X_test).float().to(device)).cpu().numpy()"
   ]
  },
  {
   "cell_type": "code",
   "execution_count": 13,
   "metadata": {
    "execution": {
     "iopub.execute_input": "2025-04-12T07:50:48.139375Z",
     "iopub.status.busy": "2025-04-12T07:50:48.139213Z",
     "iopub.status.idle": "2025-04-12T07:50:48.951606Z",
     "shell.execute_reply": "2025-04-12T07:50:48.951020Z"
    }
   },
   "outputs": [
    {
     "name": "stdout",
     "output_type": "stream",
     "text": [
      "KNN Accuracy on Test Data: 0.8091945802042357\n",
      "Weighted F1 Score: 0.8039105080539424\n",
      "Macro F1 Score: 0.6723250448031375\n",
      "Random Guess Accuracy: 0.1320247177116093\n",
      "                         precision    recall  f1-score   support\n",
      "\n",
      "                B_Cells       0.78      0.84      0.81       772\n",
      "           CD4+_T_Cells       0.68      0.75      0.71      1286\n",
      "           CD8+_T_Cells       0.67      0.67      0.67      1026\n",
      "                 DCIS_1       0.68      0.77      0.72      1937\n",
      "                 DCIS_2       0.68      0.56      0.61      1746\n",
      "            Endothelial       0.89      0.93      0.91      1348\n",
      "              IRF7+_DCs       0.77      0.66      0.71        74\n",
      "         Invasive_Tumor       0.87      0.90      0.88      5230\n",
      "             LAMP3+_DCs       0.80      0.49      0.61        49\n",
      "          Macrophages_1       0.80      0.84      0.82      1692\n",
      "          Macrophages_2       0.58      0.45      0.51       223\n",
      "             Mast_Cells       0.85      0.39      0.54        28\n",
      "          Myoepi_ACTA2+       0.83      0.85      0.84      1043\n",
      "          Myoepi_KRT15+       0.89      0.86      0.88       426\n",
      "      Perivascular-Like       0.70      0.55      0.62       125\n",
      "  Prolif_Invasive_Tumor       0.62      0.39      0.48       533\n",
      "                Stromal       0.90      0.93      0.91      6184\n",
      "Stromal_&_T_Cell_Hybrid       0.07      0.02      0.03        93\n",
      "  T_Cell_&_Tumor_Hybrid       0.50      0.63      0.56        87\n",
      "              Unlabeled       0.73      0.54      0.62      1265\n",
      "\n",
      "               accuracy                           0.81     25167\n",
      "              macro avg       0.71      0.65      0.67     25167\n",
      "           weighted avg       0.80      0.81      0.80     25167\n",
      "\n"
     ]
    }
   ],
   "source": [
    "import pandas as pd\n",
    "from sklearn.neighbors import KNeighborsClassifier\n",
    "from sklearn.metrics import accuracy_score, f1_score, classification_report\n",
    "\n",
    "    \n",
    "\n",
    "    # 初始化和训练KNN分类器\n",
    "knn = KNeighborsClassifier(n_neighbors=5)\n",
    "knn.fit(train_embeddings, y_train)\n",
    "    \n",
    "    # 模型预测\n",
    "predictions = knn.predict(test_embeddings)\n",
    "\n",
    "    # 计算准确率和 F1 分数\n",
    "accuracy = accuracy_score(y_test, predictions)\n",
    "print(f\"KNN Accuracy on Test Data: {accuracy}\")\n",
    "f1 = f1_score(y_test, predictions, average='weighted')\n",
    "print(f\"Weighted F1 Score: {f1}\")\n",
    "    \n",
    "macro_f1 = f1_score(y_test, predictions, average='macro')\n",
    "print(f'Macro F1 Score: {macro_f1}')\n",
    "\n",
    "    # 计算随机猜测的准确率\n",
    "class_probabilities = np.bincount(y_test) / len(y_test)\n",
    "random_accuracy = np.sum(class_probabilities ** 2)\n",
    "print(f\"Random Guess Accuracy: {random_accuracy}\")\n",
    "\n",
    "    # 生成分类报告\n",
    "report = classification_report(y_test, predictions, target_names=label_encoder.classes_)\n",
    "print(report)"
   ]
  },
  {
   "cell_type": "code",
   "execution_count": 14,
   "metadata": {
    "execution": {
     "iopub.execute_input": "2025-04-12T07:50:48.953167Z",
     "iopub.status.busy": "2025-04-12T07:50:48.953001Z",
     "iopub.status.idle": "2025-04-12T07:50:57.634642Z",
     "shell.execute_reply": "2025-04-12T07:50:57.634070Z"
    }
   },
   "outputs": [],
   "source": [
    "with torch.no_grad():\n",
    "    new_data_tensor = torch.tensor(new_data).float().to(device)\n",
    "    SSL_embeddings = estim.model.encoder(new_data_tensor).detach().cpu().numpy()\n",
    "new_adata = sc.read_h5ad(data_dir)\n",
    "new_adata.obsm[f'SSL_RM_FT_{random_seed}'] = SSL_embeddings\n",
    "new_adata.uns[f'RM_FT_y_test_{random_seed}'] = y_test\n",
    "new_adata.uns[f'RM_FT_predictions_{random_seed}'] = predictions\n",
    "new_adata.uns[f'RM_FT_target_names_{random_seed}'] = label_encoder.classes_\n",
    "new_adata.uns[f'RM_FT_train_loss_{random_seed}'] = train_losses\n",
    "new_adata.uns[f'RM_FT_val_loss_{random_seed}'] = val_losses\n",
    "new_adata.write_h5ad(data_dir)"
   ]
  },
  {
   "cell_type": "code",
   "execution_count": 15,
   "metadata": {
    "execution": {
     "iopub.execute_input": "2025-04-12T07:50:57.636576Z",
     "iopub.status.busy": "2025-04-12T07:50:57.636406Z",
     "iopub.status.idle": "2025-04-12T07:50:57.645660Z",
     "shell.execute_reply": "2025-04-12T07:50:57.645179Z"
    }
   },
   "outputs": [
    {
     "name": "stdout",
     "output_type": "stream",
     "text": [
      "Metrics Summary:\n",
      "init_train_loss\tinit_val_loss\tconverged_epoch\tconverged_val_loss\tmacro_f1\tweighted_f1\tmicro_f1\n",
      "0.823\t0.682\t57\t0.572\t0.672\t0.804\t0.809\n"
     ]
    }
   ],
   "source": [
    "\n",
    "import pandas as pd\n",
    "import os\n",
    "import re\n",
    "\n",
    "# 当前 Notebook 文件名\n",
    "notebook_name = \"SpaGE_imputed_Xenium_breast_cancer_sample1_replicate1_random_mask_fine_tune_42.ipynb\"\n",
    "\n",
    "# 初始化需要打印的值\n",
    "init_train_loss = train_losses[0] if 'train_losses' in globals() else None\n",
    "init_val_loss = val_losses[0] if 'val_losses' in globals() else None\n",
    "converged_epoch = len(train_losses) - patience if 'train_losses' in globals() else None\n",
    "converged_val_loss = best_val_loss if 'best_val_loss' in globals() else None\n",
    "\n",
    "# 打印所有所需的指标\n",
    "print(\"Metrics Summary:\")\n",
    "if 'train_losses' in globals():\n",
    "    print(f\"init_train_loss\\tinit_val_loss\\tconverged_epoch\\tconverged_val_loss\\tmacro_f1\\tweighted_f1\\tmicro_f1\")\n",
    "    print(f\"{init_train_loss:.3f}\\t{init_val_loss:.3f}\\t{converged_epoch}\\t{converged_val_loss:.3f}\\t{macro_f1:.3f}\\t{f1:.3f}\\t{accuracy:.3f}\")\n",
    "else:\n",
    "    print(f\"macro_f1\\tweighted_f1\\tmicro_f1\")\n",
    "    print(f\"{macro_f1:.3f}\\t{f1:.3f}\\t{accuracy:.3f}\")\n",
    "\n",
    "# 保存结果到 CSV 文件\n",
    "output_data = {\n",
    "    'dataset_split_random_seed': [int(random_seed)],\n",
    "    'dataset': ['SpaGE_imputed_xenium_breast_cancer_sample1_replicate1'],\n",
    "    'method': [re.search(r'replicate1_(.*?)_\\d+', notebook_name).group(1)],\n",
    "    'init_train_loss': [init_train_loss if init_train_loss is not None else ''],\n",
    "    'init_val_loss': [init_val_loss if init_val_loss is not None else ''],\n",
    "    'converged_epoch': [converged_epoch if converged_epoch is not None else ''],\n",
    "    'converged_val_loss': [converged_val_loss if converged_val_loss is not None else ''],\n",
    "    'macro_f1': [macro_f1],\n",
    "    'weighted_f1': [f1],\n",
    "    'micro_f1': [accuracy]\n",
    "}\n",
    "output_df = pd.DataFrame(output_data)\n",
    "\n",
    "# 保存到当前目录下名为 results 的文件夹中\n",
    "if not os.path.exists('results'):\n",
    "    os.makedirs('results')\n",
    "\n",
    "csv_filename = f\"results/{os.path.splitext(notebook_name)[0]}_results.csv\"\n",
    "output_df.to_csv(csv_filename, index=False)\n"
   ]
  }
 ],
 "metadata": {
  "kernelspec": {
   "display_name": "ssl",
   "language": "python",
   "name": "python3"
  },
  "language_info": {
   "codemirror_mode": {
    "name": "ipython",
    "version": 3
   },
   "file_extension": ".py",
   "mimetype": "text/x-python",
   "name": "python",
   "nbconvert_exporter": "python",
   "pygments_lexer": "ipython3",
   "version": "3.10.13"
  }
 },
 "nbformat": 4,
 "nbformat_minor": 2
}
