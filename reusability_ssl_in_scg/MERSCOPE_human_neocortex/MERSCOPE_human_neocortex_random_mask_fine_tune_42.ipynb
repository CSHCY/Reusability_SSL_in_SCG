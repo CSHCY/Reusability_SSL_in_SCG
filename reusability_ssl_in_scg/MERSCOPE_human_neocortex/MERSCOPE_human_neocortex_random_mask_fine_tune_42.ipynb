{
 "cells": [
  {
   "cell_type": "code",
   "execution_count": 1,
   "metadata": {
    "execution": {
     "iopub.execute_input": "2024-11-07T06:20:41.750592Z",
     "iopub.status.busy": "2024-11-07T06:20:41.750313Z",
     "iopub.status.idle": "2024-11-07T06:20:49.420662Z",
     "shell.execute_reply": "2024-11-07T06:20:49.420023Z"
    }
   },
   "outputs": [
    {
     "name": "stderr",
     "output_type": "stream",
     "text": [
      "/home/hanchuangyi/miniconda3/envs/ssl/lib/python3.10/site-packages/merlin/dtypes/mappings/tf.py:52: UserWarning: Tensorflow dtype mappings did not load successfully due to an error: No module named 'tensorflow'\n",
      "  warn(f\"Tensorflow dtype mappings did not load successfully due to an error: {exc.msg}\")\n",
      "/home/hanchuangyi/miniconda3/envs/ssl/lib/python3.10/site-packages/merlin/dtypes/mappings/triton.py:53: UserWarning: Triton dtype mappings did not load successfully due to an error: No module named 'tritonclient'\n",
      "  warn(f\"Triton dtype mappings did not load successfully due to an error: {exc.msg}\")\n"
     ]
    },
    {
     "name": "stdout",
     "output_type": "stream",
     "text": [
      "<Compressed Sparse Row sparse matrix of dtype 'int64'\n",
      "\twith 12532157 stored elements and shape (234125, 300)>\n",
      "  Coords\tValues\n",
      "  (0, 9)\t5\n",
      "  (0, 16)\t2\n",
      "  (0, 18)\t3\n",
      "  (0, 23)\t1\n",
      "  (0, 24)\t1\n",
      "  (0, 25)\t5\n",
      "  (0, 27)\t1\n",
      "  (0, 28)\t1\n",
      "  (0, 29)\t6\n",
      "  (0, 30)\t1\n",
      "  (0, 31)\t1\n",
      "  (0, 34)\t6\n",
      "  (0, 37)\t1\n",
      "  (0, 45)\t21\n",
      "  (0, 46)\t1\n",
      "  (0, 53)\t1\n",
      "  (0, 58)\t1\n",
      "  (0, 60)\t1\n",
      "  (0, 61)\t1\n",
      "  (0, 67)\t2\n",
      "  (0, 68)\t1\n",
      "  (0, 74)\t1\n",
      "  (0, 81)\t1\n",
      "  (0, 86)\t1\n",
      "  (0, 87)\t2\n",
      "  :\t:\n",
      "  (234123, 261)\t1\n",
      "  (234124, 14)\t2\n",
      "  (234124, 18)\t1\n",
      "  (234124, 25)\t3\n",
      "  (234124, 55)\t1\n",
      "  (234124, 58)\t1\n",
      "  (234124, 62)\t1\n",
      "  (234124, 66)\t1\n",
      "  (234124, 75)\t1\n",
      "  (234124, 89)\t1\n",
      "  (234124, 104)\t1\n",
      "  (234124, 106)\t1\n",
      "  (234124, 107)\t1\n",
      "  (234124, 117)\t2\n",
      "  (234124, 126)\t1\n",
      "  (234124, 146)\t3\n",
      "  (234124, 171)\t1\n",
      "  (234124, 184)\t1\n",
      "  (234124, 200)\t1\n",
      "  (234124, 215)\t3\n",
      "  (234124, 221)\t1\n",
      "  (234124, 237)\t1\n",
      "  (234124, 251)\t1\n",
      "  (234124, 261)\t1\n",
      "  (234124, 297)\t1\n"
     ]
    }
   ],
   "source": [
    "import scanpy as sc\n",
    "import torch\n",
    "import lightning.pytorch as pl\n",
    "from torch import nn\n",
    "from torch.optim import AdamW\n",
    "from self_supervision.models.lightning_modules.cellnet_autoencoder import MLPAutoEncoder\n",
    "from self_supervision.estimator.cellnet import EstimatorAutoEncoder\n",
    "from sklearn.model_selection import train_test_split\n",
    "from sklearn.preprocessing import LabelEncoder\n",
    "from sklearn.metrics import accuracy_score, f1_score, classification_report\n",
    "import numpy as np\n",
    "import pandas as pd\n",
    "\n",
    "data_dir = '../../dataset/merfish_human_neocortex_SSL.h5ad'\n",
    "adata = sc.read_h5ad(data_dir)\n",
    "adata.X = adata.raw.X.copy()\n",
    "print(adata.X)\n",
    "sc.pp.normalize_total(adata)\n",
    "sc.pp.log1p(adata)\n",
    "\n",
    "\n",
    "# 2. 设置 checkpoint 路径\n",
    "ckpt_path = \"../../sc_pretrained/Pretrained Models/RandomMask.ckpt\"\n",
    "\n",
    "# 3. 模型参数\n",
    "units_encoder = [512, 512, 256, 256, 64]\n",
    "units_decoder = [256, 256, 512, 512]\n",
    "\n",
    "# 初始化 EstimatorAutoEncoder 实例\n",
    "estim = EstimatorAutoEncoder(data_path=None)  # 没有实际数据路径，可以设置为None\n",
    "\n",
    "# 4. 加载预训练模型\n",
    "estim.model = MLPAutoEncoder.load_from_checkpoint(\n",
    "    ckpt_path,\n",
    "    gene_dim=19331,  # 根据你的数据调整\n",
    "    batch_size=8192,  # 根据你的需要调整\n",
    "    units_encoder=units_encoder, \n",
    "    units_decoder=units_decoder,\n",
    "    masking_strategy=\"random\",  # 假设模型使用了随机掩码\n",
    "    masking_rate=0.5,  # 根据需要调整\n",
    ")"
   ]
  },
  {
   "cell_type": "code",
   "execution_count": 2,
   "metadata": {
    "execution": {
     "iopub.execute_input": "2024-11-07T06:20:49.423145Z",
     "iopub.status.busy": "2024-11-07T06:20:49.422636Z",
     "iopub.status.idle": "2024-11-07T06:20:49.429471Z",
     "shell.execute_reply": "2024-11-07T06:20:49.428990Z"
    }
   },
   "outputs": [
    {
     "data": {
      "text/plain": [
       "29"
      ]
     },
     "execution_count": 2,
     "metadata": {},
     "output_type": "execute_result"
    }
   ],
   "source": [
    "# 添加分类层 (FC)\n",
    "n_classes = len(adata.obs['cell_type'].unique())\n",
    "estim.model.fc = nn.Linear(units_encoder[-1], n_classes)\n",
    "n_classes"
   ]
  },
  {
   "cell_type": "code",
   "execution_count": 3,
   "metadata": {
    "execution": {
     "iopub.execute_input": "2024-11-07T06:20:49.431210Z",
     "iopub.status.busy": "2024-11-07T06:20:49.430897Z",
     "iopub.status.idle": "2024-11-07T06:20:49.454129Z",
     "shell.execute_reply": "2024-11-07T06:20:49.453610Z"
    }
   },
   "outputs": [],
   "source": [
    "var_df = pd.read_parquet('../../sc_pretrained/var.parquet')\n",
    "all_genes = var_df['feature_name'].tolist()\n",
    "\n",
    "new_data = np.zeros((adata.X.shape[0], len(all_genes)), dtype=np.float32)\n",
    "\n",
    "adata.var['gene_name']=adata.var.index\n",
    "existing_genes = adata.var['gene_name']"
   ]
  },
  {
   "cell_type": "code",
   "execution_count": 4,
   "metadata": {
    "execution": {
     "iopub.execute_input": "2024-11-07T06:20:49.456027Z",
     "iopub.status.busy": "2024-11-07T06:20:49.455586Z",
     "iopub.status.idle": "2024-11-07T06:20:49.463514Z",
     "shell.execute_reply": "2024-11-07T06:20:49.463014Z"
    }
   },
   "outputs": [
    {
     "name": "stdout",
     "output_type": "stream",
     "text": [
      "匹配的基因数量: 281\n",
      "匹配的基因列表: {'bnip3', 'tfrc', 'col24a1', 'itih5', 'ltbp1', 'gli3', 'reln', 'cfap54', 'ccn1', 'srrm4', 'cfap299', 'prox1', 'kcnq5', 'tshr', 'nwd2', 'ccser1', 'dock10', 'cntln', 'st8sia5', 'tfap2c', 'ebf2', 'prss12', 'olfm3', 'cdh9', 'trhde', 'hgf', 'pcsk6', 'sema5a', 'abcb1', 'hopx', 'ca10', 'cpne8', 'plp1', 'gad1', 'id3', 'hcrtr2', 'apbb1ip', 'kcnh5', 'satb2', 'synpr', 'disc1', 'svil', 'opcml', 'enpp6', 'cdh18', 'grm3', 'il1rapl2', 'cd38', 'pou3f2', 'slco1c1', 'stk32b', 'kif11', 'nxph2', 'ttr', 'pcdh15', 'ebf1', 'dgkd', 'sp8', 'ccbe1', 'carhsp1', 'cntnap4', 'cux2', 'col12a1', 'col1a2', 'cobll1', 'spata6', 'myt1l', 'ptchd4', 'lhfpl3', 'fgfbp3', 'diaph3', 'cldn5', 'fezf2', 'hs3st4', 'mdga1', 'dpf3', 'glis3', 'gpc5', 'aspm', 'igfbp7', 'fam107a', 'olig1', 'hmgb2', 'gad2', 'glra3', 'ifi6', 'apold1', 'cdh12', 'mlip', 'grik1', 'camk2a', 'creb5', 'arx', 'nampt', 'sulf1', 'cenpf', 'epha3', 'col4a1', 'runx1t1', 'lhx1', 'egfr', 'hes6', 'hes1', 'pls3', 'tcerg1l', 'rit2', 'cd44', 'sst', 'kcns3', 'col4a5', 'aqp4', 'stat1', 'znf804b', 'prex2', 'rbms3', 'sema3e', 'cd99', 'gpx3', 'hmga2', 'clmp', 'dock8', 'spata17', 'spock3', 'mx1', 'ralyl', 'eya2', 'epha7', 'vwc2l', 'armc3', 'dlx2', 'slc1a2', 'pou6f2', 'ccdc175', 'cryab', 'ifit1', 'etv1', 'cadps2', 'znf536', 'dll3', 'rbfox3', 'tcf7l2', 'fam160a1', 'bcl11b', 'adamtsl1', 'moxd1', 'tns3', 'runx1', 'inpp4b', 'slc9a9', 'dscam', 'kcnip4', 'lrig1', 'cped1', 'flt1', 'alk', 'calb2', 'c21orf58', 'vim', 'best3', 'zic1', 'agbl1', 'sla', 'cebpd', 'zbbx', 'isg15', 'gpr39', 'cck', 'kit', 'kitlg', 'tnr', 'metap1d', 'klhl4', 'ebf3', 'tshz2', 'ppp1r16b', 'zfp36', 'itga2', 'tnc', 'bcas1', 'tac3', 'vegfa', 'bmper', 'smc4', 'cbln2', 'eva1c', 'fbn2', 'sfrp1', 'spp1', 'ablim1', 'cxcl14', 'lama2', 'pbx3', 'top2a', 'lhfpl6', 'dio2', 'nell2', 'rarb', 'tac1', 'kiaa1217', 'dpy19l1', 'pcbp3', 'lipg', 'sulf2', 'ascl1', 'nhlh2', 'notch1', 'rgs6', 'cpne4', 'st18', 'znf385d', 'palmd', 'gja1', 'neurod1', 'pcdh11y', 'itm2a', 'lrmda', 'ifit3', 'klhl14', 'slit3', 'pdgfra', 'igfbp5', 'cfap43', 'nxph1', 'mob3b', 'angpt1', 'kirrel3', 'knl1', 'nrp1', 'klhl1', 'thsd4', 'fn1', 'pcp4', 'sv2b', 'cntnap2', 'ripor2', 'sorcs3', 'lrrc9', 'slc6a1', 'ugt8', 'chrdl1', 'mab21l1', 'vip', 'abca8', 'gpr17', 'tshz1', 'sorcs1', 'daam2', 'fos', 'rorb', 'colec12', 'glul', 'nr3c2', 'maml2', 'map3k1', 'grin3a', 'nefl', 'slc35f3', 'nkain2', 'vav3', 'cdh20', 'atp10b', 'eomes', 'crh', 'adarb2', 'enpp2', 'rnf220', 'spon1', 'pdzrn4', 'dach1', 'mobp', 'fyb2', 'brip1', 'sema3c', 'gadl1', 'fbxo32', 'grin2a', 'necab1', 'retreg1', 'eogt', 'rrm2', 'tfpi'}\n"
     ]
    },
    {
     "data": {
      "text/plain": [
       "{'dlx6-as1',\n",
       " 'fam106a',\n",
       " 'kcnq1ot1',\n",
       " 'lhx1-dt',\n",
       " 'linc00609',\n",
       " 'linc01170',\n",
       " 'linc01619',\n",
       " 'linc01965',\n",
       " 'linc02147',\n",
       " 'linc02487',\n",
       " 'lncarod',\n",
       " 'neat1',\n",
       " 'nfia-as2',\n",
       " 'nr2f2-as1',\n",
       " 'obi1-as1',\n",
       " 'rmst',\n",
       " 'satb1-as1',\n",
       " 'sgo1-as1',\n",
       " 'tctex1d1'}"
      ]
     },
     "execution_count": 4,
     "metadata": {},
     "output_type": "execute_result"
    }
   ],
   "source": [
    "# 将所有基因名称转换为小写\n",
    "all_genes_lower = [gene.lower() for gene in all_genes]\n",
    "adata_genes_lower = [gene.lower() for gene in existing_genes]\n",
    "\n",
    "# 将两个列表转换为集合\n",
    "all_genes_set = set(all_genes_lower)\n",
    "adata_genes_set = set(adata_genes_lower)\n",
    "\n",
    "# 计算交集\n",
    "matching_genes = all_genes_set.intersection(adata_genes_set)\n",
    "matching_count = len(matching_genes)\n",
    "# 计算不匹配的基因\n",
    "non_matching_genes = adata_genes_set - matching_genes\n",
    "non_matching_count = len(non_matching_genes)\n",
    "\n",
    "\n",
    "# 输出结果\n",
    "print(f\"匹配的基因数量: {matching_count}\")\n",
    "print(f\"匹配的基因列表: {matching_genes}\")\n",
    "non_matching_genes"
   ]
  },
  {
   "cell_type": "code",
   "execution_count": 5,
   "metadata": {
    "execution": {
     "iopub.execute_input": "2024-11-07T06:20:49.465291Z",
     "iopub.status.busy": "2024-11-07T06:20:49.464944Z",
     "iopub.status.idle": "2024-11-07T06:20:56.491708Z",
     "shell.execute_reply": "2024-11-07T06:20:56.490949Z"
    }
   },
   "outputs": [
    {
     "name": "stdout",
     "output_type": "stream",
     "text": [
      "Gene tctex1d1 not found in all_genes list\n"
     ]
    },
    {
     "name": "stdout",
     "output_type": "stream",
     "text": [
      "Gene linc02487 not found in all_genes list\n",
      "Gene nfia-as2 not found in all_genes list\n",
      "Gene lncarod not found in all_genes list\n",
      "Gene dlx6-as1 not found in all_genes list\n",
      "Gene sgo1-as1 not found in all_genes list\n"
     ]
    },
    {
     "name": "stdout",
     "output_type": "stream",
     "text": [
      "Gene linc02147 not found in all_genes list\n",
      "Gene linc01965 not found in all_genes list\n",
      "Gene linc00609 not found in all_genes list\n",
      "Gene linc01619 not found in all_genes list\n",
      "Gene kcnq1ot1 not found in all_genes list\n",
      "Gene obi1-as1 not found in all_genes list\n",
      "Gene fam106a not found in all_genes list\n",
      "Gene neat1 not found in all_genes list\n",
      "Gene nr2f2-as1 not found in all_genes list\n",
      "Gene lhx1-dt not found in all_genes list\n",
      "Gene linc01170 not found in all_genes list\n",
      "Gene satb1-as1 not found in all_genes list\n",
      "Gene rmst not found in all_genes list\n"
     ]
    }
   ],
   "source": [
    "gene_to_index = {gene: idx for idx, gene in enumerate(all_genes_lower)}\n",
    "dense_adata_X = adata.X.toarray()\n",
    "for i, gene in enumerate(adata_genes_lower):\n",
    "    if gene in gene_to_index:\n",
    "        new_data[:, gene_to_index[gene]] = dense_adata_X[:, i]\n",
    "    else:\n",
    "        print(f'Gene {gene} not found in all_genes list')"
   ]
  },
  {
   "cell_type": "code",
   "execution_count": 6,
   "metadata": {
    "execution": {
     "iopub.execute_input": "2024-11-07T06:20:56.493810Z",
     "iopub.status.busy": "2024-11-07T06:20:56.493518Z",
     "iopub.status.idle": "2024-11-07T06:21:03.754486Z",
     "shell.execute_reply": "2024-11-07T06:21:03.753847Z"
    }
   },
   "outputs": [
    {
     "name": "stderr",
     "output_type": "stream",
     "text": [
      "GPU available: True (cuda), used: True\n"
     ]
    },
    {
     "name": "stderr",
     "output_type": "stream",
     "text": [
      "TPU available: False, using: 0 TPU cores\n"
     ]
    },
    {
     "name": "stderr",
     "output_type": "stream",
     "text": [
      "HPU available: False, using: 0 HPUs\n"
     ]
    }
   ],
   "source": [
    "# 使用 GPU 进行评估（如果可用）\n",
    "estim.trainer = pl.Trainer(accelerator=\"gpu\", devices=1 if torch.cuda.is_available() else None)\n",
    "\n",
    "# 5. 数据集划分（70% 训练，15% 验证，15% 测试）\n",
    "label_encoder = LabelEncoder()\n",
    "labels_encoded = label_encoder.fit_transform(adata.obs['cell_type'])  # 预先编码标签\n",
    "\n",
    "\n",
    "random_seed = 42\n",
    "\n",
    "X_train_val, X_test, y_train_val, y_test = train_test_split(\n",
    "    new_data, labels_encoded, test_size=0.15, random_state=random_seed)\n",
    "\n",
    "X_train, X_val, y_train, y_val = train_test_split(\n",
    "    X_train_val, y_train_val, test_size=0.1765, random_state=random_seed)  # 0.1765 是为了让验证集占 15%"
   ]
  },
  {
   "cell_type": "code",
   "execution_count": 7,
   "metadata": {
    "execution": {
     "iopub.execute_input": "2024-11-07T06:21:03.756966Z",
     "iopub.status.busy": "2024-11-07T06:21:03.756719Z",
     "iopub.status.idle": "2024-11-07T06:21:06.598194Z",
     "shell.execute_reply": "2024-11-07T06:21:06.597664Z"
    }
   },
   "outputs": [
    {
     "data": {
      "text/plain": [
       "MLPAutoEncoder(\n",
       "  (train_metrics): MetricCollection(\n",
       "    (explained_var_uniform): ExplainedVariance()\n",
       "    (explained_var_weighted): ExplainedVariance()\n",
       "    (mse): MeanSquaredError(),\n",
       "    prefix=train_\n",
       "  )\n",
       "  (val_metrics): MetricCollection(\n",
       "    (explained_var_uniform): ExplainedVariance()\n",
       "    (explained_var_weighted): ExplainedVariance()\n",
       "    (mse): MeanSquaredError(),\n",
       "    prefix=val_\n",
       "  )\n",
       "  (test_metrics): MetricCollection(\n",
       "    (explained_var_uniform): ExplainedVariance()\n",
       "    (explained_var_weighted): ExplainedVariance()\n",
       "    (mse): MeanSquaredError(),\n",
       "    prefix=test_\n",
       "  )\n",
       "  (encoder): MLP(\n",
       "    (0): Linear(in_features=19331, out_features=512, bias=True)\n",
       "    (1): SELU()\n",
       "    (2): Dropout(p=0.1, inplace=False)\n",
       "    (3): Linear(in_features=512, out_features=512, bias=True)\n",
       "    (4): SELU()\n",
       "    (5): Dropout(p=0.1, inplace=False)\n",
       "    (6): Linear(in_features=512, out_features=256, bias=True)\n",
       "    (7): SELU()\n",
       "    (8): Dropout(p=0.1, inplace=False)\n",
       "    (9): Linear(in_features=256, out_features=256, bias=True)\n",
       "    (10): SELU()\n",
       "    (11): Dropout(p=0.1, inplace=False)\n",
       "    (12): Linear(in_features=256, out_features=64, bias=True)\n",
       "  )\n",
       "  (decoder): Sequential(\n",
       "    (0): MLP(\n",
       "      (0): Linear(in_features=64, out_features=256, bias=True)\n",
       "      (1): SELU()\n",
       "      (2): Dropout(p=0.1, inplace=False)\n",
       "      (3): Linear(in_features=256, out_features=256, bias=True)\n",
       "      (4): SELU()\n",
       "      (5): Dropout(p=0.1, inplace=False)\n",
       "      (6): Linear(in_features=256, out_features=512, bias=True)\n",
       "      (7): SELU()\n",
       "      (8): Dropout(p=0.1, inplace=False)\n",
       "      (9): Linear(in_features=512, out_features=512, bias=True)\n",
       "      (10): SELU()\n",
       "      (11): Dropout(p=0.1, inplace=False)\n",
       "      (12): Linear(in_features=512, out_features=19331, bias=True)\n",
       "    )\n",
       "    (1): Sigmoid()\n",
       "  )\n",
       "  (fc): Linear(in_features=64, out_features=29, bias=True)\n",
       ")"
      ]
     },
     "execution_count": 7,
     "metadata": {},
     "output_type": "execute_result"
    }
   ],
   "source": [
    "# 将训练数据转换为张量\n",
    "device = torch.device(\"cuda\" if torch.cuda.is_available() else \"cpu\")\n",
    "X_train_tensor = torch.tensor(X_train).float().to(device)\n",
    "y_train_tensor = torch.tensor(y_train).long().to(device)\n",
    "X_val_tensor = torch.tensor(X_val).float().to(device)\n",
    "y_val_tensor = torch.tensor(y_val).long().to(device)\n",
    "estim.model.to(device)"
   ]
  },
  {
   "cell_type": "code",
   "execution_count": 8,
   "metadata": {
    "execution": {
     "iopub.execute_input": "2024-11-07T06:21:06.600238Z",
     "iopub.status.busy": "2024-11-07T06:21:06.600077Z",
     "iopub.status.idle": "2024-11-07T06:21:06.603383Z",
     "shell.execute_reply": "2024-11-07T06:21:06.602894Z"
    }
   },
   "outputs": [],
   "source": [
    "# 6. 微调模型，仅微调 encoder 的最后两层，其他层参数冻结\n",
    "for param in estim.model.encoder.parameters():\n",
    "    param.requires_grad = False  # 冻结所有层\n",
    "\n",
    "# 解冻所有层\n",
    "for param in list(estim.model.encoder.parameters())[-5:]:\n",
    "    param.requires_grad = True"
   ]
  },
  {
   "cell_type": "code",
   "execution_count": 9,
   "metadata": {
    "execution": {
     "iopub.execute_input": "2024-11-07T06:21:06.604803Z",
     "iopub.status.busy": "2024-11-07T06:21:06.604644Z",
     "iopub.status.idle": "2024-11-07T06:21:06.608158Z",
     "shell.execute_reply": "2024-11-07T06:21:06.607680Z"
    }
   },
   "outputs": [],
   "source": [
    "# 定义损失函数和优化器\n",
    "loss_fn = nn.CrossEntropyLoss()\n",
    "optimizer = AdamW(filter(lambda p: p.requires_grad, estim.model.parameters()), lr=9e-4, weight_decay=0.05)\n",
    "scheduler = torch.optim.lr_scheduler.StepLR(optimizer, step_size=2, gamma=0.9)"
   ]
  },
  {
   "cell_type": "code",
   "execution_count": 10,
   "metadata": {
    "execution": {
     "iopub.execute_input": "2024-11-07T06:21:06.609536Z",
     "iopub.status.busy": "2024-11-07T06:21:06.609386Z",
     "iopub.status.idle": "2024-11-07T06:21:06.614567Z",
     "shell.execute_reply": "2024-11-07T06:21:06.614086Z"
    }
   },
   "outputs": [],
   "source": [
    "from torch.utils.data import DataLoader, TensorDataset\n",
    "\n",
    "# 设置 batch size\n",
    "batch_size = 128  # 根据实际需求调整 batch size\n",
    "\n",
    "# 使用 TensorDataset 将训练数据和标签打包\n",
    "train_dataset = TensorDataset(X_train_tensor, y_train_tensor)\n",
    "val_dataset = TensorDataset(X_val_tensor, y_val_tensor)\n",
    "\n",
    "# 使用 DataLoader 来创建批次\n",
    "train_loader = DataLoader(train_dataset, batch_size=batch_size, shuffle=True)\n",
    "val_loader = DataLoader(val_dataset, batch_size=batch_size, shuffle=False)\n",
    "\n",
    "# 7. 微调模型\n",
    "def train_epoch(model, optimizer, loss_fn, train_loader, val_loader):\n",
    "    model.train()\n",
    "    total_train_loss = 0\n",
    "    \n",
    "    # 训练集批次训练\n",
    "    for X_batch, y_batch in train_loader:\n",
    "        optimizer.zero_grad()\n",
    "        \n",
    "        # 前向传播\n",
    "        outputs = model.encoder(X_batch)\n",
    "        logits = model.fc(outputs)\n",
    "        \n",
    "        # 计算损失\n",
    "        loss = loss_fn(logits, y_batch)\n",
    "        loss.backward()\n",
    "        optimizer.step()\n",
    "        \n",
    "        total_train_loss += loss.item()\n",
    "    \n",
    "    # 验证集\n",
    "    model.eval()\n",
    "    total_val_loss = 0\n",
    "    with torch.no_grad():\n",
    "        for X_val_batch, y_val_batch in val_loader:\n",
    "            val_outputs = model.encoder(X_val_batch)\n",
    "            val_logits = model.fc(val_outputs)\n",
    "            val_loss = loss_fn(val_logits, y_val_batch)\n",
    "            total_val_loss += val_loss.item()\n",
    "\n",
    "    # 返回平均损失\n",
    "    return total_train_loss / len(train_loader), total_val_loss / len(val_loader)"
   ]
  },
  {
   "cell_type": "code",
   "execution_count": 11,
   "metadata": {
    "execution": {
     "iopub.execute_input": "2024-11-07T06:21:06.616051Z",
     "iopub.status.busy": "2024-11-07T06:21:06.615716Z",
     "iopub.status.idle": "2024-11-07T06:26:03.755819Z",
     "shell.execute_reply": "2024-11-07T06:26:03.754990Z"
    }
   },
   "outputs": [
    {
     "name": "stdout",
     "output_type": "stream",
     "text": [
      "Epoch 1, Train Loss: 1.1177575767831258, Validation Loss: 0.7166532278060913\n",
      "Validation loss improved to 0.7166532278060913, resetting patience.\n"
     ]
    },
    {
     "name": "stdout",
     "output_type": "stream",
     "text": [
      "Epoch 2, Train Loss: 0.8773754253506567, Validation Loss: 0.6620733327215368\n",
      "Validation loss improved to 0.6620733327215368, resetting patience.\n"
     ]
    },
    {
     "name": "stdout",
     "output_type": "stream",
     "text": [
      "Epoch 3, Train Loss: 0.8463885496129848, Validation Loss: 0.6698197175155987\n",
      "No improvement in validation loss. Patience counter: 1/20\n"
     ]
    },
    {
     "name": "stdout",
     "output_type": "stream",
     "text": [
      "Epoch 4, Train Loss: 0.8286376764865521, Validation Loss: 0.6601391382650895\n",
      "Validation loss improved to 0.6601391382650895, resetting patience.\n"
     ]
    },
    {
     "name": "stdout",
     "output_type": "stream",
     "text": [
      "Epoch 5, Train Loss: 0.8158275790739394, Validation Loss: 0.6364327341859991\n",
      "Validation loss improved to 0.6364327341859991, resetting patience.\n"
     ]
    },
    {
     "name": "stdout",
     "output_type": "stream",
     "text": [
      "Epoch 6, Train Loss: 0.8086369436853663, Validation Loss: 0.6513348579406738\n",
      "No improvement in validation loss. Patience counter: 1/20\n"
     ]
    },
    {
     "name": "stdout",
     "output_type": "stream",
     "text": [
      "Epoch 7, Train Loss: 0.7998858654433912, Validation Loss: 0.622430692911148\n",
      "Validation loss improved to 0.622430692911148, resetting patience.\n"
     ]
    },
    {
     "name": "stdout",
     "output_type": "stream",
     "text": [
      "Epoch 8, Train Loss: 0.7910405302494415, Validation Loss: 0.6227156436443329\n",
      "No improvement in validation loss. Patience counter: 1/20\n"
     ]
    },
    {
     "name": "stdout",
     "output_type": "stream",
     "text": [
      "Epoch 9, Train Loss: 0.7865254217577018, Validation Loss: 0.6223902961340817\n",
      "No improvement in validation loss. Patience counter: 2/20\n"
     ]
    },
    {
     "name": "stdout",
     "output_type": "stream",
     "text": [
      "Epoch 10, Train Loss: 0.7811460877004589, Validation Loss: 0.5974923136017539\n",
      "Validation loss improved to 0.5974923136017539, resetting patience.\n"
     ]
    },
    {
     "name": "stdout",
     "output_type": "stream",
     "text": [
      "Epoch 11, Train Loss: 0.7773287599204016, Validation Loss: 0.604213944456794\n",
      "No improvement in validation loss. Patience counter: 1/20\n"
     ]
    },
    {
     "name": "stdout",
     "output_type": "stream",
     "text": [
      "Epoch 12, Train Loss: 0.7767041240884958, Validation Loss: 0.6123669957030903\n",
      "No improvement in validation loss. Patience counter: 2/20\n"
     ]
    },
    {
     "name": "stdout",
     "output_type": "stream",
     "text": [
      "Epoch 13, Train Loss: 0.7684355921153442, Validation Loss: 0.6124252023480156\n",
      "No improvement in validation loss. Patience counter: 3/20\n"
     ]
    },
    {
     "name": "stdout",
     "output_type": "stream",
     "text": [
      "Epoch 14, Train Loss: 0.7726180319856797, Validation Loss: 0.6141997533494776\n",
      "No improvement in validation loss. Patience counter: 4/20\n"
     ]
    },
    {
     "name": "stdout",
     "output_type": "stream",
     "text": [
      "Epoch 15, Train Loss: 0.7643663235980026, Validation Loss: 0.6069116629253735\n",
      "No improvement in validation loss. Patience counter: 5/20\n"
     ]
    },
    {
     "name": "stdout",
     "output_type": "stream",
     "text": [
      "Epoch 16, Train Loss: 0.760341187132047, Validation Loss: 0.6091733367876573\n",
      "No improvement in validation loss. Patience counter: 6/20\n"
     ]
    },
    {
     "name": "stdout",
     "output_type": "stream",
     "text": [
      "Epoch 17, Train Loss: 0.7588432435408689, Validation Loss: 0.605948984297839\n",
      "No improvement in validation loss. Patience counter: 7/20\n"
     ]
    },
    {
     "name": "stdout",
     "output_type": "stream",
     "text": [
      "Epoch 18, Train Loss: 0.7556502305139888, Validation Loss: 0.6123021540858529\n",
      "No improvement in validation loss. Patience counter: 8/20\n"
     ]
    },
    {
     "name": "stdout",
     "output_type": "stream",
     "text": [
      "Epoch 19, Train Loss: 0.7556906272944391, Validation Loss: 0.614550917040218\n",
      "No improvement in validation loss. Patience counter: 9/20\n"
     ]
    },
    {
     "name": "stdout",
     "output_type": "stream",
     "text": [
      "Epoch 20, Train Loss: 0.7572084928657001, Validation Loss: 0.6010803645307368\n",
      "No improvement in validation loss. Patience counter: 10/20\n"
     ]
    },
    {
     "name": "stdout",
     "output_type": "stream",
     "text": [
      "Epoch 21, Train Loss: 0.7510292874147518, Validation Loss: 0.5981890162554654\n",
      "No improvement in validation loss. Patience counter: 11/20\n"
     ]
    },
    {
     "name": "stdout",
     "output_type": "stream",
     "text": [
      "Epoch 22, Train Loss: 0.7497253373532813, Validation Loss: 0.578991188027642\n",
      "Validation loss improved to 0.578991188027642, resetting patience.\n"
     ]
    },
    {
     "name": "stdout",
     "output_type": "stream",
     "text": [
      "Epoch 23, Train Loss: 0.7492032410063658, Validation Loss: 0.5967189633846283\n",
      "No improvement in validation loss. Patience counter: 1/20\n"
     ]
    },
    {
     "name": "stdout",
     "output_type": "stream",
     "text": [
      "Epoch 24, Train Loss: 0.7487011478107297, Validation Loss: 0.5913248299468647\n",
      "No improvement in validation loss. Patience counter: 2/20\n"
     ]
    },
    {
     "name": "stdout",
     "output_type": "stream",
     "text": [
      "Epoch 25, Train Loss: 0.7476797382595203, Validation Loss: 0.5897273517738689\n",
      "No improvement in validation loss. Patience counter: 3/20\n"
     ]
    },
    {
     "name": "stdout",
     "output_type": "stream",
     "text": [
      "Epoch 26, Train Loss: 0.7468644389410116, Validation Loss: 0.596379336010326\n",
      "No improvement in validation loss. Patience counter: 4/20\n"
     ]
    },
    {
     "name": "stdout",
     "output_type": "stream",
     "text": [
      "Epoch 27, Train Loss: 0.7449086291030642, Validation Loss: 0.587188558253375\n",
      "No improvement in validation loss. Patience counter: 5/20\n"
     ]
    },
    {
     "name": "stdout",
     "output_type": "stream",
     "text": [
      "Epoch 28, Train Loss: 0.7471681390071083, Validation Loss: 0.598335868770426\n",
      "No improvement in validation loss. Patience counter: 6/20\n"
     ]
    },
    {
     "name": "stdout",
     "output_type": "stream",
     "text": [
      "Epoch 29, Train Loss: 0.7423962259273991, Validation Loss: 0.5883159576762806\n",
      "No improvement in validation loss. Patience counter: 7/20\n"
     ]
    },
    {
     "name": "stdout",
     "output_type": "stream",
     "text": [
      "Epoch 30, Train Loss: 0.7424274857485322, Validation Loss: 0.5850631085309115\n",
      "No improvement in validation loss. Patience counter: 8/20\n"
     ]
    },
    {
     "name": "stdout",
     "output_type": "stream",
     "text": [
      "Epoch 31, Train Loss: 0.7430822524728484, Validation Loss: 0.5847667872905731\n",
      "No improvement in validation loss. Patience counter: 9/20\n"
     ]
    },
    {
     "name": "stdout",
     "output_type": "stream",
     "text": [
      "Epoch 32, Train Loss: 0.7415418823094782, Validation Loss: 0.5822916678948836\n",
      "No improvement in validation loss. Patience counter: 10/20\n"
     ]
    },
    {
     "name": "stdout",
     "output_type": "stream",
     "text": [
      "Epoch 33, Train Loss: 0.7400662086840071, Validation Loss: 0.5905177411166105\n",
      "No improvement in validation loss. Patience counter: 11/20\n"
     ]
    },
    {
     "name": "stdout",
     "output_type": "stream",
     "text": [
      "Epoch 34, Train Loss: 0.7403084002696937, Validation Loss: 0.599922334172509\n",
      "No improvement in validation loss. Patience counter: 12/20\n"
     ]
    },
    {
     "name": "stdout",
     "output_type": "stream",
     "text": [
      "Epoch 35, Train Loss: 0.7385532226439662, Validation Loss: 0.5953729679367759\n",
      "No improvement in validation loss. Patience counter: 13/20\n"
     ]
    },
    {
     "name": "stdout",
     "output_type": "stream",
     "text": [
      "Epoch 36, Train Loss: 0.7390457769560683, Validation Loss: 0.5834774047678167\n",
      "No improvement in validation loss. Patience counter: 14/20\n"
     ]
    },
    {
     "name": "stdout",
     "output_type": "stream",
     "text": [
      "Epoch 37, Train Loss: 0.7385816211862363, Validation Loss: 0.5881526165658777\n",
      "No improvement in validation loss. Patience counter: 15/20\n"
     ]
    },
    {
     "name": "stdout",
     "output_type": "stream",
     "text": [
      "Epoch 38, Train Loss: 0.7384819427707249, Validation Loss: 0.5987019877000288\n",
      "No improvement in validation loss. Patience counter: 16/20\n"
     ]
    },
    {
     "name": "stdout",
     "output_type": "stream",
     "text": [
      "Epoch 39, Train Loss: 0.7358630665059577, Validation Loss: 0.5749636872248216\n",
      "Validation loss improved to 0.5749636872248216, resetting patience.\n"
     ]
    },
    {
     "name": "stdout",
     "output_type": "stream",
     "text": [
      "Epoch 40, Train Loss: 0.7370929167802961, Validation Loss: 0.590823391567577\n",
      "No improvement in validation loss. Patience counter: 1/20\n"
     ]
    },
    {
     "name": "stdout",
     "output_type": "stream",
     "text": [
      "Epoch 41, Train Loss: 0.7368760903211053, Validation Loss: 0.5821813476085663\n",
      "No improvement in validation loss. Patience counter: 2/20\n"
     ]
    },
    {
     "name": "stdout",
     "output_type": "stream",
     "text": [
      "Epoch 42, Train Loss: 0.7354891517262827, Validation Loss: 0.5901413067904385\n",
      "No improvement in validation loss. Patience counter: 3/20\n"
     ]
    },
    {
     "name": "stdout",
     "output_type": "stream",
     "text": [
      "Epoch 43, Train Loss: 0.7353479718436122, Validation Loss: 0.5773991732163862\n",
      "No improvement in validation loss. Patience counter: 4/20\n"
     ]
    },
    {
     "name": "stdout",
     "output_type": "stream",
     "text": [
      "Epoch 44, Train Loss: 0.7349656956164191, Validation Loss: 0.5913407045060938\n",
      "No improvement in validation loss. Patience counter: 5/20\n"
     ]
    },
    {
     "name": "stdout",
     "output_type": "stream",
     "text": [
      "Epoch 45, Train Loss: 0.7339293850203402, Validation Loss: 0.5928720766847784\n",
      "No improvement in validation loss. Patience counter: 6/20\n"
     ]
    },
    {
     "name": "stdout",
     "output_type": "stream",
     "text": [
      "Epoch 46, Train Loss: 0.7358301909848362, Validation Loss: 0.5765830742229114\n",
      "No improvement in validation loss. Patience counter: 7/20\n"
     ]
    },
    {
     "name": "stdout",
     "output_type": "stream",
     "text": [
      "Epoch 47, Train Loss: 0.732966462515184, Validation Loss: 0.5759282151135532\n",
      "No improvement in validation loss. Patience counter: 8/20\n"
     ]
    },
    {
     "name": "stdout",
     "output_type": "stream",
     "text": [
      "Epoch 48, Train Loss: 0.7336844001357952, Validation Loss: 0.5792650190266696\n",
      "No improvement in validation loss. Patience counter: 9/20\n"
     ]
    },
    {
     "name": "stdout",
     "output_type": "stream",
     "text": [
      "Epoch 49, Train Loss: 0.7360597172116601, Validation Loss: 0.5810296651450071\n",
      "No improvement in validation loss. Patience counter: 10/20\n"
     ]
    },
    {
     "name": "stdout",
     "output_type": "stream",
     "text": [
      "Epoch 50, Train Loss: 0.7341676607762901, Validation Loss: 0.5847510539401661\n",
      "No improvement in validation loss. Patience counter: 11/20\n"
     ]
    },
    {
     "name": "stdout",
     "output_type": "stream",
     "text": [
      "Epoch 51, Train Loss: 0.7319147101516932, Validation Loss: 0.5732998420975425\n",
      "Validation loss improved to 0.5732998420975425, resetting patience.\n"
     ]
    },
    {
     "name": "stdout",
     "output_type": "stream",
     "text": [
      "Epoch 52, Train Loss: 0.7327450045517513, Validation Loss: 0.601178317936984\n",
      "No improvement in validation loss. Patience counter: 1/20\n"
     ]
    },
    {
     "name": "stdout",
     "output_type": "stream",
     "text": [
      "Epoch 53, Train Loss: 0.7340997627803257, Validation Loss: 0.5791027990254489\n",
      "No improvement in validation loss. Patience counter: 2/20\n"
     ]
    },
    {
     "name": "stdout",
     "output_type": "stream",
     "text": [
      "Epoch 54, Train Loss: 0.7302631176048475, Validation Loss: 0.5933756030689586\n",
      "No improvement in validation loss. Patience counter: 3/20\n"
     ]
    },
    {
     "name": "stdout",
     "output_type": "stream",
     "text": [
      "Epoch 55, Train Loss: 0.7331273080686589, Validation Loss: 0.5742863096974112\n",
      "No improvement in validation loss. Patience counter: 4/20\n"
     ]
    },
    {
     "name": "stdout",
     "output_type": "stream",
     "text": [
      "Epoch 56, Train Loss: 0.7286620873617623, Validation Loss: 0.5906048103896054\n",
      "No improvement in validation loss. Patience counter: 5/20\n"
     ]
    },
    {
     "name": "stdout",
     "output_type": "stream",
     "text": [
      "Epoch 57, Train Loss: 0.733033131613199, Validation Loss: 0.5943171867457303\n",
      "No improvement in validation loss. Patience counter: 6/20\n"
     ]
    },
    {
     "name": "stdout",
     "output_type": "stream",
     "text": [
      "Epoch 58, Train Loss: 0.7329912647942283, Validation Loss: 0.5722108581933109\n",
      "Validation loss improved to 0.5722108581933109, resetting patience.\n"
     ]
    },
    {
     "name": "stdout",
     "output_type": "stream",
     "text": [
      "Epoch 59, Train Loss: 0.7320829517063361, Validation Loss: 0.574356370080601\n",
      "No improvement in validation loss. Patience counter: 1/20\n"
     ]
    },
    {
     "name": "stdout",
     "output_type": "stream",
     "text": [
      "Epoch 60, Train Loss: 0.731469738702119, Validation Loss: 0.5769127696210687\n",
      "No improvement in validation loss. Patience counter: 2/20\n"
     ]
    },
    {
     "name": "stdout",
     "output_type": "stream",
     "text": [
      "Epoch 61, Train Loss: 0.7292701706208818, Validation Loss: 0.5793939031254162\n",
      "No improvement in validation loss. Patience counter: 3/20\n"
     ]
    },
    {
     "name": "stdout",
     "output_type": "stream",
     "text": [
      "Epoch 62, Train Loss: 0.7283720204506322, Validation Loss: 0.5729620334235105\n",
      "No improvement in validation loss. Patience counter: 4/20\n"
     ]
    },
    {
     "name": "stdout",
     "output_type": "stream",
     "text": [
      "Epoch 63, Train Loss: 0.7324442336979925, Validation Loss: 0.5908132884719155\n",
      "No improvement in validation loss. Patience counter: 5/20\n"
     ]
    },
    {
     "name": "stdout",
     "output_type": "stream",
     "text": [
      "Epoch 64, Train Loss: 0.7287530869734092, Validation Loss: 0.6066934689608487\n",
      "No improvement in validation loss. Patience counter: 6/20\n"
     ]
    },
    {
     "name": "stdout",
     "output_type": "stream",
     "text": [
      "Epoch 65, Train Loss: 0.7307229190250564, Validation Loss: 0.584973077990792\n",
      "No improvement in validation loss. Patience counter: 7/20\n"
     ]
    },
    {
     "name": "stdout",
     "output_type": "stream",
     "text": [
      "Epoch 66, Train Loss: 0.7306350310690044, Validation Loss: 0.5773232333226638\n",
      "No improvement in validation loss. Patience counter: 8/20\n"
     ]
    },
    {
     "name": "stdout",
     "output_type": "stream",
     "text": [
      "Epoch 67, Train Loss: 0.7317730964951735, Validation Loss: 0.5906905799562281\n",
      "No improvement in validation loss. Patience counter: 9/20\n"
     ]
    },
    {
     "name": "stdout",
     "output_type": "stream",
     "text": [
      "Epoch 68, Train Loss: 0.7301563318123769, Validation Loss: 0.5886510859836231\n",
      "No improvement in validation loss. Patience counter: 10/20\n"
     ]
    },
    {
     "name": "stdout",
     "output_type": "stream",
     "text": [
      "Epoch 69, Train Loss: 0.7295361487405734, Validation Loss: 0.5898428893089295\n",
      "No improvement in validation loss. Patience counter: 11/20\n"
     ]
    },
    {
     "name": "stdout",
     "output_type": "stream",
     "text": [
      "Epoch 70, Train Loss: 0.7313072177276865, Validation Loss: 0.5923227125948126\n",
      "No improvement in validation loss. Patience counter: 12/20\n"
     ]
    },
    {
     "name": "stdout",
     "output_type": "stream",
     "text": [
      "Epoch 71, Train Loss: 0.7280828932316205, Validation Loss: 0.5844144263050773\n",
      "No improvement in validation loss. Patience counter: 13/20\n"
     ]
    },
    {
     "name": "stdout",
     "output_type": "stream",
     "text": [
      "Epoch 72, Train Loss: 0.728115954546143, Validation Loss: 0.5779330930926583\n",
      "No improvement in validation loss. Patience counter: 14/20\n"
     ]
    },
    {
     "name": "stdout",
     "output_type": "stream",
     "text": [
      "Epoch 73, Train Loss: 0.7273189175836189, Validation Loss: 0.5682650424133647\n",
      "Validation loss improved to 0.5682650424133647, resetting patience.\n"
     ]
    },
    {
     "name": "stdout",
     "output_type": "stream",
     "text": [
      "Epoch 74, Train Loss: 0.7316852913155955, Validation Loss: 0.5897809668020768\n",
      "No improvement in validation loss. Patience counter: 1/20\n"
     ]
    },
    {
     "name": "stdout",
     "output_type": "stream",
     "text": [
      "Epoch 75, Train Loss: 0.7318471194616433, Validation Loss: 0.5847591397979043\n",
      "No improvement in validation loss. Patience counter: 2/20\n"
     ]
    },
    {
     "name": "stdout",
     "output_type": "stream",
     "text": [
      "Epoch 76, Train Loss: 0.72995673344528, Validation Loss: 0.5961305382034995\n",
      "No improvement in validation loss. Patience counter: 3/20\n"
     ]
    },
    {
     "name": "stdout",
     "output_type": "stream",
     "text": [
      "Epoch 77, Train Loss: 0.7306286792890994, Validation Loss: 0.5783072291720998\n",
      "No improvement in validation loss. Patience counter: 4/20\n"
     ]
    },
    {
     "name": "stdout",
     "output_type": "stream",
     "text": [
      "Epoch 78, Train Loss: 0.7319380439044348, Validation Loss: 0.5714399727908048\n",
      "No improvement in validation loss. Patience counter: 5/20\n"
     ]
    },
    {
     "name": "stdout",
     "output_type": "stream",
     "text": [
      "Epoch 79, Train Loss: 0.7296439054699078, Validation Loss: 0.576767029762268\n",
      "No improvement in validation loss. Patience counter: 6/20\n"
     ]
    },
    {
     "name": "stdout",
     "output_type": "stream",
     "text": [
      "Epoch 80, Train Loss: 0.7277935167525914, Validation Loss: 0.5894798764315519\n",
      "No improvement in validation loss. Patience counter: 7/20\n"
     ]
    },
    {
     "name": "stdout",
     "output_type": "stream",
     "text": [
      "Epoch 81, Train Loss: 0.7272511637601696, Validation Loss: 0.5722571457516064\n",
      "No improvement in validation loss. Patience counter: 8/20\n"
     ]
    },
    {
     "name": "stdout",
     "output_type": "stream",
     "text": [
      "Epoch 82, Train Loss: 0.7293956303950123, Validation Loss: 0.5974548995494843\n",
      "No improvement in validation loss. Patience counter: 9/20\n"
     ]
    },
    {
     "name": "stdout",
     "output_type": "stream",
     "text": [
      "Epoch 83, Train Loss: 0.7306309888643925, Validation Loss: 0.5874794387817383\n",
      "No improvement in validation loss. Patience counter: 10/20\n"
     ]
    },
    {
     "name": "stdout",
     "output_type": "stream",
     "text": [
      "Epoch 84, Train Loss: 0.7295120612984984, Validation Loss: 0.5744868521256881\n",
      "No improvement in validation loss. Patience counter: 11/20\n"
     ]
    },
    {
     "name": "stdout",
     "output_type": "stream",
     "text": [
      "Epoch 85, Train Loss: 0.7264475631909292, Validation Loss: 0.5833037564971231\n",
      "No improvement in validation loss. Patience counter: 12/20\n"
     ]
    },
    {
     "name": "stdout",
     "output_type": "stream",
     "text": [
      "Epoch 86, Train Loss: 0.7257274010049283, Validation Loss: 0.5804539827866988\n",
      "No improvement in validation loss. Patience counter: 13/20\n"
     ]
    },
    {
     "name": "stdout",
     "output_type": "stream",
     "text": [
      "Epoch 87, Train Loss: 0.7282673251945279, Validation Loss: 0.5781535906141455\n",
      "No improvement in validation loss. Patience counter: 14/20\n"
     ]
    },
    {
     "name": "stdout",
     "output_type": "stream",
     "text": [
      "Epoch 88, Train Loss: 0.7262116132724294, Validation Loss: 0.5841664677316493\n",
      "No improvement in validation loss. Patience counter: 15/20\n"
     ]
    },
    {
     "name": "stdout",
     "output_type": "stream",
     "text": [
      "Epoch 89, Train Loss: 0.7287370272905542, Validation Loss: 0.5783673951842568\n",
      "No improvement in validation loss. Patience counter: 16/20\n"
     ]
    },
    {
     "name": "stdout",
     "output_type": "stream",
     "text": [
      "Epoch 90, Train Loss: 0.7302905114063707, Validation Loss: 0.5733322065526789\n",
      "No improvement in validation loss. Patience counter: 17/20\n"
     ]
    },
    {
     "name": "stdout",
     "output_type": "stream",
     "text": [
      "Epoch 91, Train Loss: 0.7300936268652723, Validation Loss: 0.60934912963347\n",
      "No improvement in validation loss. Patience counter: 18/20\n"
     ]
    },
    {
     "name": "stdout",
     "output_type": "stream",
     "text": [
      "Epoch 92, Train Loss: 0.7259658391032714, Validation Loss: 0.5853761606866663\n",
      "No improvement in validation loss. Patience counter: 19/20\n"
     ]
    },
    {
     "name": "stdout",
     "output_type": "stream",
     "text": [
      "Epoch 93, Train Loss: 0.7266305886982568, Validation Loss: 0.5846378872611306\n",
      "No improvement in validation loss. Patience counter: 20/20\n",
      "Early stopping triggered. Stopping training at epoch 93.\n",
      "Loaded best model weights based on validation loss.\n"
     ]
    }
   ],
   "source": [
    "import copy  # 用于保存模型的最佳状态\n",
    "\n",
    "# Early Stopping 参数\n",
    "patience = 20  # 如果验证损失在 10 个 epoch 中没有改善，停止训练\n",
    "min_delta = 1e-4  # 最小改善幅度\n",
    "patience_counter = 0\n",
    "best_val_loss = float('inf')  # 初始设置为正无穷大\n",
    "best_model_weights = copy.deepcopy(estim.model.state_dict())  # 保存最佳模型权重\n",
    "train_losses = []\n",
    "val_losses = []\n",
    "\n",
    "# 训练 500 个 epoch\n",
    "for epoch in range(500):\n",
    "    train_loss, val_loss = train_epoch(estim.model, optimizer, loss_fn, train_loader, val_loader)\n",
    "    print(f'Epoch {epoch+1}, Train Loss: {train_loss}, Validation Loss: {val_loss}')\n",
    "    train_losses.append(train_loss)\n",
    "    val_losses.append(val_loss)\n",
    "    \n",
    "    # Early Stopping 检查\n",
    "    if val_loss < best_val_loss - min_delta:\n",
    "        best_val_loss = val_loss  # 更新最佳验证损失\n",
    "        patience_counter = 0  # 重置 patience 计数器\n",
    "        best_model_weights = copy.deepcopy(estim.model.state_dict())  # 保存当前最佳模型\n",
    "        print(f\"Validation loss improved to {best_val_loss}, resetting patience.\")\n",
    "    else:\n",
    "        patience_counter += 1\n",
    "        print(f\"No improvement in validation loss. Patience counter: {patience_counter}/{patience}\")\n",
    "    \n",
    "    # 如果 patience_counter 超过设置的 patience，停止训练\n",
    "    if patience_counter >= patience:\n",
    "        print(f\"Early stopping triggered. Stopping training at epoch {epoch+1}.\")\n",
    "        break\n",
    "\n",
    "# 恢复到训练中性能最好的模型权重\n",
    "estim.model.load_state_dict(best_model_weights)\n",
    "print(\"Loaded best model weights based on validation loss.\")\n"
   ]
  },
  {
   "cell_type": "code",
   "execution_count": 12,
   "metadata": {
    "execution": {
     "iopub.execute_input": "2024-11-07T06:26:03.758118Z",
     "iopub.status.busy": "2024-11-07T06:26:03.757793Z",
     "iopub.status.idle": "2024-11-07T06:26:04.720697Z",
     "shell.execute_reply": "2024-11-07T06:26:04.720127Z"
    }
   },
   "outputs": [
    {
     "name": "stderr",
     "output_type": "stream",
     "text": [
      "The PostScript backend does not support transparency; partially transparent artists will be rendered opaque.\n"
     ]
    },
    {
     "data": {
      "image/png": "[encoded data removed]",
      "text/plain": [
       "<Figure size 1000x600 with 1 Axes>"
      ]
     },
     "metadata": {},
     "output_type": "display_data"
    }
   ],
   "source": [
    "import matplotlib.pyplot as plt  # 导入 matplotlib.pyplot，而不是 matplotlib\n",
    "\n",
    "plt.figure(figsize=(10, 6))\n",
    "plt.plot(train_losses, label='Training Loss')\n",
    "plt.plot(val_losses, label='Validation Loss')\n",
    "plt.xlabel('Epoch')\n",
    "plt.ylabel('Loss')\n",
    "plt.title('Training and Validation Loss over Epochs')\n",
    "plt.legend()\n",
    "plt.savefig('../loss_curve_fig/merfish_human_neocortex_random_mask_finetune_full_loss_curve.png', dpi=400)  # 保存图像为png格式，400 dpi\n",
    "plt.savefig('../loss_curve_fig/merfish_human_neocortex_random_mask_finetune_full_loss_curve.eps', format='eps', dpi=400)  # 保存图像为png格式，400 dpi\n",
    "\n",
    "plt.show()\n"
   ]
  },
  {
   "cell_type": "code",
   "execution_count": 13,
   "metadata": {
    "execution": {
     "iopub.execute_input": "2024-11-07T06:26:04.722595Z",
     "iopub.status.busy": "2024-11-07T06:26:04.722328Z",
     "iopub.status.idle": "2024-11-07T06:26:08.637703Z",
     "shell.execute_reply": "2024-11-07T06:26:08.636590Z"
    }
   },
   "outputs": [],
   "source": [
    "# 8. 使用 KNN 替代测试阶段的 FC 分类层\n",
    "# 使用 encoder 提取训练集和测试集的 embedding\n",
    "estim.model.eval()\n",
    "with torch.no_grad():\n",
    "    train_embeddings = estim.model.encoder(torch.tensor(X_train).float().to(device)).cpu().numpy()\n",
    "    test_embeddings = estim.model.encoder(torch.tensor(X_test).float().to(device)).cpu().numpy()"
   ]
  },
  {
   "cell_type": "code",
   "execution_count": 14,
   "metadata": {
    "execution": {
     "iopub.execute_input": "2024-11-07T06:26:08.640414Z",
     "iopub.status.busy": "2024-11-07T06:26:08.640116Z",
     "iopub.status.idle": "2024-11-07T06:26:16.050994Z",
     "shell.execute_reply": "2024-11-07T06:26:16.050298Z"
    }
   },
   "outputs": [
    {
     "name": "stdout",
     "output_type": "stream",
     "text": [
      "KNN Accuracy on Test Data: 0.7995956604686921\n",
      "Weighted F1 Score: 0.7991847011507971\n",
      "Macro F1 Score: 0.7907265815854946\n",
      "Random Guess Accuracy: 0.05408382924188506\n",
      "                          precision    recall  f1-score   support\n",
      "\n",
      "       Astrocyte-Fibrous       0.82      0.86      0.84      2056\n",
      "  Astrocyte-Protoplasmic       0.78      0.79      0.79      1958\n",
      "          EN-IT-Immature       0.75      0.79      0.77      3827\n",
      "              EN-L2_3-IT       0.74      0.79      0.77      2843\n",
      "                EN-L4-IT       0.73      0.75      0.74      2585\n",
      "                EN-L5-ET       0.63      0.62      0.63        98\n",
      "                EN-L5-IT       0.77      0.82      0.79      1670\n",
      "              EN-L5_6-NP       0.82      0.78      0.80       344\n",
      "                EN-L6-CT       0.78      0.80      0.79       778\n",
      "                EN-L6-IT       0.83      0.83      0.83      1914\n",
      "                  EN-L6b       0.86      0.74      0.80      1218\n",
      "              EN-Newborn       0.79      0.68      0.73      1543\n",
      "         IN-CGE-Immature       0.72      0.78      0.75      1714\n",
      "             IN-CGE-SNCG       0.73      0.72      0.72       570\n",
      "              IN-CGE-VIP       0.82      0.81      0.81       658\n",
      "         IN-MGE-Immature       0.75      0.76      0.76      1597\n",
      "               IN-MGE-PV       0.71      0.67      0.69       516\n",
      "              IN-MGE-SST       0.88      0.85      0.86      1558\n",
      "            IN-Mix-LAMP5       0.75      0.59      0.66       287\n",
      "        IN-dLGE-Immature       0.80      0.72      0.75       509\n",
      "                  IPC-EN       0.85      0.73      0.79       128\n",
      "                IPC-Glia       0.80      0.77      0.78       849\n",
      "               Microglia       0.98      0.96      0.97       649\n",
      "                     OPC       0.91      0.95      0.93      1209\n",
      "         Oligodendrocyte       0.96      0.91      0.93       265\n",
      "Oligodendrocyte-Immature       0.94      0.89      0.92       359\n",
      "                  RG-oRG       0.67      0.56      0.61       645\n",
      "                  RG-tRG       0.76      0.73      0.74       431\n",
      "                Vascular       0.97      0.97      0.97      2341\n",
      "\n",
      "                accuracy                           0.80     35119\n",
      "               macro avg       0.80      0.78      0.79     35119\n",
      "            weighted avg       0.80      0.80      0.80     35119\n",
      "\n"
     ]
    }
   ],
   "source": [
    "import pandas as pd\n",
    "from sklearn.neighbors import KNeighborsClassifier\n",
    "from sklearn.metrics import accuracy_score, f1_score, classification_report\n",
    "\n",
    "    \n",
    "\n",
    "    # 初始化和训练KNN分类器\n",
    "knn = KNeighborsClassifier(n_neighbors=5)\n",
    "knn.fit(train_embeddings, y_train)\n",
    "    \n",
    "    # 模型预测\n",
    "predictions = knn.predict(test_embeddings)\n",
    "\n",
    "    # 计算准确率和 F1 分数\n",
    "accuracy = accuracy_score(y_test, predictions)\n",
    "print(f\"KNN Accuracy on Test Data: {accuracy}\")\n",
    "f1 = f1_score(y_test, predictions, average='weighted')\n",
    "print(f\"Weighted F1 Score: {f1}\")\n",
    "    \n",
    "macro_f1 = f1_score(y_test, predictions, average='macro')\n",
    "print(f'Macro F1 Score: {macro_f1}')\n",
    "\n",
    "    # 计算随机猜测的准确率\n",
    "class_probabilities = np.bincount(y_test) / len(y_test)\n",
    "random_accuracy = np.sum(class_probabilities ** 2)\n",
    "print(f\"Random Guess Accuracy: {random_accuracy}\")\n",
    "\n",
    "    # 生成分类报告\n",
    "report = classification_report(y_test, predictions, target_names=label_encoder.classes_)\n",
    "print(report)"
   ]
  },
  {
   "cell_type": "code",
   "execution_count": 15,
   "metadata": {
    "execution": {
     "iopub.execute_input": "2024-11-07T06:26:16.052935Z",
     "iopub.status.busy": "2024-11-07T06:26:16.052631Z",
     "iopub.status.idle": "2024-11-07T06:26:26.098942Z",
     "shell.execute_reply": "2024-11-07T06:26:26.098263Z"
    }
   },
   "outputs": [],
   "source": [
    "with torch.no_grad():\n",
    "    new_data_tensor = torch.tensor(new_data).float().to(device)\n",
    "    SSL_embeddings = estim.model.encoder(new_data_tensor).detach().cpu().numpy()\n",
    "new_adata = sc.read_h5ad(data_dir)\n",
    "new_adata.obsm[f'SSL_RM_FT_{random_seed}'] = SSL_embeddings\n",
    "new_adata.uns[f'RM_FT_y_test_{random_seed}'] = y_test\n",
    "new_adata.uns[f'RM_FT_predictions_{random_seed}'] = predictions\n",
    "new_adata.uns[f'RM_FT_target_names_{random_seed}'] = label_encoder.classes_\n",
    "new_adata.uns[f'RM_FT_train_loss_{random_seed}'] = train_losses\n",
    "new_adata.uns[f'RM_FT_val_loss_{random_seed}'] = val_losses\n",
    "new_adata.write_h5ad(data_dir)"
   ]
  },
  {
   "cell_type": "code",
   "execution_count": 16,
   "metadata": {
    "execution": {
     "iopub.execute_input": "2024-11-07T06:26:26.101650Z",
     "iopub.status.busy": "2024-11-07T06:26:26.101143Z",
     "iopub.status.idle": "2024-11-07T06:26:26.113676Z",
     "shell.execute_reply": "2024-11-07T06:26:26.113113Z"
    }
   },
   "outputs": [
    {
     "name": "stdout",
     "output_type": "stream",
     "text": [
      "Metrics Summary:\n",
      "init_train_loss\tinit_val_loss\tconverged_epoch\tconverged_val_loss\tmacro_f1\tweighted_f1\tmicor_f1\n",
      "1.118\t0.717\t73\t0.568\t0.791\t0.799\t0.800\n"
     ]
    }
   ],
   "source": [
    "\n",
    "import pandas as pd\n",
    "import os\n",
    "import re\n",
    "\n",
    "# 当前 Notebook 文件名\n",
    "notebook_name = \"MERSCOPE_human_neocortex_random_mask_fine_tune_42.ipynb\"\n",
    "\n",
    "# 初始化需要打印的值\n",
    "init_train_loss = train_losses[0] if 'train_losses' in globals() else None\n",
    "init_val_loss = val_losses[0] if 'val_losses' in globals() else None\n",
    "converged_epoch = len(train_losses) - patience if 'train_losses' in globals() else None\n",
    "converged_val_loss = best_val_loss if 'best_val_loss' in globals() else None\n",
    "\n",
    "# 打印所有所需的指标\n",
    "print(\"Metrics Summary:\")\n",
    "if 'train_losses' in globals():\n",
    "    print(f\"init_train_loss\\tinit_val_loss\\tconverged_epoch\\tconverged_val_loss\\tmacro_f1\\tweighted_f1\\tmicor_f1\")\n",
    "    print(f\"{init_train_loss:.3f}\\t{init_val_loss:.3f}\\t{converged_epoch}\\t{converged_val_loss:.3f}\\t{macro_f1:.3f}\\t{f1:.3f}\\t{accuracy:.3f}\")\n",
    "else:\n",
    "    print(f\"macro_f1\\tweighted_f1\\tmicor_f1\")\n",
    "    print(f\"{macro_f1:.3f}\\t{f1:.3f}\\t{accuracy:.3f}\")\n",
    "\n",
    "# 保存结果到 CSV 文件\n",
    "output_data = {\n",
    "    'dataset_split_random_seed': [int(random_seed)],\n",
    "    'dataset': ['MERSCOPE_human_neocortex'],\n",
    "    'method': [re.search(r'neocortex_(.*?)_\\d+', notebook_name).group(1)],\n",
    "    'init_train_loss': [init_train_loss if init_train_loss is not None else ''],\n",
    "    'init_val_loss': [init_val_loss if init_val_loss is not None else ''],\n",
    "    'converged_epoch': [converged_epoch if converged_epoch is not None else ''],\n",
    "    'converged_val_loss': [converged_val_loss if converged_val_loss is not None else ''],\n",
    "    'macro_f1': [macro_f1],\n",
    "    'weighted_f1': [f1],\n",
    "    'micor_f1': [accuracy]\n",
    "}\n",
    "output_df = pd.DataFrame(output_data)\n",
    "\n",
    "# 保存到当前目录下名为 results 的文件夹中\n",
    "if not os.path.exists('results'):\n",
    "    os.makedirs('results')\n",
    "\n",
    "csv_filename = f\"results/{os.path.splitext(notebook_name)[0]}_results.csv\"\n",
    "output_df.to_csv(csv_filename, index=False)\n"
   ]
  }
 ],
 "metadata": {
  "kernelspec": {
   "display_name": "ssl",
   "language": "python",
   "name": "python3"
  },
  "language_info": {
   "codemirror_mode": {
    "name": "ipython",
    "version": 3
   },
   "file_extension": ".py",
   "mimetype": "text/x-python",
   "name": "python",
   "nbconvert_exporter": "python",
   "pygments_lexer": "ipython3",
   "version": "3.10.13"
  }
 },
 "nbformat": 4,
 "nbformat_minor": 2
}
