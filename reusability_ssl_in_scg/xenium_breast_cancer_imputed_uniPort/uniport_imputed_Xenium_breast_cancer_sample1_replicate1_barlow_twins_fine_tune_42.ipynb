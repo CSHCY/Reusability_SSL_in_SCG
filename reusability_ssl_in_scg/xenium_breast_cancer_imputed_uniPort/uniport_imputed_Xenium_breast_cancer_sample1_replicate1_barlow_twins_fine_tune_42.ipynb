{
 "cells": [
  {
   "cell_type": "code",
   "execution_count": 1,
   "metadata": {
    "execution": {
     "iopub.execute_input": "2025-04-14T12:05:03.531587Z",
     "iopub.status.busy": "2025-04-14T12:05:03.531452Z",
     "iopub.status.idle": "2025-04-14T12:05:08.993217Z",
     "shell.execute_reply": "2025-04-14T12:05:08.991791Z"
    }
   },
   "outputs": [],
   "source": [
    "import scanpy as sc\n",
    "data_dir = '../../dataset/uniport_imputed_Xenium_breast_cancer_sample1_replicate1.h5ad'\n",
    "adata = sc.read_h5ad(data_dir)"
   ]
  },
  {
   "cell_type": "code",
   "execution_count": 2,
   "metadata": {
    "execution": {
     "iopub.execute_input": "2025-04-14T12:05:08.996235Z",
     "iopub.status.busy": "2025-04-14T12:05:08.995719Z",
     "iopub.status.idle": "2025-04-14T12:05:09.004315Z",
     "shell.execute_reply": "2025-04-14T12:05:09.003795Z"
    }
   },
   "outputs": [
    {
     "data": {
      "text/plain": [
       "Index(['SAMD11', 'NOC2L', 'KLHL17', 'PLEKHN1', 'PERM1', 'HES4', 'ISG15',\n",
       "       'AGRN', 'RNF223', 'C1orf159',\n",
       "       ...\n",
       "       'MT-ND2', 'MT-CO2', 'MT-ATP6', 'MT-CO3', 'MT-ND3', 'MT-ND4L', 'MT-ND4',\n",
       "       'MT-ND5', 'MT-ND6', 'MT-CYB'],\n",
       "      dtype='object', length=18079)"
      ]
     },
     "execution_count": 2,
     "metadata": {},
     "output_type": "execute_result"
    }
   ],
   "source": [
    "adata.var.index"
   ]
  },
  {
   "cell_type": "code",
   "execution_count": 3,
   "metadata": {
    "execution": {
     "iopub.execute_input": "2025-04-14T12:05:09.030972Z",
     "iopub.status.busy": "2025-04-14T12:05:09.030817Z",
     "iopub.status.idle": "2025-04-14T12:05:11.560658Z",
     "shell.execute_reply": "2025-04-14T12:05:11.560046Z"
    }
   },
   "outputs": [
    {
     "name": "stderr",
     "output_type": "stream",
     "text": [
      "/home/hanchuangyi/miniconda3/envs/ssl/lib/python3.10/site-packages/merlin/dtypes/mappings/tf.py:52: UserWarning: Tensorflow dtype mappings did not load successfully due to an error: No module named 'tensorflow'\n",
      "  warn(f\"Tensorflow dtype mappings did not load successfully due to an error: {exc.msg}\")\n",
      "/home/hanchuangyi/miniconda3/envs/ssl/lib/python3.10/site-packages/merlin/dtypes/mappings/triton.py:53: UserWarning: Triton dtype mappings did not load successfully due to an error: No module named 'tritonclient'\n",
      "  warn(f\"Triton dtype mappings did not load successfully due to an error: {exc.msg}\")\n",
      "GPU available: True (cuda), used: True\n"
     ]
    },
    {
     "name": "stderr",
     "output_type": "stream",
     "text": [
      "TPU available: False, using: 0 TPU cores\n"
     ]
    },
    {
     "name": "stderr",
     "output_type": "stream",
     "text": [
      "HPU available: False, using: 0 HPUs\n"
     ]
    },
    {
     "data": {
      "text/plain": [
       "MLPBarlowTwins(\n",
       "  (train_metrics): MetricCollection(\n",
       "    (explained_var_uniform): ExplainedVariance()\n",
       "    (explained_var_weighted): ExplainedVariance()\n",
       "    (mse): MeanSquaredError(),\n",
       "    prefix=train_\n",
       "  )\n",
       "  (val_metrics): MetricCollection(\n",
       "    (explained_var_uniform): ExplainedVariance()\n",
       "    (explained_var_weighted): ExplainedVariance()\n",
       "    (mse): MeanSquaredError(),\n",
       "    prefix=val_\n",
       "  )\n",
       "  (test_metrics): MetricCollection(\n",
       "    (explained_var_uniform): ExplainedVariance()\n",
       "    (explained_var_weighted): ExplainedVariance()\n",
       "    (mse): MeanSquaredError(),\n",
       "    prefix=test_\n",
       "  )\n",
       "  (inner_model): MLP(\n",
       "    (0): Linear(in_features=19331, out_features=512, bias=True)\n",
       "    (1): SELU()\n",
       "    (2): Dropout(p=0.0, inplace=False)\n",
       "    (3): Linear(in_features=512, out_features=512, bias=True)\n",
       "    (4): SELU()\n",
       "    (5): Dropout(p=0.0, inplace=False)\n",
       "    (6): Linear(in_features=512, out_features=256, bias=True)\n",
       "    (7): SELU()\n",
       "    (8): Dropout(p=0.0, inplace=False)\n",
       "    (9): Linear(in_features=256, out_features=256, bias=True)\n",
       "    (10): SELU()\n",
       "    (11): Dropout(p=0.0, inplace=False)\n",
       "    (12): Linear(in_features=256, out_features=64, bias=True)\n",
       "  )\n",
       "  (barlow_twins): BarlowTwins(\n",
       "    (backbone): MLP(\n",
       "      (0): Linear(in_features=19331, out_features=512, bias=True)\n",
       "      (1): SELU()\n",
       "      (2): Dropout(p=0.0, inplace=False)\n",
       "      (3): Linear(in_features=512, out_features=512, bias=True)\n",
       "      (4): SELU()\n",
       "      (5): Dropout(p=0.0, inplace=False)\n",
       "      (6): Linear(in_features=512, out_features=256, bias=True)\n",
       "      (7): SELU()\n",
       "      (8): Dropout(p=0.0, inplace=False)\n",
       "      (9): Linear(in_features=256, out_features=256, bias=True)\n",
       "      (10): SELU()\n",
       "      (11): Dropout(p=0.0, inplace=False)\n",
       "      (12): Linear(in_features=256, out_features=64, bias=True)\n",
       "    )\n",
       "    (projector): Sequential(\n",
       "      (0): Linear(in_features=64, out_features=256, bias=False)\n",
       "      (1): BatchNorm1d(256, eps=1e-05, momentum=0.1, affine=True, track_running_stats=True)\n",
       "      (2): ReLU(inplace=True)\n",
       "      (3): Linear(in_features=256, out_features=256, bias=False)\n",
       "      (4): BatchNorm1d(256, eps=1e-05, momentum=0.1, affine=True, track_running_stats=True)\n",
       "      (5): ReLU(inplace=True)\n",
       "      (6): Linear(in_features=256, out_features=512, bias=False)\n",
       "      (7): BatchNorm1d(512, eps=1e-05, momentum=0.1, affine=True, track_running_stats=True)\n",
       "      (8): ReLU(inplace=True)\n",
       "      (9): Linear(in_features=512, out_features=512, bias=False)\n",
       "    )\n",
       "    (bn): BatchNorm1d(512, eps=1e-05, momentum=0.1, affine=False, track_running_stats=True)\n",
       "  )\n",
       ")"
      ]
     },
     "execution_count": 3,
     "metadata": {},
     "output_type": "execute_result"
    }
   ],
   "source": [
    "%load_ext autoreload\n",
    "%autoreload 2\n",
    "import torch\n",
    "from torch import nn\n",
    "from torch.optim import AdamW\n",
    "import lightning.pytorch as pl\n",
    "from sklearn.model_selection import train_test_split\n",
    "from sklearn.preprocessing import LabelEncoder\n",
    "from self_supervision.models.lightning_modules.cellnet_autoencoder import MLPBarlowTwins\n",
    "from self_supervision.estimator.cellnet import EstimatorAutoEncoder\n",
    "\n",
    "# 设置你的 .ckpt 文件路径\n",
    "ckpt_path = \"../../sc_pretrained/Pretrained Models/BarlowTwins.ckpt\"\n",
    "\n",
    "# 模型参数\n",
    "units_encoder = [512, 512, 256, 256, 64]\n",
    "\n",
    "# 初始化 EstimatorAutoEncoder 实例\n",
    "estim = EstimatorAutoEncoder(data_path=None)  # 如果没有实际数据路径，可以设置为None\n",
    "\n",
    "# 加载预训练模型\n",
    "estim.model = MLPBarlowTwins(\n",
    "        gene_dim=19331,  # 根据你的数据调整\n",
    "        batch_size=128,  # 根据你的需要调整\n",
    "        units_encoder=units_encoder,\n",
    "        CHECKPOINT_PATH=ckpt_path\n",
    "    )\n",
    "\n",
    "\n",
    "estim.trainer = pl.Trainer(accelerator=\"gpu\", devices=1 if torch.cuda.is_available() else None)\n",
    "estim.model"
   ]
  },
  {
   "cell_type": "code",
   "execution_count": 4,
   "metadata": {
    "execution": {
     "iopub.execute_input": "2025-04-14T12:05:11.562638Z",
     "iopub.status.busy": "2025-04-14T12:05:11.562102Z",
     "iopub.status.idle": "2025-04-14T12:05:12.889332Z",
     "shell.execute_reply": "2025-04-14T12:05:12.888660Z"
    }
   },
   "outputs": [],
   "source": [
    "# 加载 checkpoint\n",
    "checkpoint = torch.load(ckpt_path)\n",
    "estim.model.inner_model.load_state_dict({k.replace('backbone.', ''): v for k, v in checkpoint.items() if 'backbone' in k})\n",
    "\n",
    "# 5. 添加分类层 (FC 层)\n",
    "n_classes = len(adata.obs['cell_type'].unique())\n",
    "estim.model.fc = nn.Linear(units_encoder[-1], n_classes)"
   ]
  },
  {
   "cell_type": "code",
   "execution_count": 5,
   "metadata": {
    "execution": {
     "iopub.execute_input": "2025-04-14T12:05:12.891245Z",
     "iopub.status.busy": "2025-04-14T12:05:12.891068Z",
     "iopub.status.idle": "2025-04-14T12:05:12.927974Z",
     "shell.execute_reply": "2025-04-14T12:05:12.927421Z"
    }
   },
   "outputs": [],
   "source": [
    "# 6. 冻结 encoder 的大部分参数，解冻所有层\n",
    "for param in estim.model.inner_model.parameters():\n",
    "    param.requires_grad = False  # 冻结所有层\n",
    "\n",
    "# 解冻最后两层\n",
    "for param in list(estim.model.inner_model.parameters())[-5:]:\n",
    "    param.requires_grad = True"
   ]
  },
  {
   "cell_type": "code",
   "execution_count": 6,
   "metadata": {
    "execution": {
     "iopub.execute_input": "2025-04-14T12:05:12.929319Z",
     "iopub.status.busy": "2025-04-14T12:05:12.929165Z",
     "iopub.status.idle": "2025-04-14T12:05:12.969088Z",
     "shell.execute_reply": "2025-04-14T12:05:12.968534Z"
    }
   },
   "outputs": [],
   "source": [
    "# 7. 定义损失函数和优化器\n",
    "device = torch.device(\"cuda\" if torch.cuda.is_available() else \"cpu\")\n",
    "estim.model.to(device)\n",
    "loss_fn = nn.CrossEntropyLoss()\n",
    "optimizer = AdamW(filter(lambda p: p.requires_grad, estim.model.parameters()), lr=9e-4, weight_decay=0.05)"
   ]
  },
  {
   "cell_type": "code",
   "execution_count": 7,
   "metadata": {
    "execution": {
     "iopub.execute_input": "2025-04-14T12:05:12.970433Z",
     "iopub.status.busy": "2025-04-14T12:05:12.970277Z",
     "iopub.status.idle": "2025-04-14T12:05:13.018175Z",
     "shell.execute_reply": "2025-04-14T12:05:13.017627Z"
    }
   },
   "outputs": [],
   "source": [
    "import pandas as pd\n",
    "import numpy as np\n",
    "\n",
    "var_df = pd.read_parquet('../../sc_pretrained/var.parquet')\n",
    "all_genes = var_df['feature_name'].tolist()\n",
    "\n",
    "new_data = np.zeros((adata.X.shape[0], len(all_genes)), dtype=np.float32)\n",
    "\n",
    "adata.var['gene_name']=adata.var.index\n",
    "existing_genes = adata.var['gene_name']"
   ]
  },
  {
   "cell_type": "code",
   "execution_count": 8,
   "metadata": {
    "execution": {
     "iopub.execute_input": "2025-04-14T12:05:13.019455Z",
     "iopub.status.busy": "2025-04-14T12:05:13.019299Z",
     "iopub.status.idle": "2025-04-14T12:05:13.062877Z",
     "shell.execute_reply": "2025-04-14T12:05:13.062345Z"
    }
   },
   "outputs": [
    {
     "name": "stdout",
     "output_type": "stream",
     "text": [
      "匹配的基因数量: 17768\n",
      "匹配的基因列表: {'hsd17b6', 'fbxo34', 'sec14l2', 'hspa4l', 'kl', 'alg8', 'phkb', 'tbx15', 'plekho2', 'uri1', 'gp5', 'syt13', 'cfap54', 'ilf2', 'znf300', 'gtsf1l', 'ermap', 'slc40a1', 'pde3b', 'bst2', 'ins', 'speg', 'cd1d', 'me1', 'setbp1', 'vmo1', 'inmt', 'uqcrq', 'trim71', 'alpl', 'grin2c', 'wdr77', 'klrf1', 'abcg5', 'dap3', 'ifna8', 'tmed4', 'gng11', 'traf3ip2', 'dll1', 'ak1', 'scgb2a1', 'rgr', 'tlk1', 'xxylt1', 'slc25a37', 'adamts1', 'serpinb1', 'ggt5', 'zswim6', 'sema4d', 'copz1', 'zfy', 'rom1', 'znf582', 'ak5', 'ttc29', 'mettl27', 'vstm2l', 'tmem275', 'lancl2', 'prf1', 'fam217a', 'hdgfl2', 'fam166c', 'eda', 'plekhg5', 'cd86', 'coq5', 'slc6a16', 'rnasek', 'itpr1', 'rnf26', 'bfsp2', 'fzd4', 'ninj1', 'frs3', 'c22orf15', 'mospd2', 'slc6a2', 'dlx6', 'leap2', 'rsrp1', 'arrdc2', 'rerg', 'ctdp1', 'cd247', 'rnf111', 'rtn4rl2', 'mboat2', 'rwdd4', 'arhgef18', 'fgf3', 'il23a', 'tmtc3', 'hrc', 'fcrla', 'pfn1', 'cacna1g', 'slc31a1', 'deptor', 'csrnp2', 'syt17', 'ypel4', 'strada', 'septin1', 'lhfpl1', 'sfmbt1', 'angptl5', 'rassf10', 'neurl1', 'nckap1', 'arms2', 'mat2a', 'pter', 'znf18', 'slc22a4', 'kpna7', 'mmp14', 'clec4f', 'clstn2', 'ivd', 'dnase2b', 'mettl4', 'mapk15', 'erich5', 'tgds', 'gdpgp1', 'dgkg', 'golga7b', 'srf', 'nppa', 'csmd2', 'smyd2', 'tmc7', 'smg6', 'rxfp1', 'znf140', 'lgals9', 'ubtd2', 'txndc9', 'lman2l', 'pdpk1', 'cntd1', 'sltm', 'agk', 'dock8', 'dhx34', 'lrrc73', 'usp28', 'or6x1', 'sucla2', 'adcy1', 'cnr2', 'dicer1', 'gnl1', 'csnk1d', 'sdf2l1', 'irf3', 'rnf213', 'tex43', 'pxdc1', 'lrcol1', 'slc4a8', 'polr3gl', 'cdx4', 'pcid2', 'gprin1', 'ctr9', 'cep162', 'ptgis', 'gprasp2', 'txnl1', 'plcl1', 'prxl2c', 'tsku', 'ccdc150', 'tmem218', 'exosc5', 'gfra3', 'mapkbp1', 'sh3bp2', 'glyatl1', 'taf4b', 'slc35e3', 'oosp3', 'nudt22', 'fhod3', 'men1', 'slc22a1', 'znf852', 'tmx2', 'gabrr1', 'hgd', 'tdp1', 'slc26a8', 'nr2c2', 'nfe2', 'sgca', 'tcp11x1', 'lrat', 'rnaseh2a', 'map3k1', 'ccdc50', 'or14i1', 'sapcd2', 'znf449', 'erfe', 'col8a1', 'cul5', 'rlim', 'micb', 'eed', 'pir', 'slit3', 'arsf', 'slc35a3', 'slc36a4', 'col5a2', 'atg9b', 'furin', 'slfn12', 'nr5a2', 'itpkc', 'igfbp4', 'pgm2l1', 'mtmr3', 'znf431', 'ror2', 'dnah17', 'lat2', 'usf1', 'cxxc1', 'hnrnpa2b1', 'crnn', 'med12l', 'fam221a', 'plaat5', 'ccdc91', 'galr1', 'cacna1b', 'dcaf16', 'bfar', 'mindy1', 'znf329', 'abca5', 'stard4', 'or5d3p', 'gpr6', 'flna', 'tnfrsf10a', 'ccdc13', 'ercc4', 'zbtb6', 'arhgef33', 'dner', 'sgms2', 'nup205', 'ctsw', 'lcorl', 'vps35l', 'lnp1', 'znf667', 'oplah', 'capn11', 'nrap', 'wnt10a', 'gjc3', 'ap1s2', 'smim41', 'il36g', 'nlrp3', 'wdr86', 'itgam', 'gnao1', 'znf500', 'ercc5', 'cd209', 'als2', 'syn3', 'fpr1', 'dtx2', 'dcaf12', 'ptger2', 'or5ar1', 'trpc5os', 'tbx21', 'f2rl1', 'zfp30', 'spats1', 'pdcl3', 'ankrd33b', 'pgm3', 'znf12', 'tut4', 'itih5', 'pla2g15', 'mtrex', 'jmjd6', 'rbm44', 'tmed10', 'cap2', 'slc2a7', 'tshz1', 'ccdc83', 'nasp', 'ppp2r2b', 'sult4a1', 'wfdc3', 'il13ra2', 'mis18bp1', 'fuca2', 'vtn', 'exd3', 'ube2t', 'il1b', 'gnai2', 'smox', 'meox2', 'bach1', 'pum1', 'zfhx3', 'cpxcr1', 'mall', 'lamb4', 'wwp2', 'otulin', 'fiz1', 'rbm28', 'psg7', 'atrx', 'sphkap', 'slc25a20', 'dhx15', 'tmeff1', 'oxnad1', 'mpp6', 'scgb1d1', 'il27', 'trib1', 'parp15', 'emilin1', 'clk1', 'atr', 'col4a2', 'tex45', 'blk', 'timm10', 'trim50', 'med21', 'gpat4', 'slc5a2', 'ctsa', 'ndufa4', 'fzd7', 'mmp16', 'muc4', 'sall2', 'il23r', 'ifnk', 'lgr6', 'helt', 'fgf10', 'helb', 'ube2q1', 'klf3', 'sun2', 'ube2g1', 'prkacb', 'klk7', 'stmnd1', 'catspere', 'ccdc51', 'cep85l', 'c1rl', 'znf608', 'dgkb', 'pkd1', 'micos13', 'cenpu', 'hspa13', 'pltp', 'golim4', 'vps52', 'edn3', 'myo1b', 'pkdcc', 'proc', 'zbtb10', 'siglec12', 'cst9l', 'nucb2', 'socs3', 'tmsb4x', 'bcl7b', 'ccdc134', 'abi3bp', 'tfr2', 'tmem217', 'tmem89', 'siglec1', 'pcnx2', 'sox14', 'ano4', 'c1orf122', 'ifnb1', 'nlrp6', 'anxa3', 'itih6', 'trnt1', 'nbpf3', 'bud23', 'hacl1', 'ctf1', 'susd5', 'pdx1', 's1pr2', 'adora2a', 'nprl2', 'cacng3', 'cul4b', 'ccdc201', 'plcb2', 'ncaph', 'adrb1', 'pgrmc1', 'ccs', 'deaf1', 'rnase13', 'hint3', 'hoxc8', 'smarcd2', 'nup50', 'ube3c', 'rev1', 'mterf4', 'mob3b', 'rfx5', 'dennd1b', 'xrcc3', 'slc30a8', 'ncbp3', 'rfxank', 'il1rapl1', 'abhd1', 'plxnc1', 'dcakd', 'zscan18', 'sycp3', 'slc1a2', 'pfdn6', 'c12orf73', 'cct2', 'igfl4', 'cpne9', 'kcnk12', 'sqle', 'or10q1', 'rinl', 'hnrnpu', 'anxa1', 'trip11', 'hoxa10', 'xpo6', 'ubl4b', 'acsl3', 'mllt11', 'acsm1', 'magoh', 'krtap4-6', 'pde1c', 'samd1', 'spata2', 'ddost', 'znf844', 'or4k1', 'cyp4z1', 'chrnb4', 'yae1', 'tmem249', 'pramef15', 'smim33', 'dvl1', 'linc00672', 'ankrd17', 'clasrp', 'pqbp1', 'arc', 'lipf', 'slc23a1', 'eme1', 'plppr4', 'smg7', 'slc22a2', 'kcnmb4', 'tecpr2', 'spata16', 'nup133', 'cs', 'supt16h', 'nrbp2', 'iqca1l', 'alkbh7', 'xkr9', 'lrit2', 'sbk2', 'yy1', 'btbd16', 'dspp', 'akt1', 'klf7', 'slc1a7', 'dcxr', 'pla2g2a', 'gtf3c3', 'gid4', 'ccdc189', 'ticrr', 'trpm8', 'amt', 'skil', 'oit3', 'tsc2', 'ushbp1', 'pdzrn3', 'tmem64', 'myrf', 'c16orf87', 'proser2', 'c19orf44', 'slc25a40', 'klrg1', 'mdm1', 'znf580', 'trim36', 'xrcc4', 'xkr7', 'ppid', 'efemp2', 'rab31', 'lilrb1', 'ccdc18', 'fcar', 'nrcam', 'foxn2', 'tagln', 'itpk1', 'rab3gap2', 'btbd19', 'fcgr2b', 'radil', 'fam83h', 'tmem259', 'dyrk1b', 'msrb3', 'jmjd8', 'ap1m2', 'ttc16', 'sys1', 'arhgap31', 'tbx18', 'rgs22', 'zbed6cl', 'syt1', 'ctrb1', 'ryr2', 'crmp1', 'tgfbr1', 'pias2', 'axl', 'lyzl2', 'mesp2', 'fbxo24', 'igfbp5', 'rbbp7', 'dnajc11', 'dprx', 'pramef19', 'lbhd1', 'lypd2', 'tceal6', 'tagap', 'gpbp1', 'rpp25', 'snrpb', 'foxp2', 'gpr4', 'actl10', 'c2cd4c', 'ttc36', 'znf550', 'smad1', 'gpr33', 'cd244', 'shisa5', 'sp3', 'tmem238l', 'pdcd1lg2', 'tmem205', 'bambi', 'kiaa0319l', 'clic1', 'or2t1', 'upp2', 'kctd8', 'p3h4', 'rad17', 'txndc15', 'smim10l2a', 'ormdl3', 'ppp1r36', 'btn3a3', 'alpk2', 'shcbp1l', 'trim38', 'kcnn2', 'defb4a', 'pitpnc1', 'cerk', 'atp11a', 'septin2', 'krtap9-3', 'sirt5', 'vgll2', 'il17b', 'lmna', 'efcab11', 'acap1', 'bptf', 'znf254', 'txlna', 'ostf1', 'colq', 'lyst', 'hhipl1', 'fahd2b', 'sulf1', 'slc48a1', 'rhbg', 'cntnap2', 'c1orf87', 'prtg', 'tmem200c', 'agap2', 'phf20', 'ddit4', 'or4k2', 'col21a1', 'kiaa2013', 'abraxas1', 'prdm10', 'ccdc102a', 'terb1', 'emx2', 'ftsj3', 'kcnq4', 'clec12b', 'cntrob', 'foxp1', 'nol3', 'mapk8ip2', 'cdkn2d', 'zbed5', 'tp63', 'apc', 'smyd3', 'aga', 'ttc24', 'cyp1a1', 'map2k4', 'urgcp', 'mri1', 'rasal2', 'flvcr1', 'npr2', 'znf273', 'acod1', 'tbrg1', 'chmp2b', 'ltbr', 'sptan1', 'znf646', 'mier1', 'cbln2', 'cenpw', 'krtap19-6', 'trmu', 'depdc7', 'heatr5b', 'mstn', 'trim39', 'rpp30', 'pik3r2', 'tmem192', 'meikin', 'fam3d', 'ddtl', 'hook2', 'poglut1', 'ormdl1', 'akap4', 'morc2', 'dhtkd1', 'arpc3', 'sh2b3', 'tfrc', 'rtel1', 'fign', 'sprr2e', 'lypd6', 'cpeb4', 'or2c3', 'thbs1', 'rab11fip1', 'lrrc3', 'sec61g', 'tbl1x', 'dll3', 'gale', 'ahnak2', 'rreb1', 'marcks', 'tmem37', 'letm2', 'myeov', 'nr1d1', 'apln', 'slc6a15', 'otc', 'guca2b', 'klk10', 'diaph3', 'polr2f', 'fkbp15', 'cdca3', 'ackr4', 'ppp1r3g', 'znf429', 'fndc11', 'ipo8', 'krtap3-1', 'tcf3', 'ptov1', 'rassf2', 'dnajc9', 'pydc1', 'tchp', 'pnma5', 'cbx2', 'slc25a34', 'bloc1s3', 'elf1', 'c9orf16', 'ambra1', 'matn3', 'btrc', 'abcc8', 'golga2', 'camkmt', 'dpep1', 'gck', 'oas1', 'dnhd1', 'rcbtb1', 'nr4a3', 'b2m', 'spryd4', 'noa1', 'sugp1', 'krtap19-2', 'hjurp', 'c12orf50', 'znf627', 'soga3', 'pik3r1', 'fcgrt', 'kbtbd3', 'tango6', 'yif1a', 'wdr36', 'tfap2b', 'gdpd1', 'galnt9', 'rnf148', 'eef2k', 'cradd', 'znf112', 'amd1', 'dnah1', 'mrs2', 'serpine1', 'csta', 'slc6a11', 'c5orf24', 'bckdha', 'gpm6a', 'tap2', 'commd6', 'txnrd3', 'myl4', 'gon4l', 'cyp24a1', 'c13orf46', 'slc25a41', 'tmem196', 'znf560', 'efcab1', 'ano2', 'dynlrb1', 'cyb5r1', 'mfsd10', 'tnfaip2', 'ppp1r14b', 'c10orf71', 'trim3', 'zfp14', 'chrnb1', 'anks6', 'gosr1', 'nav2', 'drc3', 'znf324b', 'kcnb1', 'rtl5', 'atp5f1d', 'etv3', 'or10a5', 'pank3', 'elp6', 'psg5', 'lilrb4', 'podxl2', 'chmp2a', 'rgs1', 'madd', 'arl6ip4', 'c5orf51', 'lix1', 'ndrg1', 'clec1b', 'snai2', 'myocd', 'sorl1', 'zcchc7', 'med1', 'slc2a4rg', 'camk2d', 'flrt2', 'apoa2', 'wdr44', 'angel2', 'tnfrsf10b', 'tspan10', 'prmt2', 'bcl2l13', 'clptm1l', 'usf2', 'nthl1', 'rpp40', 'pagr1', 'zc3h18', 'ubb', 'tbc1d16', 'cdc25b', 'tpra1', 'maml3', 'trim42', 'pycr3', 'armh2', 'pmp2', 'pla2g6', 'nutf2', 'gprc6a', 'erh', 'cbx6', 'or4c15', 'tapt1', 'cldn8', 'sri', 'mogat2', 'plekhm1', 'clec12a', 'znf607', 'alpp', 'shfl', 'ccdc54', 'cbx5', 'arsg', 'app', 'c3orf56', 'matn1', 'urod', 'abtb2', 'rars2', 'naprt', 'phb', 'odf3l2', 'nkpd1', 'klhl41', 'pdhb', 'atp5mf', 'agr3', 'tmem253', 'gtpbp6', 'tlr3', 'tifab', 'pin1', 'palmd', 'gpr150', 'rd3', 'prex1', 'adgrl4', 'cinp', 'tmem235', 'ppial4a', 'pdp2', 'ube2c', 'tsks', 'pnck', 'ucn2', 'znf131', 'bend4', 'supt5h', 'or2d3', 'gdap2', 'ugp2', 'kcnab3', 'tmem115', 'bace1', 'gatad2a', 'nrsn1', 'mllt3', 'ak8', 'sfxn3', 'mcm5', 'sprr1b', 'pdzd2', 'znf180', 'zmat1', 'adm', 'rdh5', 'gabra2', 'hap1', 'exosc7', 'ctu1', 'irak3', 'slitrk3', 'cstf2t', 'acsl5', 'sema4c', 'ttc6', 'runx2', 'pcmtd1', 'tbx22', 'sox6', 'nxph2', 'eif2b2', 'zfyve21', 'trmt2a', 'ddt', 'tchhl1', 'pou3f4', 'xiap', 'evx2', 'mthfd1', 'psmg1', 'rhbdf2', 'lrp6', 'cd63', 'nlk', 'mogat1', 'rnf103', 'tceanc2', 'ubp1', 'daglb', 'map4k4', 'tmem198', 'sema3g', 'znf519', 'akr1c3', 'endov', 'aurka', 'slc38a1', 'edar', 'gpat2', 'krtap13-1', 'caap1', 'sh3rf1', 'gnmt', 'frem1', 'col1a2', 'dmtn', 'tax1bp3', 'mt-nd2', 'mcm3ap', 'c9orf153', 'lrrc6', 'bysl', 'stim1', 'ppp4r3a', 'ptpn12', 'lhfpl3', 'bbox1', 'or5h6', 'gigyf1', 'entpd4', 'cox7c', 'odaph', 'pacsin1', 'tmem179', 'c16orf74', 'tex9', 'slc7a1', 'smad7', 'nr1i3', 'prr19', 'prkag3', 'col20a1', 'isl2', 'ugt1a5', 'tmem35a', 'b3gnt5', 'asl', 'fgf23', 'ccdc146', 'klk6', 'dtna', 'anapc13', 'dhdh', 'gata4', 'awat1', 'stim2', 'itpr3', 'porcn', 'tbc1d8b', 'hoxa13', 'nudcd3', 'dpp8', 'slc9a5', 'alkal2', 'pex3', 'onecut2', 'umod', 'shpk', 'znf493', 'znf724', 'krtap7-1', 'prss54', 'azu1', 'stmn1', 'pramef13', 'ift88', 'tfap2a', 'nop2', 'gipr', 'cds2', 'insm1', 'bpifa2', 'masp2', 'srprb', 'sprr3', 'pdf', 'clvs1', 'cmpk1', 'bbip1', 'cadm3', 'cda', 'scrt2', 'uqcc2', 'mmp20', 'myh11', 'ska2', 'adat3', 'sccpdh', 'pds5a', 'nnt', 'dcp2', 'rpel1', 'stoml3', 'comtd1', 'cdk15', 'map4k3', 'clec4d', 'golga6l7', 'ncoa2', 'dnah6', 'cd69', 'arhgap35', 'ceacam7', 'casp8', 'nrarp', 'limd2', 'dyrk2', 'mefv', 'ephx4', 'st6gal2', 'slc35d2', 'cntn6', 'selenow', 'krtap12-1', 'atf1', 'lrrc8e', 'dhrsx', 'rela', 'gja5', 'il12rb1', 'wdtc1', 'xkr8', 'rad51ap2', 'f2', 'cwf19l2', 'rwdd2a', 'lad1', 'plscr1', 'prss48', 'glis3', 'aqp5', 'il31', 'fam180b', 'ctnnd1', 'fto', 'phactr2', 'ces5a', 'wee1', 'npffr1', 'adh1b', 'ube2q2', 'cdh13', 'ubash3a', 'zbtb11', 'cavin1', 'ndufb6', 'znf747', 'rbm19', 'en1', 'txndc2', 'il3', 'casp3', 'slc22a24', 'btbd9', 'stam', 'or2ag2', 'adsl', 'c1orf185', 'hrnr', 'c1orf198', 'znf423', 'fnta', 'capzb', 'acadl', 'lurap1l', 'mvp', 'lta4h', 'pik3ap1', 'mthfsd', 'cfap221', 'arhgef3', 'clic4', 'mgam2', 'vegfa', 'tbx3', 'notch3', 'or5ac2', 'zc3h8', 'depp1', 'chst15', 'spred3', 'sbno1', 'med30', 'creb1', 'aldh5a1', 'mipol1', 'ncf4', 'optc', 'ift27', 'slc5a10', 'or11a1', 'impa2', 'commd7', 'akap17a', 'ankra2', 'zbtb1', 'tmem9', 'manba', 'tmem39b', 'extl3', 'tex26', 'dctn5', 'usp17l10', 'sp4', 'neurod4', 'tulp1', 'btg3', 'tmem185b', 'ccdc149', 'hs1bp3', 'arntl', 'vps33b', 'setd7', 'wdr89', 'col4a5', 'mcm9', 'metrnl', 'ccno', 'uggt2', 'kif5b', 'bco2', 'slc19a2', 'frg2', 'rab13', 'foxs1', 'cpt1b', 'abcd1', 'il37', 'ttll2', 'htr2c', 'znf689', 'nqo2', 'stkld1', 'adamts17', 'hes1', 'ostn', 'fam155b', 'atp1a4', 'ccdc179', 'tmco4', 'camk1d', 'mtdh', 'lrrc9', 'apobr', 'hmgn3', 'ddx41', 'klc4', 'bdkrb2', 'tnfsf9', 'c1ql1', 'ppfia2', 'c8orf58', 'krt34', 'noto', 'rufy1', 'cenpn', 'rftn2', 'or11h6', 'hspb11', 'prr35', 'zgrf1', 'rbbp4', 'gstk1', 'cabcoco1', 'slc22a9', 'ebf4', 'paip2', 'ccnq', 'hk2', 'samd13', 'ro60', 'snapc1', 'lats1', 'or5bs1p', 'ifit2', 'atad3a', 'mknk1', 'loxl3', 'or52n5', 'tank', 'ier5l', 'ccl18', 'ndufs8', 'rbm6', 'a3galt2', 'tor1a', 'theg', 'coq7', 'or5t2', 'pom121c', 'rnase12', 'cst11', 'pih1d1', 'nrdc', 'cftr', 'ccdc24', 'vmac', 'ckap2', 'derl1', 'ube3a', 'psmd10', 'ccl17', 'gpr37l1', 'e2f2', 'cfap53', 'serpine2', 'adgrg5', 'frmpd4', 'smarca5', 'lrrc46', 'pvrig', 'gjd4', 'cspp1', 'rnf31', 'hibadh', 'sod3', 'omd', 'sik3', 'lepr', 'pfdn2', 'pigc', 'znhit6', 'bpifb6', 'acss1', 'acsbg2', 'spef2', 'exph5', 'fryl', 'tp53i3', 'pnpla1', 'cd300lb', 'aspdh', 'fam102a', 'rbm25', 'cenpx', 'cltb', 'slc35d1', 'tars2', 'tsga10ip', 'rnf34', 'gpn2', 'bcor', 'arpin', 'nexmif', 'plch2', 'procr', 'ccar2', 'esrra', 'ccdc32', 'cdhr2', 'fggy', 'apobec4', 'hmgcll1', 'dusp8', 'slc3a2', 'myrfl', 'rbm38', 'sult1c4', 'eif5a2', 'hdac4', 'il17rb', 'slc4a10', 'znf620', 'qrsl1', 'rbx1', 'ccr4', 'znf711', 'gsdme', 'atp8b1', 'colgalt2', 'steap3', 'olfml1', 'aqr', 'stard9', 'osr1', 'slc49a4', 'dppa3', 'gnrh1', 'r3hcc1', 'senp1', 'mettl26', 'or5an1', 'grin3b', 'ntm', 'wdr54', 'akain1', 'pcyt2', 'znf45', 'or5t1', 'armh1', 'smg8', 'gna11', 'naalad2', 'pemt', 'tshz3', 'repin1', 'suv39h1', 'faxdc2', 'denr', 'dclre1c', 'mlycd', 'hoxb5', 'hid1', 'qrich2', 'anxa2r', 'sycp2l', 'or6s1', 'rad54l2', 'dynll2', 'map7d3', 'bmerb1', 'cdh18', 'hook1', 'zdhhc19', 'edc4', 'tymp', 'hcfc2', 'fam171b', 'stat3', 'zfyve27', 'fbl', 'htn1', 'bid', 'scarf2', 'coq8b', 'rad23a', 'mtbp', 'znf850', 'thoc6', 'frrs1', 'hydin', 'rimbp3b', 'cldn5', 'gpd2', 'pgk1', 'znf3', 'map7d1', 'synj2', 'ruvbl2', 'stxbp5', 'cat', 'saxo1', 'gucy1b1', 'zmynd10', 'zkscan7', 'or10a3', 'scn1a', 'smo', 'emsy', 'alx1', 'c1qtnf2', 'pde4c', 'cmip', 'znf584', 'lhx3', 'heg1', 'snrk', 'cdnf', 'wbp2', 'lmcd1', 'abca9', 'or51v1', 'dynlrb2', 'nkain4', 'slc5a3', 'xpc', 'slc35g1', 'gimap6', 'rc3h1', 'fbxl6', 'klrf2', 'c19orf84', 'tmem86b', 'ctdsp2', 'f3', 'adgrd2', 'gjb7', 'or56a5', 'ano10', 'sema3e', 'ptch1', 'ildr2', 'cherp', 'hcrtr2', 'chrna9', 'mad2l1', 'senp3', 'naaladl2', 'reep3', 'fam3a', 'chi3l1', 'krtap25-1', 'cdrt4', 'ikbke', 'ptn', 'lipg', 'gtf2a2', 'gpr65', 'olfml2a', 'acvr1c', 'kptn', 'irf9', 'med31', 'enpp3', 'il19', 'gucy1a2', 'faim2', 'tcf12', 'hmgcr', 'cdc25a', 'kif19', 'rab22a', 'ppp1r16b', 'rmdn3', 'depdc1b', 'lzts1', 'lsmem1', 'gja4', 'ubr2', 'cebpzos', 'or5b21', 'rhou', 'rab35', 'abhd12', 'folr2', 'enah', 'fstl1', 'msto1', 'npsr1', 'vsig10l', 'slc38a11', 'ppargc1a', 'chst8', 'abca4', 'cacng6', 'mid1', 'ttc9b', 'mbd3l2b', 'osbpl3', 'rit1', 'mest', 'otub2', 'defb125', 'kpna3', 'vdac1', 'grxcr2', 'mmp2', 'baiap2l2', 'slc27a5', 'fam47c', 'oat', 'tonsl', 'hspa12b', 'pdgfrb', 'smim10l1', 'gjb3', 'gpr148', 'rassf4', 'tprn', 'ghrl', 'tubgcp2', 'ntrk3', 'fermt2', 'fate1', 'scgb3a1', 'helz', 'vps50', 'mn1', 'uap1', 'abhd14b', 'ddx39b', 'mms22l', 'pkm', 'pcsk6', 'ccdc69', 'il1rl1', 'atp5f1a', 'ccdc61', 'aig1', 'blm', 'slc5a7', 'mdn1', 'hoxa11', 'znf879', 'tmem80', 'or10g3', 'foxr2', 'sspn', 'phldb1', 'rab40b', 'znf438', 'fgf19', 'asmt', 'zdhhc9', 'tssk6', 'magi2', 'sult1b1', 'creb3l1', 'casp14', 'mllt10', 'umps', 'fam120b', 'igf2r', 'nudt5', 'hyal3', 'c17orf64', 'fam228a', 'gnpda2', 'c5orf58', 'klhl10', 'mocs1', 'dnajb12', 'ranbp6', 'khk', 'gsg1l2', 'wipi1', 'znf414', 'ccnyl1', 'phlda2', 'tbx6', 'olfml2b', 'snrpn', 'lrrc59', 'myh8', 'adirf', 'rgs2', 'agpat5', 'ercc1', 'uty', 'cnih3', 'rbfox3', 'klhdc7b', 'wdr72', 'ebp', 'pgm5', 'c20orf85', 'ltbp1', 'sptbn1', 'nlgn1', 'sema4f', 'klf2', 'rere', 'rnf144b', 'tmigd1', 'sh3bgrl3', 'tmem114', 'tbc1d3b', 'ahcy', 'nfam1', 'nisch', 'sdr16c5', 'znf816', 'large1', 'tmprss11f', 'ergic1', 'sarm1', 'znf283', 'ifi6', 'pnpla5', 'tppp', 'sphk2', 'ranbp17', 'drgx', 'sema5b', 'rflna', 'dnali1', 'tra2a', 'c5ar2', 'barhl2', 'pnma6f', 'arfgap1', 'ufd1', 'vash2', 'hspa1b', 'mei1', 'selenof', 'ttll4', 'egr3', 'nudt19', 'mtln', 'pex13', 'slc36a2', 'fam76b', 'pik3cg', 'epx', 'znf419', 'osbpl10', 'cyb5b', 'znf226', 'ndrg3', 'c16orf71', 'rragd', 'smim38', 'bdkrb1', 'anxa9', 'plekhh3', 'efhb', 'slc12a1', 'scg3', 'ror1', 'zbtb7b', 'mpdz', 'pfkp', 'plac8', 'irf1', 'kif5c', 'ccdc167', 'cttnbp2', 'irx3', 'ndufb7', 'slc7a10', 'rtl10', 'aoah', 'sipa1l3', 'csh2', 'mapre2', 'bmp2', 'gadl1', 'zbtb47', 'cpo', 'cpxm2', 'kcnh6', 'efcab7', 'dip2c', 'gp9', 'ehd4', 'wipf3', 'krtap20-3', 'znf362', 'c8b', 'ccdc88a', 'ulbp2', 'tmem271', 'pgpep1', 'klhdc2', 'ap5z1', 'lrrd1', 'nhlrc1', 'spdye5', 'sf3b5', 'btbd10', 'ccdc183', 'vwa5b2', 'twf2', 'jhy', 'slc35f2', 'agap3', 'hat1', 'tff2', 'guca1b', 'tob1', 'mov10', 'plk2', 'ppfibp2', 'jmjd1c', 'ccr10', 'celf3', 'ppbp', 'znf841', 'cdc14b', 'plekhh1', 'sec11a', 'dop1a', 'rab5if', 'arr3', 'ccdc153', 'gypa', 'lactbl1', 'dpm2', 'tmem223', 'zc3hc1', 'smagp', 'fgd5', 'c12orf29', 'tnk1', 'wfdc8', 'dgkd', 'hspa5', 'prag1', 'hmbox1', 'rapgef3', 'il27ra', 'grhl3', 'cadm1', 'mettl25', 'fbxo39', 'slc41a2', 'nr0b1', 'f2r', 'inafm1', 'csk', 'emc4', 'serpinf2', 'ndufc1', 'slc25a43', 'trim17', 'lynx1', 'usp6nl', 'tunar', 'ndfip2', 'sdcbp2', 'rdx', 'fam217b', 'atrn', 'il4r', 'icam2', 'adam22', 'ventx', 'golga6l6', 'ppfibp1', 'rp2', 'irf2', 'klf11', 'ndrg4', 'guca2a', 'rilp', 'prac1', 'gata6', 'igfl3', 'zscan2', 'znf182', 'fcn2', 'znf706', 'kcna5', 'bcar1', 'tmem266', 'ctcf', 'lrrc30', 'dzip3', 'cox6b2', 'or2b6', 'rnf208', 'yif1b', 'plec', 'tbxas1', 'polq', 'cpeb1', 'gng5', 'clock', 'wdr88', 'tfap2c', 'myom1', 'znf565', 'chd3', 'rbm15b', 'sox7', 'sephs1', 'rbfox1', 'ece1', 'bend7', 'ado', 'kiaa0513', 'plekha2', 'lair1', 'nr3c1', 'kcnc1', 'clec16a', 'cpne2', 'ccdc117', 'tex33', 'hoxd8', 'ntng1', 'wwp1', 'znf41', 'sox10', 'abhd4', 'c6orf52', 'ifna21', 'sry', 'rab17', 'pafah1b1', 'muc21', 'znf507', 'psmd6', 'atf6', 'slc25a38', 'trpm7', 'trim4', 'hrh3', 'adcyap1', 'ston2', 'tmem211', 'tgif1', 'c1orf112', 'tmem213', 'dtl', 'grifin', 'znf177', 'dnajc2', 'eid1', 'naf1', 'nog', 'lin9', 'gramd2a', 'hnrnpm', 'angptl4', 'adamts15', 'cdx2', 'mex3a', 'prr14', 'ypel2', 'hnrnpl', 'krtap22-2', 'atp1a3', 'cdkn2a', 'vwce', 'pla2g2f', 'arhgef38', 'dnah11', 'rrp12', 'clba1', 'yipf2', 'adnp', 'rpa3', 'top1mt', 'snrpd1', 'cyb5a', 'fcrl2', 'dock1', 'mfng', 'hs3st1', 'c6orf120', 'cd276', 'zbtb39', 'dtd1', 'pnmt', 'lrrtm1', 'pcmt1', 'utp11', 'hsd17b8', 'fzd1', 'ppp1r14c', 'raf1', 'nek3', 'antkmt', 'fam241a', 'prkd3', 'scrn1', 'phlpp2', 'snx10', 'ppp3cb', 'adamtsl3', 'znf397', 'fhl1', 'rbmxl1', 'amer2', 'glb1', 'sft2d3', 'fam221b', 'rasd1', 'gpcpd1', 'asic2', 'sytl4', 'ints7', 'tle1', 'dach2', 'pdcl2', 'brd8', 'cdc42bpg', 'nanognb', 'znf17', 'clcn7', 'trim52', 'ccl5', 'klf1', 'tmf1', 'or5d13', 'hoxc11', 'notch2', 'dydc1', 'golph3', 'a4gnt', 'lipe', 'pde4b', 'wdr1', 'ccdc28a', 'ptgfr', 'tcof1', 'slc22a6', 'mgat2', 'slc24a3', 'adcy9', 'edaradd', 'pdlim4', 'tm4sf4', 'sh3d19', 'mtif2', 'gsta1', 'sbk1', 'slc33a1', 'mafg', 'tbc1d17', 'matn2', 'arl10', 'sema3d', 'krt72', 'brcc3', 'lcnl1', 'pik3c2g', 'pten', 'clec4g', 'clptm1', 'srsf1', 'osmr', 'crip3', 'ubxn10', 'cpe', 'crabp1', 'scin', 'ublcp1', 'akr1c2', 'btnl8', 'rxfp2', 'noxo1', 'sgsh', 'hp', 'daz2', 'pcdhb6', 'cry2', 'gng3', 'znf778', 'tmem120b', 'unc5cl', 'uqcrh', 'efhc1', 'epop', 'higd1c', 'ppa1', 'kirrel1', 'panx1', 'clic6', 'atp6ap1', 'hhla2', 'fzd9', 'dis3', 'sstr1', 'sh3kbp1', 'gmcl2', 'acad11', 'tnpo2', 'pcbp1', 'cyp26b1', 'znf16', 'epsti1', 's100pbp', 'saraf', 'cxcl5', 'parp4', 'apobec3f', 'lyve1', 'osbpl2', 'arhgef25', 'cby3', 'insyn2a', 'ciao2a', 'fads1', 'gp6', 'iqcf2', 'ube2d4', 'cald1', 'aprt', 'dok5', 'bag3', 'tctn3', 'dynap', 'pelo', 'adig', 'wnt5b', 'fmnl3', 'maf1', 'cyhr1', 'znf562', 'rbbp9', 'pcdhb10', 'chpf2', 'lamp1', 'pafah1b3', 'gusb', 'plat', 'fcrl1', 'abca2', 'snph', 'tlr8', 'ccdc190', 'rnf39', 'eif1b', 'kansl2', 'bcl2l15', 'hk3', 'lnpk', 'id1', 'cdh10', 'lpar1', 'cox7a2', 'hells', 'armc6', 'fcer1g', 'hoxd9', 'cyp2w1', 'uqcrc2', 'pdcd2l', 'prpf31', 'dse', 'dbi', 'cenpvl3', 'sostdc1', 'tbc1d22a', 'wrnip1', 'dnajc21', 'cacna1h', 'rasgef1a', 'msc', 'smarce1', 'serp1', 'trmt1', 'ptcra', 'wfdc10b', 'itgb3bp', 'scn1b', 'gja3', 'mfsd4a', 'foxl1', 'cln6', 'mmp12', 'syndig1l', 'acsl6', 'arl4a', 'gbp3', 'atg12', 'lmo3', 'or14a2', 'prtfdc1', 'triml1', 'tmem25', 'slamf7', 'stk16', 'leutx', 'cog7', 'tln1', 'ablim1', 'trim66', 'pold1', 'papln', 'arhgap5', 'commd9', 'ankrd13d', 'slc4a5', 'mycn', 'atp8b2', 'tex10', 'rbm14', 'slc9a2', 'tra2b', 'nos1', 'dnase1l1', 'mdga2', 'spata31e1', 'rad23b', 'pnma6e', 'lrrc23', 'tppp3', 'glmn', 'nek10', 'sat2', 'plaat3', 'socs4', 'cyb5d2', 'or4p4', 'lce5a', 'tbc1d12', 'lilra4', 'pxmp2', 'rnf113b', 'or52i2', 'lipk', 'il18', 'fmod', 'slc25a48', 'ednrb', 'ugt2b10', 'rufy3', 'cap1', 'c9orf50', 'ca14', 'wbp1l', 'slc23a2', 'cdca4', 'cdk8', 'kcnq3', 'cars2', 'tktl1', 'c1ql3', 'gpr142', 'insr', 'serbp1', 'or13h1', 'cntrl', 'a2m', 'eef2kmt', 'hectd2', 'crkl', 'pcdha5', 'krt80', 'rasd2', 'ppp1r3f', 'orc3', 'cped1', 'cops7a', 'mttp', 'or5b12', 'lrig1', 'znf518b', 'mrc1', 'cnmd', 'pnn', 'afap1l1', 'inpp5a', 'rhebl1', 'ripk3', 'prpf8', 'slco3a1', 'nr0b2', 'or12d3', 'muc13', 'hepacam', 'atp8a2', 'dtx3', 'snrpf', 'chd6', 'map2k3', 'ddx53', 'exd2', 'armcx2', 'map7', 'slc26a4', 'gca', 'tm9sf3', 'vxn', 'ebln2', 'coa7', 'fam172a', 'eif1ad', 'endod1', 'myo5c', 'akap7', 'rnf122', 'espn', 'krtap19-4', 'mapk1', 'prom1', 'ankrd24', 'abo', 'gimd1', 'stat5b', 'mark2', 'hace1', 'slc29a1', 'c1qbp', 'irf6', 'znf536', 'yy2', 'ltbp4', 'sdccag8', 'calhm1', 'trim75p', 'stard10', 'trmt9b', 'zbtb25', 'lgr5', 'ccnl1', 'ednra', 'arx', 'gab3', 'ddr2', 'kpna4', 'lamtor4', 'stag3', 'btg4', 'taf15', 'taf9b', 'hpx', 'fer', 'sidt2', 'cdkl2', 'pskh2', 'sdf2', 'slc5a5', 'rmnd1', 'cpn1', 'abcb7', 'trit1', 'dnajc14', 'irf8', 'erich1', 'ankar', 'pam', 'snx24', 'dennd11', 'fut7', 'heatr1', 'ciao2b', 'trim51gp', 'nck2', 'spata24', 'nf1', 'crot', 'ogdh', 'efcc1', 'ecscr', 'plppr5', 'krtap20-1', 'glra2', 'rnf125', 'zbtb24', 'mtmr11', 'brd7', 'sez6', 'fyb1', 'rpf1', 'mettl2a', 'aar2', 'utp14a', 'znf33a', 'nme9', 'col17a1', 'pcyt1b', 'magea4', 'lamtor2', 'cxadr', 'ift43', 'arhgap30', 'vkorc1', 'mcm6', 'ncr3lg1', 'sumf1', 'ifne', 'or11g2', 'spp2', 'akt1s1', 'mak', 'sox1', 'cyp11b1', 'lum', 'slc22a23', 'znf146', 'ormdl2', 'mier3', 'mbtd1', 'fam171a1', 'mrgprg', 'tex35', 'enkd1', 'cep19', 'tmem255b', 'tmem33', 'znf281', 'znf471', 'rnf180', 'pola1', 'apobec3a', 'or10r2', 'wdr41', 'flrt1', 'nt5c1a', 'igdcc3', 'art4', 'cd300ld', 'cphxl', 'ginm1', 'immp2l', 'zfhx4', 'znf35', 'nelfa', 'vps41', 'iqub', 'usp14', 'ndufa13', 'dlgap3', 'henmt1', 'lmnb1', 'spryd3', 'edem1', 'foxred2', 'cdk12', 'znf101', 'cavin2', 'opa3', 'tmco3', 'il12rb2', 'chst2', 'bmp7', 'itpripl1', 'pdxp', 'spata5', 'hbp1', 'f12', 'glmp', 'adora1', 'tek', 'pacs2', 'arpp19', 'ctrl', 'atg4c', 'elf5', 'cxcl16', 'slc5a6', 'cst7', 'spock1', 'vangl2', 'aadacl4', 'mansc1', 'psma3', 'syne2', 'slc25a23', 'lysmd4', 'znf581', 'cuedc1', 'phospho2', 'tedc1', 'cers6', 'hormad1', 'fkbpl', 'slc28a3', 'ppp1r14d', 'itch', 'nacc1', 'sdr42e1', 'mc2r', 'tmsb4y', 'prb3', 'dr1', 'dct', 'baz2a', 'fkbp6', 'pycard', 'haghl', 'ccr7', 'krbox1', 'naaladl1', 'cd302', 'etv2', 'znf256', 'hspb7', 'ptpa', 'tm2d2', 'sf3b1', 'or52a1', 'acsl1', 'txnip', 'tmem63b', 'slc30a10', 'alpi', 'ppp1r26', 'penk', 'baiap3', 'pros1', 'ercc8', 'sun3', 'fahd1', 'nr6a1', 'c16orf91', 'wasf1', 'tor4a', 'snf8', 'tceal8', 'nts', 'tmem268', 'znf621', 'cuzd1', 'dpcd', 'strit1', 'fbxo10', 'cdkn2aip', 'kmt2b', 'parm1', 'ints9', 'znf215', 'zbed2', 'spatc1', 'krt24', 'klhl3', 'vhl', 'paqr4', 'farp1', 'pkp2', 'rnaseh1', 'atxn3l', 'abca12', 'lpl', 'cfap70', 'nlgn4x', 'lrrc58', 'clpx', 'm1ap', 'tnfsf14', 'ythdc2', 'or2ap1', 'chordc1', 'duoxa2', 'mink1', 'rasgef1b', 'inpp4a', 'gtf3c6', 'ip6k1', 'sf1', 'lrig3', 'ikzf2', 'inka2', 'lrp8', 'ppox', 'has2', 'dagla', 'ugt8', 'c8orf82', 'tmem234', 'dab2ip', 'adk', 'fam118b', 'sgsm2', 'wdr92', 'znf440', 'mpp1', 'nedd9', 'slc25a19', 'podnl1', 'cntn5', 'rasl11b', 'ccni2', 'fchsd2', 'awat2', 'cox18', 'mmut', 'tbc1d10b', 'ctdnep1', 'or52n4', 'pik3r6', 'celf1', 'vat1l', 'rsl1d1', 'ptgs1', 'sec61a2', 'rab37', 'cxcl11', 'trim43', 'ttpal', 'ankrd44', 'ggt6', 'zdhhc22', 'sptbn2', 'znf730', 'trip4', 'znf383', 'csf1', 'sergef', 'piezo1', 'lrrc32', 'c10orf82', 'tmprss3', 'lrp2bp', 'cldn12', 'slc35g5', 'usp24', 'hoxd11', 'prrc1', 'wwc2', 'ttc13', 'c2orf80', 'lrrc37b', 'depdc4', 'tp53i11', 'slc22a14', 'wbp11', 'derl2', 'zfyve16', 'slc39a8', 'wnt7a', 'rrh', 'sac3d1', 'znf827', 'unc93b1', 'wipf2', 'or1l6', 'sirt2', 'serpinb10', 'tab1', 'grpr', 'them6', 'aoc2', 'tarbp1', 'gtf2h3', 'acp7', 'aldh8a1', 'elmo3', 'osm', 'prex2', 'plekha5', 'skp2', 'elf3', 'eif2ak1', 'wwc1', 'nsmce3', 'smim20', 'mst1', 'chrna7', 'snx5', 'slc16a1', 'etv5', 'kif11', 'pcdhac1', 'mre11', 'grap2', 'zhx2', 'cdk6', 'spatc1l', 'cdkn1c', 'retreg2', 'fut3', 'caskin1', 'ccar1', 'mettl6', 'ifi27', 'camkk2', 'kdsr', 'npipb2', 'ssu72', 'bdh1', 'grhl2', 'nek4', 'itga4', 'def6', 'gli4', 'nfkbia', 'atxn2l', 'ppp2r3b', 'cmtm6', 'lin52', 'tmem177', 'elovl2', 'lrrc74a', 'krt78', 'skor2', 'smc6', 'snta1', 'txndc5', 'defb134', 'arid4a', 'plcg1', 'zmat3', 'vps36', 'myo6', 'psmb10', 'hgf', 'c17orf99', 'abcb6', 'ehbp1', 'slc23a3', 'mical1', 'dennd4a', 'hebp2', 'slc39a5', 'wdr13', 'knl1', 'wdr6', 'greb1l', 'map2k2', 'ucn', 'gimap2', 'ccnk', 'alg14', 'krtap19-5', 'ctps2', 'dpp7', 'sun5', 'or6k2', 'adgrb2', 'kalrn', 'cpeb2', 'ptprn2', 'cdk5rap1', 'fzd6', 'lgals9c', 'rangap1', 'ervv-1', 'mgat3', 'trpc4', 'dnajb14', 'lmtk2', 'egr2', 'pmaip1', 'bhmt', 'tsr2', 'fam167a', 'tmem62', 'kcnt2', 'znf75a', 'cd93', 'pde6d', 'lrrc40', 'pkn3', 'snx14', 'sbsn', 'snapc4', 'foxn3', 'cyp2b6', 'hmox1', 'swap70', 'klhdc7a', 'efna1', 'pfas', 'slc16a12', 'pak1ip1', 'znf574', 'sirt3', 'rtf2', 'csag1', 'or10a4', 'spon2', 'opn1lw', 'dennd5b', 'serping1', 'hmgxb3', 'abhd11', 'tmem170b', 'thap6', 'or4d6', 'dpp3', 'c11orf86', 'c17orf80', 'cox19', 'bnip2', 'foxe3', 'ptgr2', 'slc22a15', 'plek2', 'cyc1', 'ptprf', 'exoc3l2', 'csmd1', 'mvb12b', 'rasef', 'tas2r38', 'or4a15', 'dll4', 'gbf1', 'frs2', 'znf736', 'fam183a', 'mthfr', 'wac', 'uba7', 'arih1', 'heph', 'adgrg4', 'ccdc107', 'or52n1', 'hoxb9', 'lrrc45', 'fez2', 'taar5', 'foxd4l5', 'rnf212b', 'cfhr2', 'gk5', 'tm4sf5', 'nadk', 'ssx7', 'ndufa3', 'btbd8', 'lrrc14b', 'fxyd5', 'klhdc8a', 'slc9a4', 'pcdhb11', 'safb2', 'clpsl2', 'tk1', 'cdc7', 'lcn9', 'arhgdig', 'e2f6', 'ift81', 'tmem131l', 'klhl26', 'ephb6', 'ptprr', 'cst2', 'vtcn1', 'doc2a', 'fmn1', 'banf1', 'serpina7', 'timm8b', 'myl2', 'shank1', 'oser1', 'icmt', 'drg2', 'ric8a', 'srd5a2', 'ccn4', 'esam', 'fbxo8', 'clint1', 'snx19', 'nrsn2', 'c19orf67', 'ldlr', 'ppia', 'csnk1g2', 'rttn', 'krt27', 'paxip1', 'mccc1', 'clnk', 'csrp3', 'otub1', 'scn3b', 'fbn1', 'srcin1', 'pvalef', 'adm5', 'sec22c', 'ugt2a3', 'hnrnpd', 'gpr151', 'dido1', 'itm2a', 'sh2d3a', 'tomm70', 'pcdha8', 'prkcd', 'cdk11b', 'mkln1', 'mslnl', 'prr7', 'vgll1', 'trem2', 'tbx4', 'stag1', 'adam30', 'psap', 'pacs1', 'slc12a2', 'asb2', 'ero1b', 'slc26a5', 'ms4a1', 'chd8', 'mlst8', 'or6a2', 'gask1b', 'sharpin', 'tead4', 'c11orf16', 'stoml2', 'tas1r3', 'zdhhc3', 'htra3', 'kifap3', 'epha4', 'frg1', 'rfesd', 'cc2d2b', 'ccndbp1', 'adgrg1', 'katnb1', 'akt2', 'fbxo27', 'znf26', 'bnc2', 'lrrc3b', 'cd3g', 'ube2i', 'slc35f6', 'gab4', 'tmem151b', 'pgam5', 'mrgprf', 'scai', 'rab7a', 'foxi3', 'or7g3', 'herc1', 'znf823', 'lrrtm2', 'itgal', 'sla2', 'znf75d', 'dlgap4', 'ddn', 'stat2', 'josd1', 'tspy1', 'usp4', 'trip13', 'prss37', 'fbxo40', 'ssr3', 'ccny', 'baz2b', 'prkd2', 'galnt1', 'cabp4', 'sorbs2', 'atp6v0d2', 'rab11fip5', 'steap1', 'hdac5', 'spryd7', 'cldn16', 'brca1', 'unk', 'ccnh', 'ptprm', 'npc2', 'pip5k1c', 'xkr3', 'pdpn', 'c2orf72', 'nop16', 'spink6', 'usp20', 'cbx4', 'card11', 'gpx2', 'cyp19a1', 'katnal1', 'csn1s1', 'nenf', 'trip12', 'gatd1', 'htr6', 'tapbpl', 'pik3r4', 'sox21', 'dock3', 'or6c2', 'fndc8', 'thop1', 'prrg2', 'rbmxl2', 'sinhcaf', 'rbpms', 'rd3l', 'cdc26', 'lhpp', 'btf3', 'coro2b', 'tdrp', 'rgs11', 'arhgap36', 'eif3l', 'mtres1', 'rnf167', 'trim28', 'tas2r9', 'nfic', 'tmsb15a', 'tbcb', 'nek7', 'fam76a', 'bche', 'rgs21', 'plpp5', 'fbxo15', 'ackr2', 'sptssa', 'tbc1d30', 'kcmf1', 'pcdhb7', 'ppfia3', 'tmem108', 'ier3', 'nkx6-1', 'grtp1', 'cited4', 'fam114a1', 'alas2', 'pet100', 'gstt4', 'lce1d', 'jph1', 'arl6', 'zmiz1', 'c1orf56', 'hmgcl', 'smarca4', 'slc18a2', 'abcc9', 'adap1', 'chmp4c', 'rcl1', 'dcn', 'epo', 'fcgr3a', 'spata31d1', 'defb108b', 'znf263', 'hnrnpcl2', 'lig3', 'grn', 'mknk2', 'mt-nd4l', 'krtap10-10', 'slc7a5', 'lpin2', 'ccne2', 'ccser2', 'zfp36', 'pikfyve', 'fkbp3', 'myo7b', 'insig2', 'prcd', 'znf547', 'krtap13-3', 'hck', 'c1orf162', 'bicra', 'efr3a', 'gpr3', 'c11orf54', 'wdr75', 'fbp1', 'eya1', 'prrg3', 'pigz', 'hemk1', 'pcolce2', 'man2b1', 'cd47', 'ly6g6c', 'adtrp', 'anxa13', 'myt1', 'vps4b', 'alg3', 'cd28', 'klhl24', 'pgrmc2', 'mcam', 'mdk', 'arsa', 'p2rx3', 'acd', 'mindy3', 'tcf7l2', 'cfl1', 'znf385b', 'znf491', 'gga2', 'gbp7', 'phactr4', 'ifi44', 'gjb5', 'stat5a', 'stard3', 'ajap1', 'rabggtb', 'glrx2', 'rabgef1', 'adam7', 'fnbp1l', 'syne3', 'map4k1', 'artn', 'eif2b4', 'rsad1', 'crybg2', 'mfhas1', 'nfat5', 'tdg', 'map1s', 'lrpprc', 'nyap1', 'myo1h', 'apoa1', 'nudt9', 'abhd14a', 'parp11', 'pcdha2', 'or10v1', 'psmc3ip', 'ubtf', 'faslg', 'katnbl1', 'me2', 'fam170a', 'gpr107', 'epc1', 'ino80c', 'abcb5', 'stard5', 'plin2', 'cxcl3', 'dctn3', 'prss23', 'st8sia1', 'or10ad1', 'micu3', 'ndufb1', 'dnaja2', 'tp53inp2', 'meiob', 'fez1', 'ociad1', 'rai2', 'lrrc8a', 'prb4', 'tm6sf2', 'stac2', 'srpx2', 'arntl2', 'nkrf', 'scgn', 'ptges3', 'eif2b1', 'tmem82', 'msrb1', 'xaf1', 'ms4a14', 'nphp3', 'hddc2', 'znf444', 'wdr26', 'col3a1', 'tmem97', 'smim3', 'slc16a9', 'uvssa', 'ica1', 'tnnc1', 'galntl5', 'mob2', 'cx3cr1', 'inhbe', 'fbln5', 'get1', 'rab6b', 'zscan10', 'chd4', 'c16orf92', 'pcna', 'tmem129', 'homer1', 'slc8b1', 'ccdc158', 'hps1', 'tmem161a', 'pgam2', 'msmo1', 'cfap57', 'ciart', 'pon3', 'dmac1', 'smg9', 'pacsin3', 'dthd1', 'pcsk2', 'cbll2', 'znf22', 'tfip11', 'havcr2', 'tet2', 'dclre1a', 'klf8', 'fgfr1', 'clic3', 'zranb3', 'rhoq', 'or6y1', 'oas2', 'znf676', 'mmp10', 'asic4', 'acsm4', 'st6gal1', 'mical3', 'grid1', 'flt1', 'ctage1', 'psrc1', 'znf2', 'cd24', 'thsd4', 'mex3d', 'ing5', 'or10h5', 'tmem38b', 'ncapd2', 'hibch', 'krt26', 'pramef6', 'aard', 'polg2', 'ptger4', 'csf2ra', 'prb1', 'lmf2', 'or5k1', 'kcnrg', 'arl3', 'prima1', 'or6b3', 'ptk6', 'kifc2', 'trim23', 'trrap', 'krt74', 'aarsd1', 'nbn', 'camk2g', 'c15orf40', 'trappc13', 'dnaaf1', 'gpr26', 'tprkb', 'tsg101', 'gal', 'psmd14', 'txnrd1', 'ufm1', 'phyhipl', 'gfer', 'blvrb', 'srgap3', 'polr1c', 'ctag2', 'pcdhb1', 'acacb', 'klf17', 'hepacam2', 'c2orf69', 'cmbl', 'ip6k3', 'slc15a4', 'znf20', 'or4a5', 'tmem200b', 'ddo', 'slc22a17', 'tbx19', 'tcp11l2', 'ap1g2', 'nacc2', 'ccdc17', 'zbtb33', 'taok3', 'slc25a30', 'apol1', 'snx13', 'msx1', 'or2z1', 'casp6', 'kiaa1109', 'rev3l', 'ppp1cc', 'rnf170', 'klhl34', 'romo1', 'zkscan4', 'dffa', 'rhot1', 'adgrf2', 'nemf', 'syp', 'sertad4', 'timm21', 'mycbp2', 'stab2', 'wdfy2', 'cdca2', 'usp8', 'spaca1', 'pcdhga7', 'marveld1', 'tuba4a', 'pxk', 'dnajc12', 'c12orf71', 'samm50', 'glcci1', 'tysnd1', 'srgap1', 'itgad', 'cib3', 'bpifb3', 'znf385c', 'ino80d', 'pou3f1', 'fdx1', 'pcsk1', 'olah', 'usp51', 'eif4a3', 'msantd4', 'crlf2', 'cdc73', 'tube1', 'larp6', 'mmp23b', 'spidr', 'kctd10', 'bhlhe23', 'unc119', 'insl5', 'tfap2d', 'lzts3', 'pde6c', 'pkd1l3', 'zscan25', 'crtc2', 'chchd3', 'bclaf3', 'bag1', 'clmp', 'trank1', 'metap1d', 'ccr5', 'adcy5', 'or13c3', 'krt6b', 'tpsd1', 'ddx39a', 'upp1', 'zscan4', 'crnkl1', 'heatr6', 'atcay', 'znf729', 'trim32', 'arsb', 'mex3b', 'mybbp1a', 'terb2', 'erbb2', 'arid3a', 'mb', 'ccl11', 'c4bpb', 'znf253', 'ceacam3', 'zbtb20', 'casp10', 'tmc8', 'samd7', 'ldlrad4', 'taf9', 'brinp2', 'cd52', 'mybpc1', 'pom121', 'kctd20', 'rhbdd3', 'p2ry11', 'snap23', 'naa80', 'cnot10', 'pramef18', 'epb41l2', 'prps1l1', 'tac1', 'tmem247', 'tle7', 'dhrs9', 'c2cd2', 'or8j3', 'ing3', 'rnf217', 'dlgap2', 'ankrd54', 'aldh2', 'znf665', 'syngr2', 'tspan4', 'ddx50', 'mapkap1', 'ereg', 'kiaa1841', 'map7d2', 'gsta5', 'znf107', 'sel1l', 'cldn20', 'c5orf22', 'pitx1', 'acoxl', 'clu', 'htr4', 'krt73', 'ucp1', 'crppa', 'prpf3', 'pfn4', 'gemin5', 'slc39a7', 'or56a4', 'ccr6', 'galnt10', 'dydc2', 'fbrs', 'sprr2g', 'slc5a9', 'zbtb49', 'hoxc12', 'c14orf132', 'rin3', 'ush1g', 'minar2', 'atp6v1g1', 'ulk1', 'tex11', 'tex30', 'smarcad1', 'abcb1', 'cog5', 'ccpg1', 'akirin1', 'mark3', 'zswim1', 'slc4a2', 'atg16l1', 'il13ra1', 'fam78b', 'pithd1', 'ift172', 'tgs1', 'pde6h', 'cyfip1', 'dbn1', 'agtr2', 'trim5', 'fxyd4', 'gzmh', 'ramp2', 'best4', 'fam160a2', 'krtap10-7', 'tmem67', 'ermn', 'ripply2', 'or10x1', 'or8d4', 'tnfsf13b', 'rasal3', 'crisp3', 'rad52', 'b3gnt6', 'atf7', 'svil', 'znf735', 'rbm12', 'antxr1', 'tmem86a', 'krt16', 'pnkd', 'hopx', 'carm1', 'sfswap', 'slc7a4', 'emx1', 'rnf19a', 'c11orf68', 'gng2', 'muc15', 'eif4a1', 'nit2', 'rack1', 'hoxa1', 'set', 'prpsap1', 'krt13', 'epha2', 'tmem144', 'pglyrp3', 'gpr85', 'slc17a6', 'fam162b', 'bcl7a', 'rbm5', 'hand2', 'adarb2', 'cep131', 'pip', 'dtx1', 'pxt1', 'usp35', 'pianp', 'dusp9', 'sertad3', 'mfsd14a', 'gjb6', 'arhgap24', 'cpne6', 'capns2', 'fcer2', 'pabpc1l', 'tcf4', 'hpse', 'erich2', 'dad1', 'fut4', 'col26a1', 'wfdc6', 'pcbp2', 'pycr1', 'il17rel', 'kri1', 'gngt2', 'smim30', 'hexim1', 'tmem79', 'barx2', 'tubgcp4', 'nptn', 'znf830', 'saysd1', 'ccdc115', 'npepps', 'cav1', 'susd6', 'crebrf', 'tomm20', 'fbln7', 'or2h1', 'c2orf15', 'glrx3', 'bicdl2', 'cyp3a4', 'znf526', 'neurog1', 'map2k7', 'b3gnt7', 'tbp', 'prcp', 'mia2', 'atp8a1', 'gata2', 'gsx2', 'nt5c3a', 'surf6', 'rrad', 'tm9sf4', 'cylc2', 'dcaf6', 'vhll', 'serpina12', 'niban1', 'dapk3', 'hyal2', 'hspa8', 'fat3', 'ccr8', 'mb21d2', 'oc90', 'fbxl3', 'vgll3', 'pank4', 'gmds', 'baz1a', 'kctd1', 'rab3a', 'nfkbid', 'phactr3', 'rnf138', 'tor3a', 'sema4a', 'ago3', 'chtf18', 'pdcd5', 'afm', 'apoa4', 'frat2', 'rspo2', 'lama2', 'cyp8b1', 'npap1', 'zzef1', 's100a11', 'orm1', 'dvl2', 'lysmd1', 'mfsd11', 'cxxc5', 'tmem59', 'zbbx', 'mtrf1l', 'or52n2', 'slain1', 'mphosph10', 'bmp8b', 'c8orf34', 'sdr39u1', 'psme3', 'capza3', 'pggt1b', 'armcx5', 'usf3', 'folr1', 'pdk2', 'fam71b', 'znf549', 'stox2', 'incenp', 'atp7a', 'cga', 'dolk', 'ccm2l', 'cel', 'spdl1', 'pcdhga2', 'yipf4', 'uqcr10', 'rrbp1', 'ciapin1', 'zswim2', 'clc', 'ahsg', 'rbm24', 'pou1f1', 'il34', 'defb119', 'tmem125', 'nhlh1', 'fmr1', 'ndufaf1', 'fat4', 'tnfrsf13b', 'thap9', 'dsc2', 'dnajc8', 'srxn1', 'aktip', 'foxj1', 'slc7a7', 'mgat5', 'rnf121', 'elk3', 'ccnc', 'togaram2', 'dusp7', 'or1b1', 'cacfd1', 'oca2', 'stk24', 'mip', 'nxpe4', 'hspa2', 'pla1a', 'wipi2', 'acyp2', 'tnfaip8l2', 'cd36', 'nkx2-4', 'qrich1', 'xg', 'spry3', 'rpia', 'col9a2', 'rbbp8nl', 'neurod2', 'nsun5', 'mospd1', 'tmbim6', 'hddc3', 'krtap17-1', 'tet3', 'ttll8', 'ngf', 'ern2', 'or8d2', 'tmcc1', 'cd40lg', 'acsf2', 'asnsd1', 'ago2', 'or10g7', 'tmtc4', 'dsg4', 'actb', 'rtl3', 'coch', 'gnb1', 'znf644', 'or10s1', 'pigq', 'tmc2', 'crtam', 'bpifb2', 'pex7', 'capn5', 'npas3', 'acox3', 'tgfb2', 'ago4', 'col5a1', 'tmco1', 'frmd8', 'ttyh1', 'cfp', 'avl9', 'edem2', 'papss1', 'ctnnbip1', 'cebpd', 'wdr19', 'znf365', 'tubd1', 'rfc2', 'usp42', 'clps', 'iscu', 'dcaf4', 'spg11', 'tcirg1', 'akap6', 'smtn', 'otof', 'cdhr3', 'rab12', 'gtf2h1', 'rasl10a', 'or2a5', 'xrcc6', 'mtrf1', 'or8b4', 'uso1', 'slurp2', 'wsb2', 'glyat', 'pmfbp1', 'colca2', 'gse1', 'hacd2', 'nmnat3', 'psg6', 'rrp1', 'aacs', 'dmc1', 'pold2', 'med25', 'cr1l', 'lgi2', 'chst9', 'kif20a', 'mapk7', 'cxorf58', 'ccdc148', 'ugdh', 'tmem225b', 'znf705g', 'avpi1', 'nmral1', 'c3orf14', 'c6orf136', 'st6galnac4', 'opcml', 'rln3', 'dapk1', 'rapgefl1', 'cep250', 'treh', 'c6orf89', 'znf772', 'smpd1', 'rnf182', 'cd22', 'eif4ebp1', 'atpaf2', 'cdc20b', 'cnfn', 'rtca', 'lsr', 'anos1', 'cd34', 'lce3d', 'or2y1', 'ppp2r2a', 'ikzf1', 'rph3a', 'amh', 'tmem130', 'star', 'myf6', 'mbd3l1', 'wdr81', 'mcidas', 'ccdc59', 'znf770', 'or10a2', 'tmod4', 'smarcal1', 'rbpj', 'npipb15', 'slc9a3r1', 'krtap12-3', 'kcnmb3', 'diras3', 'ptgdr', 'ppp4c', 'atpsckmt', 'mcub', 'tlnrd1', 'foxa3', 'tmem171', 'las1l', 'thoc2', 'slc22a18', 'gpr153', 'erlec1', 'ugcg', 'c4orf19', 'prkab1', 'zglp1', 'mypop', 'klhl35', 'gadd45b', 'otulinl', 'ren', 'ccdc3', 'c11orf49', 'lamtor1', 'pdlim2', 'fam181b', 'tmem161b', 'tgm7', 'lsp1', 'oaz1', 'plxnb1', 'col8a2', 'asb18', 'prkacg', 'zmynd12', 'mpnd', 'nup210l', 'dennd2d', 'arl11', 'oxr1', 'sgf29', 'ankrd6', 'gskip', 'fgr', 'fahd2a', 'anxa7', 'timm10b', 'srrt', 'znf23', 'dusp4', 'nrde2', 'nde1', 'aste1', 'grk6', 'ptpro', 'ca10', 'foxc1', 'mcf2l2', 'kctd7', 'niban2', 'med17', 'tp53inp1', 'dhh', 'colgalt1', 'mageb3', 'brd2', 'rangrf', 'igsf1', 'kcnj5', 'armc7', 'krt9', 'etfb', 'tbc1d2b', 'vamp8', 'znf433', 'zswim7', 'ankrd30b', 'tubgcp3', 'map2k6', 'apol6', 'sfxn2', 'mageb5', 'kif21b', 'sgsm1', 'smim27', 'prkcb', 'ct83', 'slc2a14', 'eddm3a', 'ctss', 'pik3ca', 'msh5', 'slc44a1', 'stbd1', 'b4galt7', 'cplane2', 'zbtb34', 'rgl3', 'arid4b', 'onecut1', 'rrp7a', 'arih2', 'esrp2', 'sertad2', 'tdrd10', 'pxn', 'ccl21', 'cdh19', 'znf358', 'mgst1', 'plod3', 'ccdc65', 'naa35', 'naa38', 'ntn1', 'fam9c', 'ugt1a9', 'jade2', 'cav2', 'pot1', 'srsf2', 'hvcn1', 'mcm3', 'cdh12', 'dnase2', 'or10ag1', 'tiparp', 'crhr2', 'nap1l5', 'defa5', 'n4bp2', 'mroh2a', 'fam174a', 'junb', 'ndc1', 'fgfbp2', 'atad2b', 'c6orf163', 'ano8', 'znf777', 'aldh1a2', 'haus1', 'tas2r42', 'ccnd2', 'mpst', 'fgfbp3', 'ing2', 'gem', 'gli2', 'zfp3', 'cyba', 'spen', 'bbs9', 'map3k10', 'slco2b1', 'tut7', 'tfcp2', 'lysmd3', 'mllt6', 'unc13a', 'adra2a', 'ca5a', 'boll', 'chrna6', 'cep57', 'dhrs11', 'klk2', 'ccdc88c', 'numbl', 'tcf23', 'gmpr2', 'vangl1', 'enam', 'fam107a', 'abr', 'cox7b', 'acbd6', 'zeb1', 'spn', 'parp10', 'sec16a', 'timm29', 'c2orf42', 'tyw3', 'tmem14b', 'chml', 'tmem167b', 'c11orf97', 'rnf185', 'tekt2', 'cluap1', 'hmgxb4', 'sell', 'fem1b', 'terf2ip', 'kcnc3', 'rac2', 'rasa2', 'ascl5', 'vip', 'srd5a3', 'abcb10', 'polr3c', 'dph7', 'ada2', 'cnnm1', 'ramacl', 'pkd1l1', 'kiaa1217', 'col9a1', 'epha6', 'cyld', 'or51s1', 'ddx10', 'tspan5', 'spint2', 'clrn1', 'or7g1', 'thap3', 'hr', 'plvap', 'tfcp2l1', 'tfec', 'pgap1', 'mab21l2', 'rnase11', 'btf3l4', 'cdh6', 'marveld2', 'ucn3', 'bsx', 'spanxd', 'clstn1', 'slc46a2', 'gatb', 'gfpt2', 'mdc1', 'fgl1', 'tnfsf11', 'ndufaf8', 'sv2b', 'krtap13-4', 'phldb2', 'phox2a', 'avpr1b', 'znf713', 'chmp6', 'clpp', 'arhgap9', 'birc7', 'c12orf60', 'gc', 'emp1', 'or5i1', 'eif4b', 'cdhr4', 'zcchc2', 'fgfbp1', 'dock4', 'ccin', 'myoc', 'sun1', 'cthrc1', 'entpd8', 'nbr1', 'klk12', 'apobec3g', 'btg1', 'ascl2', 'adgrl1', 'padi1', 'styx', 'naa40', 'iffo1', 'prorp', 'sema6b', 'spns1', 'echdc3', 'tex261', 'stum', 'fcer1a', 'armc8', 'gpr135', 'mbd4', 'upf3b', 'lcp2', 'dpysl3', 'vezt', 'sim1', 'mab21l4', 'cenpt', 'gabre', 'zcchc14', 'lilrb2', 'gpr152', 'znf484', 'sp2', 'egr4', 'ppp1r3e', 'pdilt', 'enosf1', 'pak5', 'mcm2', 'slc2a13', 'fastk', 'caps', 'lpar4', 'btaf1', 'sgta', 'ctso', 'rft1', 'dhrs7', 'miga1', 'elp5', 'gjc1', 'uqcrb', 'zyx', 'cox5b', 'otud1', 'cysrt1', 'cemip', 'flrt3', 'slc25a22', 'slc6a8', 'sp8', 'lrrc8c', 'copg1', 'scamp4', 'ddx43', 'crispld2', 'brsk1', 'tpd52l3', 'znf33b', 'myo1g', 'lipc', 'lurap1', 'irx1', 'sec23ip', 'scygr8', 'lalba', 'ppara', 'znf212', 'lrrc31', 'spats2', 'exoc3l1', 'dctpp1', 'c21orf91', 'mxra5', 'st13', 'dph2', 'slc27a2', 'kcnv2', 'nox3', 'rfk', 'klrc1', 'nlrp11', 'stx17', 'zfyve19', 'scap', 'tsc22d3', 'acsm5', 'gtf3c2', 'fdx2', 'cblc', 'ptp4a3', 'psmb8', 'wnt3', 'selenov', 'folr3', 'or52k1', 'fem1c', 'prkaca', 'notch1', 'kynu', 'gpc2', 'ilvbl', 'abcf3', 'polk', 'tjp3', 'actr3', 'cdk9', 'slc12a6', 'pnoc', 'sgtb', 'plin5', 'cd164l2', 'cpt1a', 'golga6l2', 'ttc7a', 'f10', 'traip', 'l3mbtl3', 'pla2g10', 'c22orf31', 'ambp', 'mef2d', 'ywhae', 'adam17', 'trim31', 'gpaa1', 'gsto1', 'nudt10', 'hdlbp', 'or4c13', 'tecrl', 'dnajc5b', 'prpf19', 'islr', 'bin2', 'srr', 'rc3h2', 'ccdc175', 'gdpd3', 'znf578', 'serpina11', 's100a14', 'kcng4', 'hikeshi', 'ncr1', 'spry2', 'or2t33', 'hscb', 'csnka2ip', 'cnbd1', 'ptprj', 'klhl17', 'tnik', 'nkx2-3', 'lrrc36', 'sh3d21', 'il1rap', 'pkdrej', 'sin3b', 'defb115', 'il12a', 'eys', 'plgrkt', 'htr1a', 'timd4', 'ppil4', 'trim67', 'ssbp3', 'uhrf2', 'atp11b', 'or4k17', 'kndc1', 'fut6', 'ccn1', 'chn1', 'rtkn2', 'krt85', 'rftn1', 'elovl4', 'plekhf2', 'usp46', 'fam110b', 'lbx2', 'rtl1', 'slc35a2', 'defb123', 'rnf187', 'eif4ebp2', 'cbll1', 'or2t6', 'or6c70', 'itga11', 'spata31a6', 'slc6a5', 'cd44', 'klrk1', 'mgme1', 'cox8c', 'macf1', 'rlf', 'adgrf3', 'ulbp3', 'polr3a', 'oosp1', 'pop4', 'tnp1', 'cacng4', 'kiaa0895', 'hgsnat', 'znf385a', 'fdps', 'slf2', 'znf610', 'esrrb', 'scmh1', 'clcf1', 'sat1', 'cysltr2', 'babam1', 'fam47a', 'tpte', 'tspan17', 'clvs2', 'arl2bp', 'tmem209', 'uspl1', 'vwa7', 'smim18', 'ippk', 'mfap2', 'znf707', 'pdgfd', 'chl1', 'mfsd14b', 'bpifa1', 'cux1', 'stau1', 'iqcj', 'tnfrsf14', 'ralgapa1', 'yipf6', 'zfyve28', 'mapkapk5', 'cxxc4', 'kcnc4', 'mta2', 'hexim2', 'cyp2s1', 'lhfpl4', 'nkx3-1', 'nkx1-1', 'corin', 'heyl', 'tcap', 'tma7', 'fstl3', 'ticam1', 'magi3', 'septin4', 'amhr2', 'wdr18', 'vps26c', 'timm17b', 'krt14', 'nbpf1', 'spaca9', 'c9', 'srrm4', 'xylt1', 'l1cam', 'il4', 'clec11a', 'larp7', 'nova2', 'gas1', 'slc35g2', 'clk3', 'synpo2', 'ntf3', 'or7c1', 'ramp1', 'svopl', 'josd2', 'fxyd2', 'dao', 'nod2', 'lhx1', 'golm1', 'rnf186', 'pc', 'mef2c', 'rbm39', 'cyp1a2', 'cyp4f2', 'c2cd4b', 'ppp1r37', 'prr9', 'tnn', 'cntn4', 'ywhaq', 'psors1c1', 'tmem258', 'itpkb', 'mcur1', 'hspb1', 'kiaa2012', 'or52b6', 'calcb', 'degs1', 'allc', 'grpel2', 'scn4b', 'coa4', 'tmed8', 'cul2', 'msantd3', 'trim15', 'pkib', 'sec24b', 'asz1', 'scg5', 'cenpe', 'dnajc30', 'bbs1', 'dscc1', 'cyp2u1', 'ogn', 'sec14l3', 'tigd6', 'immt', 'vars2', 'lrrc4', 'anp32a', 'gdi1', 'nox4', 'sgo1', 'grm6', 'echdc1', 'enpp2', 'c19orf85', 'ercc2', 'vdac2', 'chka', 'pstk', 'spdye4', 'pstpip1', 'rai1', 'pycr2', 'gmppb', 'pus10', 'fam117b', 'dnm1l', 'dkk2', 'klhl40', 'znf169', 'haao', 'eea1', 'cep192', 'ppp2r5d', 'tcaf1', 'znf622', 'gmeb1', 'ino80b', 'klhl7', 'apob', 'timm23', 'ggcx', 'wdr7', 'znf480', 'opalin', 'itfg2', 'hand1', 'tp53rk', 'c16orf70', 'gbx1', 'lrit3', 'tm4sf1', 'or13c4', 'actr5', 'zfp90', 'ralbp1', 'col13a1', 'bloc1s4', 'stk32b', 'alpk1', 'kcng3', 'slc6a17', 'cpvl', 'sypl2', 'gli3', 'barx1', 'mak16', 'kdm5a', 'emcn', 'stc2', 'gna14', 'rgma', 'nat8l', 'lto1', 'amfr', 'dbp', 'il1a', 'nufip2', 'trim60', 'plekhg6', 'vps13d', 'ptges3l', 'prkd1', 'mdh1b', 'smim28', 'nek8', 'mzf1', 'sirpa', 'stard7', 'hnmt', 'mmp28', 'abhd12b', 'pcdh1', 'txlnb', 'spindoc', 'rit2', 'arfip2', 'phtf2', 'cand2', 'pik3r5', 'ttc39a', 'kat2b', 'cstl1', 'mok', 'phyhd1', 'bank1', 'atp6v1d', 'pcdha1', 'hacd3', 'ids', 'smc1b', 'znf442', 'oaf', 'znf134', 'decr1', 'pvr', 'meox1', 'clstn3', 'rpp38', 'atxn3', 'spata22', 'ccdc89', 'hm13', 'actn2', 'gen1', 'clrn2', 'ostc', 'clul1', 'rpp25l', 'b3gnt4', 'camk4', 'bsg', 'samd15', 'bap1', 'ccdc82', 'ibsp', 'c15orf65', 'kif4b', 'znf446', 'kbtbd11', 'tmem168', 'nom1', 'ppp1r13b', 'chrne', 'hoxb2', 'zp2', 'bbs10', 'gabra3', 'myl10', 'lrrc34', 'nmrk1', 'utrn', 'pou5f2', 'or4c46', 'fam53b', 'krt25', 'nucks1', 'pick1', 'wars2', 'nrf1', 'csn2', 'bhmt2', 'col11a2', 'mob3a', 'sp7', 'pak2', 'ergic2', 'spast', 'yaf2', 'saal1', 'ect2', 'gmeb2', 'tcf24', 'sox13', 'vwa5a', 'camkv', 'tlcd5', 'senp5', 'pls1', 'ifi27l1', 'borcs7', 'slc25a12', 's100a12', 'usp39', 'mob4', 'psmc3', 'cpt2', 'atp2c2', 'sh3tc2', 'znf799', 'tgfbr3', 'mgat4c', 'kiaa1328', 'pgk2', 'gata3', 'gas6', 'npy5r', 'sebox', 'mpzl3', 'spink2', 'riiad1', 'uck1', 'shd', 'lpar3', 'foxk2', 'c1orf194', 'rai14', 'klhdc9', 'cd81', 'nudt16', 'fignl2', 'snx20', 'clec18c', 'rapgef5', 'dolpp1', 'agt', 'vapa', 'proser3', 'adcy7', 'mlc1', 'afap1', 'ipo5', 'ttc39b', 'cyp27a1', 'myo10', 'suox', 'jph2', 'maea', 'tmem214', 'foxd4l6', 'pdcd11', 'hdac7', 'nop14', 'gpd1l', 'frmpd3', 'rdh8', 'lsm3', 'rims2', 'asb12', 'mtcp1', 'pik3c2a', 'tgm2', 'thsd7b', 'il22ra2', 'cyth2', 'aimp2', 'il17ra', 'chpf', 'got2', 'mthfd2l', 'gfm1', 'nyx', 'cenpc', 'kif2c', 'rcn3', 'c11orf52', 'samsn1', 'septin8', 'ust', 'aldh7a1', 'znf83', 'dok2', 'foxm1', 'mpzl1', 'enpp5', 'hey1', 'acrv1', 'fndc10', 'cdcp2', 'tktl2', 'tmem175', 'znf572', 'lelp1', 'l3hypdh', 'nes', 'chmp4a', 'sumf2', 'tmem126b', 'ahcyl2', 'dhx58', 'shisa2', 'cd8b2', 'kdm4d', 'ssc4d', 'erf', 'spag6', 'fcrlb', 'cks2', 'aldh3b1', 'tecta', 'gpr12', 'crhbp', 'natd1', 'enpp4', 'bach2', 'ero1a', 'ppp2r2d', 'hipk2', 'stx4', 'fbxw2', 'ppm1b', 'tpm4', 'plpp4', 'cntn1', 'sorbs3', 'trim11', 'nudt13', 'pou6f1', 'lgals1', 'parp6', 'sox30', 'lrrc2', 'rpe65', 'znf143', 'fbxl17', 'evi2b', 'znf692', 'cog4', 'tmem51', 'grk7', 'mterf2', 'slit1', 'pafah2', 'tbl3', 'krcc1', 'slc15a1', 'nup214', 'ybx2', 'klf18', 'caps2', 'dele1', 'fignl1', 'trappc6a', 'frg2c', 'slc35e1', 'hadhb', 'gak', 'disp2', 'c6orf62', 'smim22', 'usp44', 'oip5', 'ddx6', 'rab8b', 'pimreg', 'dock5', 'higd2a', 'atp9b', 'acvr2b', 'ctns', 'polr3h', 'b3galt1', 'rab5c', 'tex13a', 'sugt1', 'ccdc188', 'angptl8', 'or52a5', 'ilf3', 'vma21', 'adprhl1', 'haspin', 'tspan33', 'znf704', 'ascc1', 'pramef14', 'sipa1l2', 'drd1', 'poln', 'gorasp1', 'tbc1d20', 'tcf15', 'adamtsl4', 'ankhd1', 'tmem102', 'wnt8a', 'prkcq', 'aox1', 'tuba3d', 'orc2', 'slc47a2', 'ca8', 'mtfr1l', 'fundc1', 'alad', 'spata33', 'xylb', 'dppa4', 'fmo3', 'rbm47', 'atp2c1', 'or5m8', 'mfsd12', 'sod1', 'ndfip1', 'faxc', 'ttn', 'ahr', 'cryl1', 'fam133a', 'zkscan2', 'or2f2', 'nexn', 'ifnar1', 'selenot', 'gas2l1', 'cd4', 'trmt1l', 'gpr25', 'nos2', 'myo3a', 'il6r', 'gabpa', 'pigv', 'pnrc1', 'arhgap29', 'or4c11', 'erfl', 'cdkn2aipnl', 'pou4f2', 'fibcd1', 'pramef10', 'hectd3', 'odam', 'tmem238', 'asrgl1', 'pla2g4c', 'adgra2', 'cdc25c', 'fcrl6', 'mdfic', 'glce', 'nlrx1', 'polr3f', 'birc3', 'cd300c', 'gcna', 'ass1', 'slc22a5', 'chrna3', 'lilra5', 'pm20d2', 'ocrl', 'shmt2', 'shf', 'tmbim1', 'pcdha6', 'wdr87', 'lipa', 'dnaaf3', 'pdgfb', 'rnf149', 'srd5a1', 'usp17l15', 'plscr2', 'ift80', 'ogt', 'dusp2', 'puf60', 'mageb2', 'ptgir', 'zbed8', 'cnih1', 'cenpf', 'zdhhc8', 'znf57', 'morc4', 'ss18', 'mccc2', 'polr3b', 'tpx2', 'ncapd3', 'pvalb', 'crip1', 'gdf11', 'nrp2', 'atf4', 'dbf4', 'card10', 'col14a1', 'ints11', 'pdia6', 'igll1', 'c5orf49', 'gabbr1', 'tyw1', 'kat8', 'rtf1', 'acot7', 'lin28b', 'mt-nd4', 'tbc1d5', 'krtap20-4', 'tatdn2', 'socs2', 'brox', 'c2orf88', 'krtap5-10', 'trim25', 'elac1', 'mastl', 'fbxo30', 'ppp1r3a', 'ttl', 'htra4', 'nmd3', 'klhl15', 'slc2a9', 'fam151a', 'lingo2', 'st18', 'fam240c', 'nfe2l3', 'fbh1', 'pex11a', 'lox', 'dtx3l', 'fry', 'hcls1', 'tmlhe', 'mlxip', 'gabrb2', 'sult2a1', 'ifna7', 'cxcl9', 'rgs19', 'plxnd1', 'col18a1', 'mapk12', 'otor', 'agfg1', 'iws1', 'zbtb2', 'fam47e', 'tmem52', 'ezhip', 'znf333', 'hsd3b7', 'oxsm', 'slc44a5', 'psmd9', 'eef1e1', 'ncam1', 'ap3b1', 'vapb', 'tanc1', 'fxr2', 'sirt7', 'ribc1', 'hykk', 'slc25a24', 'pcdhga12', 'c19orf47', 'ets1', 'adprm', 'c2cd6', 'acaa1', 'lrrc75b', 'hhat', 'mpz', 'neu4', 'nrg1', 'osr2', 'cnpy3', 'dennd3', 'zbtb3', 'rnd3', 'cpsf4l', 'ubac2', 'mthfs', 'alyref', 'leng8', 'fam71c', 'tmem132e', 'aif1', 'clca4', 'cdkn1a', 'fhit', 'galns', 'htr1e', 'sclt1', 'rnpep', 'gipc1', 'khsrp', 'hsd17b2', 'timm44', 'or1i1', 'clasp2', 'mettl15', 'miox', 'dntt', 'vsx1', 'dcaf5', 'fcgr1b', 'scamp5', 'ankub1', 'dgkq', 'fam98a', 'tbpl1', 'tlr10', 'tpk1', 'znf648', 'polb', 'ints12', 'asb6', 'timmdc1', 'ttc30b', 'osbpl8', 'b4galnt2', 'duxb', 'sarnp', 'or1j1', 'riok1', 'pank2', 'tnks', 'adck2', 'psip1', 'caprin1', 'spag16', 'potem', 'inca1', 'arhgap8', 'fzd10', 'gpsm3', 'aldh1l2', 'serpina1', 'entpd3', 'pramef33', 'fmo1', 'abracl', 'cys1', 'pou6f2', 'or4f21', 'ovgp1', 'tarm1', 'znf774', 'alkbh1', 'prss55', 'rragc', 'pdia3', 'tead3', 'or52k2', 'scd5', 'alkal1', 'nup58', 'flnc', 'tor2a', 'mapk10', 'lpar6', 'pdzd9', 'zswim4', 'csmd3', 'borcs5', 'tpst2', 'six3', 'slc9a8', 'c1orf53', 'or52e8', 'tial1', 'cmtm7', 'irf4', 'zfpm2', 'duox2', 'palb2', 'or5h14', 'sik2', 'fmo2', 'sft2d1', 'csnk2a1', 's100a6', 'cdc42se2', 'pigk', 'slc1a4', 'pah', 'nphs1', 'pex26', 'hrh1', 'mllt1', 'asb1', 'zscan32', 'krbox4', 'unc5b', 'aqp8', 'med13l', 'dnajc10', 'izumo1r', 'cep68', 'vamp3', 'mafk', 'or5b3', 'sult1e1', 'mfsd13a', 'resp18', 'malsu1', 'fbxo46', 'rad50', 'calhm2', 'epn2', 'crcp', 'atp2a2', 'oxa1l', 'znf287', 'lrch2', 'c1orf210', 'nceh1', 'lmo7', 'vwa1', 'hnrnph3', 'lrrc28', 'sth', 'hsd17b14', 'hsf2bp', 'cobll1', 'tmigd2', 'cd99', 'mast2', 'prim1', 'zmat5', 'steap4', 'bmp15', 'acy1', 'man1a1', 'nr2e1', 'lrrc3c', 'ung', 'pknox2', 'zyg11b', 'c2cd4a', 'cep290', 'nfrkb', 'aim2', 'abca13', 'slit2', 'klhl30', 'lsg1', 'rnf5', 'rcbtb2', 'cacna1i', 'plg', 'gne', 'gtf2b', 'ankrd7', 'rptn', 'znf479', 'tlr2', 'foxg1', 'htr1d', 'rrp15', 'gje1', 'bccip', 'crim1', 'or6p1', 'acp6', 'insyn1', 'fyco1', 'tm4sf18', 'snap91', 'adgra3', 'hdac2', 'malrd1', 'ankrd11', 'olig2', 'tlx2', 'dennd2c', 'srsf10', 'zdhhc23', 'cd27', 'gpc5', 'il20ra', 'oma1', 'or4e2', 'brsk2', 'fzd5', 'apom', 'eif1ay', 'tm9sf1', 'znf570', 'mfap1', 'srcap', 'slc25a26', 'mt1h', 'irak1', 'chrna5', 'gfra2', 'ccl14', 'ubl4a', 'scn7a', 'brf2', 'mat2b', 'eif4a2', 'plekha1', 'nt5c', 'calm1', 'klhl13', 'ddx19a', 'spx', 'mark1', 'asxl2', 'orc1', 'spanxn2', 'raver1', 'ankrd33', 'myh1', 'armc5', 'stxbp2', 'rbp2', 'tmem65', 'rhog', 'slc30a3', 'esrp1', 'ppp5c', 'pbx2', 'tomm7', 'cdv3', 'znf483', 'or51c1p', 'naa25', 'mettl1', 'krt31', 'dnajc7', 'ttll6', 'or10h1', 'prodh2', 'mmadhc', 'cplx3', 'krtap20-2', 'ubr5', 'c6orf141', 'atg13', 'il18rap', 'npnt', 'cdh22', 'gal3st1', 'taf1', 'lect2', 'prpsap2', 'dleu7', 'stt3b', 'zkscan3', 'th', 'ccna2', 'or1l3', 'abcg2', 'mrm1', 'lce2c', 'rbm41', 'sfrp2', 'st3gal6', 'ppp1r10', 'ssrp1', 'cog6', 'gch1', 'dlgap1', 'akap9', 'sertm1', 'dhrs7b', 'cd2ap', 'nudt18', 'rab3ip', 'ccdc78', 'ankrd13b', 'mfsd6l', 'gxylt2', 'ldhb', 'tshz2', 'phactr1', 'ugt2a2', 'nf2', 'znf223', 'dnal4', 'gbp6', 'klhl6', 'hoxc6', 'fer1l6', 'ebf3', 'znf880', 'tceanc', 'scyl3', 'psmb6', 'wdfy3', 'mal', 'map2', 'lrrc72', 'ube2m', 'uhmk1', 'tnfsf10', 'nsun6', 'thyn1', 'xirp2', 'tmem121', 'lilrb5', 'usp33', 'hs3st4', 'pcp4l1', 'znf277', 'nefh', 'commd2', 'tmem106b', 'spata18', 'farp2', 'arhgef39', 'or3a3', 'wdr91', 'dgki', 'a2ml1', 'slfn5', 'ccdc66', 'cacul1', 'ccdc43', 'gdpd5', 'arl4d', 'sertm2', 'bnip1', 'zscan5a', 'tmem72', 'rpusd2', 'cass4', 'moap1', 'klk5', 'prkci', 'snupn', 'fam174c', 'acvr1b', 'ms4a18', 'wdr74', 'sec22b', 'taf11l14', 'pck2', 'rnf175', 'adra1b', 'arhgef28', 'adam28', 'fam13c', 'c1orf105', 'snai3', 'c14orf180', 'or5k3', 'c1orf174', 'dusp11', 'hps3', 'ppp3cc', 'rubcnl', 'ddrgk1', 'cmtr2', 'tom1l2', 'fbxo21', 'agbl3', 'prss53', 'tmsb10', 'pla2g12a', 'rgsl1', 'gpr61', 'mgam', 'cers4', 'irgm', 'slc9b2', 'cgn', 'man2b2', 'mlec', 'cdh11', 'wdr59', 'kiaa0895l', 'slc26a7', 'elavl4', 'gpx6', 'scaf4', 'serpind1', 'cox7a2l', 'slc50a1', 'ipo9', 'oxsr1', 'gpx3', 'ephb3', 'ssh3', 'rnase1', 'meltf', 'vti1a', 'ptprt', 'cpamd8', 'krt75', 'appbp2', 'polh', 'ttc38', 'cln8', 'appl2', 'polr2d', 'ms4a12', 'elmod2', 'iffo2', 'kif1a', 'or10w1', 'carmil3', 'asgr2', 'c9orf116', 'elac2', 'fastkd3', 'ccdc198', 'vasn', 'shb', 'xrn1', 'snapc3', 'majin', 'tbrg4', 'tulp4', 'ythdf3', 'zdhhc11b', 'tmem120a', 'paics', 'tm7sf2', 'tph2', 'drd3', 'znf80', 'arhgef37', 'wdr62', 'fermt1', 'kcnab1', 'zfhx2', 'lce4a', 'hcfc1r1', 'cep170', 'c11orf53', 'lpcat3', 'acadsb', 'abhd8', 'hpca', 'taf5l', 'skor1', 'pfkfb4', 'ak7', 'plcd4', 'defb113', 'pcdh19', 'defa4', 'c12orf4', 'aldh1l1', 'atp6v1h', 'gzf1', 'klhl8', 'muc6', 'gal3st3', 'cnga3', 'kcnh4', 'pofut1', 'dact3', 'gpr27', 'rhpn1', 'dapp1', 'cpm', 'ncln', 'pde4a', 'hamp', 'gcg', 'svbp', 'retnlb', 'socs1', 'zc2hc1b', 'smarcb1', 'usp16', 'tatdn3', 'prrt1', 'or6b1', 'lrrc70', 'c4b', 'ctsh', 'iqcb1', 'pudp', 'slc12a4', 'mgat4a', 'phkg1', 'ambn', 'leo1', 'ankrd65', 'ddx59', 'sh2d1b', 'fsd1l', 'ppp1r8', 'cbfb', 'neurl1b', 'cbx7', 'eefsec', 'tnfrsf4', 'lrrc61', 'calca', 'npas1', 'taf10', 'chd1', 'deup1', 'plb1', 'cpped1', 'mapk14', 'exoc3l4', 'ypel5', 'sbf1', 'syt3', 'taf12', 'megf10', 'snx30', 'rnf113a', 'cystm1', 'cc2d1a', 'emc2', 'asb3', 'coro2a', 'clec3a', 'slc16a10', 'patl1', 'gpatch8', 'akr7a2', 'atad3c', 'ndufb2', 'or2a4', 'batf', 'c1orf167', 'sesn2', 'phlda3', 'pdk3', 'sall1', 'znf189', 'fech', 'zc3h15', 'abraxas2', 'slfn14', 'derl3', 'creld2', 'erlin1', 'mthfd2', 'npas2', 'trim16', 'aldh3b2', 'dusp22', 'lrrc17', 'slc22a10', 'c11orf24', 'pde7b', 'mageb10', 'ccdc172', 'ms4a4a', 'cyp27b1', 'c15orf39', 'gzmm', 'vwa3b', 'kdelr3', 'rdm1', 'lrrcc1', 'mbd2', 'or2t8', 'iqcf5', 'grin1', 'znf554', 'c10orf90', 'smco4', 'foxd1', 'ggt1', 'cltrn', 'rnase6', 'zc3hav1', 'tesk1', 'hecw2', 'dipk2a', 'atp6v1b1', 'rnd1', 'ccdc85c', 'trappc5', 'pdcd6', 'zbtb5', 'rtn4r', 'cd48', 'tbc1d19', 'llgl1', 'nsmaf', 'dusp12', 'vrk2', 'cfap299', 'gstcd', 'slamf9', 'cpa6', 'clec7a', 'unc80', 'timm9', 'znf567', 'tspan13', 'il10', 'rspo1', 'kcnv1', 'pcbp4', 'poglut3', 'atp1a2', 'gramd2b', 'acvrl1', 'prss45p', 'catsperz', 'sh3bp4', 'kank1', 'c12orf75', 'cd79a', 'krt79', 'iqcg', 'abl1', 'bcl2l1', 'map3k13', 'slc39a13', 'dph6', 'sox5', 'nsg2', 'tm7sf3', 'atp13a3', 'rnf41', 'ints4', 'hcn4', 'dmbx1', 'saa4', 'erbb4', 'ina', 'gmfg', 'crygd', 'polr2g', 'alkbh2', 'tmc5', 'herpud1', 'myh7b', 'alkbh4', 'adgrf5', 'trhr', 'ptchd1', 'sh2d4b', 'clic2', 'c12orf66', 'rabggta', 'gucy1a1', 'cytip', 'rab3gap1', 'prpf4b', 'tnrc18', 'gabpb1', 'pknox1', 'idh3g', 'runx1t1', 'ankh', 'clic5', 'elmo1', 'syt5', 'golga8b', 'snrnp27', 'retreg1', 'dlx4', 'agbl4', 'fbxo7', 'fabp12', 'arsh', 'or2f1', 'psg3', 'cfap46', 'rfc4', 'nuggc', 'ibtk', 'adgrg3', 'apela', 'stox1', 'sbf2', 'or9q2', 'xbp1', 'galnt17', 'tacr3', 'mapk8ip3', 'npy1r', 'snx32', 'sem1', 'mkrn3', 'slc13a3', 'cklf', 'atp6v1e1', 'nampt', 'tmem50a', 'cyp2a7', 'ncoa7', 'cnih4', 'c2orf16', 'coa5', 'best2', 'slc13a4', 'fbxl18', 'agbl1', 'tox3', 'slc6a19', 'dnaja4', 'c17orf67', 'cckar', 'popdc3', 'mgat1', 'hs3st5', 'rad1', 'hnrnpf', 'myo1a', 'ctrc', 'ccdc127', 'tex47', 'efnb2', 'ewsr1', 'pwwp2b', 'znf566', 'dtnb', 'bax', 'ribc2', 'slc6a9', 'tmem9b', 'cnp', 'dhx57', 'ube2e2', 'sp1', 'krt37', 'adam12', 'adam23', 'washc3', 'myom3', 'gpr37', 'arl8a', 'aldh18a1', 'hspbap1', 'asic1', 'colec10', 'sv2a', 'cyp20a1', 'syt16', 'ffar2', 'cpa5', 'lrrc69', 'dsn1', 'scml4', 'apaf1', 'nfkbib', 'pja1', 'meioc', 'exo1', 'or2l2', 'rala', 'zmynd15', 'znf599', 'dcun1d4', 'pcdha12', 'c8orf88', 'nudt14', 'csn3', 'tmem117', 'lypd1', 'opn5', 'sdcbp', 'cyp7b1', 'med27', 'clcnkb', 'or1s2', 'cd101', 'rell1', 'mbnl1', 'fam204a', 'r3hdm2', 'tcl1a', 'brwd1', 'tfeb', 'slco5a1', 'rbms1', 'klk9', 'myoz2', 'fitm1', 'kctd6', 'nubp2', 'rbp3', 'rbm42', 'tti2', 'grin2d', 'or4x1', 'c4orf36', 'c12orf42', 'pbx4', 'slc2a1', 'prdm16', 'or1k1', 'bicdl1', 'arl14epl', 'peg10', 'slc35b2', 'b3galnt2', 'shc3', 'fntb', 'rnf126', 'map3k15', 'aadat', 'vcam1', 'krtap29-1', 'manea', 'rprd1b', 'ccdc142', 'hes4', 'cytl1', 'ly75', 'opn3', 'ube2n', 'lrrc1', 'slc38a8', 'rraga', 'shisal2a', 'zdhhc20', 'hao2', 'scube1', 'afap1l2', 'apobec3c', 'fadd', 'clcn1', 'phb2', 'grid2', 'padi4', 'atp4b', 'baiap2l1', 'clec14a', 'thbs2', 'khdrbs1', 'wnt2', 'spag7', 'lhx6', 'acap3', 'ankmy2', 'nkapl', 'ank3', 'man2a1', 'c1qtnf8', 'st6galnac1', 'ubxn7', 'dcdc2', 'cyb5r3', 'brd1', 'or1l1', 'pcgf5', 'mtx3', 'bco1', 'osbpl1a', 'nedd4', 'kcns1', 'cryba2', 'clec2a', 'fndc7', 'pde3a', 'cpsf3', 'sult2b1', 'dnajc28', 'astn2', 'ccdc22', 'gimap7', 'rab25', 'nubp1', 'gage10', 'ggps1', 'pcdhga6', 'mcemp1', 'col25a1', 'rfpl1', 'acad8', 'idi1', 'slc38a9', 'kctd13', 'smc2', 'gnly', 'dhrs3', 'tex2', 'zcchc9', 'npc1l1', 'creb3l4', 'grin3a', 'lhfpl2', 'scml2', 'or2ag1', 'plet1', 'mroh7', 'ston1', 'spopl', 'htr2a', 'eloa', 'abhd13', 'klhl33', 'lgals3', 'ugt2b4', 'seh1l', 'zwint', 'hoxc5', 'smco3', 'spp1', 'efl1', 'rs1', 'ccnt1', 'defa6', 'large2', 'c20orf96', 'serpinb12', 'cacna1d', 'ppat', 'rufy2', 'n6amt1', 'slc36a1', 'hinfp', 'kank2', 'arel1', 'adam29', 'tnip2', 'gzmk', 'mon1a', 'rnf43', 'ndp', 'akr1b10', 'cndp1', 'erap2', 'nmnat1', 'grik2', 'fgfr4', 'ldlrad3', 'klf10', 'vps37d', 'capn7', 'disc1', 'eif2s1', 'uhrf1bp1', 'znf571', 'mpv17l2', 'ndst2', 'mrm2', 'angptl6', 'tnp2', 'klhl36', 'atg4d', 'zc3h10', 'steap2', 'snx3', 'grm8', 'pecr', 'pole3', 'zc2hc1c', 'fam185a', 'mospd3', 'tnf', 'get3', 'cebpz', 'hsph1', 'wdr53', 'dmrtb1', 'map6d1', 'rrp36', 'znf517', 'or52d1', 'tulp3', 'il21r', 'ptgs2', 'plaur', 'ceacam5', 'bfsp1', 'eif6', 'zbtb8b', 'muc5b', 'eva1c', 'tnfaip3', 'katna1', 'hoxb3', 'smdt1', 'odr4', 'col4a4', 'prkar2a', 'plagl1', 'smkr1', 'gng12', 'epb41l4b', 'tmem132d', 'fam9a', 'clec4e', 'htr3c', 'c4orf48', 'taf4', 'htr3e', 'slc12a7', 'cyp4a11', 'ergic3', 'st8sia4', 'dcp1b', 'kcna4', 'ints6l', 'garem2', 'prtn3', 'or51e1', 'setd3', 'ankrd60', 'rabepk', 'c1orf116', 'tpd52', 'cyp2c18', 'ahsp', 'hspb9', 'ervmer34-1', 'msra', 'fth1', 'faim', 'ppp1r1a', 'cdkn3', 'ap4b1', 'cryba1', 'kif17', 'telo2', 'gnb5', 'uck2', 'fhl2', 'b4galt4', 'pld5', 'skida1', 'e2f3', 'npas4', 'rasa3', 'trpv3', 'hsfx3', 'tafa4', 'sdc4', 'sar1a', 'twnk', 'ctxnd2', 'ascl3', 'acad9', 'slc26a1', 'mmp17', 'tmem31', 'osbpl6', 'ulbp1', 'cd72', 'glis2', 'lrrc75a', 'olfm2', 'helz2', 'rusc1', 'znf577', 'crb2', 'cnr1', 'anks3', 'ubox5', 'vwa8', 'abca3', 'rhobtb3', 'rab40a', 'fcf1', 'pkp4', 'dnttip2', 'hmgn5', 'myrip', 'tyro3', 'mga', 'tmem38a', 'tbc1d25', 'prr18', 'sec61b', 'vamp5', 'dnajb8', 'krt32', 'ncbp2l', 'acsm2a', 'rgs17', 'palm', 'rnf220', 'wfikkn1', 'gckr', 'fam237b', 'gdf3', 'fshr', 'spaca3', 'vn1r4', 'scn5a', 'ovol3', 'polr3e', 'il1rl2', 'scn3a', 'gramd1c', 'c18orf25', 'wnt1', 'mgrn1', 'ica1l', 'krt36', 'eef1aknmt', 'anxa6', 'bmt2', 'nrg3', 'cab39l', 'rp9', 'msl1', 'shox2', 'plekhg4b', 'tnnc2', 'rchy1', 'ube2e3', 'zbtb48', 'fezf2', 'c5orf34', 'obp2b', 'thnsl2', 'eaf1', 'nuak1', 'cox16', 'coprs', 'iqcf1', 'enho', 'defb129', 'csf2rb', 'psat1', 'znf136', 'rpgrip1l', 'ccl4l2', 'slc25a10', 'zranb2', 'znf705a', 'lrrc4b', 'hnrnpul2', 'ccdc126', 'cep95', 'cacna1f', 'sil1', 'pf4', 'ccn3', 'znf347', 'mpzl2', 'btn3a2', 'rras', 'mettl8', 'dhx9', 'trpm3', 'vwf', 'igf1', 'hspb3', 'znf497', 'lexm', 'tmem87a', 'sf3b6', 'paf1', 'serpinb13', 'rgs3', 'trim34', 'map3k21', 'neurog2', 'f2rl2', 'npat', 'cpd', 'msantd2', 'kif18b', 'nup62cl', 'or13a1', 'ppp2r5c', 'rsbn1l', 'parva', 'sf3b3', 'arhgef16', 'rnase10', 'nfyb', 'midn', 'acbd4', 'rptor', 'rabl6', 'yy1ap1', 'adh6', 'dmrt1', 'slc39a11', 'cdh4', 'nid2', 'dusp6', 'khdc1', 'txndc16', 'mog', 'ankrd40cl', 'znf470', 'wdr70', 'tcte1', 'tm4sf20', 'smim32', 'cdca5', 'ramac', 'or7a17', 'enc1', 'tbcc', 'abhd16b', 'osgepl1', 'fermt3', 'wnt4', 'hdac6', 'zscan26', 'cercam', 'fra10ac1', 'orai1', 'pou3f3', 'amy2a', 'eif2ak3', 'znf569', 'iba57', 'rpe', 'pf4v1', 'kantr', 'rbmxl3', 'nsf', 'tmem150a', 'atl3', 'golga7', 'map3k8', 'ifitm3', 'pcdh12', 'khdc3l', 'clec19a', 'marcol', 'ppme1', 'cebpe', 'prg2', 'atp1b4', 'cela1', 'cyp1b1', 'pi4k2a', 'nfia', 'nmnat2', 'negr1', 'znf563', 'golga5', 'inhbb', 'ccnl2', 'smpd4', 'veph1', 'eif3h', 'hspa12a', 'tsr3', 'ift20', 'mt-co3', 'crebl2', 'c19orf25', 'stambp', 'slirp', 'kif15', 'hsd17b11', 'dhx30', 'cdrt1', 'eif2b5', 'anapc4', 'or2b2', 'mbtps1', 'trim47', 'cgref1', 'lonp2', 'znf675', 'ripply3', 'znf345', 'mif4gd', 'fabp1', 'ccdc92', 'iqcd', 'spint3', 'gpr141', 'trpv4', 'myo16', 'mcf2l', 'zcchc3', 'pheta2', 'itpr2', 'bop1', 'unc79', 'emc1', 'intu', 'efr3b', 'klk4', 'c19orf38', 'paip1', 'pex6', 'arhgap39', 'zscan12', 'entpd7', 'nptxr', 'dok6', 'zbp1', 'agpat3', 'd2hgdh', 'adrm1', 'rnaset2', 'gpr68', 'tcp1', 'med7', 'polr2h', 'cdh23', 'cfdp1', 'gstm1', 'tmx4', 'rif1', 'pitpnm3', 'or8u1', 'tgfb1', 'apcdd1l', 'hdac8', 'adarb1', 'cd14', 'krtap6-3', 'cfhr5', 'arfrp1', 'fbxo43', 'smad3', 'ctsz', 'cacnb2', 'bcap31', 'rasa4b', 'gphn', 'cd80', 'anapc1', 'slc4a3', 'styxl1', 'znf728', 'znf613', 'tcp11', 'cmklr1', 'mrgbp', 'tmcc2', 'or13c2', 'tub', 'dennd5a', 'erp27', 'gpc6', 'dcdc2b', 'prr22', 'il17rc', 'slc27a6', 'wdr35', 'thbs3', 'prim2', 'ccl3l1', 'tsc1', 'magix', 'tmpo', 'ttll9', 'selenon', 'rgmb', 'mmgt1', 'smim13', 'b4galt3', 'ccdc154', 'srrm5', 'nme8', 'gpr88', 'cx3cl1', 'u2surp', 'smg5', 'lpp', 'znf680', 'fam184a', 'lyn', 'shbg', 'or52b4', 'ttr', 'grp', 'pygo1', 'stx16', 'desi2', 'icos', 'cidec', 'tenm3', 'mki67', 'pex10', 'rnf151', 'omp', 'polr3g', 'tmem260', 'kcnab2', 'dpep3', 'serinc1', 'nuf2', 'frk', 'tmem248', 'ddx58', 'ttbk1', 'traf1', 'acer3', 'lemd1', 'notum', 'gsg1', 'fam229b', 'ly9', 'angel1', 'myo18a', 'ccdc112', 'c22orf23', 'col27a1', 'nr1h2', 'ier5', 'mfsd8', 'commd3', 'skap1', 'slc25a27', 'chmp3', 'tctn2', 'dcx', 'donson', 'vgll4', 'ceacam19', 'setd5', 'gadd45gip1', 'kmo', 'ttf1', 'rint1', 'nap1l2', 'rfpl4b', 'fip1l1', 'il15', 'prss35', 'paqr7', 'tmprss7', 'grem1', 'tbl2', 'adad2', 'kbtbd7', 'gmip', 'cavin4', 'ep400', 'siglecl1', 'picalm', 'lmo4', 'leprotl1', 'habp4', 'pla2g4f', 'nlrp5', 'znrf2', 'zfp82', 'asb14', 'mrc2', 'htr7', 'c11orf42', 'rsph6a', 'fam131a', 'terf1', 'rims4', 'rab34', 'cdc42ep1', 'pepd', 'tmem231', 'sytl1', 'caln1', 'kiaa0753', 'mapkapk3', 'sars2', 'bspry', 'riok2', 'iqcm', 'kcnq5', 'fgf8', 'ftcdnl1', 'b3gntl1', 'pign', 'jaml', 'or4b1', 'slc34a1', 'synpr', 'tatdn1', 'sp140', 'tinagl1', 'lrrc56', 'ppp1r16a', 'smc4', 'txnl4a', 'sh2d5', 'elavl2', 'itgb6', 'ccer2', 'fam110c', 'clec9a', 'arsj', 'myh15', 'ift140', 'myadml2', 'sort1', 'prelid3a', 'il22', 'dcbld1', 'errfi1', 'siglec15', 'fis1', 'syt11', 'hspb2', 'tubb2b', 'irs4', 'them4', 'or5m10', 'syn1', 'themis2', 'zfp1', 'abcc4', 'mmp7', 'lemd2', 'dync2li1', 'mcl1', 'znf473', 'tbc1d14', 'usp17l3', 'nfatc1', 'aldh6a1', 'tfap4', 'znf786', 'magec2', 'tenm2', 'cnnm2', 'lct', 'cyp4v2', 'med19', 'klk14', 'sall4', 'bpifb1', 'rbbp5', 'vwa2', 'psmd11', 'plscr4', 'pla2g5', 'stac3', 'ap1s1', 'adra2c', 'c3ar1', 'capn14', 'iqca1', 'gsdma', 'iqsec2', 'nab1', 'pcbd2', 'crym', 'kbtbd12', 'tpst1', 'znf239', 'sh3rf3', 'sel1l3', 'or1n1', 'daw1', 'il17rd', 'hadh', 'pgm2', 'wfdc13', 'arhgap25', 'map2k5', 'fzr1', 'cntnap3', 'or6v1', 'ddx3x', 'stk39', 'tex12', 'ndel1', 'emb', 'insyn2b', 'neurl4', 'mucl1', 'arf4', 'nostrin', 'dusp23', 'noc2l', 'zbtb22', 'znf875', 'tpp1', 'inpp5k', 'tbc1d10c', 'stk19', 'ccnj', 'phf11', 'mtf2', 'znf354b', 'tmem207', 'cyp4b1', 'plekhm2', 'neil1', 'iqgap2', 'mamdc2', 'sufu', 'ccdc38', 'selenbp1', 'lce2d', 'il1rn', 'slc35a1', 'rbm20', 'elof1', 'lrp3', 'abcg4', 'cdan1', 'adipor2', 'kif18a', 'rbm48', 'cgrrf1', 'gins2', 'fmc1', 'nebl', 'lmx1a', 'chchd5', 'nmur1', 'slc17a4', 'apcs', 'bmper', 'vim', 'tas2r1', 'cdhr5', 'pramef12', 'trpc7', 'atp2a1', 'tagln2', 'znf541', 'insm2', 'dbx2', 'slc34a2', 'ppp3r2', 'pdrg1', 'oxct1', 'grip1', 'ppp4r2', 'hoxd13', 'foxi1', 'tomm5', 'mtpap', 'gda', 'shisa8', 'mbl2', 'rbm34', 'hmx3', 'cds1', 'uqcc3', 'cela3b', 'tsen2', 'c8orf89', 'mbp', 'lrrc8d', 'med16', 'mt3', 'tnni3', 'foxa2', 'litaf', 'kdm1a', 'crem', 'cited1', 'amph', 'inhbc', 'dsg3', 'sbno2', 'zscan16', 'muc16', 'rtp5', 'tcfl5', 'gfy', 'apex2', 'eapp', 'zdhhc12', 'or1d2', 'dgcr2', 'nhej1', 'smco2', 'tpte2', 'smchd1', 'dnmt3b', 'or5d16', 'mtcl1', 'pla2g2c', 'lgals13', 'phkg2', 'elavl3', 'acta2', 'gfi1', 'rrp9', 'rbl2', 'prpf38a', 'sh2d2a', 'adi1', 'hdgfl1', 'ankrd66', 'acp2', 'rsu1', 'il11', 'tnfaip6', 'irf2bp2', 'synj2bp', 'fam71a', 'tppp2', 'arhgap45', 'hsd17b12', 'gps1', 'cyp46a1', 'slc9a1', 'tectb', 'tbc1d9', 'psen1', 'rpn2', 'slc45a3', 'cldn15', 'arl5c', 'ano1', 'calml4', 'stap2', 'pmm1', 'slc7a6', 'dpp10', 'mocs2', 'c20orf202', 'eif2ak2', 'psg2', 'slc10a2', 'srebf2', 'srpk2', 'skap2', 'bcl10', 'mrgprx2', 'ap4m1', 'arhgef11', 'nktr', 'sh2d7', 'clcc1', 'c3orf38', 'adamts9', 'dbt', 'arpp21', 'cwc27', 'lama3', 'c18orf21', 'rax', 'chchd1', 'mmrn1', 'arf6', 'tmem132b', 'st6galnac5', 'asb15', 'spdyc', 'znf441', 'cldn22', 'erich6', 'rictor', 'caly', 'znf439', 'ism1', 'cnot4', 'b3galt5', 'ccdc180', 'abhd2', 'retreg3', 'mdga1', 'mtr', 'rbm27', 'pigt', 'acap2', 'znf672', 'or5t3', 'pck1', 'meis2', 'rabep1', 'tmem184b', 'arnt', 'zcwpw2', 'slc4a11', 'mrtfa', 'znf211', 'psmb3', 'c4orf3', 'atxn7l3b', 'tnfsf13', 'fastkd5', 'cldn3', 'abhd10', 'mtmr9', 'manf', 'cd3e', 'bbs4', 'dmap1', 'srp9', 'alx3', 'rtp4', 'pcdhgb7', 'dtnbp1', 'col28a1', 'rcor1', 'dhx35', 'pbx3', 'tigit', 'grin2b', 'dld', 'efcab8', 'stk33', 'txndc12', 'zmym1', 'mtap', 'ugt2b11', 'cep72', 'nrgn', 'dgke', 'otop2', 'taar9', 'pla2g3', 'ccdc62', 'ehhadh', 'pdcd4', 'bivm', 'atoh1', 'c21orf58', 'ppdpf', 'muc17', 'sprr4', 'serpinb6', 'cog8', 'pnma8a', 'tsn', 'ncr2', 'thrsp', 'taf11l11', 'efnb3', 'krtap1-3', 'tmem42', 'usp37', 'eno1', 'nbpf20', 'uroc1', 'tgm1', 'idnk', 'pam16', 'foxp3', 'znf654', 'dis3l', 'lsm4', 'mphosph6', 'sntg1', 'stpg1', 'dync1li1', 'bet1l', 'krtap13-2', 'c2cd5', 'arhgap11a', 'olfml3', 'calb1', 'map4', 'prr32', 'sftpa1', 'slco1c1', 'fgf14', 's100a7a', 'eva1b', 'dhx36', 'slco4c1', 'bcat2', 'sigirr', 'fmnl2', 'ppan', 'gstt2b', 'ift46', 'slc30a1', 'sgcd', 'slc17a3', 'znf527', 'tox', 'c16orf90', 'pdia2', 'prkdc', 'pccb', 'cited2', 'rida', 'prelp', 'kcnj1', 'etaa1', 'atxn1l', 'odc1', 'vps16', 'lkaaear1', 'or10k2', 'pomt2', 'mt1a', 'tepp', 'entpd6', 'triobp', 'tnfaip8', 'rfx7', 'nfatc3', 'cdc27', 'vstm2b', 'acp4', 'tmem95', 'gimap5', 'hoxa2', 'cask', 'pasd1', 'slc25a44', 'thsd8', 'c1ql2', 'snapc5', 'gsta4', 'haus5', 'fsd2', 'gabarap', 'atp6v0a2', 'pkd2l2', 'rapgef4', 'atat1', 'pgpep1l', 'ric8b', 'kifc3', 'phf14', 'nsa2', 'nudt21', 'aldh1b1', 'or56b4', 'atl2', 'aadacl2', 'pappa', 'fam210a', 'ccdc130', 'gramd4', 'cgnl1', 'fitm2', 'rnf24', 'alg6', 'eno2', 'tspan7', 'kcnj14', 'heca', 'stxbp4', 'dipk2b', 'ptrhd1', 'pura', 'zc3h12c', 'rnf115', 'cdrt15l2', 'herpud2', 'cnot11', 'fkbp11', 'meis1', 'ech1', 'lancl1', 'tmem167a', 'eci1', 'impg1', 'c1qa', 'stx2', 'spanxn4', 'armcx3', 'kcnj3', 'igdcc4', 'znf543', 'lrrk2', 'slc25a42', 'spink7', 'kdm7a', 'has1', 'rab21', 'or8h1', 'pafah1b2', 'isg15', 'spata19', 'tas2r4', 'c5', 'emilin3', 'csrp1', 'l2hgdh', 'slc30a9', 'defb110', 'dus1l', 'cyp4f11', 'hsfx4', 'rara', 'pi15', 'znf619', 'idi2', 'armc9', 'egfl7', 'hbb', 'pus3', 'ccrl2', 'sptbn4', 'znf740', 'znf350', 'c1orf94', 'higd1b', 'c17orf58', 'cacna1s', 'hdac9', 'bicc1', 'gprc5d', 'rtn4ip1', 'trub2', 'cdh26', 'il16', 'arhgap26', 'slc35a5', 'stmn3', 'umad1', 'gdf5', 'chst3', 'hnf1b', 'slc46a3', 'wdhd1', 'ndufa8', 'asb8', 'uba1', 'poldip2', 'exosc4', 'art5', 'vcx2', 'ninl', 'acp1', 'flot1', 'mmp25', 'vstm2a', 'ca11', 'ddx3y', 'neurl3', 'fam180a', 'prdm9', 'rpap2', 'or1c1', 'bcl2l2', 'pkn1', 'ptpn11', 'c2orf50', 'snx21', 'tex46', 'sncg', 'cdk18', 'defb114', 'secisbp2l', 'oprk1', 'znf280b', 'ppp1r12b', 'cdc5l', 'musk', 'alg12', 'dgkh', 'duoxa1', 'ubald2', 'qser1', 'samd3', 'cry1', 'ccdc97', 'or2m2', 'pdlim7', 'luc7l', 'c1qb', 'gm2a', 'arrdc1', 'mep1b', 'zc3h14', 'hnrnph2', 'sec14l1', 'pcdhb12', 'etnk2', 'yju2', 'daam2', 'cox8a', 'acadm', 'pi4k2b', 'tmem11', 'cngb3', 'snrpd2', 'herc3', 'apoe', 'desi1', 'pdia4', 'akap1', 'gjb4', 'c11orf94', 'golga3', 'sh3tc1', 'slc35f3', 'xirp1', 'elfn1', 'loxl4', 'coro1c', 'casp2', 'fancd2', 'znf14', 'gk3p', 'pced1b', 'trpc1', 'stard6', 'g0s2', 'semg1', 'cul7', 'plekha8', 'mrrf', 'nudt16l1', 'dpy19l1', 'mcm8', 'gnl3l', 'ints14', 'mettl21a', 'pou2f3', 'adnp2', 'pctp', 'pigl', 'katnal2', 'igfbp6', 'tnrc6a', 'tmx1', 'htatsf1', 'ugt2a1', 'znf316', 'bpifc', 'acox1', 'evi5l', 'fgf2', 'krtap9-6', 'hoxd12', 'sco1', 'nkiras2', 'tcta', 'c6orf15', 'gpr137c', 'ifngr2', 'lrrc74b', 'mxd4', 'zfp57', 'nanogp8', 'znf544', 'ifit5', 'chtf8', 'chrna2', 'pnpla6', 'agap1', 'septin10', 'ssu72p8', 's1pr5', 'zim2', 'mlkl', 'adamts10', 'kcnk1', 'slc38a2', 'rad51ap1', 'itga1', 'st3gal1', 'foxq1', 'camta2', 'relch', 'nr5a1', 'znf839', 'klhl25', 'c3orf62', 'rab44', 'inava', 'bcdin3d', 'zar1l', 'tsen34', 'pbdc1', 'taf1c', 'lrrc26', 'sez6l2', 'hfm1', 'rassf7', 'tuba1c', 'muc1', 'trim41', 'taf1l', 'vps72', 'micall1', 'capns1', 'nsd3', 'etnk1', 'ccl1', 'mad1l1', 'rnft1', 'pyroxd1', 'sco2', 'exoc1l', 'rbm10', 'cggbp1', 'lhx8', 'thegl', 'slc26a2', 'galnt2', 'slitrk6', 'fam155a', 'wnt16', 'mkx', 'pramef1', 'klhdc4', 'palm3', 'ppp1r1b', 'dnpep', 'apex1', 'haus3', 'flg2', 'arap3', 'kcnh2', 'plag1', 'b3gnt2', 'sertad1', 'myc', 'sag', 'slc25a39', 'kdr', 'calhm3', 'bicd2', 'il20', 'lsm8', 'slc30a5', 'mettl14', 'cryab', 'cfap97d2', 'pgs1', 'klc3', 'pard6b', 'defb136', 'itih3', 'sos2', 'rbmx2', 'bik', 'rassf6', 'znf343', 'qrfpr', 'ltc4s', 'lrch3', 'stk11ip', 'odf4', 'mindy2', 'rtn2', 'rhoc', 'or10p1', 'pdcl', 'znf436', 'shld3', 'ss18l2', 'c6orf118', 'trim68', 'krtap19-1', 'cnpy2', 'paxx', 'rbm3', 'nsmce4a', 'pigo', 'ceacam6', 'rgl1', 'dcdc1', 's100g', 'mas1l', 'elk1', 'msln', 'sdr9c7', 'tfdp2', 'smap1', 'gpr173', 'derpc', 'arhgap20', 'znf474', 'rock1', 'arhgap40', 'wwc3', 'morn5', 'pnliprp1', 'tmem178b', 'dmac2l', 'acp5', 'reln', 'lrrn4cl', 'popdc2', 'ifna4', 'gas2l3', 'ctla4', 'crygs', 'khdrbs3', 'ssx5', 'itgbl1', 'spata6l', 'ilrun', 'serpini1', 'gpnmb', 'prrt4', 'rfx1', 'ift22', 'hsf1', 'syt10', 'lmbr1l', 'cd1c', 'atp6v0e2', 'rnf207', 'sorcs3', 'ntsr1', 'setd4', 'c1galt1c1', 'sema4g', 'rexo5', 'hcn3', 'thra', 'myh2', 'prap1', 'ppil1', 'ppp1r1c', 'kctd12', 'tmprss15', 'tnnt1', 'slc19a3', 'mib1', 'htr2b', 'kctd2', 'arv1', 'mcmdc2', 'znf25', 'gprc5c', 'cst5', 'ehmt2', 's100z', 'cast', 'dipk1a', 'trmt61a', 'adh1c', 'lyar', 'acyp1', 'tomm40', 'tmem210', 'ppm1n', 'fam177a1', 'tprx1', 'cox4i1', 'prrx1', 'celf5', 'cyp26a1', 'agmat', 'yeats4', 'tmem107', 'pheta1', 'znf594', 'b4galt2', 'angpt1', 'ttc5', 'mta3', 'ngdn', 'arl8b', 'ccl28', 'cdh16', 'fam81a', 'scand1', 'hapln4', 'nup98', 'lypd8', 'ccdc177', 'lce1a', 'cps1', 'mff', 'ccl20', 'adgrb1', 'rtn1', 'or2aj1', 'mbnl3', 'tnrc6b', 'shmt1', 'poglut2', 'dpep2', 'psmc4', 'zan', 'rab6a', 'elavl1', 'unc45a', 'khdc4', 'hipk3', 'mier2', 's100a5', 'pcyox1', 'gcsam', 'hyal1', 'stk38', 'purb', 'brms1l', 'jak2', 'map4k5', 'tmem14c', 'hsd11b2', 'fcrl4', 'klhl2', 'mgarp', 'fam189a1', 'dnajb1', 'mx1', 'pyroxd2', 'thap10', 'phf13', 'tgoln2', 'p2ry13', 'tecpr1', 'cenpv', 'tecr', 'psg4', 'agrn', 'shank3', 'ano6', 'thap1', 'txndc8', 'abcg1', 'cadps', 'stx3', 'tlcd3b', 'arhgap22', 'agbl2', 'camk2n2', 'sftpb', 'espnl', 'cer1', 'epha1', 'sec31b', 'cd7', 'supt6h', 'psmb7', 'pla2r1', 'spop', 'zeb2', 'orm2', 'tex55', 'mettl9', 'dnph1', 'csgalnact1', 'mgat4d', 'pmf1', 'phtf1', 'ngb', 'msantd1', 'tox2', 'prr5l', 'nicn1', 'glra1', 'slc45a1', 'bok', 'tyw1b', 'npm3', 'isl1', 'dhx32', 'ackr3', 'sox3', 'st3gal4', 'acot4', 'ankef1', 'gpr45', 'hspa1a', 'aco1', 'prg3', 'lrrc24', 'tec', 'nol4l', 'dbh', 'hmg20a', 'flcn', 'peak3', 'pld6', 'lce3a', 'atp6v1a', 'gng14', 'cyth4', 'gnb3', 'nrm', 'sms', 'tmeff2', 'reck', 'krtap4-12', 'znf121', 'prkra', 'txk', 'syne1', 'nob1', 'bet1', 'os9', 'prr23a', 'rbm46', 'slc10a4', 'psmd7', 'gtpbp1', 'naa10', 'capn8', 'ifi27l2', 'c7orf26', 'gjb1', 'yap1', 'crk', 'zmpste24', 'hmcn1', 'dnajc27', 'tmem254', 'prickle2', 'tagln3', 'rax2', 'srsf11', 'clec20a', 'cybrd1', 'astl', 'fancl', 'il10ra', 'yme1l1', 'pdha1', 'ipo11', 'prss58', 'slc2a11', 'kiaa1191', 'glt8d1', 'kdelr1', 'jmjd4', 'gpr87', 'whamm', 'ndufb5', 'senp2', 'sema3b', 'bdh2', 'aoc3', 'erg', 'prr16', 'inpp5f', 'rac1', 'gys1', 'abcb8', 'trim33', 'krtap10-11', 'cerkl', 'topbp1', 'pacrgl', 'c17orf49', 'copz2', 'btbd3', 'tigd4', 'kdm2a', 'smad4', 'adgre2', 'f7', 'il17c', 'phyhip', 'tomm34', 'rad18', 'smarca1', 'kcnh1', 'kncn', 'lfng', 'pigx', 'tspan12', 'hsp90b1', 'osbpl11', 'trhde', 'ldhd', 'card6', 'kif4a', 'babam2', 'enox1', 'ptpn6', 'znf775', 'ccl8', 'virma', 'slc43a2', 'ankrd18a', 'atp10b', 'slc10a7', 'tafa1', 'ezr', 'srsf7', 'ms4a13', 'arf3', 'phex', 'dennd4c', 'mppe1', 'slc35e4', 'smr3b', 'or51g1', 'stk17b', 'dmxl2', 'rnf139', 's100p', 'srp68', 'c3orf20', 'nkx2-1', 'mcm4', 'urm1', 'or52m1', 'nme2', 'tmem229b', 'nol12', 'trim40', 'hoxd3', 'prok2', 'sema6a', 'haus6', 'hoxd4', 'tmc4', 'patz1', 'znf69', 'gabrd', 'maob', 'znf583', 'c15orf62', 'slc25a16', 'alox15', 'ctsb', 'med22', 'lss', 'msr1', 'stub1', 'c1orf216', 'or51d1', 'lcp1', 'eno3', 'ipcef1', 'nefm', 'il18bp', 'osbp2', 'ptpdc1', 'pak4', 'cd1a', 'cfap298', 'foxi2', 'spaca7', 'hsd3b2', 'hcst', 'sema3a', 'cyp51a1', 'trpv2', 'page3', 'serf2', 'gramd1b', 'mterf3', 'aasdh', 'lrrc37a2', 'znf268', 'dip2a', 'brpf1', 'utp15', 'mertk', 'mcm7', 'rmc1', 'sult1a1', 'srbd1', 'hint2', 'cd53', 'c7orf25', 'clec4c', 'sdk2', 'klhl9', 'tmem101', 'myo5a', 'med29', 'htr1f', 'scpep1', 'ppp1r27', 'pyy', 'atn1', 'sap30l', 'kcnc2', 'smarcd3', 'agr2', 'rubcn', 'ppt2', 'fam193b', 'phyh', 'tdrd12', 'qdpr', 'nr2f2', 'pdc', 'adgrl3', 'mrgprx4', 'znf738', 'cdkn1b', 'or5f1', 'fkbp1c', 'mcee', 'tut1', 'efcab10', 'dhfr2', 'agtrap', 'prdm5', 'elane', 'efcab9', 'asah1', 'dcaf10', 'cpsf6', 'ddx11', 'nrtn', 'plcd1', 'sstr3', 'dcaf4l1', 'clip2', 'ephb2', 'piga', 'pcf11', 'tyr', 'c7orf31', 'man2a2', 'card14', 'lgals16', 'pask', 'frmpd2', 'mios', 'frmd6', 'slc17a7', 'kcne5', 'triml2', 'glipr1l1', 'nr3c2', 'supt4h1', 'stpg3', 'osgin1', 'gde1', 'c9orf40', 'recql4', 'thnsl1', 'ndufs1', 'pus7l', 'pnma2', 'btn2a2', 'spty2d1', 'trim7', 'pop1', 'cfi', 'mmp11', 'galnt5', 'lmln2', 'nt5c1b', 'tex44', 'hp1bp3', 'fancc', 'krt6c', 'pik3cd', 'kcnn1', 'fbln1', 'or8h2', 'slc28a2', 'hnrnpc', 'or2h2', 'abi3', 'ehmt1', 'tmem35b', 'cul3', 'mtus2', 'flt3lg', 'spin4', 'ttc8', 'dyrk3', 'ndufv2', 'jazf1', 'ldhal6b', 'cactin', 'wbp2nl', 'znf76', 'syk', 'gpatch11', 'cyp2a13', 'top2b', 'rab18', 'tacc2', 'ints13', 'gfod2', 'asxl3', 'cenpi', 'gdf6', 'adam32', 'recql5', 'wfdc9', 'anxa8', 'mmab', 'spata4', 'defb135', 'ppp2r3c', 'rcc1l', 'krtap4-2', 'serpinh1', 'gtpbp3', 'pigp', 'ppp6r2', 'ccdc182', 'ncaph2', 'tpmt', 'ifi16', 'ddx4', 'fcsk', 'dedd', 'c2cd4d', 'vnn1', 'tbc1d9b', 'tfb2m', 'exosc6', 'rabif', 'kyat3', 'znf264', 'adam2', 'nploc4', 'catsperb', 'rnps1', 'klhl42', 'smc1a', 'plk3', 'wdfy4', 'dexi', 'or6c3', 'zg16b', 'ppp2r5e', 'trim22', 'actbl2', 'itgb1', 'ago1', 'polr1d', 'atp11c', 'dync1li2', 'or4d11', 'col4a1', 'sytl3', 'dhdds', 'tuba1b', 'pip4k2a', 'mylk4', 'ctnna1', 'trim6', 'anapc11', 'hira', 'ccdc71', 'rilpl1', 'vps28', 'morn4', 'grik4', 'llgl2', 'parp16', 'mis18a', 'prickle3', 'fam3c', 'ftcd', 'pebp1', 'tex54', 'mlana', 'mageb1', 'wnt2b', 'chrm1', 'slitrk4', 'ifih1', 'gripap1', 'npffr2', 'ankmy1', 'hook3', 'hmx2', 'abhd18', 'or9g1', 'mtus1', 'bag5', 'prrt2', 'ap1b1', 'bod1l1', 'pde4d', 'kif3c', 'kctd5', 'kdm4e', 'kdm4f', 'htr3a', 'wnt10b', 'ivns1abp', 'myocos', 'prpf4', 'ciita', 'lpgat1', 'csnk1e', 'pcbp3', 'chd9', 'rhcg', 'pacc1', 'dnajc22', 'cipc', 'mro', 'pygb', 'them5', 'dazl', 'foxf2', 'chst7', 'rbm23', 'apbb2', 'kifc1', 'znf813', 'ssh2', 'ocel1', 'clec2d', 'adamts18', 'hspe1', 'krt17', 'hsd11b1', 'mgat5b', 'znf346', 'apoa5', 'tmx3', 'ankrd9', 'ccdc197', 'f5', 'gtf2ird1', 'rxfp4', 'sowaha', 'gapvd1', 'slc35b1', 'znf175', 'ifitm1', 'cit', 'rnf166', 'parg', 'ttc23', 'il1rapl2', 'prmt3', 'nt5dc3', 'znf408', 'frmd4a', 'radx', 'rdh12', 'ablim2', 'cacng1', 'tex13c', 'ndufaf7', 'pigm', 'coa3', 'n4bp1', 'kif5a', 'ntsr2', 'map3k6', 'rdh14', 'ttc33', 'myog', 'epha5', 'fabp7', 'npy', 'znf367', 'cd180', 'znf532', 'wdpcp', 'serpini2', 'pfkfb2', 'muc7', 'il9', 'lin7c', 'siah3', 'shisa9', 'siglec6', 'pde6b', 'atg5', 'atp6v1fnb', 'panx3', 'mogat3', 'pgd', 'arl6ip1', 'tceal7', 'or5b17', 'ndufa9', 'or8g1', 'git1', 'aldh16a1', 'slc25a5', 'tm9sf2', 'tmem222', 'tmco2', 'actr8', 'snx15', 'kdm5b', 'nle1', 'cert1', 'lmx1b', 'crocc2', 'washc4', 'ccdc12', 'dnmt1', 'yipf7', 'ppp1r14a', 'atp1b1', 'dnajc5', 'pgap2', 'auh', 'tspan8', 'eef2', 'spsb4', 'nbdy', 'c1orf35', 'snrpd3', 'slc7a6os', 'dhx29', 'dcd', 'abca6', 'praf2', 'mbd1', 'znf790', 'cdc42ep3', 'igfbp2', 'rfpl2', 'setmar', 'myo15b', 'gtf2f2', 'slain2', 'reps2', 'ltbp3', 'zar1', 'slc12a5', 'nkain3', 'or8h3', 'ap3b2', 'nbea', 'dsc3', 'cd207', 'alg9', 'siglec14', 'mlip', 'znf99', 'pml', 'acot12', 'pon2', 'alox15b', 'idh1', 'c16orf89', 'aak1', 'canx', 'gpr19', 'kcnk16', 'zfp2', 'cux2', 'gml', 'kctd14', 'usp2', 'bpgm', 'trir', 'ankrd13c', 'msmb', 'klf16', 'nox1', 'pgls', 'slc25a14', 'luc7l2', 'cfap161', 'znf77', 'tmprss5', 'arfgef2', 'zacn', 'magec1', 'amely', 'aipl1', 'znf780b', 'fosb', 'wdr37', 'spem2', 'endog', 'srrd', 'necap2', 'dnmt3l', 'chtop', 'mlh1', 'edrf1', 'nms', 'col9a3', 'gp1bb', 'exoc2', 'hlcs', 'tstd1', 'hltf', 'atp6v1c1', 'coq4', 'trmt11', 'wdr38', 'cfap58', 'ccdc196', 'slbp', 'znfx1', 'ap1ar', 'acy3', 'parp2', 'unc13d', 'klk11', 'hey2', 'ugt1a3', 'gins4', 'tmtc2', 'pdzd8', 'ppm1g', 'btbd2', 'zp4', 'cldn10', 'cxcr2', 'c3orf33', 'adam18', 'areg', 'troap', 'pcdhb2', 'col6a3', 'aimp1', 'hus1b', 'cdh1', 'fgf16', 'immp1l', 'krtap10-2', 'strip1', 'mucl3', 'mettl11b', 'glyctk', 'tlr5', 'klb', 'or5a1', 'plscr5', 'adamtsl2', 'plekhf1', 'kpna1', 'mixl1', 'ncbp2', 'arhgap21', 'harbi1', 'glyatl1b', 'fes', 'rnf13', 'jpt2', 'sntb2', 'sidt1', 'hpdl', 'jrk', 'psmg3', 'ccdc40', 'dmac2', 'usp1', 'fam83e', 'bcas4', 'eif3d', 'ccng2', 'arl5b', 'cd163', 'mpp3', 'zfr2', 'ralgds', 'znf157', 'rgp1', 'mid1ip1', 'clec2b', 'ankrd62', 'gtpbp8', 'setdb1', 'trerf1', 'gjd2', 'ncan', 'fkbp7', 'dcaf13', 'pramef4', 'degs2', 'pcif1', 'mdfi', 'st14', 'pik3c2b', 'spink1', 'max', 'atp5mgl', 'hax1', 'rhoa', 'grm5', 'ip6k2', 'syt4', 'macc1', 'lpo', 'fpr2', 'cops9', 'gnat2', 'stk11', 'c1qtnf6', 'dnase1l2', 'dym', 'pi16', 'ppil2', 'znf425', 'prune1', 'prox1', 'sema7a', 'mto1', 'dna2', 'mettl22', 'med14', 'or14k1', 'faap24', 'limk2', 'trmt10a', 'mcrs1', 'atoh7', 'znf573', 'nck1', 'nr1i2', 'efcab14', 'ppp1r18', 'uvrag', 'erc1', 'a1cf', 'pgf', 'ubap1l', 'hps4', 'shroom3', 'chrna10', 'mrfap1l1', 'fbxl8', 'krtap4-3', 'krt33a', 'znf160', 'rcc2', 'smim9', 'tspan9', 'samhd1', 'arid1a', 'cpa3', 'hrh2', 'fpgs', 'ncs1', 'crtac1', 'rpf2', 'spsb2', 'grip2', 'otud5', 'nlrp1', 'poll', 'ank1', 'nnat', 'irx2', 'tbl1y', 'myh3', 'hmces', 'galntl6', 'amer1', 'hes2', 'p2ry12', 'r3hcc1l', 'nras', 'prss12', 'slc39a1', 'lce1c', 'pbov1', 'nat2', 'ppp1ca', 'blzf1', 's100a4', 'med11', 'nup42', 'vn1r2', 'magea6', 'slc24a4', 'ntn4', 'trappc4', 'isoc1', 'wfdc10a', 'esx1', 'dlx1', 'ankdd1a', 'strn4', 'hpgds', 'vps11', 'kiaa0825', 'col16a1', 'xcr1', 'cntln', 'tas2r39', 'gtpbp2', 'ccdc136', 'flii', 'pi3', 'siglec10', 'ampd2', 'limch1', 'gjd3', 'dact1', 'maco1', 'slc2a12', 'xrcc1', 'fam91a1', 'sap30', 'znf668', 'avil', 'kcns2', 'tmem63a', 'lyrm4', 'rybp', 'lamb1', 'bmp10', 'slc49a3', 'atp5f1e', 'ncam2', 'trib2', 'tacc3', 'c12orf56', 'cttnbp2nl', 'nr4a1', 'chfr', 'nmrk2', 'lrg1', 'prdx4', 'cc2d2a', 'nxpe3', 'zer1', 'ube2d2', 'gpsm1', 'nprl3', 'mfap3', 'kiaa1549l', 'rbm15', 'wipf1', 'pcdhga8', 'p4ha3', 'kirrel2', 'cacna2d2', 'trpa1', 'psma1', 'tmem98', 'tesmin', 'znf148', 'sirt4', 'togaram1', 'znf723', 'apol4', 'dmpk', 'ccdc96', 'pcm1', 'slco1a2', 'c1ql4', 'kcnh8', 'hpd', 'c4orf17', 'ints10', 'klk3', 'ahcyl1', 'mdh1', 'zbtb38', 'eef1akmt4', 'rab26', 'snn', 'c9orf64', 'ttc9', 'rtn4rl1', 'mgst2', 'galr3', 'usp30', 'ifnlr1', 'cyb561a3', 'krt10', 'or7d4', 'hmgb3', 'kiaa1586', 'rnf144a', 'slc27a3', 'gng10', 'vax1', 'il31ra', 'upf1', 'cbx8', 'fam83d', 'gcc1', 'six6', 'prdx2', 'med15', 'stk10', 'otop3', 'gpbar1', 'klf15', 'rcsd1', 'nmi', 'etfa', 'hnrnpa3', 'cd99l2', 'wdr27', 'znrf3', 'cnppd1', 'kcnj11', 'tex37', 'rprm', 'gja10', 'pak1', 'gpha2', 'tmem181', 'or4k13', 'ripply1', 'xpo5', 'mlx', 'l3mbtl2', 'ncapg2', 'extl2', 'baalc', 'kif21a', 'myo19', 'ppp1cb', 'tpcn2', 'glrb', 'pole2', 'fam216a', 'slc22a8', 'nip7', 'tcea2', 'dars2', 'znf32', 'selenom', 'atp1a1', 'kcng2', 'chrnb3', 'calhm4', 'nt5c3b', 'ube4b', 'igsf9b', 'suclg1', 'ccdc163', 'rbfa', 'tmem240', 'ppih', 'sfxn4', 'ik', 'smc3', 'castor1', 'fam83f', 'fam166b', 'fbxo16', 'c19orf54', 'soga1', 'shld1', 'rgs12', 's1pr1', 'c6', 'bex5', 'ltb', 'iqsec3', 'lrig2', 'msh6', 'prss21', 'tsnare1', 'cdo1', 'slc16a4', 'agpat1', 'ubl7', 'zfp28', 'dgat2l6', 'cfap77', 'ppp4r3b', 'traf6', 'ccr3', 'parp1', 'crat', 'lrtomt', 'adam15', 'ggnbp2', 'olig1', 'fbxw4', 'atp2b4', 'cfl2', 'dxo', 'rbp4', 'krt40', 'hcrtr1', 'pigh', 'sptlc2', 'zc3h12b', 'znf658', 'clec10a', 'pcnt', 'rtp3', 'snapc2', 'cmtm8', 'pate1', 'hoxd10', 'ift122', 'or9a4', 'cyp11a1', 'tmem179b', 'mosmo', 'mpo', 'morn2', 'pcgf1', 'acot13', 'paqr5', 'epg5', 'gtf2f1', 'orai2', 'galt', 'pgghg', 'fli1', 'ttc26', 'nipal2', 'gar1', 'samd4b', 'kti12', 'cfap74', 'or2v2', 'pmepa1', 'chuk', 'arsi', 'fbxo9', 'pdk4', 'megf6', 'galnt18', 'mlf2', 'tcp10l2', 'adam21', 'plcd3', 'lrrc57', 'krtap10-1', 'enthd1', 'c18orf32', 'fibin', 'syde1', 'suds3', 'fkbp8', 'fktn', 'mab21l1', 'bloc1s6', 'nkx2-2', 'znf195', 'ypel1', 'nol8', 'apold1', 'pdcd7', 'edf1', 'prr12', 'fbxl19', 'eif1ax', 'ywhab', 'nlrc5', 'rad51b', 'or8s1', 'fbxo4', 'trmt10b', 'med20', 'bpi', 'clcn6', 'zbed4', 'smtnl2', 'wfdc2', 'zfand1', 'defb124', 'hcfc1', 'nectin2', 'timeless', 'nlrp9', 'ssx2ip', 'kcna10', 'fbxl20', 'morc1', 'scarb2', 'znf235', 'mmp24os', 'kir3dl3', 'kcp', 'ermard', 'acan', 'mpped2', 'c2orf68', 'akap14', 'nmur2', 'dlat', 'krt4', 'catsper2', 'mfn2', 'tbccd1', 'lin37', 'gnrh2', 'or9q1', 'srpk1', 'mblac2', 'phox2b', 'vsig8', 'apba1', 'mei4', 'cd79b', 'kat5', 'slc4a4', 'fcho2', 'usp43', 'spocd1', 'tnnt2', 'cldnd1', 'map10', 'ndufb4', 'ucma', 'krtcap2', 'bmp6', 'supt3h', 'polr1e', 'clta', 'scara5', 'ccn2', 'adam8', 'tmem178a', 'smim2', 'niban3', 'kiaa1614', 'ankrd10', 'zscan22', 'slc17a1', 'sprr5', 'comt', 'accsl', 'nfe2l2', 'irgq', 'phc2', 'ecsit', 'slc30a6', 'nova1', 'ap2a1', 'pja2', 'chia', 'amn', 'insig1', 'il13', 'brca2', 'oxgr1', 'lrp10', 'atp5f1c', 'dop1b', 'tuba1a', 'cbfa2t2', 'nptx1', 'stmn4', 'mmp19', 'spag1', 'scarf1', 'mt-cyb', 'ncstn', 'gmppa', 'lmf1', 'atf2', 'tmub1', 'smcp', 'gon7', 'galnt6', 'znf717', 'socs6', 'krtap21-2', 'ripk2', 'inha', 'gsk3a', 'nol6', 'msmp', 'ttll3', 'znf100', 'ptger3', 'sec24d', 'asb10', 'galk2', 'iars2', 'tmem204', 'atp5me', 'rhag', 'nrxn2', 'gnptab', 'nsun2', 'ocm2', 'dpep2nb', 'ptk7', 'ubap1', 'adrb2', 'ranbp3', 'zic2', 'clk2', 'hexb', 'inpp5j', 'prdm8', 'pias3', 'fdcsp', 'hoxb4', 'brip1', 'rab24', 'mapk8ip1', 'stam2', 'atg7', 'or5h15', 'adamts20', 'zcchc12', 'hsbp1l1', 'il6', 'prss41', 'lefty1', 'parp9', 'csdc2', 'stxbp5l', 'anxa2', 'zcchc13', 'cd300lf', 'adamts2', 'myo15a', 'xrn2', 'bnip3l', 'itgb1bp1', 'krtap23-1', 'pno1', 'egfl8', 'slc51a', 'ptpn1', 'pdia5', 'galnt11', 'stk17a', 'mtx2', 'hnf4g', 'prr20g', 'vezf1', 'spegnb', 'sar1b', 'jrkl', 'lrfn1', 'gnb4', 'cmc4', 'hebp1', 'il22ra1', 'sf3a3', 'emc9', 'appl1', 'pln', 'hesx1', 'smc5', 'efcab3', 'lrrc18', 'aatf', 'loxhd1', 'impact', 'agxt2', 'nup155', 'klhl11', 'rnf40', 'abhd17b', 'lamtor3', 'fxn', 'tmed7', 'plce1', 'c10orf143', 'ager', 'plcb3', 'asb5', 'or4c3', 'cdc42ep2', 'abi1', 'igsf21', 'arhgap18', 'nefl', 'acadvl', 'rab27b', 'gfra4', 'fam174b', 'mansc4', 'arid2', 'rbck1', 'tro', 'cdk16', 'tmem225', 'glb1l', 'tex15', 'spred1', 'rfx3', 'efna4', 'ush1c', 'necap1', 'hmg20b', 'casq2', 'dram2', 'uncx', 'inpp1', 'ripk1', 'ndufs2', 'trim27', 'kif23', 'chst14', 'pcgf6', 'faap100', 'plbd1', 'tia1', 'rnf11', 'ccne1', 'ehbp1l1', 'p2ry14', 'abcc5', 'plod1', 'ssbp2', 'znf655', 'reg3g', 'col10a1', 'caskin2', 'prdm13', 'prkaa1', 'erg28', 'eif3b', 'hccs', 'gpc3', 'pak6', 'bcl2l10', 'cbr4', 'trps1', 'morf4l2', 'tgif2ly', 'or52h1', 'taf11l6', 'ate1', 'or5m1', 'gdpd2', 'bub1', 'kif12', 'nectin4', 'trmt13', 'ttc14', 'agfg2', 'dnajb5', 'gjb2', 'sost', 'fam178b', 'gns', 'fam210b', 'phf24', 'eps8', 'treml4', 'senp6', 'cdc14a', 'ankrd26', 'lztr1', 'tbl1xr1', 'fut9', 'klf4', 'alox5', 'mme', 'drp2', 'pex14', 'srpk3', 's100b', 'adgrg2', 'insrr', 'lrguk', 'rec114', 'vav1', 'ncoa3', 'fen1', 'cachd1', 'morf4l1', 'cnn1', 'prdx5', 'znf485', 'gcc2', 'arpc4', 'inka1', 'kctd4', 'cdkn2b', 'rab14', 'dchs1', 'fam214a', 'ccnd3', 'pigs', 'aff2', 'psmd2', 'laptm5', 'rilpl2', 'ahnak', 'or10a7', 'knop1', 'golga8o', 'kcnu1', 'usp31', 'emc8', 'rab30', 'spata20', 'nwd1', 'sprr2a', 'lipt2', 'atp2b1', 'strc', 'igfbp7', 'ifna2', 'cacnb1', 'gad1', 'map3k11', 'gtf3a', 'tmem186', 'znf428', 'creld1', 'fbxl2', 'ifna1', 'ccdc166', 'acer1', 'lrrn4', 'cplane1', 'cpeb3', 'fbxo45', 'znrf4', 'olfm4', 'rbmx', 'dab1', 'per1', 'pcdha10', 'dlx5', 'slfnl1', 'nhlrc4', 'eml5', 'adcy8', 'elovl1', 'idh3a', 'or4s1', 'rbpms2', 'or7c2', 'pold3', 'dscaml1', 'glt1d1', 'gramd1a', 'il2rb', 'prrc2c', 'klhl22', 'tspyl1', 'txlng', 'tsnax', 'bcar3', 'lrrc55', 'gpr39', 'csnk2a2', 'bcl2', 'becn1', 'mettl7a', 'slc1a1', 'etv4', 'ociad2', 'muc2', 'pax7', 'snrnp25', 'pigu', 'megf8', 'egfl6', 'antxrl', 'ano3', 'sec63', 'smurf2', 'cdh2', 'rsph10b2', 'ccnt2', 'nbpf19', 'rnf141', 'znf467', 'krtap9-9', 'fabp3', 'znf420', 'slc2a10', 'b3gat1', 'inafm2', 'ccdc120', 'abcf2', 'tcf19', 'or8i2', 'nlrp10', 'eif3e', 'hectd1', 'shisal2b', 'csde1', 'foxn4', 'grm2', 'rabl3', 'cct6a', 'adamtsl1', 'ube2z', 'acsm2b', 'ly6g5b', 'maff', 'rnaseh2b', 'per3', 'eif4g1', 'ydjc', 'tmem140', 'rnaseh2c', 'tmem43', 'or6c74', 'acvr1', 'c16orf96', 'spem1', 'dstn', 'ccser1', 'lhcgr', 'arid1b', 'abi2', 'r3hdm4', 'spata6', 'il26', 'tp53i13', 'copb2', 'eny2', 'zc3h12a', 'fbxo6', 'clhc1', 'itprid2', 'wdr46', 'tfpi', 'ttyh3', 'adrb3', 'rnf112', 'hbq1', 'taf3', 'eml6', 'tbc1d32', 'ctif', 'mex3c', 'zdhhc17', 'nphp1', 'bcr', 'slamf8', 'usp6', 'tmem141', 'slc7a11', 'c4orf46', 'cpne1', 'zbed1', 'znf34', 'agrp', 'tbxa2r', 'or2ak2', 'b3gnt3', 'znf669', 'dclk2', 'ltbp2', 'angpt4', 'ankrd1', 'noct', 'lbp', 'ppm1e', 'greb1', 'dhrs1', 'pram1', 'serpinb4', 'crybb3', 'qtrt2', 'c9orf152', 'neu3', 'timp1', 'scnm1', 'stk32a', 'cpne8', 'hs2st1', 'fdxr', 'c3orf22', 'ly6g5c', 'mthfd1l', 'copg2', 'churc1', 'pias4', 'hipk1', 'tent5b', 'znf677', 'ppp1r3d', 'gng7', 'u2af2', 'akr1b1', 'abca10', 'eya3', 'znf512', 'serinc4', 'prkar2b', 'lbh', 'cdh7', 'kat14', 'zp3', 'defb131b', 'col4a3', 'gabra1', 'clpb', 'ccz1', 'abcd3', 'timm17a', 'fam32a', 'zc2hc1a', 'sf3a1', 'gdnf', 'zbed9', 'dlst', 'pcdhb15', 'pmpca', 'or1g1', 'tssk1b', 'arhgap1', 'rho', 'chchd4', 'me3', 'rnf181', 'hcn1', 'ccdc8', 'sap130', 'chm', 'sp140l', 'ctsl', 'vrk1', 'rnpc3', 'ptpra', 'igsf6', 'cep164', 'usp32', 'pls3', 'slc6a20', 'homer2', 'dctn1', 'ctsd', 'gpi', 'slc30a7', 'ttc39c', 'or2t11', 'txn2', 'lancl3', 'or4c5', 'gcat', 'triap1', 'ciz1', 'col12a1', 'tnni3k', 'or2l13', 'gnat1', 'phc1', 'rgl2', 'ankrd42', 'fpgt', 'f11r', 'wdr5', 'nol7', 'ppp3r1', 'cenps', 'nnmt', 'cebpb', 'zfand3', 'cela2b', 'znf662', 'krtap5-5', 'znf286a', 'ubap2', 'prkcz', 'sh3gl2', 'snx29', 'prps1', 'eqtn', 'pnma1', 'nek6', 'vcl', 'aldh1a1', 'ankfn1', 'prkg2', 'relb', 'golt1a', 'ecel1', 'gsg1l', 'fam177b', 'srp54', 'srms', 'rassf3', 'napg', 'pparg', 'card9', 'impdh2', 'peg3', 'arnt2', 'spsb1', 'bex3', 'kcnd2', 'vash1', 'znf660', 'znf197', 'aco2', 'maml2', 'vil1', 'dnaaf4', 'irs1', 'hexd', 'cript', 'mmaa', 'dnm3', 'cmtr1', 'krtap9-8', 'lsm12', 'slc15a5', 'ada', 'pttg1', 'gstp1', 'nanp', 'adcyap1r1', 'cdk5rap2', 'dqx1', 'bag4', 'krt38', 'znf318', 'psapl1', 'itga5', 'argfx', 'timp3', 'lhx4', 'siglec7', 'kbtbd6', 'defb128', 'chmp4b', 'urb2', 'zcchc18', 'adgrf1', 'bhlhe40', 'atp8b4', 'adgrf4', 'as3mt', 'znf624', 'tex19', 'wtip', 'ccdc71l', 'tm2d3', 'slx4', 'lgr4', 'cfap300', 'slc22a7', 'mphosph8', 'gp2', 'znf98', 'psors1c2', 'casz1', 'lrrc39', 'pms2', 'qki', 'lrrc53', 'zbtb26', 'pou2f1', 'chadl', 'mindy4b', 'gja9', 'snd1', 'casr', 'cntfr', 'ltv1', 'fscn1', 'paqr9', 'serpinb9', 's100a10', 'sytl5', 'znf688', 'ccdc159', 'syf2', 'scyl1', 'rab39b', 'trim10', 'tead1', 'hoxc9', 'or4c6', 'fut8', 'zscan1', 'spata46', 'cers5', 'cdipt', 'ap3m2', 'fkrp', 'spin3', 'enpep', 'dhcr7', 'amz2', 'ppp1r9b', 'nr2f6', 'tnni1', 'fam200b', 'cisd1', 'ubiad1', 'znf426', 'sulf2', 'lingo1', 'armcx4', 'znf326', 'rsph4a', 'fcn3', 'tent2', 'ndst1', 'cnot6', 'ints8', 'dram1', 'krt6a', 'unc13b', 'nme4', 'col7a1', 'dhx16', 'lilra6', 'prss16', 'adh4', 'plekha7', 'tnfaip8l3', 'dcun1d3', 'snrpe', 'vmp1', 'trim64b', 'zcchc24', 'polr2i', 'atoh8', 'nfkbie', 'ddx60l', 'gpihbp1', 'wdr48', 'spdye6', 'mprip', 'tnip3', 'zfpl1', 'ap2s1', 'slc37a1', 'b3galt2', 'pmvk', 'scx', 'tsr1', 'ccdc200', 'espl1', 'znf280c', 'map3k4', 'ankrd30a', 'rpusd1', 'cmtm2', 'enoph1', 'proser1', 'mtss1', 'or13c9', 'zfp36l2', 'fam131b', 'pfkm', 'efs', 'cep85', 'fam229a', 'gbx2', 'irf5', 'zbtb44', 'nudt7', 'gart', 'kaag1', 'asic5', 'nipsnap3b', 'drich1', 'stx11', 'gimap8', 'znf251', 'sprr2b', 'hpcal1', 'cbr3', 'fap', 'arl14', 'slx4ip', 'etv6', 'zmym6', 'wnt7b', 'epha3', 'cog1', 'smim35', 'prss36', 'terf2', 'atf5', 'lzts2', 'ccr2', 'ccdc137', 'clcn3', 'polr3k', 'znf579', 'lsm5', 'irx4', 'pik3ip1', 'asb16', 'fgd6', 'semg2', 'gtf2i', 'ubxn6', 'mecr', 'akap12', 'gal3st4', 'cd1b', 'crisp2', 'tekt5', 'glyatl2', 'myzap', 'ccni', 'arhgap44', 'agl', 'arl4c', 'gga1', 'rprml', 'trmo', 'ptpn9', 'dnajc13', 'c19orf33', 'tada3', 'eya4', 'tpgs2', 'psg11', 'stk4', 'ddx27', 'spry4', 'znf618', 'msrb2', 'usp48', 'fubp3', 'sez6l', 'gcn1', 'slc16a6', 'bex1', 'tmem126a', 'gpr83', 'pde12', 'mul1', 'znf518a', 'fam83a', 'best3', 'slc35c1', 'begain', 'crbn', 'dtwd2', 'dgcr8', 'pax1', 'ube2v1', 'kiz', 'ccl2', 'tti1', 'slc25a2', 'rab11fip4', 'ybx1', 'litafd', 'cd33', 'utp4', 'ube2ql1', 'arpc1b', 'rcan3', 'ros1', 'lyrm9', 'hsf4', 'rnf150', 'or5v1', 'cntnap3b', 'thoc1', 'sppl2a', 'vsnl1', 'atg9a', 'strbp', 'tmem182', 'prr36', 'gpr101', 'tcaim', 'agbl5', 'krt76', 'dkc1', 'spart', 'taf11', 'fcamr', 'slc35f1', 'ddit4l', 'cd177', 'kcnb2', 'pag1', 'aqp4', 'rrp1b', 'ghsr', 'ndufa10', 'mnd1', 'crb1', 'acmsd', 'znf691', 'cdc37l1', 'cables2', 'itga7', 'asf1b', 'tspan32', 'kiaa1671', 'aadac', 'slk', 'itgb5', 'pitx2', 'ccdc181', 'cyren', 'icam3', 'mapre1', 'anxa11', 'cwc15', 'zdhhc2', 'fgf4', 'misp', 'cd160', 'ifitm5', 'dmkn', 'tfdp1', 'eva1a', 'mageb16', 'cr2', 'mt4', 'keap1', 'tarbp2', 'nkx6-2', 'cops6', 'prss57', 'armh4', 'nyap2', 'nol10', 'dnai2', 'echdc2', 'nckap5l', 'il1r2', 'snx9', 'osbpl7', 'gpr155', 'nckap1l', 'mt1hl1', 'fst', 'snx27', 'gprin3', 'erbin', 'papss2', 'cyp2r1', 'or5d18', 'sult1c3', 'or10d3', 'prpf40b', 'lpar2', 'gkn1', 'adam11', 'znf548', 'mymx', 'rasgrf2', 'was', 'tlcd1', 'lzic', 'actg2', 'vps29', 'tmem252', 'zmynd8', 'myof', 'siva1', 'fibp', 'cdh17', 'snrpa1', 'nfu1', 'hsd17b1', 'nlrp12', 'pdk1', 'isy1', 'dusp13', 'stk31', 'c10orf53', 'sugct', 'rem1', 'ftsj1', 'b3gat2', 'agpat2', 'lrrc15', 'c4bpa', 'ntmt1', 'or4d1', 'fam50a', 'sdhaf1', 'ccl7', 'medag', 'cpxm1', 'zmym4', 'slc9b1', 'ncapg', 'smoc1', 'cyp4f22', 'lilra1', 'lcn15', 'tlr6', 'pid1', 'lamp5', 'magee1', 'chp2', 'suco', 'plcxd1', 'crybg1', 'tmprss12', 'ddx42', 'ppp6r1', 'znf384', 'lhb', 'plekhb1', 'mtg1', 'kctd9', 'pramef8', 'nags', 'mcts1', 'slc22a25', 'srsf8', 'anpep', 'robo1', 'kcnj18', 'emc10', 'myl9', 'med13', 'tctn1', 'efcab2', 'braf', 'bst1', 's100a9', 'cbfa2t3', 'gcfc2', 'cep63', 'abhd6', 'yrdc', 'shcbp1', 'spz1', 'lcn12', 'magec3', 'taf6', 'slc20a1', 'mettl5', 'ddx60', 'fbxw11', 'klhdc10', 'abcb9', 'tshr', 'ptpn22', 'krt19', 'usp11', 'paip2b', 'ceacam16', 'czib', 'fgfrl1', 'tmem8b', 'mybpc2', 'spata21', 'g2e3', 'asap2', 'mmachc', 'scn10a', 'lifr', 'aass', 'nfil3', 'eloa2', 'tex48', 'ttll11', 'krtap8-1', 'mtmr10', 'sesn3', 'arhgef6', 'prpf6', 'plch1', 'phlpp1', 'etv1', 'polr3d', 'adgre1', 'astn1', 'klhl32', 'npw', 'ldah', 'tp73', 'tmem200a', 'efna3', 'plin3', 'gpr132', 'ube2g2', 'usp9y', 'etv7', 'fscb', 'psmb1', 'smim7', 'cryzl1', 'fancg', 'gba', 'trafd1', 'sorcs2', 'map1lc3c', 'znf781', 'nlgn3', 'gstm3', 'dlx3', 'spire1', 'slc9a6', 'znf275', 'unc119b', 'znf155', 'ccdc194', 'ptprg', 'traf3ip3', 'gast', 'ubfd1', 'col23a1', 'fyn', 'cdk20', 'glt8d2', 'prr3', 'dnajb13', 'cnksr1', 'znf821', 'tmem127', 'ets2', 'ttc21b', 'ptgdr2', 'tbx1', 'fam160b2', 'nkain1', 'cxcl8', 'znf469', 'ywhah', 'urb1', 'tert', 'smarcc1', 'plekhm3', 'optn', 'fam90a26', 'kmt5c', 'znf568', 'c1orf131', 'prame', 'raet1e', 'znf221', 'ube3d', 'gpsm2', 'afg1l', 'nfxl1', 'gcnt1', 'tspan18', 'siae', 'icam5', 'rab9a', 'pstpip2', 'pou3f2', 'homez', 'cd55', 'tpgs1', 'apoh', 'plcb1', 'sipa1', 'inhba', 'vps4a', 'slc15a2', 'cdc42ep4', 'tyk2', 'hoxa6', 'jpt1', 'tsen15', 'smoc2', 'map1lc3a', 'uqcc1', 'olr1', 'mageb6', 'abt1', 'otx2', 'fam171a2', 'aif1l', 'ska1', 'rwdd3', 'tnfrsf6b', 'utp25', 'ppp2ca', 'epb41l4a', 'focad', 'ndufb8', 'ankrd16', 'rnh1', 'or9k2', 'dynll1', 'ctsg', 'cfap410', 'mpv17l', 'tada2a', 'gtf2h5', 'plpp2', 'kcnk6', 'cacng7', 'casd1', 'trnp1', 'ubn2', 'krt8', 'chst5', 'med28', 'creb3l3', 'clec4m', 'xkr4', 'sipa1l1', 'slc16a2', 'or6c6', 'arhgef1', 'spats2l', 'hmga2', 'synj1', 'ca7', 'cadm2', 'aspa', 'mmp1', 'lamb2', 'mrnip', 'fam107b', 'fam209b', 'mpdu1', 'moxd1', 'calcrl', 'trim9', 'or13f1', 'psmc1', 'osgep', 'kat7', 'cndp2', 'scnn1g', 'baiap2', 'prnp', 'rhd', 'pdlim5', 'leprot', 'eif3m', 'cspg4', 'cldn9', 'rcvrn', 'kxd1', 'hao1', 'cdcp1', 'lyl1', 'itih1', 'fhad1', 'hs6st1', 'dus4l', 'rad21l1', 'slc51b', 'slc32a1', 'mpv17', 'fshb', 'dbf4b', 'ropn1l', 'dus2', 'adamtsl5', 'zdhhc5', 'cxcr1', 'dctd', 'zic1', 'tfpi2', 'mfrp', 'c1orf141', 'gab2', 'znf652', 'plppr2', 'psd3', 'ufc1', 'jakmip2', 'znf222', 'plekhj1', 'slc9a7', 'ifit1b', 'or14j1', 'syne4', 'fcgr3b', 'znf227', 'krtap5-2', 'tas1r2', 'actl6b', 'sgce', 'hectd4', 'ephx1', 'rab11a', 'nsd1', 'zdhhc16', 'tango2', 'slc9c1', 'ess2', 'gsdmc', 'calcoco1', 'pip4p2', 'amz1', 'zxdc', 'smad2', 'smim31', 'cpne7', 'dctn6', 'nr1d2', 'ccdc191', 'sh3gl3', 'trpv5', 'fbxo32', 'rmdn2', 'gdap1', 'slc16a8', 'spata48', 'neil3', 'dgka', 'prr5', 'tbcd', 'arl16', 'ccdc113', 'ell2', 'mlxipl', 'grin2a', 'rabgap1l', 'fbxw12', 'kctd17', 'kcns3', 'mybl1', 'rimbp2', 'pkn2', 'rhod', 'ebf2', 'pcsk7', 'gls', 'trabd2b', 'c1qtnf1', 'fut1', 'dusp1', 'sgms1', 'apod', 'rnf168', 'vegfc', 'scrt1', 'myh14', 'ttc12', 'spag17', 'cskmt', 'bud13', 'rpgrip1', 'gldn', 'znf202', 'slc11a1', 'or5l1', 'mapk8', 'dcaf11', 'clgn', 'armc12', 'ppp1r12a', 'atf3', 'ube2v2', 'cenpj', 'dyrk4', 'cwf19l1', 'foxl2nb', 'ndufaf2', 'or4m1', 'znf771', 'erich6b', 'lacc1', 'fbxo22', 'tacc1', 'ckm', 'krtap4-5', 'rasgef1c', 'igsf23', 'mepe', 'dpm3', 'hgh1', 'ms4a6e', 'xrra1', 'cryga', 'pih1d2', 'slc5a1', 'hrk', 'otud6a', 'sntn', 'ephx3', 'gvqw3', 'samd14', 'kcnj10', 'lbr', 'cyp3a43', 'ttc19', 'sptlc3', 'ace2', 'treml2', 'htra2', 'git2', 'snx22', 'mas1', 'rhobtb2', 'ikbkb', 'mamld1', 'fbxl13', 'rmi2', 'taf13', 'ncoa1', 'gemin6', 'rpn1', 'drd5', 'pcdhb13', 'znf92', 'oosp4a', 'setdb2', 'dipk1c', 'spaca4', 'unc5d', 'apba2', 'sema6d', 'camk2n1', 'hs6st3', 'ccdc77', 'c2cd3', 'ism2', 'krtap10-5', 'znf575', 'e4f1', 'fa2h', 'alb', 'nhsl2', 'mafa', 'sectm1', 'ercc6l', 'syap1', 'pan3', 'ncmap', 'pcdhga5', 'siah1', 'tbc1d3e', 'anln', 'pcdha4', 'ubr3', 'iapp', 'ogfod2', 'gdf7', 'ssuh2', 'dnah7', 'fkbp1b', 'or2t34', 'esr1', 'mc4r', 'myo5b', 'pidd1', 'atp2a3', 'mchr1', 'hmmr', 'cptp', 'rmi1', 'ctdsp1', 'fbxo2', 'lamb3', 'ube2u', 'pcdhgb2', 'uqcrhl', 'tigd2', 'mepce', 'uggt1', 'srsf12', 'grina', 'ccdc70', 'cpa4', 'znf337', 'slc22a18as', 'spanxn3', 'senp8', 'foxk1', 'ttf2', 'c1orf74', 'ajm1', 'pigb', 'fga', 'trim54', 'sdhb', 'tas1r1', 'dock11', 'rimkla', 'pank1', 'tent4a', 'atp6ap2', 'il2', 'lonrf2', 'nmu', 'plac9', 'arf5', 'fhod1', 'thap11', 'jag1', 'vbp1', 'fosl1', 'tk2', 'c2orf76', 'gnat3', 'noxa1', 'capn1', 'plekhg4', 'rrm1', 'pdcd1', 'tex38', 'atp2b2', 'or10g6', 'sap18', 'azgp1', 'krtap1-1', 'or6b2', 'rfx8', 'bdp1', 'rbis', 'evi5', 'dsg1', 'cadps2', 'znf529', 'ide', 'otud4', 'fgf6', 'adcy3', 'dytn', 'b4galnt1', 'cdc42bpb', 'wrap53', 'znf432', 'or10z1', 'banp', 'calm3', 'bag2', 'vti1b', 'reep1', 'mtss2', 'gpr35', 'dnmbp', 'stx6', 'myl6', 'thumpd3', 'exd1', 'itgax', 'stard8', 'slc45a2', 'tnr', 'dcaf15', 'rnf128', 'wnk2', 'hsdl1', 'pax8', 'slc16a11', 'spam1', 'gnai3', 'fgf13', 'c3orf85', 'bud31', 'tes', 'ssx3', 'frmd3', 'zcchc17', 'zscan23', 'mxra7', 'mogs', 'sgk2', 'clec18a', 'lmbr1', 'wsb1', 'znf24', 'add2', 'myct1', 'znf236', 'snx11', 'itprip', 'znf250', 'ring1', 'ly6d', 'chd7', 'fam216b', 'id2', 'larp1b', 'ryr1', 'rtl9', 'tbc1d24', 'ccdc125', 'tyw5', 'oxct2', 'jkamp', 'kcnt1', 'tigd5', 'c12orf57', 'cd300lg', 'ffar3', 'haus4', 'ilk', 'ttc9c', 'tomm22', 'paxbp1', 'akap10', 'lif', 'neurog3', 'pex11g', 'lgalsl', 'exoc1', 'spc24', 'ank2', 'armc1', 'fmr1nb', 'mpp5', 'capn6', 'sec61a1', 'ube2j2', 'oscar', 'pcbd1', 'trim65', 'rbm7', 'chrna1', 'hbegf', 'dsc1', 'znf764', 'aspm', 'cd164', 'foxd4', 'septin12', 'pp2d1', 'arl5a', 'ndufc2', 'spin2b', 'c8g', 'kcnj2', 'zscan20', 'cenpa', 'six4', 'lrfn3', 'mageb17', 'dhrs12', 'idua', 'septin7', 'lman1l', 'krtap3-3', 'ireb2', 'zfr', 'rsph1', 'itga2', 'or6q1', 'fance', 'ywhag', 'fam161a', 'ndufs5', 'renbp', 'ihh', 'rell2', 'il18r1', 'smu1', 'slc2a8', 'igbp1', 'flvcr2', 'or5m11', 'slc25a6', 'zbtb7a', 'igfals', 'fuom', 'cage1', 'synpo', 'rap2c', 'pdyn', 'nccrp1', 'nxt2', 'dennd6b', 'il1f10', 'rundc3a', 'mcat', 'cd2bp2', 'dennd10', 'capn15', 'ccl3', 'bace2', 'pcgf2', 'cd5l', 'cd58', 'ift57', 'or4n5', 'sp6', 'arhgap42', 'rtraf', 'omg', 'fam160a1', 'tnfsf4', 'dcst1', 'atp6v0e1', 'c9orf135', 'p3h1', 'unc50', 'tst', 'ctnna3', 'capn3', 'scgb2a2', 'rfpl3', 'cblb', 'dus3l', 'stx7', 'ccdc169', 'add1', 'maip1', 'rbbp6', 'ctu2', 'rab33b', 'pou5f1b', 'ccna1', 'retn', 'slamf6', 'slc41a1', 'rab3il1', 'hemgn', 'nelfb', 'aip', 'c17orf50', 'ccdc102b', 'dhps', 'pfdn4', 'rab3b', 'inppl1', 'kctd21', 'c2cd2l', 'chrm3', 'dnah14', 'pabpc1l2a', 'rnf135', 'nup54', 'afp', 'akr1c8p', 'heatr9', 'tpcn1', 'tbx2', 'hilpda', 'cd226', 'stn1', 'crybb1', 'rem2', 'lrriq3', 'ahctf1', 'jagn1', 'or51b6', 'c2orf73', 'or52r1', 'pramef11', 'tafa3', 'epyc', 'fam71e1', 'nmt1', 'muc22', 'prr23c', 'gsc', 'tmem212', 'gype', 'stmn2', 'c20orf204', 'tnfrsf13c', 'ccdc9b', 'tbc1d2', 'pdgfc', 'med23', 'ehd2', 'ell3', 'krt86', 'nrn1', 'sgpl1', 'fam124a', 'nkiras1', 'lcmt2', 'lgals4', 'ptbp2', 'grem2', 'maf', 'smyd1', 'bbs12', 'pate2', 'pak3', 'cdc14c', 'tchh', 'cuta', 'tas2r50', 'mras', 'eif1', 'siglec11', 'bcat1', 'eif2d', 'znf135', 'gimap4', 'gria3', 'mad2l1bp', 'tmem267', 'npl', 'hlx', 'ugt2b17', 'znf106', 'pias1', 'pcolce', 'loxl1', 'abcc1', 'zg16', 'kansl1', 'rhoh', 'hrct1', 'reg1b', 'pcdhga3', 'rock2', 'cdkl5', 'trim55', 'ndufaf3', 'cby1', 'gpr62', 'tmem39a', 'sohlh1', 'rac3', 'pop5', 'pcdha13', 'dgat1', 'rarres1', 'mif', 'rhbdl3', 'tmem47', 'mal2', 'elk4', 'clca1', 'hif1an', 'tnfrsf17', 'net1', 'ttll1', 'itga2b', 'rnf145', 'kank4', 'hnrnpk', 'hexa', 'enpp1', 'zc3h3', 'hpr', 'map3k14', 'pax2', 'tmem239', 'arhgap11b', 'psmb5', 'ntrk1', 'cops5', 'tmem132c', 'cnn2', 'znf732', 'sestd1', 'bmp1', 'ext2', 'cct6b', 'fgf9', 'slitrk2', 'ice2', 'nup62', 'metrn', 'ube2a', 'elmo2', 'dazap2', 'znf404', 'zdhhc24', 'pkp1', 'c17orf107', 'lrrc20', 'rheb', 'arpc2', 'pgam1', 'pla2g2e', 'xpnpep1', 'arrdc3', 'atic', 'akap3', 'il10rb', 'slc9c2', 'kpna6', 'cct4', 'kiaa1210', 'l3mbtl4', 'cyp39a1', 'rnase3', 'fhl5', 'col19a1', 'klhl23', 'p4hb', 'chrfam7a', 'tasor2', 'hgs', 'lce1b', 'fn1', 'or5ak2', 'six5', 'rad54l', 'ush2a', 'spdef', 'lrfn4', 'carns1', 'oxld1', 'ppp2r1b', 'cd320', 'vdr', 'cd68', 'kcnj13', 'suv39h2', 'rcan2', 'mapk13', 'drosha', 'nop10', 'dhrs13', 'taok2', 'stat4', 'or4a16', 'ubxn11', 'stil', 'or6k3', 'cldn18', 'sds', 'eif4e3', 'mocos', 'phpt1', 'c20orf173', 'unc93a', 'glud1', 'bub1b', 'prkn', 'tbxt', 'prr29', 'catsper3', 'iqcf6', 'myo1e', 'kcng1', 'ppm1l', 'med10', 'sike1', 'mtm1', 'nacad', 'blnk', 'fxr1', 'snx1', 'mrtfb', 'mcoln1', 'wdr45b', 'cst3', 'she', 'anxa10', 'colec12', 'dguok', 'hmgcs1', 'ski', 'slc35c2', 'jam3', 'fam120aos', 'samd10', 'cops2', 'ankib1', 'ppa2', 'flt4', 'exoc8', 'scly', 'rnf169', 'dach1', 'ephx2', 'plekhg1', 'cldnd2', 'gpr119', 'mtmr2', 'smad9', 'erbb3', 'fan1', 'map6', 'krit1', 'nlrc3', 'ppm1d', 'ccdc6', 'magea1', 'exosc10', 'ca9', 'cep83', 'eif2b3', 'tasor', 'galnt12', 'or4d9', 'wfs1', 'nxnl1', 'zbtb12', 'wfdc5', 'ms4a10', 'eid2', 'ccnd1', 'eif4e2', 'cr1', 'serpinb7', 'itih2', 'tmem52b', 'nfkb1', 'nxph1', 'wdr12', 'kcnip1', 'dusp26', 'coa8', 'bri3', 'shisal1', 'gbgt1', 'igf2bp3', 'znf410', 'hs6st2', 'armt1', 'scrn3', 'dimt1', 'mgll', 'dnaaf2', 'irgc', 'c2orf81', 'mfap3l', 'nup210', 'clec1a', 'herc6', 'tmem230', 'rxfp3', 'kat2a', 'lias', 'alkbh3', 'tesk2', 'npr1', 'trim56', 'gnaq', 'hmox2', 'ppp1r13l', 'dio1', 'slitrk5', 'plrg1', 'pcdhgc3', 'b4galt1', 'lrrk1', 'cacng5', 'rapgef2', 'dohh', 'toe1', 'manbal', 'gtf2a1', 'fam189a2', 'hapln3', 'slc66a2', 'shisa7', 'thsd7a', 'mrfap1', 'pzp', 'slc38a7', 'znf600', 'psmd13', 'or5b2', 'kit', 'hsp90ab1', 'habp2', 'znf559', 'emd', 'tmem132a', 'insl3', 'btnl2', 'khdrbs2', 'farsa', 'dusp28', 'slf1', 'fasn', 'haus8', 'lrrc37a3', 'itpka', 'or13g1', 'plk4', 'insl6', 'wdr76', 'maged1', 'timm8a', 'abca8', 'iah1', 'ssr2', 'wdr55', 'cpq', 'c7', 'rbm26', 'cd5', 'ttc3', 'cox15', 'igsf5', 'gphb5', 'ddi2', 'hdac10', 'traf4', 'ccdc27', 'ntng2', 'c9orf85', 'slc8a1', 'taf8', 'apool', 'lcn6', 'gpr32', 'armcx6', 'invs', 'ly6k', 'fam237a', 'vps9d1', 'pola2', 'ovch1', 'znf585b', 'arhgap15', 'or51a2', 'tef', 'tmem184a', 'cops7b', 'usp38', 'vps54', 'sdhaf3', 'gclm', 'syt12', 'tnk2', 'mt1b', 'gpr84', 'itga3', 'psmd3', 'casp4', 'c12orf76', 'klk15', 'stx8', 'sftpd', 'ece2', 'inpp5d', 'lpcat1', 'sptlc1', 'dnase1', 'lrrc8b', 'atg2a', 'themis', 'kif22', 'kdm4b', 'micall2', 'hs3st2', 'magel2', 'usp10', 'gbe1', 'trem1', 'flg', 'mycl', 'uts2', 'rgs9bp', 'rusc2', 'rab8a', 'trpv6', 'vsx2', 'ovch2', 'klrc3', 'angptl7', 'cd19', 'cln5', 'tram2', 'or52j3', 'copa', 'c4orf50', 'itgb8', 'arl6ip5', 'lipj', 'wnk4', 'or51l1', 'nudt15', 'ppip5k1', 'ppial4g', 'ccdc88b', 'hnrnpa0', 'arl2', 'znf780a', 'rhof', 'nudcd2', 'zfyve1', 'rab19', 'nxf3', 'kif27', 'prss27', 'bloc1s1', 'aldh3a1', 'cck', 'ppp1r3c', 'or5au1', 'mc1r', 'cyp3a7', 'ssh1', 'c14orf39', 'ppp2r2c', 'lipt1', 'bcl2l12', 'prac2', 'stag2', 'zcchc4', 'ddhd1', 'flt3', 'ccdc90b', 'c1orf109', 'atxn2', 'stk38l', 'si', 'slc36a3', 'cox6c', 'fig4', 'dclre1b', 'or2a25', 'klhl38', 'ykt6', 'mpeg1', 'tmprss13', 'kif14', 'rwdd1', 'bora', 'pop7', 'eddm3b', 'arsk', 'slc2a5', 'capn9', 'cnbp', 'nelfe', 'pink1', 'ppm1m', 'chrac1', 'prkg1', 'larp4', 'yipf1', 'numb', 'ccl24', 'apoc2', 'tlcd2', 'rab36', 'cox11', 'nrbp1', 'gap43', 'ccdc186', 'slc6a13', 'fn3k', 'ficd', 'batf3', 'ndufa2', 'ckb', 'surf4', 'igfbpl1', 'tmigd3', 'shc1', 'prdx1', 'naa11', 'mtmr7', 'fam47b', 'zscan9', 'iqank1', 'pla2g7', 'znf43', 'mkrn2os', 'epas1', 'tsc22d2', 'pnma3', 'myh4', 'polr2k', 'or4c16', 'dynlt1', 'mesd', 'chsy1', 'tomm40l', 'rabep2', 'bcl2l11', 'atp5mc1', 'actr3b', 'hras', 'klhl14', 'mib2', 'kcne4', 'ace', 'zbed3', 'asxl1', 'cfb', 'colec11', 'map3k3', 'znf638', 'letmd1', 'crb3', 'rpusd3', 'gpr180', 'kif1b', 'mark4', 'stx1a', 'gpr161', 'rab41', 'birc5', 'rnf224', 'fpr3', 'rhbdd2', 'eif3j', 'klhl28', 'atp5if1', 'mturn', 'cldn24', 'soat2', 'mylk3', 'cyp11b2', 'or4f15', 'ift52', 'cfap20', 'drc1', 'mkks', 'c1orf158', 'sprr2f', 'pax6', 'madcam1', 'otud6b', 'tmem202', 'pabpn1l', 'or4d2', 'znf416', 'gpr20', 'neu2', 'otogl', 'rgs18', 'or4l1', 'rnase2', 'c17orf98', 'hspa4', 'chrna4', 'tmprss9', 'spanxb1', 'gabbr2', 'znf141', 'krt28', 'ahi1', 'phgdh', 'znf138', 'xkr5', 'zmat4', 'c11orf96', 'or5j2', 'pdzd7', 'usp5', 'abca7', 'mtmr8', 'prune2', 'acsl4', 'xpnpep2', 'pom121l12', 'rsrc2', 'pdlim3', 'ppp1r11', 'lrrn1', 'eras', 'raet1l', 's100a8', 'impa1', 'ptprd', 'fam24b', 'rab5b', 'map1b', 'asph', 'ctdspl2', 'aifm1', 'mapk3', 'chst4', 'pdik1l', 'id4', 'tmem170a', 'tmem71', 'or7g2', 'cab39', 'rgn', 'ctxn2', 'tmem199', 'znf557', 'cpa2', 'rtl6', 'pfdn5', 'tram1l1', 'phka2', 'lce2b', 'klkb1', 'ccl27', 'adgrd1', 'fgb', 'ell', 'sap25', 'chchd2', 'bcap29', 'cnnm3', 'nrn1l', 'krt83', 'plxna2', 'defa3', 'exoc3', 'or8a1', 'bcas3', 'sorcs1', 'lrp4', 'bmf', 'cxorf38', 'lims2', 'id3', 'defb1', 'pald1', 'prph', 'znf555', 'zfp91', 'sde2', 'lrrc27', 'rab39a', 'layn', 'kdm3b', 'fam89a', 'fam50b', 'csnk1g3', 'or2j3', 'mageh1', 'meak7', 'ngfr', 'sfrp4', 'tmed6', 'ndc80', 'kitlg', 'kmt2c', 'ppp1r7', 'adm2', 'csnk1a1l', 'shh', 'tmem256', 'bckdhb', 'p2ry8', 'fgf20', 'cep70', 'akr1d1', 'pcdhgb6', 'wdfy1', 'galk1', 'bcl11a', 'naxd', 'znf862', 'fmn2', 'or4s2', 'psma7', 'dnajc3', 'wnt3a', 'ogg1', 'znf714', 'pex1', 'polr2a', 'crh', 'znf516', 'cyp4f12', 'or6n1', 'igsf8', 'plod2', 'fgf11', 'pmpcb', 'kbtbd2', 'scaf1', 'wasf2', 'mapre3', 'actr2', 'ppcdc', 'rap1gap2', 'yod1', 'cdpf1', 'plcb4', 'chst10', 'arfgef1', 'fam163b', 'grb10', 'myadm', 'diaph2', 'or2v1', 'mitd1', 'aicda', 'ccl4', 'aurkb', 'ddah1', 'mypn', 'slc12a8', 'acsbg1', 'frem3', 'kctd19', 'sap30bp', 'rpgr', 'wdr11', 'srpx', 'micu2', 'best1', 'cryba4', 'pik3cb', 'pcdha3', 'slc25a51', 'add3', 'zp1', 'smr3a', 'tnnt3', 'atg4a', 'psmd12', 'trex2', 'tnc', 'ehf', 'ttc30a', 'fkbp14', 'ly6h', 'twf1', 'nsdhl', 'cfhr4', 'fgd3', 'tssk2', 'nedd1', 'usp21', 'bcl6', 'mecom', 'rgpd4', 'rad21', 'snrpc', 'slc10a5', 'ncbp1', 'krtap26-1', 'bsn', 'bsdc1', 'loxl2', 'mat1a', 'cacna2d1', 'dpy19l4', 'wdr5b', 'camkk1', 'cpt1c', 'prok1', 'rnf7', 'sumo2', 'hdgf', 'adam33', 'tyms', 'mpp2', 'or9g4', 'clk4', 'sec14l4', 'pbrm1', 'timp2', 'tkfc', 'tlx1', 'osbpl5', 'dlk1', 'rag2', 'apmap', 'becn2', 'setx', 'fam13a', 'tmem203', 'higd2b', 'cyp4a22', 'znf501', 'c4orf33', 'kcnip3', 'cxcr5', 'ndrg2', 'ap5s1', 'cdkl3', 'slc39a9', 'dbndd2', 'sptb', 'ptrh1', 'slc6a3', 'gas7', 'ccl16', 'trim49b', 'snx17', 'epgn', 'arcn1', 'nav3', 'mylip', 'hcar3', 'eef1b2', 'usp12', 'jarid2', 'ap5m1', 'defb127', 'pabpc4l', 'pkhd1', 'or2a2', 'art3', 'fndc5', 'limk1', 'ndufv1', 'dhrs2', 'smpdl3a', 'hdhd2', 'prdm6', 'cnga2', 'kcnh3', 'cmtm1', 'polr1b', 'bex4', 'adad1', 'ap2b1', 'syt6', 'filip1', 'atp6v0b', 'ddx56', 'emid1', 'sirt1', 'snrpb2', 'prdm15', 'zc4h2', 'kdm6b', 'stat6', 'kcnip2', 'tp53tg5', 'cstf3', 'herc2', 'mtx1', 'lyg1', 'satb1', 'adamts19', 'ccng1', 'slc35d3', 'slc17a9', 'znf708', 'cib4', 'kpna5', 'capza2', 'amotl2', 'clca2', 'dclk1', 'or7a10', 'c1orf146', 'acsm3', 'parn', 'tm6sf1', 'diras2', 'emc6', 'krtap21-1', 'vsig1', 'chodl', 'znf391', 'dnaja3', 'mtmr1', 'pkp3', 'rtl8a', 'nipal4', 'c6orf132', 'cdkl1', 'fabp6', 'nfyc', 'jmy', 'slc29a3', 'rnf38', 'sugp2', 'aspn', 'myl1', 'pcdh17', 'ttll13p', 'krtap5-9', 'arhgef7', 'eif4enif1', 'tdo2', 'ahrr', 'tmem176b', 'eloc', 'epb41l3', 'exoc4', 'hoxb8', 'nxph3', 'or4d10', 'trim46', 'fanci', 'dut', 'parl', 'ropn1b', 'slc10a3', 'lrriq1', 'ampd1', 'kiaa0408', 'alox12b', 'dis3l2', 'naa20', 'ly6g6e', 'epn3', 'brd3os', 'e2f5', 'trappc11', 'fbxw8', 'cxcl13', 'krt12', 'usp49', 'dnah3', 'mrln', 'glrx', 'vamp4', 'mafb', 'scrib', 'mrm3', 'lpcat4', 'stx12', 'foxj3', 'snx18', 'p2rx6', 'fam110a', 'spib', 'evx1', 'sbds', 'fam43b', 'ndufa12', 'daoa', 'smad6', 'aff1', 'gsr', 'mchr2', 'krtap12-2', 'prss33', 'kcnh7', 'tnfrsf11b', 'znf534', 'tgif2', 'cmtm5', 'top2a', 'kdm6a', 'prkcg', 'sycn', 'crhr1', 'ccl25', 'vav3', 'frrs1l', 'lck', 'adgre3', 'lmod2', 'b4gat1', 'selenos', 'chrnb2', 'pcdh18', 'dcaf8l1', 'znf79', 'xcl1', 'trim69', 'smim17', 'zfp42', 'zic4', 'nid1', 'csrnp1', 'scrn2', 'arhgap27', 'arl15', 'cop1', 'il15ra', 'anp32d', 'xpot', 'fat1', 'tp53bp2', 'col1a1', 'use1', 'syt9', 'sash3', 'wwtr1', 'g6pc3', 'mt-atp6', 'rfc5', 'duxa', 'col24a1', 'dedd2', 'milr1', 'ubxn4', 'taar8', 'trip6', 'ppp2cb', 'tesc', 'ckap2l', 'znf697', 'nppc', 'or1l4', 'cbln1', 'lrch4', 'coro1a', 'efhc2', 'tfap2e', 'runx3', 'abl2', 'acads', 'serpinc1', 'ccdc122', 'znhit2', 'mapk6', 'jsrp1', 'snrnp70', 'mybl2', 'lyplal1', 'gpatch4', 'grhpr', 'gabrg2', 'arhgef12', 'gas2', 'mmp13', 'mcu', 'huwe1', 'ferd3l', 'stk36', 'plp1', 'krt35', 'znf280a', 'cracr2b', 'irak1bp1', 'noc3l', 'ebna1bp2', 'insl4', 'ksr1', 'hrg', 'calcoco2', 'ecrg4', 'ube2k', 'hsd17b13', 'pcdhb8', 'cxcl14', 'cdh5', 'thap4', 'psme4', 'arfgef3', 'rnf32', 'tmed1', 'gkap1', 'commd1', 'znf248', 'prmt8', 'pes1', 'draxin', 'itgb2', 'entpd5', 'mettl18', 'nsmf', 'nmbr', 'rgs8', 'preb', 'ndufs4', 'camta1', 'c8orf48', 'gdf15', 'ncoa6', 'serp2', 'camk2a', 'znf628', 'khnyn', 'slc7a8', 'tcf7l1', 'arhgef2', 'prh2', 'cdrt15', 'zbtb7c', 'myo9b', 'lrrn3', 'cma1', 'c2', 'ctrb2', 'kiaa1958', 'tespa1', 'magt1', 'elf4', 'isg20l2', 'r3hdm1', 'lyzl4', 'tmprss11e', 'ltb4r', 'smpdl3b', 'sfr1', 'nat10', 'phf23', 'arrdc4', 'evc', 'fam83g', 'tie1', 'pnp', 'igfbp3', 'c9orf57', 'gltpd2', 'tal1', 'amotl1', 'yipf3', 'micos10', 'lrrc19', 'osbp', 'bicral', 'dnmt3a', 'commd8', 'ms4a4e', 'pphln1', 'pcdh20', 'cotl1', 'serpinb5', 'ciao1', 'shtn1', 'gipc2', 'or52l1', 'ndufa4l2', 'ccdc7', 'btbd18', 'dph5', 'lipn', 'ifnl2', 'ifnl1', 'syce1l', 'ms4a7', 'vps13a', 'cntn2', 'arhgef15', 'prr23b', 'fgf1', 'pigf', 'adh5', 'mamstr', 'hhatl', 'pmp22', 'usp18', 'sycp1', 'abcg8', 'hnf1a', 'dusp14', 'hsdl2', 'ppm1a', 'fbxl4', 'xab2', 'timm13', 'wdr47', 'pifo', 'rbsn', 'ubtd1', 'rhov', 'hhex', 'tnni2', 'tjap1', 'hif3a', 'grhl1', 'cst6', 'b3galt6', 'spink5', 'spag8', 'peli3', 'tox4', 'sec22a', 'c19orf73', 'pxylp1', 'ascc2', 'nrk', 'hhipl2', 'neurod1', 'tigar', 'kmt2d', 'rab40c', 'znf496', 'jtb', 'pth1r', 'rapgef6', 'simc1', 'pprc1', 'gemin7', 'vasp', 'gprin2', 'smlr1', 'or51f1', 'lime1', 'bod1', 'ralyl', 'rbm12b', 'ftl', 'idh3b', 'bmx', 'phf21a', 'or7e24', 'npbwr2', 'atp5pd', 'entr1', 'zranb1', 'rassf1', 'cd200', 'cdk14', 'rims3', 'ampd3', 'tacstd2', 'nomo1', 'tmem30b', 'rab1a', 'ptpn7', 'gga3', 'scn4a', 'taar6', 'psme2', 'papola', 'naga', 'znf341', 'otos', 'ltk', 'znf782', 'kcnk5', 'npm2', 'fam166a', 'mkrn2', 'mylk', 'slc41a3', 'kctd11', 'pik3c3', 'kmt5a', 'cttn', 'c1qtnf9', 'glb1l3', 'ncbp2as2', 'magohb', 'lrrc47', 'cmya5', 'rdh16', 'dhx8', 'or2m4', 'cxcl6', 'zrsr2', 'prrt1b', 'arhgef4', 'ttll5', 'c18orf54', 'golph3l', 'cd200r1l', 'or56a1', 'amn1', 'ddx23', 'slc25a15', 'znf154', 'atg101', 'arhgap12', 'spata31a7', 'tgm4', 'klrc4', 'rab4b', 'wdr73', 'scn8a', 'amdhd1', 'cip2a', 'znf503', 'p2rx5', 'qprt', 'slc7a13', 'mcc', 'or6n2', 'emp3', 'ppp1r3b', 'krtap22-1', 'c16orf46', 'tnfrsf9', 'crebzf', 'pdzk1ip1', 'dek', 'znf768', 'nkap', 'pth', 'mvk', 'tent5c', 'chchd6', 'tcp11l1', 'tcf25', 'cdc34', 'shc2', 'atp4a', 'zmym3', 'prpf40a', 'chst11', 'znf330', 'cep295', 'ogfod3', 'tmem215', 'sgpp1', 'pnpla3', 'macrod2', 'arhgef19', 'gpt', 'acat1', 'msh4', 'or56b1', 'ppy', 'rae1', 'ccdc185', 'epcam', 'pdss1', 'fam161b', 'slu7', 'rabgap1', 'dhrs7c', 'efna2', 'gapdhs', 'c1orf21', 'tmem17', 'retsat', 'clns1a', 'usp3', 'pard6a', 'c5orf52', 'dmwd', 'parp3', 'eef1akmt2', 'tspyl6', 'fabp2', 'eng', 'dnm2', 'orc5', 'fam110d', 'tmem232', 'rab15', 'ethe1', 'ammecr1', 'dnajb6', 'ptpn20', 'ears2', 'tmem70', 'swi5', 'esco2', 'esyt1', 'cyp2f1', 'itsn2', 'vnn2', 'kif25', 'plbd2', 'dst', 'magea11', 'brf1', 'dpagt1', 'tbc1d4', 'gabra5', 'cramp1', 'kiaa0100', 'asb11', 'plpp7', 'trim14', 'fndc3a', 'ifngr1', 'fam8a1', 'eno4', 'azi2', 'garem1', 'tmem250', 'dnai1', 'cd70', 'rfc1', 'dgat2', 'gria2', 'dcun1d2', 'sec23a', 'fgf7', 'eif4g2', 'ubxn1', 'hirip3', 'ltn1', 'tmem169', 'dnm1', 'prmt5', 'pum3', 'ndufaf5', 'comp', 'eomes', 'smim10', 'hyal4', 'znf213', 'mcfd2', 'cyp2j2', 'map1a', 'mon2', 'nedd4l', 'serinc2', 'pou4f3', 'mical2', 'dync1h1', 'lypd3', 'nfatc2', 'tcp10l', 'pax5', 'pcsk4', 'tmem243', 'kcna3', 'ccdc15', 'tmbim4', 'tmem69', 'fam181a', 'smim23', 'chrdl1', 'dzip1', 'znf205', 'tgfbr2', 'timm50', 'page1', 'flywch2', 'cstf2', 'kiaa0586', 'htr5a', 'rab3d', 'pspc1', 'gng4', 'chkb', 'trim2', 'grm4', 'lhx9', 'shroom4', 'cdr2l', 'trip10', 'phf1', 'plcg2', 'cep170b', 'mfsd2a', 'pom121l2', 'nusap1', 'znf695', 'tnfaip1', 'hnrnpll', 'gnb2', 'znf513', 'impg2', 'ptbp3', 'slc12a3', 'ankzf1', 'fndc1', 'cacna2d4', 'gpn3', 'tmprss11d', 'rsl24d1', 'shisa6', 'psmb4', 'scn2b', 'ppp1r32', 'spaar', 'eif2s3', 'c1qtnf3', 'rad51c', 'nme5', 'rassf9', 'sec13', 'prrc2a', 'otud7b', 'cyb5r2', 'scaper', 'gamt', 'f8a1', 'syde2', 'kntc1', 'eif4e', 'spred2', 'tinag', 'cfap69', 'cacna1c', 'znf219', 'gng13', 'aurkc', 'kmt5b', 'zscan29', 'fezf1', 'dglucy', 'znf589', 'tmem251', 'specc1l', 'sgip1', 'kidins220', 'plpp1', 'spta1', 'ppip5k2', 'or2j2', 'cnot6l', 'wbp1', 'kif26b', 'fam43a', 'fkbp9', 'tubal3', 'dpysl4', 'or5ap2', 'gys2', 'dapk2', 'anapc15', 'btbd11', 'gpc4', 'tlr7', 'fgf12', 'edil3', 'aqp6', 'noxred1', 'arid3b', 'dcaf4l2', 'slc1a6', 'mycbp', 'col6a6', 'mctp1', 'cdh3', 'psma2', 'ppp4r1', 'ttk', 'rspo3', 'pcsk9', 'actn3', 'cdk11a', 'vps51', 'tincr', 'tspyl2', 'lhx2', 'acta1', 'rnf214', 'mfsd3', 'cd248', 'maml1', 'nfix', 'f13a1', 'cnksr2', 'rexo1', 'rbm22', 'c16orf95', 'kcnh5', 'rgs7', 'or8k1', 'rnf25', 'ccdc30', 'psmc6', 'psmf1', 'npepl1', 'tmub2', 'hdhd3', 'ankrd55', 'fancf', 'mfsd9', 'dab2', 'tdrd9', 'nsun4', 'c6orf58', 'ccdc174', 'capn13', 'sncb', 'snw1', 'ascl4', 'pip5k1a', 'tjp1', 'or2m3', 'coq6', 'klf12', 'calcr', 'znf687', 'clec3b', 'taf11l12', 'eps8l1', 'pcnx3', 'arhgap17', 'mfap4', 'ogfr', 'il12b', 'taf1d', 'ankrd50', 'catsperg', 'mbtps2', 'mcrip2', 'pon1', 'cldn23', 'e2f8', 'dpf2', 'parp12', 'camk1g', 'xpo4', 'hoxb13', 'krtap24-1', 'tmem164', 'magea12', 'mvd', 'rnpepl1', 'txndc11', 'fam120c', 'aen', 'got1', 'dnajb2', 'acin1', 'apoo', 'vipr1', 'gabrb3', 'polg', 'pde10a', 'ntn3', 'slc29a4', 'rasgrp4', 'itga8', 'lmntd2', 'p2ry6', 'tmem236', 'clmn', 'fmo4', 'cd74', 'nlrp7', 'pou2af1', 'ptges2', 'fdxacb1', 'ca12', 'cib2', 'socs7', 'tfpt', 'cic', 'plscr3', 'ocstamp', 'gdf2', 'dalrd3', 'mybpc3', 'rab7b', 'ggct', 'tas2r14', 'smyd5', 'cd6', 'itgb3', 'pnldc1', 'tmem265', 'il36b', 'rln2', 'slc17a2', 'grm1', 'tfg', 'setd9', 'nrg2', 'lrsam1', 'fbf1', 'znf44', 'ncdn', 'fam207a', 'prm1', 'ms4a15', 'ppef1', 'ptf1a', 'vps37c', 'glb1l2', 'maz', 'suclg2', 'topors', 'f9', 'ntan1', 'krba1', 'jdp2', 'pdzk1', 'mdfic2', 'prkar1b', 'actrt1', 'noc4l', 'fam104b', 'cfap73', 'camlg', 'nsg1', 'sypl1', 'ppp1r17', 'krtap4-16', 'or2c1', 'trim62', 'adgra1', 'ifitm10', 'sdc3', 'prlh', 'cdh15', 'igip', 'ptx4', 'trpm2', 'gli1', 'ankrd37', 'gfi1b', 'abcc3', 'sirpd', 'ervk3-1', 'sts', 'grm3', 'sema3f', 'slc9a3', 'hfe', 'necab2', 'krt222', 'pcyt1a', 'znf829', 'fcgr2a', 'rnf17', 'podn', 'dhx38', 'usp17l1', 'tpbg', 'ube2b', 'lpar5', 'hyi', 'fam219b', 'dazap1', 'umodl1', 'unc5a', 'pde1a', 'efcab13', 'tbck', 'plk1', 'treml1', 'gpx8', 'arglu1', 'lrrc66', 'mterf1', 'ten1', 'spata45', 'lsmem2', 'kcnk3', 'paqr8', 'znf324', 'maoa', 'scgb1a1', 'slc37a3', 'sox18', 'zdhhc18', 'tbc1d23', 'srgn', 'robo4', 'mobp', 'agxt', 'igf2bp2', 'or51f2', 'ehd3', 'zfp69b', 'utp23', 'slco1b1', 'piwil1', 'ndufb10', 'eda2r', 'isyna1', 'aamp', 'faf2', 'lama4', 'lce3b', 'tnfsf12', 'trio', 'gopc', 'nol9', 'cxcl10', 'fam228b', 'exosc1', 'prxl2a', 'ncor1', 'pdzrn4', 'dlg3', 'tent4b', 'bnipl', 'ercc6', 'pydc2', 'kat6a', 'sec23b', 'or2l3', 'hba2', 'ints3', 'mtmr4', 'itga6', 'atmin', 'abtb1', 'ovol2', 'znf117', 'apobec3d', 'b4galnt3', 'lilra2', 'znf678', 'dzank1', 'smim15', 'c1qtnf7', 'mettl24', 'adhfe1', 'iglon5', 'tex29', 'map3k19', 'trim51', 'shld2', 'sec24c', 'zdhhc14', 'p2ry2', 'polr2c', 'znf836', 'pate4', 'pfkfb3', 'or4f6', 'cyb5rl', 'ctnnbl1', 'tnfrsf19', 'thbd', 'cxorf65', 'camk1', 'blid', 'rxylt1', 'mapk9', 'hmga1', 'hoxc4', 'rfx6', 'aph1b', 'adra2b', 'aqp1', 'garnl3', 'rdh11', 'scnn1b', 'eml1', 'anp32e', 'gpld1', 'cox14', 'rnf4', 'adamts12', 'nt5m', 'znf266', 'mmp9', 'c11orf65', 'mfap5', 'cluh', 'ndufs6', 'elp3', 'psma5', 'slc24a2', 'mtfr1', 'tiam1', 'luzp4', 'tmem53', 'ces1', 'rab4a', 'lgals3bp', 'setd1b', 'tigd3', 'or4e1', 'pex5l', 'atp13a2', 'des', 'taar1', 'rcor2', 'dusp3', 'nodal', 'dtwd1', 'pappa2', 'cstb', 'ltf', 'cd109', 'gnrhr', 'pdhx', 'lrrn2', 'wasl', 'fam205a', 'tmem216', 'prob1', 'alg1', 'catsper4', 'ppp1r35', 'pla2g2d', 'st8sia6', 'znf763', 'krtdap', 'ap4e1', 'ppib', 'crtc3', 'fgd1', 'tmem138', 'nynrin', 'krtap19-3', 'ctsf', 'psmc2', 'uba5', 'nrxn1', 'adcy2', 'cers2', 'eml2', 'bnip5', 'spaca6', 'gaa', 'uckl1', 'zdhhc6', 'atrnl1', 'pi4ka', 'hcn2', 'lce6a', 'znf398', 'ano9', 'dync1i2', 'mettl23', 'efemp1', 'wdr82', 'dhrs4', 'camsap2', 'perp', 'pyhin1', 'csnk2b', 'slc35g3', 'galnt13', 'glt6d1', 'lpin3', 'tmem147', 'lamp3', 'sult1c2', 'bcam', 'clec6a', 'sftpc', 'zdhhc21', 'znf831', 'pcp4', 'zxdb', 'gpr156', 'anxa4', 'sycp2', 'lmntd1', 'apol2', 'pomgnt1', 'hjv', 'tdrkh', 'drd4', 'thrap3', 'ccdc152', 'cdk5r2', 'clasp1', 'arid5b', 'sc5d', 'arl1', 'col15a1', 'zfand2a', 'man1c1', 'scnn1d', 'znf292', 'cdc42se1', 'gdi2', 'tmem151a', 'cpsf2', 'armc2', 'cpsf1', 'tradd', 'cep44', 'pfn3', 'zpld1', 'acss2', 'folh1', 'pcdha9', 'pde6a', 'tlx3', 'bak1', 'trappc12', 'zfp92', 'trdmt1', 'gulp1', 'arrb2', 'zswim9', 'prpf38b', 'slamf1', 'ccdc73', 'shank2', 'or8k3', 'gtse1', 'kremen1', 'mmp27', 'alpk3', 'ctcfl', 'pabpc4', 'ccdc157', 'ddx51', 'ca4', 'cd300e', 'sncaip', 'dppa5', 'ermp1', 'znf576', 'rassf5', 'znf792', 'shroom2', 'pts', 'dsp', 'ccl19', 'or8b2', 'stard13', 'tmod1', 'galnt16', 'sfi1', 'sfrp5', 'fbxl15', 'slc35f4', 'hs3st3b1', 'upk1a', 'sgk3', 'azin1', 'coq3', 'spry1', 'papolg', 'grk5', 'ms4a3', 'pwwp3b', 'lrp11', 'uchl1', 'lama5', 'cyp2a6', 'pgap3', 'rgpd3', 'eri3', 'selenok', 'gatad1', 'heatr4', 'mns1', 'slc25a1', 'c1orf232', 'gzma', 'ankrd31', 'tsfm', 'znf558', 'cdc45', 'usp9x', 'sct', 'nlrp2b', 'arhgdib', 'tmprss4', 's100a1', 'scp2d1', 'cyth1', 'or2t12', 'rgs16', 'lrtm2', 'ar', 'nup188', 'mybph', 'c2orf74', 'adamts8', 'sln', 'lrp12', 'fnbp4', 'arfgap3', 'ssc5d', 'spi1', 'tshb', 'znf696', 'efhd2', 'cbarp', 'ltb4r2', 'sec31a', 'egf', 'fam81b', 'socs5', 'dctn4', 'il2ra', 'lrr1', 'gsdmb', 'tle2', 'mroh9', 'trib3', 'ssr1', 'snx33', 'znf224', 'scygr4', 'gadd45a', 'muc5ac', 'usp47', 'celsr3', 'krtap6-2', 'dync2h1', 'znf260', 'pkd2l1', 'msh2', 'ddx19b', 'slc25a13', 'dcaf1', 'c1orf189', 'dok1', 'or8k5', 'ctnnb1', 'znf808', 'aftph', 'cd82', 'ap3m1', 'b3galnt1', 'c11orf87', 'hsp90aa1', 'cnot1', 'slc25a52', 'sel1l2', 'slc25a17', 'tnfrsf1b', 'pilrb', 'kank3', 'lair2', 'bola3', 'fras1', 'piezo2', 'lvrn', 'melk', 'slc30a4', 'dmrt2', 'samd12', 'ino80', 'ppp2r5a', 'med18', 'smarca2', 'arrdc5', 'amigo2', 'amot', 'mettl21c', 'ctbp2', 'slc25a21', 'slc19a1', 'tlk2', 'rhoxf2b', 'paaf1', 'apobec3b', 'gabrg3', 'ncr3', 'pip4k2b', 'kif3a', 'glra3', 'or10a6', 'pkia', 'slco1b3', 'myh13', 'zbtb14', 'nanos3', 'slfn11', 'grwd1', 'usp54', 'ppp2r5b', 'sgpp2', 'acot6', 'c16orf78', 'shkbp1', 'tfam', 'mid2', 'numa1', 'sbk3', 'il3ra', 'pde2a', 'ptger1', 'obscn', 'nln', 'mgmt', 'rundc1', 'dsg2', 'g6pc2', 'amacr', 'sorbs1', 'nkx2-6', 'cyp27c1', 'plppr1', 'strn', 'tcerg1l', 'rtp2', 'has3', 'c8a', 'gdf9', 'zbtb8a', 'lrrc4c', 'ap3s2', 'znf394', 'gdf10', 'olfm3', 'krtap6-1', 'lrif1', 'dnase1l3', 'arid3c', 'myl5', 'akr1e2', 'enkur', 'clec4a', 'grb7', 'pomp', 'jak1', 'slc4a7', 'atf7ip2', 'mybphl', 'ddah2', 'slc44a2', 'xylt2', 'znrf1', 'ddx31', 'fyb2', 'yars2', 'parpbp', 'prkcsh', 'foxo6', 'spink13', 'hpgd', 'hip1r', 'ly86', 'tns2', 'znf445', 'nop9', 'adap2', 'fnip2', 'kpnb1', 'dcc', 'slc25a33', 'traf2', 'cox6b1', 'arpc1a', 'nod1', 'sash1', 'fam20a', 'rin2', 'sh3glb2', 'bnc1', 'tmem88b', 'gpr171', 'nudt12', 'reeld1', 'txndc17', 'coro7', 'disp1', 'znf605', 'spns2', 'kiss1', 'bcorl1', 'mpi', 'c5orf46', 'wnt6', 'mcm10', 'meis3', 'ptchd4', 'sgk1', 'alpg', 'cbl', 'cela2a', 'mpp7', 'pglyrp2', 'tnrc6c', 'nr4a2', 'calml3', 'mymk', 'znf524', 'xpnpep3', 'apobec2', 'mrto4', 'cutc', 'slc39a12', 'matk', 'exo5', 'rbms3', 'fah', 'cebpg', 'ndor1', 'tap1', 'c11orf91', 'kbtbd8', 'nsd2', 'calu', 'ldhal6a', 'wasf3', 'bend3', 'ahsa1', 'nrxn3', 'tmem92', 'cyp4f8', 'cacng8', 'gorab', 'adamts5', 'poc5', 'rab33a', 'tfdp3', 'mapk1ip1l', 'adck5', 'crp', 'metap2', 'tmc6', 'lrfn2', 'lratd1', 'armc10', 'dmxl1', 'n4bp3', 'lcor', 'ttc7b', 'bmp3', 'ttc23l', 'ssbp1', 'lrp1b', 'or2s2', 'frzb', 'znf750', 'bsnd', 'gosr2', 'asah2', 'smpd3', 'fthl17', 'fcrl5', 'm6pr', 'znf267', 'ttc21a', 'znf335', 'cyp26c1', 'stmp1', 'itpa', 'gpx5', 'pilra', 'magea9b', 'uros', 'tiam2', 'rpa4', 'tspan6', 'c17orf100', 'stath', 'slc4a9', 'ube2j1', 'or5c1', 'arpc5l', 'znf492', 'leng1', 'zc3h4', 'nbeal1', 'znf683', 'fam71d', 'ghrh', 'rfc3', 'dnajb9', 'rp1l1', 'znf785', 'mfsd2b', 'otud7a', 'tram1', 'btla', 'cox20', 'tuba3c', 'erp44', 'fam133b', 'trpm1', 'vcpip1', 'taar2', 'gsdmd', 'uts2b', 'chd2', 'hmgn1', 'acaca', 'stk35', 'arhgef10l', 'adamts16', 'myef2', 'bcl7c', 'hapln2', 'piwil3', 'dlk2', 'cdc40', 'cldn25', 'serpinf1', 'pfdn1', 'or2g6', 'slfn13', 'trap1', 'scn9a', 'ubxn2b', 'fhl3', 'spata2l', 'utp6', 'cfap126', 'ms4a2', 'tpp2', 'lamc2', 'actr1b', 'kdf1', 'cntnap5', 'c10orf95', 'cyp4f3', 'eid2b', 'hprt1', 'rtkn', 'ufsp1', 'spock3', 'znf597', 'c18orf63', 'nek2', 'mia', 'tle5', 'or13c5', 'gpatch2', 'crx', 'ggt2', 'hnrnpr', 'wdr49', 'fam126b', 'tcn1', 'adamts6', 'apbb1ip', 'kcnk18', 'smim10l2b', 'ifng', 'cad', 'or51a4', 'nab2', 'fmo5', 'padi6', 'aggf1', 'tmem154', 'havcr1', 'pef1', 'ndufaf6', 'tmem45b', 'chmp5', 'lonrf1', 'tssc4', 'pramef20', 'zfp36l1', 'crip2', 'hsd17b10', 'plxna3', 'rnf2', 'vstm5', 'mageb18', 'fscn3', 'grik5', 'tmem201', 'tbr1', 'itm2b', 'asip', 'hdac1', 'gldc', 'fam199x', 'or2b11', 'lig1', 'csf3r', 'lce3c', 'nrros', 'znf488', 'zc3h7a', 'map3k7cl', 'atp5pf', 'vpreb3', 'arhgap23', 'spink8', 'inpp4b', 'cartpt', 'lrch1', 'defb112', 'st3gal3', 'znf285', 'mxd3', 'fbxo38', 'pbk', 'ube3b', 'zbtb16', 'mylk2', 'nipsnap2', 'kctd16', 'f8', 'il25', 'hmx1', 'mief2', 'trpt1', 'ube2o', 'trim26', 'brdt', 'fem1a', 'pthlh', 'kng1', 'ankrd30bl', 'anapc7', 'chst12', 'gzmb', 'pax3', 'cdip1', 'tpsg1', 'tbc1d13', 'hpse2', 'btd', 'bhlhe41', 'supt20h', 'tmem123', 'zc3h6', 'edem3', 'col5a3', 'lrrc52', 'ifnw1', 'pth2r', 'aldh9a1', 'hbs1l', 'st6galnac6', 'prpf39', 'cct8l2', 'cmss1', 'atxn7l1', 'smim24', 'gchfr', 'atp9a', 'or6f1', 'nme6', 'syvn1', 'scp2', 'itprid1', 'mmp15', 'or1l8', 'plekha3', 'prc1', 's100a16', 'en2', 'thumpd2', 'trmt12', 'samd4a', 'tnfrsf10c', 'reep4', 'cenpm', 'dennd4b', 'cbln4', 'ubqln2', 'spata5l1', 'phldb3', 'lrp1', 'ehd1', 'rnf157', 'son', 'lgals14', 'epm2a', 'trmt61b', 'slc25a45', 'prmt9', 'ptgds', 'adamts14', 'magi1', 'b4galt5', 'cpox', 'kcnmb2', 'rffl', 'c19orf71', 'tifa', 'rap1gap', 'cnot7', 'fam240a', 'cacnb3', 'ipo4', 'micu1', 'gxylt1', 'slc25a4', 'tmem74b', 'c11orf1', 'prdx6', 'trpc4ap', 'c1orf43', 'sec11c', 'fosl2', 'stxbp1', 'ovol1', 'tenm4', 'aven', 'gpx4', 'foxo4', 'pomgnt2', 'znf304', 'zmynd19', 'isoc2', 'tepsin', 'bin1', 'c14orf93', 'pm20d1', 'smco1', 'krt39', 'tlr4', 'tmem220', 'alas1', 'ubash3b', 'znf626', 'or8g5', 'pcdhb5', 'rab3c', 'miip', 'hoxa3', 'ncald', 'nckap5', 'faf1', 'cfap206', 'ptpre', 'pdgfrl', 'actl8', 'pomt1', 'aamdc', 'psme1', 'tmtc1', 'trpm5', 'mast1', 'chgb', 'fbll1', 'dgkz', 'adam9', 'hps6', 'ebpl', 'actc1', 'ddx54', 'slc7a9', 'elp1', 'ly6g6d', 'nars2', 'aspg', 'klhl18', 'alox5ap', 'cpb1', 'tmcc3', 'cul9', 'or4a47', 'golgb1', 'ephb1', 'or2w1', 'tmie', 'znf789', 'prss51', 'fkbp10', 'sema4b', 'klhl5', 'dcaf8', 'ddx55', 'cfap52', 'gpr157', 'nt5dc1', 'wls', 'nsmce2', 'or10t2', 'kif1c', 'c6orf47', 'esyt3', 'dctn2', 'zhx1', 'cep78', 'rbm11', 'klrd1', 'or52e2', 'lsm7', 'scube3', 'scyl2', 'uhrf1bp1l', 'siglec9', 'zswim5', 'fastkd2', 'dmp1', 'dhx33', 'glis1', 'prkch', 'angptl3', 'ackr1', 'pirt', 'znf382', 'tenm1', 'naaa', 'trpc6', 'c20orf144', 'vsir', 'carmil1', 'podxl', 'adgrg7', 'tet1', 'fundc2', 'gpr149', 'znf232', 'gspt1', 'maged2', 'fam83c', 'cops8', 'smurf1', 'vcp', 'btg2', 'nabp1', 'kazn', 'tmem116', 'pitx3', 'hbz', 'arhgef17', 'vac14', 'calml5', 'ophn1', 'defb118', 'rhobtb1', 'frat1', 'scgb1d2', 'rccd1', 'magee2', 'hivep2', 'man1b1', 'qsox2', 'tvp23a', 'slc26a3', 'txnl4b', 'stac', 'sync', 'tmprss11a', 'kcnn3', 'traf3', 'btbd6', 'rsf1', 'trappc6b', 'sbspon', 'dnttip1', 'ddit3', 'etnppl', 'tssk4', 'pelp1', 'gnl2', 'nlrp2', 'mcoln3', 'pcdha11', 'fuz', 'myo1d', 'lclat1', 'gmfb', 'rsph14', 'sirpb1', 'arhgef26', 'ipp', 'npbwr1', 'tbc1d28', 'dynlt3', 'spanxn1', 'egln2', 'tab3', 'akr1b15', 'lrrc14', 'dpt', 'bod1l2', 'wdr31', 'guf1', 'golt1b', 'tmem255a', 'phf3', 'prom2', 'nr2c2ap', 'tf', 'tnfrsf18', 'trmt6', 'hnrnpul1', 'fam163a', 'caprin2', 'ttc1', 'chchd7', 'tmem87b', 'sppl2c', 'ppp1r42', 'pde5a', 'prdm1', 'acad10', 'plpp3', 'srp19', 'lnx1', 'gapt', 'ucp2', 'or3a2', 'sppl3', 'sdf4', 'or10k1', 'tlcd3a', 'cltc', 'nucb1', 'cenpb', 'tnks1bp1', 'serpine3', 'tusc2', 'trpc5', 'il17f', 'mob3c', 'cdc23', 'izumo3', 'casp5', 'ipmk', 'prdm4', 'casc3', 'mmp26', 'cmas', 'irak2', 'or1a1', 'smcr8', 'apobec3h', 'dpy30', 'mmrn2', 'asb17', 'ccdc178', 'c11orf21', 'map3k9', 'dlg2', 'ppm1k', 'rab27a', 'otx1', 'or1a2', 'ptprh', 'efnb1', 'ssbp4', 'rhno1', 'cnst', 'spata3', 'dusp19', 'tmem221', 'sp9', 'znf614', 'sntg2', 'krtap3-2', 'ttc4', 'msh3', 'c11orf45', 'cemp1', 'znf720', 'b4galt6', 'neurod6', 'phgr1', 'cntnap4', 'cabp1', 'gpr15', 'gabpb2', 'dera', 'hmcn2', 'krt5', 'capn12', 'ap4s1', 'snx12', 'gna13', 'pclo', 'aff4', 'pla2g4e', 'atg10', 'krba2', 'kiaa0930', 'tmem262', 'p3h2', 'ptprb', 'magea10', 'map4k2', 'plxnb2', 'trat1', 'satb2', 'map1lc3b', 'pth2', 'orc6', 'vamp7', 'nhsl1', 'plcz1', 'apbb3', 'pex12', 'banf2', 'c9orf131', 'psd', 'fxyd3', 'fjx1', 'rogdi', 'klk13', 'actr10', 'nppb', 'zfp41', 'gucy2c', 'snap29', 'tex36', 'fut5', 'grsf1', 'proz', 'or1q1', 'enox2', 'olfm1', 'zfp64', 'riox1', 'ceacam1', 'lipi', 'foxb1', 'dph1', 'dipk1b', 'snapin', 'igf1r', 'ptpn3', 'dock10', 'ccdc9', 'sema3c', 'nrp1', 'dnlz', 'bahcc1', 'fbxl5', 'pogk', 'timp4', 'or13c8', 'por', 'exoc7', 'aqp9', 'abcb11', 'ms4a6a', 'slc13a1', 'rln1', 'bcs1l', 'lat', 'znf229', 'med12', 'vsig4', 'hoxc13', 'ggtlc1', 'ghitm', 'hhla1', 'ndufs3', 'marf1', 'rfx2', 'aqp10', 'mpg', 'etfbkmt', 'znf888', 'pwwp3a', 'teddm1', 'hyls1', 'triqk', 'ube2f', 'inpp5e', 'bmp4', 'lcmt1', 'myb', 'cmc1', 'camsap3', 'znf66', 'asphd2', 'grxcr1', 'tcf21', 'ces2', 'rab11fip3', 'znf296', 'fetub', 'msl2', 'sprn', 'or5w2', 'pyurf', 'ncor2', 'plagl2', 'cdh9', 'znf7', 'sec14l6', 'c5orf47', 'c11orf58', 'gba2', 'ulk3', 'asf1a', 'rab29', 'rabac1', 'tmem74', 'c19orf81', 'pcdh7', 'klhl31', 'ano5', 'bpifb4', 'smim36', 'yipf5', 'spic', 'ly6g6f', 'syngr1', 'vgf', 'znf430', 'mpc1l', 'sptssb', 'or5p2', 'chpt1', 'sv2c', 'psg9', 'chac1', 'kdm1b', 'znf302', 'smpx', 'nat14', 'megf9', 'iqce', 'usp22', 'plk5', 'slc2a4', 'shq1', 'paep', 'card18', 'gpatch1', 'tspan14', 'gdpd4', 'tgm5', 'rcan1', 'tamm41', 'ddx20', 'alk', 'pcdhb3', 'atp7b', 'c4orf54', 'fam117a', 'sh3bp5', 'eaf2', 'dmgdh', 'ttc37', 'larp1', 'tspo2', 'kera', 'sfrp1', 'myl12b', 'tex50', 'znf878', 'znf766', 'pramef2', 'sec62', 'scgb1c2', 'znf510', 'rab28', 'cdk1', 'tmem242', 'six2', 'plaat4', 'gnpat', 'hspa6', 'hs3st6', 'rnase7', 'kiaa0040', 'apof', 'atad2', 'trub1', 'adh7', 'zswim8', 'c10orf105', 'lyzl1', 'myh9', 'kansl3', 'creb3l2', 'sdhaf4', 'adpgk', 'or51a7', 'nr1h4', 'isg20', 'plpp6', 'serpina4', 'dock7', 'igfl1', 'srrm1', 'arg2', 'cep89', 'kiaa1755', 'plppr3', 'polr2e', 'kcnd1', 'pcyox1l', 'axdnd1', 'alx4', 'or52w1', 'rph3al', 'kcnn4', 'cysltr1', 'spg21', 'or6c65', 'usp27x', 'cort', 'mcmbp', 'tbc1d31', 'ldb1', 'lbhd2', 'isca2', 'kiaa1143', 'epha7', 'gspt2', 'igflr1', 'znf623', 'nutm2a', 'ret', 'fam53a', 'sohlh2', 'ccbe1', 'prkaa2', 'actn4', 'tex52', 'cul1', 'asphd1', 'gsto2', 'usp50', 'c20orf27', 'acly', 'cetn2', 'tmem244', 'lyz', 'pitpnb', 'supt7l', 'krtap5-3', 'or4c12', 'tinf2', 'htn3', 'sh3yl1', 'fgfr2', 'znf334', 'iqck', 'znf595', 'hbd', 'flad1', 'dhx37', 'lrrc38', 'ppm1j', 'agtpbp1', 'smarcc2', 'gsta2', 'or7d2', 'c3orf70', 'cldn11', 'mrap', 'coq10b', 'pcdh11x', 'pcdhb9', 'naa16', 'iqch', 'mmp21', 'prlhr', 'pex19', 'atp5mc3', 'glipr2', 'nkain2', 'tm2d1', 'tnpo3', 'or2t4', 'tusc1', 'pitpnm1', 'anapc10', 'hormad2', 'nupr2', 'pdpr', 'tnfrsf21', 'thoc7', 'il24', 'cdc6', 'szrd1', 'rcn2', 'krt7', 'kcnj4', 'tnfrsf8', 'igfbp1', 'dpf1', 'cnrip1', 'ccl26', 'znf396', 'cyth3', 'tmem158', 'ciao3', 'klhl29', 'pdcd10', 'cxcl12', 'fam186a', 'or2b3', 'ktn1', 'heatr3', 'mc3r', 'rpp21', 'p4ha2', 'arl13b', 'septin5', 'pogz', 'ptprk', 'emg1', 'eml4', 'sra1', 'e2f4', 'rfpl4al1', 'gpr17', 'nipal1', 'vps45', 'kras', 'abhd17c', 'krtap1-5', 'dsel', 'ywhaz', 'nup107', 'lgi4', 'znf461', 'ccdc160', 'ttll7', 'pgbd2', 'kctd18', 'clybl', 'frmd7', 'ccsap', 'dcaf8l2', 'abhd16a', 'tle4', 'htatip2', 'lgals8', 'aatk', 'fcgbp', 'runx1', 'emc3', 'pcdhga11', 'nfatc4', 'bcl9l', 'polrmt', 'aifm3', 'sft2d2', 'ifrd2', 'tanc2', 'mta1', 'tmem104', 'pkmyt1', 'patj', 'actl6a', 'samd11', 'tmem190', 'mbd6', 'cib1', 'gtpbp10', 'dpp6', 'alcam', 'tmod3', 'shox', 'gucy2f', 'pdlim1', 'scg2', 'tnpo1', 'akirin2', 'dcaf12l2', 'drc7', 'krt23', 'elspbp1', 'uxt', 'enpp6', 'c12orf43', 'znf671', 'phf8', 'tmco6', 'nectin3', 'pdgfra', 'fam71f2', 'smim26', 'gsap', 'actg1', 'nkx2-5', 'rgs14', 'cep55', 'syt7', 'slc35f5', 'gtf3c5', 'tbkbp1', 'nsun7', 'spout1', 'ccl23', 'foxe1', 'hmbs', 'nus1', 'snrnp40', 'ap1s3', 'spice1', 'celf6', 'cwc25', 'nubpl', 'usp25', 'myh7', 'lsm10', 'slc8a3', 'lonp1', 'rab5a', 'mad2l2', 'lgals12', 'cdk17', 'znf322', 'trak1', 'rlbp1', 'znf207', 'six1', 'fgl2', 'or13d1', 'urad', 'ap2a2', 'cxcr6', 'gab1', 'abcc11', 'zic3', 'ubqln1', 'ppt1', 'sp5', 'gbp1', 'alg13', 'zdhhc7', 'fam219a', 'c17orf75', 'nrep', 'stom', 'adcy10', 'acot9', 'sparcl1', 'upk1b', 'fbxw5', 'hadha', 'slc37a2', 'tceal3', 'tph1', 'ndufb11', 'syce1', 'polr2l', 'rhbdl2', 'nlrp14', 'rhbdf1', 'nub1', 'tspear', 'tubb6', 'ajuba', 'tmem41a', 'zap70', 'ube2l5', 'mxra8', 'pdp1', 'elp4', 'ifi35', 'mycbpap', 'slc39a14', 'krtap5-7', 'znf530', 'pcdha7', 'rergl', 'plp2', 'onecut3', 'rnf20', 'cldn19', 'fut11', 'kdm4c', 'elp2', 'ftmt', 'apip', 'psmg2', 'gpam', 'nufip1', 'rsph9', 'rnf44', 'tspan11', 'scimp', 'raph1', 'rnf114', 'nadk2', 'scn11a', 'lactb2', 'qtrt1', 'ms4a8', 'aptx', 'dtymk', 'ebi3', 'odf2', 'opn1sw', 'znf606', 'cd163l1', 'cnot3', 'znf835', 'il1r1', 'lca5', 'guca1c', 'zcrb1', 'recql', 'wdr24', 'hmgcs2', 'mettl3', 'foxp4', 'chp1', 'rnf216', 'plxdc2', 'c1qtnf12', 'rxrg', 'rufy4', 'fancd2os', 'ccr1', 'fndc9', 'agpat4', 'epha10', 'tyrp1', 'nhlrc2', 'ablim3', 'pigbos1', 'cdca7l', 'atad1', 'mboat7', 'sec14l5', 'zik1', 'aire', 'g3bp2', 'lep', 'slc52a2', 'myl3', 'akap8', 'bsph1', 'fsip2', 'slc16a14', 'naif1', 'dock9', 'masp1', 'pde8b', 'acbd3', 'brix1', 'rnf130', 'clcnka', 'rnf223', 'plac1', 'shoc1', 'dcbld2', 'rgs7bp', 'hacd1', 'cideb', 'f13b', 'or1n2', 'pik3r3', 'snip1', 'or52e5', 'atp6v1e2', 'lypd4', 'art1', 'tusc3', 'jup', 'plekhn1', 'myot', 'rhce', 'tmem187', 'atp5f1b', 'orc4', 'c1orf68', 'supv3l1', 'map9', 'adamts3', 'grm7', 'ccdc85b', 'grk4', 'tdp2', 'tada2b', 'cdx1', 'lim2', 'rbfox2', 'sp110', 'ms4a5', 'scamp3', 'etdc', 'serinc3', 'wdr90', 'ccdc93', 'or5m3', 'itgb7', 'qpctl', 'psmb9', 'prrx2', 'pcnx4', 'znrd2', 'taf7l', 'col4a6', 'slc18a1', 'sox17', 'snrnp200', 'galnt15', 'mboat4', 'rb1', 'jph3', 'vps13c', 'pcdhga10', 'il36a', 'eddm13', 'ccdc87', 'rrnad1', 'fam71f1', 'rnf6', 'or56a3', 'cyp4x1', 'trmt5', 'whrn', 'cfap43', 'or6j1', 'lgals2', 'atp6v1g3', 'zfand4', 'smim21', 'btn2a1', 'cct8', 'pms1', 'pole4', 'cish', 'cyp17a1', 'arpc5', 'tg', 'mfsd4b', 'vat1', 'zup1', 'gsc2', 'rras2', 'foxh1', 'pnpla7', 'bcl9', 'aspscr1', 'susd3', 'or5k2', 'klln', 'tmem183a', 'arf1', 'robo2', 'map3k5', 'lars2', 'slc5a4', 'riox2', 'bad', 'pate3', 'htt', 'slc27a1', 'or2t10', 'cdkl4', 'trmt44', 'pdgfa', 'celf2', 'ube4a', 'gnaz', 'slc4a1', 'ythdf2', 'calm2', 'ipo13', 'rad9b', 'c1orf127', 'dusp15', 'rbks', 'znf700', 'znf521', 'gpat3', 'plekhh2', 'rnf14', 'ubxn2a', 'gpank1', 'egln1', 'wrap73', 'wdr61', 'p3h3', 'pdzd4', 'ctsk', 'plau', 'akr1a1', 'itpripl2', 'rhpn2', 'myf5', 'lrrc43', 'oaz2', 'dkk3', 'cdh8', 'gbp4', 'nwd2', 'trpm4', 'casp7', 'esm1', 'ido2', 'znf787', 'skiv2l', 'izumo1', 'znf90', 'gcm2', 'gypc', 'mbd3', 'selenoo', 'lmo2', 'mtrr', 'oscp1', 'icam4', 'nlrp13', 'ct55', 'tmem121b', 'sh3bgr', 'cdyl', 'kif20b', 'chat', 'tmprss2', 'nfasc', 'pacrg', 'tmem100', 'spata31a5', 'slc16a7', 'tnxb', 'atp5mg', 'ddx28', 'fgf18', 'wdr43', 'mab21l3', 'hps5', 'ceacam21', 'plekha4', 'coil', 'mt-nd1', 'znf133', 'srl', 'slc66a3', 'bloc1s2', 'dnajc5g', 'dhfr', 'vsig2', 'hbg1', 'vps8', 'rhex', 'dmd', 'isca1', 'galc', 'ppp6r3', 'gdap1l1', 'tff1', 'cd83', 'thap12', 'pip4k2c', 'gask1a', 'or7a5', 'celsr1', 'il21', 'cenpo', 'klhl12', 'crisp1', 'slc29a2', 'cd274', 'zbtb4', 'sh3gl1', 'nagk', 'smim4', 'ramp3', 'zc3h13', 'nop53', 'commd4', 'sema6c', 'cmtm3', 'lemd3', 'tceal9', 'tmem41b', 'tmem272', 'scgb3a2', 'dpp4', 'c15orf48', 'fam135a', 'fbxo11', 'suz12', 'foxd3', 'cpne5', 'map3k7', 'xkrx', 'trmt112', 'znf891', 'nfkb2', 'itgav', 'cetn1', 'rb1cc1', 'rrp8', 'acbd5', 'thy1', 'thbs4', 'uhrf1', 'tpbgl', 'gcgr', 'ier2', 'nudt3', 'kiaa1549', 'slco6a1', 'dcst2', 'nbas', 'kiaa2026', 'sec16b', 'mtor', 'wnt9a', 'sardh', 'vstm1', 'gas2l2', 'rcc1', 'cep295nl', 'or1s1', 'mroh2b', 'ch25h', 'snx16', 'or5m9', 'pga5', 'postn', 'lage3', 'sim2', 'rnf146', 'nanos2', 'crtap', 'sh3bp5l', 'wdcp', 'klc1', 'tp53aip1', 'hdgfl3', 'srsf5', 'mtch2', 'ptpmt1', 'foxr1', 'dnajb11', 'cshl1', 'fcrl3', 'prr33', 'tdrd15', 'atm', 'st6galnac2', 'adamts7', 'znf317', 'sgo2', 'gcnt4', 'spcs1', 'slco2a1', 'capsl', 'nrip3', 'tspan19', 'samd9', 'dcaf17', 'kif9', 'ostm1', 'c1orf52', 'cdk2', 'llph', 'liph', 'rnf133', 'znf783', 'casp8ap2', 'peak1', 'hoxb7', 'eif2s2', 'synpo2l', 'fbxl7', 'n4bp2l2', 'vwde', 'rgs4', 'krtap1-4', 'ybx3', 'ptpn2', 'cdca7', 'bzw2', 'trappc1', 'ppp6c', 'smim6', 'or4k15', 'ctps1', 'mast4', 'syce3', 'bmp5', 'shisa4', 'zfp62', 'cetn3', 'cldn4', 'zbtb40', 'adgre5', 'exosc9', 'ebf1', 'gata1', 'coq10a', 'tprg1l', 'scaf8', 'egr1', 'mast3', 'clcn4', 'c10orf120', 'psd4', 'amigo1', 'nim1k', 'slc27a4', 'chaf1b', 'napa', 'krtap15-1', 'znf776', 'znf585a', 'dcaf12l1', 'znhit1', 'nkx6-3', 'srsf9', 'npc1', 'znf174', 'zcwpw1', 'dlgap5', 'kcne3', 'fam20b', 'selenoh', 'sytl2', 'hsh2d', 'gpd1', 'cst9', 'kin', 'tex13b', 'nop56', 'tmem18', 'carmil2', 'or2g3', 'susd4', 'hoxa9', 'mdh2', 'rec8', 'cep135', 'nup93', 'tubb', 'hint1', 'uba2', 'fam118a', 'cdt1', 'glyatl3', 'dact2', 'slc20a2', 'snx31', 'znf598', 'sirpb2', 'yes1', 'slpi', 'mccd1', 'fgfr1op2', 'ccdc105', 'slc46a1', 'brpf3', 'tmem270', 'trim8', 'ugt1a10', 'znf217', 'frem2', 'fyttd1', 'hsd3b1', 'sfn', 'bmp2k', 'epm2aip1', 'aph1a', 'med4', 'cfhr3', 'fgd4', 'vipas39', 'hbm', 'cnep1r1', 'cwc22', 'fgf17', 'tmed2', 'ss18l1', 'cox7a1', 'dppa2', 'hmgb2', 'actl7a', 'faah2', 'lcn8', 'clec5a', 'stk32c', 'emp2', 'nol4', 'cfap99', 'marveld3', 'ddx24', 'vstm4', 'ankrd22', 'tmem94', 'wfdc12', 'exoc6b', 'gpr1', 'dbr1', 'tnks2', 'pomc', 'ppp4r4', 'gsk3b', 'gpr176', 'dhodh', 'ybey', 'c17orf97', 'epb41l1', 'fam214b', 'slc34a3', 'esd', 'nmt2', 'atg2b', 'gan', 'akip1', 'grik3', 'znf556', 'ccdc124', 'sos1', 'fam83b', 'xdh', 'reg3a', 'ap1m1', 'gemin4', 'atpaf1', 'ubac1', 'taf11l13', 'tcf20', 'chaf1a', 'gle1', 'disp3', 'gpalpp1', 'otog', 'cilp2', 'rspo4', 'btn1a1', 'ogfod1', 'hoga1', 'slc22a12', 'cfap97', 'cdh20', 'vwa3a', 'amdhd2', 'upk2', 'eppin', 'acot1', 'cox6a1', 'ugt2b7', 'ctxn1', 'fam24a', 'or10j1', 'pacsin2', 'ccnb1ip1', 'col6a5', 'hmsd', 'c1orf159', 'ralgps1', 'znf679', 'tspan15', 'mdm4', 'sh2d4a', 'scaf11', 'c2orf92', 'kcnk15', 'odf3', 'il36rn', 'avpr1a', 'c10orf99', 'pcdh9', 'lrrfip1', 'zmynd11', 'ccr9', 'or5k4', 'tmem26', 'arhgef40', 'rbpjl', 'zxda', 'ttc31', 'erp29', 'far2', 'pramef27', 'gnl3', 'sirt6', 'azin2', 'zpr1', 'c19orf53', 'grb2', 'dnah8', 'rragb', 'sh3glb1', 'c7orf50', 'orai3', 'scart1', 'phf5a', 'msgn1', 'ppdpfl', 'ptprz1', 'naa60', 'lima1', 'chi3l2', 'sfxn5', 'gyg1', 'slc6a6', 'esco1', 'akap8l', 'atp10a', 'brinp3', 'ppcs', 'cxcr3', 'znf225', 'c8orf74', 'lmnb2', 'cabin1', 'znf276', 'tgm6', 'cfap47', 'nuak2', 'sp100', 'btc', 'hspa9', 'blmh', 'lnpep', 'sox9', 'fam240b', 'emilin2', 'clcn5', 'minpp1', 'ttll10', 'slc45a4', 'tacr1', 'rab11fip2', 'spo11', 'ccdc60', 'utp18', 'fam193a', 'fcmr', 'krt77', 'fam149a', 'cd46', 'lrriq4', 'tc2n', 'utp20', 'ryk', 'ppp3ca', 'slc43a1', 'rab38', 'ptgr1', 'rngtt', 'ccl13', 'sprr2d', 'agtr1', 'myo9a', 'mis12', 'tspo', 'angptl2', 'znf230', 'ccdc28b', 'serac1', 'dio2', 'gipc3', 'znf709', 'mael', 'phc3', 'eif3a', 'krt82', 'znf641', 'sult6b1', 'c12orf65', 'rgcc', 'fgf22', 'fcho1', 'spef1', 'mnx1', 'exosc2', 'tmem237', 'tceal4', 'prmt6', 'sphk1', 'ecm1', 'crygb', 'ccdc86', 'or8j1', 'slc9a3r2', 'pars2', 'ttc22', 'cdk5', 'foxred1', 'tipin', 'tmem40', 'bmi1', 'ash2l', 'dmbt1', 'twsg1', 'mapk4', 'utp3', 'nans', 'arsd', 'lce3e', 'fos', 'dzip1l', 'plxna4', 'ankrd18b', 'pitpnm2', 'chic1', 'larp4b', 'rgs10', 'u2af1l4', 'usb1', 'taz', 'ankdd1b', 'ppic', 'lyrm7', 'slc6a1', 'slc22a31', 'tbc1d22b', 'cntnap1', 'vps39', 'fam227a', 'wfdc11', 'plpbp', 'uxs1', 'bloc1s5', 'c3', 'tbc1d15', 'gpr78', 'islr2', 'raet1g', 'c11orf80', 'nfatc2ip', 'pnliprp3', 'sox12', 'slitrk1', 'sstr4', 'ep300', 'pbxip1', 'imp3', 'krtap5-8', 'fbxw10', 'znf684', 'stx10', 'grk1', 'dnajc6', 'pttg2', 'rag1', 'fbxo42', 'peli1', 'rbm17', 'tmem156', 'ifna16', 'evl', 'pdzd11', 'fancm', 'znf366', 'fam186b', 'mef2a', 'atad3b', 'uba6', 'cyp2e1', 'gtsf1', 'cables1', 'ythdf1', 'slc22a13', 'hspa14', 'prdm11', 'mtfr2', 'znf512b', 'lonrf3', 'amer3', 'tle3', 'nutm2e', 'figla', 'reep5', 'spdye1', 'st3gal5', 'fbxw9', 'xk', 'nudcd1', 'ddx21', 'mms19', 'znf280d', 'wfdc1', 'ogfrl1', 'ddhd2', 'ints1', 'vldlr', 'dkk1', 'nap1l4', 'rmnd5a', 'alox12', 'ptpn5', 'tmem241', 'fxyd7', 'jakmip3', 'ccdc187', 'gpatch3', 'mcf2', 'brk1', 'mmp3', 'kif13b', 'cand1', 'prkab2', 'tsga13', 'tnfsf8', 'eps15', 'macrod1', 'frmd4b', 'mea1', 'atg16l2', 'eif2ak4', 'cryz', 'fbxo25', 'guk1', 'taf5', 'fbxo5', 'or8b8', 'aldoc', 'znf234', 'hif1a', 'or10g8', 'clspn', 'mlh3', 'hagh', 'hsbp1', 'fam227b', 'hic1', 'prss38', 'rfng', 'xpr1', 'mreg', 'trim29', 'accs', 'pmel', 'cracr2a', 'hoxd1', 'ifi44l', 'tmem81', 'iqsec1', 'ruvbl1', 'slc25a36', 'zkscan5', 'arhgap19', 'cabyr', 'peli2', 'c17orf78', 'btbd1', 'gjc2', 'dda1', 'nek1', 'parvb', 'cyb561d1', 'kcnma1', 'dpysl2', 'tubgcp5', 'slc25a31', 'upf2', 'znf30', 'dgkk', 'uprt', 'hpf1', 'tslp', 'or2t2', 'rxra', 'pcdh11y', 'c3orf52', 'cabp7', 'zbtb17', 'ttbk2', 'slc52a3', 'phax', 'grid2ip', 'scfd1', 'gata5', 'acsf3', 'stk25', 'cdca8', 'lmln', 'usp45', 'ncoa4', 'hip1', 'pnlip', 'klhdc1', 'abcd4', 'aldh1a3', 'wscd1', 'ctsv', 'znf804a', 'ang', 'bpnt1', 'efna5', 'sgcz', 'ccdc80', 'lgi1', 'ralgapb', 'per2', 'sowahd', 'lypd6b', 'kat6b', 'kiaa0232', 'smtnl1', 'siah2', 'exosc3', 'gas8', 'znf784', 'mt-co2', 'lrrtm3', 'ap2m1', 'nrl', 'spag9', 'crls1', 'dhcr24', 'zwilch', 'gja1', 'pradc1', 'pskh1', 'ca13', 'gatad2b', 'sgcb', 'adar', 'tmem269', 'csf1r', 'ranbp9', 'esf1', 'spint4', 'slc38a5', 'nlgn2', 'smg1', 'fbxo3', 'st8sia3', 'xage2', 'snca', 'arhgdia', 'xage3', 'snx6', 'dock2', 'or6k6', 'tceal2', 'slc5a11', 'ca5b', 'smim8', 'gins3', 'col6a2', 'acat2', 'gip', 'usp36', 'cep97', 'krtap11-1', 'amelx', 'paqr3', 'slc38a3', 'traf5', 'boc', 'glo1', 'h6pd', 'hk1', 'etv3l', 'fbxo33', 'c1orf100', 'adgrv1', 'gtf2e1', 'ptafr', 'plaa', 'tsc22d1', 'rgs13', 'abcf1', 'ghdc', 'fam131c', 'ndufb9', 'paqr6', 'sema5a', 'eri2', 'smad5', 'wdr83', 'fer1l5', 'celsr2', 'tmem273', 'cnih2', 'znf48', 'snap47', 'vrk3', 'septin3', 'tdrd6', 'gss', 'kif26a', 'ppp1r15b', 'ptrh2', 'il17d', 'nin', 'lipm', 'klf6', 'mrgpre', 'cox10', 'dennd1c', 'zdhhc1', 'eme2', 'ccer1', 'tmem88', 'spata32', 'eln', 'ubr7', 'bpifa3', 'lingo3', 'bend6', 'stx5', 'ubl3', 'padi3', 'ppp1r9a', 'ubd', 'sart1', 'lyzl6', 'ezh1', 'stk3', 'strip2', 'wscd2', 'fam98b', 'kdm4a', 'hoxa4', 'or12d2', 'mc5r', 'ache', 'phf19', 'brd4', 'psen2', 'nudt17', 'capn2', 'ptdss1', 'thsd1', 'spin1', 'atp23', 'apc2', 'rrm2', 'qsox1', 'dock6', 'tep1', 'imp4', 'ccn6', 'synrg', 'kif6', 'or4f4', 'prm3', 'slc25a35', 'ube2d1', 'slc43a3', 'cspg5', 'pglyrp4', 'fstl4', 'smim5', 'phf6', 'pex16', 'septin9', 'lef1', 'mtnr1a', 'arhgef35', 'apol5', 'paox', 'tmem143', 'gnb1l', 'syt2', 'bcas2', 'gnai1', 'ugt1a4', 'eepd1', 'cdk2ap2', 'jchain', 'fxyd6', 'vamp2', 'evpl', 'tmco5a', 'trim59', 'cisd2', 'ppwd1', 'nt5dc4', 'oga', 'sfxn1', 'gprc5b', 'nup160', 'gltp', 'pnpla8', 'aagab', 'ptpn23', 'trim13', 'rap1gds1', 'ldb3', 'or5l2', 'rhbdl1', 'spata12', 'c11orf95', 'efhd1', 'sh2d1a', 'cfh', 'rin1', 'lig4', 'exoc5', 'sdha', 'taf11l8', 'cep128', 'serpina10', 'psenen', 'lax1', 'sybu', 'xpo1', 'lmbrd1', 'dmrta1', 'vwc2l', 'mctp2', 'bola1', 'basp1', 'nme3', 'or10g2', 'trappc3', 'igfn1', 'kirrel3', 'nol11', 'ggt7', 'lin54', 'linc02218', 'alkbh6', 'rad51', 'mfn1', 'lama1', 'cept1', 'insc', 'pde8a', 'ubap2l', 'spink14', 'gfpt1', 'serinc5', 'zbtb43', 'ca6', 'atp6v0a4', 'sh2b1', 'homer3', 'pygm', 'acaa2', 'anapc5', 'efcab6', 'rcor3', 'dok3', 'kcnk2', 'serpinb2', 'lrrc71', 'cnnm4', 'tapbp', 'gabrr2', 'tmc3', 'glod4', 'knstrn', 'znf593', 'c6orf226', 'c1orf115', 'il17a', 'doc2b', 'dmtf1', 'dusp10', 'a4galt', 'srsf4', 'slc38a10', 'snap25', 'galm', 'bin3', 'bcan', 'ppm1h', 'dnah5', 'znf670', 'naxe', 'snrpg', 'asap1', 'atl1', 'ercc3', 'myom2', 'adra1d', 'zhx3', 'eftud2', 'mnda', 'fam241b', 'pigg', 'clec17a', 'ufl1', 'ddc', 'epn1', 'obi1', 'or52e4', 'mlf1', 'fancb', 'chac2', 'uevld', 'ppp4r3c', 'sesn1', 'foxf1', 'galnt3', 'or2k2', 'aebp2', 'jph4', 'erich4', 'dnajc4', 'kdm3a', 'actr1a', 'pip5kl1', 'cyb5d1', 'serpinb8', 'sh3bgrl', 'rasal1', 'btk', 'prm2', 'emc7', 'lactb', 'rnf212', 'kcnk4', 'gla', 'cmpk2', 'krt2', 'nps', 'slc25a29', 'rarres2', 'syt8', 'lrrfip2', 'myod1', 'sfmbt2', 'pclaf', 'bean1', 'znf282', 'kremen2', 'syce2', 'zmat2', 'aplp1', 'tmem229a', 'tiprl', 'zbtb9', 'wnt5a', 'gfap', 'pde7a', 'baat', 'fuca1', 'tubb8', 'tedc2', 'flot2', 'odf1', 'neo1', 'fstl5', 'tmprss11b', 'tgfa', 'or2ae1', 'tssk3', 'ube2w', 'lasp1', 'tex101', 'znf502', 'dnah12', 'cacnb4', 'rnf183', 'eid3', 'tom1l1', 'thap7', 'depdc1', 'lgi3', 'lrp2', 'vrtn', 'ldlrap1', 'reep6', 'tbc1d8', 'foxo3', 'itgb4', 'mbnl2', 'or2i1p', 'bag6', 'trim24', 'taf2', 'arap2', 'c7orf33', 'atf7ip', 'znf718', 'tekt1', 'tpd52l2', 'oprm1', 'fubp1', 'slc18b1', 'dnajb4', 'pex11b', 'gsta3', 'fam168a', 'tmem165', 'serpina9', 'usp29', 'med26', 'dcp1a', 'gnpda1', 'lhfpl6', 'proca1', 'znf837', 'clcn2', 'or6c75', 'otud3', 'hecw1', 'tmem106a', 'cnot8', 'cd200r1', 'rpa1', 'slc1a5', 'senp7', 'naa50', 'adora3', 'aplp2', 'top1', 'phf20l1', 'gh1', 'luzp2', 'gna12', 'spanxn5', 'ttc32', 'mica', 'zdbf2', 'oxt', 'rtcb', 'ccnb2', 'ifnar2', 'myd88', 'rab20', 'prlr', 'znf462', 'crebbp', 'ppfia4', 'calr', 'prss1', 'znf765', 'wwox', 'tprg1', 'nfib', 'nosip', 'trdn', 'fzd8', 'dnaaf5', 'rmnd5b', 'c1r', 'mov10l1', 'batf2', 'prox2', 'sgcg', 'irak4', 'armc3', 'ripor1', 'cebpa', 'znf587', 'znf84', 'chrnd', 'stk26', 'psmd4', 'faap20', 'purg', 'ern1', 'lenep', 'parp14', 'apoc3', 'rap2b', 'cmtm4', 'mdp1', 'msx2', 'aqp12a', 'qrfp', 'c11orf71', 'bend5', 'pglyrp1', 'lmo1', 'siglec8', 'prph2', 'calhm6', 'or10h3', 'c9orf43', 'prx', 'mst1r', 'rtn3', 'tmem245', 'kcnmb1', 'pde9a', 'esrrg', 'asgr1', 'znf546', 'hoxa5', 'zfyve9', 'prelid3b', 'cxcl2', 'tada1', 'dnah9', 'mfsd5', 'reps1', 'ppargc1b', 'cnksr3', 'vn1r1', 'slc35a4', 'prkag1', 'rasl10b', 'entpd2', 'or51q1', 'sstr2', 'ddb1', 'gria4', 'fads3', 'ptk2', 'upb1', 'c4orf45', 'rtl8b', 'pole', 'ikbip', 'kyat1', 'or1e1', 'hsf5', 'polr1a', 'atxn10', 'cetp', 'prop1', 'ctnnal1', 'pnpo', 'scgb2b2', 'echs1', 'trpm6', 'wdr93', 'rbl1', 'araf', 'fam111a', 'adgrg6', 'foxa1', 'aqp2', 'mpc2', 'lpcat2', 'lpin1', 'fchsd1', 'kiss1r', 'swt1', 'bricd5', 'samd8', 'atf6b', 'pmch', 'prdx3', 'fgg', 'znf200', 'cog2', 'adgb', 'cxcr4', 'met', 'med6', 'dpf3', 'znf142', 'fbrsl1', 'abcc12', 'tmprss6', 'mgst3', 'fat2', 'prr15', 'tnfrsf11a', 'lacrt', 'ccdc57', 'plekha6', 'robo3', 'adcy6', 'sh3bp1', 'msi2', 'zbtb32', 'hspa1l', 's100a2', 'trim64c', 'ndufa6', 'myl7', 'krt15', 'fam53c', 'ca2', 'zfp37', 'sacs', 'mocs3', 'clrn3', 'adamdec1', 'c22orf39', 'bglap', 'sumo4', 'foxb2', 'chchd10', 'aida', 'bcl6b', 'rad54b', 'chd5', 'ufsp2', 'nit1', 'jund', 'pof1b', 'ssna1', 'ccdc121', 'p3r3urf', 'muc12', 'spink9', 'oprd1', 'lnx2', 'c16orf72', 'med8', 'jade3', 'ifrd1', 'lhx5', 'slc25a25', 'eef1akmt1', 'btn3a1', 'srp72', 'gprasp1', 'or4q3', 'uba3', 'btbd7', 'krt20', 'jag2', 'rasgrp3', 'mvb12a', 'nckipsd', 'pla2g12b', 'smndc1', 'hdac3', 'qpct', 'blvra', 'spem3', 'tac4', 'cdc42bpa', 'trim72', 'glul', 'ppp2r1a', 'gimap1', 'ifit1', 'bmp8a', 'c1s', 'pnma8b', 'odf3l1', 'pcdh10', 'pou2f2', 'eya2', 'sowahc', 'blcap', 'creg2', 'or5a2', 'slc44a3', 'cxcl17', 'mtif3', 'coa1', 'zim3', 'ugt1a1', 'far1', 'pcdh8', 'krtap9-7', 'itgb1bp2', 'jam2', 'otp', 'ptgfrn', 'wbp4', 'pdha2', 'inip', 'cbln3', 'cidea', 'mos', 'prmt1', 'mettl16', 'chdh', 'or11l1', 'ext1', 'tasp1', 'arid5a', 'gna15', 'defb132', 'cenpq', 'tmem135', 'gpr139', 'btbd17', 'castor2', 'tspoap1', 'cchcr1', 'hoxc10', 'kansl1l', 'snx25', 'mtch1', 'cdk13', 'slc16a5', 'hrh4', 'fnip1', 'prg4', 'ost4', 'gclc', 'rims1', 'slc17a5', 'scnn1a', 'ube2l6', 'ric1', 'pptc7', 'pgc', 'golga1', 'kmt2a', 'zfand2b', 'mt1g', 'ube2l3', 'sod2', 'laptm4a', 'alg2', 'pawr', 'nek11', 'kcnf1', 'brat1', 'psmc5', 'arhgef10', 'adgrl2', 'neu1', 'laptm4b', 'spg7', 'fam167b', 'gnpnat1', 'obsl1', 'spire2', 'slc6a14', 'psmd1', 'slc7a3', 'usp17l2', 'zdhhc13', 'msn', 'cfap100', 'pld4', 'dpm1', 'or6t1', 'reg1a', 'upf3a', 'rpap3', 'iyd', 'krtap19-8', 'ppp1r15a', 'fam189b', 'or52b2', 'lin7b', 'cd84', 'krtap4-4', 'p2ry10', 'irx6', 'lrrc41', 'gngt1', 'ercc6l2', 'tdrd3', 'pus1', 'clip4', 'rasl12', 'dpp9', 'nup37', 'plglb2', 'scel', 'naglu', 'gemin2', 'twist1', 'znf354c', 'pym1', 'galr2', 'cdk3', 'rtn4', 'dpys', 'abce1', 'oosp4b', 'edn2', 'prmt7', 'rnd2', 'bbc3', 'vnn3', 'asb9', 'abhd5', 'dtx4', 'p2rx2', 'asmtl', 'sntb1', 'fam89b', 'zfp69', 'ptges', 'tufm', 'pgbd5', 'pcdhb16', 'ensa', 'irx5', 'enpp7', 'or10h2', 'abat', 'pmm2', 'tex264', 'naa30', 'cpb2', 'ptx3', 'gpatch2l', 'znf540', 'adh1a', 'dlc1', 'c9orf78', 'ankrd2', 'ino80e', 'adgrb3', 'cul4a', 'tmod2', 'tbc1d7', 'zmym2', 'arhgap6', 'nepro', 'l1td1', 'ppard', 'oasl', 'thoc5', 'aloxe3', 'dpy19l3', 'or5h2', 'pkd2', 'wdr97', 'atxn7l3', 'slc26a6', 'ezh2', 'foxd2', 'fsip1', 'mysm1', 'mon1b', 'sacm1l', 'zscan31', 'tbpl2', 'c1orf226', 'hes7', 'gabrb1', 'pex2', 'f2rl3', 'dlx2', 'ksr2', 'actn1', 'zkscan1', 'gemin8', 'snrnp48', 'ripor2', 'pus7', 'gcnt2', 'tirap', 'tll1', 'b4galnt4', 'luzp1', 'ranbp10', 'ptdss2', 'cox6a2', 'sf3b2', 'tafa5', 'cldn6', 'ngef', 'dlg1', 'upk3b', 'cct3', 'cdc123', 'tigd7', 'gkn2', 'hmgb4', 'zbtb46', 'pspn', 'itsn1', 'ccdc138', 'rab2a', 'lrwd1', 'cyfip2', 'krtap5-1', 'irf2bpl', 'gpx7', 'slc44a4', 'plcl2', 'csnk1g1', 'cks1b', 'p2rx4', 'rbp1', 'phf10', 'svep1', 'hdhd5', 'stap1', 'tlcd4', 'rexo2', 'prr30', 'tmem150b', 'efcab12', 'dbndd1', 'col11a1', 'tlr1', 'reg4', 'trak2', 'cep152', 'cfd', 'arl13a', 'tdrd5', 'pebp4', 'hspbp1', 'tff3', 'syn2', 'cisd3', 'ccdc85a', 'zbtb18', 'ttc17', 'timm22', 'ffar1', 'ctsc', 'daxx', 'sfpq', 'hivep3', 'mcph1', 'adat1', 'baz1b', 'ddi1', 'ei24', 'lmtk3', 'bhlhe22', 'nkd1', 'fam9b', 'ccl15', 'crocc', 'wdr3', 'arhgef5', 'gtf3c1', 'usp34', 'tent5d', 'evc2', 'sigmar1', 'ammecr1l', 'lpxn', 'mau2', 'eppk1', 'rtl8c', 'kcnj8', 'st7', 'nhlh2', 'strap', 'nectin1', 'krtap2-4', 'cldn17', 'tmem208', 'pttg1ip', 'trpc3', 'palld', 'pcsk1n', 'dyrk1a', 'syncrip', 'znf727', 'or4x2', 'entpd1', 'anks1b', 'vps37a', 'slc28a1', 's1pr4', 'slmap', 'cant1', 'crlf3', 'creb5', 'ncf2', 'sox4', 'ptcd1', 'uaca', 'nfx1', 'taf1a', 'nudt8', 'pnma6a', 'myoz3', 'glp1r', 'map2k1', 'c10orf67', 'slc25a47', 'ascc3', 'resf1', 'gatm', 'tmem159', 'atp6v1b2', 'ppif', 'trim77', 'nr1h3', 'ndufa11', 'nudt2', 'ifit3', 'c20orf194', 'foxo1', 'gmpr', 'itm2c', 'adamts13', 'cdon', 'antxr2', 'psma4', 'ska3', 'rasgrp1', 'nvl', 'fam222a', 'pla2g4b', 'zcchc8', 'eps8l3', 'elovl7', 'gcnt7', 'ankle1', 'slc13a2', 'c7orf61', 'uba52', 'krtap19-7', 'chmp1b', 'syt14', 'mt-nd3', 'nup35', 'cyb561', 'iqgap3', 'ap3d1', 'cd8a', 'fbxo36', 'grk2', 'tent5a', 'thap2', 'kcna1', 'fam170b', 'kdm8', 'plcxd2', 'or2a12', 'tmem184c', 'cdr1', 'ccnb3', 'selp', 'pgp', 'sav1', 'or3a1', 'plekhg2', 'e2f1', 'scgb1d4', 'sox15', 'trappc8', 'pnpla2', 'ddx49', 'eef1akmt3', 'cd96', 'snrpa', 'tbata', 'gprc5a', 'gtpbp4', 'crybb2', 'vps26a', 'nell2', 'anhx', 'mmd', 'brd9', 'pofut2', 'rbm8a', 'dixdc1', 'engase', 'tcea3', 'hsd17b4', 'commd10', 'sec24a', 'spesp1', 'tbc1d10a', 'ubl5', 'rnf19b', 'slc31a2', 'tmem14a', 'ganab', 'krt1', 'thumpd1', 'nagpa', 'vill', 'erc2', 'poldip3', 'ikbkg', 'ankle2', 'nipal3', 'steap1b', 'edn1', 'nsmce1', 'strn3', 'marco', 'gpr158', 'pygo2', 'srfbp1', 'sh3pxd2b', 'dcdc2c', 'cyp2c8', 'rassf8', 'muc19', 'b3gnt8', 'cwh43', 'grk3', 'trabd2a', 'tcn2', 'mageb6b', 'fndc4', 'zdhhc4', 'mettl7b', 'nelfcd', 'col2a1', 'cpsf4', 'gnptg', 'dand5', 'ccnb1', 'or14a16', 'stradb', 'cyp7a1', 'nabp2', 'nr2f1', 'znf233', 'vdac3', 'chic2', 'hunk', 'cope', 'irf7', 'tnfsf15', 'mob1a', 'fzd2', 'actrt3', 'reep2', 'idh2', 'lamp2', 'vopp1', 'ddr1', 'rgs20', 'foxj2', 'actl9', 'lamc1', 'higd1a', 'phlda1', 'ankrd63', 'gfod1', 'hdx', 'rab42', 'znf639', 'kif13a', 'cblif', 'chrm5', 'letm1', 'ptk2b', 'ppl', 'itfg1', 'spata31a1', 'klf13', 'farsb', 'pnisr', 'ptpn4', 'pard3', 'mmp8', 'thap5', 'c20orf141', 'tcim', 'sla', 'gtf2h4', 'c1qc', 'adipor1', 'styk1', 'tat', 'syngr4', 'hnf4a', 'nbpf11', 'rab11b', 'tmem50b', 'znf185', 'c1qtnf4', 'cep112', 'ankrd53', 'znf10', 'slc6a18', 'srsf3', 'tspyl5', 'page4', 'ldlrad1', 'tspan1', 'etf1', 'secisbp2', 'nt5dc2', 'drap1', 'fbxo31', 'cdkn2c', 'ppp1r21', 'or13j1', 'pusl1', 'setd6', 'sele', 'znf385d', 'nxnl2', 'vcpkmt', 'padi2', 'mplkip', 'il4i1', 'mief1', 'wt1', 'nutm1', 'mars2', 'chga', 'dnal1', 'plin1', 'trappc10', 'ifna6', 'helq', 'lsm2', 'stra6', 'b3galt4', 'scn2a', 'capg', 'morn3', 'aqp7', 'hdc', 'trmt2b', 'c16orf86', 'ccm2', 'catsperd', 'phospho1', 'csrnp3', 'map3k20', 'cxorf66', 'tbx10', 'arfip1', 'adam19', 'ankk1', 'stra8', 'ptprc', 'pax9', 'lats2', 'klf5', 'psma8', 'b3glct', 'bbs2', 'rnls', 'wdsub1', 'or52i1', 'pdss2', 'prcc', 'phrf1', 'tex13d', 'egfr', 'kmt2e', 'rap2a', 'myoz1', 'or6m1', 'coro6', 'fbn3', 'myl6b', 'tubb2a', 'dot1l', 'itln2', 'lcn10', 'fam187b', 'nipsnap3a', 'kiaa0319', 'ogdhl', 'ctbs', 'zmym5', 'coq2', 'rnf152', 'tmem91', 'cldn34', 'cylc1', 'ccp110', 'prrg4', 'lcn1', 'dnah10', 'necab3', 'igfl2', 'pla2g4a', 'kcna7', 'dcun1d5', 'glipr1l2', 'pip4p1', 'xpo7', 'tor1aip2', 'tex51', 'cp', 'mpc1', 'frmpd1', 'chid1', 'zscan30', 'ndufv3', 'sumo3', 'zscan5b', 'card19', 'tmem60', 'lgmn', 'tomm6', 'hspb8', 'ttll12', 'znf354a', 'tdrd7', 'stx1b', 'st7l', 'pim2', 'glrx5', 'arg1', 'irs2', 'smim12', 'fam151b', 'selplg', 'c1galt1', 'slc15a3', 'bckdk', 'shisa3', 'or2t27', 'specc1', 'mapk11', 'flnb', 'ankrd34b', 'smim19', 'nptx2', 'pipox', 'plekhd1', 'pygl', 'gsn', 'trim48', 'pcnx1', 'ccdc110', 'fam20c', 'eef1a2', 'sage1', 'ilkap', 'maneal', 'ubxn8', 'tln2', 'c14orf28', 'pgbd1', 'tcl1b', 'slc37a4', 'polm', 'rbp5', 'rfxap', 'gpr179', 'tp53', 'ppil6', 'zbtb41', 'slc35b3', 'pde1b', 'ntpcr', 'stxbp6', 'nipa2', 'taok1', 'znf486', 'pamr1', 'brap', 'ecd', 'csgalnact2', 'cbr1', 'nipa1', 'pla2g4d', 'bms1', 'znf19', 'fbxo28', 'sapcd1', 'znf625', 'tiaf1', 'znf132', 'ube2h', 'adora2b', 'neto1', 'nav1', 'g6pd', 'mtmr14', 'psd2', 'cep41', 'depdc5', 'ckap4', 'ddx5', 'poc1b', 'nae1', 'camp', 'rnf215', 'unc45b', 'nat1', 'mlnr', 'kctd15', 'sh3rf2', 'gtdc1', 'nos1ap', 'nop58', 'apoc1', 'eri1', 'tmem61', 'hus1', 'mt-nd6', 'aaas', 'wnt8b', 'apol3', 'ggh', 'ninj2', 'psmb11', 'heatr5a', 'evi2a', 'nfya', 'izumo2', 'obp2a', 'znf415', 'zdhhc15', 'tmem145', 'nbl1', 'cuedc2', 'igsf22', 'spata1', 'krtap10-8', 'arl9', 'ervv-2', 'rnasel', 'pde6g', 'tceal5', 'eif4h', 'smyd4', 'lrrc49', 'pim1', 'asb7', 'crispld1', 'nup88', 'eif3i', 'oaz3', 'krt71', 'plekhb2', 'lrfn5', 'ankrd34a', 'tmem119', 'mt1x', 'myorg', 'crybg3', 'calb2', 'ct47b1', 'atg4b', 'mln', 'trnau1ap', 'szt2', 'prkce', 'mtpn', 'klrb1', 'dnajc15', 'tubg2', 'mgp', 'mt2a', 'uap1l1', 'abcb4', 'scamp1', 'cobl', 'ikzf5', 'afdn', 'copb1', 'dpysl5', 'septin6', 'lefty2', 'stat1', 'atxn1', 'tpd52l1', 'cabp5', 'dap', 'sqor', 'gtf2e2', 'ifna14', 'vps53', 'ddx52', 'znf649', 'apobec1', 'hspg2', 'rsbn1', 'rpp14', 'pwp1', 'fgd2', 'tex49', 'cabp2', 'trim63', 'smim1', 'cpne3', 'fastkd1', 'mfsd1', 'rdh10', 'usp17l7', 'dclk3', 'ptprq', 'c8orf33', 'znf592', 'kpna2', 'gpr31', 'ints6', 'zscan5c', 'elmod1', 'mtg2', 'cplx2', 'gmnc', 'myh10', 'mydgf', 'pea15', 'ecpas', 'nlrp8', 'wnt9b', 'ubald1', 'shprh', 'prl', 'npr3', 'nhp2', 'krtap27-1', 'dennd2a', 'dnajc18', 'znf860', 'glg1', 'dync1i1', 'stxbp3', 'tacr2', 'tmem263', 'zpbp2', 'or14c36', 'hacd4', 'brms1', 'ctnnd2', 's100a7l2', 'cnot2', 'tsc22d4', 'cfap157', 'usp26', 'ccdc192', 'gmnn', 'tbk1', 'slc26a11', 'epb41l5', 'atox1', 'pbld', 'nipsnap1', 'gabrg1', 'api5', 'narf', 'wdr45', 'sh3pxd2a', 'pmis2', 'nkx3-2', 'slc3a1', 'aifm2', 'mrgprd', 'c14orf119', 'fhdc1', 'fam78a', 'pla2g1b', 'hapln1', 'ca1', 'chrdl2', 'slc35b4', 'nalcn', 'slc16a13', 'cygb', 'dmrtc2', 'rprd2', 'actl7b', 'c3orf49', 'wapl', 'mt1m', 'cemip2', 'rbak', 'ccdc116', 'znf596', 'wdr64', 'pold4', 'atp5pb', 'itk', 'zfc3h1', 'ido1', 'pear1', 'thpo', 'ppil3', 'jade1', 'ccnjl', 'npdc1', 'rasgrp2', 'rimklb', 'selenop', 'znf630', 's100a3', 'klrg2', 'cox7b2', 'or1d5', 'wif1', 'cd40', 'septin11', 'bcl11b', 'fbxl16', 'sned1', 'fgf5', 'lman2', 'dph3', 'c15orf61', 'kcne2', 'ppig', 'dck', 'rhoj', 'septin14', 'glipr1', 'smim14', 'ofd1', 'slc25a28', 'fads6', 'tfe3', 'syndig1', 'pdcd6ip', 'brs3', 'nbeal2', 'fads2', 'c13orf42', 'eif4e1b', 'tmem30a', 'cdsn', 'bcl2a1', 'asprv1', 'pecam1', 'alkbh8', 'cacna2d3', 'shoc2', 'ankrd46', 'csnk1a1', 'otop1', 'rbm4b', 'col22a1', 'rrm2b', 'nek9', 'znf853', 'pld2', 'aup1', 'trim58', 'trim35', 'or6c1', 'cdk19', 'nolc1', 'gmcl1', 'elovl5', 'rsad2', 'atp12a', 'mt1e', 'fbxo47', 'cltcl1', 'oas3', 'zyg11a', 'fank1', 'mcoln2', 'ddx18', 'cdk7', 'gabra4', 'gabrr3', 'fam114a2', 'tpm2', 'galnt4', 'tbx5', 'elmod3', 'prepl', 'tmem54', 'cst8', 'vegfd', 'mpig6b', 'lsm14b', 'slc6a7', 'f11', 'pxmp4', 'spint1', 'klhl1', 'lingo4', 'fbp2', 'gper1', 'gps2', 'rab1b', 'phka1', 'stk40', 'fndc3b', 'hcar1', 'pim3', 'or1m1', 'tafa2', 'wiz', 'erlin2', 'pigr', 'tsbp1', 'icam1', 'uimc1', 'or51t1', 'snx7', 'rita1', 'itln1', 'dok7', 'dchs2', 'or2m5', 'mia3', 'phf2', 'smap2', 'fanca', 'ric3', 'slc7a14', 'galnt7', 'det1', 'ccdc170', 'spata17', 'mpl', 'zbtb42', 'bbs5', 'chst6', 'tmem134', 'sin3a', 'top3a', 'prss8', 'smarcd1', 'lman1', 'fam200a', 'sgsm3', 'chek1', 'ebag9', 'ccdc63', 'slc7a2', 'slc26a9', 'slc5a12', 'cdadc1', 'ceacam20', 'dcun1d1', 'limd1', 'drd2', 'slc1a3', 'zfyve26', 'dusp5', 'agps', 'got1l1', 'ascl1', 'rtp1', 'csrp2', 'zbtb21', 'bicd1', 'c19orf12', 'epha8', 'selenoi', 'fam98c', 'trabd', 'pibf1', 'dhx40', 'erich3', 'neil2', 'pjvk', 'rarg', 'celf4', 'tas2r30', 'magef1', 'tgfbrap1', 'fbxo41', 'slc25a32', 'rgl4', 'prxl2b', 'eipr1', 'pou4f1', 'kdelr2', 'sstr5', 'xage5', 'or4d5', 'mesp1', 'fbxw7', 'tyrobp', 'parvg', 'eral1', 'pcdhga9', 'sympk', 'gh2', 'tmed5', 'adra1a', 'prps2', 'nxf1', 'bmpr1a', 'myl12a', 'oprpn', 'ces3', 'slc14a2', 'gucd1', 'mapt', 'cog3', 'prkx', 'crabp2', 'nipbl', 'dcstamp', 'pcdhb14', 'dip2b', 'gnal', 'tmem174', 'fam169a', 'ifi30', 'lca5l', 'slc25a11', 'acvr2a', 'trim61', 'pdxk', 'scamp2', 'slc14a1', 'tmem163', 'trh', 'vps33a', 'nxt1', 'champ1', 'fbxo17', 'gsx1', 'luc7l3', 'oprl1', 'vps26b', 'fbxo48', 'or2m7', 'asb13', 'fam90a1', 'vit', 'oxer1', 'c4orf47', 'msi1', 'chmp1a', 'srebf1', 'rap1a', 'bard1', 'klhl21', 'mob1b', 'dnajc25', 'mtmr12', 'mlph', 'nrbf2', 'atp6v0d1', 'nudc', 'fars2', 'ak9', 'pitpna', 'ppm1f', 'rnmt', 'usp7', 'sprtn', 'wrn', 'stt3a', 'ganc', 'rasgrf1', 'atxn7', 'wfikkn2', 'flacc1', 'casp9', 'vps13b', 'znf699', 'gpn1', 'mtf1', 'iqcc', 'chrng', 'fam205c', 'nat16', 'zc3h7b', 'hepn1', 'aars2', 'fbxl12', 'prdm2', 'c7orf57', 'wdr83os', 'ttc27', 'ankrd39', 'samd5', 'eif4g3', 'krtap16-1', 'sobp', 'znf710', 'dnd1', 'tm4sf19', 'aldh4a1', 'anxa5', 'tefm', 'hgfac', 'p2rx7', 'mapkapk2', 'znf257', 'galnt14', 'cox17', 'creg1', 'krt33b', 'kazald1', 'gad2', 'vamp1', 'hic2', 'tspan16', 'xcl2', 'tmem19', 'calr3', 'tgfbi', 'defb121', 'oxtr', 'tbc1d21', 'map3k2', 'slc25a46', 'c2orf66', 'commd5', 'cln3', 'pcdhgc5', 'lyrm1', 'rorb', 'or10h4', 'or2g2', 'spata31d3', 'mss51', 'pnma8c', 'gpkow', 'cdk5rap3', 'hnrnpdl', 'dlg4', 'gpr63', 'fh', 'agmo', 'fzd3', 'sdk1', 'fxyd1', 'il9r', 'nxpe1', 'sord', 'gigyf2', 'znf451', 'or2a14', 'nkapd1', 'prkar1a', 'prss56', 'cth', 'ephb4', 'klhdc8b', 'tigd1', 'snorc', 'birc2', 'ddx1', 'auts2', 'fam135b', 'abca1', 'gpr108', 'vwa5b1', 'ky', 'ccdc81', 'itga10', 'kcnj6', 'tab2', 'gabrp', 'meig1', 'pif1', 'odf2l', 'znf490', 'tcerg1', 'stc1', 'usp53', 'slc22a11', 'prr15l', 'acox2', 'gage1', 'phip', 'or6c4', 'nudt11', 'c8orf37', 'arhgef9', 'syngap1', 'dkk4', 'tdrd1', 'apeh', 'pa2g4', 'ccn5', 'lag3', 'zfx', 'bmpr2', 'gpc1', 'xkr6', 'cnn3', 'topaz1', 'ing4', 'mitf', 'rapgef1', 'il5ra', 'sfta2', 'akap13', 'mfge8', 'rel', 'slc39a3', 'ptpn18', 'cenpk', 'myo1f', 'ppp1r12c', 'pet117', 'dnajc24', 'fam222b', 'znf653', 'vegfb', 'rab23', 'slc66a1', 'ddias', 'rnase9', 'nsfl1c', 'lmbrd2', 'snx8', 'cd3d', 'ankrd36', 'chmp7', 'slc5a8', 'dcps', 'znf561', 'nrip1', 'slc4a1ap', 'ndst4', 'malt1', 'npb', 'ttyh2', 'chek2', 'als2cl', 'rnf8', 'tnfrsf12a', 'znf460', 'ints5', 'pabpc5', 'fmnl1', 'foxc2', 'tmem59l', 'thap8', 'lgsn', 'lmod1', 'lrpap1', 'xrcc5', 'riok3', 'gk2', 'mavs', 'sf3b4', 'birc6', 'ubqlnl', 'slc52a1', 'mbd5', 'c3orf18', 'spata9', 'znf564', 'zc3hav1l', 'or5as1', 'thg1l', 'lsm11', 'pcdh15', 'klhl20', 'gls2', 'hpn', 'znf682', 'extl1', 'tnfsf18', 'dusp16', 'exosc8', 'nhlrc3', 'fam13b', 'kbtbd13', 'kif2b', 'gpr143', 'il2rg', 'lxn', 'kiaa1522', 'c3orf84', 'hars2', 'cdc20', 'ervfrd-1', 'frmd5', 'znf843', 'pax4', 'haus2', 'rflnb', 'fam104a', 'psmd5', 'st8sia5', 'c1galt1c1l', 'nkd2', 'mageb4', 'neto2', 'fabp9', 'egln3', 'nlgn4y', 'ankrd28', 'trmt10c', 'ube2r2', 'gja8', 'zadh2', 'sppl2b', 'yjefn3', 'slc13a5', 'zpbp', 'tollip', 'gfra1', 'znf629', 'hes5', 'sf3a2', 'fam126a', 'cacng2', 'fut10', 'eogt', 'ankrd12', 'scara3', 'znf664', 'uqcr11', 'lgals7', 'tmem185a', 'tstd2', 'kprp', 'parp8', 'p4ha1', 'serpina5', 'ap1g1', 'dnajc1', 'clip3', 'b9d2', 'tor1aip1', 'fam234a', 'tubgcp6', 'alms1', 'thada', 'or10c1', 'il11ra', 'znf773', 'clec2l', 'ankrd49', 'atp6v1c2', 'brinp1', 'or10j5', 'zscan21', 'c8orf76', 'tle6', 'gins1', 'traf3ip1', 'lsm1', 'papolb', 'ripor3', 'kcnj9', 'mynn', 'prrg1', 'panx2', 'tomm20l', 'tmem68', 'lrit1', 'lsm14a', 'tldc2', 'fblim1', 'trpv1', 'slc10a6', 'st8sia2', 'c17orf113', 'gpr34', 'cops4', 'cep350', 'tnfrsf10d', 'spty2d1os', 'ntrk2', 'slc2a3', 'oosp2', 'tmed9', 'cyp2d6', 'ccdc33', 'cldn1', 'ugt3a2', 'znf165', 'mmp24', 'lrp5', 'pi4kb', 'mrgprx3', 'gatc', 'fam162a', 'bahd1', 'nedd8', 'mylpf', 'atp2b3', 'ddx17', 'sh2b2', 'prss3', 'gpa33', 'pabpc3', 'shc4', 'tubb1', 'morc3', 'phf12', 'fam111b', 'hpcal4', 'c9orf24', 'cers3', 'cenpp', 'trim37', 'fam3b', 'pfkfb1', 'il5', 'spns3', 'epc2', 'lap3', 'cckbr', 'cse1l', 'tsacc', 'nme7', 'cpa1', 'chad', 'mep1a', 'cdhr1', 'pld3', 'cst4', 'ubqln4', 'slc39a10', 'mx2', 'dbx1', 'aebp1', 'chit1', 'eci2', 'iqcn', 'ahdc1', 'raver2', 'dstyk', 'cenpl', 'mt1f', 'mgat4b', 'atp10d', 'ptbp1', 'tuba4b', 'fsd1', 'nox5', 'rab32', 'pcca', 'plxdc1', 'dusp18', 'gtf3c4', 'synm', 'kcnk10', 'ccdc42', 'sit1', 'znf124', 'uqcrc1', 'ppie', 'kif2a', 'hal', 'pcdhb4', 'gcnt3', 'tgif2lx', 'pcgf3', 'bub3', 'mxi1', 'stard3nl', 'mutyh', 'fgfr3', 'coasy', 'pld1', 'ucp3', 'pum2', 'sh2d3c', 'top3b', 'ndufab1', 'cldn2', 'spsb3', 'atp6v0a1', 'gbp2', 'herc4', 'tnmd', 'acsm6', 'cybc1', 'ints2', 'aqp11', 'chrm2', 'tal2', 'cavin3', 'minar1', 'htra1', 'ctxn3', 'c16orf54', 'dok4', 'ldhc', 'nono', 'ptpru', 'ddx46', 'zw10', 'tas2r40', 'sowahb', 'kif7', 'taf6l', 'or6c68', 'plxna1', 'dlg5', 'prpf18', 'aanat', 'bves', 'tpr', 'cd300a', 'mpped1', 'arhgap10', 'sdc2', 'axin2', 'c5ar1', 'catip', 'gfral', 'sqstm1', 'stimate', 'slc38a4', 'bdnf', 'ubr4', 'osbpl9', 'mphosph9', 'trarg1', 'ythdc1', 'cdr2', 'hhip', 'slc25a53', 'lin7a', 'lrrc42', 'asap3', 'cfap44', 'nphs2', 'vcan', 'trappc9', 'znf793', 'ugt3a1', 'gng8', 's1pr3', 'arhgap28', 'alg11', 'gyg2', 'znf511', 'susd1', 'lrrc10', 'eif5b', 'ccdc173', 'adam10', 'ier3ip1', 'ldb2', 'ak4', 'aqp3', 'cd2', 'napsa', 'brwd3', 'klf9', 'surf2', 'plin4', 'cd1e', 'soat1', 'tsga10', 'ing1', 'vipr2', 'piwil4', 'tmem150c', 'bscl2', 'cir1', 'mef2b', 'c10orf62', 'alkbh5', 'pard6g', 'cyp2c9', 'taf7', 'trappc3l', 'wdr4', 'nup43', 'fbln2', 'opn4', 'cdk5r1', 'coa6', 'ctxnd1', 'dag1', 'tor1b', 'atp6v0c', 'tmem109', 'isx', 'rest', 'hsf2', 'ptms', 'anks4b', 'samd9l', 'lsamp', 'miga2', 'l3mbtl1', 'aadacl3', 'tmem160', 'aldh3a2', 'ildr1', 'itga9', 'zic5', 'elf2', 'epb41', 'mien1', 'rhbdd1', 'dbnl', 'pxdnl', 'rbm45', 'kel', 'tex14', 'vpreb1', 'atp13a4', 'nkx2-8', 'sptbn5', 'arl14ep', 'vsig10l2', 'hlf', 'ankrd52', 'ndufa1', 'or2at4', 'lysmd2', 'ralb', 'stoml1', 'tnip1', 'slc38a6', 'dcaf7', 'jak3', 'pcdhga1', 'serpinb3', 'angptl1', 'bex2', 'pisd', 'rsph3', 'clecl1', 'pllp', 'plaat2', 'hoxa7', 'cep104', 'snrnp35', 'c2orf49', 'ankrd29', 'tlr9', 'gpr137b', 'cflar', 'prr14l', 'dpyd', 'ubn1', 'fev', 'rsrc1', 'plcxd3', 'plac8l1', 'ect2l', 'llcfc1', 'atp6v1g2', 'ccdc34', 'mcrip1', 'xpa', 'sox2', 'gmps', 'elovl6', 'axin1', 'lztfl1', 'traf7', 'diaph1', 'acss3', 'gpr55', 'nt5e', 'eif2a', 'ralgps2', 'rpa2', 'tma16', 'fam120a', 'armcx1', 'vps25', 'atp6v1f', 'yeats2', 'gcsaml', 'tfb1m', 'pgbd4', 'cldn14', 'slc39a6', 'nif3l1', 'cc2d1b', 'page2', 'atrip', 'igf2bp1', 'csf3', 'ces4a', 'rhot2', 'exoc6', 'dennd1a', 'apoc4', 'znf184', 'sh2d6', 'spata7', 'pigw', 'cntn3', 'lrrc7', 'klk1', 'trim45', 'fam124b', 'mustn1', 'tmem128', 'p2rx1', 'gorasp2', 'olig3', 'lrrc25', 'ptcd2', 'pcare', 'cyyr1', 'pcsk5', 'vta1', 'lrrc63', 'stambpl1', 'acot11', 'psph', 'klhl4', 'cxcl1', 'calml6', 'cycs', 'tspan3', 'gpr162', 'rab9b', 'krt84', 'nfkbil1', 'cmc2', 'slc39a2', 'b3gat3', 'mboat1', 'ankrd27', 'prnd', 'tgfb1i1', 'ptpn21', 'znf74', 'spink4', 'fam160b1', 'glod5', 'nell1', 'rnase4', 'plekho1', 'wdr33', 'ugt2b28', 'cpsf7', 'arfgap2', 'faah', 'pcmtd2', 'anapc2', 'kbtbd4', 'c3orf80', 'adipoq', 'ly6l', 'dtd2', 'stau2', 'prkca', 'ripk4', 'ranbp3l', 'tgfbr3l', 'nrg4', 'avpr2', 'fam136a', 'srek1ip1', 'tspyl4', 'eif5', 'acot8', 'phykpl', 'zbtb37', 'stx19', 'nup153', 'ngrn', 'fam149b1', 'cnga4', 'polr2b', 'ndufa5', 'klc2', 'rasa1', 'krr1', 'cdk4', 'hipk4', 'cd37', 'srpra', 'pfn2', 'bbof1', 'znf71', 'ankrd35', 'hmgn4', 'otol1', 'ssr4', 'pcp2', 'dmrta2', 'piwil2', 'krtap5-6', 'znf609', 'vwc2', 'tulp2', 'slc2a6', 'naa15', 'znf586', 'adam20', 'fbn2', 'napepld', 'herc5', 'perm1', 'egflam', 'kcnq1', 'ubqln3', 'ptprn', 'znf214', 'cdkal1', 'coro1b', 'osgin2', 'hoxb6', 'srm', 'edc3', 'adat2', 'il32', 'or8d1', 'znf674', 'cgas', 'ncl', 'slco4a1', 'rspry1', 'atg14', 'slc2a2', 'prep', 'nsl1', 'ppef2', 'endou', 'stpg2', 'ndnf', 'ly96', 'ptpn14', 'mzb1', 'c9orf72', 'slc10a1', 'nkg7', 'meaf6', 'aff3', 'oard1', 'tnfrsf1a', 'gpr18', 'ccnf', 'ncoa5', 'neurl2', 'myo3b', 'setd1a', 'bphl', 'borcs8', 'pbx1', 'calhm5', 'tns3', 'rpap1', 'otoa', 'cdc42ep5', 'rorc', 'cyp21a2', 'gpr89b', 'nr2e3', 'dscam', 'htr3d', 'scfd2', 'zmiz2', 'tubg1', 'rhob', 'bbx', 'mxd1', 'epb42', 'slc6a4', 'ikzf3', 'aoc1', 'tas2r16', 'dennd6a', 'hspd1', 'ccdc168', 'twist2', 'mks1', 'prr11', 'fn3krp', 'nfkbiz', 'n4bp2l1', 'hoxb1', 'rbm33', 'sass6', 'lcat', 'rce1', 'prelid2', 'rprd1a', 'gria1', 'krtap4-1', 'rwdd2b', 'dmrt3', 'rfx4', 'lrrtm4', 'lekr1', 'tas2r8', 'avp', 'st6galnac3', 'cldn7', 'tnfaip8l1', 'rbm18', 'rpusd4', 'gin1', 'mtnr1b', 'nr2c1', 'atp5po', 'ddb2', 'ctdspl', 'akap5', 'prdm14', 'or51b5', 'arhgap4', 'arhgap33', 'adprh', 'esyt2', 'camsap1', 'arl6ip6', 'tax1bp1', 'cybb', 'slc47a1', 'slc12a9', 'gpr137', 'creb3', 'hnrnpcl3', 'ccdc47', 'exog', 'tmem106c', 'foxn1', 'svip', 'ulk2', 'lce2a', 'cdyl2', 'tom1', 'mus81', 'mbip', 'cd151', 'rtbdn', 'spock2', 'jun', 'utf1', 'wnk3', 'sparc', 'nt5c2', 'primpol', 'lratd2', 'nkx1-2', 'psmb2', 'ankrd45', 'src', 'c4orf51', 'tns1', 'tcf7', 'sart3', 'surf1', 'gpr146', 'npy2r', 'asic3', 'tmppe', 'rasl11a', 'st3gal2', 'igsf9', 'dusp21', 'amtn', 'wdr20', 'borcs6', 'nfe2l1', 'or6c76', 'hmhb1', 'xrcc2', 'cep120', 'ggn', 'cecr2', 'atad5', 'plek', 'sub1', 'znf800', 'gpr183', 'def8', 'mt-nd5', 'coq9', 'tril', 'tceal1', 'smim29', 'znf8', 'fam102b', 'cnot9', 'slc22a16', 'ddx25', 'muc3a', 'il20rb', 'megf11', 'znf703', 'ndn', 'cstf1', 'znf454', 'usp19', 'ivl', 'filip1l', 'rgs6', 'ccdc68', 'lrmda', 'cfap97d1', 'gabrq', 'tmem219', 'grik1', 'nos3', 'abhd3', 'carhsp1', 'sdc1', 'znf552', 'fam71e2', 'tvp23c', 'mmd2', 'rhoxf1', 'ndufa7', 'nap1l3', 'cilp', 'ccdc14', 'nupr1', 'srrm2', 'stab1', 'mindy4', 'sst', 'kdm5d', 'neb', 'fabp5', 'arap1', 'arhgap32', 'mtmr6', 'gcdh', 'shroom1', 'mrap2', 'hdac11', 'ppp1r2c', 'mdm2', 's100a13', 'ankrd34c', 'kir2dl4', 'apcdd1', 'sox8', 'sall3', 'cacna1e', 'mtfp1', 'opa1', 'leng9', 'il7r', 'poli', 'prkag2', 'tubb4b', 'ticam2', 'ooep', 'jcad', 'taldo1', 'cd38', 'ocln', 'apbb1', 'dnaja1', 'rfwd3', 'nifk', 'taco1', 'uqcrfs1', 'znf181', 'cplx1', 'glyr1', 'frmd1', 'smpd2', 'tex22', 'sctr', 'c12orf40', 'or4k5', 'arvcf', 'serhl2', 'snu13', 'or11h4', 'fnbp1', 'ankfy1', 'aurkaip1', 'znf274', 'ttc28', 'lin28a', 'marcksl1', 'anapc16', 'tspan2', 'atp8b3', 'irf2bp1', 'actr6', 'izumo4', 'nat9', 'zc3h12d', 'lcn2', 'mipep', 'serpina6', 'ankrd61', 'kif24', 'magea8', 'ryr3', 'c12orf54', 'ttpa', 'r3hdml', 'ctc1', 'relt', 'tns4', 'nup85', 'rasip1', 'hkdc1', 'grb14', 'p2ry1', 'znf407', 'napb', 'vav2', 'usp41', 'aplnr', 'ankrd40', 'tead2', 'nhs', 'c12orf45', 'atxn7l2', 'rab2b', 'kctd3', 'slc9a9', 'ghr', 'ugt1a8', 'gpbp1l1', 'odf3b', 'pitrm1', 'klhdc3', 'ccdc184', 'prr27', 'rmdn1', 'krtap10-3', 'e2f7', 'tbc1d1', 'pan2', 'lamc3', 'cirbp', 'cfap45', 'nudt1', 'rcn1', 'mpp4', 'snx2', 'ikzf4', 'nqo1', 'myo1c', 'lamtor5', 'rnase8', 'kcnk13', 'slc25a18', 'gfm2', 'slc18a3', 'c5orf15', 'wdr17', 'ngly1', 'vps37b', 'znf85', 'cnpy4', 'clip1', 'krtap2-3', 'tsen54', 'carnmt1', 'cabs1', 'camk2b', 'lbx1', 'zkscan8', 'krtap4-11', 'cenph', 'vax2', 'eps15l1', 'capza1', 'brd3', 'znf791', 'ndst3', 'atp1b2', 'kdm5c', 'crlf1', 'wnt11', 'dlec1', 'rora', 'blacat1', 'defb126', 'tgfb3', 'acbd7', 'eef1g', 'hes6', 'vkorc1l1', 'atp13a1', 'ccdc106', 'bzw1', 'gpr182', 'fcgr1a', 'il7', 'or9i1', 'nemp1', 'alg5', 'rbbp8', 'pced1a', 'c22orf42', 'iqgap1', 'ptch2', 'tuba3e', 'dkkl1', 'gid8', 'cpn2', 'pinlyp', 'mmel1', 'tnfrsf25', 'fbxo44', 'fdft1', 'kdm2b', 'cep76', 'or5d14', 'spcs3', 'lrba', 'pds5b', 'scube2', 'or4k14', 'gstz1', 'ndufs7', 'atp13a5', 'col6a1', 'tob2', 'cd9', 'fus', 'tmem176a', 'bri3bp', 'fkbp5', 'tmem44', 'pklr', 'krtcap3', 'cnga1', 'chsy3', 'klk8', 'rnf10', 'defb116', 'dnajc16', 'barhl1', 'mecp2', 'bbs7', 'cadm4', 'prokr1', 'nme1', 'adcy4', 'usp40', 'eif4ebp3', 'ifna5', 'usp13', 'saxo2', 'smug1', 'ctnna2', 'cyb5r4', 'p4htm', 'gabra6', 'nmb', 'ube2d3', 'kcnk7', 'lyrm2', 'asb4', 'serpinb11', 'galp', 'cpz', 'svop', 'plekhs1', 'erap1', 'spag4', 'tuft1', 'ca3', 'nxn', 'elovl3', 'gpm6b', 'gpt2', 'med24', 'ccdc195', 'hephl1', 'kcnj15', 'prrc2b', 'znf37a', 'bmpr1b', 'c2orf78', 'akt3', 'swsap1', 'txnrd2', 'slc8a2', 'epdr1', 'cox4i2', 'taf1b', 'spc25', 'ccdc171', 'atg3', 'foxl2', 'pxdn', 'coq8a', 'nanos1', 'cdk2ap1', 'abra', 'znf70', 'kcnd3', 'plaat1', 'sepsecs', 'dio3', 'or8b12', 'tspan31', 'znf284', 'rab10', 'scd', 'ffar4', 'tex53', 'nat8', 'kcna2', 'wee2', 'kif16b', 'igsf11', 'trappc2l', 'mroh6', 'raly', 'cbx3', 'rrs1', 'casq1', 'clpsl1', 'gadd45g', 'patl2', 'pdzd3', 'tmem131', 'csf2', 'crygc', 'il33', 'trim44', 'znf319', 'unc13c', 'sdsl', 'nemp2', 'wdr25', 'slc6a12', 'ak6', 'pex5', 'lypd5', 'cend1', 'pnrc2', 'gcm1', 'slc11a2', 'mettl17', 'akna', 'daam1', 'spr', 'grpel1', 'ralgapa2', 'zswim3', 'poc1a', 'trim21', 'sae1', 'pnpla4', 'prickle1', 'tpm1', 'psca', 'galnt8', 'krt3', 'glp2r', 'abcd2', 'nlrp4', 'rtl4', 'znf587b', 'safb', 'spdya', 'snai1', 'c10orf88', 'upk3a', 'fas', 'ecm2', 'thrb', 'nxph4', 'gpr160', 'aunip', 'man1a2', 'fam168b', 'rnft2', 'c1orf54', 'bend2', 'usp15', 'ppp2r3a', 'washc5', 'ceacam8', 'nphp4', 'rdh13', 'ccdc141', 'sh3bgrl2', 'med9', 'fam234b', 'ldoc1', 'or10g4', 'prss22', 'b9d1', 'abhd15', 'zgpat', 'pard3b', 'tac3', 'mrgprx1', 'golga8r', 'unc5c', 'armh3', 'bhlha9', 'lst1', 'ulk4', 'tp53bp1', 'cdc37', 'crct1', 'lrrc10b', 'b3gnt9', 'nobox', 'slc22a3', 'sirpg', 'or2l5', 'spag5', 'rab6c', 'tmed3', 'ankrd13a', 'znf331', 'aasdhppt', 'fgf21', 'prdm7', 'plekhg3', 'znf311', 'crtc1', 'pgr', 'afg3l2', 'kcnq2', 'anp32b', 'atp5mc2', 'scarb1', 'kcnj16', 'muc20', 'sult1a2', 'ntf4', 'serpina3', 'tsnaxip1', 'vsig10', 'carf', 'lins1', 'rxrb', 'rnf165', 'syngr3', 'tgm3', 'rad51d', 'or51e2', 'mnat1', 'ckmt2', 'vps18', 'actrt2', 'slc16a3', 'znf114', 'eif3g', 'cdh24', 'btnl3', 'zfat', 'gbp5', 'pgm1', 'rundc3b', 'ubc', 'nxpe2', 'taf11l4', 'rfpl4a', 'rapsn', 'or51g2', 'nlrc4', 'lta', 'hyou1', 'tbcel', 'ypel3', 'rnf227', 'diras1', 'myo18b', 'cyp3a5', 'srarp', 'ly6e', 'snx4', 'rbp7', 'hspb6', 'cplx4', 'abcc2', 'lix1l', 'nsun3', 'csad', 'ckap5', 'ssmem1', 'rer1', 'rep15', 'znf805', 'inpp5b', 'mroh1', 'rexo4', 'map3k12', 'ndufb3', 'ceacam4', 'ptar1', 'uchl5', 'aldob', 'znf716', 'akr1c4', 'scml1', 'ifitm2', 'tmem45a', 'mtfmt', 'chst13', 'dysf', 'chst1', 'psmg4', 'igsf3', 'ccl22', 'sephs2', 'cfap61', 'tas2r7', 'ctse', 'slc17a8', 'c19orf18', 'spon1', 'slc30a2', 'sdad1', 'wnk1', 'kcnk17', 'cfap36', 'akap11', 'pkig', 'npvf', 'gpr174', 'chrd', 'kif3b', 'atraid', 'tmem63c', 'ube2e1', 'cubn', 'ash1l', 'slurp1', 'bcl3', 'pwwp2a', 'atp1b3', 'dvl3', 'cep126', 'klf14', 'cela3a', 'uchl3', 'cdc16', 'adamts4', 'ptprs', 'znf804b', 'zbtb45', 'krtap12-4', 'cops3', 'adal', 'fbxl22', 'anks1a', 'eps8l2', 'inf2', 'rpain', 'rbm43', 'mzt1', 'ggact', 'phf21b', 'rarb', 'susd2', 'ndufaf4', 'tekt3', 'crygn', 'znf681', 'lsm6', 'etfdh', 'ptpn13', 'fabp4', 'dffb', 'znf514', 'cpne4', 'nfs1', 'rad9a', 'spa17', 'arrb1', 'sucnr1', 'mfsd6', 'bgn'}\n"
     ]
    },
    {
     "data": {
      "text/plain": [
       "{'aars',\n",
       " 'ac004593.3',\n",
       " 'ac005551.1',\n",
       " 'ac007244.1',\n",
       " 'ac007906.2',\n",
       " 'ac008397.1',\n",
       " 'ac008687.4',\n",
       " 'ac010255.3',\n",
       " 'ac010325.1',\n",
       " 'ac011005.1',\n",
       " 'ac011195.2',\n",
       " 'ac013470.2',\n",
       " 'ac015871.1',\n",
       " 'ac021072.1',\n",
       " 'ac021097.2',\n",
       " 'ac025283.2',\n",
       " 'ac025287.4',\n",
       " 'ac067752.1',\n",
       " 'ac072022.2',\n",
       " 'ac073111.4',\n",
       " 'ac087498.1',\n",
       " 'ac090360.1',\n",
       " 'ac091057.6',\n",
       " 'ac092835.1',\n",
       " 'ac093323.1',\n",
       " 'ac099489.1',\n",
       " 'ac104389.5',\n",
       " 'ac106774.4',\n",
       " 'ac113348.1',\n",
       " 'ac115220.1',\n",
       " 'ac118549.1',\n",
       " 'ac119396.1',\n",
       " 'ac132217.2',\n",
       " 'ac134684.8',\n",
       " 'ac135068.1',\n",
       " 'ac138647.1',\n",
       " 'ac187653.1',\n",
       " 'ac233723.1',\n",
       " 'ac236972.4',\n",
       " 'acpp',\n",
       " 'adprhl2',\n",
       " 'adss',\n",
       " 'adssl1',\n",
       " 'al032819.3',\n",
       " 'al109810.2',\n",
       " 'al121578.2',\n",
       " 'al135905.2',\n",
       " 'al160269.1',\n",
       " 'al162231.1',\n",
       " 'al162596.1',\n",
       " 'al353572.3',\n",
       " 'al354761.1',\n",
       " 'al391650.1',\n",
       " 'al445238.1',\n",
       " 'al451007.3',\n",
       " 'al590560.2',\n",
       " 'al603764.2',\n",
       " 'al772284.2',\n",
       " 'al845331.2',\n",
       " 'alg1l',\n",
       " 'ap000552.4',\n",
       " 'ap002495.1',\n",
       " 'arih2os',\n",
       " 'armc4',\n",
       " 'arse',\n",
       " 'atp5md',\n",
       " 'atp5mpl',\n",
       " 'atp6ap1l',\n",
       " 'b3gnt10',\n",
       " 'bhmg1',\n",
       " 'bx255925.3',\n",
       " 'bx276092.9',\n",
       " 'c10orf142',\n",
       " 'c10orf55',\n",
       " 'c11orf40',\n",
       " 'c11orf74',\n",
       " 'c11orf88',\n",
       " 'c12orf10',\n",
       " 'c12orf49',\n",
       " 'c12orf74',\n",
       " 'c12orf81',\n",
       " 'c14orf177',\n",
       " 'c15orf41',\n",
       " 'c16orf58',\n",
       " 'c17orf53',\n",
       " 'c19orf48',\n",
       " 'c19orf57',\n",
       " 'c1orf61',\n",
       " 'c2orf83',\n",
       " 'c2orf91',\n",
       " 'c3orf67',\n",
       " 'c5orf30',\n",
       " 'c5orf60',\n",
       " 'c5orf67',\n",
       " 'c6orf201',\n",
       " 'c6orf223',\n",
       " 'c7orf77',\n",
       " 'c9orf129',\n",
       " 'c9orf92',\n",
       " 'card16',\n",
       " 'card17',\n",
       " 'cars',\n",
       " 'casc1',\n",
       " 'casc4',\n",
       " 'castor3',\n",
       " 'ccdc114',\n",
       " 'ccdc140',\n",
       " 'ccdc151',\n",
       " 'ccdc155',\n",
       " 'ccdc36',\n",
       " 'ccdc39',\n",
       " 'ccdc84',\n",
       " 'cd3eap',\n",
       " 'cenpbd1',\n",
       " 'cllu1os',\n",
       " 'cntd2',\n",
       " 'ct62',\n",
       " 'cxorf21',\n",
       " 'cxorf40a',\n",
       " 'cxorf56',\n",
       " 'cyb561d2',\n",
       " 'dars',\n",
       " 'dec1',\n",
       " 'defb133',\n",
       " 'dirc1',\n",
       " 'dock8-as1',\n",
       " 'dupd1',\n",
       " 'dusp27',\n",
       " 'elfn2',\n",
       " 'elmsan1',\n",
       " 'eloa3',\n",
       " 'eprs',\n",
       " 'fam122a',\n",
       " 'fam122b',\n",
       " 'fam122c',\n",
       " 'fam169b',\n",
       " 'fam192a',\n",
       " 'fam218a',\n",
       " 'fam30a',\n",
       " 'fam49a',\n",
       " 'fam49b',\n",
       " 'fam92b',\n",
       " 'fgfr1op',\n",
       " 'fopnl',\n",
       " 'fp565260.1',\n",
       " 'g6pc',\n",
       " 'gars',\n",
       " 'gcsaml-as1',\n",
       " 'gdf5os',\n",
       " 'glra4',\n",
       " 'golga8m',\n",
       " 'grasp',\n",
       " 'h1f0',\n",
       " 'h1fnt',\n",
       " 'h1foo',\n",
       " 'h1fx',\n",
       " 'h2afj',\n",
       " 'h2afx',\n",
       " 'h2afy',\n",
       " 'h2afy2',\n",
       " 'h2afz',\n",
       " 'h2bfm',\n",
       " 'h2bfwt',\n",
       " 'h3.y',\n",
       " 'h3f3a',\n",
       " 'h3f3b',\n",
       " 'h3f3c',\n",
       " 'hars',\n",
       " 'hhla3',\n",
       " 'hist1h1a',\n",
       " 'hist1h1b',\n",
       " 'hist1h1c',\n",
       " 'hist1h1d',\n",
       " 'hist1h1e',\n",
       " 'hist1h2aa',\n",
       " 'hist1h2ac',\n",
       " 'hist1h2ae',\n",
       " 'hist1h2ag',\n",
       " 'hist1h2ai',\n",
       " 'hist1h2ak',\n",
       " 'hist1h2ba',\n",
       " 'hist1h2bb',\n",
       " 'hist1h2bg',\n",
       " 'hist1h2bh',\n",
       " 'hist1h2bn',\n",
       " 'hist1h3e',\n",
       " 'hist1h3g',\n",
       " 'hist1h3h',\n",
       " 'hist1h4b',\n",
       " 'hist1h4c',\n",
       " 'hist1h4e',\n",
       " 'hist1h4g',\n",
       " 'hist1h4i',\n",
       " 'hist1h4j',\n",
       " 'hist2h2be',\n",
       " 'hist3h2a',\n",
       " 'hist3h2bb',\n",
       " 'hist3h3',\n",
       " 'hist4h4',\n",
       " 'hypm',\n",
       " 'iars',\n",
       " 'ick',\n",
       " 'igha1',\n",
       " 'igha2',\n",
       " 'ighd',\n",
       " 'ighe',\n",
       " 'ighg1',\n",
       " 'ighg3',\n",
       " 'ighm',\n",
       " 'igkc',\n",
       " 'iglc1',\n",
       " 'iglc7',\n",
       " 'impad1',\n",
       " 'kars',\n",
       " 'kiaa0355',\n",
       " 'kiaa0556',\n",
       " 'kiaa1211',\n",
       " 'kiaa1211l',\n",
       " 'kiaa1257',\n",
       " 'kiaa1324',\n",
       " 'kiaa1324l',\n",
       " 'kif1bp',\n",
       " 'lars',\n",
       " 'linc02693',\n",
       " 'linc02694',\n",
       " 'lor',\n",
       " 'lrmp',\n",
       " 'lrp5l',\n",
       " 'lrrc29',\n",
       " 'maats1',\n",
       " 'marc1',\n",
       " 'marc2',\n",
       " 'march1',\n",
       " 'march10',\n",
       " 'march11',\n",
       " 'march2',\n",
       " 'march3',\n",
       " 'march4',\n",
       " 'march5',\n",
       " 'march6',\n",
       " 'march7',\n",
       " 'march8',\n",
       " 'march9',\n",
       " 'mars',\n",
       " 'mir1915hg',\n",
       " 'mrvi1',\n",
       " 'mycnos',\n",
       " 'nars',\n",
       " 'nxf5',\n",
       " 'or5r1',\n",
       " 'palm2-akap2',\n",
       " 'pano1',\n",
       " 'pde11a',\n",
       " 'pih1d3',\n",
       " 'pinx1',\n",
       " 'ppp5d1',\n",
       " 'prky',\n",
       " 'qars',\n",
       " 'rars',\n",
       " 'rgs5',\n",
       " 'sars',\n",
       " 'sfta3',\n",
       " 'siglec5',\n",
       " 'slc26a10',\n",
       " 'slc66a1l',\n",
       " 'slfn12l',\n",
       " 'snhg32',\n",
       " 'spata13',\n",
       " 'spata8',\n",
       " 'spert',\n",
       " 'sspo',\n",
       " 'st5',\n",
       " 'tars',\n",
       " 'tarsl2',\n",
       " 'tbce',\n",
       " 'tcte3',\n",
       " 'tctex1d1',\n",
       " 'tctex1d2',\n",
       " 'tctex1d4',\n",
       " 'terc',\n",
       " 'tmem155',\n",
       " 'tmem173',\n",
       " 'tmem189',\n",
       " 'tmem246',\n",
       " 'tmem8a',\n",
       " 'tmem99',\n",
       " 'tmsb15b',\n",
       " 'trac',\n",
       " 'trbc1',\n",
       " 'trbc2',\n",
       " 'trdc',\n",
       " 'trgc1',\n",
       " 'trgc2',\n",
       " 'trgjp1',\n",
       " 'trgjp2',\n",
       " 'trim16l',\n",
       " 'tsta3',\n",
       " 'ttc25',\n",
       " 'twistnb',\n",
       " 'vars',\n",
       " 'wars',\n",
       " 'wdr34',\n",
       " 'wdr60',\n",
       " 'wdr63',\n",
       " 'wdr66',\n",
       " 'wdr78',\n",
       " 'wdyhv1',\n",
       " 'yars',\n",
       " 'z82206.1',\n",
       " 'znf883',\n",
       " 'znrd1'}"
      ]
     },
     "execution_count": 8,
     "metadata": {},
     "output_type": "execute_result"
    }
   ],
   "source": [
    "# 将所有基因名称转换为小写\n",
    "all_genes_lower = [gene.lower() for gene in all_genes]\n",
    "adata_genes_lower = [gene.lower() for gene in existing_genes]\n",
    "\n",
    "# 将两个列表转换为集合\n",
    "all_genes_set = set(all_genes_lower)\n",
    "adata_genes_set = set(adata_genes_lower)\n",
    "\n",
    "# 计算交集\n",
    "matching_genes = all_genes_set.intersection(adata_genes_set)\n",
    "matching_count = len(matching_genes)\n",
    "# 计算不匹配的基因\n",
    "non_matching_genes = adata_genes_set - matching_genes\n",
    "non_matching_count = len(non_matching_genes)\n",
    "\n",
    "\n",
    "# 输出结果\n",
    "print(f\"匹配的基因数量: {matching_count}\")\n",
    "print(f\"匹配的基因列表: {matching_genes}\")\n",
    "non_matching_genes"
   ]
  },
  {
   "cell_type": "code",
   "execution_count": 9,
   "metadata": {
    "execution": {
     "iopub.execute_input": "2025-04-14T12:05:13.064271Z",
     "iopub.status.busy": "2025-04-14T12:05:13.064120Z",
     "iopub.status.idle": "2025-04-14T12:06:11.108784Z",
     "shell.execute_reply": "2025-04-14T12:06:11.107969Z"
    }
   },
   "outputs": [
    {
     "name": "stdout",
     "output_type": "stream",
     "text": [
      "Gene al391650.1 not found in all_genes list\n"
     ]
    },
    {
     "name": "stdout",
     "output_type": "stream",
     "text": [
      "Gene yars not found in all_genes list\n",
      "Gene adprhl2 not found in all_genes list\n"
     ]
    },
    {
     "name": "stdout",
     "output_type": "stream",
     "text": [
      "Gene tctex1d4 not found in all_genes list\n"
     ]
    },
    {
     "name": "stdout",
     "output_type": "stream",
     "text": [
      "Gene tctex1d1 not found in all_genes list\n",
      "Gene wdr78 not found in all_genes list\n",
      "Gene hhla3 not found in all_genes list\n",
      "Gene ac118549.1 not found in all_genes list\n"
     ]
    },
    {
     "name": "stdout",
     "output_type": "stream",
     "text": [
      "Gene wdr63 not found in all_genes list\n"
     ]
    },
    {
     "name": "stdout",
     "output_type": "stream",
     "text": [
      "Gene kiaa1324 not found in all_genes list\n",
      "Gene sars not found in all_genes list\n"
     ]
    },
    {
     "name": "stdout",
     "output_type": "stream",
     "text": [
      "Gene hist2h2be not found in all_genes list\n"
     ]
    },
    {
     "name": "stdout",
     "output_type": "stream",
     "text": [
      "Gene al162596.1 not found in all_genes list\n",
      "Gene lor not found in all_genes list\n"
     ]
    },
    {
     "name": "stdout",
     "output_type": "stream",
     "text": [
      "Gene c1orf61 not found in all_genes list\n"
     ]
    },
    {
     "name": "stdout",
     "output_type": "stream",
     "text": [
      "Gene al590560.2 not found in all_genes list\n"
     ]
    },
    {
     "name": "stdout",
     "output_type": "stream",
     "text": [
      "Gene rgs5 not found in all_genes list\n",
      "Gene dusp27 not found in all_genes list\n"
     ]
    },
    {
     "name": "stdout",
     "output_type": "stream",
     "text": [
      "Gene eprs not found in all_genes list\n",
      "Gene marc2 not found in all_genes list\n",
      "Gene marc1 not found in all_genes list\n",
      "Gene h3f3a not found in all_genes list\n",
      "Gene hist3h3 not found in all_genes list\n",
      "Gene hist3h2a not found in all_genes list\n",
      "Gene hist3h2bb not found in all_genes list\n"
     ]
    },
    {
     "name": "stdout",
     "output_type": "stream",
     "text": [
      "Gene al109810.2 not found in all_genes list\n",
      "Gene tbce not found in all_genes list\n",
      "Gene adss not found in all_genes list\n",
      "Gene al451007.3 not found in all_genes list\n"
     ]
    },
    {
     "name": "stdout",
     "output_type": "stream",
     "text": [
      "Gene gcsaml-as1 not found in all_genes list\n"
     ]
    },
    {
     "name": "stdout",
     "output_type": "stream",
     "text": [
      "Gene mycnos not found in all_genes list\n",
      "Gene fam49a not found in all_genes list\n"
     ]
    },
    {
     "name": "stdout",
     "output_type": "stream",
     "text": [
      "Gene c2orf91 not found in all_genes list\n"
     ]
    },
    {
     "name": "stdout",
     "output_type": "stream",
     "text": [
      "Gene igkc not found in all_genes list\n",
      "Gene al845331.2 not found in all_genes list\n",
      "Gene ac092835.1 not found in all_genes list\n",
      "Gene kiaa1211l not found in all_genes list\n"
     ]
    },
    {
     "name": "stdout",
     "output_type": "stream",
     "text": [
      "Gene dars not found in all_genes list\n",
      "Gene march7 not found in all_genes list\n"
     ]
    },
    {
     "name": "stdout",
     "output_type": "stream",
     "text": [
      "Gene pde11a not found in all_genes list\n",
      "Gene dirc1 not found in all_genes list\n"
     ]
    },
    {
     "name": "stdout",
     "output_type": "stream",
     "text": [
      "Gene march4 not found in all_genes list\n",
      "Gene ccdc140 not found in all_genes list\n"
     ]
    },
    {
     "name": "stdout",
     "output_type": "stream",
     "text": [
      "Gene c2orf83 not found in all_genes list\n"
     ]
    },
    {
     "name": "stdout",
     "output_type": "stream",
     "text": [
      "Gene arih2os not found in all_genes list\n",
      "Gene qars not found in all_genes list\n",
      "Gene ccdc36 not found in all_genes list\n",
      "Gene cyb561d2 not found in all_genes list\n"
     ]
    },
    {
     "name": "stdout",
     "output_type": "stream",
     "text": [
      "Gene c3orf67 not found in all_genes list\n"
     ]
    },
    {
     "name": "stdout",
     "output_type": "stream",
     "text": [
      "Gene maats1 not found in all_genes list\n",
      "Gene alg1l not found in all_genes list\n"
     ]
    },
    {
     "name": "stdout",
     "output_type": "stream",
     "text": [
      "Gene kiaa1257 not found in all_genes list\n",
      "Gene h1fx not found in all_genes list\n",
      "Gene h1foo not found in all_genes list\n",
      "Gene acpp not found in all_genes list\n"
     ]
    },
    {
     "name": "stdout",
     "output_type": "stream",
     "text": [
      "Gene slc66a1l not found in all_genes list\n",
      "Gene terc not found in all_genes list\n"
     ]
    },
    {
     "name": "stdout",
     "output_type": "stream",
     "text": [
      "Gene ccdc39 not found in all_genes list\n"
     ]
    },
    {
     "name": "stdout",
     "output_type": "stream",
     "text": [
      "Gene ac072022.2 not found in all_genes list\n",
      "Gene tctex1d2 not found in all_genes list\n"
     ]
    },
    {
     "name": "stdout",
     "output_type": "stream",
     "text": [
      "Gene ac093323.1 not found in all_genes list\n"
     ]
    },
    {
     "name": "stdout",
     "output_type": "stream",
     "text": [
      "Gene kiaa1211 not found in all_genes list\n"
     ]
    },
    {
     "name": "stdout",
     "output_type": "stream",
     "text": [
      "Gene h2afz not found in all_genes list\n"
     ]
    },
    {
     "name": "stdout",
     "output_type": "stream",
     "text": [
      "Gene tmem155 not found in all_genes list\n"
     ]
    },
    {
     "name": "stdout",
     "output_type": "stream",
     "text": [
      "Gene march1 not found in all_genes list\n",
      "Gene fam218a not found in all_genes list\n"
     ]
    },
    {
     "name": "stdout",
     "output_type": "stream",
     "text": [
      "Gene march6 not found in all_genes list\n",
      "Gene march11 not found in all_genes list\n",
      "Gene ac106774.4 not found in all_genes list\n",
      "Gene h3.y not found in all_genes list\n",
      "Gene tars not found in all_genes list\n"
     ]
    },
    {
     "name": "stdout",
     "output_type": "stream",
     "text": [
      "Gene c5orf67 not found in all_genes list\n"
     ]
    },
    {
     "name": "stdout",
     "output_type": "stream",
     "text": [
      "Gene atp6ap1l not found in all_genes list\n",
      "Gene c5orf30 not found in all_genes list\n"
     ]
    },
    {
     "name": "stdout",
     "output_type": "stream",
     "text": [
      "Gene ac010255.3 not found in all_genes list\n",
      "Gene march3 not found in all_genes list\n"
     ]
    },
    {
     "name": "stdout",
     "output_type": "stream",
     "text": [
      "Gene h2afy not found in all_genes list\n",
      "Gene tmem173 not found in all_genes list\n",
      "Gene hars not found in all_genes list\n"
     ]
    },
    {
     "name": "stdout",
     "output_type": "stream",
     "text": [
      "Gene lars not found in all_genes list\n"
     ]
    },
    {
     "name": "stdout",
     "output_type": "stream",
     "text": [
      "Gene rars not found in all_genes list\n"
     ]
    },
    {
     "name": "stdout",
     "output_type": "stream",
     "text": [
      "Gene ac113348.1 not found in all_genes list\n",
      "Gene c5orf60 not found in all_genes list\n",
      "Gene c6orf201 not found in all_genes list\n"
     ]
    },
    {
     "name": "stdout",
     "output_type": "stream",
     "text": [
      "Gene hist1h2aa not found in all_genes list\n",
      "Gene hist1h2ba not found in all_genes list\n",
      "Gene hist1h1a not found in all_genes list\n",
      "Gene hist1h4b not found in all_genes list\n",
      "Gene hist1h2bb not found in all_genes list\n",
      "Gene hist1h1c not found in all_genes list\n",
      "Gene hist1h4c not found in all_genes list\n",
      "Gene hist1h2ac not found in all_genes list\n",
      "Gene hist1h1e not found in all_genes list\n",
      "Gene hist1h4e not found in all_genes list\n",
      "Gene hist1h2bg not found in all_genes list\n",
      "Gene hist1h2ae not found in all_genes list\n",
      "Gene hist1h3e not found in all_genes list\n",
      "Gene hist1h1d not found in all_genes list\n",
      "Gene hist1h4g not found in all_genes list\n",
      "Gene hist1h2bh not found in all_genes list\n",
      "Gene hist1h3g not found in all_genes list\n",
      "Gene hist1h2ag not found in all_genes list\n",
      "Gene hist1h4i not found in all_genes list\n",
      "Gene hist1h2ai not found in all_genes list\n",
      "Gene hist1h3h not found in all_genes list\n",
      "Gene hist1h4j not found in all_genes list\n",
      "Gene hist1h2bn not found in all_genes list\n",
      "Gene hist1h2ak not found in all_genes list\n",
      "Gene hist1h1b not found in all_genes list\n",
      "Gene znrd1 not found in all_genes list\n"
     ]
    },
    {
     "name": "stdout",
     "output_type": "stream",
     "text": [
      "Gene vars not found in all_genes list\n",
      "Gene snhg32 not found in all_genes list\n"
     ]
    },
    {
     "name": "stdout",
     "output_type": "stream",
     "text": [
      "Gene c6orf223 not found in all_genes list\n",
      "Gene defb133 not found in all_genes list\n",
      "Gene ick not found in all_genes list\n"
     ]
    },
    {
     "name": "stdout",
     "output_type": "stream",
     "text": [
      "Gene al135905.2 not found in all_genes list\n"
     ]
    },
    {
     "name": "stdout",
     "output_type": "stream",
     "text": [
      "Gene fgfr1op not found in all_genes list\n",
      "Gene tcte3 not found in all_genes list\n",
      "Gene ac187653.1 not found in all_genes list\n"
     ]
    },
    {
     "name": "stdout",
     "output_type": "stream",
     "text": [
      "Gene ac013470.2 not found in all_genes list\n",
      "Gene twistnb not found in all_genes list\n"
     ]
    },
    {
     "name": "stdout",
     "output_type": "stream",
     "text": [
      "Gene ac004593.3 not found in all_genes list\n",
      "Gene gars not found in all_genes list\n",
      "Gene trgc2 not found in all_genes list\n",
      "Gene trgjp2 not found in all_genes list\n",
      "Gene trgc1 not found in all_genes list\n",
      "Gene trgjp1 not found in all_genes list\n"
     ]
    },
    {
     "name": "stdout",
     "output_type": "stream",
     "text": [
      "Gene ac115220.1 not found in all_genes list\n"
     ]
    },
    {
     "name": "stdout",
     "output_type": "stream",
     "text": [
      "Gene kiaa1324l not found in all_genes list\n"
     ]
    },
    {
     "name": "stdout",
     "output_type": "stream",
     "text": [
      "Gene castor3 not found in all_genes list\n"
     ]
    },
    {
     "name": "stdout",
     "output_type": "stream",
     "text": [
      "Gene c7orf77 not found in all_genes list\n",
      "Gene ac011005.1 not found in all_genes list\n"
     ]
    },
    {
     "name": "stdout",
     "output_type": "stream",
     "text": [
      "Gene trbc1 not found in all_genes list\n",
      "Gene trbc2 not found in all_genes list\n",
      "Gene sspo not found in all_genes list\n",
      "Gene ac073111.4 not found in all_genes list\n"
     ]
    },
    {
     "name": "stdout",
     "output_type": "stream",
     "text": [
      "Gene ac021097.2 not found in all_genes list\n",
      "Gene wdr60 not found in all_genes list\n",
      "Gene ac134684.8 not found in all_genes list\n"
     ]
    },
    {
     "name": "stdout",
     "output_type": "stream",
     "text": [
      "Gene pinx1 not found in all_genes list\n"
     ]
    },
    {
     "name": "stdout",
     "output_type": "stream",
     "text": [
      "Gene impad1 not found in all_genes list\n"
     ]
    },
    {
     "name": "stdout",
     "output_type": "stream",
     "text": [
      "Gene wdyhv1 not found in all_genes list\n",
      "Gene fam49b not found in all_genes list\n",
      "Gene ac138647.1 not found in all_genes list\n"
     ]
    },
    {
     "name": "stdout",
     "output_type": "stream",
     "text": [
      "Gene tsta3 not found in all_genes list\n",
      "Gene dock8-as1 not found in all_genes list\n"
     ]
    },
    {
     "name": "stdout",
     "output_type": "stream",
     "text": [
      "Gene c9orf92 not found in all_genes list\n"
     ]
    },
    {
     "name": "stdout",
     "output_type": "stream",
     "text": [
      "Gene al162231.1 not found in all_genes list\n"
     ]
    },
    {
     "name": "stdout",
     "output_type": "stream",
     "text": [
      "Gene fam122a not found in all_genes list\n",
      "Gene al353572.3 not found in all_genes list\n"
     ]
    },
    {
     "name": "stdout",
     "output_type": "stream",
     "text": [
      "Gene iars not found in all_genes list\n",
      "Gene c9orf129 not found in all_genes list\n",
      "Gene al160269.1 not found in all_genes list\n"
     ]
    },
    {
     "name": "stdout",
     "output_type": "stream",
     "text": [
      "Gene tmem246 not found in all_genes list\n",
      "Gene palm2-akap2 not found in all_genes list\n",
      "Gene znf883 not found in all_genes list\n"
     ]
    },
    {
     "name": "stdout",
     "output_type": "stream",
     "text": [
      "Gene dec1 not found in all_genes list\n",
      "Gene b3gnt10 not found in all_genes list\n"
     ]
    },
    {
     "name": "stdout",
     "output_type": "stream",
     "text": [
      "Gene wdr34 not found in all_genes list\n"
     ]
    },
    {
     "name": "stdout",
     "output_type": "stream",
     "text": [
      "Gene al354761.1 not found in all_genes list\n",
      "Gene bx255925.3 not found in all_genes list\n"
     ]
    },
    {
     "name": "stdout",
     "output_type": "stream",
     "text": [
      "Gene mir1915hg not found in all_genes list\n",
      "Gene armc4 not found in all_genes list\n"
     ]
    },
    {
     "name": "stdout",
     "output_type": "stream",
     "text": [
      "Gene c10orf142 not found in all_genes list\n",
      "Gene march8 not found in all_genes list\n"
     ]
    },
    {
     "name": "stdout",
     "output_type": "stream",
     "text": [
      "Gene ac067752.1 not found in all_genes list\n",
      "Gene kif1bp not found in all_genes list\n",
      "Gene h2afy2 not found in all_genes list\n"
     ]
    },
    {
     "name": "stdout",
     "output_type": "stream",
     "text": [
      "Gene c10orf55 not found in all_genes list\n",
      "Gene dupd1 not found in all_genes list\n"
     ]
    },
    {
     "name": "stdout",
     "output_type": "stream",
     "text": [
      "Gene march5 not found in all_genes list\n"
     ]
    },
    {
     "name": "stdout",
     "output_type": "stream",
     "text": [
      "Gene atp5md not found in all_genes list\n"
     ]
    },
    {
     "name": "stdout",
     "output_type": "stream",
     "text": [
      "Gene al603764.2 not found in all_genes list\n"
     ]
    },
    {
     "name": "stdout",
     "output_type": "stream",
     "text": [
      "Gene pano1 not found in all_genes list\n",
      "Gene ac132217.2 not found in all_genes list\n",
      "Gene cars not found in all_genes list\n",
      "Gene c11orf40 not found in all_genes list\n"
     ]
    },
    {
     "name": "stdout",
     "output_type": "stream",
     "text": [
      "Gene ac104389.5 not found in all_genes list\n"
     ]
    },
    {
     "name": "stdout",
     "output_type": "stream",
     "text": [
      "Gene st5 not found in all_genes list\n",
      "Gene mrvi1 not found in all_genes list\n"
     ]
    },
    {
     "name": "stdout",
     "output_type": "stream",
     "text": [
      "Gene c11orf74 not found in all_genes list\n"
     ]
    },
    {
     "name": "stdout",
     "output_type": "stream",
     "text": [
      "Gene or5r1 not found in all_genes list\n"
     ]
    },
    {
     "name": "stdout",
     "output_type": "stream",
     "text": [
      "Gene ap002495.1 not found in all_genes list\n"
     ]
    },
    {
     "name": "stdout",
     "output_type": "stream",
     "text": [
      "Gene card16 not found in all_genes list\n",
      "Gene card17 not found in all_genes list\n",
      "Gene c11orf88 not found in all_genes list\n"
     ]
    },
    {
     "name": "stdout",
     "output_type": "stream",
     "text": [
      "Gene ccdc84 not found in all_genes list\n",
      "Gene h2afx not found in all_genes list\n"
     ]
    },
    {
     "name": "stdout",
     "output_type": "stream",
     "text": [
      "Gene hist4h4 not found in all_genes list\n",
      "Gene h2afj not found in all_genes list\n",
      "Gene lrmp not found in all_genes list\n",
      "Gene casc1 not found in all_genes list\n"
     ]
    },
    {
     "name": "stdout",
     "output_type": "stream",
     "text": [
      "Gene h3f3c not found in all_genes list\n",
      "Gene h1fnt not found in all_genes list\n"
     ]
    },
    {
     "name": "stdout",
     "output_type": "stream",
     "text": [
      "Gene c12orf81 not found in all_genes list\n",
      "Gene grasp not found in all_genes list\n",
      "Gene ac021072.1 not found in all_genes list\n",
      "Gene c12orf10 not found in all_genes list\n"
     ]
    },
    {
     "name": "stdout",
     "output_type": "stream",
     "text": [
      "Gene mars not found in all_genes list\n",
      "Gene slc26a10 not found in all_genes list\n",
      "Gene march9 not found in all_genes list\n"
     ]
    },
    {
     "name": "stdout",
     "output_type": "stream",
     "text": [
      "Gene cllu1os not found in all_genes list\n",
      "Gene c12orf74 not found in all_genes list\n"
     ]
    },
    {
     "name": "stdout",
     "output_type": "stream",
     "text": [
      "Gene c12orf49 not found in all_genes list\n",
      "Gene wdr66 not found in all_genes list\n"
     ]
    },
    {
     "name": "stdout",
     "output_type": "stream",
     "text": [
      "Gene spata13 not found in all_genes list\n"
     ]
    },
    {
     "name": "stdout",
     "output_type": "stream",
     "text": [
      "Gene spert not found in all_genes list\n",
      "Gene al445238.1 not found in all_genes list\n"
     ]
    },
    {
     "name": "stdout",
     "output_type": "stream",
     "text": [
      "Gene trdc not found in all_genes list\n",
      "Gene trac not found in all_genes list\n"
     ]
    },
    {
     "name": "stdout",
     "output_type": "stream",
     "text": [
      "Gene sfta3 not found in all_genes list\n"
     ]
    },
    {
     "name": "stdout",
     "output_type": "stream",
     "text": [
      "Gene elmsan1 not found in all_genes list\n"
     ]
    },
    {
     "name": "stdout",
     "output_type": "stream",
     "text": [
      "Gene c14orf177 not found in all_genes list\n",
      "Gene wars not found in all_genes list\n",
      "Gene atp5mpl not found in all_genes list\n",
      "Gene adssl1 not found in all_genes list\n"
     ]
    },
    {
     "name": "stdout",
     "output_type": "stream",
     "text": [
      "Gene igha2 not found in all_genes list\n",
      "Gene ighe not found in all_genes list\n",
      "Gene igha1 not found in all_genes list\n",
      "Gene ighg1 not found in all_genes list\n",
      "Gene ighg3 not found in all_genes list\n",
      "Gene ighd not found in all_genes list\n",
      "Gene ighm not found in all_genes list\n",
      "Gene fam30a not found in all_genes list\n",
      "Gene ac135068.1 not found in all_genes list\n",
      "Gene golga8m not found in all_genes list\n",
      "Gene ac091057.6 not found in all_genes list\n",
      "Gene c15orf41 not found in all_genes list\n"
     ]
    },
    {
     "name": "stdout",
     "output_type": "stream",
     "text": [
      "Gene linc02694 not found in all_genes list\n"
     ]
    },
    {
     "name": "stdout",
     "output_type": "stream",
     "text": [
      "Gene casc4 not found in all_genes list\n"
     ]
    },
    {
     "name": "stdout",
     "output_type": "stream",
     "text": [
      "Gene ct62 not found in all_genes list\n"
     ]
    },
    {
     "name": "stdout",
     "output_type": "stream",
     "text": [
      "Gene ac015871.1 not found in all_genes list\n"
     ]
    },
    {
     "name": "stdout",
     "output_type": "stream",
     "text": [
      "Gene spata8 not found in all_genes list\n",
      "Gene fam169b not found in all_genes list\n",
      "Gene tarsl2 not found in all_genes list\n",
      "Gene tmem8a not found in all_genes list\n"
     ]
    },
    {
     "name": "stdout",
     "output_type": "stream",
     "text": [
      "Gene al032819.3 not found in all_genes list\n"
     ]
    },
    {
     "name": "stdout",
     "output_type": "stream",
     "text": [
      "Gene ac025283.2 not found in all_genes list\n"
     ]
    },
    {
     "name": "stdout",
     "output_type": "stream",
     "text": [
      "Gene ac099489.1 not found in all_genes list\n",
      "Gene fopnl not found in all_genes list\n"
     ]
    },
    {
     "name": "stdout",
     "output_type": "stream",
     "text": [
      "Gene kiaa0556 not found in all_genes list\n"
     ]
    },
    {
     "name": "stdout",
     "output_type": "stream",
     "text": [
      "Gene c16orf58 not found in all_genes list\n",
      "Gene ac007906.2 not found in all_genes list\n"
     ]
    },
    {
     "name": "stdout",
     "output_type": "stream",
     "text": [
      "Gene fam192a not found in all_genes list\n",
      "Gene lrrc29 not found in all_genes list\n"
     ]
    },
    {
     "name": "stdout",
     "output_type": "stream",
     "text": [
      "Gene aars not found in all_genes list\n",
      "Gene kars not found in all_genes list\n",
      "Gene ac025287.4 not found in all_genes list\n"
     ]
    },
    {
     "name": "stdout",
     "output_type": "stream",
     "text": [
      "Gene fam92b not found in all_genes list\n",
      "Gene cenpbd1 not found in all_genes list\n"
     ]
    },
    {
     "name": "stdout",
     "output_type": "stream",
     "text": [
      "Gene ac087498.1 not found in all_genes list\n",
      "Gene ac233723.1 not found in all_genes list\n"
     ]
    },
    {
     "name": "stdout",
     "output_type": "stream",
     "text": [
      "Gene trim16l not found in all_genes list\n",
      "Gene linc02693 not found in all_genes list\n"
     ]
    },
    {
     "name": "stdout",
     "output_type": "stream",
     "text": [
      "Gene slfn12l not found in all_genes list\n"
     ]
    },
    {
     "name": "stdout",
     "output_type": "stream",
     "text": [
      "Gene tmem99 not found in all_genes list\n",
      "Gene ttc25 not found in all_genes list\n"
     ]
    },
    {
     "name": "stdout",
     "output_type": "stream",
     "text": [
      "Gene g6pc not found in all_genes list\n",
      "Gene c17orf53 not found in all_genes list\n"
     ]
    },
    {
     "name": "stdout",
     "output_type": "stream",
     "text": [
      "Gene ac011195.2 not found in all_genes list\n",
      "Gene march10 not found in all_genes list\n"
     ]
    },
    {
     "name": "stdout",
     "output_type": "stream",
     "text": [
      "Gene h3f3b not found in all_genes list\n"
     ]
    },
    {
     "name": "stdout",
     "output_type": "stream",
     "text": [
      "Gene eloa3 not found in all_genes list\n",
      "Gene nars not found in all_genes list\n"
     ]
    },
    {
     "name": "stdout",
     "output_type": "stream",
     "text": [
      "Gene ac090360.1 not found in all_genes list\n"
     ]
    },
    {
     "name": "stdout",
     "output_type": "stream",
     "text": [
      "Gene ac005551.1 not found in all_genes list\n"
     ]
    },
    {
     "name": "stdout",
     "output_type": "stream",
     "text": [
      "Gene ac119396.1 not found in all_genes list\n",
      "Gene march2 not found in all_genes list\n"
     ]
    },
    {
     "name": "stdout",
     "output_type": "stream",
     "text": [
      "Gene ccdc151 not found in all_genes list\n"
     ]
    },
    {
     "name": "stdout",
     "output_type": "stream",
     "text": [
      "Gene c19orf57 not found in all_genes list\n"
     ]
    },
    {
     "name": "stdout",
     "output_type": "stream",
     "text": [
      "Gene ac008397.1 not found in all_genes list\n"
     ]
    },
    {
     "name": "stdout",
     "output_type": "stream",
     "text": [
      "Gene kiaa0355 not found in all_genes list\n"
     ]
    },
    {
     "name": "stdout",
     "output_type": "stream",
     "text": [
      "Gene cntd2 not found in all_genes list\n"
     ]
    },
    {
     "name": "stdout",
     "output_type": "stream",
     "text": [
      "Gene cd3eap not found in all_genes list\n",
      "Gene bhmg1 not found in all_genes list\n",
      "Gene ppp5d1 not found in all_genes list\n"
     ]
    },
    {
     "name": "stdout",
     "output_type": "stream",
     "text": [
      "Gene ccdc114 not found in all_genes list\n",
      "Gene ac008687.4 not found in all_genes list\n",
      "Gene ccdc155 not found in all_genes list\n"
     ]
    },
    {
     "name": "stdout",
     "output_type": "stream",
     "text": [
      "Gene ac010325.1 not found in all_genes list\n",
      "Gene c19orf48 not found in all_genes list\n",
      "Gene siglec5 not found in all_genes list\n"
     ]
    },
    {
     "name": "stdout",
     "output_type": "stream",
     "text": [
      "Gene gdf5os not found in all_genes list\n"
     ]
    },
    {
     "name": "stdout",
     "output_type": "stream",
     "text": [
      "Gene tmem189 not found in all_genes list\n"
     ]
    },
    {
     "name": "stdout",
     "output_type": "stream",
     "text": [
      "Gene fp565260.1 not found in all_genes list\n"
     ]
    },
    {
     "name": "stdout",
     "output_type": "stream",
     "text": [
      "Gene ap000552.4 not found in all_genes list\n",
      "Gene iglc1 not found in all_genes list\n",
      "Gene iglc7 not found in all_genes list\n",
      "Gene lrp5l not found in all_genes list\n"
     ]
    },
    {
     "name": "stdout",
     "output_type": "stream",
     "text": [
      "Gene elfn2 not found in all_genes list\n",
      "Gene h1f0 not found in all_genes list\n",
      "Gene z82206.1 not found in all_genes list\n"
     ]
    },
    {
     "name": "stdout",
     "output_type": "stream",
     "text": [
      "Gene arse not found in all_genes list\n"
     ]
    },
    {
     "name": "stdout",
     "output_type": "stream",
     "text": [
      "Gene cxorf21 not found in all_genes list\n",
      "Gene hypm not found in all_genes list\n",
      "Gene al121578.2 not found in all_genes list\n"
     ]
    },
    {
     "name": "stdout",
     "output_type": "stream",
     "text": [
      "Gene bx276092.9 not found in all_genes list\n"
     ]
    },
    {
     "name": "stdout",
     "output_type": "stream",
     "text": [
      "Gene nxf5 not found in all_genes list\n",
      "Gene glra4 not found in all_genes list\n",
      "Gene tmsb15b not found in all_genes list\n",
      "Gene h2bfwt not found in all_genes list\n",
      "Gene h2bfm not found in all_genes list\n",
      "Gene pih1d3 not found in all_genes list\n"
     ]
    },
    {
     "name": "stdout",
     "output_type": "stream",
     "text": [
      "Gene al772284.2 not found in all_genes list\n",
      "Gene cxorf56 not found in all_genes list\n",
      "Gene fam122b not found in all_genes list\n",
      "Gene fam122c not found in all_genes list\n"
     ]
    },
    {
     "name": "stdout",
     "output_type": "stream",
     "text": [
      "Gene cxorf40a not found in all_genes list\n",
      "Gene ac236972.4 not found in all_genes list\n"
     ]
    },
    {
     "name": "stdout",
     "output_type": "stream",
     "text": [
      "Gene prky not found in all_genes list\n",
      "Gene ac007244.1 not found in all_genes list\n"
     ]
    }
   ],
   "source": [
    "gene_to_index = {gene: idx for idx, gene in enumerate(all_genes_lower)}\n",
    "dense_adata_X = adata.X\n",
    "for i, gene in enumerate(adata_genes_lower):\n",
    "    if gene in gene_to_index:\n",
    "        new_data[:, gene_to_index[gene]] = dense_adata_X[:, i]\n",
    "    else:\n",
    "        print(f'Gene {gene} not found in all_genes list')"
   ]
  },
  {
   "cell_type": "code",
   "execution_count": 10,
   "metadata": {
    "execution": {
     "iopub.execute_input": "2025-04-14T12:06:11.110798Z",
     "iopub.status.busy": "2025-04-14T12:06:11.110608Z",
     "iopub.status.idle": "2025-04-14T12:06:18.935365Z",
     "shell.execute_reply": "2025-04-14T12:06:18.934514Z"
    }
   },
   "outputs": [
    {
     "name": "stderr",
     "output_type": "stream",
     "text": [
      "GPU available: True (cuda), used: True\n"
     ]
    },
    {
     "name": "stderr",
     "output_type": "stream",
     "text": [
      "TPU available: False, using: 0 TPU cores\n"
     ]
    },
    {
     "name": "stderr",
     "output_type": "stream",
     "text": [
      "HPU available: False, using: 0 HPUs\n"
     ]
    }
   ],
   "source": [
    "estim.trainer = pl.Trainer(accelerator=\"gpu\", devices=1 if torch.cuda.is_available() else None)\n",
    "# 5. 数据集划分（70% 训练，15% 验证，15% 测试）\n",
    "label_encoder = LabelEncoder()\n",
    "labels_encoded = label_encoder.fit_transform(adata.obs['cell_type'])  # 预先编码标签\n",
    "\n",
    "\n",
    "random_seed = 42\n",
    "\n",
    "X_train_val, X_test, y_train_val, y_test = train_test_split(\n",
    "    new_data, labels_encoded, test_size=0.15, random_state=random_seed)\n",
    "\n",
    "X_train, X_val, y_train, y_val = train_test_split(\n",
    "    X_train_val, y_train_val, test_size=0.1765, random_state=random_seed)  # 0.1765 是为了让验证集占 15%"
   ]
  },
  {
   "cell_type": "code",
   "execution_count": 11,
   "metadata": {
    "execution": {
     "iopub.execute_input": "2025-04-14T12:06:18.937445Z",
     "iopub.status.busy": "2025-04-14T12:06:18.937268Z",
     "iopub.status.idle": "2025-04-14T12:06:20.625759Z",
     "shell.execute_reply": "2025-04-14T12:06:20.625129Z"
    }
   },
   "outputs": [],
   "source": [
    "X_train_tensor = torch.tensor(X_train).float().to(device)\n",
    "y_train_tensor = torch.tensor(y_train).long().to(device)\n",
    "X_val_tensor = torch.tensor(X_val).float().to(device)\n",
    "y_val_tensor = torch.tensor(y_val).long().to(device)"
   ]
  },
  {
   "cell_type": "code",
   "execution_count": 12,
   "metadata": {
    "execution": {
     "iopub.execute_input": "2025-04-14T12:06:20.627695Z",
     "iopub.status.busy": "2025-04-14T12:06:20.627254Z",
     "iopub.status.idle": "2025-04-14T12:06:20.663217Z",
     "shell.execute_reply": "2025-04-14T12:06:20.662738Z"
    }
   },
   "outputs": [],
   "source": [
    "from torch.utils.data import DataLoader, TensorDataset\n",
    "\n",
    "# 设置 batch size\n",
    "batch_size = 128  # 根据实际需求调整 batch size\n",
    "\n",
    "# 使用 TensorDataset 将训练数据和标签打包\n",
    "train_dataset = TensorDataset(X_train_tensor, y_train_tensor)\n",
    "val_dataset = TensorDataset(X_val_tensor, y_val_tensor)\n",
    "\n",
    "# 使用 DataLoader 来创建批次\n",
    "train_loader = DataLoader(train_dataset, batch_size=batch_size, shuffle=True)\n",
    "val_loader = DataLoader(val_dataset, batch_size=batch_size, shuffle=False)\n",
    "\n",
    "\n",
    "# 7. 微调模型\n",
    "def train_epoch(model, optimizer, loss_fn, train_loader, val_loader):\n",
    "    model.train()\n",
    "    total_train_loss = 0\n",
    "    \n",
    "    # 训练集批次训练\n",
    "    for X_batch, y_batch in train_loader:\n",
    "        optimizer.zero_grad()\n",
    "        \n",
    "        # 前向传播\n",
    "        outputs = model.inner_model(X_batch)\n",
    "        logits = model.fc(outputs)\n",
    "        \n",
    "        # 计算损失\n",
    "        loss = loss_fn(logits, y_batch)\n",
    "        loss.backward()\n",
    "        optimizer.step()\n",
    "        \n",
    "        total_train_loss += loss.item()\n",
    "    \n",
    "    # 验证集\n",
    "    model.eval()\n",
    "    total_val_loss = 0\n",
    "    with torch.no_grad():\n",
    "        for X_val_batch, y_val_batch in val_loader:\n",
    "            val_outputs = model.inner_model(X_val_batch)\n",
    "            val_logits = model.fc(val_outputs)\n",
    "            val_loss = loss_fn(val_logits, y_val_batch)\n",
    "            total_val_loss += val_loss.item()\n",
    "\n",
    "    # 返回平均损失\n",
    "    return total_train_loss / len(train_loader), total_val_loss / len(val_loader)"
   ]
  },
  {
   "cell_type": "code",
   "execution_count": 13,
   "metadata": {
    "execution": {
     "iopub.execute_input": "2025-04-14T12:06:20.664502Z",
     "iopub.status.busy": "2025-04-14T12:06:20.664345Z",
     "iopub.status.idle": "2025-04-14T12:06:20.694507Z",
     "shell.execute_reply": "2025-04-14T12:06:20.694058Z"
    }
   },
   "outputs": [],
   "source": [
    "torch.cuda.empty_cache()"
   ]
  },
  {
   "cell_type": "code",
   "execution_count": 14,
   "metadata": {
    "execution": {
     "iopub.execute_input": "2025-04-14T12:06:20.695792Z",
     "iopub.status.busy": "2025-04-14T12:06:20.695643Z",
     "iopub.status.idle": "2025-04-14T12:08:20.970648Z",
     "shell.execute_reply": "2025-04-14T12:08:20.969931Z"
    }
   },
   "outputs": [
    {
     "name": "stdout",
     "output_type": "stream",
     "text": [
      "Epoch 1, Train Loss: 1.104640910782657, Validation Loss: 0.9519133913211334\n",
      "Validation loss improved to 0.9519133913211334, resetting patience.\n"
     ]
    },
    {
     "name": "stdout",
     "output_type": "stream",
     "text": [
      "Epoch 2, Train Loss: 0.9377957780937572, Validation Loss: 0.934644014101762\n",
      "Validation loss improved to 0.934644014101762, resetting patience.\n"
     ]
    },
    {
     "name": "stdout",
     "output_type": "stream",
     "text": [
      "Epoch 3, Train Loss: 0.8901984440101371, Validation Loss: 0.8920549713648283\n",
      "Validation loss improved to 0.8920549713648283, resetting patience.\n"
     ]
    },
    {
     "name": "stdout",
     "output_type": "stream",
     "text": [
      "Epoch 4, Train Loss: 0.8623170310979361, Validation Loss: 0.8533319430473524\n",
      "Validation loss improved to 0.8533319430473524, resetting patience.\n"
     ]
    },
    {
     "name": "stdout",
     "output_type": "stream",
     "text": [
      "Epoch 5, Train Loss: 0.8469576118411598, Validation Loss: 0.8595690855613122\n",
      "No improvement in validation loss. Patience counter: 1/20\n"
     ]
    },
    {
     "name": "stdout",
     "output_type": "stream",
     "text": [
      "Epoch 6, Train Loss: 0.8254159529130537, Validation Loss: 0.8198233891756107\n",
      "Validation loss improved to 0.8198233891756107, resetting patience.\n"
     ]
    },
    {
     "name": "stdout",
     "output_type": "stream",
     "text": [
      "Epoch 7, Train Loss: 0.8106889307498932, Validation Loss: 0.8176914279277508\n",
      "Validation loss improved to 0.8176914279277508, resetting patience.\n"
     ]
    },
    {
     "name": "stdout",
     "output_type": "stream",
     "text": [
      "Epoch 8, Train Loss: 0.7991264577750321, Validation Loss: 0.8079651652238308\n",
      "Validation loss improved to 0.8079651652238308, resetting patience.\n"
     ]
    },
    {
     "name": "stdout",
     "output_type": "stream",
     "text": [
      "Epoch 9, Train Loss: 0.7928541426147734, Validation Loss: 0.808781142723866\n",
      "No improvement in validation loss. Patience counter: 1/20\n"
     ]
    },
    {
     "name": "stdout",
     "output_type": "stream",
     "text": [
      "Epoch 10, Train Loss: 0.7848053539192283, Validation Loss: 0.808763936544076\n",
      "No improvement in validation loss. Patience counter: 2/20\n"
     ]
    },
    {
     "name": "stdout",
     "output_type": "stream",
     "text": [
      "Epoch 11, Train Loss: 0.7801081031888396, Validation Loss: 0.8025705472016946\n",
      "Validation loss improved to 0.8025705472016946, resetting patience.\n"
     ]
    },
    {
     "name": "stdout",
     "output_type": "stream",
     "text": [
      "Epoch 12, Train Loss: 0.7685935888971601, Validation Loss: 0.8166528136302263\n",
      "No improvement in validation loss. Patience counter: 1/20\n"
     ]
    },
    {
     "name": "stdout",
     "output_type": "stream",
     "text": [
      "Epoch 13, Train Loss: 0.7638346495864156, Validation Loss: 0.8211232426838997\n",
      "No improvement in validation loss. Patience counter: 2/20\n"
     ]
    },
    {
     "name": "stdout",
     "output_type": "stream",
     "text": [
      "Epoch 14, Train Loss: 0.7587394324632791, Validation Loss: 0.7654775012762118\n",
      "Validation loss improved to 0.7654775012762118, resetting patience.\n"
     ]
    },
    {
     "name": "stdout",
     "output_type": "stream",
     "text": [
      "Epoch 15, Train Loss: 0.7581021074410323, Validation Loss: 0.8024846642445296\n",
      "No improvement in validation loss. Patience counter: 1/20\n"
     ]
    },
    {
     "name": "stdout",
     "output_type": "stream",
     "text": [
      "Epoch 16, Train Loss: 0.7543856153776357, Validation Loss: 0.7519539576310378\n",
      "Validation loss improved to 0.7519539576310378, resetting patience.\n"
     ]
    },
    {
     "name": "stdout",
     "output_type": "stream",
     "text": [
      "Epoch 17, Train Loss: 0.7485354883002711, Validation Loss: 0.7386181586827987\n",
      "Validation loss improved to 0.7386181586827987, resetting patience.\n"
     ]
    },
    {
     "name": "stdout",
     "output_type": "stream",
     "text": [
      "Epoch 18, Train Loss: 0.7461510613724426, Validation Loss: 0.8096416455048782\n",
      "No improvement in validation loss. Patience counter: 1/20\n"
     ]
    },
    {
     "name": "stdout",
     "output_type": "stream",
     "text": [
      "Epoch 19, Train Loss: 0.7434272864362695, Validation Loss: 0.744186484049528\n",
      "No improvement in validation loss. Patience counter: 2/20\n"
     ]
    },
    {
     "name": "stdout",
     "output_type": "stream",
     "text": [
      "Epoch 20, Train Loss: 0.7397125098076496, Validation Loss: 0.7635244646133521\n",
      "No improvement in validation loss. Patience counter: 3/20\n"
     ]
    },
    {
     "name": "stdout",
     "output_type": "stream",
     "text": [
      "Epoch 21, Train Loss: 0.740940033014004, Validation Loss: 0.7465716247375195\n",
      "No improvement in validation loss. Patience counter: 4/20\n"
     ]
    },
    {
     "name": "stdout",
     "output_type": "stream",
     "text": [
      "Epoch 22, Train Loss: 0.7375464593971168, Validation Loss: 0.7419568048073695\n",
      "No improvement in validation loss. Patience counter: 5/20\n"
     ]
    },
    {
     "name": "stdout",
     "output_type": "stream",
     "text": [
      "Epoch 23, Train Loss: 0.7354261838472806, Validation Loss: 0.772403505215278\n",
      "No improvement in validation loss. Patience counter: 6/20\n"
     ]
    },
    {
     "name": "stdout",
     "output_type": "stream",
     "text": [
      "Epoch 24, Train Loss: 0.7366726027740227, Validation Loss: 0.7512269287537305\n",
      "No improvement in validation loss. Patience counter: 7/20\n"
     ]
    },
    {
     "name": "stdout",
     "output_type": "stream",
     "text": [
      "Epoch 25, Train Loss: 0.7282108767019524, Validation Loss: 0.7681012787880042\n",
      "No improvement in validation loss. Patience counter: 8/20\n"
     ]
    },
    {
     "name": "stdout",
     "output_type": "stream",
     "text": [
      "Epoch 26, Train Loss: 0.7306672200724319, Validation Loss: 0.7474574578114045\n",
      "No improvement in validation loss. Patience counter: 9/20\n"
     ]
    },
    {
     "name": "stdout",
     "output_type": "stream",
     "text": [
      "Epoch 27, Train Loss: 0.7249355457313769, Validation Loss: 0.7596795635345654\n",
      "No improvement in validation loss. Patience counter: 10/20\n"
     ]
    },
    {
     "name": "stdout",
     "output_type": "stream",
     "text": [
      "Epoch 28, Train Loss: 0.7266434775603996, Validation Loss: 0.7599152858440693\n",
      "No improvement in validation loss. Patience counter: 11/20\n"
     ]
    },
    {
     "name": "stdout",
     "output_type": "stream",
     "text": [
      "Epoch 29, Train Loss: 0.7208634175442077, Validation Loss: 0.7626523401492681\n",
      "No improvement in validation loss. Patience counter: 12/20\n"
     ]
    },
    {
     "name": "stdout",
     "output_type": "stream",
     "text": [
      "Epoch 30, Train Loss: 0.7235194952605845, Validation Loss: 0.7496377819623703\n",
      "No improvement in validation loss. Patience counter: 13/20\n"
     ]
    },
    {
     "name": "stdout",
     "output_type": "stream",
     "text": [
      "Epoch 31, Train Loss: 0.7215935043908738, Validation Loss: 0.7778518230487139\n",
      "No improvement in validation loss. Patience counter: 14/20\n"
     ]
    },
    {
     "name": "stdout",
     "output_type": "stream",
     "text": [
      "Epoch 32, Train Loss: 0.7176131031342915, Validation Loss: 0.727966383481637\n",
      "Validation loss improved to 0.727966383481637, resetting patience.\n"
     ]
    },
    {
     "name": "stdout",
     "output_type": "stream",
     "text": [
      "Epoch 33, Train Loss: 0.7154182471089311, Validation Loss: 0.7304320006798475\n",
      "No improvement in validation loss. Patience counter: 1/20\n"
     ]
    },
    {
     "name": "stdout",
     "output_type": "stream",
     "text": [
      "Epoch 34, Train Loss: 0.7180831094037046, Validation Loss: 0.7399210657828893\n",
      "No improvement in validation loss. Patience counter: 2/20\n"
     ]
    },
    {
     "name": "stdout",
     "output_type": "stream",
     "text": [
      "Epoch 35, Train Loss: 0.716153665132575, Validation Loss: 0.7417678065789052\n",
      "No improvement in validation loss. Patience counter: 3/20\n"
     ]
    },
    {
     "name": "stdout",
     "output_type": "stream",
     "text": [
      "Epoch 36, Train Loss: 0.7147772298736886, Validation Loss: 0.7208462216915228\n",
      "Validation loss improved to 0.7208462216915228, resetting patience.\n"
     ]
    },
    {
     "name": "stdout",
     "output_type": "stream",
     "text": [
      "Epoch 37, Train Loss: 0.714126956659359, Validation Loss: 0.7307869761418073\n",
      "No improvement in validation loss. Patience counter: 1/20\n"
     ]
    },
    {
     "name": "stdout",
     "output_type": "stream",
     "text": [
      "Epoch 38, Train Loss: 0.7115111445987617, Validation Loss: 0.7320212546067361\n",
      "No improvement in validation loss. Patience counter: 2/20\n"
     ]
    },
    {
     "name": "stdout",
     "output_type": "stream",
     "text": [
      "Epoch 39, Train Loss: 0.7141296252117052, Validation Loss: 0.7261184571645198\n",
      "No improvement in validation loss. Patience counter: 3/20\n"
     ]
    },
    {
     "name": "stdout",
     "output_type": "stream",
     "text": [
      "Epoch 40, Train Loss: 0.7109036891670018, Validation Loss: 0.7309147455753424\n",
      "No improvement in validation loss. Patience counter: 4/20\n"
     ]
    },
    {
     "name": "stdout",
     "output_type": "stream",
     "text": [
      "Epoch 41, Train Loss: 0.7112344950765044, Validation Loss: 0.71134985715915\n",
      "Validation loss improved to 0.71134985715915, resetting patience.\n"
     ]
    },
    {
     "name": "stdout",
     "output_type": "stream",
     "text": [
      "Epoch 42, Train Loss: 0.7095894054397122, Validation Loss: 0.7323840228410867\n",
      "No improvement in validation loss. Patience counter: 1/20\n"
     ]
    },
    {
     "name": "stdout",
     "output_type": "stream",
     "text": [
      "Epoch 43, Train Loss: 0.7126118834857103, Validation Loss: 0.7394775132338206\n",
      "No improvement in validation loss. Patience counter: 2/20\n"
     ]
    },
    {
     "name": "stdout",
     "output_type": "stream",
     "text": [
      "Epoch 44, Train Loss: 0.711764651635191, Validation Loss: 0.7168727009724348\n",
      "No improvement in validation loss. Patience counter: 3/20\n"
     ]
    },
    {
     "name": "stdout",
     "output_type": "stream",
     "text": [
      "Epoch 45, Train Loss: 0.7110482658003713, Validation Loss: 0.7171165266098121\n",
      "No improvement in validation loss. Patience counter: 4/20\n"
     ]
    },
    {
     "name": "stdout",
     "output_type": "stream",
     "text": [
      "Epoch 46, Train Loss: 0.706613915176182, Validation Loss: 0.7331478264087286\n",
      "No improvement in validation loss. Patience counter: 5/20\n"
     ]
    },
    {
     "name": "stdout",
     "output_type": "stream",
     "text": [
      "Epoch 47, Train Loss: 0.7054038568512424, Validation Loss: 0.7584481772704003\n",
      "No improvement in validation loss. Patience counter: 6/20\n"
     ]
    },
    {
     "name": "stdout",
     "output_type": "stream",
     "text": [
      "Epoch 48, Train Loss: 0.7067369186943704, Validation Loss: 0.7370967013713641\n",
      "No improvement in validation loss. Patience counter: 7/20\n"
     ]
    },
    {
     "name": "stdout",
     "output_type": "stream",
     "text": [
      "Epoch 49, Train Loss: 0.7092239236766166, Validation Loss: 0.7110264318111615\n",
      "Validation loss improved to 0.7110264318111615, resetting patience.\n"
     ]
    },
    {
     "name": "stdout",
     "output_type": "stream",
     "text": [
      "Epoch 50, Train Loss: 0.7053771859669423, Validation Loss: 0.7142474880585303\n",
      "No improvement in validation loss. Patience counter: 1/20\n"
     ]
    },
    {
     "name": "stdout",
     "output_type": "stream",
     "text": [
      "Epoch 51, Train Loss: 0.7071161800688439, Validation Loss: 0.7057179119342413\n",
      "Validation loss improved to 0.7057179119342413, resetting patience.\n"
     ]
    },
    {
     "name": "stdout",
     "output_type": "stream",
     "text": [
      "Epoch 52, Train Loss: 0.7040902052606856, Validation Loss: 0.713833940640474\n",
      "No improvement in validation loss. Patience counter: 1/20\n"
     ]
    },
    {
     "name": "stdout",
     "output_type": "stream",
     "text": [
      "Epoch 53, Train Loss: 0.7085517081258061, Validation Loss: 0.8260453141652621\n",
      "No improvement in validation loss. Patience counter: 2/20\n"
     ]
    },
    {
     "name": "stdout",
     "output_type": "stream",
     "text": [
      "Epoch 54, Train Loss: 0.7095959992526651, Validation Loss: 0.723505448225217\n",
      "No improvement in validation loss. Patience counter: 3/20\n"
     ]
    },
    {
     "name": "stdout",
     "output_type": "stream",
     "text": [
      "Epoch 55, Train Loss: 0.7030940802870216, Validation Loss: 0.7692185866527068\n",
      "No improvement in validation loss. Patience counter: 4/20\n"
     ]
    },
    {
     "name": "stdout",
     "output_type": "stream",
     "text": [
      "Epoch 56, Train Loss: 0.7062600445616376, Validation Loss: 0.7145524417742705\n",
      "No improvement in validation loss. Patience counter: 5/20\n"
     ]
    },
    {
     "name": "stdout",
     "output_type": "stream",
     "text": [
      "Epoch 57, Train Loss: 0.7065843083046295, Validation Loss: 0.7163664712355687\n",
      "No improvement in validation loss. Patience counter: 6/20\n"
     ]
    },
    {
     "name": "stdout",
     "output_type": "stream",
     "text": [
      "Epoch 58, Train Loss: 0.7076686304021668, Validation Loss: 0.7055319491105202\n",
      "Validation loss improved to 0.7055319491105202, resetting patience.\n"
     ]
    },
    {
     "name": "stdout",
     "output_type": "stream",
     "text": [
      "Epoch 59, Train Loss: 0.700752788913119, Validation Loss: 0.7502547076115241\n",
      "No improvement in validation loss. Patience counter: 1/20\n"
     ]
    },
    {
     "name": "stdout",
     "output_type": "stream",
     "text": [
      "Epoch 60, Train Loss: 0.7079716411265699, Validation Loss: 0.7007274818726075\n",
      "Validation loss improved to 0.7007274818726075, resetting patience.\n"
     ]
    },
    {
     "name": "stdout",
     "output_type": "stream",
     "text": [
      "Epoch 61, Train Loss: 0.7025551133758419, Validation Loss: 0.7208620893649565\n",
      "No improvement in validation loss. Patience counter: 1/20\n"
     ]
    },
    {
     "name": "stdout",
     "output_type": "stream",
     "text": [
      "Epoch 62, Train Loss: 0.7067971890116785, Validation Loss: 0.739691085081834\n",
      "No improvement in validation loss. Patience counter: 2/20\n"
     ]
    },
    {
     "name": "stdout",
     "output_type": "stream",
     "text": [
      "Epoch 63, Train Loss: 0.7037469903846364, Validation Loss: 0.705496206956032\n",
      "No improvement in validation loss. Patience counter: 3/20\n"
     ]
    },
    {
     "name": "stdout",
     "output_type": "stream",
     "text": [
      "Epoch 64, Train Loss: 0.7014388476754283, Validation Loss: 0.7044993998148502\n",
      "No improvement in validation loss. Patience counter: 4/20\n"
     ]
    },
    {
     "name": "stdout",
     "output_type": "stream",
     "text": [
      "Epoch 65, Train Loss: 0.6998340881460315, Validation Loss: 0.7605426183113685\n",
      "No improvement in validation loss. Patience counter: 5/20\n"
     ]
    },
    {
     "name": "stdout",
     "output_type": "stream",
     "text": [
      "Epoch 66, Train Loss: 0.7053974772875126, Validation Loss: 0.7229976204725412\n",
      "No improvement in validation loss. Patience counter: 6/20\n"
     ]
    },
    {
     "name": "stdout",
     "output_type": "stream",
     "text": [
      "Epoch 67, Train Loss: 0.6994844285996406, Validation Loss: 0.7256608065886375\n",
      "No improvement in validation loss. Patience counter: 7/20\n"
     ]
    },
    {
     "name": "stdout",
     "output_type": "stream",
     "text": [
      "Epoch 68, Train Loss: 0.7037379292668877, Validation Loss: 0.7102210057087434\n",
      "No improvement in validation loss. Patience counter: 8/20\n"
     ]
    },
    {
     "name": "stdout",
     "output_type": "stream",
     "text": [
      "Epoch 69, Train Loss: 0.7047234627899233, Validation Loss: 0.7315888022765135\n",
      "No improvement in validation loss. Patience counter: 9/20\n"
     ]
    },
    {
     "name": "stdout",
     "output_type": "stream",
     "text": [
      "Epoch 70, Train Loss: 0.7013973173859355, Validation Loss: 0.7482724273816134\n",
      "No improvement in validation loss. Patience counter: 10/20\n"
     ]
    },
    {
     "name": "stdout",
     "output_type": "stream",
     "text": [
      "Epoch 71, Train Loss: 0.6998602038883901, Validation Loss: 0.7384861779518617\n",
      "No improvement in validation loss. Patience counter: 11/20\n"
     ]
    },
    {
     "name": "stdout",
     "output_type": "stream",
     "text": [
      "Epoch 72, Train Loss: 0.7028644976380107, Validation Loss: 0.7036980465436593\n",
      "No improvement in validation loss. Patience counter: 12/20\n"
     ]
    },
    {
     "name": "stdout",
     "output_type": "stream",
     "text": [
      "Epoch 73, Train Loss: 0.6999702523042868, Validation Loss: 0.7032416339103992\n",
      "No improvement in validation loss. Patience counter: 13/20\n"
     ]
    },
    {
     "name": "stdout",
     "output_type": "stream",
     "text": [
      "Epoch 74, Train Loss: 0.6975855279754807, Validation Loss: 0.7495416106321873\n",
      "No improvement in validation loss. Patience counter: 14/20\n"
     ]
    },
    {
     "name": "stdout",
     "output_type": "stream",
     "text": [
      "Epoch 75, Train Loss: 0.6996509904062355, Validation Loss: 0.7169482241838406\n",
      "No improvement in validation loss. Patience counter: 15/20\n"
     ]
    },
    {
     "name": "stdout",
     "output_type": "stream",
     "text": [
      "Epoch 76, Train Loss: 0.6997234632680704, Validation Loss: 0.7170356903320704\n",
      "No improvement in validation loss. Patience counter: 16/20\n"
     ]
    },
    {
     "name": "stdout",
     "output_type": "stream",
     "text": [
      "Epoch 77, Train Loss: 0.6972026727356754, Validation Loss: 0.7433611755187695\n",
      "No improvement in validation loss. Patience counter: 17/20\n"
     ]
    },
    {
     "name": "stdout",
     "output_type": "stream",
     "text": [
      "Epoch 78, Train Loss: 0.7021994538687087, Validation Loss: 0.7040962952833909\n",
      "No improvement in validation loss. Patience counter: 18/20\n"
     ]
    },
    {
     "name": "stdout",
     "output_type": "stream",
     "text": [
      "Epoch 79, Train Loss: 0.6941286304494837, Validation Loss: 0.7224097632444821\n",
      "No improvement in validation loss. Patience counter: 19/20\n"
     ]
    },
    {
     "name": "stdout",
     "output_type": "stream",
     "text": [
      "Epoch 80, Train Loss: 0.7003317577498299, Validation Loss: 0.7158794717910962\n",
      "No improvement in validation loss. Patience counter: 20/20\n",
      "Early stopping triggered. Stopping training at epoch 80.\n",
      "Loaded best model weights based on validation loss.\n"
     ]
    }
   ],
   "source": [
    "import copy  # 用于保存模型的最佳状态\n",
    "\n",
    "# Early Stopping 参数\n",
    "patience = 20  # 如果验证损失在 10 个 epoch 中没有改善，停止训练\n",
    "min_delta = 1e-4  # 最小改善幅度\n",
    "patience_counter = 0\n",
    "best_val_loss = float('inf')  # 初始设置为正无穷大\n",
    "best_model_weights = copy.deepcopy(estim.model.state_dict())  # 保存最佳模型权重\n",
    "train_losses = []\n",
    "val_losses = []\n",
    "\n",
    "# 训练 500 个 epoch\n",
    "for epoch in range(500):\n",
    "    train_loss, val_loss = train_epoch(estim.model, optimizer, loss_fn, train_loader, val_loader)\n",
    "    print(f'Epoch {epoch+1}, Train Loss: {train_loss}, Validation Loss: {val_loss}')\n",
    "    train_losses.append(train_loss)\n",
    "    val_losses.append(val_loss)\n",
    "    \n",
    "    # Early Stopping 检查\n",
    "    if val_loss < best_val_loss - min_delta:\n",
    "        best_val_loss = val_loss  # 更新最佳验证损失\n",
    "        patience_counter = 0  # 重置 patience 计数器\n",
    "        best_model_weights = copy.deepcopy(estim.model.state_dict())  # 保存当前最佳模型\n",
    "        print(f\"Validation loss improved to {best_val_loss}, resetting patience.\")\n",
    "    else:\n",
    "        patience_counter += 1\n",
    "        print(f\"No improvement in validation loss. Patience counter: {patience_counter}/{patience}\")\n",
    "    \n",
    "    # 如果 patience_counter 超过设置的 patience，停止训练\n",
    "    if patience_counter >= patience:\n",
    "        print(f\"Early stopping triggered. Stopping training at epoch {epoch+1}.\")\n",
    "        break\n",
    "\n",
    "# 恢复到训练中性能最好的模型权重\n",
    "estim.model.load_state_dict(best_model_weights)\n",
    "print(\"Loaded best model weights based on validation loss.\")"
   ]
  },
  {
   "cell_type": "code",
   "execution_count": 15,
   "metadata": {
    "execution": {
     "iopub.execute_input": "2025-04-14T12:08:20.972329Z",
     "iopub.status.busy": "2025-04-14T12:08:20.972139Z",
     "iopub.status.idle": "2025-04-14T12:08:23.348227Z",
     "shell.execute_reply": "2025-04-14T12:08:23.347614Z"
    }
   },
   "outputs": [],
   "source": [
    "# 8. 使用 KNN 替代测试阶段的 FC 分类层\n",
    "# 使用 encoder 提取训练集和测试集的 embedding\n",
    "estim.model.eval()\n",
    "with torch.no_grad():\n",
    "    train_embeddings = estim.model.inner_model(torch.tensor(X_train).float().to(device)).cpu().numpy()\n",
    "    test_embeddings = estim.model.inner_model(torch.tensor(X_test).float().to(device)).cpu().numpy()"
   ]
  },
  {
   "cell_type": "code",
   "execution_count": 16,
   "metadata": {
    "execution": {
     "iopub.execute_input": "2025-04-14T12:08:23.350280Z",
     "iopub.status.busy": "2025-04-14T12:08:23.350114Z",
     "iopub.status.idle": "2025-04-14T12:08:24.201232Z",
     "shell.execute_reply": "2025-04-14T12:08:24.200659Z"
    }
   },
   "outputs": [
    {
     "name": "stdout",
     "output_type": "stream",
     "text": [
      "KNN Accuracy on Test Data: 0.7327081830568245\n",
      "Weighted F1 Score: 0.7244262814279319\n",
      "Macro F1 Score: 0.6192169946837044\n",
      "Random Guess Accuracy: 0.13330938159201633\n",
      "                         precision    recall  f1-score   support\n",
      "\n",
      "                B_Cells       0.77      0.84      0.80       770\n",
      "           CD4+_T_Cells       0.61      0.74      0.67      1264\n",
      "           CD8+_T_Cells       0.61      0.63      0.62      1069\n",
      "                 DCIS_1       0.58      0.59      0.58      1927\n",
      "                 DCIS_2       0.58      0.45      0.51      1739\n",
      "            Endothelial       0.84      0.93      0.88      1347\n",
      "              IRF7+_DCs       0.85      0.88      0.86        73\n",
      "         Invasive_Tumor       0.75      0.81      0.78      5153\n",
      "             LAMP3+_DCs       0.77      0.60      0.68        45\n",
      "          Macrophages_1       0.75      0.80      0.77      1646\n",
      "          Macrophages_2       0.56      0.47      0.51       256\n",
      "             Mast_Cells       0.58      0.39      0.47        28\n",
      "          Myoepi_ACTA2+       0.83      0.78      0.80       995\n",
      "          Myoepi_KRT15+       0.88      0.83      0.86       429\n",
      "      Perivascular-Like       0.61      0.45      0.52       142\n",
      "  Prolif_Invasive_Tumor       0.63      0.62      0.63       564\n",
      "                Stromal       0.82      0.84      0.83      6254\n",
      "Stromal_&_T_Cell_Hybrid       0.00      0.00      0.00        93\n",
      "  T_Cell_&_Tumor_Hybrid       0.28      0.20      0.24        88\n",
      "              Unlabeled       0.58      0.28      0.38      1072\n",
      "\n",
      "               accuracy                           0.73     24954\n",
      "              macro avg       0.64      0.61      0.62     24954\n",
      "           weighted avg       0.72      0.73      0.72     24954\n",
      "\n"
     ]
    }
   ],
   "source": [
    "import pandas as pd\n",
    "from sklearn.neighbors import KNeighborsClassifier\n",
    "from sklearn.metrics import accuracy_score, f1_score, classification_report\n",
    "\n",
    "    \n",
    "\n",
    "    # 初始化和训练KNN分类器\n",
    "knn = KNeighborsClassifier(n_neighbors=5)\n",
    "knn.fit(train_embeddings, y_train)\n",
    "    \n",
    "    # 模型预测\n",
    "predictions = knn.predict(test_embeddings)\n",
    "\n",
    "    # 计算准确率和 F1 分数\n",
    "accuracy = accuracy_score(y_test, predictions)\n",
    "print(f\"KNN Accuracy on Test Data: {accuracy}\")\n",
    "f1 = f1_score(y_test, predictions, average='weighted')\n",
    "print(f\"Weighted F1 Score: {f1}\")\n",
    "    \n",
    "macro_f1 = f1_score(y_test, predictions, average='macro')\n",
    "print(f'Macro F1 Score: {macro_f1}')\n",
    "\n",
    "    # 计算随机猜测的准确率\n",
    "class_probabilities = np.bincount(y_test) / len(y_test)\n",
    "random_accuracy = np.sum(class_probabilities ** 2)\n",
    "print(f\"Random Guess Accuracy: {random_accuracy}\")\n",
    "\n",
    "    # 生成分类报告\n",
    "report = classification_report(y_test, predictions, target_names=label_encoder.classes_)\n",
    "print(report)"
   ]
  },
  {
   "cell_type": "code",
   "execution_count": 17,
   "metadata": {
    "execution": {
     "iopub.execute_input": "2025-04-14T12:08:24.202812Z",
     "iopub.status.busy": "2025-04-14T12:08:24.202650Z",
     "iopub.status.idle": "2025-04-14T12:08:35.912483Z",
     "shell.execute_reply": "2025-04-14T12:08:35.911873Z"
    }
   },
   "outputs": [],
   "source": [
    "with torch.no_grad():\n",
    "    new_data_tensor = torch.tensor(new_data).float().to(device)\n",
    "    SSL_embeddings = estim.model.inner_model(new_data_tensor).detach().cpu().numpy()\n",
    "new_adata = sc.read_h5ad(data_dir)\n",
    "new_adata.obsm[f'SSL_BT_FT_{random_seed}'] = SSL_embeddings\n",
    "new_adata.uns[f'BT_FT_y_test_{random_seed}'] = y_test\n",
    "new_adata.uns[f'BT_FT_predictions_{random_seed}'] = predictions\n",
    "new_adata.uns[f'BT_FT_target_names_{random_seed}'] = label_encoder.classes_\n",
    "new_adata.uns[f'BT_FT_train_loss_{random_seed}'] = train_losses\n",
    "new_adata.uns[f'BT_FT_val_loss_{random_seed}'] = val_losses\n",
    "new_adata.write_h5ad(data_dir)"
   ]
  },
  {
   "cell_type": "code",
   "execution_count": 18,
   "metadata": {
    "execution": {
     "iopub.execute_input": "2025-04-14T12:08:35.914653Z",
     "iopub.status.busy": "2025-04-14T12:08:35.914485Z",
     "iopub.status.idle": "2025-04-14T12:08:35.954473Z",
     "shell.execute_reply": "2025-04-14T12:08:35.953981Z"
    }
   },
   "outputs": [
    {
     "name": "stdout",
     "output_type": "stream",
     "text": [
      "Metrics Summary:\n",
      "init_train_loss\tinit_val_loss\tconverged_epoch\tconverged_val_loss\tmacro_f1\tweighted_f1\tmicro_f1\n",
      "1.105\t0.952\t60\t0.701\t0.619\t0.724\t0.733\n"
     ]
    }
   ],
   "source": [
    "\n",
    "import pandas as pd\n",
    "import os\n",
    "import re\n",
    "\n",
    "# 当前 Notebook 文件名\n",
    "notebook_name = \"uniport_imputed_Xenium_breast_cancer_sample1_replicate1_barlow_twins_fine_tune_42.ipynb\"\n",
    "\n",
    "# 初始化需要打印的值\n",
    "init_train_loss = train_losses[0] if 'train_losses' in globals() else None\n",
    "init_val_loss = val_losses[0] if 'val_losses' in globals() else None\n",
    "converged_epoch = len(train_losses) - patience if 'train_losses' in globals() else None\n",
    "converged_val_loss = best_val_loss if 'best_val_loss' in globals() else None\n",
    "\n",
    "# 打印所有所需的指标\n",
    "print(\"Metrics Summary:\")\n",
    "if 'train_losses' in globals():\n",
    "    print(f\"init_train_loss\\tinit_val_loss\\tconverged_epoch\\tconverged_val_loss\\tmacro_f1\\tweighted_f1\\tmicro_f1\")\n",
    "    print(f\"{init_train_loss:.3f}\\t{init_val_loss:.3f}\\t{converged_epoch}\\t{converged_val_loss:.3f}\\t{macro_f1:.3f}\\t{f1:.3f}\\t{accuracy:.3f}\")\n",
    "else:\n",
    "    print(f\"macro_f1\\tweighted_f1\\tmicro_f1\")\n",
    "    print(f\"{macro_f1:.3f}\\t{f1:.3f}\\t{accuracy:.3f}\")\n",
    "\n",
    "# 保存结果到 CSV 文件\n",
    "output_data = {\n",
    "    'dataset_split_random_seed': [int(random_seed)],\n",
    "    'dataset': ['uniport_imputed_xenium_breast_cancer_sample1_replicate1'],\n",
    "    'method': [re.search(r'replicate1_(.*?)_\\d+', notebook_name).group(1)],\n",
    "    'init_train_loss': [init_train_loss if init_train_loss is not None else ''],\n",
    "    'init_val_loss': [init_val_loss if init_val_loss is not None else ''],\n",
    "    'converged_epoch': [converged_epoch if converged_epoch is not None else ''],\n",
    "    'converged_val_loss': [converged_val_loss if converged_val_loss is not None else ''],\n",
    "    'macro_f1': [macro_f1],\n",
    "    'weighted_f1': [f1],\n",
    "    'micro_f1': [accuracy]\n",
    "}\n",
    "output_df = pd.DataFrame(output_data)\n",
    "\n",
    "# 保存到当前目录下名为 results 的文件夹中\n",
    "if not os.path.exists('results'):\n",
    "    os.makedirs('results')\n",
    "\n",
    "csv_filename = f\"results/{os.path.splitext(notebook_name)[0]}_results.csv\"\n",
    "output_df.to_csv(csv_filename, index=False)\n"
   ]
  }
 ],
 "metadata": {
  "kernelspec": {
   "display_name": "ssl",
   "language": "python",
   "name": "python3"
  },
  "language_info": {
   "codemirror_mode": {
    "name": "ipython",
    "version": 3
   },
   "file_extension": ".py",
   "mimetype": "text/x-python",
   "name": "python",
   "nbconvert_exporter": "python",
   "pygments_lexer": "ipython3",
   "version": "3.10.13"
  }
 },
 "nbformat": 4,
 "nbformat_minor": 2
}
