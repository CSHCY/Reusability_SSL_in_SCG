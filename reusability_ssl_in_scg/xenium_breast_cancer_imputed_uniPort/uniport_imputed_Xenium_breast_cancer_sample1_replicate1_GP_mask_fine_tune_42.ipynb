{
 "cells": [
  {
   "cell_type": "code",
   "execution_count": 1,
   "metadata": {
    "execution": {
     "iopub.execute_input": "2025-04-14T12:30:38.821478Z",
     "iopub.status.busy": "2025-04-14T12:30:38.821339Z",
     "iopub.status.idle": "2025-04-14T12:30:48.802131Z",
     "shell.execute_reply": "2025-04-14T12:30:48.801270Z"
    }
   },
   "outputs": [
    {
     "name": "stderr",
     "output_type": "stream",
     "text": [
      "/home/hanchuangyi/miniconda3/envs/ssl/lib/python3.10/site-packages/merlin/dtypes/mappings/tf.py:52: UserWarning: Tensorflow dtype mappings did not load successfully due to an error: No module named 'tensorflow'\n",
      "  warn(f\"Tensorflow dtype mappings did not load successfully due to an error: {exc.msg}\")\n",
      "/home/hanchuangyi/miniconda3/envs/ssl/lib/python3.10/site-packages/merlin/dtypes/mappings/triton.py:53: UserWarning: Triton dtype mappings did not load successfully due to an error: No module named 'tritonclient'\n",
      "  warn(f\"Triton dtype mappings did not load successfully due to an error: {exc.msg}\")\n"
     ]
    }
   ],
   "source": [
    "import scanpy as sc\n",
    "import torch\n",
    "import lightning.pytorch as pl\n",
    "from torch import nn\n",
    "from torch.optim import AdamW\n",
    "from self_supervision.models.lightning_modules.cellnet_autoencoder import MLPAutoEncoder\n",
    "from self_supervision.estimator.cellnet import EstimatorAutoEncoder\n",
    "from sklearn.model_selection import train_test_split\n",
    "from sklearn.preprocessing import LabelEncoder\n",
    "from sklearn.metrics import accuracy_score, f1_score, classification_report\n",
    "import numpy as np\n",
    "import pandas as pd\n",
    "\n",
    "# 1. 加载数据集\n",
    "data_dir = '../../dataset/uniport_imputed_Xenium_breast_cancer_sample1_replicate1.h5ad'\n",
    "adata = sc.read_h5ad(data_dir)\n",
    "\n",
    "\n",
    "\n",
    "# 2. 设置 checkpoint 路径\n",
    "ckpt_path = \"../../sc_pretrained/Pretrained Models/GPMask.ckpt\"\n",
    "\n",
    "# 3. 模型参数\n",
    "units_encoder = [512, 512, 256, 256, 64]\n",
    "units_decoder = [256, 256, 512, 512]\n",
    "\n",
    "# 初始化 EstimatorAutoEncoder 实例\n",
    "estim = EstimatorAutoEncoder(data_path=None)  # 没有实际数据路径，可以设置为None\n",
    "\n",
    "# 4. 加载预训练模型\n",
    "estim.model = MLPAutoEncoder.load_from_checkpoint(\n",
    "    ckpt_path,\n",
    "    gene_dim=19331,  # 根据你的数据调整\n",
    "    batch_size=128,  # 根据你的需要调整\n",
    "    units_encoder=units_encoder, \n",
    "    units_decoder=units_decoder,\n",
    "    masking_strategy=\"random\",  # 假设模型使用了随机掩码\n",
    "    masking_rate=0.5,  # 根据需要调整\n",
    ")"
   ]
  },
  {
   "cell_type": "code",
   "execution_count": 2,
   "metadata": {
    "execution": {
     "iopub.execute_input": "2025-04-14T12:30:48.804621Z",
     "iopub.status.busy": "2025-04-14T12:30:48.804138Z",
     "iopub.status.idle": "2025-04-14T12:30:48.811792Z",
     "shell.execute_reply": "2025-04-14T12:30:48.811292Z"
    }
   },
   "outputs": [
    {
     "data": {
      "text/plain": [
       "20"
      ]
     },
     "execution_count": 2,
     "metadata": {},
     "output_type": "execute_result"
    }
   ],
   "source": [
    "# 添加分类层 (FC)\n",
    "n_classes = len(adata.obs['cell_type'].unique())\n",
    "estim.model.fc = nn.Linear(units_encoder[-1], n_classes)\n",
    "n_classes"
   ]
  },
  {
   "cell_type": "code",
   "execution_count": 3,
   "metadata": {
    "execution": {
     "iopub.execute_input": "2025-04-14T12:30:48.813188Z",
     "iopub.status.busy": "2025-04-14T12:30:48.813035Z",
     "iopub.status.idle": "2025-04-14T12:30:48.834519Z",
     "shell.execute_reply": "2025-04-14T12:30:48.833992Z"
    }
   },
   "outputs": [],
   "source": [
    "var_df = pd.read_parquet('../../sc_pretrained/var.parquet')\n",
    "all_genes = var_df['feature_name'].tolist()\n",
    "\n",
    "new_data = np.zeros((adata.X.shape[0], len(all_genes)), dtype=np.float32)\n",
    "\n",
    "adata.var['gene_name']=adata.var.index\n",
    "existing_genes = adata.var['gene_name']"
   ]
  },
  {
   "cell_type": "code",
   "execution_count": 4,
   "metadata": {
    "execution": {
     "iopub.execute_input": "2025-04-14T12:30:48.836065Z",
     "iopub.status.busy": "2025-04-14T12:30:48.835732Z",
     "iopub.status.idle": "2025-04-14T12:30:48.853598Z",
     "shell.execute_reply": "2025-04-14T12:30:48.853101Z"
    }
   },
   "outputs": [
    {
     "name": "stdout",
     "output_type": "stream",
     "text": [
      "匹配的基因数量: 17768\n",
      "匹配的基因列表: {'col20a1', 'slc8b1', 'fbxw10', 'ildr2', 'edf1', 'morc3', 'malrd1', 'tmtc1', 'amh', 'abhd5', 'plag1', 'pccb', 'pprc1', 'theg', 'paxbp1', 'adamts9', 'isl2', 'usp8', 'stau1', 'or2t2', 'rad9b', 'plk5', 'mib2', 'slc4a5', 'arhgap31', 'dnaja1', 'fam186b', 'cyb561d1', 'angptl1', 'trmt11', 'adm', 'plaa', 'slc27a5', 'clecl1', 'znrf1', 'macrod2', 'zswim1', 'mbd1', 'rtl8a', 'nefm', 'ddx53', 'zranb2', 'ints1', 'hepacam', 'gpsm2', 'mc1r', 'ten1', 'soga1', 'clcn3', 'krtap21-1', 'med21', 'il13', 'actrt3', 'lrrc34', 'pcsk2', 'fkbp14', 'ngfr', 'ncl', 'magi1', 'klhl24', 'c1orf194', 'mrgprx3', 'arhgap10', 'map1a', 'six5', 'mt3', 'calhm4', 'zscan26', 'uaca', 'nbdy', 'prdm5', 'cep192', 'tinag', 'brd8', 'mtnr1b', 'rhbdd1', 'map3k13', 'loxl1', 'znf341', 'ncor2', 'cox10', 'fst', 'commd4', 'c8orf88', 'nme8', 'meltf', 'prlh', 'etf1', 'map2k3', 'zfp69b', 'trmt10a', 'pgbd4', 'timp1', 'c1orf100', 'sema3g', 'syne1', 'malsu1', 'tex29', 'znf587', 'slc7a3', 'kank4', 'cep170', 'tmem150b', 'lamc2', 'or13c2', 'nop9', 'mageb6b', 'gja9', 'cst9', 'ybx1', 'ythdc1', 'tspyl5', 'b4galt3', 'dcd', 'plin5', 'klk5', 'exoc6', 'erf', 'bccip', 'kdsr', 'pin1', 'mib1', 'pigb', 'tac4', 'lin9', 'znf566', 'ugt1a4', 'f3', 'ufc1', 'c6orf136', 'ptpn21', 'dnajb12', 'abcc8', 'card6', 'abcb9', 'arrdc2', 'snrpa', 'rrp1', 'jade1', 'ppdpfl', 'rgs16', 'or4a15', 'tp53inp1', 'chmp5', 'nup188', 'fosl1', 'znf205', 'gpr174', 'kcnq5', 'slc26a5', 'miga2', 'diaph3', 'psma8', 'best3', 'shank1', 'pars2', 'itsn2', 'atn1', 'slc5a9', 'hbg1', 'adcy7', 'rilp', 'fbxo46', 'chaf1a', 'lrrc39', 'cldn12', 'acvrl1', 'efhd1', 'col8a1', 'aim2', 'sumf1', 'polr2l', 'riiad1', 'znf679', 'lmntd2', 'or2k2', 'sdk2', 'slc28a1', 'cdc42bpg', 'dnajc22', 'pycr3', 'st8sia3', 'apex2', 'apobec2', 'spats2', 'palb2', 'ano9', 'fsip2', 'bicd1', 'dok4', 'trib1', 'proser1', 'or52i2', 'nrk', 'tff2', 'nfkb2', 'glul', 'arhgap1', 'insig2', 'ube2ql1', 'pcdh12', 'cacna2d1', 'mctp2', 'dscam', 'ccne2', 'reps2', 'mdga2', 'ggt7', 'tceal4', 'ctage1', 'atg3', 'efna2', 'tdg', 'or5h2', 'sall3', 'pdzd11', 'ptges3', 'galnt7', 'u2surp', 'insig1', 'kpna4', 'pate1', 'ubl5', 'csrp1', 'c7orf31', 'pcdha9', 'pdxp', 'ank3', 'mtrex', 'vrk1', 'il3ra', 'slc6a14', 'mdm2', 'vkorc1', 'pramef4', 'cybrd1', 'grn', 'ap1s2', 'slc1a3', 'rundc1', 'siglec8', 'znf681', 'klk14', 'syce2', 'insm1', 'rexo1', 'bmp7', 'hadhb', 'rab23', 'arhgap42', 'serpine3', 'trim48', 'arg1', 'dzank1', 'rpusd3', 'pih1d1', 'nptx1', 'pknox1', 'slc13a4', 'cd2', 'gpank1', 'syndig1', 'akap17a', 'fxn', 'lrrc8e', 'magix', 'c16orf54', 'mboat2', 'reg3a', 'ankrd17', 'hoxb8', 'pbx4', 'robo3', 'pcare', 'scn10a', 'bicdl2', 'trim46', 'cd63', 'imp4', 'suox', 'eea1', 'ulk3', 'c11orf58', 'omg', 'kcnc3', 'map1b', 'tsen15', 'tmprss4', 'tedc2', 'ebln2', 'myh4', 'tchp', 'lrig3', 'them6', 'ncapg', 'pard3', 'begain', 'crh', 'mob1b', 'fras1', 'dscaml1', 'atp6v1f', 'sh2b3', 'vamp2', 'cope', 'hnrnpd', 'foxn4', 'spata17', 'scn4b', 'slc10a5', 'ccdc159', 'nrtn', 'tubb', 'crebzf', 'ms4a6a', 'smim36', 'or7g1', 'grm4', 'gstm3', 'ndufaf8', 'ide', 'tbc1d14', 'clic5', 'mycl', 'znf735', 'phka2', 'pex3', 'syngr1', 'plekhs1', 'mmgt1', 'mutyh', 'hnrnpf', 'pi4k2b', 'cpa2', 'nkx2-4', 'a2ml1', 'cpb2', 'isoc1', 'exoc2', 'osgin1', 'dnah8', 'psg2', 'klhdc3', 'sostdc1', 'dcaf8l1', 'calml3', 'gan', 'fam43a', 'krtap19-3', 'gsta4', 'mxra5', 'znf234', 'mcm2', 'aamdc', 'pno1', 'traf4', 'phlpp1', 'or51e1', 'mef2c', 'zbtb24', 'hccs', 'fance', 'myod1', 'or4x2', 'n4bp3', 'iqcj', 'cisd2', 'clec2l', 'ace', 'snta1', 'or1g1', 'dcx', 'ppp2r2c', 'mmd2', 'znf703', 'atf7ip2', 'c5orf34', 'srbd1', 'tfdp2', 'brwd3', 'myo1h', 'tst', 'tp53tg5', 'mad2l1', 'ermp1', 'gpc1', 'dlx2', 'ankrd27', 'stpg1', 'hspd1', 'pecr', 'entpd4', 'tax1bp3', 'c1orf105', 'man2a1', 'st14', 'pfdn5', 'sp9', 'krt39', 'ccar2', 'pla1a', 'crygc', 'noto', 'thbs2', 'scg2', 'znf169', 'fbp1', 'atox1', 'insyn2a', 'clec4c', 'ptpn9', 'dusp23', 'bicc1', 'fam47b', 'slitrk4', 'fibin', 'slc25a16', 'pitx3', 'b4galt4', 'ep300', 'adk', 'cd27', 'lce4a', 'farsb', 'pak4', 'cfd', 'tmco6', 'slc37a1', 'rad21l1', 'msantd4', 'dnmt3a', 'hnrnpr', 'wdr45b', 'unc13a', 'impg1', 'znf529', 'znf875', 'defb126', 'znf101', 'znf497', 'c20orf204', 'irx2', 'znf594', 'snrnp27', 'mbnl2', 'bin3', 'spesp1', 'acsbg1', 'spata31d1', 'sirt2', 'wdr86', 'vwa1', 'vamp1', 'ankrd40cl', 'ccdc30', 'casp5', 'vstm2l', 'kifc2', 'rab22a', 'cd180', 'arrdc5', 'defb121', 'lrrcc1', 'trim38', 'or2s2', 'ptk7', 'zic5', 'tgds', 'adhfe1', 'tex47', 'atp11a', 'lilrb1', 'natd1', 'sbsn', 'elp2', 'numa1', 'cand2', 'cntln', 'acad9', 'tada1', 'dennd10', 'cspg5', 'rasal1', 'anapc11', 'ssbp3', 'pappa', 'vegfb', 'tex261', 'lgals8', 'golgb1', 'spin1', 'zscan5c', 'oxsm', 'znf211', 'entr1', 'agxt', 'ptpn6', 'or6c74', 'or1s1', 'grm6', 'palm3', 'il17ra', 'rab5b', 'slc37a2', 'piwil4', 'znf620', 'ankrd10', 'tex13d', 'hpx', 'axin1', 'alox15', 'rapgefl1', 'fam98a', 'dlx4', 'ush1c', 'dynlrb2', 'cyp24a1', 'glra3', 'gsk3b', 'nlrp14', 'shox', 'pyroxd2', 'pacsin2', 'hgd', 'chrfam7a', 'galnt1', 'ercc6l2', 'ccdc149', 'tmem102', 'pramef19', 'sepsecs', 'net1', 'map4k2', 'znf266', 'paqr7', 'or52e8', 'lonrf1', 'clec10a', 'tlk1', 'rpap1', 'trpv3', 'cebpd', 'dapk1', 'snrnp48', 'hnrnpl', 'sccpdh', 'sf3b5', 'ptx4', 'mmp23b', 'popdc2', 'fbxl22', 'tex19', 'padi6', 'itk', 'e2f5', 'engase', 'hgh1', 'slc17a4', 'ppm1b', 'cplx2', 'sncaip', 'ceacam16', 'hyi', 'dkc1', 'znf217', 'rd3l', 'akt2', 'defb115', 'defb113', 'xrcc5', 'nudt5', 'trpc4ap', 'cdon', 'fcrl4', 'tnfrsf10a', 'adam11', 'jmjd1c', 'c3orf56', 'synpo2l', 'nmu', 'map3k5', 'nhsl2', 'ammecr1l', 'med12l', 'wdr38', 'cst3', 'prrc2b', 'hhat', 'or5an1', 'znf185', 'znf813', 'hemk1', 'smad1', 'akr1e2', 'gpr88', 'tex36', 'rhpn2', 'mpc1', 'ugcg', 'abca12', 'appl1', 'gpr137c', 'tas2r9', 'unk', 'adamts4', 'higd2a', 'ralgps1', 'med24', 'lrrc75b', 'skap1', 'adamts13', 'rtel1', 'vps36', 'pik3c2a', 'mocs3', 'ssx5', 'pld4', 'gramd2a', 'abcb6', 'slc12a1', 'ptgr2', 'naxe', 'spz1', 'mon1a', 'mc2r', 'pcdhb1', 'tbc1d17', 'ybey', 'pparg', 'caprin1', 'lhpp', 'siva1', 'adh4', 'dpy19l1', 'gh2', 'leap2', 'grxcr1', 'col9a2', 'fbxo11', 'grhl3', 'itga9', 'lcorl', 'cib4', 'c3orf14', 'gli4', 'c3orf22', 'cyren', 'sh2d4b', 'etv3', 'bud23', 'arl16', 'nfe2l2', 'tprn', 'ost4', 'magea6', 'rlim', 'nlrp9', 'hoxc4', 'treml2', 'tp53bp1', 'ldlr', 'zik1', 'fndc5', 'capn7', 'pnisr', 'or4c5', 'top3a', 'chpt1', 'depdc4', 'zkscan1', 'trip11', 'rab7a', 'gprc5a', 'ndufv2', 'sbno2', 'znf790', 'slc6a19', 'znf493', 'igdcc4', 'csrp2', 'wdr53', 'sart3', 'znf585a', 'asgr1', 'gpx5', 'pck1', 'bcr', 'rad54l', 'arap3', 'ccl7', 'or3a1', 'dnah1', 'folh1', 'ccdc136', 'ca8', 'ulk1', 'esf1', 'maged2', 'vn1r1', 'ciapin1', 'snx24', 'ndufs2', 'col18a1', 'synpo2', 'gde1', 'map7d3', 'emcn', 'scarf1', 'srrm5', 'ucn', 'dag1', 'fam90a26', 'pcdhga5', 'znf230', 'nck2', 'nlrp8', 'myoz3', 'ciz1', 'rhob', 'prr23b', 'drg2', 'polm', 'cxcl17', 'ube2w', 'bnipl', 'tdrp', 'jam2', 'or14a2', 'rasa4b', 'itm2b', 'krit1', 'atg4d', 'slfn13', 'dynlt1', 'ncoa1', 'ppp1r15a', 'bmp10', 'camlg', 'duxb', 'gcnt3', 'slc7a5', 'tor1b', 'krtap19-5', 'tmem128', 'hectd2', 'hopx', 'pard6b', 'ccl22', 'hmcn1', 'arhgef39', 'appl2', 'cd300lg', 'selplg', 'erg', 'fgf21', 'sox8', 'acap3', 'gpr35', 'col6a1', 'tmx2', 'fam76a', 'zbtb9', 'rpia', 'neil3', 'bud31', 'eva1a', 'fam81b', 'fus', 'stk25', 'sorbs1', 'fam205a', 'wnt11', 'txlna', 'focad', 'ikbip', 'ctnna3', 'tmprss11f', 'itgal', 'kbtbd7', 'fam151a', 'snrpe', 'fanca', 'vmac', 'kdm5d', 'rrp9', 'chst7', 'adgrl3', 'sfr1', 'tp73', 'ppp2r5a', 'nkx6-1', 'pou2af1', 'adgrf1', 'pcdh17', 'aadacl3', 'tmem132a', 'znf555', 'anxa7', 'golm1', 'or6c4', 'slc49a3', 'eif4h', 'mindy2', 'rab32', 'npas2', 'foxn1', 'iqsec2', 'hs3st4', 'tdrd3', 'nckap5l', 'rbpms', 'izumo2', 'rnf145', 'thoc7', 'c6orf62', 'moxd1', 'zmym5', 'slco3a1', 'arfgef3', 'tbl3', 'cyb5d2', 'cdc42ep4', 'skor2', 'plvap', 'synj2bp', 'sox18', 'actb', 'esrp1', 'tspan15', 'det1', 'lmbr1', 'cdk7', 'pyurf', 'ugt2b7', 'nap1l2', 'fsd1l', 'tnk1', 'maip1', 'plch1', 'pcdha12', 'trim41', 'ints13', 'mex3c', 'usp17l1', 'hspa12a', 'znf358', 'chek2', 'cela3b', 'hras', 'tgfbi', 'csn2', 'stat1', 'mlxipl', 'tmprss15', 'c1orf232', 'nrsn2', 'vps28', 'slc35b3', 'prima1', 'lrig2', 'kdm3b', 'emg1', 'tsc1', 'ranbp10', 'pnma8a', 'tmem41b', 'mettl11b', 'cndp1', 'nipal3', 'rai2', 'myzap', 'gtpbp3', 'igfl1', 'mettl6', 'mrs2', 'b3gnt7', 'guca2b', 'ncam1', 'etv6', 'ccnb2', 'nln', 'coa6', 'plekhg4', 'gpr39', 'zfp69', 'pxdc1', 'khdrbs2', 'klk8', 'steap1b', 'c1orf131', 'lce3e', 'rtcb', 'parp9', 'clstn3', 'dclre1a', 'klf5', 'shisa6', 'or4d9', 'otogl', 'trak2', 'znf273', 'mphosph8', 'ubl3', 'gnai1', 'rimkla', 'tymp', 'ftl', 'pde10a', 'serinc4', 'th', 'vrk2', 'letm1', 'rasa2', 'c9orf57', 'timm22', 'ccdc47', 'crppa', 'krt31', 'foxp1', 'nat14', 'znf207', 'zkscan2', 'csdc2', 'c9orf153', 'iqcf6', 'cdkn2aip', 'itgb2', 'snph', 'prr32', 'tctn2', 'ncln', 'otulinl', 'fnta', 'tmem232', 'abca7', 'atp6v0a4', 'c1orf116', 'ranbp3l', 'apod', 'sardh', 'slc38a3', 'siglec6', 'kiaa1958', 'hmgcl', 'qdpr', 'kpna5', 'pcdh11x', 'syngr3', 'rbm47', 'pet117', 'nme4', 'oosp4a', 'or7a10', 'ovgp1', 'dqx1', 'zpr1', 'rmi2', 'uhrf1bp1l', 'cldn16', 'prnd', 'fam13b', 'cda', 'ngef', 'nkx3-2', 'larp4', 'abcb8', 'tuba4b', 'nop16', 'eqtn', 'zfp1', 'dnah14', 'hmgcr', 'clec4a', 'cotl1', 'tm4sf20', 'doc2a', 'cys1', 'mmp9', 'fam207a', 'nf2', 'hspb7', 'fastkd3', 'tspan13', 'cul4a', 'mef2a', 'atp9b', 'pcnt', 'trmt61b', 'ocm2', 'bdp1', 'kin', 'terb2', 'ccdc190', 'pdcd2l', 'ahrr', 'edn2', 'uck2', 'plppr2', 'extl1', 'glyr1', 'pole4', 'wwc1', 'fhl1', 'kpnb1', 'tmem151b', 'ankrd52', 'rab30', 'myocd', 'arhgap44', 'gmps', 'crym', 'rarg', 'bpgm', 'pros1', 'rnf135', 'sult1e1', 'ptdss2', 'gab3', 'tnrc18', 'esm1', 'nanp', 'znf469', 'tmem26', 'samd4b', 'selenos', 'tmem270', 'cd160', 'hoxc11', 'fastkd2', 'ccm2l', 'iah1', 'ccdc9', 'hspg2', 'hyal4', 'krtap22-2', 'amhr2', 'plekhg3', 'oxld1', 'mthfd1', 'riox2', 'ms4a7', 'kctd15', 'mapre2', 'ccp110', 'slc6a5', 'ciao2b', 'far2', 'aif1l', 'rsph14', 'fat2', 'dctn4', 'ap3s2', 'sage1', 'pex11a', 'nqo1', 'ankrd36', 'zdhhc22', 'evx2', 'mettl7b', 'lrrn4', 'tnfrsf1a', 'polr2k', 'poglut1', 'kifc1', 'recql5', 'xg', 'nom1', 'rpf1', 'vav2', 'or2ae1', 'klhl42', 'clec18a', 'acp6', 'hic2', 'clrn1', 'nrip1', 'rtp4', 'cdc14a', 'rpusd4', 'ppil6', 'znf19', 'npepl1', 'smdt1', 'ttyh2', 'gys2', 'pycr1', 'eif4g1', 'btg3', 'igsf5', 'sdccag8', 'dcst1', 'rrp36', 'rnf175', 'c9orf40', 'accsl', 'cntnap2', 'psma5', 'efr3a', 'myo1e', 'trim61', 'c11orf21', 'c12orf65', 'ptger4', 'eln', 'mbd6', 'adck5', 'ipo5', 'crnn', 'bsnd', 'cln6', 'pyy', 'nr1h2', 'nusap1', 'eid3', 'nedd4', 'sult2a1', 'galnt9', 'edaradd', 'c4bpa', 'hibch', 'col10a1', 'il18rap', 'jrk', 'ifit5', 'trim64c', 'col17a1', 'eml5', 'sytl1', 'pdlim2', 'morn5', 'sbk2', 'gatad1', 'col4a2', 'dtwd1', 'znf654', 'upf3b', 'mia2', 'slc6a4', 'rfpl4a', 'enho', 'ramac', 'dusp7', 'kpna6', 'whrn', 'fam222b', 'kntc1', 'clgn', 'mtif3', 'mep1b', 'nsmce3', 'cipc', 'cyb5rl', 'dhx36', 'yars2', 'aptx', 'abhd14b', 'klhl32', 'elavl2', 'lyzl6', 'rinl', 'uri1', 'asb8', 'kcnk1', 'bcs1l', 'usp12', 'znf609', 'fbxo17', 'nelfcd', 'birc7', 'sdcbp2', 'rae1', 'pabpc4', 'c2orf50', 'znf24', 'nupr1', 'sec61b', 'prdm10', 'tmprss11a', 'tex15', 'prdx6', 'elp1', 'pate4', 'neil1', 'tlr1', 'lamp1', 'lrfn1', 'crtam', 'sppl2b', 'cpt2', 'fam166a', 'cyp4f12', 'trim5', 'carhsp1', 'cyfip1', 'bcas3', 'sash1', 'cct4', 'fbxo2', 'ddb1', 'abca8', 'rad50', 'snx27', 'pnpla1', 'tert', 'arhgap12', 'spta1', 'hk3', 'naa30', 'crygn', 'mfhas1', 'nfx1', 'slc7a1', 'fgfr1', 'tfdp3', 'trappc3', 'lax1', 'nsd3', 'nudt22', 'ap2m1', 'hoxb4', 'tnfsf12', 'lonrf2', 'nxpe2', 'mecr', 'rab20', 'eme1', 'arid4b', 'epm2a', 'or5m8', 'rhoxf1', 'prkca', 'gnrhr', 'cog1', 'taok2', 'ano6', 'wdr43', 'bms1', 'kdm4e', 'rspo1', 'tmem41a', 'cd79b', 'kif2c', 'znf552', 'fndc11', 'slc25a32', 'klhl17', 'zscan32', 'ephx1', 'ltv1', 'wsb1', 'atg4b', 'mylip', 'fat4', 'nod2', 'gpam', 'cdc73', 'yipf1', 'thsd4', 'sftpb', 'heyl', 'c6orf120', 'samhd1', 'sun3', 'susd6', 'nkain1', 'mrrf', 'lyplal1', 'pdcd10', 'prss12', 'gabra5', 'msh5', 'fam117a', 'krtap12-2', 'tmem170b', 'c1galt1c1', 'p4ha3', 'porcn', 'zcwpw1', 'phf8', 'slc26a2', 'unc5cl', 's100a14', 'mefv', 'scara5', 'krtap3-1', 'vgf', 'tnfsf13b', 'fbll1', 'npnt', 'adamts19', 'actl8', 'gabpa', 'reep6', 'wrap73', 'myo1b', 'wnt8a', 'eppk1', 'grk5', 's100a9', 'phf23', 'heatr6', 'c17orf64', 'gabre', 'togaram1', 'rad51b', 'gdpd4', 'znf333', 'bivm', 'crbn', 'adrb1', 'dcun1d1', 'ctxnd2', 'akr1b10', 'lrwd1', 'st8sia1', 'naa60', 'cdk20', 'slc13a3', 'prdm13', 'thbs3', 'tmem219', 'usp17l3', 'psmb3', 'rtn4', 'btf3l4', 'eno1', 'txnrd2', 'nipal4', 'brd3', 'c11orf52', 'foxb1', 'coa7', 'hcn3', 'syt2', 'ikzf1', 'kcnk5', 'or8g5', 'gpr132', 'wdr62', 'col4a4', 'adcy1', 'dio1', 'usp29', 'scyl3', 'lefty1', 'arhgap39', 'arid5b', 'ppp4r4', 'fbf1', 'pfdn2', 'rfc1', 'smarca5', 'krtap12-1', 'ldhc', 'abca4', 'tmem80', 'dhx15', 'trappc8', 'srr', 'hnf4a', 'rufy3', 'bmp3', 'cdk5rap2', 'ube2g2', 'gtf2h1', 'jpt2', 'scimp', 'ripply1', 'gja1', 'cep68', 'ube2z', 'dus1l', 'kiz', 'actl10', 'cbll2', 'tmem158', 'magee1', 'pphln1', 'nlrc4', 'kctd2', 'apoe', 'gabra2', 'sbf1', 'slc38a7', 'pspn', 'rfpl1', 'cks2', 'nfrkb', 'ttyh3', 'stmp1', 'uqcr10', 'nolc1', 'gabbr1', 'rnf157', 'paip1', 'cmtm2', 'tfdp1', 'sppl2c', 'comt', 'plk3', 'znf114', 'dnajc15', 'fkbp3', 'tmem147', 'vasn', 'cmtr2', 'srrm2', 'st6galnac2', 'ube2d1', 'casp7', 'galnt12', 'trir', 'rpp14', 'lair1', 'get3', 'galk1', 'plcb4', 'apool', 'slc12a5', 'caskin2', 'jun', 'lilra6', 'tex13a', 'krt33b', 'mcm10', 'clec7a', 'snip1', 'acmsd', 'ralbp1', 'igfbp1', 'pcsk9', 'ttll6', 'afap1l1', 'lsmem2', 'vdac2', 'sel1l', 'ceacam3', 'ak7', 'fam162a', 'myl2', 'ldhb', 'actr3', 'znf736', 'ubqln4', 'lrrn4cl', 'syt10', 'fa2h', 'kat6a', 'lrp3', 'csgalnact2', 'kcnh3', 'nlgn4x', 'gpr18', 'ticam1', 'slc25a51', 'ska2', 'ppp2r2b', 'elmod1', 'tenm3', 'ubb', 'gtf2i', 'skor1', 'pyhin1', 'ly6g6c', 'parp16', 'ppp1r15b', 'col6a5', 'cables1', 'fam174c', 'rara', 'ppef1', 'dleu7', 'chit1', 'neurl1b', 'tnip3', 'cdh13', 'tmem230', 'c17orf98', 'gja5', 'lyrm7', 'hint2', 'psmd3', 'fez2', 'ldlrap1', 'vwa3b', 'grb7', 'slc7a9', 'cpt1c', 'gbp7', 'paxip1', 'stxbp3', 'zdhhc7', 'dlgap4', 'praf2', 'actl6a', 'msgn1', 'cep120', 'cyp26c1', 'or10ag1', 'knl1', 'atp6v0e1', 'hpr', 'myh1', 'osbpl1a', 'pax4', 'myom2', 'zc3h6', 'prcd', 'c7orf57', 'zscan5b', 'ints6l', 'ndufaf7', 'dusp12', 'cdv3', 'or5a2', 'gpr180', 'rnf150', 'arhgap5', 'catsperb', 'ttll13p', 'arl2', 'c10orf99', 'plekhh3', 'lrrc19', 'ubxn10', 'prlhr', 'tcp1', 'mdga1', 'tnpo3', 'gmeb2', 'or10g3', 'tff3', 'pabpc1l', 'col5a3', 'ddx6', 'usp50', 'arhgap11b', 'gtf3c5', 'wdr19', 'srp19', 'adap1', 'togaram2', 'pah', 'ctdspl2', 'dpm3', 'phlda2', 'dhx57', 'slit3', 'slc22a1', 'sema5a', 'cox6a1', 'kdm4b', 'mdh1', 'src', 'uxs1', 'trim26', 'pstk', 'eci1', 'zscan18', 'ms4a4e', 'pcbp3', 'pkd2', 'ddo', 'lat2', 'inka2', 'rnase13', 'odr4', 'krt4', 'plaat3', 'c3', 'grb2', 'rbm15b', 'epb42', 'spink2', 'prkce', 'peli1', 'stub1', 'nosip', 'klk15', 'galntl5', 'srpx2', 'urm1', 'slc12a6', 'cog6', 'ccdc198', 'dennd2d', 'cert1', 'tmem38a', 'rabac1', 'nmrk1', 'mgll', 'chrm1', 'gart', 'pak2', 'atf6b', 'atmin', 'spon2', 'pln', 'klhdc7b', 'tbx5', 'krtap10-5', 'cblb', 'oas2', 'gcg', 'or4c12', 'rabepk', 'proz', 'or6c68', 'serpinf1', 'laptm4a', 'rab4a', 'pacs2', 'preb', 'lypd3', 'vrk3', 'znf618', 'dand5', 'taf9b', 'hrnr', 'aldh5a1', 'rexo4', 'slc48a1', 'fktn', 'treml4', 'copg2', 'cxorf38', 'ctns', 'csf3', 'slc44a4', 'rasef', 'tnnt1', 'gfra2', 'tgfb2', 'pglyrp2', 'znhit1', 'ccin', 'ildr1', 'or51v1', 'ints4', 'phyhd1', 'vezt', 'trpm5', 'sytl5', 'psors1c2', 'polr1a', 'mybl1', 'tgfbr3l', 'pglyrp3', 'klhl4', 'rpp30', 'ssna1', 'slc22a9', 'lmln2', 'umod', 'klk10', 'casp8ap2', 'pskh2', 'polr3c', 'pus7l', 'amigo2', 'atp6ap1', 'prr9', 'pp2d1', 'fbxl3', 'piwil2', 'cabyr', 'lrrc27', 'tmem53', 'gfra4', 'znf98', 'znf804b', 'nags', 'kiaa2012', 'znf821', 'p2ry12', 'ctnnd1', 'znf747', 'trmt61a', 'aoah', 'lrrc14', 'herc4', 'gmeb1', 'sec11a', 'pramef12', 'bub1b', 'zbtb7c', 'rrp8', 'cdk11b', 'slc35a2', 'pnpla2', 'havcr2', 'b4galnt2', 'clta', 'wasf3', 'pitpna', 'ppm1d', 'rack1', 'znf264', 'gphb5', 'trim54', 'ube4b', 'twf2', 'hint1', 'ikzf2', 'psma2', 'dazl', 'prr36', 'capzb', 'c17orf75', 'mrap2', 'rexo5', 'tp53i3', 'ccdc126', 'tubg2', 'ervv-1', 'bambi', 'btk', 'tm2d2', 'mllt6', 'ct83', 'opn1sw', 'gba', 'degs2', 'tnfrsf11a', 'etv2', 'erich1', 'or2g3', 'slc51b', 'nppa', 'dcaf10', 'znf714', 'dmgdh', 'ddx55', 'hs3st3b1', 'lrrc52', 'seh1l', 'tbc1d2b', 'sirt5', 'pigs', 'cyp4v2', 'alkbh2', 'map7d2', 'atp8b2', 'arx', 'calcoco1', 'polr3a', 'gabpb2', 'znf280b', 'ankle2', 'nif3l1', 'akr7a2', 'nup214', 'psme2', 'zfp91', 'cyp1a2', 'gng13', 'c19orf81', 'apol4', 'scfd2', 'st3gal6', 'pax7', 'unc5c', 'prdm11', 'mcm4', 'ppm1j', 'cacna1s', 'suv39h2', 'neu2', 'c19orf47', 'napg', 'crem', 'lrpprc', 'tnfsf15', 'emc7', 'rac1', 'ltn1', 'lhx8', 'slc25a46', 'uba2', 'defb134', 'ly96', 'snapc5', 'slc35e1', 'crb3', 'nefl', 'smim21', 'galp', 'lysmd4', 'csk', 'ca14', 'dis3l', 'tlx2', 'dhfr', 'or5as1', 'c17orf107', 'pcdh18', 'znf507', 'cs', 'alpg', 'tmem42', 'naaa', 'meox2', 'rpp25', 'plch2', 'ano3', 'fermt3', 'zbtb18', 'dtymk', 'armh2', 'esyt3', 'rnf7', 'adgrd1', 'arih1', 'znf254', 'dytn', 'gal3st1', 'slc35g5', 'plek2', 'zcchc3', 'pcdhb14', 'impa2', 'or2c3', 'pgm3', 'dusp1', 'gimap8', 'ap5m1', 'pemt', 'dpp6', 'milr1', 'trim21', 'cacng7', 'scml1', 'slc25a31', 'slc7a10', 'tex46', 'trip4', 'saa4', 'polr3f', 'c6orf89', 'psmg2', 'itgb1', 'lrrc49', 'neto2', 'kif3c', 'ago2', 'tcaf1', 'mtf1', 'bpifb4', 'thegl', 'slc34a3', 'chp2', 'mbd3', 'fpr3', 'kcns3', 'znf346', 'inpp5e', 'plpp5', 'scnn1g', 'dthd1', 'enpp2', 'arfip1', 'clca4', 'lrrc20', 'esco2', 'synj1', 'b4galt1', 'samd9', 'fam53b', 'opcml', 'znf343', 'kcna1', 'ncmap', 'zcwpw2', 'cltb', 'pik3r4', 'ms4a1', 'polr2g', 'rbp3', 'aldh1l1', 'zbtb20', 'muc21', 'pbrm1', 'sfxn5', 'bax', 'stmn4', 'prpf38b', 'or4k2', 'sec16a', 'cntnap4', 'ttc12', 'znf699', 'mfap2', 'asb18', 'rad51d', 'gp5', 'ddah1', 'rfesd', 'usf2', 'alkbh6', 'spanxn5', 'ube2d4', 'wfdc8', 'foxi3', 'snx18', 'med30', 'brf1', 'rasd1', 'gins3', 'apol1', 'upk1a', 'atp6v1b2', 'mmp24os', 'cdc42bpb', 'osmr', 'or56a4', 'sp3', 'clpb', 'rgp1', 'pim1', 'mier3', 'ccdc142', 'serbp1', 'avpr1a', 'ddx58', 'maml3', 'frmpd1', 'rasl12', 'gpr17', 'slc22a18', 'ca5a', 'plat', 'tmem190', 'hmgn1', 'ppp5c', 'vps13a', 'pth2', 'lbhd2', 'e2f8', 'iqcn', 'hnf4g', 'stn1', 'cars2', 'zdhhc14', 'pacs1', 'kat2a', 'gata5', 'omp', 'itpa', 'vstm2a', 'kif26a', 'ipo4', 'krtap16-1', 'kctd21', 'c8orf74', 'adm2', 'zp3', 'fat3', 'usp17l2', 'colca2', 'vstm1', 'lpcat2', 'znf224', 'spryd4', 'atxn2', 'paox', 'grina', 'nbeal1', 'faxc', 'hsd17b2', 'timm21', 'vsnl1', 'parp3', 'l2hgdh', 'ldlrad3', 'abhd12b', 'lyl1', 'tmem44', 'dlc1', 'mcf2', 'rab3c', 'sh3bp2', 'ndc80', 'mier1', 'dkk4', 'hdac11', 'cpsf4', 'cxcl11', 'col5a1', 'scel', 'c4orf47', 'sft2d2', 'zswim4', 'krtap19-2', 'g6pc2', 'hoxa5', 'rln2', 'apobec3d', 'btn2a2', 'bet1l', 'gli3', 'gli1', 'oard1', 'bri3bp', 'pdcd5', 'filip1', 'slc16a10', 'spatc1l', 'kera', 'nkx2-2', 'kmt2d', 'ak4', 'tapt1', 'art5', 'clrn2', 'mreg', 'snap29', 'ndst3', 'fgl2', 'agl', 'nap1l4', 'pkdrej', 'rgs19', 'tmem50b', 'phospho1', 'thap3', 'marcksl1', 'hpcal4', 'plaat5', 'pcsk7', 'acin1', 'tmem164', 'camk1g', 'cdyl', 'gad1', 'gtf2b', 'zscan31', 'crybb1', 'vps72', 'bicral', 'kcnt2', 'rrp15', 'carmil3', 'brip1', 'lgals3bp', 'tmem245', 'tmem91', 'fasn', 'prame', 'c19orf85', 'ncapd3', 'or8h2', 'gfy', 'cacna1b', 'slc25a24', 'ren', 'vipr2', 'angptl6', 'vwa3a', 'numbl', 'hcrtr1', 'snapin', 'scp2', 'tmem117', 'ms4a2', 'zbtb33', 'tmc5', 'uba52', 'sh3glb2', 'ercc3', 'ano1', 'abhd18', 'irf9', 'zbtb41', 'wdr76', 'casp6', 'tdrd10', 'htr3c', 'fastkd5', 'tex13c', 'lrrc3', 'tgm4', 'c2orf76', 'pmf1', 'leng9', 'cnpy3', 'brk1', 'csf3r', 'fam135a', 'ropn1l', 'c9orf50', 'aifm3', 'ipmk', 'hdac3', 'mtcp1', 'homer1', 'ttc36', 'msi2', 'purb', 'znf619', 'mettl21a', 'pdlim5', 'slc6a18', 'tada3', 'cracr2a', 'or8b2', 'c17orf50', 'ppp1r12a', 'gucy2f', 'ppox', 'exog', 'cat', 'amfr', 'spry4', 'psmd6', 'kyat3', 'sult1a2', 'ip6k1', 'igsf23', 'ttll12', 'baalc', 'cdr2l', 'zcchc2', 'cnih3', 'fosl2', 'fev', 'psen1', 'cavin4', 'nwd2', 'abo', 'tubal3', 'got1', 'bend4', 'atf6', 'pebp1', 'znf396', 'timeless', 'sumo3', 'gjc2', 'mrtfa', 'tnk2', 'ei24', 'lce1d', 'mxra7', 'izumo4', 'hacl1', 'sdha', 'ppil1', 'chodl', 'gid4', 'zc3h12c', 'noct', 'or8h1', 'or52n2', 'znf512b', 'dok1', 'ifngr2', 'or2m3', 'dcaf12', 'capn12', 'aacs', 'nrg1', 'ubap1', 'tnfsf11', 'lats1', 'ugt1a1', 'bmp2', 'cntrl', 'ccdc166', 'ercc5', 'ets2', 'bgn', 'krcc1', 'csnk1g3', 'psors1c1', 'kdelr2', 'dll1', 'utp25', 'gage1', 'atad3c', 'or4k13', 'tent5d', 'pth2r', 'pgs1', 'fam126a', 'kif6', 'fastk', 'scrt2', 'hdhd3', 'mapk14', 'or6x1', 'pcbp1', 'kiaa1109', 'lgi4', 'slc45a2', 'rictor', 'dnaaf4', 'sox15', 'casz1', 'gulp1', 'catsper3', 'rmnd5b', 'polq', 'smap2', 'tmem229b', 'cant1', 'mael', 'cep78', 'tnnc2', 'stil', 'rab37', 'gadd45a', 'mpv17l2', 'senp7', 'dppa3', 'bphl', 'slc3a2', 'rnase6', 'kiaa0513', 'oxgr1', 'camk2a', 'pfkfb2', 'mocs2', 'otud6b', 'arhgap22', 'lrrc40', 'cep44', 'itfg1', 'prr7', 'arhgef10l', 'gale', 'rbm44', 'mga', 'cmtm4', 'cacna2d3', 'dnpep', 'srpk1', 'gap43', 'pla2g7', 'cdk14', 'cep295', 'med22', 'thap10', 'senp3', 'rasl11b', 'poglut3', 'ogdhl', 'dpep2', 'ppp1r26', 'fam227b', 'paqr9', 'usp36', 'plcz1', 'nell2', 'nr2f6', 'c2', 'pign', 'depdc7', 'pnkd', 'fam227a', 'dydc2', 'fam50a', 'errfi1', 'btg4', 'ncbp2as2', 'prr16', 'c5orf49', 'fhad1', 'aspm', 'nbeal2', 'pdzd2', 'chst8', 'tox2', 'pdyn', 'znf708', 'ttc32', 'wtip', 'or13h1', 'lrrc3b', 'id1', 'lcmt1', 'mapk15', 'desi2', 'cog3', 'ttc39a', 'aard', 'areg', 'acss1', 'or56b4', 'muc15', 'ldah', 'dhx30', 'hmox1', 'nap1l5', 'fam20c', 'ccdc115', 'st6galnac4', 'nudt13', 'wbp1l', 'obp2a', 'cc2d1b', 'erbb3', 'ptf1a', 'aimp2', 'znf771', 'nup88', 'myh8', 'tsc22d3', 'wasf2', 'oxtr', 'mpp1', 'klf11', 'or11h6', 'tubgcp4', 'tbc1d3e', 'zbtb7a', 'fbn3', 'inpp5f', 'foxi2', 'copb1', 'rcan1', 'ptpn1', 'hrg', 'colec12', 'c10orf95', 'znf706', 'prpf4b', 'lrrc59', 'nectin4', 'btn1a1', 'armcx3', 'mcat', 'fam183a', 'maff', 'ppp1r16a', 'slc2a11', 'znf23', 'mzb1', 'tincr', 'plcb2', 'bdh1', 'fnbp4', 'fscb', 'znf674', 'zdhhc17', 'ak5', 'glrx5', 'tbx15', 'myrip', 'znf577', 'rab9b', 'far1', 'asb16', 'taf4b', 'tbc1d4', 'taf11', 'fam205c', 'dgat2', 'epb41', 'asah1', 'bbox1', 'rnf167', 'shc3', 'mms19', 'muc6', 'cyp2a7', 'or5w2', 'pdlim3', 'proca1', 'or4c3', 'grpel1', 'lrsam1', 'pou2f2', 'fundc2', 'tspan17', 'npepps', 'gpr19', 'slc28a2', 'neurod1', 'mos', 'spata1', 'c2orf78', 'eif4a2', 'tmem217', 'armcx6', 'ctu2', 'krtap3-2', 'tmigd3', 'dcun1d2', 'sos2', 'mapk8ip1', 'ust', 'lpar5', 'htr1e', 'rec114', 'tjp3', 'cnnm3', 'or52k1', 'dguok', 'tmed10', 'col21a1', 'kbtbd11', 'tyrobp', 'chtf18', 'ly6k', 'paep', 'il12rb1', 'ryr1', 'ppp6c', 's100a6', 'pcp4l1', 'npffr1', 'acta2', 'bcl2l12', 'plscr4', 'bcl7b', 'eif1ad', 'trmt44', 'lamtor1', 'or51t1', 'prss56', 'or6b2', 'znf174', 'lrrc37a2', 'znf77', 'slc15a1', 'prkab1', 'dcdc1', 'nfu1', 'rbm14', 'srpk3', 'wars2', 'mme', 'ogfod1', 'tcea2', 'n4bp2l2', 'nphs2', 'rell1', 'aggf1', 'krt79', 'fuca2', 'stard5', 'tex26', 'ppip5k2', 'yod1', 'tmem132c', 'fastkd1', 'tomm5', 'sfrp5', 'rd3', 'znf335', 'fbxo42', 'maml2', 'cnot6', 'mfrp', 'mef2d', 'hirip3', 'cort', 'zhx3', 'ndufb7', 'akr1c2', 'lrrc36', 'tbx10', 'dgke', 'copa', 'vcpip1', 'foxs1', 'pde1c', 'tas2r8', 'thg1l', 'enpp6', 'ap2a2', 'c15orf61', 'yipf3', 'sox1', 'kcnh5', 'usp45', 'ccdc154', 'sh3d19', 'atp1a2', 'ccnt1', 'fyb1', 'tacc3', 'klk7', 'cdh4', 'chmp2b', 'col9a1', 'ppp1r13b', 'aifm2', 'crabp2', 'ica1', 'ap3b1', 'pacc1', 'clps', 'fgf14', 'tent5a', 'nudt11', 'slc10a3', 'sdad1', 'rreb1', 'col3a1', 'ncr3lg1', 'noxred1', 'wdr83', 'pced1a', 'cdrt1', 'tmprss6', 'taf1a', 'zfp30', 'nrp2', 'fancd2os', 'taar8', 'arid1b', 'mcm7', 'saraf', 'hook3', 'or2h1', 'hus1b', 'tmem242', 'npbwr1', 'cyp3a7', 'igsf22', 'zc3h13', 'mettl1', 'mrln', 'rflna', 'c2cd4c', 'pcdha6', 'sfta2', 'fbxl18', 'trim3', 'mapkapk3', 'srpk2', 'figla', 'sik3', 'fxyd7', 'serpini2', 'fars2', 'tpcn1', 'ttc9b', 'btbd18', 'brs3', 'vps26c', 'trim52', 'c8g', 'hmbox1', 'exd3', 'jmjd6', 'gtf3c4', 'gmcl1', 'kcnk12', 'stx16', 'fam131b', 'spice1', 'pkd2l1', 'rasd2', 'zfp2', 'gnaz', 'zkscan7', 'il2', 'mecom', 'fam124a', 'haus5', 'rab1b', 'castor1', 'acy1', 'cript', 'pou2f3', 'ttf1', 'prdx2', 'cwf19l1', 'xrcc6', 'ccnl2', 'znf256', 'gpha2', 'ppard', 'mall', 'dlg1', 'ropn1b', 'myof', 'or10g4', 'prr22', 'igbp1', 'kpna3', 'c15orf62', 'limk1', 'tmem185a', 'gas2l1', 'adh1a', 'ankrd60', 'celf6', 'rbm48', 'mrgprx4', 'krt80', 'hs6st2', 'tomm20', 'cpb1', 'ca12', 'lins1', 'pfn2', 'kdelr1', 'mb21d2', 'qpctl', 'ifnb1', 'pold2', 'dip2b', 'dbt', 'pcdhga8', 'sap30', 'gckr', 'tusc1', 'fam221a', 'cd86', 'git2', 'dlx1', 'oas1', 'pfkfb3', 'hjurp', 'slc17a2', 'luc7l2', 'syde1', 'tmem64', 'c10orf71', 'atp8a2', 'sgce', 'apbb3', 'gpr37', 'ifna1', 'mkx', 'klf16', 'sema6a', 'plglb2', 'mcfd2', 'mrgprf', 'dalrd3', 'hepn1', 'acot6', 'tmcc2', 'or2t11', 'fgf23', 'ucp3', 'ankrd31', 'tnfaip2', 'stx19', 'serp2', 'fam83e', 'aatf', 'or6n2', 'ndufs6', 'adrb2', 'spem2', 'znf85', 'prcp', 'acan', 'tmem104', 'srsf12', 'ccdc9b', 'nrbp2', 'znf774', 'or8i2', 'rnf40', 'c18orf63', 'nuak2', 'arhgef11', 'tacc2', 'icos', 'f2r', 'angptl2', 'morc1', 'vldlr', 'nat10', 'cnot6l', 'neurl3', 'c3orf70', 'dgki', 'fam110b', 'hs3st6', 'tmcc3', 'pnma6f', 'wdr37', 'llph', 'gins2', 'col13a1', 'ccl17', 'elf4', 'dvl2', 'mtch1', 'sh2d4a', 'cryga', 'lekr1', 'slfn14', 'stk26', 'col23a1', 'ptgdr2', 'cluap1', 'cib2', 'meak7', 'gas7', 'cox6c', 'hspb9', 'kcnu1', 'wfdc5', 'kcmf1', 'ankh', 'znf729', 'evc', 'lepr', 'xpr1', 'rnf215', 'nkain3', 'cldn6', 'neurl1', 'dmp1', 'klc4', 'serpina5', 'cldn18', 'c2cd3', 'wdsub1', 'clec19a', 'fbxo6', 'acads', 'xpc', 'sec61g', 'diras2', 'fahd1', 'rrp7a', 'dek', 'f13a1', 'c7orf50', 'myf5', 'or10g8', 'npdc1', 'eme2', 'hck', 'sft2d1', 'pcdhb6', 'zscan2', 'rab15', 'aurka', 'nsl1', 'ddx11', 'dnajc30', 'lgals12', 'tgs1', 'u2af2', 'hoxd4', 'ap1g1', 'hmgxb3', 'klk13', 'r3hdm2', 'irf8', 'foxc2', 'smg9', 'daw1', 'zyx', 'pknox2', 'tafa5', 'cep164', 'eno3', 'ufsp1', 'pts', 'glra1', 'l3mbtl3', 'trim67', 'guca2a', 's1pr2', 'dync1li1', 'apobec3a', 'myct1', 'ralgds', 'col8a2', 'bcorl1', 'kiaa0319', 'uimc1', 'flot1', 'nr2f1', 'mospd2', 'pir', 'spink9', 'rbm34', 'gbp3', 'or2g6', 'ddx25', 'hmgcs2', 'tmem106c', 'lyzl2', 'supt6h', 'smim4', 'tufm', 'tgm2', 'sh2d3a', 'asb13', 'lhx6', 'hars2', 'gpkow', 'ublcp1', 'ghrh', 'tmem134', 'tipin', 'pou2f1', 'ada2', 'cc2d2b', 'cldn23', 'ruvbl1', 'ccdc182', 'atxn3', 'aspscr1', 'vsx1', 'spdl1', 'gpr3', 'c3orf20', 'bach2', 'c14orf180', 'usp5', 'trim69', 'coasy', 'snx4', 'gak', 'efcab1', 'fbxo16', 'maoa', 'tdrd5', 'oasl', 'tafa4', 'nanos1', 'cnot3', 'cfap53', 'rfwd3', 'actn2', 'ndufa10', 'lrrc28', 'adam19', 'chmp4c', 'ldb2', 'aph1a', 'tmem252', 'vmp1', 'upk3a', 'foxe1', 'neo1', 'pex5l', 'cdca5', 'septin9', 'mipol1', 'gprin2', 'zxdc', 'hnmt', 'irak1bp1', 'lsm14b', 'mpc1l', 'ranbp3', 'gtf2e1', 'mcm5', 'plcxd2', 'dpcd', 'c1orf112', 'en2', 'slc25a4', 'm1ap', 'pax1', 'smim10l2a', 'arid1a', 'mamdc2', 'tspan3', 'ghsr', 'efcab11', 'gpr34', 'pear1', 'scube3', 'nme3', 'cyp1b1', 'ipo9', 'nhej1', 'mbd4', 'abi2', 'cds2', 'aire', 'ccdc113', 'pgr', 'sec24a', 'mks1', 'rad18', 'hpse', 'spcs1', 'apoc1', 'nrdc', 'gnl1', 'fhod3', 'btbd19', 'pafah1b3', 'fignl1', 'psmb6', 'ankrd30bl', 'trak1', 'zdhhc5', 'spata31e1', 'ophn1', 'slc9a2', 'gramd2b', 'arfgap2', 'fam110d', 'hsd17b4', 'cox7a1', 'pramef18', 'slc35c2', 'lce1a', 'phospho2', 'znf669', 'pdp2', 'lmx1b', 'rsph6a', 'abhd6', 'adam22', 'rgs22', 'best2', 'spaca3', 'mettl25', 'trpm8', 'glt8d1', 'rcl1', 'pcdha13', 'ift88', 'chga', 'gabrp', 'tgfbrap1', 'ppp1r1a', 'znf687', 'galnt3', 'hand1', 'inpp5k', 'scaf8', 'nt5c3b', 'rab8a', 'bfsp1', 'ccr2', 'fabp7', 'psmb2', 'gbx2', 'ppm1l', 'ankle1', 'pclaf', 'ttc21a', 'mcu', 'alg8', 'tnfrsf8', 'slc4a1ap', 'ccdc93', 'tmbim1', 'c19orf73', 'actrt1', 'tubb6', 'kynu', 'dnajc24', 'bmi1', 'crygd', 'kiaa0753', 'ecrg4', 'sulf1', 'oprl1', 'nufip2', 'ccdc141', 'dstn', 'nhs', 'bcl7a', 'aagab', 'pkd1l1', 'bpifc', 'mgarp', 'adnp2', 'sec61a1', 'tnfsf10', 'htr3d', 'lipe', 'p2ry1', 'nsmce4a', 'foxo3', 'znf408', 'scn3a', 'saxo1', 'secisbp2', 'il4r', 'krtap1-4', 'eif2a', 'thpo', 'dtna', 'aicda', 'lonp2', 'dstyk', 'c2orf88', 'ubqln1', 'map7d1', 'ciao1', 'sez6l2', 'mroh2b', 'kansl1', 'usp47', 'elane', 'or1d2', 'cbfb', 'or5k3', 'scarb2', 'asb6', 'egr2', 'edrf1', 'smc1b', 'ss18', 'nanos2', 'golim4', 'nxph1', 'trim49b', 'trpm3', 'zap70', 'cst8', 'myl3', 'abcc2', 'ep400', 'slc6a16', 'map3k19', 'hoxa6', 'tcf12', 'laptm4b', 'znf486', 'morf4l2', 'slc22a16', 'ltb', 'dhrs4', 'prkar1b', 'golga8r', 'alx4', 'phlda3', 'dpysl2', 'mstn', 'npipb2', 'wnt7a', 'fcsk', 'ticrr', 'timm17b', 'opn4', 'fcgrt', 'snrpb2', 'ca11', 'gal3st4', 'tfpt', 'ppl', 'celf3', 'eif2s1', 'rgl2', 'obi1', 'nup153', 'zscan25', 'ifi44l', 'lilra2', 'khdc3l', 'slc4a1', 'ncbp2', 'adamts16', 'pou3f1', 'hoxd3', 'nlrp2', 'ermap', 'septin14', 'fcgr2a', 'slc38a1', 'pilrb', 'snx15', 'olfm4', 'znf781', 'treh', 'igf2bp3', 'tssk3', 'znf556', 'atrn', 'smpdl3a', 'ttf2', 'pnn', 'ldlrad4', 'fgg', 'zfyve1', 'prg4', 'adam18', 'smu1', 'prss58', 'znf518b', 'ttr', 'znf106', 'znf606', 'rin2', 'nhlrc2', 'mlph', 'slc46a3', 'prkag3', 'vwa5b1', 'sirpb1', 'c6orf118', 'fgf16', 'c19orf84', 'cfp', 'anapc5', 'capza3', 'homer3', 'jak3', 'zbed6cl', 'proser2', 'kcnh1', 'pop7', 'thbd', 'chd3', 'rag2', 'fam133b', 'adamtsl4', 'arg2', 'lrrd1', 'pcdhb2', 'smim38', 'prrt4', 'g2e3', 'zxda', 'efcab2', 'sec22b', 'trim11', 'mettl27', 'lactb', 'sgpp2', 'rbp2', 'aar2', 'kcna10', 'znf570', 'ube2b', 'alkbh5', 'nanos3', 'ctse', 'plxna2', 'traf3ip3', 'hoxb9', 'hoxc13', 'prkcd', 'mpv17', 'hectd3', 'dlec1', 'arhgap21', 'tubg1', 'suz12', 'rfx2', 'mx1', 'cenpp', 'rpa1', 'cep97', 'prrc2a', 'itpr2', 'ago1', 'mvb12a', 'parp15', 'nyap2', 'prrx2', 'sc5d', 'rab35', 'ppp4c', 'ccl1', 'as3mt', 'frem3', 'mafa', 'mars2', 'tifa', 'cdc27', 'ccdc178', 'mtmr3', 'rtl3', 'fmo3', 'cyfip2', 'sf3b1', 'trpv6', 'pym1', 'birc5', 'tasor', 'dpf2', 'rab11fip1', 'slc25a19', 'rbpjl', 'cenpm', 'krt12', 'or8u1', 'nr2e1', 'znf784', 'gkap1', 'scrn2', 'igfals', 'fzd10', 'prss37', 'cdcp1', 'clcf1', 'soat2', 'galnt15', 'grhl2', 'ucn2', 'plekha5', 'rab40c', 'znf70', 'tfpi', 'or2t8', 'slc35f4', 'itln1', 'il36b', 'pcdh7', 'agpat1', 'nfil3', 'ppcdc', 'pde4d', 'adgrb2', 'sgcg', 'plppr3', 'gpsm1', 'aprt', 'arsa', 'atg14', 'hexim2', 'pabpc5', 'maged1', 'cyth3', 'ccng2', 'tmem40', 'crispld2', 'bdkrb1', 'atp2b2', 'ebi3', 'znf571', 'pamr1', 'znf436', 'rmc1', 'rspry1', 'rnf227', 'cfap298', 'adcy10', 'dsp', 'zbtb14', 'tbc1d25', 'tedc1', 'tmem106b', 'ift27', 'rad1', 'p2ry8', 'tmed6', 'dcaf11', 'stra6', 'mbnl3', 'rad51ap2', 'fam71f2', 'odf3l1', 'madd', 'caps', 'ntf4', 'scnm1', 'ankrd55', 'gng8', 'rnf207', 'adgrg2', 'dgat2l6', 'doc2b', 'arid3c', 'or6c1', 'klhl34', 'akap4', 'znf853', 'xpo4', 'fam219b', 'nexmif', 'nsun6', 'apof', 'tex30', 'znf839', 'gml', 'efcab6', 'adarb2', 'arl14ep', 'socs1', 'cenpt', 'hook2', 'adgrg1', 'irf6', 'ccndbp1', 'cldn9', 'slc25a28', 'appbp2', 'tshz2', 'atxn10', 'agk', 'sox14', 'c16orf86', 'ppm1a', 'znf672', 'prmt9', 'nop2', 'ranbp9', 'psmc4', 'dtx4', 'c1ql2', 'bbs4', 'supt4h1', 'scamp4', 'pax2', 'emx2', 'taf11l4', 'znf84', 'arsf', 'pabpn1l', 'trpc1', 'ppp2r3a', 'znf33a', 'hemgn', 'dock9', 'iqcg', 'rrad', 'tulp1', 'prmt3', 'cacna2d2', 'foxb2', 'gtf3c6', 'acadl', 'itgax', 'miox', 'tmem69', 'tnfaip8', 'gpsm3', 'pilra', 'fbxo21', 'esrp2', 'gmnn', 'pink1', 'mfap3', 'gpr15', 'dhps', 'scgb2a1', 'cyp2d6', 'nr1d1', 'kiaa1191', 'phrf1', 'mchr2', 'mlkl', 'adam12', 'brox', 'ebf4', 'akr1a1', 'rgs17', 'nacc2', 'pde6g', 'pithd1', 'loxl3', 'tctn1', 'rrbp1', 'znf624', 'krt33a', 'kaag1', 'cfap74', 'znf407', 'tnrc6a', 'timm13', 'glce', 'cybb', 'bmpr1b', 'p2rx6', 'atg13', 'musk', 'tmem45a', 'ccdc157', 'cd1c', 'paqr3', 'disp3', 'pde4b', 'sohlh1', 'lyz', 'sco2', 'gk3p', 'pdk4', 'tm9sf2', 'lct', 'or52b2', 'helz2', 'slc6a3', 'plxnc1', 'zfc3h1', 'tas2r7', 'mpg', 'ddx49', 'slc30a9', 'tbl2', 'agtr2', 'nbpf19', 'prrc1', 'itga5', 'slc10a6', 'ulbp3', 'cntn1', 'prkag1', 'nup210', 'myorg', 'cox15', 'eddm3b', 'senp8', 'znf787', 'asb9', 'ralgapa2', 'primpol', 'cenpw', 'sephs1', 'frmd8', 'znf700', 'cbx2', 'golga6l2', 'rbm6', 'zscan29', 'tvp23c', 'pou5f2', 'tkfc', 'tsn', 'or5l1', 'atxn1l', 'alpi', 'gpat4', 'duoxa2', 'ccdc134', 'hcrtr2', 'dhrs9', 'ell2', 'rusc2', 'ccdc160', 'folr3', 'pwp1', 'trim23', 'chd4', 'kdm8', 'mier2', 'kif25', 'cd8a', 'ecm2', 'dennd4a', 'armh3', 'naga', 'il17rb', 'adipor1', 'pml', 'thoc1', 'ankrd34c', 'wfdc2', 'arrdc4', 'cnot1', 'ccdc28a', 'selenop', 'yipf5', 'ninj2', 'lmcd1', 'cdh1', 'tuba1c', 'eif2s3', 'or1l8', 'panx3', 'stk32b', 'polr3k', 'znf593', 'nlrp1', 'gata6', 'calr3', 'cep72', 'acp7', 'gpn1', 'actr8', 'or4c16', 'rnasek', 'acap1', 'nkx6-2', 'spx', 'fbxo30', 'nhlh1', 'pigr', 'elp3', 'rb1cc1', 'pramef20', 'itgb1bp1', 'foxi1', 'aldh1b1', 'ercc6', 'c1ql4', 'tsc2', 'wnt2', 'med17', 'lmf1', 'tasor2', 'id2', 'popdc3', 'ears2', 'fxyd1', 'plac1', 'pnlip', 'ptch2', 'parp6', 'asb12', 'pnpla8', 'dusp14', 'ctr9', 'rab3d', 'styx', 'foxr2', 'ccdc34', 'gpr87', 'ostc', 'etfdh', 'creb5', 'c1qtnf1', 'metap2', 'kirrel2', 'itga8', 'churc1', 'or10p1', 'wdr93', 'baat', 'irak4', 'ttbk2', 'rnf31', 'snrpc', 'sntg2', 'uspl1', 'aak1', 'psmd11', 'tex33', 'czib', 'cxcr3', 'krtap8-1', 'stkld1', 'fam24b', 'elof1', 'lnpk', 'gab2', 'ywhag', 'spata3', 'c3orf49', 'znf280d', 'pomc', 'mif', 'cenpa', 'ap4m1', 'aph1b', 'rbbp6', 'mmrn1', 'hyou1', 'dph6', 'rsph10b2', 'npffr2', 'gbp2', 'slc22a25', 'lrrc61', 'rpain', 'mtus1', 'mcee', 'maob', 'ypel1', 'nek3', 'gpr78', 'ms4a6e', 'c1orf35', 'akap11', 'frmd1', 'brcc3', 'serpine1', 'vcan', 'apob', 'inha', 'arl6ip5', 'ccdc171', 'ubfd1', 'plaat1', 'asf1a', 'psg11', 'ssc5d', 'xylt2', 'spdef', 'cd2bp2', 'pip4k2c', 'dchs1', 'ankzf1', 'usp32', 'slc25a14', 'tktl1', 'sbspon', 'polr2e', 'ireb2', 'csf1r', 'znf816', 'lzts3', 'tspear', 'ubtf', 'phldb3', 'arhgef3', 'matk', 'ubl4a', 'eef1akmt2', 'denr', 'snapc4', 'sec23a', 'wdr27', 'mt-nd5', 'prelid2', 'pramef15', 'dpysl3', 'plk2', 'rnf212b', 'otx2', 'tmem31', 'neurl4', 'tigd1', 'rai14', 'plxnd1', 'dhdh', 'lztfl1', 'prop1', 'alx1', 'rnd3', 'neu4', 'abcf1', 'nras', 'ca7', 'cdyl2', 'ilf2', 'cd68', 'emc8', 'epyc', 'polr2f', 'clec1a', 'ca6', 'znf148', 'kansl3', 'cxcr6', 'polr3h', 'klhdc9', 'krtap5-5', 'mdn1', 'gpr45', 'tiaf1', 'or5k2', 'c1qb', 'stk33', 'atp12a', 'shkbp1', 'pcf11', 'c19orf54', 'lce2d', 'pcgf3', 'met', 'arpc3', 'mapre1', 'nek4', 'nup58', 'epc1', 'c11orf24', 'fam117b', 'cplx3', 'adamtsl5', 'usp53', 'cep290', 'pank2', 'isg20l2', 'scn1b', 'oaz3', 'galnt5', 'c3orf18', 'shb', 'sycp3', 'caps2', 'hdac10', 'lhx4', 'elovl4', 'wdr75', 'slc39a7', 'nsd2', 'rad21', 'or5b17', 'pea15', 'nle1', 'ppp2r2d', 'osr1', 'intu', 'crat', 'potem', 'or7c1', 'megf8', 'myo1f', 'reg3g', 'gpd2', 'zim2', 'or6k2', 'masp1', 'cops5', 'atp6v0d2', 'klln', 'prmt7', 'plekhg1', 'cfhr4', 'bpifa2', 'gpr27', 'c8orf76', 'cnnm1', 'clec1b', 'sypl2', 'tppp', 'top1mt', 'nhlh2', 'rmdn1', 'ntpcr', 'sac3d1', 'mmp13', 'trmt112', 'rnf208', 'tead4', 'tmtc2', 'dnah17', 'cdk16', 'trub2', 'rybp', 'camk1d', 'slc16a3', 'fpgs', 'myh10', 'ankrd6', 'rab3a', 'septin1', 'znf490', 'eif2ak2', 'znf891', 'ly9', 'cd96', 'plcb1', 'upp2', 'tbc1d16', 'rpn1', 'tgif2', 'banp', 'foxd3', 'dcbld1', 'cxcr2', 'dpysl4', 'apoc2', 'il17d', 'mcm9', 'znf580', 'asgr2', 'gnly', 'aifm1', 'mis18bp1', 'alox15b', 'ebf2', 'gabrr3', 'rarres2', 'prmt2', 'c10orf67', 'gngt2', 'nxpe4', 'nop53', 'arhgap19', 'ufm1', 'fn3krp', 'prr19', 'ripor1', 'coa5', 'nrn1l', 'kbtbd8', 'c1rl', 'mylk4', 'myl1', 'nol7', 'trex2', 'cacna1d', 'trim14', 'aaas', 'c19orf71', 'borcs5', 'kcnj13', 'susd2', 'clec3b', 'ifit1', 'slc12a8', 'ddr1', 'pitx1', 'gin1', 'gem', 'irf2bp2', 'ppp1r32', 'tmem120b', 'znf232', 'pirt', 'prkcsh', 'kcnv1', 'gorasp1', 'cish', 'krtap1-1', 'sh2d2a', 'rnf17', 'mmp14', 'gpr139', 'znf300', 'ptpn5', 'keap1', 'acaca', 'znf792', 'snrnp70', 'vxn', 'ltbr', 'zswim6', 'ramp3', 'pla2g1b', 'parva', 'cdc42ep2', 'krtap12-3', 'fchsd1', 'or6c6', 'spaca1', 'ntrk1', 'rhd', 'ldhal6a', 'cnn2', 'ubxn1', 'prpsap2', 'cd3e', 'rhbdl3', 'hamp', 'znf780a', 'tamm41', 'znf80', 'npb', 'dck', 'b3gnt4', 'ankrd33b', 'cxcr1', 'crlf3', 'heg1', 'ncam2', 'meis3', 'ubxn11', 'sema3a', 'dse', 'rgs11', 'anapc16', 'ccl4', 'cst11', 'rapgef1', 'syf2', 'ambra1', 'tmem199', 'krt37', 'epha5', 'akirin2', 'cnn1', 'foxred2', 'lrrc8d', 'cyb5d1', 'slc15a2', 'msr1', 'riok3', 'cep63', 'dctpp1', 'mybph', 'klhl20', 'cd93', 'cdr2', 'slk', 'abcc3', 'arhgap8', 'efcab8', 'sorl1', 'gabra6', 'bahcc1', 'wdr3', 'hmgn3', 'got2', 'ece1', 'efcab13', 'galnt8', 'cd72', 'dclk2', 'cwc27', 'helt', 'ndufa13', 'erc1', 'hrc', 'col16a1', 'chrna7', 'or1m1', 'adcy5', 'pmch', 'zar1', 'ano8', 'adamts5', 'rbm8a', 'krtap19-7', 'apoa2', 'prdm16', 'topaz1', 'rimbp3b', 'adal', 'cklf', 'tmod1', 'nphp3', 'nhp2', 'wnt6', 'pyroxd1', 'lin28a', 'tpte2', 'npy', 'clec6a', 'sprr1b', 'tasp1', 'ckap5', 'katnal2', 'spp2', 'yeats2', 'mbip', 'or2i1p', 'prss54', 'derl3', 'ttc31', 'vamp3', 'syde2', 'klk3', 'pkn3', 'papln', 'med8', 'sema3f', 'mfn1', 'slc26a8', 'txndc8', 'pitpnc1', 'pdzd4', 'sqor', 'cit', 'tlr6', 'cfap58', 'zscan9', 'wnk4', 'b3gnt3', 'megf6', 'cops2', 'scygr8', 'znf90', 'znf66', 'tdrd12', 'tlr9', 'sec24b', 'chat', 'elavl4', 'arl1', 'shank3', 'zfp92', 'ppp1r14d', 'lypd8', 'rab25', 'st8sia2', 'arfgef2', 'myo3b', 'cadps', 'scamp1', 'tnfsf8', 'piga', 'znf250', 'slc66a1', 'rab8b', 'atp2c1', 'lin7a', 'cpsf3', 'ppm1m', 'pcdhb8', 'robo1', 'myb', 'rtn4r', 'runx3', 'ccnb3', 'dpp10', 'trim75p', 'cmya5', 'gon7', 'sycp2', 'dgkk', 'six1', 'hnrnph3', 'mas1', 'rab5a', 'dcp1b', 'mink1', 'gabrq', 'hr', 'htn1', 'pde3b', 'trim66', 'bmp6', 'hormad2', 'mt-nd1', 'c12orf42', 'znf564', 'gna14', 'stt3a', 'tnr', 'zbtb8a', 'rbp1', 'foxc1', 'tubb2b', 'perp', 'dock8', 'ilk', 'krtap5-9', 'dhcr24', 'znf311', 'lat', 'ddx19a', 'spg11', 'il4i1', 'cbr4', 'cpox', 'zpbp2', 'pudp', 'cartpt', 'bnip1', 'sh3gl1', 'yae1', 'defb112', 'erich3', 'tmem88b', 'ccdc81', 'gbp4', 'hjv', 'ankdd1a', 'ccdc32', 'epha2', 'rnpc3', 'card9', 'hspbp1', 'mfsd14b', 'sec14l1', 'trim2', 'kif20b', 'fxyd2', 'pik3r5', 'ccdc168', 'slc38a8', 'itpkb', 'nkg7', 'shisa7', 'med20', 'siah3', 'rcor1', 'fam89a', 'cps1', 'tjap1', 'tbc1d15', 'prps2', 'rfx8', 'gtpbp1', 'stk32a', 'mt1h', 'usp46', 'etnppl', 'retsat', 'parm1', 'fancg', 'sla', 'c6orf226', 'tmem229a', 'ski', 'stk3', 'angptl5', 'or10h2', 'brms1', 'nfatc2ip', 'ccdc61', 'rbbp5', 'apoa4', 'ereg', 'p2ry14', 'tmcc1', 'nat8l', 'plpp4', 'dhfr2', 'zdhhc11b', 'ptprs', 'tmem19', 'cip2a', 'adgrl4', 'smpx', 'surf2', 'recql', 'il17a', 'clybl', 'camk2n2', 'smndc1', 'pnoc', 'ahcyl2', 'tet2', 'mmp17', 'cgrrf1', 'heatr4', 'raver1', 'tle2', 'ankrd35', 'ddrgk1', 'usp41', 'gdpd3', 'kiaa2026', 'gps1', 'manba', 'atp6v0a1', 'or10g6', 'nudt17', 'golga5', 'nrip3', 'krtap10-10', 'creld2', 'krtap20-1', 'tmem178a', 'ppp1r8', 'tlr4', 'dlat', 'tlcd3b', 'gcdh', 'c20orf85', 'hsd3b1', 'magea8', 'znf467', 'fmnl2', 'amely', 'cd22', 'ccdc43', 'tmem39a', 'nr3c1', 'blcap', 'slc2a7', 'ints3', 'grhl1', 'mtmr4', 'sstr3', 'kcnmb1', 'msh6', 'acot13', 'snx19', 'steap2', 'nog', 'znf614', 'thbs4', 'spag6', 'uprt', 'rad52', 'acyp2', 'c19orf67', 'clcnka', 'drd3', 'lcp2', 'tmem17', 'lrrtm3', 'rnf170', 'ganab', 'krtap9-8', 'pold3', 'selenow', 'mat2b', 'ceacam1', 'emb', 'mllt10', 'gal3st3', 'camp', 'alas2', 'lgr4', 'ier3ip1', 'fos', 'nutf2', 'eloa2', 'eif1b', 'or5m10', 'fam89b', 'acaa1', 'inava', 'kif22', 'irx6', 'slc17a5', 'tmem79', 'rida', 'atp6v1c1', 'tnik', 'mterf4', 'ttc9c', 'dnajb13', 'or10s1', 'leo1', 'ncapg2', 'rpp25l', 'btf3', 'rdx', 'nek6', 'spc24', 'prr29', 'p2ry6', 'hey2', 'nob1', 'arf6', 'gfpt2', 'slc9a9', 'znf623', 'mki67', 'cebpz', 'spi1', 'fads2', 'gosr2', 'traf3ip2', 'spanxd', 'gchfr', 'cr1', 'cfap44', 'stx1a', 'b4gat1', 'wipf2', 'tmem216', 'vps4a', 'cactin', 'klhl12', 'afg1l', 'fbxw7', 'nyap1', 'pkn1', 'plekhj1', 'qsox2', 'reep5', 'calcoco2', 'bcl2l15', 'cdc16', 'helz', 'mlc1', 'dmpk', 'gja10', 'usp6', 'oxt', 'scygr4', 'fam91a1', 'heatr9', 'mettl18', 'il17rd', 'abcb10', 'omd', 'kcnc4', 'atp5f1d', 'krtap19-4', 'crtac1', 'fth1', 'calcb', 'sost', 'upp1', 'timm10', 'ggt5', 'xkr6', 'lin37', 'or14a16', 'cln5', 'or1d5', 'enc1', 'arhgap35', 'ccna2', 'steap3', 'xk', 'tshb', 'catip', 'ttc14', 'srek1ip1', 'hace1', 'sema3c', 'trappc4', 'lilra4', 'ifit1b', 'madcam1', 'zc3hc1', 'dmrtc2', 'napb', 'snai1', 'rfc5', 'clec18c', 'cd38', 'or9q1', 'ltk', 'mageb5', 'spsb4', 'rab3gap2', 'aqr', 'idh3b', 'rere', 'cited2', 'galt', 'c10orf90', 'clec2d', 'spaca4', 'b3gat1', 'grin2a', 'slc20a2', 'cd70', 'plekhm2', 'mslnl', 'ffar1', 'skiv2l', 'gfra1', 'usp18', 'pcid2', 'ppp1r9a', 'znf682', 'nfia', 'oxct2', 'lhfpl6', 'spag9', 'ddit3', 'bhmt2', 'naaladl1', 'dhx58', 'zscan4', 'crlf1', 'zbtb16', 'il16', 'mtres1', 'tcap', 'usp35', 'ugt2b28', 'pdcd11', 'itm2c', 'znf718', 'vps16', 'znf521', 'tll1', 'hipk1', 'tm2d1', 'rassf3', 'tnip2', 'rragd', 'hs3st2', 'lamtor3', 'pja2', 'rgr', 'timm10b', 'gid8', 'usp39', 'cpxcr1', 'or10r2', 'cmtm3', 'cd40lg', 'gngt1', 'septin5', 'elmod3', 'aff1', 'trim43', 'atp13a3', 'rngtt', 'axdnd1', 'tep1', 'trim68', 'snrk', 'dab2', 'odf2l', 'ipcef1', 'micu1', 'lipt1', 'slc25a2', 'b3glct', 'syt13', 'tle6', 'rcbtb1', 'gpr84', 'nrxn3', 'leutx', 'akirin1', 'eif3d', 'brat1', 'wnt4', 'lrrc55', 'cnot2', 'kctd8', 'rasgrp2', 'mat1a', 'fgfr4', 'grap2', 'hpf1', 'pde9a', 'mn1', 'lrrc74b', 'tnfsf14', 'atg16l2', 'mt1g', 'shq1', 'crhr1', 'diras3', 'mindy1', 'rtp3', 'oat', 'cela2a', 'veph1', 'gxylt1', 'dido1', 'vangl1', 'slc25a40', 'amdhd2', 'cshl1', 'penk', 'sptb', 'phf19', 'edil3', 'spata9', 'ccdc27', 'fgfr1op2', 'fam98c', 'tnpo1', 'rgl1', 'e4f1', 'prpf40b', 'grik5', 'bcl6', 'ctsv', 'tesc', 'dut', 'neurod2', 'emp3', 'snx1', 'golga3', 'slc66a2', 'cd1a', 'orc5', 'znf692', 'zdhhc4', 'grm3', 'zfat', 'galnt6', 'vn1r2', 'fam163b', 'ddr2', 'ppm1e', 'sgpl1', 'asic3', 'mphosph9', 'capn11', 'commd2', 'nynrin', 'tmc2', 'znf157', 'bhlhe23', 'znf579', 'fam98b', 'six2', 'ccdc40', 'epop', 'hspa2', 'sowahc', 'inca1', 'ogdh', 'lyrm1', 'mest', 'siglec9', 'il22ra1', 'slc27a6', 'tnfaip8l1', 'or2y1', 'slc25a18', 'mpeg1', 'tyw1b', 'dcaf12l1', 'hpd', 'eif2s2', 'map3k15', 'tagln3', 'mt1m', 'pmel', 'elp4', 'usp51', 'adamts17', 'ctu1', 'bbof1', 'or5i1', 'ces1', 'tbc1d13', 'rras', 'fbxw2', 'coch', 'rab4b', 'twist1', 'spaar', 'cldn19', 'tmem126a', 'armc7', 'rhebl1', 'prm1', 'slc34a2', 'cstl1', 'hyal3', 'hif1a', 'smurf1', 'scgb1d4', 'c10orf82', 'septin12', 'vash2', 'dclk3', 'gadd45g', 'adamts15', 'tmem121', 'abca3', 'ftcd', 'arhgef7', 'tmem130', 'sesn1', 'nos1ap', 'gltp', 'dhrsx', 'ogg1', 'mtmr12', 'znf621', 'fam136a', 'als2', 'ces5a', 'grin1', 'lim2', 'pdgfrl', 'nt5m', 'crkl', 'jakmip3', 'pm20d2', 'vnn1', 'tex14', 'higd2b', 'acsm6', 'rwdd3', 'dennd5a', 'taf1c', 'nccrp1', 'tp53rk', 'colq', 'nox3', 'fbxl12', 'atp6v0a2', 'smad2', 'fgf7', 'tsbp1', 'dpy19l4', 'aldh16a1', 'ptch1', 'dnaaf3', 'mchr1', 'ankrd13c', 'padi1', 'il18bp', 'plcd3', 'ncdn', 'micall2', 'cep170b', 'kif13b', 'krba1', 'dpt', 'hmx2', 'klhdc8a', 'usp2', 'znf598', 'map10', 'eefsec', 'xylt1', 'srarp', 'fam189b', 'celf4', 'ptprt', 'fdx2', 'fgfbp2', 'ube2d3', 'or56b1', 'tnni3', 'prkag2', 'scn8a', 'sgsm1', 'epo', 'pecam1', 'znf136', 'bag1', 'ybx3', 'cacnb1', 'vcam1', 'rnf151', 'nr5a2', 'capns2', 'junb', 'kiaa1671', 'nktr', 'rtraf', 'phex', 'cdc34', 'tmem14b', 'higd1a', 'adra2a', 'cfi', 'pdcd1lg2', 'cd40', 'ptprc', 'zmat4', 'or5ac2', 'plxdc2', 'noa1', 'kdf1', 'krt38', 'pam', 'tecpr2', 'ube2t', 'tff1', 'pigv', 'spdya', 'aldob', 'agbl2', 'tfap4', 'igsf8', 'taf5', 'dipk2b', 'endod1', 'rnf125', 'spcs3', 'lrrc10', 'otp', 'tmem37', 'kctd17', 'eef1a2', 'nmt1', 'ctla4', 'acsm1', 'ppa1', 'snx30', 'strn4', 'atp2b4', 'vamp7', 'spred2', 'sebox', 'znf17', 'ppp1r1c', 'xxylt1', 'ifi27l1', 'aldh2', 'matn3', 'clptm1l', 'qrich2', 'wfdc6', 'plpbp', 'mei1', 'nudcd2', 'rnf130', 'ecpas', 'myom1', 'cpvl', 'ccl21', 'gmcl2', 'hcn4', 'wwtr1', 'zbtb26', 'hmces', 'stpg2', 'serhl2', 'cdh9', 'ccl26', 'ncf4', 'tmem201', 'slurp2', 'smarcal1', 'dusp26', 'wscd2', 'mt-atp6', 'znf239', 'prrg4', 'qrfpr', 'ier5l', 'cog2', 'tcp10l2', 'atp6v1fnb', 'ndufs5', 'n4bp1', 'tex44', 'ppp4r1', 'ppp1r16b', 'magi2', 'tmem89', 'gcm2', 'sec14l6', 'slc25a48', 'ccdc170', 'rab33a', 'asah2', 'elfn1', 'dnajc6', 'map3k21', 'tbc1d9b', 'lyst', 'ccl2', 'prkcg', 'pdpk1', 'itih3', 'hoxa3', 'dhx38', 'rhot1', 'bmf', 'ssmem1', 'slc36a1', 'crct1', 'slc4a4', 'cisd3', 'creb3l4', 'c9orf131', 'r3hdml', 'noc2l', 'dspp', 'cnst', 'cfap99', 'xkr8', 'hacd2', 'ano10', 'echs1', 'grm1', 'snx9', 'myo10', 'spred1', 'orc2', 'eef2k', 'tyro3', 'kpna2', 'cmpk1', 'c9orf85', 'frrs1l', 'galnt18', 'acp2', 'snx8', 'otulin', 'clpsl2', 'hapln1', 'klhl2', 'pla2g15', 'apc', 'lrrfip1', 'safb2', 'spink8', 'kmt2e', 'sort1', 'tpm1', 'frmpd4', 'ccdc187', 'tspan5', 'lhfpl3', 'patl1', 'muc13', 'wbp11', 'crnkl1', 'col19a1', 'lama4', 'calb1', 'khdrbs1', 'dyrk3', 'tcf7l1', 'septin10', 'ankrd1', 'olfml2b', 'map2k5', 'prkaa2', 'lin54', 'ajap1', 'gpr173', 'jph3', 'ap1m2', 'zmym1', 'uqcrfs1', 'krtap6-1', 'lonrf3', 'xirp2', 'tmed7', 'bex2', 'znf383', 'gfi1', 'znf420', 'kctd4', 'arr3', 'pax9', 'thoc6', 'pgm2', 'slc2a8', 'znf653', 'sympk', 'atg5', 'cldn20', 'dusp8', 'or5c1', 'eppin', 'scamp2', 'spin3', 'prr15l', 'ccdc120', 'naprt', 'uvssa', 'armcx5', 'edn1', 'ssx7', 'scn4a', 'ctps1', 'nexn', 'chn1', 'gng14', 'rab24', 'tcof1', 'cdca2', 'pf4', 'znf384', 'fbxo45', 'pced1b', 'slc44a3', 'trib3', 'fam216a', 'mtmr14', 'dnajc12', 'vapb', 'ccdc186', 'kat7', 'cpeb2', 'flii', 'serpinb11', 'csgalnact1', 'slamf1', 'slc5a12', 'cfap73', 'hcar1', 'mfap5', 'stoml2', 'msrb1', 'sstr2', 'crisp1', 'c10orf62', 'sparc', 'trank1', 'psd2', 'pxdnl', 'gria3', 'dusp21', 'maea', 'dennd3', 'cdipt', 'spag16', 'rnf114', 'znf732', 'tm6sf1', 'or6q1', 'samd13', 'themis', 'spock3', 'sigmar1', 'zfp36', 'ky', 'gopc', 'pramef14', 'fam174a', 'gcat', 'mgat4a', 'ilrun', 'slc44a2', 'plppr4', 'slco4a1', 'oosp2', 'alg14', 'krtap2-3', 'xkr3', 'ptrhd1', 'slc15a4', 'rbm17', 'fcho1', 'duxa', 'fbxo3', 'itgb5', 'fjx1', 'sugct', 'lhx1', 'abat', 'dnajc13', 'ccdc180', 'hecw2', 'dyrk2', 'pld2', 'colec11', 'ccdc146', 'vps4b', 'svep1', 'chid1', 'patz1', 'fubp3', 'tnfaip1', 'itgad', 'spin2b', 'sumo4', 'rab6c', 'or6t1', 'deup1', 'ihh', 'ggt1', 'erlin2', 'c8orf34', 'ifitm10', 'nol6', 'znf41', 'calhm2', 'eloa', 'kcnj5', 'gucy1a1', 'nisch', 'znf286a', 'wdr5b', 'hivep2', 'dcn', 'crybg2', 'zbtb17', 'cntn6', 'ift80', 'trpm6', 'midn', 'klk1', 'tmem163', 'c1orf68', 'dock11', 'ak6', 'mtap', 'c1qtnf8', 'enpp3', 'dgcr8', 'utp14a', 'pcdhb9', 'kcnip2', 'ugdh', 'kcnmb4', 'ric8a', 'ccdc110', 'higd1b', 'efnb3', 'pld6', 'vps37d', 'bag4', 'olfml1', 'bpifb1', 'c2orf66', 'znf836', 'nfkbie', 'grb10', 'orm2', 'ubr5', 'tor1aip2', 'il24', 'gcgr', 'cmc1', 'synj2', 'fdps', 'draxin', 'slc10a7', 'esd', 'spout1', 'speg', 'usp48', 'znf776', 'terf1', 'cct6a', 'psmd5', 'pdss1', 'pgf', 'osm', 'habp2', 'ing5', 'il10rb', 'kdr', 'nos1', 'krtap2-4', 'coq8b', 'htra2', 'cytip', 'map3k20', 'havcr1', 'supt20h', 'dbi', 'cmbl', 'alkbh4', 'tank', 'cyp3a43', 'ebpl', 'dnase1l3', 'rnft1', 'prkdc', 'mbtd1', 'hprt1', 'rnf216', 'angel1', 'mlf2', 'gpr160', 'hpse2', 'mt1b', 'nfic', 'tbx3', 'slc17a9', 'tmem30b', 'osbpl9', 'zkscan5', 'taf6l', 'imp3', 'prkd2', 'dennd6b', 'zfp36l1', 'sp2', 'tshr', 's100a3', 'gck', 'tdrkh', 'or52e2', 'kcnn3', 'plekhm3', 'col15a1', 'ccr1', 'lamb1', 'oaz2', 'cend1', 'znf432', 'rbbp7', 'psmb9', 'slc26a7', 'kif12', 'add1', 'fmr1', 'fubp1', 'mgat5', 'wdr25', 'eri1', 'c11orf16', 'kif23', 'dnajc5g', 'cd82', 'degs1', 'sync', 'mdm4', 'myo15b', 'or5h15', 'znf775', 'hs6st3', 'palld', 'gskip', 'ccdc86', 'serf2', 'parp10', 'lpo', 'kctd6', 'lipf', 'pcdh11y', 'flt1', 'c5orf51', 'slc6a20', 'dtd2', 'lmo7', 'tvp23a', 'tmem138', 'atraid', 'chst13', 'slc2a12', 'acrv1', 'c16orf70', 'shoc2', 'ddx23', 'znf133', 'tuft1', 'strit1', 'setd6', 'kcnq2', 'caly', 'znf48', 'pms1', 'relt', 'tespa1', 'c1orf162', 'kcnj18', 'rgmb', 'slc22a14', 'rrm2b', 'pop1', 'krtap24-1', 'marveld1', 'fig4', 'cdk2ap1', 'fam9b', 'usp17l7', 'cyld', 'npap1', 'ppp3r2', 'cpne7', 'cd1e', 'ube2r2', 'camkk2', 'shf', 'etv1', 'mtfp1', 'chrm3', 'tmc3', 'cobll1', 'tas2r39', 'phf12', 'vgll1', 'fbxl2', 'nemp1', 'pde1b', 'catsperg', 'prb4', 'eri2', 'cdh8', 'kiss1', 'dennd2c', 'rab11b', 'c4orf54', 'tarbp2', 'sectm1', 'slc36a4', 'tspan7', 'lats2', 'lcn10', 'spink7', 'mast2', 'gdf10', 'grk2', 'cdk12', 'babam1', 'rsu1', 'pkd2l2', 'plcg2', 'ube4a', 'tex22', 'krtap27-1', 'wdr6', 'mcf2l', 'myh3', 'sox9', 'prmt8', 'defb108b', 'bbs5', 'slc2a10', 'tmem59', 'dcbld2', 'adcy9', 'slc22a11', 'ptcra', 'il20rb', 'uqcc2', 'cabcoco1', 'plin4', 'kazald1', 'kif5a', 'f11', 'cmklr1', 'hcn2', 'hs2st1', 'znf385a', 'znf837', 'rhbdd3', 'thoc5', 'prickle3', 'trpc5', 'cftr', 'spanxn3', 'rpap3', 'rbm11', 'mymx', 'dennd5b', 'anxa2', 'cers4', 'ccdc117', 'fam241a', 'cdk5r2', 'spn', 'alg12', 'mea1', 'slco4c1', 'tsr3', 'tmem126b', 'agpat5', 'nrl', 'slf1', 'stard4', 'art4', 'fmo5', 'uros', 'ppp2cb', 'plekhb2', 'lmbrd1', 'esrra', 'gpr89b', 'spink1', 'klhl38', 'btn3a1', 'nploc4', 'ksr1', 'enpp1', 'trib2', 'tmem215', 'pth', 'pmp22', 'ehbp1l1', 'mief2', 'adamts14', 'or2aj1', 'lrrc9', 'lrfn4', 'rfx7', 'mageb2', 'cd3g', 'pank3', 'serpinb7', 'tcfl5', 'idh3g', 'fam32a', 'rsrc1', 'or6b1', 'creb3l1', 'mpzl2', 'or2m5', 'samd11', 'tm7sf3', 'smim10l1', 'dusp18', 'klhdc8b', 'ppp2r2a', 'sgcb', 'csf2ra', 'nav1', 'dkk1', 'efhc2', 'dhrs13', 'gpr33', 'ect2l', 'als2cl', 'cdh18', 'snrnp40', 'tnfrsf6b', 'pnma6e', 'rapgef4', 'clip2', 'or8j1', 'foxf1', 'kctd20', 'nipsnap3a', 'dpys', 'arl5b', 'or2b2', 'capn13', 'tbc1d10a', 'slamf9', 'zfhx4', 'amz2', 'cdc20', 'asphd1', 'ccn5', 'pdk3', 'prickle2', 'atf4', 'eva1b', 'dnaja3', 'prodh2', 'tcf7', 'sycp1', 'defb136', 'brd2', 'rbbp4', 'or2ak2', 'rtp2', 'grm5', 'stard6', 'camk4', 'pdgfa', 'znf675', 'isl1', 'rab42', 'cep350', 'psmc1', 'fkbp10', 'lrrc75a', 'rxrg', 'pdk2', 'glyatl1', 'trio', 'znf414', 'rab11fip4', 'srd5a2', 'chaf1b', 'scarb1', 'mtmr2', 'clk2', 'nid2', 'cfdp1', 'pou3f2', 'faah', 'serpina12', 'piezo2', 'sgip1', 'emc10', 'plcl1', 'rnf149', 'tas1r3', 'lipj', 'fads3', 'rab9a', 'lnpep', 'iqce', 'bri3', 'alkbh8', 'foxh1', 'or10a4', 'hsbp1', 'fabp4', 'npy5r', 'rogdi', 'bach1', 'ppef2', 'f10', 'obp2b', 'tfap2a', 'ggct', 'cylc2', 'snapc1', 'ndufab1', 'or2l13', 'ndrg4', 'nlrp11', 'btbd3', 'eef1g', 'etfb', 'tmem263', 'ankrd53', 'or5d16', 'flrt1', 'scube2', 'f13b', 'mcoln2', 'gad2', 'gtpbp4', 'depdc5', 'pafah1b1', 'rab39a', 'dolk', 'znf362', 'znf585b', 'iba57', 'rnf148', 'irx3', 'pram1', 'vwa7', 'fam149a', 'rln1', 'paaf1', 'cdkl1', 'nop14', 'slc22a10', 'mei4', 'or13j1', 'utf1', 'c20orf27', 'slc35d3', 'lnx2', 'nucks1', 'cdhr3', 'or1n2', 'rab3il1', 'pex11g', 'rnaseh1', 'amer3', 'sh3tc1', 'sstr1', 'tafa3', 'rcor3', 'nufip1', 'znf471', 'igfbp5', 'fyb2', 'spata18', 'tek', 'sdc3', 'tuba3e', 'mpzl3', 'plce1', 'rnase3', 'c19orf12', 'ccdc169', 'samd3', 'brdt', 'mlh1', 'lmbr1l', 'il22', 'rffl', 'cpt1a', 'kiaa0895l', 'znf578', 'c21orf91', 'tmem114', 'drd5', 'agr2', 'tnni3k', 'stx3', 'dcaf15', 'mageb4', 'mtch2', 'smlr1', 'gtf2ird1', 'per1', 'ctdsp1', 'cybc1', 'tmem54', 'ubp1', 'nobox', 'wfdc10b', 'chmp6', 'c2orf74', 'ppp2r1a', 'pmp2', 'fut6', 'psmc6', 'fbxo28', 'caln1', 'tut4', 'c11orf45', 'mettl17', 'hyal2', 'cox17', 'rims4', 'wnt3', 'ctnnbl1', 'c6orf52', 'scn11a', 'psme3', 'fam160a1', 'lmo2', 'hsf1', 'hnrnpcl2', 'slc47a2', 'plscr5', 'rab29', 'pdcl2', 'cd151', 'gls2', 'sox10', 'hnrnpll', 'gapvd1', 'lama1', 'e2f1', 'atic', 'mamstr', 'alg13', 'slc7a7', 'aurkaip1', 'emid1', 'a3galt2', 'rp1l1', 'fgf12', 'tmem200b', 'sec31b', 'znf350', 'nubp1', 'slc1a2', 'dapk3', 'kctd9', 'aqp5', 'prss27', 'yjefn3', 'mt-co3', 'med14', 'rhobtb1', 'top2a', 'dtl', 'chpf2', 'gpatch11', 'ptchd4', 'c8orf37', 'wrn', 'zranb1', 's100pbp', 'pcbd2', 'zbtb6', 'akt1', 'lst1', 'sdhb', 'itga2b', 'sars2', 'eif4b', 'tent4b', 'mettl7a', 'eif2b4', 'dctn5', 'dcp2', 'lrtomt', 'cops7a', 'snx14', 'oser1', 'sox2', 'ap1b1', 'avpr2', 'b4galt7', 'mydgf', 'slc1a5', 'cpne6', 'npm2', 'pnliprp1', 'bhlhe22', 'bpifb6', 'dda1', 'eps8l2', 'snrnp200', 'usp20', 'c11orf42', 'mfsd2a', 'c22orf31', 'znf449', 'tbr1', 'utrn', 'pip4p1', 'micb', 'sinhcaf', 'tor3a', 'tmem176a', 'nek1', 'ccdc28b', 'psmc5', 'fam237a', 'gigyf1', 'txnip', 'tmem101', 'mpp5', 'xpot', 'sox6', 'rem1', 'ncaph2', 'otol1', 'ebf3', 'ugt1a8', 'pip5k1c', 'iqsec3', 'esyt1', 'c15orf48', 'rbm45', 'dnajc27', 'trappc13', 'znf723', 'ccdc14', 'eif3m', 'tes', 'dlg3', 'p3r3urf', 'exosc4', 'or52a1', 'nme7', 'kcnc1', 'nup205', 'amdhd1', 'wwc2', 'pygb', 'rce1', 'impdh2', 'xpnpep1', 'asb11', 'apbb1ip', 'dmac2l', 'lmx1a', 'st8sia6', 'magef1', 'apobec3c', 'iffo1', 'c12orf45', 'dgkz', 'casr', 'prl', 'pcgf6', 'serinc3', 'or8k5', 'gabra1', 'fam114a1', 'lrp5', 'mafb', 'znf248', 'zbed2', 'cstf2', 'abhd3', 'abhd12', 'rasgrf1', 'mta1', 'pcdhga12', 'ahcyl1', 'fam209b', 'znf184', 'cd4', 'kiaa0232', 'srsf4', 'znf764', 'page3', 'crhbp', 'agfg1', 'creb3l2', 's100a5', 'mtx1', 'muc4', 'or12d3', 'gmfb', 'hsd11b1', 'rpe', 'lifr', 'pkp3', 'ccdc89', 'spr', 'tysnd1', 'mt1x', 'ddt', 'unc93b1', 'cngb3', 'tal1', 'dpagt1', 'pxylp1', 'bscl2', 'epdr1', 'thap11', 'zc2hc1a', 'ulbp2', 'slc30a6', 'pter', 'arhgap20', 'ddx52', 'klhl14', 'herc2', 'ccdc7', 'eps8l1', 'pla2g2f', 'chic1', 'ift122', 'bard1', 'ptdss1', 'fbxo4', 'or52m1', 'tfg', 'csmd3', 'ube3a', 'serinc2', 'lrrc8b', 'ccnh', 'tnfaip8l3', 'serpinb5', 'pi3', 'yipf6', 'niban1', 'st6gal1', 'il23a', 'aipl1', 'sin3b', 'uqcrh', 'reg1b', 'lars2', 'or1n1', 'abhd13', 'znf557', 'odaph', 'kif26b', 'nlrx1', 'zp1', 'man1a2', 'nsmaf', 'ncapd2', 'tigd3', 'cep131', 'utp11', 'ptn', 'slc5a4', 'ssbp4', 'cep85', 'dhx29', 'thrsp', 'larp1b', 'wdr72', 'acap2', 'gata1', 'sfxn4', 'or2w1', 'fsd1', 'adamts2', 'rrm1', 'kcnk16', 'snapc2', 'vav1', 'znf628', 'znf720', 'cfhr2', 'xkr4', 'c16orf90', 'celf5', 'tcp10l', 'lrrk2', 'btnl8', 'nxph2', 'socs4', 'cacna1h', 'pdf', 'znf652', 'tnfrsf10b', 'znf20', 'znf568', 'pou3f4', 'lrrc1', 'hapln3', 'smim32', 'spatc1', 'pfkm', 'simc1', 'ptpro', 'dtx3', 'folr2', 'map3k7cl', 'snu13', 'ppig', 'bod1l1', 'tenm1', 'ormdl1', 'pdrg1', 'kctd7', 'slc6a1', 'b4galnt3', 'krtap20-2', 'lmnb1', 'corin', 'fgr', 'arfgap1', 'fam133a', 'c12orf71', 'tmem35a', 'or4k5', 'sh3rf3', 'ccl20', 'dhtkd1', 'tm9sf1', 'haus1', 'hsp90ab1', 'fgd1', 'slco6a1', 'pabpc4l', 'cep89', 'cfap221', 'or2a25', 'pus1', 'atg10', 'washc3', 'emc3', 'nbn', 'rbm25', 'or5m1', 'tspan19', 'fetub', 'slco1b3', 'rbis', 'arl4d', 'pltp', 'nlgn1', 'cct6b', 'dnajc8', 'chtf8', 'camsap2', 'phf11', 'siglecl1', 'znf878', 'sp5', 'pomp', 'shisa9', 'zbtb37', 'trim64b', 'zswim7', 'ube2c', 'nlrp2b', 'elf1', 'psmd10', 'tas2r50', 'arhgap24', 'smim5', 'bckdha', 'c4orf45', 'plpp2', 'mogat3', 'capza1', 'cnpy2', 'tram2', 'ccng1', 'trmt10b', 'tbc1d28', 'plbd2', 'tmem86a', 'lypd4', 'lpin3', 'arl13b', 'stx6', 'ankub1', 'rpa3', 'tmem67', 'rin3', 'rtca', 'arsi', 'tbrg1', 'kdm4a', 'il9', 'fbl', 'crebbp', 'trpa1', 'ltbp4', 'rab6b', 'hps3', 'psap', 'ndufaf4', 'bak1', 'ddx28', 'pcdh9', 'cfl1', 'oma1', 'erbb4', 'cyp26a1', 'hacd3', 'ifi44', 'calr', 'prr15', 'or14c36', 'fah', 'chchd7', 'tp63', 'zcchc12', 'nup85', 'mrgbp', 'tm7sf2', 'thap7', 'fam47c', 'gadd45b', 'xcr1', 'fam170a', 'hebp1', 'pik3ca', 'p3h3', 'zfyve16', 'pstpip2', 'nfkb1', 'ffar3', 'dpy30', 'zmat2', 'alpp', 'hpgd', 'srebf1', 'pus10', 'usp10', 'lce3b', 'or2ag1', 'dmkn', 'pkd1l3', 'nde1', 'obscn', 'spata19', 'klrc4', 'rasip1', 'mpped2', 'supt16h', 'cfap61', 'exoc3l1', 'rp2', 'ccdc83', 'spats1', 'lhx3', 'fbxo33', 'nelfa', 'tekt2', 'asnsd1', 'pls1', 'mast4', 'arhgef35', 'polr2i', 'irf3', 'ushbp1', 'chrnb1', 'epb41l4b', 'zbtb39', 'frs3', 'lrrn3', 'thnsl1', 'cadm4', 'itga3', 'dusp9', 'nfat5', 'gtf3a', 'krtap1-5', 'golga7b', 'unc93a', 'tmod2', 'clec12a', 'ccl28', 'cdkn2a', 'rfx4', 'nthl1', 'cyb5b', 'fcn3', 'apex1', 'camsap3', 'prxl2a', 'gtse1', 'sirt3', 'or5ak2', 'or6k3', 'stxbp6', 'yif1b', 'znf479', 'prss38', 'acsl3', 'fcho2', 'arfgef1', 'ostf1', 'egf', 'oosp1', 'tceal9', 'hoxa4', 'trim65', 's100a12', 'pitpnm2', 'chd2', 'spegnb', 'cacfd1', 'slc25a52', 'lmnb2', 'fxyd4', 'scaf1', 'fbxo41', 'plekha2', 'limd2', 'mgat4b', 'lrrc24', 'syt12', 'atg12', 'nrsn1', 'or4c46', 'cpt1b', 'srms', 'saxo2', 'lto1', 'nvl', 'cux1', 'spen', 'spdye5', 'piezo1', 'cbx4', 'dock6', 'vstm2b', 'rgn', 'zmynd15', 'fbxo24', 'dnal1', 'trat1', 'mfsd6', 'layn', 'irs4', 'fabp3', 'or5d18', 'tent5b', 'nsun7', 'calml5', 'c8b', 'aldh18a1', 'tmtc3', 'bmt2', 'tti2', 'rnase4', 'adrm1', 'dmrtb1', 'usp44', 'ankrd30a', 'gipc2', 'fryl', 'folr1', 'cep83', 'peak1', 'atg16l1', 'kansl1l', 'samd5', 'gltpd2', 'mast3', 'cenps', 'eif3l', 'batf3', 'b3gnt5', 'fbxo31', 'kcna7', 'stambp', 'gdnf', 'or52n5', 'zfyve26', 'golga8b', 'tpbg', 'lztr1', 'znf662', 'zc3h10', 'calm2', 'rcc1l', 'allc', 'eed', 'rnaseh2b', 'tex43', 'cfap70', 'gnpnat1', 'cfap45', 'c10orf53', 'bves', 'slu7', 'cplane2', 'pa2g4', 'c17orf99', 'sctr', 'cyp2a6', 'lsg1', 'setbp1', 'ptprb', 'r3hcc1l', 'eri3', 'dusp10', 'slc29a4', 'cpa5', 'rnase12', 'axin2', 'serpinb10', 'hnf1b', 's100a2', 'zfpm2', 'tefm', 'heatr5a', 'smim18', 'znf569', 'ppp2r3c', 'znf793', 'mmel1', 'sirt6', 'gsc', 'pgk2', 'kif1c', 'sec62', 'cryl1', 'gabrb3', 'ccpg1', 'tbc1d10b', 'ap2s1', 'kl', 'stx4', 'ifnl1', 'kcnd3', 'ampd2', 'insyn2b', 'rab1a', 'ccl15', 'erich6', 'lsm7', 'orai2', 'dgkh', 'cd300a', 'dhcr7', 'psmb11', 'znf182', 'ascc2', 'mobp', 'lrp4', 'akap12', 'pbx2', 'tollip', 'gal', 'erp27', 'myo15a', 'kiss1r', 'trmt12', 'c11orf68', 'eef1akmt3', 'utp18', 'ergic3', 'dis3l2', 'adamts20', 'atxn7l2', 'plxdc1', 'msmo1', 'hoxa7', 'olr1', 'col2a1', 'znf134', 'erc2', 'krtap13-4', 'proc', 'rimklb', 'samd1', 'soga3', 'rela', 'usp49', 'mdfic2', 'pigz', 'khnyn', 'glrx2', 'zbed5', 'itprid1', 'pigx', 'ascc1', 'gsto2', 'gpr12', 'tlnrd1', 'npy2r', 'scml2', 'prss21', 'pex13', 'zcchc18', 'abcd4', 'l3hypdh', 'coq4', 'pou3f3', 'irf2', 'lemd1', 'galc', 'ccni2', 'c2orf16', 'scgb2b2', 'efnb1', 'vav3', 'fahd2a', 'alg11', 'uhrf1', 'fam216b', 'tomm40', 'scamp3', 'gabrb1', 'cplx1', 'fabp9', 'pigq', 'cyp21a2', 'nt5c3a', 'hsd17b6', 'cep135', 'spns3', 'nsfl1c', 'rtl9', 'bmp2k', 'kcnc2', 'lect2', 'atp10d', 'rgs1', 'cenph', 'cct3', 'tcf23', 'vdac3', 'pex6', 'foxp2', 'pacrgl', 'sec14l2', 'egr4', 'camta2', 'prr12', 'ccnb1ip1', 'igll1', 'cnksr3', 'adamts7', 'mllt1', 'il27ra', 'ctss', 'dedd', 'ubn1', 'sp110', 'sergef', 'fmnl1', 'ifna2', 'fgfbp1', 'fam126b', 'dst', 'gigyf2', 'lcn9', 'adam29', 'cry1', 'itga11', 'arhgap29', 'prkd3', 'stam', 'foxp3', 'fdxr', 'arhgef38', 'lman1l', 'dzip3', 'or1q1', 'sap18', 'dnajc28', 'ednrb', 'cd109', 'atoh1', 'trim10', 'trim15', 'tsen34', 'gnb4', 'znf461', 'krt10', 'acad8', 'rccd1', 'copb2', 'exoc6b', 'lamp3', 'serpini1', 'wdr41', 'cav2', 'c4b', 'ralyl', 'gemin8', 'gphn', 'abcf2', 'psmg4', 'agfg2', 'psen2', 'neurog2', 'vhl', 'tial1', 'azin2', 'dnai2', 'itm2a', 's100a7l2', 'krtap10-7', 'shcbp1', 'bcl11a', 'bcat1', 'lilrb5', 'neurod4', 'spp1', 'tapbpl', 'hephl1', 'dcaf7', 'usp42', 'cbln1', 'ap1s1', 'emilin2', 'klc3', 'tceal7', 'zfand1', 'sptbn2', 'sftpd', 'sorbs2', 'lmod1', 'traf1', 'ice2', 'mpi', 'apobec3b', 'gng10', 'kiaa0930', 'hnrnph2', 'tac3', 'magea1', 'gpa33', 'phpt1', 'tmem145', 'calhm5', 'hoxc6', 'tfe3', 'snx13', 'mapk7', 'c9orf24', 'cluh', 'adgrv1', 'wdr7', 'urb1', 'tchh', 'slc16a13', 'kif14', 'brsk1', 'bnip2', 'polr3b', 'mogs', 'akt1s1', 'vma21', 'krt5', 'arrdc3', 'polg2', 'tnnt2', 'akap8l', 'atp23', 'tfb2m', 'rimbp2', 'ppdpf', 'zer1', 'dera', 'slc25a29', 'wrap53', 'lysmd3', 'kctd12', 'aplp1', 'gabrg3', 's1pr3', 'fam171a1', 'comtd1', 'slc6a12', 'sh3bgrl2', 'trmo', 'prap1', 'itgav', 'gpr176', 'nrf1', 'flad1', 'naa50', 'mblac2', 'dennd4c', 'clk1', 'krtap5-3', 'negr1', 'ypel2', 'mul1', 'twsg1', 'reck', 'ywhah', 'samd10', 'scgb1d1', 'gpbp1', 'znf275', 'lsm5', 'retreg3', 'traf5', 'nudt15', 'fkbp8', 'nicn1', 'rrh', 'tmem238l', 'mageb18', 'lpar2', 'znf200', 'ddx17', 'ripor2', 'spata46', 'lcn1', 'bahd1', 'mtfmt', 'snx21', 'smim22', 'map7', 'smpd2', 'sucnr1', 'iars2', 'cdkl2', 'ror2', 'actn4', 'amn', 'pcdhgb6', 'arid3a', 'ankrd65', 'cox5b', 'dnajc4', 'eef2', 'cldn22', 's100a8', 'drap1', 'defb125', 'azin1', 'ggh', 'sapcd2', 'camkk1', 'znf791', 'pard3b', 'ccr10', 'dsc3', 'fcrl5', 'shisa3', 'tmie', 'nfs1', 'star', 'fam71a', 'pcdhb12', 'gpbar1', 'npsr1', 'exoc4', 'vsx2', 'tigit', 'rab40b', 'gyg2', 'tmem140', 'tex45', 'scgn', 'or5k4', 'gdpd1', 'znf684', 'l1cam', 'magohb', 'myl6', 'ces4a', 'rbm46', 'spink4', 'lilra1', 'arl4a', 'raf1', 'cpsf7', 'znf770', 'ints8', 'scd', 'vsig8', 'ttll7', 'cdk15', 'mlx', 'rgs14', 'rbsn', 'bloc1s1', 'c1orf54', 'cebpe', 'hrh3', 'cyp2u1', 'itga6', 'tmem207', 'ppih', 'slamf6', 'cyp8b1', 'tceal3', 'gen1', 'afg3l2', 'cyth2', 'scpep1', 'il37', 'myo3a', 'mpp2', 'alg2', 'colgalt1', 'nuggc', 'tmx1', 'ppp2r5e', 'fmn1', 'chgb', 'syt5', 'nectin3', 'kif1b', 'dph5', 'ctnnd2', 'pepd', 'tcf21', 'cbll1', 'zcrb1', 'matn1', 'peli2', 'grm2', 'klrg2', 'cpsf6', 'hao2', 'ptprn', 'cdkal1', 'cd24', 'dusp15', 'ppargc1b', 'cemp1', 'cabin1', 'tnrc6b', 'rnf25', 'sh3pxd2a', 'shld3', 'gli2', 'eif4e', 'gosr1', 'abcg5', 'znf750', 'cst4', 'cdhr1', 'nagk', 'icam1', 'eva1c', 'lage3', 'or10j1', 'hipk3', 'syn3', 'sf3b4', 'sqle', 'cldn11', 'il26', 'drc7', 'brinp3', 'vtn', 'pcdhga9', 'tmem268', 'rad23a', 'tmsb10', 'psmd2', 'ptgdr', 'agbl5', 'mtpn', 'bcl10', 'nkx2-6', 'cxcl9', 'plekhf2', 'ywhaz', 'spire2', 'rab33b', 'hgf', 'fbxl15', 'or4e2', 'alkal1', 'csnk1e', 'gsta1', 'lmtk2', 'or11l1', 'msh3', 'gdf3', 'ccdc127', 'kmt2c', 'magec1', 'igf1', 'tpgs1', 'clhc1', 'agps', 'p2ry2', 'cyp27b1', 'samd15', 'efl1', 'scgb3a2', 'slamf8', 'sh3bp5l', 'rabif', 'msrb2', 'cfap206', 'tmem167b', 'c1orf53', 'aadacl2', 'ric1', 'pqbp1', 'wdtc1', 'timp4', 'tarm1', 'col6a2', 'pcgf5', 'yy2', 'tmem237', 'znf648', 'rhno1', 'ascl2', 'farp1', 'dynap', 'znf536', 'mmp20', 'dtx3l', 'adamts8', 'fgf19', 'frmd3', 'cldnd2', 'padi3', 'cfap126', 'cenpq', 'lipk', 'zdhhc23', 'ntrk3', 'il22ra2', 'slc35g3', 'shc2', 'lefty2', 'scamp5', 'mt-nd4', 'slc7a2', 'camk2g', 'azu1', 'fhod1', 'c12orf57', 'kiaa0040', 'itpk1', 'cstb', 'epha7', 'ldb1', 'peg10', 'hbegf', 'htr3a', 'fitm1', 'ormdl2', 'fbxo10', 'arpp19', 'vac14', 'cmtm7', 'lbr', 'ndufa5', 'lcn2', 'sema5b', 'mroh7', 'riok1', 'kdm5a', 'mt2a', 'pet100', 'iqcc', 'mab21l2', 'iqcd', 'tas2r40', 'cavin1', 'ssbp2', 'rbmxl2', 'eif3h', 'hilpda', 'muc22', 'gdf9', 'disp1', 'fcgbp', 'rbm22', 'crip1', 'epcam', 'ier5', 'trim63', 'gnaq', 'vdr', 'extl2', 'rprd1a', 'fcgr3a', 'spanxb1', 'atp2b3', 'nt5dc2', 'dlk1', 'tmem94', 'ifnl2', 'map3k7', 'hba2', 'frmd4b', 'hgs', 'znf717', 'slc2a9', 'ckmt2', 'znf316', 'htatip2', 'znf559', 'krt28', 'avpi1', 'pfdn1', 'abhd15', 'sestd1', 'vip', 'cstf3', 'cr1l', 'nucb1', 'emd', 'lancl2', 'kbtbd4', 'pde1a', 'mtr', 'nip7', 'crygb', 'dapp1', 'sar1b', 'cyba', 'kazn', 'stmn3', 'thsd7b', 'spry3', 'tmsb4y', 'bst2', 'polr3gl', 'klhl9', 'btnl2', 'aldh3a1', 'btbd10', 'pdpn', 'c20orf144', 'gnao1', 'glis1', 'cd300e', 'bdh2', 'dnajc5b', 'proser3', 'nup210l', 'dtx2', 'b3gnt6', 'oprk1', 'ankrd49', 'gabrr1', 'best1', 'immp2l', 'stim2', 'aoc2', 'susd5', 'naa10', 'epas1', 'mctp1', 'alg9', 'nprl3', 'map4', 'eif5a2', 'cd5', 'pwwp2b', 'vps45', 'htr1a', 'tlr10', 'prr23c', 'pclo', 'gtf2e2', 'ccdc62', 'map2k1', 'rap2b', 'bag6', 'lce2a', 'lrit3', 'fam83h', 'pmaip1', 'ppan', 'krtap6-3', 'jaml', 'nalcn', 'gcsaml', 'ypel5', 'mrgpre', 'tnfaip6', 'adnp', 'zic2', 'mbtps1', 'znf711', 'colec10', 'fh', 'hrh4', 'ccdc185', 'lrrk1', 'angpt4', 'eif2ak4', 'krtap5-8', 'oit3', 'mocos', 'pacsin3', 'alas1', 'fam135b', 'ahr', 'prdx3', 'slc6a15', 'ctrl', 'rcn2', 'phf24', 'kif21a', 'znf605', 'rtn2', 'pitrm1', 'adamts18', 'adamtsl1', 'znf213', 'rgs4', 'utp3', 'cdrt15', 'sclt1', 'rbm42', 'inmt', 'gnb1l', 'foxa3', 'cd2ap', 'slc16a4', 'rufy2', 'dnajc7', 'tlcd4', 'lypd2', 'slc39a12', 'slc22a5', 'lxn', 'plcl2', 'c19orf33', 'ptpru', 'rnf169', 'elovl1', 'trim56', 'fancc', 'or2ap1', 'avl9', 'rsbn1', 'ube2d2', 'entpd7', 'vps41', 'edc3', 'sall1', 'pde4a', 'tnfrsf9', 'rnf224', 'mmp26', 'anxa6', 'ccdc15', 'nceh1', 'jakmip2', 'enthd1', 'mtg1', 'col5a2', 'lrrc17', 'abtb1', 'arid4a', 'slc14a1', 'sh2d1b', 'atrx', 'kif15', 'bet1', 'znf501', 'sdhaf3', 'xpa', 'pxmp2', 'ddx5', 'ftsj3', 'nfatc2', 'fcrl6', 'pgrmc2', 'fam185a', 'hspa12b', 'pmvk', 'ssh1', 'ipo8', 'pbld', 'chac2', 'glmp', 'bank1', 'zcchc7', 'bbs1', 'shld2', 'smr3b', 'ankib1', 'dpp3', 'dact2', 'cd84', 'anxa1', 'tsen2', 'kcnk2', 'fer', 'fxr2', 'jup', 'rbfox3', 'eaf2', 'ghitm', 'ywhab', 'wfdc11', 'bora', 'c11orf94', 'l1td1', 'syp', 'gnrh1', 'chd7', 'trim45', 'cxcl16', 'otos', 'apol6', 'armc6', 'acot11', 'myo6', 'fam71b', 'sytl3', 'dydc1', 'fdft1', 'rab2b', 'nfxl1', 'eif4e1b', 'znf26', 'shisa2', 'dpysl5', 'znf608', 'rubcnl', 'ceacam21', 'dok5', 'pik3r6', 'asb3', 'akna', 'nefh', 'stk39', 'amer2', 'psg4', 'tmem63b', 'spg7', 'myh2', 'lgi2', 'agxt2', 'pgap2', 'rsl24d1', 'lcn6', 'fzd6', 'spire1', 'tmem156', 'erbin', 'rgs12', 'pmpcb', 'cgn', 'wbp1', 'phyhip', 'c9orf43', 'pacsin1', 'ncf2', 'kcnk3', 'mroh1', 'tex264', 'dlg5', 'maco1', 'lrrc42', 'plod2', 'guca1c', 'skida1', 'pik3c2b', 'prokr1', 'xcl2', 'sorcs2', 'c1orf189', 'stat5a', 'ppp1r12b', 'macc1', 'lysmd1', 'gps2', 'jsrp1', 'sigirr', 'krt8', 'kcnj11', 'or10h3', 'pcp4', 'clspn', 'prkar2b', 'cdk1', 'mapk9', 'c9orf135', 'anapc7', 'myt1', 'cdkl5', 'rassf9', 'ube3b', 'actl9', 'or2m2', 'bod1', 'ppp1r12c', 'tmem86b', 'gab1', 'snx29', 'slc25a36', 'sbds', 'acoxl', 'col6a6', 'ddx31', 'mns1', 'lgals3', 'lcp1', 'haghl', 'cst2', 'wfs1', 'atp2a3', 'lamtor5', 'pi4k2a', 'c18orf32', 'septin3', 'inpp4b', 'jkamp', 'bcor', 'wfdc13', 'sppl2a', 'rnase11', 'apol2', 'kiaa1549', 'or5au1', 'kdm2b', 'tgif2lx', 'cse1l', 'lpp', 'mettl26', 'erp29', 'oscp1', 'alk', 'klf7', 'dus2', 'vwc2', 'hcfc1', 'phykpl', 'rgs2', 'c1qtnf3', 'prxl2c', 'pip4p2', 'irak3', 'klhl11', 'alpk2', 'slc22a4', 'znf730', 'tmem259', 'tceal1', 'herc3', 'cttnbp2nl', 'or51c1p', 'ndufa11', 'plekhg6', 'znf547', 'inpp5d', 'nsun3', 'gpr1', 'reep4', 'spanxn2', 'barx1', 'lrpap1', 'ctf1', 'atp5mc2', 'mpp7', 'cabp5', 'ppfia3', 'xpnpep2', 'csnk1g1', 'cfhr5', 'rbm27', 'pcdhb15', 'dcaf8', 'tsks', 'ssr4', 'mturn', 'fbxl20', 'ddit4', 'cplane1', 'plxnb1', 'lrrn2', 'rnf111', 'gatb', 'pogk', 'snx22', 'cd300lb', 'ctxn1', 'cenpf', 'rrp12', 'ankrd13a', 'ephb6', 'antxr1', 'styk1', 'dntt', 'parp12', 'irf5', 'lce2c', 'arl11', 'slc17a3', 'znf665', 'znf227', 'or1j1', 'psg6', 'cul4b', 'abracl', 'samd12', 'btrc', 'fam83b', 'foxn3', 'oip5', 'fzd2', 'washc5', 'ugt2b17', 'rfx6', 'hkdc1', 'cerkl', 'nt5dc3', 'efnb2', 'abl1', 'caprin2', 'c3orf52', 'tmem107', 'mtx2', 'pcmtd2', 'gpihbp1', 'lhcgr', 'ccne1', 'foxn2', 'ppp1r10', 'slc35e4', 'crisp3', 'gnai2', 'mica', 'efcab3', 'necab3', 'pappa2', 'bbs9', 'pkia', 'parpbp', 'derl2', 'dcaf4l2', 'mocs1', 'krt35', 'ldhal6b', 'nup93', 'lrrc69', 'wwox', 'ifitm2', 'lsm3', 'ell', 'fbh1', 'krtap19-1', 'apold1', 'hdc', 'egln1', 'tcta', 'ccdc152', 'plekhg2', 'cfap410', 'muc5b', 'swt1', 'nol3', 'fam131a', 'ndst4', 'znf678', 'muc1', 'ppp1r14b', 'myo1a', 'znf75a', 'aldh7a1', 'eif4g2', 'hps5', 'gng5', 'cdpf1', 'kcna4', 'pou4f1', 'rmdn3', 'cebpa', 'cxxc5', 'pof1b', 'thap6', 'acsl6', 'klk12', 'il18', 'socs5', 'ppp1r36', 'ccdc8', 'c7orf33', 'map2k6', 'pou1f1', 'pc', 'crisp2', 'nampt', 'ttll2', 'tyrp1', 'nek9', 'pla2g4c', 'nrxn2', 'acvr1c', 'thumpd3', 'hspb8', 'snrnp35', 'col4a1', 'alkbh7', 'rc3h2', 'kctd18', 'nkx2-1', 'mphosph10', 'megf11', 'hvcn1', 'vsig10l2', 'snx3', 's100a11', 'nxpe3', 'tmem236', 'gucy1a2', 'nod1', 'lemd3', 'eif1', 'celsr1', 'zzef1', 'znf586', 'deaf1', 'b3galt5', 'gdf5', 'tle3', 'lyve1', 'ankar', 'gpm6a', 'tpd52', 'atad2', 'acox3', 'ppp3cc', 'tcf7l2', 'chka', 'unc79', 'prrc2c', 'emilin1', 'tnks', 'stac', 'usp33', 'manbal', 'tp53bp2', 'mvb12b', 'med13l', 'hipk2', 'nr1d2', 'nt5e', 'eny2', 'elf5', 'cxcl2', 'man1b1', 'ms4a14', 'ndufaf2', 'elavl3', 'mlip', 'eif4ebp1', 'yif1a', 'sh3bgrl3', 'vn1r4', 'gabrd', 'fam186a', 'edn3', 'slc7a11', 'rptn', 'asprv1', 'exoc7', 'ptgds', 'tm2d3', 'mapk12', 'c12orf73', 'epb41l4a', 'col12a1', 'ddhd2', 'rarres1', 'alg1', 'tspy1', 'or4a47', 'mycn', 'cwf19l2', 'rnf41', 'slc50a1', 'st3gal4', 'ttll1', 'dync1li2', 'sgpp1', 'heatr1', 'adora1', 'lbx2', 'tns1', 'znf709', 'or5p2', 'rnf44', 'ppie', 'prss1', 'crtc1', 'ifna5', 'edem3', 'rhex', 'syt7', 'pde6h', 'cald1', 'klhl5', 'sec63', 'or51e2', 'tbcel', 'mtmr10', 'gtf3c3', 'nudt3', 'nbpf1', 'phf14', 'pla2g4f', 'ccm2', 'ctsg', 'or8d1', 'ptpn22', 'lrrc14b', 'klhl7', 'ism1', 'rfx1', 'lbhd1', 'psmd7', 'ppic', 'pcdhb10', 'inf2', 'or2z1', 'mfsd4a', 'ss18l2', 'nodal', 'krt2', 'ap5z1', 'ciao2a', 'cp', 'c9orf116', 'samm50', 'capn2', 'hexa', 'atp2c2', 'or1l3', 'srp68', 'bricd5', 'wipi2', 'ppil3', 'clec14a', 'mt-nd6', 'lgals2', 'c20orf141', 'atp6ap2', 'rhod', 'usp15', 'gprc6a', 'cyc1', 'prr18', 'tmprss13', 'slc35a1', 'ube2j2', 'mis18a', 'ubxn2b', 'il17c', 'nr4a2', 'naif1', 'mapkap1', 'ackr4', 'bloc1s6', 'grhpr', 'b3galt1', 'exosc5', 'gtsf1', 'mip', 'fezf2', 'rrnad1', 'kidins220', 'tmem70', 'ccdc13', 'slc35g1', 'lamc1', 'bag3', 'gk5', 'birc6', 'slco1b1', 'pydc2', 'taf1', 'tmem61', 'crb1', 'sgsh', 'hmgb3', 'zmat3', 'meaf6', 'psme1', 'entpd2', 'zfyve9', 'krt23', 'tmem35b', 'adgrb1', 'gnl3l', 'dgkg', 'spock1', 'ica1l', 'smyd1', 'stk38', 'ly6h', 'ppp1r3c', 'tuba1a', 'sgsm2', 'jund', 'ceacam19', 'ppp2r3b', 'nudt14', 'farsa', 'cox6a2', 'dld', 'tceal8', 'cpne3', 'efcab7', 'stard7', 'lyar', 'ptpn7', 'tspan11', 'aldh6a1', 'mus81', 'or13c9', 'spns1', 'c1orf198', 'arhgap23', 'trdmt1', 'tmem62', 'magea10', 'dbx2', 'myoz1', 'aqp9', 'nbr1', 'gpr32', 'fam83a', 'myef2', 'or10k2', 'dll4', 'dnajb4', 'arrb1', 'lrig1', 'tomm70', 'kcnrg', 'chst4', 'tigd5', 'antkmt', 'gfap', 'gapt', 'nol11', 'sth', 'mid1ip1', 'eras', 'ptges', 'tsfm', 'septin8', 'tnc', 'tnfaip8l2', 'il10ra', 'sirpa', 'rbm39', 'auts2', 'slc38a6', 'csn3', 'ece2', 'otud7a', 'adcyap1r1', 'ccdc92', 'slc27a3', 'upk2', 'mfsd12', 'cc2d1a', 'pmm2', 'trem2', 'gjc3', 'raet1g', 'fam241b', 'klhdc4', 'tbkbp1', 'scube1', 'tmem203', 'ar', 'vit', 'cfap97', 'rras2', 'krtap10-2', 'sftpc', 'pax6', 'ampd1', 'trps1', 'fut7', 'bmp1', 'ppp6r3', 'pxmp4', 'nptn', 'terf2ip', 'mid1', 'lhx2', 'mageb16', 'znf658', 'hspb1', 'dhx8', 'ehbp1', 'cacna2d4', 'pdhx', 'arhgef33', 'ndufa8', 'marveld2', 'mbd5', 'astl', 'or10a2', 'pcdhb16', 'il17b', 'adam32', 'sec14l3', 'znf391', 'cblc', 'itprid2', 'nxpe1', 'cnot10', 'bcdin3d', 'pcolce2', 'reps1', 'mylk2', 'aldh8a1', 'usf1', 'cercam', 'gsx1', 'fcrl1', 'bsn', 'chrd', 'pdilt', 'mmp28', 'or51a2', 'abcd1', 'lipt2', 'fan1', 'tmem272', 'itgb4', 'ppp1r37', 'becn2', 'snx16', 'muc3a', 'med15', 'slc6a17', 'slc39a10', 'ndufa3', 'brca2', 'ctps2', 'ccdc65', 'pcdha3', 'or7d2', 'aup1', 'tmem238', 'arhgef5', 'sprr2d', 'zbtb46', 'rev1', 'esrrg', 'tacc1', 'ccdc102b', 'mbp', 'cyp2s1', 'sgta', 'lsm12', 'arhgdig', 'tldc2', 'nadk2', 'gca', 'pias4', 'znf347', 'aatk', 'amph', 'hoxb3', 'pwwp3a', 'adra2c', 'zbtb21', 'josd1', 'aqp1', 'trpc5os', 'syap1', 'e2f2', 'sap25', 'cox6b2', 'slc25a37', 'sin3a', 'pigg', 'dnttip1', 'gfod1', 'zbtb48', 'lrrc31', 'dlk2', 'msantd2', 'slc22a13', 'zfyve27', 'bpnt1', 'fam240b', 'syvn1', 'setd7', 'tcerg1', 'chia', 'pcdhb3', 'tpst1', 'diaph2', 'casp2', 'tbx19', 'smad5', 'cdkn2aipnl', 'rpusd2', 'rabl6', 'cby1', 'strbp', 'zdhhc13', 'lrrc26', 'tatdn2', 'ace2', 'cuzd1', 'bglap', 'rsf1', 'samsn1', 'lrp11', 'stat6', 'rbm7', 'pigw', 'or14k1', 'serpina4', 'kcnq4', 'calu', 'znf366', 'tmigd1', 's1pr1', 'cd163', 'fbln2', 'or6c70', 'hoxd1', 'tcaim', 'ccdc167', 'fignl2', 'thap8', 'cxorf65', 'epha3', 'or2b11', 'lcn8', 'sim2', 'tsnax', 'clic4', 'xpo1', 'tmem253', 'ppia', 'tcerg1l', 'smarcad1', 'prpf19', 'tra2b', 'zc2hc1b', 'abi3bp', 'acp1', 'eif2ak3', 'lrp6', 'elf3', 'ctsc', 'dhdds', 'insl4', 'elmo3', 'myl5', 'masp2', 'hdgf', 'ibsp', 'wdr54', 'cxcl12', 'znf622', 'tmed2', 'pafah2', 'znf782', 'slc4a8', 'egflam', 'prox2', 'krtap22-1', 'c11orf87', 'rgs20', 'foxk1', 'phkg1', 'stim1', 'ppp2r5b', 'slc37a4', 'msn', 'maml1', 'tapbp', 'commd6', 'rnls', 'nf1', 'agbl3', 'has1', 'clstn2', 'espl1', 'sema3d', 'calhm6', 'melk', 'rdh8', 'stoml3', 'ttc23l', 'fam78a', 'kyat1', 'mfn2', 'or10h1', 'ptprz1', 'faslg', 'hbd', 'actn3', 'hes1', 'carm1', 'sp140l', 'usp17l10', 'npbwr2', 'tmem9', 'rasgef1b', 'map9', 'virma', 'pkhd1', 'smarce1', 'oprpn', 'pcdha1', 'trim34', 'gtf2f1', 'rgcc', 'gas8', 'prex1', 'csrnp2', 'arhgap15', 'otoa', 'cfap97d2', 'fam71e1', 'arap2', 'raet1e', 'arfgap3', 'card18', 'hmga1', 'cryzl1', 'dbn1', 'dennd2a', 'plaat2', 'vim', 'akap1', 'sfxn2', 'sult1c3', 'astn1', 'lypd6', 'klhl1', 'zfr2', 'ints7', 'taar9', 'gfpt1', 'ndufb6', 'galnt11', 'ccny', 'sema6b', 'grid2', 'ppp1r7', 'rassf7', 'spart', 'sod1', 'gpr83', 'ern2', 'ccdc172', 'nmi', 'acbd6', 'dio3', 'igfbp7', 'nelfb', 'scn2b', 'tmem176b', 'tmem167a', 'rab21', 'gage10', 'pramef11', 'adra2b', 'znf22', 'rdh5', 'mppe1', 'znf880', 'adgrg7', 'icmt', 'casp10', 'kif2b', 'pola1', 'lpcat3', 'nkain2', 'gdf11', 'fcf1', 'lsamp', 'znf3', 'nrbp1', 'crybb2', 'znf852', 'timm8a', 'sntb1', 'prr33', 'rgs9bp', 'fxyd5', 'slc39a13', 'parp8', 'sugt1', 'dapk2', 'reep1', 'slc9a5', 'nek8', 'erich6b', 'pde5a', 'dao', 'tomm34', 'tln1', 'nemp2', 'znf511', 'slc43a1', 'sgk2', 'gnpda2', 'tmprss11d', 'efhb', 'st6galnac6', 'blm', 'igfbp4', 'lims2', 'tatdn1', 'aktip', 'insl5', 'il6', 'gemin2', 'dusp2', 'liph', 'irak1', 'mark2', 'pxn', 'hsph1', 'aspdh', 'dtnb', 'ntsr1', 'tbc1d8', 'eif2b1', 'znf268', 'kif13a', 'bcap31', 'kcnv2', 'dcaf6', 'fam47e', 'c5orf52', 'vcpkmt', 'brd9', 'rock1', 'or5b3', 'phc2', 'prss51', 'slc9a1', 'crispld1', 'adap2', 'egfl8', 'ceacam7', 'ankfn1', 'erap1', 'plin2', 'pou4f3', 'cacna1f', 'ptpn11', 'nlrp7', 'sertm2', 'eif1ax', 'dap', 'fbxl5', 'glp2r', 'mucl1', 'znf197', 'capg', 'fam161b', 'tsc22d1', 'szrd1', 'slc45a1', 'pole3', 'fam155a', 'max', 'kdm4f', 'aig1', 'btbd8', 'cilp2', 'stimate', 'tspoap1', 'ank1', 'hepacam2', 'ercc6l', 'mapk8', 'magoh', 'shank2', 'dync2h1', 'slc10a1', 'c5orf47', 'gxylt2', 'cep112', 'galr1', 'gdf2', 'rpgr', 'serpinh1', 'ssr2', 'rxylt1', 'arl3', 'kcnk13', 'rad17', 'armc1', 'frem1', 'sertad4', 'c18orf54', 'lin52', 'kiaa0895', 'atp6v0e2', 'ccl27', 'camk2n1', 'zcchc17', 'znf10', 'catsperd', 'gjb1', 'ppfia2', 'wdr89', 'dph3', 'krtap4-16', 'isyna1', 'slc16a9', 'b3galt6', 'rabggta', 'alox5', 'c2orf42', 'clec4d', 'dcaf4l1', 'shcbp1l', 'trappc6a', 'smim41', 'ocrl', 'sprr2f', 'scin', 'kcne5', 'calb2', 'zdhhc12', 'ms4a15', 'runx1', 'znf843', 'clic6', 'opn5', 'sec24c', 'svip', 'celf1', 'etnk1', 'hes6', 'hsf2', 'snrpa1', 'supt5h', 'arhgef1', 'panx2', 'krtap5-6', 'myl7', 'scgb2a2', 'gtf2a2', 'serpina11', 'foxd4l5', 'galr2', 'znf530', 'lpl', 'ccni', 'cd69', 'ccnd1', 'lhx9', 'tenm4', 'kat8', 'nat9', 'lrg1', 'idh1', 'anxa10', 'cyp3a5', 'npc1l1', 'tekt1', 'trim9', 'batf2', 'cyp4a11', 'galns', 'rnf144a', 'ubr3', 'or4a16', 'klrc1', 'slc35e3', 'pld3', 'arhgap4', 'sirt1', 'lbx1', 'nms', 'tmco4', 'ddost', 'dync1i1', 'grin3b', 'camk1', 'rbbp9', 'klf8', 'fam240c', 'adora2b', 'fbln7', 'lhx5', 'impact', 'lrr1', 'nqo2', 'hdgfl3', 'zmynd10', 'tmem81', 'cabp7', 'serpina3', 'pgm2l1', 'mtfr1l', 'ddhd1', 'lig3', 'ezh1', 'zbtb11', 'nfatc3', 'pcdha8', 'slc19a2', 'cfap47', 'dnm3', 'fzd7', 'scn7a', 'gnb1', 'adgrd2', 'il32', 'sh3bp1', 'glyctk', 'ttc6', 'mylpf', 'cdt1', 'daam2', 'ajm1', 'fanci', 'or10ad1', 'pcdhb13', 'nrcam', 'lrch3', 'klhl3', 'nans', 'cisd1', 'mcemp1', 'chrnb2', 'spata6l', 'arhgef2', 'rnd1', 'hax1', 'zfp57', 'kctd11', 'mgam', 'usp30', 'klf13', 'cdk18', 'znf765', 'rag1', 'avil', 'btn3a3', 'nsg1', 'tex53', 'ceacam6', 'ccdc77', 'kcnk4', 'lrriq3', 'tmem213', 'lgals9c', 'or5t3', 'ptrh1', 'chst1', 'dnmt3l', 'zscan30', 'iqca1', 'mcm6', 'znf546', 'lrch2', 'stx2', 'blvra', 'cdkn2d', 'shisa5', 'ythdc2', 'bpi', 'ate1', 'psmb4', 'itfg2', 'fam3a', 'pdk1', 'ptk6', 'pifo', 'fbxo8', 'ccser2', 'map3k10', 'dxo', 'tmed9', 'mapk11', 'pex12', 'sema3b', 'c1orf216', 'ccdc181', 'dusp22', 'rbfa', 'fut4', 'fam187b', 'znf670', 'pcdhgb7', 'cpa6', 'shh', 'btbd6', 'd2hgdh', 'ift22', 'cep41', 'slc39a11', 'sesn3', 'cks1b', 'rarb', 'slc17a7', 'nabp1', 'rac2', 'snap23', 'anpep', 'or5k1', 'ccs', 'commd9', 'cct8l2', 'stk17b', 'pla2g6', 'ephx4', 'hexim1', 'cspp1', 'c2cd2', 'atp5f1e', 'tmem30a', 'zc3h4', 'rala', 'flcn', 'nr4a3', 'fam167a', 'or1k1', 'samd4a', 'kcng4', 'adgrg4', 'rexo2', 'mixl1', 'relb', 'or5t1', 'arntl2', 'gjb4', 'abca10', 'zscan12', 'fam204a', 'fam199x', 'tpra1', 'commd3', 'asz1', 'tomm40l', 'lmtk3', 'agr3', 'pla2g3', 'ccdc78', 'ripk1', 'grik4', 'ngdn', 'metrn', 'plpp6', 'csag1', 'mgme1', 'zbtb7b', 'smc6', 'sdr42e1', 'ssu72p8', 'anks6', 'vdac1', 'cd48', 'prph2', 'hoxd10', 'atp5me', 'pramef13', 'trim4', 'sec61a2', 'lman1', 'bdnf', 'znf438', 'pianp', 'nlgn4y', 'clk3', 's100a10', 'parp1', 'krtap9-6', 'tnnc1', 'col4a6', 'nnmt', 'dcp1a', 'smyd3', 'anxa2r', 'onecut2', 'krt27', 'mbd3l1', 'pcif1', 'araf', 'fam83g', 'mlana', 'cd8b2', 'tex49', 'tekt5', 'sema4f', 'mfsd10', 'fam222a', 'c12orf54', 'map3k6', 'rpgrip1l', 'gyg1', 'ccdc112', 'slc49a4', 'wdr46', 'sec23ip', 'cdh16', 'pipox', 'ecsit', 'selenov', 'ascc3', 'blacat1', 'znf219', 'taf1d', 'dffa', 'cadm3', 'cd200r1l', 'cdhr2', 'rars2', 'ugt1a9', 'chrac1', 'mkrn3', 'ercc4', 'znf287', 'rfxap', 'mrgprg', 'krt26', 'clip3', 'bbs7', 'hoxa9', 'rax2', 'b3gnt9', 'alkbh1', 'cables2', 'taf13', 'camk2b', 'klf12', 'tbx4', 'ccdc116', 'vstm5', 'kif17', 'ccdc195', 'wdr31', 'rhou', 'ndufb1', 'trim24', 'shpk', 'ahctf1', 'fam8a1', 'emc6', 'adgra2', 'ppy', 'atp6v1g3', 'cox7a2l', 'rnase1', 'castor2', 'rhog', 'cryba4', 'cdrt15l2', 'rpf2', 'prr5', 'bsx', 'zdhhc16', 'ttc19', 'cenpe', 'unc5d', 'slc39a14', 'large2', 'atp13a2', 'lamb4', 'prr35', 'cd177', 'chrna3', 'rab5c', 'hoxd12', 'tmem200c', 'smim29', 'znf79', 'lipa', 'slc2a6', 'adgrg3', 'c9orf78', 'znf440', 'ikbkg', 'btbd7', 'lgalsl', 'pllp', 'znf32', 'idnk', 'gripap1', 'jak2', 'lacc1', 'acad10', 'anln', 'bend7', 'lrch1', 'tdo2', 'cth', 'mmut', 'hsdl1', 'nkap', 'prac1', 'ncoa6', 'glb1l', 'col1a2', 'flvcr1', 'krtap12-4', 'spa17', 'nab2', 'hmgcs1', 'kdm4c', 'lmbrd2', 'nlgn2', 'synpr', 'c12orf40', 'mia3', 'agpat4', 'fzd8', 'cib3', 'psme4', 'slc25a1', 'mmp25', 'acss3', 'entpd6', 'cdkl3', 'tspan8', 'derl1', 'znf773', 'sptlc2', 'ugt1a10', 'pih1d2', 'magea11', 'trabd2b', 'crybg3', 'rnf20', 'fam149b1', 'c16orf89', 'ube2k', 'il17rel', 'gamt', 'synrg', 'topbp1', 'c14orf39', 'nr0b1', 'asic4', 'abhd10', 'rab44', 'slc6a11', 'lgals9', 'gpr171', 'pggt1b', 'xpo5', 'os9', 'actr2', 'pex14', 'hhla1', 'ddx39b', 'romo1', 'grik2', 'pick1', 'cd99l2', 'prkn', 'fkbp11', 'hipk4', 'ebp', 'guf1', 'nin', 'ikzf4', 'cd58', 'slc30a5', 'npr3', 'c19orf38', 'atp10a', 'znf454', 'ubl7', 'clip1', 'c15orf39', 'fam71f1', 'ccdc51', 'smim30', 'lrriq4', 'rprd2', 'dhx9', 'efna5', 'uqcrc1', 'ahsp', 'sat1', 'kbtbd12', 'ssh3', 'acsl4', 'ndufa1', 'or8b4', 'cntnap1', 'apba2', 'hadha', 'inhbb', 'orc4', 'zic4', 'trim50', 'tmem45b', 'stk24', 'cib1', 'pctp', 'best4', 'snap25', 'tceal6', 'kcns1', 'rapgef2', 'kcng3', 'iglon5', 'tmem141', 'fam234b', 'atxn7l3', 'lap3', 'fzd9', 'pla2g12b', 'bche', 'lamtor4', 'znhit2', 'sf3b6', 'nrde2', 'trmt5', 'lancl1', 'eno2', 'nlrp10', 'nme1', 'pcdha10', 'rnf168', 'lingo3', 'krtap26-1', 'cxcr4', 'helb', 'znf716', 'sox5', 'gfra3', 'or4f4', 'gapdhs', 'igfl4', 'tmprss11e', 'utp4', 'sbno1', 'spast', 'rdm1', 'c14orf28', 'klf15', 'cad', 'lzic', 'mmachc', 'hnrnpk', 'rbm43', 'atp4a', 'cwc22', 'snrpn', 'chd8', 'ppp4r2', 'c10orf105', 'cygb', 'erlec1', 'hadh', 'prh2', 'chrdl1', 'meis1', 'ifrd1', 'rtf1', 'cdk4', 'tas2r1', 'yju2', 'vsig2', 'pak3', 'znf705a', 'rnf139', 'rbl1', 'ncr2', 'pdpr', 'znf44', 'tpr', 'kcnq1', 'clec4e', 'syne3', 'pnrc1', 'ppp1r42', 'b3gat3', 'anks1b', 'srd5a1', 'lgmn', 'c16orf95', 'nrg2', 'serpinb1', 'ccl4l2', 'ints10', 'klrk1', 'cxorf66', 'blk', 'acvr1', 'syt17', 'traip', 'sh3bgr', 'ephb4', 'myoc', 'nlrp3', 'noc4l', 'pik3ap1', 'ervfrd-1', 'rcc1', 'usp40', 'cox4i1', 'htt', 'mnd1', 'dusp19', 'c17orf49', 'relch', 'rasgrf2', 'mre11', 'ipo13', 'ckm', 'npm3', 'trpv5', 'scly', 'ptprf', 'tcim', 'prr23a', 'rnf24', 'krtap21-2', 'nrarp', 'rsl1d1', 'galm', 'il12rb2', 'ppm1n', 'meig1', 'enpp5', 'c14orf93', 'dmxl1', 'phkb', 'dnajc1', 'gnai3', 'wls', 'hmgb2', 'pcyox1', 'aldh1a2', 'wfikkn1', 'stxbp4', 'ube2i', 'eda', 'fkbp15', 'xrn1', 'mettl21c', 'tprg1l', 'mpp6', 'tmprss3', 'isx', 'tprx1', 'fgf22', 'clip4', 'hhipl1', 'atp1b1', 'dedd2', 'nkrf', 'spef2', 'nfib', 'gc', 'tex2', 'or4b1', 'ugp2', 'bik', 'lpar1', 'baz2a', 'taf11l12', 'gdpd5', 'grip1', 'krt13', 'ovol3', 'cyp1a1', 'spo11', 'dok2', 'tmem273', 'nfkbil1', 'plbd1', 'chst11', 'pdzrn4', 'cops8', 'or2f2', 'c2cd6', 'fbxw12', 'rtl1', 'klhl41', 'nkd2', 'myog', 'rabgap1l', 'rpe65', 'or2t1', 'gpx6', 'cabp2', 'dnajb11', 'sec22c', 'rap2c', 'paip2', 'card10', 'mterf2', 'klhl15', 'eya1', 'pla2r1', 'sntg1', 'tomm22', 'ttc5', 'ahi1', 'casq1', 'sohlh2', 'pde8a', 'ddi2', 'armc9', 'tbc1d31', 'c1qbp', 'abhd14a', 'fhl3', 'plekha6', 'tmem254', 'gnptg', 'fam20b', 'rnf212', 'cpq', 'cyp17a1', 'znf329', 'ccnd2', 'ppip5k1', 'slc26a1', 'rbak', 'ptgs1', 'hoxb5', 'tmem218', 'mzt1', 'dmbt1', 'katnb1', 'rsph3', 'cuta', 'c6orf58', 'slc52a3', 'scp2d1', 'nostrin', 'smarca4', 'svop', 'ganc', 'iqch', 'fam71d', 's1pr4', 'cfap43', 'mfsd14a', 'ap4s1', 'txnrd3', 'asb15', 'stk10', 'ivl', 'optc', 'hps6', 'poldip3', 'kpna1', 'gna12', 'btn3a2', 'lrrc32', 'otud7b', 'tnf', 'tmem265', 'odf3l2', 'eya2', 'gpr61', 'atp6v1b1', 'slc35f1', 'or6k6', 'bcat2', 'tcf4', 'prpf31', 'rchy1', 'or13c8', 'ttc1', 'rnf181', 'mark3', 'pcyt2', 'grpr', 'krt76', 'znf649', 'fgf13', 'alkal2', 'sord', 'dpp7', 'fam102b', 'baiap2l1', 'dlg4', 'pitpnm1', 'rgpd3', 'npat', 'acox1', 'lrrc38', 'tsr1', 'tacr2', 'aqp12a', 'nmnat2', 'efcab14', 'trim37', 'arpp21', 'ap4b1', 'or5l2', 'dipk1a', 'ccr7', 'znf655', 'prph', 'slc25a21', 'arl14epl', 'nek11', 'smim14', 'dgcr2', 'foxj2', 'actr5', 'meis2', 'fgf20', 'kcnk15', 'dach1', 'enox1', 'c3orf62', 'fam229b', 'cdx2', 'mdm1', 'sez6l', 'trit1', 'syce3', 'grtp1', 'mal', 'dok3', 'naa80', 'celsr2', 'dipk1b', 'rad54b', 'cdkn1c', 'marveld3', 'hdgfl1', 'pnpla4', 'fam163a', 'msh2', 'med6', 'fut1', 'wasf1', 'slc46a1', 'aurkb', 'parp14', 'cd1d', 'camsap1', 'klhdc1', 'lif', 'top3b', 'tf', 'kctd14', 'chmp1a', 'ubald2', 'ifi30', 'arsh', 'cdc14c', 'thap5', 'serinc1', 'ptbp2', 'olig1', 'spata5l1', 'ints6', 'fbxw8', 'paxx', 'mrc2', 'klrf1', 'mt1hl1', 'btd', 'paqr4', 'nwd1', 'c1orf122', 'sec14l4', 'krtap4-3', 'cbarp', 'tfap2c', 'rpap2', 'syt16', 'pdcd6', 'thoc2', 'rlbp1', 'c1orf158', 'duoxa1', 'aldh9a1', 'or10h5', 'hfm1', 'rassf4', 'grk7', 'sec11c', 'fut5', 'il2rg', 'hp1bp3', 'ly6g6d', 'tram1l1', 'dusp6', 'cep250', 'zcchc14', 'zbtb34', 'or1l1', 'klk6', 'pygo2', 'tenm2', 'ankrd54', 'mt-nd2', 'rufy4', 'gtf2h4', 'golph3l', 'tdrd7', 'lck', 'eya4', 'lrmda', 'cbl', 'ap1g2', 'tmed3', 'lgals4', 'pm20d1', 'cacng3', 'tbc1d19', 'kcnj16', 'oaf', 'lrrc23', 'isg20', 'il9r', 'ggcx', 'adpgk', 'otud6a', 'papss1', 'zscan5a', 'sh3bgrl', 'st6gal2', 'kng1', 'zdhhc2', 'ms4a8', 'mxra8', 'ucn3', 'myeov', 'ift81', 'rasa1', 'ngb', 'mt1f', 'tmem256', 'rdh14', 'nrep', 'pdik1l', 'nrg4', 'dmac1', 'pik3r3', 'naa20', 'ube2l6', 'f2rl3', 'fam107b', 'litaf', 'fads6', 'acbd3', 'pard6a', 'paf1', 'eif3e', 'scn3b', 'slc35b4', 'vps26a', 'hscb', 'glyatl3', 'ehd1', 'foxp4', 'krt6c', 'tafa2', 'gpatch2l', 'itgam', 'tmem231', 'bloc1s4', 'mc3r', 'kiaa0825', 'c1s', 'rhof', 'trim17', 'gpd1', 'or1e1', 'znf676', 'lce1c', 'inhbc', 'stmn2', 'medag', 'ddx41', 'tceanc', 'snupn', 'sema6c', 'procr', 'trmu', 'scnn1d', 'isy1', 'mrm3', 'magi3', 'septin7', 'zfp90', 'semg2', 'casq2', 'cntnap3b', 'c8orf82', 'tbxa2r', 'pskh1', 'tusc2', 'efemp2', 'sema4b', 'rnf113a', 'cdh24', 'wnt7b', 'marcol', 'znf713', 'tle1', 'rttn', 'tbc1d21', 'clptm1', 'phf20', 'calml6', 'cradd', 'rph3al', 'pde4c', 'myo5c', 'ube2a', 'commd5', 'cdh12', 'ankra2', 'aamp', 'slc5a8', 'or6y1', 'hnrnpa3', 'emx1', 'ldoc1', 'arsg', 'rtl10', 'ndufaf3', 'sptssb', 'pax5', 'acsm5', 'c7', 'dazap2', 'grm8', 'ttc39b', 'gpr85', 'ankmy1', 'mgp', 'hagh', 'kcnj2', 'rsad1', 'erap2', 'krt72', 'crcp', 'nelfe', 'prtn3', 'agap2', 'fndc8', 'ccdc24', 'tgfbr2', 'srpx', 'gna15', 'mgat4d', 'cldn14', 'tom1l1', 'cc2d2a', 'lce3c', 'foxk2', 'rxrb', 'eaf1', 'n4bp2l1', 'tmem243', 'hint3', 'fam110a', 'rbfox1', 'lrrfip2', 'gjb7', 'igf2bp1', 'inpp5j', 'jpt1', 'setd5', 'scgb1a1', 'rnf121', 'trim22', 'cd28', 'znf16', 'pomt1', 'foxr1', 'tlx3', 'kif3a', 'tm4sf4', 'otop2', 'arl5c', 'pdgfd', 'stac3', 'fam177b', 'brd7', 'tp53', 'tex11', 'cd164l2', 'papolb', 'slc4a7', 'c2orf72', 'glrx3', 'nup160', 'tent4a', 'angptl7', 'slc8a1', 'mapk8ip2', 'polr2d', 'capn15', 'xage2', 'rhbg', 'creg1', 'nek2', 'slc25a6', 'bsdc1', 'rims3', 'gpr161', 'or3a2', 'cfap36', 'ibtk', 'enkur', 'tdp1', 'tgfb3', 'gtpbp6', 'mlnr', 'atp5pb', 'atm', 'rsrc2', 'klhl6', 'ugt2a1', 'cacul1', 'sbk1', 'fgf4', 'phkg2', 'kcnn2', 'mettl9', 'poc1a', 'cyhr1', 'c1orf43', 'slc27a4', 'tppp2', 'gtf2h3', 'ntm', 'acsl5', 'gjd3', 'elp6', 'sema4g', 'ppp1r13l', 'stat2', 'tmem159', 'sgo1', 'amer1', 'dsn1', 'c2orf49', 'prr5l', 'wnt1', 'bnc1', 'mcc', 'slc13a5', 'crls1', 'slc16a5', 'znf71', 'anp32b', 'tango2', 'gar1', 'clpp', 'cd274', 'slc31a2', 'rassf6', 'nup50', 'stradb', 'sptbn4', 's100a13', 'rab18', 'arl6ip4', 'atp8b3', 'drich1', 'stx12', 'mccc1', 'txlnb', 'eif4ebp2', 'grk1', 'acacb', 'map3k4', 'znf549', 'stox2', 'or1a1', 'vnn3', 'ing4', 'vezf1', 'tubgcp5', 'sfxn1', 'tmem223', 'ldlrad1', 'klf10', 'gdap1l1', 'phka1', 'jhy', 'cgnl1', 'krt32', 'cpsf2', 'arhgef19', 'larp6', 'aanat', 'ccdc96', 'wfikkn2', 'usp34', 'tsen54', 'becn1', 'atp11b', 'krt73', 'taf5l', 'tnfrsf1b', 'mansc1', 'neurod6', 'sipa1', 'glb1l3', 'ciao3', 'pi4kb', 'rhoc', 'alad', 'utp20', 'lvrn', 'vti1b', 'zc3h12d', 'stab1', 'mastl', 'mtg2', 'znf576', 'prss48', 'asph', 'dhx37', 'lclat1', 'gsta3', 'amy2a', 'gtf3c2', 'hoxc12', 'sod2', 'serp1', 'kcnk6', 'f8a1', 'resp18', 'stk11ip', 'asap2', 'ubox5', 'fndc9', 'tbc1d22b', 'pnma3', 'mettl24', 'hoxc5', 'trim44', 'prom2', 'thap4', 'pik3cd', 'unc45b', 'nkpd1', 'abcb5', 'nfyc', 'ptprj', 'cfh', 'slc8a3', 'irak2', 'kdm6a', 'gabrr2', 'lrit1', 'tle7', 'znf75d', 'ggact', 'cenpk', 'stk16', 'rint1', 'slc22a17', 'ccdc121', 'htr1f', 'furin', 'sirpb2', 'cdk6', 'or10g7', 'hcar3', 'git1', 'tex9', 'plod1', 'osbpl7', 'erich2', 'tspan2', 'prok1', 'cyp20a1', 'cap2', 'pkdcc', 'cpn1', 'kmt5a', 'eng', 'psenen', 'nepro', 'oprm1', 'ccser1', 'hnrnpc', 'rapgef3', 'col4a5', 'fam120c', 'pcdha2', 'c22orf39', 'hbs1l', 'gpr107', 'klrc3', 'chi3l1', 'nars2', 'vwa5a', 'or5b2', 'bok', 'plekhn1', 'camkv', 'odf1', 'tmem120a', 'ndufa12', 'ccdc125', 'krt6b', 'b4galnt4', 'ccdc68', 'poldip2', 'capn6', 'mcl1', 'ntn3', 'ilkap', 'c2orf81', 'tp53i11', 'phactr3', 'tmem125', 'stard10', 'zmynd11', 'calcrl', 'znf592', 'sntn', 'mgam2', 'prpf4', 'dynlt3', 'ech1', 'dcaf4', 'azi2', 'lrat', 'plekhb1', 'nox5', 'pdzd9', 'krtap25-1', 'lrrtm4', 'smim23', 'lrfn2', 'or4m1', 'znf14', 'phf5a', 'cysrt1', 'gprin3', 'ttc8', 'maz', 'znf223', 'ric3', 'slc12a9', 'tmem178b', 'pag1', 'lair2', 'atg2b', 'ccn2', 'znf595', 'aldh1a3', 'gas6', 'stk4', 'stat3', 'slc26a6', 'ppt1', 'ano5', 'pum1', 'map4k1', 'reg4', 'plin1', 'pigl', 'cyp26b1', 'rbm4b', 'gimap2', 'arid3b', 'lpcat1', 'rom1', 'ntan1', 'csde1', 'tssk2', 'tlk2', 'tsc22d2', 'onecut3', 'espn', 'pnma6a', 'apobec3f', 'slc34a1', 'rtp1', 'vkorc1l1', 'skil', 'pofut1', 'mdfic', 'maf1', 'or56a1', 'siglec1', 'hsh2d', 'wdr12', 'gldc', 'tnnt3', 'lyg1', 'jade2', 'sphk2', 'pex19', 'myd88', 'fam24a', 'otof', 'flacc1', 'ing1', 'tdrd9', 'krt40', 'eif6', 'c1qtnf2', 'dock10', 'dnah11', 'wdr13', 'hebp2', 'prss8', 'slc13a1', 'slc40a1', 'stt3b', 'pelo', 'cacna1c', 'cast', 'mettl23', 'ivd', 'frrs1', 'znf562', 'cyp4f8', 'chmp2a', 'il1r1', 'nat2', 'ccdc69', 'tmem184c', 'ubqlnl', 'ppbp', 'tfap2d', 'mitd1', 'akt3', 'nt5dc4', 'gjb3', 'fzd1', 'mff', 'ffar2', 'krtap1-3', 'adam8', 'cul1', 'garem2', 'map6', 'cox14', 'pald1', 'me3', 'znf154', 'elovl6', 'smim24', 'insm2', 'bpifa3', 'prorp', 'pgpep1', 'dcstamp', 'mgmt', 'cenpb', 'ecm1', 'slc30a2', 'spaca7', 'igsf11', 'gng2', 'ccdc33', 'ppp2r5d', 'znf282', 'slc22a18as', 'adgre5', 'hspa1l', 'rnf39', 'acbd5', 'znf155', 'hsfx3', 'gpr146', 'fscn3', 'lrfn5', 'ids', 'pnma8c', 'mmp15', 'ptgir', 'lkaaear1', 'senp1', 'ssx2ip', 'fbxo15', 'phlpp2', 'lyn', 'kcnj6', 'iqcf1', 'znf132', 'slc5a10', 'itgb1bp2', 'gng3', 'adsl', 'phc3', 'or5t2', 'cds1', 'nim1k', 'adamtsl3', 'cphxl', 'morc4', 'sec24d', 'creb3', 'bhmt', 'slc16a1', 'grxcr2', 'gzmb', 'c1orf94', 'c16orf72', 'ramacl', 'timm23', 'rftn2', 'rad9a', 'art3', 'slc2a13', 'f7', 'acadvl', 'tmprss9', 'zkscan4', 'abhd17b', 'wdr18', 'c2orf73', 'gng4', 'itpripl1', 'kel', 'or4c15', 'kcne3', 'zc3h12a', 'ribc1', 'krtap17-1', 'phactr4', 'slitrk1', 'myo5b', 'pramef2', 'tbc1d1', 'arhgef25', 'mamld1', 'lig1', 'tmem187', 'scn5a', 'adamts12', 'cidec', 'arfip2', 'actr1b', 'trmt2a', 'kansl2', 'islr', 'stk32c', 'gatc', 'tmsb15a', 'ftcdnl1', 'galr3', 'or6c65', 'nxn', 'tanc1', 'c1qtnf4', 'hdhd5', 'klrd1', 'adgre1', 'nr2f2', 'lrit2', 'col1a1', 'bcar1', 'podxl2', 'parl', 'ube2f', 'or52h1', 'mcmdc2', 'plac9', 'fam166c', 'sgsm3', 'stat4', 'frat2', 'npipb15', 'pura', 'txndc17', 'shtn1', 'rrm2', 'fam83c', 'coa3', 'chsy1', 'lce2b', 'ddx19b', 'psma1', 'sumo2', 'borcs7', 'znf485', 'mef2b', 'enpep', 'chmp4a', 'cfl2', 'neurog3', 'bcl2l2', 'hao1', 'bex1', 'clec17a', 'grsf1', 'mfap4', 'mrgprx1', 'srgap3', 'fbxl4', 'arpin', 'stk17a', 'csn1s1', 'napsa', 'itsn1', 'pcdha4', 'strip2', 'tomm6', 'igfbp3', 'micos13', 'phip', 'or2t12', 'cops3', 'txndc15', 'c2cd4a', 'sae1', 'susd1', 'stum', 'slc8a2', 'ado', 'nrp1', 'ermn', 'bsg', 'tube1', 'antxr2', 'tnks1bp1', 'c1qc', 'fam168a', 'mmp1', 'g6pd', 'sacm1l', 'gas2l2', 'frg2', 'eps8', 'cfap69', 'meioc', 'abhd16a', 'dyrk1a', 'f2rl2', 'cpeb3', 'stard13', 'prep', 'sugp2', 'tm4sf1', 'or2d3', 'fzd4', 'wdr82', 'znf777', 'krt25', 'alyref', 'adprm', 'pate3', 'zbp1', 'iqcf2', 'tnfrsf10c', 'lipm', 'pnpla3', 'cwc25', 'aoc1', 'ctnna2', 'kcng2', 'dpy19l3', 'lrrc66', 'c4bpb', 'snrpd3', 'or5m11', 'prss22', 'tm4sf18', 'blzf1', 'linc00672', 'rhce', 'trappc11', 'metrnl', 'acat2', 'tcf20', 'mdh1b', 'pld1', 'stk31', 'sem1', 'syngr4', 'defb123', 'gpr142', 'plppr5', 'slc23a2', 'pnrc2', 'hnrnpa0', 'oxr1', 'commd10', 'sh3gl2', 'rap2a', 'gng11', 'cer1', 'zdhhc6', 'cbln3', 'tnn', 'gnb5', 'inpp1', 'ankrd34a', 'rab3b', 'akap5', 'srfbp1', 'bzw1', 'setd4', 'fam160b2', 'c11orf65', 'cyb5r3', 'taf1b', 'cnot11', 'faah2', 'grid1', 'tradd', 'smad9', 'spanxn1', 'ero1b', 'gpr20', 'c8a', 'hbm', 'ddx24', 'hdac4', 'tmem221', 'id3', 'iqcb1', 'ube2o', 'znf560', 'cnbp', 'palmd', 'mbnl1', 'fndc10', 'lingo2', 'fam169a', 'hfe', 'taf4', 'emc1', 'znf365', 'lzts2', 'myo19', 'cldn15', 'hes7', 'mtmr9', 'or4d2', 'dctd', 'mst1r', 'zscan10', 'lsm4', 'rnf38', 'arhgef12', 'znf563', 'inhba', 'zfyve19', 'ms4a3', 'tsnare1', 'daglb', 'aadat', 'asxl2', 'si', 'st6galnac3', 'med25', 'grp', 'capn9', 'rnasel', 'sfmbt1', 'fam3b', 'ina', 'fmc1', 'ache', 'rad23b', 'fbxo22', 'pbdc1', 'ccdc173', 'cnot7', 'cd80', 'prac2', 'c11orf49', 'sall4', 'ppa2', 'nsun5', 'c1orf115', 'spata45', 'six6', 'klhdc10', 'n4bp2', 'ndufaf6', 'adora3', 'nr2c2ap', 'creb1', 'flrt3', 'or13d1', 'wdr73', 'irgq', 'ermard', 'daoa', 'pten', 'nlrp12', 'akap9', 'pdcd4', 'ttc7b', 'pias2', 'znf280c', 'dcaf5', 'wdr20', 'zswim8', 'cfap300', 'zfp82', 'vhll', 'mapk3', 'tmem108', 'lrrc25', 'glt6d1', 'dmwd', 'or52w1', 'krtap6-2', 'fam155b', 'chordc1', 'usp26', 'tdrd15', 'pla2g4a', 'aif1', 'adcy6', 'znf627', 'tns2', 'ackr3', 'ptges2', 'eef1aknmt', 'blid', 'nebl', 'znf496', 'fam9a', 'krtdap', 'dpf1', 'psmb8', 'chchd5', 'cobl', 'tspyl1', 'uts2b', 'ttll8', 'lrrc74a', 'mbtps2', 'lss', 'unc5a', 'dnajc3', 'cenpc', 'sbf2', 'znf442', 'tstd1', 'or9g4', 'dbx1', 'kxd1', 'hspb6', 'tchhl1', 'tlcd5', 'zfhx3', 'ntf3', 'lcat', 'sik2', 'atp6v1c2', 'nkx1-1', 'tcp11', 'cubn', 'slc22a8', 'arhgap9', 'dnah5', 'foxa2', 'spidr', 'pfkfb4', 'fam124b', 'evi5', 'rgl3', 'agbl4', 'bend3', 'tmc7', 'znf572', 'pitpnm3', 'cldn25', 'mzf1', 'ribc2', 'zbtb8b', 'zhx2', 'sspn', 'nxph4', 'rcbtb2', 'c17orf67', 'evc2', 'hsf4', 'znf430', 'amotl2', 'gpatch8', 'banf2', 'tmem249', 'xkr7', 'cxcl13', 'znf510', 'ddx43', 'ovol1', 'sfswap', 'rgs6', 'ces3', 'chm', 'pla2g10', 'c1orf52', 'exosc9', 'tars2', 'tmem185b', 'ccnb1', 'b3gat2', 'st18', 'kcnq3', 'oplah', 'id4', 'tspan32', 'exoc3l2', 'mak16', 'pcdhb7', 'ube2m', 'lmf2', 'rab13', 'enoph1', 'siglec12', 'rcsd1', 'wnt9a', 'pcmtd1', 'klhl35', 'clec16a', 'oosp3', 'sla2', 'notch2', 'gzmk', 'twf1', 'syt6', 'rprd1b', 'tcte1', 'cpd', 'clnk', 'smpd1', 'ccdc153', 'cflar', 'pgp', 'lrtm2', 'cdc37l1', 'cep76', 'chrna2', 'znf480', 'tulp2', 'cnep1r1', 'trnp1', 'tmem251', 'il17f', 'zbed3', 'klf9', 'pop4', 'tm9sf3', 'pgm1', 'ctnnbip1', 'klhl21', 'ddx18', 'stath', 'fam120b', 'jrkl', 'or10h4', 'mapk13', 'pdcl3', 'ifi27', 'tas2r4', 'acot4', 'dkk2', 'ebf1', 'pbx1', 'kif1a', 'nprl2', 'cenpv', 'ppp1r1b', 'cpxm2', 'harbi1', 'hyls1', 'dsg3', 'hdgfl2', 'pdgfb', 'glud1', 'pcm1', 'mylk3', 'eif2b3', 'rnf213', 'dlx5', 'c1orf159', 'cchcr1', 'c11orf86', 'eapp', 'znf7', 'tmem131l', 'hsd17b10', 'atat1', 'nfkbid', 'slc9b2', 'il4', 'smg1', 'gdi1', 'gng12', 'uhrf1bp1', 'psma3', 'cpamd8', 'taf8', 'axl', 'znf226', 'snx25', 'meox1', 'chrna10', 'tmprss5', 'kti12', 'dll3', 'trip6', 'prkab2', 'ufsp2', 'mal2', 'anxa13', 'rfpl4al1', 'psmg1', 'amotl1', 'plagl1', 'phf2', 'gpr65', 'tnpo2', 'tpte', 'or2a14', 'or51q1', 'rnf122', 'usp28', 'sox13', 'zbtb12', 'col24a1', 'lenep', 'ifih1', 'alb', 'snx10', 'mln', 'klhl29', 'uba1', 'aspa', 'sp7', 'cenpi', 'c1qtnf9', 'tas1r1', 'sp1', 'krt15', 'rev3l', 'pim3', 'lama2', 'phf21a', 'mrap', 'c16orf78', 'scrn3', 'ldhd', 'slc35g2', 'itpr3', 'exosc2', 'ccdc59', 'or4f15', 'jag2', 'nkd1', 'daxx', 'psd3', 'g3bp2', 'tmem71', 'inpp5a', 'c11orf54', 'tmem161a', 'rilpl1', 'nagpa', 'heatr3', 'ilvbl', 'znf8', 'ubd', 'eif3a', 'vps50', 'fkbp7', 'usp6nl', 'frs2', 'rnf182', 'prkcz', 'gja4', 'ppial4a', 'dmtf1', 'prag1', 'prps1l1', 'ssbp1', 'caap1', 'sash3', 'pak6', 'trpm2', 'ncr3', 'tmem121b', 'sema4a', 'plcd1', 'cnr2', 'mex3d', 'srcin1', 'zscan23', 'strada', 'fam210b', 'nup35', 'ecscr', 'faap20', 'rtl4', 'zbtb40', 'fbn1', 'clcn6', 'gype', 'mroh6', 'slc41a1', 'cyp4f2', 'oxa1l', 'cetn1', 'ervk3-1', 'slc6a2', 'rhbdd2', 'ccdc38', 'gprc5c', 'kir3dl3', 'epn1', 'lca5l', 'nr5a1', 'tbl1y', 'clc', 'pdp1', 'entpd1', 'ptpre', 'man1c1', 'rem2', 'gsg1', 'fpgt', 'cldn1', 'cep19', 'lias', 'cep152', 'grik3', 'nfix', 'nes', 'elk4', 'nos3', 'kdm2a', 'nfatc1', 'nub1', 'kprp', 'etv4', 'map4k3', 'krtap4-4', 'atxn3l', 'cnih1', 'anapc4', 'coa1', 'fam90a1', 'svbp', 's100b', 'btc', 'znf233', 'gab4', 'ahdc1', 'nek7', 'arl15', 'dnajb6', 'nutm2e', 'or9a4', 'tceal2', 'nol10', 'ccdc105', 'rfx5', 'napa', 'ugt2a3', 'cttn', 'znf513', 'aarsd1', 'pik3ip1', 'ncs1', 'abcc4', 'znf121', 'rap1gap2', 'ttc27', 'tpsd1', 'ankrd40', 'wnt9b', 'klhdc7a', 'smug1', 'fitm2', 'acyp1', 'wdfy1', 'tbc1d20', 'zbtb2', 'spata31a1', 'ctsd', 'mospd1', 'smim19', 'tob1', 'prpf3', 'npy1r', 'nmur2', 'tmem150a', 'etv7', 'hnrnpcl3', 'sptbn1', 'srebf2', 'gypa', 'igip', 'daam1', 'spata7', 'zswim3', 'cnga1', 'zscan21', 'eif2b2', 'nbpf20', 'ralgapb', 'trappc9', 'klhl18', 'rwdd2a', 'iqgap3', 'rab14', 'or4c11', 'crebrf', 'llcfc1', 'abcb4', 'il7', 'tectb', 'atg2a', 'znf783', 'aadac', 'vwce', 'fgf9', 'slc25a33', 'rnf180', 'flg', 'psmb1', 'actc1', 'swap70', 'wbp2', 'rbm12b', 'cyb5r1', 'trim29', 'gabra3', 'sim1', 'sh3kbp1', 'fam234a', 'ca9', 'slc33a1', 'pcdha7', 'itprip', 'opalin', 'vangl2', 'ccdc150', 'vbp1', 'brinp2', 'pon2', 'smg7', 'smim12', 'lhfpl1', 'poc5', 'smarcb1', 'glod5', 'gas1', 'tmem100', 'ap1m1', 'kbtbd3', 'strn', 'mcf2l2', 'mospd3', 'zdbf2', 'cpa1', 'sh3bp4', 'znf330', 'slc6a6', 'adat2', 'itgb8', 'taf11l11', 'sarm1', 'fgf2', 'uap1', 'tubb2a', 'shmt2', 'iqcm', 'henmt1', 'lrrc71', 'ncoa2', 'ppm1k', 'or13g1', 'znf37a', 'rgs7', 'krt3', 'tsacc', 'map2k7', 'cdc7', 'sos1', 'c3orf85', 'hoxc9', 'dnajc11', 'gpr25', 'ppp1r3g', 'wdr77', 'dnah7', 'jazf1', 'pfn1', 'cd207', 'lrrc4', 'gramd1b', 'xbp1', 'zranb3', 'selenof', 'dnah9', 'nr2c1', 'mab21l3', 'aen', 'pex1', 'kcnj4', 'mkks', 'krt17', 'krt7', 'nrbf2', 'anapc13', 'pcca', 'sypl1', 'znf599', 'arl4c', 'slc18a1', 'bace2', 'ntn4', 'zic3', 'otub1', 'alx3', 'spam1', 'rbpms2', 'syce1', 'znf646', 'mcph1', 'dhx32', 'ndufs8', 'hsp90b1', 'sgf29', 'specc1', 'sipa1l1', 'r3hdm4', 'hexb', 'dner', 'fbxo9', 'col28a1', 'sft2d3', 'or6p1', 'app', 'abra', 'dnajb9', 'mgrn1', 'usp43', 'fam221b', 'notch3', 'zmpste24', 'c1r', 'cd99', 'or2l3', 'phax', 'st8sia4', 'crabp1', 'il27', 'bpifb3', 'ube3c', 'hoxb6', 'paip2b', 'hus1', 'cyp19a1', 'smarcc1', 'or8a1', 'oscar', 'anapc15', 'gna11', 'dixdc1', 'braf', 'map3k3', 'apoc3', 'nasp', 'edem2', 'bmpr1a', 'or4k1', 'tal2', 'srsf10', 'cdc20b', 'sapcd1', 'anapc1', 'cnmd', 'padi2', 'mcoln3', 'pf4v1', 'asap1', 'col27a1', 'ankrd9', 'cd3d', 'or10k1', 'wnt5b', 'sh2b1', 'prpf39', 'mpp4', 'grifin', 'taco1', 'fzr1', 'nedd9', 'aida', 'gabrg2', 'mtfr2', 'krtap3-3', 'abca5', 'lpin2', 'bicdl1', 'il12b', 'shc1', 'kmt2b', 'zim3', 'cdc25b', 'prss35', 'eef2kmt', 'dmtn', 'sprr5', 'nop58', 'tmem168', 'ppp1r2c', 'stard9', 'rftn1', 'gcnt1', 'cnpy4', 'npc2', 'haus6', 'c15orf40', 'spanxn4', 'sox17', 'nrm', 'adat3', 'efhc1', 'exd2', 'prc1', 'igfbp2', 'lama5', 'rundc3b', 'faxdc2', 'tmem266', 'bcl6b', 'ttll11', 'pth1r', 'thop1', 'dhrs7b', 'rap1a', 'clasp1', 'metap1d', 'plekha4', 'ifi35', 'wnt8b', 'tom1l2', 'nfyb', 'btbd17', 'kif21b', 'ttc23', 'clvs1', 'got1l1', 'tmem179b', 'ptpn20', 'dock4', 'prr27', 'mgst3', 'sdk1', 'znf345', 'elac1', 'acot8', 'gda', 'fam120aos', 'nubp2', 'adgrf2', 'atf7', 'g6pc3', 'smc5', 'ripk3', 'krtap13-2', 'traf7', 'slc16a11', 'f8', 'tomm7', 'or56a3', 'or10a3', 'znf280a', 'rnaseh2c', 'vps35l', 'uts2', 'tspan33', 'txk', 'phldb1', 'sec22a', 'or2a4', 'atp9a', 'gon4l', 'mapk1ip1l', 'gatad2b', 'trappc2l', 'coa4', 'clcc1', 'ccr6', 'fahd2b', 'pcsk6', 'coprs', 'cmc4', 'mageb6', 'znf117', 'npr2', 'uevld', 'ubash3b', 'or8g1', 'prrt1b', 'tmprss12', 'timp2', 'lancl3', 'bhlha9', 'cand1', 'xpo6', 'arhgap6', 'dact3', 'htra1', 'osbpl11', 'npl', 'tubb4b', 'gsk3a', 'necap1', 'iapp', 'ccr3', 'cldn24', 'carmil2', 'cir1', 'tyk2', 'slc25a23', 'dscc1', 'mansc4', 'mob3c', 'kdm3a', 'runx2', 'cystm1', 'atxn7l1', 'maf', 'pcdhgb2', 'c16orf96', 'cmas', 'usp22', 'abraxas1', 'ccdc85c', 'actr3b', 'or52e4', 'rab5if', 'ppara', 'coq7', 'apol5', 'rpusd1', 'ell3', 'nfe2', 'smim3', 'tbccd1', 'igf2bp2', 'cog7', 'creg2', 'rnf6', 'dhrs12', 'ammecr1', 'dtwd2', 'cwc15', 'pls3', 'slc35b2', 'crot', 'dlst', 'arsj', 'ephx3', 'slc25a11', 'rln3', 'htr1d', 'prkar2a', 'pdia5', 'lrrc4c', 'nkx2-3', 'cr2', 'nxnl2', 'p2rx4', 'znf135', 'barhl1', 'znf671', 'mylk', 'vsig10', 'arpc4', 'gins4', 'cacnb3', 'slc5a11', 'znf503', 'fmn2', 'or51g1', 'banf1', 'gfer', 'safb', 'gtsf1l', 'lyzl4', 'rrp1b', 'uap1l1', 'flna', 'or10a5', 'chsy3', 'dad1', 'syne2', 'mtif2', 'arl5a', 'cdhr4', 'spata31a7', 'znf688', 'kiaa1755', 'slc25a47', 'znf470', 'epha8', 'sprr2b', 'mybbp1a', 'mid2', 'c19orf53', 'vps53', 'map3k2', 'snn', 'ubac1', 'reln', 'ipp', 'adam17', 'c6orf47', 'slc16a6', 'atp5po', 'armcx1', 'rilpl2', 'drc3', 'sirpd', 'pcsk5', 'fam71e2', 'arl9', 'or13a1', 'adcyap1', 'xrcc2', 'atoh7', 'golga6l6', 'man2b2', 'rusc1', 'kiaa1549l', 'mypop', 'mxd3', 'vps37c', 'barx2', 'piwil3', 'man1a1', 'tuba3c', 'tspan16', 'psmd4', 'cbx8', 'med28', 'rspo4', 'cysltr1', 'ext2', 'sesn2', 'dcun1d4', 'pdha2', 'tnfrsf21', 'glipr1l2', 'ikzf3', 'duox2', 'arel1', 'sv2b', 'ddx20', 'magel2', 'tatdn3', 'galnt14', 'hgfac', 'b3gnt8', 'iqank1', 'gsr', 'krt82', 'bckdk', 'c2orf80', 'zdhhc1', 'tiam1', 'il18r1', 'clpsl1', 'parp2', 'or10z1', 'pold4', 'tab3', 'adam33', 'reep2', 'kiaa1586', 'fam81a', 'rnaseh2a', 'vcl', 'kat6b', 'mt1e', 'evi2b', 'ticam2', 'kif9', 'bloc1s5', 'set', 'znf253', 'mknk2', 'atcay', 'tlr5', 'catsper4', 'sirt7', 'ppil4', 'or51f1', 'ndufa2', 'inafm2', 'slc19a3', 'siglec14', 'epb41l1', 'tie1', 'arnt', 'lrrtm2', 'rbm19', 'rspo2', 'muc7', 'nat16', 'me1', 'gnptab', 'kctd13', 'bmerb1', 'usp16', 'mtrr', 'usf3', 'slc25a20', 'c6orf141', 'or4n5', 'rita1', 'pdlim1', 'oc90', 'tril', 'tmem250', 'znf644', 'rhoq', 'sephs2', 'med23', 'cacnb2', 'csad', 'ksr2', 'kcnd1', 'scx', 'hip1r', 'fam181a', 'kcnj8', 'ccnf', 'slc9a7', 'actl6b', 'hecw1', 'ccdc130', 'or4d10', 'fkbp5', 'abcg1', 'spag17', 'ryr2', 'camkmt', 'apoa1', 'fap', 'or2l2', 'dgat1', 'dnttip2', 'gpr182', 'zdhhc8', 'stk40', 'ndst1', 'cga', 'clec4f', 'osbpl2', 'or2m4', 'bap1', 'lonp1', 'ier2', 'sh2d7', 'tmem51', 'tbc1d32', 'il5ra', 'or6a2', 'mpp3', 'sltm', 'znf222', 'tom1', 'them4', 'znf439', 'arnt2', 'kctd5', 'zmym6', 'vamp8', 'rasgef1a', 'chchd1', 'exo1', 'cfap299', 'itih2', 'pard6g', 'ccdc57', 'vsig1', 'st3gal3', 'chrng', 'tap2', 'rnf141', 'mynn', 'dagla', 'defa6', 'sult1a1', 'gcnt7', 'tmem171', 'uvrag', 'slc36a2', 'pla2g2c', 'podn', 'hcfc1r1', 'wwp2', 'ube2q1', 'ptms', 'ppib', 'smpdl3b', 'tbc1d24', 'rtp5', 'dnmt1', 'mfng', 'aass', 'pax3', 'znf251', 'endog', 'abi3', 'pttg2', 'lin28b', 'or10a6', 'kras', 'foxd4l6', 'zscan22', 'nptxr', 'chmp3', 'pheta1', 'pfkp', 'myh15', 'hbp1', 'c20orf202', 'fgf17', 'slc24a4', 'hdac2', 'dnmt3b', 'urb2', 'nhlrc1', 'trip12', 'btbd9', 'cmtm5', 'bud13', 'nkapd1', 'spag4', 'abcg2', 'prim2', 'sult6b1', 'adh5', 'chd9', 'tra2a', 'glyat', 'znf138', 'ankrd44', 'krt75', 'tspyl4', 'tecr', 'pnma2', 'or6c76', 'ppp1r3e', 'cnga3', 'cd320', 'cst5', 'alcam', 'pus7', 'fmod', 'pwwp3b', 'tmpo', 'pds5b', 'bfsp2', 'snapc3', 'slc9a3r1', 'niban2', 'slc25a22', 'lipi', 'plxnb2', 'nbpf3', 'adrb3', 'polk', 'asb1', 'tnni2', 'dzip1', 'mta2', 'thnsl2', 'mycbpap', 'ndufv1', 'lacrt', 'pim2', 'baiap2l2', 'slc2a4rg', 'kcnk7', 'ifit3', 'spib', 'disp2', 'lratd2', 'bcl2', 'prr14l', 'wdr35', 'qprt', 'cenpj', 'p4ha2', 'srl', 'znf778', 'micos10', 'trip10', 'zbtb32', 'lratd1', 'hspa4l', 'elf2', 'supv3l1', 'cyp46a1', 'gpr135', 'dcxr', 'znf473', 'kifap3', 'slc9c1', 'mpzl1', 'cryba1', 'znf160', 'mmp24', 'qpct', 'spata33', 'nckap1l', 'foxj3', 'vwa5b2', 'rnf4', 'adprhl1', 'lce6a', 'zmynd19', 'myo16', 'nipsnap3b', 'igfl2', 'smg6', 'polr1e', 'fyttd1', 'coro6', 'dohh', 'znf441', 'sfn', 'clec4m', 'c12orf29', 'tmed8', 'znf76', 'tor1a', 'scyl2', 'paics', 'znf267', 'clec20a', 'cldnd1', 'ceacam8', 'dffb', 'mmrn2', 'plac8l1', 'ddi1', 'krt83', 'abca9', 'ptpra', 'grk3', 'osbp2', 'wee1', 'pkm', 'cbfa2t2', 'slc22a23', 'tfec', 'cdh15', 'rcn3', 'edem1', 'snx32', 'atp6v1a', 'cbln2', 'uckl1', 'zc3h15', 'zbtb5', 'slc22a24', 'c17orf97', 'grid2ip', 'trim51', 'ythdf2', 'wdr88', 'gbf1', 'znf567', 'acvr1b', 'tmem240', 'trarg1', 'mysm1', 'dcaf13', 'vax1', 'dph1', 'cdh2', 'med16', 'ankrd18a', 'apoc4', 'gpr152', 'fabp5', 'ifna7', 'apobec1', 'mfsd2b', 'rwdd2b', 'zxdb', 'thada', 'mtnr1a', 'pex7', 'timp3', 'znf423', 'slc30a7', 'top2b', 'cdkn3', 'asic2', 'ftmt', 'or4d6', 'sphk1', 'erlin1', 'or6f1', 'clasp2', 'ghrl', 'rab17', 'or7a5', 'etv3l', 'glra2', 'mcm3', 'cct8', 'znf680', 'egr1', 'mc4r', 'myadml2', 'ulbp1', 'c3ar1', 'bzw2', 'tbck', 'ginm1', 'pcolce', 'slc26a4', 'c9orf152', 'orm1', 'tango6', 'lin7b', 'snorc', 'znf597', 'limd1', 'arhgef37', 'slc7a6', 'bub3', 'cadm1', 'ccdc63', 'aqp10', 'col11a1', 'atpaf1', 'ttk', 'ankrd16', 'mtm1', 'tigd2', 'ing2', 'carns1', 'ptprh', 'dop1b', 'mnda', 'lamb3', 'sdf2l1', 'glmn', 'pom121c', 'frg1', 'znf565', 'cnfn', 'tmem262', 'ccdc196', 'znf831', 'clock', 'slc4a2', 'ccl5', 'pkn2', 'zmiz1', 'cnot8', 'celsr3', 'plcb3', 'or5h14', 'eif1ay', 'ms4a13', 'prr20g', 'akr1b15', 'slc15a3', 'atp2a2', 'ring1', 'eef1akmt1', 'sema7a', 'crtc3', 'lilra5', 'ikbkb', 'hs1bp3', 'dysf', 'znf180', 'adad2', 'prss53', 'sp6', 'tmem181', 'slc31a1', 'kcna3', 'lpgat1', 'dnase2b', 'lrrc30', 'vamp4', 'krt9', 'odam', 'tprkb', 'c4orf46', 'tuba4a', 'eif4e3', 'bysl', 'aldh1a1', 'slc12a2', 'sag', 'c2orf15', 'tmem8b', 'rnf223', 'tmem165', 'tmem14c', 'trpc4', 'znf131', 'fbrs', 'gga3', 'nnt', 'adtrp', 'spata12', 'klk11', 'pdgfra', 'catspere', 'hapln4', 'trnt1', 'il20', 'vars2', 'ptgr1', 'odf3', 'ptp4a3', 'mkln1', 'pomgnt2', 'csf1', 'pom121l2', 'tsc22d4', 'anp32d', 'slitrk2', 'tmc4', 'irf2bpl', 'il20ra', 'tyw3', 'ccdc87', 'or8b8', 'tfeb', 'ubr7', 'ankrd30b', 'znf235', 'naa15', 'smyd5', 'gdap2', 'chrna5', 'ctsa', 'nol4', 'fhit', 'tspan9', 'usp9y', 'hif1an', 'yrdc', 'dsg1', 'cenpu', 'mgst2', 'ubc', 'tmem244', 'drp2', 'iqca1l', 'slc17a6', 'chst9', 'eef1b2', 'znf385d', 'pdlim4', 'dym', 'prelid3b', 'odf2', 'ppp1r3a', 'or52n1', 'plekhm1', 'syk', 'tigd4', 'fbxo39', 'boc', 'sntb2', 'canx', 'trim55', 'dip2a', 'usp54', 'tma7', 'ecel1', 'ctxn3', 'znf638', 'chmp1b', 'parp4', 'tma16', 'clca1', 'znf318', 'slc35b1', 'znf766', 'npr1', 'sncg', 'c18orf21', 'mrfap1', 'slc16a2', 'tpbgl', 'kcnip3', 'tmem68', 'mcam', 'casd1', 'nab1', 'rhobtb2', 'c11orf96', 'kcnn1', 'trnau1ap', 'fbxw4', 'snrpf', 'chst2', 'dbf4', 'tmem198', 'sybu', 'rtl6', 'or4c13', 'ccl3l1', 'smyd2', 'kiaa1841', 'chchd3', 'fuz', 'tubd1', 'agrp', 'atf5', 'tmppe', 'lsmem1', 'wdr92', 'igfn1', 'bmpr2', 'cog4', 'card14', 'or7c2', 'arsd', 'c12orf76', 'wdr48', 'rfk', 'dus4l', 'dbh', 'tmem87a', 'rnmt', 'pglyrp4', 'gemin6', 'znf639', 'lrp10', 'tnfrsf14', 'ooep', 'tfap2b', 'lelp1', 'erbb2', 'krtap9-9', 'tmem60', 'arvcf', 'cetn3', 'plxna1', 'itih5', 'rph3a', 'mcrs1', 'laptm5', 'loxl4', 'pde7b', 'ogfod2', 'slc5a2', 'samd8', 'sry', 'phgr1', 'slc7a14', 'nmral1', 'eif5b', 'brwd1', 'c4orf17', 'kifc3', 'txndc16', 'hnrnpm', 'kantr', 'acta1', 'rap1gap', 'kcnip1', 'fam110c', 'dclk1', 'il6r', 'tns4', 'susd4', 'ltb4r', 'tepp', 'elmo2', 'pan2', 'ctcfl', 'fam228b', 'rnf186', 'tmem258', 'hexd', 'klrb1', 'nbl1', 'wiz', 'c1galt1c1l', 'myh9', 'pip', 'crb2', 'kdm6b', 'plcg1', 'eloc', 'rpn2', 'or51d1', 'thy1', 'nedd1', 'rmdn2', 'cacng1', 'treml1', 'spint4', 'plekha1', 'atp1b4', 'pcdh8', 'slurp1', 'lig4', 'sptbn5', 'ambp', 'tubgcp3', 'nos2', 'ruvbl2', 'hps1', 'kiaa1143', 'sulf2', 'skp2', 'adam9', 'ggt2', 'smarca1', 'pcdhgc3', 'kif4a', 'fbxo36', 'whamm', 'slain2', 'dgkb', 'mtus2', 'nrros', 'snx2', 'adcy8', 'tubgcp2', 'trim51gp', 'fam174b', 'adh1b', 'spock2', 'lsp1', 'evpl', 'smr3a', 'btg2', 'cutc', 'kmt5c', 'ninj1', 'cltrn', 'kcnmb2', 'slitrk6', 'tmem95', 'zcchc13', 'gmnc', 'sox30', 'tnxb', 'gpatch2', 'acot12', 'c16orf71', 'mmp12', 'bcar3', 'dcps', 'zscan1', 'hey1', 'eif4enif1', 'scml4', 'edar', 'serpinb9', 'adgb', 'setdb2', 'gjc1', 'dynll1', 'tmem132d', 'tmem260', 'znf445', 'hat1', 'rnase10', 'abcg8', 'magea4', 'rab28', 'muc5ac', 'frem2', 'mex3b', 'oprd1', 'c1qtnf12', 'spocd1', 'znf165', 'or51s1', 'lrrc43', 'flt4', 'grk4', 'adam28', 'herc5', 'b4galnt1', 'znf554', 'nsd1', 'zcchc8', 'nav2', 'lipg', 'tgm5', 'znf707', 'phf20l1', 'adprh', 'itpkc', 'htr7', 'atg4a', 'apoa5', 'abca2', 'cnbd1', 'slc25a25', 'mon1b', 'fshb', 'syce1l', 'iqgap2', 'ippk', 'rasl10a', 'hsd17b8', 'syt14', 'mccc2', 'dnajc2', 'kiaa0408', 'ccer2', 'ggtlc1', 'dnajc14', 'nudt2', 'map3k9', 'cox18', 'atp5if1', 'col26a1', 'ogt', 'zmynd12', 'or10g2', 'rnf32', 'xrcc3', 'c1orf174', 'cd101', 'jarid2', 'shroom1', 'coro2a', 'lsm1', 'lrrc8c', 'rab3ip', 'yaf2', 'gprc5d', 'cox11', 'dock7', 'ndufs1', 'mfsd3', 'c3orf80', 'ccdc122', 'hk1', 'pkp2', 'ccdc22', 'fabp2', 'megf9', 'strip1', 'atg9a', 'ppp2r1b', 'pgam1', 'asap3', 'trmt13', 'gpr149', 'trim6', 'nfatc4', 'tbcb', 'rft1', 'fam214b', 'dlgap5', 'casc3', 'gmip', 'med11', 'cers2', 'abhd8', 'ephb1', 'cd55', 'cyp11b2', 'apela', 'cage1', 'zdhhc20', 'map3k14', 'gorab', 'xrcc1', 'slc5a1', 'luzp4', 'slc51a', 'foxd2', 'fam104b', 'ankrd18b', 'fam200b', 'exo5', 'hsp90aa1', 'ablim2', 'rnf185', 'pan3', 'gje1', 'plekhg4b', 'sptlc1', 'znf527', 'litafd', 'semg1', 'nus1', 'cdc42ep3', 'serpinb8', 'aox1', 'pes1', 'astn2', 'glis2', 'ca1', 'pcdh15', 'adra1a', 'plekha8', 'samd9l', 'nudt18', 'b3galnt2', 'mypn', 'bbc3', 'dock1', 'arl14', 'nkx2-8', 'argfx', 'tex37', 'setd9', 'or5b21', 'ccnq', 'chek1', 'shisal2b', 'egfl6', 'p2rx5', 'hspb11', 'wdcp', 'pitx2', 'timd4', 'slc7a6os', 'znf398', 'nemf', 'anxa5', 'ceacam4', 'fhl5', 'unc119', 'atp5mg', 'slc25a34', 'dhrs3', 'ccdc82', 'psg3', 'gpd1l', 'htr2b', 'setd1a', 'nedd8', 'ada', 'adam15', 'or5m3', 'rbm26', 'ang', 'rmnd5a', 'gpatch3', 'ecd', 'mthfr', 'tagln2', 'spdye1', 'itih1', 'ubiad1', 'rin1', 'cdc14b', 'topors', 'mucl3', 'pigbos1', 'pcbp2', 'cdc42ep1', 'znf426', 'fcgr3b', 'znf334', 'efemp1', 'ccr5', 'tcf19', 'cdc40', 'uqcrb', 'zbtb4', 'tspan18', 'spag8', 'or2h2', 'slx4ip', 'atg101', 'cpne9', 'tmub1', 'phyhipl', 'cxadr', 'prrg1', 'cdca3', 'kcnn4', 'gpatch4', 'p4ha1', 'nacc1', 'naa38', 'ptger1', 'ivns1abp', 'sp4', 'wdr90', 'sp8', 'tsg101', 'mxi1', 'fgf3', 'zc3h7b', 'dglucy', 'fyn', 'igfl3', 'fam9c', 'vill', 'cdc42bpa', 'strc', 'l3mbtl1', 'rcan3', 'mt-cyb', 'ino80e', 'nkapl', 'troap', 'eif4a1', 'c1orf226', 'mfsd8', 'ccdc175', 'c6orf15', 'kcna2', 'tmem182', 'sh2b2', 'pcdhb4', 'ankrd33', 'nsun4', 'smco2', 'prkx', 'setx', 'itgb3', 'zfp14', 'atp1a3', 'nt5c1b', 'ddx10', 'or8d2', 'shisal2a', 'elovl5', 'taok1', 'csrnp1', 'ostn', 'thap1', 'prkg1', 'adipoq', 'sbk3', 'gria2', 'spint1', 'klf4', 'arhgef28', 'znf2', 'znf34', 'trpv1', 'cdc25a', 'ociad1', 'ryr3', 'slc16a7', 'ago4', 'pde3a', 'fam189a1', 'znf189', 'asmtl', 'kcnma1', 'atp5mc1', 'lep', 'slc39a2', 'pon3', 'myl9', 'vsig4', 'cd34', 'ly6g5b', 'rasgrp4', 'mdp1', 'fkbp9', 'pum2', 'amot', 'nxf3', 'tuba3d', 'plscr1', 'or56a5', 'znf276', 'pms2', 'mindy4', 'abca13', 'spaca6', 'lima1', 'jph4', 'lyrm9', 'micu2', 'rlf', 'entpd5', 'rbp5', 'znf225', 'atl2', 'exosc6', 'mtdh', 'tceanc2', 'cramp1', 'c4orf33', 'slc43a2', 'ubqln3', 'slc23a3', 'vwa8', 'pagr1', 'slc45a4', 'srsf2', 'dot1l', 'pds5a', 'dcdc2b', 'zfr', 'fsd2', 'pcdhga6', 'gpr55', 'kif5b', 'plpp3', 'lsm10', 'cyp27a1', 'prkacb', 'ptger2', 'kdm7a', 'ezh2', 'pja1', 'sptan1', 'pkig', 'gata3', 'elmod2', 'ptpn3', 'sms', 'gcn1', 'dpp8', 'pdia2', 'itih6', 'slmap', 'tgfbr1', 'ms4a10', 'page2', 'ncor1', 'fn1', 'ccl19', 'slc9a3', 'brd4', 'krtap5-2', 'arhgap30', 'smc4', 'hmg20a', 's100a16', 'capza2', 'c1orf185', 'ppp1r21', 'rnf183', 'rax', 'c11orf97', 'acaa2', 'sox4', 'cry2', 'erfe', 'ptprd', 'slc25a35', 'ash1l', 'capn3', 'nav3', 'xaf1', 'eml2', 'mcoln1', 'acss2', 'atp10b', 'serpina10', 'pomgnt1', 'mbd3l2b', 'amd1', 'immp1l', 'fry', 'cidea', 'rgs21', 'ppfibp1', 'pradc1', 'ube2e3', 'smarcc2', 'b4galt5', 'sytl2', 'cbx6', 'las1l', 'carf', 'fam114a2', 'dgkq', 'slc38a9', 'marcks', 'or2j3', 'pafah1b2', 'tmem169', 'triqk', 'nme5', 'lysmd2', 'snrpd2', 'mcm3ap', 'fam107a', 'tox3', 'dnah12', 'pias1', 'mrtfb', 'il1r2', 'elac2', 'dynll2', 'acot9', 'clec5a', 'sp100', 'rfc2', 'cfap20', 'tob2', 'c1orf56', 'cul5', 'pdzd3', 'akain1', 'il11ra', 'bola3', 'tbl1xr1', 'cxcl3', 'pcdhga3', 'ncstn', 'wdr49', 'tnfsf13', 'fbxo47', 'hibadh', 'leprot', 'slc13a2', 'rasgef1c', 'scnn1a', 'gins1', 'pcdhb5', 'tcp11l2', 'dbp', 'znf385b', 'otud1', 'plekha3', 'tnp2', 'clvs2', 'kmt2a', 'znf283', 'dlgap1', 'il5', 'rhbdf2', 'tm6sf2', 'rdh13', 'wdr4', 'has3', 'ism2', 'kcnab1', 'lgals14', 'per3', 'orc1', 'ppargc1a', 'dnd1', 'tmem82', 'map3k1', 'atp8a1', 'hdac7', 'fzd3', 'gzma', 'clec2b', 'pla2g2a', 'or4p4', 'st13', 'slc22a15', 'gstk1', 'gbgt1', 'slc16a8', 'satb2', 'wdr11', 'tph2', 'dmrta2', 'rims2', 'insyn1', 'tlr8', 'naxd', 'magt1', 'gpx7', 'atf1', 'spry1', 'gmppa', 'fgl1', 'snai3', 'slc35c1', 'camta1', 'csnk2a1', 'vps18', 'tiparp', 'jmjd4', 'dctn1', 'tas2r38', 'gemin5', 'c5ar1', 'man2a2', 'armh4', 'ccdc66', 'atp4b', 'dcst2', 'bex5', 'slc35d2', 'tmem170a', 'elspbp1', 'chrne', 'rbm28', 'prlr', 'vps51', 'prss45p', 'rad51', 'evi5l', 'stx7', 'ptpdc1', 'smad6', 'hdac1', 'gsg1l2', 'krtap4-12', 'manea', 'cd164', 'flnc', 'ccnd3', 'syn2', 'or1l6', 'abcd2', 'prb1', 'sco1', 'rrs1', 'srxn1', 'shd', 'tspyl6', 'cep55', 'srp72', 'stard8', 'ston1', 'mrgprx2', 'dr1', 'tnfrsf18', 'apbb2', 'zdhhc21', 'hpdl', 'enah', 'rraga', 'mycbp', 'taar5', 'slc32a1', 'or2m7', 'fancd2', 'sema3e', 'prxl2b', 'ccdc184', 'tmem52b', 'dnajc10', 'minar2', 'caskin1', 'ptprk', 'nkiras2', 'rbm18', 'rcvrn', 'l3mbtl4', 'adh7', 'sarnp', 'lum', 'c5', 'nono', 'ifna4', 'socs7', 'selenot', 'slco1c1', 'il1rn', 'serpinc1', 'cdc42se2', 'dcakd', 'jmjd8', 'hsbp1l1', 'rab11fip5', 'crocc2', 'elavl1', 'stard3nl', 'gas2', 'pot1', 'srrd', 'mroh2a', 'chst3', 'fcer2', 'akr1c3', 'acadsb', 'cops7b', 'ints5', 'cbr1', 'tor1aip1', 'frzb', 'nlrc3', 'maneal', 'tlcd2', 'tsga10ip', 'impa1', 'gabrg1', 'slc52a1', 'hic1', 'kcne2', 'ccdc174', 'fam76b', 'ogfod3', 'tmem98', 'ablim1', 'uncx', 'nup133', 'hpca', 'ss18l1', 'tnfrsf13b', 'rnf126', 'tonsl', 'wbp2nl', 'sct', 'uggt1', 'pde6a', 'rasgrp3', 'rfpl2', 'znf419', 'dnajc18', 'sptlc3', 'cavin2', 'bpifa1', 'slc25a44', 'il1rl1', 'agtrap', 'or52i1', 'syne4', 'pygm', 'sts', 'c1orf146', 'pcna', 'eif4ebp3', 'trappc10', 'sytl4', 'mc5r', 'trim60', 'ifi16', 'yy1ap1', 'ifne', 'tafa1', 'cdkl4', 'dhx40', 'zfhx2', 'sart1', 'eid2', 'ccnyl1', 'ackr2', 'igsf1', 'ptk2b', 'slco2a1', 'utp23', 'c1orf210', 'cln3', 'arrb2', 'gpt2', 'ethe1', 'morn3', 'c21orf58', 'pcsk1n', 'tap1', 'mitf', 'luc7l3', 'cetn2', 'cd53', 'kcp', 'or52a5', 'wt1', 'slbp', 'mios', 'cops4', 'defb135', 'ppat', 'sstr5', 'spdye4', 'stk35', 'trpc3', 'champ1', 'tpgs2', 'ehd3', 'sufu', 'or5d3p', 'itpka', 'tmem186', 'znf728', 'klk4', 'atp13a5', 'ptprq', 'trerf1', 'ctsh', 'sel1l2', 'pisd', 'or10d3', 'dnaaf2', 'unc13d', 'adgrf3', 'crygs', 'kcnab3', 'znf488', 'ocln', 'cdc6', 'gjd4', 'svil', 'hspb2', 'nubpl', 'msl1', 'hdx', 'tmem150c', 'pigk', 'tppp3', 'rsrp1', 'ccr9', 'pde6d', 'wif1', 'nlrp13', 'znf704', 'cacng5', 'frk', 'rcc2', 'neto1', 'olig3', 'hormad1', 'gask1a', 'gnat3', 'srgn', 'fcn2', 'psmb7', 'mfsd13a', 'wdhd1', 'retn', 'icam3', 'scg5', 'ncbp3', 'bcl2l11', 'rbmx2', 'awat2', 'inpp5b', 'drosha', 'clcn1', 'erh', 'fer1l5', 'cbx7', 'smox', 'foxq1', 'fam219a', 'thsd8', 'pttg1ip', 'rbmx', 'znf696', 'amz1', 'dok6', 'wfdc3', 'ska1', 'selenon', 'ager', 'tubb8', 'htr4', 'trim62', 'ddx39a', 'apom', 'accs', 'arpc5l', 'coq9', 'col9a3', 'dync2li1', 'ttc26', 'fggy', 'vps9d1', 'hspe1', 'rabggtb', 'pck2', 'extl3', 'ctsz', 'smtnl1', 'znf492', 'crlf2', 'fnip2', 'ppp2r5c', 'rnaset2', 'oas3', 'galnt4', 'ahsa1', 'vat1', 'rtkn', 'mrto4', 'slc10a4', 'scyl1', 'sycn', 'fkbpl', 'ddx46', 'dmrta1', 'fbln5', 'ktn1', 'hectd4', 'znf45', 'chchd2', 'cnrip1', 'prdx1', 'trabd', 'pnma1', 'nkiras1', 'wasl', 'nat1', 'pimreg', 'miip', 'bmp8a', 'kir2dl4', 'hdac9', 'baiap3', 'ccr8', 'ccna1', 'or2v1', 'pacrg', 'crp', 'xrcc4', 'fscn1', 'or4d5', 'pcdhga11', 'hoxd13', 'srsf1', 'fdxacb1', 'prmt6', 'ptbp1', 'tpd52l2', 'sec13', 'dync1i2', 'or4q3', 'calm3', 'aqp11', 'vwa2', 'st7', 'ccdc179', 'gadd45gip1', 'c1galt1', 'or6s1', 'pex16', 'frmd6', 'jcad', 'tc2n', 'csmd2', 'cited4', 'gpr4', 'mtf2', 'tmem200a', 'epsti1', 'lce3d', 'adcy3', 'spag1', 'frmpd2', 'hmox2', 'tbc1d8b', 'pcdhb11', 'gm2a', 'slc22a3', 'traf2', 'scmh1', 'pcgf1', 'wnk2', 'cd1b', 'adgrb3', 'zw10', 'or1c1', 'psmg3', 'phox2b', 'spata5', 'c5ar2', 'znf575', 'dmrt2', 'map1lc3c', 'ptrh2', 'rasal3', 'olfm1', 'kitlg', 'zfp28', 'nudc', 'lypd1', 'mapk6', 'ifitm1', 'slc9a8', 'sdc2', 'tnfrsf11b', 'slc30a1', 'slain1', 'slc45a3', 'eif4a3', 'txndc2', 'specc1l', 'zg16', 'bcl2a1', 'mapkapk2', 'nr1i3', 'mapkbp1', 'usp11', 'ska3', 'c11orf95', 'gstcd', 'il25', 'ppp4r3a', 'wipi1', 'asb4', 'fam180b', 'ttll4', 'eef1akmt4', 'rnf19a', 'hsd3b2', 'sde2', 'lrrc53', 'aqp2', 'tnfrsf12a', 'pou6f1', 'armc10', 'ptpn13', 'tbx2', 'fezf1', 'tmem132b', 'pde6c', 'chst14', 'lrrc18', 'stmn1', 'or51b5', 'tada2a', 'gpatch1', 'magee2', 'il2ra', 'pusl1', 'ppp1r3d', 'fam240a', 'c7orf25', 'or4d11', 'huwe1', 'arih2', 'naaladl2', 'isca1', 'gdf15', 'vgll4', 'ubash3a', 'sh3pxd2b', 'fam3c', 'dpep3', 'or8h3', 'slco2b1', 'aldh1l2', 'rims1', 'fam228a', 'or10c1', 'ehd2', 'ttl', 'znf630', 'nol8', 'taf11l8', 'il10', 'msi1', 'ninl', 'zfy', 'sell', 'cttnbp2', 'cyp2b6', 'hspa8', 'slc35a3', 'lcn12', 'arhgef17', 'en1', 'ltc4s', 'or11g2', 'ripk4', 'radil', 'tfpi2', 'fabp1', 'ppp6r1', 'card11', 'pidd1', 'ankrd11', 'ttc33', 'ncbp1', 'mt-nd3', 'fgfbp3', 'tsga10', 'tyw1', 'klhl28', 'sdr39u1', 'dnajb8', 'or52l1', 'sucla2', 'hoxc8', 'gpr141', 'ctdsp2', 'wsb2', 'sppl3', 'mmp16', 'coro7', 'wdr81', 'acsf3', 'grwd1', 'ttc38', 'pdzd8', 'itpripl2', 'gtf3c1', 'gpr156', 'olfm2', 'alpk1', 'sox12', 'nrap', 'tgif2ly', 'fam189a2', 'fpr1', 'dnah3', 'ndufb11', 'bpifb2', 'e2f3', 'ctdspl', 'slc52a2', 'epn2', 'cd9', 'tex51', 'srsf3', 'zdhhc24', 'lrrc6', 'tmem174', 'ca5b', 'otub2', 'ints14', 'sned1', 'csnk1g2', 'cd247', 'hesx1', 'grin3a', 'sez6', 'dnajc5', 'tlcd3a', 'zswim9', 'matn2', 'asxl3', 'dnmbp', 'etfbkmt', 'nipal1', 'agap3', 'cdx4', 'vps29', 'lipn', 'med1', 'znf397', 'dram2', 'c1orf74', 'kit', 'exoc5', 'ltbp1', 'cetp', 'tbc1d10c', 'cap1', 'trim31', 'mapk4', 'slc39a6', 'ip6k3', 'snw1', 'bmp5', 'clec2a', 'snx20', 'hdac8', 'hes2', 'ppwd1', 'rspo3', 'or8s1', 'adgrl1', 'ccdc201', 'lrba', 'gabarap', 'echdc1', 'prss3', 'alpl', 'deptor', 'krt6a', 'idi1', 'cela2b', 'surf6', 'arf1', 'creld1', 'rapgef5', 'krtap10-1', 'arl6ip1', 'rnpep', 'magec2', 'cbx3', 'eya3', 'psca', 'atp6v1h', 'pcnx1', 'rbm20', 'tmem247', 'jchain', 'grin2b', 'foxo6', 'reg1a', 'smoc2', 'slc4a11', 'pgk1', 'enosf1', 'pdlim7', 'lcmt2', 'gtdc1', 'znf705g', 'afdn', 'ly6g6f', 'phtf2', 'rbm24', 'gatm', 'mcm8', 'chic2', 'abt1', 'bend5', 'gpr26', 'plcxd3', 'mmp21', 'or2t10', 'picalm', 'rufy1', 'orc6', 'sds', 'pnldc1', 'tjp1', 'serpind1', 'rnf214', 'gse1', 'msln', 'ccbe1', 'gipr', 'pibf1', 'grem1', 'elk3', 'ralgps2', 'c11orf80', 'rgma', 'ctdp1', 'arpc2', 'rorc', 'pde8b', 'panx1', 'iqck', 'cnnm2', 'rabgef1', 'aebp2', 'spink14', 'naa25', 'rec8', 'cyp4b1', 'usp3', 'klkb1', 'stx8', 'lmo1', 'c1orf109', 'syt11', 'klc2', 'ap3m1', 'lpar6', 'sap30bp', 'cd7', 'rab26', 'pigu', 'apoh', 'ugt2a2', 'shisal1', 'ccdc12', 'ppp6r2', 'st3gal5', 'fbxo38', 'rgs3', 'tmem211', 'cpo', 'mprip', 'or2l5', 'dock5', 'cdc26', 'plaat4', 'cul7', 'taf3', 'znf425', 'c2cd5', 'hapln2', 'krtap29-1', 'znf829', 'scand1', 'nlgn3', 'sass6', 'cnppd1', 'myl12a', 'b3galt4', 'itga4', 'catsperz', 'or11h4', 'eif2ak1', 'lmod2', 'krtap19-8', 'tor4a', 'slc38a10', 'lrp8', 'gpnmb', 'eomes', 'tcp11x1', 'etnk2', 'or14j1', 'zmat5', 'cask', 'c13orf46', 'hsd17b1', 'rer1', 'fcrla', 'gpr150', 'cyb5r4', 'cabp4', 'ovol2', 'tnfrsf4', 'cldn7', 'dcdc2', 'smurf2', 'naalad2', 'zmynd8', 'hmmr', 'edc4', 'yipf2', 'nudt1', 'hsd17b11', 'dis3', 'nanogp8', 'rock2', 'kdm5b', 'trmt10c', 'tmem151a', 'atp1a1', 'thumpd1', 'erg28', 'or7d4', 'zbtb3', 'ndn', 'osbpl3', 'dppa5', 'prps1', 'ankrd42', 'csnk2a2', 'tnfrsf19', 'npvf', 'lpin1', 'sall2', 'rbm33', 'vil1', 'socs2', 'hspbap1', 'or6v1', 'klf18', 'haus4', 'mvp', 'nr1i2', 'znf724', 'c19orf18', 'mageb3', 'kcnj14', 'rbbp8', 'cebpg', 'znf143', 'mfge8', 'tec', 'efna3', 'baz1a', 'armh1', 'tmem63a', 'nxnl1', 'fech', 'ccdc80', 'ikbke', 'pnliprp3', 'stap2', 'sugp1', 'sh3tc2', 'cfb', 'creb3l3', 'opn1lw', 'invs', 'il19', 'ccdc197', 'hm13', 'or4e1', 'ttc24', 'mthfd1l', 'pip4k2a', 'echdc3', 'ap3m2', 'tmem202', 'cd36', 'mlec', 'gpc4', 'znf517', 'ercc8', 'klf1', 'itga10', 'krtcap3', 'ptpa', 'donson', 'ripply2', 'ly75', 'fga', 'c9orf16', 'tmem204', 'wdr87', 'hoxd9', 'hsd17b13', 'olfml2a', 'ubn2', 'cdc42ep5', 'mcmbp', 'slc25a27', 'them5', 'ttc21b', 'comp', 'atp6v1e2', 'ahsg', 'ube2q2', 'txndc12', 'tmem183a', 'fra10ac1', 'adgra1', 'anks3', 'fabp12', 'ttc30a', 'itga2', 'ins', 'sv2c', 'cyth1', 'sertad2', 'copg1', 'abcg4', 'thyn1', 'rab2a', 'ttyh1', 'mpst', 'adar', 'btbd16', 'parp11', 'ush1g', 'dsc1', 'cdkn2c', 'ifnlr1', 'r3hdm1', 'c3orf33', 'fbxo32', 'mtbp', 'pramef6', 'vta1', 'mkrn2', 'cela1', 'prkch', 'pak5', 'dach2', 'tnmd', 'helq', 'slc24a3', 'mgat5b', 'cst7', 'mau2', 'ctif', 'or7g2', 'lcn15', 'ccn1', 'usp38', 'usp14', 'efr3b', 'gfm1', 'cog5', 'nfkbiz', 'stab2', 'ankrd29', 'ccdc85a', 'coq10b', 'alpk3', 'ppp1r3b', 'llgl2', 'hmgn5', 'med29', 'gdf7', 'mis12', 'mlycd', 'faf1', 'stam2', 'map3k11', 'tmeff2', 'slc25a17', 'spin4', 'ccnl1', 'scaf11', 'plekhf1', 'or6c3', 'eftud2', 'arhgap32', 'flg2', 'cox7a2', 'dctn6', 'rnf128', 'mapk8ip3', 'or2t4', 'vps8', 'epgn', 'znf141', 'znf25', 'rdh16', 'ckap2l', 'herpud1', 'rtn1', 'irgc', 'asphd2', 'toe1', 'tet1', 'ankrd39', 'lsr', 'atr', 'tgfa', 'or10v1', 'pcdha5', 'snai2', 'ndel1', 'brf2', 'slirp', 'ndufa7', 'sfpq', 'rnf34', 'mcts1', 'angptl3', 'rbm5', 'ccdc60', 'gmpr2', 'cherp', 'asxl1', 'riox1', 'unc119b', 'c4orf51', 'cldn4', 'c5orf22', 'plekha7', 'dap3', 'ccdc194', 'or52j3', 'qsox1', 'klhl22', 'galnt17', 'myl6b', 'hoxb7', 'zfand2a', 'ppp2ca', 'bhlhe40', 'usp4', 'golga1', 'cavin3', 'l3mbtl2', 'ctso', 'nrg3', 'abcc5', 'ccdc158', 'babam2', 'orai3', 'higd1c', 'was', 'pdcd7', 'cdrt4', 'hpn', 'ppp4r3b', 'tbx18', 'thsd1', 'cfap57', 'sh3rf1', 'rnase8', 'csnk1d', 'pogz', 'ap5s1', 'klk9', 'zswim5', 'golph3', 'il15', 'golga8o', 'tk2', 'zwint', 'adipor2', 'ubald1', 'or2t6', 'micall1', 'nbpf11', 'mfap3l', 'plekhg5', 'isoc2', 'kctd3', 'nsf', 'acsbg2', 'myo5a', 'gemin4', 'poli', 'trim28', 'il21', 'rptor', 'asic5', 'armc3', 'txnl4b', 'abcf3', 'asl', 'c10orf143', 'tmeff1', 'rab12', 'spata20', 'tmem18', 'fam166b', 'cyp51a1', 'nt5c', 'phf1', 'prepl', 'ush2a', 'znf786', 'upf2', 'mtx3', 'pola2', 'hmx1', 'trhr', 'muc2', 'phc1', 'hrk', 'utp6', 'enpp4', 'ezhip', 'fbxo44', 'pnck', 'adgrg6', 'gimap1', 'alg6', 'p3h2', 'hmg20b', 'leprotl1', 'adamtsl2', 'zpbp', 'mecp2', 'siglec15', 'nfe2l3', 'dmd', 'znf394', 'c3orf38', 'tas2r30', 'fam217b', 'clns1a', 'alox12', 'katnal1', 'heph', 'ptafr', 'tyms', 'ltf', 'inka1', 'tbc1d2', 'plekho2', 'or5f1', 'znf888', 'lamtor2', 'mtrf1', 'slc10a2', 'c1orf127', 'mettl14', 'lyrm4', 'larp4b', 'fuca1', 'asrgl1', 'ddx51', 'or2a2', 'dact1', 'arf5', 'arrdc1', 'ct55', 'ddx60', 'tnrc6c', 'tex38', 'atg9b', 'spata31a5', 'elovl2', 'rabep2', 'flot2', 'gimap5', 'armc12', 'sftpa1', 'lrrn1', 'erp44', 'slc25a5', 'clu', 'ago3', 'greb1l', 'gpr143', 'nt5dc1', 'kcnh7', 'cyp2a13', 'fhdc1', 'fam111a', 'dusp28', 'c11orf71', 'hlcs', 'mpl', 'taf12', 'zfyve28', 'wnk1', 'ccl14', 'erfl', 'mtmr7', 'scnn1b', 'kdm4d', 'dnajc21', 'ampd3', 'thrap3', 'vat1l', 'ndrg1', 'ptx3', 'dgka', 'slc41a2', 'lilrb2', 'smarcd3', 'swi5', 'patl2', 'dsel', 'mob3b', 'linc02218', 'pcyt1b', 'pofut2', 'ets1', 'spns2', 'mical3', 'ifnw1', 'chad', 'ddx3x', 'acadm', 'gjb6', 'mettl8', 'ceacam5', 'asb7', 'acp4', 'znf33b', 'taf11l14', 'rsph9', 'eral1', 'ankhd1', 'cyb5a', 'nudt12', 'tcirg1', 'uty', 'surf4', 'cox4i2', 'ppp1r35', 'gnat2', 'asf1b', 'ccdc106', 'pkp4', 'ndufa4l2', 'cryz', 'ocstamp', 'ywhae', 'zc4h2', 'rfng', 'pabpc1l2a', 'or2t33', 'tmem59l', 'mmp2', 'gnpat', 'dclre1c', 'plp2', 'lin7c', 'cab39', 'tmem161b', 'gmds', 'ccdc85b', 'st6galnac1', 'rab11fip3', 'vapa', 'lrrtm1', 'arhgef40', 'znf677', 'hoxd8', 'ca3', 'wbp4', 'pcdh1', 'gcm1', 'erich5', 'cdnf', 'zkscan3', 'znf519', 'mov10', 'znf502', 'ccl24', 'acsl1', 'herc1', 'pou4f2', 'ewsr1', 'ifna21', 'tspan12', 'rora', 'plaur', 'znf830', 'ndufv3', 'renbp', 'gabrb2', 'qser1', 'tmem116', 'igsf3', 'znf500', 'pxt1', 'gria1', 'stpg3', 'acsm2b', 'cenpn', 'or1i1', 'cep104', 'arl6ip6', 'dnai1', 'rgs8', 'ascl4', 'papss2', 'ube2g1', 'umodl1', 'robo2', 'tp53aip1', 'uqcrhl', 'nudt21', 'sys1', 'unc5b', 'uqcrq', 'or5d13', 'lpcat4', 'cdk3', 'nudt9', 'cldn17', 'cbr3', 'kiaa0586', 'nipsnap2', 'clrn3', 'lmo3', 'plekhh1', 'morf4l1', 'cirbp', 'shroom3', 'sra1', 'sowahd', 'gfral', 'cd74', 'trim36', 'cdca4', 'c2cd4b', 'serpinb6', 'zscan16', 'tbc1d7', 'btbd1', 'znf799', 'siglec7', 'opa1', 'chkb', 'snx33', 'bnip3l', 'prmt5', 'rnf138', 'rnf14', 'clpx', 'zfand3', 'or4s1', 'shprh', 'mob2', 'dusp13', 'znf695', 'bsph1', 'myh14', 'nipsnap1', 'kif16b', 'clcn2', 'chrnb3', 'anxa3', 'efcab12', 'kncn', 'vwc2l', 'bspry', 'golga2', 'osbp', 'cideb', 'ttc9', 'ttc16', 'abhd4', 'dtd1', 'cmtm6', 'akr1b1', 'zpld1', 'c12orf60', 'secisbp2l', 'faap100', 'trmt1l', 'kank3', 'fam53a', 'rxfp3', 'col11a2', 'umad1', 'sox3', 'fmnl3', 'kalrn', 'slc46a2', 'mllt3', 'hspa13', 'trim27', 'dmxl2', 'lix1l', 'pttg1', 'pcnx2', 'slc39a1', 'shroom4', 'sfrp2', 'sh3yl1', 'pdcd1', 'jmy', 'kcns2', 'ctnna1', 'coil', 'usp13', 'bnip5', 'acot1', 'aff3', 'nit1', 'me2', 'golt1a', 'zeb2', 'slc43a3', 'map1lc3b', 'cacng4', 'zc3h3', 'afap1', 'gsx2', 'pnpo', 'rundc3a', 'or2t34', 'prkcq', 'tex13b', 'ass1', 'sec16b', 'krt1', 'znf626', 'csmd1', 'dtnbp1', 'defb110', 'pold1', 'postn', 'trpc6', 'ero1a', 'rheb', 'acsm2a', 'ube2l5', 'btbd2', 'hnrnpdl', 'aven', 'prdm14', 'yap1', 'klf17', 'efcc1', 'sln', 'krtap4-1', 'alg3', 'timm50', 'uba7', 'dab1', 'stk19', 'hip1', 'prf1', 'lingo1', 'ccdc148', 'ugt8', 'insl6', 'or13c4', 'mboat4', 'amn1', 'klhl10', 'mybl2', 'mybpc1', 'bex3', 'pgap1', 'usp9x', 'jag1', 'dhrs2', 'hoxd11', 'epha6', 'or8d4', 'nxph3', 'foxo1', 'ddx59', 'defb116', 'cachd1', 'c14orf132', 'zmym4', 'ndufb5', 'hhla2', 'ucp2', 'cblif', 'wwp1', 'dhx33', 'mark4', 'chdh', 'hspa9', 'mtrf1l', 'sparcl1', 'ankfy1', 'trim47', 'znf738', 'tox', 'mpo', 'arc', 'rai1', 'c4orf3', 'gtf2h5', 'znf491', 'spata31d3', 'mas1l', 'chchd4', 'fgd6', 'ogn', 'ankrd24', 'foxo4', 'a2m', 'npc1', 'ripk2', 'spink13', 'pde2a', 'or4d1', 'smim17', 'ubl4b', 'vcp', 'sphkap', 'lynx1', 'jph2', 'dpm1', 'sfi1', 'chst15', 'itgb7', 'dtx1', 'pkp1', 'fn3k', 'fam180a', 'cuedc2', 'rhbdf1', 'rfc4', 'por', 'slc35a4', 'crx', 'enox2', 'col22a1', 'ca10', 'mak', 'mlf1', 'ttc37', 'rbmxl3', 'gstt2b', 'btbd11', 'cacna1g', 'spink6', 'nlrp6', 'b3gntl1', 'hlf', 'tmem267', 'or4f6', 'ugt3a1', 'sumf2', 'pawr', 'slc9a3r2', 'cpne5', 'fgd3', 'amigo1', 'ubr2', 'cycs', 'supt3h', 'ccar1', 'fam120a', 'minar1', 'hddc3', 'slc30a3', 'myh11', 'gsta5', 'mpig6b', 'decr1', 'mia', 'myo7b', 'iqsec1', 'pbov1', 'prune2', 'hnrnpu', 'or5ar1', 'coq2', 'rnf10', 'znf827', 'plk1', 'pum3', 'rab27b', 'senp5', 'grik1', 'wdr47', 'ciart', 'gnb3', 'slc6a13', 'olfml3', 'c4orf36', 'scg3', 'htr2c', 'il13ra1', 'msx2', 'mesp1', 'ambn', 'iqub', 'gimap6', 'galk2', 'misp', 'api5', 'fam78b', 'rc3h1', 'cyth4', 'prdm15', 'slc22a12', 'nabp2', 'srp54', 'trim35', 'tada2b', 'nutm2a', 'c16orf74', 'tmem234', 'snx17', 'pcdh19', 'purg', 'haao', 'osr2', 'klhdc2', 'znf710', 'pcdha11', 'mov10l1', 'gnrh2', 'trrap', 'psph', 'zacn', 'wdr1', 'sgms1', 'atp5mgl', 'chd5', 'gadl1', 'tomm20l', 'tcf3', 'cd47', 'tmc8', 'st6galnac5', 'prpsap1', 'ly6g5c', 'rbl2', 'nsdhl', 'cd226', 'trub1', 'lrrc70', 'cdk17', 'klc1', 'serpinb2', 'med31', 'kiaa1328', 'cd79a', 'gh1', 'ap2b1', 'dmap1', 'pkib', 'mad2l2', 'trim42', 'nme9', 'peli3', 'bbs10', 'kremen2', 'rcn1', 'sun5', 'mepe', 'gucy2c', 'pfdn6', 'rab41', 'smim10l2b', 'ttc4', 'prss36', 'snf8', 'mt4', 'mmaa', 'psapl1', 'ppid', 'ppil2', 'arhgef15', 'retreg2', 'stag3', 'dnajc9', 'atxn7l3b', 'parvb', 'mllt11', 'hap1', 'tspan31', 'gzmm', 'mogat2', 'gask1b', 'or12d2', 'ndufb10', 'mafg', 'krtap23-1', 'epm2aip1', 'dazap1', 'evl', 'gramd1a', 'ephb3', 'abr', 'opn3', 'stox1', 'mvk', 'il1rapl1', 'per2', 'exoc3l4', 's100a7a', 'txnl4a', 'itgbl1', 'upk3b', 'vpreb1', 'gspt2', 'wdr33', 'pigc', 'or2ag2', 'hectd1', 'socs3', 'zc3h14', 'nsa2', 'sf3a1', 'mageb1', 'kiaa2013', 'ccdc42', 'atp6v0c', 'dnajc16', 'mtmr6', 'gpr63', 'dicer1', 'lman2l', 'ptges3l', 'tspo', 'cnot9', 'cox7b2', 'scgb3a1', 'atp13a4', 'dram1', 'vps33b', 'tmem135', 'rad51ap1', 'or8b12', 'rnase9', 'ncoa5', 'lta4h', 'etv5', 'hes4', 'wee2', 'znf596', 'fam104a', 'fnbp1l', 'cox7b', 'slc1a4', 'slc1a7', 'zdhhc15', 'cltcl1', 'prelid3a', 'crmp1', 'ugt1a3', 'fbn2', 'znf800', 'pnp', 'gtf2a1', 'ddx3y', 'drgx', 'mavs', 'pak1', 'rcor2', 'icam2', 'cnn3', 'nr3c2', 'izumo1r', 'brinp1', 'smoc1', 'cinp', 'cxorf58', 'gorasp2', 'or4s2', 'p2rx1', 'ttll5', 'usp37', 'pycr2', 'znf524', 'prtfdc1', 'mnx1', 'slc11a2', 'krtap10-8', 'pnmt', 'dcaf12l2', 'nmbr', 'kif4b', 'slc35f5', 'zcchc9', 'slfn12', 'skap2', 'fancm', 'prpf8', 'il1rapl2', 'triml2', 'psmc2', 'eps8l3', 'hoxa13', 'asip', 'plpp1', 'ctdnep1', 'tbc1d23', 'bloc1s2', 'fto', 'fancb', 'ccn4', 'kirrel1', 'prex2', 'c8orf58', 'or10t2', 'wdr5', 'cers6', 'agt', 'epg5', 'ano2', 'drd1', 'tnip1', 'mycbp2', 'khk', 'tmco5a', 'alox5ap', 'clk4', 'actn1', 'tslp', 'taf2', 'tbpl2', 'notch1', 'ddx50', 'urad', 'shfl', 'itch', 'reeld1', 'ripply3', 'il1rl2', 'nudt10', 'map1lc3a', 'spop', 'rasl11a', 'pla2g2e', 'stag1', 'tprg1', 'st3gal1', 'selenoi', 'sema6d', 'vps25', 'slc25a41', 'csrnp3', 'htra3', 'arpc1a', 'rnft2', 'pthlh', 'ehd4', 'galnt2', 'slitrk5', 'tmem210', 'diaph1', 'ano4', 'wdpcp', 'kat2b', 'baz1b', 'cdk13', 'mok', 'kcnd2', 'tmx3', 'xpnpep3', 'phf10', 'cul3', 'tbx21', 'or6m1', 'cyb561', 'c16orf91', 'cdk5rap3', 'palm', 'wdr24', 'mageh1', 'kcna5', 'prkcb', 'oxer1', 'spsb1', 'hs3st5', 'ahnak', 'dcun1d5', 'hgsnat', 'ccdc6', 'or9q2', 'nectin2', 'tspan6', 'zkscan8', 'mdk', 'neb', 'fam111b', 'mthfsd', 'tmem220', 'klrf2', 'cpxm1', 'tagln', 'fbrsl1', 'rflnb', 'tex12', 'pfdn4', 'tmprss2', 'gnb2', 'ppcs', 'pptc7', 'ubr4', 'pcdhga2', 'rpgrip1', 'nacad', 'tmbim6', 'glod4', 'or3a3', 'egfl7', 'acer1', 'taz', 'sorcs1', 'sh3rf2', 'rhbdl2', 'atad2b', 'fyco1', 'sirt4', 'mto1', 'frmd4a', 'gpr62', 'emp1', 'uba6', 'carmil1', 'hhip', 'slc11a1', 'mettl22', 'cgref1', 'tp53inp2', 'smarca2', 'stx11', 'incenp', 'ssr3', 'itpr1', 'bco1', 'or52r1', 'pop5', 'arhgef4', 'abi1', 'dlx6', 'pabpc3', 'uhrf2', 'uroc1', 'vtcn1', 'raet1l', 'fgd5', 'gipc3', 'tmem160', 'c17orf78', 'pfn3', 'gsta2', 'hacd1', 'rab10', 'fem1a', 'ccdc90b', 'znf181', 'abl2', 'adh1c', 'klhl23', 'lbh', 'e2f6', 'kbtbd2', 'myom3', 'has2', 'mapk1', 'atf2', 'pgghg', 'fchsd2', 'rnf187', 'tbxas1', 'itln2', 'cdh6', 'znf583', 'pi4ka', 'rfc3', 'gcc1', 'stard3', 'dlg2', 'cd200', 'tmem225b', 'tgm1', 'spred3', 'dcaf16', 'brd3os', 'tshz3', 'mtss1', 'rpel1', 'kcnj1', 'apaf1', 'ccl13', 'myocos', 'or8j3', 'bcas4', 'lcor', 'ccdc97', 'perm1', 'khdc1', 'fbxo43', 'apcs', 'frat1', 'lzts1', 'abcc11', 'ghdc', 'ehmt2', 'cyyr1', 'cnksr1', 'gimd1', 'fate1', 'fam181b', 'gramd1c', 'meiob', 'sit1', 'muc19', 'or2t27', 'coq8a', 'gnpda1', 'cdadc1', 'smpd3', 'fcmr', 'mbd2', 'zfp3', 'dolpp1', 'mmp19', 'ttll10', 'myo9b', 'znf326', 'znf175', 'prg2', 'egln2', 'ankrd37', 'armc2', 'arhgef6', 'tubgcp6', 'pip4k2b', 'znf215', 'strn3', 'slc25a53', 'mbl2', 'polr1b', 'mybpc3', 'eepd1', 'srpra', 'hoxa2', 'tmem74b', 'kif7', 'or5ap2', 'tyw5', 'fgfr3', 'snx31', 'tbp', 'ctrb2', 'pom121l12', 'serac1', 'abca1', 'prdm1', 'tarbp1', 'themis2', 'lamb2', 'p4htm', 'spty2d1', 'gcfc2', 'dnajc25', 'fmo2', 'runx1t1', 'sult4a1', 'fgf6', 'bmx', 'slc25a12', 'saysd1', 'mat2a', 'otog', 'amt', 'rhobtb3', 'mpv17l', 'smim13', 'gpr183', 'slc9c2', 'oxnad1', 'pdia6', 'myo1d', 'msh4', 'fbxw11', 'arpc5', 'eif2d', 'cdc23', 'pcbd1', 'ifitm5', 'st8sia5', 'slc6a8', 'ttc28', 'slc36a3', 'ppp1r27', 'slc7a4', 'prdm9', 'malt1', 'foxf2', 'glyatl1b', 'cab39l', 'znf385c', 'recql4', 'traf6', 'plod3', 'sgk3', 'rab11a', 'pgap3', 'or7g3', 'armcx2', 'lgi3', 'dhrs7c', 'fxr1', 'or4k15', 'saal1', 'apobec4', 'rorb', 'minpp1', 'fam160a2', 'phldb2', 'clcnkb', 'krbox4', 'or6n1', 'zar1l', 'prox1', 'znf415', 'bnc2', 'lad1', 'znf484', 'inppl1', 'eif5', 'dock3', 'tfam', 'endou', 'pgls', 'znf541', 'vgll2', 'ctxnd1', 'raly', 'armc5', 'kank2', 'c5orf24', 'fam193b', 'kcnh8', 'gnat1', 'grpel2', 'arl10', 'nr4a1', 'ascl1', 'hydin', 'psd', 'mroh9', 'il31', 'ralb', 'scd5', 'slc38a4', 'aff4', 'khsrp', 'wdr45', 'ing3', 'ptpmt1', 'actl7a', 'selenok', 'vps52', 'bace1', 'zbtb25', 'smim10', 'polh', 'cdc25c', 'pnpla7', 'znf83', 'rerg', 'slc41a3', 'trappc12', 'qrich1', 'tmem87b', 'cryab', 'csta', 'gpr155', 'parg', 'cox19', 'myrfl', 'hk2', 'atoh8', 'spg21', 'taf10', 'tesmin', 'lamp2', 'letmd1', 'tas2r14', 'or13f1', 'chchd6', 'lalba', 'krtap4-2', 'ston2', 'plxna3', 'ctrc', 'aldh4a1', 'brpf1', 'csnk2b', 'tas2r42', 'jdp2', 'znf236', 'suv39h1', 'yipf4', 'mmab', 'vps37b', 'il11', 'spem3', 'ube2v2', 'cyp2f1', 'tph1', 'lrrc45', 'shbg', 'ndufaf1', 'tnks2', 'nbea', 'stk36', 'myot', 'dnal4', 'fancf', 'slc7a8', 'adm5', 'atp2a1', 'dop1a', 'c8orf89', 'pcmt1', 'dnhd1', 'rbx1', 'nfya', 'lsm8', 'atp7a', 'vps26b', 'or6c75', 'golga6l7', 'slc4a9', 'dnph1', 'uchl1', 'ednra', 'anxa11', 'sf3a2', 'nrxn1', 'gclm', 'ccdc73', 'tdrd1', 'dnajb5', 'tspan14', 'abcc9', 'foxl1', 'znf446', 'tmem255b', 'mdc1', 'ephx2', 'pfas', 'cyb561a3', 'brix1', 'lrrc47', 'znf789', 'clic1', 'zup1', 'cox16', 'majin', 'il1rap', 'selenoh', 'ajuba', 'trim58', 'cox7c', 'ndrg2', 'bmper', 'sun2', 'mep1a', 'csnk1a1l', 'tet3', 'snd1', 'bmp4', 'gprin1', 'steap4', 'cpeb4', 'taf6', 'sgca', 'cdh26', 'rsad2', 'apol3', 'msx1', 'bola1', 'chchd10', 'nmd3', 'soat1', 'tmem208', 'hdac5', 'srsf7', 'map1s', 'csrp3', 'cntnap5', 'fstl3', 'znf99', 'pigh', 'macf1', 'st7l', 'cilp', 'vps37a', 'hcn1', 'ptprg', 'pramef1', 'rab38', 'c1ql3', 'eno4', 'znf668', 'clec3a', 'ranbp17', 'il23r', 'ndufb9', 'smagp', 'or1a2', 'pinlyp', 'or2b3', 'sobp', 'cldn8', 'arpc1b', 'smc3', 'fiz1', 'thrb', 'acad11', 'ly86', 'arms2', 'thumpd2', 'trpt1', 'rbck1', 'setdb1', 'pdgfrb', 'vps11', 'cul2', 'coq3', 'patj', 'pwwp2a', 'cpne1', 'gpr151', 'hinfp', 'siglec10', 'adra1b', 'rangrf', 'or4k14', 'dnaja4', 'il34', 'tulp3', 'btg1', 'vamp5', 'nell1', 'serpine2', 'apcdd1', 'lsm11', 'znf587b', 'pxk', 'nrn1', 'krt20', 'znf543', 'rassf1', 'ift43', 'smtn', 'mex3a', 'c7orf61', 'pikfyve', 'abcc12', 'zglp1', 'cntfr', 'ino80', 'r3hcc1', 'knstrn', 'myrf', 'atp8b1', 'eda2r', 'drd2', 'spty2d1os', 'slc1a6', 'magea12', 'fbxl13', 'tox4', 'znf410', 'znf862', 'tmc6', 'eif3g', 'twnk', 'mthfs', 'mterf1', 'etfa', 'mapkapk5', 'pigp', 'mindy4b', 'defb131b', 'ube2v1', 'or9i1', 'sdf2', 'tiam2', 'rragb', 'brms1l', 'st3gal2', 'kndc1', 'chi3l2', 'cenpx', 'akr1c4', 'tmem119', 'c6orf163', 'c1orf87', 'ubxn2a', 'aars2', 'tpk1', 'cxcl6', 'hs3st1', 'krt84', 'hes5', 'ntrk2', 'ppm1g', 'zfyve21', 'serpinb4', 'clca2', 'rcan2', 'pklr', 'faf2', 'gramd4', 'nsmce2', 'dus3l', 'cldn3', 'krtap20-3', 'mtmr1', 'emc2', 'znf532', 'lmo4', 'enkd1', 'phb2', 'hbz', 'fbxw9', 'podxl', 'hspa14', 'krt14', 'gp1bb', 'pdc', 'hcfc2', 'kcnb1', 'tcf15', 'upb1', 'rab19', 'ppp4r3c', 'txndc9', 'krbox1', 'dnaaf1', 'scn9a', 'ugt2b4', 'fut3', 'impg2', 'zbtb44', 'fam171a2', 'gnmt', 'bin2', 'pou5f1b', 'zfand4', 'ung', 'slc25a10', 'snrnp25', 'crtap', 'pak1ip1', 'endov', 'jtb', 'actg1', 'dnm2', 'chrna4', 'fbxl7', 'plppr1', 'pde6b', 'igfbpl1', 'ankrd2', 'plekhd1', 'rmi1', 'podnl1', 'fes', 'hhatl', 'coq5', 'csh2', 'clul1', 'tfrc', 'trdn', 'ffar4', 'ndfip2', 'f11r', 'nup37', 'il1b', 'slfnl1', 'agmo', 'timm44', 'limk2', 'gpx3', 'stc1', 'slc12a7', 'rab11fip2', 'osbpl8', 'epb41l5', 'taldo1', 'smim31', 'chfr', 'haus3', 'tmem50a', 'nudt16l1', 'spag5', 'naa40', 'esco1', 'tex50', 'gmfg', 'znf112', 'znf322', 'ap1s3', 'kcnk17', 'c6orf132', 'mfsd4b', 'adamts3', 'prkacg', 'slc2a14', 'prx', 'or2b6', 'exd1', 'coa8', 'wac', 'copz1', 'svopl', 'tunar', 'abhd16b', 'lpxn', 'rubcn', 'esam', 'mtmr11', 'dbf4b', 'crocc', 'ppp1cb', 'smim9', 'ngly1', 'ttpal', 'blnk', 'septin6', 'rxfp1', 'fcamr', 'ppfia4', 'ccdc192', 'c14orf119', 'tigar', 'akap3', 'mms22l', 'rnf133', 'lypd6b', 'rnh1', 'cdc45', 'colgalt2', 'fntb', 'hdac6', 'ugt1a5', 'nkx3-1', 'jph1', 'rnf103', 'noc3l', 'adam10', 'znf785', 'lyrm2', 'or13c3', 'cox8c', 'rassf8', 'ndor1', 'cxcr5', 'zbed1', 'tssk6', 'gpc6', 'fkbp6', 'ccdc71l', 'exoc8', 'arid5a', 'spink5', 'clcn5', 'stxbp5', 'dexi', 'tmem196', 'znf331', 'kcnk10', 'casp3', 'tent2', 'myl10', 'col14a1', 'cyp2c8', 'ifna6', 'usp7', 'nfam1', 'spint3', 'pygo1', 'chl1', 'lexm', 'pex11b', 'rassf10', 'umps', 'emilin3', 'tceal5', 'znf431', 'ccdc88b', 'smyd4', 'fcer1a', 'e2f4', 'znf92', 'eml6', 'luc7l', 'pmepa1', 'ebna1bp2', 'slc22a2', 'ranbp6', 'kdm1a', 'znf429', 'krtap19-6', 'selenom', 'gabbr2', 'cabp1', 'slc25a42', 'slc2a3', 'cers5', 'rfxank', 'pex2', 'znf850', 'klb', 'tac1', 'slc30a8', 'pank4', 'ak9', 'men1', 'lurap1l', 'rergl', 'naa16', 'ddx42', 'c11orf91', 'ceacam20', 'smarcd1', 'ndufs7', 'adamts10', 'sipa1l2', 'kat14', 'tmem222', 'tmem248', 'or2g2', 'cep295nl', 'borcs6', 'pdzk1ip1', 'or52d1', 'mob1a', 'znf74', 'hps4', 'timmdc1', 'shisa4', 'krtap7-1', 'anhx', 'tk1', 'stxbp2', 'agap1', 'osbpl10', 'mrc1', 'avp', 'rit1', 'tepsin', 'arl6', 'usp21', 'yipf7', 'dclre1b', 'fnip1', 'adarb1', 'nutm1', 'neu1', 'ankrd50', 'mipep', 'rbm12', 'abce1', 'chrm5', 'tmem72', 'crybb3', 'ptar1', 'gmpr', 'prmt1', 'ddx60l', 'slc18a2', 'usp1', 'abhd2', 'zbtb1', 'ferd3l', 'znf514', 'tfap2e', 'fabp6', 'dcdc2c', 'ankrd45', 'pik3r1', 'padi4', 'clec4g', 'srd5a3', 'psg9', 'ptchd1', 'zc2hc1c', 'tspyl2', 'wdr59', 'gcnt4', 'pigm', 'znf613', 'stau2', 'cdh7', 'ap4e1', 'wwc3', 'kat5', 'nphp4', 'cacnb4', 'pex5', 'srsf9', 'tubb1', 'slc30a10', 'nlrp5', 'pde12', 'cntn3', 'tssc4', 'srsf8', 'gpc5', 'wdr83os', 'tcf25', 'znf540', 'ppial4g', 'fam151b', 'nt5c2', 'map3k12', 'cox8a', 'napepld', 'gpr148', 'ctbp2', 'mad1l1', 'fuom', 'macrod1', 'hddc2', 'c2cd4d', 'srcap', 'agbl1', 'dnajb14', 'cdk5', 'pbx3', 'nova1', 'cxxc1', 'bclaf3', 'nmnat3', 'kirrel3', 'lpar4', 'akap14', 'mboat1', 'pip5k1a', 'cdk11a', 'camk2d', 'spsb2', 'atad3b', 'des', 'clint1', 'znf451', 'msra', 'ifna8', 'hbq1', 'ankrd62', 's100g', 'znf367', 'znf146', 'pdzd7', 'nphs1', 'dhrs11', 'nipa2', 'cfap100', 'zp2', 'mphosph6', 'akip1', 'ppm1f', 'taf15', 'sun1', 'acvr2b', 'tead1', 'lrrc3c', 'arhgdia', 'narf', 'rab40a', 'znf214', 'spata22', 'sult1c4', 'fam131c', 'gdpd2', 'zfp41', 'c9orf72', 'ankrd26', 'xrn2', 'b4galt6', 'nup62', 'trim32', 'piwil1', 'adgrg5', 'iqcf5', 'crybg1', 'bicd2', 'kif18a', 'zfpl1', 'fcer1g', 'krtap9-7', 'rhcg', 'il7r', 'notum', 'bmp8b', 'atp6v1e1', 'btn2a1', 'slc25a45', 'angpt1', 'gfi1b', 'cdk5rap1', 'tmem275', 'lce3a', 'dcaf1', 'ciita', 'sh2d1a', 'fam229a', 'gsdme', 'calcr', 'tgfb1', 'lgals7', 'sav1', 'psmd13', 'apba1', 'tfcp2l1', 'dusp5', 'fam177a1', 'map6d1', 'aldoc', 'fgd4', 'atad3a', 'znf124', 'chst12', 'nhsl1', 'insl3', 'pmm1', 'gmppb', 'c16orf46', 'cxxc4', 'tifab', 'asb10', 'tmem115', 'zdhhc18', 'ric8b', 'aplnr', 'plac8', 'orc3', 'vegfc', 'wdr55', 'selenbp1', 's100a1', 'trip13', 'pla2g4d', 'rab6a', 'csnk1a1', 'zcchc4', 'znf589', 'cfhr3', 'psip1', 'chrnd', 'znf727', 'cxcl1', 'or8k1', 'tmem179', 'slc2a4', 'znf574', 'fam162b', 'cd300lf', 'pank1', 'rad54l2', 'fbxw5', 'ubap2l', 'trim77', 'fcgr1b', 'lmntd1', 'gpcpd1', 'tspo2', 'chrdl2', 'cdh20', 'olig2', 'plin3', 'icam4', 'jak1', 'apbb1', 'pask', 'pzp', 'mtor', 'ube2e2', 'fam53c', 'b9d2', 'luzp2', 'ubxn8', 'dusp11', 'nmt2', 'ptger3', 'gipc1', 'dpep2nb', 'cwh43', 'kif5c', 'gpi', 'cdc37', 'mageb10', 'nadk', 'ms4a5', 'fcgr1a', 'exoc1l', 'c12orf50', 'slc25a39', 'nol12', 'cptp', 'egfr', 'cd83', 'aebp1', 'tcf24', 'or1l4', 'adad1', 'znf805', 'morn2', 'tmem38b', 'cacng2', 'ccdc200', 'dennd1a', 'dph2', 'ankrd28', 'ptpn23', 'txlng', 'cnga2', 'slc6a9', 'or5v1', 'klf3', 'smim28', 'otx1', 'ccdc107', 'borcs8', 'plgrkt', 'rbm10', 'slc25a43', 'cpne2', 'slc6a7', 'hoxb2', 'tmub2', 'cyp4f22', 'msl2', 'dlgap3', 'tmem184b', 'ik', 'sirpg', 'card19', 'gpr157', 'tas2r16', 'tsr2', 'arl2bp', 'echdc2', 'epb41l3', 'phf21b', 'sst', 'haspin', 'ghr', 'prkci', 'ccnj', 'arhgap18', 'usp25', 'cpeb1', 'zbed9', 'gbp1', 'tnfaip3', 'or5bs1p', 'slc30a4', 'stoml1', 'tmem109', 'filip1l', 'adgrf5', 'mfsd5', 'znf625', 'asb2', 'bag5', 'spint2', 'ctbs', 'ube2h', 'parvg', 'tfip11', 'p2rx3', 'ankef1', 'fgd2', 'sdhaf1', 'znf600', 'sorcs3', 'cthrc1', 'fam83d', 'atad1', 'apc2', 'tro', 'ensa', 'capn8', 'ube2j1', 'plpp7', 'wdr44', 'surf1', 'nckap1', 'hyal1', 'ca2', 'prdm6', 'shc4', 'siah2', 'galnt10', 'med9', 'farp2', 'lmln', 'gpbp1l1', 'prm2', 'bco2', 'tmod3', 'ndufa6', 'tmem33', 'pgbd1', 'rhoa', 'stac2', 'gch1', 'cyp4z1', 'apoo', 'cdk5r1', 'prune1', 'ndufb2', 'atl3', 'cox20', 'asmt', 'gsdmd', 'dnm1l', 'rnf112', 'znf474', 'dna2', 'nat8', 'klf2', 'znf689', 'asic1', 'rho', 'wdfy2', 'fbxo48', 'fam200a', 'emsy', 'tbc1d3b', 'plek', 'snx6', 'spem1', 'ttc13', 'tyr', 'rap1gds1', 'dbr1', 'col7a1', 'arhgef26', 'trmt9b', 'anks4b', 'lrguk', 'epha10', 'vegfa', 'mss51', 'pnpla6', 'naglu', 'taar1', 'frmd7', 'psmc3', 'krt34', 'mdfi', 'acly', 'pdzk1', 'cldn10', 'lamp5', 'slc25a13', 'mybphl', 'taok3', 'crk', 'unc80', 'tacr1', 'birc3', 'ints11', 'mcrip1', 'ythdf3', 'slc38a11', 'epha1', 'ggn', 'ccer1', 'ezr', 'dnah6', 'fbxo25', 'chmp7', 'tuba1b', 'ggnbp2', 'neu3', 'b3galnt1', 'six4', 'rtbdn', 'sdcbp', 'sap30l', 'nr0b2', 'hpcal1', 'cmtm8', 'slc38a5', 'smco3', 'ddx1', 'slamf7', 'gcsam', 'hsd17b12', 'serpinb3', 'dipk1c', 'rfx3', 'cmpk2', 'scfd1', 'glyatl2', 'sgtb', 'arhgap45', 'rpa2', 'catsper2', 'sfxn3', 'tmem25', 'gpx4', 'dprx', 'adgrl2', 'ramp1', 'izumo3', 'znf740', 'vps13c', 'sgcz', 'akap10', 'ugt2b10', 'irf1', 'mgat3', 'tctn3', 'mgst1', 'sri', 'defb128', 'uba5', 'znf518a', 'sf3b3', 'mplkip', 'gypc', 'bcan', 'cldn2', 'adgra3', 'golt1b', 'znf841', 'sox21', 'pramef27', 'manf', 'or5d14', 'pglyrp1', 'ifrd2', 'ints9', 'stx1b', 'atxn2l', 'srp9', 'hikeshi', 'hspa1a', 'lrch4', 'hmgb4', 'esr1', 'ndst2', 'osbpl5', 'igdcc3', 'adam30', 'cd163l1', 'cbln4', 'igsf6', 'slco5a1', 'xkr5', 'znf462', 'exosc7', 'pdia4', 'ascl5', 'kcnj9', 'tgif1', 'derpc', 'tmx4', 'znf317', 'nipal2', 'tekt3', 'dennd6a', 'm6pr', 'vgll3', 'clmp', 'bfar', 'gas2l3', 'septin2', 'snx5', 'trim8', 'atp5pd', 'homez', 'c15orf65', 'cln8', 'gsdmb', 'cylc1', 'elovl3', 'ccdc50', 'krtap5-7', 'ccl25', 'dipk2a', 'ccl8', 'taf9', 'coq10a', 'mmp11', 'mras', 'wdr74', 'tbxt', 'zan', 'fam171b', 'tmem177', 'slitrk3', 'nmrk2', 'eddm13', 'znf544', 'bcl2l1', 'arcn1', 'cnp', 'tnfrsf13c', 'ankrd63', 'mettl16', 'efhd2', 'gss', 'dppa2', 'cxcl5', 'susd3', 'lgr6', 'acsm4', 'tmem255a', 'raver2', 'gfod2', 'znf354b', 'ccdc124', 'chrnb4', 'brd1', 'chtop', 'uqcrc2', 'gcna', 'dcc', 'pfn4', 'cyp11b1', 'cntnap3', 'lrp2', 'tln2', 'or5m9', 'aldh3b2', 'btnl3', 'gria4', 'or4k17', 'snx11', 'fadd', 'ess2', 'lrrc37b', 'kcnj15', 'znf416', 'cdca8', 'fsip1', 'tbrg4', 'syt1', 'rbbp8nl', 'tm9sf4', 'nkain4', 'pgrmc1', 'ankk1', 'lamc3', 'lcnl1', 'snrpg', 'glg1', 'dct', 'vps54', 'prrg3', 'dnase1', 'polr3e', 'znf879', 'sprr3', 'or52k2', 'myo9a', 'bloc1s3', 'clcn7', 'trappc1', 'gbe1', 'rwdd4', 'adig', 'unc13b', 'sdc1', 'naa11', 'gzmh', 'nae1', 'mterf3', 'exph5', 'gpr153', 'gprc5b', 'dhodh', 'ndufb8', 'ybx2', 'tbc1d22a', 'cav1', 'mfap1', 'tacstd2', 'tmem132e', 'ucp1', 'otop3', 'gcc2', 'ros1', 'abcc1', 'il12a', 'lrrc72', 'ccdc17', 'parn', 'akap13', 'fermt2', 'vegfd', 'mmp3', 'akr1c8p', 'zfand2b', 'hoxa10', 'dlgap2', 'lrp12', 'cldn34', 'neurog1', 'khdc4', 'rhot2', 'fgf8', 'fgf10', 'bend6', 'miga1', 'lhfpl4', 'ifnar2', 'acod1', 'kcnh6', 'emc4', 'zdhhc19', 'arv1', 'jagn1', 'espnl', 'lrrc58', 'robo4', 'ptpn2', 'cep128', 'or51a4', 'atg7', 'znf382', 'cacng8', 'aga', 'fgf18', 'zfp36l2', 'hnrnpa2b1', 'rpp38', 'btaf1', 'irf7', 'traf3', 'trmt6', 'mb', 'cd5l', 'ift46', 'tagap', 'crhr2', 'oca2', 'rit2', 'dusp4', 'krtap11-1', 'sf3b2', 'ltb4r2', 'dpep1', 'fstl1', 'selp', 'gkn2', 'mertk', 'grip2', 'cdsn', 'micu3', 'adam7', 'dmrt1', 'dnase1l1', 'pnpla5', 'chrna9', 'uba3', 'wfdc10a', 'fbxo40', 'bcl7c', 'fbxo27', 'ctnnal1', 'kank1', 'otc', 'cntn4', 'lama3', 'cby3', 'rsbn1l', 'inafm1', 'ppp1r11', 'tigd7', 'kcnh4', 'moap1', 'atp6v0d1', 'rfpl4b', 'adgre3', 'gp6', 'ramp2', 'ino80d', 'angptl4', 'lrrc73', 'puf60', 'sgo2', 'frmd5', 'znf772', 'sel1l3', 'ppfibp2', 'tbc1d12', 'fblim1', 'nek10', 'ankdd1b', 'prcc', 'c2orf68', 'ppp1r14c', 'zc3hav1', 'glipr1', 'angptl8', 'kiaa1614', 'fhl2', 'eps15', 'ttc30b', 'gk2', 'gfm2', 'usb1', 'rxra', 'cd300ld', 'atp5pf', 'myo1c', 'tmem131', 'csf2', 'cdcp2', 'ca13', 'gpr68', 'znf260', 'a4galt', 'c1orf21', 'aloxe3', 'nhlrc3', 'tent5c', 'or1b1', 'hcst', 'pcdhgc5', 'iyd', 'pate2', 'kcng1', 'clmn', 'spata21', 'ptprn2', 'blmh', 'txndc5', 'rabl3', 'btla', 'shox2', 'klhl31', 'abca6', 'f9', 'setmar', 'tcl1b', 'ttbk1', 'gimap4', 'f2', 'or10w1', 'slc28a3', 'sh3bp5', 'pla2g4e', 'ubac2', 'lrrc8a', 'lrfn3', 'ccdc88c', 'phf13', 'qtrt1', 'capns1', 'brca1', 'mab21l4', 'dsg4', 'aldh3b1', 'fdcsp', 'marco', 'scn2a', 'taf7', 'ppm1h', 'smad7', 'scap', 'pla2g12a', 'necab2', 'pax8', 'nipbl', 'pdha1', 'jade3', 'pdzrn3', 'c12orf43', 'cdc42se1', 'cytl1', 'nhlrc4', 'slc29a2', 'psmf1', 'ddah2', 'hrct1', 'ergic1', 'ndufb3', 'or4c6', 'hnrnpul1', 'foxl2nb', 'tbc1d5', 'a1cf', 'pcdh10', 'ak1', 'ifng', 'peg3', 'sdf4', 'tmem97', 'lrrc46', 'smo', 'eid2b', 'qrsl1', 'krtap4-11', 'smtnl2', 'baiap2', 'tfr2', 'lix1', 'htatsf1', 'hook1', 'lactb2', 'mfsd9', 'zfp37', 'znf428', 'mrgprd', 'rdh11', 'tlr7', 'hoxa1', 'lilrb4', 'naa35', 'nme2', 'pla2g4b', 'myh7', 'mien1', 'mesp2', 'hsd17b14', 'cck', 'tmco2', 'rnf5', 'c1qtnf6', 'atp11c', 'fdx1', 'p3h1', 'klhl26', 'bmp15', 'clic2', 'usp19', 'pef1', 'dppa4', 'clstn1', 'hal', 'grb14', 'spdye6', 'gata4', 'eml4', 'fbp2', 'alox12b', 'hid1', 's1pr5', 'trim16', 'lrrc2', 'sult1b1', 'mgat1', 'rtl8c', 'rnf146', 'wnk3', 'pitpnb', 'nphp1', 'polb', 'htr3e', 'pld5', 'dennd1c', 'ap3d1', 'rapsn', 'krtap15-1', 'rassf5', 'smim33', 'syt8', 'hrh1', 'fcrl3', 'casp9', 'gaa', 'sh2d6', 'ssx3', 'kcnb2', 'mafk', 'atp6v1g1', 'lgi1', 'ube2n', 'smarcd2', 'p3h4', 'atrip', 'lgsn', 'heatr5b', 'ehhadh', 'zfp64', 'snap47', 'ccdc54', 'kcnj3', 'kif2a', 'epha4', 'myl12b', 'znf516', 'ccn6', 'tulp4', 'tcp11l1', 'abcb11', 'exoc3', 'lsm6', 'osbpl6', 'tex101', 'ly6d', 'rel', 'prdm7', 'ncr1', 'zbtb49', 'slc39a5', 'c16orf92', 'kif3b', 'armcx4', 'fat1', 'lman2', 'ino80b', 'pias3', 'gkn1', 'ppp1r9b', 'foxj1', 'sgcd', 'slc17a8', 'ms4a18', 'cstf1', 'defb129', 'ccdc188', 'usp27x', 'cfap77', 'npas1', 'mpz', 'tmprss11b', 'mcidas', 'nfkbib', 'klk2', 'dmac2', 'col6a3', 'retreg1', 'adamts1', 'n6amt1', 'sec14l5', 'mtfr1', 'rgs18', 'kiaa1522', 'cdhr5', 'poln', 'dok7', 'ptprr', 'srf', 'map2k2', 'sh2d3c', 'ckb', 'trpm4', 'sat2', 'eipr1', 'znf257', 'slc9a4', 'phyh', 'trpv2', 'scrn1', 'cd44', 'kptn', 'ndp', 'krtap5-1', 'tecta', 'nup42', 'tmem184a', 'agpat2', 'muc12', 'tead2', 'rmnd1', 'etaa1', 'dph7', 'guk1', 'cnnm4', 'prrt1', 'tpm2', 'kcnj10', 'cntn2', 'calm1', 'hsdl2', 'wdfy3', 'pigf', 'fndc4', 'ly6e', 'dpp4', 'pik3c2g', 'map2k4', 'pfkfb1', 'gpr119', 'cgas', 'olfm3', 'otop1', 'gpn3', 'fli1', 'taar2', 'dsg2', 'ctrb1', 'krt24', 'nppc', 'psd4', 'trim33', 'crim1', 'c12orf4', 'arglu1', 'dhrs7', 'synm', 'blvrb', 'sdc4', 'ctsk', 'hlx', 'tecrl', 'smim1', 'fut10', 'syt3', 'rad51c', 'kcnab2', 'stx17', 'tssk1b', 'pole2', 'elp5', 'znf100', 'klrg1', 'klhl33', 'paqr6', 'boll', 'ckap2', 'sele', 'hbb', 'tns3', 'dbndd1', 'atad5', 'defb118', 'ugt3a2', 'sprr2a', 'dbndd2', 'fkbp1b', 'cadps2', 'ifna14', 'phox2a', 'chst5', 'pnma8b', 'c4orf19', 'adh6', 'pvrig', 'mvd', 'znf292', 'ctxn2', 'a4gnt', 'cuedc1', 'glt8d2', 'cmtr1', 'sod3', 'ankrd13b', 'slc4a3', 'ifit2', 'p2ry13', 'gjb5', 'cdkn1b', 'acsf2', 'cdan1', 'hmsd', 'snrpb', 'ddx27', 'nudt16', 'serpina1', 'tshz1', 'elovl7', 'lemd2', 'polr2h', 'atp7b', 'spindoc', 'znf57', 'xab2', 'msmb', 'lrrc4b', 'ankrd22', 'large1', 'nmb', 'or51l1', 'defa3', 'ppif', 'mgat2', 'ddtl', 'msto1', 'mapk10', 'commd8', 'znf780b', 'idh2', 'megf10', 'mmp10', 'aco2', 'sec23b', 'nanognb', 'smim8', 'polr1c', 'bbs12', 'rnps1', 'tmem205', 'apip', 'tmem63c', 'xpo7', 'mab21l1', 'rnase7', 'dgkd', 'art1', 'tm4sf19', 'ch25h', 'stap1', 'spdyc', 'anp32a', 'casp8', 'atxn1', 'cacng6', 'foxg1', 'pcdhac1', 'fam170b', 'prdm8', 'cyp2c18', 'actr1a', 'mboat7', 'tusc3', 'trim71', 'sdsl', 'fam47a', 'osgepl1', 'chd1', 'tle4', 'fam160b1', 'mob3a', 'zbed8', 'mepce', 'cd300c', 'dnase1l2', 'tmem143', 'fam184a', 'dars2', 'smc2', 'trafd1', 'c5orf46', 'tsku', 'bbx', 'calml4', 'twist2', 'cnga4', 'kdelr3', 'slc12a4', 'ube3d', 'gna13', 'anks1a', 'glipr1l1', 'ppp1ca', 'septin4', 'znf43', 'arf3', 'rnd2', 'fez1', 'cct2', 'rab3gap1', 'hmhb1', 'marf1', 'nit2', 'zhx1', 'add3', 'sstr4', 'abcd3', 'nup43', 'ifnk', 'fgb', 'smg5', 'gsdma', 'ncbp2l', 'flrt2', 'nt5c1a', 'vipas39', 'pam16', 'islr2', 'il21r', 'nop56', 'egln3', 'zic1', 'plk4', 'tecpr1', 'tmsb4x', 'agmat', 'heca', 'serping1', 'tmed4', 'dyrk4', 'repin1', 'dnaaf5', 'c8orf48', 'vti1a', 'thap12', 'ift20', 'nsg2', 'zdhhc9', 'ssh2', 'or5h6', 'c1qa', 'vasp', 'insrr', 'anapc10', 'cd81', 'znf610', 'mtcl1', 'tas1r2', 'tmigd2', 'rassf2', 'mob4', 'dpf3', 'shoc1', 'pcbp4', 'chmp4b', 'zeb1', 'kcnf1', 'fam50b', 'kif11', 'tex52', 'resf1', 'dynlrb1', 'zmym3', 'atp6v1g2', 'cyp7b1', 'tax1bp1', 'gbx1', 'slc29a3', 'or4x1', 'kctd19', 'c2orf92', 'ank2', 'spata4', 'rtl5', 'tmco1', 'wdr36', 'ly6l', 'vsir', 'strap', 'fam168b', 'actr6', 'or2f1', 'snap91', 'med12', 'adcy2', 'nts', 'rxfp4', 'prpf18', 'tnfrsf10d', 'or9g1', 'nupr2', 'artn', 'znrf4', 'daz2', 'trim72', 'ptpn4', 'pomt2', 'tpmt', 'cmc2', 'rab7b', 'zfp62', 'ntn1', 'ypel4', 'uchl5', 'wnt10b', 'idh3a', 'slc39a3', 'gpn2', 'bicra', 'gucy1b1', 'polr1d', 'tmem271', 'rhov', 'pdcd6ip', 'exoc1', 'aspn', 'adam20', 'siah1', 'krtap4-5', 'fer1l6', 'ccdc137', 'syndig1l', 'mxd1', 'wnt5a', 'slc15a5', 'arhgap40', 'znf534', 'atf7ip', 'msantd1', 'tmem9b', 'pgm5', 'tef', 'znf304', 'tiprl', 'c22orf15', 'znf548', 'znf660', 'nox4', 'muc20', 'or10q1', 'itga1', 'mettl5', 'or10a7', 'xrra1', 'agrn', 'bcap29', 'ncald', 'apcdd1l', 'def8', 'cmss1', 'c4orf50', 'syncrip', 'ubxn7', 'krt77', 'smad4', 'tmem127', 'suco', 'sfrp4', 'mtss2', 'tti1', 'arl13a', 'c17orf80', 'psmd1', 'iqgap1', 'cdx1', 'krt36', 'polrmt', 'u2af1l4', 'h6pd', 'msmp', 'cpz', 'klhl40', 'c4orf48', 'znf281', 'fam161a', 'inip', 'slc2a1', 'nuf2', 'hoxb13', 'agtpbp1', 'znf337', 'etdc', 'cnr1', 'znf629', 's100a4', 'pcsk1', 'ntsr2', 'katna1', 'kif27', 'trpm7', 'ggt6', 'mical2', 'commd1', 'phf3', 'or51g2', 'grin2d', 'cep70', 'ngf', 'ccnt2', 'dsc2', 'pcp2', 'tlr2', 'prss57', 'retnlb', 'rbpj', 'insr', 'cnksr2', 'rnf113b', 'tbcd', 'c22orf42', 'srgap1', 'hhipl2', 'bhlhe41', 'mustn1', 'slc35d1', 'gp2', 'ptgis', 'olah', 'muc17', 'slc9b1', 'gbp5', 'hnrnpul2', 'kctd16', 'prss16', 'ssc4d', 'lime1', 'dhrs1', 'necap2', 'c1qtnf7', 'vmo1', 'slc29a1', 'znf581', 'ggps1', 'tmem214', 'brpf3', 'wdr64', 'irx1', 'phlda1', 'rapgef6', 'cyp4f11', 'cfap161', 'nucb2', 'znf697', 'spic', 'ttpa', 'pasd1', 'cd200r1', 'unc13c', 'tmed5', 'pom121', 'ntmt1', 'defb119', 'gpr31', 'rep15', 'tgm3', 'plekho1', 'ube2u', 'cd244', 'tpp1', 'gdap1', 'plagl2', 'abtb2', 'trap1', 'pvr', 'apeh', 'mxd4', 'polg', 'pik3c3', 'pmis2', 'tpd52l1', 'tstd2', 'coro1b', 'foxl2', 'fmr1nb', 'gpr158', 'pik3r2', 'nptx2', 'cenpvl3', 'fgf5', 'tpst2', 'llgl1', 'gnl2', 'pbxip1', 'rbm38', 'znf561', 'sub1', 'or11a1', 'rasal2', 'kpna7', 'gstp1', 'afap1l2', 'rabep1', 'cecr2', 'depdc1', 'ppt2', 'znf284', 'ubtd2', 'syt9', 'eml1', 'gpr37l1', 'plau', 'rpa4', 'socs6', 'prss41', 'gdpgp1', 'guca1b', 'ctsw', 'copz2', 'lrrc37a3', 'znf404', 'ttll9', 'tub', 'mpdu1', 'sdr16c5', 'mfsd11', 'tacr3', 'dmbx1', 'ier3', 'nomo1', 'smco4', 'pcsk4', 'aasdh', 'ash2l', 'dnase2', 'c16orf87', 'esyt2', 'il17rc', 'sv2a', 'acbd4', 'ndufs4', 'znf768', 'upk1b', 'stc2', 'ephb2', 'or10j5', 'fign', 'rnf8', 'ascl3', 'gpalpp1', 'znf808', 'septin11', 'zgpat', 'krtap10-11', 'thsd7a', 'ifi27l2', 'ctc1', 'f2rl1', 'ankrd46', 'spata2', 'samd7', 'washc4', 'nid1', 'ptgfrn', 'tmem92', 'p2ry11', 'arid2', 'tpx2', 'aunip', 'fshr', 'ripor3', 'wipf3', 'nudt19', 'npas4', 'smim27', 'neil2', 'ttc7a', 'bod1l2', 'rhbdl1', 'slc24a2', 'fmo1', 'sfrp1', 'pgd', 'chrna6', 'capn5', 'sp140', 'ip6k2', 'stx10', 'ap2a1', 'gstm1', 'myo18b', 'page4', 'ndufc2', 'oxsr1', 'acy3', 'txnrd1', 'chp1', 'ppp1cc', 'dnah10', 'ptcd1', 'ryk', 'afp', 'tmem192', 'fam118b', 'tsnaxip1', 'golga7', 'ubxn6', 'eps15l1', 'aasdhppt', 'rbks', 'znf274', 'cyp7a1', 'ctsl', 'mgat4c', 'srm', 'arf4', 'gpaa1', 'ddias', 'mmp27', 'prm3', 'fundc1', 'gabpb1', 'tnfsf18', 'atf3', 'cdk19', 'gtpbp8', 'fosb', 'casp4', 'anxa9', 'rgs7bp', 'lrrc63', 'hp', 'rac3', 'psg5', 'ddb2', 'c10orf120', 'tbx22', 'atpsckmt', 'ankrd61', 'prss55', 'gpt', 'taf1l', 'slf2', 'bid', 'tmem11', 'fam83f', 'mapre3', 'dnajb2', 'slc17a1', 'ifna16', 'psmc3ip', 'lrriq1', 'lrrc56', 'pik3cg', 'mettl15', 'defa4', 'anos1', 'stbd1', 'auh', 'prom1', 'dyrk1b', 'hsd3b7', 'rgl4', 'gprasp2', 'fkbp1c', 'gpx2', 'arhgap17', 'znf285', 'gstt4', 'ccn3', 'ddc', 'tpp2', 'pramef10', 'batf', 'krt222', 'c20orf194', 'itgb3bp', 'cyp2j2', 'afm', 'coro1a', 'psmd14', 'zyg11b', 'rgpd4', 'sec31a', 'anp32e', 'mcur1', 'pik3cb', 'vcx2', 'cracr2b', 'esrrb', 'oga', 'or2at4', 'osgin2', 'ddx21', 'tbx6', 'cep95', 'pdxk', 'lactbl1', 'mfsd6l', 'plrg1', 'fam167b', 'ankrd12', 'myc', 'map4k4', 'krtap9-3', 'gnal', 'aftph', 'cyp3a4', 'scn1a', 'vps13b', 'efna4', 'ovch2', 'tbc1d30', 'pcdh20', 'fads1', 'fam13a', 'tmbim4', 'noxo1', 'pex10', 'hdhd2', 'kremen1', 'ptpn14', 'homer2', 'crebl2', 'ppp1r18', 'srsf5', 'znf607', 'cntd1', 'or14i1', 'unc50', 'nap1l3', 'cyb5r2', 'ddx54', 'gtpbp10', 'she', 'irx4', 'nudt7', 'idi2', 'senp6', 'c9orf64', 'atp5mc3', 'adirf', 'dcaf8l2', 'tex35', 'ddn', 'fam118a', 'pdcl', 'otud3', 'ints12', 'cdr1', 'snx7', 'tia1', 'znf584', 'ogfrl1', 'spsb3', 'nkx6-3', 'krt74', 'c1orf167', 'otud5', 'smim7', 'nfe2l1', 'glo1', 'sqstm1', 'nkx1-2', 'gla', 'hspa6', 'ttc17', 'tmem225', 'yes1', 'spata6', 'nsmf', 'arhgap33', 'rbm3', 'uggt2', 'sidt2', 'tbpl1', 'tmem65', 'aldh3a2', 'cpne4', 'sult2b1', 'ogfr', 'pex26', 'lrrc7', 'ppp1r17', 'add2', 'baz2b', 'arsb', 'trpc7', 'setd1b', 'shmt1', 'krtap20-4', 'znf142', 'med10', 'slc27a2', 'epc2', 'lgr5', 'c11orf1', 'cep85l', 'prpf6', 'igfbp6', 'cnih4', 'cdkn2b', 'cdh23', 'ventx', 'ptprm', 'c1orf141', 'scarf2', 'cxcl14', 'tmem43', 'isg15', 'znf763', 'arhgap36', 'gnl3', 'cysltr2', 'kcnk18', 'faim2', 'krt19', 'dctn3', 'uso1', 'eid1', 'rhoj', 'ap1ar', 'ttc3', 'uhmk1', 'bad', 'serinc5', 'pdia3', 'gcnt2', 'c2cd2l', 'bag2', 'zmiz2', 'scaf4', 'sh3gl3', 'mx2', 'pigt', 'ssr1', 'acvr2a', 'vopp1', 'foxd4', 'pkd1', 'sult1c2', 'znf641', 'foxred1', 'spry2', 'ifnar1', 'phactr1', 'pgc', 'igsf9', 'basp1', 'tirap', 'stk38l', 'mesd', 'rnf43', 'shroom2', 'gip', 'zwilch', 'osgep', 'med19', 'hoxb1', 'tmem52', 'atp5f1b', 'acsm3', 'med26', 'lgals16', 'kiaa1210', 'hspa4', 'rbp4', 'ntng2', 'triap1', 'cckar', 'pramef33', 'krr1', 'prkaca', 'irx5', 'fmo4', 'rbp7', 'tmem154', 'sike1', 'med7', 'rwdd1', 'prrg2', 'trh', 'il1f10', 'c5orf58', 'cpm', 'cdk8', 'myadm', 'tcea3', 'gsto1', 'pus3', 'ergic2', 'krtap4-6', 'ptcd2', 'dpp9', 'clasrp', 'ndufa4', 'ptpn12', 'il36a', 'mt1a', 'cd37', 'gga1', 'cxcl10', 'mcrip2', 'smcp', 'rbms1', 'cst6', 'gng7', 'znf823', 'prr14', 'gsap', 'cdip1', 'uchl3', 'vax2', 'fbxo5', 'bbip1', 'tfb1m', 'slco1a2', 'armt1', 'tpsg1', 'tmf1', 'c17orf58', 'isca2', 'mmadhc', 'kcnmb3', 'kcne4', 'entpd3', 'akap8', 'smkr1', 'krtap10-3', 'fam172a', 'krt85', 'c3orf84', 'raph1', 'spata2l', 'kiaa1217', 'zbtb38', 'wdr61', 'hand2', 'slc25a30', 'nckap5', 'mttp', 'rnf166', 'nlrp4', 'fbln1', 'tsga13', 'wfdc1', 'mmp7', 'sprr2g', 'gpat3', 'sox7', 'ttn', 'prickle1', 'il1a', 'or1s2', 'arsk', 'myh13', 'abcb7', 'gatd1', 'grk6', 'phgdh', 'efna1', 'suds3', 'ino80c', 'steap1', 'capn14', 'larp1', 'ube2l3', 'sprn', 'mrm2', 'cped1', 'srrm4', 'ces2', 'ttc39c', 'slc27a1', 'ablim3', 'usp31', 'il15ra', 'bptf', 'tgfbr3', 'cbfa2t3', 'diras1', 'barhl2', 'znf844', 'cst9l', 'efcab10', 'pkmyt1', 'cept1', 'pydc1', 'adgrf4', 'epx', 'cic', 'zfx', 'defb124', 'cpsf1', 'agpat3', 'ints2', 'xylb', 'ankmy2', 'slc22a6', 'cenpo', 'c20orf96', 'klf14', 'srrm1', 'ak8', 'smim26', 'ndc1', 'six3', 'cskmt', 'rgsl1', 'pspc1', 'prss33', 'gpc2', 'ahnak2', 'mogat1', 'or52b6', 'arhgap26', 'esx1', 'ssuh2', 'ttll3', 'ankrd34b', 'pcnx3', 'dync1h1', 'adi1', 'nsun2', 'gzf1', 'chadl', 'stom', 'trim25', 'slc26a3', 'pcdhga7', 'gp9', 'kbtbd13', 'htr6', 'gpr6', 'mlh3', 'slc25a26', 'lrif1', 'nmnat1', 'clec12b', 'slc39a9', 'pelp1', 'fermt1', 'ndufaf5', 'calca', 'fxyd3', 'spopl', 'chac1', 'slc5a3', 'aadacl4', 'prkra', 'acer3', 'cdh22', 'iscu', 'pgpep1l', 'cdk2ap2', 'idua', 'srprb', 'rnase2', 'fstl4', 'apln', 'tdp2', 'tinagl1', 'satb1', 'cspg4', 'ca4', 'ccrl2', 'plekhh2', 'gpx8', 'carnmt1', 'rab36', 'cdo1', 'cldn5', 'lasp1', 'vash1', 'top1', 'sdhaf4', 'or9k2', 'terf2', 'pdhb', 'phtf1', 'scart1', 'or2v2', 'znf664', 'szt2', 'c12orf75', 'cntrob', 'klhl8', 'prkaa1', 'cd302', 'znf573', 'cckbr', 'cyp4x1', 'hltf', 'ltbp3', 'itgb6', 'klhl36', 'scrt1', 'rgs10', 'icam5', 'get1', 'elk1', 'fnbp1', 'ccdc70', 'ulk4', 'lox', 'krtap13-1', 'cmtm1', 'angel2', 'fcgr2b', 'ndrg3', 'snca', 'eci2', 'ufd1', 'sh3d21', 'onecut1', 'fbxo7', 'myh7b', 'irs1', 'lrrc15', 'mmp8', 'pi15', 'lnx1', 'snx12', 'rest', 'gne', 'wfdc12', 'prob1', 'f5', 'pon1', 'josd2', 'coro1c', 'wnt2b', 'desi1', 'garem1', 'dkkl1', 'foxa1', 'eef1e1', 'ypel3', 'noxa1', 'slc38a2', 'actr10', 'smchd1', 'myo1g', 'aqp7', 'pdx1', 'efs', 'rxfp2', 'magec3', 'ccl18', 'cacna1e', 'tanc2', 'glt1d1', 'haus8', 'cacna1i', 'ccdc177', 'azgp1', 'senp2', 'tor2a', 'ccl3', 'ppp1r14a', 'aurkc', 'fam3d', 'rnf11', 'fndc7', 'hspa5', 'cox6b1', 'triml1', 'irf4', 'rnf144b', 'reep3', 'exosc1', 'serpina6', 'znf30', 'gemin7', 'sh3glb1', 'lca5', 'mark1', 'pcyt1a', 'klhl25', 'tpm4', 'tmem212', 'pgam5', 'krtcap2', 'psg7', 'otor', 'sema4d', 'irf2bp1', 'vstm4', 'rtn3', 'ndufa9', 'xage5', 'krt78', 'dock2', 'gdi2', 'ovch1', 'dmrt3', 'loxl2', 'rnf13', 's100p', 'cfap157', 'or51a7', 'acd', 'il36g', 'kcnt1', 'mthfd2', 'fgfr2', 'kmo', 'mad2l1bp', 'znf263', 'slit2', 'mtmr8', 'sharpin', 'odf3b', 'slc22a31', 'nxt1', 'hmgcll1', 'slc26a11', 'cul9', 'rnf217', 'alkbh3', 'zmat1', 'magea9b', 'znhit6', 'cstf2t', 'ccnc', 'glcci1', 'anxa8', 'fas', 'utp15', 'tgm7', 'lpar3', 'qtrt2', 'ap3b2', 'spc25', 'ift57', 'znrf2', 'cass4', 'cdh19', 'krt71', 'nr1h4', 'slx4', 'rpp21', 'exosc3', 'slc18b1', 'tspan10', 'slc35f3', 'slc44a5', 'ifitm3', 'trim59', 'ptbp3', 'birc2', 'pcgf2', 'acox2', 'rdh12', 'rangap1', 'taar6', 'pgam2', 'ficd', 'bbs2', 'pxdn', 'bean1', 'ocel1', 'ccnjl', 'ostm1', 'scaper', 'prelp', 'slc18a3', 'cd33', 'zp4', 'aco1', 'fut11', 'sptssa', 'sf1', 'c19orf25', 'znf212', 'use1', 'stat5b', 'prnp', 'cyp2e1', 'vps13d', 'actg2', 'spats2l', 'atxn7', 'epb41l2', 'tm4sf5', 'tut7', 'syt4', 'ect2', 'vps39', 'ydjc', 'znf444', 'tex48', 'thap2', 'entpd8', 'wdr97', 'krtap5-10', 'ccdc102a', 'ykt6', 'msantd3', 'dnali1', 'med13', 'krtap13-3', 'fcrlb', 'urgcp', 'stk11', 'oaz1', 'ywhaq', 'med27', 'ccdc3', 'wscd1', 'wdr17', 'tab1', 'pjvk', 'inpp4a', 'dhh', 'papolg', 'tbata', 'mpc2', 'glrx', 'ptgs2', 'pip5kl1', 'mief1', 'cpa3', 'chst10', 'zc3h8', 'sidt1', 'tead3', 'peak3', 'nudt8', 'hnf1a', 'zbtb42', 'c12orf56', 'bckdhb', 'ebag9', 'or4l1', 'zc3h7a', 'znf667', 'capn1', 'zc3hav1l', 'znf354c', 'suclg1', 'slc22a7', 'evx1', 'adck2', 'slit1', 'vipr1', 'znf12', 'coro2b', 'tbk1', 'eddm3a', 'polr3g', 'obsl1', 'atp6v1d', 'vsig10l', 'dvl1', 'ccsap', 'prrt2', 'gabra4', 'lnp1', 'psrc1', 'dcun1d3', 'gdf6', 'mpped1', 'p2rx7', 'rnf19b', 'ccdc163', 'aqp4', 'tnfrsf25', 'lrrc41', 'kiaa0319l', 'paqr8', 'letm2', 'inhbe', 'pcnx4', 'tnfsf9', 'csf2rb', 'niban3', 'cxcl8', 'asb5', 'trim39', 'cpne8', 'nsmce1', 'cebpb', 'khdrbs3', 'frmpd3', 'fam193a', 'dzip1l', 'calhm1', 'hspa1b', 'lrp1b', 'sycp2l', 'c7orf26', 'tmem269', 'defb127', 'nenf', 'immt', 'ddx4', 'glp1r', 'wnt16', 'sorbs3', 'nox1', 'mro', 'dbnl', 'smim6', 'nkx2-5', 'fzd5', 'c11orf53', 'mtpap', 'zdhhc3', 'zbtb22', 'tlx1', 'cyp2r1', 'tmem123', 'tmem129', 'ervmer34-1', 'papola', 'rtn4rl2', 'prr11', 'ubap2', 'flt3', 'il13ra2', 'klf6', 'hsf5', 'adat1', 'e2f7', 'fam13c', 'zadh2', 'rnpepl1', 'cela3a', 'otud4', 'mkrn2os', 'or52e5', 'itga7', 'fut8', 'izumo1', 'klhl13', 'cep126', 'ccdc91', 'polr2b', 'adam2', 'atp1a4', 'wfdc9', 'timm29', 'ccdc138', 'abcb1', 'il33', 'flywch2', 'rnf115', 'glis3', 'sil1', 'eif3j', 'timm17a', 'gba2', 'tpd52l3', 'slc35f2', 'rprm', 'tmem106a', 'slc2a2', 'mccd1', 'psmb10', 'cdh11', 'bcas2', 'p2rx2', 'cebpzos', 'slc66a3', 'csnka2ip', 'spata24', 'slc14a2', 'znf691', 'tram1', 'dnm1', 'fancl', 'irgm', 'ankrd66', 'capsl', 'or2j2', 's100z', 'fndc1', 'rell2', 'hells', 'crip2', 'ptpn18', 'dnaja2', 'ido2', 'cop1', 'foxm1', 'wnt10a', 'ct47b1', 'med4', 'znf221', 'chrm2', 'syngr2', 'enam', 'mog', 'atp1b2', 'gpm6b', 'ntng1', 'cdc123', 'plec', 'eys', 'ms4a12', 'nfasc', 'spaca9', 'or4f21', 'sdr9c7', 'znf433', 'hmbs', 'hmgxb4', 'scrib', 'znf229', 'aoc3', 'epn3', 'poglut2', 'ipo11', 'dennd1b', 'slc16a14', 'cd248', 'atp2b1', 'gpc3', 'smim15', 'hdlbp', 'ptgfr', 'zbbx', 'antxrl', 'cryba2', 'ccno', 'mrm1', 'b3galt2', 'gpr108', 'xiap', 'gjb2', 'or10x1', 'fgf1', 'ltbp2', 'cdh5', 'pdgfc', 'ufl1', 'tnp1', 'adam23', 'tex54', 'ncoa7', 'smc1a', 'ctnnb1', 'oxct1', 'gja8', 'cd52', 'fam71c', 'chml', 'pi16', 'paqr5', 'cx3cl1', 'atrnl1', 'sgms2', 'nlk', 'cltc', 'spryd7', 'fthl17', 'sacs', 'srsf11', 'gtf2f2', 'tspan1', 'rab31', 'bst1', 'ccnk', 'znf69', 'nr6a1', 'tlr3', 'plp1', 'fem1c', 'timm8b', 'fbxo34', 'arhgef18', 'nup54', 'rhoh', 'trpm1', 'stxbp1', 'xage3', 'nuak1', 'rhpn1', 'gpr137b', 'tcn2', 'scgb1c2', 'rs1', 'mettl4', 'hs6st1', 'serpina9', 'chpf', 'nmur1', 'hmx3', 'or7a17', 'fen1', 'cdh3', 'zyg11a', 'exosc10', 'chd6', 'asb17', 'serpinb12', 'gls', 'yeats4', 'kif20a', 'c6', 'prdm2', 'adamdec1', 'c18orf25', 'txnl1', 'c10orf88', 'prkd1', 'prkar1a', 'or7e24', 'ifngr1', 'vrtn', 'zbtb45', 'sar1a', 'egr3', 'c8orf33', 'cep57', 'fndc3b', 'tex10', 'ccdc191', 'tbx1', 'amtn', 'sprr2e', 'pvalef', 'ccdc88a', 'txn2', 'hmcn2', 'cd276', 'gle1', 'trim7', 'tmem144', 'znf512', 'riok2', 'ncoa3', 'fam43b', 'cbx5', 'klhl30', 'sertm1', 'mlst8', 'tmem209', 'cited1', 'znf550', 'arhgap27', 'trappc3l', 'znf319', 'myoz2', 'rnf152', 'znf140', 'rp9', 'fpr2', 'psat1', 'sertad1', 'ppp3r1', 'msc', 'slc39a8', 'nckipsd', 'znf177', 'lhb', 'drd4', 'nbas', 'son', 'kdm1b', 'nfkbia', 'rasgrp1', 'luzp1', 'faim', 'cdh10', 'hrh2', 'gys1', 'tnfsf4', 'vwde', 'plxna4', 'c17orf113', 'akap7', 'f12', 'prdx5', 'insc', 'myf6', 'efcab9', 'oosp4b', 'bcl2l10', 'tmco3', 'slc12a3', 'gpr179', 'htra4', 'ercc2', 'lhfpl2', 'taf11l6', 'prpf40a', 'tigd6', 'cops9', 'ctsf', 'dmc1', 'plcxd1', 'med18', 'ftsj1', 'nrgn', 'slc35a5', 'fibp', 'cabs1', 'c12orf66', 'galnt13', 'or6b3', 'tcl1a', 'qrfp', 'cpe', 'fcar', 'usp17l15', 'ncoa4', 'c22orf23', 'eif4e2', 'map4k5', 'acbd7', 'rasa3', 'akr1d1', 'lgals13', 'fbxl8', 'cog8', 'gpr101', 'qki', 'scara3', 'ldb3', 'nova2', 'lbp', 'znf302', 'erich4', 'dhx35', 'uxt', 'pstpip1', 'tnfrsf17', 'rnf220', 'frg2c', 'ercc1', 'spata48', 'gns', 'cdc5l', 'gclc', 'nlrc5', 'hpgds', 'rtn4rl1', 'trappc6b', 'rbm15', 'arhgap25', 'lurap1', 'emp2', 'gpat2', 'gusb', 'or51f2', 'ehmt1', 'znf483', 'ly6g6e', 'phf6', 'mettl3', 'evi2a', 'mageb17', 'radx', 'nr2e3', 'txndc11', 'habp4', 'aspg', 'arhgap28', 'fibcd1', 'tesk1', 'muc16', 'hoxc10', 'poll', 'fam178b', 'limch1', 'cdk2', 'ackr1', 'ofd1', 'tnni1', 'synpo', 'arfrp1', 'page1', 'bcl11b', 'trem1', 'cnih2', 'morc2', 'siglec11', 'tex55', 'gper1', 'prb3', 'mlxip', 'dcaf17', 'slfn5', 'or52n4', 'pole', 'serpina7', 'lce5a', 'cyp4f3', 'bub1', 'ext1', 'zcchc24', 'spata16', 'ckap4', 'nipa1', 'fbxl16', 'slc5a7', 'ern1', 'flnb', 'prpf38a', 'znf324b', 'mt-nd4l', 'trappc5', 'arap1', 'serpinb13', 'casp14', 'kdm5c', 'xkrx', 'ccl16', 'rbmxl1', 'nol9', 'teddm1', 'iws1', 'lag3', 'or6j1', 'lingo4', 'smg8', 'dusp3', 'wnt3a', 'il2rb', 'tmem239', 'uqcc1', 'hhex', 'brsk2', 'dlx3', 'aff2', 'celf2', 'c13orf42', 'tdrd6', 'rhoxf2b', 'tg', 'supt7l', 'cd14', 'fip1l1', 'ctsb', 'ucma', 'meikin', 'trpv4', 'tktl2', 'odc1', 'ptk2', 'gvqw3', 'c9', 'rnf165', 'zbtb43', 'ppp3ca', 'actl7b', 'spata32', 'pgbd2', 'hykk', 'fkrp', 'spag7', 'greb1', 'znf18', 'akap6', 'htr5a', 'nup62cl', 'actbl2', 'nr1h3', 'gsc2', 'bcl2l13', 'wdr91', 'nr2c2', 'gast', 'tgm6', 'slc26a9', 'gsdmc', 'znf324', 'ahcy', 'mmd', 'hmgn4', 'shld1', 'slc20a1', 'tp53i13', 'smpd4', 'arhgef10', 'lrrc57', 'kif18b', 'tmtc4', 'cggbp1', 'eif3b', 'znf683', 'urod', 'stag2', 'cops6', 'sh2d5', 'cfap46', 'dennd4b', 'or2a12', 'slc5a6', 'ubqln2', 'snrpd1', 'pnma5', 'apobec3g', 'mast1', 'ttc29', 'acat1', 'fam210a', 'slc5a5', 'opa3', 'kcnh2', 'cnot4', 'zgrf1', 'ythdf1', 'mt-co2', 'gstz1', 'mettl2a', 'cd209', 'rab27a', 'sowahb', 'trmt1', 'ppp1r3f', 'galntl6', 'sowaha', 'hcls1', 'ociad2', 'znf107', 'or13c5', 'poc1b', 'bcam', 'igsf21', 'rsph4a', 'arl8b', 'mymk', 'stx5', 'uck1', 'bin1', 'cplx4', 'amelx', 'actrt2', 'pou6f2', 'taf7l', 'aip', 'tssk4', 'zbed4', 'defb114', 'tmem175', 'tmem14a', 'scgb1d2', 'thbs1', 'aplp2', 'hira', 'tmem39b', 'mdh2', 'depp1', 'gprasp1', 'aimp1', 'dele1', 'nectin1', 'prim1', 'stra8', 'htr2a', 'rpp40', 'atl1', 'g0s2', 'cpn2', 'c5orf15', 'dhx34', 'pmfbp1', 'il31ra', 'spata31a6', 'zswim2', 'wdfy4', 'pmpca', 'zmym2', 'cfap54', 'fbxl17', 'tat', 'sprr4', 'ptov1', 'rprml', 'lfng', 'defa5', 'psma4', 'cpsf4l', 'ncan', 'prrx1', 'vpreb3', 'gjd2', 'plb1', 'dpyd', 'slc44a1', 'kiaa0100', 'enpp7', 'mybpc2', 'il3', 'flt3lg', 'psma7', 'adgre2', 'pde7a', 'adam21', 'bcl3', 'nudcd1', 'hoxa11', 'aqp3', 'xirp1', 'rnf26', 'orai1', 'lrcol1', 'cpped1', 'lyzl1', 'aqp8', 'b4galt2', 'ift172', 'hsf2bp', 'tgfb1i1', 'rbm41', 'brap', 'trim13', 'or4a5', 'numb', 'gucd1', 'slc47a1', 'defb132', 'mta3', 'vwf', 'lgals1', 'pygl', 'mosmo', 'nedd4l', 'abhd1', 'clcn4', 'plscr3', 'mfsd1', 'dpm2', 'znf460', 'ppme1', 'herpud2', 'pla2g2d', 'lrp2bp', 'abhd17c', 'dimt1', 'znf195', 'gpr162', 'chuk', 'c19orf44', 'neurl2', 'dkk3', 'ankrd13d', 'trim40', 'ndufs3', 'rtn4ip1', 'tcn1', 'dnajb1', 'thap9', 'ccdc71', 'pcdhga10', 'swsap1', 'ndnf', 'pigo', 'glb1', 'vnn2', 'ssrp1', 'glrb', 'foxe3', 'upf1', 'cma1', 'hspb3', 'sf3a3', 'ndufb4', 'stxbp5l', 'smim20', 'mindy3', 'hunk', 'rnf2', 'plg', 'abraxas2', 'ctcf', 'morn4', 'bcl9l', 'ankrd7', 'cdk9', 'gsg1l', 'ccdc189', 'mpnd', 'sema4c', 'fam214a', 'znf35', 'polr3d', 'lrrc10b', 'tfcp2', 'ccdc18', 'slc25a15', 'or51b6', 'drc1', 'igflr1', 'gldn', 'il36rn', 'znf277', 'znf354a', 'kbtbd6', 'odf4', 'apmap', 'tmem88', 'arhgef16', 'ifi6', 'eif4g3', 'nxf1', 'pla2g5', 'hmga2', 'nxt2', 'avpr1b', 'kri1', 'crtc2', 'usp24', 'unc45a', 'tmem235', 'ror1', 'smim2', 'bex4', 'map2', 'defb1', 'ccr4', 'ret', 'atp13a1', 'tab2', 'ido1', 'ubxn4', 'hivep3', 'myo18a', 'igsf9b', 'selenoo', 'fgfrl1', 'xkr9', 'slc25a38', 'leng1', 'plet1', 'ncaph', 'atp5f1c', 'clec9a', 'znf804a', 'adamts6', 'dvl3', 'tinf2', 'mnat1', 'phb', 'kctd1', 'sertad3', 'ugt2b11', 'adcy4', 'lypd5', 'fbxl6', 'tesk2', 'nifk', 'sfmbt2', 'rabgap1', 'gpld1', 'bop1', 'wapl', 'spon1', 'upf3a', 'cep162', 'ervv-2', 'rab39b', 'fis1', 'clba1', 'prss23', 'prg3', 'sap130', 'cyp2c9', 'ralgapa1', 'rtkn2', 'coq6', 'haus2', 'pif1', 'mri1', 'slpi', 'arhgef9', 'rbfox2', 'asb14', 'ddx56', 'suclg2', 'cerk', 'bdkrb2', 'fam102a', 'hsd11b2', 'prr30', 'col4a3', 'ppp3cb', 'cfap52', 'rhag', 'dnlz', 'gja3', 'polr2a', 'cx3cr1', 'atp1b3', 'gbp6', 'prkg2', 'nup98', 'arhgap11a', 'disc1', 'rb1', 'psmb5', 'cyp11a1', 'awat1', 'tspan4', 'agtr1', 'myl4', 'crip3', 'smim35', 'rasl10b', 'samd14', 'chrna1', 'foxd1', 'ccl23', 'faap24', 'xdh', 'mst1', 'taf11l13', 'wrnip1', 'cdkn1a', 'anapc2', 'terb1', 'acp5', 'ndufc1', 'polr2c', 'ehf', 'b2m', 'grm7', 'nps', 'atg4c', 'lipc', 'cndp2', 'leng8', 'pebp4', 'fstl5', 'rbms3', 'dusp16', 'zg16b', 'naf1', 'zc3h18', 'tbl1x', 'wipf1', 'timm9', 'stmnd1', 'lmna', 'fam237b', 'fgf11', 'plcd4', 'eif2b5', 'gpr137', 'jam3', 'yy1', 'clic3', 'fam20a', 'atp5f1a', 'lce1b', 'depdc1b', 'gtpbp2', 'dip2c', 'triobp', 'npas3', 'nck1', 'ro60', 'b3gnt2', 'cemip', 'sgk1', 'ormdl3', 'slc19a1', 'mon2', 'c20orf173', 'tmlhe', 'cyp4a22', 'apobr', 'mrnip', 'uqcr11', 'uqcc3', 'slc35f6', 'slfn11', 'p2ry10', 'defb4a', 'lsm2', 'ubtd1', 'sprtn', 'rtl8b', 'cyp27c1', 'ttc22', 'nop10', 'nppb', 'tmem47', 'armc8', 'grem2', 'mif4gd', 'p4hb', 'ngrn', 'anxa4', 'kif24', 'nup155', 'slc1a1', 'commd7', 'scai', 'tmod4', 'zc3h12b', 'knop1', 'glb1l2', 'herc6', 'prr3', 'syngap1', 'kctd10', 'vps33a', 'def6', 'dio2', 'cd46', 'plscr2', 'prtg', 'chst6', 'setd3', 'pid1', 'mical1', 'shisa8', 'gata2', 'fcrl2', 'sncb', 'dhx16', 'cemip2', 'irs2', 'msrb3', 'cmip', 'tlcd1', 'abhd11', 'trabd2a', 'lef1', 'kmt5b', 'npw', 'cyp2w1', 'tmem74', 'ccz1', 'rif1', 'ube2e1', 'mcub', 'galnt16', 'or2a5', 'smap1', 'slc9a6', 'stambpl1', 'bcl9', 'wdr70', 'or52b4', 'slc3a1', 'syn1', 'spryd3', 'arl8a', 'htn3', 'dctn2', 'iffo2', 'wdr26', 'atp6v0b', 'krba2', 'ctag2', 'hif3a', 'cenpl', 'znf526', 'dchs2', 'zscan20', 'exosc8', 'or2c1', 'lsm14a', 'pbk', 'amacr', 'mpdz', 'pramef8', 'znf835', 'fut9', 'tut1', 'pycard', 'gga2', 'sipa1l3', 'krt86', 'rfpl3', 'fank1', 'fndc3a', 'or5b12', 'slc37a3', 'srrt', 'dennd11', 'fam217a', 'pvalb', 'pcdhga1', 'cdca7l', 'cfap97d1', 'krt16', 'cntn5', 'tmem241', 'adora2a', 'gsn', 'znf558', 'pdss2', 'eogt', 'nme6', 'cadm2', 'rsph1', 'znrf3', 'rragc', 'ndfip1', 'emc9', 'igf2r', 'prok2', 'man2b1', 'mknk1', 'phactr2', 'mthfd2l', 'serpinf2', 'smcr8', 'ddit4l', 'glipr2', 'gspt1', 'b9d1', 'atp5mf', 'ikzf5', 'spef1', 'gimap7', 'slc16a12', 'hoga1', 'styxl1', 'yme1l1', 'znf296', 'zrsr2', 'rgs13', 'pheta2', 'zbtb10', 'cux2', 'katnbl1', 'traf3ip1', 'tbcc', 'atp8b4', 'col25a1', 'kif19', 'ift52', 'or5j2', 'ms4a4a', 'fem1b', 'aqp6', 'znf582', 'smco1', 'pga5', 'acot7', 'alms1', 'grin2c', 'gatad2a', 'prdx4', 'loxhd1', 'pcyox1l', 'eif3i', 'alg5', 'pgbd5', 'calhm3', 'psmd9', 'slc7a13', 'or5a1', 'lrp1', 'ulk2', 'rab34', 'flvcr2', 'nudcd3', 'cdh17', 'or8k3', 'hacd4', 'apobec3h', 'smad3', 'znf202', 'aste1', 'adra1d', 'cd6', 'arhgdib', 'nup107', 'mapt', 'znfx1', 'slc4a10', 'cpa4', 'ccl11', 'clec11a', 'siae', 'rbm23', 'garnl3', 'cel', 'tle5', 'tpcn2', 'ssu72', 'rtf2', 'fxyd6', 'c2orf69', 'ccdc183', 'cyp39a1', 'map3k8', 'prdm4', 'cd19', 'dab2ip', 'thra', 'psmd12', 'ilf3', 'znf860', 'lta', 'zfp42', 'tgoln2', 'tmprss7', 'znrd2', 'c17orf100', 'trhde', 'elmo1', 'c1ql1', 'tmed1', 'nyx', 'telo2', 'cdca7', 'optn', 'bend2', 'nnat', 'slc2a5', 'tbc1d9', 'ift140', 'nol4l', 'zbtb47', 'cers3', 'xcl1', 'mrfap1l1', 'rdh10', 'fbxl19', 'atpaf2', 'hsfx4', 'igf1r', 'mtln', 'slc23a1', 'or6c2', 'larp7', 'arntl', 'ubap1l', 'trmt2b'}\n"
     ]
    },
    {
     "data": {
      "text/plain": [
       "{'aars',\n",
       " 'ac004593.3',\n",
       " 'ac005551.1',\n",
       " 'ac007244.1',\n",
       " 'ac007906.2',\n",
       " 'ac008397.1',\n",
       " 'ac008687.4',\n",
       " 'ac010255.3',\n",
       " 'ac010325.1',\n",
       " 'ac011005.1',\n",
       " 'ac011195.2',\n",
       " 'ac013470.2',\n",
       " 'ac015871.1',\n",
       " 'ac021072.1',\n",
       " 'ac021097.2',\n",
       " 'ac025283.2',\n",
       " 'ac025287.4',\n",
       " 'ac067752.1',\n",
       " 'ac072022.2',\n",
       " 'ac073111.4',\n",
       " 'ac087498.1',\n",
       " 'ac090360.1',\n",
       " 'ac091057.6',\n",
       " 'ac092835.1',\n",
       " 'ac093323.1',\n",
       " 'ac099489.1',\n",
       " 'ac104389.5',\n",
       " 'ac106774.4',\n",
       " 'ac113348.1',\n",
       " 'ac115220.1',\n",
       " 'ac118549.1',\n",
       " 'ac119396.1',\n",
       " 'ac132217.2',\n",
       " 'ac134684.8',\n",
       " 'ac135068.1',\n",
       " 'ac138647.1',\n",
       " 'ac187653.1',\n",
       " 'ac233723.1',\n",
       " 'ac236972.4',\n",
       " 'acpp',\n",
       " 'adprhl2',\n",
       " 'adss',\n",
       " 'adssl1',\n",
       " 'al032819.3',\n",
       " 'al109810.2',\n",
       " 'al121578.2',\n",
       " 'al135905.2',\n",
       " 'al160269.1',\n",
       " 'al162231.1',\n",
       " 'al162596.1',\n",
       " 'al353572.3',\n",
       " 'al354761.1',\n",
       " 'al391650.1',\n",
       " 'al445238.1',\n",
       " 'al451007.3',\n",
       " 'al590560.2',\n",
       " 'al603764.2',\n",
       " 'al772284.2',\n",
       " 'al845331.2',\n",
       " 'alg1l',\n",
       " 'ap000552.4',\n",
       " 'ap002495.1',\n",
       " 'arih2os',\n",
       " 'armc4',\n",
       " 'arse',\n",
       " 'atp5md',\n",
       " 'atp5mpl',\n",
       " 'atp6ap1l',\n",
       " 'b3gnt10',\n",
       " 'bhmg1',\n",
       " 'bx255925.3',\n",
       " 'bx276092.9',\n",
       " 'c10orf142',\n",
       " 'c10orf55',\n",
       " 'c11orf40',\n",
       " 'c11orf74',\n",
       " 'c11orf88',\n",
       " 'c12orf10',\n",
       " 'c12orf49',\n",
       " 'c12orf74',\n",
       " 'c12orf81',\n",
       " 'c14orf177',\n",
       " 'c15orf41',\n",
       " 'c16orf58',\n",
       " 'c17orf53',\n",
       " 'c19orf48',\n",
       " 'c19orf57',\n",
       " 'c1orf61',\n",
       " 'c2orf83',\n",
       " 'c2orf91',\n",
       " 'c3orf67',\n",
       " 'c5orf30',\n",
       " 'c5orf60',\n",
       " 'c5orf67',\n",
       " 'c6orf201',\n",
       " 'c6orf223',\n",
       " 'c7orf77',\n",
       " 'c9orf129',\n",
       " 'c9orf92',\n",
       " 'card16',\n",
       " 'card17',\n",
       " 'cars',\n",
       " 'casc1',\n",
       " 'casc4',\n",
       " 'castor3',\n",
       " 'ccdc114',\n",
       " 'ccdc140',\n",
       " 'ccdc151',\n",
       " 'ccdc155',\n",
       " 'ccdc36',\n",
       " 'ccdc39',\n",
       " 'ccdc84',\n",
       " 'cd3eap',\n",
       " 'cenpbd1',\n",
       " 'cllu1os',\n",
       " 'cntd2',\n",
       " 'ct62',\n",
       " 'cxorf21',\n",
       " 'cxorf40a',\n",
       " 'cxorf56',\n",
       " 'cyb561d2',\n",
       " 'dars',\n",
       " 'dec1',\n",
       " 'defb133',\n",
       " 'dirc1',\n",
       " 'dock8-as1',\n",
       " 'dupd1',\n",
       " 'dusp27',\n",
       " 'elfn2',\n",
       " 'elmsan1',\n",
       " 'eloa3',\n",
       " 'eprs',\n",
       " 'fam122a',\n",
       " 'fam122b',\n",
       " 'fam122c',\n",
       " 'fam169b',\n",
       " 'fam192a',\n",
       " 'fam218a',\n",
       " 'fam30a',\n",
       " 'fam49a',\n",
       " 'fam49b',\n",
       " 'fam92b',\n",
       " 'fgfr1op',\n",
       " 'fopnl',\n",
       " 'fp565260.1',\n",
       " 'g6pc',\n",
       " 'gars',\n",
       " 'gcsaml-as1',\n",
       " 'gdf5os',\n",
       " 'glra4',\n",
       " 'golga8m',\n",
       " 'grasp',\n",
       " 'h1f0',\n",
       " 'h1fnt',\n",
       " 'h1foo',\n",
       " 'h1fx',\n",
       " 'h2afj',\n",
       " 'h2afx',\n",
       " 'h2afy',\n",
       " 'h2afy2',\n",
       " 'h2afz',\n",
       " 'h2bfm',\n",
       " 'h2bfwt',\n",
       " 'h3.y',\n",
       " 'h3f3a',\n",
       " 'h3f3b',\n",
       " 'h3f3c',\n",
       " 'hars',\n",
       " 'hhla3',\n",
       " 'hist1h1a',\n",
       " 'hist1h1b',\n",
       " 'hist1h1c',\n",
       " 'hist1h1d',\n",
       " 'hist1h1e',\n",
       " 'hist1h2aa',\n",
       " 'hist1h2ac',\n",
       " 'hist1h2ae',\n",
       " 'hist1h2ag',\n",
       " 'hist1h2ai',\n",
       " 'hist1h2ak',\n",
       " 'hist1h2ba',\n",
       " 'hist1h2bb',\n",
       " 'hist1h2bg',\n",
       " 'hist1h2bh',\n",
       " 'hist1h2bn',\n",
       " 'hist1h3e',\n",
       " 'hist1h3g',\n",
       " 'hist1h3h',\n",
       " 'hist1h4b',\n",
       " 'hist1h4c',\n",
       " 'hist1h4e',\n",
       " 'hist1h4g',\n",
       " 'hist1h4i',\n",
       " 'hist1h4j',\n",
       " 'hist2h2be',\n",
       " 'hist3h2a',\n",
       " 'hist3h2bb',\n",
       " 'hist3h3',\n",
       " 'hist4h4',\n",
       " 'hypm',\n",
       " 'iars',\n",
       " 'ick',\n",
       " 'igha1',\n",
       " 'igha2',\n",
       " 'ighd',\n",
       " 'ighe',\n",
       " 'ighg1',\n",
       " 'ighg3',\n",
       " 'ighm',\n",
       " 'igkc',\n",
       " 'iglc1',\n",
       " 'iglc7',\n",
       " 'impad1',\n",
       " 'kars',\n",
       " 'kiaa0355',\n",
       " 'kiaa0556',\n",
       " 'kiaa1211',\n",
       " 'kiaa1211l',\n",
       " 'kiaa1257',\n",
       " 'kiaa1324',\n",
       " 'kiaa1324l',\n",
       " 'kif1bp',\n",
       " 'lars',\n",
       " 'linc02693',\n",
       " 'linc02694',\n",
       " 'lor',\n",
       " 'lrmp',\n",
       " 'lrp5l',\n",
       " 'lrrc29',\n",
       " 'maats1',\n",
       " 'marc1',\n",
       " 'marc2',\n",
       " 'march1',\n",
       " 'march10',\n",
       " 'march11',\n",
       " 'march2',\n",
       " 'march3',\n",
       " 'march4',\n",
       " 'march5',\n",
       " 'march6',\n",
       " 'march7',\n",
       " 'march8',\n",
       " 'march9',\n",
       " 'mars',\n",
       " 'mir1915hg',\n",
       " 'mrvi1',\n",
       " 'mycnos',\n",
       " 'nars',\n",
       " 'nxf5',\n",
       " 'or5r1',\n",
       " 'palm2-akap2',\n",
       " 'pano1',\n",
       " 'pde11a',\n",
       " 'pih1d3',\n",
       " 'pinx1',\n",
       " 'ppp5d1',\n",
       " 'prky',\n",
       " 'qars',\n",
       " 'rars',\n",
       " 'rgs5',\n",
       " 'sars',\n",
       " 'sfta3',\n",
       " 'siglec5',\n",
       " 'slc26a10',\n",
       " 'slc66a1l',\n",
       " 'slfn12l',\n",
       " 'snhg32',\n",
       " 'spata13',\n",
       " 'spata8',\n",
       " 'spert',\n",
       " 'sspo',\n",
       " 'st5',\n",
       " 'tars',\n",
       " 'tarsl2',\n",
       " 'tbce',\n",
       " 'tcte3',\n",
       " 'tctex1d1',\n",
       " 'tctex1d2',\n",
       " 'tctex1d4',\n",
       " 'terc',\n",
       " 'tmem155',\n",
       " 'tmem173',\n",
       " 'tmem189',\n",
       " 'tmem246',\n",
       " 'tmem8a',\n",
       " 'tmem99',\n",
       " 'tmsb15b',\n",
       " 'trac',\n",
       " 'trbc1',\n",
       " 'trbc2',\n",
       " 'trdc',\n",
       " 'trgc1',\n",
       " 'trgc2',\n",
       " 'trgjp1',\n",
       " 'trgjp2',\n",
       " 'trim16l',\n",
       " 'tsta3',\n",
       " 'ttc25',\n",
       " 'twistnb',\n",
       " 'vars',\n",
       " 'wars',\n",
       " 'wdr34',\n",
       " 'wdr60',\n",
       " 'wdr63',\n",
       " 'wdr66',\n",
       " 'wdr78',\n",
       " 'wdyhv1',\n",
       " 'yars',\n",
       " 'z82206.1',\n",
       " 'znf883',\n",
       " 'znrd1'}"
      ]
     },
     "execution_count": 4,
     "metadata": {},
     "output_type": "execute_result"
    }
   ],
   "source": [
    "# 将所有基因名称转换为小写\n",
    "all_genes_lower = [gene.lower() for gene in all_genes]\n",
    "adata_genes_lower = [gene.lower() for gene in existing_genes]\n",
    "\n",
    "# 将两个列表转换为集合\n",
    "all_genes_set = set(all_genes_lower)\n",
    "adata_genes_set = set(adata_genes_lower)\n",
    "\n",
    "# 计算交集\n",
    "matching_genes = all_genes_set.intersection(adata_genes_set)\n",
    "matching_count = len(matching_genes)\n",
    "# 计算不匹配的基因\n",
    "non_matching_genes = adata_genes_set - matching_genes\n",
    "non_matching_count = len(non_matching_genes)\n",
    "\n",
    "\n",
    "# 输出结果\n",
    "print(f\"匹配的基因数量: {matching_count}\")\n",
    "print(f\"匹配的基因列表: {matching_genes}\")\n",
    "non_matching_genes"
   ]
  },
  {
   "cell_type": "code",
   "execution_count": 5,
   "metadata": {
    "execution": {
     "iopub.execute_input": "2025-04-14T12:30:48.855331Z",
     "iopub.status.busy": "2025-04-14T12:30:48.855176Z",
     "iopub.status.idle": "2025-04-14T12:31:48.677727Z",
     "shell.execute_reply": "2025-04-14T12:31:48.676968Z"
    }
   },
   "outputs": [
    {
     "name": "stdout",
     "output_type": "stream",
     "text": [
      "Gene al391650.1 not found in all_genes list\n"
     ]
    },
    {
     "name": "stdout",
     "output_type": "stream",
     "text": [
      "Gene yars not found in all_genes list\n",
      "Gene adprhl2 not found in all_genes list\n"
     ]
    },
    {
     "name": "stdout",
     "output_type": "stream",
     "text": [
      "Gene tctex1d4 not found in all_genes list\n"
     ]
    },
    {
     "name": "stdout",
     "output_type": "stream",
     "text": [
      "Gene tctex1d1 not found in all_genes list\n",
      "Gene wdr78 not found in all_genes list\n",
      "Gene hhla3 not found in all_genes list\n",
      "Gene ac118549.1 not found in all_genes list\n",
      "Gene wdr63 not found in all_genes list\n"
     ]
    },
    {
     "name": "stdout",
     "output_type": "stream",
     "text": [
      "Gene kiaa1324 not found in all_genes list\n",
      "Gene sars not found in all_genes list\n"
     ]
    },
    {
     "name": "stdout",
     "output_type": "stream",
     "text": [
      "Gene hist2h2be not found in all_genes list\n"
     ]
    },
    {
     "name": "stdout",
     "output_type": "stream",
     "text": [
      "Gene al162596.1 not found in all_genes list\n",
      "Gene lor not found in all_genes list\n"
     ]
    },
    {
     "name": "stdout",
     "output_type": "stream",
     "text": [
      "Gene c1orf61 not found in all_genes list\n"
     ]
    },
    {
     "name": "stdout",
     "output_type": "stream",
     "text": [
      "Gene al590560.2 not found in all_genes list\n"
     ]
    },
    {
     "name": "stdout",
     "output_type": "stream",
     "text": [
      "Gene rgs5 not found in all_genes list\n",
      "Gene dusp27 not found in all_genes list\n"
     ]
    },
    {
     "name": "stdout",
     "output_type": "stream",
     "text": [
      "Gene eprs not found in all_genes list\n",
      "Gene marc2 not found in all_genes list\n",
      "Gene marc1 not found in all_genes list\n",
      "Gene h3f3a not found in all_genes list\n"
     ]
    },
    {
     "name": "stdout",
     "output_type": "stream",
     "text": [
      "Gene hist3h3 not found in all_genes list\n",
      "Gene hist3h2a not found in all_genes list\n",
      "Gene hist3h2bb not found in all_genes list\n",
      "Gene al109810.2 not found in all_genes list\n",
      "Gene tbce not found in all_genes list\n"
     ]
    },
    {
     "name": "stdout",
     "output_type": "stream",
     "text": [
      "Gene adss not found in all_genes list\n",
      "Gene al451007.3 not found in all_genes list\n",
      "Gene gcsaml-as1 not found in all_genes list\n"
     ]
    },
    {
     "name": "stdout",
     "output_type": "stream",
     "text": [
      "Gene mycnos not found in all_genes list\n",
      "Gene fam49a not found in all_genes list\n"
     ]
    },
    {
     "name": "stdout",
     "output_type": "stream",
     "text": [
      "Gene c2orf91 not found in all_genes list\n"
     ]
    },
    {
     "name": "stdout",
     "output_type": "stream",
     "text": [
      "Gene igkc not found in all_genes list\n",
      "Gene al845331.2 not found in all_genes list\n",
      "Gene ac092835.1 not found in all_genes list\n",
      "Gene kiaa1211l not found in all_genes list\n"
     ]
    },
    {
     "name": "stdout",
     "output_type": "stream",
     "text": [
      "Gene dars not found in all_genes list\n",
      "Gene march7 not found in all_genes list\n"
     ]
    },
    {
     "name": "stdout",
     "output_type": "stream",
     "text": [
      "Gene pde11a not found in all_genes list\n",
      "Gene dirc1 not found in all_genes list\n"
     ]
    },
    {
     "name": "stdout",
     "output_type": "stream",
     "text": [
      "Gene march4 not found in all_genes list\n"
     ]
    },
    {
     "name": "stdout",
     "output_type": "stream",
     "text": [
      "Gene ccdc140 not found in all_genes list\n",
      "Gene c2orf83 not found in all_genes list\n"
     ]
    },
    {
     "name": "stdout",
     "output_type": "stream",
     "text": [
      "Gene arih2os not found in all_genes list\n",
      "Gene qars not found in all_genes list\n",
      "Gene ccdc36 not found in all_genes list\n",
      "Gene cyb561d2 not found in all_genes list\n"
     ]
    },
    {
     "name": "stdout",
     "output_type": "stream",
     "text": [
      "Gene c3orf67 not found in all_genes list\n"
     ]
    },
    {
     "name": "stdout",
     "output_type": "stream",
     "text": [
      "Gene maats1 not found in all_genes list\n",
      "Gene alg1l not found in all_genes list\n"
     ]
    },
    {
     "name": "stdout",
     "output_type": "stream",
     "text": [
      "Gene kiaa1257 not found in all_genes list\n",
      "Gene h1fx not found in all_genes list\n",
      "Gene h1foo not found in all_genes list\n",
      "Gene acpp not found in all_genes list\n"
     ]
    },
    {
     "name": "stdout",
     "output_type": "stream",
     "text": [
      "Gene slc66a1l not found in all_genes list\n",
      "Gene terc not found in all_genes list\n"
     ]
    },
    {
     "name": "stdout",
     "output_type": "stream",
     "text": [
      "Gene ccdc39 not found in all_genes list\n"
     ]
    },
    {
     "name": "stdout",
     "output_type": "stream",
     "text": [
      "Gene ac072022.2 not found in all_genes list\n",
      "Gene tctex1d2 not found in all_genes list\n"
     ]
    },
    {
     "name": "stdout",
     "output_type": "stream",
     "text": [
      "Gene ac093323.1 not found in all_genes list\n"
     ]
    },
    {
     "name": "stdout",
     "output_type": "stream",
     "text": [
      "Gene kiaa1211 not found in all_genes list\n"
     ]
    },
    {
     "name": "stdout",
     "output_type": "stream",
     "text": [
      "Gene h2afz not found in all_genes list\n"
     ]
    },
    {
     "name": "stdout",
     "output_type": "stream",
     "text": [
      "Gene tmem155 not found in all_genes list\n"
     ]
    },
    {
     "name": "stdout",
     "output_type": "stream",
     "text": [
      "Gene march1 not found in all_genes list\n",
      "Gene fam218a not found in all_genes list\n"
     ]
    },
    {
     "name": "stdout",
     "output_type": "stream",
     "text": [
      "Gene march6 not found in all_genes list\n",
      "Gene march11 not found in all_genes list\n",
      "Gene ac106774.4 not found in all_genes list\n",
      "Gene h3.y not found in all_genes list\n",
      "Gene tars not found in all_genes list\n"
     ]
    },
    {
     "name": "stdout",
     "output_type": "stream",
     "text": [
      "Gene c5orf67 not found in all_genes list\n"
     ]
    },
    {
     "name": "stdout",
     "output_type": "stream",
     "text": [
      "Gene atp6ap1l not found in all_genes list\n",
      "Gene c5orf30 not found in all_genes list\n"
     ]
    },
    {
     "name": "stdout",
     "output_type": "stream",
     "text": [
      "Gene ac010255.3 not found in all_genes list\n",
      "Gene march3 not found in all_genes list\n"
     ]
    },
    {
     "name": "stdout",
     "output_type": "stream",
     "text": [
      "Gene h2afy not found in all_genes list\n",
      "Gene tmem173 not found in all_genes list\n"
     ]
    },
    {
     "name": "stdout",
     "output_type": "stream",
     "text": [
      "Gene hars not found in all_genes list\n"
     ]
    },
    {
     "name": "stdout",
     "output_type": "stream",
     "text": [
      "Gene lars not found in all_genes list\n"
     ]
    },
    {
     "name": "stdout",
     "output_type": "stream",
     "text": [
      "Gene rars not found in all_genes list\n"
     ]
    },
    {
     "name": "stdout",
     "output_type": "stream",
     "text": [
      "Gene ac113348.1 not found in all_genes list\n",
      "Gene c5orf60 not found in all_genes list\n",
      "Gene c6orf201 not found in all_genes list\n"
     ]
    },
    {
     "name": "stdout",
     "output_type": "stream",
     "text": [
      "Gene hist1h2aa not found in all_genes list\n",
      "Gene hist1h2ba not found in all_genes list\n",
      "Gene hist1h1a not found in all_genes list\n",
      "Gene hist1h4b not found in all_genes list\n",
      "Gene hist1h2bb not found in all_genes list\n",
      "Gene hist1h1c not found in all_genes list\n",
      "Gene hist1h4c not found in all_genes list\n",
      "Gene hist1h2ac not found in all_genes list\n",
      "Gene hist1h1e not found in all_genes list\n",
      "Gene hist1h4e not found in all_genes list\n",
      "Gene hist1h2bg not found in all_genes list\n",
      "Gene hist1h2ae not found in all_genes list\n",
      "Gene hist1h3e not found in all_genes list\n",
      "Gene hist1h1d not found in all_genes list\n",
      "Gene hist1h4g not found in all_genes list\n",
      "Gene hist1h2bh not found in all_genes list\n",
      "Gene hist1h3g not found in all_genes list\n",
      "Gene hist1h2ag not found in all_genes list\n",
      "Gene hist1h4i not found in all_genes list\n",
      "Gene hist1h2ai not found in all_genes list\n",
      "Gene hist1h3h not found in all_genes list\n",
      "Gene hist1h4j not found in all_genes list\n",
      "Gene hist1h2bn not found in all_genes list\n",
      "Gene hist1h2ak not found in all_genes list\n",
      "Gene hist1h1b not found in all_genes list\n"
     ]
    },
    {
     "name": "stdout",
     "output_type": "stream",
     "text": [
      "Gene znrd1 not found in all_genes list\n"
     ]
    },
    {
     "name": "stdout",
     "output_type": "stream",
     "text": [
      "Gene vars not found in all_genes list\n",
      "Gene snhg32 not found in all_genes list\n"
     ]
    },
    {
     "name": "stdout",
     "output_type": "stream",
     "text": [
      "Gene c6orf223 not found in all_genes list\n",
      "Gene defb133 not found in all_genes list\n"
     ]
    },
    {
     "name": "stdout",
     "output_type": "stream",
     "text": [
      "Gene ick not found in all_genes list\n",
      "Gene al135905.2 not found in all_genes list\n"
     ]
    },
    {
     "name": "stdout",
     "output_type": "stream",
     "text": [
      "Gene fgfr1op not found in all_genes list\n",
      "Gene tcte3 not found in all_genes list\n",
      "Gene ac187653.1 not found in all_genes list\n"
     ]
    },
    {
     "name": "stdout",
     "output_type": "stream",
     "text": [
      "Gene ac013470.2 not found in all_genes list\n",
      "Gene twistnb not found in all_genes list\n"
     ]
    },
    {
     "name": "stdout",
     "output_type": "stream",
     "text": [
      "Gene ac004593.3 not found in all_genes list\n",
      "Gene gars not found in all_genes list\n",
      "Gene trgc2 not found in all_genes list\n",
      "Gene trgjp2 not found in all_genes list\n",
      "Gene trgc1 not found in all_genes list\n",
      "Gene trgjp1 not found in all_genes list\n"
     ]
    },
    {
     "name": "stdout",
     "output_type": "stream",
     "text": [
      "Gene ac115220.1 not found in all_genes list\n"
     ]
    },
    {
     "name": "stdout",
     "output_type": "stream",
     "text": [
      "Gene kiaa1324l not found in all_genes list\n"
     ]
    },
    {
     "name": "stdout",
     "output_type": "stream",
     "text": [
      "Gene castor3 not found in all_genes list\n"
     ]
    },
    {
     "name": "stdout",
     "output_type": "stream",
     "text": [
      "Gene c7orf77 not found in all_genes list\n",
      "Gene ac011005.1 not found in all_genes list\n"
     ]
    },
    {
     "name": "stdout",
     "output_type": "stream",
     "text": [
      "Gene trbc1 not found in all_genes list\n",
      "Gene trbc2 not found in all_genes list\n",
      "Gene sspo not found in all_genes list\n",
      "Gene ac073111.4 not found in all_genes list\n"
     ]
    },
    {
     "name": "stdout",
     "output_type": "stream",
     "text": [
      "Gene ac021097.2 not found in all_genes list\n",
      "Gene wdr60 not found in all_genes list\n",
      "Gene ac134684.8 not found in all_genes list\n"
     ]
    },
    {
     "name": "stdout",
     "output_type": "stream",
     "text": [
      "Gene pinx1 not found in all_genes list\n"
     ]
    },
    {
     "name": "stdout",
     "output_type": "stream",
     "text": [
      "Gene impad1 not found in all_genes list\n"
     ]
    },
    {
     "name": "stdout",
     "output_type": "stream",
     "text": [
      "Gene wdyhv1 not found in all_genes list\n",
      "Gene fam49b not found in all_genes list\n",
      "Gene ac138647.1 not found in all_genes list\n"
     ]
    },
    {
     "name": "stdout",
     "output_type": "stream",
     "text": [
      "Gene tsta3 not found in all_genes list\n",
      "Gene dock8-as1 not found in all_genes list\n"
     ]
    },
    {
     "name": "stdout",
     "output_type": "stream",
     "text": [
      "Gene c9orf92 not found in all_genes list\n"
     ]
    },
    {
     "name": "stdout",
     "output_type": "stream",
     "text": [
      "Gene al162231.1 not found in all_genes list\n"
     ]
    },
    {
     "name": "stdout",
     "output_type": "stream",
     "text": [
      "Gene fam122a not found in all_genes list\n",
      "Gene al353572.3 not found in all_genes list\n"
     ]
    },
    {
     "name": "stdout",
     "output_type": "stream",
     "text": [
      "Gene iars not found in all_genes list\n",
      "Gene c9orf129 not found in all_genes list\n",
      "Gene al160269.1 not found in all_genes list\n"
     ]
    },
    {
     "name": "stdout",
     "output_type": "stream",
     "text": [
      "Gene tmem246 not found in all_genes list\n",
      "Gene palm2-akap2 not found in all_genes list\n",
      "Gene znf883 not found in all_genes list\n"
     ]
    },
    {
     "name": "stdout",
     "output_type": "stream",
     "text": [
      "Gene dec1 not found in all_genes list\n",
      "Gene b3gnt10 not found in all_genes list\n"
     ]
    },
    {
     "name": "stdout",
     "output_type": "stream",
     "text": [
      "Gene wdr34 not found in all_genes list\n"
     ]
    },
    {
     "name": "stdout",
     "output_type": "stream",
     "text": [
      "Gene al354761.1 not found in all_genes list\n",
      "Gene bx255925.3 not found in all_genes list\n"
     ]
    },
    {
     "name": "stdout",
     "output_type": "stream",
     "text": [
      "Gene mir1915hg not found in all_genes list\n",
      "Gene armc4 not found in all_genes list\n"
     ]
    },
    {
     "name": "stdout",
     "output_type": "stream",
     "text": [
      "Gene c10orf142 not found in all_genes list\n",
      "Gene march8 not found in all_genes list\n"
     ]
    },
    {
     "name": "stdout",
     "output_type": "stream",
     "text": [
      "Gene ac067752.1 not found in all_genes list\n",
      "Gene kif1bp not found in all_genes list\n",
      "Gene h2afy2 not found in all_genes list\n"
     ]
    },
    {
     "name": "stdout",
     "output_type": "stream",
     "text": [
      "Gene c10orf55 not found in all_genes list\n",
      "Gene dupd1 not found in all_genes list\n"
     ]
    },
    {
     "name": "stdout",
     "output_type": "stream",
     "text": [
      "Gene march5 not found in all_genes list\n"
     ]
    },
    {
     "name": "stdout",
     "output_type": "stream",
     "text": [
      "Gene atp5md not found in all_genes list\n"
     ]
    },
    {
     "name": "stdout",
     "output_type": "stream",
     "text": [
      "Gene al603764.2 not found in all_genes list\n"
     ]
    },
    {
     "name": "stdout",
     "output_type": "stream",
     "text": [
      "Gene pano1 not found in all_genes list\n",
      "Gene ac132217.2 not found in all_genes list\n",
      "Gene cars not found in all_genes list\n",
      "Gene c11orf40 not found in all_genes list\n"
     ]
    },
    {
     "name": "stdout",
     "output_type": "stream",
     "text": [
      "Gene ac104389.5 not found in all_genes list\n"
     ]
    },
    {
     "name": "stdout",
     "output_type": "stream",
     "text": [
      "Gene st5 not found in all_genes list\n",
      "Gene mrvi1 not found in all_genes list\n"
     ]
    },
    {
     "name": "stdout",
     "output_type": "stream",
     "text": [
      "Gene c11orf74 not found in all_genes list\n"
     ]
    },
    {
     "name": "stdout",
     "output_type": "stream",
     "text": [
      "Gene or5r1 not found in all_genes list\n"
     ]
    },
    {
     "name": "stdout",
     "output_type": "stream",
     "text": [
      "Gene ap002495.1 not found in all_genes list\n"
     ]
    },
    {
     "name": "stdout",
     "output_type": "stream",
     "text": [
      "Gene card16 not found in all_genes list\n",
      "Gene card17 not found in all_genes list\n",
      "Gene c11orf88 not found in all_genes list\n"
     ]
    },
    {
     "name": "stdout",
     "output_type": "stream",
     "text": [
      "Gene ccdc84 not found in all_genes list\n",
      "Gene h2afx not found in all_genes list\n"
     ]
    },
    {
     "name": "stdout",
     "output_type": "stream",
     "text": [
      "Gene hist4h4 not found in all_genes list\n",
      "Gene h2afj not found in all_genes list\n",
      "Gene lrmp not found in all_genes list\n",
      "Gene casc1 not found in all_genes list\n"
     ]
    },
    {
     "name": "stdout",
     "output_type": "stream",
     "text": [
      "Gene h3f3c not found in all_genes list\n",
      "Gene h1fnt not found in all_genes list\n"
     ]
    },
    {
     "name": "stdout",
     "output_type": "stream",
     "text": [
      "Gene c12orf81 not found in all_genes list\n",
      "Gene grasp not found in all_genes list\n",
      "Gene ac021072.1 not found in all_genes list\n",
      "Gene c12orf10 not found in all_genes list\n"
     ]
    },
    {
     "name": "stdout",
     "output_type": "stream",
     "text": [
      "Gene mars not found in all_genes list\n",
      "Gene slc26a10 not found in all_genes list\n",
      "Gene march9 not found in all_genes list\n"
     ]
    },
    {
     "name": "stdout",
     "output_type": "stream",
     "text": [
      "Gene cllu1os not found in all_genes list\n",
      "Gene c12orf74 not found in all_genes list\n"
     ]
    },
    {
     "name": "stdout",
     "output_type": "stream",
     "text": [
      "Gene c12orf49 not found in all_genes list\n",
      "Gene wdr66 not found in all_genes list\n"
     ]
    },
    {
     "name": "stdout",
     "output_type": "stream",
     "text": [
      "Gene spata13 not found in all_genes list\n"
     ]
    },
    {
     "name": "stdout",
     "output_type": "stream",
     "text": [
      "Gene spert not found in all_genes list\n",
      "Gene al445238.1 not found in all_genes list\n"
     ]
    },
    {
     "name": "stdout",
     "output_type": "stream",
     "text": [
      "Gene trdc not found in all_genes list\n",
      "Gene trac not found in all_genes list\n"
     ]
    },
    {
     "name": "stdout",
     "output_type": "stream",
     "text": [
      "Gene sfta3 not found in all_genes list\n"
     ]
    },
    {
     "name": "stdout",
     "output_type": "stream",
     "text": [
      "Gene elmsan1 not found in all_genes list\n"
     ]
    },
    {
     "name": "stdout",
     "output_type": "stream",
     "text": [
      "Gene c14orf177 not found in all_genes list\n",
      "Gene wars not found in all_genes list\n",
      "Gene atp5mpl not found in all_genes list\n",
      "Gene adssl1 not found in all_genes list\n"
     ]
    },
    {
     "name": "stdout",
     "output_type": "stream",
     "text": [
      "Gene igha2 not found in all_genes list\n",
      "Gene ighe not found in all_genes list\n",
      "Gene igha1 not found in all_genes list\n",
      "Gene ighg1 not found in all_genes list\n",
      "Gene ighg3 not found in all_genes list\n",
      "Gene ighd not found in all_genes list\n",
      "Gene ighm not found in all_genes list\n",
      "Gene fam30a not found in all_genes list\n",
      "Gene ac135068.1 not found in all_genes list\n",
      "Gene golga8m not found in all_genes list\n",
      "Gene ac091057.6 not found in all_genes list\n",
      "Gene c15orf41 not found in all_genes list\n"
     ]
    },
    {
     "name": "stdout",
     "output_type": "stream",
     "text": [
      "Gene linc02694 not found in all_genes list\n"
     ]
    },
    {
     "name": "stdout",
     "output_type": "stream",
     "text": [
      "Gene casc4 not found in all_genes list\n"
     ]
    },
    {
     "name": "stdout",
     "output_type": "stream",
     "text": [
      "Gene ct62 not found in all_genes list\n"
     ]
    },
    {
     "name": "stdout",
     "output_type": "stream",
     "text": [
      "Gene ac015871.1 not found in all_genes list\n"
     ]
    },
    {
     "name": "stdout",
     "output_type": "stream",
     "text": [
      "Gene spata8 not found in all_genes list\n",
      "Gene fam169b not found in all_genes list\n",
      "Gene tarsl2 not found in all_genes list\n",
      "Gene tmem8a not found in all_genes list\n"
     ]
    },
    {
     "name": "stdout",
     "output_type": "stream",
     "text": [
      "Gene al032819.3 not found in all_genes list\n"
     ]
    },
    {
     "name": "stdout",
     "output_type": "stream",
     "text": [
      "Gene ac025283.2 not found in all_genes list\n"
     ]
    },
    {
     "name": "stdout",
     "output_type": "stream",
     "text": [
      "Gene ac099489.1 not found in all_genes list\n",
      "Gene fopnl not found in all_genes list\n"
     ]
    },
    {
     "name": "stdout",
     "output_type": "stream",
     "text": [
      "Gene kiaa0556 not found in all_genes list\n"
     ]
    },
    {
     "name": "stdout",
     "output_type": "stream",
     "text": [
      "Gene c16orf58 not found in all_genes list\n",
      "Gene ac007906.2 not found in all_genes list\n"
     ]
    },
    {
     "name": "stdout",
     "output_type": "stream",
     "text": [
      "Gene fam192a not found in all_genes list\n"
     ]
    },
    {
     "name": "stdout",
     "output_type": "stream",
     "text": [
      "Gene lrrc29 not found in all_genes list\n"
     ]
    },
    {
     "name": "stdout",
     "output_type": "stream",
     "text": [
      "Gene aars not found in all_genes list\n",
      "Gene kars not found in all_genes list\n",
      "Gene ac025287.4 not found in all_genes list\n"
     ]
    },
    {
     "name": "stdout",
     "output_type": "stream",
     "text": [
      "Gene fam92b not found in all_genes list\n",
      "Gene cenpbd1 not found in all_genes list\n"
     ]
    },
    {
     "name": "stdout",
     "output_type": "stream",
     "text": [
      "Gene ac087498.1 not found in all_genes list\n",
      "Gene ac233723.1 not found in all_genes list\n"
     ]
    },
    {
     "name": "stdout",
     "output_type": "stream",
     "text": [
      "Gene trim16l not found in all_genes list\n",
      "Gene linc02693 not found in all_genes list\n"
     ]
    },
    {
     "name": "stdout",
     "output_type": "stream",
     "text": [
      "Gene slfn12l not found in all_genes list\n"
     ]
    },
    {
     "name": "stdout",
     "output_type": "stream",
     "text": [
      "Gene tmem99 not found in all_genes list\n",
      "Gene ttc25 not found in all_genes list\n"
     ]
    },
    {
     "name": "stdout",
     "output_type": "stream",
     "text": [
      "Gene g6pc not found in all_genes list\n",
      "Gene c17orf53 not found in all_genes list\n"
     ]
    },
    {
     "name": "stdout",
     "output_type": "stream",
     "text": [
      "Gene ac011195.2 not found in all_genes list\n",
      "Gene march10 not found in all_genes list\n"
     ]
    },
    {
     "name": "stdout",
     "output_type": "stream",
     "text": [
      "Gene h3f3b not found in all_genes list\n"
     ]
    },
    {
     "name": "stdout",
     "output_type": "stream",
     "text": [
      "Gene eloa3 not found in all_genes list\n",
      "Gene nars not found in all_genes list\n"
     ]
    },
    {
     "name": "stdout",
     "output_type": "stream",
     "text": [
      "Gene ac090360.1 not found in all_genes list\n"
     ]
    },
    {
     "name": "stdout",
     "output_type": "stream",
     "text": [
      "Gene ac005551.1 not found in all_genes list\n"
     ]
    },
    {
     "name": "stdout",
     "output_type": "stream",
     "text": [
      "Gene ac119396.1 not found in all_genes list\n",
      "Gene march2 not found in all_genes list\n"
     ]
    },
    {
     "name": "stdout",
     "output_type": "stream",
     "text": [
      "Gene ccdc151 not found in all_genes list\n"
     ]
    },
    {
     "name": "stdout",
     "output_type": "stream",
     "text": [
      "Gene c19orf57 not found in all_genes list\n"
     ]
    },
    {
     "name": "stdout",
     "output_type": "stream",
     "text": [
      "Gene ac008397.1 not found in all_genes list\n"
     ]
    },
    {
     "name": "stdout",
     "output_type": "stream",
     "text": [
      "Gene kiaa0355 not found in all_genes list\n"
     ]
    },
    {
     "name": "stdout",
     "output_type": "stream",
     "text": [
      "Gene cntd2 not found in all_genes list\n"
     ]
    },
    {
     "name": "stdout",
     "output_type": "stream",
     "text": [
      "Gene cd3eap not found in all_genes list\n",
      "Gene bhmg1 not found in all_genes list\n",
      "Gene ppp5d1 not found in all_genes list\n"
     ]
    },
    {
     "name": "stdout",
     "output_type": "stream",
     "text": [
      "Gene ccdc114 not found in all_genes list\n",
      "Gene ac008687.4 not found in all_genes list\n",
      "Gene ccdc155 not found in all_genes list\n"
     ]
    },
    {
     "name": "stdout",
     "output_type": "stream",
     "text": [
      "Gene ac010325.1 not found in all_genes list\n",
      "Gene c19orf48 not found in all_genes list\n",
      "Gene siglec5 not found in all_genes list\n"
     ]
    },
    {
     "name": "stdout",
     "output_type": "stream",
     "text": [
      "Gene gdf5os not found in all_genes list\n"
     ]
    },
    {
     "name": "stdout",
     "output_type": "stream",
     "text": [
      "Gene tmem189 not found in all_genes list\n"
     ]
    },
    {
     "name": "stdout",
     "output_type": "stream",
     "text": [
      "Gene fp565260.1 not found in all_genes list\n"
     ]
    },
    {
     "name": "stdout",
     "output_type": "stream",
     "text": [
      "Gene ap000552.4 not found in all_genes list\n",
      "Gene iglc1 not found in all_genes list\n",
      "Gene iglc7 not found in all_genes list\n",
      "Gene lrp5l not found in all_genes list\n"
     ]
    },
    {
     "name": "stdout",
     "output_type": "stream",
     "text": [
      "Gene elfn2 not found in all_genes list\n",
      "Gene h1f0 not found in all_genes list\n",
      "Gene z82206.1 not found in all_genes list\n"
     ]
    },
    {
     "name": "stdout",
     "output_type": "stream",
     "text": [
      "Gene arse not found in all_genes list\n"
     ]
    },
    {
     "name": "stdout",
     "output_type": "stream",
     "text": [
      "Gene cxorf21 not found in all_genes list\n",
      "Gene hypm not found in all_genes list\n",
      "Gene al121578.2 not found in all_genes list\n"
     ]
    },
    {
     "name": "stdout",
     "output_type": "stream",
     "text": [
      "Gene bx276092.9 not found in all_genes list\n"
     ]
    },
    {
     "name": "stdout",
     "output_type": "stream",
     "text": [
      "Gene nxf5 not found in all_genes list\n",
      "Gene glra4 not found in all_genes list\n",
      "Gene tmsb15b not found in all_genes list\n",
      "Gene h2bfwt not found in all_genes list\n",
      "Gene h2bfm not found in all_genes list\n",
      "Gene pih1d3 not found in all_genes list\n"
     ]
    },
    {
     "name": "stdout",
     "output_type": "stream",
     "text": [
      "Gene al772284.2 not found in all_genes list\n",
      "Gene cxorf56 not found in all_genes list\n",
      "Gene fam122b not found in all_genes list\n",
      "Gene fam122c not found in all_genes list\n"
     ]
    },
    {
     "name": "stdout",
     "output_type": "stream",
     "text": [
      "Gene cxorf40a not found in all_genes list\n",
      "Gene ac236972.4 not found in all_genes list\n"
     ]
    },
    {
     "name": "stdout",
     "output_type": "stream",
     "text": [
      "Gene prky not found in all_genes list\n",
      "Gene ac007244.1 not found in all_genes list\n"
     ]
    }
   ],
   "source": [
    "gene_to_index = {gene: idx for idx, gene in enumerate(all_genes_lower)}\n",
    "dense_adata_X = adata.X\n",
    "for i, gene in enumerate(adata_genes_lower):\n",
    "    if gene in gene_to_index:\n",
    "        new_data[:, gene_to_index[gene]] = dense_adata_X[:, i]\n",
    "    else:\n",
    "        print(f'Gene {gene} not found in all_genes list')"
   ]
  },
  {
   "cell_type": "code",
   "execution_count": 6,
   "metadata": {
    "execution": {
     "iopub.execute_input": "2025-04-14T12:31:48.679492Z",
     "iopub.status.busy": "2025-04-14T12:31:48.679286Z",
     "iopub.status.idle": "2025-04-14T12:31:56.325323Z",
     "shell.execute_reply": "2025-04-14T12:31:56.324426Z"
    }
   },
   "outputs": [
    {
     "name": "stderr",
     "output_type": "stream",
     "text": [
      "GPU available: True (cuda), used: True\n"
     ]
    },
    {
     "name": "stderr",
     "output_type": "stream",
     "text": [
      "TPU available: False, using: 0 TPU cores\n"
     ]
    },
    {
     "name": "stderr",
     "output_type": "stream",
     "text": [
      "HPU available: False, using: 0 HPUs\n"
     ]
    }
   ],
   "source": [
    "# 使用 GPU 进行评估（如果可用）\n",
    "estim.trainer = pl.Trainer(accelerator=\"gpu\", devices=1 if torch.cuda.is_available() else None)\n",
    "\n",
    "# 5. 数据集划分（70% 训练，15% 验证，15% 测试）\n",
    "label_encoder = LabelEncoder()\n",
    "labels_encoded = label_encoder.fit_transform(adata.obs['cell_type'])  # 预先编码标签\n",
    "\n",
    "\n",
    "random_seed = 42\n",
    "\n",
    "X_train_val, X_test, y_train_val, y_test = train_test_split(\n",
    "    new_data, labels_encoded, test_size=0.15, random_state=random_seed)\n",
    "\n",
    "X_train, X_val, y_train, y_val = train_test_split(\n",
    "    X_train_val, y_train_val, test_size=0.1765, random_state=random_seed)  # 0.1765 是为了让验证集占 15%"
   ]
  },
  {
   "cell_type": "code",
   "execution_count": 7,
   "metadata": {
    "execution": {
     "iopub.execute_input": "2025-04-14T12:31:56.327210Z",
     "iopub.status.busy": "2025-04-14T12:31:56.327017Z",
     "iopub.status.idle": "2025-04-14T12:31:58.119180Z",
     "shell.execute_reply": "2025-04-14T12:31:58.118689Z"
    }
   },
   "outputs": [
    {
     "data": {
      "text/plain": [
       "MLPAutoEncoder(\n",
       "  (train_metrics): MetricCollection(\n",
       "    (explained_var_uniform): ExplainedVariance()\n",
       "    (explained_var_weighted): ExplainedVariance()\n",
       "    (mse): MeanSquaredError(),\n",
       "    prefix=train_\n",
       "  )\n",
       "  (val_metrics): MetricCollection(\n",
       "    (explained_var_uniform): ExplainedVariance()\n",
       "    (explained_var_weighted): ExplainedVariance()\n",
       "    (mse): MeanSquaredError(),\n",
       "    prefix=val_\n",
       "  )\n",
       "  (test_metrics): MetricCollection(\n",
       "    (explained_var_uniform): ExplainedVariance()\n",
       "    (explained_var_weighted): ExplainedVariance()\n",
       "    (mse): MeanSquaredError(),\n",
       "    prefix=test_\n",
       "  )\n",
       "  (encoder): MLP(\n",
       "    (0): Linear(in_features=19331, out_features=512, bias=True)\n",
       "    (1): SELU()\n",
       "    (2): Dropout(p=0.1, inplace=False)\n",
       "    (3): Linear(in_features=512, out_features=512, bias=True)\n",
       "    (4): SELU()\n",
       "    (5): Dropout(p=0.1, inplace=False)\n",
       "    (6): Linear(in_features=512, out_features=256, bias=True)\n",
       "    (7): SELU()\n",
       "    (8): Dropout(p=0.1, inplace=False)\n",
       "    (9): Linear(in_features=256, out_features=256, bias=True)\n",
       "    (10): SELU()\n",
       "    (11): Dropout(p=0.1, inplace=False)\n",
       "    (12): Linear(in_features=256, out_features=64, bias=True)\n",
       "  )\n",
       "  (decoder): Sequential(\n",
       "    (0): MLP(\n",
       "      (0): Linear(in_features=64, out_features=256, bias=True)\n",
       "      (1): SELU()\n",
       "      (2): Dropout(p=0.1, inplace=False)\n",
       "      (3): Linear(in_features=256, out_features=256, bias=True)\n",
       "      (4): SELU()\n",
       "      (5): Dropout(p=0.1, inplace=False)\n",
       "      (6): Linear(in_features=256, out_features=512, bias=True)\n",
       "      (7): SELU()\n",
       "      (8): Dropout(p=0.1, inplace=False)\n",
       "      (9): Linear(in_features=512, out_features=512, bias=True)\n",
       "      (10): SELU()\n",
       "      (11): Dropout(p=0.1, inplace=False)\n",
       "      (12): Linear(in_features=512, out_features=19331, bias=True)\n",
       "    )\n",
       "    (1): Sigmoid()\n",
       "  )\n",
       "  (fc): Linear(in_features=64, out_features=20, bias=True)\n",
       ")"
      ]
     },
     "execution_count": 7,
     "metadata": {},
     "output_type": "execute_result"
    }
   ],
   "source": [
    "# 将训练数据转换为张量\n",
    "device = torch.device(\"cuda\" if torch.cuda.is_available() else \"cpu\")\n",
    "X_train_tensor = torch.tensor(X_train).float().to(device)\n",
    "y_train_tensor = torch.tensor(y_train).long().to(device)\n",
    "X_val_tensor = torch.tensor(X_val).float().to(device)\n",
    "y_val_tensor = torch.tensor(y_val).long().to(device)\n",
    "estim.model.to(device)"
   ]
  },
  {
   "cell_type": "code",
   "execution_count": 8,
   "metadata": {
    "execution": {
     "iopub.execute_input": "2025-04-14T12:31:58.120628Z",
     "iopub.status.busy": "2025-04-14T12:31:58.120465Z",
     "iopub.status.idle": "2025-04-14T12:31:58.123889Z",
     "shell.execute_reply": "2025-04-14T12:31:58.123429Z"
    }
   },
   "outputs": [],
   "source": [
    "# 6. 微调模型，仅微调 encoder 的最后两层，其他层参数冻结\n",
    "for param in estim.model.encoder.parameters():\n",
    "    param.requires_grad = False  # 冻结所有层\n",
    "\n",
    "# 解冻最后两层\n",
    "for param in list(estim.model.encoder.parameters())[-5:]:\n",
    "    param.requires_grad = True"
   ]
  },
  {
   "cell_type": "code",
   "execution_count": 9,
   "metadata": {
    "execution": {
     "iopub.execute_input": "2025-04-14T12:31:58.125118Z",
     "iopub.status.busy": "2025-04-14T12:31:58.124967Z",
     "iopub.status.idle": "2025-04-14T12:31:58.128598Z",
     "shell.execute_reply": "2025-04-14T12:31:58.128159Z"
    }
   },
   "outputs": [],
   "source": [
    "# 定义损失函数和优化器\n",
    "loss_fn = nn.CrossEntropyLoss()\n",
    "optimizer = AdamW(filter(lambda p: p.requires_grad, estim.model.parameters()), lr=9e-4, weight_decay=0.05)\n",
    "scheduler = torch.optim.lr_scheduler.StepLR(optimizer, step_size=2, gamma=0.9)"
   ]
  },
  {
   "cell_type": "code",
   "execution_count": 10,
   "metadata": {
    "execution": {
     "iopub.execute_input": "2025-04-14T12:31:58.129870Z",
     "iopub.status.busy": "2025-04-14T12:31:58.129713Z",
     "iopub.status.idle": "2025-04-14T12:31:58.135344Z",
     "shell.execute_reply": "2025-04-14T12:31:58.134885Z"
    }
   },
   "outputs": [],
   "source": [
    "from torch.utils.data import DataLoader, TensorDataset\n",
    "\n",
    "# 设置 batch size\n",
    "batch_size = 128  # 根据实际需求调整 batch size\n",
    "\n",
    "# 使用 TensorDataset 将训练数据和标签打包\n",
    "train_dataset = TensorDataset(X_train_tensor, y_train_tensor)\n",
    "val_dataset = TensorDataset(X_val_tensor, y_val_tensor)\n",
    "\n",
    "# 使用 DataLoader 来创建批次\n",
    "train_loader = DataLoader(train_dataset, batch_size=batch_size, shuffle=True)\n",
    "val_loader = DataLoader(val_dataset, batch_size=batch_size, shuffle=False)\n",
    "\n",
    "# 7. 微调模型\n",
    "def train_epoch(model, optimizer, loss_fn, train_loader, val_loader):\n",
    "    model.train()\n",
    "    total_train_loss = 0\n",
    "    \n",
    "    # 训练集批次训练\n",
    "    for X_batch, y_batch in train_loader:\n",
    "        optimizer.zero_grad()\n",
    "        \n",
    "        # 前向传播\n",
    "        outputs = model.encoder(X_batch)\n",
    "        logits = model.fc(outputs)\n",
    "        \n",
    "        # 计算损失\n",
    "        loss = loss_fn(logits, y_batch)\n",
    "        loss.backward()\n",
    "        optimizer.step()\n",
    "        \n",
    "        total_train_loss += loss.item()\n",
    "    \n",
    "    # 验证集\n",
    "    model.eval()\n",
    "    total_val_loss = 0\n",
    "    with torch.no_grad():\n",
    "        for X_val_batch, y_val_batch in val_loader:\n",
    "            val_outputs = model.encoder(X_val_batch)\n",
    "            val_logits = model.fc(val_outputs)\n",
    "            val_loss = loss_fn(val_logits, y_val_batch)\n",
    "            total_val_loss += val_loss.item()\n",
    "\n",
    "    # 返回平均损失\n",
    "    return total_train_loss / len(train_loader), total_val_loss / len(val_loader)"
   ]
  },
  {
   "cell_type": "code",
   "execution_count": 11,
   "metadata": {
    "execution": {
     "iopub.execute_input": "2025-04-14T12:31:58.136634Z",
     "iopub.status.busy": "2025-04-14T12:31:58.136481Z",
     "iopub.status.idle": "2025-04-14T12:34:50.245162Z",
     "shell.execute_reply": "2025-04-14T12:34:50.244444Z"
    }
   },
   "outputs": [
    {
     "name": "stdout",
     "output_type": "stream",
     "text": [
      "Epoch 1, Train Loss: 1.892190592629569, Validation Loss: 1.4981382571733914\n",
      "Validation loss improved to 1.4981382571733914, resetting patience.\n"
     ]
    },
    {
     "name": "stdout",
     "output_type": "stream",
     "text": [
      "Epoch 2, Train Loss: 1.7417605875612616, Validation Loss: 1.4271620738200652\n",
      "Validation loss improved to 1.4271620738200652, resetting patience.\n"
     ]
    },
    {
     "name": "stdout",
     "output_type": "stream",
     "text": [
      "Epoch 3, Train Loss: 1.7127423198668512, Validation Loss: 1.4538633701128838\n",
      "No improvement in validation loss. Patience counter: 1/20\n"
     ]
    },
    {
     "name": "stdout",
     "output_type": "stream",
     "text": [
      "Epoch 4, Train Loss: 1.6947079427949674, Validation Loss: 1.4112614961770864\n",
      "Validation loss improved to 1.4112614961770864, resetting patience.\n"
     ]
    },
    {
     "name": "stdout",
     "output_type": "stream",
     "text": [
      "Epoch 5, Train Loss: 1.6846390813261598, Validation Loss: 1.3680381878828392\n",
      "Validation loss improved to 1.3680381878828392, resetting patience.\n"
     ]
    },
    {
     "name": "stdout",
     "output_type": "stream",
     "text": [
      "Epoch 6, Train Loss: 1.6712794580302395, Validation Loss: 1.3962430752240695\n",
      "No improvement in validation loss. Patience counter: 1/20\n"
     ]
    },
    {
     "name": "stdout",
     "output_type": "stream",
     "text": [
      "Epoch 7, Train Loss: 1.6639571576328067, Validation Loss: 1.3794479743028298\n",
      "No improvement in validation loss. Patience counter: 2/20\n"
     ]
    },
    {
     "name": "stdout",
     "output_type": "stream",
     "text": [
      "Epoch 8, Train Loss: 1.6545293400575827, Validation Loss: 1.3613105987891172\n",
      "Validation loss improved to 1.3613105987891172, resetting patience.\n"
     ]
    },
    {
     "name": "stdout",
     "output_type": "stream",
     "text": [
      "Epoch 9, Train Loss: 1.6530160192604904, Validation Loss: 1.3524856371757312\n",
      "Validation loss improved to 1.3524856371757312, resetting patience.\n"
     ]
    },
    {
     "name": "stdout",
     "output_type": "stream",
     "text": [
      "Epoch 10, Train Loss: 1.639305068896367, Validation Loss: 1.3398430426915486\n",
      "Validation loss improved to 1.3398430426915486, resetting patience.\n"
     ]
    },
    {
     "name": "stdout",
     "output_type": "stream",
     "text": [
      "Epoch 11, Train Loss: 1.641281808601631, Validation Loss: 1.4153000611525315\n",
      "No improvement in validation loss. Patience counter: 1/20\n"
     ]
    },
    {
     "name": "stdout",
     "output_type": "stream",
     "text": [
      "Epoch 12, Train Loss: 1.630989197060302, Validation Loss: 1.3317451116366263\n",
      "Validation loss improved to 1.3317451116366263, resetting patience.\n"
     ]
    },
    {
     "name": "stdout",
     "output_type": "stream",
     "text": [
      "Epoch 13, Train Loss: 1.6261838966673547, Validation Loss: 1.3551920805221949\n",
      "No improvement in validation loss. Patience counter: 1/20\n"
     ]
    },
    {
     "name": "stdout",
     "output_type": "stream",
     "text": [
      "Epoch 14, Train Loss: 1.6252197187025468, Validation Loss: 1.3998368471096723\n",
      "No improvement in validation loss. Patience counter: 2/20\n"
     ]
    },
    {
     "name": "stdout",
     "output_type": "stream",
     "text": [
      "Epoch 15, Train Loss: 1.6223542723026905, Validation Loss: 1.3408564604245699\n",
      "No improvement in validation loss. Patience counter: 3/20\n"
     ]
    },
    {
     "name": "stdout",
     "output_type": "stream",
     "text": [
      "Epoch 16, Train Loss: 1.6190678722255833, Validation Loss: 1.296898857752482\n",
      "Validation loss improved to 1.296898857752482, resetting patience.\n"
     ]
    },
    {
     "name": "stdout",
     "output_type": "stream",
     "text": [
      "Epoch 17, Train Loss: 1.6128789808723953, Validation Loss: 1.3365348461346749\n",
      "No improvement in validation loss. Patience counter: 1/20\n"
     ]
    },
    {
     "name": "stdout",
     "output_type": "stream",
     "text": [
      "Epoch 18, Train Loss: 1.6146468559464255, Validation Loss: 1.3103879818549522\n",
      "No improvement in validation loss. Patience counter: 2/20\n"
     ]
    },
    {
     "name": "stdout",
     "output_type": "stream",
     "text": [
      "Epoch 19, Train Loss: 1.6071602086444476, Validation Loss: 1.30440182808118\n",
      "No improvement in validation loss. Patience counter: 3/20\n"
     ]
    },
    {
     "name": "stdout",
     "output_type": "stream",
     "text": [
      "Epoch 20, Train Loss: 1.6070226550102233, Validation Loss: 1.2977955096807234\n",
      "No improvement in validation loss. Patience counter: 4/20\n"
     ]
    },
    {
     "name": "stdout",
     "output_type": "stream",
     "text": [
      "Epoch 21, Train Loss: 1.6041028025386097, Validation Loss: 1.3374273232924632\n",
      "No improvement in validation loss. Patience counter: 5/20\n"
     ]
    },
    {
     "name": "stdout",
     "output_type": "stream",
     "text": [
      "Epoch 22, Train Loss: 1.6015415906906127, Validation Loss: 1.2998760162255703\n",
      "No improvement in validation loss. Patience counter: 6/20\n"
     ]
    },
    {
     "name": "stdout",
     "output_type": "stream",
     "text": [
      "Epoch 23, Train Loss: 1.6037300733419566, Validation Loss: 1.3139782135303204\n",
      "No improvement in validation loss. Patience counter: 7/20\n"
     ]
    },
    {
     "name": "stdout",
     "output_type": "stream",
     "text": [
      "Epoch 24, Train Loss: 1.602486045543964, Validation Loss: 1.298084474221254\n",
      "No improvement in validation loss. Patience counter: 8/20\n"
     ]
    },
    {
     "name": "stdout",
     "output_type": "stream",
     "text": [
      "Epoch 25, Train Loss: 1.597577103808686, Validation Loss: 1.2871277748010097\n",
      "Validation loss improved to 1.2871277748010097, resetting patience.\n"
     ]
    },
    {
     "name": "stdout",
     "output_type": "stream",
     "text": [
      "Epoch 26, Train Loss: 1.5981917077368433, Validation Loss: 1.3313607442073332\n",
      "No improvement in validation loss. Patience counter: 1/20\n"
     ]
    },
    {
     "name": "stdout",
     "output_type": "stream",
     "text": [
      "Epoch 27, Train Loss: 1.5975774471576398, Validation Loss: 1.2713143079708784\n",
      "Validation loss improved to 1.2713143079708784, resetting patience.\n"
     ]
    },
    {
     "name": "stdout",
     "output_type": "stream",
     "text": [
      "Epoch 28, Train Loss: 1.595478254360157, Validation Loss: 1.2823990717912332\n",
      "No improvement in validation loss. Patience counter: 1/20\n"
     ]
    },
    {
     "name": "stdout",
     "output_type": "stream",
     "text": [
      "Epoch 29, Train Loss: 1.5895923740261204, Validation Loss: 1.348939372942998\n",
      "No improvement in validation loss. Patience counter: 2/20\n"
     ]
    },
    {
     "name": "stdout",
     "output_type": "stream",
     "text": [
      "Epoch 30, Train Loss: 1.5892824262053102, Validation Loss: 1.2667406510084103\n",
      "Validation loss improved to 1.2667406510084103, resetting patience.\n"
     ]
    },
    {
     "name": "stdout",
     "output_type": "stream",
     "text": [
      "Epoch 31, Train Loss: 1.5923275930540903, Validation Loss: 1.3249787440666785\n",
      "No improvement in validation loss. Patience counter: 1/20\n"
     ]
    },
    {
     "name": "stdout",
     "output_type": "stream",
     "text": [
      "Epoch 32, Train Loss: 1.5949806455727462, Validation Loss: 1.2917368699342777\n",
      "No improvement in validation loss. Patience counter: 2/20\n"
     ]
    },
    {
     "name": "stdout",
     "output_type": "stream",
     "text": [
      "Epoch 33, Train Loss: 1.5853276371955871, Validation Loss: 1.2608514816333085\n",
      "Validation loss improved to 1.2608514816333085, resetting patience.\n"
     ]
    },
    {
     "name": "stdout",
     "output_type": "stream",
     "text": [
      "Epoch 34, Train Loss: 1.5886982439638495, Validation Loss: 1.286879233824901\n",
      "No improvement in validation loss. Patience counter: 1/20\n"
     ]
    },
    {
     "name": "stdout",
     "output_type": "stream",
     "text": [
      "Epoch 35, Train Loss: 1.5913800221223098, Validation Loss: 1.2680377587293967\n",
      "No improvement in validation loss. Patience counter: 2/20\n"
     ]
    },
    {
     "name": "stdout",
     "output_type": "stream",
     "text": [
      "Epoch 36, Train Loss: 1.585889547604781, Validation Loss: 1.2966479105827136\n",
      "No improvement in validation loss. Patience counter: 3/20\n"
     ]
    },
    {
     "name": "stdout",
     "output_type": "stream",
     "text": [
      "Epoch 37, Train Loss: 1.582185109762045, Validation Loss: 1.273205098739037\n",
      "No improvement in validation loss. Patience counter: 4/20\n"
     ]
    },
    {
     "name": "stdout",
     "output_type": "stream",
     "text": [
      "Epoch 38, Train Loss: 1.5861847910252247, Validation Loss: 1.2647455343833336\n",
      "No improvement in validation loss. Patience counter: 5/20\n"
     ]
    },
    {
     "name": "stdout",
     "output_type": "stream",
     "text": [
      "Epoch 39, Train Loss: 1.5825955135481697, Validation Loss: 1.2688266552411593\n",
      "No improvement in validation loss. Patience counter: 6/20\n"
     ]
    },
    {
     "name": "stdout",
     "output_type": "stream",
     "text": [
      "Epoch 40, Train Loss: 1.5887635242807996, Validation Loss: 1.2754566155947171\n",
      "No improvement in validation loss. Patience counter: 7/20\n"
     ]
    },
    {
     "name": "stdout",
     "output_type": "stream",
     "text": [
      "Epoch 41, Train Loss: 1.5841120725149638, Validation Loss: 1.2827105057545198\n",
      "No improvement in validation loss. Patience counter: 8/20\n"
     ]
    },
    {
     "name": "stdout",
     "output_type": "stream",
     "text": [
      "Epoch 42, Train Loss: 1.5803781437349844, Validation Loss: 1.2779253152700571\n",
      "No improvement in validation loss. Patience counter: 9/20\n"
     ]
    },
    {
     "name": "stdout",
     "output_type": "stream",
     "text": [
      "Epoch 43, Train Loss: 1.5825410852065454, Validation Loss: 1.2786066544361603\n",
      "No improvement in validation loss. Patience counter: 10/20\n"
     ]
    },
    {
     "name": "stdout",
     "output_type": "stream",
     "text": [
      "Epoch 44, Train Loss: 1.5833091467291445, Validation Loss: 1.293207816588573\n",
      "No improvement in validation loss. Patience counter: 11/20\n"
     ]
    },
    {
     "name": "stdout",
     "output_type": "stream",
     "text": [
      "Epoch 45, Train Loss: 1.5767056863386553, Validation Loss: 1.248843208948771\n",
      "Validation loss improved to 1.248843208948771, resetting patience.\n"
     ]
    },
    {
     "name": "stdout",
     "output_type": "stream",
     "text": [
      "Epoch 46, Train Loss: 1.5803340427168122, Validation Loss: 1.3204137282493786\n",
      "No improvement in validation loss. Patience counter: 1/20\n"
     ]
    },
    {
     "name": "stdout",
     "output_type": "stream",
     "text": [
      "Epoch 47, Train Loss: 1.5792794877356224, Validation Loss: 1.3004733684735421\n",
      "No improvement in validation loss. Patience counter: 2/20\n"
     ]
    },
    {
     "name": "stdout",
     "output_type": "stream",
     "text": [
      "Epoch 48, Train Loss: 1.5787285593839793, Validation Loss: 1.2856864085564246\n",
      "No improvement in validation loss. Patience counter: 3/20\n"
     ]
    },
    {
     "name": "stdout",
     "output_type": "stream",
     "text": [
      "Epoch 49, Train Loss: 1.5801452694358407, Validation Loss: 1.3011344891328078\n",
      "No improvement in validation loss. Patience counter: 4/20\n"
     ]
    },
    {
     "name": "stdout",
     "output_type": "stream",
     "text": [
      "Epoch 50, Train Loss: 1.5801833452759209, Validation Loss: 1.2520975461372963\n",
      "No improvement in validation loss. Patience counter: 5/20\n"
     ]
    },
    {
     "name": "stdout",
     "output_type": "stream",
     "text": [
      "Epoch 51, Train Loss: 1.581165923522069, Validation Loss: 1.3031530392475617\n",
      "No improvement in validation loss. Patience counter: 6/20\n"
     ]
    },
    {
     "name": "stdout",
     "output_type": "stream",
     "text": [
      "Epoch 52, Train Loss: 1.5808077159818712, Validation Loss: 1.2697694216019069\n",
      "No improvement in validation loss. Patience counter: 7/20\n"
     ]
    },
    {
     "name": "stdout",
     "output_type": "stream",
     "text": [
      "Epoch 53, Train Loss: 1.579150381586054, Validation Loss: 1.2918670226366091\n",
      "No improvement in validation loss. Patience counter: 8/20\n"
     ]
    },
    {
     "name": "stdout",
     "output_type": "stream",
     "text": [
      "Epoch 54, Train Loss: 1.5819461176683614, Validation Loss: 1.2902140812996106\n",
      "No improvement in validation loss. Patience counter: 9/20\n"
     ]
    },
    {
     "name": "stdout",
     "output_type": "stream",
     "text": [
      "Epoch 55, Train Loss: 1.575628843674293, Validation Loss: 1.2948355032847478\n",
      "No improvement in validation loss. Patience counter: 10/20\n"
     ]
    },
    {
     "name": "stdout",
     "output_type": "stream",
     "text": [
      "Epoch 56, Train Loss: 1.5784383055927989, Validation Loss: 1.271274321507185\n",
      "No improvement in validation loss. Patience counter: 11/20\n"
     ]
    },
    {
     "name": "stdout",
     "output_type": "stream",
     "text": [
      "Epoch 57, Train Loss: 1.577838177733369, Validation Loss: 1.307960295677185\n",
      "No improvement in validation loss. Patience counter: 12/20\n"
     ]
    },
    {
     "name": "stdout",
     "output_type": "stream",
     "text": [
      "Epoch 58, Train Loss: 1.5725228803498403, Validation Loss: 1.2818125675886105\n",
      "No improvement in validation loss. Patience counter: 13/20\n"
     ]
    },
    {
     "name": "stdout",
     "output_type": "stream",
     "text": [
      "Epoch 59, Train Loss: 1.5767528396386368, Validation Loss: 1.2506222908313458\n",
      "No improvement in validation loss. Patience counter: 14/20\n"
     ]
    },
    {
     "name": "stdout",
     "output_type": "stream",
     "text": [
      "Epoch 60, Train Loss: 1.5728412890172268, Validation Loss: 1.2431713556632018\n",
      "Validation loss improved to 1.2431713556632018, resetting patience.\n"
     ]
    },
    {
     "name": "stdout",
     "output_type": "stream",
     "text": [
      "Epoch 61, Train Loss: 1.5775636840652634, Validation Loss: 1.2655392224972064\n",
      "No improvement in validation loss. Patience counter: 1/20\n"
     ]
    },
    {
     "name": "stdout",
     "output_type": "stream",
     "text": [
      "Epoch 62, Train Loss: 1.5746688606974844, Validation Loss: 1.2647027089045597\n",
      "No improvement in validation loss. Patience counter: 2/20\n"
     ]
    },
    {
     "name": "stdout",
     "output_type": "stream",
     "text": [
      "Epoch 63, Train Loss: 1.5773389600135468, Validation Loss: 1.3305607123252674\n",
      "No improvement in validation loss. Patience counter: 3/20\n"
     ]
    },
    {
     "name": "stdout",
     "output_type": "stream",
     "text": [
      "Epoch 64, Train Loss: 1.5759022775587144, Validation Loss: 1.2659139669858492\n",
      "No improvement in validation loss. Patience counter: 4/20\n"
     ]
    },
    {
     "name": "stdout",
     "output_type": "stream",
     "text": [
      "Epoch 65, Train Loss: 1.5718247200106525, Validation Loss: 1.290163941261096\n",
      "No improvement in validation loss. Patience counter: 5/20\n"
     ]
    },
    {
     "name": "stdout",
     "output_type": "stream",
     "text": [
      "Epoch 66, Train Loss: 1.5755277052030459, Validation Loss: 1.2622979482014973\n",
      "No improvement in validation loss. Patience counter: 6/20\n"
     ]
    },
    {
     "name": "stdout",
     "output_type": "stream",
     "text": [
      "Epoch 67, Train Loss: 1.5782692880420894, Validation Loss: 1.2642918550051176\n",
      "No improvement in validation loss. Patience counter: 7/20\n"
     ]
    },
    {
     "name": "stdout",
     "output_type": "stream",
     "text": [
      "Epoch 68, Train Loss: 1.57633174264824, Validation Loss: 1.2888376969557542\n",
      "No improvement in validation loss. Patience counter: 8/20\n"
     ]
    },
    {
     "name": "stdout",
     "output_type": "stream",
     "text": [
      "Epoch 69, Train Loss: 1.5731343387247443, Validation Loss: 1.2559104161384778\n",
      "No improvement in validation loss. Patience counter: 9/20\n"
     ]
    },
    {
     "name": "stdout",
     "output_type": "stream",
     "text": [
      "Epoch 70, Train Loss: 1.5758811671655257, Validation Loss: 1.2794842139268532\n",
      "No improvement in validation loss. Patience counter: 10/20\n"
     ]
    },
    {
     "name": "stdout",
     "output_type": "stream",
     "text": [
      "Epoch 71, Train Loss: 1.5768200781319168, Validation Loss: 1.277298106902685\n",
      "No improvement in validation loss. Patience counter: 11/20\n"
     ]
    },
    {
     "name": "stdout",
     "output_type": "stream",
     "text": [
      "Epoch 72, Train Loss: 1.5721304548965707, Validation Loss: 1.252407530026558\n",
      "No improvement in validation loss. Patience counter: 12/20\n"
     ]
    },
    {
     "name": "stdout",
     "output_type": "stream",
     "text": [
      "Epoch 73, Train Loss: 1.5711018796805496, Validation Loss: 1.2398320650443053\n",
      "Validation loss improved to 1.2398320650443053, resetting patience.\n"
     ]
    },
    {
     "name": "stdout",
     "output_type": "stream",
     "text": [
      "Epoch 74, Train Loss: 1.5746946227419507, Validation Loss: 1.260490485949394\n",
      "No improvement in validation loss. Patience counter: 1/20\n"
     ]
    },
    {
     "name": "stdout",
     "output_type": "stream",
     "text": [
      "Epoch 75, Train Loss: 1.5740330449827424, Validation Loss: 1.3063658145757822\n",
      "No improvement in validation loss. Patience counter: 2/20\n"
     ]
    },
    {
     "name": "stdout",
     "output_type": "stream",
     "text": [
      "Epoch 76, Train Loss: 1.5755265580428826, Validation Loss: 1.2808178235323002\n",
      "No improvement in validation loss. Patience counter: 3/20\n"
     ]
    },
    {
     "name": "stdout",
     "output_type": "stream",
     "text": [
      "Epoch 77, Train Loss: 1.576483260013245, Validation Loss: 1.303632698303614\n",
      "No improvement in validation loss. Patience counter: 4/20\n"
     ]
    },
    {
     "name": "stdout",
     "output_type": "stream",
     "text": [
      "Epoch 78, Train Loss: 1.5739756467578174, Validation Loss: 1.2692323128382366\n",
      "No improvement in validation loss. Patience counter: 5/20\n"
     ]
    },
    {
     "name": "stdout",
     "output_type": "stream",
     "text": [
      "Epoch 79, Train Loss: 1.5731806456387698, Validation Loss: 1.2963940657102144\n",
      "No improvement in validation loss. Patience counter: 6/20\n"
     ]
    },
    {
     "name": "stdout",
     "output_type": "stream",
     "text": [
      "Epoch 80, Train Loss: 1.570631651170961, Validation Loss: 1.247649072072445\n",
      "No improvement in validation loss. Patience counter: 7/20\n"
     ]
    },
    {
     "name": "stdout",
     "output_type": "stream",
     "text": [
      "Epoch 81, Train Loss: 1.5716140406472343, Validation Loss: 1.2863646366657355\n",
      "No improvement in validation loss. Patience counter: 8/20\n"
     ]
    },
    {
     "name": "stdout",
     "output_type": "stream",
     "text": [
      "Epoch 82, Train Loss: 1.5740868547460536, Validation Loss: 1.2837514565541195\n",
      "No improvement in validation loss. Patience counter: 9/20\n"
     ]
    },
    {
     "name": "stdout",
     "output_type": "stream",
     "text": [
      "Epoch 83, Train Loss: 1.577333141552223, Validation Loss: 1.2710661775026566\n",
      "No improvement in validation loss. Patience counter: 10/20\n"
     ]
    },
    {
     "name": "stdout",
     "output_type": "stream",
     "text": [
      "Epoch 84, Train Loss: 1.5686981744818635, Validation Loss: 1.2735868777984227\n",
      "No improvement in validation loss. Patience counter: 11/20\n"
     ]
    },
    {
     "name": "stdout",
     "output_type": "stream",
     "text": [
      "Epoch 85, Train Loss: 1.5732525723321098, Validation Loss: 1.2692386370438795\n",
      "No improvement in validation loss. Patience counter: 12/20\n"
     ]
    },
    {
     "name": "stdout",
     "output_type": "stream",
     "text": [
      "Epoch 86, Train Loss: 1.5752425233086387, Validation Loss: 1.2895029648756369\n",
      "No improvement in validation loss. Patience counter: 13/20\n"
     ]
    },
    {
     "name": "stdout",
     "output_type": "stream",
     "text": [
      "Epoch 87, Train Loss: 1.5718904416639725, Validation Loss: 1.2603942467616154\n",
      "No improvement in validation loss. Patience counter: 14/20\n"
     ]
    },
    {
     "name": "stdout",
     "output_type": "stream",
     "text": [
      "Epoch 88, Train Loss: 1.5692151131210745, Validation Loss: 1.2363288610409469\n",
      "Validation loss improved to 1.2363288610409469, resetting patience.\n"
     ]
    },
    {
     "name": "stdout",
     "output_type": "stream",
     "text": [
      "Epoch 89, Train Loss: 1.570662634058313, Validation Loss: 1.2979048765622652\n",
      "No improvement in validation loss. Patience counter: 1/20\n"
     ]
    },
    {
     "name": "stdout",
     "output_type": "stream",
     "text": [
      "Epoch 90, Train Loss: 1.572082101905739, Validation Loss: 1.2636821624560235\n",
      "No improvement in validation loss. Patience counter: 2/20\n"
     ]
    },
    {
     "name": "stdout",
     "output_type": "stream",
     "text": [
      "Epoch 91, Train Loss: 1.5738044808199116, Validation Loss: 1.2647307108610104\n",
      "No improvement in validation loss. Patience counter: 3/20\n"
     ]
    },
    {
     "name": "stdout",
     "output_type": "stream",
     "text": [
      "Epoch 92, Train Loss: 1.5705757987368238, Validation Loss: 1.2554017837230975\n",
      "No improvement in validation loss. Patience counter: 4/20\n"
     ]
    },
    {
     "name": "stdout",
     "output_type": "stream",
     "text": [
      "Epoch 93, Train Loss: 1.5723201197582286, Validation Loss: 1.286663782902253\n",
      "No improvement in validation loss. Patience counter: 5/20\n"
     ]
    },
    {
     "name": "stdout",
     "output_type": "stream",
     "text": [
      "Epoch 94, Train Loss: 1.570893567604023, Validation Loss: 1.2961475133895874\n",
      "No improvement in validation loss. Patience counter: 6/20\n"
     ]
    },
    {
     "name": "stdout",
     "output_type": "stream",
     "text": [
      "Epoch 95, Train Loss: 1.5727092704930148, Validation Loss: 1.285610471627651\n",
      "No improvement in validation loss. Patience counter: 7/20\n"
     ]
    },
    {
     "name": "stdout",
     "output_type": "stream",
     "text": [
      "Epoch 96, Train Loss: 1.5719295007841927, Validation Loss: 1.2587693559817779\n",
      "No improvement in validation loss. Patience counter: 8/20\n"
     ]
    },
    {
     "name": "stdout",
     "output_type": "stream",
     "text": [
      "Epoch 97, Train Loss: 1.5726159859489608, Validation Loss: 1.2982487684641129\n",
      "No improvement in validation loss. Patience counter: 9/20\n"
     ]
    },
    {
     "name": "stdout",
     "output_type": "stream",
     "text": [
      "Epoch 98, Train Loss: 1.5726066713804727, Validation Loss: 1.2989840550300402\n",
      "No improvement in validation loss. Patience counter: 10/20\n"
     ]
    },
    {
     "name": "stdout",
     "output_type": "stream",
     "text": [
      "Epoch 99, Train Loss: 1.5711589185746162, Validation Loss: 1.2713413152939235\n",
      "No improvement in validation loss. Patience counter: 11/20\n"
     ]
    },
    {
     "name": "stdout",
     "output_type": "stream",
     "text": [
      "Epoch 100, Train Loss: 1.5691641912355527, Validation Loss: 1.262720274925232\n",
      "No improvement in validation loss. Patience counter: 12/20\n"
     ]
    },
    {
     "name": "stdout",
     "output_type": "stream",
     "text": [
      "Epoch 101, Train Loss: 1.5674439765594819, Validation Loss: 1.2551354811741755\n",
      "No improvement in validation loss. Patience counter: 13/20\n"
     ]
    },
    {
     "name": "stdout",
     "output_type": "stream",
     "text": [
      "Epoch 102, Train Loss: 1.5754019563014692, Validation Loss: 1.2473497182894975\n",
      "No improvement in validation loss. Patience counter: 14/20\n"
     ]
    },
    {
     "name": "stdout",
     "output_type": "stream",
     "text": [
      "Epoch 103, Train Loss: 1.570409950843224, Validation Loss: 1.2617111640098768\n",
      "No improvement in validation loss. Patience counter: 15/20\n"
     ]
    },
    {
     "name": "stdout",
     "output_type": "stream",
     "text": [
      "Epoch 104, Train Loss: 1.567026573747069, Validation Loss: 1.251012479953277\n",
      "No improvement in validation loss. Patience counter: 16/20\n"
     ]
    },
    {
     "name": "stdout",
     "output_type": "stream",
     "text": [
      "Epoch 105, Train Loss: 1.5713671043678954, Validation Loss: 1.2565010676017174\n",
      "No improvement in validation loss. Patience counter: 17/20\n"
     ]
    },
    {
     "name": "stdout",
     "output_type": "stream",
     "text": [
      "Epoch 106, Train Loss: 1.5711480867731702, Validation Loss: 1.2590299380131258\n",
      "No improvement in validation loss. Patience counter: 18/20\n"
     ]
    },
    {
     "name": "stdout",
     "output_type": "stream",
     "text": [
      "Epoch 107, Train Loss: 1.5706374134336198, Validation Loss: 1.2928651632406774\n",
      "No improvement in validation loss. Patience counter: 19/20\n"
     ]
    },
    {
     "name": "stdout",
     "output_type": "stream",
     "text": [
      "Epoch 108, Train Loss: 1.5744117066100403, Validation Loss: 1.270858065287272\n",
      "No improvement in validation loss. Patience counter: 20/20\n",
      "Early stopping triggered. Stopping training at epoch 108.\n",
      "Loaded best model weights based on validation loss.\n"
     ]
    }
   ],
   "source": [
    "import copy  # 用于保存模型的最佳状态\n",
    "\n",
    "# Early Stopping 参数\n",
    "patience = 20  # 如果验证损失在 10 个 epoch 中没有改善，停止训练\n",
    "min_delta = 1e-4  # 最小改善幅度\n",
    "patience_counter = 0\n",
    "best_val_loss = float('inf')  # 初始设置为正无穷大\n",
    "best_model_weights = copy.deepcopy(estim.model.state_dict())  # 保存最佳模型权重\n",
    "train_losses = []\n",
    "val_losses = []\n",
    "\n",
    "# 训练 500 个 epoch\n",
    "for epoch in range(500):\n",
    "    train_loss, val_loss = train_epoch(estim.model, optimizer, loss_fn, train_loader, val_loader)\n",
    "    print(f'Epoch {epoch+1}, Train Loss: {train_loss}, Validation Loss: {val_loss}')\n",
    "    train_losses.append(train_loss)\n",
    "    val_losses.append(val_loss)\n",
    "    \n",
    "    # Early Stopping 检查\n",
    "    if val_loss < best_val_loss - min_delta:\n",
    "        best_val_loss = val_loss  # 更新最佳验证损失\n",
    "        patience_counter = 0  # 重置 patience 计数器\n",
    "        best_model_weights = copy.deepcopy(estim.model.state_dict())  # 保存当前最佳模型\n",
    "        print(f\"Validation loss improved to {best_val_loss}, resetting patience.\")\n",
    "    else:\n",
    "        patience_counter += 1\n",
    "        print(f\"No improvement in validation loss. Patience counter: {patience_counter}/{patience}\")\n",
    "    \n",
    "    # 如果 patience_counter 超过设置的 patience，停止训练\n",
    "    if patience_counter >= patience:\n",
    "        print(f\"Early stopping triggered. Stopping training at epoch {epoch+1}.\")\n",
    "        break\n",
    "\n",
    "# 恢复到训练中性能最好的模型权重\n",
    "estim.model.load_state_dict(best_model_weights)\n",
    "print(\"Loaded best model weights based on validation loss.\")"
   ]
  },
  {
   "cell_type": "code",
   "execution_count": 12,
   "metadata": {
    "execution": {
     "iopub.execute_input": "2025-04-14T12:34:50.247160Z",
     "iopub.status.busy": "2025-04-14T12:34:50.246972Z",
     "iopub.status.idle": "2025-04-14T12:34:52.279286Z",
     "shell.execute_reply": "2025-04-14T12:34:52.278666Z"
    }
   },
   "outputs": [],
   "source": [
    "# 8. 使用 KNN 替代测试阶段的 FC 分类层\n",
    "# 使用 encoder 提取训练集和测试集的 embedding\n",
    "estim.model.eval()\n",
    "with torch.no_grad():\n",
    "    train_embeddings = estim.model.encoder(torch.tensor(X_train).float().to(device)).cpu().numpy()\n",
    "    test_embeddings = estim.model.encoder(torch.tensor(X_test).float().to(device)).cpu().numpy()"
   ]
  },
  {
   "cell_type": "code",
   "execution_count": 13,
   "metadata": {
    "execution": {
     "iopub.execute_input": "2025-04-14T12:34:52.281195Z",
     "iopub.status.busy": "2025-04-14T12:34:52.281029Z",
     "iopub.status.idle": "2025-04-14T12:34:53.092667Z",
     "shell.execute_reply": "2025-04-14T12:34:53.092096Z"
    }
   },
   "outputs": [
    {
     "name": "stdout",
     "output_type": "stream",
     "text": [
      "KNN Accuracy on Test Data: 0.6339264246213032\n",
      "Weighted F1 Score: 0.6230539061032725\n",
      "Macro F1 Score: 0.4601248647892448\n",
      "Random Guess Accuracy: 0.13330938159201633\n",
      "                         precision    recall  f1-score   support\n",
      "\n",
      "                B_Cells       0.73      0.76      0.75       770\n",
      "           CD4+_T_Cells       0.54      0.70      0.61      1264\n",
      "           CD8+_T_Cells       0.55      0.56      0.56      1069\n",
      "                 DCIS_1       0.39      0.41      0.40      1927\n",
      "                 DCIS_2       0.38      0.29      0.33      1739\n",
      "            Endothelial       0.82      0.86      0.84      1347\n",
      "              IRF7+_DCs       0.69      0.51      0.58        73\n",
      "         Invasive_Tumor       0.60      0.70      0.64      5153\n",
      "             LAMP3+_DCs       0.60      0.07      0.12        45\n",
      "          Macrophages_1       0.72      0.77      0.74      1646\n",
      "          Macrophages_2       0.47      0.29      0.36       256\n",
      "             Mast_Cells       1.00      0.07      0.13        28\n",
      "          Myoepi_ACTA2+       0.71      0.68      0.69       995\n",
      "          Myoepi_KRT15+       0.72      0.43      0.54       429\n",
      "      Perivascular-Like       0.51      0.27      0.36       142\n",
      "  Prolif_Invasive_Tumor       0.53      0.34      0.42       564\n",
      "                Stromal       0.77      0.79      0.78      6254\n",
      "Stromal_&_T_Cell_Hybrid       0.00      0.00      0.00        93\n",
      "  T_Cell_&_Tumor_Hybrid       0.06      0.02      0.03        88\n",
      "              Unlabeled       0.48      0.24      0.32      1072\n",
      "\n",
      "               accuracy                           0.63     24954\n",
      "              macro avg       0.56      0.44      0.46     24954\n",
      "           weighted avg       0.62      0.63      0.62     24954\n",
      "\n"
     ]
    }
   ],
   "source": [
    "import pandas as pd\n",
    "from sklearn.neighbors import KNeighborsClassifier\n",
    "from sklearn.metrics import accuracy_score, f1_score, classification_report\n",
    "\n",
    "    \n",
    "\n",
    "    # 初始化和训练KNN分类器\n",
    "knn = KNeighborsClassifier(n_neighbors=5)\n",
    "knn.fit(train_embeddings, y_train)\n",
    "    \n",
    "    # 模型预测\n",
    "predictions = knn.predict(test_embeddings)\n",
    "\n",
    "    # 计算准确率和 F1 分数\n",
    "accuracy = accuracy_score(y_test, predictions)\n",
    "print(f\"KNN Accuracy on Test Data: {accuracy}\")\n",
    "f1 = f1_score(y_test, predictions, average='weighted')\n",
    "print(f\"Weighted F1 Score: {f1}\")\n",
    "    \n",
    "macro_f1 = f1_score(y_test, predictions, average='macro')\n",
    "print(f'Macro F1 Score: {macro_f1}')\n",
    "\n",
    "    # 计算随机猜测的准确率\n",
    "class_probabilities = np.bincount(y_test) / len(y_test)\n",
    "random_accuracy = np.sum(class_probabilities ** 2)\n",
    "print(f\"Random Guess Accuracy: {random_accuracy}\")\n",
    "\n",
    "    # 生成分类报告\n",
    "report = classification_report(y_test, predictions, target_names=label_encoder.classes_)\n",
    "print(report)"
   ]
  },
  {
   "cell_type": "code",
   "execution_count": 14,
   "metadata": {
    "execution": {
     "iopub.execute_input": "2025-04-14T12:34:53.094325Z",
     "iopub.status.busy": "2025-04-14T12:34:53.093892Z",
     "iopub.status.idle": "2025-04-14T12:35:02.495716Z",
     "shell.execute_reply": "2025-04-14T12:35:02.495132Z"
    }
   },
   "outputs": [],
   "source": [
    "with torch.no_grad():\n",
    "    new_data_tensor = torch.tensor(new_data).float().to(device)\n",
    "    SSL_embeddings = estim.model.encoder(new_data_tensor).detach().cpu().numpy()\n",
    "new_adata = sc.read_h5ad(data_dir)\n",
    "new_adata.obsm[f'SSL_GP_FT_{random_seed}'] = SSL_embeddings\n",
    "new_adata.uns[f'GP_FT_y_test_{random_seed}'] = y_test\n",
    "new_adata.uns[f'GP_FT_predictions_{random_seed}'] = predictions\n",
    "new_adata.uns[f'GP_FT_target_names_{random_seed}'] = label_encoder.classes_\n",
    "new_adata.uns[f'GP_FT_train_loss_{random_seed}'] = train_losses\n",
    "new_adata.uns[f'GP_FT_val_loss_{random_seed}'] = val_losses\n",
    "new_adata.write_h5ad(data_dir)"
   ]
  },
  {
   "cell_type": "code",
   "execution_count": 15,
   "metadata": {
    "execution": {
     "iopub.execute_input": "2025-04-14T12:35:02.497664Z",
     "iopub.status.busy": "2025-04-14T12:35:02.497497Z",
     "iopub.status.idle": "2025-04-14T12:35:02.511136Z",
     "shell.execute_reply": "2025-04-14T12:35:02.510647Z"
    }
   },
   "outputs": [
    {
     "name": "stdout",
     "output_type": "stream",
     "text": [
      "Metrics Summary:\n",
      "init_train_loss\tinit_val_loss\tconverged_epoch\tconverged_val_loss\tmacro_f1\tweighted_f1\tmicro_f1\n",
      "1.892\t1.498\t88\t1.236\t0.460\t0.623\t0.634\n"
     ]
    }
   ],
   "source": [
    "\n",
    "import pandas as pd\n",
    "import os\n",
    "import re\n",
    "\n",
    "# 当前 Notebook 文件名\n",
    "notebook_name = \"uniport_imputed_Xenium_breast_cancer_sample1_replicate1_GP_mask_fine_tune_42.ipynb\"\n",
    "\n",
    "# 初始化需要打印的值\n",
    "init_train_loss = train_losses[0] if 'train_losses' in globals() else None\n",
    "init_val_loss = val_losses[0] if 'val_losses' in globals() else None\n",
    "converged_epoch = len(train_losses) - patience if 'train_losses' in globals() else None\n",
    "converged_val_loss = best_val_loss if 'best_val_loss' in globals() else None\n",
    "\n",
    "# 打印所有所需的指标\n",
    "print(\"Metrics Summary:\")\n",
    "if 'train_losses' in globals():\n",
    "    print(f\"init_train_loss\\tinit_val_loss\\tconverged_epoch\\tconverged_val_loss\\tmacro_f1\\tweighted_f1\\tmicro_f1\")\n",
    "    print(f\"{init_train_loss:.3f}\\t{init_val_loss:.3f}\\t{converged_epoch}\\t{converged_val_loss:.3f}\\t{macro_f1:.3f}\\t{f1:.3f}\\t{accuracy:.3f}\")\n",
    "else:\n",
    "    print(f\"macro_f1\\tweighted_f1\\tmicro_f1\")\n",
    "    print(f\"{macro_f1:.3f}\\t{f1:.3f}\\t{accuracy:.3f}\")\n",
    "\n",
    "# 保存结果到 CSV 文件\n",
    "output_data = {\n",
    "    'dataset_split_random_seed': [int(random_seed)],\n",
    "    'dataset': ['uniport_imputed_xenium_breast_cancer_sample1_replicate1'],\n",
    "    'method': [re.search(r'replicate1_(.*?)_\\d+', notebook_name).group(1)],\n",
    "    'init_train_loss': [init_train_loss if init_train_loss is not None else ''],\n",
    "    'init_val_loss': [init_val_loss if init_val_loss is not None else ''],\n",
    "    'converged_epoch': [converged_epoch if converged_epoch is not None else ''],\n",
    "    'converged_val_loss': [converged_val_loss if converged_val_loss is not None else ''],\n",
    "    'macro_f1': [macro_f1],\n",
    "    'weighted_f1': [f1],\n",
    "    'micro_f1': [accuracy]\n",
    "}\n",
    "output_df = pd.DataFrame(output_data)\n",
    "\n",
    "# 保存到当前目录下名为 results 的文件夹中\n",
    "if not os.path.exists('results'):\n",
    "    os.makedirs('results')\n",
    "\n",
    "csv_filename = f\"results/{os.path.splitext(notebook_name)[0]}_results.csv\"\n",
    "output_df.to_csv(csv_filename, index=False)\n"
   ]
  }
 ],
 "metadata": {
  "kernelspec": {
   "display_name": "ssl",
   "language": "python",
   "name": "python3"
  },
  "language_info": {
   "codemirror_mode": {
    "name": "ipython",
    "version": 3
   },
   "file_extension": ".py",
   "mimetype": "text/x-python",
   "name": "python",
   "nbconvert_exporter": "python",
   "pygments_lexer": "ipython3",
   "version": "3.10.13"
  }
 },
 "nbformat": 4,
 "nbformat_minor": 2
}
