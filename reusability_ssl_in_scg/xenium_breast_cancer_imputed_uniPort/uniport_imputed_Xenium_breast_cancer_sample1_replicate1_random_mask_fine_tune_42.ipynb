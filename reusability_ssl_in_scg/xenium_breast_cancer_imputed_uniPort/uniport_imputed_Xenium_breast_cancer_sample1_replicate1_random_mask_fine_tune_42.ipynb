{
 "cells": [
  {
   "cell_type": "code",
   "execution_count": 1,
   "metadata": {
    "execution": {
     "iopub.execute_input": "2025-04-14T11:45:46.125216Z",
     "iopub.status.busy": "2025-04-14T11:45:46.125088Z",
     "iopub.status.idle": "2025-04-14T11:45:56.784564Z",
     "shell.execute_reply": "2025-04-14T11:45:56.783718Z"
    }
   },
   "outputs": [
    {
     "name": "stderr",
     "output_type": "stream",
     "text": [
      "/home/hanchuangyi/miniconda3/envs/ssl/lib/python3.10/site-packages/merlin/dtypes/mappings/tf.py:52: UserWarning: Tensorflow dtype mappings did not load successfully due to an error: No module named 'tensorflow'\n",
      "  warn(f\"Tensorflow dtype mappings did not load successfully due to an error: {exc.msg}\")\n",
      "/home/hanchuangyi/miniconda3/envs/ssl/lib/python3.10/site-packages/merlin/dtypes/mappings/triton.py:53: UserWarning: Triton dtype mappings did not load successfully due to an error: No module named 'tritonclient'\n",
      "  warn(f\"Triton dtype mappings did not load successfully due to an error: {exc.msg}\")\n"
     ]
    }
   ],
   "source": [
    "import scanpy as sc\n",
    "import torch\n",
    "import lightning.pytorch as pl\n",
    "from torch import nn\n",
    "from torch.optim import AdamW\n",
    "from self_supervision.models.lightning_modules.cellnet_autoencoder import MLPAutoEncoder\n",
    "from self_supervision.estimator.cellnet import EstimatorAutoEncoder\n",
    "from sklearn.model_selection import train_test_split\n",
    "from sklearn.preprocessing import LabelEncoder\n",
    "from sklearn.metrics import accuracy_score, f1_score, classification_report\n",
    "import numpy as np\n",
    "import pandas as pd\n",
    "\n",
    "# 1. 加载数据集\n",
    "data_dir = '../../dataset/uniport_imputed_Xenium_breast_cancer_sample1_replicate1.h5ad'\n",
    "adata = sc.read_h5ad(data_dir)\n",
    "\n",
    "\n",
    "\n",
    "\n",
    "\n",
    "# 2. 设置 checkpoint 路径\n",
    "ckpt_path = \"../../sc_pretrained/Pretrained Models/RandomMask.ckpt\"\n",
    "\n",
    "# 3. 模型参数\n",
    "units_encoder = [512, 512, 256, 256, 64]\n",
    "units_decoder = [256, 256, 512, 512]\n",
    "\n",
    "# 初始化 EstimatorAutoEncoder 实例\n",
    "estim = EstimatorAutoEncoder(data_path=None)  # 没有实际数据路径，可以设置为None\n",
    "\n",
    "# 4. 加载预训练模型\n",
    "estim.model = MLPAutoEncoder.load_from_checkpoint(\n",
    "    ckpt_path,\n",
    "    gene_dim=19331,  # 根据你的数据调整\n",
    "    batch_size=128,  # 根据你的需要调整\n",
    "    units_encoder=units_encoder, \n",
    "    units_decoder=units_decoder,\n",
    "    masking_strategy=\"random\",  # 假设模型使用了随机掩码\n",
    "    masking_rate=0.5,  # 根据需要调整\n",
    ")"
   ]
  },
  {
   "cell_type": "code",
   "execution_count": 2,
   "metadata": {
    "execution": {
     "iopub.execute_input": "2025-04-14T11:45:56.787085Z",
     "iopub.status.busy": "2025-04-14T11:45:56.786634Z",
     "iopub.status.idle": "2025-04-14T11:45:56.794256Z",
     "shell.execute_reply": "2025-04-14T11:45:56.793716Z"
    }
   },
   "outputs": [
    {
     "data": {
      "text/plain": [
       "20"
      ]
     },
     "execution_count": 2,
     "metadata": {},
     "output_type": "execute_result"
    }
   ],
   "source": [
    "# 添加分类层 (FC)\n",
    "n_classes = len(adata.obs['cell_type'].unique())\n",
    "estim.model.fc = nn.Linear(units_encoder[-1], n_classes)\n",
    "n_classes"
   ]
  },
  {
   "cell_type": "code",
   "execution_count": 3,
   "metadata": {
    "execution": {
     "iopub.execute_input": "2025-04-14T11:45:56.795742Z",
     "iopub.status.busy": "2025-04-14T11:45:56.795586Z",
     "iopub.status.idle": "2025-04-14T11:45:56.816951Z",
     "shell.execute_reply": "2025-04-14T11:45:56.816408Z"
    }
   },
   "outputs": [],
   "source": [
    "var_df = pd.read_parquet('../../sc_pretrained/var.parquet')\n",
    "all_genes = var_df['feature_name'].tolist()\n",
    "\n",
    "new_data = np.zeros((adata.X.shape[0], len(all_genes)), dtype=np.float32)\n",
    "\n",
    "adata.var['gene_name']=adata.var.index\n",
    "existing_genes = adata.var['gene_name']"
   ]
  },
  {
   "cell_type": "code",
   "execution_count": 4,
   "metadata": {
    "execution": {
     "iopub.execute_input": "2025-04-14T11:45:56.818268Z",
     "iopub.status.busy": "2025-04-14T11:45:56.818114Z",
     "iopub.status.idle": "2025-04-14T11:45:56.838121Z",
     "shell.execute_reply": "2025-04-14T11:45:56.837614Z"
    }
   },
   "outputs": [
    {
     "name": "stdout",
     "output_type": "stream",
     "text": [
      "匹配的基因数量: 17768\n",
      "匹配的基因列表: {'ap3b2', 'pdk2', 'pknox2', 'abtb1', 'fam183a', 'igfbp6', 'spata31d3', 'kmt2e', 'sult2b1', 'spata33', 'uprt', 'abcf1', 'hjurp', 'krtap23-1', 'tnr', 'bpifb4', 'znf490', 'jkamp', 'xpa', 'or2h1', 'bcar3', 'znf597', 'lrrc42', 'bves', 'pou2f2', 'fmr1', 'txlna', 'c2orf50', 'nus1', 'arfrp1', 'cdx4', 'gas8', 'fam24b', 'sipa1l3', 'or2a5', 'svil', 'wfdc6', 'scnn1g', 'c1orf216', 'tceanc', 'slc7a10', 'npm3', 'edil3', 'f7', 'psme1', 'nat8l', 'glud1', 'cd5l', 'btla', 'smim10', 'wac', 'kcnb2', 'sult1a1', 'or5p2', 'imp3', 'clec18c', 'fam214b', 'tmem237', 'gart', 'fam160b2', 'pls3', 'rtl8a', 'pom121l12', 'sec14l6', 'jun', 'cc2d2b', 'tafa1', 'prr23a', 'pdcd6', 'cldn4', 'or5a1', 'rab15', 'fdxr', 'map2k4', 'cpne7', 'pcdhga6', 'taf11l11', 'ggps1', 'erbb2', 'slc25a30', 'ddx24', 'pcnx4', 'ppp1r14a', 'ern1', 'ccdc97', 'xcl1', 'lbhd2', 'cotl1', 'ndufaf7', 'timm8a', 'chst8', 'fgf6', 'nxn', 'cetn1', 'pde1c', 'cactin', 'kcng4', 'cd80', 'lrp5', 'blnk', 'fam118b', 's1pr4', 'afg1l', 'odf3l2', 'lyst', 'slc2a1', 'acmsd', 'pak6', 'gls2', 'c22orf31', 'prb4', 'pomt2', 'hps3', 'adgrv1', 'muc12', 'psmb11', 'pias3', 'ktn1', 'mapk10', 'scgb1c2', 'slc45a1', 'pink1', 'actr2', 'npepl1', 'lca5l', 'il1rapl1', 'hmgcs2', 'sdad1', 'or8b4', 'phf24', 'muc16', 'uqcr10', 'apoo', 'higd1b', 'tbc1d22b', 'hcar1', 'klrc1', 'hoxc6', 'meak7', 'acss2', 'atg9b', 'lcn10', 'atrn', 'il37', 'optc', 'gaa', 'pitx2', 'ppa2', 'b3gnt2', 'znf317', 'endov', 'setd7', 'dkkl1', 'sac3d1', 'cd84', 'bud31', 'gnb1', 'ciao3', 'acly', 'cd99', 'c19orf44', 'rlbp1', 'furin', 'cdip1', 'ttc3', 'myl5', 'pln', 'clul1', 'fam83c', 'col27a1', 'kazald1', 'gtpbp2', 'btn3a1', 'tbpl2', 'znf579', 'actl8', 'itgad', 'fut5', 'zranb2', 'dcun1d2', 'znf550', 'rtl6', 'sntb1', 'acot9', 'bcl2l12', 'fabp9', 'pgc', 'npipb15', 'dis3l2', 'ankrd11', 'xage2', 'tspoap1', 'stat1', 'slco1c1', 'ccdc137', 'ikzf1', 'cox8c', 'pcdhb13', 'kcnip1', 'stap1', 'fig4', 'gpi', 'ankrd33b', 'grm4', 'plekho1', 'sf3a2', 'bcl2l11', 'kcnip2', 'or2k2', 'hs1bp3', 'wbp4', 'plod2', 'rfx5', 'stk32a', 'cyp2c8', 'smim26', 'arntl2', 'magec1', 'eps15l1', 'ppp1r3b', 'ccdc113', 'gpr182', 'ros1', 'zup1', 'nsmaf', 'rsph9', 'fsd1l', 'c19orf54', 'or10s1', 'tnfrsf11a', 'kiaa1328', 'myo10', 'inha', 'trpc1', 'tmem129', 'hibadh', 'arfgap2', 'epm2aip1', 'cep44', 'cdca8', 'spag16', 'tmprss4', 'psmb5', 'il1rn', 'caln1', 'hyal2', 'eif5a2', 'jak1', 'tp53aip1', 'prmt8', 'efcab10', 'bmp5', 'rexo5', 'clca2', 'hebp2', 'golga8o', 'vstm4', 'c2orf49', 'gtf3c3', 'csrnp1', 'znf296', 'trnau1ap', 'arl8b', 'hopx', 'slc1a5', 'lrrc9', 'mybpc3', 'mok', 'spata1', 'pnpla5', 'pgrmc2', 'slc22a4', 'atp7b', 'b3glct', 'spanxn4', 'serpinb13', 'efcab13', 'esam', 'irx3', 'ube2a', 'tdo2', 'cdr1', 'ak8', 'dnd1', 'fyttd1', 'c19orf81', 'wdr20', 'znf479', 'anp32d', 'sys1', 'mt-nd1', 'micu3', 'hspb3', 'pglyrp2', 'gabrr3', 'krtap4-11', 'atxn7', 'cpxm1', 'lrp11', 'rtp4', 'myo1c', 'cdk9', 'snrnp35', 'fam234a', 'dda1', 'tmem201', 'themis', 'tcp1', 'or51f1', 'nemp1', 'syne4', 'syt5', 'rmdn2', 'pgs1', 'nos3', 'st8sia4', 'krtap3-3', 'hdgfl2', 'ca8', 'gng3', 'hsd17b4', 'srebf2', 'stag3', 'odaph', 'suclg1', 'uchl1', 'gpr83', 'pes1', 'elp2', 'slc5a3', 'cnst', 'bri3', 'wdr26', 'or56b1', 'ash1l', 'pglyrp3', 'tigd6', 'or5au1', 'bnipl', 'rab3a', 'eid2', 'rad21', 'c2orf72', 'zswim6', 'znf233', 'doc2b', 'foxl2', 'rapgef2', 'actr3b', 'sgcb', 'pla2g12b', 'mansc4', 'ptrhd1', 'pex19', 'srsf3', 'nop16', 'ifi27l2', 'lonrf2', 'tmem61', 'triap1', 'itgb6', 'ms4a10', 'prrx1', 'hes7', 'znf583', 'ctsz', 'fam227a', 'crmp1', 'mtres1', 'slc8a1', 'c17orf98', 'cfap46', 'tff3', 'phex', 'alms1', 'acsl1', 'smyd3', 'sec62', 'lhfpl6', 'apobec3h', 'inpp5e', 'tex48', 'lipt1', 'polr3g', 'slc2a14', 'c12orf60', 'stk11ip', 'c17orf49', 'tmem43', 'rab11fip3', 'hipk3', 'cep89', 'tnfsf12', 'cks2', 'rint1', 'extl2', 'dmac1', 'coq5', 'kcnc4', 'wwp1', 'traf6', 'hnrnpa3', 'ptchd1', 'fgf16', 'crtam', 'rnf5', 'il20rb', 'zbp1', 'or2t27', 'arl14epl', 'cep295nl', 'atp2b2', 'exosc6', 'atp8b1', 'gpat2', 'palm', 'eif4h', 'vmac', 'nxnl1', 'crygc', 'trpm7', 'or13a1', 'c10orf90', 'kcnk6', 'haus6', 'ccne2', 'cers6', 'pjvk', 'adgra3', 'ccnt2', 'med27', 'znf445', 'tgm4', 'spindoc', 'qrich2', 'acvrl1', 'nmu', 'hspa13', 'tank', 'ccdc201', 'armc7', 'ceacam20', 'dcst2', 'glmp', 'apba2', 'ptpn20', 'itm2b', 'atp2a2', 'phox2b', 'ywhag', 'ephb4', 'c1orf146', 'cetn3', 'nyap1', 'lcn6', 'slc22a11', 'grin2c', 'nr4a2', 'lmo1', 'hmga2', 'pmaip1', 'capn3', 'kcnd1', 'saraf', 'frat1', 'znf570', 'sub1', 'phldb1', 'sap30l', 'npy5r', 'mt-co2', 'tnk2', 'or5ap2', 'mc2r', 'dcp1b', 'mageb17', 'rcor1', 'slamf6', 'agrn', 'slc25a43', 'cplane2', 'nop14', 'col23a1', 'tbc1d19', 'lilra6', 'loxl2', 'lrrk1', 'nmt1', 'fat4', 'mcfd2', 'snrpa1', 'noxo1', 'tspan32', 'wscd2', 'sdr42e1', 'mettl1', 'kif13a', 'vgll3', 'sf3b6', 'chrfam7a', 'c1orf167', 'pycr3', 'gps1', 'rnf212b', 'tmem184b', 'chst1', 'c16orf92', 'ttc21a', 'bcas3', 'cfdp1', 'suclg2', 'tent5a', 'yae1', 'gpr19', 'efhd2', 'wdfy2', 'insyn2b', 'tdp2', 'aif1', 'lrg1', 'drc1', 'or2at4', 'clcf1', 'enpp5', 'clec19a', 'st3gal3', 'or1b1', 'abhd8', 'cpt1a', 'zic1', 'cep55', 'mmp24os', 'plekhg2', 'slc9a8', 'htr2b', 'zdhhc19', 'ubr2', 'kat14', 'spink2', 'lce1b', 'ing2', 'spice1', 'tvp23c', 'cpne1', 'znf689', 'sharpin', 'ddah1', 'myo1b', 'xpot', 'wfdc2', 'pld1', 'klrg2', 'nolc1', 'rnps1', 'fhl5', 'b4gat1', 'stard13', 'polr1e', 'riox2', 'fan1', 'krt32', 'six3', 'gngt1', 'ankrd35', 'pirt', 'arhgap24', 'snrnp200', 'arntl', 'siglec8', 'retreg3', 'foxe1', 'mmachc', 'gpatch11', 'nppc', 'eddm3b', 'bckdk', 'uck2', 'gpd1', 'atp6v1fnb', 'atp1a3', 'foxo6', 'srsf5', 'slc46a3', 'dscam', 'cybb', 'gp5', 'jazf1', 'hey1', 'ube2f', 'c1qtnf3', 'tmem65', 'ksr1', 'taf7l', 'tada1', 'clec4c', 'cerk', 'sult1c4', 'snai1', 'chp2', 'flvcr2', 'gjc2', 'sar1a', 'znf425', 'b3gnt8', 'eml5', 'stx12', 'syne3', 'mageb6', 'armc10', 'elovl1', 'lap3', 'fasn', 'gorasp2', 'zc2hc1b', 'pdzk1', 'slc44a5', 'ttpa', 'rgmb', 'exosc4', 'thap11', 'top1', 'rtn4rl2', 'fbxo27', 'ncstn', 'epn1', 'col15a1', 'ctsw', 'parva', 'caly', 'znf683', 'il21', 'hook3', 'nfx1', 'znf485', 'fam160b1', 'ccl17', 'ivd', 'itga8', 'dnaja1', 'rundc1', 'mfsd14b', 'abca10', 'has1', 'b3galt6', 'fntb', 'hspb9', 'zim3', 'trmt61a', 'cep41', 'col19a1', 'adamts10', 'tcp11l2', 'pomc', 'oxr1', 'anapc5', 'chrdl1', 'stau1', 'wdr4', 'trim60', 'cdh12', 'prlh', 'foxc2', 'lpcat1', 'adamts9', 'hira', 'znf391', 'gtsf1', 'safb', 'slamf8', 'ndufa4l2', 'baalc', 'tbx10', 'myh7', 'kcnu1', 'znf561', 'tmem181', 'henmt1', 'sctr', 'otop1', 'snx14', 'ddx20', 'atp13a4', 'raet1l', 'tmem255a', 'ihh', 'bod1', 'ate1', 'mcoln3', 'pdzrn4', 'gpr87', 'asip', 'uqcrh', 'dmbx1', 'c1qc', 'znf687', 'or5m10', 'sprr2d', 'slc6a11', 'bicd2', 'cd320', 'nthl1', 'tagln3', 'prrt4', 'ctu2', 'plcxd3', 'lgals9', 'zdhhc16', 'strit1', 'cstf3', 'kank2', 'ugt1a1', 'znf572', 'tmem102', 'unc5cl', 'klb', 'h6pd', 'inip', 'paaf1', 'stard8', 'invs', 'osbpl3', 'bcan', 'arpc2', 'abr', 'cabp2', 'kcnq5', 'selenow', 'gng12', 'hykk', 'prelid3a', 'klhl5', 'lsm1', 'smcp', 'gpbp1l1', 'c12orf43', 'cdh26', 'npffr1', 'cd300a', 'zscan2', 'csf2rb', 'ankrd46', 'bex4', 'zbtb20', 'pex1', 'ncam2', 'cxcl10', 'atp6v1g1', 'krt6a', 'rnf39', 'niban2', 'krt1', 'znf366', 'zp1', 'cmc2', 'cntnap3b', 'mymk', 'c1orf53', 'phlpp2', 'letmd1', 'trhr', 'lox', 'fnip1', 'ddb2', 'cdan1', 'pde9a', 'ppa1', 'rbm3', 'ncf4', 'prkaca', 'gnat3', 'pde3a', 'kif15', 'gprc5a', 'tmem107', 'trim42', 'nhs', 'per1', 'cd244', 'tifab', 'pum1', 'pde8b', 'usp15', 'or1d5', 'mocos', 'actr1a', 'tfrc', 'trim39', 'ggact', 'nova1', 'rfesd', 'dlec1', 'b3gat1', 'arsj', 'fgd5', 'trpv5', 'cel', 'champ1', 'sfpq', 'twist2', 'ubash3a', 'sms', 'dpcd', 'hoxc10', 'rap1gap', 'st8sia2', 'krtap5-10', 'jtb', 'cstf2t', 'lce1a', 'rbm14', 'cep72', 'krba1', 'fam110b', 'proc', 'srsf11', 'smarca4', 'atf4', 'tmem266', 'srpx', 'tubb1', 'ifna2', 'fam169a', 'ints5', 'tmem262', 'pcsk5', 'ahsp', 'znf212', 'abcd2', 'krtap9-8', 'paip1', 'or4n5', 'capn8', 'usp40', 'tmem67', 'f11', 'siglec10', 'nav3', 'c1qtnf8', 'becn2', 'iqgap2', 'ctsd', 'otud7b', 'pmf1', 'sh3yl1', 'slc7a2', 'apex1', 'plglb2', 'ldb2', 'cdc27', 'ccdc13', 'gja10', 'spry4', 'spats2', 'ppy', 'cmtm4', 'ccdc192', 'gca', 'bbs9', 'c4bpb', 'acox1', 'cdh13', 'gin1', 'snai3', 'ddo', 'znf362', 'ptprg', 'lrat', 'slx4', 'cps1', 'kctd21', 'noto', 'msantd4', 'dpy19l1', 'dnajc8', 'f5', 'cacnb1', 'prdx6', 'echdc3', 'tp53inp1', 'btbd18', 'tmem9', 'sqor', 'chml', 'igf2bp1', 'eme2', 'cyp1a1', 'cpvl', 'mta1', 'smad9', 'cbx8', 'gpcpd1', 'ppp1r16a', 'sesn1', 'osgepl1', 'mip', 'slc25a15', 'map3k1', 'colec10', 'ccdc106', 'or4c13', 'wdr24', 'shisa9', 'mt-nd4', 'ddx5', 'cdkn2aipnl', 'haao', 'cbll1', 'rnf146', 'pou3f2', 'spint1', 'jade3', 'atox1', 'c19orf85', 'znf484', 'commd10', 'or2a12', 'rgp1', 'c6orf89', 'prkg2', 'ninj1', 'zbtb39', 'vopp1', 'trdmt1', 'snx32', 'rnf138', 'or6m1', 'c12orf71', 'rspo4', 'cyp2a6', 'rnf111', 'atp6v1a', 'pbk', 'sfr1', 'fam161b', 'rpp14', 'eps8l3', 'fgfr2', 'bahd1', 'krtap22-1', 'chst2', 'rap1gap2', 'rab11a', 'gpr137b', 'or4f21', 'pja1', 'nqo1', 'neurog2', 'gnaz', 'mmp21', 'cyp4f2', 'tppp2', 'znf500', 'map3k9', 'ahctf1', 'arfip2', 'fhl3', 'ndufc1', 'kctd7', 'bend7', 'eif4ebp2', 'mdm1', 'ctr9', 'hspa1a', 'mocs1', 'wdr46', 'slc23a3', 'ctnna2', 'cul7', 'atp5mgl', 'slc31a2', 'ric8a', 'card19', 'tmem72', 'angel1', 'slco3a1', 'cd40', 'hcn1', 'ccl14', 'zfp92', 'rab7a', 'tram2', 'grpr', 'alkbh5', 'kcnn2', 'lkaaear1', 'rheb', 'fgd3', 'oosp1', 'npat', 'or9k2', 'slc35b4', 'borcs7', 'sowahd', 'crybb3', 'clec18a', 'igfbp1', 'arhgap19', 'ddx11', 'fbxl4', 'serpina5', 'gpr27', 'mfap4', 'gapvd1', 'nlgn3', 'exoc3l1', 'paf1', 'arsd', 'tecpr2', 'gtf2a2', 'ptgfrn', 'skor2', 'zc3h8', 'nbeal1', 'bnip5', 'pnpo', 'rad21l1', 'mgat1', 'nudt10', 'vat1l', 'ilkap', 'taf1a', 'larp4b', 'or10a4', 'epn3', 'mylk2', 'or6c1', 'ifna14', 'haus8', 'slc6a16', 'pou4f3', 'cul3', 'per3', 'ccna2', 'pax3', 'trmt13', 'abhd1', 'b4galt2', 'rxylt1', 'csh2', 'rab12', 'lrrc14b', 'zbtb1', 'lamtor5', 'cpsf4', 'itm2c', 'rarres2', 'llcfc1', 'fam83e', 'c2cd6', 'lvrn', 'magi3', 'rpa1', 'ndufa7', 'rapgef3', 'ints7', 'kcnma1', 'ppial4a', 'cpq', 'dpm2', 'mfsd6l', 'iglon5', 'hao2', 'slc6a5', 'senp8', 'stk19', 'tgfbi', 'prkacb', 'cdc42ep5', 'gnb5', 'id1', 'slfn13', 'klhl9', 'optn', 'c16orf71', 'znf512b', 'dlc1', 'areg', 'spsb3', 'arfgef1', 'fyb2', 'lss', 'krt26', 'glod5', 'tnfrsf11b', 'gna11', 'smurf2', 'pip5k1c', 'cd101', 'anp32b', 'dnph1', 'defb127', 'c11orf65', 'c9orf78', 'tmub2', 'braf', 'csmd3', 'scd5', 'commd3', 'gabra6', 'znf423', 'tbl2', 'fbxo2', 'cdrt1', 'bet1l', 'grap2', 'or5h2', 'snx22', 'ttll10', 'ankmy1', 'trappc10', 'wfs1', 'prox2', 'sspn', 'dact2', 'acad8', 'pak1ip1', 'lrcol1', 'nfat5', 'sptssa', 'ndufs6', 'ccdc89', 'krtap2-4', 'cyp7a1', 'ptk6', 'psen2', 'ccdc32', 'pcdhgc5', 'lsm3', 'dzank1', 'ptov1', 'nlrp3', 'pgrmc1', 'myo15a', 'pfkfb4', 'sertad4', 'tnfrsf13b', 'gtpbp10', 'btk', 'c3orf80', 'hunk', 'adck2', 'matn1', 'alg2', 'gsdma', 'pkmyt1', 'ehbp1', 'usp33', 'gimap1', 'prm3', 'c10orf53', 'alpg', 'lce2d', 'mbd3l2b', 'klf17', 'csf2', 'phip', 'mdh1b', 'tmem50b', 'nmur2', 'dynlt3', 'brpf1', 'ssx3', 'jaml', 'f2rl2', 'itgb3', 'cabp5', 'brwd1', 'sema6c', 'ctnna1', 'ttc14', 'fundc1', 'enpep', 'golga6l6', 'pigf', 'nelfa', 'pgbd5', 'coch', 'nedd9', 'defb121', 'kaag1', 'ccdc61', 'tlx2', 'slirp', 'jagn1', 'sgo1', 'tbrg4', 'tie1', 'rpap1', 'khk', 'tuba3e', 'cc2d1b', 'pcgf3', 'mtif3', 'alg5', 'ndufb6', 'ghr', 'csrp2', 'pbx4', 'slc35f2', 'smim28', 'arhgap33', 'usp34', 'cdx2', 'pcnx2', 'vcan', 'or6c6', 'unc13a', 'crnn', 'ttll8', 'slco2a1', 'c7orf26', 'angptl6', 'prkd3', 'pik3r5', 'tac4', 'gnal', 'pml', 'cyp26a1', 'dusp22', 'ntf3', 'znf397', 'cgn', 'klhdc8a', 'or2v1', 'il27ra', 'ccnk', 'tmprss5', 'leng1', 'acer3', 'nfkbiz', 'fam205c', 'gas2l3', 'abcb9', 'tlnrd1', 'pip4k2a', 'ttc29', 'adam19', 'psmb1', 'rnf166', 'pigbos1', 'epha10', 'abhd14a', 'argfx', 'c6orf163', 'ncapg2', 'nop53', 'pfkfb3', 'krit1', 'cops6', 'spdye6', 'znf517', 'thumpd3', 'serp2', 'treml1', 'ube2g1', 'or51l1', 'coprs', 'spanxn1', 'c19orf47', 'itpripl2', 'map4', 'ttc6', 'slc4a8', 'fbn1', 'slc6a7', 'clasrp', 'jag2', 'npdc1', 'znf483', 'cdh22', 'afg3l2', 'spire2', 's1pr5', 'ankrd53', 'ska1', 'tmem150c', 'pvr', 'zbed6cl', 'or10d3', 'gmnn', 'aim2', 'wdfy4', 'tarm1', 'cblif', 'tex14', 'c5', 'znf2', 'oxnad1', 'map4k1', 'dnajc18', 'hs6st2', 'or13c8', 'kif18a', 'znf653', 'f9', 'cand1', 'jmjd1c', 'tpd52l1', 'slc35c1', 'riiad1', 'urb2', 'hgd', 'sobp', 'magi1', 'iah1', 'c1ql4', 'ecel1', 'apoa2', 'dab2', 'ing4', 'wdr5b', 'slitrk4', 'lama5', 'plaat3', 'prkch', 'lin52', 'baz1b', 'itga3', 'ugt1a9', 'hoxb8', 'spry2', 'dpep1', 'pamr1', 'mob4', 'kcnh5', 'rabggtb', 'tmem44', 'hk2', 'arhgef10l', 'znf765', 'tacr2', 'trim72', 'coro6', 'plac1', 'ppm1b', 'parg', 'pou5f1b', 'hoxa11', 'fxyd4', 'prkacg', 'znf680', 'wdr73', 'coq10b', 'lman1l', 'or5i1', 'rax2', 'cpt1b', 'mapk1', 'or8k1', 'top2a', 'ppp2r2c', 'tyro3', 'tmem225', 'cfhr2', 'ppwd1', 'npffr2', 'spc25', 'lhfpl4', 'nr2c2ap', 'gtf3c6', 'ssbp1', 'dtnbp1', 'p4ha1', 'nedd8', 'xaf1', 'nlrc4', 'rimbp2', 'arhgap11b', 'gpr108', 'dclk1', 'slc25a42', 'znf575', 'kiaa1958', 'riok3', 'cnih4', 'plpp5', 'stk4', 'efhb', 'setd1a', 'iba57', 'slc34a2', 'myoz3', 'mterf2', 'slc35g5', 'pate2', 'hnrnpm', 'khnyn', 'capn7', 'bckdha', 'tmprss13', 'rtbdn', 'gfm1', 'srebf1', 'usp35', 'spopl', 'eif4enif1', 'farp2', 'b3galt1', 'cfb', 'slc7a13', 'ncan', 'ccdc126', 'taf5', 'atat1', 'tmub1', 'manba', 'il17rel', 'spdyc', 'ifi27l1', 'tjp1', 'c1ql3', 'phf11', 'klkb1', 'usp50', 'jak2', 'slc4a2', 'ier5l', 'znf140', 'tulp1', 'tssk2', 'rusc1', 'ermap', 'iqcf6', 'sox10', 'usp10', 'cop1', 'evx2', 'mmp24', 'gimap7', 'mthfd2', 'ikbke', 'iqcb1', 'emsy', 'znf174', 'pnp', 'krt78', 'nfatc2ip', 'bend6', 'sebox', 'kifc2', 'pde4c', 'plbd1', 'snapc4', 'inpp4b', 'pdzd4', 'ifi30', 'dnajc16', 'fstl1', 'rad1', 'togaram2', 'entpd1', 'or3a1', 'fign', 'ythdc2', 'ptger3', 'ficd', 'ttc16', 'fcrla', 'cep85l', 'pold3', 'rbm25', 'lrrc4', 'triml1', 'scimp', 'gcc2', 'wdr76', 'krtap27-1', 'il12rb1', 'strap', 'ppl', 'zzef1', 'ttll13p', 'il1r1', 'arhgap31', 'chchd4', 'tbck', 'adam28', 'foxm1', 'c3orf62', 'snap91', 'adamtsl2', 'plcg1', 'ntsr1', 'adora2a', 'prss27', 'rph3a', 'trmt1', 'sgms1', 'slc43a2', 'fgf10', 'glt8d1', 'msrb3', 'or8b2', 'ada', 'drd5', 'smarcd3', 'vps13b', 'scx', 'ankrd17', 'elavl3', 'itk', 'tcf7', 'usf3', 'herc5', 'znf488', 'lefty1', 'tmed1', 'pltp', 'nans', 'niban3', 'gna14', 'btbd1', 'c4orf54', 'tsacc', 'or2t11', 'enc1', 'gcm2', 'lgi3', 'coro1c', 'angptl1', 'clcnkb', 'ilk', 'gdap1', 'lrtomt', 'map1b', 'slc22a17', 'rab5if', 'siglec1', 'cnot7', 'crnkl1', 'nrbf2', 'znf22', 'ctrb1', 'ccdc189', 'nol12', 's100g', 'znf280c', 'igflr1', 'cadm4', 'rnf181', 'capn5', 'vrk1', 'slc6a6', 'retnlb', 'dctn6', 'siah3', 'krt13', 'uri1', 'srsf12', 'ctnnd1', 'gng7', 'cacng3', 'cd33', 'insl4', 'shd', 'zfyve28', 'tmem207', 'nudcd2', 'reck', 'kdm3b', 'dok5', 'cops9', 'alpk1', 'dpp4', 'pank3', 'plekhf1', 'slc11a1', 'hoxa2', 'usp24', 'c17orf80', 'dnmt3b', 'zdbf2', 'tepp', 'znf681', 'cyp1a2', 'sftpb', 'lhfpl3', 'znf217', 'acot13', 'tspan11', 'znf836', 'tada3', 'dipk2a', 'ccl19', 'gnrh1', 'or2a4', 'mcm8', 'lipj', 'phldb3', 'ada2', 'clec5a', 'dpf3', 'foxo3', 'naa80', 'ncam1', 'eng', 'tube1', 'usf1', 'mgmt', 'prss56', 'gpr158', 'odf4', 'ggnbp2', 'prtg', 'cd81', 'cltc', 'tfpi2', 'znf675', 'clptm1', 'wrnip1', 'fry', 'serinc4', 'cdkn2c', 'man1c1', 'sart3', 'sirpg', 'nsd2', 'dusp16', 'zfyve21', 'pofut1', 'wipf1', 'or6k6', 'hacd4', 'trib1', 'mylk4', 'dnaaf1', 'dusp7', 'izumo2', 'mov10l1', 'ssx7', 'itfg1', 'kcnk1', 'znf280b', 'col9a2', 'nipal3', 'grm1', 'c20orf144', 'hmgcr', 'vdac2', 'dlx3', 'adarb2', 'sat2', 'tcf15', 'wdr83', 'agr2', 'tcaf1', 'aplp2', 'grb2', 'c4orf19', 'tktl2', 'cfl1', 'cd209', 'cib3', 'plaat1', 'or1a2', 'ascc3', 'vps13d', 'gab2', 'casp5', 'uqcc1', 'tekt3', 'cryba4', 'tfap2e', 'calm2', 'matn3', 'slco4c1', 'c1r', 'or10g2', 'lsmem2', 'thoc6', 'slc7a6', 'krt39', 'psmc2', 'selp', 'cdadc1', 'dpp9', 'tlcd4', 'lrrc8c', 'tmcc2', 'casq2', 'pnisr', 'usp17l3', 'atf2', 'tfap4', 'tmem236', 'lgals4', 'unc93b1', 'clk4', 'bcl9', 'micall2', 'dthd1', 'znf668', 'ccsap', 'selenoo', 'pou1f1', 'qrich1', 'trpv6', 'tm4sf18', 'mtch1', 'ypel2', 'ccdc187', 'endod1', 'atl1', 'c15orf48', 'pcdhb10', 'mefv', 'scap', 'oc90', 'rpusd1', 'tex47', 'ell3', 'gas7', 'lipi', 'ccdc150', 'tnfsf13', 'ssbp3', 'cysltr1', 'klrf1', 'nelfb', 'acot1', 'usp46', 'ptprn', 'harbi1', 'tnrc6a', 'cr1', 'ptpn7', 'c5orf15', 'tnfsf10', 'cygb', 'sall4', 'hs6st3', 'tufm', 'dnaja3', 'sucnr1', 'c7', 'trap1', 'ppp1r10', 'fancc', 'adam9', 'cutc', 'pi4kb', 'dmap1', 'specc1', 'chmp7', 'ldlr', 'ly6g5b', 'dnm2', 'cyth1', 'aamdc', 'tcof1', 'plpp2', 'dxo', 'tyw1', 'atp6ap2', 'rfpl1', 'fdx1', 'rbp2', 'akap3', 'dnajb14', 'cdc14b', 'iyd', 'slc22a5', 'ehmt1', 'ube2c', 'deaf1', 'znf492', 'ppp2r2b', 'prxl2c', 'mief1', 'st6galnac6', 'tubgcp5', 'or4a5', 'ipo4', 'fam135b', 'spink14', 'defa4', 'tigd2', 'usp42', 'incenp', 'erf', 'tut4', 'slc22a16', 'pcgf5', 'pvrig', 'adamts1', 'cfhr4', 'lin37', 'ptpn23', 'snx18', 'fabp6', 'utrn', 'kcnj13', 'tmem254', 'sstr1', 'krt7', 'pnliprp1', 'scgb2a1', 'epn2', 'shb', 'nmi', 'dlk2', 'slc27a1', 'dixdc1', 'serpinb5', 'atp6v0b', 'kcnh6', 'atr', 'pla2g2d', 'dstyk', 'prdx5', 'ubr4', 'lrriq4', 'prob1', 'myo5b', 'trim14', 'dus1l', 'cdx1', 'ncoa7', 'rnase11', 'isg20l2', 'dnpep', 'gas2', 'mgat2', 'dpp3', 'git2', 'galt', 'morn4', 'otx2', 'or1l1', 'hmbox1', 'hsd17b8', 'bcl2l10', 'sec23b', 'il11ra', 'ccdc191', 'spp2', 'rad9a', 'igfbpl1', 'lacc1', 'tex43', 'homez', 'akirin1', 'piwil3', 'barhl2', 'prss12', 'gltpd2', 'arid5a', 'mtmr11', 'wdcp', 'fus', 'tgfb1i1', 'syt7', 'kcnj9', 'slc6a12', 'trmt112', 'cd248', 'ankrd34b', 'wipi2', 'timm44', 'trir', 'st7', 'samd1', 'napb', 'cep290', 'siglec14', 'slc39a12', 'ppp1r3f', 'or52m1', 'pth', 'etv7', 'p2ry14', 'krtap10-10', 'efcab9', 'pold4', 'c1qtnf9', 'acp7', 'itch', 'mxra7', 'pramef1', 'prr15', 'cenpm', 'shank1', 'cdca5', 'iscu', 'ptger2', 'trpc5os', 'cybrd1', 'evl', 'or7a5', 'cyp27a1', 'fuom', 'dcst1', 'cep63', 'chmp4b', 'znf568', 'pde4b', 'txlng', 'mt1x', 'rnf139', 'htra3', 'fbxo6', 'ahnak2', 'ccdc173', 'trpv2', 'tmed6', 'has3', 'zhx3', 'cacna1d', 'erbin', 'kif23', 'kdm4c', 'znf280d', 'pet117', 'tex33', 'magea10', 'fam229a', 'lix1l', 'sqstm1', 'znf783', 'armc1', 'naglu', 'cfap97d1', 'tbcb', 'bub1', 'anxa4', 'timmdc1', 'wbp2', 'tmem106a', 'cenpn', 'ccpg1', 'itln2', 'htatsf1', 'rab35', 'sh3glb1', 'frzb', 'ifitm5', 'rapgefl1', 'nxt1', 'ulbp1', 'rassf5', 'galk2', 'hebp1', 'rtn4ip1', 'pnpla6', 'lrrn4', 'gtf3c5', 'kcnh2', 'alkbh7', 'pgls', 'mbd6', 'tph1', 'or2v2', 'ccdc85c', 'cpxcr1', 'spanxb1', 'ap2m1', 'tmem74b', 'prss1', 'zbtb7c', 'adgre5', 'man1a2', 'ptges3', 'casq1', 'pigz', 'mmrn1', 'itgb2', 'lonrf1', 'zan', 'arel1', 'rnf112', 'rhag', 'dusp15', 'spock3', 'rgl2', 'inhba', 'asb10', 'prkag1', 'cfap161', 'myeov', 'slc10a6', 'tjp3', 'stambpl1', 's100a3', 'parp2', 'or6c2', 'shisa6', 'itfg2', 'arhgef12', 'rhoxf1', 'pdlim4', 'cdv3', 'zbtb41', 'tagap', 'oasl', 'nup85', 'pmel', 'kctd8', 'ppp1r21', 'nfil3', 'ubp1', 'ttc22', 'gpbp1', 'rtl3', 'slc7a11', 'tas1r1', 'adam10', 'rnf122', 'izumo1', 'naa30', 'bloc1s6', 'tsn', 'alkbh6', 'ust', 'bpifa2', 'umps', 'scn5a', 'fmod', 'mex3b', 'tmem240', 'c3orf33', 'mettl27', 'ptpdc1', 'fmnl1', 'fmn2', 'phc1', 'nefm', 'rnf8', 'fancm', 'c20orf204', 'cd3e', 'vgll1', 'cdc42ep3', 'neurod1', 'rab3b', 'setd5', 'zscan5b', 'klf10', 'ms4a15', 'ccr10', 'susd6', 'prpf38b', 'filip1l', 'igsf5', 'slc29a4', 'atg4c', 'atp6v1g3', 'homer3', 'uqcrhl', 'taar6', 'fam98a', 'ercc6l2', 'trim77', 'prkar1a', 'macrod2', 'ascc2', 'kng1', 'nr1d2', 'nkx6-3', 'dbx2', 'ifrd2', 'cenpf', 'or52b6', 'tmem150b', 'cldn10', 'ergic2', 'myoc', 'shisa4', 'cxcl5', 'slc2a8', 'timp3', 'or51d1', 'cyc1', 'slc25a45', 'pdilt', 'nek1', 'zbtb47', 'pwp1', 'c2cd4c', 'aldh4a1', 'trio', 'dnajc6', 'plekha2', 'coq8a', 'swi5', 'olfml1', 'axdnd1', 'znf641', 'borcs6', 'nrdc', 'fnbp1l', 'zfp37', 'sfswap', 'tcf3', 'phyhip', 'epop', 'znf333', 'arhgef9', 'rbm18', 'tprkb', 'taar8', 'ca7', 'erap2', 'lamp3', 'nudt16', 'ubap1', 'polg', 'syde1', 'gcsam', 'umad1', 'slc9a9', 'col4a1', 'crtc3', 'defb124', 'angptl4', 'sap130', 'ehd3', 'agfg2', 'or8d4', 'prkra', 'pole2', 'lpar6', 'serpinc1', 'l2hgdh', 'aass', 'znf670', 'or6c65', 'gclm', 'prkab1', 'mtap', 'snu13', 'ncoa1', 'hoxd13', 'ern2', 'wfdc1', 'nrl', 'ctc1', 'crlf1', 'itga6', 'vav2', 'ogdhl', 'stc1', 'rtn4r', 'ei24', 'cib4', 'kcna1', 'trim9', 'exo1', 'dhodh', 'slc7a9', 'gnat2', 'hsd3b2', 'mfsd6', 'c2orf68', 'ecm2', 'mdm4', 'taf4b', 'lrrc37a3', 'rnf150', 'tbc1d13', 'ibsp', 'kiaa1191', 'mxd1', 'glrx', 'defb135', 'ap3m2', 'orm2', 'c10orf67', 'emp1', 'rhof', 'cgrrf1', 'rtkn2', 'clba1', 'tom1l2', 'ereg', 'fam162a', 'tas2r42', 'poglut2', 'akt1', 'styk1', 'pex2', 'tmem101', 'bhlhe23', 'nptxr', 'trh', 'dnajc7', 'cyp2u1', 'cdpf1', 'dgcr2', 'znf234', 'sycp3', 'sp4', 'nsmce4a', 'crisp2', 'rcan1', 'dhrs4', 'noc2l', 'tmem252', 'st6galnac1', 'slc36a1', 'pimreg', 'slc17a4', 'ecscr', 'lancl2', 'ceacam3', 'golt1a', 'itga1', 'atp2a3', 'bmp3', 'tgfbr1', 'dnajb9', 'vstm2l', 'parp15', 'psmd2', 'ensa', 'xcl2', 'actr8', 'mtmr1', 'or10g7', 'ddhd2', 'foxg1', 'gon7', 'cpt2', 'dnajc15', 'erlin2', 'tspo2', 'helb', 'npipb2', 'mn1', 'chi3l2', 'cacnb4', 'brd4', 'dpf2', 'galnt11', 'or52b4', 'znf496', 'dkk3', 'ms4a7', 'sdr39u1', 'fcar', 'ccdc181', 'acbd3', 'psors1c1', 'ervv-1', 'b4galt4', 'znf829', 'folh1', 'hexd', 'muc6', 'plekha7', 'plxnd1', 'il10ra', 'klf16', 'midn', 'mad2l2', 'kdm5b', 'il12rb2', 'cox6c', 'prkci', 'znf462', 'spesp1', 'aqp1', 'psmc6', 'gfpt1', 'ndrg4', 'dnase1l3', 'map3k10', 'nbpf20', 'capsl', 'nr4a1', 'stum', 'colgalt2', 'cwh43', 'prph2', 'arhgap45', 'kcnk7', 'dcx', 'cylc2', 'sprr2g', 'rnf135', 'ly6g6f', 'slc12a9', 'calml6', 'krtap1-3', 'ddx53', 'stbd1', 'dnajc1', 'ttc24', 'znf221', 'srcin1', 'myo1f', 'or52r1', 'hpdl', 'polr3gl', 'fbxo36', 'tns3', 'dbi', 'cenpi', 'cyp4a22', 'sp110', 'nampt', 'ccdc30', 'myo9b', 'ndufb9', 'grm8', 'zmym4', 'zcchc14', 'sh3bgrl3', 'pim2', 'fgf14', 'ggt2', 'ctsv', 'il11', 'nfxl1', 'ccne1', 'cnot10', 'n4bp3', 'shisal2b', 'lrguk', 'rap2c', 'mxi1', 'pnn', 'rsph14', 'krtap19-6', 'creg2', 'znf30', 'tesk2', 'rgpd4', 'kiaa1841', 'csrnp3', 'ifna21', 'psg7', 'znf441', 'commd1', 'prickle3', 'slc25a20', 'dnm3', 'rfx4', 'phf21a', 'slc16a8', 'znf205', 'pcsk9', 'aatk', 'snf8', 'erich6b', 'pfn3', 'agbl3', 'c3orf22', 'pde5a', 'nrxn2', 'mogat2', 'tgif2lx', 'plac8l1', 'c1orf43', 'ift43', 'ryr2', 'dmp1', 'agl', 'pias1', 'klk10', 'cmya5', 'orc2', 'pex7', 'fras1', 'klk8', 'cic', 'rnf126', 'znf732', 'asphd1', 'rbpms', 'msx2', 'psme2', 'znfx1', 'parp9', 'ifrd1', 'srrm4', 'prm2', 'plekhg6', 'nmrk2', 'cacna2d4', 'krt25', 'robo2', 'fam155b', 'cldn22', 'vnn1', 'cep131', 'rcbtb2', 'yipf2', 'fxyd1', 'hdac7', 'znf527', 'lrrc34', 'pdlim2', 'trank1', 'fam151a', 'timm13', 'rpa3', 'srp9', 'rpn1', 'polr1c', 'pla2g2f', 'asb13', 'ascl2', 'tbc1d10a', 'trim31', 'znf101', 'wnt7b', 'defa6', 'apool', 'mrnip', 'wnt6', 'kmt2c', 'elac1', 'pgf', 'or4d1', 'onecut2', 'rasgrp2', 'vdr', 'nxnl2', 'caskin1', 'awat2', 'slc1a3', 'krt10', 'sf3b1', 'prelid3b', 'prl', 'wnk2', 'c12orf45', 'prdm15', 'klhl29', 'kiaa0408', 'coa1', 'slpi', 'smarcb1', 'dmac2l', 'dnajb4', 'cltb', 'usp4', 'fam47c', 'lhfpl1', 'cryl1', 'ppp1r13b', 'slfn12', 'dohh', 'kifc1', 'ubac2', 'prss54', 'trpv1', 'nmbr', 'cd82', 'ptpn14', 'c1qtnf12', 'zbtb21', 'postn', 'nkrf', 'atp5mg', 'vgll4', 'ip6k1', 'klk6', 'or13h1', 'nkapd1', 'dnajc10', 'ccn5', 'sugp1', 'slc35f4', 'cystm1', 'myadml2', 'fam168a', 'abce1', 'map3k4', 'mtfr1l', 'xrcc5', 'dhx8', 'grik1', 'rhov', 'zcchc3', 'fam174b', 'angpt1', 'npc1l1', 'clmp', 'hexim2', 'pappa2', 'nmd3', 'hs6st1', 'cars2', 'kctd14', 'ndufb7', 'ccdc142', 'mt1a', 'rbfox3', 'atp8b2', 'ube2i', 'klk12', 'krtap8-1', 'porcn', 'ube2z', 'adm', 'fzd10', 'or6a2', 'med11', 'c5orf51', 'ermp1', 'krtap19-7', 'cdc16', 's100a8', 'bicdl1', 'n4bp2', 'tex13a', 'lsm5', 'greb1l', 'epb41l4b', 'tex22', 'insig2', 'jph2', 'shoc1', 'inca1', 'tgfb1', 'ppat', 'morf4l1', 'cldn8', 'plcxd1', 'pard6b', 'spsb4', 'hoxb2', 'calb1', 'hrct1', 'chmp2b', 'nr1i2', 'nt5dc2', 'c5orf24', 'samd5', 'map1a', 'ppil3', 'utp18', 'trps1', 'stk32b', 'crtc2', 'lrrc39', 'duxb', 'dnlz', 'tcl1b', 'col1a2', 'casp8', 'pi4k2a', 'nuggc', 'pdxk', 'mif4gd', 'tmem87a', 'cyp24a1', 'fam167a', 'srcap', 'zfp36l1', 'adipor2', 'vrtn', 'ush2a', 'xirp1', 'myct1', 'slc36a2', 'dhx58', 'casp14', 'nsg1', 'ebln2', 'serpinf1', 'trim41', 'capzb', 'gpr135', 'neu3', 'znf830', 'lrp10', 'slc25a39', 'znf100', 'accsl', 'uhrf1bp1l', 'adgrd1', 'tmem269', 'snw1', 'sfmbt2', 'lats2', 'msi1', 'mfsd12', 'or1i1', 'dync2h1', 'itgb4', 'tnfaip3', 'ado', 'gtf2h1', 'gfra3', 'ddn', 'pou3f3', 'xpc', 'zcchc24', 'iqcf2', 'cyp17a1', 'tmem132d', 'thpo', 'galnt4', 'zc2hc1c', 'ropn1b', 'taf11l14', 'plcd4', 'mboat7', 'fam50a', 'gata6', 'rassf6', 'galnt2', 'mbd4', 'hs2st1', 'pcdhga1', 'ms4a18', 'p4ha3', 'ankub1', 'tk1', 'olr1', 'usp45', 'mef2c', 'ift46', 'six6', 'gba2', 'foxi3', 'arsb', 'antxr2', 'dcaf4l2', 'sned1', 'serpinb10', 'psg9', 'hnrnpr', 'arhgef37', 'rnf151', 'tmem42', 'irf4', 'mis18bp1', 'colec12', 'or10r2', 'sbno2', 'arhgef1', 'znf224', 'bcl2', 'axl', 'abcc1', 'pou3f4', 'tmem92', 'kiaa2026', 'tmem179', 'tmem249', 'tulp4', 'hbp1', 'tmeff2', 'znf79', 'dennd3', 'abcc5', 'doc2a', 'wnt1', 'nfib', 'mafa', 'krt33a', 'c3', 'psma8', 'hrh1', 'mrrf', 'megf8', 'arpp19', 'stag2', 'mapk12', 'tceal2', 'bean1', 'lmbrd2', 'ankfn1', 'fut7', 'gdpd2', 'ugt2b11', 'exosc9', 'il24', 'ackr4', 'phf6', 'ddx1', 'or7c2', 'nppb', 'smarca5', 'htra1', 'c15orf65', 'pax5', 'plxna2', 'fscb', 'supv3l1', 'cpn1', 'serpina3', 'taf1c', 'heatr6', 'col5a3', 'gfy', 'kpna6', 'lama3', 'lyve1', 'tmf1', 'ccng2', 'ccn4', 'psma3', 'muc22', 'galnt7', 'aph1b', 'psmd6', 'stx2', 'cln3', 'ppox', 'smim5', 'nodal', 'ms4a13', 'zdhhc17', 'lrrcc1', 'gzmk', 'lnx2', 'rnase6', 'zscan32', 'ca9', 'gpr153', 'pla2g2a', 'ahr', 'des', 'foxi1', 'pidd1', 'plbd2', 'selenot', 'stab1', 'ptpn5', 'mt1f', 'defb4a', 'c18orf63', 'pcp2', 'btbd6', 'mt-nd5', 'slc24a4', 'pydc1', 'dnah9', 'nsmf', 'hfm1', 'bloc1s5', 'rnmt', 'bfsp1', 'myo18a', 'prex2', 'tmem192', 'ifnw1', 'or5ak2', 'serpine1', 'stk17b', 'ring1', 'gpsm2', 'katna1', 'tpk1', 'pdia4', 'rnase8', 'gata2', 'frem2', 'pou2af1', 'elp5', 'znf502', 'znf823', 'usp11', 'ccdc80', 'tcp10l2', 'lrp2', 'arf3', 'patl2', 'tlcd3b', 'wwc2', 'dnase2', 'actb', 'bysl', 'mex3a', 'ackr1', 'lrrc32', 'babam1', 'slc2a11', 'tcte1', 'atad2', 'psma4', 'prom2', 'rab2b', 'nr1d1', 'shfl', 'tsr1', 'prkcsh', 'tmprss11e', 'mlip', 'exd3', 'or52n4', 'awat1', 'snx6', 'dok2', 'prss51', 'eif2b3', 'oxer1', 'znf273', 'khdc4', 'fnbp4', 'zeb1', 'mcm5', 'sgce', 'prickle2', 'fchsd1', 'stk39', 'tsc22d4', 'cct4', 'etnk2', 'asic3', 'rnf14', 'sart1', 'creb3l1', 'tradd', 'slc13a4', 'klhl10', 'ipcef1', 'cfap410', 'fabp3', 'thrap3', 'ctso', 'or9g1', 'fbxl19', 'qsox2', 'fndc5', 'jam3', 'zhx1', 'rttn', 'atg14', 'gast', 'hcfc2', 'add2', 'slc25a1', 'ndel1', 'psmf1', 'slc26a6', 'astn1', 'fbxw7', 'scarf1', 'ppp1r14b', 'slc25a17', 'mpst', 'ankar', 'phyhd1', 'mmp11', 'dars2', 'usp14', 'tmem200c', 'dhrs7b', 'cfap97', 'adam30', 'slc12a1', 'lrrc8e', 'bco2', 'rbm19', 'mkrn2os', 'prrx2', 'nomo1', 'or1s2', 'far2', 'ftsj3', 'reep2', 'rit2', 'dcun1d1', 'dio3', 'zmym1', 'znf275', 'scn7a', 'slc14a2', 'tet1', 'cttnbp2', 'mt4', 'pla2g3', 'alb', 'csag1', 'dnhd1', 'frs2', 'ppm1n', 'nfe2l2', 'map3k14', 'ticrr', 'pi4ka', 'prxl2b', 'fstl5', 'or51v1', 'zfp1', 'slc5a6', 'mef2b', 'clstn1', 'vamp3', 'svep1', 'cfap43', 'fanci', 'anks1b', 'gpr35', 'cskmt', 'camta2', 'stpg3', 'edem3', 'mdm2', 'rsph6a', 'aldh1a1', 'msln', 'oaz2', 'ankfy1', 'or4d11', 'mlc1', 'wnt9b', 'map3k12', 'cbr1', 'aste1', 'prss33', 'bmpr1a', 'gfral', 'kiaa0040', 'kbtbd12', 'lat', 'dynlt1', 'gpatch2', 'zc3h18', 'hipk4', 'cnot4', 'dexi', 'lrp12', 'apoa5', 'stradb', 'pex16', 'rabggta', 'synj1', 'b3gnt5', 'krtap10-2', 'card18', 'sncaip', 'mybphl', 'mettl8', 'c1galt1c1', 'cldn1', 'glt1d1', 'map2k2', 'srrm1', 'lrrc40', 'znf853', 'nfatc3', 'stk35', 'uap1', 'ct55', 'dop1a', 'zgrf1', 'rab19', 'rpel1', 'ogfrl1', 'mdfic', 'serpinb11', 'uxt', 'bricd5', 'creb3l3', 'ifnar2', 'ank2', 'cdk15', 'insm2', 'itih2', 'pax9', 'tmem259', 'filip1', 'znf804a', 'zswim9', 'xpnpep2', 'rgs20', 'tbc1d25', 'or52e2', 'snrpe', 'fcrl1', 'ehd2', 'tmem154', 'plpbp', 'dnah11', 'mmp28', 'rubcn', 'cenpj', 'smim1', 'arl9', 'taf2', 'pgbd4', 'dpep2', 'gpr161', 'tigd1', 'casp10', 'kcnd2', 'rtn4', 'ints4', 'malrd1', 'adh1a', 'depdc7', 'c17orf64', 'gnptab', 'akr1e2', 'mfsd13a', 'coro2b', 'hspb2', 'otud5', 'fbxo45', 'ak4', 'kcnj14', 'fam193b', 'kl', 'nup214', 'znf674', 'mapkapk2', 'lyzl4', 'enoph1', 'sgtb', 'c8orf58', 'cbx5', 'smox', 'pet100', 'lin9', 'mroh9', 'ebf4', 'bard1', 'sowahc', 'rasgrp3', 'derl3', 'calr', 'hpgd', 'wdr47', 'csf1r', 'spaca4', 'hnrnpcl3', 'c3orf85', 'spaca9', 'ago1', 'cfap45', 'lbp', 'sema3d', 'pak4', 'ervk3-1', 'med8', 'fkbp10', 'hcrtr1', 'inafm2', 'tpx2', 'pcdh7', 'nrg1', 'ddx18', 'ltk', 'bub1b', 'smim29', 'ell2', 'smg6', 'krt16', 'plxna1', 'pyroxd2', 'rhot2', 'taf1', 'macrod1', 'dad1', 'chchd6', 'umodl1', 'lrrc4b', 'phospho1', 'ptcd2', 'uqcrb', 'or5d16', 'znf24', 'znf723', 'gid8', 'nrf1', 'rsl1d1', 'cldn12', 'slc34a3', 'zwilch', 'ccl1', 'zscan30', 'gdi1', 'scgb2b2', 'znf420', 'c5orf49', 'ly6h', 'kdm2b', 'cetn2', 'cdk5rap3', 'col8a2', 'gdf2', 'xxylt1', 'gp9', 'tatdn3', 'zmym2', 'bglap', 'swt1', 'rnf182', 'tmem178a', 'dst', 'purg', 'begain', 'tyms', 'spryd7', 'rxrg', 'hnf4g', 'zbed4', 'fah', 'cdk5r2', 'fcrl3', 'znf354b', 'neurl3', 'syt6', 'vps26a', 'senp7', 'polb', 'psmc1', 'clcc1', 'tmem71', 'lias', 'f8', 'pcdhb11', 'fbxl22', 'tent4b', 'tedc1', 'oxct2', 'notum', 'nectin1', 'fam204a', 'adcy8', 'il13', 'fads6', 'znf676', 'dydc2', 'or4c12', 'cfap47', 'znf197', 'myo3b', 'adam29', 'mamld1', 'nepro', 'tpsd1', 'pou6f2', 'cnga1', 'adat1', 'or8k5', 'ppp1r8', 'cse1l', 'rbfox2', 'ccdc62', 'zbtb48', 'rbms1', 'cylc1', 'rbm24', 'actbl2', 'tmem239', 'papolg', 'fam193a', 'cct2', 'tvp23a', 'kbtbd3', 'znf729', 'ehd1', 'mapk13', 'sycp2', 'mis18a', 'spag9', 'znf697', 'gss', 'parp12', 'gar1', 'thg1l', 'cpne5', 'abcf2', 'tp53', 's100a1', 'med23', 'col6a2', 'prr5', 'ulbp3', 'dpy19l3', 'mrgprx1', 'clcnka', 'gls', 'cyp1b1', 'magi2', 'pkp4', 'bsg', 'spint3', 'cpsf3', 'lrpap1', 'mapk6', 'poll', 'fbxo25', 'mob1a', 'hsd17b10', 'rab18', 'lyar', 'ccser1', 'tent2', 'lmo2', 'usp5', 'farsb', 'ypel1', 'ubald1', 'izumo4', 'hrnr', 'srm', 'dek', 'c6orf136', 'sec61g', 'cebpd', 'rhebl1', 'vax2', 'ankrd18b', 'prmt7', 'emc3', 'lime1', 'ing5', 'clec14a', 'susd1', 'dhrs7c', 'vtn', 'pgbd2', 'daoa', 'dnajb11', 'emc2', 'mfge8', 'galntl5', 'il36a', 'itga4', 'lyrm7', 'dcun1d3', 'ccdc141', 'grpel1', 'ubr3', 'best3', 'fam110d', 'ptn', 'sf3b2', 'znf319', 'trappc3', 'mios', 'clcn7', 'dennd4a', 'xylb', 'utf1', 'znf486', 'cox17', 'znf608', 'nploc4', 'saa4', 'or3a3', 'c17orf100', 'fn3k', 'foxh1', 'echdc2', 'znf474', 'anhx', 'tff1', 'c4bpa', 'cd200r1l', 'spink7', 'cox7a2l', 'or1s1', 'endou', 'lipe', 'utp4', 'dcaf8l1', 'slc51b', 'znf227', 'taf9b', 'tcp11', 'nkapl', 'tshb', 'c12orf65', 'egln2', 'asxl1', 'rere', 'cnn2', 'epg5', 'nutm2e', 'adgrl4', 'dok3', 'spam1', 'ppm1l', 'slc22a18as', 'cth', 'tnfrsf13c', 'pla2g10', 'f11r', 'cacng5', 'sema5a', 'arhgef3', 'pramef19', 'chrna10', 'bcl2l1', 'nol4l', 'ten1', 'cep250', 'ythdf1', 'usp31', 'fhod3', 'c8orf37', 'parp11', 'nudt7', 'ube2d2', 'klrc3', 'slc16a7', 'rnf128', 'pnma1', 'c8orf76', 'zxda', 'cldn5', 'evi5', 'ap4b1', 'ghrl', 'mak16', 'htr7', 'rbm28', 'cdkl1', 'ptgr2', 'cd22', 'usp9y', 'stx8', 'efcab6', 'clec2d', 'upk3b', 'znf106', 'myadm', 'nynrin', 'hoxb4', 'psg4', 'gemin5', 'actr6', 'tgif2', 'ddx21', 'clec11a', 'nkx1-2', 'fmn1', 'znf8', 'megf11', 'pck1', 'nln', 'htr3c', 'uchl5', 'neb', 'wnt3', 'dolpp1', 'sbf2', 'kcna5', 'sin3b', 'etv3', 'gprin1', 'ct83', 'trim7', 'ldhal6a', 'dtx3', 'gal3st1', 'calml5', 'mmp23b', 'efcc1', 'bcam', 'ngef', 'znf177', 'il17rc', 'tmtc2', 'tmc5', 'smkr1', 'gprc5d', 'cep162', 'iqcf1', 'mtrf1', 's100b', 'nkd1', 'prss55', 'atg4a', 'hdgfl1', 'htn1', 'pnpla4', 'vwa8', 'cmpk2', 'mtf2', 'hoxd9', 'tlr4', 'idi1', 'cldn9', 'fam185a', 'ccn3', 'rnase12', 'slc22a3', 'arid5b', 'pdzd7', 'adamts17', 'ddah2', 'apol2', 'clec1b', 'sema3b', 'baat', 'c12orf66', 'pclaf', 'znf503', 'prpsap2', 'colca2', 'rasa2', 'acvr1c', 'sdhaf1', 'kiaa1614', 'phyh', 'kcnj16', 'shld2', 'rbfox1', 'znf19', 'cap1', 'nox3', 'nabp1', 'grk3', 'znf600', 'pmvk', 'tmem255b', 'vdac1', 'cab39', 'edn2', 'spta1', 'rbm15', 'enho', 'c10orf71', 'or2f2', 'rab30', 'pde6h', 'podxl2', 'gja3', 'klc4', 'kcnk3', 'lins1', 'lmx1a', 'csnk1e', 'cnot9', 'vps53', 'hmgcs1', 'plxna3', 'gage1', 'crhbp', 'iqgap1', 'manbal', 'rab25', 'dock1', 'agps', 'l3hypdh', 'zc3h7a', 'gatad1', 'hmgn1', 'ghitm', 'adamts2', 'mre11', 'elavl1', 'igdcc4', 'dlx5', 'acadvl', 'tyrobp', 'tmem131l', 'msi2', 'rilp', 'cct3', 'hras', 'casz1', 'nccrp1', 'rad50', 'crebl2', 'reep3', 'dnah1', 'ankib1', 'abhd3', 'rab39b', 'gipc1', 'supt7l', 'apom', 'fam221a', 'pnma2', 'or6c4', 'ap2a1', 'nup54', 'cyp4v2', 'adrb2', 'tlx3', 'dnajc25', 'ppp2r2a', 'znf624', 'arhgef15', 'oip5', 'armc12', 'tmem235', 'zfp28', 'ccdc15', 'asb7', 'tab3', 'ncoa2', 'znf75a', 'spaar', 'prr33', 'znf511', 'plekha5', 'gxylt1', 'ccdc196', 'abhd16b', 'or9q1', 'prcc', 'lrrfip2', 'glra1', 'or52n2', 'paqr4', 'rdh10', 'hlf', 'p4ha2', 'ccin', 'tmem160', 'trim29', 'scn10a', 'vmp1', 'cldn17', 'tceal8', 'zdhhc5', 'c11orf71', 'cenpe', 'tm7sf2', 'dlst', 'slc16a1', 'acsm6', 'dhx37', 'cox16', 'tbc1d2b', 'pcdhga11', 'atg7', 'c5orf58', 'tbc1d4', 'c11orf94', 'sh3bgr', 'agtr1', 'il17ra', 'sil1', 'galnt15', 'or51e1', 'tbc1d12', 'itgb8', 'gba', 'rab3d', 'b3galnt1', 'mmd2', 'cnnm2', 'gcna', 'cd38', 'ppp1r3e', 'ms4a3', 'ttc30a', 'copa', 'dap', 'ndufv1', 'fhdc1', 'fbxl17', 'krt84', 'rexo4', 'plpp1', 'glb1l3', 'cacng4', 'st6gal1', 'slfn5', 'fcgr1a', 'znf518b', 'fer', 'or4s1', 'glod4', 'spef2', 'ccdc38', 'slc52a1', 'map3k21', 'eftud2', 'timm21', 'brd1', 'akap12', 'cd6', 'ccdc43', 'pcbp2', 'zdhhc21', 'psd3', 'adamts3', 'or51b6', 'nid1', 'nos1ap', 'ltb4r', 'plch1', 'pdcd6ip', 'treh', 'slc47a2', 'tinagl1', 'asb17', 'crebrf', 'or8a1', 'cdc25b', 'edar', 'rasd1', 'omg', 'mus81', 'smim9', 'dtwd2', 'cyb561', 'surf2', 'acsl6', 'c2cd2l', 'zar1', 'tuba3d', 'tmem267', 'dhfr2', 'nrg3', 'ccdc91', 'thsd1', 'c19orf38', 'znf70', 'pklr', 'lamtor1', 'tmem268', 'kcnmb2', 'gpc4', 'sertad3', 'leutx', 'lilrb2', 'fam180b', 'spata18', 'or2b3', 'ece2', 'or10h1', 'cox4i2', 'katnal2', 'mrgbp', 'clasp1', 'nt5dc4', 'cpeb4', 'blvra', 'anks6', 'mib2', 'pilrb', 'fastkd2', 'ca6', 'sfrp1', 'or4a16', 'atad2b', 'zc3hav1', 'fam3c', 'znf555', 'psg3', 's1pr2', 'serinc3', 'tnnc2', 'plxna4', 'bfsp2', 'ido2', 'spata17', 'kif16b', 'hsd17b12', 'foxd4l5', 'atxn2', 'mkrn2', 'eps8l1', 'runx2', 'topors', 'tp53i13', 'pip5k1a', 'adnp2', 'tmem79', 'loxhd1', 'tmem253', 'mgat5b', 'srd5a2', 'hesx1', 'slc35a2', 'hivep3', 'hoxd10', 'exd1', 'pif1', 'cst3', 'chm', 'best4', 'flii', 'ric1', 'kcnt1', 'ubl4b', 'hspbap1', 'prrt1b', 'tdp1', 'nme7', 'znf184', 'ncbp2as2', 'acsf2', 'usp32', 'tm4sf5', 'mob3a', 'cfap44', 'zscan4', 'slc7a3', 'lcn1', 'mgat3', 'cdhr1', 'mtpap', 'grem1', 'syt3', 'sh3tc2', 'gdnf', 'sp1', 'tmprss11a', 'psmb10', 'or52h1', 'chrnb1', 'rimkla', 'kif4b', 'mrgprf', 'eif2ak1', 'pde8a', 'kcnk10', 'rgs12', 'igfn1', 'arf1', 'or5k2', 'arhgap1', 'ksr2', 'ftmt', 'hlcs', 'gyg2', 'gemin2', 'meox1', 'lipm', 'nars2', 'dsn1', 'acrv1', 'cryab', 'thegl', 'pkd1', 'wdr17', 'cbln1', 'dlgap5', 'slc41a1', 'slc13a1', 'disp3', 'itgb1', 'cry2', 'mc1r', 'dennd11', 'eefsec', 'etv2', 'pip4p2', 'or8s1', 'kcnn3', 'or8h3', 'acsl4', 'gpr32', 'fam47e', 'hsf2', 'sst', 'tfdp1', 'apoh', 'krtap10-8', 'higd1c', 'eif2ak3', 'trip10', 'spa17', 'nap1l2', 'gstz1', 'rxra', 'tsc1', 'arpc1a', 'tigar', 'cyren', 'fam117a', 'pgam5', 'cib2', 'fam71d', 'exoc1', 'gdap2', 'ranbp3l', 'neurl1b', 'casp8ap2', 'slc2a6', 'ago4', 'birc2', 'drc3', 'fbxo48', 'prr30', 'clrn3', 'ercc5', 'stmn1', 'ablim2', 'eef2kmt', 'tmem208', 'ccrl2', 'slc15a4', 'galnt14', 'kat6a', 'znf671', 'tpra1', 'tac1', 'lmbr1', 'pus3', 'or6p1', 'ttll4', 'ift80', 'gal3st3', 'fgfbp2', 'znf664', 'grk7', 'cdh20', 'mtfr2', 'amt', 'hsf1', 'kcnb1', 'ucp2', 'dhdds', 'fam9c', 'tmem223', 'gpatch8', 'zacn', 'ecsit', 'rapgef1', 'thoc2', 'arhgef2', 'arhgap23', 'tmem164', 'sh2d3c', 'cyb561a3', 'nkain2', 'or2t2', 'ptpn11', 'map3k7cl', 'layn', 'c9orf24', 'nptx1', 'or8j1', 'rnd3', 'snrpn', 'glis3', 'spint2', 'smim13', 'mypn', 'zfpm2', 'gcn1', 'btd', 'ms4a4a', 'ugt2a2', 'znf654', 'crem', 'aig1', 'tppp', 'chd9', 'trim25', 'elp6', 'fetub', 'st3gal5', 'fkbp1c', 'serinc1', 'hapln1', 'spink8', 'sparc', 'tmed10', 'papola', 'dzip3', 'bola1', 'ubn2', 'cables1', 'btc', 'cdk5r1', 'ndn', 'tmem145', 'vma21', 'ezhip', 'p3h1', 'tesmin', 'ppp1r7', 'otol1', 'actc1', 'qsox1', 'tex264', 'lsm11', 'adam12', 'eaf2', 'alg12', 'nubp1', 'fam20a', 'ecpas', 'klhdc9', 'dalrd3', 'usp28', 'c6orf141', 'slc4a5', 'hmg20a', 'ddx17', 'b3gnt6', 'bpifb3', 'arrdc2', 'tmem275', 'acaa1', 'tmem30a', 'caskin2', 'lgalsl', 'rnf217', 'ift22', 'cyp2s1', 'id4', 'mmp17', 'il3', 'polh', 'papln', 'sox1', 'slc25a19', 'bsx', 'sytl4', 'ppih', 'gpr148', 'stard3nl', 'chchd3', 'pwwp3a', 'limd1', 'itm2a', 'lamb2', 'sra1', 'cacna1g', 'actl10', 'chit1', 'elmod2', 'pcbd2', 'cux1', 'vps37c', 'slc12a2', 'nrg4', 'kctd2', 'ctif', 'opn4', 'arid2', 'aadat', 'acsm1', 'lats1', 'sbf1', 'bcl3', 'cdhr2', 'amz1', 'slit2', 'b3galt2', 'mastl', 'b3gnt4', 'fgf12', 'pyurf', 'znf655', 'maml2', 'esco1', 'prdm14', 'adgrb1', 'tlcd3a', 'mageb16', 'fam135a', 'lrrc41', 'stk3', 'cilp2', 'ckap2l', 'tm9sf3', 'ptprz1', 'zc3h3', 'abcc12', 'kcnn1', 'imp4', 'sfrp4', 'bnip2', 'tbc1d20', 'wdtc1', 'or52k2', 'c1rl', 'dnajc13', 'romo1', 'lyl1', 'fthl17', 'hmx3', 'gipr', 'adrb3', 'gpr146', 'pnrc2', 'timm50', 'polr2l', 'vegfb', 'sox21', 'mycbp', 'slc44a2', 'wwp2', 'dennd5b', 'pced1a', 'csn2', 'ntng2', 'phyhipl', 'setdb1', 'htr3a', 'wfikkn2', 'smim21', 'lelp1', 'chpf2', 'garem1', 'zdhhc3', 'crtac1', 'c5ar1', 'galnt5', 'septin14', 'rbx1', 'ddx60l', 'lamtor2', 'strn4', 'musk', 'dlx4', 'arvcf', 'tex19', 'cand2', 'asxl2', 'c2orf69', 'adora2b', 'engase', 'usb1', 'gmeb2', 'slc36a3', 'chpt1', 'kir2dl4', 'tlk1', 'poglut1', 'smim6', 'c19orf84', 'ntan1', 'mtmr14', 'spsb2', 'cdr2l', 'abhd11', 'bex2', 'tas2r14', 'map7', 'agpat5', 'mef2a', 'sstr2', 'ifih1', 'itprid1', 'srr', 'slc25a31', 'apobec3f', 'ly6l', 'btn3a3', 'taz', 'vti1b', 'lce3a', 'znf629', 'slc38a10', 'fam32a', 'znf257', 'fstl4', 'dhps', 'kcnd3', 'hcn3', 'raet1g', 'fam53c', 'ctsk', 'ccbe1', 'siglec6', 'itgav', 'zdhhc2', 'tfip11', 'ap5z1', 'kat2b', 'cep83', 'asl', 'art4', 'krt23', 'znf318', 'itga11', 'setd4', 'grk4', 'myrip', 'fzd2', 'tmem241', 'gtf2a1', 'cmtm7', 'tex11', 'tmem199', 'sncg', 'tmem130', 'rims1', 'odf1', 'gtpbp4', 'lancl1', 'lrit3', 'rcc1l', 'ogfod2', 'chrne', 'fam160a2', 'hoxa9', 'sec16a', 'btbd17', 'sema6d', 'ldoc1', 'znf644', 'mcrs1', 'snx21', 'il10rb', 'tcf20', 'calhm4', 'adamts12', 'defb113', 'tex51', 'pcdhga5', 'tgm5', 'eif1', 'bbs1', 'jsrp1', 'exosc1', 'mturn', 'sytl2', 'c6', 'krtap4-6', 'fndc4', 'rbm15b', 'krtap11-1', 'ngly1', 'erich1', 'krbox4', 'palm3', 'ing1', 'tefm', 'usp41', 'pon1', 'vipr2', 'smoc1', 'spred2', 'lsm6', 'gldn', 'ptar1', 'cadm2', 'smim27', 'nr2c1', 'sorbs1', 'glipr1', 'dgki', 'nat1', 'lmntd1', 'usp8', 'utp25', 'coasy', 'zcchc7', 'afap1', 'ufsp2', 'kif5b', 'pld4', 'lasp1', 'vezt', 'eif3j', 'soga1', 'arhgap6', 'cd63', 'hcfc1r1', 'arid1a', 'spata22', 'nudt11', 'prrg2', 'evc', 'tma7', 'slc15a2', 'snrpb2', 'klhl8', 'flacc1', 'ptpn4', 'c6orf62', 'plaat2', 'grsf1', 'basp1', 'set', 'sphkap', 'maff', 'cstf2', 'gtdc1', 'tctn3', 'adgrg4', 'fgfr1op2', 'cdh3', 'naa11', 'taf9', 'psmc4', 'mlf2', 'por', 'crebzf', 'adpgk', 'rbmx2', 'acvr1', 'znf416', 'mafk', 'fgfr1', 'arhgef40', 'nlk', 'triobp', 'spata4', 'nostrin', 'rergl', 'lig1', 'zkscan8', 'atp1b1', 'mtx3', 'lrmda', 'or4k17', 'rasl11b', 'chl1', 'nktr', 'cyp27b1', 'tnfsf11', 'brms1l', 'tubal3', 'vn1r2', 'c19orf53', 'reg4', 'ccdc160', 'klk14', 'slc27a4', 'btf3l4', 'tipin', 'pitpnm3', 'mucl3', 'tbc1d32', 'adgre3', 'senp2', 'cyp2w1', 'cpa6', 'cat', 'nme5', 'eid3', 'bmp4', 'dnajc14', 'kiaa0895l', 'lgals1', 'mgat4b', 'itgb7', 'thbs4', 'swap70', 'elspbp1', 'hhex', 'cfap126', 'htr3d', 'gcc1', 'vti1a', 'crhr2', 'lman1', 'osbpl1a', 'bola3', 'elmo3', 'trappc3l', 'carns1', 'cybc1', 'ticam1', 'b9d2', 'gpr63', 'ckm', 'snrnp70', 'taf7', 'znf276', 'ubd', 'asb16', 'nat8', 'ebf2', 'rgn', 'cnga2', 'defb115', 'nrk', 'azi2', 'guca2a', 'myoz2', 'muc17', 'gsdmd', 'hpse2', 'szrd1', 'or52e8', 'casp4', 'dcps', 'scygr8', 'slc35e3', 'mycn', 'cbr4', 'mnda', 'aptx', 'stxbp5', 'il2ra', 'nipa2', 'hp1bp3', 'ccdc102b', 'zrsr2', 'ocrl', 'psat1', 'snap47', 'r3hdml', 'parp1', 'cdkl2', 'lrrn1', 'naprt', 'commd4', 'stx1b', 'tgm1', 'pnmt', 'arhgap4', 'gpr6', 'mx1', 'tbcel', 'tox', 'dbp', 'kctd13', 'csnk2a2', 'cyp2b6', 'ppp1r14c', 'mks1', 'pgm1', 'lrrc75a', 'c4orf51', 'cct6b', 'gtf3c4', 'hadh', 'allc', 'thap6', 'lurap1', 'lemd1', 'bspry', 'mkx', 'znf768', 'loxl1', 'chka', 'frmd3', 'zfp57', 'fshb', 'dnajb1', 'ano8', 'galnt6', 'dnah14', 'msrb1', 'fsip2', 'znf277', 'krtap10-11', 'clasp2', 'ythdc1', 'gnmt', 'dcun1d4', 'spocd1', 'cachd1', 'col4a3', 'tincr', 'cep78', 'card9', 'sox14', 'utp11', 'tmem167b', 'wdr35', 'sh2d6', 'vars2', 'tmco3', 'znf432', 'ephx4', 'kmt5a', 'mmp25', 'fam3d', 'krtap9-7', 'cldn14', 'kcna3', 'dnmt3a', 'ccdc28b', 'btnl2', 'cfap69', 'mpp3', 'ocel1', 'bid', 'swsap1', 'znf264', 'trim26', 'cacng7', 'mdga1', 'tmprss6', 'ncdn', 'psmb9', 'vhll', 'pcdh10', 'smr3a', 'gzma', 'tmem151b', 'bloc1s4', 'akap4', 'tmem147', 'dpm3', 'dzip1l', 'litafd', 'rchy1', 'znf610', 'apof', 'or51t1', 'arsi', 'fate1', 'traf5', 'col24a1', 'haghl', 'cdca7l', 'pla2g4e', 'cct8', 'aimp1', 'sod2', 'emc1', 'edem1', 'cdk7', 'sox13', 'gabrp', 'znf692', 'pex10', 'tfpi', 'dtd1', 'ids', 'sgip1', 'fhl1', 'srp72', 'ifna5', 'ddx23', 's100a16', 'miox', 'atp1b3', 'cyp2e1', 'bax', 'zyx', 'stk38', 'depdc1', 'fam136a', 'tnrc18', 'ankrd54', 'p2rx7', 'tomm7', 'lsm2', 'dctn2', 'ptprf', 'ncr3', 'sesn3', 'ddrgk1', 'ankrd37', 'spata5l1', 'alpl', 'nusap1', 'myl2', 'lrfn5', 'znf155', 'idh2', 'mpp4', 'lhx1', 'apex2', 'nudt1', 'pwwp3b', 'ercc1', 'cdh5', 'tbc1d3e', 'epc1', 'cdk3', 'znf705g', 'caap1', 'ctrl', 'slc27a2', 'prrt1', 'cog3', 'cyth4', 'tmem169', 'scrn1', 'tdrd1', 'dock11', 'gspt1', 'znf335', 'apoc3', 'stoml2', 'nck1', 'arrdc4', 'cenph', 'or14i1', 'msantd1', 'pkn2', 'stk16', 'smtn', 'hes1', 'syde2', 'actr1b', 'metap1d', 'pla1a', 'zbtb42', 'hsf5', 'ints8', 'mospd1', 'hdac1', 'yipf6', 'armcx2', 'ovgp1', 'pilra', 'rassf2', 'dhrs2', 'bahcc1', 'cd151', 'slc25a33', 'slc9a3r1', 'ccdc50', 'cass4', 'rab5a', 'ptcra', 'tmem63b', 'opa3', 'pcdhga7', 'noct', 'gm2a', 'mmp9', 'nbpf1', 'mpzl2', 'cops8', 'gys1', 'zap70', 'il18', 'kiaa0930', 'gpr142', 'c1orf35', 'lnp1', 'ccnb1', 'amigo2', 'krtap10-7', 'mcf2', 'stxbp3', 'socs7', 'tigd3', 'drich1', 'sco1', 'jmjd6', 'ndfip2', 'tom1l1', 'asb6', 'tcap', 'adra2c', 'coa3', 'rabgap1', 'c11orf86', 'gask1a', 'sirt7', 'cmc1', 'or10q1', 'plagl1', 'pasd1', 'znf735', 'pten', 'mageh1', 'gabpb2', 'cluap1', 'c12orf40', 'ca1', 'numa1', 'txndc15', 'skil', 'ccdc134', 'znf260', 'acsl3', 'znf669', 'slc9a5', 'cpz', 'slc16a10', 'dmrta1', 'ccdc71l', 'enpp4', 'tgs1', 'cfap298', 'tmem258', 'slc10a2', 'metap2', 'sh2b2', 'nacc2', 'cmtm3', 'macc1', 'tcerg1l', 'wbp2nl', 'rims3', 'dgkk', 'six4', 'fnip2', 'pik3r4', 'gsto2', 'wnt8b', 'slc46a1', 'corin', 'ampd3', 'fitm2', 'fbxw11', 'fgf20', 'rxfp1', 'dhx34', 'ckap5', 'sec23ip', 'arid3a', 'zfp69b', 'syce3', 'c2orf42', 'c2cd4a', 'prnd', 'mettl7a', 'il12b', 'irs2', 'smg9', 'cldn2', 'slc12a4', 'arhgap26', 'rdm1', 'usp12', 'scyl1', 'kif5c', 'ccdc183', 'rmnd5a', 'mpc1', 'tssc4', 'mfhas1', 'map7d2', 'cox11', 'syt14', 'lin28a', 'mllt10', 'prodh2', 'sgcz', 'nxf3', 'atp5po', 'dhx38', 'ociad1', 'myom2', 'ttc32', 'ect2l', 'spred3', 'or13d1', 'aldoc', 'fam83a', 'ddit3', 'cer1', 'dennd1a', 'scp2', 'lgr6', 'zscan5c', 'fitm1', 'f3', 'csgalnact1', 'gpr68', 'foxj1', 'nt5c3a', 'zscan9', 'hspd1', 'kmt5b', 'carm1', 'dnajc2', 'esyt3', 'snx16', 'abca7', 'septin9', 'lamp2', 'psme3', 'znf326', 'rngtt', 'b3gntl1', 'cyp4f8', 'il7r', 'slc35c2', 'ms4a12', 'parpbp', 'rftn1', 'oit3', 'pramef14', 'arhgef10', 'hddc3', 'obscn', 'dhx9', 'pramef6', 'znf99', 'bmt2', 'frmd8', 'nid2', 'mst1', 'osm', 'nfatc2', 'asb5', 'cst9l', 'tubgcp3', 'cish', 'spdye4', 'supt16h', 'nr2e1', 'atp13a1', 'eif3d', 'zbtb8b', 'mchr2', 'tmigd3', 'vstm2a', 'folr1', 'cmtm8', 'stk11', 'pax1', 'hoxd11', 'shisa7', 'snx8', 'rfwd3', 'tmem159', 'trappc8', 'myod1', 'tesk1', 'kcnc3', 'mcm6', 'epc2', 'spc24', 'cryz', 'page2', 'rhbdf1', 'kdm5c', 'cdsn', 'actl9', 'shank2', 'arglu1', 'sgms2', 'nfyc', 'nhlrc4', 'bin3', 'usp53', 'chst7', 'sun1', 'chp1', 'gins4', 'c8orf33', 'anxa9', 'txndc9', 'habp2', 'hdac5', 'usp17l10', 'tbc1d14', 'serpinh1', 'siglecl1', 'mettl26', 'cnr2', 'agbl2', 'pus7l', 'spic', 'nkain4', 'kat6b', 'ccnt1', 'dtx4', 'mustn1', 'lrfn3', 'gdap1l1', 'pcdh9', 'angptl3', 'mocs2', 'tomm34', 'antkmt', 'hes5', 'fut1', 'klk7', 'med13', 'ncbp2l', 'kcns2', 'psmg1', 'znf384', 'shroom4', 'or11l1', 'traf2', 'p2rx6', 'c21orf91', 'tmx4', 'dnah8', 'taf6l', 'clmn', 'meikin', 'mfsd3', 'znf121', 'nkx2-4', 'itpka', 'fam160a1', 'tle6', 'znf157', 'idi2', 'spout1', 'tacc2', 'cdkn3', 'pld5', 'ptpn21', 'cops3', 'pmm1', 'ube3b', 'marf1', 'asb15', 'lrrtm2', 'gcnt3', 'slc38a5', 'defb128', 'selenov', 'fuz', 'socs4', 'atic', 'phlda2', 'timm17a', 'noc3l', 'gkn2', 'myot', 'hfe', 'pfas', 'hmgb4', 'ubap2l', 'map2k1', 'msr1', 'arg2', 'rnf38', 'foxp1', 'fgf22', 'fgf18', 'il25', 'abcg1', 'krt222', 'skap1', 'mt1g', 'snapin', 'cebpg', 'ankrd28', 'pcyt1b', 'mmp19', 'wdsub1', 'fktn', 'myog', 'nrcam', 'pls1', 'slu7', 'fam200a', 'sostdc1', 'acad11', 'myl3', 'sftpa1', 'mgarp', 'kdm7a', 'dpp10', 'cdc45', 'immp1l', 'eef2k', 'myh11', 'appl1', 'mtfp1', 'ferd3l', 'tas1r2', 'pfn4', 'papss1', 'cbln4', 'ulk2', 'atp6v1g2', 'tnfaip1', 'rangrf', 'il1b', 'cog2', 'tshr', 'synm', 'slmap', 'c1qtnf2', 'nelfe', 'trak2', 'rnf11', 'osbpl6', 'slc25a38', 'tldc2', 'plekhg1', 'lsr', 'foxk2', 'mcmbp', 'cpne6', 'syt1', 'htra2', 'entr1', 'rufy2', 'inpp5a', 'p2rx1', 'tbata', 'or8i2', 'scygr4', 'il23a', 'heatr5b', 'polq', 'cnppd1', 'lrit1', 'c16orf90', 'tmco2', 'lsmem1', 'krt83', 'tox2', 'ift122', 'sptlc1', 'pard3b', 'ccdc148', 'gata4', 'pop7', 'lexm', 'znf586', 'celsr2', 'foxn1', 'spanxn2', 'c2orf73', 'tgm7', 'tmem25', 'fam13b', 'slc4a1ap', 'mapre2', 'tm4sf19', 'gdf7', 'or4a15', 'arl13b', 'fgf5', 'apbb1ip', 'nrsn2', 'arfgap3', 'cradd', 'nfkbie', 'ehhadh', 'tab2', 'adamts5', 'mmp16', 'cpt1c', 'dock10', 'cep135', 'cenpa', 'npas1', 'chaf1b', 'armh1', 'or6b3', 'cul1', 'calml4', 'scamp2', 'znf566', 'akt1s1', 'cebpa', 'tmem132e', 'rhbdl3', 'rgcc', 'ankrd50', 'prss38', 'ltv1', 'sars2', 'trim32', 'apobec3a', 'ltb4r2', 'pde6g', 'pgk1', 'map10', 'trnt1', 'dnajc11', 'pspn', 'gpr37l1', 'fmo2', 'itgb1bp2', 'slc4a1', 'fer1l6', 'bdnf', 'sv2a', 'il15ra', 'wdr97', 'chia', 'etfa', 'tatdn2', 'dnaaf4', 'nefl', 'cacna1s', 'rab3gap2', 'rhbdd1', 'znf132', 'zscan16', 'foxs1', 'ppp6c', 'slc5a9', 'wwc1', 'ccna1', 'pde2a', 'rad51ap2', 'spag8', 'cela2a', 'eloc', 'synj2bp', 'cxcl12', 'med9', 'lrrc1', 'cacna2d1', 'dbndd1', 'mylip', 'smim18', 'ldhc', 'or5an1', 'dbnl', 'krtap5-8', 'n6amt1', 'mro', 'shld3', 'rbbp7', 'st8sia1', 'cldn3', 'marco', 'syt10', 'nxpe3', 'ppm1h', 'il1f10', 'gimap8', 'il9', 'zfp90', 'gadd45b', 'c19orf12', 'naaa', 'cd24', 'zmynd12', 'cmtr2', 'ugt8', 'hivep2', 'aldh3a2', 'itga10', 'pdcd1', 'gpsm3', 'pspc1', 'tsen15', 'nfu1', 'rnpepl1', 'klln', 'sez6', 'tle5', 'ptprn2', 'aspdh', 'ptp4a3', 'zbed1', 'syt17', 'meis3', 'peg3', 'hcls1', 'me1', 'pax2', 'epha8', 'pcsk1', 'egf', 'sybu', 'kmo', 'ncoa6', 'igfbp3', 'ppp6r3', 'prss35', 'znf438', 'inhbc', 'ccdc27', 'fermt2', 'sohlh2', 'rrh', 'adora1', 'rasgrf2', 'prr23b', 'mrc1', 'smdt1', 'nppa', 'agrp', 'ifne', 'nab1', 'ccdc110', 'oas1', 'sh3bp5l', 'dynlrb2', 'ankle1', 'rbp1', 'smg8', 'cad', 'adgrf2', 'elp1', 'thap9', 'etfbkmt', 'fam98c', 'klf18', 'cldn20', 'krt3', 'zmynd15', 'rarres1', 'trim52', 'mtrex', 'nckap5l', 'gabrg1', 'nbl1', 'gemin7', 'calcb', 'tafa5', 'upp2', 'fxr2', 'calm1', 'alg13', 'esf1', 'washc4', 'ercc8', 'kcnmb1', 'ildr2', 'chd2', 'wnt16', 'mfap3l', 'ttll5', 'grk5', 'cntn3', 'zbtb11', 'zmat2', 'ifnlr1', 'krtap19-8', 'nlgn2', 'sfta2', 'c12orf54', 'chmp4c', 'minar2', 'efemp1', 'phf10', 'reg1b', 'or6y1', 'ogdh', 'spdye5', 'gpihbp1', 'adora3', 'or1j1', 'pik3c2a', 'znf875', 'ech1', 'idh1', 'sec11a', 'myo19', 'ceacam16', 'cxcr4', 'spata32', 'rec8', 'hes6', 'dvl3', 'nod1', 'scgb3a1', 'ormdl3', 'sash3', 'sf3a3', 'rab3gap1', 'znf595', 'rhobtb2', 'foxq1', 'tomm20l', 'ttyh2', 'rbbp8', 'bpifc', 'bmp15', 'rrad', 'slc25a46', 'sem1', 'zc3h15', 'bbip1', 'edrf1', 'or6c3', 'lrrc71', 'rbpjl', 'bms1', 'vsir', 'drd1', 'cep68', 'tp63', 'omp', 'slfnl1', 'btg4', 'napg', 'fzd6', 'clcn6', 'stag1', 'lipf', 'ppp1r1b', 'creb1', 'me2', 'sh2d4b', 'med7', 'adcy2', 'kndc1', 'lmod1', 'ap1s3', 'cenpc', 'rab9a', 'tmed8', 'otud7a', 'ufl1', 'prkdc', 'emcn', 'cct6a', 'exoc2', 'trim50', 'proser3', 'dlgap2', 'cacna2d3', 'ntsr2', 'psg2', 'sec24b', 'sort1', 'or1k1', 'vsig8', 'cdk11b', 'iws1', 'gatd1', 'wnt4', 'tspan18', 'gtpbp3', 'vps36', 'f2rl3', 'rsbn1', 'ap4m1', 'fam167b', 'cracr2b', 'syn1', 'atp6v1b2', 'rassf10', 'lrch4', 'htra4', 'ddi1', 'smarcd1', 'nuak1', 'ush1g', 'znf404', 'hadhb', 'traf4', 'vapb', 'ccdc66', 'znf576', 'ptpre', 'mpeg1', 'kntc1', 'atp6v1c1', 'urm1', 'znf782', 'diras2', 'mettl18', 'ltf', 'tnk1', 'wnt10b', 'pigb', 'ttc9c', 'trpm8', 'nnmt', 'cd163', 'aqp4', 'mtmr8', 'sox6', 'spty2d1os', 'cyp3a5', 'tnxb', 'c2orf15', 'dtx3l', 'rbm47', 'mertk', 'svip', 'kel', 'znf557', 'slc38a2', 'gpr4', 'znf707', 'tafa4', 'fibin', 'pelp1', 'snrpd1', 'hbb', 'aicda', 'or5d3p', 'kcne3', 'kbtbd13', 'rfc5', 'plac8', 'krtap4-1', 'znf562', 'itpkc', 'ctu1', 'hibch', 'mcc', 'slc7a7', 'polr2c', 'f10', 'tmem220', 'ramac', 'impa2', 'fam126b', 'krt85', 'entpd2', 'cnih1', 'lrrc10', 'shmt2', 'gata3', 'wdr59', 'fsd1', 'or2w1', 'tmem35b', 'hectd3', 'znf691', 'c1galt1c1l', 'ube2l6', 'acsbg2', 'tnfsf18', 'dnajc5b', 'znf75d', 'ubb', 'ect2', 'jhy', 'zc3h4', 'huwe1', 'il13ra2', 'prim2', 'rnf6', 'xirp2', 'lipa', 'gja8', 'cdc37', 'tm4sf1', 'cerkl', 'tmprss15', 'apobec1', 'cabyr', 'snx15', 'oma1', 'pstpip2', 'wdr53', 'tmc6', 'spem3', 'st6galnac2', 'aadacl3', 'znf852', 'irx4', 'kcnab3', 'cox15', 'ttc31', 'trerf1', 'dll1', 'slc30a6', 'ctf1', 'btnl3', 'lyrm2', 'lactb2', 'llph', 'mcf2l2', 'gfod2', 'fas', 'tpst2', 'csn1s1', 'grm5', 'poglut3', 'irf8', 'gtpbp1', 'gemin4', 'ccdc178', 'gsc2', 'slc2a10', 'kif17', 'cd180', 'acy3', 'map2k7', 'vps16', 'tubb6', 'efnb1', 'c2orf76', 'prrc2a', 'hmgb3', 'bcr', 'prkn', 'bet1', 'asxl3', 'fam3a', 'tmem31', 'c1qa', 'pdlim5', 'eef1a2', 'wdr48', 'clic1', 'ndufa13', 'lyn', 'tsg101', 'aoc3', 'ints6', 'catsperd', 'mboat1', 'ms4a1', 'st6galnac4', 'adarb1', 'ak6', 'spock1', 'prr14', 'rgs4', 'eif2b1', 'mal2', 'ikbip', 'edaradd', 'sts', 'smtnl1', 'or2aj1', 'mapk7', 'c10orf99', 'mapk8ip1', 'cdc6', 'pp2d1', 'il34', 'topaz1', 'hao1', 'hrh3', 'fap', 'slain2', 'tmem82', 'trit1', 'agpat4', 'tmem132a', 'or5m1', 'asap3', 'sec22a', 'morc4', 'ca13', 'cers4', 'aldh8a1', 'eef1akmt4', 'armcx3', 'ramp3', 'tm4sf20', 'grina', 'cpne2', 'gsx1', 'myb', 'icam4', 'sptbn1', 'usp30', 'gad1', 'lgmn', 'egln1', 'rgs22', 'arpc4', 'adgrg2', 'tmem214', 'gabrg3', 'hpgds', 'cdh15', 'klhdc7a', 'ulbp2', 'c7orf31', 'fam118a', 'efr3a', 'klhl24', 'asnsd1', 'kdr', 'or52b2', 'kpna5', 'trarg1', 'bmp2k', 'or2m5', 'c4orf36', 'ezh2', 'ccdc86', 'cald1', 'ccdc200', 'sbsn', 'cmip', 'sult1b1', 'c22orf15', 'ccl28', 'ypel3', 'rab10', 'slc9a3r2', 'lrp4', 'znf34', 'ccs', 'ccdc197', 'hspbp1', 'rnasek', 'dapk3', 'ctbp2', 'tlr8', 'ntn1', 'exoc6b', 'dapk2', 'prss57', 'muc7', 'ptpn3', 'scn1b', 'mmab', 'vps33b', 'c16orf74', 'znf256', 'cbr3', 'ubiad1', 'nectin4', 'adamts18', 'klhl15', 'tex37', 'herc4', 'glt8d2', 'pcdhb5', 'ltbp1', 'ncl', 'm1ap', 'ddx46', 'akain1', 'pias2', 'stxbp5l', 'ugt2b4', 'tafa3', 'elovl7', 'cspp1', 'znf493', 'banp', 'ftl', 'cysltr2', 'cntnap1', 'ugt1a5', 'cxorf66', 'cfap300', 'mybl1', 'mlh3', 'slc35d3', 'tmprss3', 'lcmt1', 'tmem243', 'marcol', 'tmem229a', 'znf709', 'otud4', 'upf3b', 'uba3', 'cog7', 'exosc10', 'amtn', 'htr1a', 'csnk1d', 'tnf', 'xpo1', 'sycp2l', 'bud13', 'slit1', 'abcc3', 'sc5d', 'ugt3a2', 'npvf', 'kat5', 'cdh10', 'dct', 'sec31b', 'ppil6', 'spns3', 'nfya', 'ptprt', 'slc13a2', 'gzmm', 'shc1', 'mgat4c', 'znf385d', 'pcif1', 'slc35f3', 'agap1', 'pcbp4', 'nom1', 'cpne3', 'ndufaf5', 'stmp1', 'ccdc198', 'serp1', 'inka2', 'plek', 'api5', 'tet3', 'ddx39b', 'lhx8', 'znf713', 'znf780a', 'serpinb9', 'lrrtm4', 'ttc1', 'ube3d', 'tpp2', 'atcay', 'dctn4', 'arfgef2', 'rhou', 'prame', 'trim6', 'etv6', 'irf6', 'epgn', 'rab26', 'psenen', 'bpifb2', 'rack1', 'dnajc24', 'kantr', 'mcm3ap', 'or14a16', 'fam241b', 'znf200', 'zc3h7b', 'rras', 'eif2ak2', 'lysmd3', 'adgrl2', 'galp', 'aurkb', 'knop1', 'eya3', 'eepd1', 'glrx3', 'ube2l3', 'spata20', 'dynap', 'znf777', 'cbx6', 'aurkc', 'clhc1', 'zcwpw2', 'pcf11', 'calcr', 'recql5', 'myo5a', 'fam110a', 'stat3', 'ptpn12', 'unc5c', 'smim38', 'znf516', 'bicral', 'ccr6', 'vps52', 'cpe', 'pom121', 'ap2a2', 'vps33a', 'znf808', 'elfn1', 'ifi44l', 'mlnr', 'znf827', 'hoxd8', 'faah', 'cyp26c1', 'atp6v0a2', 'efl1', 'psmg3', 'fam126a', 'abhd2', 'rabac1', 'pdgfb', 'slco1b3', 'galr2', 'usp7', 'myocd', 'bnip1', 'kat2a', 'mprip', 'ffar2', 'ston1', 'dnaaf2', 'ttbk1', 'sftpc', 'mia', 'kif5a', 'lnpep', 'naa38', 'sf3b4', 'rbm38', 'cd79b', 'lamtor4', 'adam21', 'sav1', 'ppia', 'jund', 'slc22a1', 'frg2c', 'hyou1', 'plscr3', 'fcsk', 'izumo1r', 'tma16', 'bcdin3d', 'or10h3', 'chrm2', 'slc25a10', 'cln8', 'hyal1', 'atg2a', 'lin7a', 'camkv', 'cuedc2', 'fgf1', 'rnf152', 'las1l', 'c5orf52', 'sugct', 'epha2', 'dhx57', 'nat2', 'iqcc', 'lrrc10b', 'ptx4', 'mtfr1', 'khdrbs3', 'stard9', 'fscn3', 'trmt5', 'tomm6', 'gamt', 'myh9', 'tra2a', 'bmp1', 'cisd3', 'sry', 'tcf19', 'lrrc55', 'pex13', 'scyl2', 'gzmh', 'nek6', 'fastkd3', 'pik3cd', 'c1orf112', 'ptk2', 'rnh1', 'arhgap12', 'gmfb', 'rnf125', 'cinp', 'parp10', 'ttc12', 'elf1', 'npbwr1', 'sumf1', 'pm20d2', 'mecp2', 'zer1', 'thap8', 'cend1', 'tlr9', 'sptan1', 'tecta', 'eva1c', 'znf189', 'gtpbp6', 'tbrg1', 'abhd18', 'efcab1', 'plcd3', 'csdc2', 'abhd12b', 'higd2b', 'timp4', 'mlkl', 'lgals8', 'gjb4', 'cyb5r1', 'e2f3', 'dhx36', 'blvrb', 'hmgb2', 'prpf3', 'med22', 'ubxn2a', 'znf76', 'nek3', 'cd74', 'b3gat2', 'rara', 'pnma8b', 'dcaf5', 'or1l8', 'ppm1d', 'rbmx', 'cbl', 'agk', 'cplx3', 'vps25', 'nfkbid', 'znf571', 'bex3', 'agap2', 'dram1', 'tspan19', 'or4k1', 'limk1', 'slc38a8', 'scamp1', 'pgk2', 'prdm13', 'ggn', 'phka1', 'aard', 'opcml', 'guca2b', 'cxcr2', 'psph', 'akap13', 'pclo', 'bcap29', 'sez6l2', 'plcl1', 'sgta', 'adgra1', 'plaa', 'olfml2a', 'fpr2', 'tacr3', 'adipor1', 'esrrg', 'clec17a', 'crtap', 'lrit2', 'nfam1', 'slc39a5', 'sppl2a', 'esyt2', 'gak', 'mthfr', 'c11orf16', 'napa', 'pam16', 'arhgap32', 'cklf', 'pard3', 'cep295', 'slc35d1', 'aqp12a', 'smim15', 'ska2', 'muc20', 'tssk4', 'ropn1l', 'kcp', 'atg101', 'hamp', 'glyctk', 'rragd', 'unc80', 'sar1b', 'fam83h', 'psmc5', 'gnpda1', 'cspg4', 'ipo5', 'tshz3', 'csad', 'paip2', 'larp1b', 'bnip3l', 'nicn1', 'sox9', 'lipc', 'znf112', 'nol6', 'reep6', 'cdc5l', 'ndufs3', 'ppdpf', 'mgam2', 'znf280a', 'rab38', 'ppara', 'nup153', 'ass1', 'nutm1', 'eif3a', 'picalm', 'hip1r', 'kdm4f', 'def8', 'galnt1', 'arhgef28', 'wdr43', 'auh', 'krtap1-1', 'ifit3', 'cdk11a', 'stac', 'obi1', 'nrxn3', 'med17', 'syt2', 'frem3', 'lenep', 'ftsj1', 'mpp7', 'cd47', 'htr2a', 'tcta', 'gimap5', 'prpf39', 'ace', 'znf286a', 'ccdc179', 'klk11', 'or51e2', 'ptms', 'naxd', 'milr1', 'rev1', 'sptssb', 'nup37', 'ube2e3', 'lrrtm1', 'sgsh', 'trim51', 'adam2', 'sgcg', 'ulk4', 'flt1', 'rundc3a', 'thrsp', 'st7l', 'pafah2', 'urgcp', 'nupr2', 'rabep1', 'slc24a3', 'kiaa1549', 'cpeb1', 'adgrf1', 'ppm1a', 'nlrp2b', 'avpr2', 'kpna2', 'atxn2l', 'tacc1', 'slc8b1', 'cebpb', 'wnt5a', 'arid3c', 'znf658', 'egr3', 'mxd4', 'plppr1', 'or4c6', 'gata5', 'spcs1', 'cramp1', 'pelo', 'abca8', 'gpn2', 'lmna', 'thrb', 'usp22', 'bhlhe41', 'gosr2', 'lce3d', 'rbm10', 'als2', 'iqub', 'sephs1', 'cnga4', 'large2', 'timm10b', 'plppr3', 'uggt1', 'hes2', 'mmd', 'klhl14', 'bche', 'hspb1', 'aprt', 'znf382', 'odam', 'adamtsl3', 'tekt5', 'mc5r', 'tdrd7', 'edn3', 'golt1b', 'cyp4x1', 'kcnj8', 'znf598', 'kctd5', 'znf700', 'fnbp1', 'mep1a', 'rbm17', 'aebp2', 'rpgr', 'or6q1', 'tada2a', 'klc3', 'bag6', 'xpo4', 'lrrc27', 'hdhd5', 'pcdhgc3', 'kdm5d', 'c9orf152', 'gipc3', 'igf2bp2', 'anxa10', 'adamtsl4', 'pcdhb2', 'card11', 'col9a3', 'defb136', 'lcor', 'ahsa1', 'tuba1b', 'gnb1l', 'cpn2', 'txn2', 'spaca6', 'ube2d1', 'nacad', 'gng11', 'pcyt1a', 'bend4', 'vps11', 'mab21l4', 'xylt2', 'pisd', 'hilpda', 'golga6l7', 'cfd', 'gjb3', 'tmem86b', 'polr2k', 'pdcd7', 'dmac2', 'grn', 'vps4b', 'nhej1', 'plekhj1', 'clptm1l', 'tmem161b', 'npas3', 'or10p1', 'rab27b', 'il2rg', 'syn2', 'serpinb7', 'siglec11', 'bag4', 'mfsd5', 'sgo2', 'meig1', 'acod1', 'pgap2', 'ccdc85a', 'mppe1', 'nbpf19', 'adcy10', 'slc29a2', 'matk', 'ucp1', 'ptges', 'fosl1', 'hnrnpdl', 'pygb', 'lama4', 'thap10', 'olfm2', 'cdh19', 'lrrc15', 'sh3bp1', 'kcnq2', 'trim5', 'lingo4', 'or4d10', 'endog', 'ccdc69', 'rbm46', 'cxcl13', 'spink4', 'glyatl3', 'mest', 'znf84', 'eif2s1', 'fam104a', 'cib1', 'vsx1', 'b3galt5', 'fbxo5', 'slc39a9', 'znf880', 'rmnd1', 'ptdss1', 'anxa1', 'fen1', 'c14orf180', 'raver2', 'nt5c1b', 'fkbp5', 'n4bp2l1', 'scgb1d2', 'pabpc1l', 'il12a', 'nmb', 'mau2', 'churc1', 'cst8', 'xbp1', 'col3a1', 'znf148', 'arhgap9', 'gatm', 'ntn3', 'ccr7', 'card14', 'pigm', 'hhipl2', 'hoxb3', 'cxcr6', 'fam110c', 'hlx', 'adgrf4', 'clu', 'pigo', 'znf792', 'rtf1', 'or13c4', 'mterf1', 'znf444', 'jag1', 'wfdc12', 'hsp90ab1', 'thoc5', 'tbc1d31', 'traf3ip2', 'ccdc65', 'poldip3', 'tex13c', 'fank1', 'mcub', 'tmem14b', 'cep164', 'osbp2', 'dera', 'kcnj3', 'fgf17', 'smg1', 'msra', 'zdhhc22', 'e2f4', 'art1', 'rexo1', 'znf470', 'nms', 'cfap100', 'zfp2', 's100z', 'rnf165', 'eri1', 'nob1', 'zfp69', 'otud1', 'cilp', 'znf440', 'tex50', 'chid1', 'lrrc28', 'sertad2', 'atrx', 'flnb', 'gfm2', 'sin3a', 'rgs18', 'zbtb6', 'pramef8', 'ptbp2', 'tmprss12', 'serpina11', 'id2', 'lta4h', 'znf799', 'slc15a5', 'btn1a1', 'mnat1', 'pacsin3', 'akap1', 'snca', 'eif4g3', 'ankdd1b', 'pou4f2', 'scgb2a2', 'ifna6', 'dgka', 'prpf31', 'tcl1a', 'krtap7-1', 'adamts8', 'flg2', 'irak1bp1', 'thap3', 'atp5pb', 'mms22l', 'rnf187', 'cav2', 'b4galt7', 'tespa1', 'tbx22', 'rc3h2', 'qtrt2', 'enpp3', 'sypl2', 'nfrkb', 'jpt1', 'kiss1r', 'oga', 'gys2', 'gbp3', 'ccdc157', 'baz2b', 'bmp6', 'mdfi', 'en2', 'c11orf91', 'ubn1', 'fhl2', 'atf5', 'cyp4a11', 'pdxp', 'slc7a6os', 'zbtb4', 'atp6v0d1', 'dusp3', 'hace1', 'mto1', 'serpinb1', 'ppp1r12a', 'stx10', 'gpat3', 'cp', 'clk3', 'sirpd', 'acyp1', 'entpd5', 'foxf1', 'tmem8b', 'prdm11', 'ccn1', 'fermt3', 'ifna1', 'hpd', 'cphxl', 'dclk3', 'slc35g2', 'sh3bp2', 'ptprm', 'atp2b3', 'tent5c', 'ift172', 'kxd1', 'canx', 'six2', 'arhgef4', 'znf628', 'cd40lg', 'sec14l4', 'tshz2', 'spag4', 'podnl1', 'ube2g2', 'mdp1', 'grp', 'ggt5', 'ninl', 'c12orf56', 'znf544', 'iqsec2', 'atxn10', 'gale', 'slc66a2', 'fmr1nb', 'rftn2', 'ccl7', 'fcrl2', 'pdk1', 'tmprss11d', 'gna15', 'slc10a3', 'zfand1', 'itpk1', 'dazap1', 'ica1l', 'polm', 'chmp1b', 'ncbp1', 'pi16', 'pcyox1l', 'tspan13', 'lrrc75b', 'b4galnt2', 'slc37a3', 'zkscan1', 'tbx2', 'oxsr1', 'fzd8', 'cgnl1', 'zbed9', 's100a14', 'or2t12', 'leprot', 'hacl1', 'rnf44', 'tbxas1', 'tm6sf1', 'alkbh3', 'r3hcc1', 'klhl22', 'apobec3g', 'pcdhb16', 'or6k2', 'fryl', 'krtap12-1', 'mphosph8', 'cdh23', 'zar1l', 'bin1', 'prdm7', 'sipa1', 'btg2', 'plxnb1', 'chac2', 'hcn4', 'lrrn3', 'gosr1', 'sptbn2', 'slc35f6', 'hdac8', 'clcn1', 'mark2', 'fbxo40', 'pkd1l3', 'nrn1l', 'or52a5', 'sipa1l1', 'c9orf72', 'chchd5', 'krtap4-4', 'or4k15', 'fam199x', 'ldhal6b', 'pnck', 'kcnq3', 'amfr', 'sfmbt1', 'prelp', 'kank3', 'fam102b', 'kctd4', 'rgs7bp', 'ap1g1', 'aen', 'necab2', 'e2f8', 'btbd16', 'd2hgdh', 'pcdhb6', 'nlrp6', 'atp5f1b', 'znf620', 'adh4', 'hccs', 'golga2', 'rerg', 'or56a4', 'c18orf32', 'lrrc49', 'mrtfb', 'trim36', 'timm9', 'pla2g2e', 'surf1', 'prrc2b', 'epb41l5', 'zscan29', 'c19orf73', 'wdr90', 'cldn16', 'ndfip1', 'tmem175', 'znf32', 'foxo1', 'psmb3', 'osgin2', 'fam81a', 'thumpd2', 'ca4', 'negr1', 'or2l5', 'hoxc13', 'stx19', 'pdgfrb', 'rrp15', 'folr2', 'klk15', 'peak3', 'gmfg', 'iqcn', 'ogfr', 'c1orf174', 'hes4', 'ankle2', 'tmem37', 'cdk12', 'otoa', 'ifitm2', 'atxn7l3b', 'vegfd', 'abi3', 'celf3', 'cga', 'slc39a11', 'sftpd', 'zfhx2', 'nox1', 'fam78a', 'fam155a', 'cd300lb', 'nkx6-2', 'stat5b', 'pyhin1', 'adap1', 'or2s2', 'septin5', 'plec', 'ucn2', 'znf408', 'rbm8a', 'tmc8', 'ddc', 'eloa2', 'evpl', 'or4d6', 'pex6', 'fam217a', 'cenpq', 'lysmd4', 'elavl4', 'fdxacb1', 'aspm', 'cpd', 'c11orf45', 'vnn3', 'zdhhc12', 'insrr', 'msantd2', 'denr', 'kcnrg', 'clic2', 'cchcr1', 'adamts4', 'pid1', 'snx1', 'alcam', 'anapc11', 'rem2', 'heca', 'relt', 'krt9', 'b3gnt9', 'soat2', 'cpb1', 'sass6', 'nsun4', 'ly96', 'btg1', 'tcf25', 'ppp1r9a', 'abi1', 'cyp7b1', 'rasal3', 'mcat', 'ct47b1', 'rpp30', 'sntg2', 'nup42', 'ppig', 'hhatl', 'sema3c', 'limd2', 'fgl2', 'cfap73', 'lbx1', 'maged1', 'pick1', 'cdh7', 'sox8', 'capn15', 'znf763', 'rptn', 'magea8', 'celf5', 'dolk', 'gmcl2', 'ces5a', 'pde3b', 'degs1', 'sinhcaf', 'spn', 'ssh1', 'gsk3a', 'il13ra1', 'hgsnat', 'ms4a2', 'maip1', 'fam8a1', 'tmem52', 'uhrf1bp1', 'lrrc18', 'muc21', 'dis3', 'bcl7c', 'mecr', 'znf519', 'plxnb2', 'pstk', 'rbks', 'or52e5', 'ofd1', 'cntn1', 'rhoq', 'plekhg5', 'rab28', 'tfap2c', 's100a4', 'neto1', 'faah2', 'b3gat3', 'sec61b', 'hdgf', 'rnf24', 'zdhhc20', 'slc4a11', 'syndig1', 'slc35a5', 'asrgl1', 'alx3', 'btnl8', 'prss58', 'vcpip1', 'plpp7', 'eri3', 'pde6b', 'sprn', 'aqp11', 'cers5', 'gimap4', 'or51f2', 'herc1', 'c15orf39', 'rev3l', 'cntnap4', 'scarf2', 'ino80c', 'eml4', 'mesp1', 'stk17a', 'ppip5k2', 'atp1b4', 'ndufb5', 'ankrd7', 'scmh1', 'trmo', 'phf20', 'sytl1', 'sccpdh', 'sox12', 'atxn1', 'trmt10c', 'naf1', 'camk2n1', 'pcdhgb7', 'nudcd1', 'p3h4', 'selenoi', 'lmtk2', 'rbm7', 'lpar1', 'c11orf24', 'cldn18', 'glyatl1b', 'hspa6', 'stxbp1', 'or2l13', 'crabp2', 'hspa4l', 'sbk2', 'l3mbtl4', 'wdr91', 'tbc1d10b', 'coq3', 'kif12', 'sorcs1', 'cdr2', 'tmem183a', 'abhd6', 'nup62cl', 'znf37a', 'ldlrad1', 'rdh13', 'ptprd', 'iars2', 'qki', 'zscan20', 'nedd1', 'ckap4', 'prdx2', 'ccm2l', 'bop1', 'spatc1', 'rpa2', 'ogfod1', 'or10k2', 'lrrc30', 'pign', 'ssuh2', 'dnajc5', 'wdr61', 'ap3d1', 'cast', 'cul2', 'gabrb3', 'il26', 'arl13a', 'zbed5', 'larp1', 'pcolce2', 'zgpat', 'mlst8', 'aqp7', 'gxylt2', 'odf3', 'aspa', 'c9orf153', 'krt6c', 'adamtsl5', 'ttf2', 'tor1aip1', 'aldh3b1', 'cmss1', 'znf92', 'rims2', 'potem', 'lrrc74b', 'syt12', 'ahnak', 'znf541', 'bicc1', 'map9', 'znf394', 'rsrp1', 'nkx2-6', 'nudt22', 'map1lc3a', 'arhgef5', 'shc3', 'hsf4', 'flt4', 'hsd17b11', 'ermn', 'nop10', 'c15orf40', 'p3r3urf', 'zfyve16', 'tbx5', 'hacd2', 'slc6a2', 'gdpd1', 'tial1', 'slc35g1', 'muc15', 'lrig1', 'spg7', 'ddx3y', 'fbxo8', 'zfyve1', 'proser1', 'isl1', 'chchd7', 'cstb', 'mgat5', 'syt4', 'krt8', 'gja1', 'pmpcb', 'mink1', 'slc7a4', 'pccb', 'sel1l3', 'tppp3', 'dsg3', 'mvb12b', 'ireb2', 'or2l3', 'ooep', 'arhgap30', 'klrc4', 'rbm27', 'ccdc107', 'gphn', 'atxn3', 'lrfn1', 'nphs1', 'carmil1', 'ly75', 'hk3', 'dync1h1', 'ccdc9', 'lmbr1l', 'srd5a3', 'fbxl20', 'hm13', 'tmem242', 'arid4b', 'aqp8', 'otulinl', 'prelid2', 'pkn3', 'snx27', 'cdk8', 'xkrx', 'or10a5', 'tut1', 'arid1b', 'gpr107', 'rab1b', 'hsd17b1', 'epb41l1', 'mmut', 'terb1', 'procr', 'prb1', 'arl2bp', 'tpr', 'sntg1', 'gpd1l', 'smim14', 'spry1', 'or4f4', 'nkpd1', 'cox14', 'slc16a13', 'tmem35a', 'taok1', 'pik3r1', 'aif1l', 'capza2', 'akt2', 'tmem244', 'gtf3a', 'trappc6b', 'or5b21', 'slc24a2', 'tas2r1', 'rag1', 'mas1l', 'zfand2a', 'c14orf132', 'rnf215', 'magea4', 'ccdc92', 'ppp1r11', 'lyplal1', 'rbis', 'ell', 'znf23', 'abhd10', 'pcdhb3', 'nptn', 'eif4e3', 'cntnap3', 'gnpat', 'nuf2', 'pde10a', 'cxcl16', 'or1l6', 'vac14', 'kdm6b', 'ndor1', 'bhmt2', 'rilpl2', 'necab3', 'cdhr4', 'atp5mc1', 'cacng8', 'fdft1', 'ppp1r1c', 'elovl5', 'tmem33', 'or8j3', 'eps8l2', 'decr1', 'fcgr1b', 'aatf', 'selenop', 'crp', 'pitx3', 'fbxl7', 'ccdc190', 'cyp27c1', 'zp2', 'cops2', 'rasal1', 'adprhl1', 'tmem170b', 'hapln3', 'rab27a', 'rnf10', 'wdr12', 'c1orf189', 'rbm48', 'dcaf8', 'supt20h', 'dip2a', 'fam166c', 'stpg2', 'zbtb8a', 'syn3', 'pdha1', 'adgrl3', 'or51a7', 'hoxc8', 'zfyve27', 'prpf8', 'cmtm1', 'znf284', 'apol1', 'usp27x', 'rag2', 'treml2', 'plrg1', 'dmtf1', 'asmt', 'krtap2-3', 'tspo', 'fibp', 'm6pr', 'fsd2', 'plekhm2', 'tc2n', 'tll1', 'bad', 'sirpa', 'pithd1', 'zp3', 'cope', 'catsper3', 'pla2g4c', 'mark4', 'gpc3', 'rab11b', 'atp6v0e1', 'deup1', 'naa40', 'arhgap42', 'nf2', 'zbtb12', 'il36rn', 'znf354a', 'itgb3bp', 'ncapd2', 'smc1a', 'pak1', 'palb2', 'stk33', 'deptor', 'chtop', 'prdm8', 'fgfbp1', 'wdr62', 'stra8', 'mvb12a', 'znf181', 'gabra1', 'sdr16c5', 'pmis2', 'shh', 'smim4', 'plscr1', 'mpz', 'pag1', 'snph', 'ubtf', 'nlrp7', 'als2cl', 'c22orf23', 'slc49a4', 'slc51a', 'ndufb4', 'or5h6', 'sun3', 'adal', 'cabin1', 'tenm3', 'alas2', 'thnsl2', 'mdh2', 'synpo2', 'mixl1', 'znf287', 'mogat3', 'tlr3', 'cdk6', 'lrch3', 'nsdhl', 'foxf2', 'gmcl1', 'atg3', 'ap2s1', 'yif1b', 'lrrk2', 'josd2', 'pip4p1', 'adamts20', 'hecw2', 'magee1', 'pnma6a', 'tbc1d23', 'c13orf46', 'nipal4', 'ankhd1', 'c1orf122', 'hk1', 'purb', 'znf182', 'tmem59', 'elmod3', 'tceal9', 'c12orf76', 'usp44', 'rbm41', 'glb1l', 'vil1', 'hvcn1', 'ormdl2', 'arc', 'amn1', 'mroh6', 'fech', 'phkb', 'st8sia5', 'crls1', 'or14c36', 'hpf1', 'znf682', 'fam20b', 'usp49', 'trim67', 'npap1', 'mosmo', 'ednrb', 'tubb2a', 'oprpn', 'or4c46', 'tmem165', 'g6pc3', 'slc5a10', 'dph1', 'veph1', 'erg', 'cyb5r3', 'ctdsp2', 'hnrnpl', 'mcrip2', 'znf358', 'evx1', 'nucb2', 'herc2', 'ptger4', 'dcdc2', 'txnrd1', 'pramef12', 'cpa2', 'col5a1', 'cox8a', 'emilin1', 'rsph1', 'krtap12-4', 'hoxa4', 'srsf4', 'phf21b', 'ablim1', 'gml', 'or2g2', 'c16orf89', 'ints2', 'tbl3', 'ankrd44', 'hpcal1', 'stx1a', 'gem', 'adap2', 'efna4', 'upk1a', 'magea11', 'paep', 'ambp', 'mpc2', 'timp2', 'atoh8', 'gnb2', 'pih1d2', 'dnah12', 'eif4g1', 'prkar2b', 'sowahb', 'abtb2', 'ric8b', 'mzt1', 'spef1', 'slc2a7', 'c3orf14', 'pprc1', 'ppp1r14d', 'eif2a', 'slc34a1', 'or13c3', 'pex5', 'cog1', 'cttnbp2nl', 'bsnd', 'cog6', 'dbh', 'ptrh2', 'celf4', 'or56a3', 'maco1', 'klf4', 'tnrc6c', 'agtrap', 'tpp1', 'septin6', 'ears2', 'cox6a1', 'amdhd1', 'nog', 'bcl10', 'or2y1', 'trip6', 'c10orf120', 'lrrc4c', 'psmd7', 'pemt', 'smim10l2b', 'hcfc1', 'fam189b', 'polr1b', 'znf513', 'fignl2', 'slc26a1', 'fam177a1', 'acss1', 'dnai1', 'pxmp2', 'nek9', 'adcy7', 'wdfy1', 'selenof', 'ttll7', 'serpina4', 'shcbp1', 'fastkd5', 'mtmr12', 'ppp2r1b', 'smg5', 'fmnl2', 'krt73', 'wdr81', 'atad3c', 'ptch2', 'fam240b', 'or52a1', 'lypd1', 'fam181a', 'csk', 'atp6v1c2', 'fam50b', 'ephx1', 'lrch2', 'sema4f', 'znf285', 'cfap70', 'amelx', 'gng4', 'dnm1l', 'stmn4', 'pde1b', 'rel', 'slc9b1', 'ncoa4', 'or10a7', 'rc3h1', 'tunar', 'ccdc22', 'cyb5r4', 'selenbp1', 'arid4a', 'pramef11', 'ccdc87', 'errfi1', 'gdf6', 'mtcl1', 'wwc3', 'ndufv3', 'det1', 'ascl3', 'cenpx', 'mapt', 'vit', 'timm17b', 'mreg', 'ehmt2', 'rab9b', 'iqcg', 'smad2', 'prpsap1', 'ankrd26', 'stk40', 'mtss2', 'b4galnt1', 'cma1', 'gnai3', 'figla', 'scrn3', 'cnot8', 'klhl40', 'dbx1', 'tp53rk', 'cadps2', 'zfy', 'tex10', 'flad1', 'akap7', 'frmpd3', 'scyl3', 'arih1', 'rhbdf2', 'or10z1', 'znf480', 'exoc8', 'znf780b', 'iqch', 'igfals', 'uqcr11', 'tp53i11', 'ccdc105', 'cxorf38', 'pik3ap1', 'znf605', 'mettl25', 'dusp19', 'me3', 'wdr49', 'wls', 'slc6a1', 'ecm1', 'znf711', 'vsx2', 'dag1', 'slc38a9', 'fn1', 'fads2', 'pramef10', 'lman2', 'rab36', 'fdcsp', 'slc37a4', 'krt74', 'gdpgp1', 'rbbp8nl', 'crocc', 'cys1', 'nup43', 'coq6', 'gchfr', 'c9orf116', 'hspb6', 'nlrp11', 'rangap1', 'nisch', 'slc38a1', 'ndufab1', 'hmox2', 'arsg', 'l1td1', 'dnajb5', 'notch1', 'tmem17', 'znf648', 'erlec1', 'wipi1', 'col11a1', 'pank2', 'prkx', 'recql4', 'grm3', 'dnase1l1', 'rcsd1', 'gpr37', 'surf6', 'eif6', 'gskip', 'reln', 'sertm1', 'ralgps2', 'tmigd1', 'actn4', 'mia3', 'mark1', 'fam237b', 'fndc8', 'samd10', 'otog', 'pkdcc', 'letm2', 'ccdc149', 'galnt3', 'lin54', 'wdr11', 'nmur1', 'st3gal4', 'scml2', 'ctse', 'tert', 'itln1', 'rtp3', 'mrap', 'fbxo44', 'misp', 'brd9', 'ftcd', 'topbp1', 'kbtbd11', 'kdf1', 'lyrm9', 'trpc5', 'itsn1', 'fabp2', 'mgll', 'plgrkt', 'cetp', 'ercc4', 'twist1', 'pde6d', 'slc16a12', 'il1rl1', 'ccdc81', 'gabarap', 'cln5', 'plat', 'nlrc5', 'or52e4', 'cpa1', 'adam7', 'anxa3', 'tprg1', 'crb1', 'zdhhc15', 'kcnj6', 'znf83', 'ints3', 'c9orf50', 'wasf1', 'fkbp14', 'bloc1s3', 'pate3', 'linc00672', 'jchain', 'pcnx1', 'higd2a', 'fahd1', 'alpk2', 'rpia', 'tmem120b', 'tspan33', 'septin8', 'apobec3d', 'smim3', 'kcnj2', 'vwa5b2', 'get3', 'tulp3', 'fgf4', 'nup93', 'glyat', 'capza1', 'myocos', 'rab40a', 'rspo1', 'cyhr1', 'rnf207', 'myh7b', 'batf3', 'nutm2a', 'tnfsf4', 'gnat1', 'trim27', 'c1orf109', 'map1s', 'tmed3', 'gsn', 'pcolce', 'rnf20', 'agpat3', 'tmem45a', 'uba7', 'lxn', 'ostn', 'rab20', 'nbeal2', 'aph1a', 'dzip1', 'c18orf21', 'mfap5', 'nek10', 'c4orf48', 'vsig10l2', 'ppard', 'mfn2', 'c12orf57', 'ifi27', 'map4k5', 'rcvrn', 'rtl4', 'c1qtnf6', 'fbp1', 'mapk14', 'ppdpfl', 'itpa', 'pdzk1ip1', 'c16orf72', 'camsap3', 'efcab8', 'crabp1', 'oaz3', 'samd14', 'rfc1', 'fto', 'csnk1g1', 'ttf1', 'fam181b', 'adgrb3', 'ube2j2', 'dnajc28', 'cd14', 'cr2', 'add3', 'tfr2', 'hint1', 'col14a1', 'creb5', 'ccdc60', 'znf764', 'nav1', 'eno1', 'pms2', 'ltbp2', 'mid1ip1', 'dnttip1', 'fbxw10', 'zbtb40', 'cacng2', 'cd72', 'robo4', 'zc3h12d', 'sft2d3', 'ptprb', 'wdr72', 'sorcs3', 'rab33b', 'dhrs1', 'dmkn', 'ubxn6', 'snip1', 'slc22a10', 'smim35', 'gucy1a1', 'ugt1a3', 'majin', 'adamts15', 'dbndd2', 'c4orf45', 'zcchc12', 'serac1', 'bzw2', 'tbc1d8', 'npw', 'lipn', 'tmco1', 'grpel2', 'map3k13', 'fpgs', 'jakmip2', 'six1', 'znf18', 'sh3kbp1', 'iqcm', 'phactr1', 'c7orf33', 'lancl3', 'trim49b', 'znf229', 'cbll2', 'alg6', 'xage3', 'cyp11b2', 'rbbp4', 'pcnx3', 'tsen2', 'c1ql1', 'pdlim3', 'cabp1', 'dop1b', 'cd200r1', 'or52d1', 'acads', 'tdrd9', 'gsx2', 'dock2', 'riox1', 'myo15b', 'znf750', 'cc2d2a', 'cxcl3', 'ppp3cc', 'klf1', 'faap20', 'trim45', 'slurp1', 'slc1a1', 'lmf1', 'myl9', 'pla2g4d', 'tex9', 'mzb1', 'slc39a8', 'mapk8ip3', 'fa2h', 'oosp3', 'ttll12', 'cltcl1', 'col26a1', 'cep70', 'tasor2', 'osbpl7', 'fgf2', 'gcgr', 'znf43', 'tmem45b', 'csrnp2', 'rfk', 'clpb', 'hdhd2', 'xpo5', 'ephb3', 'pdk3', 'urod', 'eya1', 'foxp3', 'xrra1', 'mmp10', 'pou2f1', 'cxorf58', 'fbxo34', 'mlxipl', 'ap3m1', 'klf9', 'zscan26', 'pwwp2a', 'trim3', 'lair1', 'asb14', 'or5k4', 'osbpl2', 'cytl1', 'yars2', 'slc6a8', 'runx3', 'tmem89', 'sf1', 'rap1gds1', 'satb2', 'uts2', 'vipr1', 'mrln', 'dll3', 'dock8', 'or5t1', 'kmt2d', 'armc5', 'gga3', 'slc25a16', 'g3bp2', 'znf622', 'hmgcll1', 'dhrs11', 'kcnc1', 'krtap26-1', 'lig4', 'rnase9', 'nanos1', 'alx1', 'dgat1', 'tbc1d9', 'klc1', 'myo1d', 'padi2', 'rab3c', 'c6orf132', 'tle2', 'abcb10', 'cnrip1', 'foxd4l6', 'top2b', 'glo1', 'adcy9', 'or1m1', 'hdac4', 'lhfpl2', 'mettl11b', 'hsd3b7', 'foxa3', 'bcl2l13', 'ints1', 'tpcn2', 'znf543', 'slc2a4rg', 'hook2', 'tmem121b', 'cd300c', 'mlh1', 'ube2k', 'rasgef1c', 'cuta', 'csde1', 'pacrg', 'nav2', 'irf2', 'bub3', 'il18bp', 'lrrc43', 'rnase3', 'tubb4b', 'nrm', 'cavin1', 'tnpo2', 'bcl2l2', 'jak3', 'smad5', 'nlrp2', 'eva1b', 'abcg4', 'sppl2c', 'btn2a2', 'rsph4a', 'ngb', 'ptpru', 'ppp1r18', 'p2rx3', 'fzd4', 'lonp1', 'flrt2', 'setd3', 'dvl1', 'sigmar1', 'vamp1', 'dhx35', 'dusp6', 'traf7', 'tmem178b', 'mt1m', 'ddx60', 'chad', 'c1orf56', 'gne', 'qrfpr', 'terf2ip', 'oprm1', 'rem1', 'med12l', 'ldhb', 'usp43', 'mcm10', 'vsig1', 'glis1', 'mpzl1', 'atf7ip', 'hdgfl3', 'fancd2', 'dcbld2', 'slc39a1', 'pcdh11x', 'daam2', 'lrriq3', 'ddx19b', 'acot11', 'uqcrq', 'pdk4', 'mlycd', 'ankrd66', 'ntpcr', 'tdrd15', 'dynll1', 'rxfp4', 'cntn5', 'kif6', 'tst', 'tmem108', 'shtn1', 'znf454', 'snx11', 'ppfia2', 'fos', 'siva1', 'cenpp', 'c8g', 'cds2', 'mgst2', 'rab44', 'setx', 'c5ar2', 'akr1c8p', 'yipf3', 'lztfl1', 'hdac9', 'hoxa10', 'sh2b3', 'ndufs5', 'znf667', 'vwa5a', 'mat2a', 'dsel', 'fam124b', 'srsf8', 'dchs1', 'c4orf3', 'serpinb12', 'mdfic2', 'noxa1', 'txnl4a', 'tti1', 'nnt', 'lingo2', 'lrrc47', 'dhrs9', 'clint1', 'znf239', 'meiob', 'spx', 'ccdc54', 'stmn3', 'col7a1', 'c10orf105', 'mapkapk5', 'slc16a9', 'avil', 'nit1', 'gripap1', 'tbx6', 'kbtbd2', 'mpzl3', 'nfia', 'zic5', 'rpgrip1', 'stat5a', 'mucl1', 'dgat2', 'chrnb3', 'pear1', 'prr12', 'ankrd34c', 'pax7', 'mmp1', 'smc1b', 'tagln2', 'fam24a', 'strn3', 'egr2', 'cep350', 'abca3', 'esr1', 'gsta4', 'vgf', 'c19orf67', 'il18r1', 'vangl1', 'khsrp', 'aak1', 'or4f15', 'heatr9', 'srarp', 'fcgr2b', 'tmem86a', 'sema3g', 'lpin2', 'tars2', 'gna13', 'plin5', 'ddx6', 'acadl', 'cgref1', 'gsdmb', 'pcdha9', 'igfbp7', 'p2ry12', 'wdr54', 'setd6', 'srpx2', 'il1rap', 'asb1', 'arhgef11', 'srpk3', 'prdm2', 'ly9', 'scfd2', 'nmnat1', 'abca13', 'faf1', 'cfap74', 'dmbt1', 'znf35', 'pcyt2', 'vwc2', 'asic1', 'olfm3', 'ciart', 'tbx19', 'marcks', 'uevld', 'dll4', 'amdhd2', 'phf12', 'hexb', 'med24', 'tmcc3', 'fndc11', 'xkr8', 'eif5', 'rgl1', 'scg2', 'nsd1', 'kif1c', 'mrtfa', 'cd1b', 'ahsg', 'mzf1', 'cul4a', 'zbtb7a', 'mica', 'cdnf', 'enpp7', 'nlrp8', 'cited2', 'saal1', 'gdpd3', 'bzw1', 'cdk5rap1', 'zbtb37', 'pbov1', 'marcksl1', 'znf704', 'depp1', 'tmem231', 'znf789', 'serpine2', 'fbxw8', 'tbc1d28', 'stk31', 'msl1', 'bend3', 'sez6l', 'nab2', 'slc6a4', 'fev', 'cxcl14', 'cd2bp2', 'rprd1a', 'arrdc5', 'zfc3h1', 'ap2b1', 'sash1', 'pla2g4b', 'znf14', 'ncapd3', 'znf124', 'frs3', 'phax', 'nckap1l', 'ctnnbl1', 'or14j1', 'cog4', 'cst4', 'pdss1', 'shroom2', 'samd7', 'sall1', 'lin7c', 'lbx2', 'xdh', 'abhd17c', 'sec24a', 'glyr1', 'vps4a', 'elac2', 'fam89a', 'azin1', 'ppp2ca', 'cd53', 'klhl38', 'pex3', 'mns1', 'il27', 'mpo', 'znf724', 'idh3b', 'clec9a', 'dlat', 'mettl2a', 'palld', 'gucy1b1', 'tmem68', 'mbtps1', 'tbcd', 'ube2q1', 'mobp', 'gstt4', 'etv3l', 'col12a1', 'snrnp25', 'olah', 'pheta2', 'pramef4', 'znf878', 'c21orf58', 'fgd1', 'atg9a', 'tmem222', 'ccdc96', 'lhx3', 'mtcp1', 'rpap2', 'steap3', 'krt35', 'nudt5', 'tnfsf8', 'tm2d3', 'slitrk6', 'asb3', 'hecw1', 'brpf3', 'resp18', 'ckmt2', 'abca1', 'acp2', 'cshl1', 'myh14', 'prpf4b', 'egln3', 'brf1', 'slc25a24', 'gramd4', 'slc10a1', 'wsb1', 'usp37', 'borcs5', 'cxcl17', 'alg3', 'ripk2', 'cfap58', 'vmo1', 'tspan8', 'znf512', 'flt3lg', 'cd68', 'asz1', 'fam120b', 'siglec12', 'eif4e2', 'pxdnl', 'banf1', 'tab1', 'trim8', 'aftph', 'echs1', 'pibf1', 'or10a2', 'snap25', 'tmem60', 'ace2', 'arhgdib', 'zscan31', 'il36g', 'tmem104', 'rora', 'csf3', 'mettl7b', 'pdia5', 'cd7', 'atxn7l3', 'haus4', 'eif4a1', 'usp2', 'plekhg4', 'vps39', 'stxbp4', 'cyp4f12', 'txndc16', 'gli4', 'mpnd', 'sycp1', 'ccdc24', 'slc22a23', 'mfsd4b', 'tmem11', 'prss45p', 'kcnj5', 'tmem62', 'thoc1', 'apobec3c', 'ctage1', 'hnrnpll', 'tapbp', 'tmem205', 'pabpn1l', 'zscan12', 'parl', 'ankrd40', 'sorbs3', 'casp7', 'thbs2', 'dpy19l4', 'znf33b', 'polr2a', 'sfrp2', 'phf5a', 'dytn', 'vps13a', 'rhpn2', 'hmox1', 'tcp11x1', 'cfhr3', 'ptcd1', 'afap1l1', 'slitrk3', 'smpdl3a', 'clec4e', 'spem2', 'hsp90b1', 'mansc1', 'sh3gl1', 'eno4', 'dpep2nb', 'ms4a6e', 'abhd14b', 'mynn', 'p2rx4', 'kcnk2', 'c10orf88', 'plb1', 'znf778', 'impact', 'prr32', 'crlf2', 'exd2', 'plscr5', 'adamtsl1', 'utp20', 'cdcp1', 'tm2d2', 'prkd1', 'p2ry6', 'or6j1', 'erbb4', 'fndc10', 'zcchc13', 'gatb', 'intu', 'lrrc3c', 'pard6a', 'ankrd65', 'znf573', 'serinc2', 'troap', 'mab21l3', 'tceal4', 'agxt2', 'hsbp1l1', 'gucy2c', 'mageb4', 'axin2', 'natd1', 'dsc3', 'hsd17b14', 'crh', 'mllt3', 'hcar3', 'numbl', 'chkb', 'znf672', 'krcc1', 'man2b2', 'slc20a2', 'sde2', 'etfdh', 'pkp2', 'onecut3', 'fancf', 'dcaf15', 'or10h2', 'kpna1', 'gins1', 'shroom1', 'coq10a', 'cep170b', 'cdk2ap2', 'znf679', 'med16', 'lhx6', 'tlr1', 'sardh', 'rhcg', 'gapt', 'tyw3', 'mcee', 'slc17a2', 'slc25a13', 'mslnl', 'znf773', 'gzmb', 'zyg11a', 'lrig2', 'unc50', 'hand1', 'nsun5', 'piezo2', 'ncoa3', 'mtmr3', 'tbc1d7', 'cby1', 'faxc', 'nhlh1', 'rd3', 'sdha', 'maz', 'tmprss7', 'fam180a', 'c8orf88', 'brca1', 'sfxn1', 'cideb', 'fam53a', 'or7g3', 'ebp', 'kir3dl3', 'rgr', 'mrs2', 'anapc4', 'fabp7', 'hpn', 'khdc1', 'kirrel2', 'pheta1', 'sirt2', 'ctps2', 'kiaa1143', 'mmp15', 'slc45a4', 'cnpy4', 'meltf', 'clec10a', 'gjc1', 'txnl4b', 'eif4e1b', 'c2orf80', 'ankdd1a', 'mboat4', 'bend5', 'ccp110', 'itgbl1', 'fam114a1', 'sh2d1a', 'zc3h12c', 'cdc20b', 'piwil4', 'ammecr1l', 'myh2', 'ssh2', 'polg2', 'snrpb', 'ostf1', 'dgcr8', 'insr', 'dtymk', 'gtf2f1', 'qrsl1', 'nkg7', 'fmo3', 'arhgef26', 'tdrkh', 'cntrl', 'ppp1r2c', 'fam90a1', 'xcr1', 'etnppl', 'fam111b', 'zbtb7b', 'rnf157', 'rilpl1', 'rbbp6', 'dtna', 'stox2', 'nlrc3', 'synrg', 'hnf1b', 'myh15', 'trip4', 'gpr160', 'brinp1', 'trpm1', 'esx1', 'slamf1', 'ppp1r3g', 'uqcrfs1', 'tenm2', 'krtdap', 'nol7', 'adh7', 'krtap20-4', 'klhdc7b', 'cyp11b1', 'pla2g1b', 'cacna1h', 'otos', 'or52j3', 'gpc1', 'gopc', 'hgh1', 'kpna3', 'ufd1', 'grb14', 'lamp1', 'chrna9', 'ctnnb1', 'tnni3', 'nif3l1', 'brinp3', 'ss18l1', 'diaph2', 'ywhah', 'cnmd', 'zg16', 'trub2', 'rab6c', 'tjap1', 'pip5kl1', 'f12', 'fabp1', 'mxd3', 'tmem132c', 'taf11l4', 'cul4b', 'dscc1', 'ocstamp', 'tprx1', 'bst2', 'fzd7', 'lrrc24', 'zbtb44', 'prss37', 'naa60', 'dffb', 'tas2r40', 'fdx2', 'ephx3', 'mpp5', 'trim4', 'nps', 'ush1c', 'sun5', 'msgn1', 'fbh1', 'kansl1', 'fgb', 'kif26a', 'plekhg3', 'gadd45g', 'trim63', 'atp2a1', 'ttc38', 'sbno1', 'esrrb', 'gpr62', 'c2orf78', 'chd7', 'tex55', 'tafa2', 'ctbs', 'mb', 'cstf1', 'or4x2', 'exosc8', 'znf461', 'scart1', 'rarb', 'rad52', 'slc39a2', 'id3', 'krtap13-1', 'tfap2b', 'stx3', 'ufm1', 'or4q3', 'bod1l2', 'ubqln3', 'hps1', 'ccr3', 'cdh24', 'slc28a2', 'mecom', 'fam71f1', 'thap1', 'rprm', 'cdc14a', 'znf283', 'gpm6a', 'gpc2', 'luzp1', 'arl10', 'or5v1', 'skor1', 'cdc42ep1', 'gc', 'slc22a6', 'srgap1', 'lrp2bp', 'mycbp2', 'fam133b', 'nlrp1', 'blk', 'mogs', 'ndufaf6', 'tmem263', 'ezr', 'samd3', 'plce1', 'tmem47', 'ift140', 'atp5f1a', 'ervmer34-1', 'tomm70', 'ubxn2b', 'aggf1', 'pcp4l1', 'sim1', 'znf16', 'trappc4', 'sele', 'tnip1', 'prkag2', 'dpysl4', 'mydgf', 'pmch', 'marveld2', 'uvssa', 'slc4a4', 'c2cd4b', 'tssk3', 'dpy30', 'ttc30b', 'ggt6', 'wfikkn1', 'tdrd12', 'fancl', 'polr2h', 'slc25a6', 'pcdhga12', 'krtap5-2', 'hmx1', 'ppp1r15a', 'vwde', 'erich6', 'gvqw3', 'lce1d', 'gfi1b', 'znf471', 'desi1', 'rdh16', 'fer1l5', 'fbxo46', 'tgm3', 'ovol1', 'grik4', 'gpr171', 'inpp5j', 'pydc2', 'slc4a10', 'tac3', 'plekhh1', 'gpr143', 'krtap9-9', 'tex52', 'cacng1', 'itpripl1', 'trim58', 'rabepk', 'tmem185a', 'hipk1', 'ctcfl', 'htr1e', 'hyls1', 'glipr1l2', 'ino80b', 'zdhhc1', 'adck5', 'lpcat4', 'cd34', 'adamts19', 'tmem248', 'glt6d1', 'psmd11', 'smim36', 'or7a17', 'lpxn', 'sdcbp', 'ankrd18a', 'glrx2', 'ccno', 'eid1', 'ceacam1', 'b4galt1', 'prph', 'cpa3', 'cd164l2', 'pgam1', 'dnaaf3', 'taf15', 'arpc5l', 'morc2', 'cgas', 'chrna2', 'pgm2l1', 'tnfrsf1a', 'cmklr1', 'polr3f', 'nsun3', 'slc25a37', 'slc37a2', 'znf567', 'tecrl', 'rom1', 'cfap157', 'cyb5a', 'wdfy3', 'serpinb8', 'erp27', 'pcdhgb2', 'cdc20', 'ube2e1', 'eya2', 'plekha8', 'ctsb', 'slc16a14', 'gjb2', 'cyp4f11', 'pcdh15', 'gfi1', 'psg5', 'mt1h', 'fgf11', 'ms4a4e', 'nanognb', 'slc22a13', 'gnao1', 'sohlh1', 'cmtm5', 'muc4', 'dcp2', 'klhl35', 'or1e1', 'ankrd45', 'echdc1', 'rrp9', 'c12orf4', 'sbds', 'lamb1', 'rtkn', 'klf3', 'ube2u', 'gabbr1', 'sap30', 'clec6a', 'ubash3b', 'thsd7b', 'fbll1', 'lrig3', 'togaram1', 'acaa2', 'ramacl', 'adgrg1', 'prdm10', 'ccdc177', 'helt', 'arl6ip6', 'ndufs4', 'chmp3', 'fxn', 'exph5', 'c5orf47', 'sirt3', 'lgals16', 'slc3a2', 'pptc7', 'shisa5', 'sestd1', 'egfl7', 'tap1', 'nedd4', 'prrg3', 'dnajb2', 'cyp39a1', 'omd', 'rsf1', 'cdh8', 'adra1b', 'sec16b', 'prkaa1', 'dctn3', 'lpgat1', 'erlin1', 'nr0b2', 'igsf11', 'dgkg', 'sv2b', 'ube2n', 'mybbp1a', 'ceacam7', 'f13b', 'c17orf67', 'wars2', 'wnt2', 'ptgds', 'prr7', 'orc6', 'ero1b', 'leap2', 'lpar5', 'slc2a2', 'stk38l', 'angpt4', 'fbf1', 'nme8', 'tceal5', 'luzp2', 'sgpl1', 'cplx4', 'max', 'anxa2', 'atg12', 'hoxb6', 'naalad2', 'coa8', 'ppp6r1', 'clic4', 'itpkb', 'sapcd1', 'asap2', 'gabbr2', 'stk36', 'hax1', 'fam205a', 'tmem63a', 'pcdhgb6', 'gcnt4', 'arrb1', 'etv4', 'or10t2', 'ifna16', 'zmat5', 'rfx8', 'wnt11', 'serpina7', 'smap2', 'tle3', 'pax6', 'sult1a2', 'mx2', 'slc47a1', 'stard6', 'gpr183', 'cpsf4l', 'mapre1', 'slc35g3', 'piezo1', 'ccdc77', 'nfic', 'apmap', 'rbm12', 'plekho2', 'sth', 'vcl', 'nckipsd', 'znf526', 'nos2', 'c9orf40', 'zswim2', 'cd55', 'selenok', 'mindy1', 'cnot2', 'arl6ip4', 'glul', 'fam228b', 'c10orf143', 'dlgap1', 'nipal1', 'arrdc3', 'knstrn', 'tbc1d17', 'zfp62', 'spaca7', 'snta1', 'epx', 'mrto4', 'e2f1', 'sf3b5', 'tnfsf13b', 'dhx33', 'crk', 'samd13', 'znf501', 'ddx10', 'actr5', 'mad1l1', 'wfdc10b', 'spin3', 'gucd1', 'slc16a4', 'aldh7a1', 'lrrc52', 'il15', 'lurap1l', 'slc46a2', 'mocs3', 'cdc37l1', 'cacng6', 'spns1', 'kiaa0513', 'tgfa', 'aacs', 'slc35f1', 'ciao2a', 'osbpl9', 'lypd6', 'itpr1', 'arcn1', 'znf415', 'hdlbp', 'scnn1d', 'abca5', 'syce1', 'lars2', 'man2a2', 'eif2b4', 'sacs', 'znf213', 'maf1', 'spata19', 'aimp2', 'psmb2', 'mybph', 'tgds', 'aars2', 'mybl2', 'ccdc51', 'kcnq1', 'wdr33', 'prcp', 'or1q1', 'klhdc1', 'foxd4', 'dgkz', 'sprr2e', 'timm22', 'mnd1', 'arl5a', 'kiaa0232', 'pkd1l1', 'yme1l1', 'chordc1', 'sult1c2', 'tmpo', 'tmem38a', 'klhl13', 'ctcf', 'eif4a2', 'frmd4a', 'vcpkmt', 'znf473', 'golga8r', 'mras', 'osgin1', 'gsg1l', 'capns2', 'elovl2', 'flcn', 'acvr2a', 'slc18a3', 'usp48', 'shisal2a', 'reg3g', 'kansl2', 'mtx1', 'krt2', 'cbfb', 'btg3', 'frmpd1', 'hoxc11', 'afap1l2', 'btbd10', 'gbp2', 'saysd1', 'aloxe3', 'micb', 'ccdc68', 'tmem265', 'ceacam19', 'rgs10', 'zmynd19', 'magef1', 'pank4', 'cmtr1', 'aldh16a1', 'fam131b', 'taf11l13', 'ndufa9', 'fyb1', 'fbln5', 'coq2', 'catsper2', 'tnfrsf21', 'cnksr2', 'clec1a', 'btn2a1', 'ndufb1', 'gfod1', 'tbc1d16', 'or5l1', 'anxa13', 'vps37a', 'ing3', 'acsm2a', 'apoe', 'pnma8c', 'tfdp3', 'zfr', 'nanos3', 'rrp36', 'stx7', 'adat2', 'prcd', 'laptm4b', 'ice2', 'pxdn', 'rai14', 'wdr18', 'snrpd3', 'rinl', 'ednra', 'pafah1b1', 'c3orf49', 'zcrb1', 'arhgap15', 'rbms3', 'slc6a19', 'dazap2', 'thsd7a', 'vps18', 'lpcat2', 'psrc1', 'sell', 'arsk', 'phf14', 'tsga13', 'fam227b', 'nr1h2', 'opn3', 'lzts2', 'donson', 'hars2', 'dcp1a', 'gpr155', 'trappc11', 'mbd2', 'mllt6', 'fam170b', 'ripor3', 'rnf7', 'npr3', 'ifng', 'sarm1', 'ccdc112', 'abhd17b', 'sun2', 'eif1ad', 'thoc7', 'znf300', 'wnt2b', 'ivns1abp', 'tmod4', 'dhtkd1', 'lsm8', 'gli3', 'kcnj18', 'mark3', 'prr36', 'foxn4', 'arhgef6', 'znf141', 'dlg5', 'elp4', 'c20orf27', 'elk1', 'cd69', 'rprml', 'tmem212', 'letm1', 'zfhx4', 'ptprk', 'ndst1', 'clec2a', 'st6gal2', 'blmh', 'crym', 'znf569', 'eloa', 'dlgap3', 'lamb3', 'tmppe', 'zfyve26', 'haus1', 'abca12', 'c11orf87', 'pgghg', 'tsen34', 'oosp4b', 'arl3', 'spryd4', 'fgfr4', 'ext1', 'brd7', 'mtmr10', 'zmym6', 'map2k5', 'jdp2', 'dicer1', 'p2rx2', 'c20orf96', 'efhc2', 'gng14', 'usp54', 'blacat1', 'mt-co3', 'reps2', 'serpina1', 'gnly', 'fcrl6', 'znf850', 'or14k1', 'slc35a3', 'akt3', 'mllt1', 'prps2', 'klhl23', 'znf582', 'mdga2', 'cyp4f3', 'mapk3', 'clcn5', 'lamc2', 'lactbl1', 'pecr', 'ifi44', 'sox30', 'zic3', 'sh3d19', 'fcamr', 'gria1', 'pnrc1', 'fcgr3a', 'dkk2', 'st6galnac5', 'ryk', 'man1a1', 'creb3', 'or4s2', 'arnt2', 'alg1', 'fam216b', 'rbmxl1', 'rbl2', 'znf665', 'or5k1', 'cyp4b1', 'atxn3l', 'golga6l2', 'or10ad1', 'isl2', 'ubfd1', 'noxred1', 'cpxm2', 'tlr6', 'prap1', 'dok7', 'jade1', 'pkhd1', 'plekhg4b', 'faf2', 'dennd4c', 'gngt2', 'psca', 'garem2', 'sema3f', 'krt82', 'or2b2', 'med15', 'atf1', 'taf1b', 'cst7', 'csrp3', 'rad17', 'lrrc25', 'acsm3', 'asmtl', 'clca4', 'lef1', 'zbed2', 'rpp21', 'orai2', 'rpp25', 'ctsa', 'evi2b', 'mtm1', 'serpinf2', 'adamts7', 'tmem163', 'hhip', 'atp1a4', 'mss51', 'page3', 'inafm1', 'nxf1', 'fam174a', 'gzf1', 'pde6c', 'tatdn1', 'rfx3', 'clrn2', 'ecd', 'kcnk18', 'mvd', 'utp23', 'cntrob', 'per2', 'adam15', 'msl2', 'inmt', 'zw10', 'ly6g6e', 'lmo7', 'ifitm1', 'gdpd5', 'apoa4', 'ces1', 'vkorc1', 'krt33b', 'gon4l', 'mphosph10', 'elmo1', 'acsl5', 'ywhab', 'mier3', 'ano5', 'nlrx1', 'tm7sf3', 'akap6', 'atoh1', 'npc2', 'nol10', 'gpt', 'krtap5-5', 'dgkd', 's100a7a', 'cela3a', 'adipoq', 'ccl2', 'krtap29-1', 'araf', 'or2b11', 'smco4', 'myom3', 'mettl17', 'vat1', 'lypd4', 'klk2', 'ndnf', 'myo9a', 'rfc2', 'pga5', 'adam22', 'esd', 'ccl3l1', 'il5', 'bicdl2', 'wdr36', 'terb2', 'tnnt3', 'gas6', 'atp6v0a4', 'xpo6', 'aplp1', 'vps54', 'vps9d1', 'or1n2', 'madcam1', 'fam43a', 'nt5c2', 'alpp', 'lilra2', 'gabpa', 'pfdn4', 'rab23', 'trim10', 'mageb1', 'anxa7', 'ipo9', 'eif4ebp3', 'prune1', 'sp100', 'nkx2-3', 'gnai1', 'acaca', 'rln3', 'dhrs7', 'snx24', 'pde12', 'tinag', 'dnajb6', 'atf6b', 'tex261', 'defb114', 'ppp1r16b', 'ubl7', 'atp2b1', 'ptpn22', 'cox7b2', 'erc2', 'xkr6', 'tor4a', 'nxph4', 'b4galnt4', 'ttc17', 'cenpu', 'olig1', 'msmb', 'etv5', 'rnf220', 'or52l1', 'c11orf68', 'znf888', 'zbbx', 'trat1', 'col22a1', 'hs3st6', 'gabrr1', 'mc4r', 'slc12a8', 'pitpnb', 'traip', 'mpp1', 'fgf13', 'scarb2', 'nrip1', 'krt36', 'or12d3', 'commd6', 'ttc13', 'ccdc169', 'snx5', 'haspin', 'rec114', 'sos2', 'gria2', 'rnaseh2a', 'ndufa10', 'rac3', 'anapc1', 'pcdh17', 'cbx2', 'mypop', 'tmsb4y', 'ppp2r5b', 'ostm1', 'gnrh2', 'ankrd9', 'ccnd3', 'atp5f1c', 'med13l', 'ccdc71', 'tes', 'gemin6', 'rcor3', 'folr3', 'smc4', 'zmiz1', 'kcng1', 'dnah5', 'mpped1', 's1pr3', 'c19orf25', 'impa1', 'tsnare1', 'pcdha2', 'cdc40', 'rbak', 'cav1', 'akr1b1', 'lcat', 'hbs1l', 'lamp5', 'pla2g6', 'tmlhe', 'rars2', 'chst13', 'lratd2', 'acox2', 'mtf1', 'tbc1d22a', 'plpp3', 'defb134', 'rfxap', 'tcf4', 'ephb6', 'ceacam6', 'nasp', 'syk', 'il16', 'pacc1', 'znf626', 'cipc', 'zbed3', 'c9orf135', 'cenpw', 'frg2', 'elmod1', 'c12orf73', 'or2z1', 'drd3', 'yju2', 'pard6g', 'prlr', 'ehf', 'hspa9', 'tln2', 'guca1b', 'vgll2', 'ccdc188', 'dcdc2c', 'morc1', 'mbl2', 'farp1', 'nipa1', 'gabra4', 'znf185', 'krt24', 'cwc25', 'kcne2', 'akirin2', 'fkbp3', 'pfn2', 'pom121c', 'adra2a', 'tnrc6b', 'stard3', 'nprl2', 'cdc42bpb', 'vill', 'ap1s1', 'znf267', 'tut7', 'or13c2', 'ubqln4', 'neurl4', 'eif1ax', 'ccl22', 'rgsl1', 'adprh', 'cabp4', 'ifngr2', 'tnfaip8l3', 'slain1', 'atpaf1', 'fam71c', 'pou4f1', 'tlr10', 'or8k3', 'pck2', 'pop4', 'rgs13', 'grhl3', 'scara5', 'csf1', 'minpp1', 'snx13', 'ublcp1', 'chst10', 'tmem26', 'nts', 'nim1k', 'taf11', 'dnajc12', 'nrbp2', 'pof1b', 'sugt1', 'ttll9', 'prrc2c', 'f13a1', 'usp47', 'tarbp2', 'tapt1', 'ccdc172', 'qtrt1', 'asprv1', 'st8sia6', 'p2ry13', 'srms', 'spin2b', 'cartpt', 'tram1l1', 'rnf216', 'got2', 'oxa1l', 'pla2r1', 'shox', 'f2r', 'pcdha13', 'tmem209', 'rcor2', 'gal3st4', 'atp6v1h', 'or10g4', 'fem1b', 'gcg', 'c2cd2', 'ptprj', 'ppp3ca', 'xg', 'slc10a5', 'actg2', 'prkag3', 'nkx3-1', 'dsg2', 'kifc3', 'inpp5d', 'znf12', 'eif1ay', 'tmem121', 'grm2', 'nr5a1', 'ctxn1', 'hacd3', 'zscan21', 'znf638', 'fkbp6', 'capn2', 'itgb5', 'kcnk13', 'fam47b', 'gria4', 'pdp1', 'tmem251', 'mfsd4a', 'rnase2', 'vapa', 'pex14', 'bfar', 'mbd1', 'csta', 'ch25h', 'snrpf', 'prr15l', 'mtus1', 'slc25a11', 'vwc2l', 'znf805', 'wipf2', 'znf311', 'crb2', 'lsg1', 'znf69', 'ppp4r3c', 'serbp1', 'wfdc9', 'abi2', 'nsa2', 'lrif1', 'fam111a', 'nek2', 'cd226', 'naxe', 's1pr1', 'gpr162', 'znf324b', 'pcgf2', 'c22orf42', 'ache', 'slc39a10', 'med6', 'nt5c', 'serpine3', 'elmo2', 'mc3r', 'ankrd52', 'adprm', 'gigyf1', 'lgals12', 'ctrb2', 'acadsb', 'tex26', 'armt1', 'prdm16', 'abat', 'ccni', 'zcchc8', 'napsa', 'gas1', 'slc25a22', 'ctla4', 'osbpl5', 'sorl1', 'ggt1', 'ikbkg', 'slfn11', 'slc17a9', 'fbln2', 'son', 'jarid2', 'adcy1', 'fut8', 'nt5m', 'il7', 'mmp7', 'znf831', 'mdk', 'znf367', 'zc3h12b', 'slc13a5', 'zeb2', 'mthfd1', 'c7orf61', 'znf207', 'knl1', 'nudt17', 'mki67', 'lrrc36', 'ccz1', 'anxa6', 'obp2b', 'unc79', 'efcab3', 'gcnt2', 'tek', 'zdhhc23', 'klhdc3', 'dnajc4', 'ccr2', 'alox12', 'cux2', 'tas2r38', 'tnks1bp1', 'pdcl', 'clec2b', 'tprg1l', 'slitrk5', 'fam189a2', 'krtap15-1', 'slc20a1', 'muc19', 'traf1', 'a2m', 'fip1l1', 'gli2', 'azu1', 'wee1', 'blid', 'zc3h14', 'mt-nd4l', 'prmt9', 'srprb', 'plag1', 'clstn3', 'crip2', 'trim68', 'dnmt3l', 'krtap10-1', 'lrrc17', 'cisd2', 'rsad1', 'pepd', 'c20orf194', 'iffo1', 'nr6a1', 'alkbh2', 'hck', 'fpgt', 'fezf1', 'lsm14b', 'gabra2', 'scel', 'ttn', 'ralgapa1', 'cyth2', 'ido1', 'myo16', 'ppp2r5e', 'supt6h', 'ccdc171', 'angptl8', 'c6orf226', 'cpsf7', 'ethe1', 'tsks', 'rhob', 'kctd15', 'arpc5', 'pacrgl', 'unc5a', 'tekt1', 'bdh1', 'rnf32', 'ripor2', 'thop1', 'hsfx4', 'msn', 'rap2b', 'ube2d3', 'pagr1', 'eif3i', 'ttc33', 'myof', 'ccr1', 'trappc13', 'anapc2', 'dock7', 'cdca3', 'hspa8', 'rcn3', 'slc29a3', 'tnfaip8l2', 'ywhaz', 'aldob', 'zbtb24', 'haus5', 'smg7', 'ankrd29', 'clec4g', 'lce2b', 'or6x1', 'ripply1', 'nmnat3', 'trpc7', 'r3hcc1l', 'mbd3l1', 'fcn2', 'defb108b', 'scn2b', 'xkr9', 'znf219', 'itih5', 'frmpd4', 'uty', 'drosha', 'stxbp2', 'acad9', 'mpdu1', 'cyp3a43', 'lamb4', 'spata16', 'pramef13', 'nudt18', 'tmem161a', 'ctxn3', 'ppp1r36', 'e2f5', 'or6n1', 'bbs12', 'fcho2', 'ptger1', 'cacnb2', 'nat16', 'ndrg1', 'gramd1a', 'mt-nd3', 'c3orf20', 'pbx2', 'smad1', 'smyd1', 'mtpn', 'col6a1', 'nlgn4y', 'c9', 'arhgap27', 'mblac2', 'scn8a', 'wdr45', 'pop1', 'ankrd13a', 'msh2', 'rnf144a', 'znf549', 'hsd3b1', 'eif3l', 'arsa', 'osgep', 'shcbp1l', 'ssrp1', 'c16orf46', 'rab11fip4', 'tmem138', 'brms1', 'klhl26', 'gimap2', 'slc6a17', 'mtr', 'znf460', 'hmhb1', 'or13c9', 'ddx31', 'klrk1', 'phgr1', 'rnf167', 'fst', 'trpm4', 'irx1', 'gtf2e2', 'hexim1', 'rtel1', 'diaph1', 'ctxnd2', 'prr18', 'sfxn3', 'or5t2', 'chrnb4', 'fhod1', 'rab5c', 'rtf2', 'patz1', 'acbd7', 'plaat5', 'mettl4', 'ppp6r2', 'srfbp1', 'dut', 'znf614', 'rmc1', 'nagpa', 'pkm', 'c7orf57', 'cirbp', 'ripply2', 'tmprss11f', 'smarcc1', 'sit1', 'lmo3', 'lag3', 'atp2b4', 'fam120aos', 'pdc', 'aspg', 'tnfaip8l1', 'snrpg', 'acss3', 'spata6', 'rnaseh1', 'lcmt2', 'psmg2', 'rgs8', 'src', 'nhlrc3', 'cep19', 'frmd7', 'tmem184a', 'chrna4', 'clps', 'camkk1', 'fxyd7', 'fgf9', 'lztr1', 'or5k3', 'zfp91', 'plcb4', 'pdik1l', 'plppr4', 'ubxn7', 'gypc', 'cd3d', 'c11orf53', 'ndufa1', 'copz1', 'oca2', 'znrf1', 'zmiz2', 'npc1', 'trmu', 'zik1', 'cbx3', 'lsm10', 'tm2d1', 'map3k5', 'noa1', 'tbp', 'wdr86', 'bhlha9', 'klk4', 'slc5a5', 'cdca7', 'ccnyl1', 'rbm23', 'rmnd5b', 'rims4', 'gad2', 'spag17', 'steap2', 'eif2s3', 'esrra', 'stat4', 'lgsn', 'gnb4', 'tubb2b', 'dleu7', 'mrap2', 'derl1', 'adra1a', 'hbm', 'slc25a52', 'gpr88', 'cytip', 'bst1', 'foxp4', 'c16orf87', 'crb3', 'fance', 'ndufb11', 'trib2', 'mcoln2', 'ccdc47', 'tesc', 'usp20', 'jade2', 'timm23', 'lrrn2', 'csnk1g2', 'adam33', 'p4htm', 'slc18a1', 'oser1', 'pex26', 'nr0b1', 'crygd', 'or10k1', 'trim22', 'mt1e', 'ndrg3', 'myl7', 'zfyve9', 'abcd3', 'col4a4', 'dusp26', 'frmd5', 'tcf12', 'or1l4', 'hyi', 'rsbn1l', 'phospho2', 'kctd9', 'tas1r3', 'ptx3', 'kcna4', 'pvalef', 'gja9', 'hapln4', 'tspear', 'tmem210', 'klc2', 'mtmr6', 'pdha2', 'fbxl16', 'atf6', 'lcn9', 'faap100', 'cep104', 'gper1', 'prr19', 'c2orf74', 'etv1', 'slc25a51', 'zswim4', 'smarcc2', 'trim65', 'rmdn1', 'cxxc1', 'zswim1', 'foxo4', 'gsta3', 'snx30', 'chchd1', 'exoc6', 'nes', 'col6a6', 'galns', 'rfx6', 'osr2', 'spanxd', 'nup155', 'riok2', 'myo1g', 'ece1', 'rab21', 'unc5b', 'abcd1', 'bmpr2', 'slamf7', 'sirt4', 'npepps', 'slc16a6', 'slc5a11', 'il4i1', 'rif1', 'nanogp8', 'cst9', 'armh3', 'znf630', 's100a10', 'igfbp2', 'lrrc69', 'rpap3', 'zswim3', 'asap1', 'map1lc3b', 'snx19', 'fam78b', 'tmem50a', 'trim46', 'chst14', 'pole4', 'reg1a', 'hoxd1', 'mlf1', 'tmem140', 'iqcd', 'ankrd61', 'fam166a', 'kcnh8', 'zic4', 'dio1', 'or9a4', 'kdm8', 'fiz1', 'mplkip', 'or2l2', 'cdkn2a', 'avl9', 'rsl24d1', 'riok1', 'irak3', 'zranb3', 'pabpc4', 'slc52a2', 'c1orf131', 'rprd2', 'yipf5', 'tubgcp4', 'krbox1', 'ppp1ca', 'ssc5d', 'hpcal4', 'polr3d', 'sh3rf2', 'pdzd3', 'znf25', 'znf716', 'wwox', 'znf860', 'yes1', 'mapk4', 'becn1', 'timm29', 'krt34', 'llgl1', 'pdss2', 'tysnd1', 'acot6', 'brox', 'cuzd1', 'clk1', 'mlph', 'kcnh1', 'edem2', 'rtraf', 'ncor1', 'virma', 'rbm22', 'ppme1', 'ptpn6', 'fam131a', 'mroh1', 'slc16a3', 'pxylp1', 'tnip2', 'obp2a', 'mtmr2', 'adra1d', 'krtap6-3', 'stt3a', 'ccnb1ip1', 'aff1', 'dmc1', 'rassf9', 'tanc2', 'sumo4', 'tsc22d1', 'kctd19', 'syce1l', 'flna', 'slbp', 'slamf9', 'entpd3', 'pcdh12', 'styxl1', 'trim23', 'sh3bp5', 'capns1', 'znf793', 'nme9', 'c7orf50', 'prdx3', 'vpreb1', 'scn4b', 'dock3', 'itpr3', 'mettl24', 'gadd45gip1', 'nenf', 'dsc1', 'tsen54', 'apobec4', 'ccl20', 'eomes', 'zpbp', 'rfxank', 'tp73', 'tada2b', 'or2m3', 'nlrp9', 'fem1c', 'nr5a2', 'exoc7', 'oscp1', 'ehbp1l1', 'ceacam21', 'piwil2', 'sox15', 'gjc3', 'pdcd11', 'oplah', 'rab11fip1', 'gcsaml', 'eps8', 'a3galt2', 'or5m11', 'znf740', 'sgpp1', 'gtse1', 'rtp5', 'tfam', 'slc27a5', 'map1lc3c', 'glrb', 'cbx7', 'srpk2', 'vcp', 'cdh4', 'lim2', 'adhfe1', 'isca1', 'asah2', 'u2surp', 'calhm1', 'igll1', 'wdr37', 'ccr8', 'strbp', 'heph', 'arnt', 'mipep', 'gramd2a', 'ergic3', 'lrrc59', 'amotl1', 'pkn1', 'stx4', 'c2orf81', 'srsf10', 'map7d1', 'sec31a', 'or11g2', 'lrrc70', 'itga5', 'c11orf42', 'tmem126a', 'tmeff1', 'pdcd5', 'taf13', 'c8orf82', 'polr3c', 'pgd', 'trem1', 'mt-cyb', 'tmem126b', 'foxd3', 'cdkn1b', 'nxpe2', 'tango2', 'slc44a3', 'ripply3', 'akap14', 'hsbp1', 'anpep', 'c14orf93', 'crispld2', 'wdr27', 'cd99l2', 'ptbp1', 'gsdme', 'abcb5', 'ripor1', 'rnf133', 'prpf19', 'gnrhr', 'ripk3', 'tspyl5', 'znf414', 'klrd1', 'mael', 'ncaph2', 'clcn2', 'kdm6a', 'arhgap21', 'shf', 'sik3', 'epas1', 'dmd', 'txndc17', 'tmem238', 'nsun7', 'smndc1', 'stoml3', 'plxdc1', 'gstk1', 'trim59', 'mogat1', 'il31ra', 'smarca1', 'slc1a6', 'cfap206', 'zc3h6', 'cdt1', 'dnmbp', 'itga2b', 'ccdc40', 'lce3c', 'sphk2', 'xrcc2', 'srsf1', 'myh8', 'eef1akmt3', 'utp14a', 'brat1', 'znf577', 'atg4b', 'tmem217', 'pex5l', 'slc22a8', 'mt3', 'cpb2', 'xrcc1', 'lilra1', 'mageb18', 'smco2', 'p2ry10', 'slc9a1', 'slc45a2', 'myf5', 'gmppb', 'rad54b', 'scand1', 'ubtd2', 'zbtb17', 'fam222a', 'flg', 'rictor', 'or10j1', 'hhat', 'hoxd4', 'c3orf38', 'pan3', 'sntb2', 'nfasc', 'mycbpap', 'actl6b', 'scn9a', 'eed', 'cst2', 'agmat', 'apobec3b', 'phf8', 'c18orf54', 'inhbb', 'rbbp5', 'znf316', 'znf621', 'tctn1', 'kdm2a', 'lrrc3b', 'or6c68', 'or2m2', 'nfix', 'icam2', 'cox7b', 'lsamp', 'fam162b', 'cadps', 'dnaaf5', 'mphosph6', 'fadd', 'crocc2', 'eppk1', 'dpys', 'upk2', 'defb112', 'catspere', 'rit1', 'gkap1', 'col11a2', 'gp2', 'oosp4a', 'rapgef6', 'znf559', 'tmem234', 'znf646', 'casc3', 'mamstr', 'znf775', 'kcnj15', 'cox19', 'psma5', 'adrm1', 'cdyl', 'batf2', 'orc3', 'or1d2', 'golga7', 'klhl20', 'gpc5', 'cit', 'krtap4-3', 'zscan1', 'csnk2a1', 'ccdc158', 'eif3h', 's100a5', 'hoxc4', 'mat2b', 'znf274', 'apcdd1l', 'neil1', 'nxph3', 'twf1', 'c1galt1', 'atoh7', 'slc2a4', 'lmbrd1', 'galnt17', 'clip2', 'fbxo21', 'n4bp2l2', 'ppp1r12c', 'cadm3', 'ncapg', 'kdelr3', 'nvl', 'rexo2', 'ndc80', 'ube2b', 'znf578', 'tmem184c', 'smim2', 'lect2', 'ppp1r42', 'melk', 'alox15', 'dtx2', 'ppan', 'ext2', 'kiaa1549l', 'septin11', 'fstl3', 'abhd5', 'golgb1', 'adam18', 'zbtb25', 'vstm2b', 'abl2', 'srsf9', 'ewsr1', 'samd15', 'taar2', 'ikbkb', 'nup50', 'otc', 'atg16l1', 'brd3', 'tmem221', 'tbc1d8b', 'tceanc2', 'linc02218', 'gpld1', 'armh2', 'kif20b', 'ric3', 'muc13', 'tbxt', 'alg14', 'cracr2a', 'slc45a3', 'taf4', 'telo2', 'ntrk1', 'ptgr1', 'ndufa11', 'hormad1', 'lce5a', 'sidt2', 'insl3', 'pim1', 'fbxo33', 'trappc12', 'ptrh1', 'crybg2', 'pbrm1', 'med10', 'crygn', 'spty2d1', 'rala', 'asb12', 'pkia', 'or4a47', 'pabpc3', 'pcgf1', 'gje1', 'psd', 'atp9b', 'oaf', 'adh1b', 'rtl8b', 'spast', 'ahrr', 'fam186a', 'vldlr', 'blm', 'ebag9', 'rbm4b', 'en1', 'primpol', 'celsr3', 'plekhn1', 'sln', 'carmil3', 'steap1', 'npbwr2', 'slc25a27', 'neurod6', 'rasgef1a', 'sema6a', 'or11h4', 'kdm1a', 'cdk14', 'ccnd2', 'chtf8', 'ube4b', 'olfml3', 'ccdc121', 'adcy4', 'mgrn1', 'hyal3', 'mfap1', 'serpinb3', 'chek1', 'hltf', 'tmx1', 'cdca4', 'tex13d', 'or2a25', 'sema4d', 'mapkapk3', 'itga9', 'or9g4', 'znf560', 'caps', 'cxcr5', 'znf365', 'xiap', 'gdf5', 'lep', 'zp4', 'uap1l1', 'fat1', 'bmper', 'ccl5', 'hat1', 'bdp1', 'isoc2', 'ncr2', 'lfng', 'ube3c', 'neurl1', 'znf770', 'asic2', 'rptor', 'mesp2', 'siglec15', 'kras', 'dhrs3', 'ube2t', 'ankrd10', 'rfpl4b', 'dyrk2', 'naga', 'dok1', 'ctag2', 'mcl1', 'c4orf50', 'lrrd1', 'itgam', 'c17orf50', 'tfg', 'foxl2nb', 'hipk2', 'znf160', 'ism1', 'efna3', 'c5orf46', 'rpn2', 'pomt1', 'cwf19l1', 'pcmt1', 'nptx2', 'eif4a3', 'bbs7', 'trim66', 'art5', 'mphosph9', 'keap1', 'tmem270', 'ushbp1', 'sox4', 'znf442', 'acsm2b', 'slc6a9', 'khdc3l', 'cyp2c9', 'krt71', 'tor3a', 'c18orf25', 'pms1', 'depdc4', 'relb', 'lactb', 'mcph1', 'crisp3', 'znf436', 'fnta', 'tbx15', 'tmem98', 'myf6', 'nudt2', 'mtnr1a', 'alpi', 'c9orf64', 'nadk', 'tspan16', 'runx1', 'sec14l5', 'lrch1', 'slc12a7', 'nhlrc1', 'pecam1', 'znf451', 'prr11', 'tmbim1', 'creld1', 'lsm12', 'ndst4', 'neu4', 'wnt9a', 'ufc1', 'mif', 'tnfrsf1b', 'lst1', 'axin1', 'tomm5', 'gpr152', 'sgf29', 'faxdc2', 'rela', 'cip2a', 'pts', 'c4orf17', 'znf211', 'ets2', 'rufy4', 'gch1', 'slc25a35', 'parvb', 'pfdn2', 'cherp', 'kdelr1', 'arhgap35', 'matn2', 'spr', 'irf2bp2', 'c9orf43', 'afdn', 'peli3', 'zmpste24', 'crbn', 'nrde2', 'ccer2', 'acer1', 'dnah17', 'tmed5', 'man2b1', 'cnn3', 'acbd6', 'tpd52l3', 'adig', 'fcgrt', 'rbfa', 'hnf1a', 'tnfaip2', 'ca11', 'znf772', 'cdk18', 'atxn1l', 'ampd2', 'rnf224', 'pdlim1', 'spink1', 'tax1bp1', 'c2', 'eef1aknmt', 'plekha4', 'ina', 'xpr1', 'rtn3', 'irf7', 'krtap3-2', 'utp15', 'pxt1', 'rnf41', 'snapc2', 'spata31a1', 'dlg2', 'ckap2', 'sgca', 'ak5', 'kcnh3', 'gask1b', 'cyp2a13', 'psd4', 'abhd12', 'enam', 'pcnt', 'ceacam4', 'thada', 'padi4', 'man1b1', 'bend2', 'ulk3', 'fam234b', 'cnot11', 'acvr1b', 'chd3', 'fam149a', 'or2c3', 'arpp21', 'lemd2', 'or5a2', 'sptlc2', 'smad4', 'hgf', 'oxt', 'ppm1f', 'git1', 'tmem198', 'mccd1', 'c20orf141', 'zbtb43', 'tex45', 'igfl2', 'or6f1', 'foxe3', 'acta2', 'wdr45b', 'smad7', 'ptprq', 'zc3h13', 'fgf8', 'fabp5', 'heatr5a', 'tbx3', 'ilrun', 'xrn2', 'diaph3', 'rab13', 'acta1', 'mettl21c', 'tmem171', 'znf469', 'cst11', 'ago3', 'ano3', 'klk1', 'leng8', 'cldn34', 'plk2', 'pcca', 'ino80d', 'stpg1', 'fam229b', 'tec', 'ercc6', 'capg', 'sidt1', 'cdc23', 'ebf1', 'nbpf11', 'vps26b', 'maneal', 'fbxw4', 'prss22', 'pctp', 'gsap', 'znf623', 'atm', 'slc48a1', 'itga2', 'clec4m', 'znf584', 'ncln', 'agbl4', 'or4c15', 'apoc2', 'acoxl', 'pitpna', 'aqp9', 'uts2b', 'aamp', 'cops7b', 'pip4k2c', 'ergic1', 'abca2', 'prss48', 'dsg4', 'mroh2a', 'znf263', 'isg20', 'or8d1', 'duxa', 'izumo3', 'crisp1', 'spats2l', 'dmrt2', 'plekhd1', 'plvap', 'gpr156', 'kdm1b', 'khdrbs1', 'zc3hc1', 'tmem132b', 'tmem168', 'usp38', 'mtss1', 'micall1', 'tgfb2', 'ilf2', 'chfr', 'igsf6', 'or6k3', 'ccdc42', 'tiparp', 'tnpo1', 'lrrc20', 'pik3r3', 'rassf3', 'coro2a', 'nhsl2', 'zswim5', 'guca1c', 'eddm13', 'tmem176b', 'fmnl3', 'znf705a', 'rab37', 'ppp2r2d', 'actrt1', 'myo5c', 'rfx1', 'nkx6-1', 'hsd17b6', 'spag5', 'mms19', 'bach1', 'hdac2', 'aldh1b1', 'scg3', 'or51b5', 'ca2', 'ssh3', 'nucks1', 'mcm2', 'gpank1', 'ccdc63', 'glra3', 'pih1d1', 'cobll1', 'tmed9', 'rpp25l', 'tas2r8', 'adrb1', 'psma1', 'aipl1', 'tgfbr2', 'paqr9', 'plod3', 'dclre1a', 'rgs7', 'dusp13', 'tedc2', 'peli2', 'impg2', 'c8orf48', 'septin1', 'krtap9-3', 'arhgap29', 'nme1', 'hbd', 'znf736', 'stmn2', 'krt77', 'epb41l4a', 'parp3', 'fam207a', 'pnpla7', 'c11orf49', 'arhgap39', 'ppef2', 'lpar3', 'ube2d4', 'ip6k3', 'abcc9', 'ecrg4', 'nanp', 'ap1ar', 'kif27', 'hepn1', 'ykt6', 'whamm', 'taf3', 'mgme1', 'ldhd', 'apbb2', 'il17c', 'tulp2', 'zfand3', 'exog', 'acap3', 'syvn1', 'pold1', 'znf787', 'emilin3', 'or2j3', 'pramef18', 'scn2a', 'foxn3', 'yipf4', 'focad', 'prmt6', 'znf302', 'zdhhc6', 'prkg1', 'acbd4', 'pik3r2', 'usp13', 'ccser2', 'nr1h3', 'rnft2', 'cnbp', 'kif13b', 'ptgfr', 'rad9b', 'gdi2', 'eme1', 'rnf113a', 'uaca', 'ndufv2', 'psmb6', 'arhgap36', 'slc44a4', 'slco2b1', 'zfp14', 'gpr137c', 'rfc4', 'tnfrsf10d', 'polr1a', 'atp6v1f', 'sdsl', 'lca5', 'frem1', 'arhgef7', 'get1', 'shank3', 'vamp2', 'slc16a2', 'scgb1a1', 'znf180', 'rassf4', 'trmt6', 'znf776', 'gh2', 'aldh9a1', 'zfp42', 'slc5a4', 'tshz1', 'dach1', 'tgfbr3', 'camk4', 'nle1', 'oxld1', 'otor', 'unc119b', 'armcx1', 'fgf23', 'tspan31', 'josd1', 'usp51', 'tbc1d30', 'ddx52', 'arl16', 'rnf2', 's100p', 'znf398', 'tnfsf14', 'chd5', 'adra2b', 'rtca', 'qpct', 'gpr85', 'ajuba', 'rasgrf1', 'cntd1', 'taf5l', 'spata2l', 'znf337', 'trabd2b', 'paxbp1', 'hsd11b1', 'atp7a', 'krtap22-2', 'ca5a', 'tgif1', 'tmem141', 'tbccd1', 'lce3b', 'dcn', 'ggtlc1', 'hnrnph2', 'dcaf12l2', 'lifr', 'foxc1', 'znf268', 'dchs2', 'tmem225b', 'slc25a47', 'mmp14', 'clpx', 'znf143', 'ttpal', 'nlrp4', 'gpa33', 'atp2c2', 'best2', 'recql', 'rnft1', 'tnn', 'tollip', 'tgm6', 'golga8b', 'slc2a5', 'slc22a7', 'scrn2', 'tp53bp2', 'or6t1', 'cmc4', 'bsn', 'lrrc58', 'twf2', 'heatr4', 'stard10', 'unc45b', 'alg8', 'cxcl8', 'trim75p', 'star', 'cfap299', 'trappc2l', 'fgfbp3', 'nup188', 'espl1', 'nup107', 'mast2', 'aup1', 'asf1a', 'hps6', 'rnf34', 'vps50', 'nufip1', 'chrna3', 'znf324', 'dip2b', 'tmem81', 'bora', 'triml2', 'tm9sf1', 'fastkd1', 'flrt3', 'cyba', 'znf613', 'socs1', 'ahcyl1', 'rlf', 'sec63', 'sec24d', 'fbxw9', 'klhl3', 'cela3b', 'c14orf39', 'hspa4', 'insl5', 'znf706', 'dppa5', 'ss18', 'znf574', 'myd88', 'cplx1', 'xkr4', 'lsm4', 'rnaseh2b', 'grb7', 'znf254', 'zdhhc8', 'gabrd', 'calr3', 'mcoln1', 'alx4', 'wfdc13', 'odf2l', 'kcnh4', 'nlrp12', 'cnfn', 'bcorl1', 'tmx2', 'eipr1', 'adgre1', 'ydjc', 'abraxas1', 'nphs2', 'mettl5', 'mylk3', 'anks4b', 'suz12', 'chchd10', 'znf175', 'tnni3k', 'amigo1', 'itprid2', 'ptdss2', 'fth1', 'plxnc1', 'psmd9', 'ston2', 'mcrip1', 'tsga10ip', 'gp1bb', 'chek2', 'klhl12', 'islr2', 'ackr2', 'kif2a', 'wdr5', 'strc', 'rbm33', 'kif2b', 'sult6b1', 'nudt21', 'insyn1', 'klf11', 'nudt8', 'clec2l', 'pigk', 'crip3', 'atp6v1d', 'bmi1', 'mfap2', 'lclat1', 'klhl2', 'apcdd1', 'pde7a', 'dpysl3', 'rhog', 'rflna', 'kiss1', 'ralgps1', 'suox', 'nipsnap3a', 'c1orf158', 'yy1', 'znf785', 'tmem14c', 'b4galt6', 'spib', 'lat2', 'ddt', 'antxr1', 'spink13', 'fam124a', 'susd2', 'lrrc38', 'ndufb8', 'c11orf80', 'mapk11', 'fam107a', 'mall', 'oprd1', 'cycs', 'cabcoco1', 'mpv17l', 'rabep2', 'pigl', 'cluh', 'krtap10-5', 'or5h14', 'antxrl', 'znf766', 'tmem134', 'dlx1', 'frrs1l', 'ccl4', 'kiaa1210', 'reep1', 'or13j1', 'tacstd2', 'aqp2', 'ccl15', 'pbxip1', 'cir1', 'srsf7', 'btbd7', 'chmp5', 'pld6', 'atp8a1', 'mtdh', 'acsm4', 'cant1', 'ltbp4', 'psd2', 'dnah10', 'tacr1', 'raf1', 'cnnm4', 'ercc3', 'pcdhb4', 'gfpt2', 'txndc2', 'e2f7', 'pcdhac1', 'bri3bp', 'syt11', 'ncaph', 'bex5', 'kcnj11', 'timp1', 'tex53', 'vwa2', 'ntm', 'orc1', 'dph6', 'cd52', 'dcaf12', 'drd4', 'ikzf5', 'tm4sf4', 'cyp21a2', 'lrrc31', 'coq4', 'rwdd2b', 'crot', 'skiv2l', 'nectin3', 'kcnk16', 'glipr2', 'kcnc2', 'gnl1', 'idh3g', 'ybey', 'cnn1', 'ap4s1', 'tnp1', 'efhc1', 'c19orf71', 'fam163a', 'speg', 'stx5', 'rnf26', 'ganc', 'cdipt', 'samhd1', 'nipsnap1', 'krtap20-2', 'ndufb2', 'eral1', 'tgfbrap1', 'tsr3', 'slc35a1', 'foxb1', 'stard5', 'vim', 'or7e24', 'apoc4', 'yjefn3', 'dhfr', 'hscb', 'slitrk1', 'crybb1', 'gpatch1', 'rgl4', 'grik3', 'gas2l2', 'med1', 'osmr', 'foxa1', 's100pbp', 'c10orf95', 'snx17', 'cldnd1', 'psen1', 'tkfc', 'mapk1ip1l', 'kank4', 'zswim8', 'actl7b', 'ltbr', 'usp36', 'rab17', 'timeless', 'casp9', 'sema5b', 'cysrt1', 'sirpb2', 'nudt19', 'usp17l15', 'nup98', 'dstn', 'abra', 'leo1', 'tmem190', 'slc18b1', 'ssc4d', 'plk4', 'dnajc27', 'or2h2', 'znf7', 'wt1', 'wdr75', 'tfec', 'cd1c', 'slc9c2', 'lcp1', 'rnd2', 'ifnb1', 'znf3', 'lgals13', 'icmt', 'snx4', 'spon1', 'cpox', 'plin2', 'ikzf2', 'ppp1r17', 'gpaa1', 'dhdh', 'fgf3', 'sfxn2', 'znf57', 'ttc9b', 'gpx8', 'znf585a', 'zbtb10', 'comt', 'mettl15', 'slc25a4', 'rnf180', 'dsg1', 'cdkl4', 'ncs1', 'pdrg1', 'exo5', 'mmadhc', 'tnfaip6', 'copb2', 'col28a1', 'map2k6', 'fam219b', 'cript', 'osbp', 'sp9', 'tmc7', 'znf639', 'amh', 'mttp', 'slc4a9', 'brd3os', 'magel2', 'wdr3', 'casd1', 'smap1', 'scp2d1', 'coq9', 'fam47a', 'ptf1a', 'c6orf52', 'cdc42bpg', 'pou3f1', 'ctxnd1', 'lgr4', 'nudt14', 'gga2', 'ints12', 'sh2d5', 'mybpc2', 'pold2', 'lzts3', 'c1orf116', 'ifit2', 'tcf7l1', 'msh3', 'abl1', 'acot7', 'or5d13', 'alkbh1', 'pum3', 'kif9', 'prokr1', 'clic6', 'prss23', 'pik3r6', 'mmgt1', 'nap1l5', 'znf138', 'il22', 'cpne4', 'plaat4', 'trrap', 'slco1a2', 'dusp23', 'htr2c', 'use1', 'znf619', 'ttc39c', 'serpina12', 'apaf1', 'tm9sf4', 'fzd1', 'vrk3', 'prr9', 'exoc3l4', 'epb41l2', 'hic2', 'ifna4', 'slc10a4', 'ccdc93', 'cpsf6', 'coa7', 'tmem238l', 'tep1', 'eif4e', 'kcnab2', 'hmmr', 'fars2', 'senp3', 'ubxn11', 'tmem213', 'fam20c', 'paip2b', 'pdgfrl', 'cby3', 'tmem74', 'tmem174', 'tmem106b', 'ccdc88c', 'lrfn4', 'ffar1', 'prkca', 'gpr89b', 'c16orf96', 'med31', 'txndc5', 'tuba4a', 'ankrd27', 'birc6', 'lrrc14', 'nox5', 'znf426', 'kif21a', 'gusb', 'krtap4-5', 'aanat', 'scnn1b', 'poc5', 'raly', 'trmt1l', 'or4k14', 'npr1', 'ltn1', 'chrna1', 'cblc', 'thap4', 'rp1l1', 'eci1', 'chst9', 'slc25a53', 'inpp4a', 'ctns', 'anxa5', 'ankrd30bl', 'znf791', 'htr4', 'slc25a32', 'mitd1', 'tceal3', 'cnot1', 'uhrf2', 'nfe2l1', 'papss2', 'znf599', 'xrcc4', 'znf662', 'aldh18a1', 'lpcat3', 'sgcd', 'pcdha11', 'otud6b', 'tnni2', 'cplx2', 'fbxo3', 'nipsnap3b', 'abca9', 'map3k6', 'hoxa1', 'miga2', 'adat3', 'wnt3a', 'gadl1', 'tmed7', 'pla2g12a', 'tfe3', 'agt', 'egr4', 'glce', 'tnpo3', 'lrrc2', 'ddias', 'clock', 'sox2', 'tead2', 'sprr1b', 'sdf2l1', 'dnah3', 'mon1b', 'limch1', 'fcrl5', 'rad54l', 'relch', 'cnnm3', 'mei1', 'adgrg5', 'sox18', 'mgst3', 'or2i1p', 'scarb1', 'rubcnl', 'ttc5', 'fbn3', 'pcna', 'sh3tc1', 'dguok', 'zc2hc1a', 'acvr2b', 'pcdhga2', 'sgk1', 'spats1', 'oard1', 'capn9', 'uqcrc1', 'tcf24', 'anxa11', 'hinfp', 'hs3st4', 'tmem63c', 'crygs', 'st3gal6', 'nalcn', 'lipg', 'pnma5', 'ap1b1', 'edf1', 'slc23a1', 'znf77', 'morc3', 'lbr', 'suv39h1', 'ptgs1', 'wasf3', 'safb2', 'adgre2', 'golph3', 'thbs3', 'htn3', 'rnf227', 'tmc2', 'ndc1', 'havcr1', 'dmxl1', 'cpne8', 'icam3', 'sh2d2a', 'krba2', 'rab1a', 'or2f1', 'serhl2', 'rnf40', 'il17b', 'lrrc6', 'mmp12', 'p4hb', 'znf720', 'vps26c', 'rragb', 'kcnv1', 'ovch2', 'fbxo7', 'sft2d2', 'cd109', 'nrip3', 'reps1', 'kdm3a', 'septin2', 'ubtd1', 'erg28', 'celsr1', 'dmrtb1', 'slc25a18', 'praf2', 'pcdhb1', 'slc25a44', 'nxph2', 'vav1', 'prrc1', 'mical3', 'syndig1l', 'pter', 'ndufa8', 'tnks2', 'znf410', 'crhr1', 'med19', 'btf3', 'ccdc18', 'rock2', 'kdm4b', 'ptgdr', 'ahcyl2', 'dnase2b', 'atp13a3', 'lipk', 'nudt9', 'ptpro', 'vipas39', 'sptlc3', 'il1a', 'kptn', 'krtap1-4', 'myo1h', 'fyn', 'sec14l3', 'fndc7', 'fbxo22', 'or3a2', 'ccdc116', 'wdhd1', 'slc6a3', 'ndufaf1', 'perm1', 'ephx2', 'znf354c', 'tmem245', 'rassf7', 'krtap4-12', 'sall3', 'kiaa1522', 'tmie', 'myo1a', 'c11orf97', 'c1qtnf1', 'gabrq', 'znf330', 'aqp6', 'mlana', 'ythdf2', 'anapc7', 'enpp1', 'wfdc10a', 'enpp6', 'cul9', 'dusp12', 'mex3d', 'kiaa0319l', 'lrrc56', 'grk1', 'cdyl2', 'tspan12', 'abcf3', 'ccdc194', 'ppip5k1', 'cxorf65', 'gdf10', 'cnksr3', 'pfkm', 'txnrd3', 'dennd6a', 'acap1', 'sprr2b', 'gdf11', 'c16orf95', 'gab1', 'st13', 'tox3', 'clrn1', 'otogl', 'psg11', 'c11orf96', 'lrrc7', 'rhex', 'lrr1', 'ninj2', 'socs6', 'edc3', 'pi3', 'pcsk4', 'kcns1', 'ncoa5', 'or8d2', 'or7g1', 'klk9', 'retreg1', 'was', 'crebbp', 'abcc4', 'plpp4', 'fam120a', 'map4k4', 'eras', 'ppp2r5d', 'znf618', 'tusc3', 'sec22b', 'calhm2', 'smpd1', 'smarcd2', 'ogfod3', 'prtn3', 'rpf2', 'rpa4', 'kbtbd6', 'smco1', 'ift27', 'opn1lw', 'pramef33', 'abcb4', 'tat', 'irgm', 'il4r', 'znrf2', 'c1orf232', 'tmem176a', 'apold1', 'plp1', 'tspan15', 'myl1', 'or2t10', 'pomp', 'cttn', 'hoxa6', 'krtap3-1', 'adad1', 'ddx51', 'ccdc154', 'rrp7a', 'pbdc1', 'rsph10b2', 'she', 'vwa7', 'kcnv2', 'fn3krp', 'pnpla8', 'dusp18', 'as3mt', 'slc30a7', 'angel2', 'tex29', 'vps13c', 'slc52a3', 'cep126', 'disp1', 'cdk19', 'rasl12', 'rtn1', 'bbs5', 'ubap1l', 'bmp2', 'meis1', 'ramp1', 'nup205', 'eva1a', 'cmpk1', 'lnpk', 'hyal4', 'hoxa5', 'polr3h', 'rgs11', 'myo6', 'pnlip', 'iqca1', 'slc26a11', 'clvs2', 'dlx2', 'pde1a', 'cpa4', 'dcc', 'mak', 'fdps', 'cep85', 'bank1', 'ndufc2', 'gde1', 'fxyd5', 'pdlim7', 'snx31', 'il4', 'sgk3', 'ltbp3', 'epsti1', 'sirt6', 'vsnl1', 'casp3', 'btrc', 'calb2', 'dctd', 'nrap', 'krtap10-3', 'ppfia4', 'krtap21-1', 'snx3', 'tspy1', 'tyw5', 'ackr3', 'ptk2b', 'or5ar1', 'syne2', 'ghrh', 'wnk3', 'ifnl2', 'or5b2', 'gucy1a2', 'clybl', 'nkain3', 'clic5', 'npas2', 'ap1g2', 'mmp8', 'rb1cc1', 'nod2', 'masp1', 'plekhm3', 'opa1', 'tubb8', 'efr3b', 'nfkb2', 'dcaf6', 'nudc', 'rufy1', 'bnc2', 'klrf2', 'col6a3', 'gabrb1', 'rnf17', 'rbmxl3', 'fbxl12', 'guf1', 'csmd2', 'inpp5f', 'pde7b', 'rbm45', 'fam83g', 'cd300e', 'rprd1b', 'ogn', 'kcnj10', 'efcab11', 'necap1', 'dhx32', 'cops5', 'avpr1a', 'tent5d', 'mrgprx3', 'znf385a', 'mog', 'tnfrsf6b', 'grk6', 'rapgef5', 'casp2', 'dusp4', 'c11orf52', 'olfm1', 'eif2d', 'tmem150a', 'pcdh11y', 'actn1', 'grin3b', 'pdcl3', 'lama1', 'crx', 'dusp21', 'herc6', 'tspan6', 'sacm1l', 'aff3', 'col25a1', 'efnb2', 'fut9', 'ambn', 'slc44a1', 'tcp11l1', 'ube2v2', 'auts2', 'rgs14', 'sh3bp4', 'ankrd31', 'pcdhb14', 'cfap20', 'plk5', 'ugt2b10', 'c14orf119', 'smco3', 'ttll2', 'adam17', 'artn', 'tmsb4x', 'nags', 'drap1', 'ly86', 'or11h6', 'mob1b', 'atpsckmt', 'cx3cr1', 'tmem30b', 'ctdspl', 'tmem88', 'znf738', 'susd5', 'gcnt1', 'atp2c1', 'znf714', 'slc39a6', 'defb116', 'utp6', 'cox20', 'klhdc10', 'lrrc63', 'skida1', 'prim1', 'zfpl1', 'spp1', 'sod3', 'fgfrl1', 'tub', 'tcirg1', 'nat14', 'zbtb9', 'spata9', 'rrm2b', 'ankrd13d', 'dyrk1a', 'ociad2', 'or2ae1', 'insl6', 'lbhd1', 'fkbp11', 'cacna1e', 'akr1a1', 'znf841', 'slc27a3', 'ccdc185', 'emb', 'aven', 'c2orf66', 'vps35l', 'tmod3', 'btbd9', 'dscaml1', 'gnb3', 'ercc2', 'urb1', 'brwd3', 'nabp2', 'map3k19', 'or4p4', 'u2af1l4', 'glg1', 'psmc3', 'kiaa0825', 'col17a1', 'znf652', 'spata5', 'entpd6', 'hus1', 'exoc3l2', 'mthfs', 'dtl', 'lrrc45', 'ano10', 'srpk1', 'tob2', 'cd36', 'gstcd', 'akap5', 'isca2', 'ralbp1', 'alg9', 'ctss', 'clvs1', 'neurog3', 'wif1', 'gbp7', 'hdac6', 'coro1b', 'st6galnac3', 'igsf8', 'tlr5', 'egfl6', 'cbfa2t3', 'n4bp1', 'lig3', 'ccl25', 'kcne4', 'krt5', 'cert1', 'ncald', 'abcb6', 'sp140', 'htr1f', 'or1l3', 'naa10', 'ppcs', 'tmem100', 'thap5', 'znf41', 'ddx49', 'tmem230', 'acyp2', 'tbc1d3b', 'fam71e1', 'tet2', 'banf2', 'atp13a5', 'naif1', 'gbx1', 'acat1', 'crtc1', 'tmc4', 'tlr7', 'ppp2r3c', 'hmbs', 'nos1', 'tsbp1', 'camk1g', 'rbm5', 'smurf1', 'cthrc1', 'ggct', 'kcnmb4', 'zfx', 'spz1', 'gsk3b', 'yipf7', 'rhce', 'umod', 'tmsb15a', 'tspyl6', 'krtcap2', 'supt5h', 'stom', 'cwc15', 'plin3', 'pgam2', 'aktip', 'zmynd8', 'syt8', 'or2c1', 'cntfr', 'mthfd1l', 'atp6v0a1', 'mep1b', 'pnma8a', 'gprin3', 'pdzrn3', 'prr23c', 'tox4', 'gtf2h5', 'krtap24-1', 'gfra1', 'tmbim6', 'pigq', 'igip', 'prr14l', 'cln6', 'ybx3', 'dennd4b', 'lmln', 'mab21l2', 'kat8', 'rad18', 'unk', 'slc7a8', 'krtap19-1', 'neil3', 'arl4d', 'erbb3', 'hnrnpcl2', 'cd1e', 'il21r', 'rsad2', 'tmem88b', 'otulin', 'lrrc46', 'kirrel1', 'snrpa', 'lcn2', 'nr3c2', 'amz2', 'mfn1', 'hcn2', 'krt72', 'stk10', 'epb41l3', 'thsd4', 'golga7b', 'ccdc159', 'ralgapb', 'rtl5', 'iffo2', 'grid1', 'dgkh', 'chmp2a', 'slc9a6', 'mfrp', 'paics', 'loxl4', 'chgb', 'rnf175', 'srrm5', 'hrg', 'tent4a', 'nipsnap2', 'c4b', 'nr1h4', 'hsdl1', 'dazl', 'znf816', 'tpbg', 'pglyrp4', 'slc9a7', 'magea6', 'crim1', 'proca1', 'pou6f1', 'cndp1', 'xpo7', 'tor1b', 'mbnl3', 'dnaja4', 'rho', 'dnali1', 'nol8', 'gli1', 'ccr4', 'col10a1', 'rnaset2', 'ino80', 'elovl3', 'paqr5', 'cct8l2', 'hps4', 'tex35', 'rgpd3', 'emc10', 'morf4l2', 'c6orf118', 'pcsk2', 'znf383', 'prkcd', 'rae1', 'or6c75', 'fam53b', 'ifi35', 'col5a2', 'plxdc2', 'nr3c1', 'iqank1', 'phox2a', 'hepacam', 'atp5mc3', 'nsmce3', 'sp6', 'frmd1', 'oas2', 'rrp12', 'sh3rf1', 'spink5', 'meox2', 'cemp1', 'phlpp1', 'eml1', 'klhdc2', 'sbk3', 'tbl1y', 'fam177b', 'irx6', 'ppcdc', 'sulf1', 'tmem186', 'slc7a1', 'grid2ip', 'nup62', 'phpt1', 'lysmd2', 'sphk1', 'ppfibp2', 'gng2', 'snx7', 'crybg3', 'dppa2', 'trpa1', 'lsm14a', 'znf341', 'arhgef38', 'rnpc3', 'ddb1', 'nsfl1c', 'pex12', 'fam107b', 'selenom', 'cmtm6', 'dock6', 'synpr', 'krtap20-3', 'rabgef1', 'pafah1b2', 'wnk1', 'socs2', 'sdhb', 'dio2', 'epyc', 'nupr1', 'scube1', 'ablim3', 'znf133', 'nr2c2', 'kcnq4', 'tmem106c', 'stat6', 'chmp4a', 'slc30a5', 'asf1b', 'lgals14', 'mief2', 'prh2', 'med25', 'tspyl4', 'cckbr', 'rnf186', 'rab4a', 'cdk13', 'ms4a14', 'pmepa1', 'fam228a', 'znf232', 'or2ap1', 'or5h15', 'c22orf39', 'lto1', 'slc35a4', 'ppp3cb', 'abcg8', 'rnf115', 'slc39a7', 'myoz1', 'fam186b', 'zbtb2', 'ubc', 'zmym5', 'znf45', 'cd46', 'kcnj4', 'bsdc1', 'mllt11', 'clpp', 'ints6l', 'thy1', 'cdhr3', 'parp6', 'or5t3', 'tnfsf15', 'ugt1a8', 'tmem123', 'spsb1', 'lce1c', 'frrs1', 'zdhhc14', 'abo', 'usp29', 'twnk', 'spag7', 'zdhhc7', 'stoml1', 'cdc73', 'map3k3', 'or51g1', 'klhl1', 'tmem135', 'ms4a5', 'dip2c', 'or2t6', 'arpc3', 'ube3a', 'hnf4a', 'exoc1l', 'or10ag1', 'krt31', 'ccdc59', 'srrd', 'asb9', 'ugt2b28', 'aoc2', 'osbpl11', 'daam1', 'rin2', 'kiaa1217', 'megf6', 'scrt1', 'ms4a6a', 'odr4', 'trim34', 'slc14a1', 'jmy', 'hhipl1', 'adam23', 'trappc9', 'skap2', 'smim8', 'olfm4', 'plcg2', 'pnpla3', 'serpini2', 'tfcp2l1', 'trappc1', 'nf1', 'nufip2', 'usp16', 'pdgfc', 'cdh6', 'stam', 'tmem202', 'prr5l', 'prss3', 'rab31', 'asphd2', 'trim24', 'ccr5', 'pgap3', 'czib', 'c2orf92', 'mmp13', 'babam2', 'chadl', 'znhit1', 'tmem215', 'usp1', 'dr1', 'col9a1', 'gpx4', 'dmrta2', 'wbp1', 's100a2', 'zfand2b', 'znf718', 'ncbp3', 'celf1', 'hcst', 'lrrfip1', 'smarcal1', 'rasa1', 'zbtb49', 'dyrk1b', 'pcdh19', 'fcf1', 'ccl21', 'tmem116', 'c4orf46', 'c6orf120', 'adamdec1', 'atl3', 'uchl3', 'slc25a25', 'prkd2', 'atp9a', 'fbxo38', 'ywhaq', 'avpi1', 'ift81', 'rhpn1', 'prickle1', 'gjb5', 'trim33', 'pygo2', 'tmem14a', 'pxmp4', 'cdkn1a', 'ints13', 'tap2', 'cd2', 'mapre3', 'a4gnt', 'ccdc170', 'tmem109', 'fastk', 'atp8b4', 'rbpms2', 'gckr', 'jmjd4', 'vwa3b', 'cxxc4', 'smim41', 'glb1l2', 'trmt10a', 'mical2', 'or5l2', 'pcdhb7', 'dgat2l6', 'spanxn5', 'fam200b', 'tbpl1', 'septin3', 'mas1', 'gstm1', 'kif22', 'ceacam8', 'bcas2', 'gabra3', 'elf4', 'tex44', 'gtf2i', 'klf5', 'mindy3', 'sdc4', 'peli1', 'dgkb', 'hrh4', 'dhx16', 'or5b17', 'sel1l', 'krt80', 'mrgprx2', 'psmc3ip', 'defb1', 'akr1c3', 'cxcr1', 'gtpbp8', 'naa35', 'fbxo47', 'hspa12b', 'phc2', 'rax', 'c16orf54', 'or4m1', 'ly6d', 'map7d3', 'hmcn2', 'pcdhga3', 'pla2g15', 'nnat', 'uimc1', 'msh4', 'jmjd8', 'krt19', 'sypl1', 'anxa2r', 'dock9', 'cenpv', 'ffar4', 'ctsg', 'sec14l2', 'guk1', 'myl10', 'ndst3', 'trip12', 'c9orf85', 'ptprr', 'pgm2', 'ubap2', 'mpi', 'ttc23l', 'slco6a1', 'lmx1b', 'tmco5a', 'dpp8', 'krt20', 'gip', 'csnk1g3', 'pik3c3', 'diras1', 'avpr1b', 'stmnd1', 'dtnb', 'hoxa13', 'best1', 'arhgap22', 'chrnd', 'cept1', 'smo', 'hnrnpf', 'npsr1', 'ndufb3', 'ndp', 'pdia6', 'pllp', 'sdc3', 'ttc36', 'sephs2', 'clip4', 'f2', 'mtln', 'zxdc', 'gng10', 'cd19', 'mrgprg', 'zglp1', 'eml2', 'krtap21-2', 'slc22a25', 'cyp46a1', 'pdhb', 'cltrn', 'pdhx', 'pea15', 'cds1', 'rer1', 'or9i1', 'spop', 'saxo2', 'iqcj', 'rxfp3', 'mterf4', 'spag1', 'nprl3', 'slc43a3', 'sufu', 'oxtr', 'cdk2ap1', 'atad3a', 'mcidas', 'mindy4', 'grin2a', 'or2t8', 'galnt9', 'eif3g', 'or4c16', 'tbcc', 'sdr9c7', 'nova2', 'lce2c', 'ss18l2', 'cfap221', 'xpnpep3', 'msrb2', 'c3orf52', 'ccdc180', 'hoxc12', 'rnf31', 'ica1', 'adirf', 'rhoc', 'capza3', 'rraga', 'hnrnpu', 'cage1', 'znf696', 'rad51d', 'eif4g2', 'znf226', 'pcdha7', 'trmt2b', 'ppp4r2', 'ppfibp1', 'kcns3', 'ccnl2', 'larp4', 'abcd4', 'frat2', 'gnpda2', 'tigd7', 'nkiras2', 'serpinb6', 'gabrb2', 'kcnk17', 'nae1', 'sprr2a', 'them6', 'ntrk3', 'adamts6', 'fut11', 'or51g2', 'amer3', 'rsu1', 'sod1', 'igf2r', 'parp4', 'mpig6b', 'ulk1', 'etfb', 'nr2f2', 'prss8', 'c1orf141', 'bpifb6', 'krtap13-3', 'ctsl', 'daw1', 'adcyap1r1', 'tubg1', 'myom1', 'sfi1', 'irf5', 'rnf113b', 'pvalb', 'zhx2', 'acd', 'klk13', 'eda', 'kiaa0100', 'slc39a14', 'dpagt1', 'ogg1', 'nlrp5', 'tbl1xr1', 'or52n1', 'zscan18', 'satb1', 'fbln7', 'znf10', 'atp12a', 'rad54l2', 'l1cam', 'col13a1', 'tln1', 'asgr2', 'tmem187', 'igsf21', 'sh3bgrl2', 'znf843', 'dmtn', 'pabpc1l2a', 'c4orf33', 'metrnl', 'rab8b', 'eef1e1', 'ptprh', 'ints14', 'tex13b', 'camkk2', 'or5as1', 'tekt2', 'cdca2', 'rmi2', 'nt5c3b', 'otop2', 'rimbp3b', 'coro7', 'vpreb3', 'sox7', 'ywhae', 'vcam1', 'mei4', 'poc1a', 'derl2', 'tmbim4', 'flt3', 'pcdh1', 'cdh18', 'grhpr', 'ptpn18', 'fxyd3', 'pak2', 'vtcn1', 'pcdha5', 'mt1hl1', 'rxfp2', 'toe1', 'olig2', 'smoc2', 'frmd6', 'defa3', 'ppm1g', 'prox1', 'gng13', 'p3h3', 'plod1', 'dcaf13', 'vasp', 'rhbdl2', 'tango6', 'spata3', 'grin3a', 'bdh2', 'gsta5', 'mtmr4', 'ilvbl', 'hoxb13', 'aldh1l1', 'sytl3', 'dcaf12l1', 'col21a1', 'hemgn', 'phc3', 'trex2', 'rrbp1', 'pth2r', 'elp3', 'nudt13', 'pnpla1', 'retn', 'znf703', 'met', 'lrrc8a', 'arfgap1', 'fbln1', 'rin3', 'slc22a15', 'chrm5', 'gk2', 'cdkl3', 'bivm', 'pcdha3', 'rwdd3', 'or10x1', 'dmrt1', 'dctn5', 'sprr4', 'vamp4', 'dppa3', 'sf3a1', 'tspan1', 'e2f6', 'hnrnpa0', 'gclc', 'rab3ip', 'c2orf88', 'setbp1', 'malt1', 'dlx6', 'cables2', 'spata7', 'c3orf56', 'appl2', 'gpr12', 'lsm7', 'kctd11', 'cxcl9', 'sord', 'icam1', 'znf786', 'katnal1', 'sprr2f', 'caprin1', 'pknox1', 'trim61', 'mob3b', 'adgrg7', 'srrt', 'rnf19a', 'prom1', 'golga1', 'eif1b', 'znf169', 'or52n5', 'tmem117', 'btn3a2', 'klhl4', 'sptbn4', 'hip1', 'c11orf1', 'hr', 'kif1a', 'med28', 'tnip3', 'lmo4', 'dtwd1', 'ccdc3', 'foxj2', 'pde4d', 'cox6b2', 'frg1', 'gabrg2', 'gipc2', 'lipt2', 'cnot6l', 'ier2', 'bckdhb', 'or5d14', 'trpm6', 'lima1', 'ntn4', 'fam71e2', 'znf813', 'znf596', 'rhoxf2b', 'snrpc', 'cdk4', 'nkx2-1', 'arhgap44', 'krtap16-1', 'atp5pd', 'commd7', 'defb131b', 'gas2l1', 'tssk6', 'tubg2', 'lhx4', 's100a9', 'usp26', 'exoc4', 'stk26', 'tmem125', 'cd93', 'ildr1', 'hap1', 'usp39', 'mt-nd6', 'trim55', 'enox2', 'ssx5', 'cemip', 'net1', 'nme3', 'pigt', 'rgs2', 'txnrd2', 'armc6', 'znf781', 'slc38a4', 'dync2li1', 'maged2', 'creg1', 'lif', 'zdhhc24', 'strip1', 'urad', 'uba1', 'stx17', 'ebpl', 'fbrs', 'slc41a2', 'hkdc1', 'smc6', 'dpysl2', 'gins3', 'myl6', 'trim37', 'clspn', 'ret', 'eys', 'rgs21', 'clec12b', 'mchr1', 'lgals9c', 'arhgap17', 'otub2', 'or8h1', 'plcd1', 'slc12a3', 'fbxo17', 'abcc11', 'nfkb1', 'fez1', 'stxbp6', 'krtap6-2', 'mvp', 'ctrc', 'fndc9', 'elk3', 'uqcc2', 'chaf1a', 'ccdc153', 'alg11', 'lamc3', 'bbox1', 'map2k3', 'prss36', 'jph4', 'dot1l', 'rrp1', 'znf385b', 'nfs1', 'tmem87b', 'maml1', 'sh3pxd2a', 'tspan2', 'spata12', 'smim24', 'cryga', 'igsf1', 'cnih3', 'cdk17', 'uckl1', 'arhgap10', 'trpm2', 'mospd3', 'trak1', 'gbgt1', 'cab39l', 'xylt1', 'irak1', 'gbp4', 'tex36', 'mien1', 'csf3r', 'stt3b', 'arhgap40', 'c1orf100', 'abi3bp', 'atad1', 'adgrf3', 'mkrn3', 'foxred1', 'gjb7', 'pdgfa', 'pax8', 'shisa3', 'pphln1', 'gen1', 'irx2', 'ttc27', 'cox18', 'nfkbil1', 'cep112', 'ruvbl1', 'ren', 'ap3s2', 'sdf2', 'c1orf115', 'dach2', 'mars2', 'klhl31', 'mapk8', 'adam20', 'kif3c', 'znf518a', 'popdc2', 'rb1', 'smpd4', 'strada', 'klhl41', 'aunip', 'stk32c', 'dlg3', 'foxl1', 'vps28', 'fbxo32', 'fam216a', 'qser1', 'fhad1', 'dbf4b', 'fam83b', 'lemd3', 'gins2', 'acot8', 'ddx43', 'slc25a41', 'pparg', 'prpf38a', 'rest', 'cox6b1', 'camta1', 'inava', 'zc4h2', 'th', 'kdm4e', 'ccl13', 'wbp1l', 'znf214', 'emc7', 'adi1', 'apip', 'plcb3', 'vamp8', 'slc4a3', 'zim2', 'brinp2', 'pomgnt2', 'trem2', 'plekha6', 'cd163l1', 'sox5', 'slc17a8', 'apoc1', 'fkbp7', 'tmem256', 'sgsm3', 'eef1g', 'dedd2', 'pcbp1', 'stx6', 'spink6', 'pcdha1', 'bloc1s2', 'aqp5', 'b4galt3', 'coro1a', 'ctnnal1', 'nemf', 'spaca3', 'smcr8', 'gnpnat1', 'eddm3a', 'scaf4', 'tbl1x', 'clec7a', 'proz', 'flvcr1', 'atp1a2', 'ippk', 'znf433', 'lilrb5', 'specc1l', 'med14', 'syngr4', 'pnliprp3', 'osbpl8', 'ddr1', 'b3galt4', 'znf248', 'tsnaxip1', 'dcaf16', 'med30', 'rdh12', 'znf467', 'uggt2', 'bag2', 'zc3hav1l', 'nop2', 'chd1', 'ucn3', 'zc3h10', 'bcap31', 'tmem158', 'jup', 'clip1', 'lman2l', 'pfn1', 'pex11g', 'adtrp', 'ro60', 'mast3', 'inpp1', 'spin1', 'calhm5', 'psmd12', 'znf565', 'rusc2', 'rab22a', 'jrkl', 'bloc1s1', 'igdcc3', 'rab6b', 'slc22a14', 'il17rd', 'fosb', 'kctd6', 'or4c3', 'c11orf58', 'dab2ip', 'znf862', 'or56b4', 'fcrl4', 'c1orf185', 'ipo8', 'ppp1r12b', 'pifo', 'lingo1', 'spin4', 'fam166b', 'thap12', 'cdkl5', 'nagk', 'uso1', 'oat', 'luzp4', 'aifm2', 'slco1b1', 'resf1', 'tor2a', 'pnpla2', 'ccdc8', 'scrt2', 'mageb3', 'rab41', 'trim17', 'sgk2', 'psma2', 'znf581', 'mlec', 'slf2', 'tnnc1', 'catsperg', 'fbxl15', 'lgals2', 'arhgdig', 'fbxo39', 'arv1', 'gid4', 'exosc2', 'rab29', 'atad3b', 'olfml2b', 'hoxd12', 'hnrnpul2', 'trhde', 'actrt2', 'pate4', 'kansl1l', 'yaf2', 'cacnb3', 'wdr44', 'naaladl2', 'rab32', 'fmo1', 'ankrd13c', 'hs3st5', 'coa5', 'ptpmt1', 'lrp6', 'polr2b', 'pgbd1', 'znf292', 'spg11', 'elf5', 'ier5', 'ncbp2', 'pogz', 'igf1r', 'wfdc8', 'golga3', 'epb42', 'pramef20', 'chst4', 'ankrd30b', 'smr3b', 'hspa14', 'wdr77', 'hs3st1', 'ssu72p8', 'proser2', 'znf699', 'fcho1', 'e2f2', 'fbxl13', 'ntrk2', 'camp', 'dkk4', 'rtl9', 'hoxb9', 'junb', 'prex1', 'dnal4', 'fbxl5', 'cdc26', 'slc4a7', 'znf266', 'sowaha', 'xrcc6', 'magix', 'stk25', 'tstd1', 'trim2', 'castor1', 'dipk1c', 'c1orf74', 'phlda1', 'efna5', 'pgpep1l', 'dock4', 'klf2', 'rassf1', 'fbxl6', 'ube2v1', 'nphp3', 'dram2', 'dclk2', 'pkd2l1', 'amd1', 'ube2l5', 'or8u1', 'c17orf75', 'gcm1', 'cstl1', 'cpped1', 'il32', 'wasf2', 'or5j2', 'mafb', 'serpind1', 'ifna8', 'clcn3', 'dennd10', 'cnpy3', 'aldh6a1', 'glcci1', 'htt', 'dcbld1', 'krt40', 'ccdc88b', 'krtcap3', 'inhbe', 'cnksr1', 'ccdc90b', 'ocm2', 'actr10', 'krtap5-6', 'paqr8', 'gtf3c2', 'rgs3', 's100a7l2', 'cited4', 'rab11fip2', 'spg21', 'ky', 'pcgf6', 'stox1', 'rras2', 'znf439', 'sco2', 'epha3', 'pnma6e', 'ranbp9', 'aip', 'pa2g4', 'nono', 'polr3k', 'helz2', 'gjd2', 'calhm6', 'hdhd3', 'mroh2b', 'ucn', 'apbb3', 'mettl9', 'fam172a', 'cd83', 'vta1', 'or5m9', 'pnma6f', 'plac9', 'tex15', 'rce1', 'mbtd1', 'serpinb2', 'sgsm1', 'nfatc4', 'catsperz', 'ercc6l', 'otop3', 'chrna5', 'znf563', 'cdc14c', 'ankrd39', 'uqcrc2', 'rfpl4a', 'mrm3', 'fyco1', 'c2cd3', 'ankrd13b', 'znf419', 'prac2', 'triqk', 'znf329', 'sbspon', 'dph2', 'pcdha10', 'cd3g', 'tcim', 'far1', 'l3mbtl1', 'efna2', 'cyyr1', 'rcbtb1', 'gpalpp1', 'olig3', 'card10', 'slc17a3', 'nkx2-5', 'ndufaf3', 'slc1a4', 'fga', 'med21', 'znf879', 'tusc1', 'taf10', 'ccdc175', 'clnk', 'or6c70', 'c1orf162', 'emc8', 'tmem19', 'wdr93', 'ggt7', 'cptp', 'itpr2', 'iqsec1', 'znf346', 'plekhb1', 'enpp2', 'dand5', 'prkaa2', 'nol11', 'pdpk1', 'oas3', 'tmed2', 'shisa2', 'aplnr', 'tfpt', 'cdh11', 'usp17l7', 'zyg11b', 'esrp1', 'hmx2', 'fam3b', 'cplane1', 'zbtb22', 'ankrd62', 'st18', 'mapk8ip2', 'ppp1r3a', 'tlcd5', 'sf3b3', 'kiaa1671', 'fis1', 'hexa', 'fgg', 'thnsl1', 'kdm4a', 'dlg4', 'vamp7', 'necap2', 'mtus2', 'micos10', 'birc7', 'znf558', 'krtap4-2', 'shbg', 'chuk', 'ssr4', 'nlgn4x', 'gpr15', 'rbm12b', 'pole', 'htr1d', 'mageb2', 'add1', 'nsd3', 'klf8', 'tspan5', 'nudt12', 'insm1', 'ltc4s', 'trmt44', 'plg', 'arhgap11a', 'rcn2', 'ccdc120', 'rnf103', 'celf2', 'or10a3', 'ctps1', 'pak3', 'nemp2', 'qpctl', 'nwd2', 'armc3', 'fsip1', 'clec4d', 'myzap', 'pebp4', 'ppargc1b', 'emc9', 'ap1m2', 'tstd2', 'htr5a', 'cntn2', 'slc66a1', 'chrd', 'eef1akmt2', 'homer2', 'plekhf2', 'bhlhe22', 'svbp', 'kmt2a', 'bhmt', 'atp10a', 'aifm1', 'hormad2', 'or8b12', 'ugt2b17', 'carhsp1', 'kdm4d', 'or10g8', 'c12orf75', 'psmb4', 'tubgcp6', 'npl', 'notch2', 'lin7b', 'rybp', 'ankrd33', 'ift20', 'fam210b', 'catsperb', 'scml1', 'mcur1', 'znf491', 'fbxo16', 'supt4h1', 'ms4a8', 'bmpr1b', 'cercam', 'syp', 'ifit1b', 'tbr1', 'cpsf2', 'ppib', 'ccl11', 'pon2', 'rbp3', 'tecr', 'or5ac2', 'slc12a6', 'scaper', 'nrp1', 'drc7', 'kcna10', 'pigc', 'crygb', 'gtf3c1', 'sec11c', 'arf6', 'slc66a3', 'foxk1', 'adgrl1', 'cnr1', 'tbx21', 'camkmt', 'kcnh7', 'commd2', 'cmbl', 'spen', 'il5ra', 'mst1r', 'aspscr1', 'grm6', 'apobr', 'cdrt15', 'mmp20', 'tex12', 'trim15', 'c17orf99', 'pttg1', 'plpp6', 'pcbd1', 'klhl33', 'rai1', 'fgf7', 'phka2', 'ppp1r27', 'znf837', 'etnk1', 'oxct1', 'grin2b', 'ankmy2', 'ak7', 'luc7l', 'lmntd2', 'trim16', 'cntn4', 'trpc3', 'ccdc57', 'nsun2', 'fbp2', 'rhoh', 'ggcx', 'bcat2', 'bbx', 'ghsr', 'ccdc34', 'dimt1', 'irf2bp1', 'traf3ip1', 'or52i1', 'paqr6', 'cog5', 'capn13', 'got1l1', 'ccdc117', 'phf13', 'nphp4', 'a4galt', 'rundc3b', 'shox2', 'gramd1c', 'csnk2b', 'vdac3', 'sptb', 'or10h5', 'ppp4r1', 'trdn', 'fam209b', 'cpsf1', 'srpra', 'lonp2', 'orc4', 'sv2c', 'tas2r30', 'tmprss2', 'p3h2', 'ccl23', 'gpr17', 'phtf1', 'myo3a', 'tax1bp3', 'gja4', 'piga', 'klhdc4', 'fosl2', 'cspg5', 'mad2l1bp', 'pate1', 'ptpn2', 'ovol2', 'mpp6', 'dcaf10', 'nol9', 'cnga3', 'pot1', 'mmrn2', 'rasgrp1', 'prdm6', 'carnmt1', 'bambi', 'slc15a1', 'tmem115', 'efcab2', 'znf80', 'gpsm1', 'tbkbp1', 'c1orf21', 'prpf6', 'rs1', 'crispld1', 'gpr141', 'gorab', 'hmgxb3', 'erap1', 'rpusd3', 'tdrp', 'znf117', 'eppin', 'cep152', 'krt76', 'rab8a', 'lrrc37b', 'krt17', 'phactr3', 'apeh', 'skp2', 'kif7', 'ppic', 'pebp1', 'upk3a', 'bpgm', 'mstn', 'ctnnd2', 'tas2r9', 'sbk1', 'igsf23', 'ly6e', 'sfrp5', 'kcnk4', 'srxn1', 'map2', 'ik', 'prkce', 'rab14', 'bbof1', 'or2a14', 'prr3', 'c1orf87', 'tonsl', 'paox', 'zbtb3', 'nudt15', 'ddx54', 'nrgn', 'atf3', 'nup58', 'b2m', 'shroom3', 'or8h2', 'rbm34', 'tnfrsf25', 'dpt', 'neil2', 'eif4b', 'slc25a34', 'hand2', 'kbtbd4', 'mical1', 'gpr84', 'timm10', 'smyd4', 'tnik', 'c10orf62', 'slc26a2', 'nkx2-8', 'c15orf61', 'tmem218', 'lrriq1', 'dync1li1', 'fubp3', 'pdia3', 'cpa5', 'sos1', 'exosc5', 'defb119', 'gapdhs', 'ajap1', 'vps29', 'krt86', 'rspry1', 'fbxl8', 'nbr1', 'gpr119', 'sema4c', 'cr1l', 'hsh2d', 'cyb5b', 'brs3', 'ldlrap1', 'c9orf16', 'dhx30', 'oxsm', 'hba2', 'ccnl1', 'tnp2', 'klhl17', 'ep300', 'il1rl2', 'cnot3', 'tuft1', 'kirrel3', 'dcd', 'cd37', 'apol6', 'pkp1', 'pip4k2b', 'fam90a26', 'akr1b15', 'cdk16', 'nudt16l1', 'depdc5', 'slc26a4', 'gtf2ird1', 'kri1', 'abcb1', 'znf524', 'mid2', 'amer2', 'mtg2', 'taar5', 'lrrtm3', 'srd5a1', 'adk', 'c3orf84', 'pkd2', 'rnf130', 'sdk1', 'or4d9', 'abhd13', 'cask', 'cidec', 'tcf7l2', 'or4e2', 'nucb1', 'rtl10', 'trim21', 'ca5b', 'napepld', 'ca10', 'rasgrp4', 'chpf', 'znf660', 'tfcp2', 'ttc9', 'arl5c', 'sdk2', 'pycard', 'csn3', 'ralgapa2', 'or13f1', 'yif1a', 'rdh5', 'hspa12a', 'trip13', 'dgkq', 'spdya', 'aurkaip1', 'dclre1c', 'kif11', 'shoc2', 'gpr176', 'cdrt15l2', 'or5b12', 'bmf', 'tlcd2', 'mitf', 'atp4b', 'or5f1', 'fam171a2', 'nlrp13', 'nek8', 'sync', 'kcnk5', 'lysmd1', 'cd276', 'heatr1', 'col18a1', 'cd274', 'pura', 'ralgds', 'comtd1', 'commd8', 'chchd2', 'trpv3', 'lyzl2', 'iqce', 'magohb', 'vav3', 'smyd2', 'trafd1', 'sh2d7', 'rasl10b', 'mpl', 'ccnjl', 'spata31e1', 'dnajc9', 'pde4a', 'eef1akmt1', 'atp5mf', 'luc7l3', 'ffar3', 'tmem260', 'srsf2', 'fam219a', 'c16orf70', 'chmp1a', 'or51q1', 'usf2', 'large1', 'wdr55', 'asb4', 'tectb', 'cyfip1', 'znf587', 'pdp2', 'ppp1r13l', 'copz2', 'kif2c', 'adcy5', 'gype', 'arl11', 'cyld', 'or56a1', 'tuba1a', 'sh2b1', 'rad51b', 'ca14', 'ranbp3', 'slc5a12', 'scn3b', 'tinf2', 'il33', 'rnf114', 'or10c1', 'gpkow', 'trpm5', 'dusp2', 'or52k1', 'duox2', 'cd1d', 'dysf', 'fancd2os', 'bpnt1', 'slc17a5', 'ciz1', 'tanc1', 'gjd3', 'kiaa1755', 'tnmd', 'ccdc115', 'ckb', 'cry1', 'plch2', 'cdkn2d', 'golim4', 'ppp2cb', 'zkscan2', 'scaf1', 'llgl2', 'il2', 'znf546', 'sptbn5', 'clpsl1', 'calml3', 'gcat', 'pik3c2g', 'herpud1', 'gpr78', 'grip1', 'eif4ebp1', 'itgal', 'galk1', 'phrf1', 'scnn1a', 'usp19', 'mtif2', 'dusp9', 'tmem200a', 'cnnm1', 'ddit4l', 'lacrt', 'sstr5', 'fam221b', 'gpr31', 's100a12', 'agpat2', 'yod1', 'fam240c', 'neo1', 'chtf18', 'evc2', 'arrb2', 'gabrr2', 'pask', 'mcm7', 'or5m8', 'fundc2', 'or1c1', 'ctxn2', 'siglec7', 'apcs', 'osr1', 'garnl3', 'gsta1', 'nt5e', 'gprc6a', 'spag6', 'fam241a', 'lbh', 'apod', 'cdc42se2', 'elk4', 'sp8', 'tyrp1', 'acsf3', 'nap1l3', 'rasef', 'atn1', 'prkcb', 'lonrf3', 'slitrk2', 'nin', 'stath', 'dhrs12', 'ccdc152', 'tfeb', 'arhgef33', 'tmtc3', 'kazn', 'galm', 'aagab', 'pstpip1', 'ppm1m', 'gatad2a', 'krtap12-3', 'rgs1', 'slc35b2', 'tnfrsf19', 'gldc', 'tgm2', 'kiaa0753', 'irf3', 'rasgef1b', 'gphb5', 'arl15', 'pcmtd1', 'sh3rf3', 'vip', 'msantd3', 'zadh2', 'acy1', 'ncr3lg1', 'tnfsf9', 'sstr3', 'ahdc1', 'znf800', 'cisd1', 'fgd4', 'grhl2', 'pitx1', 'scly', 'ces4a', 'pdcd2l', 'hsfx3', 'tmem200b', 'mt-atp6', 'map3k20', 'tmem41b', 'dck', 'etf1', 'lynx1', 'znf625', 'znf606', 'morn2', 'trim44', 'pigh', 'pitpnc1', 'enah', 'scnm1', 'ubald2', 'xab2', 'syngr2', 'gpr25', 'ap5m1', 'kbtbd7', 'pcdh18', 'clstn2', 'loxl3', 'or7a10', 'tlr2', 'ppial4g', 'csnk1a1l', 'pdpn', 'prmt5', 'pdcd4', 'ppt1', 'lta', 'myl4', 'cox6a2', 'fbxo24', 'akap8l', 'bpifb1', 'chd4', 'niban1', 'znf215', 'gmip', 'rdh11', 'pds5b', 'pcdha12', 'nop56', 'cbln2', 'xage5', 'or2m7', 'six5', 'alkbh8', 'ppp2r1a', 'whrn', 'pcdhga8', 'r3hdm1', 'tlx1', 'tpmt', 'inppl1', 'gpr157', 'eci2', 'psmb7', 'spart', 'ruvbl2', 'myorg', 'ankra2', 'magt1', 'amotl2', 'clc', 'aldh3a1', 'cldn11', 'rnf214', 'ifi16', 'cdc34', 'fzd5', 'nck2', 'erp29', 'tnnt1', 'c16orf91', 'tmem54', 'plk1', 'nsl1', 'tmem40', 'irak2', 'atp5me', 'txnl1', 'grwd1', 'snx10', 'entpd8', 'pacsin2', 'znf431', 'sec61a2', 'anapc10', 'slc1a7', 'rab7b', 'actn2', 'krtap19-2', 'mid1', 'stam2', 'erich3', 'prss21', 'gstm3', 'pkig', 'tex2', 'dcaf17', 'yeats4', 'robo1', 'ankrd34a', 'kctd18', 'arfgef3', 'cubn', 'shmt1', 'dcaf4l1', 'fbxl2', 'ankrd1', 'ttc37', 'rnf169', 'atp6v1e1', 'polr3b', 'vash1', 'sprr3', 'tenm4', 'atp6ap1', 'znf253', 'fggy', 'ccdc28a', 'cfap53', 'ccdc138', 'anp32a', 'clec3a', 'ccdc174', 'znhit6', 'pdgfra', 'naa20', 'hspb8', 'or2ag2', 'abt1', 'dkk1', 'slc7a5', 'taco1', 'vax1', 'wwtr1', 'znf678', 'tsc2', 'ctnna3', 'kif3b', 'glp1r', 'taf11l12', 'vasn', 'ppil2', 'hs3st3b1', 'clcn4', 'zcchc17', 'ski', 'odf3l1', 'tagln', 'c1orf127', 'slc38a6', 'mxra5', 'casr', 'epcam', 'ahi1', 'ddx58', 'trim71', 'fam71b', 'mmaa', 'c9orf57', 'slc1a2', 'cdc42se1', 'brap', 'neurod4', 'snn', 'tgfbr3l', 'wdr70', 'hmsd', 'mfsd9', 'prdm4', 'pram1', 'znf98', 'eif2s2', 'fbxl3', 'akr7a2', 'prop1', 'tas2r7', 'qdpr', 'efnb3', 'slc5a1', 'il36b', 'tent5b', 'or2a2', 'catip', 'nqo2', 'ube2r2', 'nfatc1', 'foxred2', 'kctd3', 'baiap2', 'gfer', 'rfpl4al1', 'abca4', 'rnf183', 'cbarp', 'fgfr3', 'npy1r', 'clk2', 'taf12', 'map6d1', 'cxcl11', 'kif20a', 'senp6', 'vps41', 'rdx', 'cfi', 'pskh1', 'colgalt1', 'lrrc57', 'hagh', 'klhl21', 'rnasel', 'ddx27', 'isy1', 'dnajb8', 'syngr1', 'ermard', 'ccdc186', 'rpp38', 'bag1', 'dnaja2', 'fgr', 'wdr6', 'rasl10a', 'ttc7a', 'afp', 'arpin', 'c2cd4d', 'xpnpep1', 'ttc26', 'hps5', 'akap11', 'kcnn4', 'vegfa', 'slc30a10', 'dppa4', 'eno2', 'kcnf1', 'slc28a1', 'myo18b', 'cd302', 'mast4', 'hsph1', 'mt2a', 'slc22a2', 'smim10l1', 'prima1', 'aar2', 'rcc1', 'cd58', 'pdzd8', 'znf532', 'stimate', 'coa6', 'pam', 'fubp1', 'dnajb13', 'st14', 'xrn1', 'cyb5d2', 'cdhr5', 'serpina6', 'pcdha4', 'anapc13', 'defb126', 'trappc6a', 'tspan3', 'ube2o', 'fam171a1', 'pipox', 'lcp2', 'col2a1', 'c13orf42', 'cyb5rl', 'dnajc21', 'lhcgr', 'samd9l', 'unc119', 'c8a', 'kremen1', 'dprx', 'tmem53', 'dapk1', 'reep4', 'adamts13', 'tob1', 'fut10', 'plekhh3', 'ccn6', 'tmem156', 'susd3', 'nde1', 'hid1', 'fkrp', 'rlim', 'lzic', 'gmppa', 'scgb3a2', 'actrt3', 'slit3', 'ppp1r15b', 'npas4', 'maf', 'arhgef39', 'rmdn3', 'atxn7l1', 'ap5s1', 'cyp4z1', 'c6orf47', 'chd8', 'gprasp2', 'yeats2', 'trim54', 'krt15', 'epha6', 'svopl', 'snorc', 'scpep1', 'znf74', 'phf19', 'nrn1', 'pcmtd2', 'cfl2', 'sumf2', 'medag', 'fam76a', 'xkr3', 'tsr2', 'krtap20-1', 'prdm9', 'ptprs', 'plekhb2', 'chrnb2', 'ccdc167', 'onecut1', 'hoxc9', 'rnf13', 'fcer1a', 'eaf1', 'prm1', 'luc7l2', 'icos', 'snx33', 'or56a5', 'bbs10', 'haus3', 'prrg4', 'rdh8', 'cyfip2', 'krt6b', 'znf529', 'il17f', 'arhgdia', 'vwf', 'zdhhc9', 'il17a', 'scaf8', 'phldb2', 'upp1', 'dao', 'aff2', 'trim51gp', 'ebi3', 'tp53inp2', 'gdpd4', 'il19', 'pou5f2', 'ccdc130', 'dact3', 'slc25a12', 'smpdl3b', 'ptafr', 'lmcd1', 'slc30a9', 'islr', 'dusp1', 'prc1', 'sdf4', 'ephb1', 'zkscan4', 'creb3l2', 'chst3', 'ltb', 'gng5', 'cyp3a4', 'eif3e', 'znf710', 'chsy1', 'aoah', 'or7g2', 'mapkbp1', 'pla2g2c', 'helq', 'ptchd4', 'fzd3', 'ralyl', 'p2ry11', 'rita1', 'rapgef4', 'bap1', 'mylpf', 'rab40c', 'r3hdm2', 'rab4b', 'larp6', 'spns2', 'spire1', 'tnfrsf17', 'camk1d', 'ugcg', 'cblb', 'ndufb10', 'tmx3', 'miga1', 'hikeshi', 'nhp2', 'mtg1', 'asah1', 'lekr1', 'ibtk', 'prss41', 'lypd6b', 'mt1b', 'rell1', 'iqck', 'krt14', 'amy2a', 'impdh2', 'cndp2', 'lcn12', 'cd200', 'colq', 'phb2', 'acp5', 'cwf19l2', 'higd1a', 'mtbp', 'btbd2', 'setdb2', 'rogdi', 'taldo1', 'prag1', 'rnd1', 'snrnp27', 'accs', 'atp1a1', 'strip2', 'rpusd4', 'fgf21', 'hephl1', 'zpr1', 'scml4', 'pi4k2b', 'farsa', 'hectd2', 'hdac11', 'snrnp48', 'arl6ip5', 'glipr1l1', 'ttc19', 'grin1', 'pcdhga9', 'znf607', 'nobox', 'tpgs2', 'fcn3', 'bud23', 'znf251', 'rorc', 'stkld1', 'naa25', 'slc35b1', 'tef', 'znf71', 'ipo13', 'rtp1', 'gpr65', 'aox1', 'c4orf47', 'or6v1', 'rgs16', 'ascl1', 'palmd', 'oxgr1', 'tmem229b', 'ammecr1', 'ptprc', 'ccr9', 'chat', 'map4k3', 'dusp28', 'unc45a', 'pla2g4a', 'ugt1a4', 'prkcq', 'trappc5', 'zfp3', 'zmat1', 'ak9', 'pus10', 'or13c5', 'pxn', 'nup160', 'gimap6', 'plppr2', 'rreb1', 'pabpc5', 'trip11', 'lamc1', 'galc', 'nrg2', 'aldh1l2', 'dqx1', 'znf17', 'erc1', 'bscl2', 'sh3bgrl', 'hddc2', 'apob', 'pgpep1', 'tmem80', 'nbea', 'hif1a', 'tepsin', 'ip6k2', 'grip2', 'msh6', 'coa4', 'pfkfb1', 'slc7a14', 'smim30', 'amely', 'cd300lf', 'chrm1', 'tmem97', 'slc26a3', 'nhlh2', 'rai2', 'pno1', 'kif3a', 'tle7', 'ldb1', 'krtap5-1', 'plek2', 'ndufs2', 'uhmk1', 'tmem247', 'pqbp1', 'semg1', 'nhsl1', 'gdf15', 'pin1', 'arl8a', 'dusp14', 'tns1', 'pacs2', 'arhgap8', 'tmem271', 'dlgap4', 'gpr151', 'hgfac', 'gadd45a', 'uros', 'ptgis', 'pnma3', 'psmd4', 'aldh5a1', 'grb10', 'ccni2', 'znf593', 'plin4', 'pym1', 'or4l1', 'socs3', 'cldn7', 'gpr174', 'cacna1b', 'ddx42', 'exosc3', 'asph', 'kin', 'nop9', 'rragc', 'slc16a5', 'clta', 'cep95', 'nup35', 'lmln2', 'nmral1', 'mbp', 'spata31a5', 'uck1', 'ubqlnl', 'gpr149', 'tasor', 'rnf145', 'gnl3', 'dennd1c', 'nutf2', 'snrpd2', 'ppp2r3b', 'mapk9', 'sdhaf3', 'elf3', 'serinc5', 'stambp', 'pacs1', 'hcrtr2', 'trim43', 'vps37b', 'znf222', 'tro', 'adar', 'socs5', 'c5orf34', 'angptl5', 'fbrsl1', 'pde6a', 'epdr1', 'magoh', 'lhx9', 'camsap2', 'eno3', 'hoxb5', 'boll', 'ube2j1', 'psors1c2', 'nme2', 'srp68', 'mavs', 'rd3l', 'nub1', 'gpr3', 'gsg1l2', 'gsr', 'slc11a2', 'myrf', 'defb132', 'plcb2', 'tle1', 'or4x1', 'gsdmc', 'tbx1', 'ubqln1', 'cd8b2', 'cox7a2', 'c1orf159', 'spock2', 'brca2', 'nme6', 'ganab', 'uba2', 'slc30a1', 'klf14', 'uba5', 'polr3a', 'nxt2', 'odc1', 'arhgef16', 'znf552', 'tsnax', 'kcng3', 'dlg1', 'slc17a6', 'smpx', 'ccdc102a', 'igsf3', 'ldah', 'arl4a', 'or4d5', 'il3ra', 'atp8a2', 'u2af2', 'znf497', 'ddtl', 'rrp8', 'ranbp6', 'cryba2', 'tmem232', 'otx1', 'fcgr2a', 'pdcd10', 'gpnmb', 'kyat3', 'gps2', 'znf85', 'znf677', 'pitrm1', 'znf446', 'hint3', 'tmem114', 'tmem185b', 'zdhhc13', 'tm9sf2', 'hells', 'fcmr', 'rtn4rl1', 'zfr2', 'ess2', 'cd1a', 'stra6', 'klhl32', 'pappa', 'pitpnm2', 'vn1r4', 'esm1', 'mcu', 'phactr4', 'klhl25', 'prpf4', 'mmp2', 'drp2', 'polr2g', 'chrna7', 'odf2', 'cd9', 'tf', 'slc18a2', 'shc2', 'lad1', 'znf728', 'slc23a2', 'nell2', 'magea1', 'iqca1l', 'lpo', 'lrrc26', 'phkg2', 'krtap13-2', 'ubqln2', 'rnpep', 'tmem38b', 'znf202', 'mknk1', 'vps8', 'nfe2l3', 'thra', 'elavl2', 'isoc1', 'trpm3', 'zcchc4', 'tmem196', 'foxb2', 'lpl', 'atrip', 'dffa', 'daxx', 'adgrd2', 'zfp82', 'sdhaf4', 'slc25a28', 'septin4', 'maoa', 'tfdp2', 'ccdc146', 'klk5', 'vps45', 'or12d2', 'hspb7', 'eny2', 'igsf22', 'hsd11b2', 'znf835', 'sulf2', 'nkain1', 'c5orf22', 'xk', 'slc25a5', 'prok1', 'nbpf3', 'mbnl1', 'bnc1', 'setmar', 'rad23a', 'g6pd', 'fkbp15', 'abcb11', 'cyp51a1', 'abcc8', 'gtf2h3', 'smim32', 'siah2', 'nsg2', 'prg4', 'cers3', 'cd5', 'pi15', 'sucla2', 'tex46', 'patl1', 'smim31', 'glra2', 'gpat4', 'phf1', 'meaf6', 'mfsd1', 'slc39a13', 'ttr', 'adam8', 'c1orf226', 'page4', 'fbxo28', 'sec13', 'edc4', 'tcn1', 'nup88', 'pdcd1lg2', 'nrep', 'dok6', 'aga', 'dbr1', 'krt75', 'fcer1g', 'mkks', 'cxcr3', 'baiap2l1', 'nek11', 'npb', 'stx11', 'ube4a', 'slc9c1', 'trpv4', 'gfra4', 'dym', 'rflnb', 'bace2', 'sft2d1', 'pth1r', 'upk1b', 'atg16l2', 'agtr2', 'morn5', 'or8g1', 'rdh14', 'dnase1l2', 'c12orf29', 'flywch2', 'rspo3', 'cyp4f22', 'comp', 'ccdc125', 'dagla', 'lrtm2', 'lcn15', 'cops7a', 'pgm5', 'cacfd1', 'ptges2', 'tirap', 'nedd4l', 'irgc', 'hhla2', 'cd8a', 'enox1', 'mga', 'kif14', 'neurog1', 'gpx5', 'raver1', 'c12orf42', 'tlcd1', 'sytl5', 'hrc', 'prkcg', 'adam32', 'agr3', 'gmeb1', 'got1', 'pcdha6', 'gigyf2', 'kcng2', 'vwce', 'suco', 'pik3cg', 'mdh1', 'gtf2h4', 'ank1', 'ntf4', 'unc93a', 'calcoco1', 'emilin2', 'krt12', 'spata31a7', 'usp6nl', 'fam9b', 'gmnc', 'htr6', 'fam114a2', 'zbtb5', 'pm20d1', 'rnls', 'chsy3', 'dusp8', 'fezf2', 'fjx1', 'ppp1r37', 'rhd', 'nyx', 'rwdd2a', 'marveld1', 'tfap2d', 'ptgs2', 'ankrd42', 'pdzd11', 'vps72', 'c1qtnf4', 'pfdn1', 'brd2', 'c6orf58', 'hal', 'celf6', 'apol5', 'fam91a1', 'otub1', 'c1qbp', 'atp5f1e', 'gpm6b', 'itih1', 'rft1', 'edn1', 's100a11', 'ndufaf4', 'dus4l', 'ubl4a', 'cited1', 'kncn', 'tmem179b', 'znf407', 'map3k7', 'paqr7', 'mlxip', 'vps51', 'znf345', 'tiaf1', 'gabra5', 'bpifa1', 'vhl', 'dok4', 'defa5', 'gpr20', 'fignl1', 'washc3', 'mepe', 'bdkrb1', 'plaur', 'nubp2', 'msc', 'cck', 'sema4g', 'app', 'slc17a7', 'tg', 'fam104b', 'nmrk1', 'dhcr24', 'rtl8c', 'rph3al', 'znf20', 'nlgn1', 'pef1', 'sclt1', 'akap10', 'ppp3r2', 'ifnl1', 'cyp2r1', 'st3gal2', 'heatr3', 'pomgnt1', 'tomm40', 'zdhhc18', 'asic4', 'armc8', 'dvl2', 'sirpb1', 'fes', 'znf556', 'magee2', 'mdc1', 'apobec2', 'znf385c', 'lrrc74a', 'them4', 'phlda3', 'mex3c', 'cela2b', 'camsap1', 'spaca1', 'sec61a1', 'pex11a', 'klf12', 'zmynd11', 'stk24', 'spegnb', 'prr20g', 'tex49', 'rnf121', 'cep57', 'epha5', 'cobl', 'aldh3b2', 'ankrd2', 'gpha2', 'krtap12-2', 'plekhh2', 'padi3', 'znf48', 'pcsk7', 'syngr3', 'slc38a7', 'poldip2', 'eps15', 'rpe65', 'prkab2', 'fam83d', 'cabp7', 'tmem151a', 'reeld1', 'lilrb4', 'smagp', 'psmb8', 'birc5', 'tcn2', 'igfbp5', 'syt16', 'kmt2b', 'igfbp4', 'rnf19b', 'dapp1', 'arap1', 'cnpy2', 'lhx2', 'ciao2b', 'ppef1', 'hoxa7', 'insc', 'efhd1', 'tbx18', 'or2t33', 'kpna7', 'tas2r16', 'tsku', 'tuba3c', 'hoga1', 'mesd', 'ciita', 'nadk2', 'mettl21a', 'rnf144b', 'rcn1', 'kif25', 'slc6a18', 'arhgap28', 'fbxo41', 'st8sia3', 'ift52', 'ubxn8', 'chd6', 'or2m4', 'smim23', 'gfap', 'tbc1d5', 'or4b1', 'leprotl1', 'scg5', 'heyl', 'znf304', 'znf530', 'sncb', 'ier3', 'tmem128', 'sppl2b', 'tnfrsf4', 'ttll1', 'dap3', 'ndufs7', 'itih6', 'appbp2', 'gpx7', 'fndc1', 'sh2d4a', 'krtap19-5', 'pik3ca', 'ankrd22', 'tomm20', 'sema7a', 'polr2f', 'ppp2r5a', 'slc22a24', 'bok', 'c19orf18', 'acox3', 'nlrp10', 'fbxo10', 'gna12', 'hic1', 'itga7', 'trabd2a', 'adsl', 'parp14', 'ly6g6c', 'prkar1b', 'ppil4', 'capn1', 'bbs4', 'znf235', 'etaa1', 'nrp2', 'hif3a', 'retreg2', 'atp13a2', 'trmt10b', 'slc35d2', 'barhl1', 'phgdh', 'slc36a4', 'lcorl', 'st3gal1', 'gpatch2l', 'slc15a3', 'bcl2a1', 'ino80e', 'gprasp1', 'gtf2f2', 'tktl1', 'cbln3', 'fxyd6', 'igfl4', 'c1orf198', 'zranb1', 'agap3', 'fndc3a', 'cdh2', 'scamp5', 'ap3b1', 'cdc25c', 'lrrc8b', 'klhl7', 'sox17', 'ncor2', 'derpc', 'znf343', 'akap17a', 'cmtm2', 'tex38', 'pfkfb2', 'slc19a3', 'ipo11', 'rad51c', 'fut4', 'znf540', 'trim64b', 'ppm1j', 'flot1', 'brdt', 'fam71a', 'spata31a6', 'map3k11', 'actn3', 'btbd8', 'ubl3', 'irx5', 'dcakd', 'gck', 'nanos2', 'mindy4b', 'sstr4', 'cebpzos', 'cdo1', 'szt2', 'rufy3', 'arl2', 'zfyve19', 'ggh', 'otof', 'chdh', 'r3hdm4', 'gpbar1', 'gpr39', 'yy1ap1', 'taar1', 'egfl8', 'arx', 'gmps', 'tpm2', 'ly6g6d', 'gabre', 'pla2g4f', 'cacna1c', 'eif5b', 'fam222b', 'birc3', 'rarg', 'tnfrsf10b', 'lgals3', 'fabp12', 'b9d1', 'sdccag8', 'dmpk', 'ccdc33', 'rnf4', 'sgsm2', 'tceal7', 'c3ar1', 'bag3', 'spata31d1', 'idua', 'poln', 'dpp6', 'cd44', 'bcl11a', 'rasip1', 'apba1', 'spata24', 'slc30a2', 'cftr', 'gpatch4', 'znf165', 'rtl1', 'wdpcp', 'sirt5', 'gpx2', 'lhb', 'arhgef35', 'pgr', 'psmd14', 'zdhhc4', 'acadm', 'cep97', 'ccl3', 'apol3', 'lypd2', 'galnt12', 'znf250', 'pygo1', 'ifnk', 'ash2l', 'rpgrip1l', 'ugt2a1', 'taar9', 'mnx1', 'bpifa3', 'gemin8', 'wee2', 'nmnat2', 'rcl1', 'amot', 'tmco4', 'tsc22d3', 'pdx1', 'gpt2', 'ucp3', 'aqr', 'fam163b', 'mul1', 'nkx2-2', 'cyp8b1', 'gprc5c', 'ddx4', 'ovol3', 'lypd5', 'hspg2', 'c14orf28', 'tcea2', 'col1a1', 'bcl7b', 'mmp27', 'rbl1', 'hbegf', 'atpaf2', 'tnfrsf14', 'ndufs8', 'slc19a2', 'fam13c', 'tle4', 'tenm1', 'commd9', 'cldn24', 'fads3', 'slc29a1', 'cdh1', 'hpca', 'znf564', 'card6', 'brd8', 'xrcc3', 'lmnb2', 'bicra', 'slc38a3', 'pbx3', 'ang', 'slc33a1', 'spink9', 'pola2', 'secisbp2l', 'pik3ip1', 'cdkal1', 'adam11', 'mettl3', 'noc4l', 'mier1', 'bgn', 'klhl42', 'klk3', 'gsta2', 'wdr7', 'rfpl3', 'lhpp', 'dph3', 'spata21', 'klhl11', 'slc25a2', 'or5bs1p', 'arap3', 'bptf', 'lck', 'peak1', 'ankrd60', 'etdc', 'robo3', 'maea', 'pank1', 'runx1t1', 'tor1aip2', 'ttyh1', 'simc1', 'cd48', 'supt3h', 'defb110', 'extl1', 'znf844', 'gbe1', 'psap', 'slc40a1', 'tfap2a', 'gpr34', 'ppp5c', 'grifin', 'minar1', 'tra2b', 'spdef', 'slc12a5', 'shpk', 'zmym3', 'ssbp4', 'erich4', 'znf428', 'ccm2', 'anapc16', 'duoxa1', 'sap18', 'msx1', 'tnfrsf9', 'fancb', 'ptgdr2', 'tpgs1', 'gcnt7', 'suds3', 'rac2', 'gpr132', 'entpd7', 'vbp1', 'rab42', 'hspe1', 'ubl5', 'dusp11', 'pigr', 'glmn', 'ints9', 'sertad1', 'scfd1', 'irf1', 'irf2bpl', 'mroh7', 'tmem144', 'znf107', 'ptpa', 'ccdc184', 'tmigd2', 'znf534', 'bcas4', 'tcea3', 'zwint', 'mospd2', 'cyp2f1', 'slc8a2', 'atp5pf', 'gcdh', 'myt1', 'cnot6', 'prdm1', 'pdia2', 'slc16a11', 'smlr1', 'mrgprd', 'tal1', 'kansl3', 'tiam2', 'or10j5', 'ythdf3', 'fam89b', 'crlf3', 'abca6', 'atp8b3', 'irgq', 'fbxo4', 'sema4b', 'rnf185', 'cfap77', 'wtip', 'tbc1d2', 'gpr45', 'rpusd2', 'mapkap1', 'gtf2b', 'cacna2d2', 'gab4', 'hoxc5', 'trmt2a', 'alpk3', 'lrp3', 'naa15', 'gypa', 'zscan5a', 'arid3b', 'cuedc1', 'rln1', 'plagl2', 'rmi1', 'desi2', 'dusp10', 'lrrn4cl', 'ndst2', 'adh1c', 'htr3e', 'nrbp1', 'naaladl1', 'nup133', 'pbx1', 'magec2', 'zbtb38', 'fgl1', 'mat1a', 'mlx', 'hprt1', 'kcnip3', 'capn14', 'npy', 'glrx5', 'plekhs1', 'arhgef25', 'myh4', 'scamp3', 'brk1', 'foxr1', 'lrrc53', 'wdr74', 'fat2', 'cntnap2', 'defb129', 'hdac10', 'cenpt', 'hhla1', 'arl14', 'uspl1', 'bbc3', 'fuca1', 'trim38', 'thyn1', 'pmpca', 'cenps', 'spdl1', 'gbp1', 'rasa4b', 'zfand4', 'cfap54', 'myh1', 'krtap5-3', 'slc30a4', 'znf514', 'sike1', 'mgam', 'gramd1b', 'cldn15', 'nt5dc1', 'unc13b', 'fra10ac1', 'vcx2', 'pcbp3', 'tmem39b', 'arl4c', 'gnptg', 'scamp4', 'ccl24', 'ambra1', 'myo1e', 'ogt', 'lair2', 'asb18', 'cox7a1', 'rhbdl1', 'cpeb3', 'tpte', 'prss16', 'rhbdd3', 'ccnq', 'steap1b', 'phf2', 'chga', 'shkbp1', 'gbp6', 'nlrp14', 'arpc1b', 'msh5', 'naa50', 'znf727', 'ppm1k', 'slc22a9', 'kitlg', 'cox4i1', 'prps1', 'slc6a14', 'fam184a', 'csgalnact2', 'smarca2', 'nfe2', 'slc26a5', 'mtch2', 'hspa2', 'nsun6', 'tpst1', 'tpsg1', 'tmcc1', 'qrfp', 'rp2', 'gatc', 'rtp2', 'katnbl1', 'kat7', 'rnf148', 'atrnl1', 'ankrd40cl', 'lct', 'nkap', 'znf521', 'cwc22', 'akr1c4', 'plet1', 'tlk2', 'nectin2', 'ssna1', 'gucy2f', 'sprtn', 'lilra4', 'znf587b', 'cldn6', 'capn11', 'tcerg1', 'pole3', 'ndufa2', 'tex30', 'pars2', 'tead1', 'sfxn5', 'fam102a', 'slc43a1', 'slc2a3', 'lrp1', 'laptm5', 'ccdc70', 'wnk4', 'snapc1', 'zscan22', 'c20orf85', 'gk3p', 'ankrd6', 'abcg2', 'has2', 'wdr38', 'sp140l', 'cep76', 'eln', 'kcnmb3', 'defb125', 'parm1', 'krt79', 'or5b3', 'dele1', 'sepsecs', 'daz2', 'kpna4', 'abraxas2', 'cntln', 'rfc3', 'il17rb', 'ddx25', 'glyatl2', 'tpm1', 'rwdd4', 'acsbg1', 'chi3l1', 'psapl1', 'lhx5', 'hadha', 'sct', 'map4k2', 'jph3', 'mad2l1', 'znf784', 'ssr1', 'ccdc136', 'abcc2', 'c11orf54', 'dnmt1', 'vkorc1l1', 'slc50a1', 'fam13a', 'fshr', 'mgp', 'hp', 'pfdn5', 'tmem273', 'xkr7', 'btbd3', 'c1s', 'prx', 'phf23', 'tchhl1', 'catsper4', 'spata6l', 'mrfap1', 'krt38', 'cd79a', 'amer1', 'polr2i', 'lrp1b', 'prkcz', 'nxph1', 'taf1l', 'cnih2', 'zcwpw1', 'or2t1', 'coq8b', 'c1orf210', 'akap8', 'ap1s2', 'or4k2', 'rnase4', 'tnc', 'muc3a', 'usp3', 'nbas', 'scara3', 'irak4', 'mob2', 'miip', 'ssbp2', 'ets1', 'impg1', 'dennd6b', 'adh6', 'slc25a26', 'hmcn1', 'tmem250', 'tchp', 'p2ry2', 'aldh1a2', 'ttc39a', 'sh3glb2', 'wdr41', 'btbd11', 'npnt', 'txndc8', 'ccdc73', 'clec4a', 'ubac1', 'tpbgl', 'hrk', 'cd70', 'bcl7a', 'scube2', 'mri1', 'zcchc2', 'tusc2', 'plekhm1', 'prxl2a', 'slc9a3', 'timd4', 'tmem94', 'nrtn', 'tmem120a', 'ccdc9b', 'dnajc22', 'myc', 'glp2r', 'dync1i2', 'dusp5', 'nexn', 'srgn', 'lcnl1', 'gsg1', 'lce3e', 'tgfb3', 'kalrn', 'sirt1', 'vsig10l', 'tmem216', 'mpp2', 'gpr139', 'znf331', 'page1', 'mcts1', 'rrnad1', 'elovl6', 'ugt2b7', 'chrac1', 'dpep3', 'vash2', 'tcaim', 'cdk2', 'ube2ql1', 'cdrt4', 'slc26a7', 'serping1', 'mcf2l', 's100a6', 'znf334', 'zcchc18', 'kyat1', 'ppp1r3c', 'atp6v0d2', 'ccnf', 'dynll2', 'spo11', 'armcx5', 'c1ql2', 'usp17l2', 'pyroxd1', 'lpar2', 'zxdb', 'slc22a31', 'sema4a', 'arsf', 'rbm44', 'magec3', 'acad10', 'spi1', 'armcx4', 'rorb', 'sntn', 'hapln2', 'cep128', 'siae', 'inpp5k', 'p2rx5', 'frmpd2', 'sycn', 'hif1an', 'setd1b', 'faap24', 'timm8b', 'snx9', 'vamp5', 'dus2', 'slc5a7', 'slc25a29', 'capn12', 'bpi', 'mpped2', 'wdr19', 'ccnd1', 'ncr1', 'cfap97d2', 'chst5', 'mboat2', 'ncmap', 'b3gnt7', 'selenon', 'pygl', 'znf66', 'uxs1', 'kcna2', 'chst15', 'wdr88', 'agpat1', 'csnka2ip', 'cdk1', 'btaf1', 'cc2d1a', 'ptgir', 'egr1', 'moap1', 'parp16', 'kidins220', 'pwwp2b', 'pinlyp', 'aarsd1', 'tex101', 'cflar', 'pah', 'men1', 'galr3', 'grem2', 'bcar1', 'dbt', 'neu1', 'nop58', 'trim62', 'sdc1', 'ddx19a', 'tigd4', 'epm2a', 'adgra2', 'pbld', 'ism2', 'pyy', 'ezh1', 'or5c1', 'alyref', 'nol3', 'camk1', 'ifitm3', 'col4a2', 'lmtk3', 'fam149b1', 'rnf43', 'clns1a', 'ccnb2', 'ilf3', 'tbc1d10c', 'zkscan3', 'ppp2r5c', 'neto2', 'cfap52', 'csrp1', 'c20orf202', 'znf839', 'ghdc', 'ndufaf2', 'fgd2', 'top1mt', 'krtap9-6', 'or2d3', 'cd207', 'znf717', 'eea1', 'tbxa2r', 'atg10', 'azin2', 'prac1', 'cdkn1c', 'prr35', 'spry3', 'cox10', 'lratd1', 'sh3gl3', 'nell1', 'kdelr2', 'ddi2', 'med20', 'lrrc37a2', 'gage10', 'rnf223', 'amacr', 'c9orf131', 'tgoln2', 'hnrnpd', 'soga3', 'c1orf52', 'asb11', 'cenpk', 'osbpl10', 'nfkbia', 'cntn6', 'ticam2', 'mtx2', 'ak1', 'gdf3', 'pcdh20', 'myh3', 'twsg1', 'fam131c', 'fbl', 'fzr1', 'panx1', 'ikzf3', 'gnai2', 'aadacl4', 'numb', 'myl12a', 'preb', 'ccl8', 'wnt8a', 'srl', 'ccdc124', 'atg4d', 'pcyox1', 'kcne5', 'crip1', 'btbd19', 'dennd2d', 'c8orf89', 'unc13d', 'zkscan7', 'selenoh', 'mcm9', 'apela', 'ctdp1', 'znf430', 'fermt1', 'cxadr', 'slx4ip', 'mpv17', 'hoxa3', 'iqsec3', 'atg2b', 'tia1', 'galnt13', 'or10a6', 'pigu', 'hpr', 'slc3a1', 'lyzl1', 'stard7', 'tmem177', 'klf7', 'lrwd1', 'dydc1', 'enthd1', 'ndufa3', 'rock1', 'rnaseh2c', 'prr29', 'samd8', 'scd', 'bhlhe40', 'ankrd49', 'tnfrsf10a', 'papolb', 'rxrb', 'nbn', 'mamdc2', 'hoxb7', 'pcare', 'uncx', 'depdc1b', 'vps37d', 'ano6', 'ginm1', 'kiaa0895', 'rabgap1l', 'ano4', 'med29', 'coil', 'muc5ac', 'drg2', 'krtap13-4', 'wdr92', 'or2g6', 'kcna7', 'tbc1d15', 'ebna1bp2', 'uba6', 'dgke', 'tarbp1', 'pogk', 'leng9', 'tsc22d2', 'dner', 'snapc5', 'cxcl6', 'sel1l2', 'nit2', 'fam76b', 'zbtb16', 'bco1', 'gpr1', 'slc32a1', 'gk5', 'usp6', 'wdr31', 'zc3h12a', 'septin12', 'znf548', 'lrrc73', 'prepl', 'fam168b', 'cggbp1', 'fcer2', 'npr2', 'ift57', 'fkbp8', 'ifitm10', 'stim2', 'igbp1', 'myh13', 'hdx', 'c8b', 'pcdha8', 'vsig2', 'bcl2l15', 'fbxw2', 'bmerb1', 'ccdc195', 'or2t34', 'mb21d2', 'angptl2', 'slc2a13', 'mbnl2', 'gpx6', 'snap29', 'arhgap18', 'adcy3', 'cckar', 'larp7', 'sesn2', 'col20a1', 'ccl4l2', 'cacna1i', 'cfh', 'gh1', 'brix1', 'asb8', 'mgat4d', 'havcr2', 'pola1', 'epb41', 'stil', 'slc25a14', 'itgb1bp1', 'rbm11', 'pgap1', 'vstm1', 'hdc', 'adm2', 'nkx1-1', 'pld3', 'ssr3', 'ly6g5c', 'c16orf86', 'egfr', 'efcab14', 'znf510', 'dnajb12', 'bccip', 'emc6', 'ppt2', 'prr22', 'hnrnpul1', 'shisa8', 'znf322', 'coq7', 'clpsl2', 'emg1', 'gsc', 'spryd3', 'slc25a48', 'pan2', 'dbn1', 'traf3ip3', 'polr2e', 'faslg', 'gtf2e1', 'dcaf4', 'ipp', 'vezf1', 'arf4', 'serf2', 'sap30bp', 'mepce', 'rnf149', 'taf11l8', 'shisal1', 'slc41a3', 'gorasp1', 'c6orf15', 'wfdc3', 'jakmip3', 'mmp26', 'cntnap5', 'grik5', 'pzp', 'slc5a2', 'mmel1', 'ankrd24', 'wiz', 'znf146', 'dedd', 'slc5a8', 'znf585b', 'or4c11', 'tmem59l', 'smad3', 'pigp', 'c1orf194', 'slc9b2', 'scgn', 'mettl16', 'fat3', 'ccny', 'mafg', 'znf554', 'ribc2', 'tssk1b', 'atp10d', 'fabp4', 'rabl6', 'tcf21', 'rnf25', 'slc6a15', 'bmp7', 'fpr1', 'zscan10', 'cops4', 'prok2', 'radil', 'mfsd2b', 'slurp2', 'stap2', 'ppp1cc', 'tmem131', 'lpar4', 'maob', 'lrpprc', 'dglucy', 'atp11b', 'bin2', 'kprp', 'mbd3', 'atl2', 'puf60', 'angptl7', 'spdye1', 'kctd1', 'nifk', 'cldnd2', 'fam133a', 'gjb6', 'hepacam2', 'klf6', 'pc', 'tacc3', 'lgr5', 'dab1', 'pdgfd', 'wipf3', 'poli', 'lrfn2', 'phf3', 'ano1', 'atg13', 'b3galnt2', 'mfng', 'smim17', 'tmem52b', 'lpp', 'znf142', 'spatc1l', 'sparcl1', 'ift88', 'pigx', 'or5m3', 'cyp19a1', 'c12orf50', 'podn', 'dtx1', 'cul5', 'slc6a13', 'ttll6', 'stab2', 'ucma', 'gdf9', 'wnt7a', 'cdk5', 'slc35b3', 'ago2', 'klrg1', 'akr1c2', 'prps1l1', 'spem1', 'rhot1', 'tns4', 'dipk1b', 'kdsr', 'znrf4', 'rgs19', 'zbtb18', 'terf1', 'rep15', 'ttc28', 'ripk1', 'pglyrp1', 'cdc25a', 'ddx50', 'cfap99', 'or6b2', 'washc5', 'tmem127', 'scn1a', 'syf2', 'or51a2', 'drd2', 'gsto1', 'epha4', 'adm5', 'rsrc1', 'znf536', 'wrn', 'psmd5', 'vwa3a', 'cdkn2b', 'bsph1', 'znf282', 'prkar2a', 'dmwd', 'anln', 'zbtb34', 'tal2', 'chrm3', 'setd9', 'ube2q2', 'isx', 'sertm2', 'oprl1', 'rnf213', 'or7c1', 'pkdrej', 'psip1', 'prb3', 'tp53i3', 'wnt10a', 'senp5', 'arms2', 'trim13', 'srek1ip1', 'pcid2', 'anxa8', 'dcxr', 'sumo2', 'mrgpre', 'ier3ip1', 'eogt', 'ervfrd-1', 'dmrt3', 'sult1c3', 'fbxw12', 'neurl2', 'sergef', 'slc38a11', 'manf', 'terf2', 'znf134', 'ube2m', 'lce6a', 'fmo4', 'lpin3', 'fchsd2', 'slc30a3', 'gpatch3', 'raet1e', 'cort', 'adgrf5', 'gprin2', 'rfx7', 'map3k8', 'septin10', 'diras3', 'hjv', 'pigw', 'slc49a3', 'znf708', 'glis2', 'fam83f', 'cacna1f', 'clec3b', 'abhd15', 'bmp8a', 'kcnk15', 'fam161a', 'zmat4', 'aspn', 'galnt18', 'tmprss11b', 'pum2', 'cep120', 'sp7', 'calhm3', 'ampd1', 'tmem204', 'cd86', 'snrnp40', 'znf136', 'cdon', 'kctd17', 'pitpnm1', 'snupn', 'dnai2', 'elof1', 'ttll11', 'psmd3', 'ifit1', 'rnase13', 'sdc2', 'rbm43', 'rapsn', 'rbm26', 'ccdc82', 'tnfaip8', 'hey2', 'srbd1', 'mbtps2', 'dyrk4', 'mcmdc2', 'rasd2', 'tns2', 'kctd20', 'herpud2', 'agxt', 'kif1b', 'aasdh', 'uroc1', 'penk', 'ctsc', 'lmf2', 'nrarp', 'dntt', 'utp3', 'atp5mc2', 'ung', 'fam81b', 'rimklb', 'lsp1', 'cst6', 'zmat3', 'c3orf18', 'ank3', 'pcdhb15', 'galnt8', 'wapl', 'znf589', 'dock5', 'ttc23', 'c15orf62', 'cyth3', 'rfng', 'maml3', 'vxn', 'mtrf1l', 'tigd5', 'sall2', 'hbg1', 'npy2r', 'parp8', 'tor1a', 'ddost', 'neurod2', 'znf347', 'tbc1d1', 'rab24', 'tp53tg5', 'chn1', 'or6b1', 'zfp36l2', 'or52i2', 'or7d2', 'bclaf3', 'armc2', 'arhgef17', 'gpc6', 'cks1b', 'krt27', 'avp', 'chrna6', 'igfl3', 'aurka', 'map3k15', 'nxpe4', 'dhx40', 'kiaa2013', 'mta3', 'fam178b', 'ctdspl2', 'pth2', 'gan', 'tfb2m', 'tnfrsf8', 'eid2b', 'bag5', 'klhdc8b', 'dus3l', 'samd4a', 'sarnp', 'spon2', 'cers2', 'vnn2', 'secisbp2', 'tspan9', 'tcf23', 'atp5f1d', 'rbsn', 'thap2', 'enkd1', 'hmces', 'snapc3', 'pttg2', 'fmo5', 'scn3a', 'opn1sw', 'ervv-2', 'arl5b', 'cecr2', 'znrf3', 'znf774', 'ube2w', 'cyb5d1', 'myo7b', 'clic3', 'ctdsp1', 'ttbk2', 'dnm1', 'spanxn3', 'tmsb10', 'gimd1', 'pom121l2', 'or2t4', 'oprk1', 'cdc42ep2', 'plp2', 'chic1', 'dcstamp', 'znf281', 'lrrc19', 'mtnr1b', 'mov10', 'ppp1r35', 'rasa3', 'dcaf8l2', 'ciapin1', 'aqp10', 'bcat1', 'syne1', 'repin1', 'ntmt1', 'ptk7', 'or8b8', 'ahcy', 'rad51', 'gla', 'esrp2', 'pthlh', 'serpina9', 'ccar2', 'fhit', 'pla2g7', 'arhgap25', 'col16a1', 'abracl', 'prmt2', 'gltp', 'cped1', 'pggt1b', 'ctsh', 'rnase7', 'ajm1', 'gga1', 'slc6a20', 'c11orf21', 'drgx', 'pon3', 'pced1b', 'apc', 'cpm', 'usp25', 'tiam1', 'cxcl1', 'eif3m', 'kera', 'pdcl2', 'ptch1', 'ndufa6', 'fanca', 'ccng1', 'ccdc85b', 'sfn', 'sh2d1b', 'eri2', 'mcam', 'pusl1', 'ddx3x', 'fam9a', 'phactr2', 'dse', 'snap23', 'psme4', 'fgf19', 'lum', 'gpr18', 'opalin', 'smim33', 'clec20a', 'sipa1l2', 'lce4a', 'sost', 'ttl', 'alad', 'gp6', 'gnaq', 'vwa5b1', 'acot4', 'adgrg6', 'dhh', 'ccer1', 'ccdc14', 'foxn2', 'gramd2b', 'prrg1', 'yrdc', 'dhcr7', 'tspyl2', 'plscr4', 'eif3b', 'mal', 'baiap2l2', 'lgi4', 'pcm1', 'cyp26b1', 'epha7', 'nfyb', 'crppa', 'aco1', 'dcaf11', 'lgi2', 'or11a1', 'eef1b2', 'padi6', 'clecl1', 'or51a4', 'or6c74', 'mt-nd2', 'nmt2', 'cdc123', 'arih2', 'c2cd5', 'cd27', 'mterf3', 'paxx', 'mtmr7', 'slf1', 'cwc27', 'ascl5', 'atp6v1b1', 'psmd1', 'itprip', 'odf3b', 'fbxw5', 'ccnj', 'tymp', 'pik3c2b', 'rbm42', 'c1orf68', 'sqle', 'slc27a6', 'polk', 'rgs9bp', 'rac1', 'srrm2', 'dkc1', 'tp53bp1', 'tigit', 'ngf', 'stard4', 'zmynd10', 'tspan4', 'megf10', 'rbm20', 'traf3', 'muc5b', 'scaf11', 'grhl1', 'rell2', 'frk', 'cldn19', 'batf', 'elovl4', 'styx', 'ramp2', 'rnf170', 'htatip2', 'aire', 'wdr13', 'dctn1', 'pip', 'dennd2a', 'ufsp1', 'mbip', 'sh3gl2', 'igsf9b', 'c17orf97', 'rffl', 'znf44', 'hsf2bp', 'sla', 'prdx1', 'cyp2c18', 'tnfrsf18', 'draxin', 'rhobtb3', 'ccn2', 'grk2', 'pds5a', 'pdzd2', 'mln', 'ifngr1', 'ankk1', 'krtap25-1', 'perp', 'trib3', 'xkr5', 'cdk5rap2', 'kif26b', 'mme', 'ppie', 'caps2', 'crct1', 'dhx15', 'ccl16', 'hsd17b13', 'sh3pxd2b', 'dnttip2', 'surf4', 'or1a1', 'mta2', 'ndufaf8', 'ctdnep1', 'astn2', 'dis3l', 'barx2', 'fam217b', 'sae1', 'ppp1r26', 'adgrb2', 'srp19', 'jcad', 'atp11a', 'tbc1d21', 'lims2', 'hsdl2', 'gns', 'egflam', 'wnt5b', 'fahd2a', 'ubxn10', 'tsfm', 'fam187b', 'ankrd30a', 'mia2', 'tctn2', 'tmem51', 'lyrm4', 'golga5', 'homer1', 'ppp4r4', 'akna', 'cnep1r1', 'rbbp9', 'trnp1', 'spata46', 'prr16', 'marveld3', 'znf350', 'irs4', 'calca', 'ndufs1', 'prg2', 'atad5', 'phkg1', 'bik', 'immt', 'pxk', 'kif19', 'eml6', 'tmem91', 'igfl1', 'pmm2', 'trmt12', 'b4galt5', 'pcdhga10', 'mettl22', 'litaf', 'fbxo15', 'aadacl2', 'kynu', 'ppp1r3d', 'rhoa', 'ints10', 'iqgap3', 'camk2n2', 'yipf1', 'samd12', 'bmp8b', 'nt5c1a', 'heg1', 'elf2', 'slc10a7', 'znf131', 'sec24c', 'arfip1', 'fancg', 'c17orf78', 'eef2', 'smtnl2', 'gbx2', 'ccdc163', 'dspp', 'ankrd55', 'pramef2', 'znf225', 'dhx29', 'ube2e2', 'padi1', 'fndc3b', 'bak1', 'foxp2', 'caprin2', 'plcz1', 'znf154', 'kti12', 'il1r2', 'mfap3', 'slc26a8', 'gatad2b', 'kiaa0319', 'l3mbtl3', 'aco2', 'rpp40', 'prep', 'adgrg3', 'lcn8', 'nphp1', 'habp4', 'copg2', 'trim47', 'radx', 'tspan10', 'abcg5', 'fmc1', 'oosp2', 'mccc2', 'rln2', 'tmem219', 'ubr7', 'tasp1', 'hspa1l', 'aqp3', 'arl6ip1', 'duoxa2', 'atp4a', 'mbd5', 'smarcad1', 'cenpo', 'manea', 'or52w1', 'kiz', 'ddx55', 'adcyap1', 'adad2', 'dld', 'neu2', 'c8orf34', 'esyt1', 'dsp', 'fh', 'slc22a18', 'tchh', 'hus1b', 'mageb5', 'tecpr1', 'tyr', 'agfg1', 'tceal6', 'cbfa2t2', 'ubox5', 'tdrd6', 'ebf3', 'rabl3', 'insyn2a', 'bmx', 'or1n1', 'zbtb32', 'ptpra', 'crcp', 'lmod2', 'greb1', 'tdrd5', 'g6pc2', 'pou2f3', 'stat2', 'snrk', 'stac2', 'rnf212', 'or4k13', 'ubxn4', 'trim40', 'galnt10', 'psma7', 'hmgn5', 'smu1', 'ascc1', 'atf7ip2', 'adgb', 'magea12', 'cyp3a7', 'usp17l1', 'zkscan5', 'c8orf74', 'atp10b', 'rhbg', 'rrs1', 'sapcd2', 'upf2', 'obsl1', 'brsk2', 'evi5l', 'lrrc3', 'macf1', 'foxd2', 'mthfd2l', 'ttc21b', 'or51s1', 'hectd1', 'gfra2', 'samd4b', 'cd28', 'erp44', 'ero1a', 'chrdl2', 'tnfrsf12a', 'bace1', 'znf33a', 'rpe', 'ddx41', 'ifit5', 'cdc42bpa', 'fblim1', 'lgals7', 'eapp', 'atp6v1e2', 'baiap3', 'klf15', 'synpo2l', 'alox5ap', 'atp6v0c', 'tpd52', 'smim10l2a', 'elane', 'ppp1cb', 'nup210', 'defb123', 'wfdc11', 'syngap1', 'mageb10', 'alkal2', 'si', 'dpm1', 'tas2r39', 'hook1', 'serpini1', 'copg1', 'cda', 'rrm1', 'ccnb3', 'atp11c', 'nme4', 'sigirr', 'prr27', 'fzd9', 'uhrf1', 'psmd13', 'zfp41', 'sp3', 'fli1', 'prmt3', 'smad6', 'isyna1', 'tmed4', 'or51c1p', 'dph5', 'abhd4', 'smim22', 'ascl4', 'popdc3', 'serpina10', 'cd2ap', 'armh4', 'ifi6', 'or13g1', 'nek7', 'sorcs2', 'pofut2', 'cxcl2', 'c17orf58', 'klf13', 'pdf', 'tsga10', 'acp4', 'pnoc', 'gap43', 'znf396', 'vn1r1', 'npm2', 'znf891', 'trpc4ap', 'metrn', 'gnl2', 'taf6', 'pramef27', 'paxip1', 'csnk1a1', 'tmem64', 'retsat', 'rwdd1', 'kiaa1586', 'tmod1', 'znf26', 'nol4', 'znf429', 'pfkp', 'pudp', 'jrk', 'tbc1d9b', 'fxr1', 'mettl14', 'sema3e', 'dact1', 'hemk1', 'tuba4b', 'znf592', 'map6', 'synj2', 'enkur', 'snd1', 'arg1', 'hnrnpc', 'brf2', 'saxo1', 'trub1', 'il22ra2', 'arr3', 'mpdz', 'klhl36', 'tnks', 'fbxo43', 'ndrg2', 'acin1', 'emp3', 'foxr2', 'dcdc2b', 'ppp4c', 'ccl26', 'ap4e1', 'myef2', 'lgals3bp', 'bcl11b', 'ranbp17', 'gpr101', 'ankzf1', 'or10w1', 'sage1', 'slc28a3', 'aldh2', 'fam237a', 'reep5', 'ano9', 'copb1', 'morn3', 'apol4', 'sumo3', 'krtap4-16', 'rcc2', 'nr1i3', 'atraid', 'psmg4', 'slc9a4', 'mutyh', 'chrng', 'zfp64', 'anks3', 'map3k2', 'krt28', 'nup210l', 'pmp22', 'amph', 'aaas', 'sec14l1', 'arl1', 'shc4', 'fut6', 'mfsd2a', 'ca3', 'rbp5', 'nipal2', 'trabd', 'kif4a', 'katnb1', 'mtfmt', 'sdcbp2', 'eqtn', 'nap1l4', 'nbdy', 'ugt2a3', 'col4a5', 'gpd2', 'med18', 'rin1', 'znf747', 'nelfcd', 'lyz', 'med26', 'mrc2', 'selenos', 'spcs3', 'oaz1', 'il17d', 'acap2', 'cdh17', 'liph', 'espnl', 'smarce1', 'dhrs13', 'mxra8', 'ankrd16', 'tph2', 'pawr', 'espn', 'fam151b', 'rnf208', 'dtd2', 'plscr2', 'rtcb', 'klhl28', 'casp6', 'samd11', 'il2rb', 'samd9', 'defb118', 'prune2', 'baz2a', 'msmp', 'plin1', 'hectd4', 'tpd52l2', 'or6n2', 'efcab7', 'gspt2', 'fbxl18', 'znhit2', 'lamtor3', 'cavin3', 'wdr83os', 'grxcr2', 'fam171b', 'sorbs2', 'erfl', 'kcnt2', 'ppp1r32', 'nkd2', 'rassf8', 'aff4', 'or2ag1', 'atp6v0e2', 'c1orf54', 'gbf1', 'panx2', 'panx3', 'acp1', 'mon1a', 'tmem39a', 'hsp90aa1', 'nebl', 'ppp2r3a', 'or5d18', 'wdr89', 'eif2b5', 'or5w2', 'insig1', 'ldlrad3', 'ca12', 'mast1', 'nrxn1', 'rtn2', 'rhoj', 'mpg', 'tmem18', 'nyap2', 'gmpr', 'hs3st2', 'cenpl', 'cfap36', 'micu2', 'lama2', 'haus2', 'klhl34', 'a1cf', 'or7d4', 'glb1', 'lingo3', 'treml4', 'cx3cl1', 'galntl6', 'pskh2', 'dipk1a', 'cavin2', 'colec11', 'tk2', 'theg', 'pxdc1', 'tuba1c', 'cfap61', 'erich5', 'krtap5-7', 'krr1', 'znf821', 'slc25a21', 'aasdhppt', 'ror1', 'peg10', 'mff', 'tram1', 'cacul1', 'aoc1', 'tprn', 'nosip', 'tdrd3', 'trim64c', 'cenpvl3', 'tbk1', 'or2b6', 'gnl3l', 'cxxc5', 'ppid', 'pgm3', 'mrm2', 'ddhd1', 'galnt16', 'wrap53', 'rspo2', 'ndufa5', 'reg3a', 'pros1', 'col8a1', 'ppfia3', 'ccdc127', 'scgb1d1', 'polrmt', 'kcmf1', 'bcl9l', 'thsd8', 'or4c5', 'hoxb1', 'znf688', 'ccdc166', 'mknk2', 'rp9', 'ccndbp1', 'plcxd2', 'hnmt', 'aldh1a3', 'ssr2', 'med12', 'khdrbs2', 'pus7', 'zbtb33', 'stx16', 'eya4', 'ptbp3', 'slc9a2', 'smc5', 'yy2', 'fkbp1b', 'ugp2', 'alox15b', 'wasl', 'tff2', 'golph3l', 'mcemp1', 'ranbp10', 'tnfrsf10c', 'pianp', 'aebp1', 'arhgef18', 'ttk', 'fem1a', 'dpp7', 'slc25a23', 'pf4', 'srf', 'fscn1', 'tmem119', 'carf', 'lin28b', 'jph1', 'usp9x', 'tcp10l', 'hnrnpk', 'acacb', 'fam214a', 'rab6a', 'prg3', 'c16orf78', 'enosf1', 'cemip2', 'hdac3', 'upf1', 'zfp36', 'upb1', 'sox3', 'fpr3', 'helz', 'amhr2', 'atp23', 'taf11l6', 'vrk2', 'cbx4', 'cdkn2aip', 'wscd1', 'thbs1', 'nr2e3', 'hnrnpa2b1', 'scin', 'hmga1', 'abhd16a', 'slc26a9', 'ccnc', 'lax1', 'nkx3-2', 'clec16a', 'otud3', 'ncf2', 'mgat4a', 'chst12', 'vsig10', 'irs1', 'hmgcl', 'cog8', 'pcsk6', 'arhgef19', 'mmp3', 'nudt3', 'teddm1', 'ftcdnl1', 'kcnj1', 'pus1', 'or1g1', 'hspb11', 'alkal1', 'zic2', 'kpnb1', 'dbf4', 'samsn1', 'syt9', 'trim56', 'rhbdd2', 'ddx56', 'gpn1', 'myrfl', 'cd164', 'pmfbp1', 'prpf40b', 'dipk2b', 'slc2a12', 'smim7', 'idnk', 'b4galnt3', 'rrm2', 'ralb', 'cngb3', 'syncrip', 'ovch1', 'wdr1', 'bicd1', 'camk2d', 'ddx59', 'rab11fip5', 'sag', 'kbtbd8', 'fut3', 'mybpc1', 'magea9b', 'ldb3', 'nfkbib', 'daglb', 'brip1', 'ripk4', 'ubxn1', 'tmprss9', 'ngdn', 'dcdc1', 'gab3', 'esco2', 'dph7', 'tti2', 'znf790', 'bach2', 'foxi2', 'atf7', 'nexmif', 'dynlrb1', 'unc13c', 'adnp', 'gse1', 'nras', 'dclre1b', 'cep192', 'fam117b', 'cyp2j2', 'uqcc3', 'armcx6', 'azgp1', 'sult1e1', 'nipbl', 'bcs1l', 'znf609', 'smim20', 'fbxo9', 'rab33a', 'pik3cb', 'chst11', 'kctd10', 'grm7', 'or6s1', 'lrrc8d', 'entpd4', 'slco5a1', 'pafah1b3', 'taok2', 'sat1', 'nckap5', 'gle1', 'ins', 'atmin', 'faim2', 'pld2', 'dnase1', 'pkib', 'pttg1ip', 'tmtc4', 'ngrn', 'fam240a', 'mfsd10', 'mtmr9', 'tnnt2', 'f2rl1', 'mob3c', 'tril', 'myl6b', 'cdh9', 'gpam', 'ep400', 'cldn23', 'asb2', 'sugp2', 'acp6', 'senp1', 'naa16', 'prtfdc1', 'pdpr', 'renbp', 'pnldc1', 'flot2', 'cd160', 'kif24', 'cdc7', 'zfhx3', 'znf230', 'pkp3', 'trpc6', 'grtp1', 'nwd1', 'dna2', 'c3orf70', 'rbmxl2', 'klhl18', 'ska3', 'vegfc', 'adamts14', 'nceh1', 'hsd17b2', 'ubr5', 'rab39a', 'pycr2', 'faim', 'camlg', 'slc37a1', 'tomm22', 'c1qtnf7', 'zbtb45', 'ccdc12', 'cidea', 'plcl2', 'cabs1', 'tmem182', 'exosc7', 'arl6', 'bex1', 'cfap57', 'mrm1', 'znf771', 'fam210a', 'vangl2', 'fbn2', 'znf804b', 'gjb1', 'mindy2', 'tyk2', 'gprc5b', 'srgap3', 'tmem95', 'cd300lg', 'gpr33', 'aifm3', 'dmxl2', 'sik2', 'gpr137', 'ccdc17', 'scai', 'bdkrb2', 'eif2ak4', 'lilrb1', 'sec22c', 'hspa5', 'myl12b', 'tspan14', 'fam71f2', 'dpysl5', 'emx2', 'lalba', 'mier2', 'usp21', 'kcnk12', 'immp2l', 'mpv17l2', 'patj', 'e4f1', 'pex11b', 'ivl', 'creb3l4', 'lnx1', 'grin2d', 'slc31a1', 'cnbd1', 'pcsk1n', 'inf2', 'cyp2a7', 'bcl6', 'itgax', 'dcaf1', 'kit', 'adamts16', 'scn4a', 'actg1', 'sltm', 'tpte2', 'grid2', 'znrd2', 'alox5', 'rhod', 'dync1i1', 'taok3', 'cfp', 'unc5d', 'krtap19-3', 'erfe', 'pcdhb9', 'def6', 'p2ry8', 'nat9', 'ccar1', 'ror2', 'tex54', 'kif18b', 'inka1', 'malsu1', 'nr2f1', 'ventx', 'nsmce1', 'col4a6', 'ppp3r1', 'ugt3a1', 'nrros', 'spred1', 'cryzl1', 'nubpl', 'limk2', 'pabpc4l', 'tfb1m', 'c2orf16', 'txndc12', 'polr1d', 'tiprl', 'tmem167a', 'fbxo30', 'cd4', 'ccdc6', 'dmrtc2', 'trim28', 'lrrc72', 'susd4', 'lrrc66', 'soat1', 'nek4', 'svop', 'synpo', 'strn', 'tmem170a', 'muc1', 'p2ry1', 'cd247', 'mos', 'spata48', 'afm', 'rbp7', 'rbpj', 'cyp11a1', 'rpain', 'samm50', 'alkbh4', 'rbm6', 'ldlrad4', 'rnase1', 'tom1', 'rcan2', 'mrfap1l1', 'trpc4', 'il6', 'emx1', 'mctp1', 'tead4', 'tmod2', 'ppm1e', 'galr1', 'mfsd8', 'med4', 'meis2', 'brcc3', 'ap1m1', 'rab2a', 'bcl6b', 'brsk1', 'rfx2', 'polr3e', 'ybx1', 'tas2r50', 'dennd2c', 'rgs6', 'paqr3', 'ddit4', 'acat2', 'cebpz', 'ifna7', 'nuak2', 'thumpd1', 'fcgbp', 'fez2', 'anks1a', 'il20', 'rbm39', 'notch3', 'lyg1', 'lrba', 'shprh', 'actl7a', 'cmas', 'nt5dc3', 'bbs2', 'dpf1', 'plcb1', 'sppl3', 'aadac', 'scube3', 'igf2bp3', 'gpx3', 'prrt2', 'dpyd', 'ptpn1', 'plk3', 'txlnb', 'kdm5a', 'wdr64', 'pnkd', 'pygm', 'ccdc182', 'apc2', 'efna1', 'or4f6', 'rsph3', 'arrdc1', 'tapbpl', 'il20ra', 'tomm40l', 'hbz', 'il10', 'capn6', 'kctd16', 'l3mbtl2', 'ostc', 'a2ml1', 'gtsf1l', 'mageb6b', 'sectm1', 'phf20l1', 'cdk20', 'cap2', 'fxyd2', 'chmp6', 'cpamd8', 'tmem203', 'wsb2', 'nr2f6', 'nefh', 'ccdc88a', 'smyd5', 'gpn3', 'gkn1', 'blcap', 'apln', 'nxpe1', 'taf1d', 'selplg', 'hspa1b', 'mab21l1', 'rsrc2', 'castor2', 'ypel5', 'ybx2', 'rccd1', 'acbd5', 'mfsd11', 'prf1', 'cenpb', 'calm3', 'c11orf95', 'crkl', 'crat', 'exoc5', 'kiaa0586', 'ryr1', 'pop5', 'dctpp1', 'zswim7', 'csmd1', 'plekha1', 'mvk', 'lage3', 'slc30a8', 'grxcr1', 'ttyh3', 'acsm5', 'siglec9', 'ypel4', 'krt37', 'efs', 'fgd6', 'efemp2', 'thbd', 'znf649', 'emp2', 'or10g3', 'ppp4r3b', 'dcaf7', 'krtap6-1', 'calu', 'frmd4b', 'tpcn1', 'sult4a1', 'emc4', 'c1qb', 'stim1', 'disc1', 'kank1', 'fam120c', 'krtap19-4', 'vsig4', 'igf1', 'cela1', 'cep170', 'ppbp', 'tead3', 'msto1', 'ssx2ip', 'clec4f', 'slc35f5', 'spidr', 'bphl', 'vstm5', 'msmo1', 'rasal2', 'or8g5', 'znf594', 'pdzd9', 'top3b', 'hpse', 'ttc8', 'nrsn1', 'chac1', 'tmem143', 'nsf', 'klhl6', 'slk', 'kctd12', 'smpd3', 'mdn1', 'stn1', 'lyrm1', 'erh', 'gria3', 'bod1l1', 'trmt9b', 'il31', 'gata1', 'epha1', 'fcgr3b', 'dido1', 'ormdl1', 'ssmem1', 'rasl11a', 'ifnar1', 'ceacam5', 'lzts1', 'adh5', 'exoc3', 'ccdc122', 'ppargc1a', 'ctnnbip1', 'dnajc30', 'ctsf', 'grik2', 'gstt2b', 'fkbp9', 'otud6a', 'ophn1', 'opn5', 'or4d2', 'psmd10', 'tmtc1', 'lrrc61', 'nox4', 'trpt1', 'mef2d', 'trim11', 'hbq1', 'gulp1', 'scrib', 'arl14ep', 'pgp', 'mettl23', 'lpin1', 'flrt1', 'arf5', 'wfdc5', 'asic5', 'or6c76', 'ribc1', 'tdrd10', 'ndufa4', 'orm1', 'wdr87', 'ephb2', 'foxd1', 'atg5', 'hacd1', 'prdm5', 'cdh16', 'b3gnt3', 'prnp', 'otp', 'gda', 'sema6b', 'wbp11', 'semg2', 'ugdh', 'rbp4', 'ccdc83', 'ccdc168', 'nckap1', 'rhobtb1', 'trim69', 'ssu72', 'zg16b', 'dnah6', 'art3', 'g0s2', 'bmp10', 'iqcf5', 'pigg', 'gng8', 'anos1', 'cadm1', 'ppp4r3a', 'tifa', 'ddx28', 'mib1', 'zpld1', 'pycr1', 'bcor', 'znf90', 'kmt5c', 'parn', 'emid1', 'col6a5', 'zscan23', 'cdcp2', 'clip3', 'fam43b', 'them5', 'hmgn4', 'lgi1', 'os9', 'gpr173', 'zbtb26', 'carmil2', 'vwa1', 'pcdhb8', 'usp18', 'nr4a3', 'slc39a3', 'trim35', 'cd177', 'dcun1d5', 'laptm4a', 'glyatl1', 'crybg1', 'abcb8', 'ces3', 'emd', 'gpr179', 'ipmk', 'znf547', 'rgl3', 'aida', 'anp32e', 'sprr5', 'cst5', 'mtrr', 'cryba1', 'smim12', 'cd300ld', 'ndufa12', 'il22ra1', 'sim2', 'gabpb1', 'camk2a', 'pigs', 'zfp30', 'c1orf105', 'txk', 'spint4', 'rabif', 'trmt61b', 'thap7', 'sri', 'agmo', 'gpr61', 'g2e3', 'hmgxb4', 'or2j2', 'piwil1', 'or4k5', 'ehd4', 'pla2g5', 'gcfc2', 'ankrd12', 'mctp2', 'nip7', 'hpx', 'sla2', 'stac3', 'wdr25', 'znf135', 'lrrc23', 'il23r', 'ntng1', 'fkbpl', 'pikfyve', 'rap2a', 'fam98b', 'zbtb46', 'jam2', 'alas1', 'septin7', 'c17orf113', 'ngfr', 'pradc1', 'tyw1b', 'dync1li2', 'masp2', 'mapk15', 'blzf1', 'ciao1', 'cavin4', 'disp2', 'c20orf173', 'plekha3', 'poc1b', 'kcnab1', 'sfxn4', 'chic2', 'themis2', 'seh1l', 'slc35e1', 'fbxo31', 'arap2', 'cebpe', 'c17orf107', 'dnal1', 'kremen2', 'shld1', 'ugt1a10', 'tgif2ly', 'lix1', 'golm1', 'slc19a1', 'sh3d21', 'zcchc9', 'rcan3', 'clca1', 'rnf168', 'tubgcp2', 'pmp2', 'yap1', 'arsh', 'krtap5-9', 'rbck1', 'chodl', 'or10g6', 'cox7c', 'cyp20a1', 'snx29', 'isg15', 'prpf18', 'mtor', 'rab34', 'cpne9', 'muc2', 'sult2a1', 'prmt1', 'rgma', 'c10orf82', 'krt4', 'armc9', 'erich2', 'sds', 'arhgap5', 'actr3', 'dennd5a', 'gpr55', 'borcs8', 'lmnb1', 'sap25', 'sympk', 'kif21b', 'cs', 'klhl30', 'mea1', 'sp2', 'ost4', 'rgs17', 'alk', 'steap4', 'mcm4', 'krtap1-5', 'nacc1', 'mon2', 'pax4', 'ppif', 'psg6', 'znf223', 'mylk', 'ly6k', 'rida', 'c19orf33', 'commd5', 'tmc3', 'extl3', 'baz1a', 'epo', 'astl', 'pramef15', 'wrap73', 'cfhr5', 'eif2b2', 'ptpn9', 'snai2', 'hydin', 'gmds', 'znf449', 'gstp1', 'kiaa2012', 'trim48', 'plppr5', 'inpp5b', 'mycl', 'dsc2', 'tslp', 'clgn', 'trmt11', 'lefty2', 'ager', 'hrh2', 'orc5', 'mpc1l', 'dlk1', 'madd', 'ccl27', 'pim3', 'ccdc7', 'gpr150', 'ankrd63', 'akr1b10', 'idh3a', 'mrgprx4', 'sh2d3a', 'hgs', 'rab5b', 'snx12', 'ikzf4', 'crybb2', 'fahd2b', 'slc22a12', 'narf', 'c1orf94', 'rab40b', 'phb', 'lyzl6', 'shq1', 'camk2b', 'ocln', 'fibcd1', 'fbxo42', 'fam189a1', 'slc35e4', 'or2g3', 'ptpn13', 'ankh', 'atxn7l2', 'pkd2l2', 'tnni1', 'akr1d1', 'snx2', 'lypd3', 'gbp5', 'smc2', 's100a13', 'cyb561d1', 'micu1', 'klrb1', 'smug1', 'anapc15', 'degs2', 'cyp2d6', 'znf684', 'stub1', 'man2a1', 'tcfl5', 'pja2', 'pf4v1', 'sema3a', 'gmpr2', 'smchd1', 'rnf141', 'tm6sf2', 'mipol1', 'camk2g', 'lce2a', 'spata45', 'syce2', 'foxj3', 'slc17a1', 'itsn2', 'ryr3', 'oscar', 'rab3il1', 'prdx4', 'cldn25', 'gpr180', 'tbx4', 'icam5', 'agbl1', 'zpbp2', 'kifap3', 'uvrag', 'ano2', 'orai3', 'zfat', 'smim19', 'fbxo11', 'znf580', 'cd96', 'dyrk3', 'dnah7', 'zbed8', 'gpr26', 'adcy6', 'mymx', 'eda2r', 'dnajc3', 'pcdhb12', 'tubb', 'tspan7', 'smpd2', 'akap9', 'pcdh8', 'qprt', 'taf8', 'pigv', 'sgpp2', 'orai1', 'tubd1', 'znf627', 'arhgap20', 'ankrd36', 'txndc11', 'foxa2', 'asgr1', 'znf507', 'znf730', 'agbl5', 'abcb7', 'slc25a40', 'chst6', 'akip1', 'ccdc78', 'acot12', 'slfn14', 'meioc', 'rhno1', 'flnc', 'ptges3l', 'ces2', 'mthfsd', 'ppp1r1a', 'acan', 'myh10', 'raph1', 'iapp', 'sp5', 'sec23a', 'krtap17-1', 'dennd1b', 'clec12a', 'slc8a3', 'ddx39a', 'pald1', 'ide', 'il6r', 'slc25a36', 'mccc1', 'ttc39b', 'fcrlb', 'rnase10', 'tmem211', 'lrp8', 'nudcd3', 'cnp', 'creld2', 'mcm3', 'alox12b', 'fam174c', 'lepr', 'fads1', 'jpt2', 'dmgdh', 'or2ak2', 'mgst1', 'il9r', 'ankef1', 'kiaa1109', 'podxl', 'ube2h', 'cpo', 'stc2', 'agtpbp1', 'phykpl', 'or4e1', 'tmem9b', 'ttll3', 'igsf9', 'zbtb14', 'gal', 'amn', 'pcp4', 'lypd8', 'il18rap', 'fuca2', 'nkiras1', 'nsmce2', 'mfsd14a', 'barx1', 'smc3', 'apoa1', 'prss53', 'herc3', 'pdyn', 'dnajc5g', 'tmem41a', 'micos13', 'rad51ap1', 'pir', 'actl6a', 'cpeb2', 'tmem70', 'tmem272', 'cyb5r2', 'nhlrc2', 'slc13a3', 'gja5', 'cdc42ep4', 'pias4', 'rfpl2', 'mysm1', 'zscan25', 'top3a', 'mis12', 'znf695', 'scgb1d4', 'slco4a1', 'calcrl', 'mettl6', 'or9q2', 'calcoco2', 'upf3a', 'tspyl1', 'wdr82', 'irf9', 'boc', 'pak5', 'znf195', 'snx20', 'scn11a', 'ints11', 'ppil1', 'or10v1', 'tamm41', 'snx25', 'prlhr', 'apbb1', 'cox5b', 'atp5if1', 'tas2r4', 'atp1b2', 'or10h4', 'rpf1', 'nat10', 'c7orf25', 'tspan17', 'moxd1', 'ttc7b', 'tmem69', 'efcab12', 'phtf2', 'plau', 'znf236', 'tceal1', 'syap1', 'lrsam1', 'hmg20b', 'ar', 'prorp', 'gyg1', 'txnip', 'prpf40a', 'mkln1', 'suv39h2', 'csf2ra', 'zdhhc11b', 'ddr2', 'hirip3', 'rad23b', 'siah1', 'rap1a', 'tpm4', 'hmgn3', 'znf114', 'parvg', 'hoxd3', 'evi2a', 'f8a1', 'il1rapl2', 'ttc4', 'itih3', 'lilra5', 'or14a2', 'slc2a9', 'polr2d', 'ccl18', 'pfdn6', 'rrp1b', 'tbc1d24', 'srp54', 'ppp1r9b', 'gjd4', 'serpinb4', 'fam170a', 'megf9', 'hnrnph3', 'hint2', 'syt13', 'spata2', 'tdg', 'pacsin1', 'stau2', 'tmco6', 'uba52', 'ccnh', 'dhrsx'}\n"
     ]
    },
    {
     "data": {
      "text/plain": [
       "{'aars',\n",
       " 'ac004593.3',\n",
       " 'ac005551.1',\n",
       " 'ac007244.1',\n",
       " 'ac007906.2',\n",
       " 'ac008397.1',\n",
       " 'ac008687.4',\n",
       " 'ac010255.3',\n",
       " 'ac010325.1',\n",
       " 'ac011005.1',\n",
       " 'ac011195.2',\n",
       " 'ac013470.2',\n",
       " 'ac015871.1',\n",
       " 'ac021072.1',\n",
       " 'ac021097.2',\n",
       " 'ac025283.2',\n",
       " 'ac025287.4',\n",
       " 'ac067752.1',\n",
       " 'ac072022.2',\n",
       " 'ac073111.4',\n",
       " 'ac087498.1',\n",
       " 'ac090360.1',\n",
       " 'ac091057.6',\n",
       " 'ac092835.1',\n",
       " 'ac093323.1',\n",
       " 'ac099489.1',\n",
       " 'ac104389.5',\n",
       " 'ac106774.4',\n",
       " 'ac113348.1',\n",
       " 'ac115220.1',\n",
       " 'ac118549.1',\n",
       " 'ac119396.1',\n",
       " 'ac132217.2',\n",
       " 'ac134684.8',\n",
       " 'ac135068.1',\n",
       " 'ac138647.1',\n",
       " 'ac187653.1',\n",
       " 'ac233723.1',\n",
       " 'ac236972.4',\n",
       " 'acpp',\n",
       " 'adprhl2',\n",
       " 'adss',\n",
       " 'adssl1',\n",
       " 'al032819.3',\n",
       " 'al109810.2',\n",
       " 'al121578.2',\n",
       " 'al135905.2',\n",
       " 'al160269.1',\n",
       " 'al162231.1',\n",
       " 'al162596.1',\n",
       " 'al353572.3',\n",
       " 'al354761.1',\n",
       " 'al391650.1',\n",
       " 'al445238.1',\n",
       " 'al451007.3',\n",
       " 'al590560.2',\n",
       " 'al603764.2',\n",
       " 'al772284.2',\n",
       " 'al845331.2',\n",
       " 'alg1l',\n",
       " 'ap000552.4',\n",
       " 'ap002495.1',\n",
       " 'arih2os',\n",
       " 'armc4',\n",
       " 'arse',\n",
       " 'atp5md',\n",
       " 'atp5mpl',\n",
       " 'atp6ap1l',\n",
       " 'b3gnt10',\n",
       " 'bhmg1',\n",
       " 'bx255925.3',\n",
       " 'bx276092.9',\n",
       " 'c10orf142',\n",
       " 'c10orf55',\n",
       " 'c11orf40',\n",
       " 'c11orf74',\n",
       " 'c11orf88',\n",
       " 'c12orf10',\n",
       " 'c12orf49',\n",
       " 'c12orf74',\n",
       " 'c12orf81',\n",
       " 'c14orf177',\n",
       " 'c15orf41',\n",
       " 'c16orf58',\n",
       " 'c17orf53',\n",
       " 'c19orf48',\n",
       " 'c19orf57',\n",
       " 'c1orf61',\n",
       " 'c2orf83',\n",
       " 'c2orf91',\n",
       " 'c3orf67',\n",
       " 'c5orf30',\n",
       " 'c5orf60',\n",
       " 'c5orf67',\n",
       " 'c6orf201',\n",
       " 'c6orf223',\n",
       " 'c7orf77',\n",
       " 'c9orf129',\n",
       " 'c9orf92',\n",
       " 'card16',\n",
       " 'card17',\n",
       " 'cars',\n",
       " 'casc1',\n",
       " 'casc4',\n",
       " 'castor3',\n",
       " 'ccdc114',\n",
       " 'ccdc140',\n",
       " 'ccdc151',\n",
       " 'ccdc155',\n",
       " 'ccdc36',\n",
       " 'ccdc39',\n",
       " 'ccdc84',\n",
       " 'cd3eap',\n",
       " 'cenpbd1',\n",
       " 'cllu1os',\n",
       " 'cntd2',\n",
       " 'ct62',\n",
       " 'cxorf21',\n",
       " 'cxorf40a',\n",
       " 'cxorf56',\n",
       " 'cyb561d2',\n",
       " 'dars',\n",
       " 'dec1',\n",
       " 'defb133',\n",
       " 'dirc1',\n",
       " 'dock8-as1',\n",
       " 'dupd1',\n",
       " 'dusp27',\n",
       " 'elfn2',\n",
       " 'elmsan1',\n",
       " 'eloa3',\n",
       " 'eprs',\n",
       " 'fam122a',\n",
       " 'fam122b',\n",
       " 'fam122c',\n",
       " 'fam169b',\n",
       " 'fam192a',\n",
       " 'fam218a',\n",
       " 'fam30a',\n",
       " 'fam49a',\n",
       " 'fam49b',\n",
       " 'fam92b',\n",
       " 'fgfr1op',\n",
       " 'fopnl',\n",
       " 'fp565260.1',\n",
       " 'g6pc',\n",
       " 'gars',\n",
       " 'gcsaml-as1',\n",
       " 'gdf5os',\n",
       " 'glra4',\n",
       " 'golga8m',\n",
       " 'grasp',\n",
       " 'h1f0',\n",
       " 'h1fnt',\n",
       " 'h1foo',\n",
       " 'h1fx',\n",
       " 'h2afj',\n",
       " 'h2afx',\n",
       " 'h2afy',\n",
       " 'h2afy2',\n",
       " 'h2afz',\n",
       " 'h2bfm',\n",
       " 'h2bfwt',\n",
       " 'h3.y',\n",
       " 'h3f3a',\n",
       " 'h3f3b',\n",
       " 'h3f3c',\n",
       " 'hars',\n",
       " 'hhla3',\n",
       " 'hist1h1a',\n",
       " 'hist1h1b',\n",
       " 'hist1h1c',\n",
       " 'hist1h1d',\n",
       " 'hist1h1e',\n",
       " 'hist1h2aa',\n",
       " 'hist1h2ac',\n",
       " 'hist1h2ae',\n",
       " 'hist1h2ag',\n",
       " 'hist1h2ai',\n",
       " 'hist1h2ak',\n",
       " 'hist1h2ba',\n",
       " 'hist1h2bb',\n",
       " 'hist1h2bg',\n",
       " 'hist1h2bh',\n",
       " 'hist1h2bn',\n",
       " 'hist1h3e',\n",
       " 'hist1h3g',\n",
       " 'hist1h3h',\n",
       " 'hist1h4b',\n",
       " 'hist1h4c',\n",
       " 'hist1h4e',\n",
       " 'hist1h4g',\n",
       " 'hist1h4i',\n",
       " 'hist1h4j',\n",
       " 'hist2h2be',\n",
       " 'hist3h2a',\n",
       " 'hist3h2bb',\n",
       " 'hist3h3',\n",
       " 'hist4h4',\n",
       " 'hypm',\n",
       " 'iars',\n",
       " 'ick',\n",
       " 'igha1',\n",
       " 'igha2',\n",
       " 'ighd',\n",
       " 'ighe',\n",
       " 'ighg1',\n",
       " 'ighg3',\n",
       " 'ighm',\n",
       " 'igkc',\n",
       " 'iglc1',\n",
       " 'iglc7',\n",
       " 'impad1',\n",
       " 'kars',\n",
       " 'kiaa0355',\n",
       " 'kiaa0556',\n",
       " 'kiaa1211',\n",
       " 'kiaa1211l',\n",
       " 'kiaa1257',\n",
       " 'kiaa1324',\n",
       " 'kiaa1324l',\n",
       " 'kif1bp',\n",
       " 'lars',\n",
       " 'linc02693',\n",
       " 'linc02694',\n",
       " 'lor',\n",
       " 'lrmp',\n",
       " 'lrp5l',\n",
       " 'lrrc29',\n",
       " 'maats1',\n",
       " 'marc1',\n",
       " 'marc2',\n",
       " 'march1',\n",
       " 'march10',\n",
       " 'march11',\n",
       " 'march2',\n",
       " 'march3',\n",
       " 'march4',\n",
       " 'march5',\n",
       " 'march6',\n",
       " 'march7',\n",
       " 'march8',\n",
       " 'march9',\n",
       " 'mars',\n",
       " 'mir1915hg',\n",
       " 'mrvi1',\n",
       " 'mycnos',\n",
       " 'nars',\n",
       " 'nxf5',\n",
       " 'or5r1',\n",
       " 'palm2-akap2',\n",
       " 'pano1',\n",
       " 'pde11a',\n",
       " 'pih1d3',\n",
       " 'pinx1',\n",
       " 'ppp5d1',\n",
       " 'prky',\n",
       " 'qars',\n",
       " 'rars',\n",
       " 'rgs5',\n",
       " 'sars',\n",
       " 'sfta3',\n",
       " 'siglec5',\n",
       " 'slc26a10',\n",
       " 'slc66a1l',\n",
       " 'slfn12l',\n",
       " 'snhg32',\n",
       " 'spata13',\n",
       " 'spata8',\n",
       " 'spert',\n",
       " 'sspo',\n",
       " 'st5',\n",
       " 'tars',\n",
       " 'tarsl2',\n",
       " 'tbce',\n",
       " 'tcte3',\n",
       " 'tctex1d1',\n",
       " 'tctex1d2',\n",
       " 'tctex1d4',\n",
       " 'terc',\n",
       " 'tmem155',\n",
       " 'tmem173',\n",
       " 'tmem189',\n",
       " 'tmem246',\n",
       " 'tmem8a',\n",
       " 'tmem99',\n",
       " 'tmsb15b',\n",
       " 'trac',\n",
       " 'trbc1',\n",
       " 'trbc2',\n",
       " 'trdc',\n",
       " 'trgc1',\n",
       " 'trgc2',\n",
       " 'trgjp1',\n",
       " 'trgjp2',\n",
       " 'trim16l',\n",
       " 'tsta3',\n",
       " 'ttc25',\n",
       " 'twistnb',\n",
       " 'vars',\n",
       " 'wars',\n",
       " 'wdr34',\n",
       " 'wdr60',\n",
       " 'wdr63',\n",
       " 'wdr66',\n",
       " 'wdr78',\n",
       " 'wdyhv1',\n",
       " 'yars',\n",
       " 'z82206.1',\n",
       " 'znf883',\n",
       " 'znrd1'}"
      ]
     },
     "execution_count": 4,
     "metadata": {},
     "output_type": "execute_result"
    }
   ],
   "source": [
    "# 将所有基因名称转换为小写\n",
    "all_genes_lower = [gene.lower() for gene in all_genes]\n",
    "adata_genes_lower = [gene.lower() for gene in existing_genes]\n",
    "\n",
    "# 将两个列表转换为集合\n",
    "all_genes_set = set(all_genes_lower)\n",
    "adata_genes_set = set(adata_genes_lower)\n",
    "\n",
    "# 计算交集\n",
    "matching_genes = all_genes_set.intersection(adata_genes_set)\n",
    "matching_count = len(matching_genes)\n",
    "# 计算不匹配的基因\n",
    "non_matching_genes = adata_genes_set - matching_genes\n",
    "non_matching_count = len(non_matching_genes)\n",
    "\n",
    "\n",
    "# 输出结果\n",
    "print(f\"匹配的基因数量: {matching_count}\")\n",
    "print(f\"匹配的基因列表: {matching_genes}\")\n",
    "non_matching_genes"
   ]
  },
  {
   "cell_type": "code",
   "execution_count": 5,
   "metadata": {
    "execution": {
     "iopub.execute_input": "2025-04-14T11:45:56.839813Z",
     "iopub.status.busy": "2025-04-14T11:45:56.839667Z",
     "iopub.status.idle": "2025-04-14T11:46:55.963330Z",
     "shell.execute_reply": "2025-04-14T11:46:55.962494Z"
    }
   },
   "outputs": [
    {
     "name": "stdout",
     "output_type": "stream",
     "text": [
      "Gene al391650.1 not found in all_genes list\n"
     ]
    },
    {
     "name": "stdout",
     "output_type": "stream",
     "text": [
      "Gene yars not found in all_genes list\n",
      "Gene adprhl2 not found in all_genes list\n"
     ]
    },
    {
     "name": "stdout",
     "output_type": "stream",
     "text": [
      "Gene tctex1d4 not found in all_genes list\n"
     ]
    },
    {
     "name": "stdout",
     "output_type": "stream",
     "text": [
      "Gene tctex1d1 not found in all_genes list\n",
      "Gene wdr78 not found in all_genes list\n",
      "Gene hhla3 not found in all_genes list\n",
      "Gene ac118549.1 not found in all_genes list\n"
     ]
    },
    {
     "name": "stdout",
     "output_type": "stream",
     "text": [
      "Gene wdr63 not found in all_genes list\n"
     ]
    },
    {
     "name": "stdout",
     "output_type": "stream",
     "text": [
      "Gene kiaa1324 not found in all_genes list\n",
      "Gene sars not found in all_genes list\n"
     ]
    },
    {
     "name": "stdout",
     "output_type": "stream",
     "text": [
      "Gene hist2h2be not found in all_genes list\n"
     ]
    },
    {
     "name": "stdout",
     "output_type": "stream",
     "text": [
      "Gene al162596.1 not found in all_genes list\n",
      "Gene lor not found in all_genes list\n"
     ]
    },
    {
     "name": "stdout",
     "output_type": "stream",
     "text": [
      "Gene c1orf61 not found in all_genes list\n",
      "Gene al590560.2 not found in all_genes list\n"
     ]
    },
    {
     "name": "stdout",
     "output_type": "stream",
     "text": [
      "Gene rgs5 not found in all_genes list\n",
      "Gene dusp27 not found in all_genes list\n"
     ]
    },
    {
     "name": "stdout",
     "output_type": "stream",
     "text": [
      "Gene eprs not found in all_genes list\n",
      "Gene marc2 not found in all_genes list\n",
      "Gene marc1 not found in all_genes list\n",
      "Gene h3f3a not found in all_genes list\n",
      "Gene hist3h3 not found in all_genes list\n",
      "Gene hist3h2a not found in all_genes list\n",
      "Gene hist3h2bb not found in all_genes list\n"
     ]
    },
    {
     "name": "stdout",
     "output_type": "stream",
     "text": [
      "Gene al109810.2 not found in all_genes list\n",
      "Gene tbce not found in all_genes list\n",
      "Gene adss not found in all_genes list\n",
      "Gene al451007.3 not found in all_genes list\n"
     ]
    },
    {
     "name": "stdout",
     "output_type": "stream",
     "text": [
      "Gene gcsaml-as1 not found in all_genes list\n"
     ]
    },
    {
     "name": "stdout",
     "output_type": "stream",
     "text": [
      "Gene mycnos not found in all_genes list\n",
      "Gene fam49a not found in all_genes list\n"
     ]
    },
    {
     "name": "stdout",
     "output_type": "stream",
     "text": [
      "Gene c2orf91 not found in all_genes list\n"
     ]
    },
    {
     "name": "stdout",
     "output_type": "stream",
     "text": [
      "Gene igkc not found in all_genes list\n",
      "Gene al845331.2 not found in all_genes list\n",
      "Gene ac092835.1 not found in all_genes list\n",
      "Gene kiaa1211l not found in all_genes list\n"
     ]
    },
    {
     "name": "stdout",
     "output_type": "stream",
     "text": [
      "Gene dars not found in all_genes list\n",
      "Gene march7 not found in all_genes list\n"
     ]
    },
    {
     "name": "stdout",
     "output_type": "stream",
     "text": [
      "Gene pde11a not found in all_genes list\n",
      "Gene dirc1 not found in all_genes list\n"
     ]
    },
    {
     "name": "stdout",
     "output_type": "stream",
     "text": [
      "Gene march4 not found in all_genes list\n"
     ]
    },
    {
     "name": "stdout",
     "output_type": "stream",
     "text": [
      "Gene ccdc140 not found in all_genes list\n",
      "Gene c2orf83 not found in all_genes list\n"
     ]
    },
    {
     "name": "stdout",
     "output_type": "stream",
     "text": [
      "Gene arih2os not found in all_genes list\n",
      "Gene qars not found in all_genes list\n",
      "Gene ccdc36 not found in all_genes list\n",
      "Gene cyb561d2 not found in all_genes list\n"
     ]
    },
    {
     "name": "stdout",
     "output_type": "stream",
     "text": [
      "Gene c3orf67 not found in all_genes list\n"
     ]
    },
    {
     "name": "stdout",
     "output_type": "stream",
     "text": [
      "Gene maats1 not found in all_genes list\n",
      "Gene alg1l not found in all_genes list\n"
     ]
    },
    {
     "name": "stdout",
     "output_type": "stream",
     "text": [
      "Gene kiaa1257 not found in all_genes list\n",
      "Gene h1fx not found in all_genes list\n",
      "Gene h1foo not found in all_genes list\n",
      "Gene acpp not found in all_genes list\n"
     ]
    },
    {
     "name": "stdout",
     "output_type": "stream",
     "text": [
      "Gene slc66a1l not found in all_genes list\n",
      "Gene terc not found in all_genes list\n"
     ]
    },
    {
     "name": "stdout",
     "output_type": "stream",
     "text": [
      "Gene ccdc39 not found in all_genes list\n"
     ]
    },
    {
     "name": "stdout",
     "output_type": "stream",
     "text": [
      "Gene ac072022.2 not found in all_genes list\n",
      "Gene tctex1d2 not found in all_genes list\n"
     ]
    },
    {
     "name": "stdout",
     "output_type": "stream",
     "text": [
      "Gene ac093323.1 not found in all_genes list\n"
     ]
    },
    {
     "name": "stdout",
     "output_type": "stream",
     "text": [
      "Gene kiaa1211 not found in all_genes list\n"
     ]
    },
    {
     "name": "stdout",
     "output_type": "stream",
     "text": [
      "Gene h2afz not found in all_genes list\n"
     ]
    },
    {
     "name": "stdout",
     "output_type": "stream",
     "text": [
      "Gene tmem155 not found in all_genes list\n"
     ]
    },
    {
     "name": "stdout",
     "output_type": "stream",
     "text": [
      "Gene march1 not found in all_genes list\n",
      "Gene fam218a not found in all_genes list\n"
     ]
    },
    {
     "name": "stdout",
     "output_type": "stream",
     "text": [
      "Gene march6 not found in all_genes list\n",
      "Gene march11 not found in all_genes list\n",
      "Gene ac106774.4 not found in all_genes list\n",
      "Gene h3.y not found in all_genes list\n",
      "Gene tars not found in all_genes list\n"
     ]
    },
    {
     "name": "stdout",
     "output_type": "stream",
     "text": [
      "Gene c5orf67 not found in all_genes list\n"
     ]
    },
    {
     "name": "stdout",
     "output_type": "stream",
     "text": [
      "Gene atp6ap1l not found in all_genes list\n",
      "Gene c5orf30 not found in all_genes list\n"
     ]
    },
    {
     "name": "stdout",
     "output_type": "stream",
     "text": [
      "Gene ac010255.3 not found in all_genes list\n",
      "Gene march3 not found in all_genes list\n"
     ]
    },
    {
     "name": "stdout",
     "output_type": "stream",
     "text": [
      "Gene h2afy not found in all_genes list\n",
      "Gene tmem173 not found in all_genes list\n",
      "Gene hars not found in all_genes list\n"
     ]
    },
    {
     "name": "stdout",
     "output_type": "stream",
     "text": [
      "Gene lars not found in all_genes list\n"
     ]
    },
    {
     "name": "stdout",
     "output_type": "stream",
     "text": [
      "Gene rars not found in all_genes list\n"
     ]
    },
    {
     "name": "stdout",
     "output_type": "stream",
     "text": [
      "Gene ac113348.1 not found in all_genes list\n",
      "Gene c5orf60 not found in all_genes list\n",
      "Gene c6orf201 not found in all_genes list\n"
     ]
    },
    {
     "name": "stdout",
     "output_type": "stream",
     "text": [
      "Gene hist1h2aa not found in all_genes list\n",
      "Gene hist1h2ba not found in all_genes list\n",
      "Gene hist1h1a not found in all_genes list\n",
      "Gene hist1h4b not found in all_genes list\n",
      "Gene hist1h2bb not found in all_genes list\n",
      "Gene hist1h1c not found in all_genes list\n",
      "Gene hist1h4c not found in all_genes list\n",
      "Gene hist1h2ac not found in all_genes list\n",
      "Gene hist1h1e not found in all_genes list\n",
      "Gene hist1h4e not found in all_genes list\n",
      "Gene hist1h2bg not found in all_genes list\n",
      "Gene hist1h2ae not found in all_genes list\n",
      "Gene hist1h3e not found in all_genes list\n",
      "Gene hist1h1d not found in all_genes list\n",
      "Gene hist1h4g not found in all_genes list\n",
      "Gene hist1h2bh not found in all_genes list\n",
      "Gene hist1h3g not found in all_genes list\n",
      "Gene hist1h2ag not found in all_genes list\n",
      "Gene hist1h4i not found in all_genes list\n",
      "Gene hist1h2ai not found in all_genes list\n",
      "Gene hist1h3h not found in all_genes list\n",
      "Gene hist1h4j not found in all_genes list\n",
      "Gene hist1h2bn not found in all_genes list\n",
      "Gene hist1h2ak not found in all_genes list\n",
      "Gene hist1h1b not found in all_genes list\n",
      "Gene znrd1 not found in all_genes list\n"
     ]
    },
    {
     "name": "stdout",
     "output_type": "stream",
     "text": [
      "Gene vars not found in all_genes list\n",
      "Gene snhg32 not found in all_genes list\n"
     ]
    },
    {
     "name": "stdout",
     "output_type": "stream",
     "text": [
      "Gene c6orf223 not found in all_genes list\n",
      "Gene defb133 not found in all_genes list\n",
      "Gene ick not found in all_genes list\n"
     ]
    },
    {
     "name": "stdout",
     "output_type": "stream",
     "text": [
      "Gene al135905.2 not found in all_genes list\n"
     ]
    },
    {
     "name": "stdout",
     "output_type": "stream",
     "text": [
      "Gene fgfr1op not found in all_genes list\n",
      "Gene tcte3 not found in all_genes list\n",
      "Gene ac187653.1 not found in all_genes list\n"
     ]
    },
    {
     "name": "stdout",
     "output_type": "stream",
     "text": [
      "Gene ac013470.2 not found in all_genes list\n",
      "Gene twistnb not found in all_genes list\n"
     ]
    },
    {
     "name": "stdout",
     "output_type": "stream",
     "text": [
      "Gene ac004593.3 not found in all_genes list\n",
      "Gene gars not found in all_genes list\n",
      "Gene trgc2 not found in all_genes list\n",
      "Gene trgjp2 not found in all_genes list\n",
      "Gene trgc1 not found in all_genes list\n",
      "Gene trgjp1 not found in all_genes list\n"
     ]
    },
    {
     "name": "stdout",
     "output_type": "stream",
     "text": [
      "Gene ac115220.1 not found in all_genes list\n"
     ]
    },
    {
     "name": "stdout",
     "output_type": "stream",
     "text": [
      "Gene kiaa1324l not found in all_genes list\n"
     ]
    },
    {
     "name": "stdout",
     "output_type": "stream",
     "text": [
      "Gene castor3 not found in all_genes list\n"
     ]
    },
    {
     "name": "stdout",
     "output_type": "stream",
     "text": [
      "Gene c7orf77 not found in all_genes list\n",
      "Gene ac011005.1 not found in all_genes list\n"
     ]
    },
    {
     "name": "stdout",
     "output_type": "stream",
     "text": [
      "Gene trbc1 not found in all_genes list\n",
      "Gene trbc2 not found in all_genes list\n",
      "Gene sspo not found in all_genes list\n",
      "Gene ac073111.4 not found in all_genes list\n"
     ]
    },
    {
     "name": "stdout",
     "output_type": "stream",
     "text": [
      "Gene ac021097.2 not found in all_genes list\n",
      "Gene wdr60 not found in all_genes list\n",
      "Gene ac134684.8 not found in all_genes list\n"
     ]
    },
    {
     "name": "stdout",
     "output_type": "stream",
     "text": [
      "Gene pinx1 not found in all_genes list\n"
     ]
    },
    {
     "name": "stdout",
     "output_type": "stream",
     "text": [
      "Gene impad1 not found in all_genes list\n"
     ]
    },
    {
     "name": "stdout",
     "output_type": "stream",
     "text": [
      "Gene wdyhv1 not found in all_genes list\n",
      "Gene fam49b not found in all_genes list\n",
      "Gene ac138647.1 not found in all_genes list\n"
     ]
    },
    {
     "name": "stdout",
     "output_type": "stream",
     "text": [
      "Gene tsta3 not found in all_genes list\n",
      "Gene dock8-as1 not found in all_genes list\n"
     ]
    },
    {
     "name": "stdout",
     "output_type": "stream",
     "text": [
      "Gene c9orf92 not found in all_genes list\n"
     ]
    },
    {
     "name": "stdout",
     "output_type": "stream",
     "text": [
      "Gene al162231.1 not found in all_genes list\n"
     ]
    },
    {
     "name": "stdout",
     "output_type": "stream",
     "text": [
      "Gene fam122a not found in all_genes list\n",
      "Gene al353572.3 not found in all_genes list\n"
     ]
    },
    {
     "name": "stdout",
     "output_type": "stream",
     "text": [
      "Gene iars not found in all_genes list\n",
      "Gene c9orf129 not found in all_genes list\n",
      "Gene al160269.1 not found in all_genes list\n"
     ]
    },
    {
     "name": "stdout",
     "output_type": "stream",
     "text": [
      "Gene tmem246 not found in all_genes list\n",
      "Gene palm2-akap2 not found in all_genes list\n",
      "Gene znf883 not found in all_genes list\n"
     ]
    },
    {
     "name": "stdout",
     "output_type": "stream",
     "text": [
      "Gene dec1 not found in all_genes list\n",
      "Gene b3gnt10 not found in all_genes list\n"
     ]
    },
    {
     "name": "stdout",
     "output_type": "stream",
     "text": [
      "Gene wdr34 not found in all_genes list\n"
     ]
    },
    {
     "name": "stdout",
     "output_type": "stream",
     "text": [
      "Gene al354761.1 not found in all_genes list\n",
      "Gene bx255925.3 not found in all_genes list\n"
     ]
    },
    {
     "name": "stdout",
     "output_type": "stream",
     "text": [
      "Gene mir1915hg not found in all_genes list\n",
      "Gene armc4 not found in all_genes list\n"
     ]
    },
    {
     "name": "stdout",
     "output_type": "stream",
     "text": [
      "Gene c10orf142 not found in all_genes list\n",
      "Gene march8 not found in all_genes list\n"
     ]
    },
    {
     "name": "stdout",
     "output_type": "stream",
     "text": [
      "Gene ac067752.1 not found in all_genes list\n",
      "Gene kif1bp not found in all_genes list\n",
      "Gene h2afy2 not found in all_genes list\n"
     ]
    },
    {
     "name": "stdout",
     "output_type": "stream",
     "text": [
      "Gene c10orf55 not found in all_genes list\n",
      "Gene dupd1 not found in all_genes list\n"
     ]
    },
    {
     "name": "stdout",
     "output_type": "stream",
     "text": [
      "Gene march5 not found in all_genes list\n"
     ]
    },
    {
     "name": "stdout",
     "output_type": "stream",
     "text": [
      "Gene atp5md not found in all_genes list\n"
     ]
    },
    {
     "name": "stdout",
     "output_type": "stream",
     "text": [
      "Gene al603764.2 not found in all_genes list\n"
     ]
    },
    {
     "name": "stdout",
     "output_type": "stream",
     "text": [
      "Gene pano1 not found in all_genes list\n",
      "Gene ac132217.2 not found in all_genes list\n",
      "Gene cars not found in all_genes list\n",
      "Gene c11orf40 not found in all_genes list\n"
     ]
    },
    {
     "name": "stdout",
     "output_type": "stream",
     "text": [
      "Gene ac104389.5 not found in all_genes list\n"
     ]
    },
    {
     "name": "stdout",
     "output_type": "stream",
     "text": [
      "Gene st5 not found in all_genes list\n",
      "Gene mrvi1 not found in all_genes list\n"
     ]
    },
    {
     "name": "stdout",
     "output_type": "stream",
     "text": [
      "Gene c11orf74 not found in all_genes list\n"
     ]
    },
    {
     "name": "stdout",
     "output_type": "stream",
     "text": [
      "Gene or5r1 not found in all_genes list\n"
     ]
    },
    {
     "name": "stdout",
     "output_type": "stream",
     "text": [
      "Gene ap002495.1 not found in all_genes list\n"
     ]
    },
    {
     "name": "stdout",
     "output_type": "stream",
     "text": [
      "Gene card16 not found in all_genes list\n",
      "Gene card17 not found in all_genes list\n",
      "Gene c11orf88 not found in all_genes list\n"
     ]
    },
    {
     "name": "stdout",
     "output_type": "stream",
     "text": [
      "Gene ccdc84 not found in all_genes list\n",
      "Gene h2afx not found in all_genes list\n"
     ]
    },
    {
     "name": "stdout",
     "output_type": "stream",
     "text": [
      "Gene hist4h4 not found in all_genes list\n",
      "Gene h2afj not found in all_genes list\n",
      "Gene lrmp not found in all_genes list\n",
      "Gene casc1 not found in all_genes list\n"
     ]
    },
    {
     "name": "stdout",
     "output_type": "stream",
     "text": [
      "Gene h3f3c not found in all_genes list\n",
      "Gene h1fnt not found in all_genes list\n"
     ]
    },
    {
     "name": "stdout",
     "output_type": "stream",
     "text": [
      "Gene c12orf81 not found in all_genes list\n",
      "Gene grasp not found in all_genes list\n",
      "Gene ac021072.1 not found in all_genes list\n",
      "Gene c12orf10 not found in all_genes list\n"
     ]
    },
    {
     "name": "stdout",
     "output_type": "stream",
     "text": [
      "Gene mars not found in all_genes list\n",
      "Gene slc26a10 not found in all_genes list\n",
      "Gene march9 not found in all_genes list\n"
     ]
    },
    {
     "name": "stdout",
     "output_type": "stream",
     "text": [
      "Gene cllu1os not found in all_genes list\n",
      "Gene c12orf74 not found in all_genes list\n"
     ]
    },
    {
     "name": "stdout",
     "output_type": "stream",
     "text": [
      "Gene c12orf49 not found in all_genes list\n",
      "Gene wdr66 not found in all_genes list\n"
     ]
    },
    {
     "name": "stdout",
     "output_type": "stream",
     "text": [
      "Gene spata13 not found in all_genes list\n"
     ]
    },
    {
     "name": "stdout",
     "output_type": "stream",
     "text": [
      "Gene spert not found in all_genes list\n",
      "Gene al445238.1 not found in all_genes list\n"
     ]
    },
    {
     "name": "stdout",
     "output_type": "stream",
     "text": [
      "Gene trdc not found in all_genes list\n",
      "Gene trac not found in all_genes list\n"
     ]
    },
    {
     "name": "stdout",
     "output_type": "stream",
     "text": [
      "Gene sfta3 not found in all_genes list\n"
     ]
    },
    {
     "name": "stdout",
     "output_type": "stream",
     "text": [
      "Gene elmsan1 not found in all_genes list\n"
     ]
    },
    {
     "name": "stdout",
     "output_type": "stream",
     "text": [
      "Gene c14orf177 not found in all_genes list\n",
      "Gene wars not found in all_genes list\n",
      "Gene atp5mpl not found in all_genes list\n",
      "Gene adssl1 not found in all_genes list\n"
     ]
    },
    {
     "name": "stdout",
     "output_type": "stream",
     "text": [
      "Gene igha2 not found in all_genes list\n",
      "Gene ighe not found in all_genes list\n",
      "Gene igha1 not found in all_genes list\n",
      "Gene ighg1 not found in all_genes list\n",
      "Gene ighg3 not found in all_genes list\n",
      "Gene ighd not found in all_genes list\n",
      "Gene ighm not found in all_genes list\n",
      "Gene fam30a not found in all_genes list\n",
      "Gene ac135068.1 not found in all_genes list\n",
      "Gene golga8m not found in all_genes list\n",
      "Gene ac091057.6 not found in all_genes list\n",
      "Gene c15orf41 not found in all_genes list\n"
     ]
    },
    {
     "name": "stdout",
     "output_type": "stream",
     "text": [
      "Gene linc02694 not found in all_genes list\n"
     ]
    },
    {
     "name": "stdout",
     "output_type": "stream",
     "text": [
      "Gene casc4 not found in all_genes list\n"
     ]
    },
    {
     "name": "stdout",
     "output_type": "stream",
     "text": [
      "Gene ct62 not found in all_genes list\n"
     ]
    },
    {
     "name": "stdout",
     "output_type": "stream",
     "text": [
      "Gene ac015871.1 not found in all_genes list\n"
     ]
    },
    {
     "name": "stdout",
     "output_type": "stream",
     "text": [
      "Gene spata8 not found in all_genes list\n",
      "Gene fam169b not found in all_genes list\n",
      "Gene tarsl2 not found in all_genes list\n",
      "Gene tmem8a not found in all_genes list\n"
     ]
    },
    {
     "name": "stdout",
     "output_type": "stream",
     "text": [
      "Gene al032819.3 not found in all_genes list\n"
     ]
    },
    {
     "name": "stdout",
     "output_type": "stream",
     "text": [
      "Gene ac025283.2 not found in all_genes list\n"
     ]
    },
    {
     "name": "stdout",
     "output_type": "stream",
     "text": [
      "Gene ac099489.1 not found in all_genes list\n",
      "Gene fopnl not found in all_genes list\n"
     ]
    },
    {
     "name": "stdout",
     "output_type": "stream",
     "text": [
      "Gene kiaa0556 not found in all_genes list\n"
     ]
    },
    {
     "name": "stdout",
     "output_type": "stream",
     "text": [
      "Gene c16orf58 not found in all_genes list\n",
      "Gene ac007906.2 not found in all_genes list\n"
     ]
    },
    {
     "name": "stdout",
     "output_type": "stream",
     "text": [
      "Gene fam192a not found in all_genes list\n"
     ]
    },
    {
     "name": "stdout",
     "output_type": "stream",
     "text": [
      "Gene lrrc29 not found in all_genes list\n"
     ]
    },
    {
     "name": "stdout",
     "output_type": "stream",
     "text": [
      "Gene aars not found in all_genes list\n",
      "Gene kars not found in all_genes list\n",
      "Gene ac025287.4 not found in all_genes list\n"
     ]
    },
    {
     "name": "stdout",
     "output_type": "stream",
     "text": [
      "Gene fam92b not found in all_genes list\n",
      "Gene cenpbd1 not found in all_genes list\n"
     ]
    },
    {
     "name": "stdout",
     "output_type": "stream",
     "text": [
      "Gene ac087498.1 not found in all_genes list\n",
      "Gene ac233723.1 not found in all_genes list\n"
     ]
    },
    {
     "name": "stdout",
     "output_type": "stream",
     "text": [
      "Gene trim16l not found in all_genes list\n",
      "Gene linc02693 not found in all_genes list\n"
     ]
    },
    {
     "name": "stdout",
     "output_type": "stream",
     "text": [
      "Gene slfn12l not found in all_genes list\n"
     ]
    },
    {
     "name": "stdout",
     "output_type": "stream",
     "text": [
      "Gene tmem99 not found in all_genes list\n",
      "Gene ttc25 not found in all_genes list\n"
     ]
    },
    {
     "name": "stdout",
     "output_type": "stream",
     "text": [
      "Gene g6pc not found in all_genes list\n",
      "Gene c17orf53 not found in all_genes list\n"
     ]
    },
    {
     "name": "stdout",
     "output_type": "stream",
     "text": [
      "Gene ac011195.2 not found in all_genes list\n",
      "Gene march10 not found in all_genes list\n"
     ]
    },
    {
     "name": "stdout",
     "output_type": "stream",
     "text": [
      "Gene h3f3b not found in all_genes list\n"
     ]
    },
    {
     "name": "stdout",
     "output_type": "stream",
     "text": [
      "Gene eloa3 not found in all_genes list\n",
      "Gene nars not found in all_genes list\n"
     ]
    },
    {
     "name": "stdout",
     "output_type": "stream",
     "text": [
      "Gene ac090360.1 not found in all_genes list\n"
     ]
    },
    {
     "name": "stdout",
     "output_type": "stream",
     "text": [
      "Gene ac005551.1 not found in all_genes list\n"
     ]
    },
    {
     "name": "stdout",
     "output_type": "stream",
     "text": [
      "Gene ac119396.1 not found in all_genes list\n",
      "Gene march2 not found in all_genes list\n"
     ]
    },
    {
     "name": "stdout",
     "output_type": "stream",
     "text": [
      "Gene ccdc151 not found in all_genes list\n"
     ]
    },
    {
     "name": "stdout",
     "output_type": "stream",
     "text": [
      "Gene c19orf57 not found in all_genes list\n"
     ]
    },
    {
     "name": "stdout",
     "output_type": "stream",
     "text": [
      "Gene ac008397.1 not found in all_genes list\n"
     ]
    },
    {
     "name": "stdout",
     "output_type": "stream",
     "text": [
      "Gene kiaa0355 not found in all_genes list\n"
     ]
    },
    {
     "name": "stdout",
     "output_type": "stream",
     "text": [
      "Gene cntd2 not found in all_genes list\n"
     ]
    },
    {
     "name": "stdout",
     "output_type": "stream",
     "text": [
      "Gene cd3eap not found in all_genes list\n",
      "Gene bhmg1 not found in all_genes list\n",
      "Gene ppp5d1 not found in all_genes list\n"
     ]
    },
    {
     "name": "stdout",
     "output_type": "stream",
     "text": [
      "Gene ccdc114 not found in all_genes list\n",
      "Gene ac008687.4 not found in all_genes list\n",
      "Gene ccdc155 not found in all_genes list\n"
     ]
    },
    {
     "name": "stdout",
     "output_type": "stream",
     "text": [
      "Gene ac010325.1 not found in all_genes list\n",
      "Gene c19orf48 not found in all_genes list\n",
      "Gene siglec5 not found in all_genes list\n"
     ]
    },
    {
     "name": "stdout",
     "output_type": "stream",
     "text": [
      "Gene gdf5os not found in all_genes list\n"
     ]
    },
    {
     "name": "stdout",
     "output_type": "stream",
     "text": [
      "Gene tmem189 not found in all_genes list\n"
     ]
    },
    {
     "name": "stdout",
     "output_type": "stream",
     "text": [
      "Gene fp565260.1 not found in all_genes list\n"
     ]
    },
    {
     "name": "stdout",
     "output_type": "stream",
     "text": [
      "Gene ap000552.4 not found in all_genes list\n",
      "Gene iglc1 not found in all_genes list\n",
      "Gene iglc7 not found in all_genes list\n",
      "Gene lrp5l not found in all_genes list\n"
     ]
    },
    {
     "name": "stdout",
     "output_type": "stream",
     "text": [
      "Gene elfn2 not found in all_genes list\n",
      "Gene h1f0 not found in all_genes list\n",
      "Gene z82206.1 not found in all_genes list\n"
     ]
    },
    {
     "name": "stdout",
     "output_type": "stream",
     "text": [
      "Gene arse not found in all_genes list\n"
     ]
    },
    {
     "name": "stdout",
     "output_type": "stream",
     "text": [
      "Gene cxorf21 not found in all_genes list\n",
      "Gene hypm not found in all_genes list\n",
      "Gene al121578.2 not found in all_genes list\n"
     ]
    },
    {
     "name": "stdout",
     "output_type": "stream",
     "text": [
      "Gene bx276092.9 not found in all_genes list\n"
     ]
    },
    {
     "name": "stdout",
     "output_type": "stream",
     "text": [
      "Gene nxf5 not found in all_genes list\n",
      "Gene glra4 not found in all_genes list\n",
      "Gene tmsb15b not found in all_genes list\n",
      "Gene h2bfwt not found in all_genes list\n",
      "Gene h2bfm not found in all_genes list\n",
      "Gene pih1d3 not found in all_genes list\n"
     ]
    },
    {
     "name": "stdout",
     "output_type": "stream",
     "text": [
      "Gene al772284.2 not found in all_genes list\n",
      "Gene cxorf56 not found in all_genes list\n",
      "Gene fam122b not found in all_genes list\n",
      "Gene fam122c not found in all_genes list\n"
     ]
    },
    {
     "name": "stdout",
     "output_type": "stream",
     "text": [
      "Gene cxorf40a not found in all_genes list\n",
      "Gene ac236972.4 not found in all_genes list\n"
     ]
    },
    {
     "name": "stdout",
     "output_type": "stream",
     "text": [
      "Gene prky not found in all_genes list\n",
      "Gene ac007244.1 not found in all_genes list\n"
     ]
    }
   ],
   "source": [
    "gene_to_index = {gene: idx for idx, gene in enumerate(all_genes_lower)}\n",
    "dense_adata_X = adata.X\n",
    "for i, gene in enumerate(adata_genes_lower):\n",
    "    if gene in gene_to_index:\n",
    "        new_data[:, gene_to_index[gene]] = dense_adata_X[:, i]\n",
    "    else:\n",
    "        print(f'Gene {gene} not found in all_genes list')"
   ]
  },
  {
   "cell_type": "code",
   "execution_count": 6,
   "metadata": {
    "execution": {
     "iopub.execute_input": "2025-04-14T11:46:55.965128Z",
     "iopub.status.busy": "2025-04-14T11:46:55.964928Z",
     "iopub.status.idle": "2025-04-14T11:47:03.675530Z",
     "shell.execute_reply": "2025-04-14T11:47:03.674631Z"
    }
   },
   "outputs": [
    {
     "name": "stderr",
     "output_type": "stream",
     "text": [
      "GPU available: True (cuda), used: True\n"
     ]
    },
    {
     "name": "stderr",
     "output_type": "stream",
     "text": [
      "TPU available: False, using: 0 TPU cores\n"
     ]
    },
    {
     "name": "stderr",
     "output_type": "stream",
     "text": [
      "HPU available: False, using: 0 HPUs\n"
     ]
    }
   ],
   "source": [
    "# 使用 GPU 进行评估（如果可用）\n",
    "estim.trainer = pl.Trainer(accelerator=\"gpu\", devices=1 if torch.cuda.is_available() else None)\n",
    "\n",
    "# 5. 数据集划分（70% 训练，15% 验证，15% 测试）\n",
    "label_encoder = LabelEncoder()\n",
    "labels_encoded = label_encoder.fit_transform(adata.obs['cell_type'])  # 预先编码标签\n",
    "\n",
    "\n",
    "random_seed = 42\n",
    "\n",
    "X_train_val, X_test, y_train_val, y_test = train_test_split(\n",
    "    new_data, labels_encoded, test_size=0.15, random_state=random_seed)\n",
    "\n",
    "X_train, X_val, y_train, y_val = train_test_split(\n",
    "    X_train_val, y_train_val, test_size=0.1765, random_state=random_seed)  # 0.1765 是为了让验证集占 15%"
   ]
  },
  {
   "cell_type": "code",
   "execution_count": 7,
   "metadata": {
    "execution": {
     "iopub.execute_input": "2025-04-14T11:47:03.677463Z",
     "iopub.status.busy": "2025-04-14T11:47:03.677277Z",
     "iopub.status.idle": "2025-04-14T11:47:05.431047Z",
     "shell.execute_reply": "2025-04-14T11:47:05.430530Z"
    }
   },
   "outputs": [
    {
     "data": {
      "text/plain": [
       "MLPAutoEncoder(\n",
       "  (train_metrics): MetricCollection(\n",
       "    (explained_var_uniform): ExplainedVariance()\n",
       "    (explained_var_weighted): ExplainedVariance()\n",
       "    (mse): MeanSquaredError(),\n",
       "    prefix=train_\n",
       "  )\n",
       "  (val_metrics): MetricCollection(\n",
       "    (explained_var_uniform): ExplainedVariance()\n",
       "    (explained_var_weighted): ExplainedVariance()\n",
       "    (mse): MeanSquaredError(),\n",
       "    prefix=val_\n",
       "  )\n",
       "  (test_metrics): MetricCollection(\n",
       "    (explained_var_uniform): ExplainedVariance()\n",
       "    (explained_var_weighted): ExplainedVariance()\n",
       "    (mse): MeanSquaredError(),\n",
       "    prefix=test_\n",
       "  )\n",
       "  (encoder): MLP(\n",
       "    (0): Linear(in_features=19331, out_features=512, bias=True)\n",
       "    (1): SELU()\n",
       "    (2): Dropout(p=0.1, inplace=False)\n",
       "    (3): Linear(in_features=512, out_features=512, bias=True)\n",
       "    (4): SELU()\n",
       "    (5): Dropout(p=0.1, inplace=False)\n",
       "    (6): Linear(in_features=512, out_features=256, bias=True)\n",
       "    (7): SELU()\n",
       "    (8): Dropout(p=0.1, inplace=False)\n",
       "    (9): Linear(in_features=256, out_features=256, bias=True)\n",
       "    (10): SELU()\n",
       "    (11): Dropout(p=0.1, inplace=False)\n",
       "    (12): Linear(in_features=256, out_features=64, bias=True)\n",
       "  )\n",
       "  (decoder): Sequential(\n",
       "    (0): MLP(\n",
       "      (0): Linear(in_features=64, out_features=256, bias=True)\n",
       "      (1): SELU()\n",
       "      (2): Dropout(p=0.1, inplace=False)\n",
       "      (3): Linear(in_features=256, out_features=256, bias=True)\n",
       "      (4): SELU()\n",
       "      (5): Dropout(p=0.1, inplace=False)\n",
       "      (6): Linear(in_features=256, out_features=512, bias=True)\n",
       "      (7): SELU()\n",
       "      (8): Dropout(p=0.1, inplace=False)\n",
       "      (9): Linear(in_features=512, out_features=512, bias=True)\n",
       "      (10): SELU()\n",
       "      (11): Dropout(p=0.1, inplace=False)\n",
       "      (12): Linear(in_features=512, out_features=19331, bias=True)\n",
       "    )\n",
       "    (1): Sigmoid()\n",
       "  )\n",
       "  (fc): Linear(in_features=64, out_features=20, bias=True)\n",
       ")"
      ]
     },
     "execution_count": 7,
     "metadata": {},
     "output_type": "execute_result"
    }
   ],
   "source": [
    "# 将训练数据转换为张量\n",
    "device = torch.device(\"cuda\" if torch.cuda.is_available() else \"cpu\")\n",
    "X_train_tensor = torch.tensor(X_train).float().to(device)\n",
    "y_train_tensor = torch.tensor(y_train).long().to(device)\n",
    "X_val_tensor = torch.tensor(X_val).float().to(device)\n",
    "y_val_tensor = torch.tensor(y_val).long().to(device)\n",
    "estim.model.to(device)"
   ]
  },
  {
   "cell_type": "code",
   "execution_count": 8,
   "metadata": {
    "execution": {
     "iopub.execute_input": "2025-04-14T11:47:05.432481Z",
     "iopub.status.busy": "2025-04-14T11:47:05.432312Z",
     "iopub.status.idle": "2025-04-14T11:47:05.435711Z",
     "shell.execute_reply": "2025-04-14T11:47:05.435255Z"
    }
   },
   "outputs": [],
   "source": [
    "# 6. 微调模型，仅微调 encoder 的最后两层，其他层参数冻结\n",
    "for param in estim.model.encoder.parameters():\n",
    "    param.requires_grad = False  # 冻结所有层\n",
    "\n",
    "# 解冻最后两层\n",
    "for param in list(estim.model.encoder.parameters())[-5:]:\n",
    "    param.requires_grad = True"
   ]
  },
  {
   "cell_type": "code",
   "execution_count": 9,
   "metadata": {
    "execution": {
     "iopub.execute_input": "2025-04-14T11:47:05.436944Z",
     "iopub.status.busy": "2025-04-14T11:47:05.436799Z",
     "iopub.status.idle": "2025-04-14T11:47:05.440295Z",
     "shell.execute_reply": "2025-04-14T11:47:05.439835Z"
    }
   },
   "outputs": [],
   "source": [
    "# 定义损失函数和优化器\n",
    "loss_fn = nn.CrossEntropyLoss()\n",
    "optimizer = AdamW(filter(lambda p: p.requires_grad, estim.model.parameters()), lr=9e-4, weight_decay=0.05)\n",
    "scheduler = torch.optim.lr_scheduler.StepLR(optimizer, step_size=2, gamma=0.9)"
   ]
  },
  {
   "cell_type": "code",
   "execution_count": 10,
   "metadata": {
    "execution": {
     "iopub.execute_input": "2025-04-14T11:47:05.441562Z",
     "iopub.status.busy": "2025-04-14T11:47:05.441408Z",
     "iopub.status.idle": "2025-04-14T11:47:05.446765Z",
     "shell.execute_reply": "2025-04-14T11:47:05.446307Z"
    }
   },
   "outputs": [],
   "source": [
    "from torch.utils.data import DataLoader, TensorDataset\n",
    "\n",
    "# 设置 batch size\n",
    "batch_size = 128  # 根据实际需求调整 batch size\n",
    "\n",
    "# 使用 TensorDataset 将训练数据和标签打包\n",
    "train_dataset = TensorDataset(X_train_tensor, y_train_tensor)\n",
    "val_dataset = TensorDataset(X_val_tensor, y_val_tensor)\n",
    "\n",
    "# 使用 DataLoader 来创建批次\n",
    "train_loader = DataLoader(train_dataset, batch_size=batch_size, shuffle=True)\n",
    "val_loader = DataLoader(val_dataset, batch_size=batch_size, shuffle=False)\n",
    "\n",
    "# 7. 微调模型\n",
    "def train_epoch(model, optimizer, loss_fn, train_loader, val_loader):\n",
    "    model.train()\n",
    "    total_train_loss = 0\n",
    "    \n",
    "    # 训练集批次训练\n",
    "    for X_batch, y_batch in train_loader:\n",
    "        optimizer.zero_grad()\n",
    "        \n",
    "        # 前向传播\n",
    "        outputs = model.encoder(X_batch)\n",
    "        logits = model.fc(outputs)\n",
    "        \n",
    "        # 计算损失\n",
    "        loss = loss_fn(logits, y_batch)\n",
    "        loss.backward()\n",
    "        optimizer.step()\n",
    "        \n",
    "        total_train_loss += loss.item()\n",
    "    \n",
    "    # 验证集\n",
    "    model.eval()\n",
    "    total_val_loss = 0\n",
    "    with torch.no_grad():\n",
    "        for X_val_batch, y_val_batch in val_loader:\n",
    "            val_outputs = model.encoder(X_val_batch)\n",
    "            val_logits = model.fc(val_outputs)\n",
    "            val_loss = loss_fn(val_logits, y_val_batch)\n",
    "            total_val_loss += val_loss.item()\n",
    "\n",
    "    # 返回平均损失\n",
    "    return total_train_loss / len(train_loader), total_val_loss / len(val_loader)"
   ]
  },
  {
   "cell_type": "code",
   "execution_count": 11,
   "metadata": {
    "execution": {
     "iopub.execute_input": "2025-04-14T11:47:05.448019Z",
     "iopub.status.busy": "2025-04-14T11:47:05.447870Z",
     "iopub.status.idle": "2025-04-14T11:49:24.868830Z",
     "shell.execute_reply": "2025-04-14T11:49:24.868103Z"
    }
   },
   "outputs": [
    {
     "name": "stdout",
     "output_type": "stream",
     "text": [
      "Epoch 1, Train Loss: 1.7607453929198966, Validation Loss: 1.3440201667638925\n",
      "Validation loss improved to 1.3440201667638925, resetting patience.\n"
     ]
    },
    {
     "name": "stdout",
     "output_type": "stream",
     "text": [
      "Epoch 2, Train Loss: 1.5546395173439613, Validation Loss: 1.315983005059071\n",
      "Validation loss improved to 1.315983005059071, resetting patience.\n"
     ]
    },
    {
     "name": "stdout",
     "output_type": "stream",
     "text": [
      "Epoch 3, Train Loss: 1.5231125421576448, Validation Loss: 1.319800478984148\n",
      "No improvement in validation loss. Patience counter: 1/20\n"
     ]
    },
    {
     "name": "stdout",
     "output_type": "stream",
     "text": [
      "Epoch 4, Train Loss: 1.511875008881747, Validation Loss: 1.258391606502044\n",
      "Validation loss improved to 1.258391606502044, resetting patience.\n"
     ]
    },
    {
     "name": "stdout",
     "output_type": "stream",
     "text": [
      "Epoch 5, Train Loss: 1.5013930832946694, Validation Loss: 1.2617095140310435\n",
      "No improvement in validation loss. Patience counter: 1/20\n"
     ]
    },
    {
     "name": "stdout",
     "output_type": "stream",
     "text": [
      "Epoch 6, Train Loss: 1.4890780344114198, Validation Loss: 1.282074927061032\n",
      "No improvement in validation loss. Patience counter: 2/20\n"
     ]
    },
    {
     "name": "stdout",
     "output_type": "stream",
     "text": [
      "Epoch 7, Train Loss: 1.4831768832363925, Validation Loss: 1.2324585318565369\n",
      "Validation loss improved to 1.2324585318565369, resetting patience.\n"
     ]
    },
    {
     "name": "stdout",
     "output_type": "stream",
     "text": [
      "Epoch 8, Train Loss: 1.4788854266261007, Validation Loss: 1.198090142164475\n",
      "Validation loss improved to 1.198090142164475, resetting patience.\n"
     ]
    },
    {
     "name": "stdout",
     "output_type": "stream",
     "text": [
      "Epoch 9, Train Loss: 1.4738255327874488, Validation Loss: 1.2601846896685087\n",
      "No improvement in validation loss. Patience counter: 1/20\n"
     ]
    },
    {
     "name": "stdout",
     "output_type": "stream",
     "text": [
      "Epoch 10, Train Loss: 1.465696871149671, Validation Loss: 1.2596556464831035\n",
      "No improvement in validation loss. Patience counter: 2/20\n"
     ]
    },
    {
     "name": "stdout",
     "output_type": "stream",
     "text": [
      "Epoch 11, Train Loss: 1.4643144632433798, Validation Loss: 1.2504685362180075\n",
      "No improvement in validation loss. Patience counter: 3/20\n"
     ]
    },
    {
     "name": "stdout",
     "output_type": "stream",
     "text": [
      "Epoch 12, Train Loss: 1.460883519937704, Validation Loss: 1.221778671252422\n",
      "No improvement in validation loss. Patience counter: 4/20\n"
     ]
    },
    {
     "name": "stdout",
     "output_type": "stream",
     "text": [
      "Epoch 13, Train Loss: 1.4579294930447588, Validation Loss: 1.207777476616395\n",
      "No improvement in validation loss. Patience counter: 5/20\n"
     ]
    },
    {
     "name": "stdout",
     "output_type": "stream",
     "text": [
      "Epoch 14, Train Loss: 1.4537745839946872, Validation Loss: 1.2098559682185834\n",
      "No improvement in validation loss. Patience counter: 6/20\n"
     ]
    },
    {
     "name": "stdout",
     "output_type": "stream",
     "text": [
      "Epoch 15, Train Loss: 1.4509068769413036, Validation Loss: 1.1856521597275367\n",
      "Validation loss improved to 1.1856521597275367, resetting patience.\n"
     ]
    },
    {
     "name": "stdout",
     "output_type": "stream",
     "text": [
      "Epoch 16, Train Loss: 1.4516045456404214, Validation Loss: 1.2446522648517901\n",
      "No improvement in validation loss. Patience counter: 1/20\n"
     ]
    },
    {
     "name": "stdout",
     "output_type": "stream",
     "text": [
      "Epoch 17, Train Loss: 1.447774462385492, Validation Loss: 1.1979372755075113\n",
      "No improvement in validation loss. Patience counter: 2/20\n"
     ]
    },
    {
     "name": "stdout",
     "output_type": "stream",
     "text": [
      "Epoch 18, Train Loss: 1.4453335779053824, Validation Loss: 1.2217741458843916\n",
      "No improvement in validation loss. Patience counter: 3/20\n"
     ]
    },
    {
     "name": "stdout",
     "output_type": "stream",
     "text": [
      "Epoch 19, Train Loss: 1.4398199002821366, Validation Loss: 1.2195366599620916\n",
      "No improvement in validation loss. Patience counter: 4/20\n"
     ]
    },
    {
     "name": "stdout",
     "output_type": "stream",
     "text": [
      "Epoch 20, Train Loss: 1.4420007296970911, Validation Loss: 1.2681380278024919\n",
      "No improvement in validation loss. Patience counter: 5/20\n"
     ]
    },
    {
     "name": "stdout",
     "output_type": "stream",
     "text": [
      "Epoch 21, Train Loss: 1.4350656390190124, Validation Loss: 1.2235346081929328\n",
      "No improvement in validation loss. Patience counter: 6/20\n"
     ]
    },
    {
     "name": "stdout",
     "output_type": "stream",
     "text": [
      "Epoch 22, Train Loss: 1.4358262151152223, Validation Loss: 1.1796741818770384\n",
      "Validation loss improved to 1.1796741818770384, resetting patience.\n"
     ]
    },
    {
     "name": "stdout",
     "output_type": "stream",
     "text": [
      "Epoch 23, Train Loss: 1.4385978309662788, Validation Loss: 1.1783386627833048\n",
      "Validation loss improved to 1.1783386627833048, resetting patience.\n"
     ]
    },
    {
     "name": "stdout",
     "output_type": "stream",
     "text": [
      "Epoch 24, Train Loss: 1.4366754821368626, Validation Loss: 1.2166796748454753\n",
      "No improvement in validation loss. Patience counter: 1/20\n"
     ]
    },
    {
     "name": "stdout",
     "output_type": "stream",
     "text": [
      "Epoch 25, Train Loss: 1.430260937685495, Validation Loss: 1.2173947777503575\n",
      "No improvement in validation loss. Patience counter: 2/20\n"
     ]
    },
    {
     "name": "stdout",
     "output_type": "stream",
     "text": [
      "Epoch 26, Train Loss: 1.4325573604185502, Validation Loss: 1.2093170089599414\n",
      "No improvement in validation loss. Patience counter: 3/20\n"
     ]
    },
    {
     "name": "stdout",
     "output_type": "stream",
     "text": [
      "Epoch 27, Train Loss: 1.4321159442702494, Validation Loss: 1.1821473821615562\n",
      "No improvement in validation loss. Patience counter: 4/20\n"
     ]
    },
    {
     "name": "stdout",
     "output_type": "stream",
     "text": [
      "Epoch 28, Train Loss: 1.4279585530469705, Validation Loss: 1.179232889566666\n",
      "No improvement in validation loss. Patience counter: 5/20\n"
     ]
    },
    {
     "name": "stdout",
     "output_type": "stream",
     "text": [
      "Epoch 29, Train Loss: 1.430386818110288, Validation Loss: 1.164733600616455\n",
      "Validation loss improved to 1.164733600616455, resetting patience.\n"
     ]
    },
    {
     "name": "stdout",
     "output_type": "stream",
     "text": [
      "Epoch 30, Train Loss: 1.4268865639036827, Validation Loss: 1.210160906192584\n",
      "No improvement in validation loss. Patience counter: 1/20\n"
     ]
    },
    {
     "name": "stdout",
     "output_type": "stream",
     "text": [
      "Epoch 31, Train Loss: 1.4285000550877918, Validation Loss: 1.242984267992851\n",
      "No improvement in validation loss. Patience counter: 2/20\n"
     ]
    },
    {
     "name": "stdout",
     "output_type": "stream",
     "text": [
      "Epoch 32, Train Loss: 1.425344615323203, Validation Loss: 1.1829351064486382\n",
      "No improvement in validation loss. Patience counter: 3/20\n"
     ]
    },
    {
     "name": "stdout",
     "output_type": "stream",
     "text": [
      "Epoch 33, Train Loss: 1.4264958823120202, Validation Loss: 1.199692607537294\n",
      "No improvement in validation loss. Patience counter: 4/20\n"
     ]
    },
    {
     "name": "stdout",
     "output_type": "stream",
     "text": [
      "Epoch 34, Train Loss: 1.4212268419318146, Validation Loss: 1.1949270343169187\n",
      "No improvement in validation loss. Patience counter: 5/20\n"
     ]
    },
    {
     "name": "stdout",
     "output_type": "stream",
     "text": [
      "Epoch 35, Train Loss: 1.4235859307614, Validation Loss: 1.176293667463156\n",
      "No improvement in validation loss. Patience counter: 6/20\n"
     ]
    },
    {
     "name": "stdout",
     "output_type": "stream",
     "text": [
      "Epoch 36, Train Loss: 1.4196576752505459, Validation Loss: 1.1846309612958859\n",
      "No improvement in validation loss. Patience counter: 7/20\n"
     ]
    },
    {
     "name": "stdout",
     "output_type": "stream",
     "text": [
      "Epoch 37, Train Loss: 1.4240524142653077, Validation Loss: 1.186772721241682\n",
      "No improvement in validation loss. Patience counter: 8/20\n"
     ]
    },
    {
     "name": "stdout",
     "output_type": "stream",
     "text": [
      "Epoch 38, Train Loss: 1.4196174784021063, Validation Loss: 1.1960414052009583\n",
      "No improvement in validation loss. Patience counter: 9/20\n"
     ]
    },
    {
     "name": "stdout",
     "output_type": "stream",
     "text": [
      "Epoch 39, Train Loss: 1.422429337475326, Validation Loss: 1.1877928064419674\n",
      "No improvement in validation loss. Patience counter: 10/20\n"
     ]
    },
    {
     "name": "stdout",
     "output_type": "stream",
     "text": [
      "Epoch 40, Train Loss: 1.4216507555364253, Validation Loss: 1.221288386063698\n",
      "No improvement in validation loss. Patience counter: 11/20\n"
     ]
    },
    {
     "name": "stdout",
     "output_type": "stream",
     "text": [
      "Epoch 41, Train Loss: 1.4211131939521202, Validation Loss: 1.1583698312441508\n",
      "Validation loss improved to 1.1583698312441508, resetting patience.\n"
     ]
    },
    {
     "name": "stdout",
     "output_type": "stream",
     "text": [
      "Epoch 42, Train Loss: 1.4185552387447147, Validation Loss: 1.1637497351719783\n",
      "No improvement in validation loss. Patience counter: 1/20\n"
     ]
    },
    {
     "name": "stdout",
     "output_type": "stream",
     "text": [
      "Epoch 43, Train Loss: 1.4198046299127431, Validation Loss: 1.2366297596540206\n",
      "No improvement in validation loss. Patience counter: 2/20\n"
     ]
    },
    {
     "name": "stdout",
     "output_type": "stream",
     "text": [
      "Epoch 44, Train Loss: 1.417050936457875, Validation Loss: 1.1895818484135163\n",
      "No improvement in validation loss. Patience counter: 3/20\n"
     ]
    },
    {
     "name": "stdout",
     "output_type": "stream",
     "text": [
      "Epoch 45, Train Loss: 1.4181815459178044, Validation Loss: 1.1605461466006743\n",
      "No improvement in validation loss. Patience counter: 4/20\n"
     ]
    },
    {
     "name": "stdout",
     "output_type": "stream",
     "text": [
      "Epoch 46, Train Loss: 1.4200930761766957, Validation Loss: 1.1993209906113453\n",
      "No improvement in validation loss. Patience counter: 5/20\n"
     ]
    },
    {
     "name": "stdout",
     "output_type": "stream",
     "text": [
      "Epoch 47, Train Loss: 1.4149218037888245, Validation Loss: 1.206340501858638\n",
      "No improvement in validation loss. Patience counter: 6/20\n"
     ]
    },
    {
     "name": "stdout",
     "output_type": "stream",
     "text": [
      "Epoch 48, Train Loss: 1.4197756819672638, Validation Loss: 1.1889874614202058\n",
      "No improvement in validation loss. Patience counter: 7/20\n"
     ]
    },
    {
     "name": "stdout",
     "output_type": "stream",
     "text": [
      "Epoch 49, Train Loss: 1.4161023945598812, Validation Loss: 1.1986147250884618\n",
      "No improvement in validation loss. Patience counter: 8/20\n"
     ]
    },
    {
     "name": "stdout",
     "output_type": "stream",
     "text": [
      "Epoch 50, Train Loss: 1.413204921208895, Validation Loss: 1.1669778457054725\n",
      "No improvement in validation loss. Patience counter: 9/20\n"
     ]
    },
    {
     "name": "stdout",
     "output_type": "stream",
     "text": [
      "Epoch 51, Train Loss: 1.420962464940417, Validation Loss: 1.1522825779058994\n",
      "Validation loss improved to 1.1522825779058994, resetting patience.\n"
     ]
    },
    {
     "name": "stdout",
     "output_type": "stream",
     "text": [
      "Epoch 52, Train Loss: 1.416772659925314, Validation Loss: 1.2150182748452212\n",
      "No improvement in validation loss. Patience counter: 1/20\n"
     ]
    },
    {
     "name": "stdout",
     "output_type": "stream",
     "text": [
      "Epoch 53, Train Loss: 1.414637785429483, Validation Loss: 1.2118274875176258\n",
      "No improvement in validation loss. Patience counter: 2/20\n"
     ]
    },
    {
     "name": "stdout",
     "output_type": "stream",
     "text": [
      "Epoch 54, Train Loss: 1.414814745593857, Validation Loss: 1.2123679243601286\n",
      "No improvement in validation loss. Patience counter: 3/20\n"
     ]
    },
    {
     "name": "stdout",
     "output_type": "stream",
     "text": [
      "Epoch 55, Train Loss: 1.4134722437177385, Validation Loss: 1.2109134392860608\n",
      "No improvement in validation loss. Patience counter: 4/20\n"
     ]
    },
    {
     "name": "stdout",
     "output_type": "stream",
     "text": [
      "Epoch 56, Train Loss: 1.4157119487668133, Validation Loss: 1.177791154690278\n",
      "No improvement in validation loss. Patience counter: 5/20\n"
     ]
    },
    {
     "name": "stdout",
     "output_type": "stream",
     "text": [
      "Epoch 57, Train Loss: 1.4163019947953277, Validation Loss: 1.1593710034321516\n",
      "No improvement in validation loss. Patience counter: 6/20\n"
     ]
    },
    {
     "name": "stdout",
     "output_type": "stream",
     "text": [
      "Epoch 58, Train Loss: 1.4131700159429195, Validation Loss: 1.1528679841603988\n",
      "No improvement in validation loss. Patience counter: 7/20\n"
     ]
    },
    {
     "name": "stdout",
     "output_type": "stream",
     "text": [
      "Epoch 59, Train Loss: 1.4121470996311734, Validation Loss: 1.2314621430176955\n",
      "No improvement in validation loss. Patience counter: 8/20\n"
     ]
    },
    {
     "name": "stdout",
     "output_type": "stream",
     "text": [
      "Epoch 60, Train Loss: 1.4130214423923702, Validation Loss: 1.1504026911197565\n",
      "Validation loss improved to 1.1504026911197565, resetting patience.\n"
     ]
    },
    {
     "name": "stdout",
     "output_type": "stream",
     "text": [
      "Epoch 61, Train Loss: 1.4112285688683226, Validation Loss: 1.2400320199819712\n",
      "No improvement in validation loss. Patience counter: 1/20\n"
     ]
    },
    {
     "name": "stdout",
     "output_type": "stream",
     "text": [
      "Epoch 62, Train Loss: 1.4163924946889772, Validation Loss: 1.1807236711184184\n",
      "No improvement in validation loss. Patience counter: 2/20\n"
     ]
    },
    {
     "name": "stdout",
     "output_type": "stream",
     "text": [
      "Epoch 63, Train Loss: 1.4111225261793032, Validation Loss: 1.1766429928632882\n",
      "No improvement in validation loss. Patience counter: 3/20\n"
     ]
    },
    {
     "name": "stdout",
     "output_type": "stream",
     "text": [
      "Epoch 64, Train Loss: 1.411568133385627, Validation Loss: 1.1774749761972672\n",
      "No improvement in validation loss. Patience counter: 4/20\n"
     ]
    },
    {
     "name": "stdout",
     "output_type": "stream",
     "text": [
      "Epoch 65, Train Loss: 1.4113162158609747, Validation Loss: 1.1885075223751558\n",
      "No improvement in validation loss. Patience counter: 5/20\n"
     ]
    },
    {
     "name": "stdout",
     "output_type": "stream",
     "text": [
      "Epoch 66, Train Loss: 1.4129468324420216, Validation Loss: 1.145064389705658\n",
      "Validation loss improved to 1.145064389705658, resetting patience.\n"
     ]
    },
    {
     "name": "stdout",
     "output_type": "stream",
     "text": [
      "Epoch 67, Train Loss: 1.4141235927959064, Validation Loss: 1.1735610601229545\n",
      "No improvement in validation loss. Patience counter: 1/20\n"
     ]
    },
    {
     "name": "stdout",
     "output_type": "stream",
     "text": [
      "Epoch 68, Train Loss: 1.4131811760284088, Validation Loss: 1.168011583120395\n",
      "No improvement in validation loss. Patience counter: 2/20\n"
     ]
    },
    {
     "name": "stdout",
     "output_type": "stream",
     "text": [
      "Epoch 69, Train Loss: 1.4121673006277817, Validation Loss: 1.172528346073933\n",
      "No improvement in validation loss. Patience counter: 3/20\n"
     ]
    },
    {
     "name": "stdout",
     "output_type": "stream",
     "text": [
      "Epoch 70, Train Loss: 1.4155410972270337, Validation Loss: 1.1583708347418369\n",
      "No improvement in validation loss. Patience counter: 4/20\n"
     ]
    },
    {
     "name": "stdout",
     "output_type": "stream",
     "text": [
      "Epoch 71, Train Loss: 1.4107686539272686, Validation Loss: 1.187872332181686\n",
      "No improvement in validation loss. Patience counter: 5/20\n"
     ]
    },
    {
     "name": "stdout",
     "output_type": "stream",
     "text": [
      "Epoch 72, Train Loss: 1.4135518650432208, Validation Loss: 1.17774272668056\n",
      "No improvement in validation loss. Patience counter: 6/20\n"
     ]
    },
    {
     "name": "stdout",
     "output_type": "stream",
     "text": [
      "Epoch 73, Train Loss: 1.411871213703365, Validation Loss: 1.1739756895945623\n",
      "No improvement in validation loss. Patience counter: 7/20\n"
     ]
    },
    {
     "name": "stdout",
     "output_type": "stream",
     "text": [
      "Epoch 74, Train Loss: 1.4094327710487031, Validation Loss: 1.1861717092685211\n",
      "No improvement in validation loss. Patience counter: 8/20\n"
     ]
    },
    {
     "name": "stdout",
     "output_type": "stream",
     "text": [
      "Epoch 75, Train Loss: 1.4095526658571684, Validation Loss: 1.1730849804022374\n",
      "No improvement in validation loss. Patience counter: 9/20\n"
     ]
    },
    {
     "name": "stdout",
     "output_type": "stream",
     "text": [
      "Epoch 76, Train Loss: 1.4077087140345312, Validation Loss: 1.1853073768126658\n",
      "No improvement in validation loss. Patience counter: 10/20\n"
     ]
    },
    {
     "name": "stdout",
     "output_type": "stream",
     "text": [
      "Epoch 77, Train Loss: 1.4112907793495681, Validation Loss: 1.1787101974854102\n",
      "No improvement in validation loss. Patience counter: 11/20\n"
     ]
    },
    {
     "name": "stdout",
     "output_type": "stream",
     "text": [
      "Epoch 78, Train Loss: 1.411106477857946, Validation Loss: 1.166141000466469\n",
      "No improvement in validation loss. Patience counter: 12/20\n"
     ]
    },
    {
     "name": "stdout",
     "output_type": "stream",
     "text": [
      "Epoch 79, Train Loss: 1.4117207867758614, Validation Loss: 1.217246271096743\n",
      "No improvement in validation loss. Patience counter: 13/20\n"
     ]
    },
    {
     "name": "stdout",
     "output_type": "stream",
     "text": [
      "Epoch 80, Train Loss: 1.4118359821183342, Validation Loss: 1.2172994274359483\n",
      "No improvement in validation loss. Patience counter: 14/20\n"
     ]
    },
    {
     "name": "stdout",
     "output_type": "stream",
     "text": [
      "Epoch 81, Train Loss: 1.4082201728454002, Validation Loss: 1.200304071414165\n",
      "No improvement in validation loss. Patience counter: 15/20\n"
     ]
    },
    {
     "name": "stdout",
     "output_type": "stream",
     "text": [
      "Epoch 82, Train Loss: 1.413057760484926, Validation Loss: 1.1665779501963884\n",
      "No improvement in validation loss. Patience counter: 16/20\n"
     ]
    },
    {
     "name": "stdout",
     "output_type": "stream",
     "text": [
      "Epoch 83, Train Loss: 1.4115942928817247, Validation Loss: 1.1616390090722304\n",
      "No improvement in validation loss. Patience counter: 17/20\n"
     ]
    },
    {
     "name": "stdout",
     "output_type": "stream",
     "text": [
      "Epoch 84, Train Loss: 1.4105623612037073, Validation Loss: 1.2016541481018066\n",
      "No improvement in validation loss. Patience counter: 18/20\n"
     ]
    },
    {
     "name": "stdout",
     "output_type": "stream",
     "text": [
      "Epoch 85, Train Loss: 1.4087155567420708, Validation Loss: 1.2129054729755109\n",
      "No improvement in validation loss. Patience counter: 19/20\n"
     ]
    },
    {
     "name": "stdout",
     "output_type": "stream",
     "text": [
      "Epoch 86, Train Loss: 1.4109657112058702, Validation Loss: 1.1813578021832\n",
      "No improvement in validation loss. Patience counter: 20/20\n",
      "Early stopping triggered. Stopping training at epoch 86.\n",
      "Loaded best model weights based on validation loss.\n"
     ]
    }
   ],
   "source": [
    "import copy  # 用于保存模型的最佳状态\n",
    "\n",
    "# Early Stopping 参数\n",
    "patience = 20  # 如果验证损失在 10 个 epoch 中没有改善，停止训练\n",
    "min_delta = 1e-4  # 最小改善幅度\n",
    "patience_counter = 0\n",
    "best_val_loss = float('inf')  # 初始设置为正无穷大\n",
    "best_model_weights = copy.deepcopy(estim.model.state_dict())  # 保存最佳模型权重\n",
    "train_losses = []\n",
    "val_losses = []\n",
    "\n",
    "# 训练 500 个 epoch\n",
    "for epoch in range(500):\n",
    "    train_loss, val_loss = train_epoch(estim.model, optimizer, loss_fn, train_loader, val_loader)\n",
    "    print(f'Epoch {epoch+1}, Train Loss: {train_loss}, Validation Loss: {val_loss}')\n",
    "    train_losses.append(train_loss)\n",
    "    val_losses.append(val_loss)\n",
    "    \n",
    "    # Early Stopping 检查\n",
    "    if val_loss < best_val_loss - min_delta:\n",
    "        best_val_loss = val_loss  # 更新最佳验证损失\n",
    "        patience_counter = 0  # 重置 patience 计数器\n",
    "        best_model_weights = copy.deepcopy(estim.model.state_dict())  # 保存当前最佳模型\n",
    "        print(f\"Validation loss improved to {best_val_loss}, resetting patience.\")\n",
    "    else:\n",
    "        patience_counter += 1\n",
    "        print(f\"No improvement in validation loss. Patience counter: {patience_counter}/{patience}\")\n",
    "    \n",
    "    # 如果 patience_counter 超过设置的 patience，停止训练\n",
    "    if patience_counter >= patience:\n",
    "        print(f\"Early stopping triggered. Stopping training at epoch {epoch+1}.\")\n",
    "        break\n",
    "\n",
    "# 恢复到训练中性能最好的模型权重\n",
    "estim.model.load_state_dict(best_model_weights)\n",
    "print(\"Loaded best model weights based on validation loss.\")"
   ]
  },
  {
   "cell_type": "code",
   "execution_count": 12,
   "metadata": {
    "execution": {
     "iopub.execute_input": "2025-04-14T11:49:24.870835Z",
     "iopub.status.busy": "2025-04-14T11:49:24.870647Z",
     "iopub.status.idle": "2025-04-14T11:49:26.993731Z",
     "shell.execute_reply": "2025-04-14T11:49:26.992878Z"
    }
   },
   "outputs": [],
   "source": [
    "# 8. 使用 KNN 替代测试阶段的 FC 分类层\n",
    "# 使用 encoder 提取训练集和测试集的 embedding\n",
    "estim.model.eval()\n",
    "with torch.no_grad():\n",
    "    train_embeddings = estim.model.encoder(torch.tensor(X_train).float().to(device)).cpu().numpy()\n",
    "    test_embeddings = estim.model.encoder(torch.tensor(X_test).float().to(device)).cpu().numpy()"
   ]
  },
  {
   "cell_type": "code",
   "execution_count": 13,
   "metadata": {
    "execution": {
     "iopub.execute_input": "2025-04-14T11:49:26.995931Z",
     "iopub.status.busy": "2025-04-14T11:49:26.995755Z",
     "iopub.status.idle": "2025-04-14T11:49:27.579169Z",
     "shell.execute_reply": "2025-04-14T11:49:27.578593Z"
    }
   },
   "outputs": [
    {
     "name": "stdout",
     "output_type": "stream",
     "text": [
      "KNN Accuracy on Test Data: 0.635609521519596\n",
      "Weighted F1 Score: 0.6262511084309463\n",
      "Macro F1 Score: 0.4826136353973677\n",
      "Random Guess Accuracy: 0.13330938159201633\n",
      "                         precision    recall  f1-score   support\n",
      "\n",
      "                B_Cells       0.73      0.74      0.74       770\n",
      "           CD4+_T_Cells       0.52      0.66      0.58      1264\n",
      "           CD8+_T_Cells       0.53      0.51      0.52      1069\n",
      "                 DCIS_1       0.38      0.40      0.39      1927\n",
      "                 DCIS_2       0.40      0.30      0.34      1739\n",
      "            Endothelial       0.83      0.88      0.86      1347\n",
      "              IRF7+_DCs       0.72      0.73      0.72        73\n",
      "         Invasive_Tumor       0.61      0.69      0.65      5153\n",
      "             LAMP3+_DCs       0.75      0.13      0.23        45\n",
      "          Macrophages_1       0.69      0.77      0.72      1646\n",
      "          Macrophages_2       0.46      0.27      0.34       256\n",
      "             Mast_Cells       1.00      0.04      0.07        28\n",
      "          Myoepi_ACTA2+       0.71      0.69      0.70       995\n",
      "          Myoepi_KRT15+       0.85      0.64      0.73       429\n",
      "      Perivascular-Like       0.44      0.25      0.32       142\n",
      "  Prolif_Invasive_Tumor       0.54      0.49      0.51       564\n",
      "                Stromal       0.77      0.79      0.78      6254\n",
      "Stromal_&_T_Cell_Hybrid       0.00      0.00      0.00        93\n",
      "  T_Cell_&_Tumor_Hybrid       0.18      0.10      0.13        88\n",
      "              Unlabeled       0.50      0.25      0.33      1072\n",
      "\n",
      "               accuracy                           0.64     24954\n",
      "              macro avg       0.58      0.47      0.48     24954\n",
      "           weighted avg       0.63      0.64      0.63     24954\n",
      "\n"
     ]
    }
   ],
   "source": [
    "import pandas as pd\n",
    "from sklearn.neighbors import KNeighborsClassifier\n",
    "from sklearn.metrics import accuracy_score, f1_score, classification_report\n",
    "\n",
    "    \n",
    "\n",
    "    # 初始化和训练KNN分类器\n",
    "knn = KNeighborsClassifier(n_neighbors=5)\n",
    "knn.fit(train_embeddings, y_train)\n",
    "    \n",
    "    # 模型预测\n",
    "predictions = knn.predict(test_embeddings)\n",
    "\n",
    "    # 计算准确率和 F1 分数\n",
    "accuracy = accuracy_score(y_test, predictions)\n",
    "print(f\"KNN Accuracy on Test Data: {accuracy}\")\n",
    "f1 = f1_score(y_test, predictions, average='weighted')\n",
    "print(f\"Weighted F1 Score: {f1}\")\n",
    "    \n",
    "macro_f1 = f1_score(y_test, predictions, average='macro')\n",
    "print(f'Macro F1 Score: {macro_f1}')\n",
    "\n",
    "    # 计算随机猜测的准确率\n",
    "class_probabilities = np.bincount(y_test) / len(y_test)\n",
    "random_accuracy = np.sum(class_probabilities ** 2)\n",
    "print(f\"Random Guess Accuracy: {random_accuracy}\")\n",
    "\n",
    "    # 生成分类报告\n",
    "report = classification_report(y_test, predictions, target_names=label_encoder.classes_)\n",
    "print(report)"
   ]
  },
  {
   "cell_type": "code",
   "execution_count": 14,
   "metadata": {
    "execution": {
     "iopub.execute_input": "2025-04-14T11:49:27.580737Z",
     "iopub.status.busy": "2025-04-14T11:49:27.580579Z",
     "iopub.status.idle": "2025-04-14T11:49:38.078810Z",
     "shell.execute_reply": "2025-04-14T11:49:38.078206Z"
    }
   },
   "outputs": [],
   "source": [
    "with torch.no_grad():\n",
    "    new_data_tensor = torch.tensor(new_data).float().to(device)\n",
    "    SSL_embeddings = estim.model.encoder(new_data_tensor).detach().cpu().numpy()\n",
    "new_adata = sc.read_h5ad(data_dir)\n",
    "new_adata.obsm[f'SSL_RM_FT_{random_seed}'] = SSL_embeddings\n",
    "new_adata.uns[f'RM_FT_y_test_{random_seed}'] = y_test\n",
    "new_adata.uns[f'RM_FT_predictions_{random_seed}'] = predictions\n",
    "new_adata.uns[f'RM_FT_target_names_{random_seed}'] = label_encoder.classes_\n",
    "new_adata.uns[f'RM_FT_train_loss_{random_seed}'] = train_losses\n",
    "new_adata.uns[f'RM_FT_val_loss_{random_seed}'] = val_losses\n",
    "new_adata.write_h5ad(data_dir)"
   ]
  },
  {
   "cell_type": "code",
   "execution_count": 15,
   "metadata": {
    "execution": {
     "iopub.execute_input": "2025-04-14T11:49:38.080710Z",
     "iopub.status.busy": "2025-04-14T11:49:38.080543Z",
     "iopub.status.idle": "2025-04-14T11:49:38.089978Z",
     "shell.execute_reply": "2025-04-14T11:49:38.089513Z"
    }
   },
   "outputs": [
    {
     "name": "stdout",
     "output_type": "stream",
     "text": [
      "Metrics Summary:\n",
      "init_train_loss\tinit_val_loss\tconverged_epoch\tconverged_val_loss\tmacro_f1\tweighted_f1\tmicro_f1\n",
      "1.761\t1.344\t66\t1.145\t0.483\t0.626\t0.636\n"
     ]
    }
   ],
   "source": [
    "\n",
    "import pandas as pd\n",
    "import os\n",
    "import re\n",
    "\n",
    "# 当前 Notebook 文件名\n",
    "notebook_name = \"uniport_imputed_Xenium_breast_cancer_sample1_replicate1_random_mask_fine_tune_42.ipynb\"\n",
    "\n",
    "# 初始化需要打印的值\n",
    "init_train_loss = train_losses[0] if 'train_losses' in globals() else None\n",
    "init_val_loss = val_losses[0] if 'val_losses' in globals() else None\n",
    "converged_epoch = len(train_losses) - patience if 'train_losses' in globals() else None\n",
    "converged_val_loss = best_val_loss if 'best_val_loss' in globals() else None\n",
    "\n",
    "# 打印所有所需的指标\n",
    "print(\"Metrics Summary:\")\n",
    "if 'train_losses' in globals():\n",
    "    print(f\"init_train_loss\\tinit_val_loss\\tconverged_epoch\\tconverged_val_loss\\tmacro_f1\\tweighted_f1\\tmicro_f1\")\n",
    "    print(f\"{init_train_loss:.3f}\\t{init_val_loss:.3f}\\t{converged_epoch}\\t{converged_val_loss:.3f}\\t{macro_f1:.3f}\\t{f1:.3f}\\t{accuracy:.3f}\")\n",
    "else:\n",
    "    print(f\"macro_f1\\tweighted_f1\\tmicro_f1\")\n",
    "    print(f\"{macro_f1:.3f}\\t{f1:.3f}\\t{accuracy:.3f}\")\n",
    "\n",
    "# 保存结果到 CSV 文件\n",
    "output_data = {\n",
    "    'dataset_split_random_seed': [int(random_seed)],\n",
    "    'dataset': ['uniport_imputed_xenium_breast_cancer_sample1_replicate1'],\n",
    "    'method': [re.search(r'replicate1_(.*?)_\\d+', notebook_name).group(1)],\n",
    "    'init_train_loss': [init_train_loss if init_train_loss is not None else ''],\n",
    "    'init_val_loss': [init_val_loss if init_val_loss is not None else ''],\n",
    "    'converged_epoch': [converged_epoch if converged_epoch is not None else ''],\n",
    "    'converged_val_loss': [converged_val_loss if converged_val_loss is not None else ''],\n",
    "    'macro_f1': [macro_f1],\n",
    "    'weighted_f1': [f1],\n",
    "    'micro_f1': [accuracy]\n",
    "}\n",
    "output_df = pd.DataFrame(output_data)\n",
    "\n",
    "# 保存到当前目录下名为 results 的文件夹中\n",
    "if not os.path.exists('results'):\n",
    "    os.makedirs('results')\n",
    "\n",
    "csv_filename = f\"results/{os.path.splitext(notebook_name)[0]}_results.csv\"\n",
    "output_df.to_csv(csv_filename, index=False)\n"
   ]
  }
 ],
 "metadata": {
  "kernelspec": {
   "display_name": "ssl",
   "language": "python",
   "name": "python3"
  },
  "language_info": {
   "codemirror_mode": {
    "name": "ipython",
    "version": 3
   },
   "file_extension": ".py",
   "mimetype": "text/x-python",
   "name": "python",
   "nbconvert_exporter": "python",
   "pygments_lexer": "ipython3",
   "version": "3.10.13"
  }
 },
 "nbformat": 4,
 "nbformat_minor": 2
}
